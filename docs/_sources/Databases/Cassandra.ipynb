{
 "cells": [
  {
   "attachments": {},
   "cell_type": "markdown",
   "metadata": {},
   "source": [
    "# Basic database with Cassandra\n",
    "Assumptions:\n",
    "- Docker installed on system\n",
    "- \"cassandra:latest\" image installed in docker\n",
    "- Python/Conda environment with python 3.8*  \n",
    "\n",
    "*Terminal, e.g.,  \n",
    "```\n",
    "conda create --name cassy38 python=3.8 jupyter scikit-learn\n",
    "conda activate cassy38  \n",
    "pip install cassandra-driver cql\n",
    "```"
   ]
  },
  {
   "attachments": {},
   "cell_type": "markdown",
   "metadata": {},
   "source": [
    "## Spinning up a local cassandra instance in a terminal\n",
    "```docker run --name my_cassandra cassandra:latest -p 9042:9042```  \n",
    "  \n",
    "If this works for you, hourra! Otherwise, try the following:  \n",
    "- Open Docker Desktop\n",
    "- Run the cassandra image with optional settings, opening 9042 port (left-hand side)."
   ]
  },
  {
   "cell_type": "code",
   "execution_count": 2,
   "metadata": {},
   "outputs": [],
   "source": [
    "# Connecting to Cassandra\n",
    "from cassandra.cluster import Cluster\n",
    "cluster = Cluster(['localhost'], port=9042)\n",
    "session = cluster.connect()"
   ]
  },
  {
   "cell_type": "code",
   "execution_count": 3,
   "metadata": {},
   "outputs": [
    {
     "data": {
      "text/plain": [
       "<cassandra.cluster.ResultSet at 0x106a81220>"
      ]
     },
     "execution_count": 3,
     "metadata": {},
     "output_type": "execute_result"
    }
   ],
   "source": [
    "# Set up new keyspace (first time only)\n",
    "#                                              name of keyspace                        replication strategy           replication factor\n",
    "session.execute(\"CREATE KEYSPACE IF NOT EXISTS my_first_keyspace WITH REPLICATION = { 'class' : 'SimpleStrategy', 'replication_factor' : 1 };\")"
   ]
  },
  {
   "cell_type": "code",
   "execution_count": 4,
   "metadata": {},
   "outputs": [
    {
     "data": {
      "text/plain": [
       "<cassandra.cluster.ResultSet at 0x10b883700>"
      ]
     },
     "execution_count": 4,
     "metadata": {},
     "output_type": "execute_result"
    }
   ],
   "source": [
    "# Create a new table (first time only)\n",
    "session.set_keyspace('my_first_keyspace')\n",
    "session.execute(\"CREATE TABLE IF NOT EXISTS my_first_table (ind int PRIMARY KEY, company text, model text);\")"
   ]
  },
  {
   "cell_type": "code",
   "execution_count": 5,
   "metadata": {},
   "outputs": [
    {
     "data": {
      "text/plain": [
       "<cassandra.cluster.ResultSet at 0x10b85eac0>"
      ]
     },
     "execution_count": 5,
     "metadata": {},
     "output_type": "execute_result"
    }
   ],
   "source": [
    "# Insert some data (ind is the primary key, must be unique)\n",
    "session.execute(\"INSERT INTO my_first_table (ind, company, model) VALUES (1, 'Tesla', 'Model S');\")\n",
    "session.execute(\"INSERT INTO my_first_table (ind, company, model) VALUES (2, 'Tesla', 'Model 3');\")\n",
    "session.execute(\"INSERT INTO my_first_table (ind, company, model) VALUES (3, 'Polestar', '3');\")"
   ]
  },
  {
   "cell_type": "code",
   "execution_count": 5,
   "metadata": {},
   "outputs": [
    {
     "name": "stdout",
     "output_type": "stream",
     "text": [
      "Row(ind=1, company='Tesla', model='Model S')\n",
      "Row(ind=2, company='Tesla', model='Model 3')\n",
      "Row(ind=3, company='Polestar', model='3')\n"
     ]
    }
   ],
   "source": [
    "# Query the data\n",
    "rows = session.execute(\"SELECT * FROM my_first_table;\")\n",
    "for i in rows:\n",
    "    print(i)"
   ]
  },
  {
   "cell_type": "code",
   "execution_count": 6,
   "metadata": {},
   "outputs": [
    {
     "ename": "InvalidRequest",
     "evalue": "Error from server: code=2200 [Invalid query] message=\"Cannot execute this query as it might involve data filtering and thus may have unpredictable performance. If you want to execute this query despite the performance unpredictability, use ALLOW FILTERING\"",
     "output_type": "error",
     "traceback": [
      "\u001b[0;31m---------------------------------------------------------------------------\u001b[0m",
      "\u001b[0;31mInvalidRequest\u001b[0m                            Traceback (most recent call last)",
      "Cell \u001b[0;32mIn[6], line 2\u001b[0m\n\u001b[1;32m      1\u001b[0m \u001b[39m# More specific query\u001b[39;00m\n\u001b[0;32m----> 2\u001b[0m prepared_statement \u001b[39m=\u001b[39m session\u001b[39m.\u001b[39;49mprepare(\u001b[39m\"\u001b[39;49m\u001b[39mSELECT * FROM my_first_table WHERE company=?;\u001b[39;49m\u001b[39m\"\u001b[39;49m) \u001b[39m# <- will fail as company is not a key\u001b[39;00m\n\u001b[1;32m      3\u001b[0m teslas \u001b[39m=\u001b[39m session\u001b[39m.\u001b[39mexecute(prepared_statement, [\u001b[39m'\u001b[39m\u001b[39mTesla\u001b[39m\u001b[39m'\u001b[39m])\n\u001b[1;32m      4\u001b[0m \u001b[39mfor\u001b[39;00m i \u001b[39min\u001b[39;00m teslas:\n",
      "File \u001b[0;32m~/miniforge3/envs/cassy38/lib/python3.8/site-packages/cassandra/cluster.py:3088\u001b[0m, in \u001b[0;36mcassandra.cluster.Session.prepare\u001b[0;34m()\u001b[0m\n",
      "File \u001b[0;32m~/miniforge3/envs/cassy38/lib/python3.8/site-packages/cassandra/cluster.py:3085\u001b[0m, in \u001b[0;36mcassandra.cluster.Session.prepare\u001b[0;34m()\u001b[0m\n",
      "File \u001b[0;32m~/miniforge3/envs/cassy38/lib/python3.8/site-packages/cassandra/cluster.py:4917\u001b[0m, in \u001b[0;36mcassandra.cluster.ResponseFuture.result\u001b[0;34m()\u001b[0m\n",
      "\u001b[0;31mInvalidRequest\u001b[0m: Error from server: code=2200 [Invalid query] message=\"Cannot execute this query as it might involve data filtering and thus may have unpredictable performance. If you want to execute this query despite the performance unpredictability, use ALLOW FILTERING\""
     ]
    }
   ],
   "source": [
    "# More specific query\n",
    "prepared_statement = session.prepare(\"SELECT * FROM my_first_table WHERE company=?;\") # <- will fail as company is not a key\n",
    "teslas = session.execute(prepared_statement, ['Tesla'])\n",
    "for i in teslas:\n",
    "    print(i)"
   ]
  },
  {
   "attachments": {},
   "cell_type": "markdown",
   "metadata": {},
   "source": [
    "## Cassandra filtering\n",
    "Cassandra is inherently a distributed production database. Selecting as above may require downloading all data from a node, then filtering based on the WHERE part (only PRIMARY KEYs are centrally known). Solutions:  \n",
    "- If the table is small or most of the data will satisfy the query, add ```ALLOW FILTERING``` at the end of the query (not recommended if not known). \n",
    "- Or make sure the WHERE clause points to one of the keys (see below)."
   ]
  },
  {
   "cell_type": "code",
   "execution_count": 7,
   "metadata": {},
   "outputs": [
    {
     "data": {
      "text/plain": [
       "<cassandra.cluster.ResultSet at 0x1106b9fa0>"
      ]
     },
     "execution_count": 7,
     "metadata": {},
     "output_type": "execute_result"
    }
   ],
   "source": [
    "# Create a new table (observe keys)\n",
    "session.execute(\"CREATE TABLE IF NOT EXISTS car_table (company text, model text, PRIMARY KEY(company, model));\")"
   ]
  },
  {
   "cell_type": "code",
   "execution_count": 8,
   "metadata": {},
   "outputs": [
    {
     "data": {
      "text/plain": [
       "<cassandra.cluster.ResultSet at 0x116308cd0>"
      ]
     },
     "execution_count": 8,
     "metadata": {},
     "output_type": "execute_result"
    }
   ],
   "source": [
    "# Insert some data (combination of company and model must be unique)\n",
    "session.execute(\"INSERT INTO car_table (company, model) VALUES ('Tesla', 'Model S');\")\n",
    "session.execute(\"INSERT INTO car_table (company, model) VALUES ('Tesla', 'Model 3');\")\n",
    "session.execute(\"INSERT INTO car_table (company, model) VALUES ('Polestar', '3');\")"
   ]
  },
  {
   "cell_type": "code",
   "execution_count": 9,
   "metadata": {},
   "outputs": [
    {
     "name": "stdout",
     "output_type": "stream",
     "text": [
      "Row(company='Tesla', model='Model 3')\n",
      "Row(company='Tesla', model='Model S')\n"
     ]
    }
   ],
   "source": [
    "# More specific query now works\n",
    "prepared_statement = session.prepare(\"SELECT * FROM car_table WHERE company=?;\")\n",
    "teslas = session.execute(prepared_statement, ['Tesla'])\n",
    "for i in teslas:\n",
    "    print(i)"
   ]
  },
  {
   "attachments": {},
   "cell_type": "markdown",
   "metadata": {},
   "source": [
    "# JSON in Cassandra\n"
   ]
  },
  {
   "cell_type": "code",
   "execution_count": 1,
   "metadata": {},
   "outputs": [],
   "source": [
    "# Imports\n",
    "import datetime as dt\n",
    "import requests\n",
    "import json"
   ]
  },
  {
   "attachments": {},
   "cell_type": "markdown",
   "metadata": {},
   "source": [
    "### Read previously saved JSON file forecast.json to memory"
   ]
  },
  {
   "cell_type": "code",
   "execution_count": 2,
   "metadata": {},
   "outputs": [],
   "source": [
    "with open('../APIs/downloads/forecast.json', 'r') as f:\n",
    "    forecast = json.load(f)"
   ]
  },
  {
   "cell_type": "code",
   "execution_count": 3,
   "metadata": {},
   "outputs": [
    {
     "data": {
      "text/plain": [
       "\"{'cod': '200', 'message': 0, 'cnt': 40, 'list': [{'dt': 1684508400, 'main': {'temp': 287.22, 'feels_like': 286.43, 'temp_min': 287.22, 'temp_max': 287.93, 'pressure': 1028, 'sea_level': 1028, 'grnd_level': 1011, 'humidity': 67, 'temp_kf': -0.71}, 'weather': [{'id': 802, 'main': 'Clouds', 'description': 'scattered clouds', 'icon': '03d'}], 'clouds': {'all': 25}, 'wind': {'speed': 4.25, 'deg': 191, 'gust': 5.17}, 'visibility': 10000, 'pop': 0, 'sys': {'pod': 'd'}, 'dt_txt': '2023-05-19 15:00:00'}, {'dt': 1684519200, 'main': {'temp': 285.82, 'feels_like': 285.05, 'temp_min': 285.3, 'temp_max': 285.82, 'pressure': 1029, 'sea_level': 1029, 'grnd_level': 1012, 'humidity': 73, 'temp_kf': 0.52}, 'weather': [{'id': 801, 'main': 'Clouds', 'description': 'few clouds', 'icon': '02d'}], 'clouds': {'all': 16}, 'wind': {'speed': 3.52, 'deg': 186, 'gust': 6.59}, 'visibility': 10000, 'pop': 0, 'sys': {'pod': 'd'}, 'dt_txt': '2023-05-19 18:00:00'}, {'dt': 1684530000, 'main': {'temp': 280.91, 'feels_like': 279.91, 'temp_min': 280.91, 'temp_max': 280.91, 'pressure': 1030, 'sea_level': 1030, 'grnd_level': 1013, 'humidity': 97, 'temp_kf': 0}, 'weather': [{'id': 800, 'main': 'Clear', 'description': 'clear sky', 'icon': '01n'}], 'clouds': {'all': 7}, 'wind': {'speed': 1.81, 'deg': 162, 'gust': 6}, 'visibility': 10000, 'pop': 0, 'sys': {'pod': 'n'}, 'dt_txt': '2023-05-19 21:00:00'}, {'dt': 1684540800, 'main': {'temp': 279.97, 'feels_like': 279.97, 'temp_min': 279.97, 'temp_max': 279.97, 'pressure': 1030, 'sea_level': 1030, 'grnd_level': 1013, 'humidity': 97, 'temp_kf': 0}, 'weather': [{'id': 801, 'main': 'Clouds', 'description': 'few clouds', 'icon': '02n'}], 'clouds': {'all': 12}, 'wind': {'speed': 0.99, 'deg': 160, 'gust': 1.02}, 'visibility': 10000, 'pop': 0, 'sys': {'pod': 'n'}, 'dt_txt': '2023-05-20 00:00:00'}, {'dt': 1684551600, 'main': {'temp': 279.49, 'feels_like': 279.49, 'temp_min': 279.49, 'temp_max': 279.49, 'pressure': 1031, 'sea_level': 1031, 'grnd_level': 1013, 'humidity': 97, 'temp_kf': 0}, 'weather': [{'id': 800, 'main': 'Clear', 'description': 'clear sky', 'icon': '01d'}], 'clouds': {'all': 10}, 'wind': {'speed': 1.03, 'deg': 146, 'gust': 1.26}, 'visibility': 10000, 'pop': 0, 'sys': {'pod': 'd'}, 'dt_txt': '2023-05-20 03:00:00'}, {'dt': 1684562400, 'main': {'temp': 284.91, 'feels_like': 284.13, 'temp_min': 284.91, 'temp_max': 284.91, 'pressure': 1031, 'sea_level': 1031, 'grnd_level': 1014, 'humidity': 76, 'temp_kf': 0}, 'weather': [{'id': 800, 'main': 'Clear', 'description': 'clear sky', 'icon': '01d'}], 'clouds': {'all': 9}, 'wind': {'speed': 1.73, 'deg': 186, 'gust': 3.38}, 'visibility': 10000, 'pop': 0, 'sys': {'pod': 'd'}, 'dt_txt': '2023-05-20 06:00:00'}, {'dt': 1684573200, 'main': {'temp': 290, 'feels_like': 289.05, 'temp_min': 290, 'temp_max': 290, 'pressure': 1030, 'sea_level': 1030, 'grnd_level': 1013, 'humidity': 50, 'temp_kf': 0}, 'weather': [{'id': 800, 'main': 'Clear', 'description': 'clear sky', 'icon': '01d'}], 'clouds': {'all': 2}, 'wind': {'speed': 3.05, 'deg': 191, 'gust': 4.21}, 'visibility': 10000, 'pop': 0, 'sys': {'pod': 'd'}, 'dt_txt': '2023-05-20 09:00:00'}, {'dt': 1684584000, 'main': {'temp': 291.99, 'feels_like': 290.87, 'temp_min': 291.99, 'temp_max': 291.99, 'pressure': 1029, 'sea_level': 1029, 'grnd_level': 1013, 'humidity': 36, 'temp_kf': 0}, 'weather': [{'id': 800, 'main': 'Clear', 'description': 'clear sky', 'icon': '01d'}], 'clouds': {'all': 1}, 'wind': {'speed': 3.7, 'deg': 199, 'gust': 4.77}, 'visibility': 10000, 'pop': 0, 'sys': {'pod': 'd'}, 'dt_txt': '2023-05-20 12:00:00'}, {'dt': 1684594800, 'main': {'temp': 291.74, 'feels_like': 290.46, 'temp_min': 291.74, 'temp_max': 291.74, 'pressure': 1028, 'sea_level': 1028, 'grnd_level': 1012, 'humidity': 31, 'temp_kf': 0}, 'weather': [{'id': 800, 'main': 'Clear', 'description': 'clear sky', 'icon': '01d'}], 'clouds': {'all': 0}, 'wind': {'speed': 3.5, 'deg': 199, 'gust': 5}, 'visibility': 10000, 'pop': 0, 'sys': {'pod': 'd'}, 'dt_txt': '2023-05-20 15:00:00'}, {'dt': 1684605600, 'main': {'temp': 289.34, 'feels_like': 288.11, 'temp_min': 289.34, 'temp_max': 289.34, 'pressure': 1027, 'sea_level': 1027, 'grnd_level': 1011, 'humidity': 42, 'temp_kf': 0}, 'weather': [{'id': 800, 'main': 'Clear', 'description': 'clear sky', 'icon': '01d'}], 'clouds': {'all': 0}, 'wind': {'speed': 2.15, 'deg': 185, 'gust': 4.63}, 'visibility': 10000, 'pop': 0, 'sys': {'pod': 'd'}, 'dt_txt': '2023-05-20 18:00:00'}, {'dt': 1684616400, 'main': {'temp': 283.31, 'feels_like': 281.95, 'temp_min': 283.31, 'temp_max': 283.31, 'pressure': 1028, 'sea_level': 1028, 'grnd_level': 1010, 'humidity': 60, 'temp_kf': 0}, 'weather': [{'id': 800, 'main': 'Clear', 'description': 'clear sky', 'icon': '01n'}], 'clouds': {'all': 0}, 'wind': {'speed': 1.71, 'deg': 157, 'gust': 1.69}, 'visibility': 10000, 'pop': 0, 'sys': {'pod': 'n'}, 'dt_txt': '2023-05-20 21:00:00'}, {'dt': 1684627200, 'main': {'temp': 281.67, 'feels_like': 281.67, 'temp_min': 281.67, 'temp_max': 281.67, 'pressure': 1027, 'sea_level': 1027, 'grnd_level': 1010, 'humidity': 65, 'temp_kf': 0}, 'weather': [{'id': 800, 'main': 'Clear', 'description': 'clear sky', 'icon': '01n'}], 'clouds': {'all': 0}, 'wind': {'speed': 1.11, 'deg': 134, 'gust': 1.1}, 'visibility': 10000, 'pop': 0, 'sys': {'pod': 'n'}, 'dt_txt': '2023-05-21 00:00:00'}, {'dt': 1684638000, 'main': {'temp': 280.97, 'feels_like': 280.97, 'temp_min': 280.97, 'temp_max': 280.97, 'pressure': 1027, 'sea_level': 1027, 'grnd_level': 1010, 'humidity': 67, 'temp_kf': 0}, 'weather': [{'id': 802, 'main': 'Clouds', 'description': 'scattered clouds', 'icon': '03d'}], 'clouds': {'all': 44}, 'wind': {'speed': 0.42, 'deg': 88, 'gust': 0.44}, 'visibility': 10000, 'pop': 0, 'sys': {'pod': 'd'}, 'dt_txt': '2023-05-21 03:00:00'}, {'dt': 1684648800, 'main': {'temp': 287.21, 'feels_like': 285.92, 'temp_min': 287.21, 'temp_max': 287.21, 'pressure': 1027, 'sea_level': 1027, 'grnd_level': 1010, 'humidity': 48, 'temp_kf': 0}, 'weather': [{'id': 802, 'main': 'Clouds', 'description': 'scattered clouds', 'icon': '03d'}], 'clouds': {'all': 35}, 'wind': {'speed': 1.51, 'deg': 163, 'gust': 2.47}, 'visibility': 10000, 'pop': 0, 'sys': {'pod': 'd'}, 'dt_txt': '2023-05-21 06:00:00'}, {'dt': 1684659600, 'main': {'temp': 291.88, 'feels_like': 290.75, 'temp_min': 291.88, 'temp_max': 291.88, 'pressure': 1026, 'sea_level': 1026, 'grnd_level': 1010, 'humidity': 36, 'temp_kf': 0}, 'weather': [{'id': 802, 'main': 'Clouds', 'description': 'scattered clouds', 'icon': '03d'}], 'clouds': {'all': 27}, 'wind': {'speed': 2.13, 'deg': 185, 'gust': 2.4}, 'visibility': 10000, 'pop': 0, 'sys': {'pod': 'd'}, 'dt_txt': '2023-05-21 09:00:00'}, {'dt': 1684670400, 'main': {'temp': 293.79, 'feels_like': 292.72, 'temp_min': 293.79, 'temp_max': 293.79, 'pressure': 1026, 'sea_level': 1026, 'grnd_level': 1009, 'humidity': 31, 'temp_kf': 0}, 'weather': [{'id': 801, 'main': 'Clouds', 'description': 'few clouds', 'icon': '02d'}], 'clouds': {'all': 23}, 'wind': {'speed': 2.99, 'deg': 203, 'gust': 2.84}, 'visibility': 10000, 'pop': 0, 'sys': {'pod': 'd'}, 'dt_txt': '2023-05-21 12:00:00'}, {'dt': 1684681200, 'main': {'temp': 293.48, 'feels_like': 292.4, 'temp_min': 293.48, 'temp_max': 293.48, 'pressure': 1025, 'sea_level': 1025, 'grnd_level': 1009, 'humidity': 32, 'temp_kf': 0}, 'weather': [{'id': 801, 'main': 'Clouds', 'description': 'few clouds', 'icon': '02d'}], 'clouds': {'all': 19}, 'wind': {'speed': 3.15, 'deg': 202, 'gust': 2.97}, 'visibility': 10000, 'pop': 0, 'sys': {'pod': 'd'}, 'dt_txt': '2023-05-21 15:00:00'}, {'dt': 1684692000, 'main': {'temp': 290.46, 'feels_like': 289.4, 'temp_min': 290.46, 'temp_max': 290.46, 'pressure': 1025, 'sea_level': 1025, 'grnd_level': 1009, 'humidity': 44, 'temp_kf': 0}, 'weather': [{'id': 801, 'main': 'Clouds', 'description': 'few clouds', 'icon': '02d'}], 'clouds': {'all': 15}, 'wind': {'speed': 2.04, 'deg': 195, 'gust': 4.28}, 'visibility': 10000, 'pop': 0, 'sys': {'pod': 'd'}, 'dt_txt': '2023-05-21 18:00:00'}, {'dt': 1684702800, 'main': {'temp': 284.3, 'feels_like': 283.06, 'temp_min': 284.3, 'temp_max': 284.3, 'pressure': 1026, 'sea_level': 1026, 'grnd_level': 1009, 'humidity': 61, 'temp_kf': 0}, 'weather': [{'id': 800, 'main': 'Clear', 'description': 'clear sky', 'icon': '01n'}], 'clouds': {'all': 8}, 'wind': {'speed': 1.18, 'deg': 179, 'gust': 1.19}, 'visibility': 10000, 'pop': 0, 'sys': {'pod': 'n'}, 'dt_txt': '2023-05-21 21:00:00'}, {'dt': 1684713600, 'main': {'temp': 283.36, 'feels_like': 282.03, 'temp_min': 283.36, 'temp_max': 283.36, 'pressure': 1026, 'sea_level': 1026, 'grnd_level': 1009, 'humidity': 61, 'temp_kf': 0}, 'weather': [{'id': 801, 'main': 'Clouds', 'description': 'few clouds', 'icon': '02n'}], 'clouds': {'all': 14}, 'wind': {'speed': 0.55, 'deg': 88, 'gust': 0.57}, 'visibility': 10000, 'pop': 0, 'sys': {'pod': 'n'}, 'dt_txt': '2023-05-22 00:00:00'}, {'dt': 1684724400, 'main': {'temp': 283.23, 'feels_like': 281.99, 'temp_min': 283.23, 'temp_max': 283.23, 'pressure': 1026, 'sea_level': 1026, 'grnd_level': 1009, 'humidity': 65, 'temp_kf': 0}, 'weather': [{'id': 802, 'main': 'Clouds', 'description': 'scattered clouds', 'icon': '03d'}], 'clouds': {'all': 33}, 'wind': {'speed': 0.83, 'deg': 27, 'gust': 0.87}, 'visibility': 10000, 'pop': 0, 'sys': {'pod': 'd'}, 'dt_txt': '2023-05-22 03:00:00'}, {'dt': 1684735200, 'main': {'temp': 286.12, 'feels_like': 285.12, 'temp_min': 286.12, 'temp_max': 286.12, 'pressure': 1026, 'sea_level': 1026, 'grnd_level': 1009, 'humidity': 63, 'temp_kf': 0}, 'weather': [{'id': 803, 'main': 'Clouds', 'description': 'broken clouds', 'icon': '04d'}], 'clouds': {'all': 64}, 'wind': {'speed': 0.9, 'deg': 29, 'gust': 1.13}, 'visibility': 10000, 'pop': 0, 'sys': {'pod': 'd'}, 'dt_txt': '2023-05-22 06:00:00'}, {'dt': 1684746000, 'main': {'temp': 291.33, 'feels_like': 290.67, 'temp_min': 291.33, 'temp_max': 291.33, 'pressure': 1025, 'sea_level': 1025, 'grnd_level': 1008, 'humidity': 56, 'temp_kf': 0}, 'weather': [{'id': 500, 'main': 'Rain', 'description': 'light rain', 'icon': '10d'}], 'clouds': {'all': 94}, 'wind': {'speed': 0.97, 'deg': 151, 'gust': 2.13}, 'visibility': 10000, 'pop': 0.39, 'rain': {'3h': 0.18}, 'sys': {'pod': 'd'}, 'dt_txt': '2023-05-22 09:00:00'}, {'dt': 1684756800, 'main': {'temp': 291.44, 'feels_like': 290.94, 'temp_min': 291.44, 'temp_max': 291.44, 'pressure': 1023, 'sea_level': 1023, 'grnd_level': 1006, 'humidity': 62, 'temp_kf': 0}, 'weather': [{'id': 500, 'main': 'Rain', 'description': 'light rain', 'icon': '10d'}], 'clouds': {'all': 87}, 'wind': {'speed': 2.73, 'deg': 190, 'gust': 3.53}, 'visibility': 10000, 'pop': 0.36, 'rain': {'3h': 1.65}, 'sys': {'pod': 'd'}, 'dt_txt': '2023-05-22 12:00:00'}, {'dt': 1684767600, 'main': {'temp': 292.48, 'feels_like': 291.85, 'temp_min': 292.48, 'temp_max': 292.48, 'pressure': 1021, 'sea_level': 1021, 'grnd_level': 1005, 'humidity': 53, 'temp_kf': 0}, 'weather': [{'id': 500, 'main': 'Rain', 'description': 'light rain', 'icon': '10d'}], 'clouds': {'all': 45}, 'wind': {'speed': 3.2, 'deg': 184, 'gust': 4.09}, 'visibility': 10000, 'pop': 0.63, 'rain': {'3h': 0.75}, 'sys': {'pod': 'd'}, 'dt_txt': '2023-05-22 15:00:00'}, {'dt': 1684778400, 'main': {'temp': 289.79, 'feels_like': 289.1, 'temp_min': 289.79, 'temp_max': 289.79, 'pressure': 1020, 'sea_level': 1020, 'grnd_level': 1003, 'humidity': 61, 'temp_kf': 0}, 'weather': [{'id': 803, 'main': 'Clouds', 'description': 'broken clouds', 'icon': '04d'}], 'clouds': {'all': 55}, 'wind': {'speed': 2.07, 'deg': 194, 'gust': 4.43}, 'visibility': 10000, 'pop': 0.54, 'sys': {'pod': 'd'}, 'dt_txt': '2023-05-22 18:00:00'}, {'dt': 1684789200, 'main': {'temp': 285.65, 'feels_like': 284.94, 'temp_min': 285.65, 'temp_max': 285.65, 'pressure': 1019, 'sea_level': 1019, 'grnd_level': 1002, 'humidity': 76, 'temp_kf': 0}, 'weather': [{'id': 803, 'main': 'Clouds', 'description': 'broken clouds', 'icon': '04n'}], 'clouds': {'all': 83}, 'wind': {'speed': 1.97, 'deg': 179, 'gust': 3.36}, 'visibility': 10000, 'pop': 0.3, 'sys': {'pod': 'n'}, 'dt_txt': '2023-05-22 21:00:00'}, {'dt': 1684800000, 'main': {'temp': 286.19, 'feels_like': 285.35, 'temp_min': 286.19, 'temp_max': 286.19, 'pressure': 1018, 'sea_level': 1018, 'grnd_level': 1001, 'humidity': 69, 'temp_kf': 0}, 'weather': [{'id': 804, 'main': 'Clouds', 'description': 'overcast clouds', 'icon': '04n'}], 'clouds': {'all': 92}, 'wind': {'speed': 2.67, 'deg': 176, 'gust': 7.87}, 'visibility': 10000, 'pop': 0.14, 'sys': {'pod': 'n'}, 'dt_txt': '2023-05-23 00:00:00'}, {'dt': 1684810800, 'main': {'temp': 284.85, 'feels_like': 284.19, 'temp_min': 284.85, 'temp_max': 284.85, 'pressure': 1017, 'sea_level': 1017, 'grnd_level': 1000, 'humidity': 81, 'temp_kf': 0}, 'weather': [{'id': 500, 'main': 'Rain', 'description': 'light rain', 'icon': '10d'}], 'clouds': {'all': 100}, 'wind': {'speed': 1.67, 'deg': 146, 'gust': 3.15}, 'visibility': 10000, 'pop': 0.21, 'rain': {'3h': 0.15}, 'sys': {'pod': 'd'}, 'dt_txt': '2023-05-23 03:00:00'}, {'dt': 1684821600, 'main': {'temp': 285.99, 'feels_like': 285.31, 'temp_min': 285.99, 'temp_max': 285.99, 'pressure': 1016, 'sea_level': 1016, 'grnd_level': 999, 'humidity': 76, 'temp_kf': 0}, 'weather': [{'id': 804, 'main': 'Clouds', 'description': 'overcast clouds', 'icon': '04d'}], 'clouds': {'all': 100}, 'wind': {'speed': 2.23, 'deg': 169, 'gust': 4.25}, 'visibility': 10000, 'pop': 0.15, 'sys': {'pod': 'd'}, 'dt_txt': '2023-05-23 06:00:00'}, {'dt': 1684832400, 'main': {'temp': 286.81, 'feels_like': 286.14, 'temp_min': 286.81, 'temp_max': 286.81, 'pressure': 1017, 'sea_level': 1017, 'grnd_level': 1000, 'humidity': 73, 'temp_kf': 0}, 'weather': [{'id': 804, 'main': 'Clouds', 'description': 'overcast clouds', 'icon': '04d'}], 'clouds': {'all': 100}, 'wind': {'speed': 2.64, 'deg': 164, 'gust': 3.18}, 'visibility': 10000, 'pop': 0.44, 'sys': {'pod': 'd'}, 'dt_txt': '2023-05-23 09:00:00'}, {'dt': 1684843200, 'main': {'temp': 287.02, 'feels_like': 286.37, 'temp_min': 287.02, 'temp_max': 287.02, 'pressure': 1017, 'sea_level': 1017, 'grnd_level': 1000, 'humidity': 73, 'temp_kf': 0}, 'weather': [{'id': 804, 'main': 'Clouds', 'description': 'overcast clouds', 'icon': '04d'}], 'clouds': {'all': 100}, 'wind': {'speed': 2.33, 'deg': 126, 'gust': 2.4}, 'visibility': 10000, 'pop': 0.5, 'sys': {'pod': 'd'}, 'dt_txt': '2023-05-23 12:00:00'}, {'dt': 1684854000, 'main': {'temp': 285.44, 'feels_like': 284.94, 'temp_min': 285.44, 'temp_max': 285.44, 'pressure': 1017, 'sea_level': 1017, 'grnd_level': 1000, 'humidity': 85, 'temp_kf': 0}, 'weather': [{'id': 500, 'main': 'Rain', 'description': 'light rain', 'icon': '10d'}], 'clouds': {'all': 100}, 'wind': {'speed': 0.52, 'deg': 354, 'gust': 1.28}, 'visibility': 10000, 'pop': 0.4, 'rain': {'3h': 0.24}, 'sys': {'pod': 'd'}, 'dt_txt': '2023-05-23 15:00:00'}, {'dt': 1684864800, 'main': {'temp': 284.7, 'feels_like': 284.08, 'temp_min': 284.7, 'temp_max': 284.7, 'pressure': 1018, 'sea_level': 1018, 'grnd_level': 1001, 'humidity': 83, 'temp_kf': 0}, 'weather': [{'id': 804, 'main': 'Clouds', 'description': 'overcast clouds', 'icon': '04d'}], 'clouds': {'all': 99}, 'wind': {'speed': 2.34, 'deg': 327, 'gust': 4.89}, 'visibility': 10000, 'pop': 0.22, 'sys': {'pod': 'd'}, 'dt_txt': '2023-05-23 18:00:00'}, {'dt': 1684875600, 'main': {'temp': 282.89, 'feels_like': 282.63, 'temp_min': 282.89, 'temp_max': 282.89, 'pressure': 1019, 'sea_level': 1019, 'grnd_level': 1002, 'humidity': 87, 'temp_kf': 0}, 'weather': [{'id': 804, 'main': 'Clouds', 'description': 'overcast clouds', 'icon': '04n'}], 'clouds': {'all': 88}, 'wind': {'speed': 1.38, 'deg': 336, 'gust': 3.52}, 'visibility': 10000, 'pop': 0, 'sys': {'pod': 'n'}, 'dt_txt': '2023-05-23 21:00:00'}, {'dt': 1684886400, 'main': {'temp': 282.91, 'feels_like': 282.91, 'temp_min': 282.91, 'temp_max': 282.91, 'pressure': 1019, 'sea_level': 1019, 'grnd_level': 1002, 'humidity': 85, 'temp_kf': 0}, 'weather': [{'id': 804, 'main': 'Clouds', 'description': 'overcast clouds', 'icon': '04n'}], 'clouds': {'all': 93}, 'wind': {'speed': 1.14, 'deg': 338, 'gust': 1.74}, 'visibility': 10000, 'pop': 0, 'sys': {'pod': 'n'}, 'dt_txt': '2023-05-24 00:00:00'}, {'dt': 1684897200, 'main': {'temp': 281.43, 'feels_like': 281.43, 'temp_min': 281.43, 'temp_max': 281.43, 'pressure': 1019, 'sea_level': 1019, 'grnd_level': 1002, 'humidity': 90, 'temp_kf': 0}, 'weather': [{'id': 804, 'main': 'Clouds', 'description': 'overcast clouds', 'icon': '04d'}], 'clouds': {'all': 100}, 'wind': {'speed': 0.45, 'deg': 272, 'gust': 0.43}, 'visibility': 10000, 'pop': 0, 'sys': {'pod': 'd'}, 'dt_txt': '2023-05-24 03:00:00'}, {'dt': 1684908000, 'main': {'temp': 286.36, 'feels_like': 285.49, 'temp_min': 286.36, 'temp_max': 286.36, 'pressure': 1018, 'sea_level': 1018, 'grnd_level': 1002, 'humidity': 67, 'temp_kf': 0}, 'weather': [{'id': 803, 'main': 'Clouds', 'description': 'broken clouds', 'icon': '04d'}], 'clouds': {'all': 82}, 'wind': {'speed': 1.95, 'deg': 203, 'gust': 3.99}, 'visibility': 10000, 'pop': 0, 'sys': {'pod': 'd'}, 'dt_txt': '2023-05-24 06:00:00'}, {'dt': 1684918800, 'main': {'temp': 290.54, 'feels_like': 289.69, 'temp_min': 290.54, 'temp_max': 290.54, 'pressure': 1017, 'sea_level': 1017, 'grnd_level': 1001, 'humidity': 52, 'temp_kf': 0}, 'weather': [{'id': 804, 'main': 'Clouds', 'description': 'overcast clouds', 'icon': '04d'}], 'clouds': {'all': 96}, 'wind': {'speed': 4.1, 'deg': 197, 'gust': 5.82}, 'visibility': 10000, 'pop': 0, 'sys': {'pod': 'd'}, 'dt_txt': '2023-05-24 09:00:00'}, {'dt': 1684929600, 'main': {'temp': 292.32, 'feels_like': 291.49, 'temp_min': 292.32, 'temp_max': 292.32, 'pressure': 1016, 'sea_level': 1016, 'grnd_level': 1000, 'humidity': 46, 'temp_kf': 0}, 'weather': [{'id': 804, 'main': 'Clouds', 'description': 'overcast clouds', 'icon': '04d'}], 'clouds': {'all': 92}, 'wind': {'speed': 5.51, 'deg': 190, 'gust': 7}, 'visibility': 10000, 'pop': 0, 'sys': {'pod': 'd'}, 'dt_txt': '2023-05-24 12:00:00'}], 'city': {'id': 3139081, 'name': 'Ski', 'coord': {'lat': 59.7195, 'lon': 10.8358}, 'country': 'NO', 'population': 12513, 'timezone': 7200, 'sunrise': 1684463580, 'sunset': 1684526009}}\""
      ]
     },
     "execution_count": 3,
     "metadata": {},
     "output_type": "execute_result"
    }
   ],
   "source": [
    "# Inspect JSON file\n",
    "forecast.__str__()"
   ]
  },
  {
   "attachments": {},
   "cell_type": "markdown",
   "metadata": {},
   "source": [
    "## Raw JSON\n",
    "A simple, but not very efficient way of storing JSON data is to treat it as a text and save it directly to the database.  \n",
    "More efficient, with regard to transfer, is to compress the JSON data to a blob first."
   ]
  },
  {
   "cell_type": "code",
   "execution_count": 6,
   "metadata": {},
   "outputs": [
    {
     "data": {
      "text/plain": [
       "<cassandra.cluster.ResultSet at 0x106e955e0>"
      ]
     },
     "execution_count": 6,
     "metadata": {},
     "output_type": "execute_result"
    }
   ],
   "source": [
    "session.execute(\"DROP TABLE IF EXISTS my_first_keyspace.forecast_table;\")"
   ]
  },
  {
   "attachments": {},
   "cell_type": "markdown",
   "metadata": {},
   "source": [
    "### Create a new table which treats the whole JSON as a blob, using the city id and the first dt as keys"
   ]
  },
  {
   "cell_type": "code",
   "execution_count": 7,
   "metadata": {},
   "outputs": [
    {
     "data": {
      "text/plain": [
       "<cassandra.cluster.ResultSet at 0x1046d6790>"
      ]
     },
     "execution_count": 7,
     "metadata": {},
     "output_type": "execute_result"
    }
   ],
   "source": [
    "session.set_keyspace('my_first_keyspace')\n",
    "session.execute(\"CREATE TABLE IF NOT EXISTS forecast_table (city_id int, dt int, forecast blob, PRIMARY KEY(city_id, dt));\")"
   ]
  },
  {
   "attachments": {},
   "cell_type": "markdown",
   "metadata": {},
   "source": [
    "### Insert the forecast data into the table as text"
   ]
  },
  {
   "cell_type": "code",
   "execution_count": 8,
   "metadata": {},
   "outputs": [
    {
     "data": {
      "text/plain": [
       "<cassandra.cluster.ResultSet at 0x106e95f10>"
      ]
     },
     "execution_count": 8,
     "metadata": {},
     "output_type": "execute_result"
    }
   ],
   "source": [
    "session.execute(\"INSERT INTO forecast_table (city_id, dt, forecast) VALUES (%s, %s, textAsBlob(%s));\", (forecast['city']['id'], forecast['list'][0]['dt'], forecast.__str__()))"
   ]
  },
  {
   "cell_type": "code",
   "execution_count": 13,
   "metadata": {},
   "outputs": [
    {
     "name": "stdout",
     "output_type": "stream",
     "text": [
      "Row(city_id=3139081, dt=1684508400, forecast=b\"{'cod': '200', 'message': 0, 'cnt': 40, 'list': [{'dt': 1684508400, 'main': {'temp': 287.22, 'feels_like': 286.43, 'temp_min': 287.22, 'temp_max': 287.93, 'pressure': 1028, 'sea_level': 1028, 'grnd_level': 1011, 'humidity': 67, 'temp_kf': -0.71}, 'weather': [{'id': 802, 'main': 'Clouds', 'description': 'scattered clouds', 'icon': '03d'}], 'clouds': {'all': 25}, 'wind': {'speed': 4.25, 'deg': 191, 'gust': 5.17}, 'visibility': 10000, 'pop': 0, 'sys': {'pod': 'd'}, 'dt_txt': '2023-05-19 15:00:00'}, {'dt': 1684519200, 'main': {'temp': 285.82, 'feels_like': 285.05, 'temp_min': 285.3, 'temp_max': 285.82, 'pressure': 1029, 'sea_level': 1029, 'grnd_level': 1012, 'humidity': 73, 'temp_kf': 0.52}, 'weather': [{'id': 801, 'main': 'Clouds', 'description': 'few clouds', 'icon': '02d'}], 'clouds': {'all': 16}, 'wind': {'speed': 3.52, 'deg': 186, 'gust': 6.59}, 'visibility': 10000, 'pop': 0, 'sys': {'pod': 'd'}, 'dt_txt': '2023-05-19 18:00:00'}, {'dt': 1684530000, 'main': {'temp': 280.91, 'feels_like': 279.91, 'temp_min': 280.91, 'temp_max': 280.91, 'pressure': 1030, 'sea_level': 1030, 'grnd_level': 1013, 'humidity': 97, 'temp_kf': 0}, 'weather': [{'id': 800, 'main': 'Clear', 'description': 'clear sky', 'icon': '01n'}], 'clouds': {'all': 7}, 'wind': {'speed': 1.81, 'deg': 162, 'gust': 6}, 'visibility': 10000, 'pop': 0, 'sys': {'pod': 'n'}, 'dt_txt': '2023-05-19 21:00:00'}, {'dt': 1684540800, 'main': {'temp': 279.97, 'feels_like': 279.97, 'temp_min': 279.97, 'temp_max': 279.97, 'pressure': 1030, 'sea_level': 1030, 'grnd_level': 1013, 'humidity': 97, 'temp_kf': 0}, 'weather': [{'id': 801, 'main': 'Clouds', 'description': 'few clouds', 'icon': '02n'}], 'clouds': {'all': 12}, 'wind': {'speed': 0.99, 'deg': 160, 'gust': 1.02}, 'visibility': 10000, 'pop': 0, 'sys': {'pod': 'n'}, 'dt_txt': '2023-05-20 00:00:00'}, {'dt': 1684551600, 'main': {'temp': 279.49, 'feels_like': 279.49, 'temp_min': 279.49, 'temp_max': 279.49, 'pressure': 1031, 'sea_level': 1031, 'grnd_level': 1013, 'humidity': 97, 'temp_kf': 0}, 'weather': [{'id': 800, 'main': 'Clear', 'description': 'clear sky', 'icon': '01d'}], 'clouds': {'all': 10}, 'wind': {'speed': 1.03, 'deg': 146, 'gust': 1.26}, 'visibility': 10000, 'pop': 0, 'sys': {'pod': 'd'}, 'dt_txt': '2023-05-20 03:00:00'}, {'dt': 1684562400, 'main': {'temp': 284.91, 'feels_like': 284.13, 'temp_min': 284.91, 'temp_max': 284.91, 'pressure': 1031, 'sea_level': 1031, 'grnd_level': 1014, 'humidity': 76, 'temp_kf': 0}, 'weather': [{'id': 800, 'main': 'Clear', 'description': 'clear sky', 'icon': '01d'}], 'clouds': {'all': 9}, 'wind': {'speed': 1.73, 'deg': 186, 'gust': 3.38}, 'visibility': 10000, 'pop': 0, 'sys': {'pod': 'd'}, 'dt_txt': '2023-05-20 06:00:00'}, {'dt': 1684573200, 'main': {'temp': 290, 'feels_like': 289.05, 'temp_min': 290, 'temp_max': 290, 'pressure': 1030, 'sea_level': 1030, 'grnd_level': 1013, 'humidity': 50, 'temp_kf': 0}, 'weather': [{'id': 800, 'main': 'Clear', 'description': 'clear sky', 'icon': '01d'}], 'clouds': {'all': 2}, 'wind': {'speed': 3.05, 'deg': 191, 'gust': 4.21}, 'visibility': 10000, 'pop': 0, 'sys': {'pod': 'd'}, 'dt_txt': '2023-05-20 09:00:00'}, {'dt': 1684584000, 'main': {'temp': 291.99, 'feels_like': 290.87, 'temp_min': 291.99, 'temp_max': 291.99, 'pressure': 1029, 'sea_level': 1029, 'grnd_level': 1013, 'humidity': 36, 'temp_kf': 0}, 'weather': [{'id': 800, 'main': 'Clear', 'description': 'clear sky', 'icon': '01d'}], 'clouds': {'all': 1}, 'wind': {'speed': 3.7, 'deg': 199, 'gust': 4.77}, 'visibility': 10000, 'pop': 0, 'sys': {'pod': 'd'}, 'dt_txt': '2023-05-20 12:00:00'}, {'dt': 1684594800, 'main': {'temp': 291.74, 'feels_like': 290.46, 'temp_min': 291.74, 'temp_max': 291.74, 'pressure': 1028, 'sea_level': 1028, 'grnd_level': 1012, 'humidity': 31, 'temp_kf': 0}, 'weather': [{'id': 800, 'main': 'Clear', 'description': 'clear sky', 'icon': '01d'}], 'clouds': {'all': 0}, 'wind': {'speed': 3.5, 'deg': 199, 'gust': 5}, 'visibility': 10000, 'pop': 0, 'sys': {'pod': 'd'}, 'dt_txt': '2023-05-20 15:00:00'}, {'dt': 1684605600, 'main': {'temp': 289.34, 'feels_like': 288.11, 'temp_min': 289.34, 'temp_max': 289.34, 'pressure': 1027, 'sea_level': 1027, 'grnd_level': 1011, 'humidity': 42, 'temp_kf': 0}, 'weather': [{'id': 800, 'main': 'Clear', 'description': 'clear sky', 'icon': '01d'}], 'clouds': {'all': 0}, 'wind': {'speed': 2.15, 'deg': 185, 'gust': 4.63}, 'visibility': 10000, 'pop': 0, 'sys': {'pod': 'd'}, 'dt_txt': '2023-05-20 18:00:00'}, {'dt': 1684616400, 'main': {'temp': 283.31, 'feels_like': 281.95, 'temp_min': 283.31, 'temp_max': 283.31, 'pressure': 1028, 'sea_level': 1028, 'grnd_level': 1010, 'humidity': 60, 'temp_kf': 0}, 'weather': [{'id': 800, 'main': 'Clear', 'description': 'clear sky', 'icon': '01n'}], 'clouds': {'all': 0}, 'wind': {'speed': 1.71, 'deg': 157, 'gust': 1.69}, 'visibility': 10000, 'pop': 0, 'sys': {'pod': 'n'}, 'dt_txt': '2023-05-20 21:00:00'}, {'dt': 1684627200, 'main': {'temp': 281.67, 'feels_like': 281.67, 'temp_min': 281.67, 'temp_max': 281.67, 'pressure': 1027, 'sea_level': 1027, 'grnd_level': 1010, 'humidity': 65, 'temp_kf': 0}, 'weather': [{'id': 800, 'main': 'Clear', 'description': 'clear sky', 'icon': '01n'}], 'clouds': {'all': 0}, 'wind': {'speed': 1.11, 'deg': 134, 'gust': 1.1}, 'visibility': 10000, 'pop': 0, 'sys': {'pod': 'n'}, 'dt_txt': '2023-05-21 00:00:00'}, {'dt': 1684638000, 'main': {'temp': 280.97, 'feels_like': 280.97, 'temp_min': 280.97, 'temp_max': 280.97, 'pressure': 1027, 'sea_level': 1027, 'grnd_level': 1010, 'humidity': 67, 'temp_kf': 0}, 'weather': [{'id': 802, 'main': 'Clouds', 'description': 'scattered clouds', 'icon': '03d'}], 'clouds': {'all': 44}, 'wind': {'speed': 0.42, 'deg': 88, 'gust': 0.44}, 'visibility': 10000, 'pop': 0, 'sys': {'pod': 'd'}, 'dt_txt': '2023-05-21 03:00:00'}, {'dt': 1684648800, 'main': {'temp': 287.21, 'feels_like': 285.92, 'temp_min': 287.21, 'temp_max': 287.21, 'pressure': 1027, 'sea_level': 1027, 'grnd_level': 1010, 'humidity': 48, 'temp_kf': 0}, 'weather': [{'id': 802, 'main': 'Clouds', 'description': 'scattered clouds', 'icon': '03d'}], 'clouds': {'all': 35}, 'wind': {'speed': 1.51, 'deg': 163, 'gust': 2.47}, 'visibility': 10000, 'pop': 0, 'sys': {'pod': 'd'}, 'dt_txt': '2023-05-21 06:00:00'}, {'dt': 1684659600, 'main': {'temp': 291.88, 'feels_like': 290.75, 'temp_min': 291.88, 'temp_max': 291.88, 'pressure': 1026, 'sea_level': 1026, 'grnd_level': 1010, 'humidity': 36, 'temp_kf': 0}, 'weather': [{'id': 802, 'main': 'Clouds', 'description': 'scattered clouds', 'icon': '03d'}], 'clouds': {'all': 27}, 'wind': {'speed': 2.13, 'deg': 185, 'gust': 2.4}, 'visibility': 10000, 'pop': 0, 'sys': {'pod': 'd'}, 'dt_txt': '2023-05-21 09:00:00'}, {'dt': 1684670400, 'main': {'temp': 293.79, 'feels_like': 292.72, 'temp_min': 293.79, 'temp_max': 293.79, 'pressure': 1026, 'sea_level': 1026, 'grnd_level': 1009, 'humidity': 31, 'temp_kf': 0}, 'weather': [{'id': 801, 'main': 'Clouds', 'description': 'few clouds', 'icon': '02d'}], 'clouds': {'all': 23}, 'wind': {'speed': 2.99, 'deg': 203, 'gust': 2.84}, 'visibility': 10000, 'pop': 0, 'sys': {'pod': 'd'}, 'dt_txt': '2023-05-21 12:00:00'}, {'dt': 1684681200, 'main': {'temp': 293.48, 'feels_like': 292.4, 'temp_min': 293.48, 'temp_max': 293.48, 'pressure': 1025, 'sea_level': 1025, 'grnd_level': 1009, 'humidity': 32, 'temp_kf': 0}, 'weather': [{'id': 801, 'main': 'Clouds', 'description': 'few clouds', 'icon': '02d'}], 'clouds': {'all': 19}, 'wind': {'speed': 3.15, 'deg': 202, 'gust': 2.97}, 'visibility': 10000, 'pop': 0, 'sys': {'pod': 'd'}, 'dt_txt': '2023-05-21 15:00:00'}, {'dt': 1684692000, 'main': {'temp': 290.46, 'feels_like': 289.4, 'temp_min': 290.46, 'temp_max': 290.46, 'pressure': 1025, 'sea_level': 1025, 'grnd_level': 1009, 'humidity': 44, 'temp_kf': 0}, 'weather': [{'id': 801, 'main': 'Clouds', 'description': 'few clouds', 'icon': '02d'}], 'clouds': {'all': 15}, 'wind': {'speed': 2.04, 'deg': 195, 'gust': 4.28}, 'visibility': 10000, 'pop': 0, 'sys': {'pod': 'd'}, 'dt_txt': '2023-05-21 18:00:00'}, {'dt': 1684702800, 'main': {'temp': 284.3, 'feels_like': 283.06, 'temp_min': 284.3, 'temp_max': 284.3, 'pressure': 1026, 'sea_level': 1026, 'grnd_level': 1009, 'humidity': 61, 'temp_kf': 0}, 'weather': [{'id': 800, 'main': 'Clear', 'description': 'clear sky', 'icon': '01n'}], 'clouds': {'all': 8}, 'wind': {'speed': 1.18, 'deg': 179, 'gust': 1.19}, 'visibility': 10000, 'pop': 0, 'sys': {'pod': 'n'}, 'dt_txt': '2023-05-21 21:00:00'}, {'dt': 1684713600, 'main': {'temp': 283.36, 'feels_like': 282.03, 'temp_min': 283.36, 'temp_max': 283.36, 'pressure': 1026, 'sea_level': 1026, 'grnd_level': 1009, 'humidity': 61, 'temp_kf': 0}, 'weather': [{'id': 801, 'main': 'Clouds', 'description': 'few clouds', 'icon': '02n'}], 'clouds': {'all': 14}, 'wind': {'speed': 0.55, 'deg': 88, 'gust': 0.57}, 'visibility': 10000, 'pop': 0, 'sys': {'pod': 'n'}, 'dt_txt': '2023-05-22 00:00:00'}, {'dt': 1684724400, 'main': {'temp': 283.23, 'feels_like': 281.99, 'temp_min': 283.23, 'temp_max': 283.23, 'pressure': 1026, 'sea_level': 1026, 'grnd_level': 1009, 'humidity': 65, 'temp_kf': 0}, 'weather': [{'id': 802, 'main': 'Clouds', 'description': 'scattered clouds', 'icon': '03d'}], 'clouds': {'all': 33}, 'wind': {'speed': 0.83, 'deg': 27, 'gust': 0.87}, 'visibility': 10000, 'pop': 0, 'sys': {'pod': 'd'}, 'dt_txt': '2023-05-22 03:00:00'}, {'dt': 1684735200, 'main': {'temp': 286.12, 'feels_like': 285.12, 'temp_min': 286.12, 'temp_max': 286.12, 'pressure': 1026, 'sea_level': 1026, 'grnd_level': 1009, 'humidity': 63, 'temp_kf': 0}, 'weather': [{'id': 803, 'main': 'Clouds', 'description': 'broken clouds', 'icon': '04d'}], 'clouds': {'all': 64}, 'wind': {'speed': 0.9, 'deg': 29, 'gust': 1.13}, 'visibility': 10000, 'pop': 0, 'sys': {'pod': 'd'}, 'dt_txt': '2023-05-22 06:00:00'}, {'dt': 1684746000, 'main': {'temp': 291.33, 'feels_like': 290.67, 'temp_min': 291.33, 'temp_max': 291.33, 'pressure': 1025, 'sea_level': 1025, 'grnd_level': 1008, 'humidity': 56, 'temp_kf': 0}, 'weather': [{'id': 500, 'main': 'Rain', 'description': 'light rain', 'icon': '10d'}], 'clouds': {'all': 94}, 'wind': {'speed': 0.97, 'deg': 151, 'gust': 2.13}, 'visibility': 10000, 'pop': 0.39, 'rain': {'3h': 0.18}, 'sys': {'pod': 'd'}, 'dt_txt': '2023-05-22 09:00:00'}, {'dt': 1684756800, 'main': {'temp': 291.44, 'feels_like': 290.94, 'temp_min': 291.44, 'temp_max': 291.44, 'pressure': 1023, 'sea_level': 1023, 'grnd_level': 1006, 'humidity': 62, 'temp_kf': 0}, 'weather': [{'id': 500, 'main': 'Rain', 'description': 'light rain', 'icon': '10d'}], 'clouds': {'all': 87}, 'wind': {'speed': 2.73, 'deg': 190, 'gust': 3.53}, 'visibility': 10000, 'pop': 0.36, 'rain': {'3h': 1.65}, 'sys': {'pod': 'd'}, 'dt_txt': '2023-05-22 12:00:00'}, {'dt': 1684767600, 'main': {'temp': 292.48, 'feels_like': 291.85, 'temp_min': 292.48, 'temp_max': 292.48, 'pressure': 1021, 'sea_level': 1021, 'grnd_level': 1005, 'humidity': 53, 'temp_kf': 0}, 'weather': [{'id': 500, 'main': 'Rain', 'description': 'light rain', 'icon': '10d'}], 'clouds': {'all': 45}, 'wind': {'speed': 3.2, 'deg': 184, 'gust': 4.09}, 'visibility': 10000, 'pop': 0.63, 'rain': {'3h': 0.75}, 'sys': {'pod': 'd'}, 'dt_txt': '2023-05-22 15:00:00'}, {'dt': 1684778400, 'main': {'temp': 289.79, 'feels_like': 289.1, 'temp_min': 289.79, 'temp_max': 289.79, 'pressure': 1020, 'sea_level': 1020, 'grnd_level': 1003, 'humidity': 61, 'temp_kf': 0}, 'weather': [{'id': 803, 'main': 'Clouds', 'description': 'broken clouds', 'icon': '04d'}], 'clouds': {'all': 55}, 'wind': {'speed': 2.07, 'deg': 194, 'gust': 4.43}, 'visibility': 10000, 'pop': 0.54, 'sys': {'pod': 'd'}, 'dt_txt': '2023-05-22 18:00:00'}, {'dt': 1684789200, 'main': {'temp': 285.65, 'feels_like': 284.94, 'temp_min': 285.65, 'temp_max': 285.65, 'pressure': 1019, 'sea_level': 1019, 'grnd_level': 1002, 'humidity': 76, 'temp_kf': 0}, 'weather': [{'id': 803, 'main': 'Clouds', 'description': 'broken clouds', 'icon': '04n'}], 'clouds': {'all': 83}, 'wind': {'speed': 1.97, 'deg': 179, 'gust': 3.36}, 'visibility': 10000, 'pop': 0.3, 'sys': {'pod': 'n'}, 'dt_txt': '2023-05-22 21:00:00'}, {'dt': 1684800000, 'main': {'temp': 286.19, 'feels_like': 285.35, 'temp_min': 286.19, 'temp_max': 286.19, 'pressure': 1018, 'sea_level': 1018, 'grnd_level': 1001, 'humidity': 69, 'temp_kf': 0}, 'weather': [{'id': 804, 'main': 'Clouds', 'description': 'overcast clouds', 'icon': '04n'}], 'clouds': {'all': 92}, 'wind': {'speed': 2.67, 'deg': 176, 'gust': 7.87}, 'visibility': 10000, 'pop': 0.14, 'sys': {'pod': 'n'}, 'dt_txt': '2023-05-23 00:00:00'}, {'dt': 1684810800, 'main': {'temp': 284.85, 'feels_like': 284.19, 'temp_min': 284.85, 'temp_max': 284.85, 'pressure': 1017, 'sea_level': 1017, 'grnd_level': 1000, 'humidity': 81, 'temp_kf': 0}, 'weather': [{'id': 500, 'main': 'Rain', 'description': 'light rain', 'icon': '10d'}], 'clouds': {'all': 100}, 'wind': {'speed': 1.67, 'deg': 146, 'gust': 3.15}, 'visibility': 10000, 'pop': 0.21, 'rain': {'3h': 0.15}, 'sys': {'pod': 'd'}, 'dt_txt': '2023-05-23 03:00:00'}, {'dt': 1684821600, 'main': {'temp': 285.99, 'feels_like': 285.31, 'temp_min': 285.99, 'temp_max': 285.99, 'pressure': 1016, 'sea_level': 1016, 'grnd_level': 999, 'humidity': 76, 'temp_kf': 0}, 'weather': [{'id': 804, 'main': 'Clouds', 'description': 'overcast clouds', 'icon': '04d'}], 'clouds': {'all': 100}, 'wind': {'speed': 2.23, 'deg': 169, 'gust': 4.25}, 'visibility': 10000, 'pop': 0.15, 'sys': {'pod': 'd'}, 'dt_txt': '2023-05-23 06:00:00'}, {'dt': 1684832400, 'main': {'temp': 286.81, 'feels_like': 286.14, 'temp_min': 286.81, 'temp_max': 286.81, 'pressure': 1017, 'sea_level': 1017, 'grnd_level': 1000, 'humidity': 73, 'temp_kf': 0}, 'weather': [{'id': 804, 'main': 'Clouds', 'description': 'overcast clouds', 'icon': '04d'}], 'clouds': {'all': 100}, 'wind': {'speed': 2.64, 'deg': 164, 'gust': 3.18}, 'visibility': 10000, 'pop': 0.44, 'sys': {'pod': 'd'}, 'dt_txt': '2023-05-23 09:00:00'}, {'dt': 1684843200, 'main': {'temp': 287.02, 'feels_like': 286.37, 'temp_min': 287.02, 'temp_max': 287.02, 'pressure': 1017, 'sea_level': 1017, 'grnd_level': 1000, 'humidity': 73, 'temp_kf': 0}, 'weather': [{'id': 804, 'main': 'Clouds', 'description': 'overcast clouds', 'icon': '04d'}], 'clouds': {'all': 100}, 'wind': {'speed': 2.33, 'deg': 126, 'gust': 2.4}, 'visibility': 10000, 'pop': 0.5, 'sys': {'pod': 'd'}, 'dt_txt': '2023-05-23 12:00:00'}, {'dt': 1684854000, 'main': {'temp': 285.44, 'feels_like': 284.94, 'temp_min': 285.44, 'temp_max': 285.44, 'pressure': 1017, 'sea_level': 1017, 'grnd_level': 1000, 'humidity': 85, 'temp_kf': 0}, 'weather': [{'id': 500, 'main': 'Rain', 'description': 'light rain', 'icon': '10d'}], 'clouds': {'all': 100}, 'wind': {'speed': 0.52, 'deg': 354, 'gust': 1.28}, 'visibility': 10000, 'pop': 0.4, 'rain': {'3h': 0.24}, 'sys': {'pod': 'd'}, 'dt_txt': '2023-05-23 15:00:00'}, {'dt': 1684864800, 'main': {'temp': 284.7, 'feels_like': 284.08, 'temp_min': 284.7, 'temp_max': 284.7, 'pressure': 1018, 'sea_level': 1018, 'grnd_level': 1001, 'humidity': 83, 'temp_kf': 0}, 'weather': [{'id': 804, 'main': 'Clouds', 'description': 'overcast clouds', 'icon': '04d'}], 'clouds': {'all': 99}, 'wind': {'speed': 2.34, 'deg': 327, 'gust': 4.89}, 'visibility': 10000, 'pop': 0.22, 'sys': {'pod': 'd'}, 'dt_txt': '2023-05-23 18:00:00'}, {'dt': 1684875600, 'main': {'temp': 282.89, 'feels_like': 282.63, 'temp_min': 282.89, 'temp_max': 282.89, 'pressure': 1019, 'sea_level': 1019, 'grnd_level': 1002, 'humidity': 87, 'temp_kf': 0}, 'weather': [{'id': 804, 'main': 'Clouds', 'description': 'overcast clouds', 'icon': '04n'}], 'clouds': {'all': 88}, 'wind': {'speed': 1.38, 'deg': 336, 'gust': 3.52}, 'visibility': 10000, 'pop': 0, 'sys': {'pod': 'n'}, 'dt_txt': '2023-05-23 21:00:00'}, {'dt': 1684886400, 'main': {'temp': 282.91, 'feels_like': 282.91, 'temp_min': 282.91, 'temp_max': 282.91, 'pressure': 1019, 'sea_level': 1019, 'grnd_level': 1002, 'humidity': 85, 'temp_kf': 0}, 'weather': [{'id': 804, 'main': 'Clouds', 'description': 'overcast clouds', 'icon': '04n'}], 'clouds': {'all': 93}, 'wind': {'speed': 1.14, 'deg': 338, 'gust': 1.74}, 'visibility': 10000, 'pop': 0, 'sys': {'pod': 'n'}, 'dt_txt': '2023-05-24 00:00:00'}, {'dt': 1684897200, 'main': {'temp': 281.43, 'feels_like': 281.43, 'temp_min': 281.43, 'temp_max': 281.43, 'pressure': 1019, 'sea_level': 1019, 'grnd_level': 1002, 'humidity': 90, 'temp_kf': 0}, 'weather': [{'id': 804, 'main': 'Clouds', 'description': 'overcast clouds', 'icon': '04d'}], 'clouds': {'all': 100}, 'wind': {'speed': 0.45, 'deg': 272, 'gust': 0.43}, 'visibility': 10000, 'pop': 0, 'sys': {'pod': 'd'}, 'dt_txt': '2023-05-24 03:00:00'}, {'dt': 1684908000, 'main': {'temp': 286.36, 'feels_like': 285.49, 'temp_min': 286.36, 'temp_max': 286.36, 'pressure': 1018, 'sea_level': 1018, 'grnd_level': 1002, 'humidity': 67, 'temp_kf': 0}, 'weather': [{'id': 803, 'main': 'Clouds', 'description': 'broken clouds', 'icon': '04d'}], 'clouds': {'all': 82}, 'wind': {'speed': 1.95, 'deg': 203, 'gust': 3.99}, 'visibility': 10000, 'pop': 0, 'sys': {'pod': 'd'}, 'dt_txt': '2023-05-24 06:00:00'}, {'dt': 1684918800, 'main': {'temp': 290.54, 'feels_like': 289.69, 'temp_min': 290.54, 'temp_max': 290.54, 'pressure': 1017, 'sea_level': 1017, 'grnd_level': 1001, 'humidity': 52, 'temp_kf': 0}, 'weather': [{'id': 804, 'main': 'Clouds', 'description': 'overcast clouds', 'icon': '04d'}], 'clouds': {'all': 96}, 'wind': {'speed': 4.1, 'deg': 197, 'gust': 5.82}, 'visibility': 10000, 'pop': 0, 'sys': {'pod': 'd'}, 'dt_txt': '2023-05-24 09:00:00'}, {'dt': 1684929600, 'main': {'temp': 292.32, 'feels_like': 291.49, 'temp_min': 292.32, 'temp_max': 292.32, 'pressure': 1016, 'sea_level': 1016, 'grnd_level': 1000, 'humidity': 46, 'temp_kf': 0}, 'weather': [{'id': 804, 'main': 'Clouds', 'description': 'overcast clouds', 'icon': '04d'}], 'clouds': {'all': 92}, 'wind': {'speed': 5.51, 'deg': 190, 'gust': 7}, 'visibility': 10000, 'pop': 0, 'sys': {'pod': 'd'}, 'dt_txt': '2023-05-24 12:00:00'}], 'city': {'id': 3139081, 'name': 'Ski', 'coord': {'lat': 59.7195, 'lon': 10.8358}, 'country': 'NO', 'population': 12513, 'timezone': 7200, 'sunrise': 1684463580, 'sunset': 1684526009}}\")\n"
     ]
    }
   ],
   "source": [
    "# Query the data\n",
    "forecast_rows = session.execute(\"SELECT * FROM forecast_table;\")\n",
    "print(forecast_rows.one()) # <- only one row"
   ]
  },
  {
   "cell_type": "code",
   "execution_count": null,
   "metadata": {},
   "outputs": [],
   "source": []
  }
 ],
 "metadata": {
  "kernelspec": {
   "display_name": "tf_M1",
   "language": "python",
   "name": "python3"
  },
  "language_info": {
   "codemirror_mode": {
    "name": "ipython",
    "version": 3
   },
   "file_extension": ".py",
   "mimetype": "text/x-python",
   "name": "python",
   "nbconvert_exporter": "python",
   "pygments_lexer": "ipython3",
   "version": "3.8.16"
  },
  "orig_nbformat": 4
 },
 "nbformat": 4,
 "nbformat_minor": 2
}
