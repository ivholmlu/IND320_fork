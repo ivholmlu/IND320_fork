{
 "cells": [
  {
   "cell_type": "markdown",
   "metadata": {},
   "source": [
    "# Streaming\n",
    "- When data become available one and one or in a chunk-wise fashion, streaming models can be beneficial.\n",
    "- A _static model_ may be applied if we have enough training data and expect no changes to the underlying distributions.\n",
    "- A _dynamic model_ may be applied if we want to update based on what the model receives of new data.\n",
    "    - Update model with some small weight on the new observation, either:\n",
    "        - gradually aggregating to a model equivalent to training a model on all data, or\n",
    "        - with a small memory loss on the existing model, leading to plasticity and capacity for learning (e.g., gradient descent methods).\n",
    "    - Passive aggressive learning, where small deviations are disregarded while the model is updated when larger changes are detected.\n",
    "    - If the models start from scratch, higher learning rates for the initial samples is more efficient.\n",
    "- Streaming is relevant both for predictive models (tabular data) and forecasting models (autoregressive)."
   ]
  }
 ],
 "metadata": {
  "language_info": {
   "name": "python"
  }
 },
 "nbformat": 4,
 "nbformat_minor": 2
}
