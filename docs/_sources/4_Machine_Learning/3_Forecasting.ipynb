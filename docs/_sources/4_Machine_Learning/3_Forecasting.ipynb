{
 "cells": [
  {
   "cell_type": "markdown",
   "metadata": {
    "editable": true,
    "slideshow": {
     "slide_type": "slide"
    },
    "tags": []
   },
   "source": [
    "# Forecasting\n",
    "- Time series prediction, or forecasting, can be very similar to modelling and prediction with tabular data.\n",
    "    - A set of input variables, usually a single output variable.\n",
    "    - Ordinary machine learning methods can be applied.\n",
    "- The inclusion of time can be done by adding one or more delayed variables, possibly including the response.\n",
    "- Specific forecasting methods also exist, e.g., the (S)AR(I)MA(X) family of methods  \n",
    "  (Seasonal Auto-Regressive Integrated Moving Average with eXogenous factors).\n",
    "- Neural network models for forecasting include Recurrent Neural Networks, Long-Short Term Memory, Transformers, Retentive Networks, Facebook's [Prophet](https://pypi.org/project/fbprophet/), Amazon's [GluonTS/DeepAR](https://pypi.org/project/gluonts/), etc.\n",
    "    - Large Language Models, e.g., used in Chat GPT, Bard, etc., rely heavily on forecasting the next word(s) in a sequence."
   ]
  },
  {
   "cell_type": "markdown",
   "metadata": {
    "editable": true,
    "slideshow": {
     "slide_type": "slide"
    },
    "tags": []
   },
   "source": [
    "## Validation\n",
    "- As soon as _time_ is part of a model, extra care needs to be taken in validation.\n",
    "- Cross-validation\\*, training-validation-test splits are still relevant.\n",
    "- However, training, validation and test sets need to follow time chronologically and cannot overlap.\n",
    "- Instead of traditional cross-validation, one can perform _backtesting_ with a sliding or expanding window:\n",
    "  \n",
    "<img src=\"../images/Backtesting_sliding.png\" width=\"350px\">  \n",
    "<img src=\"../images/Backtesting_expanding.png\" width=\"350px\">  \n",
    "  \n",
    "Note that the first samples will never be in the test set.  \n",
    "\n",
    "Figures from [Roy Yang's bloggpost on uber.com](https://www.uber.com/en-NO/blog/omphalos/)"
   ]
  },
  {
   "cell_type": "markdown",
   "metadata": {
    "editable": true,
    "slideshow": {
     "slide_type": "slide"
    },
    "tags": []
   },
   "source": [
    "## Shipping, oil, interest rates and exchange rates\n",
    "- These data are public data from the Norwegian Bank, SSB, Eurostat and U.S. Energy Information Administration for the period 2000-2014 (monthly).\n",
    "- The data are available at [ResearchGate](https://www.researchgate.net/publication/275647285_Related_Dataset) and were part of a [Master thesis](https://nmbu.brage.unit.no/nmbu-xmlui/handle/11250/283547) by Raju Rimal."
   ]
  },
  {
   "cell_type": "code",
   "execution_count": 1,
   "metadata": {
    "editable": true,
    "slideshow": {
     "slide_type": "fragment"
    },
    "tags": []
   },
   "outputs": [
    {
     "name": "stderr",
     "output_type": "stream",
     "text": [
      "/Users/kristian/miniforge3/envs/IND320/lib/python3.11/site-packages/openpyxl/worksheet/_reader.py:329: UserWarning: Unknown extension is not supported and will be removed\n",
      "  warn(msg)\n"
     ]
    },
    {
     "data": {
      "text/html": [
       "<div>\n",
       "<style scoped>\n",
       "    .dataframe tbody tr th:only-of-type {\n",
       "        vertical-align: middle;\n",
       "    }\n",
       "\n",
       "    .dataframe tbody tr th {\n",
       "        vertical-align: top;\n",
       "    }\n",
       "\n",
       "    .dataframe thead th {\n",
       "        text-align: right;\n",
       "    }\n",
       "</style>\n",
       "<table border=\"1\" class=\"dataframe\">\n",
       "  <thead>\n",
       "    <tr style=\"text-align: right;\">\n",
       "      <th></th>\n",
       "      <th>Date</th>\n",
       "      <th>PerEURO</th>\n",
       "      <th>PerUSD</th>\n",
       "      <th>KeyIntRate</th>\n",
       "      <th>LoanIntRate</th>\n",
       "      <th>EuroIntRate</th>\n",
       "      <th>CPI</th>\n",
       "      <th>OilSpotPrice</th>\n",
       "      <th>ImpOldShip</th>\n",
       "      <th>ImpNewShip</th>\n",
       "      <th>...</th>\n",
       "      <th>ExpExShipOilPlat</th>\n",
       "      <th>TrBal</th>\n",
       "      <th>TrBalExShipOilPlat</th>\n",
       "      <th>TrBalMland</th>\n",
       "      <th>ly.var</th>\n",
       "      <th>l2y.var</th>\n",
       "      <th>l.CPI</th>\n",
       "      <th>ExcChange</th>\n",
       "      <th>Testrain</th>\n",
       "      <th>season</th>\n",
       "    </tr>\n",
       "  </thead>\n",
       "  <tbody>\n",
       "    <tr>\n",
       "      <th>0</th>\n",
       "      <td>2000-01-01</td>\n",
       "      <td>8.1215</td>\n",
       "      <td>8.0129</td>\n",
       "      <td>5.500000</td>\n",
       "      <td>7.500000</td>\n",
       "      <td>3.04</td>\n",
       "      <td>104.1</td>\n",
       "      <td>25.855741</td>\n",
       "      <td>114</td>\n",
       "      <td>915</td>\n",
       "      <td>...</td>\n",
       "      <td>38619</td>\n",
       "      <td>18575</td>\n",
       "      <td>19238</td>\n",
       "      <td>-3257</td>\n",
       "      <td>8.0968</td>\n",
       "      <td>8.1907</td>\n",
       "      <td>103.6</td>\n",
       "      <td>Increase</td>\n",
       "      <td>True</td>\n",
       "      <td>winter</td>\n",
       "    </tr>\n",
       "    <tr>\n",
       "      <th>1</th>\n",
       "      <td>2000-02-01</td>\n",
       "      <td>8.0991</td>\n",
       "      <td>8.2361</td>\n",
       "      <td>5.500000</td>\n",
       "      <td>7.500000</td>\n",
       "      <td>3.28</td>\n",
       "      <td>104.6</td>\n",
       "      <td>27.317905</td>\n",
       "      <td>527</td>\n",
       "      <td>359</td>\n",
       "      <td>...</td>\n",
       "      <td>38730</td>\n",
       "      <td>14217</td>\n",
       "      <td>17200</td>\n",
       "      <td>-4529</td>\n",
       "      <td>8.1215</td>\n",
       "      <td>8.0968</td>\n",
       "      <td>104.1</td>\n",
       "      <td>Decrease</td>\n",
       "      <td>True</td>\n",
       "      <td>winter</td>\n",
       "    </tr>\n",
       "    <tr>\n",
       "      <th>2</th>\n",
       "      <td>2000-03-01</td>\n",
       "      <td>8.1110</td>\n",
       "      <td>8.4111</td>\n",
       "      <td>5.500000</td>\n",
       "      <td>7.500000</td>\n",
       "      <td>3.51</td>\n",
       "      <td>104.7</td>\n",
       "      <td>26.509183</td>\n",
       "      <td>1385</td>\n",
       "      <td>929</td>\n",
       "      <td>...</td>\n",
       "      <td>42642</td>\n",
       "      <td>13697</td>\n",
       "      <td>18380</td>\n",
       "      <td>-5562</td>\n",
       "      <td>8.0991</td>\n",
       "      <td>8.1215</td>\n",
       "      <td>104.6</td>\n",
       "      <td>Increase</td>\n",
       "      <td>True</td>\n",
       "      <td>Spring</td>\n",
       "    </tr>\n",
       "    <tr>\n",
       "      <th>3</th>\n",
       "      <td>2000-04-01</td>\n",
       "      <td>8.1538</td>\n",
       "      <td>8.6081</td>\n",
       "      <td>5.632353</td>\n",
       "      <td>7.632353</td>\n",
       "      <td>3.69</td>\n",
       "      <td>105.1</td>\n",
       "      <td>21.558821</td>\n",
       "      <td>450</td>\n",
       "      <td>2194</td>\n",
       "      <td>...</td>\n",
       "      <td>36860</td>\n",
       "      <td>13142</td>\n",
       "      <td>15499</td>\n",
       "      <td>-5147</td>\n",
       "      <td>8.1110</td>\n",
       "      <td>8.0991</td>\n",
       "      <td>104.7</td>\n",
       "      <td>Increase</td>\n",
       "      <td>True</td>\n",
       "      <td>Spring</td>\n",
       "    </tr>\n",
       "    <tr>\n",
       "      <th>4</th>\n",
       "      <td>2000-05-01</td>\n",
       "      <td>8.2015</td>\n",
       "      <td>9.0471</td>\n",
       "      <td>5.750000</td>\n",
       "      <td>7.750000</td>\n",
       "      <td>3.92</td>\n",
       "      <td>105.1</td>\n",
       "      <td>25.147242</td>\n",
       "      <td>239</td>\n",
       "      <td>608</td>\n",
       "      <td>...</td>\n",
       "      <td>42932</td>\n",
       "      <td>17733</td>\n",
       "      <td>18505</td>\n",
       "      <td>-5732</td>\n",
       "      <td>8.1538</td>\n",
       "      <td>8.1110</td>\n",
       "      <td>105.1</td>\n",
       "      <td>Increase</td>\n",
       "      <td>True</td>\n",
       "      <td>Spring</td>\n",
       "    </tr>\n",
       "  </tbody>\n",
       "</table>\n",
       "<p>5 rows × 28 columns</p>\n",
       "</div>"
      ],
      "text/plain": [
       "        Date  PerEURO  PerUSD  KeyIntRate  LoanIntRate  EuroIntRate    CPI  \\\n",
       "0 2000-01-01   8.1215  8.0129    5.500000     7.500000         3.04  104.1   \n",
       "1 2000-02-01   8.0991  8.2361    5.500000     7.500000         3.28  104.6   \n",
       "2 2000-03-01   8.1110  8.4111    5.500000     7.500000         3.51  104.7   \n",
       "3 2000-04-01   8.1538  8.6081    5.632353     7.632353         3.69  105.1   \n",
       "4 2000-05-01   8.2015  9.0471    5.750000     7.750000         3.92  105.1   \n",
       "\n",
       "   OilSpotPrice  ImpOldShip  ImpNewShip  ...  ExpExShipOilPlat  TrBal  \\\n",
       "0     25.855741         114         915  ...             38619  18575   \n",
       "1     27.317905         527         359  ...             38730  14217   \n",
       "2     26.509183        1385         929  ...             42642  13697   \n",
       "3     21.558821         450        2194  ...             36860  13142   \n",
       "4     25.147242         239         608  ...             42932  17733   \n",
       "\n",
       "   TrBalExShipOilPlat  TrBalMland  ly.var  l2y.var  l.CPI  ExcChange  \\\n",
       "0               19238       -3257  8.0968   8.1907  103.6   Increase   \n",
       "1               17200       -4529  8.1215   8.0968  104.1   Decrease   \n",
       "2               18380       -5562  8.0991   8.1215  104.6   Increase   \n",
       "3               15499       -5147  8.1110   8.0991  104.7   Increase   \n",
       "4               18505       -5732  8.1538   8.1110  105.1   Increase   \n",
       "\n",
       "   Testrain  season  \n",
       "0      True  winter  \n",
       "1      True  winter  \n",
       "2      True  Spring  \n",
       "3      True  Spring  \n",
       "4      True  Spring  \n",
       "\n",
       "[5 rows x 28 columns]"
      ]
     },
     "execution_count": 1,
     "metadata": {},
     "output_type": "execute_result"
    }
   ],
   "source": [
    "# Read the FinalData sheet of the OilExchange.xlsx file using Pandas\n",
    "import pandas as pd\n",
    "OilExchange = pd.read_excel('../data/OilExchange.xlsx', sheet_name='FinalData') # You may get a warning here, because the file contains pasted grahics\n",
    "OilExchange.head()"
   ]
  },
  {
   "cell_type": "code",
   "execution_count": 2,
   "metadata": {
    "editable": true,
    "slideshow": {
     "slide_type": "slide"
    },
    "tags": []
   },
   "outputs": [
    {
     "data": {
      "text/plain": [
       "Index(['Date', 'PerEURO', 'PerUSD', 'KeyIntRate', 'LoanIntRate', 'EuroIntRate',\n",
       "       'CPI', 'OilSpotPrice', 'ImpOldShip', 'ImpNewShip', 'ImpOilPlat',\n",
       "       'ImpExShipOilPlat', 'ExpCrdOil', 'ExpNatGas', 'ExpCond', 'ExpOldShip',\n",
       "       'ExpNewShip', 'ExpOilPlat', 'ExpExShipOilPlat', 'TrBal',\n",
       "       'TrBalExShipOilPlat', 'TrBalMland', 'ly.var', 'l2y.var', 'l.CPI',\n",
       "       'ExcChange', 'Testrain', 'season'],\n",
       "      dtype='object')"
      ]
     },
     "execution_count": 2,
     "metadata": {},
     "output_type": "execute_result"
    }
   ],
   "source": [
    "OilExchange.columns"
   ]
  },
  {
   "cell_type": "code",
   "execution_count": 3,
   "metadata": {
    "editable": true,
    "slideshow": {
     "slide_type": "fragment"
    },
    "tags": []
   },
   "outputs": [
    {
     "name": "stderr",
     "output_type": "stream",
     "text": [
      "/Users/kristian/miniforge3/envs/IND320/lib/python3.11/site-packages/openpyxl/worksheet/_reader.py:329: UserWarning: Unknown extension is not supported and will be removed\n",
      "  warn(msg)\n"
     ]
    },
    {
     "data": {
      "text/html": [
       "<div>\n",
       "<style scoped>\n",
       "    .dataframe tbody tr th:only-of-type {\n",
       "        vertical-align: middle;\n",
       "    }\n",
       "\n",
       "    .dataframe tbody tr th {\n",
       "        vertical-align: top;\n",
       "    }\n",
       "\n",
       "    .dataframe thead th {\n",
       "        text-align: right;\n",
       "    }\n",
       "</style>\n",
       "<table border=\"1\" class=\"dataframe\">\n",
       "  <thead>\n",
       "    <tr style=\"text-align: right;\">\n",
       "      <th></th>\n",
       "      <th>Variables</th>\n",
       "      <th>Label</th>\n",
       "    </tr>\n",
       "  </thead>\n",
       "  <tbody>\n",
       "    <tr>\n",
       "      <th>0</th>\n",
       "      <td>Date</td>\n",
       "      <td>Date</td>\n",
       "    </tr>\n",
       "    <tr>\n",
       "      <th>1</th>\n",
       "      <td>PerEURO</td>\n",
       "      <td>Exchange Rate of NOK per Euro</td>\n",
       "    </tr>\n",
       "    <tr>\n",
       "      <th>2</th>\n",
       "      <td>PerUSD</td>\n",
       "      <td>Exchange Rate of NOK per USD</td>\n",
       "    </tr>\n",
       "    <tr>\n",
       "      <th>3</th>\n",
       "      <td>KeyIntRate</td>\n",
       "      <td>Key policy rate (Percent)</td>\n",
       "    </tr>\n",
       "    <tr>\n",
       "      <th>4</th>\n",
       "      <td>LoanIntRate</td>\n",
       "      <td>Overnight Lending Rate (Nominal)</td>\n",
       "    </tr>\n",
       "    <tr>\n",
       "      <th>5</th>\n",
       "      <td>EuroIntRate</td>\n",
       "      <td>Money market interest rates of Euro area (EA11...</td>\n",
       "    </tr>\n",
       "    <tr>\n",
       "      <th>6</th>\n",
       "      <td>CPI</td>\n",
       "      <td>Consumer Price Index (1998=100)</td>\n",
       "    </tr>\n",
       "    <tr>\n",
       "      <th>7</th>\n",
       "      <td>OilSpotPrice</td>\n",
       "      <td>Europe Brent Spot Price FOB (NOK per Barrel)</td>\n",
       "    </tr>\n",
       "    <tr>\n",
       "      <th>8</th>\n",
       "      <td>ImpOldShip</td>\n",
       "      <td>Imports of elderly ships (NOK million)</td>\n",
       "    </tr>\n",
       "    <tr>\n",
       "      <th>9</th>\n",
       "      <td>ImpNewShip</td>\n",
       "      <td>Imports of new ships (NOK million)</td>\n",
       "    </tr>\n",
       "    <tr>\n",
       "      <th>10</th>\n",
       "      <td>ImpOilPlat</td>\n",
       "      <td>Imports of oil platforms (NOK million)</td>\n",
       "    </tr>\n",
       "    <tr>\n",
       "      <th>11</th>\n",
       "      <td>ImpExShipOilPlat</td>\n",
       "      <td>Imports excl. ships and oil platforms (NOK mil...</td>\n",
       "    </tr>\n",
       "    <tr>\n",
       "      <th>12</th>\n",
       "      <td>ExpCrdOil</td>\n",
       "      <td>Exports of crude oil (NOK million)</td>\n",
       "    </tr>\n",
       "    <tr>\n",
       "      <th>13</th>\n",
       "      <td>ExpNatGas</td>\n",
       "      <td>Exports of natural gas (NOK million)</td>\n",
       "    </tr>\n",
       "    <tr>\n",
       "      <th>14</th>\n",
       "      <td>ExpCond</td>\n",
       "      <td>Exports of condensates (NOK million)</td>\n",
       "    </tr>\n",
       "    <tr>\n",
       "      <th>15</th>\n",
       "      <td>ExpOldShip</td>\n",
       "      <td>Exports of elderly ships (NOK million)</td>\n",
       "    </tr>\n",
       "    <tr>\n",
       "      <th>16</th>\n",
       "      <td>ExpNewShip</td>\n",
       "      <td>Exports of new ships (NOK million)</td>\n",
       "    </tr>\n",
       "    <tr>\n",
       "      <th>17</th>\n",
       "      <td>ExpOilPlat</td>\n",
       "      <td>Exports of oil platforms (NOK million)</td>\n",
       "    </tr>\n",
       "    <tr>\n",
       "      <th>18</th>\n",
       "      <td>ExpExShipOilPlat</td>\n",
       "      <td>Exports excl. ships and oil platforms (NOK mil...</td>\n",
       "    </tr>\n",
       "    <tr>\n",
       "      <th>19</th>\n",
       "      <td>TrBal</td>\n",
       "      <td>Trade balance (Total exports - total imports) ...</td>\n",
       "    </tr>\n",
       "    <tr>\n",
       "      <th>20</th>\n",
       "      <td>TrBalExShipOilPlat</td>\n",
       "      <td>Trade balance (Exports - imports, both excl. s...</td>\n",
       "    </tr>\n",
       "    <tr>\n",
       "      <th>21</th>\n",
       "      <td>TrBalMland</td>\n",
       "      <td>Trade balance (Mainland exports - imports excl...</td>\n",
       "    </tr>\n",
       "    <tr>\n",
       "      <th>22</th>\n",
       "      <td>ly.var</td>\n",
       "      <td>First Lag Exchange Rate of NOK per Euro</td>\n",
       "    </tr>\n",
       "    <tr>\n",
       "      <th>23</th>\n",
       "      <td>l2y.var</td>\n",
       "      <td>Second Lag Exchange Rate of NOK per Euro</td>\n",
       "    </tr>\n",
       "    <tr>\n",
       "      <th>24</th>\n",
       "      <td>l.CPI</td>\n",
       "      <td>First Lag of Consumer Price Index</td>\n",
       "    </tr>\n",
       "    <tr>\n",
       "      <th>25</th>\n",
       "      <td>ExcChange</td>\n",
       "      <td>Change status of Exchange Rate (Increase, Decr...</td>\n",
       "    </tr>\n",
       "    <tr>\n",
       "      <th>26</th>\n",
       "      <td>Testrain</td>\n",
       "      <td>Test and Train seperation of data</td>\n",
       "    </tr>\n",
       "    <tr>\n",
       "      <th>27</th>\n",
       "      <td>season</td>\n",
       "      <td>Seasons</td>\n",
       "    </tr>\n",
       "  </tbody>\n",
       "</table>\n",
       "</div>"
      ],
      "text/plain": [
       "             Variables                                              Label\n",
       "0                 Date                                               Date\n",
       "1              PerEURO                      Exchange Rate of NOK per Euro\n",
       "2               PerUSD                       Exchange Rate of NOK per USD\n",
       "3           KeyIntRate                          Key policy rate (Percent)\n",
       "4          LoanIntRate                   Overnight Lending Rate (Nominal)\n",
       "5          EuroIntRate  Money market interest rates of Euro area (EA11...\n",
       "6                  CPI                    Consumer Price Index (1998=100)\n",
       "7         OilSpotPrice       Europe Brent Spot Price FOB (NOK per Barrel)\n",
       "8           ImpOldShip             Imports of elderly ships (NOK million)\n",
       "9           ImpNewShip                 Imports of new ships (NOK million)\n",
       "10          ImpOilPlat             Imports of oil platforms (NOK million)\n",
       "11    ImpExShipOilPlat  Imports excl. ships and oil platforms (NOK mil...\n",
       "12           ExpCrdOil                 Exports of crude oil (NOK million)\n",
       "13           ExpNatGas               Exports of natural gas (NOK million)\n",
       "14             ExpCond               Exports of condensates (NOK million)\n",
       "15          ExpOldShip             Exports of elderly ships (NOK million)\n",
       "16          ExpNewShip                 Exports of new ships (NOK million)\n",
       "17          ExpOilPlat             Exports of oil platforms (NOK million)\n",
       "18    ExpExShipOilPlat  Exports excl. ships and oil platforms (NOK mil...\n",
       "19               TrBal  Trade balance (Total exports - total imports) ...\n",
       "20  TrBalExShipOilPlat  Trade balance (Exports - imports, both excl. s...\n",
       "21          TrBalMland  Trade balance (Mainland exports - imports excl...\n",
       "22              ly.var            First Lag Exchange Rate of NOK per Euro\n",
       "23             l2y.var           Second Lag Exchange Rate of NOK per Euro\n",
       "24               l.CPI                  First Lag of Consumer Price Index\n",
       "25           ExcChange  Change status of Exchange Rate (Increase, Decr...\n",
       "26            Testrain                  Test and Train seperation of data\n",
       "27              season                                            Seasons"
      ]
     },
     "execution_count": 3,
     "metadata": {},
     "output_type": "execute_result"
    }
   ],
   "source": [
    "# Read the FinalCodeBook sheet of the OilExchange.xlsx file using Pandas\n",
    "Explanations = pd.read_excel('../data/OilExchange.xlsx', sheet_name='FinalCodeBook')\n",
    "Explanations[['Variables','Label']]"
   ]
  },
  {
   "cell_type": "markdown",
   "metadata": {
    "editable": true,
    "slideshow": {
     "slide_type": "slide"
    },
    "tags": []
   },
   "source": [
    "### Modelling without time\n",
    "- For starters, let us ignore time and build a simple prediction model for the exchange rate.\n",
    "- We will use [scikit-learn's Pipeline](https://scikit-learn.org/stable/modules/generated/sklearn.pipeline.Pipeline.html) to combine standardisation (scaling) and linear regression and [cross_val_predict](https://scikit-learn.org/stable/modules/generated/sklearn.model_selection.cross_val_predict.html) to perform random K-fold cross-validation."
   ]
  },
  {
   "cell_type": "code",
   "execution_count": 4,
   "metadata": {
    "editable": true,
    "slideshow": {
     "slide_type": "fragment"
    },
    "tags": []
   },
   "outputs": [
    {
     "data": {
      "text/html": [
       "<style>#sk-container-id-1 {color: black;}#sk-container-id-1 pre{padding: 0;}#sk-container-id-1 div.sk-toggleable {background-color: white;}#sk-container-id-1 label.sk-toggleable__label {cursor: pointer;display: block;width: 100%;margin-bottom: 0;padding: 0.3em;box-sizing: border-box;text-align: center;}#sk-container-id-1 label.sk-toggleable__label-arrow:before {content: \"▸\";float: left;margin-right: 0.25em;color: #696969;}#sk-container-id-1 label.sk-toggleable__label-arrow:hover:before {color: black;}#sk-container-id-1 div.sk-estimator:hover label.sk-toggleable__label-arrow:before {color: black;}#sk-container-id-1 div.sk-toggleable__content {max-height: 0;max-width: 0;overflow: hidden;text-align: left;background-color: #f0f8ff;}#sk-container-id-1 div.sk-toggleable__content pre {margin: 0.2em;color: black;border-radius: 0.25em;background-color: #f0f8ff;}#sk-container-id-1 input.sk-toggleable__control:checked~div.sk-toggleable__content {max-height: 200px;max-width: 100%;overflow: auto;}#sk-container-id-1 input.sk-toggleable__control:checked~label.sk-toggleable__label-arrow:before {content: \"▾\";}#sk-container-id-1 div.sk-estimator input.sk-toggleable__control:checked~label.sk-toggleable__label {background-color: #d4ebff;}#sk-container-id-1 div.sk-label input.sk-toggleable__control:checked~label.sk-toggleable__label {background-color: #d4ebff;}#sk-container-id-1 input.sk-hidden--visually {border: 0;clip: rect(1px 1px 1px 1px);clip: rect(1px, 1px, 1px, 1px);height: 1px;margin: -1px;overflow: hidden;padding: 0;position: absolute;width: 1px;}#sk-container-id-1 div.sk-estimator {font-family: monospace;background-color: #f0f8ff;border: 1px dotted black;border-radius: 0.25em;box-sizing: border-box;margin-bottom: 0.5em;}#sk-container-id-1 div.sk-estimator:hover {background-color: #d4ebff;}#sk-container-id-1 div.sk-parallel-item::after {content: \"\";width: 100%;border-bottom: 1px solid gray;flex-grow: 1;}#sk-container-id-1 div.sk-label:hover label.sk-toggleable__label {background-color: #d4ebff;}#sk-container-id-1 div.sk-serial::before {content: \"\";position: absolute;border-left: 1px solid gray;box-sizing: border-box;top: 0;bottom: 0;left: 50%;z-index: 0;}#sk-container-id-1 div.sk-serial {display: flex;flex-direction: column;align-items: center;background-color: white;padding-right: 0.2em;padding-left: 0.2em;position: relative;}#sk-container-id-1 div.sk-item {position: relative;z-index: 1;}#sk-container-id-1 div.sk-parallel {display: flex;align-items: stretch;justify-content: center;background-color: white;position: relative;}#sk-container-id-1 div.sk-item::before, #sk-container-id-1 div.sk-parallel-item::before {content: \"\";position: absolute;border-left: 1px solid gray;box-sizing: border-box;top: 0;bottom: 0;left: 50%;z-index: -1;}#sk-container-id-1 div.sk-parallel-item {display: flex;flex-direction: column;z-index: 1;position: relative;background-color: white;}#sk-container-id-1 div.sk-parallel-item:first-child::after {align-self: flex-end;width: 50%;}#sk-container-id-1 div.sk-parallel-item:last-child::after {align-self: flex-start;width: 50%;}#sk-container-id-1 div.sk-parallel-item:only-child::after {width: 0;}#sk-container-id-1 div.sk-dashed-wrapped {border: 1px dashed gray;margin: 0 0.4em 0.5em 0.4em;box-sizing: border-box;padding-bottom: 0.4em;background-color: white;}#sk-container-id-1 div.sk-label label {font-family: monospace;font-weight: bold;display: inline-block;line-height: 1.2em;}#sk-container-id-1 div.sk-label-container {text-align: center;}#sk-container-id-1 div.sk-container {/* jupyter's `normalize.less` sets `[hidden] { display: none; }` but bootstrap.min.css set `[hidden] { display: none !important; }` so we also need the `!important` here to be able to override the default hidden behavior on the sphinx rendered scikit-learn.org. See: https://github.com/scikit-learn/scikit-learn/issues/21755 */display: inline-block !important;position: relative;}#sk-container-id-1 div.sk-text-repr-fallback {display: none;}</style><div id=\"sk-container-id-1\" class=\"sk-top-container\"><div class=\"sk-text-repr-fallback\"><pre>Pipeline(steps=[(&#x27;scaler&#x27;, StandardScaler()), (&#x27;reg&#x27;, LinearRegression())])</pre><b>In a Jupyter environment, please rerun this cell to show the HTML representation or trust the notebook. <br />On GitHub, the HTML representation is unable to render, please try loading this page with nbviewer.org.</b></div><div class=\"sk-container\" hidden><div class=\"sk-item sk-dashed-wrapped\"><div class=\"sk-label-container\"><div class=\"sk-label sk-toggleable\"><input class=\"sk-toggleable__control sk-hidden--visually\" id=\"sk-estimator-id-1\" type=\"checkbox\" ><label for=\"sk-estimator-id-1\" class=\"sk-toggleable__label sk-toggleable__label-arrow\">Pipeline</label><div class=\"sk-toggleable__content\"><pre>Pipeline(steps=[(&#x27;scaler&#x27;, StandardScaler()), (&#x27;reg&#x27;, LinearRegression())])</pre></div></div></div><div class=\"sk-serial\"><div class=\"sk-item\"><div class=\"sk-estimator sk-toggleable\"><input class=\"sk-toggleable__control sk-hidden--visually\" id=\"sk-estimator-id-2\" type=\"checkbox\" ><label for=\"sk-estimator-id-2\" class=\"sk-toggleable__label sk-toggleable__label-arrow\">StandardScaler</label><div class=\"sk-toggleable__content\"><pre>StandardScaler()</pre></div></div></div><div class=\"sk-item\"><div class=\"sk-estimator sk-toggleable\"><input class=\"sk-toggleable__control sk-hidden--visually\" id=\"sk-estimator-id-3\" type=\"checkbox\" ><label for=\"sk-estimator-id-3\" class=\"sk-toggleable__label sk-toggleable__label-arrow\">LinearRegression</label><div class=\"sk-toggleable__content\"><pre>LinearRegression()</pre></div></div></div></div></div></div></div>"
      ],
      "text/plain": [
       "Pipeline(steps=[('scaler', StandardScaler()), ('reg', LinearRegression())])"
      ]
     },
     "execution_count": 4,
     "metadata": {},
     "output_type": "execute_result"
    }
   ],
   "source": [
    "# Import Pipeline, StandardScaler, and LinearRegression from their respective modules in sklearn\n",
    "from sklearn.pipeline import Pipeline\n",
    "from sklearn.preprocessing import StandardScaler\n",
    "from sklearn.linear_model import LinearRegression\n",
    "\n",
    "# Create a pipeline that scales the data and performs linear regression\n",
    "pipe = Pipeline([('scaler', StandardScaler()), ('reg', LinearRegression())])\n",
    "\n",
    "# Fit the pipeline with PerEURO as response and variables 3:-4 as predictors for the samples having True in the Testrain column\n",
    "OilExchange_train = OilExchange.loc[OilExchange.Testrain==True,:].copy()\n",
    "OilExchange_test = OilExchange.loc[OilExchange.Testrain==False,:].copy()\n",
    "pipe.fit(OilExchange_train.loc[:, OilExchange_train.columns[3:-4]], \\\n",
    "         OilExchange_train.loc[:, 'PerEURO'])"
   ]
  },
  {
   "cell_type": "code",
   "execution_count": 5,
   "metadata": {
    "editable": true,
    "slideshow": {
     "slide_type": "slide"
    },
    "tags": []
   },
   "outputs": [],
   "source": [
    "# Predict the corresponding data for Testrain = False\n",
    "PerEURO_pred = pipe.predict(OilExchange_test.loc[:, OilExchange.columns[3:-4]])"
   ]
  },
  {
   "cell_type": "code",
   "execution_count": 6,
   "metadata": {
    "editable": true,
    "slideshow": {
     "slide_type": "fragment"
    },
    "tags": []
   },
   "outputs": [
    {
     "data": {
      "image/png": "[encoded data removed]",
      "text/plain": [
       "<Figure size 640x480 with 1 Axes>"
      ]
     },
     "metadata": {},
     "output_type": "display_data"
    }
   ],
   "source": [
    "# Plot the predicted values against the actual values\n",
    "import matplotlib.pyplot as plt\n",
    "plt.scatter(OilExchange_test.loc[:, 'PerEURO'], PerEURO_pred)\n",
    "plt.xlabel('Actual PerEURO')\n",
    "plt.ylabel('Predicted PerEURO')\n",
    "plt.title('Test data predictions')\n",
    "plt.show()"
   ]
  },
  {
   "cell_type": "code",
   "execution_count": 7,
   "metadata": {},
   "outputs": [
    {
     "data": {
      "text/plain": [
       "0.896536315837284"
      ]
     },
     "execution_count": 7,
     "metadata": {},
     "output_type": "execute_result"
    }
   ],
   "source": [
    "# R2 for the test data\n",
    "from sklearn.metrics import r2_score\n",
    "r2_score(OilExchange_test.loc[:, 'PerEURO'], PerEURO_pred)"
   ]
  },
  {
   "cell_type": "code",
   "execution_count": 8,
   "metadata": {
    "editable": true,
    "slideshow": {
     "slide_type": "slide"
    },
    "tags": []
   },
   "outputs": [
    {
     "name": "stdout",
     "output_type": "stream",
     "text": [
      "Cross-validated R2: 0.856\n"
     ]
    }
   ],
   "source": [
    "# Perform k-fold cross-validation with k=10\n",
    "from sklearn.model_selection import cross_val_predict # NOTE: Not for time series!\n",
    "PerEURO_cv = cross_val_predict(pipe, OilExchange_train.loc[:, OilExchange.columns[3:-4]], \\\n",
    "                               OilExchange_train.loc[:, 'PerEURO'], cv=10)\n",
    "\n",
    "# Compute R^2 for PerEURO_cv\n",
    "r2_cv = r2_score(OilExchange_train.loc[:, 'PerEURO'], PerEURO_cv)\n",
    "print(\"Cross-validated R2: {:.3f}\".format(r2_cv))"
   ]
  },
  {
   "cell_type": "markdown",
   "metadata": {
    "editable": true,
    "slideshow": {
     "slide_type": "slide"
    },
    "tags": []
   },
   "source": [
    "### Backtesting\n",
    "- scikit-learn has a [TimeSeriesSplit](https://scikit-learn.org/stable/modules/generated/sklearn.model_selection.TimeSeriesSplit.html) which creates segments for backtesting.\n",
    "    - _Expanding window_ is the default.\n",
    "    - _Sliding window_ can be applied by setting the right combination of parameters.\n",
    "- We will use [scikit-learn's cross_validate](https://scikit-learn.org/stable/modules/generated/sklearn.model_selection.cross_validate.html) to perform the cross-validation based on the backtesting segments (cross_val_predict assumes that all observations will be test data at some point).\n"
   ]
  },
  {
   "cell_type": "code",
   "execution_count": 9,
   "metadata": {
    "editable": true,
    "slideshow": {
     "slide_type": "slide"
    },
    "tags": []
   },
   "outputs": [
    {
     "name": "stdout",
     "output_type": "stream",
     "text": [
      "TimeSeriesSplit(gap=0, max_train_size=None, n_splits=5, test_size=None)\n",
      "Fold 0:\n",
      "  Train: index=[0]\n",
      "  Test:  index=[1]\n",
      "Fold 1:\n",
      "  Train: index=[0 1]\n",
      "  Test:  index=[2]\n",
      "Fold 2:\n",
      "  Train: index=[0 1 2]\n",
      "  Test:  index=[3]\n",
      "Fold 3:\n",
      "  Train: index=[0 1 2 3]\n",
      "  Test:  index=[4]\n",
      "Fold 4:\n",
      "  Train: index=[0 1 2 3 4]\n",
      "  Test:  index=[5]\n"
     ]
    }
   ],
   "source": [
    "# Backtesting using scikit-learn\n",
    "import numpy as np\n",
    "from sklearn.model_selection import TimeSeriesSplit\n",
    "\n",
    "# Some data\n",
    "X = np.array([[1, 2], [3, 4], [1, 2], [3, 4], [1, 2], [3, 4]])\n",
    "y = np.array([1, 2, 3, 4, 5, 6])\n",
    "\n",
    "# Create time series cross-validation object with expanding window\n",
    "tscv_expand = TimeSeriesSplit()\n",
    "print(tscv_expand)\n",
    "for i, (train_index, test_index) in enumerate(tscv_expand.split(X)):\n",
    "    print(f\"Fold {i}:\")\n",
    "    print(f\"  Train: index={train_index}\")\n",
    "    print(f\"  Test:  index={test_index}\")"
   ]
  },
  {
   "cell_type": "code",
   "execution_count": 10,
   "metadata": {
    "editable": true,
    "slideshow": {
     "slide_type": "slide"
    },
    "tags": []
   },
   "outputs": [
    {
     "name": "stdout",
     "output_type": "stream",
     "text": [
      "TimeSeriesSplit(gap=0, max_train_size=3, n_splits=3, test_size=None)\n",
      "Fold 0:\n",
      "  Train: index=[0 1 2]\n",
      "  Test:  index=[3]\n",
      "Fold 1:\n",
      "  Train: index=[1 2 3]\n",
      "  Test:  index=[4]\n",
      "Fold 2:\n",
      "  Train: index=[2 3 4]\n",
      "  Test:  index=[5]\n"
     ]
    }
   ],
   "source": [
    "# Backtesting with sliding window\n",
    "tscv_slide = TimeSeriesSplit(max_train_size=3, n_splits=3)\n",
    "print(tscv_slide)\n",
    "for i, (train_index, test_index) in enumerate(tscv_slide.split(X)):\n",
    "    print(f\"Fold {i}:\")\n",
    "    print(f\"  Train: index={train_index}\")\n",
    "    print(f\"  Test:  index={test_index}\")"
   ]
  },
  {
   "cell_type": "code",
   "execution_count": 11,
   "metadata": {
    "editable": true,
    "slideshow": {
     "slide_type": "slide"
    },
    "tags": []
   },
   "outputs": [
    {
     "name": "stdout",
     "output_type": "stream",
     "text": [
      "Fold 0:\n",
      "  Train: index=[ 0  1  2  3  4  5  6  7  8  9 10 11 12 13 14 15]\n",
      "  Test:  index=[16 17 18 19 20 21 22 23 24 25 26 27 28 29]\n",
      "Fold 1:\n",
      "  Train: index=[ 0  1  2  3  4  5  6  7  8  9 10 11 12 13 14 15 16 17 18 19 20 21 22 23\n",
      " 24 25 26 27 28 29]\n",
      "  Test:  index=[30 31 32 33 34 35 36 37 38 39 40 41 42 43]\n",
      "Fold 2:\n",
      "  Train: index=[ 0  1  2  3  4  5  6  7  8  9 10 11 12 13 14 15 16 17 18 19 20 21 22 23\n",
      " 24 25 26 27 28 29 30 31 32 33 34 35 36 37 38 39 40 41 42 43]\n",
      "  Test:  index=[44 45 46 47 48 49 50 51 52 53 54 55 56 57]\n",
      "Fold 3:\n",
      "  Train: index=[ 0  1  2  3  4  5  6  7  8  9 10 11 12 13 14 15 16 17 18 19 20 21 22 23\n",
      " 24 25 26 27 28 29 30 31 32 33 34 35 36 37 38 39 40 41 42 43 44 45 46 47\n",
      " 48 49 50 51 52 53 54 55 56 57]\n",
      "  Test:  index=[58 59 60 61 62 63 64 65 66 67 68 69 70 71]\n",
      "Fold 4:\n",
      "  Train: index=[ 0  1  2  3  4  5  6  7  8  9 10 11 12 13 14 15 16 17 18 19 20 21 22 23\n",
      " 24 25 26 27 28 29 30 31 32 33 34 35 36 37 38 39 40 41 42 43 44 45 46 47\n",
      " 48 49 50 51 52 53 54 55 56 57 58 59 60 61 62 63 64 65 66 67 68 69 70 71]\n",
      "  Test:  index=[72 73 74 75 76 77 78 79 80 81 82 83 84 85]\n",
      "Fold 5:\n",
      "  Train: index=[ 0  1  2  3  4  5  6  7  8  9 10 11 12 13 14 15 16 17 18 19 20 21 22 23\n",
      " 24 25 26 27 28 29 30 31 32 33 34 35 36 37 38 39 40 41 42 43 44 45 46 47\n",
      " 48 49 50 51 52 53 54 55 56 57 58 59 60 61 62 63 64 65 66 67 68 69 70 71\n",
      " 72 73 74 75 76 77 78 79 80 81 82 83 84 85]\n",
      "  Test:  index=[86 87 88 89 90 91 92 93 94 95 96 97 98 99]\n",
      "Fold 6:\n",
      "  Train: index=[ 0  1  2  3  4  5  6  7  8  9 10 11 12 13 14 15 16 17 18 19 20 21 22 23\n",
      " 24 25 26 27 28 29 30 31 32 33 34 35 36 37 38 39 40 41 42 43 44 45 46 47\n",
      " 48 49 50 51 52 53 54 55 56 57 58 59 60 61 62 63 64 65 66 67 68 69 70 71\n",
      " 72 73 74 75 76 77 78 79 80 81 82 83 84 85 86 87 88 89 90 91 92 93 94 95\n",
      " 96 97 98 99]\n",
      "  Test:  index=[100 101 102 103 104 105 106 107 108 109 110 111 112 113]\n",
      "Fold 7:\n",
      "  Train: index=[  0   1   2   3   4   5   6   7   8   9  10  11  12  13  14  15  16  17\n",
      "  18  19  20  21  22  23  24  25  26  27  28  29  30  31  32  33  34  35\n",
      "  36  37  38  39  40  41  42  43  44  45  46  47  48  49  50  51  52  53\n",
      "  54  55  56  57  58  59  60  61  62  63  64  65  66  67  68  69  70  71\n",
      "  72  73  74  75  76  77  78  79  80  81  82  83  84  85  86  87  88  89\n",
      "  90  91  92  93  94  95  96  97  98  99 100 101 102 103 104 105 106 107\n",
      " 108 109 110 111 112 113]\n",
      "  Test:  index=[114 115 116 117 118 119 120 121 122 123 124 125 126 127]\n",
      "Fold 8:\n",
      "  Train: index=[  0   1   2   3   4   5   6   7   8   9  10  11  12  13  14  15  16  17\n",
      "  18  19  20  21  22  23  24  25  26  27  28  29  30  31  32  33  34  35\n",
      "  36  37  38  39  40  41  42  43  44  45  46  47  48  49  50  51  52  53\n",
      "  54  55  56  57  58  59  60  61  62  63  64  65  66  67  68  69  70  71\n",
      "  72  73  74  75  76  77  78  79  80  81  82  83  84  85  86  87  88  89\n",
      "  90  91  92  93  94  95  96  97  98  99 100 101 102 103 104 105 106 107\n",
      " 108 109 110 111 112 113 114 115 116 117 118 119 120 121 122 123 124 125\n",
      " 126 127]\n",
      "  Test:  index=[128 129 130 131 132 133 134 135 136 137 138 139 140 141]\n",
      "Fold 9:\n",
      "  Train: index=[  0   1   2   3   4   5   6   7   8   9  10  11  12  13  14  15  16  17\n",
      "  18  19  20  21  22  23  24  25  26  27  28  29  30  31  32  33  34  35\n",
      "  36  37  38  39  40  41  42  43  44  45  46  47  48  49  50  51  52  53\n",
      "  54  55  56  57  58  59  60  61  62  63  64  65  66  67  68  69  70  71\n",
      "  72  73  74  75  76  77  78  79  80  81  82  83  84  85  86  87  88  89\n",
      "  90  91  92  93  94  95  96  97  98  99 100 101 102 103 104 105 106 107\n",
      " 108 109 110 111 112 113 114 115 116 117 118 119 120 121 122 123 124 125\n",
      " 126 127 128 129 130 131 132 133 134 135 136 137 138 139 140 141]\n",
      "  Test:  index=[142 143 144 145 146 147 148 149 150 151 152 153 154 155]\n"
     ]
    }
   ],
   "source": [
    "# Backtesting with expanding window in the OilExchange data\n",
    "tscv_expand = TimeSeriesSplit(n_splits=10)\n",
    "\n",
    "# The segments\n",
    "max_train = []\n",
    "for i, (train_index, test_index) in enumerate(tscv_expand.split(OilExchange_train.loc[:, 'PerEURO'])):\n",
    "    print(f\"Fold {i}:\")\n",
    "    print(f\"  Train: index={train_index}\")\n",
    "    max_train.append(max(train_index))\n",
    "    print(f\"  Test:  index={test_index}\")"
   ]
  },
  {
   "cell_type": "code",
   "execution_count": 12,
   "metadata": {
    "editable": true,
    "slideshow": {
     "slide_type": "slide"
    },
    "tags": []
   },
   "outputs": [
    {
     "data": {
      "text/plain": [
       "{'fit_time': array([0.00783491, 0.00224495, 0.00221896, 0.00198197, 0.00177598,\n",
       "        0.00175905, 0.00153279, 0.00201392, 0.00180817, 0.00191903]),\n",
       " 'score_time': array([0.00237417, 0.000875  , 0.0007472 , 0.00082707, 0.00078583,\n",
       "        0.00072074, 0.00085926, 0.00085711, 0.00078011, 0.00074005]),\n",
       " 'test_score': array([-2.69048314e+03, -1.41149796e+00, -1.48578129e+00,  7.23344314e-01,\n",
       "        -6.50606924e-01, -3.58429116e+11,  7.24779062e-01,  6.71076212e-01,\n",
       "         3.28546992e-01,  3.81553550e-01]),\n",
       " 'train_score': array([1.        , 0.99453091, 0.95716141, 0.93872775, 0.93292152,\n",
       "        0.90824008, 0.87955959, 0.90748863, 0.90501893, 0.90399728])}"
      ]
     },
     "execution_count": 12,
     "metadata": {},
     "output_type": "execute_result"
    }
   ],
   "source": [
    "# Backtesting using expanding window with data\n",
    "from sklearn.model_selection import cross_validate\n",
    "scores = cross_validate(pipe, OilExchange_train.loc[:, OilExchange_train.columns[3:-4]], \\\n",
    "                                 OilExchange_train.loc[:, 'PerEURO'], cv=tscv_expand, \\\n",
    "                                    scoring='r2', return_train_score=True)\n",
    "scores"
   ]
  },
  {
   "cell_type": "code",
   "execution_count": 13,
   "metadata": {
    "editable": true,
    "slideshow": {
     "slide_type": "slide"
    },
    "tags": []
   },
   "outputs": [
    {
     "data": {
      "image/png": "[encoded data removed]",
      "text/plain": [
       "<Figure size 640x480 with 2 Axes>"
      ]
     },
     "metadata": {},
     "output_type": "display_data"
    }
   ],
   "source": [
    "# Plot the backtesting results for train and test data, and under it ad the original data (PerEURO) as a subplot\n",
    "plt.subplot(2,1,1)\n",
    "plt.plot(scores['train_score'], label='Train')\n",
    "plt.plot(scores['test_score'], label='Test')\n",
    "plt.xlabel('Fold')\n",
    "plt.ylabel('R$^2$')\n",
    "plt.title('Backtesting results')\n",
    "plt.axhline(0, color='gray', linestyle='--')\n",
    "plt.ylim(-1.6,1.1)\n",
    "plt.legend()\n",
    "plt.subplot(2,1,2)\n",
    "plt.plot(OilExchange_train.loc[:, 'PerEURO'])\n",
    "for i in range(10):\n",
    "    plt.axvline(x=max_train[i], color='gray', linestyle='--')\n",
    "plt.xlabel('Time')\n",
    "plt.ylabel('PerEURO')\n",
    "plt.show()"
   ]
  },
  {
   "cell_type": "markdown",
   "metadata": {
    "editable": true,
    "slideshow": {
     "slide_type": ""
    },
    "tags": []
   },
   "source": [
    "__Question:__ Does the behaviour make sense with regard to what is included in and predicted from the model?"
   ]
  },
  {
   "cell_type": "code",
   "execution_count": 14,
   "metadata": {
    "editable": true,
    "slideshow": {
     "slide_type": "slide"
    },
    "tags": []
   },
   "outputs": [
    {
     "name": "stdout",
     "output_type": "stream",
     "text": [
      "Fold 0:\n",
      "  Train: index=[ 0  1  2  3  4  5  6  7  8  9 10 11 12 13 14 15]\n",
      "  Test:  index=[16 17 18 19 20 21 22 23 24 25 26 27 28 29]\n",
      "Fold 1:\n",
      "  Train: index=[ 0  1  2  3  4  5  6  7  8  9 10 11 12 13 14 15 16 17 18 19 20 21 22 23\n",
      " 24 25 26 27 28 29]\n",
      "  Test:  index=[30 31 32 33 34 35 36 37 38 39 40 41 42 43]\n",
      "Fold 2:\n",
      "  Train: index=[ 0  1  2  3  4  5  6  7  8  9 10 11 12 13 14 15 16 17 18 19 20 21 22 23\n",
      " 24 25 26 27 28 29 30 31 32 33 34 35 36 37 38 39 40 41 42 43]\n",
      "  Test:  index=[44 45 46 47 48 49 50 51 52 53 54 55 56 57]\n",
      "Fold 3:\n",
      "  Train: index=[13 14 15 16 17 18 19 20 21 22 23 24 25 26 27 28 29 30 31 32 33 34 35 36\n",
      " 37 38 39 40 41 42 43 44 45 46 47 48 49 50 51 52 53 54 55 56 57]\n",
      "  Test:  index=[58 59 60 61 62 63 64 65 66 67 68 69 70 71]\n",
      "Fold 4:\n",
      "  Train: index=[27 28 29 30 31 32 33 34 35 36 37 38 39 40 41 42 43 44 45 46 47 48 49 50\n",
      " 51 52 53 54 55 56 57 58 59 60 61 62 63 64 65 66 67 68 69 70 71]\n",
      "  Test:  index=[72 73 74 75 76 77 78 79 80 81 82 83 84 85]\n",
      "Fold 5:\n",
      "  Train: index=[41 42 43 44 45 46 47 48 49 50 51 52 53 54 55 56 57 58 59 60 61 62 63 64\n",
      " 65 66 67 68 69 70 71 72 73 74 75 76 77 78 79 80 81 82 83 84 85]\n",
      "  Test:  index=[86 87 88 89 90 91 92 93 94 95 96 97 98 99]\n",
      "Fold 6:\n",
      "  Train: index=[55 56 57 58 59 60 61 62 63 64 65 66 67 68 69 70 71 72 73 74 75 76 77 78\n",
      " 79 80 81 82 83 84 85 86 87 88 89 90 91 92 93 94 95 96 97 98 99]\n",
      "  Test:  index=[100 101 102 103 104 105 106 107 108 109 110 111 112 113]\n",
      "Fold 7:\n",
      "  Train: index=[ 69  70  71  72  73  74  75  76  77  78  79  80  81  82  83  84  85  86\n",
      "  87  88  89  90  91  92  93  94  95  96  97  98  99 100 101 102 103 104\n",
      " 105 106 107 108 109 110 111 112 113]\n",
      "  Test:  index=[114 115 116 117 118 119 120 121 122 123 124 125 126 127]\n",
      "Fold 8:\n",
      "  Train: index=[ 83  84  85  86  87  88  89  90  91  92  93  94  95  96  97  98  99 100\n",
      " 101 102 103 104 105 106 107 108 109 110 111 112 113 114 115 116 117 118\n",
      " 119 120 121 122 123 124 125 126 127]\n",
      "  Test:  index=[128 129 130 131 132 133 134 135 136 137 138 139 140 141]\n",
      "Fold 9:\n",
      "  Train: index=[ 97  98  99 100 101 102 103 104 105 106 107 108 109 110 111 112 113 114\n",
      " 115 116 117 118 119 120 121 122 123 124 125 126 127 128 129 130 131 132\n",
      " 133 134 135 136 137 138 139 140 141]\n",
      "  Test:  index=[142 143 144 145 146 147 148 149 150 151 152 153 154 155]\n"
     ]
    }
   ],
   "source": [
    "# Backtesting with sliding window in the OilExchange data\n",
    "tscv_slide = TimeSeriesSplit(max_train_size=45, n_splits=10)\n",
    "\n",
    "# The segments\n",
    "max_train = []\n",
    "for i, (train_index, test_index) in enumerate(tscv_slide.split(OilExchange_train.loc[:, 'PerEURO'])):\n",
    "    print(f\"Fold {i}:\")\n",
    "    print(f\"  Train: index={train_index}\")\n",
    "    max_train.append(max(train_index))\n",
    "    print(f\"  Test:  index={test_index}\")"
   ]
  },
  {
   "cell_type": "code",
   "execution_count": 15,
   "metadata": {
    "editable": true,
    "slideshow": {
     "slide_type": "slide"
    },
    "tags": []
   },
   "outputs": [
    {
     "data": {
      "text/plain": [
       "{'fit_time': array([0.00920892, 0.00219202, 0.00195599, 0.00184083, 0.0015471 ,\n",
       "        0.00246572, 0.00320387, 0.00188518, 0.00204229, 0.00174904]),\n",
       " 'score_time': array([0.001513  , 0.00082111, 0.00088906, 0.00070286, 0.000808  ,\n",
       "        0.00087214, 0.00101686, 0.00075698, 0.00076175, 0.00069904]),\n",
       " 'test_score': array([-2.69048314e+03, -1.41149796e+00, -1.48578129e+00,  2.15110054e-01,\n",
       "        -7.83627964e+00, -1.40606556e+12,  5.20015261e-01, -2.78711930e+00,\n",
       "        -7.94540495e+04,  3.87646039e-01]),\n",
       " 'train_score': array([1.        , 0.99453091, 0.95716141, 0.94470747, 0.96005874,\n",
       "        0.90744159, 0.75351647, 0.96129276, 0.93446863, 0.94984339])}"
      ]
     },
     "execution_count": 15,
     "metadata": {},
     "output_type": "execute_result"
    }
   ],
   "source": [
    "# Backtesting using sliding window with data\n",
    "from sklearn.model_selection import cross_validate\n",
    "scores = cross_validate(pipe, OilExchange_train.loc[:, OilExchange_train.columns[3:-4]], \\\n",
    "                                 OilExchange_train.loc[:, 'PerEURO'], cv=tscv_slide, \\\n",
    "                                    scoring='r2', return_train_score=True)\n",
    "scores"
   ]
  },
  {
   "cell_type": "code",
   "execution_count": 19,
   "metadata": {
    "editable": true,
    "slideshow": {
     "slide_type": "slide"
    },
    "tags": []
   },
   "outputs": [
    {
     "data": {
      "image/png": "[encoded data removed]",
      "text/plain": [
       "<Figure size 640x480 with 2 Axes>"
      ]
     },
     "metadata": {},
     "output_type": "display_data"
    }
   ],
   "source": [
    "# Plot the backtesting results for train and test data, and under it ad the original data (PerEURO) as a subplot\n",
    "plt.subplot(2,1,1)\n",
    "plt.plot(scores['train_score'], label='Train')\n",
    "plt.plot(scores['test_score'], label='Test')\n",
    "plt.xlabel('Fold')\n",
    "plt.ylabel('R$^2$')\n",
    "plt.title('Backtesting results')\n",
    "plt.axhline(0, color='gray', linestyle='--')\n",
    "plt.ylim(-1.6,1.1)\n",
    "plt.legend()\n",
    "plt.subplot(2,1,2)\n",
    "plt.plot(OilExchange_train.loc[:, 'PerEURO'])\n",
    "for i in range(10):\n",
    "    plt.axvline(x=max_train[i], color='gray', linestyle='--')\n",
    "plt.xlabel('Time')\n",
    "plt.ylabel('PerEURO')\n",
    "plt.show()"
   ]
  },
  {
   "cell_type": "markdown",
   "metadata": {
    "editable": true,
    "slideshow": {
     "slide_type": ""
    },
    "tags": []
   },
   "source": [
    "__Question:__ Again; does the behaviour make sense with regard to what is included in and predicted from the model?"
   ]
  },
  {
   "cell_type": "markdown",
   "metadata": {
    "editable": true,
    "slideshow": {
     "slide_type": "slide"
    },
    "tags": []
   },
   "source": [
    "## Exercise\n",
    "- Repeat the PerEuro predictions, but exchange LinearRegression with scikit-learns's _PLSRegression_.\n",
    "- Check if the number of components in the PLS model has an effect on the explained variance ($\\text{R}^2$), either manually or using a _GridSearchCV_."
   ]
  },
  {
   "cell_type": "markdown",
   "metadata": {
    "editable": true,
    "slideshow": {
     "slide_type": "slide"
    },
    "tags": []
   },
   "source": [
    "### Including the response variable in the predictors\n",
    "- As long as the training and test sets are not overlapping, we can include the response as a predictor.\n",
    "- Adding the response lagged can be done as a single variable or several variables (i.e., several different lags).\n",
    "- We will later look at ARIMA-type models where time lag is the main mechanism for modelling."
   ]
  },
  {
   "cell_type": "code",
   "execution_count": null,
   "metadata": {
    "editable": true,
    "slideshow": {
     "slide_type": "fragment"
    },
    "tags": []
   },
   "outputs": [],
   "source": [
    "# Add the Per Euro column to the OilExchange data but shifted 1 timepoint backwards (and backfill last value)\n",
    "OilExchange_train['PerEURO_lag1'] = OilExchange_train.PerEURO.shift(1).bfill()\n",
    "OilExchange_train.head()"
   ]
  },
  {
   "cell_type": "code",
   "execution_count": null,
   "metadata": {
    "editable": true,
    "slideshow": {
     "slide_type": "slide"
    },
    "tags": []
   },
   "outputs": [],
   "source": [
    "# Backtesting using sliding window with data\n",
    "from sklearn.model_selection import cross_validate #       Negative indexing is scary!      -->\n",
    "scores = cross_validate(pipe, pd.concat([OilExchange_train.loc[:, OilExchange_train.columns[3:-5]], OilExchange_train[\"PerEURO_lag1\"]], axis=1), \\\n",
    "                                 OilExchange_train.loc[:, 'PerEURO'], cv=tscv_slide, \\\n",
    "                                    scoring='r2', return_train_score=True)\n",
    "scores"
   ]
  },
  {
   "cell_type": "code",
   "execution_count": null,
   "metadata": {
    "editable": true,
    "slideshow": {
     "slide_type": "slide"
    },
    "tags": []
   },
   "outputs": [],
   "source": [
    "# Plot the backtesting results for train and test data, and under it ad the original data (PerEURO) as a subplot\n",
    "plt.subplot(2,1,1)\n",
    "plt.plot(scores['train_score'], label='Train')\n",
    "plt.plot(scores['test_score'], label='Test')\n",
    "plt.xlabel('Fold')\n",
    "plt.ylabel('R^2')\n",
    "plt.title('Backtesting results')\n",
    "plt.axhline(0, color='gray', linestyle='--')\n",
    "plt.ylim(-1.6,1.1)\n",
    "plt.legend()\n",
    "plt.subplot(2,1,2)\n",
    "plt.plot(OilExchange_train.loc[:, 'PerEURO'])\n",
    "for i in range(10):\n",
    "    plt.axvline(x=max_train[i], color='gray', linestyle='--')\n",
    "plt.xlabel('Time')\n",
    "plt.ylabel('PerEURO')\n",
    "plt.show()"
   ]
  },
  {
   "cell_type": "markdown",
   "metadata": {
    "editable": true,
    "slideshow": {
     "slide_type": "slide"
    },
    "tags": []
   },
   "source": [
    "### Five lags"
   ]
  },
  {
   "cell_type": "code",
   "execution_count": null,
   "metadata": {
    "editable": true,
    "slideshow": {
     "slide_type": ""
    },
    "tags": []
   },
   "outputs": [],
   "source": [
    "OilExchange_train['PerEURO_lag2'] = OilExchange_train.PerEURO.shift(2).bfill()\n",
    "OilExchange_train['PerEURO_lag3'] = OilExchange_train.PerEURO.shift(3).bfill()\n",
    "OilExchange_train['PerEURO_lag4'] = OilExchange_train.PerEURO.shift(4).bfill()\n",
    "OilExchange_train['PerEURO_lag5'] = OilExchange_train.PerEURO.shift(5).bfill()\n",
    "OilExchange_train.head()"
   ]
  },
  {
   "cell_type": "code",
   "execution_count": null,
   "metadata": {
    "editable": true,
    "slideshow": {
     "slide_type": "slide"
    },
    "tags": []
   },
   "outputs": [],
   "source": [
    "# Backtesting using sliding window with data\n",
    "from sklearn.model_selection import cross_validate #       Negative indexing is scary!      -->\n",
    "scores = cross_validate(pipe, pd.concat([OilExchange_train.loc[:, OilExchange_train.columns[3:-9]], \n",
    "                                         OilExchange_train[[\"PerEURO_lag1\",\"PerEURO_lag2\",\"PerEURO_lag3\",\"PerEURO_lag4\",\"PerEURO_lag5\"]]], axis=1),\n",
    "                                         OilExchange_train.loc[:, 'PerEURO'], cv=tscv_slide,\n",
    "                                         scoring='r2', return_train_score=True)\n",
    "scores"
   ]
  },
  {
   "cell_type": "code",
   "execution_count": null,
   "metadata": {
    "editable": true,
    "slideshow": {
     "slide_type": "slide"
    },
    "tags": []
   },
   "outputs": [],
   "source": [
    "# Plot the backtesting results for train and test data, and under it ad the original data (PerEURO) as a subplot\n",
    "plt.subplot(2,1,1)\n",
    "plt.plot(scores['train_score'], label='Train')\n",
    "plt.plot(scores['test_score'], label='Test')\n",
    "plt.xlabel('Fold')\n",
    "plt.ylabel('R^2')\n",
    "plt.title('Backtesting results')\n",
    "plt.axhline(0, color='gray', linestyle='--')\n",
    "plt.ylim(-1.6,1.1)\n",
    "plt.legend()\n",
    "plt.subplot(2,1,2)\n",
    "plt.plot(OilExchange_train.loc[:, 'PerEURO'])\n",
    "for i in range(10):\n",
    "    plt.axvline(x=max_train[i], color='gray', linestyle='--')\n",
    "plt.xlabel('Time')\n",
    "plt.ylabel('PerEURO')\n",
    "plt.show()"
   ]
  },
  {
   "cell_type": "markdown",
   "metadata": {
    "editable": true,
    "slideshow": {
     "slide_type": "slide"
    },
    "tags": []
   },
   "source": [
    "## Correlation between time series\n",
    "- To get an impression of the connection between different variables, one can compute correlations, e.g., in the form of correlation a matrix.\n",
    "- If one expects one variable to affect another variable at a later time, correlation with a lag can be computed.\n",
    "- The degree of connection between two time series may also be dependent on time. \n",
    "    - A sliding window correlation shows local correlation in time windows.\n",
    "    - The window size (and possible lag) can be tuned for series of quick or slow changes.\n",
    "- __Note__: Correlation does not equal causation.\n",
    "    - There may not be a cause and effect, even though two phenomena show similar patterns. Beautifully illustrated by [Tyler Vigen](https://www.tylervigen.com/spurious-correlations).\n",
    "- The concept of Autocorrelation will be covered later."
   ]
  },
  {
   "cell_type": "code",
   "execution_count": null,
   "metadata": {
    "editable": true,
    "slideshow": {
     "slide_type": "slide"
    },
    "tags": []
   },
   "outputs": [],
   "source": [
    "PerEURO_ExpNatGas_corr = np.corrcoef(OilExchange['PerEURO'], OilExchange['ExpNatGas'])\n",
    "PerEURO_ExpNatGas_corr_lagged = np.corrcoef(OilExchange['PerEURO'][10:], OilExchange['ExpNatGas'][0:len(OilExchange['ExpNatGas'])-10])\n",
    "print(\"Correlation between PerEURO and ExpNatGas: {:.3f}\".format(PerEURO_ExpNatGas_corr[0,1]))\n",
    "print(\"Correlation between PerEURO and ExpNatGas lagged 10 timepoints: {:.3f}\".format(PerEURO_ExpNatGas_corr_lagged[0,1]))"
   ]
  },
  {
   "cell_type": "code",
   "execution_count": null,
   "metadata": {
    "editable": true,
    "slideshow": {
     "slide_type": "slide"
    },
    "tags": []
   },
   "outputs": [],
   "source": [
    "# Use ipywidgets to create a slider for the lag\n",
    "from ipywidgets import interact\n",
    "def lagged_correlation(lag=0):\n",
    "    x.index += lag\n",
    "    corr = np.corrcoef(y[lag:], x[0:len(y)-lag])\n",
    "    print(\"Correlation between {} and {} lagged {} timepoints: {:.3f}\".format(x.name, y.name, lag, corr[0,1]))\n",
    "\n",
    "x = OilExchange['ExpNatGas']\n",
    "y = OilExchange['PerEURO']\n",
    "interact(lagged_correlation, lag=(0,100,1)); # Semi-colon to suppress output"
   ]
  },
  {
   "cell_type": "markdown",
   "metadata": {
    "editable": true,
    "slideshow": {
     "slide_type": ""
    },
    "tags": []
   },
   "source": [
    "__Note__: If the lag approaches the length of the series, few points are included in the calculations."
   ]
  },
  {
   "cell_type": "code",
   "execution_count": null,
   "metadata": {
    "editable": true,
    "slideshow": {
     "slide_type": "slide"
    },
    "tags": []
   },
   "outputs": [],
   "source": [
    "# Sliding window correlation with window size 45\n",
    "PerEURO_ExpNatGas_SWC = OilExchange['PerEURO'].rolling(45, center=True).corr(OilExchange['ExpNatGas'])\n",
    "\n",
    "# Plot PerEURO, ExpNatGas and PerEURO_ExpNatGas_SWC as subplots\n",
    "def plot_SWC(center=22):\n",
    "    plt.subplot(3,1,1)\n",
    "    plt.plot(OilExchange['PerEURO'])\n",
    "    plt.plot(range(center-22,center+22), OilExchange['PerEURO'][center-22:center+22], color=\"red\")\n",
    "    plt.ylabel('PerEURO')\n",
    "    plt.xlim(0, len(OilExchange['PerEURO']))\n",
    "    plt.subplot(3,1,2)\n",
    "    plt.plot(OilExchange['ExpNatGas'])\n",
    "    plt.plot(range(center-22,center+22), OilExchange['ExpNatGas'][center-22:center+22], color=\"red\")\n",
    "    plt.ylabel('ExpNatGas')\n",
    "    plt.xlim(0, len(OilExchange['PerEURO']))\n",
    "    plt.subplot(3,1,3)\n",
    "    plt.plot(PerEURO_ExpNatGas_SWC)\n",
    "    plt.plot(center, PerEURO_ExpNatGas_SWC[center], 'r.')\n",
    "    plt.axhline(y=0, color='gray', linestyle=':')\n",
    "    plt.ylim(-1,1)\n",
    "    plt.xlim(0, len(OilExchange['PerEURO']))\n",
    "    plt.xlabel('Time')\n",
    "    plt.ylabel('SWC')\n",
    "    plt.show()\n",
    "\n",
    "interact(plot_SWC, center=(22,len(OilExchange['PerEURO'])-23,1)); # Semi-colon to suppress output"
   ]
  },
  {
   "cell_type": "markdown",
   "metadata": {
    "editable": true,
    "slideshow": {
     "slide_type": "slide"
    },
    "tags": []
   },
   "source": [
    "### Pandas' rolling()\n",
    "- When applying Pandas' rolling() function, the index is used for matching the data points.\n",
    "- Therefore, we need to shift the index of the ExpNatGas to achieve a lag.\n",
    "- Because of the sliding window, the two series do not need to match in length."
   ]
  },
  {
   "cell_type": "code",
   "execution_count": null,
   "metadata": {
    "editable": true,
    "slideshow": {
     "slide_type": "fragment"
    },
    "tags": []
   },
   "outputs": [],
   "source": [
    "OE = OilExchange['ExpNatGas'].copy() # <- Remember to copy, to avoid changing the original data!\n",
    "OE.index += 10\n",
    "plt.plot(OilExchange['PerEURO'].rolling(45, center=True).corr(OE))\n",
    "plt.xlim(0, len(OilExchange['PerEURO']))\n",
    "plt.show()\n",
    "OE.index"
   ]
  },
  {
   "cell_type": "markdown",
   "metadata": {
    "editable": true,
    "slideshow": {
     "slide_type": "slide"
    },
    "tags": []
   },
   "source": [
    "## Exercise\n",
    "- Combine lag and sliding window correlation.\n",
    "- Use _ipywidgets_ to control:\n",
    "    - window width\n",
    "    - lag\n",
    "    - selected variable to compare to PerEURO\n",
    "    - bonus: visualize the sliding window like above"
   ]
  },
  {
   "cell_type": "markdown",
   "metadata": {
    "editable": true,
    "slideshow": {
     "slide_type": "slide"
    },
    "tags": []
   },
   "source": [
    "## Resources\n",
    "- [Roy Yang's bloggpost on uber.com](https://www.uber.com/en-NO/blog/omphalos/)\n",
    "- Raju Rimal's dataset on [ResearchGate](https://www.researchgate.net/publication/275647285_Related_Dataset),\n",
    "- ... and his [Master thesis](https://nmbu.brage.unit.no/nmbu-xmlui/handle/11250/283547).\n",
    "- [scikit-learn's TimeSeriesSplit](https://scikit-learn.org/stable/modules/generated/sklearn.model_selection.TimeSeriesSplit.html)\n",
    "- [scikit-learn's Pipeline](https://scikit-learn.org/stable/modules/generated/sklearn.pipeline.Pipeline.html)\n",
    "- [scikit-learn's cross_val_predict](https://scikit-learn.org/stable/modules/generated/sklearn.model_selection.cross_val_predict.html)\n",
    "- [scikit-learn's cross_validate](https://scikit-learn.org/stable/modules/generated/sklearn.model_selection.cross_validate.html)\n",
    "- [Pandas' rolling](https://pandas.pydata.org/docs/reference/api/pandas.DataFrame.rolling.html)"
   ]
  }
 ],
 "metadata": {
  "kernelspec": {
   "display_name": "Python 3 (ipykernel)",
   "language": "python",
   "name": "python3"
  },
  "language_info": {
   "codemirror_mode": {
    "name": "ipython",
    "version": 3
   },
   "file_extension": ".py",
   "mimetype": "text/x-python",
   "name": "python",
   "nbconvert_exporter": "python",
   "pygments_lexer": "ipython3",
   "version": "3.11.6"
  }
 },
 "nbformat": 4,
 "nbformat_minor": 4
}
