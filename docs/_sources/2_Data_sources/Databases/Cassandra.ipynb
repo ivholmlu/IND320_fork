{
 "cells": [
  {
   "attachments": {},
   "cell_type": "markdown",
   "metadata": {},
   "source": [
    "# Cassandra\n",
    "Assumptions:\n",
    "- Docker installed on system\n",
    "- \"cassandra:latest\" image installed in docker\n",
    "- Python/Conda environment with python 3.8 (or newer*)  \n",
    "  \n",
    "*As of 9 August 2023, the officially built cassandra-driver package was at version 3.25 and did not work well with Python 3.10 on Mac.  \n",
    "To install a newer version from the terminal you can:  \n",
    "```\n",
    "pip install git+https://github.com/datastax/python-driver.git\n",
    "pip install cql\n",
    "```\n",
    "  \n",
    "Or use older Python:  \n",
    "```\n",
    "conda create --name cassy38 python=3.8 jupyter scikit-learn\n",
    "conda activate cassy38  \n",
    "pip install cassandra-driver cql\n",
    "```"
   ]
  },
  {
   "attachments": {},
   "cell_type": "markdown",
   "metadata": {},
   "source": [
    "## Spinning up a local cassandra instance\n",
    "In a terminal:  \n",
    "```docker run --name my_cassandra cassandra:latest -p 9042:9042```  \n",
    "  \n",
    ".. or in Docker Desktop:\n",
    "- Run the cassandra container with optional settings, opening 9042 port (left-hand side)."
   ]
  },
  {
   "cell_type": "code",
   "execution_count": 1,
   "metadata": {},
   "outputs": [],
   "source": [
    "# Connecting to Cassandra\n",
    "from cassandra.cluster import Cluster\n",
    "cluster = Cluster(['localhost'], port=9042)\n",
    "session = cluster.connect()"
   ]
  },
  {
   "cell_type": "markdown",
   "metadata": {},
   "source": [
    "### Keyspace\n",
    "- In Cassandra database tables are stored in keyspaces.\n",
    "- These have parameters controlling their distribution on nodes/servers and redundancy.\n",
    "- We will use the simplest form locally."
   ]
  },
  {
   "cell_type": "code",
   "execution_count": 2,
   "metadata": {},
   "outputs": [
    {
     "data": {
      "text/plain": [
       "<cassandra.cluster.ResultSet at 0x107f3ad70>"
      ]
     },
     "execution_count": 2,
     "metadata": {},
     "output_type": "execute_result"
    }
   ],
   "source": [
    "# Set up new keyspace (first time only)\n",
    "#                                              name of keyspace                        replication strategy           replication factor\n",
    "session.execute(\"CREATE KEYSPACE IF NOT EXISTS my_first_keyspace WITH REPLICATION = { 'class' : 'SimpleStrategy', 'replication_factor' : 1 };\")"
   ]
  },
  {
   "cell_type": "markdown",
   "metadata": {},
   "source": [
    "### Create a table\n",
    "- IF NOT EXISTS makes sure we do not overwrite existing tables"
   ]
  },
  {
   "cell_type": "code",
   "execution_count": 3,
   "metadata": {},
   "outputs": [
    {
     "data": {
      "text/plain": [
       "<cassandra.cluster.ResultSet at 0x12884d870>"
      ]
     },
     "execution_count": 3,
     "metadata": {},
     "output_type": "execute_result"
    }
   ],
   "source": [
    "# Create a new table (first time only)\n",
    "session.set_keyspace('my_first_keyspace')\n",
    "session.execute(\"DROP TABLE IF EXISTS my_first_keyspace.my_first_table;\")\n",
    "session.execute(\"CREATE TABLE IF NOT EXISTS my_first_table (ind int PRIMARY KEY, company text, model text);\")"
   ]
  },
  {
   "cell_type": "markdown",
   "metadata": {},
   "source": [
    "### Inserting and reading data"
   ]
  },
  {
   "cell_type": "code",
   "execution_count": 4,
   "metadata": {},
   "outputs": [
    {
     "data": {
      "text/plain": [
       "<cassandra.cluster.ResultSet at 0x128842050>"
      ]
     },
     "execution_count": 4,
     "metadata": {},
     "output_type": "execute_result"
    }
   ],
   "source": [
    "# Insert some data (ind is the primary key, must be unique)\n",
    "session.execute(\"INSERT INTO my_first_table (ind, company, model) VALUES (1, 'Tesla', 'Model S');\")\n",
    "session.execute(\"INSERT INTO my_first_table (ind, company, model) VALUES (2, 'Tesla', 'Model 3');\")\n",
    "session.execute(\"INSERT INTO my_first_table (ind, company, model) VALUES (3, 'Polestar', '3');\")"
   ]
  },
  {
   "cell_type": "code",
   "execution_count": 5,
   "metadata": {},
   "outputs": [
    {
     "name": "stdout",
     "output_type": "stream",
     "text": [
      "Row(ind=1, company='Tesla', model='Model S')\n",
      "Row(ind=2, company='Tesla', model='Model 3')\n",
      "Row(ind=3, company='Polestar', model='3')\n"
     ]
    }
   ],
   "source": [
    "# Query the data\n",
    "rows = session.execute(\"SELECT * FROM my_first_table;\")\n",
    "for i in rows:\n",
    "    print(i)"
   ]
  },
  {
   "cell_type": "code",
   "execution_count": 6,
   "metadata": {
    "tags": [
     "raises-exception"
    ]
   },
   "outputs": [
    {
     "ename": "InvalidRequest",
     "evalue": "Error from server: code=2200 [Invalid query] message=\"Cannot execute this query as it might involve data filtering and thus may have unpredictable performance. If you want to execute this query despite the performance unpredictability, use ALLOW FILTERING\"",
     "output_type": "error",
     "traceback": [
      "\u001b[0;31m---------------------------------------------------------------------------\u001b[0m",
      "\u001b[0;31mInvalidRequest\u001b[0m                            Traceback (most recent call last)",
      "\u001b[1;32m/Users/kristian/Documents/GitHub/IND320/D2Dbook/2_Data_sources/Databases/Cassandra.ipynb Cell 11\u001b[0m line \u001b[0;36m2\n\u001b[1;32m      <a href='vscode-notebook-cell:/Users/kristian/Documents/GitHub/IND320/D2Dbook/2_Data_sources/Databases/Cassandra.ipynb#X13sZmlsZQ%3D%3D?line=0'>1</a>\u001b[0m \u001b[39m# More specific query\u001b[39;00m\n\u001b[0;32m----> <a href='vscode-notebook-cell:/Users/kristian/Documents/GitHub/IND320/D2Dbook/2_Data_sources/Databases/Cassandra.ipynb#X13sZmlsZQ%3D%3D?line=1'>2</a>\u001b[0m prepared_statement \u001b[39m=\u001b[39m session\u001b[39m.\u001b[39;49mprepare(\u001b[39m\"\u001b[39;49m\u001b[39mSELECT * FROM my_first_table WHERE company=?;\u001b[39;49m\u001b[39m\"\u001b[39;49m) \u001b[39m# <- will fail as company is not a key\u001b[39;00m\n\u001b[1;32m      <a href='vscode-notebook-cell:/Users/kristian/Documents/GitHub/IND320/D2Dbook/2_Data_sources/Databases/Cassandra.ipynb#X13sZmlsZQ%3D%3D?line=2'>3</a>\u001b[0m teslas \u001b[39m=\u001b[39m session\u001b[39m.\u001b[39mexecute(prepared_statement, [\u001b[39m'\u001b[39m\u001b[39mTesla\u001b[39m\u001b[39m'\u001b[39m])\n\u001b[1;32m      <a href='vscode-notebook-cell:/Users/kristian/Documents/GitHub/IND320/D2Dbook/2_Data_sources/Databases/Cassandra.ipynb#X13sZmlsZQ%3D%3D?line=3'>4</a>\u001b[0m \u001b[39mfor\u001b[39;00m i \u001b[39min\u001b[39;00m teslas:\n",
      "File \u001b[0;32m~/miniforge3/envs/tf_M1/lib/python3.10/site-packages/cassandra/cluster.py:3088\u001b[0m, in \u001b[0;36mSession.prepare\u001b[0;34m(self, query, custom_payload, keyspace)\u001b[0m\n\u001b[1;32m   3086\u001b[0m \u001b[39mtry\u001b[39;00m:\n\u001b[1;32m   3087\u001b[0m     future\u001b[39m.\u001b[39msend_request()\n\u001b[0;32m-> 3088\u001b[0m     response \u001b[39m=\u001b[39m future\u001b[39m.\u001b[39;49mresult()\u001b[39m.\u001b[39mone()\n\u001b[1;32m   3089\u001b[0m \u001b[39mexcept\u001b[39;00m \u001b[39mException\u001b[39;00m:\n\u001b[1;32m   3090\u001b[0m     log\u001b[39m.\u001b[39mexception(\u001b[39m\"\u001b[39m\u001b[39mError preparing query:\u001b[39m\u001b[39m\"\u001b[39m)\n",
      "File \u001b[0;32m~/miniforge3/envs/tf_M1/lib/python3.10/site-packages/cassandra/cluster.py:4920\u001b[0m, in \u001b[0;36mResponseFuture.result\u001b[0;34m(self)\u001b[0m\n\u001b[1;32m   4918\u001b[0m     \u001b[39mreturn\u001b[39;00m ResultSet(\u001b[39mself\u001b[39m, \u001b[39mself\u001b[39m\u001b[39m.\u001b[39m_final_result)\n\u001b[1;32m   4919\u001b[0m \u001b[39melse\u001b[39;00m:\n\u001b[0;32m-> 4920\u001b[0m     \u001b[39mraise\u001b[39;00m \u001b[39mself\u001b[39m\u001b[39m.\u001b[39m_final_exception\n",
      "\u001b[0;31mInvalidRequest\u001b[0m: Error from server: code=2200 [Invalid query] message=\"Cannot execute this query as it might involve data filtering and thus may have unpredictable performance. If you want to execute this query despite the performance unpredictability, use ALLOW FILTERING\""
     ]
    }
   ],
   "source": [
    "# More specific query\n",
    "prepared_statement = session.prepare(\"SELECT * FROM my_first_table WHERE company=?;\") # <- will fail as company is not a key\n",
    "teslas = session.execute(prepared_statement, ['Tesla'])\n",
    "for i in teslas:\n",
    "    print(i)"
   ]
  },
  {
   "attachments": {},
   "cell_type": "markdown",
   "metadata": {},
   "source": [
    "## Cassandra filtering\n",
    "Cassandra is inherently a distributed production database. Selecting as above may require downloading all data from a node, then filtering based on the WHERE part (only PRIMARY KEYs are centrally known). Solutions:  \n",
    "- If the table is small or most of the data will satisfy the query, add ```ALLOW FILTERING``` at the end of the query (not recommended if not known). \n",
    "- Or make sure the WHERE clause points to one of the keys (see below)."
   ]
  },
  {
   "cell_type": "code",
   "execution_count": 7,
   "metadata": {},
   "outputs": [
    {
     "data": {
      "text/plain": [
       "<cassandra.cluster.ResultSet at 0x1095c4400>"
      ]
     },
     "execution_count": 7,
     "metadata": {},
     "output_type": "execute_result"
    }
   ],
   "source": [
    "# Create a new table (observe keys)\n",
    "session.execute(\"DROP TABLE IF EXISTS my_first_keyspace.car_table;\")\n",
    "session.execute(\"CREATE TABLE IF NOT EXISTS car_table (company text, model text, PRIMARY KEY(company, model));\")"
   ]
  },
  {
   "cell_type": "code",
   "execution_count": 8,
   "metadata": {},
   "outputs": [
    {
     "data": {
      "text/plain": [
       "<cassandra.cluster.ResultSet at 0x1293ac340>"
      ]
     },
     "execution_count": 8,
     "metadata": {},
     "output_type": "execute_result"
    }
   ],
   "source": [
    "# Insert some data (combination of company and model must be unique)\n",
    "session.execute(\"INSERT INTO car_table (company, model) VALUES ('Tesla', 'Model S');\")\n",
    "session.execute(\"INSERT INTO car_table (company, model) VALUES ('Tesla', 'Model 3');\")\n",
    "session.execute(\"INSERT INTO car_table (company, model) VALUES ('Polestar', '3');\")"
   ]
  },
  {
   "cell_type": "code",
   "execution_count": 9,
   "metadata": {},
   "outputs": [
    {
     "name": "stdout",
     "output_type": "stream",
     "text": [
      "Row(company='Tesla', model='Model 3')\n",
      "Row(company='Tesla', model='Model S')\n"
     ]
    }
   ],
   "source": [
    "# More specific query now works\n",
    "prepared_statement = session.prepare(\"SELECT * FROM car_table WHERE company=?;\")\n",
    "teslas = session.execute(prepared_statement, ['Tesla'])\n",
    "for i in teslas:\n",
    "    print(i)"
   ]
  },
  {
   "cell_type": "markdown",
   "metadata": {},
   "source": [
    "### Partitions\n",
    "- Cassandra databases are usually replicated over different nodes.\n",
    "- Data is stored in partitions (subsets) which have local copys.\n",
    "- The primary key, e.g., PRIMARY KEY(company, model), is used in partitioning.\n",
    "    - The first part, e.g., company, is most important.\n",
    "    - All cars from a company will be located together, aiming for quicker queries."
   ]
  },
  {
   "cell_type": "markdown",
   "metadata": {},
   "source": [
    "### Unique IDs \n",
    "- In MySQL one could use the attribute AUTO_INCREMENT on integer IDs to automatically make a new unique index when inserting data.\n",
    "- This would cause unreasonable overhead in a distributed database.\n",
    "- [UUID](https://en.wikipedia.org/wiki/Universally_unique_identifier)s are used instead.\n",
    "    - Universally Unique Identifiers are typically 128-bit random bit sequences with extremely low probability of duplication.\n",
    "    - Cassandra uses a [timeuuid](https://docs.datastax.com/en/cql-oss/3.3/cql/cql_reference/timeuuid_functions_r.html) type to combine a timestamp and uuid in one."
   ]
  },
  {
   "cell_type": "code",
   "execution_count": 10,
   "metadata": {},
   "outputs": [
    {
     "data": {
      "text/plain": [
       "<cassandra.cluster.ResultSet at 0x12884a230>"
      ]
     },
     "execution_count": 10,
     "metadata": {},
     "output_type": "execute_result"
    }
   ],
   "source": [
    "# Create a new table (first time only)\n",
    "session.set_keyspace('my_first_keyspace')\n",
    "session.execute(\"DROP TABLE IF EXISTS my_first_keyspace.table_with_uuid;\")\n",
    "session.execute(\"CREATE TABLE IF NOT EXISTS table_with_uuid (id timeuuid PRIMARY KEY, company text, model text, price float);\")"
   ]
  },
  {
   "cell_type": "code",
   "execution_count": 11,
   "metadata": {},
   "outputs": [
    {
     "data": {
      "text/plain": [
       "<cassandra.cluster.ResultSet at 0x1293ad840>"
      ]
     },
     "execution_count": 11,
     "metadata": {},
     "output_type": "execute_result"
    }
   ],
   "source": [
    "session.execute(\"INSERT INTO table_with_uuid (id, company, model, price) VALUES (now(), 'Tesla', 'Model S', 20000.0);\")\n",
    "session.execute(\"INSERT INTO table_with_uuid (id, company, model, price) VALUES (now(), 'Tesla', 'Model S', 21000.0);\")\n",
    "session.execute(\"INSERT INTO table_with_uuid (id, company, model, price) VALUES (now(), 'Oldsmobile', 'Model 6C', 135000.0);\")"
   ]
  },
  {
   "cell_type": "code",
   "execution_count": 12,
   "metadata": {},
   "outputs": [
    {
     "name": "stdout",
     "output_type": "stream",
     "text": [
      "Row(id=UUID('c4769c70-4b18-11ee-8fb7-47776a2dd8a7'), company='Oldsmobile', model='Model 6C', price=135000.0)\n",
      "Datetime: 2023-09-04 11:47:04.247000\n",
      "Row(id=UUID('c47515d0-4b18-11ee-8fb7-47776a2dd8a7'), company='Tesla', model='Model S', price=20000.0)\n",
      "Datetime: 2023-09-04 11:47:04.237000\n",
      "Row(id=UUID('c4760030-4b18-11ee-8fb7-47776a2dd8a7'), company='Tesla', model='Model S', price=21000.0)\n",
      "Datetime: 2023-09-04 11:47:04.243000\n"
     ]
    }
   ],
   "source": [
    "from cassandra.util import datetime_from_uuid1\n",
    "\n",
    "# Query the data\n",
    "rows = session.execute(\"SELECT * FROM table_with_uuid;\")\n",
    "for i in rows:\n",
    "    print(i)\n",
    "    # Extract the timestamp from Cassandra's timeuuid\n",
    "    print(\"Datetime:\", datetime_from_uuid1(i.id))"
   ]
  },
  {
   "attachments": {},
   "cell_type": "markdown",
   "metadata": {},
   "source": [
    "## JSON in Cassandra\n"
   ]
  },
  {
   "attachments": {},
   "cell_type": "markdown",
   "metadata": {},
   "source": [
    "### Read previously saved JSON file forecast.json to memory"
   ]
  },
  {
   "cell_type": "code",
   "execution_count": 14,
   "metadata": {},
   "outputs": [],
   "source": [
    "import json\n",
    "with open('../APIs/downloads/forecast.json', 'r') as f:\n",
    "    forecast = json.load(f)"
   ]
  },
  {
   "cell_type": "code",
   "execution_count": 15,
   "metadata": {},
   "outputs": [
    {
     "data": {
      "text/plain": [
       "\"{'cod': '200', 'message': 0, 'cnt': 40, 'list': [{'dt': 1693828800, 'main': {'temp': 296.77, 'feels_like': 296.75, 'temp_min': 296.03, 'temp_max': 296.77, 'pressure': 1018, 'sea_level': 1018, 'grnd_level': 1002, 'humidity': 60, 'temp_kf': 0.74}, 'weather': [{'id': 801, 'main': 'Clouds', 'description': 'few clouds', 'icon': '02d'}], 'clouds': {'all': 19}, 'wind': {'speed': 3.57, 'deg': 210, 'gust': 5.11}, 'visibility': 10000, 'pop': 0, 'sys': {'pod': 'd'}, 'dt_txt': '2023-09-04 12:00:00'}, {'dt': 1693839600, 'main': {'temp': 296.29, 'feels_like': 296.25, 'temp_min': 295.34, 'temp_max': 296.29, 'pressure': 1017, 'sea_level': 1017, 'grnd_level': 1000, 'humidity': 61, 'temp_kf': 0.95}, 'weather': [{'id': 801, 'main': 'Clouds', 'description': 'few clouds', 'icon': '02d'}], 'clouds': {'all': 13}, 'wind': {'speed': 4.24, 'deg': 183, 'gust': 7.36}, 'visibility': 10000, 'pop': 0, 'sys': {'pod': 'd'}, 'dt_txt': '2023-09-04 15:00:00'}, {'dt': 1693850400, 'main': {'temp': 292.14, 'feels_like': 292.16, 'temp_min': 289.83, 'temp_max': 292.14, 'pressure': 1017, 'sea_level': 1017, 'grnd_level': 1000, 'humidity': 79, 'temp_kf': 2.31}, 'weather': [{'id': 800, 'main': 'Clear', 'description': 'clear sky', 'icon': '01d'}], 'clouds': {'all': 8}, 'wind': {'speed': 2.4, 'deg': 165, 'gust': 5.39}, 'visibility': 10000, 'pop': 0, 'sys': {'pod': 'd'}, 'dt_txt': '2023-09-04 18:00:00'}, {'dt': 1693861200, 'main': {'temp': 288.33, 'feels_like': 288.23, 'temp_min': 288.33, 'temp_max': 288.33, 'pressure': 1016, 'sea_level': 1016, 'grnd_level': 1000, 'humidity': 89, 'temp_kf': 0}, 'weather': [{'id': 800, 'main': 'Clear', 'description': 'clear sky', 'icon': '01n'}], 'clouds': {'all': 10}, 'wind': {'speed': 2.38, 'deg': 175, 'gust': 5.2}, 'visibility': 10000, 'pop': 0, 'sys': {'pod': 'n'}, 'dt_txt': '2023-09-04 21:00:00'}, {'dt': 1693872000, 'main': {'temp': 286.64, 'feels_like': 286.53, 'temp_min': 286.64, 'temp_max': 286.64, 'pressure': 1016, 'sea_level': 1016, 'grnd_level': 999, 'humidity': 95, 'temp_kf': 0}, 'weather': [{'id': 801, 'main': 'Clouds', 'description': 'few clouds', 'icon': '02n'}], 'clouds': {'all': 16}, 'wind': {'speed': 1.49, 'deg': 169, 'gust': 1.88}, 'visibility': 10000, 'pop': 0, 'sys': {'pod': 'n'}, 'dt_txt': '2023-09-05 00:00:00'}, {'dt': 1693882800, 'main': {'temp': 286.03, 'feels_like': 285.8, 'temp_min': 286.03, 'temp_max': 286.03, 'pressure': 1015, 'sea_level': 1015, 'grnd_level': 998, 'humidity': 93, 'temp_kf': 0}, 'weather': [{'id': 804, 'main': 'Clouds', 'description': 'overcast clouds', 'icon': '04n'}], 'clouds': {'all': 98}, 'wind': {'speed': 0.74, 'deg': 175, 'gust': 0.81}, 'visibility': 10000, 'pop': 0, 'sys': {'pod': 'n'}, 'dt_txt': '2023-09-05 03:00:00'}, {'dt': 1693893600, 'main': {'temp': 287.95, 'feels_like': 287.63, 'temp_min': 287.95, 'temp_max': 287.95, 'pressure': 1015, 'sea_level': 1015, 'grnd_level': 998, 'humidity': 82, 'temp_kf': 0}, 'weather': [{'id': 804, 'main': 'Clouds', 'description': 'overcast clouds', 'icon': '04d'}], 'clouds': {'all': 85}, 'wind': {'speed': 1.48, 'deg': 180, 'gust': 2.54}, 'visibility': 10000, 'pop': 0, 'sys': {'pod': 'd'}, 'dt_txt': '2023-09-05 06:00:00'}, {'dt': 1693904400, 'main': {'temp': 294.31, 'feels_like': 293.94, 'temp_min': 294.31, 'temp_max': 294.31, 'pressure': 1015, 'sea_level': 1015, 'grnd_level': 999, 'humidity': 56, 'temp_kf': 0}, 'weather': [{'id': 800, 'main': 'Clear', 'description': 'clear sky', 'icon': '01d'}], 'clouds': {'all': 2}, 'wind': {'speed': 2.08, 'deg': 249, 'gust': 4.18}, 'visibility': 10000, 'pop': 0, 'sys': {'pod': 'd'}, 'dt_txt': '2023-09-05 09:00:00'}, {'dt': 1693915200, 'main': {'temp': 297.39, 'feels_like': 297.07, 'temp_min': 297.39, 'temp_max': 297.39, 'pressure': 1014, 'sea_level': 1014, 'grnd_level': 998, 'humidity': 46, 'temp_kf': 0}, 'weather': [{'id': 800, 'main': 'Clear', 'description': 'clear sky', 'icon': '01d'}], 'clouds': {'all': 1}, 'wind': {'speed': 3.46, 'deg': 254, 'gust': 7.41}, 'visibility': 10000, 'pop': 0, 'sys': {'pod': 'd'}, 'dt_txt': '2023-09-05 12:00:00'}, {'dt': 1693926000, 'main': {'temp': 296.53, 'feels_like': 296.07, 'temp_min': 296.53, 'temp_max': 296.53, 'pressure': 1014, 'sea_level': 1014, 'grnd_level': 998, 'humidity': 44, 'temp_kf': 0}, 'weather': [{'id': 800, 'main': 'Clear', 'description': 'clear sky', 'icon': '01d'}], 'clouds': {'all': 0}, 'wind': {'speed': 3.76, 'deg': 302, 'gust': 6.46}, 'visibility': 10000, 'pop': 0, 'sys': {'pod': 'd'}, 'dt_txt': '2023-09-05 15:00:00'}, {'dt': 1693936800, 'main': {'temp': 290, 'feels_like': 289.31, 'temp_min': 290, 'temp_max': 290, 'pressure': 1016, 'sea_level': 1016, 'grnd_level': 1000, 'humidity': 60, 'temp_kf': 0}, 'weather': [{'id': 800, 'main': 'Clear', 'description': 'clear sky', 'icon': '01d'}], 'clouds': {'all': 0}, 'wind': {'speed': 1.36, 'deg': 325, 'gust': 1.4}, 'visibility': 10000, 'pop': 0, 'sys': {'pod': 'd'}, 'dt_txt': '2023-09-05 18:00:00'}, {'dt': 1693947600, 'main': {'temp': 287.71, 'feels_like': 287.31, 'temp_min': 287.71, 'temp_max': 287.71, 'pressure': 1020, 'sea_level': 1020, 'grnd_level': 1003, 'humidity': 80, 'temp_kf': 0}, 'weather': [{'id': 800, 'main': 'Clear', 'description': 'clear sky', 'icon': '01n'}], 'clouds': {'all': 0}, 'wind': {'speed': 4.09, 'deg': 56, 'gust': 10.83}, 'visibility': 10000, 'pop': 0, 'sys': {'pod': 'n'}, 'dt_txt': '2023-09-05 21:00:00'}, {'dt': 1693958400, 'main': {'temp': 285.75, 'feels_like': 285.26, 'temp_min': 285.75, 'temp_max': 285.75, 'pressure': 1023, 'sea_level': 1023, 'grnd_level': 1006, 'humidity': 84, 'temp_kf': 0}, 'weather': [{'id': 800, 'main': 'Clear', 'description': 'clear sky', 'icon': '01n'}], 'clouds': {'all': 2}, 'wind': {'speed': 3.45, 'deg': 39, 'gust': 9.02}, 'visibility': 10000, 'pop': 0, 'sys': {'pod': 'n'}, 'dt_txt': '2023-09-06 00:00:00'}, {'dt': 1693969200, 'main': {'temp': 283, 'feels_like': 281.87, 'temp_min': 283, 'temp_max': 283, 'pressure': 1024, 'sea_level': 1024, 'grnd_level': 1007, 'humidity': 82, 'temp_kf': 0}, 'weather': [{'id': 800, 'main': 'Clear', 'description': 'clear sky', 'icon': '01n'}], 'clouds': {'all': 2}, 'wind': {'speed': 2.39, 'deg': 22, 'gust': 6.6}, 'visibility': 10000, 'pop': 0, 'sys': {'pod': 'n'}, 'dt_txt': '2023-09-06 03:00:00'}, {'dt': 1693980000, 'main': {'temp': 284.05, 'feels_like': 283.13, 'temp_min': 284.05, 'temp_max': 284.05, 'pressure': 1026, 'sea_level': 1026, 'grnd_level': 1009, 'humidity': 74, 'temp_kf': 0}, 'weather': [{'id': 801, 'main': 'Clouds', 'description': 'few clouds', 'icon': '02d'}], 'clouds': {'all': 14}, 'wind': {'speed': 1.75, 'deg': 31, 'gust': 3.47}, 'visibility': 10000, 'pop': 0, 'sys': {'pod': 'd'}, 'dt_txt': '2023-09-06 06:00:00'}, {'dt': 1693990800, 'main': {'temp': 286.95, 'feels_like': 286.11, 'temp_min': 286.95, 'temp_max': 286.95, 'pressure': 1026, 'sea_level': 1026, 'grnd_level': 1009, 'humidity': 66, 'temp_kf': 0}, 'weather': [{'id': 804, 'main': 'Clouds', 'description': 'overcast clouds', 'icon': '04d'}], 'clouds': {'all': 97}, 'wind': {'speed': 1.38, 'deg': 65, 'gust': 2.56}, 'visibility': 10000, 'pop': 0, 'sys': {'pod': 'd'}, 'dt_txt': '2023-09-06 09:00:00'}, {'dt': 1694001600, 'main': {'temp': 290.18, 'feels_like': 289.53, 'temp_min': 290.18, 'temp_max': 290.18, 'pressure': 1026, 'sea_level': 1026, 'grnd_level': 1010, 'humidity': 61, 'temp_kf': 0}, 'weather': [{'id': 804, 'main': 'Clouds', 'description': 'overcast clouds', 'icon': '04d'}], 'clouds': {'all': 98}, 'wind': {'speed': 0.28, 'deg': 157, 'gust': 1.45}, 'visibility': 10000, 'pop': 0, 'sys': {'pod': 'd'}, 'dt_txt': '2023-09-06 12:00:00'}, {'dt': 1694012400, 'main': {'temp': 291.73, 'feels_like': 291.24, 'temp_min': 291.73, 'temp_max': 291.73, 'pressure': 1025, 'sea_level': 1025, 'grnd_level': 1008, 'humidity': 61, 'temp_kf': 0}, 'weather': [{'id': 803, 'main': 'Clouds', 'description': 'broken clouds', 'icon': '04d'}], 'clouds': {'all': 82}, 'wind': {'speed': 1.01, 'deg': 189, 'gust': 1.73}, 'visibility': 10000, 'pop': 0, 'sys': {'pod': 'd'}, 'dt_txt': '2023-09-06 15:00:00'}, {'dt': 1694023200, 'main': {'temp': 287.22, 'feels_like': 286.9, 'temp_min': 287.22, 'temp_max': 287.22, 'pressure': 1025, 'sea_level': 1025, 'grnd_level': 1009, 'humidity': 85, 'temp_kf': 0}, 'weather': [{'id': 803, 'main': 'Clouds', 'description': 'broken clouds', 'icon': '04d'}], 'clouds': {'all': 78}, 'wind': {'speed': 0.32, 'deg': 202, 'gust': 0.51}, 'visibility': 10000, 'pop': 0, 'sys': {'pod': 'd'}, 'dt_txt': '2023-09-06 18:00:00'}, {'dt': 1694034000, 'main': {'temp': 285.57, 'feels_like': 285.32, 'temp_min': 285.57, 'temp_max': 285.57, 'pressure': 1026, 'sea_level': 1026, 'grnd_level': 1009, 'humidity': 94, 'temp_kf': 0}, 'weather': [{'id': 804, 'main': 'Clouds', 'description': 'overcast clouds', 'icon': '04n'}], 'clouds': {'all': 95}, 'wind': {'speed': 0.59, 'deg': 85, 'gust': 0.63}, 'visibility': 10000, 'pop': 0, 'sys': {'pod': 'n'}, 'dt_txt': '2023-09-06 21:00:00'}, {'dt': 1694044800, 'main': {'temp': 284.83, 'feels_like': 284.56, 'temp_min': 284.83, 'temp_max': 284.83, 'pressure': 1026, 'sea_level': 1026, 'grnd_level': 1009, 'humidity': 96, 'temp_kf': 0}, 'weather': [{'id': 803, 'main': 'Clouds', 'description': 'broken clouds', 'icon': '04n'}], 'clouds': {'all': 82}, 'wind': {'speed': 0.55, 'deg': 102, 'gust': 0.57}, 'visibility': 10000, 'pop': 0, 'sys': {'pod': 'n'}, 'dt_txt': '2023-09-07 00:00:00'}, {'dt': 1694055600, 'main': {'temp': 284.09, 'feels_like': 283.77, 'temp_min': 284.09, 'temp_max': 284.09, 'pressure': 1026, 'sea_level': 1026, 'grnd_level': 1008, 'humidity': 97, 'temp_kf': 0}, 'weather': [{'id': 803, 'main': 'Clouds', 'description': 'broken clouds', 'icon': '04n'}], 'clouds': {'all': 51}, 'wind': {'speed': 0.65, 'deg': 157, 'gust': 0.7}, 'visibility': 10000, 'pop': 0, 'sys': {'pod': 'n'}, 'dt_txt': '2023-09-07 03:00:00'}, {'dt': 1694066400, 'main': {'temp': 285.55, 'feels_like': 285.33, 'temp_min': 285.55, 'temp_max': 285.55, 'pressure': 1026, 'sea_level': 1026, 'grnd_level': 1009, 'humidity': 95, 'temp_kf': 0}, 'weather': [{'id': 803, 'main': 'Clouds', 'description': 'broken clouds', 'icon': '04d'}], 'clouds': {'all': 71}, 'wind': {'speed': 0.88, 'deg': 160, 'gust': 2.01}, 'visibility': 10000, 'pop': 0, 'sys': {'pod': 'd'}, 'dt_txt': '2023-09-07 06:00:00'}, {'dt': 1694077200, 'main': {'temp': 289.19, 'feels_like': 289.02, 'temp_min': 289.19, 'temp_max': 289.19, 'pressure': 1025, 'sea_level': 1025, 'grnd_level': 1008, 'humidity': 83, 'temp_kf': 0}, 'weather': [{'id': 804, 'main': 'Clouds', 'description': 'overcast clouds', 'icon': '04d'}], 'clouds': {'all': 100}, 'wind': {'speed': 2.95, 'deg': 193, 'gust': 5.97}, 'visibility': 10000, 'pop': 0, 'sys': {'pod': 'd'}, 'dt_txt': '2023-09-07 09:00:00'}, {'dt': 1694088000, 'main': {'temp': 292.14, 'feels_like': 291.84, 'temp_min': 292.14, 'temp_max': 292.14, 'pressure': 1024, 'sea_level': 1024, 'grnd_level': 1008, 'humidity': 67, 'temp_kf': 0}, 'weather': [{'id': 804, 'main': 'Clouds', 'description': 'overcast clouds', 'icon': '04d'}], 'clouds': {'all': 100}, 'wind': {'speed': 4.15, 'deg': 193, 'gust': 6.71}, 'visibility': 10000, 'pop': 0, 'sys': {'pod': 'd'}, 'dt_txt': '2023-09-07 12:00:00'}, {'dt': 1694098800, 'main': {'temp': 291.62, 'feels_like': 291.45, 'temp_min': 291.62, 'temp_max': 291.62, 'pressure': 1023, 'sea_level': 1023, 'grnd_level': 1006, 'humidity': 74, 'temp_kf': 0}, 'weather': [{'id': 804, 'main': 'Clouds', 'description': 'overcast clouds', 'icon': '04d'}], 'clouds': {'all': 93}, 'wind': {'speed': 4.34, 'deg': 189, 'gust': 7.96}, 'visibility': 10000, 'pop': 0, 'sys': {'pod': 'd'}, 'dt_txt': '2023-09-07 15:00:00'}, {'dt': 1694109600, 'main': {'temp': 287.93, 'feels_like': 287.92, 'temp_min': 287.93, 'temp_max': 287.93, 'pressure': 1022, 'sea_level': 1022, 'grnd_level': 1005, 'humidity': 94, 'temp_kf': 0}, 'weather': [{'id': 803, 'main': 'Clouds', 'description': 'broken clouds', 'icon': '04d'}], 'clouds': {'all': 72}, 'wind': {'speed': 3.32, 'deg': 178, 'gust': 9.77}, 'visibility': 10000, 'pop': 0, 'sys': {'pod': 'd'}, 'dt_txt': '2023-09-07 18:00:00'}, {'dt': 1694120400, 'main': {'temp': 287.04, 'feels_like': 287.04, 'temp_min': 287.04, 'temp_max': 287.04, 'pressure': 1022, 'sea_level': 1022, 'grnd_level': 1005, 'humidity': 98, 'temp_kf': 0}, 'weather': [{'id': 804, 'main': 'Clouds', 'description': 'overcast clouds', 'icon': '04n'}], 'clouds': {'all': 93}, 'wind': {'speed': 2.64, 'deg': 178, 'gust': 8.78}, 'visibility': 10000, 'pop': 0, 'sys': {'pod': 'n'}, 'dt_txt': '2023-09-07 21:00:00'}, {'dt': 1694131200, 'main': {'temp': 286.99, 'feels_like': 287.01, 'temp_min': 286.99, 'temp_max': 286.99, 'pressure': 1020, 'sea_level': 1020, 'grnd_level': 1004, 'humidity': 99, 'temp_kf': 0}, 'weather': [{'id': 804, 'main': 'Clouds', 'description': 'overcast clouds', 'icon': '04n'}], 'clouds': {'all': 97}, 'wind': {'speed': 2.09, 'deg': 186, 'gust': 6.3}, 'visibility': 10000, 'pop': 0, 'sys': {'pod': 'n'}, 'dt_txt': '2023-09-08 00:00:00'}, {'dt': 1694142000, 'main': {'temp': 286.9, 'feels_like': 286.89, 'temp_min': 286.9, 'temp_max': 286.9, 'pressure': 1019, 'sea_level': 1019, 'grnd_level': 1002, 'humidity': 98, 'temp_kf': 0}, 'weather': [{'id': 804, 'main': 'Clouds', 'description': 'overcast clouds', 'icon': '04n'}], 'clouds': {'all': 100}, 'wind': {'speed': 1.92, 'deg': 192, 'gust': 5.88}, 'visibility': 10000, 'pop': 0, 'sys': {'pod': 'n'}, 'dt_txt': '2023-09-08 03:00:00'}, {'dt': 1694152800, 'main': {'temp': 288.17, 'feels_like': 288.23, 'temp_min': 288.17, 'temp_max': 288.17, 'pressure': 1018, 'sea_level': 1018, 'grnd_level': 1002, 'humidity': 96, 'temp_kf': 0}, 'weather': [{'id': 804, 'main': 'Clouds', 'description': 'overcast clouds', 'icon': '04d'}], 'clouds': {'all': 100}, 'wind': {'speed': 1.95, 'deg': 196, 'gust': 6.49}, 'visibility': 10000, 'pop': 0, 'sys': {'pod': 'd'}, 'dt_txt': '2023-09-08 06:00:00'}, {'dt': 1694163600, 'main': {'temp': 291.54, 'feels_like': 291.52, 'temp_min': 291.54, 'temp_max': 291.54, 'pressure': 1018, 'sea_level': 1018, 'grnd_level': 1001, 'humidity': 80, 'temp_kf': 0}, 'weather': [{'id': 804, 'main': 'Clouds', 'description': 'overcast clouds', 'icon': '04d'}], 'clouds': {'all': 100}, 'wind': {'speed': 3.11, 'deg': 197, 'gust': 7.04}, 'visibility': 10000, 'pop': 0, 'sys': {'pod': 'd'}, 'dt_txt': '2023-09-08 09:00:00'}, {'dt': 1694174400, 'main': {'temp': 293.79, 'feels_like': 293.71, 'temp_min': 293.79, 'temp_max': 293.79, 'pressure': 1017, 'sea_level': 1017, 'grnd_level': 1001, 'humidity': 69, 'temp_kf': 0}, 'weather': [{'id': 804, 'main': 'Clouds', 'description': 'overcast clouds', 'icon': '04d'}], 'clouds': {'all': 100}, 'wind': {'speed': 4.84, 'deg': 186, 'gust': 8.91}, 'visibility': 10000, 'pop': 0, 'sys': {'pod': 'd'}, 'dt_txt': '2023-09-08 12:00:00'}, {'dt': 1694185200, 'main': {'temp': 293, 'feels_like': 292.89, 'temp_min': 293, 'temp_max': 293, 'pressure': 1016, 'sea_level': 1016, 'grnd_level': 1000, 'humidity': 71, 'temp_kf': 0}, 'weather': [{'id': 800, 'main': 'Clear', 'description': 'clear sky', 'icon': '01d'}], 'clouds': {'all': 6}, 'wind': {'speed': 4.64, 'deg': 183, 'gust': 8.8}, 'visibility': 10000, 'pop': 0, 'sys': {'pod': 'd'}, 'dt_txt': '2023-09-08 15:00:00'}, {'dt': 1694196000, 'main': {'temp': 288.65, 'feels_like': 288.63, 'temp_min': 288.65, 'temp_max': 288.65, 'pressure': 1017, 'sea_level': 1017, 'grnd_level': 1000, 'humidity': 91, 'temp_kf': 0}, 'weather': [{'id': 800, 'main': 'Clear', 'description': 'clear sky', 'icon': '01d'}], 'clouds': {'all': 9}, 'wind': {'speed': 3.3, 'deg': 178, 'gust': 9.81}, 'visibility': 10000, 'pop': 0, 'sys': {'pod': 'd'}, 'dt_txt': '2023-09-08 18:00:00'}, {'dt': 1694206800, 'main': {'temp': 287.33, 'feels_like': 287.34, 'temp_min': 287.33, 'temp_max': 287.33, 'pressure': 1016, 'sea_level': 1016, 'grnd_level': 1000, 'humidity': 97, 'temp_kf': 0}, 'weather': [{'id': 801, 'main': 'Clouds', 'description': 'few clouds', 'icon': '02n'}], 'clouds': {'all': 22}, 'wind': {'speed': 2.09, 'deg': 175, 'gust': 6.08}, 'visibility': 10000, 'pop': 0, 'sys': {'pod': 'n'}, 'dt_txt': '2023-09-08 21:00:00'}, {'dt': 1694217600, 'main': {'temp': 286.41, 'feels_like': 286.35, 'temp_min': 286.41, 'temp_max': 286.41, 'pressure': 1016, 'sea_level': 1016, 'grnd_level': 1000, 'humidity': 98, 'temp_kf': 0}, 'weather': [{'id': 801, 'main': 'Clouds', 'description': 'few clouds', 'icon': '02n'}], 'clouds': {'all': 24}, 'wind': {'speed': 0.85, 'deg': 174, 'gust': 0.99}, 'visibility': 10000, 'pop': 0, 'sys': {'pod': 'n'}, 'dt_txt': '2023-09-09 00:00:00'}, {'dt': 1694228400, 'main': {'temp': 285.84, 'feels_like': 285.72, 'temp_min': 285.84, 'temp_max': 285.84, 'pressure': 1016, 'sea_level': 1016, 'grnd_level': 999, 'humidity': 98, 'temp_kf': 0}, 'weather': [{'id': 801, 'main': 'Clouds', 'description': 'few clouds', 'icon': '02n'}], 'clouds': {'all': 22}, 'wind': {'speed': 0.29, 'deg': 62, 'gust': 0.45}, 'visibility': 10000, 'pop': 0, 'sys': {'pod': 'n'}, 'dt_txt': '2023-09-09 03:00:00'}, {'dt': 1694239200, 'main': {'temp': 287.4, 'feels_like': 287.28, 'temp_min': 287.4, 'temp_max': 287.4, 'pressure': 1017, 'sea_level': 1017, 'grnd_level': 1000, 'humidity': 92, 'temp_kf': 0}, 'weather': [{'id': 801, 'main': 'Clouds', 'description': 'few clouds', 'icon': '02d'}], 'clouds': {'all': 13}, 'wind': {'speed': 0.73, 'deg': 20, 'gust': 0.91}, 'visibility': 10000, 'pop': 0, 'sys': {'pod': 'd'}, 'dt_txt': '2023-09-09 06:00:00'}, {'dt': 1694250000, 'main': {'temp': 293.63, 'feels_like': 293.43, 'temp_min': 293.63, 'temp_max': 293.63, 'pressure': 1017, 'sea_level': 1017, 'grnd_level': 1001, 'humidity': 65, 'temp_kf': 0}, 'weather': [{'id': 800, 'main': 'Clear', 'description': 'clear sky', 'icon': '01d'}], 'clouds': {'all': 0}, 'wind': {'speed': 0.57, 'deg': 7, 'gust': 0.82}, 'visibility': 10000, 'pop': 0, 'sys': {'pod': 'd'}, 'dt_txt': '2023-09-09 09:00:00'}], 'city': {'id': 3139081, 'name': 'Ski', 'coord': {'lat': 59.7195, 'lon': 10.8358}, 'country': 'NO', 'population': 12513, 'timezone': 7200, 'sunrise': 1693801109, 'sunset': 1693851219}}\""
      ]
     },
     "execution_count": 15,
     "metadata": {},
     "output_type": "execute_result"
    }
   ],
   "source": [
    "# Inspect JSON file\n",
    "forecast.__str__()"
   ]
  },
  {
   "attachments": {},
   "cell_type": "markdown",
   "metadata": {},
   "source": [
    "## Raw JSON\n",
    "- A simple, but not very efficient way of storing JSON data is to treat it as a text and save it directly to the database.  \n",
    "- More efficient, with regard to transfer, is to compress the JSON data to a blob first.\n",
    "    - Compression is automatic."
   ]
  },
  {
   "cell_type": "code",
   "execution_count": 16,
   "metadata": {},
   "outputs": [
    {
     "data": {
      "text/plain": [
       "<cassandra.cluster.ResultSet at 0x1081a6530>"
      ]
     },
     "execution_count": 16,
     "metadata": {},
     "output_type": "execute_result"
    }
   ],
   "source": [
    "session.execute(\"DROP TABLE IF EXISTS my_first_keyspace.forecast_table;\")"
   ]
  },
  {
   "attachments": {},
   "cell_type": "markdown",
   "metadata": {},
   "source": [
    "### Create a new table which treats the whole JSON as a blob, using the city id and the first dt as keys"
   ]
  },
  {
   "cell_type": "code",
   "execution_count": 17,
   "metadata": {},
   "outputs": [
    {
     "data": {
      "text/plain": [
       "<cassandra.cluster.ResultSet at 0x1293af8e0>"
      ]
     },
     "execution_count": 17,
     "metadata": {},
     "output_type": "execute_result"
    }
   ],
   "source": [
    "session.set_keyspace('my_first_keyspace')\n",
    "session.execute(\"CREATE TABLE IF NOT EXISTS forecast_table (city_id int, dt int, forecast blob, PRIMARY KEY(city_id, dt));\")"
   ]
  },
  {
   "attachments": {},
   "cell_type": "markdown",
   "metadata": {},
   "source": [
    "### Insert the forecast data into the table as text"
   ]
  },
  {
   "cell_type": "code",
   "execution_count": 18,
   "metadata": {},
   "outputs": [
    {
     "data": {
      "text/plain": [
       "<cassandra.cluster.ResultSet at 0x1289be290>"
      ]
     },
     "execution_count": 18,
     "metadata": {},
     "output_type": "execute_result"
    }
   ],
   "source": [
    "session.execute(\"INSERT INTO forecast_table (city_id, dt, forecast) VALUES (%s, %s, textAsBlob(%s));\", (forecast['city']['id'], forecast['list'][0]['dt'], forecast.__str__()))"
   ]
  },
  {
   "cell_type": "code",
   "execution_count": 19,
   "metadata": {},
   "outputs": [
    {
     "name": "stdout",
     "output_type": "stream",
     "text": [
      "Row(city_id=3139081, dt=1693828800, forecast=b\"{'cod': '200', 'message': 0, 'cnt': 40, 'list': [{'dt': 1693828800, 'main': {'temp': 296.77, 'feels_like': 296.75, 'temp_min': 296.03, 'temp_max': 296.77, 'pressure': 1018, 'sea_level': 1018, 'grnd_level': 1002, 'humidity': 60, 'temp_kf': 0.74}, 'weather': [{'id': 801, 'main': 'Clouds', 'description': 'few clouds', 'icon': '02d'}], 'clouds': {'all': 19}, 'wind': {'speed': 3.57, 'deg': 210, 'gust': 5.11}, 'visibility': 10000, 'pop': 0, 'sys': {'pod': 'd'}, 'dt_txt': '2023-09-04 12:00:00'}, {'dt': 1693839600, 'main': {'temp': 296.29, 'feels_like': 296.25, 'temp_min': 295.34, 'temp_max': 296.29, 'pressure': 1017, 'sea_level': 1017, 'grnd_level': 1000, 'humidity': 61, 'temp_kf': 0.95}, 'weather': [{'id': 801, 'main': 'Clouds', 'description': 'few clouds', 'icon': '02d'}], 'clouds': {'all': 13}, 'wind': {'speed': 4.24, 'deg': 183, 'gust': 7.36}, 'visibility': 10000, 'pop': 0, 'sys': {'pod': 'd'}, 'dt_txt': '2023-09-04 15:00:00'}, {'dt': 1693850400, 'main': {'temp': 292.14, 'feels_like': 292.16, 'temp_min': 289.83, 'temp_max': 292.14, 'pressure': 1017, 'sea_level': 1017, 'grnd_level': 1000, 'humidity': 79, 'temp_kf': 2.31}, 'weather': [{'id': 800, 'main': 'Clear', 'description': 'clear sky', 'icon': '01d'}], 'clouds': {'all': 8}, 'wind': {'speed': 2.4, 'deg': 165, 'gust': 5.39}, 'visibility': 10000, 'pop': 0, 'sys': {'pod': 'd'}, 'dt_txt': '2023-09-04 18:00:00'}, {'dt': 1693861200, 'main': {'temp': 288.33, 'feels_like': 288.23, 'temp_min': 288.33, 'temp_max': 288.33, 'pressure': 1016, 'sea_level': 1016, 'grnd_level': 1000, 'humidity': 89, 'temp_kf': 0}, 'weather': [{'id': 800, 'main': 'Clear', 'description': 'clear sky', 'icon': '01n'}], 'clouds': {'all': 10}, 'wind': {'speed': 2.38, 'deg': 175, 'gust': 5.2}, 'visibility': 10000, 'pop': 0, 'sys': {'pod': 'n'}, 'dt_txt': '2023-09-04 21:00:00'}, {'dt': 1693872000, 'main': {'temp': 286.64, 'feels_like': 286.53, 'temp_min': 286.64, 'temp_max': 286.64, 'pressure': 1016, 'sea_level': 1016, 'grnd_level': 999, 'humidity': 95, 'temp_kf': 0}, 'weather': [{'id': 801, 'main': 'Clouds', 'description': 'few clouds', 'icon': '02n'}], 'clouds': {'all': 16}, 'wind': {'speed': 1.49, 'deg': 169, 'gust': 1.88}, 'visibility': 10000, 'pop': 0, 'sys': {'pod': 'n'}, 'dt_txt': '2023-09-05 00:00:00'}, {'dt': 1693882800, 'main': {'temp': 286.03, 'feels_like': 285.8, 'temp_min': 286.03, 'temp_max': 286.03, 'pressure': 1015, 'sea_level': 1015, 'grnd_level': 998, 'humidity': 93, 'temp_kf': 0}, 'weather': [{'id': 804, 'main': 'Clouds', 'description': 'overcast clouds', 'icon': '04n'}], 'clouds': {'all': 98}, 'wind': {'speed': 0.74, 'deg': 175, 'gust': 0.81}, 'visibility': 10000, 'pop': 0, 'sys': {'pod': 'n'}, 'dt_txt': '2023-09-05 03:00:00'}, {'dt': 1693893600, 'main': {'temp': 287.95, 'feels_like': 287.63, 'temp_min': 287.95, 'temp_max': 287.95, 'pressure': 1015, 'sea_level': 1015, 'grnd_level': 998, 'humidity': 82, 'temp_kf': 0}, 'weather': [{'id': 804, 'main': 'Clouds', 'description': 'overcast clouds', 'icon': '04d'}], 'clouds': {'all': 85}, 'wind': {'speed': 1.48, 'deg': 180, 'gust': 2.54}, 'visibility': 10000, 'pop': 0, 'sys': {'pod': 'd'}, 'dt_txt': '2023-09-05 06:00:00'}, {'dt': 1693904400, 'main': {'temp': 294.31, 'feels_like': 293.94, 'temp_min': 294.31, 'temp_max': 294.31, 'pressure': 1015, 'sea_level': 1015, 'grnd_level': 999, 'humidity': 56, 'temp_kf': 0}, 'weather': [{'id': 800, 'main': 'Clear', 'description': 'clear sky', 'icon': '01d'}], 'clouds': {'all': 2}, 'wind': {'speed': 2.08, 'deg': 249, 'gust': 4.18}, 'visibility': 10000, 'pop': 0, 'sys': {'pod': 'd'}, 'dt_txt': '2023-09-05 09:00:00'}, {'dt': 1693915200, 'main': {'temp': 297.39, 'feels_like': 297.07, 'temp_min': 297.39, 'temp_max': 297.39, 'pressure': 1014, 'sea_level': 1014, 'grnd_level': 998, 'humidity': 46, 'temp_kf': 0}, 'weather': [{'id': 800, 'main': 'Clear', 'description': 'clear sky', 'icon': '01d'}], 'clouds': {'all': 1}, 'wind': {'speed': 3.46, 'deg': 254, 'gust': 7.41}, 'visibility': 10000, 'pop': 0, 'sys': {'pod': 'd'}, 'dt_txt': '2023-09-05 12:00:00'}, {'dt': 1693926000, 'main': {'temp': 296.53, 'feels_like': 296.07, 'temp_min': 296.53, 'temp_max': 296.53, 'pressure': 1014, 'sea_level': 1014, 'grnd_level': 998, 'humidity': 44, 'temp_kf': 0}, 'weather': [{'id': 800, 'main': 'Clear', 'description': 'clear sky', 'icon': '01d'}], 'clouds': {'all': 0}, 'wind': {'speed': 3.76, 'deg': 302, 'gust': 6.46}, 'visibility': 10000, 'pop': 0, 'sys': {'pod': 'd'}, 'dt_txt': '2023-09-05 15:00:00'}, {'dt': 1693936800, 'main': {'temp': 290, 'feels_like': 289.31, 'temp_min': 290, 'temp_max': 290, 'pressure': 1016, 'sea_level': 1016, 'grnd_level': 1000, 'humidity': 60, 'temp_kf': 0}, 'weather': [{'id': 800, 'main': 'Clear', 'description': 'clear sky', 'icon': '01d'}], 'clouds': {'all': 0}, 'wind': {'speed': 1.36, 'deg': 325, 'gust': 1.4}, 'visibility': 10000, 'pop': 0, 'sys': {'pod': 'd'}, 'dt_txt': '2023-09-05 18:00:00'}, {'dt': 1693947600, 'main': {'temp': 287.71, 'feels_like': 287.31, 'temp_min': 287.71, 'temp_max': 287.71, 'pressure': 1020, 'sea_level': 1020, 'grnd_level': 1003, 'humidity': 80, 'temp_kf': 0}, 'weather': [{'id': 800, 'main': 'Clear', 'description': 'clear sky', 'icon': '01n'}], 'clouds': {'all': 0}, 'wind': {'speed': 4.09, 'deg': 56, 'gust': 10.83}, 'visibility': 10000, 'pop': 0, 'sys': {'pod': 'n'}, 'dt_txt': '2023-09-05 21:00:00'}, {'dt': 1693958400, 'main': {'temp': 285.75, 'feels_like': 285.26, 'temp_min': 285.75, 'temp_max': 285.75, 'pressure': 1023, 'sea_level': 1023, 'grnd_level': 1006, 'humidity': 84, 'temp_kf': 0}, 'weather': [{'id': 800, 'main': 'Clear', 'description': 'clear sky', 'icon': '01n'}], 'clouds': {'all': 2}, 'wind': {'speed': 3.45, 'deg': 39, 'gust': 9.02}, 'visibility': 10000, 'pop': 0, 'sys': {'pod': 'n'}, 'dt_txt': '2023-09-06 00:00:00'}, {'dt': 1693969200, 'main': {'temp': 283, 'feels_like': 281.87, 'temp_min': 283, 'temp_max': 283, 'pressure': 1024, 'sea_level': 1024, 'grnd_level': 1007, 'humidity': 82, 'temp_kf': 0}, 'weather': [{'id': 800, 'main': 'Clear', 'description': 'clear sky', 'icon': '01n'}], 'clouds': {'all': 2}, 'wind': {'speed': 2.39, 'deg': 22, 'gust': 6.6}, 'visibility': 10000, 'pop': 0, 'sys': {'pod': 'n'}, 'dt_txt': '2023-09-06 03:00:00'}, {'dt': 1693980000, 'main': {'temp': 284.05, 'feels_like': 283.13, 'temp_min': 284.05, 'temp_max': 284.05, 'pressure': 1026, 'sea_level': 1026, 'grnd_level': 1009, 'humidity': 74, 'temp_kf': 0}, 'weather': [{'id': 801, 'main': 'Clouds', 'description': 'few clouds', 'icon': '02d'}], 'clouds': {'all': 14}, 'wind': {'speed': 1.75, 'deg': 31, 'gust': 3.47}, 'visibility': 10000, 'pop': 0, 'sys': {'pod': 'd'}, 'dt_txt': '2023-09-06 06:00:00'}, {'dt': 1693990800, 'main': {'temp': 286.95, 'feels_like': 286.11, 'temp_min': 286.95, 'temp_max': 286.95, 'pressure': 1026, 'sea_level': 1026, 'grnd_level': 1009, 'humidity': 66, 'temp_kf': 0}, 'weather': [{'id': 804, 'main': 'Clouds', 'description': 'overcast clouds', 'icon': '04d'}], 'clouds': {'all': 97}, 'wind': {'speed': 1.38, 'deg': 65, 'gust': 2.56}, 'visibility': 10000, 'pop': 0, 'sys': {'pod': 'd'}, 'dt_txt': '2023-09-06 09:00:00'}, {'dt': 1694001600, 'main': {'temp': 290.18, 'feels_like': 289.53, 'temp_min': 290.18, 'temp_max': 290.18, 'pressure': 1026, 'sea_level': 1026, 'grnd_level': 1010, 'humidity': 61, 'temp_kf': 0}, 'weather': [{'id': 804, 'main': 'Clouds', 'description': 'overcast clouds', 'icon': '04d'}], 'clouds': {'all': 98}, 'wind': {'speed': 0.28, 'deg': 157, 'gust': 1.45}, 'visibility': 10000, 'pop': 0, 'sys': {'pod': 'd'}, 'dt_txt': '2023-09-06 12:00:00'}, {'dt': 1694012400, 'main': {'temp': 291.73, 'feels_like': 291.24, 'temp_min': 291.73, 'temp_max': 291.73, 'pressure': 1025, 'sea_level': 1025, 'grnd_level': 1008, 'humidity': 61, 'temp_kf': 0}, 'weather': [{'id': 803, 'main': 'Clouds', 'description': 'broken clouds', 'icon': '04d'}], 'clouds': {'all': 82}, 'wind': {'speed': 1.01, 'deg': 189, 'gust': 1.73}, 'visibility': 10000, 'pop': 0, 'sys': {'pod': 'd'}, 'dt_txt': '2023-09-06 15:00:00'}, {'dt': 1694023200, 'main': {'temp': 287.22, 'feels_like': 286.9, 'temp_min': 287.22, 'temp_max': 287.22, 'pressure': 1025, 'sea_level': 1025, 'grnd_level': 1009, 'humidity': 85, 'temp_kf': 0}, 'weather': [{'id': 803, 'main': 'Clouds', 'description': 'broken clouds', 'icon': '04d'}], 'clouds': {'all': 78}, 'wind': {'speed': 0.32, 'deg': 202, 'gust': 0.51}, 'visibility': 10000, 'pop': 0, 'sys': {'pod': 'd'}, 'dt_txt': '2023-09-06 18:00:00'}, {'dt': 1694034000, 'main': {'temp': 285.57, 'feels_like': 285.32, 'temp_min': 285.57, 'temp_max': 285.57, 'pressure': 1026, 'sea_level': 1026, 'grnd_level': 1009, 'humidity': 94, 'temp_kf': 0}, 'weather': [{'id': 804, 'main': 'Clouds', 'description': 'overcast clouds', 'icon': '04n'}], 'clouds': {'all': 95}, 'wind': {'speed': 0.59, 'deg': 85, 'gust': 0.63}, 'visibility': 10000, 'pop': 0, 'sys': {'pod': 'n'}, 'dt_txt': '2023-09-06 21:00:00'}, {'dt': 1694044800, 'main': {'temp': 284.83, 'feels_like': 284.56, 'temp_min': 284.83, 'temp_max': 284.83, 'pressure': 1026, 'sea_level': 1026, 'grnd_level': 1009, 'humidity': 96, 'temp_kf': 0}, 'weather': [{'id': 803, 'main': 'Clouds', 'description': 'broken clouds', 'icon': '04n'}], 'clouds': {'all': 82}, 'wind': {'speed': 0.55, 'deg': 102, 'gust': 0.57}, 'visibility': 10000, 'pop': 0, 'sys': {'pod': 'n'}, 'dt_txt': '2023-09-07 00:00:00'}, {'dt': 1694055600, 'main': {'temp': 284.09, 'feels_like': 283.77, 'temp_min': 284.09, 'temp_max': 284.09, 'pressure': 1026, 'sea_level': 1026, 'grnd_level': 1008, 'humidity': 97, 'temp_kf': 0}, 'weather': [{'id': 803, 'main': 'Clouds', 'description': 'broken clouds', 'icon': '04n'}], 'clouds': {'all': 51}, 'wind': {'speed': 0.65, 'deg': 157, 'gust': 0.7}, 'visibility': 10000, 'pop': 0, 'sys': {'pod': 'n'}, 'dt_txt': '2023-09-07 03:00:00'}, {'dt': 1694066400, 'main': {'temp': 285.55, 'feels_like': 285.33, 'temp_min': 285.55, 'temp_max': 285.55, 'pressure': 1026, 'sea_level': 1026, 'grnd_level': 1009, 'humidity': 95, 'temp_kf': 0}, 'weather': [{'id': 803, 'main': 'Clouds', 'description': 'broken clouds', 'icon': '04d'}], 'clouds': {'all': 71}, 'wind': {'speed': 0.88, 'deg': 160, 'gust': 2.01}, 'visibility': 10000, 'pop': 0, 'sys': {'pod': 'd'}, 'dt_txt': '2023-09-07 06:00:00'}, {'dt': 1694077200, 'main': {'temp': 289.19, 'feels_like': 289.02, 'temp_min': 289.19, 'temp_max': 289.19, 'pressure': 1025, 'sea_level': 1025, 'grnd_level': 1008, 'humidity': 83, 'temp_kf': 0}, 'weather': [{'id': 804, 'main': 'Clouds', 'description': 'overcast clouds', 'icon': '04d'}], 'clouds': {'all': 100}, 'wind': {'speed': 2.95, 'deg': 193, 'gust': 5.97}, 'visibility': 10000, 'pop': 0, 'sys': {'pod': 'd'}, 'dt_txt': '2023-09-07 09:00:00'}, {'dt': 1694088000, 'main': {'temp': 292.14, 'feels_like': 291.84, 'temp_min': 292.14, 'temp_max': 292.14, 'pressure': 1024, 'sea_level': 1024, 'grnd_level': 1008, 'humidity': 67, 'temp_kf': 0}, 'weather': [{'id': 804, 'main': 'Clouds', 'description': 'overcast clouds', 'icon': '04d'}], 'clouds': {'all': 100}, 'wind': {'speed': 4.15, 'deg': 193, 'gust': 6.71}, 'visibility': 10000, 'pop': 0, 'sys': {'pod': 'd'}, 'dt_txt': '2023-09-07 12:00:00'}, {'dt': 1694098800, 'main': {'temp': 291.62, 'feels_like': 291.45, 'temp_min': 291.62, 'temp_max': 291.62, 'pressure': 1023, 'sea_level': 1023, 'grnd_level': 1006, 'humidity': 74, 'temp_kf': 0}, 'weather': [{'id': 804, 'main': 'Clouds', 'description': 'overcast clouds', 'icon': '04d'}], 'clouds': {'all': 93}, 'wind': {'speed': 4.34, 'deg': 189, 'gust': 7.96}, 'visibility': 10000, 'pop': 0, 'sys': {'pod': 'd'}, 'dt_txt': '2023-09-07 15:00:00'}, {'dt': 1694109600, 'main': {'temp': 287.93, 'feels_like': 287.92, 'temp_min': 287.93, 'temp_max': 287.93, 'pressure': 1022, 'sea_level': 1022, 'grnd_level': 1005, 'humidity': 94, 'temp_kf': 0}, 'weather': [{'id': 803, 'main': 'Clouds', 'description': 'broken clouds', 'icon': '04d'}], 'clouds': {'all': 72}, 'wind': {'speed': 3.32, 'deg': 178, 'gust': 9.77}, 'visibility': 10000, 'pop': 0, 'sys': {'pod': 'd'}, 'dt_txt': '2023-09-07 18:00:00'}, {'dt': 1694120400, 'main': {'temp': 287.04, 'feels_like': 287.04, 'temp_min': 287.04, 'temp_max': 287.04, 'pressure': 1022, 'sea_level': 1022, 'grnd_level': 1005, 'humidity': 98, 'temp_kf': 0}, 'weather': [{'id': 804, 'main': 'Clouds', 'description': 'overcast clouds', 'icon': '04n'}], 'clouds': {'all': 93}, 'wind': {'speed': 2.64, 'deg': 178, 'gust': 8.78}, 'visibility': 10000, 'pop': 0, 'sys': {'pod': 'n'}, 'dt_txt': '2023-09-07 21:00:00'}, {'dt': 1694131200, 'main': {'temp': 286.99, 'feels_like': 287.01, 'temp_min': 286.99, 'temp_max': 286.99, 'pressure': 1020, 'sea_level': 1020, 'grnd_level': 1004, 'humidity': 99, 'temp_kf': 0}, 'weather': [{'id': 804, 'main': 'Clouds', 'description': 'overcast clouds', 'icon': '04n'}], 'clouds': {'all': 97}, 'wind': {'speed': 2.09, 'deg': 186, 'gust': 6.3}, 'visibility': 10000, 'pop': 0, 'sys': {'pod': 'n'}, 'dt_txt': '2023-09-08 00:00:00'}, {'dt': 1694142000, 'main': {'temp': 286.9, 'feels_like': 286.89, 'temp_min': 286.9, 'temp_max': 286.9, 'pressure': 1019, 'sea_level': 1019, 'grnd_level': 1002, 'humidity': 98, 'temp_kf': 0}, 'weather': [{'id': 804, 'main': 'Clouds', 'description': 'overcast clouds', 'icon': '04n'}], 'clouds': {'all': 100}, 'wind': {'speed': 1.92, 'deg': 192, 'gust': 5.88}, 'visibility': 10000, 'pop': 0, 'sys': {'pod': 'n'}, 'dt_txt': '2023-09-08 03:00:00'}, {'dt': 1694152800, 'main': {'temp': 288.17, 'feels_like': 288.23, 'temp_min': 288.17, 'temp_max': 288.17, 'pressure': 1018, 'sea_level': 1018, 'grnd_level': 1002, 'humidity': 96, 'temp_kf': 0}, 'weather': [{'id': 804, 'main': 'Clouds', 'description': 'overcast clouds', 'icon': '04d'}], 'clouds': {'all': 100}, 'wind': {'speed': 1.95, 'deg': 196, 'gust': 6.49}, 'visibility': 10000, 'pop': 0, 'sys': {'pod': 'd'}, 'dt_txt': '2023-09-08 06:00:00'}, {'dt': 1694163600, 'main': {'temp': 291.54, 'feels_like': 291.52, 'temp_min': 291.54, 'temp_max': 291.54, 'pressure': 1018, 'sea_level': 1018, 'grnd_level': 1001, 'humidity': 80, 'temp_kf': 0}, 'weather': [{'id': 804, 'main': 'Clouds', 'description': 'overcast clouds', 'icon': '04d'}], 'clouds': {'all': 100}, 'wind': {'speed': 3.11, 'deg': 197, 'gust': 7.04}, 'visibility': 10000, 'pop': 0, 'sys': {'pod': 'd'}, 'dt_txt': '2023-09-08 09:00:00'}, {'dt': 1694174400, 'main': {'temp': 293.79, 'feels_like': 293.71, 'temp_min': 293.79, 'temp_max': 293.79, 'pressure': 1017, 'sea_level': 1017, 'grnd_level': 1001, 'humidity': 69, 'temp_kf': 0}, 'weather': [{'id': 804, 'main': 'Clouds', 'description': 'overcast clouds', 'icon': '04d'}], 'clouds': {'all': 100}, 'wind': {'speed': 4.84, 'deg': 186, 'gust': 8.91}, 'visibility': 10000, 'pop': 0, 'sys': {'pod': 'd'}, 'dt_txt': '2023-09-08 12:00:00'}, {'dt': 1694185200, 'main': {'temp': 293, 'feels_like': 292.89, 'temp_min': 293, 'temp_max': 293, 'pressure': 1016, 'sea_level': 1016, 'grnd_level': 1000, 'humidity': 71, 'temp_kf': 0}, 'weather': [{'id': 800, 'main': 'Clear', 'description': 'clear sky', 'icon': '01d'}], 'clouds': {'all': 6}, 'wind': {'speed': 4.64, 'deg': 183, 'gust': 8.8}, 'visibility': 10000, 'pop': 0, 'sys': {'pod': 'd'}, 'dt_txt': '2023-09-08 15:00:00'}, {'dt': 1694196000, 'main': {'temp': 288.65, 'feels_like': 288.63, 'temp_min': 288.65, 'temp_max': 288.65, 'pressure': 1017, 'sea_level': 1017, 'grnd_level': 1000, 'humidity': 91, 'temp_kf': 0}, 'weather': [{'id': 800, 'main': 'Clear', 'description': 'clear sky', 'icon': '01d'}], 'clouds': {'all': 9}, 'wind': {'speed': 3.3, 'deg': 178, 'gust': 9.81}, 'visibility': 10000, 'pop': 0, 'sys': {'pod': 'd'}, 'dt_txt': '2023-09-08 18:00:00'}, {'dt': 1694206800, 'main': {'temp': 287.33, 'feels_like': 287.34, 'temp_min': 287.33, 'temp_max': 287.33, 'pressure': 1016, 'sea_level': 1016, 'grnd_level': 1000, 'humidity': 97, 'temp_kf': 0}, 'weather': [{'id': 801, 'main': 'Clouds', 'description': 'few clouds', 'icon': '02n'}], 'clouds': {'all': 22}, 'wind': {'speed': 2.09, 'deg': 175, 'gust': 6.08}, 'visibility': 10000, 'pop': 0, 'sys': {'pod': 'n'}, 'dt_txt': '2023-09-08 21:00:00'}, {'dt': 1694217600, 'main': {'temp': 286.41, 'feels_like': 286.35, 'temp_min': 286.41, 'temp_max': 286.41, 'pressure': 1016, 'sea_level': 1016, 'grnd_level': 1000, 'humidity': 98, 'temp_kf': 0}, 'weather': [{'id': 801, 'main': 'Clouds', 'description': 'few clouds', 'icon': '02n'}], 'clouds': {'all': 24}, 'wind': {'speed': 0.85, 'deg': 174, 'gust': 0.99}, 'visibility': 10000, 'pop': 0, 'sys': {'pod': 'n'}, 'dt_txt': '2023-09-09 00:00:00'}, {'dt': 1694228400, 'main': {'temp': 285.84, 'feels_like': 285.72, 'temp_min': 285.84, 'temp_max': 285.84, 'pressure': 1016, 'sea_level': 1016, 'grnd_level': 999, 'humidity': 98, 'temp_kf': 0}, 'weather': [{'id': 801, 'main': 'Clouds', 'description': 'few clouds', 'icon': '02n'}], 'clouds': {'all': 22}, 'wind': {'speed': 0.29, 'deg': 62, 'gust': 0.45}, 'visibility': 10000, 'pop': 0, 'sys': {'pod': 'n'}, 'dt_txt': '2023-09-09 03:00:00'}, {'dt': 1694239200, 'main': {'temp': 287.4, 'feels_like': 287.28, 'temp_min': 287.4, 'temp_max': 287.4, 'pressure': 1017, 'sea_level': 1017, 'grnd_level': 1000, 'humidity': 92, 'temp_kf': 0}, 'weather': [{'id': 801, 'main': 'Clouds', 'description': 'few clouds', 'icon': '02d'}], 'clouds': {'all': 13}, 'wind': {'speed': 0.73, 'deg': 20, 'gust': 0.91}, 'visibility': 10000, 'pop': 0, 'sys': {'pod': 'd'}, 'dt_txt': '2023-09-09 06:00:00'}, {'dt': 1694250000, 'main': {'temp': 293.63, 'feels_like': 293.43, 'temp_min': 293.63, 'temp_max': 293.63, 'pressure': 1017, 'sea_level': 1017, 'grnd_level': 1001, 'humidity': 65, 'temp_kf': 0}, 'weather': [{'id': 800, 'main': 'Clear', 'description': 'clear sky', 'icon': '01d'}], 'clouds': {'all': 0}, 'wind': {'speed': 0.57, 'deg': 7, 'gust': 0.82}, 'visibility': 10000, 'pop': 0, 'sys': {'pod': 'd'}, 'dt_txt': '2023-09-09 09:00:00'}], 'city': {'id': 3139081, 'name': 'Ski', 'coord': {'lat': 59.7195, 'lon': 10.8358}, 'country': 'NO', 'population': 12513, 'timezone': 7200, 'sunrise': 1693801109, 'sunset': 1693851219}}\")\n"
     ]
    }
   ],
   "source": [
    "# Query the data\n",
    "forecast_rows = session.execute(\"SELECT * FROM forecast_table;\")\n",
    "print(forecast_rows.one()) # <- only one row"
   ]
  },
  {
   "cell_type": "markdown",
   "metadata": {},
   "source": [
    "## Resources\n",
    "- [Cassandra webpage](https://cassandra.apache.org/)\n",
    "- [Cassandra Docker file](https://hub.docker.com/_/cassandra)\n",
    "- [UUID functions](https://docs.datastax.com/en/cql-oss/3.3/cql/cql_reference/timeuuid_functions_r.html)\n",
    "- [YouTube: Cassandra in 100 seconds](https://youtu.be/ziq7FUKpCS8?si=WQUdkHFvaBmT0DBo) (2m:26s)\n",
    "- [YouTube: How to use Appache Cassandra in Python](https://youtu.be/qMauZqJH3ZM?si=yKGZ-5cld2BK396Y) (14m:50s)\n",
    "- [YouTube: Cassandra Database Crash Course](https://youtu.be/KZsVSfQVU4I?si=FBCi8qOfCirfVmZk) (19m:47s)"
   ]
  }
 ],
 "metadata": {
  "kernelspec": {
   "display_name": "tf_M1",
   "language": "python",
   "name": "python3"
  },
  "language_info": {
   "codemirror_mode": {
    "name": "ipython",
    "version": 3
   },
   "file_extension": ".py",
   "mimetype": "text/x-python",
   "name": "python",
   "nbconvert_exporter": "python",
   "pygments_lexer": "ipython3",
   "version": "3.10.6"
  },
  "orig_nbformat": 4
 },
 "nbformat": 4,
 "nbformat_minor": 2
}
