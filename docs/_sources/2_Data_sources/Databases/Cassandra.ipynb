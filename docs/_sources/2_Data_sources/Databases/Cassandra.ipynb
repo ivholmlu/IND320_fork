{
 "cells": [
  {
   "attachments": {},
   "cell_type": "markdown",
   "metadata": {},
   "source": [
    "# Cassandra\n",
    "Assumptions:\n",
    "- Docker installed on system\n",
    "- \"cassandra:latest\" image installed in docker\n",
    "- Python/Conda environment with python 3.8 (or newer*)  \n",
    "  \n",
    "*As of 9 August 2023, the officially built cassandra-driver package was at version 3.25 and did not work well with Python 3.10 on Mac.  \n",
    "To install a newer version from the terminal you can:  \n",
    "```\n",
    "pip install git+https://github.com/datastax/python-driver.git\n",
    "pip install cql\n",
    "```\n",
    "  \n",
    "Or use older Python:  \n",
    "```\n",
    "conda create --name cassy38 python=3.8 jupyter scikit-learn\n",
    "conda activate cassy38  \n",
    "pip install cassandra-driver cql\n",
    "```"
   ]
  },
  {
   "attachments": {},
   "cell_type": "markdown",
   "metadata": {},
   "source": [
    "## Spinning up a local cassandra instance in a terminal\n",
    "```docker run --name my_cassandra cassandra:latest -p 9042:9042```  \n",
    "  \n",
    "If this works for you, hourra! Otherwise, try the following:  \n",
    "- Open Docker Desktop\n",
    "- Run the cassandra container with optional settings, opening 9042 port (left-hand side)."
   ]
  },
  {
   "cell_type": "code",
   "execution_count": 1,
   "metadata": {},
   "outputs": [],
   "source": [
    "# Connecting to Cassandra\n",
    "from cassandra.cluster import Cluster\n",
    "cluster = Cluster(['localhost'], port=9042)\n",
    "session = cluster.connect()"
   ]
  },
  {
   "cell_type": "code",
   "execution_count": 2,
   "metadata": {},
   "outputs": [
    {
     "data": {
      "text/plain": [
       "<cassandra.cluster.ResultSet at 0x107f4e3b0>"
      ]
     },
     "execution_count": 2,
     "metadata": {},
     "output_type": "execute_result"
    }
   ],
   "source": [
    "# Set up new keyspace (first time only)\n",
    "#                                              name of keyspace                        replication strategy           replication factor\n",
    "session.execute(\"CREATE KEYSPACE IF NOT EXISTS my_first_keyspace WITH REPLICATION = { 'class' : 'SimpleStrategy', 'replication_factor' : 1 };\")"
   ]
  },
  {
   "cell_type": "code",
   "execution_count": 3,
   "metadata": {},
   "outputs": [
    {
     "data": {
      "text/plain": [
       "<cassandra.cluster.ResultSet at 0x107f4c0d0>"
      ]
     },
     "execution_count": 3,
     "metadata": {},
     "output_type": "execute_result"
    }
   ],
   "source": [
    "# Create a new table (first time only)\n",
    "session.set_keyspace('my_first_keyspace')\n",
    "session.execute(\"CREATE TABLE IF NOT EXISTS my_first_table (ind int PRIMARY KEY, company text, model text);\")"
   ]
  },
  {
   "cell_type": "code",
   "execution_count": 4,
   "metadata": {},
   "outputs": [
    {
     "data": {
      "text/plain": [
       "<cassandra.cluster.ResultSet at 0x11d612c50>"
      ]
     },
     "execution_count": 4,
     "metadata": {},
     "output_type": "execute_result"
    }
   ],
   "source": [
    "# Insert some data (ind is the primary key, must be unique)\n",
    "session.execute(\"INSERT INTO my_first_table (ind, company, model) VALUES (1, 'Tesla', 'Model S');\")\n",
    "session.execute(\"INSERT INTO my_first_table (ind, company, model) VALUES (2, 'Tesla', 'Model 3');\")\n",
    "session.execute(\"INSERT INTO my_first_table (ind, company, model) VALUES (3, 'Polestar', '3');\")"
   ]
  },
  {
   "cell_type": "code",
   "execution_count": 5,
   "metadata": {},
   "outputs": [
    {
     "name": "stdout",
     "output_type": "stream",
     "text": [
      "Row(ind=1, company='Tesla', model='Model S')\n",
      "Row(ind=2, company='Tesla', model='Model 3')\n",
      "Row(ind=3, company='Polestar', model='3')\n"
     ]
    }
   ],
   "source": [
    "# Query the data\n",
    "rows = session.execute(\"SELECT * FROM my_first_table;\")\n",
    "for i in rows:\n",
    "    print(i)"
   ]
  },
  {
   "cell_type": "code",
   "execution_count": 6,
   "metadata": {
    "tags": [
     "raises-exception"
    ]
   },
   "outputs": [
    {
     "ename": "InvalidRequest",
     "evalue": "Error from server: code=2200 [Invalid query] message=\"Cannot execute this query as it might involve data filtering and thus may have unpredictable performance. If you want to execute this query despite the performance unpredictability, use ALLOW FILTERING\"",
     "output_type": "error",
     "traceback": [
      "\u001b[0;31m---------------------------------------------------------------------------\u001b[0m",
      "\u001b[0;31mInvalidRequest\u001b[0m                            Traceback (most recent call last)",
      "\u001b[1;32m/Users/kristian/Documents/GitHub/IND320/D2D/Data_sources/Databases/Cassandra.ipynb Cell 8\u001b[0m in \u001b[0;36m2\n\u001b[1;32m      <a href='vscode-notebook-cell:/Users/kristian/Documents/GitHub/IND320/D2D/Data_sources/Databases/Cassandra.ipynb#X10sZmlsZQ%3D%3D?line=0'>1</a>\u001b[0m \u001b[39m# More specific query\u001b[39;00m\n\u001b[0;32m----> <a href='vscode-notebook-cell:/Users/kristian/Documents/GitHub/IND320/D2D/Data_sources/Databases/Cassandra.ipynb#X10sZmlsZQ%3D%3D?line=1'>2</a>\u001b[0m prepared_statement \u001b[39m=\u001b[39m session\u001b[39m.\u001b[39;49mprepare(\u001b[39m\"\u001b[39;49m\u001b[39mSELECT * FROM my_first_table WHERE company=?;\u001b[39;49m\u001b[39m\"\u001b[39;49m) \u001b[39m# <- will fail as company is not a key\u001b[39;00m\n\u001b[1;32m      <a href='vscode-notebook-cell:/Users/kristian/Documents/GitHub/IND320/D2D/Data_sources/Databases/Cassandra.ipynb#X10sZmlsZQ%3D%3D?line=2'>3</a>\u001b[0m teslas \u001b[39m=\u001b[39m session\u001b[39m.\u001b[39mexecute(prepared_statement, [\u001b[39m'\u001b[39m\u001b[39mTesla\u001b[39m\u001b[39m'\u001b[39m])\n\u001b[1;32m      <a href='vscode-notebook-cell:/Users/kristian/Documents/GitHub/IND320/D2D/Data_sources/Databases/Cassandra.ipynb#X10sZmlsZQ%3D%3D?line=3'>4</a>\u001b[0m \u001b[39mfor\u001b[39;00m i \u001b[39min\u001b[39;00m teslas:\n",
      "File \u001b[0;32m~/miniforge3/envs/tf_M1/lib/python3.10/site-packages/cassandra/cluster.py:3088\u001b[0m, in \u001b[0;36mSession.prepare\u001b[0;34m(self, query, custom_payload, keyspace)\u001b[0m\n\u001b[1;32m   3086\u001b[0m \u001b[39mtry\u001b[39;00m:\n\u001b[1;32m   3087\u001b[0m     future\u001b[39m.\u001b[39msend_request()\n\u001b[0;32m-> 3088\u001b[0m     response \u001b[39m=\u001b[39m future\u001b[39m.\u001b[39;49mresult()\u001b[39m.\u001b[39mone()\n\u001b[1;32m   3089\u001b[0m \u001b[39mexcept\u001b[39;00m \u001b[39mException\u001b[39;00m:\n\u001b[1;32m   3090\u001b[0m     log\u001b[39m.\u001b[39mexception(\u001b[39m\"\u001b[39m\u001b[39mError preparing query:\u001b[39m\u001b[39m\"\u001b[39m)\n",
      "File \u001b[0;32m~/miniforge3/envs/tf_M1/lib/python3.10/site-packages/cassandra/cluster.py:4920\u001b[0m, in \u001b[0;36mResponseFuture.result\u001b[0;34m(self)\u001b[0m\n\u001b[1;32m   4918\u001b[0m     \u001b[39mreturn\u001b[39;00m ResultSet(\u001b[39mself\u001b[39m, \u001b[39mself\u001b[39m\u001b[39m.\u001b[39m_final_result)\n\u001b[1;32m   4919\u001b[0m \u001b[39melse\u001b[39;00m:\n\u001b[0;32m-> 4920\u001b[0m     \u001b[39mraise\u001b[39;00m \u001b[39mself\u001b[39m\u001b[39m.\u001b[39m_final_exception\n",
      "\u001b[0;31mInvalidRequest\u001b[0m: Error from server: code=2200 [Invalid query] message=\"Cannot execute this query as it might involve data filtering and thus may have unpredictable performance. If you want to execute this query despite the performance unpredictability, use ALLOW FILTERING\""
     ]
    }
   ],
   "source": [
    "# More specific query\n",
    "prepared_statement = session.prepare(\"SELECT * FROM my_first_table WHERE company=?;\") # <- will fail as company is not a key\n",
    "teslas = session.execute(prepared_statement, ['Tesla'])\n",
    "for i in teslas:\n",
    "    print(i)"
   ]
  },
  {
   "attachments": {},
   "cell_type": "markdown",
   "metadata": {},
   "source": [
    "## Cassandra filtering\n",
    "Cassandra is inherently a distributed production database. Selecting as above may require downloading all data from a node, then filtering based on the WHERE part (only PRIMARY KEYs are centrally known). Solutions:  \n",
    "- If the table is small or most of the data will satisfy the query, add ```ALLOW FILTERING``` at the end of the query (not recommended if not known). \n",
    "- Or make sure the WHERE clause points to one of the keys (see below)."
   ]
  },
  {
   "cell_type": "code",
   "execution_count": 7,
   "metadata": {},
   "outputs": [
    {
     "data": {
      "text/plain": [
       "<cassandra.cluster.ResultSet at 0x11229e2c0>"
      ]
     },
     "execution_count": 7,
     "metadata": {},
     "output_type": "execute_result"
    }
   ],
   "source": [
    "# Create a new table (observe keys)\n",
    "session.execute(\"CREATE TABLE IF NOT EXISTS car_table (company text, model text, PRIMARY KEY(company, model));\")"
   ]
  },
  {
   "cell_type": "code",
   "execution_count": 8,
   "metadata": {},
   "outputs": [
    {
     "data": {
      "text/plain": [
       "<cassandra.cluster.ResultSet at 0x127083df0>"
      ]
     },
     "execution_count": 8,
     "metadata": {},
     "output_type": "execute_result"
    }
   ],
   "source": [
    "# Insert some data (combination of company and model must be unique)\n",
    "session.execute(\"INSERT INTO car_table (company, model) VALUES ('Tesla', 'Model S');\")\n",
    "session.execute(\"INSERT INTO car_table (company, model) VALUES ('Tesla', 'Model 3');\")\n",
    "session.execute(\"INSERT INTO car_table (company, model) VALUES ('Polestar', '3');\")"
   ]
  },
  {
   "cell_type": "code",
   "execution_count": 9,
   "metadata": {},
   "outputs": [
    {
     "name": "stdout",
     "output_type": "stream",
     "text": [
      "Row(company='Tesla', model='Model 3')\n",
      "Row(company='Tesla', model='Model S')\n"
     ]
    }
   ],
   "source": [
    "# More specific query now works\n",
    "prepared_statement = session.prepare(\"SELECT * FROM car_table WHERE company=?;\")\n",
    "teslas = session.execute(prepared_statement, ['Tesla'])\n",
    "for i in teslas:\n",
    "    print(i)"
   ]
  },
  {
   "attachments": {},
   "cell_type": "markdown",
   "metadata": {},
   "source": [
    "## JSON in Cassandra\n"
   ]
  },
  {
   "cell_type": "code",
   "execution_count": 10,
   "metadata": {},
   "outputs": [],
   "source": [
    "# Imports\n",
    "import datetime as dt\n",
    "import requests\n",
    "import json"
   ]
  },
  {
   "attachments": {},
   "cell_type": "markdown",
   "metadata": {},
   "source": [
    "### Read previously saved JSON file forecast.json to memory"
   ]
  },
  {
   "cell_type": "code",
   "execution_count": 11,
   "metadata": {},
   "outputs": [],
   "source": [
    "with open('../APIs/downloads/forecast.json', 'r') as f:\n",
    "    forecast = json.load(f)"
   ]
  },
  {
   "cell_type": "code",
   "execution_count": 12,
   "metadata": {},
   "outputs": [
    {
     "data": {
      "text/plain": [
       "\"{'cod': '200', 'message': 0, 'cnt': 40, 'list': [{'dt': 1691582400, 'main': {'temp': 286.26, 'feels_like': 285.95, 'temp_min': 283.99, 'temp_max': 286.26, 'pressure': 996, 'sea_level': 996, 'grnd_level': 982, 'humidity': 89, 'temp_kf': 2.27}, 'weather': [{'id': 500, 'main': 'Rain', 'description': 'light rain', 'icon': '10d'}], 'clouds': {'all': 100}, 'wind': {'speed': 4.25, 'deg': 39, 'gust': 9.51}, 'visibility': 10000, 'pop': 0.91, 'rain': {'3h': 0.77}, 'sys': {'pod': 'd'}, 'dt_txt': '2023-08-09 12:00:00'}, {'dt': 1691593200, 'main': {'temp': 285.4, 'feels_like': 285.06, 'temp_min': 284.4, 'temp_max': 285.4, 'pressure': 999, 'sea_level': 999, 'grnd_level': 984, 'humidity': 91, 'temp_kf': 1}, 'weather': [{'id': 804, 'main': 'Clouds', 'description': 'overcast clouds', 'icon': '04d'}], 'clouds': {'all': 100}, 'wind': {'speed': 3.07, 'deg': 4, 'gust': 6.57}, 'visibility': 10000, 'pop': 0.51, 'sys': {'pod': 'd'}, 'dt_txt': '2023-08-09 15:00:00'}, {'dt': 1691604000, 'main': {'temp': 284.13, 'feels_like': 283.71, 'temp_min': 284.13, 'temp_max': 284.13, 'pressure': 1003, 'sea_level': 1003, 'grnd_level': 986, 'humidity': 93, 'temp_kf': 0}, 'weather': [{'id': 804, 'main': 'Clouds', 'description': 'overcast clouds', 'icon': '04d'}], 'clouds': {'all': 100}, 'wind': {'speed': 2.61, 'deg': 341, 'gust': 6.95}, 'visibility': 10000, 'pop': 0.31, 'sys': {'pod': 'd'}, 'dt_txt': '2023-08-09 18:00:00'}, {'dt': 1691614800, 'main': {'temp': 283.69, 'feels_like': 283.25, 'temp_min': 283.69, 'temp_max': 283.69, 'pressure': 1005, 'sea_level': 1005, 'grnd_level': 988, 'humidity': 94, 'temp_kf': 0}, 'weather': [{'id': 804, 'main': 'Clouds', 'description': 'overcast clouds', 'icon': '04n'}], 'clouds': {'all': 100}, 'wind': {'speed': 1.61, 'deg': 309, 'gust': 4.45}, 'visibility': 10000, 'pop': 0, 'sys': {'pod': 'n'}, 'dt_txt': '2023-08-09 21:00:00'}, {'dt': 1691625600, 'main': {'temp': 283.44, 'feels_like': 282.98, 'temp_min': 283.44, 'temp_max': 283.44, 'pressure': 1006, 'sea_level': 1006, 'grnd_level': 990, 'humidity': 94, 'temp_kf': 0}, 'weather': [{'id': 804, 'main': 'Clouds', 'description': 'overcast clouds', 'icon': '04n'}], 'clouds': {'all': 100}, 'wind': {'speed': 1.7, 'deg': 302, 'gust': 5.68}, 'visibility': 10000, 'pop': 0, 'sys': {'pod': 'n'}, 'dt_txt': '2023-08-10 00:00:00'}, {'dt': 1691636400, 'main': {'temp': 283.3, 'feels_like': 282.8, 'temp_min': 283.3, 'temp_max': 283.3, 'pressure': 1007, 'sea_level': 1007, 'grnd_level': 990, 'humidity': 93, 'temp_kf': 0}, 'weather': [{'id': 804, 'main': 'Clouds', 'description': 'overcast clouds', 'icon': '04n'}], 'clouds': {'all': 100}, 'wind': {'speed': 1.54, 'deg': 300, 'gust': 4.59}, 'visibility': 10000, 'pop': 0, 'sys': {'pod': 'n'}, 'dt_txt': '2023-08-10 03:00:00'}, {'dt': 1691647200, 'main': {'temp': 285.09, 'feels_like': 284.51, 'temp_min': 285.09, 'temp_max': 285.09, 'pressure': 1009, 'sea_level': 1009, 'grnd_level': 992, 'humidity': 83, 'temp_kf': 0}, 'weather': [{'id': 804, 'main': 'Clouds', 'description': 'overcast clouds', 'icon': '04d'}], 'clouds': {'all': 98}, 'wind': {'speed': 1.93, 'deg': 286, 'gust': 5.56}, 'visibility': 10000, 'pop': 0, 'sys': {'pod': 'd'}, 'dt_txt': '2023-08-10 06:00:00'}, {'dt': 1691658000, 'main': {'temp': 289.51, 'feels_like': 288.69, 'temp_min': 289.51, 'temp_max': 289.51, 'pressure': 1010, 'sea_level': 1010, 'grnd_level': 993, 'humidity': 57, 'temp_kf': 0}, 'weather': [{'id': 803, 'main': 'Clouds', 'description': 'broken clouds', 'icon': '04d'}], 'clouds': {'all': 81}, 'wind': {'speed': 3.11, 'deg': 326, 'gust': 5.25}, 'visibility': 10000, 'pop': 0, 'sys': {'pod': 'd'}, 'dt_txt': '2023-08-10 09:00:00'}, {'dt': 1691668800, 'main': {'temp': 292.45, 'feels_like': 291.58, 'temp_min': 292.45, 'temp_max': 292.45, 'pressure': 1010, 'sea_level': 1010, 'grnd_level': 994, 'humidity': 44, 'temp_kf': 0}, 'weather': [{'id': 802, 'main': 'Clouds', 'description': 'scattered clouds', 'icon': '03d'}], 'clouds': {'all': 49}, 'wind': {'speed': 2.91, 'deg': 316, 'gust': 3.83}, 'visibility': 10000, 'pop': 0, 'sys': {'pod': 'd'}, 'dt_txt': '2023-08-10 12:00:00'}, {'dt': 1691679600, 'main': {'temp': 290.52, 'feels_like': 289.85, 'temp_min': 290.52, 'temp_max': 290.52, 'pressure': 1011, 'sea_level': 1011, 'grnd_level': 995, 'humidity': 59, 'temp_kf': 0}, 'weather': [{'id': 803, 'main': 'Clouds', 'description': 'broken clouds', 'icon': '04d'}], 'clouds': {'all': 80}, 'wind': {'speed': 1.48, 'deg': 196, 'gust': 2.4}, 'visibility': 10000, 'pop': 0, 'sys': {'pod': 'd'}, 'dt_txt': '2023-08-10 15:00:00'}, {'dt': 1691690400, 'main': {'temp': 288.11, 'feels_like': 287.62, 'temp_min': 288.11, 'temp_max': 288.11, 'pressure': 1012, 'sea_level': 1012, 'grnd_level': 995, 'humidity': 75, 'temp_kf': 0}, 'weather': [{'id': 804, 'main': 'Clouds', 'description': 'overcast clouds', 'icon': '04d'}], 'clouds': {'all': 90}, 'wind': {'speed': 1.51, 'deg': 188, 'gust': 3.22}, 'visibility': 10000, 'pop': 0.07, 'sys': {'pod': 'd'}, 'dt_txt': '2023-08-10 18:00:00'}, {'dt': 1691701200, 'main': {'temp': 285.24, 'feels_like': 284.72, 'temp_min': 285.24, 'temp_max': 285.24, 'pressure': 1013, 'sea_level': 1013, 'grnd_level': 997, 'humidity': 85, 'temp_kf': 0}, 'weather': [{'id': 804, 'main': 'Clouds', 'description': 'overcast clouds', 'icon': '04n'}], 'clouds': {'all': 100}, 'wind': {'speed': 0.51, 'deg': 75, 'gust': 0.84}, 'visibility': 10000, 'pop': 0, 'sys': {'pod': 'n'}, 'dt_txt': '2023-08-10 21:00:00'}, {'dt': 1691712000, 'main': {'temp': 284.09, 'feels_like': 283.56, 'temp_min': 284.09, 'temp_max': 284.09, 'pressure': 1014, 'sea_level': 1014, 'grnd_level': 997, 'humidity': 89, 'temp_kf': 0}, 'weather': [{'id': 803, 'main': 'Clouds', 'description': 'broken clouds', 'icon': '04n'}], 'clouds': {'all': 75}, 'wind': {'speed': 1.35, 'deg': 28, 'gust': 1.31}, 'visibility': 10000, 'pop': 0, 'sys': {'pod': 'n'}, 'dt_txt': '2023-08-11 00:00:00'}, {'dt': 1691722800, 'main': {'temp': 283.48, 'feels_like': 282.97, 'temp_min': 283.48, 'temp_max': 283.48, 'pressure': 1015, 'sea_level': 1015, 'grnd_level': 998, 'humidity': 92, 'temp_kf': 0}, 'weather': [{'id': 802, 'main': 'Clouds', 'description': 'scattered clouds', 'icon': '03n'}], 'clouds': {'all': 44}, 'wind': {'speed': 1.36, 'deg': 14, 'gust': 1.42}, 'visibility': 10000, 'pop': 0, 'sys': {'pod': 'n'}, 'dt_txt': '2023-08-11 03:00:00'}, {'dt': 1691733600, 'main': {'temp': 286.96, 'feels_like': 286.41, 'temp_min': 286.96, 'temp_max': 286.96, 'pressure': 1016, 'sea_level': 1016, 'grnd_level': 999, 'humidity': 77, 'temp_kf': 0}, 'weather': [{'id': 803, 'main': 'Clouds', 'description': 'broken clouds', 'icon': '04d'}], 'clouds': {'all': 67}, 'wind': {'speed': 0.86, 'deg': 41, 'gust': 1.63}, 'visibility': 10000, 'pop': 0, 'sys': {'pod': 'd'}, 'dt_txt': '2023-08-11 06:00:00'}, {'dt': 1691744400, 'main': {'temp': 289.48, 'feels_like': 288.92, 'temp_min': 289.48, 'temp_max': 289.48, 'pressure': 1016, 'sea_level': 1016, 'grnd_level': 1000, 'humidity': 67, 'temp_kf': 0}, 'weather': [{'id': 804, 'main': 'Clouds', 'description': 'overcast clouds', 'icon': '04d'}], 'clouds': {'all': 88}, 'wind': {'speed': 1.19, 'deg': 154, 'gust': 2.17}, 'visibility': 10000, 'pop': 0, 'sys': {'pod': 'd'}, 'dt_txt': '2023-08-11 09:00:00'}, {'dt': 1691755200, 'main': {'temp': 292.31, 'feels_like': 291.74, 'temp_min': 292.31, 'temp_max': 292.31, 'pressure': 1016, 'sea_level': 1016, 'grnd_level': 1000, 'humidity': 56, 'temp_kf': 0}, 'weather': [{'id': 803, 'main': 'Clouds', 'description': 'broken clouds', 'icon': '04d'}], 'clouds': {'all': 80}, 'wind': {'speed': 3.32, 'deg': 210, 'gust': 4.47}, 'visibility': 10000, 'pop': 0, 'sys': {'pod': 'd'}, 'dt_txt': '2023-08-11 12:00:00'}, {'dt': 1691766000, 'main': {'temp': 292.49, 'feels_like': 291.86, 'temp_min': 292.49, 'temp_max': 292.49, 'pressure': 1016, 'sea_level': 1016, 'grnd_level': 1000, 'humidity': 53, 'temp_kf': 0}, 'weather': [{'id': 803, 'main': 'Clouds', 'description': 'broken clouds', 'icon': '04d'}], 'clouds': {'all': 59}, 'wind': {'speed': 4.12, 'deg': 192, 'gust': 5.2}, 'visibility': 10000, 'pop': 0.03, 'sys': {'pod': 'd'}, 'dt_txt': '2023-08-11 15:00:00'}, {'dt': 1691776800, 'main': {'temp': 289.37, 'feels_like': 289.03, 'temp_min': 289.37, 'temp_max': 289.37, 'pressure': 1016, 'sea_level': 1016, 'grnd_level': 1000, 'humidity': 76, 'temp_kf': 0}, 'weather': [{'id': 803, 'main': 'Clouds', 'description': 'broken clouds', 'icon': '04d'}], 'clouds': {'all': 60}, 'wind': {'speed': 3.88, 'deg': 184, 'gust': 8.38}, 'visibility': 10000, 'pop': 0, 'sys': {'pod': 'd'}, 'dt_txt': '2023-08-11 18:00:00'}, {'dt': 1691787600, 'main': {'temp': 288.22, 'feels_like': 288, 'temp_min': 288.22, 'temp_max': 288.22, 'pressure': 1016, 'sea_level': 1016, 'grnd_level': 999, 'humidity': 85, 'temp_kf': 0}, 'weather': [{'id': 804, 'main': 'Clouds', 'description': 'overcast clouds', 'icon': '04n'}], 'clouds': {'all': 96}, 'wind': {'speed': 3.76, 'deg': 178, 'gust': 10.44}, 'visibility': 10000, 'pop': 0, 'sys': {'pod': 'n'}, 'dt_txt': '2023-08-11 21:00:00'}, {'dt': 1691798400, 'main': {'temp': 288.63, 'feels_like': 288.66, 'temp_min': 288.63, 'temp_max': 288.63, 'pressure': 1016, 'sea_level': 1016, 'grnd_level': 999, 'humidity': 93, 'temp_kf': 0}, 'weather': [{'id': 804, 'main': 'Clouds', 'description': 'overcast clouds', 'icon': '04n'}], 'clouds': {'all': 98}, 'wind': {'speed': 3.56, 'deg': 181, 'gust': 10.16}, 'visibility': 10000, 'pop': 0, 'sys': {'pod': 'n'}, 'dt_txt': '2023-08-12 00:00:00'}, {'dt': 1691809200, 'main': {'temp': 288.95, 'feels_like': 289.12, 'temp_min': 288.95, 'temp_max': 288.95, 'pressure': 1015, 'sea_level': 1015, 'grnd_level': 998, 'humidity': 97, 'temp_kf': 0}, 'weather': [{'id': 804, 'main': 'Clouds', 'description': 'overcast clouds', 'icon': '04n'}], 'clouds': {'all': 100}, 'wind': {'speed': 3.07, 'deg': 186, 'gust': 8.63}, 'visibility': 10000, 'pop': 0, 'sys': {'pod': 'n'}, 'dt_txt': '2023-08-12 03:00:00'}, {'dt': 1691820000, 'main': {'temp': 289.97, 'feels_like': 290.03, 'temp_min': 289.97, 'temp_max': 289.97, 'pressure': 1015, 'sea_level': 1015, 'grnd_level': 998, 'humidity': 89, 'temp_kf': 0}, 'weather': [{'id': 804, 'main': 'Clouds', 'description': 'overcast clouds', 'icon': '04d'}], 'clouds': {'all': 100}, 'wind': {'speed': 4.16, 'deg': 197, 'gust': 8.82}, 'visibility': 10000, 'pop': 0, 'sys': {'pod': 'd'}, 'dt_txt': '2023-08-12 06:00:00'}, {'dt': 1691830800, 'main': {'temp': 293.3, 'feels_like': 292.91, 'temp_min': 293.3, 'temp_max': 293.3, 'pressure': 1015, 'sea_level': 1015, 'grnd_level': 999, 'humidity': 59, 'temp_kf': 0}, 'weather': [{'id': 804, 'main': 'Clouds', 'description': 'overcast clouds', 'icon': '04d'}], 'clouds': {'all': 98}, 'wind': {'speed': 4.43, 'deg': 204, 'gust': 6.75}, 'visibility': 10000, 'pop': 0, 'sys': {'pod': 'd'}, 'dt_txt': '2023-08-12 09:00:00'}, {'dt': 1691841600, 'main': {'temp': 295.77, 'feels_like': 295.21, 'temp_min': 295.77, 'temp_max': 295.77, 'pressure': 1015, 'sea_level': 1015, 'grnd_level': 999, 'humidity': 43, 'temp_kf': 0}, 'weather': [{'id': 804, 'main': 'Clouds', 'description': 'overcast clouds', 'icon': '04d'}], 'clouds': {'all': 95}, 'wind': {'speed': 4.27, 'deg': 203, 'gust': 5.93}, 'visibility': 10000, 'pop': 0, 'sys': {'pod': 'd'}, 'dt_txt': '2023-08-12 12:00:00'}, {'dt': 1691852400, 'main': {'temp': 293.81, 'feels_like': 293.39, 'temp_min': 293.81, 'temp_max': 293.81, 'pressure': 1015, 'sea_level': 1015, 'grnd_level': 999, 'humidity': 56, 'temp_kf': 0}, 'weather': [{'id': 804, 'main': 'Clouds', 'description': 'overcast clouds', 'icon': '04d'}], 'clouds': {'all': 96}, 'wind': {'speed': 4.46, 'deg': 180, 'gust': 6.3}, 'visibility': 10000, 'pop': 0, 'sys': {'pod': 'd'}, 'dt_txt': '2023-08-12 15:00:00'}, {'dt': 1691863200, 'main': {'temp': 290.11, 'feels_like': 289.95, 'temp_min': 290.11, 'temp_max': 290.11, 'pressure': 1015, 'sea_level': 1015, 'grnd_level': 999, 'humidity': 80, 'temp_kf': 0}, 'weather': [{'id': 804, 'main': 'Clouds', 'description': 'overcast clouds', 'icon': '04d'}], 'clouds': {'all': 98}, 'wind': {'speed': 2.17, 'deg': 183, 'gust': 6.36}, 'visibility': 10000, 'pop': 0, 'sys': {'pod': 'd'}, 'dt_txt': '2023-08-12 18:00:00'}, {'dt': 1691874000, 'main': {'temp': 288.48, 'feels_like': 288.39, 'temp_min': 288.48, 'temp_max': 288.48, 'pressure': 1014, 'sea_level': 1014, 'grnd_level': 998, 'humidity': 89, 'temp_kf': 0}, 'weather': [{'id': 804, 'main': 'Clouds', 'description': 'overcast clouds', 'icon': '04n'}], 'clouds': {'all': 100}, 'wind': {'speed': 1.31, 'deg': 147, 'gust': 1.6}, 'visibility': 10000, 'pop': 0.03, 'sys': {'pod': 'n'}, 'dt_txt': '2023-08-12 21:00:00'}, {'dt': 1691884800, 'main': {'temp': 286.82, 'feels_like': 286.78, 'temp_min': 286.82, 'temp_max': 286.82, 'pressure': 1014, 'sea_level': 1014, 'grnd_level': 998, 'humidity': 97, 'temp_kf': 0}, 'weather': [{'id': 804, 'main': 'Clouds', 'description': 'overcast clouds', 'icon': '04n'}], 'clouds': {'all': 89}, 'wind': {'speed': 1.38, 'deg': 129, 'gust': 1.42}, 'visibility': 10000, 'pop': 0.17, 'sys': {'pod': 'n'}, 'dt_txt': '2023-08-13 00:00:00'}, {'dt': 1691895600, 'main': {'temp': 287.03, 'feels_like': 286.9, 'temp_min': 287.03, 'temp_max': 287.03, 'pressure': 1014, 'sea_level': 1014, 'grnd_level': 997, 'humidity': 93, 'temp_kf': 0}, 'weather': [{'id': 803, 'main': 'Clouds', 'description': 'broken clouds', 'icon': '04n'}], 'clouds': {'all': 63}, 'wind': {'speed': 0.87, 'deg': 144, 'gust': 1.15}, 'visibility': 10000, 'pop': 0, 'sys': {'pod': 'n'}, 'dt_txt': '2023-08-13 03:00:00'}, {'dt': 1691906400, 'main': {'temp': 288.76, 'feels_like': 288.41, 'temp_min': 288.76, 'temp_max': 288.76, 'pressure': 1014, 'sea_level': 1014, 'grnd_level': 997, 'humidity': 78, 'temp_kf': 0}, 'weather': [{'id': 803, 'main': 'Clouds', 'description': 'broken clouds', 'icon': '04d'}], 'clouds': {'all': 72}, 'wind': {'speed': 1.22, 'deg': 155, 'gust': 2.14}, 'visibility': 10000, 'pop': 0, 'sys': {'pod': 'd'}, 'dt_txt': '2023-08-13 06:00:00'}, {'dt': 1691917200, 'main': {'temp': 290.26, 'feels_like': 290.09, 'temp_min': 290.26, 'temp_max': 290.26, 'pressure': 1014, 'sea_level': 1014, 'grnd_level': 997, 'humidity': 79, 'temp_kf': 0}, 'weather': [{'id': 804, 'main': 'Clouds', 'description': 'overcast clouds', 'icon': '04d'}], 'clouds': {'all': 100}, 'wind': {'speed': 2.32, 'deg': 185, 'gust': 3.91}, 'visibility': 10000, 'pop': 0, 'sys': {'pod': 'd'}, 'dt_txt': '2023-08-13 09:00:00'}, {'dt': 1691928000, 'main': {'temp': 293.89, 'feels_like': 293.59, 'temp_min': 293.89, 'temp_max': 293.89, 'pressure': 1013, 'sea_level': 1013, 'grnd_level': 996, 'humidity': 60, 'temp_kf': 0}, 'weather': [{'id': 500, 'main': 'Rain', 'description': 'light rain', 'icon': '10d'}], 'clouds': {'all': 91}, 'wind': {'speed': 3.61, 'deg': 195, 'gust': 4.88}, 'visibility': 10000, 'pop': 0.29, 'rain': {'3h': 0.28}, 'sys': {'pod': 'd'}, 'dt_txt': '2023-08-13 12:00:00'}, {'dt': 1691938800, 'main': {'temp': 293.11, 'feels_like': 292.83, 'temp_min': 293.11, 'temp_max': 293.11, 'pressure': 1012, 'sea_level': 1012, 'grnd_level': 996, 'humidity': 64, 'temp_kf': 0}, 'weather': [{'id': 801, 'main': 'Clouds', 'description': 'few clouds', 'icon': '02d'}], 'clouds': {'all': 19}, 'wind': {'speed': 4.51, 'deg': 197, 'gust': 6.98}, 'visibility': 10000, 'pop': 0.32, 'sys': {'pod': 'd'}, 'dt_txt': '2023-08-13 15:00:00'}, {'dt': 1691949600, 'main': {'temp': 289.08, 'feels_like': 289.05, 'temp_min': 289.08, 'temp_max': 289.08, 'pressure': 1012, 'sea_level': 1012, 'grnd_level': 996, 'humidity': 89, 'temp_kf': 0}, 'weather': [{'id': 802, 'main': 'Clouds', 'description': 'scattered clouds', 'icon': '03d'}], 'clouds': {'all': 45}, 'wind': {'speed': 2.68, 'deg': 188, 'gust': 7.13}, 'visibility': 10000, 'pop': 0.25, 'sys': {'pod': 'd'}, 'dt_txt': '2023-08-13 18:00:00'}, {'dt': 1691960400, 'main': {'temp': 287.99, 'feels_like': 288.01, 'temp_min': 287.99, 'temp_max': 287.99, 'pressure': 1013, 'sea_level': 1013, 'grnd_level': 996, 'humidity': 95, 'temp_kf': 0}, 'weather': [{'id': 803, 'main': 'Clouds', 'description': 'broken clouds', 'icon': '04n'}], 'clouds': {'all': 78}, 'wind': {'speed': 2.51, 'deg': 182, 'gust': 7.68}, 'visibility': 10000, 'pop': 0, 'sys': {'pod': 'n'}, 'dt_txt': '2023-08-13 21:00:00'}, {'dt': 1691971200, 'main': {'temp': 287.39, 'feels_like': 287.43, 'temp_min': 287.39, 'temp_max': 287.39, 'pressure': 1012, 'sea_level': 1012, 'grnd_level': 996, 'humidity': 98, 'temp_kf': 0}, 'weather': [{'id': 803, 'main': 'Clouds', 'description': 'broken clouds', 'icon': '04n'}], 'clouds': {'all': 69}, 'wind': {'speed': 2.29, 'deg': 180, 'gust': 6.75}, 'visibility': 7761, 'pop': 0, 'sys': {'pod': 'n'}, 'dt_txt': '2023-08-14 00:00:00'}, {'dt': 1691982000, 'main': {'temp': 288.29, 'feels_like': 288.16, 'temp_min': 288.29, 'temp_max': 288.29, 'pressure': 1012, 'sea_level': 1012, 'grnd_level': 996, 'humidity': 88, 'temp_kf': 0}, 'weather': [{'id': 804, 'main': 'Clouds', 'description': 'overcast clouds', 'icon': '04n'}], 'clouds': {'all': 91}, 'wind': {'speed': 2.39, 'deg': 195, 'gust': 4.76}, 'visibility': 10000, 'pop': 0, 'sys': {'pod': 'n'}, 'dt_txt': '2023-08-14 03:00:00'}, {'dt': 1691992800, 'main': {'temp': 288.78, 'feels_like': 288.57, 'temp_min': 288.78, 'temp_max': 288.78, 'pressure': 1013, 'sea_level': 1013, 'grnd_level': 997, 'humidity': 83, 'temp_kf': 0}, 'weather': [{'id': 803, 'main': 'Clouds', 'description': 'broken clouds', 'icon': '04d'}], 'clouds': {'all': 81}, 'wind': {'speed': 2.67, 'deg': 196, 'gust': 5.25}, 'visibility': 10000, 'pop': 0, 'sys': {'pod': 'd'}, 'dt_txt': '2023-08-14 06:00:00'}, {'dt': 1692003600, 'main': {'temp': 291.99, 'feels_like': 291.52, 'temp_min': 291.99, 'temp_max': 291.99, 'pressure': 1013, 'sea_level': 1013, 'grnd_level': 997, 'humidity': 61, 'temp_kf': 0}, 'weather': [{'id': 802, 'main': 'Clouds', 'description': 'scattered clouds', 'icon': '03d'}], 'clouds': {'all': 39}, 'wind': {'speed': 3.19, 'deg': 198, 'gust': 4.25}, 'visibility': 10000, 'pop': 0, 'sys': {'pod': 'd'}, 'dt_txt': '2023-08-14 09:00:00'}], 'city': {'id': 3139081, 'name': 'Ski', 'coord': {'lat': 59.7195, 'lon': 10.8358}, 'country': 'NO', 'population': 12513, 'timezone': 7200, 'sunrise': 1691551026, 'sunset': 1691609246}}\""
      ]
     },
     "execution_count": 12,
     "metadata": {},
     "output_type": "execute_result"
    }
   ],
   "source": [
    "# Inspect JSON file\n",
    "forecast.__str__()"
   ]
  },
  {
   "attachments": {},
   "cell_type": "markdown",
   "metadata": {},
   "source": [
    "## Raw JSON\n",
    "A simple, but not very efficient way of storing JSON data is to treat it as a text and save it directly to the database.  \n",
    "More efficient, with regard to transfer, is to compress the JSON data to a blob first."
   ]
  },
  {
   "cell_type": "code",
   "execution_count": 13,
   "metadata": {},
   "outputs": [
    {
     "data": {
      "text/plain": [
       "<cassandra.cluster.ResultSet at 0x120266da0>"
      ]
     },
     "execution_count": 13,
     "metadata": {},
     "output_type": "execute_result"
    }
   ],
   "source": [
    "session.execute(\"DROP TABLE IF EXISTS my_first_keyspace.forecast_table;\")"
   ]
  },
  {
   "attachments": {},
   "cell_type": "markdown",
   "metadata": {},
   "source": [
    "### Create a new table which treats the whole JSON as a blob, using the city id and the first dt as keys"
   ]
  },
  {
   "cell_type": "code",
   "execution_count": 14,
   "metadata": {},
   "outputs": [
    {
     "data": {
      "text/plain": [
       "<cassandra.cluster.ResultSet at 0x1271914b0>"
      ]
     },
     "execution_count": 14,
     "metadata": {},
     "output_type": "execute_result"
    }
   ],
   "source": [
    "session.set_keyspace('my_first_keyspace')\n",
    "session.execute(\"CREATE TABLE IF NOT EXISTS forecast_table (city_id int, dt int, forecast blob, PRIMARY KEY(city_id, dt));\")"
   ]
  },
  {
   "attachments": {},
   "cell_type": "markdown",
   "metadata": {},
   "source": [
    "### Insert the forecast data into the table as text"
   ]
  },
  {
   "cell_type": "code",
   "execution_count": 15,
   "metadata": {},
   "outputs": [
    {
     "data": {
      "text/plain": [
       "<cassandra.cluster.ResultSet at 0x127094550>"
      ]
     },
     "execution_count": 15,
     "metadata": {},
     "output_type": "execute_result"
    }
   ],
   "source": [
    "session.execute(\"INSERT INTO forecast_table (city_id, dt, forecast) VALUES (%s, %s, textAsBlob(%s));\", (forecast['city']['id'], forecast['list'][0]['dt'], forecast.__str__()))"
   ]
  },
  {
   "cell_type": "code",
   "execution_count": 16,
   "metadata": {},
   "outputs": [
    {
     "name": "stdout",
     "output_type": "stream",
     "text": [
      "Row(city_id=3139081, dt=1691582400, forecast=b\"{'cod': '200', 'message': 0, 'cnt': 40, 'list': [{'dt': 1691582400, 'main': {'temp': 286.26, 'feels_like': 285.95, 'temp_min': 283.99, 'temp_max': 286.26, 'pressure': 996, 'sea_level': 996, 'grnd_level': 982, 'humidity': 89, 'temp_kf': 2.27}, 'weather': [{'id': 500, 'main': 'Rain', 'description': 'light rain', 'icon': '10d'}], 'clouds': {'all': 100}, 'wind': {'speed': 4.25, 'deg': 39, 'gust': 9.51}, 'visibility': 10000, 'pop': 0.91, 'rain': {'3h': 0.77}, 'sys': {'pod': 'd'}, 'dt_txt': '2023-08-09 12:00:00'}, {'dt': 1691593200, 'main': {'temp': 285.4, 'feels_like': 285.06, 'temp_min': 284.4, 'temp_max': 285.4, 'pressure': 999, 'sea_level': 999, 'grnd_level': 984, 'humidity': 91, 'temp_kf': 1}, 'weather': [{'id': 804, 'main': 'Clouds', 'description': 'overcast clouds', 'icon': '04d'}], 'clouds': {'all': 100}, 'wind': {'speed': 3.07, 'deg': 4, 'gust': 6.57}, 'visibility': 10000, 'pop': 0.51, 'sys': {'pod': 'd'}, 'dt_txt': '2023-08-09 15:00:00'}, {'dt': 1691604000, 'main': {'temp': 284.13, 'feels_like': 283.71, 'temp_min': 284.13, 'temp_max': 284.13, 'pressure': 1003, 'sea_level': 1003, 'grnd_level': 986, 'humidity': 93, 'temp_kf': 0}, 'weather': [{'id': 804, 'main': 'Clouds', 'description': 'overcast clouds', 'icon': '04d'}], 'clouds': {'all': 100}, 'wind': {'speed': 2.61, 'deg': 341, 'gust': 6.95}, 'visibility': 10000, 'pop': 0.31, 'sys': {'pod': 'd'}, 'dt_txt': '2023-08-09 18:00:00'}, {'dt': 1691614800, 'main': {'temp': 283.69, 'feels_like': 283.25, 'temp_min': 283.69, 'temp_max': 283.69, 'pressure': 1005, 'sea_level': 1005, 'grnd_level': 988, 'humidity': 94, 'temp_kf': 0}, 'weather': [{'id': 804, 'main': 'Clouds', 'description': 'overcast clouds', 'icon': '04n'}], 'clouds': {'all': 100}, 'wind': {'speed': 1.61, 'deg': 309, 'gust': 4.45}, 'visibility': 10000, 'pop': 0, 'sys': {'pod': 'n'}, 'dt_txt': '2023-08-09 21:00:00'}, {'dt': 1691625600, 'main': {'temp': 283.44, 'feels_like': 282.98, 'temp_min': 283.44, 'temp_max': 283.44, 'pressure': 1006, 'sea_level': 1006, 'grnd_level': 990, 'humidity': 94, 'temp_kf': 0}, 'weather': [{'id': 804, 'main': 'Clouds', 'description': 'overcast clouds', 'icon': '04n'}], 'clouds': {'all': 100}, 'wind': {'speed': 1.7, 'deg': 302, 'gust': 5.68}, 'visibility': 10000, 'pop': 0, 'sys': {'pod': 'n'}, 'dt_txt': '2023-08-10 00:00:00'}, {'dt': 1691636400, 'main': {'temp': 283.3, 'feels_like': 282.8, 'temp_min': 283.3, 'temp_max': 283.3, 'pressure': 1007, 'sea_level': 1007, 'grnd_level': 990, 'humidity': 93, 'temp_kf': 0}, 'weather': [{'id': 804, 'main': 'Clouds', 'description': 'overcast clouds', 'icon': '04n'}], 'clouds': {'all': 100}, 'wind': {'speed': 1.54, 'deg': 300, 'gust': 4.59}, 'visibility': 10000, 'pop': 0, 'sys': {'pod': 'n'}, 'dt_txt': '2023-08-10 03:00:00'}, {'dt': 1691647200, 'main': {'temp': 285.09, 'feels_like': 284.51, 'temp_min': 285.09, 'temp_max': 285.09, 'pressure': 1009, 'sea_level': 1009, 'grnd_level': 992, 'humidity': 83, 'temp_kf': 0}, 'weather': [{'id': 804, 'main': 'Clouds', 'description': 'overcast clouds', 'icon': '04d'}], 'clouds': {'all': 98}, 'wind': {'speed': 1.93, 'deg': 286, 'gust': 5.56}, 'visibility': 10000, 'pop': 0, 'sys': {'pod': 'd'}, 'dt_txt': '2023-08-10 06:00:00'}, {'dt': 1691658000, 'main': {'temp': 289.51, 'feels_like': 288.69, 'temp_min': 289.51, 'temp_max': 289.51, 'pressure': 1010, 'sea_level': 1010, 'grnd_level': 993, 'humidity': 57, 'temp_kf': 0}, 'weather': [{'id': 803, 'main': 'Clouds', 'description': 'broken clouds', 'icon': '04d'}], 'clouds': {'all': 81}, 'wind': {'speed': 3.11, 'deg': 326, 'gust': 5.25}, 'visibility': 10000, 'pop': 0, 'sys': {'pod': 'd'}, 'dt_txt': '2023-08-10 09:00:00'}, {'dt': 1691668800, 'main': {'temp': 292.45, 'feels_like': 291.58, 'temp_min': 292.45, 'temp_max': 292.45, 'pressure': 1010, 'sea_level': 1010, 'grnd_level': 994, 'humidity': 44, 'temp_kf': 0}, 'weather': [{'id': 802, 'main': 'Clouds', 'description': 'scattered clouds', 'icon': '03d'}], 'clouds': {'all': 49}, 'wind': {'speed': 2.91, 'deg': 316, 'gust': 3.83}, 'visibility': 10000, 'pop': 0, 'sys': {'pod': 'd'}, 'dt_txt': '2023-08-10 12:00:00'}, {'dt': 1691679600, 'main': {'temp': 290.52, 'feels_like': 289.85, 'temp_min': 290.52, 'temp_max': 290.52, 'pressure': 1011, 'sea_level': 1011, 'grnd_level': 995, 'humidity': 59, 'temp_kf': 0}, 'weather': [{'id': 803, 'main': 'Clouds', 'description': 'broken clouds', 'icon': '04d'}], 'clouds': {'all': 80}, 'wind': {'speed': 1.48, 'deg': 196, 'gust': 2.4}, 'visibility': 10000, 'pop': 0, 'sys': {'pod': 'd'}, 'dt_txt': '2023-08-10 15:00:00'}, {'dt': 1691690400, 'main': {'temp': 288.11, 'feels_like': 287.62, 'temp_min': 288.11, 'temp_max': 288.11, 'pressure': 1012, 'sea_level': 1012, 'grnd_level': 995, 'humidity': 75, 'temp_kf': 0}, 'weather': [{'id': 804, 'main': 'Clouds', 'description': 'overcast clouds', 'icon': '04d'}], 'clouds': {'all': 90}, 'wind': {'speed': 1.51, 'deg': 188, 'gust': 3.22}, 'visibility': 10000, 'pop': 0.07, 'sys': {'pod': 'd'}, 'dt_txt': '2023-08-10 18:00:00'}, {'dt': 1691701200, 'main': {'temp': 285.24, 'feels_like': 284.72, 'temp_min': 285.24, 'temp_max': 285.24, 'pressure': 1013, 'sea_level': 1013, 'grnd_level': 997, 'humidity': 85, 'temp_kf': 0}, 'weather': [{'id': 804, 'main': 'Clouds', 'description': 'overcast clouds', 'icon': '04n'}], 'clouds': {'all': 100}, 'wind': {'speed': 0.51, 'deg': 75, 'gust': 0.84}, 'visibility': 10000, 'pop': 0, 'sys': {'pod': 'n'}, 'dt_txt': '2023-08-10 21:00:00'}, {'dt': 1691712000, 'main': {'temp': 284.09, 'feels_like': 283.56, 'temp_min': 284.09, 'temp_max': 284.09, 'pressure': 1014, 'sea_level': 1014, 'grnd_level': 997, 'humidity': 89, 'temp_kf': 0}, 'weather': [{'id': 803, 'main': 'Clouds', 'description': 'broken clouds', 'icon': '04n'}], 'clouds': {'all': 75}, 'wind': {'speed': 1.35, 'deg': 28, 'gust': 1.31}, 'visibility': 10000, 'pop': 0, 'sys': {'pod': 'n'}, 'dt_txt': '2023-08-11 00:00:00'}, {'dt': 1691722800, 'main': {'temp': 283.48, 'feels_like': 282.97, 'temp_min': 283.48, 'temp_max': 283.48, 'pressure': 1015, 'sea_level': 1015, 'grnd_level': 998, 'humidity': 92, 'temp_kf': 0}, 'weather': [{'id': 802, 'main': 'Clouds', 'description': 'scattered clouds', 'icon': '03n'}], 'clouds': {'all': 44}, 'wind': {'speed': 1.36, 'deg': 14, 'gust': 1.42}, 'visibility': 10000, 'pop': 0, 'sys': {'pod': 'n'}, 'dt_txt': '2023-08-11 03:00:00'}, {'dt': 1691733600, 'main': {'temp': 286.96, 'feels_like': 286.41, 'temp_min': 286.96, 'temp_max': 286.96, 'pressure': 1016, 'sea_level': 1016, 'grnd_level': 999, 'humidity': 77, 'temp_kf': 0}, 'weather': [{'id': 803, 'main': 'Clouds', 'description': 'broken clouds', 'icon': '04d'}], 'clouds': {'all': 67}, 'wind': {'speed': 0.86, 'deg': 41, 'gust': 1.63}, 'visibility': 10000, 'pop': 0, 'sys': {'pod': 'd'}, 'dt_txt': '2023-08-11 06:00:00'}, {'dt': 1691744400, 'main': {'temp': 289.48, 'feels_like': 288.92, 'temp_min': 289.48, 'temp_max': 289.48, 'pressure': 1016, 'sea_level': 1016, 'grnd_level': 1000, 'humidity': 67, 'temp_kf': 0}, 'weather': [{'id': 804, 'main': 'Clouds', 'description': 'overcast clouds', 'icon': '04d'}], 'clouds': {'all': 88}, 'wind': {'speed': 1.19, 'deg': 154, 'gust': 2.17}, 'visibility': 10000, 'pop': 0, 'sys': {'pod': 'd'}, 'dt_txt': '2023-08-11 09:00:00'}, {'dt': 1691755200, 'main': {'temp': 292.31, 'feels_like': 291.74, 'temp_min': 292.31, 'temp_max': 292.31, 'pressure': 1016, 'sea_level': 1016, 'grnd_level': 1000, 'humidity': 56, 'temp_kf': 0}, 'weather': [{'id': 803, 'main': 'Clouds', 'description': 'broken clouds', 'icon': '04d'}], 'clouds': {'all': 80}, 'wind': {'speed': 3.32, 'deg': 210, 'gust': 4.47}, 'visibility': 10000, 'pop': 0, 'sys': {'pod': 'd'}, 'dt_txt': '2023-08-11 12:00:00'}, {'dt': 1691766000, 'main': {'temp': 292.49, 'feels_like': 291.86, 'temp_min': 292.49, 'temp_max': 292.49, 'pressure': 1016, 'sea_level': 1016, 'grnd_level': 1000, 'humidity': 53, 'temp_kf': 0}, 'weather': [{'id': 803, 'main': 'Clouds', 'description': 'broken clouds', 'icon': '04d'}], 'clouds': {'all': 59}, 'wind': {'speed': 4.12, 'deg': 192, 'gust': 5.2}, 'visibility': 10000, 'pop': 0.03, 'sys': {'pod': 'd'}, 'dt_txt': '2023-08-11 15:00:00'}, {'dt': 1691776800, 'main': {'temp': 289.37, 'feels_like': 289.03, 'temp_min': 289.37, 'temp_max': 289.37, 'pressure': 1016, 'sea_level': 1016, 'grnd_level': 1000, 'humidity': 76, 'temp_kf': 0}, 'weather': [{'id': 803, 'main': 'Clouds', 'description': 'broken clouds', 'icon': '04d'}], 'clouds': {'all': 60}, 'wind': {'speed': 3.88, 'deg': 184, 'gust': 8.38}, 'visibility': 10000, 'pop': 0, 'sys': {'pod': 'd'}, 'dt_txt': '2023-08-11 18:00:00'}, {'dt': 1691787600, 'main': {'temp': 288.22, 'feels_like': 288, 'temp_min': 288.22, 'temp_max': 288.22, 'pressure': 1016, 'sea_level': 1016, 'grnd_level': 999, 'humidity': 85, 'temp_kf': 0}, 'weather': [{'id': 804, 'main': 'Clouds', 'description': 'overcast clouds', 'icon': '04n'}], 'clouds': {'all': 96}, 'wind': {'speed': 3.76, 'deg': 178, 'gust': 10.44}, 'visibility': 10000, 'pop': 0, 'sys': {'pod': 'n'}, 'dt_txt': '2023-08-11 21:00:00'}, {'dt': 1691798400, 'main': {'temp': 288.63, 'feels_like': 288.66, 'temp_min': 288.63, 'temp_max': 288.63, 'pressure': 1016, 'sea_level': 1016, 'grnd_level': 999, 'humidity': 93, 'temp_kf': 0}, 'weather': [{'id': 804, 'main': 'Clouds', 'description': 'overcast clouds', 'icon': '04n'}], 'clouds': {'all': 98}, 'wind': {'speed': 3.56, 'deg': 181, 'gust': 10.16}, 'visibility': 10000, 'pop': 0, 'sys': {'pod': 'n'}, 'dt_txt': '2023-08-12 00:00:00'}, {'dt': 1691809200, 'main': {'temp': 288.95, 'feels_like': 289.12, 'temp_min': 288.95, 'temp_max': 288.95, 'pressure': 1015, 'sea_level': 1015, 'grnd_level': 998, 'humidity': 97, 'temp_kf': 0}, 'weather': [{'id': 804, 'main': 'Clouds', 'description': 'overcast clouds', 'icon': '04n'}], 'clouds': {'all': 100}, 'wind': {'speed': 3.07, 'deg': 186, 'gust': 8.63}, 'visibility': 10000, 'pop': 0, 'sys': {'pod': 'n'}, 'dt_txt': '2023-08-12 03:00:00'}, {'dt': 1691820000, 'main': {'temp': 289.97, 'feels_like': 290.03, 'temp_min': 289.97, 'temp_max': 289.97, 'pressure': 1015, 'sea_level': 1015, 'grnd_level': 998, 'humidity': 89, 'temp_kf': 0}, 'weather': [{'id': 804, 'main': 'Clouds', 'description': 'overcast clouds', 'icon': '04d'}], 'clouds': {'all': 100}, 'wind': {'speed': 4.16, 'deg': 197, 'gust': 8.82}, 'visibility': 10000, 'pop': 0, 'sys': {'pod': 'd'}, 'dt_txt': '2023-08-12 06:00:00'}, {'dt': 1691830800, 'main': {'temp': 293.3, 'feels_like': 292.91, 'temp_min': 293.3, 'temp_max': 293.3, 'pressure': 1015, 'sea_level': 1015, 'grnd_level': 999, 'humidity': 59, 'temp_kf': 0}, 'weather': [{'id': 804, 'main': 'Clouds', 'description': 'overcast clouds', 'icon': '04d'}], 'clouds': {'all': 98}, 'wind': {'speed': 4.43, 'deg': 204, 'gust': 6.75}, 'visibility': 10000, 'pop': 0, 'sys': {'pod': 'd'}, 'dt_txt': '2023-08-12 09:00:00'}, {'dt': 1691841600, 'main': {'temp': 295.77, 'feels_like': 295.21, 'temp_min': 295.77, 'temp_max': 295.77, 'pressure': 1015, 'sea_level': 1015, 'grnd_level': 999, 'humidity': 43, 'temp_kf': 0}, 'weather': [{'id': 804, 'main': 'Clouds', 'description': 'overcast clouds', 'icon': '04d'}], 'clouds': {'all': 95}, 'wind': {'speed': 4.27, 'deg': 203, 'gust': 5.93}, 'visibility': 10000, 'pop': 0, 'sys': {'pod': 'd'}, 'dt_txt': '2023-08-12 12:00:00'}, {'dt': 1691852400, 'main': {'temp': 293.81, 'feels_like': 293.39, 'temp_min': 293.81, 'temp_max': 293.81, 'pressure': 1015, 'sea_level': 1015, 'grnd_level': 999, 'humidity': 56, 'temp_kf': 0}, 'weather': [{'id': 804, 'main': 'Clouds', 'description': 'overcast clouds', 'icon': '04d'}], 'clouds': {'all': 96}, 'wind': {'speed': 4.46, 'deg': 180, 'gust': 6.3}, 'visibility': 10000, 'pop': 0, 'sys': {'pod': 'd'}, 'dt_txt': '2023-08-12 15:00:00'}, {'dt': 1691863200, 'main': {'temp': 290.11, 'feels_like': 289.95, 'temp_min': 290.11, 'temp_max': 290.11, 'pressure': 1015, 'sea_level': 1015, 'grnd_level': 999, 'humidity': 80, 'temp_kf': 0}, 'weather': [{'id': 804, 'main': 'Clouds', 'description': 'overcast clouds', 'icon': '04d'}], 'clouds': {'all': 98}, 'wind': {'speed': 2.17, 'deg': 183, 'gust': 6.36}, 'visibility': 10000, 'pop': 0, 'sys': {'pod': 'd'}, 'dt_txt': '2023-08-12 18:00:00'}, {'dt': 1691874000, 'main': {'temp': 288.48, 'feels_like': 288.39, 'temp_min': 288.48, 'temp_max': 288.48, 'pressure': 1014, 'sea_level': 1014, 'grnd_level': 998, 'humidity': 89, 'temp_kf': 0}, 'weather': [{'id': 804, 'main': 'Clouds', 'description': 'overcast clouds', 'icon': '04n'}], 'clouds': {'all': 100}, 'wind': {'speed': 1.31, 'deg': 147, 'gust': 1.6}, 'visibility': 10000, 'pop': 0.03, 'sys': {'pod': 'n'}, 'dt_txt': '2023-08-12 21:00:00'}, {'dt': 1691884800, 'main': {'temp': 286.82, 'feels_like': 286.78, 'temp_min': 286.82, 'temp_max': 286.82, 'pressure': 1014, 'sea_level': 1014, 'grnd_level': 998, 'humidity': 97, 'temp_kf': 0}, 'weather': [{'id': 804, 'main': 'Clouds', 'description': 'overcast clouds', 'icon': '04n'}], 'clouds': {'all': 89}, 'wind': {'speed': 1.38, 'deg': 129, 'gust': 1.42}, 'visibility': 10000, 'pop': 0.17, 'sys': {'pod': 'n'}, 'dt_txt': '2023-08-13 00:00:00'}, {'dt': 1691895600, 'main': {'temp': 287.03, 'feels_like': 286.9, 'temp_min': 287.03, 'temp_max': 287.03, 'pressure': 1014, 'sea_level': 1014, 'grnd_level': 997, 'humidity': 93, 'temp_kf': 0}, 'weather': [{'id': 803, 'main': 'Clouds', 'description': 'broken clouds', 'icon': '04n'}], 'clouds': {'all': 63}, 'wind': {'speed': 0.87, 'deg': 144, 'gust': 1.15}, 'visibility': 10000, 'pop': 0, 'sys': {'pod': 'n'}, 'dt_txt': '2023-08-13 03:00:00'}, {'dt': 1691906400, 'main': {'temp': 288.76, 'feels_like': 288.41, 'temp_min': 288.76, 'temp_max': 288.76, 'pressure': 1014, 'sea_level': 1014, 'grnd_level': 997, 'humidity': 78, 'temp_kf': 0}, 'weather': [{'id': 803, 'main': 'Clouds', 'description': 'broken clouds', 'icon': '04d'}], 'clouds': {'all': 72}, 'wind': {'speed': 1.22, 'deg': 155, 'gust': 2.14}, 'visibility': 10000, 'pop': 0, 'sys': {'pod': 'd'}, 'dt_txt': '2023-08-13 06:00:00'}, {'dt': 1691917200, 'main': {'temp': 290.26, 'feels_like': 290.09, 'temp_min': 290.26, 'temp_max': 290.26, 'pressure': 1014, 'sea_level': 1014, 'grnd_level': 997, 'humidity': 79, 'temp_kf': 0}, 'weather': [{'id': 804, 'main': 'Clouds', 'description': 'overcast clouds', 'icon': '04d'}], 'clouds': {'all': 100}, 'wind': {'speed': 2.32, 'deg': 185, 'gust': 3.91}, 'visibility': 10000, 'pop': 0, 'sys': {'pod': 'd'}, 'dt_txt': '2023-08-13 09:00:00'}, {'dt': 1691928000, 'main': {'temp': 293.89, 'feels_like': 293.59, 'temp_min': 293.89, 'temp_max': 293.89, 'pressure': 1013, 'sea_level': 1013, 'grnd_level': 996, 'humidity': 60, 'temp_kf': 0}, 'weather': [{'id': 500, 'main': 'Rain', 'description': 'light rain', 'icon': '10d'}], 'clouds': {'all': 91}, 'wind': {'speed': 3.61, 'deg': 195, 'gust': 4.88}, 'visibility': 10000, 'pop': 0.29, 'rain': {'3h': 0.28}, 'sys': {'pod': 'd'}, 'dt_txt': '2023-08-13 12:00:00'}, {'dt': 1691938800, 'main': {'temp': 293.11, 'feels_like': 292.83, 'temp_min': 293.11, 'temp_max': 293.11, 'pressure': 1012, 'sea_level': 1012, 'grnd_level': 996, 'humidity': 64, 'temp_kf': 0}, 'weather': [{'id': 801, 'main': 'Clouds', 'description': 'few clouds', 'icon': '02d'}], 'clouds': {'all': 19}, 'wind': {'speed': 4.51, 'deg': 197, 'gust': 6.98}, 'visibility': 10000, 'pop': 0.32, 'sys': {'pod': 'd'}, 'dt_txt': '2023-08-13 15:00:00'}, {'dt': 1691949600, 'main': {'temp': 289.08, 'feels_like': 289.05, 'temp_min': 289.08, 'temp_max': 289.08, 'pressure': 1012, 'sea_level': 1012, 'grnd_level': 996, 'humidity': 89, 'temp_kf': 0}, 'weather': [{'id': 802, 'main': 'Clouds', 'description': 'scattered clouds', 'icon': '03d'}], 'clouds': {'all': 45}, 'wind': {'speed': 2.68, 'deg': 188, 'gust': 7.13}, 'visibility': 10000, 'pop': 0.25, 'sys': {'pod': 'd'}, 'dt_txt': '2023-08-13 18:00:00'}, {'dt': 1691960400, 'main': {'temp': 287.99, 'feels_like': 288.01, 'temp_min': 287.99, 'temp_max': 287.99, 'pressure': 1013, 'sea_level': 1013, 'grnd_level': 996, 'humidity': 95, 'temp_kf': 0}, 'weather': [{'id': 803, 'main': 'Clouds', 'description': 'broken clouds', 'icon': '04n'}], 'clouds': {'all': 78}, 'wind': {'speed': 2.51, 'deg': 182, 'gust': 7.68}, 'visibility': 10000, 'pop': 0, 'sys': {'pod': 'n'}, 'dt_txt': '2023-08-13 21:00:00'}, {'dt': 1691971200, 'main': {'temp': 287.39, 'feels_like': 287.43, 'temp_min': 287.39, 'temp_max': 287.39, 'pressure': 1012, 'sea_level': 1012, 'grnd_level': 996, 'humidity': 98, 'temp_kf': 0}, 'weather': [{'id': 803, 'main': 'Clouds', 'description': 'broken clouds', 'icon': '04n'}], 'clouds': {'all': 69}, 'wind': {'speed': 2.29, 'deg': 180, 'gust': 6.75}, 'visibility': 7761, 'pop': 0, 'sys': {'pod': 'n'}, 'dt_txt': '2023-08-14 00:00:00'}, {'dt': 1691982000, 'main': {'temp': 288.29, 'feels_like': 288.16, 'temp_min': 288.29, 'temp_max': 288.29, 'pressure': 1012, 'sea_level': 1012, 'grnd_level': 996, 'humidity': 88, 'temp_kf': 0}, 'weather': [{'id': 804, 'main': 'Clouds', 'description': 'overcast clouds', 'icon': '04n'}], 'clouds': {'all': 91}, 'wind': {'speed': 2.39, 'deg': 195, 'gust': 4.76}, 'visibility': 10000, 'pop': 0, 'sys': {'pod': 'n'}, 'dt_txt': '2023-08-14 03:00:00'}, {'dt': 1691992800, 'main': {'temp': 288.78, 'feels_like': 288.57, 'temp_min': 288.78, 'temp_max': 288.78, 'pressure': 1013, 'sea_level': 1013, 'grnd_level': 997, 'humidity': 83, 'temp_kf': 0}, 'weather': [{'id': 803, 'main': 'Clouds', 'description': 'broken clouds', 'icon': '04d'}], 'clouds': {'all': 81}, 'wind': {'speed': 2.67, 'deg': 196, 'gust': 5.25}, 'visibility': 10000, 'pop': 0, 'sys': {'pod': 'd'}, 'dt_txt': '2023-08-14 06:00:00'}, {'dt': 1692003600, 'main': {'temp': 291.99, 'feels_like': 291.52, 'temp_min': 291.99, 'temp_max': 291.99, 'pressure': 1013, 'sea_level': 1013, 'grnd_level': 997, 'humidity': 61, 'temp_kf': 0}, 'weather': [{'id': 802, 'main': 'Clouds', 'description': 'scattered clouds', 'icon': '03d'}], 'clouds': {'all': 39}, 'wind': {'speed': 3.19, 'deg': 198, 'gust': 4.25}, 'visibility': 10000, 'pop': 0, 'sys': {'pod': 'd'}, 'dt_txt': '2023-08-14 09:00:00'}], 'city': {'id': 3139081, 'name': 'Ski', 'coord': {'lat': 59.7195, 'lon': 10.8358}, 'country': 'NO', 'population': 12513, 'timezone': 7200, 'sunrise': 1691551026, 'sunset': 1691609246}}\")\n"
     ]
    }
   ],
   "source": [
    "# Query the data\n",
    "forecast_rows = session.execute(\"SELECT * FROM forecast_table;\")\n",
    "print(forecast_rows.one()) # <- only one row"
   ]
  }
 ],
 "metadata": {
  "kernelspec": {
   "display_name": "tf_M1",
   "language": "python",
   "name": "python3"
  },
  "language_info": {
   "codemirror_mode": {
    "name": "ipython",
    "version": 3
   },
   "file_extension": ".py",
   "mimetype": "text/x-python",
   "name": "python",
   "nbconvert_exporter": "python",
   "pygments_lexer": "ipython3",
   "version": "3.10.6"
  },
  "orig_nbformat": 4
 },
 "nbformat": 4,
 "nbformat_minor": 2
}
