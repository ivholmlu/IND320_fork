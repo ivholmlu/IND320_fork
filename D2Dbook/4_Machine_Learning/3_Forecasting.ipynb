{
 "cells": [
  {
   "cell_type": "markdown",
   "metadata": {
    "editable": true,
    "slideshow": {
     "slide_type": "slide"
    },
    "tags": []
   },
   "source": [
    "# Forecasting\n",
    "- Time series prediction, or forecasting, can be very similar to modeling and prediction with tabular data.\n",
    "    - A set of input variables, usually a single output variable.\n",
    "    - Ordinary machine learning methods can be applied.\n",
    "- The inclusion of time can be done by adding one or more delayed variables, possibly including the response.\n",
    "- Specific forecasting methods also exist, e.g., the (S)AR(I)MA(X) family of methods  \n",
    "  (Seasonal Auto-Regressive Integrated Moving Average with eXogenous factors).\n",
    "- Neural network models for forecasting include Recurrent Neural Networks, Long-Short Term Memory, Transformers, Retentive Networks, Facebook's [Prophet](https://pypi.org/project/fbprophet/), Amazon's [GluonTS/DeepAR](https://pypi.org/project/gluonts/), etc.\n",
    "    - Large Language Models, e.g., used in Chat GPT, Bard, etc., rely heavily on forecasting the next word(s) in a sequence."
   ]
  },
  {
   "cell_type": "markdown",
   "metadata": {
    "editable": true,
    "slideshow": {
     "slide_type": "slide"
    },
    "tags": []
   },
   "source": [
    "## Validation\n",
    "- As soon as _time_ is part of a model, extra care needs to be taken in validation.\n",
    "- Cross-validation\\*, training-validation-test splits are still relevant.\n",
    "- However, training, validation and test sets needs to follow time chronologically and cannot overlap.\n",
    "- Instead of traditional cross-validation, one can perform _backtesting_ with a sliding or expanding window:\n",
    "  \n",
    "<img src=\"../images/Backtesting_sliding.png\" width=\"350px\">  \n",
    "<img src=\"../images/Backtesting_expanding.png\" width=\"350px\">  \n",
    "  \n",
    "Note that the first samples will never be in the test set.  \n",
    "\n",
    "Figures from [Roy Yang's bloggpost on uber.com](https://www.uber.com/en-NO/blog/omphalos/)"
   ]
  },
  {
   "cell_type": "markdown",
   "metadata": {
    "editable": true,
    "slideshow": {
     "slide_type": "slide"
    },
    "tags": []
   },
   "source": [
    "## Shipping, oil, interst rates and exchange rates\n",
    "- These data are public data from the Norwegian Bank, SSB, Eurostat and U.S. Energy Information Administration for the period 2000-2014 (monthly).\n",
    "- The data are available at [ResearchGate](https://www.researchgate.net/publication/275647285_Related_Dataset) and were part of a [Master thesis](https://nmbu.brage.unit.no/nmbu-xmlui/handle/11250/283547) by Raju Rimal."
   ]
  },
  {
   "cell_type": "code",
   "execution_count": null,
   "metadata": {
    "editable": true,
    "slideshow": {
     "slide_type": "fragment"
    },
    "tags": []
   },
   "outputs": [],
   "source": [
    "# Read the FinalData sheet of the OilExchange.xlsx file using Pandas\n",
    "import pandas as pd\n",
    "OilExchange = pd.read_excel('../data/OilExchange.xlsx', sheet_name='FinalData') # You may get a warning here, because the file contains pasted grahics\n",
    "OilExchange.head()"
   ]
  },
  {
   "cell_type": "code",
   "execution_count": null,
   "metadata": {
    "editable": true,
    "slideshow": {
     "slide_type": "slide"
    },
    "tags": []
   },
   "outputs": [],
   "source": [
    "OilExchange.columns"
   ]
  },
  {
   "cell_type": "code",
   "execution_count": null,
   "metadata": {
    "editable": true,
    "slideshow": {
     "slide_type": "fragment"
    },
    "tags": []
   },
   "outputs": [],
   "source": [
    "# Read the FinalCodeBook sheet of the OilExchange.xlsx file using Pandas\n",
    "Explanations = pd.read_excel('../data/OilExchange.xlsx', sheet_name='FinalCodeBook')\n",
    "Explanations[['Variables','Label']]"
   ]
  },
  {
   "cell_type": "markdown",
   "metadata": {
    "editable": true,
    "slideshow": {
     "slide_type": "slide"
    },
    "tags": []
   },
   "source": [
    "### Modelling without time\n",
    "- For starters, let us ignore time and build a simple prediction model for the exchange rate.\n",
    "- We will use [scikit-learn's Pipeline](https://scikit-learn.org/stable/modules/generated/sklearn.pipeline.Pipeline.html) to combine standardisation (scaling) and linear regression and [cross_val_predict](https://scikit-learn.org/stable/modules/generated/sklearn.model_selection.cross_val_predict.html) to perform random K-fold cross-validation."
   ]
  },
  {
   "cell_type": "code",
   "execution_count": null,
   "metadata": {
    "editable": true,
    "slideshow": {
     "slide_type": "fragment"
    },
    "tags": []
   },
   "outputs": [],
   "source": [
    "# Import Pipeline, StandardScaler, and LinearRegression from their respective modules in sklearn\n",
    "from sklearn.pipeline import Pipeline\n",
    "from sklearn.preprocessing import StandardScaler\n",
    "from sklearn.linear_model import LinearRegression\n",
    "\n",
    "# Create a pipeline that scales the data and performs linear regression\n",
    "pipe = Pipeline([('scaler', StandardScaler()), ('reg', LinearRegression())])\n",
    "\n",
    "# Fit the pipeline with PerEURO as response and variables 3:-4 as predictors for the samples having True in the Testrain column\n",
    "OilExchange_train = OilExchange.loc[OilExchange.Testrain==True,:].copy()\n",
    "OilExchange_test = OilExchange.loc[OilExchange.Testrain==False,:].copy()\n",
    "pipe.fit(OilExchange_train.loc[:, OilExchange_train.columns[3:-4]], \\\n",
    "         OilExchange_train.loc[:, 'PerEURO'])"
   ]
  },
  {
   "cell_type": "code",
   "execution_count": null,
   "metadata": {
    "editable": true,
    "slideshow": {
     "slide_type": "slide"
    },
    "tags": []
   },
   "outputs": [],
   "source": [
    "# Predict the corresponding data for Testrain = False\n",
    "PerEURO_pred = pipe.predict(OilExchange_test.loc[:, OilExchange_train.columns[3:-4]])"
   ]
  },
  {
   "cell_type": "code",
   "execution_count": null,
   "metadata": {
    "editable": true,
    "slideshow": {
     "slide_type": "fragment"
    },
    "tags": []
   },
   "outputs": [],
   "source": [
    "# Plot the predicted values against the actual values\n",
    "import matplotlib.pyplot as plt\n",
    "plt.scatter(OilExchange_test.loc[:, 'PerEURO'], PerEURO_pred)\n",
    "plt.xlabel('Actual PerEURO')\n",
    "plt.ylabel('Predicted PerEURO')\n",
    "plt.title('Test data predictions')\n",
    "plt.show()"
   ]
  },
  {
   "cell_type": "code",
   "execution_count": null,
   "metadata": {
    "editable": true,
    "slideshow": {
     "slide_type": "slide"
    },
    "tags": []
   },
   "outputs": [],
   "source": [
    "# Perform k-fold cross-validation with k=10\n",
    "from sklearn.model_selection import cross_val_predict # NOTE: Not for time series!\n",
    "PerEURO_cv = cross_val_predict(pipe, OilExchange_train.loc[:, OilExchange_train.columns[3:-4]], \\\n",
    "                               OilExchange_train.loc[:, 'PerEURO'], cv=10)\n",
    "\n",
    "# Compute R^2 for PerEURO_cv\n",
    "from sklearn.metrics import r2_score\n",
    "r2_cv = r2_score(OilExchange_train.loc[:, 'PerEURO'], PerEURO_cv)\n",
    "print(\"Cross-validated R^2: {:.3f}\".format(r2_cv))"
   ]
  },
  {
   "cell_type": "markdown",
   "metadata": {
    "editable": true,
    "slideshow": {
     "slide_type": "slide"
    },
    "tags": []
   },
   "source": [
    "### Backtesting\n",
    "- scikit-learn has a [TimeSeriesSplit](https://scikit-learn.org/stable/modules/generated/sklearn.model_selection.TimeSeriesSplit.html) which creates segments for backtesting.\n",
    "    - Expanding window is default.\n",
    "    - Sliding window can be applied by setting the right combination of parameters.\n",
    "- We will use [scikit-learn's cross_validate](https://scikit-learn.org/stable/modules/generated/sklearn.model_selection.cross_validate.html) to perform the cross-validation based on the backtesting segments (cross_val_predict assumes that all observations will be test data at some point).\n"
   ]
  },
  {
   "cell_type": "code",
   "execution_count": null,
   "metadata": {
    "editable": true,
    "slideshow": {
     "slide_type": "slide"
    },
    "tags": []
   },
   "outputs": [],
   "source": [
    "# Backtesting using scikit-learn\n",
    "import numpy as np\n",
    "from sklearn.model_selection import TimeSeriesSplit\n",
    "\n",
    "# Some data\n",
    "X = np.array([[1, 2], [3, 4], [1, 2], [3, 4], [1, 2], [3, 4]])\n",
    "y = np.array([1, 2, 3, 4, 5, 6])\n",
    "\n",
    "# Create time series cross-validation object with expanding window\n",
    "tscv_expand = TimeSeriesSplit()\n",
    "print(tscv_expand)\n",
    "for i, (train_index, test_index) in enumerate(tscv_expand.split(X)):\n",
    "    print(f\"Fold {i}:\")\n",
    "    print(f\"  Train: index={train_index}\")\n",
    "    print(f\"  Test:  index={test_index}\")"
   ]
  },
  {
   "cell_type": "code",
   "execution_count": null,
   "metadata": {
    "editable": true,
    "slideshow": {
     "slide_type": "slide"
    },
    "tags": []
   },
   "outputs": [],
   "source": [
    "# Backtesting with sliding window\n",
    "tscv_slide = TimeSeriesSplit(max_train_size=3, n_splits=3)\n",
    "print(tscv_slide)\n",
    "for i, (train_index, test_index) in enumerate(tscv_slide.split(X)):\n",
    "    print(f\"Fold {i}:\")\n",
    "    print(f\"  Train: index={train_index}\")\n",
    "    print(f\"  Test:  index={test_index}\")"
   ]
  },
  {
   "cell_type": "code",
   "execution_count": null,
   "metadata": {
    "editable": true,
    "slideshow": {
     "slide_type": "slide"
    },
    "tags": []
   },
   "outputs": [],
   "source": [
    "# Backtesting with expanding window in the OilExchange data\n",
    "tscv_expand = TimeSeriesSplit(n_splits=10)\n",
    "\n",
    "# The segments\n",
    "max_train = []\n",
    "for i, (train_index, test_index) in enumerate(tscv_expand.split(OilExchange_train.loc[:, 'PerEURO'])):\n",
    "    print(f\"Fold {i}:\")\n",
    "    print(f\"  Train: index={train_index}\")\n",
    "    max_train.append(max(train_index))\n",
    "    print(f\"  Test:  index={test_index}\")"
   ]
  },
  {
   "cell_type": "code",
   "execution_count": null,
   "metadata": {
    "editable": true,
    "slideshow": {
     "slide_type": "slide"
    },
    "tags": []
   },
   "outputs": [],
   "source": [
    "# Backtesting using expanding window with data\n",
    "from sklearn.model_selection import cross_validate\n",
    "scores = cross_validate(pipe, OilExchange_train.loc[:, OilExchange_train.columns[3:-4]], \\\n",
    "                                 OilExchange_train.loc[:, 'PerEURO'], cv=tscv_expand, \\\n",
    "                                    scoring='r2', return_train_score=True)\n",
    "scores"
   ]
  },
  {
   "cell_type": "code",
   "execution_count": null,
   "metadata": {
    "editable": true,
    "slideshow": {
     "slide_type": "slide"
    },
    "tags": []
   },
   "outputs": [],
   "source": [
    "# Plot the backtesting results for train and test data, and under it ad the original data (PerEURO) as a subplot\n",
    "plt.subplot(2,1,1)\n",
    "plt.plot(scores['train_score'], label='Train')\n",
    "plt.plot(scores['test_score'], label='Test')\n",
    "plt.xlabel('Fold')\n",
    "plt.ylabel('R^2')\n",
    "plt.title('Backtesting results')\n",
    "plt.axhline(0, color='gray', linestyle='--')\n",
    "plt.ylim(-1.6,1.1)\n",
    "plt.legend()\n",
    "plt.subplot(2,1,2)\n",
    "plt.plot(OilExchange_train.loc[:, 'PerEURO'])\n",
    "for i in range(10):\n",
    "    plt.axvline(x=max_train[i], color='gray', linestyle='--')\n",
    "plt.xlabel('Time')\n",
    "plt.ylabel('PerEURO')\n",
    "plt.show()"
   ]
  },
  {
   "cell_type": "markdown",
   "metadata": {},
   "source": [
    "__Question:__ Does the behaviour make sense with regard to what is included in and predict from the model?"
   ]
  },
  {
   "cell_type": "code",
   "execution_count": null,
   "metadata": {
    "editable": true,
    "slideshow": {
     "slide_type": "slide"
    },
    "tags": []
   },
   "outputs": [],
   "source": [
    "# Backtesting with sliding window in the OilExchange data\n",
    "tscv_slide = TimeSeriesSplit(max_train_size=45, n_splits=10)\n",
    "\n",
    "# The segments\n",
    "max_train = []\n",
    "for i, (train_index, test_index) in enumerate(tscv_slide.split(OilExchange_train.loc[:, 'PerEURO'])):\n",
    "    print(f\"Fold {i}:\")\n",
    "    print(f\"  Train: index={train_index}\")\n",
    "    max_train.append(max(train_index))\n",
    "    print(f\"  Test:  index={test_index}\")"
   ]
  },
  {
   "cell_type": "code",
   "execution_count": null,
   "metadata": {
    "editable": true,
    "slideshow": {
     "slide_type": "slide"
    },
    "tags": []
   },
   "outputs": [],
   "source": [
    "# Backtesting using sliding window with data\n",
    "from sklearn.model_selection import cross_validate\n",
    "scores = cross_validate(pipe, OilExchange_train.loc[:, OilExchange_train.columns[3:-4]], \\\n",
    "                                 OilExchange_train.loc[:, 'PerEURO'], cv=tscv_slide, \\\n",
    "                                    scoring='r2', return_train_score=True)\n",
    "scores"
   ]
  },
  {
   "cell_type": "code",
   "execution_count": null,
   "metadata": {
    "editable": true,
    "slideshow": {
     "slide_type": "slide"
    },
    "tags": []
   },
   "outputs": [],
   "source": [
    "# Plot the backtesting results for train and test data, and under it ad the original data (PerEURO) as a subplot\n",
    "plt.subplot(2,1,1)\n",
    "plt.plot(scores['train_score'], label='Train')\n",
    "plt.plot(scores['test_score'], label='Test')\n",
    "plt.xlabel('Fold')\n",
    "plt.ylabel('R^2')\n",
    "plt.title('Backtesting results')\n",
    "plt.axhline(0, color='gray', linestyle='--')\n",
    "plt.ylim(-1.6,1.1)\n",
    "plt.legend()\n",
    "plt.subplot(2,1,2)\n",
    "plt.plot(OilExchange_train.loc[:, 'PerEURO'])\n",
    "for i in range(10):\n",
    "    plt.axvline(x=max_train[i], color='gray', linestyle='--')\n",
    "plt.xlabel('Time')\n",
    "plt.ylabel('PerEURO')\n",
    "plt.show()"
   ]
  },
  {
   "cell_type": "markdown",
   "metadata": {},
   "source": [
    "__Question:__ Again; does the behaviour make sense with regard to what is included in and predict from the model?"
   ]
  },
  {
   "cell_type": "markdown",
   "metadata": {
    "editable": true,
    "slideshow": {
     "slide_type": "slide"
    },
    "tags": []
   },
   "source": [
    "## Exercise\n",
    "- Repeat the PerEuro predictions, but exchange LinearRegression with scikit-learns's _PLSRegression_.\n",
    "- Check if the number of components in the PLS model has an effect on the explained variance ($\\text{R}^2$), either manually or using a _GridSearchCV_."
   ]
  },
  {
   "cell_type": "markdown",
   "metadata": {
    "editable": true,
    "slideshow": {
     "slide_type": "slide"
    },
    "tags": []
   },
   "source": [
    "### Including the response variable in the predictors\n",
    "- As long as the training and test sets are not overlapping, we can include the response as a predictor.\n",
    "- Adding the response lagged can be done as a single variable or several variables (i.e., several different lags).\n",
    "- We will later look at ARIMA type models where time lag is the main mechanism for modelling."
   ]
  },
  {
   "cell_type": "code",
   "execution_count": null,
   "metadata": {
    "editable": true,
    "slideshow": {
     "slide_type": "fragment"
    },
    "tags": []
   },
   "outputs": [],
   "source": [
    "# Add the Per Euro column to the OilExchange data but shifted 1 timepoint backwards (and backfill last value)\n",
    "OilExchange_train['PerEURO_lag1'] = OilExchange_train.PerEURO.shift(1).bfill()\n",
    "OilExchange_train.head()"
   ]
  },
  {
   "cell_type": "code",
   "execution_count": null,
   "metadata": {
    "editable": true,
    "slideshow": {
     "slide_type": "slide"
    },
    "tags": []
   },
   "outputs": [],
   "source": [
    "# Backtesting using sliding window with data\n",
    "from sklearn.model_selection import cross_validate #       Negative indexing is scary!      -->\n",
    "scores = cross_validate(pipe, pd.concat([OilExchange_train.loc[:, OilExchange_train.columns[3:-5]], OilExchange_train[\"PerEURO_lag1\"]], axis=1), \\\n",
    "                                 OilExchange_train.loc[:, 'PerEURO'], cv=tscv_slide, \\\n",
    "                                    scoring='r2', return_train_score=True)\n",
    "scores"
   ]
  },
  {
   "cell_type": "code",
   "execution_count": null,
   "metadata": {
    "editable": true,
    "slideshow": {
     "slide_type": "slide"
    },
    "tags": []
   },
   "outputs": [],
   "source": [
    "# Plot the backtesting results for train and test data, and under it ad the original data (PerEURO) as a subplot\n",
    "plt.subplot(2,1,1)\n",
    "plt.plot(scores['train_score'], label='Train')\n",
    "plt.plot(scores['test_score'], label='Test')\n",
    "plt.xlabel('Fold')\n",
    "plt.ylabel('R^2')\n",
    "plt.title('Backtesting results')\n",
    "plt.axhline(0, color='gray', linestyle='--')\n",
    "plt.ylim(-1.6,1.1)\n",
    "plt.legend()\n",
    "plt.subplot(2,1,2)\n",
    "plt.plot(OilExchange_train.loc[:, 'PerEURO'])\n",
    "for i in range(10):\n",
    "    plt.axvline(x=max_train[i], color='gray', linestyle='--')\n",
    "plt.xlabel('Time')\n",
    "plt.ylabel('PerEURO')\n",
    "plt.show()"
   ]
  },
  {
   "cell_type": "markdown",
   "metadata": {
    "editable": true,
    "slideshow": {
     "slide_type": "slide"
    },
    "tags": []
   },
   "source": [
    "### Five lags"
   ]
  },
  {
   "cell_type": "code",
   "execution_count": null,
   "metadata": {
    "editable": true,
    "slideshow": {
     "slide_type": ""
    },
    "tags": []
   },
   "outputs": [],
   "source": [
    "OilExchange_train['PerEURO_lag2'] = OilExchange_train.PerEURO.shift(2).bfill()\n",
    "OilExchange_train['PerEURO_lag3'] = OilExchange_train.PerEURO.shift(3).bfill()\n",
    "OilExchange_train['PerEURO_lag4'] = OilExchange_train.PerEURO.shift(4).bfill()\n",
    "OilExchange_train['PerEURO_lag5'] = OilExchange_train.PerEURO.shift(5).bfill()\n",
    "OilExchange_train.head()"
   ]
  },
  {
   "cell_type": "code",
   "execution_count": null,
   "metadata": {
    "editable": true,
    "slideshow": {
     "slide_type": "slide"
    },
    "tags": []
   },
   "outputs": [],
   "source": [
    "# Backtesting using sliding window with data\n",
    "from sklearn.model_selection import cross_validate #       Negative indexing is scary!      -->\n",
    "scores = cross_validate(pipe, pd.concat([OilExchange_train.loc[:, OilExchange_train.columns[3:-9]], \n",
    "                                         OilExchange_train[[\"PerEURO_lag1\",\"PerEURO_lag2\",\"PerEURO_lag3\",\"PerEURO_lag4\",\"PerEURO_lag5\"]]], axis=1),\n",
    "                                         OilExchange_train.loc[:, 'PerEURO'], cv=tscv_slide,\n",
    "                                         scoring='r2', return_train_score=True)\n",
    "scores"
   ]
  },
  {
   "cell_type": "code",
   "execution_count": null,
   "metadata": {
    "editable": true,
    "slideshow": {
     "slide_type": "slide"
    },
    "tags": []
   },
   "outputs": [],
   "source": [
    "# Plot the backtesting results for train and test data, and under it ad the original data (PerEURO) as a subplot\n",
    "plt.subplot(2,1,1)\n",
    "plt.plot(scores['train_score'], label='Train')\n",
    "plt.plot(scores['test_score'], label='Test')\n",
    "plt.xlabel('Fold')\n",
    "plt.ylabel('R^2')\n",
    "plt.title('Backtesting results')\n",
    "plt.axhline(0, color='gray', linestyle='--')\n",
    "plt.ylim(-1.6,1.1)\n",
    "plt.legend()\n",
    "plt.subplot(2,1,2)\n",
    "plt.plot(OilExchange_train.loc[:, 'PerEURO'])\n",
    "for i in range(10):\n",
    "    plt.axvline(x=max_train[i], color='gray', linestyle='--')\n",
    "plt.xlabel('Time')\n",
    "plt.ylabel('PerEURO')\n",
    "plt.show()"
   ]
  },
  {
   "cell_type": "markdown",
   "metadata": {
    "editable": true,
    "slideshow": {
     "slide_type": "slide"
    },
    "tags": []
   },
   "source": [
    "## Resources\n",
    "- [Roy Yang's bloggpost on uber.com](https://www.uber.com/en-NO/blog/omphalos/)\n",
    "- Raju Rimal's dataset on [ResearchGate](https://www.researchgate.net/publication/275647285_Related_Dataset),\n",
    "- ... and his [Master thesis](https://nmbu.brage.unit.no/nmbu-xmlui/handle/11250/283547).\n",
    "- [scikit-learn's TimeSeriesSplit](https://scikit-learn.org/stable/modules/generated/sklearn.model_selection.TimeSeriesSplit.html)\n",
    "- [scikit-learn's Pipeline](https://scikit-learn.org/stable/modules/generated/sklearn.pipeline.Pipeline.html)\n",
    "- [scikit-learn's cross_val_predict](https://scikit-learn.org/stable/modules/generated/sklearn.model_selection.cross_val_predict.html)\n",
    "- [scikit-learn's cross_validate](https://scikit-learn.org/stable/modules/generated/sklearn.model_selection.cross_validate.html)\n"
   ]
  }
 ],
 "metadata": {
  "kernelspec": {
   "display_name": "Python 3 (ipykernel)",
   "language": "python",
   "name": "python3"
  },
  "language_info": {
   "codemirror_mode": {
    "name": "ipython",
    "version": 3
   },
   "file_extension": ".py",
   "mimetype": "text/x-python",
   "name": "python",
   "nbconvert_exporter": "python",
   "pygments_lexer": "ipython3",
   "version": "3.11.6"
  }
 },
 "nbformat": 4,
 "nbformat_minor": 4
}
