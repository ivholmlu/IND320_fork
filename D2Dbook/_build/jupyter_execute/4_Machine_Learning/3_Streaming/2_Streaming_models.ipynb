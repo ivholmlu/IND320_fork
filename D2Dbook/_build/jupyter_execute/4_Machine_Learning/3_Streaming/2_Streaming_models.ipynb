{
 "cells": [
  {
   "cell_type": "markdown",
   "metadata": {
    "slideshow": {
     "slide_type": "slide"
    },
    "tags": []
   },
   "source": [
    "# Streaming models\n",
    "## Static models\n",
    "- A pretrained model can be applied to a stream of data.\n",
    "- We will train a model using _scikit-learn_ and predict in a loop.\n",
    "- The try to convert it to a _river_ streaming model before applying it to a stream of data.\n",
    "- Finally, create a streaming model directly in _river_."
   ]
  },
  {
   "cell_type": "code",
   "execution_count": 1,
   "metadata": {
    "slideshow": {
     "slide_type": "slide"
    },
    "tags": []
   },
   "outputs": [
    {
     "name": "stdout",
     "output_type": "stream",
     "text": [
      "Accuracy: 0.953 (± 0.030)\n"
     ]
    }
   ],
   "source": [
    "from sklearn import datasets\n",
    "from sklearn.linear_model import SGDClassifier\n",
    "from sklearn.model_selection import train_test_split, KFold, cross_val_score\n",
    "from sklearn.pipeline import Pipeline\n",
    "from sklearn import preprocessing\n",
    "\n",
    "# Load the data\n",
    "dataset = datasets.load_breast_cancer()\n",
    "X, y = dataset.data, dataset.target\n",
    "\n",
    "# Split the data into train and test sets\n",
    "X_train, X_test, y_train, y_test = train_test_split(\n",
    "    X, y, test_size=0.33, random_state=42)\n",
    "\n",
    "# Define the steps of the model\n",
    "model = Pipeline([\n",
    "    ('scale', preprocessing.StandardScaler()),\n",
    "    ('log_reg', SGDClassifier(loss=\"log_loss\", penalty=\"l2\")) \n",
    "    # (Logistic Regression using Stochastic Gradient Descent to enable .partial_fit())\n",
    "])\n",
    "\n",
    "# Ten-fold cross-validation\n",
    "cv = KFold(n_splits=10, shuffle=True, random_state=42)\n",
    "\n",
    "# Compute the accuracy\n",
    "scores = cross_val_score(model, X_train, y_train, scoring='accuracy', cv=cv)\n",
    "\n",
    "# Display the average score and it's standard deviation\n",
    "print(f'Accuracy: {scores.mean():.3f} (± {scores.std():.3f})')"
   ]
  },
  {
   "cell_type": "code",
   "execution_count": 2,
   "metadata": {
    "slideshow": {
     "slide_type": "slide"
    },
    "tags": []
   },
   "outputs": [
    {
     "data": {
      "text/html": [
       "<style>#sk-container-id-1 {color: black;}#sk-container-id-1 pre{padding: 0;}#sk-container-id-1 div.sk-toggleable {background-color: white;}#sk-container-id-1 label.sk-toggleable__label {cursor: pointer;display: block;width: 100%;margin-bottom: 0;padding: 0.3em;box-sizing: border-box;text-align: center;}#sk-container-id-1 label.sk-toggleable__label-arrow:before {content: \"▸\";float: left;margin-right: 0.25em;color: #696969;}#sk-container-id-1 label.sk-toggleable__label-arrow:hover:before {color: black;}#sk-container-id-1 div.sk-estimator:hover label.sk-toggleable__label-arrow:before {color: black;}#sk-container-id-1 div.sk-toggleable__content {max-height: 0;max-width: 0;overflow: hidden;text-align: left;background-color: #f0f8ff;}#sk-container-id-1 div.sk-toggleable__content pre {margin: 0.2em;color: black;border-radius: 0.25em;background-color: #f0f8ff;}#sk-container-id-1 input.sk-toggleable__control:checked~div.sk-toggleable__content {max-height: 200px;max-width: 100%;overflow: auto;}#sk-container-id-1 input.sk-toggleable__control:checked~label.sk-toggleable__label-arrow:before {content: \"▾\";}#sk-container-id-1 div.sk-estimator input.sk-toggleable__control:checked~label.sk-toggleable__label {background-color: #d4ebff;}#sk-container-id-1 div.sk-label input.sk-toggleable__control:checked~label.sk-toggleable__label {background-color: #d4ebff;}#sk-container-id-1 input.sk-hidden--visually {border: 0;clip: rect(1px 1px 1px 1px);clip: rect(1px, 1px, 1px, 1px);height: 1px;margin: -1px;overflow: hidden;padding: 0;position: absolute;width: 1px;}#sk-container-id-1 div.sk-estimator {font-family: monospace;background-color: #f0f8ff;border: 1px dotted black;border-radius: 0.25em;box-sizing: border-box;margin-bottom: 0.5em;}#sk-container-id-1 div.sk-estimator:hover {background-color: #d4ebff;}#sk-container-id-1 div.sk-parallel-item::after {content: \"\";width: 100%;border-bottom: 1px solid gray;flex-grow: 1;}#sk-container-id-1 div.sk-label:hover label.sk-toggleable__label {background-color: #d4ebff;}#sk-container-id-1 div.sk-serial::before {content: \"\";position: absolute;border-left: 1px solid gray;box-sizing: border-box;top: 0;bottom: 0;left: 50%;z-index: 0;}#sk-container-id-1 div.sk-serial {display: flex;flex-direction: column;align-items: center;background-color: white;padding-right: 0.2em;padding-left: 0.2em;position: relative;}#sk-container-id-1 div.sk-item {position: relative;z-index: 1;}#sk-container-id-1 div.sk-parallel {display: flex;align-items: stretch;justify-content: center;background-color: white;position: relative;}#sk-container-id-1 div.sk-item::before, #sk-container-id-1 div.sk-parallel-item::before {content: \"\";position: absolute;border-left: 1px solid gray;box-sizing: border-box;top: 0;bottom: 0;left: 50%;z-index: -1;}#sk-container-id-1 div.sk-parallel-item {display: flex;flex-direction: column;z-index: 1;position: relative;background-color: white;}#sk-container-id-1 div.sk-parallel-item:first-child::after {align-self: flex-end;width: 50%;}#sk-container-id-1 div.sk-parallel-item:last-child::after {align-self: flex-start;width: 50%;}#sk-container-id-1 div.sk-parallel-item:only-child::after {width: 0;}#sk-container-id-1 div.sk-dashed-wrapped {border: 1px dashed gray;margin: 0 0.4em 0.5em 0.4em;box-sizing: border-box;padding-bottom: 0.4em;background-color: white;}#sk-container-id-1 div.sk-label label {font-family: monospace;font-weight: bold;display: inline-block;line-height: 1.2em;}#sk-container-id-1 div.sk-label-container {text-align: center;}#sk-container-id-1 div.sk-container {/* jupyter's `normalize.less` sets `[hidden] { display: none; }` but bootstrap.min.css set `[hidden] { display: none !important; }` so we also need the `!important` here to be able to override the default hidden behavior on the sphinx rendered scikit-learn.org. See: https://github.com/scikit-learn/scikit-learn/issues/21755 */display: inline-block !important;position: relative;}#sk-container-id-1 div.sk-text-repr-fallback {display: none;}</style><div id=\"sk-container-id-1\" class=\"sk-top-container\"><div class=\"sk-text-repr-fallback\"><pre>Pipeline(steps=[(&#x27;scale&#x27;, StandardScaler()),\n",
       "                (&#x27;log_reg&#x27;, SGDClassifier(loss=&#x27;log_loss&#x27;))])</pre><b>In a Jupyter environment, please rerun this cell to show the HTML representation or trust the notebook. <br />On GitHub, the HTML representation is unable to render, please try loading this page with nbviewer.org.</b></div><div class=\"sk-container\" hidden><div class=\"sk-item sk-dashed-wrapped\"><div class=\"sk-label-container\"><div class=\"sk-label sk-toggleable\"><input class=\"sk-toggleable__control sk-hidden--visually\" id=\"sk-estimator-id-1\" type=\"checkbox\" ><label for=\"sk-estimator-id-1\" class=\"sk-toggleable__label sk-toggleable__label-arrow\">Pipeline</label><div class=\"sk-toggleable__content\"><pre>Pipeline(steps=[(&#x27;scale&#x27;, StandardScaler()),\n",
       "                (&#x27;log_reg&#x27;, SGDClassifier(loss=&#x27;log_loss&#x27;))])</pre></div></div></div><div class=\"sk-serial\"><div class=\"sk-item\"><div class=\"sk-estimator sk-toggleable\"><input class=\"sk-toggleable__control sk-hidden--visually\" id=\"sk-estimator-id-2\" type=\"checkbox\" ><label for=\"sk-estimator-id-2\" class=\"sk-toggleable__label sk-toggleable__label-arrow\">StandardScaler</label><div class=\"sk-toggleable__content\"><pre>StandardScaler()</pre></div></div></div><div class=\"sk-item\"><div class=\"sk-estimator sk-toggleable\"><input class=\"sk-toggleable__control sk-hidden--visually\" id=\"sk-estimator-id-3\" type=\"checkbox\" ><label for=\"sk-estimator-id-3\" class=\"sk-toggleable__label sk-toggleable__label-arrow\">SGDClassifier</label><div class=\"sk-toggleable__content\"><pre>SGDClassifier(loss=&#x27;log_loss&#x27;)</pre></div></div></div></div></div></div></div>"
      ],
      "text/plain": [
       "Pipeline(steps=[('scale', StandardScaler()),\n",
       "                ('log_reg', SGDClassifier(loss='log_loss'))])"
      ]
     },
     "execution_count": 2,
     "metadata": {},
     "output_type": "execute_result"
    }
   ],
   "source": [
    "# Fit the model with all training data\n",
    "model.fit(X_train, y_train)"
   ]
  },
  {
   "cell_type": "code",
   "execution_count": 3,
   "metadata": {
    "slideshow": {
     "slide_type": "fragment"
    },
    "tags": []
   },
   "outputs": [
    {
     "name": "stdout",
     "output_type": "stream",
     "text": [
      "Accuracy: 97.34%\n"
     ]
    }
   ],
   "source": [
    "# Loop over the test data (i.e., stream) and compute the accuracy\n",
    "acc = 0\n",
    "for x, y in zip(X_test, y_test):\n",
    "    acc += model.score(x.reshape(1, -1), y.reshape(1, -1))\n",
    "print(f'Accuracy: {acc / len(X_test) * 100:.2f}%')"
   ]
  },
  {
   "cell_type": "markdown",
   "metadata": {},
   "source": [
    "### Converting to _river_"
   ]
  },
  {
   "cell_type": "code",
   "execution_count": 4,
   "metadata": {
    "slideshow": {
     "slide_type": "slide"
    },
    "tags": []
   },
   "outputs": [],
   "source": [
    "# Extract the mean and standard deviation of each feature\n",
    "mean = model.named_steps['scale'].mean_\n",
    "std = model.named_steps['scale'].scale_\n",
    "\n",
    "# Create a river StandardScaler and insert the mean and variance\n",
    "from river.preprocessing import StandardScaler\n",
    "ss = StandardScaler()\n",
    "ss.vars = dict(zip(dataset.feature_names, std ** 2))\n",
    "ss.means = dict(zip(dataset.feature_names, mean))"
   ]
  },
  {
   "cell_type": "code",
   "execution_count": 5,
   "metadata": {
    "slideshow": {
     "slide_type": "slide"
    },
    "tags": []
   },
   "outputs": [],
   "source": [
    "# Wrap the Logistic Regression model\n",
    "import numpy as np\n",
    "from river.compat import convert_sklearn_to_river\n",
    "streaming_model = convert_sklearn_to_river(model.named_steps['log_reg'], classes=np.unique(y_train))"
   ]
  },
  {
   "cell_type": "code",
   "execution_count": 6,
   "metadata": {
    "slideshow": {
     "slide_type": "fragment"
    },
    "tags": []
   },
   "outputs": [
    {
     "name": "stdout",
     "output_type": "stream",
     "text": [
      "Accuracy: 97.34%\n"
     ]
    }
   ],
   "source": [
    "# Predict the test set one sample at a time\n",
    "from river import metrics\n",
    "from river import stream\n",
    "metric = metrics.Accuracy()\n",
    "for x, y in stream.iter_array(X_test, y_test, feature_names=dataset.feature_names):\n",
    "    x_scaled = ss.transform_one(x)\n",
    "    y_pred = streaming_model.predict_one(x_scaled)\n",
    "    metric = metric.update(y_pred, y)\n",
    "print(metric)"
   ]
  },
  {
   "cell_type": "markdown",
   "metadata": {
    "slideshow": {
     "slide_type": "slide"
    },
    "tags": []
   },
   "source": [
    "### Direct usage of _river_\n",
    "- The defaults in scikit-learn's SGDClassifier and river's LogisticRegression are different.\n",
    "- Pipelines can be made with a parenthesis and a pipe symbol."
   ]
  },
  {
   "cell_type": "code",
   "execution_count": 7,
   "metadata": {
    "slideshow": {
     "slide_type": "fragment"
    },
    "tags": []
   },
   "outputs": [],
   "source": [
    "# Create a pipeline using the StandardScaler and the Logistic Regression model from river\n",
    "from river import linear_model\n",
    "\n",
    "streaming_model = (StandardScaler() | linear_model.LogisticRegression())"
   ]
  },
  {
   "cell_type": "code",
   "execution_count": 8,
   "metadata": {
    "slideshow": {
     "slide_type": "slide"
    },
    "tags": []
   },
   "outputs": [],
   "source": [
    "# Train the streaming_model with the training data\n",
    "#dataset_train = dataset\n",
    "#dataset_train.data = X_train.copy()\n",
    "#dataset_train.target = y_train.copy()\n",
    "\n",
    "# Online learning\n",
    "for x, y in stream.iter_array(X_train, y_train, feature_names=dataset.feature_names):\n",
    "    streaming_model.learn_one(x,y)"
   ]
  },
  {
   "cell_type": "code",
   "execution_count": 9,
   "metadata": {
    "slideshow": {
     "slide_type": "slide"
    },
    "tags": []
   },
   "outputs": [
    {
     "name": "stdout",
     "output_type": "stream",
     "text": [
      "Accuracy: 97.34%\n"
     ]
    }
   ],
   "source": [
    "# Predict the test set one sample at a time\n",
    "metric = metrics.Accuracy()\n",
    "static_pred = []\n",
    "for x, y in stream.iter_array(X_test, y_test, feature_names=dataset.feature_names):\n",
    "    y_pred = streaming_model.predict_one(x)\n",
    "    static_pred.append(y_pred)\n",
    "    metric = metric.update(y_pred, y)\n",
    "print(metric)"
   ]
  },
  {
   "cell_type": "markdown",
   "metadata": {
    "slideshow": {
     "slide_type": "fragment"
    },
    "tags": []
   },
   "source": [
    "```{note}\n",
    "The training regimes are different, so we cannot expect river and scikit-learn to give exactly the same models.\n",
    "```"
   ]
  },
  {
   "cell_type": "markdown",
   "metadata": {
    "slideshow": {
     "slide_type": "slide"
    },
    "tags": []
   },
   "source": [
    "## Dynamic models\n",
    "- For comparison, we can continue learning during prediction of the test set (given that labels come together with the streaming data)."
   ]
  },
  {
   "cell_type": "code",
   "execution_count": 10,
   "metadata": {
    "slideshow": {
     "slide_type": "fragment"
    },
    "tags": []
   },
   "outputs": [
    {
     "name": "stdout",
     "output_type": "stream",
     "text": [
      "Accuracy: 96.81%\n"
     ]
    }
   ],
   "source": [
    "# Learn and predict the test set one sample at a time\n",
    "metric = metrics.Accuracy()\n",
    "dynamic_pred = []\n",
    "for x, y in stream.iter_array(X_test, y_test, feature_names=dataset.feature_names):\n",
    "    y_pred = streaming_model.predict_one(x)\n",
    "    streaming_model.learn_one(x, y)\n",
    "    dynamic_pred.append(y_pred)\n",
    "    metric = metric.update(y_pred, y)\n",
    "print(metric)"
   ]
  },
  {
   "cell_type": "markdown",
   "metadata": {
    "slideshow": {
     "slide_type": "slide"
    },
    "tags": []
   },
   "source": [
    "__Inspect predictions one by one__"
   ]
  },
  {
   "cell_type": "code",
   "execution_count": 11,
   "metadata": {
    "tags": []
   },
   "outputs": [
    {
     "data": {
      "image/png": "[encoded data removed]",
      "text/plain": [
       "<Figure size 1000x300 with 2 Axes>"
      ]
     },
     "metadata": {},
     "output_type": "display_data"
    }
   ],
   "source": [
    "# Plot y_test together with static and dynamic predictions in two plots above each other\n",
    "import matplotlib.pyplot as plt\n",
    "plt.figure(figsize=(10, 3))\n",
    "plt.subplot(2, 1, 1)\n",
    "plt.plot(y_test, label='y_test')\n",
    "plt.plot(static_pred, label='static_pred')\n",
    "plt.legend(loc='upper left')\n",
    "plt.subplot(2, 1, 2)\n",
    "plt.plot(y_test, label='y_test')\n",
    "plt.plot(dynamic_pred, label='dynamic_pred')\n",
    "plt.legend(loc='upper left')\n",
    "plt.show()"
   ]
  },
  {
   "cell_type": "markdown",
   "metadata": {},
   "source": [
    "__Comment:__ In this case, one classification changed to the worse with the dynamic model, the rest stayed the same."
   ]
  },
  {
   "cell_type": "markdown",
   "metadata": {
    "slideshow": {
     "slide_type": "slide"
    },
    "tags": []
   },
   "source": [
    "## River vs scikit-learn\n",
    "- First of all, these are only examples of machine learning frameworks.\n",
    "    - There are several other established and polished packages to use in their places, e.g., Quix, (scikit-multiflow + creme = River), PyTorch, TensorFlow, theano, PyCaret, OpenCV, etc.\n",
    "- River is built from the ground up with streaming data in mind.\n",
    "    - Pre-processors, regressors and classifiers are all incremental.\n",
    "    - A host of convenience functions for online/batch-wise learning are available.\n",
    "- scikit-learn is built for tabular data.\n",
    "    - _.partial\\_fit()_ is available for some pre-processors, regressors and classifiers.\n",
    "    - Stream handling can be manually coded or helped by River and friends."
   ]
  },
  {
   "cell_type": "markdown",
   "metadata": {
    "slideshow": {
     "slide_type": "slide"
    },
    "tags": []
   },
   "source": [
    "## Live reading of Twitch chat, revisited\n",
    "- Requires a free account on [Twitch](https://twitch.tv) and obtaining an [oauth autentication token](https://twitchapps.com/tmi/).\n",
    "- We will use River's [TwitchChatStream](https://riverml.xyz/0.18.0/api/stream/TwitchChatStream/) to handle the live streamed data."
   ]
  },
  {
   "cell_type": "code",
   "execution_count": 12,
   "metadata": {
    "slideshow": {
     "slide_type": "fragment"
    },
    "tags": []
   },
   "outputs": [
    {
     "name": "stdout",
     "output_type": "stream",
     "text": [
      "True\n"
     ]
    }
   ],
   "source": [
    "# Check if user is logged in (\"==\" active chat)\n",
    "import requests\n",
    "user = \"zackrawrr\" # Change this to the user you want to check, e.g., epicdan22, zackrawrr, summit1g, mizkif, cohhcarnage, etc.\n",
    "response = requests.get(\"https://decapi.me/twitch/uptime/\"+user).text\n",
    "is_online = response != user+\" is offline\"\n",
    "print(is_online)"
   ]
  },
  {
   "cell_type": "code",
   "execution_count": 13,
   "metadata": {
    "slideshow": {
     "slide_type": "slide"
    },
    "tags": []
   },
   "outputs": [],
   "source": [
    "# Connect to the Twitch chat using River\n",
    "from river import stream\n",
    "\n",
    "oauth = open('../../../No_sync/twitch_oauth','r').read()\n",
    "twitch_chat = stream.TwitchChatStream(\n",
    "    nickname=\"khliland\", # Exchange with your Twitch username\n",
    "    token=oauth,\n",
    "    channels=[user]\n",
    ")"
   ]
  },
  {
   "cell_type": "code",
   "execution_count": 14,
   "metadata": {
    "slideshow": {
     "slide_type": "fragment"
    },
    "tags": []
   },
   "outputs": [
    {
     "name": "stdout",
     "output_type": "stream",
     "text": [
      "{'dt': datetime.datetime(2023, 11, 22, 20, 14, 16, 712192), 'channel': 'zackrawrr', 'username': 'brutalisaxeworth', 'msg': 'Edwin VanBezos'}\n",
      "{'dt': datetime.datetime(2023, 11, 22, 20, 14, 16, 904927), 'channel': 'zackrawrr', 'username': 'thegamertv420', 'msg': '@NomadjaV ?????'}\n",
      "Puh, that's enough!\n"
     ]
    }
   ],
   "source": [
    "# If the user is online, print the first messages\n",
    "if is_online:\n",
    "    messages = 2\n",
    "    for item in twitch_chat:\n",
    "        print(item)\n",
    "        if messages > 1:\n",
    "            messages -= 1\n",
    "        else:\n",
    "            print(\"Puh, that's enough!\")\n",
    "            break"
   ]
  },
  {
   "cell_type": "code",
   "execution_count": 15,
   "metadata": {
    "slideshow": {
     "slide_type": "slide"
    },
    "tags": []
   },
   "outputs": [
    {
     "name": "stdout",
     "output_type": "stream",
     "text": [
      "Puh, that's enough!\n"
     ]
    },
    {
     "data": {
      "image/png": "[encoded data removed]",
      "text/plain": [
       "<Figure size 700x200 with 1 Axes>"
      ]
     },
     "metadata": {},
     "output_type": "display_data"
    }
   ],
   "source": [
    "# Create a river stream that counts the number of characters in the 'msg' part of the 'item' dictionary and plots it\n",
    "import matplotlib.pyplot as plt\n",
    "from river.stats import Mean\n",
    "from IPython import display\n",
    "import time\n",
    "messages = 20\n",
    "i = 0\n",
    "message_length = [np.nan] * messages\n",
    "mean_length = [np.nan] * messages\n",
    "mean = Mean()\n",
    "if is_online:\n",
    "    figure, ax = plt.subplots(figsize=(7,2))\n",
    "    plt.ion()\n",
    "    for item in twitch_chat:\n",
    "        if i < messages:\n",
    "            message_length[i] = len(item['msg'])\n",
    "            mean = mean.update(message_length[i]) # river stats\n",
    "            mean_length[i] = mean.get()\n",
    "            plt.clf()\n",
    "            plt.plot(list(range(messages)), message_length, label='Message length')\n",
    "            plt.plot(list(range(messages)), mean_length, label='Mean message length')\n",
    "            plt.xlim(0, messages-1)\n",
    "            plt.legend(loc='upper right')\n",
    "            display.display(plt.gcf())\n",
    "            display.clear_output(wait=True)\n",
    "            time.sleep(0.0001)\n",
    "            i += 1\n",
    "        else:\n",
    "            print(\"Puh, that's enough!\")\n",
    "            break\n",
    "plt.show()\n"
   ]
  },
  {
   "cell_type": "markdown",
   "metadata": {
    "slideshow": {
     "slide_type": "slide"
    },
    "tags": []
   },
   "source": [
    "## Synthetic streams\n",
    "- _river_ can generate synthetic streams of various types."
   ]
  },
  {
   "cell_type": "code",
   "execution_count": 16,
   "metadata": {
    "slideshow": {
     "slide_type": "fragment"
    },
    "tags": []
   },
   "outputs": [
    {
     "data": {
      "text/plain": [
       "Synthetic data generator\n",
       "\n",
       "    Name  Agrawal              \n",
       "    Task  Binary classification\n",
       " Samples  ∞                    \n",
       "Features  9                    \n",
       " Outputs  1                    \n",
       " Classes  2                    \n",
       "  Sparse  False                \n",
       "\n",
       "Configuration\n",
       "-------------\n",
       "classification_function  0    \n",
       "                   seed  42   \n",
       "        balance_classes  False\n",
       "           perturbation  0.0  "
      ]
     },
     "execution_count": 16,
     "metadata": {},
     "output_type": "execute_result"
    }
   ],
   "source": [
    "# Generate Agrawal stream with classification type 0\n",
    "from river.datasets.synth import Agrawal\n",
    "dataset = Agrawal(classification_function=0, seed=42)\n",
    "dataset"
   ]
  },
  {
   "cell_type": "code",
   "execution_count": 17,
   "metadata": {
    "slideshow": {
     "slide_type": "slide"
    },
    "tags": []
   },
   "outputs": [
    {
     "name": "stdout",
     "output_type": "stream",
     "text": [
      "[103125.48379952488, 0, 21, 2, 8, 3, 319768.96426257194, 4, 338349.74371145567] 1\n",
      "[135983.3438016299, 0, 25, 4, 14, 0, 423837.77555045625, 7, 116330.4466953698] 1\n",
      "[98262.43477649744, 0, 55, 1, 18, 6, 144088.12440813935, 19, 139095.35411533137] 0\n",
      "[133009.0417030814, 0, 68, 1, 14, 5, 233361.40250149256, 7, 478606.5361033906] 1\n",
      "[63757.29086464148, 16955.938253511093, 26, 2, 12, 4, 522851.309309752, 24, 229712.43983592128] 1\n"
     ]
    }
   ],
   "source": [
    "for x, y in dataset.take(5):\n",
    "    print(list(x.values()), y)"
   ]
  },
  {
   "cell_type": "markdown",
   "metadata": {
    "slideshow": {
     "slide_type": "slide"
    },
    "tags": []
   },
   "source": [
    "## Exercise\n",
    "- Here, you will be combining elements from various parts of the _river_ documentation.\n",
    "    - Dataset: Synthetic [Mv dataset](https://riverml.xyz/0.19.0/api/datasets/synth/Mv/), using 20,000 samples.\n",
    "        - Handle continuous (numbers) and categorical (string) variables in a pipeline (see [example](https://riverml.xyz/0.19.0/api/tree/iSOUPTreeRegressor/)).\n",
    "        - Continuous response with [$R^2$ metric](https://riverml.xyz/0.19.0/api/metrics/R2/).\n",
    "    - Model: [HoeffdingTreeRegressor*](https://riverml.xyz/0.19.0/api/tree/HoeffdingTreeRegressor/)\n",
    "        - Print performance [every 1000 samples](https://riverml.xyz/0.19.0/api/evaluate/iter-progressive-val-score/)\n",
    "  \n",
    " *HoeffdingTreeRegressor: This was originally called a Hoeffding Anytime Tree (HATT). It is an algorithm that is extremely efficient at updating decision trees with streaming data."
   ]
  },
  {
   "cell_type": "markdown",
   "metadata": {
    "slideshow": {
     "slide_type": "slide"
    },
    "tags": []
   },
   "source": [
    "## Streaming forecasts\n",
    "- _river_ includes the SNARIMAX model, where N stands for _non-linear_, i.e., the (S)easonal (N)on-linear (A)uto(R)egressive (I)ntegrated (M)oving-(A)verage with e(X)ogenous inputs model.\n",
    "- The basic parameters match SARIMAX from the _statsmodels_ package, but are named _p/d/q/sp/sd/sq/m_.\n",
    "- If no regressor is specified, a pipeline containing a _StandardScaler_ and _LinearRegression_ is used.\n",
    "- No statistics or summary tables are produced, so summaries must be manually created."
   ]
  },
  {
   "cell_type": "markdown",
   "metadata": {
    "slideshow": {
     "slide_type": "slide"
    },
    "tags": []
   },
   "source": [
    "### Airline passenger data\n",
    "- Monthly international passenger data from January 1949 through December 1960."
   ]
  },
  {
   "cell_type": "code",
   "execution_count": 18,
   "metadata": {
    "slideshow": {
     "slide_type": "fragment"
    },
    "tags": []
   },
   "outputs": [
    {
     "name": "stdout",
     "output_type": "stream",
     "text": [
      "{'month': datetime.datetime(1949, 1, 1, 0, 0)} 112\n",
      "{'month': datetime.datetime(1949, 2, 1, 0, 0)} 118\n",
      "{'month': datetime.datetime(1949, 3, 1, 0, 0)} 132\n",
      "{'month': datetime.datetime(1949, 4, 1, 0, 0)} 129\n",
      "{'month': datetime.datetime(1949, 5, 1, 0, 0)} 121\n",
      "{'month': datetime.datetime(1949, 6, 1, 0, 0)} 135\n",
      "{'month': datetime.datetime(1949, 7, 1, 0, 0)} 148\n"
     ]
    }
   ],
   "source": [
    "from river import datasets\n",
    "for t, (x, y) in enumerate(datasets.AirlinePassengers()):\n",
    "    print(x, y)\n",
    "    if t > 5:\n",
    "        break"
   ]
  },
  {
   "cell_type": "code",
   "execution_count": 19,
   "metadata": {
    "slideshow": {
     "slide_type": "slide"
    },
    "tags": []
   },
   "outputs": [
    {
     "name": "stdout",
     "output_type": "stream",
     "text": [
      "1960-01-01 445.159 417.000\n",
      "1960-02-01 476.332 391.000\n",
      "1960-03-01 467.187 419.000\n",
      "1960-04-01 452.182 461.000\n",
      "1960-05-01 437.547 472.000\n",
      "1960-06-01 438.079 535.000\n",
      "1960-07-01 444.407 622.000\n",
      "1960-08-01 452.582 606.000\n",
      "1960-09-01 455.664 508.000\n",
      "1960-10-01 455.428 461.000\n",
      "1960-11-01 453.501 390.000\n",
      "1960-12-01 452.975 432.000\n",
      "R2: -0.254237\n"
     ]
    }
   ],
   "source": [
    "import datetime as dt\n",
    "from river import time_series\n",
    "from river import metrics\n",
    "\n",
    "#period = 12\n",
    "model = time_series.SNARIMAX( p=3, d=1, q=3 )\n",
    "\n",
    "y_test = []\n",
    "for t, (x, y) in enumerate(datasets.AirlinePassengers()):\n",
    "    if t > 143-12: # Stop learning before the last 12 months\n",
    "        y_test.append(y)\n",
    "    else:\n",
    "        model = model.learn_one(y)\n",
    "\n",
    "horizon = 12 # Predict 12 months into the future\n",
    "future = [\n",
    "    {'month': dt.date(year=1960, month=m, day=1)}\n",
    "    for m in range(1, horizon + 1)\n",
    "]\n",
    "forecast = model.forecast(horizon=horizon)\n",
    "metric = metrics.R2()\n",
    "for x, y_pred, y_truth in zip(future, forecast, y_test):\n",
    "    print(x['month'], f'{y_pred:.3f}', f'{y_truth:.3f}')\n",
    "    metric.update(y_truth, y_pred).get()\n",
    "\n",
    "print(metric)"
   ]
  },
  {
   "cell_type": "markdown",
   "metadata": {
    "slideshow": {
     "slide_type": "slide"
    },
    "tags": []
   },
   "source": [
    "### SARIMA + feature engineering\n",
    "- In addition to the original time series, we may add some freshly calculated exogenous variables.\n",
    "- In _river_'s SNARIMAX example, a distance function resembling a Radial Basis Function is applied to the months\n",
    "    - This results in 12 new features measuring the distance to other months in the year.\n",
    "    - In addition they include ordinal dates, i.e., day number since 0001-01-01."
   ]
  },
  {
   "cell_type": "code",
   "execution_count": 20,
   "metadata": {
    "slideshow": {
     "slide_type": "slide"
    },
    "tags": []
   },
   "outputs": [
    {
     "data": {
      "text/plain": [
       "{'January': 1.0,\n",
       " 'February': 0.36787944117144233,\n",
       " 'March': 0.01831563888873418,\n",
       " 'April': 0.00012340980408667956,\n",
       " 'May': 1.1253517471925912e-07,\n",
       " 'June': 1.3887943864964021e-11,\n",
       " 'July': 2.3195228302435696e-16,\n",
       " 'August': 5.242885663363464e-22,\n",
       " 'September': 1.603810890548638e-28,\n",
       " 'October': 6.639677199580735e-36,\n",
       " 'November': 3.720075976020836e-44,\n",
       " 'December': 2.820770088460135e-53,\n",
       " 'ordinal_date': 715510}"
      ]
     },
     "execution_count": 20,
     "metadata": {},
     "output_type": "execute_result"
    }
   ],
   "source": [
    "import calendar\n",
    "import math\n",
    "from river import compose\n",
    "from river import linear_model\n",
    "from river import optim\n",
    "from river import preprocessing\n",
    "\n",
    "def get_month_distances(x):\n",
    "    return {\n",
    "        calendar.month_name[month]: math.exp(-(x['month'].month - month) ** 2)\n",
    "        for month in range(1, 13)\n",
    "    }\n",
    "\n",
    "def get_ordinal_date(x):\n",
    "    return {'ordinal_date': x['month'].toordinal()}\n",
    "\n",
    "extract_features = compose.TransformerUnion(\n",
    "    get_ordinal_date,\n",
    "    get_month_distances\n",
    ")\n",
    "extract_features.transform_one({'month': dt.date(year=1960, month=1, day=1)})\n"
   ]
  },
  {
   "cell_type": "code",
   "execution_count": 21,
   "metadata": {
    "slideshow": {
     "slide_type": "slide"
    },
    "tags": []
   },
   "outputs": [
    {
     "data": {
      "text/plain": [
       "{'January': 0.00012340980408667956,\n",
       " 'February': 0.01831563888873418,\n",
       " 'March': 0.36787944117144233,\n",
       " 'April': 1.0,\n",
       " 'May': 0.36787944117144233,\n",
       " 'June': 0.01831563888873418,\n",
       " 'July': 0.00012340980408667956,\n",
       " 'August': 1.1253517471925912e-07,\n",
       " 'September': 1.3887943864964021e-11,\n",
       " 'October': 2.3195228302435696e-16,\n",
       " 'November': 5.242885663363464e-22,\n",
       " 'December': 1.603810890548638e-28,\n",
       " 'ordinal_date': 715601}"
      ]
     },
     "execution_count": 21,
     "metadata": {},
     "output_type": "execute_result"
    }
   ],
   "source": [
    "extract_features.transform_one({'month': dt.date(year=1960, month=4, day=1)})"
   ]
  },
  {
   "cell_type": "code",
   "execution_count": 22,
   "metadata": {
    "slideshow": {
     "slide_type": "slide"
    },
    "tags": []
   },
   "outputs": [],
   "source": [
    "model = (\n",
    "    extract_features |\n",
    "    time_series.SNARIMAX(\n",
    "        p=1,\n",
    "        d=0,\n",
    "        q=0,\n",
    "        m=12, # Seasonal model with period 12\n",
    "        sp=3,\n",
    "        sq=6,\n",
    "        regressor=(\n",
    "            preprocessing.StandardScaler() |\n",
    "            linear_model.LinearRegression(\n",
    "                intercept_init=110, # Help getting a better start\n",
    "                optimizer=optim.SGD(0.01),\n",
    "                intercept_lr=0.3\n",
    "            )\n",
    "        )\n",
    "    )\n",
    ")"
   ]
  },
  {
   "cell_type": "code",
   "execution_count": 23,
   "metadata": {
    "slideshow": {
     "slide_type": "slide"
    },
    "tags": []
   },
   "outputs": [
    {
     "name": "stdout",
     "output_type": "stream",
     "text": [
      "1960-01-01 418.156 417.000\n",
      "1960-02-01 408.071 391.000\n",
      "1960-03-01 441.154 419.000\n",
      "1960-04-01 438.874 461.000\n",
      "1960-05-01 448.431 472.000\n",
      "1960-06-01 490.385 535.000\n",
      "1960-07-01 532.368 622.000\n",
      "1960-08-01 542.568 606.000\n",
      "1960-09-01 488.254 508.000\n",
      "1960-10-01 448.343 461.000\n",
      "1960-11-01 414.920 390.000\n",
      "1960-12-01 433.052 432.000\n",
      "R2: 0.743524\n"
     ]
    }
   ],
   "source": [
    "# Modelling and predicting the AirlinePassengers dataset\n",
    "y_test = []\n",
    "for t, (x, y) in enumerate(datasets.AirlinePassengers()):\n",
    "    if t > 143-12: # Stop learning before the last 12 months\n",
    "        y_test.append(y)\n",
    "    else:\n",
    "        model = model.learn_one(x,y) # Note!: Dates are used as features\n",
    "\n",
    "horizon = 12 # Predict 12 months into the future\n",
    "future = [\n",
    "    {'month': dt.date(year=1960, month=m, day=1)}\n",
    "    for m in range(1, horizon + 1)\n",
    "]\n",
    "forecast = model.forecast(horizon=horizon)\n",
    "metric = metrics.R2()\n",
    "for x, y_pred, y_truth in zip(future, forecast, y_test):\n",
    "    print(x['month'], f'{y_pred:.3f}', f'{y_truth:.3f}')\n",
    "    metric.update(y_truth, y_pred).get()\n",
    "\n",
    "print(metric)"
   ]
  },
  {
   "cell_type": "markdown",
   "metadata": {
    "slideshow": {
     "slide_type": "slide"
    },
    "tags": []
   },
   "source": [
    "```{seealso} Resources\n",
    ":class: tip\n",
    "- [scikit-learn's SGDClassifier](https://scikit-learn.org/stable/modules/generated/sklearn.linear_model.SGDClassifier.html)\n",
    "- [river's iter_array](https://riverml.xyz/dev/api/stream/iter-array/)\n",
    "- [river's LogisticRegression](https://riverml.xyz/dev/api/linear-model/LogisticRegression/)\n",
    "- [rivers's Mv dataset](https://riverml.xyz/0.19.0/api/datasets/synth/Mv/)\n",
    "- [river example of preprocessing in pipeline](https://riverml.xyz/0.19.0/api/tree/iSOUPTreeRegressor/)\n",
    "- [river's $R^2$ metric](https://riverml.xyz/0.19.0/api/metrics/R2/)\n",
    "- [river's HoeffdingTreeRegressor](https://riverml.xyz/0.19.0/api/tree/HoeffdingTreeRegressor/)\n",
    "- [river's iterative progressive validation score](https://riverml.xyz/0.19.0/api/evaluate/iter-progressive-val-score/)\n",
    "```"
   ]
  }
 ],
 "metadata": {
  "kernelspec": {
   "display_name": "Python 3 (ipykernel)",
   "language": "python",
   "name": "python3"
  },
  "language_info": {
   "codemirror_mode": {
    "name": "ipython",
    "version": 3
   },
   "file_extension": ".py",
   "mimetype": "text/x-python",
   "name": "python",
   "nbconvert_exporter": "python",
   "pygments_lexer": "ipython3",
   "version": "3.11.6"
  }
 },
 "nbformat": 4,
 "nbformat_minor": 4
}