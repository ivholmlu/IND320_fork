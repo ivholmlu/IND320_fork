{
 "cells": [
  {
   "cell_type": "markdown",
   "metadata": {},
   "source": [
    "# Streaming\n",
    "- When data become available one and one or in a chunk-wise fashion, streaming models can be beneficial.\n",
    "- A _static model_ may be applied if we have enough training data and expect no changes to the underlying distributions.\n",
    "- A _dynamic model_ may be applied if we want to update based on what the model receives of new data.\n",
    "    - Update model with some small weight on the new observation, i.e., a small memory loss leading to plasticity and capacity for learning (e.g., gradient descent methods).\n",
    "    - Passive aggressive learning, where small deviations are disregarded while the model is updated when larger changes are detected.\n",
    "    - If the models start from scratch, higher learning rates for the initial samples is more efficient.\n",
    "- Streaming is relevant both for predictive models (tabular data) and forecasting models (autoregressive)."
   ]
  }
 ],
 "metadata": {
  "language_info": {
   "codemirror_mode": {
    "name": "ipython",
    "version": 3
   },
   "file_extension": ".py",
   "mimetype": "text/x-python",
   "name": "python",
   "nbconvert_exporter": "python",
   "pygments_lexer": "ipython3",
   "version": "3.11.6"
  }
 },
 "nbformat": 4,
 "nbformat_minor": 2
}