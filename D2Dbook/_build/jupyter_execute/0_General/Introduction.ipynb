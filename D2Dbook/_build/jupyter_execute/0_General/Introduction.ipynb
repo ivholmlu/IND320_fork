{
 "cells": [
  {
   "cell_type": "markdown",
   "metadata": {},
   "source": [
    "# IND320 - Data to decision\n",
    "The contents of this [Jupyter Book](https://jupyterbook.org/en/stable/intro.html) is the basis for the course \"Data to decision\" codenamed [IND320](https://gammel.nmbu.no/course/IND320) given at the Norwegian University of Life Sciences for the first time in the autumn of 2023.\n",
    "  \n",
    "\n",
    "<img src=\"../images/D2D_large.png\" width=\"500px\">  \n",
    "  \n",
    "\n",
    "## Status\n",
    "This book is under construction and will be filled and updated during the autumn semester of 2023.  \n",
    "<img src=\"../images/Under_construction.png\" width=\"100px\">"
   ]
  },
  {
   "cell_type": "markdown",
   "metadata": {},
   "source": [
    "## Audience\n",
    "- The main audience will be those who follow DAT320 as regular students.\n",
    "- Oters are free to use the book.\n",
    "\n",
    "## Structure\n",
    "The structure and organisation of this book means it can be used in several ways:\n",
    "- A compiled static book with text, graphics and Python examples.\n",
    "- A collection of interactive Jupyter Notebooks.\n",
    "- A collection of presentations (through support for the [RISE extension](https://rise.readthedocs.io/en/stable/))."
   ]
  },
  {
   "cell_type": "markdown",
   "metadata": {},
   "source": [
    "## Technical basis\n",
    "### Keys and passwords\n",
    "Code in the book sometimes refer to the folder \"No_sync\" which is on the same folder level as D2D (the book). This folder is excluded from the GitHub sync due to containing API keys and passwords plus some exercise solutions. If you want to run examples referring to the folder, please create one on your computer and fill with appropriate keys and passwords for your own licenses."
   ]
  },
  {
   "cell_type": "markdown",
   "metadata": {},
   "source": [
    "### Software requirements\n",
    "- Basic functionality requires Python (originally built with version 3.10.6) and packages _matplotlib_, _numpy_, _json_, _datetime_.\n",
    "- For more advanced plotting: _plotly_\n",
    "- For databases:\n",
    "    - E.g., docker with Cassandra database having the tables expected.\n",
    "    - Python packages _cassandra-driver_, _cql_\n",
    "- For APIs:\n",
    "    - Python packages _requests_, _flask_\n",
    "- For machine learning:\n",
    "    - Python packages _pandas_, _scikit-learn_ (or quicker/more scalable. implementation)\n",
    "- Compiling the full book requires several programs and packages, but all Jupyter Notebooks can be run separately.\n",
    "    - Python packages: _jupyter-book_ and all above.\n",
    "    - A running Flask server with the _flask_API.py_ active.\n",
    "    - Docker with Cassandra running locally."
   ]
  },
  {
   "cell_type": "markdown",
   "metadata": {},
   "source": [
    "## Resources\n",
    "Some basics that are assumed known in advance or just useful:\n",
    "- [YouTube: VS Code in 100 seconds](https://youtu.be/KMxo3T_MTvY) (2m:34s)\n",
    "- [YouTube: 13 Advanced (but useful) Git Techniques and Shortcuts](https://youtu.be/ecK3EnyGD8o) (8m:07s)\n",
    "- [YouTube: Docker in 100 seconds](https://youtu.be/Gjnup-PuquQ) (2m:07s)"
   ]
  }
 ],
 "metadata": {
  "kernelspec": {
   "display_name": "tf_M1",
   "language": "python",
   "name": "python3"
  },
  "language_info": {
   "codemirror_mode": {
    "name": "ipython",
    "version": 3
   },
   "file_extension": ".py",
   "mimetype": "text/x-python",
   "name": "python",
   "nbconvert_exporter": "python",
   "pygments_lexer": "ipython3",
   "version": "3.10.6"
  }
 },
 "nbformat": 4,
 "nbformat_minor": 2
}