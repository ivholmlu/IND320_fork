{
 "cells": [
  {
   "attachments": {},
   "cell_type": "markdown",
   "metadata": {},
   "source": [
    "# Demonstration of API using OpenWeather.org\n",
    "This demonstration is heavily inspired by [NeuralNine's video](https://www.youtube.com/watch?v=9P5MY_2i7K8).  \n",
    "The VS Code extensino _JSON viewer_ is recommended for viewing downloaded JSON content."
   ]
  },
  {
   "cell_type": "code",
   "execution_count": 1,
   "metadata": {},
   "outputs": [],
   "source": [
    "# Imports\n",
    "import datetime as dt\n",
    "import requests\n",
    "import json"
   ]
  },
  {
   "attachments": {},
   "cell_type": "markdown",
   "metadata": {},
   "source": [
    "## Common definitions to use for all requests\n",
    "### Current weather"
   ]
  },
  {
   "cell_type": "code",
   "execution_count": 2,
   "metadata": {},
   "outputs": [],
   "source": [
    "BASE_URL = \"http://api.openweathermap.org/data/2.5/weather?\"\n",
    "API_KEY = open('../../../No_sync/api_key_OpenWeather','r').read()\n",
    "CITY = \"Ski\"\n",
    "\n",
    "url = BASE_URL + \"q=\" + CITY + \"&appid=\" + API_KEY"
   ]
  },
  {
   "attachments": {},
   "cell_type": "markdown",
   "metadata": {},
   "source": [
    "## Request current weather in chosen city"
   ]
  },
  {
   "cell_type": "code",
   "execution_count": 3,
   "metadata": {},
   "outputs": [],
   "source": [
    "response = requests.get(url).json()\n",
    "# print(response)"
   ]
  },
  {
   "cell_type": "code",
   "execution_count": 4,
   "metadata": {},
   "outputs": [],
   "source": [
    "# Write JSON to file for viewing\n",
    "with open('downloads/weather.json', 'w') as f:\n",
    "    json.dump(response, f, indent=4)"
   ]
  },
  {
   "attachments": {},
   "cell_type": "markdown",
   "metadata": {},
   "source": [
    "## Conversion functions"
   ]
  },
  {
   "cell_type": "code",
   "execution_count": 5,
   "metadata": {},
   "outputs": [],
   "source": [
    "# Kelvin to Celsius\n",
    "def kelvin_to_celsius(temp):\n",
    "    return temp - 273.15\n",
    "\n",
    "# Meters per second to knots\n",
    "def mps_to_knots(speed):\n",
    "    return speed * 1.943844"
   ]
  },
  {
   "attachments": {},
   "cell_type": "markdown",
   "metadata": {},
   "source": [
    "## Print some weather properties"
   ]
  },
  {
   "cell_type": "code",
   "execution_count": 6,
   "metadata": {},
   "outputs": [
    {
     "name": "stdout",
     "output_type": "stream",
     "text": [
      "The current temperature in Ski is 21.00°C\n"
     ]
    }
   ],
   "source": [
    "# Current temperature\n",
    "temp_kelvin = response['main']['temp']\n",
    "temp_celsius = kelvin_to_celsius(temp_kelvin)\n",
    "print(f\"The current temperature in {CITY} is {temp_celsius:.2f}°C\")"
   ]
  },
  {
   "cell_type": "code",
   "execution_count": 7,
   "metadata": {},
   "outputs": [
    {
     "name": "stdout",
     "output_type": "stream",
     "text": [
      "Sunrise today is at 05:38 and sunset is at 21:03\n"
     ]
    }
   ],
   "source": [
    "# Sunrise and sunset today in local time\n",
    "sunrise = dt.datetime.fromtimestamp(response['sys']['sunrise'])\n",
    "sunset = dt.datetime.fromtimestamp(response['sys']['sunset'])\n",
    "print(f\"Sunrise today is at {sunrise:%H:%M} and sunset is at {sunset:%H:%M}\")"
   ]
  },
  {
   "attachments": {},
   "cell_type": "markdown",
   "metadata": {},
   "source": [
    "## Common definitions to use for all requests\n",
    "### Forecasted weather"
   ]
  },
  {
   "cell_type": "code",
   "execution_count": 8,
   "metadata": {},
   "outputs": [],
   "source": [
    "BASE_URL = \"http://api.openweathermap.org/data/2.5/forecast?\"\n",
    "CITY = \"Ski\"\n",
    "\n",
    "urlF = BASE_URL + \"q=\" + CITY + \"&appid=\" + API_KEY"
   ]
  },
  {
   "attachments": {},
   "cell_type": "markdown",
   "metadata": {},
   "source": [
    "## Request current weather in chosen city"
   ]
  },
  {
   "cell_type": "code",
   "execution_count": 9,
   "metadata": {},
   "outputs": [
    {
     "name": "stdout",
     "output_type": "stream",
     "text": [
      "{'cod': '200', 'message': 0, 'cnt': 40, 'list': [{'dt': 1692370800, 'main': {'temp': 294.15, 'feels_like': 293.87, 'temp_min': 293.61, 'temp_max': 294.15, 'pressure': 1026, 'sea_level': 1026, 'grnd_level': 1010, 'humidity': 60, 'temp_kf': 0.54}, 'weather': [{'id': 803, 'main': 'Clouds', 'description': 'broken clouds', 'icon': '04d'}], 'clouds': {'all': 76}, 'wind': {'speed': 3.63, 'deg': 71, 'gust': 5.15}, 'visibility': 10000, 'pop': 0.03, 'sys': {'pod': 'd'}, 'dt_txt': '2023-08-18 15:00:00'}, {'dt': 1692381600, 'main': {'temp': 292.96, 'feels_like': 292.64, 'temp_min': 290.58, 'temp_max': 292.96, 'pressure': 1026, 'sea_level': 1026, 'grnd_level': 1009, 'humidity': 63, 'temp_kf': 2.38}, 'weather': [{'id': 803, 'main': 'Clouds', 'description': 'broken clouds', 'icon': '04d'}], 'clouds': {'all': 75}, 'wind': {'speed': 1.87, 'deg': 39, 'gust': 4.91}, 'visibility': 10000, 'pop': 0, 'sys': {'pod': 'd'}, 'dt_txt': '2023-08-18 18:00:00'}, {'dt': 1692392400, 'main': {'temp': 290.9, 'feels_like': 290.53, 'temp_min': 289.28, 'temp_max': 290.9, 'pressure': 1026, 'sea_level': 1026, 'grnd_level': 1009, 'humidity': 69, 'temp_kf': 1.62}, 'weather': [{'id': 804, 'main': 'Clouds', 'description': 'overcast clouds', 'icon': '04n'}], 'clouds': {'all': 90}, 'wind': {'speed': 2.19, 'deg': 27, 'gust': 7.73}, 'visibility': 10000, 'pop': 0, 'sys': {'pod': 'n'}, 'dt_txt': '2023-08-18 21:00:00'}, {'dt': 1692403200, 'main': {'temp': 288.48, 'feels_like': 288.29, 'temp_min': 288.48, 'temp_max': 288.48, 'pressure': 1026, 'sea_level': 1026, 'grnd_level': 1009, 'humidity': 85, 'temp_kf': 0}, 'weather': [{'id': 804, 'main': 'Clouds', 'description': 'overcast clouds', 'icon': '04n'}], 'clouds': {'all': 99}, 'wind': {'speed': 2.48, 'deg': 60, 'gust': 8.22}, 'visibility': 10000, 'pop': 0.04, 'sys': {'pod': 'n'}, 'dt_txt': '2023-08-19 00:00:00'}, {'dt': 1692414000, 'main': {'temp': 288.13, 'feels_like': 288.06, 'temp_min': 288.13, 'temp_max': 288.13, 'pressure': 1025, 'sea_level': 1025, 'grnd_level': 1008, 'humidity': 91, 'temp_kf': 0}, 'weather': [{'id': 804, 'main': 'Clouds', 'description': 'overcast clouds', 'icon': '04n'}], 'clouds': {'all': 98}, 'wind': {'speed': 2.64, 'deg': 61, 'gust': 8}, 'visibility': 10000, 'pop': 0, 'sys': {'pod': 'n'}, 'dt_txt': '2023-08-19 03:00:00'}, {'dt': 1692424800, 'main': {'temp': 288.11, 'feels_like': 287.85, 'temp_min': 288.11, 'temp_max': 288.11, 'pressure': 1025, 'sea_level': 1025, 'grnd_level': 1008, 'humidity': 84, 'temp_kf': 0}, 'weather': [{'id': 804, 'main': 'Clouds', 'description': 'overcast clouds', 'icon': '04d'}], 'clouds': {'all': 99}, 'wind': {'speed': 2.81, 'deg': 56, 'gust': 7.58}, 'visibility': 10000, 'pop': 0, 'sys': {'pod': 'd'}, 'dt_txt': '2023-08-19 06:00:00'}, {'dt': 1692435600, 'main': {'temp': 288.9, 'feels_like': 288.46, 'temp_min': 288.9, 'temp_max': 288.9, 'pressure': 1025, 'sea_level': 1025, 'grnd_level': 1008, 'humidity': 74, 'temp_kf': 0}, 'weather': [{'id': 804, 'main': 'Clouds', 'description': 'overcast clouds', 'icon': '04d'}], 'clouds': {'all': 100}, 'wind': {'speed': 3.25, 'deg': 48, 'gust': 7.12}, 'visibility': 10000, 'pop': 0, 'sys': {'pod': 'd'}, 'dt_txt': '2023-08-19 09:00:00'}, {'dt': 1692446400, 'main': {'temp': 293.32, 'feels_like': 292.88, 'temp_min': 293.32, 'temp_max': 293.32, 'pressure': 1023, 'sea_level': 1023, 'grnd_level': 1007, 'humidity': 57, 'temp_kf': 0}, 'weather': [{'id': 804, 'main': 'Clouds', 'description': 'overcast clouds', 'icon': '04d'}], 'clouds': {'all': 100}, 'wind': {'speed': 3.06, 'deg': 72, 'gust': 4.55}, 'visibility': 10000, 'pop': 0, 'sys': {'pod': 'd'}, 'dt_txt': '2023-08-19 12:00:00'}, {'dt': 1692457200, 'main': {'temp': 294.67, 'feels_like': 294.44, 'temp_min': 294.67, 'temp_max': 294.67, 'pressure': 1021, 'sea_level': 1021, 'grnd_level': 1005, 'humidity': 60, 'temp_kf': 0}, 'weather': [{'id': 804, 'main': 'Clouds', 'description': 'overcast clouds', 'icon': '04d'}], 'clouds': {'all': 100}, 'wind': {'speed': 2.51, 'deg': 97, 'gust': 5.38}, 'visibility': 10000, 'pop': 0.03, 'sys': {'pod': 'd'}, 'dt_txt': '2023-08-19 15:00:00'}, {'dt': 1692468000, 'main': {'temp': 291.63, 'feels_like': 291.6, 'temp_min': 291.63, 'temp_max': 291.63, 'pressure': 1021, 'sea_level': 1021, 'grnd_level': 1004, 'humidity': 79, 'temp_kf': 0}, 'weather': [{'id': 804, 'main': 'Clouds', 'description': 'overcast clouds', 'icon': '04d'}], 'clouds': {'all': 100}, 'wind': {'speed': 1.58, 'deg': 75, 'gust': 2.47}, 'visibility': 10000, 'pop': 0.21, 'sys': {'pod': 'd'}, 'dt_txt': '2023-08-19 18:00:00'}, {'dt': 1692478800, 'main': {'temp': 289.43, 'feels_like': 289.59, 'temp_min': 289.43, 'temp_max': 289.43, 'pressure': 1020, 'sea_level': 1020, 'grnd_level': 1004, 'humidity': 95, 'temp_kf': 0}, 'weather': [{'id': 500, 'main': 'Rain', 'description': 'light rain', 'icon': '10n'}], 'clouds': {'all': 100}, 'wind': {'speed': 2.11, 'deg': 99, 'gust': 9.75}, 'visibility': 10000, 'pop': 1, 'rain': {'3h': 2.22}, 'sys': {'pod': 'n'}, 'dt_txt': '2023-08-19 21:00:00'}, {'dt': 1692489600, 'main': {'temp': 289.24, 'feels_like': 289.44, 'temp_min': 289.24, 'temp_max': 289.24, 'pressure': 1019, 'sea_level': 1019, 'grnd_level': 1003, 'humidity': 97, 'temp_kf': 0}, 'weather': [{'id': 501, 'main': 'Rain', 'description': 'moderate rain', 'icon': '10n'}], 'clouds': {'all': 100}, 'wind': {'speed': 2.55, 'deg': 95, 'gust': 8.42}, 'visibility': 10000, 'pop': 1, 'rain': {'3h': 4.78}, 'sys': {'pod': 'n'}, 'dt_txt': '2023-08-20 00:00:00'}, {'dt': 1692500400, 'main': {'temp': 289.65, 'feels_like': 289.94, 'temp_min': 289.65, 'temp_max': 289.65, 'pressure': 1018, 'sea_level': 1018, 'grnd_level': 1002, 'humidity': 99, 'temp_kf': 0}, 'weather': [{'id': 500, 'main': 'Rain', 'description': 'light rain', 'icon': '10n'}], 'clouds': {'all': 100}, 'wind': {'speed': 1.3, 'deg': 98, 'gust': 5.51}, 'visibility': 4221, 'pop': 1, 'rain': {'3h': 1.1}, 'sys': {'pod': 'n'}, 'dt_txt': '2023-08-20 03:00:00'}, {'dt': 1692511200, 'main': {'temp': 289.36, 'feels_like': 289.62, 'temp_min': 289.36, 'temp_max': 289.36, 'pressure': 1018, 'sea_level': 1018, 'grnd_level': 1001, 'humidity': 99, 'temp_kf': 0}, 'weather': [{'id': 500, 'main': 'Rain', 'description': 'light rain', 'icon': '10d'}], 'clouds': {'all': 100}, 'wind': {'speed': 1.5, 'deg': 62, 'gust': 4.7}, 'visibility': 3403, 'pop': 1, 'rain': {'3h': 1.59}, 'sys': {'pod': 'd'}, 'dt_txt': '2023-08-20 06:00:00'}, {'dt': 1692522000, 'main': {'temp': 289.56, 'feels_like': 289.82, 'temp_min': 289.56, 'temp_max': 289.56, 'pressure': 1018, 'sea_level': 1018, 'grnd_level': 1001, 'humidity': 98, 'temp_kf': 0}, 'weather': [{'id': 500, 'main': 'Rain', 'description': 'light rain', 'icon': '10d'}], 'clouds': {'all': 100}, 'wind': {'speed': 1.24, 'deg': 10, 'gust': 1.77}, 'visibility': 9697, 'pop': 0.37, 'rain': {'3h': 0.22}, 'sys': {'pod': 'd'}, 'dt_txt': '2023-08-20 09:00:00'}, {'dt': 1692532800, 'main': {'temp': 289.93, 'feels_like': 290.17, 'temp_min': 289.93, 'temp_max': 289.93, 'pressure': 1018, 'sea_level': 1018, 'grnd_level': 1001, 'humidity': 96, 'temp_kf': 0}, 'weather': [{'id': 804, 'main': 'Clouds', 'description': 'overcast clouds', 'icon': '04d'}], 'clouds': {'all': 100}, 'wind': {'speed': 1.2, 'deg': 18, 'gust': 1.96}, 'visibility': 10000, 'pop': 0.36, 'sys': {'pod': 'd'}, 'dt_txt': '2023-08-20 12:00:00'}, {'dt': 1692543600, 'main': {'temp': 291.2, 'feels_like': 291.46, 'temp_min': 291.2, 'temp_max': 291.2, 'pressure': 1017, 'sea_level': 1017, 'grnd_level': 1001, 'humidity': 92, 'temp_kf': 0}, 'weather': [{'id': 804, 'main': 'Clouds', 'description': 'overcast clouds', 'icon': '04d'}], 'clouds': {'all': 100}, 'wind': {'speed': 0.41, 'deg': 32, 'gust': 0.47}, 'visibility': 10000, 'pop': 0.12, 'sys': {'pod': 'd'}, 'dt_txt': '2023-08-20 15:00:00'}, {'dt': 1692554400, 'main': {'temp': 290.42, 'feels_like': 290.68, 'temp_min': 290.42, 'temp_max': 290.42, 'pressure': 1016, 'sea_level': 1016, 'grnd_level': 1000, 'humidity': 95, 'temp_kf': 0}, 'weather': [{'id': 500, 'main': 'Rain', 'description': 'light rain', 'icon': '10d'}], 'clouds': {'all': 98}, 'wind': {'speed': 0.91, 'deg': 144, 'gust': 1.58}, 'visibility': 10000, 'pop': 0.33, 'rain': {'3h': 0.4}, 'sys': {'pod': 'd'}, 'dt_txt': '2023-08-20 18:00:00'}, {'dt': 1692565200, 'main': {'temp': 287.99, 'feels_like': 288.09, 'temp_min': 287.99, 'temp_max': 287.99, 'pressure': 1016, 'sea_level': 1016, 'grnd_level': 1000, 'humidity': 98, 'temp_kf': 0}, 'weather': [{'id': 500, 'main': 'Rain', 'description': 'light rain', 'icon': '10n'}], 'clouds': {'all': 62}, 'wind': {'speed': 2.24, 'deg': 160, 'gust': 6.43}, 'visibility': 10000, 'pop': 0.27, 'rain': {'3h': 0.16}, 'sys': {'pod': 'n'}, 'dt_txt': '2023-08-20 21:00:00'}, {'dt': 1692576000, 'main': {'temp': 286.71, 'feels_like': 286.68, 'temp_min': 286.71, 'temp_max': 286.71, 'pressure': 1015, 'sea_level': 1015, 'grnd_level': 998, 'humidity': 98, 'temp_kf': 0}, 'weather': [{'id': 802, 'main': 'Clouds', 'description': 'scattered clouds', 'icon': '03n'}], 'clouds': {'all': 49}, 'wind': {'speed': 2.09, 'deg': 159, 'gust': 6.91}, 'visibility': 10000, 'pop': 0.03, 'sys': {'pod': 'n'}, 'dt_txt': '2023-08-21 00:00:00'}, {'dt': 1692586800, 'main': {'temp': 286.66, 'feels_like': 286.6, 'temp_min': 286.66, 'temp_max': 286.66, 'pressure': 1012, 'sea_level': 1012, 'grnd_level': 996, 'humidity': 97, 'temp_kf': 0}, 'weather': [{'id': 801, 'main': 'Clouds', 'description': 'few clouds', 'icon': '02n'}], 'clouds': {'all': 17}, 'wind': {'speed': 3.06, 'deg': 174, 'gust': 8.58}, 'visibility': 10000, 'pop': 0, 'sys': {'pod': 'n'}, 'dt_txt': '2023-08-21 03:00:00'}, {'dt': 1692597600, 'main': {'temp': 286.99, 'feels_like': 286.83, 'temp_min': 286.99, 'temp_max': 286.99, 'pressure': 1012, 'sea_level': 1012, 'grnd_level': 995, 'humidity': 92, 'temp_kf': 0}, 'weather': [{'id': 801, 'main': 'Clouds', 'description': 'few clouds', 'icon': '02d'}], 'clouds': {'all': 24}, 'wind': {'speed': 1.37, 'deg': 229, 'gust': 2.8}, 'visibility': 10000, 'pop': 0, 'sys': {'pod': 'd'}, 'dt_txt': '2023-08-21 06:00:00'}, {'dt': 1692608400, 'main': {'temp': 291.8, 'feels_like': 291.44, 'temp_min': 291.8, 'temp_max': 291.8, 'pressure': 1012, 'sea_level': 1012, 'grnd_level': 996, 'humidity': 66, 'temp_kf': 0}, 'weather': [{'id': 801, 'main': 'Clouds', 'description': 'few clouds', 'icon': '02d'}], 'clouds': {'all': 12}, 'wind': {'speed': 3.1, 'deg': 254, 'gust': 6.12}, 'visibility': 10000, 'pop': 0, 'sys': {'pod': 'd'}, 'dt_txt': '2023-08-21 09:00:00'}, {'dt': 1692619200, 'main': {'temp': 296.06, 'feels_like': 295.37, 'temp_min': 296.06, 'temp_max': 296.06, 'pressure': 1012, 'sea_level': 1012, 'grnd_level': 996, 'humidity': 37, 'temp_kf': 0}, 'weather': [{'id': 800, 'main': 'Clear', 'description': 'clear sky', 'icon': '01d'}], 'clouds': {'all': 6}, 'wind': {'speed': 4.15, 'deg': 272, 'gust': 6.63}, 'visibility': 10000, 'pop': 0, 'sys': {'pod': 'd'}, 'dt_txt': '2023-08-21 12:00:00'}, {'dt': 1692630000, 'main': {'temp': 297, 'feels_like': 296.49, 'temp_min': 297, 'temp_max': 297, 'pressure': 1011, 'sea_level': 1011, 'grnd_level': 995, 'humidity': 40, 'temp_kf': 0}, 'weather': [{'id': 800, 'main': 'Clear', 'description': 'clear sky', 'icon': '01d'}], 'clouds': {'all': 7}, 'wind': {'speed': 3.37, 'deg': 258, 'gust': 7.06}, 'visibility': 10000, 'pop': 0, 'sys': {'pod': 'd'}, 'dt_txt': '2023-08-21 15:00:00'}, {'dt': 1692640800, 'main': {'temp': 292.22, 'feels_like': 291.72, 'temp_min': 292.22, 'temp_max': 292.22, 'pressure': 1011, 'sea_level': 1011, 'grnd_level': 995, 'humidity': 59, 'temp_kf': 0}, 'weather': [{'id': 801, 'main': 'Clouds', 'description': 'few clouds', 'icon': '02d'}], 'clouds': {'all': 12}, 'wind': {'speed': 3.04, 'deg': 238, 'gust': 9.01}, 'visibility': 10000, 'pop': 0, 'sys': {'pod': 'd'}, 'dt_txt': '2023-08-21 18:00:00'}, {'dt': 1692651600, 'main': {'temp': 287.58, 'feels_like': 287.14, 'temp_min': 287.58, 'temp_max': 287.58, 'pressure': 1012, 'sea_level': 1012, 'grnd_level': 995, 'humidity': 79, 'temp_kf': 0}, 'weather': [{'id': 800, 'main': 'Clear', 'description': 'clear sky', 'icon': '01n'}], 'clouds': {'all': 3}, 'wind': {'speed': 1.22, 'deg': 182, 'gust': 2.74}, 'visibility': 10000, 'pop': 0, 'sys': {'pod': 'n'}, 'dt_txt': '2023-08-21 21:00:00'}, {'dt': 1692662400, 'main': {'temp': 285.44, 'feels_like': 285.07, 'temp_min': 285.44, 'temp_max': 285.44, 'pressure': 1011, 'sea_level': 1011, 'grnd_level': 995, 'humidity': 90, 'temp_kf': 0}, 'weather': [{'id': 800, 'main': 'Clear', 'description': 'clear sky', 'icon': '01n'}], 'clouds': {'all': 5}, 'wind': {'speed': 0.54, 'deg': 213, 'gust': 1.52}, 'visibility': 10000, 'pop': 0, 'sys': {'pod': 'n'}, 'dt_txt': '2023-08-22 00:00:00'}, {'dt': 1692673200, 'main': {'temp': 284.08, 'feels_like': 283.71, 'temp_min': 284.08, 'temp_max': 284.08, 'pressure': 1011, 'sea_level': 1011, 'grnd_level': 994, 'humidity': 95, 'temp_kf': 0}, 'weather': [{'id': 800, 'main': 'Clear', 'description': 'clear sky', 'icon': '01n'}], 'clouds': {'all': 2}, 'wind': {'speed': 1.11, 'deg': 344, 'gust': 1.17}, 'visibility': 10000, 'pop': 0, 'sys': {'pod': 'n'}, 'dt_txt': '2023-08-22 03:00:00'}, {'dt': 1692684000, 'main': {'temp': 286.89, 'feels_like': 286.36, 'temp_min': 286.89, 'temp_max': 286.89, 'pressure': 1011, 'sea_level': 1011, 'grnd_level': 995, 'humidity': 78, 'temp_kf': 0}, 'weather': [{'id': 800, 'main': 'Clear', 'description': 'clear sky', 'icon': '01d'}], 'clouds': {'all': 4}, 'wind': {'speed': 1.01, 'deg': 331, 'gust': 1.92}, 'visibility': 10000, 'pop': 0, 'sys': {'pod': 'd'}, 'dt_txt': '2023-08-22 06:00:00'}, {'dt': 1692694800, 'main': {'temp': 292.1, 'feels_like': 291.51, 'temp_min': 292.1, 'temp_max': 292.1, 'pressure': 1012, 'sea_level': 1012, 'grnd_level': 995, 'humidity': 56, 'temp_kf': 0}, 'weather': [{'id': 800, 'main': 'Clear', 'description': 'clear sky', 'icon': '01d'}], 'clouds': {'all': 9}, 'wind': {'speed': 1.62, 'deg': 234, 'gust': 2.13}, 'visibility': 10000, 'pop': 0, 'sys': {'pod': 'd'}, 'dt_txt': '2023-08-22 09:00:00'}, {'dt': 1692705600, 'main': {'temp': 295.03, 'feels_like': 294.47, 'temp_min': 295.03, 'temp_max': 295.03, 'pressure': 1012, 'sea_level': 1012, 'grnd_level': 995, 'humidity': 46, 'temp_kf': 0}, 'weather': [{'id': 801, 'main': 'Clouds', 'description': 'few clouds', 'icon': '02d'}], 'clouds': {'all': 12}, 'wind': {'speed': 2.12, 'deg': 217, 'gust': 3.02}, 'visibility': 10000, 'pop': 0, 'sys': {'pod': 'd'}, 'dt_txt': '2023-08-22 12:00:00'}, {'dt': 1692716400, 'main': {'temp': 294.6, 'feels_like': 294.16, 'temp_min': 294.6, 'temp_max': 294.6, 'pressure': 1011, 'sea_level': 1011, 'grnd_level': 995, 'humidity': 52, 'temp_kf': 0}, 'weather': [{'id': 801, 'main': 'Clouds', 'description': 'few clouds', 'icon': '02d'}], 'clouds': {'all': 19}, 'wind': {'speed': 3.58, 'deg': 189, 'gust': 4.66}, 'visibility': 10000, 'pop': 0, 'sys': {'pod': 'd'}, 'dt_txt': '2023-08-22 15:00:00'}, {'dt': 1692727200, 'main': {'temp': 290.51, 'feels_like': 290.34, 'temp_min': 290.51, 'temp_max': 290.51, 'pressure': 1011, 'sea_level': 1011, 'grnd_level': 995, 'humidity': 78, 'temp_kf': 0}, 'weather': [{'id': 803, 'main': 'Clouds', 'description': 'broken clouds', 'icon': '04d'}], 'clouds': {'all': 55}, 'wind': {'speed': 2.94, 'deg': 163, 'gust': 6.74}, 'visibility': 10000, 'pop': 0, 'sys': {'pod': 'd'}, 'dt_txt': '2023-08-22 18:00:00'}, {'dt': 1692738000, 'main': {'temp': 287.22, 'feels_like': 287.14, 'temp_min': 287.22, 'temp_max': 287.22, 'pressure': 1012, 'sea_level': 1012, 'grnd_level': 995, 'humidity': 94, 'temp_kf': 0}, 'weather': [{'id': 803, 'main': 'Clouds', 'description': 'broken clouds', 'icon': '04n'}], 'clouds': {'all': 84}, 'wind': {'speed': 1.64, 'deg': 130, 'gust': 2.75}, 'visibility': 10000, 'pop': 0.04, 'sys': {'pod': 'n'}, 'dt_txt': '2023-08-22 21:00:00'}, {'dt': 1692748800, 'main': {'temp': 286.92, 'feels_like': 286.86, 'temp_min': 286.92, 'temp_max': 286.92, 'pressure': 1012, 'sea_level': 1012, 'grnd_level': 995, 'humidity': 96, 'temp_kf': 0}, 'weather': [{'id': 804, 'main': 'Clouds', 'description': 'overcast clouds', 'icon': '04n'}], 'clouds': {'all': 92}, 'wind': {'speed': 1.76, 'deg': 138, 'gust': 4.39}, 'visibility': 10000, 'pop': 0, 'sys': {'pod': 'n'}, 'dt_txt': '2023-08-23 00:00:00'}, {'dt': 1692759600, 'main': {'temp': 286.15, 'feels_like': 286.06, 'temp_min': 286.15, 'temp_max': 286.15, 'pressure': 1011, 'sea_level': 1011, 'grnd_level': 995, 'humidity': 98, 'temp_kf': 0}, 'weather': [{'id': 804, 'main': 'Clouds', 'description': 'overcast clouds', 'icon': '04n'}], 'clouds': {'all': 86}, 'wind': {'speed': 1.92, 'deg': 150, 'gust': 5.43}, 'visibility': 10000, 'pop': 0, 'sys': {'pod': 'n'}, 'dt_txt': '2023-08-23 03:00:00'}, {'dt': 1692770400, 'main': {'temp': 287.92, 'feels_like': 287.72, 'temp_min': 287.92, 'temp_max': 287.92, 'pressure': 1012, 'sea_level': 1012, 'grnd_level': 995, 'humidity': 87, 'temp_kf': 0}, 'weather': [{'id': 803, 'main': 'Clouds', 'description': 'broken clouds', 'icon': '04d'}], 'clouds': {'all': 78}, 'wind': {'speed': 2.28, 'deg': 162, 'gust': 4.06}, 'visibility': 10000, 'pop': 0, 'sys': {'pod': 'd'}, 'dt_txt': '2023-08-23 06:00:00'}, {'dt': 1692781200, 'main': {'temp': 291.56, 'feels_like': 291.21, 'temp_min': 291.56, 'temp_max': 291.56, 'pressure': 1012, 'sea_level': 1012, 'grnd_level': 996, 'humidity': 67, 'temp_kf': 0}, 'weather': [{'id': 803, 'main': 'Clouds', 'description': 'broken clouds', 'icon': '04d'}], 'clouds': {'all': 72}, 'wind': {'speed': 2.53, 'deg': 181, 'gust': 3.22}, 'visibility': 10000, 'pop': 0.13, 'sys': {'pod': 'd'}, 'dt_txt': '2023-08-23 09:00:00'}, {'dt': 1692792000, 'main': {'temp': 293.44, 'feels_like': 293.09, 'temp_min': 293.44, 'temp_max': 293.44, 'pressure': 1012, 'sea_level': 1012, 'grnd_level': 996, 'humidity': 60, 'temp_kf': 0}, 'weather': [{'id': 500, 'main': 'Rain', 'description': 'light rain', 'icon': '10d'}], 'clouds': {'all': 56}, 'wind': {'speed': 3.47, 'deg': 193, 'gust': 4.34}, 'visibility': 10000, 'pop': 0.34, 'rain': {'3h': 0.18}, 'sys': {'pod': 'd'}, 'dt_txt': '2023-08-23 12:00:00'}], 'city': {'id': 3139081, 'name': 'Ski', 'coord': {'lat': 59.7195, 'lon': 10.8358}, 'country': 'NO', 'population': 12513, 'timezone': 7200, 'sunrise': 1692329911, 'sunset': 1692385380}}\n"
     ]
    }
   ],
   "source": [
    "responseF = requests.get(urlF).json()\n",
    "print(responseF)"
   ]
  },
  {
   "cell_type": "code",
   "execution_count": 10,
   "metadata": {},
   "outputs": [],
   "source": [
    "# Write JSON to file for viewing\n",
    "with open('downloads/forecast.json', 'w') as f:\n",
    "    json.dump(responseF, f, indent=4)"
   ]
  },
  {
   "attachments": {},
   "cell_type": "markdown",
   "metadata": {},
   "source": [
    "### When and what?\n",
    "Check contents and time stamps"
   ]
  },
  {
   "cell_type": "code",
   "execution_count": 11,
   "metadata": {},
   "outputs": [
    {
     "data": {
      "text/plain": [
       "dict_keys(['cod', 'message', 'cnt', 'list', 'city'])"
      ]
     },
     "execution_count": 11,
     "metadata": {},
     "output_type": "execute_result"
    }
   ],
   "source": [
    "# Content of responseF\n",
    "responseF.keys()"
   ]
  },
  {
   "cell_type": "code",
   "execution_count": 12,
   "metadata": {},
   "outputs": [
    {
     "name": "stdout",
     "output_type": "stream",
     "text": [
      "40\n"
     ]
    }
   ],
   "source": [
    "# Number of forecasts\n",
    "print(len(responseF[\"list\"]))"
   ]
  },
  {
   "cell_type": "code",
   "execution_count": 13,
   "metadata": {},
   "outputs": [
    {
     "name": "stdout",
     "output_type": "stream",
     "text": [
      "2023-08-18 15:00:00\n",
      "2023-08-18 18:00:00\n",
      "2023-08-18 21:00:00\n",
      "2023-08-19 00:00:00\n",
      "2023-08-19 03:00:00\n",
      "2023-08-19 06:00:00\n",
      "2023-08-19 09:00:00\n",
      "2023-08-19 12:00:00\n",
      "2023-08-19 15:00:00\n",
      "2023-08-19 18:00:00\n",
      "2023-08-19 21:00:00\n",
      "2023-08-20 00:00:00\n",
      "2023-08-20 03:00:00\n",
      "2023-08-20 06:00:00\n",
      "2023-08-20 09:00:00\n",
      "2023-08-20 12:00:00\n",
      "2023-08-20 15:00:00\n",
      "2023-08-20 18:00:00\n",
      "2023-08-20 21:00:00\n",
      "2023-08-21 00:00:00\n",
      "2023-08-21 03:00:00\n",
      "2023-08-21 06:00:00\n",
      "2023-08-21 09:00:00\n",
      "2023-08-21 12:00:00\n",
      "2023-08-21 15:00:00\n",
      "2023-08-21 18:00:00\n",
      "2023-08-21 21:00:00\n",
      "2023-08-22 00:00:00\n",
      "2023-08-22 03:00:00\n",
      "2023-08-22 06:00:00\n",
      "2023-08-22 09:00:00\n",
      "2023-08-22 12:00:00\n",
      "2023-08-22 15:00:00\n",
      "2023-08-22 18:00:00\n",
      "2023-08-22 21:00:00\n",
      "2023-08-23 00:00:00\n",
      "2023-08-23 03:00:00\n",
      "2023-08-23 06:00:00\n",
      "2023-08-23 09:00:00\n",
      "2023-08-23 12:00:00\n"
     ]
    }
   ],
   "source": [
    "# Print forecast times\n",
    "for forecast in responseF[\"list\"]:\n",
    "    print(forecast[\"dt_txt\"])"
   ]
  },
  {
   "attachments": {},
   "cell_type": "markdown",
   "metadata": {},
   "source": [
    "## Make plots of omnipresent measurements and events"
   ]
  },
  {
   "cell_type": "code",
   "execution_count": 14,
   "metadata": {},
   "outputs": [],
   "source": [
    "# Air pressure per period\n",
    "pressures = []\n",
    "timestamps = []\n",
    "for forecast in responseF[\"list\"]:\n",
    "    pressures.append(forecast[\"main\"][\"pressure\"])\n",
    "    timestamps.append(dt.datetime.fromtimestamp(forecast[\"dt\"]))"
   ]
  },
  {
   "cell_type": "code",
   "execution_count": 15,
   "metadata": {},
   "outputs": [
    {
     "data": {
      "image/png": "[encoded data removed]",
      "text/plain": [
       "<Figure size 640x480 with 1 Axes>"
      ]
     },
     "metadata": {},
     "output_type": "display_data"
    }
   ],
   "source": [
    "import matplotlib.pyplot as plt\n",
    "plt.bar(timestamps, pressures)\n",
    "plt.xticks(rotation=45)\n",
    "plt.ylim(950, 1050)\n",
    "plt.grid()\n",
    "plt.ylabel(\"Air pressure (hPa)\")\n",
    "plt.title(f\"Forecasted air pressure in {CITY}\")\n",
    "plt.show()"
   ]
  },
  {
   "cell_type": "code",
   "execution_count": 16,
   "metadata": {},
   "outputs": [],
   "source": [
    "rain = []\n",
    "snow = []\n",
    "for forecast in responseF[\"list\"]:\n",
    "    try: # Check if rain is present in forecast\n",
    "        rain.append(forecast[\"rain\"][\"3h\"])\n",
    "    except KeyError:\n",
    "        rain.append(0)\n",
    "    try: # Check if snow is present in forecast\n",
    "        snow.append(forecast[\"snow\"][\"3h\"])\n",
    "    except KeyError:\n",
    "        snow.append(0)"
   ]
  },
  {
   "cell_type": "code",
   "execution_count": 17,
   "metadata": {},
   "outputs": [
    {
     "data": {
      "image/png": "[encoded data removed]",
      "text/plain": [
       "<Figure size 640x480 with 1 Axes>"
      ]
     },
     "metadata": {},
     "output_type": "display_data"
    }
   ],
   "source": [
    "# Stacked bar chart with rain and snow\n",
    "plt.bar(timestamps, rain, label=\"Rain\")\n",
    "plt.bar(timestamps, snow, label=\"Snow\")\n",
    "plt.xticks(rotation=45)\n",
    "plt.grid()\n",
    "plt.ylabel(\"Precipitation (mm)\")\n",
    "plt.title(f\"Forecasted precipitation in {CITY}\")\n",
    "plt.legend()\n",
    "plt.show()\n"
   ]
  },
  {
   "cell_type": "markdown",
   "metadata": {},
   "source": [
    "## Resources\n",
    "- [NeuralNine's video](https://www.youtube.com/watch?v=9P5MY_2i7K8)"
   ]
  }
 ],
 "metadata": {
  "kernelspec": {
   "display_name": "tf_M1",
   "language": "python",
   "name": "python3"
  },
  "language_info": {
   "codemirror_mode": {
    "name": "ipython",
    "version": 3
   },
   "file_extension": ".py",
   "mimetype": "text/x-python",
   "name": "python",
   "nbconvert_exporter": "python",
   "pygments_lexer": "ipython3",
   "version": "3.10.6"
  }
 },
 "nbformat": 4,
 "nbformat_minor": 2
}