{
 "cells": [
  {
   "cell_type": "markdown",
   "metadata": {
    "slideshow": {
     "slide_type": "slide"
    }
   },
   "source": [
    "# Demonstration of API using OpenWeather.org\n",
    "This demonstration is heavily inspired by [NeuralNine's video](https://www.youtube.com/watch?v=9P5MY_2i7K8).  \n",
    "The VS Code extensino _JSON viewer_ is recommended for viewing downloaded JSON content."
   ]
  },
  {
   "cell_type": "code",
   "execution_count": 1,
   "metadata": {
    "slideshow": {
     "slide_type": "fragment"
    }
   },
   "outputs": [],
   "source": [
    "# Imports\n",
    "import datetime as dt\n",
    "import requests\n",
    "import json"
   ]
  },
  {
   "cell_type": "markdown",
   "metadata": {
    "slideshow": {
     "slide_type": "slide"
    }
   },
   "source": [
    "## Current weather\n",
    "### Common definitions to use for all requests"
   ]
  },
  {
   "cell_type": "code",
   "execution_count": 2,
   "metadata": {
    "slideshow": {
     "slide_type": "-"
    }
   },
   "outputs": [],
   "source": [
    "BASE_URL = \"http://api.openweathermap.org/data/2.5/weather?\"\n",
    "API_KEY = open('../../../No_sync/api_key_OpenWeather','r').read()\n",
    "CITY = \"Ski\"\n",
    "\n",
    "url = BASE_URL + \"q=\" + CITY + \"&appid=\" + API_KEY"
   ]
  },
  {
   "cell_type": "markdown",
   "metadata": {
    "slideshow": {
     "slide_type": "slide"
    }
   },
   "source": [
    "## Request current weather in chosen city"
   ]
  },
  {
   "cell_type": "code",
   "execution_count": 3,
   "metadata": {
    "slideshow": {
     "slide_type": "fragment"
    }
   },
   "outputs": [
    {
     "name": "stdout",
     "output_type": "stream",
     "text": [
      "{'coord': {'lon': 10.8358, 'lat': 59.7195}, 'weather': [{'id': 803, 'main': 'Clouds', 'description': 'broken clouds', 'icon': '04d'}], 'base': 'stations', 'main': {'temp': 290.88, 'feels_like': 290.38, 'temp_min': 288.4, 'temp_max': 292.03, 'pressure': 1026, 'humidity': 64, 'sea_level': 1026, 'grnd_level': 1009}, 'visibility': 10000, 'wind': {'speed': 1.88, 'deg': 122, 'gust': 2.99}, 'clouds': {'all': 76}, 'dt': 1693992771, 'sys': {'type': 2, 'id': 2012246, 'country': 'NO', 'sunrise': 1693974187, 'sunset': 1694023660}, 'timezone': 7200, 'id': 3139081, 'name': 'Ski', 'cod': 200}\n"
     ]
    }
   ],
   "source": [
    "response = requests.get(url).json()\n",
    "print(response)"
   ]
  },
  {
   "cell_type": "code",
   "execution_count": 4,
   "metadata": {
    "slideshow": {
     "slide_type": "fragment"
    }
   },
   "outputs": [],
   "source": [
    "# Write JSON to file for viewing\n",
    "with open('downloads/weather.json', 'w') as f:\n",
    "    json.dump(response, f, indent=4)"
   ]
  },
  {
   "cell_type": "markdown",
   "metadata": {
    "slideshow": {
     "slide_type": "slide"
    }
   },
   "source": [
    "## Conversion functions\n",
    "Changing scales can make results more interpretable"
   ]
  },
  {
   "cell_type": "code",
   "execution_count": 5,
   "metadata": {
    "slideshow": {
     "slide_type": "-"
    }
   },
   "outputs": [],
   "source": [
    "# Kelvin to Celsius\n",
    "def kelvin_to_celsius(temp):\n",
    "    return temp - 273.15\n",
    "\n",
    "# Meters per second to knots\n",
    "def mps_to_knots(speed):\n",
    "    return speed * 1.943844"
   ]
  },
  {
   "cell_type": "markdown",
   "metadata": {
    "slideshow": {
     "slide_type": "slide"
    }
   },
   "source": [
    "## Print some weather properties"
   ]
  },
  {
   "cell_type": "code",
   "execution_count": 6,
   "metadata": {
    "slideshow": {
     "slide_type": "-"
    }
   },
   "outputs": [
    {
     "name": "stdout",
     "output_type": "stream",
     "text": [
      "The current temperature in Ski is 17.73°C\n"
     ]
    }
   ],
   "source": [
    "# Current temperature\n",
    "temp_kelvin = response['main']['temp']\n",
    "temp_celsius = kelvin_to_celsius(temp_kelvin)\n",
    "print(f\"The current temperature in {CITY} is {temp_celsius:.2f}°C\")"
   ]
  },
  {
   "cell_type": "code",
   "execution_count": 7,
   "metadata": {
    "slideshow": {
     "slide_type": "slide"
    }
   },
   "outputs": [
    {
     "name": "stdout",
     "output_type": "stream",
     "text": [
      "Sunrise today is at 06:23 and sunset is at 20:07\n"
     ]
    }
   ],
   "source": [
    "# Sunrise and sunset today in local time\n",
    "sunrise = dt.datetime.fromtimestamp(response['sys']['sunrise'])\n",
    "sunset = dt.datetime.fromtimestamp(response['sys']['sunset'])\n",
    "print(f\"Sunrise today is at {sunrise:%H:%M} and sunset is at {sunset:%H:%M}\")"
   ]
  },
  {
   "cell_type": "code",
   "execution_count": 8,
   "metadata": {
    "slideshow": {
     "slide_type": "fragment"
    }
   },
   "outputs": [
    {
     "name": "stdout",
     "output_type": "stream",
     "text": [
      "Wind today is from 122° at 3.7 knots\n"
     ]
    }
   ],
   "source": [
    "# Wind direction and speed\n",
    "wind_knots = mps_to_knots(response['wind']['speed'])\n",
    "print(f\"Wind today is from {response['wind']['deg']}° at {round(wind_knots,1)} knots\")"
   ]
  },
  {
   "cell_type": "markdown",
   "metadata": {
    "slideshow": {
     "slide_type": "slide"
    }
   },
   "source": [
    "## Forecasted weather\n",
    "### Common definitions to use for all requests"
   ]
  },
  {
   "cell_type": "code",
   "execution_count": 9,
   "metadata": {
    "slideshow": {
     "slide_type": "-"
    }
   },
   "outputs": [],
   "source": [
    "BASE_URL = \"http://api.openweathermap.org/data/2.5/forecast?\"\n",
    "CITY = \"Ski\"\n",
    "\n",
    "urlF = BASE_URL + \"q=\" + CITY + \"&appid=\" + API_KEY"
   ]
  },
  {
   "cell_type": "markdown",
   "metadata": {
    "slideshow": {
     "slide_type": "slide"
    }
   },
   "source": [
    "## Request current weather in chosen city"
   ]
  },
  {
   "cell_type": "code",
   "execution_count": 10,
   "metadata": {
    "slideshow": {
     "slide_type": "-"
    }
   },
   "outputs": [
    {
     "name": "stdout",
     "output_type": "stream",
     "text": [
      "{'cod': '200', 'message': 0, 'cnt': 40, 'list': [{'dt': 1694001600, 'main': {'temp': 290.77, 'feels_like': 290.31, 'temp_min': 290.55, 'temp_max': 290.77, 'pressure': 1026, 'sea_level': 1026, 'grnd_level': 1009, 'humidity': 66, 'temp_kf': 0.22}, 'weather': [{'id': 803, 'main': 'Clouds', 'description': 'broken clouds', 'icon': '04d'}], 'clouds': {'all': 75}, 'wind': {'speed': 1.98, 'deg': 149, 'gust': 2.81}, 'visibility': 10000, 'pop': 0, 'sys': {'pod': 'd'}, 'dt_txt': '2023-09-06 12:00:00'}, {'dt': 1694012400, 'main': {'temp': 290.83, 'feels_like': 290.43, 'temp_min': 290.81, 'temp_max': 290.83, 'pressure': 1025, 'sea_level': 1025, 'grnd_level': 1009, 'humidity': 68, 'temp_kf': 0.02}, 'weather': [{'id': 804, 'main': 'Clouds', 'description': 'overcast clouds', 'icon': '04d'}], 'clouds': {'all': 90}, 'wind': {'speed': 1.56, 'deg': 156, 'gust': 2.38}, 'visibility': 10000, 'pop': 0, 'sys': {'pod': 'd'}, 'dt_txt': '2023-09-06 15:00:00'}, {'dt': 1694023200, 'main': {'temp': 289.02, 'feels_like': 288.75, 'temp_min': 289.02, 'temp_max': 289.02, 'pressure': 1025, 'sea_level': 1025, 'grnd_level': 1008, 'humidity': 80, 'temp_kf': 0}, 'weather': [{'id': 804, 'main': 'Clouds', 'description': 'overcast clouds', 'icon': '04d'}], 'clouds': {'all': 99}, 'wind': {'speed': 0.61, 'deg': 120, 'gust': 0.82}, 'visibility': 10000, 'pop': 0, 'sys': {'pod': 'd'}, 'dt_txt': '2023-09-06 18:00:00'}, {'dt': 1694034000, 'main': {'temp': 285.9, 'feels_like': 285.69, 'temp_min': 285.9, 'temp_max': 285.9, 'pressure': 1025, 'sea_level': 1025, 'grnd_level': 1008, 'humidity': 94, 'temp_kf': 0}, 'weather': [{'id': 803, 'main': 'Clouds', 'description': 'broken clouds', 'icon': '04n'}], 'clouds': {'all': 76}, 'wind': {'speed': 0.6, 'deg': 81, 'gust': 0.62}, 'visibility': 10000, 'pop': 0, 'sys': {'pod': 'n'}, 'dt_txt': '2023-09-06 21:00:00'}, {'dt': 1694044800, 'main': {'temp': 285.22, 'feels_like': 284.99, 'temp_min': 285.22, 'temp_max': 285.22, 'pressure': 1026, 'sea_level': 1026, 'grnd_level': 1009, 'humidity': 96, 'temp_kf': 0}, 'weather': [{'id': 804, 'main': 'Clouds', 'description': 'overcast clouds', 'icon': '04n'}], 'clouds': {'all': 88}, 'wind': {'speed': 0.32, 'deg': 109, 'gust': 0.39}, 'visibility': 10000, 'pop': 0, 'sys': {'pod': 'n'}, 'dt_txt': '2023-09-07 00:00:00'}, {'dt': 1694055600, 'main': {'temp': 284.25, 'feels_like': 283.95, 'temp_min': 284.25, 'temp_max': 284.25, 'pressure': 1025, 'sea_level': 1025, 'grnd_level': 1008, 'humidity': 97, 'temp_kf': 0}, 'weather': [{'id': 802, 'main': 'Clouds', 'description': 'scattered clouds', 'icon': '03n'}], 'clouds': {'all': 50}, 'wind': {'speed': 0.8, 'deg': 146, 'gust': 0.85}, 'visibility': 10000, 'pop': 0, 'sys': {'pod': 'n'}, 'dt_txt': '2023-09-07 03:00:00'}, {'dt': 1694066400, 'main': {'temp': 285.72, 'feels_like': 285.46, 'temp_min': 285.72, 'temp_max': 285.72, 'pressure': 1025, 'sea_level': 1025, 'grnd_level': 1008, 'humidity': 93, 'temp_kf': 0}, 'weather': [{'id': 803, 'main': 'Clouds', 'description': 'broken clouds', 'icon': '04d'}], 'clouds': {'all': 70}, 'wind': {'speed': 0.8, 'deg': 162, 'gust': 1.56}, 'visibility': 10000, 'pop': 0, 'sys': {'pod': 'd'}, 'dt_txt': '2023-09-07 06:00:00'}, {'dt': 1694077200, 'main': {'temp': 290.26, 'feels_like': 290.01, 'temp_min': 290.26, 'temp_max': 290.26, 'pressure': 1025, 'sea_level': 1025, 'grnd_level': 1008, 'humidity': 76, 'temp_kf': 0}, 'weather': [{'id': 804, 'main': 'Clouds', 'description': 'overcast clouds', 'icon': '04d'}], 'clouds': {'all': 100}, 'wind': {'speed': 2.31, 'deg': 197, 'gust': 4.75}, 'visibility': 10000, 'pop': 0, 'sys': {'pod': 'd'}, 'dt_txt': '2023-09-07 09:00:00'}, {'dt': 1694088000, 'main': {'temp': 292.91, 'feels_like': 292.61, 'temp_min': 292.91, 'temp_max': 292.91, 'pressure': 1024, 'sea_level': 1024, 'grnd_level': 1008, 'humidity': 64, 'temp_kf': 0}, 'weather': [{'id': 804, 'main': 'Clouds', 'description': 'overcast clouds', 'icon': '04d'}], 'clouds': {'all': 100}, 'wind': {'speed': 3.66, 'deg': 198, 'gust': 6.16}, 'visibility': 10000, 'pop': 0, 'sys': {'pod': 'd'}, 'dt_txt': '2023-09-07 12:00:00'}, {'dt': 1694098800, 'main': {'temp': 292.61, 'feels_like': 292.44, 'temp_min': 292.61, 'temp_max': 292.61, 'pressure': 1023, 'sea_level': 1023, 'grnd_level': 1007, 'humidity': 70, 'temp_kf': 0}, 'weather': [{'id': 803, 'main': 'Clouds', 'description': 'broken clouds', 'icon': '04d'}], 'clouds': {'all': 51}, 'wind': {'speed': 3.9, 'deg': 183, 'gust': 6.47}, 'visibility': 10000, 'pop': 0, 'sys': {'pod': 'd'}, 'dt_txt': '2023-09-07 15:00:00'}, {'dt': 1694109600, 'main': {'temp': 288.23, 'feels_like': 288.22, 'temp_min': 288.23, 'temp_max': 288.23, 'pressure': 1023, 'sea_level': 1023, 'grnd_level': 1006, 'humidity': 93, 'temp_kf': 0}, 'weather': [{'id': 803, 'main': 'Clouds', 'description': 'broken clouds', 'icon': '04d'}], 'clouds': {'all': 67}, 'wind': {'speed': 2.7, 'deg': 179, 'gust': 7.55}, 'visibility': 10000, 'pop': 0, 'sys': {'pod': 'd'}, 'dt_txt': '2023-09-07 18:00:00'}, {'dt': 1694120400, 'main': {'temp': 287.49, 'feels_like': 287.54, 'temp_min': 287.49, 'temp_max': 287.49, 'pressure': 1023, 'sea_level': 1023, 'grnd_level': 1006, 'humidity': 98, 'temp_kf': 0}, 'weather': [{'id': 804, 'main': 'Clouds', 'description': 'overcast clouds', 'icon': '04n'}], 'clouds': {'all': 95}, 'wind': {'speed': 1.88, 'deg': 174, 'gust': 5.46}, 'visibility': 10000, 'pop': 0, 'sys': {'pod': 'n'}, 'dt_txt': '2023-09-07 21:00:00'}, {'dt': 1694131200, 'main': {'temp': 287.19, 'feels_like': 287.23, 'temp_min': 287.19, 'temp_max': 287.19, 'pressure': 1022, 'sea_level': 1022, 'grnd_level': 1005, 'humidity': 99, 'temp_kf': 0}, 'weather': [{'id': 804, 'main': 'Clouds', 'description': 'overcast clouds', 'icon': '04n'}], 'clouds': {'all': 96}, 'wind': {'speed': 1.01, 'deg': 165, 'gust': 1.67}, 'visibility': 10000, 'pop': 0, 'sys': {'pod': 'n'}, 'dt_txt': '2023-09-08 00:00:00'}, {'dt': 1694142000, 'main': {'temp': 286.88, 'feels_like': 286.89, 'temp_min': 286.88, 'temp_max': 286.88, 'pressure': 1021, 'sea_level': 1021, 'grnd_level': 1004, 'humidity': 99, 'temp_kf': 0}, 'weather': [{'id': 804, 'main': 'Clouds', 'description': 'overcast clouds', 'icon': '04n'}], 'clouds': {'all': 97}, 'wind': {'speed': 0.71, 'deg': 130, 'gust': 1.09}, 'visibility': 10000, 'pop': 0, 'sys': {'pod': 'n'}, 'dt_txt': '2023-09-08 03:00:00'}, {'dt': 1694152800, 'main': {'temp': 288.02, 'feels_like': 288.1, 'temp_min': 288.02, 'temp_max': 288.02, 'pressure': 1021, 'sea_level': 1021, 'grnd_level': 1004, 'humidity': 97, 'temp_kf': 0}, 'weather': [{'id': 804, 'main': 'Clouds', 'description': 'overcast clouds', 'icon': '04d'}], 'clouds': {'all': 98}, 'wind': {'speed': 0.61, 'deg': 158, 'gust': 1.62}, 'visibility': 10000, 'pop': 0, 'sys': {'pod': 'd'}, 'dt_txt': '2023-09-08 06:00:00'}, {'dt': 1694163600, 'main': {'temp': 292.05, 'feels_like': 292.06, 'temp_min': 292.05, 'temp_max': 292.05, 'pressure': 1020, 'sea_level': 1020, 'grnd_level': 1004, 'humidity': 79, 'temp_kf': 0}, 'weather': [{'id': 804, 'main': 'Clouds', 'description': 'overcast clouds', 'icon': '04d'}], 'clouds': {'all': 100}, 'wind': {'speed': 2.1, 'deg': 198, 'gust': 4.28}, 'visibility': 10000, 'pop': 0, 'sys': {'pod': 'd'}, 'dt_txt': '2023-09-08 09:00:00'}, {'dt': 1694174400, 'main': {'temp': 294.54, 'feels_like': 294.56, 'temp_min': 294.54, 'temp_max': 294.54, 'pressure': 1020, 'sea_level': 1020, 'grnd_level': 1003, 'humidity': 70, 'temp_kf': 0}, 'weather': [{'id': 804, 'main': 'Clouds', 'description': 'overcast clouds', 'icon': '04d'}], 'clouds': {'all': 100}, 'wind': {'speed': 3.68, 'deg': 193, 'gust': 6.57}, 'visibility': 10000, 'pop': 0, 'sys': {'pod': 'd'}, 'dt_txt': '2023-09-08 12:00:00'}, {'dt': 1694185200, 'main': {'temp': 292.71, 'feels_like': 292.73, 'temp_min': 292.71, 'temp_max': 292.71, 'pressure': 1019, 'sea_level': 1019, 'grnd_level': 1002, 'humidity': 77, 'temp_kf': 0}, 'weather': [{'id': 804, 'main': 'Clouds', 'description': 'overcast clouds', 'icon': '04d'}], 'clouds': {'all': 100}, 'wind': {'speed': 3.62, 'deg': 184, 'gust': 8.36}, 'visibility': 10000, 'pop': 0, 'sys': {'pod': 'd'}, 'dt_txt': '2023-09-08 15:00:00'}, {'dt': 1694196000, 'main': {'temp': 288.98, 'feels_like': 288.99, 'temp_min': 288.98, 'temp_max': 288.98, 'pressure': 1019, 'sea_level': 1019, 'grnd_level': 1002, 'humidity': 91, 'temp_kf': 0}, 'weather': [{'id': 804, 'main': 'Clouds', 'description': 'overcast clouds', 'icon': '04d'}], 'clouds': {'all': 100}, 'wind': {'speed': 2.56, 'deg': 174, 'gust': 8.12}, 'visibility': 10000, 'pop': 0, 'sys': {'pod': 'd'}, 'dt_txt': '2023-09-08 18:00:00'}, {'dt': 1694206800, 'main': {'temp': 287.59, 'feels_like': 287.65, 'temp_min': 287.59, 'temp_max': 287.59, 'pressure': 1018, 'sea_level': 1018, 'grnd_level': 1002, 'humidity': 98, 'temp_kf': 0}, 'weather': [{'id': 804, 'main': 'Clouds', 'description': 'overcast clouds', 'icon': '04n'}], 'clouds': {'all': 100}, 'wind': {'speed': 1.73, 'deg': 163, 'gust': 5.52}, 'visibility': 10000, 'pop': 0, 'sys': {'pod': 'n'}, 'dt_txt': '2023-09-08 21:00:00'}, {'dt': 1694217600, 'main': {'temp': 286.61, 'feels_like': 286.57, 'temp_min': 286.61, 'temp_max': 286.61, 'pressure': 1018, 'sea_level': 1018, 'grnd_level': 1001, 'humidity': 98, 'temp_kf': 0}, 'weather': [{'id': 804, 'main': 'Clouds', 'description': 'overcast clouds', 'icon': '04n'}], 'clouds': {'all': 96}, 'wind': {'speed': 1.23, 'deg': 157, 'gust': 1.4}, 'visibility': 10000, 'pop': 0, 'sys': {'pod': 'n'}, 'dt_txt': '2023-09-09 00:00:00'}, {'dt': 1694228400, 'main': {'temp': 286.49, 'feels_like': 286.41, 'temp_min': 286.49, 'temp_max': 286.49, 'pressure': 1017, 'sea_level': 1017, 'grnd_level': 1000, 'humidity': 97, 'temp_kf': 0}, 'weather': [{'id': 804, 'main': 'Clouds', 'description': 'overcast clouds', 'icon': '04n'}], 'clouds': {'all': 100}, 'wind': {'speed': 0.92, 'deg': 141, 'gust': 1}, 'visibility': 10000, 'pop': 0, 'sys': {'pod': 'n'}, 'dt_txt': '2023-09-09 03:00:00'}, {'dt': 1694239200, 'main': {'temp': 287.8, 'feels_like': 287.78, 'temp_min': 287.8, 'temp_max': 287.8, 'pressure': 1017, 'sea_level': 1017, 'grnd_level': 1000, 'humidity': 94, 'temp_kf': 0}, 'weather': [{'id': 804, 'main': 'Clouds', 'description': 'overcast clouds', 'icon': '04d'}], 'clouds': {'all': 100}, 'wind': {'speed': 0.85, 'deg': 150, 'gust': 2.31}, 'visibility': 10000, 'pop': 0, 'sys': {'pod': 'd'}, 'dt_txt': '2023-09-09 06:00:00'}, {'dt': 1694250000, 'main': {'temp': 292.65, 'feels_like': 292.59, 'temp_min': 292.65, 'temp_max': 292.65, 'pressure': 1017, 'sea_level': 1017, 'grnd_level': 1000, 'humidity': 74, 'temp_kf': 0}, 'weather': [{'id': 804, 'main': 'Clouds', 'description': 'overcast clouds', 'icon': '04d'}], 'clouds': {'all': 98}, 'wind': {'speed': 2.6, 'deg': 189, 'gust': 5.19}, 'visibility': 10000, 'pop': 0, 'sys': {'pod': 'd'}, 'dt_txt': '2023-09-09 09:00:00'}, {'dt': 1694260800, 'main': {'temp': 294.43, 'feels_like': 294.28, 'temp_min': 294.43, 'temp_max': 294.43, 'pressure': 1015, 'sea_level': 1015, 'grnd_level': 999, 'humidity': 64, 'temp_kf': 0}, 'weather': [{'id': 804, 'main': 'Clouds', 'description': 'overcast clouds', 'icon': '04d'}], 'clouds': {'all': 98}, 'wind': {'speed': 3.62, 'deg': 190, 'gust': 6.19}, 'visibility': 10000, 'pop': 0, 'sys': {'pod': 'd'}, 'dt_txt': '2023-09-09 12:00:00'}, {'dt': 1694271600, 'main': {'temp': 293.38, 'feels_like': 293.29, 'temp_min': 293.38, 'temp_max': 293.38, 'pressure': 1015, 'sea_level': 1015, 'grnd_level': 998, 'humidity': 70, 'temp_kf': 0}, 'weather': [{'id': 803, 'main': 'Clouds', 'description': 'broken clouds', 'icon': '04d'}], 'clouds': {'all': 76}, 'wind': {'speed': 3.82, 'deg': 190, 'gust': 7.07}, 'visibility': 10000, 'pop': 0, 'sys': {'pod': 'd'}, 'dt_txt': '2023-09-09 15:00:00'}, {'dt': 1694282400, 'main': {'temp': 288.67, 'feels_like': 288.68, 'temp_min': 288.67, 'temp_max': 288.67, 'pressure': 1014, 'sea_level': 1014, 'grnd_level': 998, 'humidity': 92, 'temp_kf': 0}, 'weather': [{'id': 802, 'main': 'Clouds', 'description': 'scattered clouds', 'icon': '03n'}], 'clouds': {'all': 41}, 'wind': {'speed': 2.77, 'deg': 174, 'gust': 8.41}, 'visibility': 10000, 'pop': 0, 'sys': {'pod': 'n'}, 'dt_txt': '2023-09-09 18:00:00'}, {'dt': 1694293200, 'main': {'temp': 287.58, 'feels_like': 287.64, 'temp_min': 287.58, 'temp_max': 287.58, 'pressure': 1014, 'sea_level': 1014, 'grnd_level': 997, 'humidity': 98, 'temp_kf': 0}, 'weather': [{'id': 801, 'main': 'Clouds', 'description': 'few clouds', 'icon': '02n'}], 'clouds': {'all': 13}, 'wind': {'speed': 2.29, 'deg': 170, 'gust': 7.06}, 'visibility': 10000, 'pop': 0, 'sys': {'pod': 'n'}, 'dt_txt': '2023-09-09 21:00:00'}, {'dt': 1694304000, 'main': {'temp': 286.78, 'feels_like': 286.78, 'temp_min': 286.78, 'temp_max': 286.78, 'pressure': 1013, 'sea_level': 1013, 'grnd_level': 996, 'humidity': 99, 'temp_kf': 0}, 'weather': [{'id': 802, 'main': 'Clouds', 'description': 'scattered clouds', 'icon': '03n'}], 'clouds': {'all': 25}, 'wind': {'speed': 1.1, 'deg': 176, 'gust': 1.36}, 'visibility': 10000, 'pop': 0, 'sys': {'pod': 'n'}, 'dt_txt': '2023-09-10 00:00:00'}, {'dt': 1694314800, 'main': {'temp': 286.26, 'feels_like': 286.19, 'temp_min': 286.26, 'temp_max': 286.26, 'pressure': 1012, 'sea_level': 1012, 'grnd_level': 995, 'humidity': 98, 'temp_kf': 0}, 'weather': [{'id': 802, 'main': 'Clouds', 'description': 'scattered clouds', 'icon': '03n'}], 'clouds': {'all': 34}, 'wind': {'speed': 0.12, 'deg': 224, 'gust': 0.32}, 'visibility': 10000, 'pop': 0, 'sys': {'pod': 'n'}, 'dt_txt': '2023-09-10 03:00:00'}, {'dt': 1694325600, 'main': {'temp': 287.75, 'feels_like': 287.64, 'temp_min': 287.75, 'temp_max': 287.75, 'pressure': 1012, 'sea_level': 1012, 'grnd_level': 996, 'humidity': 91, 'temp_kf': 0}, 'weather': [{'id': 801, 'main': 'Clouds', 'description': 'few clouds', 'icon': '02d'}], 'clouds': {'all': 20}, 'wind': {'speed': 0.35, 'deg': 278, 'gust': 0.42}, 'visibility': 10000, 'pop': 0, 'sys': {'pod': 'd'}, 'dt_txt': '2023-09-10 06:00:00'}, {'dt': 1694336400, 'main': {'temp': 294.25, 'feels_like': 294.03, 'temp_min': 294.25, 'temp_max': 294.25, 'pressure': 1012, 'sea_level': 1012, 'grnd_level': 996, 'humidity': 62, 'temp_kf': 0}, 'weather': [{'id': 801, 'main': 'Clouds', 'description': 'few clouds', 'icon': '02d'}], 'clouds': {'all': 15}, 'wind': {'speed': 1.26, 'deg': 250, 'gust': 2.43}, 'visibility': 10000, 'pop': 0, 'sys': {'pod': 'd'}, 'dt_txt': '2023-09-10 09:00:00'}, {'dt': 1694347200, 'main': {'temp': 298.05, 'feels_like': 297.82, 'temp_min': 298.05, 'temp_max': 298.05, 'pressure': 1012, 'sea_level': 1012, 'grnd_level': 995, 'humidity': 47, 'temp_kf': 0}, 'weather': [{'id': 801, 'main': 'Clouds', 'description': 'few clouds', 'icon': '02d'}], 'clouds': {'all': 14}, 'wind': {'speed': 2.51, 'deg': 238, 'gust': 4.12}, 'visibility': 10000, 'pop': 0, 'sys': {'pod': 'd'}, 'dt_txt': '2023-09-10 12:00:00'}, {'dt': 1694358000, 'main': {'temp': 296.41, 'feels_like': 296.28, 'temp_min': 296.41, 'temp_max': 296.41, 'pressure': 1011, 'sea_level': 1011, 'grnd_level': 995, 'humidity': 57, 'temp_kf': 0}, 'weather': [{'id': 804, 'main': 'Clouds', 'description': 'overcast clouds', 'icon': '04d'}], 'clouds': {'all': 88}, 'wind': {'speed': 2.69, 'deg': 187, 'gust': 4.49}, 'visibility': 10000, 'pop': 0, 'sys': {'pod': 'd'}, 'dt_txt': '2023-09-10 15:00:00'}, {'dt': 1694368800, 'main': {'temp': 291.18, 'feels_like': 291.08, 'temp_min': 291.18, 'temp_max': 291.18, 'pressure': 1011, 'sea_level': 1011, 'grnd_level': 995, 'humidity': 78, 'temp_kf': 0}, 'weather': [{'id': 804, 'main': 'Clouds', 'description': 'overcast clouds', 'icon': '04n'}], 'clouds': {'all': 94}, 'wind': {'speed': 1.88, 'deg': 196, 'gust': 2.37}, 'visibility': 10000, 'pop': 0, 'sys': {'pod': 'n'}, 'dt_txt': '2023-09-10 18:00:00'}, {'dt': 1694379600, 'main': {'temp': 289.74, 'feels_like': 289.49, 'temp_min': 289.74, 'temp_max': 289.74, 'pressure': 1011, 'sea_level': 1011, 'grnd_level': 995, 'humidity': 78, 'temp_kf': 0}, 'weather': [{'id': 804, 'main': 'Clouds', 'description': 'overcast clouds', 'icon': '04n'}], 'clouds': {'all': 92}, 'wind': {'speed': 1.29, 'deg': 217, 'gust': 1.65}, 'visibility': 10000, 'pop': 0, 'sys': {'pod': 'n'}, 'dt_txt': '2023-09-10 21:00:00'}, {'dt': 1694390400, 'main': {'temp': 288.4, 'feels_like': 288.12, 'temp_min': 288.4, 'temp_max': 288.4, 'pressure': 1010, 'sea_level': 1010, 'grnd_level': 994, 'humidity': 82, 'temp_kf': 0}, 'weather': [{'id': 803, 'main': 'Clouds', 'description': 'broken clouds', 'icon': '04n'}], 'clouds': {'all': 65}, 'wind': {'speed': 1.12, 'deg': 206, 'gust': 1.68}, 'visibility': 10000, 'pop': 0, 'sys': {'pod': 'n'}, 'dt_txt': '2023-09-11 00:00:00'}, {'dt': 1694401200, 'main': {'temp': 287.46, 'feels_like': 287.17, 'temp_min': 287.46, 'temp_max': 287.46, 'pressure': 1011, 'sea_level': 1011, 'grnd_level': 994, 'humidity': 85, 'temp_kf': 0}, 'weather': [{'id': 802, 'main': 'Clouds', 'description': 'scattered clouds', 'icon': '03n'}], 'clouds': {'all': 41}, 'wind': {'speed': 0.59, 'deg': 212, 'gust': 0.66}, 'visibility': 10000, 'pop': 0, 'sys': {'pod': 'n'}, 'dt_txt': '2023-09-11 03:00:00'}, {'dt': 1694412000, 'main': {'temp': 288.82, 'feels_like': 288.53, 'temp_min': 288.82, 'temp_max': 288.82, 'pressure': 1012, 'sea_level': 1012, 'grnd_level': 995, 'humidity': 80, 'temp_kf': 0}, 'weather': [{'id': 802, 'main': 'Clouds', 'description': 'scattered clouds', 'icon': '03d'}], 'clouds': {'all': 31}, 'wind': {'speed': 0.51, 'deg': 285, 'gust': 0.58}, 'visibility': 10000, 'pop': 0, 'sys': {'pod': 'd'}, 'dt_txt': '2023-09-11 06:00:00'}, {'dt': 1694422800, 'main': {'temp': 293.36, 'feels_like': 292.98, 'temp_min': 293.36, 'temp_max': 293.36, 'pressure': 1014, 'sea_level': 1014, 'grnd_level': 997, 'humidity': 59, 'temp_kf': 0}, 'weather': [{'id': 801, 'main': 'Clouds', 'description': 'few clouds', 'icon': '02d'}], 'clouds': {'all': 18}, 'wind': {'speed': 3.39, 'deg': 34, 'gust': 5.14}, 'visibility': 10000, 'pop': 0, 'sys': {'pod': 'd'}, 'dt_txt': '2023-09-11 09:00:00'}], 'city': {'id': 3139081, 'name': 'Ski', 'coord': {'lat': 59.7195, 'lon': 10.8358}, 'country': 'NO', 'population': 12513, 'timezone': 7200, 'sunrise': 1693974187, 'sunset': 1694023660}}\n"
     ]
    }
   ],
   "source": [
    "responseF = requests.get(urlF).json()\n",
    "print(responseF)"
   ]
  },
  {
   "cell_type": "code",
   "execution_count": 11,
   "metadata": {
    "slideshow": {
     "slide_type": "slide"
    }
   },
   "outputs": [],
   "source": [
    "# Write JSON to file for viewing\n",
    "with open('downloads/forecast.json', 'w') as f:\n",
    "    json.dump(responseF, f, indent=4)"
   ]
  },
  {
   "cell_type": "markdown",
   "metadata": {
    "slideshow": {
     "slide_type": "slide"
    }
   },
   "source": [
    "### When and what?\n",
    "Check contents and time stamps"
   ]
  },
  {
   "cell_type": "code",
   "execution_count": 12,
   "metadata": {
    "slideshow": {
     "slide_type": "-"
    }
   },
   "outputs": [
    {
     "data": {
      "text/plain": [
       "dict_keys(['cod', 'message', 'cnt', 'list', 'city'])"
      ]
     },
     "execution_count": 12,
     "metadata": {},
     "output_type": "execute_result"
    }
   ],
   "source": [
    "# Content of responseF\n",
    "responseF.keys()"
   ]
  },
  {
   "cell_type": "code",
   "execution_count": 13,
   "metadata": {
    "slideshow": {
     "slide_type": "fragment"
    }
   },
   "outputs": [
    {
     "name": "stdout",
     "output_type": "stream",
     "text": [
      "40\n"
     ]
    }
   ],
   "source": [
    "# Number of forecasts\n",
    "print(len(responseF[\"list\"]))"
   ]
  },
  {
   "cell_type": "code",
   "execution_count": 14,
   "metadata": {
    "slideshow": {
     "slide_type": "slide"
    }
   },
   "outputs": [
    {
     "name": "stdout",
     "output_type": "stream",
     "text": [
      "2023-09-06 12:00:00\n",
      "2023-09-06 15:00:00\n",
      "2023-09-06 18:00:00\n",
      "2023-09-06 21:00:00\n",
      "2023-09-07 00:00:00\n",
      "2023-09-07 03:00:00\n",
      "2023-09-07 06:00:00\n",
      "2023-09-07 09:00:00\n",
      "2023-09-07 12:00:00\n",
      "2023-09-07 15:00:00\n",
      "2023-09-07 18:00:00\n",
      "2023-09-07 21:00:00\n",
      "2023-09-08 00:00:00\n",
      "2023-09-08 03:00:00\n",
      "2023-09-08 06:00:00\n",
      "2023-09-08 09:00:00\n",
      "2023-09-08 12:00:00\n",
      "2023-09-08 15:00:00\n",
      "2023-09-08 18:00:00\n",
      "2023-09-08 21:00:00\n",
      "2023-09-09 00:00:00\n",
      "2023-09-09 03:00:00\n",
      "2023-09-09 06:00:00\n",
      "2023-09-09 09:00:00\n",
      "2023-09-09 12:00:00\n",
      "2023-09-09 15:00:00\n",
      "2023-09-09 18:00:00\n",
      "2023-09-09 21:00:00\n",
      "2023-09-10 00:00:00\n",
      "2023-09-10 03:00:00\n",
      "2023-09-10 06:00:00\n",
      "2023-09-10 09:00:00\n",
      "2023-09-10 12:00:00\n",
      "2023-09-10 15:00:00\n",
      "2023-09-10 18:00:00\n",
      "2023-09-10 21:00:00\n",
      "2023-09-11 00:00:00\n",
      "2023-09-11 03:00:00\n",
      "2023-09-11 06:00:00\n",
      "2023-09-11 09:00:00\n"
     ]
    }
   ],
   "source": [
    "# Print forecast times\n",
    "for forecast in responseF[\"list\"]:\n",
    "    print(forecast[\"dt_txt\"])"
   ]
  },
  {
   "cell_type": "markdown",
   "metadata": {
    "slideshow": {
     "slide_type": "slide"
    }
   },
   "source": [
    "## Make plots of omnipresent measurements and events\n",
    "We will later look at missing data, data only sporadically appearing and so on."
   ]
  },
  {
   "cell_type": "code",
   "execution_count": 15,
   "metadata": {
    "slideshow": {
     "slide_type": "-"
    }
   },
   "outputs": [],
   "source": [
    "# Air pressure per period\n",
    "pressures = []\n",
    "timestamps = []\n",
    "for forecast in responseF[\"list\"]:\n",
    "    pressures.append(forecast[\"main\"][\"pressure\"])\n",
    "    timestamps.append(dt.datetime.fromtimestamp(forecast[\"dt\"]))"
   ]
  },
  {
   "cell_type": "code",
   "execution_count": 16,
   "metadata": {
    "slideshow": {
     "slide_type": "slide"
    }
   },
   "outputs": [
    {
     "data": {
      "image/png": "[encoded data removed]",
      "text/plain": [
       "<Figure size 640x480 with 1 Axes>"
      ]
     },
     "metadata": {},
     "output_type": "display_data"
    }
   ],
   "source": [
    "import matplotlib.pyplot as plt\n",
    "plt.bar(timestamps, pressures)\n",
    "plt.xticks(rotation=45)\n",
    "plt.ylim(950, 1050)\n",
    "plt.grid()\n",
    "plt.ylabel(\"Air pressure (hPa)\")\n",
    "plt.title(f\"Forecasted air pressure in {CITY}\")\n",
    "plt.show()"
   ]
  },
  {
   "cell_type": "markdown",
   "metadata": {
    "slideshow": {
     "slide_type": "slide"
    }
   },
   "source": [
    "### Precipitation\n",
    "- ... comes in two main flavours: rain and snow.\n",
    "- We need to check which is present and set to zero if it is abscent."
   ]
  },
  {
   "cell_type": "code",
   "execution_count": 17,
   "metadata": {
    "slideshow": {
     "slide_type": "-"
    }
   },
   "outputs": [],
   "source": [
    "rain = []\n",
    "snow = []\n",
    "for forecast in responseF[\"list\"]:\n",
    "    try: # Check if rain is present in forecast\n",
    "        rain.append(forecast[\"rain\"][\"3h\"])\n",
    "    except KeyError:\n",
    "        rain.append(0)\n",
    "    try: # Check if snow is present in forecast\n",
    "        snow.append(forecast[\"snow\"][\"3h\"])\n",
    "    except KeyError:\n",
    "        snow.append(0)"
   ]
  },
  {
   "cell_type": "code",
   "execution_count": 18,
   "metadata": {
    "slideshow": {
     "slide_type": "slide"
    }
   },
   "outputs": [
    {
     "data": {
      "image/png": "[encoded data removed]",
      "text/plain": [
       "<Figure size 640x480 with 1 Axes>"
      ]
     },
     "metadata": {},
     "output_type": "display_data"
    }
   ],
   "source": [
    "# Stacked bar chart with rain and snow\n",
    "plt.bar(timestamps, rain, label=\"Rain\")\n",
    "plt.bar(timestamps, snow, label=\"Snow\")\n",
    "plt.xticks(rotation=45)\n",
    "plt.grid()\n",
    "plt.ylabel(\"Precipitation (mm)\")\n",
    "plt.title(f\"Forecasted precipitation in {CITY}\")\n",
    "plt.legend()\n",
    "plt.show()\n"
   ]
  },
  {
   "cell_type": "markdown",
   "metadata": {},
   "source": [
    "## Resources\n",
    "- [NeuralNine's video](https://www.youtube.com/watch?v=9P5MY_2i7K8)"
   ]
  }
 ],
 "metadata": {
  "celltoolbar": "Slideshow",
  "kernelspec": {
   "display_name": "Python 3 (ipykernel)",
   "language": "python",
   "name": "python3"
  },
  "language_info": {
   "codemirror_mode": {
    "name": "ipython",
    "version": 3
   },
   "file_extension": ".py",
   "mimetype": "text/x-python",
   "name": "python",
   "nbconvert_exporter": "python",
   "pygments_lexer": "ipython3",
   "version": "3.10.6"
  }
 },
 "nbformat": 4,
 "nbformat_minor": 2
}