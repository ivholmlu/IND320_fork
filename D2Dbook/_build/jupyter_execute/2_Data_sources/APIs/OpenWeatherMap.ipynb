{
 "cells": [
  {
   "cell_type": "markdown",
   "metadata": {
    "slideshow": {
     "slide_type": "slide"
    }
   },
   "source": [
    "# Demonstration of API using OpenWeatherMap.org\n",
    "This demonstration is heavily inspired by [NeuralNine's video](https://www.youtube.com/watch?v=9P5MY_2i7K8).  \n",
    "You need a free account [from here](https://openweathermap.org/api).  \n",
    "The VS Code extension _JSON viewer_ is recommended for viewing downloaded JSON content.  \n",
    "  - Set your maximum API calls to 1000 per day to make sure you are under the limit for billing. \n",
    "  - To run the examples, download your API key, save it in the right folder (see below) in a file called _api\\_key\\_OpenWeather_, containing only the key (no spaces or \"enters\")."
   ]
  },
  {
   "cell_type": "code",
   "execution_count": 1,
   "metadata": {
    "slideshow": {
     "slide_type": "fragment"
    }
   },
   "outputs": [],
   "source": [
    "# Imports\n",
    "import datetime as dt\n",
    "import requests\n",
    "import json"
   ]
  },
  {
   "cell_type": "markdown",
   "metadata": {
    "slideshow": {
     "slide_type": "slide"
    }
   },
   "source": [
    "## Current weather\n",
    "### Common definitions to use for all requests"
   ]
  },
  {
   "cell_type": "code",
   "execution_count": 2,
   "metadata": {
    "slideshow": {
     "slide_type": "-"
    }
   },
   "outputs": [],
   "source": [
    "BASE_URL = \"http://api.openweathermap.org/data/2.5/weather?\"\n",
    "API_KEY = open('../../../No_sync/api_key_OpenWeather','r').read()\n",
    "CITY = \"Ski\"\n",
    "\n",
    "url = BASE_URL + \"q=\" + CITY + \"&appid=\" + API_KEY"
   ]
  },
  {
   "cell_type": "markdown",
   "metadata": {
    "slideshow": {
     "slide_type": "slide"
    }
   },
   "source": [
    "## Request current weather in chosen city"
   ]
  },
  {
   "cell_type": "code",
   "execution_count": 3,
   "metadata": {
    "slideshow": {
     "slide_type": "fragment"
    }
   },
   "outputs": [
    {
     "name": "stdout",
     "output_type": "stream",
     "text": [
      "{'coord': {'lon': 10.8358, 'lat': 59.7195}, 'weather': [{'id': 804, 'main': 'Clouds', 'description': 'overcast clouds', 'icon': '04d'}], 'base': 'stations', 'main': {'temp': 284.69, 'feels_like': 284.43, 'temp_min': 284.14, 'temp_max': 285.57, 'pressure': 1015, 'humidity': 97, 'sea_level': 1015, 'grnd_level': 998}, 'visibility': 10000, 'wind': {'speed': 1.68, 'deg': 86, 'gust': 3.04}, 'clouds': {'all': 100}, 'dt': 1695878816, 'sys': {'type': 2, 'id': 2006772, 'country': 'NO', 'sunrise': 1695878026, 'sunset': 1695920465}, 'timezone': 7200, 'id': 3139081, 'name': 'Ski', 'cod': 200}\n"
     ]
    }
   ],
   "source": [
    "response = requests.get(url).json()\n",
    "print(response)"
   ]
  },
  {
   "cell_type": "code",
   "execution_count": 4,
   "metadata": {
    "slideshow": {
     "slide_type": "fragment"
    }
   },
   "outputs": [],
   "source": [
    "# Write JSON to file for viewing\n",
    "with open('downloads/weather.json', 'w') as f:\n",
    "    json.dump(response, f, indent=4)"
   ]
  },
  {
   "cell_type": "markdown",
   "metadata": {
    "slideshow": {
     "slide_type": "slide"
    }
   },
   "source": [
    "## Conversion functions\n",
    "Changing scales can make results more interpretable"
   ]
  },
  {
   "cell_type": "code",
   "execution_count": 5,
   "metadata": {
    "slideshow": {
     "slide_type": "-"
    }
   },
   "outputs": [],
   "source": [
    "# Kelvin to Celsius\n",
    "def kelvin_to_celsius(temp):\n",
    "    return temp - 273.15\n",
    "\n",
    "# Meters per second to knots\n",
    "def mps_to_knots(speed):\n",
    "    return speed * 1.943844"
   ]
  },
  {
   "cell_type": "markdown",
   "metadata": {
    "slideshow": {
     "slide_type": "slide"
    }
   },
   "source": [
    "## Print some weather properties"
   ]
  },
  {
   "cell_type": "code",
   "execution_count": 6,
   "metadata": {
    "slideshow": {
     "slide_type": "-"
    }
   },
   "outputs": [
    {
     "name": "stdout",
     "output_type": "stream",
     "text": [
      "The current temperature in Ski is 11.54°C\n"
     ]
    }
   ],
   "source": [
    "# Current temperature\n",
    "temp_kelvin = response['main']['temp']\n",
    "temp_celsius = kelvin_to_celsius(temp_kelvin)\n",
    "print(f\"The current temperature in {CITY} is {temp_celsius:.2f}°C\")"
   ]
  },
  {
   "cell_type": "code",
   "execution_count": 7,
   "metadata": {
    "slideshow": {
     "slide_type": "slide"
    }
   },
   "outputs": [
    {
     "name": "stdout",
     "output_type": "stream",
     "text": [
      "Sunrise today is at 07:13 and sunset is at 19:01\n"
     ]
    }
   ],
   "source": [
    "# Sunrise and sunset today in local time\n",
    "sunrise = dt.datetime.fromtimestamp(response['sys']['sunrise'])\n",
    "sunset = dt.datetime.fromtimestamp(response['sys']['sunset'])\n",
    "print(f\"Sunrise today is at {sunrise:%H:%M} and sunset is at {sunset:%H:%M}\")"
   ]
  },
  {
   "cell_type": "code",
   "execution_count": 8,
   "metadata": {
    "slideshow": {
     "slide_type": "fragment"
    }
   },
   "outputs": [
    {
     "name": "stdout",
     "output_type": "stream",
     "text": [
      "Wind today is from 86° at 3.3 knots\n"
     ]
    }
   ],
   "source": [
    "# Wind direction and speed\n",
    "wind_knots = mps_to_knots(response['wind']['speed'])\n",
    "print(f\"Wind today is from {response['wind']['deg']}° at {round(wind_knots,1)} knots\")"
   ]
  },
  {
   "cell_type": "markdown",
   "metadata": {
    "slideshow": {
     "slide_type": "slide"
    }
   },
   "source": [
    "## Forecasted weather\n",
    "### Common definitions to use for all requests"
   ]
  },
  {
   "cell_type": "code",
   "execution_count": 9,
   "metadata": {
    "slideshow": {
     "slide_type": "-"
    }
   },
   "outputs": [],
   "source": [
    "BASE_URL = \"http://api.openweathermap.org/data/2.5/forecast?\"\n",
    "CITY = \"Ski\"\n",
    "\n",
    "urlF = BASE_URL + \"q=\" + CITY + \"&appid=\" + API_KEY"
   ]
  },
  {
   "cell_type": "markdown",
   "metadata": {
    "slideshow": {
     "slide_type": "slide"
    }
   },
   "source": [
    "## Request current weather in chosen city"
   ]
  },
  {
   "cell_type": "code",
   "execution_count": 10,
   "metadata": {
    "slideshow": {
     "slide_type": "-"
    }
   },
   "outputs": [
    {
     "name": "stdout",
     "output_type": "stream",
     "text": [
      "{'cod': '200', 'message': 0, 'cnt': 40, 'list': [{'dt': 1695880800, 'main': {'temp': 284.69, 'feels_like': 284.43, 'temp_min': 283.87, 'temp_max': 284.69, 'pressure': 1015, 'sea_level': 1015, 'grnd_level': 998, 'humidity': 97, 'temp_kf': 0.82}, 'weather': [{'id': 804, 'main': 'Clouds', 'description': 'overcast clouds', 'icon': '04d'}], 'clouds': {'all': 100}, 'wind': {'speed': 2.08, 'deg': 92, 'gust': 8.34}, 'visibility': 10000, 'pop': 0, 'sys': {'pod': 'd'}, 'dt_txt': '2023-09-28 06:00:00'}, {'dt': 1695891600, 'main': {'temp': 285.56, 'feels_like': 285.28, 'temp_min': 285.56, 'temp_max': 287.3, 'pressure': 1014, 'sea_level': 1014, 'grnd_level': 996, 'humidity': 93, 'temp_kf': -1.74}, 'weather': [{'id': 804, 'main': 'Clouds', 'description': 'overcast clouds', 'icon': '04d'}], 'clouds': {'all': 100}, 'wind': {'speed': 3.25, 'deg': 119, 'gust': 8.56}, 'visibility': 10000, 'pop': 0.04, 'sys': {'pod': 'd'}, 'dt_txt': '2023-09-28 09:00:00'}, {'dt': 1695902400, 'main': {'temp': 288.11, 'feels_like': 287.91, 'temp_min': 288.11, 'temp_max': 289.82, 'pressure': 1012, 'sea_level': 1012, 'grnd_level': 994, 'humidity': 86, 'temp_kf': -1.71}, 'weather': [{'id': 804, 'main': 'Clouds', 'description': 'overcast clouds', 'icon': '04d'}], 'clouds': {'all': 98}, 'wind': {'speed': 4.33, 'deg': 168, 'gust': 9.62}, 'visibility': 10000, 'pop': 0.07, 'sys': {'pod': 'd'}, 'dt_txt': '2023-09-28 12:00:00'}, {'dt': 1695913200, 'main': {'temp': 288.13, 'feels_like': 288.19, 'temp_min': 288.13, 'temp_max': 288.13, 'pressure': 1009, 'sea_level': 1009, 'grnd_level': 992, 'humidity': 96, 'temp_kf': 0}, 'weather': [{'id': 500, 'main': 'Rain', 'description': 'light rain', 'icon': '10d'}], 'clouds': {'all': 100}, 'wind': {'speed': 3.81, 'deg': 178, 'gust': 10.37}, 'visibility': 10000, 'pop': 0.32, 'rain': {'3h': 0.18}, 'sys': {'pod': 'd'}, 'dt_txt': '2023-09-28 15:00:00'}, {'dt': 1695924000, 'main': {'temp': 286.89, 'feels_like': 286.77, 'temp_min': 286.89, 'temp_max': 286.89, 'pressure': 1010, 'sea_level': 1010, 'grnd_level': 993, 'humidity': 94, 'temp_kf': 0}, 'weather': [{'id': 500, 'main': 'Rain', 'description': 'light rain', 'icon': '10n'}], 'clouds': {'all': 92}, 'wind': {'speed': 3.82, 'deg': 186, 'gust': 10.72}, 'visibility': 10000, 'pop': 0.35, 'rain': {'3h': 0.13}, 'sys': {'pod': 'n'}, 'dt_txt': '2023-09-28 18:00:00'}, {'dt': 1695934800, 'main': {'temp': 286.08, 'feels_like': 285.88, 'temp_min': 286.08, 'temp_max': 286.08, 'pressure': 1010, 'sea_level': 1010, 'grnd_level': 993, 'humidity': 94, 'temp_kf': 0}, 'weather': [{'id': 804, 'main': 'Clouds', 'description': 'overcast clouds', 'icon': '04n'}], 'clouds': {'all': 99}, 'wind': {'speed': 3.69, 'deg': 185, 'gust': 10.54}, 'visibility': 10000, 'pop': 0, 'sys': {'pod': 'n'}, 'dt_txt': '2023-09-28 21:00:00'}, {'dt': 1695945600, 'main': {'temp': 286.01, 'feels_like': 285.75, 'temp_min': 286.01, 'temp_max': 286.01, 'pressure': 1010, 'sea_level': 1010, 'grnd_level': 993, 'humidity': 92, 'temp_kf': 0}, 'weather': [{'id': 804, 'main': 'Clouds', 'description': 'overcast clouds', 'icon': '04n'}], 'clouds': {'all': 100}, 'wind': {'speed': 5.19, 'deg': 194, 'gust': 12.35}, 'visibility': 10000, 'pop': 0, 'sys': {'pod': 'n'}, 'dt_txt': '2023-09-29 00:00:00'}, {'dt': 1695956400, 'main': {'temp': 284.99, 'feels_like': 284.55, 'temp_min': 284.99, 'temp_max': 284.99, 'pressure': 1009, 'sea_level': 1009, 'grnd_level': 992, 'humidity': 89, 'temp_kf': 0}, 'weather': [{'id': 804, 'main': 'Clouds', 'description': 'overcast clouds', 'icon': '04n'}], 'clouds': {'all': 99}, 'wind': {'speed': 4.69, 'deg': 199, 'gust': 12.59}, 'visibility': 10000, 'pop': 0, 'sys': {'pod': 'n'}, 'dt_txt': '2023-09-29 03:00:00'}, {'dt': 1695967200, 'main': {'temp': 285.26, 'feels_like': 284.67, 'temp_min': 285.26, 'temp_max': 285.26, 'pressure': 1009, 'sea_level': 1009, 'grnd_level': 992, 'humidity': 82, 'temp_kf': 0}, 'weather': [{'id': 804, 'main': 'Clouds', 'description': 'overcast clouds', 'icon': '04d'}], 'clouds': {'all': 100}, 'wind': {'speed': 4.66, 'deg': 204, 'gust': 12.43}, 'visibility': 10000, 'pop': 0, 'sys': {'pod': 'd'}, 'dt_txt': '2023-09-29 06:00:00'}, {'dt': 1695978000, 'main': {'temp': 286.98, 'feels_like': 286.51, 'temp_min': 286.98, 'temp_max': 286.98, 'pressure': 1009, 'sea_level': 1009, 'grnd_level': 992, 'humidity': 80, 'temp_kf': 0}, 'weather': [{'id': 804, 'main': 'Clouds', 'description': 'overcast clouds', 'icon': '04d'}], 'clouds': {'all': 100}, 'wind': {'speed': 4.24, 'deg': 198, 'gust': 9.89}, 'visibility': 10000, 'pop': 0.14, 'sys': {'pod': 'd'}, 'dt_txt': '2023-09-29 09:00:00'}, {'dt': 1695988800, 'main': {'temp': 285.53, 'feels_like': 285.02, 'temp_min': 285.53, 'temp_max': 285.53, 'pressure': 1008, 'sea_level': 1008, 'grnd_level': 992, 'humidity': 84, 'temp_kf': 0}, 'weather': [{'id': 804, 'main': 'Clouds', 'description': 'overcast clouds', 'icon': '04d'}], 'clouds': {'all': 100}, 'wind': {'speed': 3.55, 'deg': 196, 'gust': 10.06}, 'visibility': 10000, 'pop': 0.1, 'sys': {'pod': 'd'}, 'dt_txt': '2023-09-29 12:00:00'}, {'dt': 1695999600, 'main': {'temp': 286.68, 'feels_like': 286.31, 'temp_min': 286.68, 'temp_max': 286.68, 'pressure': 1007, 'sea_level': 1007, 'grnd_level': 990, 'humidity': 85, 'temp_kf': 0}, 'weather': [{'id': 804, 'main': 'Clouds', 'description': 'overcast clouds', 'icon': '04d'}], 'clouds': {'all': 93}, 'wind': {'speed': 3.93, 'deg': 201, 'gust': 8.58}, 'visibility': 10000, 'pop': 0.12, 'sys': {'pod': 'd'}, 'dt_txt': '2023-09-29 15:00:00'}, {'dt': 1696010400, 'main': {'temp': 284.53, 'feels_like': 284.23, 'temp_min': 284.53, 'temp_max': 284.53, 'pressure': 1007, 'sea_level': 1007, 'grnd_level': 990, 'humidity': 96, 'temp_kf': 0}, 'weather': [{'id': 804, 'main': 'Clouds', 'description': 'overcast clouds', 'icon': '04n'}], 'clouds': {'all': 96}, 'wind': {'speed': 3.07, 'deg': 188, 'gust': 10.14}, 'visibility': 10000, 'pop': 0.11, 'sys': {'pod': 'n'}, 'dt_txt': '2023-09-29 18:00:00'}, {'dt': 1696021200, 'main': {'temp': 283.51, 'feels_like': 283.08, 'temp_min': 283.51, 'temp_max': 283.51, 'pressure': 1007, 'sea_level': 1007, 'grnd_level': 990, 'humidity': 95, 'temp_kf': 0}, 'weather': [{'id': 803, 'main': 'Clouds', 'description': 'broken clouds', 'icon': '04n'}], 'clouds': {'all': 60}, 'wind': {'speed': 2.34, 'deg': 213, 'gust': 5.45}, 'visibility': 10000, 'pop': 0, 'sys': {'pod': 'n'}, 'dt_txt': '2023-09-29 21:00:00'}, {'dt': 1696032000, 'main': {'temp': 282.48, 'feels_like': 280.56, 'temp_min': 282.48, 'temp_max': 282.48, 'pressure': 1008, 'sea_level': 1008, 'grnd_level': 991, 'humidity': 83, 'temp_kf': 0}, 'weather': [{'id': 802, 'main': 'Clouds', 'description': 'scattered clouds', 'icon': '03n'}], 'clouds': {'all': 31}, 'wind': {'speed': 3.53, 'deg': 230, 'gust': 10.98}, 'visibility': 10000, 'pop': 0, 'sys': {'pod': 'n'}, 'dt_txt': '2023-09-30 00:00:00'}, {'dt': 1696042800, 'main': {'temp': 282.88, 'feels_like': 280.76, 'temp_min': 282.88, 'temp_max': 282.88, 'pressure': 1008, 'sea_level': 1008, 'grnd_level': 991, 'humidity': 73, 'temp_kf': 0}, 'weather': [{'id': 801, 'main': 'Clouds', 'description': 'few clouds', 'icon': '02n'}], 'clouds': {'all': 13}, 'wind': {'speed': 4.13, 'deg': 222, 'gust': 11.46}, 'visibility': 10000, 'pop': 0, 'sys': {'pod': 'n'}, 'dt_txt': '2023-09-30 03:00:00'}, {'dt': 1696053600, 'main': {'temp': 282.29, 'feels_like': 280.35, 'temp_min': 282.29, 'temp_max': 282.29, 'pressure': 1009, 'sea_level': 1009, 'grnd_level': 992, 'humidity': 79, 'temp_kf': 0}, 'weather': [{'id': 800, 'main': 'Clear', 'description': 'clear sky', 'icon': '01d'}], 'clouds': {'all': 9}, 'wind': {'speed': 3.49, 'deg': 221, 'gust': 8.99}, 'visibility': 10000, 'pop': 0, 'sys': {'pod': 'd'}, 'dt_txt': '2023-09-30 06:00:00'}, {'dt': 1696064400, 'main': {'temp': 286.75, 'feels_like': 285.78, 'temp_min': 286.75, 'temp_max': 286.75, 'pressure': 1010, 'sea_level': 1010, 'grnd_level': 994, 'humidity': 62, 'temp_kf': 0}, 'weather': [{'id': 801, 'main': 'Clouds', 'description': 'few clouds', 'icon': '02d'}], 'clouds': {'all': 12}, 'wind': {'speed': 5.13, 'deg': 230, 'gust': 9.51}, 'visibility': 10000, 'pop': 0, 'sys': {'pod': 'd'}, 'dt_txt': '2023-09-30 09:00:00'}, {'dt': 1696075200, 'main': {'temp': 289.33, 'feels_like': 288.2, 'temp_min': 289.33, 'temp_max': 289.33, 'pressure': 1011, 'sea_level': 1011, 'grnd_level': 995, 'humidity': 46, 'temp_kf': 0}, 'weather': [{'id': 800, 'main': 'Clear', 'description': 'clear sky', 'icon': '01d'}], 'clouds': {'all': 7}, 'wind': {'speed': 4.93, 'deg': 265, 'gust': 8.62}, 'visibility': 10000, 'pop': 0, 'sys': {'pod': 'd'}, 'dt_txt': '2023-09-30 12:00:00'}, {'dt': 1696086000, 'main': {'temp': 288.14, 'feels_like': 287, 'temp_min': 288.14, 'temp_max': 288.14, 'pressure': 1012, 'sea_level': 1012, 'grnd_level': 995, 'humidity': 50, 'temp_kf': 0}, 'weather': [{'id': 800, 'main': 'Clear', 'description': 'clear sky', 'icon': '01d'}], 'clouds': {'all': 0}, 'wind': {'speed': 4.5, 'deg': 276, 'gust': 9.03}, 'visibility': 10000, 'pop': 0, 'sys': {'pod': 'd'}, 'dt_txt': '2023-09-30 15:00:00'}, {'dt': 1696096800, 'main': {'temp': 282.89, 'feels_like': 282.89, 'temp_min': 282.89, 'temp_max': 282.89, 'pressure': 1013, 'sea_level': 1013, 'grnd_level': 996, 'humidity': 67, 'temp_kf': 0}, 'weather': [{'id': 801, 'main': 'Clouds', 'description': 'few clouds', 'icon': '02n'}], 'clouds': {'all': 23}, 'wind': {'speed': 1.16, 'deg': 274, 'gust': 1.31}, 'visibility': 10000, 'pop': 0, 'sys': {'pod': 'n'}, 'dt_txt': '2023-09-30 18:00:00'}, {'dt': 1696107600, 'main': {'temp': 281.23, 'feels_like': 281.23, 'temp_min': 281.23, 'temp_max': 281.23, 'pressure': 1014, 'sea_level': 1014, 'grnd_level': 997, 'humidity': 73, 'temp_kf': 0}, 'weather': [{'id': 804, 'main': 'Clouds', 'description': 'overcast clouds', 'icon': '04n'}], 'clouds': {'all': 88}, 'wind': {'speed': 0.93, 'deg': 260, 'gust': 0.93}, 'visibility': 10000, 'pop': 0, 'sys': {'pod': 'n'}, 'dt_txt': '2023-09-30 21:00:00'}, {'dt': 1696118400, 'main': {'temp': 279.78, 'feels_like': 279.78, 'temp_min': 279.78, 'temp_max': 279.78, 'pressure': 1014, 'sea_level': 1014, 'grnd_level': 997, 'humidity': 78, 'temp_kf': 0}, 'weather': [{'id': 803, 'main': 'Clouds', 'description': 'broken clouds', 'icon': '04n'}], 'clouds': {'all': 57}, 'wind': {'speed': 1.03, 'deg': 330, 'gust': 1}, 'visibility': 10000, 'pop': 0, 'sys': {'pod': 'n'}, 'dt_txt': '2023-10-01 00:00:00'}, {'dt': 1696129200, 'main': {'temp': 278.91, 'feels_like': 278.16, 'temp_min': 278.91, 'temp_max': 278.91, 'pressure': 1014, 'sea_level': 1014, 'grnd_level': 997, 'humidity': 82, 'temp_kf': 0}, 'weather': [{'id': 801, 'main': 'Clouds', 'description': 'few clouds', 'icon': '02n'}], 'clouds': {'all': 17}, 'wind': {'speed': 1.35, 'deg': 342, 'gust': 1.34}, 'visibility': 10000, 'pop': 0, 'sys': {'pod': 'n'}, 'dt_txt': '2023-10-01 03:00:00'}, {'dt': 1696140000, 'main': {'temp': 278.54, 'feels_like': 277.63, 'temp_min': 278.54, 'temp_max': 278.54, 'pressure': 1015, 'sea_level': 1015, 'grnd_level': 997, 'humidity': 83, 'temp_kf': 0}, 'weather': [{'id': 801, 'main': 'Clouds', 'description': 'few clouds', 'icon': '02d'}], 'clouds': {'all': 14}, 'wind': {'speed': 1.43, 'deg': 2, 'gust': 1.43}, 'visibility': 10000, 'pop': 0, 'sys': {'pod': 'd'}, 'dt_txt': '2023-10-01 06:00:00'}, {'dt': 1696150800, 'main': {'temp': 283.72, 'feels_like': 282.45, 'temp_min': 283.72, 'temp_max': 283.72, 'pressure': 1014, 'sea_level': 1014, 'grnd_level': 998, 'humidity': 62, 'temp_kf': 0}, 'weather': [{'id': 803, 'main': 'Clouds', 'description': 'broken clouds', 'icon': '04d'}], 'clouds': {'all': 53}, 'wind': {'speed': 0.7, 'deg': 13, 'gust': 0.83}, 'visibility': 10000, 'pop': 0, 'sys': {'pod': 'd'}, 'dt_txt': '2023-10-01 09:00:00'}, {'dt': 1696161600, 'main': {'temp': 286.23, 'feels_like': 284.95, 'temp_min': 286.23, 'temp_max': 286.23, 'pressure': 1014, 'sea_level': 1014, 'grnd_level': 997, 'humidity': 52, 'temp_kf': 0}, 'weather': [{'id': 803, 'main': 'Clouds', 'description': 'broken clouds', 'icon': '04d'}], 'clouds': {'all': 63}, 'wind': {'speed': 2.06, 'deg': 200, 'gust': 3.18}, 'visibility': 10000, 'pop': 0, 'sys': {'pod': 'd'}, 'dt_txt': '2023-10-01 12:00:00'}, {'dt': 1696172400, 'main': {'temp': 284.79, 'feels_like': 283.68, 'temp_min': 284.79, 'temp_max': 284.79, 'pressure': 1013, 'sea_level': 1013, 'grnd_level': 996, 'humidity': 64, 'temp_kf': 0}, 'weather': [{'id': 803, 'main': 'Clouds', 'description': 'broken clouds', 'icon': '04d'}], 'clouds': {'all': 55}, 'wind': {'speed': 2.7, 'deg': 191, 'gust': 5.22}, 'visibility': 10000, 'pop': 0, 'sys': {'pod': 'd'}, 'dt_txt': '2023-10-01 15:00:00'}, {'dt': 1696183200, 'main': {'temp': 281.75, 'feels_like': 280.72, 'temp_min': 281.75, 'temp_max': 281.75, 'pressure': 1012, 'sea_level': 1012, 'grnd_level': 995, 'humidity': 93, 'temp_kf': 0}, 'weather': [{'id': 803, 'main': 'Clouds', 'description': 'broken clouds', 'icon': '04n'}], 'clouds': {'all': 51}, 'wind': {'speed': 1.99, 'deg': 169, 'gust': 6.47}, 'visibility': 10000, 'pop': 0.01, 'sys': {'pod': 'n'}, 'dt_txt': '2023-10-01 18:00:00'}, {'dt': 1696194000, 'main': {'temp': 282.46, 'feels_like': 281.83, 'temp_min': 282.46, 'temp_max': 282.46, 'pressure': 1011, 'sea_level': 1011, 'grnd_level': 995, 'humidity': 96, 'temp_kf': 0}, 'weather': [{'id': 802, 'main': 'Clouds', 'description': 'scattered clouds', 'icon': '03n'}], 'clouds': {'all': 37}, 'wind': {'speed': 1.68, 'deg': 236, 'gust': 3.11}, 'visibility': 10000, 'pop': 0, 'sys': {'pod': 'n'}, 'dt_txt': '2023-10-01 21:00:00'}, {'dt': 1696204800, 'main': {'temp': 280.41, 'feels_like': 280.41, 'temp_min': 280.41, 'temp_max': 280.41, 'pressure': 1012, 'sea_level': 1012, 'grnd_level': 995, 'humidity': 95, 'temp_kf': 0}, 'weather': [{'id': 802, 'main': 'Clouds', 'description': 'scattered clouds', 'icon': '03n'}], 'clouds': {'all': 27}, 'wind': {'speed': 0.73, 'deg': 275, 'gust': 0.8}, 'visibility': 10000, 'pop': 0, 'sys': {'pod': 'n'}, 'dt_txt': '2023-10-02 00:00:00'}, {'dt': 1696215600, 'main': {'temp': 279.59, 'feels_like': 279.59, 'temp_min': 279.59, 'temp_max': 279.59, 'pressure': 1012, 'sea_level': 1012, 'grnd_level': 995, 'humidity': 94, 'temp_kf': 0}, 'weather': [{'id': 800, 'main': 'Clear', 'description': 'clear sky', 'icon': '01n'}], 'clouds': {'all': 0}, 'wind': {'speed': 0.58, 'deg': 299, 'gust': 0.59}, 'visibility': 10000, 'pop': 0, 'sys': {'pod': 'n'}, 'dt_txt': '2023-10-02 03:00:00'}, {'dt': 1696226400, 'main': {'temp': 279.45, 'feels_like': 279.45, 'temp_min': 279.45, 'temp_max': 279.45, 'pressure': 1012, 'sea_level': 1012, 'grnd_level': 995, 'humidity': 92, 'temp_kf': 0}, 'weather': [{'id': 800, 'main': 'Clear', 'description': 'clear sky', 'icon': '01d'}], 'clouds': {'all': 5}, 'wind': {'speed': 0.38, 'deg': 281, 'gust': 0.44}, 'visibility': 10000, 'pop': 0, 'sys': {'pod': 'd'}, 'dt_txt': '2023-10-02 06:00:00'}, {'dt': 1696237200, 'main': {'temp': 285.1, 'feels_like': 284.13, 'temp_min': 285.1, 'temp_max': 285.1, 'pressure': 1013, 'sea_level': 1013, 'grnd_level': 996, 'humidity': 68, 'temp_kf': 0}, 'weather': [{'id': 802, 'main': 'Clouds', 'description': 'scattered clouds', 'icon': '03d'}], 'clouds': {'all': 35}, 'wind': {'speed': 0.25, 'deg': 200, 'gust': 0.9}, 'visibility': 10000, 'pop': 0, 'sys': {'pod': 'd'}, 'dt_txt': '2023-10-02 09:00:00'}, {'dt': 1696248000, 'main': {'temp': 288.16, 'feels_like': 287.13, 'temp_min': 288.16, 'temp_max': 288.16, 'pressure': 1012, 'sea_level': 1012, 'grnd_level': 995, 'humidity': 54, 'temp_kf': 0}, 'weather': [{'id': 803, 'main': 'Clouds', 'description': 'broken clouds', 'icon': '04d'}], 'clouds': {'all': 61}, 'wind': {'speed': 1.04, 'deg': 210, 'gust': 2.02}, 'visibility': 10000, 'pop': 0, 'sys': {'pod': 'd'}, 'dt_txt': '2023-10-02 12:00:00'}, {'dt': 1696258800, 'main': {'temp': 286.92, 'feels_like': 286.05, 'temp_min': 286.92, 'temp_max': 286.92, 'pressure': 1011, 'sea_level': 1011, 'grnd_level': 994, 'humidity': 65, 'temp_kf': 0}, 'weather': [{'id': 804, 'main': 'Clouds', 'description': 'overcast clouds', 'icon': '04d'}], 'clouds': {'all': 100}, 'wind': {'speed': 1.66, 'deg': 174, 'gust': 3.34}, 'visibility': 10000, 'pop': 0, 'sys': {'pod': 'd'}, 'dt_txt': '2023-10-02 15:00:00'}, {'dt': 1696269600, 'main': {'temp': 283.28, 'feels_like': 282.52, 'temp_min': 283.28, 'temp_max': 283.28, 'pressure': 1010, 'sea_level': 1010, 'grnd_level': 994, 'humidity': 83, 'temp_kf': 0}, 'weather': [{'id': 804, 'main': 'Clouds', 'description': 'overcast clouds', 'icon': '04n'}], 'clouds': {'all': 100}, 'wind': {'speed': 1.47, 'deg': 160, 'gust': 1.64}, 'visibility': 10000, 'pop': 0, 'sys': {'pod': 'n'}, 'dt_txt': '2023-10-02 18:00:00'}, {'dt': 1696280400, 'main': {'temp': 282.51, 'feels_like': 282.12, 'temp_min': 282.51, 'temp_max': 282.51, 'pressure': 1010, 'sea_level': 1010, 'grnd_level': 993, 'humidity': 94, 'temp_kf': 0}, 'weather': [{'id': 804, 'main': 'Clouds', 'description': 'overcast clouds', 'icon': '04n'}], 'clouds': {'all': 100}, 'wind': {'speed': 1.45, 'deg': 169, 'gust': 2.76}, 'visibility': 10000, 'pop': 0, 'sys': {'pod': 'n'}, 'dt_txt': '2023-10-02 21:00:00'}, {'dt': 1696291200, 'main': {'temp': 281.51, 'feels_like': 281.51, 'temp_min': 281.51, 'temp_max': 281.51, 'pressure': 1008, 'sea_level': 1008, 'grnd_level': 991, 'humidity': 95, 'temp_kf': 0}, 'weather': [{'id': 804, 'main': 'Clouds', 'description': 'overcast clouds', 'icon': '04n'}], 'clouds': {'all': 100}, 'wind': {'speed': 0.44, 'deg': 232, 'gust': 1}, 'visibility': 10000, 'pop': 0, 'sys': {'pod': 'n'}, 'dt_txt': '2023-10-03 00:00:00'}, {'dt': 1696302000, 'main': {'temp': 281.04, 'feels_like': 281.04, 'temp_min': 281.04, 'temp_max': 281.04, 'pressure': 1006, 'sea_level': 1006, 'grnd_level': 990, 'humidity': 94, 'temp_kf': 0}, 'weather': [{'id': 804, 'main': 'Clouds', 'description': 'overcast clouds', 'icon': '04n'}], 'clouds': {'all': 100}, 'wind': {'speed': 0.54, 'deg': 354, 'gust': 0.68}, 'visibility': 10000, 'pop': 0.01, 'sys': {'pod': 'n'}, 'dt_txt': '2023-10-03 03:00:00'}], 'city': {'id': 3139081, 'name': 'Ski', 'coord': {'lat': 59.7195, 'lon': 10.8358}, 'country': 'NO', 'population': 12513, 'timezone': 7200, 'sunrise': 1695878026, 'sunset': 1695920465}}\n"
     ]
    }
   ],
   "source": [
    "responseF = requests.get(urlF).json()\n",
    "print(responseF)"
   ]
  },
  {
   "cell_type": "code",
   "execution_count": 11,
   "metadata": {
    "slideshow": {
     "slide_type": "slide"
    }
   },
   "outputs": [],
   "source": [
    "# Write JSON to file for viewing\n",
    "with open('downloads/forecast.json', 'w') as f:\n",
    "    json.dump(responseF, f, indent=4)"
   ]
  },
  {
   "cell_type": "markdown",
   "metadata": {
    "slideshow": {
     "slide_type": "slide"
    }
   },
   "source": [
    "### When and what?\n",
    "Check contents and time stamps"
   ]
  },
  {
   "cell_type": "code",
   "execution_count": 12,
   "metadata": {
    "slideshow": {
     "slide_type": "-"
    }
   },
   "outputs": [
    {
     "data": {
      "text/plain": [
       "dict_keys(['cod', 'message', 'cnt', 'list', 'city'])"
      ]
     },
     "execution_count": 12,
     "metadata": {},
     "output_type": "execute_result"
    }
   ],
   "source": [
    "# Content of responseF\n",
    "responseF.keys()"
   ]
  },
  {
   "cell_type": "code",
   "execution_count": 13,
   "metadata": {
    "slideshow": {
     "slide_type": "fragment"
    }
   },
   "outputs": [
    {
     "name": "stdout",
     "output_type": "stream",
     "text": [
      "40\n"
     ]
    }
   ],
   "source": [
    "# Number of forecasts\n",
    "print(len(responseF[\"list\"]))"
   ]
  },
  {
   "cell_type": "code",
   "execution_count": 14,
   "metadata": {
    "scrolled": true,
    "slideshow": {
     "slide_type": "slide"
    }
   },
   "outputs": [
    {
     "name": "stdout",
     "output_type": "stream",
     "text": [
      "2023-09-28 06:00:00\n",
      "2023-09-28 09:00:00\n",
      "2023-09-28 12:00:00\n",
      "2023-09-28 15:00:00\n",
      "2023-09-28 18:00:00\n",
      "2023-09-28 21:00:00\n",
      "2023-09-29 00:00:00\n",
      "2023-09-29 03:00:00\n",
      "2023-09-29 06:00:00\n",
      "2023-09-29 09:00:00\n",
      "2023-09-29 12:00:00\n",
      "2023-09-29 15:00:00\n",
      "2023-09-29 18:00:00\n",
      "2023-09-29 21:00:00\n",
      "2023-09-30 00:00:00\n",
      "2023-09-30 03:00:00\n",
      "2023-09-30 06:00:00\n",
      "2023-09-30 09:00:00\n",
      "2023-09-30 12:00:00\n",
      "2023-09-30 15:00:00\n",
      "2023-09-30 18:00:00\n",
      "2023-09-30 21:00:00\n",
      "2023-10-01 00:00:00\n",
      "2023-10-01 03:00:00\n",
      "2023-10-01 06:00:00\n",
      "2023-10-01 09:00:00\n",
      "2023-10-01 12:00:00\n",
      "2023-10-01 15:00:00\n",
      "2023-10-01 18:00:00\n",
      "2023-10-01 21:00:00\n",
      "2023-10-02 00:00:00\n",
      "2023-10-02 03:00:00\n",
      "2023-10-02 06:00:00\n",
      "2023-10-02 09:00:00\n",
      "2023-10-02 12:00:00\n",
      "2023-10-02 15:00:00\n",
      "2023-10-02 18:00:00\n",
      "2023-10-02 21:00:00\n",
      "2023-10-03 00:00:00\n",
      "2023-10-03 03:00:00\n"
     ]
    }
   ],
   "source": [
    "# Print forecast times\n",
    "for forecast in responseF[\"list\"]:\n",
    "    print(forecast[\"dt_txt\"])"
   ]
  },
  {
   "cell_type": "markdown",
   "metadata": {
    "slideshow": {
     "slide_type": "slide"
    }
   },
   "source": [
    "## Make plots of omnipresent measurements and events\n",
    "We will later look at missing data, data only sporadically appearing and so on."
   ]
  },
  {
   "cell_type": "code",
   "execution_count": 15,
   "metadata": {
    "slideshow": {
     "slide_type": "-"
    }
   },
   "outputs": [],
   "source": [
    "# Air pressure per period\n",
    "pressures = []\n",
    "timestamps = []\n",
    "for forecast in responseF[\"list\"]:\n",
    "    pressures.append(forecast[\"main\"][\"pressure\"])\n",
    "    timestamps.append(dt.datetime.fromtimestamp(forecast[\"dt\"]))"
   ]
  },
  {
   "cell_type": "code",
   "execution_count": 16,
   "metadata": {
    "slideshow": {
     "slide_type": "slide"
    }
   },
   "outputs": [
    {
     "data": {
      "image/png": "[encoded data removed]",
      "text/plain": [
       "<Figure size 640x480 with 1 Axes>"
      ]
     },
     "metadata": {},
     "output_type": "display_data"
    }
   ],
   "source": [
    "import matplotlib.pyplot as plt\n",
    "plt.bar(timestamps, pressures)\n",
    "plt.xticks(rotation=45)\n",
    "plt.ylim(950, 1050)\n",
    "plt.grid()\n",
    "plt.ylabel(\"Air pressure (hPa)\")\n",
    "plt.title(f\"Forecasted air pressure in {CITY}\")\n",
    "plt.show()"
   ]
  },
  {
   "cell_type": "markdown",
   "metadata": {
    "slideshow": {
     "slide_type": "slide"
    }
   },
   "source": [
    "## Exercise\n",
    "- Make a new forecast request for your own hometown. Call your response something else than responseF.\n",
    "- If available, plot the humidity like we did with air pressure."
   ]
  },
  {
   "cell_type": "markdown",
   "metadata": {
    "slideshow": {
     "slide_type": "slide"
    }
   },
   "source": [
    "### Precipitation\n",
    "- ... comes in two main flavours: rain and snow.\n",
    "- We need to check which is present and set to zero if it is abscent."
   ]
  },
  {
   "cell_type": "code",
   "execution_count": 17,
   "metadata": {
    "slideshow": {
     "slide_type": "-"
    }
   },
   "outputs": [],
   "source": [
    "rain = []\n",
    "snow = []\n",
    "for forecast in responseF[\"list\"]:\n",
    "    try: # Check if rain is present in forecast\n",
    "        rain.append(forecast[\"rain\"][\"3h\"])\n",
    "    except KeyError:\n",
    "        rain.append(0)\n",
    "    try: # Check if snow is present in forecast\n",
    "        snow.append(forecast[\"snow\"][\"3h\"])\n",
    "    except KeyError:\n",
    "        snow.append(0)"
   ]
  },
  {
   "cell_type": "code",
   "execution_count": 18,
   "metadata": {
    "slideshow": {
     "slide_type": "slide"
    }
   },
   "outputs": [
    {
     "data": {
      "image/png": "[encoded data removed]",
      "text/plain": [
       "<Figure size 640x480 with 1 Axes>"
      ]
     },
     "metadata": {},
     "output_type": "display_data"
    }
   ],
   "source": [
    "# Stacked bar chart with rain and snow\n",
    "plt.bar(timestamps, rain, label=\"Rain\")\n",
    "plt.bar(timestamps, snow, label=\"Snow\")\n",
    "plt.xticks(rotation=45)\n",
    "plt.grid()\n",
    "plt.ylabel(\"Precipitation (mm)\")\n",
    "plt.title(f\"Forecasted precipitation in {CITY}\")\n",
    "plt.legend()\n",
    "plt.show()\n"
   ]
  },
  {
   "cell_type": "markdown",
   "metadata": {},
   "source": [
    "## Resources\n",
    "- [NeuralNine's video](https://www.youtube.com/watch?v=9P5MY_2i7K8)"
   ]
  }
 ],
 "metadata": {
  "celltoolbar": "Slideshow",
  "kernelspec": {
   "display_name": "Python 3 (ipykernel)",
   "language": "python",
   "name": "python3"
  },
  "language_info": {
   "codemirror_mode": {
    "name": "ipython",
    "version": 3
   },
   "file_extension": ".py",
   "mimetype": "text/x-python",
   "name": "python",
   "nbconvert_exporter": "python",
   "pygments_lexer": "ipython3",
   "version": "3.10.6"
  }
 },
 "nbformat": 4,
 "nbformat_minor": 2
}