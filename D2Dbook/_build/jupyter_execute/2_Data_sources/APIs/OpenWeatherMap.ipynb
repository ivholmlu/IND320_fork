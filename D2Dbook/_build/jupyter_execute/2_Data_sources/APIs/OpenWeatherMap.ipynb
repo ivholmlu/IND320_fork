{
 "cells": [
  {
   "cell_type": "markdown",
   "metadata": {
    "slideshow": {
     "slide_type": "slide"
    }
   },
   "source": [
    "# Demonstration of API using OpenWeatherMap.org\n",
    "This demonstration is heavily inspired by [NeuralNine's video](https://www.youtube.com/watch?v=9P5MY_2i7K8).  \n",
    "The VS Code extension _JSON viewer_ is recommended for viewing downloaded JSON content.  \n",
    "You need a free account [from here](https://openweathermap.org/api). \n",
    "  - Set your maximum API calls to 1000 per day to make sure you are under the limit for billing. \n",
    "  - To run the examples, download your API key, save it in the right folder (see below) in a file called _api\\_key\\_OpenWeather_, containing only the key (no spaces or \"enters\")."
   ]
  },
  {
   "cell_type": "code",
   "execution_count": 1,
   "metadata": {
    "slideshow": {
     "slide_type": "fragment"
    }
   },
   "outputs": [],
   "source": [
    "# Imports\n",
    "import datetime as dt\n",
    "import requests\n",
    "import json"
   ]
  },
  {
   "cell_type": "markdown",
   "metadata": {
    "slideshow": {
     "slide_type": "slide"
    }
   },
   "source": [
    "## Current weather\n",
    "### Common definitions to use for all requests"
   ]
  },
  {
   "cell_type": "code",
   "execution_count": 2,
   "metadata": {
    "slideshow": {
     "slide_type": "-"
    }
   },
   "outputs": [],
   "source": [
    "BASE_URL = \"http://api.openweathermap.org/data/2.5/weather?\"\n",
    "API_KEY = open('../../../No_sync/api_key_OpenWeather','r').read()\n",
    "CITY = \"Ski\"\n",
    "\n",
    "url = BASE_URL + \"q=\" + CITY + \"&appid=\" + API_KEY"
   ]
  },
  {
   "cell_type": "markdown",
   "metadata": {
    "slideshow": {
     "slide_type": "slide"
    }
   },
   "source": [
    "## Request current weather in chosen city"
   ]
  },
  {
   "cell_type": "code",
   "execution_count": 3,
   "metadata": {
    "slideshow": {
     "slide_type": "fragment"
    }
   },
   "outputs": [
    {
     "name": "stdout",
     "output_type": "stream",
     "text": [
      "{'coord': {'lon': 10.8358, 'lat': 59.7195}, 'weather': [{'id': 800, 'main': 'Clear', 'description': 'clear sky', 'icon': '01n'}], 'base': 'stations', 'main': {'temp': 282.03, 'feels_like': 281.48, 'temp_min': 280.62, 'temp_max': 284.53, 'pressure': 1007, 'humidity': 98, 'sea_level': 1007, 'grnd_level': 990}, 'visibility': 10000, 'wind': {'speed': 1.54, 'deg': 213, 'gust': 1.58}, 'clouds': {'all': 3}, 'dt': 1695506485, 'sys': {'type': 2, 'id': 2006772, 'country': 'NO', 'sunrise': 1695531871, 'sunset': 1695575591}, 'timezone': 7200, 'id': 3139081, 'name': 'Ski', 'cod': 200}\n"
     ]
    }
   ],
   "source": [
    "response = requests.get(url).json()\n",
    "print(response)"
   ]
  },
  {
   "cell_type": "code",
   "execution_count": 4,
   "metadata": {
    "slideshow": {
     "slide_type": "fragment"
    }
   },
   "outputs": [],
   "source": [
    "# Write JSON to file for viewing\n",
    "with open('downloads/weather.json', 'w') as f:\n",
    "    json.dump(response, f, indent=4)"
   ]
  },
  {
   "cell_type": "markdown",
   "metadata": {
    "slideshow": {
     "slide_type": "slide"
    }
   },
   "source": [
    "## Conversion functions\n",
    "Changing scales can make results more interpretable"
   ]
  },
  {
   "cell_type": "code",
   "execution_count": 5,
   "metadata": {
    "slideshow": {
     "slide_type": "-"
    }
   },
   "outputs": [],
   "source": [
    "# Kelvin to Celsius\n",
    "def kelvin_to_celsius(temp):\n",
    "    return temp - 273.15\n",
    "\n",
    "# Meters per second to knots\n",
    "def mps_to_knots(speed):\n",
    "    return speed * 1.943844"
   ]
  },
  {
   "cell_type": "markdown",
   "metadata": {
    "slideshow": {
     "slide_type": "slide"
    }
   },
   "source": [
    "## Print some weather properties"
   ]
  },
  {
   "cell_type": "code",
   "execution_count": 6,
   "metadata": {
    "slideshow": {
     "slide_type": "-"
    }
   },
   "outputs": [
    {
     "name": "stdout",
     "output_type": "stream",
     "text": [
      "The current temperature in Ski is 8.88°C\n"
     ]
    }
   ],
   "source": [
    "# Current temperature\n",
    "temp_kelvin = response['main']['temp']\n",
    "temp_celsius = kelvin_to_celsius(temp_kelvin)\n",
    "print(f\"The current temperature in {CITY} is {temp_celsius:.2f}°C\")"
   ]
  },
  {
   "cell_type": "code",
   "execution_count": 7,
   "metadata": {
    "slideshow": {
     "slide_type": "slide"
    }
   },
   "outputs": [
    {
     "name": "stdout",
     "output_type": "stream",
     "text": [
      "Sunrise today is at 07:04 and sunset is at 19:13\n"
     ]
    }
   ],
   "source": [
    "# Sunrise and sunset today in local time\n",
    "sunrise = dt.datetime.fromtimestamp(response['sys']['sunrise'])\n",
    "sunset = dt.datetime.fromtimestamp(response['sys']['sunset'])\n",
    "print(f\"Sunrise today is at {sunrise:%H:%M} and sunset is at {sunset:%H:%M}\")"
   ]
  },
  {
   "cell_type": "code",
   "execution_count": 8,
   "metadata": {
    "slideshow": {
     "slide_type": "fragment"
    }
   },
   "outputs": [
    {
     "name": "stdout",
     "output_type": "stream",
     "text": [
      "Wind today is from 213° at 3.0 knots\n"
     ]
    }
   ],
   "source": [
    "# Wind direction and speed\n",
    "wind_knots = mps_to_knots(response['wind']['speed'])\n",
    "print(f\"Wind today is from {response['wind']['deg']}° at {round(wind_knots,1)} knots\")"
   ]
  },
  {
   "cell_type": "markdown",
   "metadata": {
    "slideshow": {
     "slide_type": "slide"
    }
   },
   "source": [
    "## Forecasted weather\n",
    "### Common definitions to use for all requests"
   ]
  },
  {
   "cell_type": "code",
   "execution_count": 9,
   "metadata": {
    "slideshow": {
     "slide_type": "-"
    }
   },
   "outputs": [],
   "source": [
    "BASE_URL = \"http://api.openweathermap.org/data/2.5/forecast?\"\n",
    "CITY = \"Ski\"\n",
    "\n",
    "urlF = BASE_URL + \"q=\" + CITY + \"&appid=\" + API_KEY"
   ]
  },
  {
   "cell_type": "markdown",
   "metadata": {
    "slideshow": {
     "slide_type": "slide"
    }
   },
   "source": [
    "## Request current weather in chosen city"
   ]
  },
  {
   "cell_type": "code",
   "execution_count": 10,
   "metadata": {
    "slideshow": {
     "slide_type": "-"
    }
   },
   "outputs": [
    {
     "name": "stdout",
     "output_type": "stream",
     "text": [
      "{'cod': '200', 'message': 0, 'cnt': 40, 'list': [{'dt': 1695513600, 'main': {'temp': 281.45, 'feels_like': 281.45, 'temp_min': 280.28, 'temp_max': 281.45, 'pressure': 1007, 'sea_level': 1007, 'grnd_level': 991, 'humidity': 94, 'temp_kf': 1.17}, 'weather': [{'id': 800, 'main': 'Clear', 'description': 'clear sky', 'icon': '01n'}], 'clouds': {'all': 3}, 'wind': {'speed': 0.9, 'deg': 231, 'gust': 0.9}, 'visibility': 10000, 'pop': 0, 'sys': {'pod': 'n'}, 'dt_txt': '2023-09-24 00:00:00'}, {'dt': 1695524400, 'main': {'temp': 280.01, 'feels_like': 280.01, 'temp_min': 279, 'temp_max': 280.01, 'pressure': 1009, 'sea_level': 1009, 'grnd_level': 993, 'humidity': 90, 'temp_kf': 1.01}, 'weather': [{'id': 800, 'main': 'Clear', 'description': 'clear sky', 'icon': '01n'}], 'clouds': {'all': 1}, 'wind': {'speed': 0.93, 'deg': 274, 'gust': 0.93}, 'visibility': 10000, 'pop': 0, 'sys': {'pod': 'n'}, 'dt_txt': '2023-09-24 03:00:00'}, {'dt': 1695535200, 'main': {'temp': 278.84, 'feels_like': 278.84, 'temp_min': 278.84, 'temp_max': 278.84, 'pressure': 1013, 'sea_level': 1013, 'grnd_level': 996, 'humidity': 85, 'temp_kf': 0}, 'weather': [{'id': 800, 'main': 'Clear', 'description': 'clear sky', 'icon': '01d'}], 'clouds': {'all': 10}, 'wind': {'speed': 0.66, 'deg': 269, 'gust': 0.71}, 'visibility': 10000, 'pop': 0, 'sys': {'pod': 'd'}, 'dt_txt': '2023-09-24 06:00:00'}, {'dt': 1695546000, 'main': {'temp': 284.67, 'feels_like': 283.5, 'temp_min': 284.67, 'temp_max': 284.67, 'pressure': 1016, 'sea_level': 1016, 'grnd_level': 999, 'humidity': 62, 'temp_kf': 0}, 'weather': [{'id': 801, 'main': 'Clouds', 'description': 'few clouds', 'icon': '02d'}], 'clouds': {'all': 14}, 'wind': {'speed': 1.22, 'deg': 313, 'gust': 2.33}, 'visibility': 10000, 'pop': 0, 'sys': {'pod': 'd'}, 'dt_txt': '2023-09-24 09:00:00'}, {'dt': 1695556800, 'main': {'temp': 287.91, 'feels_like': 286.64, 'temp_min': 287.91, 'temp_max': 287.91, 'pressure': 1017, 'sea_level': 1017, 'grnd_level': 1000, 'humidity': 46, 'temp_kf': 0}, 'weather': [{'id': 801, 'main': 'Clouds', 'description': 'few clouds', 'icon': '02d'}], 'clouds': {'all': 13}, 'wind': {'speed': 2.23, 'deg': 196, 'gust': 3.33}, 'visibility': 10000, 'pop': 0, 'sys': {'pod': 'd'}, 'dt_txt': '2023-09-24 12:00:00'}, {'dt': 1695567600, 'main': {'temp': 286.95, 'feels_like': 285.9, 'temp_min': 286.95, 'temp_max': 286.95, 'pressure': 1017, 'sea_level': 1017, 'grnd_level': 1001, 'humidity': 58, 'temp_kf': 0}, 'weather': [{'id': 802, 'main': 'Clouds', 'description': 'scattered clouds', 'icon': '03d'}], 'clouds': {'all': 36}, 'wind': {'speed': 2.62, 'deg': 169, 'gust': 7.41}, 'visibility': 10000, 'pop': 0, 'sys': {'pod': 'd'}, 'dt_txt': '2023-09-24 15:00:00'}, {'dt': 1695578400, 'main': {'temp': 285.24, 'feels_like': 284.8, 'temp_min': 285.24, 'temp_max': 285.24, 'pressure': 1018, 'sea_level': 1018, 'grnd_level': 1001, 'humidity': 88, 'temp_kf': 0}, 'weather': [{'id': 803, 'main': 'Clouds', 'description': 'broken clouds', 'icon': '04n'}], 'clouds': {'all': 68}, 'wind': {'speed': 4.32, 'deg': 194, 'gust': 11.6}, 'visibility': 10000, 'pop': 0, 'sys': {'pod': 'n'}, 'dt_txt': '2023-09-24 18:00:00'}, {'dt': 1695589200, 'main': {'temp': 285.51, 'feels_like': 285.13, 'temp_min': 285.51, 'temp_max': 285.51, 'pressure': 1019, 'sea_level': 1019, 'grnd_level': 1002, 'humidity': 89, 'temp_kf': 0}, 'weather': [{'id': 804, 'main': 'Clouds', 'description': 'overcast clouds', 'icon': '04n'}], 'clouds': {'all': 100}, 'wind': {'speed': 4.09, 'deg': 191, 'gust': 11.91}, 'visibility': 10000, 'pop': 0, 'sys': {'pod': 'n'}, 'dt_txt': '2023-09-24 21:00:00'}, {'dt': 1695600000, 'main': {'temp': 286.86, 'feels_like': 286.74, 'temp_min': 286.86, 'temp_max': 286.86, 'pressure': 1018, 'sea_level': 1018, 'grnd_level': 1001, 'humidity': 94, 'temp_kf': 0}, 'weather': [{'id': 500, 'main': 'Rain', 'description': 'light rain', 'icon': '10n'}], 'clouds': {'all': 100}, 'wind': {'speed': 6.03, 'deg': 187, 'gust': 13.2}, 'visibility': 10000, 'pop': 0.4, 'rain': {'3h': 0.31}, 'sys': {'pod': 'n'}, 'dt_txt': '2023-09-25 00:00:00'}, {'dt': 1695610800, 'main': {'temp': 286.31, 'feels_like': 286.14, 'temp_min': 286.31, 'temp_max': 286.31, 'pressure': 1017, 'sea_level': 1017, 'grnd_level': 1000, 'humidity': 94, 'temp_kf': 0}, 'weather': [{'id': 500, 'main': 'Rain', 'description': 'light rain', 'icon': '10n'}], 'clouds': {'all': 100}, 'wind': {'speed': 6.06, 'deg': 184, 'gust': 12.8}, 'visibility': 10000, 'pop': 0.96, 'rain': {'3h': 0.5}, 'sys': {'pod': 'n'}, 'dt_txt': '2023-09-25 03:00:00'}, {'dt': 1695621600, 'main': {'temp': 285.94, 'feels_like': 285.65, 'temp_min': 285.94, 'temp_max': 285.94, 'pressure': 1017, 'sea_level': 1017, 'grnd_level': 1000, 'humidity': 91, 'temp_kf': 0}, 'weather': [{'id': 804, 'main': 'Clouds', 'description': 'overcast clouds', 'icon': '04d'}], 'clouds': {'all': 100}, 'wind': {'speed': 5.78, 'deg': 175, 'gust': 12.51}, 'visibility': 10000, 'pop': 0.72, 'sys': {'pod': 'd'}, 'dt_txt': '2023-09-25 06:00:00'}, {'dt': 1695632400, 'main': {'temp': 285.41, 'feels_like': 285.15, 'temp_min': 285.41, 'temp_max': 285.41, 'pressure': 1016, 'sea_level': 1016, 'grnd_level': 999, 'humidity': 94, 'temp_kf': 0}, 'weather': [{'id': 501, 'main': 'Rain', 'description': 'moderate rain', 'icon': '10d'}], 'clouds': {'all': 100}, 'wind': {'speed': 6.46, 'deg': 172, 'gust': 14.31}, 'visibility': 10000, 'pop': 0.96, 'rain': {'3h': 3.13}, 'sys': {'pod': 'd'}, 'dt_txt': '2023-09-25 09:00:00'}, {'dt': 1695643200, 'main': {'temp': 287.55, 'feels_like': 287.21, 'temp_min': 287.55, 'temp_max': 287.55, 'pressure': 1016, 'sea_level': 1016, 'grnd_level': 999, 'humidity': 83, 'temp_kf': 0}, 'weather': [{'id': 804, 'main': 'Clouds', 'description': 'overcast clouds', 'icon': '04d'}], 'clouds': {'all': 99}, 'wind': {'speed': 6.8, 'deg': 188, 'gust': 13.71}, 'visibility': 10000, 'pop': 0.76, 'sys': {'pod': 'd'}, 'dt_txt': '2023-09-25 12:00:00'}, {'dt': 1695654000, 'main': {'temp': 286.99, 'feels_like': 286.78, 'temp_min': 286.99, 'temp_max': 286.99, 'pressure': 1016, 'sea_level': 1016, 'grnd_level': 999, 'humidity': 90, 'temp_kf': 0}, 'weather': [{'id': 500, 'main': 'Rain', 'description': 'light rain', 'icon': '10d'}], 'clouds': {'all': 100}, 'wind': {'speed': 5.71, 'deg': 188, 'gust': 12.83}, 'visibility': 10000, 'pop': 0.28, 'rain': {'3h': 0.13}, 'sys': {'pod': 'd'}, 'dt_txt': '2023-09-25 15:00:00'}, {'dt': 1695664800, 'main': {'temp': 287.21, 'feels_like': 287.13, 'temp_min': 287.21, 'temp_max': 287.21, 'pressure': 1016, 'sea_level': 1016, 'grnd_level': 1000, 'humidity': 94, 'temp_kf': 0}, 'weather': [{'id': 500, 'main': 'Rain', 'description': 'light rain', 'icon': '10n'}], 'clouds': {'all': 100}, 'wind': {'speed': 5.38, 'deg': 192, 'gust': 12.01}, 'visibility': 10000, 'pop': 0.4, 'rain': {'3h': 0.56}, 'sys': {'pod': 'n'}, 'dt_txt': '2023-09-25 18:00:00'}, {'dt': 1695675600, 'main': {'temp': 286.74, 'feels_like': 286.53, 'temp_min': 286.74, 'temp_max': 286.74, 'pressure': 1017, 'sea_level': 1017, 'grnd_level': 1000, 'humidity': 91, 'temp_kf': 0}, 'weather': [{'id': 804, 'main': 'Clouds', 'description': 'overcast clouds', 'icon': '04n'}], 'clouds': {'all': 98}, 'wind': {'speed': 4.82, 'deg': 201, 'gust': 11.3}, 'visibility': 10000, 'pop': 0.28, 'sys': {'pod': 'n'}, 'dt_txt': '2023-09-25 21:00:00'}, {'dt': 1695686400, 'main': {'temp': 284.7, 'feels_like': 284.39, 'temp_min': 284.7, 'temp_max': 284.7, 'pressure': 1018, 'sea_level': 1018, 'grnd_level': 1001, 'humidity': 95, 'temp_kf': 0}, 'weather': [{'id': 803, 'main': 'Clouds', 'description': 'broken clouds', 'icon': '04n'}], 'clouds': {'all': 84}, 'wind': {'speed': 3.45, 'deg': 200, 'gust': 10.31}, 'visibility': 10000, 'pop': 0.2, 'sys': {'pod': 'n'}, 'dt_txt': '2023-09-26 00:00:00'}, {'dt': 1695697200, 'main': {'temp': 283.7, 'feels_like': 283.34, 'temp_min': 283.7, 'temp_max': 283.7, 'pressure': 1018, 'sea_level': 1018, 'grnd_level': 1002, 'humidity': 97, 'temp_kf': 0}, 'weather': [{'id': 804, 'main': 'Clouds', 'description': 'overcast clouds', 'icon': '04n'}], 'clouds': {'all': 100}, 'wind': {'speed': 2.76, 'deg': 177, 'gust': 9.12}, 'visibility': 10000, 'pop': 0, 'sys': {'pod': 'n'}, 'dt_txt': '2023-09-26 03:00:00'}, {'dt': 1695708000, 'main': {'temp': 284.18, 'feels_like': 283.82, 'temp_min': 284.18, 'temp_max': 284.18, 'pressure': 1019, 'sea_level': 1019, 'grnd_level': 1002, 'humidity': 95, 'temp_kf': 0}, 'weather': [{'id': 804, 'main': 'Clouds', 'description': 'overcast clouds', 'icon': '04d'}], 'clouds': {'all': 100}, 'wind': {'speed': 3.13, 'deg': 183, 'gust': 10.31}, 'visibility': 10000, 'pop': 0, 'sys': {'pod': 'd'}, 'dt_txt': '2023-09-26 06:00:00'}, {'dt': 1695718800, 'main': {'temp': 287.76, 'feels_like': 287.42, 'temp_min': 287.76, 'temp_max': 287.76, 'pressure': 1019, 'sea_level': 1019, 'grnd_level': 1003, 'humidity': 82, 'temp_kf': 0}, 'weather': [{'id': 804, 'main': 'Clouds', 'description': 'overcast clouds', 'icon': '04d'}], 'clouds': {'all': 100}, 'wind': {'speed': 4.17, 'deg': 194, 'gust': 9.31}, 'visibility': 10000, 'pop': 0, 'sys': {'pod': 'd'}, 'dt_txt': '2023-09-26 09:00:00'}, {'dt': 1695729600, 'main': {'temp': 290.12, 'feels_like': 289.57, 'temp_min': 290.12, 'temp_max': 290.12, 'pressure': 1019, 'sea_level': 1019, 'grnd_level': 1002, 'humidity': 65, 'temp_kf': 0}, 'weather': [{'id': 803, 'main': 'Clouds', 'description': 'broken clouds', 'icon': '04d'}], 'clouds': {'all': 80}, 'wind': {'speed': 4.56, 'deg': 189, 'gust': 7}, 'visibility': 10000, 'pop': 0, 'sys': {'pod': 'd'}, 'dt_txt': '2023-09-26 12:00:00'}, {'dt': 1695740400, 'main': {'temp': 288.44, 'feels_like': 288.04, 'temp_min': 288.44, 'temp_max': 288.44, 'pressure': 1018, 'sea_level': 1018, 'grnd_level': 1001, 'humidity': 77, 'temp_kf': 0}, 'weather': [{'id': 803, 'main': 'Clouds', 'description': 'broken clouds', 'icon': '04d'}], 'clouds': {'all': 72}, 'wind': {'speed': 3.74, 'deg': 175, 'gust': 7.3}, 'visibility': 10000, 'pop': 0, 'sys': {'pod': 'd'}, 'dt_txt': '2023-09-26 15:00:00'}, {'dt': 1695751200, 'main': {'temp': 285.07, 'feels_like': 284.88, 'temp_min': 285.07, 'temp_max': 285.07, 'pressure': 1018, 'sea_level': 1018, 'grnd_level': 1001, 'humidity': 98, 'temp_kf': 0}, 'weather': [{'id': 803, 'main': 'Clouds', 'description': 'broken clouds', 'icon': '04n'}], 'clouds': {'all': 80}, 'wind': {'speed': 2.26, 'deg': 163, 'gust': 8.1}, 'visibility': 10000, 'pop': 0, 'sys': {'pod': 'n'}, 'dt_txt': '2023-09-26 18:00:00'}, {'dt': 1695762000, 'main': {'temp': 286.34, 'feels_like': 286.2, 'temp_min': 286.34, 'temp_max': 286.34, 'pressure': 1017, 'sea_level': 1017, 'grnd_level': 1000, 'humidity': 95, 'temp_kf': 0}, 'weather': [{'id': 500, 'main': 'Rain', 'description': 'light rain', 'icon': '10n'}], 'clouds': {'all': 100}, 'wind': {'speed': 2.72, 'deg': 160, 'gust': 8.9}, 'visibility': 10000, 'pop': 0.24, 'rain': {'3h': 0.25}, 'sys': {'pod': 'n'}, 'dt_txt': '2023-09-26 21:00:00'}, {'dt': 1695772800, 'main': {'temp': 285.37, 'feels_like': 285.18, 'temp_min': 285.37, 'temp_max': 285.37, 'pressure': 1016, 'sea_level': 1016, 'grnd_level': 999, 'humidity': 97, 'temp_kf': 0}, 'weather': [{'id': 500, 'main': 'Rain', 'description': 'light rain', 'icon': '10n'}], 'clouds': {'all': 100}, 'wind': {'speed': 2.45, 'deg': 153, 'gust': 8.51}, 'visibility': 10000, 'pop': 0.24, 'rain': {'3h': 0.25}, 'sys': {'pod': 'n'}, 'dt_txt': '2023-09-27 00:00:00'}, {'dt': 1695783600, 'main': {'temp': 286.05, 'feels_like': 285.9, 'temp_min': 286.05, 'temp_max': 286.05, 'pressure': 1014, 'sea_level': 1014, 'grnd_level': 997, 'humidity': 96, 'temp_kf': 0}, 'weather': [{'id': 500, 'main': 'Rain', 'description': 'light rain', 'icon': '10n'}], 'clouds': {'all': 100}, 'wind': {'speed': 2.52, 'deg': 155, 'gust': 7.32}, 'visibility': 10000, 'pop': 0.44, 'rain': {'3h': 0.44}, 'sys': {'pod': 'n'}, 'dt_txt': '2023-09-27 03:00:00'}, {'dt': 1695794400, 'main': {'temp': 286.03, 'feels_like': 285.93, 'temp_min': 286.03, 'temp_max': 286.03, 'pressure': 1014, 'sea_level': 1014, 'grnd_level': 997, 'humidity': 98, 'temp_kf': 0}, 'weather': [{'id': 500, 'main': 'Rain', 'description': 'light rain', 'icon': '10d'}], 'clouds': {'all': 100}, 'wind': {'speed': 3.52, 'deg': 185, 'gust': 10.3}, 'visibility': 2101, 'pop': 0.92, 'rain': {'3h': 2.31}, 'sys': {'pod': 'd'}, 'dt_txt': '2023-09-27 06:00:00'}, {'dt': 1695805200, 'main': {'temp': 287.7, 'feels_like': 287.48, 'temp_min': 287.7, 'temp_max': 287.7, 'pressure': 1014, 'sea_level': 1014, 'grnd_level': 997, 'humidity': 87, 'temp_kf': 0}, 'weather': [{'id': 500, 'main': 'Rain', 'description': 'light rain', 'icon': '10d'}], 'clouds': {'all': 97}, 'wind': {'speed': 4.26, 'deg': 184, 'gust': 10.01}, 'visibility': 10000, 'pop': 1, 'rain': {'3h': 2.25}, 'sys': {'pod': 'd'}, 'dt_txt': '2023-09-27 09:00:00'}, {'dt': 1695816000, 'main': {'temp': 290.19, 'feels_like': 289.93, 'temp_min': 290.19, 'temp_max': 290.19, 'pressure': 1013, 'sea_level': 1013, 'grnd_level': 996, 'humidity': 76, 'temp_kf': 0}, 'weather': [{'id': 500, 'main': 'Rain', 'description': 'light rain', 'icon': '10d'}], 'clouds': {'all': 50}, 'wind': {'speed': 4.61, 'deg': 193, 'gust': 8.22}, 'visibility': 10000, 'pop': 1, 'rain': {'3h': 0.31}, 'sys': {'pod': 'd'}, 'dt_txt': '2023-09-27 12:00:00'}, {'dt': 1695826800, 'main': {'temp': 288.79, 'feels_like': 288.52, 'temp_min': 288.79, 'temp_max': 288.79, 'pressure': 1013, 'sea_level': 1013, 'grnd_level': 996, 'humidity': 81, 'temp_kf': 0}, 'weather': [{'id': 804, 'main': 'Clouds', 'description': 'overcast clouds', 'icon': '04d'}], 'clouds': {'all': 100}, 'wind': {'speed': 3.67, 'deg': 176, 'gust': 6.91}, 'visibility': 10000, 'pop': 0.04, 'sys': {'pod': 'd'}, 'dt_txt': '2023-09-27 15:00:00'}, {'dt': 1695837600, 'main': {'temp': 285.9, 'feels_like': 285.5, 'temp_min': 285.9, 'temp_max': 285.9, 'pressure': 1012, 'sea_level': 1012, 'grnd_level': 995, 'humidity': 87, 'temp_kf': 0}, 'weather': [{'id': 804, 'main': 'Clouds', 'description': 'overcast clouds', 'icon': '04n'}], 'clouds': {'all': 100}, 'wind': {'speed': 3.29, 'deg': 174, 'gust': 9.7}, 'visibility': 10000, 'pop': 0, 'sys': {'pod': 'n'}, 'dt_txt': '2023-09-27 18:00:00'}, {'dt': 1695848400, 'main': {'temp': 285.48, 'feels_like': 285.28, 'temp_min': 285.48, 'temp_max': 285.48, 'pressure': 1009, 'sea_level': 1009, 'grnd_level': 993, 'humidity': 96, 'temp_kf': 0}, 'weather': [{'id': 804, 'main': 'Clouds', 'description': 'overcast clouds', 'icon': '04n'}], 'clouds': {'all': 100}, 'wind': {'speed': 2.26, 'deg': 107, 'gust': 6.92}, 'visibility': 10000, 'pop': 0.08, 'sys': {'pod': 'n'}, 'dt_txt': '2023-09-27 21:00:00'}, {'dt': 1695859200, 'main': {'temp': 287.09, 'feels_like': 286.89, 'temp_min': 287.09, 'temp_max': 287.09, 'pressure': 1005, 'sea_level': 1005, 'grnd_level': 988, 'humidity': 90, 'temp_kf': 0}, 'weather': [{'id': 500, 'main': 'Rain', 'description': 'light rain', 'icon': '10n'}], 'clouds': {'all': 100}, 'wind': {'speed': 6.32, 'deg': 156, 'gust': 16.7}, 'visibility': 4722, 'pop': 0.68, 'rain': {'3h': 1.38}, 'sys': {'pod': 'n'}, 'dt_txt': '2023-09-28 00:00:00'}, {'dt': 1695870000, 'main': {'temp': 287.44, 'feels_like': 287.22, 'temp_min': 287.44, 'temp_max': 287.44, 'pressure': 1002, 'sea_level': 1002, 'grnd_level': 985, 'humidity': 88, 'temp_kf': 0}, 'weather': [{'id': 501, 'main': 'Rain', 'description': 'moderate rain', 'icon': '10n'}], 'clouds': {'all': 100}, 'wind': {'speed': 8.21, 'deg': 196, 'gust': 17.62}, 'visibility': 10000, 'pop': 1, 'rain': {'3h': 10.5}, 'sys': {'pod': 'n'}, 'dt_txt': '2023-09-28 03:00:00'}, {'dt': 1695880800, 'main': {'temp': 284.97, 'feels_like': 284.51, 'temp_min': 284.97, 'temp_max': 284.97, 'pressure': 1003, 'sea_level': 1003, 'grnd_level': 986, 'humidity': 88, 'temp_kf': 0}, 'weather': [{'id': 500, 'main': 'Rain', 'description': 'light rain', 'icon': '10d'}], 'clouds': {'all': 69}, 'wind': {'speed': 6.72, 'deg': 200, 'gust': 15.6}, 'visibility': 10000, 'pop': 1, 'rain': {'3h': 0.13}, 'sys': {'pod': 'd'}, 'dt_txt': '2023-09-28 06:00:00'}, {'dt': 1695891600, 'main': {'temp': 286.51, 'feels_like': 285.86, 'temp_min': 286.51, 'temp_max': 286.51, 'pressure': 1005, 'sea_level': 1005, 'grnd_level': 988, 'humidity': 75, 'temp_kf': 0}, 'weather': [{'id': 802, 'main': 'Clouds', 'description': 'scattered clouds', 'icon': '03d'}], 'clouds': {'all': 28}, 'wind': {'speed': 6.53, 'deg': 209, 'gust': 14.33}, 'visibility': 10000, 'pop': 0.08, 'sys': {'pod': 'd'}, 'dt_txt': '2023-09-28 09:00:00'}, {'dt': 1695902400, 'main': {'temp': 288.94, 'feels_like': 288.3, 'temp_min': 288.94, 'temp_max': 288.94, 'pressure': 1005, 'sea_level': 1005, 'grnd_level': 989, 'humidity': 66, 'temp_kf': 0}, 'weather': [{'id': 801, 'main': 'Clouds', 'description': 'few clouds', 'icon': '02d'}], 'clouds': {'all': 14}, 'wind': {'speed': 5.3, 'deg': 201, 'gust': 11.93}, 'visibility': 10000, 'pop': 0.04, 'sys': {'pod': 'd'}, 'dt_txt': '2023-09-28 12:00:00'}, {'dt': 1695913200, 'main': {'temp': 286.86, 'feels_like': 286.35, 'temp_min': 286.86, 'temp_max': 286.86, 'pressure': 1005, 'sea_level': 1005, 'grnd_level': 988, 'humidity': 79, 'temp_kf': 0}, 'weather': [{'id': 500, 'main': 'Rain', 'description': 'light rain', 'icon': '10d'}], 'clouds': {'all': 1}, 'wind': {'speed': 6.78, 'deg': 195, 'gust': 12.71}, 'visibility': 10000, 'pop': 0.28, 'rain': {'3h': 0.31}, 'sys': {'pod': 'd'}, 'dt_txt': '2023-09-28 15:00:00'}, {'dt': 1695924000, 'main': {'temp': 284.9, 'feels_like': 284.38, 'temp_min': 284.9, 'temp_max': 284.9, 'pressure': 1004, 'sea_level': 1004, 'grnd_level': 987, 'humidity': 86, 'temp_kf': 0}, 'weather': [{'id': 801, 'main': 'Clouds', 'description': 'few clouds', 'icon': '02n'}], 'clouds': {'all': 11}, 'wind': {'speed': 6.11, 'deg': 191, 'gust': 14.31}, 'visibility': 10000, 'pop': 0.12, 'sys': {'pod': 'n'}, 'dt_txt': '2023-09-28 18:00:00'}, {'dt': 1695934800, 'main': {'temp': 284.61, 'feels_like': 284.16, 'temp_min': 284.61, 'temp_max': 284.61, 'pressure': 1002, 'sea_level': 1002, 'grnd_level': 985, 'humidity': 90, 'temp_kf': 0}, 'weather': [{'id': 500, 'main': 'Rain', 'description': 'light rain', 'icon': '10n'}], 'clouds': {'all': 77}, 'wind': {'speed': 6.48, 'deg': 191, 'gust': 13.82}, 'visibility': 10000, 'pop': 0.96, 'rain': {'3h': 0.81}, 'sys': {'pod': 'n'}, 'dt_txt': '2023-09-28 21:00:00'}], 'city': {'id': 3139081, 'name': 'Ski', 'coord': {'lat': 59.7195, 'lon': 10.8358}, 'country': 'NO', 'population': 12513, 'timezone': 7200, 'sunrise': 1695531871, 'sunset': 1695575591}}\n"
     ]
    }
   ],
   "source": [
    "responseF = requests.get(urlF).json()\n",
    "print(responseF)"
   ]
  },
  {
   "cell_type": "code",
   "execution_count": 11,
   "metadata": {
    "slideshow": {
     "slide_type": "slide"
    }
   },
   "outputs": [],
   "source": [
    "# Write JSON to file for viewing\n",
    "with open('downloads/forecast.json', 'w') as f:\n",
    "    json.dump(responseF, f, indent=4)"
   ]
  },
  {
   "cell_type": "markdown",
   "metadata": {
    "slideshow": {
     "slide_type": "slide"
    }
   },
   "source": [
    "### When and what?\n",
    "Check contents and time stamps"
   ]
  },
  {
   "cell_type": "code",
   "execution_count": 12,
   "metadata": {
    "slideshow": {
     "slide_type": "-"
    }
   },
   "outputs": [
    {
     "data": {
      "text/plain": [
       "dict_keys(['cod', 'message', 'cnt', 'list', 'city'])"
      ]
     },
     "execution_count": 12,
     "metadata": {},
     "output_type": "execute_result"
    }
   ],
   "source": [
    "# Content of responseF\n",
    "responseF.keys()"
   ]
  },
  {
   "cell_type": "code",
   "execution_count": 13,
   "metadata": {
    "slideshow": {
     "slide_type": "fragment"
    }
   },
   "outputs": [
    {
     "name": "stdout",
     "output_type": "stream",
     "text": [
      "40\n"
     ]
    }
   ],
   "source": [
    "# Number of forecasts\n",
    "print(len(responseF[\"list\"]))"
   ]
  },
  {
   "cell_type": "code",
   "execution_count": 14,
   "metadata": {
    "slideshow": {
     "slide_type": "slide"
    }
   },
   "outputs": [
    {
     "name": "stdout",
     "output_type": "stream",
     "text": [
      "2023-09-24 00:00:00\n",
      "2023-09-24 03:00:00\n",
      "2023-09-24 06:00:00\n",
      "2023-09-24 09:00:00\n",
      "2023-09-24 12:00:00\n",
      "2023-09-24 15:00:00\n",
      "2023-09-24 18:00:00\n",
      "2023-09-24 21:00:00\n",
      "2023-09-25 00:00:00\n",
      "2023-09-25 03:00:00\n",
      "2023-09-25 06:00:00\n",
      "2023-09-25 09:00:00\n",
      "2023-09-25 12:00:00\n",
      "2023-09-25 15:00:00\n",
      "2023-09-25 18:00:00\n",
      "2023-09-25 21:00:00\n",
      "2023-09-26 00:00:00\n",
      "2023-09-26 03:00:00\n",
      "2023-09-26 06:00:00\n",
      "2023-09-26 09:00:00\n",
      "2023-09-26 12:00:00\n",
      "2023-09-26 15:00:00\n",
      "2023-09-26 18:00:00\n",
      "2023-09-26 21:00:00\n",
      "2023-09-27 00:00:00\n",
      "2023-09-27 03:00:00\n",
      "2023-09-27 06:00:00\n",
      "2023-09-27 09:00:00\n",
      "2023-09-27 12:00:00\n",
      "2023-09-27 15:00:00\n",
      "2023-09-27 18:00:00\n",
      "2023-09-27 21:00:00\n",
      "2023-09-28 00:00:00\n",
      "2023-09-28 03:00:00\n",
      "2023-09-28 06:00:00\n",
      "2023-09-28 09:00:00\n",
      "2023-09-28 12:00:00\n",
      "2023-09-28 15:00:00\n",
      "2023-09-28 18:00:00\n",
      "2023-09-28 21:00:00\n"
     ]
    }
   ],
   "source": [
    "# Print forecast times\n",
    "for forecast in responseF[\"list\"]:\n",
    "    print(forecast[\"dt_txt\"])"
   ]
  },
  {
   "cell_type": "markdown",
   "metadata": {
    "slideshow": {
     "slide_type": "slide"
    }
   },
   "source": [
    "## Make plots of omnipresent measurements and events\n",
    "We will later look at missing data, data only sporadically appearing and so on."
   ]
  },
  {
   "cell_type": "code",
   "execution_count": 15,
   "metadata": {
    "slideshow": {
     "slide_type": "-"
    }
   },
   "outputs": [],
   "source": [
    "# Air pressure per period\n",
    "pressures = []\n",
    "timestamps = []\n",
    "for forecast in responseF[\"list\"]:\n",
    "    pressures.append(forecast[\"main\"][\"pressure\"])\n",
    "    timestamps.append(dt.datetime.fromtimestamp(forecast[\"dt\"]))"
   ]
  },
  {
   "cell_type": "code",
   "execution_count": 16,
   "metadata": {
    "slideshow": {
     "slide_type": "slide"
    }
   },
   "outputs": [
    {
     "data": {
      "image/png": "[encoded data removed]",
      "text/plain": [
       "<Figure size 640x480 with 1 Axes>"
      ]
     },
     "metadata": {},
     "output_type": "display_data"
    }
   ],
   "source": [
    "import matplotlib.pyplot as plt\n",
    "plt.bar(timestamps, pressures)\n",
    "plt.xticks(rotation=45)\n",
    "plt.ylim(950, 1050)\n",
    "plt.grid()\n",
    "plt.ylabel(\"Air pressure (hPa)\")\n",
    "plt.title(f\"Forecasted air pressure in {CITY}\")\n",
    "plt.show()"
   ]
  },
  {
   "cell_type": "markdown",
   "metadata": {
    "slideshow": {
     "slide_type": "slide"
    }
   },
   "source": [
    "### Precipitation\n",
    "- ... comes in two main flavours: rain and snow.\n",
    "- We need to check which is present and set to zero if it is abscent."
   ]
  },
  {
   "cell_type": "code",
   "execution_count": 17,
   "metadata": {
    "slideshow": {
     "slide_type": "-"
    }
   },
   "outputs": [],
   "source": [
    "rain = []\n",
    "snow = []\n",
    "for forecast in responseF[\"list\"]:\n",
    "    try: # Check if rain is present in forecast\n",
    "        rain.append(forecast[\"rain\"][\"3h\"])\n",
    "    except KeyError:\n",
    "        rain.append(0)\n",
    "    try: # Check if snow is present in forecast\n",
    "        snow.append(forecast[\"snow\"][\"3h\"])\n",
    "    except KeyError:\n",
    "        snow.append(0)"
   ]
  },
  {
   "cell_type": "code",
   "execution_count": 18,
   "metadata": {
    "slideshow": {
     "slide_type": "slide"
    }
   },
   "outputs": [
    {
     "data": {
      "image/png": "[encoded data removed]",
      "text/plain": [
       "<Figure size 640x480 with 1 Axes>"
      ]
     },
     "metadata": {},
     "output_type": "display_data"
    }
   ],
   "source": [
    "# Stacked bar chart with rain and snow\n",
    "plt.bar(timestamps, rain, label=\"Rain\")\n",
    "plt.bar(timestamps, snow, label=\"Snow\")\n",
    "plt.xticks(rotation=45)\n",
    "plt.grid()\n",
    "plt.ylabel(\"Precipitation (mm)\")\n",
    "plt.title(f\"Forecasted precipitation in {CITY}\")\n",
    "plt.legend()\n",
    "plt.show()\n"
   ]
  },
  {
   "cell_type": "markdown",
   "metadata": {},
   "source": [
    "## Resources\n",
    "- [NeuralNine's video](https://www.youtube.com/watch?v=9P5MY_2i7K8)"
   ]
  }
 ],
 "metadata": {
  "celltoolbar": "Slideshow",
  "kernelspec": {
   "display_name": "Python 3 (ipykernel)",
   "language": "python",
   "name": "python3"
  },
  "language_info": {
   "codemirror_mode": {
    "name": "ipython",
    "version": 3
   },
   "file_extension": ".py",
   "mimetype": "text/x-python",
   "name": "python",
   "nbconvert_exporter": "python",
   "pygments_lexer": "ipython3",
   "version": "3.10.6"
  }
 },
 "nbformat": 4,
 "nbformat_minor": 2
}