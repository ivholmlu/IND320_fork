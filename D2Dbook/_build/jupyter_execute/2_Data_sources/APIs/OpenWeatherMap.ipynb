{
 "cells": [
  {
   "cell_type": "markdown",
   "metadata": {
    "slideshow": {
     "slide_type": "slide"
    }
   },
   "source": [
    "# Demonstration of API using OpenWeatherMap.org\n",
    "This demonstration is heavily inspired by [NeuralNine's video](https://www.youtube.com/watch?v=9P5MY_2i7K8).  \n",
    "You need a free account [from here](https://openweathermap.org/api).  \n",
    "The VS Code extension _JSON viewer_ is recommended for viewing downloaded JSON content.  \n",
    "  - Set your maximum API calls to 1000 per day to make sure you are under the limit for billing. \n",
    "  - To run the examples, download your API key, save it in the right folder (see below) in a file called _api\\_key\\_OpenWeather_, containing only the key (no spaces or \"enters\")."
   ]
  },
  {
   "cell_type": "code",
   "execution_count": 1,
   "metadata": {
    "slideshow": {
     "slide_type": "fragment"
    }
   },
   "outputs": [],
   "source": [
    "# Imports\n",
    "import datetime as dt\n",
    "import requests\n",
    "import json"
   ]
  },
  {
   "cell_type": "markdown",
   "metadata": {
    "slideshow": {
     "slide_type": "slide"
    }
   },
   "source": [
    "## Current weather\n",
    "### Common definitions to use for all requests"
   ]
  },
  {
   "cell_type": "code",
   "execution_count": 2,
   "metadata": {
    "slideshow": {
     "slide_type": "-"
    }
   },
   "outputs": [],
   "source": [
    "BASE_URL = \"http://api.openweathermap.org/data/2.5/weather?\"\n",
    "API_KEY = open('../../../No_sync/api_key_OpenWeather','r').read()\n",
    "CITY = \"Ski\"\n",
    "\n",
    "url = BASE_URL + \"q=\" + CITY + \"&appid=\" + API_KEY"
   ]
  },
  {
   "cell_type": "markdown",
   "metadata": {
    "slideshow": {
     "slide_type": "slide"
    }
   },
   "source": [
    "## Request current weather in chosen city"
   ]
  },
  {
   "cell_type": "code",
   "execution_count": 3,
   "metadata": {
    "slideshow": {
     "slide_type": "fragment"
    }
   },
   "outputs": [
    {
     "name": "stdout",
     "output_type": "stream",
     "text": [
      "{'coord': {'lon': 10.8358, 'lat': 59.7195}, 'weather': [{'id': 804, 'main': 'Clouds', 'description': 'overcast clouds', 'icon': '04d'}], 'base': 'stations', 'main': {'temp': 287.04, 'feels_like': 286.91, 'temp_min': 286.36, 'temp_max': 288.2, 'pressure': 1017, 'humidity': 93, 'sea_level': 1017, 'grnd_level': 1000}, 'visibility': 10000, 'wind': {'speed': 6.21, 'deg': 193, 'gust': 14.31}, 'clouds': {'all': 100}, 'dt': 1695627722, 'sys': {'type': 2, 'id': 2006772, 'country': 'NO', 'sunrise': 1695618409, 'sunset': 1695661810}, 'timezone': 7200, 'id': 3139081, 'name': 'Ski', 'cod': 200}\n"
     ]
    }
   ],
   "source": [
    "response = requests.get(url).json()\n",
    "print(response)"
   ]
  },
  {
   "cell_type": "code",
   "execution_count": 4,
   "metadata": {
    "slideshow": {
     "slide_type": "fragment"
    }
   },
   "outputs": [],
   "source": [
    "# Write JSON to file for viewing\n",
    "with open('downloads/weather.json', 'w') as f:\n",
    "    json.dump(response, f, indent=4)"
   ]
  },
  {
   "cell_type": "markdown",
   "metadata": {
    "slideshow": {
     "slide_type": "slide"
    }
   },
   "source": [
    "## Conversion functions\n",
    "Changing scales can make results more interpretable"
   ]
  },
  {
   "cell_type": "code",
   "execution_count": 5,
   "metadata": {
    "slideshow": {
     "slide_type": "-"
    }
   },
   "outputs": [],
   "source": [
    "# Kelvin to Celsius\n",
    "def kelvin_to_celsius(temp):\n",
    "    return temp - 273.15\n",
    "\n",
    "# Meters per second to knots\n",
    "def mps_to_knots(speed):\n",
    "    return speed * 1.943844"
   ]
  },
  {
   "cell_type": "markdown",
   "metadata": {
    "slideshow": {
     "slide_type": "slide"
    }
   },
   "source": [
    "## Print some weather properties"
   ]
  },
  {
   "cell_type": "code",
   "execution_count": 6,
   "metadata": {
    "slideshow": {
     "slide_type": "-"
    }
   },
   "outputs": [
    {
     "name": "stdout",
     "output_type": "stream",
     "text": [
      "The current temperature in Ski is 13.89°C\n"
     ]
    }
   ],
   "source": [
    "# Current temperature\n",
    "temp_kelvin = response['main']['temp']\n",
    "temp_celsius = kelvin_to_celsius(temp_kelvin)\n",
    "print(f\"The current temperature in {CITY} is {temp_celsius:.2f}°C\")"
   ]
  },
  {
   "cell_type": "code",
   "execution_count": 7,
   "metadata": {
    "slideshow": {
     "slide_type": "slide"
    }
   },
   "outputs": [
    {
     "name": "stdout",
     "output_type": "stream",
     "text": [
      "Sunrise today is at 07:06 and sunset is at 19:10\n"
     ]
    }
   ],
   "source": [
    "# Sunrise and sunset today in local time\n",
    "sunrise = dt.datetime.fromtimestamp(response['sys']['sunrise'])\n",
    "sunset = dt.datetime.fromtimestamp(response['sys']['sunset'])\n",
    "print(f\"Sunrise today is at {sunrise:%H:%M} and sunset is at {sunset:%H:%M}\")"
   ]
  },
  {
   "cell_type": "code",
   "execution_count": 8,
   "metadata": {
    "slideshow": {
     "slide_type": "fragment"
    }
   },
   "outputs": [
    {
     "name": "stdout",
     "output_type": "stream",
     "text": [
      "Wind today is from 193° at 12.1 knots\n"
     ]
    }
   ],
   "source": [
    "# Wind direction and speed\n",
    "wind_knots = mps_to_knots(response['wind']['speed'])\n",
    "print(f\"Wind today is from {response['wind']['deg']}° at {round(wind_knots,1)} knots\")"
   ]
  },
  {
   "cell_type": "markdown",
   "metadata": {
    "slideshow": {
     "slide_type": "slide"
    }
   },
   "source": [
    "## Forecasted weather\n",
    "### Common definitions to use for all requests"
   ]
  },
  {
   "cell_type": "code",
   "execution_count": 9,
   "metadata": {
    "slideshow": {
     "slide_type": "-"
    }
   },
   "outputs": [],
   "source": [
    "BASE_URL = \"http://api.openweathermap.org/data/2.5/forecast?\"\n",
    "CITY = \"Ski\"\n",
    "\n",
    "urlF = BASE_URL + \"q=\" + CITY + \"&appid=\" + API_KEY"
   ]
  },
  {
   "cell_type": "markdown",
   "metadata": {
    "slideshow": {
     "slide_type": "slide"
    }
   },
   "source": [
    "## Request current weather in chosen city"
   ]
  },
  {
   "cell_type": "code",
   "execution_count": 10,
   "metadata": {
    "slideshow": {
     "slide_type": "-"
    }
   },
   "outputs": [
    {
     "name": "stdout",
     "output_type": "stream",
     "text": [
      "{'cod': '200', 'message': 0, 'cnt': 40, 'list': [{'dt': 1695632400, 'main': {'temp': 287.55, 'feels_like': 287.47, 'temp_min': 286.61, 'temp_max': 287.55, 'pressure': 1016, 'sea_level': 1016, 'grnd_level': 1000, 'humidity': 93, 'temp_kf': 0.94}, 'weather': [{'id': 500, 'main': 'Rain', 'description': 'light rain', 'icon': '10d'}], 'clouds': {'all': 100}, 'wind': {'speed': 6.51, 'deg': 189, 'gust': 13.92}, 'visibility': 10000, 'pop': 0.72, 'rain': {'3h': 0.83}, 'sys': {'pod': 'd'}, 'dt_txt': '2023-09-25 09:00:00'}, {'dt': 1695643200, 'main': {'temp': 287.63, 'feels_like': 287.46, 'temp_min': 287.63, 'temp_max': 287.78, 'pressure': 1016, 'sea_level': 1016, 'grnd_level': 1000, 'humidity': 89, 'temp_kf': -0.15}, 'weather': [{'id': 500, 'main': 'Rain', 'description': 'light rain', 'icon': '10d'}], 'clouds': {'all': 100}, 'wind': {'speed': 6.88, 'deg': 191, 'gust': 13.62}, 'visibility': 10000, 'pop': 0.59, 'rain': {'3h': 0.11}, 'sys': {'pod': 'd'}, 'dt_txt': '2023-09-25 12:00:00'}, {'dt': 1695654000, 'main': {'temp': 286.86, 'feels_like': 286.71, 'temp_min': 286.51, 'temp_max': 286.86, 'pressure': 1016, 'sea_level': 1016, 'grnd_level': 999, 'humidity': 93, 'temp_kf': 0.35}, 'weather': [{'id': 500, 'main': 'Rain', 'description': 'light rain', 'icon': '10d'}], 'clouds': {'all': 100}, 'wind': {'speed': 6.22, 'deg': 186, 'gust': 13.43}, 'visibility': 10000, 'pop': 0.38, 'rain': {'3h': 0.12}, 'sys': {'pod': 'd'}, 'dt_txt': '2023-09-25 15:00:00'}, {'dt': 1695664800, 'main': {'temp': 287.25, 'feels_like': 287.14, 'temp_min': 287.25, 'temp_max': 287.25, 'pressure': 1017, 'sea_level': 1017, 'grnd_level': 1000, 'humidity': 93, 'temp_kf': 0}, 'weather': [{'id': 500, 'main': 'Rain', 'description': 'light rain', 'icon': '10n'}], 'clouds': {'all': 100}, 'wind': {'speed': 5.39, 'deg': 203, 'gust': 11.28}, 'visibility': 10000, 'pop': 0.72, 'rain': {'3h': 0.54}, 'sys': {'pod': 'n'}, 'dt_txt': '2023-09-25 18:00:00'}, {'dt': 1695675600, 'main': {'temp': 286.36, 'feels_like': 286.22, 'temp_min': 286.36, 'temp_max': 286.36, 'pressure': 1017, 'sea_level': 1017, 'grnd_level': 1001, 'humidity': 95, 'temp_kf': 0}, 'weather': [{'id': 803, 'main': 'Clouds', 'description': 'broken clouds', 'icon': '04n'}], 'clouds': {'all': 83}, 'wind': {'speed': 4.55, 'deg': 197, 'gust': 11.76}, 'visibility': 10000, 'pop': 0.25, 'sys': {'pod': 'n'}, 'dt_txt': '2023-09-25 21:00:00'}, {'dt': 1695686400, 'main': {'temp': 285.15, 'feels_like': 284.86, 'temp_min': 285.15, 'temp_max': 285.15, 'pressure': 1018, 'sea_level': 1018, 'grnd_level': 1002, 'humidity': 94, 'temp_kf': 0}, 'weather': [{'id': 803, 'main': 'Clouds', 'description': 'broken clouds', 'icon': '04n'}], 'clouds': {'all': 75}, 'wind': {'speed': 4.09, 'deg': 200, 'gust': 10.88}, 'visibility': 10000, 'pop': 0.15, 'sys': {'pod': 'n'}, 'dt_txt': '2023-09-26 00:00:00'}, {'dt': 1695697200, 'main': {'temp': 284.02, 'feels_like': 283.62, 'temp_min': 284.02, 'temp_max': 284.02, 'pressure': 1019, 'sea_level': 1019, 'grnd_level': 1002, 'humidity': 94, 'temp_kf': 0}, 'weather': [{'id': 804, 'main': 'Clouds', 'description': 'overcast clouds', 'icon': '04n'}], 'clouds': {'all': 99}, 'wind': {'speed': 3, 'deg': 187, 'gust': 9.52}, 'visibility': 10000, 'pop': 0, 'sys': {'pod': 'n'}, 'dt_txt': '2023-09-26 03:00:00'}, {'dt': 1695708000, 'main': {'temp': 284.02, 'feels_like': 283.67, 'temp_min': 284.02, 'temp_max': 284.02, 'pressure': 1020, 'sea_level': 1020, 'grnd_level': 1003, 'humidity': 96, 'temp_kf': 0}, 'weather': [{'id': 804, 'main': 'Clouds', 'description': 'overcast clouds', 'icon': '04d'}], 'clouds': {'all': 95}, 'wind': {'speed': 2.84, 'deg': 193, 'gust': 8.51}, 'visibility': 10000, 'pop': 0, 'sys': {'pod': 'd'}, 'dt_txt': '2023-09-26 06:00:00'}, {'dt': 1695718800, 'main': {'temp': 287.55, 'feels_like': 287.16, 'temp_min': 287.55, 'temp_max': 287.55, 'pressure': 1020, 'sea_level': 1020, 'grnd_level': 1003, 'humidity': 81, 'temp_kf': 0}, 'weather': [{'id': 804, 'main': 'Clouds', 'description': 'overcast clouds', 'icon': '04d'}], 'clouds': {'all': 99}, 'wind': {'speed': 3.86, 'deg': 199, 'gust': 8.94}, 'visibility': 10000, 'pop': 0, 'sys': {'pod': 'd'}, 'dt_txt': '2023-09-26 09:00:00'}, {'dt': 1695729600, 'main': {'temp': 289.86, 'feels_like': 289.26, 'temp_min': 289.86, 'temp_max': 289.86, 'pressure': 1020, 'sea_level': 1020, 'grnd_level': 1003, 'humidity': 64, 'temp_kf': 0}, 'weather': [{'id': 803, 'main': 'Clouds', 'description': 'broken clouds', 'icon': '04d'}], 'clouds': {'all': 61}, 'wind': {'speed': 4.76, 'deg': 198, 'gust': 7.52}, 'visibility': 10000, 'pop': 0, 'sys': {'pod': 'd'}, 'dt_txt': '2023-09-26 12:00:00'}, {'dt': 1695740400, 'main': {'temp': 288.41, 'feels_like': 288.05, 'temp_min': 288.41, 'temp_max': 288.41, 'pressure': 1020, 'sea_level': 1020, 'grnd_level': 1003, 'humidity': 79, 'temp_kf': 0}, 'weather': [{'id': 802, 'main': 'Clouds', 'description': 'scattered clouds', 'icon': '03d'}], 'clouds': {'all': 32}, 'wind': {'speed': 4.02, 'deg': 182, 'gust': 7.84}, 'visibility': 10000, 'pop': 0, 'sys': {'pod': 'd'}, 'dt_txt': '2023-09-26 15:00:00'}, {'dt': 1695751200, 'main': {'temp': 285.28, 'feels_like': 285.11, 'temp_min': 285.28, 'temp_max': 285.28, 'pressure': 1020, 'sea_level': 1020, 'grnd_level': 1003, 'humidity': 98, 'temp_kf': 0}, 'weather': [{'id': 803, 'main': 'Clouds', 'description': 'broken clouds', 'icon': '04n'}], 'clouds': {'all': 66}, 'wind': {'speed': 2.9, 'deg': 173, 'gust': 8.99}, 'visibility': 10000, 'pop': 0, 'sys': {'pod': 'n'}, 'dt_txt': '2023-09-26 18:00:00'}, {'dt': 1695762000, 'main': {'temp': 284.36, 'feels_like': 284.12, 'temp_min': 284.36, 'temp_max': 284.36, 'pressure': 1019, 'sea_level': 1019, 'grnd_level': 1002, 'humidity': 99, 'temp_kf': 0}, 'weather': [{'id': 804, 'main': 'Clouds', 'description': 'overcast clouds', 'icon': '04n'}], 'clouds': {'all': 96}, 'wind': {'speed': 1.69, 'deg': 147, 'gust': 5.1}, 'visibility': 10000, 'pop': 0.05, 'sys': {'pod': 'n'}, 'dt_txt': '2023-09-26 21:00:00'}, {'dt': 1695772800, 'main': {'temp': 286.24, 'feels_like': 286.11, 'temp_min': 286.24, 'temp_max': 286.24, 'pressure': 1018, 'sea_level': 1018, 'grnd_level': 1001, 'humidity': 96, 'temp_kf': 0}, 'weather': [{'id': 500, 'main': 'Rain', 'description': 'light rain', 'icon': '10n'}], 'clouds': {'all': 98}, 'wind': {'speed': 2.16, 'deg': 163, 'gust': 7.44}, 'visibility': 10000, 'pop': 0.31, 'rain': {'3h': 0.12}, 'sys': {'pod': 'n'}, 'dt_txt': '2023-09-27 00:00:00'}, {'dt': 1695783600, 'main': {'temp': 285.7, 'feels_like': 285.47, 'temp_min': 285.7, 'temp_max': 285.7, 'pressure': 1017, 'sea_level': 1017, 'grnd_level': 1000, 'humidity': 94, 'temp_kf': 0}, 'weather': [{'id': 804, 'main': 'Clouds', 'description': 'overcast clouds', 'icon': '04n'}], 'clouds': {'all': 100}, 'wind': {'speed': 1.78, 'deg': 154, 'gust': 6.5}, 'visibility': 10000, 'pop': 0.05, 'sys': {'pod': 'n'}, 'dt_txt': '2023-09-27 03:00:00'}, {'dt': 1695794400, 'main': {'temp': 285.65, 'feels_like': 285.46, 'temp_min': 285.65, 'temp_max': 285.65, 'pressure': 1015, 'sea_level': 1015, 'grnd_level': 999, 'humidity': 96, 'temp_kf': 0}, 'weather': [{'id': 500, 'main': 'Rain', 'description': 'light rain', 'icon': '10d'}], 'clouds': {'all': 100}, 'wind': {'speed': 3.06, 'deg': 164, 'gust': 9.54}, 'visibility': 10000, 'pop': 0.65, 'rain': {'3h': 1.21}, 'sys': {'pod': 'd'}, 'dt_txt': '2023-09-27 06:00:00'}, {'dt': 1695805200, 'main': {'temp': 286.34, 'feels_like': 286.2, 'temp_min': 286.34, 'temp_max': 286.34, 'pressure': 1015, 'sea_level': 1015, 'grnd_level': 998, 'humidity': 95, 'temp_kf': 0}, 'weather': [{'id': 500, 'main': 'Rain', 'description': 'light rain', 'icon': '10d'}], 'clouds': {'all': 99}, 'wind': {'speed': 4.05, 'deg': 184, 'gust': 10.09}, 'visibility': 10000, 'pop': 1, 'rain': {'3h': 1.33}, 'sys': {'pod': 'd'}, 'dt_txt': '2023-09-27 09:00:00'}, {'dt': 1695816000, 'main': {'temp': 288.86, 'feels_like': 288.71, 'temp_min': 288.86, 'temp_max': 288.86, 'pressure': 1015, 'sea_level': 1015, 'grnd_level': 998, 'humidity': 85, 'temp_kf': 0}, 'weather': [{'id': 500, 'main': 'Rain', 'description': 'light rain', 'icon': '10d'}], 'clouds': {'all': 95}, 'wind': {'speed': 4.22, 'deg': 206, 'gust': 8.01}, 'visibility': 10000, 'pop': 1, 'rain': {'3h': 0.23}, 'sys': {'pod': 'd'}, 'dt_txt': '2023-09-27 12:00:00'}, {'dt': 1695826800, 'main': {'temp': 289.6, 'feels_like': 289.29, 'temp_min': 289.6, 'temp_max': 289.6, 'pressure': 1015, 'sea_level': 1015, 'grnd_level': 998, 'humidity': 76, 'temp_kf': 0}, 'weather': [{'id': 802, 'main': 'Clouds', 'description': 'scattered clouds', 'icon': '03d'}], 'clouds': {'all': 30}, 'wind': {'speed': 2.74, 'deg': 191, 'gust': 5.82}, 'visibility': 10000, 'pop': 0, 'sys': {'pod': 'd'}, 'dt_txt': '2023-09-27 15:00:00'}, {'dt': 1695837600, 'main': {'temp': 284.98, 'feels_like': 284.65, 'temp_min': 284.98, 'temp_max': 284.98, 'pressure': 1015, 'sea_level': 1015, 'grnd_level': 998, 'humidity': 93, 'temp_kf': 0}, 'weather': [{'id': 803, 'main': 'Clouds', 'description': 'broken clouds', 'icon': '04n'}], 'clouds': {'all': 52}, 'wind': {'speed': 2.65, 'deg': 169, 'gust': 8.18}, 'visibility': 10000, 'pop': 0, 'sys': {'pod': 'n'}, 'dt_txt': '2023-09-27 18:00:00'}, {'dt': 1695848400, 'main': {'temp': 284.86, 'feels_like': 284.54, 'temp_min': 284.86, 'temp_max': 284.86, 'pressure': 1015, 'sea_level': 1015, 'grnd_level': 998, 'humidity': 94, 'temp_kf': 0}, 'weather': [{'id': 804, 'main': 'Clouds', 'description': 'overcast clouds', 'icon': '04n'}], 'clouds': {'all': 99}, 'wind': {'speed': 2.38, 'deg': 169, 'gust': 7.28}, 'visibility': 10000, 'pop': 0, 'sys': {'pod': 'n'}, 'dt_txt': '2023-09-27 21:00:00'}, {'dt': 1695859200, 'main': {'temp': 284.6, 'feels_like': 284.23, 'temp_min': 284.6, 'temp_max': 284.6, 'pressure': 1014, 'sea_level': 1014, 'grnd_level': 997, 'humidity': 93, 'temp_kf': 0}, 'weather': [{'id': 804, 'main': 'Clouds', 'description': 'overcast clouds', 'icon': '04n'}], 'clouds': {'all': 100}, 'wind': {'speed': 1.72, 'deg': 139, 'gust': 4.26}, 'visibility': 10000, 'pop': 0, 'sys': {'pod': 'n'}, 'dt_txt': '2023-09-28 00:00:00'}, {'dt': 1695870000, 'main': {'temp': 284.55, 'feels_like': 284.07, 'temp_min': 284.55, 'temp_max': 284.55, 'pressure': 1013, 'sea_level': 1013, 'grnd_level': 996, 'humidity': 89, 'temp_kf': 0}, 'weather': [{'id': 500, 'main': 'Rain', 'description': 'light rain', 'icon': '10n'}], 'clouds': {'all': 100}, 'wind': {'speed': 1.38, 'deg': 85, 'gust': 2.15}, 'visibility': 10000, 'pop': 0.33, 'rain': {'3h': 0.1}, 'sys': {'pod': 'n'}, 'dt_txt': '2023-09-28 03:00:00'}, {'dt': 1695880800, 'main': {'temp': 286.18, 'feels_like': 286.05, 'temp_min': 286.18, 'temp_max': 286.18, 'pressure': 1010, 'sea_level': 1010, 'grnd_level': 993, 'humidity': 96, 'temp_kf': 0}, 'weather': [{'id': 500, 'main': 'Rain', 'description': 'light rain', 'icon': '10d'}], 'clouds': {'all': 100}, 'wind': {'speed': 3.51, 'deg': 124, 'gust': 10.62}, 'visibility': 10000, 'pop': 0.51, 'rain': {'3h': 0.32}, 'sys': {'pod': 'd'}, 'dt_txt': '2023-09-28 06:00:00'}, {'dt': 1695891600, 'main': {'temp': 288.24, 'feels_like': 288.1, 'temp_min': 288.24, 'temp_max': 288.24, 'pressure': 1007, 'sea_level': 1007, 'grnd_level': 991, 'humidity': 88, 'temp_kf': 0}, 'weather': [{'id': 500, 'main': 'Rain', 'description': 'light rain', 'icon': '10d'}], 'clouds': {'all': 96}, 'wind': {'speed': 5.27, 'deg': 157, 'gust': 11.96}, 'visibility': 10000, 'pop': 0.66, 'rain': {'3h': 0.37}, 'sys': {'pod': 'd'}, 'dt_txt': '2023-09-28 09:00:00'}, {'dt': 1695902400, 'main': {'temp': 288.41, 'feels_like': 288.26, 'temp_min': 288.41, 'temp_max': 288.41, 'pressure': 1006, 'sea_level': 1006, 'grnd_level': 990, 'humidity': 87, 'temp_kf': 0}, 'weather': [{'id': 500, 'main': 'Rain', 'description': 'light rain', 'icon': '10d'}], 'clouds': {'all': 95}, 'wind': {'speed': 5.87, 'deg': 189, 'gust': 11.71}, 'visibility': 10000, 'pop': 1, 'rain': {'3h': 0.47}, 'sys': {'pod': 'd'}, 'dt_txt': '2023-09-28 12:00:00'}, {'dt': 1695913200, 'main': {'temp': 288.39, 'feels_like': 288.22, 'temp_min': 288.39, 'temp_max': 288.39, 'pressure': 1006, 'sea_level': 1006, 'grnd_level': 990, 'humidity': 86, 'temp_kf': 0}, 'weather': [{'id': 500, 'main': 'Rain', 'description': 'light rain', 'icon': '10d'}], 'clouds': {'all': 84}, 'wind': {'speed': 5.38, 'deg': 198, 'gust': 10.86}, 'visibility': 10000, 'pop': 0.23, 'rain': {'3h': 0.27}, 'sys': {'pod': 'd'}, 'dt_txt': '2023-09-28 15:00:00'}, {'dt': 1695924000, 'main': {'temp': 286.69, 'feels_like': 286.48, 'temp_min': 286.69, 'temp_max': 286.69, 'pressure': 1007, 'sea_level': 1007, 'grnd_level': 990, 'humidity': 91, 'temp_kf': 0}, 'weather': [{'id': 804, 'main': 'Clouds', 'description': 'overcast clouds', 'icon': '04n'}], 'clouds': {'all': 92}, 'wind': {'speed': 5.42, 'deg': 201, 'gust': 12.22}, 'visibility': 10000, 'pop': 0, 'sys': {'pod': 'n'}, 'dt_txt': '2023-09-28 18:00:00'}, {'dt': 1695934800, 'main': {'temp': 286.08, 'feels_like': 285.78, 'temp_min': 286.08, 'temp_max': 286.08, 'pressure': 1007, 'sea_level': 1007, 'grnd_level': 991, 'humidity': 90, 'temp_kf': 0}, 'weather': [{'id': 804, 'main': 'Clouds', 'description': 'overcast clouds', 'icon': '04n'}], 'clouds': {'all': 100}, 'wind': {'speed': 5.43, 'deg': 206, 'gust': 12.39}, 'visibility': 10000, 'pop': 0, 'sys': {'pod': 'n'}, 'dt_txt': '2023-09-28 21:00:00'}, {'dt': 1695945600, 'main': {'temp': 285.57, 'feels_like': 284.96, 'temp_min': 285.57, 'temp_max': 285.57, 'pressure': 1007, 'sea_level': 1007, 'grnd_level': 990, 'humidity': 80, 'temp_kf': 0}, 'weather': [{'id': 804, 'main': 'Clouds', 'description': 'overcast clouds', 'icon': '04n'}], 'clouds': {'all': 100}, 'wind': {'speed': 5.41, 'deg': 207, 'gust': 12.76}, 'visibility': 10000, 'pop': 0, 'sys': {'pod': 'n'}, 'dt_txt': '2023-09-29 00:00:00'}, {'dt': 1695956400, 'main': {'temp': 285.15, 'feels_like': 284.57, 'temp_min': 285.15, 'temp_max': 285.15, 'pressure': 1006, 'sea_level': 1006, 'grnd_level': 990, 'humidity': 83, 'temp_kf': 0}, 'weather': [{'id': 804, 'main': 'Clouds', 'description': 'overcast clouds', 'icon': '04n'}], 'clouds': {'all': 100}, 'wind': {'speed': 5.43, 'deg': 206, 'gust': 11.66}, 'visibility': 10000, 'pop': 0.02, 'sys': {'pod': 'n'}, 'dt_txt': '2023-09-29 03:00:00'}, {'dt': 1695967200, 'main': {'temp': 284.19, 'feels_like': 283.49, 'temp_min': 284.19, 'temp_max': 284.19, 'pressure': 1005, 'sea_level': 1005, 'grnd_level': 988, 'humidity': 82, 'temp_kf': 0}, 'weather': [{'id': 500, 'main': 'Rain', 'description': 'light rain', 'icon': '10d'}], 'clouds': {'all': 100}, 'wind': {'speed': 4.5, 'deg': 200, 'gust': 10.14}, 'visibility': 10000, 'pop': 0.27, 'rain': {'3h': 0.19}, 'sys': {'pod': 'd'}, 'dt_txt': '2023-09-29 06:00:00'}, {'dt': 1695978000, 'main': {'temp': 283.57, 'feels_like': 283.17, 'temp_min': 283.57, 'temp_max': 283.57, 'pressure': 1003, 'sea_level': 1003, 'grnd_level': 987, 'humidity': 96, 'temp_kf': 0}, 'weather': [{'id': 500, 'main': 'Rain', 'description': 'light rain', 'icon': '10d'}], 'clouds': {'all': 96}, 'wind': {'speed': 0.65, 'deg': 73, 'gust': 1.2}, 'visibility': 10000, 'pop': 1, 'rain': {'3h': 2.42}, 'sys': {'pod': 'd'}, 'dt_txt': '2023-09-29 09:00:00'}, {'dt': 1695988800, 'main': {'temp': 283.34, 'feels_like': 282.87, 'temp_min': 283.34, 'temp_max': 283.34, 'pressure': 1002, 'sea_level': 1002, 'grnd_level': 985, 'humidity': 94, 'temp_kf': 0}, 'weather': [{'id': 501, 'main': 'Rain', 'description': 'moderate rain', 'icon': '10d'}], 'clouds': {'all': 98}, 'wind': {'speed': 0.84, 'deg': 9, 'gust': 2.17}, 'visibility': 10000, 'pop': 1, 'rain': {'3h': 3.73}, 'sys': {'pod': 'd'}, 'dt_txt': '2023-09-29 12:00:00'}, {'dt': 1695999600, 'main': {'temp': 286.38, 'feels_like': 285.82, 'temp_min': 286.38, 'temp_max': 286.38, 'pressure': 1005, 'sea_level': 1005, 'grnd_level': 988, 'humidity': 79, 'temp_kf': 0}, 'weather': [{'id': 802, 'main': 'Clouds', 'description': 'scattered clouds', 'icon': '03d'}], 'clouds': {'all': 35}, 'wind': {'speed': 2.95, 'deg': 243, 'gust': 8.48}, 'visibility': 10000, 'pop': 0, 'sys': {'pod': 'd'}, 'dt_txt': '2023-09-29 15:00:00'}, {'dt': 1696010400, 'main': {'temp': 283.28, 'feels_like': 282.46, 'temp_min': 283.28, 'temp_max': 283.28, 'pressure': 1007, 'sea_level': 1007, 'grnd_level': 990, 'humidity': 81, 'temp_kf': 0}, 'weather': [{'id': 801, 'main': 'Clouds', 'description': 'few clouds', 'icon': '02n'}], 'clouds': {'all': 18}, 'wind': {'speed': 3.17, 'deg': 233, 'gust': 9.89}, 'visibility': 10000, 'pop': 0, 'sys': {'pod': 'n'}, 'dt_txt': '2023-09-29 18:00:00'}, {'dt': 1696021200, 'main': {'temp': 282.14, 'feels_like': 280.34, 'temp_min': 282.14, 'temp_max': 282.14, 'pressure': 1009, 'sea_level': 1009, 'grnd_level': 993, 'humidity': 82, 'temp_kf': 0}, 'weather': [{'id': 802, 'main': 'Clouds', 'description': 'scattered clouds', 'icon': '03n'}], 'clouds': {'all': 39}, 'wind': {'speed': 3.18, 'deg': 220, 'gust': 9.84}, 'visibility': 10000, 'pop': 0, 'sys': {'pod': 'n'}, 'dt_txt': '2023-09-29 21:00:00'}, {'dt': 1696032000, 'main': {'temp': 282.27, 'feels_like': 280.09, 'temp_min': 282.27, 'temp_max': 282.27, 'pressure': 1010, 'sea_level': 1010, 'grnd_level': 994, 'humidity': 80, 'temp_kf': 0}, 'weather': [{'id': 801, 'main': 'Clouds', 'description': 'few clouds', 'icon': '02n'}], 'clouds': {'all': 24}, 'wind': {'speed': 3.96, 'deg': 206, 'gust': 10.72}, 'visibility': 10000, 'pop': 0, 'sys': {'pod': 'n'}, 'dt_txt': '2023-09-30 00:00:00'}, {'dt': 1696042800, 'main': {'temp': 282.66, 'feels_like': 280.55, 'temp_min': 282.66, 'temp_max': 282.66, 'pressure': 1010, 'sea_level': 1010, 'grnd_level': 993, 'humidity': 77, 'temp_kf': 0}, 'weather': [{'id': 800, 'main': 'Clear', 'description': 'clear sky', 'icon': '01n'}], 'clouds': {'all': 5}, 'wind': {'speed': 4, 'deg': 203, 'gust': 10.19}, 'visibility': 10000, 'pop': 0, 'sys': {'pod': 'n'}, 'dt_txt': '2023-09-30 03:00:00'}, {'dt': 1696053600, 'main': {'temp': 281.83, 'feels_like': 279.83, 'temp_min': 281.83, 'temp_max': 281.83, 'pressure': 1011, 'sea_level': 1011, 'grnd_level': 994, 'humidity': 77, 'temp_kf': 0}, 'weather': [{'id': 800, 'main': 'Clear', 'description': 'clear sky', 'icon': '01d'}], 'clouds': {'all': 5}, 'wind': {'speed': 3.43, 'deg': 215, 'gust': 10.62}, 'visibility': 10000, 'pop': 0, 'sys': {'pod': 'd'}, 'dt_txt': '2023-09-30 06:00:00'}], 'city': {'id': 3139081, 'name': 'Ski', 'coord': {'lat': 59.7195, 'lon': 10.8358}, 'country': 'NO', 'population': 12513, 'timezone': 7200, 'sunrise': 1695618409, 'sunset': 1695661810}}\n"
     ]
    }
   ],
   "source": [
    "responseF = requests.get(urlF).json()\n",
    "print(responseF)"
   ]
  },
  {
   "cell_type": "code",
   "execution_count": 11,
   "metadata": {
    "slideshow": {
     "slide_type": "slide"
    }
   },
   "outputs": [],
   "source": [
    "# Write JSON to file for viewing\n",
    "with open('downloads/forecast.json', 'w') as f:\n",
    "    json.dump(responseF, f, indent=4)"
   ]
  },
  {
   "cell_type": "markdown",
   "metadata": {
    "slideshow": {
     "slide_type": "slide"
    }
   },
   "source": [
    "### When and what?\n",
    "Check contents and time stamps"
   ]
  },
  {
   "cell_type": "code",
   "execution_count": 12,
   "metadata": {
    "slideshow": {
     "slide_type": "-"
    }
   },
   "outputs": [
    {
     "data": {
      "text/plain": [
       "dict_keys(['cod', 'message', 'cnt', 'list', 'city'])"
      ]
     },
     "execution_count": 12,
     "metadata": {},
     "output_type": "execute_result"
    }
   ],
   "source": [
    "# Content of responseF\n",
    "responseF.keys()"
   ]
  },
  {
   "cell_type": "code",
   "execution_count": 13,
   "metadata": {
    "slideshow": {
     "slide_type": "fragment"
    }
   },
   "outputs": [
    {
     "name": "stdout",
     "output_type": "stream",
     "text": [
      "40\n"
     ]
    }
   ],
   "source": [
    "# Number of forecasts\n",
    "print(len(responseF[\"list\"]))"
   ]
  },
  {
   "cell_type": "code",
   "execution_count": 14,
   "metadata": {
    "scrolled": true,
    "slideshow": {
     "slide_type": "slide"
    }
   },
   "outputs": [
    {
     "name": "stdout",
     "output_type": "stream",
     "text": [
      "2023-09-25 09:00:00\n",
      "2023-09-25 12:00:00\n",
      "2023-09-25 15:00:00\n",
      "2023-09-25 18:00:00\n",
      "2023-09-25 21:00:00\n",
      "2023-09-26 00:00:00\n",
      "2023-09-26 03:00:00\n",
      "2023-09-26 06:00:00\n",
      "2023-09-26 09:00:00\n",
      "2023-09-26 12:00:00\n",
      "2023-09-26 15:00:00\n",
      "2023-09-26 18:00:00\n",
      "2023-09-26 21:00:00\n",
      "2023-09-27 00:00:00\n",
      "2023-09-27 03:00:00\n",
      "2023-09-27 06:00:00\n",
      "2023-09-27 09:00:00\n",
      "2023-09-27 12:00:00\n",
      "2023-09-27 15:00:00\n",
      "2023-09-27 18:00:00\n",
      "2023-09-27 21:00:00\n",
      "2023-09-28 00:00:00\n",
      "2023-09-28 03:00:00\n",
      "2023-09-28 06:00:00\n",
      "2023-09-28 09:00:00\n",
      "2023-09-28 12:00:00\n",
      "2023-09-28 15:00:00\n",
      "2023-09-28 18:00:00\n",
      "2023-09-28 21:00:00\n",
      "2023-09-29 00:00:00\n",
      "2023-09-29 03:00:00\n",
      "2023-09-29 06:00:00\n",
      "2023-09-29 09:00:00\n",
      "2023-09-29 12:00:00\n",
      "2023-09-29 15:00:00\n",
      "2023-09-29 18:00:00\n",
      "2023-09-29 21:00:00\n",
      "2023-09-30 00:00:00\n",
      "2023-09-30 03:00:00\n",
      "2023-09-30 06:00:00\n"
     ]
    }
   ],
   "source": [
    "# Print forecast times\n",
    "for forecast in responseF[\"list\"]:\n",
    "    print(forecast[\"dt_txt\"])"
   ]
  },
  {
   "cell_type": "markdown",
   "metadata": {
    "slideshow": {
     "slide_type": "slide"
    }
   },
   "source": [
    "## Make plots of omnipresent measurements and events\n",
    "We will later look at missing data, data only sporadically appearing and so on."
   ]
  },
  {
   "cell_type": "code",
   "execution_count": 15,
   "metadata": {
    "slideshow": {
     "slide_type": "-"
    }
   },
   "outputs": [],
   "source": [
    "# Air pressure per period\n",
    "pressures = []\n",
    "timestamps = []\n",
    "for forecast in responseF[\"list\"]:\n",
    "    pressures.append(forecast[\"main\"][\"pressure\"])\n",
    "    timestamps.append(dt.datetime.fromtimestamp(forecast[\"dt\"]))"
   ]
  },
  {
   "cell_type": "code",
   "execution_count": 16,
   "metadata": {
    "slideshow": {
     "slide_type": "slide"
    }
   },
   "outputs": [
    {
     "data": {
      "image/png": "[encoded data removed]",
      "text/plain": [
       "<Figure size 640x480 with 1 Axes>"
      ]
     },
     "metadata": {},
     "output_type": "display_data"
    }
   ],
   "source": [
    "import matplotlib.pyplot as plt\n",
    "plt.bar(timestamps, pressures)\n",
    "plt.xticks(rotation=45)\n",
    "plt.ylim(950, 1050)\n",
    "plt.grid()\n",
    "plt.ylabel(\"Air pressure (hPa)\")\n",
    "plt.title(f\"Forecasted air pressure in {CITY}\")\n",
    "plt.show()"
   ]
  },
  {
   "cell_type": "markdown",
   "metadata": {
    "slideshow": {
     "slide_type": "slide"
    }
   },
   "source": [
    "## Exercise\n",
    "- Make a new forecast request for your own hometown. Call your response something else than responseF.\n",
    "- If available, plot the humidity like we did with air pressure."
   ]
  },
  {
   "cell_type": "markdown",
   "metadata": {
    "slideshow": {
     "slide_type": "slide"
    }
   },
   "source": [
    "### Precipitation\n",
    "- ... comes in two main flavours: rain and snow.\n",
    "- We need to check which is present and set to zero if it is abscent."
   ]
  },
  {
   "cell_type": "code",
   "execution_count": 17,
   "metadata": {
    "slideshow": {
     "slide_type": "-"
    }
   },
   "outputs": [],
   "source": [
    "rain = []\n",
    "snow = []\n",
    "for forecast in responseF[\"list\"]:\n",
    "    try: # Check if rain is present in forecast\n",
    "        rain.append(forecast[\"rain\"][\"3h\"])\n",
    "    except KeyError:\n",
    "        rain.append(0)\n",
    "    try: # Check if snow is present in forecast\n",
    "        snow.append(forecast[\"snow\"][\"3h\"])\n",
    "    except KeyError:\n",
    "        snow.append(0)"
   ]
  },
  {
   "cell_type": "code",
   "execution_count": 18,
   "metadata": {
    "slideshow": {
     "slide_type": "slide"
    }
   },
   "outputs": [
    {
     "data": {
      "image/png": "[encoded data removed]",
      "text/plain": [
       "<Figure size 640x480 with 1 Axes>"
      ]
     },
     "metadata": {},
     "output_type": "display_data"
    }
   ],
   "source": [
    "# Stacked bar chart with rain and snow\n",
    "plt.bar(timestamps, rain, label=\"Rain\")\n",
    "plt.bar(timestamps, snow, label=\"Snow\")\n",
    "plt.xticks(rotation=45)\n",
    "plt.grid()\n",
    "plt.ylabel(\"Precipitation (mm)\")\n",
    "plt.title(f\"Forecasted precipitation in {CITY}\")\n",
    "plt.legend()\n",
    "plt.show()\n"
   ]
  },
  {
   "cell_type": "markdown",
   "metadata": {},
   "source": [
    "## Resources\n",
    "- [NeuralNine's video](https://www.youtube.com/watch?v=9P5MY_2i7K8)"
   ]
  }
 ],
 "metadata": {
  "celltoolbar": "Slideshow",
  "kernelspec": {
   "display_name": "Python 3 (ipykernel)",
   "language": "python",
   "name": "python3"
  },
  "language_info": {
   "codemirror_mode": {
    "name": "ipython",
    "version": 3
   },
   "file_extension": ".py",
   "mimetype": "text/x-python",
   "name": "python",
   "nbconvert_exporter": "python",
   "pygments_lexer": "ipython3",
   "version": "3.10.6"
  }
 },
 "nbformat": 4,
 "nbformat_minor": 2
}