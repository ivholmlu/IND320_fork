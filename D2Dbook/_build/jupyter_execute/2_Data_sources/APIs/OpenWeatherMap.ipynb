{
 "cells": [
  {
   "cell_type": "markdown",
   "metadata": {
    "slideshow": {
     "slide_type": "slide"
    }
   },
   "source": [
    "# Demonstration of API using OpenWeatherMap.org\n",
    "This demonstration is heavily inspired by [NeuralNine's video](https://www.youtube.com/watch?v=9P5MY_2i7K8).  \n",
    "The VS Code extension _JSON viewer_ is recommended for viewing downloaded JSON content.  \n",
    "You need a free account [from here](https://openweathermap.org/api). \n",
    "  - Set your maximum API calls to 1000 per day to make sure you are under the limit for billing. \n",
    "  - To run the examples, download your API key, save it in the right folder (see below) in a file called _api\\_key\\_OpenWeather_, containing only the key (no spaces or \"enters\")."
   ]
  },
  {
   "cell_type": "code",
   "execution_count": 1,
   "metadata": {
    "slideshow": {
     "slide_type": "fragment"
    }
   },
   "outputs": [],
   "source": [
    "# Imports\n",
    "import datetime as dt\n",
    "import requests\n",
    "import json"
   ]
  },
  {
   "cell_type": "markdown",
   "metadata": {
    "slideshow": {
     "slide_type": "slide"
    }
   },
   "source": [
    "## Current weather\n",
    "### Common definitions to use for all requests"
   ]
  },
  {
   "cell_type": "code",
   "execution_count": 2,
   "metadata": {
    "slideshow": {
     "slide_type": "-"
    }
   },
   "outputs": [],
   "source": [
    "BASE_URL = \"http://api.openweathermap.org/data/2.5/weather?\"\n",
    "API_KEY = open('../../../No_sync/api_key_OpenWeather','r').read()\n",
    "CITY = \"Ski\"\n",
    "\n",
    "url = BASE_URL + \"q=\" + CITY + \"&appid=\" + API_KEY"
   ]
  },
  {
   "cell_type": "markdown",
   "metadata": {
    "slideshow": {
     "slide_type": "slide"
    }
   },
   "source": [
    "## Request current weather in chosen city"
   ]
  },
  {
   "cell_type": "code",
   "execution_count": 3,
   "metadata": {
    "slideshow": {
     "slide_type": "fragment"
    }
   },
   "outputs": [
    {
     "name": "stdout",
     "output_type": "stream",
     "text": [
      "{'coord': {'lon': 10.8358, 'lat': 59.7195}, 'weather': [{'id': 803, 'main': 'Clouds', 'description': 'broken clouds', 'icon': '04n'}], 'base': 'stations', 'main': {'temp': 282.84, 'feels_like': 281.96, 'temp_min': 282.47, 'temp_max': 283.53, 'pressure': 1020, 'humidity': 70, 'sea_level': 1020, 'grnd_level': 1003}, 'visibility': 10000, 'wind': {'speed': 2.03, 'deg': 17, 'gust': 2.79}, 'clouds': {'all': 63}, 'dt': 1694633721, 'sys': {'type': 2, 'id': 2006772, 'country': 'NO', 'sunrise': 1694579954, 'sunset': 1694627194}, 'timezone': 7200, 'id': 3139081, 'name': 'Ski', 'cod': 200}\n"
     ]
    }
   ],
   "source": [
    "response = requests.get(url).json()\n",
    "print(response)"
   ]
  },
  {
   "cell_type": "code",
   "execution_count": 4,
   "metadata": {
    "slideshow": {
     "slide_type": "fragment"
    }
   },
   "outputs": [],
   "source": [
    "# Write JSON to file for viewing\n",
    "with open('downloads/weather.json', 'w') as f:\n",
    "    json.dump(response, f, indent=4)"
   ]
  },
  {
   "cell_type": "markdown",
   "metadata": {
    "slideshow": {
     "slide_type": "slide"
    }
   },
   "source": [
    "## Conversion functions\n",
    "Changing scales can make results more interpretable"
   ]
  },
  {
   "cell_type": "code",
   "execution_count": 5,
   "metadata": {
    "slideshow": {
     "slide_type": "-"
    }
   },
   "outputs": [],
   "source": [
    "# Kelvin to Celsius\n",
    "def kelvin_to_celsius(temp):\n",
    "    return temp - 273.15\n",
    "\n",
    "# Meters per second to knots\n",
    "def mps_to_knots(speed):\n",
    "    return speed * 1.943844"
   ]
  },
  {
   "cell_type": "markdown",
   "metadata": {
    "slideshow": {
     "slide_type": "slide"
    }
   },
   "source": [
    "## Print some weather properties"
   ]
  },
  {
   "cell_type": "code",
   "execution_count": 6,
   "metadata": {
    "slideshow": {
     "slide_type": "-"
    }
   },
   "outputs": [
    {
     "name": "stdout",
     "output_type": "stream",
     "text": [
      "The current temperature in Ski is 9.69°C\n"
     ]
    }
   ],
   "source": [
    "# Current temperature\n",
    "temp_kelvin = response['main']['temp']\n",
    "temp_celsius = kelvin_to_celsius(temp_kelvin)\n",
    "print(f\"The current temperature in {CITY} is {temp_celsius:.2f}°C\")"
   ]
  },
  {
   "cell_type": "code",
   "execution_count": 7,
   "metadata": {
    "slideshow": {
     "slide_type": "slide"
    }
   },
   "outputs": [
    {
     "name": "stdout",
     "output_type": "stream",
     "text": [
      "Sunrise today is at 06:39 and sunset is at 19:46\n"
     ]
    }
   ],
   "source": [
    "# Sunrise and sunset today in local time\n",
    "sunrise = dt.datetime.fromtimestamp(response['sys']['sunrise'])\n",
    "sunset = dt.datetime.fromtimestamp(response['sys']['sunset'])\n",
    "print(f\"Sunrise today is at {sunrise:%H:%M} and sunset is at {sunset:%H:%M}\")"
   ]
  },
  {
   "cell_type": "code",
   "execution_count": 8,
   "metadata": {
    "slideshow": {
     "slide_type": "fragment"
    }
   },
   "outputs": [
    {
     "name": "stdout",
     "output_type": "stream",
     "text": [
      "Wind today is from 17° at 3.9 knots\n"
     ]
    }
   ],
   "source": [
    "# Wind direction and speed\n",
    "wind_knots = mps_to_knots(response['wind']['speed'])\n",
    "print(f\"Wind today is from {response['wind']['deg']}° at {round(wind_knots,1)} knots\")"
   ]
  },
  {
   "cell_type": "markdown",
   "metadata": {
    "slideshow": {
     "slide_type": "slide"
    }
   },
   "source": [
    "## Forecasted weather\n",
    "### Common definitions to use for all requests"
   ]
  },
  {
   "cell_type": "code",
   "execution_count": 9,
   "metadata": {
    "slideshow": {
     "slide_type": "-"
    }
   },
   "outputs": [],
   "source": [
    "BASE_URL = \"http://api.openweathermap.org/data/2.5/forecast?\"\n",
    "CITY = \"Ski\"\n",
    "\n",
    "urlF = BASE_URL + \"q=\" + CITY + \"&appid=\" + API_KEY"
   ]
  },
  {
   "cell_type": "markdown",
   "metadata": {
    "slideshow": {
     "slide_type": "slide"
    }
   },
   "source": [
    "## Request current weather in chosen city"
   ]
  },
  {
   "cell_type": "code",
   "execution_count": 10,
   "metadata": {
    "slideshow": {
     "slide_type": "-"
    }
   },
   "outputs": [
    {
     "name": "stdout",
     "output_type": "stream",
     "text": [
      "{'cod': '200', 'message': 0, 'cnt': 40, 'list': [{'dt': 1694638800, 'main': {'temp': 282.84, 'feels_like': 281.85, 'temp_min': 280.99, 'temp_max': 282.84, 'pressure': 1020, 'sea_level': 1020, 'grnd_level': 1003, 'humidity': 70, 'temp_kf': 1.85}, 'weather': [{'id': 802, 'main': 'Clouds', 'description': 'scattered clouds', 'icon': '03n'}], 'clouds': {'all': 45}, 'wind': {'speed': 2.16, 'deg': 25, 'gust': 5.36}, 'visibility': 10000, 'pop': 0, 'sys': {'pod': 'n'}, 'dt_txt': '2023-09-13 21:00:00'}, {'dt': 1694649600, 'main': {'temp': 281.62, 'feels_like': 280.66, 'temp_min': 279.19, 'temp_max': 281.62, 'pressure': 1020, 'sea_level': 1020, 'grnd_level': 1004, 'humidity': 71, 'temp_kf': 2.43}, 'weather': [{'id': 802, 'main': 'Clouds', 'description': 'scattered clouds', 'icon': '03n'}], 'clouds': {'all': 44}, 'wind': {'speed': 1.89, 'deg': 10, 'gust': 2.78}, 'visibility': 10000, 'pop': 0, 'sys': {'pod': 'n'}, 'dt_txt': '2023-09-14 00:00:00'}, {'dt': 1694660400, 'main': {'temp': 279.55, 'feels_like': 278.48, 'temp_min': 277.91, 'temp_max': 279.55, 'pressure': 1021, 'sea_level': 1021, 'grnd_level': 1004, 'humidity': 76, 'temp_kf': 1.64}, 'weather': [{'id': 802, 'main': 'Clouds', 'description': 'scattered clouds', 'icon': '03n'}], 'clouds': {'all': 46}, 'wind': {'speed': 1.68, 'deg': 25, 'gust': 1.72}, 'visibility': 10000, 'pop': 0, 'sys': {'pod': 'n'}, 'dt_txt': '2023-09-14 03:00:00'}, {'dt': 1694671200, 'main': {'temp': 279.73, 'feels_like': 279.73, 'temp_min': 279.73, 'temp_max': 279.73, 'pressure': 1022, 'sea_level': 1022, 'grnd_level': 1005, 'humidity': 71, 'temp_kf': 0}, 'weather': [{'id': 803, 'main': 'Clouds', 'description': 'broken clouds', 'icon': '04d'}], 'clouds': {'all': 73}, 'wind': {'speed': 1.1, 'deg': 31, 'gust': 1.83}, 'visibility': 10000, 'pop': 0, 'sys': {'pod': 'd'}, 'dt_txt': '2023-09-14 06:00:00'}, {'dt': 1694682000, 'main': {'temp': 285.1, 'feels_like': 283.71, 'temp_min': 285.1, 'temp_max': 285.1, 'pressure': 1021, 'sea_level': 1021, 'grnd_level': 1004, 'humidity': 52, 'temp_kf': 0}, 'weather': [{'id': 804, 'main': 'Clouds', 'description': 'overcast clouds', 'icon': '04d'}], 'clouds': {'all': 95}, 'wind': {'speed': 1.31, 'deg': 115, 'gust': 2.37}, 'visibility': 10000, 'pop': 0, 'sys': {'pod': 'd'}, 'dt_txt': '2023-09-14 09:00:00'}, {'dt': 1694692800, 'main': {'temp': 287.92, 'feels_like': 286.6, 'temp_min': 287.92, 'temp_max': 287.92, 'pressure': 1020, 'sea_level': 1020, 'grnd_level': 1003, 'humidity': 44, 'temp_kf': 0}, 'weather': [{'id': 804, 'main': 'Clouds', 'description': 'overcast clouds', 'icon': '04d'}], 'clouds': {'all': 96}, 'wind': {'speed': 2.57, 'deg': 186, 'gust': 4.48}, 'visibility': 10000, 'pop': 0, 'sys': {'pod': 'd'}, 'dt_txt': '2023-09-14 12:00:00'}, {'dt': 1694703600, 'main': {'temp': 287.64, 'feels_like': 286.61, 'temp_min': 287.64, 'temp_max': 287.64, 'pressure': 1019, 'sea_level': 1019, 'grnd_level': 1002, 'humidity': 56, 'temp_kf': 0}, 'weather': [{'id': 803, 'main': 'Clouds', 'description': 'broken clouds', 'icon': '04d'}], 'clouds': {'all': 70}, 'wind': {'speed': 2.63, 'deg': 205, 'gust': 4.8}, 'visibility': 10000, 'pop': 0, 'sys': {'pod': 'd'}, 'dt_txt': '2023-09-14 15:00:00'}, {'dt': 1694714400, 'main': {'temp': 283.77, 'feels_like': 283.05, 'temp_min': 283.77, 'temp_max': 283.77, 'pressure': 1019, 'sea_level': 1019, 'grnd_level': 1002, 'humidity': 83, 'temp_kf': 0}, 'weather': [{'id': 803, 'main': 'Clouds', 'description': 'broken clouds', 'icon': '04n'}], 'clouds': {'all': 73}, 'wind': {'speed': 2.31, 'deg': 179, 'gust': 7.34}, 'visibility': 10000, 'pop': 0, 'sys': {'pod': 'n'}, 'dt_txt': '2023-09-14 18:00:00'}, {'dt': 1694725200, 'main': {'temp': 283.69, 'feels_like': 283.07, 'temp_min': 283.69, 'temp_max': 283.69, 'pressure': 1019, 'sea_level': 1019, 'grnd_level': 1002, 'humidity': 87, 'temp_kf': 0}, 'weather': [{'id': 500, 'main': 'Rain', 'description': 'light rain', 'icon': '10n'}], 'clouds': {'all': 98}, 'wind': {'speed': 2.97, 'deg': 201, 'gust': 7.72}, 'visibility': 10000, 'pop': 0.21, 'rain': {'3h': 0.22}, 'sys': {'pod': 'n'}, 'dt_txt': '2023-09-14 21:00:00'}, {'dt': 1694736000, 'main': {'temp': 283.79, 'feels_like': 283.31, 'temp_min': 283.79, 'temp_max': 283.79, 'pressure': 1019, 'sea_level': 1019, 'grnd_level': 1002, 'humidity': 92, 'temp_kf': 0}, 'weather': [{'id': 500, 'main': 'Rain', 'description': 'light rain', 'icon': '10n'}], 'clouds': {'all': 99}, 'wind': {'speed': 1.77, 'deg': 148, 'gust': 6.89}, 'visibility': 10000, 'pop': 0.24, 'rain': {'3h': 0.22}, 'sys': {'pod': 'n'}, 'dt_txt': '2023-09-15 00:00:00'}, {'dt': 1694746800, 'main': {'temp': 283.36, 'feels_like': 283, 'temp_min': 283.36, 'temp_max': 283.36, 'pressure': 1018, 'sea_level': 1018, 'grnd_level': 1001, 'humidity': 98, 'temp_kf': 0}, 'weather': [{'id': 500, 'main': 'Rain', 'description': 'light rain', 'icon': '10n'}], 'clouds': {'all': 98}, 'wind': {'speed': 1.08, 'deg': 207, 'gust': 1.84}, 'visibility': 10000, 'pop': 0.33, 'rain': {'3h': 0.22}, 'sys': {'pod': 'n'}, 'dt_txt': '2023-09-15 03:00:00'}, {'dt': 1694757600, 'main': {'temp': 283.18, 'feels_like': 282.72, 'temp_min': 283.18, 'temp_max': 283.18, 'pressure': 1019, 'sea_level': 1019, 'grnd_level': 1002, 'humidity': 95, 'temp_kf': 0}, 'weather': [{'id': 804, 'main': 'Clouds', 'description': 'overcast clouds', 'icon': '04d'}], 'clouds': {'all': 99}, 'wind': {'speed': 1.72, 'deg': 188, 'gust': 5.12}, 'visibility': 10000, 'pop': 0.11, 'sys': {'pod': 'd'}, 'dt_txt': '2023-09-15 06:00:00'}, {'dt': 1694768400, 'main': {'temp': 286.86, 'feels_like': 286.27, 'temp_min': 286.86, 'temp_max': 286.86, 'pressure': 1019, 'sea_level': 1019, 'grnd_level': 1002, 'humidity': 76, 'temp_kf': 0}, 'weather': [{'id': 804, 'main': 'Clouds', 'description': 'overcast clouds', 'icon': '04d'}], 'clouds': {'all': 100}, 'wind': {'speed': 3.66, 'deg': 200, 'gust': 7.84}, 'visibility': 10000, 'pop': 0, 'sys': {'pod': 'd'}, 'dt_txt': '2023-09-15 09:00:00'}, {'dt': 1694779200, 'main': {'temp': 286.76, 'feels_like': 286.27, 'temp_min': 286.76, 'temp_max': 286.76, 'pressure': 1020, 'sea_level': 1020, 'grnd_level': 1003, 'humidity': 80, 'temp_kf': 0}, 'weather': [{'id': 804, 'main': 'Clouds', 'description': 'overcast clouds', 'icon': '04d'}], 'clouds': {'all': 100}, 'wind': {'speed': 4.31, 'deg': 196, 'gust': 8.48}, 'visibility': 10000, 'pop': 0, 'sys': {'pod': 'd'}, 'dt_txt': '2023-09-15 12:00:00'}, {'dt': 1694790000, 'main': {'temp': 284.47, 'feels_like': 284.11, 'temp_min': 284.47, 'temp_max': 284.47, 'pressure': 1020, 'sea_level': 1020, 'grnd_level': 1003, 'humidity': 94, 'temp_kf': 0}, 'weather': [{'id': 500, 'main': 'Rain', 'description': 'light rain', 'icon': '10d'}], 'clouds': {'all': 100}, 'wind': {'speed': 1.98, 'deg': 179, 'gust': 5.6}, 'visibility': 10000, 'pop': 0.94, 'rain': {'3h': 0.88}, 'sys': {'pod': 'd'}, 'dt_txt': '2023-09-15 15:00:00'}, {'dt': 1694800800, 'main': {'temp': 284.08, 'feels_like': 283.76, 'temp_min': 284.08, 'temp_max': 284.08, 'pressure': 1020, 'sea_level': 1020, 'grnd_level': 1003, 'humidity': 97, 'temp_kf': 0}, 'weather': [{'id': 500, 'main': 'Rain', 'description': 'light rain', 'icon': '10n'}], 'clouds': {'all': 100}, 'wind': {'speed': 1.22, 'deg': 155, 'gust': 3.37}, 'visibility': 10000, 'pop': 1, 'rain': {'3h': 1.42}, 'sys': {'pod': 'n'}, 'dt_txt': '2023-09-15 18:00:00'}, {'dt': 1694811600, 'main': {'temp': 285.94, 'feels_like': 285.81, 'temp_min': 285.94, 'temp_max': 285.94, 'pressure': 1019, 'sea_level': 1019, 'grnd_level': 1003, 'humidity': 97, 'temp_kf': 0}, 'weather': [{'id': 804, 'main': 'Clouds', 'description': 'overcast clouds', 'icon': '04n'}], 'clouds': {'all': 100}, 'wind': {'speed': 3.31, 'deg': 192, 'gust': 11.11}, 'visibility': 6819, 'pop': 0.06, 'sys': {'pod': 'n'}, 'dt_txt': '2023-09-15 21:00:00'}, {'dt': 1694822400, 'main': {'temp': 286.24, 'feels_like': 286.09, 'temp_min': 286.24, 'temp_max': 286.24, 'pressure': 1019, 'sea_level': 1019, 'grnd_level': 1002, 'humidity': 95, 'temp_kf': 0}, 'weather': [{'id': 804, 'main': 'Clouds', 'description': 'overcast clouds', 'icon': '04n'}], 'clouds': {'all': 98}, 'wind': {'speed': 3.73, 'deg': 194, 'gust': 11.2}, 'visibility': 10000, 'pop': 0.01, 'sys': {'pod': 'n'}, 'dt_txt': '2023-09-16 00:00:00'}, {'dt': 1694833200, 'main': {'temp': 285.23, 'feels_like': 285.03, 'temp_min': 285.23, 'temp_max': 285.23, 'pressure': 1018, 'sea_level': 1018, 'grnd_level': 1001, 'humidity': 97, 'temp_kf': 0}, 'weather': [{'id': 803, 'main': 'Clouds', 'description': 'broken clouds', 'icon': '04n'}], 'clouds': {'all': 69}, 'wind': {'speed': 3.14, 'deg': 186, 'gust': 10.6}, 'visibility': 10000, 'pop': 0, 'sys': {'pod': 'n'}, 'dt_txt': '2023-09-16 03:00:00'}, {'dt': 1694844000, 'main': {'temp': 285.62, 'feels_like': 285.43, 'temp_min': 285.62, 'temp_max': 285.62, 'pressure': 1018, 'sea_level': 1018, 'grnd_level': 1001, 'humidity': 96, 'temp_kf': 0}, 'weather': [{'id': 803, 'main': 'Clouds', 'description': 'broken clouds', 'icon': '04d'}], 'clouds': {'all': 81}, 'wind': {'speed': 3.21, 'deg': 184, 'gust': 9.91}, 'visibility': 10000, 'pop': 0, 'sys': {'pod': 'd'}, 'dt_txt': '2023-09-16 06:00:00'}, {'dt': 1694854800, 'main': {'temp': 288.66, 'feels_like': 288.41, 'temp_min': 288.66, 'temp_max': 288.66, 'pressure': 1017, 'sea_level': 1017, 'grnd_level': 1000, 'humidity': 82, 'temp_kf': 0}, 'weather': [{'id': 804, 'main': 'Clouds', 'description': 'overcast clouds', 'icon': '04d'}], 'clouds': {'all': 99}, 'wind': {'speed': 4.21, 'deg': 192, 'gust': 9.36}, 'visibility': 10000, 'pop': 0, 'sys': {'pod': 'd'}, 'dt_txt': '2023-09-16 09:00:00'}, {'dt': 1694865600, 'main': {'temp': 290.71, 'feels_like': 290.22, 'temp_min': 290.71, 'temp_max': 290.71, 'pressure': 1016, 'sea_level': 1016, 'grnd_level': 1000, 'humidity': 65, 'temp_kf': 0}, 'weather': [{'id': 804, 'main': 'Clouds', 'description': 'overcast clouds', 'icon': '04d'}], 'clouds': {'all': 100}, 'wind': {'speed': 4.59, 'deg': 198, 'gust': 7.61}, 'visibility': 10000, 'pop': 0.04, 'sys': {'pod': 'd'}, 'dt_txt': '2023-09-16 12:00:00'}, {'dt': 1694876400, 'main': {'temp': 289.51, 'feels_like': 289.16, 'temp_min': 289.51, 'temp_max': 289.51, 'pressure': 1015, 'sea_level': 1015, 'grnd_level': 998, 'humidity': 75, 'temp_kf': 0}, 'weather': [{'id': 804, 'main': 'Clouds', 'description': 'overcast clouds', 'icon': '04d'}], 'clouds': {'all': 100}, 'wind': {'speed': 3.71, 'deg': 190, 'gust': 7.73}, 'visibility': 10000, 'pop': 0, 'sys': {'pod': 'd'}, 'dt_txt': '2023-09-16 15:00:00'}, {'dt': 1694887200, 'main': {'temp': 285.77, 'feels_like': 285.62, 'temp_min': 285.77, 'temp_max': 285.77, 'pressure': 1015, 'sea_level': 1015, 'grnd_level': 998, 'humidity': 97, 'temp_kf': 0}, 'weather': [{'id': 804, 'main': 'Clouds', 'description': 'overcast clouds', 'icon': '04n'}], 'clouds': {'all': 99}, 'wind': {'speed': 2.18, 'deg': 177, 'gust': 6.62}, 'visibility': 10000, 'pop': 0.04, 'sys': {'pod': 'n'}, 'dt_txt': '2023-09-16 18:00:00'}, {'dt': 1694898000, 'main': {'temp': 285.35, 'feels_like': 285.05, 'temp_min': 285.35, 'temp_max': 285.35, 'pressure': 1016, 'sea_level': 1016, 'grnd_level': 999, 'humidity': 93, 'temp_kf': 0}, 'weather': [{'id': 500, 'main': 'Rain', 'description': 'light rain', 'icon': '10n'}], 'clouds': {'all': 100}, 'wind': {'speed': 2.93, 'deg': 340, 'gust': 6.96}, 'visibility': 10000, 'pop': 0.5, 'rain': {'3h': 0.34}, 'sys': {'pod': 'n'}, 'dt_txt': '2023-09-16 21:00:00'}, {'dt': 1694908800, 'main': {'temp': 283.41, 'feels_like': 282.84, 'temp_min': 283.41, 'temp_max': 283.41, 'pressure': 1017, 'sea_level': 1017, 'grnd_level': 1000, 'humidity': 90, 'temp_kf': 0}, 'weather': [{'id': 500, 'main': 'Rain', 'description': 'light rain', 'icon': '10n'}], 'clouds': {'all': 100}, 'wind': {'speed': 3.32, 'deg': 7, 'gust': 9.99}, 'visibility': 10000, 'pop': 0.59, 'rain': {'3h': 0.33}, 'sys': {'pod': 'n'}, 'dt_txt': '2023-09-17 00:00:00'}, {'dt': 1694919600, 'main': {'temp': 280.89, 'feels_like': 278.4, 'temp_min': 280.89, 'temp_max': 280.89, 'pressure': 1019, 'sea_level': 1019, 'grnd_level': 1002, 'humidity': 88, 'temp_kf': 0}, 'weather': [{'id': 802, 'main': 'Clouds', 'description': 'scattered clouds', 'icon': '03n'}], 'clouds': {'all': 38}, 'wind': {'speed': 3.96, 'deg': 17, 'gust': 11.31}, 'visibility': 10000, 'pop': 0, 'sys': {'pod': 'n'}, 'dt_txt': '2023-09-17 03:00:00'}, {'dt': 1694930400, 'main': {'temp': 280.64, 'feels_like': 279.41, 'temp_min': 280.64, 'temp_max': 280.64, 'pressure': 1021, 'sea_level': 1021, 'grnd_level': 1004, 'humidity': 87, 'temp_kf': 0}, 'weather': [{'id': 802, 'main': 'Clouds', 'description': 'scattered clouds', 'icon': '03d'}], 'clouds': {'all': 45}, 'wind': {'speed': 2.01, 'deg': 14, 'gust': 8.4}, 'visibility': 10000, 'pop': 0, 'sys': {'pod': 'd'}, 'dt_txt': '2023-09-17 06:00:00'}, {'dt': 1694941200, 'main': {'temp': 285.38, 'feels_like': 284.25, 'temp_min': 285.38, 'temp_max': 285.38, 'pressure': 1022, 'sea_level': 1022, 'grnd_level': 1006, 'humidity': 61, 'temp_kf': 0}, 'weather': [{'id': 803, 'main': 'Clouds', 'description': 'broken clouds', 'icon': '04d'}], 'clouds': {'all': 75}, 'wind': {'speed': 2.75, 'deg': 30, 'gust': 4.34}, 'visibility': 10000, 'pop': 0, 'sys': {'pod': 'd'}, 'dt_txt': '2023-09-17 09:00:00'}, {'dt': 1694952000, 'main': {'temp': 287.96, 'feels_like': 286.72, 'temp_min': 287.96, 'temp_max': 287.96, 'pressure': 1022, 'sea_level': 1022, 'grnd_level': 1005, 'humidity': 47, 'temp_kf': 0}, 'weather': [{'id': 802, 'main': 'Clouds', 'description': 'scattered clouds', 'icon': '03d'}], 'clouds': {'all': 46}, 'wind': {'speed': 2.19, 'deg': 39, 'gust': 2.86}, 'visibility': 10000, 'pop': 0, 'sys': {'pod': 'd'}, 'dt_txt': '2023-09-17 12:00:00'}, {'dt': 1694962800, 'main': {'temp': 288.25, 'feels_like': 286.94, 'temp_min': 288.25, 'temp_max': 288.25, 'pressure': 1022, 'sea_level': 1022, 'grnd_level': 1005, 'humidity': 43, 'temp_kf': 0}, 'weather': [{'id': 803, 'main': 'Clouds', 'description': 'broken clouds', 'icon': '04d'}], 'clouds': {'all': 75}, 'wind': {'speed': 1.63, 'deg': 51, 'gust': 2.07}, 'visibility': 10000, 'pop': 0, 'sys': {'pod': 'd'}, 'dt_txt': '2023-09-17 15:00:00'}, {'dt': 1694973600, 'main': {'temp': 282.75, 'feels_like': 282.75, 'temp_min': 282.75, 'temp_max': 282.75, 'pressure': 1022, 'sea_level': 1022, 'grnd_level': 1005, 'humidity': 65, 'temp_kf': 0}, 'weather': [{'id': 802, 'main': 'Clouds', 'description': 'scattered clouds', 'icon': '03n'}], 'clouds': {'all': 45}, 'wind': {'speed': 1.3, 'deg': 57, 'gust': 1.28}, 'visibility': 10000, 'pop': 0, 'sys': {'pod': 'n'}, 'dt_txt': '2023-09-17 18:00:00'}, {'dt': 1694984400, 'main': {'temp': 280.8, 'feels_like': 280.8, 'temp_min': 280.8, 'temp_max': 280.8, 'pressure': 1023, 'sea_level': 1023, 'grnd_level': 1005, 'humidity': 70, 'temp_kf': 0}, 'weather': [{'id': 801, 'main': 'Clouds', 'description': 'few clouds', 'icon': '02n'}], 'clouds': {'all': 14}, 'wind': {'speed': 1.15, 'deg': 65, 'gust': 1.15}, 'visibility': 10000, 'pop': 0, 'sys': {'pod': 'n'}, 'dt_txt': '2023-09-17 21:00:00'}, {'dt': 1694995200, 'main': {'temp': 279.37, 'feels_like': 279.37, 'temp_min': 279.37, 'temp_max': 279.37, 'pressure': 1022, 'sea_level': 1022, 'grnd_level': 1005, 'humidity': 71, 'temp_kf': 0}, 'weather': [{'id': 801, 'main': 'Clouds', 'description': 'few clouds', 'icon': '02n'}], 'clouds': {'all': 22}, 'wind': {'speed': 1.1, 'deg': 45, 'gust': 1.11}, 'visibility': 10000, 'pop': 0, 'sys': {'pod': 'n'}, 'dt_txt': '2023-09-18 00:00:00'}, {'dt': 1695006000, 'main': {'temp': 278.46, 'feels_like': 277.39, 'temp_min': 278.46, 'temp_max': 278.46, 'pressure': 1021, 'sea_level': 1021, 'grnd_level': 1004, 'humidity': 75, 'temp_kf': 0}, 'weather': [{'id': 802, 'main': 'Clouds', 'description': 'scattered clouds', 'icon': '03n'}], 'clouds': {'all': 25}, 'wind': {'speed': 1.55, 'deg': 32, 'gust': 1.76}, 'visibility': 10000, 'pop': 0, 'sys': {'pod': 'n'}, 'dt_txt': '2023-09-18 03:00:00'}, {'dt': 1695016800, 'main': {'temp': 279.16, 'feels_like': 277.68, 'temp_min': 279.16, 'temp_max': 279.16, 'pressure': 1019, 'sea_level': 1019, 'grnd_level': 1002, 'humidity': 77, 'temp_kf': 0}, 'weather': [{'id': 803, 'main': 'Clouds', 'description': 'broken clouds', 'icon': '04d'}], 'clouds': {'all': 57}, 'wind': {'speed': 2.01, 'deg': 40, 'gust': 5.19}, 'visibility': 10000, 'pop': 0, 'sys': {'pod': 'd'}, 'dt_txt': '2023-09-18 06:00:00'}, {'dt': 1695027600, 'main': {'temp': 284.21, 'feels_like': 282.99, 'temp_min': 284.21, 'temp_max': 284.21, 'pressure': 1017, 'sea_level': 1017, 'grnd_level': 1000, 'humidity': 62, 'temp_kf': 0}, 'weather': [{'id': 804, 'main': 'Clouds', 'description': 'overcast clouds', 'icon': '04d'}], 'clouds': {'all': 100}, 'wind': {'speed': 3.22, 'deg': 91, 'gust': 6.96}, 'visibility': 10000, 'pop': 0, 'sys': {'pod': 'd'}, 'dt_txt': '2023-09-18 09:00:00'}, {'dt': 1695038400, 'main': {'temp': 286.68, 'feels_like': 285.55, 'temp_min': 286.68, 'temp_max': 286.68, 'pressure': 1013, 'sea_level': 1013, 'grnd_level': 996, 'humidity': 56, 'temp_kf': 0}, 'weather': [{'id': 804, 'main': 'Clouds', 'description': 'overcast clouds', 'icon': '04d'}], 'clouds': {'all': 100}, 'wind': {'speed': 3.72, 'deg': 98, 'gust': 7.19}, 'visibility': 10000, 'pop': 0, 'sys': {'pod': 'd'}, 'dt_txt': '2023-09-18 12:00:00'}, {'dt': 1695049200, 'main': {'temp': 283.06, 'feels_like': 281.46, 'temp_min': 283.06, 'temp_max': 283.06, 'pressure': 1010, 'sea_level': 1010, 'grnd_level': 993, 'humidity': 85, 'temp_kf': 0}, 'weather': [{'id': 500, 'main': 'Rain', 'description': 'light rain', 'icon': '10d'}], 'clouds': {'all': 100}, 'wind': {'speed': 3.17, 'deg': 89, 'gust': 9.85}, 'visibility': 10000, 'pop': 0.88, 'rain': {'3h': 1.08}, 'sys': {'pod': 'd'}, 'dt_txt': '2023-09-18 15:00:00'}, {'dt': 1695060000, 'main': {'temp': 282.85, 'feels_like': 281.47, 'temp_min': 282.85, 'temp_max': 282.85, 'pressure': 1006, 'sea_level': 1006, 'grnd_level': 989, 'humidity': 94, 'temp_kf': 0}, 'weather': [{'id': 500, 'main': 'Rain', 'description': 'light rain', 'icon': '10n'}], 'clouds': {'all': 100}, 'wind': {'speed': 2.73, 'deg': 76, 'gust': 8.89}, 'visibility': 6764, 'pop': 1, 'rain': {'3h': 2.24}, 'sys': {'pod': 'n'}, 'dt_txt': '2023-09-18 18:00:00'}], 'city': {'id': 3139081, 'name': 'Ski', 'coord': {'lat': 59.7195, 'lon': 10.8358}, 'country': 'NO', 'population': 12513, 'timezone': 7200, 'sunrise': 1694579954, 'sunset': 1694627194}}\n"
     ]
    }
   ],
   "source": [
    "responseF = requests.get(urlF).json()\n",
    "print(responseF)"
   ]
  },
  {
   "cell_type": "code",
   "execution_count": 11,
   "metadata": {
    "slideshow": {
     "slide_type": "slide"
    }
   },
   "outputs": [],
   "source": [
    "# Write JSON to file for viewing\n",
    "with open('downloads/forecast.json', 'w') as f:\n",
    "    json.dump(responseF, f, indent=4)"
   ]
  },
  {
   "cell_type": "markdown",
   "metadata": {
    "slideshow": {
     "slide_type": "slide"
    }
   },
   "source": [
    "### When and what?\n",
    "Check contents and time stamps"
   ]
  },
  {
   "cell_type": "code",
   "execution_count": 12,
   "metadata": {
    "slideshow": {
     "slide_type": "-"
    }
   },
   "outputs": [
    {
     "data": {
      "text/plain": [
       "dict_keys(['cod', 'message', 'cnt', 'list', 'city'])"
      ]
     },
     "execution_count": 12,
     "metadata": {},
     "output_type": "execute_result"
    }
   ],
   "source": [
    "# Content of responseF\n",
    "responseF.keys()"
   ]
  },
  {
   "cell_type": "code",
   "execution_count": 13,
   "metadata": {
    "slideshow": {
     "slide_type": "fragment"
    }
   },
   "outputs": [
    {
     "name": "stdout",
     "output_type": "stream",
     "text": [
      "40\n"
     ]
    }
   ],
   "source": [
    "# Number of forecasts\n",
    "print(len(responseF[\"list\"]))"
   ]
  },
  {
   "cell_type": "code",
   "execution_count": 14,
   "metadata": {
    "slideshow": {
     "slide_type": "slide"
    }
   },
   "outputs": [
    {
     "name": "stdout",
     "output_type": "stream",
     "text": [
      "2023-09-13 21:00:00\n",
      "2023-09-14 00:00:00\n",
      "2023-09-14 03:00:00\n",
      "2023-09-14 06:00:00\n",
      "2023-09-14 09:00:00\n",
      "2023-09-14 12:00:00\n",
      "2023-09-14 15:00:00\n",
      "2023-09-14 18:00:00\n",
      "2023-09-14 21:00:00\n",
      "2023-09-15 00:00:00\n",
      "2023-09-15 03:00:00\n",
      "2023-09-15 06:00:00\n",
      "2023-09-15 09:00:00\n",
      "2023-09-15 12:00:00\n",
      "2023-09-15 15:00:00\n",
      "2023-09-15 18:00:00\n",
      "2023-09-15 21:00:00\n",
      "2023-09-16 00:00:00\n",
      "2023-09-16 03:00:00\n",
      "2023-09-16 06:00:00\n",
      "2023-09-16 09:00:00\n",
      "2023-09-16 12:00:00\n",
      "2023-09-16 15:00:00\n",
      "2023-09-16 18:00:00\n",
      "2023-09-16 21:00:00\n",
      "2023-09-17 00:00:00\n",
      "2023-09-17 03:00:00\n",
      "2023-09-17 06:00:00\n",
      "2023-09-17 09:00:00\n",
      "2023-09-17 12:00:00\n",
      "2023-09-17 15:00:00\n",
      "2023-09-17 18:00:00\n",
      "2023-09-17 21:00:00\n",
      "2023-09-18 00:00:00\n",
      "2023-09-18 03:00:00\n",
      "2023-09-18 06:00:00\n",
      "2023-09-18 09:00:00\n",
      "2023-09-18 12:00:00\n",
      "2023-09-18 15:00:00\n",
      "2023-09-18 18:00:00\n"
     ]
    }
   ],
   "source": [
    "# Print forecast times\n",
    "for forecast in responseF[\"list\"]:\n",
    "    print(forecast[\"dt_txt\"])"
   ]
  },
  {
   "cell_type": "markdown",
   "metadata": {
    "slideshow": {
     "slide_type": "slide"
    }
   },
   "source": [
    "## Make plots of omnipresent measurements and events\n",
    "We will later look at missing data, data only sporadically appearing and so on."
   ]
  },
  {
   "cell_type": "code",
   "execution_count": 15,
   "metadata": {
    "slideshow": {
     "slide_type": "-"
    }
   },
   "outputs": [],
   "source": [
    "# Air pressure per period\n",
    "pressures = []\n",
    "timestamps = []\n",
    "for forecast in responseF[\"list\"]:\n",
    "    pressures.append(forecast[\"main\"][\"pressure\"])\n",
    "    timestamps.append(dt.datetime.fromtimestamp(forecast[\"dt\"]))"
   ]
  },
  {
   "cell_type": "code",
   "execution_count": 16,
   "metadata": {
    "slideshow": {
     "slide_type": "slide"
    }
   },
   "outputs": [
    {
     "data": {
      "image/png": "[encoded data removed]",
      "text/plain": [
       "<Figure size 640x480 with 1 Axes>"
      ]
     },
     "metadata": {},
     "output_type": "display_data"
    }
   ],
   "source": [
    "import matplotlib.pyplot as plt\n",
    "plt.bar(timestamps, pressures)\n",
    "plt.xticks(rotation=45)\n",
    "plt.ylim(950, 1050)\n",
    "plt.grid()\n",
    "plt.ylabel(\"Air pressure (hPa)\")\n",
    "plt.title(f\"Forecasted air pressure in {CITY}\")\n",
    "plt.show()"
   ]
  },
  {
   "cell_type": "markdown",
   "metadata": {
    "slideshow": {
     "slide_type": "slide"
    }
   },
   "source": [
    "### Precipitation\n",
    "- ... comes in two main flavours: rain and snow.\n",
    "- We need to check which is present and set to zero if it is abscent."
   ]
  },
  {
   "cell_type": "code",
   "execution_count": 17,
   "metadata": {
    "slideshow": {
     "slide_type": "-"
    }
   },
   "outputs": [],
   "source": [
    "rain = []\n",
    "snow = []\n",
    "for forecast in responseF[\"list\"]:\n",
    "    try: # Check if rain is present in forecast\n",
    "        rain.append(forecast[\"rain\"][\"3h\"])\n",
    "    except KeyError:\n",
    "        rain.append(0)\n",
    "    try: # Check if snow is present in forecast\n",
    "        snow.append(forecast[\"snow\"][\"3h\"])\n",
    "    except KeyError:\n",
    "        snow.append(0)"
   ]
  },
  {
   "cell_type": "code",
   "execution_count": 18,
   "metadata": {
    "slideshow": {
     "slide_type": "slide"
    }
   },
   "outputs": [
    {
     "data": {
      "image/png": "[encoded data removed]",
      "text/plain": [
       "<Figure size 640x480 with 1 Axes>"
      ]
     },
     "metadata": {},
     "output_type": "display_data"
    }
   ],
   "source": [
    "# Stacked bar chart with rain and snow\n",
    "plt.bar(timestamps, rain, label=\"Rain\")\n",
    "plt.bar(timestamps, snow, label=\"Snow\")\n",
    "plt.xticks(rotation=45)\n",
    "plt.grid()\n",
    "plt.ylabel(\"Precipitation (mm)\")\n",
    "plt.title(f\"Forecasted precipitation in {CITY}\")\n",
    "plt.legend()\n",
    "plt.show()\n"
   ]
  },
  {
   "cell_type": "markdown",
   "metadata": {},
   "source": [
    "## Resources\n",
    "- [NeuralNine's video](https://www.youtube.com/watch?v=9P5MY_2i7K8)"
   ]
  }
 ],
 "metadata": {
  "celltoolbar": "Slideshow",
  "kernelspec": {
   "display_name": "Python 3 (ipykernel)",
   "language": "python",
   "name": "python3"
  },
  "language_info": {
   "codemirror_mode": {
    "name": "ipython",
    "version": 3
   },
   "file_extension": ".py",
   "mimetype": "text/x-python",
   "name": "python",
   "nbconvert_exporter": "python",
   "pygments_lexer": "ipython3",
   "version": "3.10.6"
  }
 },
 "nbformat": 4,
 "nbformat_minor": 2
}