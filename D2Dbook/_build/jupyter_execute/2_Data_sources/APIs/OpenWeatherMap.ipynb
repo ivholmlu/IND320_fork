{
 "cells": [
  {
   "cell_type": "markdown",
   "metadata": {
    "slideshow": {
     "slide_type": "slide"
    }
   },
   "source": [
    "# Demonstration of API using OpenWeatherMap.org\n",
    "This demonstration is heavily inspired by [NeuralNine's video](https://www.youtube.com/watch?v=9P5MY_2i7K8).  \n",
    "You need a free account [from here](https://openweathermap.org/api).  \n",
    "The VS Code extension _JSON viewer_ is recommended for viewing downloaded JSON content.  \n",
    "  - Set your maximum API calls to 1000 per day to make sure you are under the limit for billing. \n",
    "  - To run the examples, download your API key, save it in the right folder (see below) in a file called _api\\_key\\_OpenWeather_, containing only the key (no spaces or \"enters\")."
   ]
  },
  {
   "cell_type": "code",
   "execution_count": 1,
   "metadata": {
    "slideshow": {
     "slide_type": "fragment"
    }
   },
   "outputs": [],
   "source": [
    "# Imports\n",
    "import datetime as dt\n",
    "import requests\n",
    "import json"
   ]
  },
  {
   "cell_type": "markdown",
   "metadata": {
    "slideshow": {
     "slide_type": "slide"
    }
   },
   "source": [
    "## Current weather\n",
    "### Common definitions to use for all requests"
   ]
  },
  {
   "cell_type": "code",
   "execution_count": 2,
   "metadata": {
    "slideshow": {
     "slide_type": "-"
    }
   },
   "outputs": [],
   "source": [
    "BASE_URL = \"http://api.openweathermap.org/data/2.5/weather?\"\n",
    "API_KEY = open('../../../No_sync/api_key_OpenWeather','r').read()\n",
    "CITY = \"Ski\"\n",
    "\n",
    "url = BASE_URL + \"q=\" + CITY + \"&appid=\" + API_KEY"
   ]
  },
  {
   "cell_type": "markdown",
   "metadata": {
    "slideshow": {
     "slide_type": "slide"
    }
   },
   "source": [
    "## Request current weather in chosen city"
   ]
  },
  {
   "cell_type": "code",
   "execution_count": 3,
   "metadata": {
    "slideshow": {
     "slide_type": "fragment"
    }
   },
   "outputs": [
    {
     "name": "stdout",
     "output_type": "stream",
     "text": [
      "{'coord': {'lon': 10.8358, 'lat': 59.7195}, 'weather': [{'id': 804, 'main': 'Clouds', 'description': 'overcast clouds', 'icon': '04d'}], 'base': 'stations', 'main': {'temp': 287.11, 'feels_like': 287.04, 'temp_min': 286.92, 'temp_max': 287.64, 'pressure': 1008, 'humidity': 95, 'sea_level': 1008, 'grnd_level': 992}, 'visibility': 10000, 'wind': {'speed': 3.99, 'deg': 202, 'gust': 10.74}, 'clouds': {'all': 96}, 'dt': 1695970926, 'sys': {'type': 2, 'id': 2006772, 'country': 'NO', 'sunrise': 1695964565, 'sunset': 1696006684}, 'timezone': 7200, 'id': 3139081, 'name': 'Ski', 'cod': 200}\n"
     ]
    }
   ],
   "source": [
    "response = requests.get(url).json()\n",
    "print(response)"
   ]
  },
  {
   "cell_type": "code",
   "execution_count": 4,
   "metadata": {
    "slideshow": {
     "slide_type": "fragment"
    }
   },
   "outputs": [],
   "source": [
    "# Write JSON to file for viewing\n",
    "with open('downloads/weather.json', 'w') as f:\n",
    "    json.dump(response, f, indent=4)"
   ]
  },
  {
   "cell_type": "markdown",
   "metadata": {
    "slideshow": {
     "slide_type": "slide"
    }
   },
   "source": [
    "## Conversion functions\n",
    "Changing scales can make results more interpretable"
   ]
  },
  {
   "cell_type": "code",
   "execution_count": 5,
   "metadata": {
    "slideshow": {
     "slide_type": "-"
    }
   },
   "outputs": [],
   "source": [
    "# Kelvin to Celsius\n",
    "def kelvin_to_celsius(temp):\n",
    "    return temp - 273.15\n",
    "\n",
    "# Meters per second to knots\n",
    "def mps_to_knots(speed):\n",
    "    return speed * 1.943844"
   ]
  },
  {
   "cell_type": "markdown",
   "metadata": {
    "slideshow": {
     "slide_type": "slide"
    }
   },
   "source": [
    "## Print some weather properties"
   ]
  },
  {
   "cell_type": "code",
   "execution_count": 6,
   "metadata": {
    "slideshow": {
     "slide_type": "-"
    }
   },
   "outputs": [
    {
     "name": "stdout",
     "output_type": "stream",
     "text": [
      "The current temperature in Ski is 14.0°C\n"
     ]
    }
   ],
   "source": [
    "# Current temperature\n",
    "temp_kelvin = response['main']['temp']\n",
    "temp_celsius = kelvin_to_celsius(temp_kelvin)\n",
    "print(f\"The current temperature in {CITY} is {temp_celsius:.1f}°C\")"
   ]
  },
  {
   "cell_type": "code",
   "execution_count": 7,
   "metadata": {
    "slideshow": {
     "slide_type": "slide"
    }
   },
   "outputs": [
    {
     "name": "stdout",
     "output_type": "stream",
     "text": [
      "Sunrise today is at 07:16 and sunset is at 18:58\n"
     ]
    }
   ],
   "source": [
    "# Sunrise and sunset today in local time\n",
    "sunrise = dt.datetime.fromtimestamp(response['sys']['sunrise'])\n",
    "sunset = dt.datetime.fromtimestamp(response['sys']['sunset'])\n",
    "print(f\"Sunrise today is at {sunrise:%H:%M} and sunset is at {sunset:%H:%M}\")"
   ]
  },
  {
   "cell_type": "code",
   "execution_count": 8,
   "metadata": {
    "slideshow": {
     "slide_type": "fragment"
    }
   },
   "outputs": [
    {
     "name": "stdout",
     "output_type": "stream",
     "text": [
      "Wind today is from 202° at 7.8 knots\n"
     ]
    }
   ],
   "source": [
    "# Wind direction and speed\n",
    "wind_knots = mps_to_knots(response['wind']['speed'])\n",
    "print(f\"Wind today is from {response['wind']['deg']}° at {round(wind_knots,1)} knots\")"
   ]
  },
  {
   "cell_type": "markdown",
   "metadata": {
    "slideshow": {
     "slide_type": "slide"
    }
   },
   "source": [
    "## Forecasted weather\n",
    "### Common definitions to use for all requests"
   ]
  },
  {
   "cell_type": "code",
   "execution_count": 9,
   "metadata": {
    "slideshow": {
     "slide_type": "-"
    }
   },
   "outputs": [],
   "source": [
    "BASE_URL = \"http://api.openweathermap.org/data/2.5/forecast?\"\n",
    "CITY = \"Noresund\"\n",
    "\n",
    "urlF = BASE_URL + \"q=\" + CITY + \"&appid=\" + API_KEY"
   ]
  },
  {
   "cell_type": "markdown",
   "metadata": {
    "slideshow": {
     "slide_type": "slide"
    }
   },
   "source": [
    "## Request forecasted weather in chosen city"
   ]
  },
  {
   "cell_type": "code",
   "execution_count": 10,
   "metadata": {
    "slideshow": {
     "slide_type": "-"
    }
   },
   "outputs": [
    {
     "name": "stdout",
     "output_type": "stream",
     "text": [
      "{'cod': '200', 'message': 0, 'cnt': 40, 'list': [{'dt': 1695978000, 'main': {'temp': 285.89, 'feels_like': 285.54, 'temp_min': 285.89, 'temp_max': 286.81, 'pressure': 1007, 'sea_level': 1007, 'grnd_level': 989, 'humidity': 89, 'temp_kf': -0.92}, 'weather': [{'id': 804, 'main': 'Clouds', 'description': 'overcast clouds', 'icon': '04d'}], 'clouds': {'all': 98}, 'wind': {'speed': 1.68, 'deg': 201, 'gust': 2.81}, 'visibility': 10000, 'pop': 0, 'sys': {'pod': 'd'}, 'dt_txt': '2023-09-29 09:00:00'}, {'dt': 1695988800, 'main': {'temp': 287.44, 'feels_like': 286.96, 'temp_min': 287.44, 'temp_max': 288.44, 'pressure': 1006, 'sea_level': 1006, 'grnd_level': 988, 'humidity': 78, 'temp_kf': -1}, 'weather': [{'id': 804, 'main': 'Clouds', 'description': 'overcast clouds', 'icon': '04d'}], 'clouds': {'all': 91}, 'wind': {'speed': 2.48, 'deg': 196, 'gust': 5.56}, 'visibility': 10000, 'pop': 0, 'sys': {'pod': 'd'}, 'dt_txt': '2023-09-29 12:00:00'}, {'dt': 1695999600, 'main': {'temp': 288.23, 'feels_like': 287.67, 'temp_min': 288.23, 'temp_max': 288.23, 'pressure': 1005, 'sea_level': 1005, 'grnd_level': 987, 'humidity': 72, 'temp_kf': 0}, 'weather': [{'id': 804, 'main': 'Clouds', 'description': 'overcast clouds', 'icon': '04d'}], 'clouds': {'all': 99}, 'wind': {'speed': 2.05, 'deg': 209, 'gust': 5.75}, 'visibility': 10000, 'pop': 0.09, 'sys': {'pod': 'd'}, 'dt_txt': '2023-09-29 15:00:00'}, {'dt': 1696010400, 'main': {'temp': 283.25, 'feels_like': 282.77, 'temp_min': 283.25, 'temp_max': 283.25, 'pressure': 1005, 'sea_level': 1005, 'grnd_level': 987, 'humidity': 94, 'temp_kf': 0}, 'weather': [{'id': 803, 'main': 'Clouds', 'description': 'broken clouds', 'icon': '04n'}], 'clouds': {'all': 65}, 'wind': {'speed': 1.43, 'deg': 245, 'gust': 1.41}, 'visibility': 10000, 'pop': 0.05, 'sys': {'pod': 'n'}, 'dt_txt': '2023-09-29 18:00:00'}, {'dt': 1696021200, 'main': {'temp': 281.86, 'feels_like': 280.96, 'temp_min': 281.86, 'temp_max': 281.86, 'pressure': 1006, 'sea_level': 1006, 'grnd_level': 988, 'humidity': 93, 'temp_kf': 0}, 'weather': [{'id': 800, 'main': 'Clear', 'description': 'clear sky', 'icon': '01n'}], 'clouds': {'all': 2}, 'wind': {'speed': 1.87, 'deg': 272, 'gust': 1.85}, 'visibility': 10000, 'pop': 0, 'sys': {'pod': 'n'}, 'dt_txt': '2023-09-29 21:00:00'}, {'dt': 1696032000, 'main': {'temp': 282, 'feels_like': 281.17, 'temp_min': 282, 'temp_max': 282, 'pressure': 1005, 'sea_level': 1005, 'grnd_level': 987, 'humidity': 88, 'temp_kf': 0}, 'weather': [{'id': 801, 'main': 'Clouds', 'description': 'few clouds', 'icon': '02n'}], 'clouds': {'all': 22}, 'wind': {'speed': 1.81, 'deg': 241, 'gust': 2.07}, 'visibility': 10000, 'pop': 0, 'sys': {'pod': 'n'}, 'dt_txt': '2023-09-30 00:00:00'}, {'dt': 1696042800, 'main': {'temp': 280.77, 'feels_like': 279.99, 'temp_min': 280.77, 'temp_max': 280.77, 'pressure': 1005, 'sea_level': 1005, 'grnd_level': 987, 'humidity': 91, 'temp_kf': 0}, 'weather': [{'id': 801, 'main': 'Clouds', 'description': 'few clouds', 'icon': '02n'}], 'clouds': {'all': 20}, 'wind': {'speed': 1.58, 'deg': 251, 'gust': 1.44}, 'visibility': 10000, 'pop': 0, 'sys': {'pod': 'n'}, 'dt_txt': '2023-09-30 03:00:00'}, {'dt': 1696053600, 'main': {'temp': 282.54, 'feels_like': 281.95, 'temp_min': 282.54, 'temp_max': 282.54, 'pressure': 1006, 'sea_level': 1006, 'grnd_level': 988, 'humidity': 84, 'temp_kf': 0}, 'weather': [{'id': 803, 'main': 'Clouds', 'description': 'broken clouds', 'icon': '04d'}], 'clouds': {'all': 57}, 'wind': {'speed': 1.65, 'deg': 238, 'gust': 2.63}, 'visibility': 10000, 'pop': 0, 'sys': {'pod': 'd'}, 'dt_txt': '2023-09-30 06:00:00'}, {'dt': 1696064400, 'main': {'temp': 287.66, 'feels_like': 286.68, 'temp_min': 287.66, 'temp_max': 287.66, 'pressure': 1006, 'sea_level': 1006, 'grnd_level': 988, 'humidity': 58, 'temp_kf': 0}, 'weather': [{'id': 802, 'main': 'Clouds', 'description': 'scattered clouds', 'icon': '03d'}], 'clouds': {'all': 48}, 'wind': {'speed': 4.15, 'deg': 276, 'gust': 11.21}, 'visibility': 10000, 'pop': 0, 'sys': {'pod': 'd'}, 'dt_txt': '2023-09-30 09:00:00'}, {'dt': 1696075200, 'main': {'temp': 289.64, 'feels_like': 288.65, 'temp_min': 289.64, 'temp_max': 289.64, 'pressure': 1008, 'sea_level': 1008, 'grnd_level': 990, 'humidity': 50, 'temp_kf': 0}, 'weather': [{'id': 802, 'main': 'Clouds', 'description': 'scattered clouds', 'icon': '03d'}], 'clouds': {'all': 26}, 'wind': {'speed': 4.58, 'deg': 294, 'gust': 10.08}, 'visibility': 10000, 'pop': 0, 'sys': {'pod': 'd'}, 'dt_txt': '2023-09-30 12:00:00'}, {'dt': 1696086000, 'main': {'temp': 288.56, 'feels_like': 287.64, 'temp_min': 288.56, 'temp_max': 288.56, 'pressure': 1009, 'sea_level': 1009, 'grnd_level': 992, 'humidity': 57, 'temp_kf': 0}, 'weather': [{'id': 800, 'main': 'Clear', 'description': 'clear sky', 'icon': '01d'}], 'clouds': {'all': 2}, 'wind': {'speed': 3.07, 'deg': 281, 'gust': 7.57}, 'visibility': 10000, 'pop': 0, 'sys': {'pod': 'd'}, 'dt_txt': '2023-09-30 15:00:00'}, {'dt': 1696096800, 'main': {'temp': 282.62, 'feels_like': 281.4, 'temp_min': 282.62, 'temp_max': 282.62, 'pressure': 1013, 'sea_level': 1013, 'grnd_level': 994, 'humidity': 79, 'temp_kf': 0}, 'weather': [{'id': 800, 'main': 'Clear', 'description': 'clear sky', 'icon': '01n'}], 'clouds': {'all': 4}, 'wind': {'speed': 2.42, 'deg': 289, 'gust': 2.61}, 'visibility': 10000, 'pop': 0, 'sys': {'pod': 'n'}, 'dt_txt': '2023-09-30 18:00:00'}, {'dt': 1696107600, 'main': {'temp': 281.47, 'feels_like': 280.26, 'temp_min': 281.47, 'temp_max': 281.47, 'pressure': 1014, 'sea_level': 1014, 'grnd_level': 995, 'humidity': 82, 'temp_kf': 0}, 'weather': [{'id': 802, 'main': 'Clouds', 'description': 'scattered clouds', 'icon': '03n'}], 'clouds': {'all': 41}, 'wind': {'speed': 2.14, 'deg': 295, 'gust': 2.11}, 'visibility': 10000, 'pop': 0, 'sys': {'pod': 'n'}, 'dt_txt': '2023-09-30 21:00:00'}, {'dt': 1696118400, 'main': {'temp': 280.26, 'feels_like': 278.94, 'temp_min': 280.26, 'temp_max': 280.26, 'pressure': 1015, 'sea_level': 1015, 'grnd_level': 996, 'humidity': 85, 'temp_kf': 0}, 'weather': [{'id': 802, 'main': 'Clouds', 'description': 'scattered clouds', 'icon': '03n'}], 'clouds': {'all': 30}, 'wind': {'speed': 2.04, 'deg': 289, 'gust': 1.92}, 'visibility': 10000, 'pop': 0, 'sys': {'pod': 'n'}, 'dt_txt': '2023-10-01 00:00:00'}, {'dt': 1696129200, 'main': {'temp': 279.57, 'feels_like': 278.31, 'temp_min': 279.57, 'temp_max': 279.57, 'pressure': 1015, 'sea_level': 1015, 'grnd_level': 996, 'humidity': 88, 'temp_kf': 0}, 'weather': [{'id': 800, 'main': 'Clear', 'description': 'clear sky', 'icon': '01n'}], 'clouds': {'all': 8}, 'wind': {'speed': 1.86, 'deg': 298, 'gust': 1.83}, 'visibility': 10000, 'pop': 0, 'sys': {'pod': 'n'}, 'dt_txt': '2023-10-01 03:00:00'}, {'dt': 1696140000, 'main': {'temp': 279.34, 'feels_like': 278.15, 'temp_min': 279.34, 'temp_max': 279.34, 'pressure': 1015, 'sea_level': 1015, 'grnd_level': 997, 'humidity': 88, 'temp_kf': 0}, 'weather': [{'id': 801, 'main': 'Clouds', 'description': 'few clouds', 'icon': '02d'}], 'clouds': {'all': 14}, 'wind': {'speed': 1.76, 'deg': 307, 'gust': 1.78}, 'visibility': 10000, 'pop': 0, 'sys': {'pod': 'd'}, 'dt_txt': '2023-10-01 06:00:00'}, {'dt': 1696150800, 'main': {'temp': 285.46, 'feels_like': 284.39, 'temp_min': 285.46, 'temp_max': 285.46, 'pressure': 1014, 'sea_level': 1014, 'grnd_level': 996, 'humidity': 63, 'temp_kf': 0}, 'weather': [{'id': 803, 'main': 'Clouds', 'description': 'broken clouds', 'icon': '04d'}], 'clouds': {'all': 68}, 'wind': {'speed': 0.37, 'deg': 295, 'gust': 1.01}, 'visibility': 10000, 'pop': 0, 'sys': {'pod': 'd'}, 'dt_txt': '2023-10-01 09:00:00'}, {'dt': 1696161600, 'main': {'temp': 287.38, 'feels_like': 286.32, 'temp_min': 287.38, 'temp_max': 287.38, 'pressure': 1013, 'sea_level': 1013, 'grnd_level': 995, 'humidity': 56, 'temp_kf': 0}, 'weather': [{'id': 803, 'main': 'Clouds', 'description': 'broken clouds', 'icon': '04d'}], 'clouds': {'all': 81}, 'wind': {'speed': 1.53, 'deg': 159, 'gust': 1.54}, 'visibility': 10000, 'pop': 0, 'sys': {'pod': 'd'}, 'dt_txt': '2023-10-01 12:00:00'}, {'dt': 1696172400, 'main': {'temp': 286.92, 'feels_like': 285.97, 'temp_min': 286.92, 'temp_max': 286.92, 'pressure': 1012, 'sea_level': 1012, 'grnd_level': 994, 'humidity': 62, 'temp_kf': 0}, 'weather': [{'id': 804, 'main': 'Clouds', 'description': 'overcast clouds', 'icon': '04d'}], 'clouds': {'all': 97}, 'wind': {'speed': 1.67, 'deg': 153, 'gust': 2.46}, 'visibility': 10000, 'pop': 0, 'sys': {'pod': 'd'}, 'dt_txt': '2023-10-01 15:00:00'}, {'dt': 1696183200, 'main': {'temp': 282.33, 'feels_like': 282.33, 'temp_min': 282.33, 'temp_max': 282.33, 'pressure': 1012, 'sea_level': 1012, 'grnd_level': 994, 'humidity': 81, 'temp_kf': 0}, 'weather': [{'id': 804, 'main': 'Clouds', 'description': 'overcast clouds', 'icon': '04n'}], 'clouds': {'all': 97}, 'wind': {'speed': 0.74, 'deg': 227, 'gust': 0.79}, 'visibility': 10000, 'pop': 0, 'sys': {'pod': 'n'}, 'dt_txt': '2023-10-01 18:00:00'}, {'dt': 1696194000, 'main': {'temp': 282.71, 'feels_like': 282.71, 'temp_min': 282.71, 'temp_max': 282.71, 'pressure': 1011, 'sea_level': 1011, 'grnd_level': 993, 'humidity': 80, 'temp_kf': 0}, 'weather': [{'id': 804, 'main': 'Clouds', 'description': 'overcast clouds', 'icon': '04n'}], 'clouds': {'all': 100}, 'wind': {'speed': 0.58, 'deg': 257, 'gust': 0.61}, 'visibility': 10000, 'pop': 0, 'sys': {'pod': 'n'}, 'dt_txt': '2023-10-01 21:00:00'}, {'dt': 1696204800, 'main': {'temp': 282.38, 'feels_like': 282.38, 'temp_min': 282.38, 'temp_max': 282.38, 'pressure': 1010, 'sea_level': 1010, 'grnd_level': 992, 'humidity': 81, 'temp_kf': 0}, 'weather': [{'id': 804, 'main': 'Clouds', 'description': 'overcast clouds', 'icon': '04n'}], 'clouds': {'all': 92}, 'wind': {'speed': 1.08, 'deg': 246, 'gust': 0.97}, 'visibility': 10000, 'pop': 0, 'sys': {'pod': 'n'}, 'dt_txt': '2023-10-02 00:00:00'}, {'dt': 1696215600, 'main': {'temp': 282.37, 'feels_like': 281.93, 'temp_min': 282.37, 'temp_max': 282.37, 'pressure': 1010, 'sea_level': 1010, 'grnd_level': 991, 'humidity': 82, 'temp_kf': 0}, 'weather': [{'id': 803, 'main': 'Clouds', 'description': 'broken clouds', 'icon': '04n'}], 'clouds': {'all': 69}, 'wind': {'speed': 1.48, 'deg': 283, 'gust': 1.76}, 'visibility': 10000, 'pop': 0, 'sys': {'pod': 'n'}, 'dt_txt': '2023-10-02 03:00:00'}, {'dt': 1696226400, 'main': {'temp': 281.65, 'feels_like': 281.05, 'temp_min': 281.65, 'temp_max': 281.65, 'pressure': 1010, 'sea_level': 1010, 'grnd_level': 992, 'humidity': 92, 'temp_kf': 0}, 'weather': [{'id': 802, 'main': 'Clouds', 'description': 'scattered clouds', 'icon': '03d'}], 'clouds': {'all': 47}, 'wind': {'speed': 1.53, 'deg': 274, 'gust': 1.35}, 'visibility': 10000, 'pop': 0, 'sys': {'pod': 'd'}, 'dt_txt': '2023-10-02 06:00:00'}, {'dt': 1696237200, 'main': {'temp': 287.78, 'feels_like': 286.92, 'temp_min': 287.78, 'temp_max': 287.78, 'pressure': 1010, 'sea_level': 1010, 'grnd_level': 992, 'humidity': 62, 'temp_kf': 0}, 'weather': [{'id': 800, 'main': 'Clear', 'description': 'clear sky', 'icon': '01d'}], 'clouds': {'all': 6}, 'wind': {'speed': 1.47, 'deg': 257, 'gust': 2.95}, 'visibility': 10000, 'pop': 0, 'sys': {'pod': 'd'}, 'dt_txt': '2023-10-02 09:00:00'}, {'dt': 1696248000, 'main': {'temp': 289.54, 'feels_like': 288.36, 'temp_min': 289.54, 'temp_max': 289.54, 'pressure': 1010, 'sea_level': 1010, 'grnd_level': 992, 'humidity': 43, 'temp_kf': 0}, 'weather': [{'id': 801, 'main': 'Clouds', 'description': 'few clouds', 'icon': '02d'}], 'clouds': {'all': 17}, 'wind': {'speed': 2.93, 'deg': 270, 'gust': 4.38}, 'visibility': 10000, 'pop': 0, 'sys': {'pod': 'd'}, 'dt_txt': '2023-10-02 12:00:00'}, {'dt': 1696258800, 'main': {'temp': 287.9, 'feels_like': 286.81, 'temp_min': 287.9, 'temp_max': 287.9, 'pressure': 1009, 'sea_level': 1009, 'grnd_level': 991, 'humidity': 53, 'temp_kf': 0}, 'weather': [{'id': 804, 'main': 'Clouds', 'description': 'overcast clouds', 'icon': '04d'}], 'clouds': {'all': 100}, 'wind': {'speed': 1.76, 'deg': 255, 'gust': 3.71}, 'visibility': 10000, 'pop': 0, 'sys': {'pod': 'd'}, 'dt_txt': '2023-10-02 15:00:00'}, {'dt': 1696269600, 'main': {'temp': 282.73, 'feels_like': 281.79, 'temp_min': 282.73, 'temp_max': 282.73, 'pressure': 1010, 'sea_level': 1010, 'grnd_level': 992, 'humidity': 70, 'temp_kf': 0}, 'weather': [{'id': 804, 'main': 'Clouds', 'description': 'overcast clouds', 'icon': '04n'}], 'clouds': {'all': 100}, 'wind': {'speed': 2.08, 'deg': 275, 'gust': 1.85}, 'visibility': 10000, 'pop': 0, 'sys': {'pod': 'n'}, 'dt_txt': '2023-10-02 18:00:00'}, {'dt': 1696280400, 'main': {'temp': 281.49, 'feels_like': 280.27, 'temp_min': 281.49, 'temp_max': 281.49, 'pressure': 1009, 'sea_level': 1009, 'grnd_level': 991, 'humidity': 76, 'temp_kf': 0}, 'weather': [{'id': 804, 'main': 'Clouds', 'description': 'overcast clouds', 'icon': '04n'}], 'clouds': {'all': 100}, 'wind': {'speed': 2.16, 'deg': 286, 'gust': 2.21}, 'visibility': 10000, 'pop': 0, 'sys': {'pod': 'n'}, 'dt_txt': '2023-10-02 21:00:00'}, {'dt': 1696291200, 'main': {'temp': 281.17, 'feels_like': 280.25, 'temp_min': 281.17, 'temp_max': 281.17, 'pressure': 1009, 'sea_level': 1009, 'grnd_level': 991, 'humidity': 78, 'temp_kf': 0}, 'weather': [{'id': 804, 'main': 'Clouds', 'description': 'overcast clouds', 'icon': '04n'}], 'clouds': {'all': 100}, 'wind': {'speed': 1.77, 'deg': 287, 'gust': 1.82}, 'visibility': 10000, 'pop': 0, 'sys': {'pod': 'n'}, 'dt_txt': '2023-10-03 00:00:00'}, {'dt': 1696302000, 'main': {'temp': 280.48, 'feels_like': 279.65, 'temp_min': 280.48, 'temp_max': 280.48, 'pressure': 1008, 'sea_level': 1008, 'grnd_level': 989, 'humidity': 79, 'temp_kf': 0}, 'weather': [{'id': 804, 'main': 'Clouds', 'description': 'overcast clouds', 'icon': '04n'}], 'clouds': {'all': 100}, 'wind': {'speed': 1.59, 'deg': 289, 'gust': 1.6}, 'visibility': 10000, 'pop': 0, 'sys': {'pod': 'n'}, 'dt_txt': '2023-10-03 03:00:00'}, {'dt': 1696312800, 'main': {'temp': 279.43, 'feels_like': 278.45, 'temp_min': 279.43, 'temp_max': 279.43, 'pressure': 1006, 'sea_level': 1006, 'grnd_level': 988, 'humidity': 83, 'temp_kf': 0}, 'weather': [{'id': 804, 'main': 'Clouds', 'description': 'overcast clouds', 'icon': '04d'}], 'clouds': {'all': 97}, 'wind': {'speed': 1.59, 'deg': 295, 'gust': 1.33}, 'visibility': 10000, 'pop': 0, 'sys': {'pod': 'd'}, 'dt_txt': '2023-10-03 06:00:00'}, {'dt': 1696323600, 'main': {'temp': 284.99, 'feels_like': 283.77, 'temp_min': 284.99, 'temp_max': 284.99, 'pressure': 1005, 'sea_level': 1005, 'grnd_level': 987, 'humidity': 59, 'temp_kf': 0}, 'weather': [{'id': 803, 'main': 'Clouds', 'description': 'broken clouds', 'icon': '04d'}], 'clouds': {'all': 51}, 'wind': {'speed': 0.72, 'deg': 253, 'gust': 1.44}, 'visibility': 10000, 'pop': 0, 'sys': {'pod': 'd'}, 'dt_txt': '2023-10-03 09:00:00'}, {'dt': 1696334400, 'main': {'temp': 288.03, 'feels_like': 286.8, 'temp_min': 288.03, 'temp_max': 288.03, 'pressure': 1002, 'sea_level': 1002, 'grnd_level': 985, 'humidity': 47, 'temp_kf': 0}, 'weather': [{'id': 802, 'main': 'Clouds', 'description': 'scattered clouds', 'icon': '03d'}], 'clouds': {'all': 26}, 'wind': {'speed': 1.22, 'deg': 221, 'gust': 3.44}, 'visibility': 10000, 'pop': 0, 'sys': {'pod': 'd'}, 'dt_txt': '2023-10-03 12:00:00'}, {'dt': 1696345200, 'main': {'temp': 287.28, 'feels_like': 286.24, 'temp_min': 287.28, 'temp_max': 287.28, 'pressure': 1001, 'sea_level': 1001, 'grnd_level': 983, 'humidity': 57, 'temp_kf': 0}, 'weather': [{'id': 802, 'main': 'Clouds', 'description': 'scattered clouds', 'icon': '03d'}], 'clouds': {'all': 39}, 'wind': {'speed': 1.84, 'deg': 185, 'gust': 3.69}, 'visibility': 10000, 'pop': 0, 'sys': {'pod': 'd'}, 'dt_txt': '2023-10-03 15:00:00'}, {'dt': 1696356000, 'main': {'temp': 282.38, 'feels_like': 281.87, 'temp_min': 282.38, 'temp_max': 282.38, 'pressure': 1002, 'sea_level': 1002, 'grnd_level': 984, 'humidity': 71, 'temp_kf': 0}, 'weather': [{'id': 803, 'main': 'Clouds', 'description': 'broken clouds', 'icon': '04n'}], 'clouds': {'all': 68}, 'wind': {'speed': 1.55, 'deg': 282, 'gust': 1.58}, 'visibility': 10000, 'pop': 0, 'sys': {'pod': 'n'}, 'dt_txt': '2023-10-03 18:00:00'}, {'dt': 1696366800, 'main': {'temp': 281.14, 'feels_like': 279.93, 'temp_min': 281.14, 'temp_max': 281.14, 'pressure': 1003, 'sea_level': 1003, 'grnd_level': 985, 'humidity': 76, 'temp_kf': 0}, 'weather': [{'id': 804, 'main': 'Clouds', 'description': 'overcast clouds', 'icon': '04n'}], 'clouds': {'all': 88}, 'wind': {'speed': 2.08, 'deg': 280, 'gust': 2.04}, 'visibility': 10000, 'pop': 0, 'sys': {'pod': 'n'}, 'dt_txt': '2023-10-03 21:00:00'}, {'dt': 1696377600, 'main': {'temp': 279.24, 'feels_like': 277.62, 'temp_min': 279.24, 'temp_max': 279.24, 'pressure': 1004, 'sea_level': 1004, 'grnd_level': 986, 'humidity': 87, 'temp_kf': 0}, 'weather': [{'id': 803, 'main': 'Clouds', 'description': 'broken clouds', 'icon': '04n'}], 'clouds': {'all': 61}, 'wind': {'speed': 2.18, 'deg': 283, 'gust': 2.15}, 'visibility': 10000, 'pop': 0, 'sys': {'pod': 'n'}, 'dt_txt': '2023-10-04 00:00:00'}, {'dt': 1696388400, 'main': {'temp': 279.55, 'feels_like': 278.25, 'temp_min': 279.55, 'temp_max': 279.55, 'pressure': 1005, 'sea_level': 1005, 'grnd_level': 987, 'humidity': 84, 'temp_kf': 0}, 'weather': [{'id': 803, 'main': 'Clouds', 'description': 'broken clouds', 'icon': '04n'}], 'clouds': {'all': 65}, 'wind': {'speed': 1.9, 'deg': 288, 'gust': 2.06}, 'visibility': 10000, 'pop': 0, 'sys': {'pod': 'n'}, 'dt_txt': '2023-10-04 03:00:00'}, {'dt': 1696399200, 'main': {'temp': 280.78, 'feels_like': 279.69, 'temp_min': 280.78, 'temp_max': 280.78, 'pressure': 1006, 'sea_level': 1006, 'grnd_level': 988, 'humidity': 80, 'temp_kf': 0}, 'weather': [{'id': 803, 'main': 'Clouds', 'description': 'broken clouds', 'icon': '04d'}], 'clouds': {'all': 82}, 'wind': {'speed': 1.88, 'deg': 290, 'gust': 2.35}, 'visibility': 10000, 'pop': 0, 'sys': {'pod': 'd'}, 'dt_txt': '2023-10-04 06:00:00'}], 'city': {'id': 3144113, 'name': 'Noresund', 'coord': {'lat': 60.1803, 'lon': 9.6231}, 'country': 'NO', 'population': 1000, 'timezone': 7200, 'sunrise': 1695964869, 'sunset': 1696006963}}\n"
     ]
    }
   ],
   "source": [
    "responseF = requests.get(urlF).json()\n",
    "print(responseF)"
   ]
  },
  {
   "cell_type": "code",
   "execution_count": 11,
   "metadata": {
    "slideshow": {
     "slide_type": "slide"
    }
   },
   "outputs": [],
   "source": [
    "# Write JSON to file for viewing\n",
    "with open('downloads/forecast.json', 'w') as f:\n",
    "    json.dump(responseF, f, indent=4)"
   ]
  },
  {
   "cell_type": "markdown",
   "metadata": {
    "slideshow": {
     "slide_type": "slide"
    }
   },
   "source": [
    "### When and what?\n",
    "Check contents and time stamps"
   ]
  },
  {
   "cell_type": "code",
   "execution_count": 12,
   "metadata": {
    "slideshow": {
     "slide_type": "-"
    }
   },
   "outputs": [
    {
     "data": {
      "text/plain": [
       "dict_keys(['cod', 'message', 'cnt', 'list', 'city'])"
      ]
     },
     "execution_count": 12,
     "metadata": {},
     "output_type": "execute_result"
    }
   ],
   "source": [
    "# Content of responseF\n",
    "responseF.keys()"
   ]
  },
  {
   "cell_type": "code",
   "execution_count": 13,
   "metadata": {
    "slideshow": {
     "slide_type": "fragment"
    }
   },
   "outputs": [
    {
     "name": "stdout",
     "output_type": "stream",
     "text": [
      "40\n"
     ]
    }
   ],
   "source": [
    "# Number of forecasts\n",
    "print(len(responseF[\"list\"]))"
   ]
  },
  {
   "cell_type": "code",
   "execution_count": 14,
   "metadata": {
    "scrolled": true,
    "slideshow": {
     "slide_type": "slide"
    }
   },
   "outputs": [
    {
     "name": "stdout",
     "output_type": "stream",
     "text": [
      "2023-09-29 09:00:00\n",
      "2023-09-29 12:00:00\n",
      "2023-09-29 15:00:00\n",
      "2023-09-29 18:00:00\n",
      "2023-09-29 21:00:00\n",
      "2023-09-30 00:00:00\n",
      "2023-09-30 03:00:00\n",
      "2023-09-30 06:00:00\n",
      "2023-09-30 09:00:00\n",
      "2023-09-30 12:00:00\n",
      "2023-09-30 15:00:00\n",
      "2023-09-30 18:00:00\n",
      "2023-09-30 21:00:00\n",
      "2023-10-01 00:00:00\n",
      "2023-10-01 03:00:00\n",
      "2023-10-01 06:00:00\n",
      "2023-10-01 09:00:00\n",
      "2023-10-01 12:00:00\n",
      "2023-10-01 15:00:00\n",
      "2023-10-01 18:00:00\n",
      "2023-10-01 21:00:00\n",
      "2023-10-02 00:00:00\n",
      "2023-10-02 03:00:00\n",
      "2023-10-02 06:00:00\n",
      "2023-10-02 09:00:00\n",
      "2023-10-02 12:00:00\n",
      "2023-10-02 15:00:00\n",
      "2023-10-02 18:00:00\n",
      "2023-10-02 21:00:00\n",
      "2023-10-03 00:00:00\n",
      "2023-10-03 03:00:00\n",
      "2023-10-03 06:00:00\n",
      "2023-10-03 09:00:00\n",
      "2023-10-03 12:00:00\n",
      "2023-10-03 15:00:00\n",
      "2023-10-03 18:00:00\n",
      "2023-10-03 21:00:00\n",
      "2023-10-04 00:00:00\n",
      "2023-10-04 03:00:00\n",
      "2023-10-04 06:00:00\n"
     ]
    }
   ],
   "source": [
    "# Print forecast times\n",
    "for forecast in responseF[\"list\"]:\n",
    "    print(forecast[\"dt_txt\"])"
   ]
  },
  {
   "cell_type": "markdown",
   "metadata": {
    "slideshow": {
     "slide_type": "slide"
    }
   },
   "source": [
    "## Make plots of omnipresent measurements and events\n",
    "We will later look at missing data, data only sporadically appearing and so on."
   ]
  },
  {
   "cell_type": "code",
   "execution_count": 15,
   "metadata": {
    "slideshow": {
     "slide_type": "-"
    }
   },
   "outputs": [],
   "source": [
    "# Air pressure per period\n",
    "pressures = []\n",
    "timestamps = []\n",
    "for forecast in responseF[\"list\"]:\n",
    "    pressures.append(forecast[\"main\"][\"pressure\"])\n",
    "    timestamps.append(dt.datetime.fromtimestamp(forecast[\"dt\"]))"
   ]
  },
  {
   "cell_type": "code",
   "execution_count": 16,
   "metadata": {
    "slideshow": {
     "slide_type": "slide"
    }
   },
   "outputs": [
    {
     "data": {
      "image/png": "[encoded data removed]",
      "text/plain": [
       "<Figure size 640x480 with 1 Axes>"
      ]
     },
     "metadata": {},
     "output_type": "display_data"
    }
   ],
   "source": [
    "import matplotlib.pyplot as plt\n",
    "plt.bar(timestamps, pressures)\n",
    "plt.xticks(rotation=45)\n",
    "plt.ylim(950, 1050)\n",
    "plt.grid()\n",
    "plt.ylabel(\"Air pressure (hPa)\")\n",
    "plt.title(f\"Forecasted air pressure in {CITY}\")\n",
    "plt.show()"
   ]
  },
  {
   "cell_type": "markdown",
   "metadata": {
    "slideshow": {
     "slide_type": "slide"
    }
   },
   "source": [
    "## Exercise\n",
    "- Make a new forecast request for your own hometown. Call your response something else than responseF.\n",
    "- If available, plot the humidity like we did with air pressure."
   ]
  },
  {
   "cell_type": "markdown",
   "metadata": {
    "slideshow": {
     "slide_type": "slide"
    }
   },
   "source": [
    "### Precipitation\n",
    "- ... comes in two main flavours: rain and snow.\n",
    "- We need to check which is present and set to zero if it is abscent."
   ]
  },
  {
   "cell_type": "code",
   "execution_count": 17,
   "metadata": {
    "slideshow": {
     "slide_type": "-"
    }
   },
   "outputs": [],
   "source": [
    "rain = []\n",
    "snow = []\n",
    "for forecast in responseF[\"list\"]:\n",
    "    try: # Check if rain is present in forecast\n",
    "        rain.append(forecast[\"rain\"][\"3h\"])\n",
    "    except KeyError:\n",
    "        rain.append(0)\n",
    "    try: # Check if snow is present in forecast\n",
    "        snow.append(forecast[\"snow\"][\"3h\"])\n",
    "    except KeyError:\n",
    "        snow.append(0)"
   ]
  },
  {
   "cell_type": "code",
   "execution_count": 18,
   "metadata": {
    "slideshow": {
     "slide_type": "slide"
    }
   },
   "outputs": [
    {
     "data": {
      "image/png": "[encoded data removed]",
      "text/plain": [
       "<Figure size 640x480 with 1 Axes>"
      ]
     },
     "metadata": {},
     "output_type": "display_data"
    }
   ],
   "source": [
    "# Stacked bar chart with rain and snow\n",
    "plt.bar(timestamps, rain, label=\"Rain\")\n",
    "plt.bar(timestamps, snow, label=\"Snow\")\n",
    "plt.xticks(rotation=45)\n",
    "plt.grid()\n",
    "plt.ylabel(\"Precipitation (mm)\")\n",
    "plt.title(f\"Forecasted precipitation in {CITY}\")\n",
    "plt.legend()\n",
    "plt.show()\n"
   ]
  },
  {
   "cell_type": "markdown",
   "metadata": {
    "slideshow": {
     "slide_type": "slide"
    }
   },
   "source": [
    "## Resources\n",
    "- [YouTube: NeuralNine's video (15m:32s)](https://www.youtube.com/watch?v=9P5MY_2i7K8)"
   ]
  }
 ],
 "metadata": {
  "celltoolbar": "Slideshow",
  "kernelspec": {
   "display_name": "Python 3 (ipykernel)",
   "language": "python",
   "name": "python3"
  },
  "language_info": {
   "codemirror_mode": {
    "name": "ipython",
    "version": 3
   },
   "file_extension": ".py",
   "mimetype": "text/x-python",
   "name": "python",
   "nbconvert_exporter": "python",
   "pygments_lexer": "ipython3",
   "version": "3.10.6"
  }
 },
 "nbformat": 4,
 "nbformat_minor": 2
}