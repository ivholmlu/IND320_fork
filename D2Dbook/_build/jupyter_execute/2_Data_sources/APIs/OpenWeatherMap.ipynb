{
 "cells": [
  {
   "cell_type": "markdown",
   "metadata": {
    "slideshow": {
     "slide_type": "slide"
    }
   },
   "source": [
    "# Demonstration of API using OpenWeatherMap.org\n",
    "This demonstration is heavily inspired by [NeuralNine's video](https://www.youtube.com/watch?v=9P5MY_2i7K8).  \n",
    "The VS Code extension _JSON viewer_ is recommended for viewing downloaded JSON content.  \n",
    "You need a free account [from here](https://openweathermap.org/api). \n",
    "  - Set your maximum API calls to 1000 per day to make sure you are under the limit for billing. \n",
    "  - To run the examples, download your API key, save it in the right folder (see below) in a file called _api\\_key\\_OpenWeather_, containing only the key (no spaces or \"enters\")."
   ]
  },
  {
   "cell_type": "code",
   "execution_count": 1,
   "metadata": {
    "slideshow": {
     "slide_type": "fragment"
    }
   },
   "outputs": [],
   "source": [
    "# Imports\n",
    "import datetime as dt\n",
    "import requests\n",
    "import json"
   ]
  },
  {
   "cell_type": "markdown",
   "metadata": {
    "slideshow": {
     "slide_type": "slide"
    }
   },
   "source": [
    "## Current weather\n",
    "### Common definitions to use for all requests"
   ]
  },
  {
   "cell_type": "code",
   "execution_count": 2,
   "metadata": {
    "slideshow": {
     "slide_type": "-"
    }
   },
   "outputs": [],
   "source": [
    "BASE_URL = \"http://api.openweathermap.org/data/2.5/weather?\"\n",
    "API_KEY = open('../../../No_sync/api_key_OpenWeather','r').read()\n",
    "CITY = \"Ski\"\n",
    "\n",
    "url = BASE_URL + \"q=\" + CITY + \"&appid=\" + API_KEY"
   ]
  },
  {
   "cell_type": "markdown",
   "metadata": {
    "slideshow": {
     "slide_type": "slide"
    }
   },
   "source": [
    "## Request current weather in chosen city"
   ]
  },
  {
   "cell_type": "code",
   "execution_count": 3,
   "metadata": {
    "slideshow": {
     "slide_type": "fragment"
    }
   },
   "outputs": [
    {
     "name": "stdout",
     "output_type": "stream",
     "text": [
      "{'coord': {'lon': 10.8358, 'lat': 59.7195}, 'weather': [{'id': 804, 'main': 'Clouds', 'description': 'overcast clouds', 'icon': '04d'}], 'base': 'stations', 'main': {'temp': 289.86, 'feels_like': 290.15, 'temp_min': 288.53, 'temp_max': 290.33, 'pressure': 1011, 'humidity': 98, 'sea_level': 1011, 'grnd_level': 994}, 'visibility': 9676, 'wind': {'speed': 4.65, 'deg': 185, 'gust': 11.88}, 'clouds': {'all': 100}, 'dt': 1694418682, 'sys': {'type': 2, 'id': 2006772, 'country': 'NO', 'sunrise': 1694406878, 'sunset': 1694454757}, 'timezone': 7200, 'id': 3139081, 'name': 'Ski', 'cod': 200}\n"
     ]
    }
   ],
   "source": [
    "response = requests.get(url).json()\n",
    "print(response)"
   ]
  },
  {
   "cell_type": "code",
   "execution_count": 4,
   "metadata": {
    "slideshow": {
     "slide_type": "fragment"
    }
   },
   "outputs": [],
   "source": [
    "# Write JSON to file for viewing\n",
    "with open('downloads/weather.json', 'w') as f:\n",
    "    json.dump(response, f, indent=4)"
   ]
  },
  {
   "cell_type": "markdown",
   "metadata": {
    "slideshow": {
     "slide_type": "slide"
    }
   },
   "source": [
    "## Conversion functions\n",
    "Changing scales can make results more interpretable"
   ]
  },
  {
   "cell_type": "code",
   "execution_count": 5,
   "metadata": {
    "slideshow": {
     "slide_type": "-"
    }
   },
   "outputs": [],
   "source": [
    "# Kelvin to Celsius\n",
    "def kelvin_to_celsius(temp):\n",
    "    return temp - 273.15\n",
    "\n",
    "# Meters per second to knots\n",
    "def mps_to_knots(speed):\n",
    "    return speed * 1.943844"
   ]
  },
  {
   "cell_type": "markdown",
   "metadata": {
    "slideshow": {
     "slide_type": "slide"
    }
   },
   "source": [
    "## Print some weather properties"
   ]
  },
  {
   "cell_type": "code",
   "execution_count": 6,
   "metadata": {
    "slideshow": {
     "slide_type": "-"
    }
   },
   "outputs": [
    {
     "name": "stdout",
     "output_type": "stream",
     "text": [
      "The current temperature in Ski is 16.71°C\n"
     ]
    }
   ],
   "source": [
    "# Current temperature\n",
    "temp_kelvin = response['main']['temp']\n",
    "temp_celsius = kelvin_to_celsius(temp_kelvin)\n",
    "print(f\"The current temperature in {CITY} is {temp_celsius:.2f}°C\")"
   ]
  },
  {
   "cell_type": "code",
   "execution_count": 7,
   "metadata": {
    "slideshow": {
     "slide_type": "slide"
    }
   },
   "outputs": [
    {
     "name": "stdout",
     "output_type": "stream",
     "text": [
      "Sunrise today is at 06:34 and sunset is at 19:52\n"
     ]
    }
   ],
   "source": [
    "# Sunrise and sunset today in local time\n",
    "sunrise = dt.datetime.fromtimestamp(response['sys']['sunrise'])\n",
    "sunset = dt.datetime.fromtimestamp(response['sys']['sunset'])\n",
    "print(f\"Sunrise today is at {sunrise:%H:%M} and sunset is at {sunset:%H:%M}\")"
   ]
  },
  {
   "cell_type": "code",
   "execution_count": 8,
   "metadata": {
    "slideshow": {
     "slide_type": "fragment"
    }
   },
   "outputs": [
    {
     "name": "stdout",
     "output_type": "stream",
     "text": [
      "Wind today is from 185° at 9.0 knots\n"
     ]
    }
   ],
   "source": [
    "# Wind direction and speed\n",
    "wind_knots = mps_to_knots(response['wind']['speed'])\n",
    "print(f\"Wind today is from {response['wind']['deg']}° at {round(wind_knots,1)} knots\")"
   ]
  },
  {
   "cell_type": "markdown",
   "metadata": {
    "slideshow": {
     "slide_type": "slide"
    }
   },
   "source": [
    "## Forecasted weather\n",
    "### Common definitions to use for all requests"
   ]
  },
  {
   "cell_type": "code",
   "execution_count": 9,
   "metadata": {
    "slideshow": {
     "slide_type": "-"
    }
   },
   "outputs": [],
   "source": [
    "BASE_URL = \"http://api.openweathermap.org/data/2.5/forecast?\"\n",
    "CITY = \"Ski\"\n",
    "\n",
    "urlF = BASE_URL + \"q=\" + CITY + \"&appid=\" + API_KEY"
   ]
  },
  {
   "cell_type": "markdown",
   "metadata": {
    "slideshow": {
     "slide_type": "slide"
    }
   },
   "source": [
    "## Request current weather in chosen city"
   ]
  },
  {
   "cell_type": "code",
   "execution_count": 10,
   "metadata": {
    "slideshow": {
     "slide_type": "-"
    }
   },
   "outputs": [
    {
     "name": "stdout",
     "output_type": "stream",
     "text": [
      "{'cod': '200', 'message': 0, 'cnt': 40, 'list': [{'dt': 1694422800, 'main': {'temp': 289.86, 'feels_like': 290.15, 'temp_min': 289.86, 'temp_max': 290.06, 'pressure': 1010, 'sea_level': 1010, 'grnd_level': 994, 'humidity': 98, 'temp_kf': -0.2}, 'weather': [{'id': 804, 'main': 'Clouds', 'description': 'overcast clouds', 'icon': '04d'}], 'clouds': {'all': 100}, 'wind': {'speed': 4.41, 'deg': 182, 'gust': 12.07}, 'visibility': 914, 'pop': 0, 'sys': {'pod': 'd'}, 'dt_txt': '2023-09-11 09:00:00'}, {'dt': 1694433600, 'main': {'temp': 290.14, 'feels_like': 290.4, 'temp_min': 290.14, 'temp_max': 290.7, 'pressure': 1010, 'sea_level': 1010, 'grnd_level': 993, 'humidity': 96, 'temp_kf': -0.56}, 'weather': [{'id': 804, 'main': 'Clouds', 'description': 'overcast clouds', 'icon': '04d'}], 'clouds': {'all': 100}, 'wind': {'speed': 4.98, 'deg': 185, 'gust': 12.31}, 'visibility': 10000, 'pop': 0.26, 'sys': {'pod': 'd'}, 'dt_txt': '2023-09-11 12:00:00'}, {'dt': 1694444400, 'main': {'temp': 289.85, 'feels_like': 290.11, 'temp_min': 289.84, 'temp_max': 289.85, 'pressure': 1008, 'sea_level': 1008, 'grnd_level': 991, 'humidity': 97, 'temp_kf': 0.01}, 'weather': [{'id': 500, 'main': 'Rain', 'description': 'light rain', 'icon': '10d'}], 'clouds': {'all': 100}, 'wind': {'speed': 4.94, 'deg': 179, 'gust': 11.84}, 'visibility': 708, 'pop': 0.81, 'rain': {'3h': 1.07}, 'sys': {'pod': 'd'}, 'dt_txt': '2023-09-11 15:00:00'}, {'dt': 1694455200, 'main': {'temp': 289.26, 'feels_like': 289.49, 'temp_min': 289.26, 'temp_max': 289.26, 'pressure': 1006, 'sea_level': 1006, 'grnd_level': 990, 'humidity': 98, 'temp_kf': 0}, 'weather': [{'id': 804, 'main': 'Clouds', 'description': 'overcast clouds', 'icon': '04n'}], 'clouds': {'all': 100}, 'wind': {'speed': 4.5, 'deg': 180, 'gust': 10.64}, 'visibility': 138, 'pop': 0.61, 'sys': {'pod': 'n'}, 'dt_txt': '2023-09-11 18:00:00'}, {'dt': 1694466000, 'main': {'temp': 289.12, 'feels_like': 289.31, 'temp_min': 289.12, 'temp_max': 289.12, 'pressure': 1005, 'sea_level': 1005, 'grnd_level': 989, 'humidity': 97, 'temp_kf': 0}, 'weather': [{'id': 804, 'main': 'Clouds', 'description': 'overcast clouds', 'icon': '04n'}], 'clouds': {'all': 100}, 'wind': {'speed': 4.31, 'deg': 193, 'gust': 10.09}, 'visibility': 7799, 'pop': 0, 'sys': {'pod': 'n'}, 'dt_txt': '2023-09-11 21:00:00'}, {'dt': 1694476800, 'main': {'temp': 289.14, 'feels_like': 289.3, 'temp_min': 289.14, 'temp_max': 289.14, 'pressure': 1005, 'sea_level': 1005, 'grnd_level': 988, 'humidity': 96, 'temp_kf': 0}, 'weather': [{'id': 804, 'main': 'Clouds', 'description': 'overcast clouds', 'icon': '04n'}], 'clouds': {'all': 99}, 'wind': {'speed': 3.69, 'deg': 187, 'gust': 9.74}, 'visibility': 10000, 'pop': 0, 'sys': {'pod': 'n'}, 'dt_txt': '2023-09-12 00:00:00'}, {'dt': 1694487600, 'main': {'temp': 288.43, 'feels_like': 288.47, 'temp_min': 288.43, 'temp_max': 288.43, 'pressure': 1004, 'sea_level': 1004, 'grnd_level': 988, 'humidity': 94, 'temp_kf': 0}, 'weather': [{'id': 804, 'main': 'Clouds', 'description': 'overcast clouds', 'icon': '04n'}], 'clouds': {'all': 94}, 'wind': {'speed': 3.2, 'deg': 193, 'gust': 6.74}, 'visibility': 10000, 'pop': 0, 'sys': {'pod': 'n'}, 'dt_txt': '2023-09-12 03:00:00'}, {'dt': 1694498400, 'main': {'temp': 288.43, 'feels_like': 288.39, 'temp_min': 288.43, 'temp_max': 288.43, 'pressure': 1005, 'sea_level': 1005, 'grnd_level': 989, 'humidity': 91, 'temp_kf': 0}, 'weather': [{'id': 804, 'main': 'Clouds', 'description': 'overcast clouds', 'icon': '04d'}], 'clouds': {'all': 96}, 'wind': {'speed': 1.37, 'deg': 237, 'gust': 2.53}, 'visibility': 10000, 'pop': 0, 'sys': {'pod': 'd'}, 'dt_txt': '2023-09-12 06:00:00'}, {'dt': 1694509200, 'main': {'temp': 291.34, 'feels_like': 290.83, 'temp_min': 291.34, 'temp_max': 291.34, 'pressure': 1006, 'sea_level': 1006, 'grnd_level': 990, 'humidity': 62, 'temp_kf': 0}, 'weather': [{'id': 804, 'main': 'Clouds', 'description': 'overcast clouds', 'icon': '04d'}], 'clouds': {'all': 90}, 'wind': {'speed': 1.67, 'deg': 269, 'gust': 3.06}, 'visibility': 10000, 'pop': 0, 'sys': {'pod': 'd'}, 'dt_txt': '2023-09-12 09:00:00'}, {'dt': 1694520000, 'main': {'temp': 292.9, 'feels_like': 292, 'temp_min': 292.9, 'temp_max': 292.9, 'pressure': 1006, 'sea_level': 1006, 'grnd_level': 990, 'humidity': 41, 'temp_kf': 0}, 'weather': [{'id': 804, 'main': 'Clouds', 'description': 'overcast clouds', 'icon': '04d'}], 'clouds': {'all': 92}, 'wind': {'speed': 2.94, 'deg': 290, 'gust': 3.62}, 'visibility': 10000, 'pop': 0, 'sys': {'pod': 'd'}, 'dt_txt': '2023-09-12 12:00:00'}, {'dt': 1694530800, 'main': {'temp': 292.4, 'feels_like': 291.48, 'temp_min': 292.4, 'temp_max': 292.4, 'pressure': 1007, 'sea_level': 1007, 'grnd_level': 990, 'humidity': 42, 'temp_kf': 0}, 'weather': [{'id': 804, 'main': 'Clouds', 'description': 'overcast clouds', 'icon': '04d'}], 'clouds': {'all': 99}, 'wind': {'speed': 2.25, 'deg': 265, 'gust': 3.74}, 'visibility': 10000, 'pop': 0, 'sys': {'pod': 'd'}, 'dt_txt': '2023-09-12 15:00:00'}, {'dt': 1694541600, 'main': {'temp': 285.91, 'feels_like': 284.73, 'temp_min': 285.91, 'temp_max': 285.91, 'pressure': 1008, 'sea_level': 1008, 'grnd_level': 991, 'humidity': 57, 'temp_kf': 0}, 'weather': [{'id': 803, 'main': 'Clouds', 'description': 'broken clouds', 'icon': '04n'}], 'clouds': {'all': 82}, 'wind': {'speed': 1.2, 'deg': 321, 'gust': 1.55}, 'visibility': 10000, 'pop': 0, 'sys': {'pod': 'n'}, 'dt_txt': '2023-09-12 18:00:00'}, {'dt': 1694552400, 'main': {'temp': 283.25, 'feels_like': 282.64, 'temp_min': 283.25, 'temp_max': 283.25, 'pressure': 1010, 'sea_level': 1010, 'grnd_level': 993, 'humidity': 89, 'temp_kf': 0}, 'weather': [{'id': 803, 'main': 'Clouds', 'description': 'broken clouds', 'icon': '04n'}], 'clouds': {'all': 53}, 'wind': {'speed': 2.32, 'deg': 8, 'gust': 5.74}, 'visibility': 10000, 'pop': 0, 'sys': {'pod': 'n'}, 'dt_txt': '2023-09-12 21:00:00'}, {'dt': 1694563200, 'main': {'temp': 281.71, 'feels_like': 280.69, 'temp_min': 281.71, 'temp_max': 281.71, 'pressure': 1011, 'sea_level': 1011, 'grnd_level': 994, 'humidity': 91, 'temp_kf': 0}, 'weather': [{'id': 802, 'main': 'Clouds', 'description': 'scattered clouds', 'icon': '03n'}], 'clouds': {'all': 42}, 'wind': {'speed': 1.97, 'deg': 360, 'gust': 4.64}, 'visibility': 10000, 'pop': 0, 'sys': {'pod': 'n'}, 'dt_txt': '2023-09-13 00:00:00'}, {'dt': 1694574000, 'main': {'temp': 280.6, 'feels_like': 279.54, 'temp_min': 280.6, 'temp_max': 280.6, 'pressure': 1012, 'sea_level': 1012, 'grnd_level': 995, 'humidity': 94, 'temp_kf': 0}, 'weather': [{'id': 800, 'main': 'Clear', 'description': 'clear sky', 'icon': '01n'}], 'clouds': {'all': 2}, 'wind': {'speed': 1.82, 'deg': 349, 'gust': 4.14}, 'visibility': 10000, 'pop': 0, 'sys': {'pod': 'n'}, 'dt_txt': '2023-09-13 03:00:00'}, {'dt': 1694584800, 'main': {'temp': 281.4, 'feels_like': 280.39, 'temp_min': 281.4, 'temp_max': 281.4, 'pressure': 1014, 'sea_level': 1014, 'grnd_level': 997, 'humidity': 83, 'temp_kf': 0}, 'weather': [{'id': 800, 'main': 'Clear', 'description': 'clear sky', 'icon': '01d'}], 'clouds': {'all': 1}, 'wind': {'speed': 1.9, 'deg': 338, 'gust': 5.2}, 'visibility': 10000, 'pop': 0, 'sys': {'pod': 'd'}, 'dt_txt': '2023-09-13 06:00:00'}, {'dt': 1694595600, 'main': {'temp': 287.01, 'feels_like': 285.89, 'temp_min': 287.01, 'temp_max': 287.01, 'pressure': 1015, 'sea_level': 1015, 'grnd_level': 998, 'humidity': 55, 'temp_kf': 0}, 'weather': [{'id': 800, 'main': 'Clear', 'description': 'clear sky', 'icon': '01d'}], 'clouds': {'all': 0}, 'wind': {'speed': 2.62, 'deg': 345, 'gust': 4.4}, 'visibility': 10000, 'pop': 0, 'sys': {'pod': 'd'}, 'dt_txt': '2023-09-13 09:00:00'}, {'dt': 1694606400, 'main': {'temp': 289.88, 'feels_like': 288.78, 'temp_min': 289.88, 'temp_max': 289.88, 'pressure': 1015, 'sea_level': 1015, 'grnd_level': 999, 'humidity': 45, 'temp_kf': 0}, 'weather': [{'id': 800, 'main': 'Clear', 'description': 'clear sky', 'icon': '01d'}], 'clouds': {'all': 4}, 'wind': {'speed': 2.29, 'deg': 345, 'gust': 3.05}, 'visibility': 10000, 'pop': 0, 'sys': {'pod': 'd'}, 'dt_txt': '2023-09-13 12:00:00'}, {'dt': 1694617200, 'main': {'temp': 290.05, 'feels_like': 288.89, 'temp_min': 290.05, 'temp_max': 290.05, 'pressure': 1016, 'sea_level': 1016, 'grnd_level': 1000, 'humidity': 42, 'temp_kf': 0}, 'weather': [{'id': 801, 'main': 'Clouds', 'description': 'few clouds', 'icon': '02d'}], 'clouds': {'all': 21}, 'wind': {'speed': 2.01, 'deg': 47, 'gust': 2.88}, 'visibility': 10000, 'pop': 0, 'sys': {'pod': 'd'}, 'dt_txt': '2023-09-13 15:00:00'}, {'dt': 1694628000, 'main': {'temp': 285.38, 'feels_like': 284.3, 'temp_min': 285.38, 'temp_max': 285.38, 'pressure': 1018, 'sea_level': 1018, 'grnd_level': 1001, 'humidity': 63, 'temp_kf': 0}, 'weather': [{'id': 802, 'main': 'Clouds', 'description': 'scattered clouds', 'icon': '03n'}], 'clouds': {'all': 40}, 'wind': {'speed': 2.06, 'deg': 42, 'gust': 5.4}, 'visibility': 10000, 'pop': 0, 'sys': {'pod': 'n'}, 'dt_txt': '2023-09-13 18:00:00'}, {'dt': 1694638800, 'main': {'temp': 281.96, 'feels_like': 281.01, 'temp_min': 281.96, 'temp_max': 281.96, 'pressure': 1020, 'sea_level': 1020, 'grnd_level': 1003, 'humidity': 79, 'temp_kf': 0}, 'weather': [{'id': 803, 'main': 'Clouds', 'description': 'broken clouds', 'icon': '04n'}], 'clouds': {'all': 57}, 'wind': {'speed': 1.94, 'deg': 35, 'gust': 5.7}, 'visibility': 10000, 'pop': 0, 'sys': {'pod': 'n'}, 'dt_txt': '2023-09-13 21:00:00'}, {'dt': 1694649600, 'main': {'temp': 280.71, 'feels_like': 279.71, 'temp_min': 280.71, 'temp_max': 280.71, 'pressure': 1021, 'sea_level': 1021, 'grnd_level': 1004, 'humidity': 78, 'temp_kf': 0}, 'weather': [{'id': 803, 'main': 'Clouds', 'description': 'broken clouds', 'icon': '04n'}], 'clouds': {'all': 75}, 'wind': {'speed': 1.78, 'deg': 20, 'gust': 2.85}, 'visibility': 10000, 'pop': 0, 'sys': {'pod': 'n'}, 'dt_txt': '2023-09-14 00:00:00'}, {'dt': 1694660400, 'main': {'temp': 280.87, 'feels_like': 279.73, 'temp_min': 280.87, 'temp_max': 280.87, 'pressure': 1022, 'sea_level': 1022, 'grnd_level': 1004, 'humidity': 74, 'temp_kf': 0}, 'weather': [{'id': 804, 'main': 'Clouds', 'description': 'overcast clouds', 'icon': '04n'}], 'clouds': {'all': 100}, 'wind': {'speed': 1.95, 'deg': 32, 'gust': 4.97}, 'visibility': 10000, 'pop': 0, 'sys': {'pod': 'n'}, 'dt_txt': '2023-09-14 03:00:00'}, {'dt': 1694671200, 'main': {'temp': 281.53, 'feels_like': 280.57, 'temp_min': 281.53, 'temp_max': 281.53, 'pressure': 1022, 'sea_level': 1022, 'grnd_level': 1004, 'humidity': 72, 'temp_kf': 0}, 'weather': [{'id': 804, 'main': 'Clouds', 'description': 'overcast clouds', 'icon': '04d'}], 'clouds': {'all': 100}, 'wind': {'speed': 1.87, 'deg': 44, 'gust': 4.72}, 'visibility': 10000, 'pop': 0, 'sys': {'pod': 'd'}, 'dt_txt': '2023-09-14 06:00:00'}, {'dt': 1694682000, 'main': {'temp': 284.11, 'feels_like': 282.96, 'temp_min': 284.11, 'temp_max': 284.11, 'pressure': 1022, 'sea_level': 1022, 'grnd_level': 1005, 'humidity': 65, 'temp_kf': 0}, 'weather': [{'id': 804, 'main': 'Clouds', 'description': 'overcast clouds', 'icon': '04d'}], 'clouds': {'all': 100}, 'wind': {'speed': 2.03, 'deg': 68, 'gust': 2.79}, 'visibility': 10000, 'pop': 0.1, 'sys': {'pod': 'd'}, 'dt_txt': '2023-09-14 09:00:00'}, {'dt': 1694692800, 'main': {'temp': 285.57, 'feels_like': 284.7, 'temp_min': 285.57, 'temp_max': 285.57, 'pressure': 1021, 'sea_level': 1021, 'grnd_level': 1004, 'humidity': 70, 'temp_kf': 0}, 'weather': [{'id': 500, 'main': 'Rain', 'description': 'light rain', 'icon': '10d'}], 'clouds': {'all': 100}, 'wind': {'speed': 0.88, 'deg': 99, 'gust': 2.43}, 'visibility': 10000, 'pop': 0.24, 'rain': {'3h': 0.21}, 'sys': {'pod': 'd'}, 'dt_txt': '2023-09-14 12:00:00'}, {'dt': 1694703600, 'main': {'temp': 286.76, 'feels_like': 285.95, 'temp_min': 286.76, 'temp_max': 286.76, 'pressure': 1020, 'sea_level': 1020, 'grnd_level': 1003, 'humidity': 68, 'temp_kf': 0}, 'weather': [{'id': 500, 'main': 'Rain', 'description': 'light rain', 'icon': '10d'}], 'clouds': {'all': 90}, 'wind': {'speed': 1.96, 'deg': 195, 'gust': 3.43}, 'visibility': 10000, 'pop': 0.35, 'rain': {'3h': 0.36}, 'sys': {'pod': 'd'}, 'dt_txt': '2023-09-14 15:00:00'}, {'dt': 1694714400, 'main': {'temp': 282.69, 'feels_like': 282, 'temp_min': 282.69, 'temp_max': 282.69, 'pressure': 1020, 'sea_level': 1020, 'grnd_level': 1003, 'humidity': 90, 'temp_kf': 0}, 'weather': [{'id': 804, 'main': 'Clouds', 'description': 'overcast clouds', 'icon': '04n'}], 'clouds': {'all': 94}, 'wind': {'speed': 1.78, 'deg': 172, 'gust': 1.97}, 'visibility': 10000, 'pop': 0.09, 'sys': {'pod': 'n'}, 'dt_txt': '2023-09-14 18:00:00'}, {'dt': 1694725200, 'main': {'temp': 282.33, 'feels_like': 281.21, 'temp_min': 282.33, 'temp_max': 282.33, 'pressure': 1021, 'sea_level': 1021, 'grnd_level': 1003, 'humidity': 91, 'temp_kf': 0}, 'weather': [{'id': 804, 'main': 'Clouds', 'description': 'overcast clouds', 'icon': '04n'}], 'clouds': {'all': 100}, 'wind': {'speed': 2.22, 'deg': 173, 'gust': 8.1}, 'visibility': 10000, 'pop': 0, 'sys': {'pod': 'n'}, 'dt_txt': '2023-09-14 21:00:00'}, {'dt': 1694736000, 'main': {'temp': 284.43, 'feels_like': 283.83, 'temp_min': 284.43, 'temp_max': 284.43, 'pressure': 1020, 'sea_level': 1020, 'grnd_level': 1003, 'humidity': 85, 'temp_kf': 0}, 'weather': [{'id': 804, 'main': 'Clouds', 'description': 'overcast clouds', 'icon': '04n'}], 'clouds': {'all': 100}, 'wind': {'speed': 3.68, 'deg': 203, 'gust': 10.23}, 'visibility': 10000, 'pop': 0, 'sys': {'pod': 'n'}, 'dt_txt': '2023-09-15 00:00:00'}, {'dt': 1694746800, 'main': {'temp': 284.75, 'feels_like': 284.37, 'temp_min': 284.75, 'temp_max': 284.75, 'pressure': 1019, 'sea_level': 1019, 'grnd_level': 1002, 'humidity': 92, 'temp_kf': 0}, 'weather': [{'id': 500, 'main': 'Rain', 'description': 'light rain', 'icon': '10n'}], 'clouds': {'all': 100}, 'wind': {'speed': 4.06, 'deg': 188, 'gust': 10.12}, 'visibility': 10000, 'pop': 0.26, 'rain': {'3h': 0.45}, 'sys': {'pod': 'n'}, 'dt_txt': '2023-09-15 03:00:00'}, {'dt': 1694757600, 'main': {'temp': 285.62, 'feels_like': 285.38, 'temp_min': 285.62, 'temp_max': 285.62, 'pressure': 1020, 'sea_level': 1020, 'grnd_level': 1003, 'humidity': 94, 'temp_kf': 0}, 'weather': [{'id': 500, 'main': 'Rain', 'description': 'light rain', 'icon': '10d'}], 'clouds': {'all': 100}, 'wind': {'speed': 4.07, 'deg': 190, 'gust': 9.41}, 'visibility': 10000, 'pop': 0.3, 'rain': {'3h': 0.36}, 'sys': {'pod': 'd'}, 'dt_txt': '2023-09-15 06:00:00'}, {'dt': 1694768400, 'main': {'temp': 288.23, 'feels_like': 287.83, 'temp_min': 288.23, 'temp_max': 288.23, 'pressure': 1019, 'sea_level': 1019, 'grnd_level': 1003, 'humidity': 78, 'temp_kf': 0}, 'weather': [{'id': 500, 'main': 'Rain', 'description': 'light rain', 'icon': '10d'}], 'clouds': {'all': 99}, 'wind': {'speed': 4.7, 'deg': 197, 'gust': 8.45}, 'visibility': 10000, 'pop': 0.4, 'rain': {'3h': 0.13}, 'sys': {'pod': 'd'}, 'dt_txt': '2023-09-15 09:00:00'}, {'dt': 1694779200, 'main': {'temp': 290.48, 'feels_like': 289.76, 'temp_min': 290.48, 'temp_max': 290.48, 'pressure': 1019, 'sea_level': 1019, 'grnd_level': 1002, 'humidity': 57, 'temp_kf': 0}, 'weather': [{'id': 804, 'main': 'Clouds', 'description': 'overcast clouds', 'icon': '04d'}], 'clouds': {'all': 96}, 'wind': {'speed': 5.23, 'deg': 201, 'gust': 7.4}, 'visibility': 10000, 'pop': 0.08, 'sys': {'pod': 'd'}, 'dt_txt': '2023-09-15 12:00:00'}, {'dt': 1694790000, 'main': {'temp': 288.85, 'feels_like': 288.41, 'temp_min': 288.85, 'temp_max': 288.85, 'pressure': 1019, 'sea_level': 1019, 'grnd_level': 1003, 'humidity': 74, 'temp_kf': 0}, 'weather': [{'id': 804, 'main': 'Clouds', 'description': 'overcast clouds', 'icon': '04d'}], 'clouds': {'all': 92}, 'wind': {'speed': 4.77, 'deg': 182, 'gust': 8.71}, 'visibility': 10000, 'pop': 0, 'sys': {'pod': 'd'}, 'dt_txt': '2023-09-15 15:00:00'}, {'dt': 1694800800, 'main': {'temp': 286.02, 'feels_like': 285.74, 'temp_min': 286.02, 'temp_max': 286.02, 'pressure': 1020, 'sea_level': 1020, 'grnd_level': 1003, 'humidity': 91, 'temp_kf': 0}, 'weather': [{'id': 804, 'main': 'Clouds', 'description': 'overcast clouds', 'icon': '04n'}], 'clouds': {'all': 96}, 'wind': {'speed': 3.93, 'deg': 188, 'gust': 10.09}, 'visibility': 10000, 'pop': 0, 'sys': {'pod': 'n'}, 'dt_txt': '2023-09-15 18:00:00'}, {'dt': 1694811600, 'main': {'temp': 286.41, 'feels_like': 286.17, 'temp_min': 286.41, 'temp_max': 286.41, 'pressure': 1021, 'sea_level': 1021, 'grnd_level': 1004, 'humidity': 91, 'temp_kf': 0}, 'weather': [{'id': 804, 'main': 'Clouds', 'description': 'overcast clouds', 'icon': '04n'}], 'clouds': {'all': 100}, 'wind': {'speed': 3.26, 'deg': 189, 'gust': 8.97}, 'visibility': 10000, 'pop': 0, 'sys': {'pod': 'n'}, 'dt_txt': '2023-09-15 21:00:00'}, {'dt': 1694822400, 'main': {'temp': 285.93, 'feels_like': 285.56, 'temp_min': 285.93, 'temp_max': 285.93, 'pressure': 1021, 'sea_level': 1021, 'grnd_level': 1004, 'humidity': 88, 'temp_kf': 0}, 'weather': [{'id': 804, 'main': 'Clouds', 'description': 'overcast clouds', 'icon': '04n'}], 'clouds': {'all': 100}, 'wind': {'speed': 2.5, 'deg': 197, 'gust': 6.81}, 'visibility': 10000, 'pop': 0, 'sys': {'pod': 'n'}, 'dt_txt': '2023-09-16 00:00:00'}, {'dt': 1694833200, 'main': {'temp': 285.78, 'feels_like': 285.37, 'temp_min': 285.78, 'temp_max': 285.78, 'pressure': 1022, 'sea_level': 1022, 'grnd_level': 1005, 'humidity': 87, 'temp_kf': 0}, 'weather': [{'id': 804, 'main': 'Clouds', 'description': 'overcast clouds', 'icon': '04n'}], 'clouds': {'all': 100}, 'wind': {'speed': 1.07, 'deg': 202, 'gust': 2.44}, 'visibility': 10000, 'pop': 0, 'sys': {'pod': 'n'}, 'dt_txt': '2023-09-16 03:00:00'}, {'dt': 1694844000, 'main': {'temp': 285.53, 'feels_like': 285.12, 'temp_min': 285.53, 'temp_max': 285.53, 'pressure': 1023, 'sea_level': 1023, 'grnd_level': 1006, 'humidity': 88, 'temp_kf': 0}, 'weather': [{'id': 804, 'main': 'Clouds', 'description': 'overcast clouds', 'icon': '04d'}], 'clouds': {'all': 100}, 'wind': {'speed': 0.62, 'deg': 4, 'gust': 1.3}, 'visibility': 10000, 'pop': 0, 'sys': {'pod': 'd'}, 'dt_txt': '2023-09-16 06:00:00'}], 'city': {'id': 3139081, 'name': 'Ski', 'coord': {'lat': 59.7195, 'lon': 10.8358}, 'country': 'NO', 'population': 12513, 'timezone': 7200, 'sunrise': 1694406878, 'sunset': 1694454757}}\n"
     ]
    }
   ],
   "source": [
    "responseF = requests.get(urlF).json()\n",
    "print(responseF)"
   ]
  },
  {
   "cell_type": "code",
   "execution_count": 11,
   "metadata": {
    "slideshow": {
     "slide_type": "slide"
    }
   },
   "outputs": [],
   "source": [
    "# Write JSON to file for viewing\n",
    "with open('downloads/forecast.json', 'w') as f:\n",
    "    json.dump(responseF, f, indent=4)"
   ]
  },
  {
   "cell_type": "markdown",
   "metadata": {
    "slideshow": {
     "slide_type": "slide"
    }
   },
   "source": [
    "### When and what?\n",
    "Check contents and time stamps"
   ]
  },
  {
   "cell_type": "code",
   "execution_count": 12,
   "metadata": {
    "slideshow": {
     "slide_type": "-"
    }
   },
   "outputs": [
    {
     "data": {
      "text/plain": [
       "dict_keys(['cod', 'message', 'cnt', 'list', 'city'])"
      ]
     },
     "execution_count": 12,
     "metadata": {},
     "output_type": "execute_result"
    }
   ],
   "source": [
    "# Content of responseF\n",
    "responseF.keys()"
   ]
  },
  {
   "cell_type": "code",
   "execution_count": 13,
   "metadata": {
    "slideshow": {
     "slide_type": "fragment"
    }
   },
   "outputs": [
    {
     "name": "stdout",
     "output_type": "stream",
     "text": [
      "40\n"
     ]
    }
   ],
   "source": [
    "# Number of forecasts\n",
    "print(len(responseF[\"list\"]))"
   ]
  },
  {
   "cell_type": "code",
   "execution_count": 14,
   "metadata": {
    "slideshow": {
     "slide_type": "slide"
    }
   },
   "outputs": [
    {
     "name": "stdout",
     "output_type": "stream",
     "text": [
      "2023-09-11 09:00:00\n",
      "2023-09-11 12:00:00\n",
      "2023-09-11 15:00:00\n",
      "2023-09-11 18:00:00\n",
      "2023-09-11 21:00:00\n",
      "2023-09-12 00:00:00\n",
      "2023-09-12 03:00:00\n",
      "2023-09-12 06:00:00\n",
      "2023-09-12 09:00:00\n",
      "2023-09-12 12:00:00\n",
      "2023-09-12 15:00:00\n",
      "2023-09-12 18:00:00\n",
      "2023-09-12 21:00:00\n",
      "2023-09-13 00:00:00\n",
      "2023-09-13 03:00:00\n",
      "2023-09-13 06:00:00\n",
      "2023-09-13 09:00:00\n",
      "2023-09-13 12:00:00\n",
      "2023-09-13 15:00:00\n",
      "2023-09-13 18:00:00\n",
      "2023-09-13 21:00:00\n",
      "2023-09-14 00:00:00\n",
      "2023-09-14 03:00:00\n",
      "2023-09-14 06:00:00\n",
      "2023-09-14 09:00:00\n",
      "2023-09-14 12:00:00\n",
      "2023-09-14 15:00:00\n",
      "2023-09-14 18:00:00\n",
      "2023-09-14 21:00:00\n",
      "2023-09-15 00:00:00\n",
      "2023-09-15 03:00:00\n",
      "2023-09-15 06:00:00\n",
      "2023-09-15 09:00:00\n",
      "2023-09-15 12:00:00\n",
      "2023-09-15 15:00:00\n",
      "2023-09-15 18:00:00\n",
      "2023-09-15 21:00:00\n",
      "2023-09-16 00:00:00\n",
      "2023-09-16 03:00:00\n",
      "2023-09-16 06:00:00\n"
     ]
    }
   ],
   "source": [
    "# Print forecast times\n",
    "for forecast in responseF[\"list\"]:\n",
    "    print(forecast[\"dt_txt\"])"
   ]
  },
  {
   "cell_type": "markdown",
   "metadata": {
    "slideshow": {
     "slide_type": "slide"
    }
   },
   "source": [
    "## Make plots of omnipresent measurements and events\n",
    "We will later look at missing data, data only sporadically appearing and so on."
   ]
  },
  {
   "cell_type": "code",
   "execution_count": 15,
   "metadata": {
    "slideshow": {
     "slide_type": "-"
    }
   },
   "outputs": [],
   "source": [
    "# Air pressure per period\n",
    "pressures = []\n",
    "timestamps = []\n",
    "for forecast in responseF[\"list\"]:\n",
    "    pressures.append(forecast[\"main\"][\"pressure\"])\n",
    "    timestamps.append(dt.datetime.fromtimestamp(forecast[\"dt\"]))"
   ]
  },
  {
   "cell_type": "code",
   "execution_count": 16,
   "metadata": {
    "slideshow": {
     "slide_type": "slide"
    }
   },
   "outputs": [
    {
     "data": {
      "image/png": "[encoded data removed]",
      "text/plain": [
       "<Figure size 640x480 with 1 Axes>"
      ]
     },
     "metadata": {},
     "output_type": "display_data"
    }
   ],
   "source": [
    "import matplotlib.pyplot as plt\n",
    "plt.bar(timestamps, pressures)\n",
    "plt.xticks(rotation=45)\n",
    "plt.ylim(950, 1050)\n",
    "plt.grid()\n",
    "plt.ylabel(\"Air pressure (hPa)\")\n",
    "plt.title(f\"Forecasted air pressure in {CITY}\")\n",
    "plt.show()"
   ]
  },
  {
   "cell_type": "markdown",
   "metadata": {
    "slideshow": {
     "slide_type": "slide"
    }
   },
   "source": [
    "### Precipitation\n",
    "- ... comes in two main flavours: rain and snow.\n",
    "- We need to check which is present and set to zero if it is abscent."
   ]
  },
  {
   "cell_type": "code",
   "execution_count": 17,
   "metadata": {
    "slideshow": {
     "slide_type": "-"
    }
   },
   "outputs": [],
   "source": [
    "rain = []\n",
    "snow = []\n",
    "for forecast in responseF[\"list\"]:\n",
    "    try: # Check if rain is present in forecast\n",
    "        rain.append(forecast[\"rain\"][\"3h\"])\n",
    "    except KeyError:\n",
    "        rain.append(0)\n",
    "    try: # Check if snow is present in forecast\n",
    "        snow.append(forecast[\"snow\"][\"3h\"])\n",
    "    except KeyError:\n",
    "        snow.append(0)"
   ]
  },
  {
   "cell_type": "code",
   "execution_count": 18,
   "metadata": {
    "slideshow": {
     "slide_type": "slide"
    }
   },
   "outputs": [
    {
     "data": {
      "image/png": "[encoded data removed]",
      "text/plain": [
       "<Figure size 640x480 with 1 Axes>"
      ]
     },
     "metadata": {},
     "output_type": "display_data"
    }
   ],
   "source": [
    "# Stacked bar chart with rain and snow\n",
    "plt.bar(timestamps, rain, label=\"Rain\")\n",
    "plt.bar(timestamps, snow, label=\"Snow\")\n",
    "plt.xticks(rotation=45)\n",
    "plt.grid()\n",
    "plt.ylabel(\"Precipitation (mm)\")\n",
    "plt.title(f\"Forecasted precipitation in {CITY}\")\n",
    "plt.legend()\n",
    "plt.show()\n"
   ]
  },
  {
   "cell_type": "markdown",
   "metadata": {},
   "source": [
    "## Resources\n",
    "- [NeuralNine's video](https://www.youtube.com/watch?v=9P5MY_2i7K8)"
   ]
  }
 ],
 "metadata": {
  "celltoolbar": "Slideshow",
  "kernelspec": {
   "display_name": "Python 3 (ipykernel)",
   "language": "python",
   "name": "python3"
  },
  "language_info": {
   "codemirror_mode": {
    "name": "ipython",
    "version": 3
   },
   "file_extension": ".py",
   "mimetype": "text/x-python",
   "name": "python",
   "nbconvert_exporter": "python",
   "pygments_lexer": "ipython3",
   "version": "3.10.6"
  }
 },
 "nbformat": 4,
 "nbformat_minor": 2
}