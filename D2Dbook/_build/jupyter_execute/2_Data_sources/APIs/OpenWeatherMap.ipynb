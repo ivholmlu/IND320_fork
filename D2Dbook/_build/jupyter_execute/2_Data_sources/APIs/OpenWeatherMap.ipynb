{
 "cells": [
  {
   "cell_type": "markdown",
   "metadata": {
    "slideshow": {
     "slide_type": "slide"
    }
   },
   "source": [
    "# Demonstration of API using OpenWeatherMap.org\n",
    "This demonstration is heavily inspired by [NeuralNine's video](https://www.youtube.com/watch?v=9P5MY_2i7K8).  \n",
    "The VS Code extension _JSON viewer_ is recommended for viewing downloaded JSON content.  \n",
    "You need a free account [from here](https://openweathermap.org/api). \n",
    "  - Set your maximum API calls to 1000 per day to make sure you are under the limit for billing. \n",
    "  - To run the examples, download your API key, save it in the right folder (see below) in a file called _api\\_key\\_OpenWeather_, containing only the key (no spaces or \"enters\")."
   ]
  },
  {
   "cell_type": "code",
   "execution_count": 1,
   "metadata": {
    "slideshow": {
     "slide_type": "fragment"
    }
   },
   "outputs": [],
   "source": [
    "# Imports\n",
    "import datetime as dt\n",
    "import requests\n",
    "import json"
   ]
  },
  {
   "cell_type": "markdown",
   "metadata": {
    "slideshow": {
     "slide_type": "slide"
    }
   },
   "source": [
    "## Current weather\n",
    "### Common definitions to use for all requests"
   ]
  },
  {
   "cell_type": "code",
   "execution_count": 2,
   "metadata": {
    "slideshow": {
     "slide_type": "-"
    }
   },
   "outputs": [],
   "source": [
    "BASE_URL = \"http://api.openweathermap.org/data/2.5/weather?\"\n",
    "API_KEY = open('../../../No_sync/api_key_OpenWeather','r').read()\n",
    "CITY = \"Ski\"\n",
    "\n",
    "url = BASE_URL + \"q=\" + CITY + \"&appid=\" + API_KEY"
   ]
  },
  {
   "cell_type": "markdown",
   "metadata": {
    "slideshow": {
     "slide_type": "slide"
    }
   },
   "source": [
    "## Request current weather in chosen city"
   ]
  },
  {
   "cell_type": "code",
   "execution_count": 3,
   "metadata": {
    "slideshow": {
     "slide_type": "fragment"
    }
   },
   "outputs": [
    {
     "name": "stdout",
     "output_type": "stream",
     "text": [
      "{'coord': {'lon': 10.8358, 'lat': 59.7195}, 'weather': [{'id': 804, 'main': 'Clouds', 'description': 'overcast clouds', 'icon': '04d'}], 'base': 'stations', 'main': {'temp': 291.3, 'feels_like': 291.55, 'temp_min': 289.53, 'temp_max': 292.03, 'pressure': 1020, 'humidity': 91, 'sea_level': 1020, 'grnd_level': 1004}, 'visibility': 10000, 'wind': {'speed': 3.49, 'deg': 197, 'gust': 5.9}, 'clouds': {'all': 100}, 'dt': 1694169456, 'sys': {'type': 2, 'id': 2006772, 'country': 'NO', 'sunrise': 1694147264, 'sunset': 1694196099}, 'timezone': 7200, 'id': 3139081, 'name': 'Ski', 'cod': 200}\n"
     ]
    }
   ],
   "source": [
    "response = requests.get(url).json()\n",
    "print(response)"
   ]
  },
  {
   "cell_type": "code",
   "execution_count": 4,
   "metadata": {
    "slideshow": {
     "slide_type": "fragment"
    }
   },
   "outputs": [],
   "source": [
    "# Write JSON to file for viewing\n",
    "with open('downloads/weather.json', 'w') as f:\n",
    "    json.dump(response, f, indent=4)"
   ]
  },
  {
   "cell_type": "markdown",
   "metadata": {
    "slideshow": {
     "slide_type": "slide"
    }
   },
   "source": [
    "## Conversion functions\n",
    "Changing scales can make results more interpretable"
   ]
  },
  {
   "cell_type": "code",
   "execution_count": 5,
   "metadata": {
    "slideshow": {
     "slide_type": "-"
    }
   },
   "outputs": [],
   "source": [
    "# Kelvin to Celsius\n",
    "def kelvin_to_celsius(temp):\n",
    "    return temp - 273.15\n",
    "\n",
    "# Meters per second to knots\n",
    "def mps_to_knots(speed):\n",
    "    return speed * 1.943844"
   ]
  },
  {
   "cell_type": "markdown",
   "metadata": {
    "slideshow": {
     "slide_type": "slide"
    }
   },
   "source": [
    "## Print some weather properties"
   ]
  },
  {
   "cell_type": "code",
   "execution_count": 6,
   "metadata": {
    "slideshow": {
     "slide_type": "-"
    }
   },
   "outputs": [
    {
     "name": "stdout",
     "output_type": "stream",
     "text": [
      "The current temperature in Ski is 18.15°C\n"
     ]
    }
   ],
   "source": [
    "# Current temperature\n",
    "temp_kelvin = response['main']['temp']\n",
    "temp_celsius = kelvin_to_celsius(temp_kelvin)\n",
    "print(f\"The current temperature in {CITY} is {temp_celsius:.2f}°C\")"
   ]
  },
  {
   "cell_type": "code",
   "execution_count": 7,
   "metadata": {
    "slideshow": {
     "slide_type": "slide"
    }
   },
   "outputs": [
    {
     "name": "stdout",
     "output_type": "stream",
     "text": [
      "Sunrise today is at 06:27 and sunset is at 20:01\n"
     ]
    }
   ],
   "source": [
    "# Sunrise and sunset today in local time\n",
    "sunrise = dt.datetime.fromtimestamp(response['sys']['sunrise'])\n",
    "sunset = dt.datetime.fromtimestamp(response['sys']['sunset'])\n",
    "print(f\"Sunrise today is at {sunrise:%H:%M} and sunset is at {sunset:%H:%M}\")"
   ]
  },
  {
   "cell_type": "code",
   "execution_count": 8,
   "metadata": {
    "slideshow": {
     "slide_type": "fragment"
    }
   },
   "outputs": [
    {
     "name": "stdout",
     "output_type": "stream",
     "text": [
      "Wind today is from 197° at 6.8 knots\n"
     ]
    }
   ],
   "source": [
    "# Wind direction and speed\n",
    "wind_knots = mps_to_knots(response['wind']['speed'])\n",
    "print(f\"Wind today is from {response['wind']['deg']}° at {round(wind_knots,1)} knots\")"
   ]
  },
  {
   "cell_type": "markdown",
   "metadata": {
    "slideshow": {
     "slide_type": "slide"
    }
   },
   "source": [
    "## Forecasted weather\n",
    "### Common definitions to use for all requests"
   ]
  },
  {
   "cell_type": "code",
   "execution_count": 9,
   "metadata": {
    "slideshow": {
     "slide_type": "-"
    }
   },
   "outputs": [],
   "source": [
    "BASE_URL = \"http://api.openweathermap.org/data/2.5/forecast?\"\n",
    "CITY = \"Ski\"\n",
    "\n",
    "urlF = BASE_URL + \"q=\" + CITY + \"&appid=\" + API_KEY"
   ]
  },
  {
   "cell_type": "markdown",
   "metadata": {
    "slideshow": {
     "slide_type": "slide"
    }
   },
   "source": [
    "## Request current weather in chosen city"
   ]
  },
  {
   "cell_type": "code",
   "execution_count": 10,
   "metadata": {
    "slideshow": {
     "slide_type": "-"
    }
   },
   "outputs": [
    {
     "name": "stdout",
     "output_type": "stream",
     "text": [
      "{'cod': '200', 'message': 0, 'cnt': 40, 'list': [{'dt': 1694174400, 'main': {'temp': 291.3, 'feels_like': 291.55, 'temp_min': 291.3, 'temp_max': 294.13, 'pressure': 1020, 'sea_level': 1020, 'grnd_level': 1003, 'humidity': 91, 'temp_kf': -2.83}, 'weather': [{'id': 804, 'main': 'Clouds', 'description': 'overcast clouds', 'icon': '04d'}], 'clouds': {'all': 100}, 'wind': {'speed': 3.69, 'deg': 197, 'gust': 6.17}, 'visibility': 10000, 'pop': 0, 'sys': {'pod': 'd'}, 'dt_txt': '2023-09-08 12:00:00'}, {'dt': 1694185200, 'main': {'temp': 291.92, 'feels_like': 292.05, 'temp_min': 291.92, 'temp_max': 293.15, 'pressure': 1020, 'sea_level': 1020, 'grnd_level': 1003, 'humidity': 84, 'temp_kf': -1.23}, 'weather': [{'id': 804, 'main': 'Clouds', 'description': 'overcast clouds', 'icon': '04d'}], 'clouds': {'all': 92}, 'wind': {'speed': 3.8, 'deg': 189, 'gust': 6.58}, 'visibility': 10000, 'pop': 0, 'sys': {'pod': 'd'}, 'dt_txt': '2023-09-08 15:00:00'}, {'dt': 1694196000, 'main': {'temp': 289.14, 'feels_like': 289.28, 'temp_min': 288.06, 'temp_max': 289.14, 'pressure': 1019, 'sea_level': 1019, 'grnd_level': 1002, 'humidity': 95, 'temp_kf': 1.08}, 'weather': [{'id': 804, 'main': 'Clouds', 'description': 'overcast clouds', 'icon': '04d'}], 'clouds': {'all': 85}, 'wind': {'speed': 2.14, 'deg': 167, 'gust': 5.89}, 'visibility': 10000, 'pop': 0, 'sys': {'pod': 'd'}, 'dt_txt': '2023-09-08 18:00:00'}, {'dt': 1694206800, 'main': {'temp': 286.92, 'feels_like': 286.94, 'temp_min': 286.92, 'temp_max': 286.92, 'pressure': 1018, 'sea_level': 1018, 'grnd_level': 1002, 'humidity': 99, 'temp_kf': 0}, 'weather': [{'id': 803, 'main': 'Clouds', 'description': 'broken clouds', 'icon': '04n'}], 'clouds': {'all': 56}, 'wind': {'speed': 1.58, 'deg': 160, 'gust': 4.1}, 'visibility': 10000, 'pop': 0, 'sys': {'pod': 'n'}, 'dt_txt': '2023-09-08 21:00:00'}, {'dt': 1694217600, 'main': {'temp': 286.76, 'feels_like': 286.76, 'temp_min': 286.76, 'temp_max': 286.76, 'pressure': 1018, 'sea_level': 1018, 'grnd_level': 1001, 'humidity': 99, 'temp_kf': 0}, 'weather': [{'id': 803, 'main': 'Clouds', 'description': 'broken clouds', 'icon': '04n'}], 'clouds': {'all': 78}, 'wind': {'speed': 1.22, 'deg': 144, 'gust': 1.35}, 'visibility': 10000, 'pop': 0, 'sys': {'pod': 'n'}, 'dt_txt': '2023-09-09 00:00:00'}, {'dt': 1694228400, 'main': {'temp': 286.76, 'feels_like': 286.76, 'temp_min': 286.76, 'temp_max': 286.76, 'pressure': 1017, 'sea_level': 1017, 'grnd_level': 1001, 'humidity': 99, 'temp_kf': 0}, 'weather': [{'id': 804, 'main': 'Clouds', 'description': 'overcast clouds', 'icon': '04n'}], 'clouds': {'all': 99}, 'wind': {'speed': 0.95, 'deg': 126, 'gust': 1.32}, 'visibility': 3205, 'pop': 0, 'sys': {'pod': 'n'}, 'dt_txt': '2023-09-09 03:00:00'}, {'dt': 1694239200, 'main': {'temp': 288.1, 'feels_like': 288.13, 'temp_min': 288.1, 'temp_max': 288.1, 'pressure': 1017, 'sea_level': 1017, 'grnd_level': 1001, 'humidity': 95, 'temp_kf': 0}, 'weather': [{'id': 804, 'main': 'Clouds', 'description': 'overcast clouds', 'icon': '04d'}], 'clouds': {'all': 99}, 'wind': {'speed': 0.89, 'deg': 139, 'gust': 2.22}, 'visibility': 8768, 'pop': 0, 'sys': {'pod': 'd'}, 'dt_txt': '2023-09-09 06:00:00'}, {'dt': 1694250000, 'main': {'temp': 291.29, 'feels_like': 291.27, 'temp_min': 291.29, 'temp_max': 291.29, 'pressure': 1017, 'sea_level': 1017, 'grnd_level': 1001, 'humidity': 81, 'temp_kf': 0}, 'weather': [{'id': 804, 'main': 'Clouds', 'description': 'overcast clouds', 'icon': '04d'}], 'clouds': {'all': 100}, 'wind': {'speed': 1.81, 'deg': 182, 'gust': 3.72}, 'visibility': 10000, 'pop': 0, 'sys': {'pod': 'd'}, 'dt_txt': '2023-09-09 09:00:00'}, {'dt': 1694260800, 'main': {'temp': 293.77, 'feels_like': 293.58, 'temp_min': 293.77, 'temp_max': 293.77, 'pressure': 1016, 'sea_level': 1016, 'grnd_level': 1000, 'humidity': 65, 'temp_kf': 0}, 'weather': [{'id': 804, 'main': 'Clouds', 'description': 'overcast clouds', 'icon': '04d'}], 'clouds': {'all': 100}, 'wind': {'speed': 3.14, 'deg': 186, 'gust': 5.28}, 'visibility': 10000, 'pop': 0, 'sys': {'pod': 'd'}, 'dt_txt': '2023-09-09 12:00:00'}, {'dt': 1694271600, 'main': {'temp': 292.77, 'feels_like': 292.59, 'temp_min': 292.77, 'temp_max': 292.77, 'pressure': 1015, 'sea_level': 1015, 'grnd_level': 999, 'humidity': 69, 'temp_kf': 0}, 'weather': [{'id': 804, 'main': 'Clouds', 'description': 'overcast clouds', 'icon': '04d'}], 'clouds': {'all': 98}, 'wind': {'speed': 3.4, 'deg': 180, 'gust': 6.51}, 'visibility': 10000, 'pop': 0, 'sys': {'pod': 'd'}, 'dt_txt': '2023-09-09 15:00:00'}, {'dt': 1694282400, 'main': {'temp': 288.25, 'feels_like': 288.32, 'temp_min': 288.25, 'temp_max': 288.25, 'pressure': 1014, 'sea_level': 1014, 'grnd_level': 998, 'humidity': 96, 'temp_kf': 0}, 'weather': [{'id': 803, 'main': 'Clouds', 'description': 'broken clouds', 'icon': '04n'}], 'clouds': {'all': 55}, 'wind': {'speed': 2.21, 'deg': 177, 'gust': 6.53}, 'visibility': 10000, 'pop': 0, 'sys': {'pod': 'n'}, 'dt_txt': '2023-09-09 18:00:00'}, {'dt': 1694293200, 'main': {'temp': 287.36, 'feels_like': 287.42, 'temp_min': 287.36, 'temp_max': 287.36, 'pressure': 1014, 'sea_level': 1014, 'grnd_level': 997, 'humidity': 99, 'temp_kf': 0}, 'weather': [{'id': 802, 'main': 'Clouds', 'description': 'scattered clouds', 'icon': '03n'}], 'clouds': {'all': 28}, 'wind': {'speed': 2.02, 'deg': 172, 'gust': 6.6}, 'visibility': 10000, 'pop': 0, 'sys': {'pod': 'n'}, 'dt_txt': '2023-09-09 21:00:00'}, {'dt': 1694304000, 'main': {'temp': 286.8, 'feels_like': 286.81, 'temp_min': 286.8, 'temp_max': 286.8, 'pressure': 1013, 'sea_level': 1013, 'grnd_level': 997, 'humidity': 99, 'temp_kf': 0}, 'weather': [{'id': 802, 'main': 'Clouds', 'description': 'scattered clouds', 'icon': '03n'}], 'clouds': {'all': 31}, 'wind': {'speed': 1.68, 'deg': 172, 'gust': 4.21}, 'visibility': 10000, 'pop': 0, 'sys': {'pod': 'n'}, 'dt_txt': '2023-09-10 00:00:00'}, {'dt': 1694314800, 'main': {'temp': 286.13, 'feels_like': 286.07, 'temp_min': 286.13, 'temp_max': 286.13, 'pressure': 1013, 'sea_level': 1013, 'grnd_level': 996, 'humidity': 99, 'temp_kf': 0}, 'weather': [{'id': 802, 'main': 'Clouds', 'description': 'scattered clouds', 'icon': '03n'}], 'clouds': {'all': 45}, 'wind': {'speed': 0.71, 'deg': 196, 'gust': 0.83}, 'visibility': 10000, 'pop': 0, 'sys': {'pod': 'n'}, 'dt_txt': '2023-09-10 03:00:00'}, {'dt': 1694325600, 'main': {'temp': 287.46, 'feels_like': 287.43, 'temp_min': 287.46, 'temp_max': 287.46, 'pressure': 1013, 'sea_level': 1013, 'grnd_level': 997, 'humidity': 95, 'temp_kf': 0}, 'weather': [{'id': 803, 'main': 'Clouds', 'description': 'broken clouds', 'icon': '04d'}], 'clouds': {'all': 69}, 'wind': {'speed': 0.15, 'deg': 283, 'gust': 0.31}, 'visibility': 10000, 'pop': 0, 'sys': {'pod': 'd'}, 'dt_txt': '2023-09-10 06:00:00'}, {'dt': 1694336400, 'main': {'temp': 293.47, 'feels_like': 293.39, 'temp_min': 293.47, 'temp_max': 293.47, 'pressure': 1014, 'sea_level': 1014, 'grnd_level': 998, 'humidity': 70, 'temp_kf': 0}, 'weather': [{'id': 803, 'main': 'Clouds', 'description': 'broken clouds', 'icon': '04d'}], 'clouds': {'all': 76}, 'wind': {'speed': 1.03, 'deg': 274, 'gust': 2.06}, 'visibility': 10000, 'pop': 0, 'sys': {'pod': 'd'}, 'dt_txt': '2023-09-10 09:00:00'}, {'dt': 1694347200, 'main': {'temp': 297.34, 'feels_like': 297.15, 'temp_min': 297.34, 'temp_max': 297.34, 'pressure': 1014, 'sea_level': 1014, 'grnd_level': 998, 'humidity': 51, 'temp_kf': 0}, 'weather': [{'id': 804, 'main': 'Clouds', 'description': 'overcast clouds', 'icon': '04d'}], 'clouds': {'all': 88}, 'wind': {'speed': 1.6, 'deg': 259, 'gust': 2.44}, 'visibility': 10000, 'pop': 0, 'sys': {'pod': 'd'}, 'dt_txt': '2023-09-10 12:00:00'}, {'dt': 1694358000, 'main': {'temp': 296.81, 'feels_like': 296.69, 'temp_min': 296.81, 'temp_max': 296.81, 'pressure': 1014, 'sea_level': 1014, 'grnd_level': 998, 'humidity': 56, 'temp_kf': 0}, 'weather': [{'id': 804, 'main': 'Clouds', 'description': 'overcast clouds', 'icon': '04d'}], 'clouds': {'all': 100}, 'wind': {'speed': 2.05, 'deg': 207, 'gust': 3.1}, 'visibility': 10000, 'pop': 0, 'sys': {'pod': 'd'}, 'dt_txt': '2023-09-10 15:00:00'}, {'dt': 1694368800, 'main': {'temp': 290.17, 'feels_like': 290.17, 'temp_min': 290.17, 'temp_max': 290.17, 'pressure': 1014, 'sea_level': 1014, 'grnd_level': 998, 'humidity': 86, 'temp_kf': 0}, 'weather': [{'id': 803, 'main': 'Clouds', 'description': 'broken clouds', 'icon': '04n'}], 'clouds': {'all': 76}, 'wind': {'speed': 1.98, 'deg': 186, 'gust': 2.65}, 'visibility': 10000, 'pop': 0, 'sys': {'pod': 'n'}, 'dt_txt': '2023-09-10 18:00:00'}, {'dt': 1694379600, 'main': {'temp': 288.29, 'feels_like': 288.21, 'temp_min': 288.29, 'temp_max': 288.29, 'pressure': 1014, 'sea_level': 1014, 'grnd_level': 998, 'humidity': 90, 'temp_kf': 0}, 'weather': [{'id': 802, 'main': 'Clouds', 'description': 'scattered clouds', 'icon': '03n'}], 'clouds': {'all': 33}, 'wind': {'speed': 1.14, 'deg': 150, 'gust': 1.18}, 'visibility': 10000, 'pop': 0, 'sys': {'pod': 'n'}, 'dt_txt': '2023-09-10 21:00:00'}, {'dt': 1694390400, 'main': {'temp': 287.33, 'feels_like': 287.23, 'temp_min': 287.33, 'temp_max': 287.33, 'pressure': 1013, 'sea_level': 1013, 'grnd_level': 997, 'humidity': 93, 'temp_kf': 0}, 'weather': [{'id': 802, 'main': 'Clouds', 'description': 'scattered clouds', 'icon': '03n'}], 'clouds': {'all': 35}, 'wind': {'speed': 0.9, 'deg': 139, 'gust': 0.9}, 'visibility': 10000, 'pop': 0, 'sys': {'pod': 'n'}, 'dt_txt': '2023-09-11 00:00:00'}, {'dt': 1694401200, 'main': {'temp': 286.84, 'feels_like': 286.77, 'temp_min': 286.84, 'temp_max': 286.84, 'pressure': 1012, 'sea_level': 1012, 'grnd_level': 996, 'humidity': 96, 'temp_kf': 0}, 'weather': [{'id': 804, 'main': 'Clouds', 'description': 'overcast clouds', 'icon': '04n'}], 'clouds': {'all': 96}, 'wind': {'speed': 1.42, 'deg': 149, 'gust': 1.64}, 'visibility': 10000, 'pop': 0, 'sys': {'pod': 'n'}, 'dt_txt': '2023-09-11 03:00:00'}, {'dt': 1694412000, 'main': {'temp': 288.19, 'feels_like': 288.15, 'temp_min': 288.19, 'temp_max': 288.19, 'pressure': 1011, 'sea_level': 1011, 'grnd_level': 995, 'humidity': 92, 'temp_kf': 0}, 'weather': [{'id': 804, 'main': 'Clouds', 'description': 'overcast clouds', 'icon': '04d'}], 'clouds': {'all': 94}, 'wind': {'speed': 2.07, 'deg': 163, 'gust': 7.1}, 'visibility': 10000, 'pop': 0, 'sys': {'pod': 'd'}, 'dt_txt': '2023-09-11 06:00:00'}, {'dt': 1694422800, 'main': {'temp': 293.12, 'feels_like': 293.08, 'temp_min': 293.12, 'temp_max': 293.12, 'pressure': 1011, 'sea_level': 1011, 'grnd_level': 995, 'humidity': 73, 'temp_kf': 0}, 'weather': [{'id': 804, 'main': 'Clouds', 'description': 'overcast clouds', 'icon': '04d'}], 'clouds': {'all': 100}, 'wind': {'speed': 4.87, 'deg': 195, 'gust': 12.53}, 'visibility': 10000, 'pop': 0, 'sys': {'pod': 'd'}, 'dt_txt': '2023-09-11 09:00:00'}, {'dt': 1694433600, 'main': {'temp': 294.33, 'feels_like': 294.25, 'temp_min': 294.33, 'temp_max': 294.33, 'pressure': 1010, 'sea_level': 1010, 'grnd_level': 994, 'humidity': 67, 'temp_kf': 0}, 'weather': [{'id': 804, 'main': 'Clouds', 'description': 'overcast clouds', 'icon': '04d'}], 'clouds': {'all': 100}, 'wind': {'speed': 5.94, 'deg': 190, 'gust': 11.58}, 'visibility': 10000, 'pop': 0, 'sys': {'pod': 'd'}, 'dt_txt': '2023-09-11 12:00:00'}, {'dt': 1694444400, 'main': {'temp': 292.61, 'feels_like': 292.67, 'temp_min': 292.61, 'temp_max': 292.61, 'pressure': 1009, 'sea_level': 1009, 'grnd_level': 993, 'humidity': 79, 'temp_kf': 0}, 'weather': [{'id': 500, 'main': 'Rain', 'description': 'light rain', 'icon': '10d'}], 'clouds': {'all': 80}, 'wind': {'speed': 5.3, 'deg': 184, 'gust': 12.72}, 'visibility': 10000, 'pop': 0.2, 'rain': {'3h': 0.25}, 'sys': {'pod': 'd'}, 'dt_txt': '2023-09-11 15:00:00'}, {'dt': 1694455200, 'main': {'temp': 290.15, 'feels_like': 290.28, 'temp_min': 290.15, 'temp_max': 290.15, 'pressure': 1008, 'sea_level': 1008, 'grnd_level': 992, 'humidity': 91, 'temp_kf': 0}, 'weather': [{'id': 804, 'main': 'Clouds', 'description': 'overcast clouds', 'icon': '04n'}], 'clouds': {'all': 90}, 'wind': {'speed': 4.72, 'deg': 184, 'gust': 13.69}, 'visibility': 10000, 'pop': 0, 'sys': {'pod': 'n'}, 'dt_txt': '2023-09-11 18:00:00'}, {'dt': 1694466000, 'main': {'temp': 289, 'feels_like': 289.2, 'temp_min': 289, 'temp_max': 289, 'pressure': 1008, 'sea_level': 1008, 'grnd_level': 991, 'humidity': 98, 'temp_kf': 0}, 'weather': [{'id': 803, 'main': 'Clouds', 'description': 'broken clouds', 'icon': '04n'}], 'clouds': {'all': 55}, 'wind': {'speed': 3.87, 'deg': 184, 'gust': 12.03}, 'visibility': 10000, 'pop': 0.16, 'sys': {'pod': 'n'}, 'dt_txt': '2023-09-11 21:00:00'}, {'dt': 1694476800, 'main': {'temp': 289.33, 'feels_like': 289.46, 'temp_min': 289.33, 'temp_max': 289.33, 'pressure': 1007, 'sea_level': 1007, 'grnd_level': 991, 'humidity': 94, 'temp_kf': 0}, 'weather': [{'id': 803, 'main': 'Clouds', 'description': 'broken clouds', 'icon': '04n'}], 'clouds': {'all': 75}, 'wind': {'speed': 3.42, 'deg': 190, 'gust': 7.93}, 'visibility': 10000, 'pop': 0.16, 'sys': {'pod': 'n'}, 'dt_txt': '2023-09-12 00:00:00'}, {'dt': 1694487600, 'main': {'temp': 288.62, 'feels_like': 288.7, 'temp_min': 288.62, 'temp_max': 288.62, 'pressure': 1007, 'sea_level': 1007, 'grnd_level': 990, 'humidity': 95, 'temp_kf': 0}, 'weather': [{'id': 804, 'main': 'Clouds', 'description': 'overcast clouds', 'icon': '04n'}], 'clouds': {'all': 100}, 'wind': {'speed': 2.57, 'deg': 187, 'gust': 6.87}, 'visibility': 10000, 'pop': 0, 'sys': {'pod': 'n'}, 'dt_txt': '2023-09-12 03:00:00'}, {'dt': 1694498400, 'main': {'temp': 289.05, 'feels_like': 289.05, 'temp_min': 289.05, 'temp_max': 289.05, 'pressure': 1007, 'sea_level': 1007, 'grnd_level': 991, 'humidity': 90, 'temp_kf': 0}, 'weather': [{'id': 804, 'main': 'Clouds', 'description': 'overcast clouds', 'icon': '04d'}], 'clouds': {'all': 100}, 'wind': {'speed': 2.54, 'deg': 188, 'gust': 6}, 'visibility': 10000, 'pop': 0.02, 'sys': {'pod': 'd'}, 'dt_txt': '2023-09-12 06:00:00'}, {'dt': 1694509200, 'main': {'temp': 290.64, 'feels_like': 290.66, 'temp_min': 290.64, 'temp_max': 290.64, 'pressure': 1008, 'sea_level': 1008, 'grnd_level': 991, 'humidity': 85, 'temp_kf': 0}, 'weather': [{'id': 804, 'main': 'Clouds', 'description': 'overcast clouds', 'icon': '04d'}], 'clouds': {'all': 100}, 'wind': {'speed': 3.36, 'deg': 185, 'gust': 6.19}, 'visibility': 10000, 'pop': 0.04, 'sys': {'pod': 'd'}, 'dt_txt': '2023-09-12 09:00:00'}, {'dt': 1694520000, 'main': {'temp': 291.91, 'feels_like': 291.83, 'temp_min': 291.91, 'temp_max': 291.91, 'pressure': 1008, 'sea_level': 1008, 'grnd_level': 991, 'humidity': 76, 'temp_kf': 0}, 'weather': [{'id': 804, 'main': 'Clouds', 'description': 'overcast clouds', 'icon': '04d'}], 'clouds': {'all': 100}, 'wind': {'speed': 4.98, 'deg': 183, 'gust': 7.92}, 'visibility': 10000, 'pop': 0.04, 'sys': {'pod': 'd'}, 'dt_txt': '2023-09-12 12:00:00'}, {'dt': 1694530800, 'main': {'temp': 290.76, 'feels_like': 290.69, 'temp_min': 290.76, 'temp_max': 290.76, 'pressure': 1007, 'sea_level': 1007, 'grnd_level': 991, 'humidity': 81, 'temp_kf': 0}, 'weather': [{'id': 804, 'main': 'Clouds', 'description': 'overcast clouds', 'icon': '04d'}], 'clouds': {'all': 100}, 'wind': {'speed': 4.59, 'deg': 176, 'gust': 9.21}, 'visibility': 10000, 'pop': 0.04, 'sys': {'pod': 'd'}, 'dt_txt': '2023-09-12 15:00:00'}, {'dt': 1694541600, 'main': {'temp': 288.72, 'feels_like': 288.76, 'temp_min': 288.72, 'temp_max': 288.72, 'pressure': 1007, 'sea_level': 1007, 'grnd_level': 990, 'humidity': 93, 'temp_kf': 0}, 'weather': [{'id': 804, 'main': 'Clouds', 'description': 'overcast clouds', 'icon': '04n'}], 'clouds': {'all': 100}, 'wind': {'speed': 4.51, 'deg': 177, 'gust': 11.68}, 'visibility': 10000, 'pop': 0, 'sys': {'pod': 'n'}, 'dt_txt': '2023-09-12 18:00:00'}, {'dt': 1694552400, 'main': {'temp': 288.7, 'feels_like': 288.74, 'temp_min': 288.7, 'temp_max': 288.7, 'pressure': 1007, 'sea_level': 1007, 'grnd_level': 990, 'humidity': 93, 'temp_kf': 0}, 'weather': [{'id': 804, 'main': 'Clouds', 'description': 'overcast clouds', 'icon': '04n'}], 'clouds': {'all': 97}, 'wind': {'speed': 4.42, 'deg': 185, 'gust': 11.26}, 'visibility': 10000, 'pop': 0, 'sys': {'pod': 'n'}, 'dt_txt': '2023-09-12 21:00:00'}, {'dt': 1694563200, 'main': {'temp': 288.32, 'feels_like': 288.43, 'temp_min': 288.32, 'temp_max': 288.32, 'pressure': 1005, 'sea_level': 1005, 'grnd_level': 989, 'humidity': 97, 'temp_kf': 0}, 'weather': [{'id': 500, 'main': 'Rain', 'description': 'light rain', 'icon': '10n'}], 'clouds': {'all': 98}, 'wind': {'speed': 3.35, 'deg': 184, 'gust': 9.65}, 'visibility': 10000, 'pop': 0.24, 'rain': {'3h': 0.11}, 'sys': {'pod': 'n'}, 'dt_txt': '2023-09-13 00:00:00'}, {'dt': 1694574000, 'main': {'temp': 288.36, 'feels_like': 288.52, 'temp_min': 288.36, 'temp_max': 288.36, 'pressure': 1003, 'sea_level': 1003, 'grnd_level': 987, 'humidity': 99, 'temp_kf': 0}, 'weather': [{'id': 500, 'main': 'Rain', 'description': 'light rain', 'icon': '10n'}], 'clouds': {'all': 100}, 'wind': {'speed': 2.08, 'deg': 167, 'gust': 6.57}, 'visibility': 198, 'pop': 0.81, 'rain': {'3h': 2.12}, 'sys': {'pod': 'n'}, 'dt_txt': '2023-09-13 03:00:00'}, {'dt': 1694584800, 'main': {'temp': 288.55, 'feels_like': 288.73, 'temp_min': 288.55, 'temp_max': 288.55, 'pressure': 1001, 'sea_level': 1001, 'grnd_level': 985, 'humidity': 99, 'temp_kf': 0}, 'weather': [{'id': 501, 'main': 'Rain', 'description': 'moderate rain', 'icon': '10d'}], 'clouds': {'all': 100}, 'wind': {'speed': 2.08, 'deg': 149, 'gust': 6.2}, 'visibility': 144, 'pop': 1, 'rain': {'3h': 9.34}, 'sys': {'pod': 'd'}, 'dt_txt': '2023-09-13 06:00:00'}, {'dt': 1694595600, 'main': {'temp': 288.6, 'feels_like': 288.73, 'temp_min': 288.6, 'temp_max': 288.6, 'pressure': 1000, 'sea_level': 1000, 'grnd_level': 983, 'humidity': 97, 'temp_kf': 0}, 'weather': [{'id': 501, 'main': 'Rain', 'description': 'moderate rain', 'icon': '10d'}], 'clouds': {'all': 100}, 'wind': {'speed': 2.14, 'deg': 156, 'gust': 5.68}, 'visibility': 9528, 'pop': 1, 'rain': {'3h': 7.2}, 'sys': {'pod': 'd'}, 'dt_txt': '2023-09-13 09:00:00'}], 'city': {'id': 3139081, 'name': 'Ski', 'coord': {'lat': 59.7195, 'lon': 10.8358}, 'country': 'NO', 'population': 12513, 'timezone': 7200, 'sunrise': 1694147264, 'sunset': 1694196099}}\n"
     ]
    }
   ],
   "source": [
    "responseF = requests.get(urlF).json()\n",
    "print(responseF)"
   ]
  },
  {
   "cell_type": "code",
   "execution_count": 11,
   "metadata": {
    "slideshow": {
     "slide_type": "slide"
    }
   },
   "outputs": [],
   "source": [
    "# Write JSON to file for viewing\n",
    "with open('downloads/forecast.json', 'w') as f:\n",
    "    json.dump(responseF, f, indent=4)"
   ]
  },
  {
   "cell_type": "markdown",
   "metadata": {
    "slideshow": {
     "slide_type": "slide"
    }
   },
   "source": [
    "### When and what?\n",
    "Check contents and time stamps"
   ]
  },
  {
   "cell_type": "code",
   "execution_count": 12,
   "metadata": {
    "slideshow": {
     "slide_type": "-"
    }
   },
   "outputs": [
    {
     "data": {
      "text/plain": [
       "dict_keys(['cod', 'message', 'cnt', 'list', 'city'])"
      ]
     },
     "execution_count": 12,
     "metadata": {},
     "output_type": "execute_result"
    }
   ],
   "source": [
    "# Content of responseF\n",
    "responseF.keys()"
   ]
  },
  {
   "cell_type": "code",
   "execution_count": 13,
   "metadata": {
    "slideshow": {
     "slide_type": "fragment"
    }
   },
   "outputs": [
    {
     "name": "stdout",
     "output_type": "stream",
     "text": [
      "40\n"
     ]
    }
   ],
   "source": [
    "# Number of forecasts\n",
    "print(len(responseF[\"list\"]))"
   ]
  },
  {
   "cell_type": "code",
   "execution_count": 14,
   "metadata": {
    "slideshow": {
     "slide_type": "slide"
    }
   },
   "outputs": [
    {
     "name": "stdout",
     "output_type": "stream",
     "text": [
      "2023-09-08 12:00:00\n",
      "2023-09-08 15:00:00\n",
      "2023-09-08 18:00:00\n",
      "2023-09-08 21:00:00\n",
      "2023-09-09 00:00:00\n",
      "2023-09-09 03:00:00\n",
      "2023-09-09 06:00:00\n",
      "2023-09-09 09:00:00\n",
      "2023-09-09 12:00:00\n",
      "2023-09-09 15:00:00\n",
      "2023-09-09 18:00:00\n",
      "2023-09-09 21:00:00\n",
      "2023-09-10 00:00:00\n",
      "2023-09-10 03:00:00\n",
      "2023-09-10 06:00:00\n",
      "2023-09-10 09:00:00\n",
      "2023-09-10 12:00:00\n",
      "2023-09-10 15:00:00\n",
      "2023-09-10 18:00:00\n",
      "2023-09-10 21:00:00\n",
      "2023-09-11 00:00:00\n",
      "2023-09-11 03:00:00\n",
      "2023-09-11 06:00:00\n",
      "2023-09-11 09:00:00\n",
      "2023-09-11 12:00:00\n",
      "2023-09-11 15:00:00\n",
      "2023-09-11 18:00:00\n",
      "2023-09-11 21:00:00\n",
      "2023-09-12 00:00:00\n",
      "2023-09-12 03:00:00\n",
      "2023-09-12 06:00:00\n",
      "2023-09-12 09:00:00\n",
      "2023-09-12 12:00:00\n",
      "2023-09-12 15:00:00\n",
      "2023-09-12 18:00:00\n",
      "2023-09-12 21:00:00\n",
      "2023-09-13 00:00:00\n",
      "2023-09-13 03:00:00\n",
      "2023-09-13 06:00:00\n",
      "2023-09-13 09:00:00\n"
     ]
    }
   ],
   "source": [
    "# Print forecast times\n",
    "for forecast in responseF[\"list\"]:\n",
    "    print(forecast[\"dt_txt\"])"
   ]
  },
  {
   "cell_type": "markdown",
   "metadata": {
    "slideshow": {
     "slide_type": "slide"
    }
   },
   "source": [
    "## Make plots of omnipresent measurements and events\n",
    "We will later look at missing data, data only sporadically appearing and so on."
   ]
  },
  {
   "cell_type": "code",
   "execution_count": 15,
   "metadata": {
    "slideshow": {
     "slide_type": "-"
    }
   },
   "outputs": [],
   "source": [
    "# Air pressure per period\n",
    "pressures = []\n",
    "timestamps = []\n",
    "for forecast in responseF[\"list\"]:\n",
    "    pressures.append(forecast[\"main\"][\"pressure\"])\n",
    "    timestamps.append(dt.datetime.fromtimestamp(forecast[\"dt\"]))"
   ]
  },
  {
   "cell_type": "code",
   "execution_count": 16,
   "metadata": {
    "slideshow": {
     "slide_type": "slide"
    }
   },
   "outputs": [
    {
     "data": {
      "image/png": "[encoded data removed]",
      "text/plain": [
       "<Figure size 640x480 with 1 Axes>"
      ]
     },
     "metadata": {},
     "output_type": "display_data"
    }
   ],
   "source": [
    "import matplotlib.pyplot as plt\n",
    "plt.bar(timestamps, pressures)\n",
    "plt.xticks(rotation=45)\n",
    "plt.ylim(950, 1050)\n",
    "plt.grid()\n",
    "plt.ylabel(\"Air pressure (hPa)\")\n",
    "plt.title(f\"Forecasted air pressure in {CITY}\")\n",
    "plt.show()"
   ]
  },
  {
   "cell_type": "markdown",
   "metadata": {
    "slideshow": {
     "slide_type": "slide"
    }
   },
   "source": [
    "### Precipitation\n",
    "- ... comes in two main flavours: rain and snow.\n",
    "- We need to check which is present and set to zero if it is abscent."
   ]
  },
  {
   "cell_type": "code",
   "execution_count": 17,
   "metadata": {
    "slideshow": {
     "slide_type": "-"
    }
   },
   "outputs": [],
   "source": [
    "rain = []\n",
    "snow = []\n",
    "for forecast in responseF[\"list\"]:\n",
    "    try: # Check if rain is present in forecast\n",
    "        rain.append(forecast[\"rain\"][\"3h\"])\n",
    "    except KeyError:\n",
    "        rain.append(0)\n",
    "    try: # Check if snow is present in forecast\n",
    "        snow.append(forecast[\"snow\"][\"3h\"])\n",
    "    except KeyError:\n",
    "        snow.append(0)"
   ]
  },
  {
   "cell_type": "code",
   "execution_count": 18,
   "metadata": {
    "slideshow": {
     "slide_type": "slide"
    }
   },
   "outputs": [
    {
     "data": {
      "image/png": "[encoded data removed]",
      "text/plain": [
       "<Figure size 640x480 with 1 Axes>"
      ]
     },
     "metadata": {},
     "output_type": "display_data"
    }
   ],
   "source": [
    "# Stacked bar chart with rain and snow\n",
    "plt.bar(timestamps, rain, label=\"Rain\")\n",
    "plt.bar(timestamps, snow, label=\"Snow\")\n",
    "plt.xticks(rotation=45)\n",
    "plt.grid()\n",
    "plt.ylabel(\"Precipitation (mm)\")\n",
    "plt.title(f\"Forecasted precipitation in {CITY}\")\n",
    "plt.legend()\n",
    "plt.show()\n"
   ]
  },
  {
   "cell_type": "markdown",
   "metadata": {},
   "source": [
    "## Resources\n",
    "- [NeuralNine's video](https://www.youtube.com/watch?v=9P5MY_2i7K8)"
   ]
  }
 ],
 "metadata": {
  "celltoolbar": "Slideshow",
  "kernelspec": {
   "display_name": "Python 3 (ipykernel)",
   "language": "python",
   "name": "python3"
  },
  "language_info": {
   "codemirror_mode": {
    "name": "ipython",
    "version": 3
   },
   "file_extension": ".py",
   "mimetype": "text/x-python",
   "name": "python",
   "nbconvert_exporter": "python",
   "pygments_lexer": "ipython3",
   "version": "3.10.6"
  }
 },
 "nbformat": 4,
 "nbformat_minor": 2
}