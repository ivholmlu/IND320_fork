{
 "cells": [
  {
   "cell_type": "markdown",
   "metadata": {
    "slideshow": {
     "slide_type": "slide"
    }
   },
   "source": [
    "# Demonstration of API using OpenWeatherMap.org\n",
    "This demonstration is heavily inspired by [NeuralNine's video](https://www.youtube.com/watch?v=9P5MY_2i7K8).  \n",
    "The VS Code extension _JSON viewer_ is recommended for viewing downloaded JSON content.  \n",
    "You need a free account [from here](https://openweathermap.org/api). \n",
    "  - Set your maximum API calls to 1000 per day to make sure you are under the limit for billing. \n",
    "  - To run the examples, download your API key, save it in the right folder (see below) in a file called _api\\_key\\_OpenWeather_, containing only the key (no spaces or \"enters\")."
   ]
  },
  {
   "cell_type": "code",
   "execution_count": 1,
   "metadata": {
    "slideshow": {
     "slide_type": "fragment"
    }
   },
   "outputs": [],
   "source": [
    "# Imports\n",
    "import datetime as dt\n",
    "import requests\n",
    "import json"
   ]
  },
  {
   "cell_type": "markdown",
   "metadata": {
    "slideshow": {
     "slide_type": "slide"
    }
   },
   "source": [
    "## Current weather\n",
    "### Common definitions to use for all requests"
   ]
  },
  {
   "cell_type": "code",
   "execution_count": 2,
   "metadata": {
    "slideshow": {
     "slide_type": "-"
    }
   },
   "outputs": [],
   "source": [
    "BASE_URL = \"http://api.openweathermap.org/data/2.5/weather?\"\n",
    "API_KEY = open('../../../No_sync/api_key_OpenWeather','r').read()\n",
    "CITY = \"Ski\"\n",
    "\n",
    "url = BASE_URL + \"q=\" + CITY + \"&appid=\" + API_KEY"
   ]
  },
  {
   "cell_type": "markdown",
   "metadata": {
    "slideshow": {
     "slide_type": "slide"
    }
   },
   "source": [
    "## Request current weather in chosen city"
   ]
  },
  {
   "cell_type": "code",
   "execution_count": 3,
   "metadata": {
    "slideshow": {
     "slide_type": "fragment"
    }
   },
   "outputs": [
    {
     "name": "stdout",
     "output_type": "stream",
     "text": [
      "{'coord': {'lon': 10.8358, 'lat': 59.7195}, 'weather': [{'id': 500, 'main': 'Rain', 'description': 'light rain', 'icon': '10d'}], 'base': 'stations', 'main': {'temp': 289.31, 'feels_like': 289.33, 'temp_min': 288.53, 'temp_max': 290, 'pressure': 996, 'humidity': 90, 'sea_level': 996, 'grnd_level': 980}, 'visibility': 10000, 'wind': {'speed': 6.15, 'deg': 183, 'gust': 14.11}, 'rain': {'1h': 0.34}, 'clouds': {'all': 100}, 'dt': 1695306134, 'sys': {'type': 2, 'id': 2012246, 'country': 'NO', 'sunrise': 1695272257, 'sunset': 1695316937}, 'timezone': 7200, 'id': 3139081, 'name': 'Ski', 'cod': 200}\n"
     ]
    }
   ],
   "source": [
    "response = requests.get(url).json()\n",
    "print(response)"
   ]
  },
  {
   "cell_type": "code",
   "execution_count": 4,
   "metadata": {
    "slideshow": {
     "slide_type": "fragment"
    }
   },
   "outputs": [],
   "source": [
    "# Write JSON to file for viewing\n",
    "with open('downloads/weather.json', 'w') as f:\n",
    "    json.dump(response, f, indent=4)"
   ]
  },
  {
   "cell_type": "markdown",
   "metadata": {
    "slideshow": {
     "slide_type": "slide"
    }
   },
   "source": [
    "## Conversion functions\n",
    "Changing scales can make results more interpretable"
   ]
  },
  {
   "cell_type": "code",
   "execution_count": 5,
   "metadata": {
    "slideshow": {
     "slide_type": "-"
    }
   },
   "outputs": [],
   "source": [
    "# Kelvin to Celsius\n",
    "def kelvin_to_celsius(temp):\n",
    "    return temp - 273.15\n",
    "\n",
    "# Meters per second to knots\n",
    "def mps_to_knots(speed):\n",
    "    return speed * 1.943844"
   ]
  },
  {
   "cell_type": "markdown",
   "metadata": {
    "slideshow": {
     "slide_type": "slide"
    }
   },
   "source": [
    "## Print some weather properties"
   ]
  },
  {
   "cell_type": "code",
   "execution_count": 6,
   "metadata": {
    "slideshow": {
     "slide_type": "-"
    }
   },
   "outputs": [
    {
     "name": "stdout",
     "output_type": "stream",
     "text": [
      "The current temperature in Ski is 16.16°C\n"
     ]
    }
   ],
   "source": [
    "# Current temperature\n",
    "temp_kelvin = response['main']['temp']\n",
    "temp_celsius = kelvin_to_celsius(temp_kelvin)\n",
    "print(f\"The current temperature in {CITY} is {temp_celsius:.2f}°C\")"
   ]
  },
  {
   "cell_type": "code",
   "execution_count": 7,
   "metadata": {
    "slideshow": {
     "slide_type": "slide"
    }
   },
   "outputs": [
    {
     "name": "stdout",
     "output_type": "stream",
     "text": [
      "Sunrise today is at 06:57 and sunset is at 19:22\n"
     ]
    }
   ],
   "source": [
    "# Sunrise and sunset today in local time\n",
    "sunrise = dt.datetime.fromtimestamp(response['sys']['sunrise'])\n",
    "sunset = dt.datetime.fromtimestamp(response['sys']['sunset'])\n",
    "print(f\"Sunrise today is at {sunrise:%H:%M} and sunset is at {sunset:%H:%M}\")"
   ]
  },
  {
   "cell_type": "code",
   "execution_count": 8,
   "metadata": {
    "slideshow": {
     "slide_type": "fragment"
    }
   },
   "outputs": [
    {
     "name": "stdout",
     "output_type": "stream",
     "text": [
      "Wind today is from 183° at 12.0 knots\n"
     ]
    }
   ],
   "source": [
    "# Wind direction and speed\n",
    "wind_knots = mps_to_knots(response['wind']['speed'])\n",
    "print(f\"Wind today is from {response['wind']['deg']}° at {round(wind_knots,1)} knots\")"
   ]
  },
  {
   "cell_type": "markdown",
   "metadata": {
    "slideshow": {
     "slide_type": "slide"
    }
   },
   "source": [
    "## Forecasted weather\n",
    "### Common definitions to use for all requests"
   ]
  },
  {
   "cell_type": "code",
   "execution_count": 9,
   "metadata": {
    "slideshow": {
     "slide_type": "-"
    }
   },
   "outputs": [],
   "source": [
    "BASE_URL = \"http://api.openweathermap.org/data/2.5/forecast?\"\n",
    "CITY = \"Ski\"\n",
    "\n",
    "urlF = BASE_URL + \"q=\" + CITY + \"&appid=\" + API_KEY"
   ]
  },
  {
   "cell_type": "markdown",
   "metadata": {
    "slideshow": {
     "slide_type": "slide"
    }
   },
   "source": [
    "## Request current weather in chosen city"
   ]
  },
  {
   "cell_type": "code",
   "execution_count": 10,
   "metadata": {
    "slideshow": {
     "slide_type": "-"
    }
   },
   "outputs": [
    {
     "name": "stdout",
     "output_type": "stream",
     "text": [
      "{'cod': '200', 'message': 0, 'cnt': 40, 'list': [{'dt': 1695308400, 'main': {'temp': 289.31, 'feels_like': 289.46, 'temp_min': 288.61, 'temp_max': 289.31, 'pressure': 996, 'sea_level': 996, 'grnd_level': 980, 'humidity': 95, 'temp_kf': 0.7}, 'weather': [{'id': 500, 'main': 'Rain', 'description': 'light rain', 'icon': '10d'}], 'clouds': {'all': 100}, 'wind': {'speed': 5.3, 'deg': 185, 'gust': 13.11}, 'visibility': 10000, 'pop': 0.88, 'rain': {'3h': 0.84}, 'sys': {'pod': 'd'}, 'dt_txt': '2023-09-21 15:00:00'}, {'dt': 1695319200, 'main': {'temp': 288.5, 'feels_like': 288.6, 'temp_min': 286.89, 'temp_max': 288.5, 'pressure': 996, 'sea_level': 996, 'grnd_level': 981, 'humidity': 96, 'temp_kf': 1.61}, 'weather': [{'id': 500, 'main': 'Rain', 'description': 'light rain', 'icon': '10n'}], 'clouds': {'all': 100}, 'wind': {'speed': 2.32, 'deg': 171, 'gust': 5.99}, 'visibility': 10000, 'pop': 0.99, 'rain': {'3h': 0.72}, 'sys': {'pod': 'n'}, 'dt_txt': '2023-09-21 18:00:00'}, {'dt': 1695330000, 'main': {'temp': 287.46, 'feels_like': 287.48, 'temp_min': 286.53, 'temp_max': 287.46, 'pressure': 997, 'sea_level': 997, 'grnd_level': 981, 'humidity': 97, 'temp_kf': 0.93}, 'weather': [{'id': 500, 'main': 'Rain', 'description': 'light rain', 'icon': '10n'}], 'clouds': {'all': 100}, 'wind': {'speed': 0.97, 'deg': 114, 'gust': 3.69}, 'visibility': 10000, 'pop': 0.97, 'rain': {'3h': 2.68}, 'sys': {'pod': 'n'}, 'dt_txt': '2023-09-21 21:00:00'}, {'dt': 1695340800, 'main': {'temp': 288, 'feels_like': 288.07, 'temp_min': 288, 'temp_max': 288, 'pressure': 995, 'sea_level': 995, 'grnd_level': 979, 'humidity': 97, 'temp_kf': 0}, 'weather': [{'id': 500, 'main': 'Rain', 'description': 'light rain', 'icon': '10n'}], 'clouds': {'all': 100}, 'wind': {'speed': 3.31, 'deg': 126, 'gust': 9.85}, 'visibility': 8719, 'pop': 1, 'rain': {'3h': 1.22}, 'sys': {'pod': 'n'}, 'dt_txt': '2023-09-22 00:00:00'}, {'dt': 1695351600, 'main': {'temp': 288.22, 'feels_like': 288.26, 'temp_min': 288.22, 'temp_max': 288.22, 'pressure': 993, 'sea_level': 993, 'grnd_level': 977, 'humidity': 95, 'temp_kf': 0}, 'weather': [{'id': 501, 'main': 'Rain', 'description': 'moderate rain', 'icon': '10n'}], 'clouds': {'all': 100}, 'wind': {'speed': 5.23, 'deg': 144, 'gust': 14.27}, 'visibility': 10000, 'pop': 1, 'rain': {'3h': 3.91}, 'sys': {'pod': 'n'}, 'dt_txt': '2023-09-22 03:00:00'}, {'dt': 1695362400, 'main': {'temp': 288.1, 'feels_like': 288.21, 'temp_min': 288.1, 'temp_max': 288.1, 'pressure': 992, 'sea_level': 992, 'grnd_level': 976, 'humidity': 98, 'temp_kf': 0}, 'weather': [{'id': 501, 'main': 'Rain', 'description': 'moderate rain', 'icon': '10d'}], 'clouds': {'all': 100}, 'wind': {'speed': 3.61, 'deg': 160, 'gust': 10.35}, 'visibility': 1133, 'pop': 1, 'rain': {'3h': 8.13}, 'sys': {'pod': 'd'}, 'dt_txt': '2023-09-22 06:00:00'}, {'dt': 1695373200, 'main': {'temp': 288.15, 'feels_like': 288.26, 'temp_min': 288.15, 'temp_max': 288.15, 'pressure': 993, 'sea_level': 993, 'grnd_level': 977, 'humidity': 98, 'temp_kf': 0}, 'weather': [{'id': 501, 'main': 'Rain', 'description': 'moderate rain', 'icon': '10d'}], 'clouds': {'all': 100}, 'wind': {'speed': 2.81, 'deg': 165, 'gust': 8.66}, 'visibility': 3152, 'pop': 1, 'rain': {'3h': 7.89}, 'sys': {'pod': 'd'}, 'dt_txt': '2023-09-22 09:00:00'}, {'dt': 1695384000, 'main': {'temp': 287.16, 'feels_like': 287.12, 'temp_min': 287.16, 'temp_max': 287.16, 'pressure': 994, 'sea_level': 994, 'grnd_level': 977, 'humidity': 96, 'temp_kf': 0}, 'weather': [{'id': 500, 'main': 'Rain', 'description': 'light rain', 'icon': '10d'}], 'clouds': {'all': 100}, 'wind': {'speed': 2.49, 'deg': 226, 'gust': 5.73}, 'visibility': 10000, 'pop': 1, 'rain': {'3h': 1.46}, 'sys': {'pod': 'd'}, 'dt_txt': '2023-09-22 12:00:00'}, {'dt': 1695394800, 'main': {'temp': 287.05, 'feels_like': 286.74, 'temp_min': 287.05, 'temp_max': 287.05, 'pressure': 995, 'sea_level': 995, 'grnd_level': 979, 'humidity': 86, 'temp_kf': 0}, 'weather': [{'id': 804, 'main': 'Clouds', 'description': 'overcast clouds', 'icon': '04d'}], 'clouds': {'all': 99}, 'wind': {'speed': 2, 'deg': 229, 'gust': 4.9}, 'visibility': 10000, 'pop': 0.26, 'sys': {'pod': 'd'}, 'dt_txt': '2023-09-22 15:00:00'}, {'dt': 1695405600, 'main': {'temp': 285.13, 'feels_like': 284.89, 'temp_min': 285.13, 'temp_max': 285.13, 'pressure': 997, 'sea_level': 997, 'grnd_level': 980, 'humidity': 96, 'temp_kf': 0}, 'weather': [{'id': 804, 'main': 'Clouds', 'description': 'overcast clouds', 'icon': '04n'}], 'clouds': {'all': 100}, 'wind': {'speed': 2.46, 'deg': 195, 'gust': 8.16}, 'visibility': 10000, 'pop': 0.14, 'sys': {'pod': 'n'}, 'dt_txt': '2023-09-22 18:00:00'}, {'dt': 1695416400, 'main': {'temp': 284.09, 'feels_like': 283.67, 'temp_min': 284.09, 'temp_max': 284.09, 'pressure': 998, 'sea_level': 998, 'grnd_level': 981, 'humidity': 93, 'temp_kf': 0}, 'weather': [{'id': 804, 'main': 'Clouds', 'description': 'overcast clouds', 'icon': '04n'}], 'clouds': {'all': 93}, 'wind': {'speed': 2.86, 'deg': 185, 'gust': 8.1}, 'visibility': 10000, 'pop': 0, 'sys': {'pod': 'n'}, 'dt_txt': '2023-09-22 21:00:00'}, {'dt': 1695427200, 'main': {'temp': 283.14, 'feels_like': 281.53, 'temp_min': 283.14, 'temp_max': 283.14, 'pressure': 999, 'sea_level': 999, 'grnd_level': 982, 'humidity': 92, 'temp_kf': 0}, 'weather': [{'id': 803, 'main': 'Clouds', 'description': 'broken clouds', 'icon': '04n'}], 'clouds': {'all': 73}, 'wind': {'speed': 3.22, 'deg': 195, 'gust': 9.71}, 'visibility': 10000, 'pop': 0, 'sys': {'pod': 'n'}, 'dt_txt': '2023-09-23 00:00:00'}, {'dt': 1695438000, 'main': {'temp': 282.53, 'feels_like': 281.49, 'temp_min': 282.53, 'temp_max': 282.53, 'pressure': 999, 'sea_level': 999, 'grnd_level': 983, 'humidity': 96, 'temp_kf': 0}, 'weather': [{'id': 800, 'main': 'Clear', 'description': 'clear sky', 'icon': '01n'}], 'clouds': {'all': 8}, 'wind': {'speed': 2.16, 'deg': 187, 'gust': 5.73}, 'visibility': 10000, 'pop': 0, 'sys': {'pod': 'n'}, 'dt_txt': '2023-09-23 03:00:00'}, {'dt': 1695448800, 'main': {'temp': 282.48, 'feels_like': 282.48, 'temp_min': 282.48, 'temp_max': 282.48, 'pressure': 1000, 'sea_level': 1000, 'grnd_level': 984, 'humidity': 98, 'temp_kf': 0}, 'weather': [{'id': 800, 'main': 'Clear', 'description': 'clear sky', 'icon': '01d'}], 'clouds': {'all': 9}, 'wind': {'speed': 1.17, 'deg': 150, 'gust': 3.08}, 'visibility': 10000, 'pop': 0, 'sys': {'pod': 'd'}, 'dt_txt': '2023-09-23 06:00:00'}, {'dt': 1695459600, 'main': {'temp': 286.6, 'feels_like': 286.19, 'temp_min': 286.6, 'temp_max': 286.6, 'pressure': 1000, 'sea_level': 1000, 'grnd_level': 984, 'humidity': 84, 'temp_kf': 0}, 'weather': [{'id': 500, 'main': 'Rain', 'description': 'light rain', 'icon': '10d'}], 'clouds': {'all': 67}, 'wind': {'speed': 1.85, 'deg': 170, 'gust': 3.69}, 'visibility': 10000, 'pop': 0.41, 'rain': {'3h': 0.3}, 'sys': {'pod': 'd'}, 'dt_txt': '2023-09-23 09:00:00'}, {'dt': 1695470400, 'main': {'temp': 286.9, 'feels_like': 286.55, 'temp_min': 286.9, 'temp_max': 286.9, 'pressure': 1000, 'sea_level': 1000, 'grnd_level': 983, 'humidity': 85, 'temp_kf': 0}, 'weather': [{'id': 501, 'main': 'Rain', 'description': 'moderate rain', 'icon': '10d'}], 'clouds': {'all': 83}, 'wind': {'speed': 1.62, 'deg': 152, 'gust': 3.27}, 'visibility': 6050, 'pop': 0.77, 'rain': {'3h': 3.79}, 'sys': {'pod': 'd'}, 'dt_txt': '2023-09-23 12:00:00'}, {'dt': 1695481200, 'main': {'temp': 286.48, 'feels_like': 286.19, 'temp_min': 286.48, 'temp_max': 286.48, 'pressure': 1000, 'sea_level': 1000, 'grnd_level': 983, 'humidity': 89, 'temp_kf': 0}, 'weather': [{'id': 501, 'main': 'Rain', 'description': 'moderate rain', 'icon': '10d'}], 'clouds': {'all': 100}, 'wind': {'speed': 1.38, 'deg': 246, 'gust': 2.41}, 'visibility': 8170, 'pop': 1, 'rain': {'3h': 4.37}, 'sys': {'pod': 'd'}, 'dt_txt': '2023-09-23 15:00:00'}, {'dt': 1695492000, 'main': {'temp': 283.98, 'feels_like': 283.6, 'temp_min': 283.98, 'temp_max': 283.98, 'pressure': 1002, 'sea_level': 1002, 'grnd_level': 985, 'humidity': 95, 'temp_kf': 0}, 'weather': [{'id': 500, 'main': 'Rain', 'description': 'light rain', 'icon': '10n'}], 'clouds': {'all': 100}, 'wind': {'speed': 1.87, 'deg': 225, 'gust': 3.81}, 'visibility': 10000, 'pop': 1, 'rain': {'3h': 1.48}, 'sys': {'pod': 'n'}, 'dt_txt': '2023-09-23 18:00:00'}, {'dt': 1695502800, 'main': {'temp': 282.14, 'feels_like': 281.82, 'temp_min': 282.14, 'temp_max': 282.14, 'pressure': 1004, 'sea_level': 1004, 'grnd_level': 987, 'humidity': 96, 'temp_kf': 0}, 'weather': [{'id': 803, 'main': 'Clouds', 'description': 'broken clouds', 'icon': '04n'}], 'clouds': {'all': 77}, 'wind': {'speed': 1.35, 'deg': 193, 'gust': 2.03}, 'visibility': 10000, 'pop': 0.15, 'sys': {'pod': 'n'}, 'dt_txt': '2023-09-23 21:00:00'}, {'dt': 1695513600, 'main': {'temp': 281.16, 'feels_like': 281.16, 'temp_min': 281.16, 'temp_max': 281.16, 'pressure': 1005, 'sea_level': 1005, 'grnd_level': 988, 'humidity': 97, 'temp_kf': 0}, 'weather': [{'id': 802, 'main': 'Clouds', 'description': 'scattered clouds', 'icon': '03n'}], 'clouds': {'all': 49}, 'wind': {'speed': 1.15, 'deg': 199, 'gust': 1.39}, 'visibility': 10000, 'pop': 0.06, 'sys': {'pod': 'n'}, 'dt_txt': '2023-09-24 00:00:00'}, {'dt': 1695524400, 'main': {'temp': 280.43, 'feels_like': 280.43, 'temp_min': 280.43, 'temp_max': 280.43, 'pressure': 1006, 'sea_level': 1006, 'grnd_level': 989, 'humidity': 96, 'temp_kf': 0}, 'weather': [{'id': 802, 'main': 'Clouds', 'description': 'scattered clouds', 'icon': '03n'}], 'clouds': {'all': 31}, 'wind': {'speed': 0.66, 'deg': 264, 'gust': 1.01}, 'visibility': 10000, 'pop': 0.01, 'sys': {'pod': 'n'}, 'dt_txt': '2023-09-24 03:00:00'}, {'dt': 1695535200, 'main': {'temp': 280.36, 'feels_like': 280.36, 'temp_min': 280.36, 'temp_max': 280.36, 'pressure': 1009, 'sea_level': 1009, 'grnd_level': 992, 'humidity': 94, 'temp_kf': 0}, 'weather': [{'id': 801, 'main': 'Clouds', 'description': 'few clouds', 'icon': '02d'}], 'clouds': {'all': 20}, 'wind': {'speed': 1.03, 'deg': 334, 'gust': 1.09}, 'visibility': 10000, 'pop': 0.01, 'sys': {'pod': 'd'}, 'dt_txt': '2023-09-24 06:00:00'}, {'dt': 1695546000, 'main': {'temp': 285.3, 'feels_like': 284.58, 'temp_min': 285.3, 'temp_max': 285.3, 'pressure': 1012, 'sea_level': 1012, 'grnd_level': 995, 'humidity': 77, 'temp_kf': 0}, 'weather': [{'id': 800, 'main': 'Clear', 'description': 'clear sky', 'icon': '01d'}], 'clouds': {'all': 5}, 'wind': {'speed': 1.04, 'deg': 305, 'gust': 1.8}, 'visibility': 10000, 'pop': 0, 'sys': {'pod': 'd'}, 'dt_txt': '2023-09-24 09:00:00'}, {'dt': 1695556800, 'main': {'temp': 288.42, 'feels_like': 287.62, 'temp_min': 288.42, 'temp_max': 288.42, 'pressure': 1014, 'sea_level': 1014, 'grnd_level': 997, 'humidity': 62, 'temp_kf': 0}, 'weather': [{'id': 800, 'main': 'Clear', 'description': 'clear sky', 'icon': '01d'}], 'clouds': {'all': 6}, 'wind': {'speed': 1.81, 'deg': 217, 'gust': 2.04}, 'visibility': 10000, 'pop': 0, 'sys': {'pod': 'd'}, 'dt_txt': '2023-09-24 12:00:00'}, {'dt': 1695567600, 'main': {'temp': 288.17, 'feels_like': 287.4, 'temp_min': 288.17, 'temp_max': 288.17, 'pressure': 1015, 'sea_level': 1015, 'grnd_level': 999, 'humidity': 64, 'temp_kf': 0}, 'weather': [{'id': 800, 'main': 'Clear', 'description': 'clear sky', 'icon': '01d'}], 'clouds': {'all': 7}, 'wind': {'speed': 2.32, 'deg': 186, 'gust': 3.97}, 'visibility': 10000, 'pop': 0, 'sys': {'pod': 'd'}, 'dt_txt': '2023-09-24 15:00:00'}, {'dt': 1695578400, 'main': {'temp': 283.59, 'feels_like': 283.01, 'temp_min': 283.59, 'temp_max': 283.59, 'pressure': 1016, 'sea_level': 1016, 'grnd_level': 999, 'humidity': 89, 'temp_kf': 0}, 'weather': [{'id': 803, 'main': 'Clouds', 'description': 'broken clouds', 'icon': '04n'}], 'clouds': {'all': 52}, 'wind': {'speed': 2.05, 'deg': 149, 'gust': 4.94}, 'visibility': 10000, 'pop': 0, 'sys': {'pod': 'n'}, 'dt_txt': '2023-09-24 18:00:00'}, {'dt': 1695589200, 'main': {'temp': 284.29, 'feels_like': 283.55, 'temp_min': 284.29, 'temp_max': 284.29, 'pressure': 1017, 'sea_level': 1017, 'grnd_level': 1000, 'humidity': 80, 'temp_kf': 0}, 'weather': [{'id': 804, 'main': 'Clouds', 'description': 'overcast clouds', 'icon': '04n'}], 'clouds': {'all': 100}, 'wind': {'speed': 4.83, 'deg': 191, 'gust': 12.55}, 'visibility': 10000, 'pop': 0, 'sys': {'pod': 'n'}, 'dt_txt': '2023-09-24 21:00:00'}, {'dt': 1695600000, 'main': {'temp': 285.36, 'feels_like': 285.01, 'temp_min': 285.36, 'temp_max': 285.36, 'pressure': 1017, 'sea_level': 1017, 'grnd_level': 1000, 'humidity': 91, 'temp_kf': 0}, 'weather': [{'id': 804, 'main': 'Clouds', 'description': 'overcast clouds', 'icon': '04n'}], 'clouds': {'all': 100}, 'wind': {'speed': 4.56, 'deg': 190, 'gust': 11.5}, 'visibility': 10000, 'pop': 0, 'sys': {'pod': 'n'}, 'dt_txt': '2023-09-25 00:00:00'}, {'dt': 1695610800, 'main': {'temp': 285.97, 'feels_like': 285.81, 'temp_min': 285.97, 'temp_max': 285.97, 'pressure': 1016, 'sea_level': 1016, 'grnd_level': 999, 'humidity': 96, 'temp_kf': 0}, 'weather': [{'id': 500, 'main': 'Rain', 'description': 'light rain', 'icon': '10n'}], 'clouds': {'all': 100}, 'wind': {'speed': 6.09, 'deg': 192, 'gust': 13.17}, 'visibility': 10000, 'pop': 0.8, 'rain': {'3h': 1.31}, 'sys': {'pod': 'n'}, 'dt_txt': '2023-09-25 03:00:00'}, {'dt': 1695621600, 'main': {'temp': 285.22, 'feels_like': 284.91, 'temp_min': 285.22, 'temp_max': 285.22, 'pressure': 1015, 'sea_level': 1015, 'grnd_level': 998, 'humidity': 93, 'temp_kf': 0}, 'weather': [{'id': 500, 'main': 'Rain', 'description': 'light rain', 'icon': '10d'}], 'clouds': {'all': 100}, 'wind': {'speed': 6.02, 'deg': 179, 'gust': 12.77}, 'visibility': 10000, 'pop': 0.77, 'rain': {'3h': 1.06}, 'sys': {'pod': 'd'}, 'dt_txt': '2023-09-25 06:00:00'}, {'dt': 1695632400, 'main': {'temp': 286.44, 'feels_like': 285.99, 'temp_min': 286.44, 'temp_max': 286.44, 'pressure': 1015, 'sea_level': 1015, 'grnd_level': 998, 'humidity': 83, 'temp_kf': 0}, 'weather': [{'id': 804, 'main': 'Clouds', 'description': 'overcast clouds', 'icon': '04d'}], 'clouds': {'all': 100}, 'wind': {'speed': 6.34, 'deg': 194, 'gust': 13.62}, 'visibility': 10000, 'pop': 0, 'sys': {'pod': 'd'}, 'dt_txt': '2023-09-25 09:00:00'}, {'dt': 1695643200, 'main': {'temp': 286.4, 'feels_like': 285.92, 'temp_min': 286.4, 'temp_max': 286.4, 'pressure': 1014, 'sea_level': 1014, 'grnd_level': 997, 'humidity': 82, 'temp_kf': 0}, 'weather': [{'id': 500, 'main': 'Rain', 'description': 'light rain', 'icon': '10d'}], 'clouds': {'all': 100}, 'wind': {'speed': 6.44, 'deg': 192, 'gust': 12.67}, 'visibility': 10000, 'pop': 0.2, 'rain': {'3h': 0.16}, 'sys': {'pod': 'd'}, 'dt_txt': '2023-09-25 12:00:00'}, {'dt': 1695654000, 'main': {'temp': 286.48, 'feels_like': 285.98, 'temp_min': 286.48, 'temp_max': 286.48, 'pressure': 1014, 'sea_level': 1014, 'grnd_level': 997, 'humidity': 81, 'temp_kf': 0}, 'weather': [{'id': 804, 'main': 'Clouds', 'description': 'overcast clouds', 'icon': '04d'}], 'clouds': {'all': 100}, 'wind': {'speed': 5.65, 'deg': 191, 'gust': 12.72}, 'visibility': 10000, 'pop': 0, 'sys': {'pod': 'd'}, 'dt_txt': '2023-09-25 15:00:00'}, {'dt': 1695664800, 'main': {'temp': 285.95, 'feels_like': 285.69, 'temp_min': 285.95, 'temp_max': 285.95, 'pressure': 1014, 'sea_level': 1014, 'grnd_level': 997, 'humidity': 92, 'temp_kf': 0}, 'weather': [{'id': 500, 'main': 'Rain', 'description': 'light rain', 'icon': '10n'}], 'clouds': {'all': 100}, 'wind': {'speed': 4.78, 'deg': 183, 'gust': 11.94}, 'visibility': 10000, 'pop': 0.3, 'rain': {'3h': 0.16}, 'sys': {'pod': 'n'}, 'dt_txt': '2023-09-25 18:00:00'}, {'dt': 1695675600, 'main': {'temp': 286.58, 'feels_like': 286.49, 'temp_min': 286.58, 'temp_max': 286.58, 'pressure': 1014, 'sea_level': 1014, 'grnd_level': 998, 'humidity': 96, 'temp_kf': 0}, 'weather': [{'id': 500, 'main': 'Rain', 'description': 'light rain', 'icon': '10n'}], 'clouds': {'all': 100}, 'wind': {'speed': 4.36, 'deg': 191, 'gust': 10.6}, 'visibility': 10000, 'pop': 0.36, 'rain': {'3h': 0.25}, 'sys': {'pod': 'n'}, 'dt_txt': '2023-09-25 21:00:00'}, {'dt': 1695686400, 'main': {'temp': 286.92, 'feels_like': 286.78, 'temp_min': 286.92, 'temp_max': 286.92, 'pressure': 1015, 'sea_level': 1015, 'grnd_level': 998, 'humidity': 93, 'temp_kf': 0}, 'weather': [{'id': 500, 'main': 'Rain', 'description': 'light rain', 'icon': '10n'}], 'clouds': {'all': 100}, 'wind': {'speed': 4.31, 'deg': 192, 'gust': 9.96}, 'visibility': 10000, 'pop': 0.33, 'rain': {'3h': 0.2}, 'sys': {'pod': 'n'}, 'dt_txt': '2023-09-26 00:00:00'}, {'dt': 1695697200, 'main': {'temp': 286.62, 'feels_like': 286.35, 'temp_min': 286.62, 'temp_max': 286.62, 'pressure': 1014, 'sea_level': 1014, 'grnd_level': 998, 'humidity': 89, 'temp_kf': 0}, 'weather': [{'id': 804, 'main': 'Clouds', 'description': 'overcast clouds', 'icon': '04n'}], 'clouds': {'all': 97}, 'wind': {'speed': 4.31, 'deg': 190, 'gust': 9.5}, 'visibility': 10000, 'pop': 0.13, 'sys': {'pod': 'n'}, 'dt_txt': '2023-09-26 03:00:00'}, {'dt': 1695708000, 'main': {'temp': 285.54, 'feels_like': 285.37, 'temp_min': 285.54, 'temp_max': 285.54, 'pressure': 1015, 'sea_level': 1015, 'grnd_level': 998, 'humidity': 97, 'temp_kf': 0}, 'weather': [{'id': 803, 'main': 'Clouds', 'description': 'broken clouds', 'icon': '04d'}], 'clouds': {'all': 81}, 'wind': {'speed': 3.5, 'deg': 179, 'gust': 9.71}, 'visibility': 10000, 'pop': 0.08, 'sys': {'pod': 'd'}, 'dt_txt': '2023-09-26 06:00:00'}, {'dt': 1695718800, 'main': {'temp': 288.27, 'feels_like': 287.93, 'temp_min': 288.27, 'temp_max': 288.27, 'pressure': 1016, 'sea_level': 1016, 'grnd_level': 999, 'humidity': 80, 'temp_kf': 0}, 'weather': [{'id': 500, 'main': 'Rain', 'description': 'light rain', 'icon': '10d'}], 'clouds': {'all': 37}, 'wind': {'speed': 3.9, 'deg': 191, 'gust': 7.46}, 'visibility': 10000, 'pop': 0.28, 'rain': {'3h': 0.1}, 'sys': {'pod': 'd'}, 'dt_txt': '2023-09-26 09:00:00'}, {'dt': 1695729600, 'main': {'temp': 288.95, 'feels_like': 288.54, 'temp_min': 288.95, 'temp_max': 288.95, 'pressure': 1016, 'sea_level': 1016, 'grnd_level': 999, 'humidity': 75, 'temp_kf': 0}, 'weather': [{'id': 500, 'main': 'Rain', 'description': 'light rain', 'icon': '10d'}], 'clouds': {'all': 59}, 'wind': {'speed': 4.22, 'deg': 183, 'gust': 6.44}, 'visibility': 10000, 'pop': 0.2, 'rain': {'3h': 0.15}, 'sys': {'pod': 'd'}, 'dt_txt': '2023-09-26 12:00:00'}], 'city': {'id': 3139081, 'name': 'Ski', 'coord': {'lat': 59.7195, 'lon': 10.8358}, 'country': 'NO', 'population': 12513, 'timezone': 7200, 'sunrise': 1695272257, 'sunset': 1695316937}}\n"
     ]
    }
   ],
   "source": [
    "responseF = requests.get(urlF).json()\n",
    "print(responseF)"
   ]
  },
  {
   "cell_type": "code",
   "execution_count": 11,
   "metadata": {
    "slideshow": {
     "slide_type": "slide"
    }
   },
   "outputs": [],
   "source": [
    "# Write JSON to file for viewing\n",
    "with open('downloads/forecast.json', 'w') as f:\n",
    "    json.dump(responseF, f, indent=4)"
   ]
  },
  {
   "cell_type": "markdown",
   "metadata": {
    "slideshow": {
     "slide_type": "slide"
    }
   },
   "source": [
    "### When and what?\n",
    "Check contents and time stamps"
   ]
  },
  {
   "cell_type": "code",
   "execution_count": 12,
   "metadata": {
    "slideshow": {
     "slide_type": "-"
    }
   },
   "outputs": [
    {
     "data": {
      "text/plain": [
       "dict_keys(['cod', 'message', 'cnt', 'list', 'city'])"
      ]
     },
     "execution_count": 12,
     "metadata": {},
     "output_type": "execute_result"
    }
   ],
   "source": [
    "# Content of responseF\n",
    "responseF.keys()"
   ]
  },
  {
   "cell_type": "code",
   "execution_count": 13,
   "metadata": {
    "slideshow": {
     "slide_type": "fragment"
    }
   },
   "outputs": [
    {
     "name": "stdout",
     "output_type": "stream",
     "text": [
      "40\n"
     ]
    }
   ],
   "source": [
    "# Number of forecasts\n",
    "print(len(responseF[\"list\"]))"
   ]
  },
  {
   "cell_type": "code",
   "execution_count": 14,
   "metadata": {
    "slideshow": {
     "slide_type": "slide"
    }
   },
   "outputs": [
    {
     "name": "stdout",
     "output_type": "stream",
     "text": [
      "2023-09-21 15:00:00\n",
      "2023-09-21 18:00:00\n",
      "2023-09-21 21:00:00\n",
      "2023-09-22 00:00:00\n",
      "2023-09-22 03:00:00\n",
      "2023-09-22 06:00:00\n",
      "2023-09-22 09:00:00\n",
      "2023-09-22 12:00:00\n",
      "2023-09-22 15:00:00\n",
      "2023-09-22 18:00:00\n",
      "2023-09-22 21:00:00\n",
      "2023-09-23 00:00:00\n",
      "2023-09-23 03:00:00\n",
      "2023-09-23 06:00:00\n",
      "2023-09-23 09:00:00\n",
      "2023-09-23 12:00:00\n",
      "2023-09-23 15:00:00\n",
      "2023-09-23 18:00:00\n",
      "2023-09-23 21:00:00\n",
      "2023-09-24 00:00:00\n",
      "2023-09-24 03:00:00\n",
      "2023-09-24 06:00:00\n",
      "2023-09-24 09:00:00\n",
      "2023-09-24 12:00:00\n",
      "2023-09-24 15:00:00\n",
      "2023-09-24 18:00:00\n",
      "2023-09-24 21:00:00\n",
      "2023-09-25 00:00:00\n",
      "2023-09-25 03:00:00\n",
      "2023-09-25 06:00:00\n",
      "2023-09-25 09:00:00\n",
      "2023-09-25 12:00:00\n",
      "2023-09-25 15:00:00\n",
      "2023-09-25 18:00:00\n",
      "2023-09-25 21:00:00\n",
      "2023-09-26 00:00:00\n",
      "2023-09-26 03:00:00\n",
      "2023-09-26 06:00:00\n",
      "2023-09-26 09:00:00\n",
      "2023-09-26 12:00:00\n"
     ]
    }
   ],
   "source": [
    "# Print forecast times\n",
    "for forecast in responseF[\"list\"]:\n",
    "    print(forecast[\"dt_txt\"])"
   ]
  },
  {
   "cell_type": "markdown",
   "metadata": {
    "slideshow": {
     "slide_type": "slide"
    }
   },
   "source": [
    "## Make plots of omnipresent measurements and events\n",
    "We will later look at missing data, data only sporadically appearing and so on."
   ]
  },
  {
   "cell_type": "code",
   "execution_count": 15,
   "metadata": {
    "slideshow": {
     "slide_type": "-"
    }
   },
   "outputs": [],
   "source": [
    "# Air pressure per period\n",
    "pressures = []\n",
    "timestamps = []\n",
    "for forecast in responseF[\"list\"]:\n",
    "    pressures.append(forecast[\"main\"][\"pressure\"])\n",
    "    timestamps.append(dt.datetime.fromtimestamp(forecast[\"dt\"]))"
   ]
  },
  {
   "cell_type": "code",
   "execution_count": 16,
   "metadata": {
    "slideshow": {
     "slide_type": "slide"
    }
   },
   "outputs": [
    {
     "data": {
      "image/png": "[encoded data removed]",
      "text/plain": [
       "<Figure size 640x480 with 1 Axes>"
      ]
     },
     "metadata": {},
     "output_type": "display_data"
    }
   ],
   "source": [
    "import matplotlib.pyplot as plt\n",
    "plt.bar(timestamps, pressures)\n",
    "plt.xticks(rotation=45)\n",
    "plt.ylim(950, 1050)\n",
    "plt.grid()\n",
    "plt.ylabel(\"Air pressure (hPa)\")\n",
    "plt.title(f\"Forecasted air pressure in {CITY}\")\n",
    "plt.show()"
   ]
  },
  {
   "cell_type": "markdown",
   "metadata": {
    "slideshow": {
     "slide_type": "slide"
    }
   },
   "source": [
    "### Precipitation\n",
    "- ... comes in two main flavours: rain and snow.\n",
    "- We need to check which is present and set to zero if it is abscent."
   ]
  },
  {
   "cell_type": "code",
   "execution_count": 17,
   "metadata": {
    "slideshow": {
     "slide_type": "-"
    }
   },
   "outputs": [],
   "source": [
    "rain = []\n",
    "snow = []\n",
    "for forecast in responseF[\"list\"]:\n",
    "    try: # Check if rain is present in forecast\n",
    "        rain.append(forecast[\"rain\"][\"3h\"])\n",
    "    except KeyError:\n",
    "        rain.append(0)\n",
    "    try: # Check if snow is present in forecast\n",
    "        snow.append(forecast[\"snow\"][\"3h\"])\n",
    "    except KeyError:\n",
    "        snow.append(0)"
   ]
  },
  {
   "cell_type": "code",
   "execution_count": 18,
   "metadata": {
    "slideshow": {
     "slide_type": "slide"
    }
   },
   "outputs": [
    {
     "data": {
      "image/png": "[encoded data removed]",
      "text/plain": [
       "<Figure size 640x480 with 1 Axes>"
      ]
     },
     "metadata": {},
     "output_type": "display_data"
    }
   ],
   "source": [
    "# Stacked bar chart with rain and snow\n",
    "plt.bar(timestamps, rain, label=\"Rain\")\n",
    "plt.bar(timestamps, snow, label=\"Snow\")\n",
    "plt.xticks(rotation=45)\n",
    "plt.grid()\n",
    "plt.ylabel(\"Precipitation (mm)\")\n",
    "plt.title(f\"Forecasted precipitation in {CITY}\")\n",
    "plt.legend()\n",
    "plt.show()\n"
   ]
  },
  {
   "cell_type": "markdown",
   "metadata": {},
   "source": [
    "## Resources\n",
    "- [NeuralNine's video](https://www.youtube.com/watch?v=9P5MY_2i7K8)"
   ]
  }
 ],
 "metadata": {
  "celltoolbar": "Slideshow",
  "kernelspec": {
   "display_name": "Python 3 (ipykernel)",
   "language": "python",
   "name": "python3"
  },
  "language_info": {
   "codemirror_mode": {
    "name": "ipython",
    "version": 3
   },
   "file_extension": ".py",
   "mimetype": "text/x-python",
   "name": "python",
   "nbconvert_exporter": "python",
   "pygments_lexer": "ipython3",
   "version": "3.10.6"
  }
 },
 "nbformat": 4,
 "nbformat_minor": 2
}