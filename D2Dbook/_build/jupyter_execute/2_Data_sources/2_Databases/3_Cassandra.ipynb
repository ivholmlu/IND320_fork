{
 "cells": [
  {
   "cell_type": "markdown",
   "metadata": {
    "slideshow": {
     "slide_type": "slide"
    }
   },
   "source": [
    "# Cassandra\n",
    "- A production grade NoSQL database.\n",
    "- Can be distributed across servers, nodes, etc.\n",
    "- Replication of database is supported for high degree of redundancy and speed.\n",
    "- Uses CQL, a subset of SQL for querying.\n",
    "- Works seamlesly together with Spark and its corresponding distributed structure.\n",
    "- Installation of Cassandra is explained in the [Installation chapter](../../6_Appendix/Installation.ipynb)."
   ]
  },
  {
   "cell_type": "markdown",
   "metadata": {
    "slideshow": {
     "slide_type": "slide"
    }
   },
   "source": [
    "## Spinning up a local Cassandra instance\n",
    "In a terminal, first time:  \n",
    "```docker run --name my_cassandra -p 9042:9042 cassandra:latest```  \n",
    "... and later:  \n",
    "```docker start my_cassandra```  \n",
    "  \n",
    ".. or in Docker Desktop:\n",
    "- Run the cassandra docker image with optional settings, opening 9042 port and setting a name.\n",
    "- Later, simply run the container with the name you chose."
   ]
  },
  {
   "cell_type": "markdown",
   "metadata": {
    "slideshow": {
     "slide_type": "slide"
    }
   },
   "source": [
    "<img src=\"../../images/Docker_images.png\" width=\"600px\">  "
   ]
  },
  {
   "cell_type": "markdown",
   "metadata": {
    "slideshow": {
     "slide_type": "slide"
    }
   },
   "source": [
    "\n",
    "<img src=\"../../images/Docker_containers.png\" width=\"800px\">  "
   ]
  },
  {
   "cell_type": "markdown",
   "metadata": {
    "slideshow": {
     "slide_type": "slide"
    }
   },
   "source": [
    "### Connect to the Cassandra cluster from Python."
   ]
  },
  {
   "cell_type": "code",
   "execution_count": 1,
   "metadata": {
    "slideshow": {
     "slide_type": "-"
    }
   },
   "outputs": [],
   "source": [
    "# Connecting to Cassandra\n",
    "from cassandra.cluster import Cluster\n",
    "cluster = Cluster(['localhost'], port=9042)\n",
    "session = cluster.connect()"
   ]
  },
  {
   "cell_type": "markdown",
   "metadata": {
    "slideshow": {
     "slide_type": "slide"
    }
   },
   "source": [
    "### Keyspace\n",
    "- In Cassandra database tables are stored in keyspaces (basically a distributed database).\n",
    "- These have parameters controlling their distribution on nodes/servers and redundancy.\n",
    "- We will use the simplest form locally."
   ]
  },
  {
   "cell_type": "code",
   "execution_count": 2,
   "metadata": {
    "slideshow": {
     "slide_type": "fragment"
    }
   },
   "outputs": [
    {
     "data": {
      "text/plain": [
       "<cassandra.cluster.ResultSet at 0x10777cb10>"
      ]
     },
     "execution_count": 2,
     "metadata": {},
     "output_type": "execute_result"
    }
   ],
   "source": [
    "# Set up new keyspace (first time only)\n",
    "#                                              name of keyspace                        replication strategy           replication factor\n",
    "session.execute(\"CREATE KEYSPACE IF NOT EXISTS my_first_keyspace WITH REPLICATION = { 'class' : 'SimpleStrategy', 'replication_factor' : 1 };\")"
   ]
  },
  {
   "cell_type": "markdown",
   "metadata": {
    "slideshow": {
     "slide_type": "slide"
    }
   },
   "source": [
    "### Create a table\n",
    "- IF NOT EXISTS makes sure we do not overwrite existing tables"
   ]
  },
  {
   "cell_type": "code",
   "execution_count": 3,
   "metadata": {
    "slideshow": {
     "slide_type": "fragment"
    }
   },
   "outputs": [
    {
     "data": {
      "text/plain": [
       "<cassandra.cluster.ResultSet at 0x109548a50>"
      ]
     },
     "execution_count": 3,
     "metadata": {},
     "output_type": "execute_result"
    }
   ],
   "source": [
    "# Create a new table (first time only)\n",
    "session.set_keyspace('my_first_keyspace')\n",
    "session.execute(\"DROP TABLE IF EXISTS my_first_keyspace.my_first_table;\") # Starting from scratch every time\n",
    "session.execute(\"CREATE TABLE IF NOT EXISTS my_first_table (ind int PRIMARY KEY, company text, model text);\")"
   ]
  },
  {
   "cell_type": "markdown",
   "metadata": {
    "slideshow": {
     "slide_type": "slide"
    }
   },
   "source": [
    "### Inserting and reading data"
   ]
  },
  {
   "cell_type": "code",
   "execution_count": 4,
   "metadata": {
    "slideshow": {
     "slide_type": "-"
    }
   },
   "outputs": [
    {
     "data": {
      "text/plain": [
       "<cassandra.cluster.ResultSet at 0x109551610>"
      ]
     },
     "execution_count": 4,
     "metadata": {},
     "output_type": "execute_result"
    }
   ],
   "source": [
    "# Insert some data (ind is the primary key, must be unique)\n",
    "session.execute(\"INSERT INTO my_first_table (ind, company, model) VALUES (1, 'Tesla', 'Model S');\")\n",
    "session.execute(\"INSERT INTO my_first_table (ind, company, model) VALUES (2, 'Tesla', 'Model 3');\")\n",
    "session.execute(\"INSERT INTO my_first_table (ind, company, model) VALUES (3, 'Polestar', '3');\")"
   ]
  },
  {
   "cell_type": "markdown",
   "metadata": {
    "slideshow": {
     "slide_type": "slide"
    }
   },
   "source": [
    "### Asyncronous writing\n",
    "- If your application is very data intensive, waiting for a response is not productive.\n",
    "- Writing asyncronously sends the data but does not pause for reply."
   ]
  },
  {
   "cell_type": "code",
   "execution_count": 5,
   "metadata": {
    "slideshow": {
     "slide_type": "-"
    }
   },
   "outputs": [
    {
     "data": {
      "text/plain": [
       "<ResponseFuture: query='<SimpleStatement query=\"INSERT INTO my_first_table (ind, company, model) VALUES (4, 'Volkswagen', 'ID.4');\", consistency=Not Set>' request_id=24 result=(no result yet) exception=None coordinator_host=None>"
      ]
     },
     "execution_count": 5,
     "metadata": {},
     "output_type": "execute_result"
    }
   ],
   "source": [
    "session.execute_async(\"INSERT INTO my_first_table (ind, company, model) VALUES (4, 'Volkswagen', 'ID.4');\")"
   ]
  },
  {
   "cell_type": "code",
   "execution_count": 6,
   "metadata": {
    "slideshow": {
     "slide_type": "slide"
    }
   },
   "outputs": [
    {
     "name": "stdout",
     "output_type": "stream",
     "text": [
      "Row(ind=1, company='Tesla', model='Model S')\n",
      "Row(ind=2, company='Tesla', model='Model 3')\n",
      "Row(ind=4, company='Volkswagen', model='ID.4')\n",
      "Row(ind=3, company='Polestar', model='3')\n"
     ]
    }
   ],
   "source": [
    "# Query the data\n",
    "rows = session.execute(\"SELECT * FROM my_first_table;\")\n",
    "for i in rows:\n",
    "    print(i)"
   ]
  },
  {
   "cell_type": "code",
   "execution_count": 7,
   "metadata": {
    "slideshow": {
     "slide_type": "slide"
    },
    "tags": [
     "raises-exception"
    ]
   },
   "outputs": [
    {
     "ename": "InvalidRequest",
     "evalue": "Error from server: code=2200 [Invalid query] message=\"Cannot execute this query as it might involve data filtering and thus may have unpredictable performance. If you want to execute this query despite the performance unpredictability, use ALLOW FILTERING\"",
     "output_type": "error",
     "traceback": [
      "\u001b[0;31m---------------------------------------------------------------------------\u001b[0m",
      "\u001b[0;31mInvalidRequest\u001b[0m                            Traceback (most recent call last)",
      "Cell \u001b[0;32mIn[7], line 2\u001b[0m\n\u001b[1;32m      1\u001b[0m \u001b[38;5;66;03m# More specific query\u001b[39;00m\n\u001b[0;32m----> 2\u001b[0m prepared_statement \u001b[38;5;241m=\u001b[39m \u001b[43msession\u001b[49m\u001b[38;5;241;43m.\u001b[39;49m\u001b[43mprepare\u001b[49m\u001b[43m(\u001b[49m\u001b[38;5;124;43m\"\u001b[39;49m\u001b[38;5;124;43mSELECT * FROM my_first_table WHERE company=?;\u001b[39;49m\u001b[38;5;124;43m\"\u001b[39;49m\u001b[43m)\u001b[49m \u001b[38;5;66;03m# <- will fail as company is not a key\u001b[39;00m\n\u001b[1;32m      3\u001b[0m teslas \u001b[38;5;241m=\u001b[39m session\u001b[38;5;241m.\u001b[39mexecute(prepared_statement, [\u001b[38;5;124m'\u001b[39m\u001b[38;5;124mTesla\u001b[39m\u001b[38;5;124m'\u001b[39m])\n\u001b[1;32m      4\u001b[0m \u001b[38;5;28;01mfor\u001b[39;00m i \u001b[38;5;129;01min\u001b[39;00m teslas:\n",
      "File \u001b[0;32m~/miniforge3/envs/IND320/lib/python3.11/site-packages/cassandra/cluster.py:3099\u001b[0m, in \u001b[0;36mcassandra.cluster.Session.prepare\u001b[0;34m()\u001b[0m\n",
      "File \u001b[0;32m~/miniforge3/envs/IND320/lib/python3.11/site-packages/cassandra/cluster.py:3096\u001b[0m, in \u001b[0;36mcassandra.cluster.Session.prepare\u001b[0;34m()\u001b[0m\n",
      "File \u001b[0;32m~/miniforge3/envs/IND320/lib/python3.11/site-packages/cassandra/cluster.py:4928\u001b[0m, in \u001b[0;36mcassandra.cluster.ResponseFuture.result\u001b[0;34m()\u001b[0m\n",
      "\u001b[0;31mInvalidRequest\u001b[0m: Error from server: code=2200 [Invalid query] message=\"Cannot execute this query as it might involve data filtering and thus may have unpredictable performance. If you want to execute this query despite the performance unpredictability, use ALLOW FILTERING\""
     ]
    }
   ],
   "source": [
    "# More specific query\n",
    "prepared_statement = session.prepare(\"SELECT * FROM my_first_table WHERE company=?;\") # <- will fail as company is not a key\n",
    "teslas = session.execute(prepared_statement, ['Tesla'])\n",
    "for i in teslas:\n",
    "    print(i)"
   ]
  },
  {
   "cell_type": "markdown",
   "metadata": {
    "slideshow": {
     "slide_type": "slide"
    }
   },
   "source": [
    "## Cassandra filtering\n",
    "Cassandra is inherently a distributed production database. Selecting as above may require downloading all data from a node, then filtering based on the WHERE part (only PRIMARY KEYs are centrally known). Solutions:  \n",
    "- If the table is small or most of the data will satisfy the query, add ```ALLOW FILTERING``` at the end of the query (not recommended if not known). \n",
    "- Or make sure the WHERE clause points to one of the keys (see below)."
   ]
  },
  {
   "cell_type": "code",
   "execution_count": 8,
   "metadata": {
    "slideshow": {
     "slide_type": "slide"
    }
   },
   "outputs": [
    {
     "data": {
      "text/plain": [
       "<cassandra.cluster.ResultSet at 0x107c50490>"
      ]
     },
     "execution_count": 8,
     "metadata": {},
     "output_type": "execute_result"
    }
   ],
   "source": [
    "# Create a new table (observe keys)\n",
    "session.execute(\"DROP TABLE IF EXISTS my_first_keyspace.car_table;\")\n",
    "session.execute(\"CREATE TABLE IF NOT EXISTS car_table (company text, model text, PRIMARY KEY(company, model));\")"
   ]
  },
  {
   "cell_type": "code",
   "execution_count": 9,
   "metadata": {
    "slideshow": {
     "slide_type": "fragment"
    }
   },
   "outputs": [
    {
     "data": {
      "text/plain": [
       "<cassandra.cluster.ResultSet at 0x109a3cc10>"
      ]
     },
     "execution_count": 9,
     "metadata": {},
     "output_type": "execute_result"
    }
   ],
   "source": [
    "# Insert some data (combination of company and model must be unique)\n",
    "session.execute(\"INSERT INTO car_table (company, model) VALUES ('Tesla', 'Model S');\")\n",
    "session.execute(\"INSERT INTO car_table (company, model) VALUES ('Tesla', 'Model 3');\")\n",
    "session.execute(\"INSERT INTO car_table (company, model) VALUES ('Polestar', '3');\")\n",
    "session.execute(\"INSERT INTO car_table (company, model) VALUES ('Volkswagen', 'ID.4');\")"
   ]
  },
  {
   "cell_type": "code",
   "execution_count": 10,
   "metadata": {
    "slideshow": {
     "slide_type": "slide"
    }
   },
   "outputs": [
    {
     "name": "stdout",
     "output_type": "stream",
     "text": [
      "Row(company='Tesla', model='Model 3')\n",
      "Row(company='Tesla', model='Model S')\n"
     ]
    }
   ],
   "source": [
    "# More specific query now works\n",
    "prepared_statement = session.prepare(\"SELECT * FROM car_table WHERE company=?;\")\n",
    "teslas = session.execute(prepared_statement, ['Tesla'])\n",
    "for i in teslas:\n",
    "    print(i)"
   ]
  },
  {
   "cell_type": "markdown",
   "metadata": {
    "slideshow": {
     "slide_type": "slide"
    }
   },
   "source": [
    "### Partitions\n",
    "- Cassandra databases are usually replicated over different nodes.\n",
    "- Data is stored in partitions (subsets) which have local copys.\n",
    "- The primary key, e.g., PRIMARY KEY(company, model), is used in partitioning.\n",
    "    - The first part, e.g., company, is most important.\n",
    "    - All cars from a company will be located together, aiming for quicker queries."
   ]
  },
  {
   "cell_type": "markdown",
   "metadata": {
    "slideshow": {
     "slide_type": "slide"
    }
   },
   "source": [
    "### Unique IDs \n",
    "- In MySQL one could use the attribute AUTO_INCREMENT on integer IDs to automatically make a new unique index when inserting data.\n",
    "- This would cause unreasonable overhead in a distributed database.\n",
    "- [UUID](https://en.wikipedia.org/wiki/Universally_unique_identifier)s are used instead.\n",
    "    - Universally Unique Identifiers are typically 128-bit random bit sequences with extremely low probability of duplication.\n",
    "    - Cassandra uses a [timeuuid](https://docs.datastax.com/en/cql-oss/3.3/cql/cql_reference/timeuuid_functions_r.html) type to combine a timestamp and uuid in one."
   ]
  },
  {
   "cell_type": "code",
   "execution_count": 11,
   "metadata": {
    "slideshow": {
     "slide_type": "fragment"
    }
   },
   "outputs": [
    {
     "data": {
      "text/plain": [
       "<cassandra.cluster.ResultSet at 0x109a477d0>"
      ]
     },
     "execution_count": 11,
     "metadata": {},
     "output_type": "execute_result"
    }
   ],
   "source": [
    "# Create a new table (first time only)\n",
    "session.set_keyspace('my_first_keyspace')\n",
    "session.execute(\"DROP TABLE IF EXISTS my_first_keyspace.table_with_uuid;\")\n",
    "session.execute(\"CREATE TABLE IF NOT EXISTS table_with_uuid (id timeuuid PRIMARY KEY, company text, model text, price float);\")"
   ]
  },
  {
   "cell_type": "code",
   "execution_count": 12,
   "metadata": {
    "slideshow": {
     "slide_type": "slide"
    }
   },
   "outputs": [
    {
     "data": {
      "text/plain": [
       "<cassandra.cluster.ResultSet at 0x109a60fd0>"
      ]
     },
     "execution_count": 12,
     "metadata": {},
     "output_type": "execute_result"
    }
   ],
   "source": [
    "session.execute(\"INSERT INTO table_with_uuid (id, company, model, price) VALUES (now(), 'Tesla', 'Model S', 20000.0);\")\n",
    "session.execute(\"INSERT INTO table_with_uuid (id, company, model, price) VALUES (now(), 'Tesla', 'Model S', 21000.0);\")\n",
    "session.execute(\"INSERT INTO table_with_uuid (id, company, model, price) VALUES (now(), 'Oldsmobile', 'Model 6C', 135000.0);\")"
   ]
  },
  {
   "cell_type": "code",
   "execution_count": 13,
   "metadata": {
    "slideshow": {
     "slide_type": "slide"
    }
   },
   "outputs": [
    {
     "name": "stdout",
     "output_type": "stream",
     "text": [
      "Row(id=UUID('86e464f0-7188-11ee-8b2f-4f23491759a5'), company='Oldsmobile', model='Model 6C', price=135000.0)\n",
      "Datetime: 2023-10-23 09:42:48.767000\n",
      "Row(id=UUID('86e3efc0-7188-11ee-8b2f-4f23491759a5'), company='Tesla', model='Model S', price=20000.0)\n",
      "Datetime: 2023-10-23 09:42:48.764000\n",
      "Row(id=UUID('86e43de0-7188-11ee-8b2f-4f23491759a5'), company='Tesla', model='Model S', price=21000.0)\n",
      "Datetime: 2023-10-23 09:42:48.766000\n"
     ]
    }
   ],
   "source": [
    "from cassandra.util import datetime_from_uuid1\n",
    "\n",
    "# Query the data\n",
    "rows = session.execute(\"SELECT * FROM table_with_uuid;\")\n",
    "for i in rows:\n",
    "    print(i)\n",
    "    # Extract the timestamp from Cassandra's timeuuid\n",
    "    print(\"Datetime:\", datetime_from_uuid1(i.id))"
   ]
  },
  {
   "cell_type": "markdown",
   "metadata": {
    "slideshow": {
     "slide_type": "slide"
    }
   },
   "source": [
    "## JSON in Cassandra\n",
    "### Read previously saved JSON file forecast.json to memory"
   ]
  },
  {
   "cell_type": "code",
   "execution_count": 14,
   "metadata": {
    "slideshow": {
     "slide_type": "-"
    }
   },
   "outputs": [],
   "source": [
    "import json\n",
    "with open('../3_APIs/downloads/forecast.json', 'r') as f:\n",
    "    forecast = json.load(f)"
   ]
  },
  {
   "cell_type": "code",
   "execution_count": 15,
   "metadata": {
    "slideshow": {
     "slide_type": "slide"
    }
   },
   "outputs": [
    {
     "data": {
      "text/plain": [
       "\"{'cod': '200', 'message': 0, 'cnt': 40, 'list': [{'dt': 1698062400, 'main': {'temp': 278.55, 'feels_like': 278.55, 'temp_min': 278.55, 'temp_max': 280.34, 'pressure': 1012, 'sea_level': 1012, 'grnd_level': 994, 'humidity': 89, 'temp_kf': -1.79}, 'weather': [{'id': 804, 'main': 'Clouds', 'description': 'overcast clouds', 'icon': '04d'}], 'clouds': {'all': 99}, 'wind': {'speed': 0.48, 'deg': 83, 'gust': 0.74}, 'visibility': 10000, 'pop': 0, 'sys': {'pod': 'd'}, 'dt_txt': '2023-10-23 12:00:00'}, {'dt': 1698073200, 'main': {'temp': 277.83, 'feels_like': 277.83, 'temp_min': 277.83, 'temp_max': 277.92, 'pressure': 1013, 'sea_level': 1013, 'grnd_level': 995, 'humidity': 93, 'temp_kf': -0.09}, 'weather': [{'id': 803, 'main': 'Clouds', 'description': 'broken clouds', 'icon': '04d'}], 'clouds': {'all': 61}, 'wind': {'speed': 0.34, 'deg': 117, 'gust': 0.41}, 'visibility': 10000, 'pop': 0, 'sys': {'pod': 'd'}, 'dt_txt': '2023-10-23 15:00:00'}, {'dt': 1698084000, 'main': {'temp': 276.05, 'feels_like': 274.83, 'temp_min': 276.05, 'temp_max': 276.05, 'pressure': 1015, 'sea_level': 1015, 'grnd_level': 996, 'humidity': 94, 'temp_kf': 0}, 'weather': [{'id': 802, 'main': 'Clouds', 'description': 'scattered clouds', 'icon': '03n'}], 'clouds': {'all': 45}, 'wind': {'speed': 1.41, 'deg': 330, 'gust': 1.28}, 'visibility': 10000, 'pop': 0, 'sys': {'pod': 'n'}, 'dt_txt': '2023-10-23 18:00:00'}, {'dt': 1698094800, 'main': {'temp': 275.33, 'feels_like': 275.33, 'temp_min': 275.33, 'temp_max': 275.33, 'pressure': 1016, 'sea_level': 1016, 'grnd_level': 997, 'humidity': 94, 'temp_kf': 0}, 'weather': [{'id': 802, 'main': 'Clouds', 'description': 'scattered clouds', 'icon': '03n'}], 'clouds': {'all': 47}, 'wind': {'speed': 1.27, 'deg': 351, 'gust': 1.2}, 'visibility': 10000, 'pop': 0, 'sys': {'pod': 'n'}, 'dt_txt': '2023-10-23 21:00:00'}, {'dt': 1698105600, 'main': {'temp': 274.99, 'feels_like': 274.99, 'temp_min': 274.99, 'temp_max': 274.99, 'pressure': 1017, 'sea_level': 1017, 'grnd_level': 998, 'humidity': 93, 'temp_kf': 0}, 'weather': [{'id': 802, 'main': 'Clouds', 'description': 'scattered clouds', 'icon': '03n'}], 'clouds': {'all': 33}, 'wind': {'speed': 1.25, 'deg': 349, 'gust': 1.16}, 'visibility': 10000, 'pop': 0, 'sys': {'pod': 'n'}, 'dt_txt': '2023-10-24 00:00:00'}, {'dt': 1698116400, 'main': {'temp': 274.44, 'feels_like': 274.44, 'temp_min': 274.44, 'temp_max': 274.44, 'pressure': 1018, 'sea_level': 1018, 'grnd_level': 999, 'humidity': 94, 'temp_kf': 0}, 'weather': [{'id': 802, 'main': 'Clouds', 'description': 'scattered clouds', 'icon': '03n'}], 'clouds': {'all': 32}, 'wind': {'speed': 0.88, 'deg': 16, 'gust': 0.81}, 'visibility': 10000, 'pop': 0, 'sys': {'pod': 'n'}, 'dt_txt': '2023-10-24 03:00:00'}, {'dt': 1698127200, 'main': {'temp': 274.39, 'feels_like': 274.39, 'temp_min': 274.39, 'temp_max': 274.39, 'pressure': 1019, 'sea_level': 1019, 'grnd_level': 1000, 'humidity': 95, 'temp_kf': 0}, 'weather': [{'id': 802, 'main': 'Clouds', 'description': 'scattered clouds', 'icon': '03n'}], 'clouds': {'all': 44}, 'wind': {'speed': 1.14, 'deg': 9, 'gust': 1.08}, 'visibility': 10000, 'pop': 0, 'sys': {'pod': 'n'}, 'dt_txt': '2023-10-24 06:00:00'}, {'dt': 1698138000, 'main': {'temp': 276.47, 'feels_like': 276.47, 'temp_min': 276.47, 'temp_max': 276.47, 'pressure': 1019, 'sea_level': 1019, 'grnd_level': 1000, 'humidity': 90, 'temp_kf': 0}, 'weather': [{'id': 804, 'main': 'Clouds', 'description': 'overcast clouds', 'icon': '04d'}], 'clouds': {'all': 99}, 'wind': {'speed': 0.55, 'deg': 47, 'gust': 0.83}, 'visibility': 10000, 'pop': 0, 'sys': {'pod': 'd'}, 'dt_txt': '2023-10-24 09:00:00'}, {'dt': 1698148800, 'main': {'temp': 276.57, 'feels_like': 276.57, 'temp_min': 276.57, 'temp_max': 276.57, 'pressure': 1019, 'sea_level': 1019, 'grnd_level': 1000, 'humidity': 95, 'temp_kf': 0}, 'weather': [{'id': 804, 'main': 'Clouds', 'description': 'overcast clouds', 'icon': '04d'}], 'clouds': {'all': 99}, 'wind': {'speed': 0.68, 'deg': 44, 'gust': 1.03}, 'visibility': 10000, 'pop': 0, 'sys': {'pod': 'd'}, 'dt_txt': '2023-10-24 12:00:00'}, {'dt': 1698159600, 'main': {'temp': 276.36, 'feels_like': 276.36, 'temp_min': 276.36, 'temp_max': 276.36, 'pressure': 1018, 'sea_level': 1018, 'grnd_level': 999, 'humidity': 98, 'temp_kf': 0}, 'weather': [{'id': 804, 'main': 'Clouds', 'description': 'overcast clouds', 'icon': '04d'}], 'clouds': {'all': 100}, 'wind': {'speed': 0.81, 'deg': 39, 'gust': 1.15}, 'visibility': 3486, 'pop': 0.02, 'sys': {'pod': 'd'}, 'dt_txt': '2023-10-24 15:00:00'}, {'dt': 1698170400, 'main': {'temp': 276.34, 'feels_like': 276.34, 'temp_min': 276.34, 'temp_max': 276.34, 'pressure': 1018, 'sea_level': 1018, 'grnd_level': 999, 'humidity': 99, 'temp_kf': 0}, 'weather': [{'id': 804, 'main': 'Clouds', 'description': 'overcast clouds', 'icon': '04n'}], 'clouds': {'all': 100}, 'wind': {'speed': 0.8, 'deg': 47, 'gust': 1.44}, 'visibility': 925, 'pop': 0.06, 'sys': {'pod': 'n'}, 'dt_txt': '2023-10-24 18:00:00'}, {'dt': 1698181200, 'main': {'temp': 276.35, 'feels_like': 276.35, 'temp_min': 276.35, 'temp_max': 276.35, 'pressure': 1018, 'sea_level': 1018, 'grnd_level': 999, 'humidity': 99, 'temp_kf': 0}, 'weather': [{'id': 804, 'main': 'Clouds', 'description': 'overcast clouds', 'icon': '04n'}], 'clouds': {'all': 100}, 'wind': {'speed': 1.01, 'deg': 45, 'gust': 1.86}, 'visibility': 568, 'pop': 0.09, 'sys': {'pod': 'n'}, 'dt_txt': '2023-10-24 21:00:00'}, {'dt': 1698192000, 'main': {'temp': 276.14, 'feels_like': 276.14, 'temp_min': 276.14, 'temp_max': 276.14, 'pressure': 1018, 'sea_level': 1018, 'grnd_level': 999, 'humidity': 99, 'temp_kf': 0}, 'weather': [{'id': 600, 'main': 'Snow', 'description': 'light snow', 'icon': '13n'}], 'clouds': {'all': 100}, 'wind': {'speed': 0.85, 'deg': 74, 'gust': 1.96}, 'visibility': 517, 'pop': 0.23, 'snow': {'3h': 0.31}, 'sys': {'pod': 'n'}, 'dt_txt': '2023-10-25 00:00:00'}, {'dt': 1698202800, 'main': {'temp': 275.87, 'feels_like': 275.87, 'temp_min': 275.87, 'temp_max': 275.87, 'pressure': 1017, 'sea_level': 1017, 'grnd_level': 998, 'humidity': 99, 'temp_kf': 0}, 'weather': [{'id': 600, 'main': 'Snow', 'description': 'light snow', 'icon': '13n'}], 'clouds': {'all': 100}, 'wind': {'speed': 0.91, 'deg': 70, 'gust': 1.96}, 'visibility': 524, 'pop': 0.22, 'snow': {'3h': 0.14}, 'sys': {'pod': 'n'}, 'dt_txt': '2023-10-25 03:00:00'}, {'dt': 1698213600, 'main': {'temp': 275.53, 'feels_like': 275.53, 'temp_min': 275.53, 'temp_max': 275.53, 'pressure': 1016, 'sea_level': 1016, 'grnd_level': 998, 'humidity': 98, 'temp_kf': 0}, 'weather': [{'id': 600, 'main': 'Snow', 'description': 'light snow', 'icon': '13n'}], 'clouds': {'all': 100}, 'wind': {'speed': 1.06, 'deg': 51, 'gust': 2.48}, 'visibility': 361, 'pop': 0.22, 'snow': {'3h': 0.2}, 'sys': {'pod': 'n'}, 'dt_txt': '2023-10-25 06:00:00'}, {'dt': 1698224400, 'main': {'temp': 275.86, 'feels_like': 275.86, 'temp_min': 275.86, 'temp_max': 275.86, 'pressure': 1016, 'sea_level': 1016, 'grnd_level': 997, 'humidity': 92, 'temp_kf': 0}, 'weather': [{'id': 600, 'main': 'Snow', 'description': 'light snow', 'icon': '13d'}], 'clouds': {'all': 100}, 'wind': {'speed': 1.27, 'deg': 52, 'gust': 3.46}, 'visibility': 7843, 'pop': 0.24, 'snow': {'3h': 0.17}, 'sys': {'pod': 'd'}, 'dt_txt': '2023-10-25 09:00:00'}, {'dt': 1698235200, 'main': {'temp': 276.65, 'feels_like': 275.41, 'temp_min': 276.65, 'temp_max': 276.65, 'pressure': 1015, 'sea_level': 1015, 'grnd_level': 996, 'humidity': 82, 'temp_kf': 0}, 'weather': [{'id': 600, 'main': 'Snow', 'description': 'light snow', 'icon': '13d'}], 'clouds': {'all': 100}, 'wind': {'speed': 1.48, 'deg': 46, 'gust': 3.15}, 'visibility': 10000, 'pop': 0.34, 'snow': {'3h': 0.15}, 'sys': {'pod': 'd'}, 'dt_txt': '2023-10-25 12:00:00'}, {'dt': 1698246000, 'main': {'temp': 275.62, 'feels_like': 275.62, 'temp_min': 275.62, 'temp_max': 275.62, 'pressure': 1014, 'sea_level': 1014, 'grnd_level': 995, 'humidity': 98, 'temp_kf': 0}, 'weather': [{'id': 600, 'main': 'Snow', 'description': 'light snow', 'icon': '13d'}], 'clouds': {'all': 100}, 'wind': {'speed': 0.86, 'deg': 51, 'gust': 1.51}, 'visibility': 121, 'pop': 0.42, 'snow': {'3h': 0.22}, 'sys': {'pod': 'd'}, 'dt_txt': '2023-10-25 15:00:00'}, {'dt': 1698256800, 'main': {'temp': 275.39, 'feels_like': 275.39, 'temp_min': 275.39, 'temp_max': 275.39, 'pressure': 1014, 'sea_level': 1014, 'grnd_level': 995, 'humidity': 99, 'temp_kf': 0}, 'weather': [{'id': 600, 'main': 'Snow', 'description': 'light snow', 'icon': '13n'}], 'clouds': {'all': 100}, 'wind': {'speed': 1.16, 'deg': 31, 'gust': 1.87}, 'visibility': 67, 'pop': 0.82, 'snow': {'3h': 0.92}, 'sys': {'pod': 'n'}, 'dt_txt': '2023-10-25 18:00:00'}, {'dt': 1698267600, 'main': {'temp': 275.08, 'feels_like': 275.08, 'temp_min': 275.08, 'temp_max': 275.08, 'pressure': 1012, 'sea_level': 1012, 'grnd_level': 994, 'humidity': 99, 'temp_kf': 0}, 'weather': [{'id': 600, 'main': 'Snow', 'description': 'light snow', 'icon': '13n'}], 'clouds': {'all': 100}, 'wind': {'speed': 1.24, 'deg': 20, 'gust': 1.96}, 'visibility': 109, 'pop': 0.89, 'snow': {'3h': 0.8}, 'sys': {'pod': 'n'}, 'dt_txt': '2023-10-25 21:00:00'}, {'dt': 1698278400, 'main': {'temp': 274.85, 'feels_like': 274.85, 'temp_min': 274.85, 'temp_max': 274.85, 'pressure': 1011, 'sea_level': 1011, 'grnd_level': 992, 'humidity': 98, 'temp_kf': 0}, 'weather': [{'id': 600, 'main': 'Snow', 'description': 'light snow', 'icon': '13n'}], 'clouds': {'all': 100}, 'wind': {'speed': 1.07, 'deg': 23, 'gust': 1.53}, 'visibility': 164, 'pop': 0.78, 'snow': {'3h': 0.49}, 'sys': {'pod': 'n'}, 'dt_txt': '2023-10-26 00:00:00'}, {'dt': 1698289200, 'main': {'temp': 274.1, 'feels_like': 274.1, 'temp_min': 274.1, 'temp_max': 274.1, 'pressure': 1010, 'sea_level': 1010, 'grnd_level': 991, 'humidity': 99, 'temp_kf': 0}, 'weather': [{'id': 600, 'main': 'Snow', 'description': 'light snow', 'icon': '13n'}], 'clouds': {'all': 100}, 'wind': {'speed': 1.17, 'deg': 14, 'gust': 1.53}, 'visibility': 433, 'pop': 0.39, 'snow': {'3h': 0.36}, 'sys': {'pod': 'n'}, 'dt_txt': '2023-10-26 03:00:00'}, {'dt': 1698300000, 'main': {'temp': 274.28, 'feels_like': 274.28, 'temp_min': 274.28, 'temp_max': 274.28, 'pressure': 1008, 'sea_level': 1008, 'grnd_level': 989, 'humidity': 97, 'temp_kf': 0}, 'weather': [{'id': 600, 'main': 'Snow', 'description': 'light snow', 'icon': '13n'}], 'clouds': {'all': 100}, 'wind': {'speed': 1.01, 'deg': 18, 'gust': 1.59}, 'visibility': 1200, 'pop': 0.41, 'snow': {'3h': 0.22}, 'sys': {'pod': 'n'}, 'dt_txt': '2023-10-26 06:00:00'}, {'dt': 1698310800, 'main': {'temp': 275.39, 'feels_like': 275.39, 'temp_min': 275.39, 'temp_max': 275.39, 'pressure': 1007, 'sea_level': 1007, 'grnd_level': 988, 'humidity': 91, 'temp_kf': 0}, 'weather': [{'id': 600, 'main': 'Snow', 'description': 'light snow', 'icon': '13d'}], 'clouds': {'all': 99}, 'wind': {'speed': 0.84, 'deg': 39, 'gust': 1.25}, 'visibility': 5817, 'pop': 0.28, 'snow': {'3h': 0.14}, 'sys': {'pod': 'd'}, 'dt_txt': '2023-10-26 09:00:00'}, {'dt': 1698321600, 'main': {'temp': 276.07, 'feels_like': 276.07, 'temp_min': 276.07, 'temp_max': 276.07, 'pressure': 1005, 'sea_level': 1005, 'grnd_level': 987, 'humidity': 91, 'temp_kf': 0}, 'weather': [{'id': 600, 'main': 'Snow', 'description': 'light snow', 'icon': '13d'}], 'clouds': {'all': 99}, 'wind': {'speed': 0.71, 'deg': 70, 'gust': 0.97}, 'visibility': 10000, 'pop': 0.28, 'snow': {'3h': 0.1}, 'sys': {'pod': 'd'}, 'dt_txt': '2023-10-26 12:00:00'}, {'dt': 1698332400, 'main': {'temp': 275.65, 'feels_like': 275.65, 'temp_min': 275.65, 'temp_max': 275.65, 'pressure': 1004, 'sea_level': 1004, 'grnd_level': 985, 'humidity': 97, 'temp_kf': 0}, 'weather': [{'id': 804, 'main': 'Clouds', 'description': 'overcast clouds', 'icon': '04d'}], 'clouds': {'all': 99}, 'wind': {'speed': 0.58, 'deg': 94, 'gust': 0.8}, 'visibility': 1136, 'pop': 0, 'sys': {'pod': 'd'}, 'dt_txt': '2023-10-26 15:00:00'}, {'dt': 1698343200, 'main': {'temp': 275.48, 'feels_like': 275.48, 'temp_min': 275.48, 'temp_max': 275.48, 'pressure': 1003, 'sea_level': 1003, 'grnd_level': 984, 'humidity': 99, 'temp_kf': 0}, 'weather': [{'id': 600, 'main': 'Snow', 'description': 'light snow', 'icon': '13n'}], 'clouds': {'all': 99}, 'wind': {'speed': 0.52, 'deg': 46, 'gust': 0.76}, 'visibility': 225, 'pop': 0.21, 'snow': {'3h': 0.14}, 'sys': {'pod': 'n'}, 'dt_txt': '2023-10-26 18:00:00'}, {'dt': 1698354000, 'main': {'temp': 275.41, 'feels_like': 275.41, 'temp_min': 275.41, 'temp_max': 275.41, 'pressure': 1002, 'sea_level': 1002, 'grnd_level': 984, 'humidity': 99, 'temp_kf': 0}, 'weather': [{'id': 600, 'main': 'Snow', 'description': 'light snow', 'icon': '13n'}], 'clouds': {'all': 100}, 'wind': {'speed': 0.71, 'deg': 28, 'gust': 0.92}, 'visibility': 137, 'pop': 0.29, 'snow': {'3h': 0.2}, 'sys': {'pod': 'n'}, 'dt_txt': '2023-10-26 21:00:00'}, {'dt': 1698364800, 'main': {'temp': 274.86, 'feels_like': 274.86, 'temp_min': 274.86, 'temp_max': 274.86, 'pressure': 1001, 'sea_level': 1001, 'grnd_level': 983, 'humidity': 99, 'temp_kf': 0}, 'weather': [{'id': 600, 'main': 'Snow', 'description': 'light snow', 'icon': '13n'}], 'clouds': {'all': 100}, 'wind': {'speed': 1.16, 'deg': 6, 'gust': 1.45}, 'visibility': 411, 'pop': 0.29, 'snow': {'3h': 0.11}, 'sys': {'pod': 'n'}, 'dt_txt': '2023-10-27 00:00:00'}, {'dt': 1698375600, 'main': {'temp': 274.3, 'feels_like': 274.3, 'temp_min': 274.3, 'temp_max': 274.3, 'pressure': 1000, 'sea_level': 1000, 'grnd_level': 982, 'humidity': 99, 'temp_kf': 0}, 'weather': [{'id': 500, 'main': 'Rain', 'description': 'light rain', 'icon': '10n'}], 'clouds': {'all': 99}, 'wind': {'speed': 1.33, 'deg': 355, 'gust': 1.48}, 'visibility': 630, 'pop': 0.23, 'rain': {'3h': 0.11}, 'sys': {'pod': 'n'}, 'dt_txt': '2023-10-27 03:00:00'}, {'dt': 1698386400, 'main': {'temp': 274.14, 'feels_like': 272.67, 'temp_min': 274.14, 'temp_max': 274.14, 'pressure': 1000, 'sea_level': 1000, 'grnd_level': 981, 'humidity': 99, 'temp_kf': 0}, 'weather': [{'id': 600, 'main': 'Snow', 'description': 'light snow', 'icon': '13n'}], 'clouds': {'all': 99}, 'wind': {'speed': 1.41, 'deg': 0, 'gust': 1.84}, 'visibility': 386, 'pop': 0.39, 'snow': {'3h': 0.34}, 'sys': {'pod': 'n'}, 'dt_txt': '2023-10-27 06:00:00'}, {'dt': 1698397200, 'main': {'temp': 275.86, 'feels_like': 275.86, 'temp_min': 275.86, 'temp_max': 275.86, 'pressure': 999, 'sea_level': 999, 'grnd_level': 981, 'humidity': 95, 'temp_kf': 0}, 'weather': [{'id': 600, 'main': 'Snow', 'description': 'light snow', 'icon': '13d'}], 'clouds': {'all': 100}, 'wind': {'speed': 1.01, 'deg': 36, 'gust': 1.53}, 'visibility': 243, 'pop': 0.68, 'snow': {'3h': 0.4}, 'sys': {'pod': 'd'}, 'dt_txt': '2023-10-27 09:00:00'}, {'dt': 1698408000, 'main': {'temp': 276.7, 'feels_like': 276.7, 'temp_min': 276.7, 'temp_max': 276.7, 'pressure': 998, 'sea_level': 998, 'grnd_level': 980, 'humidity': 91, 'temp_kf': 0}, 'weather': [{'id': 600, 'main': 'Snow', 'description': 'light snow', 'icon': '13d'}], 'clouds': {'all': 100}, 'wind': {'speed': 1.21, 'deg': 38, 'gust': 2.29}, 'visibility': 6788, 'pop': 0.62, 'snow': {'3h': 0.3}, 'sys': {'pod': 'd'}, 'dt_txt': '2023-10-27 12:00:00'}, {'dt': 1698418800, 'main': {'temp': 275.91, 'feels_like': 275.91, 'temp_min': 275.91, 'temp_max': 275.91, 'pressure': 998, 'sea_level': 998, 'grnd_level': 979, 'humidity': 98, 'temp_kf': 0}, 'weather': [{'id': 600, 'main': 'Snow', 'description': 'light snow', 'icon': '13d'}], 'clouds': {'all': 100}, 'wind': {'speed': 1.24, 'deg': 31, 'gust': 2.24}, 'visibility': 152, 'pop': 0.55, 'snow': {'3h': 0.29}, 'sys': {'pod': 'd'}, 'dt_txt': '2023-10-27 15:00:00'}, {'dt': 1698429600, 'main': {'temp': 275.13, 'feels_like': 272.89, 'temp_min': 275.13, 'temp_max': 275.13, 'pressure': 998, 'sea_level': 998, 'grnd_level': 979, 'humidity': 97, 'temp_kf': 0}, 'weather': [{'id': 600, 'main': 'Snow', 'description': 'light snow', 'icon': '13n'}], 'clouds': {'all': 100}, 'wind': {'speed': 2.1, 'deg': 358, 'gust': 4.3}, 'visibility': 1028, 'pop': 0.69, 'snow': {'3h': 0.32}, 'sys': {'pod': 'n'}, 'dt_txt': '2023-10-27 18:00:00'}, {'dt': 1698440400, 'main': {'temp': 275.05, 'feels_like': 272.52, 'temp_min': 275.05, 'temp_max': 275.05, 'pressure': 997, 'sea_level': 997, 'grnd_level': 978, 'humidity': 97, 'temp_kf': 0}, 'weather': [{'id': 600, 'main': 'Snow', 'description': 'light snow', 'icon': '13n'}], 'clouds': {'all': 100}, 'wind': {'speed': 2.36, 'deg': 357, 'gust': 5.08}, 'visibility': 220, 'pop': 0.86, 'snow': {'3h': 0.78}, 'sys': {'pod': 'n'}, 'dt_txt': '2023-10-27 21:00:00'}, {'dt': 1698451200, 'main': {'temp': 275.09, 'feels_like': 272.86, 'temp_min': 275.09, 'temp_max': 275.09, 'pressure': 996, 'sea_level': 996, 'grnd_level': 978, 'humidity': 98, 'temp_kf': 0}, 'weather': [{'id': 600, 'main': 'Snow', 'description': 'light snow', 'icon': '13n'}], 'clouds': {'all': 100}, 'wind': {'speed': 2.08, 'deg': 5, 'gust': 4.55}, 'visibility': 181, 'pop': 1, 'snow': {'3h': 1.27}, 'sys': {'pod': 'n'}, 'dt_txt': '2023-10-28 00:00:00'}, {'dt': 1698462000, 'main': {'temp': 274.96, 'feels_like': 272.71, 'temp_min': 274.96, 'temp_max': 274.96, 'pressure': 995, 'sea_level': 995, 'grnd_level': 977, 'humidity': 98, 'temp_kf': 0}, 'weather': [{'id': 601, 'main': 'Snow', 'description': 'snow', 'icon': '13n'}], 'clouds': {'all': 100}, 'wind': {'speed': 2.08, 'deg': 3, 'gust': 4.56}, 'visibility': 107, 'pop': 1, 'snow': {'3h': 2.04}, 'sys': {'pod': 'n'}, 'dt_txt': '2023-10-28 03:00:00'}, {'dt': 1698472800, 'main': {'temp': 274.85, 'feels_like': 272.82, 'temp_min': 274.85, 'temp_max': 274.85, 'pressure': 995, 'sea_level': 995, 'grnd_level': 976, 'humidity': 98, 'temp_kf': 0}, 'weather': [{'id': 601, 'main': 'Snow', 'description': 'snow', 'icon': '13n'}], 'clouds': {'all': 100}, 'wind': {'speed': 1.88, 'deg': 7, 'gust': 3.97}, 'visibility': 118, 'pop': 1, 'snow': {'3h': 2.18}, 'sys': {'pod': 'n'}, 'dt_txt': '2023-10-28 06:00:00'}, {'dt': 1698483600, 'main': {'temp': 275.44, 'feels_like': 273.65, 'temp_min': 275.44, 'temp_max': 275.44, 'pressure': 995, 'sea_level': 995, 'grnd_level': 976, 'humidity': 97, 'temp_kf': 0}, 'weather': [{'id': 601, 'main': 'Snow', 'description': 'snow', 'icon': '13d'}], 'clouds': {'all': 100}, 'wind': {'speed': 1.76, 'deg': 16, 'gust': 3.42}, 'visibility': 121, 'pop': 1, 'snow': {'3h': 1.8}, 'sys': {'pod': 'd'}, 'dt_txt': '2023-10-28 09:00:00'}], 'city': {'id': 3144113, 'name': 'Noresund', 'coord': {'lat': 60.1803, 'lon': 9.6231}, 'country': 'NO', 'population': 1000, 'timezone': 7200, 'sunrise': 1698041999, 'sunset': 1698076290}}\""
      ]
     },
     "execution_count": 15,
     "metadata": {},
     "output_type": "execute_result"
    }
   ],
   "source": [
    "# Inspect JSON file\n",
    "forecast.__str__()"
   ]
  },
  {
   "cell_type": "markdown",
   "metadata": {
    "slideshow": {
     "slide_type": "slide"
    }
   },
   "source": [
    "## Raw JSON\n",
    "- A simple, but not very efficient way of storing JSON data is to treat it as a text and save it directly to the database.  \n",
    "- More efficient, with regard to transfer, is to compress the JSON data to a blob first.\n",
    "    - Compression is automatic."
   ]
  },
  {
   "cell_type": "code",
   "execution_count": 16,
   "metadata": {
    "slideshow": {
     "slide_type": "-"
    }
   },
   "outputs": [
    {
     "data": {
      "text/plain": [
       "<cassandra.cluster.ResultSet at 0x108ed41d0>"
      ]
     },
     "execution_count": 16,
     "metadata": {},
     "output_type": "execute_result"
    }
   ],
   "source": [
    "# Create a new table which treats the whole JSON as a blob, using the city id and the first dt as keys\n",
    "session.set_keyspace('my_first_keyspace')\n",
    "session.execute(\"DROP TABLE IF EXISTS my_first_keyspace.forecast_table;\")\n",
    "session.execute(\"CREATE TABLE IF NOT EXISTS forecast_table (city_id int, dt int, forecast blob, PRIMARY KEY(city_id, dt));\")"
   ]
  },
  {
   "cell_type": "markdown",
   "metadata": {
    "slideshow": {
     "slide_type": "slide"
    }
   },
   "source": [
    "### Insert the forecast data into the table as text blob"
   ]
  },
  {
   "cell_type": "code",
   "execution_count": 17,
   "metadata": {
    "slideshow": {
     "slide_type": "-"
    }
   },
   "outputs": [
    {
     "data": {
      "text/plain": [
       "<cassandra.cluster.ResultSet at 0x109a38910>"
      ]
     },
     "execution_count": 17,
     "metadata": {},
     "output_type": "execute_result"
    }
   ],
   "source": [
    "session.execute(\"INSERT INTO forecast_table (city_id, dt, forecast) VALUES (%s, %s, textAsBlob(%s));\", (forecast['city']['id'], forecast['list'][0]['dt'], forecast.__str__()))"
   ]
  },
  {
   "cell_type": "code",
   "execution_count": 18,
   "metadata": {
    "slideshow": {
     "slide_type": "slide"
    }
   },
   "outputs": [
    {
     "name": "stdout",
     "output_type": "stream",
     "text": [
      "Row(city_id=3144113, dt=1698062400, forecast=b\"{'cod': '200', 'message': 0, 'cnt': 40, 'list': [{'dt': 1698062400, 'main': {'temp': 278.55, 'feels_like': 278.55, 'temp_min': 278.55, 'temp_max': 280.34, 'pressure': 1012, 'sea_level': 1012, 'grnd_level': 994, 'humidity': 89, 'temp_kf': -1.79}, 'weather': [{'id': 804, 'main': 'Clouds', 'description': 'overcast clouds', 'icon': '04d'}], 'clouds': {'all': 99}, 'wind': {'speed': 0.48, 'deg': 83, 'gust': 0.74}, 'visibility': 10000, 'pop': 0, 'sys': {'pod': 'd'}, 'dt_txt': '2023-10-23 12:00:00'}, {'dt': 1698073200, 'main': {'temp': 277.83, 'feels_like': 277.83, 'temp_min': 277.83, 'temp_max': 277.92, 'pressure': 1013, 'sea_level': 1013, 'grnd_level': 995, 'humidity': 93, 'temp_kf': -0.09}, 'weather': [{'id': 803, 'main': 'Clouds', 'description': 'broken clouds', 'icon': '04d'}], 'clouds': {'all': 61}, 'wind': {'speed': 0.34, 'deg': 117, 'gust': 0.41}, 'visibility': 10000, 'pop': 0, 'sys': {'pod': 'd'}, 'dt_txt': '2023-10-23 15:00:00'}, {'dt': 1698084000, 'main': {'temp': 276.05, 'feels_like': 274.83, 'temp_min': 276.05, 'temp_max': 276.05, 'pressure': 1015, 'sea_level': 1015, 'grnd_level': 996, 'humidity': 94, 'temp_kf': 0}, 'weather': [{'id': 802, 'main': 'Clouds', 'description': 'scattered clouds', 'icon': '03n'}], 'clouds': {'all': 45}, 'wind': {'speed': 1.41, 'deg': 330, 'gust': 1.28}, 'visibility': 10000, 'pop': 0, 'sys': {'pod': 'n'}, 'dt_txt': '2023-10-23 18:00:00'}, {'dt': 1698094800, 'main': {'temp': 275.33, 'feels_like': 275.33, 'temp_min': 275.33, 'temp_max': 275.33, 'pressure': 1016, 'sea_level': 1016, 'grnd_level': 997, 'humidity': 94, 'temp_kf': 0}, 'weather': [{'id': 802, 'main': 'Clouds', 'description': 'scattered clouds', 'icon': '03n'}], 'clouds': {'all': 47}, 'wind': {'speed': 1.27, 'deg': 351, 'gust': 1.2}, 'visibility': 10000, 'pop': 0, 'sys': {'pod': 'n'}, 'dt_txt': '2023-10-23 21:00:00'}, {'dt': 1698105600, 'main': {'temp': 274.99, 'feels_like': 274.99, 'temp_min': 274.99, 'temp_max': 274.99, 'pressure': 1017, 'sea_level': 1017, 'grnd_level': 998, 'humidity': 93, 'temp_kf': 0}, 'weather': [{'id': 802, 'main': 'Clouds', 'description': 'scattered clouds', 'icon': '03n'}], 'clouds': {'all': 33}, 'wind': {'speed': 1.25, 'deg': 349, 'gust': 1.16}, 'visibility': 10000, 'pop': 0, 'sys': {'pod': 'n'}, 'dt_txt': '2023-10-24 00:00:00'}, {'dt': 1698116400, 'main': {'temp': 274.44, 'feels_like': 274.44, 'temp_min': 274.44, 'temp_max': 274.44, 'pressure': 1018, 'sea_level': 1018, 'grnd_level': 999, 'humidity': 94, 'temp_kf': 0}, 'weather': [{'id': 802, 'main': 'Clouds', 'description': 'scattered clouds', 'icon': '03n'}], 'clouds': {'all': 32}, 'wind': {'speed': 0.88, 'deg': 16, 'gust': 0.81}, 'visibility': 10000, 'pop': 0, 'sys': {'pod': 'n'}, 'dt_txt': '2023-10-24 03:00:00'}, {'dt': 1698127200, 'main': {'temp': 274.39, 'feels_like': 274.39, 'temp_min': 274.39, 'temp_max': 274.39, 'pressure': 1019, 'sea_level': 1019, 'grnd_level': 1000, 'humidity': 95, 'temp_kf': 0}, 'weather': [{'id': 802, 'main': 'Clouds', 'description': 'scattered clouds', 'icon': '03n'}], 'clouds': {'all': 44}, 'wind': {'speed': 1.14, 'deg': 9, 'gust': 1.08}, 'visibility': 10000, 'pop': 0, 'sys': {'pod': 'n'}, 'dt_txt': '2023-10-24 06:00:00'}, {'dt': 1698138000, 'main': {'temp': 276.47, 'feels_like': 276.47, 'temp_min': 276.47, 'temp_max': 276.47, 'pressure': 1019, 'sea_level': 1019, 'grnd_level': 1000, 'humidity': 90, 'temp_kf': 0}, 'weather': [{'id': 804, 'main': 'Clouds', 'description': 'overcast clouds', 'icon': '04d'}], 'clouds': {'all': 99}, 'wind': {'speed': 0.55, 'deg': 47, 'gust': 0.83}, 'visibility': 10000, 'pop': 0, 'sys': {'pod': 'd'}, 'dt_txt': '2023-10-24 09:00:00'}, {'dt': 1698148800, 'main': {'temp': 276.57, 'feels_like': 276.57, 'temp_min': 276.57, 'temp_max': 276.57, 'pressure': 1019, 'sea_level': 1019, 'grnd_level': 1000, 'humidity': 95, 'temp_kf': 0}, 'weather': [{'id': 804, 'main': 'Clouds', 'description': 'overcast clouds', 'icon': '04d'}], 'clouds': {'all': 99}, 'wind': {'speed': 0.68, 'deg': 44, 'gust': 1.03}, 'visibility': 10000, 'pop': 0, 'sys': {'pod': 'd'}, 'dt_txt': '2023-10-24 12:00:00'}, {'dt': 1698159600, 'main': {'temp': 276.36, 'feels_like': 276.36, 'temp_min': 276.36, 'temp_max': 276.36, 'pressure': 1018, 'sea_level': 1018, 'grnd_level': 999, 'humidity': 98, 'temp_kf': 0}, 'weather': [{'id': 804, 'main': 'Clouds', 'description': 'overcast clouds', 'icon': '04d'}], 'clouds': {'all': 100}, 'wind': {'speed': 0.81, 'deg': 39, 'gust': 1.15}, 'visibility': 3486, 'pop': 0.02, 'sys': {'pod': 'd'}, 'dt_txt': '2023-10-24 15:00:00'}, {'dt': 1698170400, 'main': {'temp': 276.34, 'feels_like': 276.34, 'temp_min': 276.34, 'temp_max': 276.34, 'pressure': 1018, 'sea_level': 1018, 'grnd_level': 999, 'humidity': 99, 'temp_kf': 0}, 'weather': [{'id': 804, 'main': 'Clouds', 'description': 'overcast clouds', 'icon': '04n'}], 'clouds': {'all': 100}, 'wind': {'speed': 0.8, 'deg': 47, 'gust': 1.44}, 'visibility': 925, 'pop': 0.06, 'sys': {'pod': 'n'}, 'dt_txt': '2023-10-24 18:00:00'}, {'dt': 1698181200, 'main': {'temp': 276.35, 'feels_like': 276.35, 'temp_min': 276.35, 'temp_max': 276.35, 'pressure': 1018, 'sea_level': 1018, 'grnd_level': 999, 'humidity': 99, 'temp_kf': 0}, 'weather': [{'id': 804, 'main': 'Clouds', 'description': 'overcast clouds', 'icon': '04n'}], 'clouds': {'all': 100}, 'wind': {'speed': 1.01, 'deg': 45, 'gust': 1.86}, 'visibility': 568, 'pop': 0.09, 'sys': {'pod': 'n'}, 'dt_txt': '2023-10-24 21:00:00'}, {'dt': 1698192000, 'main': {'temp': 276.14, 'feels_like': 276.14, 'temp_min': 276.14, 'temp_max': 276.14, 'pressure': 1018, 'sea_level': 1018, 'grnd_level': 999, 'humidity': 99, 'temp_kf': 0}, 'weather': [{'id': 600, 'main': 'Snow', 'description': 'light snow', 'icon': '13n'}], 'clouds': {'all': 100}, 'wind': {'speed': 0.85, 'deg': 74, 'gust': 1.96}, 'visibility': 517, 'pop': 0.23, 'snow': {'3h': 0.31}, 'sys': {'pod': 'n'}, 'dt_txt': '2023-10-25 00:00:00'}, {'dt': 1698202800, 'main': {'temp': 275.87, 'feels_like': 275.87, 'temp_min': 275.87, 'temp_max': 275.87, 'pressure': 1017, 'sea_level': 1017, 'grnd_level': 998, 'humidity': 99, 'temp_kf': 0}, 'weather': [{'id': 600, 'main': 'Snow', 'description': 'light snow', 'icon': '13n'}], 'clouds': {'all': 100}, 'wind': {'speed': 0.91, 'deg': 70, 'gust': 1.96}, 'visibility': 524, 'pop': 0.22, 'snow': {'3h': 0.14}, 'sys': {'pod': 'n'}, 'dt_txt': '2023-10-25 03:00:00'}, {'dt': 1698213600, 'main': {'temp': 275.53, 'feels_like': 275.53, 'temp_min': 275.53, 'temp_max': 275.53, 'pressure': 1016, 'sea_level': 1016, 'grnd_level': 998, 'humidity': 98, 'temp_kf': 0}, 'weather': [{'id': 600, 'main': 'Snow', 'description': 'light snow', 'icon': '13n'}], 'clouds': {'all': 100}, 'wind': {'speed': 1.06, 'deg': 51, 'gust': 2.48}, 'visibility': 361, 'pop': 0.22, 'snow': {'3h': 0.2}, 'sys': {'pod': 'n'}, 'dt_txt': '2023-10-25 06:00:00'}, {'dt': 1698224400, 'main': {'temp': 275.86, 'feels_like': 275.86, 'temp_min': 275.86, 'temp_max': 275.86, 'pressure': 1016, 'sea_level': 1016, 'grnd_level': 997, 'humidity': 92, 'temp_kf': 0}, 'weather': [{'id': 600, 'main': 'Snow', 'description': 'light snow', 'icon': '13d'}], 'clouds': {'all': 100}, 'wind': {'speed': 1.27, 'deg': 52, 'gust': 3.46}, 'visibility': 7843, 'pop': 0.24, 'snow': {'3h': 0.17}, 'sys': {'pod': 'd'}, 'dt_txt': '2023-10-25 09:00:00'}, {'dt': 1698235200, 'main': {'temp': 276.65, 'feels_like': 275.41, 'temp_min': 276.65, 'temp_max': 276.65, 'pressure': 1015, 'sea_level': 1015, 'grnd_level': 996, 'humidity': 82, 'temp_kf': 0}, 'weather': [{'id': 600, 'main': 'Snow', 'description': 'light snow', 'icon': '13d'}], 'clouds': {'all': 100}, 'wind': {'speed': 1.48, 'deg': 46, 'gust': 3.15}, 'visibility': 10000, 'pop': 0.34, 'snow': {'3h': 0.15}, 'sys': {'pod': 'd'}, 'dt_txt': '2023-10-25 12:00:00'}, {'dt': 1698246000, 'main': {'temp': 275.62, 'feels_like': 275.62, 'temp_min': 275.62, 'temp_max': 275.62, 'pressure': 1014, 'sea_level': 1014, 'grnd_level': 995, 'humidity': 98, 'temp_kf': 0}, 'weather': [{'id': 600, 'main': 'Snow', 'description': 'light snow', 'icon': '13d'}], 'clouds': {'all': 100}, 'wind': {'speed': 0.86, 'deg': 51, 'gust': 1.51}, 'visibility': 121, 'pop': 0.42, 'snow': {'3h': 0.22}, 'sys': {'pod': 'd'}, 'dt_txt': '2023-10-25 15:00:00'}, {'dt': 1698256800, 'main': {'temp': 275.39, 'feels_like': 275.39, 'temp_min': 275.39, 'temp_max': 275.39, 'pressure': 1014, 'sea_level': 1014, 'grnd_level': 995, 'humidity': 99, 'temp_kf': 0}, 'weather': [{'id': 600, 'main': 'Snow', 'description': 'light snow', 'icon': '13n'}], 'clouds': {'all': 100}, 'wind': {'speed': 1.16, 'deg': 31, 'gust': 1.87}, 'visibility': 67, 'pop': 0.82, 'snow': {'3h': 0.92}, 'sys': {'pod': 'n'}, 'dt_txt': '2023-10-25 18:00:00'}, {'dt': 1698267600, 'main': {'temp': 275.08, 'feels_like': 275.08, 'temp_min': 275.08, 'temp_max': 275.08, 'pressure': 1012, 'sea_level': 1012, 'grnd_level': 994, 'humidity': 99, 'temp_kf': 0}, 'weather': [{'id': 600, 'main': 'Snow', 'description': 'light snow', 'icon': '13n'}], 'clouds': {'all': 100}, 'wind': {'speed': 1.24, 'deg': 20, 'gust': 1.96}, 'visibility': 109, 'pop': 0.89, 'snow': {'3h': 0.8}, 'sys': {'pod': 'n'}, 'dt_txt': '2023-10-25 21:00:00'}, {'dt': 1698278400, 'main': {'temp': 274.85, 'feels_like': 274.85, 'temp_min': 274.85, 'temp_max': 274.85, 'pressure': 1011, 'sea_level': 1011, 'grnd_level': 992, 'humidity': 98, 'temp_kf': 0}, 'weather': [{'id': 600, 'main': 'Snow', 'description': 'light snow', 'icon': '13n'}], 'clouds': {'all': 100}, 'wind': {'speed': 1.07, 'deg': 23, 'gust': 1.53}, 'visibility': 164, 'pop': 0.78, 'snow': {'3h': 0.49}, 'sys': {'pod': 'n'}, 'dt_txt': '2023-10-26 00:00:00'}, {'dt': 1698289200, 'main': {'temp': 274.1, 'feels_like': 274.1, 'temp_min': 274.1, 'temp_max': 274.1, 'pressure': 1010, 'sea_level': 1010, 'grnd_level': 991, 'humidity': 99, 'temp_kf': 0}, 'weather': [{'id': 600, 'main': 'Snow', 'description': 'light snow', 'icon': '13n'}], 'clouds': {'all': 100}, 'wind': {'speed': 1.17, 'deg': 14, 'gust': 1.53}, 'visibility': 433, 'pop': 0.39, 'snow': {'3h': 0.36}, 'sys': {'pod': 'n'}, 'dt_txt': '2023-10-26 03:00:00'}, {'dt': 1698300000, 'main': {'temp': 274.28, 'feels_like': 274.28, 'temp_min': 274.28, 'temp_max': 274.28, 'pressure': 1008, 'sea_level': 1008, 'grnd_level': 989, 'humidity': 97, 'temp_kf': 0}, 'weather': [{'id': 600, 'main': 'Snow', 'description': 'light snow', 'icon': '13n'}], 'clouds': {'all': 100}, 'wind': {'speed': 1.01, 'deg': 18, 'gust': 1.59}, 'visibility': 1200, 'pop': 0.41, 'snow': {'3h': 0.22}, 'sys': {'pod': 'n'}, 'dt_txt': '2023-10-26 06:00:00'}, {'dt': 1698310800, 'main': {'temp': 275.39, 'feels_like': 275.39, 'temp_min': 275.39, 'temp_max': 275.39, 'pressure': 1007, 'sea_level': 1007, 'grnd_level': 988, 'humidity': 91, 'temp_kf': 0}, 'weather': [{'id': 600, 'main': 'Snow', 'description': 'light snow', 'icon': '13d'}], 'clouds': {'all': 99}, 'wind': {'speed': 0.84, 'deg': 39, 'gust': 1.25}, 'visibility': 5817, 'pop': 0.28, 'snow': {'3h': 0.14}, 'sys': {'pod': 'd'}, 'dt_txt': '2023-10-26 09:00:00'}, {'dt': 1698321600, 'main': {'temp': 276.07, 'feels_like': 276.07, 'temp_min': 276.07, 'temp_max': 276.07, 'pressure': 1005, 'sea_level': 1005, 'grnd_level': 987, 'humidity': 91, 'temp_kf': 0}, 'weather': [{'id': 600, 'main': 'Snow', 'description': 'light snow', 'icon': '13d'}], 'clouds': {'all': 99}, 'wind': {'speed': 0.71, 'deg': 70, 'gust': 0.97}, 'visibility': 10000, 'pop': 0.28, 'snow': {'3h': 0.1}, 'sys': {'pod': 'd'}, 'dt_txt': '2023-10-26 12:00:00'}, {'dt': 1698332400, 'main': {'temp': 275.65, 'feels_like': 275.65, 'temp_min': 275.65, 'temp_max': 275.65, 'pressure': 1004, 'sea_level': 1004, 'grnd_level': 985, 'humidity': 97, 'temp_kf': 0}, 'weather': [{'id': 804, 'main': 'Clouds', 'description': 'overcast clouds', 'icon': '04d'}], 'clouds': {'all': 99}, 'wind': {'speed': 0.58, 'deg': 94, 'gust': 0.8}, 'visibility': 1136, 'pop': 0, 'sys': {'pod': 'd'}, 'dt_txt': '2023-10-26 15:00:00'}, {'dt': 1698343200, 'main': {'temp': 275.48, 'feels_like': 275.48, 'temp_min': 275.48, 'temp_max': 275.48, 'pressure': 1003, 'sea_level': 1003, 'grnd_level': 984, 'humidity': 99, 'temp_kf': 0}, 'weather': [{'id': 600, 'main': 'Snow', 'description': 'light snow', 'icon': '13n'}], 'clouds': {'all': 99}, 'wind': {'speed': 0.52, 'deg': 46, 'gust': 0.76}, 'visibility': 225, 'pop': 0.21, 'snow': {'3h': 0.14}, 'sys': {'pod': 'n'}, 'dt_txt': '2023-10-26 18:00:00'}, {'dt': 1698354000, 'main': {'temp': 275.41, 'feels_like': 275.41, 'temp_min': 275.41, 'temp_max': 275.41, 'pressure': 1002, 'sea_level': 1002, 'grnd_level': 984, 'humidity': 99, 'temp_kf': 0}, 'weather': [{'id': 600, 'main': 'Snow', 'description': 'light snow', 'icon': '13n'}], 'clouds': {'all': 100}, 'wind': {'speed': 0.71, 'deg': 28, 'gust': 0.92}, 'visibility': 137, 'pop': 0.29, 'snow': {'3h': 0.2}, 'sys': {'pod': 'n'}, 'dt_txt': '2023-10-26 21:00:00'}, {'dt': 1698364800, 'main': {'temp': 274.86, 'feels_like': 274.86, 'temp_min': 274.86, 'temp_max': 274.86, 'pressure': 1001, 'sea_level': 1001, 'grnd_level': 983, 'humidity': 99, 'temp_kf': 0}, 'weather': [{'id': 600, 'main': 'Snow', 'description': 'light snow', 'icon': '13n'}], 'clouds': {'all': 100}, 'wind': {'speed': 1.16, 'deg': 6, 'gust': 1.45}, 'visibility': 411, 'pop': 0.29, 'snow': {'3h': 0.11}, 'sys': {'pod': 'n'}, 'dt_txt': '2023-10-27 00:00:00'}, {'dt': 1698375600, 'main': {'temp': 274.3, 'feels_like': 274.3, 'temp_min': 274.3, 'temp_max': 274.3, 'pressure': 1000, 'sea_level': 1000, 'grnd_level': 982, 'humidity': 99, 'temp_kf': 0}, 'weather': [{'id': 500, 'main': 'Rain', 'description': 'light rain', 'icon': '10n'}], 'clouds': {'all': 99}, 'wind': {'speed': 1.33, 'deg': 355, 'gust': 1.48}, 'visibility': 630, 'pop': 0.23, 'rain': {'3h': 0.11}, 'sys': {'pod': 'n'}, 'dt_txt': '2023-10-27 03:00:00'}, {'dt': 1698386400, 'main': {'temp': 274.14, 'feels_like': 272.67, 'temp_min': 274.14, 'temp_max': 274.14, 'pressure': 1000, 'sea_level': 1000, 'grnd_level': 981, 'humidity': 99, 'temp_kf': 0}, 'weather': [{'id': 600, 'main': 'Snow', 'description': 'light snow', 'icon': '13n'}], 'clouds': {'all': 99}, 'wind': {'speed': 1.41, 'deg': 0, 'gust': 1.84}, 'visibility': 386, 'pop': 0.39, 'snow': {'3h': 0.34}, 'sys': {'pod': 'n'}, 'dt_txt': '2023-10-27 06:00:00'}, {'dt': 1698397200, 'main': {'temp': 275.86, 'feels_like': 275.86, 'temp_min': 275.86, 'temp_max': 275.86, 'pressure': 999, 'sea_level': 999, 'grnd_level': 981, 'humidity': 95, 'temp_kf': 0}, 'weather': [{'id': 600, 'main': 'Snow', 'description': 'light snow', 'icon': '13d'}], 'clouds': {'all': 100}, 'wind': {'speed': 1.01, 'deg': 36, 'gust': 1.53}, 'visibility': 243, 'pop': 0.68, 'snow': {'3h': 0.4}, 'sys': {'pod': 'd'}, 'dt_txt': '2023-10-27 09:00:00'}, {'dt': 1698408000, 'main': {'temp': 276.7, 'feels_like': 276.7, 'temp_min': 276.7, 'temp_max': 276.7, 'pressure': 998, 'sea_level': 998, 'grnd_level': 980, 'humidity': 91, 'temp_kf': 0}, 'weather': [{'id': 600, 'main': 'Snow', 'description': 'light snow', 'icon': '13d'}], 'clouds': {'all': 100}, 'wind': {'speed': 1.21, 'deg': 38, 'gust': 2.29}, 'visibility': 6788, 'pop': 0.62, 'snow': {'3h': 0.3}, 'sys': {'pod': 'd'}, 'dt_txt': '2023-10-27 12:00:00'}, {'dt': 1698418800, 'main': {'temp': 275.91, 'feels_like': 275.91, 'temp_min': 275.91, 'temp_max': 275.91, 'pressure': 998, 'sea_level': 998, 'grnd_level': 979, 'humidity': 98, 'temp_kf': 0}, 'weather': [{'id': 600, 'main': 'Snow', 'description': 'light snow', 'icon': '13d'}], 'clouds': {'all': 100}, 'wind': {'speed': 1.24, 'deg': 31, 'gust': 2.24}, 'visibility': 152, 'pop': 0.55, 'snow': {'3h': 0.29}, 'sys': {'pod': 'd'}, 'dt_txt': '2023-10-27 15:00:00'}, {'dt': 1698429600, 'main': {'temp': 275.13, 'feels_like': 272.89, 'temp_min': 275.13, 'temp_max': 275.13, 'pressure': 998, 'sea_level': 998, 'grnd_level': 979, 'humidity': 97, 'temp_kf': 0}, 'weather': [{'id': 600, 'main': 'Snow', 'description': 'light snow', 'icon': '13n'}], 'clouds': {'all': 100}, 'wind': {'speed': 2.1, 'deg': 358, 'gust': 4.3}, 'visibility': 1028, 'pop': 0.69, 'snow': {'3h': 0.32}, 'sys': {'pod': 'n'}, 'dt_txt': '2023-10-27 18:00:00'}, {'dt': 1698440400, 'main': {'temp': 275.05, 'feels_like': 272.52, 'temp_min': 275.05, 'temp_max': 275.05, 'pressure': 997, 'sea_level': 997, 'grnd_level': 978, 'humidity': 97, 'temp_kf': 0}, 'weather': [{'id': 600, 'main': 'Snow', 'description': 'light snow', 'icon': '13n'}], 'clouds': {'all': 100}, 'wind': {'speed': 2.36, 'deg': 357, 'gust': 5.08}, 'visibility': 220, 'pop': 0.86, 'snow': {'3h': 0.78}, 'sys': {'pod': 'n'}, 'dt_txt': '2023-10-27 21:00:00'}, {'dt': 1698451200, 'main': {'temp': 275.09, 'feels_like': 272.86, 'temp_min': 275.09, 'temp_max': 275.09, 'pressure': 996, 'sea_level': 996, 'grnd_level': 978, 'humidity': 98, 'temp_kf': 0}, 'weather': [{'id': 600, 'main': 'Snow', 'description': 'light snow', 'icon': '13n'}], 'clouds': {'all': 100}, 'wind': {'speed': 2.08, 'deg': 5, 'gust': 4.55}, 'visibility': 181, 'pop': 1, 'snow': {'3h': 1.27}, 'sys': {'pod': 'n'}, 'dt_txt': '2023-10-28 00:00:00'}, {'dt': 1698462000, 'main': {'temp': 274.96, 'feels_like': 272.71, 'temp_min': 274.96, 'temp_max': 274.96, 'pressure': 995, 'sea_level': 995, 'grnd_level': 977, 'humidity': 98, 'temp_kf': 0}, 'weather': [{'id': 601, 'main': 'Snow', 'description': 'snow', 'icon': '13n'}], 'clouds': {'all': 100}, 'wind': {'speed': 2.08, 'deg': 3, 'gust': 4.56}, 'visibility': 107, 'pop': 1, 'snow': {'3h': 2.04}, 'sys': {'pod': 'n'}, 'dt_txt': '2023-10-28 03:00:00'}, {'dt': 1698472800, 'main': {'temp': 274.85, 'feels_like': 272.82, 'temp_min': 274.85, 'temp_max': 274.85, 'pressure': 995, 'sea_level': 995, 'grnd_level': 976, 'humidity': 98, 'temp_kf': 0}, 'weather': [{'id': 601, 'main': 'Snow', 'description': 'snow', 'icon': '13n'}], 'clouds': {'all': 100}, 'wind': {'speed': 1.88, 'deg': 7, 'gust': 3.97}, 'visibility': 118, 'pop': 1, 'snow': {'3h': 2.18}, 'sys': {'pod': 'n'}, 'dt_txt': '2023-10-28 06:00:00'}, {'dt': 1698483600, 'main': {'temp': 275.44, 'feels_like': 273.65, 'temp_min': 275.44, 'temp_max': 275.44, 'pressure': 995, 'sea_level': 995, 'grnd_level': 976, 'humidity': 97, 'temp_kf': 0}, 'weather': [{'id': 601, 'main': 'Snow', 'description': 'snow', 'icon': '13d'}], 'clouds': {'all': 100}, 'wind': {'speed': 1.76, 'deg': 16, 'gust': 3.42}, 'visibility': 121, 'pop': 1, 'snow': {'3h': 1.8}, 'sys': {'pod': 'd'}, 'dt_txt': '2023-10-28 09:00:00'}], 'city': {'id': 3144113, 'name': 'Noresund', 'coord': {'lat': 60.1803, 'lon': 9.6231}, 'country': 'NO', 'population': 1000, 'timezone': 7200, 'sunrise': 1698041999, 'sunset': 1698076290}}\")\n"
     ]
    }
   ],
   "source": [
    "# Query the data\n",
    "forecast_rows = session.execute(\"SELECT * FROM forecast_table;\")\n",
    "print(forecast_rows.one()) # <- only one row"
   ]
  },
  {
   "cell_type": "markdown",
   "metadata": {
    "slideshow": {
     "slide_type": "slide"
    }
   },
   "source": [
    "## Resources\n",
    "- [Cassandra webpage](https://cassandra.apache.org/)\n",
    "- [Cassandra Docker file](https://hub.docker.com/_/cassandra)\n",
    "- [UUID functions](https://docs.datastax.com/en/cql-oss/3.3/cql/cql_reference/timeuuid_functions_r.html)\n",
    "- [YouTube: Cassandra in 100 seconds](https://youtu.be/ziq7FUKpCS8?si=WQUdkHFvaBmT0DBo) (2m:26s)\n",
    "- [YouTube: How to use Apache Cassandra in Python](https://youtu.be/qMauZqJH3ZM?si=yKGZ-5cld2BK396Y) (14m:50s)\n",
    "- [YouTube: Cassandra Database Crash Course](https://youtu.be/KZsVSfQVU4I?si=FBCi8qOfCirfVmZk) (19m:47s)"
   ]
  }
 ],
 "metadata": {
  "celltoolbar": "Slideshow",
  "kernelspec": {
   "display_name": "Python 3 (ipykernel)",
   "language": "python",
   "name": "python3"
  },
  "language_info": {
   "codemirror_mode": {
    "name": "ipython",
    "version": 3
   },
   "file_extension": ".py",
   "mimetype": "text/x-python",
   "name": "python",
   "nbconvert_exporter": "python",
   "pygments_lexer": "ipython3",
   "version": "3.11.6"
  }
 },
 "nbformat": 4,
 "nbformat_minor": 2
}