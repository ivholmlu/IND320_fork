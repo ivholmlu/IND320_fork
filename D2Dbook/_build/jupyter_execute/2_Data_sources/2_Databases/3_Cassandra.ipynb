{
 "cells": [
  {
   "cell_type": "markdown",
   "metadata": {
    "slideshow": {
     "slide_type": "slide"
    }
   },
   "source": [
    "# Cassandra\n",
    "- A production grade NoSQL database.\n",
    "- Can be distributed across servers, nodes, etc.\n",
    "- Replication of database is supported for high degree of redundancy and speed.\n",
    "- Uses CQL, a subset of SQL for querying.\n",
    "- Works seamlesly together with Spark and its corresponding distributed structure.\n",
    "- Installation of Cassandra is explained in the [Installation chapter](../../6_Appendix/Installation.ipynb)."
   ]
  },
  {
   "cell_type": "markdown",
   "metadata": {
    "slideshow": {
     "slide_type": "slide"
    }
   },
   "source": [
    "## Spinning up a local Cassandra instance\n",
    "In a terminal, first time:  \n",
    "```docker run --name my_cassandra -p 9042:9042 cassandra:latest```  \n",
    "... and later:  \n",
    "```docker start my_cassandra```  \n",
    "  \n",
    ".. or in Docker Desktop:\n",
    "- Run the cassandra docker image with optional settings, opening 9042 port and setting a name.\n",
    "- Later, simply run the container with the name you chose."
   ]
  },
  {
   "cell_type": "markdown",
   "metadata": {
    "slideshow": {
     "slide_type": "slide"
    }
   },
   "source": [
    "<img src=\"../../images/Docker_images.png\" width=\"600px\">  "
   ]
  },
  {
   "cell_type": "markdown",
   "metadata": {
    "slideshow": {
     "slide_type": "slide"
    }
   },
   "source": [
    "\n",
    "<img src=\"../../images/Docker_containers.png\" width=\"800px\">  "
   ]
  },
  {
   "cell_type": "markdown",
   "metadata": {
    "slideshow": {
     "slide_type": "slide"
    }
   },
   "source": [
    "### Connect to the Cassandra cluster from Python."
   ]
  },
  {
   "cell_type": "code",
   "execution_count": 1,
   "metadata": {
    "slideshow": {
     "slide_type": "-"
    }
   },
   "outputs": [],
   "source": [
    "# Connecting to Cassandra\n",
    "from cassandra.cluster import Cluster\n",
    "cluster = Cluster(['localhost'], port=9042)\n",
    "session = cluster.connect()"
   ]
  },
  {
   "cell_type": "markdown",
   "metadata": {
    "slideshow": {
     "slide_type": "slide"
    }
   },
   "source": [
    "### Keyspace\n",
    "- In Cassandra database tables are stored in keyspaces (basically a distributed database).\n",
    "- These have parameters controlling their distribution on nodes/servers and redundancy.\n",
    "- We will use the simplest form locally."
   ]
  },
  {
   "cell_type": "code",
   "execution_count": 2,
   "metadata": {
    "slideshow": {
     "slide_type": "fragment"
    }
   },
   "outputs": [
    {
     "data": {
      "text/plain": [
       "<cassandra.cluster.ResultSet at 0x1063b07d0>"
      ]
     },
     "execution_count": 2,
     "metadata": {},
     "output_type": "execute_result"
    }
   ],
   "source": [
    "# Set up new keyspace (first time only)\n",
    "#                                              name of keyspace                        replication strategy           replication factor\n",
    "session.execute(\"CREATE KEYSPACE IF NOT EXISTS my_first_keyspace WITH REPLICATION = { 'class' : 'SimpleStrategy', 'replication_factor' : 1 };\")"
   ]
  },
  {
   "cell_type": "markdown",
   "metadata": {
    "slideshow": {
     "slide_type": "slide"
    }
   },
   "source": [
    "### Create a table\n",
    "- IF NOT EXISTS makes sure we do not overwrite existing tables"
   ]
  },
  {
   "cell_type": "code",
   "execution_count": 3,
   "metadata": {
    "slideshow": {
     "slide_type": "fragment"
    }
   },
   "outputs": [
    {
     "data": {
      "text/plain": [
       "<cassandra.cluster.ResultSet at 0x10862a490>"
      ]
     },
     "execution_count": 3,
     "metadata": {},
     "output_type": "execute_result"
    }
   ],
   "source": [
    "# Create a new table (first time only)\n",
    "session.set_keyspace('my_first_keyspace')\n",
    "session.execute(\"DROP TABLE IF EXISTS my_first_keyspace.my_first_table;\") # Starting from scratch every time\n",
    "session.execute(\"CREATE TABLE IF NOT EXISTS my_first_table (ind int PRIMARY KEY, company text, model text);\")"
   ]
  },
  {
   "cell_type": "markdown",
   "metadata": {
    "slideshow": {
     "slide_type": "slide"
    }
   },
   "source": [
    "### Inserting and reading data"
   ]
  },
  {
   "cell_type": "code",
   "execution_count": 4,
   "metadata": {
    "slideshow": {
     "slide_type": "-"
    }
   },
   "outputs": [
    {
     "data": {
      "text/plain": [
       "<cassandra.cluster.ResultSet at 0x109455690>"
      ]
     },
     "execution_count": 4,
     "metadata": {},
     "output_type": "execute_result"
    }
   ],
   "source": [
    "# Insert some data (ind is the primary key, must be unique)\n",
    "session.execute(\"INSERT INTO my_first_table (ind, company, model) VALUES (1, 'Tesla', 'Model S');\")\n",
    "session.execute(\"INSERT INTO my_first_table (ind, company, model) VALUES (2, 'Tesla', 'Model 3');\")\n",
    "session.execute(\"INSERT INTO my_first_table (ind, company, model) VALUES (3, 'Polestar', '3');\")"
   ]
  },
  {
   "cell_type": "markdown",
   "metadata": {
    "slideshow": {
     "slide_type": "slide"
    }
   },
   "source": [
    "### Asyncronous writing\n",
    "- If your application is very data intensive, waiting for a response is not productive.\n",
    "- Writing asyncronously sends the data but does not pause for reply."
   ]
  },
  {
   "cell_type": "code",
   "execution_count": 5,
   "metadata": {
    "slideshow": {
     "slide_type": "-"
    }
   },
   "outputs": [
    {
     "data": {
      "text/plain": [
       "<ResponseFuture: query='<SimpleStatement query=\"INSERT INTO my_first_table (ind, company, model) VALUES (4, 'Volkswagen', 'ID.4');\", consistency=Not Set>' request_id=24 result=(no result yet) exception=None coordinator_host=None>"
      ]
     },
     "execution_count": 5,
     "metadata": {},
     "output_type": "execute_result"
    }
   ],
   "source": [
    "session.execute_async(\"INSERT INTO my_first_table (ind, company, model) VALUES (4, 'Volkswagen', 'ID.4');\")"
   ]
  },
  {
   "cell_type": "code",
   "execution_count": 6,
   "metadata": {
    "slideshow": {
     "slide_type": "slide"
    }
   },
   "outputs": [
    {
     "name": "stdout",
     "output_type": "stream",
     "text": [
      "Row(ind=1, company='Tesla', model='Model S')\n",
      "Row(ind=2, company='Tesla', model='Model 3')\n",
      "Row(ind=4, company='Volkswagen', model='ID.4')\n",
      "Row(ind=3, company='Polestar', model='3')\n"
     ]
    }
   ],
   "source": [
    "# Query the data\n",
    "rows = session.execute(\"SELECT * FROM my_first_table;\")\n",
    "for i in rows:\n",
    "    print(i)"
   ]
  },
  {
   "cell_type": "code",
   "execution_count": 7,
   "metadata": {
    "slideshow": {
     "slide_type": "slide"
    },
    "tags": [
     "raises-exception"
    ]
   },
   "outputs": [
    {
     "ename": "InvalidRequest",
     "evalue": "Error from server: code=2200 [Invalid query] message=\"Cannot execute this query as it might involve data filtering and thus may have unpredictable performance. If you want to execute this query despite the performance unpredictability, use ALLOW FILTERING\"",
     "output_type": "error",
     "traceback": [
      "\u001b[0;31m---------------------------------------------------------------------------\u001b[0m",
      "\u001b[0;31mInvalidRequest\u001b[0m                            Traceback (most recent call last)",
      "Cell \u001b[0;32mIn[7], line 2\u001b[0m\n\u001b[1;32m      1\u001b[0m \u001b[38;5;66;03m# More specific query\u001b[39;00m\n\u001b[0;32m----> 2\u001b[0m prepared_statement \u001b[38;5;241m=\u001b[39m \u001b[43msession\u001b[49m\u001b[38;5;241;43m.\u001b[39;49m\u001b[43mprepare\u001b[49m\u001b[43m(\u001b[49m\u001b[38;5;124;43m\"\u001b[39;49m\u001b[38;5;124;43mSELECT * FROM my_first_table WHERE company=?;\u001b[39;49m\u001b[38;5;124;43m\"\u001b[39;49m\u001b[43m)\u001b[49m \u001b[38;5;66;03m# <- will fail as company is not a key\u001b[39;00m\n\u001b[1;32m      3\u001b[0m teslas \u001b[38;5;241m=\u001b[39m session\u001b[38;5;241m.\u001b[39mexecute(prepared_statement, [\u001b[38;5;124m'\u001b[39m\u001b[38;5;124mTesla\u001b[39m\u001b[38;5;124m'\u001b[39m])\n\u001b[1;32m      4\u001b[0m \u001b[38;5;28;01mfor\u001b[39;00m i \u001b[38;5;129;01min\u001b[39;00m teslas:\n",
      "File \u001b[0;32m~/miniforge3/envs/IND320/lib/python3.11/site-packages/cassandra/cluster.py:3099\u001b[0m, in \u001b[0;36mcassandra.cluster.Session.prepare\u001b[0;34m()\u001b[0m\n",
      "File \u001b[0;32m~/miniforge3/envs/IND320/lib/python3.11/site-packages/cassandra/cluster.py:3096\u001b[0m, in \u001b[0;36mcassandra.cluster.Session.prepare\u001b[0;34m()\u001b[0m\n",
      "File \u001b[0;32m~/miniforge3/envs/IND320/lib/python3.11/site-packages/cassandra/cluster.py:4928\u001b[0m, in \u001b[0;36mcassandra.cluster.ResponseFuture.result\u001b[0;34m()\u001b[0m\n",
      "\u001b[0;31mInvalidRequest\u001b[0m: Error from server: code=2200 [Invalid query] message=\"Cannot execute this query as it might involve data filtering and thus may have unpredictable performance. If you want to execute this query despite the performance unpredictability, use ALLOW FILTERING\""
     ]
    }
   ],
   "source": [
    "# More specific query\n",
    "prepared_statement = session.prepare(\"SELECT * FROM my_first_table WHERE company=?;\") # <- will fail as company is not a key\n",
    "teslas = session.execute(prepared_statement, ['Tesla'])\n",
    "for i in teslas:\n",
    "    print(i)"
   ]
  },
  {
   "cell_type": "markdown",
   "metadata": {
    "slideshow": {
     "slide_type": "slide"
    }
   },
   "source": [
    "## Cassandra filtering\n",
    "Cassandra is inherently a distributed production database. Selecting as above may require downloading all data from a node, then filtering based on the WHERE part (only PRIMARY KEYs are centrally known). Solutions:  \n",
    "- If the table is small or most of the data will satisfy the query, add ```ALLOW FILTERING``` at the end of the query (not recommended if not known). \n",
    "- Or make sure the WHERE clause points to one of the keys (see below)."
   ]
  },
  {
   "cell_type": "code",
   "execution_count": 8,
   "metadata": {
    "slideshow": {
     "slide_type": "slide"
    }
   },
   "outputs": [
    {
     "data": {
      "text/plain": [
       "<cassandra.cluster.ResultSet at 0x109937cd0>"
      ]
     },
     "execution_count": 8,
     "metadata": {},
     "output_type": "execute_result"
    }
   ],
   "source": [
    "# Create a new table (observe keys)\n",
    "session.execute(\"DROP TABLE IF EXISTS my_first_keyspace.car_table;\")\n",
    "session.execute(\"CREATE TABLE IF NOT EXISTS car_table (company text, model text, PRIMARY KEY(company, model));\")"
   ]
  },
  {
   "cell_type": "code",
   "execution_count": 9,
   "metadata": {
    "slideshow": {
     "slide_type": "fragment"
    }
   },
   "outputs": [
    {
     "data": {
      "text/plain": [
       "<cassandra.cluster.ResultSet at 0x10996a810>"
      ]
     },
     "execution_count": 9,
     "metadata": {},
     "output_type": "execute_result"
    }
   ],
   "source": [
    "# Insert some data (combination of company and model must be unique)\n",
    "session.execute(\"INSERT INTO car_table (company, model) VALUES ('Tesla', 'Model S');\")\n",
    "session.execute(\"INSERT INTO car_table (company, model) VALUES ('Tesla', 'Model 3');\")\n",
    "session.execute(\"INSERT INTO car_table (company, model) VALUES ('Polestar', '3');\")\n",
    "session.execute(\"INSERT INTO car_table (company, model) VALUES ('Volkswagen', 'ID.4');\")"
   ]
  },
  {
   "cell_type": "code",
   "execution_count": 10,
   "metadata": {
    "slideshow": {
     "slide_type": "slide"
    }
   },
   "outputs": [
    {
     "name": "stdout",
     "output_type": "stream",
     "text": [
      "Row(company='Tesla', model='Model 3')\n",
      "Row(company='Tesla', model='Model S')\n"
     ]
    }
   ],
   "source": [
    "# More specific query now works\n",
    "prepared_statement = session.prepare(\"SELECT * FROM car_table WHERE company=?;\")\n",
    "teslas = session.execute(prepared_statement, ['Tesla'])\n",
    "for i in teslas:\n",
    "    print(i)"
   ]
  },
  {
   "cell_type": "markdown",
   "metadata": {
    "slideshow": {
     "slide_type": "slide"
    }
   },
   "source": [
    "### Partitions\n",
    "- Cassandra databases are usually replicated over different nodes.\n",
    "- Data is stored in partitions (subsets) which have local copys.\n",
    "- The primary key, e.g., PRIMARY KEY(company, model), is used in partitioning.\n",
    "    - The first part, e.g., company, is most important.\n",
    "    - All cars from a company will be located together, aiming for quicker queries."
   ]
  },
  {
   "cell_type": "markdown",
   "metadata": {
    "slideshow": {
     "slide_type": "slide"
    }
   },
   "source": [
    "### Unique IDs \n",
    "- In MySQL one could use the attribute AUTO_INCREMENT on integer IDs to automatically make a new unique index when inserting data.\n",
    "- This would cause unreasonable overhead in a distributed database.\n",
    "- [UUID](https://en.wikipedia.org/wiki/Universally_unique_identifier)s are used instead.\n",
    "    - Universally Unique Identifiers are typically 128-bit random bit sequences with extremely low probability of duplication.\n",
    "    - Cassandra uses a [timeuuid](https://docs.datastax.com/en/cql-oss/3.3/cql/cql_reference/timeuuid_functions_r.html) type to combine a timestamp and uuid in one."
   ]
  },
  {
   "cell_type": "code",
   "execution_count": 11,
   "metadata": {
    "slideshow": {
     "slide_type": "fragment"
    }
   },
   "outputs": [
    {
     "data": {
      "text/plain": [
       "<cassandra.cluster.ResultSet at 0x109972dd0>"
      ]
     },
     "execution_count": 11,
     "metadata": {},
     "output_type": "execute_result"
    }
   ],
   "source": [
    "# Create a new table (first time only)\n",
    "session.set_keyspace('my_first_keyspace')\n",
    "session.execute(\"DROP TABLE IF EXISTS my_first_keyspace.table_with_uuid;\")\n",
    "session.execute(\"CREATE TABLE IF NOT EXISTS table_with_uuid (id timeuuid PRIMARY KEY, company text, model text, price float);\")"
   ]
  },
  {
   "cell_type": "code",
   "execution_count": 12,
   "metadata": {
    "slideshow": {
     "slide_type": "slide"
    }
   },
   "outputs": [
    {
     "data": {
      "text/plain": [
       "<cassandra.cluster.ResultSet at 0x109457cd0>"
      ]
     },
     "execution_count": 12,
     "metadata": {},
     "output_type": "execute_result"
    }
   ],
   "source": [
    "session.execute(\"INSERT INTO table_with_uuid (id, company, model, price) VALUES (now(), 'Tesla', 'Model S', 20000.0);\")\n",
    "session.execute(\"INSERT INTO table_with_uuid (id, company, model, price) VALUES (now(), 'Tesla', 'Model S', 21000.0);\")\n",
    "session.execute(\"INSERT INTO table_with_uuid (id, company, model, price) VALUES (now(), 'Oldsmobile', 'Model 6C', 135000.0);\")"
   ]
  },
  {
   "cell_type": "code",
   "execution_count": 13,
   "metadata": {
    "slideshow": {
     "slide_type": "slide"
    }
   },
   "outputs": [
    {
     "name": "stdout",
     "output_type": "stream",
     "text": [
      "Row(id=UUID('7a4dbe20-78f5-11ee-8a0e-054caaf32d3b'), company='Tesla', model='Model S', price=21000.0)\n",
      "Datetime: 2023-11-01 20:30:20.930000\n",
      "Row(id=UUID('7a4de530-78f5-11ee-8a0e-054caaf32d3b'), company='Oldsmobile', model='Model 6C', price=135000.0)\n",
      "Datetime: 2023-11-01 20:30:20.931000\n",
      "Row(id=UUID('7a4cfad0-78f5-11ee-8a0e-054caaf32d3b'), company='Tesla', model='Model S', price=20000.0)\n",
      "Datetime: 2023-11-01 20:30:20.925000\n"
     ]
    }
   ],
   "source": [
    "from cassandra.util import datetime_from_uuid1\n",
    "\n",
    "# Query the data\n",
    "rows = session.execute(\"SELECT * FROM table_with_uuid;\")\n",
    "for i in rows:\n",
    "    print(i)\n",
    "    # Extract the timestamp from Cassandra's timeuuid\n",
    "    print(\"Datetime:\", datetime_from_uuid1(i.id))"
   ]
  },
  {
   "cell_type": "markdown",
   "metadata": {
    "slideshow": {
     "slide_type": "slide"
    }
   },
   "source": [
    "## JSON in Cassandra\n",
    "### Read previously saved JSON file forecast.json to memory"
   ]
  },
  {
   "cell_type": "code",
   "execution_count": 14,
   "metadata": {
    "slideshow": {
     "slide_type": "-"
    }
   },
   "outputs": [],
   "source": [
    "import json\n",
    "with open('../3_APIs/downloads/forecast.json', 'r') as f:\n",
    "    forecast = json.load(f)"
   ]
  },
  {
   "cell_type": "code",
   "execution_count": 15,
   "metadata": {
    "slideshow": {
     "slide_type": "slide"
    }
   },
   "outputs": [
    {
     "data": {
      "text/plain": [
       "\"{'cod': '200', 'message': 0, 'cnt': 40, 'list': [{'dt': 1698656400, 'main': {'temp': 270.43, 'feels_like': 267.2, 'temp_min': 270.43, 'temp_max': 272.92, 'pressure': 1003, 'sea_level': 1003, 'grnd_level': 984, 'humidity': 94, 'temp_kf': -2.49}, 'weather': [{'id': 804, 'main': 'Clouds', 'description': 'overcast clouds', 'icon': '04d'}], 'clouds': {'all': 99}, 'wind': {'speed': 2.25, 'deg': 31, 'gust': 5.35}, 'visibility': 10000, 'pop': 0.36, 'sys': {'pod': 'd'}, 'dt_txt': '2023-10-30 09:00:00'}, {'dt': 1698667200, 'main': {'temp': 271.49, 'feels_like': 267.98, 'temp_min': 271.49, 'temp_max': 273.62, 'pressure': 1003, 'sea_level': 1003, 'grnd_level': 984, 'humidity': 79, 'temp_kf': -2.13}, 'weather': [{'id': 600, 'main': 'Snow', 'description': 'light snow', 'icon': '13d'}], 'clouds': {'all': 99}, 'wind': {'speed': 2.67, 'deg': 28, 'gust': 5.24}, 'visibility': 10000, 'pop': 0.36, 'snow': {'3h': 0.14}, 'sys': {'pod': 'd'}, 'dt_txt': '2023-10-30 12:00:00'}, {'dt': 1698678000, 'main': {'temp': 272.12, 'feels_like': 268.96, 'temp_min': 272.12, 'temp_max': 272.97, 'pressure': 1002, 'sea_level': 1002, 'grnd_level': 983, 'humidity': 71, 'temp_kf': -0.85}, 'weather': [{'id': 600, 'main': 'Snow', 'description': 'light snow', 'icon': '13d'}], 'clouds': {'all': 100}, 'wind': {'speed': 2.45, 'deg': 22, 'gust': 6.29}, 'visibility': 10000, 'pop': 0.4, 'snow': {'3h': 0.17}, 'sys': {'pod': 'd'}, 'dt_txt': '2023-10-30 15:00:00'}, {'dt': 1698688800, 'main': {'temp': 272.17, 'feels_like': 268.63, 'temp_min': 272.17, 'temp_max': 272.17, 'pressure': 1003, 'sea_level': 1003, 'grnd_level': 984, 'humidity': 64, 'temp_kf': 0}, 'weather': [{'id': 804, 'main': 'Clouds', 'description': 'overcast clouds', 'icon': '04n'}], 'clouds': {'all': 100}, 'wind': {'speed': 2.83, 'deg': 7, 'gust': 6.53}, 'visibility': 10000, 'pop': 0.34, 'sys': {'pod': 'n'}, 'dt_txt': '2023-10-30 18:00:00'}, {'dt': 1698699600, 'main': {'temp': 271.84, 'feels_like': 268.09, 'temp_min': 271.84, 'temp_max': 271.84, 'pressure': 1004, 'sea_level': 1004, 'grnd_level': 985, 'humidity': 73, 'temp_kf': 0}, 'weather': [{'id': 804, 'main': 'Clouds', 'description': 'overcast clouds', 'icon': '04n'}], 'clouds': {'all': 100}, 'wind': {'speed': 2.98, 'deg': 359, 'gust': 6.88}, 'visibility': 10000, 'pop': 0.1, 'sys': {'pod': 'n'}, 'dt_txt': '2023-10-30 21:00:00'}, {'dt': 1698710400, 'main': {'temp': 271.82, 'feels_like': 268.48, 'temp_min': 271.82, 'temp_max': 271.82, 'pressure': 1005, 'sea_level': 1005, 'grnd_level': 986, 'humidity': 73, 'temp_kf': 0}, 'weather': [{'id': 804, 'main': 'Clouds', 'description': 'overcast clouds', 'icon': '04n'}], 'clouds': {'all': 98}, 'wind': {'speed': 2.57, 'deg': 347, 'gust': 6.06}, 'visibility': 10000, 'pop': 0.05, 'sys': {'pod': 'n'}, 'dt_txt': '2023-10-31 00:00:00'}, {'dt': 1698721200, 'main': {'temp': 271.72, 'feels_like': 268.52, 'temp_min': 271.72, 'temp_max': 271.72, 'pressure': 1005, 'sea_level': 1005, 'grnd_level': 986, 'humidity': 73, 'temp_kf': 0}, 'weather': [{'id': 804, 'main': 'Clouds', 'description': 'overcast clouds', 'icon': '04n'}], 'clouds': {'all': 93}, 'wind': {'speed': 2.42, 'deg': 355, 'gust': 5.64}, 'visibility': 10000, 'pop': 0, 'sys': {'pod': 'n'}, 'dt_txt': '2023-10-31 03:00:00'}, {'dt': 1698732000, 'main': {'temp': 271.77, 'feels_like': 268.58, 'temp_min': 271.77, 'temp_max': 271.77, 'pressure': 1006, 'sea_level': 1006, 'grnd_level': 987, 'humidity': 76, 'temp_kf': 0}, 'weather': [{'id': 804, 'main': 'Clouds', 'description': 'overcast clouds', 'icon': '04n'}], 'clouds': {'all': 96}, 'wind': {'speed': 2.42, 'deg': 1, 'gust': 5.54}, 'visibility': 10000, 'pop': 0, 'sys': {'pod': 'n'}, 'dt_txt': '2023-10-31 06:00:00'}, {'dt': 1698742800, 'main': {'temp': 272.64, 'feels_like': 269.18, 'temp_min': 272.64, 'temp_max': 272.64, 'pressure': 1007, 'sea_level': 1007, 'grnd_level': 988, 'humidity': 79, 'temp_kf': 0}, 'weather': [{'id': 600, 'main': 'Snow', 'description': 'light snow', 'icon': '13d'}], 'clouds': {'all': 100}, 'wind': {'speed': 2.85, 'deg': 5, 'gust': 6.22}, 'visibility': 10000, 'pop': 0.24, 'snow': {'3h': 0.12}, 'sys': {'pod': 'd'}, 'dt_txt': '2023-10-31 09:00:00'}, {'dt': 1698753600, 'main': {'temp': 273.78, 'feels_like': 270.42, 'temp_min': 273.78, 'temp_max': 273.78, 'pressure': 1006, 'sea_level': 1006, 'grnd_level': 987, 'humidity': 65, 'temp_kf': 0}, 'weather': [{'id': 804, 'main': 'Clouds', 'description': 'overcast clouds', 'icon': '04d'}], 'clouds': {'all': 99}, 'wind': {'speed': 2.98, 'deg': 17, 'gust': 5.65}, 'visibility': 10000, 'pop': 0.21, 'sys': {'pod': 'd'}, 'dt_txt': '2023-10-31 12:00:00'}, {'dt': 1698764400, 'main': {'temp': 272.7, 'feels_like': 269.39, 'temp_min': 272.7, 'temp_max': 272.7, 'pressure': 1006, 'sea_level': 1006, 'grnd_level': 988, 'humidity': 70, 'temp_kf': 0}, 'weather': [{'id': 804, 'main': 'Clouds', 'description': 'overcast clouds', 'icon': '04d'}], 'clouds': {'all': 92}, 'wind': {'speed': 2.7, 'deg': 15, 'gust': 6.31}, 'visibility': 10000, 'pop': 0, 'sys': {'pod': 'd'}, 'dt_txt': '2023-10-31 15:00:00'}, {'dt': 1698775200, 'main': {'temp': 271.66, 'feels_like': 268.54, 'temp_min': 271.66, 'temp_max': 271.66, 'pressure': 1008, 'sea_level': 1008, 'grnd_level': 989, 'humidity': 78, 'temp_kf': 0}, 'weather': [{'id': 804, 'main': 'Clouds', 'description': 'overcast clouds', 'icon': '04n'}], 'clouds': {'all': 95}, 'wind': {'speed': 2.34, 'deg': 0, 'gust': 5.48}, 'visibility': 10000, 'pop': 0, 'sys': {'pod': 'n'}, 'dt_txt': '2023-10-31 18:00:00'}, {'dt': 1698786000, 'main': {'temp': 271.02, 'feels_like': 268.07, 'temp_min': 271.02, 'temp_max': 271.02, 'pressure': 1008, 'sea_level': 1008, 'grnd_level': 989, 'humidity': 74, 'temp_kf': 0}, 'weather': [{'id': 804, 'main': 'Clouds', 'description': 'overcast clouds', 'icon': '04n'}], 'clouds': {'all': 93}, 'wind': {'speed': 2.11, 'deg': 353, 'gust': 4.41}, 'visibility': 10000, 'pop': 0, 'sys': {'pod': 'n'}, 'dt_txt': '2023-10-31 21:00:00'}, {'dt': 1698796800, 'main': {'temp': 270.11, 'feels_like': 267.46, 'temp_min': 270.11, 'temp_max': 270.11, 'pressure': 1008, 'sea_level': 1008, 'grnd_level': 989, 'humidity': 72, 'temp_kf': 0}, 'weather': [{'id': 803, 'main': 'Clouds', 'description': 'broken clouds', 'icon': '04n'}], 'clouds': {'all': 72}, 'wind': {'speed': 1.79, 'deg': 340, 'gust': 2.85}, 'visibility': 10000, 'pop': 0, 'sys': {'pod': 'n'}, 'dt_txt': '2023-11-01 00:00:00'}, {'dt': 1698807600, 'main': {'temp': 269.54, 'feels_like': 267.33, 'temp_min': 269.54, 'temp_max': 269.54, 'pressure': 1008, 'sea_level': 1008, 'grnd_level': 989, 'humidity': 72, 'temp_kf': 0}, 'weather': [{'id': 801, 'main': 'Clouds', 'description': 'few clouds', 'icon': '02n'}], 'clouds': {'all': 15}, 'wind': {'speed': 1.47, 'deg': 346, 'gust': 1.76}, 'visibility': 10000, 'pop': 0, 'sys': {'pod': 'n'}, 'dt_txt': '2023-11-01 03:00:00'}, {'dt': 1698818400, 'main': {'temp': 269.1, 'feels_like': 266.79, 'temp_min': 269.1, 'temp_max': 269.1, 'pressure': 1009, 'sea_level': 1009, 'grnd_level': 990, 'humidity': 72, 'temp_kf': 0}, 'weather': [{'id': 801, 'main': 'Clouds', 'description': 'few clouds', 'icon': '02n'}], 'clouds': {'all': 12}, 'wind': {'speed': 1.49, 'deg': 349, 'gust': 1.57}, 'visibility': 10000, 'pop': 0, 'sys': {'pod': 'n'}, 'dt_txt': '2023-11-01 06:00:00'}, {'dt': 1698829200, 'main': {'temp': 271.38, 'feels_like': 271.38, 'temp_min': 271.38, 'temp_max': 271.38, 'pressure': 1009, 'sea_level': 1009, 'grnd_level': 990, 'humidity': 61, 'temp_kf': 0}, 'weather': [{'id': 800, 'main': 'Clear', 'description': 'clear sky', 'icon': '01d'}], 'clouds': {'all': 9}, 'wind': {'speed': 0.55, 'deg': 22, 'gust': 0.96}, 'visibility': 10000, 'pop': 0, 'sys': {'pod': 'd'}, 'dt_txt': '2023-11-01 09:00:00'}, {'dt': 1698840000, 'main': {'temp': 273.22, 'feels_like': 273.22, 'temp_min': 273.22, 'temp_max': 273.22, 'pressure': 1008, 'sea_level': 1008, 'grnd_level': 989, 'humidity': 55, 'temp_kf': 0}, 'weather': [{'id': 800, 'main': 'Clear', 'description': 'clear sky', 'icon': '01d'}], 'clouds': {'all': 9}, 'wind': {'speed': 0.7, 'deg': 55, 'gust': 1.16}, 'visibility': 10000, 'pop': 0, 'sys': {'pod': 'd'}, 'dt_txt': '2023-11-01 12:00:00'}, {'dt': 1698850800, 'main': {'temp': 271.84, 'feels_like': 271.84, 'temp_min': 271.84, 'temp_max': 271.84, 'pressure': 1007, 'sea_level': 1007, 'grnd_level': 988, 'humidity': 65, 'temp_kf': 0}, 'weather': [{'id': 803, 'main': 'Clouds', 'description': 'broken clouds', 'icon': '04d'}], 'clouds': {'all': 64}, 'wind': {'speed': 0.85, 'deg': 116, 'gust': 0.91}, 'visibility': 10000, 'pop': 0, 'sys': {'pod': 'd'}, 'dt_txt': '2023-11-01 15:00:00'}, {'dt': 1698861600, 'main': {'temp': 271.42, 'feels_like': 271.42, 'temp_min': 271.42, 'temp_max': 271.42, 'pressure': 1007, 'sea_level': 1007, 'grnd_level': 988, 'humidity': 70, 'temp_kf': 0}, 'weather': [{'id': 803, 'main': 'Clouds', 'description': 'broken clouds', 'icon': '04n'}], 'clouds': {'all': 82}, 'wind': {'speed': 0.55, 'deg': 79, 'gust': 0.8}, 'visibility': 10000, 'pop': 0, 'sys': {'pod': 'n'}, 'dt_txt': '2023-11-01 18:00:00'}, {'dt': 1698872400, 'main': {'temp': 271.56, 'feels_like': 271.56, 'temp_min': 271.56, 'temp_max': 271.56, 'pressure': 1005, 'sea_level': 1005, 'grnd_level': 987, 'humidity': 73, 'temp_kf': 0}, 'weather': [{'id': 804, 'main': 'Clouds', 'description': 'overcast clouds', 'icon': '04n'}], 'clouds': {'all': 100}, 'wind': {'speed': 0.81, 'deg': 99, 'gust': 1.4}, 'visibility': 10000, 'pop': 0.22, 'sys': {'pod': 'n'}, 'dt_txt': '2023-11-01 21:00:00'}, {'dt': 1698883200, 'main': {'temp': 270.84, 'feels_like': 270.84, 'temp_min': 270.84, 'temp_max': 270.84, 'pressure': 1004, 'sea_level': 1004, 'grnd_level': 985, 'humidity': 93, 'temp_kf': 0}, 'weather': [{'id': 600, 'main': 'Snow', 'description': 'light snow', 'icon': '13n'}], 'clouds': {'all': 100}, 'wind': {'speed': 0.98, 'deg': 58, 'gust': 1.83}, 'visibility': 187, 'pop': 0.92, 'snow': {'3h': 1.31}, 'sys': {'pod': 'n'}, 'dt_txt': '2023-11-02 00:00:00'}, {'dt': 1698894000, 'main': {'temp': 270.97, 'feels_like': 270.97, 'temp_min': 270.97, 'temp_max': 270.97, 'pressure': 1002, 'sea_level': 1002, 'grnd_level': 983, 'humidity': 94, 'temp_kf': 0}, 'weather': [{'id': 600, 'main': 'Snow', 'description': 'light snow', 'icon': '13n'}], 'clouds': {'all': 100}, 'wind': {'speed': 1.17, 'deg': 30, 'gust': 2.4}, 'visibility': 168, 'pop': 0.94, 'snow': {'3h': 0.72}, 'sys': {'pod': 'n'}, 'dt_txt': '2023-11-02 03:00:00'}, {'dt': 1698904800, 'main': {'temp': 271.2, 'feels_like': 269.31, 'temp_min': 271.2, 'temp_max': 271.2, 'pressure': 1001, 'sea_level': 1001, 'grnd_level': 982, 'humidity': 95, 'temp_kf': 0}, 'weather': [{'id': 601, 'main': 'Snow', 'description': 'snow', 'icon': '13n'}], 'clouds': {'all': 100}, 'wind': {'speed': 1.42, 'deg': 21, 'gust': 3.11}, 'visibility': 157, 'pop': 0.94, 'snow': {'3h': 1.86}, 'sys': {'pod': 'n'}, 'dt_txt': '2023-11-02 06:00:00'}, {'dt': 1698915600, 'main': {'temp': 271.74, 'feels_like': 269.49, 'temp_min': 271.74, 'temp_max': 271.74, 'pressure': 1001, 'sea_level': 1001, 'grnd_level': 982, 'humidity': 94, 'temp_kf': 0}, 'weather': [{'id': 601, 'main': 'Snow', 'description': 'snow', 'icon': '13d'}], 'clouds': {'all': 100}, 'wind': {'speed': 1.69, 'deg': 25, 'gust': 3.56}, 'visibility': 175, 'pop': 0.96, 'snow': {'3h': 2.47}, 'sys': {'pod': 'd'}, 'dt_txt': '2023-11-02 09:00:00'}, {'dt': 1698926400, 'main': {'temp': 272.25, 'feels_like': 272.25, 'temp_min': 272.25, 'temp_max': 272.25, 'pressure': 1001, 'sea_level': 1001, 'grnd_level': 982, 'humidity': 91, 'temp_kf': 0}, 'weather': [{'id': 601, 'main': 'Snow', 'description': 'snow', 'icon': '13d'}], 'clouds': {'all': 100}, 'wind': {'speed': 1.25, 'deg': 41, 'gust': 2.61}, 'visibility': 484, 'pop': 1, 'snow': {'3h': 1.73}, 'sys': {'pod': 'd'}, 'dt_txt': '2023-11-02 12:00:00'}, {'dt': 1698937200, 'main': {'temp': 271.87, 'feels_like': 271.87, 'temp_min': 271.87, 'temp_max': 271.87, 'pressure': 1000, 'sea_level': 1000, 'grnd_level': 982, 'humidity': 96, 'temp_kf': 0}, 'weather': [{'id': 600, 'main': 'Snow', 'description': 'light snow', 'icon': '13d'}], 'clouds': {'all': 100}, 'wind': {'speed': 1.25, 'deg': 36, 'gust': 2.59}, 'visibility': 228, 'pop': 0.56, 'snow': {'3h': 0.42}, 'sys': {'pod': 'd'}, 'dt_txt': '2023-11-02 15:00:00'}, {'dt': 1698948000, 'main': {'temp': 271.72, 'feels_like': 270.01, 'temp_min': 271.72, 'temp_max': 271.72, 'pressure': 1000, 'sea_level': 1000, 'grnd_level': 981, 'humidity': 95, 'temp_kf': 0}, 'weather': [{'id': 600, 'main': 'Snow', 'description': 'light snow', 'icon': '13n'}], 'clouds': {'all': 100}, 'wind': {'speed': 1.36, 'deg': 24, 'gust': 3.01}, 'visibility': 449, 'pop': 0.78, 'snow': {'3h': 0.52}, 'sys': {'pod': 'n'}, 'dt_txt': '2023-11-02 18:00:00'}, {'dt': 1698958800, 'main': {'temp': 271.78, 'feels_like': 269.19, 'temp_min': 271.78, 'temp_max': 271.78, 'pressure': 999, 'sea_level': 999, 'grnd_level': 981, 'humidity': 96, 'temp_kf': 0}, 'weather': [{'id': 601, 'main': 'Snow', 'description': 'snow', 'icon': '13n'}], 'clouds': {'all': 100}, 'wind': {'speed': 1.93, 'deg': 17, 'gust': 4.6}, 'visibility': 121, 'pop': 1, 'snow': {'3h': 1.59}, 'sys': {'pod': 'n'}, 'dt_txt': '2023-11-02 21:00:00'}, {'dt': 1698969600, 'main': {'temp': 271.94, 'feels_like': 268.21, 'temp_min': 271.94, 'temp_max': 271.94, 'pressure': 998, 'sea_level': 998, 'grnd_level': 980, 'humidity': 96, 'temp_kf': 0}, 'weather': [{'id': 601, 'main': 'Snow', 'description': 'snow', 'icon': '13n'}], 'clouds': {'all': 100}, 'wind': {'speed': 2.98, 'deg': 6, 'gust': 6.31}, 'visibility': 123, 'pop': 1, 'snow': {'3h': 4.77}, 'sys': {'pod': 'n'}, 'dt_txt': '2023-11-03 00:00:00'}, {'dt': 1698980400, 'main': {'temp': 272.2, 'feels_like': 268.14, 'temp_min': 272.2, 'temp_max': 272.2, 'pressure': 997, 'sea_level': 997, 'grnd_level': 978, 'humidity': 97, 'temp_kf': 0}, 'weather': [{'id': 601, 'main': 'Snow', 'description': 'snow', 'icon': '13n'}], 'clouds': {'all': 100}, 'wind': {'speed': 3.42, 'deg': 6, 'gust': 7.41}, 'visibility': 137, 'pop': 1, 'snow': {'3h': 5.58}, 'sys': {'pod': 'n'}, 'dt_txt': '2023-11-03 03:00:00'}, {'dt': 1698991200, 'main': {'temp': 272.56, 'feels_like': 268.53, 'temp_min': 272.56, 'temp_max': 272.56, 'pressure': 995, 'sea_level': 995, 'grnd_level': 976, 'humidity': 97, 'temp_kf': 0}, 'weather': [{'id': 601, 'main': 'Snow', 'description': 'snow', 'icon': '13n'}], 'clouds': {'all': 100}, 'wind': {'speed': 3.48, 'deg': 5, 'gust': 7.66}, 'visibility': 130, 'pop': 1, 'snow': {'3h': 8.39}, 'sys': {'pod': 'n'}, 'dt_txt': '2023-11-03 06:00:00'}, {'dt': 1699002000, 'main': {'temp': 273.46, 'feels_like': 269.7, 'temp_min': 273.46, 'temp_max': 273.46, 'pressure': 994, 'sea_level': 994, 'grnd_level': 975, 'humidity': 98, 'temp_kf': 0}, 'weather': [{'id': 601, 'main': 'Snow', 'description': 'snow', 'icon': '13d'}], 'clouds': {'all': 100}, 'wind': {'speed': 3.39, 'deg': 1, 'gust': 7.67}, 'visibility': 131, 'pop': 1, 'snow': {'3h': 9.21}, 'sys': {'pod': 'd'}, 'dt_txt': '2023-11-03 09:00:00'}, {'dt': 1699012800, 'main': {'temp': 274.45, 'feels_like': 271.11, 'temp_min': 274.45, 'temp_max': 274.45, 'pressure': 993, 'sea_level': 993, 'grnd_level': 975, 'humidity': 98, 'temp_kf': 0}, 'weather': [{'id': 601, 'main': 'Snow', 'description': 'snow', 'icon': '13d'}], 'clouds': {'all': 100}, 'wind': {'speed': 3.12, 'deg': 0, 'gust': 6.79}, 'visibility': 132, 'pop': 1, 'snow': {'3h': 8.21}, 'sys': {'pod': 'd'}, 'dt_txt': '2023-11-03 12:00:00'}, {'dt': 1699023600, 'main': {'temp': 274.78, 'feels_like': 271.75, 'temp_min': 274.78, 'temp_max': 274.78, 'pressure': 992, 'sea_level': 992, 'grnd_level': 974, 'humidity': 98, 'temp_kf': 0}, 'weather': [{'id': 601, 'main': 'Snow', 'description': 'snow', 'icon': '13d'}], 'clouds': {'all': 100}, 'wind': {'speed': 2.83, 'deg': 4, 'gust': 6.21}, 'visibility': 158, 'pop': 1, 'snow': {'3h': 3.23}, 'sys': {'pod': 'd'}, 'dt_txt': '2023-11-03 15:00:00'}, {'dt': 1699034400, 'main': {'temp': 274.79, 'feels_like': 271.6, 'temp_min': 274.79, 'temp_max': 274.79, 'pressure': 991, 'sea_level': 991, 'grnd_level': 973, 'humidity': 99, 'temp_kf': 0}, 'weather': [{'id': 601, 'main': 'Snow', 'description': 'snow', 'icon': '13n'}], 'clouds': {'all': 100}, 'wind': {'speed': 3.02, 'deg': 360, 'gust': 6.8}, 'visibility': 112, 'pop': 1, 'snow': {'3h': 3.76}, 'sys': {'pod': 'n'}, 'dt_txt': '2023-11-03 18:00:00'}, {'dt': 1699045200, 'main': {'temp': 274.91, 'feels_like': 271.66, 'temp_min': 274.91, 'temp_max': 274.91, 'pressure': 989, 'sea_level': 989, 'grnd_level': 971, 'humidity': 98, 'temp_kf': 0}, 'weather': [{'id': 601, 'main': 'Snow', 'description': 'snow', 'icon': '13n'}], 'clouds': {'all': 100}, 'wind': {'speed': 3.13, 'deg': 1, 'gust': 7.25}, 'visibility': 137, 'pop': 1, 'snow': {'3h': 2.99}, 'sys': {'pod': 'n'}, 'dt_txt': '2023-11-03 21:00:00'}, {'dt': 1699056000, 'main': {'temp': 274.88, 'feels_like': 271.54, 'temp_min': 274.88, 'temp_max': 274.88, 'pressure': 986, 'sea_level': 986, 'grnd_level': 968, 'humidity': 98, 'temp_kf': 0}, 'weather': [{'id': 601, 'main': 'Snow', 'description': 'snow', 'icon': '13n'}], 'clouds': {'all': 100}, 'wind': {'speed': 3.23, 'deg': 357, 'gust': 7.78}, 'visibility': 130, 'pop': 1, 'snow': {'3h': 4.24}, 'sys': {'pod': 'n'}, 'dt_txt': '2023-11-04 00:00:00'}, {'dt': 1699066800, 'main': {'temp': 274.88, 'feels_like': 271.53, 'temp_min': 274.88, 'temp_max': 274.88, 'pressure': 982, 'sea_level': 982, 'grnd_level': 964, 'humidity': 99, 'temp_kf': 0}, 'weather': [{'id': 601, 'main': 'Snow', 'description': 'snow', 'icon': '13n'}], 'clouds': {'all': 100}, 'wind': {'speed': 3.25, 'deg': 348, 'gust': 7.66}, 'visibility': 128, 'pop': 1, 'snow': {'3h': 5.41}, 'sys': {'pod': 'n'}, 'dt_txt': '2023-11-04 03:00:00'}, {'dt': 1699077600, 'main': {'temp': 274.89, 'feels_like': 271.65, 'temp_min': 274.89, 'temp_max': 274.89, 'pressure': 979, 'sea_level': 979, 'grnd_level': 960, 'humidity': 98, 'temp_kf': 0}, 'weather': [{'id': 601, 'main': 'Snow', 'description': 'snow', 'icon': '13n'}], 'clouds': {'all': 100}, 'wind': {'speed': 3.11, 'deg': 333, 'gust': 7.42}, 'visibility': 136, 'pop': 1, 'snow': {'3h': 5.73}, 'sys': {'pod': 'n'}, 'dt_txt': '2023-11-04 06:00:00'}], 'city': {'id': 3144113, 'name': 'Noresund', 'coord': {'lat': 60.1803, 'lon': 9.6231}, 'country': 'NO', 'population': 1000, 'timezone': 3600, 'sunrise': 1698647879, 'sunset': 1698679933}}\""
      ]
     },
     "execution_count": 15,
     "metadata": {},
     "output_type": "execute_result"
    }
   ],
   "source": [
    "# Inspect JSON file\n",
    "forecast.__str__()"
   ]
  },
  {
   "cell_type": "markdown",
   "metadata": {
    "slideshow": {
     "slide_type": "slide"
    }
   },
   "source": [
    "## Raw JSON\n",
    "- A simple, but not very efficient way of storing JSON data is to treat it as a text and save it directly to the database.  \n",
    "- More efficient, with regard to transfer, is to compress the JSON data to a blob first.\n",
    "    - Compression is automatic."
   ]
  },
  {
   "cell_type": "code",
   "execution_count": 16,
   "metadata": {
    "slideshow": {
     "slide_type": "-"
    }
   },
   "outputs": [
    {
     "data": {
      "text/plain": [
       "<cassandra.cluster.ResultSet at 0x10636ac10>"
      ]
     },
     "execution_count": 16,
     "metadata": {},
     "output_type": "execute_result"
    }
   ],
   "source": [
    "# Create a new table which treats the whole JSON as a blob, using the city id and the first dt as keys\n",
    "session.set_keyspace('my_first_keyspace')\n",
    "session.execute(\"DROP TABLE IF EXISTS my_first_keyspace.forecast_table;\")\n",
    "session.execute(\"CREATE TABLE IF NOT EXISTS forecast_table (city_id int, dt int, forecast blob, PRIMARY KEY(city_id, dt));\")"
   ]
  },
  {
   "cell_type": "markdown",
   "metadata": {
    "slideshow": {
     "slide_type": "slide"
    }
   },
   "source": [
    "### Insert the forecast data into the table as text blob"
   ]
  },
  {
   "cell_type": "code",
   "execution_count": 17,
   "metadata": {
    "slideshow": {
     "slide_type": "-"
    }
   },
   "outputs": [
    {
     "data": {
      "text/plain": [
       "<cassandra.cluster.ResultSet at 0x109981590>"
      ]
     },
     "execution_count": 17,
     "metadata": {},
     "output_type": "execute_result"
    }
   ],
   "source": [
    "session.execute(\"INSERT INTO forecast_table (city_id, dt, forecast) VALUES (%s, %s, textAsBlob(%s));\", (forecast['city']['id'], forecast['list'][0]['dt'], forecast.__str__()))"
   ]
  },
  {
   "cell_type": "code",
   "execution_count": 18,
   "metadata": {
    "slideshow": {
     "slide_type": "slide"
    }
   },
   "outputs": [
    {
     "name": "stdout",
     "output_type": "stream",
     "text": [
      "Row(city_id=3144113, dt=1698656400, forecast=b\"{'cod': '200', 'message': 0, 'cnt': 40, 'list': [{'dt': 1698656400, 'main': {'temp': 270.43, 'feels_like': 267.2, 'temp_min': 270.43, 'temp_max': 272.92, 'pressure': 1003, 'sea_level': 1003, 'grnd_level': 984, 'humidity': 94, 'temp_kf': -2.49}, 'weather': [{'id': 804, 'main': 'Clouds', 'description': 'overcast clouds', 'icon': '04d'}], 'clouds': {'all': 99}, 'wind': {'speed': 2.25, 'deg': 31, 'gust': 5.35}, 'visibility': 10000, 'pop': 0.36, 'sys': {'pod': 'd'}, 'dt_txt': '2023-10-30 09:00:00'}, {'dt': 1698667200, 'main': {'temp': 271.49, 'feels_like': 267.98, 'temp_min': 271.49, 'temp_max': 273.62, 'pressure': 1003, 'sea_level': 1003, 'grnd_level': 984, 'humidity': 79, 'temp_kf': -2.13}, 'weather': [{'id': 600, 'main': 'Snow', 'description': 'light snow', 'icon': '13d'}], 'clouds': {'all': 99}, 'wind': {'speed': 2.67, 'deg': 28, 'gust': 5.24}, 'visibility': 10000, 'pop': 0.36, 'snow': {'3h': 0.14}, 'sys': {'pod': 'd'}, 'dt_txt': '2023-10-30 12:00:00'}, {'dt': 1698678000, 'main': {'temp': 272.12, 'feels_like': 268.96, 'temp_min': 272.12, 'temp_max': 272.97, 'pressure': 1002, 'sea_level': 1002, 'grnd_level': 983, 'humidity': 71, 'temp_kf': -0.85}, 'weather': [{'id': 600, 'main': 'Snow', 'description': 'light snow', 'icon': '13d'}], 'clouds': {'all': 100}, 'wind': {'speed': 2.45, 'deg': 22, 'gust': 6.29}, 'visibility': 10000, 'pop': 0.4, 'snow': {'3h': 0.17}, 'sys': {'pod': 'd'}, 'dt_txt': '2023-10-30 15:00:00'}, {'dt': 1698688800, 'main': {'temp': 272.17, 'feels_like': 268.63, 'temp_min': 272.17, 'temp_max': 272.17, 'pressure': 1003, 'sea_level': 1003, 'grnd_level': 984, 'humidity': 64, 'temp_kf': 0}, 'weather': [{'id': 804, 'main': 'Clouds', 'description': 'overcast clouds', 'icon': '04n'}], 'clouds': {'all': 100}, 'wind': {'speed': 2.83, 'deg': 7, 'gust': 6.53}, 'visibility': 10000, 'pop': 0.34, 'sys': {'pod': 'n'}, 'dt_txt': '2023-10-30 18:00:00'}, {'dt': 1698699600, 'main': {'temp': 271.84, 'feels_like': 268.09, 'temp_min': 271.84, 'temp_max': 271.84, 'pressure': 1004, 'sea_level': 1004, 'grnd_level': 985, 'humidity': 73, 'temp_kf': 0}, 'weather': [{'id': 804, 'main': 'Clouds', 'description': 'overcast clouds', 'icon': '04n'}], 'clouds': {'all': 100}, 'wind': {'speed': 2.98, 'deg': 359, 'gust': 6.88}, 'visibility': 10000, 'pop': 0.1, 'sys': {'pod': 'n'}, 'dt_txt': '2023-10-30 21:00:00'}, {'dt': 1698710400, 'main': {'temp': 271.82, 'feels_like': 268.48, 'temp_min': 271.82, 'temp_max': 271.82, 'pressure': 1005, 'sea_level': 1005, 'grnd_level': 986, 'humidity': 73, 'temp_kf': 0}, 'weather': [{'id': 804, 'main': 'Clouds', 'description': 'overcast clouds', 'icon': '04n'}], 'clouds': {'all': 98}, 'wind': {'speed': 2.57, 'deg': 347, 'gust': 6.06}, 'visibility': 10000, 'pop': 0.05, 'sys': {'pod': 'n'}, 'dt_txt': '2023-10-31 00:00:00'}, {'dt': 1698721200, 'main': {'temp': 271.72, 'feels_like': 268.52, 'temp_min': 271.72, 'temp_max': 271.72, 'pressure': 1005, 'sea_level': 1005, 'grnd_level': 986, 'humidity': 73, 'temp_kf': 0}, 'weather': [{'id': 804, 'main': 'Clouds', 'description': 'overcast clouds', 'icon': '04n'}], 'clouds': {'all': 93}, 'wind': {'speed': 2.42, 'deg': 355, 'gust': 5.64}, 'visibility': 10000, 'pop': 0, 'sys': {'pod': 'n'}, 'dt_txt': '2023-10-31 03:00:00'}, {'dt': 1698732000, 'main': {'temp': 271.77, 'feels_like': 268.58, 'temp_min': 271.77, 'temp_max': 271.77, 'pressure': 1006, 'sea_level': 1006, 'grnd_level': 987, 'humidity': 76, 'temp_kf': 0}, 'weather': [{'id': 804, 'main': 'Clouds', 'description': 'overcast clouds', 'icon': '04n'}], 'clouds': {'all': 96}, 'wind': {'speed': 2.42, 'deg': 1, 'gust': 5.54}, 'visibility': 10000, 'pop': 0, 'sys': {'pod': 'n'}, 'dt_txt': '2023-10-31 06:00:00'}, {'dt': 1698742800, 'main': {'temp': 272.64, 'feels_like': 269.18, 'temp_min': 272.64, 'temp_max': 272.64, 'pressure': 1007, 'sea_level': 1007, 'grnd_level': 988, 'humidity': 79, 'temp_kf': 0}, 'weather': [{'id': 600, 'main': 'Snow', 'description': 'light snow', 'icon': '13d'}], 'clouds': {'all': 100}, 'wind': {'speed': 2.85, 'deg': 5, 'gust': 6.22}, 'visibility': 10000, 'pop': 0.24, 'snow': {'3h': 0.12}, 'sys': {'pod': 'd'}, 'dt_txt': '2023-10-31 09:00:00'}, {'dt': 1698753600, 'main': {'temp': 273.78, 'feels_like': 270.42, 'temp_min': 273.78, 'temp_max': 273.78, 'pressure': 1006, 'sea_level': 1006, 'grnd_level': 987, 'humidity': 65, 'temp_kf': 0}, 'weather': [{'id': 804, 'main': 'Clouds', 'description': 'overcast clouds', 'icon': '04d'}], 'clouds': {'all': 99}, 'wind': {'speed': 2.98, 'deg': 17, 'gust': 5.65}, 'visibility': 10000, 'pop': 0.21, 'sys': {'pod': 'd'}, 'dt_txt': '2023-10-31 12:00:00'}, {'dt': 1698764400, 'main': {'temp': 272.7, 'feels_like': 269.39, 'temp_min': 272.7, 'temp_max': 272.7, 'pressure': 1006, 'sea_level': 1006, 'grnd_level': 988, 'humidity': 70, 'temp_kf': 0}, 'weather': [{'id': 804, 'main': 'Clouds', 'description': 'overcast clouds', 'icon': '04d'}], 'clouds': {'all': 92}, 'wind': {'speed': 2.7, 'deg': 15, 'gust': 6.31}, 'visibility': 10000, 'pop': 0, 'sys': {'pod': 'd'}, 'dt_txt': '2023-10-31 15:00:00'}, {'dt': 1698775200, 'main': {'temp': 271.66, 'feels_like': 268.54, 'temp_min': 271.66, 'temp_max': 271.66, 'pressure': 1008, 'sea_level': 1008, 'grnd_level': 989, 'humidity': 78, 'temp_kf': 0}, 'weather': [{'id': 804, 'main': 'Clouds', 'description': 'overcast clouds', 'icon': '04n'}], 'clouds': {'all': 95}, 'wind': {'speed': 2.34, 'deg': 0, 'gust': 5.48}, 'visibility': 10000, 'pop': 0, 'sys': {'pod': 'n'}, 'dt_txt': '2023-10-31 18:00:00'}, {'dt': 1698786000, 'main': {'temp': 271.02, 'feels_like': 268.07, 'temp_min': 271.02, 'temp_max': 271.02, 'pressure': 1008, 'sea_level': 1008, 'grnd_level': 989, 'humidity': 74, 'temp_kf': 0}, 'weather': [{'id': 804, 'main': 'Clouds', 'description': 'overcast clouds', 'icon': '04n'}], 'clouds': {'all': 93}, 'wind': {'speed': 2.11, 'deg': 353, 'gust': 4.41}, 'visibility': 10000, 'pop': 0, 'sys': {'pod': 'n'}, 'dt_txt': '2023-10-31 21:00:00'}, {'dt': 1698796800, 'main': {'temp': 270.11, 'feels_like': 267.46, 'temp_min': 270.11, 'temp_max': 270.11, 'pressure': 1008, 'sea_level': 1008, 'grnd_level': 989, 'humidity': 72, 'temp_kf': 0}, 'weather': [{'id': 803, 'main': 'Clouds', 'description': 'broken clouds', 'icon': '04n'}], 'clouds': {'all': 72}, 'wind': {'speed': 1.79, 'deg': 340, 'gust': 2.85}, 'visibility': 10000, 'pop': 0, 'sys': {'pod': 'n'}, 'dt_txt': '2023-11-01 00:00:00'}, {'dt': 1698807600, 'main': {'temp': 269.54, 'feels_like': 267.33, 'temp_min': 269.54, 'temp_max': 269.54, 'pressure': 1008, 'sea_level': 1008, 'grnd_level': 989, 'humidity': 72, 'temp_kf': 0}, 'weather': [{'id': 801, 'main': 'Clouds', 'description': 'few clouds', 'icon': '02n'}], 'clouds': {'all': 15}, 'wind': {'speed': 1.47, 'deg': 346, 'gust': 1.76}, 'visibility': 10000, 'pop': 0, 'sys': {'pod': 'n'}, 'dt_txt': '2023-11-01 03:00:00'}, {'dt': 1698818400, 'main': {'temp': 269.1, 'feels_like': 266.79, 'temp_min': 269.1, 'temp_max': 269.1, 'pressure': 1009, 'sea_level': 1009, 'grnd_level': 990, 'humidity': 72, 'temp_kf': 0}, 'weather': [{'id': 801, 'main': 'Clouds', 'description': 'few clouds', 'icon': '02n'}], 'clouds': {'all': 12}, 'wind': {'speed': 1.49, 'deg': 349, 'gust': 1.57}, 'visibility': 10000, 'pop': 0, 'sys': {'pod': 'n'}, 'dt_txt': '2023-11-01 06:00:00'}, {'dt': 1698829200, 'main': {'temp': 271.38, 'feels_like': 271.38, 'temp_min': 271.38, 'temp_max': 271.38, 'pressure': 1009, 'sea_level': 1009, 'grnd_level': 990, 'humidity': 61, 'temp_kf': 0}, 'weather': [{'id': 800, 'main': 'Clear', 'description': 'clear sky', 'icon': '01d'}], 'clouds': {'all': 9}, 'wind': {'speed': 0.55, 'deg': 22, 'gust': 0.96}, 'visibility': 10000, 'pop': 0, 'sys': {'pod': 'd'}, 'dt_txt': '2023-11-01 09:00:00'}, {'dt': 1698840000, 'main': {'temp': 273.22, 'feels_like': 273.22, 'temp_min': 273.22, 'temp_max': 273.22, 'pressure': 1008, 'sea_level': 1008, 'grnd_level': 989, 'humidity': 55, 'temp_kf': 0}, 'weather': [{'id': 800, 'main': 'Clear', 'description': 'clear sky', 'icon': '01d'}], 'clouds': {'all': 9}, 'wind': {'speed': 0.7, 'deg': 55, 'gust': 1.16}, 'visibility': 10000, 'pop': 0, 'sys': {'pod': 'd'}, 'dt_txt': '2023-11-01 12:00:00'}, {'dt': 1698850800, 'main': {'temp': 271.84, 'feels_like': 271.84, 'temp_min': 271.84, 'temp_max': 271.84, 'pressure': 1007, 'sea_level': 1007, 'grnd_level': 988, 'humidity': 65, 'temp_kf': 0}, 'weather': [{'id': 803, 'main': 'Clouds', 'description': 'broken clouds', 'icon': '04d'}], 'clouds': {'all': 64}, 'wind': {'speed': 0.85, 'deg': 116, 'gust': 0.91}, 'visibility': 10000, 'pop': 0, 'sys': {'pod': 'd'}, 'dt_txt': '2023-11-01 15:00:00'}, {'dt': 1698861600, 'main': {'temp': 271.42, 'feels_like': 271.42, 'temp_min': 271.42, 'temp_max': 271.42, 'pressure': 1007, 'sea_level': 1007, 'grnd_level': 988, 'humidity': 70, 'temp_kf': 0}, 'weather': [{'id': 803, 'main': 'Clouds', 'description': 'broken clouds', 'icon': '04n'}], 'clouds': {'all': 82}, 'wind': {'speed': 0.55, 'deg': 79, 'gust': 0.8}, 'visibility': 10000, 'pop': 0, 'sys': {'pod': 'n'}, 'dt_txt': '2023-11-01 18:00:00'}, {'dt': 1698872400, 'main': {'temp': 271.56, 'feels_like': 271.56, 'temp_min': 271.56, 'temp_max': 271.56, 'pressure': 1005, 'sea_level': 1005, 'grnd_level': 987, 'humidity': 73, 'temp_kf': 0}, 'weather': [{'id': 804, 'main': 'Clouds', 'description': 'overcast clouds', 'icon': '04n'}], 'clouds': {'all': 100}, 'wind': {'speed': 0.81, 'deg': 99, 'gust': 1.4}, 'visibility': 10000, 'pop': 0.22, 'sys': {'pod': 'n'}, 'dt_txt': '2023-11-01 21:00:00'}, {'dt': 1698883200, 'main': {'temp': 270.84, 'feels_like': 270.84, 'temp_min': 270.84, 'temp_max': 270.84, 'pressure': 1004, 'sea_level': 1004, 'grnd_level': 985, 'humidity': 93, 'temp_kf': 0}, 'weather': [{'id': 600, 'main': 'Snow', 'description': 'light snow', 'icon': '13n'}], 'clouds': {'all': 100}, 'wind': {'speed': 0.98, 'deg': 58, 'gust': 1.83}, 'visibility': 187, 'pop': 0.92, 'snow': {'3h': 1.31}, 'sys': {'pod': 'n'}, 'dt_txt': '2023-11-02 00:00:00'}, {'dt': 1698894000, 'main': {'temp': 270.97, 'feels_like': 270.97, 'temp_min': 270.97, 'temp_max': 270.97, 'pressure': 1002, 'sea_level': 1002, 'grnd_level': 983, 'humidity': 94, 'temp_kf': 0}, 'weather': [{'id': 600, 'main': 'Snow', 'description': 'light snow', 'icon': '13n'}], 'clouds': {'all': 100}, 'wind': {'speed': 1.17, 'deg': 30, 'gust': 2.4}, 'visibility': 168, 'pop': 0.94, 'snow': {'3h': 0.72}, 'sys': {'pod': 'n'}, 'dt_txt': '2023-11-02 03:00:00'}, {'dt': 1698904800, 'main': {'temp': 271.2, 'feels_like': 269.31, 'temp_min': 271.2, 'temp_max': 271.2, 'pressure': 1001, 'sea_level': 1001, 'grnd_level': 982, 'humidity': 95, 'temp_kf': 0}, 'weather': [{'id': 601, 'main': 'Snow', 'description': 'snow', 'icon': '13n'}], 'clouds': {'all': 100}, 'wind': {'speed': 1.42, 'deg': 21, 'gust': 3.11}, 'visibility': 157, 'pop': 0.94, 'snow': {'3h': 1.86}, 'sys': {'pod': 'n'}, 'dt_txt': '2023-11-02 06:00:00'}, {'dt': 1698915600, 'main': {'temp': 271.74, 'feels_like': 269.49, 'temp_min': 271.74, 'temp_max': 271.74, 'pressure': 1001, 'sea_level': 1001, 'grnd_level': 982, 'humidity': 94, 'temp_kf': 0}, 'weather': [{'id': 601, 'main': 'Snow', 'description': 'snow', 'icon': '13d'}], 'clouds': {'all': 100}, 'wind': {'speed': 1.69, 'deg': 25, 'gust': 3.56}, 'visibility': 175, 'pop': 0.96, 'snow': {'3h': 2.47}, 'sys': {'pod': 'd'}, 'dt_txt': '2023-11-02 09:00:00'}, {'dt': 1698926400, 'main': {'temp': 272.25, 'feels_like': 272.25, 'temp_min': 272.25, 'temp_max': 272.25, 'pressure': 1001, 'sea_level': 1001, 'grnd_level': 982, 'humidity': 91, 'temp_kf': 0}, 'weather': [{'id': 601, 'main': 'Snow', 'description': 'snow', 'icon': '13d'}], 'clouds': {'all': 100}, 'wind': {'speed': 1.25, 'deg': 41, 'gust': 2.61}, 'visibility': 484, 'pop': 1, 'snow': {'3h': 1.73}, 'sys': {'pod': 'd'}, 'dt_txt': '2023-11-02 12:00:00'}, {'dt': 1698937200, 'main': {'temp': 271.87, 'feels_like': 271.87, 'temp_min': 271.87, 'temp_max': 271.87, 'pressure': 1000, 'sea_level': 1000, 'grnd_level': 982, 'humidity': 96, 'temp_kf': 0}, 'weather': [{'id': 600, 'main': 'Snow', 'description': 'light snow', 'icon': '13d'}], 'clouds': {'all': 100}, 'wind': {'speed': 1.25, 'deg': 36, 'gust': 2.59}, 'visibility': 228, 'pop': 0.56, 'snow': {'3h': 0.42}, 'sys': {'pod': 'd'}, 'dt_txt': '2023-11-02 15:00:00'}, {'dt': 1698948000, 'main': {'temp': 271.72, 'feels_like': 270.01, 'temp_min': 271.72, 'temp_max': 271.72, 'pressure': 1000, 'sea_level': 1000, 'grnd_level': 981, 'humidity': 95, 'temp_kf': 0}, 'weather': [{'id': 600, 'main': 'Snow', 'description': 'light snow', 'icon': '13n'}], 'clouds': {'all': 100}, 'wind': {'speed': 1.36, 'deg': 24, 'gust': 3.01}, 'visibility': 449, 'pop': 0.78, 'snow': {'3h': 0.52}, 'sys': {'pod': 'n'}, 'dt_txt': '2023-11-02 18:00:00'}, {'dt': 1698958800, 'main': {'temp': 271.78, 'feels_like': 269.19, 'temp_min': 271.78, 'temp_max': 271.78, 'pressure': 999, 'sea_level': 999, 'grnd_level': 981, 'humidity': 96, 'temp_kf': 0}, 'weather': [{'id': 601, 'main': 'Snow', 'description': 'snow', 'icon': '13n'}], 'clouds': {'all': 100}, 'wind': {'speed': 1.93, 'deg': 17, 'gust': 4.6}, 'visibility': 121, 'pop': 1, 'snow': {'3h': 1.59}, 'sys': {'pod': 'n'}, 'dt_txt': '2023-11-02 21:00:00'}, {'dt': 1698969600, 'main': {'temp': 271.94, 'feels_like': 268.21, 'temp_min': 271.94, 'temp_max': 271.94, 'pressure': 998, 'sea_level': 998, 'grnd_level': 980, 'humidity': 96, 'temp_kf': 0}, 'weather': [{'id': 601, 'main': 'Snow', 'description': 'snow', 'icon': '13n'}], 'clouds': {'all': 100}, 'wind': {'speed': 2.98, 'deg': 6, 'gust': 6.31}, 'visibility': 123, 'pop': 1, 'snow': {'3h': 4.77}, 'sys': {'pod': 'n'}, 'dt_txt': '2023-11-03 00:00:00'}, {'dt': 1698980400, 'main': {'temp': 272.2, 'feels_like': 268.14, 'temp_min': 272.2, 'temp_max': 272.2, 'pressure': 997, 'sea_level': 997, 'grnd_level': 978, 'humidity': 97, 'temp_kf': 0}, 'weather': [{'id': 601, 'main': 'Snow', 'description': 'snow', 'icon': '13n'}], 'clouds': {'all': 100}, 'wind': {'speed': 3.42, 'deg': 6, 'gust': 7.41}, 'visibility': 137, 'pop': 1, 'snow': {'3h': 5.58}, 'sys': {'pod': 'n'}, 'dt_txt': '2023-11-03 03:00:00'}, {'dt': 1698991200, 'main': {'temp': 272.56, 'feels_like': 268.53, 'temp_min': 272.56, 'temp_max': 272.56, 'pressure': 995, 'sea_level': 995, 'grnd_level': 976, 'humidity': 97, 'temp_kf': 0}, 'weather': [{'id': 601, 'main': 'Snow', 'description': 'snow', 'icon': '13n'}], 'clouds': {'all': 100}, 'wind': {'speed': 3.48, 'deg': 5, 'gust': 7.66}, 'visibility': 130, 'pop': 1, 'snow': {'3h': 8.39}, 'sys': {'pod': 'n'}, 'dt_txt': '2023-11-03 06:00:00'}, {'dt': 1699002000, 'main': {'temp': 273.46, 'feels_like': 269.7, 'temp_min': 273.46, 'temp_max': 273.46, 'pressure': 994, 'sea_level': 994, 'grnd_level': 975, 'humidity': 98, 'temp_kf': 0}, 'weather': [{'id': 601, 'main': 'Snow', 'description': 'snow', 'icon': '13d'}], 'clouds': {'all': 100}, 'wind': {'speed': 3.39, 'deg': 1, 'gust': 7.67}, 'visibility': 131, 'pop': 1, 'snow': {'3h': 9.21}, 'sys': {'pod': 'd'}, 'dt_txt': '2023-11-03 09:00:00'}, {'dt': 1699012800, 'main': {'temp': 274.45, 'feels_like': 271.11, 'temp_min': 274.45, 'temp_max': 274.45, 'pressure': 993, 'sea_level': 993, 'grnd_level': 975, 'humidity': 98, 'temp_kf': 0}, 'weather': [{'id': 601, 'main': 'Snow', 'description': 'snow', 'icon': '13d'}], 'clouds': {'all': 100}, 'wind': {'speed': 3.12, 'deg': 0, 'gust': 6.79}, 'visibility': 132, 'pop': 1, 'snow': {'3h': 8.21}, 'sys': {'pod': 'd'}, 'dt_txt': '2023-11-03 12:00:00'}, {'dt': 1699023600, 'main': {'temp': 274.78, 'feels_like': 271.75, 'temp_min': 274.78, 'temp_max': 274.78, 'pressure': 992, 'sea_level': 992, 'grnd_level': 974, 'humidity': 98, 'temp_kf': 0}, 'weather': [{'id': 601, 'main': 'Snow', 'description': 'snow', 'icon': '13d'}], 'clouds': {'all': 100}, 'wind': {'speed': 2.83, 'deg': 4, 'gust': 6.21}, 'visibility': 158, 'pop': 1, 'snow': {'3h': 3.23}, 'sys': {'pod': 'd'}, 'dt_txt': '2023-11-03 15:00:00'}, {'dt': 1699034400, 'main': {'temp': 274.79, 'feels_like': 271.6, 'temp_min': 274.79, 'temp_max': 274.79, 'pressure': 991, 'sea_level': 991, 'grnd_level': 973, 'humidity': 99, 'temp_kf': 0}, 'weather': [{'id': 601, 'main': 'Snow', 'description': 'snow', 'icon': '13n'}], 'clouds': {'all': 100}, 'wind': {'speed': 3.02, 'deg': 360, 'gust': 6.8}, 'visibility': 112, 'pop': 1, 'snow': {'3h': 3.76}, 'sys': {'pod': 'n'}, 'dt_txt': '2023-11-03 18:00:00'}, {'dt': 1699045200, 'main': {'temp': 274.91, 'feels_like': 271.66, 'temp_min': 274.91, 'temp_max': 274.91, 'pressure': 989, 'sea_level': 989, 'grnd_level': 971, 'humidity': 98, 'temp_kf': 0}, 'weather': [{'id': 601, 'main': 'Snow', 'description': 'snow', 'icon': '13n'}], 'clouds': {'all': 100}, 'wind': {'speed': 3.13, 'deg': 1, 'gust': 7.25}, 'visibility': 137, 'pop': 1, 'snow': {'3h': 2.99}, 'sys': {'pod': 'n'}, 'dt_txt': '2023-11-03 21:00:00'}, {'dt': 1699056000, 'main': {'temp': 274.88, 'feels_like': 271.54, 'temp_min': 274.88, 'temp_max': 274.88, 'pressure': 986, 'sea_level': 986, 'grnd_level': 968, 'humidity': 98, 'temp_kf': 0}, 'weather': [{'id': 601, 'main': 'Snow', 'description': 'snow', 'icon': '13n'}], 'clouds': {'all': 100}, 'wind': {'speed': 3.23, 'deg': 357, 'gust': 7.78}, 'visibility': 130, 'pop': 1, 'snow': {'3h': 4.24}, 'sys': {'pod': 'n'}, 'dt_txt': '2023-11-04 00:00:00'}, {'dt': 1699066800, 'main': {'temp': 274.88, 'feels_like': 271.53, 'temp_min': 274.88, 'temp_max': 274.88, 'pressure': 982, 'sea_level': 982, 'grnd_level': 964, 'humidity': 99, 'temp_kf': 0}, 'weather': [{'id': 601, 'main': 'Snow', 'description': 'snow', 'icon': '13n'}], 'clouds': {'all': 100}, 'wind': {'speed': 3.25, 'deg': 348, 'gust': 7.66}, 'visibility': 128, 'pop': 1, 'snow': {'3h': 5.41}, 'sys': {'pod': 'n'}, 'dt_txt': '2023-11-04 03:00:00'}, {'dt': 1699077600, 'main': {'temp': 274.89, 'feels_like': 271.65, 'temp_min': 274.89, 'temp_max': 274.89, 'pressure': 979, 'sea_level': 979, 'grnd_level': 960, 'humidity': 98, 'temp_kf': 0}, 'weather': [{'id': 601, 'main': 'Snow', 'description': 'snow', 'icon': '13n'}], 'clouds': {'all': 100}, 'wind': {'speed': 3.11, 'deg': 333, 'gust': 7.42}, 'visibility': 136, 'pop': 1, 'snow': {'3h': 5.73}, 'sys': {'pod': 'n'}, 'dt_txt': '2023-11-04 06:00:00'}], 'city': {'id': 3144113, 'name': 'Noresund', 'coord': {'lat': 60.1803, 'lon': 9.6231}, 'country': 'NO', 'population': 1000, 'timezone': 3600, 'sunrise': 1698647879, 'sunset': 1698679933}}\")\n"
     ]
    }
   ],
   "source": [
    "# Query the data\n",
    "forecast_rows = session.execute(\"SELECT * FROM forecast_table;\")\n",
    "print(forecast_rows.one()) # <- only one row"
   ]
  },
  {
   "cell_type": "markdown",
   "metadata": {
    "slideshow": {
     "slide_type": "slide"
    }
   },
   "source": [
    "## Resources\n",
    "- [Cassandra webpage](https://cassandra.apache.org/)\n",
    "- [Cassandra Docker file](https://hub.docker.com/_/cassandra)\n",
    "- [UUID functions](https://docs.datastax.com/en/cql-oss/3.3/cql/cql_reference/timeuuid_functions_r.html)\n",
    "- [YouTube: Cassandra in 100 seconds](https://youtu.be/ziq7FUKpCS8?si=WQUdkHFvaBmT0DBo) (2m:26s)\n",
    "- [YouTube: How to use Apache Cassandra in Python](https://youtu.be/qMauZqJH3ZM?si=yKGZ-5cld2BK396Y) (14m:50s)\n",
    "- [YouTube: Cassandra Database Crash Course](https://youtu.be/KZsVSfQVU4I?si=FBCi8qOfCirfVmZk) (19m:47s)"
   ]
  }
 ],
 "metadata": {
  "celltoolbar": "Slideshow",
  "kernelspec": {
   "display_name": "Python 3 (ipykernel)",
   "language": "python",
   "name": "python3"
  },
  "language_info": {
   "codemirror_mode": {
    "name": "ipython",
    "version": 3
   },
   "file_extension": ".py",
   "mimetype": "text/x-python",
   "name": "python",
   "nbconvert_exporter": "python",
   "pygments_lexer": "ipython3",
   "version": "3.11.6"
  }
 },
 "nbformat": 4,
 "nbformat_minor": 2
}