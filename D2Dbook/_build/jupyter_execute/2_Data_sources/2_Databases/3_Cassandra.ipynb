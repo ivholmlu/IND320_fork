{
 "cells": [
  {
   "cell_type": "markdown",
   "metadata": {
    "slideshow": {
     "slide_type": "slide"
    }
   },
   "source": [
    "# Cassandra\n",
    "- A production grade NoSQL database.\n",
    "- Can be distributed across servers, nodes, etc.\n",
    "- Replication of database is supported for high degree of redundancy and speed.\n",
    "- Uses CQL, a subset of SQL for querying.\n",
    "- Works seamlesly together with Spark and its corresponding distributed structure.\n",
    "- Installation of Cassandra is explained in the [Installation chapter](../../6_Appendix/Installation.ipynb)."
   ]
  },
  {
   "cell_type": "markdown",
   "metadata": {
    "slideshow": {
     "slide_type": "slide"
    }
   },
   "source": [
    "## Spinning up a local Cassandra instance\n",
    "In a terminal, first time:  \n",
    "```docker run --name my_cassandra -p 9042:9042 cassandra:latest```  \n",
    "... and later:  \n",
    "```docker start my_cassandra```  \n",
    "  \n",
    ".. or in Docker Desktop:\n",
    "- Run the cassandra docker image with optional settings, opening 9042 port and setting a name.\n",
    "- Later, simply run the container with the name you chose."
   ]
  },
  {
   "cell_type": "markdown",
   "metadata": {
    "slideshow": {
     "slide_type": "slide"
    }
   },
   "source": [
    "<img src=\"https://github.com/khliland/IND320/blob/main/D2Dbook/images/Docker_images.png?raw=TRUE\" width=\"600px\">  "
   ]
  },
  {
   "cell_type": "markdown",
   "metadata": {
    "slideshow": {
     "slide_type": "slide"
    }
   },
   "source": [
    "\n",
    "<img src=\"https://github.com/khliland/IND320/blob/main/D2Dbook/images/Docker_containers.png?raw=TRUE\" width=\"800px\">  "
   ]
  },
  {
   "cell_type": "markdown",
   "metadata": {
    "slideshow": {
     "slide_type": "slide"
    }
   },
   "source": [
    "### Connect to the Cassandra cluster from Python."
   ]
  },
  {
   "cell_type": "code",
   "execution_count": 1,
   "metadata": {
    "slideshow": {
     "slide_type": "-"
    }
   },
   "outputs": [],
   "source": [
    "# Connecting to Cassandra\n",
    "from cassandra.cluster import Cluster\n",
    "cluster = Cluster(['localhost'], port=9042)\n",
    "session = cluster.connect()"
   ]
  },
  {
   "cell_type": "markdown",
   "metadata": {
    "slideshow": {
     "slide_type": "slide"
    }
   },
   "source": [
    "### Keyspace\n",
    "- In Cassandra database tables are stored in keyspaces (basically a distributed database).\n",
    "- These have parameters controlling their distribution on nodes/servers and redundancy.\n",
    "- We will use the simplest form locally."
   ]
  },
  {
   "cell_type": "code",
   "execution_count": 2,
   "metadata": {
    "slideshow": {
     "slide_type": "fragment"
    }
   },
   "outputs": [
    {
     "data": {
      "text/plain": [
       "<cassandra.cluster.ResultSet at 0x1058d5d50>"
      ]
     },
     "execution_count": 2,
     "metadata": {},
     "output_type": "execute_result"
    }
   ],
   "source": [
    "# Set up new keyspace (first time only)\n",
    "#                                              name of keyspace                        replication strategy           replication factor\n",
    "session.execute(\"CREATE KEYSPACE IF NOT EXISTS my_first_keyspace WITH REPLICATION = { 'class' : 'SimpleStrategy', 'replication_factor' : 1 };\")"
   ]
  },
  {
   "cell_type": "markdown",
   "metadata": {
    "slideshow": {
     "slide_type": "slide"
    }
   },
   "source": [
    "### Create a table\n",
    "- IF NOT EXISTS makes sure we do not overwrite existing tables"
   ]
  },
  {
   "cell_type": "code",
   "execution_count": 3,
   "metadata": {
    "slideshow": {
     "slide_type": "fragment"
    }
   },
   "outputs": [
    {
     "data": {
      "text/plain": [
       "<cassandra.cluster.ResultSet at 0x1077034d0>"
      ]
     },
     "execution_count": 3,
     "metadata": {},
     "output_type": "execute_result"
    }
   ],
   "source": [
    "# Create a new table (first time only)\n",
    "session.set_keyspace('my_first_keyspace')\n",
    "session.execute(\"DROP TABLE IF EXISTS my_first_keyspace.my_first_table;\") # Starting from scratch every time\n",
    "session.execute(\"CREATE TABLE IF NOT EXISTS my_first_table (ind int PRIMARY KEY, company text, model text);\")"
   ]
  },
  {
   "cell_type": "markdown",
   "metadata": {
    "slideshow": {
     "slide_type": "slide"
    }
   },
   "source": [
    "### Inserting and reading data"
   ]
  },
  {
   "cell_type": "code",
   "execution_count": 4,
   "metadata": {
    "slideshow": {
     "slide_type": "-"
    }
   },
   "outputs": [
    {
     "data": {
      "text/plain": [
       "<cassandra.cluster.ResultSet at 0x10770b0d0>"
      ]
     },
     "execution_count": 4,
     "metadata": {},
     "output_type": "execute_result"
    }
   ],
   "source": [
    "# Insert some data (ind is the primary key, must be unique)\n",
    "session.execute(\"INSERT INTO my_first_table (ind, company, model) VALUES (1, 'Tesla', 'Model S');\")\n",
    "session.execute(\"INSERT INTO my_first_table (ind, company, model) VALUES (2, 'Tesla', 'Model 3');\")\n",
    "session.execute(\"INSERT INTO my_first_table (ind, company, model) VALUES (3, 'Polestar', '3');\")"
   ]
  },
  {
   "cell_type": "markdown",
   "metadata": {
    "slideshow": {
     "slide_type": "slide"
    }
   },
   "source": [
    "### Asyncronous writing\n",
    "- If your application is very data intensive, waiting for a response is not productive.\n",
    "- Writing asyncronously sends the data but does not pause for reply."
   ]
  },
  {
   "cell_type": "code",
   "execution_count": 5,
   "metadata": {
    "slideshow": {
     "slide_type": "-"
    }
   },
   "outputs": [
    {
     "data": {
      "text/plain": [
       "<ResponseFuture: query='<SimpleStatement query=\"INSERT INTO my_first_table (ind, company, model) VALUES (4, 'Volkswagen', 'ID.4');\", consistency=Not Set>' request_id=24 result=(no result yet) exception=None coordinator_host=None>"
      ]
     },
     "execution_count": 5,
     "metadata": {},
     "output_type": "execute_result"
    }
   ],
   "source": [
    "session.execute_async(\"INSERT INTO my_first_table (ind, company, model) VALUES (4, 'Volkswagen', 'ID.4');\")"
   ]
  },
  {
   "cell_type": "code",
   "execution_count": 6,
   "metadata": {
    "slideshow": {
     "slide_type": "slide"
    }
   },
   "outputs": [
    {
     "name": "stdout",
     "output_type": "stream",
     "text": [
      "Row(ind=1, company='Tesla', model='Model S')\n",
      "Row(ind=2, company='Tesla', model='Model 3')\n",
      "Row(ind=4, company='Volkswagen', model='ID.4')\n",
      "Row(ind=3, company='Polestar', model='3')\n"
     ]
    }
   ],
   "source": [
    "# Query the data\n",
    "rows = session.execute(\"SELECT * FROM my_first_table;\")\n",
    "for i in rows:\n",
    "    print(i)"
   ]
  },
  {
   "cell_type": "code",
   "execution_count": 7,
   "metadata": {
    "slideshow": {
     "slide_type": "slide"
    },
    "tags": [
     "raises-exception"
    ]
   },
   "outputs": [
    {
     "ename": "InvalidRequest",
     "evalue": "Error from server: code=2200 [Invalid query] message=\"Cannot execute this query as it might involve data filtering and thus may have unpredictable performance. If you want to execute this query despite the performance unpredictability, use ALLOW FILTERING\"",
     "output_type": "error",
     "traceback": [
      "\u001b[0;31m---------------------------------------------------------------------------\u001b[0m",
      "\u001b[0;31mInvalidRequest\u001b[0m                            Traceback (most recent call last)",
      "Cell \u001b[0;32mIn[7], line 2\u001b[0m\n\u001b[1;32m      1\u001b[0m \u001b[38;5;66;03m# More specific query\u001b[39;00m\n\u001b[0;32m----> 2\u001b[0m prepared_statement \u001b[38;5;241m=\u001b[39m \u001b[43msession\u001b[49m\u001b[38;5;241;43m.\u001b[39;49m\u001b[43mprepare\u001b[49m\u001b[43m(\u001b[49m\u001b[38;5;124;43m\"\u001b[39;49m\u001b[38;5;124;43mSELECT * FROM my_first_table WHERE company=?;\u001b[39;49m\u001b[38;5;124;43m\"\u001b[39;49m\u001b[43m)\u001b[49m \u001b[38;5;66;03m# <- will fail as company is not a key\u001b[39;00m\n\u001b[1;32m      3\u001b[0m teslas \u001b[38;5;241m=\u001b[39m session\u001b[38;5;241m.\u001b[39mexecute(prepared_statement, [\u001b[38;5;124m'\u001b[39m\u001b[38;5;124mTesla\u001b[39m\u001b[38;5;124m'\u001b[39m])\n\u001b[1;32m      4\u001b[0m \u001b[38;5;28;01mfor\u001b[39;00m i \u001b[38;5;129;01min\u001b[39;00m teslas:\n",
      "File \u001b[0;32m~/miniforge3/envs/IND320/lib/python3.11/site-packages/cassandra/cluster.py:3099\u001b[0m, in \u001b[0;36mcassandra.cluster.Session.prepare\u001b[0;34m()\u001b[0m\n",
      "File \u001b[0;32m~/miniforge3/envs/IND320/lib/python3.11/site-packages/cassandra/cluster.py:3096\u001b[0m, in \u001b[0;36mcassandra.cluster.Session.prepare\u001b[0;34m()\u001b[0m\n",
      "File \u001b[0;32m~/miniforge3/envs/IND320/lib/python3.11/site-packages/cassandra/cluster.py:4928\u001b[0m, in \u001b[0;36mcassandra.cluster.ResponseFuture.result\u001b[0;34m()\u001b[0m\n",
      "\u001b[0;31mInvalidRequest\u001b[0m: Error from server: code=2200 [Invalid query] message=\"Cannot execute this query as it might involve data filtering and thus may have unpredictable performance. If you want to execute this query despite the performance unpredictability, use ALLOW FILTERING\""
     ]
    }
   ],
   "source": [
    "# More specific query\n",
    "prepared_statement = session.prepare(\"SELECT * FROM my_first_table WHERE company=?;\") # <- will fail as company is not a key\n",
    "teslas = session.execute(prepared_statement, ['Tesla'])\n",
    "for i in teslas:\n",
    "    print(i)"
   ]
  },
  {
   "cell_type": "markdown",
   "metadata": {
    "slideshow": {
     "slide_type": "slide"
    }
   },
   "source": [
    "## Cassandra filtering\n",
    "Cassandra is inherently a distributed production database. Selecting as above may require downloading all data from a node, then filtering based on the WHERE part (only PRIMARY KEYs are centrally known). Solutions:  \n",
    "- If the table is small or most of the data will satisfy the query, add ```ALLOW FILTERING``` at the end of the query (not recommended if not known). \n",
    "- Or make sure the WHERE clause points to one of the keys (see below)."
   ]
  },
  {
   "cell_type": "code",
   "execution_count": 8,
   "metadata": {
    "slideshow": {
     "slide_type": "slide"
    }
   },
   "outputs": [
    {
     "data": {
      "text/plain": [
       "<cassandra.cluster.ResultSet at 0x1059102d0>"
      ]
     },
     "execution_count": 8,
     "metadata": {},
     "output_type": "execute_result"
    }
   ],
   "source": [
    "# Create a new table (observe keys)\n",
    "session.execute(\"DROP TABLE IF EXISTS my_first_keyspace.car_table;\")\n",
    "session.execute(\"CREATE TABLE IF NOT EXISTS car_table (company text, model text, PRIMARY KEY(company, model));\")"
   ]
  },
  {
   "cell_type": "code",
   "execution_count": 9,
   "metadata": {
    "slideshow": {
     "slide_type": "fragment"
    }
   },
   "outputs": [
    {
     "data": {
      "text/plain": [
       "<cassandra.cluster.ResultSet at 0x107bfa350>"
      ]
     },
     "execution_count": 9,
     "metadata": {},
     "output_type": "execute_result"
    }
   ],
   "source": [
    "# Insert some data (combination of company and model must be unique)\n",
    "session.execute(\"INSERT INTO car_table (company, model) VALUES ('Tesla', 'Model S');\")\n",
    "session.execute(\"INSERT INTO car_table (company, model) VALUES ('Tesla', 'Model 3');\")\n",
    "session.execute(\"INSERT INTO car_table (company, model) VALUES ('Polestar', '3');\")\n",
    "session.execute(\"INSERT INTO car_table (company, model) VALUES ('Volkswagen', 'ID.4');\")"
   ]
  },
  {
   "cell_type": "code",
   "execution_count": 10,
   "metadata": {
    "slideshow": {
     "slide_type": "slide"
    }
   },
   "outputs": [
    {
     "name": "stdout",
     "output_type": "stream",
     "text": [
      "Row(company='Tesla', model='Model 3')\n",
      "Row(company='Tesla', model='Model S')\n"
     ]
    }
   ],
   "source": [
    "# More specific query now works\n",
    "prepared_statement = session.prepare(\"SELECT * FROM car_table WHERE company=?;\")\n",
    "teslas = session.execute(prepared_statement, ['Tesla'])\n",
    "for i in teslas:\n",
    "    print(i)"
   ]
  },
  {
   "cell_type": "markdown",
   "metadata": {
    "slideshow": {
     "slide_type": "slide"
    }
   },
   "source": [
    "### Partitions\n",
    "- Cassandra databases are usually replicated over different nodes.\n",
    "- Data is stored in partitions (subsets) which have local copys.\n",
    "- The primary key, e.g., PRIMARY KEY(company, model), is used in partitioning.\n",
    "    - The first part, e.g., company, is most important.\n",
    "    - All cars from a company will be located together, aiming for quicker queries."
   ]
  },
  {
   "cell_type": "markdown",
   "metadata": {
    "slideshow": {
     "slide_type": "slide"
    }
   },
   "source": [
    "### Unique IDs \n",
    "- In MySQL one could use the attribute AUTO_INCREMENT on integer IDs to automatically make a new unique index when inserting data.\n",
    "- This would cause unreasonable overhead in a distributed database.\n",
    "- [UUID](https://en.wikipedia.org/wiki/Universally_unique_identifier)s are used instead.\n",
    "    - Universally Unique Identifiers are typically 128-bit random bit sequences with extremely low probability of duplication.\n",
    "    - Cassandra uses a [timeuuid](https://docs.datastax.com/en/cql-oss/3.3/cql/cql_reference/timeuuid_functions_r.html) type to combine a timestamp and uuid in one."
   ]
  },
  {
   "cell_type": "code",
   "execution_count": 11,
   "metadata": {
    "slideshow": {
     "slide_type": "fragment"
    }
   },
   "outputs": [
    {
     "data": {
      "text/plain": [
       "<cassandra.cluster.ResultSet at 0x107c22d90>"
      ]
     },
     "execution_count": 11,
     "metadata": {},
     "output_type": "execute_result"
    }
   ],
   "source": [
    "# Create a new table (first time only)\n",
    "session.set_keyspace('my_first_keyspace')\n",
    "session.execute(\"DROP TABLE IF EXISTS my_first_keyspace.table_with_uuid;\")\n",
    "session.execute(\"CREATE TABLE IF NOT EXISTS table_with_uuid (id timeuuid PRIMARY KEY, company text, model text, price float);\")"
   ]
  },
  {
   "cell_type": "code",
   "execution_count": 12,
   "metadata": {
    "slideshow": {
     "slide_type": "slide"
    }
   },
   "outputs": [
    {
     "data": {
      "text/plain": [
       "<cassandra.cluster.ResultSet at 0x107c0cf90>"
      ]
     },
     "execution_count": 12,
     "metadata": {},
     "output_type": "execute_result"
    }
   ],
   "source": [
    "session.execute(\"INSERT INTO table_with_uuid (id, company, model, price) VALUES (now(), 'Tesla', 'Model S', 20000.0);\")\n",
    "session.execute(\"INSERT INTO table_with_uuid (id, company, model, price) VALUES (now(), 'Tesla', 'Model S', 21000.0);\")\n",
    "session.execute(\"INSERT INTO table_with_uuid (id, company, model, price) VALUES (now(), 'Oldsmobile', 'Model 6C', 135000.0);\")"
   ]
  },
  {
   "cell_type": "code",
   "execution_count": 13,
   "metadata": {
    "slideshow": {
     "slide_type": "slide"
    }
   },
   "outputs": [
    {
     "name": "stdout",
     "output_type": "stream",
     "text": [
      "Row(id=UUID('0779a730-8203-11ee-9d44-1198bb0571f3'), company='Oldsmobile', model='Model 6C', price=135000.0)\n",
      "Datetime: 2023-11-13 09:00:01.699000\n",
      "Row(id=UUID('07798020-8203-11ee-9d44-1198bb0571f3'), company='Tesla', model='Model S', price=21000.0)\n",
      "Datetime: 2023-11-13 09:00:01.698000\n",
      "Row(id=UUID('07793200-8203-11ee-9d44-1198bb0571f3'), company='Tesla', model='Model S', price=20000.0)\n",
      "Datetime: 2023-11-13 09:00:01.696000\n"
     ]
    }
   ],
   "source": [
    "from cassandra.util import datetime_from_uuid1\n",
    "\n",
    "# Query the data\n",
    "rows = session.execute(\"SELECT * FROM table_with_uuid;\")\n",
    "for i in rows:\n",
    "    print(i)\n",
    "    # Extract the timestamp from Cassandra's timeuuid\n",
    "    print(\"Datetime:\", datetime_from_uuid1(i.id))"
   ]
  },
  {
   "cell_type": "markdown",
   "metadata": {
    "slideshow": {
     "slide_type": "slide"
    }
   },
   "source": [
    "## JSON in Cassandra\n",
    "### Read previously saved JSON file forecast.json to memory"
   ]
  },
  {
   "cell_type": "code",
   "execution_count": 14,
   "metadata": {
    "slideshow": {
     "slide_type": "-"
    }
   },
   "outputs": [],
   "source": [
    "import json\n",
    "with open('../3_APIs/downloads/forecast.json', 'r') as f:\n",
    "    forecast = json.load(f)"
   ]
  },
  {
   "cell_type": "code",
   "execution_count": 15,
   "metadata": {
    "slideshow": {
     "slide_type": "slide"
    }
   },
   "outputs": [
    {
     "data": {
      "text/plain": [
       "\"{'cod': '200', 'message': 0, 'cnt': 40, 'list': [{'dt': 1699866000, 'main': {'temp': 269.32, 'feels_like': 269.32, 'temp_min': 267.39, 'temp_max': 269.32, 'pressure': 1011, 'sea_level': 1011, 'grnd_level': 992, 'humidity': 94, 'temp_kf': 1.93}, 'weather': [{'id': 802, 'main': 'Clouds', 'description': 'scattered clouds', 'icon': '03d'}], 'clouds': {'all': 46}, 'wind': {'speed': 1.26, 'deg': 345, 'gust': 1.76}, 'visibility': 10000, 'pop': 0, 'sys': {'pod': 'd'}, 'dt_txt': '2023-11-13 09:00:00'}, {'dt': 1699876800, 'main': {'temp': 269.79, 'feels_like': 269.79, 'temp_min': 269.79, 'temp_max': 270.74, 'pressure': 1011, 'sea_level': 1011, 'grnd_level': 991, 'humidity': 93, 'temp_kf': -0.95}, 'weather': [{'id': 802, 'main': 'Clouds', 'description': 'scattered clouds', 'icon': '03d'}], 'clouds': {'all': 42}, 'wind': {'speed': 0.49, 'deg': 65, 'gust': 0.66}, 'visibility': 10000, 'pop': 0, 'sys': {'pod': 'd'}, 'dt_txt': '2023-11-13 12:00:00'}, {'dt': 1699887600, 'main': {'temp': 267.09, 'feels_like': 264.37, 'temp_min': 265.97, 'temp_max': 267.09, 'pressure': 1010, 'sea_level': 1010, 'grnd_level': 990, 'humidity': 97, 'temp_kf': 1.12}, 'weather': [{'id': 802, 'main': 'Clouds', 'description': 'scattered clouds', 'icon': '03n'}], 'clouds': {'all': 42}, 'wind': {'speed': 1.56, 'deg': 345, 'gust': 1.31}, 'visibility': 7053, 'pop': 0, 'sys': {'pod': 'n'}, 'dt_txt': '2023-11-13 15:00:00'}, {'dt': 1699898400, 'main': {'temp': 264.76, 'feels_like': 261.29, 'temp_min': 264.76, 'temp_max': 264.76, 'pressure': 1009, 'sea_level': 1009, 'grnd_level': 989, 'humidity': 97, 'temp_kf': 0}, 'weather': [{'id': 803, 'main': 'Clouds', 'description': 'broken clouds', 'icon': '04n'}], 'clouds': {'all': 57}, 'wind': {'speed': 1.78, 'deg': 327, 'gust': 1.5}, 'visibility': 6573, 'pop': 0, 'sys': {'pod': 'n'}, 'dt_txt': '2023-11-13 18:00:00'}, {'dt': 1699909200, 'main': {'temp': 266.24, 'feels_like': 263.2, 'temp_min': 266.24, 'temp_max': 266.24, 'pressure': 1007, 'sea_level': 1007, 'grnd_level': 988, 'humidity': 97, 'temp_kf': 0}, 'weather': [{'id': 804, 'main': 'Clouds', 'description': 'overcast clouds', 'icon': '04n'}], 'clouds': {'all': 95}, 'wind': {'speed': 1.67, 'deg': 359, 'gust': 2.09}, 'visibility': 899, 'pop': 0, 'sys': {'pod': 'n'}, 'dt_txt': '2023-11-13 21:00:00'}, {'dt': 1699920000, 'main': {'temp': 266.73, 'feels_like': 263.52, 'temp_min': 266.73, 'temp_max': 266.73, 'pressure': 1007, 'sea_level': 1007, 'grnd_level': 988, 'humidity': 97, 'temp_kf': 0}, 'weather': [{'id': 600, 'main': 'Snow', 'description': 'light snow', 'icon': '13n'}], 'clouds': {'all': 98}, 'wind': {'speed': 1.81, 'deg': 4, 'gust': 2.85}, 'visibility': 1255, 'pop': 0.2, 'snow': {'3h': 0.14}, 'sys': {'pod': 'n'}, 'dt_txt': '2023-11-14 00:00:00'}, {'dt': 1699930800, 'main': {'temp': 266.64, 'feels_like': 263.02, 'temp_min': 266.64, 'temp_max': 266.64, 'pressure': 1006, 'sea_level': 1006, 'grnd_level': 987, 'humidity': 96, 'temp_kf': 0}, 'weather': [{'id': 600, 'main': 'Snow', 'description': 'light snow', 'icon': '13n'}], 'clouds': {'all': 100}, 'wind': {'speed': 2.06, 'deg': 352, 'gust': 3.4}, 'visibility': 3826, 'pop': 0.32, 'snow': {'3h': 0.12}, 'sys': {'pod': 'n'}, 'dt_txt': '2023-11-14 03:00:00'}, {'dt': 1699941600, 'main': {'temp': 266.73, 'feels_like': 263.13, 'temp_min': 266.73, 'temp_max': 266.73, 'pressure': 1006, 'sea_level': 1006, 'grnd_level': 987, 'humidity': 96, 'temp_kf': 0}, 'weather': [{'id': 600, 'main': 'Snow', 'description': 'light snow', 'icon': '13n'}], 'clouds': {'all': 100}, 'wind': {'speed': 2.06, 'deg': 346, 'gust': 3.34}, 'visibility': 3128, 'pop': 0.2, 'snow': {'3h': 0.11}, 'sys': {'pod': 'n'}, 'dt_txt': '2023-11-14 06:00:00'}, {'dt': 1699952400, 'main': {'temp': 269.26, 'feels_like': 265.98, 'temp_min': 269.26, 'temp_max': 269.26, 'pressure': 1007, 'sea_level': 1007, 'grnd_level': 987, 'humidity': 94, 'temp_kf': 0}, 'weather': [{'id': 600, 'main': 'Snow', 'description': 'light snow', 'icon': '13d'}], 'clouds': {'all': 100}, 'wind': {'speed': 2.13, 'deg': 357, 'gust': 3.93}, 'visibility': 1016, 'pop': 0.61, 'snow': {'3h': 0.18}, 'sys': {'pod': 'd'}, 'dt_txt': '2023-11-14 09:00:00'}, {'dt': 1699963200, 'main': {'temp': 271.16, 'feels_like': 268.26, 'temp_min': 271.16, 'temp_max': 271.16, 'pressure': 1007, 'sea_level': 1007, 'grnd_level': 988, 'humidity': 91, 'temp_kf': 0}, 'weather': [{'id': 600, 'main': 'Snow', 'description': 'light snow', 'icon': '13d'}], 'clouds': {'all': 100}, 'wind': {'speed': 2.09, 'deg': 11, 'gust': 4.1}, 'visibility': 1895, 'pop': 0.53, 'snow': {'3h': 0.32}, 'sys': {'pod': 'd'}, 'dt_txt': '2023-11-14 12:00:00'}, {'dt': 1699974000, 'main': {'temp': 269.76, 'feels_like': 266.98, 'temp_min': 269.76, 'temp_max': 269.76, 'pressure': 1007, 'sea_level': 1007, 'grnd_level': 988, 'humidity': 96, 'temp_kf': 0}, 'weather': [{'id': 600, 'main': 'Snow', 'description': 'light snow', 'icon': '13n'}], 'clouds': {'all': 100}, 'wind': {'speed': 1.84, 'deg': 2, 'gust': 3.4}, 'visibility': 1886, 'pop': 0.36, 'snow': {'3h': 0.16}, 'sys': {'pod': 'n'}, 'dt_txt': '2023-11-14 15:00:00'}, {'dt': 1699984800, 'main': {'temp': 268.94, 'feels_like': 266.03, 'temp_min': 268.94, 'temp_max': 268.94, 'pressure': 1009, 'sea_level': 1009, 'grnd_level': 990, 'humidity': 96, 'temp_kf': 0}, 'weather': [{'id': 600, 'main': 'Snow', 'description': 'light snow', 'icon': '13n'}], 'clouds': {'all': 100}, 'wind': {'speed': 1.84, 'deg': 342, 'gust': 3.32}, 'visibility': 3764, 'pop': 0.32, 'snow': {'3h': 0.14}, 'sys': {'pod': 'n'}, 'dt_txt': '2023-11-14 18:00:00'}, {'dt': 1699995600, 'main': {'temp': 267.54, 'feels_like': 264.25, 'temp_min': 267.54, 'temp_max': 267.54, 'pressure': 1010, 'sea_level': 1010, 'grnd_level': 991, 'humidity': 95, 'temp_kf': 0}, 'weather': [{'id': 804, 'main': 'Clouds', 'description': 'overcast clouds', 'icon': '04n'}], 'clouds': {'all': 100}, 'wind': {'speed': 1.94, 'deg': 335, 'gust': 3.24}, 'visibility': 10000, 'pop': 0, 'sys': {'pod': 'n'}, 'dt_txt': '2023-11-14 21:00:00'}, {'dt': 1700006400, 'main': {'temp': 265.44, 'feels_like': 261.44, 'temp_min': 265.44, 'temp_max': 265.44, 'pressure': 1012, 'sea_level': 1012, 'grnd_level': 992, 'humidity': 94, 'temp_kf': 0}, 'weather': [{'id': 804, 'main': 'Clouds', 'description': 'overcast clouds', 'icon': '04n'}], 'clouds': {'all': 100}, 'wind': {'speed': 2.18, 'deg': 327, 'gust': 3.46}, 'visibility': 10000, 'pop': 0, 'sys': {'pod': 'n'}, 'dt_txt': '2023-11-15 00:00:00'}, {'dt': 1700017200, 'main': {'temp': 264.34, 'feels_like': 260.35, 'temp_min': 264.34, 'temp_max': 264.34, 'pressure': 1013, 'sea_level': 1013, 'grnd_level': 993, 'humidity': 94, 'temp_kf': 0}, 'weather': [{'id': 804, 'main': 'Clouds', 'description': 'overcast clouds', 'icon': '04n'}], 'clouds': {'all': 100}, 'wind': {'speed': 2.05, 'deg': 324, 'gust': 3.03}, 'visibility': 10000, 'pop': 0, 'sys': {'pod': 'n'}, 'dt_txt': '2023-11-15 03:00:00'}, {'dt': 1700028000, 'main': {'temp': 264.08, 'feels_like': 260.38, 'temp_min': 264.08, 'temp_max': 264.08, 'pressure': 1014, 'sea_level': 1014, 'grnd_level': 994, 'humidity': 93, 'temp_kf': 0}, 'weather': [{'id': 804, 'main': 'Clouds', 'description': 'overcast clouds', 'icon': '04n'}], 'clouds': {'all': 100}, 'wind': {'speed': 1.85, 'deg': 324, 'gust': 2.28}, 'visibility': 10000, 'pop': 0, 'sys': {'pod': 'n'}, 'dt_txt': '2023-11-15 06:00:00'}, {'dt': 1700038800, 'main': {'temp': 265.77, 'feels_like': 263.27, 'temp_min': 265.77, 'temp_max': 265.77, 'pressure': 1015, 'sea_level': 1015, 'grnd_level': 996, 'humidity': 89, 'temp_kf': 0}, 'weather': [{'id': 804, 'main': 'Clouds', 'description': 'overcast clouds', 'icon': '04d'}], 'clouds': {'all': 100}, 'wind': {'speed': 1.36, 'deg': 337, 'gust': 1.89}, 'visibility': 10000, 'pop': 0, 'sys': {'pod': 'd'}, 'dt_txt': '2023-11-15 09:00:00'}, {'dt': 1700049600, 'main': {'temp': 268.67, 'feels_like': 268.67, 'temp_min': 268.67, 'temp_max': 268.67, 'pressure': 1015, 'sea_level': 1015, 'grnd_level': 996, 'humidity': 85, 'temp_kf': 0}, 'weather': [{'id': 804, 'main': 'Clouds', 'description': 'overcast clouds', 'icon': '04d'}], 'clouds': {'all': 100}, 'wind': {'speed': 0.63, 'deg': 7, 'gust': 1.15}, 'visibility': 10000, 'pop': 0, 'sys': {'pod': 'd'}, 'dt_txt': '2023-11-15 12:00:00'}, {'dt': 1700060400, 'main': {'temp': 264.64, 'feels_like': 261.88, 'temp_min': 264.64, 'temp_max': 264.64, 'pressure': 1017, 'sea_level': 1017, 'grnd_level': 997, 'humidity': 96, 'temp_kf': 0}, 'weather': [{'id': 804, 'main': 'Clouds', 'description': 'overcast clouds', 'icon': '04n'}], 'clouds': {'all': 100}, 'wind': {'speed': 1.41, 'deg': 323, 'gust': 1.17}, 'visibility': 10000, 'pop': 0, 'sys': {'pod': 'n'}, 'dt_txt': '2023-11-15 15:00:00'}, {'dt': 1700071200, 'main': {'temp': 262.81, 'feels_like': 259.06, 'temp_min': 262.81, 'temp_max': 262.81, 'pressure': 1018, 'sea_level': 1018, 'grnd_level': 998, 'humidity': 95, 'temp_kf': 0}, 'weather': [{'id': 804, 'main': 'Clouds', 'description': 'overcast clouds', 'icon': '04n'}], 'clouds': {'all': 97}, 'wind': {'speed': 1.77, 'deg': 312, 'gust': 1.44}, 'visibility': 10000, 'pop': 0, 'sys': {'pod': 'n'}, 'dt_txt': '2023-11-15 18:00:00'}, {'dt': 1700082000, 'main': {'temp': 262.19, 'feels_like': 258.4, 'temp_min': 262.19, 'temp_max': 262.19, 'pressure': 1019, 'sea_level': 1019, 'grnd_level': 999, 'humidity': 95, 'temp_kf': 0}, 'weather': [{'id': 803, 'main': 'Clouds', 'description': 'broken clouds', 'icon': '04n'}], 'clouds': {'all': 74}, 'wind': {'speed': 1.74, 'deg': 315, 'gust': 1.39}, 'visibility': 10000, 'pop': 0, 'sys': {'pod': 'n'}, 'dt_txt': '2023-11-15 21:00:00'}, {'dt': 1700092800, 'main': {'temp': 261.8, 'feels_like': 258.05, 'temp_min': 261.8, 'temp_max': 261.8, 'pressure': 1020, 'sea_level': 1020, 'grnd_level': 1000, 'humidity': 95, 'temp_kf': 0}, 'weather': [{'id': 803, 'main': 'Clouds', 'description': 'broken clouds', 'icon': '04n'}], 'clouds': {'all': 67}, 'wind': {'speed': 1.69, 'deg': 311, 'gust': 1.37}, 'visibility': 10000, 'pop': 0, 'sys': {'pod': 'n'}, 'dt_txt': '2023-11-16 00:00:00'}, {'dt': 1700103600, 'main': {'temp': 261.91, 'feels_like': 258.3, 'temp_min': 261.91, 'temp_max': 261.91, 'pressure': 1020, 'sea_level': 1020, 'grnd_level': 1000, 'humidity': 94, 'temp_kf': 0}, 'weather': [{'id': 803, 'main': 'Clouds', 'description': 'broken clouds', 'icon': '04n'}], 'clouds': {'all': 74}, 'wind': {'speed': 1.63, 'deg': 310, 'gust': 1.28}, 'visibility': 10000, 'pop': 0, 'sys': {'pod': 'n'}, 'dt_txt': '2023-11-16 03:00:00'}, {'dt': 1700114400, 'main': {'temp': 263.78, 'feels_like': 263.78, 'temp_min': 263.78, 'temp_max': 263.78, 'pressure': 1020, 'sea_level': 1020, 'grnd_level': 1001, 'humidity': 93, 'temp_kf': 0}, 'weather': [{'id': 803, 'main': 'Clouds', 'description': 'broken clouds', 'icon': '04n'}], 'clouds': {'all': 82}, 'wind': {'speed': 1.16, 'deg': 318, 'gust': 1.03}, 'visibility': 10000, 'pop': 0, 'sys': {'pod': 'n'}, 'dt_txt': '2023-11-16 06:00:00'}, {'dt': 1700125200, 'main': {'temp': 266.06, 'feels_like': 266.06, 'temp_min': 266.06, 'temp_max': 266.06, 'pressure': 1021, 'sea_level': 1021, 'grnd_level': 1001, 'humidity': 89, 'temp_kf': 0}, 'weather': [{'id': 804, 'main': 'Clouds', 'description': 'overcast clouds', 'icon': '04d'}], 'clouds': {'all': 100}, 'wind': {'speed': 0.44, 'deg': 316, 'gust': 0.47}, 'visibility': 10000, 'pop': 0, 'sys': {'pod': 'd'}, 'dt_txt': '2023-11-16 09:00:00'}, {'dt': 1700136000, 'main': {'temp': 268.56, 'feels_like': 268.56, 'temp_min': 268.56, 'temp_max': 268.56, 'pressure': 1020, 'sea_level': 1020, 'grnd_level': 1001, 'humidity': 87, 'temp_kf': 0}, 'weather': [{'id': 804, 'main': 'Clouds', 'description': 'overcast clouds', 'icon': '04d'}], 'clouds': {'all': 100}, 'wind': {'speed': 0.72, 'deg': 121, 'gust': 0.61}, 'visibility': 10000, 'pop': 0, 'sys': {'pod': 'd'}, 'dt_txt': '2023-11-16 12:00:00'}, {'dt': 1700146800, 'main': {'temp': 266.73, 'feels_like': 266.73, 'temp_min': 266.73, 'temp_max': 266.73, 'pressure': 1021, 'sea_level': 1021, 'grnd_level': 1001, 'humidity': 98, 'temp_kf': 0}, 'weather': [{'id': 804, 'main': 'Clouds', 'description': 'overcast clouds', 'icon': '04n'}], 'clouds': {'all': 100}, 'wind': {'speed': 0.1, 'deg': 115, 'gust': 0.36}, 'visibility': 7995, 'pop': 0, 'sys': {'pod': 'n'}, 'dt_txt': '2023-11-16 15:00:00'}, {'dt': 1700157600, 'main': {'temp': 267.52, 'feels_like': 267.52, 'temp_min': 267.52, 'temp_max': 267.52, 'pressure': 1021, 'sea_level': 1021, 'grnd_level': 1001, 'humidity': 95, 'temp_kf': 0}, 'weather': [{'id': 804, 'main': 'Clouds', 'description': 'overcast clouds', 'icon': '04n'}], 'clouds': {'all': 100}, 'wind': {'speed': 0.59, 'deg': 166, 'gust': 0.87}, 'visibility': 10000, 'pop': 0.02, 'sys': {'pod': 'n'}, 'dt_txt': '2023-11-16 18:00:00'}, {'dt': 1700168400, 'main': {'temp': 265.16, 'feels_like': 265.16, 'temp_min': 265.16, 'temp_max': 265.16, 'pressure': 1022, 'sea_level': 1022, 'grnd_level': 1002, 'humidity': 98, 'temp_kf': 0}, 'weather': [{'id': 804, 'main': 'Clouds', 'description': 'overcast clouds', 'icon': '04n'}], 'clouds': {'all': 100}, 'wind': {'speed': 0.59, 'deg': 298, 'gust': 0.52}, 'visibility': 5893, 'pop': 0, 'sys': {'pod': 'n'}, 'dt_txt': '2023-11-16 21:00:00'}, {'dt': 1700179200, 'main': {'temp': 264.16, 'feels_like': 264.16, 'temp_min': 264.16, 'temp_max': 264.16, 'pressure': 1022, 'sea_level': 1022, 'grnd_level': 1002, 'humidity': 98, 'temp_kf': 0}, 'weather': [{'id': 804, 'main': 'Clouds', 'description': 'overcast clouds', 'icon': '04n'}], 'clouds': {'all': 100}, 'wind': {'speed': 0.44, 'deg': 280, 'gust': 0.55}, 'visibility': 7707, 'pop': 0, 'sys': {'pod': 'n'}, 'dt_txt': '2023-11-17 00:00:00'}, {'dt': 1700190000, 'main': {'temp': 262.07, 'feels_like': 259.08, 'temp_min': 262.07, 'temp_max': 262.07, 'pressure': 1022, 'sea_level': 1022, 'grnd_level': 1002, 'humidity': 98, 'temp_kf': 0}, 'weather': [{'id': 804, 'main': 'Clouds', 'description': 'overcast clouds', 'icon': '04n'}], 'clouds': {'all': 89}, 'wind': {'speed': 1.36, 'deg': 306, 'gust': 1.1}, 'visibility': 2649, 'pop': 0, 'sys': {'pod': 'n'}, 'dt_txt': '2023-11-17 03:00:00'}, {'dt': 1700200800, 'main': {'temp': 263.14, 'feels_like': 263.14, 'temp_min': 263.14, 'temp_max': 263.14, 'pressure': 1022, 'sea_level': 1022, 'grnd_level': 1002, 'humidity': 97, 'temp_kf': 0}, 'weather': [{'id': 804, 'main': 'Clouds', 'description': 'overcast clouds', 'icon': '04n'}], 'clouds': {'all': 94}, 'wind': {'speed': 1.12, 'deg': 305, 'gust': 0.92}, 'visibility': 1045, 'pop': 0, 'sys': {'pod': 'n'}, 'dt_txt': '2023-11-17 06:00:00'}, {'dt': 1700211600, 'main': {'temp': 265.89, 'feels_like': 265.89, 'temp_min': 265.89, 'temp_max': 265.89, 'pressure': 1021, 'sea_level': 1021, 'grnd_level': 1002, 'humidity': 94, 'temp_kf': 0}, 'weather': [{'id': 804, 'main': 'Clouds', 'description': 'overcast clouds', 'icon': '04d'}], 'clouds': {'all': 100}, 'wind': {'speed': 0.24, 'deg': 297, 'gust': 0.47}, 'visibility': 2115, 'pop': 0, 'sys': {'pod': 'd'}, 'dt_txt': '2023-11-17 09:00:00'}, {'dt': 1700222400, 'main': {'temp': 268.05, 'feels_like': 268.05, 'temp_min': 268.05, 'temp_max': 268.05, 'pressure': 1020, 'sea_level': 1020, 'grnd_level': 1001, 'humidity': 92, 'temp_kf': 0}, 'weather': [{'id': 804, 'main': 'Clouds', 'description': 'overcast clouds', 'icon': '04d'}], 'clouds': {'all': 100}, 'wind': {'speed': 0.61, 'deg': 172, 'gust': 0.87}, 'visibility': 4340, 'pop': 0, 'sys': {'pod': 'd'}, 'dt_txt': '2023-11-17 12:00:00'}, {'dt': 1700233200, 'main': {'temp': 267.87, 'feels_like': 267.87, 'temp_min': 267.87, 'temp_max': 267.87, 'pressure': 1020, 'sea_level': 1020, 'grnd_level': 1000, 'humidity': 97, 'temp_kf': 0}, 'weather': [{'id': 804, 'main': 'Clouds', 'description': 'overcast clouds', 'icon': '04n'}], 'clouds': {'all': 100}, 'wind': {'speed': 0.44, 'deg': 178, 'gust': 0.62}, 'visibility': 8395, 'pop': 0, 'sys': {'pod': 'n'}, 'dt_txt': '2023-11-17 15:00:00'}, {'dt': 1700244000, 'main': {'temp': 266.33, 'feels_like': 266.33, 'temp_min': 266.33, 'temp_max': 266.33, 'pressure': 1019, 'sea_level': 1019, 'grnd_level': 1000, 'humidity': 98, 'temp_kf': 0}, 'weather': [{'id': 804, 'main': 'Clouds', 'description': 'overcast clouds', 'icon': '04n'}], 'clouds': {'all': 100}, 'wind': {'speed': 0.87, 'deg': 273, 'gust': 0.77}, 'visibility': 5684, 'pop': 0, 'sys': {'pod': 'n'}, 'dt_txt': '2023-11-17 18:00:00'}, {'dt': 1700254800, 'main': {'temp': 266.91, 'feels_like': 266.91, 'temp_min': 266.91, 'temp_max': 266.91, 'pressure': 1018, 'sea_level': 1018, 'grnd_level': 999, 'humidity': 96, 'temp_kf': 0}, 'weather': [{'id': 804, 'main': 'Clouds', 'description': 'overcast clouds', 'icon': '04n'}], 'clouds': {'all': 99}, 'wind': {'speed': 0.88, 'deg': 266, 'gust': 0.84}, 'visibility': 10000, 'pop': 0.06, 'sys': {'pod': 'n'}, 'dt_txt': '2023-11-17 21:00:00'}, {'dt': 1700265600, 'main': {'temp': 266.17, 'feels_like': 263.74, 'temp_min': 266.17, 'temp_max': 266.17, 'pressure': 1016, 'sea_level': 1016, 'grnd_level': 997, 'humidity': 97, 'temp_kf': 0}, 'weather': [{'id': 804, 'main': 'Clouds', 'description': 'overcast clouds', 'icon': '04n'}], 'clouds': {'all': 97}, 'wind': {'speed': 1.35, 'deg': 310, 'gust': 1.15}, 'visibility': 4287, 'pop': 0.08, 'sys': {'pod': 'n'}, 'dt_txt': '2023-11-18 00:00:00'}, {'dt': 1700276400, 'main': {'temp': 269.9, 'feels_like': 269.9, 'temp_min': 269.9, 'temp_max': 269.9, 'pressure': 1013, 'sea_level': 1013, 'grnd_level': 994, 'humidity': 96, 'temp_kf': 0}, 'weather': [{'id': 600, 'main': 'Snow', 'description': 'light snow', 'icon': '13n'}], 'clouds': {'all': 100}, 'wind': {'speed': 0.36, 'deg': 63, 'gust': 0.68}, 'visibility': 861, 'pop': 0.42, 'snow': {'3h': 0.43}, 'sys': {'pod': 'n'}, 'dt_txt': '2023-11-18 03:00:00'}, {'dt': 1700287200, 'main': {'temp': 270.39, 'feels_like': 270.39, 'temp_min': 270.39, 'temp_max': 270.39, 'pressure': 1011, 'sea_level': 1011, 'grnd_level': 992, 'humidity': 96, 'temp_kf': 0}, 'weather': [{'id': 600, 'main': 'Snow', 'description': 'light snow', 'icon': '13n'}], 'clouds': {'all': 100}, 'wind': {'speed': 0.64, 'deg': 81, 'gust': 0.99}, 'visibility': 719, 'pop': 0.32, 'snow': {'3h': 0.18}, 'sys': {'pod': 'n'}, 'dt_txt': '2023-11-18 06:00:00'}], 'city': {'id': 3144113, 'name': 'Noresund', 'coord': {'lat': 60.1803, 'lon': 9.6231}, 'country': 'NO', 'population': 1000, 'timezone': 3600, 'sunrise': 1699859661, 'sunset': 1699887437}}\""
      ]
     },
     "execution_count": 15,
     "metadata": {},
     "output_type": "execute_result"
    }
   ],
   "source": [
    "# Inspect JSON file\n",
    "forecast.__str__()"
   ]
  },
  {
   "cell_type": "markdown",
   "metadata": {
    "slideshow": {
     "slide_type": "slide"
    }
   },
   "source": [
    "## Raw JSON\n",
    "- A simple, but not very efficient way of storing JSON data is to treat it as a text and save it directly to the database.  \n",
    "- More efficient, with regard to transfer, is to compress the JSON data to a blob first.\n",
    "    - Compression is automatic."
   ]
  },
  {
   "cell_type": "code",
   "execution_count": 16,
   "metadata": {
    "slideshow": {
     "slide_type": "-"
    }
   },
   "outputs": [
    {
     "data": {
      "text/plain": [
       "<cassandra.cluster.ResultSet at 0x1070291d0>"
      ]
     },
     "execution_count": 16,
     "metadata": {},
     "output_type": "execute_result"
    }
   ],
   "source": [
    "# Create a new table which treats the whole JSON as a blob, using the city id and the first dt as keys\n",
    "session.set_keyspace('my_first_keyspace')\n",
    "session.execute(\"DROP TABLE IF EXISTS my_first_keyspace.forecast_table;\")\n",
    "session.execute(\"CREATE TABLE IF NOT EXISTS forecast_table (city_id int, dt int, forecast blob, PRIMARY KEY(city_id, dt));\")"
   ]
  },
  {
   "cell_type": "markdown",
   "metadata": {
    "slideshow": {
     "slide_type": "slide"
    }
   },
   "source": [
    "### Insert the forecast data into the table as text blob"
   ]
  },
  {
   "cell_type": "code",
   "execution_count": 17,
   "metadata": {
    "slideshow": {
     "slide_type": "-"
    }
   },
   "outputs": [
    {
     "data": {
      "text/plain": [
       "<cassandra.cluster.ResultSet at 0x107bf98d0>"
      ]
     },
     "execution_count": 17,
     "metadata": {},
     "output_type": "execute_result"
    }
   ],
   "source": [
    "session.execute(\"INSERT INTO forecast_table (city_id, dt, forecast) VALUES (%s, %s, textAsBlob(%s));\", (forecast['city']['id'], forecast['list'][0]['dt'], forecast.__str__()))"
   ]
  },
  {
   "cell_type": "code",
   "execution_count": 18,
   "metadata": {
    "slideshow": {
     "slide_type": "slide"
    }
   },
   "outputs": [
    {
     "name": "stdout",
     "output_type": "stream",
     "text": [
      "Row(city_id=3144113, dt=1699866000, forecast=b\"{'cod': '200', 'message': 0, 'cnt': 40, 'list': [{'dt': 1699866000, 'main': {'temp': 269.32, 'feels_like': 269.32, 'temp_min': 267.39, 'temp_max': 269.32, 'pressure': 1011, 'sea_level': 1011, 'grnd_level': 992, 'humidity': 94, 'temp_kf': 1.93}, 'weather': [{'id': 802, 'main': 'Clouds', 'description': 'scattered clouds', 'icon': '03d'}], 'clouds': {'all': 46}, 'wind': {'speed': 1.26, 'deg': 345, 'gust': 1.76}, 'visibility': 10000, 'pop': 0, 'sys': {'pod': 'd'}, 'dt_txt': '2023-11-13 09:00:00'}, {'dt': 1699876800, 'main': {'temp': 269.79, 'feels_like': 269.79, 'temp_min': 269.79, 'temp_max': 270.74, 'pressure': 1011, 'sea_level': 1011, 'grnd_level': 991, 'humidity': 93, 'temp_kf': -0.95}, 'weather': [{'id': 802, 'main': 'Clouds', 'description': 'scattered clouds', 'icon': '03d'}], 'clouds': {'all': 42}, 'wind': {'speed': 0.49, 'deg': 65, 'gust': 0.66}, 'visibility': 10000, 'pop': 0, 'sys': {'pod': 'd'}, 'dt_txt': '2023-11-13 12:00:00'}, {'dt': 1699887600, 'main': {'temp': 267.09, 'feels_like': 264.37, 'temp_min': 265.97, 'temp_max': 267.09, 'pressure': 1010, 'sea_level': 1010, 'grnd_level': 990, 'humidity': 97, 'temp_kf': 1.12}, 'weather': [{'id': 802, 'main': 'Clouds', 'description': 'scattered clouds', 'icon': '03n'}], 'clouds': {'all': 42}, 'wind': {'speed': 1.56, 'deg': 345, 'gust': 1.31}, 'visibility': 7053, 'pop': 0, 'sys': {'pod': 'n'}, 'dt_txt': '2023-11-13 15:00:00'}, {'dt': 1699898400, 'main': {'temp': 264.76, 'feels_like': 261.29, 'temp_min': 264.76, 'temp_max': 264.76, 'pressure': 1009, 'sea_level': 1009, 'grnd_level': 989, 'humidity': 97, 'temp_kf': 0}, 'weather': [{'id': 803, 'main': 'Clouds', 'description': 'broken clouds', 'icon': '04n'}], 'clouds': {'all': 57}, 'wind': {'speed': 1.78, 'deg': 327, 'gust': 1.5}, 'visibility': 6573, 'pop': 0, 'sys': {'pod': 'n'}, 'dt_txt': '2023-11-13 18:00:00'}, {'dt': 1699909200, 'main': {'temp': 266.24, 'feels_like': 263.2, 'temp_min': 266.24, 'temp_max': 266.24, 'pressure': 1007, 'sea_level': 1007, 'grnd_level': 988, 'humidity': 97, 'temp_kf': 0}, 'weather': [{'id': 804, 'main': 'Clouds', 'description': 'overcast clouds', 'icon': '04n'}], 'clouds': {'all': 95}, 'wind': {'speed': 1.67, 'deg': 359, 'gust': 2.09}, 'visibility': 899, 'pop': 0, 'sys': {'pod': 'n'}, 'dt_txt': '2023-11-13 21:00:00'}, {'dt': 1699920000, 'main': {'temp': 266.73, 'feels_like': 263.52, 'temp_min': 266.73, 'temp_max': 266.73, 'pressure': 1007, 'sea_level': 1007, 'grnd_level': 988, 'humidity': 97, 'temp_kf': 0}, 'weather': [{'id': 600, 'main': 'Snow', 'description': 'light snow', 'icon': '13n'}], 'clouds': {'all': 98}, 'wind': {'speed': 1.81, 'deg': 4, 'gust': 2.85}, 'visibility': 1255, 'pop': 0.2, 'snow': {'3h': 0.14}, 'sys': {'pod': 'n'}, 'dt_txt': '2023-11-14 00:00:00'}, {'dt': 1699930800, 'main': {'temp': 266.64, 'feels_like': 263.02, 'temp_min': 266.64, 'temp_max': 266.64, 'pressure': 1006, 'sea_level': 1006, 'grnd_level': 987, 'humidity': 96, 'temp_kf': 0}, 'weather': [{'id': 600, 'main': 'Snow', 'description': 'light snow', 'icon': '13n'}], 'clouds': {'all': 100}, 'wind': {'speed': 2.06, 'deg': 352, 'gust': 3.4}, 'visibility': 3826, 'pop': 0.32, 'snow': {'3h': 0.12}, 'sys': {'pod': 'n'}, 'dt_txt': '2023-11-14 03:00:00'}, {'dt': 1699941600, 'main': {'temp': 266.73, 'feels_like': 263.13, 'temp_min': 266.73, 'temp_max': 266.73, 'pressure': 1006, 'sea_level': 1006, 'grnd_level': 987, 'humidity': 96, 'temp_kf': 0}, 'weather': [{'id': 600, 'main': 'Snow', 'description': 'light snow', 'icon': '13n'}], 'clouds': {'all': 100}, 'wind': {'speed': 2.06, 'deg': 346, 'gust': 3.34}, 'visibility': 3128, 'pop': 0.2, 'snow': {'3h': 0.11}, 'sys': {'pod': 'n'}, 'dt_txt': '2023-11-14 06:00:00'}, {'dt': 1699952400, 'main': {'temp': 269.26, 'feels_like': 265.98, 'temp_min': 269.26, 'temp_max': 269.26, 'pressure': 1007, 'sea_level': 1007, 'grnd_level': 987, 'humidity': 94, 'temp_kf': 0}, 'weather': [{'id': 600, 'main': 'Snow', 'description': 'light snow', 'icon': '13d'}], 'clouds': {'all': 100}, 'wind': {'speed': 2.13, 'deg': 357, 'gust': 3.93}, 'visibility': 1016, 'pop': 0.61, 'snow': {'3h': 0.18}, 'sys': {'pod': 'd'}, 'dt_txt': '2023-11-14 09:00:00'}, {'dt': 1699963200, 'main': {'temp': 271.16, 'feels_like': 268.26, 'temp_min': 271.16, 'temp_max': 271.16, 'pressure': 1007, 'sea_level': 1007, 'grnd_level': 988, 'humidity': 91, 'temp_kf': 0}, 'weather': [{'id': 600, 'main': 'Snow', 'description': 'light snow', 'icon': '13d'}], 'clouds': {'all': 100}, 'wind': {'speed': 2.09, 'deg': 11, 'gust': 4.1}, 'visibility': 1895, 'pop': 0.53, 'snow': {'3h': 0.32}, 'sys': {'pod': 'd'}, 'dt_txt': '2023-11-14 12:00:00'}, {'dt': 1699974000, 'main': {'temp': 269.76, 'feels_like': 266.98, 'temp_min': 269.76, 'temp_max': 269.76, 'pressure': 1007, 'sea_level': 1007, 'grnd_level': 988, 'humidity': 96, 'temp_kf': 0}, 'weather': [{'id': 600, 'main': 'Snow', 'description': 'light snow', 'icon': '13n'}], 'clouds': {'all': 100}, 'wind': {'speed': 1.84, 'deg': 2, 'gust': 3.4}, 'visibility': 1886, 'pop': 0.36, 'snow': {'3h': 0.16}, 'sys': {'pod': 'n'}, 'dt_txt': '2023-11-14 15:00:00'}, {'dt': 1699984800, 'main': {'temp': 268.94, 'feels_like': 266.03, 'temp_min': 268.94, 'temp_max': 268.94, 'pressure': 1009, 'sea_level': 1009, 'grnd_level': 990, 'humidity': 96, 'temp_kf': 0}, 'weather': [{'id': 600, 'main': 'Snow', 'description': 'light snow', 'icon': '13n'}], 'clouds': {'all': 100}, 'wind': {'speed': 1.84, 'deg': 342, 'gust': 3.32}, 'visibility': 3764, 'pop': 0.32, 'snow': {'3h': 0.14}, 'sys': {'pod': 'n'}, 'dt_txt': '2023-11-14 18:00:00'}, {'dt': 1699995600, 'main': {'temp': 267.54, 'feels_like': 264.25, 'temp_min': 267.54, 'temp_max': 267.54, 'pressure': 1010, 'sea_level': 1010, 'grnd_level': 991, 'humidity': 95, 'temp_kf': 0}, 'weather': [{'id': 804, 'main': 'Clouds', 'description': 'overcast clouds', 'icon': '04n'}], 'clouds': {'all': 100}, 'wind': {'speed': 1.94, 'deg': 335, 'gust': 3.24}, 'visibility': 10000, 'pop': 0, 'sys': {'pod': 'n'}, 'dt_txt': '2023-11-14 21:00:00'}, {'dt': 1700006400, 'main': {'temp': 265.44, 'feels_like': 261.44, 'temp_min': 265.44, 'temp_max': 265.44, 'pressure': 1012, 'sea_level': 1012, 'grnd_level': 992, 'humidity': 94, 'temp_kf': 0}, 'weather': [{'id': 804, 'main': 'Clouds', 'description': 'overcast clouds', 'icon': '04n'}], 'clouds': {'all': 100}, 'wind': {'speed': 2.18, 'deg': 327, 'gust': 3.46}, 'visibility': 10000, 'pop': 0, 'sys': {'pod': 'n'}, 'dt_txt': '2023-11-15 00:00:00'}, {'dt': 1700017200, 'main': {'temp': 264.34, 'feels_like': 260.35, 'temp_min': 264.34, 'temp_max': 264.34, 'pressure': 1013, 'sea_level': 1013, 'grnd_level': 993, 'humidity': 94, 'temp_kf': 0}, 'weather': [{'id': 804, 'main': 'Clouds', 'description': 'overcast clouds', 'icon': '04n'}], 'clouds': {'all': 100}, 'wind': {'speed': 2.05, 'deg': 324, 'gust': 3.03}, 'visibility': 10000, 'pop': 0, 'sys': {'pod': 'n'}, 'dt_txt': '2023-11-15 03:00:00'}, {'dt': 1700028000, 'main': {'temp': 264.08, 'feels_like': 260.38, 'temp_min': 264.08, 'temp_max': 264.08, 'pressure': 1014, 'sea_level': 1014, 'grnd_level': 994, 'humidity': 93, 'temp_kf': 0}, 'weather': [{'id': 804, 'main': 'Clouds', 'description': 'overcast clouds', 'icon': '04n'}], 'clouds': {'all': 100}, 'wind': {'speed': 1.85, 'deg': 324, 'gust': 2.28}, 'visibility': 10000, 'pop': 0, 'sys': {'pod': 'n'}, 'dt_txt': '2023-11-15 06:00:00'}, {'dt': 1700038800, 'main': {'temp': 265.77, 'feels_like': 263.27, 'temp_min': 265.77, 'temp_max': 265.77, 'pressure': 1015, 'sea_level': 1015, 'grnd_level': 996, 'humidity': 89, 'temp_kf': 0}, 'weather': [{'id': 804, 'main': 'Clouds', 'description': 'overcast clouds', 'icon': '04d'}], 'clouds': {'all': 100}, 'wind': {'speed': 1.36, 'deg': 337, 'gust': 1.89}, 'visibility': 10000, 'pop': 0, 'sys': {'pod': 'd'}, 'dt_txt': '2023-11-15 09:00:00'}, {'dt': 1700049600, 'main': {'temp': 268.67, 'feels_like': 268.67, 'temp_min': 268.67, 'temp_max': 268.67, 'pressure': 1015, 'sea_level': 1015, 'grnd_level': 996, 'humidity': 85, 'temp_kf': 0}, 'weather': [{'id': 804, 'main': 'Clouds', 'description': 'overcast clouds', 'icon': '04d'}], 'clouds': {'all': 100}, 'wind': {'speed': 0.63, 'deg': 7, 'gust': 1.15}, 'visibility': 10000, 'pop': 0, 'sys': {'pod': 'd'}, 'dt_txt': '2023-11-15 12:00:00'}, {'dt': 1700060400, 'main': {'temp': 264.64, 'feels_like': 261.88, 'temp_min': 264.64, 'temp_max': 264.64, 'pressure': 1017, 'sea_level': 1017, 'grnd_level': 997, 'humidity': 96, 'temp_kf': 0}, 'weather': [{'id': 804, 'main': 'Clouds', 'description': 'overcast clouds', 'icon': '04n'}], 'clouds': {'all': 100}, 'wind': {'speed': 1.41, 'deg': 323, 'gust': 1.17}, 'visibility': 10000, 'pop': 0, 'sys': {'pod': 'n'}, 'dt_txt': '2023-11-15 15:00:00'}, {'dt': 1700071200, 'main': {'temp': 262.81, 'feels_like': 259.06, 'temp_min': 262.81, 'temp_max': 262.81, 'pressure': 1018, 'sea_level': 1018, 'grnd_level': 998, 'humidity': 95, 'temp_kf': 0}, 'weather': [{'id': 804, 'main': 'Clouds', 'description': 'overcast clouds', 'icon': '04n'}], 'clouds': {'all': 97}, 'wind': {'speed': 1.77, 'deg': 312, 'gust': 1.44}, 'visibility': 10000, 'pop': 0, 'sys': {'pod': 'n'}, 'dt_txt': '2023-11-15 18:00:00'}, {'dt': 1700082000, 'main': {'temp': 262.19, 'feels_like': 258.4, 'temp_min': 262.19, 'temp_max': 262.19, 'pressure': 1019, 'sea_level': 1019, 'grnd_level': 999, 'humidity': 95, 'temp_kf': 0}, 'weather': [{'id': 803, 'main': 'Clouds', 'description': 'broken clouds', 'icon': '04n'}], 'clouds': {'all': 74}, 'wind': {'speed': 1.74, 'deg': 315, 'gust': 1.39}, 'visibility': 10000, 'pop': 0, 'sys': {'pod': 'n'}, 'dt_txt': '2023-11-15 21:00:00'}, {'dt': 1700092800, 'main': {'temp': 261.8, 'feels_like': 258.05, 'temp_min': 261.8, 'temp_max': 261.8, 'pressure': 1020, 'sea_level': 1020, 'grnd_level': 1000, 'humidity': 95, 'temp_kf': 0}, 'weather': [{'id': 803, 'main': 'Clouds', 'description': 'broken clouds', 'icon': '04n'}], 'clouds': {'all': 67}, 'wind': {'speed': 1.69, 'deg': 311, 'gust': 1.37}, 'visibility': 10000, 'pop': 0, 'sys': {'pod': 'n'}, 'dt_txt': '2023-11-16 00:00:00'}, {'dt': 1700103600, 'main': {'temp': 261.91, 'feels_like': 258.3, 'temp_min': 261.91, 'temp_max': 261.91, 'pressure': 1020, 'sea_level': 1020, 'grnd_level': 1000, 'humidity': 94, 'temp_kf': 0}, 'weather': [{'id': 803, 'main': 'Clouds', 'description': 'broken clouds', 'icon': '04n'}], 'clouds': {'all': 74}, 'wind': {'speed': 1.63, 'deg': 310, 'gust': 1.28}, 'visibility': 10000, 'pop': 0, 'sys': {'pod': 'n'}, 'dt_txt': '2023-11-16 03:00:00'}, {'dt': 1700114400, 'main': {'temp': 263.78, 'feels_like': 263.78, 'temp_min': 263.78, 'temp_max': 263.78, 'pressure': 1020, 'sea_level': 1020, 'grnd_level': 1001, 'humidity': 93, 'temp_kf': 0}, 'weather': [{'id': 803, 'main': 'Clouds', 'description': 'broken clouds', 'icon': '04n'}], 'clouds': {'all': 82}, 'wind': {'speed': 1.16, 'deg': 318, 'gust': 1.03}, 'visibility': 10000, 'pop': 0, 'sys': {'pod': 'n'}, 'dt_txt': '2023-11-16 06:00:00'}, {'dt': 1700125200, 'main': {'temp': 266.06, 'feels_like': 266.06, 'temp_min': 266.06, 'temp_max': 266.06, 'pressure': 1021, 'sea_level': 1021, 'grnd_level': 1001, 'humidity': 89, 'temp_kf': 0}, 'weather': [{'id': 804, 'main': 'Clouds', 'description': 'overcast clouds', 'icon': '04d'}], 'clouds': {'all': 100}, 'wind': {'speed': 0.44, 'deg': 316, 'gust': 0.47}, 'visibility': 10000, 'pop': 0, 'sys': {'pod': 'd'}, 'dt_txt': '2023-11-16 09:00:00'}, {'dt': 1700136000, 'main': {'temp': 268.56, 'feels_like': 268.56, 'temp_min': 268.56, 'temp_max': 268.56, 'pressure': 1020, 'sea_level': 1020, 'grnd_level': 1001, 'humidity': 87, 'temp_kf': 0}, 'weather': [{'id': 804, 'main': 'Clouds', 'description': 'overcast clouds', 'icon': '04d'}], 'clouds': {'all': 100}, 'wind': {'speed': 0.72, 'deg': 121, 'gust': 0.61}, 'visibility': 10000, 'pop': 0, 'sys': {'pod': 'd'}, 'dt_txt': '2023-11-16 12:00:00'}, {'dt': 1700146800, 'main': {'temp': 266.73, 'feels_like': 266.73, 'temp_min': 266.73, 'temp_max': 266.73, 'pressure': 1021, 'sea_level': 1021, 'grnd_level': 1001, 'humidity': 98, 'temp_kf': 0}, 'weather': [{'id': 804, 'main': 'Clouds', 'description': 'overcast clouds', 'icon': '04n'}], 'clouds': {'all': 100}, 'wind': {'speed': 0.1, 'deg': 115, 'gust': 0.36}, 'visibility': 7995, 'pop': 0, 'sys': {'pod': 'n'}, 'dt_txt': '2023-11-16 15:00:00'}, {'dt': 1700157600, 'main': {'temp': 267.52, 'feels_like': 267.52, 'temp_min': 267.52, 'temp_max': 267.52, 'pressure': 1021, 'sea_level': 1021, 'grnd_level': 1001, 'humidity': 95, 'temp_kf': 0}, 'weather': [{'id': 804, 'main': 'Clouds', 'description': 'overcast clouds', 'icon': '04n'}], 'clouds': {'all': 100}, 'wind': {'speed': 0.59, 'deg': 166, 'gust': 0.87}, 'visibility': 10000, 'pop': 0.02, 'sys': {'pod': 'n'}, 'dt_txt': '2023-11-16 18:00:00'}, {'dt': 1700168400, 'main': {'temp': 265.16, 'feels_like': 265.16, 'temp_min': 265.16, 'temp_max': 265.16, 'pressure': 1022, 'sea_level': 1022, 'grnd_level': 1002, 'humidity': 98, 'temp_kf': 0}, 'weather': [{'id': 804, 'main': 'Clouds', 'description': 'overcast clouds', 'icon': '04n'}], 'clouds': {'all': 100}, 'wind': {'speed': 0.59, 'deg': 298, 'gust': 0.52}, 'visibility': 5893, 'pop': 0, 'sys': {'pod': 'n'}, 'dt_txt': '2023-11-16 21:00:00'}, {'dt': 1700179200, 'main': {'temp': 264.16, 'feels_like': 264.16, 'temp_min': 264.16, 'temp_max': 264.16, 'pressure': 1022, 'sea_level': 1022, 'grnd_level': 1002, 'humidity': 98, 'temp_kf': 0}, 'weather': [{'id': 804, 'main': 'Clouds', 'description': 'overcast clouds', 'icon': '04n'}], 'clouds': {'all': 100}, 'wind': {'speed': 0.44, 'deg': 280, 'gust': 0.55}, 'visibility': 7707, 'pop': 0, 'sys': {'pod': 'n'}, 'dt_txt': '2023-11-17 00:00:00'}, {'dt': 1700190000, 'main': {'temp': 262.07, 'feels_like': 259.08, 'temp_min': 262.07, 'temp_max': 262.07, 'pressure': 1022, 'sea_level': 1022, 'grnd_level': 1002, 'humidity': 98, 'temp_kf': 0}, 'weather': [{'id': 804, 'main': 'Clouds', 'description': 'overcast clouds', 'icon': '04n'}], 'clouds': {'all': 89}, 'wind': {'speed': 1.36, 'deg': 306, 'gust': 1.1}, 'visibility': 2649, 'pop': 0, 'sys': {'pod': 'n'}, 'dt_txt': '2023-11-17 03:00:00'}, {'dt': 1700200800, 'main': {'temp': 263.14, 'feels_like': 263.14, 'temp_min': 263.14, 'temp_max': 263.14, 'pressure': 1022, 'sea_level': 1022, 'grnd_level': 1002, 'humidity': 97, 'temp_kf': 0}, 'weather': [{'id': 804, 'main': 'Clouds', 'description': 'overcast clouds', 'icon': '04n'}], 'clouds': {'all': 94}, 'wind': {'speed': 1.12, 'deg': 305, 'gust': 0.92}, 'visibility': 1045, 'pop': 0, 'sys': {'pod': 'n'}, 'dt_txt': '2023-11-17 06:00:00'}, {'dt': 1700211600, 'main': {'temp': 265.89, 'feels_like': 265.89, 'temp_min': 265.89, 'temp_max': 265.89, 'pressure': 1021, 'sea_level': 1021, 'grnd_level': 1002, 'humidity': 94, 'temp_kf': 0}, 'weather': [{'id': 804, 'main': 'Clouds', 'description': 'overcast clouds', 'icon': '04d'}], 'clouds': {'all': 100}, 'wind': {'speed': 0.24, 'deg': 297, 'gust': 0.47}, 'visibility': 2115, 'pop': 0, 'sys': {'pod': 'd'}, 'dt_txt': '2023-11-17 09:00:00'}, {'dt': 1700222400, 'main': {'temp': 268.05, 'feels_like': 268.05, 'temp_min': 268.05, 'temp_max': 268.05, 'pressure': 1020, 'sea_level': 1020, 'grnd_level': 1001, 'humidity': 92, 'temp_kf': 0}, 'weather': [{'id': 804, 'main': 'Clouds', 'description': 'overcast clouds', 'icon': '04d'}], 'clouds': {'all': 100}, 'wind': {'speed': 0.61, 'deg': 172, 'gust': 0.87}, 'visibility': 4340, 'pop': 0, 'sys': {'pod': 'd'}, 'dt_txt': '2023-11-17 12:00:00'}, {'dt': 1700233200, 'main': {'temp': 267.87, 'feels_like': 267.87, 'temp_min': 267.87, 'temp_max': 267.87, 'pressure': 1020, 'sea_level': 1020, 'grnd_level': 1000, 'humidity': 97, 'temp_kf': 0}, 'weather': [{'id': 804, 'main': 'Clouds', 'description': 'overcast clouds', 'icon': '04n'}], 'clouds': {'all': 100}, 'wind': {'speed': 0.44, 'deg': 178, 'gust': 0.62}, 'visibility': 8395, 'pop': 0, 'sys': {'pod': 'n'}, 'dt_txt': '2023-11-17 15:00:00'}, {'dt': 1700244000, 'main': {'temp': 266.33, 'feels_like': 266.33, 'temp_min': 266.33, 'temp_max': 266.33, 'pressure': 1019, 'sea_level': 1019, 'grnd_level': 1000, 'humidity': 98, 'temp_kf': 0}, 'weather': [{'id': 804, 'main': 'Clouds', 'description': 'overcast clouds', 'icon': '04n'}], 'clouds': {'all': 100}, 'wind': {'speed': 0.87, 'deg': 273, 'gust': 0.77}, 'visibility': 5684, 'pop': 0, 'sys': {'pod': 'n'}, 'dt_txt': '2023-11-17 18:00:00'}, {'dt': 1700254800, 'main': {'temp': 266.91, 'feels_like': 266.91, 'temp_min': 266.91, 'temp_max': 266.91, 'pressure': 1018, 'sea_level': 1018, 'grnd_level': 999, 'humidity': 96, 'temp_kf': 0}, 'weather': [{'id': 804, 'main': 'Clouds', 'description': 'overcast clouds', 'icon': '04n'}], 'clouds': {'all': 99}, 'wind': {'speed': 0.88, 'deg': 266, 'gust': 0.84}, 'visibility': 10000, 'pop': 0.06, 'sys': {'pod': 'n'}, 'dt_txt': '2023-11-17 21:00:00'}, {'dt': 1700265600, 'main': {'temp': 266.17, 'feels_like': 263.74, 'temp_min': 266.17, 'temp_max': 266.17, 'pressure': 1016, 'sea_level': 1016, 'grnd_level': 997, 'humidity': 97, 'temp_kf': 0}, 'weather': [{'id': 804, 'main': 'Clouds', 'description': 'overcast clouds', 'icon': '04n'}], 'clouds': {'all': 97}, 'wind': {'speed': 1.35, 'deg': 310, 'gust': 1.15}, 'visibility': 4287, 'pop': 0.08, 'sys': {'pod': 'n'}, 'dt_txt': '2023-11-18 00:00:00'}, {'dt': 1700276400, 'main': {'temp': 269.9, 'feels_like': 269.9, 'temp_min': 269.9, 'temp_max': 269.9, 'pressure': 1013, 'sea_level': 1013, 'grnd_level': 994, 'humidity': 96, 'temp_kf': 0}, 'weather': [{'id': 600, 'main': 'Snow', 'description': 'light snow', 'icon': '13n'}], 'clouds': {'all': 100}, 'wind': {'speed': 0.36, 'deg': 63, 'gust': 0.68}, 'visibility': 861, 'pop': 0.42, 'snow': {'3h': 0.43}, 'sys': {'pod': 'n'}, 'dt_txt': '2023-11-18 03:00:00'}, {'dt': 1700287200, 'main': {'temp': 270.39, 'feels_like': 270.39, 'temp_min': 270.39, 'temp_max': 270.39, 'pressure': 1011, 'sea_level': 1011, 'grnd_level': 992, 'humidity': 96, 'temp_kf': 0}, 'weather': [{'id': 600, 'main': 'Snow', 'description': 'light snow', 'icon': '13n'}], 'clouds': {'all': 100}, 'wind': {'speed': 0.64, 'deg': 81, 'gust': 0.99}, 'visibility': 719, 'pop': 0.32, 'snow': {'3h': 0.18}, 'sys': {'pod': 'n'}, 'dt_txt': '2023-11-18 06:00:00'}], 'city': {'id': 3144113, 'name': 'Noresund', 'coord': {'lat': 60.1803, 'lon': 9.6231}, 'country': 'NO', 'population': 1000, 'timezone': 3600, 'sunrise': 1699859661, 'sunset': 1699887437}}\")\n"
     ]
    }
   ],
   "source": [
    "# Query the data\n",
    "forecast_rows = session.execute(\"SELECT * FROM forecast_table;\")\n",
    "print(forecast_rows.one()) # <- only one row"
   ]
  },
  {
   "cell_type": "markdown",
   "metadata": {
    "slideshow": {
     "slide_type": "slide"
    }
   },
   "source": [
    "```{seealso} Resources\n",
    ":class: tip\n",
    "- [Cassandra webpage](https://cassandra.apache.org/)\n",
    "- [Cassandra Docker file](https://hub.docker.com/_/cassandra)\n",
    "- [UUID functions](https://docs.datastax.com/en/cql-oss/3.3/cql/cql_reference/timeuuid_functions_r.html)\n",
    "- [YouTube: Cassandra in 100 seconds](https://youtu.be/ziq7FUKpCS8?si=WQUdkHFvaBmT0DBo) (2m:26s)\n",
    "- [YouTube: How to use Apache Cassandra in Python](https://youtu.be/qMauZqJH3ZM?si=yKGZ-5cld2BK396Y) (14m:50s)\n",
    "- [YouTube: Cassandra Database Crash Course](https://youtu.be/KZsVSfQVU4I?si=FBCi8qOfCirfVmZk) (19m:47s)\n",
    "```"
   ]
  }
 ],
 "metadata": {
  "celltoolbar": "Slideshow",
  "kernelspec": {
   "display_name": "Python 3 (ipykernel)",
   "language": "python",
   "name": "python3"
  },
  "language_info": {
   "codemirror_mode": {
    "name": "ipython",
    "version": 3
   },
   "file_extension": ".py",
   "mimetype": "text/x-python",
   "name": "python",
   "nbconvert_exporter": "python",
   "pygments_lexer": "ipython3",
   "version": "3.11.6"
  }
 },
 "nbformat": 4,
 "nbformat_minor": 2
}