{
 "cells": [
  {
   "cell_type": "markdown",
   "metadata": {
    "slideshow": {
     "slide_type": "slide"
    }
   },
   "source": [
    "# Cassandra\n",
    "- A production grade NoSQL database.\n",
    "- Can be distributed across servers, nodes, etc.\n",
    "- Replication of database is supported for high degree of redundancy and speed.\n",
    "- Uses CQL, a subset of SQL for querying.\n",
    "- Works seamlesly together with Spark and its corresponding distributed structure.\n",
    "- Installation of Cassandra is explained in the [Installation chapter](../../6_Appendix/Installation.ipynb)."
   ]
  },
  {
   "cell_type": "markdown",
   "metadata": {
    "slideshow": {
     "slide_type": "slide"
    }
   },
   "source": [
    "## Spinning up a local Cassandra instance\n",
    "In a terminal, first time:  \n",
    "```docker run --name my_cassandra -p 9042:9042 cassandra:latest```  \n",
    "... and later:  \n",
    "```docker start my_cassandra```  \n",
    "  \n",
    ".. or in Docker Desktop:\n",
    "- Run the cassandra docker image with optional settings, opening 9042 port and setting a name.\n",
    "- Later, simply run the container with the name you chose."
   ]
  },
  {
   "cell_type": "markdown",
   "metadata": {
    "slideshow": {
     "slide_type": "slide"
    }
   },
   "source": [
    "<img src=\"https://github.com/khliland/IND320/blob/main/D2Dbook/images/Docker_images.png?raw=TRUE\" width=\"600px\">  "
   ]
  },
  {
   "cell_type": "markdown",
   "metadata": {
    "slideshow": {
     "slide_type": "slide"
    }
   },
   "source": [
    "\n",
    "<img src=\"https://github.com/khliland/IND320/blob/main/D2Dbook/images/Docker_containers.png?raw=TRUE\" width=\"800px\">  "
   ]
  },
  {
   "cell_type": "markdown",
   "metadata": {
    "slideshow": {
     "slide_type": "slide"
    }
   },
   "source": [
    "### Connect to the Cassandra cluster from Python."
   ]
  },
  {
   "cell_type": "code",
   "execution_count": 1,
   "metadata": {
    "slideshow": {
     "slide_type": "-"
    }
   },
   "outputs": [],
   "source": [
    "# Connecting to Cassandra\n",
    "from cassandra.cluster import Cluster\n",
    "cluster = Cluster(['localhost'], port=9042)\n",
    "session = cluster.connect()"
   ]
  },
  {
   "cell_type": "markdown",
   "metadata": {
    "slideshow": {
     "slide_type": "slide"
    }
   },
   "source": [
    "### Keyspace\n",
    "- In Cassandra database tables are stored in keyspaces (basically a distributed database).\n",
    "- These have parameters controlling their distribution on nodes/servers and redundancy.\n",
    "- We will use the simplest form locally."
   ]
  },
  {
   "cell_type": "code",
   "execution_count": 2,
   "metadata": {
    "slideshow": {
     "slide_type": "fragment"
    }
   },
   "outputs": [
    {
     "data": {
      "text/plain": [
       "<cassandra.cluster.ResultSet at 0x107f70810>"
      ]
     },
     "execution_count": 2,
     "metadata": {},
     "output_type": "execute_result"
    }
   ],
   "source": [
    "# Set up new keyspace (first time only)\n",
    "#                                              name of keyspace                        replication strategy           replication factor\n",
    "session.execute(\"CREATE KEYSPACE IF NOT EXISTS my_first_keyspace WITH REPLICATION = { 'class' : 'SimpleStrategy', 'replication_factor' : 1 };\")"
   ]
  },
  {
   "cell_type": "markdown",
   "metadata": {
    "slideshow": {
     "slide_type": "slide"
    }
   },
   "source": [
    "### Create a table\n",
    "- IF NOT EXISTS makes sure we do not overwrite existing tables"
   ]
  },
  {
   "cell_type": "code",
   "execution_count": 3,
   "metadata": {
    "slideshow": {
     "slide_type": "fragment"
    }
   },
   "outputs": [
    {
     "data": {
      "text/plain": [
       "<cassandra.cluster.ResultSet at 0x10ab5f610>"
      ]
     },
     "execution_count": 3,
     "metadata": {},
     "output_type": "execute_result"
    }
   ],
   "source": [
    "# Create a new table (first time only)\n",
    "session.set_keyspace('my_first_keyspace')\n",
    "session.execute(\"DROP TABLE IF EXISTS my_first_keyspace.my_first_table;\") # Starting from scratch every time\n",
    "session.execute(\"CREATE TABLE IF NOT EXISTS my_first_table (ind int PRIMARY KEY, company text, model text);\")"
   ]
  },
  {
   "cell_type": "markdown",
   "metadata": {
    "slideshow": {
     "slide_type": "slide"
    }
   },
   "source": [
    "### Inserting and reading data"
   ]
  },
  {
   "cell_type": "code",
   "execution_count": 4,
   "metadata": {
    "slideshow": {
     "slide_type": "-"
    }
   },
   "outputs": [
    {
     "data": {
      "text/plain": [
       "<cassandra.cluster.ResultSet at 0x10b323110>"
      ]
     },
     "execution_count": 4,
     "metadata": {},
     "output_type": "execute_result"
    }
   ],
   "source": [
    "# Insert some data (ind is the primary key, must be unique)\n",
    "session.execute(\"INSERT INTO my_first_table (ind, company, model) VALUES (1, 'Tesla', 'Model S');\")\n",
    "session.execute(\"INSERT INTO my_first_table (ind, company, model) VALUES (2, 'Tesla', 'Model 3');\")\n",
    "session.execute(\"INSERT INTO my_first_table (ind, company, model) VALUES (3, 'Polestar', '3');\")"
   ]
  },
  {
   "cell_type": "markdown",
   "metadata": {
    "slideshow": {
     "slide_type": "slide"
    }
   },
   "source": [
    "### Asyncronous writing\n",
    "- If your application is very data intensive, waiting for a response is not productive.\n",
    "- Writing asyncronously sends the data but does not pause for reply."
   ]
  },
  {
   "cell_type": "code",
   "execution_count": 5,
   "metadata": {
    "slideshow": {
     "slide_type": "-"
    }
   },
   "outputs": [
    {
     "data": {
      "text/plain": [
       "<ResponseFuture: query='<SimpleStatement query=\"INSERT INTO my_first_table (ind, company, model) VALUES (4, 'Volkswagen', 'ID.4');\", consistency=Not Set>' request_id=24 result=(no result yet) exception=None coordinator_host=None>"
      ]
     },
     "execution_count": 5,
     "metadata": {},
     "output_type": "execute_result"
    }
   ],
   "source": [
    "session.execute_async(\"INSERT INTO my_first_table (ind, company, model) VALUES (4, 'Volkswagen', 'ID.4');\")"
   ]
  },
  {
   "cell_type": "code",
   "execution_count": 6,
   "metadata": {
    "slideshow": {
     "slide_type": "slide"
    }
   },
   "outputs": [
    {
     "name": "stdout",
     "output_type": "stream",
     "text": [
      "Row(ind=1, company='Tesla', model='Model S')\n",
      "Row(ind=2, company='Tesla', model='Model 3')\n",
      "Row(ind=4, company='Volkswagen', model='ID.4')\n",
      "Row(ind=3, company='Polestar', model='3')\n"
     ]
    }
   ],
   "source": [
    "# Query the data\n",
    "rows = session.execute(\"SELECT * FROM my_first_table;\")\n",
    "for i in rows:\n",
    "    print(i)"
   ]
  },
  {
   "cell_type": "code",
   "execution_count": 7,
   "metadata": {
    "slideshow": {
     "slide_type": "slide"
    },
    "tags": [
     "raises-exception"
    ]
   },
   "outputs": [
    {
     "ename": "InvalidRequest",
     "evalue": "Error from server: code=2200 [Invalid query] message=\"Cannot execute this query as it might involve data filtering and thus may have unpredictable performance. If you want to execute this query despite the performance unpredictability, use ALLOW FILTERING\"",
     "output_type": "error",
     "traceback": [
      "\u001b[0;31m---------------------------------------------------------------------------\u001b[0m",
      "\u001b[0;31mInvalidRequest\u001b[0m                            Traceback (most recent call last)",
      "Cell \u001b[0;32mIn[7], line 2\u001b[0m\n\u001b[1;32m      1\u001b[0m \u001b[38;5;66;03m# More specific query\u001b[39;00m\n\u001b[0;32m----> 2\u001b[0m prepared_statement \u001b[38;5;241m=\u001b[39m \u001b[43msession\u001b[49m\u001b[38;5;241;43m.\u001b[39;49m\u001b[43mprepare\u001b[49m\u001b[43m(\u001b[49m\u001b[38;5;124;43m\"\u001b[39;49m\u001b[38;5;124;43mSELECT * FROM my_first_table WHERE company=?;\u001b[39;49m\u001b[38;5;124;43m\"\u001b[39;49m\u001b[43m)\u001b[49m \u001b[38;5;66;03m# <- will fail as company is not a key\u001b[39;00m\n\u001b[1;32m      3\u001b[0m teslas \u001b[38;5;241m=\u001b[39m session\u001b[38;5;241m.\u001b[39mexecute(prepared_statement, [\u001b[38;5;124m'\u001b[39m\u001b[38;5;124mTesla\u001b[39m\u001b[38;5;124m'\u001b[39m])\n\u001b[1;32m      4\u001b[0m \u001b[38;5;28;01mfor\u001b[39;00m i \u001b[38;5;129;01min\u001b[39;00m teslas:\n",
      "File \u001b[0;32m~/miniforge3/envs/IND320/lib/python3.11/site-packages/cassandra/cluster.py:3099\u001b[0m, in \u001b[0;36mcassandra.cluster.Session.prepare\u001b[0;34m()\u001b[0m\n",
      "File \u001b[0;32m~/miniforge3/envs/IND320/lib/python3.11/site-packages/cassandra/cluster.py:3096\u001b[0m, in \u001b[0;36mcassandra.cluster.Session.prepare\u001b[0;34m()\u001b[0m\n",
      "File \u001b[0;32m~/miniforge3/envs/IND320/lib/python3.11/site-packages/cassandra/cluster.py:4928\u001b[0m, in \u001b[0;36mcassandra.cluster.ResponseFuture.result\u001b[0;34m()\u001b[0m\n",
      "\u001b[0;31mInvalidRequest\u001b[0m: Error from server: code=2200 [Invalid query] message=\"Cannot execute this query as it might involve data filtering and thus may have unpredictable performance. If you want to execute this query despite the performance unpredictability, use ALLOW FILTERING\""
     ]
    }
   ],
   "source": [
    "# More specific query\n",
    "prepared_statement = session.prepare(\"SELECT * FROM my_first_table WHERE company=?;\") # <- will fail as company is not a key\n",
    "teslas = session.execute(prepared_statement, ['Tesla'])\n",
    "for i in teslas:\n",
    "    print(i)"
   ]
  },
  {
   "cell_type": "markdown",
   "metadata": {
    "slideshow": {
     "slide_type": "slide"
    }
   },
   "source": [
    "## Cassandra filtering\n",
    "Cassandra is inherently a distributed production database. Selecting as above may require downloading all data from a node, then filtering based on the WHERE part (only PRIMARY KEYs are centrally known). Solutions:  \n",
    "- If the table is small or most of the data will satisfy the query, add ```ALLOW FILTERING``` at the end of the query (not recommended if not known). \n",
    "- Or make sure the WHERE clause points to one of the keys (see below)."
   ]
  },
  {
   "cell_type": "code",
   "execution_count": 8,
   "metadata": {
    "slideshow": {
     "slide_type": "slide"
    }
   },
   "outputs": [
    {
     "data": {
      "text/plain": [
       "<cassandra.cluster.ResultSet at 0x10b814950>"
      ]
     },
     "execution_count": 8,
     "metadata": {},
     "output_type": "execute_result"
    }
   ],
   "source": [
    "# Create a new table (observe keys)\n",
    "session.execute(\"DROP TABLE IF EXISTS my_first_keyspace.car_table;\")\n",
    "session.execute(\"CREATE TABLE IF NOT EXISTS car_table (company text, model text, PRIMARY KEY(company, model));\")"
   ]
  },
  {
   "cell_type": "code",
   "execution_count": 9,
   "metadata": {
    "slideshow": {
     "slide_type": "fragment"
    }
   },
   "outputs": [
    {
     "data": {
      "text/plain": [
       "<cassandra.cluster.ResultSet at 0x10b809ed0>"
      ]
     },
     "execution_count": 9,
     "metadata": {},
     "output_type": "execute_result"
    }
   ],
   "source": [
    "# Insert some data (combination of company and model must be unique)\n",
    "session.execute(\"INSERT INTO car_table (company, model) VALUES ('Tesla', 'Model S');\")\n",
    "session.execute(\"INSERT INTO car_table (company, model) VALUES ('Tesla', 'Model 3');\")\n",
    "session.execute(\"INSERT INTO car_table (company, model) VALUES ('Polestar', '3');\")\n",
    "session.execute(\"INSERT INTO car_table (company, model) VALUES ('Volkswagen', 'ID.4');\")"
   ]
  },
  {
   "cell_type": "code",
   "execution_count": 10,
   "metadata": {
    "slideshow": {
     "slide_type": "slide"
    }
   },
   "outputs": [
    {
     "name": "stdout",
     "output_type": "stream",
     "text": [
      "Row(company='Tesla', model='Model 3')\n",
      "Row(company='Tesla', model='Model S')\n"
     ]
    }
   ],
   "source": [
    "# More specific query now works\n",
    "prepared_statement = session.prepare(\"SELECT * FROM car_table WHERE company=?;\")\n",
    "teslas = session.execute(prepared_statement, ['Tesla'])\n",
    "for i in teslas:\n",
    "    print(i)"
   ]
  },
  {
   "cell_type": "markdown",
   "metadata": {
    "slideshow": {
     "slide_type": "slide"
    }
   },
   "source": [
    "### Partitions\n",
    "- Cassandra databases are usually replicated over different nodes.\n",
    "- Data is stored in partitions (subsets) which have local copys.\n",
    "- The primary key, e.g., PRIMARY KEY(company, model), is used in partitioning.\n",
    "    - The first part, e.g., company, is most important.\n",
    "    - All cars from a company will be located together, aiming for quicker queries."
   ]
  },
  {
   "cell_type": "markdown",
   "metadata": {
    "slideshow": {
     "slide_type": "slide"
    }
   },
   "source": [
    "### Unique IDs \n",
    "- In MySQL one could use the attribute AUTO_INCREMENT on integer IDs to automatically make a new unique index when inserting data.\n",
    "- This would cause unreasonable overhead in a distributed database.\n",
    "- [UUID](https://en.wikipedia.org/wiki/Universally_unique_identifier)s are used instead.\n",
    "    - Universally Unique Identifiers are typically 128-bit random bit sequences with extremely low probability of duplication.\n",
    "    - Cassandra uses a [timeuuid](https://docs.datastax.com/en/cql-oss/3.3/cql/cql_reference/timeuuid_functions_r.html) type to combine a timestamp and uuid in one."
   ]
  },
  {
   "cell_type": "code",
   "execution_count": 11,
   "metadata": {
    "slideshow": {
     "slide_type": "fragment"
    }
   },
   "outputs": [
    {
     "data": {
      "text/plain": [
       "<cassandra.cluster.ResultSet at 0x109c35b90>"
      ]
     },
     "execution_count": 11,
     "metadata": {},
     "output_type": "execute_result"
    }
   ],
   "source": [
    "# Create a new table (first time only)\n",
    "session.set_keyspace('my_first_keyspace')\n",
    "session.execute(\"DROP TABLE IF EXISTS my_first_keyspace.table_with_uuid;\")\n",
    "session.execute(\"CREATE TABLE IF NOT EXISTS table_with_uuid (id timeuuid PRIMARY KEY, company text, model text, price float);\")"
   ]
  },
  {
   "cell_type": "code",
   "execution_count": 12,
   "metadata": {
    "slideshow": {
     "slide_type": "slide"
    }
   },
   "outputs": [
    {
     "data": {
      "text/plain": [
       "<cassandra.cluster.ResultSet at 0x10b8330d0>"
      ]
     },
     "execution_count": 12,
     "metadata": {},
     "output_type": "execute_result"
    }
   ],
   "source": [
    "session.execute(\"INSERT INTO table_with_uuid (id, company, model, price) VALUES (now(), 'Tesla', 'Model S', 20000.0);\")\n",
    "session.execute(\"INSERT INTO table_with_uuid (id, company, model, price) VALUES (now(), 'Tesla', 'Model S', 21000.0);\")\n",
    "session.execute(\"INSERT INTO table_with_uuid (id, company, model, price) VALUES (now(), 'Oldsmobile', 'Model 6C', 135000.0);\")"
   ]
  },
  {
   "cell_type": "code",
   "execution_count": 13,
   "metadata": {
    "slideshow": {
     "slide_type": "slide"
    }
   },
   "outputs": [
    {
     "name": "stdout",
     "output_type": "stream",
     "text": [
      "Row(id=UUID('7f9c9740-877b-11ee-9d44-1198bb0571f3'), company='Tesla', model='Model S', price=20000.0)\n",
      "Datetime: 2023-11-20 08:04:58.676000\n",
      "Row(id=UUID('7f9d0c70-877b-11ee-9d44-1198bb0571f3'), company='Tesla', model='Model S', price=21000.0)\n",
      "Datetime: 2023-11-20 08:04:58.679000\n",
      "Row(id=UUID('7f9d3380-877b-11ee-9d44-1198bb0571f3'), company='Oldsmobile', model='Model 6C', price=135000.0)\n",
      "Datetime: 2023-11-20 08:04:58.680000\n"
     ]
    }
   ],
   "source": [
    "from cassandra.util import datetime_from_uuid1\n",
    "\n",
    "# Query the data\n",
    "rows = session.execute(\"SELECT * FROM table_with_uuid;\")\n",
    "for i in rows:\n",
    "    print(i)\n",
    "    # Extract the timestamp from Cassandra's timeuuid\n",
    "    print(\"Datetime:\", datetime_from_uuid1(i.id))"
   ]
  },
  {
   "cell_type": "markdown",
   "metadata": {
    "slideshow": {
     "slide_type": "slide"
    }
   },
   "source": [
    "## JSON in Cassandra\n",
    "### Read previously saved JSON file forecast.json to memory"
   ]
  },
  {
   "cell_type": "code",
   "execution_count": 14,
   "metadata": {
    "slideshow": {
     "slide_type": "-"
    }
   },
   "outputs": [],
   "source": [
    "import json\n",
    "with open('../3_APIs/downloads/forecast.json', 'r') as f:\n",
    "    forecast = json.load(f)"
   ]
  },
  {
   "cell_type": "code",
   "execution_count": 15,
   "metadata": {
    "slideshow": {
     "slide_type": "slide"
    }
   },
   "outputs": [
    {
     "data": {
      "text/plain": [
       "\"{'cod': '200', 'message': 0, 'cnt': 40, 'list': [{'dt': 1700470800, 'main': {'temp': 268.15, 'feels_like': 268.15, 'temp_min': 268.15, 'temp_max': 268.15, 'pressure': 1015, 'sea_level': 1015, 'grnd_level': 996, 'humidity': 92, 'temp_kf': 0}, 'weather': [{'id': 600, 'main': 'Snow', 'description': 'light snow', 'icon': '13d'}], 'clouds': {'all': 99}, 'wind': {'speed': 0.95, 'deg': 13, 'gust': 1.28}, 'visibility': 830, 'pop': 0.2, 'snow': {'3h': 0.15}, 'sys': {'pod': 'd'}, 'dt_txt': '2023-11-20 09:00:00'}, {'dt': 1700481600, 'main': {'temp': 268.76, 'feels_like': 268.76, 'temp_min': 268.76, 'temp_max': 269.98, 'pressure': 1015, 'sea_level': 1015, 'grnd_level': 996, 'humidity': 91, 'temp_kf': -1.22}, 'weather': [{'id': 600, 'main': 'Snow', 'description': 'light snow', 'icon': '13d'}], 'clouds': {'all': 99}, 'wind': {'speed': 0.57, 'deg': 50, 'gust': 0.74}, 'visibility': 1914, 'pop': 0.2, 'snow': {'3h': 0.13}, 'sys': {'pod': 'd'}, 'dt_txt': '2023-11-20 12:00:00'}, {'dt': 1700492400, 'main': {'temp': 267.84, 'feels_like': 267.84, 'temp_min': 267.69, 'temp_max': 267.84, 'pressure': 1016, 'sea_level': 1016, 'grnd_level': 997, 'humidity': 94, 'temp_kf': 0.15}, 'weather': [{'id': 804, 'main': 'Clouds', 'description': 'overcast clouds', 'icon': '04n'}], 'clouds': {'all': 97}, 'wind': {'speed': 0.91, 'deg': 12, 'gust': 0.95}, 'visibility': 1565, 'pop': 0, 'sys': {'pod': 'n'}, 'dt_txt': '2023-11-20 15:00:00'}, {'dt': 1700503200, 'main': {'temp': 267, 'feels_like': 267, 'temp_min': 267, 'temp_max': 267, 'pressure': 1019, 'sea_level': 1019, 'grnd_level': 1000, 'humidity': 93, 'temp_kf': 0}, 'weather': [{'id': 600, 'main': 'Snow', 'description': 'light snow', 'icon': '13n'}], 'clouds': {'all': 97}, 'wind': {'speed': 1.28, 'deg': 346, 'gust': 1.41}, 'visibility': 2364, 'pop': 0.2, 'snow': {'3h': 0.1}, 'sys': {'pod': 'n'}, 'dt_txt': '2023-11-20 18:00:00'}, {'dt': 1700514000, 'main': {'temp': 267.08, 'feels_like': 267.08, 'temp_min': 267.08, 'temp_max': 267.08, 'pressure': 1021, 'sea_level': 1021, 'grnd_level': 1001, 'humidity': 93, 'temp_kf': 0}, 'weather': [{'id': 600, 'main': 'Snow', 'description': 'light snow', 'icon': '13n'}], 'clouds': {'all': 98}, 'wind': {'speed': 1.1, 'deg': 353, 'gust': 1.5}, 'visibility': 1557, 'pop': 0.2, 'snow': {'3h': 0.11}, 'sys': {'pod': 'n'}, 'dt_txt': '2023-11-20 21:00:00'}, {'dt': 1700524800, 'main': {'temp': 266.47, 'feels_like': 266.47, 'temp_min': 266.47, 'temp_max': 266.47, 'pressure': 1023, 'sea_level': 1023, 'grnd_level': 1003, 'humidity': 92, 'temp_kf': 0}, 'weather': [{'id': 804, 'main': 'Clouds', 'description': 'overcast clouds', 'icon': '04n'}], 'clouds': {'all': 99}, 'wind': {'speed': 1.28, 'deg': 345, 'gust': 1.76}, 'visibility': 2931, 'pop': 0, 'sys': {'pod': 'n'}, 'dt_txt': '2023-11-21 00:00:00'}, {'dt': 1700535600, 'main': {'temp': 266.16, 'feels_like': 263.52, 'temp_min': 266.16, 'temp_max': 266.16, 'pressure': 1024, 'sea_level': 1024, 'grnd_level': 1004, 'humidity': 91, 'temp_kf': 0}, 'weather': [{'id': 804, 'main': 'Clouds', 'description': 'overcast clouds', 'icon': '04n'}], 'clouds': {'all': 91}, 'wind': {'speed': 1.45, 'deg': 344, 'gust': 2.01}, 'visibility': 5748, 'pop': 0, 'sys': {'pod': 'n'}, 'dt_txt': '2023-11-21 03:00:00'}, {'dt': 1700546400, 'main': {'temp': 265.58, 'feels_like': 262.78, 'temp_min': 265.58, 'temp_max': 265.58, 'pressure': 1026, 'sea_level': 1026, 'grnd_level': 1006, 'humidity': 90, 'temp_kf': 0}, 'weather': [{'id': 804, 'main': 'Clouds', 'description': 'overcast clouds', 'icon': '04n'}], 'clouds': {'all': 90}, 'wind': {'speed': 1.49, 'deg': 333, 'gust': 2.04}, 'visibility': 9212, 'pop': 0, 'sys': {'pod': 'n'}, 'dt_txt': '2023-11-21 06:00:00'}, {'dt': 1700557200, 'main': {'temp': 266.17, 'feels_like': 266.17, 'temp_min': 266.17, 'temp_max': 266.17, 'pressure': 1028, 'sea_level': 1028, 'grnd_level': 1008, 'humidity': 88, 'temp_kf': 0}, 'weather': [{'id': 804, 'main': 'Clouds', 'description': 'overcast clouds', 'icon': '04d'}], 'clouds': {'all': 85}, 'wind': {'speed': 1.17, 'deg': 337, 'gust': 1.61}, 'visibility': 10000, 'pop': 0, 'sys': {'pod': 'd'}, 'dt_txt': '2023-11-21 09:00:00'}, {'dt': 1700568000, 'main': {'temp': 268.67, 'feels_like': 268.67, 'temp_min': 268.67, 'temp_max': 268.67, 'pressure': 1028, 'sea_level': 1028, 'grnd_level': 1008, 'humidity': 87, 'temp_kf': 0}, 'weather': [{'id': 803, 'main': 'Clouds', 'description': 'broken clouds', 'icon': '04d'}], 'clouds': {'all': 81}, 'wind': {'speed': 0.11, 'deg': 332, 'gust': 0.54}, 'visibility': 10000, 'pop': 0, 'sys': {'pod': 'd'}, 'dt_txt': '2023-11-21 12:00:00'}, {'dt': 1700578800, 'main': {'temp': 264.31, 'feels_like': 264.31, 'temp_min': 264.31, 'temp_max': 264.31, 'pressure': 1029, 'sea_level': 1029, 'grnd_level': 1009, 'humidity': 95, 'temp_kf': 0}, 'weather': [{'id': 803, 'main': 'Clouds', 'description': 'broken clouds', 'icon': '04n'}], 'clouds': {'all': 59}, 'wind': {'speed': 1.15, 'deg': 307, 'gust': 0.93}, 'visibility': 10000, 'pop': 0, 'sys': {'pod': 'n'}, 'dt_txt': '2023-11-21 15:00:00'}, {'dt': 1700589600, 'main': {'temp': 263.19, 'feels_like': 263.19, 'temp_min': 263.19, 'temp_max': 263.19, 'pressure': 1030, 'sea_level': 1030, 'grnd_level': 1010, 'humidity': 95, 'temp_kf': 0}, 'weather': [{'id': 803, 'main': 'Clouds', 'description': 'broken clouds', 'icon': '04n'}], 'clouds': {'all': 69}, 'wind': {'speed': 1.22, 'deg': 293, 'gust': 0.93}, 'visibility': 6715, 'pop': 0, 'sys': {'pod': 'n'}, 'dt_txt': '2023-11-21 18:00:00'}, {'dt': 1700600400, 'main': {'temp': 263.77, 'feels_like': 263.77, 'temp_min': 263.77, 'temp_max': 263.77, 'pressure': 1029, 'sea_level': 1029, 'grnd_level': 1009, 'humidity': 94, 'temp_kf': 0}, 'weather': [{'id': 804, 'main': 'Clouds', 'description': 'overcast clouds', 'icon': '04n'}], 'clouds': {'all': 97}, 'wind': {'speed': 1.2, 'deg': 281, 'gust': 1.18}, 'visibility': 1371, 'pop': 0, 'sys': {'pod': 'n'}, 'dt_txt': '2023-11-21 21:00:00'}, {'dt': 1700611200, 'main': {'temp': 265.15, 'feels_like': 265.15, 'temp_min': 265.15, 'temp_max': 265.15, 'pressure': 1026, 'sea_level': 1026, 'grnd_level': 1006, 'humidity': 93, 'temp_kf': 0}, 'weather': [{'id': 804, 'main': 'Clouds', 'description': 'overcast clouds', 'icon': '04n'}], 'clouds': {'all': 98}, 'wind': {'speed': 0.91, 'deg': 264, 'gust': 1.09}, 'visibility': 5674, 'pop': 0, 'sys': {'pod': 'n'}, 'dt_txt': '2023-11-22 00:00:00'}, {'dt': 1700622000, 'main': {'temp': 267.49, 'feels_like': 267.49, 'temp_min': 267.49, 'temp_max': 267.49, 'pressure': 1022, 'sea_level': 1022, 'grnd_level': 1002, 'humidity': 90, 'temp_kf': 0}, 'weather': [{'id': 804, 'main': 'Clouds', 'description': 'overcast clouds', 'icon': '04n'}], 'clouds': {'all': 100}, 'wind': {'speed': 1.14, 'deg': 201, 'gust': 1.7}, 'visibility': 10000, 'pop': 0, 'sys': {'pod': 'n'}, 'dt_txt': '2023-11-22 03:00:00'}, {'dt': 1700632800, 'main': {'temp': 268.97, 'feels_like': 265.99, 'temp_min': 268.97, 'temp_max': 268.97, 'pressure': 1017, 'sea_level': 1017, 'grnd_level': 998, 'humidity': 91, 'temp_kf': 0}, 'weather': [{'id': 804, 'main': 'Clouds', 'description': 'overcast clouds', 'icon': '04n'}], 'clouds': {'all': 100}, 'wind': {'speed': 1.89, 'deg': 188, 'gust': 3}, 'visibility': 10000, 'pop': 0, 'sys': {'pod': 'n'}, 'dt_txt': '2023-11-22 06:00:00'}, {'dt': 1700643600, 'main': {'temp': 269.74, 'feels_like': 266.98, 'temp_min': 269.74, 'temp_max': 269.74, 'pressure': 1012, 'sea_level': 1012, 'grnd_level': 993, 'humidity': 95, 'temp_kf': 0}, 'weather': [{'id': 804, 'main': 'Clouds', 'description': 'overcast clouds', 'icon': '04d'}], 'clouds': {'all': 100}, 'wind': {'speed': 1.82, 'deg': 196, 'gust': 3.57}, 'visibility': 10000, 'pop': 0, 'sys': {'pod': 'd'}, 'dt_txt': '2023-11-22 09:00:00'}, {'dt': 1700654400, 'main': {'temp': 272.23, 'feels_like': 270.28, 'temp_min': 272.23, 'temp_max': 272.23, 'pressure': 1004, 'sea_level': 1004, 'grnd_level': 986, 'humidity': 94, 'temp_kf': 0}, 'weather': [{'id': 804, 'main': 'Clouds', 'description': 'overcast clouds', 'icon': '04d'}], 'clouds': {'all': 100}, 'wind': {'speed': 1.54, 'deg': 183, 'gust': 2.93}, 'visibility': 10000, 'pop': 0, 'sys': {'pod': 'd'}, 'dt_txt': '2023-11-22 12:00:00'}, {'dt': 1700665200, 'main': {'temp': 274.11, 'feels_like': 271.29, 'temp_min': 274.11, 'temp_max': 274.11, 'pressure': 1001, 'sea_level': 1001, 'grnd_level': 983, 'humidity': 92, 'temp_kf': 0}, 'weather': [{'id': 804, 'main': 'Clouds', 'description': 'overcast clouds', 'icon': '04n'}], 'clouds': {'all': 100}, 'wind': {'speed': 2.47, 'deg': 269, 'gust': 4.74}, 'visibility': 10000, 'pop': 0, 'sys': {'pod': 'n'}, 'dt_txt': '2023-11-22 15:00:00'}, {'dt': 1700676000, 'main': {'temp': 273.57, 'feels_like': 271.16, 'temp_min': 273.57, 'temp_max': 273.57, 'pressure': 1000, 'sea_level': 1000, 'grnd_level': 981, 'humidity': 88, 'temp_kf': 0}, 'weather': [{'id': 804, 'main': 'Clouds', 'description': 'overcast clouds', 'icon': '04n'}], 'clouds': {'all': 99}, 'wind': {'speed': 2.02, 'deg': 276, 'gust': 3.1}, 'visibility': 10000, 'pop': 0, 'sys': {'pod': 'n'}, 'dt_txt': '2023-11-22 18:00:00'}, {'dt': 1700686800, 'main': {'temp': 271.95, 'feels_like': 269.39, 'temp_min': 271.95, 'temp_max': 271.95, 'pressure': 1000, 'sea_level': 1000, 'grnd_level': 981, 'humidity': 91, 'temp_kf': 0}, 'weather': [{'id': 803, 'main': 'Clouds', 'description': 'broken clouds', 'icon': '04n'}], 'clouds': {'all': 70}, 'wind': {'speed': 1.93, 'deg': 282, 'gust': 1.81}, 'visibility': 10000, 'pop': 0, 'sys': {'pod': 'n'}, 'dt_txt': '2023-11-22 21:00:00'}, {'dt': 1700697600, 'main': {'temp': 270.18, 'feels_like': 267.69, 'temp_min': 270.18, 'temp_max': 270.18, 'pressure': 998, 'sea_level': 998, 'grnd_level': 979, 'humidity': 94, 'temp_kf': 0}, 'weather': [{'id': 803, 'main': 'Clouds', 'description': 'broken clouds', 'icon': '04n'}], 'clouds': {'all': 75}, 'wind': {'speed': 1.69, 'deg': 261, 'gust': 1.41}, 'visibility': 10000, 'pop': 0, 'sys': {'pod': 'n'}, 'dt_txt': '2023-11-23 00:00:00'}, {'dt': 1700708400, 'main': {'temp': 269.29, 'feels_like': 266.46, 'temp_min': 269.29, 'temp_max': 269.29, 'pressure': 993, 'sea_level': 993, 'grnd_level': 975, 'humidity': 94, 'temp_kf': 0}, 'weather': [{'id': 802, 'main': 'Clouds', 'description': 'scattered clouds', 'icon': '03n'}], 'clouds': {'all': 40}, 'wind': {'speed': 1.82, 'deg': 266, 'gust': 1.45}, 'visibility': 10000, 'pop': 0, 'sys': {'pod': 'n'}, 'dt_txt': '2023-11-23 03:00:00'}, {'dt': 1700719200, 'main': {'temp': 273.25, 'feels_like': 270.17, 'temp_min': 273.25, 'temp_max': 273.25, 'pressure': 989, 'sea_level': 989, 'grnd_level': 971, 'humidity': 90, 'temp_kf': 0}, 'weather': [{'id': 600, 'main': 'Snow', 'description': 'light snow', 'icon': '13n'}], 'clouds': {'all': 41}, 'wind': {'speed': 2.57, 'deg': 260, 'gust': 6.22}, 'visibility': 10000, 'pop': 0.2, 'snow': {'3h': 0.11}, 'sys': {'pod': 'n'}, 'dt_txt': '2023-11-23 06:00:00'}, {'dt': 1700730000, 'main': {'temp': 274.86, 'feels_like': 271.19, 'temp_min': 274.86, 'temp_max': 274.86, 'pressure': 989, 'sea_level': 989, 'grnd_level': 970, 'humidity': 81, 'temp_kf': 0}, 'weather': [{'id': 801, 'main': 'Clouds', 'description': 'few clouds', 'icon': '02d'}], 'clouds': {'all': 17}, 'wind': {'speed': 3.67, 'deg': 276, 'gust': 7.31}, 'visibility': 10000, 'pop': 0, 'sys': {'pod': 'd'}, 'dt_txt': '2023-11-23 09:00:00'}, {'dt': 1700740800, 'main': {'temp': 274.88, 'feels_like': 272.32, 'temp_min': 274.88, 'temp_max': 274.88, 'pressure': 987, 'sea_level': 987, 'grnd_level': 969, 'humidity': 78, 'temp_kf': 0}, 'weather': [{'id': 801, 'main': 'Clouds', 'description': 'few clouds', 'icon': '02d'}], 'clouds': {'all': 11}, 'wind': {'speed': 2.36, 'deg': 239, 'gust': 4.12}, 'visibility': 10000, 'pop': 0.01, 'sys': {'pod': 'd'}, 'dt_txt': '2023-11-23 12:00:00'}, {'dt': 1700751600, 'main': {'temp': 272.81, 'feels_like': 268.71, 'temp_min': 272.81, 'temp_max': 272.81, 'pressure': 986, 'sea_level': 986, 'grnd_level': 968, 'humidity': 83, 'temp_kf': 0}, 'weather': [{'id': 600, 'main': 'Snow', 'description': 'light snow', 'icon': '13n'}], 'clouds': {'all': 55}, 'wind': {'speed': 3.64, 'deg': 279, 'gust': 6.77}, 'visibility': 10000, 'pop': 0.35, 'snow': {'3h': 0.16}, 'sys': {'pod': 'n'}, 'dt_txt': '2023-11-23 15:00:00'}, {'dt': 1700762400, 'main': {'temp': 272.86, 'feels_like': 268.7, 'temp_min': 272.86, 'temp_max': 272.86, 'pressure': 987, 'sea_level': 987, 'grnd_level': 969, 'humidity': 65, 'temp_kf': 0}, 'weather': [{'id': 802, 'main': 'Clouds', 'description': 'scattered clouds', 'icon': '03n'}], 'clouds': {'all': 29}, 'wind': {'speed': 3.74, 'deg': 291, 'gust': 9.1}, 'visibility': 10000, 'pop': 0.17, 'sys': {'pod': 'n'}, 'dt_txt': '2023-11-23 18:00:00'}, {'dt': 1700773200, 'main': {'temp': 270.53, 'feels_like': 265.85, 'temp_min': 270.53, 'temp_max': 270.53, 'pressure': 989, 'sea_level': 989, 'grnd_level': 970, 'humidity': 76, 'temp_kf': 0}, 'weather': [{'id': 800, 'main': 'Clear', 'description': 'clear sky', 'icon': '01n'}], 'clouds': {'all': 2}, 'wind': {'speed': 3.74, 'deg': 287, 'gust': 8.74}, 'visibility': 10000, 'pop': 0, 'sys': {'pod': 'n'}, 'dt_txt': '2023-11-23 21:00:00'}, {'dt': 1700784000, 'main': {'temp': 270.44, 'feels_like': 265.66, 'temp_min': 270.44, 'temp_max': 270.44, 'pressure': 991, 'sea_level': 991, 'grnd_level': 972, 'humidity': 62, 'temp_kf': 0}, 'weather': [{'id': 800, 'main': 'Clear', 'description': 'clear sky', 'icon': '01n'}], 'clouds': {'all': 10}, 'wind': {'speed': 3.84, 'deg': 302, 'gust': 11.67}, 'visibility': 10000, 'pop': 0, 'sys': {'pod': 'n'}, 'dt_txt': '2023-11-24 00:00:00'}, {'dt': 1700794800, 'main': {'temp': 267.42, 'feels_like': 263.22, 'temp_min': 267.42, 'temp_max': 267.42, 'pressure': 991, 'sea_level': 991, 'grnd_level': 972, 'humidity': 77, 'temp_kf': 0}, 'weather': [{'id': 804, 'main': 'Clouds', 'description': 'overcast clouds', 'icon': '04n'}], 'clouds': {'all': 92}, 'wind': {'speed': 2.6, 'deg': 280, 'gust': 4.75}, 'visibility': 10000, 'pop': 0, 'sys': {'pod': 'n'}, 'dt_txt': '2023-11-24 03:00:00'}, {'dt': 1700805600, 'main': {'temp': 266.89, 'feels_like': 262.99, 'temp_min': 266.89, 'temp_max': 266.89, 'pressure': 990, 'sea_level': 990, 'grnd_level': 971, 'humidity': 80, 'temp_kf': 0}, 'weather': [{'id': 804, 'main': 'Clouds', 'description': 'overcast clouds', 'icon': '04n'}], 'clouds': {'all': 96}, 'wind': {'speed': 2.29, 'deg': 291, 'gust': 3.02}, 'visibility': 10000, 'pop': 0, 'sys': {'pod': 'n'}, 'dt_txt': '2023-11-24 06:00:00'}, {'dt': 1700816400, 'main': {'temp': 267.35, 'feels_like': 263.46, 'temp_min': 267.35, 'temp_max': 267.35, 'pressure': 992, 'sea_level': 992, 'grnd_level': 973, 'humidity': 81, 'temp_kf': 0}, 'weather': [{'id': 804, 'main': 'Clouds', 'description': 'overcast clouds', 'icon': '04d'}], 'clouds': {'all': 100}, 'wind': {'speed': 2.34, 'deg': 308, 'gust': 3.65}, 'visibility': 10000, 'pop': 0, 'sys': {'pod': 'd'}, 'dt_txt': '2023-11-24 09:00:00'}, {'dt': 1700827200, 'main': {'temp': 269.48, 'feels_like': 266.11, 'temp_min': 269.48, 'temp_max': 269.48, 'pressure': 992, 'sea_level': 992, 'grnd_level': 974, 'humidity': 77, 'temp_kf': 0}, 'weather': [{'id': 804, 'main': 'Clouds', 'description': 'overcast clouds', 'icon': '04d'}], 'clouds': {'all': 95}, 'wind': {'speed': 2.23, 'deg': 312, 'gust': 4.48}, 'visibility': 10000, 'pop': 0, 'sys': {'pod': 'd'}, 'dt_txt': '2023-11-24 12:00:00'}, {'dt': 1700838000, 'main': {'temp': 268.46, 'feels_like': 264.89, 'temp_min': 268.46, 'temp_max': 268.46, 'pressure': 994, 'sea_level': 994, 'grnd_level': 975, 'humidity': 83, 'temp_kf': 0}, 'weather': [{'id': 804, 'main': 'Clouds', 'description': 'overcast clouds', 'icon': '04n'}], 'clouds': {'all': 92}, 'wind': {'speed': 2.25, 'deg': 303, 'gust': 3.7}, 'visibility': 10000, 'pop': 0, 'sys': {'pod': 'n'}, 'dt_txt': '2023-11-24 15:00:00'}, {'dt': 1700848800, 'main': {'temp': 268.03, 'feels_like': 265.22, 'temp_min': 268.03, 'temp_max': 268.03, 'pressure': 994, 'sea_level': 994, 'grnd_level': 975, 'humidity': 83, 'temp_kf': 0}, 'weather': [{'id': 804, 'main': 'Clouds', 'description': 'overcast clouds', 'icon': '04n'}], 'clouds': {'all': 89}, 'wind': {'speed': 1.69, 'deg': 294, 'gust': 1.99}, 'visibility': 10000, 'pop': 0, 'sys': {'pod': 'n'}, 'dt_txt': '2023-11-24 18:00:00'}, {'dt': 1700859600, 'main': {'temp': 268.24, 'feels_like': 265.91, 'temp_min': 268.24, 'temp_max': 268.24, 'pressure': 995, 'sea_level': 995, 'grnd_level': 976, 'humidity': 86, 'temp_kf': 0}, 'weather': [{'id': 804, 'main': 'Clouds', 'description': 'overcast clouds', 'icon': '04n'}], 'clouds': {'all': 100}, 'wind': {'speed': 1.44, 'deg': 347, 'gust': 2.91}, 'visibility': 10000, 'pop': 0.09, 'sys': {'pod': 'n'}, 'dt_txt': '2023-11-24 21:00:00'}, {'dt': 1700870400, 'main': {'temp': 266.86, 'feels_like': 263.65, 'temp_min': 266.86, 'temp_max': 266.86, 'pressure': 998, 'sea_level': 998, 'grnd_level': 979, 'humidity': 90, 'temp_kf': 0}, 'weather': [{'id': 600, 'main': 'Snow', 'description': 'light snow', 'icon': '13n'}], 'clouds': {'all': 97}, 'wind': {'speed': 1.82, 'deg': 337, 'gust': 3.15}, 'visibility': 10000, 'pop': 0.23, 'snow': {'3h': 0.11}, 'sys': {'pod': 'n'}, 'dt_txt': '2023-11-25 00:00:00'}, {'dt': 1700881200, 'main': {'temp': 265.81, 'feels_like': 262.3, 'temp_min': 265.81, 'temp_max': 265.81, 'pressure': 1000, 'sea_level': 1000, 'grnd_level': 981, 'humidity': 90, 'temp_kf': 0}, 'weather': [{'id': 804, 'main': 'Clouds', 'description': 'overcast clouds', 'icon': '04n'}], 'clouds': {'all': 91}, 'wind': {'speed': 1.9, 'deg': 323, 'gust': 3.33}, 'visibility': 10000, 'pop': 0, 'sys': {'pod': 'n'}, 'dt_txt': '2023-11-25 03:00:00'}, {'dt': 1700892000, 'main': {'temp': 265.74, 'feels_like': 261.76, 'temp_min': 265.74, 'temp_max': 265.74, 'pressure': 1002, 'sea_level': 1002, 'grnd_level': 982, 'humidity': 90, 'temp_kf': 0}, 'weather': [{'id': 804, 'main': 'Clouds', 'description': 'overcast clouds', 'icon': '04n'}], 'clouds': {'all': 88}, 'wind': {'speed': 2.2, 'deg': 319, 'gust': 3.77}, 'visibility': 10000, 'pop': 0, 'sys': {'pod': 'n'}, 'dt_txt': '2023-11-25 06:00:00'}], 'city': {'id': 3144113, 'name': 'Noresund', 'coord': {'lat': 60.1803, 'lon': 9.6231}, 'country': 'NO', 'population': 1000, 'timezone': 3600, 'sunrise': 1700465520, 'sunset': 1700491342}}\""
      ]
     },
     "execution_count": 15,
     "metadata": {},
     "output_type": "execute_result"
    }
   ],
   "source": [
    "# Inspect JSON file\n",
    "forecast.__str__()"
   ]
  },
  {
   "cell_type": "markdown",
   "metadata": {
    "slideshow": {
     "slide_type": "slide"
    }
   },
   "source": [
    "## Raw JSON\n",
    "- A simple, but not very efficient way of storing JSON data is to treat it as a text and save it directly to the database.  \n",
    "- More efficient, with regard to transfer, is to compress the JSON data to a blob first.\n",
    "    - Compression is automatic."
   ]
  },
  {
   "cell_type": "code",
   "execution_count": 16,
   "metadata": {
    "slideshow": {
     "slide_type": "-"
    }
   },
   "outputs": [
    {
     "data": {
      "text/plain": [
       "<cassandra.cluster.ResultSet at 0x10ab5e7d0>"
      ]
     },
     "execution_count": 16,
     "metadata": {},
     "output_type": "execute_result"
    }
   ],
   "source": [
    "# Create a new table which treats the whole JSON as a blob, using the city id and the first dt as keys\n",
    "session.set_keyspace('my_first_keyspace')\n",
    "session.execute(\"DROP TABLE IF EXISTS my_first_keyspace.forecast_table;\")\n",
    "session.execute(\"CREATE TABLE IF NOT EXISTS forecast_table (city_id int, dt int, forecast blob, PRIMARY KEY(city_id, dt));\")"
   ]
  },
  {
   "cell_type": "markdown",
   "metadata": {
    "slideshow": {
     "slide_type": "slide"
    }
   },
   "source": [
    "### Insert the forecast data into the table as text blob"
   ]
  },
  {
   "cell_type": "code",
   "execution_count": 17,
   "metadata": {
    "slideshow": {
     "slide_type": "-"
    }
   },
   "outputs": [
    {
     "data": {
      "text/plain": [
       "<cassandra.cluster.ResultSet at 0x10993ea50>"
      ]
     },
     "execution_count": 17,
     "metadata": {},
     "output_type": "execute_result"
    }
   ],
   "source": [
    "session.execute(\"INSERT INTO forecast_table (city_id, dt, forecast) VALUES (%s, %s, textAsBlob(%s));\", (forecast['city']['id'], forecast['list'][0]['dt'], forecast.__str__()))"
   ]
  },
  {
   "cell_type": "code",
   "execution_count": 18,
   "metadata": {
    "slideshow": {
     "slide_type": "slide"
    }
   },
   "outputs": [
    {
     "name": "stdout",
     "output_type": "stream",
     "text": [
      "Row(city_id=3144113, dt=1700470800, forecast=b\"{'cod': '200', 'message': 0, 'cnt': 40, 'list': [{'dt': 1700470800, 'main': {'temp': 268.15, 'feels_like': 268.15, 'temp_min': 268.15, 'temp_max': 268.15, 'pressure': 1015, 'sea_level': 1015, 'grnd_level': 996, 'humidity': 92, 'temp_kf': 0}, 'weather': [{'id': 600, 'main': 'Snow', 'description': 'light snow', 'icon': '13d'}], 'clouds': {'all': 99}, 'wind': {'speed': 0.95, 'deg': 13, 'gust': 1.28}, 'visibility': 830, 'pop': 0.2, 'snow': {'3h': 0.15}, 'sys': {'pod': 'd'}, 'dt_txt': '2023-11-20 09:00:00'}, {'dt': 1700481600, 'main': {'temp': 268.76, 'feels_like': 268.76, 'temp_min': 268.76, 'temp_max': 269.98, 'pressure': 1015, 'sea_level': 1015, 'grnd_level': 996, 'humidity': 91, 'temp_kf': -1.22}, 'weather': [{'id': 600, 'main': 'Snow', 'description': 'light snow', 'icon': '13d'}], 'clouds': {'all': 99}, 'wind': {'speed': 0.57, 'deg': 50, 'gust': 0.74}, 'visibility': 1914, 'pop': 0.2, 'snow': {'3h': 0.13}, 'sys': {'pod': 'd'}, 'dt_txt': '2023-11-20 12:00:00'}, {'dt': 1700492400, 'main': {'temp': 267.84, 'feels_like': 267.84, 'temp_min': 267.69, 'temp_max': 267.84, 'pressure': 1016, 'sea_level': 1016, 'grnd_level': 997, 'humidity': 94, 'temp_kf': 0.15}, 'weather': [{'id': 804, 'main': 'Clouds', 'description': 'overcast clouds', 'icon': '04n'}], 'clouds': {'all': 97}, 'wind': {'speed': 0.91, 'deg': 12, 'gust': 0.95}, 'visibility': 1565, 'pop': 0, 'sys': {'pod': 'n'}, 'dt_txt': '2023-11-20 15:00:00'}, {'dt': 1700503200, 'main': {'temp': 267, 'feels_like': 267, 'temp_min': 267, 'temp_max': 267, 'pressure': 1019, 'sea_level': 1019, 'grnd_level': 1000, 'humidity': 93, 'temp_kf': 0}, 'weather': [{'id': 600, 'main': 'Snow', 'description': 'light snow', 'icon': '13n'}], 'clouds': {'all': 97}, 'wind': {'speed': 1.28, 'deg': 346, 'gust': 1.41}, 'visibility': 2364, 'pop': 0.2, 'snow': {'3h': 0.1}, 'sys': {'pod': 'n'}, 'dt_txt': '2023-11-20 18:00:00'}, {'dt': 1700514000, 'main': {'temp': 267.08, 'feels_like': 267.08, 'temp_min': 267.08, 'temp_max': 267.08, 'pressure': 1021, 'sea_level': 1021, 'grnd_level': 1001, 'humidity': 93, 'temp_kf': 0}, 'weather': [{'id': 600, 'main': 'Snow', 'description': 'light snow', 'icon': '13n'}], 'clouds': {'all': 98}, 'wind': {'speed': 1.1, 'deg': 353, 'gust': 1.5}, 'visibility': 1557, 'pop': 0.2, 'snow': {'3h': 0.11}, 'sys': {'pod': 'n'}, 'dt_txt': '2023-11-20 21:00:00'}, {'dt': 1700524800, 'main': {'temp': 266.47, 'feels_like': 266.47, 'temp_min': 266.47, 'temp_max': 266.47, 'pressure': 1023, 'sea_level': 1023, 'grnd_level': 1003, 'humidity': 92, 'temp_kf': 0}, 'weather': [{'id': 804, 'main': 'Clouds', 'description': 'overcast clouds', 'icon': '04n'}], 'clouds': {'all': 99}, 'wind': {'speed': 1.28, 'deg': 345, 'gust': 1.76}, 'visibility': 2931, 'pop': 0, 'sys': {'pod': 'n'}, 'dt_txt': '2023-11-21 00:00:00'}, {'dt': 1700535600, 'main': {'temp': 266.16, 'feels_like': 263.52, 'temp_min': 266.16, 'temp_max': 266.16, 'pressure': 1024, 'sea_level': 1024, 'grnd_level': 1004, 'humidity': 91, 'temp_kf': 0}, 'weather': [{'id': 804, 'main': 'Clouds', 'description': 'overcast clouds', 'icon': '04n'}], 'clouds': {'all': 91}, 'wind': {'speed': 1.45, 'deg': 344, 'gust': 2.01}, 'visibility': 5748, 'pop': 0, 'sys': {'pod': 'n'}, 'dt_txt': '2023-11-21 03:00:00'}, {'dt': 1700546400, 'main': {'temp': 265.58, 'feels_like': 262.78, 'temp_min': 265.58, 'temp_max': 265.58, 'pressure': 1026, 'sea_level': 1026, 'grnd_level': 1006, 'humidity': 90, 'temp_kf': 0}, 'weather': [{'id': 804, 'main': 'Clouds', 'description': 'overcast clouds', 'icon': '04n'}], 'clouds': {'all': 90}, 'wind': {'speed': 1.49, 'deg': 333, 'gust': 2.04}, 'visibility': 9212, 'pop': 0, 'sys': {'pod': 'n'}, 'dt_txt': '2023-11-21 06:00:00'}, {'dt': 1700557200, 'main': {'temp': 266.17, 'feels_like': 266.17, 'temp_min': 266.17, 'temp_max': 266.17, 'pressure': 1028, 'sea_level': 1028, 'grnd_level': 1008, 'humidity': 88, 'temp_kf': 0}, 'weather': [{'id': 804, 'main': 'Clouds', 'description': 'overcast clouds', 'icon': '04d'}], 'clouds': {'all': 85}, 'wind': {'speed': 1.17, 'deg': 337, 'gust': 1.61}, 'visibility': 10000, 'pop': 0, 'sys': {'pod': 'd'}, 'dt_txt': '2023-11-21 09:00:00'}, {'dt': 1700568000, 'main': {'temp': 268.67, 'feels_like': 268.67, 'temp_min': 268.67, 'temp_max': 268.67, 'pressure': 1028, 'sea_level': 1028, 'grnd_level': 1008, 'humidity': 87, 'temp_kf': 0}, 'weather': [{'id': 803, 'main': 'Clouds', 'description': 'broken clouds', 'icon': '04d'}], 'clouds': {'all': 81}, 'wind': {'speed': 0.11, 'deg': 332, 'gust': 0.54}, 'visibility': 10000, 'pop': 0, 'sys': {'pod': 'd'}, 'dt_txt': '2023-11-21 12:00:00'}, {'dt': 1700578800, 'main': {'temp': 264.31, 'feels_like': 264.31, 'temp_min': 264.31, 'temp_max': 264.31, 'pressure': 1029, 'sea_level': 1029, 'grnd_level': 1009, 'humidity': 95, 'temp_kf': 0}, 'weather': [{'id': 803, 'main': 'Clouds', 'description': 'broken clouds', 'icon': '04n'}], 'clouds': {'all': 59}, 'wind': {'speed': 1.15, 'deg': 307, 'gust': 0.93}, 'visibility': 10000, 'pop': 0, 'sys': {'pod': 'n'}, 'dt_txt': '2023-11-21 15:00:00'}, {'dt': 1700589600, 'main': {'temp': 263.19, 'feels_like': 263.19, 'temp_min': 263.19, 'temp_max': 263.19, 'pressure': 1030, 'sea_level': 1030, 'grnd_level': 1010, 'humidity': 95, 'temp_kf': 0}, 'weather': [{'id': 803, 'main': 'Clouds', 'description': 'broken clouds', 'icon': '04n'}], 'clouds': {'all': 69}, 'wind': {'speed': 1.22, 'deg': 293, 'gust': 0.93}, 'visibility': 6715, 'pop': 0, 'sys': {'pod': 'n'}, 'dt_txt': '2023-11-21 18:00:00'}, {'dt': 1700600400, 'main': {'temp': 263.77, 'feels_like': 263.77, 'temp_min': 263.77, 'temp_max': 263.77, 'pressure': 1029, 'sea_level': 1029, 'grnd_level': 1009, 'humidity': 94, 'temp_kf': 0}, 'weather': [{'id': 804, 'main': 'Clouds', 'description': 'overcast clouds', 'icon': '04n'}], 'clouds': {'all': 97}, 'wind': {'speed': 1.2, 'deg': 281, 'gust': 1.18}, 'visibility': 1371, 'pop': 0, 'sys': {'pod': 'n'}, 'dt_txt': '2023-11-21 21:00:00'}, {'dt': 1700611200, 'main': {'temp': 265.15, 'feels_like': 265.15, 'temp_min': 265.15, 'temp_max': 265.15, 'pressure': 1026, 'sea_level': 1026, 'grnd_level': 1006, 'humidity': 93, 'temp_kf': 0}, 'weather': [{'id': 804, 'main': 'Clouds', 'description': 'overcast clouds', 'icon': '04n'}], 'clouds': {'all': 98}, 'wind': {'speed': 0.91, 'deg': 264, 'gust': 1.09}, 'visibility': 5674, 'pop': 0, 'sys': {'pod': 'n'}, 'dt_txt': '2023-11-22 00:00:00'}, {'dt': 1700622000, 'main': {'temp': 267.49, 'feels_like': 267.49, 'temp_min': 267.49, 'temp_max': 267.49, 'pressure': 1022, 'sea_level': 1022, 'grnd_level': 1002, 'humidity': 90, 'temp_kf': 0}, 'weather': [{'id': 804, 'main': 'Clouds', 'description': 'overcast clouds', 'icon': '04n'}], 'clouds': {'all': 100}, 'wind': {'speed': 1.14, 'deg': 201, 'gust': 1.7}, 'visibility': 10000, 'pop': 0, 'sys': {'pod': 'n'}, 'dt_txt': '2023-11-22 03:00:00'}, {'dt': 1700632800, 'main': {'temp': 268.97, 'feels_like': 265.99, 'temp_min': 268.97, 'temp_max': 268.97, 'pressure': 1017, 'sea_level': 1017, 'grnd_level': 998, 'humidity': 91, 'temp_kf': 0}, 'weather': [{'id': 804, 'main': 'Clouds', 'description': 'overcast clouds', 'icon': '04n'}], 'clouds': {'all': 100}, 'wind': {'speed': 1.89, 'deg': 188, 'gust': 3}, 'visibility': 10000, 'pop': 0, 'sys': {'pod': 'n'}, 'dt_txt': '2023-11-22 06:00:00'}, {'dt': 1700643600, 'main': {'temp': 269.74, 'feels_like': 266.98, 'temp_min': 269.74, 'temp_max': 269.74, 'pressure': 1012, 'sea_level': 1012, 'grnd_level': 993, 'humidity': 95, 'temp_kf': 0}, 'weather': [{'id': 804, 'main': 'Clouds', 'description': 'overcast clouds', 'icon': '04d'}], 'clouds': {'all': 100}, 'wind': {'speed': 1.82, 'deg': 196, 'gust': 3.57}, 'visibility': 10000, 'pop': 0, 'sys': {'pod': 'd'}, 'dt_txt': '2023-11-22 09:00:00'}, {'dt': 1700654400, 'main': {'temp': 272.23, 'feels_like': 270.28, 'temp_min': 272.23, 'temp_max': 272.23, 'pressure': 1004, 'sea_level': 1004, 'grnd_level': 986, 'humidity': 94, 'temp_kf': 0}, 'weather': [{'id': 804, 'main': 'Clouds', 'description': 'overcast clouds', 'icon': '04d'}], 'clouds': {'all': 100}, 'wind': {'speed': 1.54, 'deg': 183, 'gust': 2.93}, 'visibility': 10000, 'pop': 0, 'sys': {'pod': 'd'}, 'dt_txt': '2023-11-22 12:00:00'}, {'dt': 1700665200, 'main': {'temp': 274.11, 'feels_like': 271.29, 'temp_min': 274.11, 'temp_max': 274.11, 'pressure': 1001, 'sea_level': 1001, 'grnd_level': 983, 'humidity': 92, 'temp_kf': 0}, 'weather': [{'id': 804, 'main': 'Clouds', 'description': 'overcast clouds', 'icon': '04n'}], 'clouds': {'all': 100}, 'wind': {'speed': 2.47, 'deg': 269, 'gust': 4.74}, 'visibility': 10000, 'pop': 0, 'sys': {'pod': 'n'}, 'dt_txt': '2023-11-22 15:00:00'}, {'dt': 1700676000, 'main': {'temp': 273.57, 'feels_like': 271.16, 'temp_min': 273.57, 'temp_max': 273.57, 'pressure': 1000, 'sea_level': 1000, 'grnd_level': 981, 'humidity': 88, 'temp_kf': 0}, 'weather': [{'id': 804, 'main': 'Clouds', 'description': 'overcast clouds', 'icon': '04n'}], 'clouds': {'all': 99}, 'wind': {'speed': 2.02, 'deg': 276, 'gust': 3.1}, 'visibility': 10000, 'pop': 0, 'sys': {'pod': 'n'}, 'dt_txt': '2023-11-22 18:00:00'}, {'dt': 1700686800, 'main': {'temp': 271.95, 'feels_like': 269.39, 'temp_min': 271.95, 'temp_max': 271.95, 'pressure': 1000, 'sea_level': 1000, 'grnd_level': 981, 'humidity': 91, 'temp_kf': 0}, 'weather': [{'id': 803, 'main': 'Clouds', 'description': 'broken clouds', 'icon': '04n'}], 'clouds': {'all': 70}, 'wind': {'speed': 1.93, 'deg': 282, 'gust': 1.81}, 'visibility': 10000, 'pop': 0, 'sys': {'pod': 'n'}, 'dt_txt': '2023-11-22 21:00:00'}, {'dt': 1700697600, 'main': {'temp': 270.18, 'feels_like': 267.69, 'temp_min': 270.18, 'temp_max': 270.18, 'pressure': 998, 'sea_level': 998, 'grnd_level': 979, 'humidity': 94, 'temp_kf': 0}, 'weather': [{'id': 803, 'main': 'Clouds', 'description': 'broken clouds', 'icon': '04n'}], 'clouds': {'all': 75}, 'wind': {'speed': 1.69, 'deg': 261, 'gust': 1.41}, 'visibility': 10000, 'pop': 0, 'sys': {'pod': 'n'}, 'dt_txt': '2023-11-23 00:00:00'}, {'dt': 1700708400, 'main': {'temp': 269.29, 'feels_like': 266.46, 'temp_min': 269.29, 'temp_max': 269.29, 'pressure': 993, 'sea_level': 993, 'grnd_level': 975, 'humidity': 94, 'temp_kf': 0}, 'weather': [{'id': 802, 'main': 'Clouds', 'description': 'scattered clouds', 'icon': '03n'}], 'clouds': {'all': 40}, 'wind': {'speed': 1.82, 'deg': 266, 'gust': 1.45}, 'visibility': 10000, 'pop': 0, 'sys': {'pod': 'n'}, 'dt_txt': '2023-11-23 03:00:00'}, {'dt': 1700719200, 'main': {'temp': 273.25, 'feels_like': 270.17, 'temp_min': 273.25, 'temp_max': 273.25, 'pressure': 989, 'sea_level': 989, 'grnd_level': 971, 'humidity': 90, 'temp_kf': 0}, 'weather': [{'id': 600, 'main': 'Snow', 'description': 'light snow', 'icon': '13n'}], 'clouds': {'all': 41}, 'wind': {'speed': 2.57, 'deg': 260, 'gust': 6.22}, 'visibility': 10000, 'pop': 0.2, 'snow': {'3h': 0.11}, 'sys': {'pod': 'n'}, 'dt_txt': '2023-11-23 06:00:00'}, {'dt': 1700730000, 'main': {'temp': 274.86, 'feels_like': 271.19, 'temp_min': 274.86, 'temp_max': 274.86, 'pressure': 989, 'sea_level': 989, 'grnd_level': 970, 'humidity': 81, 'temp_kf': 0}, 'weather': [{'id': 801, 'main': 'Clouds', 'description': 'few clouds', 'icon': '02d'}], 'clouds': {'all': 17}, 'wind': {'speed': 3.67, 'deg': 276, 'gust': 7.31}, 'visibility': 10000, 'pop': 0, 'sys': {'pod': 'd'}, 'dt_txt': '2023-11-23 09:00:00'}, {'dt': 1700740800, 'main': {'temp': 274.88, 'feels_like': 272.32, 'temp_min': 274.88, 'temp_max': 274.88, 'pressure': 987, 'sea_level': 987, 'grnd_level': 969, 'humidity': 78, 'temp_kf': 0}, 'weather': [{'id': 801, 'main': 'Clouds', 'description': 'few clouds', 'icon': '02d'}], 'clouds': {'all': 11}, 'wind': {'speed': 2.36, 'deg': 239, 'gust': 4.12}, 'visibility': 10000, 'pop': 0.01, 'sys': {'pod': 'd'}, 'dt_txt': '2023-11-23 12:00:00'}, {'dt': 1700751600, 'main': {'temp': 272.81, 'feels_like': 268.71, 'temp_min': 272.81, 'temp_max': 272.81, 'pressure': 986, 'sea_level': 986, 'grnd_level': 968, 'humidity': 83, 'temp_kf': 0}, 'weather': [{'id': 600, 'main': 'Snow', 'description': 'light snow', 'icon': '13n'}], 'clouds': {'all': 55}, 'wind': {'speed': 3.64, 'deg': 279, 'gust': 6.77}, 'visibility': 10000, 'pop': 0.35, 'snow': {'3h': 0.16}, 'sys': {'pod': 'n'}, 'dt_txt': '2023-11-23 15:00:00'}, {'dt': 1700762400, 'main': {'temp': 272.86, 'feels_like': 268.7, 'temp_min': 272.86, 'temp_max': 272.86, 'pressure': 987, 'sea_level': 987, 'grnd_level': 969, 'humidity': 65, 'temp_kf': 0}, 'weather': [{'id': 802, 'main': 'Clouds', 'description': 'scattered clouds', 'icon': '03n'}], 'clouds': {'all': 29}, 'wind': {'speed': 3.74, 'deg': 291, 'gust': 9.1}, 'visibility': 10000, 'pop': 0.17, 'sys': {'pod': 'n'}, 'dt_txt': '2023-11-23 18:00:00'}, {'dt': 1700773200, 'main': {'temp': 270.53, 'feels_like': 265.85, 'temp_min': 270.53, 'temp_max': 270.53, 'pressure': 989, 'sea_level': 989, 'grnd_level': 970, 'humidity': 76, 'temp_kf': 0}, 'weather': [{'id': 800, 'main': 'Clear', 'description': 'clear sky', 'icon': '01n'}], 'clouds': {'all': 2}, 'wind': {'speed': 3.74, 'deg': 287, 'gust': 8.74}, 'visibility': 10000, 'pop': 0, 'sys': {'pod': 'n'}, 'dt_txt': '2023-11-23 21:00:00'}, {'dt': 1700784000, 'main': {'temp': 270.44, 'feels_like': 265.66, 'temp_min': 270.44, 'temp_max': 270.44, 'pressure': 991, 'sea_level': 991, 'grnd_level': 972, 'humidity': 62, 'temp_kf': 0}, 'weather': [{'id': 800, 'main': 'Clear', 'description': 'clear sky', 'icon': '01n'}], 'clouds': {'all': 10}, 'wind': {'speed': 3.84, 'deg': 302, 'gust': 11.67}, 'visibility': 10000, 'pop': 0, 'sys': {'pod': 'n'}, 'dt_txt': '2023-11-24 00:00:00'}, {'dt': 1700794800, 'main': {'temp': 267.42, 'feels_like': 263.22, 'temp_min': 267.42, 'temp_max': 267.42, 'pressure': 991, 'sea_level': 991, 'grnd_level': 972, 'humidity': 77, 'temp_kf': 0}, 'weather': [{'id': 804, 'main': 'Clouds', 'description': 'overcast clouds', 'icon': '04n'}], 'clouds': {'all': 92}, 'wind': {'speed': 2.6, 'deg': 280, 'gust': 4.75}, 'visibility': 10000, 'pop': 0, 'sys': {'pod': 'n'}, 'dt_txt': '2023-11-24 03:00:00'}, {'dt': 1700805600, 'main': {'temp': 266.89, 'feels_like': 262.99, 'temp_min': 266.89, 'temp_max': 266.89, 'pressure': 990, 'sea_level': 990, 'grnd_level': 971, 'humidity': 80, 'temp_kf': 0}, 'weather': [{'id': 804, 'main': 'Clouds', 'description': 'overcast clouds', 'icon': '04n'}], 'clouds': {'all': 96}, 'wind': {'speed': 2.29, 'deg': 291, 'gust': 3.02}, 'visibility': 10000, 'pop': 0, 'sys': {'pod': 'n'}, 'dt_txt': '2023-11-24 06:00:00'}, {'dt': 1700816400, 'main': {'temp': 267.35, 'feels_like': 263.46, 'temp_min': 267.35, 'temp_max': 267.35, 'pressure': 992, 'sea_level': 992, 'grnd_level': 973, 'humidity': 81, 'temp_kf': 0}, 'weather': [{'id': 804, 'main': 'Clouds', 'description': 'overcast clouds', 'icon': '04d'}], 'clouds': {'all': 100}, 'wind': {'speed': 2.34, 'deg': 308, 'gust': 3.65}, 'visibility': 10000, 'pop': 0, 'sys': {'pod': 'd'}, 'dt_txt': '2023-11-24 09:00:00'}, {'dt': 1700827200, 'main': {'temp': 269.48, 'feels_like': 266.11, 'temp_min': 269.48, 'temp_max': 269.48, 'pressure': 992, 'sea_level': 992, 'grnd_level': 974, 'humidity': 77, 'temp_kf': 0}, 'weather': [{'id': 804, 'main': 'Clouds', 'description': 'overcast clouds', 'icon': '04d'}], 'clouds': {'all': 95}, 'wind': {'speed': 2.23, 'deg': 312, 'gust': 4.48}, 'visibility': 10000, 'pop': 0, 'sys': {'pod': 'd'}, 'dt_txt': '2023-11-24 12:00:00'}, {'dt': 1700838000, 'main': {'temp': 268.46, 'feels_like': 264.89, 'temp_min': 268.46, 'temp_max': 268.46, 'pressure': 994, 'sea_level': 994, 'grnd_level': 975, 'humidity': 83, 'temp_kf': 0}, 'weather': [{'id': 804, 'main': 'Clouds', 'description': 'overcast clouds', 'icon': '04n'}], 'clouds': {'all': 92}, 'wind': {'speed': 2.25, 'deg': 303, 'gust': 3.7}, 'visibility': 10000, 'pop': 0, 'sys': {'pod': 'n'}, 'dt_txt': '2023-11-24 15:00:00'}, {'dt': 1700848800, 'main': {'temp': 268.03, 'feels_like': 265.22, 'temp_min': 268.03, 'temp_max': 268.03, 'pressure': 994, 'sea_level': 994, 'grnd_level': 975, 'humidity': 83, 'temp_kf': 0}, 'weather': [{'id': 804, 'main': 'Clouds', 'description': 'overcast clouds', 'icon': '04n'}], 'clouds': {'all': 89}, 'wind': {'speed': 1.69, 'deg': 294, 'gust': 1.99}, 'visibility': 10000, 'pop': 0, 'sys': {'pod': 'n'}, 'dt_txt': '2023-11-24 18:00:00'}, {'dt': 1700859600, 'main': {'temp': 268.24, 'feels_like': 265.91, 'temp_min': 268.24, 'temp_max': 268.24, 'pressure': 995, 'sea_level': 995, 'grnd_level': 976, 'humidity': 86, 'temp_kf': 0}, 'weather': [{'id': 804, 'main': 'Clouds', 'description': 'overcast clouds', 'icon': '04n'}], 'clouds': {'all': 100}, 'wind': {'speed': 1.44, 'deg': 347, 'gust': 2.91}, 'visibility': 10000, 'pop': 0.09, 'sys': {'pod': 'n'}, 'dt_txt': '2023-11-24 21:00:00'}, {'dt': 1700870400, 'main': {'temp': 266.86, 'feels_like': 263.65, 'temp_min': 266.86, 'temp_max': 266.86, 'pressure': 998, 'sea_level': 998, 'grnd_level': 979, 'humidity': 90, 'temp_kf': 0}, 'weather': [{'id': 600, 'main': 'Snow', 'description': 'light snow', 'icon': '13n'}], 'clouds': {'all': 97}, 'wind': {'speed': 1.82, 'deg': 337, 'gust': 3.15}, 'visibility': 10000, 'pop': 0.23, 'snow': {'3h': 0.11}, 'sys': {'pod': 'n'}, 'dt_txt': '2023-11-25 00:00:00'}, {'dt': 1700881200, 'main': {'temp': 265.81, 'feels_like': 262.3, 'temp_min': 265.81, 'temp_max': 265.81, 'pressure': 1000, 'sea_level': 1000, 'grnd_level': 981, 'humidity': 90, 'temp_kf': 0}, 'weather': [{'id': 804, 'main': 'Clouds', 'description': 'overcast clouds', 'icon': '04n'}], 'clouds': {'all': 91}, 'wind': {'speed': 1.9, 'deg': 323, 'gust': 3.33}, 'visibility': 10000, 'pop': 0, 'sys': {'pod': 'n'}, 'dt_txt': '2023-11-25 03:00:00'}, {'dt': 1700892000, 'main': {'temp': 265.74, 'feels_like': 261.76, 'temp_min': 265.74, 'temp_max': 265.74, 'pressure': 1002, 'sea_level': 1002, 'grnd_level': 982, 'humidity': 90, 'temp_kf': 0}, 'weather': [{'id': 804, 'main': 'Clouds', 'description': 'overcast clouds', 'icon': '04n'}], 'clouds': {'all': 88}, 'wind': {'speed': 2.2, 'deg': 319, 'gust': 3.77}, 'visibility': 10000, 'pop': 0, 'sys': {'pod': 'n'}, 'dt_txt': '2023-11-25 06:00:00'}], 'city': {'id': 3144113, 'name': 'Noresund', 'coord': {'lat': 60.1803, 'lon': 9.6231}, 'country': 'NO', 'population': 1000, 'timezone': 3600, 'sunrise': 1700465520, 'sunset': 1700491342}}\")\n"
     ]
    }
   ],
   "source": [
    "# Query the data\n",
    "forecast_rows = session.execute(\"SELECT * FROM forecast_table;\")\n",
    "print(forecast_rows.one()) # <- only one row"
   ]
  },
  {
   "cell_type": "markdown",
   "metadata": {
    "slideshow": {
     "slide_type": "slide"
    }
   },
   "source": [
    "```{seealso} Resources\n",
    ":class: tip\n",
    "- [Cassandra webpage](https://cassandra.apache.org/)\n",
    "- [Cassandra Docker file](https://hub.docker.com/_/cassandra)\n",
    "- [UUID functions](https://docs.datastax.com/en/cql-oss/3.3/cql/cql_reference/timeuuid_functions_r.html)\n",
    "- [YouTube: Cassandra in 100 seconds](https://youtu.be/ziq7FUKpCS8?si=WQUdkHFvaBmT0DBo) (2m:26s)\n",
    "- [YouTube: How to use Apache Cassandra in Python](https://youtu.be/qMauZqJH3ZM?si=yKGZ-5cld2BK396Y) (14m:50s)\n",
    "- [YouTube: Cassandra Database Crash Course](https://youtu.be/KZsVSfQVU4I?si=FBCi8qOfCirfVmZk) (19m:47s)\n",
    "```"
   ]
  }
 ],
 "metadata": {
  "celltoolbar": "Slideshow",
  "kernelspec": {
   "display_name": "Python 3 (ipykernel)",
   "language": "python",
   "name": "python3"
  },
  "language_info": {
   "codemirror_mode": {
    "name": "ipython",
    "version": 3
   },
   "file_extension": ".py",
   "mimetype": "text/x-python",
   "name": "python",
   "nbconvert_exporter": "python",
   "pygments_lexer": "ipython3",
   "version": "3.11.6"
  }
 },
 "nbformat": 4,
 "nbformat_minor": 2
}