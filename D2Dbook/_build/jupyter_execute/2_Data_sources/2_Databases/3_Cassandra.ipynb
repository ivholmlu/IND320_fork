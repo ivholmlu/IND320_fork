{
 "cells": [
  {
   "cell_type": "markdown",
   "metadata": {
    "slideshow": {
     "slide_type": "slide"
    }
   },
   "source": [
    "# Cassandra\n",
    "- A production grade NoSQL database.\n",
    "- Can be distributed across servers, nodes, etc.\n",
    "- Replication of database is supported for high degree of redundancy and speed.\n",
    "- Uses CQL, a subset of SQL for querying.\n",
    "- Works seamlesly together with Spark and its corresponding distributed structure.\n",
    "- Installation of Cassandra is explained in the [Installation chapter](../../6_Appendix/Installation.ipynb)."
   ]
  },
  {
   "cell_type": "markdown",
   "metadata": {
    "slideshow": {
     "slide_type": "slide"
    }
   },
   "source": [
    "## Spinning up a local Cassandra instance\n",
    "In a terminal, first time:  \n",
    "```docker run --name my_cassandra -p 9042:9042 cassandra:latest```  \n",
    "... and later:  \n",
    "```docker start my_cassandra```  \n",
    "  \n",
    ".. or in Docker Desktop:\n",
    "- Run the cassandra docker image with optional settings, opening 9042 port and setting a name.\n",
    "- Later, simply run the container with the name you chose."
   ]
  },
  {
   "cell_type": "markdown",
   "metadata": {
    "slideshow": {
     "slide_type": "slide"
    }
   },
   "source": [
    "<img src=\"https://github.com/khliland/IND320/blob/main/D2Dbook/images/Docker_images.png?raw=TRUE\" width=\"600px\">  "
   ]
  },
  {
   "cell_type": "markdown",
   "metadata": {
    "slideshow": {
     "slide_type": "slide"
    }
   },
   "source": [
    "\n",
    "<img src=\"https://github.com/khliland/IND320/blob/main/D2Dbook/images/Docker_containers.png?raw=TRUE\" width=\"800px\">  "
   ]
  },
  {
   "cell_type": "markdown",
   "metadata": {
    "slideshow": {
     "slide_type": "slide"
    }
   },
   "source": [
    "### Connect to the Cassandra cluster from Python."
   ]
  },
  {
   "cell_type": "code",
   "execution_count": 1,
   "metadata": {
    "slideshow": {
     "slide_type": "-"
    }
   },
   "outputs": [],
   "source": [
    "# Connecting to Cassandra\n",
    "from cassandra.cluster import Cluster\n",
    "cluster = Cluster(['localhost'], port=9042)\n",
    "session = cluster.connect()"
   ]
  },
  {
   "cell_type": "markdown",
   "metadata": {
    "slideshow": {
     "slide_type": "slide"
    }
   },
   "source": [
    "### Keyspace\n",
    "- In Cassandra database tables are stored in keyspaces (basically a distributed database).\n",
    "- These have parameters controlling their distribution on nodes/servers and redundancy.\n",
    "- We will use the simplest form locally."
   ]
  },
  {
   "cell_type": "code",
   "execution_count": 2,
   "metadata": {
    "slideshow": {
     "slide_type": "fragment"
    }
   },
   "outputs": [
    {
     "data": {
      "text/plain": [
       "<cassandra.cluster.ResultSet at 0x11211fb10>"
      ]
     },
     "execution_count": 2,
     "metadata": {},
     "output_type": "execute_result"
    }
   ],
   "source": [
    "# Set up new keyspace (first time only)\n",
    "#                                              name of keyspace                        replication strategy           replication factor\n",
    "session.execute(\"CREATE KEYSPACE IF NOT EXISTS my_first_keyspace WITH REPLICATION = { 'class' : 'SimpleStrategy', 'replication_factor' : 1 };\")"
   ]
  },
  {
   "cell_type": "markdown",
   "metadata": {
    "slideshow": {
     "slide_type": "slide"
    }
   },
   "source": [
    "### Create a table\n",
    "- IF NOT EXISTS makes sure we do not overwrite existing tables"
   ]
  },
  {
   "cell_type": "code",
   "execution_count": 3,
   "metadata": {
    "slideshow": {
     "slide_type": "fragment"
    }
   },
   "outputs": [
    {
     "data": {
      "text/plain": [
       "<cassandra.cluster.ResultSet at 0x114799810>"
      ]
     },
     "execution_count": 3,
     "metadata": {},
     "output_type": "execute_result"
    }
   ],
   "source": [
    "# Create a new table (first time only)\n",
    "session.set_keyspace('my_first_keyspace')\n",
    "session.execute(\"DROP TABLE IF EXISTS my_first_keyspace.my_first_table;\") # Starting from scratch every time\n",
    "session.execute(\"CREATE TABLE IF NOT EXISTS my_first_table (ind int PRIMARY KEY, company text, model text);\")"
   ]
  },
  {
   "cell_type": "markdown",
   "metadata": {
    "slideshow": {
     "slide_type": "slide"
    }
   },
   "source": [
    "### Inserting and reading data"
   ]
  },
  {
   "cell_type": "code",
   "execution_count": 4,
   "metadata": {
    "slideshow": {
     "slide_type": "-"
    }
   },
   "outputs": [
    {
     "data": {
      "text/plain": [
       "<cassandra.cluster.ResultSet at 0x1147a5090>"
      ]
     },
     "execution_count": 4,
     "metadata": {},
     "output_type": "execute_result"
    }
   ],
   "source": [
    "# Insert some data (ind is the primary key, must be unique)\n",
    "session.execute(\"INSERT INTO my_first_table (ind, company, model) VALUES (1, 'Tesla', 'Model S');\")\n",
    "session.execute(\"INSERT INTO my_first_table (ind, company, model) VALUES (2, 'Tesla', 'Model 3');\")\n",
    "session.execute(\"INSERT INTO my_first_table (ind, company, model) VALUES (3, 'Polestar', '3');\")"
   ]
  },
  {
   "cell_type": "markdown",
   "metadata": {
    "slideshow": {
     "slide_type": "slide"
    }
   },
   "source": [
    "### Asyncronous writing\n",
    "- If your application is very data intensive, waiting for a response is not productive.\n",
    "- Writing asyncronously sends the data but does not pause for reply."
   ]
  },
  {
   "cell_type": "code",
   "execution_count": 5,
   "metadata": {
    "slideshow": {
     "slide_type": "-"
    }
   },
   "outputs": [
    {
     "data": {
      "text/plain": [
       "<ResponseFuture: query='<SimpleStatement query=\"INSERT INTO my_first_table (ind, company, model) VALUES (4, 'Volkswagen', 'ID.4');\", consistency=Not Set>' request_id=24 result=(no result yet) exception=None coordinator_host=None>"
      ]
     },
     "execution_count": 5,
     "metadata": {},
     "output_type": "execute_result"
    }
   ],
   "source": [
    "session.execute_async(\"INSERT INTO my_first_table (ind, company, model) VALUES (4, 'Volkswagen', 'ID.4');\")"
   ]
  },
  {
   "cell_type": "code",
   "execution_count": 6,
   "metadata": {
    "slideshow": {
     "slide_type": "slide"
    }
   },
   "outputs": [
    {
     "name": "stdout",
     "output_type": "stream",
     "text": [
      "Row(ind=1, company='Tesla', model='Model S')\n",
      "Row(ind=2, company='Tesla', model='Model 3')\n",
      "Row(ind=4, company='Volkswagen', model='ID.4')\n",
      "Row(ind=3, company='Polestar', model='3')\n"
     ]
    }
   ],
   "source": [
    "# Query the data\n",
    "rows = session.execute(\"SELECT * FROM my_first_table;\")\n",
    "for i in rows:\n",
    "    print(i)"
   ]
  },
  {
   "cell_type": "code",
   "execution_count": 7,
   "metadata": {
    "slideshow": {
     "slide_type": "slide"
    },
    "tags": [
     "raises-exception"
    ]
   },
   "outputs": [
    {
     "ename": "InvalidRequest",
     "evalue": "Error from server: code=2200 [Invalid query] message=\"Cannot execute this query as it might involve data filtering and thus may have unpredictable performance. If you want to execute this query despite the performance unpredictability, use ALLOW FILTERING\"",
     "output_type": "error",
     "traceback": [
      "\u001b[0;31m---------------------------------------------------------------------------\u001b[0m",
      "\u001b[0;31mInvalidRequest\u001b[0m                            Traceback (most recent call last)",
      "Cell \u001b[0;32mIn[7], line 2\u001b[0m\n\u001b[1;32m      1\u001b[0m \u001b[38;5;66;03m# More specific query\u001b[39;00m\n\u001b[0;32m----> 2\u001b[0m prepared_statement \u001b[38;5;241m=\u001b[39m \u001b[43msession\u001b[49m\u001b[38;5;241;43m.\u001b[39;49m\u001b[43mprepare\u001b[49m\u001b[43m(\u001b[49m\u001b[38;5;124;43m\"\u001b[39;49m\u001b[38;5;124;43mSELECT * FROM my_first_table WHERE company=?;\u001b[39;49m\u001b[38;5;124;43m\"\u001b[39;49m\u001b[43m)\u001b[49m \u001b[38;5;66;03m# <- will fail as company is not a key\u001b[39;00m\n\u001b[1;32m      3\u001b[0m teslas \u001b[38;5;241m=\u001b[39m session\u001b[38;5;241m.\u001b[39mexecute(prepared_statement, [\u001b[38;5;124m'\u001b[39m\u001b[38;5;124mTesla\u001b[39m\u001b[38;5;124m'\u001b[39m])\n\u001b[1;32m      4\u001b[0m \u001b[38;5;28;01mfor\u001b[39;00m i \u001b[38;5;129;01min\u001b[39;00m teslas:\n",
      "File \u001b[0;32m~/miniforge3/envs/IND320/lib/python3.11/site-packages/cassandra/cluster.py:3099\u001b[0m, in \u001b[0;36mcassandra.cluster.Session.prepare\u001b[0;34m()\u001b[0m\n",
      "File \u001b[0;32m~/miniforge3/envs/IND320/lib/python3.11/site-packages/cassandra/cluster.py:3096\u001b[0m, in \u001b[0;36mcassandra.cluster.Session.prepare\u001b[0;34m()\u001b[0m\n",
      "File \u001b[0;32m~/miniforge3/envs/IND320/lib/python3.11/site-packages/cassandra/cluster.py:4928\u001b[0m, in \u001b[0;36mcassandra.cluster.ResponseFuture.result\u001b[0;34m()\u001b[0m\n",
      "\u001b[0;31mInvalidRequest\u001b[0m: Error from server: code=2200 [Invalid query] message=\"Cannot execute this query as it might involve data filtering and thus may have unpredictable performance. If you want to execute this query despite the performance unpredictability, use ALLOW FILTERING\""
     ]
    }
   ],
   "source": [
    "# More specific query\n",
    "prepared_statement = session.prepare(\"SELECT * FROM my_first_table WHERE company=?;\") # <- will fail as company is not a key\n",
    "teslas = session.execute(prepared_statement, ['Tesla'])\n",
    "for i in teslas:\n",
    "    print(i)"
   ]
  },
  {
   "cell_type": "markdown",
   "metadata": {
    "slideshow": {
     "slide_type": "slide"
    }
   },
   "source": [
    "## Cassandra filtering\n",
    "Cassandra is inherently a distributed production database. Selecting as above may require downloading all data from a node, then filtering based on the WHERE part (only PRIMARY KEYs are centrally known). Solutions:  \n",
    "- If the table is small or most of the data will satisfy the query, add ```ALLOW FILTERING``` at the end of the query (not recommended if not known). \n",
    "- Or make sure the WHERE clause points to one of the keys (see below)."
   ]
  },
  {
   "cell_type": "code",
   "execution_count": 8,
   "metadata": {
    "slideshow": {
     "slide_type": "slide"
    }
   },
   "outputs": [
    {
     "data": {
      "text/plain": [
       "<cassandra.cluster.ResultSet at 0x114791550>"
      ]
     },
     "execution_count": 8,
     "metadata": {},
     "output_type": "execute_result"
    }
   ],
   "source": [
    "# Create a new table (observe keys)\n",
    "session.execute(\"DROP TABLE IF EXISTS my_first_keyspace.car_table;\")\n",
    "session.execute(\"CREATE TABLE IF NOT EXISTS car_table (company text, model text, PRIMARY KEY(company, model));\")"
   ]
  },
  {
   "cell_type": "code",
   "execution_count": 9,
   "metadata": {
    "slideshow": {
     "slide_type": "fragment"
    }
   },
   "outputs": [
    {
     "data": {
      "text/plain": [
       "<cassandra.cluster.ResultSet at 0x114e3fa50>"
      ]
     },
     "execution_count": 9,
     "metadata": {},
     "output_type": "execute_result"
    }
   ],
   "source": [
    "# Insert some data (combination of company and model must be unique)\n",
    "session.execute(\"INSERT INTO car_table (company, model) VALUES ('Tesla', 'Model S');\")\n",
    "session.execute(\"INSERT INTO car_table (company, model) VALUES ('Tesla', 'Model 3');\")\n",
    "session.execute(\"INSERT INTO car_table (company, model) VALUES ('Polestar', '3');\")\n",
    "session.execute(\"INSERT INTO car_table (company, model) VALUES ('Volkswagen', 'ID.4');\")"
   ]
  },
  {
   "cell_type": "code",
   "execution_count": 10,
   "metadata": {
    "slideshow": {
     "slide_type": "slide"
    }
   },
   "outputs": [
    {
     "name": "stdout",
     "output_type": "stream",
     "text": [
      "Row(company='Tesla', model='Model 3')\n",
      "Row(company='Tesla', model='Model S')\n"
     ]
    }
   ],
   "source": [
    "# More specific query now works\n",
    "prepared_statement = session.prepare(\"SELECT * FROM car_table WHERE company=?;\")\n",
    "teslas = session.execute(prepared_statement, ['Tesla'])\n",
    "for i in teslas:\n",
    "    print(i)"
   ]
  },
  {
   "cell_type": "markdown",
   "metadata": {
    "slideshow": {
     "slide_type": "slide"
    }
   },
   "source": [
    "### Partitions\n",
    "- Cassandra databases are usually replicated over different nodes.\n",
    "- Data is stored in partitions (subsets) which have local copys.\n",
    "- The primary key, e.g., PRIMARY KEY(company, model), is used in partitioning.\n",
    "    - The first part, e.g., company, is most important.\n",
    "    - All cars from a company will be located together, aiming for quicker queries."
   ]
  },
  {
   "cell_type": "markdown",
   "metadata": {
    "slideshow": {
     "slide_type": "slide"
    }
   },
   "source": [
    "### Unique IDs \n",
    "- In MySQL one could use the attribute AUTO_INCREMENT on integer IDs to automatically make a new unique index when inserting data.\n",
    "- This would cause unreasonable overhead in a distributed database.\n",
    "- [UUID](https://en.wikipedia.org/wiki/Universally_unique_identifier)s are used instead.\n",
    "    - Universally Unique Identifiers are typically 128-bit random bit sequences with extremely low probability of duplication.\n",
    "    - Cassandra uses a [timeuuid](https://docs.datastax.com/en/cql-oss/3.3/cql/cql_reference/timeuuid_functions_r.html) type to combine a timestamp and uuid in one."
   ]
  },
  {
   "cell_type": "code",
   "execution_count": 11,
   "metadata": {
    "slideshow": {
     "slide_type": "fragment"
    }
   },
   "outputs": [
    {
     "data": {
      "text/plain": [
       "<cassandra.cluster.ResultSet at 0x114e26dd0>"
      ]
     },
     "execution_count": 11,
     "metadata": {},
     "output_type": "execute_result"
    }
   ],
   "source": [
    "# Create a new table (first time only)\n",
    "session.set_keyspace('my_first_keyspace')\n",
    "session.execute(\"DROP TABLE IF EXISTS my_first_keyspace.table_with_uuid;\")\n",
    "session.execute(\"CREATE TABLE IF NOT EXISTS table_with_uuid (id timeuuid PRIMARY KEY, company text, model text, price float);\")"
   ]
  },
  {
   "cell_type": "code",
   "execution_count": 12,
   "metadata": {
    "slideshow": {
     "slide_type": "slide"
    }
   },
   "outputs": [
    {
     "data": {
      "text/plain": [
       "<cassandra.cluster.ResultSet at 0x113b7fc10>"
      ]
     },
     "execution_count": 12,
     "metadata": {},
     "output_type": "execute_result"
    }
   ],
   "source": [
    "session.execute(\"INSERT INTO table_with_uuid (id, company, model, price) VALUES (now(), 'Tesla', 'Model S', 20000.0);\")\n",
    "session.execute(\"INSERT INTO table_with_uuid (id, company, model, price) VALUES (now(), 'Tesla', 'Model S', 21000.0);\")\n",
    "session.execute(\"INSERT INTO table_with_uuid (id, company, model, price) VALUES (now(), 'Oldsmobile', 'Model 6C', 135000.0);\")"
   ]
  },
  {
   "cell_type": "code",
   "execution_count": 13,
   "metadata": {
    "slideshow": {
     "slide_type": "slide"
    }
   },
   "outputs": [
    {
     "name": "stdout",
     "output_type": "stream",
     "text": [
      "Row(id=UUID('0166c4a0-8d01-11ee-91e7-c3fd37f3ebbc'), company='Tesla', model='Model S', price=21000.0)\n",
      "Datetime: 2023-11-27 08:43:15.306000\n",
      "Row(id=UUID('01662860-8d01-11ee-91e7-c3fd37f3ebbc'), company='Tesla', model='Model S', price=20000.0)\n",
      "Datetime: 2023-11-27 08:43:15.302000\n",
      "Row(id=UUID('0166ebb0-8d01-11ee-91e7-c3fd37f3ebbc'), company='Oldsmobile', model='Model 6C', price=135000.0)\n",
      "Datetime: 2023-11-27 08:43:15.307000\n"
     ]
    }
   ],
   "source": [
    "from cassandra.util import datetime_from_uuid1\n",
    "\n",
    "# Query the data\n",
    "rows = session.execute(\"SELECT * FROM table_with_uuid;\")\n",
    "for i in rows:\n",
    "    print(i)\n",
    "    # Extract the timestamp from Cassandra's timeuuid\n",
    "    print(\"Datetime:\", datetime_from_uuid1(i.id))"
   ]
  },
  {
   "cell_type": "markdown",
   "metadata": {
    "slideshow": {
     "slide_type": "slide"
    }
   },
   "source": [
    "## JSON in Cassandra\n",
    "### Read previously saved JSON file forecast.json to memory"
   ]
  },
  {
   "cell_type": "code",
   "execution_count": 14,
   "metadata": {
    "slideshow": {
     "slide_type": "-"
    }
   },
   "outputs": [],
   "source": [
    "import json\n",
    "with open('../3_APIs/downloads/forecast.json', 'r') as f:\n",
    "    forecast = json.load(f)"
   ]
  },
  {
   "cell_type": "code",
   "execution_count": 15,
   "metadata": {
    "slideshow": {
     "slide_type": "slide"
    }
   },
   "outputs": [
    {
     "data": {
      "text/plain": [
       "\"{'cod': '200', 'message': 0, 'cnt': 40, 'list': [{'dt': 1701075600, 'main': {'temp': 268.21, 'feels_like': 265.36, 'temp_min': 266.5, 'temp_max': 268.21, 'pressure': 1019, 'sea_level': 1019, 'grnd_level': 999, 'humidity': 92, 'temp_kf': 1.71}, 'weather': [{'id': 600, 'main': 'Snow', 'description': 'light snow', 'icon': '13d'}], 'clouds': {'all': 99}, 'wind': {'speed': 1.73, 'deg': 351, 'gust': 3}, 'visibility': 889, 'pop': 0.24, 'snow': {'3h': 0.14}, 'sys': {'pod': 'd'}, 'dt_txt': '2023-11-27 09:00:00'}, {'dt': 1701086400, 'main': {'temp': 268.27, 'feels_like': 268.27, 'temp_min': 268.27, 'temp_max': 268.39, 'pressure': 1019, 'sea_level': 1019, 'grnd_level': 999, 'humidity': 91, 'temp_kf': -0.12}, 'weather': [{'id': 600, 'main': 'Snow', 'description': 'light snow', 'icon': '13d'}], 'clouds': {'all': 99}, 'wind': {'speed': 1.07, 'deg': 19, 'gust': 2.51}, 'visibility': 3992, 'pop': 0.28, 'snow': {'3h': 0.19}, 'sys': {'pod': 'd'}, 'dt_txt': '2023-11-27 12:00:00'}, {'dt': 1701097200, 'main': {'temp': 266.99, 'feels_like': 266.99, 'temp_min': 266.38, 'temp_max': 266.99, 'pressure': 1018, 'sea_level': 1018, 'grnd_level': 999, 'humidity': 93, 'temp_kf': 0.61}, 'weather': [{'id': 600, 'main': 'Snow', 'description': 'light snow', 'icon': '13n'}], 'clouds': {'all': 100}, 'wind': {'speed': 0.94, 'deg': 11, 'gust': 1.49}, 'visibility': 2607, 'pop': 0.2, 'snow': {'3h': 0.12}, 'sys': {'pod': 'n'}, 'dt_txt': '2023-11-27 15:00:00'}, {'dt': 1701108000, 'main': {'temp': 265.11, 'feels_like': 265.11, 'temp_min': 265.11, 'temp_max': 265.11, 'pressure': 1018, 'sea_level': 1018, 'grnd_level': 999, 'humidity': 91, 'temp_kf': 0}, 'weather': [{'id': 600, 'main': 'Snow', 'description': 'light snow', 'icon': '13n'}], 'clouds': {'all': 99}, 'wind': {'speed': 0.96, 'deg': 9, 'gust': 1.53}, 'visibility': 4856, 'pop': 0.2, 'snow': {'3h': 0.13}, 'sys': {'pod': 'n'}, 'dt_txt': '2023-11-27 18:00:00'}, {'dt': 1701118800, 'main': {'temp': 264.5, 'feels_like': 264.5, 'temp_min': 264.5, 'temp_max': 264.5, 'pressure': 1018, 'sea_level': 1018, 'grnd_level': 998, 'humidity': 93, 'temp_kf': 0}, 'weather': [{'id': 600, 'main': 'Snow', 'description': 'light snow', 'icon': '13n'}], 'clouds': {'all': 100}, 'wind': {'speed': 0.74, 'deg': 52, 'gust': 1.83}, 'visibility': 1620, 'pop': 0.32, 'snow': {'3h': 0.24}, 'sys': {'pod': 'n'}, 'dt_txt': '2023-11-27 21:00:00'}, {'dt': 1701129600, 'main': {'temp': 262.9, 'feels_like': 262.9, 'temp_min': 262.9, 'temp_max': 262.9, 'pressure': 1018, 'sea_level': 1018, 'grnd_level': 998, 'humidity': 87, 'temp_kf': 0}, 'weather': [{'id': 600, 'main': 'Snow', 'description': 'light snow', 'icon': '13n'}], 'clouds': {'all': 96}, 'wind': {'speed': 1.3, 'deg': 38, 'gust': 3.05}, 'visibility': 10000, 'pop': 0.22, 'snow': {'3h': 0.25}, 'sys': {'pod': 'n'}, 'dt_txt': '2023-11-28 00:00:00'}, {'dt': 1701140400, 'main': {'temp': 261.92, 'feels_like': 257.79, 'temp_min': 261.92, 'temp_max': 261.92, 'pressure': 1018, 'sea_level': 1018, 'grnd_level': 998, 'humidity': 86, 'temp_kf': 0}, 'weather': [{'id': 804, 'main': 'Clouds', 'description': 'overcast clouds', 'icon': '04n'}], 'clouds': {'all': 100}, 'wind': {'speed': 1.9, 'deg': 358, 'gust': 3.39}, 'visibility': 10000, 'pop': 0, 'sys': {'pod': 'n'}, 'dt_txt': '2023-11-28 03:00:00'}, {'dt': 1701151200, 'main': {'temp': 259.83, 'feels_like': 254.35, 'temp_min': 259.83, 'temp_max': 259.83, 'pressure': 1017, 'sea_level': 1017, 'grnd_level': 998, 'humidity': 84, 'temp_kf': 0}, 'weather': [{'id': 803, 'main': 'Clouds', 'description': 'broken clouds', 'icon': '04n'}], 'clouds': {'all': 73}, 'wind': {'speed': 2.5, 'deg': 325, 'gust': 4.4}, 'visibility': 10000, 'pop': 0, 'sys': {'pod': 'n'}, 'dt_txt': '2023-11-28 06:00:00'}, {'dt': 1701162000, 'main': {'temp': 260.18, 'feels_like': 254.28, 'temp_min': 260.18, 'temp_max': 260.18, 'pressure': 1016, 'sea_level': 1016, 'grnd_level': 996, 'humidity': 79, 'temp_kf': 0}, 'weather': [{'id': 803, 'main': 'Clouds', 'description': 'broken clouds', 'icon': '04d'}], 'clouds': {'all': 65}, 'wind': {'speed': 2.84, 'deg': 321, 'gust': 5.82}, 'visibility': 10000, 'pop': 0, 'sys': {'pod': 'd'}, 'dt_txt': '2023-11-28 09:00:00'}, {'dt': 1701172800, 'main': {'temp': 262.8, 'feels_like': 257.63, 'temp_min': 262.8, 'temp_max': 262.8, 'pressure': 1014, 'sea_level': 1014, 'grnd_level': 994, 'humidity': 71, 'temp_kf': 0}, 'weather': [{'id': 803, 'main': 'Clouds', 'description': 'broken clouds', 'icon': '04d'}], 'clouds': {'all': 81}, 'wind': {'speed': 2.67, 'deg': 316, 'gust': 5.68}, 'visibility': 10000, 'pop': 0, 'sys': {'pod': 'd'}, 'dt_txt': '2023-11-28 12:00:00'}, {'dt': 1701183600, 'main': {'temp': 262.21, 'feels_like': 257.07, 'temp_min': 262.21, 'temp_max': 262.21, 'pressure': 1012, 'sea_level': 1012, 'grnd_level': 993, 'humidity': 75, 'temp_kf': 0}, 'weather': [{'id': 804, 'main': 'Clouds', 'description': 'overcast clouds', 'icon': '04n'}], 'clouds': {'all': 97}, 'wind': {'speed': 2.57, 'deg': 323, 'gust': 5.49}, 'visibility': 10000, 'pop': 0, 'sys': {'pod': 'n'}, 'dt_txt': '2023-11-28 15:00:00'}, {'dt': 1701194400, 'main': {'temp': 263.61, 'feels_like': 258.59, 'temp_min': 263.61, 'temp_max': 263.61, 'pressure': 1011, 'sea_level': 1011, 'grnd_level': 992, 'humidity': 78, 'temp_kf': 0}, 'weather': [{'id': 804, 'main': 'Clouds', 'description': 'overcast clouds', 'icon': '04n'}], 'clouds': {'all': 98}, 'wind': {'speed': 2.68, 'deg': 328, 'gust': 5.87}, 'visibility': 10000, 'pop': 0, 'sys': {'pod': 'n'}, 'dt_txt': '2023-11-28 18:00:00'}, {'dt': 1701205200, 'main': {'temp': 264.82, 'feels_like': 259.78, 'temp_min': 264.82, 'temp_max': 264.82, 'pressure': 1011, 'sea_level': 1011, 'grnd_level': 991, 'humidity': 86, 'temp_kf': 0}, 'weather': [{'id': 804, 'main': 'Clouds', 'description': 'overcast clouds', 'icon': '04n'}], 'clouds': {'all': 100}, 'wind': {'speed': 2.88, 'deg': 326, 'gust': 6.42}, 'visibility': 5310, 'pop': 0, 'sys': {'pod': 'n'}, 'dt_txt': '2023-11-28 21:00:00'}, {'dt': 1701216000, 'main': {'temp': 265.78, 'feels_like': 260.71, 'temp_min': 265.78, 'temp_max': 265.78, 'pressure': 1010, 'sea_level': 1010, 'grnd_level': 990, 'humidity': 86, 'temp_kf': 0}, 'weather': [{'id': 804, 'main': 'Clouds', 'description': 'overcast clouds', 'icon': '04n'}], 'clouds': {'all': 100}, 'wind': {'speed': 3.08, 'deg': 333, 'gust': 7.67}, 'visibility': 8741, 'pop': 0.01, 'sys': {'pod': 'n'}, 'dt_txt': '2023-11-29 00:00:00'}, {'dt': 1701226800, 'main': {'temp': 266.22, 'feels_like': 261.3, 'temp_min': 266.22, 'temp_max': 266.22, 'pressure': 1009, 'sea_level': 1009, 'grnd_level': 990, 'humidity': 86, 'temp_kf': 0}, 'weather': [{'id': 600, 'main': 'Snow', 'description': 'light snow', 'icon': '13n'}], 'clouds': {'all': 100}, 'wind': {'speed': 3.02, 'deg': 336, 'gust': 7.5}, 'visibility': 9701, 'pop': 0.41, 'snow': {'3h': 0.11}, 'sys': {'pod': 'n'}, 'dt_txt': '2023-11-29 03:00:00'}, {'dt': 1701237600, 'main': {'temp': 266.96, 'feels_like': 262.12, 'temp_min': 266.96, 'temp_max': 266.96, 'pressure': 1009, 'sea_level': 1009, 'grnd_level': 990, 'humidity': 88, 'temp_kf': 0}, 'weather': [{'id': 600, 'main': 'Snow', 'description': 'light snow', 'icon': '13n'}], 'clouds': {'all': 100}, 'wind': {'speed': 3.09, 'deg': 342, 'gust': 7.41}, 'visibility': 2452, 'pop': 0.49, 'snow': {'3h': 0.16}, 'sys': {'pod': 'n'}, 'dt_txt': '2023-11-29 06:00:00'}, {'dt': 1701248400, 'main': {'temp': 267.67, 'feels_like': 262.94, 'temp_min': 267.67, 'temp_max': 267.67, 'pressure': 1010, 'sea_level': 1010, 'grnd_level': 991, 'humidity': 90, 'temp_kf': 0}, 'weather': [{'id': 600, 'main': 'Snow', 'description': 'light snow', 'icon': '13d'}], 'clouds': {'all': 100}, 'wind': {'speed': 3.12, 'deg': 341, 'gust': 7.49}, 'visibility': 823, 'pop': 0.51, 'snow': {'3h': 0.29}, 'sys': {'pod': 'd'}, 'dt_txt': '2023-11-29 09:00:00'}, {'dt': 1701259200, 'main': {'temp': 268.9, 'feels_like': 264.38, 'temp_min': 268.9, 'temp_max': 268.9, 'pressure': 1010, 'sea_level': 1010, 'grnd_level': 991, 'humidity': 89, 'temp_kf': 0}, 'weather': [{'id': 600, 'main': 'Snow', 'description': 'light snow', 'icon': '13d'}], 'clouds': {'all': 100}, 'wind': {'speed': 3.17, 'deg': 348, 'gust': 7.35}, 'visibility': 1174, 'pop': 0.59, 'snow': {'3h': 0.5}, 'sys': {'pod': 'd'}, 'dt_txt': '2023-11-29 12:00:00'}, {'dt': 1701270000, 'main': {'temp': 268.5, 'feels_like': 263.89, 'temp_min': 268.5, 'temp_max': 268.5, 'pressure': 1011, 'sea_level': 1011, 'grnd_level': 991, 'humidity': 91, 'temp_kf': 0}, 'weather': [{'id': 600, 'main': 'Snow', 'description': 'light snow', 'icon': '13n'}], 'clouds': {'all': 100}, 'wind': {'speed': 3.17, 'deg': 350, 'gust': 7.62}, 'visibility': 993, 'pop': 0.6, 'snow': {'3h': 0.38}, 'sys': {'pod': 'n'}, 'dt_txt': '2023-11-29 15:00:00'}, {'dt': 1701280800, 'main': {'temp': 268.48, 'feels_like': 263.77, 'temp_min': 268.48, 'temp_max': 268.48, 'pressure': 1012, 'sea_level': 1012, 'grnd_level': 992, 'humidity': 90, 'temp_kf': 0}, 'weather': [{'id': 600, 'main': 'Snow', 'description': 'light snow', 'icon': '13n'}], 'clouds': {'all': 100}, 'wind': {'speed': 3.27, 'deg': 352, 'gust': 7.64}, 'visibility': 1832, 'pop': 0.64, 'snow': {'3h': 0.34}, 'sys': {'pod': 'n'}, 'dt_txt': '2023-11-29 18:00:00'}, {'dt': 1701291600, 'main': {'temp': 268.16, 'feels_like': 263.26, 'temp_min': 268.16, 'temp_max': 268.16, 'pressure': 1012, 'sea_level': 1012, 'grnd_level': 993, 'humidity': 88, 'temp_kf': 0}, 'weather': [{'id': 600, 'main': 'Snow', 'description': 'light snow', 'icon': '13n'}], 'clouds': {'all': 99}, 'wind': {'speed': 3.4, 'deg': 351, 'gust': 8.43}, 'visibility': 1623, 'pop': 0.61, 'snow': {'3h': 0.12}, 'sys': {'pod': 'n'}, 'dt_txt': '2023-11-29 21:00:00'}, {'dt': 1701302400, 'main': {'temp': 268.47, 'feels_like': 264.01, 'temp_min': 268.47, 'temp_max': 268.47, 'pressure': 1014, 'sea_level': 1014, 'grnd_level': 994, 'humidity': 88, 'temp_kf': 0}, 'weather': [{'id': 600, 'main': 'Snow', 'description': 'light snow', 'icon': '13n'}], 'clouds': {'all': 100}, 'wind': {'speed': 3.02, 'deg': 16, 'gust': 7.86}, 'visibility': 4628, 'pop': 0.74, 'snow': {'3h': 0.61}, 'sys': {'pod': 'n'}, 'dt_txt': '2023-11-30 00:00:00'}, {'dt': 1701313200, 'main': {'temp': 267.39, 'feels_like': 263.51, 'temp_min': 267.39, 'temp_max': 267.39, 'pressure': 1015, 'sea_level': 1015, 'grnd_level': 996, 'humidity': 93, 'temp_kf': 0}, 'weather': [{'id': 600, 'main': 'Snow', 'description': 'light snow', 'icon': '13n'}], 'clouds': {'all': 100}, 'wind': {'speed': 2.34, 'deg': 3, 'gust': 5.22}, 'visibility': 1249, 'pop': 0.72, 'snow': {'3h': 0.18}, 'sys': {'pod': 'n'}, 'dt_txt': '2023-11-30 03:00:00'}, {'dt': 1701324000, 'main': {'temp': 267.05, 'feels_like': 263.31, 'temp_min': 267.05, 'temp_max': 267.05, 'pressure': 1016, 'sea_level': 1016, 'grnd_level': 996, 'humidity': 94, 'temp_kf': 0}, 'weather': [{'id': 600, 'main': 'Snow', 'description': 'light snow', 'icon': '13n'}], 'clouds': {'all': 100}, 'wind': {'speed': 2.19, 'deg': 351, 'gust': 4.45}, 'visibility': 928, 'pop': 0.65, 'snow': {'3h': 0.28}, 'sys': {'pod': 'n'}, 'dt_txt': '2023-11-30 06:00:00'}, {'dt': 1701334800, 'main': {'temp': 267.11, 'feels_like': 263.09, 'temp_min': 267.11, 'temp_max': 267.11, 'pressure': 1017, 'sea_level': 1017, 'grnd_level': 997, 'humidity': 91, 'temp_kf': 0}, 'weather': [{'id': 600, 'main': 'Snow', 'description': 'light snow', 'icon': '13d'}], 'clouds': {'all': 100}, 'wind': {'speed': 2.41, 'deg': 347, 'gust': 5.55}, 'visibility': 6155, 'pop': 0.36, 'snow': {'3h': 0.3}, 'sys': {'pod': 'd'}, 'dt_txt': '2023-11-30 09:00:00'}, {'dt': 1701345600, 'main': {'temp': 267.93, 'feels_like': 264.7, 'temp_min': 267.93, 'temp_max': 267.93, 'pressure': 1016, 'sea_level': 1016, 'grnd_level': 997, 'humidity': 87, 'temp_kf': 0}, 'weather': [{'id': 804, 'main': 'Clouds', 'description': 'overcast clouds', 'icon': '04d'}], 'clouds': {'all': 100}, 'wind': {'speed': 1.94, 'deg': 352, 'gust': 4.65}, 'visibility': 10000, 'pop': 0.12, 'sys': {'pod': 'd'}, 'dt_txt': '2023-11-30 12:00:00'}, {'dt': 1701356400, 'main': {'temp': 265.35, 'feels_like': 261.58, 'temp_min': 265.35, 'temp_max': 265.35, 'pressure': 1016, 'sea_level': 1016, 'grnd_level': 996, 'humidity': 90, 'temp_kf': 0}, 'weather': [{'id': 804, 'main': 'Clouds', 'description': 'overcast clouds', 'icon': '04n'}], 'clouds': {'all': 97}, 'wind': {'speed': 2.02, 'deg': 326, 'gust': 3.32}, 'visibility': 10000, 'pop': 0, 'sys': {'pod': 'n'}, 'dt_txt': '2023-11-30 15:00:00'}, {'dt': 1701367200, 'main': {'temp': 264.07, 'feels_like': 259.73, 'temp_min': 264.07, 'temp_max': 264.07, 'pressure': 1016, 'sea_level': 1016, 'grnd_level': 996, 'humidity': 88, 'temp_kf': 0}, 'weather': [{'id': 804, 'main': 'Clouds', 'description': 'overcast clouds', 'icon': '04n'}], 'clouds': {'all': 96}, 'wind': {'speed': 2.25, 'deg': 337, 'gust': 3.95}, 'visibility': 10000, 'pop': 0, 'sys': {'pod': 'n'}, 'dt_txt': '2023-11-30 18:00:00'}, {'dt': 1701378000, 'main': {'temp': 262.12, 'feels_like': 257.05, 'temp_min': 262.12, 'temp_max': 262.12, 'pressure': 1016, 'sea_level': 1016, 'grnd_level': 996, 'humidity': 87, 'temp_kf': 0}, 'weather': [{'id': 803, 'main': 'Clouds', 'description': 'broken clouds', 'icon': '04n'}], 'clouds': {'all': 67}, 'wind': {'speed': 2.51, 'deg': 326, 'gust': 4.14}, 'visibility': 10000, 'pop': 0, 'sys': {'pod': 'n'}, 'dt_txt': '2023-11-30 21:00:00'}, {'dt': 1701388800, 'main': {'temp': 261.81, 'feels_like': 256.69, 'temp_min': 261.81, 'temp_max': 261.81, 'pressure': 1015, 'sea_level': 1015, 'grnd_level': 995, 'humidity': 85, 'temp_kf': 0}, 'weather': [{'id': 803, 'main': 'Clouds', 'description': 'broken clouds', 'icon': '04n'}], 'clouds': {'all': 63}, 'wind': {'speed': 2.5, 'deg': 325, 'gust': 4.32}, 'visibility': 10000, 'pop': 0, 'sys': {'pod': 'n'}, 'dt_txt': '2023-12-01 00:00:00'}, {'dt': 1701399600, 'main': {'temp': 261.59, 'feels_like': 256.46, 'temp_min': 261.59, 'temp_max': 261.59, 'pressure': 1014, 'sea_level': 1014, 'grnd_level': 994, 'humidity': 85, 'temp_kf': 0}, 'weather': [{'id': 802, 'main': 'Clouds', 'description': 'scattered clouds', 'icon': '03n'}], 'clouds': {'all': 33}, 'wind': {'speed': 2.48, 'deg': 323, 'gust': 4.21}, 'visibility': 10000, 'pop': 0, 'sys': {'pod': 'n'}, 'dt_txt': '2023-12-01 03:00:00'}, {'dt': 1701410400, 'main': {'temp': 261.56, 'feels_like': 256.53, 'temp_min': 261.56, 'temp_max': 261.56, 'pressure': 1013, 'sea_level': 1013, 'grnd_level': 994, 'humidity': 84, 'temp_kf': 0}, 'weather': [{'id': 802, 'main': 'Clouds', 'description': 'scattered clouds', 'icon': '03n'}], 'clouds': {'all': 29}, 'wind': {'speed': 2.41, 'deg': 327, 'gust': 4.05}, 'visibility': 10000, 'pop': 0, 'sys': {'pod': 'n'}, 'dt_txt': '2023-12-01 06:00:00'}, {'dt': 1701421200, 'main': {'temp': 263.03, 'feels_like': 258.71, 'temp_min': 263.03, 'temp_max': 263.03, 'pressure': 1013, 'sea_level': 1013, 'grnd_level': 994, 'humidity': 81, 'temp_kf': 0}, 'weather': [{'id': 803, 'main': 'Clouds', 'description': 'broken clouds', 'icon': '04d'}], 'clouds': {'all': 60}, 'wind': {'speed': 2.12, 'deg': 333, 'gust': 3.72}, 'visibility': 10000, 'pop': 0, 'sys': {'pod': 'd'}, 'dt_txt': '2023-12-01 09:00:00'}, {'dt': 1701432000, 'main': {'temp': 265.86, 'feels_like': 262.19, 'temp_min': 265.86, 'temp_max': 265.86, 'pressure': 1012, 'sea_level': 1012, 'grnd_level': 992, 'humidity': 78, 'temp_kf': 0}, 'weather': [{'id': 803, 'main': 'Clouds', 'description': 'broken clouds', 'icon': '04d'}], 'clouds': {'all': 76}, 'wind': {'speed': 2.01, 'deg': 349, 'gust': 3.81}, 'visibility': 10000, 'pop': 0, 'sys': {'pod': 'd'}, 'dt_txt': '2023-12-01 12:00:00'}, {'dt': 1701442800, 'main': {'temp': 262.82, 'feels_like': 258.63, 'temp_min': 262.82, 'temp_max': 262.82, 'pressure': 1012, 'sea_level': 1012, 'grnd_level': 993, 'humidity': 86, 'temp_kf': 0}, 'weather': [{'id': 802, 'main': 'Clouds', 'description': 'scattered clouds', 'icon': '03n'}], 'clouds': {'all': 47}, 'wind': {'speed': 2.02, 'deg': 328, 'gust': 2.89}, 'visibility': 10000, 'pop': 0, 'sys': {'pod': 'n'}, 'dt_txt': '2023-12-01 15:00:00'}, {'dt': 1701453600, 'main': {'temp': 262.14, 'feels_like': 257.96, 'temp_min': 262.14, 'temp_max': 262.14, 'pressure': 1012, 'sea_level': 1012, 'grnd_level': 992, 'humidity': 85, 'temp_kf': 0}, 'weather': [{'id': 802, 'main': 'Clouds', 'description': 'scattered clouds', 'icon': '03n'}], 'clouds': {'all': 42}, 'wind': {'speed': 1.95, 'deg': 320, 'gust': 2.36}, 'visibility': 10000, 'pop': 0, 'sys': {'pod': 'n'}, 'dt_txt': '2023-12-01 18:00:00'}, {'dt': 1701464400, 'main': {'temp': 261.72, 'feels_like': 257.88, 'temp_min': 261.72, 'temp_max': 261.72, 'pressure': 1012, 'sea_level': 1012, 'grnd_level': 992, 'humidity': 87, 'temp_kf': 0}, 'weather': [{'id': 802, 'main': 'Clouds', 'description': 'scattered clouds', 'icon': '03n'}], 'clouds': {'all': 26}, 'wind': {'speed': 1.73, 'deg': 316, 'gust': 1.45}, 'visibility': 10000, 'pop': 0, 'sys': {'pod': 'n'}, 'dt_txt': '2023-12-01 21:00:00'}, {'dt': 1701475200, 'main': {'temp': 261.34, 'feels_like': 257.84, 'temp_min': 261.34, 'temp_max': 261.34, 'pressure': 1011, 'sea_level': 1011, 'grnd_level': 992, 'humidity': 88, 'temp_kf': 0}, 'weather': [{'id': 802, 'main': 'Clouds', 'description': 'scattered clouds', 'icon': '03n'}], 'clouds': {'all': 38}, 'wind': {'speed': 1.54, 'deg': 313, 'gust': 1.26}, 'visibility': 10000, 'pop': 0, 'sys': {'pod': 'n'}, 'dt_txt': '2023-12-02 00:00:00'}, {'dt': 1701486000, 'main': {'temp': 261.02, 'feels_like': 257.47, 'temp_min': 261.02, 'temp_max': 261.02, 'pressure': 1011, 'sea_level': 1011, 'grnd_level': 991, 'humidity': 88, 'temp_kf': 0}, 'weather': [{'id': 802, 'main': 'Clouds', 'description': 'scattered clouds', 'icon': '03n'}], 'clouds': {'all': 43}, 'wind': {'speed': 1.54, 'deg': 316, 'gust': 1.26}, 'visibility': 10000, 'pop': 0, 'sys': {'pod': 'n'}, 'dt_txt': '2023-12-02 03:00:00'}, {'dt': 1701496800, 'main': {'temp': 260.74, 'feels_like': 256.96, 'temp_min': 260.74, 'temp_max': 260.74, 'pressure': 1011, 'sea_level': 1011, 'grnd_level': 991, 'humidity': 88, 'temp_kf': 0}, 'weather': [{'id': 803, 'main': 'Clouds', 'description': 'broken clouds', 'icon': '04n'}], 'clouds': {'all': 53}, 'wind': {'speed': 1.63, 'deg': 317, 'gust': 1.37}, 'visibility': 10000, 'pop': 0, 'sys': {'pod': 'n'}, 'dt_txt': '2023-12-02 06:00:00'}], 'city': {'id': 3144113, 'name': 'Noresund', 'coord': {'lat': 60.1803, 'lon': 9.6231}, 'country': 'NO', 'population': 1000, 'timezone': 3600, 'sunrise': 1701071312, 'sunset': 1701095390}}\""
      ]
     },
     "execution_count": 15,
     "metadata": {},
     "output_type": "execute_result"
    }
   ],
   "source": [
    "# Inspect JSON file\n",
    "forecast.__str__()"
   ]
  },
  {
   "cell_type": "markdown",
   "metadata": {
    "slideshow": {
     "slide_type": "slide"
    }
   },
   "source": [
    "## Raw JSON\n",
    "- A simple, but not very efficient way of storing JSON data is to treat it as a text and save it directly to the database.  \n",
    "- More efficient, with regard to transfer, is to compress the JSON data to a blob first.\n",
    "    - Compression is automatic."
   ]
  },
  {
   "cell_type": "code",
   "execution_count": 16,
   "metadata": {
    "slideshow": {
     "slide_type": "-"
    }
   },
   "outputs": [
    {
     "data": {
      "text/plain": [
       "<cassandra.cluster.ResultSet at 0x114479910>"
      ]
     },
     "execution_count": 16,
     "metadata": {},
     "output_type": "execute_result"
    }
   ],
   "source": [
    "# Create a new table which treats the whole JSON as a blob, using the city id and the first dt as keys\n",
    "session.set_keyspace('my_first_keyspace')\n",
    "session.execute(\"DROP TABLE IF EXISTS my_first_keyspace.forecast_table;\")\n",
    "session.execute(\"CREATE TABLE IF NOT EXISTS forecast_table (city_id int, dt int, forecast blob, PRIMARY KEY(city_id, dt));\")"
   ]
  },
  {
   "cell_type": "markdown",
   "metadata": {
    "slideshow": {
     "slide_type": "slide"
    }
   },
   "source": [
    "### Insert the forecast data into the table as text blob"
   ]
  },
  {
   "cell_type": "code",
   "execution_count": 17,
   "metadata": {
    "slideshow": {
     "slide_type": "-"
    }
   },
   "outputs": [
    {
     "data": {
      "text/plain": [
       "<cassandra.cluster.ResultSet at 0x11479a250>"
      ]
     },
     "execution_count": 17,
     "metadata": {},
     "output_type": "execute_result"
    }
   ],
   "source": [
    "session.execute(\"INSERT INTO forecast_table (city_id, dt, forecast) VALUES (%s, %s, textAsBlob(%s));\", (forecast['city']['id'], forecast['list'][0]['dt'], forecast.__str__()))"
   ]
  },
  {
   "cell_type": "code",
   "execution_count": 18,
   "metadata": {
    "slideshow": {
     "slide_type": "slide"
    }
   },
   "outputs": [
    {
     "name": "stdout",
     "output_type": "stream",
     "text": [
      "Row(city_id=3144113, dt=1701075600, forecast=b\"{'cod': '200', 'message': 0, 'cnt': 40, 'list': [{'dt': 1701075600, 'main': {'temp': 268.21, 'feels_like': 265.36, 'temp_min': 266.5, 'temp_max': 268.21, 'pressure': 1019, 'sea_level': 1019, 'grnd_level': 999, 'humidity': 92, 'temp_kf': 1.71}, 'weather': [{'id': 600, 'main': 'Snow', 'description': 'light snow', 'icon': '13d'}], 'clouds': {'all': 99}, 'wind': {'speed': 1.73, 'deg': 351, 'gust': 3}, 'visibility': 889, 'pop': 0.24, 'snow': {'3h': 0.14}, 'sys': {'pod': 'd'}, 'dt_txt': '2023-11-27 09:00:00'}, {'dt': 1701086400, 'main': {'temp': 268.27, 'feels_like': 268.27, 'temp_min': 268.27, 'temp_max': 268.39, 'pressure': 1019, 'sea_level': 1019, 'grnd_level': 999, 'humidity': 91, 'temp_kf': -0.12}, 'weather': [{'id': 600, 'main': 'Snow', 'description': 'light snow', 'icon': '13d'}], 'clouds': {'all': 99}, 'wind': {'speed': 1.07, 'deg': 19, 'gust': 2.51}, 'visibility': 3992, 'pop': 0.28, 'snow': {'3h': 0.19}, 'sys': {'pod': 'd'}, 'dt_txt': '2023-11-27 12:00:00'}, {'dt': 1701097200, 'main': {'temp': 266.99, 'feels_like': 266.99, 'temp_min': 266.38, 'temp_max': 266.99, 'pressure': 1018, 'sea_level': 1018, 'grnd_level': 999, 'humidity': 93, 'temp_kf': 0.61}, 'weather': [{'id': 600, 'main': 'Snow', 'description': 'light snow', 'icon': '13n'}], 'clouds': {'all': 100}, 'wind': {'speed': 0.94, 'deg': 11, 'gust': 1.49}, 'visibility': 2607, 'pop': 0.2, 'snow': {'3h': 0.12}, 'sys': {'pod': 'n'}, 'dt_txt': '2023-11-27 15:00:00'}, {'dt': 1701108000, 'main': {'temp': 265.11, 'feels_like': 265.11, 'temp_min': 265.11, 'temp_max': 265.11, 'pressure': 1018, 'sea_level': 1018, 'grnd_level': 999, 'humidity': 91, 'temp_kf': 0}, 'weather': [{'id': 600, 'main': 'Snow', 'description': 'light snow', 'icon': '13n'}], 'clouds': {'all': 99}, 'wind': {'speed': 0.96, 'deg': 9, 'gust': 1.53}, 'visibility': 4856, 'pop': 0.2, 'snow': {'3h': 0.13}, 'sys': {'pod': 'n'}, 'dt_txt': '2023-11-27 18:00:00'}, {'dt': 1701118800, 'main': {'temp': 264.5, 'feels_like': 264.5, 'temp_min': 264.5, 'temp_max': 264.5, 'pressure': 1018, 'sea_level': 1018, 'grnd_level': 998, 'humidity': 93, 'temp_kf': 0}, 'weather': [{'id': 600, 'main': 'Snow', 'description': 'light snow', 'icon': '13n'}], 'clouds': {'all': 100}, 'wind': {'speed': 0.74, 'deg': 52, 'gust': 1.83}, 'visibility': 1620, 'pop': 0.32, 'snow': {'3h': 0.24}, 'sys': {'pod': 'n'}, 'dt_txt': '2023-11-27 21:00:00'}, {'dt': 1701129600, 'main': {'temp': 262.9, 'feels_like': 262.9, 'temp_min': 262.9, 'temp_max': 262.9, 'pressure': 1018, 'sea_level': 1018, 'grnd_level': 998, 'humidity': 87, 'temp_kf': 0}, 'weather': [{'id': 600, 'main': 'Snow', 'description': 'light snow', 'icon': '13n'}], 'clouds': {'all': 96}, 'wind': {'speed': 1.3, 'deg': 38, 'gust': 3.05}, 'visibility': 10000, 'pop': 0.22, 'snow': {'3h': 0.25}, 'sys': {'pod': 'n'}, 'dt_txt': '2023-11-28 00:00:00'}, {'dt': 1701140400, 'main': {'temp': 261.92, 'feels_like': 257.79, 'temp_min': 261.92, 'temp_max': 261.92, 'pressure': 1018, 'sea_level': 1018, 'grnd_level': 998, 'humidity': 86, 'temp_kf': 0}, 'weather': [{'id': 804, 'main': 'Clouds', 'description': 'overcast clouds', 'icon': '04n'}], 'clouds': {'all': 100}, 'wind': {'speed': 1.9, 'deg': 358, 'gust': 3.39}, 'visibility': 10000, 'pop': 0, 'sys': {'pod': 'n'}, 'dt_txt': '2023-11-28 03:00:00'}, {'dt': 1701151200, 'main': {'temp': 259.83, 'feels_like': 254.35, 'temp_min': 259.83, 'temp_max': 259.83, 'pressure': 1017, 'sea_level': 1017, 'grnd_level': 998, 'humidity': 84, 'temp_kf': 0}, 'weather': [{'id': 803, 'main': 'Clouds', 'description': 'broken clouds', 'icon': '04n'}], 'clouds': {'all': 73}, 'wind': {'speed': 2.5, 'deg': 325, 'gust': 4.4}, 'visibility': 10000, 'pop': 0, 'sys': {'pod': 'n'}, 'dt_txt': '2023-11-28 06:00:00'}, {'dt': 1701162000, 'main': {'temp': 260.18, 'feels_like': 254.28, 'temp_min': 260.18, 'temp_max': 260.18, 'pressure': 1016, 'sea_level': 1016, 'grnd_level': 996, 'humidity': 79, 'temp_kf': 0}, 'weather': [{'id': 803, 'main': 'Clouds', 'description': 'broken clouds', 'icon': '04d'}], 'clouds': {'all': 65}, 'wind': {'speed': 2.84, 'deg': 321, 'gust': 5.82}, 'visibility': 10000, 'pop': 0, 'sys': {'pod': 'd'}, 'dt_txt': '2023-11-28 09:00:00'}, {'dt': 1701172800, 'main': {'temp': 262.8, 'feels_like': 257.63, 'temp_min': 262.8, 'temp_max': 262.8, 'pressure': 1014, 'sea_level': 1014, 'grnd_level': 994, 'humidity': 71, 'temp_kf': 0}, 'weather': [{'id': 803, 'main': 'Clouds', 'description': 'broken clouds', 'icon': '04d'}], 'clouds': {'all': 81}, 'wind': {'speed': 2.67, 'deg': 316, 'gust': 5.68}, 'visibility': 10000, 'pop': 0, 'sys': {'pod': 'd'}, 'dt_txt': '2023-11-28 12:00:00'}, {'dt': 1701183600, 'main': {'temp': 262.21, 'feels_like': 257.07, 'temp_min': 262.21, 'temp_max': 262.21, 'pressure': 1012, 'sea_level': 1012, 'grnd_level': 993, 'humidity': 75, 'temp_kf': 0}, 'weather': [{'id': 804, 'main': 'Clouds', 'description': 'overcast clouds', 'icon': '04n'}], 'clouds': {'all': 97}, 'wind': {'speed': 2.57, 'deg': 323, 'gust': 5.49}, 'visibility': 10000, 'pop': 0, 'sys': {'pod': 'n'}, 'dt_txt': '2023-11-28 15:00:00'}, {'dt': 1701194400, 'main': {'temp': 263.61, 'feels_like': 258.59, 'temp_min': 263.61, 'temp_max': 263.61, 'pressure': 1011, 'sea_level': 1011, 'grnd_level': 992, 'humidity': 78, 'temp_kf': 0}, 'weather': [{'id': 804, 'main': 'Clouds', 'description': 'overcast clouds', 'icon': '04n'}], 'clouds': {'all': 98}, 'wind': {'speed': 2.68, 'deg': 328, 'gust': 5.87}, 'visibility': 10000, 'pop': 0, 'sys': {'pod': 'n'}, 'dt_txt': '2023-11-28 18:00:00'}, {'dt': 1701205200, 'main': {'temp': 264.82, 'feels_like': 259.78, 'temp_min': 264.82, 'temp_max': 264.82, 'pressure': 1011, 'sea_level': 1011, 'grnd_level': 991, 'humidity': 86, 'temp_kf': 0}, 'weather': [{'id': 804, 'main': 'Clouds', 'description': 'overcast clouds', 'icon': '04n'}], 'clouds': {'all': 100}, 'wind': {'speed': 2.88, 'deg': 326, 'gust': 6.42}, 'visibility': 5310, 'pop': 0, 'sys': {'pod': 'n'}, 'dt_txt': '2023-11-28 21:00:00'}, {'dt': 1701216000, 'main': {'temp': 265.78, 'feels_like': 260.71, 'temp_min': 265.78, 'temp_max': 265.78, 'pressure': 1010, 'sea_level': 1010, 'grnd_level': 990, 'humidity': 86, 'temp_kf': 0}, 'weather': [{'id': 804, 'main': 'Clouds', 'description': 'overcast clouds', 'icon': '04n'}], 'clouds': {'all': 100}, 'wind': {'speed': 3.08, 'deg': 333, 'gust': 7.67}, 'visibility': 8741, 'pop': 0.01, 'sys': {'pod': 'n'}, 'dt_txt': '2023-11-29 00:00:00'}, {'dt': 1701226800, 'main': {'temp': 266.22, 'feels_like': 261.3, 'temp_min': 266.22, 'temp_max': 266.22, 'pressure': 1009, 'sea_level': 1009, 'grnd_level': 990, 'humidity': 86, 'temp_kf': 0}, 'weather': [{'id': 600, 'main': 'Snow', 'description': 'light snow', 'icon': '13n'}], 'clouds': {'all': 100}, 'wind': {'speed': 3.02, 'deg': 336, 'gust': 7.5}, 'visibility': 9701, 'pop': 0.41, 'snow': {'3h': 0.11}, 'sys': {'pod': 'n'}, 'dt_txt': '2023-11-29 03:00:00'}, {'dt': 1701237600, 'main': {'temp': 266.96, 'feels_like': 262.12, 'temp_min': 266.96, 'temp_max': 266.96, 'pressure': 1009, 'sea_level': 1009, 'grnd_level': 990, 'humidity': 88, 'temp_kf': 0}, 'weather': [{'id': 600, 'main': 'Snow', 'description': 'light snow', 'icon': '13n'}], 'clouds': {'all': 100}, 'wind': {'speed': 3.09, 'deg': 342, 'gust': 7.41}, 'visibility': 2452, 'pop': 0.49, 'snow': {'3h': 0.16}, 'sys': {'pod': 'n'}, 'dt_txt': '2023-11-29 06:00:00'}, {'dt': 1701248400, 'main': {'temp': 267.67, 'feels_like': 262.94, 'temp_min': 267.67, 'temp_max': 267.67, 'pressure': 1010, 'sea_level': 1010, 'grnd_level': 991, 'humidity': 90, 'temp_kf': 0}, 'weather': [{'id': 600, 'main': 'Snow', 'description': 'light snow', 'icon': '13d'}], 'clouds': {'all': 100}, 'wind': {'speed': 3.12, 'deg': 341, 'gust': 7.49}, 'visibility': 823, 'pop': 0.51, 'snow': {'3h': 0.29}, 'sys': {'pod': 'd'}, 'dt_txt': '2023-11-29 09:00:00'}, {'dt': 1701259200, 'main': {'temp': 268.9, 'feels_like': 264.38, 'temp_min': 268.9, 'temp_max': 268.9, 'pressure': 1010, 'sea_level': 1010, 'grnd_level': 991, 'humidity': 89, 'temp_kf': 0}, 'weather': [{'id': 600, 'main': 'Snow', 'description': 'light snow', 'icon': '13d'}], 'clouds': {'all': 100}, 'wind': {'speed': 3.17, 'deg': 348, 'gust': 7.35}, 'visibility': 1174, 'pop': 0.59, 'snow': {'3h': 0.5}, 'sys': {'pod': 'd'}, 'dt_txt': '2023-11-29 12:00:00'}, {'dt': 1701270000, 'main': {'temp': 268.5, 'feels_like': 263.89, 'temp_min': 268.5, 'temp_max': 268.5, 'pressure': 1011, 'sea_level': 1011, 'grnd_level': 991, 'humidity': 91, 'temp_kf': 0}, 'weather': [{'id': 600, 'main': 'Snow', 'description': 'light snow', 'icon': '13n'}], 'clouds': {'all': 100}, 'wind': {'speed': 3.17, 'deg': 350, 'gust': 7.62}, 'visibility': 993, 'pop': 0.6, 'snow': {'3h': 0.38}, 'sys': {'pod': 'n'}, 'dt_txt': '2023-11-29 15:00:00'}, {'dt': 1701280800, 'main': {'temp': 268.48, 'feels_like': 263.77, 'temp_min': 268.48, 'temp_max': 268.48, 'pressure': 1012, 'sea_level': 1012, 'grnd_level': 992, 'humidity': 90, 'temp_kf': 0}, 'weather': [{'id': 600, 'main': 'Snow', 'description': 'light snow', 'icon': '13n'}], 'clouds': {'all': 100}, 'wind': {'speed': 3.27, 'deg': 352, 'gust': 7.64}, 'visibility': 1832, 'pop': 0.64, 'snow': {'3h': 0.34}, 'sys': {'pod': 'n'}, 'dt_txt': '2023-11-29 18:00:00'}, {'dt': 1701291600, 'main': {'temp': 268.16, 'feels_like': 263.26, 'temp_min': 268.16, 'temp_max': 268.16, 'pressure': 1012, 'sea_level': 1012, 'grnd_level': 993, 'humidity': 88, 'temp_kf': 0}, 'weather': [{'id': 600, 'main': 'Snow', 'description': 'light snow', 'icon': '13n'}], 'clouds': {'all': 99}, 'wind': {'speed': 3.4, 'deg': 351, 'gust': 8.43}, 'visibility': 1623, 'pop': 0.61, 'snow': {'3h': 0.12}, 'sys': {'pod': 'n'}, 'dt_txt': '2023-11-29 21:00:00'}, {'dt': 1701302400, 'main': {'temp': 268.47, 'feels_like': 264.01, 'temp_min': 268.47, 'temp_max': 268.47, 'pressure': 1014, 'sea_level': 1014, 'grnd_level': 994, 'humidity': 88, 'temp_kf': 0}, 'weather': [{'id': 600, 'main': 'Snow', 'description': 'light snow', 'icon': '13n'}], 'clouds': {'all': 100}, 'wind': {'speed': 3.02, 'deg': 16, 'gust': 7.86}, 'visibility': 4628, 'pop': 0.74, 'snow': {'3h': 0.61}, 'sys': {'pod': 'n'}, 'dt_txt': '2023-11-30 00:00:00'}, {'dt': 1701313200, 'main': {'temp': 267.39, 'feels_like': 263.51, 'temp_min': 267.39, 'temp_max': 267.39, 'pressure': 1015, 'sea_level': 1015, 'grnd_level': 996, 'humidity': 93, 'temp_kf': 0}, 'weather': [{'id': 600, 'main': 'Snow', 'description': 'light snow', 'icon': '13n'}], 'clouds': {'all': 100}, 'wind': {'speed': 2.34, 'deg': 3, 'gust': 5.22}, 'visibility': 1249, 'pop': 0.72, 'snow': {'3h': 0.18}, 'sys': {'pod': 'n'}, 'dt_txt': '2023-11-30 03:00:00'}, {'dt': 1701324000, 'main': {'temp': 267.05, 'feels_like': 263.31, 'temp_min': 267.05, 'temp_max': 267.05, 'pressure': 1016, 'sea_level': 1016, 'grnd_level': 996, 'humidity': 94, 'temp_kf': 0}, 'weather': [{'id': 600, 'main': 'Snow', 'description': 'light snow', 'icon': '13n'}], 'clouds': {'all': 100}, 'wind': {'speed': 2.19, 'deg': 351, 'gust': 4.45}, 'visibility': 928, 'pop': 0.65, 'snow': {'3h': 0.28}, 'sys': {'pod': 'n'}, 'dt_txt': '2023-11-30 06:00:00'}, {'dt': 1701334800, 'main': {'temp': 267.11, 'feels_like': 263.09, 'temp_min': 267.11, 'temp_max': 267.11, 'pressure': 1017, 'sea_level': 1017, 'grnd_level': 997, 'humidity': 91, 'temp_kf': 0}, 'weather': [{'id': 600, 'main': 'Snow', 'description': 'light snow', 'icon': '13d'}], 'clouds': {'all': 100}, 'wind': {'speed': 2.41, 'deg': 347, 'gust': 5.55}, 'visibility': 6155, 'pop': 0.36, 'snow': {'3h': 0.3}, 'sys': {'pod': 'd'}, 'dt_txt': '2023-11-30 09:00:00'}, {'dt': 1701345600, 'main': {'temp': 267.93, 'feels_like': 264.7, 'temp_min': 267.93, 'temp_max': 267.93, 'pressure': 1016, 'sea_level': 1016, 'grnd_level': 997, 'humidity': 87, 'temp_kf': 0}, 'weather': [{'id': 804, 'main': 'Clouds', 'description': 'overcast clouds', 'icon': '04d'}], 'clouds': {'all': 100}, 'wind': {'speed': 1.94, 'deg': 352, 'gust': 4.65}, 'visibility': 10000, 'pop': 0.12, 'sys': {'pod': 'd'}, 'dt_txt': '2023-11-30 12:00:00'}, {'dt': 1701356400, 'main': {'temp': 265.35, 'feels_like': 261.58, 'temp_min': 265.35, 'temp_max': 265.35, 'pressure': 1016, 'sea_level': 1016, 'grnd_level': 996, 'humidity': 90, 'temp_kf': 0}, 'weather': [{'id': 804, 'main': 'Clouds', 'description': 'overcast clouds', 'icon': '04n'}], 'clouds': {'all': 97}, 'wind': {'speed': 2.02, 'deg': 326, 'gust': 3.32}, 'visibility': 10000, 'pop': 0, 'sys': {'pod': 'n'}, 'dt_txt': '2023-11-30 15:00:00'}, {'dt': 1701367200, 'main': {'temp': 264.07, 'feels_like': 259.73, 'temp_min': 264.07, 'temp_max': 264.07, 'pressure': 1016, 'sea_level': 1016, 'grnd_level': 996, 'humidity': 88, 'temp_kf': 0}, 'weather': [{'id': 804, 'main': 'Clouds', 'description': 'overcast clouds', 'icon': '04n'}], 'clouds': {'all': 96}, 'wind': {'speed': 2.25, 'deg': 337, 'gust': 3.95}, 'visibility': 10000, 'pop': 0, 'sys': {'pod': 'n'}, 'dt_txt': '2023-11-30 18:00:00'}, {'dt': 1701378000, 'main': {'temp': 262.12, 'feels_like': 257.05, 'temp_min': 262.12, 'temp_max': 262.12, 'pressure': 1016, 'sea_level': 1016, 'grnd_level': 996, 'humidity': 87, 'temp_kf': 0}, 'weather': [{'id': 803, 'main': 'Clouds', 'description': 'broken clouds', 'icon': '04n'}], 'clouds': {'all': 67}, 'wind': {'speed': 2.51, 'deg': 326, 'gust': 4.14}, 'visibility': 10000, 'pop': 0, 'sys': {'pod': 'n'}, 'dt_txt': '2023-11-30 21:00:00'}, {'dt': 1701388800, 'main': {'temp': 261.81, 'feels_like': 256.69, 'temp_min': 261.81, 'temp_max': 261.81, 'pressure': 1015, 'sea_level': 1015, 'grnd_level': 995, 'humidity': 85, 'temp_kf': 0}, 'weather': [{'id': 803, 'main': 'Clouds', 'description': 'broken clouds', 'icon': '04n'}], 'clouds': {'all': 63}, 'wind': {'speed': 2.5, 'deg': 325, 'gust': 4.32}, 'visibility': 10000, 'pop': 0, 'sys': {'pod': 'n'}, 'dt_txt': '2023-12-01 00:00:00'}, {'dt': 1701399600, 'main': {'temp': 261.59, 'feels_like': 256.46, 'temp_min': 261.59, 'temp_max': 261.59, 'pressure': 1014, 'sea_level': 1014, 'grnd_level': 994, 'humidity': 85, 'temp_kf': 0}, 'weather': [{'id': 802, 'main': 'Clouds', 'description': 'scattered clouds', 'icon': '03n'}], 'clouds': {'all': 33}, 'wind': {'speed': 2.48, 'deg': 323, 'gust': 4.21}, 'visibility': 10000, 'pop': 0, 'sys': {'pod': 'n'}, 'dt_txt': '2023-12-01 03:00:00'}, {'dt': 1701410400, 'main': {'temp': 261.56, 'feels_like': 256.53, 'temp_min': 261.56, 'temp_max': 261.56, 'pressure': 1013, 'sea_level': 1013, 'grnd_level': 994, 'humidity': 84, 'temp_kf': 0}, 'weather': [{'id': 802, 'main': 'Clouds', 'description': 'scattered clouds', 'icon': '03n'}], 'clouds': {'all': 29}, 'wind': {'speed': 2.41, 'deg': 327, 'gust': 4.05}, 'visibility': 10000, 'pop': 0, 'sys': {'pod': 'n'}, 'dt_txt': '2023-12-01 06:00:00'}, {'dt': 1701421200, 'main': {'temp': 263.03, 'feels_like': 258.71, 'temp_min': 263.03, 'temp_max': 263.03, 'pressure': 1013, 'sea_level': 1013, 'grnd_level': 994, 'humidity': 81, 'temp_kf': 0}, 'weather': [{'id': 803, 'main': 'Clouds', 'description': 'broken clouds', 'icon': '04d'}], 'clouds': {'all': 60}, 'wind': {'speed': 2.12, 'deg': 333, 'gust': 3.72}, 'visibility': 10000, 'pop': 0, 'sys': {'pod': 'd'}, 'dt_txt': '2023-12-01 09:00:00'}, {'dt': 1701432000, 'main': {'temp': 265.86, 'feels_like': 262.19, 'temp_min': 265.86, 'temp_max': 265.86, 'pressure': 1012, 'sea_level': 1012, 'grnd_level': 992, 'humidity': 78, 'temp_kf': 0}, 'weather': [{'id': 803, 'main': 'Clouds', 'description': 'broken clouds', 'icon': '04d'}], 'clouds': {'all': 76}, 'wind': {'speed': 2.01, 'deg': 349, 'gust': 3.81}, 'visibility': 10000, 'pop': 0, 'sys': {'pod': 'd'}, 'dt_txt': '2023-12-01 12:00:00'}, {'dt': 1701442800, 'main': {'temp': 262.82, 'feels_like': 258.63, 'temp_min': 262.82, 'temp_max': 262.82, 'pressure': 1012, 'sea_level': 1012, 'grnd_level': 993, 'humidity': 86, 'temp_kf': 0}, 'weather': [{'id': 802, 'main': 'Clouds', 'description': 'scattered clouds', 'icon': '03n'}], 'clouds': {'all': 47}, 'wind': {'speed': 2.02, 'deg': 328, 'gust': 2.89}, 'visibility': 10000, 'pop': 0, 'sys': {'pod': 'n'}, 'dt_txt': '2023-12-01 15:00:00'}, {'dt': 1701453600, 'main': {'temp': 262.14, 'feels_like': 257.96, 'temp_min': 262.14, 'temp_max': 262.14, 'pressure': 1012, 'sea_level': 1012, 'grnd_level': 992, 'humidity': 85, 'temp_kf': 0}, 'weather': [{'id': 802, 'main': 'Clouds', 'description': 'scattered clouds', 'icon': '03n'}], 'clouds': {'all': 42}, 'wind': {'speed': 1.95, 'deg': 320, 'gust': 2.36}, 'visibility': 10000, 'pop': 0, 'sys': {'pod': 'n'}, 'dt_txt': '2023-12-01 18:00:00'}, {'dt': 1701464400, 'main': {'temp': 261.72, 'feels_like': 257.88, 'temp_min': 261.72, 'temp_max': 261.72, 'pressure': 1012, 'sea_level': 1012, 'grnd_level': 992, 'humidity': 87, 'temp_kf': 0}, 'weather': [{'id': 802, 'main': 'Clouds', 'description': 'scattered clouds', 'icon': '03n'}], 'clouds': {'all': 26}, 'wind': {'speed': 1.73, 'deg': 316, 'gust': 1.45}, 'visibility': 10000, 'pop': 0, 'sys': {'pod': 'n'}, 'dt_txt': '2023-12-01 21:00:00'}, {'dt': 1701475200, 'main': {'temp': 261.34, 'feels_like': 257.84, 'temp_min': 261.34, 'temp_max': 261.34, 'pressure': 1011, 'sea_level': 1011, 'grnd_level': 992, 'humidity': 88, 'temp_kf': 0}, 'weather': [{'id': 802, 'main': 'Clouds', 'description': 'scattered clouds', 'icon': '03n'}], 'clouds': {'all': 38}, 'wind': {'speed': 1.54, 'deg': 313, 'gust': 1.26}, 'visibility': 10000, 'pop': 0, 'sys': {'pod': 'n'}, 'dt_txt': '2023-12-02 00:00:00'}, {'dt': 1701486000, 'main': {'temp': 261.02, 'feels_like': 257.47, 'temp_min': 261.02, 'temp_max': 261.02, 'pressure': 1011, 'sea_level': 1011, 'grnd_level': 991, 'humidity': 88, 'temp_kf': 0}, 'weather': [{'id': 802, 'main': 'Clouds', 'description': 'scattered clouds', 'icon': '03n'}], 'clouds': {'all': 43}, 'wind': {'speed': 1.54, 'deg': 316, 'gust': 1.26}, 'visibility': 10000, 'pop': 0, 'sys': {'pod': 'n'}, 'dt_txt': '2023-12-02 03:00:00'}, {'dt': 1701496800, 'main': {'temp': 260.74, 'feels_like': 256.96, 'temp_min': 260.74, 'temp_max': 260.74, 'pressure': 1011, 'sea_level': 1011, 'grnd_level': 991, 'humidity': 88, 'temp_kf': 0}, 'weather': [{'id': 803, 'main': 'Clouds', 'description': 'broken clouds', 'icon': '04n'}], 'clouds': {'all': 53}, 'wind': {'speed': 1.63, 'deg': 317, 'gust': 1.37}, 'visibility': 10000, 'pop': 0, 'sys': {'pod': 'n'}, 'dt_txt': '2023-12-02 06:00:00'}], 'city': {'id': 3144113, 'name': 'Noresund', 'coord': {'lat': 60.1803, 'lon': 9.6231}, 'country': 'NO', 'population': 1000, 'timezone': 3600, 'sunrise': 1701071312, 'sunset': 1701095390}}\")\n"
     ]
    }
   ],
   "source": [
    "# Query the data\n",
    "forecast_rows = session.execute(\"SELECT * FROM forecast_table;\")\n",
    "print(forecast_rows.one()) # <- only one row"
   ]
  },
  {
   "cell_type": "markdown",
   "metadata": {
    "slideshow": {
     "slide_type": "slide"
    }
   },
   "source": [
    "```{seealso} Resources\n",
    ":class: tip\n",
    "- [Cassandra webpage](https://cassandra.apache.org/)\n",
    "- [Cassandra Docker file](https://hub.docker.com/_/cassandra)\n",
    "- [UUID functions](https://docs.datastax.com/en/cql-oss/3.3/cql/cql_reference/timeuuid_functions_r.html)\n",
    "- [YouTube: Cassandra in 100 seconds](https://youtu.be/ziq7FUKpCS8?si=WQUdkHFvaBmT0DBo) (2m:26s)\n",
    "- [YouTube: How to use Apache Cassandra in Python](https://youtu.be/qMauZqJH3ZM?si=yKGZ-5cld2BK396Y) (14m:50s)\n",
    "- [YouTube: Cassandra Database Crash Course](https://youtu.be/KZsVSfQVU4I?si=FBCi8qOfCirfVmZk) (19m:47s)\n",
    "```"
   ]
  }
 ],
 "metadata": {
  "celltoolbar": "Slideshow",
  "kernelspec": {
   "display_name": "Python 3 (ipykernel)",
   "language": "python",
   "name": "python3"
  },
  "language_info": {
   "codemirror_mode": {
    "name": "ipython",
    "version": 3
   },
   "file_extension": ".py",
   "mimetype": "text/x-python",
   "name": "python",
   "nbconvert_exporter": "python",
   "pygments_lexer": "ipython3",
   "version": "3.11.6"
  }
 },
 "nbformat": 4,
 "nbformat_minor": 2
}