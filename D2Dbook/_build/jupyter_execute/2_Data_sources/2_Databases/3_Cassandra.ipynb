{
 "cells": [
  {
   "cell_type": "markdown",
   "metadata": {
    "slideshow": {
     "slide_type": "slide"
    }
   },
   "source": [
    "# Cassandra\n",
    "- A production grade NoSQL database.\n",
    "- Can be distributed across servers, nodes, etc.\n",
    "- Replication of database is supported for high degree of redundancy and speed.\n",
    "- Uses CQL, a subset of SQL for querying.\n",
    "- Works seamlesly together with Spark and its corresponding distributed structure.\n",
    "- Installation of Cassandra is explained in the [Installation chapter](../../6_Appendix/Installation.ipynb)."
   ]
  },
  {
   "cell_type": "markdown",
   "metadata": {
    "slideshow": {
     "slide_type": "slide"
    }
   },
   "source": [
    "## Spinning up a local Cassandra instance\n",
    "In a terminal, first time:  \n",
    "```docker run --name my_cassandra -p 9042:9042 cassandra:latest```  \n",
    "... and later:  \n",
    "```docker start my_cassandra```  \n",
    "  \n",
    ".. or in Docker Desktop:\n",
    "- Run the cassandra docker image with optional settings, opening 9042 port and setting a name.\n",
    "- Later, simply run the container with the name you chose."
   ]
  },
  {
   "cell_type": "markdown",
   "metadata": {
    "slideshow": {
     "slide_type": "slide"
    }
   },
   "source": [
    "<img src=\"https://github.com/khliland/IND320/blob/main/D2Dbook/images/Docker_images.png?raw=TRUE\" width=\"600px\">  "
   ]
  },
  {
   "cell_type": "markdown",
   "metadata": {
    "slideshow": {
     "slide_type": "slide"
    }
   },
   "source": [
    "\n",
    "<img src=\"https://github.com/khliland/IND320/blob/main/D2Dbook/images/Docker_containers.png?raw=TRUE\" width=\"800px\">  "
   ]
  },
  {
   "cell_type": "markdown",
   "metadata": {
    "slideshow": {
     "slide_type": "slide"
    }
   },
   "source": [
    "### Connect to the Cassandra cluster from Python."
   ]
  },
  {
   "cell_type": "code",
   "execution_count": 1,
   "metadata": {
    "slideshow": {
     "slide_type": "-"
    }
   },
   "outputs": [],
   "source": [
    "# Connecting to Cassandra\n",
    "from cassandra.cluster import Cluster\n",
    "cluster = Cluster(['localhost'], port=9042)\n",
    "session = cluster.connect()"
   ]
  },
  {
   "cell_type": "markdown",
   "metadata": {
    "slideshow": {
     "slide_type": "slide"
    }
   },
   "source": [
    "### Keyspace\n",
    "- In Cassandra database tables are stored in keyspaces (basically a distributed database).\n",
    "- These have parameters controlling their distribution on nodes/servers and redundancy.\n",
    "- We will use the simplest form locally."
   ]
  },
  {
   "cell_type": "code",
   "execution_count": 2,
   "metadata": {
    "slideshow": {
     "slide_type": "fragment"
    }
   },
   "outputs": [
    {
     "data": {
      "text/plain": [
       "<cassandra.cluster.ResultSet at 0x1080eaa50>"
      ]
     },
     "execution_count": 2,
     "metadata": {},
     "output_type": "execute_result"
    }
   ],
   "source": [
    "# Set up new keyspace (first time only)\n",
    "#                                              name of keyspace                        replication strategy           replication factor\n",
    "session.execute(\"CREATE KEYSPACE IF NOT EXISTS my_first_keyspace WITH REPLICATION = { 'class' : 'SimpleStrategy', 'replication_factor' : 1 };\")"
   ]
  },
  {
   "cell_type": "markdown",
   "metadata": {
    "slideshow": {
     "slide_type": "slide"
    }
   },
   "source": [
    "### Create a table\n",
    "- IF NOT EXISTS makes sure we do not overwrite existing tables"
   ]
  },
  {
   "cell_type": "code",
   "execution_count": 3,
   "metadata": {
    "slideshow": {
     "slide_type": "fragment"
    }
   },
   "outputs": [
    {
     "data": {
      "text/plain": [
       "<cassandra.cluster.ResultSet at 0x10946ea90>"
      ]
     },
     "execution_count": 3,
     "metadata": {},
     "output_type": "execute_result"
    }
   ],
   "source": [
    "# Create a new table (first time only)\n",
    "session.set_keyspace('my_first_keyspace')\n",
    "session.execute(\"DROP TABLE IF EXISTS my_first_keyspace.my_first_table;\") # Starting from scratch every time\n",
    "session.execute(\"CREATE TABLE IF NOT EXISTS my_first_table (ind int PRIMARY KEY, company text, model text);\")"
   ]
  },
  {
   "cell_type": "markdown",
   "metadata": {
    "slideshow": {
     "slide_type": "slide"
    }
   },
   "source": [
    "### Inserting and reading data"
   ]
  },
  {
   "cell_type": "code",
   "execution_count": 4,
   "metadata": {
    "slideshow": {
     "slide_type": "-"
    }
   },
   "outputs": [
    {
     "data": {
      "text/plain": [
       "<cassandra.cluster.ResultSet at 0x109473690>"
      ]
     },
     "execution_count": 4,
     "metadata": {},
     "output_type": "execute_result"
    }
   ],
   "source": [
    "# Insert some data (ind is the primary key, must be unique)\n",
    "session.execute(\"INSERT INTO my_first_table (ind, company, model) VALUES (1, 'Tesla', 'Model S');\")\n",
    "session.execute(\"INSERT INTO my_first_table (ind, company, model) VALUES (2, 'Tesla', 'Model 3');\")\n",
    "session.execute(\"INSERT INTO my_first_table (ind, company, model) VALUES (3, 'Polestar', '3');\")"
   ]
  },
  {
   "cell_type": "markdown",
   "metadata": {
    "slideshow": {
     "slide_type": "slide"
    }
   },
   "source": [
    "### Asyncronous writing\n",
    "- If your application is very data intensive, waiting for a response is not productive.\n",
    "- Writing asyncronously sends the data but does not pause for reply."
   ]
  },
  {
   "cell_type": "code",
   "execution_count": 5,
   "metadata": {
    "slideshow": {
     "slide_type": "-"
    }
   },
   "outputs": [
    {
     "data": {
      "text/plain": [
       "<ResponseFuture: query='<SimpleStatement query=\"INSERT INTO my_first_table (ind, company, model) VALUES (4, 'Volkswagen', 'ID.4');\", consistency=Not Set>' request_id=24 result=(no result yet) exception=None coordinator_host=None>"
      ]
     },
     "execution_count": 5,
     "metadata": {},
     "output_type": "execute_result"
    }
   ],
   "source": [
    "session.execute_async(\"INSERT INTO my_first_table (ind, company, model) VALUES (4, 'Volkswagen', 'ID.4');\")"
   ]
  },
  {
   "cell_type": "code",
   "execution_count": 6,
   "metadata": {
    "slideshow": {
     "slide_type": "slide"
    }
   },
   "outputs": [
    {
     "name": "stdout",
     "output_type": "stream",
     "text": [
      "Row(ind=1, company='Tesla', model='Model S')\n",
      "Row(ind=2, company='Tesla', model='Model 3')\n",
      "Row(ind=4, company='Volkswagen', model='ID.4')\n",
      "Row(ind=3, company='Polestar', model='3')\n"
     ]
    }
   ],
   "source": [
    "# Query the data\n",
    "rows = session.execute(\"SELECT * FROM my_first_table;\")\n",
    "for i in rows:\n",
    "    print(i)"
   ]
  },
  {
   "cell_type": "code",
   "execution_count": 7,
   "metadata": {
    "slideshow": {
     "slide_type": "slide"
    },
    "tags": [
     "raises-exception"
    ]
   },
   "outputs": [
    {
     "ename": "InvalidRequest",
     "evalue": "Error from server: code=2200 [Invalid query] message=\"Cannot execute this query as it might involve data filtering and thus may have unpredictable performance. If you want to execute this query despite the performance unpredictability, use ALLOW FILTERING\"",
     "output_type": "error",
     "traceback": [
      "\u001b[0;31m---------------------------------------------------------------------------\u001b[0m",
      "\u001b[0;31mInvalidRequest\u001b[0m                            Traceback (most recent call last)",
      "Cell \u001b[0;32mIn[7], line 2\u001b[0m\n\u001b[1;32m      1\u001b[0m \u001b[38;5;66;03m# More specific query\u001b[39;00m\n\u001b[0;32m----> 2\u001b[0m prepared_statement \u001b[38;5;241m=\u001b[39m \u001b[43msession\u001b[49m\u001b[38;5;241;43m.\u001b[39;49m\u001b[43mprepare\u001b[49m\u001b[43m(\u001b[49m\u001b[38;5;124;43m\"\u001b[39;49m\u001b[38;5;124;43mSELECT * FROM my_first_table WHERE company=?;\u001b[39;49m\u001b[38;5;124;43m\"\u001b[39;49m\u001b[43m)\u001b[49m \u001b[38;5;66;03m# <- will fail as company is not a key\u001b[39;00m\n\u001b[1;32m      3\u001b[0m teslas \u001b[38;5;241m=\u001b[39m session\u001b[38;5;241m.\u001b[39mexecute(prepared_statement, [\u001b[38;5;124m'\u001b[39m\u001b[38;5;124mTesla\u001b[39m\u001b[38;5;124m'\u001b[39m])\n\u001b[1;32m      4\u001b[0m \u001b[38;5;28;01mfor\u001b[39;00m i \u001b[38;5;129;01min\u001b[39;00m teslas:\n",
      "File \u001b[0;32m~/miniforge3/envs/IND320/lib/python3.11/site-packages/cassandra/cluster.py:3099\u001b[0m, in \u001b[0;36mcassandra.cluster.Session.prepare\u001b[0;34m()\u001b[0m\n",
      "File \u001b[0;32m~/miniforge3/envs/IND320/lib/python3.11/site-packages/cassandra/cluster.py:3096\u001b[0m, in \u001b[0;36mcassandra.cluster.Session.prepare\u001b[0;34m()\u001b[0m\n",
      "File \u001b[0;32m~/miniforge3/envs/IND320/lib/python3.11/site-packages/cassandra/cluster.py:4928\u001b[0m, in \u001b[0;36mcassandra.cluster.ResponseFuture.result\u001b[0;34m()\u001b[0m\n",
      "\u001b[0;31mInvalidRequest\u001b[0m: Error from server: code=2200 [Invalid query] message=\"Cannot execute this query as it might involve data filtering and thus may have unpredictable performance. If you want to execute this query despite the performance unpredictability, use ALLOW FILTERING\""
     ]
    }
   ],
   "source": [
    "# More specific query\n",
    "prepared_statement = session.prepare(\"SELECT * FROM my_first_table WHERE company=?;\") # <- will fail as company is not a key\n",
    "teslas = session.execute(prepared_statement, ['Tesla'])\n",
    "for i in teslas:\n",
    "    print(i)"
   ]
  },
  {
   "cell_type": "markdown",
   "metadata": {
    "slideshow": {
     "slide_type": "slide"
    }
   },
   "source": [
    "## Cassandra filtering\n",
    "Cassandra is inherently a distributed production database. Selecting as above may require downloading all data from a node, then filtering based on the WHERE part (only PRIMARY KEYs are centrally known). Solutions:  \n",
    "- If the table is small or most of the data will satisfy the query, add ```ALLOW FILTERING``` at the end of the query (not recommended if not known). \n",
    "- Or make sure the WHERE clause points to one of the keys (see below)."
   ]
  },
  {
   "cell_type": "code",
   "execution_count": 8,
   "metadata": {
    "slideshow": {
     "slide_type": "slide"
    }
   },
   "outputs": [
    {
     "data": {
      "text/plain": [
       "<cassandra.cluster.ResultSet at 0x1086a6fd0>"
      ]
     },
     "execution_count": 8,
     "metadata": {},
     "output_type": "execute_result"
    }
   ],
   "source": [
    "# Create a new table (observe keys)\n",
    "session.execute(\"DROP TABLE IF EXISTS my_first_keyspace.car_table;\")\n",
    "session.execute(\"CREATE TABLE IF NOT EXISTS car_table (company text, model text, PRIMARY KEY(company, model));\")"
   ]
  },
  {
   "cell_type": "code",
   "execution_count": 9,
   "metadata": {
    "slideshow": {
     "slide_type": "fragment"
    }
   },
   "outputs": [
    {
     "data": {
      "text/plain": [
       "<cassandra.cluster.ResultSet at 0x109962910>"
      ]
     },
     "execution_count": 9,
     "metadata": {},
     "output_type": "execute_result"
    }
   ],
   "source": [
    "# Insert some data (combination of company and model must be unique)\n",
    "session.execute(\"INSERT INTO car_table (company, model) VALUES ('Tesla', 'Model S');\")\n",
    "session.execute(\"INSERT INTO car_table (company, model) VALUES ('Tesla', 'Model 3');\")\n",
    "session.execute(\"INSERT INTO car_table (company, model) VALUES ('Polestar', '3');\")\n",
    "session.execute(\"INSERT INTO car_table (company, model) VALUES ('Volkswagen', 'ID.4');\")"
   ]
  },
  {
   "cell_type": "code",
   "execution_count": 10,
   "metadata": {
    "slideshow": {
     "slide_type": "slide"
    }
   },
   "outputs": [
    {
     "name": "stdout",
     "output_type": "stream",
     "text": [
      "Row(company='Tesla', model='Model 3')\n",
      "Row(company='Tesla', model='Model S')\n"
     ]
    }
   ],
   "source": [
    "# More specific query now works\n",
    "prepared_statement = session.prepare(\"SELECT * FROM car_table WHERE company=?;\")\n",
    "teslas = session.execute(prepared_statement, ['Tesla'])\n",
    "for i in teslas:\n",
    "    print(i)"
   ]
  },
  {
   "cell_type": "markdown",
   "metadata": {
    "slideshow": {
     "slide_type": "slide"
    }
   },
   "source": [
    "### Partitions\n",
    "- Cassandra databases are usually replicated over different nodes.\n",
    "- Data is stored in partitions (subsets) which have local copys.\n",
    "- The primary key, e.g., PRIMARY KEY(company, model), is used in partitioning.\n",
    "    - The first part, e.g., company, is most important.\n",
    "    - All cars from a company will be located together, aiming for quicker queries."
   ]
  },
  {
   "cell_type": "markdown",
   "metadata": {
    "slideshow": {
     "slide_type": "slide"
    }
   },
   "source": [
    "### Unique IDs \n",
    "- In MySQL one could use the attribute AUTO_INCREMENT on integer IDs to automatically make a new unique index when inserting data.\n",
    "- This would cause unreasonable overhead in a distributed database.\n",
    "- [UUID](https://en.wikipedia.org/wiki/Universally_unique_identifier)s are used instead.\n",
    "    - Universally Unique Identifiers are typically 128-bit random bit sequences with extremely low probability of duplication.\n",
    "    - Cassandra uses a [timeuuid](https://docs.datastax.com/en/cql-oss/3.3/cql/cql_reference/timeuuid_functions_r.html) type to combine a timestamp and uuid in one."
   ]
  },
  {
   "cell_type": "code",
   "execution_count": 11,
   "metadata": {
    "slideshow": {
     "slide_type": "fragment"
    }
   },
   "outputs": [
    {
     "data": {
      "text/plain": [
       "<cassandra.cluster.ResultSet at 0x1064f5250>"
      ]
     },
     "execution_count": 11,
     "metadata": {},
     "output_type": "execute_result"
    }
   ],
   "source": [
    "# Create a new table (first time only)\n",
    "session.set_keyspace('my_first_keyspace')\n",
    "session.execute(\"DROP TABLE IF EXISTS my_first_keyspace.table_with_uuid;\")\n",
    "session.execute(\"CREATE TABLE IF NOT EXISTS table_with_uuid (id timeuuid PRIMARY KEY, company text, model text, price float);\")"
   ]
  },
  {
   "cell_type": "code",
   "execution_count": 12,
   "metadata": {
    "slideshow": {
     "slide_type": "slide"
    }
   },
   "outputs": [
    {
     "data": {
      "text/plain": [
       "<cassandra.cluster.ResultSet at 0x109461c50>"
      ]
     },
     "execution_count": 12,
     "metadata": {},
     "output_type": "execute_result"
    }
   ],
   "source": [
    "session.execute(\"INSERT INTO table_with_uuid (id, company, model, price) VALUES (now(), 'Tesla', 'Model S', 20000.0);\")\n",
    "session.execute(\"INSERT INTO table_with_uuid (id, company, model, price) VALUES (now(), 'Tesla', 'Model S', 21000.0);\")\n",
    "session.execute(\"INSERT INTO table_with_uuid (id, company, model, price) VALUES (now(), 'Oldsmobile', 'Model 6C', 135000.0);\")"
   ]
  },
  {
   "cell_type": "code",
   "execution_count": 13,
   "metadata": {
    "slideshow": {
     "slide_type": "slide"
    }
   },
   "outputs": [
    {
     "name": "stdout",
     "output_type": "stream",
     "text": [
      "Row(id=UUID('c69e54a0-7c7f-11ee-8a0e-054caaf32d3b'), company='Tesla', model='Model S', price=21000.0)\n",
      "Datetime: 2023-11-06 08:37:53.002000\n",
      "Row(id=UUID('c69db860-7c7f-11ee-8a0e-054caaf32d3b'), company='Tesla', model='Model S', price=20000.0)\n",
      "Datetime: 2023-11-06 08:37:52.998000\n",
      "Row(id=UUID('c69ec9d0-7c7f-11ee-8a0e-054caaf32d3b'), company='Oldsmobile', model='Model 6C', price=135000.0)\n",
      "Datetime: 2023-11-06 08:37:53.005000\n"
     ]
    }
   ],
   "source": [
    "from cassandra.util import datetime_from_uuid1\n",
    "\n",
    "# Query the data\n",
    "rows = session.execute(\"SELECT * FROM table_with_uuid;\")\n",
    "for i in rows:\n",
    "    print(i)\n",
    "    # Extract the timestamp from Cassandra's timeuuid\n",
    "    print(\"Datetime:\", datetime_from_uuid1(i.id))"
   ]
  },
  {
   "cell_type": "markdown",
   "metadata": {
    "slideshow": {
     "slide_type": "slide"
    }
   },
   "source": [
    "## JSON in Cassandra\n",
    "### Read previously saved JSON file forecast.json to memory"
   ]
  },
  {
   "cell_type": "code",
   "execution_count": 14,
   "metadata": {
    "slideshow": {
     "slide_type": "-"
    }
   },
   "outputs": [],
   "source": [
    "import json\n",
    "with open('../3_APIs/downloads/forecast.json', 'r') as f:\n",
    "    forecast = json.load(f)"
   ]
  },
  {
   "cell_type": "code",
   "execution_count": 15,
   "metadata": {
    "slideshow": {
     "slide_type": "slide"
    }
   },
   "outputs": [
    {
     "data": {
      "text/plain": [
       "\"{'cod': '200', 'message': 0, 'cnt': 40, 'list': [{'dt': 1699261200, 'main': {'temp': 277.09, 'feels_like': 275.89, 'temp_min': 275.92, 'temp_max': 277.09, 'pressure': 992, 'sea_level': 992, 'grnd_level': 973, 'humidity': 98, 'temp_kf': 1.17}, 'weather': [{'id': 804, 'main': 'Clouds', 'description': 'overcast clouds', 'icon': '04d'}], 'clouds': {'all': 100}, 'wind': {'speed': 1.5, 'deg': 346, 'gust': 2.69}, 'visibility': 4626, 'pop': 0.02, 'sys': {'pod': 'd'}, 'dt_txt': '2023-11-06 09:00:00'}, {'dt': 1699272000, 'main': {'temp': 276.94, 'feels_like': 276.94, 'temp_min': 276.63, 'temp_max': 276.94, 'pressure': 992, 'sea_level': 992, 'grnd_level': 974, 'humidity': 99, 'temp_kf': 0.31}, 'weather': [{'id': 804, 'main': 'Clouds', 'description': 'overcast clouds', 'icon': '04d'}], 'clouds': {'all': 100}, 'wind': {'speed': 1.28, 'deg': 344, 'gust': 2.55}, 'visibility': 2477, 'pop': 0, 'sys': {'pod': 'd'}, 'dt_txt': '2023-11-06 12:00:00'}, {'dt': 1699282800, 'main': {'temp': 276.42, 'feels_like': 275.28, 'temp_min': 276.08, 'temp_max': 276.42, 'pressure': 993, 'sea_level': 993, 'grnd_level': 975, 'humidity': 97, 'temp_kf': 0.34}, 'weather': [{'id': 804, 'main': 'Clouds', 'description': 'overcast clouds', 'icon': '04d'}], 'clouds': {'all': 100}, 'wind': {'speed': 1.39, 'deg': 341, 'gust': 2.15}, 'visibility': 296, 'pop': 0, 'sys': {'pod': 'd'}, 'dt_txt': '2023-11-06 15:00:00'}, {'dt': 1699293600, 'main': {'temp': 273.89, 'feels_like': 272.06, 'temp_min': 273.89, 'temp_max': 273.89, 'pressure': 995, 'sea_level': 995, 'grnd_level': 977, 'humidity': 95, 'temp_kf': 0}, 'weather': [{'id': 804, 'main': 'Clouds', 'description': 'overcast clouds', 'icon': '04n'}], 'clouds': {'all': 100}, 'wind': {'speed': 1.62, 'deg': 326, 'gust': 1.58}, 'visibility': 10000, 'pop': 0.01, 'sys': {'pod': 'n'}, 'dt_txt': '2023-11-06 18:00:00'}, {'dt': 1699304400, 'main': {'temp': 272.7, 'feels_like': 270.2, 'temp_min': 272.7, 'temp_max': 272.7, 'pressure': 997, 'sea_level': 997, 'grnd_level': 978, 'humidity': 94, 'temp_kf': 0}, 'weather': [{'id': 804, 'main': 'Clouds', 'description': 'overcast clouds', 'icon': '04n'}], 'clouds': {'all': 100}, 'wind': {'speed': 1.98, 'deg': 315, 'gust': 2.28}, 'visibility': 10000, 'pop': 0, 'sys': {'pod': 'n'}, 'dt_txt': '2023-11-06 21:00:00'}, {'dt': 1699315200, 'main': {'temp': 271.46, 'feels_like': 268.38, 'temp_min': 271.46, 'temp_max': 271.46, 'pressure': 998, 'sea_level': 998, 'grnd_level': 980, 'humidity': 93, 'temp_kf': 0}, 'weather': [{'id': 804, 'main': 'Clouds', 'description': 'overcast clouds', 'icon': '04n'}], 'clouds': {'all': 99}, 'wind': {'speed': 2.28, 'deg': 316, 'gust': 3.35}, 'visibility': 10000, 'pop': 0.01, 'sys': {'pod': 'n'}, 'dt_txt': '2023-11-07 00:00:00'}, {'dt': 1699326000, 'main': {'temp': 269.97, 'feels_like': 266.62, 'temp_min': 269.97, 'temp_max': 269.97, 'pressure': 1000, 'sea_level': 1000, 'grnd_level': 981, 'humidity': 94, 'temp_kf': 0}, 'weather': [{'id': 803, 'main': 'Clouds', 'description': 'broken clouds', 'icon': '04n'}], 'clouds': {'all': 84}, 'wind': {'speed': 2.28, 'deg': 315, 'gust': 3.11}, 'visibility': 10000, 'pop': 0, 'sys': {'pod': 'n'}, 'dt_txt': '2023-11-07 03:00:00'}, {'dt': 1699336800, 'main': {'temp': 270.14, 'feels_like': 267.22, 'temp_min': 270.14, 'temp_max': 270.14, 'pressure': 1001, 'sea_level': 1001, 'grnd_level': 982, 'humidity': 94, 'temp_kf': 0}, 'weather': [{'id': 804, 'main': 'Clouds', 'description': 'overcast clouds', 'icon': '04n'}], 'clouds': {'all': 90}, 'wind': {'speed': 1.98, 'deg': 317, 'gust': 2.52}, 'visibility': 10000, 'pop': 0, 'sys': {'pod': 'n'}, 'dt_txt': '2023-11-07 06:00:00'}, {'dt': 1699347600, 'main': {'temp': 272.39, 'feels_like': 270.51, 'temp_min': 272.39, 'temp_max': 272.39, 'pressure': 1001, 'sea_level': 1001, 'grnd_level': 983, 'humidity': 91, 'temp_kf': 0}, 'weather': [{'id': 804, 'main': 'Clouds', 'description': 'overcast clouds', 'icon': '04d'}], 'clouds': {'all': 99}, 'wind': {'speed': 1.51, 'deg': 326, 'gust': 2.1}, 'visibility': 10000, 'pop': 0, 'sys': {'pod': 'd'}, 'dt_txt': '2023-11-07 09:00:00'}, {'dt': 1699358400, 'main': {'temp': 275.35, 'feels_like': 275.35, 'temp_min': 275.35, 'temp_max': 275.35, 'pressure': 1002, 'sea_level': 1002, 'grnd_level': 983, 'humidity': 91, 'temp_kf': 0}, 'weather': [{'id': 804, 'main': 'Clouds', 'description': 'overcast clouds', 'icon': '04d'}], 'clouds': {'all': 99}, 'wind': {'speed': 0.5, 'deg': 9, 'gust': 1.05}, 'visibility': 10000, 'pop': 0, 'sys': {'pod': 'd'}, 'dt_txt': '2023-11-07 12:00:00'}, {'dt': 1699369200, 'main': {'temp': 273.02, 'feels_like': 273.02, 'temp_min': 273.02, 'temp_max': 273.02, 'pressure': 1002, 'sea_level': 1002, 'grnd_level': 984, 'humidity': 97, 'temp_kf': 0}, 'weather': [{'id': 804, 'main': 'Clouds', 'description': 'overcast clouds', 'icon': '04d'}], 'clouds': {'all': 100}, 'wind': {'speed': 0.87, 'deg': 317, 'gust': 0.78}, 'visibility': 10000, 'pop': 0, 'sys': {'pod': 'd'}, 'dt_txt': '2023-11-07 15:00:00'}, {'dt': 1699380000, 'main': {'temp': 271.36, 'feels_like': 269.44, 'temp_min': 271.36, 'temp_max': 271.36, 'pressure': 1003, 'sea_level': 1003, 'grnd_level': 985, 'humidity': 96, 'temp_kf': 0}, 'weather': [{'id': 804, 'main': 'Clouds', 'description': 'overcast clouds', 'icon': '04n'}], 'clouds': {'all': 100}, 'wind': {'speed': 1.45, 'deg': 313, 'gust': 1.21}, 'visibility': 10000, 'pop': 0, 'sys': {'pod': 'n'}, 'dt_txt': '2023-11-07 18:00:00'}, {'dt': 1699390800, 'main': {'temp': 270.2, 'feels_like': 267.68, 'temp_min': 270.2, 'temp_max': 270.2, 'pressure': 1004, 'sea_level': 1004, 'grnd_level': 985, 'humidity': 95, 'temp_kf': 0}, 'weather': [{'id': 804, 'main': 'Clouds', 'description': 'overcast clouds', 'icon': '04n'}], 'clouds': {'all': 100}, 'wind': {'speed': 1.71, 'deg': 313, 'gust': 1.43}, 'visibility': 10000, 'pop': 0, 'sys': {'pod': 'n'}, 'dt_txt': '2023-11-07 21:00:00'}, {'dt': 1699401600, 'main': {'temp': 269.2, 'feels_like': 266.31, 'temp_min': 269.2, 'temp_max': 269.2, 'pressure': 1005, 'sea_level': 1005, 'grnd_level': 986, 'humidity': 95, 'temp_kf': 0}, 'weather': [{'id': 804, 'main': 'Clouds', 'description': 'overcast clouds', 'icon': '04n'}], 'clouds': {'all': 100}, 'wind': {'speed': 1.85, 'deg': 317, 'gust': 1.53}, 'visibility': 10000, 'pop': 0, 'sys': {'pod': 'n'}, 'dt_txt': '2023-11-08 00:00:00'}, {'dt': 1699412400, 'main': {'temp': 268.42, 'feels_like': 265.35, 'temp_min': 268.42, 'temp_max': 268.42, 'pressure': 1005, 'sea_level': 1005, 'grnd_level': 986, 'humidity': 95, 'temp_kf': 0}, 'weather': [{'id': 804, 'main': 'Clouds', 'description': 'overcast clouds', 'icon': '04n'}], 'clouds': {'all': 96}, 'wind': {'speed': 1.89, 'deg': 321, 'gust': 1.54}, 'visibility': 10000, 'pop': 0, 'sys': {'pod': 'n'}, 'dt_txt': '2023-11-08 03:00:00'}, {'dt': 1699423200, 'main': {'temp': 267.68, 'feels_like': 264.44, 'temp_min': 267.68, 'temp_max': 267.68, 'pressure': 1006, 'sea_level': 1006, 'grnd_level': 987, 'humidity': 95, 'temp_kf': 0}, 'weather': [{'id': 804, 'main': 'Clouds', 'description': 'overcast clouds', 'icon': '04n'}], 'clouds': {'all': 88}, 'wind': {'speed': 1.92, 'deg': 325, 'gust': 1.6}, 'visibility': 10000, 'pop': 0, 'sys': {'pod': 'n'}, 'dt_txt': '2023-11-08 06:00:00'}, {'dt': 1699434000, 'main': {'temp': 270.27, 'feels_like': 270.27, 'temp_min': 270.27, 'temp_max': 270.27, 'pressure': 1006, 'sea_level': 1006, 'grnd_level': 987, 'humidity': 92, 'temp_kf': 0}, 'weather': [{'id': 802, 'main': 'Clouds', 'description': 'scattered clouds', 'icon': '03d'}], 'clouds': {'all': 40}, 'wind': {'speed': 1.3, 'deg': 344, 'gust': 1.82}, 'visibility': 10000, 'pop': 0, 'sys': {'pod': 'd'}, 'dt_txt': '2023-11-08 09:00:00'}, {'dt': 1699444800, 'main': {'temp': 273.25, 'feels_like': 273.25, 'temp_min': 273.25, 'temp_max': 273.25, 'pressure': 1006, 'sea_level': 1006, 'grnd_level': 987, 'humidity': 90, 'temp_kf': 0}, 'weather': [{'id': 802, 'main': 'Clouds', 'description': 'scattered clouds', 'icon': '03d'}], 'clouds': {'all': 34}, 'wind': {'speed': 0.77, 'deg': 41, 'gust': 1.05}, 'visibility': 10000, 'pop': 0, 'sys': {'pod': 'd'}, 'dt_txt': '2023-11-08 12:00:00'}, {'dt': 1699455600, 'main': {'temp': 270.06, 'feels_like': 270.06, 'temp_min': 270.06, 'temp_max': 270.06, 'pressure': 1007, 'sea_level': 1007, 'grnd_level': 988, 'humidity': 98, 'temp_kf': 0}, 'weather': [{'id': 802, 'main': 'Clouds', 'description': 'scattered clouds', 'icon': '03d'}], 'clouds': {'all': 45}, 'wind': {'speed': 1.07, 'deg': 335, 'gust': 0.98}, 'visibility': 8923, 'pop': 0, 'sys': {'pod': 'd'}, 'dt_txt': '2023-11-08 15:00:00'}, {'dt': 1699466400, 'main': {'temp': 272.63, 'feels_like': 272.63, 'temp_min': 272.63, 'temp_max': 272.63, 'pressure': 1006, 'sea_level': 1006, 'grnd_level': 987, 'humidity': 96, 'temp_kf': 0}, 'weather': [{'id': 803, 'main': 'Clouds', 'description': 'broken clouds', 'icon': '04n'}], 'clouds': {'all': 72}, 'wind': {'speed': 0.87, 'deg': 347, 'gust': 1.08}, 'visibility': 8368, 'pop': 0, 'sys': {'pod': 'n'}, 'dt_txt': '2023-11-08 18:00:00'}, {'dt': 1699477200, 'main': {'temp': 273.16, 'feels_like': 273.16, 'temp_min': 273.16, 'temp_max': 273.16, 'pressure': 1005, 'sea_level': 1005, 'grnd_level': 987, 'humidity': 98, 'temp_kf': 0}, 'weather': [{'id': 600, 'main': 'Snow', 'description': 'light snow', 'icon': '13n'}], 'clouds': {'all': 100}, 'wind': {'speed': 0.23, 'deg': 28, 'gust': 0.49}, 'visibility': 406, 'pop': 0.23, 'snow': {'3h': 0.12}, 'sys': {'pod': 'n'}, 'dt_txt': '2023-11-08 21:00:00'}, {'dt': 1699488000, 'main': {'temp': 273.44, 'feels_like': 273.44, 'temp_min': 273.44, 'temp_max': 273.44, 'pressure': 1003, 'sea_level': 1003, 'grnd_level': 985, 'humidity': 98, 'temp_kf': 0}, 'weather': [{'id': 600, 'main': 'Snow', 'description': 'light snow', 'icon': '13n'}], 'clouds': {'all': 100}, 'wind': {'speed': 1.03, 'deg': 52, 'gust': 1.54}, 'visibility': 120, 'pop': 0.85, 'snow': {'3h': 1.1}, 'sys': {'pod': 'n'}, 'dt_txt': '2023-11-09 00:00:00'}, {'dt': 1699498800, 'main': {'temp': 273.89, 'feels_like': 273.89, 'temp_min': 273.89, 'temp_max': 273.89, 'pressure': 1001, 'sea_level': 1001, 'grnd_level': 982, 'humidity': 99, 'temp_kf': 0}, 'weather': [{'id': 601, 'main': 'Snow', 'description': 'snow', 'icon': '13n'}], 'clouds': {'all': 100}, 'wind': {'speed': 1.06, 'deg': 41, 'gust': 1.83}, 'visibility': 88, 'pop': 1, 'snow': {'3h': 3.9}, 'sys': {'pod': 'n'}, 'dt_txt': '2023-11-09 03:00:00'}, {'dt': 1699509600, 'main': {'temp': 274.6, 'feels_like': 272.82, 'temp_min': 274.6, 'temp_max': 274.6, 'pressure': 999, 'sea_level': 999, 'grnd_level': 981, 'humidity': 99, 'temp_kf': 0}, 'weather': [{'id': 601, 'main': 'Snow', 'description': 'snow', 'icon': '13n'}], 'clouds': {'all': 100}, 'wind': {'speed': 1.66, 'deg': 29, 'gust': 2.83}, 'visibility': 83, 'pop': 1, 'snow': {'3h': 5.13}, 'sys': {'pod': 'n'}, 'dt_txt': '2023-11-09 06:00:00'}, {'dt': 1699520400, 'main': {'temp': 274.92, 'feels_like': 272.81, 'temp_min': 274.92, 'temp_max': 274.92, 'pressure': 999, 'sea_level': 999, 'grnd_level': 980, 'humidity': 99, 'temp_kf': 0}, 'weather': [{'id': 601, 'main': 'Snow', 'description': 'snow', 'icon': '13d'}], 'clouds': {'all': 100}, 'wind': {'speed': 1.95, 'deg': 23, 'gust': 3.07}, 'visibility': 75, 'pop': 1, 'snow': {'3h': 5.57}, 'sys': {'pod': 'd'}, 'dt_txt': '2023-11-09 09:00:00'}, {'dt': 1699531200, 'main': {'temp': 275.31, 'feels_like': 273.79, 'temp_min': 275.31, 'temp_max': 275.31, 'pressure': 998, 'sea_level': 998, 'grnd_level': 980, 'humidity': 100, 'temp_kf': 0}, 'weather': [{'id': 601, 'main': 'Snow', 'description': 'snow', 'icon': '13d'}], 'clouds': {'all': 100}, 'wind': {'speed': 1.55, 'deg': 21, 'gust': 2.58}, 'visibility': 68, 'pop': 1, 'snow': {'3h': 6.22}, 'sys': {'pod': 'd'}, 'dt_txt': '2023-11-09 12:00:00'}, {'dt': 1699542000, 'main': {'temp': 275.32, 'feels_like': 275.32, 'temp_min': 275.32, 'temp_max': 275.32, 'pressure': 999, 'sea_level': 999, 'grnd_level': 980, 'humidity': 99, 'temp_kf': 0}, 'weather': [{'id': 500, 'main': 'Rain', 'description': 'light rain', 'icon': '10d'}], 'clouds': {'all': 100}, 'wind': {'speed': 1.33, 'deg': 345, 'gust': 2.64}, 'visibility': 79, 'pop': 0.72, 'rain': {'3h': 0.11}, 'sys': {'pod': 'd'}, 'dt_txt': '2023-11-09 15:00:00'}, {'dt': 1699552800, 'main': {'temp': 275.37, 'feels_like': 275.37, 'temp_min': 275.37, 'temp_max': 275.37, 'pressure': 1000, 'sea_level': 1000, 'grnd_level': 982, 'humidity': 99, 'temp_kf': 0}, 'weather': [{'id': 600, 'main': 'Snow', 'description': 'light snow', 'icon': '13n'}], 'clouds': {'all': 100}, 'wind': {'speed': 0.82, 'deg': 2, 'gust': 0.93}, 'visibility': 3395, 'pop': 0.68, 'snow': {'3h': 0.11}, 'sys': {'pod': 'n'}, 'dt_txt': '2023-11-09 18:00:00'}, {'dt': 1699563600, 'main': {'temp': 275.37, 'feels_like': 275.37, 'temp_min': 275.37, 'temp_max': 275.37, 'pressure': 1001, 'sea_level': 1001, 'grnd_level': 982, 'humidity': 100, 'temp_kf': 0}, 'weather': [{'id': 804, 'main': 'Clouds', 'description': 'overcast clouds', 'icon': '04n'}], 'clouds': {'all': 100}, 'wind': {'speed': 0.93, 'deg': 33, 'gust': 1.01}, 'visibility': 6928, 'pop': 0.04, 'sys': {'pod': 'n'}, 'dt_txt': '2023-11-09 21:00:00'}, {'dt': 1699574400, 'main': {'temp': 275.49, 'feels_like': 275.49, 'temp_min': 275.49, 'temp_max': 275.49, 'pressure': 1001, 'sea_level': 1001, 'grnd_level': 982, 'humidity': 100, 'temp_kf': 0}, 'weather': [{'id': 804, 'main': 'Clouds', 'description': 'overcast clouds', 'icon': '04n'}], 'clouds': {'all': 100}, 'wind': {'speed': 1.29, 'deg': 23, 'gust': 1.78}, 'visibility': 6513, 'pop': 0.04, 'sys': {'pod': 'n'}, 'dt_txt': '2023-11-10 00:00:00'}, {'dt': 1699585200, 'main': {'temp': 275.56, 'feels_like': 274.07, 'temp_min': 275.56, 'temp_max': 275.56, 'pressure': 1000, 'sea_level': 1000, 'grnd_level': 981, 'humidity': 100, 'temp_kf': 0}, 'weather': [{'id': 601, 'main': 'Snow', 'description': 'snow', 'icon': '13n'}], 'clouds': {'all': 100}, 'wind': {'speed': 1.55, 'deg': 31, 'gust': 3.06}, 'visibility': 93, 'pop': 1, 'snow': {'3h': 2.63}, 'sys': {'pod': 'n'}, 'dt_txt': '2023-11-10 03:00:00'}, {'dt': 1699596000, 'main': {'temp': 275.52, 'feels_like': 275.52, 'temp_min': 275.52, 'temp_max': 275.52, 'pressure': 1000, 'sea_level': 1000, 'grnd_level': 982, 'humidity': 100, 'temp_kf': 0}, 'weather': [{'id': 501, 'main': 'Rain', 'description': 'moderate rain', 'icon': '10n'}], 'clouds': {'all': 100}, 'wind': {'speed': 1.06, 'deg': 26, 'gust': 2.21}, 'visibility': 46, 'pop': 1, 'rain': {'3h': 4.51}, 'sys': {'pod': 'n'}, 'dt_txt': '2023-11-10 06:00:00'}, {'dt': 1699606800, 'main': {'temp': 275.68, 'feels_like': 275.68, 'temp_min': 275.68, 'temp_max': 275.68, 'pressure': 1002, 'sea_level': 1002, 'grnd_level': 984, 'humidity': 100, 'temp_kf': 0}, 'weather': [{'id': 600, 'main': 'Snow', 'description': 'light snow', 'icon': '13d'}], 'clouds': {'all': 100}, 'wind': {'speed': 1.22, 'deg': 21, 'gust': 1.85}, 'visibility': 74, 'pop': 0.68, 'snow': {'3h': 0.85}, 'sys': {'pod': 'd'}, 'dt_txt': '2023-11-10 09:00:00'}, {'dt': 1699617600, 'main': {'temp': 275.77, 'feels_like': 275.77, 'temp_min': 275.77, 'temp_max': 275.77, 'pressure': 1004, 'sea_level': 1004, 'grnd_level': 985, 'humidity': 100, 'temp_kf': 0}, 'weather': [{'id': 500, 'main': 'Rain', 'description': 'light rain', 'icon': '10d'}], 'clouds': {'all': 100}, 'wind': {'speed': 1.19, 'deg': 29, 'gust': 1.87}, 'visibility': 50, 'pop': 0.6, 'rain': {'3h': 0.12}, 'sys': {'pod': 'd'}, 'dt_txt': '2023-11-10 12:00:00'}, {'dt': 1699628400, 'main': {'temp': 275.72, 'feels_like': 274.43, 'temp_min': 275.72, 'temp_max': 275.72, 'pressure': 1005, 'sea_level': 1005, 'grnd_level': 986, 'humidity': 100, 'temp_kf': 0}, 'weather': [{'id': 804, 'main': 'Clouds', 'description': 'overcast clouds', 'icon': '04d'}], 'clouds': {'all': 100}, 'wind': {'speed': 1.43, 'deg': 15, 'gust': 2.42}, 'visibility': 71, 'pop': 0.03, 'sys': {'pod': 'd'}, 'dt_txt': '2023-11-10 15:00:00'}, {'dt': 1699639200, 'main': {'temp': 275.33, 'feels_like': 273.87, 'temp_min': 275.33, 'temp_max': 275.33, 'pressure': 1006, 'sea_level': 1006, 'grnd_level': 987, 'humidity': 100, 'temp_kf': 0}, 'weather': [{'id': 601, 'main': 'Snow', 'description': 'snow', 'icon': '13n'}], 'clouds': {'all': 100}, 'wind': {'speed': 1.51, 'deg': 27, 'gust': 2.82}, 'visibility': 37, 'pop': 0.64, 'snow': {'3h': 1.61}, 'sys': {'pod': 'n'}, 'dt_txt': '2023-11-10 18:00:00'}, {'dt': 1699650000, 'main': {'temp': 275.4, 'feels_like': 273.75, 'temp_min': 275.4, 'temp_max': 275.4, 'pressure': 1007, 'sea_level': 1007, 'grnd_level': 988, 'humidity': 100, 'temp_kf': 0}, 'weather': [{'id': 601, 'main': 'Snow', 'description': 'snow', 'icon': '13n'}], 'clouds': {'all': 100}, 'wind': {'speed': 1.65, 'deg': 19, 'gust': 3.68}, 'visibility': 35, 'pop': 0.97, 'snow': {'3h': 3.06}, 'sys': {'pod': 'n'}, 'dt_txt': '2023-11-10 21:00:00'}, {'dt': 1699660800, 'main': {'temp': 275.44, 'feels_like': 273.89, 'temp_min': 275.44, 'temp_max': 275.44, 'pressure': 1008, 'sea_level': 1008, 'grnd_level': 989, 'humidity': 100, 'temp_kf': 0}, 'weather': [{'id': 601, 'main': 'Snow', 'description': 'snow', 'icon': '13n'}], 'clouds': {'all': 100}, 'wind': {'speed': 1.58, 'deg': 21, 'gust': 4.28}, 'visibility': 27, 'pop': 1, 'snow': {'3h': 2.2}, 'sys': {'pod': 'n'}, 'dt_txt': '2023-11-11 00:00:00'}, {'dt': 1699671600, 'main': {'temp': 275.48, 'feels_like': 274.04, 'temp_min': 275.48, 'temp_max': 275.48, 'pressure': 1009, 'sea_level': 1009, 'grnd_level': 990, 'humidity': 100, 'temp_kf': 0}, 'weather': [{'id': 600, 'main': 'Snow', 'description': 'light snow', 'icon': '13n'}], 'clouds': {'all': 100}, 'wind': {'speed': 1.51, 'deg': 22, 'gust': 4.5}, 'visibility': 26, 'pop': 0.98, 'snow': {'3h': 1.49}, 'sys': {'pod': 'n'}, 'dt_txt': '2023-11-11 03:00:00'}, {'dt': 1699682400, 'main': {'temp': 275.23, 'feels_like': 275.23, 'temp_min': 275.23, 'temp_max': 275.23, 'pressure': 1009, 'sea_level': 1009, 'grnd_level': 991, 'humidity': 99, 'temp_kf': 0}, 'weather': [{'id': 600, 'main': 'Snow', 'description': 'light snow', 'icon': '13n'}], 'clouds': {'all': 100}, 'wind': {'speed': 1.29, 'deg': 12, 'gust': 3.71}, 'visibility': 45, 'pop': 0.95, 'snow': {'3h': 0.4}, 'sys': {'pod': 'n'}, 'dt_txt': '2023-11-11 06:00:00'}], 'city': {'id': 3144113, 'name': 'Noresund', 'coord': {'lat': 60.1803, 'lon': 9.6231}, 'country': 'NO', 'population': 1000, 'timezone': 3600, 'sunrise': 1699253771, 'sunset': 1699283642}}\""
      ]
     },
     "execution_count": 15,
     "metadata": {},
     "output_type": "execute_result"
    }
   ],
   "source": [
    "# Inspect JSON file\n",
    "forecast.__str__()"
   ]
  },
  {
   "cell_type": "markdown",
   "metadata": {
    "slideshow": {
     "slide_type": "slide"
    }
   },
   "source": [
    "## Raw JSON\n",
    "- A simple, but not very efficient way of storing JSON data is to treat it as a text and save it directly to the database.  \n",
    "- More efficient, with regard to transfer, is to compress the JSON data to a blob first.\n",
    "    - Compression is automatic."
   ]
  },
  {
   "cell_type": "code",
   "execution_count": 16,
   "metadata": {
    "slideshow": {
     "slide_type": "-"
    }
   },
   "outputs": [
    {
     "data": {
      "text/plain": [
       "<cassandra.cluster.ResultSet at 0x109025890>"
      ]
     },
     "execution_count": 16,
     "metadata": {},
     "output_type": "execute_result"
    }
   ],
   "source": [
    "# Create a new table which treats the whole JSON as a blob, using the city id and the first dt as keys\n",
    "session.set_keyspace('my_first_keyspace')\n",
    "session.execute(\"DROP TABLE IF EXISTS my_first_keyspace.forecast_table;\")\n",
    "session.execute(\"CREATE TABLE IF NOT EXISTS forecast_table (city_id int, dt int, forecast blob, PRIMARY KEY(city_id, dt));\")"
   ]
  },
  {
   "cell_type": "markdown",
   "metadata": {
    "slideshow": {
     "slide_type": "slide"
    }
   },
   "source": [
    "### Insert the forecast data into the table as text blob"
   ]
  },
  {
   "cell_type": "code",
   "execution_count": 17,
   "metadata": {
    "slideshow": {
     "slide_type": "-"
    }
   },
   "outputs": [
    {
     "data": {
      "text/plain": [
       "<cassandra.cluster.ResultSet at 0x1080e9bd0>"
      ]
     },
     "execution_count": 17,
     "metadata": {},
     "output_type": "execute_result"
    }
   ],
   "source": [
    "session.execute(\"INSERT INTO forecast_table (city_id, dt, forecast) VALUES (%s, %s, textAsBlob(%s));\", (forecast['city']['id'], forecast['list'][0]['dt'], forecast.__str__()))"
   ]
  },
  {
   "cell_type": "code",
   "execution_count": 18,
   "metadata": {
    "slideshow": {
     "slide_type": "slide"
    }
   },
   "outputs": [
    {
     "name": "stdout",
     "output_type": "stream",
     "text": [
      "Row(city_id=3144113, dt=1699261200, forecast=b\"{'cod': '200', 'message': 0, 'cnt': 40, 'list': [{'dt': 1699261200, 'main': {'temp': 277.09, 'feels_like': 275.89, 'temp_min': 275.92, 'temp_max': 277.09, 'pressure': 992, 'sea_level': 992, 'grnd_level': 973, 'humidity': 98, 'temp_kf': 1.17}, 'weather': [{'id': 804, 'main': 'Clouds', 'description': 'overcast clouds', 'icon': '04d'}], 'clouds': {'all': 100}, 'wind': {'speed': 1.5, 'deg': 346, 'gust': 2.69}, 'visibility': 4626, 'pop': 0.02, 'sys': {'pod': 'd'}, 'dt_txt': '2023-11-06 09:00:00'}, {'dt': 1699272000, 'main': {'temp': 276.94, 'feels_like': 276.94, 'temp_min': 276.63, 'temp_max': 276.94, 'pressure': 992, 'sea_level': 992, 'grnd_level': 974, 'humidity': 99, 'temp_kf': 0.31}, 'weather': [{'id': 804, 'main': 'Clouds', 'description': 'overcast clouds', 'icon': '04d'}], 'clouds': {'all': 100}, 'wind': {'speed': 1.28, 'deg': 344, 'gust': 2.55}, 'visibility': 2477, 'pop': 0, 'sys': {'pod': 'd'}, 'dt_txt': '2023-11-06 12:00:00'}, {'dt': 1699282800, 'main': {'temp': 276.42, 'feels_like': 275.28, 'temp_min': 276.08, 'temp_max': 276.42, 'pressure': 993, 'sea_level': 993, 'grnd_level': 975, 'humidity': 97, 'temp_kf': 0.34}, 'weather': [{'id': 804, 'main': 'Clouds', 'description': 'overcast clouds', 'icon': '04d'}], 'clouds': {'all': 100}, 'wind': {'speed': 1.39, 'deg': 341, 'gust': 2.15}, 'visibility': 296, 'pop': 0, 'sys': {'pod': 'd'}, 'dt_txt': '2023-11-06 15:00:00'}, {'dt': 1699293600, 'main': {'temp': 273.89, 'feels_like': 272.06, 'temp_min': 273.89, 'temp_max': 273.89, 'pressure': 995, 'sea_level': 995, 'grnd_level': 977, 'humidity': 95, 'temp_kf': 0}, 'weather': [{'id': 804, 'main': 'Clouds', 'description': 'overcast clouds', 'icon': '04n'}], 'clouds': {'all': 100}, 'wind': {'speed': 1.62, 'deg': 326, 'gust': 1.58}, 'visibility': 10000, 'pop': 0.01, 'sys': {'pod': 'n'}, 'dt_txt': '2023-11-06 18:00:00'}, {'dt': 1699304400, 'main': {'temp': 272.7, 'feels_like': 270.2, 'temp_min': 272.7, 'temp_max': 272.7, 'pressure': 997, 'sea_level': 997, 'grnd_level': 978, 'humidity': 94, 'temp_kf': 0}, 'weather': [{'id': 804, 'main': 'Clouds', 'description': 'overcast clouds', 'icon': '04n'}], 'clouds': {'all': 100}, 'wind': {'speed': 1.98, 'deg': 315, 'gust': 2.28}, 'visibility': 10000, 'pop': 0, 'sys': {'pod': 'n'}, 'dt_txt': '2023-11-06 21:00:00'}, {'dt': 1699315200, 'main': {'temp': 271.46, 'feels_like': 268.38, 'temp_min': 271.46, 'temp_max': 271.46, 'pressure': 998, 'sea_level': 998, 'grnd_level': 980, 'humidity': 93, 'temp_kf': 0}, 'weather': [{'id': 804, 'main': 'Clouds', 'description': 'overcast clouds', 'icon': '04n'}], 'clouds': {'all': 99}, 'wind': {'speed': 2.28, 'deg': 316, 'gust': 3.35}, 'visibility': 10000, 'pop': 0.01, 'sys': {'pod': 'n'}, 'dt_txt': '2023-11-07 00:00:00'}, {'dt': 1699326000, 'main': {'temp': 269.97, 'feels_like': 266.62, 'temp_min': 269.97, 'temp_max': 269.97, 'pressure': 1000, 'sea_level': 1000, 'grnd_level': 981, 'humidity': 94, 'temp_kf': 0}, 'weather': [{'id': 803, 'main': 'Clouds', 'description': 'broken clouds', 'icon': '04n'}], 'clouds': {'all': 84}, 'wind': {'speed': 2.28, 'deg': 315, 'gust': 3.11}, 'visibility': 10000, 'pop': 0, 'sys': {'pod': 'n'}, 'dt_txt': '2023-11-07 03:00:00'}, {'dt': 1699336800, 'main': {'temp': 270.14, 'feels_like': 267.22, 'temp_min': 270.14, 'temp_max': 270.14, 'pressure': 1001, 'sea_level': 1001, 'grnd_level': 982, 'humidity': 94, 'temp_kf': 0}, 'weather': [{'id': 804, 'main': 'Clouds', 'description': 'overcast clouds', 'icon': '04n'}], 'clouds': {'all': 90}, 'wind': {'speed': 1.98, 'deg': 317, 'gust': 2.52}, 'visibility': 10000, 'pop': 0, 'sys': {'pod': 'n'}, 'dt_txt': '2023-11-07 06:00:00'}, {'dt': 1699347600, 'main': {'temp': 272.39, 'feels_like': 270.51, 'temp_min': 272.39, 'temp_max': 272.39, 'pressure': 1001, 'sea_level': 1001, 'grnd_level': 983, 'humidity': 91, 'temp_kf': 0}, 'weather': [{'id': 804, 'main': 'Clouds', 'description': 'overcast clouds', 'icon': '04d'}], 'clouds': {'all': 99}, 'wind': {'speed': 1.51, 'deg': 326, 'gust': 2.1}, 'visibility': 10000, 'pop': 0, 'sys': {'pod': 'd'}, 'dt_txt': '2023-11-07 09:00:00'}, {'dt': 1699358400, 'main': {'temp': 275.35, 'feels_like': 275.35, 'temp_min': 275.35, 'temp_max': 275.35, 'pressure': 1002, 'sea_level': 1002, 'grnd_level': 983, 'humidity': 91, 'temp_kf': 0}, 'weather': [{'id': 804, 'main': 'Clouds', 'description': 'overcast clouds', 'icon': '04d'}], 'clouds': {'all': 99}, 'wind': {'speed': 0.5, 'deg': 9, 'gust': 1.05}, 'visibility': 10000, 'pop': 0, 'sys': {'pod': 'd'}, 'dt_txt': '2023-11-07 12:00:00'}, {'dt': 1699369200, 'main': {'temp': 273.02, 'feels_like': 273.02, 'temp_min': 273.02, 'temp_max': 273.02, 'pressure': 1002, 'sea_level': 1002, 'grnd_level': 984, 'humidity': 97, 'temp_kf': 0}, 'weather': [{'id': 804, 'main': 'Clouds', 'description': 'overcast clouds', 'icon': '04d'}], 'clouds': {'all': 100}, 'wind': {'speed': 0.87, 'deg': 317, 'gust': 0.78}, 'visibility': 10000, 'pop': 0, 'sys': {'pod': 'd'}, 'dt_txt': '2023-11-07 15:00:00'}, {'dt': 1699380000, 'main': {'temp': 271.36, 'feels_like': 269.44, 'temp_min': 271.36, 'temp_max': 271.36, 'pressure': 1003, 'sea_level': 1003, 'grnd_level': 985, 'humidity': 96, 'temp_kf': 0}, 'weather': [{'id': 804, 'main': 'Clouds', 'description': 'overcast clouds', 'icon': '04n'}], 'clouds': {'all': 100}, 'wind': {'speed': 1.45, 'deg': 313, 'gust': 1.21}, 'visibility': 10000, 'pop': 0, 'sys': {'pod': 'n'}, 'dt_txt': '2023-11-07 18:00:00'}, {'dt': 1699390800, 'main': {'temp': 270.2, 'feels_like': 267.68, 'temp_min': 270.2, 'temp_max': 270.2, 'pressure': 1004, 'sea_level': 1004, 'grnd_level': 985, 'humidity': 95, 'temp_kf': 0}, 'weather': [{'id': 804, 'main': 'Clouds', 'description': 'overcast clouds', 'icon': '04n'}], 'clouds': {'all': 100}, 'wind': {'speed': 1.71, 'deg': 313, 'gust': 1.43}, 'visibility': 10000, 'pop': 0, 'sys': {'pod': 'n'}, 'dt_txt': '2023-11-07 21:00:00'}, {'dt': 1699401600, 'main': {'temp': 269.2, 'feels_like': 266.31, 'temp_min': 269.2, 'temp_max': 269.2, 'pressure': 1005, 'sea_level': 1005, 'grnd_level': 986, 'humidity': 95, 'temp_kf': 0}, 'weather': [{'id': 804, 'main': 'Clouds', 'description': 'overcast clouds', 'icon': '04n'}], 'clouds': {'all': 100}, 'wind': {'speed': 1.85, 'deg': 317, 'gust': 1.53}, 'visibility': 10000, 'pop': 0, 'sys': {'pod': 'n'}, 'dt_txt': '2023-11-08 00:00:00'}, {'dt': 1699412400, 'main': {'temp': 268.42, 'feels_like': 265.35, 'temp_min': 268.42, 'temp_max': 268.42, 'pressure': 1005, 'sea_level': 1005, 'grnd_level': 986, 'humidity': 95, 'temp_kf': 0}, 'weather': [{'id': 804, 'main': 'Clouds', 'description': 'overcast clouds', 'icon': '04n'}], 'clouds': {'all': 96}, 'wind': {'speed': 1.89, 'deg': 321, 'gust': 1.54}, 'visibility': 10000, 'pop': 0, 'sys': {'pod': 'n'}, 'dt_txt': '2023-11-08 03:00:00'}, {'dt': 1699423200, 'main': {'temp': 267.68, 'feels_like': 264.44, 'temp_min': 267.68, 'temp_max': 267.68, 'pressure': 1006, 'sea_level': 1006, 'grnd_level': 987, 'humidity': 95, 'temp_kf': 0}, 'weather': [{'id': 804, 'main': 'Clouds', 'description': 'overcast clouds', 'icon': '04n'}], 'clouds': {'all': 88}, 'wind': {'speed': 1.92, 'deg': 325, 'gust': 1.6}, 'visibility': 10000, 'pop': 0, 'sys': {'pod': 'n'}, 'dt_txt': '2023-11-08 06:00:00'}, {'dt': 1699434000, 'main': {'temp': 270.27, 'feels_like': 270.27, 'temp_min': 270.27, 'temp_max': 270.27, 'pressure': 1006, 'sea_level': 1006, 'grnd_level': 987, 'humidity': 92, 'temp_kf': 0}, 'weather': [{'id': 802, 'main': 'Clouds', 'description': 'scattered clouds', 'icon': '03d'}], 'clouds': {'all': 40}, 'wind': {'speed': 1.3, 'deg': 344, 'gust': 1.82}, 'visibility': 10000, 'pop': 0, 'sys': {'pod': 'd'}, 'dt_txt': '2023-11-08 09:00:00'}, {'dt': 1699444800, 'main': {'temp': 273.25, 'feels_like': 273.25, 'temp_min': 273.25, 'temp_max': 273.25, 'pressure': 1006, 'sea_level': 1006, 'grnd_level': 987, 'humidity': 90, 'temp_kf': 0}, 'weather': [{'id': 802, 'main': 'Clouds', 'description': 'scattered clouds', 'icon': '03d'}], 'clouds': {'all': 34}, 'wind': {'speed': 0.77, 'deg': 41, 'gust': 1.05}, 'visibility': 10000, 'pop': 0, 'sys': {'pod': 'd'}, 'dt_txt': '2023-11-08 12:00:00'}, {'dt': 1699455600, 'main': {'temp': 270.06, 'feels_like': 270.06, 'temp_min': 270.06, 'temp_max': 270.06, 'pressure': 1007, 'sea_level': 1007, 'grnd_level': 988, 'humidity': 98, 'temp_kf': 0}, 'weather': [{'id': 802, 'main': 'Clouds', 'description': 'scattered clouds', 'icon': '03d'}], 'clouds': {'all': 45}, 'wind': {'speed': 1.07, 'deg': 335, 'gust': 0.98}, 'visibility': 8923, 'pop': 0, 'sys': {'pod': 'd'}, 'dt_txt': '2023-11-08 15:00:00'}, {'dt': 1699466400, 'main': {'temp': 272.63, 'feels_like': 272.63, 'temp_min': 272.63, 'temp_max': 272.63, 'pressure': 1006, 'sea_level': 1006, 'grnd_level': 987, 'humidity': 96, 'temp_kf': 0}, 'weather': [{'id': 803, 'main': 'Clouds', 'description': 'broken clouds', 'icon': '04n'}], 'clouds': {'all': 72}, 'wind': {'speed': 0.87, 'deg': 347, 'gust': 1.08}, 'visibility': 8368, 'pop': 0, 'sys': {'pod': 'n'}, 'dt_txt': '2023-11-08 18:00:00'}, {'dt': 1699477200, 'main': {'temp': 273.16, 'feels_like': 273.16, 'temp_min': 273.16, 'temp_max': 273.16, 'pressure': 1005, 'sea_level': 1005, 'grnd_level': 987, 'humidity': 98, 'temp_kf': 0}, 'weather': [{'id': 600, 'main': 'Snow', 'description': 'light snow', 'icon': '13n'}], 'clouds': {'all': 100}, 'wind': {'speed': 0.23, 'deg': 28, 'gust': 0.49}, 'visibility': 406, 'pop': 0.23, 'snow': {'3h': 0.12}, 'sys': {'pod': 'n'}, 'dt_txt': '2023-11-08 21:00:00'}, {'dt': 1699488000, 'main': {'temp': 273.44, 'feels_like': 273.44, 'temp_min': 273.44, 'temp_max': 273.44, 'pressure': 1003, 'sea_level': 1003, 'grnd_level': 985, 'humidity': 98, 'temp_kf': 0}, 'weather': [{'id': 600, 'main': 'Snow', 'description': 'light snow', 'icon': '13n'}], 'clouds': {'all': 100}, 'wind': {'speed': 1.03, 'deg': 52, 'gust': 1.54}, 'visibility': 120, 'pop': 0.85, 'snow': {'3h': 1.1}, 'sys': {'pod': 'n'}, 'dt_txt': '2023-11-09 00:00:00'}, {'dt': 1699498800, 'main': {'temp': 273.89, 'feels_like': 273.89, 'temp_min': 273.89, 'temp_max': 273.89, 'pressure': 1001, 'sea_level': 1001, 'grnd_level': 982, 'humidity': 99, 'temp_kf': 0}, 'weather': [{'id': 601, 'main': 'Snow', 'description': 'snow', 'icon': '13n'}], 'clouds': {'all': 100}, 'wind': {'speed': 1.06, 'deg': 41, 'gust': 1.83}, 'visibility': 88, 'pop': 1, 'snow': {'3h': 3.9}, 'sys': {'pod': 'n'}, 'dt_txt': '2023-11-09 03:00:00'}, {'dt': 1699509600, 'main': {'temp': 274.6, 'feels_like': 272.82, 'temp_min': 274.6, 'temp_max': 274.6, 'pressure': 999, 'sea_level': 999, 'grnd_level': 981, 'humidity': 99, 'temp_kf': 0}, 'weather': [{'id': 601, 'main': 'Snow', 'description': 'snow', 'icon': '13n'}], 'clouds': {'all': 100}, 'wind': {'speed': 1.66, 'deg': 29, 'gust': 2.83}, 'visibility': 83, 'pop': 1, 'snow': {'3h': 5.13}, 'sys': {'pod': 'n'}, 'dt_txt': '2023-11-09 06:00:00'}, {'dt': 1699520400, 'main': {'temp': 274.92, 'feels_like': 272.81, 'temp_min': 274.92, 'temp_max': 274.92, 'pressure': 999, 'sea_level': 999, 'grnd_level': 980, 'humidity': 99, 'temp_kf': 0}, 'weather': [{'id': 601, 'main': 'Snow', 'description': 'snow', 'icon': '13d'}], 'clouds': {'all': 100}, 'wind': {'speed': 1.95, 'deg': 23, 'gust': 3.07}, 'visibility': 75, 'pop': 1, 'snow': {'3h': 5.57}, 'sys': {'pod': 'd'}, 'dt_txt': '2023-11-09 09:00:00'}, {'dt': 1699531200, 'main': {'temp': 275.31, 'feels_like': 273.79, 'temp_min': 275.31, 'temp_max': 275.31, 'pressure': 998, 'sea_level': 998, 'grnd_level': 980, 'humidity': 100, 'temp_kf': 0}, 'weather': [{'id': 601, 'main': 'Snow', 'description': 'snow', 'icon': '13d'}], 'clouds': {'all': 100}, 'wind': {'speed': 1.55, 'deg': 21, 'gust': 2.58}, 'visibility': 68, 'pop': 1, 'snow': {'3h': 6.22}, 'sys': {'pod': 'd'}, 'dt_txt': '2023-11-09 12:00:00'}, {'dt': 1699542000, 'main': {'temp': 275.32, 'feels_like': 275.32, 'temp_min': 275.32, 'temp_max': 275.32, 'pressure': 999, 'sea_level': 999, 'grnd_level': 980, 'humidity': 99, 'temp_kf': 0}, 'weather': [{'id': 500, 'main': 'Rain', 'description': 'light rain', 'icon': '10d'}], 'clouds': {'all': 100}, 'wind': {'speed': 1.33, 'deg': 345, 'gust': 2.64}, 'visibility': 79, 'pop': 0.72, 'rain': {'3h': 0.11}, 'sys': {'pod': 'd'}, 'dt_txt': '2023-11-09 15:00:00'}, {'dt': 1699552800, 'main': {'temp': 275.37, 'feels_like': 275.37, 'temp_min': 275.37, 'temp_max': 275.37, 'pressure': 1000, 'sea_level': 1000, 'grnd_level': 982, 'humidity': 99, 'temp_kf': 0}, 'weather': [{'id': 600, 'main': 'Snow', 'description': 'light snow', 'icon': '13n'}], 'clouds': {'all': 100}, 'wind': {'speed': 0.82, 'deg': 2, 'gust': 0.93}, 'visibility': 3395, 'pop': 0.68, 'snow': {'3h': 0.11}, 'sys': {'pod': 'n'}, 'dt_txt': '2023-11-09 18:00:00'}, {'dt': 1699563600, 'main': {'temp': 275.37, 'feels_like': 275.37, 'temp_min': 275.37, 'temp_max': 275.37, 'pressure': 1001, 'sea_level': 1001, 'grnd_level': 982, 'humidity': 100, 'temp_kf': 0}, 'weather': [{'id': 804, 'main': 'Clouds', 'description': 'overcast clouds', 'icon': '04n'}], 'clouds': {'all': 100}, 'wind': {'speed': 0.93, 'deg': 33, 'gust': 1.01}, 'visibility': 6928, 'pop': 0.04, 'sys': {'pod': 'n'}, 'dt_txt': '2023-11-09 21:00:00'}, {'dt': 1699574400, 'main': {'temp': 275.49, 'feels_like': 275.49, 'temp_min': 275.49, 'temp_max': 275.49, 'pressure': 1001, 'sea_level': 1001, 'grnd_level': 982, 'humidity': 100, 'temp_kf': 0}, 'weather': [{'id': 804, 'main': 'Clouds', 'description': 'overcast clouds', 'icon': '04n'}], 'clouds': {'all': 100}, 'wind': {'speed': 1.29, 'deg': 23, 'gust': 1.78}, 'visibility': 6513, 'pop': 0.04, 'sys': {'pod': 'n'}, 'dt_txt': '2023-11-10 00:00:00'}, {'dt': 1699585200, 'main': {'temp': 275.56, 'feels_like': 274.07, 'temp_min': 275.56, 'temp_max': 275.56, 'pressure': 1000, 'sea_level': 1000, 'grnd_level': 981, 'humidity': 100, 'temp_kf': 0}, 'weather': [{'id': 601, 'main': 'Snow', 'description': 'snow', 'icon': '13n'}], 'clouds': {'all': 100}, 'wind': {'speed': 1.55, 'deg': 31, 'gust': 3.06}, 'visibility': 93, 'pop': 1, 'snow': {'3h': 2.63}, 'sys': {'pod': 'n'}, 'dt_txt': '2023-11-10 03:00:00'}, {'dt': 1699596000, 'main': {'temp': 275.52, 'feels_like': 275.52, 'temp_min': 275.52, 'temp_max': 275.52, 'pressure': 1000, 'sea_level': 1000, 'grnd_level': 982, 'humidity': 100, 'temp_kf': 0}, 'weather': [{'id': 501, 'main': 'Rain', 'description': 'moderate rain', 'icon': '10n'}], 'clouds': {'all': 100}, 'wind': {'speed': 1.06, 'deg': 26, 'gust': 2.21}, 'visibility': 46, 'pop': 1, 'rain': {'3h': 4.51}, 'sys': {'pod': 'n'}, 'dt_txt': '2023-11-10 06:00:00'}, {'dt': 1699606800, 'main': {'temp': 275.68, 'feels_like': 275.68, 'temp_min': 275.68, 'temp_max': 275.68, 'pressure': 1002, 'sea_level': 1002, 'grnd_level': 984, 'humidity': 100, 'temp_kf': 0}, 'weather': [{'id': 600, 'main': 'Snow', 'description': 'light snow', 'icon': '13d'}], 'clouds': {'all': 100}, 'wind': {'speed': 1.22, 'deg': 21, 'gust': 1.85}, 'visibility': 74, 'pop': 0.68, 'snow': {'3h': 0.85}, 'sys': {'pod': 'd'}, 'dt_txt': '2023-11-10 09:00:00'}, {'dt': 1699617600, 'main': {'temp': 275.77, 'feels_like': 275.77, 'temp_min': 275.77, 'temp_max': 275.77, 'pressure': 1004, 'sea_level': 1004, 'grnd_level': 985, 'humidity': 100, 'temp_kf': 0}, 'weather': [{'id': 500, 'main': 'Rain', 'description': 'light rain', 'icon': '10d'}], 'clouds': {'all': 100}, 'wind': {'speed': 1.19, 'deg': 29, 'gust': 1.87}, 'visibility': 50, 'pop': 0.6, 'rain': {'3h': 0.12}, 'sys': {'pod': 'd'}, 'dt_txt': '2023-11-10 12:00:00'}, {'dt': 1699628400, 'main': {'temp': 275.72, 'feels_like': 274.43, 'temp_min': 275.72, 'temp_max': 275.72, 'pressure': 1005, 'sea_level': 1005, 'grnd_level': 986, 'humidity': 100, 'temp_kf': 0}, 'weather': [{'id': 804, 'main': 'Clouds', 'description': 'overcast clouds', 'icon': '04d'}], 'clouds': {'all': 100}, 'wind': {'speed': 1.43, 'deg': 15, 'gust': 2.42}, 'visibility': 71, 'pop': 0.03, 'sys': {'pod': 'd'}, 'dt_txt': '2023-11-10 15:00:00'}, {'dt': 1699639200, 'main': {'temp': 275.33, 'feels_like': 273.87, 'temp_min': 275.33, 'temp_max': 275.33, 'pressure': 1006, 'sea_level': 1006, 'grnd_level': 987, 'humidity': 100, 'temp_kf': 0}, 'weather': [{'id': 601, 'main': 'Snow', 'description': 'snow', 'icon': '13n'}], 'clouds': {'all': 100}, 'wind': {'speed': 1.51, 'deg': 27, 'gust': 2.82}, 'visibility': 37, 'pop': 0.64, 'snow': {'3h': 1.61}, 'sys': {'pod': 'n'}, 'dt_txt': '2023-11-10 18:00:00'}, {'dt': 1699650000, 'main': {'temp': 275.4, 'feels_like': 273.75, 'temp_min': 275.4, 'temp_max': 275.4, 'pressure': 1007, 'sea_level': 1007, 'grnd_level': 988, 'humidity': 100, 'temp_kf': 0}, 'weather': [{'id': 601, 'main': 'Snow', 'description': 'snow', 'icon': '13n'}], 'clouds': {'all': 100}, 'wind': {'speed': 1.65, 'deg': 19, 'gust': 3.68}, 'visibility': 35, 'pop': 0.97, 'snow': {'3h': 3.06}, 'sys': {'pod': 'n'}, 'dt_txt': '2023-11-10 21:00:00'}, {'dt': 1699660800, 'main': {'temp': 275.44, 'feels_like': 273.89, 'temp_min': 275.44, 'temp_max': 275.44, 'pressure': 1008, 'sea_level': 1008, 'grnd_level': 989, 'humidity': 100, 'temp_kf': 0}, 'weather': [{'id': 601, 'main': 'Snow', 'description': 'snow', 'icon': '13n'}], 'clouds': {'all': 100}, 'wind': {'speed': 1.58, 'deg': 21, 'gust': 4.28}, 'visibility': 27, 'pop': 1, 'snow': {'3h': 2.2}, 'sys': {'pod': 'n'}, 'dt_txt': '2023-11-11 00:00:00'}, {'dt': 1699671600, 'main': {'temp': 275.48, 'feels_like': 274.04, 'temp_min': 275.48, 'temp_max': 275.48, 'pressure': 1009, 'sea_level': 1009, 'grnd_level': 990, 'humidity': 100, 'temp_kf': 0}, 'weather': [{'id': 600, 'main': 'Snow', 'description': 'light snow', 'icon': '13n'}], 'clouds': {'all': 100}, 'wind': {'speed': 1.51, 'deg': 22, 'gust': 4.5}, 'visibility': 26, 'pop': 0.98, 'snow': {'3h': 1.49}, 'sys': {'pod': 'n'}, 'dt_txt': '2023-11-11 03:00:00'}, {'dt': 1699682400, 'main': {'temp': 275.23, 'feels_like': 275.23, 'temp_min': 275.23, 'temp_max': 275.23, 'pressure': 1009, 'sea_level': 1009, 'grnd_level': 991, 'humidity': 99, 'temp_kf': 0}, 'weather': [{'id': 600, 'main': 'Snow', 'description': 'light snow', 'icon': '13n'}], 'clouds': {'all': 100}, 'wind': {'speed': 1.29, 'deg': 12, 'gust': 3.71}, 'visibility': 45, 'pop': 0.95, 'snow': {'3h': 0.4}, 'sys': {'pod': 'n'}, 'dt_txt': '2023-11-11 06:00:00'}], 'city': {'id': 3144113, 'name': 'Noresund', 'coord': {'lat': 60.1803, 'lon': 9.6231}, 'country': 'NO', 'population': 1000, 'timezone': 3600, 'sunrise': 1699253771, 'sunset': 1699283642}}\")\n"
     ]
    }
   ],
   "source": [
    "# Query the data\n",
    "forecast_rows = session.execute(\"SELECT * FROM forecast_table;\")\n",
    "print(forecast_rows.one()) # <- only one row"
   ]
  },
  {
   "cell_type": "markdown",
   "metadata": {
    "slideshow": {
     "slide_type": "slide"
    }
   },
   "source": [
    "## Resources\n",
    "- [Cassandra webpage](https://cassandra.apache.org/)\n",
    "- [Cassandra Docker file](https://hub.docker.com/_/cassandra)\n",
    "- [UUID functions](https://docs.datastax.com/en/cql-oss/3.3/cql/cql_reference/timeuuid_functions_r.html)\n",
    "- [YouTube: Cassandra in 100 seconds](https://youtu.be/ziq7FUKpCS8?si=WQUdkHFvaBmT0DBo) (2m:26s)\n",
    "- [YouTube: How to use Apache Cassandra in Python](https://youtu.be/qMauZqJH3ZM?si=yKGZ-5cld2BK396Y) (14m:50s)\n",
    "- [YouTube: Cassandra Database Crash Course](https://youtu.be/KZsVSfQVU4I?si=FBCi8qOfCirfVmZk) (19m:47s)"
   ]
  }
 ],
 "metadata": {
  "celltoolbar": "Slideshow",
  "kernelspec": {
   "display_name": "Python 3 (ipykernel)",
   "language": "python",
   "name": "python3"
  },
  "language_info": {
   "codemirror_mode": {
    "name": "ipython",
    "version": 3
   },
   "file_extension": ".py",
   "mimetype": "text/x-python",
   "name": "python",
   "nbconvert_exporter": "python",
   "pygments_lexer": "ipython3",
   "version": "3.11.6"
  }
 },
 "nbformat": 4,
 "nbformat_minor": 2
}