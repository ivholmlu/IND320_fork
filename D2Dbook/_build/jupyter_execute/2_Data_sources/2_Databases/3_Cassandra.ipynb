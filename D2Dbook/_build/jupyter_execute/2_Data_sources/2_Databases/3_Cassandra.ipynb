{
 "cells": [
  {
   "cell_type": "markdown",
   "metadata": {
    "slideshow": {
     "slide_type": "slide"
    }
   },
   "source": [
    "# Cassandra\n",
    "- A production grade NoSQL database.\n",
    "- Can be distributed across servers, nodes, etc.\n",
    "- Replication of database is supported for high degree of redundancy and speed.\n",
    "- Uses CQL, a subset of SQL for querying.\n",
    "- Works seamlesly together with Spark and its corresponding distributed structure.\n",
    "- Installation of Cassandra is explained in the [Installation chapter](../../6_Appendix/Installation.ipynb)."
   ]
  },
  {
   "cell_type": "markdown",
   "metadata": {
    "slideshow": {
     "slide_type": "slide"
    }
   },
   "source": [
    "## Spinning up a local Cassandra instance\n",
    "In a terminal, first time:  \n",
    "```docker run --name my_cassandra -p 9042:9042 cassandra:latest```  \n",
    "... and later:  \n",
    "```docker start my_cassandra```  \n",
    "  \n",
    ".. or in Docker Desktop:\n",
    "- Run the cassandra docker image with optional settings, opening 9042 port and setting a name.\n",
    "- Later, simply run the container with the name you chose."
   ]
  },
  {
   "cell_type": "markdown",
   "metadata": {
    "slideshow": {
     "slide_type": "slide"
    }
   },
   "source": [
    "<img src=\"https://github.com/khliland/IND320/blob/main/D2Dbook/images/Docker_images.png?raw=TRUE\" width=\"600px\">  "
   ]
  },
  {
   "cell_type": "markdown",
   "metadata": {
    "slideshow": {
     "slide_type": "slide"
    }
   },
   "source": [
    "\n",
    "<img src=\"https://github.com/khliland/IND320/blob/main/D2Dbook/images/Docker_containers.png?raw=TRUE\" width=\"800px\">  "
   ]
  },
  {
   "cell_type": "markdown",
   "metadata": {
    "slideshow": {
     "slide_type": "slide"
    }
   },
   "source": [
    "### Connect to the Cassandra cluster from Python."
   ]
  },
  {
   "cell_type": "code",
   "execution_count": 1,
   "metadata": {
    "slideshow": {
     "slide_type": "-"
    }
   },
   "outputs": [],
   "source": [
    "# Connecting to Cassandra\n",
    "from cassandra.cluster import Cluster\n",
    "cluster = Cluster(['localhost'], port=9042)\n",
    "session = cluster.connect()"
   ]
  },
  {
   "cell_type": "markdown",
   "metadata": {
    "slideshow": {
     "slide_type": "slide"
    }
   },
   "source": [
    "### Keyspace\n",
    "- In Cassandra database tables are stored in keyspaces (basically a distributed database).\n",
    "- These have parameters controlling their distribution on nodes/servers and redundancy.\n",
    "- We will use the simplest form locally."
   ]
  },
  {
   "cell_type": "code",
   "execution_count": 2,
   "metadata": {
    "slideshow": {
     "slide_type": "fragment"
    }
   },
   "outputs": [
    {
     "data": {
      "text/plain": [
       "<cassandra.cluster.ResultSet at 0x10ba6ed50>"
      ]
     },
     "execution_count": 2,
     "metadata": {},
     "output_type": "execute_result"
    }
   ],
   "source": [
    "# Set up new keyspace (first time only)\n",
    "#                                              name of keyspace                        replication strategy           replication factor\n",
    "session.execute(\"CREATE KEYSPACE IF NOT EXISTS my_first_keyspace WITH REPLICATION = { 'class' : 'SimpleStrategy', 'replication_factor' : 1 };\")"
   ]
  },
  {
   "cell_type": "markdown",
   "metadata": {
    "slideshow": {
     "slide_type": "slide"
    }
   },
   "source": [
    "### Create a table\n",
    "- IF NOT EXISTS makes sure we do not overwrite existing tables"
   ]
  },
  {
   "cell_type": "code",
   "execution_count": 3,
   "metadata": {
    "slideshow": {
     "slide_type": "fragment"
    }
   },
   "outputs": [
    {
     "data": {
      "text/plain": [
       "<cassandra.cluster.ResultSet at 0x10ba99850>"
      ]
     },
     "execution_count": 3,
     "metadata": {},
     "output_type": "execute_result"
    }
   ],
   "source": [
    "# Create a new table (first time only)\n",
    "session.set_keyspace('my_first_keyspace')\n",
    "session.execute(\"DROP TABLE IF EXISTS my_first_keyspace.my_first_table;\") # Starting from scratch every time\n",
    "session.execute(\"CREATE TABLE IF NOT EXISTS my_first_table (ind int PRIMARY KEY, company text, model text);\")"
   ]
  },
  {
   "cell_type": "markdown",
   "metadata": {
    "slideshow": {
     "slide_type": "slide"
    }
   },
   "source": [
    "### Inserting and reading data"
   ]
  },
  {
   "cell_type": "code",
   "execution_count": 4,
   "metadata": {
    "slideshow": {
     "slide_type": "-"
    }
   },
   "outputs": [
    {
     "data": {
      "text/plain": [
       "<cassandra.cluster.ResultSet at 0x10be5d950>"
      ]
     },
     "execution_count": 4,
     "metadata": {},
     "output_type": "execute_result"
    }
   ],
   "source": [
    "# Insert some data (ind is the primary key, must be unique)\n",
    "session.execute(\"INSERT INTO my_first_table (ind, company, model) VALUES (1, 'Tesla', 'Model S');\")\n",
    "session.execute(\"INSERT INTO my_first_table (ind, company, model) VALUES (2, 'Tesla', 'Model 3');\")\n",
    "session.execute(\"INSERT INTO my_first_table (ind, company, model) VALUES (3, 'Polestar', '3');\")"
   ]
  },
  {
   "cell_type": "markdown",
   "metadata": {
    "slideshow": {
     "slide_type": "slide"
    }
   },
   "source": [
    "### Asyncronous writing\n",
    "- If your application is very data intensive, waiting for a response is not productive.\n",
    "- Writing asyncronously sends the data but does not pause for reply."
   ]
  },
  {
   "cell_type": "code",
   "execution_count": 5,
   "metadata": {
    "slideshow": {
     "slide_type": "-"
    }
   },
   "outputs": [
    {
     "data": {
      "text/plain": [
       "<ResponseFuture: query='<SimpleStatement query=\"INSERT INTO my_first_table (ind, company, model) VALUES (4, 'Volkswagen', 'ID.4');\", consistency=Not Set>' request_id=24 result=(no result yet) exception=None coordinator_host=None>"
      ]
     },
     "execution_count": 5,
     "metadata": {},
     "output_type": "execute_result"
    }
   ],
   "source": [
    "session.execute_async(\"INSERT INTO my_first_table (ind, company, model) VALUES (4, 'Volkswagen', 'ID.4');\")"
   ]
  },
  {
   "cell_type": "code",
   "execution_count": 6,
   "metadata": {
    "slideshow": {
     "slide_type": "slide"
    }
   },
   "outputs": [
    {
     "name": "stdout",
     "output_type": "stream",
     "text": [
      "Row(ind=1, company='Tesla', model='Model S')\n",
      "Row(ind=2, company='Tesla', model='Model 3')\n",
      "Row(ind=4, company='Volkswagen', model='ID.4')\n",
      "Row(ind=3, company='Polestar', model='3')\n"
     ]
    }
   ],
   "source": [
    "# Query the data\n",
    "rows = session.execute(\"SELECT * FROM my_first_table;\")\n",
    "for i in rows:\n",
    "    print(i)"
   ]
  },
  {
   "cell_type": "code",
   "execution_count": 7,
   "metadata": {
    "slideshow": {
     "slide_type": "slide"
    },
    "tags": [
     "raises-exception"
    ]
   },
   "outputs": [
    {
     "ename": "InvalidRequest",
     "evalue": "Error from server: code=2200 [Invalid query] message=\"Cannot execute this query as it might involve data filtering and thus may have unpredictable performance. If you want to execute this query despite the performance unpredictability, use ALLOW FILTERING\"",
     "output_type": "error",
     "traceback": [
      "\u001b[0;31m---------------------------------------------------------------------------\u001b[0m",
      "\u001b[0;31mInvalidRequest\u001b[0m                            Traceback (most recent call last)",
      "Cell \u001b[0;32mIn[7], line 2\u001b[0m\n\u001b[1;32m      1\u001b[0m \u001b[38;5;66;03m# More specific query\u001b[39;00m\n\u001b[0;32m----> 2\u001b[0m prepared_statement \u001b[38;5;241m=\u001b[39m \u001b[43msession\u001b[49m\u001b[38;5;241;43m.\u001b[39;49m\u001b[43mprepare\u001b[49m\u001b[43m(\u001b[49m\u001b[38;5;124;43m\"\u001b[39;49m\u001b[38;5;124;43mSELECT * FROM my_first_table WHERE company=?;\u001b[39;49m\u001b[38;5;124;43m\"\u001b[39;49m\u001b[43m)\u001b[49m \u001b[38;5;66;03m# <- will fail as company is not a key\u001b[39;00m\n\u001b[1;32m      3\u001b[0m teslas \u001b[38;5;241m=\u001b[39m session\u001b[38;5;241m.\u001b[39mexecute(prepared_statement, [\u001b[38;5;124m'\u001b[39m\u001b[38;5;124mTesla\u001b[39m\u001b[38;5;124m'\u001b[39m])\n\u001b[1;32m      4\u001b[0m \u001b[38;5;28;01mfor\u001b[39;00m i \u001b[38;5;129;01min\u001b[39;00m teslas:\n",
      "File \u001b[0;32m~/miniforge3/envs/IND320/lib/python3.11/site-packages/cassandra/cluster.py:3099\u001b[0m, in \u001b[0;36mcassandra.cluster.Session.prepare\u001b[0;34m()\u001b[0m\n",
      "File \u001b[0;32m~/miniforge3/envs/IND320/lib/python3.11/site-packages/cassandra/cluster.py:3096\u001b[0m, in \u001b[0;36mcassandra.cluster.Session.prepare\u001b[0;34m()\u001b[0m\n",
      "File \u001b[0;32m~/miniforge3/envs/IND320/lib/python3.11/site-packages/cassandra/cluster.py:4928\u001b[0m, in \u001b[0;36mcassandra.cluster.ResponseFuture.result\u001b[0;34m()\u001b[0m\n",
      "\u001b[0;31mInvalidRequest\u001b[0m: Error from server: code=2200 [Invalid query] message=\"Cannot execute this query as it might involve data filtering and thus may have unpredictable performance. If you want to execute this query despite the performance unpredictability, use ALLOW FILTERING\""
     ]
    }
   ],
   "source": [
    "# More specific query\n",
    "prepared_statement = session.prepare(\"SELECT * FROM my_first_table WHERE company=?;\") # <- will fail as company is not a key\n",
    "teslas = session.execute(prepared_statement, ['Tesla'])\n",
    "for i in teslas:\n",
    "    print(i)"
   ]
  },
  {
   "cell_type": "markdown",
   "metadata": {
    "slideshow": {
     "slide_type": "slide"
    }
   },
   "source": [
    "## Cassandra filtering\n",
    "Cassandra is inherently a distributed production database. Selecting as above may require downloading all data from a node, then filtering based on the WHERE part (only PRIMARY KEYs are centrally known). Solutions:  \n",
    "- If the table is small or most of the data will satisfy the query, add ```ALLOW FILTERING``` at the end of the query (not recommended if not known). \n",
    "- Or make sure the WHERE clause points to one of the keys (see below)."
   ]
  },
  {
   "cell_type": "code",
   "execution_count": 8,
   "metadata": {
    "slideshow": {
     "slide_type": "slide"
    }
   },
   "outputs": [
    {
     "data": {
      "text/plain": [
       "<cassandra.cluster.ResultSet at 0x10c3e0a90>"
      ]
     },
     "execution_count": 8,
     "metadata": {},
     "output_type": "execute_result"
    }
   ],
   "source": [
    "# Create a new table (observe keys)\n",
    "session.execute(\"DROP TABLE IF EXISTS my_first_keyspace.car_table;\")\n",
    "session.execute(\"CREATE TABLE IF NOT EXISTS car_table (company text, model text, PRIMARY KEY(company, model));\")"
   ]
  },
  {
   "cell_type": "code",
   "execution_count": 9,
   "metadata": {
    "slideshow": {
     "slide_type": "fragment"
    }
   },
   "outputs": [
    {
     "data": {
      "text/plain": [
       "<cassandra.cluster.ResultSet at 0x10c3e7490>"
      ]
     },
     "execution_count": 9,
     "metadata": {},
     "output_type": "execute_result"
    }
   ],
   "source": [
    "# Insert some data (combination of company and model must be unique)\n",
    "session.execute(\"INSERT INTO car_table (company, model) VALUES ('Tesla', 'Model S');\")\n",
    "session.execute(\"INSERT INTO car_table (company, model) VALUES ('Tesla', 'Model 3');\")\n",
    "session.execute(\"INSERT INTO car_table (company, model) VALUES ('Polestar', '3');\")\n",
    "session.execute(\"INSERT INTO car_table (company, model) VALUES ('Volkswagen', 'ID.4');\")"
   ]
  },
  {
   "cell_type": "code",
   "execution_count": 10,
   "metadata": {
    "slideshow": {
     "slide_type": "slide"
    }
   },
   "outputs": [
    {
     "name": "stdout",
     "output_type": "stream",
     "text": [
      "Row(company='Tesla', model='Model 3')\n",
      "Row(company='Tesla', model='Model S')\n"
     ]
    }
   ],
   "source": [
    "# More specific query now works\n",
    "prepared_statement = session.prepare(\"SELECT * FROM car_table WHERE company=?;\")\n",
    "teslas = session.execute(prepared_statement, ['Tesla'])\n",
    "for i in teslas:\n",
    "    print(i)"
   ]
  },
  {
   "cell_type": "markdown",
   "metadata": {
    "slideshow": {
     "slide_type": "slide"
    }
   },
   "source": [
    "### Partitions\n",
    "- Cassandra databases are usually replicated over different nodes.\n",
    "- Data is stored in partitions (subsets) which have local copys.\n",
    "- The primary key, e.g., PRIMARY KEY(company, model), is used in partitioning.\n",
    "    - The first part, e.g., company, is most important.\n",
    "    - All cars from a company will be located together, aiming for quicker queries."
   ]
  },
  {
   "cell_type": "markdown",
   "metadata": {
    "slideshow": {
     "slide_type": "slide"
    }
   },
   "source": [
    "### Unique IDs \n",
    "- In MySQL one could use the attribute AUTO_INCREMENT on integer IDs to automatically make a new unique index when inserting data.\n",
    "- This would cause unreasonable overhead in a distributed database.\n",
    "- [UUID](https://en.wikipedia.org/wiki/Universally_unique_identifier)s are used instead.\n",
    "    - Universally Unique Identifiers are typically 128-bit random bit sequences with extremely low probability of duplication.\n",
    "    - Cassandra uses a [timeuuid](https://docs.datastax.com/en/cql-oss/3.3/cql/cql_reference/timeuuid_functions_r.html) type to combine a timestamp and uuid in one."
   ]
  },
  {
   "cell_type": "code",
   "execution_count": 11,
   "metadata": {
    "slideshow": {
     "slide_type": "fragment"
    }
   },
   "outputs": [
    {
     "data": {
      "text/plain": [
       "<cassandra.cluster.ResultSet at 0x10bee3650>"
      ]
     },
     "execution_count": 11,
     "metadata": {},
     "output_type": "execute_result"
    }
   ],
   "source": [
    "# Create a new table (first time only)\n",
    "session.set_keyspace('my_first_keyspace')\n",
    "session.execute(\"DROP TABLE IF EXISTS my_first_keyspace.table_with_uuid;\")\n",
    "session.execute(\"CREATE TABLE IF NOT EXISTS table_with_uuid (id timeuuid PRIMARY KEY, company text, model text, price float);\")"
   ]
  },
  {
   "cell_type": "code",
   "execution_count": 12,
   "metadata": {
    "slideshow": {
     "slide_type": "slide"
    }
   },
   "outputs": [
    {
     "data": {
      "text/plain": [
       "<cassandra.cluster.ResultSet at 0x10be47cd0>"
      ]
     },
     "execution_count": 12,
     "metadata": {},
     "output_type": "execute_result"
    }
   ],
   "source": [
    "session.execute(\"INSERT INTO table_with_uuid (id, company, model, price) VALUES (now(), 'Tesla', 'Model S', 20000.0);\")\n",
    "session.execute(\"INSERT INTO table_with_uuid (id, company, model, price) VALUES (now(), 'Tesla', 'Model S', 21000.0);\")\n",
    "session.execute(\"INSERT INTO table_with_uuid (id, company, model, price) VALUES (now(), 'Oldsmobile', 'Model 6C', 135000.0);\")"
   ]
  },
  {
   "cell_type": "code",
   "execution_count": 13,
   "metadata": {
    "slideshow": {
     "slide_type": "slide"
    }
   },
   "outputs": [
    {
     "name": "stdout",
     "output_type": "stream",
     "text": [
      "Row(id=UUID('fc1a90e0-9281-11ee-91e7-c3fd37f3ebbc'), company='Oldsmobile', model='Model 6C', price=135000.0)\n",
      "Datetime: 2023-12-04 08:49:07.310000\n",
      "Row(id=UUID('fc19cd90-9281-11ee-91e7-c3fd37f3ebbc'), company='Tesla', model='Model S', price=20000.0)\n",
      "Datetime: 2023-12-04 08:49:07.305000\n",
      "Row(id=UUID('fc1a42c0-9281-11ee-91e7-c3fd37f3ebbc'), company='Tesla', model='Model S', price=21000.0)\n",
      "Datetime: 2023-12-04 08:49:07.308000\n"
     ]
    }
   ],
   "source": [
    "from cassandra.util import datetime_from_uuid1\n",
    "\n",
    "# Query the data\n",
    "rows = session.execute(\"SELECT * FROM table_with_uuid;\")\n",
    "for i in rows:\n",
    "    print(i)\n",
    "    # Extract the timestamp from Cassandra's timeuuid\n",
    "    print(\"Datetime:\", datetime_from_uuid1(i.id))"
   ]
  },
  {
   "cell_type": "markdown",
   "metadata": {
    "slideshow": {
     "slide_type": "slide"
    }
   },
   "source": [
    "## JSON in Cassandra\n",
    "### Read previously saved JSON file forecast.json to memory"
   ]
  },
  {
   "cell_type": "code",
   "execution_count": 14,
   "metadata": {
    "slideshow": {
     "slide_type": "-"
    }
   },
   "outputs": [],
   "source": [
    "import json\n",
    "with open('../3_APIs/downloads/forecast.json', 'r') as f:\n",
    "    forecast = json.load(f)"
   ]
  },
  {
   "cell_type": "code",
   "execution_count": 15,
   "metadata": {
    "slideshow": {
     "slide_type": "slide"
    }
   },
   "outputs": [
    {
     "data": {
      "text/plain": [
       "\"{'cod': '200', 'message': 0, 'cnt': 40, 'list': [{'dt': 1701302400, 'main': {'temp': 268.8, 'feels_like': 265.33, 'temp_min': 266.65, 'temp_max': 268.8, 'pressure': 1013, 'sea_level': 1013, 'grnd_level': 994, 'humidity': 93, 'temp_kf': 2.15}, 'weather': [{'id': 600, 'main': 'Snow', 'description': 'light snow', 'icon': '13n'}], 'clouds': {'all': 100}, 'wind': {'speed': 2.22, 'deg': 346, 'gust': 4.34}, 'visibility': 1797, 'pop': 0.71, 'snow': {'3h': 0.12}, 'sys': {'pod': 'n'}, 'dt_txt': '2023-11-30 00:00:00'}, {'dt': 1701313200, 'main': {'temp': 267.64, 'feels_like': 263.92, 'temp_min': 266.52, 'temp_max': 267.64, 'pressure': 1014, 'sea_level': 1014, 'grnd_level': 994, 'humidity': 94, 'temp_kf': 1.12}, 'weather': [{'id': 600, 'main': 'Snow', 'description': 'light snow', 'icon': '13n'}], 'clouds': {'all': 100}, 'wind': {'speed': 2.25, 'deg': 341, 'gust': 4.66}, 'visibility': 649, 'pop': 0.4, 'snow': {'3h': 0.18}, 'sys': {'pod': 'n'}, 'dt_txt': '2023-11-30 03:00:00'}, {'dt': 1701324000, 'main': {'temp': 265.85, 'feels_like': 261.69, 'temp_min': 265.85, 'temp_max': 265.85, 'pressure': 1014, 'sea_level': 1014, 'grnd_level': 995, 'humidity': 94, 'temp_kf': 0}, 'weather': [{'id': 600, 'main': 'Snow', 'description': 'light snow', 'icon': '13n'}], 'clouds': {'all': 100}, 'wind': {'speed': 2.34, 'deg': 334, 'gust': 4.81}, 'visibility': 1254, 'pop': 0.24, 'snow': {'3h': 0.26}, 'sys': {'pod': 'n'}, 'dt_txt': '2023-11-30 06:00:00'}, {'dt': 1701334800, 'main': {'temp': 265.22, 'feels_like': 261.06, 'temp_min': 265.22, 'temp_max': 265.22, 'pressure': 1015, 'sea_level': 1015, 'grnd_level': 996, 'humidity': 94, 'temp_kf': 0}, 'weather': [{'id': 600, 'main': 'Snow', 'description': 'light snow', 'icon': '13d'}], 'clouds': {'all': 100}, 'wind': {'speed': 2.26, 'deg': 333, 'gust': 4.44}, 'visibility': 968, 'pop': 0.21, 'snow': {'3h': 0.13}, 'sys': {'pod': 'd'}, 'dt_txt': '2023-11-30 09:00:00'}, {'dt': 1701345600, 'main': {'temp': 266.93, 'feels_like': 263.42, 'temp_min': 266.93, 'temp_max': 266.93, 'pressure': 1015, 'sea_level': 1015, 'grnd_level': 996, 'humidity': 92, 'temp_kf': 0}, 'weather': [{'id': 600, 'main': 'Snow', 'description': 'light snow', 'icon': '13d'}], 'clouds': {'all': 100}, 'wind': {'speed': 2.02, 'deg': 346, 'gust': 3.8}, 'visibility': 2113, 'pop': 0.21, 'snow': {'3h': 0.17}, 'sys': {'pod': 'd'}, 'dt_txt': '2023-11-30 12:00:00'}, {'dt': 1701356400, 'main': {'temp': 264.12, 'feels_like': 259.89, 'temp_min': 264.12, 'temp_max': 264.12, 'pressure': 1016, 'sea_level': 1016, 'grnd_level': 996, 'humidity': 95, 'temp_kf': 0}, 'weather': [{'id': 804, 'main': 'Clouds', 'description': 'overcast clouds', 'icon': '04n'}], 'clouds': {'all': 100}, 'wind': {'speed': 2.18, 'deg': 333, 'gust': 3.9}, 'visibility': 10000, 'pop': 0, 'sys': {'pod': 'n'}, 'dt_txt': '2023-11-30 15:00:00'}, {'dt': 1701367200, 'main': {'temp': 262.2, 'feels_like': 257.29, 'temp_min': 262.2, 'temp_max': 262.2, 'pressure': 1016, 'sea_level': 1016, 'grnd_level': 996, 'humidity': 93, 'temp_kf': 0}, 'weather': [{'id': 804, 'main': 'Clouds', 'description': 'overcast clouds', 'icon': '04n'}], 'clouds': {'all': 97}, 'wind': {'speed': 2.41, 'deg': 322, 'gust': 4.04}, 'visibility': 10000, 'pop': 0, 'sys': {'pod': 'n'}, 'dt_txt': '2023-11-30 18:00:00'}, {'dt': 1701378000, 'main': {'temp': 262.29, 'feels_like': 257.53, 'temp_min': 262.29, 'temp_max': 262.29, 'pressure': 1016, 'sea_level': 1016, 'grnd_level': 996, 'humidity': 93, 'temp_kf': 0}, 'weather': [{'id': 804, 'main': 'Clouds', 'description': 'overcast clouds', 'icon': '04n'}], 'clouds': {'all': 100}, 'wind': {'speed': 2.32, 'deg': 325, 'gust': 3.91}, 'visibility': 10000, 'pop': 0, 'sys': {'pod': 'n'}, 'dt_txt': '2023-11-30 21:00:00'}, {'dt': 1701388800, 'main': {'temp': 260.91, 'feels_like': 255.79, 'temp_min': 260.91, 'temp_max': 260.91, 'pressure': 1016, 'sea_level': 1016, 'grnd_level': 996, 'humidity': 93, 'temp_kf': 0}, 'weather': [{'id': 804, 'main': 'Clouds', 'description': 'overcast clouds', 'icon': '04n'}], 'clouds': {'all': 90}, 'wind': {'speed': 2.39, 'deg': 321, 'gust': 3.59}, 'visibility': 10000, 'pop': 0, 'sys': {'pod': 'n'}, 'dt_txt': '2023-12-01 00:00:00'}, {'dt': 1701399600, 'main': {'temp': 260.3, 'feels_like': 255.15, 'temp_min': 260.3, 'temp_max': 260.3, 'pressure': 1016, 'sea_level': 1016, 'grnd_level': 996, 'humidity': 93, 'temp_kf': 0}, 'weather': [{'id': 802, 'main': 'Clouds', 'description': 'scattered clouds', 'icon': '03n'}], 'clouds': {'all': 44}, 'wind': {'speed': 2.34, 'deg': 319, 'gust': 3.42}, 'visibility': 10000, 'pop': 0, 'sys': {'pod': 'n'}, 'dt_txt': '2023-12-01 03:00:00'}, {'dt': 1701410400, 'main': {'temp': 260.03, 'feels_like': 255.16, 'temp_min': 260.03, 'temp_max': 260.03, 'pressure': 1016, 'sea_level': 1016, 'grnd_level': 996, 'humidity': 93, 'temp_kf': 0}, 'weather': [{'id': 802, 'main': 'Clouds', 'description': 'scattered clouds', 'icon': '03n'}], 'clouds': {'all': 44}, 'wind': {'speed': 2.14, 'deg': 317, 'gust': 2.83}, 'visibility': 10000, 'pop': 0, 'sys': {'pod': 'n'}, 'dt_txt': '2023-12-01 06:00:00'}, {'dt': 1701421200, 'main': {'temp': 260.82, 'feels_like': 256.44, 'temp_min': 260.82, 'temp_max': 260.82, 'pressure': 1015, 'sea_level': 1015, 'grnd_level': 996, 'humidity': 91, 'temp_kf': 0}, 'weather': [{'id': 802, 'main': 'Clouds', 'description': 'scattered clouds', 'icon': '03d'}], 'clouds': {'all': 42}, 'wind': {'speed': 1.94, 'deg': 319, 'gust': 2.72}, 'visibility': 10000, 'pop': 0, 'sys': {'pod': 'd'}, 'dt_txt': '2023-12-01 09:00:00'}, {'dt': 1701432000, 'main': {'temp': 264.86, 'feels_like': 264.86, 'temp_min': 264.86, 'temp_max': 264.86, 'pressure': 1013, 'sea_level': 1013, 'grnd_level': 994, 'humidity': 87, 'temp_kf': 0}, 'weather': [{'id': 802, 'main': 'Clouds', 'description': 'scattered clouds', 'icon': '03d'}], 'clouds': {'all': 36}, 'wind': {'speed': 1.03, 'deg': 319, 'gust': 1.87}, 'visibility': 10000, 'pop': 0, 'sys': {'pod': 'd'}, 'dt_txt': '2023-12-01 12:00:00'}, {'dt': 1701442800, 'main': {'temp': 260.47, 'feels_like': 256.16, 'temp_min': 260.47, 'temp_max': 260.47, 'pressure': 1014, 'sea_level': 1014, 'grnd_level': 994, 'humidity': 92, 'temp_kf': 0}, 'weather': [{'id': 802, 'main': 'Clouds', 'description': 'scattered clouds', 'icon': '03n'}], 'clouds': {'all': 44}, 'wind': {'speed': 1.87, 'deg': 315, 'gust': 1.49}, 'visibility': 10000, 'pop': 0, 'sys': {'pod': 'n'}, 'dt_txt': '2023-12-01 15:00:00'}, {'dt': 1701453600, 'main': {'temp': 260.08, 'feels_like': 255.6, 'temp_min': 260.08, 'temp_max': 260.08, 'pressure': 1014, 'sea_level': 1014, 'grnd_level': 994, 'humidity': 89, 'temp_kf': 0}, 'weather': [{'id': 803, 'main': 'Clouds', 'description': 'broken clouds', 'icon': '04n'}], 'clouds': {'all': 56}, 'wind': {'speed': 1.93, 'deg': 312, 'gust': 1.53}, 'visibility': 10000, 'pop': 0, 'sys': {'pod': 'n'}, 'dt_txt': '2023-12-01 18:00:00'}, {'dt': 1701464400, 'main': {'temp': 259.74, 'feels_like': 255.19, 'temp_min': 259.74, 'temp_max': 259.74, 'pressure': 1014, 'sea_level': 1014, 'grnd_level': 994, 'humidity': 89, 'temp_kf': 0}, 'weather': [{'id': 803, 'main': 'Clouds', 'description': 'broken clouds', 'icon': '04n'}], 'clouds': {'all': 51}, 'wind': {'speed': 1.94, 'deg': 313, 'gust': 1.54}, 'visibility': 10000, 'pop': 0, 'sys': {'pod': 'n'}, 'dt_txt': '2023-12-01 21:00:00'}, {'dt': 1701475200, 'main': {'temp': 259.33, 'feels_like': 254.79, 'temp_min': 259.33, 'temp_max': 259.33, 'pressure': 1015, 'sea_level': 1015, 'grnd_level': 995, 'humidity': 90, 'temp_kf': 0}, 'weather': [{'id': 802, 'main': 'Clouds', 'description': 'scattered clouds', 'icon': '03n'}], 'clouds': {'all': 43}, 'wind': {'speed': 1.9, 'deg': 316, 'gust': 1.96}, 'visibility': 10000, 'pop': 0, 'sys': {'pod': 'n'}, 'dt_txt': '2023-12-02 00:00:00'}, {'dt': 1701486000, 'main': {'temp': 259.46, 'feels_like': 254.8, 'temp_min': 259.46, 'temp_max': 259.46, 'pressure': 1014, 'sea_level': 1014, 'grnd_level': 994, 'humidity': 90, 'temp_kf': 0}, 'weather': [{'id': 803, 'main': 'Clouds', 'description': 'broken clouds', 'icon': '04n'}], 'clouds': {'all': 71}, 'wind': {'speed': 1.97, 'deg': 318, 'gust': 2.14}, 'visibility': 10000, 'pop': 0, 'sys': {'pod': 'n'}, 'dt_txt': '2023-12-02 03:00:00'}, {'dt': 1701496800, 'main': {'temp': 261.23, 'feels_like': 257.5, 'temp_min': 261.23, 'temp_max': 261.23, 'pressure': 1014, 'sea_level': 1014, 'grnd_level': 995, 'humidity': 89, 'temp_kf': 0}, 'weather': [{'id': 803, 'main': 'Clouds', 'description': 'broken clouds', 'icon': '04n'}], 'clouds': {'all': 84}, 'wind': {'speed': 1.64, 'deg': 311, 'gust': 1.79}, 'visibility': 10000, 'pop': 0, 'sys': {'pod': 'n'}, 'dt_txt': '2023-12-02 06:00:00'}, {'dt': 1701507600, 'main': {'temp': 261.91, 'feels_like': 258.26, 'temp_min': 261.91, 'temp_max': 261.91, 'pressure': 1015, 'sea_level': 1015, 'grnd_level': 995, 'humidity': 89, 'temp_kf': 0}, 'weather': [{'id': 804, 'main': 'Clouds', 'description': 'overcast clouds', 'icon': '04d'}], 'clouds': {'all': 91}, 'wind': {'speed': 1.65, 'deg': 313, 'gust': 1.95}, 'visibility': 10000, 'pop': 0, 'sys': {'pod': 'd'}, 'dt_txt': '2023-12-02 09:00:00'}, {'dt': 1701518400, 'main': {'temp': 265.31, 'feels_like': 265.31, 'temp_min': 265.31, 'temp_max': 265.31, 'pressure': 1014, 'sea_level': 1014, 'grnd_level': 995, 'humidity': 89, 'temp_kf': 0}, 'weather': [{'id': 804, 'main': 'Clouds', 'description': 'overcast clouds', 'icon': '04d'}], 'clouds': {'all': 87}, 'wind': {'speed': 0.71, 'deg': 342, 'gust': 1.01}, 'visibility': 10000, 'pop': 0, 'sys': {'pod': 'd'}, 'dt_txt': '2023-12-02 12:00:00'}, {'dt': 1701529200, 'main': {'temp': 261.24, 'feels_like': 257.35, 'temp_min': 261.24, 'temp_max': 261.24, 'pressure': 1016, 'sea_level': 1016, 'grnd_level': 996, 'humidity': 94, 'temp_kf': 0}, 'weather': [{'id': 802, 'main': 'Clouds', 'description': 'scattered clouds', 'icon': '03n'}], 'clouds': {'all': 35}, 'wind': {'speed': 1.72, 'deg': 314, 'gust': 1.39}, 'visibility': 10000, 'pop': 0, 'sys': {'pod': 'n'}, 'dt_txt': '2023-12-02 15:00:00'}, {'dt': 1701540000, 'main': {'temp': 260.83, 'feels_like': 257.19, 'temp_min': 260.83, 'temp_max': 260.83, 'pressure': 1016, 'sea_level': 1016, 'grnd_level': 997, 'humidity': 94, 'temp_kf': 0}, 'weather': [{'id': 803, 'main': 'Clouds', 'description': 'broken clouds', 'icon': '04n'}], 'clouds': {'all': 55}, 'wind': {'speed': 1.57, 'deg': 326, 'gust': 1.3}, 'visibility': 10000, 'pop': 0, 'sys': {'pod': 'n'}, 'dt_txt': '2023-12-02 18:00:00'}, {'dt': 1701550800, 'main': {'temp': 260.8, 'feels_like': 257.38, 'temp_min': 260.8, 'temp_max': 260.8, 'pressure': 1018, 'sea_level': 1018, 'grnd_level': 998, 'humidity': 95, 'temp_kf': 0}, 'weather': [{'id': 803, 'main': 'Clouds', 'description': 'broken clouds', 'icon': '04n'}], 'clouds': {'all': 80}, 'wind': {'speed': 1.47, 'deg': 323, 'gust': 1.22}, 'visibility': 10000, 'pop': 0, 'sys': {'pod': 'n'}, 'dt_txt': '2023-12-02 21:00:00'}, {'dt': 1701561600, 'main': {'temp': 259.45, 'feels_like': 255.37, 'temp_min': 259.45, 'temp_max': 259.45, 'pressure': 1018, 'sea_level': 1018, 'grnd_level': 998, 'humidity': 95, 'temp_kf': 0}, 'weather': [{'id': 803, 'main': 'Clouds', 'description': 'broken clouds', 'icon': '04n'}], 'clouds': {'all': 64}, 'wind': {'speed': 1.68, 'deg': 320, 'gust': 1.36}, 'visibility': 10000, 'pop': 0, 'sys': {'pod': 'n'}, 'dt_txt': '2023-12-03 00:00:00'}, {'dt': 1701572400, 'main': {'temp': 258.92, 'feels_like': 254.87, 'temp_min': 258.92, 'temp_max': 258.92, 'pressure': 1019, 'sea_level': 1019, 'grnd_level': 999, 'humidity': 95, 'temp_kf': 0}, 'weather': [{'id': 802, 'main': 'Clouds', 'description': 'scattered clouds', 'icon': '03n'}], 'clouds': {'all': 32}, 'wind': {'speed': 1.63, 'deg': 321, 'gust': 1.32}, 'visibility': 10000, 'pop': 0, 'sys': {'pod': 'n'}, 'dt_txt': '2023-12-03 03:00:00'}, {'dt': 1701583200, 'main': {'temp': 258.81, 'feels_like': 254.59, 'temp_min': 258.81, 'temp_max': 258.81, 'pressure': 1019, 'sea_level': 1019, 'grnd_level': 999, 'humidity': 95, 'temp_kf': 0}, 'weather': [{'id': 802, 'main': 'Clouds', 'description': 'scattered clouds', 'icon': '03n'}], 'clouds': {'all': 30}, 'wind': {'speed': 1.7, 'deg': 321, 'gust': 1.38}, 'visibility': 10000, 'pop': 0, 'sys': {'pod': 'n'}, 'dt_txt': '2023-12-03 06:00:00'}, {'dt': 1701594000, 'main': {'temp': 259.47, 'feels_like': 255.75, 'temp_min': 259.47, 'temp_max': 259.47, 'pressure': 1021, 'sea_level': 1021, 'grnd_level': 1001, 'humidity': 95, 'temp_kf': 0}, 'weather': [{'id': 801, 'main': 'Clouds', 'description': 'few clouds', 'icon': '02d'}], 'clouds': {'all': 21}, 'wind': {'speed': 1.52, 'deg': 321, 'gust': 1.29}, 'visibility': 10000, 'pop': 0, 'sys': {'pod': 'd'}, 'dt_txt': '2023-12-03 09:00:00'}, {'dt': 1701604800, 'main': {'temp': 263.75, 'feels_like': 263.75, 'temp_min': 263.75, 'temp_max': 263.75, 'pressure': 1020, 'sea_level': 1020, 'grnd_level': 1000, 'humidity': 91, 'temp_kf': 0}, 'weather': [{'id': 802, 'main': 'Clouds', 'description': 'scattered clouds', 'icon': '03d'}], 'clouds': {'all': 38}, 'wind': {'speed': 0.72, 'deg': 358, 'gust': 1.19}, 'visibility': 10000, 'pop': 0, 'sys': {'pod': 'd'}, 'dt_txt': '2023-12-03 12:00:00'}, {'dt': 1701615600, 'main': {'temp': 262.17, 'feels_like': 262.17, 'temp_min': 262.17, 'temp_max': 262.17, 'pressure': 1020, 'sea_level': 1020, 'grnd_level': 1001, 'humidity': 95, 'temp_kf': 0}, 'weather': [{'id': 804, 'main': 'Clouds', 'description': 'overcast clouds', 'icon': '04n'}], 'clouds': {'all': 91}, 'wind': {'speed': 1.3, 'deg': 334, 'gust': 1.46}, 'visibility': 10000, 'pop': 0, 'sys': {'pod': 'n'}, 'dt_txt': '2023-12-03 15:00:00'}, {'dt': 1701626400, 'main': {'temp': 263.31, 'feels_like': 263.31, 'temp_min': 263.31, 'temp_max': 263.31, 'pressure': 1021, 'sea_level': 1021, 'grnd_level': 1001, 'humidity': 94, 'temp_kf': 0}, 'weather': [{'id': 804, 'main': 'Clouds', 'description': 'overcast clouds', 'icon': '04n'}], 'clouds': {'all': 95}, 'wind': {'speed': 1.14, 'deg': 333, 'gust': 1.35}, 'visibility': 10000, 'pop': 0, 'sys': {'pod': 'n'}, 'dt_txt': '2023-12-03 18:00:00'}, {'dt': 1701637200, 'main': {'temp': 263.67, 'feels_like': 263.67, 'temp_min': 263.67, 'temp_max': 263.67, 'pressure': 1021, 'sea_level': 1021, 'grnd_level': 1001, 'humidity': 94, 'temp_kf': 0}, 'weather': [{'id': 804, 'main': 'Clouds', 'description': 'overcast clouds', 'icon': '04n'}], 'clouds': {'all': 100}, 'wind': {'speed': 1.26, 'deg': 336, 'gust': 1.43}, 'visibility': 10000, 'pop': 0, 'sys': {'pod': 'n'}, 'dt_txt': '2023-12-03 21:00:00'}, {'dt': 1701648000, 'main': {'temp': 264.66, 'feels_like': 264.66, 'temp_min': 264.66, 'temp_max': 264.66, 'pressure': 1021, 'sea_level': 1021, 'grnd_level': 1001, 'humidity': 93, 'temp_kf': 0}, 'weather': [{'id': 804, 'main': 'Clouds', 'description': 'overcast clouds', 'icon': '04n'}], 'clouds': {'all': 100}, 'wind': {'speed': 1.21, 'deg': 333, 'gust': 1.6}, 'visibility': 10000, 'pop': 0, 'sys': {'pod': 'n'}, 'dt_txt': '2023-12-04 00:00:00'}, {'dt': 1701658800, 'main': {'temp': 265.66, 'feels_like': 265.66, 'temp_min': 265.66, 'temp_max': 265.66, 'pressure': 1021, 'sea_level': 1021, 'grnd_level': 1002, 'humidity': 94, 'temp_kf': 0}, 'weather': [{'id': 804, 'main': 'Clouds', 'description': 'overcast clouds', 'icon': '04n'}], 'clouds': {'all': 100}, 'wind': {'speed': 1.22, 'deg': 324, 'gust': 1.99}, 'visibility': 4079, 'pop': 0, 'sys': {'pod': 'n'}, 'dt_txt': '2023-12-04 03:00:00'}, {'dt': 1701669600, 'main': {'temp': 265.56, 'feels_like': 265.56, 'temp_min': 265.56, 'temp_max': 265.56, 'pressure': 1021, 'sea_level': 1021, 'grnd_level': 1002, 'humidity': 94, 'temp_kf': 0}, 'weather': [{'id': 804, 'main': 'Clouds', 'description': 'overcast clouds', 'icon': '04n'}], 'clouds': {'all': 100}, 'wind': {'speed': 1.33, 'deg': 321, 'gust': 1.67}, 'visibility': 10000, 'pop': 0, 'sys': {'pod': 'n'}, 'dt_txt': '2023-12-04 06:00:00'}, {'dt': 1701680400, 'main': {'temp': 264.77, 'feels_like': 261.56, 'temp_min': 264.77, 'temp_max': 264.77, 'pressure': 1023, 'sea_level': 1023, 'grnd_level': 1003, 'humidity': 93, 'temp_kf': 0}, 'weather': [{'id': 804, 'main': 'Clouds', 'description': 'overcast clouds', 'icon': '04d'}], 'clouds': {'all': 98}, 'wind': {'speed': 1.64, 'deg': 326, 'gust': 1.77}, 'visibility': 10000, 'pop': 0, 'sys': {'pod': 'd'}, 'dt_txt': '2023-12-04 09:00:00'}, {'dt': 1701691200, 'main': {'temp': 266.41, 'feels_like': 266.41, 'temp_min': 266.41, 'temp_max': 266.41, 'pressure': 1022, 'sea_level': 1022, 'grnd_level': 1003, 'humidity': 90, 'temp_kf': 0}, 'weather': [{'id': 803, 'main': 'Clouds', 'description': 'broken clouds', 'icon': '04d'}], 'clouds': {'all': 77}, 'wind': {'speed': 1.14, 'deg': 326, 'gust': 1.43}, 'visibility': 10000, 'pop': 0, 'sys': {'pod': 'd'}, 'dt_txt': '2023-12-04 12:00:00'}, {'dt': 1701702000, 'main': {'temp': 262.14, 'feels_like': 258.12, 'temp_min': 262.14, 'temp_max': 262.14, 'pressure': 1023, 'sea_level': 1023, 'grnd_level': 1003, 'humidity': 93, 'temp_kf': 0}, 'weather': [{'id': 802, 'main': 'Clouds', 'description': 'scattered clouds', 'icon': '03n'}], 'clouds': {'all': 28}, 'wind': {'speed': 1.86, 'deg': 312, 'gust': 1.46}, 'visibility': 10000, 'pop': 0, 'sys': {'pod': 'n'}, 'dt_txt': '2023-12-04 15:00:00'}, {'dt': 1701712800, 'main': {'temp': 261.3, 'feels_like': 257.18, 'temp_min': 261.3, 'temp_max': 261.3, 'pressure': 1023, 'sea_level': 1023, 'grnd_level': 1003, 'humidity': 93, 'temp_kf': 0}, 'weather': [{'id': 802, 'main': 'Clouds', 'description': 'scattered clouds', 'icon': '03n'}], 'clouds': {'all': 37}, 'wind': {'speed': 1.84, 'deg': 312, 'gust': 1.47}, 'visibility': 10000, 'pop': 0, 'sys': {'pod': 'n'}, 'dt_txt': '2023-12-04 18:00:00'}, {'dt': 1701723600, 'main': {'temp': 261.01, 'feels_like': 257, 'temp_min': 261.01, 'temp_max': 261.01, 'pressure': 1023, 'sea_level': 1023, 'grnd_level': 1003, 'humidity': 94, 'temp_kf': 0}, 'weather': [{'id': 802, 'main': 'Clouds', 'description': 'scattered clouds', 'icon': '03n'}], 'clouds': {'all': 48}, 'wind': {'speed': 1.76, 'deg': 312, 'gust': 1.39}, 'visibility': 10000, 'pop': 0, 'sys': {'pod': 'n'}, 'dt_txt': '2023-12-04 21:00:00'}], 'city': {'id': 3144113, 'name': 'Noresund', 'coord': {'lat': 60.1803, 'lon': 9.6231}, 'country': 'NO', 'population': 1000, 'timezone': 3600, 'sunrise': 1701244377, 'sunset': 1701268006}}\""
      ]
     },
     "execution_count": 15,
     "metadata": {},
     "output_type": "execute_result"
    }
   ],
   "source": [
    "# Inspect JSON file\n",
    "forecast.__str__()"
   ]
  },
  {
   "cell_type": "markdown",
   "metadata": {
    "slideshow": {
     "slide_type": "slide"
    }
   },
   "source": [
    "## Raw JSON\n",
    "- A simple, but not very efficient way of storing JSON data is to treat it as a text and save it directly to the database.  \n",
    "- More efficient, with regard to transfer, is to compress the JSON data to a blob first.\n",
    "    - Compression is automatic."
   ]
  },
  {
   "cell_type": "code",
   "execution_count": 16,
   "metadata": {
    "slideshow": {
     "slide_type": "-"
    }
   },
   "outputs": [
    {
     "data": {
      "text/plain": [
       "<cassandra.cluster.ResultSet at 0x10be45910>"
      ]
     },
     "execution_count": 16,
     "metadata": {},
     "output_type": "execute_result"
    }
   ],
   "source": [
    "# Create a new table which treats the whole JSON as a blob, using the city id and the first dt as keys\n",
    "session.set_keyspace('my_first_keyspace')\n",
    "session.execute(\"DROP TABLE IF EXISTS my_first_keyspace.forecast_table;\")\n",
    "session.execute(\"CREATE TABLE IF NOT EXISTS forecast_table (city_id int, dt int, forecast blob, PRIMARY KEY(city_id, dt));\")"
   ]
  },
  {
   "cell_type": "markdown",
   "metadata": {
    "slideshow": {
     "slide_type": "slide"
    }
   },
   "source": [
    "### Insert the forecast data into the table as text blob"
   ]
  },
  {
   "cell_type": "code",
   "execution_count": 17,
   "metadata": {
    "slideshow": {
     "slide_type": "-"
    }
   },
   "outputs": [
    {
     "data": {
      "text/plain": [
       "<cassandra.cluster.ResultSet at 0x10be56110>"
      ]
     },
     "execution_count": 17,
     "metadata": {},
     "output_type": "execute_result"
    }
   ],
   "source": [
    "session.execute(\"INSERT INTO forecast_table (city_id, dt, forecast) VALUES (%s, %s, textAsBlob(%s));\", (forecast['city']['id'], forecast['list'][0]['dt'], forecast.__str__()))"
   ]
  },
  {
   "cell_type": "code",
   "execution_count": 18,
   "metadata": {
    "slideshow": {
     "slide_type": "slide"
    }
   },
   "outputs": [
    {
     "name": "stdout",
     "output_type": "stream",
     "text": [
      "Row(city_id=3144113, dt=1701302400, forecast=b\"{'cod': '200', 'message': 0, 'cnt': 40, 'list': [{'dt': 1701302400, 'main': {'temp': 268.8, 'feels_like': 265.33, 'temp_min': 266.65, 'temp_max': 268.8, 'pressure': 1013, 'sea_level': 1013, 'grnd_level': 994, 'humidity': 93, 'temp_kf': 2.15}, 'weather': [{'id': 600, 'main': 'Snow', 'description': 'light snow', 'icon': '13n'}], 'clouds': {'all': 100}, 'wind': {'speed': 2.22, 'deg': 346, 'gust': 4.34}, 'visibility': 1797, 'pop': 0.71, 'snow': {'3h': 0.12}, 'sys': {'pod': 'n'}, 'dt_txt': '2023-11-30 00:00:00'}, {'dt': 1701313200, 'main': {'temp': 267.64, 'feels_like': 263.92, 'temp_min': 266.52, 'temp_max': 267.64, 'pressure': 1014, 'sea_level': 1014, 'grnd_level': 994, 'humidity': 94, 'temp_kf': 1.12}, 'weather': [{'id': 600, 'main': 'Snow', 'description': 'light snow', 'icon': '13n'}], 'clouds': {'all': 100}, 'wind': {'speed': 2.25, 'deg': 341, 'gust': 4.66}, 'visibility': 649, 'pop': 0.4, 'snow': {'3h': 0.18}, 'sys': {'pod': 'n'}, 'dt_txt': '2023-11-30 03:00:00'}, {'dt': 1701324000, 'main': {'temp': 265.85, 'feels_like': 261.69, 'temp_min': 265.85, 'temp_max': 265.85, 'pressure': 1014, 'sea_level': 1014, 'grnd_level': 995, 'humidity': 94, 'temp_kf': 0}, 'weather': [{'id': 600, 'main': 'Snow', 'description': 'light snow', 'icon': '13n'}], 'clouds': {'all': 100}, 'wind': {'speed': 2.34, 'deg': 334, 'gust': 4.81}, 'visibility': 1254, 'pop': 0.24, 'snow': {'3h': 0.26}, 'sys': {'pod': 'n'}, 'dt_txt': '2023-11-30 06:00:00'}, {'dt': 1701334800, 'main': {'temp': 265.22, 'feels_like': 261.06, 'temp_min': 265.22, 'temp_max': 265.22, 'pressure': 1015, 'sea_level': 1015, 'grnd_level': 996, 'humidity': 94, 'temp_kf': 0}, 'weather': [{'id': 600, 'main': 'Snow', 'description': 'light snow', 'icon': '13d'}], 'clouds': {'all': 100}, 'wind': {'speed': 2.26, 'deg': 333, 'gust': 4.44}, 'visibility': 968, 'pop': 0.21, 'snow': {'3h': 0.13}, 'sys': {'pod': 'd'}, 'dt_txt': '2023-11-30 09:00:00'}, {'dt': 1701345600, 'main': {'temp': 266.93, 'feels_like': 263.42, 'temp_min': 266.93, 'temp_max': 266.93, 'pressure': 1015, 'sea_level': 1015, 'grnd_level': 996, 'humidity': 92, 'temp_kf': 0}, 'weather': [{'id': 600, 'main': 'Snow', 'description': 'light snow', 'icon': '13d'}], 'clouds': {'all': 100}, 'wind': {'speed': 2.02, 'deg': 346, 'gust': 3.8}, 'visibility': 2113, 'pop': 0.21, 'snow': {'3h': 0.17}, 'sys': {'pod': 'd'}, 'dt_txt': '2023-11-30 12:00:00'}, {'dt': 1701356400, 'main': {'temp': 264.12, 'feels_like': 259.89, 'temp_min': 264.12, 'temp_max': 264.12, 'pressure': 1016, 'sea_level': 1016, 'grnd_level': 996, 'humidity': 95, 'temp_kf': 0}, 'weather': [{'id': 804, 'main': 'Clouds', 'description': 'overcast clouds', 'icon': '04n'}], 'clouds': {'all': 100}, 'wind': {'speed': 2.18, 'deg': 333, 'gust': 3.9}, 'visibility': 10000, 'pop': 0, 'sys': {'pod': 'n'}, 'dt_txt': '2023-11-30 15:00:00'}, {'dt': 1701367200, 'main': {'temp': 262.2, 'feels_like': 257.29, 'temp_min': 262.2, 'temp_max': 262.2, 'pressure': 1016, 'sea_level': 1016, 'grnd_level': 996, 'humidity': 93, 'temp_kf': 0}, 'weather': [{'id': 804, 'main': 'Clouds', 'description': 'overcast clouds', 'icon': '04n'}], 'clouds': {'all': 97}, 'wind': {'speed': 2.41, 'deg': 322, 'gust': 4.04}, 'visibility': 10000, 'pop': 0, 'sys': {'pod': 'n'}, 'dt_txt': '2023-11-30 18:00:00'}, {'dt': 1701378000, 'main': {'temp': 262.29, 'feels_like': 257.53, 'temp_min': 262.29, 'temp_max': 262.29, 'pressure': 1016, 'sea_level': 1016, 'grnd_level': 996, 'humidity': 93, 'temp_kf': 0}, 'weather': [{'id': 804, 'main': 'Clouds', 'description': 'overcast clouds', 'icon': '04n'}], 'clouds': {'all': 100}, 'wind': {'speed': 2.32, 'deg': 325, 'gust': 3.91}, 'visibility': 10000, 'pop': 0, 'sys': {'pod': 'n'}, 'dt_txt': '2023-11-30 21:00:00'}, {'dt': 1701388800, 'main': {'temp': 260.91, 'feels_like': 255.79, 'temp_min': 260.91, 'temp_max': 260.91, 'pressure': 1016, 'sea_level': 1016, 'grnd_level': 996, 'humidity': 93, 'temp_kf': 0}, 'weather': [{'id': 804, 'main': 'Clouds', 'description': 'overcast clouds', 'icon': '04n'}], 'clouds': {'all': 90}, 'wind': {'speed': 2.39, 'deg': 321, 'gust': 3.59}, 'visibility': 10000, 'pop': 0, 'sys': {'pod': 'n'}, 'dt_txt': '2023-12-01 00:00:00'}, {'dt': 1701399600, 'main': {'temp': 260.3, 'feels_like': 255.15, 'temp_min': 260.3, 'temp_max': 260.3, 'pressure': 1016, 'sea_level': 1016, 'grnd_level': 996, 'humidity': 93, 'temp_kf': 0}, 'weather': [{'id': 802, 'main': 'Clouds', 'description': 'scattered clouds', 'icon': '03n'}], 'clouds': {'all': 44}, 'wind': {'speed': 2.34, 'deg': 319, 'gust': 3.42}, 'visibility': 10000, 'pop': 0, 'sys': {'pod': 'n'}, 'dt_txt': '2023-12-01 03:00:00'}, {'dt': 1701410400, 'main': {'temp': 260.03, 'feels_like': 255.16, 'temp_min': 260.03, 'temp_max': 260.03, 'pressure': 1016, 'sea_level': 1016, 'grnd_level': 996, 'humidity': 93, 'temp_kf': 0}, 'weather': [{'id': 802, 'main': 'Clouds', 'description': 'scattered clouds', 'icon': '03n'}], 'clouds': {'all': 44}, 'wind': {'speed': 2.14, 'deg': 317, 'gust': 2.83}, 'visibility': 10000, 'pop': 0, 'sys': {'pod': 'n'}, 'dt_txt': '2023-12-01 06:00:00'}, {'dt': 1701421200, 'main': {'temp': 260.82, 'feels_like': 256.44, 'temp_min': 260.82, 'temp_max': 260.82, 'pressure': 1015, 'sea_level': 1015, 'grnd_level': 996, 'humidity': 91, 'temp_kf': 0}, 'weather': [{'id': 802, 'main': 'Clouds', 'description': 'scattered clouds', 'icon': '03d'}], 'clouds': {'all': 42}, 'wind': {'speed': 1.94, 'deg': 319, 'gust': 2.72}, 'visibility': 10000, 'pop': 0, 'sys': {'pod': 'd'}, 'dt_txt': '2023-12-01 09:00:00'}, {'dt': 1701432000, 'main': {'temp': 264.86, 'feels_like': 264.86, 'temp_min': 264.86, 'temp_max': 264.86, 'pressure': 1013, 'sea_level': 1013, 'grnd_level': 994, 'humidity': 87, 'temp_kf': 0}, 'weather': [{'id': 802, 'main': 'Clouds', 'description': 'scattered clouds', 'icon': '03d'}], 'clouds': {'all': 36}, 'wind': {'speed': 1.03, 'deg': 319, 'gust': 1.87}, 'visibility': 10000, 'pop': 0, 'sys': {'pod': 'd'}, 'dt_txt': '2023-12-01 12:00:00'}, {'dt': 1701442800, 'main': {'temp': 260.47, 'feels_like': 256.16, 'temp_min': 260.47, 'temp_max': 260.47, 'pressure': 1014, 'sea_level': 1014, 'grnd_level': 994, 'humidity': 92, 'temp_kf': 0}, 'weather': [{'id': 802, 'main': 'Clouds', 'description': 'scattered clouds', 'icon': '03n'}], 'clouds': {'all': 44}, 'wind': {'speed': 1.87, 'deg': 315, 'gust': 1.49}, 'visibility': 10000, 'pop': 0, 'sys': {'pod': 'n'}, 'dt_txt': '2023-12-01 15:00:00'}, {'dt': 1701453600, 'main': {'temp': 260.08, 'feels_like': 255.6, 'temp_min': 260.08, 'temp_max': 260.08, 'pressure': 1014, 'sea_level': 1014, 'grnd_level': 994, 'humidity': 89, 'temp_kf': 0}, 'weather': [{'id': 803, 'main': 'Clouds', 'description': 'broken clouds', 'icon': '04n'}], 'clouds': {'all': 56}, 'wind': {'speed': 1.93, 'deg': 312, 'gust': 1.53}, 'visibility': 10000, 'pop': 0, 'sys': {'pod': 'n'}, 'dt_txt': '2023-12-01 18:00:00'}, {'dt': 1701464400, 'main': {'temp': 259.74, 'feels_like': 255.19, 'temp_min': 259.74, 'temp_max': 259.74, 'pressure': 1014, 'sea_level': 1014, 'grnd_level': 994, 'humidity': 89, 'temp_kf': 0}, 'weather': [{'id': 803, 'main': 'Clouds', 'description': 'broken clouds', 'icon': '04n'}], 'clouds': {'all': 51}, 'wind': {'speed': 1.94, 'deg': 313, 'gust': 1.54}, 'visibility': 10000, 'pop': 0, 'sys': {'pod': 'n'}, 'dt_txt': '2023-12-01 21:00:00'}, {'dt': 1701475200, 'main': {'temp': 259.33, 'feels_like': 254.79, 'temp_min': 259.33, 'temp_max': 259.33, 'pressure': 1015, 'sea_level': 1015, 'grnd_level': 995, 'humidity': 90, 'temp_kf': 0}, 'weather': [{'id': 802, 'main': 'Clouds', 'description': 'scattered clouds', 'icon': '03n'}], 'clouds': {'all': 43}, 'wind': {'speed': 1.9, 'deg': 316, 'gust': 1.96}, 'visibility': 10000, 'pop': 0, 'sys': {'pod': 'n'}, 'dt_txt': '2023-12-02 00:00:00'}, {'dt': 1701486000, 'main': {'temp': 259.46, 'feels_like': 254.8, 'temp_min': 259.46, 'temp_max': 259.46, 'pressure': 1014, 'sea_level': 1014, 'grnd_level': 994, 'humidity': 90, 'temp_kf': 0}, 'weather': [{'id': 803, 'main': 'Clouds', 'description': 'broken clouds', 'icon': '04n'}], 'clouds': {'all': 71}, 'wind': {'speed': 1.97, 'deg': 318, 'gust': 2.14}, 'visibility': 10000, 'pop': 0, 'sys': {'pod': 'n'}, 'dt_txt': '2023-12-02 03:00:00'}, {'dt': 1701496800, 'main': {'temp': 261.23, 'feels_like': 257.5, 'temp_min': 261.23, 'temp_max': 261.23, 'pressure': 1014, 'sea_level': 1014, 'grnd_level': 995, 'humidity': 89, 'temp_kf': 0}, 'weather': [{'id': 803, 'main': 'Clouds', 'description': 'broken clouds', 'icon': '04n'}], 'clouds': {'all': 84}, 'wind': {'speed': 1.64, 'deg': 311, 'gust': 1.79}, 'visibility': 10000, 'pop': 0, 'sys': {'pod': 'n'}, 'dt_txt': '2023-12-02 06:00:00'}, {'dt': 1701507600, 'main': {'temp': 261.91, 'feels_like': 258.26, 'temp_min': 261.91, 'temp_max': 261.91, 'pressure': 1015, 'sea_level': 1015, 'grnd_level': 995, 'humidity': 89, 'temp_kf': 0}, 'weather': [{'id': 804, 'main': 'Clouds', 'description': 'overcast clouds', 'icon': '04d'}], 'clouds': {'all': 91}, 'wind': {'speed': 1.65, 'deg': 313, 'gust': 1.95}, 'visibility': 10000, 'pop': 0, 'sys': {'pod': 'd'}, 'dt_txt': '2023-12-02 09:00:00'}, {'dt': 1701518400, 'main': {'temp': 265.31, 'feels_like': 265.31, 'temp_min': 265.31, 'temp_max': 265.31, 'pressure': 1014, 'sea_level': 1014, 'grnd_level': 995, 'humidity': 89, 'temp_kf': 0}, 'weather': [{'id': 804, 'main': 'Clouds', 'description': 'overcast clouds', 'icon': '04d'}], 'clouds': {'all': 87}, 'wind': {'speed': 0.71, 'deg': 342, 'gust': 1.01}, 'visibility': 10000, 'pop': 0, 'sys': {'pod': 'd'}, 'dt_txt': '2023-12-02 12:00:00'}, {'dt': 1701529200, 'main': {'temp': 261.24, 'feels_like': 257.35, 'temp_min': 261.24, 'temp_max': 261.24, 'pressure': 1016, 'sea_level': 1016, 'grnd_level': 996, 'humidity': 94, 'temp_kf': 0}, 'weather': [{'id': 802, 'main': 'Clouds', 'description': 'scattered clouds', 'icon': '03n'}], 'clouds': {'all': 35}, 'wind': {'speed': 1.72, 'deg': 314, 'gust': 1.39}, 'visibility': 10000, 'pop': 0, 'sys': {'pod': 'n'}, 'dt_txt': '2023-12-02 15:00:00'}, {'dt': 1701540000, 'main': {'temp': 260.83, 'feels_like': 257.19, 'temp_min': 260.83, 'temp_max': 260.83, 'pressure': 1016, 'sea_level': 1016, 'grnd_level': 997, 'humidity': 94, 'temp_kf': 0}, 'weather': [{'id': 803, 'main': 'Clouds', 'description': 'broken clouds', 'icon': '04n'}], 'clouds': {'all': 55}, 'wind': {'speed': 1.57, 'deg': 326, 'gust': 1.3}, 'visibility': 10000, 'pop': 0, 'sys': {'pod': 'n'}, 'dt_txt': '2023-12-02 18:00:00'}, {'dt': 1701550800, 'main': {'temp': 260.8, 'feels_like': 257.38, 'temp_min': 260.8, 'temp_max': 260.8, 'pressure': 1018, 'sea_level': 1018, 'grnd_level': 998, 'humidity': 95, 'temp_kf': 0}, 'weather': [{'id': 803, 'main': 'Clouds', 'description': 'broken clouds', 'icon': '04n'}], 'clouds': {'all': 80}, 'wind': {'speed': 1.47, 'deg': 323, 'gust': 1.22}, 'visibility': 10000, 'pop': 0, 'sys': {'pod': 'n'}, 'dt_txt': '2023-12-02 21:00:00'}, {'dt': 1701561600, 'main': {'temp': 259.45, 'feels_like': 255.37, 'temp_min': 259.45, 'temp_max': 259.45, 'pressure': 1018, 'sea_level': 1018, 'grnd_level': 998, 'humidity': 95, 'temp_kf': 0}, 'weather': [{'id': 803, 'main': 'Clouds', 'description': 'broken clouds', 'icon': '04n'}], 'clouds': {'all': 64}, 'wind': {'speed': 1.68, 'deg': 320, 'gust': 1.36}, 'visibility': 10000, 'pop': 0, 'sys': {'pod': 'n'}, 'dt_txt': '2023-12-03 00:00:00'}, {'dt': 1701572400, 'main': {'temp': 258.92, 'feels_like': 254.87, 'temp_min': 258.92, 'temp_max': 258.92, 'pressure': 1019, 'sea_level': 1019, 'grnd_level': 999, 'humidity': 95, 'temp_kf': 0}, 'weather': [{'id': 802, 'main': 'Clouds', 'description': 'scattered clouds', 'icon': '03n'}], 'clouds': {'all': 32}, 'wind': {'speed': 1.63, 'deg': 321, 'gust': 1.32}, 'visibility': 10000, 'pop': 0, 'sys': {'pod': 'n'}, 'dt_txt': '2023-12-03 03:00:00'}, {'dt': 1701583200, 'main': {'temp': 258.81, 'feels_like': 254.59, 'temp_min': 258.81, 'temp_max': 258.81, 'pressure': 1019, 'sea_level': 1019, 'grnd_level': 999, 'humidity': 95, 'temp_kf': 0}, 'weather': [{'id': 802, 'main': 'Clouds', 'description': 'scattered clouds', 'icon': '03n'}], 'clouds': {'all': 30}, 'wind': {'speed': 1.7, 'deg': 321, 'gust': 1.38}, 'visibility': 10000, 'pop': 0, 'sys': {'pod': 'n'}, 'dt_txt': '2023-12-03 06:00:00'}, {'dt': 1701594000, 'main': {'temp': 259.47, 'feels_like': 255.75, 'temp_min': 259.47, 'temp_max': 259.47, 'pressure': 1021, 'sea_level': 1021, 'grnd_level': 1001, 'humidity': 95, 'temp_kf': 0}, 'weather': [{'id': 801, 'main': 'Clouds', 'description': 'few clouds', 'icon': '02d'}], 'clouds': {'all': 21}, 'wind': {'speed': 1.52, 'deg': 321, 'gust': 1.29}, 'visibility': 10000, 'pop': 0, 'sys': {'pod': 'd'}, 'dt_txt': '2023-12-03 09:00:00'}, {'dt': 1701604800, 'main': {'temp': 263.75, 'feels_like': 263.75, 'temp_min': 263.75, 'temp_max': 263.75, 'pressure': 1020, 'sea_level': 1020, 'grnd_level': 1000, 'humidity': 91, 'temp_kf': 0}, 'weather': [{'id': 802, 'main': 'Clouds', 'description': 'scattered clouds', 'icon': '03d'}], 'clouds': {'all': 38}, 'wind': {'speed': 0.72, 'deg': 358, 'gust': 1.19}, 'visibility': 10000, 'pop': 0, 'sys': {'pod': 'd'}, 'dt_txt': '2023-12-03 12:00:00'}, {'dt': 1701615600, 'main': {'temp': 262.17, 'feels_like': 262.17, 'temp_min': 262.17, 'temp_max': 262.17, 'pressure': 1020, 'sea_level': 1020, 'grnd_level': 1001, 'humidity': 95, 'temp_kf': 0}, 'weather': [{'id': 804, 'main': 'Clouds', 'description': 'overcast clouds', 'icon': '04n'}], 'clouds': {'all': 91}, 'wind': {'speed': 1.3, 'deg': 334, 'gust': 1.46}, 'visibility': 10000, 'pop': 0, 'sys': {'pod': 'n'}, 'dt_txt': '2023-12-03 15:00:00'}, {'dt': 1701626400, 'main': {'temp': 263.31, 'feels_like': 263.31, 'temp_min': 263.31, 'temp_max': 263.31, 'pressure': 1021, 'sea_level': 1021, 'grnd_level': 1001, 'humidity': 94, 'temp_kf': 0}, 'weather': [{'id': 804, 'main': 'Clouds', 'description': 'overcast clouds', 'icon': '04n'}], 'clouds': {'all': 95}, 'wind': {'speed': 1.14, 'deg': 333, 'gust': 1.35}, 'visibility': 10000, 'pop': 0, 'sys': {'pod': 'n'}, 'dt_txt': '2023-12-03 18:00:00'}, {'dt': 1701637200, 'main': {'temp': 263.67, 'feels_like': 263.67, 'temp_min': 263.67, 'temp_max': 263.67, 'pressure': 1021, 'sea_level': 1021, 'grnd_level': 1001, 'humidity': 94, 'temp_kf': 0}, 'weather': [{'id': 804, 'main': 'Clouds', 'description': 'overcast clouds', 'icon': '04n'}], 'clouds': {'all': 100}, 'wind': {'speed': 1.26, 'deg': 336, 'gust': 1.43}, 'visibility': 10000, 'pop': 0, 'sys': {'pod': 'n'}, 'dt_txt': '2023-12-03 21:00:00'}, {'dt': 1701648000, 'main': {'temp': 264.66, 'feels_like': 264.66, 'temp_min': 264.66, 'temp_max': 264.66, 'pressure': 1021, 'sea_level': 1021, 'grnd_level': 1001, 'humidity': 93, 'temp_kf': 0}, 'weather': [{'id': 804, 'main': 'Clouds', 'description': 'overcast clouds', 'icon': '04n'}], 'clouds': {'all': 100}, 'wind': {'speed': 1.21, 'deg': 333, 'gust': 1.6}, 'visibility': 10000, 'pop': 0, 'sys': {'pod': 'n'}, 'dt_txt': '2023-12-04 00:00:00'}, {'dt': 1701658800, 'main': {'temp': 265.66, 'feels_like': 265.66, 'temp_min': 265.66, 'temp_max': 265.66, 'pressure': 1021, 'sea_level': 1021, 'grnd_level': 1002, 'humidity': 94, 'temp_kf': 0}, 'weather': [{'id': 804, 'main': 'Clouds', 'description': 'overcast clouds', 'icon': '04n'}], 'clouds': {'all': 100}, 'wind': {'speed': 1.22, 'deg': 324, 'gust': 1.99}, 'visibility': 4079, 'pop': 0, 'sys': {'pod': 'n'}, 'dt_txt': '2023-12-04 03:00:00'}, {'dt': 1701669600, 'main': {'temp': 265.56, 'feels_like': 265.56, 'temp_min': 265.56, 'temp_max': 265.56, 'pressure': 1021, 'sea_level': 1021, 'grnd_level': 1002, 'humidity': 94, 'temp_kf': 0}, 'weather': [{'id': 804, 'main': 'Clouds', 'description': 'overcast clouds', 'icon': '04n'}], 'clouds': {'all': 100}, 'wind': {'speed': 1.33, 'deg': 321, 'gust': 1.67}, 'visibility': 10000, 'pop': 0, 'sys': {'pod': 'n'}, 'dt_txt': '2023-12-04 06:00:00'}, {'dt': 1701680400, 'main': {'temp': 264.77, 'feels_like': 261.56, 'temp_min': 264.77, 'temp_max': 264.77, 'pressure': 1023, 'sea_level': 1023, 'grnd_level': 1003, 'humidity': 93, 'temp_kf': 0}, 'weather': [{'id': 804, 'main': 'Clouds', 'description': 'overcast clouds', 'icon': '04d'}], 'clouds': {'all': 98}, 'wind': {'speed': 1.64, 'deg': 326, 'gust': 1.77}, 'visibility': 10000, 'pop': 0, 'sys': {'pod': 'd'}, 'dt_txt': '2023-12-04 09:00:00'}, {'dt': 1701691200, 'main': {'temp': 266.41, 'feels_like': 266.41, 'temp_min': 266.41, 'temp_max': 266.41, 'pressure': 1022, 'sea_level': 1022, 'grnd_level': 1003, 'humidity': 90, 'temp_kf': 0}, 'weather': [{'id': 803, 'main': 'Clouds', 'description': 'broken clouds', 'icon': '04d'}], 'clouds': {'all': 77}, 'wind': {'speed': 1.14, 'deg': 326, 'gust': 1.43}, 'visibility': 10000, 'pop': 0, 'sys': {'pod': 'd'}, 'dt_txt': '2023-12-04 12:00:00'}, {'dt': 1701702000, 'main': {'temp': 262.14, 'feels_like': 258.12, 'temp_min': 262.14, 'temp_max': 262.14, 'pressure': 1023, 'sea_level': 1023, 'grnd_level': 1003, 'humidity': 93, 'temp_kf': 0}, 'weather': [{'id': 802, 'main': 'Clouds', 'description': 'scattered clouds', 'icon': '03n'}], 'clouds': {'all': 28}, 'wind': {'speed': 1.86, 'deg': 312, 'gust': 1.46}, 'visibility': 10000, 'pop': 0, 'sys': {'pod': 'n'}, 'dt_txt': '2023-12-04 15:00:00'}, {'dt': 1701712800, 'main': {'temp': 261.3, 'feels_like': 257.18, 'temp_min': 261.3, 'temp_max': 261.3, 'pressure': 1023, 'sea_level': 1023, 'grnd_level': 1003, 'humidity': 93, 'temp_kf': 0}, 'weather': [{'id': 802, 'main': 'Clouds', 'description': 'scattered clouds', 'icon': '03n'}], 'clouds': {'all': 37}, 'wind': {'speed': 1.84, 'deg': 312, 'gust': 1.47}, 'visibility': 10000, 'pop': 0, 'sys': {'pod': 'n'}, 'dt_txt': '2023-12-04 18:00:00'}, {'dt': 1701723600, 'main': {'temp': 261.01, 'feels_like': 257, 'temp_min': 261.01, 'temp_max': 261.01, 'pressure': 1023, 'sea_level': 1023, 'grnd_level': 1003, 'humidity': 94, 'temp_kf': 0}, 'weather': [{'id': 802, 'main': 'Clouds', 'description': 'scattered clouds', 'icon': '03n'}], 'clouds': {'all': 48}, 'wind': {'speed': 1.76, 'deg': 312, 'gust': 1.39}, 'visibility': 10000, 'pop': 0, 'sys': {'pod': 'n'}, 'dt_txt': '2023-12-04 21:00:00'}], 'city': {'id': 3144113, 'name': 'Noresund', 'coord': {'lat': 60.1803, 'lon': 9.6231}, 'country': 'NO', 'population': 1000, 'timezone': 3600, 'sunrise': 1701244377, 'sunset': 1701268006}}\")\n"
     ]
    }
   ],
   "source": [
    "# Query the data\n",
    "forecast_rows = session.execute(\"SELECT * FROM forecast_table;\")\n",
    "print(forecast_rows.one()) # <- only one row"
   ]
  },
  {
   "cell_type": "markdown",
   "metadata": {
    "slideshow": {
     "slide_type": "slide"
    }
   },
   "source": [
    "```{seealso} Resources\n",
    ":class: tip\n",
    "- [Cassandra webpage](https://cassandra.apache.org/)\n",
    "- [Cassandra Docker file](https://hub.docker.com/_/cassandra)\n",
    "- [UUID functions](https://docs.datastax.com/en/cql-oss/3.3/cql/cql_reference/timeuuid_functions_r.html)\n",
    "- [YouTube: Cassandra in 100 seconds](https://youtu.be/ziq7FUKpCS8?si=WQUdkHFvaBmT0DBo) (2m:26s)\n",
    "- [YouTube: How to use Apache Cassandra in Python](https://youtu.be/qMauZqJH3ZM?si=yKGZ-5cld2BK396Y) (14m:50s)\n",
    "- [YouTube: Cassandra Database Crash Course](https://youtu.be/KZsVSfQVU4I?si=FBCi8qOfCirfVmZk) (19m:47s)\n",
    "```"
   ]
  }
 ],
 "metadata": {
  "celltoolbar": "Slideshow",
  "kernelspec": {
   "display_name": "Python 3 (ipykernel)",
   "language": "python",
   "name": "python3"
  },
  "language_info": {
   "codemirror_mode": {
    "name": "ipython",
    "version": 3
   },
   "file_extension": ".py",
   "mimetype": "text/x-python",
   "name": "python",
   "nbconvert_exporter": "python",
   "pygments_lexer": "ipython3",
   "version": "3.11.6"
  }
 },
 "nbformat": 4,
 "nbformat_minor": 2
}