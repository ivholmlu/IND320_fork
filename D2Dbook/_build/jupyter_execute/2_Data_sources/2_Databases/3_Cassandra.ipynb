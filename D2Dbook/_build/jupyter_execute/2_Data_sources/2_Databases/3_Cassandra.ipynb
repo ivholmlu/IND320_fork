{
 "cells": [
  {
   "cell_type": "markdown",
   "metadata": {
    "slideshow": {
     "slide_type": "slide"
    }
   },
   "source": [
    "# Cassandra\n",
    "- A production grade NoSQL database.\n",
    "- Can be distributed across servers, nodes, etc.\n",
    "- Replication of database is supported for high degree of redundancy and speed.\n",
    "- Uses CQL, a subset of SQL for querying.\n",
    "- Works seamlesly together with Spark and its corresponding distributed structure.\n",
    "- Installation of Cassandra is explained in the [Installation chapter](../../6_Appendix/Installation.ipynb)."
   ]
  },
  {
   "cell_type": "markdown",
   "metadata": {
    "slideshow": {
     "slide_type": "slide"
    }
   },
   "source": [
    "## Spinning up a local Cassandra instance\n",
    "In a terminal, first time:  \n",
    "```docker run --name my_cassandra -p 9042:9042 cassandra:latest```  \n",
    "... and later:  \n",
    "```docker start my_cassandra```  \n",
    "  \n",
    ".. or in Docker Desktop:\n",
    "- Run the cassandra docker image with optional settings, opening 9042 port and setting a name.\n",
    "- Later, simply run the container with the name you chose."
   ]
  },
  {
   "cell_type": "markdown",
   "metadata": {
    "slideshow": {
     "slide_type": "slide"
    }
   },
   "source": [
    "<img src=\"../../images/Docker_images.png\" width=\"600px\">  "
   ]
  },
  {
   "cell_type": "markdown",
   "metadata": {
    "slideshow": {
     "slide_type": "slide"
    }
   },
   "source": [
    "\n",
    "<img src=\"../../images/Docker_containers.png\" width=\"800px\">  "
   ]
  },
  {
   "cell_type": "markdown",
   "metadata": {
    "slideshow": {
     "slide_type": "slide"
    }
   },
   "source": [
    "### Connect to the Cassandra cluster from Python."
   ]
  },
  {
   "cell_type": "code",
   "execution_count": 1,
   "metadata": {
    "slideshow": {
     "slide_type": "-"
    }
   },
   "outputs": [],
   "source": [
    "# Connecting to Cassandra\n",
    "from cassandra.cluster import Cluster\n",
    "cluster = Cluster(['localhost'], port=9042)\n",
    "session = cluster.connect()"
   ]
  },
  {
   "cell_type": "markdown",
   "metadata": {
    "slideshow": {
     "slide_type": "slide"
    }
   },
   "source": [
    "### Keyspace\n",
    "- In Cassandra database tables are stored in keyspaces (basically a distributed database).\n",
    "- These have parameters controlling their distribution on nodes/servers and redundancy.\n",
    "- We will use the simplest form locally."
   ]
  },
  {
   "cell_type": "code",
   "execution_count": 2,
   "metadata": {
    "slideshow": {
     "slide_type": "fragment"
    }
   },
   "outputs": [
    {
     "data": {
      "text/plain": [
       "<cassandra.cluster.ResultSet at 0x10751d0c0>"
      ]
     },
     "execution_count": 2,
     "metadata": {},
     "output_type": "execute_result"
    }
   ],
   "source": [
    "# Set up new keyspace (first time only)\n",
    "#                                              name of keyspace                        replication strategy           replication factor\n",
    "session.execute(\"CREATE KEYSPACE IF NOT EXISTS my_first_keyspace WITH REPLICATION = { 'class' : 'SimpleStrategy', 'replication_factor' : 1 };\")"
   ]
  },
  {
   "cell_type": "markdown",
   "metadata": {
    "slideshow": {
     "slide_type": "slide"
    }
   },
   "source": [
    "### Create a table\n",
    "- IF NOT EXISTS makes sure we do not overwrite existing tables"
   ]
  },
  {
   "cell_type": "code",
   "execution_count": 3,
   "metadata": {
    "slideshow": {
     "slide_type": "fragment"
    }
   },
   "outputs": [
    {
     "data": {
      "text/plain": [
       "<cassandra.cluster.ResultSet at 0x1087ee110>"
      ]
     },
     "execution_count": 3,
     "metadata": {},
     "output_type": "execute_result"
    }
   ],
   "source": [
    "# Create a new table (first time only)\n",
    "session.set_keyspace('my_first_keyspace')\n",
    "session.execute(\"DROP TABLE IF EXISTS my_first_keyspace.my_first_table;\") # Starting from scratch every time\n",
    "session.execute(\"CREATE TABLE IF NOT EXISTS my_first_table (ind int PRIMARY KEY, company text, model text);\")"
   ]
  },
  {
   "cell_type": "markdown",
   "metadata": {
    "slideshow": {
     "slide_type": "slide"
    }
   },
   "source": [
    "### Inserting and reading data"
   ]
  },
  {
   "cell_type": "code",
   "execution_count": 4,
   "metadata": {
    "slideshow": {
     "slide_type": "-"
    }
   },
   "outputs": [
    {
     "data": {
      "text/plain": [
       "<cassandra.cluster.ResultSet at 0x1087eac20>"
      ]
     },
     "execution_count": 4,
     "metadata": {},
     "output_type": "execute_result"
    }
   ],
   "source": [
    "# Insert some data (ind is the primary key, must be unique)\n",
    "session.execute(\"INSERT INTO my_first_table (ind, company, model) VALUES (1, 'Tesla', 'Model S');\")\n",
    "session.execute(\"INSERT INTO my_first_table (ind, company, model) VALUES (2, 'Tesla', 'Model 3');\")\n",
    "session.execute(\"INSERT INTO my_first_table (ind, company, model) VALUES (3, 'Polestar', '3');\")"
   ]
  },
  {
   "cell_type": "markdown",
   "metadata": {
    "slideshow": {
     "slide_type": "slide"
    }
   },
   "source": [
    "### Asyncronous writing\n",
    "- If your application is very data intensive, waiting for a response is not productive.\n",
    "- Writing asyncronously sends the data but does not pause for reply."
   ]
  },
  {
   "cell_type": "code",
   "execution_count": 5,
   "metadata": {
    "slideshow": {
     "slide_type": "-"
    }
   },
   "outputs": [
    {
     "data": {
      "text/plain": [
       "<ResponseFuture: query='<SimpleStatement query=\"INSERT INTO my_first_table (ind, company, model) VALUES (4, 'Volkswagen', 'ID.4');\", consistency=Not Set>' request_id=24 result=(no result yet) exception=None coordinator_host=None>"
      ]
     },
     "execution_count": 5,
     "metadata": {},
     "output_type": "execute_result"
    }
   ],
   "source": [
    "session.execute_async(\"INSERT INTO my_first_table (ind, company, model) VALUES (4, 'Volkswagen', 'ID.4');\")"
   ]
  },
  {
   "cell_type": "code",
   "execution_count": 6,
   "metadata": {
    "slideshow": {
     "slide_type": "slide"
    }
   },
   "outputs": [
    {
     "name": "stdout",
     "output_type": "stream",
     "text": [
      "Row(ind=1, company='Tesla', model='Model S')\n",
      "Row(ind=2, company='Tesla', model='Model 3')\n",
      "Row(ind=4, company='Volkswagen', model='ID.4')\n",
      "Row(ind=3, company='Polestar', model='3')\n"
     ]
    }
   ],
   "source": [
    "# Query the data\n",
    "rows = session.execute(\"SELECT * FROM my_first_table;\")\n",
    "for i in rows:\n",
    "    print(i)"
   ]
  },
  {
   "cell_type": "code",
   "execution_count": 7,
   "metadata": {
    "slideshow": {
     "slide_type": "slide"
    },
    "tags": [
     "raises-exception"
    ]
   },
   "outputs": [
    {
     "ename": "InvalidRequest",
     "evalue": "Error from server: code=2200 [Invalid query] message=\"Cannot execute this query as it might involve data filtering and thus may have unpredictable performance. If you want to execute this query despite the performance unpredictability, use ALLOW FILTERING\"",
     "output_type": "error",
     "traceback": [
      "\u001b[0;31m---------------------------------------------------------------------------\u001b[0m",
      "\u001b[0;31mInvalidRequest\u001b[0m                            Traceback (most recent call last)",
      "Cell \u001b[0;32mIn [7], line 2\u001b[0m\n\u001b[1;32m      1\u001b[0m \u001b[38;5;66;03m# More specific query\u001b[39;00m\n\u001b[0;32m----> 2\u001b[0m prepared_statement \u001b[38;5;241m=\u001b[39m \u001b[43msession\u001b[49m\u001b[38;5;241;43m.\u001b[39;49m\u001b[43mprepare\u001b[49m\u001b[43m(\u001b[49m\u001b[38;5;124;43m\"\u001b[39;49m\u001b[38;5;124;43mSELECT * FROM my_first_table WHERE company=?;\u001b[39;49m\u001b[38;5;124;43m\"\u001b[39;49m\u001b[43m)\u001b[49m \u001b[38;5;66;03m# <- will fail as company is not a key\u001b[39;00m\n\u001b[1;32m      3\u001b[0m teslas \u001b[38;5;241m=\u001b[39m session\u001b[38;5;241m.\u001b[39mexecute(prepared_statement, [\u001b[38;5;124m'\u001b[39m\u001b[38;5;124mTesla\u001b[39m\u001b[38;5;124m'\u001b[39m])\n\u001b[1;32m      4\u001b[0m \u001b[38;5;28;01mfor\u001b[39;00m i \u001b[38;5;129;01min\u001b[39;00m teslas:\n",
      "File \u001b[0;32m~/miniforge3/envs/tf_M1/lib/python3.10/site-packages/cassandra/cluster.py:3088\u001b[0m, in \u001b[0;36mSession.prepare\u001b[0;34m(self, query, custom_payload, keyspace)\u001b[0m\n\u001b[1;32m   3086\u001b[0m \u001b[38;5;28;01mtry\u001b[39;00m:\n\u001b[1;32m   3087\u001b[0m     future\u001b[38;5;241m.\u001b[39msend_request()\n\u001b[0;32m-> 3088\u001b[0m     response \u001b[38;5;241m=\u001b[39m \u001b[43mfuture\u001b[49m\u001b[38;5;241;43m.\u001b[39;49m\u001b[43mresult\u001b[49m\u001b[43m(\u001b[49m\u001b[43m)\u001b[49m\u001b[38;5;241m.\u001b[39mone()\n\u001b[1;32m   3089\u001b[0m \u001b[38;5;28;01mexcept\u001b[39;00m \u001b[38;5;167;01mException\u001b[39;00m:\n\u001b[1;32m   3090\u001b[0m     log\u001b[38;5;241m.\u001b[39mexception(\u001b[38;5;124m\"\u001b[39m\u001b[38;5;124mError preparing query:\u001b[39m\u001b[38;5;124m\"\u001b[39m)\n",
      "File \u001b[0;32m~/miniforge3/envs/tf_M1/lib/python3.10/site-packages/cassandra/cluster.py:4920\u001b[0m, in \u001b[0;36mResponseFuture.result\u001b[0;34m(self)\u001b[0m\n\u001b[1;32m   4918\u001b[0m     \u001b[38;5;28;01mreturn\u001b[39;00m ResultSet(\u001b[38;5;28mself\u001b[39m, \u001b[38;5;28mself\u001b[39m\u001b[38;5;241m.\u001b[39m_final_result)\n\u001b[1;32m   4919\u001b[0m \u001b[38;5;28;01melse\u001b[39;00m:\n\u001b[0;32m-> 4920\u001b[0m     \u001b[38;5;28;01mraise\u001b[39;00m \u001b[38;5;28mself\u001b[39m\u001b[38;5;241m.\u001b[39m_final_exception\n",
      "\u001b[0;31mInvalidRequest\u001b[0m: Error from server: code=2200 [Invalid query] message=\"Cannot execute this query as it might involve data filtering and thus may have unpredictable performance. If you want to execute this query despite the performance unpredictability, use ALLOW FILTERING\""
     ]
    }
   ],
   "source": [
    "# More specific query\n",
    "prepared_statement = session.prepare(\"SELECT * FROM my_first_table WHERE company=?;\") # <- will fail as company is not a key\n",
    "teslas = session.execute(prepared_statement, ['Tesla'])\n",
    "for i in teslas:\n",
    "    print(i)"
   ]
  },
  {
   "cell_type": "markdown",
   "metadata": {
    "slideshow": {
     "slide_type": "slide"
    }
   },
   "source": [
    "## Cassandra filtering\n",
    "Cassandra is inherently a distributed production database. Selecting as above may require downloading all data from a node, then filtering based on the WHERE part (only PRIMARY KEYs are centrally known). Solutions:  \n",
    "- If the table is small or most of the data will satisfy the query, add ```ALLOW FILTERING``` at the end of the query (not recommended if not known). \n",
    "- Or make sure the WHERE clause points to one of the keys (see below)."
   ]
  },
  {
   "cell_type": "code",
   "execution_count": 8,
   "metadata": {
    "slideshow": {
     "slide_type": "slide"
    }
   },
   "outputs": [
    {
     "data": {
      "text/plain": [
       "<cassandra.cluster.ResultSet at 0x109361690>"
      ]
     },
     "execution_count": 8,
     "metadata": {},
     "output_type": "execute_result"
    }
   ],
   "source": [
    "# Create a new table (observe keys)\n",
    "session.execute(\"DROP TABLE IF EXISTS my_first_keyspace.car_table;\")\n",
    "session.execute(\"CREATE TABLE IF NOT EXISTS car_table (company text, model text, PRIMARY KEY(company, model));\")"
   ]
  },
  {
   "cell_type": "code",
   "execution_count": 9,
   "metadata": {
    "slideshow": {
     "slide_type": "fragment"
    }
   },
   "outputs": [
    {
     "data": {
      "text/plain": [
       "<cassandra.cluster.ResultSet at 0x1093630d0>"
      ]
     },
     "execution_count": 9,
     "metadata": {},
     "output_type": "execute_result"
    }
   ],
   "source": [
    "# Insert some data (combination of company and model must be unique)\n",
    "session.execute(\"INSERT INTO car_table (company, model) VALUES ('Tesla', 'Model S');\")\n",
    "session.execute(\"INSERT INTO car_table (company, model) VALUES ('Tesla', 'Model 3');\")\n",
    "session.execute(\"INSERT INTO car_table (company, model) VALUES ('Polestar', '3');\")\n",
    "session.execute(\"INSERT INTO car_table (company, model) VALUES ('Volkswagen', 'ID.4');\")"
   ]
  },
  {
   "cell_type": "code",
   "execution_count": 10,
   "metadata": {
    "slideshow": {
     "slide_type": "slide"
    }
   },
   "outputs": [
    {
     "name": "stdout",
     "output_type": "stream",
     "text": [
      "Row(company='Tesla', model='Model 3')\n",
      "Row(company='Tesla', model='Model S')\n"
     ]
    }
   ],
   "source": [
    "# More specific query now works\n",
    "prepared_statement = session.prepare(\"SELECT * FROM car_table WHERE company=?;\")\n",
    "teslas = session.execute(prepared_statement, ['Tesla'])\n",
    "for i in teslas:\n",
    "    print(i)"
   ]
  },
  {
   "cell_type": "markdown",
   "metadata": {
    "slideshow": {
     "slide_type": "slide"
    }
   },
   "source": [
    "### Partitions\n",
    "- Cassandra databases are usually replicated over different nodes.\n",
    "- Data is stored in partitions (subsets) which have local copys.\n",
    "- The primary key, e.g., PRIMARY KEY(company, model), is used in partitioning.\n",
    "    - The first part, e.g., company, is most important.\n",
    "    - All cars from a company will be located together, aiming for quicker queries."
   ]
  },
  {
   "cell_type": "markdown",
   "metadata": {
    "slideshow": {
     "slide_type": "slide"
    }
   },
   "source": [
    "### Unique IDs \n",
    "- In MySQL one could use the attribute AUTO_INCREMENT on integer IDs to automatically make a new unique index when inserting data.\n",
    "- This would cause unreasonable overhead in a distributed database.\n",
    "- [UUID](https://en.wikipedia.org/wiki/Universally_unique_identifier)s are used instead.\n",
    "    - Universally Unique Identifiers are typically 128-bit random bit sequences with extremely low probability of duplication.\n",
    "    - Cassandra uses a [timeuuid](https://docs.datastax.com/en/cql-oss/3.3/cql/cql_reference/timeuuid_functions_r.html) type to combine a timestamp and uuid in one."
   ]
  },
  {
   "cell_type": "code",
   "execution_count": 11,
   "metadata": {
    "slideshow": {
     "slide_type": "fragment"
    }
   },
   "outputs": [
    {
     "data": {
      "text/plain": [
       "<cassandra.cluster.ResultSet at 0x109363d00>"
      ]
     },
     "execution_count": 11,
     "metadata": {},
     "output_type": "execute_result"
    }
   ],
   "source": [
    "# Create a new table (first time only)\n",
    "session.set_keyspace('my_first_keyspace')\n",
    "session.execute(\"DROP TABLE IF EXISTS my_first_keyspace.table_with_uuid;\")\n",
    "session.execute(\"CREATE TABLE IF NOT EXISTS table_with_uuid (id timeuuid PRIMARY KEY, company text, model text, price float);\")"
   ]
  },
  {
   "cell_type": "code",
   "execution_count": 12,
   "metadata": {
    "slideshow": {
     "slide_type": "slide"
    }
   },
   "outputs": [
    {
     "data": {
      "text/plain": [
       "<cassandra.cluster.ResultSet at 0x109363c10>"
      ]
     },
     "execution_count": 12,
     "metadata": {},
     "output_type": "execute_result"
    }
   ],
   "source": [
    "session.execute(\"INSERT INTO table_with_uuid (id, company, model, price) VALUES (now(), 'Tesla', 'Model S', 20000.0);\")\n",
    "session.execute(\"INSERT INTO table_with_uuid (id, company, model, price) VALUES (now(), 'Tesla', 'Model S', 21000.0);\")\n",
    "session.execute(\"INSERT INTO table_with_uuid (id, company, model, price) VALUES (now(), 'Oldsmobile', 'Model 6C', 135000.0);\")"
   ]
  },
  {
   "cell_type": "code",
   "execution_count": 13,
   "metadata": {
    "slideshow": {
     "slide_type": "slide"
    }
   },
   "outputs": [
    {
     "name": "stdout",
     "output_type": "stream",
     "text": [
      "Row(id=UUID('3f40e820-6dc4-11ee-8b2f-4f23491759a5'), company='Tesla', model='Model S', price=21000.0)\n",
      "Datetime: 2023-10-18 14:40:13.730000\n",
      "Row(id=UUID('3f410f30-6dc4-11ee-8b2f-4f23491759a5'), company='Oldsmobile', model='Model 6C', price=135000.0)\n",
      "Datetime: 2023-10-18 14:40:13.731000\n",
      "Row(id=UUID('3f409a00-6dc4-11ee-8b2f-4f23491759a5'), company='Tesla', model='Model S', price=20000.0)\n",
      "Datetime: 2023-10-18 14:40:13.728000\n"
     ]
    }
   ],
   "source": [
    "from cassandra.util import datetime_from_uuid1\n",
    "\n",
    "# Query the data\n",
    "rows = session.execute(\"SELECT * FROM table_with_uuid;\")\n",
    "for i in rows:\n",
    "    print(i)\n",
    "    # Extract the timestamp from Cassandra's timeuuid\n",
    "    print(\"Datetime:\", datetime_from_uuid1(i.id))"
   ]
  },
  {
   "cell_type": "markdown",
   "metadata": {
    "slideshow": {
     "slide_type": "slide"
    }
   },
   "source": [
    "## JSON in Cassandra\n",
    "### Read previously saved JSON file forecast.json to memory"
   ]
  },
  {
   "cell_type": "code",
   "execution_count": 14,
   "metadata": {
    "slideshow": {
     "slide_type": "-"
    }
   },
   "outputs": [],
   "source": [
    "import json\n",
    "with open('../3_APIs/downloads/forecast.json', 'r') as f:\n",
    "    forecast = json.load(f)"
   ]
  },
  {
   "cell_type": "code",
   "execution_count": 15,
   "metadata": {
    "slideshow": {
     "slide_type": "slide"
    }
   },
   "outputs": [
    {
     "data": {
      "text/plain": [
       "\"{'cod': '200', 'message': 0, 'cnt': 40, 'list': [{'dt': 1697446800, 'main': {'temp': 277.09, 'feels_like': 275.79, 'temp_min': 277.09, 'temp_max': 278.1, 'pressure': 1014, 'sea_level': 1014, 'grnd_level': 996, 'humidity': 69, 'temp_kf': -1.01}, 'weather': [{'id': 802, 'main': 'Clouds', 'description': 'scattered clouds', 'icon': '03d'}], 'clouds': {'all': 49}, 'wind': {'speed': 1.57, 'deg': 277, 'gust': 2.73}, 'visibility': 10000, 'pop': 0, 'sys': {'pod': 'd'}, 'dt_txt': '2023-10-16 09:00:00'}, {'dt': 1697457600, 'main': {'temp': 278.32, 'feels_like': 277.45, 'temp_min': 278.32, 'temp_max': 280.78, 'pressure': 1014, 'sea_level': 1014, 'grnd_level': 995, 'humidity': 60, 'temp_kf': -2.46}, 'weather': [{'id': 803, 'main': 'Clouds', 'description': 'broken clouds', 'icon': '04d'}], 'clouds': {'all': 57}, 'wind': {'speed': 1.38, 'deg': 258, 'gust': 3.18}, 'visibility': 10000, 'pop': 0, 'sys': {'pod': 'd'}, 'dt_txt': '2023-10-16 12:00:00'}, {'dt': 1697468400, 'main': {'temp': 278.88, 'feels_like': 278.05, 'temp_min': 278.88, 'temp_max': 279.77, 'pressure': 1013, 'sea_level': 1013, 'grnd_level': 994, 'humidity': 61, 'temp_kf': -0.89}, 'weather': [{'id': 803, 'main': 'Clouds', 'description': 'broken clouds', 'icon': '04d'}], 'clouds': {'all': 83}, 'wind': {'speed': 1.41, 'deg': 257, 'gust': 1.58}, 'visibility': 10000, 'pop': 0, 'sys': {'pod': 'd'}, 'dt_txt': '2023-10-16 15:00:00'}, {'dt': 1697479200, 'main': {'temp': 277.78, 'feels_like': 276.31, 'temp_min': 277.78, 'temp_max': 277.78, 'pressure': 1013, 'sea_level': 1013, 'grnd_level': 994, 'humidity': 68, 'temp_kf': 0}, 'weather': [{'id': 804, 'main': 'Clouds', 'description': 'overcast clouds', 'icon': '04n'}], 'clouds': {'all': 100}, 'wind': {'speed': 1.8, 'deg': 277, 'gust': 1.94}, 'visibility': 10000, 'pop': 0, 'sys': {'pod': 'n'}, 'dt_txt': '2023-10-16 18:00:00'}, {'dt': 1697490000, 'main': {'temp': 277.78, 'feels_like': 276.11, 'temp_min': 277.78, 'temp_max': 277.78, 'pressure': 1013, 'sea_level': 1013, 'grnd_level': 994, 'humidity': 71, 'temp_kf': 0}, 'weather': [{'id': 804, 'main': 'Clouds', 'description': 'overcast clouds', 'icon': '04n'}], 'clouds': {'all': 100}, 'wind': {'speed': 1.98, 'deg': 276, 'gust': 2.2}, 'visibility': 10000, 'pop': 0, 'sys': {'pod': 'n'}, 'dt_txt': '2023-10-16 21:00:00'}, {'dt': 1697500800, 'main': {'temp': 278.21, 'feels_like': 276.61, 'temp_min': 278.21, 'temp_max': 278.21, 'pressure': 1012, 'sea_level': 1012, 'grnd_level': 994, 'humidity': 75, 'temp_kf': 0}, 'weather': [{'id': 804, 'main': 'Clouds', 'description': 'overcast clouds', 'icon': '04n'}], 'clouds': {'all': 100}, 'wind': {'speed': 1.98, 'deg': 276, 'gust': 2.31}, 'visibility': 10000, 'pop': 0, 'sys': {'pod': 'n'}, 'dt_txt': '2023-10-17 00:00:00'}, {'dt': 1697511600, 'main': {'temp': 278.71, 'feels_like': 277.27, 'temp_min': 278.71, 'temp_max': 278.71, 'pressure': 1011, 'sea_level': 1011, 'grnd_level': 993, 'humidity': 79, 'temp_kf': 0}, 'weather': [{'id': 804, 'main': 'Clouds', 'description': 'overcast clouds', 'icon': '04n'}], 'clouds': {'all': 100}, 'wind': {'speed': 1.9, 'deg': 268, 'gust': 1.93}, 'visibility': 10000, 'pop': 0, 'sys': {'pod': 'n'}, 'dt_txt': '2023-10-17 03:00:00'}, {'dt': 1697522400, 'main': {'temp': 277.83, 'feels_like': 276.19, 'temp_min': 277.83, 'temp_max': 277.83, 'pressure': 1011, 'sea_level': 1011, 'grnd_level': 992, 'humidity': 85, 'temp_kf': 0}, 'weather': [{'id': 804, 'main': 'Clouds', 'description': 'overcast clouds', 'icon': '04n'}], 'clouds': {'all': 100}, 'wind': {'speed': 1.96, 'deg': 274, 'gust': 1.99}, 'visibility': 10000, 'pop': 0, 'sys': {'pod': 'n'}, 'dt_txt': '2023-10-17 06:00:00'}, {'dt': 1697533200, 'main': {'temp': 281.96, 'feels_like': 281.13, 'temp_min': 281.96, 'temp_max': 281.96, 'pressure': 1010, 'sea_level': 1010, 'grnd_level': 992, 'humidity': 70, 'temp_kf': 0}, 'weather': [{'id': 804, 'main': 'Clouds', 'description': 'overcast clouds', 'icon': '04d'}], 'clouds': {'all': 100}, 'wind': {'speed': 1.81, 'deg': 270, 'gust': 4.65}, 'visibility': 10000, 'pop': 0, 'sys': {'pod': 'd'}, 'dt_txt': '2023-10-17 09:00:00'}, {'dt': 1697544000, 'main': {'temp': 286.15, 'feels_like': 284.97, 'temp_min': 286.15, 'temp_max': 286.15, 'pressure': 1009, 'sea_level': 1009, 'grnd_level': 991, 'humidity': 56, 'temp_kf': 0}, 'weather': [{'id': 804, 'main': 'Clouds', 'description': 'overcast clouds', 'icon': '04d'}], 'clouds': {'all': 98}, 'wind': {'speed': 3.04, 'deg': 282, 'gust': 10.22}, 'visibility': 10000, 'pop': 0, 'sys': {'pod': 'd'}, 'dt_txt': '2023-10-17 12:00:00'}, {'dt': 1697554800, 'main': {'temp': 282.92, 'feels_like': 281.54, 'temp_min': 282.92, 'temp_max': 282.92, 'pressure': 1011, 'sea_level': 1011, 'grnd_level': 993, 'humidity': 70, 'temp_kf': 0}, 'weather': [{'id': 802, 'main': 'Clouds', 'description': 'scattered clouds', 'icon': '03d'}], 'clouds': {'all': 29}, 'wind': {'speed': 2.74, 'deg': 275, 'gust': 5.34}, 'visibility': 10000, 'pop': 0, 'sys': {'pod': 'd'}, 'dt_txt': '2023-10-17 15:00:00'}, {'dt': 1697565600, 'main': {'temp': 278.7, 'feels_like': 276.71, 'temp_min': 278.7, 'temp_max': 278.7, 'pressure': 1013, 'sea_level': 1013, 'grnd_level': 994, 'humidity': 86, 'temp_kf': 0}, 'weather': [{'id': 802, 'main': 'Clouds', 'description': 'scattered clouds', 'icon': '03n'}], 'clouds': {'all': 50}, 'wind': {'speed': 2.49, 'deg': 289, 'gust': 2.82}, 'visibility': 10000, 'pop': 0, 'sys': {'pod': 'n'}, 'dt_txt': '2023-10-17 18:00:00'}, {'dt': 1697576400, 'main': {'temp': 277.5, 'feels_like': 275.42, 'temp_min': 277.5, 'temp_max': 277.5, 'pressure': 1015, 'sea_level': 1015, 'grnd_level': 997, 'humidity': 88, 'temp_kf': 0}, 'weather': [{'id': 803, 'main': 'Clouds', 'description': 'broken clouds', 'icon': '04n'}], 'clouds': {'all': 70}, 'wind': {'speed': 2.34, 'deg': 303, 'gust': 2.37}, 'visibility': 10000, 'pop': 0, 'sys': {'pod': 'n'}, 'dt_txt': '2023-10-17 21:00:00'}, {'dt': 1697587200, 'main': {'temp': 276.51, 'feels_like': 274.52, 'temp_min': 276.51, 'temp_max': 276.51, 'pressure': 1017, 'sea_level': 1017, 'grnd_level': 999, 'humidity': 91, 'temp_kf': 0}, 'weather': [{'id': 802, 'main': 'Clouds', 'description': 'scattered clouds', 'icon': '03n'}], 'clouds': {'all': 40}, 'wind': {'speed': 2.08, 'deg': 316, 'gust': 2.1}, 'visibility': 10000, 'pop': 0, 'sys': {'pod': 'n'}, 'dt_txt': '2023-10-18 00:00:00'}, {'dt': 1697598000, 'main': {'temp': 275.8, 'feels_like': 273.9, 'temp_min': 275.8, 'temp_max': 275.8, 'pressure': 1018, 'sea_level': 1018, 'grnd_level': 1000, 'humidity': 91, 'temp_kf': 0}, 'weather': [{'id': 802, 'main': 'Clouds', 'description': 'scattered clouds', 'icon': '03n'}], 'clouds': {'all': 45}, 'wind': {'speed': 1.9, 'deg': 325, 'gust': 2.6}, 'visibility': 10000, 'pop': 0, 'sys': {'pod': 'n'}, 'dt_txt': '2023-10-18 03:00:00'}, {'dt': 1697608800, 'main': {'temp': 275.87, 'feels_like': 274.44, 'temp_min': 275.87, 'temp_max': 275.87, 'pressure': 1019, 'sea_level': 1019, 'grnd_level': 1000, 'humidity': 87, 'temp_kf': 0}, 'weather': [{'id': 803, 'main': 'Clouds', 'description': 'broken clouds', 'icon': '04n'}], 'clouds': {'all': 72}, 'wind': {'speed': 1.54, 'deg': 325, 'gust': 1.43}, 'visibility': 10000, 'pop': 0, 'sys': {'pod': 'n'}, 'dt_txt': '2023-10-18 06:00:00'}, {'dt': 1697619600, 'main': {'temp': 279.49, 'feels_like': 279.49, 'temp_min': 279.49, 'temp_max': 279.49, 'pressure': 1020, 'sea_level': 1020, 'grnd_level': 1001, 'humidity': 71, 'temp_kf': 0}, 'weather': [{'id': 804, 'main': 'Clouds', 'description': 'overcast clouds', 'icon': '04d'}], 'clouds': {'all': 100}, 'wind': {'speed': 0.59, 'deg': 12, 'gust': 0.93}, 'visibility': 10000, 'pop': 0, 'sys': {'pod': 'd'}, 'dt_txt': '2023-10-18 09:00:00'}, {'dt': 1697630400, 'main': {'temp': 281.19, 'feels_like': 281.19, 'temp_min': 281.19, 'temp_max': 281.19, 'pressure': 1019, 'sea_level': 1019, 'grnd_level': 1001, 'humidity': 66, 'temp_kf': 0}, 'weather': [{'id': 804, 'main': 'Clouds', 'description': 'overcast clouds', 'icon': '04d'}], 'clouds': {'all': 100}, 'wind': {'speed': 0.99, 'deg': 120, 'gust': 1.01}, 'visibility': 10000, 'pop': 0, 'sys': {'pod': 'd'}, 'dt_txt': '2023-10-18 12:00:00'}, {'dt': 1697641200, 'main': {'temp': 279.34, 'feels_like': 279.34, 'temp_min': 279.34, 'temp_max': 279.34, 'pressure': 1019, 'sea_level': 1019, 'grnd_level': 1000, 'humidity': 79, 'temp_kf': 0}, 'weather': [{'id': 804, 'main': 'Clouds', 'description': 'overcast clouds', 'icon': '04d'}], 'clouds': {'all': 100}, 'wind': {'speed': 0.79, 'deg': 119, 'gust': 0.78}, 'visibility': 10000, 'pop': 0, 'sys': {'pod': 'd'}, 'dt_txt': '2023-10-18 15:00:00'}, {'dt': 1697652000, 'main': {'temp': 277.25, 'feels_like': 277.25, 'temp_min': 277.25, 'temp_max': 277.25, 'pressure': 1019, 'sea_level': 1019, 'grnd_level': 1001, 'humidity': 88, 'temp_kf': 0}, 'weather': [{'id': 804, 'main': 'Clouds', 'description': 'overcast clouds', 'icon': '04n'}], 'clouds': {'all': 100}, 'wind': {'speed': 0.57, 'deg': 8, 'gust': 0.53}, 'visibility': 10000, 'pop': 0, 'sys': {'pod': 'n'}, 'dt_txt': '2023-10-18 18:00:00'}, {'dt': 1697662800, 'main': {'temp': 276.71, 'feels_like': 276.71, 'temp_min': 276.71, 'temp_max': 276.71, 'pressure': 1020, 'sea_level': 1020, 'grnd_level': 1001, 'humidity': 89, 'temp_kf': 0}, 'weather': [{'id': 804, 'main': 'Clouds', 'description': 'overcast clouds', 'icon': '04n'}], 'clouds': {'all': 100}, 'wind': {'speed': 0.56, 'deg': 25, 'gust': 0.53}, 'visibility': 10000, 'pop': 0, 'sys': {'pod': 'n'}, 'dt_txt': '2023-10-18 21:00:00'}, {'dt': 1697673600, 'main': {'temp': 276.41, 'feels_like': 276.41, 'temp_min': 276.41, 'temp_max': 276.41, 'pressure': 1021, 'sea_level': 1021, 'grnd_level': 1002, 'humidity': 91, 'temp_kf': 0}, 'weather': [{'id': 804, 'main': 'Clouds', 'description': 'overcast clouds', 'icon': '04n'}], 'clouds': {'all': 100}, 'wind': {'speed': 0.71, 'deg': 50, 'gust': 0.82}, 'visibility': 10000, 'pop': 0, 'sys': {'pod': 'n'}, 'dt_txt': '2023-10-19 00:00:00'}, {'dt': 1697684400, 'main': {'temp': 276.75, 'feels_like': 275.67, 'temp_min': 276.75, 'temp_max': 276.75, 'pressure': 1021, 'sea_level': 1021, 'grnd_level': 1002, 'humidity': 99, 'temp_kf': 0}, 'weather': [{'id': 600, 'main': 'Snow', 'description': 'light snow', 'icon': '13n'}], 'clouds': {'all': 100}, 'wind': {'speed': 1.38, 'deg': 89, 'gust': 1.97}, 'visibility': 48, 'pop': 0.35, 'snow': {'3h': 0.18}, 'sys': {'pod': 'n'}, 'dt_txt': '2023-10-19 03:00:00'}, {'dt': 1697695200, 'main': {'temp': 275.29, 'feels_like': 274.03, 'temp_min': 275.29, 'temp_max': 275.29, 'pressure': 1023, 'sea_level': 1023, 'grnd_level': 1004, 'humidity': 99, 'temp_kf': 0}, 'weather': [{'id': 600, 'main': 'Snow', 'description': 'light snow', 'icon': '13n'}], 'clouds': {'all': 100}, 'wind': {'speed': 1.37, 'deg': 93, 'gust': 2.16}, 'visibility': 37, 'pop': 0.58, 'snow': {'3h': 0.88}, 'sys': {'pod': 'n'}, 'dt_txt': '2023-10-19 06:00:00'}, {'dt': 1697706000, 'main': {'temp': 275.19, 'feels_like': 275.19, 'temp_min': 275.19, 'temp_max': 275.19, 'pressure': 1024, 'sea_level': 1024, 'grnd_level': 1005, 'humidity': 92, 'temp_kf': 0}, 'weather': [{'id': 600, 'main': 'Snow', 'description': 'light snow', 'icon': '13d'}], 'clouds': {'all': 100}, 'wind': {'speed': 1.33, 'deg': 87, 'gust': 2.63}, 'visibility': 301, 'pop': 0.82, 'snow': {'3h': 0.82}, 'sys': {'pod': 'd'}, 'dt_txt': '2023-10-19 09:00:00'}, {'dt': 1697716800, 'main': {'temp': 275.65, 'feels_like': 274.33, 'temp_min': 275.65, 'temp_max': 275.65, 'pressure': 1024, 'sea_level': 1024, 'grnd_level': 1005, 'humidity': 79, 'temp_kf': 0}, 'weather': [{'id': 600, 'main': 'Snow', 'description': 'light snow', 'icon': '13d'}], 'clouds': {'all': 100}, 'wind': {'speed': 1.44, 'deg': 91, 'gust': 2.91}, 'visibility': 10000, 'pop': 0.67, 'snow': {'3h': 0.36}, 'sys': {'pod': 'd'}, 'dt_txt': '2023-10-19 12:00:00'}, {'dt': 1697727600, 'main': {'temp': 275.62, 'feels_like': 275.62, 'temp_min': 275.62, 'temp_max': 275.62, 'pressure': 1023, 'sea_level': 1023, 'grnd_level': 1004, 'humidity': 73, 'temp_kf': 0}, 'weather': [{'id': 804, 'main': 'Clouds', 'description': 'overcast clouds', 'icon': '04d'}], 'clouds': {'all': 100}, 'wind': {'speed': 1.02, 'deg': 69, 'gust': 2.97}, 'visibility': 10000, 'pop': 0, 'sys': {'pod': 'd'}, 'dt_txt': '2023-10-19 15:00:00'}, {'dt': 1697738400, 'main': {'temp': 274.4, 'feels_like': 274.4, 'temp_min': 274.4, 'temp_max': 274.4, 'pressure': 1024, 'sea_level': 1024, 'grnd_level': 1005, 'humidity': 76, 'temp_kf': 0}, 'weather': [{'id': 804, 'main': 'Clouds', 'description': 'overcast clouds', 'icon': '04n'}], 'clouds': {'all': 100}, 'wind': {'speed': 1.05, 'deg': 70, 'gust': 1.93}, 'visibility': 10000, 'pop': 0, 'sys': {'pod': 'n'}, 'dt_txt': '2023-10-19 18:00:00'}, {'dt': 1697749200, 'main': {'temp': 274, 'feels_like': 274, 'temp_min': 274, 'temp_max': 274, 'pressure': 1025, 'sea_level': 1025, 'grnd_level': 1006, 'humidity': 81, 'temp_kf': 0}, 'weather': [{'id': 804, 'main': 'Clouds', 'description': 'overcast clouds', 'icon': '04n'}], 'clouds': {'all': 100}, 'wind': {'speed': 0.64, 'deg': 37, 'gust': 0.78}, 'visibility': 10000, 'pop': 0, 'sys': {'pod': 'n'}, 'dt_txt': '2023-10-19 21:00:00'}, {'dt': 1697760000, 'main': {'temp': 273.28, 'feels_like': 273.28, 'temp_min': 273.28, 'temp_max': 273.28, 'pressure': 1026, 'sea_level': 1026, 'grnd_level': 1006, 'humidity': 84, 'temp_kf': 0}, 'weather': [{'id': 804, 'main': 'Clouds', 'description': 'overcast clouds', 'icon': '04n'}], 'clouds': {'all': 100}, 'wind': {'speed': 0.82, 'deg': 44, 'gust': 0.85}, 'visibility': 10000, 'pop': 0, 'sys': {'pod': 'n'}, 'dt_txt': '2023-10-20 00:00:00'}, {'dt': 1697770800, 'main': {'temp': 272.58, 'feels_like': 272.58, 'temp_min': 272.58, 'temp_max': 272.58, 'pressure': 1026, 'sea_level': 1026, 'grnd_level': 1006, 'humidity': 88, 'temp_kf': 0}, 'weather': [{'id': 804, 'main': 'Clouds', 'description': 'overcast clouds', 'icon': '04n'}], 'clouds': {'all': 100}, 'wind': {'speed': 0.87, 'deg': 44, 'gust': 1.05}, 'visibility': 10000, 'pop': 0, 'sys': {'pod': 'n'}, 'dt_txt': '2023-10-20 03:00:00'}, {'dt': 1697781600, 'main': {'temp': 272.5, 'feels_like': 272.5, 'temp_min': 272.5, 'temp_max': 272.5, 'pressure': 1026, 'sea_level': 1026, 'grnd_level': 1007, 'humidity': 90, 'temp_kf': 0}, 'weather': [{'id': 804, 'main': 'Clouds', 'description': 'overcast clouds', 'icon': '04n'}], 'clouds': {'all': 100}, 'wind': {'speed': 0.8, 'deg': 53, 'gust': 1.34}, 'visibility': 9452, 'pop': 0, 'sys': {'pod': 'n'}, 'dt_txt': '2023-10-20 06:00:00'}, {'dt': 1697792400, 'main': {'temp': 274.32, 'feels_like': 274.32, 'temp_min': 274.32, 'temp_max': 274.32, 'pressure': 1027, 'sea_level': 1027, 'grnd_level': 1008, 'humidity': 73, 'temp_kf': 0}, 'weather': [{'id': 500, 'main': 'Rain', 'description': 'light rain', 'icon': '10d'}], 'clouds': {'all': 99}, 'wind': {'speed': 1.23, 'deg': 67, 'gust': 2.83}, 'visibility': 10000, 'pop': 0.24, 'rain': {'3h': 0.11}, 'sys': {'pod': 'd'}, 'dt_txt': '2023-10-20 09:00:00'}, {'dt': 1697803200, 'main': {'temp': 275.39, 'feels_like': 272.62, 'temp_min': 275.39, 'temp_max': 275.39, 'pressure': 1027, 'sea_level': 1027, 'grnd_level': 1008, 'humidity': 58, 'temp_kf': 0}, 'weather': [{'id': 804, 'main': 'Clouds', 'description': 'overcast clouds', 'icon': '04d'}], 'clouds': {'all': 99}, 'wind': {'speed': 2.67, 'deg': 58, 'gust': 4.28}, 'visibility': 10000, 'pop': 0.04, 'sys': {'pod': 'd'}, 'dt_txt': '2023-10-20 12:00:00'}, {'dt': 1697814000, 'main': {'temp': 274.71, 'feels_like': 272.01, 'temp_min': 274.71, 'temp_max': 274.71, 'pressure': 1027, 'sea_level': 1027, 'grnd_level': 1008, 'humidity': 61, 'temp_kf': 0}, 'weather': [{'id': 804, 'main': 'Clouds', 'description': 'overcast clouds', 'icon': '04d'}], 'clouds': {'all': 100}, 'wind': {'speed': 2.47, 'deg': 43, 'gust': 5.05}, 'visibility': 10000, 'pop': 0, 'sys': {'pod': 'd'}, 'dt_txt': '2023-10-20 15:00:00'}, {'dt': 1697824800, 'main': {'temp': 272.28, 'feels_like': 269.51, 'temp_min': 272.28, 'temp_max': 272.28, 'pressure': 1028, 'sea_level': 1028, 'grnd_level': 1009, 'humidity': 70, 'temp_kf': 0}, 'weather': [{'id': 804, 'main': 'Clouds', 'description': 'overcast clouds', 'icon': '04n'}], 'clouds': {'all': 99}, 'wind': {'speed': 2.14, 'deg': 30, 'gust': 5.53}, 'visibility': 10000, 'pop': 0, 'sys': {'pod': 'n'}, 'dt_txt': '2023-10-20 18:00:00'}, {'dt': 1697835600, 'main': {'temp': 271.24, 'feels_like': 268.43, 'temp_min': 271.24, 'temp_max': 271.24, 'pressure': 1030, 'sea_level': 1030, 'grnd_level': 1011, 'humidity': 79, 'temp_kf': 0}, 'weather': [{'id': 803, 'main': 'Clouds', 'description': 'broken clouds', 'icon': '04n'}], 'clouds': {'all': 55}, 'wind': {'speed': 2.03, 'deg': 21, 'gust': 4.66}, 'visibility': 10000, 'pop': 0, 'sys': {'pod': 'n'}, 'dt_txt': '2023-10-20 21:00:00'}, {'dt': 1697846400, 'main': {'temp': 270.7, 'feels_like': 267.42, 'temp_min': 270.7, 'temp_max': 270.7, 'pressure': 1030, 'sea_level': 1030, 'grnd_level': 1011, 'humidity': 84, 'temp_kf': 0}, 'weather': [{'id': 802, 'main': 'Clouds', 'description': 'scattered clouds', 'icon': '03n'}], 'clouds': {'all': 45}, 'wind': {'speed': 2.33, 'deg': 16, 'gust': 5.32}, 'visibility': 10000, 'pop': 0, 'sys': {'pod': 'n'}, 'dt_txt': '2023-10-21 00:00:00'}, {'dt': 1697857200, 'main': {'temp': 270.62, 'feels_like': 266.91, 'temp_min': 270.62, 'temp_max': 270.62, 'pressure': 1029, 'sea_level': 1029, 'grnd_level': 1010, 'humidity': 85, 'temp_kf': 0}, 'weather': [{'id': 802, 'main': 'Clouds', 'description': 'scattered clouds', 'icon': '03n'}], 'clouds': {'all': 28}, 'wind': {'speed': 2.7, 'deg': 3, 'gust': 6.19}, 'visibility': 10000, 'pop': 0, 'sys': {'pod': 'n'}, 'dt_txt': '2023-10-21 03:00:00'}, {'dt': 1697868000, 'main': {'temp': 271.6, 'feels_like': 267.92, 'temp_min': 271.6, 'temp_max': 271.6, 'pressure': 1029, 'sea_level': 1029, 'grnd_level': 1010, 'humidity': 80, 'temp_kf': 0}, 'weather': [{'id': 803, 'main': 'Clouds', 'description': 'broken clouds', 'icon': '04n'}], 'clouds': {'all': 51}, 'wind': {'speed': 2.86, 'deg': 9, 'gust': 6.92}, 'visibility': 10000, 'pop': 0, 'sys': {'pod': 'n'}, 'dt_txt': '2023-10-21 06:00:00'}], 'city': {'id': 3144113, 'name': 'Noresund', 'coord': {'lat': 60.1803, 'lon': 9.6231}, 'country': 'NO', 'population': 1000, 'timezone': 7200, 'sunrise': 1697436142, 'sunset': 1697472697}}\""
      ]
     },
     "execution_count": 15,
     "metadata": {},
     "output_type": "execute_result"
    }
   ],
   "source": [
    "# Inspect JSON file\n",
    "forecast.__str__()"
   ]
  },
  {
   "cell_type": "markdown",
   "metadata": {
    "slideshow": {
     "slide_type": "slide"
    }
   },
   "source": [
    "## Raw JSON\n",
    "- A simple, but not very efficient way of storing JSON data is to treat it as a text and save it directly to the database.  \n",
    "- More efficient, with regard to transfer, is to compress the JSON data to a blob first.\n",
    "    - Compression is automatic."
   ]
  },
  {
   "cell_type": "code",
   "execution_count": 16,
   "metadata": {
    "slideshow": {
     "slide_type": "-"
    }
   },
   "outputs": [
    {
     "data": {
      "text/plain": [
       "<cassandra.cluster.ResultSet at 0x1093634f0>"
      ]
     },
     "execution_count": 16,
     "metadata": {},
     "output_type": "execute_result"
    }
   ],
   "source": [
    "# Create a new table which treats the whole JSON as a blob, using the city id and the first dt as keys\n",
    "session.set_keyspace('my_first_keyspace')\n",
    "session.execute(\"DROP TABLE IF EXISTS my_first_keyspace.forecast_table;\")\n",
    "session.execute(\"CREATE TABLE IF NOT EXISTS forecast_table (city_id int, dt int, forecast blob, PRIMARY KEY(city_id, dt));\")"
   ]
  },
  {
   "cell_type": "markdown",
   "metadata": {
    "slideshow": {
     "slide_type": "slide"
    }
   },
   "source": [
    "### Insert the forecast data into the table as text blob"
   ]
  },
  {
   "cell_type": "code",
   "execution_count": 17,
   "metadata": {
    "slideshow": {
     "slide_type": "-"
    }
   },
   "outputs": [
    {
     "data": {
      "text/plain": [
       "<cassandra.cluster.ResultSet at 0x108792230>"
      ]
     },
     "execution_count": 17,
     "metadata": {},
     "output_type": "execute_result"
    }
   ],
   "source": [
    "session.execute(\"INSERT INTO forecast_table (city_id, dt, forecast) VALUES (%s, %s, textAsBlob(%s));\", (forecast['city']['id'], forecast['list'][0]['dt'], forecast.__str__()))"
   ]
  },
  {
   "cell_type": "code",
   "execution_count": 18,
   "metadata": {
    "slideshow": {
     "slide_type": "slide"
    }
   },
   "outputs": [
    {
     "name": "stdout",
     "output_type": "stream",
     "text": [
      "Row(city_id=3144113, dt=1697446800, forecast=b\"{'cod': '200', 'message': 0, 'cnt': 40, 'list': [{'dt': 1697446800, 'main': {'temp': 277.09, 'feels_like': 275.79, 'temp_min': 277.09, 'temp_max': 278.1, 'pressure': 1014, 'sea_level': 1014, 'grnd_level': 996, 'humidity': 69, 'temp_kf': -1.01}, 'weather': [{'id': 802, 'main': 'Clouds', 'description': 'scattered clouds', 'icon': '03d'}], 'clouds': {'all': 49}, 'wind': {'speed': 1.57, 'deg': 277, 'gust': 2.73}, 'visibility': 10000, 'pop': 0, 'sys': {'pod': 'd'}, 'dt_txt': '2023-10-16 09:00:00'}, {'dt': 1697457600, 'main': {'temp': 278.32, 'feels_like': 277.45, 'temp_min': 278.32, 'temp_max': 280.78, 'pressure': 1014, 'sea_level': 1014, 'grnd_level': 995, 'humidity': 60, 'temp_kf': -2.46}, 'weather': [{'id': 803, 'main': 'Clouds', 'description': 'broken clouds', 'icon': '04d'}], 'clouds': {'all': 57}, 'wind': {'speed': 1.38, 'deg': 258, 'gust': 3.18}, 'visibility': 10000, 'pop': 0, 'sys': {'pod': 'd'}, 'dt_txt': '2023-10-16 12:00:00'}, {'dt': 1697468400, 'main': {'temp': 278.88, 'feels_like': 278.05, 'temp_min': 278.88, 'temp_max': 279.77, 'pressure': 1013, 'sea_level': 1013, 'grnd_level': 994, 'humidity': 61, 'temp_kf': -0.89}, 'weather': [{'id': 803, 'main': 'Clouds', 'description': 'broken clouds', 'icon': '04d'}], 'clouds': {'all': 83}, 'wind': {'speed': 1.41, 'deg': 257, 'gust': 1.58}, 'visibility': 10000, 'pop': 0, 'sys': {'pod': 'd'}, 'dt_txt': '2023-10-16 15:00:00'}, {'dt': 1697479200, 'main': {'temp': 277.78, 'feels_like': 276.31, 'temp_min': 277.78, 'temp_max': 277.78, 'pressure': 1013, 'sea_level': 1013, 'grnd_level': 994, 'humidity': 68, 'temp_kf': 0}, 'weather': [{'id': 804, 'main': 'Clouds', 'description': 'overcast clouds', 'icon': '04n'}], 'clouds': {'all': 100}, 'wind': {'speed': 1.8, 'deg': 277, 'gust': 1.94}, 'visibility': 10000, 'pop': 0, 'sys': {'pod': 'n'}, 'dt_txt': '2023-10-16 18:00:00'}, {'dt': 1697490000, 'main': {'temp': 277.78, 'feels_like': 276.11, 'temp_min': 277.78, 'temp_max': 277.78, 'pressure': 1013, 'sea_level': 1013, 'grnd_level': 994, 'humidity': 71, 'temp_kf': 0}, 'weather': [{'id': 804, 'main': 'Clouds', 'description': 'overcast clouds', 'icon': '04n'}], 'clouds': {'all': 100}, 'wind': {'speed': 1.98, 'deg': 276, 'gust': 2.2}, 'visibility': 10000, 'pop': 0, 'sys': {'pod': 'n'}, 'dt_txt': '2023-10-16 21:00:00'}, {'dt': 1697500800, 'main': {'temp': 278.21, 'feels_like': 276.61, 'temp_min': 278.21, 'temp_max': 278.21, 'pressure': 1012, 'sea_level': 1012, 'grnd_level': 994, 'humidity': 75, 'temp_kf': 0}, 'weather': [{'id': 804, 'main': 'Clouds', 'description': 'overcast clouds', 'icon': '04n'}], 'clouds': {'all': 100}, 'wind': {'speed': 1.98, 'deg': 276, 'gust': 2.31}, 'visibility': 10000, 'pop': 0, 'sys': {'pod': 'n'}, 'dt_txt': '2023-10-17 00:00:00'}, {'dt': 1697511600, 'main': {'temp': 278.71, 'feels_like': 277.27, 'temp_min': 278.71, 'temp_max': 278.71, 'pressure': 1011, 'sea_level': 1011, 'grnd_level': 993, 'humidity': 79, 'temp_kf': 0}, 'weather': [{'id': 804, 'main': 'Clouds', 'description': 'overcast clouds', 'icon': '04n'}], 'clouds': {'all': 100}, 'wind': {'speed': 1.9, 'deg': 268, 'gust': 1.93}, 'visibility': 10000, 'pop': 0, 'sys': {'pod': 'n'}, 'dt_txt': '2023-10-17 03:00:00'}, {'dt': 1697522400, 'main': {'temp': 277.83, 'feels_like': 276.19, 'temp_min': 277.83, 'temp_max': 277.83, 'pressure': 1011, 'sea_level': 1011, 'grnd_level': 992, 'humidity': 85, 'temp_kf': 0}, 'weather': [{'id': 804, 'main': 'Clouds', 'description': 'overcast clouds', 'icon': '04n'}], 'clouds': {'all': 100}, 'wind': {'speed': 1.96, 'deg': 274, 'gust': 1.99}, 'visibility': 10000, 'pop': 0, 'sys': {'pod': 'n'}, 'dt_txt': '2023-10-17 06:00:00'}, {'dt': 1697533200, 'main': {'temp': 281.96, 'feels_like': 281.13, 'temp_min': 281.96, 'temp_max': 281.96, 'pressure': 1010, 'sea_level': 1010, 'grnd_level': 992, 'humidity': 70, 'temp_kf': 0}, 'weather': [{'id': 804, 'main': 'Clouds', 'description': 'overcast clouds', 'icon': '04d'}], 'clouds': {'all': 100}, 'wind': {'speed': 1.81, 'deg': 270, 'gust': 4.65}, 'visibility': 10000, 'pop': 0, 'sys': {'pod': 'd'}, 'dt_txt': '2023-10-17 09:00:00'}, {'dt': 1697544000, 'main': {'temp': 286.15, 'feels_like': 284.97, 'temp_min': 286.15, 'temp_max': 286.15, 'pressure': 1009, 'sea_level': 1009, 'grnd_level': 991, 'humidity': 56, 'temp_kf': 0}, 'weather': [{'id': 804, 'main': 'Clouds', 'description': 'overcast clouds', 'icon': '04d'}], 'clouds': {'all': 98}, 'wind': {'speed': 3.04, 'deg': 282, 'gust': 10.22}, 'visibility': 10000, 'pop': 0, 'sys': {'pod': 'd'}, 'dt_txt': '2023-10-17 12:00:00'}, {'dt': 1697554800, 'main': {'temp': 282.92, 'feels_like': 281.54, 'temp_min': 282.92, 'temp_max': 282.92, 'pressure': 1011, 'sea_level': 1011, 'grnd_level': 993, 'humidity': 70, 'temp_kf': 0}, 'weather': [{'id': 802, 'main': 'Clouds', 'description': 'scattered clouds', 'icon': '03d'}], 'clouds': {'all': 29}, 'wind': {'speed': 2.74, 'deg': 275, 'gust': 5.34}, 'visibility': 10000, 'pop': 0, 'sys': {'pod': 'd'}, 'dt_txt': '2023-10-17 15:00:00'}, {'dt': 1697565600, 'main': {'temp': 278.7, 'feels_like': 276.71, 'temp_min': 278.7, 'temp_max': 278.7, 'pressure': 1013, 'sea_level': 1013, 'grnd_level': 994, 'humidity': 86, 'temp_kf': 0}, 'weather': [{'id': 802, 'main': 'Clouds', 'description': 'scattered clouds', 'icon': '03n'}], 'clouds': {'all': 50}, 'wind': {'speed': 2.49, 'deg': 289, 'gust': 2.82}, 'visibility': 10000, 'pop': 0, 'sys': {'pod': 'n'}, 'dt_txt': '2023-10-17 18:00:00'}, {'dt': 1697576400, 'main': {'temp': 277.5, 'feels_like': 275.42, 'temp_min': 277.5, 'temp_max': 277.5, 'pressure': 1015, 'sea_level': 1015, 'grnd_level': 997, 'humidity': 88, 'temp_kf': 0}, 'weather': [{'id': 803, 'main': 'Clouds', 'description': 'broken clouds', 'icon': '04n'}], 'clouds': {'all': 70}, 'wind': {'speed': 2.34, 'deg': 303, 'gust': 2.37}, 'visibility': 10000, 'pop': 0, 'sys': {'pod': 'n'}, 'dt_txt': '2023-10-17 21:00:00'}, {'dt': 1697587200, 'main': {'temp': 276.51, 'feels_like': 274.52, 'temp_min': 276.51, 'temp_max': 276.51, 'pressure': 1017, 'sea_level': 1017, 'grnd_level': 999, 'humidity': 91, 'temp_kf': 0}, 'weather': [{'id': 802, 'main': 'Clouds', 'description': 'scattered clouds', 'icon': '03n'}], 'clouds': {'all': 40}, 'wind': {'speed': 2.08, 'deg': 316, 'gust': 2.1}, 'visibility': 10000, 'pop': 0, 'sys': {'pod': 'n'}, 'dt_txt': '2023-10-18 00:00:00'}, {'dt': 1697598000, 'main': {'temp': 275.8, 'feels_like': 273.9, 'temp_min': 275.8, 'temp_max': 275.8, 'pressure': 1018, 'sea_level': 1018, 'grnd_level': 1000, 'humidity': 91, 'temp_kf': 0}, 'weather': [{'id': 802, 'main': 'Clouds', 'description': 'scattered clouds', 'icon': '03n'}], 'clouds': {'all': 45}, 'wind': {'speed': 1.9, 'deg': 325, 'gust': 2.6}, 'visibility': 10000, 'pop': 0, 'sys': {'pod': 'n'}, 'dt_txt': '2023-10-18 03:00:00'}, {'dt': 1697608800, 'main': {'temp': 275.87, 'feels_like': 274.44, 'temp_min': 275.87, 'temp_max': 275.87, 'pressure': 1019, 'sea_level': 1019, 'grnd_level': 1000, 'humidity': 87, 'temp_kf': 0}, 'weather': [{'id': 803, 'main': 'Clouds', 'description': 'broken clouds', 'icon': '04n'}], 'clouds': {'all': 72}, 'wind': {'speed': 1.54, 'deg': 325, 'gust': 1.43}, 'visibility': 10000, 'pop': 0, 'sys': {'pod': 'n'}, 'dt_txt': '2023-10-18 06:00:00'}, {'dt': 1697619600, 'main': {'temp': 279.49, 'feels_like': 279.49, 'temp_min': 279.49, 'temp_max': 279.49, 'pressure': 1020, 'sea_level': 1020, 'grnd_level': 1001, 'humidity': 71, 'temp_kf': 0}, 'weather': [{'id': 804, 'main': 'Clouds', 'description': 'overcast clouds', 'icon': '04d'}], 'clouds': {'all': 100}, 'wind': {'speed': 0.59, 'deg': 12, 'gust': 0.93}, 'visibility': 10000, 'pop': 0, 'sys': {'pod': 'd'}, 'dt_txt': '2023-10-18 09:00:00'}, {'dt': 1697630400, 'main': {'temp': 281.19, 'feels_like': 281.19, 'temp_min': 281.19, 'temp_max': 281.19, 'pressure': 1019, 'sea_level': 1019, 'grnd_level': 1001, 'humidity': 66, 'temp_kf': 0}, 'weather': [{'id': 804, 'main': 'Clouds', 'description': 'overcast clouds', 'icon': '04d'}], 'clouds': {'all': 100}, 'wind': {'speed': 0.99, 'deg': 120, 'gust': 1.01}, 'visibility': 10000, 'pop': 0, 'sys': {'pod': 'd'}, 'dt_txt': '2023-10-18 12:00:00'}, {'dt': 1697641200, 'main': {'temp': 279.34, 'feels_like': 279.34, 'temp_min': 279.34, 'temp_max': 279.34, 'pressure': 1019, 'sea_level': 1019, 'grnd_level': 1000, 'humidity': 79, 'temp_kf': 0}, 'weather': [{'id': 804, 'main': 'Clouds', 'description': 'overcast clouds', 'icon': '04d'}], 'clouds': {'all': 100}, 'wind': {'speed': 0.79, 'deg': 119, 'gust': 0.78}, 'visibility': 10000, 'pop': 0, 'sys': {'pod': 'd'}, 'dt_txt': '2023-10-18 15:00:00'}, {'dt': 1697652000, 'main': {'temp': 277.25, 'feels_like': 277.25, 'temp_min': 277.25, 'temp_max': 277.25, 'pressure': 1019, 'sea_level': 1019, 'grnd_level': 1001, 'humidity': 88, 'temp_kf': 0}, 'weather': [{'id': 804, 'main': 'Clouds', 'description': 'overcast clouds', 'icon': '04n'}], 'clouds': {'all': 100}, 'wind': {'speed': 0.57, 'deg': 8, 'gust': 0.53}, 'visibility': 10000, 'pop': 0, 'sys': {'pod': 'n'}, 'dt_txt': '2023-10-18 18:00:00'}, {'dt': 1697662800, 'main': {'temp': 276.71, 'feels_like': 276.71, 'temp_min': 276.71, 'temp_max': 276.71, 'pressure': 1020, 'sea_level': 1020, 'grnd_level': 1001, 'humidity': 89, 'temp_kf': 0}, 'weather': [{'id': 804, 'main': 'Clouds', 'description': 'overcast clouds', 'icon': '04n'}], 'clouds': {'all': 100}, 'wind': {'speed': 0.56, 'deg': 25, 'gust': 0.53}, 'visibility': 10000, 'pop': 0, 'sys': {'pod': 'n'}, 'dt_txt': '2023-10-18 21:00:00'}, {'dt': 1697673600, 'main': {'temp': 276.41, 'feels_like': 276.41, 'temp_min': 276.41, 'temp_max': 276.41, 'pressure': 1021, 'sea_level': 1021, 'grnd_level': 1002, 'humidity': 91, 'temp_kf': 0}, 'weather': [{'id': 804, 'main': 'Clouds', 'description': 'overcast clouds', 'icon': '04n'}], 'clouds': {'all': 100}, 'wind': {'speed': 0.71, 'deg': 50, 'gust': 0.82}, 'visibility': 10000, 'pop': 0, 'sys': {'pod': 'n'}, 'dt_txt': '2023-10-19 00:00:00'}, {'dt': 1697684400, 'main': {'temp': 276.75, 'feels_like': 275.67, 'temp_min': 276.75, 'temp_max': 276.75, 'pressure': 1021, 'sea_level': 1021, 'grnd_level': 1002, 'humidity': 99, 'temp_kf': 0}, 'weather': [{'id': 600, 'main': 'Snow', 'description': 'light snow', 'icon': '13n'}], 'clouds': {'all': 100}, 'wind': {'speed': 1.38, 'deg': 89, 'gust': 1.97}, 'visibility': 48, 'pop': 0.35, 'snow': {'3h': 0.18}, 'sys': {'pod': 'n'}, 'dt_txt': '2023-10-19 03:00:00'}, {'dt': 1697695200, 'main': {'temp': 275.29, 'feels_like': 274.03, 'temp_min': 275.29, 'temp_max': 275.29, 'pressure': 1023, 'sea_level': 1023, 'grnd_level': 1004, 'humidity': 99, 'temp_kf': 0}, 'weather': [{'id': 600, 'main': 'Snow', 'description': 'light snow', 'icon': '13n'}], 'clouds': {'all': 100}, 'wind': {'speed': 1.37, 'deg': 93, 'gust': 2.16}, 'visibility': 37, 'pop': 0.58, 'snow': {'3h': 0.88}, 'sys': {'pod': 'n'}, 'dt_txt': '2023-10-19 06:00:00'}, {'dt': 1697706000, 'main': {'temp': 275.19, 'feels_like': 275.19, 'temp_min': 275.19, 'temp_max': 275.19, 'pressure': 1024, 'sea_level': 1024, 'grnd_level': 1005, 'humidity': 92, 'temp_kf': 0}, 'weather': [{'id': 600, 'main': 'Snow', 'description': 'light snow', 'icon': '13d'}], 'clouds': {'all': 100}, 'wind': {'speed': 1.33, 'deg': 87, 'gust': 2.63}, 'visibility': 301, 'pop': 0.82, 'snow': {'3h': 0.82}, 'sys': {'pod': 'd'}, 'dt_txt': '2023-10-19 09:00:00'}, {'dt': 1697716800, 'main': {'temp': 275.65, 'feels_like': 274.33, 'temp_min': 275.65, 'temp_max': 275.65, 'pressure': 1024, 'sea_level': 1024, 'grnd_level': 1005, 'humidity': 79, 'temp_kf': 0}, 'weather': [{'id': 600, 'main': 'Snow', 'description': 'light snow', 'icon': '13d'}], 'clouds': {'all': 100}, 'wind': {'speed': 1.44, 'deg': 91, 'gust': 2.91}, 'visibility': 10000, 'pop': 0.67, 'snow': {'3h': 0.36}, 'sys': {'pod': 'd'}, 'dt_txt': '2023-10-19 12:00:00'}, {'dt': 1697727600, 'main': {'temp': 275.62, 'feels_like': 275.62, 'temp_min': 275.62, 'temp_max': 275.62, 'pressure': 1023, 'sea_level': 1023, 'grnd_level': 1004, 'humidity': 73, 'temp_kf': 0}, 'weather': [{'id': 804, 'main': 'Clouds', 'description': 'overcast clouds', 'icon': '04d'}], 'clouds': {'all': 100}, 'wind': {'speed': 1.02, 'deg': 69, 'gust': 2.97}, 'visibility': 10000, 'pop': 0, 'sys': {'pod': 'd'}, 'dt_txt': '2023-10-19 15:00:00'}, {'dt': 1697738400, 'main': {'temp': 274.4, 'feels_like': 274.4, 'temp_min': 274.4, 'temp_max': 274.4, 'pressure': 1024, 'sea_level': 1024, 'grnd_level': 1005, 'humidity': 76, 'temp_kf': 0}, 'weather': [{'id': 804, 'main': 'Clouds', 'description': 'overcast clouds', 'icon': '04n'}], 'clouds': {'all': 100}, 'wind': {'speed': 1.05, 'deg': 70, 'gust': 1.93}, 'visibility': 10000, 'pop': 0, 'sys': {'pod': 'n'}, 'dt_txt': '2023-10-19 18:00:00'}, {'dt': 1697749200, 'main': {'temp': 274, 'feels_like': 274, 'temp_min': 274, 'temp_max': 274, 'pressure': 1025, 'sea_level': 1025, 'grnd_level': 1006, 'humidity': 81, 'temp_kf': 0}, 'weather': [{'id': 804, 'main': 'Clouds', 'description': 'overcast clouds', 'icon': '04n'}], 'clouds': {'all': 100}, 'wind': {'speed': 0.64, 'deg': 37, 'gust': 0.78}, 'visibility': 10000, 'pop': 0, 'sys': {'pod': 'n'}, 'dt_txt': '2023-10-19 21:00:00'}, {'dt': 1697760000, 'main': {'temp': 273.28, 'feels_like': 273.28, 'temp_min': 273.28, 'temp_max': 273.28, 'pressure': 1026, 'sea_level': 1026, 'grnd_level': 1006, 'humidity': 84, 'temp_kf': 0}, 'weather': [{'id': 804, 'main': 'Clouds', 'description': 'overcast clouds', 'icon': '04n'}], 'clouds': {'all': 100}, 'wind': {'speed': 0.82, 'deg': 44, 'gust': 0.85}, 'visibility': 10000, 'pop': 0, 'sys': {'pod': 'n'}, 'dt_txt': '2023-10-20 00:00:00'}, {'dt': 1697770800, 'main': {'temp': 272.58, 'feels_like': 272.58, 'temp_min': 272.58, 'temp_max': 272.58, 'pressure': 1026, 'sea_level': 1026, 'grnd_level': 1006, 'humidity': 88, 'temp_kf': 0}, 'weather': [{'id': 804, 'main': 'Clouds', 'description': 'overcast clouds', 'icon': '04n'}], 'clouds': {'all': 100}, 'wind': {'speed': 0.87, 'deg': 44, 'gust': 1.05}, 'visibility': 10000, 'pop': 0, 'sys': {'pod': 'n'}, 'dt_txt': '2023-10-20 03:00:00'}, {'dt': 1697781600, 'main': {'temp': 272.5, 'feels_like': 272.5, 'temp_min': 272.5, 'temp_max': 272.5, 'pressure': 1026, 'sea_level': 1026, 'grnd_level': 1007, 'humidity': 90, 'temp_kf': 0}, 'weather': [{'id': 804, 'main': 'Clouds', 'description': 'overcast clouds', 'icon': '04n'}], 'clouds': {'all': 100}, 'wind': {'speed': 0.8, 'deg': 53, 'gust': 1.34}, 'visibility': 9452, 'pop': 0, 'sys': {'pod': 'n'}, 'dt_txt': '2023-10-20 06:00:00'}, {'dt': 1697792400, 'main': {'temp': 274.32, 'feels_like': 274.32, 'temp_min': 274.32, 'temp_max': 274.32, 'pressure': 1027, 'sea_level': 1027, 'grnd_level': 1008, 'humidity': 73, 'temp_kf': 0}, 'weather': [{'id': 500, 'main': 'Rain', 'description': 'light rain', 'icon': '10d'}], 'clouds': {'all': 99}, 'wind': {'speed': 1.23, 'deg': 67, 'gust': 2.83}, 'visibility': 10000, 'pop': 0.24, 'rain': {'3h': 0.11}, 'sys': {'pod': 'd'}, 'dt_txt': '2023-10-20 09:00:00'}, {'dt': 1697803200, 'main': {'temp': 275.39, 'feels_like': 272.62, 'temp_min': 275.39, 'temp_max': 275.39, 'pressure': 1027, 'sea_level': 1027, 'grnd_level': 1008, 'humidity': 58, 'temp_kf': 0}, 'weather': [{'id': 804, 'main': 'Clouds', 'description': 'overcast clouds', 'icon': '04d'}], 'clouds': {'all': 99}, 'wind': {'speed': 2.67, 'deg': 58, 'gust': 4.28}, 'visibility': 10000, 'pop': 0.04, 'sys': {'pod': 'd'}, 'dt_txt': '2023-10-20 12:00:00'}, {'dt': 1697814000, 'main': {'temp': 274.71, 'feels_like': 272.01, 'temp_min': 274.71, 'temp_max': 274.71, 'pressure': 1027, 'sea_level': 1027, 'grnd_level': 1008, 'humidity': 61, 'temp_kf': 0}, 'weather': [{'id': 804, 'main': 'Clouds', 'description': 'overcast clouds', 'icon': '04d'}], 'clouds': {'all': 100}, 'wind': {'speed': 2.47, 'deg': 43, 'gust': 5.05}, 'visibility': 10000, 'pop': 0, 'sys': {'pod': 'd'}, 'dt_txt': '2023-10-20 15:00:00'}, {'dt': 1697824800, 'main': {'temp': 272.28, 'feels_like': 269.51, 'temp_min': 272.28, 'temp_max': 272.28, 'pressure': 1028, 'sea_level': 1028, 'grnd_level': 1009, 'humidity': 70, 'temp_kf': 0}, 'weather': [{'id': 804, 'main': 'Clouds', 'description': 'overcast clouds', 'icon': '04n'}], 'clouds': {'all': 99}, 'wind': {'speed': 2.14, 'deg': 30, 'gust': 5.53}, 'visibility': 10000, 'pop': 0, 'sys': {'pod': 'n'}, 'dt_txt': '2023-10-20 18:00:00'}, {'dt': 1697835600, 'main': {'temp': 271.24, 'feels_like': 268.43, 'temp_min': 271.24, 'temp_max': 271.24, 'pressure': 1030, 'sea_level': 1030, 'grnd_level': 1011, 'humidity': 79, 'temp_kf': 0}, 'weather': [{'id': 803, 'main': 'Clouds', 'description': 'broken clouds', 'icon': '04n'}], 'clouds': {'all': 55}, 'wind': {'speed': 2.03, 'deg': 21, 'gust': 4.66}, 'visibility': 10000, 'pop': 0, 'sys': {'pod': 'n'}, 'dt_txt': '2023-10-20 21:00:00'}, {'dt': 1697846400, 'main': {'temp': 270.7, 'feels_like': 267.42, 'temp_min': 270.7, 'temp_max': 270.7, 'pressure': 1030, 'sea_level': 1030, 'grnd_level': 1011, 'humidity': 84, 'temp_kf': 0}, 'weather': [{'id': 802, 'main': 'Clouds', 'description': 'scattered clouds', 'icon': '03n'}], 'clouds': {'all': 45}, 'wind': {'speed': 2.33, 'deg': 16, 'gust': 5.32}, 'visibility': 10000, 'pop': 0, 'sys': {'pod': 'n'}, 'dt_txt': '2023-10-21 00:00:00'}, {'dt': 1697857200, 'main': {'temp': 270.62, 'feels_like': 266.91, 'temp_min': 270.62, 'temp_max': 270.62, 'pressure': 1029, 'sea_level': 1029, 'grnd_level': 1010, 'humidity': 85, 'temp_kf': 0}, 'weather': [{'id': 802, 'main': 'Clouds', 'description': 'scattered clouds', 'icon': '03n'}], 'clouds': {'all': 28}, 'wind': {'speed': 2.7, 'deg': 3, 'gust': 6.19}, 'visibility': 10000, 'pop': 0, 'sys': {'pod': 'n'}, 'dt_txt': '2023-10-21 03:00:00'}, {'dt': 1697868000, 'main': {'temp': 271.6, 'feels_like': 267.92, 'temp_min': 271.6, 'temp_max': 271.6, 'pressure': 1029, 'sea_level': 1029, 'grnd_level': 1010, 'humidity': 80, 'temp_kf': 0}, 'weather': [{'id': 803, 'main': 'Clouds', 'description': 'broken clouds', 'icon': '04n'}], 'clouds': {'all': 51}, 'wind': {'speed': 2.86, 'deg': 9, 'gust': 6.92}, 'visibility': 10000, 'pop': 0, 'sys': {'pod': 'n'}, 'dt_txt': '2023-10-21 06:00:00'}], 'city': {'id': 3144113, 'name': 'Noresund', 'coord': {'lat': 60.1803, 'lon': 9.6231}, 'country': 'NO', 'population': 1000, 'timezone': 7200, 'sunrise': 1697436142, 'sunset': 1697472697}}\")\n"
     ]
    }
   ],
   "source": [
    "# Query the data\n",
    "forecast_rows = session.execute(\"SELECT * FROM forecast_table;\")\n",
    "print(forecast_rows.one()) # <- only one row"
   ]
  },
  {
   "cell_type": "markdown",
   "metadata": {
    "slideshow": {
     "slide_type": "slide"
    }
   },
   "source": [
    "## Resources\n",
    "- [Cassandra webpage](https://cassandra.apache.org/)\n",
    "- [Cassandra Docker file](https://hub.docker.com/_/cassandra)\n",
    "- [UUID functions](https://docs.datastax.com/en/cql-oss/3.3/cql/cql_reference/timeuuid_functions_r.html)\n",
    "- [YouTube: Cassandra in 100 seconds](https://youtu.be/ziq7FUKpCS8?si=WQUdkHFvaBmT0DBo) (2m:26s)\n",
    "- [YouTube: How to use Apache Cassandra in Python](https://youtu.be/qMauZqJH3ZM?si=yKGZ-5cld2BK396Y) (14m:50s)\n",
    "- [YouTube: Cassandra Database Crash Course](https://youtu.be/KZsVSfQVU4I?si=FBCi8qOfCirfVmZk) (19m:47s)"
   ]
  }
 ],
 "metadata": {
  "celltoolbar": "Slideshow",
  "kernelspec": {
   "display_name": "Python 3 (ipykernel)",
   "language": "python",
   "name": "python3"
  },
  "language_info": {
   "codemirror_mode": {
    "name": "ipython",
    "version": 3
   },
   "file_extension": ".py",
   "mimetype": "text/x-python",
   "name": "python",
   "nbconvert_exporter": "python",
   "pygments_lexer": "ipython3",
   "version": "3.10.6"
  }
 },
 "nbformat": 4,
 "nbformat_minor": 2
}