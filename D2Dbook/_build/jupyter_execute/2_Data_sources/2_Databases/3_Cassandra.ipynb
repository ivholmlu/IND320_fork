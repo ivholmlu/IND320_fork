{
 "cells": [
  {
   "cell_type": "markdown",
   "metadata": {
    "slideshow": {
     "slide_type": "slide"
    }
   },
   "source": [
    "# Cassandra\n",
    "- A production grade NoSQL database.\n",
    "- Can be distributed across servers, nodes, etc.\n",
    "- Replication of database is supported for high degree of redundancy and speed.\n",
    "- Uses CQL, a subset of SQL for querying.\n",
    "- Works seamlesly together with Spark and its corresponding distributed structure.\n",
    "- Installation of Cassandra is explained in the [Installation chapter](../../6_Appendix/Installation.ipynb)."
   ]
  },
  {
   "cell_type": "markdown",
   "metadata": {
    "slideshow": {
     "slide_type": "slide"
    }
   },
   "source": [
    "## Spinning up a local Cassandra instance\n",
    "In a terminal, first time:  \n",
    "```docker run --name my_cassandra -p 9042:9042 cassandra:latest```  \n",
    "... and later:  \n",
    "```docker start my_cassandra```  \n",
    "  \n",
    ".. or in Docker Desktop:\n",
    "- Run the cassandra docker image with optional settings, opening 9042 port and setting a name.\n",
    "- Later, simply run the container with the name you chose."
   ]
  },
  {
   "cell_type": "markdown",
   "metadata": {
    "slideshow": {
     "slide_type": "slide"
    }
   },
   "source": [
    "<img src=\"../../images/Docker_images.png\" width=\"600px\">  "
   ]
  },
  {
   "cell_type": "markdown",
   "metadata": {
    "slideshow": {
     "slide_type": "slide"
    }
   },
   "source": [
    "\n",
    "<img src=\"../../images/Docker_containers.png\" width=\"800px\">  "
   ]
  },
  {
   "cell_type": "markdown",
   "metadata": {
    "slideshow": {
     "slide_type": "slide"
    }
   },
   "source": [
    "### Connect to the Cassandra cluster from Python."
   ]
  },
  {
   "cell_type": "code",
   "execution_count": 1,
   "metadata": {
    "slideshow": {
     "slide_type": "-"
    }
   },
   "outputs": [],
   "source": [
    "# Connecting to Cassandra\n",
    "from cassandra.cluster import Cluster\n",
    "cluster = Cluster(['localhost'], port=9042)\n",
    "session = cluster.connect()"
   ]
  },
  {
   "cell_type": "markdown",
   "metadata": {
    "slideshow": {
     "slide_type": "slide"
    }
   },
   "source": [
    "### Keyspace\n",
    "- In Cassandra database tables are stored in keyspaces (basically a distributed database).\n",
    "- These have parameters controlling their distribution on nodes/servers and redundancy.\n",
    "- We will use the simplest form locally."
   ]
  },
  {
   "cell_type": "code",
   "execution_count": 2,
   "metadata": {
    "slideshow": {
     "slide_type": "fragment"
    }
   },
   "outputs": [
    {
     "data": {
      "text/plain": [
       "<cassandra.cluster.ResultSet at 0x105a493c0>"
      ]
     },
     "execution_count": 2,
     "metadata": {},
     "output_type": "execute_result"
    }
   ],
   "source": [
    "# Set up new keyspace (first time only)\n",
    "#                                              name of keyspace                        replication strategy           replication factor\n",
    "session.execute(\"CREATE KEYSPACE IF NOT EXISTS my_first_keyspace WITH REPLICATION = { 'class' : 'SimpleStrategy', 'replication_factor' : 1 };\")"
   ]
  },
  {
   "cell_type": "markdown",
   "metadata": {
    "slideshow": {
     "slide_type": "slide"
    }
   },
   "source": [
    "### Create a table\n",
    "- IF NOT EXISTS makes sure we do not overwrite existing tables"
   ]
  },
  {
   "cell_type": "code",
   "execution_count": 3,
   "metadata": {
    "slideshow": {
     "slide_type": "fragment"
    }
   },
   "outputs": [
    {
     "data": {
      "text/plain": [
       "<cassandra.cluster.ResultSet at 0x109ac9540>"
      ]
     },
     "execution_count": 3,
     "metadata": {},
     "output_type": "execute_result"
    }
   ],
   "source": [
    "# Create a new table (first time only)\n",
    "session.set_keyspace('my_first_keyspace')\n",
    "session.execute(\"DROP TABLE IF EXISTS my_first_keyspace.my_first_table;\") # Starting from scratch every time\n",
    "session.execute(\"CREATE TABLE IF NOT EXISTS my_first_table (ind int PRIMARY KEY, company text, model text);\")"
   ]
  },
  {
   "cell_type": "markdown",
   "metadata": {
    "slideshow": {
     "slide_type": "slide"
    }
   },
   "source": [
    "### Inserting and reading data"
   ]
  },
  {
   "cell_type": "code",
   "execution_count": 4,
   "metadata": {
    "slideshow": {
     "slide_type": "-"
    }
   },
   "outputs": [
    {
     "data": {
      "text/plain": [
       "<cassandra.cluster.ResultSet at 0x109abcbe0>"
      ]
     },
     "execution_count": 4,
     "metadata": {},
     "output_type": "execute_result"
    }
   ],
   "source": [
    "# Insert some data (ind is the primary key, must be unique)\n",
    "session.execute(\"INSERT INTO my_first_table (ind, company, model) VALUES (1, 'Tesla', 'Model S');\")\n",
    "session.execute(\"INSERT INTO my_first_table (ind, company, model) VALUES (2, 'Tesla', 'Model 3');\")\n",
    "session.execute(\"INSERT INTO my_first_table (ind, company, model) VALUES (3, 'Polestar', '3');\")"
   ]
  },
  {
   "cell_type": "markdown",
   "metadata": {
    "slideshow": {
     "slide_type": "slide"
    }
   },
   "source": [
    "### Asyncronous writing\n",
    "- If your application is very data intensive, waiting for a response is not productive.\n",
    "- Writing asyncronously sends the data but does not pause for reply."
   ]
  },
  {
   "cell_type": "code",
   "execution_count": 5,
   "metadata": {
    "slideshow": {
     "slide_type": "-"
    }
   },
   "outputs": [
    {
     "data": {
      "text/plain": [
       "<ResponseFuture: query='<SimpleStatement query=\"INSERT INTO my_first_table (ind, company, model) VALUES (4, 'Volkswagen', 'ID.4');\", consistency=Not Set>' request_id=24 result=(no result yet) exception=None coordinator_host=None>"
      ]
     },
     "execution_count": 5,
     "metadata": {},
     "output_type": "execute_result"
    }
   ],
   "source": [
    "session.execute_async(\"INSERT INTO my_first_table (ind, company, model) VALUES (4, 'Volkswagen', 'ID.4');\")"
   ]
  },
  {
   "cell_type": "code",
   "execution_count": 6,
   "metadata": {
    "slideshow": {
     "slide_type": "slide"
    }
   },
   "outputs": [
    {
     "name": "stdout",
     "output_type": "stream",
     "text": [
      "Row(ind=1, company='Tesla', model='Model S')\n",
      "Row(ind=2, company='Tesla', model='Model 3')\n",
      "Row(ind=4, company='Volkswagen', model='ID.4')\n",
      "Row(ind=3, company='Polestar', model='3')\n"
     ]
    }
   ],
   "source": [
    "# Query the data\n",
    "rows = session.execute(\"SELECT * FROM my_first_table;\")\n",
    "for i in rows:\n",
    "    print(i)"
   ]
  },
  {
   "cell_type": "code",
   "execution_count": 7,
   "metadata": {
    "slideshow": {
     "slide_type": "slide"
    },
    "tags": [
     "raises-exception"
    ]
   },
   "outputs": [
    {
     "ename": "InvalidRequest",
     "evalue": "Error from server: code=2200 [Invalid query] message=\"Cannot execute this query as it might involve data filtering and thus may have unpredictable performance. If you want to execute this query despite the performance unpredictability, use ALLOW FILTERING\"",
     "output_type": "error",
     "traceback": [
      "\u001b[0;31m---------------------------------------------------------------------------\u001b[0m",
      "\u001b[0;31mInvalidRequest\u001b[0m                            Traceback (most recent call last)",
      "Cell \u001b[0;32mIn [7], line 2\u001b[0m\n\u001b[1;32m      1\u001b[0m \u001b[38;5;66;03m# More specific query\u001b[39;00m\n\u001b[0;32m----> 2\u001b[0m prepared_statement \u001b[38;5;241m=\u001b[39m \u001b[43msession\u001b[49m\u001b[38;5;241;43m.\u001b[39;49m\u001b[43mprepare\u001b[49m\u001b[43m(\u001b[49m\u001b[38;5;124;43m\"\u001b[39;49m\u001b[38;5;124;43mSELECT * FROM my_first_table WHERE company=?;\u001b[39;49m\u001b[38;5;124;43m\"\u001b[39;49m\u001b[43m)\u001b[49m \u001b[38;5;66;03m# <- will fail as company is not a key\u001b[39;00m\n\u001b[1;32m      3\u001b[0m teslas \u001b[38;5;241m=\u001b[39m session\u001b[38;5;241m.\u001b[39mexecute(prepared_statement, [\u001b[38;5;124m'\u001b[39m\u001b[38;5;124mTesla\u001b[39m\u001b[38;5;124m'\u001b[39m])\n\u001b[1;32m      4\u001b[0m \u001b[38;5;28;01mfor\u001b[39;00m i \u001b[38;5;129;01min\u001b[39;00m teslas:\n",
      "File \u001b[0;32m~/miniforge3/envs/tf_M1/lib/python3.10/site-packages/cassandra/cluster.py:3088\u001b[0m, in \u001b[0;36mSession.prepare\u001b[0;34m(self, query, custom_payload, keyspace)\u001b[0m\n\u001b[1;32m   3086\u001b[0m \u001b[38;5;28;01mtry\u001b[39;00m:\n\u001b[1;32m   3087\u001b[0m     future\u001b[38;5;241m.\u001b[39msend_request()\n\u001b[0;32m-> 3088\u001b[0m     response \u001b[38;5;241m=\u001b[39m \u001b[43mfuture\u001b[49m\u001b[38;5;241;43m.\u001b[39;49m\u001b[43mresult\u001b[49m\u001b[43m(\u001b[49m\u001b[43m)\u001b[49m\u001b[38;5;241m.\u001b[39mone()\n\u001b[1;32m   3089\u001b[0m \u001b[38;5;28;01mexcept\u001b[39;00m \u001b[38;5;167;01mException\u001b[39;00m:\n\u001b[1;32m   3090\u001b[0m     log\u001b[38;5;241m.\u001b[39mexception(\u001b[38;5;124m\"\u001b[39m\u001b[38;5;124mError preparing query:\u001b[39m\u001b[38;5;124m\"\u001b[39m)\n",
      "File \u001b[0;32m~/miniforge3/envs/tf_M1/lib/python3.10/site-packages/cassandra/cluster.py:4920\u001b[0m, in \u001b[0;36mResponseFuture.result\u001b[0;34m(self)\u001b[0m\n\u001b[1;32m   4918\u001b[0m     \u001b[38;5;28;01mreturn\u001b[39;00m ResultSet(\u001b[38;5;28mself\u001b[39m, \u001b[38;5;28mself\u001b[39m\u001b[38;5;241m.\u001b[39m_final_result)\n\u001b[1;32m   4919\u001b[0m \u001b[38;5;28;01melse\u001b[39;00m:\n\u001b[0;32m-> 4920\u001b[0m     \u001b[38;5;28;01mraise\u001b[39;00m \u001b[38;5;28mself\u001b[39m\u001b[38;5;241m.\u001b[39m_final_exception\n",
      "\u001b[0;31mInvalidRequest\u001b[0m: Error from server: code=2200 [Invalid query] message=\"Cannot execute this query as it might involve data filtering and thus may have unpredictable performance. If you want to execute this query despite the performance unpredictability, use ALLOW FILTERING\""
     ]
    }
   ],
   "source": [
    "# More specific query\n",
    "prepared_statement = session.prepare(\"SELECT * FROM my_first_table WHERE company=?;\") # <- will fail as company is not a key\n",
    "teslas = session.execute(prepared_statement, ['Tesla'])\n",
    "for i in teslas:\n",
    "    print(i)"
   ]
  },
  {
   "cell_type": "markdown",
   "metadata": {
    "slideshow": {
     "slide_type": "slide"
    }
   },
   "source": [
    "## Cassandra filtering\n",
    "Cassandra is inherently a distributed production database. Selecting as above may require downloading all data from a node, then filtering based on the WHERE part (only PRIMARY KEYs are centrally known). Solutions:  \n",
    "- If the table is small or most of the data will satisfy the query, add ```ALLOW FILTERING``` at the end of the query (not recommended if not known). \n",
    "- Or make sure the WHERE clause points to one of the keys (see below)."
   ]
  },
  {
   "cell_type": "code",
   "execution_count": 8,
   "metadata": {
    "slideshow": {
     "slide_type": "slide"
    }
   },
   "outputs": [
    {
     "data": {
      "text/plain": [
       "<cassandra.cluster.ResultSet at 0x109abf4c0>"
      ]
     },
     "execution_count": 8,
     "metadata": {},
     "output_type": "execute_result"
    }
   ],
   "source": [
    "# Create a new table (observe keys)\n",
    "session.execute(\"DROP TABLE IF EXISTS my_first_keyspace.car_table;\")\n",
    "session.execute(\"CREATE TABLE IF NOT EXISTS car_table (company text, model text, PRIMARY KEY(company, model));\")"
   ]
  },
  {
   "cell_type": "code",
   "execution_count": 9,
   "metadata": {
    "slideshow": {
     "slide_type": "fragment"
    }
   },
   "outputs": [
    {
     "data": {
      "text/plain": [
       "<cassandra.cluster.ResultSet at 0x10bce2470>"
      ]
     },
     "execution_count": 9,
     "metadata": {},
     "output_type": "execute_result"
    }
   ],
   "source": [
    "# Insert some data (combination of company and model must be unique)\n",
    "session.execute(\"INSERT INTO car_table (company, model) VALUES ('Tesla', 'Model S');\")\n",
    "session.execute(\"INSERT INTO car_table (company, model) VALUES ('Tesla', 'Model 3');\")\n",
    "session.execute(\"INSERT INTO car_table (company, model) VALUES ('Polestar', '3');\")\n",
    "session.execute(\"INSERT INTO car_table (company, model) VALUES ('Volkswagen', 'ID.4');\")"
   ]
  },
  {
   "cell_type": "code",
   "execution_count": 10,
   "metadata": {
    "slideshow": {
     "slide_type": "slide"
    }
   },
   "outputs": [
    {
     "name": "stdout",
     "output_type": "stream",
     "text": [
      "Row(company='Tesla', model='Model 3')\n",
      "Row(company='Tesla', model='Model S')\n"
     ]
    }
   ],
   "source": [
    "# More specific query now works\n",
    "prepared_statement = session.prepare(\"SELECT * FROM car_table WHERE company=?;\")\n",
    "teslas = session.execute(prepared_statement, ['Tesla'])\n",
    "for i in teslas:\n",
    "    print(i)"
   ]
  },
  {
   "cell_type": "markdown",
   "metadata": {
    "slideshow": {
     "slide_type": "slide"
    }
   },
   "source": [
    "### Partitions\n",
    "- Cassandra databases are usually replicated over different nodes.\n",
    "- Data is stored in partitions (subsets) which have local copys.\n",
    "- The primary key, e.g., PRIMARY KEY(company, model), is used in partitioning.\n",
    "    - The first part, e.g., company, is most important.\n",
    "    - All cars from a company will be located together, aiming for quicker queries."
   ]
  },
  {
   "cell_type": "markdown",
   "metadata": {
    "slideshow": {
     "slide_type": "slide"
    }
   },
   "source": [
    "### Unique IDs \n",
    "- In MySQL one could use the attribute AUTO_INCREMENT on integer IDs to automatically make a new unique index when inserting data.\n",
    "- This would cause unreasonable overhead in a distributed database.\n",
    "- [UUID](https://en.wikipedia.org/wiki/Universally_unique_identifier)s are used instead.\n",
    "    - Universally Unique Identifiers are typically 128-bit random bit sequences with extremely low probability of duplication.\n",
    "    - Cassandra uses a [timeuuid](https://docs.datastax.com/en/cql-oss/3.3/cql/cql_reference/timeuuid_functions_r.html) type to combine a timestamp and uuid in one."
   ]
  },
  {
   "cell_type": "code",
   "execution_count": 11,
   "metadata": {
    "slideshow": {
     "slide_type": "fragment"
    }
   },
   "outputs": [
    {
     "data": {
      "text/plain": [
       "<cassandra.cluster.ResultSet at 0x105a4bf40>"
      ]
     },
     "execution_count": 11,
     "metadata": {},
     "output_type": "execute_result"
    }
   ],
   "source": [
    "# Create a new table (first time only)\n",
    "session.set_keyspace('my_first_keyspace')\n",
    "session.execute(\"DROP TABLE IF EXISTS my_first_keyspace.table_with_uuid;\")\n",
    "session.execute(\"CREATE TABLE IF NOT EXISTS table_with_uuid (id timeuuid PRIMARY KEY, company text, model text, price float);\")"
   ]
  },
  {
   "cell_type": "code",
   "execution_count": 12,
   "metadata": {
    "slideshow": {
     "slide_type": "slide"
    }
   },
   "outputs": [
    {
     "data": {
      "text/plain": [
       "<cassandra.cluster.ResultSet at 0x10bce25f0>"
      ]
     },
     "execution_count": 12,
     "metadata": {},
     "output_type": "execute_result"
    }
   ],
   "source": [
    "session.execute(\"INSERT INTO table_with_uuid (id, company, model, price) VALUES (now(), 'Tesla', 'Model S', 20000.0);\")\n",
    "session.execute(\"INSERT INTO table_with_uuid (id, company, model, price) VALUES (now(), 'Tesla', 'Model S', 21000.0);\")\n",
    "session.execute(\"INSERT INTO table_with_uuid (id, company, model, price) VALUES (now(), 'Oldsmobile', 'Model 6C', 135000.0);\")"
   ]
  },
  {
   "cell_type": "code",
   "execution_count": 13,
   "metadata": {
    "slideshow": {
     "slide_type": "slide"
    }
   },
   "outputs": [
    {
     "name": "stdout",
     "output_type": "stream",
     "text": [
      "Row(id=UUID('6f6da730-6bf9-11ee-8b2f-4f23491759a5'), company='Tesla', model='Model S', price=20000.0)\n",
      "Datetime: 2023-10-16 07:55:55.555000\n",
      "Row(id=UUID('6f6e1c60-6bf9-11ee-8b2f-4f23491759a5'), company='Tesla', model='Model S', price=21000.0)\n",
      "Datetime: 2023-10-16 07:55:55.558000\n",
      "Row(id=UUID('6f6e6a80-6bf9-11ee-8b2f-4f23491759a5'), company='Oldsmobile', model='Model 6C', price=135000.0)\n",
      "Datetime: 2023-10-16 07:55:55.560000\n"
     ]
    }
   ],
   "source": [
    "from cassandra.util import datetime_from_uuid1\n",
    "\n",
    "# Query the data\n",
    "rows = session.execute(\"SELECT * FROM table_with_uuid;\")\n",
    "for i in rows:\n",
    "    print(i)\n",
    "    # Extract the timestamp from Cassandra's timeuuid\n",
    "    print(\"Datetime:\", datetime_from_uuid1(i.id))"
   ]
  },
  {
   "cell_type": "markdown",
   "metadata": {
    "slideshow": {
     "slide_type": "slide"
    }
   },
   "source": [
    "## JSON in Cassandra\n",
    "### Read previously saved JSON file forecast.json to memory"
   ]
  },
  {
   "cell_type": "code",
   "execution_count": 14,
   "metadata": {
    "slideshow": {
     "slide_type": "-"
    }
   },
   "outputs": [],
   "source": [
    "import json\n",
    "with open('../3_APIs/downloads/forecast.json', 'r') as f:\n",
    "    forecast = json.load(f)"
   ]
  },
  {
   "cell_type": "code",
   "execution_count": 15,
   "metadata": {
    "slideshow": {
     "slide_type": "slide"
    }
   },
   "outputs": [
    {
     "data": {
      "text/plain": [
       "\"{'cod': '200', 'message': 0, 'cnt': 40, 'list': [{'dt': 1697036400, 'main': {'temp': 281.54, 'feels_like': 278.04, 'temp_min': 281.54, 'temp_max': 281.96, 'pressure': 985, 'sea_level': 985, 'grnd_level': 967, 'humidity': 76, 'temp_kf': -0.42}, 'weather': [{'id': 500, 'main': 'Rain', 'description': 'light rain', 'icon': '10d'}], 'clouds': {'all': 24}, 'wind': {'speed': 6.92, 'deg': 252, 'gust': 16.85}, 'visibility': 10000, 'pop': 0.28, 'rain': {'3h': 0.18}, 'sys': {'pod': 'd'}, 'dt_txt': '2023-10-11 15:00:00'}, {'dt': 1697047200, 'main': {'temp': 281.32, 'feels_like': 277.61, 'temp_min': 280.89, 'temp_max': 281.32, 'pressure': 984, 'sea_level': 984, 'grnd_level': 965, 'humidity': 75, 'temp_kf': 0.43}, 'weather': [{'id': 801, 'main': 'Clouds', 'description': 'few clouds', 'icon': '02n'}], 'clouds': {'all': 24}, 'wind': {'speed': 7.42, 'deg': 241, 'gust': 19.52}, 'visibility': 10000, 'pop': 0.22, 'sys': {'pod': 'n'}, 'dt_txt': '2023-10-11 18:00:00'}, {'dt': 1697058000, 'main': {'temp': 281.07, 'feels_like': 277.45, 'temp_min': 280.83, 'temp_max': 281.07, 'pressure': 984, 'sea_level': 984, 'grnd_level': 965, 'humidity': 70, 'temp_kf': 0.24}, 'weather': [{'id': 802, 'main': 'Clouds', 'description': 'scattered clouds', 'icon': '03n'}], 'clouds': {'all': 29}, 'wind': {'speed': 6.89, 'deg': 261, 'gust': 18.55}, 'visibility': 10000, 'pop': 0.08, 'sys': {'pod': 'n'}, 'dt_txt': '2023-10-11 21:00:00'}, {'dt': 1697068800, 'main': {'temp': 277.8, 'feels_like': 274.77, 'temp_min': 277.8, 'temp_max': 277.8, 'pressure': 987, 'sea_level': 987, 'grnd_level': 969, 'humidity': 69, 'temp_kf': 0}, 'weather': [{'id': 500, 'main': 'Rain', 'description': 'light rain', 'icon': '10n'}], 'clouds': {'all': 31}, 'wind': {'speed': 3.69, 'deg': 279, 'gust': 8.47}, 'visibility': 10000, 'pop': 0.32, 'rain': {'3h': 0.37}, 'sys': {'pod': 'n'}, 'dt_txt': '2023-10-12 00:00:00'}, {'dt': 1697079600, 'main': {'temp': 277.84, 'feels_like': 274.92, 'temp_min': 277.84, 'temp_max': 277.84, 'pressure': 990, 'sea_level': 990, 'grnd_level': 972, 'humidity': 68, 'temp_kf': 0}, 'weather': [{'id': 800, 'main': 'Clear', 'description': 'clear sky', 'icon': '01n'}], 'clouds': {'all': 1}, 'wind': {'speed': 3.53, 'deg': 271, 'gust': 12.3}, 'visibility': 10000, 'pop': 0, 'sys': {'pod': 'n'}, 'dt_txt': '2023-10-12 03:00:00'}, {'dt': 1697090400, 'main': {'temp': 278.72, 'feels_like': 275.44, 'temp_min': 278.72, 'temp_max': 278.72, 'pressure': 992, 'sea_level': 992, 'grnd_level': 974, 'humidity': 63, 'temp_kf': 0}, 'weather': [{'id': 800, 'main': 'Clear', 'description': 'clear sky', 'icon': '01d'}], 'clouds': {'all': 2}, 'wind': {'speed': 4.51, 'deg': 278, 'gust': 12.95}, 'visibility': 10000, 'pop': 0, 'sys': {'pod': 'd'}, 'dt_txt': '2023-10-12 06:00:00'}, {'dt': 1697101200, 'main': {'temp': 283.03, 'feels_like': 280.5, 'temp_min': 283.03, 'temp_max': 283.03, 'pressure': 995, 'sea_level': 995, 'grnd_level': 977, 'humidity': 48, 'temp_kf': 0}, 'weather': [{'id': 800, 'main': 'Clear', 'description': 'clear sky', 'icon': '01d'}], 'clouds': {'all': 0}, 'wind': {'speed': 5.24, 'deg': 291, 'gust': 17.26}, 'visibility': 10000, 'pop': 0, 'sys': {'pod': 'd'}, 'dt_txt': '2023-10-12 09:00:00'}, {'dt': 1697112000, 'main': {'temp': 284.19, 'feels_like': 282.5, 'temp_min': 284.19, 'temp_max': 284.19, 'pressure': 999, 'sea_level': 999, 'grnd_level': 981, 'humidity': 44, 'temp_kf': 0}, 'weather': [{'id': 801, 'main': 'Clouds', 'description': 'few clouds', 'icon': '02d'}], 'clouds': {'all': 13}, 'wind': {'speed': 4.13, 'deg': 273, 'gust': 11.42}, 'visibility': 10000, 'pop': 0, 'sys': {'pod': 'd'}, 'dt_txt': '2023-10-12 12:00:00'}, {'dt': 1697122800, 'main': {'temp': 281.35, 'feels_like': 279.15, 'temp_min': 281.35, 'temp_max': 281.35, 'pressure': 1002, 'sea_level': 1002, 'grnd_level': 984, 'humidity': 53, 'temp_kf': 0}, 'weather': [{'id': 804, 'main': 'Clouds', 'description': 'overcast clouds', 'icon': '04d'}], 'clouds': {'all': 89}, 'wind': {'speed': 3.59, 'deg': 260, 'gust': 6.96}, 'visibility': 10000, 'pop': 0, 'sys': {'pod': 'd'}, 'dt_txt': '2023-10-12 15:00:00'}, {'dt': 1697133600, 'main': {'temp': 277.43, 'feels_like': 275.22, 'temp_min': 277.43, 'temp_max': 277.43, 'pressure': 1005, 'sea_level': 1005, 'grnd_level': 987, 'humidity': 73, 'temp_kf': 0}, 'weather': [{'id': 804, 'main': 'Clouds', 'description': 'overcast clouds', 'icon': '04n'}], 'clouds': {'all': 94}, 'wind': {'speed': 2.47, 'deg': 282, 'gust': 3.2}, 'visibility': 10000, 'pop': 0, 'sys': {'pod': 'n'}, 'dt_txt': '2023-10-12 18:00:00'}, {'dt': 1697144400, 'main': {'temp': 276.64, 'feels_like': 274.61, 'temp_min': 276.64, 'temp_max': 276.64, 'pressure': 1006, 'sea_level': 1006, 'grnd_level': 987, 'humidity': 76, 'temp_kf': 0}, 'weather': [{'id': 804, 'main': 'Clouds', 'description': 'overcast clouds', 'icon': '04n'}], 'clouds': {'all': 100}, 'wind': {'speed': 2.14, 'deg': 282, 'gust': 2.59}, 'visibility': 10000, 'pop': 0, 'sys': {'pod': 'n'}, 'dt_txt': '2023-10-12 21:00:00'}, {'dt': 1697155200, 'main': {'temp': 276.18, 'feels_like': 274.65, 'temp_min': 276.18, 'temp_max': 276.18, 'pressure': 1005, 'sea_level': 1005, 'grnd_level': 987, 'humidity': 76, 'temp_kf': 0}, 'weather': [{'id': 804, 'main': 'Clouds', 'description': 'overcast clouds', 'icon': '04n'}], 'clouds': {'all': 100}, 'wind': {'speed': 1.65, 'deg': 286, 'gust': 1.81}, 'visibility': 10000, 'pop': 0, 'sys': {'pod': 'n'}, 'dt_txt': '2023-10-13 00:00:00'}, {'dt': 1697166000, 'main': {'temp': 275.86, 'feels_like': 275.86, 'temp_min': 275.86, 'temp_max': 275.86, 'pressure': 1004, 'sea_level': 1004, 'grnd_level': 985, 'humidity': 75, 'temp_kf': 0}, 'weather': [{'id': 804, 'main': 'Clouds', 'description': 'overcast clouds', 'icon': '04n'}], 'clouds': {'all': 100}, 'wind': {'speed': 1.18, 'deg': 284, 'gust': 1.28}, 'visibility': 10000, 'pop': 0, 'sys': {'pod': 'n'}, 'dt_txt': '2023-10-13 03:00:00'}, {'dt': 1697176800, 'main': {'temp': 276.47, 'feels_like': 276.47, 'temp_min': 276.47, 'temp_max': 276.47, 'pressure': 1002, 'sea_level': 1002, 'grnd_level': 983, 'humidity': 75, 'temp_kf': 0}, 'weather': [{'id': 804, 'main': 'Clouds', 'description': 'overcast clouds', 'icon': '04d'}], 'clouds': {'all': 100}, 'wind': {'speed': 1.31, 'deg': 200, 'gust': 1.43}, 'visibility': 10000, 'pop': 0, 'sys': {'pod': 'd'}, 'dt_txt': '2023-10-13 06:00:00'}, {'dt': 1697187600, 'main': {'temp': 278.65, 'feels_like': 277.32, 'temp_min': 278.65, 'temp_max': 278.65, 'pressure': 999, 'sea_level': 999, 'grnd_level': 981, 'humidity': 67, 'temp_kf': 0}, 'weather': [{'id': 804, 'main': 'Clouds', 'description': 'overcast clouds', 'icon': '04d'}], 'clouds': {'all': 100}, 'wind': {'speed': 1.79, 'deg': 173, 'gust': 3.12}, 'visibility': 10000, 'pop': 0, 'sys': {'pod': 'd'}, 'dt_txt': '2023-10-13 09:00:00'}, {'dt': 1697198400, 'main': {'temp': 279.26, 'feels_like': 279.26, 'temp_min': 279.26, 'temp_max': 279.26, 'pressure': 995, 'sea_level': 995, 'grnd_level': 977, 'humidity': 78, 'temp_kf': 0}, 'weather': [{'id': 804, 'main': 'Clouds', 'description': 'overcast clouds', 'icon': '04d'}], 'clouds': {'all': 100}, 'wind': {'speed': 0.72, 'deg': 105, 'gust': 1.79}, 'visibility': 10000, 'pop': 0.01, 'sys': {'pod': 'd'}, 'dt_txt': '2023-10-13 12:00:00'}, {'dt': 1697209200, 'main': {'temp': 278.58, 'feels_like': 278.58, 'temp_min': 278.58, 'temp_max': 278.58, 'pressure': 990, 'sea_level': 990, 'grnd_level': 972, 'humidity': 99, 'temp_kf': 0}, 'weather': [{'id': 501, 'main': 'Rain', 'description': 'moderate rain', 'icon': '10d'}], 'clouds': {'all': 100}, 'wind': {'speed': 0.23, 'deg': 0, 'gust': 0.89}, 'visibility': 2120, 'pop': 1, 'rain': {'3h': 4.57}, 'sys': {'pod': 'd'}, 'dt_txt': '2023-10-13 15:00:00'}, {'dt': 1697220000, 'main': {'temp': 279.36, 'feels_like': 279.36, 'temp_min': 279.36, 'temp_max': 279.36, 'pressure': 986, 'sea_level': 986, 'grnd_level': 968, 'humidity': 98, 'temp_kf': 0}, 'weather': [{'id': 500, 'main': 'Rain', 'description': 'light rain', 'icon': '10n'}], 'clouds': {'all': 100}, 'wind': {'speed': 0.73, 'deg': 258, 'gust': 0.84}, 'visibility': 4696, 'pop': 1, 'rain': {'3h': 1.6}, 'sys': {'pod': 'n'}, 'dt_txt': '2023-10-13 18:00:00'}, {'dt': 1697230800, 'main': {'temp': 279.79, 'feels_like': 279.79, 'temp_min': 279.79, 'temp_max': 279.79, 'pressure': 985, 'sea_level': 985, 'grnd_level': 967, 'humidity': 97, 'temp_kf': 0}, 'weather': [{'id': 804, 'main': 'Clouds', 'description': 'overcast clouds', 'icon': '04n'}], 'clouds': {'all': 100}, 'wind': {'speed': 1.25, 'deg': 250, 'gust': 1.68}, 'visibility': 10000, 'pop': 0, 'sys': {'pod': 'n'}, 'dt_txt': '2023-10-13 21:00:00'}, {'dt': 1697241600, 'main': {'temp': 277.08, 'feels_like': 277.08, 'temp_min': 277.08, 'temp_max': 277.08, 'pressure': 984, 'sea_level': 984, 'grnd_level': 966, 'humidity': 96, 'temp_kf': 0}, 'weather': [{'id': 803, 'main': 'Clouds', 'description': 'broken clouds', 'icon': '04n'}], 'clouds': {'all': 66}, 'wind': {'speed': 1.28, 'deg': 222, 'gust': 1.74}, 'visibility': 10000, 'pop': 0, 'sys': {'pod': 'n'}, 'dt_txt': '2023-10-14 00:00:00'}, {'dt': 1697252400, 'main': {'temp': 275.98, 'feels_like': 274.39, 'temp_min': 275.98, 'temp_max': 275.98, 'pressure': 982, 'sea_level': 982, 'grnd_level': 964, 'humidity': 95, 'temp_kf': 0}, 'weather': [{'id': 802, 'main': 'Clouds', 'description': 'scattered clouds', 'icon': '03n'}], 'clouds': {'all': 37}, 'wind': {'speed': 1.67, 'deg': 204, 'gust': 3.05}, 'visibility': 10000, 'pop': 0, 'sys': {'pod': 'n'}, 'dt_txt': '2023-10-14 03:00:00'}, {'dt': 1697263200, 'main': {'temp': 275.75, 'feels_like': 274.33, 'temp_min': 275.75, 'temp_max': 275.75, 'pressure': 982, 'sea_level': 982, 'grnd_level': 964, 'humidity': 90, 'temp_kf': 0}, 'weather': [{'id': 801, 'main': 'Clouds', 'description': 'few clouds', 'icon': '02d'}], 'clouds': {'all': 23}, 'wind': {'speed': 1.52, 'deg': 257, 'gust': 1.83}, 'visibility': 10000, 'pop': 0.01, 'sys': {'pod': 'd'}, 'dt_txt': '2023-10-14 06:00:00'}, {'dt': 1697274000, 'main': {'temp': 281.3, 'feels_like': 279.15, 'temp_min': 281.3, 'temp_max': 281.3, 'pressure': 981, 'sea_level': 981, 'grnd_level': 963, 'humidity': 66, 'temp_kf': 0}, 'weather': [{'id': 802, 'main': 'Clouds', 'description': 'scattered clouds', 'icon': '03d'}], 'clouds': {'all': 29}, 'wind': {'speed': 3.49, 'deg': 243, 'gust': 12.43}, 'visibility': 10000, 'pop': 0, 'sys': {'pod': 'd'}, 'dt_txt': '2023-10-14 09:00:00'}, {'dt': 1697284800, 'main': {'temp': 283.29, 'feels_like': 281.74, 'temp_min': 283.29, 'temp_max': 283.29, 'pressure': 981, 'sea_level': 981, 'grnd_level': 963, 'humidity': 53, 'temp_kf': 0}, 'weather': [{'id': 801, 'main': 'Clouds', 'description': 'few clouds', 'icon': '02d'}], 'clouds': {'all': 15}, 'wind': {'speed': 5.34, 'deg': 269, 'gust': 14.5}, 'visibility': 10000, 'pop': 0, 'sys': {'pod': 'd'}, 'dt_txt': '2023-10-14 12:00:00'}, {'dt': 1697295600, 'main': {'temp': 280.88, 'feels_like': 278.12, 'temp_min': 280.88, 'temp_max': 280.88, 'pressure': 983, 'sea_level': 983, 'grnd_level': 965, 'humidity': 57, 'temp_kf': 0}, 'weather': [{'id': 800, 'main': 'Clear', 'description': 'clear sky', 'icon': '01d'}], 'clouds': {'all': 4}, 'wind': {'speed': 4.51, 'deg': 270, 'gust': 13.51}, 'visibility': 10000, 'pop': 0.01, 'sys': {'pod': 'd'}, 'dt_txt': '2023-10-14 15:00:00'}, {'dt': 1697306400, 'main': {'temp': 277.3, 'feels_like': 275.23, 'temp_min': 277.3, 'temp_max': 277.3, 'pressure': 984, 'sea_level': 984, 'grnd_level': 966, 'humidity': 69, 'temp_kf': 0}, 'weather': [{'id': 802, 'main': 'Clouds', 'description': 'scattered clouds', 'icon': '03n'}], 'clouds': {'all': 48}, 'wind': {'speed': 2.3, 'deg': 276, 'gust': 4.46}, 'visibility': 10000, 'pop': 0, 'sys': {'pod': 'n'}, 'dt_txt': '2023-10-14 18:00:00'}, {'dt': 1697317200, 'main': {'temp': 275.49, 'feels_like': 273.13, 'temp_min': 275.49, 'temp_max': 275.49, 'pressure': 986, 'sea_level': 986, 'grnd_level': 967, 'humidity': 79, 'temp_kf': 0}, 'weather': [{'id': 804, 'main': 'Clouds', 'description': 'overcast clouds', 'icon': '04n'}], 'clouds': {'all': 99}, 'wind': {'speed': 2.27, 'deg': 290, 'gust': 2.45}, 'visibility': 10000, 'pop': 0, 'sys': {'pod': 'n'}, 'dt_txt': '2023-10-14 21:00:00'}, {'dt': 1697328000, 'main': {'temp': 275.98, 'feels_like': 273.54, 'temp_min': 275.98, 'temp_max': 275.98, 'pressure': 987, 'sea_level': 987, 'grnd_level': 969, 'humidity': 78, 'temp_kf': 0}, 'weather': [{'id': 804, 'main': 'Clouds', 'description': 'overcast clouds', 'icon': '04n'}], 'clouds': {'all': 87}, 'wind': {'speed': 2.44, 'deg': 293, 'gust': 3.25}, 'visibility': 10000, 'pop': 0, 'sys': {'pod': 'n'}, 'dt_txt': '2023-10-15 00:00:00'}, {'dt': 1697338800, 'main': {'temp': 276.91, 'feels_like': 274.65, 'temp_min': 276.91, 'temp_max': 276.91, 'pressure': 990, 'sea_level': 990, 'grnd_level': 972, 'humidity': 76, 'temp_kf': 0}, 'weather': [{'id': 804, 'main': 'Clouds', 'description': 'overcast clouds', 'icon': '04n'}], 'clouds': {'all': 99}, 'wind': {'speed': 2.43, 'deg': 295, 'gust': 4.12}, 'visibility': 10000, 'pop': 0, 'sys': {'pod': 'n'}, 'dt_txt': '2023-10-15 03:00:00'}, {'dt': 1697349600, 'main': {'temp': 276.66, 'feels_like': 274.36, 'temp_min': 276.66, 'temp_max': 276.66, 'pressure': 994, 'sea_level': 994, 'grnd_level': 976, 'humidity': 75, 'temp_kf': 0}, 'weather': [{'id': 804, 'main': 'Clouds', 'description': 'overcast clouds', 'icon': '04d'}], 'clouds': {'all': 99}, 'wind': {'speed': 2.42, 'deg': 288, 'gust': 3.17}, 'visibility': 10000, 'pop': 0, 'sys': {'pod': 'd'}, 'dt_txt': '2023-10-15 06:00:00'}, {'dt': 1697360400, 'main': {'temp': 280.01, 'feels_like': 278.69, 'temp_min': 280.01, 'temp_max': 280.01, 'pressure': 997, 'sea_level': 997, 'grnd_level': 979, 'humidity': 58, 'temp_kf': 0}, 'weather': [{'id': 804, 'main': 'Clouds', 'description': 'overcast clouds', 'icon': '04d'}], 'clouds': {'all': 100}, 'wind': {'speed': 1.99, 'deg': 273, 'gust': 5.5}, 'visibility': 10000, 'pop': 0, 'sys': {'pod': 'd'}, 'dt_txt': '2023-10-15 09:00:00'}, {'dt': 1697371200, 'main': {'temp': 281.7, 'feels_like': 280.1, 'temp_min': 281.7, 'temp_max': 281.7, 'pressure': 1000, 'sea_level': 1000, 'grnd_level': 982, 'humidity': 47, 'temp_kf': 0}, 'weather': [{'id': 804, 'main': 'Clouds', 'description': 'overcast clouds', 'icon': '04d'}], 'clouds': {'all': 100}, 'wind': {'speed': 2.72, 'deg': 284, 'gust': 5.93}, 'visibility': 10000, 'pop': 0, 'sys': {'pod': 'd'}, 'dt_txt': '2023-10-15 12:00:00'}, {'dt': 1697382000, 'main': {'temp': 280.35, 'feels_like': 278.52, 'temp_min': 280.35, 'temp_max': 280.35, 'pressure': 1002, 'sea_level': 1002, 'grnd_level': 984, 'humidity': 56, 'temp_kf': 0}, 'weather': [{'id': 803, 'main': 'Clouds', 'description': 'broken clouds', 'icon': '04d'}], 'clouds': {'all': 59}, 'wind': {'speed': 2.68, 'deg': 279, 'gust': 5.62}, 'visibility': 10000, 'pop': 0.08, 'sys': {'pod': 'd'}, 'dt_txt': '2023-10-15 15:00:00'}, {'dt': 1697392800, 'main': {'temp': 275.64, 'feels_like': 273.3, 'temp_min': 275.64, 'temp_max': 275.64, 'pressure': 1005, 'sea_level': 1005, 'grnd_level': 987, 'humidity': 74, 'temp_kf': 0}, 'weather': [{'id': 802, 'main': 'Clouds', 'description': 'scattered clouds', 'icon': '03n'}], 'clouds': {'all': 47}, 'wind': {'speed': 2.27, 'deg': 280, 'gust': 2.26}, 'visibility': 10000, 'pop': 0, 'sys': {'pod': 'n'}, 'dt_txt': '2023-10-15 18:00:00'}, {'dt': 1697403600, 'main': {'temp': 274.8, 'feels_like': 272.42, 'temp_min': 274.8, 'temp_max': 274.8, 'pressure': 1007, 'sea_level': 1007, 'grnd_level': 988, 'humidity': 75, 'temp_kf': 0}, 'weather': [{'id': 804, 'main': 'Clouds', 'description': 'overcast clouds', 'icon': '04n'}], 'clouds': {'all': 100}, 'wind': {'speed': 2.17, 'deg': 286, 'gust': 2.12}, 'visibility': 10000, 'pop': 0, 'sys': {'pod': 'n'}, 'dt_txt': '2023-10-15 21:00:00'}, {'dt': 1697414400, 'main': {'temp': 273.74, 'feels_like': 271.17, 'temp_min': 273.74, 'temp_max': 273.74, 'pressure': 1008, 'sea_level': 1008, 'grnd_level': 989, 'humidity': 78, 'temp_kf': 0}, 'weather': [{'id': 804, 'main': 'Clouds', 'description': 'overcast clouds', 'icon': '04n'}], 'clouds': {'all': 85}, 'wind': {'speed': 2.18, 'deg': 290, 'gust': 2.3}, 'visibility': 10000, 'pop': 0, 'sys': {'pod': 'n'}, 'dt_txt': '2023-10-16 00:00:00'}, {'dt': 1697425200, 'main': {'temp': 273.71, 'feels_like': 271.16, 'temp_min': 273.71, 'temp_max': 273.71, 'pressure': 1009, 'sea_level': 1009, 'grnd_level': 990, 'humidity': 78, 'temp_kf': 0}, 'weather': [{'id': 800, 'main': 'Clear', 'description': 'clear sky', 'icon': '01n'}], 'clouds': {'all': 10}, 'wind': {'speed': 2.16, 'deg': 280, 'gust': 2.01}, 'visibility': 10000, 'pop': 0, 'sys': {'pod': 'n'}, 'dt_txt': '2023-10-16 03:00:00'}, {'dt': 1697436000, 'main': {'temp': 273.53, 'feels_like': 270.86, 'temp_min': 273.53, 'temp_max': 273.53, 'pressure': 1010, 'sea_level': 1010, 'grnd_level': 991, 'humidity': 77, 'temp_kf': 0}, 'weather': [{'id': 800, 'main': 'Clear', 'description': 'clear sky', 'icon': '01n'}], 'clouds': {'all': 6}, 'wind': {'speed': 2.24, 'deg': 280, 'gust': 2.33}, 'visibility': 10000, 'pop': 0, 'sys': {'pod': 'n'}, 'dt_txt': '2023-10-16 06:00:00'}, {'dt': 1697446800, 'main': {'temp': 278.37, 'feels_like': 276.9, 'temp_min': 278.37, 'temp_max': 278.37, 'pressure': 1010, 'sea_level': 1010, 'grnd_level': 992, 'humidity': 51, 'temp_kf': 0}, 'weather': [{'id': 802, 'main': 'Clouds', 'description': 'scattered clouds', 'icon': '03d'}], 'clouds': {'all': 28}, 'wind': {'speed': 1.88, 'deg': 273, 'gust': 3.62}, 'visibility': 10000, 'pop': 0, 'sys': {'pod': 'd'}, 'dt_txt': '2023-10-16 09:00:00'}, {'dt': 1697457600, 'main': {'temp': 280.75, 'feels_like': 278.78, 'temp_min': 280.75, 'temp_max': 280.75, 'pressure': 1010, 'sea_level': 1010, 'grnd_level': 992, 'humidity': 37, 'temp_kf': 0}, 'weather': [{'id': 803, 'main': 'Clouds', 'description': 'broken clouds', 'icon': '04d'}], 'clouds': {'all': 55}, 'wind': {'speed': 3, 'deg': 295, 'gust': 5.47}, 'visibility': 10000, 'pop': 0, 'sys': {'pod': 'd'}, 'dt_txt': '2023-10-16 12:00:00'}], 'city': {'id': 3144113, 'name': 'Noresund', 'coord': {'lat': 60.1803, 'lon': 9.6231}, 'country': 'NO', 'population': 1000, 'timezone': 7200, 'sunrise': 1697003402, 'sunset': 1697041582}}\""
      ]
     },
     "execution_count": 15,
     "metadata": {},
     "output_type": "execute_result"
    }
   ],
   "source": [
    "# Inspect JSON file\n",
    "forecast.__str__()"
   ]
  },
  {
   "cell_type": "markdown",
   "metadata": {
    "slideshow": {
     "slide_type": "slide"
    }
   },
   "source": [
    "## Raw JSON\n",
    "- A simple, but not very efficient way of storing JSON data is to treat it as a text and save it directly to the database.  \n",
    "- More efficient, with regard to transfer, is to compress the JSON data to a blob first.\n",
    "    - Compression is automatic."
   ]
  },
  {
   "cell_type": "code",
   "execution_count": 16,
   "metadata": {
    "slideshow": {
     "slide_type": "-"
    }
   },
   "outputs": [
    {
     "data": {
      "text/plain": [
       "<cassandra.cluster.ResultSet at 0x10bcfcdf0>"
      ]
     },
     "execution_count": 16,
     "metadata": {},
     "output_type": "execute_result"
    }
   ],
   "source": [
    "# Create a new table which treats the whole JSON as a blob, using the city id and the first dt as keys\n",
    "session.set_keyspace('my_first_keyspace')\n",
    "session.execute(\"DROP TABLE IF EXISTS my_first_keyspace.forecast_table;\")\n",
    "session.execute(\"CREATE TABLE IF NOT EXISTS forecast_table (city_id int, dt int, forecast blob, PRIMARY KEY(city_id, dt));\")"
   ]
  },
  {
   "cell_type": "markdown",
   "metadata": {
    "slideshow": {
     "slide_type": "slide"
    }
   },
   "source": [
    "### Insert the forecast data into the table as text blob"
   ]
  },
  {
   "cell_type": "code",
   "execution_count": 17,
   "metadata": {
    "slideshow": {
     "slide_type": "-"
    }
   },
   "outputs": [
    {
     "data": {
      "text/plain": [
       "<cassandra.cluster.ResultSet at 0x109abc5e0>"
      ]
     },
     "execution_count": 17,
     "metadata": {},
     "output_type": "execute_result"
    }
   ],
   "source": [
    "session.execute(\"INSERT INTO forecast_table (city_id, dt, forecast) VALUES (%s, %s, textAsBlob(%s));\", (forecast['city']['id'], forecast['list'][0]['dt'], forecast.__str__()))"
   ]
  },
  {
   "cell_type": "code",
   "execution_count": 18,
   "metadata": {
    "slideshow": {
     "slide_type": "slide"
    }
   },
   "outputs": [
    {
     "name": "stdout",
     "output_type": "stream",
     "text": [
      "Row(city_id=3144113, dt=1697036400, forecast=b\"{'cod': '200', 'message': 0, 'cnt': 40, 'list': [{'dt': 1697036400, 'main': {'temp': 281.54, 'feels_like': 278.04, 'temp_min': 281.54, 'temp_max': 281.96, 'pressure': 985, 'sea_level': 985, 'grnd_level': 967, 'humidity': 76, 'temp_kf': -0.42}, 'weather': [{'id': 500, 'main': 'Rain', 'description': 'light rain', 'icon': '10d'}], 'clouds': {'all': 24}, 'wind': {'speed': 6.92, 'deg': 252, 'gust': 16.85}, 'visibility': 10000, 'pop': 0.28, 'rain': {'3h': 0.18}, 'sys': {'pod': 'd'}, 'dt_txt': '2023-10-11 15:00:00'}, {'dt': 1697047200, 'main': {'temp': 281.32, 'feels_like': 277.61, 'temp_min': 280.89, 'temp_max': 281.32, 'pressure': 984, 'sea_level': 984, 'grnd_level': 965, 'humidity': 75, 'temp_kf': 0.43}, 'weather': [{'id': 801, 'main': 'Clouds', 'description': 'few clouds', 'icon': '02n'}], 'clouds': {'all': 24}, 'wind': {'speed': 7.42, 'deg': 241, 'gust': 19.52}, 'visibility': 10000, 'pop': 0.22, 'sys': {'pod': 'n'}, 'dt_txt': '2023-10-11 18:00:00'}, {'dt': 1697058000, 'main': {'temp': 281.07, 'feels_like': 277.45, 'temp_min': 280.83, 'temp_max': 281.07, 'pressure': 984, 'sea_level': 984, 'grnd_level': 965, 'humidity': 70, 'temp_kf': 0.24}, 'weather': [{'id': 802, 'main': 'Clouds', 'description': 'scattered clouds', 'icon': '03n'}], 'clouds': {'all': 29}, 'wind': {'speed': 6.89, 'deg': 261, 'gust': 18.55}, 'visibility': 10000, 'pop': 0.08, 'sys': {'pod': 'n'}, 'dt_txt': '2023-10-11 21:00:00'}, {'dt': 1697068800, 'main': {'temp': 277.8, 'feels_like': 274.77, 'temp_min': 277.8, 'temp_max': 277.8, 'pressure': 987, 'sea_level': 987, 'grnd_level': 969, 'humidity': 69, 'temp_kf': 0}, 'weather': [{'id': 500, 'main': 'Rain', 'description': 'light rain', 'icon': '10n'}], 'clouds': {'all': 31}, 'wind': {'speed': 3.69, 'deg': 279, 'gust': 8.47}, 'visibility': 10000, 'pop': 0.32, 'rain': {'3h': 0.37}, 'sys': {'pod': 'n'}, 'dt_txt': '2023-10-12 00:00:00'}, {'dt': 1697079600, 'main': {'temp': 277.84, 'feels_like': 274.92, 'temp_min': 277.84, 'temp_max': 277.84, 'pressure': 990, 'sea_level': 990, 'grnd_level': 972, 'humidity': 68, 'temp_kf': 0}, 'weather': [{'id': 800, 'main': 'Clear', 'description': 'clear sky', 'icon': '01n'}], 'clouds': {'all': 1}, 'wind': {'speed': 3.53, 'deg': 271, 'gust': 12.3}, 'visibility': 10000, 'pop': 0, 'sys': {'pod': 'n'}, 'dt_txt': '2023-10-12 03:00:00'}, {'dt': 1697090400, 'main': {'temp': 278.72, 'feels_like': 275.44, 'temp_min': 278.72, 'temp_max': 278.72, 'pressure': 992, 'sea_level': 992, 'grnd_level': 974, 'humidity': 63, 'temp_kf': 0}, 'weather': [{'id': 800, 'main': 'Clear', 'description': 'clear sky', 'icon': '01d'}], 'clouds': {'all': 2}, 'wind': {'speed': 4.51, 'deg': 278, 'gust': 12.95}, 'visibility': 10000, 'pop': 0, 'sys': {'pod': 'd'}, 'dt_txt': '2023-10-12 06:00:00'}, {'dt': 1697101200, 'main': {'temp': 283.03, 'feels_like': 280.5, 'temp_min': 283.03, 'temp_max': 283.03, 'pressure': 995, 'sea_level': 995, 'grnd_level': 977, 'humidity': 48, 'temp_kf': 0}, 'weather': [{'id': 800, 'main': 'Clear', 'description': 'clear sky', 'icon': '01d'}], 'clouds': {'all': 0}, 'wind': {'speed': 5.24, 'deg': 291, 'gust': 17.26}, 'visibility': 10000, 'pop': 0, 'sys': {'pod': 'd'}, 'dt_txt': '2023-10-12 09:00:00'}, {'dt': 1697112000, 'main': {'temp': 284.19, 'feels_like': 282.5, 'temp_min': 284.19, 'temp_max': 284.19, 'pressure': 999, 'sea_level': 999, 'grnd_level': 981, 'humidity': 44, 'temp_kf': 0}, 'weather': [{'id': 801, 'main': 'Clouds', 'description': 'few clouds', 'icon': '02d'}], 'clouds': {'all': 13}, 'wind': {'speed': 4.13, 'deg': 273, 'gust': 11.42}, 'visibility': 10000, 'pop': 0, 'sys': {'pod': 'd'}, 'dt_txt': '2023-10-12 12:00:00'}, {'dt': 1697122800, 'main': {'temp': 281.35, 'feels_like': 279.15, 'temp_min': 281.35, 'temp_max': 281.35, 'pressure': 1002, 'sea_level': 1002, 'grnd_level': 984, 'humidity': 53, 'temp_kf': 0}, 'weather': [{'id': 804, 'main': 'Clouds', 'description': 'overcast clouds', 'icon': '04d'}], 'clouds': {'all': 89}, 'wind': {'speed': 3.59, 'deg': 260, 'gust': 6.96}, 'visibility': 10000, 'pop': 0, 'sys': {'pod': 'd'}, 'dt_txt': '2023-10-12 15:00:00'}, {'dt': 1697133600, 'main': {'temp': 277.43, 'feels_like': 275.22, 'temp_min': 277.43, 'temp_max': 277.43, 'pressure': 1005, 'sea_level': 1005, 'grnd_level': 987, 'humidity': 73, 'temp_kf': 0}, 'weather': [{'id': 804, 'main': 'Clouds', 'description': 'overcast clouds', 'icon': '04n'}], 'clouds': {'all': 94}, 'wind': {'speed': 2.47, 'deg': 282, 'gust': 3.2}, 'visibility': 10000, 'pop': 0, 'sys': {'pod': 'n'}, 'dt_txt': '2023-10-12 18:00:00'}, {'dt': 1697144400, 'main': {'temp': 276.64, 'feels_like': 274.61, 'temp_min': 276.64, 'temp_max': 276.64, 'pressure': 1006, 'sea_level': 1006, 'grnd_level': 987, 'humidity': 76, 'temp_kf': 0}, 'weather': [{'id': 804, 'main': 'Clouds', 'description': 'overcast clouds', 'icon': '04n'}], 'clouds': {'all': 100}, 'wind': {'speed': 2.14, 'deg': 282, 'gust': 2.59}, 'visibility': 10000, 'pop': 0, 'sys': {'pod': 'n'}, 'dt_txt': '2023-10-12 21:00:00'}, {'dt': 1697155200, 'main': {'temp': 276.18, 'feels_like': 274.65, 'temp_min': 276.18, 'temp_max': 276.18, 'pressure': 1005, 'sea_level': 1005, 'grnd_level': 987, 'humidity': 76, 'temp_kf': 0}, 'weather': [{'id': 804, 'main': 'Clouds', 'description': 'overcast clouds', 'icon': '04n'}], 'clouds': {'all': 100}, 'wind': {'speed': 1.65, 'deg': 286, 'gust': 1.81}, 'visibility': 10000, 'pop': 0, 'sys': {'pod': 'n'}, 'dt_txt': '2023-10-13 00:00:00'}, {'dt': 1697166000, 'main': {'temp': 275.86, 'feels_like': 275.86, 'temp_min': 275.86, 'temp_max': 275.86, 'pressure': 1004, 'sea_level': 1004, 'grnd_level': 985, 'humidity': 75, 'temp_kf': 0}, 'weather': [{'id': 804, 'main': 'Clouds', 'description': 'overcast clouds', 'icon': '04n'}], 'clouds': {'all': 100}, 'wind': {'speed': 1.18, 'deg': 284, 'gust': 1.28}, 'visibility': 10000, 'pop': 0, 'sys': {'pod': 'n'}, 'dt_txt': '2023-10-13 03:00:00'}, {'dt': 1697176800, 'main': {'temp': 276.47, 'feels_like': 276.47, 'temp_min': 276.47, 'temp_max': 276.47, 'pressure': 1002, 'sea_level': 1002, 'grnd_level': 983, 'humidity': 75, 'temp_kf': 0}, 'weather': [{'id': 804, 'main': 'Clouds', 'description': 'overcast clouds', 'icon': '04d'}], 'clouds': {'all': 100}, 'wind': {'speed': 1.31, 'deg': 200, 'gust': 1.43}, 'visibility': 10000, 'pop': 0, 'sys': {'pod': 'd'}, 'dt_txt': '2023-10-13 06:00:00'}, {'dt': 1697187600, 'main': {'temp': 278.65, 'feels_like': 277.32, 'temp_min': 278.65, 'temp_max': 278.65, 'pressure': 999, 'sea_level': 999, 'grnd_level': 981, 'humidity': 67, 'temp_kf': 0}, 'weather': [{'id': 804, 'main': 'Clouds', 'description': 'overcast clouds', 'icon': '04d'}], 'clouds': {'all': 100}, 'wind': {'speed': 1.79, 'deg': 173, 'gust': 3.12}, 'visibility': 10000, 'pop': 0, 'sys': {'pod': 'd'}, 'dt_txt': '2023-10-13 09:00:00'}, {'dt': 1697198400, 'main': {'temp': 279.26, 'feels_like': 279.26, 'temp_min': 279.26, 'temp_max': 279.26, 'pressure': 995, 'sea_level': 995, 'grnd_level': 977, 'humidity': 78, 'temp_kf': 0}, 'weather': [{'id': 804, 'main': 'Clouds', 'description': 'overcast clouds', 'icon': '04d'}], 'clouds': {'all': 100}, 'wind': {'speed': 0.72, 'deg': 105, 'gust': 1.79}, 'visibility': 10000, 'pop': 0.01, 'sys': {'pod': 'd'}, 'dt_txt': '2023-10-13 12:00:00'}, {'dt': 1697209200, 'main': {'temp': 278.58, 'feels_like': 278.58, 'temp_min': 278.58, 'temp_max': 278.58, 'pressure': 990, 'sea_level': 990, 'grnd_level': 972, 'humidity': 99, 'temp_kf': 0}, 'weather': [{'id': 501, 'main': 'Rain', 'description': 'moderate rain', 'icon': '10d'}], 'clouds': {'all': 100}, 'wind': {'speed': 0.23, 'deg': 0, 'gust': 0.89}, 'visibility': 2120, 'pop': 1, 'rain': {'3h': 4.57}, 'sys': {'pod': 'd'}, 'dt_txt': '2023-10-13 15:00:00'}, {'dt': 1697220000, 'main': {'temp': 279.36, 'feels_like': 279.36, 'temp_min': 279.36, 'temp_max': 279.36, 'pressure': 986, 'sea_level': 986, 'grnd_level': 968, 'humidity': 98, 'temp_kf': 0}, 'weather': [{'id': 500, 'main': 'Rain', 'description': 'light rain', 'icon': '10n'}], 'clouds': {'all': 100}, 'wind': {'speed': 0.73, 'deg': 258, 'gust': 0.84}, 'visibility': 4696, 'pop': 1, 'rain': {'3h': 1.6}, 'sys': {'pod': 'n'}, 'dt_txt': '2023-10-13 18:00:00'}, {'dt': 1697230800, 'main': {'temp': 279.79, 'feels_like': 279.79, 'temp_min': 279.79, 'temp_max': 279.79, 'pressure': 985, 'sea_level': 985, 'grnd_level': 967, 'humidity': 97, 'temp_kf': 0}, 'weather': [{'id': 804, 'main': 'Clouds', 'description': 'overcast clouds', 'icon': '04n'}], 'clouds': {'all': 100}, 'wind': {'speed': 1.25, 'deg': 250, 'gust': 1.68}, 'visibility': 10000, 'pop': 0, 'sys': {'pod': 'n'}, 'dt_txt': '2023-10-13 21:00:00'}, {'dt': 1697241600, 'main': {'temp': 277.08, 'feels_like': 277.08, 'temp_min': 277.08, 'temp_max': 277.08, 'pressure': 984, 'sea_level': 984, 'grnd_level': 966, 'humidity': 96, 'temp_kf': 0}, 'weather': [{'id': 803, 'main': 'Clouds', 'description': 'broken clouds', 'icon': '04n'}], 'clouds': {'all': 66}, 'wind': {'speed': 1.28, 'deg': 222, 'gust': 1.74}, 'visibility': 10000, 'pop': 0, 'sys': {'pod': 'n'}, 'dt_txt': '2023-10-14 00:00:00'}, {'dt': 1697252400, 'main': {'temp': 275.98, 'feels_like': 274.39, 'temp_min': 275.98, 'temp_max': 275.98, 'pressure': 982, 'sea_level': 982, 'grnd_level': 964, 'humidity': 95, 'temp_kf': 0}, 'weather': [{'id': 802, 'main': 'Clouds', 'description': 'scattered clouds', 'icon': '03n'}], 'clouds': {'all': 37}, 'wind': {'speed': 1.67, 'deg': 204, 'gust': 3.05}, 'visibility': 10000, 'pop': 0, 'sys': {'pod': 'n'}, 'dt_txt': '2023-10-14 03:00:00'}, {'dt': 1697263200, 'main': {'temp': 275.75, 'feels_like': 274.33, 'temp_min': 275.75, 'temp_max': 275.75, 'pressure': 982, 'sea_level': 982, 'grnd_level': 964, 'humidity': 90, 'temp_kf': 0}, 'weather': [{'id': 801, 'main': 'Clouds', 'description': 'few clouds', 'icon': '02d'}], 'clouds': {'all': 23}, 'wind': {'speed': 1.52, 'deg': 257, 'gust': 1.83}, 'visibility': 10000, 'pop': 0.01, 'sys': {'pod': 'd'}, 'dt_txt': '2023-10-14 06:00:00'}, {'dt': 1697274000, 'main': {'temp': 281.3, 'feels_like': 279.15, 'temp_min': 281.3, 'temp_max': 281.3, 'pressure': 981, 'sea_level': 981, 'grnd_level': 963, 'humidity': 66, 'temp_kf': 0}, 'weather': [{'id': 802, 'main': 'Clouds', 'description': 'scattered clouds', 'icon': '03d'}], 'clouds': {'all': 29}, 'wind': {'speed': 3.49, 'deg': 243, 'gust': 12.43}, 'visibility': 10000, 'pop': 0, 'sys': {'pod': 'd'}, 'dt_txt': '2023-10-14 09:00:00'}, {'dt': 1697284800, 'main': {'temp': 283.29, 'feels_like': 281.74, 'temp_min': 283.29, 'temp_max': 283.29, 'pressure': 981, 'sea_level': 981, 'grnd_level': 963, 'humidity': 53, 'temp_kf': 0}, 'weather': [{'id': 801, 'main': 'Clouds', 'description': 'few clouds', 'icon': '02d'}], 'clouds': {'all': 15}, 'wind': {'speed': 5.34, 'deg': 269, 'gust': 14.5}, 'visibility': 10000, 'pop': 0, 'sys': {'pod': 'd'}, 'dt_txt': '2023-10-14 12:00:00'}, {'dt': 1697295600, 'main': {'temp': 280.88, 'feels_like': 278.12, 'temp_min': 280.88, 'temp_max': 280.88, 'pressure': 983, 'sea_level': 983, 'grnd_level': 965, 'humidity': 57, 'temp_kf': 0}, 'weather': [{'id': 800, 'main': 'Clear', 'description': 'clear sky', 'icon': '01d'}], 'clouds': {'all': 4}, 'wind': {'speed': 4.51, 'deg': 270, 'gust': 13.51}, 'visibility': 10000, 'pop': 0.01, 'sys': {'pod': 'd'}, 'dt_txt': '2023-10-14 15:00:00'}, {'dt': 1697306400, 'main': {'temp': 277.3, 'feels_like': 275.23, 'temp_min': 277.3, 'temp_max': 277.3, 'pressure': 984, 'sea_level': 984, 'grnd_level': 966, 'humidity': 69, 'temp_kf': 0}, 'weather': [{'id': 802, 'main': 'Clouds', 'description': 'scattered clouds', 'icon': '03n'}], 'clouds': {'all': 48}, 'wind': {'speed': 2.3, 'deg': 276, 'gust': 4.46}, 'visibility': 10000, 'pop': 0, 'sys': {'pod': 'n'}, 'dt_txt': '2023-10-14 18:00:00'}, {'dt': 1697317200, 'main': {'temp': 275.49, 'feels_like': 273.13, 'temp_min': 275.49, 'temp_max': 275.49, 'pressure': 986, 'sea_level': 986, 'grnd_level': 967, 'humidity': 79, 'temp_kf': 0}, 'weather': [{'id': 804, 'main': 'Clouds', 'description': 'overcast clouds', 'icon': '04n'}], 'clouds': {'all': 99}, 'wind': {'speed': 2.27, 'deg': 290, 'gust': 2.45}, 'visibility': 10000, 'pop': 0, 'sys': {'pod': 'n'}, 'dt_txt': '2023-10-14 21:00:00'}, {'dt': 1697328000, 'main': {'temp': 275.98, 'feels_like': 273.54, 'temp_min': 275.98, 'temp_max': 275.98, 'pressure': 987, 'sea_level': 987, 'grnd_level': 969, 'humidity': 78, 'temp_kf': 0}, 'weather': [{'id': 804, 'main': 'Clouds', 'description': 'overcast clouds', 'icon': '04n'}], 'clouds': {'all': 87}, 'wind': {'speed': 2.44, 'deg': 293, 'gust': 3.25}, 'visibility': 10000, 'pop': 0, 'sys': {'pod': 'n'}, 'dt_txt': '2023-10-15 00:00:00'}, {'dt': 1697338800, 'main': {'temp': 276.91, 'feels_like': 274.65, 'temp_min': 276.91, 'temp_max': 276.91, 'pressure': 990, 'sea_level': 990, 'grnd_level': 972, 'humidity': 76, 'temp_kf': 0}, 'weather': [{'id': 804, 'main': 'Clouds', 'description': 'overcast clouds', 'icon': '04n'}], 'clouds': {'all': 99}, 'wind': {'speed': 2.43, 'deg': 295, 'gust': 4.12}, 'visibility': 10000, 'pop': 0, 'sys': {'pod': 'n'}, 'dt_txt': '2023-10-15 03:00:00'}, {'dt': 1697349600, 'main': {'temp': 276.66, 'feels_like': 274.36, 'temp_min': 276.66, 'temp_max': 276.66, 'pressure': 994, 'sea_level': 994, 'grnd_level': 976, 'humidity': 75, 'temp_kf': 0}, 'weather': [{'id': 804, 'main': 'Clouds', 'description': 'overcast clouds', 'icon': '04d'}], 'clouds': {'all': 99}, 'wind': {'speed': 2.42, 'deg': 288, 'gust': 3.17}, 'visibility': 10000, 'pop': 0, 'sys': {'pod': 'd'}, 'dt_txt': '2023-10-15 06:00:00'}, {'dt': 1697360400, 'main': {'temp': 280.01, 'feels_like': 278.69, 'temp_min': 280.01, 'temp_max': 280.01, 'pressure': 997, 'sea_level': 997, 'grnd_level': 979, 'humidity': 58, 'temp_kf': 0}, 'weather': [{'id': 804, 'main': 'Clouds', 'description': 'overcast clouds', 'icon': '04d'}], 'clouds': {'all': 100}, 'wind': {'speed': 1.99, 'deg': 273, 'gust': 5.5}, 'visibility': 10000, 'pop': 0, 'sys': {'pod': 'd'}, 'dt_txt': '2023-10-15 09:00:00'}, {'dt': 1697371200, 'main': {'temp': 281.7, 'feels_like': 280.1, 'temp_min': 281.7, 'temp_max': 281.7, 'pressure': 1000, 'sea_level': 1000, 'grnd_level': 982, 'humidity': 47, 'temp_kf': 0}, 'weather': [{'id': 804, 'main': 'Clouds', 'description': 'overcast clouds', 'icon': '04d'}], 'clouds': {'all': 100}, 'wind': {'speed': 2.72, 'deg': 284, 'gust': 5.93}, 'visibility': 10000, 'pop': 0, 'sys': {'pod': 'd'}, 'dt_txt': '2023-10-15 12:00:00'}, {'dt': 1697382000, 'main': {'temp': 280.35, 'feels_like': 278.52, 'temp_min': 280.35, 'temp_max': 280.35, 'pressure': 1002, 'sea_level': 1002, 'grnd_level': 984, 'humidity': 56, 'temp_kf': 0}, 'weather': [{'id': 803, 'main': 'Clouds', 'description': 'broken clouds', 'icon': '04d'}], 'clouds': {'all': 59}, 'wind': {'speed': 2.68, 'deg': 279, 'gust': 5.62}, 'visibility': 10000, 'pop': 0.08, 'sys': {'pod': 'd'}, 'dt_txt': '2023-10-15 15:00:00'}, {'dt': 1697392800, 'main': {'temp': 275.64, 'feels_like': 273.3, 'temp_min': 275.64, 'temp_max': 275.64, 'pressure': 1005, 'sea_level': 1005, 'grnd_level': 987, 'humidity': 74, 'temp_kf': 0}, 'weather': [{'id': 802, 'main': 'Clouds', 'description': 'scattered clouds', 'icon': '03n'}], 'clouds': {'all': 47}, 'wind': {'speed': 2.27, 'deg': 280, 'gust': 2.26}, 'visibility': 10000, 'pop': 0, 'sys': {'pod': 'n'}, 'dt_txt': '2023-10-15 18:00:00'}, {'dt': 1697403600, 'main': {'temp': 274.8, 'feels_like': 272.42, 'temp_min': 274.8, 'temp_max': 274.8, 'pressure': 1007, 'sea_level': 1007, 'grnd_level': 988, 'humidity': 75, 'temp_kf': 0}, 'weather': [{'id': 804, 'main': 'Clouds', 'description': 'overcast clouds', 'icon': '04n'}], 'clouds': {'all': 100}, 'wind': {'speed': 2.17, 'deg': 286, 'gust': 2.12}, 'visibility': 10000, 'pop': 0, 'sys': {'pod': 'n'}, 'dt_txt': '2023-10-15 21:00:00'}, {'dt': 1697414400, 'main': {'temp': 273.74, 'feels_like': 271.17, 'temp_min': 273.74, 'temp_max': 273.74, 'pressure': 1008, 'sea_level': 1008, 'grnd_level': 989, 'humidity': 78, 'temp_kf': 0}, 'weather': [{'id': 804, 'main': 'Clouds', 'description': 'overcast clouds', 'icon': '04n'}], 'clouds': {'all': 85}, 'wind': {'speed': 2.18, 'deg': 290, 'gust': 2.3}, 'visibility': 10000, 'pop': 0, 'sys': {'pod': 'n'}, 'dt_txt': '2023-10-16 00:00:00'}, {'dt': 1697425200, 'main': {'temp': 273.71, 'feels_like': 271.16, 'temp_min': 273.71, 'temp_max': 273.71, 'pressure': 1009, 'sea_level': 1009, 'grnd_level': 990, 'humidity': 78, 'temp_kf': 0}, 'weather': [{'id': 800, 'main': 'Clear', 'description': 'clear sky', 'icon': '01n'}], 'clouds': {'all': 10}, 'wind': {'speed': 2.16, 'deg': 280, 'gust': 2.01}, 'visibility': 10000, 'pop': 0, 'sys': {'pod': 'n'}, 'dt_txt': '2023-10-16 03:00:00'}, {'dt': 1697436000, 'main': {'temp': 273.53, 'feels_like': 270.86, 'temp_min': 273.53, 'temp_max': 273.53, 'pressure': 1010, 'sea_level': 1010, 'grnd_level': 991, 'humidity': 77, 'temp_kf': 0}, 'weather': [{'id': 800, 'main': 'Clear', 'description': 'clear sky', 'icon': '01n'}], 'clouds': {'all': 6}, 'wind': {'speed': 2.24, 'deg': 280, 'gust': 2.33}, 'visibility': 10000, 'pop': 0, 'sys': {'pod': 'n'}, 'dt_txt': '2023-10-16 06:00:00'}, {'dt': 1697446800, 'main': {'temp': 278.37, 'feels_like': 276.9, 'temp_min': 278.37, 'temp_max': 278.37, 'pressure': 1010, 'sea_level': 1010, 'grnd_level': 992, 'humidity': 51, 'temp_kf': 0}, 'weather': [{'id': 802, 'main': 'Clouds', 'description': 'scattered clouds', 'icon': '03d'}], 'clouds': {'all': 28}, 'wind': {'speed': 1.88, 'deg': 273, 'gust': 3.62}, 'visibility': 10000, 'pop': 0, 'sys': {'pod': 'd'}, 'dt_txt': '2023-10-16 09:00:00'}, {'dt': 1697457600, 'main': {'temp': 280.75, 'feels_like': 278.78, 'temp_min': 280.75, 'temp_max': 280.75, 'pressure': 1010, 'sea_level': 1010, 'grnd_level': 992, 'humidity': 37, 'temp_kf': 0}, 'weather': [{'id': 803, 'main': 'Clouds', 'description': 'broken clouds', 'icon': '04d'}], 'clouds': {'all': 55}, 'wind': {'speed': 3, 'deg': 295, 'gust': 5.47}, 'visibility': 10000, 'pop': 0, 'sys': {'pod': 'd'}, 'dt_txt': '2023-10-16 12:00:00'}], 'city': {'id': 3144113, 'name': 'Noresund', 'coord': {'lat': 60.1803, 'lon': 9.6231}, 'country': 'NO', 'population': 1000, 'timezone': 7200, 'sunrise': 1697003402, 'sunset': 1697041582}}\")\n"
     ]
    }
   ],
   "source": [
    "# Query the data\n",
    "forecast_rows = session.execute(\"SELECT * FROM forecast_table;\")\n",
    "print(forecast_rows.one()) # <- only one row"
   ]
  },
  {
   "cell_type": "markdown",
   "metadata": {
    "slideshow": {
     "slide_type": "slide"
    }
   },
   "source": [
    "## Resources\n",
    "- [Cassandra webpage](https://cassandra.apache.org/)\n",
    "- [Cassandra Docker file](https://hub.docker.com/_/cassandra)\n",
    "- [UUID functions](https://docs.datastax.com/en/cql-oss/3.3/cql/cql_reference/timeuuid_functions_r.html)\n",
    "- [YouTube: Cassandra in 100 seconds](https://youtu.be/ziq7FUKpCS8?si=WQUdkHFvaBmT0DBo) (2m:26s)\n",
    "- [YouTube: How to use Apache Cassandra in Python](https://youtu.be/qMauZqJH3ZM?si=yKGZ-5cld2BK396Y) (14m:50s)\n",
    "- [YouTube: Cassandra Database Crash Course](https://youtu.be/KZsVSfQVU4I?si=FBCi8qOfCirfVmZk) (19m:47s)"
   ]
  }
 ],
 "metadata": {
  "celltoolbar": "Slideshow",
  "kernelspec": {
   "display_name": "Python 3 (ipykernel)",
   "language": "python",
   "name": "python3"
  },
  "language_info": {
   "codemirror_mode": {
    "name": "ipython",
    "version": 3
   },
   "file_extension": ".py",
   "mimetype": "text/x-python",
   "name": "python",
   "nbconvert_exporter": "python",
   "pygments_lexer": "ipython3",
   "version": "3.10.6"
  }
 },
 "nbformat": 4,
 "nbformat_minor": 2
}