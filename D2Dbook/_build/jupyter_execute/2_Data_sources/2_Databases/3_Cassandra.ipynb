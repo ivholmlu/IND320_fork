{
 "cells": [
  {
   "cell_type": "markdown",
   "metadata": {
    "slideshow": {
     "slide_type": "slide"
    }
   },
   "source": [
    "# Cassandra\n",
    "- A production grade NoSQL database.\n",
    "- Can be distributed across servers, nodes, etc.\n",
    "- Replication of database is supported for high degree of redundancy and speed.\n",
    "- Uses CQL, a subset of SQL for querying.\n",
    "- Works seamlesly together with Spark and its corresponding distributed structure.\n",
    "- Installation of Cassandra is explained in the [Installation chapter](../../6_Appendix/Installation.ipynb)."
   ]
  },
  {
   "cell_type": "markdown",
   "metadata": {
    "slideshow": {
     "slide_type": "slide"
    }
   },
   "source": [
    "## Spinning up a local Cassandra instance\n",
    "In a terminal, first time:  \n",
    "```docker run --name my_cassandra -p 9042:9042 cassandra:latest```  \n",
    "... and later:  \n",
    "```docker start my_cassandra```  \n",
    "  \n",
    ".. or in Docker Desktop:\n",
    "- Run the cassandra docker image with optional settings, opening 9042 port and setting a name.\n",
    "- Later, simply run the container with the name you chose."
   ]
  },
  {
   "cell_type": "markdown",
   "metadata": {
    "slideshow": {
     "slide_type": "slide"
    }
   },
   "source": [
    "<img src=\"../../images/Docker_images.png\" width=\"600px\">  "
   ]
  },
  {
   "cell_type": "markdown",
   "metadata": {
    "slideshow": {
     "slide_type": "slide"
    }
   },
   "source": [
    "\n",
    "<img src=\"../../images/Docker_containers.png\" width=\"800px\">  "
   ]
  },
  {
   "cell_type": "markdown",
   "metadata": {
    "slideshow": {
     "slide_type": "slide"
    }
   },
   "source": [
    "### Connect to the Cassandra cluster from Python."
   ]
  },
  {
   "cell_type": "code",
   "execution_count": 1,
   "metadata": {
    "slideshow": {
     "slide_type": "-"
    }
   },
   "outputs": [],
   "source": [
    "# Connecting to Cassandra\n",
    "from cassandra.cluster import Cluster\n",
    "cluster = Cluster(['localhost'], port=9042)\n",
    "session = cluster.connect()"
   ]
  },
  {
   "cell_type": "markdown",
   "metadata": {
    "slideshow": {
     "slide_type": "slide"
    }
   },
   "source": [
    "### Keyspace\n",
    "- In Cassandra database tables are stored in keyspaces (basically a distributed database).\n",
    "- These have parameters controlling their distribution on nodes/servers and redundancy.\n",
    "- We will use the simplest form locally."
   ]
  },
  {
   "cell_type": "code",
   "execution_count": 2,
   "metadata": {
    "slideshow": {
     "slide_type": "fragment"
    }
   },
   "outputs": [
    {
     "data": {
      "text/plain": [
       "<cassandra.cluster.ResultSet at 0x10732cee0>"
      ]
     },
     "execution_count": 2,
     "metadata": {},
     "output_type": "execute_result"
    }
   ],
   "source": [
    "# Set up new keyspace (first time only)\n",
    "#                                              name of keyspace                        replication strategy           replication factor\n",
    "session.execute(\"CREATE KEYSPACE IF NOT EXISTS my_first_keyspace WITH REPLICATION = { 'class' : 'SimpleStrategy', 'replication_factor' : 1 };\")"
   ]
  },
  {
   "cell_type": "markdown",
   "metadata": {
    "slideshow": {
     "slide_type": "slide"
    }
   },
   "source": [
    "### Create a table\n",
    "- IF NOT EXISTS makes sure we do not overwrite existing tables"
   ]
  },
  {
   "cell_type": "code",
   "execution_count": 3,
   "metadata": {
    "slideshow": {
     "slide_type": "fragment"
    }
   },
   "outputs": [
    {
     "data": {
      "text/plain": [
       "<cassandra.cluster.ResultSet at 0x107326830>"
      ]
     },
     "execution_count": 3,
     "metadata": {},
     "output_type": "execute_result"
    }
   ],
   "source": [
    "# Create a new table (first time only)\n",
    "session.set_keyspace('my_first_keyspace')\n",
    "session.execute(\"DROP TABLE IF EXISTS my_first_keyspace.my_first_table;\") # Starting from scratch every time\n",
    "session.execute(\"CREATE TABLE IF NOT EXISTS my_first_table (ind int PRIMARY KEY, company text, model text);\")"
   ]
  },
  {
   "cell_type": "markdown",
   "metadata": {
    "slideshow": {
     "slide_type": "slide"
    }
   },
   "source": [
    "### Inserting and reading data"
   ]
  },
  {
   "cell_type": "code",
   "execution_count": 4,
   "metadata": {
    "slideshow": {
     "slide_type": "-"
    }
   },
   "outputs": [
    {
     "data": {
      "text/plain": [
       "<cassandra.cluster.ResultSet at 0x1073180d0>"
      ]
     },
     "execution_count": 4,
     "metadata": {},
     "output_type": "execute_result"
    }
   ],
   "source": [
    "# Insert some data (ind is the primary key, must be unique)\n",
    "session.execute(\"INSERT INTO my_first_table (ind, company, model) VALUES (1, 'Tesla', 'Model S');\")\n",
    "session.execute(\"INSERT INTO my_first_table (ind, company, model) VALUES (2, 'Tesla', 'Model 3');\")\n",
    "session.execute(\"INSERT INTO my_first_table (ind, company, model) VALUES (3, 'Polestar', '3');\")"
   ]
  },
  {
   "cell_type": "markdown",
   "metadata": {
    "slideshow": {
     "slide_type": "slide"
    }
   },
   "source": [
    "### Asyncronous writing\n",
    "- If your application is very data intensive, waiting for a response is not productive.\n",
    "- Writing asyncronously sends the data but does not pause for reply."
   ]
  },
  {
   "cell_type": "code",
   "execution_count": 5,
   "metadata": {
    "slideshow": {
     "slide_type": "-"
    }
   },
   "outputs": [
    {
     "data": {
      "text/plain": [
       "<ResponseFuture: query='<SimpleStatement query=\"INSERT INTO my_first_table (ind, company, model) VALUES (4, 'Volkswagen', 'ID.4');\", consistency=Not Set>' request_id=24 result=(no result yet) exception=None coordinator_host=None>"
      ]
     },
     "execution_count": 5,
     "metadata": {},
     "output_type": "execute_result"
    }
   ],
   "source": [
    "session.execute_async(\"INSERT INTO my_first_table (ind, company, model) VALUES (4, 'Volkswagen', 'ID.4');\")"
   ]
  },
  {
   "cell_type": "code",
   "execution_count": 6,
   "metadata": {
    "slideshow": {
     "slide_type": "slide"
    }
   },
   "outputs": [
    {
     "name": "stdout",
     "output_type": "stream",
     "text": [
      "Row(ind=1, company='Tesla', model='Model S')\n",
      "Row(ind=2, company='Tesla', model='Model 3')\n",
      "Row(ind=4, company='Volkswagen', model='ID.4')\n",
      "Row(ind=3, company='Polestar', model='3')\n"
     ]
    }
   ],
   "source": [
    "# Query the data\n",
    "rows = session.execute(\"SELECT * FROM my_first_table;\")\n",
    "for i in rows:\n",
    "    print(i)"
   ]
  },
  {
   "cell_type": "code",
   "execution_count": 7,
   "metadata": {
    "slideshow": {
     "slide_type": "slide"
    },
    "tags": [
     "raises-exception"
    ]
   },
   "outputs": [
    {
     "ename": "InvalidRequest",
     "evalue": "Error from server: code=2200 [Invalid query] message=\"Cannot execute this query as it might involve data filtering and thus may have unpredictable performance. If you want to execute this query despite the performance unpredictability, use ALLOW FILTERING\"",
     "output_type": "error",
     "traceback": [
      "\u001b[0;31m---------------------------------------------------------------------------\u001b[0m",
      "\u001b[0;31mInvalidRequest\u001b[0m                            Traceback (most recent call last)",
      "Cell \u001b[0;32mIn [7], line 2\u001b[0m\n\u001b[1;32m      1\u001b[0m \u001b[38;5;66;03m# More specific query\u001b[39;00m\n\u001b[0;32m----> 2\u001b[0m prepared_statement \u001b[38;5;241m=\u001b[39m \u001b[43msession\u001b[49m\u001b[38;5;241;43m.\u001b[39;49m\u001b[43mprepare\u001b[49m\u001b[43m(\u001b[49m\u001b[38;5;124;43m\"\u001b[39;49m\u001b[38;5;124;43mSELECT * FROM my_first_table WHERE company=?;\u001b[39;49m\u001b[38;5;124;43m\"\u001b[39;49m\u001b[43m)\u001b[49m \u001b[38;5;66;03m# <- will fail as company is not a key\u001b[39;00m\n\u001b[1;32m      3\u001b[0m teslas \u001b[38;5;241m=\u001b[39m session\u001b[38;5;241m.\u001b[39mexecute(prepared_statement, [\u001b[38;5;124m'\u001b[39m\u001b[38;5;124mTesla\u001b[39m\u001b[38;5;124m'\u001b[39m])\n\u001b[1;32m      4\u001b[0m \u001b[38;5;28;01mfor\u001b[39;00m i \u001b[38;5;129;01min\u001b[39;00m teslas:\n",
      "File \u001b[0;32m~/miniforge3/envs/tf_M1/lib/python3.10/site-packages/cassandra/cluster.py:3088\u001b[0m, in \u001b[0;36mSession.prepare\u001b[0;34m(self, query, custom_payload, keyspace)\u001b[0m\n\u001b[1;32m   3086\u001b[0m \u001b[38;5;28;01mtry\u001b[39;00m:\n\u001b[1;32m   3087\u001b[0m     future\u001b[38;5;241m.\u001b[39msend_request()\n\u001b[0;32m-> 3088\u001b[0m     response \u001b[38;5;241m=\u001b[39m \u001b[43mfuture\u001b[49m\u001b[38;5;241;43m.\u001b[39;49m\u001b[43mresult\u001b[49m\u001b[43m(\u001b[49m\u001b[43m)\u001b[49m\u001b[38;5;241m.\u001b[39mone()\n\u001b[1;32m   3089\u001b[0m \u001b[38;5;28;01mexcept\u001b[39;00m \u001b[38;5;167;01mException\u001b[39;00m:\n\u001b[1;32m   3090\u001b[0m     log\u001b[38;5;241m.\u001b[39mexception(\u001b[38;5;124m\"\u001b[39m\u001b[38;5;124mError preparing query:\u001b[39m\u001b[38;5;124m\"\u001b[39m)\n",
      "File \u001b[0;32m~/miniforge3/envs/tf_M1/lib/python3.10/site-packages/cassandra/cluster.py:4920\u001b[0m, in \u001b[0;36mResponseFuture.result\u001b[0;34m(self)\u001b[0m\n\u001b[1;32m   4918\u001b[0m     \u001b[38;5;28;01mreturn\u001b[39;00m ResultSet(\u001b[38;5;28mself\u001b[39m, \u001b[38;5;28mself\u001b[39m\u001b[38;5;241m.\u001b[39m_final_result)\n\u001b[1;32m   4919\u001b[0m \u001b[38;5;28;01melse\u001b[39;00m:\n\u001b[0;32m-> 4920\u001b[0m     \u001b[38;5;28;01mraise\u001b[39;00m \u001b[38;5;28mself\u001b[39m\u001b[38;5;241m.\u001b[39m_final_exception\n",
      "\u001b[0;31mInvalidRequest\u001b[0m: Error from server: code=2200 [Invalid query] message=\"Cannot execute this query as it might involve data filtering and thus may have unpredictable performance. If you want to execute this query despite the performance unpredictability, use ALLOW FILTERING\""
     ]
    }
   ],
   "source": [
    "# More specific query\n",
    "prepared_statement = session.prepare(\"SELECT * FROM my_first_table WHERE company=?;\") # <- will fail as company is not a key\n",
    "teslas = session.execute(prepared_statement, ['Tesla'])\n",
    "for i in teslas:\n",
    "    print(i)"
   ]
  },
  {
   "cell_type": "markdown",
   "metadata": {
    "slideshow": {
     "slide_type": "slide"
    }
   },
   "source": [
    "## Cassandra filtering\n",
    "Cassandra is inherently a distributed production database. Selecting as above may require downloading all data from a node, then filtering based on the WHERE part (only PRIMARY KEYs are centrally known). Solutions:  \n",
    "- If the table is small or most of the data will satisfy the query, add ```ALLOW FILTERING``` at the end of the query (not recommended if not known). \n",
    "- Or make sure the WHERE clause points to one of the keys (see below)."
   ]
  },
  {
   "cell_type": "code",
   "execution_count": 8,
   "metadata": {
    "slideshow": {
     "slide_type": "slide"
    }
   },
   "outputs": [
    {
     "data": {
      "text/plain": [
       "<cassandra.cluster.ResultSet at 0x106fddb70>"
      ]
     },
     "execution_count": 8,
     "metadata": {},
     "output_type": "execute_result"
    }
   ],
   "source": [
    "# Create a new table (observe keys)\n",
    "session.execute(\"DROP TABLE IF EXISTS my_first_keyspace.car_table;\")\n",
    "session.execute(\"CREATE TABLE IF NOT EXISTS car_table (company text, model text, PRIMARY KEY(company, model));\")"
   ]
  },
  {
   "cell_type": "code",
   "execution_count": 9,
   "metadata": {
    "slideshow": {
     "slide_type": "fragment"
    }
   },
   "outputs": [
    {
     "data": {
      "text/plain": [
       "<cassandra.cluster.ResultSet at 0x1096562c0>"
      ]
     },
     "execution_count": 9,
     "metadata": {},
     "output_type": "execute_result"
    }
   ],
   "source": [
    "# Insert some data (combination of company and model must be unique)\n",
    "session.execute(\"INSERT INTO car_table (company, model) VALUES ('Tesla', 'Model S');\")\n",
    "session.execute(\"INSERT INTO car_table (company, model) VALUES ('Tesla', 'Model 3');\")\n",
    "session.execute(\"INSERT INTO car_table (company, model) VALUES ('Polestar', '3');\")\n",
    "session.execute(\"INSERT INTO car_table (company, model) VALUES ('Volkswagen', 'ID.4');\")"
   ]
  },
  {
   "cell_type": "code",
   "execution_count": 10,
   "metadata": {
    "slideshow": {
     "slide_type": "slide"
    }
   },
   "outputs": [
    {
     "name": "stdout",
     "output_type": "stream",
     "text": [
      "Row(company='Tesla', model='Model 3')\n",
      "Row(company='Tesla', model='Model S')\n"
     ]
    }
   ],
   "source": [
    "# More specific query now works\n",
    "prepared_statement = session.prepare(\"SELECT * FROM car_table WHERE company=?;\")\n",
    "teslas = session.execute(prepared_statement, ['Tesla'])\n",
    "for i in teslas:\n",
    "    print(i)"
   ]
  },
  {
   "cell_type": "markdown",
   "metadata": {
    "slideshow": {
     "slide_type": "slide"
    }
   },
   "source": [
    "### Partitions\n",
    "- Cassandra databases are usually replicated over different nodes.\n",
    "- Data is stored in partitions (subsets) which have local copys.\n",
    "- The primary key, e.g., PRIMARY KEY(company, model), is used in partitioning.\n",
    "    - The first part, e.g., company, is most important.\n",
    "    - All cars from a company will be located together, aiming for quicker queries."
   ]
  },
  {
   "cell_type": "markdown",
   "metadata": {
    "slideshow": {
     "slide_type": "slide"
    }
   },
   "source": [
    "### Unique IDs \n",
    "- In MySQL one could use the attribute AUTO_INCREMENT on integer IDs to automatically make a new unique index when inserting data.\n",
    "- This would cause unreasonable overhead in a distributed database.\n",
    "- [UUID](https://en.wikipedia.org/wiki/Universally_unique_identifier)s are used instead.\n",
    "    - Universally Unique Identifiers are typically 128-bit random bit sequences with extremely low probability of duplication.\n",
    "    - Cassandra uses a [timeuuid](https://docs.datastax.com/en/cql-oss/3.3/cql/cql_reference/timeuuid_functions_r.html) type to combine a timestamp and uuid in one."
   ]
  },
  {
   "cell_type": "code",
   "execution_count": 11,
   "metadata": {
    "slideshow": {
     "slide_type": "fragment"
    }
   },
   "outputs": [
    {
     "data": {
      "text/plain": [
       "<cassandra.cluster.ResultSet at 0x1073231f0>"
      ]
     },
     "execution_count": 11,
     "metadata": {},
     "output_type": "execute_result"
    }
   ],
   "source": [
    "# Create a new table (first time only)\n",
    "session.set_keyspace('my_first_keyspace')\n",
    "session.execute(\"DROP TABLE IF EXISTS my_first_keyspace.table_with_uuid;\")\n",
    "session.execute(\"CREATE TABLE IF NOT EXISTS table_with_uuid (id timeuuid PRIMARY KEY, company text, model text, price float);\")"
   ]
  },
  {
   "cell_type": "code",
   "execution_count": 12,
   "metadata": {
    "slideshow": {
     "slide_type": "slide"
    }
   },
   "outputs": [
    {
     "data": {
      "text/plain": [
       "<cassandra.cluster.ResultSet at 0x107323df0>"
      ]
     },
     "execution_count": 12,
     "metadata": {},
     "output_type": "execute_result"
    }
   ],
   "source": [
    "session.execute(\"INSERT INTO table_with_uuid (id, company, model, price) VALUES (now(), 'Tesla', 'Model S', 20000.0);\")\n",
    "session.execute(\"INSERT INTO table_with_uuid (id, company, model, price) VALUES (now(), 'Tesla', 'Model S', 21000.0);\")\n",
    "session.execute(\"INSERT INTO table_with_uuid (id, company, model, price) VALUES (now(), 'Oldsmobile', 'Model 6C', 135000.0);\")"
   ]
  },
  {
   "cell_type": "code",
   "execution_count": 13,
   "metadata": {
    "slideshow": {
     "slide_type": "slide"
    }
   },
   "outputs": [
    {
     "name": "stdout",
     "output_type": "stream",
     "text": [
      "Row(id=UUID('d9c60d50-6eb7-11ee-8b2f-4f23491759a5'), company='Tesla', model='Model S', price=20000.0)\n",
      "Datetime: 2023-10-19 19:44:00.677000\n",
      "Row(id=UUID('d9c65b70-6eb7-11ee-8b2f-4f23491759a5'), company='Tesla', model='Model S', price=21000.0)\n",
      "Datetime: 2023-10-19 19:44:00.679000\n",
      "Row(id=UUID('d9c68280-6eb7-11ee-8b2f-4f23491759a5'), company='Oldsmobile', model='Model 6C', price=135000.0)\n",
      "Datetime: 2023-10-19 19:44:00.680000\n"
     ]
    }
   ],
   "source": [
    "from cassandra.util import datetime_from_uuid1\n",
    "\n",
    "# Query the data\n",
    "rows = session.execute(\"SELECT * FROM table_with_uuid;\")\n",
    "for i in rows:\n",
    "    print(i)\n",
    "    # Extract the timestamp from Cassandra's timeuuid\n",
    "    print(\"Datetime:\", datetime_from_uuid1(i.id))"
   ]
  },
  {
   "cell_type": "markdown",
   "metadata": {
    "slideshow": {
     "slide_type": "slide"
    }
   },
   "source": [
    "## JSON in Cassandra\n",
    "### Read previously saved JSON file forecast.json to memory"
   ]
  },
  {
   "cell_type": "code",
   "execution_count": 14,
   "metadata": {
    "slideshow": {
     "slide_type": "-"
    }
   },
   "outputs": [],
   "source": [
    "import json\n",
    "with open('../3_APIs/downloads/forecast.json', 'r') as f:\n",
    "    forecast = json.load(f)"
   ]
  },
  {
   "cell_type": "code",
   "execution_count": 15,
   "metadata": {
    "slideshow": {
     "slide_type": "slide"
    }
   },
   "outputs": [
    {
     "data": {
      "text/plain": [
       "\"{'cod': '200', 'message': 0, 'cnt': 40, 'list': [{'dt': 1697641200, 'main': {'temp': 279.32, 'feels_like': 279.32, 'temp_min': 279.02, 'temp_max': 279.32, 'pressure': 1018, 'sea_level': 1018, 'grnd_level': 999, 'humidity': 70, 'temp_kf': 0.3}, 'weather': [{'id': 804, 'main': 'Clouds', 'description': 'overcast clouds', 'icon': '04d'}], 'clouds': {'all': 100}, 'wind': {'speed': 0.65, 'deg': 134, 'gust': 0.75}, 'visibility': 10000, 'pop': 0, 'sys': {'pod': 'd'}, 'dt_txt': '2023-10-18 15:00:00'}, {'dt': 1697652000, 'main': {'temp': 278.48, 'feels_like': 278.48, 'temp_min': 276.79, 'temp_max': 278.48, 'pressure': 1018, 'sea_level': 1018, 'grnd_level': 1000, 'humidity': 74, 'temp_kf': 1.69}, 'weather': [{'id': 804, 'main': 'Clouds', 'description': 'overcast clouds', 'icon': '04n'}], 'clouds': {'all': 100}, 'wind': {'speed': 0.9, 'deg': 360, 'gust': 0.84}, 'visibility': 10000, 'pop': 0, 'sys': {'pod': 'n'}, 'dt_txt': '2023-10-18 18:00:00'}, {'dt': 1697662800, 'main': {'temp': 277.19, 'feels_like': 277.19, 'temp_min': 276.13, 'temp_max': 277.19, 'pressure': 1019, 'sea_level': 1019, 'grnd_level': 1000, 'humidity': 80, 'temp_kf': 1.06}, 'weather': [{'id': 804, 'main': 'Clouds', 'description': 'overcast clouds', 'icon': '04n'}], 'clouds': {'all': 100}, 'wind': {'speed': 1.11, 'deg': 3, 'gust': 1.01}, 'visibility': 10000, 'pop': 0, 'sys': {'pod': 'n'}, 'dt_txt': '2023-10-18 21:00:00'}, {'dt': 1697673600, 'main': {'temp': 275.07, 'feels_like': 275.07, 'temp_min': 275.07, 'temp_max': 275.07, 'pressure': 1019, 'sea_level': 1019, 'grnd_level': 1000, 'humidity': 87, 'temp_kf': 0}, 'weather': [{'id': 804, 'main': 'Clouds', 'description': 'overcast clouds', 'icon': '04n'}], 'clouds': {'all': 100}, 'wind': {'speed': 1.12, 'deg': 54, 'gust': 0.99}, 'visibility': 10000, 'pop': 0, 'sys': {'pod': 'n'}, 'dt_txt': '2023-10-19 00:00:00'}, {'dt': 1697684400, 'main': {'temp': 275.15, 'feels_like': 275.15, 'temp_min': 275.15, 'temp_max': 275.15, 'pressure': 1019, 'sea_level': 1019, 'grnd_level': 1000, 'humidity': 95, 'temp_kf': 0}, 'weather': [{'id': 600, 'main': 'Snow', 'description': 'light snow', 'icon': '13n'}], 'clouds': {'all': 100}, 'wind': {'speed': 1.26, 'deg': 71, 'gust': 3.15}, 'visibility': 1758, 'pop': 0.49, 'snow': {'3h': 0.47}, 'sys': {'pod': 'n'}, 'dt_txt': '2023-10-19 03:00:00'}, {'dt': 1697695200, 'main': {'temp': 273.9, 'feels_like': 272.39, 'temp_min': 273.9, 'temp_max': 273.9, 'pressure': 1020, 'sea_level': 1020, 'grnd_level': 1001, 'humidity': 94, 'temp_kf': 0}, 'weather': [{'id': 600, 'main': 'Snow', 'description': 'light snow', 'icon': '13n'}], 'clouds': {'all': 99}, 'wind': {'speed': 1.41, 'deg': 61, 'gust': 3.91}, 'visibility': 6619, 'pop': 0.58, 'snow': {'3h': 0.48}, 'sys': {'pod': 'n'}, 'dt_txt': '2023-10-19 06:00:00'}, {'dt': 1697706000, 'main': {'temp': 275.01, 'feels_like': 271.97, 'temp_min': 275.01, 'temp_max': 275.01, 'pressure': 1020, 'sea_level': 1020, 'grnd_level': 1001, 'humidity': 65, 'temp_kf': 0}, 'weather': [{'id': 600, 'main': 'Snow', 'description': 'light snow', 'icon': '13d'}], 'clouds': {'all': 69}, 'wind': {'speed': 2.9, 'deg': 59, 'gust': 5.14}, 'visibility': 10000, 'pop': 0.28, 'snow': {'3h': 0.12}, 'sys': {'pod': 'd'}, 'dt_txt': '2023-10-19 09:00:00'}, {'dt': 1697716800, 'main': {'temp': 275.54, 'feels_like': 272.23, 'temp_min': 275.54, 'temp_max': 275.54, 'pressure': 1020, 'sea_level': 1020, 'grnd_level': 1001, 'humidity': 57, 'temp_kf': 0}, 'weather': [{'id': 803, 'main': 'Clouds', 'description': 'broken clouds', 'icon': '04d'}], 'clouds': {'all': 64}, 'wind': {'speed': 3.37, 'deg': 56, 'gust': 5.68}, 'visibility': 10000, 'pop': 0.02, 'sys': {'pod': 'd'}, 'dt_txt': '2023-10-19 12:00:00'}, {'dt': 1697727600, 'main': {'temp': 274.86, 'feels_like': 271.71, 'temp_min': 274.86, 'temp_max': 274.86, 'pressure': 1019, 'sea_level': 1019, 'grnd_level': 1001, 'humidity': 55, 'temp_kf': 0}, 'weather': [{'id': 804, 'main': 'Clouds', 'description': 'overcast clouds', 'icon': '04d'}], 'clouds': {'all': 100}, 'wind': {'speed': 2.99, 'deg': 49, 'gust': 5.8}, 'visibility': 10000, 'pop': 0, 'sys': {'pod': 'd'}, 'dt_txt': '2023-10-19 15:00:00'}, {'dt': 1697738400, 'main': {'temp': 271.68, 'feels_like': 268.5, 'temp_min': 271.68, 'temp_max': 271.68, 'pressure': 1021, 'sea_level': 1021, 'grnd_level': 1002, 'humidity': 71, 'temp_kf': 0}, 'weather': [{'id': 803, 'main': 'Clouds', 'description': 'broken clouds', 'icon': '04n'}], 'clouds': {'all': 78}, 'wind': {'speed': 2.4, 'deg': 13, 'gust': 5.45}, 'visibility': 10000, 'pop': 0, 'sys': {'pod': 'n'}, 'dt_txt': '2023-10-19 18:00:00'}, {'dt': 1697749200, 'main': {'temp': 271.92, 'feels_like': 268.96, 'temp_min': 271.92, 'temp_max': 271.92, 'pressure': 1022, 'sea_level': 1022, 'grnd_level': 1003, 'humidity': 81, 'temp_kf': 0}, 'weather': [{'id': 803, 'main': 'Clouds', 'description': 'broken clouds', 'icon': '04n'}], 'clouds': {'all': 76}, 'wind': {'speed': 2.24, 'deg': 25, 'gust': 5.64}, 'visibility': 10000, 'pop': 0, 'sys': {'pod': 'n'}, 'dt_txt': '2023-10-19 21:00:00'}, {'dt': 1697760000, 'main': {'temp': 271.7, 'feels_like': 268.37, 'temp_min': 271.7, 'temp_max': 271.7, 'pressure': 1022, 'sea_level': 1022, 'grnd_level': 1003, 'humidity': 84, 'temp_kf': 0}, 'weather': [{'id': 803, 'main': 'Clouds', 'description': 'broken clouds', 'icon': '04n'}], 'clouds': {'all': 80}, 'wind': {'speed': 2.54, 'deg': 24, 'gust': 6.23}, 'visibility': 10000, 'pop': 0, 'sys': {'pod': 'n'}, 'dt_txt': '2023-10-20 00:00:00'}, {'dt': 1697770800, 'main': {'temp': 272.15, 'feels_like': 268.56, 'temp_min': 272.15, 'temp_max': 272.15, 'pressure': 1021, 'sea_level': 1021, 'grnd_level': 1002, 'humidity': 83, 'temp_kf': 0}, 'weather': [{'id': 803, 'main': 'Clouds', 'description': 'broken clouds', 'icon': '04n'}], 'clouds': {'all': 78}, 'wind': {'speed': 2.88, 'deg': 31, 'gust': 7.61}, 'visibility': 10000, 'pop': 0.14, 'sys': {'pod': 'n'}, 'dt_txt': '2023-10-20 03:00:00'}, {'dt': 1697781600, 'main': {'temp': 272.42, 'feels_like': 268.6, 'temp_min': 272.42, 'temp_max': 272.42, 'pressure': 1021, 'sea_level': 1021, 'grnd_level': 1002, 'humidity': 81, 'temp_kf': 0}, 'weather': [{'id': 600, 'main': 'Snow', 'description': 'light snow', 'icon': '13n'}], 'clouds': {'all': 89}, 'wind': {'speed': 3.19, 'deg': 40, 'gust': 7.46}, 'visibility': 10000, 'pop': 0.25, 'snow': {'3h': 0.19}, 'sys': {'pod': 'n'}, 'dt_txt': '2023-10-20 06:00:00'}, {'dt': 1697792400, 'main': {'temp': 273.11, 'feels_like': 269.11, 'temp_min': 273.11, 'temp_max': 273.11, 'pressure': 1022, 'sea_level': 1022, 'grnd_level': 1003, 'humidity': 73, 'temp_kf': 0}, 'weather': [{'id': 600, 'main': 'Snow', 'description': 'light snow', 'icon': '13d'}], 'clouds': {'all': 100}, 'wind': {'speed': 3.6, 'deg': 38, 'gust': 7.85}, 'visibility': 10000, 'pop': 0.35, 'snow': {'3h': 0.16}, 'sys': {'pod': 'd'}, 'dt_txt': '2023-10-20 09:00:00'}, {'dt': 1697803200, 'main': {'temp': 274.61, 'feels_like': 270.58, 'temp_min': 274.61, 'temp_max': 274.61, 'pressure': 1021, 'sea_level': 1021, 'grnd_level': 1002, 'humidity': 63, 'temp_kf': 0}, 'weather': [{'id': 804, 'main': 'Clouds', 'description': 'overcast clouds', 'icon': '04d'}], 'clouds': {'all': 100}, 'wind': {'speed': 4.13, 'deg': 34, 'gust': 7.73}, 'visibility': 10000, 'pop': 0.33, 'sys': {'pod': 'd'}, 'dt_txt': '2023-10-20 12:00:00'}, {'dt': 1697814000, 'main': {'temp': 274.57, 'feels_like': 270.67, 'temp_min': 274.57, 'temp_max': 274.57, 'pressure': 1020, 'sea_level': 1020, 'grnd_level': 1001, 'humidity': 61, 'temp_kf': 0}, 'weather': [{'id': 804, 'main': 'Clouds', 'description': 'overcast clouds', 'icon': '04d'}], 'clouds': {'all': 99}, 'wind': {'speed': 3.91, 'deg': 34, 'gust': 8.2}, 'visibility': 10000, 'pop': 0, 'sys': {'pod': 'd'}, 'dt_txt': '2023-10-20 15:00:00'}, {'dt': 1697824800, 'main': {'temp': 273.19, 'feels_like': 268.85, 'temp_min': 273.19, 'temp_max': 273.19, 'pressure': 1020, 'sea_level': 1020, 'grnd_level': 1001, 'humidity': 68, 'temp_kf': 0}, 'weather': [{'id': 804, 'main': 'Clouds', 'description': 'overcast clouds', 'icon': '04n'}], 'clouds': {'all': 95}, 'wind': {'speed': 4.09, 'deg': 38, 'gust': 9.61}, 'visibility': 10000, 'pop': 0, 'sys': {'pod': 'n'}, 'dt_txt': '2023-10-20 18:00:00'}, {'dt': 1697835600, 'main': {'temp': 272.61, 'feels_like': 268.17, 'temp_min': 272.61, 'temp_max': 272.61, 'pressure': 1021, 'sea_level': 1021, 'grnd_level': 1002, 'humidity': 76, 'temp_kf': 0}, 'weather': [{'id': 804, 'main': 'Clouds', 'description': 'overcast clouds', 'icon': '04n'}], 'clouds': {'all': 97}, 'wind': {'speed': 4.04, 'deg': 36, 'gust': 8.44}, 'visibility': 10000, 'pop': 0.12, 'sys': {'pod': 'n'}, 'dt_txt': '2023-10-20 21:00:00'}, {'dt': 1697846400, 'main': {'temp': 272.33, 'feels_like': 267.89, 'temp_min': 272.33, 'temp_max': 272.33, 'pressure': 1020, 'sea_level': 1020, 'grnd_level': 1001, 'humidity': 80, 'temp_kf': 0}, 'weather': [{'id': 600, 'main': 'Snow', 'description': 'light snow', 'icon': '13n'}], 'clouds': {'all': 99}, 'wind': {'speed': 3.96, 'deg': 28, 'gust': 8.63}, 'visibility': 10000, 'pop': 0.41, 'snow': {'3h': 0.16}, 'sys': {'pod': 'n'}, 'dt_txt': '2023-10-21 00:00:00'}, {'dt': 1697857200, 'main': {'temp': 272.2, 'feels_like': 267.87, 'temp_min': 272.2, 'temp_max': 272.2, 'pressure': 1019, 'sea_level': 1019, 'grnd_level': 1000, 'humidity': 79, 'temp_kf': 0}, 'weather': [{'id': 804, 'main': 'Clouds', 'description': 'overcast clouds', 'icon': '04n'}], 'clouds': {'all': 100}, 'wind': {'speed': 3.77, 'deg': 29, 'gust': 8.73}, 'visibility': 10000, 'pop': 0.36, 'sys': {'pod': 'n'}, 'dt_txt': '2023-10-21 03:00:00'}, {'dt': 1697868000, 'main': {'temp': 271.98, 'feels_like': 267.68, 'temp_min': 271.98, 'temp_max': 271.98, 'pressure': 1018, 'sea_level': 1018, 'grnd_level': 999, 'humidity': 83, 'temp_kf': 0}, 'weather': [{'id': 600, 'main': 'Snow', 'description': 'light snow', 'icon': '13n'}], 'clouds': {'all': 100}, 'wind': {'speed': 3.67, 'deg': 26, 'gust': 8.74}, 'visibility': 5682, 'pop': 0.41, 'snow': {'3h': 0.12}, 'sys': {'pod': 'n'}, 'dt_txt': '2023-10-21 06:00:00'}, {'dt': 1697878800, 'main': {'temp': 273.08, 'feels_like': 268.79, 'temp_min': 273.08, 'temp_max': 273.08, 'pressure': 1017, 'sea_level': 1017, 'grnd_level': 998, 'humidity': 79, 'temp_kf': 0}, 'weather': [{'id': 600, 'main': 'Snow', 'description': 'light snow', 'icon': '13d'}], 'clouds': {'all': 100}, 'wind': {'speed': 3.99, 'deg': 26, 'gust': 9.14}, 'visibility': 10000, 'pop': 0.74, 'snow': {'3h': 0.33}, 'sys': {'pod': 'd'}, 'dt_txt': '2023-10-21 09:00:00'}, {'dt': 1697889600, 'main': {'temp': 273.88, 'feels_like': 269.55, 'temp_min': 273.88, 'temp_max': 273.88, 'pressure': 1015, 'sea_level': 1015, 'grnd_level': 996, 'humidity': 78, 'temp_kf': 0}, 'weather': [{'id': 600, 'main': 'Snow', 'description': 'light snow', 'icon': '13d'}], 'clouds': {'all': 100}, 'wind': {'speed': 4.32, 'deg': 26, 'gust': 9.47}, 'visibility': 10000, 'pop': 0.66, 'snow': {'3h': 0.18}, 'sys': {'pod': 'd'}, 'dt_txt': '2023-10-21 12:00:00'}, {'dt': 1697900400, 'main': {'temp': 274.02, 'feels_like': 269.99, 'temp_min': 274.02, 'temp_max': 274.02, 'pressure': 1014, 'sea_level': 1014, 'grnd_level': 995, 'humidity': 84, 'temp_kf': 0}, 'weather': [{'id': 600, 'main': 'Snow', 'description': 'light snow', 'icon': '13d'}], 'clouds': {'all': 100}, 'wind': {'speed': 3.92, 'deg': 22, 'gust': 9.27}, 'visibility': 9270, 'pop': 0.62, 'snow': {'3h': 0.14}, 'sys': {'pod': 'd'}, 'dt_txt': '2023-10-21 15:00:00'}, {'dt': 1697911200, 'main': {'temp': 273.88, 'feels_like': 269.97, 'temp_min': 273.88, 'temp_max': 273.88, 'pressure': 1012, 'sea_level': 1012, 'grnd_level': 993, 'humidity': 90, 'temp_kf': 0}, 'weather': [{'id': 600, 'main': 'Snow', 'description': 'light snow', 'icon': '13n'}], 'clouds': {'all': 100}, 'wind': {'speed': 3.71, 'deg': 20, 'gust': 9.26}, 'visibility': 2916, 'pop': 0.84, 'snow': {'3h': 0.38}, 'sys': {'pod': 'n'}, 'dt_txt': '2023-10-21 18:00:00'}, {'dt': 1697922000, 'main': {'temp': 273.63, 'feels_like': 270.43, 'temp_min': 273.63, 'temp_max': 273.63, 'pressure': 1011, 'sea_level': 1011, 'grnd_level': 992, 'humidity': 95, 'temp_kf': 0}, 'weather': [{'id': 601, 'main': 'Snow', 'description': 'snow', 'icon': '13n'}], 'clouds': {'all': 100}, 'wind': {'speed': 2.77, 'deg': 16, 'gust': 7.04}, 'visibility': 229, 'pop': 1, 'snow': {'3h': 1.65}, 'sys': {'pod': 'n'}, 'dt_txt': '2023-10-21 21:00:00'}, {'dt': 1697932800, 'main': {'temp': 273.64, 'feels_like': 270.79, 'temp_min': 273.64, 'temp_max': 273.64, 'pressure': 1009, 'sea_level': 1009, 'grnd_level': 991, 'humidity': 96, 'temp_kf': 0}, 'weather': [{'id': 601, 'main': 'Snow', 'description': 'snow', 'icon': '13n'}], 'clouds': {'all': 100}, 'wind': {'speed': 2.42, 'deg': 9, 'gust': 5.73}, 'visibility': 199, 'pop': 1, 'snow': {'3h': 1.56}, 'sys': {'pod': 'n'}, 'dt_txt': '2023-10-22 00:00:00'}, {'dt': 1697943600, 'main': {'temp': 273.5, 'feels_like': 270.88, 'temp_min': 273.5, 'temp_max': 273.5, 'pressure': 1008, 'sea_level': 1008, 'grnd_level': 989, 'humidity': 96, 'temp_kf': 0}, 'weather': [{'id': 600, 'main': 'Snow', 'description': 'light snow', 'icon': '13n'}], 'clouds': {'all': 100}, 'wind': {'speed': 2.19, 'deg': 359, 'gust': 4.62}, 'visibility': 452, 'pop': 0.95, 'snow': {'3h': 1.07}, 'sys': {'pod': 'n'}, 'dt_txt': '2023-10-22 03:00:00'}, {'dt': 1697954400, 'main': {'temp': 273.44, 'feels_like': 271.51, 'temp_min': 273.44, 'temp_max': 273.44, 'pressure': 1007, 'sea_level': 1007, 'grnd_level': 989, 'humidity': 96, 'temp_kf': 0}, 'weather': [{'id': 600, 'main': 'Snow', 'description': 'light snow', 'icon': '13n'}], 'clouds': {'all': 100}, 'wind': {'speed': 1.64, 'deg': 353, 'gust': 3.05}, 'visibility': 416, 'pop': 0.97, 'snow': {'3h': 0.37}, 'sys': {'pod': 'n'}, 'dt_txt': '2023-10-22 06:00:00'}, {'dt': 1697965200, 'main': {'temp': 274.85, 'feels_like': 274.85, 'temp_min': 274.85, 'temp_max': 274.85, 'pressure': 1007, 'sea_level': 1007, 'grnd_level': 988, 'humidity': 88, 'temp_kf': 0}, 'weather': [{'id': 600, 'main': 'Snow', 'description': 'light snow', 'icon': '13d'}], 'clouds': {'all': 100}, 'wind': {'speed': 1.33, 'deg': 15, 'gust': 2.1}, 'visibility': 10000, 'pop': 0.23, 'snow': {'3h': 0.19}, 'sys': {'pod': 'd'}, 'dt_txt': '2023-10-22 09:00:00'}, {'dt': 1697976000, 'main': {'temp': 276.34, 'feels_like': 276.34, 'temp_min': 276.34, 'temp_max': 276.34, 'pressure': 1006, 'sea_level': 1006, 'grnd_level': 987, 'humidity': 84, 'temp_kf': 0}, 'weather': [{'id': 804, 'main': 'Clouds', 'description': 'overcast clouds', 'icon': '04d'}], 'clouds': {'all': 98}, 'wind': {'speed': 0.75, 'deg': 59, 'gust': 1.27}, 'visibility': 10000, 'pop': 0.27, 'sys': {'pod': 'd'}, 'dt_txt': '2023-10-22 12:00:00'}, {'dt': 1697986800, 'main': {'temp': 275.44, 'feels_like': 275.44, 'temp_min': 275.44, 'temp_max': 275.44, 'pressure': 1005, 'sea_level': 1005, 'grnd_level': 987, 'humidity': 95, 'temp_kf': 0}, 'weather': [{'id': 500, 'main': 'Rain', 'description': 'light rain', 'icon': '10d'}], 'clouds': {'all': 97}, 'wind': {'speed': 0.61, 'deg': 82, 'gust': 0.91}, 'visibility': 9756, 'pop': 0.24, 'rain': {'3h': 0.11}, 'sys': {'pod': 'd'}, 'dt_txt': '2023-10-22 15:00:00'}, {'dt': 1697997600, 'main': {'temp': 274.71, 'feels_like': 274.71, 'temp_min': 274.71, 'temp_max': 274.71, 'pressure': 1005, 'sea_level': 1005, 'grnd_level': 987, 'humidity': 99, 'temp_kf': 0}, 'weather': [{'id': 600, 'main': 'Snow', 'description': 'light snow', 'icon': '13n'}], 'clouds': {'all': 97}, 'wind': {'speed': 0.35, 'deg': 52, 'gust': 0.53}, 'visibility': 186, 'pop': 0.32, 'snow': {'3h': 0.19}, 'sys': {'pod': 'n'}, 'dt_txt': '2023-10-22 18:00:00'}, {'dt': 1698008400, 'main': {'temp': 275.04, 'feels_like': 275.04, 'temp_min': 275.04, 'temp_max': 275.04, 'pressure': 1005, 'sea_level': 1005, 'grnd_level': 987, 'humidity': 98, 'temp_kf': 0}, 'weather': [{'id': 600, 'main': 'Snow', 'description': 'light snow', 'icon': '13n'}], 'clouds': {'all': 100}, 'wind': {'speed': 0.57, 'deg': 27, 'gust': 0.77}, 'visibility': 5534, 'pop': 0.27, 'snow': {'3h': 0.24}, 'sys': {'pod': 'n'}, 'dt_txt': '2023-10-22 21:00:00'}, {'dt': 1698019200, 'main': {'temp': 275.13, 'feels_like': 275.13, 'temp_min': 275.13, 'temp_max': 275.13, 'pressure': 1005, 'sea_level': 1005, 'grnd_level': 987, 'humidity': 98, 'temp_kf': 0}, 'weather': [{'id': 600, 'main': 'Snow', 'description': 'light snow', 'icon': '13n'}], 'clouds': {'all': 100}, 'wind': {'speed': 0.3, 'deg': 23, 'gust': 0.44}, 'visibility': 9328, 'pop': 0.22, 'snow': {'3h': 0.13}, 'sys': {'pod': 'n'}, 'dt_txt': '2023-10-23 00:00:00'}, {'dt': 1698030000, 'main': {'temp': 275.22, 'feels_like': 275.22, 'temp_min': 275.22, 'temp_max': 275.22, 'pressure': 1005, 'sea_level': 1005, 'grnd_level': 987, 'humidity': 97, 'temp_kf': 0}, 'weather': [{'id': 804, 'main': 'Clouds', 'description': 'overcast clouds', 'icon': '04n'}], 'clouds': {'all': 100}, 'wind': {'speed': 0.17, 'deg': 260, 'gust': 0.26}, 'visibility': 10000, 'pop': 0, 'sys': {'pod': 'n'}, 'dt_txt': '2023-10-23 03:00:00'}, {'dt': 1698040800, 'main': {'temp': 275.2, 'feels_like': 275.2, 'temp_min': 275.2, 'temp_max': 275.2, 'pressure': 1005, 'sea_level': 1005, 'grnd_level': 987, 'humidity': 98, 'temp_kf': 0}, 'weather': [{'id': 804, 'main': 'Clouds', 'description': 'overcast clouds', 'icon': '04n'}], 'clouds': {'all': 100}, 'wind': {'speed': 0.14, 'deg': 280, 'gust': 0.15}, 'visibility': 10000, 'pop': 0, 'sys': {'pod': 'n'}, 'dt_txt': '2023-10-23 06:00:00'}, {'dt': 1698051600, 'main': {'temp': 276.89, 'feels_like': 276.89, 'temp_min': 276.89, 'temp_max': 276.89, 'pressure': 1006, 'sea_level': 1006, 'grnd_level': 988, 'humidity': 91, 'temp_kf': 0}, 'weather': [{'id': 804, 'main': 'Clouds', 'description': 'overcast clouds', 'icon': '04d'}], 'clouds': {'all': 99}, 'wind': {'speed': 0.29, 'deg': 90, 'gust': 0.27}, 'visibility': 10000, 'pop': 0.06, 'sys': {'pod': 'd'}, 'dt_txt': '2023-10-23 09:00:00'}, {'dt': 1698062400, 'main': {'temp': 278.55, 'feels_like': 278.55, 'temp_min': 278.55, 'temp_max': 278.55, 'pressure': 1006, 'sea_level': 1006, 'grnd_level': 988, 'humidity': 88, 'temp_kf': 0}, 'weather': [{'id': 804, 'main': 'Clouds', 'description': 'overcast clouds', 'icon': '04d'}], 'clouds': {'all': 95}, 'wind': {'speed': 0.28, 'deg': 77, 'gust': 0.66}, 'visibility': 10000, 'pop': 0.04, 'sys': {'pod': 'd'}, 'dt_txt': '2023-10-23 12:00:00'}], 'city': {'id': 3144113, 'name': 'Noresund', 'coord': {'lat': 60.1803, 'lon': 9.6231}, 'country': 'NO', 'population': 1000, 'timezone': 7200, 'sunrise': 1697609242, 'sunset': 1697645147}}\""
      ]
     },
     "execution_count": 15,
     "metadata": {},
     "output_type": "execute_result"
    }
   ],
   "source": [
    "# Inspect JSON file\n",
    "forecast.__str__()"
   ]
  },
  {
   "cell_type": "markdown",
   "metadata": {
    "slideshow": {
     "slide_type": "slide"
    }
   },
   "source": [
    "## Raw JSON\n",
    "- A simple, but not very efficient way of storing JSON data is to treat it as a text and save it directly to the database.  \n",
    "- More efficient, with regard to transfer, is to compress the JSON data to a blob first.\n",
    "    - Compression is automatic."
   ]
  },
  {
   "cell_type": "code",
   "execution_count": 16,
   "metadata": {
    "slideshow": {
     "slide_type": "-"
    }
   },
   "outputs": [
    {
     "data": {
      "text/plain": [
       "<cassandra.cluster.ResultSet at 0x109656f50>"
      ]
     },
     "execution_count": 16,
     "metadata": {},
     "output_type": "execute_result"
    }
   ],
   "source": [
    "# Create a new table which treats the whole JSON as a blob, using the city id and the first dt as keys\n",
    "session.set_keyspace('my_first_keyspace')\n",
    "session.execute(\"DROP TABLE IF EXISTS my_first_keyspace.forecast_table;\")\n",
    "session.execute(\"CREATE TABLE IF NOT EXISTS forecast_table (city_id int, dt int, forecast blob, PRIMARY KEY(city_id, dt));\")"
   ]
  },
  {
   "cell_type": "markdown",
   "metadata": {
    "slideshow": {
     "slide_type": "slide"
    }
   },
   "source": [
    "### Insert the forecast data into the table as text blob"
   ]
  },
  {
   "cell_type": "code",
   "execution_count": 17,
   "metadata": {
    "slideshow": {
     "slide_type": "-"
    }
   },
   "outputs": [
    {
     "data": {
      "text/plain": [
       "<cassandra.cluster.ResultSet at 0x106fddc60>"
      ]
     },
     "execution_count": 17,
     "metadata": {},
     "output_type": "execute_result"
    }
   ],
   "source": [
    "session.execute(\"INSERT INTO forecast_table (city_id, dt, forecast) VALUES (%s, %s, textAsBlob(%s));\", (forecast['city']['id'], forecast['list'][0]['dt'], forecast.__str__()))"
   ]
  },
  {
   "cell_type": "code",
   "execution_count": 18,
   "metadata": {
    "slideshow": {
     "slide_type": "slide"
    }
   },
   "outputs": [
    {
     "name": "stdout",
     "output_type": "stream",
     "text": [
      "Row(city_id=3144113, dt=1697641200, forecast=b\"{'cod': '200', 'message': 0, 'cnt': 40, 'list': [{'dt': 1697641200, 'main': {'temp': 279.32, 'feels_like': 279.32, 'temp_min': 279.02, 'temp_max': 279.32, 'pressure': 1018, 'sea_level': 1018, 'grnd_level': 999, 'humidity': 70, 'temp_kf': 0.3}, 'weather': [{'id': 804, 'main': 'Clouds', 'description': 'overcast clouds', 'icon': '04d'}], 'clouds': {'all': 100}, 'wind': {'speed': 0.65, 'deg': 134, 'gust': 0.75}, 'visibility': 10000, 'pop': 0, 'sys': {'pod': 'd'}, 'dt_txt': '2023-10-18 15:00:00'}, {'dt': 1697652000, 'main': {'temp': 278.48, 'feels_like': 278.48, 'temp_min': 276.79, 'temp_max': 278.48, 'pressure': 1018, 'sea_level': 1018, 'grnd_level': 1000, 'humidity': 74, 'temp_kf': 1.69}, 'weather': [{'id': 804, 'main': 'Clouds', 'description': 'overcast clouds', 'icon': '04n'}], 'clouds': {'all': 100}, 'wind': {'speed': 0.9, 'deg': 360, 'gust': 0.84}, 'visibility': 10000, 'pop': 0, 'sys': {'pod': 'n'}, 'dt_txt': '2023-10-18 18:00:00'}, {'dt': 1697662800, 'main': {'temp': 277.19, 'feels_like': 277.19, 'temp_min': 276.13, 'temp_max': 277.19, 'pressure': 1019, 'sea_level': 1019, 'grnd_level': 1000, 'humidity': 80, 'temp_kf': 1.06}, 'weather': [{'id': 804, 'main': 'Clouds', 'description': 'overcast clouds', 'icon': '04n'}], 'clouds': {'all': 100}, 'wind': {'speed': 1.11, 'deg': 3, 'gust': 1.01}, 'visibility': 10000, 'pop': 0, 'sys': {'pod': 'n'}, 'dt_txt': '2023-10-18 21:00:00'}, {'dt': 1697673600, 'main': {'temp': 275.07, 'feels_like': 275.07, 'temp_min': 275.07, 'temp_max': 275.07, 'pressure': 1019, 'sea_level': 1019, 'grnd_level': 1000, 'humidity': 87, 'temp_kf': 0}, 'weather': [{'id': 804, 'main': 'Clouds', 'description': 'overcast clouds', 'icon': '04n'}], 'clouds': {'all': 100}, 'wind': {'speed': 1.12, 'deg': 54, 'gust': 0.99}, 'visibility': 10000, 'pop': 0, 'sys': {'pod': 'n'}, 'dt_txt': '2023-10-19 00:00:00'}, {'dt': 1697684400, 'main': {'temp': 275.15, 'feels_like': 275.15, 'temp_min': 275.15, 'temp_max': 275.15, 'pressure': 1019, 'sea_level': 1019, 'grnd_level': 1000, 'humidity': 95, 'temp_kf': 0}, 'weather': [{'id': 600, 'main': 'Snow', 'description': 'light snow', 'icon': '13n'}], 'clouds': {'all': 100}, 'wind': {'speed': 1.26, 'deg': 71, 'gust': 3.15}, 'visibility': 1758, 'pop': 0.49, 'snow': {'3h': 0.47}, 'sys': {'pod': 'n'}, 'dt_txt': '2023-10-19 03:00:00'}, {'dt': 1697695200, 'main': {'temp': 273.9, 'feels_like': 272.39, 'temp_min': 273.9, 'temp_max': 273.9, 'pressure': 1020, 'sea_level': 1020, 'grnd_level': 1001, 'humidity': 94, 'temp_kf': 0}, 'weather': [{'id': 600, 'main': 'Snow', 'description': 'light snow', 'icon': '13n'}], 'clouds': {'all': 99}, 'wind': {'speed': 1.41, 'deg': 61, 'gust': 3.91}, 'visibility': 6619, 'pop': 0.58, 'snow': {'3h': 0.48}, 'sys': {'pod': 'n'}, 'dt_txt': '2023-10-19 06:00:00'}, {'dt': 1697706000, 'main': {'temp': 275.01, 'feels_like': 271.97, 'temp_min': 275.01, 'temp_max': 275.01, 'pressure': 1020, 'sea_level': 1020, 'grnd_level': 1001, 'humidity': 65, 'temp_kf': 0}, 'weather': [{'id': 600, 'main': 'Snow', 'description': 'light snow', 'icon': '13d'}], 'clouds': {'all': 69}, 'wind': {'speed': 2.9, 'deg': 59, 'gust': 5.14}, 'visibility': 10000, 'pop': 0.28, 'snow': {'3h': 0.12}, 'sys': {'pod': 'd'}, 'dt_txt': '2023-10-19 09:00:00'}, {'dt': 1697716800, 'main': {'temp': 275.54, 'feels_like': 272.23, 'temp_min': 275.54, 'temp_max': 275.54, 'pressure': 1020, 'sea_level': 1020, 'grnd_level': 1001, 'humidity': 57, 'temp_kf': 0}, 'weather': [{'id': 803, 'main': 'Clouds', 'description': 'broken clouds', 'icon': '04d'}], 'clouds': {'all': 64}, 'wind': {'speed': 3.37, 'deg': 56, 'gust': 5.68}, 'visibility': 10000, 'pop': 0.02, 'sys': {'pod': 'd'}, 'dt_txt': '2023-10-19 12:00:00'}, {'dt': 1697727600, 'main': {'temp': 274.86, 'feels_like': 271.71, 'temp_min': 274.86, 'temp_max': 274.86, 'pressure': 1019, 'sea_level': 1019, 'grnd_level': 1001, 'humidity': 55, 'temp_kf': 0}, 'weather': [{'id': 804, 'main': 'Clouds', 'description': 'overcast clouds', 'icon': '04d'}], 'clouds': {'all': 100}, 'wind': {'speed': 2.99, 'deg': 49, 'gust': 5.8}, 'visibility': 10000, 'pop': 0, 'sys': {'pod': 'd'}, 'dt_txt': '2023-10-19 15:00:00'}, {'dt': 1697738400, 'main': {'temp': 271.68, 'feels_like': 268.5, 'temp_min': 271.68, 'temp_max': 271.68, 'pressure': 1021, 'sea_level': 1021, 'grnd_level': 1002, 'humidity': 71, 'temp_kf': 0}, 'weather': [{'id': 803, 'main': 'Clouds', 'description': 'broken clouds', 'icon': '04n'}], 'clouds': {'all': 78}, 'wind': {'speed': 2.4, 'deg': 13, 'gust': 5.45}, 'visibility': 10000, 'pop': 0, 'sys': {'pod': 'n'}, 'dt_txt': '2023-10-19 18:00:00'}, {'dt': 1697749200, 'main': {'temp': 271.92, 'feels_like': 268.96, 'temp_min': 271.92, 'temp_max': 271.92, 'pressure': 1022, 'sea_level': 1022, 'grnd_level': 1003, 'humidity': 81, 'temp_kf': 0}, 'weather': [{'id': 803, 'main': 'Clouds', 'description': 'broken clouds', 'icon': '04n'}], 'clouds': {'all': 76}, 'wind': {'speed': 2.24, 'deg': 25, 'gust': 5.64}, 'visibility': 10000, 'pop': 0, 'sys': {'pod': 'n'}, 'dt_txt': '2023-10-19 21:00:00'}, {'dt': 1697760000, 'main': {'temp': 271.7, 'feels_like': 268.37, 'temp_min': 271.7, 'temp_max': 271.7, 'pressure': 1022, 'sea_level': 1022, 'grnd_level': 1003, 'humidity': 84, 'temp_kf': 0}, 'weather': [{'id': 803, 'main': 'Clouds', 'description': 'broken clouds', 'icon': '04n'}], 'clouds': {'all': 80}, 'wind': {'speed': 2.54, 'deg': 24, 'gust': 6.23}, 'visibility': 10000, 'pop': 0, 'sys': {'pod': 'n'}, 'dt_txt': '2023-10-20 00:00:00'}, {'dt': 1697770800, 'main': {'temp': 272.15, 'feels_like': 268.56, 'temp_min': 272.15, 'temp_max': 272.15, 'pressure': 1021, 'sea_level': 1021, 'grnd_level': 1002, 'humidity': 83, 'temp_kf': 0}, 'weather': [{'id': 803, 'main': 'Clouds', 'description': 'broken clouds', 'icon': '04n'}], 'clouds': {'all': 78}, 'wind': {'speed': 2.88, 'deg': 31, 'gust': 7.61}, 'visibility': 10000, 'pop': 0.14, 'sys': {'pod': 'n'}, 'dt_txt': '2023-10-20 03:00:00'}, {'dt': 1697781600, 'main': {'temp': 272.42, 'feels_like': 268.6, 'temp_min': 272.42, 'temp_max': 272.42, 'pressure': 1021, 'sea_level': 1021, 'grnd_level': 1002, 'humidity': 81, 'temp_kf': 0}, 'weather': [{'id': 600, 'main': 'Snow', 'description': 'light snow', 'icon': '13n'}], 'clouds': {'all': 89}, 'wind': {'speed': 3.19, 'deg': 40, 'gust': 7.46}, 'visibility': 10000, 'pop': 0.25, 'snow': {'3h': 0.19}, 'sys': {'pod': 'n'}, 'dt_txt': '2023-10-20 06:00:00'}, {'dt': 1697792400, 'main': {'temp': 273.11, 'feels_like': 269.11, 'temp_min': 273.11, 'temp_max': 273.11, 'pressure': 1022, 'sea_level': 1022, 'grnd_level': 1003, 'humidity': 73, 'temp_kf': 0}, 'weather': [{'id': 600, 'main': 'Snow', 'description': 'light snow', 'icon': '13d'}], 'clouds': {'all': 100}, 'wind': {'speed': 3.6, 'deg': 38, 'gust': 7.85}, 'visibility': 10000, 'pop': 0.35, 'snow': {'3h': 0.16}, 'sys': {'pod': 'd'}, 'dt_txt': '2023-10-20 09:00:00'}, {'dt': 1697803200, 'main': {'temp': 274.61, 'feels_like': 270.58, 'temp_min': 274.61, 'temp_max': 274.61, 'pressure': 1021, 'sea_level': 1021, 'grnd_level': 1002, 'humidity': 63, 'temp_kf': 0}, 'weather': [{'id': 804, 'main': 'Clouds', 'description': 'overcast clouds', 'icon': '04d'}], 'clouds': {'all': 100}, 'wind': {'speed': 4.13, 'deg': 34, 'gust': 7.73}, 'visibility': 10000, 'pop': 0.33, 'sys': {'pod': 'd'}, 'dt_txt': '2023-10-20 12:00:00'}, {'dt': 1697814000, 'main': {'temp': 274.57, 'feels_like': 270.67, 'temp_min': 274.57, 'temp_max': 274.57, 'pressure': 1020, 'sea_level': 1020, 'grnd_level': 1001, 'humidity': 61, 'temp_kf': 0}, 'weather': [{'id': 804, 'main': 'Clouds', 'description': 'overcast clouds', 'icon': '04d'}], 'clouds': {'all': 99}, 'wind': {'speed': 3.91, 'deg': 34, 'gust': 8.2}, 'visibility': 10000, 'pop': 0, 'sys': {'pod': 'd'}, 'dt_txt': '2023-10-20 15:00:00'}, {'dt': 1697824800, 'main': {'temp': 273.19, 'feels_like': 268.85, 'temp_min': 273.19, 'temp_max': 273.19, 'pressure': 1020, 'sea_level': 1020, 'grnd_level': 1001, 'humidity': 68, 'temp_kf': 0}, 'weather': [{'id': 804, 'main': 'Clouds', 'description': 'overcast clouds', 'icon': '04n'}], 'clouds': {'all': 95}, 'wind': {'speed': 4.09, 'deg': 38, 'gust': 9.61}, 'visibility': 10000, 'pop': 0, 'sys': {'pod': 'n'}, 'dt_txt': '2023-10-20 18:00:00'}, {'dt': 1697835600, 'main': {'temp': 272.61, 'feels_like': 268.17, 'temp_min': 272.61, 'temp_max': 272.61, 'pressure': 1021, 'sea_level': 1021, 'grnd_level': 1002, 'humidity': 76, 'temp_kf': 0}, 'weather': [{'id': 804, 'main': 'Clouds', 'description': 'overcast clouds', 'icon': '04n'}], 'clouds': {'all': 97}, 'wind': {'speed': 4.04, 'deg': 36, 'gust': 8.44}, 'visibility': 10000, 'pop': 0.12, 'sys': {'pod': 'n'}, 'dt_txt': '2023-10-20 21:00:00'}, {'dt': 1697846400, 'main': {'temp': 272.33, 'feels_like': 267.89, 'temp_min': 272.33, 'temp_max': 272.33, 'pressure': 1020, 'sea_level': 1020, 'grnd_level': 1001, 'humidity': 80, 'temp_kf': 0}, 'weather': [{'id': 600, 'main': 'Snow', 'description': 'light snow', 'icon': '13n'}], 'clouds': {'all': 99}, 'wind': {'speed': 3.96, 'deg': 28, 'gust': 8.63}, 'visibility': 10000, 'pop': 0.41, 'snow': {'3h': 0.16}, 'sys': {'pod': 'n'}, 'dt_txt': '2023-10-21 00:00:00'}, {'dt': 1697857200, 'main': {'temp': 272.2, 'feels_like': 267.87, 'temp_min': 272.2, 'temp_max': 272.2, 'pressure': 1019, 'sea_level': 1019, 'grnd_level': 1000, 'humidity': 79, 'temp_kf': 0}, 'weather': [{'id': 804, 'main': 'Clouds', 'description': 'overcast clouds', 'icon': '04n'}], 'clouds': {'all': 100}, 'wind': {'speed': 3.77, 'deg': 29, 'gust': 8.73}, 'visibility': 10000, 'pop': 0.36, 'sys': {'pod': 'n'}, 'dt_txt': '2023-10-21 03:00:00'}, {'dt': 1697868000, 'main': {'temp': 271.98, 'feels_like': 267.68, 'temp_min': 271.98, 'temp_max': 271.98, 'pressure': 1018, 'sea_level': 1018, 'grnd_level': 999, 'humidity': 83, 'temp_kf': 0}, 'weather': [{'id': 600, 'main': 'Snow', 'description': 'light snow', 'icon': '13n'}], 'clouds': {'all': 100}, 'wind': {'speed': 3.67, 'deg': 26, 'gust': 8.74}, 'visibility': 5682, 'pop': 0.41, 'snow': {'3h': 0.12}, 'sys': {'pod': 'n'}, 'dt_txt': '2023-10-21 06:00:00'}, {'dt': 1697878800, 'main': {'temp': 273.08, 'feels_like': 268.79, 'temp_min': 273.08, 'temp_max': 273.08, 'pressure': 1017, 'sea_level': 1017, 'grnd_level': 998, 'humidity': 79, 'temp_kf': 0}, 'weather': [{'id': 600, 'main': 'Snow', 'description': 'light snow', 'icon': '13d'}], 'clouds': {'all': 100}, 'wind': {'speed': 3.99, 'deg': 26, 'gust': 9.14}, 'visibility': 10000, 'pop': 0.74, 'snow': {'3h': 0.33}, 'sys': {'pod': 'd'}, 'dt_txt': '2023-10-21 09:00:00'}, {'dt': 1697889600, 'main': {'temp': 273.88, 'feels_like': 269.55, 'temp_min': 273.88, 'temp_max': 273.88, 'pressure': 1015, 'sea_level': 1015, 'grnd_level': 996, 'humidity': 78, 'temp_kf': 0}, 'weather': [{'id': 600, 'main': 'Snow', 'description': 'light snow', 'icon': '13d'}], 'clouds': {'all': 100}, 'wind': {'speed': 4.32, 'deg': 26, 'gust': 9.47}, 'visibility': 10000, 'pop': 0.66, 'snow': {'3h': 0.18}, 'sys': {'pod': 'd'}, 'dt_txt': '2023-10-21 12:00:00'}, {'dt': 1697900400, 'main': {'temp': 274.02, 'feels_like': 269.99, 'temp_min': 274.02, 'temp_max': 274.02, 'pressure': 1014, 'sea_level': 1014, 'grnd_level': 995, 'humidity': 84, 'temp_kf': 0}, 'weather': [{'id': 600, 'main': 'Snow', 'description': 'light snow', 'icon': '13d'}], 'clouds': {'all': 100}, 'wind': {'speed': 3.92, 'deg': 22, 'gust': 9.27}, 'visibility': 9270, 'pop': 0.62, 'snow': {'3h': 0.14}, 'sys': {'pod': 'd'}, 'dt_txt': '2023-10-21 15:00:00'}, {'dt': 1697911200, 'main': {'temp': 273.88, 'feels_like': 269.97, 'temp_min': 273.88, 'temp_max': 273.88, 'pressure': 1012, 'sea_level': 1012, 'grnd_level': 993, 'humidity': 90, 'temp_kf': 0}, 'weather': [{'id': 600, 'main': 'Snow', 'description': 'light snow', 'icon': '13n'}], 'clouds': {'all': 100}, 'wind': {'speed': 3.71, 'deg': 20, 'gust': 9.26}, 'visibility': 2916, 'pop': 0.84, 'snow': {'3h': 0.38}, 'sys': {'pod': 'n'}, 'dt_txt': '2023-10-21 18:00:00'}, {'dt': 1697922000, 'main': {'temp': 273.63, 'feels_like': 270.43, 'temp_min': 273.63, 'temp_max': 273.63, 'pressure': 1011, 'sea_level': 1011, 'grnd_level': 992, 'humidity': 95, 'temp_kf': 0}, 'weather': [{'id': 601, 'main': 'Snow', 'description': 'snow', 'icon': '13n'}], 'clouds': {'all': 100}, 'wind': {'speed': 2.77, 'deg': 16, 'gust': 7.04}, 'visibility': 229, 'pop': 1, 'snow': {'3h': 1.65}, 'sys': {'pod': 'n'}, 'dt_txt': '2023-10-21 21:00:00'}, {'dt': 1697932800, 'main': {'temp': 273.64, 'feels_like': 270.79, 'temp_min': 273.64, 'temp_max': 273.64, 'pressure': 1009, 'sea_level': 1009, 'grnd_level': 991, 'humidity': 96, 'temp_kf': 0}, 'weather': [{'id': 601, 'main': 'Snow', 'description': 'snow', 'icon': '13n'}], 'clouds': {'all': 100}, 'wind': {'speed': 2.42, 'deg': 9, 'gust': 5.73}, 'visibility': 199, 'pop': 1, 'snow': {'3h': 1.56}, 'sys': {'pod': 'n'}, 'dt_txt': '2023-10-22 00:00:00'}, {'dt': 1697943600, 'main': {'temp': 273.5, 'feels_like': 270.88, 'temp_min': 273.5, 'temp_max': 273.5, 'pressure': 1008, 'sea_level': 1008, 'grnd_level': 989, 'humidity': 96, 'temp_kf': 0}, 'weather': [{'id': 600, 'main': 'Snow', 'description': 'light snow', 'icon': '13n'}], 'clouds': {'all': 100}, 'wind': {'speed': 2.19, 'deg': 359, 'gust': 4.62}, 'visibility': 452, 'pop': 0.95, 'snow': {'3h': 1.07}, 'sys': {'pod': 'n'}, 'dt_txt': '2023-10-22 03:00:00'}, {'dt': 1697954400, 'main': {'temp': 273.44, 'feels_like': 271.51, 'temp_min': 273.44, 'temp_max': 273.44, 'pressure': 1007, 'sea_level': 1007, 'grnd_level': 989, 'humidity': 96, 'temp_kf': 0}, 'weather': [{'id': 600, 'main': 'Snow', 'description': 'light snow', 'icon': '13n'}], 'clouds': {'all': 100}, 'wind': {'speed': 1.64, 'deg': 353, 'gust': 3.05}, 'visibility': 416, 'pop': 0.97, 'snow': {'3h': 0.37}, 'sys': {'pod': 'n'}, 'dt_txt': '2023-10-22 06:00:00'}, {'dt': 1697965200, 'main': {'temp': 274.85, 'feels_like': 274.85, 'temp_min': 274.85, 'temp_max': 274.85, 'pressure': 1007, 'sea_level': 1007, 'grnd_level': 988, 'humidity': 88, 'temp_kf': 0}, 'weather': [{'id': 600, 'main': 'Snow', 'description': 'light snow', 'icon': '13d'}], 'clouds': {'all': 100}, 'wind': {'speed': 1.33, 'deg': 15, 'gust': 2.1}, 'visibility': 10000, 'pop': 0.23, 'snow': {'3h': 0.19}, 'sys': {'pod': 'd'}, 'dt_txt': '2023-10-22 09:00:00'}, {'dt': 1697976000, 'main': {'temp': 276.34, 'feels_like': 276.34, 'temp_min': 276.34, 'temp_max': 276.34, 'pressure': 1006, 'sea_level': 1006, 'grnd_level': 987, 'humidity': 84, 'temp_kf': 0}, 'weather': [{'id': 804, 'main': 'Clouds', 'description': 'overcast clouds', 'icon': '04d'}], 'clouds': {'all': 98}, 'wind': {'speed': 0.75, 'deg': 59, 'gust': 1.27}, 'visibility': 10000, 'pop': 0.27, 'sys': {'pod': 'd'}, 'dt_txt': '2023-10-22 12:00:00'}, {'dt': 1697986800, 'main': {'temp': 275.44, 'feels_like': 275.44, 'temp_min': 275.44, 'temp_max': 275.44, 'pressure': 1005, 'sea_level': 1005, 'grnd_level': 987, 'humidity': 95, 'temp_kf': 0}, 'weather': [{'id': 500, 'main': 'Rain', 'description': 'light rain', 'icon': '10d'}], 'clouds': {'all': 97}, 'wind': {'speed': 0.61, 'deg': 82, 'gust': 0.91}, 'visibility': 9756, 'pop': 0.24, 'rain': {'3h': 0.11}, 'sys': {'pod': 'd'}, 'dt_txt': '2023-10-22 15:00:00'}, {'dt': 1697997600, 'main': {'temp': 274.71, 'feels_like': 274.71, 'temp_min': 274.71, 'temp_max': 274.71, 'pressure': 1005, 'sea_level': 1005, 'grnd_level': 987, 'humidity': 99, 'temp_kf': 0}, 'weather': [{'id': 600, 'main': 'Snow', 'description': 'light snow', 'icon': '13n'}], 'clouds': {'all': 97}, 'wind': {'speed': 0.35, 'deg': 52, 'gust': 0.53}, 'visibility': 186, 'pop': 0.32, 'snow': {'3h': 0.19}, 'sys': {'pod': 'n'}, 'dt_txt': '2023-10-22 18:00:00'}, {'dt': 1698008400, 'main': {'temp': 275.04, 'feels_like': 275.04, 'temp_min': 275.04, 'temp_max': 275.04, 'pressure': 1005, 'sea_level': 1005, 'grnd_level': 987, 'humidity': 98, 'temp_kf': 0}, 'weather': [{'id': 600, 'main': 'Snow', 'description': 'light snow', 'icon': '13n'}], 'clouds': {'all': 100}, 'wind': {'speed': 0.57, 'deg': 27, 'gust': 0.77}, 'visibility': 5534, 'pop': 0.27, 'snow': {'3h': 0.24}, 'sys': {'pod': 'n'}, 'dt_txt': '2023-10-22 21:00:00'}, {'dt': 1698019200, 'main': {'temp': 275.13, 'feels_like': 275.13, 'temp_min': 275.13, 'temp_max': 275.13, 'pressure': 1005, 'sea_level': 1005, 'grnd_level': 987, 'humidity': 98, 'temp_kf': 0}, 'weather': [{'id': 600, 'main': 'Snow', 'description': 'light snow', 'icon': '13n'}], 'clouds': {'all': 100}, 'wind': {'speed': 0.3, 'deg': 23, 'gust': 0.44}, 'visibility': 9328, 'pop': 0.22, 'snow': {'3h': 0.13}, 'sys': {'pod': 'n'}, 'dt_txt': '2023-10-23 00:00:00'}, {'dt': 1698030000, 'main': {'temp': 275.22, 'feels_like': 275.22, 'temp_min': 275.22, 'temp_max': 275.22, 'pressure': 1005, 'sea_level': 1005, 'grnd_level': 987, 'humidity': 97, 'temp_kf': 0}, 'weather': [{'id': 804, 'main': 'Clouds', 'description': 'overcast clouds', 'icon': '04n'}], 'clouds': {'all': 100}, 'wind': {'speed': 0.17, 'deg': 260, 'gust': 0.26}, 'visibility': 10000, 'pop': 0, 'sys': {'pod': 'n'}, 'dt_txt': '2023-10-23 03:00:00'}, {'dt': 1698040800, 'main': {'temp': 275.2, 'feels_like': 275.2, 'temp_min': 275.2, 'temp_max': 275.2, 'pressure': 1005, 'sea_level': 1005, 'grnd_level': 987, 'humidity': 98, 'temp_kf': 0}, 'weather': [{'id': 804, 'main': 'Clouds', 'description': 'overcast clouds', 'icon': '04n'}], 'clouds': {'all': 100}, 'wind': {'speed': 0.14, 'deg': 280, 'gust': 0.15}, 'visibility': 10000, 'pop': 0, 'sys': {'pod': 'n'}, 'dt_txt': '2023-10-23 06:00:00'}, {'dt': 1698051600, 'main': {'temp': 276.89, 'feels_like': 276.89, 'temp_min': 276.89, 'temp_max': 276.89, 'pressure': 1006, 'sea_level': 1006, 'grnd_level': 988, 'humidity': 91, 'temp_kf': 0}, 'weather': [{'id': 804, 'main': 'Clouds', 'description': 'overcast clouds', 'icon': '04d'}], 'clouds': {'all': 99}, 'wind': {'speed': 0.29, 'deg': 90, 'gust': 0.27}, 'visibility': 10000, 'pop': 0.06, 'sys': {'pod': 'd'}, 'dt_txt': '2023-10-23 09:00:00'}, {'dt': 1698062400, 'main': {'temp': 278.55, 'feels_like': 278.55, 'temp_min': 278.55, 'temp_max': 278.55, 'pressure': 1006, 'sea_level': 1006, 'grnd_level': 988, 'humidity': 88, 'temp_kf': 0}, 'weather': [{'id': 804, 'main': 'Clouds', 'description': 'overcast clouds', 'icon': '04d'}], 'clouds': {'all': 95}, 'wind': {'speed': 0.28, 'deg': 77, 'gust': 0.66}, 'visibility': 10000, 'pop': 0.04, 'sys': {'pod': 'd'}, 'dt_txt': '2023-10-23 12:00:00'}], 'city': {'id': 3144113, 'name': 'Noresund', 'coord': {'lat': 60.1803, 'lon': 9.6231}, 'country': 'NO', 'population': 1000, 'timezone': 7200, 'sunrise': 1697609242, 'sunset': 1697645147}}\")\n"
     ]
    }
   ],
   "source": [
    "# Query the data\n",
    "forecast_rows = session.execute(\"SELECT * FROM forecast_table;\")\n",
    "print(forecast_rows.one()) # <- only one row"
   ]
  },
  {
   "cell_type": "markdown",
   "metadata": {
    "slideshow": {
     "slide_type": "slide"
    }
   },
   "source": [
    "## Resources\n",
    "- [Cassandra webpage](https://cassandra.apache.org/)\n",
    "- [Cassandra Docker file](https://hub.docker.com/_/cassandra)\n",
    "- [UUID functions](https://docs.datastax.com/en/cql-oss/3.3/cql/cql_reference/timeuuid_functions_r.html)\n",
    "- [YouTube: Cassandra in 100 seconds](https://youtu.be/ziq7FUKpCS8?si=WQUdkHFvaBmT0DBo) (2m:26s)\n",
    "- [YouTube: How to use Apache Cassandra in Python](https://youtu.be/qMauZqJH3ZM?si=yKGZ-5cld2BK396Y) (14m:50s)\n",
    "- [YouTube: Cassandra Database Crash Course](https://youtu.be/KZsVSfQVU4I?si=FBCi8qOfCirfVmZk) (19m:47s)"
   ]
  }
 ],
 "metadata": {
  "celltoolbar": "Slideshow",
  "kernelspec": {
   "display_name": "Python 3 (ipykernel)",
   "language": "python",
   "name": "python3"
  },
  "language_info": {
   "codemirror_mode": {
    "name": "ipython",
    "version": 3
   },
   "file_extension": ".py",
   "mimetype": "text/x-python",
   "name": "python",
   "nbconvert_exporter": "python",
   "pygments_lexer": "ipython3",
   "version": "3.10.6"
  }
 },
 "nbformat": 4,
 "nbformat_minor": 2
}