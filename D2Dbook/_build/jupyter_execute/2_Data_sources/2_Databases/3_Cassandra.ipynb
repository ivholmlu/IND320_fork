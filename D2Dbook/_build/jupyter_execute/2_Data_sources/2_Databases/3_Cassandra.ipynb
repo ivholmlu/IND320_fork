{
 "cells": [
  {
   "cell_type": "markdown",
   "metadata": {
    "slideshow": {
     "slide_type": "slide"
    }
   },
   "source": [
    "# Cassandra\n",
    "- A production grade NoSQL database.\n",
    "- Can be distributed across servers, nodes, etc.\n",
    "- Replication of database is supported for high degree of redundancy and speed.\n",
    "- Uses CQL, a subset of SQL for querying.\n",
    "- Works seamlesly together with Spark and its corresponding distributed structure.\n",
    "- Installation of Cassandra is explained in the [Installation chapter](../../6_Appendix/Installation.ipynb)."
   ]
  },
  {
   "cell_type": "markdown",
   "metadata": {
    "slideshow": {
     "slide_type": "slide"
    }
   },
   "source": [
    "## Spinning up a local Cassandra instance\n",
    "In a terminal, first time:  \n",
    "```docker run --name my_cassandra -p 9042:9042 cassandra:latest```  \n",
    "... and later:  \n",
    "```docker start my_cassandra```  \n",
    "  \n",
    ".. or in Docker Desktop:\n",
    "- Run the cassandra docker image with optional settings, opening 9042 port and setting a name.\n",
    "- Later, simply run the container with the name you chose."
   ]
  },
  {
   "cell_type": "markdown",
   "metadata": {
    "slideshow": {
     "slide_type": "slide"
    }
   },
   "source": [
    "<img src=\"https://github.com/khliland/IND320/blob/main/D2Dbook/images/Docker_images.png?raw=TRUE\" width=\"600px\">  "
   ]
  },
  {
   "cell_type": "markdown",
   "metadata": {
    "slideshow": {
     "slide_type": "slide"
    }
   },
   "source": [
    "\n",
    "<img src=\"https://github.com/khliland/IND320/blob/main/D2Dbook/images/Docker_containers.png?raw=TRUE\" width=\"800px\">  "
   ]
  },
  {
   "cell_type": "markdown",
   "metadata": {
    "slideshow": {
     "slide_type": "slide"
    }
   },
   "source": [
    "### Connect to the Cassandra cluster from Python."
   ]
  },
  {
   "cell_type": "code",
   "execution_count": 1,
   "metadata": {
    "slideshow": {
     "slide_type": "-"
    }
   },
   "outputs": [],
   "source": [
    "# Connecting to Cassandra\n",
    "from cassandra.cluster import Cluster\n",
    "cluster = Cluster(['localhost'], port=9042)\n",
    "session = cluster.connect()"
   ]
  },
  {
   "cell_type": "markdown",
   "metadata": {
    "slideshow": {
     "slide_type": "slide"
    }
   },
   "source": [
    "### Keyspace\n",
    "- In Cassandra database tables are stored in keyspaces (basically a distributed database).\n",
    "- These have parameters controlling their distribution on nodes/servers and redundancy.\n",
    "- We will use the simplest form locally."
   ]
  },
  {
   "cell_type": "code",
   "execution_count": 2,
   "metadata": {
    "slideshow": {
     "slide_type": "fragment"
    }
   },
   "outputs": [
    {
     "data": {
      "text/plain": [
       "<cassandra.cluster.ResultSet at 0x106c0cd90>"
      ]
     },
     "execution_count": 2,
     "metadata": {},
     "output_type": "execute_result"
    }
   ],
   "source": [
    "# Set up new keyspace (first time only)\n",
    "#                                              name of keyspace                        replication strategy           replication factor\n",
    "session.execute(\"CREATE KEYSPACE IF NOT EXISTS my_first_keyspace WITH REPLICATION = { 'class' : 'SimpleStrategy', 'replication_factor' : 1 };\")"
   ]
  },
  {
   "cell_type": "markdown",
   "metadata": {
    "slideshow": {
     "slide_type": "slide"
    }
   },
   "source": [
    "### Create a table\n",
    "- IF NOT EXISTS makes sure we do not overwrite existing tables"
   ]
  },
  {
   "cell_type": "code",
   "execution_count": 3,
   "metadata": {
    "slideshow": {
     "slide_type": "fragment"
    }
   },
   "outputs": [
    {
     "data": {
      "text/plain": [
       "<cassandra.cluster.ResultSet at 0x10770f390>"
      ]
     },
     "execution_count": 3,
     "metadata": {},
     "output_type": "execute_result"
    }
   ],
   "source": [
    "# Create a new table (first time only)\n",
    "session.set_keyspace('my_first_keyspace')\n",
    "session.execute(\"DROP TABLE IF EXISTS my_first_keyspace.my_first_table;\") # Starting from scratch every time\n",
    "session.execute(\"CREATE TABLE IF NOT EXISTS my_first_table (ind int PRIMARY KEY, company text, model text);\")"
   ]
  },
  {
   "cell_type": "markdown",
   "metadata": {
    "slideshow": {
     "slide_type": "slide"
    }
   },
   "source": [
    "### Inserting and reading data"
   ]
  },
  {
   "cell_type": "code",
   "execution_count": 4,
   "metadata": {
    "slideshow": {
     "slide_type": "-"
    }
   },
   "outputs": [
    {
     "data": {
      "text/plain": [
       "<cassandra.cluster.ResultSet at 0x10771a310>"
      ]
     },
     "execution_count": 4,
     "metadata": {},
     "output_type": "execute_result"
    }
   ],
   "source": [
    "# Insert some data (ind is the primary key, must be unique)\n",
    "session.execute(\"INSERT INTO my_first_table (ind, company, model) VALUES (1, 'Tesla', 'Model S');\")\n",
    "session.execute(\"INSERT INTO my_first_table (ind, company, model) VALUES (2, 'Tesla', 'Model 3');\")\n",
    "session.execute(\"INSERT INTO my_first_table (ind, company, model) VALUES (3, 'Polestar', '3');\")"
   ]
  },
  {
   "cell_type": "markdown",
   "metadata": {
    "slideshow": {
     "slide_type": "slide"
    }
   },
   "source": [
    "### Asyncronous writing\n",
    "- If your application is very data intensive, waiting for a response is not productive.\n",
    "- Writing asyncronously sends the data but does not pause for reply."
   ]
  },
  {
   "cell_type": "code",
   "execution_count": 5,
   "metadata": {
    "slideshow": {
     "slide_type": "-"
    }
   },
   "outputs": [
    {
     "data": {
      "text/plain": [
       "<ResponseFuture: query='<SimpleStatement query=\"INSERT INTO my_first_table (ind, company, model) VALUES (4, 'Volkswagen', 'ID.4');\", consistency=Not Set>' request_id=24 result=(no result yet) exception=None coordinator_host=None>"
      ]
     },
     "execution_count": 5,
     "metadata": {},
     "output_type": "execute_result"
    }
   ],
   "source": [
    "session.execute_async(\"INSERT INTO my_first_table (ind, company, model) VALUES (4, 'Volkswagen', 'ID.4');\")"
   ]
  },
  {
   "cell_type": "code",
   "execution_count": 6,
   "metadata": {
    "slideshow": {
     "slide_type": "slide"
    }
   },
   "outputs": [
    {
     "name": "stdout",
     "output_type": "stream",
     "text": [
      "Row(ind=1, company='Tesla', model='Model S')\n",
      "Row(ind=2, company='Tesla', model='Model 3')\n",
      "Row(ind=4, company='Volkswagen', model='ID.4')\n",
      "Row(ind=3, company='Polestar', model='3')\n"
     ]
    }
   ],
   "source": [
    "# Query the data\n",
    "rows = session.execute(\"SELECT * FROM my_first_table;\")\n",
    "for i in rows:\n",
    "    print(i)"
   ]
  },
  {
   "cell_type": "code",
   "execution_count": 7,
   "metadata": {
    "slideshow": {
     "slide_type": "slide"
    },
    "tags": [
     "raises-exception"
    ]
   },
   "outputs": [
    {
     "ename": "InvalidRequest",
     "evalue": "Error from server: code=2200 [Invalid query] message=\"Cannot execute this query as it might involve data filtering and thus may have unpredictable performance. If you want to execute this query despite the performance unpredictability, use ALLOW FILTERING\"",
     "output_type": "error",
     "traceback": [
      "\u001b[0;31m---------------------------------------------------------------------------\u001b[0m",
      "\u001b[0;31mInvalidRequest\u001b[0m                            Traceback (most recent call last)",
      "Cell \u001b[0;32mIn[7], line 2\u001b[0m\n\u001b[1;32m      1\u001b[0m \u001b[38;5;66;03m# More specific query\u001b[39;00m\n\u001b[0;32m----> 2\u001b[0m prepared_statement \u001b[38;5;241m=\u001b[39m \u001b[43msession\u001b[49m\u001b[38;5;241;43m.\u001b[39;49m\u001b[43mprepare\u001b[49m\u001b[43m(\u001b[49m\u001b[38;5;124;43m\"\u001b[39;49m\u001b[38;5;124;43mSELECT * FROM my_first_table WHERE company=?;\u001b[39;49m\u001b[38;5;124;43m\"\u001b[39;49m\u001b[43m)\u001b[49m \u001b[38;5;66;03m# <- will fail as company is not a key\u001b[39;00m\n\u001b[1;32m      3\u001b[0m teslas \u001b[38;5;241m=\u001b[39m session\u001b[38;5;241m.\u001b[39mexecute(prepared_statement, [\u001b[38;5;124m'\u001b[39m\u001b[38;5;124mTesla\u001b[39m\u001b[38;5;124m'\u001b[39m])\n\u001b[1;32m      4\u001b[0m \u001b[38;5;28;01mfor\u001b[39;00m i \u001b[38;5;129;01min\u001b[39;00m teslas:\n",
      "File \u001b[0;32m~/miniforge3/envs/IND320/lib/python3.11/site-packages/cassandra/cluster.py:3099\u001b[0m, in \u001b[0;36mcassandra.cluster.Session.prepare\u001b[0;34m()\u001b[0m\n",
      "File \u001b[0;32m~/miniforge3/envs/IND320/lib/python3.11/site-packages/cassandra/cluster.py:3096\u001b[0m, in \u001b[0;36mcassandra.cluster.Session.prepare\u001b[0;34m()\u001b[0m\n",
      "File \u001b[0;32m~/miniforge3/envs/IND320/lib/python3.11/site-packages/cassandra/cluster.py:4928\u001b[0m, in \u001b[0;36mcassandra.cluster.ResponseFuture.result\u001b[0;34m()\u001b[0m\n",
      "\u001b[0;31mInvalidRequest\u001b[0m: Error from server: code=2200 [Invalid query] message=\"Cannot execute this query as it might involve data filtering and thus may have unpredictable performance. If you want to execute this query despite the performance unpredictability, use ALLOW FILTERING\""
     ]
    }
   ],
   "source": [
    "# More specific query\n",
    "prepared_statement = session.prepare(\"SELECT * FROM my_first_table WHERE company=?;\") # <- will fail as company is not a key\n",
    "teslas = session.execute(prepared_statement, ['Tesla'])\n",
    "for i in teslas:\n",
    "    print(i)"
   ]
  },
  {
   "cell_type": "markdown",
   "metadata": {
    "slideshow": {
     "slide_type": "slide"
    }
   },
   "source": [
    "## Cassandra filtering\n",
    "Cassandra is inherently a distributed production database. Selecting as above may require downloading all data from a node, then filtering based on the WHERE part (only PRIMARY KEYs are centrally known). Solutions:  \n",
    "- If the table is small or most of the data will satisfy the query, add ```ALLOW FILTERING``` at the end of the query (not recommended if not known). \n",
    "- Or make sure the WHERE clause points to one of the keys (see below)."
   ]
  },
  {
   "cell_type": "code",
   "execution_count": 8,
   "metadata": {
    "slideshow": {
     "slide_type": "slide"
    }
   },
   "outputs": [
    {
     "data": {
      "text/plain": [
       "<cassandra.cluster.ResultSet at 0x107716d90>"
      ]
     },
     "execution_count": 8,
     "metadata": {},
     "output_type": "execute_result"
    }
   ],
   "source": [
    "# Create a new table (observe keys)\n",
    "session.execute(\"DROP TABLE IF EXISTS my_first_keyspace.car_table;\")\n",
    "session.execute(\"CREATE TABLE IF NOT EXISTS car_table (company text, model text, PRIMARY KEY(company, model));\")"
   ]
  },
  {
   "cell_type": "code",
   "execution_count": 9,
   "metadata": {
    "slideshow": {
     "slide_type": "fragment"
    }
   },
   "outputs": [
    {
     "data": {
      "text/plain": [
       "<cassandra.cluster.ResultSet at 0x115df84d0>"
      ]
     },
     "execution_count": 9,
     "metadata": {},
     "output_type": "execute_result"
    }
   ],
   "source": [
    "# Insert some data (combination of company and model must be unique)\n",
    "session.execute(\"INSERT INTO car_table (company, model) VALUES ('Tesla', 'Model S');\")\n",
    "session.execute(\"INSERT INTO car_table (company, model) VALUES ('Tesla', 'Model 3');\")\n",
    "session.execute(\"INSERT INTO car_table (company, model) VALUES ('Polestar', '3');\")\n",
    "session.execute(\"INSERT INTO car_table (company, model) VALUES ('Volkswagen', 'ID.4');\")"
   ]
  },
  {
   "cell_type": "code",
   "execution_count": 10,
   "metadata": {
    "slideshow": {
     "slide_type": "slide"
    }
   },
   "outputs": [
    {
     "name": "stdout",
     "output_type": "stream",
     "text": [
      "Row(company='Tesla', model='Model 3')\n",
      "Row(company='Tesla', model='Model S')\n"
     ]
    }
   ],
   "source": [
    "# More specific query now works\n",
    "prepared_statement = session.prepare(\"SELECT * FROM car_table WHERE company=?;\")\n",
    "teslas = session.execute(prepared_statement, ['Tesla'])\n",
    "for i in teslas:\n",
    "    print(i)"
   ]
  },
  {
   "cell_type": "markdown",
   "metadata": {
    "slideshow": {
     "slide_type": "slide"
    }
   },
   "source": [
    "### Partitions\n",
    "- Cassandra databases are usually replicated over different nodes.\n",
    "- Data is stored in partitions (subsets) which have local copys.\n",
    "- The primary key, e.g., PRIMARY KEY(company, model), is used in partitioning.\n",
    "    - The first part, e.g., company, is most important.\n",
    "    - All cars from a company will be located together, aiming for quicker queries."
   ]
  },
  {
   "cell_type": "markdown",
   "metadata": {
    "slideshow": {
     "slide_type": "slide"
    }
   },
   "source": [
    "### Unique IDs \n",
    "- In MySQL one could use the attribute AUTO_INCREMENT on integer IDs to automatically make a new unique index when inserting data.\n",
    "- This would cause unreasonable overhead in a distributed database.\n",
    "- [UUID](https://en.wikipedia.org/wiki/Universally_unique_identifier)s are used instead.\n",
    "    - Universally Unique Identifiers are typically 128-bit random bit sequences with extremely low probability of duplication.\n",
    "    - Cassandra uses a [timeuuid](https://docs.datastax.com/en/cql-oss/3.3/cql/cql_reference/timeuuid_functions_r.html) type to combine a timestamp and uuid in one."
   ]
  },
  {
   "cell_type": "code",
   "execution_count": 11,
   "metadata": {
    "slideshow": {
     "slide_type": "fragment"
    }
   },
   "outputs": [
    {
     "data": {
      "text/plain": [
       "<cassandra.cluster.ResultSet at 0x105ca0610>"
      ]
     },
     "execution_count": 11,
     "metadata": {},
     "output_type": "execute_result"
    }
   ],
   "source": [
    "# Create a new table (first time only)\n",
    "session.set_keyspace('my_first_keyspace')\n",
    "session.execute(\"DROP TABLE IF EXISTS my_first_keyspace.table_with_uuid;\")\n",
    "session.execute(\"CREATE TABLE IF NOT EXISTS table_with_uuid (id timeuuid PRIMARY KEY, company text, model text, price float);\")"
   ]
  },
  {
   "cell_type": "code",
   "execution_count": 12,
   "metadata": {
    "slideshow": {
     "slide_type": "slide"
    }
   },
   "outputs": [
    {
     "data": {
      "text/plain": [
       "<cassandra.cluster.ResultSet at 0x11596f150>"
      ]
     },
     "execution_count": 12,
     "metadata": {},
     "output_type": "execute_result"
    }
   ],
   "source": [
    "session.execute(\"INSERT INTO table_with_uuid (id, company, model, price) VALUES (now(), 'Tesla', 'Model S', 20000.0);\")\n",
    "session.execute(\"INSERT INTO table_with_uuid (id, company, model, price) VALUES (now(), 'Tesla', 'Model S', 21000.0);\")\n",
    "session.execute(\"INSERT INTO table_with_uuid (id, company, model, price) VALUES (now(), 'Oldsmobile', 'Model 6C', 135000.0);\")"
   ]
  },
  {
   "cell_type": "code",
   "execution_count": 13,
   "metadata": {
    "slideshow": {
     "slide_type": "slide"
    }
   },
   "outputs": [
    {
     "name": "stdout",
     "output_type": "stream",
     "text": [
      "Row(id=UUID('459b8b90-8aa6-11ee-9d44-1198bb0571f3'), company='Tesla', model='Model S', price=20000.0)\n",
      "Datetime: 2023-11-24 08:48:43.209000\n",
      "Row(id=UUID('459ceb20-8aa6-11ee-9d44-1198bb0571f3'), company='Oldsmobile', model='Model 6C', price=135000.0)\n",
      "Datetime: 2023-11-24 08:48:43.218000\n",
      "Row(id=UUID('459c9d00-8aa6-11ee-9d44-1198bb0571f3'), company='Tesla', model='Model S', price=21000.0)\n",
      "Datetime: 2023-11-24 08:48:43.216000\n"
     ]
    }
   ],
   "source": [
    "from cassandra.util import datetime_from_uuid1\n",
    "\n",
    "# Query the data\n",
    "rows = session.execute(\"SELECT * FROM table_with_uuid;\")\n",
    "for i in rows:\n",
    "    print(i)\n",
    "    # Extract the timestamp from Cassandra's timeuuid\n",
    "    print(\"Datetime:\", datetime_from_uuid1(i.id))"
   ]
  },
  {
   "cell_type": "markdown",
   "metadata": {
    "slideshow": {
     "slide_type": "slide"
    }
   },
   "source": [
    "## JSON in Cassandra\n",
    "### Read previously saved JSON file forecast.json to memory"
   ]
  },
  {
   "cell_type": "code",
   "execution_count": 14,
   "metadata": {
    "slideshow": {
     "slide_type": "-"
    }
   },
   "outputs": [],
   "source": [
    "import json\n",
    "with open('../3_APIs/downloads/forecast.json', 'r') as f:\n",
    "    forecast = json.load(f)"
   ]
  },
  {
   "cell_type": "code",
   "execution_count": 15,
   "metadata": {
    "slideshow": {
     "slide_type": "slide"
    }
   },
   "outputs": [
    {
     "data": {
      "text/plain": [
       "\"{'cod': '200', 'message': 0, 'cnt': 40, 'list': [{'dt': 1700686800, 'main': {'temp': 275.19, 'feels_like': 272.9, 'temp_min': 273.98, 'temp_max': 275.19, 'pressure': 996, 'sea_level': 996, 'grnd_level': 977, 'humidity': 88, 'temp_kf': 1.21}, 'weather': [{'id': 803, 'main': 'Clouds', 'description': 'broken clouds', 'icon': '04n'}], 'clouds': {'all': 78}, 'wind': {'speed': 2.15, 'deg': 261, 'gust': 2.4}, 'visibility': 10000, 'pop': 0, 'sys': {'pod': 'n'}, 'dt_txt': '2023-11-22 21:00:00'}, {'dt': 1700697600, 'main': {'temp': 274.72, 'feels_like': 271.85, 'temp_min': 274.18, 'temp_max': 274.72, 'pressure': 993, 'sea_level': 993, 'grnd_level': 974, 'humidity': 86, 'temp_kf': 0.54}, 'weather': [{'id': 803, 'main': 'Clouds', 'description': 'broken clouds', 'icon': '04n'}], 'clouds': {'all': 54}, 'wind': {'speed': 2.64, 'deg': 252, 'gust': 5.21}, 'visibility': 10000, 'pop': 0, 'sys': {'pod': 'n'}, 'dt_txt': '2023-11-23 00:00:00'}, {'dt': 1700708400, 'main': {'temp': 275.2, 'feels_like': 272.37, 'temp_min': 275.2, 'temp_max': 275.2, 'pressure': 990, 'sea_level': 990, 'grnd_level': 972, 'humidity': 78, 'temp_kf': 0}, 'weather': [{'id': 801, 'main': 'Clouds', 'description': 'few clouds', 'icon': '02n'}], 'clouds': {'all': 19}, 'wind': {'speed': 2.7, 'deg': 265, 'gust': 6.02}, 'visibility': 10000, 'pop': 0.04, 'sys': {'pod': 'n'}, 'dt_txt': '2023-11-23 03:00:00'}, {'dt': 1700719200, 'main': {'temp': 274.8, 'feels_like': 272.1, 'temp_min': 274.8, 'temp_max': 274.8, 'pressure': 988, 'sea_level': 988, 'grnd_level': 969, 'humidity': 87, 'temp_kf': 0}, 'weather': [{'id': 600, 'main': 'Snow', 'description': 'light snow', 'icon': '13n'}], 'clouds': {'all': 38}, 'wind': {'speed': 2.48, 'deg': 260, 'gust': 5.51}, 'visibility': 10000, 'pop': 0.35, 'snow': {'3h': 0.16}, 'sys': {'pod': 'n'}, 'dt_txt': '2023-11-23 06:00:00'}, {'dt': 1700730000, 'main': {'temp': 276.05, 'feels_like': 272.68, 'temp_min': 276.05, 'temp_max': 276.05, 'pressure': 986, 'sea_level': 986, 'grnd_level': 967, 'humidity': 67, 'temp_kf': 0}, 'weather': [{'id': 802, 'main': 'Clouds', 'description': 'scattered clouds', 'icon': '03d'}], 'clouds': {'all': 40}, 'wind': {'speed': 3.61, 'deg': 283, 'gust': 8.2}, 'visibility': 10000, 'pop': 0.24, 'sys': {'pod': 'd'}, 'dt_txt': '2023-11-23 09:00:00'}, {'dt': 1700740800, 'main': {'temp': 274.99, 'feels_like': 272.47, 'temp_min': 274.99, 'temp_max': 274.99, 'pressure': 985, 'sea_level': 985, 'grnd_level': 966, 'humidity': 80, 'temp_kf': 0}, 'weather': [{'id': 600, 'main': 'Snow', 'description': 'light snow', 'icon': '13d'}], 'clouds': {'all': 42}, 'wind': {'speed': 2.34, 'deg': 263, 'gust': 7.28}, 'visibility': 10000, 'pop': 0.35, 'snow': {'3h': 0.35}, 'sys': {'pod': 'd'}, 'dt_txt': '2023-11-23 12:00:00'}, {'dt': 1700751600, 'main': {'temp': 274.64, 'feels_like': 270.15, 'temp_min': 274.64, 'temp_max': 274.64, 'pressure': 985, 'sea_level': 985, 'grnd_level': 966, 'humidity': 62, 'temp_kf': 0}, 'weather': [{'id': 802, 'main': 'Clouds', 'description': 'scattered clouds', 'icon': '03n'}], 'clouds': {'all': 35}, 'wind': {'speed': 4.9, 'deg': 289, 'gust': 13.34}, 'visibility': 10000, 'pop': 0, 'sys': {'pod': 'n'}, 'dt_txt': '2023-11-23 15:00:00'}, {'dt': 1700762400, 'main': {'temp': 272.9, 'feels_like': 268.38, 'temp_min': 272.9, 'temp_max': 272.9, 'pressure': 987, 'sea_level': 987, 'grnd_level': 969, 'humidity': 66, 'temp_kf': 0}, 'weather': [{'id': 801, 'main': 'Clouds', 'description': 'few clouds', 'icon': '02n'}], 'clouds': {'all': 18}, 'wind': {'speed': 4.26, 'deg': 292, 'gust': 10.7}, 'visibility': 10000, 'pop': 0, 'sys': {'pod': 'n'}, 'dt_txt': '2023-11-23 18:00:00'}, {'dt': 1700773200, 'main': {'temp': 271.03, 'feels_like': 266.05, 'temp_min': 271.03, 'temp_max': 271.03, 'pressure': 991, 'sea_level': 991, 'grnd_level': 972, 'humidity': 59, 'temp_kf': 0}, 'weather': [{'id': 800, 'main': 'Clear', 'description': 'clear sky', 'icon': '01n'}], 'clouds': {'all': 1}, 'wind': {'speed': 4.29, 'deg': 295, 'gust': 11.77}, 'visibility': 10000, 'pop': 0, 'sys': {'pod': 'n'}, 'dt_txt': '2023-11-23 21:00:00'}, {'dt': 1700784000, 'main': {'temp': 270.32, 'feels_like': 265.39, 'temp_min': 270.32, 'temp_max': 270.32, 'pressure': 990, 'sea_level': 990, 'grnd_level': 972, 'humidity': 65, 'temp_kf': 0}, 'weather': [{'id': 800, 'main': 'Clear', 'description': 'clear sky', 'icon': '01n'}], 'clouds': {'all': 2}, 'wind': {'speed': 4, 'deg': 291, 'gust': 12.1}, 'visibility': 10000, 'pop': 0, 'sys': {'pod': 'n'}, 'dt_txt': '2023-11-24 00:00:00'}, {'dt': 1700794800, 'main': {'temp': 269.95, 'feels_like': 266.59, 'temp_min': 269.95, 'temp_max': 269.95, 'pressure': 989, 'sea_level': 989, 'grnd_level': 971, 'humidity': 75, 'temp_kf': 0}, 'weather': [{'id': 803, 'main': 'Clouds', 'description': 'broken clouds', 'icon': '04n'}], 'clouds': {'all': 77}, 'wind': {'speed': 2.29, 'deg': 281, 'gust': 4}, 'visibility': 10000, 'pop': 0, 'sys': {'pod': 'n'}, 'dt_txt': '2023-11-24 03:00:00'}, {'dt': 1700805600, 'main': {'temp': 267.48, 'feels_like': 263.45, 'temp_min': 267.48, 'temp_max': 267.48, 'pressure': 990, 'sea_level': 990, 'grnd_level': 971, 'humidity': 80, 'temp_kf': 0}, 'weather': [{'id': 804, 'main': 'Clouds', 'description': 'overcast clouds', 'icon': '04n'}], 'clouds': {'all': 85}, 'wind': {'speed': 2.47, 'deg': 306, 'gust': 2.88}, 'visibility': 10000, 'pop': 0, 'sys': {'pod': 'n'}, 'dt_txt': '2023-11-24 06:00:00'}, {'dt': 1700816400, 'main': {'temp': 269.92, 'feels_like': 264.88, 'temp_min': 269.92, 'temp_max': 269.92, 'pressure': 995, 'sea_level': 995, 'grnd_level': 976, 'humidity': 70, 'temp_kf': 0}, 'weather': [{'id': 804, 'main': 'Clouds', 'description': 'overcast clouds', 'icon': '04d'}], 'clouds': {'all': 99}, 'wind': {'speed': 4.02, 'deg': 329, 'gust': 12.16}, 'visibility': 10000, 'pop': 0, 'sys': {'pod': 'd'}, 'dt_txt': '2023-11-24 09:00:00'}, {'dt': 1700827200, 'main': {'temp': 272.67, 'feels_like': 268.48, 'temp_min': 272.67, 'temp_max': 272.67, 'pressure': 997, 'sea_level': 997, 'grnd_level': 979, 'humidity': 63, 'temp_kf': 0}, 'weather': [{'id': 803, 'main': 'Clouds', 'description': 'broken clouds', 'icon': '04d'}], 'clouds': {'all': 79}, 'wind': {'speed': 3.72, 'deg': 333, 'gust': 11.75}, 'visibility': 10000, 'pop': 0, 'sys': {'pod': 'd'}, 'dt_txt': '2023-11-24 12:00:00'}, {'dt': 1700838000, 'main': {'temp': 267.84, 'feels_like': 263.61, 'temp_min': 267.84, 'temp_max': 267.84, 'pressure': 1000, 'sea_level': 1000, 'grnd_level': 981, 'humidity': 79, 'temp_kf': 0}, 'weather': [{'id': 801, 'main': 'Clouds', 'description': 'few clouds', 'icon': '02n'}], 'clouds': {'all': 18}, 'wind': {'speed': 2.69, 'deg': 295, 'gust': 3.18}, 'visibility': 10000, 'pop': 0, 'sys': {'pod': 'n'}, 'dt_txt': '2023-11-24 15:00:00'}, {'dt': 1700848800, 'main': {'temp': 268.06, 'feels_like': 263.94, 'temp_min': 268.06, 'temp_max': 268.06, 'pressure': 1000, 'sea_level': 1000, 'grnd_level': 981, 'humidity': 78, 'temp_kf': 0}, 'weather': [{'id': 803, 'main': 'Clouds', 'description': 'broken clouds', 'icon': '04n'}], 'clouds': {'all': 58}, 'wind': {'speed': 2.63, 'deg': 293, 'gust': 3.51}, 'visibility': 10000, 'pop': 0, 'sys': {'pod': 'n'}, 'dt_txt': '2023-11-24 18:00:00'}, {'dt': 1700859600, 'main': {'temp': 267.98, 'feels_like': 263.93, 'temp_min': 267.98, 'temp_max': 267.98, 'pressure': 1001, 'sea_level': 1001, 'grnd_level': 982, 'humidity': 78, 'temp_kf': 0}, 'weather': [{'id': 804, 'main': 'Clouds', 'description': 'overcast clouds', 'icon': '04n'}], 'clouds': {'all': 100}, 'wind': {'speed': 2.56, 'deg': 303, 'gust': 3.92}, 'visibility': 10000, 'pop': 0, 'sys': {'pod': 'n'}, 'dt_txt': '2023-11-24 21:00:00'}, {'dt': 1700870400, 'main': {'temp': 267.52, 'feels_like': 263.13, 'temp_min': 267.52, 'temp_max': 267.52, 'pressure': 1003, 'sea_level': 1003, 'grnd_level': 984, 'humidity': 81, 'temp_kf': 0}, 'weather': [{'id': 803, 'main': 'Clouds', 'description': 'broken clouds', 'icon': '04n'}], 'clouds': {'all': 83}, 'wind': {'speed': 2.78, 'deg': 304, 'gust': 4.4}, 'visibility': 10000, 'pop': 0, 'sys': {'pod': 'n'}, 'dt_txt': '2023-11-25 00:00:00'}, {'dt': 1700881200, 'main': {'temp': 267.74, 'feels_like': 264.51, 'temp_min': 267.74, 'temp_max': 267.74, 'pressure': 1005, 'sea_level': 1005, 'grnd_level': 986, 'humidity': 81, 'temp_kf': 0}, 'weather': [{'id': 803, 'main': 'Clouds', 'description': 'broken clouds', 'icon': '04n'}], 'clouds': {'all': 73}, 'wind': {'speed': 1.92, 'deg': 309, 'gust': 2.93}, 'visibility': 10000, 'pop': 0, 'sys': {'pod': 'n'}, 'dt_txt': '2023-11-25 03:00:00'}, {'dt': 1700892000, 'main': {'temp': 266.91, 'feels_like': 263.56, 'temp_min': 266.91, 'temp_max': 266.91, 'pressure': 1006, 'sea_level': 1006, 'grnd_level': 987, 'humidity': 82, 'temp_kf': 0}, 'weather': [{'id': 803, 'main': 'Clouds', 'description': 'broken clouds', 'icon': '04n'}], 'clouds': {'all': 77}, 'wind': {'speed': 1.91, 'deg': 317, 'gust': 2.46}, 'visibility': 10000, 'pop': 0, 'sys': {'pod': 'n'}, 'dt_txt': '2023-11-25 06:00:00'}, {'dt': 1700902800, 'main': {'temp': 268.65, 'feels_like': 266.45, 'temp_min': 268.65, 'temp_max': 268.65, 'pressure': 1008, 'sea_level': 1008, 'grnd_level': 989, 'humidity': 82, 'temp_kf': 0}, 'weather': [{'id': 804, 'main': 'Clouds', 'description': 'overcast clouds', 'icon': '04d'}], 'clouds': {'all': 99}, 'wind': {'speed': 1.4, 'deg': 332, 'gust': 2.55}, 'visibility': 10000, 'pop': 0.22, 'sys': {'pod': 'd'}, 'dt_txt': '2023-11-25 09:00:00'}, {'dt': 1700913600, 'main': {'temp': 270.84, 'feels_like': 268.23, 'temp_min': 270.84, 'temp_max': 270.84, 'pressure': 1010, 'sea_level': 1010, 'grnd_level': 991, 'humidity': 81, 'temp_kf': 0}, 'weather': [{'id': 804, 'main': 'Clouds', 'description': 'overcast clouds', 'icon': '04d'}], 'clouds': {'all': 98}, 'wind': {'speed': 1.84, 'deg': 328, 'gust': 3.71}, 'visibility': 10000, 'pop': 0.23, 'sys': {'pod': 'd'}, 'dt_txt': '2023-11-25 12:00:00'}, {'dt': 1700924400, 'main': {'temp': 268.72, 'feels_like': 265.27, 'temp_min': 268.72, 'temp_max': 268.72, 'pressure': 1011, 'sea_level': 1011, 'grnd_level': 992, 'humidity': 88, 'temp_kf': 0}, 'weather': [{'id': 804, 'main': 'Clouds', 'description': 'overcast clouds', 'icon': '04n'}], 'clouds': {'all': 91}, 'wind': {'speed': 2.19, 'deg': 315, 'gust': 3.25}, 'visibility': 10000, 'pop': 0, 'sys': {'pod': 'n'}, 'dt_txt': '2023-11-25 15:00:00'}, {'dt': 1700935200, 'main': {'temp': 266.85, 'feels_like': 262.73, 'temp_min': 266.85, 'temp_max': 266.85, 'pressure': 1013, 'sea_level': 1013, 'grnd_level': 994, 'humidity': 85, 'temp_kf': 0}, 'weather': [{'id': 803, 'main': 'Clouds', 'description': 'broken clouds', 'icon': '04n'}], 'clouds': {'all': 60}, 'wind': {'speed': 2.45, 'deg': 311, 'gust': 3.79}, 'visibility': 10000, 'pop': 0, 'sys': {'pod': 'n'}, 'dt_txt': '2023-11-25 18:00:00'}, {'dt': 1700946000, 'main': {'temp': 266.22, 'feels_like': 262.34, 'temp_min': 266.22, 'temp_max': 266.22, 'pressure': 1014, 'sea_level': 1014, 'grnd_level': 995, 'humidity': 83, 'temp_kf': 0}, 'weather': [{'id': 800, 'main': 'Clear', 'description': 'clear sky', 'icon': '01n'}], 'clouds': {'all': 9}, 'wind': {'speed': 2.19, 'deg': 309, 'gust': 2.81}, 'visibility': 10000, 'pop': 0, 'sys': {'pod': 'n'}, 'dt_txt': '2023-11-25 21:00:00'}, {'dt': 1700956800, 'main': {'temp': 265.67, 'feels_like': 261.92, 'temp_min': 265.67, 'temp_max': 265.67, 'pressure': 1014, 'sea_level': 1014, 'grnd_level': 995, 'humidity': 83, 'temp_kf': 0}, 'weather': [{'id': 800, 'main': 'Clear', 'description': 'clear sky', 'icon': '01n'}], 'clouds': {'all': 9}, 'wind': {'speed': 2.04, 'deg': 307, 'gust': 2.29}, 'visibility': 10000, 'pop': 0, 'sys': {'pod': 'n'}, 'dt_txt': '2023-11-26 00:00:00'}, {'dt': 1700967600, 'main': {'temp': 265.4, 'feels_like': 261.45, 'temp_min': 265.4, 'temp_max': 265.4, 'pressure': 1015, 'sea_level': 1015, 'grnd_level': 995, 'humidity': 83, 'temp_kf': 0}, 'weather': [{'id': 801, 'main': 'Clouds', 'description': 'few clouds', 'icon': '02n'}], 'clouds': {'all': 15}, 'wind': {'speed': 2.14, 'deg': 309, 'gust': 2.72}, 'visibility': 10000, 'pop': 0, 'sys': {'pod': 'n'}, 'dt_txt': '2023-11-26 03:00:00'}, {'dt': 1700978400, 'main': {'temp': 265.34, 'feels_like': 261.73, 'temp_min': 265.34, 'temp_max': 265.34, 'pressure': 1015, 'sea_level': 1015, 'grnd_level': 996, 'humidity': 82, 'temp_kf': 0}, 'weather': [{'id': 802, 'main': 'Clouds', 'description': 'scattered clouds', 'icon': '03n'}], 'clouds': {'all': 26}, 'wind': {'speed': 1.92, 'deg': 312, 'gust': 2.06}, 'visibility': 10000, 'pop': 0, 'sys': {'pod': 'n'}, 'dt_txt': '2023-11-26 06:00:00'}, {'dt': 1700989200, 'main': {'temp': 266.76, 'feels_like': 263.64, 'temp_min': 266.76, 'temp_max': 266.76, 'pressure': 1016, 'sea_level': 1016, 'grnd_level': 997, 'humidity': 79, 'temp_kf': 0}, 'weather': [{'id': 804, 'main': 'Clouds', 'description': 'overcast clouds', 'icon': '04d'}], 'clouds': {'all': 87}, 'wind': {'speed': 1.76, 'deg': 326, 'gust': 2.61}, 'visibility': 10000, 'pop': 0, 'sys': {'pod': 'd'}, 'dt_txt': '2023-11-26 09:00:00'}, {'dt': 1701000000, 'main': {'temp': 269.46, 'feels_like': 269.46, 'temp_min': 269.46, 'temp_max': 269.46, 'pressure': 1017, 'sea_level': 1017, 'grnd_level': 998, 'humidity': 79, 'temp_kf': 0}, 'weather': [{'id': 804, 'main': 'Clouds', 'description': 'overcast clouds', 'icon': '04d'}], 'clouds': {'all': 86}, 'wind': {'speed': 0.92, 'deg': 351, 'gust': 1.39}, 'visibility': 10000, 'pop': 0, 'sys': {'pod': 'd'}, 'dt_txt': '2023-11-26 12:00:00'}, {'dt': 1701010800, 'main': {'temp': 266.33, 'feels_like': 263.37, 'temp_min': 266.33, 'temp_max': 266.33, 'pressure': 1019, 'sea_level': 1019, 'grnd_level': 999, 'humidity': 87, 'temp_kf': 0}, 'weather': [{'id': 803, 'main': 'Clouds', 'description': 'broken clouds', 'icon': '04n'}], 'clouds': {'all': 60}, 'wind': {'speed': 1.63, 'deg': 325, 'gust': 1.38}, 'visibility': 10000, 'pop': 0, 'sys': {'pod': 'n'}, 'dt_txt': '2023-11-26 15:00:00'}, {'dt': 1701021600, 'main': {'temp': 266.04, 'feels_like': 262.86, 'temp_min': 266.04, 'temp_max': 266.04, 'pressure': 1021, 'sea_level': 1021, 'grnd_level': 1001, 'humidity': 86, 'temp_kf': 0}, 'weather': [{'id': 803, 'main': 'Clouds', 'description': 'broken clouds', 'icon': '04n'}], 'clouds': {'all': 71}, 'wind': {'speed': 1.73, 'deg': 325, 'gust': 1.54}, 'visibility': 10000, 'pop': 0, 'sys': {'pod': 'n'}, 'dt_txt': '2023-11-26 18:00:00'}, {'dt': 1701032400, 'main': {'temp': 264.69, 'feels_like': 260.97, 'temp_min': 264.69, 'temp_max': 264.69, 'pressure': 1022, 'sea_level': 1022, 'grnd_level': 1003, 'humidity': 86, 'temp_kf': 0}, 'weather': [{'id': 802, 'main': 'Clouds', 'description': 'scattered clouds', 'icon': '03n'}], 'clouds': {'all': 34}, 'wind': {'speed': 1.92, 'deg': 321, 'gust': 2.25}, 'visibility': 10000, 'pop': 0, 'sys': {'pod': 'n'}, 'dt_txt': '2023-11-26 21:00:00'}, {'dt': 1701043200, 'main': {'temp': 263.95, 'feels_like': 260.01, 'temp_min': 263.95, 'temp_max': 263.95, 'pressure': 1024, 'sea_level': 1024, 'grnd_level': 1004, 'humidity': 86, 'temp_kf': 0}, 'weather': [{'id': 802, 'main': 'Clouds', 'description': 'scattered clouds', 'icon': '03n'}], 'clouds': {'all': 26}, 'wind': {'speed': 1.98, 'deg': 322, 'gust': 2.37}, 'visibility': 10000, 'pop': 0, 'sys': {'pod': 'n'}, 'dt_txt': '2023-11-27 00:00:00'}, {'dt': 1701054000, 'main': {'temp': 263.53, 'feels_like': 259.61, 'temp_min': 263.53, 'temp_max': 263.53, 'pressure': 1025, 'sea_level': 1025, 'grnd_level': 1005, 'humidity': 87, 'temp_kf': 0}, 'weather': [{'id': 801, 'main': 'Clouds', 'description': 'few clouds', 'icon': '02n'}], 'clouds': {'all': 16}, 'wind': {'speed': 1.93, 'deg': 322, 'gust': 2.31}, 'visibility': 10000, 'pop': 0, 'sys': {'pod': 'n'}, 'dt_txt': '2023-11-27 03:00:00'}, {'dt': 1701064800, 'main': {'temp': 263.09, 'feels_like': 259.1, 'temp_min': 263.09, 'temp_max': 263.09, 'pressure': 1026, 'sea_level': 1026, 'grnd_level': 1006, 'humidity': 87, 'temp_kf': 0}, 'weather': [{'id': 801, 'main': 'Clouds', 'description': 'few clouds', 'icon': '02n'}], 'clouds': {'all': 19}, 'wind': {'speed': 1.93, 'deg': 326, 'gust': 2.34}, 'visibility': 10000, 'pop': 0, 'sys': {'pod': 'n'}, 'dt_txt': '2023-11-27 06:00:00'}, {'dt': 1701075600, 'main': {'temp': 263.84, 'feels_like': 260.05, 'temp_min': 263.84, 'temp_max': 263.84, 'pressure': 1027, 'sea_level': 1027, 'grnd_level': 1007, 'humidity': 85, 'temp_kf': 0}, 'weather': [{'id': 801, 'main': 'Clouds', 'description': 'few clouds', 'icon': '02d'}], 'clouds': {'all': 19}, 'wind': {'speed': 1.88, 'deg': 333, 'gust': 2.99}, 'visibility': 10000, 'pop': 0, 'sys': {'pod': 'd'}, 'dt_txt': '2023-11-27 09:00:00'}, {'dt': 1701086400, 'main': {'temp': 266.87, 'feels_like': 264.05, 'temp_min': 266.87, 'temp_max': 266.87, 'pressure': 1027, 'sea_level': 1027, 'grnd_level': 1007, 'humidity': 83, 'temp_kf': 0}, 'weather': [{'id': 801, 'main': 'Clouds', 'description': 'few clouds', 'icon': '02d'}], 'clouds': {'all': 15}, 'wind': {'speed': 1.6, 'deg': 352, 'gust': 2.9}, 'visibility': 10000, 'pop': 0, 'sys': {'pod': 'd'}, 'dt_txt': '2023-11-27 12:00:00'}, {'dt': 1701097200, 'main': {'temp': 263.96, 'feels_like': 259.86, 'temp_min': 263.96, 'temp_max': 263.96, 'pressure': 1028, 'sea_level': 1028, 'grnd_level': 1009, 'humidity': 88, 'temp_kf': 0}, 'weather': [{'id': 802, 'main': 'Clouds', 'description': 'scattered clouds', 'icon': '03n'}], 'clouds': {'all': 25}, 'wind': {'speed': 2.08, 'deg': 330, 'gust': 3.04}, 'visibility': 10000, 'pop': 0, 'sys': {'pod': 'n'}, 'dt_txt': '2023-11-27 15:00:00'}, {'dt': 1701108000, 'main': {'temp': 264.89, 'feels_like': 260.78, 'temp_min': 264.89, 'temp_max': 264.89, 'pressure': 1029, 'sea_level': 1029, 'grnd_level': 1009, 'humidity': 88, 'temp_kf': 0}, 'weather': [{'id': 803, 'main': 'Clouds', 'description': 'broken clouds', 'icon': '04n'}], 'clouds': {'all': 56}, 'wind': {'speed': 2.19, 'deg': 331, 'gust': 3.82}, 'visibility': 10000, 'pop': 0, 'sys': {'pod': 'n'}, 'dt_txt': '2023-11-27 18:00:00'}], 'city': {'id': 3144113, 'name': 'Noresund', 'coord': {'lat': 60.1803, 'lon': 9.6231}, 'country': 'NO', 'population': 1000, 'timezone': 3600, 'sunrise': 1700638612, 'sunset': 1700663911}}\""
      ]
     },
     "execution_count": 15,
     "metadata": {},
     "output_type": "execute_result"
    }
   ],
   "source": [
    "# Inspect JSON file\n",
    "forecast.__str__()"
   ]
  },
  {
   "cell_type": "markdown",
   "metadata": {
    "slideshow": {
     "slide_type": "slide"
    }
   },
   "source": [
    "## Raw JSON\n",
    "- A simple, but not very efficient way of storing JSON data is to treat it as a text and save it directly to the database.  \n",
    "- More efficient, with regard to transfer, is to compress the JSON data to a blob first.\n",
    "    - Compression is automatic."
   ]
  },
  {
   "cell_type": "code",
   "execution_count": 16,
   "metadata": {
    "slideshow": {
     "slide_type": "-"
    }
   },
   "outputs": [
    {
     "data": {
      "text/plain": [
       "<cassandra.cluster.ResultSet at 0x11597ecd0>"
      ]
     },
     "execution_count": 16,
     "metadata": {},
     "output_type": "execute_result"
    }
   ],
   "source": [
    "# Create a new table which treats the whole JSON as a blob, using the city id and the first dt as keys\n",
    "session.set_keyspace('my_first_keyspace')\n",
    "session.execute(\"DROP TABLE IF EXISTS my_first_keyspace.forecast_table;\")\n",
    "session.execute(\"CREATE TABLE IF NOT EXISTS forecast_table (city_id int, dt int, forecast blob, PRIMARY KEY(city_id, dt));\")"
   ]
  },
  {
   "cell_type": "markdown",
   "metadata": {
    "slideshow": {
     "slide_type": "slide"
    }
   },
   "source": [
    "### Insert the forecast data into the table as text blob"
   ]
  },
  {
   "cell_type": "code",
   "execution_count": 17,
   "metadata": {
    "slideshow": {
     "slide_type": "-"
    }
   },
   "outputs": [
    {
     "data": {
      "text/plain": [
       "<cassandra.cluster.ResultSet at 0x1076bc290>"
      ]
     },
     "execution_count": 17,
     "metadata": {},
     "output_type": "execute_result"
    }
   ],
   "source": [
    "session.execute(\"INSERT INTO forecast_table (city_id, dt, forecast) VALUES (%s, %s, textAsBlob(%s));\", (forecast['city']['id'], forecast['list'][0]['dt'], forecast.__str__()))"
   ]
  },
  {
   "cell_type": "code",
   "execution_count": 18,
   "metadata": {
    "slideshow": {
     "slide_type": "slide"
    }
   },
   "outputs": [
    {
     "name": "stdout",
     "output_type": "stream",
     "text": [
      "Row(city_id=3144113, dt=1700686800, forecast=b\"{'cod': '200', 'message': 0, 'cnt': 40, 'list': [{'dt': 1700686800, 'main': {'temp': 275.19, 'feels_like': 272.9, 'temp_min': 273.98, 'temp_max': 275.19, 'pressure': 996, 'sea_level': 996, 'grnd_level': 977, 'humidity': 88, 'temp_kf': 1.21}, 'weather': [{'id': 803, 'main': 'Clouds', 'description': 'broken clouds', 'icon': '04n'}], 'clouds': {'all': 78}, 'wind': {'speed': 2.15, 'deg': 261, 'gust': 2.4}, 'visibility': 10000, 'pop': 0, 'sys': {'pod': 'n'}, 'dt_txt': '2023-11-22 21:00:00'}, {'dt': 1700697600, 'main': {'temp': 274.72, 'feels_like': 271.85, 'temp_min': 274.18, 'temp_max': 274.72, 'pressure': 993, 'sea_level': 993, 'grnd_level': 974, 'humidity': 86, 'temp_kf': 0.54}, 'weather': [{'id': 803, 'main': 'Clouds', 'description': 'broken clouds', 'icon': '04n'}], 'clouds': {'all': 54}, 'wind': {'speed': 2.64, 'deg': 252, 'gust': 5.21}, 'visibility': 10000, 'pop': 0, 'sys': {'pod': 'n'}, 'dt_txt': '2023-11-23 00:00:00'}, {'dt': 1700708400, 'main': {'temp': 275.2, 'feels_like': 272.37, 'temp_min': 275.2, 'temp_max': 275.2, 'pressure': 990, 'sea_level': 990, 'grnd_level': 972, 'humidity': 78, 'temp_kf': 0}, 'weather': [{'id': 801, 'main': 'Clouds', 'description': 'few clouds', 'icon': '02n'}], 'clouds': {'all': 19}, 'wind': {'speed': 2.7, 'deg': 265, 'gust': 6.02}, 'visibility': 10000, 'pop': 0.04, 'sys': {'pod': 'n'}, 'dt_txt': '2023-11-23 03:00:00'}, {'dt': 1700719200, 'main': {'temp': 274.8, 'feels_like': 272.1, 'temp_min': 274.8, 'temp_max': 274.8, 'pressure': 988, 'sea_level': 988, 'grnd_level': 969, 'humidity': 87, 'temp_kf': 0}, 'weather': [{'id': 600, 'main': 'Snow', 'description': 'light snow', 'icon': '13n'}], 'clouds': {'all': 38}, 'wind': {'speed': 2.48, 'deg': 260, 'gust': 5.51}, 'visibility': 10000, 'pop': 0.35, 'snow': {'3h': 0.16}, 'sys': {'pod': 'n'}, 'dt_txt': '2023-11-23 06:00:00'}, {'dt': 1700730000, 'main': {'temp': 276.05, 'feels_like': 272.68, 'temp_min': 276.05, 'temp_max': 276.05, 'pressure': 986, 'sea_level': 986, 'grnd_level': 967, 'humidity': 67, 'temp_kf': 0}, 'weather': [{'id': 802, 'main': 'Clouds', 'description': 'scattered clouds', 'icon': '03d'}], 'clouds': {'all': 40}, 'wind': {'speed': 3.61, 'deg': 283, 'gust': 8.2}, 'visibility': 10000, 'pop': 0.24, 'sys': {'pod': 'd'}, 'dt_txt': '2023-11-23 09:00:00'}, {'dt': 1700740800, 'main': {'temp': 274.99, 'feels_like': 272.47, 'temp_min': 274.99, 'temp_max': 274.99, 'pressure': 985, 'sea_level': 985, 'grnd_level': 966, 'humidity': 80, 'temp_kf': 0}, 'weather': [{'id': 600, 'main': 'Snow', 'description': 'light snow', 'icon': '13d'}], 'clouds': {'all': 42}, 'wind': {'speed': 2.34, 'deg': 263, 'gust': 7.28}, 'visibility': 10000, 'pop': 0.35, 'snow': {'3h': 0.35}, 'sys': {'pod': 'd'}, 'dt_txt': '2023-11-23 12:00:00'}, {'dt': 1700751600, 'main': {'temp': 274.64, 'feels_like': 270.15, 'temp_min': 274.64, 'temp_max': 274.64, 'pressure': 985, 'sea_level': 985, 'grnd_level': 966, 'humidity': 62, 'temp_kf': 0}, 'weather': [{'id': 802, 'main': 'Clouds', 'description': 'scattered clouds', 'icon': '03n'}], 'clouds': {'all': 35}, 'wind': {'speed': 4.9, 'deg': 289, 'gust': 13.34}, 'visibility': 10000, 'pop': 0, 'sys': {'pod': 'n'}, 'dt_txt': '2023-11-23 15:00:00'}, {'dt': 1700762400, 'main': {'temp': 272.9, 'feels_like': 268.38, 'temp_min': 272.9, 'temp_max': 272.9, 'pressure': 987, 'sea_level': 987, 'grnd_level': 969, 'humidity': 66, 'temp_kf': 0}, 'weather': [{'id': 801, 'main': 'Clouds', 'description': 'few clouds', 'icon': '02n'}], 'clouds': {'all': 18}, 'wind': {'speed': 4.26, 'deg': 292, 'gust': 10.7}, 'visibility': 10000, 'pop': 0, 'sys': {'pod': 'n'}, 'dt_txt': '2023-11-23 18:00:00'}, {'dt': 1700773200, 'main': {'temp': 271.03, 'feels_like': 266.05, 'temp_min': 271.03, 'temp_max': 271.03, 'pressure': 991, 'sea_level': 991, 'grnd_level': 972, 'humidity': 59, 'temp_kf': 0}, 'weather': [{'id': 800, 'main': 'Clear', 'description': 'clear sky', 'icon': '01n'}], 'clouds': {'all': 1}, 'wind': {'speed': 4.29, 'deg': 295, 'gust': 11.77}, 'visibility': 10000, 'pop': 0, 'sys': {'pod': 'n'}, 'dt_txt': '2023-11-23 21:00:00'}, {'dt': 1700784000, 'main': {'temp': 270.32, 'feels_like': 265.39, 'temp_min': 270.32, 'temp_max': 270.32, 'pressure': 990, 'sea_level': 990, 'grnd_level': 972, 'humidity': 65, 'temp_kf': 0}, 'weather': [{'id': 800, 'main': 'Clear', 'description': 'clear sky', 'icon': '01n'}], 'clouds': {'all': 2}, 'wind': {'speed': 4, 'deg': 291, 'gust': 12.1}, 'visibility': 10000, 'pop': 0, 'sys': {'pod': 'n'}, 'dt_txt': '2023-11-24 00:00:00'}, {'dt': 1700794800, 'main': {'temp': 269.95, 'feels_like': 266.59, 'temp_min': 269.95, 'temp_max': 269.95, 'pressure': 989, 'sea_level': 989, 'grnd_level': 971, 'humidity': 75, 'temp_kf': 0}, 'weather': [{'id': 803, 'main': 'Clouds', 'description': 'broken clouds', 'icon': '04n'}], 'clouds': {'all': 77}, 'wind': {'speed': 2.29, 'deg': 281, 'gust': 4}, 'visibility': 10000, 'pop': 0, 'sys': {'pod': 'n'}, 'dt_txt': '2023-11-24 03:00:00'}, {'dt': 1700805600, 'main': {'temp': 267.48, 'feels_like': 263.45, 'temp_min': 267.48, 'temp_max': 267.48, 'pressure': 990, 'sea_level': 990, 'grnd_level': 971, 'humidity': 80, 'temp_kf': 0}, 'weather': [{'id': 804, 'main': 'Clouds', 'description': 'overcast clouds', 'icon': '04n'}], 'clouds': {'all': 85}, 'wind': {'speed': 2.47, 'deg': 306, 'gust': 2.88}, 'visibility': 10000, 'pop': 0, 'sys': {'pod': 'n'}, 'dt_txt': '2023-11-24 06:00:00'}, {'dt': 1700816400, 'main': {'temp': 269.92, 'feels_like': 264.88, 'temp_min': 269.92, 'temp_max': 269.92, 'pressure': 995, 'sea_level': 995, 'grnd_level': 976, 'humidity': 70, 'temp_kf': 0}, 'weather': [{'id': 804, 'main': 'Clouds', 'description': 'overcast clouds', 'icon': '04d'}], 'clouds': {'all': 99}, 'wind': {'speed': 4.02, 'deg': 329, 'gust': 12.16}, 'visibility': 10000, 'pop': 0, 'sys': {'pod': 'd'}, 'dt_txt': '2023-11-24 09:00:00'}, {'dt': 1700827200, 'main': {'temp': 272.67, 'feels_like': 268.48, 'temp_min': 272.67, 'temp_max': 272.67, 'pressure': 997, 'sea_level': 997, 'grnd_level': 979, 'humidity': 63, 'temp_kf': 0}, 'weather': [{'id': 803, 'main': 'Clouds', 'description': 'broken clouds', 'icon': '04d'}], 'clouds': {'all': 79}, 'wind': {'speed': 3.72, 'deg': 333, 'gust': 11.75}, 'visibility': 10000, 'pop': 0, 'sys': {'pod': 'd'}, 'dt_txt': '2023-11-24 12:00:00'}, {'dt': 1700838000, 'main': {'temp': 267.84, 'feels_like': 263.61, 'temp_min': 267.84, 'temp_max': 267.84, 'pressure': 1000, 'sea_level': 1000, 'grnd_level': 981, 'humidity': 79, 'temp_kf': 0}, 'weather': [{'id': 801, 'main': 'Clouds', 'description': 'few clouds', 'icon': '02n'}], 'clouds': {'all': 18}, 'wind': {'speed': 2.69, 'deg': 295, 'gust': 3.18}, 'visibility': 10000, 'pop': 0, 'sys': {'pod': 'n'}, 'dt_txt': '2023-11-24 15:00:00'}, {'dt': 1700848800, 'main': {'temp': 268.06, 'feels_like': 263.94, 'temp_min': 268.06, 'temp_max': 268.06, 'pressure': 1000, 'sea_level': 1000, 'grnd_level': 981, 'humidity': 78, 'temp_kf': 0}, 'weather': [{'id': 803, 'main': 'Clouds', 'description': 'broken clouds', 'icon': '04n'}], 'clouds': {'all': 58}, 'wind': {'speed': 2.63, 'deg': 293, 'gust': 3.51}, 'visibility': 10000, 'pop': 0, 'sys': {'pod': 'n'}, 'dt_txt': '2023-11-24 18:00:00'}, {'dt': 1700859600, 'main': {'temp': 267.98, 'feels_like': 263.93, 'temp_min': 267.98, 'temp_max': 267.98, 'pressure': 1001, 'sea_level': 1001, 'grnd_level': 982, 'humidity': 78, 'temp_kf': 0}, 'weather': [{'id': 804, 'main': 'Clouds', 'description': 'overcast clouds', 'icon': '04n'}], 'clouds': {'all': 100}, 'wind': {'speed': 2.56, 'deg': 303, 'gust': 3.92}, 'visibility': 10000, 'pop': 0, 'sys': {'pod': 'n'}, 'dt_txt': '2023-11-24 21:00:00'}, {'dt': 1700870400, 'main': {'temp': 267.52, 'feels_like': 263.13, 'temp_min': 267.52, 'temp_max': 267.52, 'pressure': 1003, 'sea_level': 1003, 'grnd_level': 984, 'humidity': 81, 'temp_kf': 0}, 'weather': [{'id': 803, 'main': 'Clouds', 'description': 'broken clouds', 'icon': '04n'}], 'clouds': {'all': 83}, 'wind': {'speed': 2.78, 'deg': 304, 'gust': 4.4}, 'visibility': 10000, 'pop': 0, 'sys': {'pod': 'n'}, 'dt_txt': '2023-11-25 00:00:00'}, {'dt': 1700881200, 'main': {'temp': 267.74, 'feels_like': 264.51, 'temp_min': 267.74, 'temp_max': 267.74, 'pressure': 1005, 'sea_level': 1005, 'grnd_level': 986, 'humidity': 81, 'temp_kf': 0}, 'weather': [{'id': 803, 'main': 'Clouds', 'description': 'broken clouds', 'icon': '04n'}], 'clouds': {'all': 73}, 'wind': {'speed': 1.92, 'deg': 309, 'gust': 2.93}, 'visibility': 10000, 'pop': 0, 'sys': {'pod': 'n'}, 'dt_txt': '2023-11-25 03:00:00'}, {'dt': 1700892000, 'main': {'temp': 266.91, 'feels_like': 263.56, 'temp_min': 266.91, 'temp_max': 266.91, 'pressure': 1006, 'sea_level': 1006, 'grnd_level': 987, 'humidity': 82, 'temp_kf': 0}, 'weather': [{'id': 803, 'main': 'Clouds', 'description': 'broken clouds', 'icon': '04n'}], 'clouds': {'all': 77}, 'wind': {'speed': 1.91, 'deg': 317, 'gust': 2.46}, 'visibility': 10000, 'pop': 0, 'sys': {'pod': 'n'}, 'dt_txt': '2023-11-25 06:00:00'}, {'dt': 1700902800, 'main': {'temp': 268.65, 'feels_like': 266.45, 'temp_min': 268.65, 'temp_max': 268.65, 'pressure': 1008, 'sea_level': 1008, 'grnd_level': 989, 'humidity': 82, 'temp_kf': 0}, 'weather': [{'id': 804, 'main': 'Clouds', 'description': 'overcast clouds', 'icon': '04d'}], 'clouds': {'all': 99}, 'wind': {'speed': 1.4, 'deg': 332, 'gust': 2.55}, 'visibility': 10000, 'pop': 0.22, 'sys': {'pod': 'd'}, 'dt_txt': '2023-11-25 09:00:00'}, {'dt': 1700913600, 'main': {'temp': 270.84, 'feels_like': 268.23, 'temp_min': 270.84, 'temp_max': 270.84, 'pressure': 1010, 'sea_level': 1010, 'grnd_level': 991, 'humidity': 81, 'temp_kf': 0}, 'weather': [{'id': 804, 'main': 'Clouds', 'description': 'overcast clouds', 'icon': '04d'}], 'clouds': {'all': 98}, 'wind': {'speed': 1.84, 'deg': 328, 'gust': 3.71}, 'visibility': 10000, 'pop': 0.23, 'sys': {'pod': 'd'}, 'dt_txt': '2023-11-25 12:00:00'}, {'dt': 1700924400, 'main': {'temp': 268.72, 'feels_like': 265.27, 'temp_min': 268.72, 'temp_max': 268.72, 'pressure': 1011, 'sea_level': 1011, 'grnd_level': 992, 'humidity': 88, 'temp_kf': 0}, 'weather': [{'id': 804, 'main': 'Clouds', 'description': 'overcast clouds', 'icon': '04n'}], 'clouds': {'all': 91}, 'wind': {'speed': 2.19, 'deg': 315, 'gust': 3.25}, 'visibility': 10000, 'pop': 0, 'sys': {'pod': 'n'}, 'dt_txt': '2023-11-25 15:00:00'}, {'dt': 1700935200, 'main': {'temp': 266.85, 'feels_like': 262.73, 'temp_min': 266.85, 'temp_max': 266.85, 'pressure': 1013, 'sea_level': 1013, 'grnd_level': 994, 'humidity': 85, 'temp_kf': 0}, 'weather': [{'id': 803, 'main': 'Clouds', 'description': 'broken clouds', 'icon': '04n'}], 'clouds': {'all': 60}, 'wind': {'speed': 2.45, 'deg': 311, 'gust': 3.79}, 'visibility': 10000, 'pop': 0, 'sys': {'pod': 'n'}, 'dt_txt': '2023-11-25 18:00:00'}, {'dt': 1700946000, 'main': {'temp': 266.22, 'feels_like': 262.34, 'temp_min': 266.22, 'temp_max': 266.22, 'pressure': 1014, 'sea_level': 1014, 'grnd_level': 995, 'humidity': 83, 'temp_kf': 0}, 'weather': [{'id': 800, 'main': 'Clear', 'description': 'clear sky', 'icon': '01n'}], 'clouds': {'all': 9}, 'wind': {'speed': 2.19, 'deg': 309, 'gust': 2.81}, 'visibility': 10000, 'pop': 0, 'sys': {'pod': 'n'}, 'dt_txt': '2023-11-25 21:00:00'}, {'dt': 1700956800, 'main': {'temp': 265.67, 'feels_like': 261.92, 'temp_min': 265.67, 'temp_max': 265.67, 'pressure': 1014, 'sea_level': 1014, 'grnd_level': 995, 'humidity': 83, 'temp_kf': 0}, 'weather': [{'id': 800, 'main': 'Clear', 'description': 'clear sky', 'icon': '01n'}], 'clouds': {'all': 9}, 'wind': {'speed': 2.04, 'deg': 307, 'gust': 2.29}, 'visibility': 10000, 'pop': 0, 'sys': {'pod': 'n'}, 'dt_txt': '2023-11-26 00:00:00'}, {'dt': 1700967600, 'main': {'temp': 265.4, 'feels_like': 261.45, 'temp_min': 265.4, 'temp_max': 265.4, 'pressure': 1015, 'sea_level': 1015, 'grnd_level': 995, 'humidity': 83, 'temp_kf': 0}, 'weather': [{'id': 801, 'main': 'Clouds', 'description': 'few clouds', 'icon': '02n'}], 'clouds': {'all': 15}, 'wind': {'speed': 2.14, 'deg': 309, 'gust': 2.72}, 'visibility': 10000, 'pop': 0, 'sys': {'pod': 'n'}, 'dt_txt': '2023-11-26 03:00:00'}, {'dt': 1700978400, 'main': {'temp': 265.34, 'feels_like': 261.73, 'temp_min': 265.34, 'temp_max': 265.34, 'pressure': 1015, 'sea_level': 1015, 'grnd_level': 996, 'humidity': 82, 'temp_kf': 0}, 'weather': [{'id': 802, 'main': 'Clouds', 'description': 'scattered clouds', 'icon': '03n'}], 'clouds': {'all': 26}, 'wind': {'speed': 1.92, 'deg': 312, 'gust': 2.06}, 'visibility': 10000, 'pop': 0, 'sys': {'pod': 'n'}, 'dt_txt': '2023-11-26 06:00:00'}, {'dt': 1700989200, 'main': {'temp': 266.76, 'feels_like': 263.64, 'temp_min': 266.76, 'temp_max': 266.76, 'pressure': 1016, 'sea_level': 1016, 'grnd_level': 997, 'humidity': 79, 'temp_kf': 0}, 'weather': [{'id': 804, 'main': 'Clouds', 'description': 'overcast clouds', 'icon': '04d'}], 'clouds': {'all': 87}, 'wind': {'speed': 1.76, 'deg': 326, 'gust': 2.61}, 'visibility': 10000, 'pop': 0, 'sys': {'pod': 'd'}, 'dt_txt': '2023-11-26 09:00:00'}, {'dt': 1701000000, 'main': {'temp': 269.46, 'feels_like': 269.46, 'temp_min': 269.46, 'temp_max': 269.46, 'pressure': 1017, 'sea_level': 1017, 'grnd_level': 998, 'humidity': 79, 'temp_kf': 0}, 'weather': [{'id': 804, 'main': 'Clouds', 'description': 'overcast clouds', 'icon': '04d'}], 'clouds': {'all': 86}, 'wind': {'speed': 0.92, 'deg': 351, 'gust': 1.39}, 'visibility': 10000, 'pop': 0, 'sys': {'pod': 'd'}, 'dt_txt': '2023-11-26 12:00:00'}, {'dt': 1701010800, 'main': {'temp': 266.33, 'feels_like': 263.37, 'temp_min': 266.33, 'temp_max': 266.33, 'pressure': 1019, 'sea_level': 1019, 'grnd_level': 999, 'humidity': 87, 'temp_kf': 0}, 'weather': [{'id': 803, 'main': 'Clouds', 'description': 'broken clouds', 'icon': '04n'}], 'clouds': {'all': 60}, 'wind': {'speed': 1.63, 'deg': 325, 'gust': 1.38}, 'visibility': 10000, 'pop': 0, 'sys': {'pod': 'n'}, 'dt_txt': '2023-11-26 15:00:00'}, {'dt': 1701021600, 'main': {'temp': 266.04, 'feels_like': 262.86, 'temp_min': 266.04, 'temp_max': 266.04, 'pressure': 1021, 'sea_level': 1021, 'grnd_level': 1001, 'humidity': 86, 'temp_kf': 0}, 'weather': [{'id': 803, 'main': 'Clouds', 'description': 'broken clouds', 'icon': '04n'}], 'clouds': {'all': 71}, 'wind': {'speed': 1.73, 'deg': 325, 'gust': 1.54}, 'visibility': 10000, 'pop': 0, 'sys': {'pod': 'n'}, 'dt_txt': '2023-11-26 18:00:00'}, {'dt': 1701032400, 'main': {'temp': 264.69, 'feels_like': 260.97, 'temp_min': 264.69, 'temp_max': 264.69, 'pressure': 1022, 'sea_level': 1022, 'grnd_level': 1003, 'humidity': 86, 'temp_kf': 0}, 'weather': [{'id': 802, 'main': 'Clouds', 'description': 'scattered clouds', 'icon': '03n'}], 'clouds': {'all': 34}, 'wind': {'speed': 1.92, 'deg': 321, 'gust': 2.25}, 'visibility': 10000, 'pop': 0, 'sys': {'pod': 'n'}, 'dt_txt': '2023-11-26 21:00:00'}, {'dt': 1701043200, 'main': {'temp': 263.95, 'feels_like': 260.01, 'temp_min': 263.95, 'temp_max': 263.95, 'pressure': 1024, 'sea_level': 1024, 'grnd_level': 1004, 'humidity': 86, 'temp_kf': 0}, 'weather': [{'id': 802, 'main': 'Clouds', 'description': 'scattered clouds', 'icon': '03n'}], 'clouds': {'all': 26}, 'wind': {'speed': 1.98, 'deg': 322, 'gust': 2.37}, 'visibility': 10000, 'pop': 0, 'sys': {'pod': 'n'}, 'dt_txt': '2023-11-27 00:00:00'}, {'dt': 1701054000, 'main': {'temp': 263.53, 'feels_like': 259.61, 'temp_min': 263.53, 'temp_max': 263.53, 'pressure': 1025, 'sea_level': 1025, 'grnd_level': 1005, 'humidity': 87, 'temp_kf': 0}, 'weather': [{'id': 801, 'main': 'Clouds', 'description': 'few clouds', 'icon': '02n'}], 'clouds': {'all': 16}, 'wind': {'speed': 1.93, 'deg': 322, 'gust': 2.31}, 'visibility': 10000, 'pop': 0, 'sys': {'pod': 'n'}, 'dt_txt': '2023-11-27 03:00:00'}, {'dt': 1701064800, 'main': {'temp': 263.09, 'feels_like': 259.1, 'temp_min': 263.09, 'temp_max': 263.09, 'pressure': 1026, 'sea_level': 1026, 'grnd_level': 1006, 'humidity': 87, 'temp_kf': 0}, 'weather': [{'id': 801, 'main': 'Clouds', 'description': 'few clouds', 'icon': '02n'}], 'clouds': {'all': 19}, 'wind': {'speed': 1.93, 'deg': 326, 'gust': 2.34}, 'visibility': 10000, 'pop': 0, 'sys': {'pod': 'n'}, 'dt_txt': '2023-11-27 06:00:00'}, {'dt': 1701075600, 'main': {'temp': 263.84, 'feels_like': 260.05, 'temp_min': 263.84, 'temp_max': 263.84, 'pressure': 1027, 'sea_level': 1027, 'grnd_level': 1007, 'humidity': 85, 'temp_kf': 0}, 'weather': [{'id': 801, 'main': 'Clouds', 'description': 'few clouds', 'icon': '02d'}], 'clouds': {'all': 19}, 'wind': {'speed': 1.88, 'deg': 333, 'gust': 2.99}, 'visibility': 10000, 'pop': 0, 'sys': {'pod': 'd'}, 'dt_txt': '2023-11-27 09:00:00'}, {'dt': 1701086400, 'main': {'temp': 266.87, 'feels_like': 264.05, 'temp_min': 266.87, 'temp_max': 266.87, 'pressure': 1027, 'sea_level': 1027, 'grnd_level': 1007, 'humidity': 83, 'temp_kf': 0}, 'weather': [{'id': 801, 'main': 'Clouds', 'description': 'few clouds', 'icon': '02d'}], 'clouds': {'all': 15}, 'wind': {'speed': 1.6, 'deg': 352, 'gust': 2.9}, 'visibility': 10000, 'pop': 0, 'sys': {'pod': 'd'}, 'dt_txt': '2023-11-27 12:00:00'}, {'dt': 1701097200, 'main': {'temp': 263.96, 'feels_like': 259.86, 'temp_min': 263.96, 'temp_max': 263.96, 'pressure': 1028, 'sea_level': 1028, 'grnd_level': 1009, 'humidity': 88, 'temp_kf': 0}, 'weather': [{'id': 802, 'main': 'Clouds', 'description': 'scattered clouds', 'icon': '03n'}], 'clouds': {'all': 25}, 'wind': {'speed': 2.08, 'deg': 330, 'gust': 3.04}, 'visibility': 10000, 'pop': 0, 'sys': {'pod': 'n'}, 'dt_txt': '2023-11-27 15:00:00'}, {'dt': 1701108000, 'main': {'temp': 264.89, 'feels_like': 260.78, 'temp_min': 264.89, 'temp_max': 264.89, 'pressure': 1029, 'sea_level': 1029, 'grnd_level': 1009, 'humidity': 88, 'temp_kf': 0}, 'weather': [{'id': 803, 'main': 'Clouds', 'description': 'broken clouds', 'icon': '04n'}], 'clouds': {'all': 56}, 'wind': {'speed': 2.19, 'deg': 331, 'gust': 3.82}, 'visibility': 10000, 'pop': 0, 'sys': {'pod': 'n'}, 'dt_txt': '2023-11-27 18:00:00'}], 'city': {'id': 3144113, 'name': 'Noresund', 'coord': {'lat': 60.1803, 'lon': 9.6231}, 'country': 'NO', 'population': 1000, 'timezone': 3600, 'sunrise': 1700638612, 'sunset': 1700663911}}\")\n"
     ]
    }
   ],
   "source": [
    "# Query the data\n",
    "forecast_rows = session.execute(\"SELECT * FROM forecast_table;\")\n",
    "print(forecast_rows.one()) # <- only one row"
   ]
  },
  {
   "cell_type": "markdown",
   "metadata": {
    "slideshow": {
     "slide_type": "slide"
    }
   },
   "source": [
    "```{seealso} Resources\n",
    ":class: tip\n",
    "- [Cassandra webpage](https://cassandra.apache.org/)\n",
    "- [Cassandra Docker file](https://hub.docker.com/_/cassandra)\n",
    "- [UUID functions](https://docs.datastax.com/en/cql-oss/3.3/cql/cql_reference/timeuuid_functions_r.html)\n",
    "- [YouTube: Cassandra in 100 seconds](https://youtu.be/ziq7FUKpCS8?si=WQUdkHFvaBmT0DBo) (2m:26s)\n",
    "- [YouTube: How to use Apache Cassandra in Python](https://youtu.be/qMauZqJH3ZM?si=yKGZ-5cld2BK396Y) (14m:50s)\n",
    "- [YouTube: Cassandra Database Crash Course](https://youtu.be/KZsVSfQVU4I?si=FBCi8qOfCirfVmZk) (19m:47s)\n",
    "```"
   ]
  }
 ],
 "metadata": {
  "celltoolbar": "Slideshow",
  "kernelspec": {
   "display_name": "Python 3 (ipykernel)",
   "language": "python",
   "name": "python3"
  },
  "language_info": {
   "codemirror_mode": {
    "name": "ipython",
    "version": 3
   },
   "file_extension": ".py",
   "mimetype": "text/x-python",
   "name": "python",
   "nbconvert_exporter": "python",
   "pygments_lexer": "ipython3",
   "version": "3.11.6"
  }
 },
 "nbformat": 4,
 "nbformat_minor": 2
}