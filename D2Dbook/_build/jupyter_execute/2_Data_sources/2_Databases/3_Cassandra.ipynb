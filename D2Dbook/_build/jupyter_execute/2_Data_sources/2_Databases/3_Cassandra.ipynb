{
 "cells": [
  {
   "cell_type": "markdown",
   "metadata": {
    "slideshow": {
     "slide_type": "slide"
    }
   },
   "source": [
    "# Cassandra\n",
    "- A production grade NoSQL database.\n",
    "- Can be distributed across servers, nodes, etc.\n",
    "- Replication of database is supported for high degree of redundancy and speed.\n",
    "- Uses CQL, a subset of SQL for querying.\n",
    "- Works seamlesly together with Spark and its corresponding distributed structure.\n",
    "- Installation of Cassandra is explained in the [Installation chapter](../../6_Appendix/Installation.ipynb)."
   ]
  },
  {
   "cell_type": "markdown",
   "metadata": {
    "slideshow": {
     "slide_type": "slide"
    }
   },
   "source": [
    "## Spinning up a local Cassandra instance\n",
    "In a terminal, first time:  \n",
    "```docker run --name my_cassandra -p 9042:9042 cassandra:latest```  \n",
    "... and later:  \n",
    "```docker start my_cassandra```  \n",
    "  \n",
    ".. or in Docker Desktop:\n",
    "- Run the cassandra docker image with optional settings, opening 9042 port and setting a name.\n",
    "- Later, simply run the container with the name you chose."
   ]
  },
  {
   "cell_type": "markdown",
   "metadata": {
    "slideshow": {
     "slide_type": "slide"
    }
   },
   "source": [
    "<img src=\"../../images/Docker_images.png\" width=\"600px\">  "
   ]
  },
  {
   "cell_type": "markdown",
   "metadata": {
    "slideshow": {
     "slide_type": "slide"
    }
   },
   "source": [
    "\n",
    "<img src=\"../../images/Docker_containers.png\" width=\"800px\">  "
   ]
  },
  {
   "cell_type": "markdown",
   "metadata": {
    "slideshow": {
     "slide_type": "slide"
    }
   },
   "source": [
    "### Connect to the Cassandra cluster from Python."
   ]
  },
  {
   "cell_type": "code",
   "execution_count": 1,
   "metadata": {
    "slideshow": {
     "slide_type": "-"
    }
   },
   "outputs": [],
   "source": [
    "# Connecting to Cassandra\n",
    "from cassandra.cluster import Cluster\n",
    "cluster = Cluster(['localhost'], port=9042)\n",
    "session = cluster.connect()"
   ]
  },
  {
   "cell_type": "markdown",
   "metadata": {
    "slideshow": {
     "slide_type": "slide"
    }
   },
   "source": [
    "### Keyspace\n",
    "- In Cassandra database tables are stored in keyspaces (basically a distributed database).\n",
    "- These have parameters controlling their distribution on nodes/servers and redundancy.\n",
    "- We will use the simplest form locally."
   ]
  },
  {
   "cell_type": "code",
   "execution_count": 2,
   "metadata": {
    "slideshow": {
     "slide_type": "fragment"
    }
   },
   "outputs": [
    {
     "data": {
      "text/plain": [
       "<cassandra.cluster.ResultSet at 0x1114bae00>"
      ]
     },
     "execution_count": 2,
     "metadata": {},
     "output_type": "execute_result"
    }
   ],
   "source": [
    "# Set up new keyspace (first time only)\n",
    "#                                              name of keyspace                        replication strategy           replication factor\n",
    "session.execute(\"CREATE KEYSPACE IF NOT EXISTS my_first_keyspace WITH REPLICATION = { 'class' : 'SimpleStrategy', 'replication_factor' : 1 };\")"
   ]
  },
  {
   "cell_type": "markdown",
   "metadata": {
    "slideshow": {
     "slide_type": "slide"
    }
   },
   "source": [
    "### Create a table\n",
    "- IF NOT EXISTS makes sure we do not overwrite existing tables"
   ]
  },
  {
   "cell_type": "code",
   "execution_count": 3,
   "metadata": {
    "slideshow": {
     "slide_type": "fragment"
    }
   },
   "outputs": [
    {
     "data": {
      "text/plain": [
       "<cassandra.cluster.ResultSet at 0x113be4310>"
      ]
     },
     "execution_count": 3,
     "metadata": {},
     "output_type": "execute_result"
    }
   ],
   "source": [
    "# Create a new table (first time only)\n",
    "session.set_keyspace('my_first_keyspace')\n",
    "session.execute(\"DROP TABLE IF EXISTS my_first_keyspace.my_first_table;\") # Starting from scratch every time\n",
    "session.execute(\"CREATE TABLE IF NOT EXISTS my_first_table (ind int PRIMARY KEY, company text, model text);\")"
   ]
  },
  {
   "cell_type": "markdown",
   "metadata": {
    "slideshow": {
     "slide_type": "slide"
    }
   },
   "source": [
    "### Inserting and reading data"
   ]
  },
  {
   "cell_type": "code",
   "execution_count": 4,
   "metadata": {
    "slideshow": {
     "slide_type": "-"
    }
   },
   "outputs": [
    {
     "data": {
      "text/plain": [
       "<cassandra.cluster.ResultSet at 0x113be2890>"
      ]
     },
     "execution_count": 4,
     "metadata": {},
     "output_type": "execute_result"
    }
   ],
   "source": [
    "# Insert some data (ind is the primary key, must be unique)\n",
    "session.execute(\"INSERT INTO my_first_table (ind, company, model) VALUES (1, 'Tesla', 'Model S');\")\n",
    "session.execute(\"INSERT INTO my_first_table (ind, company, model) VALUES (2, 'Tesla', 'Model 3');\")\n",
    "session.execute(\"INSERT INTO my_first_table (ind, company, model) VALUES (3, 'Polestar', '3');\")"
   ]
  },
  {
   "cell_type": "markdown",
   "metadata": {
    "slideshow": {
     "slide_type": "slide"
    }
   },
   "source": [
    "### Asyncronous writing\n",
    "- If your application is very data intensive, waiting for a response is not productive.\n",
    "- Writing asyncronously sends the data but does not pause for reply."
   ]
  },
  {
   "cell_type": "code",
   "execution_count": 5,
   "metadata": {
    "slideshow": {
     "slide_type": "-"
    }
   },
   "outputs": [
    {
     "data": {
      "text/plain": [
       "<ResponseFuture: query='<SimpleStatement query=\"INSERT INTO my_first_table (ind, company, model) VALUES (4, 'Volkswagen', 'ID.4');\", consistency=Not Set>' request_id=24 result=(no result yet) exception=None coordinator_host=None>"
      ]
     },
     "execution_count": 5,
     "metadata": {},
     "output_type": "execute_result"
    }
   ],
   "source": [
    "session.execute_async(\"INSERT INTO my_first_table (ind, company, model) VALUES (4, 'Volkswagen', 'ID.4');\")"
   ]
  },
  {
   "cell_type": "code",
   "execution_count": 6,
   "metadata": {
    "slideshow": {
     "slide_type": "slide"
    }
   },
   "outputs": [
    {
     "name": "stdout",
     "output_type": "stream",
     "text": [
      "Row(ind=1, company='Tesla', model='Model S')\n",
      "Row(ind=2, company='Tesla', model='Model 3')\n",
      "Row(ind=4, company='Volkswagen', model='ID.4')\n",
      "Row(ind=3, company='Polestar', model='3')\n"
     ]
    }
   ],
   "source": [
    "# Query the data\n",
    "rows = session.execute(\"SELECT * FROM my_first_table;\")\n",
    "for i in rows:\n",
    "    print(i)"
   ]
  },
  {
   "cell_type": "code",
   "execution_count": 7,
   "metadata": {
    "slideshow": {
     "slide_type": "slide"
    },
    "tags": [
     "raises-exception"
    ]
   },
   "outputs": [
    {
     "ename": "InvalidRequest",
     "evalue": "Error from server: code=2200 [Invalid query] message=\"Cannot execute this query as it might involve data filtering and thus may have unpredictable performance. If you want to execute this query despite the performance unpredictability, use ALLOW FILTERING\"",
     "output_type": "error",
     "traceback": [
      "\u001b[0;31m---------------------------------------------------------------------------\u001b[0m",
      "\u001b[0;31mInvalidRequest\u001b[0m                            Traceback (most recent call last)",
      "Cell \u001b[0;32mIn [7], line 2\u001b[0m\n\u001b[1;32m      1\u001b[0m \u001b[38;5;66;03m# More specific query\u001b[39;00m\n\u001b[0;32m----> 2\u001b[0m prepared_statement \u001b[38;5;241m=\u001b[39m \u001b[43msession\u001b[49m\u001b[38;5;241;43m.\u001b[39;49m\u001b[43mprepare\u001b[49m\u001b[43m(\u001b[49m\u001b[38;5;124;43m\"\u001b[39;49m\u001b[38;5;124;43mSELECT * FROM my_first_table WHERE company=?;\u001b[39;49m\u001b[38;5;124;43m\"\u001b[39;49m\u001b[43m)\u001b[49m \u001b[38;5;66;03m# <- will fail as company is not a key\u001b[39;00m\n\u001b[1;32m      3\u001b[0m teslas \u001b[38;5;241m=\u001b[39m session\u001b[38;5;241m.\u001b[39mexecute(prepared_statement, [\u001b[38;5;124m'\u001b[39m\u001b[38;5;124mTesla\u001b[39m\u001b[38;5;124m'\u001b[39m])\n\u001b[1;32m      4\u001b[0m \u001b[38;5;28;01mfor\u001b[39;00m i \u001b[38;5;129;01min\u001b[39;00m teslas:\n",
      "File \u001b[0;32m~/miniforge3/envs/tf_M1/lib/python3.10/site-packages/cassandra/cluster.py:3088\u001b[0m, in \u001b[0;36mSession.prepare\u001b[0;34m(self, query, custom_payload, keyspace)\u001b[0m\n\u001b[1;32m   3086\u001b[0m \u001b[38;5;28;01mtry\u001b[39;00m:\n\u001b[1;32m   3087\u001b[0m     future\u001b[38;5;241m.\u001b[39msend_request()\n\u001b[0;32m-> 3088\u001b[0m     response \u001b[38;5;241m=\u001b[39m \u001b[43mfuture\u001b[49m\u001b[38;5;241;43m.\u001b[39;49m\u001b[43mresult\u001b[49m\u001b[43m(\u001b[49m\u001b[43m)\u001b[49m\u001b[38;5;241m.\u001b[39mone()\n\u001b[1;32m   3089\u001b[0m \u001b[38;5;28;01mexcept\u001b[39;00m \u001b[38;5;167;01mException\u001b[39;00m:\n\u001b[1;32m   3090\u001b[0m     log\u001b[38;5;241m.\u001b[39mexception(\u001b[38;5;124m\"\u001b[39m\u001b[38;5;124mError preparing query:\u001b[39m\u001b[38;5;124m\"\u001b[39m)\n",
      "File \u001b[0;32m~/miniforge3/envs/tf_M1/lib/python3.10/site-packages/cassandra/cluster.py:4920\u001b[0m, in \u001b[0;36mResponseFuture.result\u001b[0;34m(self)\u001b[0m\n\u001b[1;32m   4918\u001b[0m     \u001b[38;5;28;01mreturn\u001b[39;00m ResultSet(\u001b[38;5;28mself\u001b[39m, \u001b[38;5;28mself\u001b[39m\u001b[38;5;241m.\u001b[39m_final_result)\n\u001b[1;32m   4919\u001b[0m \u001b[38;5;28;01melse\u001b[39;00m:\n\u001b[0;32m-> 4920\u001b[0m     \u001b[38;5;28;01mraise\u001b[39;00m \u001b[38;5;28mself\u001b[39m\u001b[38;5;241m.\u001b[39m_final_exception\n",
      "\u001b[0;31mInvalidRequest\u001b[0m: Error from server: code=2200 [Invalid query] message=\"Cannot execute this query as it might involve data filtering and thus may have unpredictable performance. If you want to execute this query despite the performance unpredictability, use ALLOW FILTERING\""
     ]
    }
   ],
   "source": [
    "# More specific query\n",
    "prepared_statement = session.prepare(\"SELECT * FROM my_first_table WHERE company=?;\") # <- will fail as company is not a key\n",
    "teslas = session.execute(prepared_statement, ['Tesla'])\n",
    "for i in teslas:\n",
    "    print(i)"
   ]
  },
  {
   "cell_type": "markdown",
   "metadata": {
    "slideshow": {
     "slide_type": "slide"
    }
   },
   "source": [
    "## Cassandra filtering\n",
    "Cassandra is inherently a distributed production database. Selecting as above may require downloading all data from a node, then filtering based on the WHERE part (only PRIMARY KEYs are centrally known). Solutions:  \n",
    "- If the table is small or most of the data will satisfy the query, add ```ALLOW FILTERING``` at the end of the query (not recommended if not known). \n",
    "- Or make sure the WHERE clause points to one of the keys (see below)."
   ]
  },
  {
   "cell_type": "code",
   "execution_count": 8,
   "metadata": {
    "slideshow": {
     "slide_type": "slide"
    }
   },
   "outputs": [
    {
     "data": {
      "text/plain": [
       "<cassandra.cluster.ResultSet at 0x113b90be0>"
      ]
     },
     "execution_count": 8,
     "metadata": {},
     "output_type": "execute_result"
    }
   ],
   "source": [
    "# Create a new table (observe keys)\n",
    "session.execute(\"DROP TABLE IF EXISTS my_first_keyspace.car_table;\")\n",
    "session.execute(\"CREATE TABLE IF NOT EXISTS car_table (company text, model text, PRIMARY KEY(company, model));\")"
   ]
  },
  {
   "cell_type": "code",
   "execution_count": 9,
   "metadata": {
    "slideshow": {
     "slide_type": "fragment"
    }
   },
   "outputs": [
    {
     "data": {
      "text/plain": [
       "<cassandra.cluster.ResultSet at 0x117692560>"
      ]
     },
     "execution_count": 9,
     "metadata": {},
     "output_type": "execute_result"
    }
   ],
   "source": [
    "# Insert some data (combination of company and model must be unique)\n",
    "session.execute(\"INSERT INTO car_table (company, model) VALUES ('Tesla', 'Model S');\")\n",
    "session.execute(\"INSERT INTO car_table (company, model) VALUES ('Tesla', 'Model 3');\")\n",
    "session.execute(\"INSERT INTO car_table (company, model) VALUES ('Polestar', '3');\")\n",
    "session.execute(\"INSERT INTO car_table (company, model) VALUES ('Volkswagen', 'ID.4');\")"
   ]
  },
  {
   "cell_type": "code",
   "execution_count": 10,
   "metadata": {
    "slideshow": {
     "slide_type": "slide"
    }
   },
   "outputs": [
    {
     "name": "stdout",
     "output_type": "stream",
     "text": [
      "Row(company='Tesla', model='Model 3')\n",
      "Row(company='Tesla', model='Model S')\n"
     ]
    }
   ],
   "source": [
    "# More specific query now works\n",
    "prepared_statement = session.prepare(\"SELECT * FROM car_table WHERE company=?;\")\n",
    "teslas = session.execute(prepared_statement, ['Tesla'])\n",
    "for i in teslas:\n",
    "    print(i)"
   ]
  },
  {
   "cell_type": "markdown",
   "metadata": {
    "slideshow": {
     "slide_type": "slide"
    }
   },
   "source": [
    "### Partitions\n",
    "- Cassandra databases are usually replicated over different nodes.\n",
    "- Data is stored in partitions (subsets) which have local copys.\n",
    "- The primary key, e.g., PRIMARY KEY(company, model), is used in partitioning.\n",
    "    - The first part, e.g., company, is most important.\n",
    "    - All cars from a company will be located together, aiming for quicker queries."
   ]
  },
  {
   "cell_type": "markdown",
   "metadata": {
    "slideshow": {
     "slide_type": "slide"
    }
   },
   "source": [
    "### Unique IDs \n",
    "- In MySQL one could use the attribute AUTO_INCREMENT on integer IDs to automatically make a new unique index when inserting data.\n",
    "- This would cause unreasonable overhead in a distributed database.\n",
    "- [UUID](https://en.wikipedia.org/wiki/Universally_unique_identifier)s are used instead.\n",
    "    - Universally Unique Identifiers are typically 128-bit random bit sequences with extremely low probability of duplication.\n",
    "    - Cassandra uses a [timeuuid](https://docs.datastax.com/en/cql-oss/3.3/cql/cql_reference/timeuuid_functions_r.html) type to combine a timestamp and uuid in one."
   ]
  },
  {
   "cell_type": "code",
   "execution_count": 11,
   "metadata": {
    "slideshow": {
     "slide_type": "fragment"
    }
   },
   "outputs": [
    {
     "data": {
      "text/plain": [
       "<cassandra.cluster.ResultSet at 0x117692da0>"
      ]
     },
     "execution_count": 11,
     "metadata": {},
     "output_type": "execute_result"
    }
   ],
   "source": [
    "# Create a new table (first time only)\n",
    "session.set_keyspace('my_first_keyspace')\n",
    "session.execute(\"DROP TABLE IF EXISTS my_first_keyspace.table_with_uuid;\")\n",
    "session.execute(\"CREATE TABLE IF NOT EXISTS table_with_uuid (id timeuuid PRIMARY KEY, company text, model text, price float);\")"
   ]
  },
  {
   "cell_type": "code",
   "execution_count": 12,
   "metadata": {
    "slideshow": {
     "slide_type": "slide"
    }
   },
   "outputs": [
    {
     "data": {
      "text/plain": [
       "<cassandra.cluster.ResultSet at 0x117691510>"
      ]
     },
     "execution_count": 12,
     "metadata": {},
     "output_type": "execute_result"
    }
   ],
   "source": [
    "session.execute(\"INSERT INTO table_with_uuid (id, company, model, price) VALUES (now(), 'Tesla', 'Model S', 20000.0);\")\n",
    "session.execute(\"INSERT INTO table_with_uuid (id, company, model, price) VALUES (now(), 'Tesla', 'Model S', 21000.0);\")\n",
    "session.execute(\"INSERT INTO table_with_uuid (id, company, model, price) VALUES (now(), 'Oldsmobile', 'Model 6C', 135000.0);\")"
   ]
  },
  {
   "cell_type": "code",
   "execution_count": 13,
   "metadata": {
    "slideshow": {
     "slide_type": "slide"
    }
   },
   "outputs": [
    {
     "name": "stdout",
     "output_type": "stream",
     "text": [
      "Row(id=UUID('98c47740-6414-11ee-8b2f-4f23491759a5'), company='Tesla', model='Model S', price=20000.0)\n",
      "Datetime: 2023-10-06 06:50:12.020000\n",
      "Row(id=UUID('98c51380-6414-11ee-8b2f-4f23491759a5'), company='Tesla', model='Model S', price=21000.0)\n",
      "Datetime: 2023-10-06 06:50:12.024000\n",
      "Row(id=UUID('98c561a0-6414-11ee-8b2f-4f23491759a5'), company='Oldsmobile', model='Model 6C', price=135000.0)\n",
      "Datetime: 2023-10-06 06:50:12.026000\n"
     ]
    }
   ],
   "source": [
    "from cassandra.util import datetime_from_uuid1\n",
    "\n",
    "# Query the data\n",
    "rows = session.execute(\"SELECT * FROM table_with_uuid;\")\n",
    "for i in rows:\n",
    "    print(i)\n",
    "    # Extract the timestamp from Cassandra's timeuuid\n",
    "    print(\"Datetime:\", datetime_from_uuid1(i.id))"
   ]
  },
  {
   "cell_type": "markdown",
   "metadata": {
    "slideshow": {
     "slide_type": "slide"
    }
   },
   "source": [
    "## JSON in Cassandra\n",
    "### Read previously saved JSON file forecast.json to memory"
   ]
  },
  {
   "cell_type": "code",
   "execution_count": 14,
   "metadata": {
    "slideshow": {
     "slide_type": "-"
    }
   },
   "outputs": [],
   "source": [
    "import json\n",
    "with open('../3_APIs/downloads/forecast.json', 'r') as f:\n",
    "    forecast = json.load(f)"
   ]
  },
  {
   "cell_type": "code",
   "execution_count": 15,
   "metadata": {
    "slideshow": {
     "slide_type": "slide"
    }
   },
   "outputs": [
    {
     "data": {
      "text/plain": [
       "\"{'cod': '200', 'message': 0, 'cnt': 40, 'list': [{'dt': 1696453200, 'main': {'temp': 282.65, 'feels_like': 281.89, 'temp_min': 281.65, 'temp_max': 282.65, 'pressure': 1006, 'sea_level': 1006, 'grnd_level': 988, 'humidity': 73, 'temp_kf': 1}, 'weather': [{'id': 804, 'main': 'Clouds', 'description': 'overcast clouds', 'icon': '04n'}], 'clouds': {'all': 100}, 'wind': {'speed': 1.85, 'deg': 288, 'gust': 2.17}, 'visibility': 10000, 'pop': 0.09, 'sys': {'pod': 'n'}, 'dt_txt': '2023-10-04 21:00:00'}, {'dt': 1696464000, 'main': {'temp': 282.13, 'feels_like': 281.44, 'temp_min': 281.1, 'temp_max': 282.13, 'pressure': 1006, 'sea_level': 1006, 'grnd_level': 987, 'humidity': 76, 'temp_kf': 1.03}, 'weather': [{'id': 804, 'main': 'Clouds', 'description': 'overcast clouds', 'icon': '04n'}], 'clouds': {'all': 100}, 'wind': {'speed': 1.69, 'deg': 304, 'gust': 2.45}, 'visibility': 10000, 'pop': 0.05, 'sys': {'pod': 'n'}, 'dt_txt': '2023-10-05 00:00:00'}, {'dt': 1696474800, 'main': {'temp': 280.39, 'feels_like': 279.06, 'temp_min': 279.26, 'temp_max': 280.39, 'pressure': 1007, 'sea_level': 1007, 'grnd_level': 989, 'humidity': 81, 'temp_kf': 1.13}, 'weather': [{'id': 804, 'main': 'Clouds', 'description': 'overcast clouds', 'icon': '04n'}], 'clouds': {'all': 96}, 'wind': {'speed': 2.07, 'deg': 312, 'gust': 3.29}, 'visibility': 10000, 'pop': 0, 'sys': {'pod': 'n'}, 'dt_txt': '2023-10-05 03:00:00'}, {'dt': 1696485600, 'main': {'temp': 278.14, 'feels_like': 276.7, 'temp_min': 278.14, 'temp_max': 278.14, 'pressure': 1010, 'sea_level': 1010, 'grnd_level': 991, 'humidity': 85, 'temp_kf': 0}, 'weather': [{'id': 803, 'main': 'Clouds', 'description': 'broken clouds', 'icon': '04d'}], 'clouds': {'all': 65}, 'wind': {'speed': 1.82, 'deg': 321, 'gust': 2.42}, 'visibility': 10000, 'pop': 0, 'sys': {'pod': 'd'}, 'dt_txt': '2023-10-05 06:00:00'}, {'dt': 1696496400, 'main': {'temp': 283.72, 'feels_like': 282.43, 'temp_min': 283.72, 'temp_max': 283.72, 'pressure': 1012, 'sea_level': 1012, 'grnd_level': 994, 'humidity': 61, 'temp_kf': 0}, 'weather': [{'id': 801, 'main': 'Clouds', 'description': 'few clouds', 'icon': '02d'}], 'clouds': {'all': 14}, 'wind': {'speed': 0.06, 'deg': 64, 'gust': 0.81}, 'visibility': 10000, 'pop': 0, 'sys': {'pod': 'd'}, 'dt_txt': '2023-10-05 09:00:00'}, {'dt': 1696507200, 'main': {'temp': 286.36, 'feels_like': 285.07, 'temp_min': 286.36, 'temp_max': 286.36, 'pressure': 1012, 'sea_level': 1012, 'grnd_level': 994, 'humidity': 51, 'temp_kf': 0}, 'weather': [{'id': 801, 'main': 'Clouds', 'description': 'few clouds', 'icon': '02d'}], 'clouds': {'all': 14}, 'wind': {'speed': 1.16, 'deg': 192, 'gust': 2.29}, 'visibility': 10000, 'pop': 0, 'sys': {'pod': 'd'}, 'dt_txt': '2023-10-05 12:00:00'}, {'dt': 1696518000, 'main': {'temp': 286.04, 'feels_like': 284.82, 'temp_min': 286.04, 'temp_max': 286.04, 'pressure': 1012, 'sea_level': 1012, 'grnd_level': 994, 'humidity': 55, 'temp_kf': 0}, 'weather': [{'id': 803, 'main': 'Clouds', 'description': 'broken clouds', 'icon': '04d'}], 'clouds': {'all': 52}, 'wind': {'speed': 1.44, 'deg': 182, 'gust': 2.82}, 'visibility': 10000, 'pop': 0, 'sys': {'pod': 'd'}, 'dt_txt': '2023-10-05 15:00:00'}, {'dt': 1696528800, 'main': {'temp': 280.41, 'feels_like': 279.64, 'temp_min': 280.41, 'temp_max': 280.41, 'pressure': 1014, 'sea_level': 1014, 'grnd_level': 996, 'humidity': 75, 'temp_kf': 0}, 'weather': [{'id': 802, 'main': 'Clouds', 'description': 'scattered clouds', 'icon': '03n'}], 'clouds': {'all': 41}, 'wind': {'speed': 1.53, 'deg': 280, 'gust': 1.42}, 'visibility': 10000, 'pop': 0, 'sys': {'pod': 'n'}, 'dt_txt': '2023-10-05 18:00:00'}, {'dt': 1696539600, 'main': {'temp': 279.7, 'feels_like': 278.95, 'temp_min': 279.7, 'temp_max': 279.7, 'pressure': 1014, 'sea_level': 1014, 'grnd_level': 996, 'humidity': 76, 'temp_kf': 0}, 'weather': [{'id': 804, 'main': 'Clouds', 'description': 'overcast clouds', 'icon': '04n'}], 'clouds': {'all': 97}, 'wind': {'speed': 1.43, 'deg': 288, 'gust': 1.25}, 'visibility': 10000, 'pop': 0, 'sys': {'pod': 'n'}, 'dt_txt': '2023-10-05 21:00:00'}, {'dt': 1696550400, 'main': {'temp': 279.97, 'feels_like': 279.97, 'temp_min': 279.97, 'temp_max': 279.97, 'pressure': 1013, 'sea_level': 1013, 'grnd_level': 995, 'humidity': 75, 'temp_kf': 0}, 'weather': [{'id': 804, 'main': 'Clouds', 'description': 'overcast clouds', 'icon': '04n'}], 'clouds': {'all': 99}, 'wind': {'speed': 0.57, 'deg': 269, 'gust': 0.55}, 'visibility': 10000, 'pop': 0, 'sys': {'pod': 'n'}, 'dt_txt': '2023-10-06 00:00:00'}, {'dt': 1696561200, 'main': {'temp': 280.14, 'feels_like': 280.14, 'temp_min': 280.14, 'temp_max': 280.14, 'pressure': 1011, 'sea_level': 1011, 'grnd_level': 992, 'humidity': 77, 'temp_kf': 0}, 'weather': [{'id': 804, 'main': 'Clouds', 'description': 'overcast clouds', 'icon': '04n'}], 'clouds': {'all': 100}, 'wind': {'speed': 0.9, 'deg': 202, 'gust': 0.86}, 'visibility': 10000, 'pop': 0.12, 'sys': {'pod': 'n'}, 'dt_txt': '2023-10-06 03:00:00'}, {'dt': 1696572000, 'main': {'temp': 279.38, 'feels_like': 279.38, 'temp_min': 279.38, 'temp_max': 279.38, 'pressure': 1007, 'sea_level': 1007, 'grnd_level': 989, 'humidity': 95, 'temp_kf': 0}, 'weather': [{'id': 500, 'main': 'Rain', 'description': 'light rain', 'icon': '10d'}], 'clouds': {'all': 100}, 'wind': {'speed': 0.05, 'deg': 89, 'gust': 0.88}, 'visibility': 10000, 'pop': 1, 'rain': {'3h': 1.39}, 'sys': {'pod': 'd'}, 'dt_txt': '2023-10-06 06:00:00'}, {'dt': 1696582800, 'main': {'temp': 279.66, 'feels_like': 279.66, 'temp_min': 279.66, 'temp_max': 279.66, 'pressure': 1003, 'sea_level': 1003, 'grnd_level': 985, 'humidity': 95, 'temp_kf': 0}, 'weather': [{'id': 500, 'main': 'Rain', 'description': 'light rain', 'icon': '10d'}], 'clouds': {'all': 100}, 'wind': {'speed': 0.7, 'deg': 269, 'gust': 1.22}, 'visibility': 10000, 'pop': 0.47, 'rain': {'3h': 0.23}, 'sys': {'pod': 'd'}, 'dt_txt': '2023-10-06 09:00:00'}, {'dt': 1696593600, 'main': {'temp': 281.7, 'feels_like': 281.05, 'temp_min': 281.7, 'temp_max': 281.7, 'pressure': 999, 'sea_level': 999, 'grnd_level': 981, 'humidity': 90, 'temp_kf': 0}, 'weather': [{'id': 804, 'main': 'Clouds', 'description': 'overcast clouds', 'icon': '04d'}], 'clouds': {'all': 100}, 'wind': {'speed': 1.59, 'deg': 193, 'gust': 5}, 'visibility': 10000, 'pop': 0.09, 'sys': {'pod': 'd'}, 'dt_txt': '2023-10-06 12:00:00'}, {'dt': 1696604400, 'main': {'temp': 285.45, 'feels_like': 284.75, 'temp_min': 285.45, 'temp_max': 285.45, 'pressure': 996, 'sea_level': 996, 'grnd_level': 978, 'humidity': 77, 'temp_kf': 0}, 'weather': [{'id': 804, 'main': 'Clouds', 'description': 'overcast clouds', 'icon': '04d'}], 'clouds': {'all': 100}, 'wind': {'speed': 2.61, 'deg': 246, 'gust': 9.3}, 'visibility': 10000, 'pop': 0, 'sys': {'pod': 'd'}, 'dt_txt': '2023-10-06 15:00:00'}, {'dt': 1696615200, 'main': {'temp': 281.98, 'feels_like': 281.98, 'temp_min': 281.98, 'temp_max': 281.98, 'pressure': 996, 'sea_level': 996, 'grnd_level': 978, 'humidity': 86, 'temp_kf': 0}, 'weather': [{'id': 804, 'main': 'Clouds', 'description': 'overcast clouds', 'icon': '04n'}], 'clouds': {'all': 94}, 'wind': {'speed': 1.24, 'deg': 296, 'gust': 1.9}, 'visibility': 10000, 'pop': 0, 'sys': {'pod': 'n'}, 'dt_txt': '2023-10-06 18:00:00'}, {'dt': 1696626000, 'main': {'temp': 282.2, 'feels_like': 282.2, 'temp_min': 282.2, 'temp_max': 282.2, 'pressure': 997, 'sea_level': 997, 'grnd_level': 979, 'humidity': 89, 'temp_kf': 0}, 'weather': [{'id': 804, 'main': 'Clouds', 'description': 'overcast clouds', 'icon': '04n'}], 'clouds': {'all': 100}, 'wind': {'speed': 0.41, 'deg': 47, 'gust': 0.98}, 'visibility': 10000, 'pop': 0.07, 'sys': {'pod': 'n'}, 'dt_txt': '2023-10-06 21:00:00'}, {'dt': 1696636800, 'main': {'temp': 279.54, 'feels_like': 277.56, 'temp_min': 279.54, 'temp_max': 279.54, 'pressure': 1001, 'sea_level': 1001, 'grnd_level': 982, 'humidity': 96, 'temp_kf': 0}, 'weather': [{'id': 500, 'main': 'Rain', 'description': 'light rain', 'icon': '10n'}], 'clouds': {'all': 100}, 'wind': {'speed': 2.67, 'deg': 47, 'gust': 6.51}, 'visibility': 6894, 'pop': 0.56, 'rain': {'3h': 1.4}, 'sys': {'pod': 'n'}, 'dt_txt': '2023-10-07 00:00:00'}, {'dt': 1696647600, 'main': {'temp': 278.47, 'feels_like': 276.77, 'temp_min': 278.47, 'temp_max': 278.47, 'pressure': 1004, 'sea_level': 1004, 'grnd_level': 986, 'humidity': 96, 'temp_kf': 0}, 'weather': [{'id': 500, 'main': 'Rain', 'description': 'light rain', 'icon': '10n'}], 'clouds': {'all': 100}, 'wind': {'speed': 2.12, 'deg': 9, 'gust': 5.59}, 'visibility': 2178, 'pop': 0.95, 'rain': {'3h': 0.92}, 'sys': {'pod': 'n'}, 'dt_txt': '2023-10-07 03:00:00'}, {'dt': 1696658400, 'main': {'temp': 277.96, 'feels_like': 276.88, 'temp_min': 277.96, 'temp_max': 277.96, 'pressure': 1007, 'sea_level': 1007, 'grnd_level': 989, 'humidity': 92, 'temp_kf': 0}, 'weather': [{'id': 500, 'main': 'Rain', 'description': 'light rain', 'icon': '10d'}], 'clouds': {'all': 100}, 'wind': {'speed': 1.5, 'deg': 316, 'gust': 2.65}, 'visibility': 10000, 'pop': 0.89, 'rain': {'3h': 0.1}, 'sys': {'pod': 'd'}, 'dt_txt': '2023-10-07 06:00:00'}, {'dt': 1696669200, 'main': {'temp': 280.58, 'feels_like': 280.01, 'temp_min': 280.58, 'temp_max': 280.58, 'pressure': 1010, 'sea_level': 1010, 'grnd_level': 991, 'humidity': 65, 'temp_kf': 0}, 'weather': [{'id': 804, 'main': 'Clouds', 'description': 'overcast clouds', 'icon': '04d'}], 'clouds': {'all': 100}, 'wind': {'speed': 1.38, 'deg': 22, 'gust': 3.66}, 'visibility': 10000, 'pop': 0, 'sys': {'pod': 'd'}, 'dt_txt': '2023-10-07 09:00:00'}, {'dt': 1696680000, 'main': {'temp': 282.15, 'feels_like': 281.09, 'temp_min': 282.15, 'temp_max': 282.15, 'pressure': 1011, 'sea_level': 1011, 'grnd_level': 993, 'humidity': 48, 'temp_kf': 0}, 'weather': [{'id': 803, 'main': 'Clouds', 'description': 'broken clouds', 'icon': '04d'}], 'clouds': {'all': 81}, 'wind': {'speed': 2.11, 'deg': 22, 'gust': 3.78}, 'visibility': 10000, 'pop': 0, 'sys': {'pod': 'd'}, 'dt_txt': '2023-10-07 12:00:00'}, {'dt': 1696690800, 'main': {'temp': 280.86, 'feels_like': 280.06, 'temp_min': 280.86, 'temp_max': 280.86, 'pressure': 1014, 'sea_level': 1014, 'grnd_level': 995, 'humidity': 59, 'temp_kf': 0}, 'weather': [{'id': 804, 'main': 'Clouds', 'description': 'overcast clouds', 'icon': '04d'}], 'clouds': {'all': 100}, 'wind': {'speed': 1.61, 'deg': 26, 'gust': 2.6}, 'visibility': 10000, 'pop': 0, 'sys': {'pod': 'd'}, 'dt_txt': '2023-10-07 15:00:00'}, {'dt': 1696701600, 'main': {'temp': 276.68, 'feels_like': 275.11, 'temp_min': 276.68, 'temp_max': 276.68, 'pressure': 1018, 'sea_level': 1018, 'grnd_level': 999, 'humidity': 81, 'temp_kf': 0}, 'weather': [{'id': 803, 'main': 'Clouds', 'description': 'broken clouds', 'icon': '04n'}], 'clouds': {'all': 65}, 'wind': {'speed': 1.74, 'deg': 298, 'gust': 1.8}, 'visibility': 10000, 'pop': 0, 'sys': {'pod': 'n'}, 'dt_txt': '2023-10-07 18:00:00'}, {'dt': 1696712400, 'main': {'temp': 275.16, 'feels_like': 272.89, 'temp_min': 275.16, 'temp_max': 275.16, 'pressure': 1021, 'sea_level': 1021, 'grnd_level': 1002, 'humidity': 83, 'temp_kf': 0}, 'weather': [{'id': 800, 'main': 'Clear', 'description': 'clear sky', 'icon': '01n'}], 'clouds': {'all': 5}, 'wind': {'speed': 2.13, 'deg': 295, 'gust': 2.06}, 'visibility': 10000, 'pop': 0, 'sys': {'pod': 'n'}, 'dt_txt': '2023-10-07 21:00:00'}, {'dt': 1696723200, 'main': {'temp': 274.3, 'feels_like': 271.79, 'temp_min': 274.3, 'temp_max': 274.3, 'pressure': 1023, 'sea_level': 1023, 'grnd_level': 1004, 'humidity': 78, 'temp_kf': 0}, 'weather': [{'id': 800, 'main': 'Clear', 'description': 'clear sky', 'icon': '01n'}], 'clouds': {'all': 4}, 'wind': {'speed': 2.21, 'deg': 293, 'gust': 2.29}, 'visibility': 10000, 'pop': 0, 'sys': {'pod': 'n'}, 'dt_txt': '2023-10-08 00:00:00'}, {'dt': 1696734000, 'main': {'temp': 273.93, 'feels_like': 271.27, 'temp_min': 273.93, 'temp_max': 273.93, 'pressure': 1024, 'sea_level': 1024, 'grnd_level': 1005, 'humidity': 73, 'temp_kf': 0}, 'weather': [{'id': 800, 'main': 'Clear', 'description': 'clear sky', 'icon': '01n'}], 'clouds': {'all': 1}, 'wind': {'speed': 2.29, 'deg': 298, 'gust': 2.65}, 'visibility': 10000, 'pop': 0, 'sys': {'pod': 'n'}, 'dt_txt': '2023-10-08 03:00:00'}, {'dt': 1696744800, 'main': {'temp': 274.12, 'feels_like': 271.65, 'temp_min': 274.12, 'temp_max': 274.12, 'pressure': 1026, 'sea_level': 1026, 'grnd_level': 1007, 'humidity': 68, 'temp_kf': 0}, 'weather': [{'id': 800, 'main': 'Clear', 'description': 'clear sky', 'icon': '01d'}], 'clouds': {'all': 1}, 'wind': {'speed': 2.15, 'deg': 295, 'gust': 2.49}, 'visibility': 10000, 'pop': 0, 'sys': {'pod': 'd'}, 'dt_txt': '2023-10-08 06:00:00'}, {'dt': 1696755600, 'main': {'temp': 280.63, 'feels_like': 280.63, 'temp_min': 280.63, 'temp_max': 280.63, 'pressure': 1026, 'sea_level': 1026, 'grnd_level': 1008, 'humidity': 41, 'temp_kf': 0}, 'weather': [{'id': 800, 'main': 'Clear', 'description': 'clear sky', 'icon': '01d'}], 'clouds': {'all': 0}, 'wind': {'speed': 1.17, 'deg': 287, 'gust': 2.19}, 'visibility': 10000, 'pop': 0, 'sys': {'pod': 'd'}, 'dt_txt': '2023-10-08 09:00:00'}, {'dt': 1696766400, 'main': {'temp': 283.82, 'feels_like': 281.73, 'temp_min': 283.82, 'temp_max': 283.82, 'pressure': 1026, 'sea_level': 1026, 'grnd_level': 1007, 'humidity': 30, 'temp_kf': 0}, 'weather': [{'id': 800, 'main': 'Clear', 'description': 'clear sky', 'icon': '01d'}], 'clouds': {'all': 0}, 'wind': {'speed': 0.78, 'deg': 264, 'gust': 2.26}, 'visibility': 10000, 'pop': 0, 'sys': {'pod': 'd'}, 'dt_txt': '2023-10-08 12:00:00'}, {'dt': 1696777200, 'main': {'temp': 282.39, 'feels_like': 282.39, 'temp_min': 282.39, 'temp_max': 282.39, 'pressure': 1025, 'sea_level': 1025, 'grnd_level': 1006, 'humidity': 43, 'temp_kf': 0}, 'weather': [{'id': 801, 'main': 'Clouds', 'description': 'few clouds', 'icon': '02d'}], 'clouds': {'all': 12}, 'wind': {'speed': 0.77, 'deg': 171, 'gust': 1.33}, 'visibility': 10000, 'pop': 0, 'sys': {'pod': 'd'}, 'dt_txt': '2023-10-08 15:00:00'}, {'dt': 1696788000, 'main': {'temp': 277.43, 'feels_like': 277.43, 'temp_min': 277.43, 'temp_max': 277.43, 'pressure': 1025, 'sea_level': 1025, 'grnd_level': 1006, 'humidity': 58, 'temp_kf': 0}, 'weather': [{'id': 803, 'main': 'Clouds', 'description': 'broken clouds', 'icon': '04n'}], 'clouds': {'all': 56}, 'wind': {'speed': 1.32, 'deg': 321, 'gust': 1.35}, 'visibility': 10000, 'pop': 0, 'sys': {'pod': 'n'}, 'dt_txt': '2023-10-08 18:00:00'}, {'dt': 1696798800, 'main': {'temp': 276.26, 'feels_like': 274.86, 'temp_min': 276.26, 'temp_max': 276.26, 'pressure': 1024, 'sea_level': 1024, 'grnd_level': 1006, 'humidity': 65, 'temp_kf': 0}, 'weather': [{'id': 804, 'main': 'Clouds', 'description': 'overcast clouds', 'icon': '04n'}], 'clouds': {'all': 100}, 'wind': {'speed': 1.56, 'deg': 330, 'gust': 1.68}, 'visibility': 10000, 'pop': 0, 'sys': {'pod': 'n'}, 'dt_txt': '2023-10-08 21:00:00'}, {'dt': 1696809600, 'main': {'temp': 274.42, 'feels_like': 272.22, 'temp_min': 274.42, 'temp_max': 274.42, 'pressure': 1024, 'sea_level': 1024, 'grnd_level': 1005, 'humidity': 74, 'temp_kf': 0}, 'weather': [{'id': 803, 'main': 'Clouds', 'description': 'broken clouds', 'icon': '04n'}], 'clouds': {'all': 51}, 'wind': {'speed': 1.96, 'deg': 330, 'gust': 2.02}, 'visibility': 10000, 'pop': 0, 'sys': {'pod': 'n'}, 'dt_txt': '2023-10-09 00:00:00'}, {'dt': 1696820400, 'main': {'temp': 274.51, 'feels_like': 272.96, 'temp_min': 274.51, 'temp_max': 274.51, 'pressure': 1021, 'sea_level': 1021, 'grnd_level': 1002, 'humidity': 73, 'temp_kf': 0}, 'weather': [{'id': 803, 'main': 'Clouds', 'description': 'broken clouds', 'icon': '04n'}], 'clouds': {'all': 67}, 'wind': {'speed': 1.49, 'deg': 333, 'gust': 1.56}, 'visibility': 10000, 'pop': 0, 'sys': {'pod': 'n'}, 'dt_txt': '2023-10-09 03:00:00'}, {'dt': 1696831200, 'main': {'temp': 274.39, 'feels_like': 274.39, 'temp_min': 274.39, 'temp_max': 274.39, 'pressure': 1019, 'sea_level': 1019, 'grnd_level': 1000, 'humidity': 72, 'temp_kf': 0}, 'weather': [{'id': 803, 'main': 'Clouds', 'description': 'broken clouds', 'icon': '04d'}], 'clouds': {'all': 81}, 'wind': {'speed': 0.99, 'deg': 340, 'gust': 0.97}, 'visibility': 10000, 'pop': 0, 'sys': {'pod': 'd'}, 'dt_txt': '2023-10-09 06:00:00'}, {'dt': 1696842000, 'main': {'temp': 277.92, 'feels_like': 277.92, 'temp_min': 277.92, 'temp_max': 277.92, 'pressure': 1017, 'sea_level': 1017, 'grnd_level': 998, 'humidity': 56, 'temp_kf': 0}, 'weather': [{'id': 804, 'main': 'Clouds', 'description': 'overcast clouds', 'icon': '04d'}], 'clouds': {'all': 98}, 'wind': {'speed': 0.66, 'deg': 56, 'gust': 0.89}, 'visibility': 10000, 'pop': 0, 'sys': {'pod': 'd'}, 'dt_txt': '2023-10-09 09:00:00'}, {'dt': 1696852800, 'main': {'temp': 280.75, 'feels_like': 280.75, 'temp_min': 280.75, 'temp_max': 280.75, 'pressure': 1014, 'sea_level': 1014, 'grnd_level': 996, 'humidity': 46, 'temp_kf': 0}, 'weather': [{'id': 804, 'main': 'Clouds', 'description': 'overcast clouds', 'icon': '04d'}], 'clouds': {'all': 99}, 'wind': {'speed': 0.45, 'deg': 58, 'gust': 1.62}, 'visibility': 10000, 'pop': 0, 'sys': {'pod': 'd'}, 'dt_txt': '2023-10-09 12:00:00'}, {'dt': 1696863600, 'main': {'temp': 279.93, 'feels_like': 279.93, 'temp_min': 279.93, 'temp_max': 279.93, 'pressure': 1012, 'sea_level': 1012, 'grnd_level': 994, 'humidity': 55, 'temp_kf': 0}, 'weather': [{'id': 804, 'main': 'Clouds', 'description': 'overcast clouds', 'icon': '04d'}], 'clouds': {'all': 100}, 'wind': {'speed': 0.91, 'deg': 96, 'gust': 1.02}, 'visibility': 10000, 'pop': 0, 'sys': {'pod': 'd'}, 'dt_txt': '2023-10-09 15:00:00'}, {'dt': 1696874400, 'main': {'temp': 275.56, 'feels_like': 274.19, 'temp_min': 275.56, 'temp_max': 275.56, 'pressure': 1013, 'sea_level': 1013, 'grnd_level': 995, 'humidity': 70, 'temp_kf': 0}, 'weather': [{'id': 804, 'main': 'Clouds', 'description': 'overcast clouds', 'icon': '04n'}], 'clouds': {'all': 97}, 'wind': {'speed': 1.47, 'deg': 344, 'gust': 1.32}, 'visibility': 10000, 'pop': 0, 'sys': {'pod': 'n'}, 'dt_txt': '2023-10-09 18:00:00'}], 'city': {'id': 3144113, 'name': 'Noresund', 'coord': {'lat': 60.1803, 'lon': 9.6231}, 'country': 'NO', 'population': 1000, 'timezone': 7200, 'sunrise': 1696397584, 'sunset': 1696438047}}\""
      ]
     },
     "execution_count": 15,
     "metadata": {},
     "output_type": "execute_result"
    }
   ],
   "source": [
    "# Inspect JSON file\n",
    "forecast.__str__()"
   ]
  },
  {
   "cell_type": "markdown",
   "metadata": {
    "slideshow": {
     "slide_type": "slide"
    }
   },
   "source": [
    "## Raw JSON\n",
    "- A simple, but not very efficient way of storing JSON data is to treat it as a text and save it directly to the database.  \n",
    "- More efficient, with regard to transfer, is to compress the JSON data to a blob first.\n",
    "    - Compression is automatic."
   ]
  },
  {
   "cell_type": "code",
   "execution_count": 16,
   "metadata": {
    "slideshow": {
     "slide_type": "-"
    }
   },
   "outputs": [
    {
     "data": {
      "text/plain": [
       "<cassandra.cluster.ResultSet at 0x1176922c0>"
      ]
     },
     "execution_count": 16,
     "metadata": {},
     "output_type": "execute_result"
    }
   ],
   "source": [
    "# Create a new table which treats the whole JSON as a blob, using the city id and the first dt as keys\n",
    "session.set_keyspace('my_first_keyspace')\n",
    "session.execute(\"DROP TABLE IF EXISTS my_first_keyspace.forecast_table;\")\n",
    "session.execute(\"CREATE TABLE IF NOT EXISTS forecast_table (city_id int, dt int, forecast blob, PRIMARY KEY(city_id, dt));\")"
   ]
  },
  {
   "cell_type": "markdown",
   "metadata": {
    "slideshow": {
     "slide_type": "slide"
    }
   },
   "source": [
    "### Insert the forecast data into the table as text blob"
   ]
  },
  {
   "cell_type": "code",
   "execution_count": 17,
   "metadata": {
    "slideshow": {
     "slide_type": "-"
    }
   },
   "outputs": [
    {
     "data": {
      "text/plain": [
       "<cassandra.cluster.ResultSet at 0x1176a4b80>"
      ]
     },
     "execution_count": 17,
     "metadata": {},
     "output_type": "execute_result"
    }
   ],
   "source": [
    "session.execute(\"INSERT INTO forecast_table (city_id, dt, forecast) VALUES (%s, %s, textAsBlob(%s));\", (forecast['city']['id'], forecast['list'][0]['dt'], forecast.__str__()))"
   ]
  },
  {
   "cell_type": "code",
   "execution_count": 18,
   "metadata": {
    "slideshow": {
     "slide_type": "slide"
    }
   },
   "outputs": [
    {
     "name": "stdout",
     "output_type": "stream",
     "text": [
      "Row(city_id=3144113, dt=1696453200, forecast=b\"{'cod': '200', 'message': 0, 'cnt': 40, 'list': [{'dt': 1696453200, 'main': {'temp': 282.65, 'feels_like': 281.89, 'temp_min': 281.65, 'temp_max': 282.65, 'pressure': 1006, 'sea_level': 1006, 'grnd_level': 988, 'humidity': 73, 'temp_kf': 1}, 'weather': [{'id': 804, 'main': 'Clouds', 'description': 'overcast clouds', 'icon': '04n'}], 'clouds': {'all': 100}, 'wind': {'speed': 1.85, 'deg': 288, 'gust': 2.17}, 'visibility': 10000, 'pop': 0.09, 'sys': {'pod': 'n'}, 'dt_txt': '2023-10-04 21:00:00'}, {'dt': 1696464000, 'main': {'temp': 282.13, 'feels_like': 281.44, 'temp_min': 281.1, 'temp_max': 282.13, 'pressure': 1006, 'sea_level': 1006, 'grnd_level': 987, 'humidity': 76, 'temp_kf': 1.03}, 'weather': [{'id': 804, 'main': 'Clouds', 'description': 'overcast clouds', 'icon': '04n'}], 'clouds': {'all': 100}, 'wind': {'speed': 1.69, 'deg': 304, 'gust': 2.45}, 'visibility': 10000, 'pop': 0.05, 'sys': {'pod': 'n'}, 'dt_txt': '2023-10-05 00:00:00'}, {'dt': 1696474800, 'main': {'temp': 280.39, 'feels_like': 279.06, 'temp_min': 279.26, 'temp_max': 280.39, 'pressure': 1007, 'sea_level': 1007, 'grnd_level': 989, 'humidity': 81, 'temp_kf': 1.13}, 'weather': [{'id': 804, 'main': 'Clouds', 'description': 'overcast clouds', 'icon': '04n'}], 'clouds': {'all': 96}, 'wind': {'speed': 2.07, 'deg': 312, 'gust': 3.29}, 'visibility': 10000, 'pop': 0, 'sys': {'pod': 'n'}, 'dt_txt': '2023-10-05 03:00:00'}, {'dt': 1696485600, 'main': {'temp': 278.14, 'feels_like': 276.7, 'temp_min': 278.14, 'temp_max': 278.14, 'pressure': 1010, 'sea_level': 1010, 'grnd_level': 991, 'humidity': 85, 'temp_kf': 0}, 'weather': [{'id': 803, 'main': 'Clouds', 'description': 'broken clouds', 'icon': '04d'}], 'clouds': {'all': 65}, 'wind': {'speed': 1.82, 'deg': 321, 'gust': 2.42}, 'visibility': 10000, 'pop': 0, 'sys': {'pod': 'd'}, 'dt_txt': '2023-10-05 06:00:00'}, {'dt': 1696496400, 'main': {'temp': 283.72, 'feels_like': 282.43, 'temp_min': 283.72, 'temp_max': 283.72, 'pressure': 1012, 'sea_level': 1012, 'grnd_level': 994, 'humidity': 61, 'temp_kf': 0}, 'weather': [{'id': 801, 'main': 'Clouds', 'description': 'few clouds', 'icon': '02d'}], 'clouds': {'all': 14}, 'wind': {'speed': 0.06, 'deg': 64, 'gust': 0.81}, 'visibility': 10000, 'pop': 0, 'sys': {'pod': 'd'}, 'dt_txt': '2023-10-05 09:00:00'}, {'dt': 1696507200, 'main': {'temp': 286.36, 'feels_like': 285.07, 'temp_min': 286.36, 'temp_max': 286.36, 'pressure': 1012, 'sea_level': 1012, 'grnd_level': 994, 'humidity': 51, 'temp_kf': 0}, 'weather': [{'id': 801, 'main': 'Clouds', 'description': 'few clouds', 'icon': '02d'}], 'clouds': {'all': 14}, 'wind': {'speed': 1.16, 'deg': 192, 'gust': 2.29}, 'visibility': 10000, 'pop': 0, 'sys': {'pod': 'd'}, 'dt_txt': '2023-10-05 12:00:00'}, {'dt': 1696518000, 'main': {'temp': 286.04, 'feels_like': 284.82, 'temp_min': 286.04, 'temp_max': 286.04, 'pressure': 1012, 'sea_level': 1012, 'grnd_level': 994, 'humidity': 55, 'temp_kf': 0}, 'weather': [{'id': 803, 'main': 'Clouds', 'description': 'broken clouds', 'icon': '04d'}], 'clouds': {'all': 52}, 'wind': {'speed': 1.44, 'deg': 182, 'gust': 2.82}, 'visibility': 10000, 'pop': 0, 'sys': {'pod': 'd'}, 'dt_txt': '2023-10-05 15:00:00'}, {'dt': 1696528800, 'main': {'temp': 280.41, 'feels_like': 279.64, 'temp_min': 280.41, 'temp_max': 280.41, 'pressure': 1014, 'sea_level': 1014, 'grnd_level': 996, 'humidity': 75, 'temp_kf': 0}, 'weather': [{'id': 802, 'main': 'Clouds', 'description': 'scattered clouds', 'icon': '03n'}], 'clouds': {'all': 41}, 'wind': {'speed': 1.53, 'deg': 280, 'gust': 1.42}, 'visibility': 10000, 'pop': 0, 'sys': {'pod': 'n'}, 'dt_txt': '2023-10-05 18:00:00'}, {'dt': 1696539600, 'main': {'temp': 279.7, 'feels_like': 278.95, 'temp_min': 279.7, 'temp_max': 279.7, 'pressure': 1014, 'sea_level': 1014, 'grnd_level': 996, 'humidity': 76, 'temp_kf': 0}, 'weather': [{'id': 804, 'main': 'Clouds', 'description': 'overcast clouds', 'icon': '04n'}], 'clouds': {'all': 97}, 'wind': {'speed': 1.43, 'deg': 288, 'gust': 1.25}, 'visibility': 10000, 'pop': 0, 'sys': {'pod': 'n'}, 'dt_txt': '2023-10-05 21:00:00'}, {'dt': 1696550400, 'main': {'temp': 279.97, 'feels_like': 279.97, 'temp_min': 279.97, 'temp_max': 279.97, 'pressure': 1013, 'sea_level': 1013, 'grnd_level': 995, 'humidity': 75, 'temp_kf': 0}, 'weather': [{'id': 804, 'main': 'Clouds', 'description': 'overcast clouds', 'icon': '04n'}], 'clouds': {'all': 99}, 'wind': {'speed': 0.57, 'deg': 269, 'gust': 0.55}, 'visibility': 10000, 'pop': 0, 'sys': {'pod': 'n'}, 'dt_txt': '2023-10-06 00:00:00'}, {'dt': 1696561200, 'main': {'temp': 280.14, 'feels_like': 280.14, 'temp_min': 280.14, 'temp_max': 280.14, 'pressure': 1011, 'sea_level': 1011, 'grnd_level': 992, 'humidity': 77, 'temp_kf': 0}, 'weather': [{'id': 804, 'main': 'Clouds', 'description': 'overcast clouds', 'icon': '04n'}], 'clouds': {'all': 100}, 'wind': {'speed': 0.9, 'deg': 202, 'gust': 0.86}, 'visibility': 10000, 'pop': 0.12, 'sys': {'pod': 'n'}, 'dt_txt': '2023-10-06 03:00:00'}, {'dt': 1696572000, 'main': {'temp': 279.38, 'feels_like': 279.38, 'temp_min': 279.38, 'temp_max': 279.38, 'pressure': 1007, 'sea_level': 1007, 'grnd_level': 989, 'humidity': 95, 'temp_kf': 0}, 'weather': [{'id': 500, 'main': 'Rain', 'description': 'light rain', 'icon': '10d'}], 'clouds': {'all': 100}, 'wind': {'speed': 0.05, 'deg': 89, 'gust': 0.88}, 'visibility': 10000, 'pop': 1, 'rain': {'3h': 1.39}, 'sys': {'pod': 'd'}, 'dt_txt': '2023-10-06 06:00:00'}, {'dt': 1696582800, 'main': {'temp': 279.66, 'feels_like': 279.66, 'temp_min': 279.66, 'temp_max': 279.66, 'pressure': 1003, 'sea_level': 1003, 'grnd_level': 985, 'humidity': 95, 'temp_kf': 0}, 'weather': [{'id': 500, 'main': 'Rain', 'description': 'light rain', 'icon': '10d'}], 'clouds': {'all': 100}, 'wind': {'speed': 0.7, 'deg': 269, 'gust': 1.22}, 'visibility': 10000, 'pop': 0.47, 'rain': {'3h': 0.23}, 'sys': {'pod': 'd'}, 'dt_txt': '2023-10-06 09:00:00'}, {'dt': 1696593600, 'main': {'temp': 281.7, 'feels_like': 281.05, 'temp_min': 281.7, 'temp_max': 281.7, 'pressure': 999, 'sea_level': 999, 'grnd_level': 981, 'humidity': 90, 'temp_kf': 0}, 'weather': [{'id': 804, 'main': 'Clouds', 'description': 'overcast clouds', 'icon': '04d'}], 'clouds': {'all': 100}, 'wind': {'speed': 1.59, 'deg': 193, 'gust': 5}, 'visibility': 10000, 'pop': 0.09, 'sys': {'pod': 'd'}, 'dt_txt': '2023-10-06 12:00:00'}, {'dt': 1696604400, 'main': {'temp': 285.45, 'feels_like': 284.75, 'temp_min': 285.45, 'temp_max': 285.45, 'pressure': 996, 'sea_level': 996, 'grnd_level': 978, 'humidity': 77, 'temp_kf': 0}, 'weather': [{'id': 804, 'main': 'Clouds', 'description': 'overcast clouds', 'icon': '04d'}], 'clouds': {'all': 100}, 'wind': {'speed': 2.61, 'deg': 246, 'gust': 9.3}, 'visibility': 10000, 'pop': 0, 'sys': {'pod': 'd'}, 'dt_txt': '2023-10-06 15:00:00'}, {'dt': 1696615200, 'main': {'temp': 281.98, 'feels_like': 281.98, 'temp_min': 281.98, 'temp_max': 281.98, 'pressure': 996, 'sea_level': 996, 'grnd_level': 978, 'humidity': 86, 'temp_kf': 0}, 'weather': [{'id': 804, 'main': 'Clouds', 'description': 'overcast clouds', 'icon': '04n'}], 'clouds': {'all': 94}, 'wind': {'speed': 1.24, 'deg': 296, 'gust': 1.9}, 'visibility': 10000, 'pop': 0, 'sys': {'pod': 'n'}, 'dt_txt': '2023-10-06 18:00:00'}, {'dt': 1696626000, 'main': {'temp': 282.2, 'feels_like': 282.2, 'temp_min': 282.2, 'temp_max': 282.2, 'pressure': 997, 'sea_level': 997, 'grnd_level': 979, 'humidity': 89, 'temp_kf': 0}, 'weather': [{'id': 804, 'main': 'Clouds', 'description': 'overcast clouds', 'icon': '04n'}], 'clouds': {'all': 100}, 'wind': {'speed': 0.41, 'deg': 47, 'gust': 0.98}, 'visibility': 10000, 'pop': 0.07, 'sys': {'pod': 'n'}, 'dt_txt': '2023-10-06 21:00:00'}, {'dt': 1696636800, 'main': {'temp': 279.54, 'feels_like': 277.56, 'temp_min': 279.54, 'temp_max': 279.54, 'pressure': 1001, 'sea_level': 1001, 'grnd_level': 982, 'humidity': 96, 'temp_kf': 0}, 'weather': [{'id': 500, 'main': 'Rain', 'description': 'light rain', 'icon': '10n'}], 'clouds': {'all': 100}, 'wind': {'speed': 2.67, 'deg': 47, 'gust': 6.51}, 'visibility': 6894, 'pop': 0.56, 'rain': {'3h': 1.4}, 'sys': {'pod': 'n'}, 'dt_txt': '2023-10-07 00:00:00'}, {'dt': 1696647600, 'main': {'temp': 278.47, 'feels_like': 276.77, 'temp_min': 278.47, 'temp_max': 278.47, 'pressure': 1004, 'sea_level': 1004, 'grnd_level': 986, 'humidity': 96, 'temp_kf': 0}, 'weather': [{'id': 500, 'main': 'Rain', 'description': 'light rain', 'icon': '10n'}], 'clouds': {'all': 100}, 'wind': {'speed': 2.12, 'deg': 9, 'gust': 5.59}, 'visibility': 2178, 'pop': 0.95, 'rain': {'3h': 0.92}, 'sys': {'pod': 'n'}, 'dt_txt': '2023-10-07 03:00:00'}, {'dt': 1696658400, 'main': {'temp': 277.96, 'feels_like': 276.88, 'temp_min': 277.96, 'temp_max': 277.96, 'pressure': 1007, 'sea_level': 1007, 'grnd_level': 989, 'humidity': 92, 'temp_kf': 0}, 'weather': [{'id': 500, 'main': 'Rain', 'description': 'light rain', 'icon': '10d'}], 'clouds': {'all': 100}, 'wind': {'speed': 1.5, 'deg': 316, 'gust': 2.65}, 'visibility': 10000, 'pop': 0.89, 'rain': {'3h': 0.1}, 'sys': {'pod': 'd'}, 'dt_txt': '2023-10-07 06:00:00'}, {'dt': 1696669200, 'main': {'temp': 280.58, 'feels_like': 280.01, 'temp_min': 280.58, 'temp_max': 280.58, 'pressure': 1010, 'sea_level': 1010, 'grnd_level': 991, 'humidity': 65, 'temp_kf': 0}, 'weather': [{'id': 804, 'main': 'Clouds', 'description': 'overcast clouds', 'icon': '04d'}], 'clouds': {'all': 100}, 'wind': {'speed': 1.38, 'deg': 22, 'gust': 3.66}, 'visibility': 10000, 'pop': 0, 'sys': {'pod': 'd'}, 'dt_txt': '2023-10-07 09:00:00'}, {'dt': 1696680000, 'main': {'temp': 282.15, 'feels_like': 281.09, 'temp_min': 282.15, 'temp_max': 282.15, 'pressure': 1011, 'sea_level': 1011, 'grnd_level': 993, 'humidity': 48, 'temp_kf': 0}, 'weather': [{'id': 803, 'main': 'Clouds', 'description': 'broken clouds', 'icon': '04d'}], 'clouds': {'all': 81}, 'wind': {'speed': 2.11, 'deg': 22, 'gust': 3.78}, 'visibility': 10000, 'pop': 0, 'sys': {'pod': 'd'}, 'dt_txt': '2023-10-07 12:00:00'}, {'dt': 1696690800, 'main': {'temp': 280.86, 'feels_like': 280.06, 'temp_min': 280.86, 'temp_max': 280.86, 'pressure': 1014, 'sea_level': 1014, 'grnd_level': 995, 'humidity': 59, 'temp_kf': 0}, 'weather': [{'id': 804, 'main': 'Clouds', 'description': 'overcast clouds', 'icon': '04d'}], 'clouds': {'all': 100}, 'wind': {'speed': 1.61, 'deg': 26, 'gust': 2.6}, 'visibility': 10000, 'pop': 0, 'sys': {'pod': 'd'}, 'dt_txt': '2023-10-07 15:00:00'}, {'dt': 1696701600, 'main': {'temp': 276.68, 'feels_like': 275.11, 'temp_min': 276.68, 'temp_max': 276.68, 'pressure': 1018, 'sea_level': 1018, 'grnd_level': 999, 'humidity': 81, 'temp_kf': 0}, 'weather': [{'id': 803, 'main': 'Clouds', 'description': 'broken clouds', 'icon': '04n'}], 'clouds': {'all': 65}, 'wind': {'speed': 1.74, 'deg': 298, 'gust': 1.8}, 'visibility': 10000, 'pop': 0, 'sys': {'pod': 'n'}, 'dt_txt': '2023-10-07 18:00:00'}, {'dt': 1696712400, 'main': {'temp': 275.16, 'feels_like': 272.89, 'temp_min': 275.16, 'temp_max': 275.16, 'pressure': 1021, 'sea_level': 1021, 'grnd_level': 1002, 'humidity': 83, 'temp_kf': 0}, 'weather': [{'id': 800, 'main': 'Clear', 'description': 'clear sky', 'icon': '01n'}], 'clouds': {'all': 5}, 'wind': {'speed': 2.13, 'deg': 295, 'gust': 2.06}, 'visibility': 10000, 'pop': 0, 'sys': {'pod': 'n'}, 'dt_txt': '2023-10-07 21:00:00'}, {'dt': 1696723200, 'main': {'temp': 274.3, 'feels_like': 271.79, 'temp_min': 274.3, 'temp_max': 274.3, 'pressure': 1023, 'sea_level': 1023, 'grnd_level': 1004, 'humidity': 78, 'temp_kf': 0}, 'weather': [{'id': 800, 'main': 'Clear', 'description': 'clear sky', 'icon': '01n'}], 'clouds': {'all': 4}, 'wind': {'speed': 2.21, 'deg': 293, 'gust': 2.29}, 'visibility': 10000, 'pop': 0, 'sys': {'pod': 'n'}, 'dt_txt': '2023-10-08 00:00:00'}, {'dt': 1696734000, 'main': {'temp': 273.93, 'feels_like': 271.27, 'temp_min': 273.93, 'temp_max': 273.93, 'pressure': 1024, 'sea_level': 1024, 'grnd_level': 1005, 'humidity': 73, 'temp_kf': 0}, 'weather': [{'id': 800, 'main': 'Clear', 'description': 'clear sky', 'icon': '01n'}], 'clouds': {'all': 1}, 'wind': {'speed': 2.29, 'deg': 298, 'gust': 2.65}, 'visibility': 10000, 'pop': 0, 'sys': {'pod': 'n'}, 'dt_txt': '2023-10-08 03:00:00'}, {'dt': 1696744800, 'main': {'temp': 274.12, 'feels_like': 271.65, 'temp_min': 274.12, 'temp_max': 274.12, 'pressure': 1026, 'sea_level': 1026, 'grnd_level': 1007, 'humidity': 68, 'temp_kf': 0}, 'weather': [{'id': 800, 'main': 'Clear', 'description': 'clear sky', 'icon': '01d'}], 'clouds': {'all': 1}, 'wind': {'speed': 2.15, 'deg': 295, 'gust': 2.49}, 'visibility': 10000, 'pop': 0, 'sys': {'pod': 'd'}, 'dt_txt': '2023-10-08 06:00:00'}, {'dt': 1696755600, 'main': {'temp': 280.63, 'feels_like': 280.63, 'temp_min': 280.63, 'temp_max': 280.63, 'pressure': 1026, 'sea_level': 1026, 'grnd_level': 1008, 'humidity': 41, 'temp_kf': 0}, 'weather': [{'id': 800, 'main': 'Clear', 'description': 'clear sky', 'icon': '01d'}], 'clouds': {'all': 0}, 'wind': {'speed': 1.17, 'deg': 287, 'gust': 2.19}, 'visibility': 10000, 'pop': 0, 'sys': {'pod': 'd'}, 'dt_txt': '2023-10-08 09:00:00'}, {'dt': 1696766400, 'main': {'temp': 283.82, 'feels_like': 281.73, 'temp_min': 283.82, 'temp_max': 283.82, 'pressure': 1026, 'sea_level': 1026, 'grnd_level': 1007, 'humidity': 30, 'temp_kf': 0}, 'weather': [{'id': 800, 'main': 'Clear', 'description': 'clear sky', 'icon': '01d'}], 'clouds': {'all': 0}, 'wind': {'speed': 0.78, 'deg': 264, 'gust': 2.26}, 'visibility': 10000, 'pop': 0, 'sys': {'pod': 'd'}, 'dt_txt': '2023-10-08 12:00:00'}, {'dt': 1696777200, 'main': {'temp': 282.39, 'feels_like': 282.39, 'temp_min': 282.39, 'temp_max': 282.39, 'pressure': 1025, 'sea_level': 1025, 'grnd_level': 1006, 'humidity': 43, 'temp_kf': 0}, 'weather': [{'id': 801, 'main': 'Clouds', 'description': 'few clouds', 'icon': '02d'}], 'clouds': {'all': 12}, 'wind': {'speed': 0.77, 'deg': 171, 'gust': 1.33}, 'visibility': 10000, 'pop': 0, 'sys': {'pod': 'd'}, 'dt_txt': '2023-10-08 15:00:00'}, {'dt': 1696788000, 'main': {'temp': 277.43, 'feels_like': 277.43, 'temp_min': 277.43, 'temp_max': 277.43, 'pressure': 1025, 'sea_level': 1025, 'grnd_level': 1006, 'humidity': 58, 'temp_kf': 0}, 'weather': [{'id': 803, 'main': 'Clouds', 'description': 'broken clouds', 'icon': '04n'}], 'clouds': {'all': 56}, 'wind': {'speed': 1.32, 'deg': 321, 'gust': 1.35}, 'visibility': 10000, 'pop': 0, 'sys': {'pod': 'n'}, 'dt_txt': '2023-10-08 18:00:00'}, {'dt': 1696798800, 'main': {'temp': 276.26, 'feels_like': 274.86, 'temp_min': 276.26, 'temp_max': 276.26, 'pressure': 1024, 'sea_level': 1024, 'grnd_level': 1006, 'humidity': 65, 'temp_kf': 0}, 'weather': [{'id': 804, 'main': 'Clouds', 'description': 'overcast clouds', 'icon': '04n'}], 'clouds': {'all': 100}, 'wind': {'speed': 1.56, 'deg': 330, 'gust': 1.68}, 'visibility': 10000, 'pop': 0, 'sys': {'pod': 'n'}, 'dt_txt': '2023-10-08 21:00:00'}, {'dt': 1696809600, 'main': {'temp': 274.42, 'feels_like': 272.22, 'temp_min': 274.42, 'temp_max': 274.42, 'pressure': 1024, 'sea_level': 1024, 'grnd_level': 1005, 'humidity': 74, 'temp_kf': 0}, 'weather': [{'id': 803, 'main': 'Clouds', 'description': 'broken clouds', 'icon': '04n'}], 'clouds': {'all': 51}, 'wind': {'speed': 1.96, 'deg': 330, 'gust': 2.02}, 'visibility': 10000, 'pop': 0, 'sys': {'pod': 'n'}, 'dt_txt': '2023-10-09 00:00:00'}, {'dt': 1696820400, 'main': {'temp': 274.51, 'feels_like': 272.96, 'temp_min': 274.51, 'temp_max': 274.51, 'pressure': 1021, 'sea_level': 1021, 'grnd_level': 1002, 'humidity': 73, 'temp_kf': 0}, 'weather': [{'id': 803, 'main': 'Clouds', 'description': 'broken clouds', 'icon': '04n'}], 'clouds': {'all': 67}, 'wind': {'speed': 1.49, 'deg': 333, 'gust': 1.56}, 'visibility': 10000, 'pop': 0, 'sys': {'pod': 'n'}, 'dt_txt': '2023-10-09 03:00:00'}, {'dt': 1696831200, 'main': {'temp': 274.39, 'feels_like': 274.39, 'temp_min': 274.39, 'temp_max': 274.39, 'pressure': 1019, 'sea_level': 1019, 'grnd_level': 1000, 'humidity': 72, 'temp_kf': 0}, 'weather': [{'id': 803, 'main': 'Clouds', 'description': 'broken clouds', 'icon': '04d'}], 'clouds': {'all': 81}, 'wind': {'speed': 0.99, 'deg': 340, 'gust': 0.97}, 'visibility': 10000, 'pop': 0, 'sys': {'pod': 'd'}, 'dt_txt': '2023-10-09 06:00:00'}, {'dt': 1696842000, 'main': {'temp': 277.92, 'feels_like': 277.92, 'temp_min': 277.92, 'temp_max': 277.92, 'pressure': 1017, 'sea_level': 1017, 'grnd_level': 998, 'humidity': 56, 'temp_kf': 0}, 'weather': [{'id': 804, 'main': 'Clouds', 'description': 'overcast clouds', 'icon': '04d'}], 'clouds': {'all': 98}, 'wind': {'speed': 0.66, 'deg': 56, 'gust': 0.89}, 'visibility': 10000, 'pop': 0, 'sys': {'pod': 'd'}, 'dt_txt': '2023-10-09 09:00:00'}, {'dt': 1696852800, 'main': {'temp': 280.75, 'feels_like': 280.75, 'temp_min': 280.75, 'temp_max': 280.75, 'pressure': 1014, 'sea_level': 1014, 'grnd_level': 996, 'humidity': 46, 'temp_kf': 0}, 'weather': [{'id': 804, 'main': 'Clouds', 'description': 'overcast clouds', 'icon': '04d'}], 'clouds': {'all': 99}, 'wind': {'speed': 0.45, 'deg': 58, 'gust': 1.62}, 'visibility': 10000, 'pop': 0, 'sys': {'pod': 'd'}, 'dt_txt': '2023-10-09 12:00:00'}, {'dt': 1696863600, 'main': {'temp': 279.93, 'feels_like': 279.93, 'temp_min': 279.93, 'temp_max': 279.93, 'pressure': 1012, 'sea_level': 1012, 'grnd_level': 994, 'humidity': 55, 'temp_kf': 0}, 'weather': [{'id': 804, 'main': 'Clouds', 'description': 'overcast clouds', 'icon': '04d'}], 'clouds': {'all': 100}, 'wind': {'speed': 0.91, 'deg': 96, 'gust': 1.02}, 'visibility': 10000, 'pop': 0, 'sys': {'pod': 'd'}, 'dt_txt': '2023-10-09 15:00:00'}, {'dt': 1696874400, 'main': {'temp': 275.56, 'feels_like': 274.19, 'temp_min': 275.56, 'temp_max': 275.56, 'pressure': 1013, 'sea_level': 1013, 'grnd_level': 995, 'humidity': 70, 'temp_kf': 0}, 'weather': [{'id': 804, 'main': 'Clouds', 'description': 'overcast clouds', 'icon': '04n'}], 'clouds': {'all': 97}, 'wind': {'speed': 1.47, 'deg': 344, 'gust': 1.32}, 'visibility': 10000, 'pop': 0, 'sys': {'pod': 'n'}, 'dt_txt': '2023-10-09 18:00:00'}], 'city': {'id': 3144113, 'name': 'Noresund', 'coord': {'lat': 60.1803, 'lon': 9.6231}, 'country': 'NO', 'population': 1000, 'timezone': 7200, 'sunrise': 1696397584, 'sunset': 1696438047}}\")\n"
     ]
    }
   ],
   "source": [
    "# Query the data\n",
    "forecast_rows = session.execute(\"SELECT * FROM forecast_table;\")\n",
    "print(forecast_rows.one()) # <- only one row"
   ]
  },
  {
   "cell_type": "markdown",
   "metadata": {
    "slideshow": {
     "slide_type": "slide"
    }
   },
   "source": [
    "## Resources\n",
    "- [Cassandra webpage](https://cassandra.apache.org/)\n",
    "- [Cassandra Docker file](https://hub.docker.com/_/cassandra)\n",
    "- [UUID functions](https://docs.datastax.com/en/cql-oss/3.3/cql/cql_reference/timeuuid_functions_r.html)\n",
    "- [YouTube: Cassandra in 100 seconds](https://youtu.be/ziq7FUKpCS8?si=WQUdkHFvaBmT0DBo) (2m:26s)\n",
    "- [YouTube: How to use Apache Cassandra in Python](https://youtu.be/qMauZqJH3ZM?si=yKGZ-5cld2BK396Y) (14m:50s)\n",
    "- [YouTube: Cassandra Database Crash Course](https://youtu.be/KZsVSfQVU4I?si=FBCi8qOfCirfVmZk) (19m:47s)"
   ]
  }
 ],
 "metadata": {
  "celltoolbar": "Slideshow",
  "kernelspec": {
   "display_name": "Python 3 (ipykernel)",
   "language": "python",
   "name": "python3"
  },
  "language_info": {
   "codemirror_mode": {
    "name": "ipython",
    "version": 3
   },
   "file_extension": ".py",
   "mimetype": "text/x-python",
   "name": "python",
   "nbconvert_exporter": "python",
   "pygments_lexer": "ipython3",
   "version": "3.10.6"
  }
 },
 "nbformat": 4,
 "nbformat_minor": 2
}