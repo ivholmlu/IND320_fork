{
 "cells": [
  {
   "attachments": {},
   "cell_type": "markdown",
   "metadata": {},
   "source": [
    "# Cassandra\n",
    "Assumptions:\n",
    "- Docker installed on system\n",
    "- \"cassandra:latest\" image installed in docker\n",
    "- Python/Conda environment with python 3.8 (or newer*)  \n",
    "  \n",
    "*As of 9 August 2023, the officially built cassandra-driver package was at version 3.25 and did not work well with Python 3.10 on Mac.  \n",
    "To install a newer version from the terminal you can:  \n",
    "```\n",
    "pip install git+https://github.com/datastax/python-driver.git\n",
    "pip install cql\n",
    "```\n",
    "  \n",
    "Or use older Python:  \n",
    "```\n",
    "conda create --name cassy38 python=3.8 jupyter scikit-learn\n",
    "conda activate cassy38  \n",
    "pip install cassandra-driver cql\n",
    "```"
   ]
  },
  {
   "attachments": {},
   "cell_type": "markdown",
   "metadata": {},
   "source": [
    "## Spinning up a local cassandra instance in a terminal\n",
    "```docker run --name my_cassandra cassandra:latest -p 9042:9042```  \n",
    "  \n",
    "If this works for you, hourra! Otherwise, try the following:  \n",
    "- Open Docker Desktop\n",
    "- Run the cassandra image with optional settings, opening 9042 port (left-hand side)."
   ]
  },
  {
   "cell_type": "code",
   "execution_count": 1,
   "metadata": {},
   "outputs": [],
   "source": [
    "# Connecting to Cassandra\n",
    "from cassandra.cluster import Cluster\n",
    "cluster = Cluster(['localhost'], port=9042)\n",
    "session = cluster.connect()"
   ]
  },
  {
   "cell_type": "code",
   "execution_count": 2,
   "metadata": {},
   "outputs": [
    {
     "data": {
      "text/plain": [
       "<cassandra.cluster.ResultSet at 0x118922da0>"
      ]
     },
     "execution_count": 2,
     "metadata": {},
     "output_type": "execute_result"
    }
   ],
   "source": [
    "# Set up new keyspace (first time only)\n",
    "#                                              name of keyspace                        replication strategy           replication factor\n",
    "session.execute(\"CREATE KEYSPACE IF NOT EXISTS my_first_keyspace WITH REPLICATION = { 'class' : 'SimpleStrategy', 'replication_factor' : 1 };\")"
   ]
  },
  {
   "cell_type": "code",
   "execution_count": 3,
   "metadata": {},
   "outputs": [
    {
     "data": {
      "text/plain": [
       "<cassandra.cluster.ResultSet at 0x1097c2890>"
      ]
     },
     "execution_count": 3,
     "metadata": {},
     "output_type": "execute_result"
    }
   ],
   "source": [
    "# Create a new table (first time only)\n",
    "session.set_keyspace('my_first_keyspace')\n",
    "session.execute(\"CREATE TABLE IF NOT EXISTS my_first_table (ind int PRIMARY KEY, company text, model text);\")"
   ]
  },
  {
   "cell_type": "code",
   "execution_count": 4,
   "metadata": {},
   "outputs": [
    {
     "data": {
      "text/plain": [
       "<cassandra.cluster.ResultSet at 0x1097a4f70>"
      ]
     },
     "execution_count": 4,
     "metadata": {},
     "output_type": "execute_result"
    }
   ],
   "source": [
    "# Insert some data (ind is the primary key, must be unique)\n",
    "session.execute(\"INSERT INTO my_first_table (ind, company, model) VALUES (1, 'Tesla', 'Model S');\")\n",
    "session.execute(\"INSERT INTO my_first_table (ind, company, model) VALUES (2, 'Tesla', 'Model 3');\")\n",
    "session.execute(\"INSERT INTO my_first_table (ind, company, model) VALUES (3, 'Polestar', '3');\")"
   ]
  },
  {
   "cell_type": "code",
   "execution_count": 5,
   "metadata": {},
   "outputs": [
    {
     "name": "stdout",
     "output_type": "stream",
     "text": [
      "Row(ind=1, company='Tesla', model='Model S')\n",
      "Row(ind=2, company='Tesla', model='Model 3')\n",
      "Row(ind=3, company='Polestar', model='3')\n"
     ]
    }
   ],
   "source": [
    "# Query the data\n",
    "rows = session.execute(\"SELECT * FROM my_first_table;\")\n",
    "for i in rows:\n",
    "    print(i)"
   ]
  },
  {
   "cell_type": "code",
   "execution_count": 6,
   "metadata": {
    "tags": [
     "raises-exception"
    ]
   },
   "outputs": [
    {
     "ename": "InvalidRequest",
     "evalue": "Error from server: code=2200 [Invalid query] message=\"Cannot execute this query as it might involve data filtering and thus may have unpredictable performance. If you want to execute this query despite the performance unpredictability, use ALLOW FILTERING\"",
     "output_type": "error",
     "traceback": [
      "\u001b[0;31m---------------------------------------------------------------------------\u001b[0m",
      "\u001b[0;31mInvalidRequest\u001b[0m                            Traceback (most recent call last)",
      "Cell \u001b[0;32mIn [6], line 2\u001b[0m\n\u001b[1;32m      1\u001b[0m \u001b[38;5;66;03m# More specific query\u001b[39;00m\n\u001b[0;32m----> 2\u001b[0m prepared_statement \u001b[38;5;241m=\u001b[39m \u001b[43msession\u001b[49m\u001b[38;5;241;43m.\u001b[39;49m\u001b[43mprepare\u001b[49m\u001b[43m(\u001b[49m\u001b[38;5;124;43m\"\u001b[39;49m\u001b[38;5;124;43mSELECT * FROM my_first_table WHERE company=?;\u001b[39;49m\u001b[38;5;124;43m\"\u001b[39;49m\u001b[43m)\u001b[49m \u001b[38;5;66;03m# <- will fail as company is not a key\u001b[39;00m\n\u001b[1;32m      3\u001b[0m teslas \u001b[38;5;241m=\u001b[39m session\u001b[38;5;241m.\u001b[39mexecute(prepared_statement, [\u001b[38;5;124m'\u001b[39m\u001b[38;5;124mTesla\u001b[39m\u001b[38;5;124m'\u001b[39m])\n\u001b[1;32m      4\u001b[0m \u001b[38;5;28;01mfor\u001b[39;00m i \u001b[38;5;129;01min\u001b[39;00m teslas:\n",
      "File \u001b[0;32m~/miniforge3/envs/tf_M1/lib/python3.10/site-packages/cassandra/cluster.py:3088\u001b[0m, in \u001b[0;36mSession.prepare\u001b[0;34m(self, query, custom_payload, keyspace)\u001b[0m\n\u001b[1;32m   3086\u001b[0m \u001b[38;5;28;01mtry\u001b[39;00m:\n\u001b[1;32m   3087\u001b[0m     future\u001b[38;5;241m.\u001b[39msend_request()\n\u001b[0;32m-> 3088\u001b[0m     response \u001b[38;5;241m=\u001b[39m \u001b[43mfuture\u001b[49m\u001b[38;5;241;43m.\u001b[39;49m\u001b[43mresult\u001b[49m\u001b[43m(\u001b[49m\u001b[43m)\u001b[49m\u001b[38;5;241m.\u001b[39mone()\n\u001b[1;32m   3089\u001b[0m \u001b[38;5;28;01mexcept\u001b[39;00m \u001b[38;5;167;01mException\u001b[39;00m:\n\u001b[1;32m   3090\u001b[0m     log\u001b[38;5;241m.\u001b[39mexception(\u001b[38;5;124m\"\u001b[39m\u001b[38;5;124mError preparing query:\u001b[39m\u001b[38;5;124m\"\u001b[39m)\n",
      "File \u001b[0;32m~/miniforge3/envs/tf_M1/lib/python3.10/site-packages/cassandra/cluster.py:4920\u001b[0m, in \u001b[0;36mResponseFuture.result\u001b[0;34m(self)\u001b[0m\n\u001b[1;32m   4918\u001b[0m     \u001b[38;5;28;01mreturn\u001b[39;00m ResultSet(\u001b[38;5;28mself\u001b[39m, \u001b[38;5;28mself\u001b[39m\u001b[38;5;241m.\u001b[39m_final_result)\n\u001b[1;32m   4919\u001b[0m \u001b[38;5;28;01melse\u001b[39;00m:\n\u001b[0;32m-> 4920\u001b[0m     \u001b[38;5;28;01mraise\u001b[39;00m \u001b[38;5;28mself\u001b[39m\u001b[38;5;241m.\u001b[39m_final_exception\n",
      "\u001b[0;31mInvalidRequest\u001b[0m: Error from server: code=2200 [Invalid query] message=\"Cannot execute this query as it might involve data filtering and thus may have unpredictable performance. If you want to execute this query despite the performance unpredictability, use ALLOW FILTERING\""
     ]
    }
   ],
   "source": [
    "# More specific query\n",
    "prepared_statement = session.prepare(\"SELECT * FROM my_first_table WHERE company=?;\") # <- will fail as company is not a key\n",
    "teslas = session.execute(prepared_statement, ['Tesla'])\n",
    "for i in teslas:\n",
    "    print(i)"
   ]
  },
  {
   "attachments": {},
   "cell_type": "markdown",
   "metadata": {},
   "source": [
    "## Cassandra filtering\n",
    "Cassandra is inherently a distributed production database. Selecting as above may require downloading all data from a node, then filtering based on the WHERE part (only PRIMARY KEYs are centrally known). Solutions:  \n",
    "- If the table is small or most of the data will satisfy the query, add ```ALLOW FILTERING``` at the end of the query (not recommended if not known). \n",
    "- Or make sure the WHERE clause points to one of the keys (see below)."
   ]
  },
  {
   "cell_type": "code",
   "execution_count": 7,
   "metadata": {},
   "outputs": [
    {
     "data": {
      "text/plain": [
       "<cassandra.cluster.ResultSet at 0x118925090>"
      ]
     },
     "execution_count": 7,
     "metadata": {},
     "output_type": "execute_result"
    }
   ],
   "source": [
    "# Create a new table (observe keys)\n",
    "session.execute(\"CREATE TABLE IF NOT EXISTS car_table (company text, model text, PRIMARY KEY(company, model));\")"
   ]
  },
  {
   "cell_type": "code",
   "execution_count": 8,
   "metadata": {},
   "outputs": [
    {
     "data": {
      "text/plain": [
       "<cassandra.cluster.ResultSet at 0x11957c430>"
      ]
     },
     "execution_count": 8,
     "metadata": {},
     "output_type": "execute_result"
    }
   ],
   "source": [
    "# Insert some data (combination of company and model must be unique)\n",
    "session.execute(\"INSERT INTO car_table (company, model) VALUES ('Tesla', 'Model S');\")\n",
    "session.execute(\"INSERT INTO car_table (company, model) VALUES ('Tesla', 'Model 3');\")\n",
    "session.execute(\"INSERT INTO car_table (company, model) VALUES ('Polestar', '3');\")"
   ]
  },
  {
   "cell_type": "code",
   "execution_count": 9,
   "metadata": {},
   "outputs": [
    {
     "name": "stdout",
     "output_type": "stream",
     "text": [
      "Row(company='Tesla', model='Model 3')\n",
      "Row(company='Tesla', model='Model S')\n"
     ]
    }
   ],
   "source": [
    "# More specific query now works\n",
    "prepared_statement = session.prepare(\"SELECT * FROM car_table WHERE company=?;\")\n",
    "teslas = session.execute(prepared_statement, ['Tesla'])\n",
    "for i in teslas:\n",
    "    print(i)"
   ]
  },
  {
   "attachments": {},
   "cell_type": "markdown",
   "metadata": {},
   "source": [
    "## JSON in Cassandra\n"
   ]
  },
  {
   "cell_type": "code",
   "execution_count": 10,
   "metadata": {},
   "outputs": [],
   "source": [
    "# Imports\n",
    "import datetime as dt\n",
    "import requests\n",
    "import json"
   ]
  },
  {
   "attachments": {},
   "cell_type": "markdown",
   "metadata": {},
   "source": [
    "### Read previously saved JSON file forecast.json to memory"
   ]
  },
  {
   "cell_type": "code",
   "execution_count": 11,
   "metadata": {},
   "outputs": [],
   "source": [
    "with open('../APIs/downloads/forecast.json', 'r') as f:\n",
    "    forecast = json.load(f)"
   ]
  },
  {
   "cell_type": "code",
   "execution_count": 12,
   "metadata": {},
   "outputs": [
    {
     "data": {
      "text/plain": [
       "\"{'cod': '200', 'message': 0, 'cnt': 40, 'list': [{'dt': 1692187200, 'main': {'temp': 292.16, 'feels_like': 292.31, 'temp_min': 292.16, 'temp_max': 292.41, 'pressure': 1015, 'sea_level': 1015, 'grnd_level': 998, 'humidity': 84, 'temp_kf': -0.25}, 'weather': [{'id': 500, 'main': 'Rain', 'description': 'light rain', 'icon': '10d'}], 'clouds': {'all': 92}, 'wind': {'speed': 1.17, 'deg': 299, 'gust': 1.37}, 'visibility': 10000, 'pop': 0.43, 'rain': {'3h': 0.46}, 'sys': {'pod': 'd'}, 'dt_txt': '2023-08-16 12:00:00'}, {'dt': 1692198000, 'main': {'temp': 292.84, 'feels_like': 292.85, 'temp_min': 292.84, 'temp_max': 294.19, 'pressure': 1015, 'sea_level': 1015, 'grnd_level': 999, 'humidity': 76, 'temp_kf': -1.35}, 'weather': [{'id': 500, 'main': 'Rain', 'description': 'light rain', 'icon': '10d'}], 'clouds': {'all': 73}, 'wind': {'speed': 0.68, 'deg': 328, 'gust': 1.44}, 'visibility': 10000, 'pop': 0.49, 'rain': {'3h': 0.15}, 'sys': {'pod': 'd'}, 'dt_txt': '2023-08-16 15:00:00'}, {'dt': 1692208800, 'main': {'temp': 291.21, 'feels_like': 291.21, 'temp_min': 290.73, 'temp_max': 291.21, 'pressure': 1016, 'sea_level': 1016, 'grnd_level': 1000, 'humidity': 82, 'temp_kf': 0.48}, 'weather': [{'id': 500, 'main': 'Rain', 'description': 'light rain', 'icon': '10d'}], 'clouds': {'all': 47}, 'wind': {'speed': 0.4, 'deg': 303, 'gust': 1.4}, 'visibility': 10000, 'pop': 0.68, 'rain': {'3h': 0.52}, 'sys': {'pod': 'd'}, 'dt_txt': '2023-08-16 18:00:00'}, {'dt': 1692219600, 'main': {'temp': 287.1, 'feels_like': 287.03, 'temp_min': 287.1, 'temp_max': 287.1, 'pressure': 1019, 'sea_level': 1019, 'grnd_level': 1002, 'humidity': 95, 'temp_kf': 0}, 'weather': [{'id': 500, 'main': 'Rain', 'description': 'light rain', 'icon': '10n'}], 'clouds': {'all': 15}, 'wind': {'speed': 1.55, 'deg': 353, 'gust': 2.35}, 'visibility': 10000, 'pop': 0.21, 'rain': {'3h': 0.26}, 'sys': {'pod': 'n'}, 'dt_txt': '2023-08-16 21:00:00'}, {'dt': 1692230400, 'main': {'temp': 285.77, 'feels_like': 285.54, 'temp_min': 285.77, 'temp_max': 285.77, 'pressure': 1021, 'sea_level': 1021, 'grnd_level': 1004, 'humidity': 94, 'temp_kf': 0}, 'weather': [{'id': 801, 'main': 'Clouds', 'description': 'few clouds', 'icon': '02n'}], 'clouds': {'all': 13}, 'wind': {'speed': 1.99, 'deg': 358, 'gust': 4.84}, 'visibility': 10000, 'pop': 0.05, 'sys': {'pod': 'n'}, 'dt_txt': '2023-08-17 00:00:00'}, {'dt': 1692241200, 'main': {'temp': 284.36, 'feels_like': 283.99, 'temp_min': 284.36, 'temp_max': 284.36, 'pressure': 1022, 'sea_level': 1022, 'grnd_level': 1005, 'humidity': 94, 'temp_kf': 0}, 'weather': [{'id': 800, 'main': 'Clear', 'description': 'clear sky', 'icon': '01n'}], 'clouds': {'all': 8}, 'wind': {'speed': 2.18, 'deg': 359, 'gust': 5.76}, 'visibility': 10000, 'pop': 0, 'sys': {'pod': 'n'}, 'dt_txt': '2023-08-17 03:00:00'}, {'dt': 1692252000, 'main': {'temp': 286.68, 'feels_like': 286.28, 'temp_min': 286.68, 'temp_max': 286.68, 'pressure': 1024, 'sea_level': 1024, 'grnd_level': 1007, 'humidity': 84, 'temp_kf': 0}, 'weather': [{'id': 800, 'main': 'Clear', 'description': 'clear sky', 'icon': '01d'}], 'clouds': {'all': 7}, 'wind': {'speed': 2.19, 'deg': 19, 'gust': 4.9}, 'visibility': 10000, 'pop': 0, 'sys': {'pod': 'd'}, 'dt_txt': '2023-08-17 06:00:00'}, {'dt': 1692262800, 'main': {'temp': 292.07, 'feels_like': 291.64, 'temp_min': 292.07, 'temp_max': 292.07, 'pressure': 1024, 'sea_level': 1024, 'grnd_level': 1008, 'humidity': 62, 'temp_kf': 0}, 'weather': [{'id': 800, 'main': 'Clear', 'description': 'clear sky', 'icon': '01d'}], 'clouds': {'all': 3}, 'wind': {'speed': 2.61, 'deg': 43, 'gust': 3.94}, 'visibility': 10000, 'pop': 0, 'sys': {'pod': 'd'}, 'dt_txt': '2023-08-17 09:00:00'}, {'dt': 1692273600, 'main': {'temp': 295.42, 'feels_like': 294.98, 'temp_min': 295.42, 'temp_max': 295.42, 'pressure': 1024, 'sea_level': 1024, 'grnd_level': 1008, 'humidity': 49, 'temp_kf': 0}, 'weather': [{'id': 800, 'main': 'Clear', 'description': 'clear sky', 'icon': '01d'}], 'clouds': {'all': 7}, 'wind': {'speed': 2.12, 'deg': 58, 'gust': 2.96}, 'visibility': 10000, 'pop': 0, 'sys': {'pod': 'd'}, 'dt_txt': '2023-08-17 12:00:00'}, {'dt': 1692284400, 'main': {'temp': 296.05, 'feels_like': 295.6, 'temp_min': 296.05, 'temp_max': 296.05, 'pressure': 1024, 'sea_level': 1024, 'grnd_level': 1008, 'humidity': 46, 'temp_kf': 0}, 'weather': [{'id': 801, 'main': 'Clouds', 'description': 'few clouds', 'icon': '02d'}], 'clouds': {'all': 23}, 'wind': {'speed': 1.68, 'deg': 85, 'gust': 2.45}, 'visibility': 10000, 'pop': 0, 'sys': {'pod': 'd'}, 'dt_txt': '2023-08-17 15:00:00'}, {'dt': 1692295200, 'main': {'temp': 292.34, 'feels_like': 292.12, 'temp_min': 292.34, 'temp_max': 292.34, 'pressure': 1025, 'sea_level': 1025, 'grnd_level': 1008, 'humidity': 69, 'temp_kf': 0}, 'weather': [{'id': 802, 'main': 'Clouds', 'description': 'scattered clouds', 'icon': '03d'}], 'clouds': {'all': 33}, 'wind': {'speed': 0.48, 'deg': 47, 'gust': 0.63}, 'visibility': 10000, 'pop': 0, 'sys': {'pod': 'd'}, 'dt_txt': '2023-08-17 18:00:00'}, {'dt': 1692306000, 'main': {'temp': 290.41, 'feels_like': 290.05, 'temp_min': 290.41, 'temp_max': 290.41, 'pressure': 1026, 'sea_level': 1026, 'grnd_level': 1009, 'humidity': 71, 'temp_kf': 0}, 'weather': [{'id': 804, 'main': 'Clouds', 'description': 'overcast clouds', 'icon': '04n'}], 'clouds': {'all': 93}, 'wind': {'speed': 1.24, 'deg': 50, 'gust': 1.19}, 'visibility': 10000, 'pop': 0, 'sys': {'pod': 'n'}, 'dt_txt': '2023-08-17 21:00:00'}, {'dt': 1692316800, 'main': {'temp': 287.54, 'feels_like': 287.1, 'temp_min': 287.54, 'temp_max': 287.54, 'pressure': 1027, 'sea_level': 1027, 'grnd_level': 1010, 'humidity': 79, 'temp_kf': 0}, 'weather': [{'id': 803, 'main': 'Clouds', 'description': 'broken clouds', 'icon': '04n'}], 'clouds': {'all': 74}, 'wind': {'speed': 1.44, 'deg': 45, 'gust': 1.6}, 'visibility': 10000, 'pop': 0, 'sys': {'pod': 'n'}, 'dt_txt': '2023-08-18 00:00:00'}, {'dt': 1692327600, 'main': {'temp': 285.83, 'feels_like': 285.35, 'temp_min': 285.83, 'temp_max': 285.83, 'pressure': 1028, 'sea_level': 1028, 'grnd_level': 1011, 'humidity': 84, 'temp_kf': 0}, 'weather': [{'id': 803, 'main': 'Clouds', 'description': 'broken clouds', 'icon': '04n'}], 'clouds': {'all': 59}, 'wind': {'speed': 1.81, 'deg': 32, 'gust': 1.88}, 'visibility': 10000, 'pop': 0, 'sys': {'pod': 'n'}, 'dt_txt': '2023-08-18 03:00:00'}, {'dt': 1692338400, 'main': {'temp': 288.07, 'feels_like': 287.71, 'temp_min': 288.07, 'temp_max': 288.07, 'pressure': 1028, 'sea_level': 1028, 'grnd_level': 1011, 'humidity': 80, 'temp_kf': 0}, 'weather': [{'id': 803, 'main': 'Clouds', 'description': 'broken clouds', 'icon': '04d'}], 'clouds': {'all': 76}, 'wind': {'speed': 1.95, 'deg': 37, 'gust': 5.87}, 'visibility': 10000, 'pop': 0, 'sys': {'pod': 'd'}, 'dt_txt': '2023-08-18 06:00:00'}, {'dt': 1692349200, 'main': {'temp': 293.25, 'feels_like': 292.73, 'temp_min': 293.25, 'temp_max': 293.25, 'pressure': 1028, 'sea_level': 1028, 'grnd_level': 1011, 'humidity': 54, 'temp_kf': 0}, 'weather': [{'id': 803, 'main': 'Clouds', 'description': 'broken clouds', 'icon': '04d'}], 'clouds': {'all': 78}, 'wind': {'speed': 3.29, 'deg': 55, 'gust': 5.26}, 'visibility': 10000, 'pop': 0, 'sys': {'pod': 'd'}, 'dt_txt': '2023-08-18 09:00:00'}, {'dt': 1692360000, 'main': {'temp': 295, 'feels_like': 294.47, 'temp_min': 295, 'temp_max': 295, 'pressure': 1027, 'sea_level': 1027, 'grnd_level': 1011, 'humidity': 47, 'temp_kf': 0}, 'weather': [{'id': 804, 'main': 'Clouds', 'description': 'overcast clouds', 'icon': '04d'}], 'clouds': {'all': 88}, 'wind': {'speed': 3.43, 'deg': 58, 'gust': 5.46}, 'visibility': 10000, 'pop': 0, 'sys': {'pod': 'd'}, 'dt_txt': '2023-08-18 12:00:00'}, {'dt': 1692370800, 'main': {'temp': 294.43, 'feels_like': 294.08, 'temp_min': 294.43, 'temp_max': 294.43, 'pressure': 1026, 'sea_level': 1026, 'grnd_level': 1010, 'humidity': 56, 'temp_kf': 0}, 'weather': [{'id': 804, 'main': 'Clouds', 'description': 'overcast clouds', 'icon': '04d'}], 'clouds': {'all': 99}, 'wind': {'speed': 3.65, 'deg': 89, 'gust': 6.13}, 'visibility': 10000, 'pop': 0, 'sys': {'pod': 'd'}, 'dt_txt': '2023-08-18 15:00:00'}, {'dt': 1692381600, 'main': {'temp': 290.46, 'feels_like': 290.34, 'temp_min': 290.46, 'temp_max': 290.46, 'pressure': 1026, 'sea_level': 1026, 'grnd_level': 1010, 'humidity': 80, 'temp_kf': 0}, 'weather': [{'id': 500, 'main': 'Rain', 'description': 'light rain', 'icon': '10d'}], 'clouds': {'all': 100}, 'wind': {'speed': 2.45, 'deg': 64, 'gust': 6.98}, 'visibility': 10000, 'pop': 0.2, 'rain': {'3h': 0.18}, 'sys': {'pod': 'd'}, 'dt_txt': '2023-08-18 18:00:00'}, {'dt': 1692392400, 'main': {'temp': 288.71, 'feels_like': 288.78, 'temp_min': 288.71, 'temp_max': 288.71, 'pressure': 1027, 'sea_level': 1027, 'grnd_level': 1010, 'humidity': 94, 'temp_kf': 0}, 'weather': [{'id': 500, 'main': 'Rain', 'description': 'light rain', 'icon': '10n'}], 'clouds': {'all': 98}, 'wind': {'speed': 1.81, 'deg': 60, 'gust': 5.56}, 'visibility': 10000, 'pop': 0.45, 'rain': {'3h': 0.71}, 'sys': {'pod': 'n'}, 'dt_txt': '2023-08-18 21:00:00'}, {'dt': 1692403200, 'main': {'temp': 287.69, 'feels_like': 287.6, 'temp_min': 287.69, 'temp_max': 287.69, 'pressure': 1027, 'sea_level': 1027, 'grnd_level': 1010, 'humidity': 92, 'temp_kf': 0}, 'weather': [{'id': 500, 'main': 'Rain', 'description': 'light rain', 'icon': '10n'}], 'clouds': {'all': 96}, 'wind': {'speed': 2.82, 'deg': 63, 'gust': 7.64}, 'visibility': 10000, 'pop': 0.41, 'rain': {'3h': 0.18}, 'sys': {'pod': 'n'}, 'dt_txt': '2023-08-19 00:00:00'}, {'dt': 1692414000, 'main': {'temp': 286.54, 'feels_like': 286.28, 'temp_min': 286.54, 'temp_max': 286.54, 'pressure': 1026, 'sea_level': 1026, 'grnd_level': 1009, 'humidity': 90, 'temp_kf': 0}, 'weather': [{'id': 804, 'main': 'Clouds', 'description': 'overcast clouds', 'icon': '04n'}], 'clouds': {'all': 100}, 'wind': {'speed': 2.91, 'deg': 46, 'gust': 8.01}, 'visibility': 10000, 'pop': 0.02, 'sys': {'pod': 'n'}, 'dt_txt': '2023-08-19 03:00:00'}, {'dt': 1692424800, 'main': {'temp': 287.11, 'feels_like': 286.73, 'temp_min': 287.11, 'temp_max': 287.11, 'pressure': 1026, 'sea_level': 1026, 'grnd_level': 1009, 'humidity': 83, 'temp_kf': 0}, 'weather': [{'id': 804, 'main': 'Clouds', 'description': 'overcast clouds', 'icon': '04d'}], 'clouds': {'all': 93}, 'wind': {'speed': 3.57, 'deg': 36, 'gust': 8.68}, 'visibility': 10000, 'pop': 0, 'sys': {'pod': 'd'}, 'dt_txt': '2023-08-19 06:00:00'}, {'dt': 1692435600, 'main': {'temp': 288.98, 'feels_like': 288.55, 'temp_min': 288.98, 'temp_max': 288.98, 'pressure': 1025, 'sea_level': 1025, 'grnd_level': 1008, 'humidity': 74, 'temp_kf': 0}, 'weather': [{'id': 803, 'main': 'Clouds', 'description': 'broken clouds', 'icon': '04d'}], 'clouds': {'all': 73}, 'wind': {'speed': 3.83, 'deg': 51, 'gust': 7.68}, 'visibility': 10000, 'pop': 0, 'sys': {'pod': 'd'}, 'dt_txt': '2023-08-19 09:00:00'}, {'dt': 1692446400, 'main': {'temp': 288.97, 'feels_like': 288.51, 'temp_min': 288.97, 'temp_max': 288.97, 'pressure': 1024, 'sea_level': 1024, 'grnd_level': 1007, 'humidity': 73, 'temp_kf': 0}, 'weather': [{'id': 804, 'main': 'Clouds', 'description': 'overcast clouds', 'icon': '04d'}], 'clouds': {'all': 87}, 'wind': {'speed': 3.68, 'deg': 51, 'gust': 6.75}, 'visibility': 10000, 'pop': 0, 'sys': {'pod': 'd'}, 'dt_txt': '2023-08-19 12:00:00'}, {'dt': 1692457200, 'main': {'temp': 289.54, 'feels_like': 289.19, 'temp_min': 289.54, 'temp_max': 289.54, 'pressure': 1022, 'sea_level': 1022, 'grnd_level': 1006, 'humidity': 75, 'temp_kf': 0}, 'weather': [{'id': 804, 'main': 'Clouds', 'description': 'overcast clouds', 'icon': '04d'}], 'clouds': {'all': 100}, 'wind': {'speed': 2.93, 'deg': 55, 'gust': 6.03}, 'visibility': 10000, 'pop': 0, 'sys': {'pod': 'd'}, 'dt_txt': '2023-08-19 15:00:00'}, {'dt': 1692468000, 'main': {'temp': 288.43, 'feels_like': 288.13, 'temp_min': 288.43, 'temp_max': 288.43, 'pressure': 1021, 'sea_level': 1021, 'grnd_level': 1004, 'humidity': 81, 'temp_kf': 0}, 'weather': [{'id': 804, 'main': 'Clouds', 'description': 'overcast clouds', 'icon': '04d'}], 'clouds': {'all': 100}, 'wind': {'speed': 2.83, 'deg': 35, 'gust': 7.15}, 'visibility': 10000, 'pop': 0, 'sys': {'pod': 'd'}, 'dt_txt': '2023-08-19 18:00:00'}, {'dt': 1692478800, 'main': {'temp': 288.01, 'feels_like': 287.8, 'temp_min': 288.01, 'temp_max': 288.01, 'pressure': 1020, 'sea_level': 1020, 'grnd_level': 1003, 'humidity': 86, 'temp_kf': 0}, 'weather': [{'id': 804, 'main': 'Clouds', 'description': 'overcast clouds', 'icon': '04n'}], 'clouds': {'all': 100}, 'wind': {'speed': 2.56, 'deg': 28, 'gust': 7.2}, 'visibility': 10000, 'pop': 0.03, 'sys': {'pod': 'n'}, 'dt_txt': '2023-08-19 21:00:00'}, {'dt': 1692489600, 'main': {'temp': 288.83, 'feels_like': 288.99, 'temp_min': 288.83, 'temp_max': 288.83, 'pressure': 1017, 'sea_level': 1017, 'grnd_level': 1001, 'humidity': 97, 'temp_kf': 0}, 'weather': [{'id': 500, 'main': 'Rain', 'description': 'light rain', 'icon': '10n'}], 'clouds': {'all': 100}, 'wind': {'speed': 1.41, 'deg': 90, 'gust': 6.34}, 'visibility': 5113, 'pop': 0.72, 'rain': {'3h': 2.31}, 'sys': {'pod': 'n'}, 'dt_txt': '2023-08-20 00:00:00'}, {'dt': 1692500400, 'main': {'temp': 289.28, 'feels_like': 289.53, 'temp_min': 289.28, 'temp_max': 289.28, 'pressure': 1017, 'sea_level': 1017, 'grnd_level': 1000, 'humidity': 99, 'temp_kf': 0}, 'weather': [{'id': 501, 'main': 'Rain', 'description': 'moderate rain', 'icon': '10n'}], 'clouds': {'all': 100}, 'wind': {'speed': 0.34, 'deg': 38, 'gust': 3.3}, 'visibility': 443, 'pop': 1, 'rain': {'3h': 6.32}, 'sys': {'pod': 'n'}, 'dt_txt': '2023-08-20 03:00:00'}, {'dt': 1692511200, 'main': {'temp': 289.08, 'feels_like': 289.31, 'temp_min': 289.08, 'temp_max': 289.08, 'pressure': 1017, 'sea_level': 1017, 'grnd_level': 1000, 'humidity': 99, 'temp_kf': 0}, 'weather': [{'id': 500, 'main': 'Rain', 'description': 'light rain', 'icon': '10d'}], 'clouds': {'all': 100}, 'wind': {'speed': 0.54, 'deg': 300, 'gust': 1.74}, 'visibility': 1474, 'pop': 1, 'rain': {'3h': 0.42}, 'sys': {'pod': 'd'}, 'dt_txt': '2023-08-20 06:00:00'}, {'dt': 1692522000, 'main': {'temp': 288.9, 'feels_like': 289.04, 'temp_min': 288.9, 'temp_max': 288.9, 'pressure': 1018, 'sea_level': 1018, 'grnd_level': 1001, 'humidity': 96, 'temp_kf': 0}, 'weather': [{'id': 804, 'main': 'Clouds', 'description': 'overcast clouds', 'icon': '04d'}], 'clouds': {'all': 100}, 'wind': {'speed': 1.23, 'deg': 269, 'gust': 2.09}, 'visibility': 10000, 'pop': 0.08, 'sys': {'pod': 'd'}, 'dt_txt': '2023-08-20 09:00:00'}, {'dt': 1692532800, 'main': {'temp': 292.23, 'feels_like': 292.31, 'temp_min': 292.23, 'temp_max': 292.23, 'pressure': 1018, 'sea_level': 1018, 'grnd_level': 1001, 'humidity': 81, 'temp_kf': 0}, 'weather': [{'id': 804, 'main': 'Clouds', 'description': 'overcast clouds', 'icon': '04d'}], 'clouds': {'all': 97}, 'wind': {'speed': 1.73, 'deg': 237, 'gust': 3.09}, 'visibility': 10000, 'pop': 0, 'sys': {'pod': 'd'}, 'dt_txt': '2023-08-20 12:00:00'}, {'dt': 1692543600, 'main': {'temp': 292.97, 'feels_like': 292.99, 'temp_min': 292.97, 'temp_max': 292.97, 'pressure': 1017, 'sea_level': 1017, 'grnd_level': 1001, 'humidity': 76, 'temp_kf': 0}, 'weather': [{'id': 804, 'main': 'Clouds', 'description': 'overcast clouds', 'icon': '04d'}], 'clouds': {'all': 97}, 'wind': {'speed': 2.38, 'deg': 192, 'gust': 3.46}, 'visibility': 10000, 'pop': 0, 'sys': {'pod': 'd'}, 'dt_txt': '2023-08-20 15:00:00'}, {'dt': 1692554400, 'main': {'temp': 290.43, 'feels_like': 290.51, 'temp_min': 290.43, 'temp_max': 290.43, 'pressure': 1018, 'sea_level': 1018, 'grnd_level': 1001, 'humidity': 88, 'temp_kf': 0}, 'weather': [{'id': 804, 'main': 'Clouds', 'description': 'overcast clouds', 'icon': '04d'}], 'clouds': {'all': 96}, 'wind': {'speed': 2.05, 'deg': 167, 'gust': 4.54}, 'visibility': 10000, 'pop': 0, 'sys': {'pod': 'd'}, 'dt_txt': '2023-08-20 18:00:00'}, {'dt': 1692565200, 'main': {'temp': 287.16, 'feels_like': 287.15, 'temp_min': 287.16, 'temp_max': 287.16, 'pressure': 1018, 'sea_level': 1018, 'grnd_level': 1002, 'humidity': 97, 'temp_kf': 0}, 'weather': [{'id': 800, 'main': 'Clear', 'description': 'clear sky', 'icon': '01n'}], 'clouds': {'all': 3}, 'wind': {'speed': 0.92, 'deg': 103, 'gust': 0.93}, 'visibility': 10000, 'pop': 0, 'sys': {'pod': 'n'}, 'dt_txt': '2023-08-20 21:00:00'}, {'dt': 1692576000, 'main': {'temp': 286.09, 'feels_like': 285.97, 'temp_min': 286.09, 'temp_max': 286.09, 'pressure': 1019, 'sea_level': 1019, 'grnd_level': 1002, 'humidity': 97, 'temp_kf': 0}, 'weather': [{'id': 800, 'main': 'Clear', 'description': 'clear sky', 'icon': '01n'}], 'clouds': {'all': 3}, 'wind': {'speed': 0.86, 'deg': 75, 'gust': 0.86}, 'visibility': 10000, 'pop': 0, 'sys': {'pod': 'n'}, 'dt_txt': '2023-08-21 00:00:00'}, {'dt': 1692586800, 'main': {'temp': 285.38, 'feels_like': 285.22, 'temp_min': 285.38, 'temp_max': 285.38, 'pressure': 1018, 'sea_level': 1018, 'grnd_level': 1001, 'humidity': 98, 'temp_kf': 0}, 'weather': [{'id': 800, 'main': 'Clear', 'description': 'clear sky', 'icon': '01n'}], 'clouds': {'all': 8}, 'wind': {'speed': 0.83, 'deg': 86, 'gust': 0.81}, 'visibility': 10000, 'pop': 0, 'sys': {'pod': 'n'}, 'dt_txt': '2023-08-21 03:00:00'}, {'dt': 1692597600, 'main': {'temp': 287.5, 'feels_like': 287.42, 'temp_min': 287.5, 'temp_max': 287.5, 'pressure': 1017, 'sea_level': 1017, 'grnd_level': 1001, 'humidity': 93, 'temp_kf': 0}, 'weather': [{'id': 802, 'main': 'Clouds', 'description': 'scattered clouds', 'icon': '03d'}], 'clouds': {'all': 25}, 'wind': {'speed': 0.76, 'deg': 139, 'gust': 1.24}, 'visibility': 10000, 'pop': 0, 'sys': {'pod': 'd'}, 'dt_txt': '2023-08-21 06:00:00'}, {'dt': 1692608400, 'main': {'temp': 290.28, 'feels_like': 290.14, 'temp_min': 290.28, 'temp_max': 290.28, 'pressure': 1017, 'sea_level': 1017, 'grnd_level': 1001, 'humidity': 80, 'temp_kf': 0}, 'weather': [{'id': 804, 'main': 'Clouds', 'description': 'overcast clouds', 'icon': '04d'}], 'clouds': {'all': 87}, 'wind': {'speed': 1.56, 'deg': 183, 'gust': 2.18}, 'visibility': 10000, 'pop': 0, 'sys': {'pod': 'd'}, 'dt_txt': '2023-08-21 09:00:00'}], 'city': {'id': 3139081, 'name': 'Ski', 'coord': {'lat': 59.7195, 'lon': 10.8358}, 'country': 'NO', 'population': 12513, 'timezone': 7200, 'sunrise': 1692156826, 'sunset': 1692212914}}\""
      ]
     },
     "execution_count": 12,
     "metadata": {},
     "output_type": "execute_result"
    }
   ],
   "source": [
    "# Inspect JSON file\n",
    "forecast.__str__()"
   ]
  },
  {
   "attachments": {},
   "cell_type": "markdown",
   "metadata": {},
   "source": [
    "## Raw JSON\n",
    "A simple, but not very efficient way of storing JSON data is to treat it as a text and save it directly to the database.  \n",
    "More efficient, with regard to transfer, is to compress the JSON data to a blob first."
   ]
  },
  {
   "cell_type": "code",
   "execution_count": 13,
   "metadata": {},
   "outputs": [
    {
     "data": {
      "text/plain": [
       "<cassandra.cluster.ResultSet at 0x11955fbb0>"
      ]
     },
     "execution_count": 13,
     "metadata": {},
     "output_type": "execute_result"
    }
   ],
   "source": [
    "session.execute(\"DROP TABLE IF EXISTS my_first_keyspace.forecast_table;\")"
   ]
  },
  {
   "attachments": {},
   "cell_type": "markdown",
   "metadata": {},
   "source": [
    "### Create a new table which treats the whole JSON as a blob, using the city id and the first dt as keys"
   ]
  },
  {
   "cell_type": "code",
   "execution_count": 14,
   "metadata": {},
   "outputs": [
    {
     "data": {
      "text/plain": [
       "<cassandra.cluster.ResultSet at 0x11a42ea10>"
      ]
     },
     "execution_count": 14,
     "metadata": {},
     "output_type": "execute_result"
    }
   ],
   "source": [
    "session.set_keyspace('my_first_keyspace')\n",
    "session.execute(\"CREATE TABLE IF NOT EXISTS forecast_table (city_id int, dt int, forecast blob, PRIMARY KEY(city_id, dt));\")"
   ]
  },
  {
   "attachments": {},
   "cell_type": "markdown",
   "metadata": {},
   "source": [
    "### Insert the forecast data into the table as text"
   ]
  },
  {
   "cell_type": "code",
   "execution_count": 15,
   "metadata": {},
   "outputs": [
    {
     "data": {
      "text/plain": [
       "<cassandra.cluster.ResultSet at 0x1097a4bb0>"
      ]
     },
     "execution_count": 15,
     "metadata": {},
     "output_type": "execute_result"
    }
   ],
   "source": [
    "session.execute(\"INSERT INTO forecast_table (city_id, dt, forecast) VALUES (%s, %s, textAsBlob(%s));\", (forecast['city']['id'], forecast['list'][0]['dt'], forecast.__str__()))"
   ]
  },
  {
   "cell_type": "code",
   "execution_count": 16,
   "metadata": {},
   "outputs": [
    {
     "name": "stdout",
     "output_type": "stream",
     "text": [
      "Row(city_id=3139081, dt=1692187200, forecast=b\"{'cod': '200', 'message': 0, 'cnt': 40, 'list': [{'dt': 1692187200, 'main': {'temp': 292.16, 'feels_like': 292.31, 'temp_min': 292.16, 'temp_max': 292.41, 'pressure': 1015, 'sea_level': 1015, 'grnd_level': 998, 'humidity': 84, 'temp_kf': -0.25}, 'weather': [{'id': 500, 'main': 'Rain', 'description': 'light rain', 'icon': '10d'}], 'clouds': {'all': 92}, 'wind': {'speed': 1.17, 'deg': 299, 'gust': 1.37}, 'visibility': 10000, 'pop': 0.43, 'rain': {'3h': 0.46}, 'sys': {'pod': 'd'}, 'dt_txt': '2023-08-16 12:00:00'}, {'dt': 1692198000, 'main': {'temp': 292.84, 'feels_like': 292.85, 'temp_min': 292.84, 'temp_max': 294.19, 'pressure': 1015, 'sea_level': 1015, 'grnd_level': 999, 'humidity': 76, 'temp_kf': -1.35}, 'weather': [{'id': 500, 'main': 'Rain', 'description': 'light rain', 'icon': '10d'}], 'clouds': {'all': 73}, 'wind': {'speed': 0.68, 'deg': 328, 'gust': 1.44}, 'visibility': 10000, 'pop': 0.49, 'rain': {'3h': 0.15}, 'sys': {'pod': 'd'}, 'dt_txt': '2023-08-16 15:00:00'}, {'dt': 1692208800, 'main': {'temp': 291.21, 'feels_like': 291.21, 'temp_min': 290.73, 'temp_max': 291.21, 'pressure': 1016, 'sea_level': 1016, 'grnd_level': 1000, 'humidity': 82, 'temp_kf': 0.48}, 'weather': [{'id': 500, 'main': 'Rain', 'description': 'light rain', 'icon': '10d'}], 'clouds': {'all': 47}, 'wind': {'speed': 0.4, 'deg': 303, 'gust': 1.4}, 'visibility': 10000, 'pop': 0.68, 'rain': {'3h': 0.52}, 'sys': {'pod': 'd'}, 'dt_txt': '2023-08-16 18:00:00'}, {'dt': 1692219600, 'main': {'temp': 287.1, 'feels_like': 287.03, 'temp_min': 287.1, 'temp_max': 287.1, 'pressure': 1019, 'sea_level': 1019, 'grnd_level': 1002, 'humidity': 95, 'temp_kf': 0}, 'weather': [{'id': 500, 'main': 'Rain', 'description': 'light rain', 'icon': '10n'}], 'clouds': {'all': 15}, 'wind': {'speed': 1.55, 'deg': 353, 'gust': 2.35}, 'visibility': 10000, 'pop': 0.21, 'rain': {'3h': 0.26}, 'sys': {'pod': 'n'}, 'dt_txt': '2023-08-16 21:00:00'}, {'dt': 1692230400, 'main': {'temp': 285.77, 'feels_like': 285.54, 'temp_min': 285.77, 'temp_max': 285.77, 'pressure': 1021, 'sea_level': 1021, 'grnd_level': 1004, 'humidity': 94, 'temp_kf': 0}, 'weather': [{'id': 801, 'main': 'Clouds', 'description': 'few clouds', 'icon': '02n'}], 'clouds': {'all': 13}, 'wind': {'speed': 1.99, 'deg': 358, 'gust': 4.84}, 'visibility': 10000, 'pop': 0.05, 'sys': {'pod': 'n'}, 'dt_txt': '2023-08-17 00:00:00'}, {'dt': 1692241200, 'main': {'temp': 284.36, 'feels_like': 283.99, 'temp_min': 284.36, 'temp_max': 284.36, 'pressure': 1022, 'sea_level': 1022, 'grnd_level': 1005, 'humidity': 94, 'temp_kf': 0}, 'weather': [{'id': 800, 'main': 'Clear', 'description': 'clear sky', 'icon': '01n'}], 'clouds': {'all': 8}, 'wind': {'speed': 2.18, 'deg': 359, 'gust': 5.76}, 'visibility': 10000, 'pop': 0, 'sys': {'pod': 'n'}, 'dt_txt': '2023-08-17 03:00:00'}, {'dt': 1692252000, 'main': {'temp': 286.68, 'feels_like': 286.28, 'temp_min': 286.68, 'temp_max': 286.68, 'pressure': 1024, 'sea_level': 1024, 'grnd_level': 1007, 'humidity': 84, 'temp_kf': 0}, 'weather': [{'id': 800, 'main': 'Clear', 'description': 'clear sky', 'icon': '01d'}], 'clouds': {'all': 7}, 'wind': {'speed': 2.19, 'deg': 19, 'gust': 4.9}, 'visibility': 10000, 'pop': 0, 'sys': {'pod': 'd'}, 'dt_txt': '2023-08-17 06:00:00'}, {'dt': 1692262800, 'main': {'temp': 292.07, 'feels_like': 291.64, 'temp_min': 292.07, 'temp_max': 292.07, 'pressure': 1024, 'sea_level': 1024, 'grnd_level': 1008, 'humidity': 62, 'temp_kf': 0}, 'weather': [{'id': 800, 'main': 'Clear', 'description': 'clear sky', 'icon': '01d'}], 'clouds': {'all': 3}, 'wind': {'speed': 2.61, 'deg': 43, 'gust': 3.94}, 'visibility': 10000, 'pop': 0, 'sys': {'pod': 'd'}, 'dt_txt': '2023-08-17 09:00:00'}, {'dt': 1692273600, 'main': {'temp': 295.42, 'feels_like': 294.98, 'temp_min': 295.42, 'temp_max': 295.42, 'pressure': 1024, 'sea_level': 1024, 'grnd_level': 1008, 'humidity': 49, 'temp_kf': 0}, 'weather': [{'id': 800, 'main': 'Clear', 'description': 'clear sky', 'icon': '01d'}], 'clouds': {'all': 7}, 'wind': {'speed': 2.12, 'deg': 58, 'gust': 2.96}, 'visibility': 10000, 'pop': 0, 'sys': {'pod': 'd'}, 'dt_txt': '2023-08-17 12:00:00'}, {'dt': 1692284400, 'main': {'temp': 296.05, 'feels_like': 295.6, 'temp_min': 296.05, 'temp_max': 296.05, 'pressure': 1024, 'sea_level': 1024, 'grnd_level': 1008, 'humidity': 46, 'temp_kf': 0}, 'weather': [{'id': 801, 'main': 'Clouds', 'description': 'few clouds', 'icon': '02d'}], 'clouds': {'all': 23}, 'wind': {'speed': 1.68, 'deg': 85, 'gust': 2.45}, 'visibility': 10000, 'pop': 0, 'sys': {'pod': 'd'}, 'dt_txt': '2023-08-17 15:00:00'}, {'dt': 1692295200, 'main': {'temp': 292.34, 'feels_like': 292.12, 'temp_min': 292.34, 'temp_max': 292.34, 'pressure': 1025, 'sea_level': 1025, 'grnd_level': 1008, 'humidity': 69, 'temp_kf': 0}, 'weather': [{'id': 802, 'main': 'Clouds', 'description': 'scattered clouds', 'icon': '03d'}], 'clouds': {'all': 33}, 'wind': {'speed': 0.48, 'deg': 47, 'gust': 0.63}, 'visibility': 10000, 'pop': 0, 'sys': {'pod': 'd'}, 'dt_txt': '2023-08-17 18:00:00'}, {'dt': 1692306000, 'main': {'temp': 290.41, 'feels_like': 290.05, 'temp_min': 290.41, 'temp_max': 290.41, 'pressure': 1026, 'sea_level': 1026, 'grnd_level': 1009, 'humidity': 71, 'temp_kf': 0}, 'weather': [{'id': 804, 'main': 'Clouds', 'description': 'overcast clouds', 'icon': '04n'}], 'clouds': {'all': 93}, 'wind': {'speed': 1.24, 'deg': 50, 'gust': 1.19}, 'visibility': 10000, 'pop': 0, 'sys': {'pod': 'n'}, 'dt_txt': '2023-08-17 21:00:00'}, {'dt': 1692316800, 'main': {'temp': 287.54, 'feels_like': 287.1, 'temp_min': 287.54, 'temp_max': 287.54, 'pressure': 1027, 'sea_level': 1027, 'grnd_level': 1010, 'humidity': 79, 'temp_kf': 0}, 'weather': [{'id': 803, 'main': 'Clouds', 'description': 'broken clouds', 'icon': '04n'}], 'clouds': {'all': 74}, 'wind': {'speed': 1.44, 'deg': 45, 'gust': 1.6}, 'visibility': 10000, 'pop': 0, 'sys': {'pod': 'n'}, 'dt_txt': '2023-08-18 00:00:00'}, {'dt': 1692327600, 'main': {'temp': 285.83, 'feels_like': 285.35, 'temp_min': 285.83, 'temp_max': 285.83, 'pressure': 1028, 'sea_level': 1028, 'grnd_level': 1011, 'humidity': 84, 'temp_kf': 0}, 'weather': [{'id': 803, 'main': 'Clouds', 'description': 'broken clouds', 'icon': '04n'}], 'clouds': {'all': 59}, 'wind': {'speed': 1.81, 'deg': 32, 'gust': 1.88}, 'visibility': 10000, 'pop': 0, 'sys': {'pod': 'n'}, 'dt_txt': '2023-08-18 03:00:00'}, {'dt': 1692338400, 'main': {'temp': 288.07, 'feels_like': 287.71, 'temp_min': 288.07, 'temp_max': 288.07, 'pressure': 1028, 'sea_level': 1028, 'grnd_level': 1011, 'humidity': 80, 'temp_kf': 0}, 'weather': [{'id': 803, 'main': 'Clouds', 'description': 'broken clouds', 'icon': '04d'}], 'clouds': {'all': 76}, 'wind': {'speed': 1.95, 'deg': 37, 'gust': 5.87}, 'visibility': 10000, 'pop': 0, 'sys': {'pod': 'd'}, 'dt_txt': '2023-08-18 06:00:00'}, {'dt': 1692349200, 'main': {'temp': 293.25, 'feels_like': 292.73, 'temp_min': 293.25, 'temp_max': 293.25, 'pressure': 1028, 'sea_level': 1028, 'grnd_level': 1011, 'humidity': 54, 'temp_kf': 0}, 'weather': [{'id': 803, 'main': 'Clouds', 'description': 'broken clouds', 'icon': '04d'}], 'clouds': {'all': 78}, 'wind': {'speed': 3.29, 'deg': 55, 'gust': 5.26}, 'visibility': 10000, 'pop': 0, 'sys': {'pod': 'd'}, 'dt_txt': '2023-08-18 09:00:00'}, {'dt': 1692360000, 'main': {'temp': 295, 'feels_like': 294.47, 'temp_min': 295, 'temp_max': 295, 'pressure': 1027, 'sea_level': 1027, 'grnd_level': 1011, 'humidity': 47, 'temp_kf': 0}, 'weather': [{'id': 804, 'main': 'Clouds', 'description': 'overcast clouds', 'icon': '04d'}], 'clouds': {'all': 88}, 'wind': {'speed': 3.43, 'deg': 58, 'gust': 5.46}, 'visibility': 10000, 'pop': 0, 'sys': {'pod': 'd'}, 'dt_txt': '2023-08-18 12:00:00'}, {'dt': 1692370800, 'main': {'temp': 294.43, 'feels_like': 294.08, 'temp_min': 294.43, 'temp_max': 294.43, 'pressure': 1026, 'sea_level': 1026, 'grnd_level': 1010, 'humidity': 56, 'temp_kf': 0}, 'weather': [{'id': 804, 'main': 'Clouds', 'description': 'overcast clouds', 'icon': '04d'}], 'clouds': {'all': 99}, 'wind': {'speed': 3.65, 'deg': 89, 'gust': 6.13}, 'visibility': 10000, 'pop': 0, 'sys': {'pod': 'd'}, 'dt_txt': '2023-08-18 15:00:00'}, {'dt': 1692381600, 'main': {'temp': 290.46, 'feels_like': 290.34, 'temp_min': 290.46, 'temp_max': 290.46, 'pressure': 1026, 'sea_level': 1026, 'grnd_level': 1010, 'humidity': 80, 'temp_kf': 0}, 'weather': [{'id': 500, 'main': 'Rain', 'description': 'light rain', 'icon': '10d'}], 'clouds': {'all': 100}, 'wind': {'speed': 2.45, 'deg': 64, 'gust': 6.98}, 'visibility': 10000, 'pop': 0.2, 'rain': {'3h': 0.18}, 'sys': {'pod': 'd'}, 'dt_txt': '2023-08-18 18:00:00'}, {'dt': 1692392400, 'main': {'temp': 288.71, 'feels_like': 288.78, 'temp_min': 288.71, 'temp_max': 288.71, 'pressure': 1027, 'sea_level': 1027, 'grnd_level': 1010, 'humidity': 94, 'temp_kf': 0}, 'weather': [{'id': 500, 'main': 'Rain', 'description': 'light rain', 'icon': '10n'}], 'clouds': {'all': 98}, 'wind': {'speed': 1.81, 'deg': 60, 'gust': 5.56}, 'visibility': 10000, 'pop': 0.45, 'rain': {'3h': 0.71}, 'sys': {'pod': 'n'}, 'dt_txt': '2023-08-18 21:00:00'}, {'dt': 1692403200, 'main': {'temp': 287.69, 'feels_like': 287.6, 'temp_min': 287.69, 'temp_max': 287.69, 'pressure': 1027, 'sea_level': 1027, 'grnd_level': 1010, 'humidity': 92, 'temp_kf': 0}, 'weather': [{'id': 500, 'main': 'Rain', 'description': 'light rain', 'icon': '10n'}], 'clouds': {'all': 96}, 'wind': {'speed': 2.82, 'deg': 63, 'gust': 7.64}, 'visibility': 10000, 'pop': 0.41, 'rain': {'3h': 0.18}, 'sys': {'pod': 'n'}, 'dt_txt': '2023-08-19 00:00:00'}, {'dt': 1692414000, 'main': {'temp': 286.54, 'feels_like': 286.28, 'temp_min': 286.54, 'temp_max': 286.54, 'pressure': 1026, 'sea_level': 1026, 'grnd_level': 1009, 'humidity': 90, 'temp_kf': 0}, 'weather': [{'id': 804, 'main': 'Clouds', 'description': 'overcast clouds', 'icon': '04n'}], 'clouds': {'all': 100}, 'wind': {'speed': 2.91, 'deg': 46, 'gust': 8.01}, 'visibility': 10000, 'pop': 0.02, 'sys': {'pod': 'n'}, 'dt_txt': '2023-08-19 03:00:00'}, {'dt': 1692424800, 'main': {'temp': 287.11, 'feels_like': 286.73, 'temp_min': 287.11, 'temp_max': 287.11, 'pressure': 1026, 'sea_level': 1026, 'grnd_level': 1009, 'humidity': 83, 'temp_kf': 0}, 'weather': [{'id': 804, 'main': 'Clouds', 'description': 'overcast clouds', 'icon': '04d'}], 'clouds': {'all': 93}, 'wind': {'speed': 3.57, 'deg': 36, 'gust': 8.68}, 'visibility': 10000, 'pop': 0, 'sys': {'pod': 'd'}, 'dt_txt': '2023-08-19 06:00:00'}, {'dt': 1692435600, 'main': {'temp': 288.98, 'feels_like': 288.55, 'temp_min': 288.98, 'temp_max': 288.98, 'pressure': 1025, 'sea_level': 1025, 'grnd_level': 1008, 'humidity': 74, 'temp_kf': 0}, 'weather': [{'id': 803, 'main': 'Clouds', 'description': 'broken clouds', 'icon': '04d'}], 'clouds': {'all': 73}, 'wind': {'speed': 3.83, 'deg': 51, 'gust': 7.68}, 'visibility': 10000, 'pop': 0, 'sys': {'pod': 'd'}, 'dt_txt': '2023-08-19 09:00:00'}, {'dt': 1692446400, 'main': {'temp': 288.97, 'feels_like': 288.51, 'temp_min': 288.97, 'temp_max': 288.97, 'pressure': 1024, 'sea_level': 1024, 'grnd_level': 1007, 'humidity': 73, 'temp_kf': 0}, 'weather': [{'id': 804, 'main': 'Clouds', 'description': 'overcast clouds', 'icon': '04d'}], 'clouds': {'all': 87}, 'wind': {'speed': 3.68, 'deg': 51, 'gust': 6.75}, 'visibility': 10000, 'pop': 0, 'sys': {'pod': 'd'}, 'dt_txt': '2023-08-19 12:00:00'}, {'dt': 1692457200, 'main': {'temp': 289.54, 'feels_like': 289.19, 'temp_min': 289.54, 'temp_max': 289.54, 'pressure': 1022, 'sea_level': 1022, 'grnd_level': 1006, 'humidity': 75, 'temp_kf': 0}, 'weather': [{'id': 804, 'main': 'Clouds', 'description': 'overcast clouds', 'icon': '04d'}], 'clouds': {'all': 100}, 'wind': {'speed': 2.93, 'deg': 55, 'gust': 6.03}, 'visibility': 10000, 'pop': 0, 'sys': {'pod': 'd'}, 'dt_txt': '2023-08-19 15:00:00'}, {'dt': 1692468000, 'main': {'temp': 288.43, 'feels_like': 288.13, 'temp_min': 288.43, 'temp_max': 288.43, 'pressure': 1021, 'sea_level': 1021, 'grnd_level': 1004, 'humidity': 81, 'temp_kf': 0}, 'weather': [{'id': 804, 'main': 'Clouds', 'description': 'overcast clouds', 'icon': '04d'}], 'clouds': {'all': 100}, 'wind': {'speed': 2.83, 'deg': 35, 'gust': 7.15}, 'visibility': 10000, 'pop': 0, 'sys': {'pod': 'd'}, 'dt_txt': '2023-08-19 18:00:00'}, {'dt': 1692478800, 'main': {'temp': 288.01, 'feels_like': 287.8, 'temp_min': 288.01, 'temp_max': 288.01, 'pressure': 1020, 'sea_level': 1020, 'grnd_level': 1003, 'humidity': 86, 'temp_kf': 0}, 'weather': [{'id': 804, 'main': 'Clouds', 'description': 'overcast clouds', 'icon': '04n'}], 'clouds': {'all': 100}, 'wind': {'speed': 2.56, 'deg': 28, 'gust': 7.2}, 'visibility': 10000, 'pop': 0.03, 'sys': {'pod': 'n'}, 'dt_txt': '2023-08-19 21:00:00'}, {'dt': 1692489600, 'main': {'temp': 288.83, 'feels_like': 288.99, 'temp_min': 288.83, 'temp_max': 288.83, 'pressure': 1017, 'sea_level': 1017, 'grnd_level': 1001, 'humidity': 97, 'temp_kf': 0}, 'weather': [{'id': 500, 'main': 'Rain', 'description': 'light rain', 'icon': '10n'}], 'clouds': {'all': 100}, 'wind': {'speed': 1.41, 'deg': 90, 'gust': 6.34}, 'visibility': 5113, 'pop': 0.72, 'rain': {'3h': 2.31}, 'sys': {'pod': 'n'}, 'dt_txt': '2023-08-20 00:00:00'}, {'dt': 1692500400, 'main': {'temp': 289.28, 'feels_like': 289.53, 'temp_min': 289.28, 'temp_max': 289.28, 'pressure': 1017, 'sea_level': 1017, 'grnd_level': 1000, 'humidity': 99, 'temp_kf': 0}, 'weather': [{'id': 501, 'main': 'Rain', 'description': 'moderate rain', 'icon': '10n'}], 'clouds': {'all': 100}, 'wind': {'speed': 0.34, 'deg': 38, 'gust': 3.3}, 'visibility': 443, 'pop': 1, 'rain': {'3h': 6.32}, 'sys': {'pod': 'n'}, 'dt_txt': '2023-08-20 03:00:00'}, {'dt': 1692511200, 'main': {'temp': 289.08, 'feels_like': 289.31, 'temp_min': 289.08, 'temp_max': 289.08, 'pressure': 1017, 'sea_level': 1017, 'grnd_level': 1000, 'humidity': 99, 'temp_kf': 0}, 'weather': [{'id': 500, 'main': 'Rain', 'description': 'light rain', 'icon': '10d'}], 'clouds': {'all': 100}, 'wind': {'speed': 0.54, 'deg': 300, 'gust': 1.74}, 'visibility': 1474, 'pop': 1, 'rain': {'3h': 0.42}, 'sys': {'pod': 'd'}, 'dt_txt': '2023-08-20 06:00:00'}, {'dt': 1692522000, 'main': {'temp': 288.9, 'feels_like': 289.04, 'temp_min': 288.9, 'temp_max': 288.9, 'pressure': 1018, 'sea_level': 1018, 'grnd_level': 1001, 'humidity': 96, 'temp_kf': 0}, 'weather': [{'id': 804, 'main': 'Clouds', 'description': 'overcast clouds', 'icon': '04d'}], 'clouds': {'all': 100}, 'wind': {'speed': 1.23, 'deg': 269, 'gust': 2.09}, 'visibility': 10000, 'pop': 0.08, 'sys': {'pod': 'd'}, 'dt_txt': '2023-08-20 09:00:00'}, {'dt': 1692532800, 'main': {'temp': 292.23, 'feels_like': 292.31, 'temp_min': 292.23, 'temp_max': 292.23, 'pressure': 1018, 'sea_level': 1018, 'grnd_level': 1001, 'humidity': 81, 'temp_kf': 0}, 'weather': [{'id': 804, 'main': 'Clouds', 'description': 'overcast clouds', 'icon': '04d'}], 'clouds': {'all': 97}, 'wind': {'speed': 1.73, 'deg': 237, 'gust': 3.09}, 'visibility': 10000, 'pop': 0, 'sys': {'pod': 'd'}, 'dt_txt': '2023-08-20 12:00:00'}, {'dt': 1692543600, 'main': {'temp': 292.97, 'feels_like': 292.99, 'temp_min': 292.97, 'temp_max': 292.97, 'pressure': 1017, 'sea_level': 1017, 'grnd_level': 1001, 'humidity': 76, 'temp_kf': 0}, 'weather': [{'id': 804, 'main': 'Clouds', 'description': 'overcast clouds', 'icon': '04d'}], 'clouds': {'all': 97}, 'wind': {'speed': 2.38, 'deg': 192, 'gust': 3.46}, 'visibility': 10000, 'pop': 0, 'sys': {'pod': 'd'}, 'dt_txt': '2023-08-20 15:00:00'}, {'dt': 1692554400, 'main': {'temp': 290.43, 'feels_like': 290.51, 'temp_min': 290.43, 'temp_max': 290.43, 'pressure': 1018, 'sea_level': 1018, 'grnd_level': 1001, 'humidity': 88, 'temp_kf': 0}, 'weather': [{'id': 804, 'main': 'Clouds', 'description': 'overcast clouds', 'icon': '04d'}], 'clouds': {'all': 96}, 'wind': {'speed': 2.05, 'deg': 167, 'gust': 4.54}, 'visibility': 10000, 'pop': 0, 'sys': {'pod': 'd'}, 'dt_txt': '2023-08-20 18:00:00'}, {'dt': 1692565200, 'main': {'temp': 287.16, 'feels_like': 287.15, 'temp_min': 287.16, 'temp_max': 287.16, 'pressure': 1018, 'sea_level': 1018, 'grnd_level': 1002, 'humidity': 97, 'temp_kf': 0}, 'weather': [{'id': 800, 'main': 'Clear', 'description': 'clear sky', 'icon': '01n'}], 'clouds': {'all': 3}, 'wind': {'speed': 0.92, 'deg': 103, 'gust': 0.93}, 'visibility': 10000, 'pop': 0, 'sys': {'pod': 'n'}, 'dt_txt': '2023-08-20 21:00:00'}, {'dt': 1692576000, 'main': {'temp': 286.09, 'feels_like': 285.97, 'temp_min': 286.09, 'temp_max': 286.09, 'pressure': 1019, 'sea_level': 1019, 'grnd_level': 1002, 'humidity': 97, 'temp_kf': 0}, 'weather': [{'id': 800, 'main': 'Clear', 'description': 'clear sky', 'icon': '01n'}], 'clouds': {'all': 3}, 'wind': {'speed': 0.86, 'deg': 75, 'gust': 0.86}, 'visibility': 10000, 'pop': 0, 'sys': {'pod': 'n'}, 'dt_txt': '2023-08-21 00:00:00'}, {'dt': 1692586800, 'main': {'temp': 285.38, 'feels_like': 285.22, 'temp_min': 285.38, 'temp_max': 285.38, 'pressure': 1018, 'sea_level': 1018, 'grnd_level': 1001, 'humidity': 98, 'temp_kf': 0}, 'weather': [{'id': 800, 'main': 'Clear', 'description': 'clear sky', 'icon': '01n'}], 'clouds': {'all': 8}, 'wind': {'speed': 0.83, 'deg': 86, 'gust': 0.81}, 'visibility': 10000, 'pop': 0, 'sys': {'pod': 'n'}, 'dt_txt': '2023-08-21 03:00:00'}, {'dt': 1692597600, 'main': {'temp': 287.5, 'feels_like': 287.42, 'temp_min': 287.5, 'temp_max': 287.5, 'pressure': 1017, 'sea_level': 1017, 'grnd_level': 1001, 'humidity': 93, 'temp_kf': 0}, 'weather': [{'id': 802, 'main': 'Clouds', 'description': 'scattered clouds', 'icon': '03d'}], 'clouds': {'all': 25}, 'wind': {'speed': 0.76, 'deg': 139, 'gust': 1.24}, 'visibility': 10000, 'pop': 0, 'sys': {'pod': 'd'}, 'dt_txt': '2023-08-21 06:00:00'}, {'dt': 1692608400, 'main': {'temp': 290.28, 'feels_like': 290.14, 'temp_min': 290.28, 'temp_max': 290.28, 'pressure': 1017, 'sea_level': 1017, 'grnd_level': 1001, 'humidity': 80, 'temp_kf': 0}, 'weather': [{'id': 804, 'main': 'Clouds', 'description': 'overcast clouds', 'icon': '04d'}], 'clouds': {'all': 87}, 'wind': {'speed': 1.56, 'deg': 183, 'gust': 2.18}, 'visibility': 10000, 'pop': 0, 'sys': {'pod': 'd'}, 'dt_txt': '2023-08-21 09:00:00'}], 'city': {'id': 3139081, 'name': 'Ski', 'coord': {'lat': 59.7195, 'lon': 10.8358}, 'country': 'NO', 'population': 12513, 'timezone': 7200, 'sunrise': 1692156826, 'sunset': 1692212914}}\")\n"
     ]
    }
   ],
   "source": [
    "# Query the data\n",
    "forecast_rows = session.execute(\"SELECT * FROM forecast_table;\")\n",
    "print(forecast_rows.one()) # <- only one row"
   ]
  }
 ],
 "metadata": {
  "kernelspec": {
   "display_name": "tf_M1",
   "language": "python",
   "name": "python3"
  },
  "language_info": {
   "codemirror_mode": {
    "name": "ipython",
    "version": 3
   },
   "file_extension": ".py",
   "mimetype": "text/x-python",
   "name": "python",
   "nbconvert_exporter": "python",
   "pygments_lexer": "ipython3",
   "version": "3.10.6"
  }
 },
 "nbformat": 4,
 "nbformat_minor": 2
}