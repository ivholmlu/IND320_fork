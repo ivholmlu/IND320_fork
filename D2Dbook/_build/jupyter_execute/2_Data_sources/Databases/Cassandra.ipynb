{
 "cells": [
  {
   "cell_type": "markdown",
   "metadata": {
    "slideshow": {
     "slide_type": "slide"
    }
   },
   "source": [
    "# Cassandra\n",
    "Assumptions:\n",
    "- Docker installed on system\n",
    "- \"cassandra:latest\" image installed in docker\n",
    "- Python/Conda environment with python 3.8 (or newer*)  \n",
    "  \n",
    "*As of 9 August 2023, the officially built cassandra-driver package was at version 3.25 and did not work well with Python 3.10 on Mac.  \n",
    "To install a newer version from the terminal you can:  \n",
    "```\n",
    "pip install git+https://github.com/datastax/python-driver.git\n",
    "pip install cql\n",
    "```"
   ]
  },
  {
   "cell_type": "markdown",
   "metadata": {
    "slideshow": {
     "slide_type": "slide"
    }
   },
   "source": [
    "Or use older Python:  \n",
    "```\n",
    "conda create --name cassy38 python=3.8 jupyter scikit-learn\n",
    "conda activate cassy38  \n",
    "pip install cassandra-driver cql\n",
    "```"
   ]
  },
  {
   "cell_type": "markdown",
   "metadata": {
    "slideshow": {
     "slide_type": "slide"
    }
   },
   "source": [
    "## Spinning up a local cassandra instance\n",
    "In a terminal, first time:  \n",
    "```docker run --name my_cassandra -p 9042:9042 cassandra:latest```  \n",
    "... and later:  \n",
    "```docker start my_cassandra```  \n",
    "  \n",
    ".. or in Docker Desktop:\n",
    "- Run the cassandra docker image with optional settings, opening 9042 port and setting a name.\n",
    "- Later, simply run the container with the name you chose."
   ]
  },
  {
   "cell_type": "markdown",
   "metadata": {
    "slideshow": {
     "slide_type": "slide"
    }
   },
   "source": [
    "<img src=\"../../images/Docker_images.png\" width=\"600px\">  "
   ]
  },
  {
   "cell_type": "markdown",
   "metadata": {
    "slideshow": {
     "slide_type": "slide"
    }
   },
   "source": [
    "\n",
    "<img src=\"../../images/Docker_containers.png\" width=\"800px\">  "
   ]
  },
  {
   "cell_type": "markdown",
   "metadata": {
    "slideshow": {
     "slide_type": "slide"
    }
   },
   "source": [
    "### Connect to the Cassandra cluster from Python."
   ]
  },
  {
   "cell_type": "code",
   "execution_count": 1,
   "metadata": {
    "slideshow": {
     "slide_type": "-"
    }
   },
   "outputs": [],
   "source": [
    "# Connecting to Cassandra\n",
    "from cassandra.cluster import Cluster\n",
    "cluster = Cluster(['localhost'], port=9042)\n",
    "session = cluster.connect()"
   ]
  },
  {
   "cell_type": "markdown",
   "metadata": {
    "slideshow": {
     "slide_type": "slide"
    }
   },
   "source": [
    "### Keyspace\n",
    "- In Cassandra database tables are stored in keyspaces (basically a distributed database).\n",
    "- These have parameters controlling their distribution on nodes/servers and redundancy.\n",
    "- We will use the simplest form locally."
   ]
  },
  {
   "cell_type": "code",
   "execution_count": 2,
   "metadata": {
    "slideshow": {
     "slide_type": "fragment"
    }
   },
   "outputs": [
    {
     "data": {
      "text/plain": [
       "<cassandra.cluster.ResultSet at 0x10723a260>"
      ]
     },
     "execution_count": 2,
     "metadata": {},
     "output_type": "execute_result"
    }
   ],
   "source": [
    "# Set up new keyspace (first time only)\n",
    "#                                              name of keyspace                        replication strategy           replication factor\n",
    "session.execute(\"CREATE KEYSPACE IF NOT EXISTS my_first_keyspace WITH REPLICATION = { 'class' : 'SimpleStrategy', 'replication_factor' : 1 };\")"
   ]
  },
  {
   "cell_type": "markdown",
   "metadata": {
    "slideshow": {
     "slide_type": "slide"
    }
   },
   "source": [
    "### Create a table\n",
    "- IF NOT EXISTS makes sure we do not overwrite existing tables"
   ]
  },
  {
   "cell_type": "code",
   "execution_count": 3,
   "metadata": {
    "slideshow": {
     "slide_type": "fragment"
    }
   },
   "outputs": [
    {
     "data": {
      "text/plain": [
       "<cassandra.cluster.ResultSet at 0x107232b60>"
      ]
     },
     "execution_count": 3,
     "metadata": {},
     "output_type": "execute_result"
    }
   ],
   "source": [
    "# Create a new table (first time only)\n",
    "session.set_keyspace('my_first_keyspace')\n",
    "session.execute(\"DROP TABLE IF EXISTS my_first_keyspace.my_first_table;\") # Starting from scratch every time\n",
    "session.execute(\"CREATE TABLE IF NOT EXISTS my_first_table (ind int PRIMARY KEY, company text, model text);\")"
   ]
  },
  {
   "cell_type": "markdown",
   "metadata": {
    "slideshow": {
     "slide_type": "slide"
    }
   },
   "source": [
    "### Inserting and reading data"
   ]
  },
  {
   "cell_type": "code",
   "execution_count": 4,
   "metadata": {
    "slideshow": {
     "slide_type": "-"
    }
   },
   "outputs": [
    {
     "data": {
      "text/plain": [
       "<cassandra.cluster.ResultSet at 0x107250460>"
      ]
     },
     "execution_count": 4,
     "metadata": {},
     "output_type": "execute_result"
    }
   ],
   "source": [
    "# Insert some data (ind is the primary key, must be unique)\n",
    "session.execute(\"INSERT INTO my_first_table (ind, company, model) VALUES (1, 'Tesla', 'Model S');\")\n",
    "session.execute(\"INSERT INTO my_first_table (ind, company, model) VALUES (2, 'Tesla', 'Model 3');\")\n",
    "session.execute(\"INSERT INTO my_first_table (ind, company, model) VALUES (3, 'Polestar', '3');\")"
   ]
  },
  {
   "cell_type": "markdown",
   "metadata": {
    "slideshow": {
     "slide_type": "slide"
    }
   },
   "source": [
    "### Asyncronous writing\n",
    "- If your application is very data intensive, waiting for a response is not productive.\n",
    "- Writing asyncronously sends the data but does not pause for reply."
   ]
  },
  {
   "cell_type": "code",
   "execution_count": 5,
   "metadata": {
    "slideshow": {
     "slide_type": "-"
    }
   },
   "outputs": [
    {
     "data": {
      "text/plain": [
       "<ResponseFuture: query='<SimpleStatement query=\"INSERT INTO my_first_table (ind, company, model) VALUES (4, 'Volkswagen', 'ID.4');\", consistency=Not Set>' request_id=24 result=(no result yet) exception=None coordinator_host=None>"
      ]
     },
     "execution_count": 5,
     "metadata": {},
     "output_type": "execute_result"
    }
   ],
   "source": [
    "session.execute_async(\"INSERT INTO my_first_table (ind, company, model) VALUES (4, 'Volkswagen', 'ID.4');\")"
   ]
  },
  {
   "cell_type": "code",
   "execution_count": 6,
   "metadata": {
    "slideshow": {
     "slide_type": "slide"
    }
   },
   "outputs": [
    {
     "name": "stdout",
     "output_type": "stream",
     "text": [
      "Row(ind=1, company='Tesla', model='Model S')\n",
      "Row(ind=2, company='Tesla', model='Model 3')\n",
      "Row(ind=4, company='Volkswagen', model='ID.4')\n",
      "Row(ind=3, company='Polestar', model='3')\n"
     ]
    }
   ],
   "source": [
    "# Query the data\n",
    "rows = session.execute(\"SELECT * FROM my_first_table;\")\n",
    "for i in rows:\n",
    "    print(i)"
   ]
  },
  {
   "cell_type": "code",
   "execution_count": 7,
   "metadata": {
    "slideshow": {
     "slide_type": "slide"
    },
    "tags": [
     "raises-exception"
    ]
   },
   "outputs": [
    {
     "ename": "InvalidRequest",
     "evalue": "Error from server: code=2200 [Invalid query] message=\"Cannot execute this query as it might involve data filtering and thus may have unpredictable performance. If you want to execute this query despite the performance unpredictability, use ALLOW FILTERING\"",
     "output_type": "error",
     "traceback": [
      "\u001b[0;31m---------------------------------------------------------------------------\u001b[0m",
      "\u001b[0;31mInvalidRequest\u001b[0m                            Traceback (most recent call last)",
      "Cell \u001b[0;32mIn [7], line 2\u001b[0m\n\u001b[1;32m      1\u001b[0m \u001b[38;5;66;03m# More specific query\u001b[39;00m\n\u001b[0;32m----> 2\u001b[0m prepared_statement \u001b[38;5;241m=\u001b[39m \u001b[43msession\u001b[49m\u001b[38;5;241;43m.\u001b[39;49m\u001b[43mprepare\u001b[49m\u001b[43m(\u001b[49m\u001b[38;5;124;43m\"\u001b[39;49m\u001b[38;5;124;43mSELECT * FROM my_first_table WHERE company=?;\u001b[39;49m\u001b[38;5;124;43m\"\u001b[39;49m\u001b[43m)\u001b[49m \u001b[38;5;66;03m# <- will fail as company is not a key\u001b[39;00m\n\u001b[1;32m      3\u001b[0m teslas \u001b[38;5;241m=\u001b[39m session\u001b[38;5;241m.\u001b[39mexecute(prepared_statement, [\u001b[38;5;124m'\u001b[39m\u001b[38;5;124mTesla\u001b[39m\u001b[38;5;124m'\u001b[39m])\n\u001b[1;32m      4\u001b[0m \u001b[38;5;28;01mfor\u001b[39;00m i \u001b[38;5;129;01min\u001b[39;00m teslas:\n",
      "File \u001b[0;32m~/miniforge3/envs/tf_M1/lib/python3.10/site-packages/cassandra/cluster.py:3088\u001b[0m, in \u001b[0;36mSession.prepare\u001b[0;34m(self, query, custom_payload, keyspace)\u001b[0m\n\u001b[1;32m   3086\u001b[0m \u001b[38;5;28;01mtry\u001b[39;00m:\n\u001b[1;32m   3087\u001b[0m     future\u001b[38;5;241m.\u001b[39msend_request()\n\u001b[0;32m-> 3088\u001b[0m     response \u001b[38;5;241m=\u001b[39m \u001b[43mfuture\u001b[49m\u001b[38;5;241;43m.\u001b[39;49m\u001b[43mresult\u001b[49m\u001b[43m(\u001b[49m\u001b[43m)\u001b[49m\u001b[38;5;241m.\u001b[39mone()\n\u001b[1;32m   3089\u001b[0m \u001b[38;5;28;01mexcept\u001b[39;00m \u001b[38;5;167;01mException\u001b[39;00m:\n\u001b[1;32m   3090\u001b[0m     log\u001b[38;5;241m.\u001b[39mexception(\u001b[38;5;124m\"\u001b[39m\u001b[38;5;124mError preparing query:\u001b[39m\u001b[38;5;124m\"\u001b[39m)\n",
      "File \u001b[0;32m~/miniforge3/envs/tf_M1/lib/python3.10/site-packages/cassandra/cluster.py:4920\u001b[0m, in \u001b[0;36mResponseFuture.result\u001b[0;34m(self)\u001b[0m\n\u001b[1;32m   4918\u001b[0m     \u001b[38;5;28;01mreturn\u001b[39;00m ResultSet(\u001b[38;5;28mself\u001b[39m, \u001b[38;5;28mself\u001b[39m\u001b[38;5;241m.\u001b[39m_final_result)\n\u001b[1;32m   4919\u001b[0m \u001b[38;5;28;01melse\u001b[39;00m:\n\u001b[0;32m-> 4920\u001b[0m     \u001b[38;5;28;01mraise\u001b[39;00m \u001b[38;5;28mself\u001b[39m\u001b[38;5;241m.\u001b[39m_final_exception\n",
      "\u001b[0;31mInvalidRequest\u001b[0m: Error from server: code=2200 [Invalid query] message=\"Cannot execute this query as it might involve data filtering and thus may have unpredictable performance. If you want to execute this query despite the performance unpredictability, use ALLOW FILTERING\""
     ]
    }
   ],
   "source": [
    "# More specific query\n",
    "prepared_statement = session.prepare(\"SELECT * FROM my_first_table WHERE company=?;\") # <- will fail as company is not a key\n",
    "teslas = session.execute(prepared_statement, ['Tesla'])\n",
    "for i in teslas:\n",
    "    print(i)"
   ]
  },
  {
   "cell_type": "markdown",
   "metadata": {
    "slideshow": {
     "slide_type": "slide"
    }
   },
   "source": [
    "## Cassandra filtering\n",
    "Cassandra is inherently a distributed production database. Selecting as above may require downloading all data from a node, then filtering based on the WHERE part (only PRIMARY KEYs are centrally known). Solutions:  \n",
    "- If the table is small or most of the data will satisfy the query, add ```ALLOW FILTERING``` at the end of the query (not recommended if not known). \n",
    "- Or make sure the WHERE clause points to one of the keys (see below)."
   ]
  },
  {
   "cell_type": "code",
   "execution_count": 8,
   "metadata": {
    "slideshow": {
     "slide_type": "slide"
    }
   },
   "outputs": [
    {
     "data": {
      "text/plain": [
       "<cassandra.cluster.ResultSet at 0x10724bc70>"
      ]
     },
     "execution_count": 8,
     "metadata": {},
     "output_type": "execute_result"
    }
   ],
   "source": [
    "# Create a new table (observe keys)\n",
    "session.execute(\"DROP TABLE IF EXISTS my_first_keyspace.car_table;\")\n",
    "session.execute(\"CREATE TABLE IF NOT EXISTS car_table (company text, model text, PRIMARY KEY(company, model));\")"
   ]
  },
  {
   "cell_type": "code",
   "execution_count": 9,
   "metadata": {
    "slideshow": {
     "slide_type": "fragment"
    }
   },
   "outputs": [
    {
     "data": {
      "text/plain": [
       "<cassandra.cluster.ResultSet at 0x107e02950>"
      ]
     },
     "execution_count": 9,
     "metadata": {},
     "output_type": "execute_result"
    }
   ],
   "source": [
    "# Insert some data (combination of company and model must be unique)\n",
    "session.execute(\"INSERT INTO car_table (company, model) VALUES ('Tesla', 'Model S');\")\n",
    "session.execute(\"INSERT INTO car_table (company, model) VALUES ('Tesla', 'Model 3');\")\n",
    "session.execute(\"INSERT INTO car_table (company, model) VALUES ('Polestar', '3');\")\n",
    "session.execute(\"INSERT INTO car_table (company, model) VALUES ('Volkswagen', 'ID.4');\")"
   ]
  },
  {
   "cell_type": "code",
   "execution_count": 10,
   "metadata": {
    "slideshow": {
     "slide_type": "slide"
    }
   },
   "outputs": [
    {
     "name": "stdout",
     "output_type": "stream",
     "text": [
      "Row(company='Tesla', model='Model 3')\n",
      "Row(company='Tesla', model='Model S')\n"
     ]
    }
   ],
   "source": [
    "# More specific query now works\n",
    "prepared_statement = session.prepare(\"SELECT * FROM car_table WHERE company=?;\")\n",
    "teslas = session.execute(prepared_statement, ['Tesla'])\n",
    "for i in teslas:\n",
    "    print(i)"
   ]
  },
  {
   "cell_type": "markdown",
   "metadata": {
    "slideshow": {
     "slide_type": "slide"
    }
   },
   "source": [
    "### Partitions\n",
    "- Cassandra databases are usually replicated over different nodes.\n",
    "- Data is stored in partitions (subsets) which have local copys.\n",
    "- The primary key, e.g., PRIMARY KEY(company, model), is used in partitioning.\n",
    "    - The first part, e.g., company, is most important.\n",
    "    - All cars from a company will be located together, aiming for quicker queries."
   ]
  },
  {
   "cell_type": "markdown",
   "metadata": {
    "slideshow": {
     "slide_type": "slide"
    }
   },
   "source": [
    "### Unique IDs \n",
    "- In MySQL one could use the attribute AUTO_INCREMENT on integer IDs to automatically make a new unique index when inserting data.\n",
    "- This would cause unreasonable overhead in a distributed database.\n",
    "- [UUID](https://en.wikipedia.org/wiki/Universally_unique_identifier)s are used instead.\n",
    "    - Universally Unique Identifiers are typically 128-bit random bit sequences with extremely low probability of duplication.\n",
    "    - Cassandra uses a [timeuuid](https://docs.datastax.com/en/cql-oss/3.3/cql/cql_reference/timeuuid_functions_r.html) type to combine a timestamp and uuid in one."
   ]
  },
  {
   "cell_type": "code",
   "execution_count": 11,
   "metadata": {
    "slideshow": {
     "slide_type": "fragment"
    }
   },
   "outputs": [
    {
     "data": {
      "text/plain": [
       "<cassandra.cluster.ResultSet at 0x107e033a0>"
      ]
     },
     "execution_count": 11,
     "metadata": {},
     "output_type": "execute_result"
    }
   ],
   "source": [
    "# Create a new table (first time only)\n",
    "session.set_keyspace('my_first_keyspace')\n",
    "session.execute(\"DROP TABLE IF EXISTS my_first_keyspace.table_with_uuid;\")\n",
    "session.execute(\"CREATE TABLE IF NOT EXISTS table_with_uuid (id timeuuid PRIMARY KEY, company text, model text, price float);\")"
   ]
  },
  {
   "cell_type": "code",
   "execution_count": 12,
   "metadata": {
    "slideshow": {
     "slide_type": "slide"
    }
   },
   "outputs": [
    {
     "data": {
      "text/plain": [
       "<cassandra.cluster.ResultSet at 0x107e03370>"
      ]
     },
     "execution_count": 12,
     "metadata": {},
     "output_type": "execute_result"
    }
   ],
   "source": [
    "session.execute(\"INSERT INTO table_with_uuid (id, company, model, price) VALUES (now(), 'Tesla', 'Model S', 20000.0);\")\n",
    "session.execute(\"INSERT INTO table_with_uuid (id, company, model, price) VALUES (now(), 'Tesla', 'Model S', 21000.0);\")\n",
    "session.execute(\"INSERT INTO table_with_uuid (id, company, model, price) VALUES (now(), 'Oldsmobile', 'Model 6C', 135000.0);\")"
   ]
  },
  {
   "cell_type": "code",
   "execution_count": 13,
   "metadata": {
    "slideshow": {
     "slide_type": "slide"
    }
   },
   "outputs": [
    {
     "name": "stdout",
     "output_type": "stream",
     "text": [
      "Row(id=UUID('a07797a0-4e26-11ee-9429-ad37399ff905'), company='Tesla', model='Model S', price=20000.0)\n",
      "Datetime: 2023-09-08 09:03:50.298000\n",
      "Row(id=UUID('a077e5c0-4e26-11ee-9429-ad37399ff905'), company='Tesla', model='Model S', price=21000.0)\n",
      "Datetime: 2023-09-08 09:03:50.300000\n",
      "Row(id=UUID('a0780cd0-4e26-11ee-9429-ad37399ff905'), company='Oldsmobile', model='Model 6C', price=135000.0)\n",
      "Datetime: 2023-09-08 09:03:50.301000\n"
     ]
    }
   ],
   "source": [
    "from cassandra.util import datetime_from_uuid1\n",
    "\n",
    "# Query the data\n",
    "rows = session.execute(\"SELECT * FROM table_with_uuid;\")\n",
    "for i in rows:\n",
    "    print(i)\n",
    "    # Extract the timestamp from Cassandra's timeuuid\n",
    "    print(\"Datetime:\", datetime_from_uuid1(i.id))"
   ]
  },
  {
   "cell_type": "markdown",
   "metadata": {
    "slideshow": {
     "slide_type": "slide"
    }
   },
   "source": [
    "## JSON in Cassandra\n",
    "### Read previously saved JSON file forecast.json to memory"
   ]
  },
  {
   "cell_type": "code",
   "execution_count": 14,
   "metadata": {
    "slideshow": {
     "slide_type": "-"
    }
   },
   "outputs": [],
   "source": [
    "import json\n",
    "with open('../APIs/downloads/forecast.json', 'r') as f:\n",
    "    forecast = json.load(f)"
   ]
  },
  {
   "cell_type": "code",
   "execution_count": 15,
   "metadata": {
    "slideshow": {
     "slide_type": "slide"
    }
   },
   "outputs": [
    {
     "data": {
      "text/plain": [
       "\"{'cod': '200', 'message': 0, 'cnt': 40, 'list': [{'dt': 1694174400, 'main': {'temp': 291.17, 'feels_like': 291.33, 'temp_min': 291.17, 'temp_max': 294.13, 'pressure': 1021, 'sea_level': 1021, 'grnd_level': 1003, 'humidity': 88, 'temp_kf': -2.96}, 'weather': [{'id': 804, 'main': 'Clouds', 'description': 'overcast clouds', 'icon': '04d'}], 'clouds': {'all': 100}, 'wind': {'speed': 3.69, 'deg': 197, 'gust': 6.17}, 'visibility': 10000, 'pop': 0, 'sys': {'pod': 'd'}, 'dt_txt': '2023-09-08 12:00:00'}, {'dt': 1694185200, 'main': {'temp': 292, 'feels_like': 292, 'temp_min': 292, 'temp_max': 293.15, 'pressure': 1020, 'sea_level': 1020, 'grnd_level': 1003, 'humidity': 79, 'temp_kf': -1.15}, 'weather': [{'id': 803, 'main': 'Clouds', 'description': 'broken clouds', 'icon': '04d'}], 'clouds': {'all': 84}, 'wind': {'speed': 3.8, 'deg': 189, 'gust': 6.58}, 'visibility': 10000, 'pop': 0, 'sys': {'pod': 'd'}, 'dt_txt': '2023-09-08 15:00:00'}, {'dt': 1694196000, 'main': {'temp': 288.06, 'feels_like': 288.14, 'temp_min': 288.06, 'temp_max': 288.06, 'pressure': 1019, 'sea_level': 1019, 'grnd_level': 1002, 'humidity': 97, 'temp_kf': 0}, 'weather': [{'id': 803, 'main': 'Clouds', 'description': 'broken clouds', 'icon': '04d'}], 'clouds': {'all': 77}, 'wind': {'speed': 2.14, 'deg': 167, 'gust': 5.89}, 'visibility': 10000, 'pop': 0, 'sys': {'pod': 'd'}, 'dt_txt': '2023-09-08 18:00:00'}, {'dt': 1694206800, 'main': {'temp': 286.92, 'feels_like': 286.94, 'temp_min': 286.92, 'temp_max': 286.92, 'pressure': 1018, 'sea_level': 1018, 'grnd_level': 1002, 'humidity': 99, 'temp_kf': 0}, 'weather': [{'id': 803, 'main': 'Clouds', 'description': 'broken clouds', 'icon': '04n'}], 'clouds': {'all': 56}, 'wind': {'speed': 1.58, 'deg': 160, 'gust': 4.1}, 'visibility': 10000, 'pop': 0, 'sys': {'pod': 'n'}, 'dt_txt': '2023-09-08 21:00:00'}, {'dt': 1694217600, 'main': {'temp': 286.76, 'feels_like': 286.76, 'temp_min': 286.76, 'temp_max': 286.76, 'pressure': 1018, 'sea_level': 1018, 'grnd_level': 1001, 'humidity': 99, 'temp_kf': 0}, 'weather': [{'id': 803, 'main': 'Clouds', 'description': 'broken clouds', 'icon': '04n'}], 'clouds': {'all': 78}, 'wind': {'speed': 1.22, 'deg': 144, 'gust': 1.35}, 'visibility': 10000, 'pop': 0, 'sys': {'pod': 'n'}, 'dt_txt': '2023-09-09 00:00:00'}, {'dt': 1694228400, 'main': {'temp': 286.76, 'feels_like': 286.76, 'temp_min': 286.76, 'temp_max': 286.76, 'pressure': 1017, 'sea_level': 1017, 'grnd_level': 1001, 'humidity': 99, 'temp_kf': 0}, 'weather': [{'id': 804, 'main': 'Clouds', 'description': 'overcast clouds', 'icon': '04n'}], 'clouds': {'all': 99}, 'wind': {'speed': 0.95, 'deg': 126, 'gust': 1.32}, 'visibility': 3205, 'pop': 0, 'sys': {'pod': 'n'}, 'dt_txt': '2023-09-09 03:00:00'}, {'dt': 1694239200, 'main': {'temp': 288.1, 'feels_like': 288.13, 'temp_min': 288.1, 'temp_max': 288.1, 'pressure': 1017, 'sea_level': 1017, 'grnd_level': 1001, 'humidity': 95, 'temp_kf': 0}, 'weather': [{'id': 804, 'main': 'Clouds', 'description': 'overcast clouds', 'icon': '04d'}], 'clouds': {'all': 99}, 'wind': {'speed': 0.89, 'deg': 139, 'gust': 2.22}, 'visibility': 8768, 'pop': 0, 'sys': {'pod': 'd'}, 'dt_txt': '2023-09-09 06:00:00'}, {'dt': 1694250000, 'main': {'temp': 291.29, 'feels_like': 291.27, 'temp_min': 291.29, 'temp_max': 291.29, 'pressure': 1017, 'sea_level': 1017, 'grnd_level': 1001, 'humidity': 81, 'temp_kf': 0}, 'weather': [{'id': 804, 'main': 'Clouds', 'description': 'overcast clouds', 'icon': '04d'}], 'clouds': {'all': 100}, 'wind': {'speed': 1.81, 'deg': 182, 'gust': 3.72}, 'visibility': 10000, 'pop': 0, 'sys': {'pod': 'd'}, 'dt_txt': '2023-09-09 09:00:00'}, {'dt': 1694260800, 'main': {'temp': 293.77, 'feels_like': 293.58, 'temp_min': 293.77, 'temp_max': 293.77, 'pressure': 1016, 'sea_level': 1016, 'grnd_level': 1000, 'humidity': 65, 'temp_kf': 0}, 'weather': [{'id': 804, 'main': 'Clouds', 'description': 'overcast clouds', 'icon': '04d'}], 'clouds': {'all': 100}, 'wind': {'speed': 3.14, 'deg': 186, 'gust': 5.28}, 'visibility': 10000, 'pop': 0, 'sys': {'pod': 'd'}, 'dt_txt': '2023-09-09 12:00:00'}, {'dt': 1694271600, 'main': {'temp': 292.77, 'feels_like': 292.59, 'temp_min': 292.77, 'temp_max': 292.77, 'pressure': 1015, 'sea_level': 1015, 'grnd_level': 999, 'humidity': 69, 'temp_kf': 0}, 'weather': [{'id': 804, 'main': 'Clouds', 'description': 'overcast clouds', 'icon': '04d'}], 'clouds': {'all': 98}, 'wind': {'speed': 3.4, 'deg': 180, 'gust': 6.51}, 'visibility': 10000, 'pop': 0, 'sys': {'pod': 'd'}, 'dt_txt': '2023-09-09 15:00:00'}, {'dt': 1694282400, 'main': {'temp': 288.25, 'feels_like': 288.32, 'temp_min': 288.25, 'temp_max': 288.25, 'pressure': 1014, 'sea_level': 1014, 'grnd_level': 998, 'humidity': 96, 'temp_kf': 0}, 'weather': [{'id': 803, 'main': 'Clouds', 'description': 'broken clouds', 'icon': '04n'}], 'clouds': {'all': 55}, 'wind': {'speed': 2.21, 'deg': 177, 'gust': 6.53}, 'visibility': 10000, 'pop': 0, 'sys': {'pod': 'n'}, 'dt_txt': '2023-09-09 18:00:00'}, {'dt': 1694293200, 'main': {'temp': 287.36, 'feels_like': 287.42, 'temp_min': 287.36, 'temp_max': 287.36, 'pressure': 1014, 'sea_level': 1014, 'grnd_level': 997, 'humidity': 99, 'temp_kf': 0}, 'weather': [{'id': 802, 'main': 'Clouds', 'description': 'scattered clouds', 'icon': '03n'}], 'clouds': {'all': 28}, 'wind': {'speed': 2.02, 'deg': 172, 'gust': 6.6}, 'visibility': 10000, 'pop': 0, 'sys': {'pod': 'n'}, 'dt_txt': '2023-09-09 21:00:00'}, {'dt': 1694304000, 'main': {'temp': 286.8, 'feels_like': 286.81, 'temp_min': 286.8, 'temp_max': 286.8, 'pressure': 1013, 'sea_level': 1013, 'grnd_level': 997, 'humidity': 99, 'temp_kf': 0}, 'weather': [{'id': 802, 'main': 'Clouds', 'description': 'scattered clouds', 'icon': '03n'}], 'clouds': {'all': 31}, 'wind': {'speed': 1.68, 'deg': 172, 'gust': 4.21}, 'visibility': 10000, 'pop': 0, 'sys': {'pod': 'n'}, 'dt_txt': '2023-09-10 00:00:00'}, {'dt': 1694314800, 'main': {'temp': 286.13, 'feels_like': 286.07, 'temp_min': 286.13, 'temp_max': 286.13, 'pressure': 1013, 'sea_level': 1013, 'grnd_level': 996, 'humidity': 99, 'temp_kf': 0}, 'weather': [{'id': 802, 'main': 'Clouds', 'description': 'scattered clouds', 'icon': '03n'}], 'clouds': {'all': 45}, 'wind': {'speed': 0.71, 'deg': 196, 'gust': 0.83}, 'visibility': 10000, 'pop': 0, 'sys': {'pod': 'n'}, 'dt_txt': '2023-09-10 03:00:00'}, {'dt': 1694325600, 'main': {'temp': 287.46, 'feels_like': 287.43, 'temp_min': 287.46, 'temp_max': 287.46, 'pressure': 1013, 'sea_level': 1013, 'grnd_level': 997, 'humidity': 95, 'temp_kf': 0}, 'weather': [{'id': 803, 'main': 'Clouds', 'description': 'broken clouds', 'icon': '04d'}], 'clouds': {'all': 69}, 'wind': {'speed': 0.15, 'deg': 283, 'gust': 0.31}, 'visibility': 10000, 'pop': 0, 'sys': {'pod': 'd'}, 'dt_txt': '2023-09-10 06:00:00'}, {'dt': 1694336400, 'main': {'temp': 293.47, 'feels_like': 293.39, 'temp_min': 293.47, 'temp_max': 293.47, 'pressure': 1014, 'sea_level': 1014, 'grnd_level': 998, 'humidity': 70, 'temp_kf': 0}, 'weather': [{'id': 803, 'main': 'Clouds', 'description': 'broken clouds', 'icon': '04d'}], 'clouds': {'all': 76}, 'wind': {'speed': 1.03, 'deg': 274, 'gust': 2.06}, 'visibility': 10000, 'pop': 0, 'sys': {'pod': 'd'}, 'dt_txt': '2023-09-10 09:00:00'}, {'dt': 1694347200, 'main': {'temp': 297.34, 'feels_like': 297.15, 'temp_min': 297.34, 'temp_max': 297.34, 'pressure': 1014, 'sea_level': 1014, 'grnd_level': 998, 'humidity': 51, 'temp_kf': 0}, 'weather': [{'id': 804, 'main': 'Clouds', 'description': 'overcast clouds', 'icon': '04d'}], 'clouds': {'all': 88}, 'wind': {'speed': 1.6, 'deg': 259, 'gust': 2.44}, 'visibility': 10000, 'pop': 0, 'sys': {'pod': 'd'}, 'dt_txt': '2023-09-10 12:00:00'}, {'dt': 1694358000, 'main': {'temp': 296.81, 'feels_like': 296.69, 'temp_min': 296.81, 'temp_max': 296.81, 'pressure': 1014, 'sea_level': 1014, 'grnd_level': 998, 'humidity': 56, 'temp_kf': 0}, 'weather': [{'id': 804, 'main': 'Clouds', 'description': 'overcast clouds', 'icon': '04d'}], 'clouds': {'all': 100}, 'wind': {'speed': 2.05, 'deg': 207, 'gust': 3.1}, 'visibility': 10000, 'pop': 0, 'sys': {'pod': 'd'}, 'dt_txt': '2023-09-10 15:00:00'}, {'dt': 1694368800, 'main': {'temp': 290.17, 'feels_like': 290.17, 'temp_min': 290.17, 'temp_max': 290.17, 'pressure': 1014, 'sea_level': 1014, 'grnd_level': 998, 'humidity': 86, 'temp_kf': 0}, 'weather': [{'id': 803, 'main': 'Clouds', 'description': 'broken clouds', 'icon': '04n'}], 'clouds': {'all': 76}, 'wind': {'speed': 1.98, 'deg': 186, 'gust': 2.65}, 'visibility': 10000, 'pop': 0, 'sys': {'pod': 'n'}, 'dt_txt': '2023-09-10 18:00:00'}, {'dt': 1694379600, 'main': {'temp': 288.29, 'feels_like': 288.21, 'temp_min': 288.29, 'temp_max': 288.29, 'pressure': 1014, 'sea_level': 1014, 'grnd_level': 998, 'humidity': 90, 'temp_kf': 0}, 'weather': [{'id': 802, 'main': 'Clouds', 'description': 'scattered clouds', 'icon': '03n'}], 'clouds': {'all': 33}, 'wind': {'speed': 1.14, 'deg': 150, 'gust': 1.18}, 'visibility': 10000, 'pop': 0, 'sys': {'pod': 'n'}, 'dt_txt': '2023-09-10 21:00:00'}, {'dt': 1694390400, 'main': {'temp': 287.33, 'feels_like': 287.23, 'temp_min': 287.33, 'temp_max': 287.33, 'pressure': 1013, 'sea_level': 1013, 'grnd_level': 997, 'humidity': 93, 'temp_kf': 0}, 'weather': [{'id': 802, 'main': 'Clouds', 'description': 'scattered clouds', 'icon': '03n'}], 'clouds': {'all': 35}, 'wind': {'speed': 0.9, 'deg': 139, 'gust': 0.9}, 'visibility': 10000, 'pop': 0, 'sys': {'pod': 'n'}, 'dt_txt': '2023-09-11 00:00:00'}, {'dt': 1694401200, 'main': {'temp': 286.84, 'feels_like': 286.77, 'temp_min': 286.84, 'temp_max': 286.84, 'pressure': 1012, 'sea_level': 1012, 'grnd_level': 996, 'humidity': 96, 'temp_kf': 0}, 'weather': [{'id': 804, 'main': 'Clouds', 'description': 'overcast clouds', 'icon': '04n'}], 'clouds': {'all': 96}, 'wind': {'speed': 1.42, 'deg': 149, 'gust': 1.64}, 'visibility': 10000, 'pop': 0, 'sys': {'pod': 'n'}, 'dt_txt': '2023-09-11 03:00:00'}, {'dt': 1694412000, 'main': {'temp': 288.19, 'feels_like': 288.15, 'temp_min': 288.19, 'temp_max': 288.19, 'pressure': 1011, 'sea_level': 1011, 'grnd_level': 995, 'humidity': 92, 'temp_kf': 0}, 'weather': [{'id': 804, 'main': 'Clouds', 'description': 'overcast clouds', 'icon': '04d'}], 'clouds': {'all': 94}, 'wind': {'speed': 2.07, 'deg': 163, 'gust': 7.1}, 'visibility': 10000, 'pop': 0, 'sys': {'pod': 'd'}, 'dt_txt': '2023-09-11 06:00:00'}, {'dt': 1694422800, 'main': {'temp': 293.12, 'feels_like': 293.08, 'temp_min': 293.12, 'temp_max': 293.12, 'pressure': 1011, 'sea_level': 1011, 'grnd_level': 995, 'humidity': 73, 'temp_kf': 0}, 'weather': [{'id': 804, 'main': 'Clouds', 'description': 'overcast clouds', 'icon': '04d'}], 'clouds': {'all': 100}, 'wind': {'speed': 4.87, 'deg': 195, 'gust': 12.53}, 'visibility': 10000, 'pop': 0, 'sys': {'pod': 'd'}, 'dt_txt': '2023-09-11 09:00:00'}, {'dt': 1694433600, 'main': {'temp': 294.33, 'feels_like': 294.25, 'temp_min': 294.33, 'temp_max': 294.33, 'pressure': 1010, 'sea_level': 1010, 'grnd_level': 994, 'humidity': 67, 'temp_kf': 0}, 'weather': [{'id': 804, 'main': 'Clouds', 'description': 'overcast clouds', 'icon': '04d'}], 'clouds': {'all': 100}, 'wind': {'speed': 5.94, 'deg': 190, 'gust': 11.58}, 'visibility': 10000, 'pop': 0, 'sys': {'pod': 'd'}, 'dt_txt': '2023-09-11 12:00:00'}, {'dt': 1694444400, 'main': {'temp': 292.61, 'feels_like': 292.67, 'temp_min': 292.61, 'temp_max': 292.61, 'pressure': 1009, 'sea_level': 1009, 'grnd_level': 993, 'humidity': 79, 'temp_kf': 0}, 'weather': [{'id': 500, 'main': 'Rain', 'description': 'light rain', 'icon': '10d'}], 'clouds': {'all': 80}, 'wind': {'speed': 5.3, 'deg': 184, 'gust': 12.72}, 'visibility': 10000, 'pop': 0.2, 'rain': {'3h': 0.25}, 'sys': {'pod': 'd'}, 'dt_txt': '2023-09-11 15:00:00'}, {'dt': 1694455200, 'main': {'temp': 290.15, 'feels_like': 290.28, 'temp_min': 290.15, 'temp_max': 290.15, 'pressure': 1008, 'sea_level': 1008, 'grnd_level': 992, 'humidity': 91, 'temp_kf': 0}, 'weather': [{'id': 804, 'main': 'Clouds', 'description': 'overcast clouds', 'icon': '04n'}], 'clouds': {'all': 90}, 'wind': {'speed': 4.72, 'deg': 184, 'gust': 13.69}, 'visibility': 10000, 'pop': 0, 'sys': {'pod': 'n'}, 'dt_txt': '2023-09-11 18:00:00'}, {'dt': 1694466000, 'main': {'temp': 289, 'feels_like': 289.2, 'temp_min': 289, 'temp_max': 289, 'pressure': 1008, 'sea_level': 1008, 'grnd_level': 991, 'humidity': 98, 'temp_kf': 0}, 'weather': [{'id': 803, 'main': 'Clouds', 'description': 'broken clouds', 'icon': '04n'}], 'clouds': {'all': 55}, 'wind': {'speed': 3.87, 'deg': 184, 'gust': 12.03}, 'visibility': 10000, 'pop': 0.16, 'sys': {'pod': 'n'}, 'dt_txt': '2023-09-11 21:00:00'}, {'dt': 1694476800, 'main': {'temp': 289.33, 'feels_like': 289.46, 'temp_min': 289.33, 'temp_max': 289.33, 'pressure': 1007, 'sea_level': 1007, 'grnd_level': 991, 'humidity': 94, 'temp_kf': 0}, 'weather': [{'id': 803, 'main': 'Clouds', 'description': 'broken clouds', 'icon': '04n'}], 'clouds': {'all': 75}, 'wind': {'speed': 3.42, 'deg': 190, 'gust': 7.93}, 'visibility': 10000, 'pop': 0.16, 'sys': {'pod': 'n'}, 'dt_txt': '2023-09-12 00:00:00'}, {'dt': 1694487600, 'main': {'temp': 288.62, 'feels_like': 288.7, 'temp_min': 288.62, 'temp_max': 288.62, 'pressure': 1007, 'sea_level': 1007, 'grnd_level': 990, 'humidity': 95, 'temp_kf': 0}, 'weather': [{'id': 804, 'main': 'Clouds', 'description': 'overcast clouds', 'icon': '04n'}], 'clouds': {'all': 100}, 'wind': {'speed': 2.57, 'deg': 187, 'gust': 6.87}, 'visibility': 10000, 'pop': 0, 'sys': {'pod': 'n'}, 'dt_txt': '2023-09-12 03:00:00'}, {'dt': 1694498400, 'main': {'temp': 289.05, 'feels_like': 289.05, 'temp_min': 289.05, 'temp_max': 289.05, 'pressure': 1007, 'sea_level': 1007, 'grnd_level': 991, 'humidity': 90, 'temp_kf': 0}, 'weather': [{'id': 804, 'main': 'Clouds', 'description': 'overcast clouds', 'icon': '04d'}], 'clouds': {'all': 100}, 'wind': {'speed': 2.54, 'deg': 188, 'gust': 6}, 'visibility': 10000, 'pop': 0.02, 'sys': {'pod': 'd'}, 'dt_txt': '2023-09-12 06:00:00'}, {'dt': 1694509200, 'main': {'temp': 290.64, 'feels_like': 290.66, 'temp_min': 290.64, 'temp_max': 290.64, 'pressure': 1008, 'sea_level': 1008, 'grnd_level': 991, 'humidity': 85, 'temp_kf': 0}, 'weather': [{'id': 804, 'main': 'Clouds', 'description': 'overcast clouds', 'icon': '04d'}], 'clouds': {'all': 100}, 'wind': {'speed': 3.36, 'deg': 185, 'gust': 6.19}, 'visibility': 10000, 'pop': 0.04, 'sys': {'pod': 'd'}, 'dt_txt': '2023-09-12 09:00:00'}, {'dt': 1694520000, 'main': {'temp': 291.91, 'feels_like': 291.83, 'temp_min': 291.91, 'temp_max': 291.91, 'pressure': 1008, 'sea_level': 1008, 'grnd_level': 991, 'humidity': 76, 'temp_kf': 0}, 'weather': [{'id': 804, 'main': 'Clouds', 'description': 'overcast clouds', 'icon': '04d'}], 'clouds': {'all': 100}, 'wind': {'speed': 4.98, 'deg': 183, 'gust': 7.92}, 'visibility': 10000, 'pop': 0.04, 'sys': {'pod': 'd'}, 'dt_txt': '2023-09-12 12:00:00'}, {'dt': 1694530800, 'main': {'temp': 290.76, 'feels_like': 290.69, 'temp_min': 290.76, 'temp_max': 290.76, 'pressure': 1007, 'sea_level': 1007, 'grnd_level': 991, 'humidity': 81, 'temp_kf': 0}, 'weather': [{'id': 804, 'main': 'Clouds', 'description': 'overcast clouds', 'icon': '04d'}], 'clouds': {'all': 100}, 'wind': {'speed': 4.59, 'deg': 176, 'gust': 9.21}, 'visibility': 10000, 'pop': 0.04, 'sys': {'pod': 'd'}, 'dt_txt': '2023-09-12 15:00:00'}, {'dt': 1694541600, 'main': {'temp': 288.72, 'feels_like': 288.76, 'temp_min': 288.72, 'temp_max': 288.72, 'pressure': 1007, 'sea_level': 1007, 'grnd_level': 990, 'humidity': 93, 'temp_kf': 0}, 'weather': [{'id': 804, 'main': 'Clouds', 'description': 'overcast clouds', 'icon': '04n'}], 'clouds': {'all': 100}, 'wind': {'speed': 4.51, 'deg': 177, 'gust': 11.68}, 'visibility': 10000, 'pop': 0, 'sys': {'pod': 'n'}, 'dt_txt': '2023-09-12 18:00:00'}, {'dt': 1694552400, 'main': {'temp': 288.7, 'feels_like': 288.74, 'temp_min': 288.7, 'temp_max': 288.7, 'pressure': 1007, 'sea_level': 1007, 'grnd_level': 990, 'humidity': 93, 'temp_kf': 0}, 'weather': [{'id': 804, 'main': 'Clouds', 'description': 'overcast clouds', 'icon': '04n'}], 'clouds': {'all': 97}, 'wind': {'speed': 4.42, 'deg': 185, 'gust': 11.26}, 'visibility': 10000, 'pop': 0, 'sys': {'pod': 'n'}, 'dt_txt': '2023-09-12 21:00:00'}, {'dt': 1694563200, 'main': {'temp': 288.32, 'feels_like': 288.43, 'temp_min': 288.32, 'temp_max': 288.32, 'pressure': 1005, 'sea_level': 1005, 'grnd_level': 989, 'humidity': 97, 'temp_kf': 0}, 'weather': [{'id': 500, 'main': 'Rain', 'description': 'light rain', 'icon': '10n'}], 'clouds': {'all': 98}, 'wind': {'speed': 3.35, 'deg': 184, 'gust': 9.65}, 'visibility': 10000, 'pop': 0.24, 'rain': {'3h': 0.11}, 'sys': {'pod': 'n'}, 'dt_txt': '2023-09-13 00:00:00'}, {'dt': 1694574000, 'main': {'temp': 288.36, 'feels_like': 288.52, 'temp_min': 288.36, 'temp_max': 288.36, 'pressure': 1003, 'sea_level': 1003, 'grnd_level': 987, 'humidity': 99, 'temp_kf': 0}, 'weather': [{'id': 500, 'main': 'Rain', 'description': 'light rain', 'icon': '10n'}], 'clouds': {'all': 100}, 'wind': {'speed': 2.08, 'deg': 167, 'gust': 6.57}, 'visibility': 198, 'pop': 0.81, 'rain': {'3h': 2.12}, 'sys': {'pod': 'n'}, 'dt_txt': '2023-09-13 03:00:00'}, {'dt': 1694584800, 'main': {'temp': 288.55, 'feels_like': 288.73, 'temp_min': 288.55, 'temp_max': 288.55, 'pressure': 1001, 'sea_level': 1001, 'grnd_level': 985, 'humidity': 99, 'temp_kf': 0}, 'weather': [{'id': 501, 'main': 'Rain', 'description': 'moderate rain', 'icon': '10d'}], 'clouds': {'all': 100}, 'wind': {'speed': 2.08, 'deg': 149, 'gust': 6.2}, 'visibility': 144, 'pop': 1, 'rain': {'3h': 9.34}, 'sys': {'pod': 'd'}, 'dt_txt': '2023-09-13 06:00:00'}, {'dt': 1694595600, 'main': {'temp': 288.6, 'feels_like': 288.73, 'temp_min': 288.6, 'temp_max': 288.6, 'pressure': 1000, 'sea_level': 1000, 'grnd_level': 983, 'humidity': 97, 'temp_kf': 0}, 'weather': [{'id': 501, 'main': 'Rain', 'description': 'moderate rain', 'icon': '10d'}], 'clouds': {'all': 100}, 'wind': {'speed': 2.14, 'deg': 156, 'gust': 5.68}, 'visibility': 9528, 'pop': 1, 'rain': {'3h': 7.2}, 'sys': {'pod': 'd'}, 'dt_txt': '2023-09-13 09:00:00'}], 'city': {'id': 3139081, 'name': 'Ski', 'coord': {'lat': 59.7195, 'lon': 10.8358}, 'country': 'NO', 'population': 12513, 'timezone': 7200, 'sunrise': 1694147264, 'sunset': 1694196099}}\""
      ]
     },
     "execution_count": 15,
     "metadata": {},
     "output_type": "execute_result"
    }
   ],
   "source": [
    "# Inspect JSON file\n",
    "forecast.__str__()"
   ]
  },
  {
   "cell_type": "markdown",
   "metadata": {
    "slideshow": {
     "slide_type": "slide"
    }
   },
   "source": [
    "## Raw JSON\n",
    "- A simple, but not very efficient way of storing JSON data is to treat it as a text and save it directly to the database.  \n",
    "- More efficient, with regard to transfer, is to compress the JSON data to a blob first.\n",
    "    - Compression is automatic."
   ]
  },
  {
   "cell_type": "code",
   "execution_count": 16,
   "metadata": {
    "slideshow": {
     "slide_type": "-"
    }
   },
   "outputs": [
    {
     "data": {
      "text/plain": [
       "<cassandra.cluster.ResultSet at 0x107e00cd0>"
      ]
     },
     "execution_count": 16,
     "metadata": {},
     "output_type": "execute_result"
    }
   ],
   "source": [
    "# Create a new table which treats the whole JSON as a blob, using the city id and the first dt as keys\n",
    "session.set_keyspace('my_first_keyspace')\n",
    "session.execute(\"DROP TABLE IF EXISTS my_first_keyspace.forecast_table;\")\n",
    "session.execute(\"CREATE TABLE IF NOT EXISTS forecast_table (city_id int, dt int, forecast blob, PRIMARY KEY(city_id, dt));\")"
   ]
  },
  {
   "cell_type": "markdown",
   "metadata": {
    "slideshow": {
     "slide_type": "slide"
    }
   },
   "source": [
    "### Insert the forecast data into the table as text blob"
   ]
  },
  {
   "cell_type": "code",
   "execution_count": 17,
   "metadata": {
    "slideshow": {
     "slide_type": "-"
    }
   },
   "outputs": [
    {
     "data": {
      "text/plain": [
       "<cassandra.cluster.ResultSet at 0x107230f70>"
      ]
     },
     "execution_count": 17,
     "metadata": {},
     "output_type": "execute_result"
    }
   ],
   "source": [
    "session.execute(\"INSERT INTO forecast_table (city_id, dt, forecast) VALUES (%s, %s, textAsBlob(%s));\", (forecast['city']['id'], forecast['list'][0]['dt'], forecast.__str__()))"
   ]
  },
  {
   "cell_type": "code",
   "execution_count": 18,
   "metadata": {
    "slideshow": {
     "slide_type": "slide"
    }
   },
   "outputs": [
    {
     "name": "stdout",
     "output_type": "stream",
     "text": [
      "Row(city_id=3139081, dt=1694174400, forecast=b\"{'cod': '200', 'message': 0, 'cnt': 40, 'list': [{'dt': 1694174400, 'main': {'temp': 291.17, 'feels_like': 291.33, 'temp_min': 291.17, 'temp_max': 294.13, 'pressure': 1021, 'sea_level': 1021, 'grnd_level': 1003, 'humidity': 88, 'temp_kf': -2.96}, 'weather': [{'id': 804, 'main': 'Clouds', 'description': 'overcast clouds', 'icon': '04d'}], 'clouds': {'all': 100}, 'wind': {'speed': 3.69, 'deg': 197, 'gust': 6.17}, 'visibility': 10000, 'pop': 0, 'sys': {'pod': 'd'}, 'dt_txt': '2023-09-08 12:00:00'}, {'dt': 1694185200, 'main': {'temp': 292, 'feels_like': 292, 'temp_min': 292, 'temp_max': 293.15, 'pressure': 1020, 'sea_level': 1020, 'grnd_level': 1003, 'humidity': 79, 'temp_kf': -1.15}, 'weather': [{'id': 803, 'main': 'Clouds', 'description': 'broken clouds', 'icon': '04d'}], 'clouds': {'all': 84}, 'wind': {'speed': 3.8, 'deg': 189, 'gust': 6.58}, 'visibility': 10000, 'pop': 0, 'sys': {'pod': 'd'}, 'dt_txt': '2023-09-08 15:00:00'}, {'dt': 1694196000, 'main': {'temp': 288.06, 'feels_like': 288.14, 'temp_min': 288.06, 'temp_max': 288.06, 'pressure': 1019, 'sea_level': 1019, 'grnd_level': 1002, 'humidity': 97, 'temp_kf': 0}, 'weather': [{'id': 803, 'main': 'Clouds', 'description': 'broken clouds', 'icon': '04d'}], 'clouds': {'all': 77}, 'wind': {'speed': 2.14, 'deg': 167, 'gust': 5.89}, 'visibility': 10000, 'pop': 0, 'sys': {'pod': 'd'}, 'dt_txt': '2023-09-08 18:00:00'}, {'dt': 1694206800, 'main': {'temp': 286.92, 'feels_like': 286.94, 'temp_min': 286.92, 'temp_max': 286.92, 'pressure': 1018, 'sea_level': 1018, 'grnd_level': 1002, 'humidity': 99, 'temp_kf': 0}, 'weather': [{'id': 803, 'main': 'Clouds', 'description': 'broken clouds', 'icon': '04n'}], 'clouds': {'all': 56}, 'wind': {'speed': 1.58, 'deg': 160, 'gust': 4.1}, 'visibility': 10000, 'pop': 0, 'sys': {'pod': 'n'}, 'dt_txt': '2023-09-08 21:00:00'}, {'dt': 1694217600, 'main': {'temp': 286.76, 'feels_like': 286.76, 'temp_min': 286.76, 'temp_max': 286.76, 'pressure': 1018, 'sea_level': 1018, 'grnd_level': 1001, 'humidity': 99, 'temp_kf': 0}, 'weather': [{'id': 803, 'main': 'Clouds', 'description': 'broken clouds', 'icon': '04n'}], 'clouds': {'all': 78}, 'wind': {'speed': 1.22, 'deg': 144, 'gust': 1.35}, 'visibility': 10000, 'pop': 0, 'sys': {'pod': 'n'}, 'dt_txt': '2023-09-09 00:00:00'}, {'dt': 1694228400, 'main': {'temp': 286.76, 'feels_like': 286.76, 'temp_min': 286.76, 'temp_max': 286.76, 'pressure': 1017, 'sea_level': 1017, 'grnd_level': 1001, 'humidity': 99, 'temp_kf': 0}, 'weather': [{'id': 804, 'main': 'Clouds', 'description': 'overcast clouds', 'icon': '04n'}], 'clouds': {'all': 99}, 'wind': {'speed': 0.95, 'deg': 126, 'gust': 1.32}, 'visibility': 3205, 'pop': 0, 'sys': {'pod': 'n'}, 'dt_txt': '2023-09-09 03:00:00'}, {'dt': 1694239200, 'main': {'temp': 288.1, 'feels_like': 288.13, 'temp_min': 288.1, 'temp_max': 288.1, 'pressure': 1017, 'sea_level': 1017, 'grnd_level': 1001, 'humidity': 95, 'temp_kf': 0}, 'weather': [{'id': 804, 'main': 'Clouds', 'description': 'overcast clouds', 'icon': '04d'}], 'clouds': {'all': 99}, 'wind': {'speed': 0.89, 'deg': 139, 'gust': 2.22}, 'visibility': 8768, 'pop': 0, 'sys': {'pod': 'd'}, 'dt_txt': '2023-09-09 06:00:00'}, {'dt': 1694250000, 'main': {'temp': 291.29, 'feels_like': 291.27, 'temp_min': 291.29, 'temp_max': 291.29, 'pressure': 1017, 'sea_level': 1017, 'grnd_level': 1001, 'humidity': 81, 'temp_kf': 0}, 'weather': [{'id': 804, 'main': 'Clouds', 'description': 'overcast clouds', 'icon': '04d'}], 'clouds': {'all': 100}, 'wind': {'speed': 1.81, 'deg': 182, 'gust': 3.72}, 'visibility': 10000, 'pop': 0, 'sys': {'pod': 'd'}, 'dt_txt': '2023-09-09 09:00:00'}, {'dt': 1694260800, 'main': {'temp': 293.77, 'feels_like': 293.58, 'temp_min': 293.77, 'temp_max': 293.77, 'pressure': 1016, 'sea_level': 1016, 'grnd_level': 1000, 'humidity': 65, 'temp_kf': 0}, 'weather': [{'id': 804, 'main': 'Clouds', 'description': 'overcast clouds', 'icon': '04d'}], 'clouds': {'all': 100}, 'wind': {'speed': 3.14, 'deg': 186, 'gust': 5.28}, 'visibility': 10000, 'pop': 0, 'sys': {'pod': 'd'}, 'dt_txt': '2023-09-09 12:00:00'}, {'dt': 1694271600, 'main': {'temp': 292.77, 'feels_like': 292.59, 'temp_min': 292.77, 'temp_max': 292.77, 'pressure': 1015, 'sea_level': 1015, 'grnd_level': 999, 'humidity': 69, 'temp_kf': 0}, 'weather': [{'id': 804, 'main': 'Clouds', 'description': 'overcast clouds', 'icon': '04d'}], 'clouds': {'all': 98}, 'wind': {'speed': 3.4, 'deg': 180, 'gust': 6.51}, 'visibility': 10000, 'pop': 0, 'sys': {'pod': 'd'}, 'dt_txt': '2023-09-09 15:00:00'}, {'dt': 1694282400, 'main': {'temp': 288.25, 'feels_like': 288.32, 'temp_min': 288.25, 'temp_max': 288.25, 'pressure': 1014, 'sea_level': 1014, 'grnd_level': 998, 'humidity': 96, 'temp_kf': 0}, 'weather': [{'id': 803, 'main': 'Clouds', 'description': 'broken clouds', 'icon': '04n'}], 'clouds': {'all': 55}, 'wind': {'speed': 2.21, 'deg': 177, 'gust': 6.53}, 'visibility': 10000, 'pop': 0, 'sys': {'pod': 'n'}, 'dt_txt': '2023-09-09 18:00:00'}, {'dt': 1694293200, 'main': {'temp': 287.36, 'feels_like': 287.42, 'temp_min': 287.36, 'temp_max': 287.36, 'pressure': 1014, 'sea_level': 1014, 'grnd_level': 997, 'humidity': 99, 'temp_kf': 0}, 'weather': [{'id': 802, 'main': 'Clouds', 'description': 'scattered clouds', 'icon': '03n'}], 'clouds': {'all': 28}, 'wind': {'speed': 2.02, 'deg': 172, 'gust': 6.6}, 'visibility': 10000, 'pop': 0, 'sys': {'pod': 'n'}, 'dt_txt': '2023-09-09 21:00:00'}, {'dt': 1694304000, 'main': {'temp': 286.8, 'feels_like': 286.81, 'temp_min': 286.8, 'temp_max': 286.8, 'pressure': 1013, 'sea_level': 1013, 'grnd_level': 997, 'humidity': 99, 'temp_kf': 0}, 'weather': [{'id': 802, 'main': 'Clouds', 'description': 'scattered clouds', 'icon': '03n'}], 'clouds': {'all': 31}, 'wind': {'speed': 1.68, 'deg': 172, 'gust': 4.21}, 'visibility': 10000, 'pop': 0, 'sys': {'pod': 'n'}, 'dt_txt': '2023-09-10 00:00:00'}, {'dt': 1694314800, 'main': {'temp': 286.13, 'feels_like': 286.07, 'temp_min': 286.13, 'temp_max': 286.13, 'pressure': 1013, 'sea_level': 1013, 'grnd_level': 996, 'humidity': 99, 'temp_kf': 0}, 'weather': [{'id': 802, 'main': 'Clouds', 'description': 'scattered clouds', 'icon': '03n'}], 'clouds': {'all': 45}, 'wind': {'speed': 0.71, 'deg': 196, 'gust': 0.83}, 'visibility': 10000, 'pop': 0, 'sys': {'pod': 'n'}, 'dt_txt': '2023-09-10 03:00:00'}, {'dt': 1694325600, 'main': {'temp': 287.46, 'feels_like': 287.43, 'temp_min': 287.46, 'temp_max': 287.46, 'pressure': 1013, 'sea_level': 1013, 'grnd_level': 997, 'humidity': 95, 'temp_kf': 0}, 'weather': [{'id': 803, 'main': 'Clouds', 'description': 'broken clouds', 'icon': '04d'}], 'clouds': {'all': 69}, 'wind': {'speed': 0.15, 'deg': 283, 'gust': 0.31}, 'visibility': 10000, 'pop': 0, 'sys': {'pod': 'd'}, 'dt_txt': '2023-09-10 06:00:00'}, {'dt': 1694336400, 'main': {'temp': 293.47, 'feels_like': 293.39, 'temp_min': 293.47, 'temp_max': 293.47, 'pressure': 1014, 'sea_level': 1014, 'grnd_level': 998, 'humidity': 70, 'temp_kf': 0}, 'weather': [{'id': 803, 'main': 'Clouds', 'description': 'broken clouds', 'icon': '04d'}], 'clouds': {'all': 76}, 'wind': {'speed': 1.03, 'deg': 274, 'gust': 2.06}, 'visibility': 10000, 'pop': 0, 'sys': {'pod': 'd'}, 'dt_txt': '2023-09-10 09:00:00'}, {'dt': 1694347200, 'main': {'temp': 297.34, 'feels_like': 297.15, 'temp_min': 297.34, 'temp_max': 297.34, 'pressure': 1014, 'sea_level': 1014, 'grnd_level': 998, 'humidity': 51, 'temp_kf': 0}, 'weather': [{'id': 804, 'main': 'Clouds', 'description': 'overcast clouds', 'icon': '04d'}], 'clouds': {'all': 88}, 'wind': {'speed': 1.6, 'deg': 259, 'gust': 2.44}, 'visibility': 10000, 'pop': 0, 'sys': {'pod': 'd'}, 'dt_txt': '2023-09-10 12:00:00'}, {'dt': 1694358000, 'main': {'temp': 296.81, 'feels_like': 296.69, 'temp_min': 296.81, 'temp_max': 296.81, 'pressure': 1014, 'sea_level': 1014, 'grnd_level': 998, 'humidity': 56, 'temp_kf': 0}, 'weather': [{'id': 804, 'main': 'Clouds', 'description': 'overcast clouds', 'icon': '04d'}], 'clouds': {'all': 100}, 'wind': {'speed': 2.05, 'deg': 207, 'gust': 3.1}, 'visibility': 10000, 'pop': 0, 'sys': {'pod': 'd'}, 'dt_txt': '2023-09-10 15:00:00'}, {'dt': 1694368800, 'main': {'temp': 290.17, 'feels_like': 290.17, 'temp_min': 290.17, 'temp_max': 290.17, 'pressure': 1014, 'sea_level': 1014, 'grnd_level': 998, 'humidity': 86, 'temp_kf': 0}, 'weather': [{'id': 803, 'main': 'Clouds', 'description': 'broken clouds', 'icon': '04n'}], 'clouds': {'all': 76}, 'wind': {'speed': 1.98, 'deg': 186, 'gust': 2.65}, 'visibility': 10000, 'pop': 0, 'sys': {'pod': 'n'}, 'dt_txt': '2023-09-10 18:00:00'}, {'dt': 1694379600, 'main': {'temp': 288.29, 'feels_like': 288.21, 'temp_min': 288.29, 'temp_max': 288.29, 'pressure': 1014, 'sea_level': 1014, 'grnd_level': 998, 'humidity': 90, 'temp_kf': 0}, 'weather': [{'id': 802, 'main': 'Clouds', 'description': 'scattered clouds', 'icon': '03n'}], 'clouds': {'all': 33}, 'wind': {'speed': 1.14, 'deg': 150, 'gust': 1.18}, 'visibility': 10000, 'pop': 0, 'sys': {'pod': 'n'}, 'dt_txt': '2023-09-10 21:00:00'}, {'dt': 1694390400, 'main': {'temp': 287.33, 'feels_like': 287.23, 'temp_min': 287.33, 'temp_max': 287.33, 'pressure': 1013, 'sea_level': 1013, 'grnd_level': 997, 'humidity': 93, 'temp_kf': 0}, 'weather': [{'id': 802, 'main': 'Clouds', 'description': 'scattered clouds', 'icon': '03n'}], 'clouds': {'all': 35}, 'wind': {'speed': 0.9, 'deg': 139, 'gust': 0.9}, 'visibility': 10000, 'pop': 0, 'sys': {'pod': 'n'}, 'dt_txt': '2023-09-11 00:00:00'}, {'dt': 1694401200, 'main': {'temp': 286.84, 'feels_like': 286.77, 'temp_min': 286.84, 'temp_max': 286.84, 'pressure': 1012, 'sea_level': 1012, 'grnd_level': 996, 'humidity': 96, 'temp_kf': 0}, 'weather': [{'id': 804, 'main': 'Clouds', 'description': 'overcast clouds', 'icon': '04n'}], 'clouds': {'all': 96}, 'wind': {'speed': 1.42, 'deg': 149, 'gust': 1.64}, 'visibility': 10000, 'pop': 0, 'sys': {'pod': 'n'}, 'dt_txt': '2023-09-11 03:00:00'}, {'dt': 1694412000, 'main': {'temp': 288.19, 'feels_like': 288.15, 'temp_min': 288.19, 'temp_max': 288.19, 'pressure': 1011, 'sea_level': 1011, 'grnd_level': 995, 'humidity': 92, 'temp_kf': 0}, 'weather': [{'id': 804, 'main': 'Clouds', 'description': 'overcast clouds', 'icon': '04d'}], 'clouds': {'all': 94}, 'wind': {'speed': 2.07, 'deg': 163, 'gust': 7.1}, 'visibility': 10000, 'pop': 0, 'sys': {'pod': 'd'}, 'dt_txt': '2023-09-11 06:00:00'}, {'dt': 1694422800, 'main': {'temp': 293.12, 'feels_like': 293.08, 'temp_min': 293.12, 'temp_max': 293.12, 'pressure': 1011, 'sea_level': 1011, 'grnd_level': 995, 'humidity': 73, 'temp_kf': 0}, 'weather': [{'id': 804, 'main': 'Clouds', 'description': 'overcast clouds', 'icon': '04d'}], 'clouds': {'all': 100}, 'wind': {'speed': 4.87, 'deg': 195, 'gust': 12.53}, 'visibility': 10000, 'pop': 0, 'sys': {'pod': 'd'}, 'dt_txt': '2023-09-11 09:00:00'}, {'dt': 1694433600, 'main': {'temp': 294.33, 'feels_like': 294.25, 'temp_min': 294.33, 'temp_max': 294.33, 'pressure': 1010, 'sea_level': 1010, 'grnd_level': 994, 'humidity': 67, 'temp_kf': 0}, 'weather': [{'id': 804, 'main': 'Clouds', 'description': 'overcast clouds', 'icon': '04d'}], 'clouds': {'all': 100}, 'wind': {'speed': 5.94, 'deg': 190, 'gust': 11.58}, 'visibility': 10000, 'pop': 0, 'sys': {'pod': 'd'}, 'dt_txt': '2023-09-11 12:00:00'}, {'dt': 1694444400, 'main': {'temp': 292.61, 'feels_like': 292.67, 'temp_min': 292.61, 'temp_max': 292.61, 'pressure': 1009, 'sea_level': 1009, 'grnd_level': 993, 'humidity': 79, 'temp_kf': 0}, 'weather': [{'id': 500, 'main': 'Rain', 'description': 'light rain', 'icon': '10d'}], 'clouds': {'all': 80}, 'wind': {'speed': 5.3, 'deg': 184, 'gust': 12.72}, 'visibility': 10000, 'pop': 0.2, 'rain': {'3h': 0.25}, 'sys': {'pod': 'd'}, 'dt_txt': '2023-09-11 15:00:00'}, {'dt': 1694455200, 'main': {'temp': 290.15, 'feels_like': 290.28, 'temp_min': 290.15, 'temp_max': 290.15, 'pressure': 1008, 'sea_level': 1008, 'grnd_level': 992, 'humidity': 91, 'temp_kf': 0}, 'weather': [{'id': 804, 'main': 'Clouds', 'description': 'overcast clouds', 'icon': '04n'}], 'clouds': {'all': 90}, 'wind': {'speed': 4.72, 'deg': 184, 'gust': 13.69}, 'visibility': 10000, 'pop': 0, 'sys': {'pod': 'n'}, 'dt_txt': '2023-09-11 18:00:00'}, {'dt': 1694466000, 'main': {'temp': 289, 'feels_like': 289.2, 'temp_min': 289, 'temp_max': 289, 'pressure': 1008, 'sea_level': 1008, 'grnd_level': 991, 'humidity': 98, 'temp_kf': 0}, 'weather': [{'id': 803, 'main': 'Clouds', 'description': 'broken clouds', 'icon': '04n'}], 'clouds': {'all': 55}, 'wind': {'speed': 3.87, 'deg': 184, 'gust': 12.03}, 'visibility': 10000, 'pop': 0.16, 'sys': {'pod': 'n'}, 'dt_txt': '2023-09-11 21:00:00'}, {'dt': 1694476800, 'main': {'temp': 289.33, 'feels_like': 289.46, 'temp_min': 289.33, 'temp_max': 289.33, 'pressure': 1007, 'sea_level': 1007, 'grnd_level': 991, 'humidity': 94, 'temp_kf': 0}, 'weather': [{'id': 803, 'main': 'Clouds', 'description': 'broken clouds', 'icon': '04n'}], 'clouds': {'all': 75}, 'wind': {'speed': 3.42, 'deg': 190, 'gust': 7.93}, 'visibility': 10000, 'pop': 0.16, 'sys': {'pod': 'n'}, 'dt_txt': '2023-09-12 00:00:00'}, {'dt': 1694487600, 'main': {'temp': 288.62, 'feels_like': 288.7, 'temp_min': 288.62, 'temp_max': 288.62, 'pressure': 1007, 'sea_level': 1007, 'grnd_level': 990, 'humidity': 95, 'temp_kf': 0}, 'weather': [{'id': 804, 'main': 'Clouds', 'description': 'overcast clouds', 'icon': '04n'}], 'clouds': {'all': 100}, 'wind': {'speed': 2.57, 'deg': 187, 'gust': 6.87}, 'visibility': 10000, 'pop': 0, 'sys': {'pod': 'n'}, 'dt_txt': '2023-09-12 03:00:00'}, {'dt': 1694498400, 'main': {'temp': 289.05, 'feels_like': 289.05, 'temp_min': 289.05, 'temp_max': 289.05, 'pressure': 1007, 'sea_level': 1007, 'grnd_level': 991, 'humidity': 90, 'temp_kf': 0}, 'weather': [{'id': 804, 'main': 'Clouds', 'description': 'overcast clouds', 'icon': '04d'}], 'clouds': {'all': 100}, 'wind': {'speed': 2.54, 'deg': 188, 'gust': 6}, 'visibility': 10000, 'pop': 0.02, 'sys': {'pod': 'd'}, 'dt_txt': '2023-09-12 06:00:00'}, {'dt': 1694509200, 'main': {'temp': 290.64, 'feels_like': 290.66, 'temp_min': 290.64, 'temp_max': 290.64, 'pressure': 1008, 'sea_level': 1008, 'grnd_level': 991, 'humidity': 85, 'temp_kf': 0}, 'weather': [{'id': 804, 'main': 'Clouds', 'description': 'overcast clouds', 'icon': '04d'}], 'clouds': {'all': 100}, 'wind': {'speed': 3.36, 'deg': 185, 'gust': 6.19}, 'visibility': 10000, 'pop': 0.04, 'sys': {'pod': 'd'}, 'dt_txt': '2023-09-12 09:00:00'}, {'dt': 1694520000, 'main': {'temp': 291.91, 'feels_like': 291.83, 'temp_min': 291.91, 'temp_max': 291.91, 'pressure': 1008, 'sea_level': 1008, 'grnd_level': 991, 'humidity': 76, 'temp_kf': 0}, 'weather': [{'id': 804, 'main': 'Clouds', 'description': 'overcast clouds', 'icon': '04d'}], 'clouds': {'all': 100}, 'wind': {'speed': 4.98, 'deg': 183, 'gust': 7.92}, 'visibility': 10000, 'pop': 0.04, 'sys': {'pod': 'd'}, 'dt_txt': '2023-09-12 12:00:00'}, {'dt': 1694530800, 'main': {'temp': 290.76, 'feels_like': 290.69, 'temp_min': 290.76, 'temp_max': 290.76, 'pressure': 1007, 'sea_level': 1007, 'grnd_level': 991, 'humidity': 81, 'temp_kf': 0}, 'weather': [{'id': 804, 'main': 'Clouds', 'description': 'overcast clouds', 'icon': '04d'}], 'clouds': {'all': 100}, 'wind': {'speed': 4.59, 'deg': 176, 'gust': 9.21}, 'visibility': 10000, 'pop': 0.04, 'sys': {'pod': 'd'}, 'dt_txt': '2023-09-12 15:00:00'}, {'dt': 1694541600, 'main': {'temp': 288.72, 'feels_like': 288.76, 'temp_min': 288.72, 'temp_max': 288.72, 'pressure': 1007, 'sea_level': 1007, 'grnd_level': 990, 'humidity': 93, 'temp_kf': 0}, 'weather': [{'id': 804, 'main': 'Clouds', 'description': 'overcast clouds', 'icon': '04n'}], 'clouds': {'all': 100}, 'wind': {'speed': 4.51, 'deg': 177, 'gust': 11.68}, 'visibility': 10000, 'pop': 0, 'sys': {'pod': 'n'}, 'dt_txt': '2023-09-12 18:00:00'}, {'dt': 1694552400, 'main': {'temp': 288.7, 'feels_like': 288.74, 'temp_min': 288.7, 'temp_max': 288.7, 'pressure': 1007, 'sea_level': 1007, 'grnd_level': 990, 'humidity': 93, 'temp_kf': 0}, 'weather': [{'id': 804, 'main': 'Clouds', 'description': 'overcast clouds', 'icon': '04n'}], 'clouds': {'all': 97}, 'wind': {'speed': 4.42, 'deg': 185, 'gust': 11.26}, 'visibility': 10000, 'pop': 0, 'sys': {'pod': 'n'}, 'dt_txt': '2023-09-12 21:00:00'}, {'dt': 1694563200, 'main': {'temp': 288.32, 'feels_like': 288.43, 'temp_min': 288.32, 'temp_max': 288.32, 'pressure': 1005, 'sea_level': 1005, 'grnd_level': 989, 'humidity': 97, 'temp_kf': 0}, 'weather': [{'id': 500, 'main': 'Rain', 'description': 'light rain', 'icon': '10n'}], 'clouds': {'all': 98}, 'wind': {'speed': 3.35, 'deg': 184, 'gust': 9.65}, 'visibility': 10000, 'pop': 0.24, 'rain': {'3h': 0.11}, 'sys': {'pod': 'n'}, 'dt_txt': '2023-09-13 00:00:00'}, {'dt': 1694574000, 'main': {'temp': 288.36, 'feels_like': 288.52, 'temp_min': 288.36, 'temp_max': 288.36, 'pressure': 1003, 'sea_level': 1003, 'grnd_level': 987, 'humidity': 99, 'temp_kf': 0}, 'weather': [{'id': 500, 'main': 'Rain', 'description': 'light rain', 'icon': '10n'}], 'clouds': {'all': 100}, 'wind': {'speed': 2.08, 'deg': 167, 'gust': 6.57}, 'visibility': 198, 'pop': 0.81, 'rain': {'3h': 2.12}, 'sys': {'pod': 'n'}, 'dt_txt': '2023-09-13 03:00:00'}, {'dt': 1694584800, 'main': {'temp': 288.55, 'feels_like': 288.73, 'temp_min': 288.55, 'temp_max': 288.55, 'pressure': 1001, 'sea_level': 1001, 'grnd_level': 985, 'humidity': 99, 'temp_kf': 0}, 'weather': [{'id': 501, 'main': 'Rain', 'description': 'moderate rain', 'icon': '10d'}], 'clouds': {'all': 100}, 'wind': {'speed': 2.08, 'deg': 149, 'gust': 6.2}, 'visibility': 144, 'pop': 1, 'rain': {'3h': 9.34}, 'sys': {'pod': 'd'}, 'dt_txt': '2023-09-13 06:00:00'}, {'dt': 1694595600, 'main': {'temp': 288.6, 'feels_like': 288.73, 'temp_min': 288.6, 'temp_max': 288.6, 'pressure': 1000, 'sea_level': 1000, 'grnd_level': 983, 'humidity': 97, 'temp_kf': 0}, 'weather': [{'id': 501, 'main': 'Rain', 'description': 'moderate rain', 'icon': '10d'}], 'clouds': {'all': 100}, 'wind': {'speed': 2.14, 'deg': 156, 'gust': 5.68}, 'visibility': 9528, 'pop': 1, 'rain': {'3h': 7.2}, 'sys': {'pod': 'd'}, 'dt_txt': '2023-09-13 09:00:00'}], 'city': {'id': 3139081, 'name': 'Ski', 'coord': {'lat': 59.7195, 'lon': 10.8358}, 'country': 'NO', 'population': 12513, 'timezone': 7200, 'sunrise': 1694147264, 'sunset': 1694196099}}\")\n"
     ]
    }
   ],
   "source": [
    "# Query the data\n",
    "forecast_rows = session.execute(\"SELECT * FROM forecast_table;\")\n",
    "print(forecast_rows.one()) # <- only one row"
   ]
  },
  {
   "cell_type": "markdown",
   "metadata": {
    "slideshow": {
     "slide_type": "slide"
    }
   },
   "source": [
    "## Resources\n",
    "- [Cassandra webpage](https://cassandra.apache.org/)\n",
    "- [Cassandra Docker file](https://hub.docker.com/_/cassandra)\n",
    "- [UUID functions](https://docs.datastax.com/en/cql-oss/3.3/cql/cql_reference/timeuuid_functions_r.html)\n",
    "- [YouTube: Cassandra in 100 seconds](https://youtu.be/ziq7FUKpCS8?si=WQUdkHFvaBmT0DBo) (2m:26s)\n",
    "- [YouTube: How to use Appache Cassandra in Python](https://youtu.be/qMauZqJH3ZM?si=yKGZ-5cld2BK396Y) (14m:50s)\n",
    "- [YouTube: Cassandra Database Crash Course](https://youtu.be/KZsVSfQVU4I?si=FBCi8qOfCirfVmZk) (19m:47s)"
   ]
  }
 ],
 "metadata": {
  "celltoolbar": "Slideshow",
  "kernelspec": {
   "display_name": "Python 3 (ipykernel)",
   "language": "python",
   "name": "python3"
  },
  "language_info": {
   "codemirror_mode": {
    "name": "ipython",
    "version": 3
   },
   "file_extension": ".py",
   "mimetype": "text/x-python",
   "name": "python",
   "nbconvert_exporter": "python",
   "pygments_lexer": "ipython3",
   "version": "3.10.6"
  }
 },
 "nbformat": 4,
 "nbformat_minor": 2
}