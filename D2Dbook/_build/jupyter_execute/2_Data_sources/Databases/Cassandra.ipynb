{
 "cells": [
  {
   "cell_type": "markdown",
   "metadata": {},
   "source": [
    "# Cassandra\n",
    "- A production grade NoSQL database.\n",
    "- Can be distributed across servers, nodes, etc.\n",
    "- Replication of database is supported for high degree of redundancy and speed.\n",
    "- Uses CQL, a subset of SQL for querying.\n",
    "- Works seamlesly together with Spark and its corresponding distributed structure.\n",
    "- Installation of Cassandra is explained in the [Installation chapter](../../6_Appendix/Installation.ipynb)."
   ]
  },
  {
   "cell_type": "markdown",
   "metadata": {
    "slideshow": {
     "slide_type": "slide"
    }
   },
   "source": [
    "## Spinning up a local Cassandra instance\n",
    "In a terminal, first time:  \n",
    "```docker run --name my_cassandra -p 9042:9042 cassandra:latest```  \n",
    "... and later:  \n",
    "```docker start my_cassandra```  \n",
    "  \n",
    ".. or in Docker Desktop:\n",
    "- Run the cassandra docker image with optional settings, opening 9042 port and setting a name.\n",
    "- Later, simply run the container with the name you chose."
   ]
  },
  {
   "cell_type": "markdown",
   "metadata": {
    "slideshow": {
     "slide_type": "slide"
    }
   },
   "source": [
    "<img src=\"../../images/Docker_images.png\" width=\"600px\">  "
   ]
  },
  {
   "cell_type": "markdown",
   "metadata": {
    "slideshow": {
     "slide_type": "slide"
    }
   },
   "source": [
    "\n",
    "<img src=\"../../images/Docker_containers.png\" width=\"800px\">  "
   ]
  },
  {
   "cell_type": "markdown",
   "metadata": {
    "slideshow": {
     "slide_type": "slide"
    }
   },
   "source": [
    "### Connect to the Cassandra cluster from Python."
   ]
  },
  {
   "cell_type": "code",
   "execution_count": 1,
   "metadata": {
    "slideshow": {
     "slide_type": "-"
    }
   },
   "outputs": [],
   "source": [
    "# Connecting to Cassandra\n",
    "from cassandra.cluster import Cluster\n",
    "cluster = Cluster(['localhost'], port=9042)\n",
    "session = cluster.connect()"
   ]
  },
  {
   "cell_type": "markdown",
   "metadata": {
    "slideshow": {
     "slide_type": "slide"
    }
   },
   "source": [
    "### Keyspace\n",
    "- In Cassandra database tables are stored in keyspaces (basically a distributed database).\n",
    "- These have parameters controlling their distribution on nodes/servers and redundancy.\n",
    "- We will use the simplest form locally."
   ]
  },
  {
   "cell_type": "code",
   "execution_count": 2,
   "metadata": {
    "slideshow": {
     "slide_type": "fragment"
    }
   },
   "outputs": [
    {
     "data": {
      "text/plain": [
       "<cassandra.cluster.ResultSet at 0x106361120>"
      ]
     },
     "execution_count": 2,
     "metadata": {},
     "output_type": "execute_result"
    }
   ],
   "source": [
    "# Set up new keyspace (first time only)\n",
    "#                                              name of keyspace                        replication strategy           replication factor\n",
    "session.execute(\"CREATE KEYSPACE IF NOT EXISTS my_first_keyspace WITH REPLICATION = { 'class' : 'SimpleStrategy', 'replication_factor' : 1 };\")"
   ]
  },
  {
   "cell_type": "markdown",
   "metadata": {
    "slideshow": {
     "slide_type": "slide"
    }
   },
   "source": [
    "### Create a table\n",
    "- IF NOT EXISTS makes sure we do not overwrite existing tables"
   ]
  },
  {
   "cell_type": "code",
   "execution_count": 3,
   "metadata": {
    "slideshow": {
     "slide_type": "fragment"
    }
   },
   "outputs": [
    {
     "data": {
      "text/plain": [
       "<cassandra.cluster.ResultSet at 0x107624fd0>"
      ]
     },
     "execution_count": 3,
     "metadata": {},
     "output_type": "execute_result"
    }
   ],
   "source": [
    "# Create a new table (first time only)\n",
    "session.set_keyspace('my_first_keyspace')\n",
    "session.execute(\"DROP TABLE IF EXISTS my_first_keyspace.my_first_table;\") # Starting from scratch every time\n",
    "session.execute(\"CREATE TABLE IF NOT EXISTS my_first_table (ind int PRIMARY KEY, company text, model text);\")"
   ]
  },
  {
   "cell_type": "markdown",
   "metadata": {
    "slideshow": {
     "slide_type": "slide"
    }
   },
   "source": [
    "### Inserting and reading data"
   ]
  },
  {
   "cell_type": "code",
   "execution_count": 4,
   "metadata": {
    "slideshow": {
     "slide_type": "-"
    }
   },
   "outputs": [
    {
     "data": {
      "text/plain": [
       "<cassandra.cluster.ResultSet at 0x107623670>"
      ]
     },
     "execution_count": 4,
     "metadata": {},
     "output_type": "execute_result"
    }
   ],
   "source": [
    "# Insert some data (ind is the primary key, must be unique)\n",
    "session.execute(\"INSERT INTO my_first_table (ind, company, model) VALUES (1, 'Tesla', 'Model S');\")\n",
    "session.execute(\"INSERT INTO my_first_table (ind, company, model) VALUES (2, 'Tesla', 'Model 3');\")\n",
    "session.execute(\"INSERT INTO my_first_table (ind, company, model) VALUES (3, 'Polestar', '3');\")"
   ]
  },
  {
   "cell_type": "markdown",
   "metadata": {
    "slideshow": {
     "slide_type": "slide"
    }
   },
   "source": [
    "### Asyncronous writing\n",
    "- If your application is very data intensive, waiting for a response is not productive.\n",
    "- Writing asyncronously sends the data but does not pause for reply."
   ]
  },
  {
   "cell_type": "code",
   "execution_count": 5,
   "metadata": {
    "slideshow": {
     "slide_type": "-"
    }
   },
   "outputs": [
    {
     "data": {
      "text/plain": [
       "<ResponseFuture: query='<SimpleStatement query=\"INSERT INTO my_first_table (ind, company, model) VALUES (4, 'Volkswagen', 'ID.4');\", consistency=Not Set>' request_id=24 result=(no result yet) exception=None coordinator_host=None>"
      ]
     },
     "execution_count": 5,
     "metadata": {},
     "output_type": "execute_result"
    }
   ],
   "source": [
    "session.execute_async(\"INSERT INTO my_first_table (ind, company, model) VALUES (4, 'Volkswagen', 'ID.4');\")"
   ]
  },
  {
   "cell_type": "code",
   "execution_count": 6,
   "metadata": {
    "slideshow": {
     "slide_type": "slide"
    }
   },
   "outputs": [
    {
     "name": "stdout",
     "output_type": "stream",
     "text": [
      "Row(ind=1, company='Tesla', model='Model S')\n",
      "Row(ind=2, company='Tesla', model='Model 3')\n",
      "Row(ind=4, company='Volkswagen', model='ID.4')\n",
      "Row(ind=3, company='Polestar', model='3')\n"
     ]
    }
   ],
   "source": [
    "# Query the data\n",
    "rows = session.execute(\"SELECT * FROM my_first_table;\")\n",
    "for i in rows:\n",
    "    print(i)"
   ]
  },
  {
   "cell_type": "code",
   "execution_count": 7,
   "metadata": {
    "slideshow": {
     "slide_type": "slide"
    },
    "tags": [
     "raises-exception"
    ]
   },
   "outputs": [
    {
     "ename": "InvalidRequest",
     "evalue": "Error from server: code=2200 [Invalid query] message=\"Cannot execute this query as it might involve data filtering and thus may have unpredictable performance. If you want to execute this query despite the performance unpredictability, use ALLOW FILTERING\"",
     "output_type": "error",
     "traceback": [
      "\u001b[0;31m---------------------------------------------------------------------------\u001b[0m",
      "\u001b[0;31mInvalidRequest\u001b[0m                            Traceback (most recent call last)",
      "Cell \u001b[0;32mIn [7], line 2\u001b[0m\n\u001b[1;32m      1\u001b[0m \u001b[38;5;66;03m# More specific query\u001b[39;00m\n\u001b[0;32m----> 2\u001b[0m prepared_statement \u001b[38;5;241m=\u001b[39m \u001b[43msession\u001b[49m\u001b[38;5;241;43m.\u001b[39;49m\u001b[43mprepare\u001b[49m\u001b[43m(\u001b[49m\u001b[38;5;124;43m\"\u001b[39;49m\u001b[38;5;124;43mSELECT * FROM my_first_table WHERE company=?;\u001b[39;49m\u001b[38;5;124;43m\"\u001b[39;49m\u001b[43m)\u001b[49m \u001b[38;5;66;03m# <- will fail as company is not a key\u001b[39;00m\n\u001b[1;32m      3\u001b[0m teslas \u001b[38;5;241m=\u001b[39m session\u001b[38;5;241m.\u001b[39mexecute(prepared_statement, [\u001b[38;5;124m'\u001b[39m\u001b[38;5;124mTesla\u001b[39m\u001b[38;5;124m'\u001b[39m])\n\u001b[1;32m      4\u001b[0m \u001b[38;5;28;01mfor\u001b[39;00m i \u001b[38;5;129;01min\u001b[39;00m teslas:\n",
      "File \u001b[0;32m~/miniforge3/envs/tf_M1/lib/python3.10/site-packages/cassandra/cluster.py:3088\u001b[0m, in \u001b[0;36mSession.prepare\u001b[0;34m(self, query, custom_payload, keyspace)\u001b[0m\n\u001b[1;32m   3086\u001b[0m \u001b[38;5;28;01mtry\u001b[39;00m:\n\u001b[1;32m   3087\u001b[0m     future\u001b[38;5;241m.\u001b[39msend_request()\n\u001b[0;32m-> 3088\u001b[0m     response \u001b[38;5;241m=\u001b[39m \u001b[43mfuture\u001b[49m\u001b[38;5;241;43m.\u001b[39;49m\u001b[43mresult\u001b[49m\u001b[43m(\u001b[49m\u001b[43m)\u001b[49m\u001b[38;5;241m.\u001b[39mone()\n\u001b[1;32m   3089\u001b[0m \u001b[38;5;28;01mexcept\u001b[39;00m \u001b[38;5;167;01mException\u001b[39;00m:\n\u001b[1;32m   3090\u001b[0m     log\u001b[38;5;241m.\u001b[39mexception(\u001b[38;5;124m\"\u001b[39m\u001b[38;5;124mError preparing query:\u001b[39m\u001b[38;5;124m\"\u001b[39m)\n",
      "File \u001b[0;32m~/miniforge3/envs/tf_M1/lib/python3.10/site-packages/cassandra/cluster.py:4920\u001b[0m, in \u001b[0;36mResponseFuture.result\u001b[0;34m(self)\u001b[0m\n\u001b[1;32m   4918\u001b[0m     \u001b[38;5;28;01mreturn\u001b[39;00m ResultSet(\u001b[38;5;28mself\u001b[39m, \u001b[38;5;28mself\u001b[39m\u001b[38;5;241m.\u001b[39m_final_result)\n\u001b[1;32m   4919\u001b[0m \u001b[38;5;28;01melse\u001b[39;00m:\n\u001b[0;32m-> 4920\u001b[0m     \u001b[38;5;28;01mraise\u001b[39;00m \u001b[38;5;28mself\u001b[39m\u001b[38;5;241m.\u001b[39m_final_exception\n",
      "\u001b[0;31mInvalidRequest\u001b[0m: Error from server: code=2200 [Invalid query] message=\"Cannot execute this query as it might involve data filtering and thus may have unpredictable performance. If you want to execute this query despite the performance unpredictability, use ALLOW FILTERING\""
     ]
    }
   ],
   "source": [
    "# More specific query\n",
    "prepared_statement = session.prepare(\"SELECT * FROM my_first_table WHERE company=?;\") # <- will fail as company is not a key\n",
    "teslas = session.execute(prepared_statement, ['Tesla'])\n",
    "for i in teslas:\n",
    "    print(i)"
   ]
  },
  {
   "cell_type": "markdown",
   "metadata": {
    "slideshow": {
     "slide_type": "slide"
    }
   },
   "source": [
    "## Cassandra filtering\n",
    "Cassandra is inherently a distributed production database. Selecting as above may require downloading all data from a node, then filtering based on the WHERE part (only PRIMARY KEYs are centrally known). Solutions:  \n",
    "- If the table is small or most of the data will satisfy the query, add ```ALLOW FILTERING``` at the end of the query (not recommended if not known). \n",
    "- Or make sure the WHERE clause points to one of the keys (see below)."
   ]
  },
  {
   "cell_type": "code",
   "execution_count": 8,
   "metadata": {
    "slideshow": {
     "slide_type": "slide"
    }
   },
   "outputs": [
    {
     "data": {
      "text/plain": [
       "<cassandra.cluster.ResultSet at 0x107619300>"
      ]
     },
     "execution_count": 8,
     "metadata": {},
     "output_type": "execute_result"
    }
   ],
   "source": [
    "# Create a new table (observe keys)\n",
    "session.execute(\"DROP TABLE IF EXISTS my_first_keyspace.car_table;\")\n",
    "session.execute(\"CREATE TABLE IF NOT EXISTS car_table (company text, model text, PRIMARY KEY(company, model));\")"
   ]
  },
  {
   "cell_type": "code",
   "execution_count": 9,
   "metadata": {
    "slideshow": {
     "slide_type": "fragment"
    }
   },
   "outputs": [
    {
     "data": {
      "text/plain": [
       "<cassandra.cluster.ResultSet at 0x110995d50>"
      ]
     },
     "execution_count": 9,
     "metadata": {},
     "output_type": "execute_result"
    }
   ],
   "source": [
    "# Insert some data (combination of company and model must be unique)\n",
    "session.execute(\"INSERT INTO car_table (company, model) VALUES ('Tesla', 'Model S');\")\n",
    "session.execute(\"INSERT INTO car_table (company, model) VALUES ('Tesla', 'Model 3');\")\n",
    "session.execute(\"INSERT INTO car_table (company, model) VALUES ('Polestar', '3');\")\n",
    "session.execute(\"INSERT INTO car_table (company, model) VALUES ('Volkswagen', 'ID.4');\")"
   ]
  },
  {
   "cell_type": "code",
   "execution_count": 10,
   "metadata": {
    "slideshow": {
     "slide_type": "slide"
    }
   },
   "outputs": [
    {
     "name": "stdout",
     "output_type": "stream",
     "text": [
      "Row(company='Tesla', model='Model 3')\n",
      "Row(company='Tesla', model='Model S')\n"
     ]
    }
   ],
   "source": [
    "# More specific query now works\n",
    "prepared_statement = session.prepare(\"SELECT * FROM car_table WHERE company=?;\")\n",
    "teslas = session.execute(prepared_statement, ['Tesla'])\n",
    "for i in teslas:\n",
    "    print(i)"
   ]
  },
  {
   "cell_type": "markdown",
   "metadata": {
    "slideshow": {
     "slide_type": "slide"
    }
   },
   "source": [
    "### Partitions\n",
    "- Cassandra databases are usually replicated over different nodes.\n",
    "- Data is stored in partitions (subsets) which have local copys.\n",
    "- The primary key, e.g., PRIMARY KEY(company, model), is used in partitioning.\n",
    "    - The first part, e.g., company, is most important.\n",
    "    - All cars from a company will be located together, aiming for quicker queries."
   ]
  },
  {
   "cell_type": "markdown",
   "metadata": {
    "slideshow": {
     "slide_type": "slide"
    }
   },
   "source": [
    "### Unique IDs \n",
    "- In MySQL one could use the attribute AUTO_INCREMENT on integer IDs to automatically make a new unique index when inserting data.\n",
    "- This would cause unreasonable overhead in a distributed database.\n",
    "- [UUID](https://en.wikipedia.org/wiki/Universally_unique_identifier)s are used instead.\n",
    "    - Universally Unique Identifiers are typically 128-bit random bit sequences with extremely low probability of duplication.\n",
    "    - Cassandra uses a [timeuuid](https://docs.datastax.com/en/cql-oss/3.3/cql/cql_reference/timeuuid_functions_r.html) type to combine a timestamp and uuid in one."
   ]
  },
  {
   "cell_type": "code",
   "execution_count": 11,
   "metadata": {
    "slideshow": {
     "slide_type": "fragment"
    }
   },
   "outputs": [
    {
     "data": {
      "text/plain": [
       "<cassandra.cluster.ResultSet at 0x107625fc0>"
      ]
     },
     "execution_count": 11,
     "metadata": {},
     "output_type": "execute_result"
    }
   ],
   "source": [
    "# Create a new table (first time only)\n",
    "session.set_keyspace('my_first_keyspace')\n",
    "session.execute(\"DROP TABLE IF EXISTS my_first_keyspace.table_with_uuid;\")\n",
    "session.execute(\"CREATE TABLE IF NOT EXISTS table_with_uuid (id timeuuid PRIMARY KEY, company text, model text, price float);\")"
   ]
  },
  {
   "cell_type": "code",
   "execution_count": 12,
   "metadata": {
    "slideshow": {
     "slide_type": "slide"
    }
   },
   "outputs": [
    {
     "data": {
      "text/plain": [
       "<cassandra.cluster.ResultSet at 0x110997280>"
      ]
     },
     "execution_count": 12,
     "metadata": {},
     "output_type": "execute_result"
    }
   ],
   "source": [
    "session.execute(\"INSERT INTO table_with_uuid (id, company, model, price) VALUES (now(), 'Tesla', 'Model S', 20000.0);\")\n",
    "session.execute(\"INSERT INTO table_with_uuid (id, company, model, price) VALUES (now(), 'Tesla', 'Model S', 21000.0);\")\n",
    "session.execute(\"INSERT INTO table_with_uuid (id, company, model, price) VALUES (now(), 'Oldsmobile', 'Model 6C', 135000.0);\")"
   ]
  },
  {
   "cell_type": "code",
   "execution_count": 13,
   "metadata": {
    "slideshow": {
     "slide_type": "slide"
    }
   },
   "outputs": [
    {
     "name": "stdout",
     "output_type": "stream",
     "text": [
      "Row(id=UUID('c1658110-5a5c-11ee-9584-e764fe77f234'), company='Oldsmobile', model='Model 6C', price=135000.0)\n",
      "Datetime: 2023-09-23 22:01:32.321000\n",
      "Row(id=UUID('c164bdc0-5a5c-11ee-9584-e764fe77f234'), company='Tesla', model='Model S', price=20000.0)\n",
      "Datetime: 2023-09-23 22:01:32.316000\n",
      "Row(id=UUID('c16532f0-5a5c-11ee-9584-e764fe77f234'), company='Tesla', model='Model S', price=21000.0)\n",
      "Datetime: 2023-09-23 22:01:32.319000\n"
     ]
    }
   ],
   "source": [
    "from cassandra.util import datetime_from_uuid1\n",
    "\n",
    "# Query the data\n",
    "rows = session.execute(\"SELECT * FROM table_with_uuid;\")\n",
    "for i in rows:\n",
    "    print(i)\n",
    "    # Extract the timestamp from Cassandra's timeuuid\n",
    "    print(\"Datetime:\", datetime_from_uuid1(i.id))"
   ]
  },
  {
   "cell_type": "markdown",
   "metadata": {
    "slideshow": {
     "slide_type": "slide"
    }
   },
   "source": [
    "## JSON in Cassandra\n",
    "### Read previously saved JSON file forecast.json to memory"
   ]
  },
  {
   "cell_type": "code",
   "execution_count": 14,
   "metadata": {
    "slideshow": {
     "slide_type": "-"
    }
   },
   "outputs": [],
   "source": [
    "import json\n",
    "with open('../APIs/downloads/forecast.json', 'r') as f:\n",
    "    forecast = json.load(f)"
   ]
  },
  {
   "cell_type": "code",
   "execution_count": 15,
   "metadata": {
    "slideshow": {
     "slide_type": "slide"
    }
   },
   "outputs": [
    {
     "data": {
      "text/plain": [
       "\"{'cod': '200', 'message': 0, 'cnt': 40, 'list': [{'dt': 1695513600, 'main': {'temp': 281.45, 'feels_like': 281.45, 'temp_min': 280.28, 'temp_max': 281.45, 'pressure': 1007, 'sea_level': 1007, 'grnd_level': 991, 'humidity': 94, 'temp_kf': 1.17}, 'weather': [{'id': 800, 'main': 'Clear', 'description': 'clear sky', 'icon': '01n'}], 'clouds': {'all': 3}, 'wind': {'speed': 0.9, 'deg': 231, 'gust': 0.9}, 'visibility': 10000, 'pop': 0, 'sys': {'pod': 'n'}, 'dt_txt': '2023-09-24 00:00:00'}, {'dt': 1695524400, 'main': {'temp': 280.01, 'feels_like': 280.01, 'temp_min': 279, 'temp_max': 280.01, 'pressure': 1009, 'sea_level': 1009, 'grnd_level': 993, 'humidity': 90, 'temp_kf': 1.01}, 'weather': [{'id': 800, 'main': 'Clear', 'description': 'clear sky', 'icon': '01n'}], 'clouds': {'all': 1}, 'wind': {'speed': 0.93, 'deg': 274, 'gust': 0.93}, 'visibility': 10000, 'pop': 0, 'sys': {'pod': 'n'}, 'dt_txt': '2023-09-24 03:00:00'}, {'dt': 1695535200, 'main': {'temp': 278.84, 'feels_like': 278.84, 'temp_min': 278.84, 'temp_max': 278.84, 'pressure': 1013, 'sea_level': 1013, 'grnd_level': 996, 'humidity': 85, 'temp_kf': 0}, 'weather': [{'id': 800, 'main': 'Clear', 'description': 'clear sky', 'icon': '01d'}], 'clouds': {'all': 10}, 'wind': {'speed': 0.66, 'deg': 269, 'gust': 0.71}, 'visibility': 10000, 'pop': 0, 'sys': {'pod': 'd'}, 'dt_txt': '2023-09-24 06:00:00'}, {'dt': 1695546000, 'main': {'temp': 284.67, 'feels_like': 283.5, 'temp_min': 284.67, 'temp_max': 284.67, 'pressure': 1016, 'sea_level': 1016, 'grnd_level': 999, 'humidity': 62, 'temp_kf': 0}, 'weather': [{'id': 801, 'main': 'Clouds', 'description': 'few clouds', 'icon': '02d'}], 'clouds': {'all': 14}, 'wind': {'speed': 1.22, 'deg': 313, 'gust': 2.33}, 'visibility': 10000, 'pop': 0, 'sys': {'pod': 'd'}, 'dt_txt': '2023-09-24 09:00:00'}, {'dt': 1695556800, 'main': {'temp': 287.91, 'feels_like': 286.64, 'temp_min': 287.91, 'temp_max': 287.91, 'pressure': 1017, 'sea_level': 1017, 'grnd_level': 1000, 'humidity': 46, 'temp_kf': 0}, 'weather': [{'id': 801, 'main': 'Clouds', 'description': 'few clouds', 'icon': '02d'}], 'clouds': {'all': 13}, 'wind': {'speed': 2.23, 'deg': 196, 'gust': 3.33}, 'visibility': 10000, 'pop': 0, 'sys': {'pod': 'd'}, 'dt_txt': '2023-09-24 12:00:00'}, {'dt': 1695567600, 'main': {'temp': 286.95, 'feels_like': 285.9, 'temp_min': 286.95, 'temp_max': 286.95, 'pressure': 1017, 'sea_level': 1017, 'grnd_level': 1001, 'humidity': 58, 'temp_kf': 0}, 'weather': [{'id': 802, 'main': 'Clouds', 'description': 'scattered clouds', 'icon': '03d'}], 'clouds': {'all': 36}, 'wind': {'speed': 2.62, 'deg': 169, 'gust': 7.41}, 'visibility': 10000, 'pop': 0, 'sys': {'pod': 'd'}, 'dt_txt': '2023-09-24 15:00:00'}, {'dt': 1695578400, 'main': {'temp': 285.24, 'feels_like': 284.8, 'temp_min': 285.24, 'temp_max': 285.24, 'pressure': 1018, 'sea_level': 1018, 'grnd_level': 1001, 'humidity': 88, 'temp_kf': 0}, 'weather': [{'id': 803, 'main': 'Clouds', 'description': 'broken clouds', 'icon': '04n'}], 'clouds': {'all': 68}, 'wind': {'speed': 4.32, 'deg': 194, 'gust': 11.6}, 'visibility': 10000, 'pop': 0, 'sys': {'pod': 'n'}, 'dt_txt': '2023-09-24 18:00:00'}, {'dt': 1695589200, 'main': {'temp': 285.51, 'feels_like': 285.13, 'temp_min': 285.51, 'temp_max': 285.51, 'pressure': 1019, 'sea_level': 1019, 'grnd_level': 1002, 'humidity': 89, 'temp_kf': 0}, 'weather': [{'id': 804, 'main': 'Clouds', 'description': 'overcast clouds', 'icon': '04n'}], 'clouds': {'all': 100}, 'wind': {'speed': 4.09, 'deg': 191, 'gust': 11.91}, 'visibility': 10000, 'pop': 0, 'sys': {'pod': 'n'}, 'dt_txt': '2023-09-24 21:00:00'}, {'dt': 1695600000, 'main': {'temp': 286.86, 'feels_like': 286.74, 'temp_min': 286.86, 'temp_max': 286.86, 'pressure': 1018, 'sea_level': 1018, 'grnd_level': 1001, 'humidity': 94, 'temp_kf': 0}, 'weather': [{'id': 500, 'main': 'Rain', 'description': 'light rain', 'icon': '10n'}], 'clouds': {'all': 100}, 'wind': {'speed': 6.03, 'deg': 187, 'gust': 13.2}, 'visibility': 10000, 'pop': 0.4, 'rain': {'3h': 0.31}, 'sys': {'pod': 'n'}, 'dt_txt': '2023-09-25 00:00:00'}, {'dt': 1695610800, 'main': {'temp': 286.31, 'feels_like': 286.14, 'temp_min': 286.31, 'temp_max': 286.31, 'pressure': 1017, 'sea_level': 1017, 'grnd_level': 1000, 'humidity': 94, 'temp_kf': 0}, 'weather': [{'id': 500, 'main': 'Rain', 'description': 'light rain', 'icon': '10n'}], 'clouds': {'all': 100}, 'wind': {'speed': 6.06, 'deg': 184, 'gust': 12.8}, 'visibility': 10000, 'pop': 0.96, 'rain': {'3h': 0.5}, 'sys': {'pod': 'n'}, 'dt_txt': '2023-09-25 03:00:00'}, {'dt': 1695621600, 'main': {'temp': 285.94, 'feels_like': 285.65, 'temp_min': 285.94, 'temp_max': 285.94, 'pressure': 1017, 'sea_level': 1017, 'grnd_level': 1000, 'humidity': 91, 'temp_kf': 0}, 'weather': [{'id': 804, 'main': 'Clouds', 'description': 'overcast clouds', 'icon': '04d'}], 'clouds': {'all': 100}, 'wind': {'speed': 5.78, 'deg': 175, 'gust': 12.51}, 'visibility': 10000, 'pop': 0.72, 'sys': {'pod': 'd'}, 'dt_txt': '2023-09-25 06:00:00'}, {'dt': 1695632400, 'main': {'temp': 285.41, 'feels_like': 285.15, 'temp_min': 285.41, 'temp_max': 285.41, 'pressure': 1016, 'sea_level': 1016, 'grnd_level': 999, 'humidity': 94, 'temp_kf': 0}, 'weather': [{'id': 501, 'main': 'Rain', 'description': 'moderate rain', 'icon': '10d'}], 'clouds': {'all': 100}, 'wind': {'speed': 6.46, 'deg': 172, 'gust': 14.31}, 'visibility': 10000, 'pop': 0.96, 'rain': {'3h': 3.13}, 'sys': {'pod': 'd'}, 'dt_txt': '2023-09-25 09:00:00'}, {'dt': 1695643200, 'main': {'temp': 287.55, 'feels_like': 287.21, 'temp_min': 287.55, 'temp_max': 287.55, 'pressure': 1016, 'sea_level': 1016, 'grnd_level': 999, 'humidity': 83, 'temp_kf': 0}, 'weather': [{'id': 804, 'main': 'Clouds', 'description': 'overcast clouds', 'icon': '04d'}], 'clouds': {'all': 99}, 'wind': {'speed': 6.8, 'deg': 188, 'gust': 13.71}, 'visibility': 10000, 'pop': 0.76, 'sys': {'pod': 'd'}, 'dt_txt': '2023-09-25 12:00:00'}, {'dt': 1695654000, 'main': {'temp': 286.99, 'feels_like': 286.78, 'temp_min': 286.99, 'temp_max': 286.99, 'pressure': 1016, 'sea_level': 1016, 'grnd_level': 999, 'humidity': 90, 'temp_kf': 0}, 'weather': [{'id': 500, 'main': 'Rain', 'description': 'light rain', 'icon': '10d'}], 'clouds': {'all': 100}, 'wind': {'speed': 5.71, 'deg': 188, 'gust': 12.83}, 'visibility': 10000, 'pop': 0.28, 'rain': {'3h': 0.13}, 'sys': {'pod': 'd'}, 'dt_txt': '2023-09-25 15:00:00'}, {'dt': 1695664800, 'main': {'temp': 287.21, 'feels_like': 287.13, 'temp_min': 287.21, 'temp_max': 287.21, 'pressure': 1016, 'sea_level': 1016, 'grnd_level': 1000, 'humidity': 94, 'temp_kf': 0}, 'weather': [{'id': 500, 'main': 'Rain', 'description': 'light rain', 'icon': '10n'}], 'clouds': {'all': 100}, 'wind': {'speed': 5.38, 'deg': 192, 'gust': 12.01}, 'visibility': 10000, 'pop': 0.4, 'rain': {'3h': 0.56}, 'sys': {'pod': 'n'}, 'dt_txt': '2023-09-25 18:00:00'}, {'dt': 1695675600, 'main': {'temp': 286.74, 'feels_like': 286.53, 'temp_min': 286.74, 'temp_max': 286.74, 'pressure': 1017, 'sea_level': 1017, 'grnd_level': 1000, 'humidity': 91, 'temp_kf': 0}, 'weather': [{'id': 804, 'main': 'Clouds', 'description': 'overcast clouds', 'icon': '04n'}], 'clouds': {'all': 98}, 'wind': {'speed': 4.82, 'deg': 201, 'gust': 11.3}, 'visibility': 10000, 'pop': 0.28, 'sys': {'pod': 'n'}, 'dt_txt': '2023-09-25 21:00:00'}, {'dt': 1695686400, 'main': {'temp': 284.7, 'feels_like': 284.39, 'temp_min': 284.7, 'temp_max': 284.7, 'pressure': 1018, 'sea_level': 1018, 'grnd_level': 1001, 'humidity': 95, 'temp_kf': 0}, 'weather': [{'id': 803, 'main': 'Clouds', 'description': 'broken clouds', 'icon': '04n'}], 'clouds': {'all': 84}, 'wind': {'speed': 3.45, 'deg': 200, 'gust': 10.31}, 'visibility': 10000, 'pop': 0.2, 'sys': {'pod': 'n'}, 'dt_txt': '2023-09-26 00:00:00'}, {'dt': 1695697200, 'main': {'temp': 283.7, 'feels_like': 283.34, 'temp_min': 283.7, 'temp_max': 283.7, 'pressure': 1018, 'sea_level': 1018, 'grnd_level': 1002, 'humidity': 97, 'temp_kf': 0}, 'weather': [{'id': 804, 'main': 'Clouds', 'description': 'overcast clouds', 'icon': '04n'}], 'clouds': {'all': 100}, 'wind': {'speed': 2.76, 'deg': 177, 'gust': 9.12}, 'visibility': 10000, 'pop': 0, 'sys': {'pod': 'n'}, 'dt_txt': '2023-09-26 03:00:00'}, {'dt': 1695708000, 'main': {'temp': 284.18, 'feels_like': 283.82, 'temp_min': 284.18, 'temp_max': 284.18, 'pressure': 1019, 'sea_level': 1019, 'grnd_level': 1002, 'humidity': 95, 'temp_kf': 0}, 'weather': [{'id': 804, 'main': 'Clouds', 'description': 'overcast clouds', 'icon': '04d'}], 'clouds': {'all': 100}, 'wind': {'speed': 3.13, 'deg': 183, 'gust': 10.31}, 'visibility': 10000, 'pop': 0, 'sys': {'pod': 'd'}, 'dt_txt': '2023-09-26 06:00:00'}, {'dt': 1695718800, 'main': {'temp': 287.76, 'feels_like': 287.42, 'temp_min': 287.76, 'temp_max': 287.76, 'pressure': 1019, 'sea_level': 1019, 'grnd_level': 1003, 'humidity': 82, 'temp_kf': 0}, 'weather': [{'id': 804, 'main': 'Clouds', 'description': 'overcast clouds', 'icon': '04d'}], 'clouds': {'all': 100}, 'wind': {'speed': 4.17, 'deg': 194, 'gust': 9.31}, 'visibility': 10000, 'pop': 0, 'sys': {'pod': 'd'}, 'dt_txt': '2023-09-26 09:00:00'}, {'dt': 1695729600, 'main': {'temp': 290.12, 'feels_like': 289.57, 'temp_min': 290.12, 'temp_max': 290.12, 'pressure': 1019, 'sea_level': 1019, 'grnd_level': 1002, 'humidity': 65, 'temp_kf': 0}, 'weather': [{'id': 803, 'main': 'Clouds', 'description': 'broken clouds', 'icon': '04d'}], 'clouds': {'all': 80}, 'wind': {'speed': 4.56, 'deg': 189, 'gust': 7}, 'visibility': 10000, 'pop': 0, 'sys': {'pod': 'd'}, 'dt_txt': '2023-09-26 12:00:00'}, {'dt': 1695740400, 'main': {'temp': 288.44, 'feels_like': 288.04, 'temp_min': 288.44, 'temp_max': 288.44, 'pressure': 1018, 'sea_level': 1018, 'grnd_level': 1001, 'humidity': 77, 'temp_kf': 0}, 'weather': [{'id': 803, 'main': 'Clouds', 'description': 'broken clouds', 'icon': '04d'}], 'clouds': {'all': 72}, 'wind': {'speed': 3.74, 'deg': 175, 'gust': 7.3}, 'visibility': 10000, 'pop': 0, 'sys': {'pod': 'd'}, 'dt_txt': '2023-09-26 15:00:00'}, {'dt': 1695751200, 'main': {'temp': 285.07, 'feels_like': 284.88, 'temp_min': 285.07, 'temp_max': 285.07, 'pressure': 1018, 'sea_level': 1018, 'grnd_level': 1001, 'humidity': 98, 'temp_kf': 0}, 'weather': [{'id': 803, 'main': 'Clouds', 'description': 'broken clouds', 'icon': '04n'}], 'clouds': {'all': 80}, 'wind': {'speed': 2.26, 'deg': 163, 'gust': 8.1}, 'visibility': 10000, 'pop': 0, 'sys': {'pod': 'n'}, 'dt_txt': '2023-09-26 18:00:00'}, {'dt': 1695762000, 'main': {'temp': 286.34, 'feels_like': 286.2, 'temp_min': 286.34, 'temp_max': 286.34, 'pressure': 1017, 'sea_level': 1017, 'grnd_level': 1000, 'humidity': 95, 'temp_kf': 0}, 'weather': [{'id': 500, 'main': 'Rain', 'description': 'light rain', 'icon': '10n'}], 'clouds': {'all': 100}, 'wind': {'speed': 2.72, 'deg': 160, 'gust': 8.9}, 'visibility': 10000, 'pop': 0.24, 'rain': {'3h': 0.25}, 'sys': {'pod': 'n'}, 'dt_txt': '2023-09-26 21:00:00'}, {'dt': 1695772800, 'main': {'temp': 285.37, 'feels_like': 285.18, 'temp_min': 285.37, 'temp_max': 285.37, 'pressure': 1016, 'sea_level': 1016, 'grnd_level': 999, 'humidity': 97, 'temp_kf': 0}, 'weather': [{'id': 500, 'main': 'Rain', 'description': 'light rain', 'icon': '10n'}], 'clouds': {'all': 100}, 'wind': {'speed': 2.45, 'deg': 153, 'gust': 8.51}, 'visibility': 10000, 'pop': 0.24, 'rain': {'3h': 0.25}, 'sys': {'pod': 'n'}, 'dt_txt': '2023-09-27 00:00:00'}, {'dt': 1695783600, 'main': {'temp': 286.05, 'feels_like': 285.9, 'temp_min': 286.05, 'temp_max': 286.05, 'pressure': 1014, 'sea_level': 1014, 'grnd_level': 997, 'humidity': 96, 'temp_kf': 0}, 'weather': [{'id': 500, 'main': 'Rain', 'description': 'light rain', 'icon': '10n'}], 'clouds': {'all': 100}, 'wind': {'speed': 2.52, 'deg': 155, 'gust': 7.32}, 'visibility': 10000, 'pop': 0.44, 'rain': {'3h': 0.44}, 'sys': {'pod': 'n'}, 'dt_txt': '2023-09-27 03:00:00'}, {'dt': 1695794400, 'main': {'temp': 286.03, 'feels_like': 285.93, 'temp_min': 286.03, 'temp_max': 286.03, 'pressure': 1014, 'sea_level': 1014, 'grnd_level': 997, 'humidity': 98, 'temp_kf': 0}, 'weather': [{'id': 500, 'main': 'Rain', 'description': 'light rain', 'icon': '10d'}], 'clouds': {'all': 100}, 'wind': {'speed': 3.52, 'deg': 185, 'gust': 10.3}, 'visibility': 2101, 'pop': 0.92, 'rain': {'3h': 2.31}, 'sys': {'pod': 'd'}, 'dt_txt': '2023-09-27 06:00:00'}, {'dt': 1695805200, 'main': {'temp': 287.7, 'feels_like': 287.48, 'temp_min': 287.7, 'temp_max': 287.7, 'pressure': 1014, 'sea_level': 1014, 'grnd_level': 997, 'humidity': 87, 'temp_kf': 0}, 'weather': [{'id': 500, 'main': 'Rain', 'description': 'light rain', 'icon': '10d'}], 'clouds': {'all': 97}, 'wind': {'speed': 4.26, 'deg': 184, 'gust': 10.01}, 'visibility': 10000, 'pop': 1, 'rain': {'3h': 2.25}, 'sys': {'pod': 'd'}, 'dt_txt': '2023-09-27 09:00:00'}, {'dt': 1695816000, 'main': {'temp': 290.19, 'feels_like': 289.93, 'temp_min': 290.19, 'temp_max': 290.19, 'pressure': 1013, 'sea_level': 1013, 'grnd_level': 996, 'humidity': 76, 'temp_kf': 0}, 'weather': [{'id': 500, 'main': 'Rain', 'description': 'light rain', 'icon': '10d'}], 'clouds': {'all': 50}, 'wind': {'speed': 4.61, 'deg': 193, 'gust': 8.22}, 'visibility': 10000, 'pop': 1, 'rain': {'3h': 0.31}, 'sys': {'pod': 'd'}, 'dt_txt': '2023-09-27 12:00:00'}, {'dt': 1695826800, 'main': {'temp': 288.79, 'feels_like': 288.52, 'temp_min': 288.79, 'temp_max': 288.79, 'pressure': 1013, 'sea_level': 1013, 'grnd_level': 996, 'humidity': 81, 'temp_kf': 0}, 'weather': [{'id': 804, 'main': 'Clouds', 'description': 'overcast clouds', 'icon': '04d'}], 'clouds': {'all': 100}, 'wind': {'speed': 3.67, 'deg': 176, 'gust': 6.91}, 'visibility': 10000, 'pop': 0.04, 'sys': {'pod': 'd'}, 'dt_txt': '2023-09-27 15:00:00'}, {'dt': 1695837600, 'main': {'temp': 285.9, 'feels_like': 285.5, 'temp_min': 285.9, 'temp_max': 285.9, 'pressure': 1012, 'sea_level': 1012, 'grnd_level': 995, 'humidity': 87, 'temp_kf': 0}, 'weather': [{'id': 804, 'main': 'Clouds', 'description': 'overcast clouds', 'icon': '04n'}], 'clouds': {'all': 100}, 'wind': {'speed': 3.29, 'deg': 174, 'gust': 9.7}, 'visibility': 10000, 'pop': 0, 'sys': {'pod': 'n'}, 'dt_txt': '2023-09-27 18:00:00'}, {'dt': 1695848400, 'main': {'temp': 285.48, 'feels_like': 285.28, 'temp_min': 285.48, 'temp_max': 285.48, 'pressure': 1009, 'sea_level': 1009, 'grnd_level': 993, 'humidity': 96, 'temp_kf': 0}, 'weather': [{'id': 804, 'main': 'Clouds', 'description': 'overcast clouds', 'icon': '04n'}], 'clouds': {'all': 100}, 'wind': {'speed': 2.26, 'deg': 107, 'gust': 6.92}, 'visibility': 10000, 'pop': 0.08, 'sys': {'pod': 'n'}, 'dt_txt': '2023-09-27 21:00:00'}, {'dt': 1695859200, 'main': {'temp': 287.09, 'feels_like': 286.89, 'temp_min': 287.09, 'temp_max': 287.09, 'pressure': 1005, 'sea_level': 1005, 'grnd_level': 988, 'humidity': 90, 'temp_kf': 0}, 'weather': [{'id': 500, 'main': 'Rain', 'description': 'light rain', 'icon': '10n'}], 'clouds': {'all': 100}, 'wind': {'speed': 6.32, 'deg': 156, 'gust': 16.7}, 'visibility': 4722, 'pop': 0.68, 'rain': {'3h': 1.38}, 'sys': {'pod': 'n'}, 'dt_txt': '2023-09-28 00:00:00'}, {'dt': 1695870000, 'main': {'temp': 287.44, 'feels_like': 287.22, 'temp_min': 287.44, 'temp_max': 287.44, 'pressure': 1002, 'sea_level': 1002, 'grnd_level': 985, 'humidity': 88, 'temp_kf': 0}, 'weather': [{'id': 501, 'main': 'Rain', 'description': 'moderate rain', 'icon': '10n'}], 'clouds': {'all': 100}, 'wind': {'speed': 8.21, 'deg': 196, 'gust': 17.62}, 'visibility': 10000, 'pop': 1, 'rain': {'3h': 10.5}, 'sys': {'pod': 'n'}, 'dt_txt': '2023-09-28 03:00:00'}, {'dt': 1695880800, 'main': {'temp': 284.97, 'feels_like': 284.51, 'temp_min': 284.97, 'temp_max': 284.97, 'pressure': 1003, 'sea_level': 1003, 'grnd_level': 986, 'humidity': 88, 'temp_kf': 0}, 'weather': [{'id': 500, 'main': 'Rain', 'description': 'light rain', 'icon': '10d'}], 'clouds': {'all': 69}, 'wind': {'speed': 6.72, 'deg': 200, 'gust': 15.6}, 'visibility': 10000, 'pop': 1, 'rain': {'3h': 0.13}, 'sys': {'pod': 'd'}, 'dt_txt': '2023-09-28 06:00:00'}, {'dt': 1695891600, 'main': {'temp': 286.51, 'feels_like': 285.86, 'temp_min': 286.51, 'temp_max': 286.51, 'pressure': 1005, 'sea_level': 1005, 'grnd_level': 988, 'humidity': 75, 'temp_kf': 0}, 'weather': [{'id': 802, 'main': 'Clouds', 'description': 'scattered clouds', 'icon': '03d'}], 'clouds': {'all': 28}, 'wind': {'speed': 6.53, 'deg': 209, 'gust': 14.33}, 'visibility': 10000, 'pop': 0.08, 'sys': {'pod': 'd'}, 'dt_txt': '2023-09-28 09:00:00'}, {'dt': 1695902400, 'main': {'temp': 288.94, 'feels_like': 288.3, 'temp_min': 288.94, 'temp_max': 288.94, 'pressure': 1005, 'sea_level': 1005, 'grnd_level': 989, 'humidity': 66, 'temp_kf': 0}, 'weather': [{'id': 801, 'main': 'Clouds', 'description': 'few clouds', 'icon': '02d'}], 'clouds': {'all': 14}, 'wind': {'speed': 5.3, 'deg': 201, 'gust': 11.93}, 'visibility': 10000, 'pop': 0.04, 'sys': {'pod': 'd'}, 'dt_txt': '2023-09-28 12:00:00'}, {'dt': 1695913200, 'main': {'temp': 286.86, 'feels_like': 286.35, 'temp_min': 286.86, 'temp_max': 286.86, 'pressure': 1005, 'sea_level': 1005, 'grnd_level': 988, 'humidity': 79, 'temp_kf': 0}, 'weather': [{'id': 500, 'main': 'Rain', 'description': 'light rain', 'icon': '10d'}], 'clouds': {'all': 1}, 'wind': {'speed': 6.78, 'deg': 195, 'gust': 12.71}, 'visibility': 10000, 'pop': 0.28, 'rain': {'3h': 0.31}, 'sys': {'pod': 'd'}, 'dt_txt': '2023-09-28 15:00:00'}, {'dt': 1695924000, 'main': {'temp': 284.9, 'feels_like': 284.38, 'temp_min': 284.9, 'temp_max': 284.9, 'pressure': 1004, 'sea_level': 1004, 'grnd_level': 987, 'humidity': 86, 'temp_kf': 0}, 'weather': [{'id': 801, 'main': 'Clouds', 'description': 'few clouds', 'icon': '02n'}], 'clouds': {'all': 11}, 'wind': {'speed': 6.11, 'deg': 191, 'gust': 14.31}, 'visibility': 10000, 'pop': 0.12, 'sys': {'pod': 'n'}, 'dt_txt': '2023-09-28 18:00:00'}, {'dt': 1695934800, 'main': {'temp': 284.61, 'feels_like': 284.16, 'temp_min': 284.61, 'temp_max': 284.61, 'pressure': 1002, 'sea_level': 1002, 'grnd_level': 985, 'humidity': 90, 'temp_kf': 0}, 'weather': [{'id': 500, 'main': 'Rain', 'description': 'light rain', 'icon': '10n'}], 'clouds': {'all': 77}, 'wind': {'speed': 6.48, 'deg': 191, 'gust': 13.82}, 'visibility': 10000, 'pop': 0.96, 'rain': {'3h': 0.81}, 'sys': {'pod': 'n'}, 'dt_txt': '2023-09-28 21:00:00'}], 'city': {'id': 3139081, 'name': 'Ski', 'coord': {'lat': 59.7195, 'lon': 10.8358}, 'country': 'NO', 'population': 12513, 'timezone': 7200, 'sunrise': 1695531871, 'sunset': 1695575591}}\""
      ]
     },
     "execution_count": 15,
     "metadata": {},
     "output_type": "execute_result"
    }
   ],
   "source": [
    "# Inspect JSON file\n",
    "forecast.__str__()"
   ]
  },
  {
   "cell_type": "markdown",
   "metadata": {
    "slideshow": {
     "slide_type": "slide"
    }
   },
   "source": [
    "## Raw JSON\n",
    "- A simple, but not very efficient way of storing JSON data is to treat it as a text and save it directly to the database.  \n",
    "- More efficient, with regard to transfer, is to compress the JSON data to a blob first.\n",
    "    - Compression is automatic."
   ]
  },
  {
   "cell_type": "code",
   "execution_count": 16,
   "metadata": {
    "slideshow": {
     "slide_type": "-"
    }
   },
   "outputs": [
    {
     "data": {
      "text/plain": [
       "<cassandra.cluster.ResultSet at 0x1109970a0>"
      ]
     },
     "execution_count": 16,
     "metadata": {},
     "output_type": "execute_result"
    }
   ],
   "source": [
    "# Create a new table which treats the whole JSON as a blob, using the city id and the first dt as keys\n",
    "session.set_keyspace('my_first_keyspace')\n",
    "session.execute(\"DROP TABLE IF EXISTS my_first_keyspace.forecast_table;\")\n",
    "session.execute(\"CREATE TABLE IF NOT EXISTS forecast_table (city_id int, dt int, forecast blob, PRIMARY KEY(city_id, dt));\")"
   ]
  },
  {
   "cell_type": "markdown",
   "metadata": {
    "slideshow": {
     "slide_type": "slide"
    }
   },
   "source": [
    "### Insert the forecast data into the table as text blob"
   ]
  },
  {
   "cell_type": "code",
   "execution_count": 17,
   "metadata": {
    "slideshow": {
     "slide_type": "-"
    }
   },
   "outputs": [
    {
     "data": {
      "text/plain": [
       "<cassandra.cluster.ResultSet at 0x110997700>"
      ]
     },
     "execution_count": 17,
     "metadata": {},
     "output_type": "execute_result"
    }
   ],
   "source": [
    "session.execute(\"INSERT INTO forecast_table (city_id, dt, forecast) VALUES (%s, %s, textAsBlob(%s));\", (forecast['city']['id'], forecast['list'][0]['dt'], forecast.__str__()))"
   ]
  },
  {
   "cell_type": "code",
   "execution_count": 18,
   "metadata": {
    "slideshow": {
     "slide_type": "slide"
    }
   },
   "outputs": [
    {
     "name": "stdout",
     "output_type": "stream",
     "text": [
      "Row(city_id=3139081, dt=1695513600, forecast=b\"{'cod': '200', 'message': 0, 'cnt': 40, 'list': [{'dt': 1695513600, 'main': {'temp': 281.45, 'feels_like': 281.45, 'temp_min': 280.28, 'temp_max': 281.45, 'pressure': 1007, 'sea_level': 1007, 'grnd_level': 991, 'humidity': 94, 'temp_kf': 1.17}, 'weather': [{'id': 800, 'main': 'Clear', 'description': 'clear sky', 'icon': '01n'}], 'clouds': {'all': 3}, 'wind': {'speed': 0.9, 'deg': 231, 'gust': 0.9}, 'visibility': 10000, 'pop': 0, 'sys': {'pod': 'n'}, 'dt_txt': '2023-09-24 00:00:00'}, {'dt': 1695524400, 'main': {'temp': 280.01, 'feels_like': 280.01, 'temp_min': 279, 'temp_max': 280.01, 'pressure': 1009, 'sea_level': 1009, 'grnd_level': 993, 'humidity': 90, 'temp_kf': 1.01}, 'weather': [{'id': 800, 'main': 'Clear', 'description': 'clear sky', 'icon': '01n'}], 'clouds': {'all': 1}, 'wind': {'speed': 0.93, 'deg': 274, 'gust': 0.93}, 'visibility': 10000, 'pop': 0, 'sys': {'pod': 'n'}, 'dt_txt': '2023-09-24 03:00:00'}, {'dt': 1695535200, 'main': {'temp': 278.84, 'feels_like': 278.84, 'temp_min': 278.84, 'temp_max': 278.84, 'pressure': 1013, 'sea_level': 1013, 'grnd_level': 996, 'humidity': 85, 'temp_kf': 0}, 'weather': [{'id': 800, 'main': 'Clear', 'description': 'clear sky', 'icon': '01d'}], 'clouds': {'all': 10}, 'wind': {'speed': 0.66, 'deg': 269, 'gust': 0.71}, 'visibility': 10000, 'pop': 0, 'sys': {'pod': 'd'}, 'dt_txt': '2023-09-24 06:00:00'}, {'dt': 1695546000, 'main': {'temp': 284.67, 'feels_like': 283.5, 'temp_min': 284.67, 'temp_max': 284.67, 'pressure': 1016, 'sea_level': 1016, 'grnd_level': 999, 'humidity': 62, 'temp_kf': 0}, 'weather': [{'id': 801, 'main': 'Clouds', 'description': 'few clouds', 'icon': '02d'}], 'clouds': {'all': 14}, 'wind': {'speed': 1.22, 'deg': 313, 'gust': 2.33}, 'visibility': 10000, 'pop': 0, 'sys': {'pod': 'd'}, 'dt_txt': '2023-09-24 09:00:00'}, {'dt': 1695556800, 'main': {'temp': 287.91, 'feels_like': 286.64, 'temp_min': 287.91, 'temp_max': 287.91, 'pressure': 1017, 'sea_level': 1017, 'grnd_level': 1000, 'humidity': 46, 'temp_kf': 0}, 'weather': [{'id': 801, 'main': 'Clouds', 'description': 'few clouds', 'icon': '02d'}], 'clouds': {'all': 13}, 'wind': {'speed': 2.23, 'deg': 196, 'gust': 3.33}, 'visibility': 10000, 'pop': 0, 'sys': {'pod': 'd'}, 'dt_txt': '2023-09-24 12:00:00'}, {'dt': 1695567600, 'main': {'temp': 286.95, 'feels_like': 285.9, 'temp_min': 286.95, 'temp_max': 286.95, 'pressure': 1017, 'sea_level': 1017, 'grnd_level': 1001, 'humidity': 58, 'temp_kf': 0}, 'weather': [{'id': 802, 'main': 'Clouds', 'description': 'scattered clouds', 'icon': '03d'}], 'clouds': {'all': 36}, 'wind': {'speed': 2.62, 'deg': 169, 'gust': 7.41}, 'visibility': 10000, 'pop': 0, 'sys': {'pod': 'd'}, 'dt_txt': '2023-09-24 15:00:00'}, {'dt': 1695578400, 'main': {'temp': 285.24, 'feels_like': 284.8, 'temp_min': 285.24, 'temp_max': 285.24, 'pressure': 1018, 'sea_level': 1018, 'grnd_level': 1001, 'humidity': 88, 'temp_kf': 0}, 'weather': [{'id': 803, 'main': 'Clouds', 'description': 'broken clouds', 'icon': '04n'}], 'clouds': {'all': 68}, 'wind': {'speed': 4.32, 'deg': 194, 'gust': 11.6}, 'visibility': 10000, 'pop': 0, 'sys': {'pod': 'n'}, 'dt_txt': '2023-09-24 18:00:00'}, {'dt': 1695589200, 'main': {'temp': 285.51, 'feels_like': 285.13, 'temp_min': 285.51, 'temp_max': 285.51, 'pressure': 1019, 'sea_level': 1019, 'grnd_level': 1002, 'humidity': 89, 'temp_kf': 0}, 'weather': [{'id': 804, 'main': 'Clouds', 'description': 'overcast clouds', 'icon': '04n'}], 'clouds': {'all': 100}, 'wind': {'speed': 4.09, 'deg': 191, 'gust': 11.91}, 'visibility': 10000, 'pop': 0, 'sys': {'pod': 'n'}, 'dt_txt': '2023-09-24 21:00:00'}, {'dt': 1695600000, 'main': {'temp': 286.86, 'feels_like': 286.74, 'temp_min': 286.86, 'temp_max': 286.86, 'pressure': 1018, 'sea_level': 1018, 'grnd_level': 1001, 'humidity': 94, 'temp_kf': 0}, 'weather': [{'id': 500, 'main': 'Rain', 'description': 'light rain', 'icon': '10n'}], 'clouds': {'all': 100}, 'wind': {'speed': 6.03, 'deg': 187, 'gust': 13.2}, 'visibility': 10000, 'pop': 0.4, 'rain': {'3h': 0.31}, 'sys': {'pod': 'n'}, 'dt_txt': '2023-09-25 00:00:00'}, {'dt': 1695610800, 'main': {'temp': 286.31, 'feels_like': 286.14, 'temp_min': 286.31, 'temp_max': 286.31, 'pressure': 1017, 'sea_level': 1017, 'grnd_level': 1000, 'humidity': 94, 'temp_kf': 0}, 'weather': [{'id': 500, 'main': 'Rain', 'description': 'light rain', 'icon': '10n'}], 'clouds': {'all': 100}, 'wind': {'speed': 6.06, 'deg': 184, 'gust': 12.8}, 'visibility': 10000, 'pop': 0.96, 'rain': {'3h': 0.5}, 'sys': {'pod': 'n'}, 'dt_txt': '2023-09-25 03:00:00'}, {'dt': 1695621600, 'main': {'temp': 285.94, 'feels_like': 285.65, 'temp_min': 285.94, 'temp_max': 285.94, 'pressure': 1017, 'sea_level': 1017, 'grnd_level': 1000, 'humidity': 91, 'temp_kf': 0}, 'weather': [{'id': 804, 'main': 'Clouds', 'description': 'overcast clouds', 'icon': '04d'}], 'clouds': {'all': 100}, 'wind': {'speed': 5.78, 'deg': 175, 'gust': 12.51}, 'visibility': 10000, 'pop': 0.72, 'sys': {'pod': 'd'}, 'dt_txt': '2023-09-25 06:00:00'}, {'dt': 1695632400, 'main': {'temp': 285.41, 'feels_like': 285.15, 'temp_min': 285.41, 'temp_max': 285.41, 'pressure': 1016, 'sea_level': 1016, 'grnd_level': 999, 'humidity': 94, 'temp_kf': 0}, 'weather': [{'id': 501, 'main': 'Rain', 'description': 'moderate rain', 'icon': '10d'}], 'clouds': {'all': 100}, 'wind': {'speed': 6.46, 'deg': 172, 'gust': 14.31}, 'visibility': 10000, 'pop': 0.96, 'rain': {'3h': 3.13}, 'sys': {'pod': 'd'}, 'dt_txt': '2023-09-25 09:00:00'}, {'dt': 1695643200, 'main': {'temp': 287.55, 'feels_like': 287.21, 'temp_min': 287.55, 'temp_max': 287.55, 'pressure': 1016, 'sea_level': 1016, 'grnd_level': 999, 'humidity': 83, 'temp_kf': 0}, 'weather': [{'id': 804, 'main': 'Clouds', 'description': 'overcast clouds', 'icon': '04d'}], 'clouds': {'all': 99}, 'wind': {'speed': 6.8, 'deg': 188, 'gust': 13.71}, 'visibility': 10000, 'pop': 0.76, 'sys': {'pod': 'd'}, 'dt_txt': '2023-09-25 12:00:00'}, {'dt': 1695654000, 'main': {'temp': 286.99, 'feels_like': 286.78, 'temp_min': 286.99, 'temp_max': 286.99, 'pressure': 1016, 'sea_level': 1016, 'grnd_level': 999, 'humidity': 90, 'temp_kf': 0}, 'weather': [{'id': 500, 'main': 'Rain', 'description': 'light rain', 'icon': '10d'}], 'clouds': {'all': 100}, 'wind': {'speed': 5.71, 'deg': 188, 'gust': 12.83}, 'visibility': 10000, 'pop': 0.28, 'rain': {'3h': 0.13}, 'sys': {'pod': 'd'}, 'dt_txt': '2023-09-25 15:00:00'}, {'dt': 1695664800, 'main': {'temp': 287.21, 'feels_like': 287.13, 'temp_min': 287.21, 'temp_max': 287.21, 'pressure': 1016, 'sea_level': 1016, 'grnd_level': 1000, 'humidity': 94, 'temp_kf': 0}, 'weather': [{'id': 500, 'main': 'Rain', 'description': 'light rain', 'icon': '10n'}], 'clouds': {'all': 100}, 'wind': {'speed': 5.38, 'deg': 192, 'gust': 12.01}, 'visibility': 10000, 'pop': 0.4, 'rain': {'3h': 0.56}, 'sys': {'pod': 'n'}, 'dt_txt': '2023-09-25 18:00:00'}, {'dt': 1695675600, 'main': {'temp': 286.74, 'feels_like': 286.53, 'temp_min': 286.74, 'temp_max': 286.74, 'pressure': 1017, 'sea_level': 1017, 'grnd_level': 1000, 'humidity': 91, 'temp_kf': 0}, 'weather': [{'id': 804, 'main': 'Clouds', 'description': 'overcast clouds', 'icon': '04n'}], 'clouds': {'all': 98}, 'wind': {'speed': 4.82, 'deg': 201, 'gust': 11.3}, 'visibility': 10000, 'pop': 0.28, 'sys': {'pod': 'n'}, 'dt_txt': '2023-09-25 21:00:00'}, {'dt': 1695686400, 'main': {'temp': 284.7, 'feels_like': 284.39, 'temp_min': 284.7, 'temp_max': 284.7, 'pressure': 1018, 'sea_level': 1018, 'grnd_level': 1001, 'humidity': 95, 'temp_kf': 0}, 'weather': [{'id': 803, 'main': 'Clouds', 'description': 'broken clouds', 'icon': '04n'}], 'clouds': {'all': 84}, 'wind': {'speed': 3.45, 'deg': 200, 'gust': 10.31}, 'visibility': 10000, 'pop': 0.2, 'sys': {'pod': 'n'}, 'dt_txt': '2023-09-26 00:00:00'}, {'dt': 1695697200, 'main': {'temp': 283.7, 'feels_like': 283.34, 'temp_min': 283.7, 'temp_max': 283.7, 'pressure': 1018, 'sea_level': 1018, 'grnd_level': 1002, 'humidity': 97, 'temp_kf': 0}, 'weather': [{'id': 804, 'main': 'Clouds', 'description': 'overcast clouds', 'icon': '04n'}], 'clouds': {'all': 100}, 'wind': {'speed': 2.76, 'deg': 177, 'gust': 9.12}, 'visibility': 10000, 'pop': 0, 'sys': {'pod': 'n'}, 'dt_txt': '2023-09-26 03:00:00'}, {'dt': 1695708000, 'main': {'temp': 284.18, 'feels_like': 283.82, 'temp_min': 284.18, 'temp_max': 284.18, 'pressure': 1019, 'sea_level': 1019, 'grnd_level': 1002, 'humidity': 95, 'temp_kf': 0}, 'weather': [{'id': 804, 'main': 'Clouds', 'description': 'overcast clouds', 'icon': '04d'}], 'clouds': {'all': 100}, 'wind': {'speed': 3.13, 'deg': 183, 'gust': 10.31}, 'visibility': 10000, 'pop': 0, 'sys': {'pod': 'd'}, 'dt_txt': '2023-09-26 06:00:00'}, {'dt': 1695718800, 'main': {'temp': 287.76, 'feels_like': 287.42, 'temp_min': 287.76, 'temp_max': 287.76, 'pressure': 1019, 'sea_level': 1019, 'grnd_level': 1003, 'humidity': 82, 'temp_kf': 0}, 'weather': [{'id': 804, 'main': 'Clouds', 'description': 'overcast clouds', 'icon': '04d'}], 'clouds': {'all': 100}, 'wind': {'speed': 4.17, 'deg': 194, 'gust': 9.31}, 'visibility': 10000, 'pop': 0, 'sys': {'pod': 'd'}, 'dt_txt': '2023-09-26 09:00:00'}, {'dt': 1695729600, 'main': {'temp': 290.12, 'feels_like': 289.57, 'temp_min': 290.12, 'temp_max': 290.12, 'pressure': 1019, 'sea_level': 1019, 'grnd_level': 1002, 'humidity': 65, 'temp_kf': 0}, 'weather': [{'id': 803, 'main': 'Clouds', 'description': 'broken clouds', 'icon': '04d'}], 'clouds': {'all': 80}, 'wind': {'speed': 4.56, 'deg': 189, 'gust': 7}, 'visibility': 10000, 'pop': 0, 'sys': {'pod': 'd'}, 'dt_txt': '2023-09-26 12:00:00'}, {'dt': 1695740400, 'main': {'temp': 288.44, 'feels_like': 288.04, 'temp_min': 288.44, 'temp_max': 288.44, 'pressure': 1018, 'sea_level': 1018, 'grnd_level': 1001, 'humidity': 77, 'temp_kf': 0}, 'weather': [{'id': 803, 'main': 'Clouds', 'description': 'broken clouds', 'icon': '04d'}], 'clouds': {'all': 72}, 'wind': {'speed': 3.74, 'deg': 175, 'gust': 7.3}, 'visibility': 10000, 'pop': 0, 'sys': {'pod': 'd'}, 'dt_txt': '2023-09-26 15:00:00'}, {'dt': 1695751200, 'main': {'temp': 285.07, 'feels_like': 284.88, 'temp_min': 285.07, 'temp_max': 285.07, 'pressure': 1018, 'sea_level': 1018, 'grnd_level': 1001, 'humidity': 98, 'temp_kf': 0}, 'weather': [{'id': 803, 'main': 'Clouds', 'description': 'broken clouds', 'icon': '04n'}], 'clouds': {'all': 80}, 'wind': {'speed': 2.26, 'deg': 163, 'gust': 8.1}, 'visibility': 10000, 'pop': 0, 'sys': {'pod': 'n'}, 'dt_txt': '2023-09-26 18:00:00'}, {'dt': 1695762000, 'main': {'temp': 286.34, 'feels_like': 286.2, 'temp_min': 286.34, 'temp_max': 286.34, 'pressure': 1017, 'sea_level': 1017, 'grnd_level': 1000, 'humidity': 95, 'temp_kf': 0}, 'weather': [{'id': 500, 'main': 'Rain', 'description': 'light rain', 'icon': '10n'}], 'clouds': {'all': 100}, 'wind': {'speed': 2.72, 'deg': 160, 'gust': 8.9}, 'visibility': 10000, 'pop': 0.24, 'rain': {'3h': 0.25}, 'sys': {'pod': 'n'}, 'dt_txt': '2023-09-26 21:00:00'}, {'dt': 1695772800, 'main': {'temp': 285.37, 'feels_like': 285.18, 'temp_min': 285.37, 'temp_max': 285.37, 'pressure': 1016, 'sea_level': 1016, 'grnd_level': 999, 'humidity': 97, 'temp_kf': 0}, 'weather': [{'id': 500, 'main': 'Rain', 'description': 'light rain', 'icon': '10n'}], 'clouds': {'all': 100}, 'wind': {'speed': 2.45, 'deg': 153, 'gust': 8.51}, 'visibility': 10000, 'pop': 0.24, 'rain': {'3h': 0.25}, 'sys': {'pod': 'n'}, 'dt_txt': '2023-09-27 00:00:00'}, {'dt': 1695783600, 'main': {'temp': 286.05, 'feels_like': 285.9, 'temp_min': 286.05, 'temp_max': 286.05, 'pressure': 1014, 'sea_level': 1014, 'grnd_level': 997, 'humidity': 96, 'temp_kf': 0}, 'weather': [{'id': 500, 'main': 'Rain', 'description': 'light rain', 'icon': '10n'}], 'clouds': {'all': 100}, 'wind': {'speed': 2.52, 'deg': 155, 'gust': 7.32}, 'visibility': 10000, 'pop': 0.44, 'rain': {'3h': 0.44}, 'sys': {'pod': 'n'}, 'dt_txt': '2023-09-27 03:00:00'}, {'dt': 1695794400, 'main': {'temp': 286.03, 'feels_like': 285.93, 'temp_min': 286.03, 'temp_max': 286.03, 'pressure': 1014, 'sea_level': 1014, 'grnd_level': 997, 'humidity': 98, 'temp_kf': 0}, 'weather': [{'id': 500, 'main': 'Rain', 'description': 'light rain', 'icon': '10d'}], 'clouds': {'all': 100}, 'wind': {'speed': 3.52, 'deg': 185, 'gust': 10.3}, 'visibility': 2101, 'pop': 0.92, 'rain': {'3h': 2.31}, 'sys': {'pod': 'd'}, 'dt_txt': '2023-09-27 06:00:00'}, {'dt': 1695805200, 'main': {'temp': 287.7, 'feels_like': 287.48, 'temp_min': 287.7, 'temp_max': 287.7, 'pressure': 1014, 'sea_level': 1014, 'grnd_level': 997, 'humidity': 87, 'temp_kf': 0}, 'weather': [{'id': 500, 'main': 'Rain', 'description': 'light rain', 'icon': '10d'}], 'clouds': {'all': 97}, 'wind': {'speed': 4.26, 'deg': 184, 'gust': 10.01}, 'visibility': 10000, 'pop': 1, 'rain': {'3h': 2.25}, 'sys': {'pod': 'd'}, 'dt_txt': '2023-09-27 09:00:00'}, {'dt': 1695816000, 'main': {'temp': 290.19, 'feels_like': 289.93, 'temp_min': 290.19, 'temp_max': 290.19, 'pressure': 1013, 'sea_level': 1013, 'grnd_level': 996, 'humidity': 76, 'temp_kf': 0}, 'weather': [{'id': 500, 'main': 'Rain', 'description': 'light rain', 'icon': '10d'}], 'clouds': {'all': 50}, 'wind': {'speed': 4.61, 'deg': 193, 'gust': 8.22}, 'visibility': 10000, 'pop': 1, 'rain': {'3h': 0.31}, 'sys': {'pod': 'd'}, 'dt_txt': '2023-09-27 12:00:00'}, {'dt': 1695826800, 'main': {'temp': 288.79, 'feels_like': 288.52, 'temp_min': 288.79, 'temp_max': 288.79, 'pressure': 1013, 'sea_level': 1013, 'grnd_level': 996, 'humidity': 81, 'temp_kf': 0}, 'weather': [{'id': 804, 'main': 'Clouds', 'description': 'overcast clouds', 'icon': '04d'}], 'clouds': {'all': 100}, 'wind': {'speed': 3.67, 'deg': 176, 'gust': 6.91}, 'visibility': 10000, 'pop': 0.04, 'sys': {'pod': 'd'}, 'dt_txt': '2023-09-27 15:00:00'}, {'dt': 1695837600, 'main': {'temp': 285.9, 'feels_like': 285.5, 'temp_min': 285.9, 'temp_max': 285.9, 'pressure': 1012, 'sea_level': 1012, 'grnd_level': 995, 'humidity': 87, 'temp_kf': 0}, 'weather': [{'id': 804, 'main': 'Clouds', 'description': 'overcast clouds', 'icon': '04n'}], 'clouds': {'all': 100}, 'wind': {'speed': 3.29, 'deg': 174, 'gust': 9.7}, 'visibility': 10000, 'pop': 0, 'sys': {'pod': 'n'}, 'dt_txt': '2023-09-27 18:00:00'}, {'dt': 1695848400, 'main': {'temp': 285.48, 'feels_like': 285.28, 'temp_min': 285.48, 'temp_max': 285.48, 'pressure': 1009, 'sea_level': 1009, 'grnd_level': 993, 'humidity': 96, 'temp_kf': 0}, 'weather': [{'id': 804, 'main': 'Clouds', 'description': 'overcast clouds', 'icon': '04n'}], 'clouds': {'all': 100}, 'wind': {'speed': 2.26, 'deg': 107, 'gust': 6.92}, 'visibility': 10000, 'pop': 0.08, 'sys': {'pod': 'n'}, 'dt_txt': '2023-09-27 21:00:00'}, {'dt': 1695859200, 'main': {'temp': 287.09, 'feels_like': 286.89, 'temp_min': 287.09, 'temp_max': 287.09, 'pressure': 1005, 'sea_level': 1005, 'grnd_level': 988, 'humidity': 90, 'temp_kf': 0}, 'weather': [{'id': 500, 'main': 'Rain', 'description': 'light rain', 'icon': '10n'}], 'clouds': {'all': 100}, 'wind': {'speed': 6.32, 'deg': 156, 'gust': 16.7}, 'visibility': 4722, 'pop': 0.68, 'rain': {'3h': 1.38}, 'sys': {'pod': 'n'}, 'dt_txt': '2023-09-28 00:00:00'}, {'dt': 1695870000, 'main': {'temp': 287.44, 'feels_like': 287.22, 'temp_min': 287.44, 'temp_max': 287.44, 'pressure': 1002, 'sea_level': 1002, 'grnd_level': 985, 'humidity': 88, 'temp_kf': 0}, 'weather': [{'id': 501, 'main': 'Rain', 'description': 'moderate rain', 'icon': '10n'}], 'clouds': {'all': 100}, 'wind': {'speed': 8.21, 'deg': 196, 'gust': 17.62}, 'visibility': 10000, 'pop': 1, 'rain': {'3h': 10.5}, 'sys': {'pod': 'n'}, 'dt_txt': '2023-09-28 03:00:00'}, {'dt': 1695880800, 'main': {'temp': 284.97, 'feels_like': 284.51, 'temp_min': 284.97, 'temp_max': 284.97, 'pressure': 1003, 'sea_level': 1003, 'grnd_level': 986, 'humidity': 88, 'temp_kf': 0}, 'weather': [{'id': 500, 'main': 'Rain', 'description': 'light rain', 'icon': '10d'}], 'clouds': {'all': 69}, 'wind': {'speed': 6.72, 'deg': 200, 'gust': 15.6}, 'visibility': 10000, 'pop': 1, 'rain': {'3h': 0.13}, 'sys': {'pod': 'd'}, 'dt_txt': '2023-09-28 06:00:00'}, {'dt': 1695891600, 'main': {'temp': 286.51, 'feels_like': 285.86, 'temp_min': 286.51, 'temp_max': 286.51, 'pressure': 1005, 'sea_level': 1005, 'grnd_level': 988, 'humidity': 75, 'temp_kf': 0}, 'weather': [{'id': 802, 'main': 'Clouds', 'description': 'scattered clouds', 'icon': '03d'}], 'clouds': {'all': 28}, 'wind': {'speed': 6.53, 'deg': 209, 'gust': 14.33}, 'visibility': 10000, 'pop': 0.08, 'sys': {'pod': 'd'}, 'dt_txt': '2023-09-28 09:00:00'}, {'dt': 1695902400, 'main': {'temp': 288.94, 'feels_like': 288.3, 'temp_min': 288.94, 'temp_max': 288.94, 'pressure': 1005, 'sea_level': 1005, 'grnd_level': 989, 'humidity': 66, 'temp_kf': 0}, 'weather': [{'id': 801, 'main': 'Clouds', 'description': 'few clouds', 'icon': '02d'}], 'clouds': {'all': 14}, 'wind': {'speed': 5.3, 'deg': 201, 'gust': 11.93}, 'visibility': 10000, 'pop': 0.04, 'sys': {'pod': 'd'}, 'dt_txt': '2023-09-28 12:00:00'}, {'dt': 1695913200, 'main': {'temp': 286.86, 'feels_like': 286.35, 'temp_min': 286.86, 'temp_max': 286.86, 'pressure': 1005, 'sea_level': 1005, 'grnd_level': 988, 'humidity': 79, 'temp_kf': 0}, 'weather': [{'id': 500, 'main': 'Rain', 'description': 'light rain', 'icon': '10d'}], 'clouds': {'all': 1}, 'wind': {'speed': 6.78, 'deg': 195, 'gust': 12.71}, 'visibility': 10000, 'pop': 0.28, 'rain': {'3h': 0.31}, 'sys': {'pod': 'd'}, 'dt_txt': '2023-09-28 15:00:00'}, {'dt': 1695924000, 'main': {'temp': 284.9, 'feels_like': 284.38, 'temp_min': 284.9, 'temp_max': 284.9, 'pressure': 1004, 'sea_level': 1004, 'grnd_level': 987, 'humidity': 86, 'temp_kf': 0}, 'weather': [{'id': 801, 'main': 'Clouds', 'description': 'few clouds', 'icon': '02n'}], 'clouds': {'all': 11}, 'wind': {'speed': 6.11, 'deg': 191, 'gust': 14.31}, 'visibility': 10000, 'pop': 0.12, 'sys': {'pod': 'n'}, 'dt_txt': '2023-09-28 18:00:00'}, {'dt': 1695934800, 'main': {'temp': 284.61, 'feels_like': 284.16, 'temp_min': 284.61, 'temp_max': 284.61, 'pressure': 1002, 'sea_level': 1002, 'grnd_level': 985, 'humidity': 90, 'temp_kf': 0}, 'weather': [{'id': 500, 'main': 'Rain', 'description': 'light rain', 'icon': '10n'}], 'clouds': {'all': 77}, 'wind': {'speed': 6.48, 'deg': 191, 'gust': 13.82}, 'visibility': 10000, 'pop': 0.96, 'rain': {'3h': 0.81}, 'sys': {'pod': 'n'}, 'dt_txt': '2023-09-28 21:00:00'}], 'city': {'id': 3139081, 'name': 'Ski', 'coord': {'lat': 59.7195, 'lon': 10.8358}, 'country': 'NO', 'population': 12513, 'timezone': 7200, 'sunrise': 1695531871, 'sunset': 1695575591}}\")\n"
     ]
    }
   ],
   "source": [
    "# Query the data\n",
    "forecast_rows = session.execute(\"SELECT * FROM forecast_table;\")\n",
    "print(forecast_rows.one()) # <- only one row"
   ]
  },
  {
   "cell_type": "markdown",
   "metadata": {
    "slideshow": {
     "slide_type": "slide"
    }
   },
   "source": [
    "## Resources\n",
    "- [Cassandra webpage](https://cassandra.apache.org/)\n",
    "- [Cassandra Docker file](https://hub.docker.com/_/cassandra)\n",
    "- [UUID functions](https://docs.datastax.com/en/cql-oss/3.3/cql/cql_reference/timeuuid_functions_r.html)\n",
    "- [YouTube: Cassandra in 100 seconds](https://youtu.be/ziq7FUKpCS8?si=WQUdkHFvaBmT0DBo) (2m:26s)\n",
    "- [YouTube: How to use Apache Cassandra in Python](https://youtu.be/qMauZqJH3ZM?si=yKGZ-5cld2BK396Y) (14m:50s)\n",
    "- [YouTube: Cassandra Database Crash Course](https://youtu.be/KZsVSfQVU4I?si=FBCi8qOfCirfVmZk) (19m:47s)"
   ]
  }
 ],
 "metadata": {
  "celltoolbar": "Slideshow",
  "kernelspec": {
   "display_name": "Python 3 (ipykernel)",
   "language": "python",
   "name": "python3"
  },
  "language_info": {
   "codemirror_mode": {
    "name": "ipython",
    "version": 3
   },
   "file_extension": ".py",
   "mimetype": "text/x-python",
   "name": "python",
   "nbconvert_exporter": "python",
   "pygments_lexer": "ipython3",
   "version": "3.10.6"
  }
 },
 "nbformat": 4,
 "nbformat_minor": 2
}