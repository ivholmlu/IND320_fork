{
 "cells": [
  {
   "cell_type": "markdown",
   "metadata": {
    "slideshow": {
     "slide_type": "slide"
    }
   },
   "source": [
    "# Cassandra\n",
    "Assumptions:\n",
    "- Docker installed on system\n",
    "- \"cassandra:latest\" image installed in docker\n",
    "- Python/Conda environment with python 3.8 (or newer*)  \n",
    "  \n",
    "*As of 9 August 2023, the officially built cassandra-driver package was at version 3.25 and did not work well with Python 3.10 on Mac.  \n",
    "To install a newer version from the terminal you can:  \n",
    "```\n",
    "pip install git+https://github.com/datastax/python-driver.git\n",
    "pip install cql\n",
    "```"
   ]
  },
  {
   "cell_type": "markdown",
   "metadata": {
    "slideshow": {
     "slide_type": "slide"
    }
   },
   "source": [
    "Or use older Python:  \n",
    "```\n",
    "conda create --name cassy38 python=3.8 jupyter scikit-learn\n",
    "conda activate cassy38  \n",
    "pip install cassandra-driver cql\n",
    "```"
   ]
  },
  {
   "cell_type": "markdown",
   "metadata": {
    "slideshow": {
     "slide_type": "slide"
    }
   },
   "source": [
    "## Spinning up a local cassandra instance\n",
    "In a terminal, first time:  \n",
    "```docker run --name my_cassandra -p 9042:9042 cassandra:latest```  \n",
    "... and later:  \n",
    "```docker start my_cassandra```  \n",
    "  \n",
    ".. or in Docker Desktop:\n",
    "- Run the cassandra docker image with optional settings, opening 9042 port and setting a name.\n",
    "- Later, simply run the container with the name you chose."
   ]
  },
  {
   "cell_type": "markdown",
   "metadata": {
    "slideshow": {
     "slide_type": "slide"
    }
   },
   "source": [
    "<img src=\"../../images/Docker_images.png\" width=\"600px\">  "
   ]
  },
  {
   "cell_type": "markdown",
   "metadata": {
    "slideshow": {
     "slide_type": "slide"
    }
   },
   "source": [
    "\n",
    "<img src=\"../../images/Docker_containers.png\" width=\"800px\">  "
   ]
  },
  {
   "cell_type": "markdown",
   "metadata": {
    "slideshow": {
     "slide_type": "slide"
    }
   },
   "source": [
    "### Connect to the Cassandra cluster from Python."
   ]
  },
  {
   "cell_type": "code",
   "execution_count": 1,
   "metadata": {
    "slideshow": {
     "slide_type": "-"
    }
   },
   "outputs": [],
   "source": [
    "# Connecting to Cassandra\n",
    "from cassandra.cluster import Cluster\n",
    "cluster = Cluster(['localhost'], port=9042)\n",
    "session = cluster.connect()"
   ]
  },
  {
   "cell_type": "markdown",
   "metadata": {
    "slideshow": {
     "slide_type": "slide"
    }
   },
   "source": [
    "### Keyspace\n",
    "- In Cassandra database tables are stored in keyspaces (basically a distributed database).\n",
    "- These have parameters controlling their distribution on nodes/servers and redundancy.\n",
    "- We will use the simplest form locally."
   ]
  },
  {
   "cell_type": "code",
   "execution_count": 2,
   "metadata": {
    "slideshow": {
     "slide_type": "fragment"
    }
   },
   "outputs": [
    {
     "data": {
      "text/plain": [
       "<cassandra.cluster.ResultSet at 0x106fb26b0>"
      ]
     },
     "execution_count": 2,
     "metadata": {},
     "output_type": "execute_result"
    }
   ],
   "source": [
    "# Set up new keyspace (first time only)\n",
    "#                                              name of keyspace                        replication strategy           replication factor\n",
    "session.execute(\"CREATE KEYSPACE IF NOT EXISTS my_first_keyspace WITH REPLICATION = { 'class' : 'SimpleStrategy', 'replication_factor' : 1 };\")"
   ]
  },
  {
   "cell_type": "markdown",
   "metadata": {
    "slideshow": {
     "slide_type": "slide"
    }
   },
   "source": [
    "### Create a table\n",
    "- IF NOT EXISTS makes sure we do not overwrite existing tables"
   ]
  },
  {
   "cell_type": "code",
   "execution_count": 3,
   "metadata": {
    "slideshow": {
     "slide_type": "fragment"
    }
   },
   "outputs": [
    {
     "data": {
      "text/plain": [
       "<cassandra.cluster.ResultSet at 0x106f874c0>"
      ]
     },
     "execution_count": 3,
     "metadata": {},
     "output_type": "execute_result"
    }
   ],
   "source": [
    "# Create a new table (first time only)\n",
    "session.set_keyspace('my_first_keyspace')\n",
    "session.execute(\"DROP TABLE IF EXISTS my_first_keyspace.my_first_table;\") # Starting from scratch every time\n",
    "session.execute(\"CREATE TABLE IF NOT EXISTS my_first_table (ind int PRIMARY KEY, company text, model text);\")"
   ]
  },
  {
   "cell_type": "markdown",
   "metadata": {
    "slideshow": {
     "slide_type": "slide"
    }
   },
   "source": [
    "### Inserting and reading data"
   ]
  },
  {
   "cell_type": "code",
   "execution_count": 4,
   "metadata": {
    "slideshow": {
     "slide_type": "-"
    }
   },
   "outputs": [
    {
     "data": {
      "text/plain": [
       "<cassandra.cluster.ResultSet at 0x106fa6bc0>"
      ]
     },
     "execution_count": 4,
     "metadata": {},
     "output_type": "execute_result"
    }
   ],
   "source": [
    "# Insert some data (ind is the primary key, must be unique)\n",
    "session.execute(\"INSERT INTO my_first_table (ind, company, model) VALUES (1, 'Tesla', 'Model S');\")\n",
    "session.execute(\"INSERT INTO my_first_table (ind, company, model) VALUES (2, 'Tesla', 'Model 3');\")\n",
    "session.execute(\"INSERT INTO my_first_table (ind, company, model) VALUES (3, 'Polestar', '3');\")"
   ]
  },
  {
   "cell_type": "markdown",
   "metadata": {
    "slideshow": {
     "slide_type": "slide"
    }
   },
   "source": [
    "### Asyncronous writing\n",
    "- If your application is very data intensive, waiting for a response is not productive.\n",
    "- Writing asyncronously sends the data but does not pause for reply."
   ]
  },
  {
   "cell_type": "code",
   "execution_count": 5,
   "metadata": {
    "slideshow": {
     "slide_type": "-"
    }
   },
   "outputs": [
    {
     "data": {
      "text/plain": [
       "<ResponseFuture: query='<SimpleStatement query=\"INSERT INTO my_first_table (ind, company, model) VALUES (4, 'Volkswagen', 'ID.4');\", consistency=Not Set>' request_id=24 result=(no result yet) exception=None coordinator_host=None>"
      ]
     },
     "execution_count": 5,
     "metadata": {},
     "output_type": "execute_result"
    }
   ],
   "source": [
    "session.execute_async(\"INSERT INTO my_first_table (ind, company, model) VALUES (4, 'Volkswagen', 'ID.4');\")"
   ]
  },
  {
   "cell_type": "code",
   "execution_count": 6,
   "metadata": {
    "slideshow": {
     "slide_type": "slide"
    }
   },
   "outputs": [
    {
     "name": "stdout",
     "output_type": "stream",
     "text": [
      "Row(ind=1, company='Tesla', model='Model S')\n",
      "Row(ind=2, company='Tesla', model='Model 3')\n",
      "Row(ind=4, company='Volkswagen', model='ID.4')\n",
      "Row(ind=3, company='Polestar', model='3')\n"
     ]
    }
   ],
   "source": [
    "# Query the data\n",
    "rows = session.execute(\"SELECT * FROM my_first_table;\")\n",
    "for i in rows:\n",
    "    print(i)"
   ]
  },
  {
   "cell_type": "code",
   "execution_count": 7,
   "metadata": {
    "slideshow": {
     "slide_type": "slide"
    },
    "tags": [
     "raises-exception"
    ]
   },
   "outputs": [
    {
     "ename": "InvalidRequest",
     "evalue": "Error from server: code=2200 [Invalid query] message=\"Cannot execute this query as it might involve data filtering and thus may have unpredictable performance. If you want to execute this query despite the performance unpredictability, use ALLOW FILTERING\"",
     "output_type": "error",
     "traceback": [
      "\u001b[0;31m---------------------------------------------------------------------------\u001b[0m",
      "\u001b[0;31mInvalidRequest\u001b[0m                            Traceback (most recent call last)",
      "Cell \u001b[0;32mIn [7], line 2\u001b[0m\n\u001b[1;32m      1\u001b[0m \u001b[38;5;66;03m# More specific query\u001b[39;00m\n\u001b[0;32m----> 2\u001b[0m prepared_statement \u001b[38;5;241m=\u001b[39m \u001b[43msession\u001b[49m\u001b[38;5;241;43m.\u001b[39;49m\u001b[43mprepare\u001b[49m\u001b[43m(\u001b[49m\u001b[38;5;124;43m\"\u001b[39;49m\u001b[38;5;124;43mSELECT * FROM my_first_table WHERE company=?;\u001b[39;49m\u001b[38;5;124;43m\"\u001b[39;49m\u001b[43m)\u001b[49m \u001b[38;5;66;03m# <- will fail as company is not a key\u001b[39;00m\n\u001b[1;32m      3\u001b[0m teslas \u001b[38;5;241m=\u001b[39m session\u001b[38;5;241m.\u001b[39mexecute(prepared_statement, [\u001b[38;5;124m'\u001b[39m\u001b[38;5;124mTesla\u001b[39m\u001b[38;5;124m'\u001b[39m])\n\u001b[1;32m      4\u001b[0m \u001b[38;5;28;01mfor\u001b[39;00m i \u001b[38;5;129;01min\u001b[39;00m teslas:\n",
      "File \u001b[0;32m~/miniforge3/envs/tf_M1/lib/python3.10/site-packages/cassandra/cluster.py:3088\u001b[0m, in \u001b[0;36mSession.prepare\u001b[0;34m(self, query, custom_payload, keyspace)\u001b[0m\n\u001b[1;32m   3086\u001b[0m \u001b[38;5;28;01mtry\u001b[39;00m:\n\u001b[1;32m   3087\u001b[0m     future\u001b[38;5;241m.\u001b[39msend_request()\n\u001b[0;32m-> 3088\u001b[0m     response \u001b[38;5;241m=\u001b[39m \u001b[43mfuture\u001b[49m\u001b[38;5;241;43m.\u001b[39;49m\u001b[43mresult\u001b[49m\u001b[43m(\u001b[49m\u001b[43m)\u001b[49m\u001b[38;5;241m.\u001b[39mone()\n\u001b[1;32m   3089\u001b[0m \u001b[38;5;28;01mexcept\u001b[39;00m \u001b[38;5;167;01mException\u001b[39;00m:\n\u001b[1;32m   3090\u001b[0m     log\u001b[38;5;241m.\u001b[39mexception(\u001b[38;5;124m\"\u001b[39m\u001b[38;5;124mError preparing query:\u001b[39m\u001b[38;5;124m\"\u001b[39m)\n",
      "File \u001b[0;32m~/miniforge3/envs/tf_M1/lib/python3.10/site-packages/cassandra/cluster.py:4920\u001b[0m, in \u001b[0;36mResponseFuture.result\u001b[0;34m(self)\u001b[0m\n\u001b[1;32m   4918\u001b[0m     \u001b[38;5;28;01mreturn\u001b[39;00m ResultSet(\u001b[38;5;28mself\u001b[39m, \u001b[38;5;28mself\u001b[39m\u001b[38;5;241m.\u001b[39m_final_result)\n\u001b[1;32m   4919\u001b[0m \u001b[38;5;28;01melse\u001b[39;00m:\n\u001b[0;32m-> 4920\u001b[0m     \u001b[38;5;28;01mraise\u001b[39;00m \u001b[38;5;28mself\u001b[39m\u001b[38;5;241m.\u001b[39m_final_exception\n",
      "\u001b[0;31mInvalidRequest\u001b[0m: Error from server: code=2200 [Invalid query] message=\"Cannot execute this query as it might involve data filtering and thus may have unpredictable performance. If you want to execute this query despite the performance unpredictability, use ALLOW FILTERING\""
     ]
    }
   ],
   "source": [
    "# More specific query\n",
    "prepared_statement = session.prepare(\"SELECT * FROM my_first_table WHERE company=?;\") # <- will fail as company is not a key\n",
    "teslas = session.execute(prepared_statement, ['Tesla'])\n",
    "for i in teslas:\n",
    "    print(i)"
   ]
  },
  {
   "cell_type": "markdown",
   "metadata": {
    "slideshow": {
     "slide_type": "slide"
    }
   },
   "source": [
    "## Cassandra filtering\n",
    "Cassandra is inherently a distributed production database. Selecting as above may require downloading all data from a node, then filtering based on the WHERE part (only PRIMARY KEYs are centrally known). Solutions:  \n",
    "- If the table is small or most of the data will satisfy the query, add ```ALLOW FILTERING``` at the end of the query (not recommended if not known). \n",
    "- Or make sure the WHERE clause points to one of the keys (see below)."
   ]
  },
  {
   "cell_type": "code",
   "execution_count": 8,
   "metadata": {
    "slideshow": {
     "slide_type": "slide"
    }
   },
   "outputs": [
    {
     "data": {
      "text/plain": [
       "<cassandra.cluster.ResultSet at 0x11533dab0>"
      ]
     },
     "execution_count": 8,
     "metadata": {},
     "output_type": "execute_result"
    }
   ],
   "source": [
    "# Create a new table (observe keys)\n",
    "session.execute(\"DROP TABLE IF EXISTS my_first_keyspace.car_table;\")\n",
    "session.execute(\"CREATE TABLE IF NOT EXISTS car_table (company text, model text, PRIMARY KEY(company, model));\")"
   ]
  },
  {
   "cell_type": "code",
   "execution_count": 9,
   "metadata": {
    "slideshow": {
     "slide_type": "fragment"
    }
   },
   "outputs": [
    {
     "data": {
      "text/plain": [
       "<cassandra.cluster.ResultSet at 0x11533ee90>"
      ]
     },
     "execution_count": 9,
     "metadata": {},
     "output_type": "execute_result"
    }
   ],
   "source": [
    "# Insert some data (combination of company and model must be unique)\n",
    "session.execute(\"INSERT INTO car_table (company, model) VALUES ('Tesla', 'Model S');\")\n",
    "session.execute(\"INSERT INTO car_table (company, model) VALUES ('Tesla', 'Model 3');\")\n",
    "session.execute(\"INSERT INTO car_table (company, model) VALUES ('Polestar', '3');\")\n",
    "session.execute(\"INSERT INTO car_table (company, model) VALUES ('Volkswagen', 'ID.4');\")"
   ]
  },
  {
   "cell_type": "code",
   "execution_count": 10,
   "metadata": {
    "slideshow": {
     "slide_type": "slide"
    }
   },
   "outputs": [
    {
     "name": "stdout",
     "output_type": "stream",
     "text": [
      "Row(company='Tesla', model='Model 3')\n",
      "Row(company='Tesla', model='Model S')\n"
     ]
    }
   ],
   "source": [
    "# More specific query now works\n",
    "prepared_statement = session.prepare(\"SELECT * FROM car_table WHERE company=?;\")\n",
    "teslas = session.execute(prepared_statement, ['Tesla'])\n",
    "for i in teslas:\n",
    "    print(i)"
   ]
  },
  {
   "cell_type": "markdown",
   "metadata": {
    "slideshow": {
     "slide_type": "slide"
    }
   },
   "source": [
    "### Partitions\n",
    "- Cassandra databases are usually replicated over different nodes.\n",
    "- Data is stored in partitions (subsets) which have local copys.\n",
    "- The primary key, e.g., PRIMARY KEY(company, model), is used in partitioning.\n",
    "    - The first part, e.g., company, is most important.\n",
    "    - All cars from a company will be located together, aiming for quicker queries."
   ]
  },
  {
   "cell_type": "markdown",
   "metadata": {
    "slideshow": {
     "slide_type": "slide"
    }
   },
   "source": [
    "### Unique IDs \n",
    "- In MySQL one could use the attribute AUTO_INCREMENT on integer IDs to automatically make a new unique index when inserting data.\n",
    "- This would cause unreasonable overhead in a distributed database.\n",
    "- [UUID](https://en.wikipedia.org/wiki/Universally_unique_identifier)s are used instead.\n",
    "    - Universally Unique Identifiers are typically 128-bit random bit sequences with extremely low probability of duplication.\n",
    "    - Cassandra uses a [timeuuid](https://docs.datastax.com/en/cql-oss/3.3/cql/cql_reference/timeuuid_functions_r.html) type to combine a timestamp and uuid in one."
   ]
  },
  {
   "cell_type": "code",
   "execution_count": 11,
   "metadata": {
    "slideshow": {
     "slide_type": "fragment"
    }
   },
   "outputs": [
    {
     "data": {
      "text/plain": [
       "<cassandra.cluster.ResultSet at 0x11533f6d0>"
      ]
     },
     "execution_count": 11,
     "metadata": {},
     "output_type": "execute_result"
    }
   ],
   "source": [
    "# Create a new table (first time only)\n",
    "session.set_keyspace('my_first_keyspace')\n",
    "session.execute(\"DROP TABLE IF EXISTS my_first_keyspace.table_with_uuid;\")\n",
    "session.execute(\"CREATE TABLE IF NOT EXISTS table_with_uuid (id timeuuid PRIMARY KEY, company text, model text, price float);\")"
   ]
  },
  {
   "cell_type": "code",
   "execution_count": 12,
   "metadata": {
    "slideshow": {
     "slide_type": "slide"
    }
   },
   "outputs": [
    {
     "data": {
      "text/plain": [
       "<cassandra.cluster.ResultSet at 0x11533dc00>"
      ]
     },
     "execution_count": 12,
     "metadata": {},
     "output_type": "execute_result"
    }
   ],
   "source": [
    "session.execute(\"INSERT INTO table_with_uuid (id, company, model, price) VALUES (now(), 'Tesla', 'Model S', 20000.0);\")\n",
    "session.execute(\"INSERT INTO table_with_uuid (id, company, model, price) VALUES (now(), 'Tesla', 'Model S', 21000.0);\")\n",
    "session.execute(\"INSERT INTO table_with_uuid (id, company, model, price) VALUES (now(), 'Oldsmobile', 'Model 6C', 135000.0);\")"
   ]
  },
  {
   "cell_type": "code",
   "execution_count": 13,
   "metadata": {
    "slideshow": {
     "slide_type": "slide"
    }
   },
   "outputs": [
    {
     "name": "stdout",
     "output_type": "stream",
     "text": [
      "Row(id=UUID('58554b20-588a-11ee-9584-e764fe77f234'), company='Oldsmobile', model='Model 6C', price=135000.0)\n",
      "Datetime: 2023-09-21 14:22:50.578000\n",
      "Row(id=UUID('5854d5f0-588a-11ee-9584-e764fe77f234'), company='Tesla', model='Model S', price=20000.0)\n",
      "Datetime: 2023-09-21 14:22:50.575000\n",
      "Row(id=UUID('58552410-588a-11ee-9584-e764fe77f234'), company='Tesla', model='Model S', price=21000.0)\n",
      "Datetime: 2023-09-21 14:22:50.577000\n"
     ]
    }
   ],
   "source": [
    "from cassandra.util import datetime_from_uuid1\n",
    "\n",
    "# Query the data\n",
    "rows = session.execute(\"SELECT * FROM table_with_uuid;\")\n",
    "for i in rows:\n",
    "    print(i)\n",
    "    # Extract the timestamp from Cassandra's timeuuid\n",
    "    print(\"Datetime:\", datetime_from_uuid1(i.id))"
   ]
  },
  {
   "cell_type": "markdown",
   "metadata": {
    "slideshow": {
     "slide_type": "slide"
    }
   },
   "source": [
    "## JSON in Cassandra\n",
    "### Read previously saved JSON file forecast.json to memory"
   ]
  },
  {
   "cell_type": "code",
   "execution_count": 14,
   "metadata": {
    "slideshow": {
     "slide_type": "-"
    }
   },
   "outputs": [],
   "source": [
    "import json\n",
    "with open('../APIs/downloads/forecast.json', 'r') as f:\n",
    "    forecast = json.load(f)"
   ]
  },
  {
   "cell_type": "code",
   "execution_count": 15,
   "metadata": {
    "slideshow": {
     "slide_type": "slide"
    }
   },
   "outputs": [
    {
     "data": {
      "text/plain": [
       "\"{'cod': '200', 'message': 0, 'cnt': 40, 'list': [{'dt': 1695308400, 'main': {'temp': 289.31, 'feels_like': 289.46, 'temp_min': 288.61, 'temp_max': 289.31, 'pressure': 996, 'sea_level': 996, 'grnd_level': 980, 'humidity': 95, 'temp_kf': 0.7}, 'weather': [{'id': 500, 'main': 'Rain', 'description': 'light rain', 'icon': '10d'}], 'clouds': {'all': 100}, 'wind': {'speed': 5.3, 'deg': 185, 'gust': 13.11}, 'visibility': 10000, 'pop': 0.88, 'rain': {'3h': 0.84}, 'sys': {'pod': 'd'}, 'dt_txt': '2023-09-21 15:00:00'}, {'dt': 1695319200, 'main': {'temp': 288.5, 'feels_like': 288.6, 'temp_min': 286.89, 'temp_max': 288.5, 'pressure': 996, 'sea_level': 996, 'grnd_level': 981, 'humidity': 96, 'temp_kf': 1.61}, 'weather': [{'id': 500, 'main': 'Rain', 'description': 'light rain', 'icon': '10n'}], 'clouds': {'all': 100}, 'wind': {'speed': 2.32, 'deg': 171, 'gust': 5.99}, 'visibility': 10000, 'pop': 0.99, 'rain': {'3h': 0.72}, 'sys': {'pod': 'n'}, 'dt_txt': '2023-09-21 18:00:00'}, {'dt': 1695330000, 'main': {'temp': 287.46, 'feels_like': 287.48, 'temp_min': 286.53, 'temp_max': 287.46, 'pressure': 997, 'sea_level': 997, 'grnd_level': 981, 'humidity': 97, 'temp_kf': 0.93}, 'weather': [{'id': 500, 'main': 'Rain', 'description': 'light rain', 'icon': '10n'}], 'clouds': {'all': 100}, 'wind': {'speed': 0.97, 'deg': 114, 'gust': 3.69}, 'visibility': 10000, 'pop': 0.97, 'rain': {'3h': 2.68}, 'sys': {'pod': 'n'}, 'dt_txt': '2023-09-21 21:00:00'}, {'dt': 1695340800, 'main': {'temp': 288, 'feels_like': 288.07, 'temp_min': 288, 'temp_max': 288, 'pressure': 995, 'sea_level': 995, 'grnd_level': 979, 'humidity': 97, 'temp_kf': 0}, 'weather': [{'id': 500, 'main': 'Rain', 'description': 'light rain', 'icon': '10n'}], 'clouds': {'all': 100}, 'wind': {'speed': 3.31, 'deg': 126, 'gust': 9.85}, 'visibility': 8719, 'pop': 1, 'rain': {'3h': 1.22}, 'sys': {'pod': 'n'}, 'dt_txt': '2023-09-22 00:00:00'}, {'dt': 1695351600, 'main': {'temp': 288.22, 'feels_like': 288.26, 'temp_min': 288.22, 'temp_max': 288.22, 'pressure': 993, 'sea_level': 993, 'grnd_level': 977, 'humidity': 95, 'temp_kf': 0}, 'weather': [{'id': 501, 'main': 'Rain', 'description': 'moderate rain', 'icon': '10n'}], 'clouds': {'all': 100}, 'wind': {'speed': 5.23, 'deg': 144, 'gust': 14.27}, 'visibility': 10000, 'pop': 1, 'rain': {'3h': 3.91}, 'sys': {'pod': 'n'}, 'dt_txt': '2023-09-22 03:00:00'}, {'dt': 1695362400, 'main': {'temp': 288.1, 'feels_like': 288.21, 'temp_min': 288.1, 'temp_max': 288.1, 'pressure': 992, 'sea_level': 992, 'grnd_level': 976, 'humidity': 98, 'temp_kf': 0}, 'weather': [{'id': 501, 'main': 'Rain', 'description': 'moderate rain', 'icon': '10d'}], 'clouds': {'all': 100}, 'wind': {'speed': 3.61, 'deg': 160, 'gust': 10.35}, 'visibility': 1133, 'pop': 1, 'rain': {'3h': 8.13}, 'sys': {'pod': 'd'}, 'dt_txt': '2023-09-22 06:00:00'}, {'dt': 1695373200, 'main': {'temp': 288.15, 'feels_like': 288.26, 'temp_min': 288.15, 'temp_max': 288.15, 'pressure': 993, 'sea_level': 993, 'grnd_level': 977, 'humidity': 98, 'temp_kf': 0}, 'weather': [{'id': 501, 'main': 'Rain', 'description': 'moderate rain', 'icon': '10d'}], 'clouds': {'all': 100}, 'wind': {'speed': 2.81, 'deg': 165, 'gust': 8.66}, 'visibility': 3152, 'pop': 1, 'rain': {'3h': 7.89}, 'sys': {'pod': 'd'}, 'dt_txt': '2023-09-22 09:00:00'}, {'dt': 1695384000, 'main': {'temp': 287.16, 'feels_like': 287.12, 'temp_min': 287.16, 'temp_max': 287.16, 'pressure': 994, 'sea_level': 994, 'grnd_level': 977, 'humidity': 96, 'temp_kf': 0}, 'weather': [{'id': 500, 'main': 'Rain', 'description': 'light rain', 'icon': '10d'}], 'clouds': {'all': 100}, 'wind': {'speed': 2.49, 'deg': 226, 'gust': 5.73}, 'visibility': 10000, 'pop': 1, 'rain': {'3h': 1.46}, 'sys': {'pod': 'd'}, 'dt_txt': '2023-09-22 12:00:00'}, {'dt': 1695394800, 'main': {'temp': 287.05, 'feels_like': 286.74, 'temp_min': 287.05, 'temp_max': 287.05, 'pressure': 995, 'sea_level': 995, 'grnd_level': 979, 'humidity': 86, 'temp_kf': 0}, 'weather': [{'id': 804, 'main': 'Clouds', 'description': 'overcast clouds', 'icon': '04d'}], 'clouds': {'all': 99}, 'wind': {'speed': 2, 'deg': 229, 'gust': 4.9}, 'visibility': 10000, 'pop': 0.26, 'sys': {'pod': 'd'}, 'dt_txt': '2023-09-22 15:00:00'}, {'dt': 1695405600, 'main': {'temp': 285.13, 'feels_like': 284.89, 'temp_min': 285.13, 'temp_max': 285.13, 'pressure': 997, 'sea_level': 997, 'grnd_level': 980, 'humidity': 96, 'temp_kf': 0}, 'weather': [{'id': 804, 'main': 'Clouds', 'description': 'overcast clouds', 'icon': '04n'}], 'clouds': {'all': 100}, 'wind': {'speed': 2.46, 'deg': 195, 'gust': 8.16}, 'visibility': 10000, 'pop': 0.14, 'sys': {'pod': 'n'}, 'dt_txt': '2023-09-22 18:00:00'}, {'dt': 1695416400, 'main': {'temp': 284.09, 'feels_like': 283.67, 'temp_min': 284.09, 'temp_max': 284.09, 'pressure': 998, 'sea_level': 998, 'grnd_level': 981, 'humidity': 93, 'temp_kf': 0}, 'weather': [{'id': 804, 'main': 'Clouds', 'description': 'overcast clouds', 'icon': '04n'}], 'clouds': {'all': 93}, 'wind': {'speed': 2.86, 'deg': 185, 'gust': 8.1}, 'visibility': 10000, 'pop': 0, 'sys': {'pod': 'n'}, 'dt_txt': '2023-09-22 21:00:00'}, {'dt': 1695427200, 'main': {'temp': 283.14, 'feels_like': 281.53, 'temp_min': 283.14, 'temp_max': 283.14, 'pressure': 999, 'sea_level': 999, 'grnd_level': 982, 'humidity': 92, 'temp_kf': 0}, 'weather': [{'id': 803, 'main': 'Clouds', 'description': 'broken clouds', 'icon': '04n'}], 'clouds': {'all': 73}, 'wind': {'speed': 3.22, 'deg': 195, 'gust': 9.71}, 'visibility': 10000, 'pop': 0, 'sys': {'pod': 'n'}, 'dt_txt': '2023-09-23 00:00:00'}, {'dt': 1695438000, 'main': {'temp': 282.53, 'feels_like': 281.49, 'temp_min': 282.53, 'temp_max': 282.53, 'pressure': 999, 'sea_level': 999, 'grnd_level': 983, 'humidity': 96, 'temp_kf': 0}, 'weather': [{'id': 800, 'main': 'Clear', 'description': 'clear sky', 'icon': '01n'}], 'clouds': {'all': 8}, 'wind': {'speed': 2.16, 'deg': 187, 'gust': 5.73}, 'visibility': 10000, 'pop': 0, 'sys': {'pod': 'n'}, 'dt_txt': '2023-09-23 03:00:00'}, {'dt': 1695448800, 'main': {'temp': 282.48, 'feels_like': 282.48, 'temp_min': 282.48, 'temp_max': 282.48, 'pressure': 1000, 'sea_level': 1000, 'grnd_level': 984, 'humidity': 98, 'temp_kf': 0}, 'weather': [{'id': 800, 'main': 'Clear', 'description': 'clear sky', 'icon': '01d'}], 'clouds': {'all': 9}, 'wind': {'speed': 1.17, 'deg': 150, 'gust': 3.08}, 'visibility': 10000, 'pop': 0, 'sys': {'pod': 'd'}, 'dt_txt': '2023-09-23 06:00:00'}, {'dt': 1695459600, 'main': {'temp': 286.6, 'feels_like': 286.19, 'temp_min': 286.6, 'temp_max': 286.6, 'pressure': 1000, 'sea_level': 1000, 'grnd_level': 984, 'humidity': 84, 'temp_kf': 0}, 'weather': [{'id': 500, 'main': 'Rain', 'description': 'light rain', 'icon': '10d'}], 'clouds': {'all': 67}, 'wind': {'speed': 1.85, 'deg': 170, 'gust': 3.69}, 'visibility': 10000, 'pop': 0.41, 'rain': {'3h': 0.3}, 'sys': {'pod': 'd'}, 'dt_txt': '2023-09-23 09:00:00'}, {'dt': 1695470400, 'main': {'temp': 286.9, 'feels_like': 286.55, 'temp_min': 286.9, 'temp_max': 286.9, 'pressure': 1000, 'sea_level': 1000, 'grnd_level': 983, 'humidity': 85, 'temp_kf': 0}, 'weather': [{'id': 501, 'main': 'Rain', 'description': 'moderate rain', 'icon': '10d'}], 'clouds': {'all': 83}, 'wind': {'speed': 1.62, 'deg': 152, 'gust': 3.27}, 'visibility': 6050, 'pop': 0.77, 'rain': {'3h': 3.79}, 'sys': {'pod': 'd'}, 'dt_txt': '2023-09-23 12:00:00'}, {'dt': 1695481200, 'main': {'temp': 286.48, 'feels_like': 286.19, 'temp_min': 286.48, 'temp_max': 286.48, 'pressure': 1000, 'sea_level': 1000, 'grnd_level': 983, 'humidity': 89, 'temp_kf': 0}, 'weather': [{'id': 501, 'main': 'Rain', 'description': 'moderate rain', 'icon': '10d'}], 'clouds': {'all': 100}, 'wind': {'speed': 1.38, 'deg': 246, 'gust': 2.41}, 'visibility': 8170, 'pop': 1, 'rain': {'3h': 4.37}, 'sys': {'pod': 'd'}, 'dt_txt': '2023-09-23 15:00:00'}, {'dt': 1695492000, 'main': {'temp': 283.98, 'feels_like': 283.6, 'temp_min': 283.98, 'temp_max': 283.98, 'pressure': 1002, 'sea_level': 1002, 'grnd_level': 985, 'humidity': 95, 'temp_kf': 0}, 'weather': [{'id': 500, 'main': 'Rain', 'description': 'light rain', 'icon': '10n'}], 'clouds': {'all': 100}, 'wind': {'speed': 1.87, 'deg': 225, 'gust': 3.81}, 'visibility': 10000, 'pop': 1, 'rain': {'3h': 1.48}, 'sys': {'pod': 'n'}, 'dt_txt': '2023-09-23 18:00:00'}, {'dt': 1695502800, 'main': {'temp': 282.14, 'feels_like': 281.82, 'temp_min': 282.14, 'temp_max': 282.14, 'pressure': 1004, 'sea_level': 1004, 'grnd_level': 987, 'humidity': 96, 'temp_kf': 0}, 'weather': [{'id': 803, 'main': 'Clouds', 'description': 'broken clouds', 'icon': '04n'}], 'clouds': {'all': 77}, 'wind': {'speed': 1.35, 'deg': 193, 'gust': 2.03}, 'visibility': 10000, 'pop': 0.15, 'sys': {'pod': 'n'}, 'dt_txt': '2023-09-23 21:00:00'}, {'dt': 1695513600, 'main': {'temp': 281.16, 'feels_like': 281.16, 'temp_min': 281.16, 'temp_max': 281.16, 'pressure': 1005, 'sea_level': 1005, 'grnd_level': 988, 'humidity': 97, 'temp_kf': 0}, 'weather': [{'id': 802, 'main': 'Clouds', 'description': 'scattered clouds', 'icon': '03n'}], 'clouds': {'all': 49}, 'wind': {'speed': 1.15, 'deg': 199, 'gust': 1.39}, 'visibility': 10000, 'pop': 0.06, 'sys': {'pod': 'n'}, 'dt_txt': '2023-09-24 00:00:00'}, {'dt': 1695524400, 'main': {'temp': 280.43, 'feels_like': 280.43, 'temp_min': 280.43, 'temp_max': 280.43, 'pressure': 1006, 'sea_level': 1006, 'grnd_level': 989, 'humidity': 96, 'temp_kf': 0}, 'weather': [{'id': 802, 'main': 'Clouds', 'description': 'scattered clouds', 'icon': '03n'}], 'clouds': {'all': 31}, 'wind': {'speed': 0.66, 'deg': 264, 'gust': 1.01}, 'visibility': 10000, 'pop': 0.01, 'sys': {'pod': 'n'}, 'dt_txt': '2023-09-24 03:00:00'}, {'dt': 1695535200, 'main': {'temp': 280.36, 'feels_like': 280.36, 'temp_min': 280.36, 'temp_max': 280.36, 'pressure': 1009, 'sea_level': 1009, 'grnd_level': 992, 'humidity': 94, 'temp_kf': 0}, 'weather': [{'id': 801, 'main': 'Clouds', 'description': 'few clouds', 'icon': '02d'}], 'clouds': {'all': 20}, 'wind': {'speed': 1.03, 'deg': 334, 'gust': 1.09}, 'visibility': 10000, 'pop': 0.01, 'sys': {'pod': 'd'}, 'dt_txt': '2023-09-24 06:00:00'}, {'dt': 1695546000, 'main': {'temp': 285.3, 'feels_like': 284.58, 'temp_min': 285.3, 'temp_max': 285.3, 'pressure': 1012, 'sea_level': 1012, 'grnd_level': 995, 'humidity': 77, 'temp_kf': 0}, 'weather': [{'id': 800, 'main': 'Clear', 'description': 'clear sky', 'icon': '01d'}], 'clouds': {'all': 5}, 'wind': {'speed': 1.04, 'deg': 305, 'gust': 1.8}, 'visibility': 10000, 'pop': 0, 'sys': {'pod': 'd'}, 'dt_txt': '2023-09-24 09:00:00'}, {'dt': 1695556800, 'main': {'temp': 288.42, 'feels_like': 287.62, 'temp_min': 288.42, 'temp_max': 288.42, 'pressure': 1014, 'sea_level': 1014, 'grnd_level': 997, 'humidity': 62, 'temp_kf': 0}, 'weather': [{'id': 800, 'main': 'Clear', 'description': 'clear sky', 'icon': '01d'}], 'clouds': {'all': 6}, 'wind': {'speed': 1.81, 'deg': 217, 'gust': 2.04}, 'visibility': 10000, 'pop': 0, 'sys': {'pod': 'd'}, 'dt_txt': '2023-09-24 12:00:00'}, {'dt': 1695567600, 'main': {'temp': 288.17, 'feels_like': 287.4, 'temp_min': 288.17, 'temp_max': 288.17, 'pressure': 1015, 'sea_level': 1015, 'grnd_level': 999, 'humidity': 64, 'temp_kf': 0}, 'weather': [{'id': 800, 'main': 'Clear', 'description': 'clear sky', 'icon': '01d'}], 'clouds': {'all': 7}, 'wind': {'speed': 2.32, 'deg': 186, 'gust': 3.97}, 'visibility': 10000, 'pop': 0, 'sys': {'pod': 'd'}, 'dt_txt': '2023-09-24 15:00:00'}, {'dt': 1695578400, 'main': {'temp': 283.59, 'feels_like': 283.01, 'temp_min': 283.59, 'temp_max': 283.59, 'pressure': 1016, 'sea_level': 1016, 'grnd_level': 999, 'humidity': 89, 'temp_kf': 0}, 'weather': [{'id': 803, 'main': 'Clouds', 'description': 'broken clouds', 'icon': '04n'}], 'clouds': {'all': 52}, 'wind': {'speed': 2.05, 'deg': 149, 'gust': 4.94}, 'visibility': 10000, 'pop': 0, 'sys': {'pod': 'n'}, 'dt_txt': '2023-09-24 18:00:00'}, {'dt': 1695589200, 'main': {'temp': 284.29, 'feels_like': 283.55, 'temp_min': 284.29, 'temp_max': 284.29, 'pressure': 1017, 'sea_level': 1017, 'grnd_level': 1000, 'humidity': 80, 'temp_kf': 0}, 'weather': [{'id': 804, 'main': 'Clouds', 'description': 'overcast clouds', 'icon': '04n'}], 'clouds': {'all': 100}, 'wind': {'speed': 4.83, 'deg': 191, 'gust': 12.55}, 'visibility': 10000, 'pop': 0, 'sys': {'pod': 'n'}, 'dt_txt': '2023-09-24 21:00:00'}, {'dt': 1695600000, 'main': {'temp': 285.36, 'feels_like': 285.01, 'temp_min': 285.36, 'temp_max': 285.36, 'pressure': 1017, 'sea_level': 1017, 'grnd_level': 1000, 'humidity': 91, 'temp_kf': 0}, 'weather': [{'id': 804, 'main': 'Clouds', 'description': 'overcast clouds', 'icon': '04n'}], 'clouds': {'all': 100}, 'wind': {'speed': 4.56, 'deg': 190, 'gust': 11.5}, 'visibility': 10000, 'pop': 0, 'sys': {'pod': 'n'}, 'dt_txt': '2023-09-25 00:00:00'}, {'dt': 1695610800, 'main': {'temp': 285.97, 'feels_like': 285.81, 'temp_min': 285.97, 'temp_max': 285.97, 'pressure': 1016, 'sea_level': 1016, 'grnd_level': 999, 'humidity': 96, 'temp_kf': 0}, 'weather': [{'id': 500, 'main': 'Rain', 'description': 'light rain', 'icon': '10n'}], 'clouds': {'all': 100}, 'wind': {'speed': 6.09, 'deg': 192, 'gust': 13.17}, 'visibility': 10000, 'pop': 0.8, 'rain': {'3h': 1.31}, 'sys': {'pod': 'n'}, 'dt_txt': '2023-09-25 03:00:00'}, {'dt': 1695621600, 'main': {'temp': 285.22, 'feels_like': 284.91, 'temp_min': 285.22, 'temp_max': 285.22, 'pressure': 1015, 'sea_level': 1015, 'grnd_level': 998, 'humidity': 93, 'temp_kf': 0}, 'weather': [{'id': 500, 'main': 'Rain', 'description': 'light rain', 'icon': '10d'}], 'clouds': {'all': 100}, 'wind': {'speed': 6.02, 'deg': 179, 'gust': 12.77}, 'visibility': 10000, 'pop': 0.77, 'rain': {'3h': 1.06}, 'sys': {'pod': 'd'}, 'dt_txt': '2023-09-25 06:00:00'}, {'dt': 1695632400, 'main': {'temp': 286.44, 'feels_like': 285.99, 'temp_min': 286.44, 'temp_max': 286.44, 'pressure': 1015, 'sea_level': 1015, 'grnd_level': 998, 'humidity': 83, 'temp_kf': 0}, 'weather': [{'id': 804, 'main': 'Clouds', 'description': 'overcast clouds', 'icon': '04d'}], 'clouds': {'all': 100}, 'wind': {'speed': 6.34, 'deg': 194, 'gust': 13.62}, 'visibility': 10000, 'pop': 0, 'sys': {'pod': 'd'}, 'dt_txt': '2023-09-25 09:00:00'}, {'dt': 1695643200, 'main': {'temp': 286.4, 'feels_like': 285.92, 'temp_min': 286.4, 'temp_max': 286.4, 'pressure': 1014, 'sea_level': 1014, 'grnd_level': 997, 'humidity': 82, 'temp_kf': 0}, 'weather': [{'id': 500, 'main': 'Rain', 'description': 'light rain', 'icon': '10d'}], 'clouds': {'all': 100}, 'wind': {'speed': 6.44, 'deg': 192, 'gust': 12.67}, 'visibility': 10000, 'pop': 0.2, 'rain': {'3h': 0.16}, 'sys': {'pod': 'd'}, 'dt_txt': '2023-09-25 12:00:00'}, {'dt': 1695654000, 'main': {'temp': 286.48, 'feels_like': 285.98, 'temp_min': 286.48, 'temp_max': 286.48, 'pressure': 1014, 'sea_level': 1014, 'grnd_level': 997, 'humidity': 81, 'temp_kf': 0}, 'weather': [{'id': 804, 'main': 'Clouds', 'description': 'overcast clouds', 'icon': '04d'}], 'clouds': {'all': 100}, 'wind': {'speed': 5.65, 'deg': 191, 'gust': 12.72}, 'visibility': 10000, 'pop': 0, 'sys': {'pod': 'd'}, 'dt_txt': '2023-09-25 15:00:00'}, {'dt': 1695664800, 'main': {'temp': 285.95, 'feels_like': 285.69, 'temp_min': 285.95, 'temp_max': 285.95, 'pressure': 1014, 'sea_level': 1014, 'grnd_level': 997, 'humidity': 92, 'temp_kf': 0}, 'weather': [{'id': 500, 'main': 'Rain', 'description': 'light rain', 'icon': '10n'}], 'clouds': {'all': 100}, 'wind': {'speed': 4.78, 'deg': 183, 'gust': 11.94}, 'visibility': 10000, 'pop': 0.3, 'rain': {'3h': 0.16}, 'sys': {'pod': 'n'}, 'dt_txt': '2023-09-25 18:00:00'}, {'dt': 1695675600, 'main': {'temp': 286.58, 'feels_like': 286.49, 'temp_min': 286.58, 'temp_max': 286.58, 'pressure': 1014, 'sea_level': 1014, 'grnd_level': 998, 'humidity': 96, 'temp_kf': 0}, 'weather': [{'id': 500, 'main': 'Rain', 'description': 'light rain', 'icon': '10n'}], 'clouds': {'all': 100}, 'wind': {'speed': 4.36, 'deg': 191, 'gust': 10.6}, 'visibility': 10000, 'pop': 0.36, 'rain': {'3h': 0.25}, 'sys': {'pod': 'n'}, 'dt_txt': '2023-09-25 21:00:00'}, {'dt': 1695686400, 'main': {'temp': 286.92, 'feels_like': 286.78, 'temp_min': 286.92, 'temp_max': 286.92, 'pressure': 1015, 'sea_level': 1015, 'grnd_level': 998, 'humidity': 93, 'temp_kf': 0}, 'weather': [{'id': 500, 'main': 'Rain', 'description': 'light rain', 'icon': '10n'}], 'clouds': {'all': 100}, 'wind': {'speed': 4.31, 'deg': 192, 'gust': 9.96}, 'visibility': 10000, 'pop': 0.33, 'rain': {'3h': 0.2}, 'sys': {'pod': 'n'}, 'dt_txt': '2023-09-26 00:00:00'}, {'dt': 1695697200, 'main': {'temp': 286.62, 'feels_like': 286.35, 'temp_min': 286.62, 'temp_max': 286.62, 'pressure': 1014, 'sea_level': 1014, 'grnd_level': 998, 'humidity': 89, 'temp_kf': 0}, 'weather': [{'id': 804, 'main': 'Clouds', 'description': 'overcast clouds', 'icon': '04n'}], 'clouds': {'all': 97}, 'wind': {'speed': 4.31, 'deg': 190, 'gust': 9.5}, 'visibility': 10000, 'pop': 0.13, 'sys': {'pod': 'n'}, 'dt_txt': '2023-09-26 03:00:00'}, {'dt': 1695708000, 'main': {'temp': 285.54, 'feels_like': 285.37, 'temp_min': 285.54, 'temp_max': 285.54, 'pressure': 1015, 'sea_level': 1015, 'grnd_level': 998, 'humidity': 97, 'temp_kf': 0}, 'weather': [{'id': 803, 'main': 'Clouds', 'description': 'broken clouds', 'icon': '04d'}], 'clouds': {'all': 81}, 'wind': {'speed': 3.5, 'deg': 179, 'gust': 9.71}, 'visibility': 10000, 'pop': 0.08, 'sys': {'pod': 'd'}, 'dt_txt': '2023-09-26 06:00:00'}, {'dt': 1695718800, 'main': {'temp': 288.27, 'feels_like': 287.93, 'temp_min': 288.27, 'temp_max': 288.27, 'pressure': 1016, 'sea_level': 1016, 'grnd_level': 999, 'humidity': 80, 'temp_kf': 0}, 'weather': [{'id': 500, 'main': 'Rain', 'description': 'light rain', 'icon': '10d'}], 'clouds': {'all': 37}, 'wind': {'speed': 3.9, 'deg': 191, 'gust': 7.46}, 'visibility': 10000, 'pop': 0.28, 'rain': {'3h': 0.1}, 'sys': {'pod': 'd'}, 'dt_txt': '2023-09-26 09:00:00'}, {'dt': 1695729600, 'main': {'temp': 288.95, 'feels_like': 288.54, 'temp_min': 288.95, 'temp_max': 288.95, 'pressure': 1016, 'sea_level': 1016, 'grnd_level': 999, 'humidity': 75, 'temp_kf': 0}, 'weather': [{'id': 500, 'main': 'Rain', 'description': 'light rain', 'icon': '10d'}], 'clouds': {'all': 59}, 'wind': {'speed': 4.22, 'deg': 183, 'gust': 6.44}, 'visibility': 10000, 'pop': 0.2, 'rain': {'3h': 0.15}, 'sys': {'pod': 'd'}, 'dt_txt': '2023-09-26 12:00:00'}], 'city': {'id': 3139081, 'name': 'Ski', 'coord': {'lat': 59.7195, 'lon': 10.8358}, 'country': 'NO', 'population': 12513, 'timezone': 7200, 'sunrise': 1695272257, 'sunset': 1695316937}}\""
      ]
     },
     "execution_count": 15,
     "metadata": {},
     "output_type": "execute_result"
    }
   ],
   "source": [
    "# Inspect JSON file\n",
    "forecast.__str__()"
   ]
  },
  {
   "cell_type": "markdown",
   "metadata": {
    "slideshow": {
     "slide_type": "slide"
    }
   },
   "source": [
    "## Raw JSON\n",
    "- A simple, but not very efficient way of storing JSON data is to treat it as a text and save it directly to the database.  \n",
    "- More efficient, with regard to transfer, is to compress the JSON data to a blob first.\n",
    "    - Compression is automatic."
   ]
  },
  {
   "cell_type": "code",
   "execution_count": 16,
   "metadata": {
    "slideshow": {
     "slide_type": "-"
    }
   },
   "outputs": [
    {
     "data": {
      "text/plain": [
       "<cassandra.cluster.ResultSet at 0x105d19180>"
      ]
     },
     "execution_count": 16,
     "metadata": {},
     "output_type": "execute_result"
    }
   ],
   "source": [
    "# Create a new table which treats the whole JSON as a blob, using the city id and the first dt as keys\n",
    "session.set_keyspace('my_first_keyspace')\n",
    "session.execute(\"DROP TABLE IF EXISTS my_first_keyspace.forecast_table;\")\n",
    "session.execute(\"CREATE TABLE IF NOT EXISTS forecast_table (city_id int, dt int, forecast blob, PRIMARY KEY(city_id, dt));\")"
   ]
  },
  {
   "cell_type": "markdown",
   "metadata": {
    "slideshow": {
     "slide_type": "slide"
    }
   },
   "source": [
    "### Insert the forecast data into the table as text blob"
   ]
  },
  {
   "cell_type": "code",
   "execution_count": 17,
   "metadata": {
    "slideshow": {
     "slide_type": "-"
    }
   },
   "outputs": [
    {
     "data": {
      "text/plain": [
       "<cassandra.cluster.ResultSet at 0x106fa2d70>"
      ]
     },
     "execution_count": 17,
     "metadata": {},
     "output_type": "execute_result"
    }
   ],
   "source": [
    "session.execute(\"INSERT INTO forecast_table (city_id, dt, forecast) VALUES (%s, %s, textAsBlob(%s));\", (forecast['city']['id'], forecast['list'][0]['dt'], forecast.__str__()))"
   ]
  },
  {
   "cell_type": "code",
   "execution_count": 18,
   "metadata": {
    "slideshow": {
     "slide_type": "slide"
    }
   },
   "outputs": [
    {
     "name": "stdout",
     "output_type": "stream",
     "text": [
      "Row(city_id=3139081, dt=1695308400, forecast=b\"{'cod': '200', 'message': 0, 'cnt': 40, 'list': [{'dt': 1695308400, 'main': {'temp': 289.31, 'feels_like': 289.46, 'temp_min': 288.61, 'temp_max': 289.31, 'pressure': 996, 'sea_level': 996, 'grnd_level': 980, 'humidity': 95, 'temp_kf': 0.7}, 'weather': [{'id': 500, 'main': 'Rain', 'description': 'light rain', 'icon': '10d'}], 'clouds': {'all': 100}, 'wind': {'speed': 5.3, 'deg': 185, 'gust': 13.11}, 'visibility': 10000, 'pop': 0.88, 'rain': {'3h': 0.84}, 'sys': {'pod': 'd'}, 'dt_txt': '2023-09-21 15:00:00'}, {'dt': 1695319200, 'main': {'temp': 288.5, 'feels_like': 288.6, 'temp_min': 286.89, 'temp_max': 288.5, 'pressure': 996, 'sea_level': 996, 'grnd_level': 981, 'humidity': 96, 'temp_kf': 1.61}, 'weather': [{'id': 500, 'main': 'Rain', 'description': 'light rain', 'icon': '10n'}], 'clouds': {'all': 100}, 'wind': {'speed': 2.32, 'deg': 171, 'gust': 5.99}, 'visibility': 10000, 'pop': 0.99, 'rain': {'3h': 0.72}, 'sys': {'pod': 'n'}, 'dt_txt': '2023-09-21 18:00:00'}, {'dt': 1695330000, 'main': {'temp': 287.46, 'feels_like': 287.48, 'temp_min': 286.53, 'temp_max': 287.46, 'pressure': 997, 'sea_level': 997, 'grnd_level': 981, 'humidity': 97, 'temp_kf': 0.93}, 'weather': [{'id': 500, 'main': 'Rain', 'description': 'light rain', 'icon': '10n'}], 'clouds': {'all': 100}, 'wind': {'speed': 0.97, 'deg': 114, 'gust': 3.69}, 'visibility': 10000, 'pop': 0.97, 'rain': {'3h': 2.68}, 'sys': {'pod': 'n'}, 'dt_txt': '2023-09-21 21:00:00'}, {'dt': 1695340800, 'main': {'temp': 288, 'feels_like': 288.07, 'temp_min': 288, 'temp_max': 288, 'pressure': 995, 'sea_level': 995, 'grnd_level': 979, 'humidity': 97, 'temp_kf': 0}, 'weather': [{'id': 500, 'main': 'Rain', 'description': 'light rain', 'icon': '10n'}], 'clouds': {'all': 100}, 'wind': {'speed': 3.31, 'deg': 126, 'gust': 9.85}, 'visibility': 8719, 'pop': 1, 'rain': {'3h': 1.22}, 'sys': {'pod': 'n'}, 'dt_txt': '2023-09-22 00:00:00'}, {'dt': 1695351600, 'main': {'temp': 288.22, 'feels_like': 288.26, 'temp_min': 288.22, 'temp_max': 288.22, 'pressure': 993, 'sea_level': 993, 'grnd_level': 977, 'humidity': 95, 'temp_kf': 0}, 'weather': [{'id': 501, 'main': 'Rain', 'description': 'moderate rain', 'icon': '10n'}], 'clouds': {'all': 100}, 'wind': {'speed': 5.23, 'deg': 144, 'gust': 14.27}, 'visibility': 10000, 'pop': 1, 'rain': {'3h': 3.91}, 'sys': {'pod': 'n'}, 'dt_txt': '2023-09-22 03:00:00'}, {'dt': 1695362400, 'main': {'temp': 288.1, 'feels_like': 288.21, 'temp_min': 288.1, 'temp_max': 288.1, 'pressure': 992, 'sea_level': 992, 'grnd_level': 976, 'humidity': 98, 'temp_kf': 0}, 'weather': [{'id': 501, 'main': 'Rain', 'description': 'moderate rain', 'icon': '10d'}], 'clouds': {'all': 100}, 'wind': {'speed': 3.61, 'deg': 160, 'gust': 10.35}, 'visibility': 1133, 'pop': 1, 'rain': {'3h': 8.13}, 'sys': {'pod': 'd'}, 'dt_txt': '2023-09-22 06:00:00'}, {'dt': 1695373200, 'main': {'temp': 288.15, 'feels_like': 288.26, 'temp_min': 288.15, 'temp_max': 288.15, 'pressure': 993, 'sea_level': 993, 'grnd_level': 977, 'humidity': 98, 'temp_kf': 0}, 'weather': [{'id': 501, 'main': 'Rain', 'description': 'moderate rain', 'icon': '10d'}], 'clouds': {'all': 100}, 'wind': {'speed': 2.81, 'deg': 165, 'gust': 8.66}, 'visibility': 3152, 'pop': 1, 'rain': {'3h': 7.89}, 'sys': {'pod': 'd'}, 'dt_txt': '2023-09-22 09:00:00'}, {'dt': 1695384000, 'main': {'temp': 287.16, 'feels_like': 287.12, 'temp_min': 287.16, 'temp_max': 287.16, 'pressure': 994, 'sea_level': 994, 'grnd_level': 977, 'humidity': 96, 'temp_kf': 0}, 'weather': [{'id': 500, 'main': 'Rain', 'description': 'light rain', 'icon': '10d'}], 'clouds': {'all': 100}, 'wind': {'speed': 2.49, 'deg': 226, 'gust': 5.73}, 'visibility': 10000, 'pop': 1, 'rain': {'3h': 1.46}, 'sys': {'pod': 'd'}, 'dt_txt': '2023-09-22 12:00:00'}, {'dt': 1695394800, 'main': {'temp': 287.05, 'feels_like': 286.74, 'temp_min': 287.05, 'temp_max': 287.05, 'pressure': 995, 'sea_level': 995, 'grnd_level': 979, 'humidity': 86, 'temp_kf': 0}, 'weather': [{'id': 804, 'main': 'Clouds', 'description': 'overcast clouds', 'icon': '04d'}], 'clouds': {'all': 99}, 'wind': {'speed': 2, 'deg': 229, 'gust': 4.9}, 'visibility': 10000, 'pop': 0.26, 'sys': {'pod': 'd'}, 'dt_txt': '2023-09-22 15:00:00'}, {'dt': 1695405600, 'main': {'temp': 285.13, 'feels_like': 284.89, 'temp_min': 285.13, 'temp_max': 285.13, 'pressure': 997, 'sea_level': 997, 'grnd_level': 980, 'humidity': 96, 'temp_kf': 0}, 'weather': [{'id': 804, 'main': 'Clouds', 'description': 'overcast clouds', 'icon': '04n'}], 'clouds': {'all': 100}, 'wind': {'speed': 2.46, 'deg': 195, 'gust': 8.16}, 'visibility': 10000, 'pop': 0.14, 'sys': {'pod': 'n'}, 'dt_txt': '2023-09-22 18:00:00'}, {'dt': 1695416400, 'main': {'temp': 284.09, 'feels_like': 283.67, 'temp_min': 284.09, 'temp_max': 284.09, 'pressure': 998, 'sea_level': 998, 'grnd_level': 981, 'humidity': 93, 'temp_kf': 0}, 'weather': [{'id': 804, 'main': 'Clouds', 'description': 'overcast clouds', 'icon': '04n'}], 'clouds': {'all': 93}, 'wind': {'speed': 2.86, 'deg': 185, 'gust': 8.1}, 'visibility': 10000, 'pop': 0, 'sys': {'pod': 'n'}, 'dt_txt': '2023-09-22 21:00:00'}, {'dt': 1695427200, 'main': {'temp': 283.14, 'feels_like': 281.53, 'temp_min': 283.14, 'temp_max': 283.14, 'pressure': 999, 'sea_level': 999, 'grnd_level': 982, 'humidity': 92, 'temp_kf': 0}, 'weather': [{'id': 803, 'main': 'Clouds', 'description': 'broken clouds', 'icon': '04n'}], 'clouds': {'all': 73}, 'wind': {'speed': 3.22, 'deg': 195, 'gust': 9.71}, 'visibility': 10000, 'pop': 0, 'sys': {'pod': 'n'}, 'dt_txt': '2023-09-23 00:00:00'}, {'dt': 1695438000, 'main': {'temp': 282.53, 'feels_like': 281.49, 'temp_min': 282.53, 'temp_max': 282.53, 'pressure': 999, 'sea_level': 999, 'grnd_level': 983, 'humidity': 96, 'temp_kf': 0}, 'weather': [{'id': 800, 'main': 'Clear', 'description': 'clear sky', 'icon': '01n'}], 'clouds': {'all': 8}, 'wind': {'speed': 2.16, 'deg': 187, 'gust': 5.73}, 'visibility': 10000, 'pop': 0, 'sys': {'pod': 'n'}, 'dt_txt': '2023-09-23 03:00:00'}, {'dt': 1695448800, 'main': {'temp': 282.48, 'feels_like': 282.48, 'temp_min': 282.48, 'temp_max': 282.48, 'pressure': 1000, 'sea_level': 1000, 'grnd_level': 984, 'humidity': 98, 'temp_kf': 0}, 'weather': [{'id': 800, 'main': 'Clear', 'description': 'clear sky', 'icon': '01d'}], 'clouds': {'all': 9}, 'wind': {'speed': 1.17, 'deg': 150, 'gust': 3.08}, 'visibility': 10000, 'pop': 0, 'sys': {'pod': 'd'}, 'dt_txt': '2023-09-23 06:00:00'}, {'dt': 1695459600, 'main': {'temp': 286.6, 'feels_like': 286.19, 'temp_min': 286.6, 'temp_max': 286.6, 'pressure': 1000, 'sea_level': 1000, 'grnd_level': 984, 'humidity': 84, 'temp_kf': 0}, 'weather': [{'id': 500, 'main': 'Rain', 'description': 'light rain', 'icon': '10d'}], 'clouds': {'all': 67}, 'wind': {'speed': 1.85, 'deg': 170, 'gust': 3.69}, 'visibility': 10000, 'pop': 0.41, 'rain': {'3h': 0.3}, 'sys': {'pod': 'd'}, 'dt_txt': '2023-09-23 09:00:00'}, {'dt': 1695470400, 'main': {'temp': 286.9, 'feels_like': 286.55, 'temp_min': 286.9, 'temp_max': 286.9, 'pressure': 1000, 'sea_level': 1000, 'grnd_level': 983, 'humidity': 85, 'temp_kf': 0}, 'weather': [{'id': 501, 'main': 'Rain', 'description': 'moderate rain', 'icon': '10d'}], 'clouds': {'all': 83}, 'wind': {'speed': 1.62, 'deg': 152, 'gust': 3.27}, 'visibility': 6050, 'pop': 0.77, 'rain': {'3h': 3.79}, 'sys': {'pod': 'd'}, 'dt_txt': '2023-09-23 12:00:00'}, {'dt': 1695481200, 'main': {'temp': 286.48, 'feels_like': 286.19, 'temp_min': 286.48, 'temp_max': 286.48, 'pressure': 1000, 'sea_level': 1000, 'grnd_level': 983, 'humidity': 89, 'temp_kf': 0}, 'weather': [{'id': 501, 'main': 'Rain', 'description': 'moderate rain', 'icon': '10d'}], 'clouds': {'all': 100}, 'wind': {'speed': 1.38, 'deg': 246, 'gust': 2.41}, 'visibility': 8170, 'pop': 1, 'rain': {'3h': 4.37}, 'sys': {'pod': 'd'}, 'dt_txt': '2023-09-23 15:00:00'}, {'dt': 1695492000, 'main': {'temp': 283.98, 'feels_like': 283.6, 'temp_min': 283.98, 'temp_max': 283.98, 'pressure': 1002, 'sea_level': 1002, 'grnd_level': 985, 'humidity': 95, 'temp_kf': 0}, 'weather': [{'id': 500, 'main': 'Rain', 'description': 'light rain', 'icon': '10n'}], 'clouds': {'all': 100}, 'wind': {'speed': 1.87, 'deg': 225, 'gust': 3.81}, 'visibility': 10000, 'pop': 1, 'rain': {'3h': 1.48}, 'sys': {'pod': 'n'}, 'dt_txt': '2023-09-23 18:00:00'}, {'dt': 1695502800, 'main': {'temp': 282.14, 'feels_like': 281.82, 'temp_min': 282.14, 'temp_max': 282.14, 'pressure': 1004, 'sea_level': 1004, 'grnd_level': 987, 'humidity': 96, 'temp_kf': 0}, 'weather': [{'id': 803, 'main': 'Clouds', 'description': 'broken clouds', 'icon': '04n'}], 'clouds': {'all': 77}, 'wind': {'speed': 1.35, 'deg': 193, 'gust': 2.03}, 'visibility': 10000, 'pop': 0.15, 'sys': {'pod': 'n'}, 'dt_txt': '2023-09-23 21:00:00'}, {'dt': 1695513600, 'main': {'temp': 281.16, 'feels_like': 281.16, 'temp_min': 281.16, 'temp_max': 281.16, 'pressure': 1005, 'sea_level': 1005, 'grnd_level': 988, 'humidity': 97, 'temp_kf': 0}, 'weather': [{'id': 802, 'main': 'Clouds', 'description': 'scattered clouds', 'icon': '03n'}], 'clouds': {'all': 49}, 'wind': {'speed': 1.15, 'deg': 199, 'gust': 1.39}, 'visibility': 10000, 'pop': 0.06, 'sys': {'pod': 'n'}, 'dt_txt': '2023-09-24 00:00:00'}, {'dt': 1695524400, 'main': {'temp': 280.43, 'feels_like': 280.43, 'temp_min': 280.43, 'temp_max': 280.43, 'pressure': 1006, 'sea_level': 1006, 'grnd_level': 989, 'humidity': 96, 'temp_kf': 0}, 'weather': [{'id': 802, 'main': 'Clouds', 'description': 'scattered clouds', 'icon': '03n'}], 'clouds': {'all': 31}, 'wind': {'speed': 0.66, 'deg': 264, 'gust': 1.01}, 'visibility': 10000, 'pop': 0.01, 'sys': {'pod': 'n'}, 'dt_txt': '2023-09-24 03:00:00'}, {'dt': 1695535200, 'main': {'temp': 280.36, 'feels_like': 280.36, 'temp_min': 280.36, 'temp_max': 280.36, 'pressure': 1009, 'sea_level': 1009, 'grnd_level': 992, 'humidity': 94, 'temp_kf': 0}, 'weather': [{'id': 801, 'main': 'Clouds', 'description': 'few clouds', 'icon': '02d'}], 'clouds': {'all': 20}, 'wind': {'speed': 1.03, 'deg': 334, 'gust': 1.09}, 'visibility': 10000, 'pop': 0.01, 'sys': {'pod': 'd'}, 'dt_txt': '2023-09-24 06:00:00'}, {'dt': 1695546000, 'main': {'temp': 285.3, 'feels_like': 284.58, 'temp_min': 285.3, 'temp_max': 285.3, 'pressure': 1012, 'sea_level': 1012, 'grnd_level': 995, 'humidity': 77, 'temp_kf': 0}, 'weather': [{'id': 800, 'main': 'Clear', 'description': 'clear sky', 'icon': '01d'}], 'clouds': {'all': 5}, 'wind': {'speed': 1.04, 'deg': 305, 'gust': 1.8}, 'visibility': 10000, 'pop': 0, 'sys': {'pod': 'd'}, 'dt_txt': '2023-09-24 09:00:00'}, {'dt': 1695556800, 'main': {'temp': 288.42, 'feels_like': 287.62, 'temp_min': 288.42, 'temp_max': 288.42, 'pressure': 1014, 'sea_level': 1014, 'grnd_level': 997, 'humidity': 62, 'temp_kf': 0}, 'weather': [{'id': 800, 'main': 'Clear', 'description': 'clear sky', 'icon': '01d'}], 'clouds': {'all': 6}, 'wind': {'speed': 1.81, 'deg': 217, 'gust': 2.04}, 'visibility': 10000, 'pop': 0, 'sys': {'pod': 'd'}, 'dt_txt': '2023-09-24 12:00:00'}, {'dt': 1695567600, 'main': {'temp': 288.17, 'feels_like': 287.4, 'temp_min': 288.17, 'temp_max': 288.17, 'pressure': 1015, 'sea_level': 1015, 'grnd_level': 999, 'humidity': 64, 'temp_kf': 0}, 'weather': [{'id': 800, 'main': 'Clear', 'description': 'clear sky', 'icon': '01d'}], 'clouds': {'all': 7}, 'wind': {'speed': 2.32, 'deg': 186, 'gust': 3.97}, 'visibility': 10000, 'pop': 0, 'sys': {'pod': 'd'}, 'dt_txt': '2023-09-24 15:00:00'}, {'dt': 1695578400, 'main': {'temp': 283.59, 'feels_like': 283.01, 'temp_min': 283.59, 'temp_max': 283.59, 'pressure': 1016, 'sea_level': 1016, 'grnd_level': 999, 'humidity': 89, 'temp_kf': 0}, 'weather': [{'id': 803, 'main': 'Clouds', 'description': 'broken clouds', 'icon': '04n'}], 'clouds': {'all': 52}, 'wind': {'speed': 2.05, 'deg': 149, 'gust': 4.94}, 'visibility': 10000, 'pop': 0, 'sys': {'pod': 'n'}, 'dt_txt': '2023-09-24 18:00:00'}, {'dt': 1695589200, 'main': {'temp': 284.29, 'feels_like': 283.55, 'temp_min': 284.29, 'temp_max': 284.29, 'pressure': 1017, 'sea_level': 1017, 'grnd_level': 1000, 'humidity': 80, 'temp_kf': 0}, 'weather': [{'id': 804, 'main': 'Clouds', 'description': 'overcast clouds', 'icon': '04n'}], 'clouds': {'all': 100}, 'wind': {'speed': 4.83, 'deg': 191, 'gust': 12.55}, 'visibility': 10000, 'pop': 0, 'sys': {'pod': 'n'}, 'dt_txt': '2023-09-24 21:00:00'}, {'dt': 1695600000, 'main': {'temp': 285.36, 'feels_like': 285.01, 'temp_min': 285.36, 'temp_max': 285.36, 'pressure': 1017, 'sea_level': 1017, 'grnd_level': 1000, 'humidity': 91, 'temp_kf': 0}, 'weather': [{'id': 804, 'main': 'Clouds', 'description': 'overcast clouds', 'icon': '04n'}], 'clouds': {'all': 100}, 'wind': {'speed': 4.56, 'deg': 190, 'gust': 11.5}, 'visibility': 10000, 'pop': 0, 'sys': {'pod': 'n'}, 'dt_txt': '2023-09-25 00:00:00'}, {'dt': 1695610800, 'main': {'temp': 285.97, 'feels_like': 285.81, 'temp_min': 285.97, 'temp_max': 285.97, 'pressure': 1016, 'sea_level': 1016, 'grnd_level': 999, 'humidity': 96, 'temp_kf': 0}, 'weather': [{'id': 500, 'main': 'Rain', 'description': 'light rain', 'icon': '10n'}], 'clouds': {'all': 100}, 'wind': {'speed': 6.09, 'deg': 192, 'gust': 13.17}, 'visibility': 10000, 'pop': 0.8, 'rain': {'3h': 1.31}, 'sys': {'pod': 'n'}, 'dt_txt': '2023-09-25 03:00:00'}, {'dt': 1695621600, 'main': {'temp': 285.22, 'feels_like': 284.91, 'temp_min': 285.22, 'temp_max': 285.22, 'pressure': 1015, 'sea_level': 1015, 'grnd_level': 998, 'humidity': 93, 'temp_kf': 0}, 'weather': [{'id': 500, 'main': 'Rain', 'description': 'light rain', 'icon': '10d'}], 'clouds': {'all': 100}, 'wind': {'speed': 6.02, 'deg': 179, 'gust': 12.77}, 'visibility': 10000, 'pop': 0.77, 'rain': {'3h': 1.06}, 'sys': {'pod': 'd'}, 'dt_txt': '2023-09-25 06:00:00'}, {'dt': 1695632400, 'main': {'temp': 286.44, 'feels_like': 285.99, 'temp_min': 286.44, 'temp_max': 286.44, 'pressure': 1015, 'sea_level': 1015, 'grnd_level': 998, 'humidity': 83, 'temp_kf': 0}, 'weather': [{'id': 804, 'main': 'Clouds', 'description': 'overcast clouds', 'icon': '04d'}], 'clouds': {'all': 100}, 'wind': {'speed': 6.34, 'deg': 194, 'gust': 13.62}, 'visibility': 10000, 'pop': 0, 'sys': {'pod': 'd'}, 'dt_txt': '2023-09-25 09:00:00'}, {'dt': 1695643200, 'main': {'temp': 286.4, 'feels_like': 285.92, 'temp_min': 286.4, 'temp_max': 286.4, 'pressure': 1014, 'sea_level': 1014, 'grnd_level': 997, 'humidity': 82, 'temp_kf': 0}, 'weather': [{'id': 500, 'main': 'Rain', 'description': 'light rain', 'icon': '10d'}], 'clouds': {'all': 100}, 'wind': {'speed': 6.44, 'deg': 192, 'gust': 12.67}, 'visibility': 10000, 'pop': 0.2, 'rain': {'3h': 0.16}, 'sys': {'pod': 'd'}, 'dt_txt': '2023-09-25 12:00:00'}, {'dt': 1695654000, 'main': {'temp': 286.48, 'feels_like': 285.98, 'temp_min': 286.48, 'temp_max': 286.48, 'pressure': 1014, 'sea_level': 1014, 'grnd_level': 997, 'humidity': 81, 'temp_kf': 0}, 'weather': [{'id': 804, 'main': 'Clouds', 'description': 'overcast clouds', 'icon': '04d'}], 'clouds': {'all': 100}, 'wind': {'speed': 5.65, 'deg': 191, 'gust': 12.72}, 'visibility': 10000, 'pop': 0, 'sys': {'pod': 'd'}, 'dt_txt': '2023-09-25 15:00:00'}, {'dt': 1695664800, 'main': {'temp': 285.95, 'feels_like': 285.69, 'temp_min': 285.95, 'temp_max': 285.95, 'pressure': 1014, 'sea_level': 1014, 'grnd_level': 997, 'humidity': 92, 'temp_kf': 0}, 'weather': [{'id': 500, 'main': 'Rain', 'description': 'light rain', 'icon': '10n'}], 'clouds': {'all': 100}, 'wind': {'speed': 4.78, 'deg': 183, 'gust': 11.94}, 'visibility': 10000, 'pop': 0.3, 'rain': {'3h': 0.16}, 'sys': {'pod': 'n'}, 'dt_txt': '2023-09-25 18:00:00'}, {'dt': 1695675600, 'main': {'temp': 286.58, 'feels_like': 286.49, 'temp_min': 286.58, 'temp_max': 286.58, 'pressure': 1014, 'sea_level': 1014, 'grnd_level': 998, 'humidity': 96, 'temp_kf': 0}, 'weather': [{'id': 500, 'main': 'Rain', 'description': 'light rain', 'icon': '10n'}], 'clouds': {'all': 100}, 'wind': {'speed': 4.36, 'deg': 191, 'gust': 10.6}, 'visibility': 10000, 'pop': 0.36, 'rain': {'3h': 0.25}, 'sys': {'pod': 'n'}, 'dt_txt': '2023-09-25 21:00:00'}, {'dt': 1695686400, 'main': {'temp': 286.92, 'feels_like': 286.78, 'temp_min': 286.92, 'temp_max': 286.92, 'pressure': 1015, 'sea_level': 1015, 'grnd_level': 998, 'humidity': 93, 'temp_kf': 0}, 'weather': [{'id': 500, 'main': 'Rain', 'description': 'light rain', 'icon': '10n'}], 'clouds': {'all': 100}, 'wind': {'speed': 4.31, 'deg': 192, 'gust': 9.96}, 'visibility': 10000, 'pop': 0.33, 'rain': {'3h': 0.2}, 'sys': {'pod': 'n'}, 'dt_txt': '2023-09-26 00:00:00'}, {'dt': 1695697200, 'main': {'temp': 286.62, 'feels_like': 286.35, 'temp_min': 286.62, 'temp_max': 286.62, 'pressure': 1014, 'sea_level': 1014, 'grnd_level': 998, 'humidity': 89, 'temp_kf': 0}, 'weather': [{'id': 804, 'main': 'Clouds', 'description': 'overcast clouds', 'icon': '04n'}], 'clouds': {'all': 97}, 'wind': {'speed': 4.31, 'deg': 190, 'gust': 9.5}, 'visibility': 10000, 'pop': 0.13, 'sys': {'pod': 'n'}, 'dt_txt': '2023-09-26 03:00:00'}, {'dt': 1695708000, 'main': {'temp': 285.54, 'feels_like': 285.37, 'temp_min': 285.54, 'temp_max': 285.54, 'pressure': 1015, 'sea_level': 1015, 'grnd_level': 998, 'humidity': 97, 'temp_kf': 0}, 'weather': [{'id': 803, 'main': 'Clouds', 'description': 'broken clouds', 'icon': '04d'}], 'clouds': {'all': 81}, 'wind': {'speed': 3.5, 'deg': 179, 'gust': 9.71}, 'visibility': 10000, 'pop': 0.08, 'sys': {'pod': 'd'}, 'dt_txt': '2023-09-26 06:00:00'}, {'dt': 1695718800, 'main': {'temp': 288.27, 'feels_like': 287.93, 'temp_min': 288.27, 'temp_max': 288.27, 'pressure': 1016, 'sea_level': 1016, 'grnd_level': 999, 'humidity': 80, 'temp_kf': 0}, 'weather': [{'id': 500, 'main': 'Rain', 'description': 'light rain', 'icon': '10d'}], 'clouds': {'all': 37}, 'wind': {'speed': 3.9, 'deg': 191, 'gust': 7.46}, 'visibility': 10000, 'pop': 0.28, 'rain': {'3h': 0.1}, 'sys': {'pod': 'd'}, 'dt_txt': '2023-09-26 09:00:00'}, {'dt': 1695729600, 'main': {'temp': 288.95, 'feels_like': 288.54, 'temp_min': 288.95, 'temp_max': 288.95, 'pressure': 1016, 'sea_level': 1016, 'grnd_level': 999, 'humidity': 75, 'temp_kf': 0}, 'weather': [{'id': 500, 'main': 'Rain', 'description': 'light rain', 'icon': '10d'}], 'clouds': {'all': 59}, 'wind': {'speed': 4.22, 'deg': 183, 'gust': 6.44}, 'visibility': 10000, 'pop': 0.2, 'rain': {'3h': 0.15}, 'sys': {'pod': 'd'}, 'dt_txt': '2023-09-26 12:00:00'}], 'city': {'id': 3139081, 'name': 'Ski', 'coord': {'lat': 59.7195, 'lon': 10.8358}, 'country': 'NO', 'population': 12513, 'timezone': 7200, 'sunrise': 1695272257, 'sunset': 1695316937}}\")\n"
     ]
    }
   ],
   "source": [
    "# Query the data\n",
    "forecast_rows = session.execute(\"SELECT * FROM forecast_table;\")\n",
    "print(forecast_rows.one()) # <- only one row"
   ]
  },
  {
   "cell_type": "markdown",
   "metadata": {
    "slideshow": {
     "slide_type": "slide"
    }
   },
   "source": [
    "## Resources\n",
    "- [Cassandra webpage](https://cassandra.apache.org/)\n",
    "- [Cassandra Docker file](https://hub.docker.com/_/cassandra)\n",
    "- [UUID functions](https://docs.datastax.com/en/cql-oss/3.3/cql/cql_reference/timeuuid_functions_r.html)\n",
    "- [YouTube: Cassandra in 100 seconds](https://youtu.be/ziq7FUKpCS8?si=WQUdkHFvaBmT0DBo) (2m:26s)\n",
    "- [YouTube: How to use Apache Cassandra in Python](https://youtu.be/qMauZqJH3ZM?si=yKGZ-5cld2BK396Y) (14m:50s)\n",
    "- [YouTube: Cassandra Database Crash Course](https://youtu.be/KZsVSfQVU4I?si=FBCi8qOfCirfVmZk) (19m:47s)"
   ]
  }
 ],
 "metadata": {
  "celltoolbar": "Slideshow",
  "kernelspec": {
   "display_name": "Python 3 (ipykernel)",
   "language": "python",
   "name": "python3"
  },
  "language_info": {
   "codemirror_mode": {
    "name": "ipython",
    "version": 3
   },
   "file_extension": ".py",
   "mimetype": "text/x-python",
   "name": "python",
   "nbconvert_exporter": "python",
   "pygments_lexer": "ipython3",
   "version": "3.10.6"
  }
 },
 "nbformat": 4,
 "nbformat_minor": 2
}