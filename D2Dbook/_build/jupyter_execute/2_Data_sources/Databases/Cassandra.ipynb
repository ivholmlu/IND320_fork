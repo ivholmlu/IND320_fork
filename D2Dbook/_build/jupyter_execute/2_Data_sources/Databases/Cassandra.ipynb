{
 "cells": [
  {
   "cell_type": "markdown",
   "metadata": {
    "slideshow": {
     "slide_type": "slide"
    }
   },
   "source": [
    "# Cassandra\n",
    "- A production grade NoSQL database.\n",
    "- Can be distributed across servers, nodes, etc.\n",
    "- Replication of database is supported for high degree of redundancy and speed.\n",
    "- Uses CQL, a subset of SQL for querying.\n",
    "- Works seamlesly together with Spark and its corresponding distributed structure.\n",
    "- Installation of Cassandra is explained in the [Installation chapter](../../6_Appendix/Installation.ipynb)."
   ]
  },
  {
   "cell_type": "markdown",
   "metadata": {
    "slideshow": {
     "slide_type": "slide"
    }
   },
   "source": [
    "## Spinning up a local Cassandra instance\n",
    "In a terminal, first time:  \n",
    "```docker run --name my_cassandra -p 9042:9042 cassandra:latest```  \n",
    "... and later:  \n",
    "```docker start my_cassandra```  \n",
    "  \n",
    ".. or in Docker Desktop:\n",
    "- Run the cassandra docker image with optional settings, opening 9042 port and setting a name.\n",
    "- Later, simply run the container with the name you chose."
   ]
  },
  {
   "cell_type": "markdown",
   "metadata": {
    "slideshow": {
     "slide_type": "slide"
    }
   },
   "source": [
    "<img src=\"../../images/Docker_images.png\" width=\"600px\">  "
   ]
  },
  {
   "cell_type": "markdown",
   "metadata": {
    "slideshow": {
     "slide_type": "slide"
    }
   },
   "source": [
    "\n",
    "<img src=\"../../images/Docker_containers.png\" width=\"800px\">  "
   ]
  },
  {
   "cell_type": "markdown",
   "metadata": {
    "slideshow": {
     "slide_type": "slide"
    }
   },
   "source": [
    "### Connect to the Cassandra cluster from Python."
   ]
  },
  {
   "cell_type": "code",
   "execution_count": 1,
   "metadata": {
    "slideshow": {
     "slide_type": "-"
    }
   },
   "outputs": [],
   "source": [
    "# Connecting to Cassandra\n",
    "from cassandra.cluster import Cluster\n",
    "cluster = Cluster(['localhost'], port=9042)\n",
    "session = cluster.connect()"
   ]
  },
  {
   "cell_type": "markdown",
   "metadata": {
    "slideshow": {
     "slide_type": "slide"
    }
   },
   "source": [
    "### Keyspace\n",
    "- In Cassandra database tables are stored in keyspaces (basically a distributed database).\n",
    "- These have parameters controlling their distribution on nodes/servers and redundancy.\n",
    "- We will use the simplest form locally."
   ]
  },
  {
   "cell_type": "code",
   "execution_count": 2,
   "metadata": {
    "slideshow": {
     "slide_type": "fragment"
    }
   },
   "outputs": [
    {
     "data": {
      "text/plain": [
       "<cassandra.cluster.ResultSet at 0x10754e110>"
      ]
     },
     "execution_count": 2,
     "metadata": {},
     "output_type": "execute_result"
    }
   ],
   "source": [
    "# Set up new keyspace (first time only)\n",
    "#                                              name of keyspace                        replication strategy           replication factor\n",
    "session.execute(\"CREATE KEYSPACE IF NOT EXISTS my_first_keyspace WITH REPLICATION = { 'class' : 'SimpleStrategy', 'replication_factor' : 1 };\")"
   ]
  },
  {
   "cell_type": "markdown",
   "metadata": {
    "slideshow": {
     "slide_type": "slide"
    }
   },
   "source": [
    "### Create a table\n",
    "- IF NOT EXISTS makes sure we do not overwrite existing tables"
   ]
  },
  {
   "cell_type": "code",
   "execution_count": 3,
   "metadata": {
    "slideshow": {
     "slide_type": "fragment"
    }
   },
   "outputs": [
    {
     "data": {
      "text/plain": [
       "<cassandra.cluster.ResultSet at 0x1071918a0>"
      ]
     },
     "execution_count": 3,
     "metadata": {},
     "output_type": "execute_result"
    }
   ],
   "source": [
    "# Create a new table (first time only)\n",
    "session.set_keyspace('my_first_keyspace')\n",
    "session.execute(\"DROP TABLE IF EXISTS my_first_keyspace.my_first_table;\") # Starting from scratch every time\n",
    "session.execute(\"CREATE TABLE IF NOT EXISTS my_first_table (ind int PRIMARY KEY, company text, model text);\")"
   ]
  },
  {
   "cell_type": "markdown",
   "metadata": {
    "slideshow": {
     "slide_type": "slide"
    }
   },
   "source": [
    "### Inserting and reading data"
   ]
  },
  {
   "cell_type": "code",
   "execution_count": 4,
   "metadata": {
    "slideshow": {
     "slide_type": "-"
    }
   },
   "outputs": [
    {
     "data": {
      "text/plain": [
       "<cassandra.cluster.ResultSet at 0x107174400>"
      ]
     },
     "execution_count": 4,
     "metadata": {},
     "output_type": "execute_result"
    }
   ],
   "source": [
    "# Insert some data (ind is the primary key, must be unique)\n",
    "session.execute(\"INSERT INTO my_first_table (ind, company, model) VALUES (1, 'Tesla', 'Model S');\")\n",
    "session.execute(\"INSERT INTO my_first_table (ind, company, model) VALUES (2, 'Tesla', 'Model 3');\")\n",
    "session.execute(\"INSERT INTO my_first_table (ind, company, model) VALUES (3, 'Polestar', '3');\")"
   ]
  },
  {
   "cell_type": "markdown",
   "metadata": {
    "slideshow": {
     "slide_type": "slide"
    }
   },
   "source": [
    "### Asyncronous writing\n",
    "- If your application is very data intensive, waiting for a response is not productive.\n",
    "- Writing asyncronously sends the data but does not pause for reply."
   ]
  },
  {
   "cell_type": "code",
   "execution_count": 5,
   "metadata": {
    "slideshow": {
     "slide_type": "-"
    }
   },
   "outputs": [
    {
     "data": {
      "text/plain": [
       "<ResponseFuture: query='<SimpleStatement query=\"INSERT INTO my_first_table (ind, company, model) VALUES (4, 'Volkswagen', 'ID.4');\", consistency=Not Set>' request_id=24 result=(no result yet) exception=None coordinator_host=None>"
      ]
     },
     "execution_count": 5,
     "metadata": {},
     "output_type": "execute_result"
    }
   ],
   "source": [
    "session.execute_async(\"INSERT INTO my_first_table (ind, company, model) VALUES (4, 'Volkswagen', 'ID.4');\")"
   ]
  },
  {
   "cell_type": "code",
   "execution_count": 6,
   "metadata": {
    "slideshow": {
     "slide_type": "slide"
    }
   },
   "outputs": [
    {
     "name": "stdout",
     "output_type": "stream",
     "text": [
      "Row(ind=1, company='Tesla', model='Model S')\n",
      "Row(ind=2, company='Tesla', model='Model 3')\n",
      "Row(ind=4, company='Volkswagen', model='ID.4')\n",
      "Row(ind=3, company='Polestar', model='3')\n"
     ]
    }
   ],
   "source": [
    "# Query the data\n",
    "rows = session.execute(\"SELECT * FROM my_first_table;\")\n",
    "for i in rows:\n",
    "    print(i)"
   ]
  },
  {
   "cell_type": "code",
   "execution_count": 7,
   "metadata": {
    "slideshow": {
     "slide_type": "slide"
    },
    "tags": [
     "raises-exception"
    ]
   },
   "outputs": [
    {
     "ename": "InvalidRequest",
     "evalue": "Error from server: code=2200 [Invalid query] message=\"Cannot execute this query as it might involve data filtering and thus may have unpredictable performance. If you want to execute this query despite the performance unpredictability, use ALLOW FILTERING\"",
     "output_type": "error",
     "traceback": [
      "\u001b[0;31m---------------------------------------------------------------------------\u001b[0m",
      "\u001b[0;31mInvalidRequest\u001b[0m                            Traceback (most recent call last)",
      "Cell \u001b[0;32mIn [7], line 2\u001b[0m\n\u001b[1;32m      1\u001b[0m \u001b[38;5;66;03m# More specific query\u001b[39;00m\n\u001b[0;32m----> 2\u001b[0m prepared_statement \u001b[38;5;241m=\u001b[39m \u001b[43msession\u001b[49m\u001b[38;5;241;43m.\u001b[39;49m\u001b[43mprepare\u001b[49m\u001b[43m(\u001b[49m\u001b[38;5;124;43m\"\u001b[39;49m\u001b[38;5;124;43mSELECT * FROM my_first_table WHERE company=?;\u001b[39;49m\u001b[38;5;124;43m\"\u001b[39;49m\u001b[43m)\u001b[49m \u001b[38;5;66;03m# <- will fail as company is not a key\u001b[39;00m\n\u001b[1;32m      3\u001b[0m teslas \u001b[38;5;241m=\u001b[39m session\u001b[38;5;241m.\u001b[39mexecute(prepared_statement, [\u001b[38;5;124m'\u001b[39m\u001b[38;5;124mTesla\u001b[39m\u001b[38;5;124m'\u001b[39m])\n\u001b[1;32m      4\u001b[0m \u001b[38;5;28;01mfor\u001b[39;00m i \u001b[38;5;129;01min\u001b[39;00m teslas:\n",
      "File \u001b[0;32m~/miniforge3/envs/tf_M1/lib/python3.10/site-packages/cassandra/cluster.py:3088\u001b[0m, in \u001b[0;36mSession.prepare\u001b[0;34m(self, query, custom_payload, keyspace)\u001b[0m\n\u001b[1;32m   3086\u001b[0m \u001b[38;5;28;01mtry\u001b[39;00m:\n\u001b[1;32m   3087\u001b[0m     future\u001b[38;5;241m.\u001b[39msend_request()\n\u001b[0;32m-> 3088\u001b[0m     response \u001b[38;5;241m=\u001b[39m \u001b[43mfuture\u001b[49m\u001b[38;5;241;43m.\u001b[39;49m\u001b[43mresult\u001b[49m\u001b[43m(\u001b[49m\u001b[43m)\u001b[49m\u001b[38;5;241m.\u001b[39mone()\n\u001b[1;32m   3089\u001b[0m \u001b[38;5;28;01mexcept\u001b[39;00m \u001b[38;5;167;01mException\u001b[39;00m:\n\u001b[1;32m   3090\u001b[0m     log\u001b[38;5;241m.\u001b[39mexception(\u001b[38;5;124m\"\u001b[39m\u001b[38;5;124mError preparing query:\u001b[39m\u001b[38;5;124m\"\u001b[39m)\n",
      "File \u001b[0;32m~/miniforge3/envs/tf_M1/lib/python3.10/site-packages/cassandra/cluster.py:4920\u001b[0m, in \u001b[0;36mResponseFuture.result\u001b[0;34m(self)\u001b[0m\n\u001b[1;32m   4918\u001b[0m     \u001b[38;5;28;01mreturn\u001b[39;00m ResultSet(\u001b[38;5;28mself\u001b[39m, \u001b[38;5;28mself\u001b[39m\u001b[38;5;241m.\u001b[39m_final_result)\n\u001b[1;32m   4919\u001b[0m \u001b[38;5;28;01melse\u001b[39;00m:\n\u001b[0;32m-> 4920\u001b[0m     \u001b[38;5;28;01mraise\u001b[39;00m \u001b[38;5;28mself\u001b[39m\u001b[38;5;241m.\u001b[39m_final_exception\n",
      "\u001b[0;31mInvalidRequest\u001b[0m: Error from server: code=2200 [Invalid query] message=\"Cannot execute this query as it might involve data filtering and thus may have unpredictable performance. If you want to execute this query despite the performance unpredictability, use ALLOW FILTERING\""
     ]
    }
   ],
   "source": [
    "# More specific query\n",
    "prepared_statement = session.prepare(\"SELECT * FROM my_first_table WHERE company=?;\") # <- will fail as company is not a key\n",
    "teslas = session.execute(prepared_statement, ['Tesla'])\n",
    "for i in teslas:\n",
    "    print(i)"
   ]
  },
  {
   "cell_type": "markdown",
   "metadata": {
    "slideshow": {
     "slide_type": "slide"
    }
   },
   "source": [
    "## Cassandra filtering\n",
    "Cassandra is inherently a distributed production database. Selecting as above may require downloading all data from a node, then filtering based on the WHERE part (only PRIMARY KEYs are centrally known). Solutions:  \n",
    "- If the table is small or most of the data will satisfy the query, add ```ALLOW FILTERING``` at the end of the query (not recommended if not known). \n",
    "- Or make sure the WHERE clause points to one of the keys (see below)."
   ]
  },
  {
   "cell_type": "code",
   "execution_count": 8,
   "metadata": {
    "slideshow": {
     "slide_type": "slide"
    }
   },
   "outputs": [
    {
     "data": {
      "text/plain": [
       "<cassandra.cluster.ResultSet at 0x10718f1f0>"
      ]
     },
     "execution_count": 8,
     "metadata": {},
     "output_type": "execute_result"
    }
   ],
   "source": [
    "# Create a new table (observe keys)\n",
    "session.execute(\"DROP TABLE IF EXISTS my_first_keyspace.car_table;\")\n",
    "session.execute(\"CREATE TABLE IF NOT EXISTS car_table (company text, model text, PRIMARY KEY(company, model));\")"
   ]
  },
  {
   "cell_type": "code",
   "execution_count": 9,
   "metadata": {
    "slideshow": {
     "slide_type": "fragment"
    }
   },
   "outputs": [
    {
     "data": {
      "text/plain": [
       "<cassandra.cluster.ResultSet at 0x12209a6b0>"
      ]
     },
     "execution_count": 9,
     "metadata": {},
     "output_type": "execute_result"
    }
   ],
   "source": [
    "# Insert some data (combination of company and model must be unique)\n",
    "session.execute(\"INSERT INTO car_table (company, model) VALUES ('Tesla', 'Model S');\")\n",
    "session.execute(\"INSERT INTO car_table (company, model) VALUES ('Tesla', 'Model 3');\")\n",
    "session.execute(\"INSERT INTO car_table (company, model) VALUES ('Polestar', '3');\")\n",
    "session.execute(\"INSERT INTO car_table (company, model) VALUES ('Volkswagen', 'ID.4');\")"
   ]
  },
  {
   "cell_type": "code",
   "execution_count": 10,
   "metadata": {
    "slideshow": {
     "slide_type": "slide"
    }
   },
   "outputs": [
    {
     "name": "stdout",
     "output_type": "stream",
     "text": [
      "Row(company='Tesla', model='Model 3')\n",
      "Row(company='Tesla', model='Model S')\n"
     ]
    }
   ],
   "source": [
    "# More specific query now works\n",
    "prepared_statement = session.prepare(\"SELECT * FROM car_table WHERE company=?;\")\n",
    "teslas = session.execute(prepared_statement, ['Tesla'])\n",
    "for i in teslas:\n",
    "    print(i)"
   ]
  },
  {
   "cell_type": "markdown",
   "metadata": {
    "slideshow": {
     "slide_type": "slide"
    }
   },
   "source": [
    "### Partitions\n",
    "- Cassandra databases are usually replicated over different nodes.\n",
    "- Data is stored in partitions (subsets) which have local copys.\n",
    "- The primary key, e.g., PRIMARY KEY(company, model), is used in partitioning.\n",
    "    - The first part, e.g., company, is most important.\n",
    "    - All cars from a company will be located together, aiming for quicker queries."
   ]
  },
  {
   "cell_type": "markdown",
   "metadata": {
    "slideshow": {
     "slide_type": "slide"
    }
   },
   "source": [
    "### Unique IDs \n",
    "- In MySQL one could use the attribute AUTO_INCREMENT on integer IDs to automatically make a new unique index when inserting data.\n",
    "- This would cause unreasonable overhead in a distributed database.\n",
    "- [UUID](https://en.wikipedia.org/wiki/Universally_unique_identifier)s are used instead.\n",
    "    - Universally Unique Identifiers are typically 128-bit random bit sequences with extremely low probability of duplication.\n",
    "    - Cassandra uses a [timeuuid](https://docs.datastax.com/en/cql-oss/3.3/cql/cql_reference/timeuuid_functions_r.html) type to combine a timestamp and uuid in one."
   ]
  },
  {
   "cell_type": "code",
   "execution_count": 11,
   "metadata": {
    "slideshow": {
     "slide_type": "fragment"
    }
   },
   "outputs": [
    {
     "data": {
      "text/plain": [
       "<cassandra.cluster.ResultSet at 0x10718d000>"
      ]
     },
     "execution_count": 11,
     "metadata": {},
     "output_type": "execute_result"
    }
   ],
   "source": [
    "# Create a new table (first time only)\n",
    "session.set_keyspace('my_first_keyspace')\n",
    "session.execute(\"DROP TABLE IF EXISTS my_first_keyspace.table_with_uuid;\")\n",
    "session.execute(\"CREATE TABLE IF NOT EXISTS table_with_uuid (id timeuuid PRIMARY KEY, company text, model text, price float);\")"
   ]
  },
  {
   "cell_type": "code",
   "execution_count": 12,
   "metadata": {
    "slideshow": {
     "slide_type": "slide"
    }
   },
   "outputs": [
    {
     "data": {
      "text/plain": [
       "<cassandra.cluster.ResultSet at 0x12209bdc0>"
      ]
     },
     "execution_count": 12,
     "metadata": {},
     "output_type": "execute_result"
    }
   ],
   "source": [
    "session.execute(\"INSERT INTO table_with_uuid (id, company, model, price) VALUES (now(), 'Tesla', 'Model S', 20000.0);\")\n",
    "session.execute(\"INSERT INTO table_with_uuid (id, company, model, price) VALUES (now(), 'Tesla', 'Model S', 21000.0);\")\n",
    "session.execute(\"INSERT INTO table_with_uuid (id, company, model, price) VALUES (now(), 'Oldsmobile', 'Model 6C', 135000.0);\")"
   ]
  },
  {
   "cell_type": "code",
   "execution_count": 13,
   "metadata": {
    "slideshow": {
     "slide_type": "slide"
    }
   },
   "outputs": [
    {
     "name": "stdout",
     "output_type": "stream",
     "text": [
      "Row(id=UUID('83bb2bc0-5df0-11ee-8b2f-4f23491759a5'), company='Tesla', model='Model S', price=20000.0)\n",
      "Datetime: 2023-09-28 11:16:47.868000\n",
      "Row(id=UUID('83bba0f0-5df0-11ee-8b2f-4f23491759a5'), company='Oldsmobile', model='Model 6C', price=135000.0)\n",
      "Datetime: 2023-09-28 11:16:47.871000\n",
      "Row(id=UUID('83bb52d0-5df0-11ee-8b2f-4f23491759a5'), company='Tesla', model='Model S', price=21000.0)\n",
      "Datetime: 2023-09-28 11:16:47.869000\n"
     ]
    }
   ],
   "source": [
    "from cassandra.util import datetime_from_uuid1\n",
    "\n",
    "# Query the data\n",
    "rows = session.execute(\"SELECT * FROM table_with_uuid;\")\n",
    "for i in rows:\n",
    "    print(i)\n",
    "    # Extract the timestamp from Cassandra's timeuuid\n",
    "    print(\"Datetime:\", datetime_from_uuid1(i.id))"
   ]
  },
  {
   "cell_type": "markdown",
   "metadata": {
    "slideshow": {
     "slide_type": "slide"
    }
   },
   "source": [
    "## JSON in Cassandra\n",
    "### Read previously saved JSON file forecast.json to memory"
   ]
  },
  {
   "cell_type": "code",
   "execution_count": 14,
   "metadata": {
    "slideshow": {
     "slide_type": "-"
    }
   },
   "outputs": [],
   "source": [
    "import json\n",
    "with open('../APIs/downloads/forecast.json', 'r') as f:\n",
    "    forecast = json.load(f)"
   ]
  },
  {
   "cell_type": "code",
   "execution_count": 15,
   "metadata": {
    "slideshow": {
     "slide_type": "slide"
    }
   },
   "outputs": [
    {
     "data": {
      "text/plain": [
       "\"{'cod': '200', 'message': 0, 'cnt': 40, 'list': [{'dt': 1695902400, 'main': {'temp': 286.54, 'feels_like': 286.49, 'temp_min': 284.42, 'temp_max': 286.54, 'pressure': 1010, 'sea_level': 1010, 'grnd_level': 992, 'humidity': 98, 'temp_kf': 2.12}, 'weather': [{'id': 500, 'main': 'Rain', 'description': 'light rain', 'icon': '10d'}], 'clouds': {'all': 100}, 'wind': {'speed': 1.02, 'deg': 113, 'gust': 3.2}, 'visibility': 1897, 'pop': 0.98, 'rain': {'3h': 1.14}, 'sys': {'pod': 'd'}, 'dt_txt': '2023-09-28 12:00:00'}, {'dt': 1695913200, 'main': {'temp': 285.91, 'feels_like': 285.83, 'temp_min': 284.65, 'temp_max': 285.91, 'pressure': 1010, 'sea_level': 1010, 'grnd_level': 990, 'humidity': 99, 'temp_kf': 1.26}, 'weather': [{'id': 500, 'main': 'Rain', 'description': 'light rain', 'icon': '10d'}], 'clouds': {'all': 100}, 'wind': {'speed': 0.57, 'deg': 135, 'gust': 1.38}, 'visibility': 4066, 'pop': 0.58, 'rain': {'3h': 0.51}, 'sys': {'pod': 'd'}, 'dt_txt': '2023-09-28 15:00:00'}, {'dt': 1695924000, 'main': {'temp': 285.46, 'feels_like': 285.33, 'temp_min': 284.92, 'temp_max': 285.46, 'pressure': 1009, 'sea_level': 1009, 'grnd_level': 991, 'humidity': 99, 'temp_kf': 0.54}, 'weather': [{'id': 804, 'main': 'Clouds', 'description': 'overcast clouds', 'icon': '04n'}], 'clouds': {'all': 100}, 'wind': {'speed': 0.95, 'deg': 239, 'gust': 1.47}, 'visibility': 7777, 'pop': 0.2, 'sys': {'pod': 'n'}, 'dt_txt': '2023-09-28 18:00:00'}, {'dt': 1695934800, 'main': {'temp': 285.13, 'feels_like': 284.92, 'temp_min': 285.13, 'temp_max': 285.13, 'pressure': 1009, 'sea_level': 1009, 'grnd_level': 991, 'humidity': 97, 'temp_kf': 0}, 'weather': [{'id': 804, 'main': 'Clouds', 'description': 'overcast clouds', 'icon': '04n'}], 'clouds': {'all': 98}, 'wind': {'speed': 0.16, 'deg': 235, 'gust': 0.55}, 'visibility': 10000, 'pop': 0, 'sys': {'pod': 'n'}, 'dt_txt': '2023-09-28 21:00:00'}, {'dt': 1695945600, 'main': {'temp': 284.74, 'feels_like': 284.54, 'temp_min': 284.74, 'temp_max': 284.74, 'pressure': 1009, 'sea_level': 1009, 'grnd_level': 991, 'humidity': 99, 'temp_kf': 0}, 'weather': [{'id': 804, 'main': 'Clouds', 'description': 'overcast clouds', 'icon': '04n'}], 'clouds': {'all': 99}, 'wind': {'speed': 0.49, 'deg': 251, 'gust': 0.57}, 'visibility': 10000, 'pop': 0, 'sys': {'pod': 'n'}, 'dt_txt': '2023-09-29 00:00:00'}, {'dt': 1695956400, 'main': {'temp': 284.2, 'feels_like': 283.92, 'temp_min': 284.2, 'temp_max': 284.2, 'pressure': 1008, 'sea_level': 1008, 'grnd_level': 990, 'humidity': 98, 'temp_kf': 0}, 'weather': [{'id': 804, 'main': 'Clouds', 'description': 'overcast clouds', 'icon': '04n'}], 'clouds': {'all': 100}, 'wind': {'speed': 1.06, 'deg': 212, 'gust': 1.18}, 'visibility': 10000, 'pop': 0, 'sys': {'pod': 'n'}, 'dt_txt': '2023-09-29 03:00:00'}, {'dt': 1695967200, 'main': {'temp': 283.86, 'feels_like': 283.52, 'temp_min': 283.86, 'temp_max': 283.86, 'pressure': 1008, 'sea_level': 1008, 'grnd_level': 990, 'humidity': 97, 'temp_kf': 0}, 'weather': [{'id': 804, 'main': 'Clouds', 'description': 'overcast clouds', 'icon': '04d'}], 'clouds': {'all': 100}, 'wind': {'speed': 1.45, 'deg': 188, 'gust': 2.44}, 'visibility': 10000, 'pop': 0, 'sys': {'pod': 'd'}, 'dt_txt': '2023-09-29 06:00:00'}, {'dt': 1695978000, 'main': {'temp': 285.67, 'feels_like': 285.25, 'temp_min': 285.67, 'temp_max': 285.67, 'pressure': 1007, 'sea_level': 1007, 'grnd_level': 990, 'humidity': 87, 'temp_kf': 0}, 'weather': [{'id': 804, 'main': 'Clouds', 'description': 'overcast clouds', 'icon': '04d'}], 'clouds': {'all': 100}, 'wind': {'speed': 1.74, 'deg': 192, 'gust': 2.81}, 'visibility': 10000, 'pop': 0, 'sys': {'pod': 'd'}, 'dt_txt': '2023-09-29 09:00:00'}, {'dt': 1695988800, 'main': {'temp': 288.43, 'feels_like': 287.82, 'temp_min': 288.43, 'temp_max': 288.43, 'pressure': 1006, 'sea_level': 1006, 'grnd_level': 989, 'humidity': 69, 'temp_kf': 0}, 'weather': [{'id': 804, 'main': 'Clouds', 'description': 'overcast clouds', 'icon': '04d'}], 'clouds': {'all': 90}, 'wind': {'speed': 2.37, 'deg': 187, 'gust': 4.34}, 'visibility': 10000, 'pop': 0, 'sys': {'pod': 'd'}, 'dt_txt': '2023-09-29 12:00:00'}, {'dt': 1695999600, 'main': {'temp': 287.5, 'feels_like': 287, 'temp_min': 287.5, 'temp_max': 287.5, 'pressure': 1005, 'sea_level': 1005, 'grnd_level': 988, 'humidity': 77, 'temp_kf': 0}, 'weather': [{'id': 804, 'main': 'Clouds', 'description': 'overcast clouds', 'icon': '04d'}], 'clouds': {'all': 87}, 'wind': {'speed': 2.4, 'deg': 196, 'gust': 4.9}, 'visibility': 10000, 'pop': 0, 'sys': {'pod': 'd'}, 'dt_txt': '2023-09-29 15:00:00'}, {'dt': 1696010400, 'main': {'temp': 283.22, 'feels_like': 282.82, 'temp_min': 283.22, 'temp_max': 283.22, 'pressure': 1006, 'sea_level': 1006, 'grnd_level': 988, 'humidity': 97, 'temp_kf': 0}, 'weather': [{'id': 804, 'main': 'Clouds', 'description': 'overcast clouds', 'icon': '04n'}], 'clouds': {'all': 93}, 'wind': {'speed': 1.18, 'deg': 233, 'gust': 1.24}, 'visibility': 10000, 'pop': 0, 'sys': {'pod': 'n'}, 'dt_txt': '2023-09-29 18:00:00'}, {'dt': 1696021200, 'main': {'temp': 282.1, 'feels_like': 281.62, 'temp_min': 282.1, 'temp_max': 282.1, 'pressure': 1005, 'sea_level': 1005, 'grnd_level': 987, 'humidity': 97, 'temp_kf': 0}, 'weather': [{'id': 801, 'main': 'Clouds', 'description': 'few clouds', 'icon': '02n'}], 'clouds': {'all': 15}, 'wind': {'speed': 1.48, 'deg': 264, 'gust': 1.29}, 'visibility': 10000, 'pop': 0.02, 'sys': {'pod': 'n'}, 'dt_txt': '2023-09-29 21:00:00'}, {'dt': 1696032000, 'main': {'temp': 281.94, 'feels_like': 281.23, 'temp_min': 281.94, 'temp_max': 281.94, 'pressure': 1005, 'sea_level': 1005, 'grnd_level': 986, 'humidity': 92, 'temp_kf': 0}, 'weather': [{'id': 802, 'main': 'Clouds', 'description': 'scattered clouds', 'icon': '03n'}], 'clouds': {'all': 36}, 'wind': {'speed': 1.68, 'deg': 234, 'gust': 2.47}, 'visibility': 10000, 'pop': 0, 'sys': {'pod': 'n'}, 'dt_txt': '2023-09-30 00:00:00'}, {'dt': 1696042800, 'main': {'temp': 280.9, 'feels_like': 279.98, 'temp_min': 280.9, 'temp_max': 280.9, 'pressure': 1005, 'sea_level': 1005, 'grnd_level': 986, 'humidity': 91, 'temp_kf': 0}, 'weather': [{'id': 802, 'main': 'Clouds', 'description': 'scattered clouds', 'icon': '03n'}], 'clouds': {'all': 44}, 'wind': {'speed': 1.73, 'deg': 259, 'gust': 1.83}, 'visibility': 10000, 'pop': 0, 'sys': {'pod': 'n'}, 'dt_txt': '2023-09-30 03:00:00'}, {'dt': 1696053600, 'main': {'temp': 280.28, 'feels_like': 278.95, 'temp_min': 280.28, 'temp_max': 280.28, 'pressure': 1007, 'sea_level': 1007, 'grnd_level': 988, 'humidity': 88, 'temp_kf': 0}, 'weather': [{'id': 802, 'main': 'Clouds', 'description': 'scattered clouds', 'icon': '03d'}], 'clouds': {'all': 48}, 'wind': {'speed': 2.05, 'deg': 273, 'gust': 2.7}, 'visibility': 10000, 'pop': 0, 'sys': {'pod': 'd'}, 'dt_txt': '2023-09-30 06:00:00'}, {'dt': 1696064400, 'main': {'temp': 286.02, 'feels_like': 284.93, 'temp_min': 286.02, 'temp_max': 286.02, 'pressure': 1007, 'sea_level': 1007, 'grnd_level': 990, 'humidity': 60, 'temp_kf': 0}, 'weather': [{'id': 803, 'main': 'Clouds', 'description': 'broken clouds', 'icon': '04d'}], 'clouds': {'all': 83}, 'wind': {'speed': 2.29, 'deg': 266, 'gust': 6.63}, 'visibility': 10000, 'pop': 0, 'sys': {'pod': 'd'}, 'dt_txt': '2023-09-30 09:00:00'}, {'dt': 1696075200, 'main': {'temp': 288.77, 'feels_like': 287.64, 'temp_min': 288.77, 'temp_max': 288.77, 'pressure': 1008, 'sea_level': 1008, 'grnd_level': 991, 'humidity': 48, 'temp_kf': 0}, 'weather': [{'id': 802, 'main': 'Clouds', 'description': 'scattered clouds', 'icon': '03d'}], 'clouds': {'all': 49}, 'wind': {'speed': 3.3, 'deg': 286, 'gust': 7.56}, 'visibility': 10000, 'pop': 0, 'sys': {'pod': 'd'}, 'dt_txt': '2023-09-30 12:00:00'}, {'dt': 1696086000, 'main': {'temp': 287.66, 'feels_like': 286.63, 'temp_min': 287.66, 'temp_max': 287.66, 'pressure': 1010, 'sea_level': 1010, 'grnd_level': 992, 'humidity': 56, 'temp_kf': 0}, 'weather': [{'id': 800, 'main': 'Clear', 'description': 'clear sky', 'icon': '01d'}], 'clouds': {'all': 6}, 'wind': {'speed': 3.33, 'deg': 282, 'gust': 7.28}, 'visibility': 10000, 'pop': 0, 'sys': {'pod': 'd'}, 'dt_txt': '2023-09-30 15:00:00'}, {'dt': 1696096800, 'main': {'temp': 282.45, 'feels_like': 281.18, 'temp_min': 282.45, 'temp_max': 282.45, 'pressure': 1012, 'sea_level': 1012, 'grnd_level': 994, 'humidity': 75, 'temp_kf': 0}, 'weather': [{'id': 800, 'main': 'Clear', 'description': 'clear sky', 'icon': '01n'}], 'clouds': {'all': 5}, 'wind': {'speed': 2.45, 'deg': 282, 'gust': 3.28}, 'visibility': 10000, 'pop': 0, 'sys': {'pod': 'n'}, 'dt_txt': '2023-09-30 18:00:00'}, {'dt': 1696107600, 'main': {'temp': 281.2, 'feels_like': 279.94, 'temp_min': 281.2, 'temp_max': 281.2, 'pressure': 1013, 'sea_level': 1013, 'grnd_level': 994, 'humidity': 83, 'temp_kf': 0}, 'weather': [{'id': 803, 'main': 'Clouds', 'description': 'broken clouds', 'icon': '04n'}], 'clouds': {'all': 75}, 'wind': {'speed': 2.15, 'deg': 284, 'gust': 2.08}, 'visibility': 10000, 'pop': 0, 'sys': {'pod': 'n'}, 'dt_txt': '2023-09-30 21:00:00'}, {'dt': 1696118400, 'main': {'temp': 280.19, 'feels_like': 278.9, 'temp_min': 280.19, 'temp_max': 280.19, 'pressure': 1013, 'sea_level': 1013, 'grnd_level': 995, 'humidity': 88, 'temp_kf': 0}, 'weather': [{'id': 803, 'main': 'Clouds', 'description': 'broken clouds', 'icon': '04n'}], 'clouds': {'all': 58}, 'wind': {'speed': 1.99, 'deg': 289, 'gust': 1.91}, 'visibility': 10000, 'pop': 0, 'sys': {'pod': 'n'}, 'dt_txt': '2023-10-01 00:00:00'}, {'dt': 1696129200, 'main': {'temp': 279.5, 'feels_like': 278.14, 'temp_min': 279.5, 'temp_max': 279.5, 'pressure': 1013, 'sea_level': 1013, 'grnd_level': 995, 'humidity': 89, 'temp_kf': 0}, 'weather': [{'id': 802, 'main': 'Clouds', 'description': 'scattered clouds', 'icon': '03n'}], 'clouds': {'all': 29}, 'wind': {'speed': 1.95, 'deg': 292, 'gust': 1.84}, 'visibility': 10000, 'pop': 0, 'sys': {'pod': 'n'}, 'dt_txt': '2023-10-01 03:00:00'}, {'dt': 1696140000, 'main': {'temp': 279.08, 'feels_like': 277.71, 'temp_min': 279.08, 'temp_max': 279.08, 'pressure': 1014, 'sea_level': 1014, 'grnd_level': 995, 'humidity': 88, 'temp_kf': 0}, 'weather': [{'id': 801, 'main': 'Clouds', 'description': 'few clouds', 'icon': '02d'}], 'clouds': {'all': 19}, 'wind': {'speed': 1.89, 'deg': 296, 'gust': 1.86}, 'visibility': 10000, 'pop': 0, 'sys': {'pod': 'd'}, 'dt_txt': '2023-10-01 06:00:00'}, {'dt': 1696150800, 'main': {'temp': 285.11, 'feels_like': 283.98, 'temp_min': 285.11, 'temp_max': 285.11, 'pressure': 1013, 'sea_level': 1013, 'grnd_level': 995, 'humidity': 62, 'temp_kf': 0}, 'weather': [{'id': 802, 'main': 'Clouds', 'description': 'scattered clouds', 'icon': '03d'}], 'clouds': {'all': 37}, 'wind': {'speed': 0.77, 'deg': 283, 'gust': 1.46}, 'visibility': 10000, 'pop': 0, 'sys': {'pod': 'd'}, 'dt_txt': '2023-10-01 09:00:00'}, {'dt': 1696161600, 'main': {'temp': 287.82, 'feels_like': 286.7, 'temp_min': 287.82, 'temp_max': 287.82, 'pressure': 1013, 'sea_level': 1013, 'grnd_level': 995, 'humidity': 52, 'temp_kf': 0}, 'weather': [{'id': 803, 'main': 'Clouds', 'description': 'broken clouds', 'icon': '04d'}], 'clouds': {'all': 58}, 'wind': {'speed': 1, 'deg': 169, 'gust': 1.38}, 'visibility': 10000, 'pop': 0, 'sys': {'pod': 'd'}, 'dt_txt': '2023-10-01 12:00:00'}, {'dt': 1696172400, 'main': {'temp': 287.25, 'feels_like': 286.23, 'temp_min': 287.25, 'temp_max': 287.25, 'pressure': 1011, 'sea_level': 1011, 'grnd_level': 994, 'humidity': 58, 'temp_kf': 0}, 'weather': [{'id': 803, 'main': 'Clouds', 'description': 'broken clouds', 'icon': '04d'}], 'clouds': {'all': 80}, 'wind': {'speed': 1.58, 'deg': 152, 'gust': 2.27}, 'visibility': 10000, 'pop': 0, 'sys': {'pod': 'd'}, 'dt_txt': '2023-10-01 15:00:00'}, {'dt': 1696183200, 'main': {'temp': 281.92, 'feels_like': 281.92, 'temp_min': 281.92, 'temp_max': 281.92, 'pressure': 1012, 'sea_level': 1012, 'grnd_level': 994, 'humidity': 81, 'temp_kf': 0}, 'weather': [{'id': 803, 'main': 'Clouds', 'description': 'broken clouds', 'icon': '04n'}], 'clouds': {'all': 75}, 'wind': {'speed': 0.72, 'deg': 272, 'gust': 0.83}, 'visibility': 10000, 'pop': 0, 'sys': {'pod': 'n'}, 'dt_txt': '2023-10-01 18:00:00'}, {'dt': 1696194000, 'main': {'temp': 281.17, 'feels_like': 281.17, 'temp_min': 281.17, 'temp_max': 281.17, 'pressure': 1012, 'sea_level': 1012, 'grnd_level': 994, 'humidity': 83, 'temp_kf': 0}, 'weather': [{'id': 803, 'main': 'Clouds', 'description': 'broken clouds', 'icon': '04n'}], 'clouds': {'all': 62}, 'wind': {'speed': 0.97, 'deg': 276, 'gust': 0.9}, 'visibility': 10000, 'pop': 0, 'sys': {'pod': 'n'}, 'dt_txt': '2023-10-01 21:00:00'}, {'dt': 1696204800, 'main': {'temp': 281.05, 'feels_like': 280.55, 'temp_min': 281.05, 'temp_max': 281.05, 'pressure': 1012, 'sea_level': 1012, 'grnd_level': 994, 'humidity': 79, 'temp_kf': 0}, 'weather': [{'id': 803, 'main': 'Clouds', 'description': 'broken clouds', 'icon': '04n'}], 'clouds': {'all': 80}, 'wind': {'speed': 1.38, 'deg': 281, 'gust': 1.2}, 'visibility': 10000, 'pop': 0, 'sys': {'pod': 'n'}, 'dt_txt': '2023-10-02 00:00:00'}, {'dt': 1696215600, 'main': {'temp': 280.95, 'feels_like': 280.06, 'temp_min': 280.95, 'temp_max': 280.95, 'pressure': 1012, 'sea_level': 1012, 'grnd_level': 994, 'humidity': 81, 'temp_kf': 0}, 'weather': [{'id': 804, 'main': 'Clouds', 'description': 'overcast clouds', 'icon': '04n'}], 'clouds': {'all': 100}, 'wind': {'speed': 1.71, 'deg': 292, 'gust': 1.73}, 'visibility': 10000, 'pop': 0, 'sys': {'pod': 'n'}, 'dt_txt': '2023-10-02 03:00:00'}, {'dt': 1696226400, 'main': {'temp': 280.76, 'feels_like': 279.43, 'temp_min': 280.76, 'temp_max': 280.76, 'pressure': 1013, 'sea_level': 1013, 'grnd_level': 994, 'humidity': 88, 'temp_kf': 0}, 'weather': [{'id': 803, 'main': 'Clouds', 'description': 'broken clouds', 'icon': '04d'}], 'clouds': {'all': 84}, 'wind': {'speed': 2.14, 'deg': 280, 'gust': 2.01}, 'visibility': 10000, 'pop': 0, 'sys': {'pod': 'd'}, 'dt_txt': '2023-10-02 06:00:00'}, {'dt': 1696237200, 'main': {'temp': 286.36, 'feels_like': 285.3, 'temp_min': 286.36, 'temp_max': 286.36, 'pressure': 1012, 'sea_level': 1012, 'grnd_level': 994, 'humidity': 60, 'temp_kf': 0}, 'weather': [{'id': 803, 'main': 'Clouds', 'description': 'broken clouds', 'icon': '04d'}], 'clouds': {'all': 62}, 'wind': {'speed': 1.18, 'deg': 257, 'gust': 2.53}, 'visibility': 10000, 'pop': 0, 'sys': {'pod': 'd'}, 'dt_txt': '2023-10-02 09:00:00'}, {'dt': 1696248000, 'main': {'temp': 288.54, 'feels_like': 287.39, 'temp_min': 288.54, 'temp_max': 288.54, 'pressure': 1011, 'sea_level': 1011, 'grnd_level': 994, 'humidity': 48, 'temp_kf': 0}, 'weather': [{'id': 803, 'main': 'Clouds', 'description': 'broken clouds', 'icon': '04d'}], 'clouds': {'all': 81}, 'wind': {'speed': 0.84, 'deg': 222, 'gust': 1.93}, 'visibility': 10000, 'pop': 0, 'sys': {'pod': 'd'}, 'dt_txt': '2023-10-02 12:00:00'}, {'dt': 1696258800, 'main': {'temp': 287.23, 'feels_like': 286.29, 'temp_min': 287.23, 'temp_max': 287.23, 'pressure': 1010, 'sea_level': 1010, 'grnd_level': 992, 'humidity': 61, 'temp_kf': 0}, 'weather': [{'id': 804, 'main': 'Clouds', 'description': 'overcast clouds', 'icon': '04d'}], 'clouds': {'all': 100}, 'wind': {'speed': 1.26, 'deg': 167, 'gust': 1.57}, 'visibility': 10000, 'pop': 0, 'sys': {'pod': 'd'}, 'dt_txt': '2023-10-02 15:00:00'}, {'dt': 1696269600, 'main': {'temp': 283.41, 'feels_like': 282.45, 'temp_min': 283.41, 'temp_max': 283.41, 'pressure': 1010, 'sea_level': 1010, 'grnd_level': 992, 'humidity': 75, 'temp_kf': 0}, 'weather': [{'id': 804, 'main': 'Clouds', 'description': 'overcast clouds', 'icon': '04n'}], 'clouds': {'all': 100}, 'wind': {'speed': 0.63, 'deg': 236, 'gust': 0.71}, 'visibility': 10000, 'pop': 0, 'sys': {'pod': 'n'}, 'dt_txt': '2023-10-02 18:00:00'}, {'dt': 1696280400, 'main': {'temp': 282.82, 'feels_like': 282.82, 'temp_min': 282.82, 'temp_max': 282.82, 'pressure': 1009, 'sea_level': 1009, 'grnd_level': 991, 'humidity': 77, 'temp_kf': 0}, 'weather': [{'id': 804, 'main': 'Clouds', 'description': 'overcast clouds', 'icon': '04n'}], 'clouds': {'all': 100}, 'wind': {'speed': 0.68, 'deg': 295, 'gust': 0.64}, 'visibility': 10000, 'pop': 0, 'sys': {'pod': 'n'}, 'dt_txt': '2023-10-02 21:00:00'}, {'dt': 1696291200, 'main': {'temp': 281.55, 'feels_like': 281.55, 'temp_min': 281.55, 'temp_max': 281.55, 'pressure': 1007, 'sea_level': 1007, 'grnd_level': 989, 'humidity': 80, 'temp_kf': 0}, 'weather': [{'id': 804, 'main': 'Clouds', 'description': 'overcast clouds', 'icon': '04n'}], 'clouds': {'all': 100}, 'wind': {'speed': 0.91, 'deg': 292, 'gust': 0.84}, 'visibility': 10000, 'pop': 0, 'sys': {'pod': 'n'}, 'dt_txt': '2023-10-03 00:00:00'}, {'dt': 1696302000, 'main': {'temp': 281.32, 'feels_like': 281.32, 'temp_min': 281.32, 'temp_max': 281.32, 'pressure': 1005, 'sea_level': 1005, 'grnd_level': 987, 'humidity': 79, 'temp_kf': 0}, 'weather': [{'id': 804, 'main': 'Clouds', 'description': 'overcast clouds', 'icon': '04n'}], 'clouds': {'all': 100}, 'wind': {'speed': 0.82, 'deg': 264, 'gust': 0.76}, 'visibility': 10000, 'pop': 0, 'sys': {'pod': 'n'}, 'dt_txt': '2023-10-03 03:00:00'}, {'dt': 1696312800, 'main': {'temp': 281.14, 'feels_like': 280.67, 'temp_min': 281.14, 'temp_max': 281.14, 'pressure': 1004, 'sea_level': 1004, 'grnd_level': 985, 'humidity': 80, 'temp_kf': 0}, 'weather': [{'id': 804, 'main': 'Clouds', 'description': 'overcast clouds', 'icon': '04d'}], 'clouds': {'all': 100}, 'wind': {'speed': 1.36, 'deg': 301, 'gust': 1.23}, 'visibility': 10000, 'pop': 0, 'sys': {'pod': 'd'}, 'dt_txt': '2023-10-03 06:00:00'}, {'dt': 1696323600, 'main': {'temp': 286.39, 'feels_like': 285.39, 'temp_min': 286.39, 'temp_max': 286.39, 'pressure': 1002, 'sea_level': 1002, 'grnd_level': 984, 'humidity': 62, 'temp_kf': 0}, 'weather': [{'id': 801, 'main': 'Clouds', 'description': 'few clouds', 'icon': '02d'}], 'clouds': {'all': 14}, 'wind': {'speed': 1, 'deg': 238, 'gust': 2.22}, 'visibility': 10000, 'pop': 0, 'sys': {'pod': 'd'}, 'dt_txt': '2023-10-03 09:00:00'}], 'city': {'id': 3144113, 'name': 'Noresund', 'coord': {'lat': 60.1803, 'lon': 9.6231}, 'country': 'NO', 'population': 1000, 'timezone': 7200, 'sunrise': 1695878326, 'sunset': 1695920747}}\""
      ]
     },
     "execution_count": 15,
     "metadata": {},
     "output_type": "execute_result"
    }
   ],
   "source": [
    "# Inspect JSON file\n",
    "forecast.__str__()"
   ]
  },
  {
   "cell_type": "markdown",
   "metadata": {
    "slideshow": {
     "slide_type": "slide"
    }
   },
   "source": [
    "## Raw JSON\n",
    "- A simple, but not very efficient way of storing JSON data is to treat it as a text and save it directly to the database.  \n",
    "- More efficient, with regard to transfer, is to compress the JSON data to a blob first.\n",
    "    - Compression is automatic."
   ]
  },
  {
   "cell_type": "code",
   "execution_count": 16,
   "metadata": {
    "slideshow": {
     "slide_type": "-"
    }
   },
   "outputs": [
    {
     "data": {
      "text/plain": [
       "<cassandra.cluster.ResultSet at 0x1220ac6a0>"
      ]
     },
     "execution_count": 16,
     "metadata": {},
     "output_type": "execute_result"
    }
   ],
   "source": [
    "# Create a new table which treats the whole JSON as a blob, using the city id and the first dt as keys\n",
    "session.set_keyspace('my_first_keyspace')\n",
    "session.execute(\"DROP TABLE IF EXISTS my_first_keyspace.forecast_table;\")\n",
    "session.execute(\"CREATE TABLE IF NOT EXISTS forecast_table (city_id int, dt int, forecast blob, PRIMARY KEY(city_id, dt));\")"
   ]
  },
  {
   "cell_type": "markdown",
   "metadata": {
    "slideshow": {
     "slide_type": "slide"
    }
   },
   "source": [
    "### Insert the forecast data into the table as text blob"
   ]
  },
  {
   "cell_type": "code",
   "execution_count": 17,
   "metadata": {
    "slideshow": {
     "slide_type": "-"
    }
   },
   "outputs": [
    {
     "data": {
      "text/plain": [
       "<cassandra.cluster.ResultSet at 0x12209b9a0>"
      ]
     },
     "execution_count": 17,
     "metadata": {},
     "output_type": "execute_result"
    }
   ],
   "source": [
    "session.execute(\"INSERT INTO forecast_table (city_id, dt, forecast) VALUES (%s, %s, textAsBlob(%s));\", (forecast['city']['id'], forecast['list'][0]['dt'], forecast.__str__()))"
   ]
  },
  {
   "cell_type": "code",
   "execution_count": 18,
   "metadata": {
    "slideshow": {
     "slide_type": "slide"
    }
   },
   "outputs": [
    {
     "name": "stdout",
     "output_type": "stream",
     "text": [
      "Row(city_id=3144113, dt=1695902400, forecast=b\"{'cod': '200', 'message': 0, 'cnt': 40, 'list': [{'dt': 1695902400, 'main': {'temp': 286.54, 'feels_like': 286.49, 'temp_min': 284.42, 'temp_max': 286.54, 'pressure': 1010, 'sea_level': 1010, 'grnd_level': 992, 'humidity': 98, 'temp_kf': 2.12}, 'weather': [{'id': 500, 'main': 'Rain', 'description': 'light rain', 'icon': '10d'}], 'clouds': {'all': 100}, 'wind': {'speed': 1.02, 'deg': 113, 'gust': 3.2}, 'visibility': 1897, 'pop': 0.98, 'rain': {'3h': 1.14}, 'sys': {'pod': 'd'}, 'dt_txt': '2023-09-28 12:00:00'}, {'dt': 1695913200, 'main': {'temp': 285.91, 'feels_like': 285.83, 'temp_min': 284.65, 'temp_max': 285.91, 'pressure': 1010, 'sea_level': 1010, 'grnd_level': 990, 'humidity': 99, 'temp_kf': 1.26}, 'weather': [{'id': 500, 'main': 'Rain', 'description': 'light rain', 'icon': '10d'}], 'clouds': {'all': 100}, 'wind': {'speed': 0.57, 'deg': 135, 'gust': 1.38}, 'visibility': 4066, 'pop': 0.58, 'rain': {'3h': 0.51}, 'sys': {'pod': 'd'}, 'dt_txt': '2023-09-28 15:00:00'}, {'dt': 1695924000, 'main': {'temp': 285.46, 'feels_like': 285.33, 'temp_min': 284.92, 'temp_max': 285.46, 'pressure': 1009, 'sea_level': 1009, 'grnd_level': 991, 'humidity': 99, 'temp_kf': 0.54}, 'weather': [{'id': 804, 'main': 'Clouds', 'description': 'overcast clouds', 'icon': '04n'}], 'clouds': {'all': 100}, 'wind': {'speed': 0.95, 'deg': 239, 'gust': 1.47}, 'visibility': 7777, 'pop': 0.2, 'sys': {'pod': 'n'}, 'dt_txt': '2023-09-28 18:00:00'}, {'dt': 1695934800, 'main': {'temp': 285.13, 'feels_like': 284.92, 'temp_min': 285.13, 'temp_max': 285.13, 'pressure': 1009, 'sea_level': 1009, 'grnd_level': 991, 'humidity': 97, 'temp_kf': 0}, 'weather': [{'id': 804, 'main': 'Clouds', 'description': 'overcast clouds', 'icon': '04n'}], 'clouds': {'all': 98}, 'wind': {'speed': 0.16, 'deg': 235, 'gust': 0.55}, 'visibility': 10000, 'pop': 0, 'sys': {'pod': 'n'}, 'dt_txt': '2023-09-28 21:00:00'}, {'dt': 1695945600, 'main': {'temp': 284.74, 'feels_like': 284.54, 'temp_min': 284.74, 'temp_max': 284.74, 'pressure': 1009, 'sea_level': 1009, 'grnd_level': 991, 'humidity': 99, 'temp_kf': 0}, 'weather': [{'id': 804, 'main': 'Clouds', 'description': 'overcast clouds', 'icon': '04n'}], 'clouds': {'all': 99}, 'wind': {'speed': 0.49, 'deg': 251, 'gust': 0.57}, 'visibility': 10000, 'pop': 0, 'sys': {'pod': 'n'}, 'dt_txt': '2023-09-29 00:00:00'}, {'dt': 1695956400, 'main': {'temp': 284.2, 'feels_like': 283.92, 'temp_min': 284.2, 'temp_max': 284.2, 'pressure': 1008, 'sea_level': 1008, 'grnd_level': 990, 'humidity': 98, 'temp_kf': 0}, 'weather': [{'id': 804, 'main': 'Clouds', 'description': 'overcast clouds', 'icon': '04n'}], 'clouds': {'all': 100}, 'wind': {'speed': 1.06, 'deg': 212, 'gust': 1.18}, 'visibility': 10000, 'pop': 0, 'sys': {'pod': 'n'}, 'dt_txt': '2023-09-29 03:00:00'}, {'dt': 1695967200, 'main': {'temp': 283.86, 'feels_like': 283.52, 'temp_min': 283.86, 'temp_max': 283.86, 'pressure': 1008, 'sea_level': 1008, 'grnd_level': 990, 'humidity': 97, 'temp_kf': 0}, 'weather': [{'id': 804, 'main': 'Clouds', 'description': 'overcast clouds', 'icon': '04d'}], 'clouds': {'all': 100}, 'wind': {'speed': 1.45, 'deg': 188, 'gust': 2.44}, 'visibility': 10000, 'pop': 0, 'sys': {'pod': 'd'}, 'dt_txt': '2023-09-29 06:00:00'}, {'dt': 1695978000, 'main': {'temp': 285.67, 'feels_like': 285.25, 'temp_min': 285.67, 'temp_max': 285.67, 'pressure': 1007, 'sea_level': 1007, 'grnd_level': 990, 'humidity': 87, 'temp_kf': 0}, 'weather': [{'id': 804, 'main': 'Clouds', 'description': 'overcast clouds', 'icon': '04d'}], 'clouds': {'all': 100}, 'wind': {'speed': 1.74, 'deg': 192, 'gust': 2.81}, 'visibility': 10000, 'pop': 0, 'sys': {'pod': 'd'}, 'dt_txt': '2023-09-29 09:00:00'}, {'dt': 1695988800, 'main': {'temp': 288.43, 'feels_like': 287.82, 'temp_min': 288.43, 'temp_max': 288.43, 'pressure': 1006, 'sea_level': 1006, 'grnd_level': 989, 'humidity': 69, 'temp_kf': 0}, 'weather': [{'id': 804, 'main': 'Clouds', 'description': 'overcast clouds', 'icon': '04d'}], 'clouds': {'all': 90}, 'wind': {'speed': 2.37, 'deg': 187, 'gust': 4.34}, 'visibility': 10000, 'pop': 0, 'sys': {'pod': 'd'}, 'dt_txt': '2023-09-29 12:00:00'}, {'dt': 1695999600, 'main': {'temp': 287.5, 'feels_like': 287, 'temp_min': 287.5, 'temp_max': 287.5, 'pressure': 1005, 'sea_level': 1005, 'grnd_level': 988, 'humidity': 77, 'temp_kf': 0}, 'weather': [{'id': 804, 'main': 'Clouds', 'description': 'overcast clouds', 'icon': '04d'}], 'clouds': {'all': 87}, 'wind': {'speed': 2.4, 'deg': 196, 'gust': 4.9}, 'visibility': 10000, 'pop': 0, 'sys': {'pod': 'd'}, 'dt_txt': '2023-09-29 15:00:00'}, {'dt': 1696010400, 'main': {'temp': 283.22, 'feels_like': 282.82, 'temp_min': 283.22, 'temp_max': 283.22, 'pressure': 1006, 'sea_level': 1006, 'grnd_level': 988, 'humidity': 97, 'temp_kf': 0}, 'weather': [{'id': 804, 'main': 'Clouds', 'description': 'overcast clouds', 'icon': '04n'}], 'clouds': {'all': 93}, 'wind': {'speed': 1.18, 'deg': 233, 'gust': 1.24}, 'visibility': 10000, 'pop': 0, 'sys': {'pod': 'n'}, 'dt_txt': '2023-09-29 18:00:00'}, {'dt': 1696021200, 'main': {'temp': 282.1, 'feels_like': 281.62, 'temp_min': 282.1, 'temp_max': 282.1, 'pressure': 1005, 'sea_level': 1005, 'grnd_level': 987, 'humidity': 97, 'temp_kf': 0}, 'weather': [{'id': 801, 'main': 'Clouds', 'description': 'few clouds', 'icon': '02n'}], 'clouds': {'all': 15}, 'wind': {'speed': 1.48, 'deg': 264, 'gust': 1.29}, 'visibility': 10000, 'pop': 0.02, 'sys': {'pod': 'n'}, 'dt_txt': '2023-09-29 21:00:00'}, {'dt': 1696032000, 'main': {'temp': 281.94, 'feels_like': 281.23, 'temp_min': 281.94, 'temp_max': 281.94, 'pressure': 1005, 'sea_level': 1005, 'grnd_level': 986, 'humidity': 92, 'temp_kf': 0}, 'weather': [{'id': 802, 'main': 'Clouds', 'description': 'scattered clouds', 'icon': '03n'}], 'clouds': {'all': 36}, 'wind': {'speed': 1.68, 'deg': 234, 'gust': 2.47}, 'visibility': 10000, 'pop': 0, 'sys': {'pod': 'n'}, 'dt_txt': '2023-09-30 00:00:00'}, {'dt': 1696042800, 'main': {'temp': 280.9, 'feels_like': 279.98, 'temp_min': 280.9, 'temp_max': 280.9, 'pressure': 1005, 'sea_level': 1005, 'grnd_level': 986, 'humidity': 91, 'temp_kf': 0}, 'weather': [{'id': 802, 'main': 'Clouds', 'description': 'scattered clouds', 'icon': '03n'}], 'clouds': {'all': 44}, 'wind': {'speed': 1.73, 'deg': 259, 'gust': 1.83}, 'visibility': 10000, 'pop': 0, 'sys': {'pod': 'n'}, 'dt_txt': '2023-09-30 03:00:00'}, {'dt': 1696053600, 'main': {'temp': 280.28, 'feels_like': 278.95, 'temp_min': 280.28, 'temp_max': 280.28, 'pressure': 1007, 'sea_level': 1007, 'grnd_level': 988, 'humidity': 88, 'temp_kf': 0}, 'weather': [{'id': 802, 'main': 'Clouds', 'description': 'scattered clouds', 'icon': '03d'}], 'clouds': {'all': 48}, 'wind': {'speed': 2.05, 'deg': 273, 'gust': 2.7}, 'visibility': 10000, 'pop': 0, 'sys': {'pod': 'd'}, 'dt_txt': '2023-09-30 06:00:00'}, {'dt': 1696064400, 'main': {'temp': 286.02, 'feels_like': 284.93, 'temp_min': 286.02, 'temp_max': 286.02, 'pressure': 1007, 'sea_level': 1007, 'grnd_level': 990, 'humidity': 60, 'temp_kf': 0}, 'weather': [{'id': 803, 'main': 'Clouds', 'description': 'broken clouds', 'icon': '04d'}], 'clouds': {'all': 83}, 'wind': {'speed': 2.29, 'deg': 266, 'gust': 6.63}, 'visibility': 10000, 'pop': 0, 'sys': {'pod': 'd'}, 'dt_txt': '2023-09-30 09:00:00'}, {'dt': 1696075200, 'main': {'temp': 288.77, 'feels_like': 287.64, 'temp_min': 288.77, 'temp_max': 288.77, 'pressure': 1008, 'sea_level': 1008, 'grnd_level': 991, 'humidity': 48, 'temp_kf': 0}, 'weather': [{'id': 802, 'main': 'Clouds', 'description': 'scattered clouds', 'icon': '03d'}], 'clouds': {'all': 49}, 'wind': {'speed': 3.3, 'deg': 286, 'gust': 7.56}, 'visibility': 10000, 'pop': 0, 'sys': {'pod': 'd'}, 'dt_txt': '2023-09-30 12:00:00'}, {'dt': 1696086000, 'main': {'temp': 287.66, 'feels_like': 286.63, 'temp_min': 287.66, 'temp_max': 287.66, 'pressure': 1010, 'sea_level': 1010, 'grnd_level': 992, 'humidity': 56, 'temp_kf': 0}, 'weather': [{'id': 800, 'main': 'Clear', 'description': 'clear sky', 'icon': '01d'}], 'clouds': {'all': 6}, 'wind': {'speed': 3.33, 'deg': 282, 'gust': 7.28}, 'visibility': 10000, 'pop': 0, 'sys': {'pod': 'd'}, 'dt_txt': '2023-09-30 15:00:00'}, {'dt': 1696096800, 'main': {'temp': 282.45, 'feels_like': 281.18, 'temp_min': 282.45, 'temp_max': 282.45, 'pressure': 1012, 'sea_level': 1012, 'grnd_level': 994, 'humidity': 75, 'temp_kf': 0}, 'weather': [{'id': 800, 'main': 'Clear', 'description': 'clear sky', 'icon': '01n'}], 'clouds': {'all': 5}, 'wind': {'speed': 2.45, 'deg': 282, 'gust': 3.28}, 'visibility': 10000, 'pop': 0, 'sys': {'pod': 'n'}, 'dt_txt': '2023-09-30 18:00:00'}, {'dt': 1696107600, 'main': {'temp': 281.2, 'feels_like': 279.94, 'temp_min': 281.2, 'temp_max': 281.2, 'pressure': 1013, 'sea_level': 1013, 'grnd_level': 994, 'humidity': 83, 'temp_kf': 0}, 'weather': [{'id': 803, 'main': 'Clouds', 'description': 'broken clouds', 'icon': '04n'}], 'clouds': {'all': 75}, 'wind': {'speed': 2.15, 'deg': 284, 'gust': 2.08}, 'visibility': 10000, 'pop': 0, 'sys': {'pod': 'n'}, 'dt_txt': '2023-09-30 21:00:00'}, {'dt': 1696118400, 'main': {'temp': 280.19, 'feels_like': 278.9, 'temp_min': 280.19, 'temp_max': 280.19, 'pressure': 1013, 'sea_level': 1013, 'grnd_level': 995, 'humidity': 88, 'temp_kf': 0}, 'weather': [{'id': 803, 'main': 'Clouds', 'description': 'broken clouds', 'icon': '04n'}], 'clouds': {'all': 58}, 'wind': {'speed': 1.99, 'deg': 289, 'gust': 1.91}, 'visibility': 10000, 'pop': 0, 'sys': {'pod': 'n'}, 'dt_txt': '2023-10-01 00:00:00'}, {'dt': 1696129200, 'main': {'temp': 279.5, 'feels_like': 278.14, 'temp_min': 279.5, 'temp_max': 279.5, 'pressure': 1013, 'sea_level': 1013, 'grnd_level': 995, 'humidity': 89, 'temp_kf': 0}, 'weather': [{'id': 802, 'main': 'Clouds', 'description': 'scattered clouds', 'icon': '03n'}], 'clouds': {'all': 29}, 'wind': {'speed': 1.95, 'deg': 292, 'gust': 1.84}, 'visibility': 10000, 'pop': 0, 'sys': {'pod': 'n'}, 'dt_txt': '2023-10-01 03:00:00'}, {'dt': 1696140000, 'main': {'temp': 279.08, 'feels_like': 277.71, 'temp_min': 279.08, 'temp_max': 279.08, 'pressure': 1014, 'sea_level': 1014, 'grnd_level': 995, 'humidity': 88, 'temp_kf': 0}, 'weather': [{'id': 801, 'main': 'Clouds', 'description': 'few clouds', 'icon': '02d'}], 'clouds': {'all': 19}, 'wind': {'speed': 1.89, 'deg': 296, 'gust': 1.86}, 'visibility': 10000, 'pop': 0, 'sys': {'pod': 'd'}, 'dt_txt': '2023-10-01 06:00:00'}, {'dt': 1696150800, 'main': {'temp': 285.11, 'feels_like': 283.98, 'temp_min': 285.11, 'temp_max': 285.11, 'pressure': 1013, 'sea_level': 1013, 'grnd_level': 995, 'humidity': 62, 'temp_kf': 0}, 'weather': [{'id': 802, 'main': 'Clouds', 'description': 'scattered clouds', 'icon': '03d'}], 'clouds': {'all': 37}, 'wind': {'speed': 0.77, 'deg': 283, 'gust': 1.46}, 'visibility': 10000, 'pop': 0, 'sys': {'pod': 'd'}, 'dt_txt': '2023-10-01 09:00:00'}, {'dt': 1696161600, 'main': {'temp': 287.82, 'feels_like': 286.7, 'temp_min': 287.82, 'temp_max': 287.82, 'pressure': 1013, 'sea_level': 1013, 'grnd_level': 995, 'humidity': 52, 'temp_kf': 0}, 'weather': [{'id': 803, 'main': 'Clouds', 'description': 'broken clouds', 'icon': '04d'}], 'clouds': {'all': 58}, 'wind': {'speed': 1, 'deg': 169, 'gust': 1.38}, 'visibility': 10000, 'pop': 0, 'sys': {'pod': 'd'}, 'dt_txt': '2023-10-01 12:00:00'}, {'dt': 1696172400, 'main': {'temp': 287.25, 'feels_like': 286.23, 'temp_min': 287.25, 'temp_max': 287.25, 'pressure': 1011, 'sea_level': 1011, 'grnd_level': 994, 'humidity': 58, 'temp_kf': 0}, 'weather': [{'id': 803, 'main': 'Clouds', 'description': 'broken clouds', 'icon': '04d'}], 'clouds': {'all': 80}, 'wind': {'speed': 1.58, 'deg': 152, 'gust': 2.27}, 'visibility': 10000, 'pop': 0, 'sys': {'pod': 'd'}, 'dt_txt': '2023-10-01 15:00:00'}, {'dt': 1696183200, 'main': {'temp': 281.92, 'feels_like': 281.92, 'temp_min': 281.92, 'temp_max': 281.92, 'pressure': 1012, 'sea_level': 1012, 'grnd_level': 994, 'humidity': 81, 'temp_kf': 0}, 'weather': [{'id': 803, 'main': 'Clouds', 'description': 'broken clouds', 'icon': '04n'}], 'clouds': {'all': 75}, 'wind': {'speed': 0.72, 'deg': 272, 'gust': 0.83}, 'visibility': 10000, 'pop': 0, 'sys': {'pod': 'n'}, 'dt_txt': '2023-10-01 18:00:00'}, {'dt': 1696194000, 'main': {'temp': 281.17, 'feels_like': 281.17, 'temp_min': 281.17, 'temp_max': 281.17, 'pressure': 1012, 'sea_level': 1012, 'grnd_level': 994, 'humidity': 83, 'temp_kf': 0}, 'weather': [{'id': 803, 'main': 'Clouds', 'description': 'broken clouds', 'icon': '04n'}], 'clouds': {'all': 62}, 'wind': {'speed': 0.97, 'deg': 276, 'gust': 0.9}, 'visibility': 10000, 'pop': 0, 'sys': {'pod': 'n'}, 'dt_txt': '2023-10-01 21:00:00'}, {'dt': 1696204800, 'main': {'temp': 281.05, 'feels_like': 280.55, 'temp_min': 281.05, 'temp_max': 281.05, 'pressure': 1012, 'sea_level': 1012, 'grnd_level': 994, 'humidity': 79, 'temp_kf': 0}, 'weather': [{'id': 803, 'main': 'Clouds', 'description': 'broken clouds', 'icon': '04n'}], 'clouds': {'all': 80}, 'wind': {'speed': 1.38, 'deg': 281, 'gust': 1.2}, 'visibility': 10000, 'pop': 0, 'sys': {'pod': 'n'}, 'dt_txt': '2023-10-02 00:00:00'}, {'dt': 1696215600, 'main': {'temp': 280.95, 'feels_like': 280.06, 'temp_min': 280.95, 'temp_max': 280.95, 'pressure': 1012, 'sea_level': 1012, 'grnd_level': 994, 'humidity': 81, 'temp_kf': 0}, 'weather': [{'id': 804, 'main': 'Clouds', 'description': 'overcast clouds', 'icon': '04n'}], 'clouds': {'all': 100}, 'wind': {'speed': 1.71, 'deg': 292, 'gust': 1.73}, 'visibility': 10000, 'pop': 0, 'sys': {'pod': 'n'}, 'dt_txt': '2023-10-02 03:00:00'}, {'dt': 1696226400, 'main': {'temp': 280.76, 'feels_like': 279.43, 'temp_min': 280.76, 'temp_max': 280.76, 'pressure': 1013, 'sea_level': 1013, 'grnd_level': 994, 'humidity': 88, 'temp_kf': 0}, 'weather': [{'id': 803, 'main': 'Clouds', 'description': 'broken clouds', 'icon': '04d'}], 'clouds': {'all': 84}, 'wind': {'speed': 2.14, 'deg': 280, 'gust': 2.01}, 'visibility': 10000, 'pop': 0, 'sys': {'pod': 'd'}, 'dt_txt': '2023-10-02 06:00:00'}, {'dt': 1696237200, 'main': {'temp': 286.36, 'feels_like': 285.3, 'temp_min': 286.36, 'temp_max': 286.36, 'pressure': 1012, 'sea_level': 1012, 'grnd_level': 994, 'humidity': 60, 'temp_kf': 0}, 'weather': [{'id': 803, 'main': 'Clouds', 'description': 'broken clouds', 'icon': '04d'}], 'clouds': {'all': 62}, 'wind': {'speed': 1.18, 'deg': 257, 'gust': 2.53}, 'visibility': 10000, 'pop': 0, 'sys': {'pod': 'd'}, 'dt_txt': '2023-10-02 09:00:00'}, {'dt': 1696248000, 'main': {'temp': 288.54, 'feels_like': 287.39, 'temp_min': 288.54, 'temp_max': 288.54, 'pressure': 1011, 'sea_level': 1011, 'grnd_level': 994, 'humidity': 48, 'temp_kf': 0}, 'weather': [{'id': 803, 'main': 'Clouds', 'description': 'broken clouds', 'icon': '04d'}], 'clouds': {'all': 81}, 'wind': {'speed': 0.84, 'deg': 222, 'gust': 1.93}, 'visibility': 10000, 'pop': 0, 'sys': {'pod': 'd'}, 'dt_txt': '2023-10-02 12:00:00'}, {'dt': 1696258800, 'main': {'temp': 287.23, 'feels_like': 286.29, 'temp_min': 287.23, 'temp_max': 287.23, 'pressure': 1010, 'sea_level': 1010, 'grnd_level': 992, 'humidity': 61, 'temp_kf': 0}, 'weather': [{'id': 804, 'main': 'Clouds', 'description': 'overcast clouds', 'icon': '04d'}], 'clouds': {'all': 100}, 'wind': {'speed': 1.26, 'deg': 167, 'gust': 1.57}, 'visibility': 10000, 'pop': 0, 'sys': {'pod': 'd'}, 'dt_txt': '2023-10-02 15:00:00'}, {'dt': 1696269600, 'main': {'temp': 283.41, 'feels_like': 282.45, 'temp_min': 283.41, 'temp_max': 283.41, 'pressure': 1010, 'sea_level': 1010, 'grnd_level': 992, 'humidity': 75, 'temp_kf': 0}, 'weather': [{'id': 804, 'main': 'Clouds', 'description': 'overcast clouds', 'icon': '04n'}], 'clouds': {'all': 100}, 'wind': {'speed': 0.63, 'deg': 236, 'gust': 0.71}, 'visibility': 10000, 'pop': 0, 'sys': {'pod': 'n'}, 'dt_txt': '2023-10-02 18:00:00'}, {'dt': 1696280400, 'main': {'temp': 282.82, 'feels_like': 282.82, 'temp_min': 282.82, 'temp_max': 282.82, 'pressure': 1009, 'sea_level': 1009, 'grnd_level': 991, 'humidity': 77, 'temp_kf': 0}, 'weather': [{'id': 804, 'main': 'Clouds', 'description': 'overcast clouds', 'icon': '04n'}], 'clouds': {'all': 100}, 'wind': {'speed': 0.68, 'deg': 295, 'gust': 0.64}, 'visibility': 10000, 'pop': 0, 'sys': {'pod': 'n'}, 'dt_txt': '2023-10-02 21:00:00'}, {'dt': 1696291200, 'main': {'temp': 281.55, 'feels_like': 281.55, 'temp_min': 281.55, 'temp_max': 281.55, 'pressure': 1007, 'sea_level': 1007, 'grnd_level': 989, 'humidity': 80, 'temp_kf': 0}, 'weather': [{'id': 804, 'main': 'Clouds', 'description': 'overcast clouds', 'icon': '04n'}], 'clouds': {'all': 100}, 'wind': {'speed': 0.91, 'deg': 292, 'gust': 0.84}, 'visibility': 10000, 'pop': 0, 'sys': {'pod': 'n'}, 'dt_txt': '2023-10-03 00:00:00'}, {'dt': 1696302000, 'main': {'temp': 281.32, 'feels_like': 281.32, 'temp_min': 281.32, 'temp_max': 281.32, 'pressure': 1005, 'sea_level': 1005, 'grnd_level': 987, 'humidity': 79, 'temp_kf': 0}, 'weather': [{'id': 804, 'main': 'Clouds', 'description': 'overcast clouds', 'icon': '04n'}], 'clouds': {'all': 100}, 'wind': {'speed': 0.82, 'deg': 264, 'gust': 0.76}, 'visibility': 10000, 'pop': 0, 'sys': {'pod': 'n'}, 'dt_txt': '2023-10-03 03:00:00'}, {'dt': 1696312800, 'main': {'temp': 281.14, 'feels_like': 280.67, 'temp_min': 281.14, 'temp_max': 281.14, 'pressure': 1004, 'sea_level': 1004, 'grnd_level': 985, 'humidity': 80, 'temp_kf': 0}, 'weather': [{'id': 804, 'main': 'Clouds', 'description': 'overcast clouds', 'icon': '04d'}], 'clouds': {'all': 100}, 'wind': {'speed': 1.36, 'deg': 301, 'gust': 1.23}, 'visibility': 10000, 'pop': 0, 'sys': {'pod': 'd'}, 'dt_txt': '2023-10-03 06:00:00'}, {'dt': 1696323600, 'main': {'temp': 286.39, 'feels_like': 285.39, 'temp_min': 286.39, 'temp_max': 286.39, 'pressure': 1002, 'sea_level': 1002, 'grnd_level': 984, 'humidity': 62, 'temp_kf': 0}, 'weather': [{'id': 801, 'main': 'Clouds', 'description': 'few clouds', 'icon': '02d'}], 'clouds': {'all': 14}, 'wind': {'speed': 1, 'deg': 238, 'gust': 2.22}, 'visibility': 10000, 'pop': 0, 'sys': {'pod': 'd'}, 'dt_txt': '2023-10-03 09:00:00'}], 'city': {'id': 3144113, 'name': 'Noresund', 'coord': {'lat': 60.1803, 'lon': 9.6231}, 'country': 'NO', 'population': 1000, 'timezone': 7200, 'sunrise': 1695878326, 'sunset': 1695920747}}\")\n"
     ]
    }
   ],
   "source": [
    "# Query the data\n",
    "forecast_rows = session.execute(\"SELECT * FROM forecast_table;\")\n",
    "print(forecast_rows.one()) # <- only one row"
   ]
  },
  {
   "cell_type": "markdown",
   "metadata": {
    "slideshow": {
     "slide_type": "slide"
    }
   },
   "source": [
    "## Resources\n",
    "- [Cassandra webpage](https://cassandra.apache.org/)\n",
    "- [Cassandra Docker file](https://hub.docker.com/_/cassandra)\n",
    "- [UUID functions](https://docs.datastax.com/en/cql-oss/3.3/cql/cql_reference/timeuuid_functions_r.html)\n",
    "- [YouTube: Cassandra in 100 seconds](https://youtu.be/ziq7FUKpCS8?si=WQUdkHFvaBmT0DBo) (2m:26s)\n",
    "- [YouTube: How to use Apache Cassandra in Python](https://youtu.be/qMauZqJH3ZM?si=yKGZ-5cld2BK396Y) (14m:50s)\n",
    "- [YouTube: Cassandra Database Crash Course](https://youtu.be/KZsVSfQVU4I?si=FBCi8qOfCirfVmZk) (19m:47s)"
   ]
  }
 ],
 "metadata": {
  "celltoolbar": "Slideshow",
  "kernelspec": {
   "display_name": "Python 3 (ipykernel)",
   "language": "python",
   "name": "python3"
  },
  "language_info": {
   "codemirror_mode": {
    "name": "ipython",
    "version": 3
   },
   "file_extension": ".py",
   "mimetype": "text/x-python",
   "name": "python",
   "nbconvert_exporter": "python",
   "pygments_lexer": "ipython3",
   "version": "3.10.6"
  }
 },
 "nbformat": 4,
 "nbformat_minor": 2
}