{
 "cells": [
  {
   "cell_type": "markdown",
   "metadata": {
    "slideshow": {
     "slide_type": "slide"
    }
   },
   "source": [
    "# Cassandra\n",
    "Assumptions:\n",
    "- Docker installed on system\n",
    "- \"cassandra:latest\" image installed in docker\n",
    "- Python/Conda environment with python 3.8 (or newer*)  \n",
    "  \n",
    "*As of 9 August 2023, the officially built cassandra-driver package was at version 3.25 and did not work well with Python 3.10 on Mac.  \n",
    "To install a newer version from the terminal you can:  \n",
    "```\n",
    "pip install git+https://github.com/datastax/python-driver.git\n",
    "pip install cql\n",
    "```"
   ]
  },
  {
   "cell_type": "markdown",
   "metadata": {
    "slideshow": {
     "slide_type": "slide"
    }
   },
   "source": [
    "Or use older Python:  \n",
    "```\n",
    "conda create --name cassy38 python=3.8 jupyter scikit-learn\n",
    "conda activate cassy38  \n",
    "pip install cassandra-driver cql\n",
    "```"
   ]
  },
  {
   "cell_type": "markdown",
   "metadata": {
    "slideshow": {
     "slide_type": "slide"
    }
   },
   "source": [
    "## Spinning up a local cassandra instance\n",
    "In a terminal, first time:  \n",
    "```docker run --name my_cassandra -p 9042:9042 cassandra:latest```  \n",
    "... and later:  \n",
    "```docker start my_cassandra```  \n",
    "  \n",
    ".. or in Docker Desktop:\n",
    "- Run the cassandra docker image with optional settings, opening 9042 port and setting a name.\n",
    "- Later, simply run the container with the name you chose."
   ]
  },
  {
   "cell_type": "markdown",
   "metadata": {
    "slideshow": {
     "slide_type": "slide"
    }
   },
   "source": [
    "<img src=\"../../images/Docker_images.png\" width=\"600px\">  "
   ]
  },
  {
   "cell_type": "markdown",
   "metadata": {
    "slideshow": {
     "slide_type": "slide"
    }
   },
   "source": [
    "\n",
    "<img src=\"../../images/Docker_containers.png\" width=\"800px\">  "
   ]
  },
  {
   "cell_type": "markdown",
   "metadata": {
    "slideshow": {
     "slide_type": "slide"
    }
   },
   "source": [
    "### Connect to the Cassandra cluster from Python."
   ]
  },
  {
   "cell_type": "code",
   "execution_count": 1,
   "metadata": {
    "slideshow": {
     "slide_type": "-"
    }
   },
   "outputs": [],
   "source": [
    "# Connecting to Cassandra\n",
    "from cassandra.cluster import Cluster\n",
    "cluster = Cluster(['localhost'], port=9042)\n",
    "session = cluster.connect()"
   ]
  },
  {
   "cell_type": "markdown",
   "metadata": {
    "slideshow": {
     "slide_type": "slide"
    }
   },
   "source": [
    "### Keyspace\n",
    "- In Cassandra database tables are stored in keyspaces (basically a distributed database).\n",
    "- These have parameters controlling their distribution on nodes/servers and redundancy.\n",
    "- We will use the simplest form locally."
   ]
  },
  {
   "cell_type": "code",
   "execution_count": 2,
   "metadata": {
    "slideshow": {
     "slide_type": "fragment"
    }
   },
   "outputs": [
    {
     "data": {
      "text/plain": [
       "<cassandra.cluster.ResultSet at 0x106646e60>"
      ]
     },
     "execution_count": 2,
     "metadata": {},
     "output_type": "execute_result"
    }
   ],
   "source": [
    "# Set up new keyspace (first time only)\n",
    "#                                              name of keyspace                        replication strategy           replication factor\n",
    "session.execute(\"CREATE KEYSPACE IF NOT EXISTS my_first_keyspace WITH REPLICATION = { 'class' : 'SimpleStrategy', 'replication_factor' : 1 };\")"
   ]
  },
  {
   "cell_type": "markdown",
   "metadata": {
    "slideshow": {
     "slide_type": "slide"
    }
   },
   "source": [
    "### Create a table\n",
    "- IF NOT EXISTS makes sure we do not overwrite existing tables"
   ]
  },
  {
   "cell_type": "code",
   "execution_count": 3,
   "metadata": {
    "slideshow": {
     "slide_type": "fragment"
    }
   },
   "outputs": [
    {
     "data": {
      "text/plain": [
       "<cassandra.cluster.ResultSet at 0x10942a8f0>"
      ]
     },
     "execution_count": 3,
     "metadata": {},
     "output_type": "execute_result"
    }
   ],
   "source": [
    "# Create a new table (first time only)\n",
    "session.set_keyspace('my_first_keyspace')\n",
    "session.execute(\"DROP TABLE IF EXISTS my_first_keyspace.my_first_table;\") # Starting from scratch every time\n",
    "session.execute(\"CREATE TABLE IF NOT EXISTS my_first_table (ind int PRIMARY KEY, company text, model text);\")"
   ]
  },
  {
   "cell_type": "markdown",
   "metadata": {
    "slideshow": {
     "slide_type": "slide"
    }
   },
   "source": [
    "### Inserting and reading data"
   ]
  },
  {
   "cell_type": "code",
   "execution_count": 4,
   "metadata": {
    "slideshow": {
     "slide_type": "-"
    }
   },
   "outputs": [
    {
     "data": {
      "text/plain": [
       "<cassandra.cluster.ResultSet at 0x109423d60>"
      ]
     },
     "execution_count": 4,
     "metadata": {},
     "output_type": "execute_result"
    }
   ],
   "source": [
    "# Insert some data (ind is the primary key, must be unique)\n",
    "session.execute(\"INSERT INTO my_first_table (ind, company, model) VALUES (1, 'Tesla', 'Model S');\")\n",
    "session.execute(\"INSERT INTO my_first_table (ind, company, model) VALUES (2, 'Tesla', 'Model 3');\")\n",
    "session.execute(\"INSERT INTO my_first_table (ind, company, model) VALUES (3, 'Polestar', '3');\")"
   ]
  },
  {
   "cell_type": "markdown",
   "metadata": {
    "slideshow": {
     "slide_type": "slide"
    }
   },
   "source": [
    "### Asyncronous writing\n",
    "- If your application is very data intensive, waiting for a response is not productive.\n",
    "- Writing asyncronously sends the data but does not pause for reply."
   ]
  },
  {
   "cell_type": "code",
   "execution_count": 5,
   "metadata": {
    "slideshow": {
     "slide_type": "-"
    }
   },
   "outputs": [
    {
     "data": {
      "text/plain": [
       "<ResponseFuture: query='<SimpleStatement query=\"INSERT INTO my_first_table (ind, company, model) VALUES (4, 'Volkswagen', 'ID.4');\", consistency=Not Set>' request_id=24 result=(no result yet) exception=None coordinator_host=None>"
      ]
     },
     "execution_count": 5,
     "metadata": {},
     "output_type": "execute_result"
    }
   ],
   "source": [
    "session.execute_async(\"INSERT INTO my_first_table (ind, company, model) VALUES (4, 'Volkswagen', 'ID.4');\")"
   ]
  },
  {
   "cell_type": "code",
   "execution_count": 6,
   "metadata": {
    "slideshow": {
     "slide_type": "slide"
    }
   },
   "outputs": [
    {
     "name": "stdout",
     "output_type": "stream",
     "text": [
      "Row(ind=1, company='Tesla', model='Model S')\n",
      "Row(ind=2, company='Tesla', model='Model 3')\n",
      "Row(ind=4, company='Volkswagen', model='ID.4')\n",
      "Row(ind=3, company='Polestar', model='3')\n"
     ]
    }
   ],
   "source": [
    "# Query the data\n",
    "rows = session.execute(\"SELECT * FROM my_first_table;\")\n",
    "for i in rows:\n",
    "    print(i)"
   ]
  },
  {
   "cell_type": "code",
   "execution_count": 7,
   "metadata": {
    "slideshow": {
     "slide_type": "slide"
    },
    "tags": [
     "raises-exception"
    ]
   },
   "outputs": [
    {
     "ename": "InvalidRequest",
     "evalue": "Error from server: code=2200 [Invalid query] message=\"Cannot execute this query as it might involve data filtering and thus may have unpredictable performance. If you want to execute this query despite the performance unpredictability, use ALLOW FILTERING\"",
     "output_type": "error",
     "traceback": [
      "\u001b[0;31m---------------------------------------------------------------------------\u001b[0m",
      "\u001b[0;31mInvalidRequest\u001b[0m                            Traceback (most recent call last)",
      "Cell \u001b[0;32mIn [7], line 2\u001b[0m\n\u001b[1;32m      1\u001b[0m \u001b[38;5;66;03m# More specific query\u001b[39;00m\n\u001b[0;32m----> 2\u001b[0m prepared_statement \u001b[38;5;241m=\u001b[39m \u001b[43msession\u001b[49m\u001b[38;5;241;43m.\u001b[39;49m\u001b[43mprepare\u001b[49m\u001b[43m(\u001b[49m\u001b[38;5;124;43m\"\u001b[39;49m\u001b[38;5;124;43mSELECT * FROM my_first_table WHERE company=?;\u001b[39;49m\u001b[38;5;124;43m\"\u001b[39;49m\u001b[43m)\u001b[49m \u001b[38;5;66;03m# <- will fail as company is not a key\u001b[39;00m\n\u001b[1;32m      3\u001b[0m teslas \u001b[38;5;241m=\u001b[39m session\u001b[38;5;241m.\u001b[39mexecute(prepared_statement, [\u001b[38;5;124m'\u001b[39m\u001b[38;5;124mTesla\u001b[39m\u001b[38;5;124m'\u001b[39m])\n\u001b[1;32m      4\u001b[0m \u001b[38;5;28;01mfor\u001b[39;00m i \u001b[38;5;129;01min\u001b[39;00m teslas:\n",
      "File \u001b[0;32m~/miniforge3/envs/tf_M1/lib/python3.10/site-packages/cassandra/cluster.py:3088\u001b[0m, in \u001b[0;36mSession.prepare\u001b[0;34m(self, query, custom_payload, keyspace)\u001b[0m\n\u001b[1;32m   3086\u001b[0m \u001b[38;5;28;01mtry\u001b[39;00m:\n\u001b[1;32m   3087\u001b[0m     future\u001b[38;5;241m.\u001b[39msend_request()\n\u001b[0;32m-> 3088\u001b[0m     response \u001b[38;5;241m=\u001b[39m \u001b[43mfuture\u001b[49m\u001b[38;5;241;43m.\u001b[39;49m\u001b[43mresult\u001b[49m\u001b[43m(\u001b[49m\u001b[43m)\u001b[49m\u001b[38;5;241m.\u001b[39mone()\n\u001b[1;32m   3089\u001b[0m \u001b[38;5;28;01mexcept\u001b[39;00m \u001b[38;5;167;01mException\u001b[39;00m:\n\u001b[1;32m   3090\u001b[0m     log\u001b[38;5;241m.\u001b[39mexception(\u001b[38;5;124m\"\u001b[39m\u001b[38;5;124mError preparing query:\u001b[39m\u001b[38;5;124m\"\u001b[39m)\n",
      "File \u001b[0;32m~/miniforge3/envs/tf_M1/lib/python3.10/site-packages/cassandra/cluster.py:4920\u001b[0m, in \u001b[0;36mResponseFuture.result\u001b[0;34m(self)\u001b[0m\n\u001b[1;32m   4918\u001b[0m     \u001b[38;5;28;01mreturn\u001b[39;00m ResultSet(\u001b[38;5;28mself\u001b[39m, \u001b[38;5;28mself\u001b[39m\u001b[38;5;241m.\u001b[39m_final_result)\n\u001b[1;32m   4919\u001b[0m \u001b[38;5;28;01melse\u001b[39;00m:\n\u001b[0;32m-> 4920\u001b[0m     \u001b[38;5;28;01mraise\u001b[39;00m \u001b[38;5;28mself\u001b[39m\u001b[38;5;241m.\u001b[39m_final_exception\n",
      "\u001b[0;31mInvalidRequest\u001b[0m: Error from server: code=2200 [Invalid query] message=\"Cannot execute this query as it might involve data filtering and thus may have unpredictable performance. If you want to execute this query despite the performance unpredictability, use ALLOW FILTERING\""
     ]
    }
   ],
   "source": [
    "# More specific query\n",
    "prepared_statement = session.prepare(\"SELECT * FROM my_first_table WHERE company=?;\") # <- will fail as company is not a key\n",
    "teslas = session.execute(prepared_statement, ['Tesla'])\n",
    "for i in teslas:\n",
    "    print(i)"
   ]
  },
  {
   "cell_type": "markdown",
   "metadata": {
    "slideshow": {
     "slide_type": "slide"
    }
   },
   "source": [
    "## Cassandra filtering\n",
    "Cassandra is inherently a distributed production database. Selecting as above may require downloading all data from a node, then filtering based on the WHERE part (only PRIMARY KEYs are centrally known). Solutions:  \n",
    "- If the table is small or most of the data will satisfy the query, add ```ALLOW FILTERING``` at the end of the query (not recommended if not known). \n",
    "- Or make sure the WHERE clause points to one of the keys (see below)."
   ]
  },
  {
   "cell_type": "code",
   "execution_count": 8,
   "metadata": {
    "slideshow": {
     "slide_type": "slide"
    }
   },
   "outputs": [
    {
     "data": {
      "text/plain": [
       "<cassandra.cluster.ResultSet at 0x10941f640>"
      ]
     },
     "execution_count": 8,
     "metadata": {},
     "output_type": "execute_result"
    }
   ],
   "source": [
    "# Create a new table (observe keys)\n",
    "session.execute(\"DROP TABLE IF EXISTS my_first_keyspace.car_table;\")\n",
    "session.execute(\"CREATE TABLE IF NOT EXISTS car_table (company text, model text, PRIMARY KEY(company, model));\")"
   ]
  },
  {
   "cell_type": "code",
   "execution_count": 9,
   "metadata": {
    "slideshow": {
     "slide_type": "fragment"
    }
   },
   "outputs": [
    {
     "data": {
      "text/plain": [
       "<cassandra.cluster.ResultSet at 0x10d585db0>"
      ]
     },
     "execution_count": 9,
     "metadata": {},
     "output_type": "execute_result"
    }
   ],
   "source": [
    "# Insert some data (combination of company and model must be unique)\n",
    "session.execute(\"INSERT INTO car_table (company, model) VALUES ('Tesla', 'Model S');\")\n",
    "session.execute(\"INSERT INTO car_table (company, model) VALUES ('Tesla', 'Model 3');\")\n",
    "session.execute(\"INSERT INTO car_table (company, model) VALUES ('Polestar', '3');\")\n",
    "session.execute(\"INSERT INTO car_table (company, model) VALUES ('Volkswagen', 'ID.4');\")"
   ]
  },
  {
   "cell_type": "code",
   "execution_count": 10,
   "metadata": {
    "slideshow": {
     "slide_type": "slide"
    }
   },
   "outputs": [
    {
     "name": "stdout",
     "output_type": "stream",
     "text": [
      "Row(company='Tesla', model='Model 3')\n",
      "Row(company='Tesla', model='Model S')\n"
     ]
    }
   ],
   "source": [
    "# More specific query now works\n",
    "prepared_statement = session.prepare(\"SELECT * FROM car_table WHERE company=?;\")\n",
    "teslas = session.execute(prepared_statement, ['Tesla'])\n",
    "for i in teslas:\n",
    "    print(i)"
   ]
  },
  {
   "cell_type": "markdown",
   "metadata": {
    "slideshow": {
     "slide_type": "slide"
    }
   },
   "source": [
    "### Partitions\n",
    "- Cassandra databases are usually replicated over different nodes.\n",
    "- Data is stored in partitions (subsets) which have local copys.\n",
    "- The primary key, e.g., PRIMARY KEY(company, model), is used in partitioning.\n",
    "    - The first part, e.g., company, is most important.\n",
    "    - All cars from a company will be located together, aiming for quicker queries."
   ]
  },
  {
   "cell_type": "markdown",
   "metadata": {
    "slideshow": {
     "slide_type": "slide"
    }
   },
   "source": [
    "### Unique IDs \n",
    "- In MySQL one could use the attribute AUTO_INCREMENT on integer IDs to automatically make a new unique index when inserting data.\n",
    "- This would cause unreasonable overhead in a distributed database.\n",
    "- [UUID](https://en.wikipedia.org/wiki/Universally_unique_identifier)s are used instead.\n",
    "    - Universally Unique Identifiers are typically 128-bit random bit sequences with extremely low probability of duplication.\n",
    "    - Cassandra uses a [timeuuid](https://docs.datastax.com/en/cql-oss/3.3/cql/cql_reference/timeuuid_functions_r.html) type to combine a timestamp and uuid in one."
   ]
  },
  {
   "cell_type": "code",
   "execution_count": 11,
   "metadata": {
    "slideshow": {
     "slide_type": "fragment"
    }
   },
   "outputs": [
    {
     "data": {
      "text/plain": [
       "<cassandra.cluster.ResultSet at 0x109420c40>"
      ]
     },
     "execution_count": 11,
     "metadata": {},
     "output_type": "execute_result"
    }
   ],
   "source": [
    "# Create a new table (first time only)\n",
    "session.set_keyspace('my_first_keyspace')\n",
    "session.execute(\"DROP TABLE IF EXISTS my_first_keyspace.table_with_uuid;\")\n",
    "session.execute(\"CREATE TABLE IF NOT EXISTS table_with_uuid (id timeuuid PRIMARY KEY, company text, model text, price float);\")"
   ]
  },
  {
   "cell_type": "code",
   "execution_count": 12,
   "metadata": {
    "slideshow": {
     "slide_type": "slide"
    }
   },
   "outputs": [
    {
     "data": {
      "text/plain": [
       "<cassandra.cluster.ResultSet at 0x10d586170>"
      ]
     },
     "execution_count": 12,
     "metadata": {},
     "output_type": "execute_result"
    }
   ],
   "source": [
    "session.execute(\"INSERT INTO table_with_uuid (id, company, model, price) VALUES (now(), 'Tesla', 'Model S', 20000.0);\")\n",
    "session.execute(\"INSERT INTO table_with_uuid (id, company, model, price) VALUES (now(), 'Tesla', 'Model S', 21000.0);\")\n",
    "session.execute(\"INSERT INTO table_with_uuid (id, company, model, price) VALUES (now(), 'Oldsmobile', 'Model 6C', 135000.0);\")"
   ]
  },
  {
   "cell_type": "code",
   "execution_count": 13,
   "metadata": {
    "slideshow": {
     "slide_type": "slide"
    }
   },
   "outputs": [
    {
     "name": "stdout",
     "output_type": "stream",
     "text": [
      "Row(id=UUID('04a342d0-5078-11ee-9429-ad37399ff905'), company='Oldsmobile', model='Model 6C', price=135000.0)\n",
      "Datetime: 2023-09-11 07:51:29.917000\n",
      "Row(id=UUID('04a2a690-5078-11ee-9429-ad37399ff905'), company='Tesla', model='Model S', price=20000.0)\n",
      "Datetime: 2023-09-11 07:51:29.913000\n",
      "Row(id=UUID('04a2f4b0-5078-11ee-9429-ad37399ff905'), company='Tesla', model='Model S', price=21000.0)\n",
      "Datetime: 2023-09-11 07:51:29.915000\n"
     ]
    }
   ],
   "source": [
    "from cassandra.util import datetime_from_uuid1\n",
    "\n",
    "# Query the data\n",
    "rows = session.execute(\"SELECT * FROM table_with_uuid;\")\n",
    "for i in rows:\n",
    "    print(i)\n",
    "    # Extract the timestamp from Cassandra's timeuuid\n",
    "    print(\"Datetime:\", datetime_from_uuid1(i.id))"
   ]
  },
  {
   "cell_type": "markdown",
   "metadata": {
    "slideshow": {
     "slide_type": "slide"
    }
   },
   "source": [
    "## JSON in Cassandra\n",
    "### Read previously saved JSON file forecast.json to memory"
   ]
  },
  {
   "cell_type": "code",
   "execution_count": 14,
   "metadata": {
    "slideshow": {
     "slide_type": "-"
    }
   },
   "outputs": [],
   "source": [
    "import json\n",
    "with open('../APIs/downloads/forecast.json', 'r') as f:\n",
    "    forecast = json.load(f)"
   ]
  },
  {
   "cell_type": "code",
   "execution_count": 15,
   "metadata": {
    "slideshow": {
     "slide_type": "slide"
    }
   },
   "outputs": [
    {
     "data": {
      "text/plain": [
       "\"{'cod': '200', 'message': 0, 'cnt': 40, 'list': [{'dt': 1694422800, 'main': {'temp': 289.86, 'feels_like': 290.15, 'temp_min': 289.86, 'temp_max': 290.06, 'pressure': 1010, 'sea_level': 1010, 'grnd_level': 994, 'humidity': 98, 'temp_kf': -0.2}, 'weather': [{'id': 804, 'main': 'Clouds', 'description': 'overcast clouds', 'icon': '04d'}], 'clouds': {'all': 100}, 'wind': {'speed': 4.41, 'deg': 182, 'gust': 12.07}, 'visibility': 914, 'pop': 0, 'sys': {'pod': 'd'}, 'dt_txt': '2023-09-11 09:00:00'}, {'dt': 1694433600, 'main': {'temp': 290.14, 'feels_like': 290.4, 'temp_min': 290.14, 'temp_max': 290.7, 'pressure': 1010, 'sea_level': 1010, 'grnd_level': 993, 'humidity': 96, 'temp_kf': -0.56}, 'weather': [{'id': 804, 'main': 'Clouds', 'description': 'overcast clouds', 'icon': '04d'}], 'clouds': {'all': 100}, 'wind': {'speed': 4.98, 'deg': 185, 'gust': 12.31}, 'visibility': 10000, 'pop': 0.26, 'sys': {'pod': 'd'}, 'dt_txt': '2023-09-11 12:00:00'}, {'dt': 1694444400, 'main': {'temp': 289.85, 'feels_like': 290.11, 'temp_min': 289.84, 'temp_max': 289.85, 'pressure': 1008, 'sea_level': 1008, 'grnd_level': 991, 'humidity': 97, 'temp_kf': 0.01}, 'weather': [{'id': 500, 'main': 'Rain', 'description': 'light rain', 'icon': '10d'}], 'clouds': {'all': 100}, 'wind': {'speed': 4.94, 'deg': 179, 'gust': 11.84}, 'visibility': 708, 'pop': 0.81, 'rain': {'3h': 1.07}, 'sys': {'pod': 'd'}, 'dt_txt': '2023-09-11 15:00:00'}, {'dt': 1694455200, 'main': {'temp': 289.26, 'feels_like': 289.49, 'temp_min': 289.26, 'temp_max': 289.26, 'pressure': 1006, 'sea_level': 1006, 'grnd_level': 990, 'humidity': 98, 'temp_kf': 0}, 'weather': [{'id': 804, 'main': 'Clouds', 'description': 'overcast clouds', 'icon': '04n'}], 'clouds': {'all': 100}, 'wind': {'speed': 4.5, 'deg': 180, 'gust': 10.64}, 'visibility': 138, 'pop': 0.61, 'sys': {'pod': 'n'}, 'dt_txt': '2023-09-11 18:00:00'}, {'dt': 1694466000, 'main': {'temp': 289.12, 'feels_like': 289.31, 'temp_min': 289.12, 'temp_max': 289.12, 'pressure': 1005, 'sea_level': 1005, 'grnd_level': 989, 'humidity': 97, 'temp_kf': 0}, 'weather': [{'id': 804, 'main': 'Clouds', 'description': 'overcast clouds', 'icon': '04n'}], 'clouds': {'all': 100}, 'wind': {'speed': 4.31, 'deg': 193, 'gust': 10.09}, 'visibility': 7799, 'pop': 0, 'sys': {'pod': 'n'}, 'dt_txt': '2023-09-11 21:00:00'}, {'dt': 1694476800, 'main': {'temp': 289.14, 'feels_like': 289.3, 'temp_min': 289.14, 'temp_max': 289.14, 'pressure': 1005, 'sea_level': 1005, 'grnd_level': 988, 'humidity': 96, 'temp_kf': 0}, 'weather': [{'id': 804, 'main': 'Clouds', 'description': 'overcast clouds', 'icon': '04n'}], 'clouds': {'all': 99}, 'wind': {'speed': 3.69, 'deg': 187, 'gust': 9.74}, 'visibility': 10000, 'pop': 0, 'sys': {'pod': 'n'}, 'dt_txt': '2023-09-12 00:00:00'}, {'dt': 1694487600, 'main': {'temp': 288.43, 'feels_like': 288.47, 'temp_min': 288.43, 'temp_max': 288.43, 'pressure': 1004, 'sea_level': 1004, 'grnd_level': 988, 'humidity': 94, 'temp_kf': 0}, 'weather': [{'id': 804, 'main': 'Clouds', 'description': 'overcast clouds', 'icon': '04n'}], 'clouds': {'all': 94}, 'wind': {'speed': 3.2, 'deg': 193, 'gust': 6.74}, 'visibility': 10000, 'pop': 0, 'sys': {'pod': 'n'}, 'dt_txt': '2023-09-12 03:00:00'}, {'dt': 1694498400, 'main': {'temp': 288.43, 'feels_like': 288.39, 'temp_min': 288.43, 'temp_max': 288.43, 'pressure': 1005, 'sea_level': 1005, 'grnd_level': 989, 'humidity': 91, 'temp_kf': 0}, 'weather': [{'id': 804, 'main': 'Clouds', 'description': 'overcast clouds', 'icon': '04d'}], 'clouds': {'all': 96}, 'wind': {'speed': 1.37, 'deg': 237, 'gust': 2.53}, 'visibility': 10000, 'pop': 0, 'sys': {'pod': 'd'}, 'dt_txt': '2023-09-12 06:00:00'}, {'dt': 1694509200, 'main': {'temp': 291.34, 'feels_like': 290.83, 'temp_min': 291.34, 'temp_max': 291.34, 'pressure': 1006, 'sea_level': 1006, 'grnd_level': 990, 'humidity': 62, 'temp_kf': 0}, 'weather': [{'id': 804, 'main': 'Clouds', 'description': 'overcast clouds', 'icon': '04d'}], 'clouds': {'all': 90}, 'wind': {'speed': 1.67, 'deg': 269, 'gust': 3.06}, 'visibility': 10000, 'pop': 0, 'sys': {'pod': 'd'}, 'dt_txt': '2023-09-12 09:00:00'}, {'dt': 1694520000, 'main': {'temp': 292.9, 'feels_like': 292, 'temp_min': 292.9, 'temp_max': 292.9, 'pressure': 1006, 'sea_level': 1006, 'grnd_level': 990, 'humidity': 41, 'temp_kf': 0}, 'weather': [{'id': 804, 'main': 'Clouds', 'description': 'overcast clouds', 'icon': '04d'}], 'clouds': {'all': 92}, 'wind': {'speed': 2.94, 'deg': 290, 'gust': 3.62}, 'visibility': 10000, 'pop': 0, 'sys': {'pod': 'd'}, 'dt_txt': '2023-09-12 12:00:00'}, {'dt': 1694530800, 'main': {'temp': 292.4, 'feels_like': 291.48, 'temp_min': 292.4, 'temp_max': 292.4, 'pressure': 1007, 'sea_level': 1007, 'grnd_level': 990, 'humidity': 42, 'temp_kf': 0}, 'weather': [{'id': 804, 'main': 'Clouds', 'description': 'overcast clouds', 'icon': '04d'}], 'clouds': {'all': 99}, 'wind': {'speed': 2.25, 'deg': 265, 'gust': 3.74}, 'visibility': 10000, 'pop': 0, 'sys': {'pod': 'd'}, 'dt_txt': '2023-09-12 15:00:00'}, {'dt': 1694541600, 'main': {'temp': 285.91, 'feels_like': 284.73, 'temp_min': 285.91, 'temp_max': 285.91, 'pressure': 1008, 'sea_level': 1008, 'grnd_level': 991, 'humidity': 57, 'temp_kf': 0}, 'weather': [{'id': 803, 'main': 'Clouds', 'description': 'broken clouds', 'icon': '04n'}], 'clouds': {'all': 82}, 'wind': {'speed': 1.2, 'deg': 321, 'gust': 1.55}, 'visibility': 10000, 'pop': 0, 'sys': {'pod': 'n'}, 'dt_txt': '2023-09-12 18:00:00'}, {'dt': 1694552400, 'main': {'temp': 283.25, 'feels_like': 282.64, 'temp_min': 283.25, 'temp_max': 283.25, 'pressure': 1010, 'sea_level': 1010, 'grnd_level': 993, 'humidity': 89, 'temp_kf': 0}, 'weather': [{'id': 803, 'main': 'Clouds', 'description': 'broken clouds', 'icon': '04n'}], 'clouds': {'all': 53}, 'wind': {'speed': 2.32, 'deg': 8, 'gust': 5.74}, 'visibility': 10000, 'pop': 0, 'sys': {'pod': 'n'}, 'dt_txt': '2023-09-12 21:00:00'}, {'dt': 1694563200, 'main': {'temp': 281.71, 'feels_like': 280.69, 'temp_min': 281.71, 'temp_max': 281.71, 'pressure': 1011, 'sea_level': 1011, 'grnd_level': 994, 'humidity': 91, 'temp_kf': 0}, 'weather': [{'id': 802, 'main': 'Clouds', 'description': 'scattered clouds', 'icon': '03n'}], 'clouds': {'all': 42}, 'wind': {'speed': 1.97, 'deg': 360, 'gust': 4.64}, 'visibility': 10000, 'pop': 0, 'sys': {'pod': 'n'}, 'dt_txt': '2023-09-13 00:00:00'}, {'dt': 1694574000, 'main': {'temp': 280.6, 'feels_like': 279.54, 'temp_min': 280.6, 'temp_max': 280.6, 'pressure': 1012, 'sea_level': 1012, 'grnd_level': 995, 'humidity': 94, 'temp_kf': 0}, 'weather': [{'id': 800, 'main': 'Clear', 'description': 'clear sky', 'icon': '01n'}], 'clouds': {'all': 2}, 'wind': {'speed': 1.82, 'deg': 349, 'gust': 4.14}, 'visibility': 10000, 'pop': 0, 'sys': {'pod': 'n'}, 'dt_txt': '2023-09-13 03:00:00'}, {'dt': 1694584800, 'main': {'temp': 281.4, 'feels_like': 280.39, 'temp_min': 281.4, 'temp_max': 281.4, 'pressure': 1014, 'sea_level': 1014, 'grnd_level': 997, 'humidity': 83, 'temp_kf': 0}, 'weather': [{'id': 800, 'main': 'Clear', 'description': 'clear sky', 'icon': '01d'}], 'clouds': {'all': 1}, 'wind': {'speed': 1.9, 'deg': 338, 'gust': 5.2}, 'visibility': 10000, 'pop': 0, 'sys': {'pod': 'd'}, 'dt_txt': '2023-09-13 06:00:00'}, {'dt': 1694595600, 'main': {'temp': 287.01, 'feels_like': 285.89, 'temp_min': 287.01, 'temp_max': 287.01, 'pressure': 1015, 'sea_level': 1015, 'grnd_level': 998, 'humidity': 55, 'temp_kf': 0}, 'weather': [{'id': 800, 'main': 'Clear', 'description': 'clear sky', 'icon': '01d'}], 'clouds': {'all': 0}, 'wind': {'speed': 2.62, 'deg': 345, 'gust': 4.4}, 'visibility': 10000, 'pop': 0, 'sys': {'pod': 'd'}, 'dt_txt': '2023-09-13 09:00:00'}, {'dt': 1694606400, 'main': {'temp': 289.88, 'feels_like': 288.78, 'temp_min': 289.88, 'temp_max': 289.88, 'pressure': 1015, 'sea_level': 1015, 'grnd_level': 999, 'humidity': 45, 'temp_kf': 0}, 'weather': [{'id': 800, 'main': 'Clear', 'description': 'clear sky', 'icon': '01d'}], 'clouds': {'all': 4}, 'wind': {'speed': 2.29, 'deg': 345, 'gust': 3.05}, 'visibility': 10000, 'pop': 0, 'sys': {'pod': 'd'}, 'dt_txt': '2023-09-13 12:00:00'}, {'dt': 1694617200, 'main': {'temp': 290.05, 'feels_like': 288.89, 'temp_min': 290.05, 'temp_max': 290.05, 'pressure': 1016, 'sea_level': 1016, 'grnd_level': 1000, 'humidity': 42, 'temp_kf': 0}, 'weather': [{'id': 801, 'main': 'Clouds', 'description': 'few clouds', 'icon': '02d'}], 'clouds': {'all': 21}, 'wind': {'speed': 2.01, 'deg': 47, 'gust': 2.88}, 'visibility': 10000, 'pop': 0, 'sys': {'pod': 'd'}, 'dt_txt': '2023-09-13 15:00:00'}, {'dt': 1694628000, 'main': {'temp': 285.38, 'feels_like': 284.3, 'temp_min': 285.38, 'temp_max': 285.38, 'pressure': 1018, 'sea_level': 1018, 'grnd_level': 1001, 'humidity': 63, 'temp_kf': 0}, 'weather': [{'id': 802, 'main': 'Clouds', 'description': 'scattered clouds', 'icon': '03n'}], 'clouds': {'all': 40}, 'wind': {'speed': 2.06, 'deg': 42, 'gust': 5.4}, 'visibility': 10000, 'pop': 0, 'sys': {'pod': 'n'}, 'dt_txt': '2023-09-13 18:00:00'}, {'dt': 1694638800, 'main': {'temp': 281.96, 'feels_like': 281.01, 'temp_min': 281.96, 'temp_max': 281.96, 'pressure': 1020, 'sea_level': 1020, 'grnd_level': 1003, 'humidity': 79, 'temp_kf': 0}, 'weather': [{'id': 803, 'main': 'Clouds', 'description': 'broken clouds', 'icon': '04n'}], 'clouds': {'all': 57}, 'wind': {'speed': 1.94, 'deg': 35, 'gust': 5.7}, 'visibility': 10000, 'pop': 0, 'sys': {'pod': 'n'}, 'dt_txt': '2023-09-13 21:00:00'}, {'dt': 1694649600, 'main': {'temp': 280.71, 'feels_like': 279.71, 'temp_min': 280.71, 'temp_max': 280.71, 'pressure': 1021, 'sea_level': 1021, 'grnd_level': 1004, 'humidity': 78, 'temp_kf': 0}, 'weather': [{'id': 803, 'main': 'Clouds', 'description': 'broken clouds', 'icon': '04n'}], 'clouds': {'all': 75}, 'wind': {'speed': 1.78, 'deg': 20, 'gust': 2.85}, 'visibility': 10000, 'pop': 0, 'sys': {'pod': 'n'}, 'dt_txt': '2023-09-14 00:00:00'}, {'dt': 1694660400, 'main': {'temp': 280.87, 'feels_like': 279.73, 'temp_min': 280.87, 'temp_max': 280.87, 'pressure': 1022, 'sea_level': 1022, 'grnd_level': 1004, 'humidity': 74, 'temp_kf': 0}, 'weather': [{'id': 804, 'main': 'Clouds', 'description': 'overcast clouds', 'icon': '04n'}], 'clouds': {'all': 100}, 'wind': {'speed': 1.95, 'deg': 32, 'gust': 4.97}, 'visibility': 10000, 'pop': 0, 'sys': {'pod': 'n'}, 'dt_txt': '2023-09-14 03:00:00'}, {'dt': 1694671200, 'main': {'temp': 281.53, 'feels_like': 280.57, 'temp_min': 281.53, 'temp_max': 281.53, 'pressure': 1022, 'sea_level': 1022, 'grnd_level': 1004, 'humidity': 72, 'temp_kf': 0}, 'weather': [{'id': 804, 'main': 'Clouds', 'description': 'overcast clouds', 'icon': '04d'}], 'clouds': {'all': 100}, 'wind': {'speed': 1.87, 'deg': 44, 'gust': 4.72}, 'visibility': 10000, 'pop': 0, 'sys': {'pod': 'd'}, 'dt_txt': '2023-09-14 06:00:00'}, {'dt': 1694682000, 'main': {'temp': 284.11, 'feels_like': 282.96, 'temp_min': 284.11, 'temp_max': 284.11, 'pressure': 1022, 'sea_level': 1022, 'grnd_level': 1005, 'humidity': 65, 'temp_kf': 0}, 'weather': [{'id': 804, 'main': 'Clouds', 'description': 'overcast clouds', 'icon': '04d'}], 'clouds': {'all': 100}, 'wind': {'speed': 2.03, 'deg': 68, 'gust': 2.79}, 'visibility': 10000, 'pop': 0.1, 'sys': {'pod': 'd'}, 'dt_txt': '2023-09-14 09:00:00'}, {'dt': 1694692800, 'main': {'temp': 285.57, 'feels_like': 284.7, 'temp_min': 285.57, 'temp_max': 285.57, 'pressure': 1021, 'sea_level': 1021, 'grnd_level': 1004, 'humidity': 70, 'temp_kf': 0}, 'weather': [{'id': 500, 'main': 'Rain', 'description': 'light rain', 'icon': '10d'}], 'clouds': {'all': 100}, 'wind': {'speed': 0.88, 'deg': 99, 'gust': 2.43}, 'visibility': 10000, 'pop': 0.24, 'rain': {'3h': 0.21}, 'sys': {'pod': 'd'}, 'dt_txt': '2023-09-14 12:00:00'}, {'dt': 1694703600, 'main': {'temp': 286.76, 'feels_like': 285.95, 'temp_min': 286.76, 'temp_max': 286.76, 'pressure': 1020, 'sea_level': 1020, 'grnd_level': 1003, 'humidity': 68, 'temp_kf': 0}, 'weather': [{'id': 500, 'main': 'Rain', 'description': 'light rain', 'icon': '10d'}], 'clouds': {'all': 90}, 'wind': {'speed': 1.96, 'deg': 195, 'gust': 3.43}, 'visibility': 10000, 'pop': 0.35, 'rain': {'3h': 0.36}, 'sys': {'pod': 'd'}, 'dt_txt': '2023-09-14 15:00:00'}, {'dt': 1694714400, 'main': {'temp': 282.69, 'feels_like': 282, 'temp_min': 282.69, 'temp_max': 282.69, 'pressure': 1020, 'sea_level': 1020, 'grnd_level': 1003, 'humidity': 90, 'temp_kf': 0}, 'weather': [{'id': 804, 'main': 'Clouds', 'description': 'overcast clouds', 'icon': '04n'}], 'clouds': {'all': 94}, 'wind': {'speed': 1.78, 'deg': 172, 'gust': 1.97}, 'visibility': 10000, 'pop': 0.09, 'sys': {'pod': 'n'}, 'dt_txt': '2023-09-14 18:00:00'}, {'dt': 1694725200, 'main': {'temp': 282.33, 'feels_like': 281.21, 'temp_min': 282.33, 'temp_max': 282.33, 'pressure': 1021, 'sea_level': 1021, 'grnd_level': 1003, 'humidity': 91, 'temp_kf': 0}, 'weather': [{'id': 804, 'main': 'Clouds', 'description': 'overcast clouds', 'icon': '04n'}], 'clouds': {'all': 100}, 'wind': {'speed': 2.22, 'deg': 173, 'gust': 8.1}, 'visibility': 10000, 'pop': 0, 'sys': {'pod': 'n'}, 'dt_txt': '2023-09-14 21:00:00'}, {'dt': 1694736000, 'main': {'temp': 284.43, 'feels_like': 283.83, 'temp_min': 284.43, 'temp_max': 284.43, 'pressure': 1020, 'sea_level': 1020, 'grnd_level': 1003, 'humidity': 85, 'temp_kf': 0}, 'weather': [{'id': 804, 'main': 'Clouds', 'description': 'overcast clouds', 'icon': '04n'}], 'clouds': {'all': 100}, 'wind': {'speed': 3.68, 'deg': 203, 'gust': 10.23}, 'visibility': 10000, 'pop': 0, 'sys': {'pod': 'n'}, 'dt_txt': '2023-09-15 00:00:00'}, {'dt': 1694746800, 'main': {'temp': 284.75, 'feels_like': 284.37, 'temp_min': 284.75, 'temp_max': 284.75, 'pressure': 1019, 'sea_level': 1019, 'grnd_level': 1002, 'humidity': 92, 'temp_kf': 0}, 'weather': [{'id': 500, 'main': 'Rain', 'description': 'light rain', 'icon': '10n'}], 'clouds': {'all': 100}, 'wind': {'speed': 4.06, 'deg': 188, 'gust': 10.12}, 'visibility': 10000, 'pop': 0.26, 'rain': {'3h': 0.45}, 'sys': {'pod': 'n'}, 'dt_txt': '2023-09-15 03:00:00'}, {'dt': 1694757600, 'main': {'temp': 285.62, 'feels_like': 285.38, 'temp_min': 285.62, 'temp_max': 285.62, 'pressure': 1020, 'sea_level': 1020, 'grnd_level': 1003, 'humidity': 94, 'temp_kf': 0}, 'weather': [{'id': 500, 'main': 'Rain', 'description': 'light rain', 'icon': '10d'}], 'clouds': {'all': 100}, 'wind': {'speed': 4.07, 'deg': 190, 'gust': 9.41}, 'visibility': 10000, 'pop': 0.3, 'rain': {'3h': 0.36}, 'sys': {'pod': 'd'}, 'dt_txt': '2023-09-15 06:00:00'}, {'dt': 1694768400, 'main': {'temp': 288.23, 'feels_like': 287.83, 'temp_min': 288.23, 'temp_max': 288.23, 'pressure': 1019, 'sea_level': 1019, 'grnd_level': 1003, 'humidity': 78, 'temp_kf': 0}, 'weather': [{'id': 500, 'main': 'Rain', 'description': 'light rain', 'icon': '10d'}], 'clouds': {'all': 99}, 'wind': {'speed': 4.7, 'deg': 197, 'gust': 8.45}, 'visibility': 10000, 'pop': 0.4, 'rain': {'3h': 0.13}, 'sys': {'pod': 'd'}, 'dt_txt': '2023-09-15 09:00:00'}, {'dt': 1694779200, 'main': {'temp': 290.48, 'feels_like': 289.76, 'temp_min': 290.48, 'temp_max': 290.48, 'pressure': 1019, 'sea_level': 1019, 'grnd_level': 1002, 'humidity': 57, 'temp_kf': 0}, 'weather': [{'id': 804, 'main': 'Clouds', 'description': 'overcast clouds', 'icon': '04d'}], 'clouds': {'all': 96}, 'wind': {'speed': 5.23, 'deg': 201, 'gust': 7.4}, 'visibility': 10000, 'pop': 0.08, 'sys': {'pod': 'd'}, 'dt_txt': '2023-09-15 12:00:00'}, {'dt': 1694790000, 'main': {'temp': 288.85, 'feels_like': 288.41, 'temp_min': 288.85, 'temp_max': 288.85, 'pressure': 1019, 'sea_level': 1019, 'grnd_level': 1003, 'humidity': 74, 'temp_kf': 0}, 'weather': [{'id': 804, 'main': 'Clouds', 'description': 'overcast clouds', 'icon': '04d'}], 'clouds': {'all': 92}, 'wind': {'speed': 4.77, 'deg': 182, 'gust': 8.71}, 'visibility': 10000, 'pop': 0, 'sys': {'pod': 'd'}, 'dt_txt': '2023-09-15 15:00:00'}, {'dt': 1694800800, 'main': {'temp': 286.02, 'feels_like': 285.74, 'temp_min': 286.02, 'temp_max': 286.02, 'pressure': 1020, 'sea_level': 1020, 'grnd_level': 1003, 'humidity': 91, 'temp_kf': 0}, 'weather': [{'id': 804, 'main': 'Clouds', 'description': 'overcast clouds', 'icon': '04n'}], 'clouds': {'all': 96}, 'wind': {'speed': 3.93, 'deg': 188, 'gust': 10.09}, 'visibility': 10000, 'pop': 0, 'sys': {'pod': 'n'}, 'dt_txt': '2023-09-15 18:00:00'}, {'dt': 1694811600, 'main': {'temp': 286.41, 'feels_like': 286.17, 'temp_min': 286.41, 'temp_max': 286.41, 'pressure': 1021, 'sea_level': 1021, 'grnd_level': 1004, 'humidity': 91, 'temp_kf': 0}, 'weather': [{'id': 804, 'main': 'Clouds', 'description': 'overcast clouds', 'icon': '04n'}], 'clouds': {'all': 100}, 'wind': {'speed': 3.26, 'deg': 189, 'gust': 8.97}, 'visibility': 10000, 'pop': 0, 'sys': {'pod': 'n'}, 'dt_txt': '2023-09-15 21:00:00'}, {'dt': 1694822400, 'main': {'temp': 285.93, 'feels_like': 285.56, 'temp_min': 285.93, 'temp_max': 285.93, 'pressure': 1021, 'sea_level': 1021, 'grnd_level': 1004, 'humidity': 88, 'temp_kf': 0}, 'weather': [{'id': 804, 'main': 'Clouds', 'description': 'overcast clouds', 'icon': '04n'}], 'clouds': {'all': 100}, 'wind': {'speed': 2.5, 'deg': 197, 'gust': 6.81}, 'visibility': 10000, 'pop': 0, 'sys': {'pod': 'n'}, 'dt_txt': '2023-09-16 00:00:00'}, {'dt': 1694833200, 'main': {'temp': 285.78, 'feels_like': 285.37, 'temp_min': 285.78, 'temp_max': 285.78, 'pressure': 1022, 'sea_level': 1022, 'grnd_level': 1005, 'humidity': 87, 'temp_kf': 0}, 'weather': [{'id': 804, 'main': 'Clouds', 'description': 'overcast clouds', 'icon': '04n'}], 'clouds': {'all': 100}, 'wind': {'speed': 1.07, 'deg': 202, 'gust': 2.44}, 'visibility': 10000, 'pop': 0, 'sys': {'pod': 'n'}, 'dt_txt': '2023-09-16 03:00:00'}, {'dt': 1694844000, 'main': {'temp': 285.53, 'feels_like': 285.12, 'temp_min': 285.53, 'temp_max': 285.53, 'pressure': 1023, 'sea_level': 1023, 'grnd_level': 1006, 'humidity': 88, 'temp_kf': 0}, 'weather': [{'id': 804, 'main': 'Clouds', 'description': 'overcast clouds', 'icon': '04d'}], 'clouds': {'all': 100}, 'wind': {'speed': 0.62, 'deg': 4, 'gust': 1.3}, 'visibility': 10000, 'pop': 0, 'sys': {'pod': 'd'}, 'dt_txt': '2023-09-16 06:00:00'}], 'city': {'id': 3139081, 'name': 'Ski', 'coord': {'lat': 59.7195, 'lon': 10.8358}, 'country': 'NO', 'population': 12513, 'timezone': 7200, 'sunrise': 1694406878, 'sunset': 1694454757}}\""
      ]
     },
     "execution_count": 15,
     "metadata": {},
     "output_type": "execute_result"
    }
   ],
   "source": [
    "# Inspect JSON file\n",
    "forecast.__str__()"
   ]
  },
  {
   "cell_type": "markdown",
   "metadata": {
    "slideshow": {
     "slide_type": "slide"
    }
   },
   "source": [
    "## Raw JSON\n",
    "- A simple, but not very efficient way of storing JSON data is to treat it as a text and save it directly to the database.  \n",
    "- More efficient, with regard to transfer, is to compress the JSON data to a blob first.\n",
    "    - Compression is automatic."
   ]
  },
  {
   "cell_type": "code",
   "execution_count": 16,
   "metadata": {
    "slideshow": {
     "slide_type": "-"
    }
   },
   "outputs": [
    {
     "data": {
      "text/plain": [
       "<cassandra.cluster.ResultSet at 0x10d5850c0>"
      ]
     },
     "execution_count": 16,
     "metadata": {},
     "output_type": "execute_result"
    }
   ],
   "source": [
    "# Create a new table which treats the whole JSON as a blob, using the city id and the first dt as keys\n",
    "session.set_keyspace('my_first_keyspace')\n",
    "session.execute(\"DROP TABLE IF EXISTS my_first_keyspace.forecast_table;\")\n",
    "session.execute(\"CREATE TABLE IF NOT EXISTS forecast_table (city_id int, dt int, forecast blob, PRIMARY KEY(city_id, dt));\")"
   ]
  },
  {
   "cell_type": "markdown",
   "metadata": {
    "slideshow": {
     "slide_type": "slide"
    }
   },
   "source": [
    "### Insert the forecast data into the table as text blob"
   ]
  },
  {
   "cell_type": "code",
   "execution_count": 17,
   "metadata": {
    "slideshow": {
     "slide_type": "-"
    }
   },
   "outputs": [
    {
     "data": {
      "text/plain": [
       "<cassandra.cluster.ResultSet at 0x10d587760>"
      ]
     },
     "execution_count": 17,
     "metadata": {},
     "output_type": "execute_result"
    }
   ],
   "source": [
    "session.execute(\"INSERT INTO forecast_table (city_id, dt, forecast) VALUES (%s, %s, textAsBlob(%s));\", (forecast['city']['id'], forecast['list'][0]['dt'], forecast.__str__()))"
   ]
  },
  {
   "cell_type": "code",
   "execution_count": 18,
   "metadata": {
    "slideshow": {
     "slide_type": "slide"
    }
   },
   "outputs": [
    {
     "name": "stdout",
     "output_type": "stream",
     "text": [
      "Row(city_id=3139081, dt=1694422800, forecast=b\"{'cod': '200', 'message': 0, 'cnt': 40, 'list': [{'dt': 1694422800, 'main': {'temp': 289.86, 'feels_like': 290.15, 'temp_min': 289.86, 'temp_max': 290.06, 'pressure': 1010, 'sea_level': 1010, 'grnd_level': 994, 'humidity': 98, 'temp_kf': -0.2}, 'weather': [{'id': 804, 'main': 'Clouds', 'description': 'overcast clouds', 'icon': '04d'}], 'clouds': {'all': 100}, 'wind': {'speed': 4.41, 'deg': 182, 'gust': 12.07}, 'visibility': 914, 'pop': 0, 'sys': {'pod': 'd'}, 'dt_txt': '2023-09-11 09:00:00'}, {'dt': 1694433600, 'main': {'temp': 290.14, 'feels_like': 290.4, 'temp_min': 290.14, 'temp_max': 290.7, 'pressure': 1010, 'sea_level': 1010, 'grnd_level': 993, 'humidity': 96, 'temp_kf': -0.56}, 'weather': [{'id': 804, 'main': 'Clouds', 'description': 'overcast clouds', 'icon': '04d'}], 'clouds': {'all': 100}, 'wind': {'speed': 4.98, 'deg': 185, 'gust': 12.31}, 'visibility': 10000, 'pop': 0.26, 'sys': {'pod': 'd'}, 'dt_txt': '2023-09-11 12:00:00'}, {'dt': 1694444400, 'main': {'temp': 289.85, 'feels_like': 290.11, 'temp_min': 289.84, 'temp_max': 289.85, 'pressure': 1008, 'sea_level': 1008, 'grnd_level': 991, 'humidity': 97, 'temp_kf': 0.01}, 'weather': [{'id': 500, 'main': 'Rain', 'description': 'light rain', 'icon': '10d'}], 'clouds': {'all': 100}, 'wind': {'speed': 4.94, 'deg': 179, 'gust': 11.84}, 'visibility': 708, 'pop': 0.81, 'rain': {'3h': 1.07}, 'sys': {'pod': 'd'}, 'dt_txt': '2023-09-11 15:00:00'}, {'dt': 1694455200, 'main': {'temp': 289.26, 'feels_like': 289.49, 'temp_min': 289.26, 'temp_max': 289.26, 'pressure': 1006, 'sea_level': 1006, 'grnd_level': 990, 'humidity': 98, 'temp_kf': 0}, 'weather': [{'id': 804, 'main': 'Clouds', 'description': 'overcast clouds', 'icon': '04n'}], 'clouds': {'all': 100}, 'wind': {'speed': 4.5, 'deg': 180, 'gust': 10.64}, 'visibility': 138, 'pop': 0.61, 'sys': {'pod': 'n'}, 'dt_txt': '2023-09-11 18:00:00'}, {'dt': 1694466000, 'main': {'temp': 289.12, 'feels_like': 289.31, 'temp_min': 289.12, 'temp_max': 289.12, 'pressure': 1005, 'sea_level': 1005, 'grnd_level': 989, 'humidity': 97, 'temp_kf': 0}, 'weather': [{'id': 804, 'main': 'Clouds', 'description': 'overcast clouds', 'icon': '04n'}], 'clouds': {'all': 100}, 'wind': {'speed': 4.31, 'deg': 193, 'gust': 10.09}, 'visibility': 7799, 'pop': 0, 'sys': {'pod': 'n'}, 'dt_txt': '2023-09-11 21:00:00'}, {'dt': 1694476800, 'main': {'temp': 289.14, 'feels_like': 289.3, 'temp_min': 289.14, 'temp_max': 289.14, 'pressure': 1005, 'sea_level': 1005, 'grnd_level': 988, 'humidity': 96, 'temp_kf': 0}, 'weather': [{'id': 804, 'main': 'Clouds', 'description': 'overcast clouds', 'icon': '04n'}], 'clouds': {'all': 99}, 'wind': {'speed': 3.69, 'deg': 187, 'gust': 9.74}, 'visibility': 10000, 'pop': 0, 'sys': {'pod': 'n'}, 'dt_txt': '2023-09-12 00:00:00'}, {'dt': 1694487600, 'main': {'temp': 288.43, 'feels_like': 288.47, 'temp_min': 288.43, 'temp_max': 288.43, 'pressure': 1004, 'sea_level': 1004, 'grnd_level': 988, 'humidity': 94, 'temp_kf': 0}, 'weather': [{'id': 804, 'main': 'Clouds', 'description': 'overcast clouds', 'icon': '04n'}], 'clouds': {'all': 94}, 'wind': {'speed': 3.2, 'deg': 193, 'gust': 6.74}, 'visibility': 10000, 'pop': 0, 'sys': {'pod': 'n'}, 'dt_txt': '2023-09-12 03:00:00'}, {'dt': 1694498400, 'main': {'temp': 288.43, 'feels_like': 288.39, 'temp_min': 288.43, 'temp_max': 288.43, 'pressure': 1005, 'sea_level': 1005, 'grnd_level': 989, 'humidity': 91, 'temp_kf': 0}, 'weather': [{'id': 804, 'main': 'Clouds', 'description': 'overcast clouds', 'icon': '04d'}], 'clouds': {'all': 96}, 'wind': {'speed': 1.37, 'deg': 237, 'gust': 2.53}, 'visibility': 10000, 'pop': 0, 'sys': {'pod': 'd'}, 'dt_txt': '2023-09-12 06:00:00'}, {'dt': 1694509200, 'main': {'temp': 291.34, 'feels_like': 290.83, 'temp_min': 291.34, 'temp_max': 291.34, 'pressure': 1006, 'sea_level': 1006, 'grnd_level': 990, 'humidity': 62, 'temp_kf': 0}, 'weather': [{'id': 804, 'main': 'Clouds', 'description': 'overcast clouds', 'icon': '04d'}], 'clouds': {'all': 90}, 'wind': {'speed': 1.67, 'deg': 269, 'gust': 3.06}, 'visibility': 10000, 'pop': 0, 'sys': {'pod': 'd'}, 'dt_txt': '2023-09-12 09:00:00'}, {'dt': 1694520000, 'main': {'temp': 292.9, 'feels_like': 292, 'temp_min': 292.9, 'temp_max': 292.9, 'pressure': 1006, 'sea_level': 1006, 'grnd_level': 990, 'humidity': 41, 'temp_kf': 0}, 'weather': [{'id': 804, 'main': 'Clouds', 'description': 'overcast clouds', 'icon': '04d'}], 'clouds': {'all': 92}, 'wind': {'speed': 2.94, 'deg': 290, 'gust': 3.62}, 'visibility': 10000, 'pop': 0, 'sys': {'pod': 'd'}, 'dt_txt': '2023-09-12 12:00:00'}, {'dt': 1694530800, 'main': {'temp': 292.4, 'feels_like': 291.48, 'temp_min': 292.4, 'temp_max': 292.4, 'pressure': 1007, 'sea_level': 1007, 'grnd_level': 990, 'humidity': 42, 'temp_kf': 0}, 'weather': [{'id': 804, 'main': 'Clouds', 'description': 'overcast clouds', 'icon': '04d'}], 'clouds': {'all': 99}, 'wind': {'speed': 2.25, 'deg': 265, 'gust': 3.74}, 'visibility': 10000, 'pop': 0, 'sys': {'pod': 'd'}, 'dt_txt': '2023-09-12 15:00:00'}, {'dt': 1694541600, 'main': {'temp': 285.91, 'feels_like': 284.73, 'temp_min': 285.91, 'temp_max': 285.91, 'pressure': 1008, 'sea_level': 1008, 'grnd_level': 991, 'humidity': 57, 'temp_kf': 0}, 'weather': [{'id': 803, 'main': 'Clouds', 'description': 'broken clouds', 'icon': '04n'}], 'clouds': {'all': 82}, 'wind': {'speed': 1.2, 'deg': 321, 'gust': 1.55}, 'visibility': 10000, 'pop': 0, 'sys': {'pod': 'n'}, 'dt_txt': '2023-09-12 18:00:00'}, {'dt': 1694552400, 'main': {'temp': 283.25, 'feels_like': 282.64, 'temp_min': 283.25, 'temp_max': 283.25, 'pressure': 1010, 'sea_level': 1010, 'grnd_level': 993, 'humidity': 89, 'temp_kf': 0}, 'weather': [{'id': 803, 'main': 'Clouds', 'description': 'broken clouds', 'icon': '04n'}], 'clouds': {'all': 53}, 'wind': {'speed': 2.32, 'deg': 8, 'gust': 5.74}, 'visibility': 10000, 'pop': 0, 'sys': {'pod': 'n'}, 'dt_txt': '2023-09-12 21:00:00'}, {'dt': 1694563200, 'main': {'temp': 281.71, 'feels_like': 280.69, 'temp_min': 281.71, 'temp_max': 281.71, 'pressure': 1011, 'sea_level': 1011, 'grnd_level': 994, 'humidity': 91, 'temp_kf': 0}, 'weather': [{'id': 802, 'main': 'Clouds', 'description': 'scattered clouds', 'icon': '03n'}], 'clouds': {'all': 42}, 'wind': {'speed': 1.97, 'deg': 360, 'gust': 4.64}, 'visibility': 10000, 'pop': 0, 'sys': {'pod': 'n'}, 'dt_txt': '2023-09-13 00:00:00'}, {'dt': 1694574000, 'main': {'temp': 280.6, 'feels_like': 279.54, 'temp_min': 280.6, 'temp_max': 280.6, 'pressure': 1012, 'sea_level': 1012, 'grnd_level': 995, 'humidity': 94, 'temp_kf': 0}, 'weather': [{'id': 800, 'main': 'Clear', 'description': 'clear sky', 'icon': '01n'}], 'clouds': {'all': 2}, 'wind': {'speed': 1.82, 'deg': 349, 'gust': 4.14}, 'visibility': 10000, 'pop': 0, 'sys': {'pod': 'n'}, 'dt_txt': '2023-09-13 03:00:00'}, {'dt': 1694584800, 'main': {'temp': 281.4, 'feels_like': 280.39, 'temp_min': 281.4, 'temp_max': 281.4, 'pressure': 1014, 'sea_level': 1014, 'grnd_level': 997, 'humidity': 83, 'temp_kf': 0}, 'weather': [{'id': 800, 'main': 'Clear', 'description': 'clear sky', 'icon': '01d'}], 'clouds': {'all': 1}, 'wind': {'speed': 1.9, 'deg': 338, 'gust': 5.2}, 'visibility': 10000, 'pop': 0, 'sys': {'pod': 'd'}, 'dt_txt': '2023-09-13 06:00:00'}, {'dt': 1694595600, 'main': {'temp': 287.01, 'feels_like': 285.89, 'temp_min': 287.01, 'temp_max': 287.01, 'pressure': 1015, 'sea_level': 1015, 'grnd_level': 998, 'humidity': 55, 'temp_kf': 0}, 'weather': [{'id': 800, 'main': 'Clear', 'description': 'clear sky', 'icon': '01d'}], 'clouds': {'all': 0}, 'wind': {'speed': 2.62, 'deg': 345, 'gust': 4.4}, 'visibility': 10000, 'pop': 0, 'sys': {'pod': 'd'}, 'dt_txt': '2023-09-13 09:00:00'}, {'dt': 1694606400, 'main': {'temp': 289.88, 'feels_like': 288.78, 'temp_min': 289.88, 'temp_max': 289.88, 'pressure': 1015, 'sea_level': 1015, 'grnd_level': 999, 'humidity': 45, 'temp_kf': 0}, 'weather': [{'id': 800, 'main': 'Clear', 'description': 'clear sky', 'icon': '01d'}], 'clouds': {'all': 4}, 'wind': {'speed': 2.29, 'deg': 345, 'gust': 3.05}, 'visibility': 10000, 'pop': 0, 'sys': {'pod': 'd'}, 'dt_txt': '2023-09-13 12:00:00'}, {'dt': 1694617200, 'main': {'temp': 290.05, 'feels_like': 288.89, 'temp_min': 290.05, 'temp_max': 290.05, 'pressure': 1016, 'sea_level': 1016, 'grnd_level': 1000, 'humidity': 42, 'temp_kf': 0}, 'weather': [{'id': 801, 'main': 'Clouds', 'description': 'few clouds', 'icon': '02d'}], 'clouds': {'all': 21}, 'wind': {'speed': 2.01, 'deg': 47, 'gust': 2.88}, 'visibility': 10000, 'pop': 0, 'sys': {'pod': 'd'}, 'dt_txt': '2023-09-13 15:00:00'}, {'dt': 1694628000, 'main': {'temp': 285.38, 'feels_like': 284.3, 'temp_min': 285.38, 'temp_max': 285.38, 'pressure': 1018, 'sea_level': 1018, 'grnd_level': 1001, 'humidity': 63, 'temp_kf': 0}, 'weather': [{'id': 802, 'main': 'Clouds', 'description': 'scattered clouds', 'icon': '03n'}], 'clouds': {'all': 40}, 'wind': {'speed': 2.06, 'deg': 42, 'gust': 5.4}, 'visibility': 10000, 'pop': 0, 'sys': {'pod': 'n'}, 'dt_txt': '2023-09-13 18:00:00'}, {'dt': 1694638800, 'main': {'temp': 281.96, 'feels_like': 281.01, 'temp_min': 281.96, 'temp_max': 281.96, 'pressure': 1020, 'sea_level': 1020, 'grnd_level': 1003, 'humidity': 79, 'temp_kf': 0}, 'weather': [{'id': 803, 'main': 'Clouds', 'description': 'broken clouds', 'icon': '04n'}], 'clouds': {'all': 57}, 'wind': {'speed': 1.94, 'deg': 35, 'gust': 5.7}, 'visibility': 10000, 'pop': 0, 'sys': {'pod': 'n'}, 'dt_txt': '2023-09-13 21:00:00'}, {'dt': 1694649600, 'main': {'temp': 280.71, 'feels_like': 279.71, 'temp_min': 280.71, 'temp_max': 280.71, 'pressure': 1021, 'sea_level': 1021, 'grnd_level': 1004, 'humidity': 78, 'temp_kf': 0}, 'weather': [{'id': 803, 'main': 'Clouds', 'description': 'broken clouds', 'icon': '04n'}], 'clouds': {'all': 75}, 'wind': {'speed': 1.78, 'deg': 20, 'gust': 2.85}, 'visibility': 10000, 'pop': 0, 'sys': {'pod': 'n'}, 'dt_txt': '2023-09-14 00:00:00'}, {'dt': 1694660400, 'main': {'temp': 280.87, 'feels_like': 279.73, 'temp_min': 280.87, 'temp_max': 280.87, 'pressure': 1022, 'sea_level': 1022, 'grnd_level': 1004, 'humidity': 74, 'temp_kf': 0}, 'weather': [{'id': 804, 'main': 'Clouds', 'description': 'overcast clouds', 'icon': '04n'}], 'clouds': {'all': 100}, 'wind': {'speed': 1.95, 'deg': 32, 'gust': 4.97}, 'visibility': 10000, 'pop': 0, 'sys': {'pod': 'n'}, 'dt_txt': '2023-09-14 03:00:00'}, {'dt': 1694671200, 'main': {'temp': 281.53, 'feels_like': 280.57, 'temp_min': 281.53, 'temp_max': 281.53, 'pressure': 1022, 'sea_level': 1022, 'grnd_level': 1004, 'humidity': 72, 'temp_kf': 0}, 'weather': [{'id': 804, 'main': 'Clouds', 'description': 'overcast clouds', 'icon': '04d'}], 'clouds': {'all': 100}, 'wind': {'speed': 1.87, 'deg': 44, 'gust': 4.72}, 'visibility': 10000, 'pop': 0, 'sys': {'pod': 'd'}, 'dt_txt': '2023-09-14 06:00:00'}, {'dt': 1694682000, 'main': {'temp': 284.11, 'feels_like': 282.96, 'temp_min': 284.11, 'temp_max': 284.11, 'pressure': 1022, 'sea_level': 1022, 'grnd_level': 1005, 'humidity': 65, 'temp_kf': 0}, 'weather': [{'id': 804, 'main': 'Clouds', 'description': 'overcast clouds', 'icon': '04d'}], 'clouds': {'all': 100}, 'wind': {'speed': 2.03, 'deg': 68, 'gust': 2.79}, 'visibility': 10000, 'pop': 0.1, 'sys': {'pod': 'd'}, 'dt_txt': '2023-09-14 09:00:00'}, {'dt': 1694692800, 'main': {'temp': 285.57, 'feels_like': 284.7, 'temp_min': 285.57, 'temp_max': 285.57, 'pressure': 1021, 'sea_level': 1021, 'grnd_level': 1004, 'humidity': 70, 'temp_kf': 0}, 'weather': [{'id': 500, 'main': 'Rain', 'description': 'light rain', 'icon': '10d'}], 'clouds': {'all': 100}, 'wind': {'speed': 0.88, 'deg': 99, 'gust': 2.43}, 'visibility': 10000, 'pop': 0.24, 'rain': {'3h': 0.21}, 'sys': {'pod': 'd'}, 'dt_txt': '2023-09-14 12:00:00'}, {'dt': 1694703600, 'main': {'temp': 286.76, 'feels_like': 285.95, 'temp_min': 286.76, 'temp_max': 286.76, 'pressure': 1020, 'sea_level': 1020, 'grnd_level': 1003, 'humidity': 68, 'temp_kf': 0}, 'weather': [{'id': 500, 'main': 'Rain', 'description': 'light rain', 'icon': '10d'}], 'clouds': {'all': 90}, 'wind': {'speed': 1.96, 'deg': 195, 'gust': 3.43}, 'visibility': 10000, 'pop': 0.35, 'rain': {'3h': 0.36}, 'sys': {'pod': 'd'}, 'dt_txt': '2023-09-14 15:00:00'}, {'dt': 1694714400, 'main': {'temp': 282.69, 'feels_like': 282, 'temp_min': 282.69, 'temp_max': 282.69, 'pressure': 1020, 'sea_level': 1020, 'grnd_level': 1003, 'humidity': 90, 'temp_kf': 0}, 'weather': [{'id': 804, 'main': 'Clouds', 'description': 'overcast clouds', 'icon': '04n'}], 'clouds': {'all': 94}, 'wind': {'speed': 1.78, 'deg': 172, 'gust': 1.97}, 'visibility': 10000, 'pop': 0.09, 'sys': {'pod': 'n'}, 'dt_txt': '2023-09-14 18:00:00'}, {'dt': 1694725200, 'main': {'temp': 282.33, 'feels_like': 281.21, 'temp_min': 282.33, 'temp_max': 282.33, 'pressure': 1021, 'sea_level': 1021, 'grnd_level': 1003, 'humidity': 91, 'temp_kf': 0}, 'weather': [{'id': 804, 'main': 'Clouds', 'description': 'overcast clouds', 'icon': '04n'}], 'clouds': {'all': 100}, 'wind': {'speed': 2.22, 'deg': 173, 'gust': 8.1}, 'visibility': 10000, 'pop': 0, 'sys': {'pod': 'n'}, 'dt_txt': '2023-09-14 21:00:00'}, {'dt': 1694736000, 'main': {'temp': 284.43, 'feels_like': 283.83, 'temp_min': 284.43, 'temp_max': 284.43, 'pressure': 1020, 'sea_level': 1020, 'grnd_level': 1003, 'humidity': 85, 'temp_kf': 0}, 'weather': [{'id': 804, 'main': 'Clouds', 'description': 'overcast clouds', 'icon': '04n'}], 'clouds': {'all': 100}, 'wind': {'speed': 3.68, 'deg': 203, 'gust': 10.23}, 'visibility': 10000, 'pop': 0, 'sys': {'pod': 'n'}, 'dt_txt': '2023-09-15 00:00:00'}, {'dt': 1694746800, 'main': {'temp': 284.75, 'feels_like': 284.37, 'temp_min': 284.75, 'temp_max': 284.75, 'pressure': 1019, 'sea_level': 1019, 'grnd_level': 1002, 'humidity': 92, 'temp_kf': 0}, 'weather': [{'id': 500, 'main': 'Rain', 'description': 'light rain', 'icon': '10n'}], 'clouds': {'all': 100}, 'wind': {'speed': 4.06, 'deg': 188, 'gust': 10.12}, 'visibility': 10000, 'pop': 0.26, 'rain': {'3h': 0.45}, 'sys': {'pod': 'n'}, 'dt_txt': '2023-09-15 03:00:00'}, {'dt': 1694757600, 'main': {'temp': 285.62, 'feels_like': 285.38, 'temp_min': 285.62, 'temp_max': 285.62, 'pressure': 1020, 'sea_level': 1020, 'grnd_level': 1003, 'humidity': 94, 'temp_kf': 0}, 'weather': [{'id': 500, 'main': 'Rain', 'description': 'light rain', 'icon': '10d'}], 'clouds': {'all': 100}, 'wind': {'speed': 4.07, 'deg': 190, 'gust': 9.41}, 'visibility': 10000, 'pop': 0.3, 'rain': {'3h': 0.36}, 'sys': {'pod': 'd'}, 'dt_txt': '2023-09-15 06:00:00'}, {'dt': 1694768400, 'main': {'temp': 288.23, 'feels_like': 287.83, 'temp_min': 288.23, 'temp_max': 288.23, 'pressure': 1019, 'sea_level': 1019, 'grnd_level': 1003, 'humidity': 78, 'temp_kf': 0}, 'weather': [{'id': 500, 'main': 'Rain', 'description': 'light rain', 'icon': '10d'}], 'clouds': {'all': 99}, 'wind': {'speed': 4.7, 'deg': 197, 'gust': 8.45}, 'visibility': 10000, 'pop': 0.4, 'rain': {'3h': 0.13}, 'sys': {'pod': 'd'}, 'dt_txt': '2023-09-15 09:00:00'}, {'dt': 1694779200, 'main': {'temp': 290.48, 'feels_like': 289.76, 'temp_min': 290.48, 'temp_max': 290.48, 'pressure': 1019, 'sea_level': 1019, 'grnd_level': 1002, 'humidity': 57, 'temp_kf': 0}, 'weather': [{'id': 804, 'main': 'Clouds', 'description': 'overcast clouds', 'icon': '04d'}], 'clouds': {'all': 96}, 'wind': {'speed': 5.23, 'deg': 201, 'gust': 7.4}, 'visibility': 10000, 'pop': 0.08, 'sys': {'pod': 'd'}, 'dt_txt': '2023-09-15 12:00:00'}, {'dt': 1694790000, 'main': {'temp': 288.85, 'feels_like': 288.41, 'temp_min': 288.85, 'temp_max': 288.85, 'pressure': 1019, 'sea_level': 1019, 'grnd_level': 1003, 'humidity': 74, 'temp_kf': 0}, 'weather': [{'id': 804, 'main': 'Clouds', 'description': 'overcast clouds', 'icon': '04d'}], 'clouds': {'all': 92}, 'wind': {'speed': 4.77, 'deg': 182, 'gust': 8.71}, 'visibility': 10000, 'pop': 0, 'sys': {'pod': 'd'}, 'dt_txt': '2023-09-15 15:00:00'}, {'dt': 1694800800, 'main': {'temp': 286.02, 'feels_like': 285.74, 'temp_min': 286.02, 'temp_max': 286.02, 'pressure': 1020, 'sea_level': 1020, 'grnd_level': 1003, 'humidity': 91, 'temp_kf': 0}, 'weather': [{'id': 804, 'main': 'Clouds', 'description': 'overcast clouds', 'icon': '04n'}], 'clouds': {'all': 96}, 'wind': {'speed': 3.93, 'deg': 188, 'gust': 10.09}, 'visibility': 10000, 'pop': 0, 'sys': {'pod': 'n'}, 'dt_txt': '2023-09-15 18:00:00'}, {'dt': 1694811600, 'main': {'temp': 286.41, 'feels_like': 286.17, 'temp_min': 286.41, 'temp_max': 286.41, 'pressure': 1021, 'sea_level': 1021, 'grnd_level': 1004, 'humidity': 91, 'temp_kf': 0}, 'weather': [{'id': 804, 'main': 'Clouds', 'description': 'overcast clouds', 'icon': '04n'}], 'clouds': {'all': 100}, 'wind': {'speed': 3.26, 'deg': 189, 'gust': 8.97}, 'visibility': 10000, 'pop': 0, 'sys': {'pod': 'n'}, 'dt_txt': '2023-09-15 21:00:00'}, {'dt': 1694822400, 'main': {'temp': 285.93, 'feels_like': 285.56, 'temp_min': 285.93, 'temp_max': 285.93, 'pressure': 1021, 'sea_level': 1021, 'grnd_level': 1004, 'humidity': 88, 'temp_kf': 0}, 'weather': [{'id': 804, 'main': 'Clouds', 'description': 'overcast clouds', 'icon': '04n'}], 'clouds': {'all': 100}, 'wind': {'speed': 2.5, 'deg': 197, 'gust': 6.81}, 'visibility': 10000, 'pop': 0, 'sys': {'pod': 'n'}, 'dt_txt': '2023-09-16 00:00:00'}, {'dt': 1694833200, 'main': {'temp': 285.78, 'feels_like': 285.37, 'temp_min': 285.78, 'temp_max': 285.78, 'pressure': 1022, 'sea_level': 1022, 'grnd_level': 1005, 'humidity': 87, 'temp_kf': 0}, 'weather': [{'id': 804, 'main': 'Clouds', 'description': 'overcast clouds', 'icon': '04n'}], 'clouds': {'all': 100}, 'wind': {'speed': 1.07, 'deg': 202, 'gust': 2.44}, 'visibility': 10000, 'pop': 0, 'sys': {'pod': 'n'}, 'dt_txt': '2023-09-16 03:00:00'}, {'dt': 1694844000, 'main': {'temp': 285.53, 'feels_like': 285.12, 'temp_min': 285.53, 'temp_max': 285.53, 'pressure': 1023, 'sea_level': 1023, 'grnd_level': 1006, 'humidity': 88, 'temp_kf': 0}, 'weather': [{'id': 804, 'main': 'Clouds', 'description': 'overcast clouds', 'icon': '04d'}], 'clouds': {'all': 100}, 'wind': {'speed': 0.62, 'deg': 4, 'gust': 1.3}, 'visibility': 10000, 'pop': 0, 'sys': {'pod': 'd'}, 'dt_txt': '2023-09-16 06:00:00'}], 'city': {'id': 3139081, 'name': 'Ski', 'coord': {'lat': 59.7195, 'lon': 10.8358}, 'country': 'NO', 'population': 12513, 'timezone': 7200, 'sunrise': 1694406878, 'sunset': 1694454757}}\")\n"
     ]
    }
   ],
   "source": [
    "# Query the data\n",
    "forecast_rows = session.execute(\"SELECT * FROM forecast_table;\")\n",
    "print(forecast_rows.one()) # <- only one row"
   ]
  },
  {
   "cell_type": "markdown",
   "metadata": {
    "slideshow": {
     "slide_type": "slide"
    }
   },
   "source": [
    "## Resources\n",
    "- [Cassandra webpage](https://cassandra.apache.org/)\n",
    "- [Cassandra Docker file](https://hub.docker.com/_/cassandra)\n",
    "- [UUID functions](https://docs.datastax.com/en/cql-oss/3.3/cql/cql_reference/timeuuid_functions_r.html)\n",
    "- [YouTube: Cassandra in 100 seconds](https://youtu.be/ziq7FUKpCS8?si=WQUdkHFvaBmT0DBo) (2m:26s)\n",
    "- [YouTube: How to use Appache Cassandra in Python](https://youtu.be/qMauZqJH3ZM?si=yKGZ-5cld2BK396Y) (14m:50s)\n",
    "- [YouTube: Cassandra Database Crash Course](https://youtu.be/KZsVSfQVU4I?si=FBCi8qOfCirfVmZk) (19m:47s)"
   ]
  }
 ],
 "metadata": {
  "celltoolbar": "Slideshow",
  "kernelspec": {
   "display_name": "Python 3 (ipykernel)",
   "language": "python",
   "name": "python3"
  },
  "language_info": {
   "codemirror_mode": {
    "name": "ipython",
    "version": 3
   },
   "file_extension": ".py",
   "mimetype": "text/x-python",
   "name": "python",
   "nbconvert_exporter": "python",
   "pygments_lexer": "ipython3",
   "version": "3.10.6"
  }
 },
 "nbformat": 4,
 "nbformat_minor": 2
}