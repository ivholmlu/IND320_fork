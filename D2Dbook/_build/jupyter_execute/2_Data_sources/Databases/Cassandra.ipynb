{
 "cells": [
  {
   "cell_type": "markdown",
   "metadata": {
    "slideshow": {
     "slide_type": "slide"
    }
   },
   "source": [
    "# Cassandra\n",
    "Assumptions:\n",
    "- Docker installed on system\n",
    "- \"cassandra:latest\" image installed in docker\n",
    "- Python/Conda environment with python 3.8 (or newer*)  \n",
    "  \n",
    "*As of 9 August 2023, the officially built cassandra-driver package was at version 3.25 and did not work well with Python 3.10 on Mac.  \n",
    "To install a newer version from the terminal you can:  \n",
    "```\n",
    "pip install git+https://github.com/datastax/python-driver.git\n",
    "pip install cql\n",
    "```"
   ]
  },
  {
   "cell_type": "markdown",
   "metadata": {
    "slideshow": {
     "slide_type": "slide"
    }
   },
   "source": [
    "Or use older Python:  \n",
    "```\n",
    "conda create --name cassy38 python=3.8 jupyter scikit-learn\n",
    "conda activate cassy38  \n",
    "pip install cassandra-driver cql\n",
    "```"
   ]
  },
  {
   "cell_type": "markdown",
   "metadata": {
    "slideshow": {
     "slide_type": "slide"
    }
   },
   "source": [
    "## Spinning up a local cassandra instance\n",
    "In a terminal, first time:  \n",
    "```docker run --name my_cassandra -p 9042:9042 cassandra:latest```  \n",
    "... and later:  \n",
    "```docker start my_cassandra```  \n",
    "  \n",
    ".. or in Docker Desktop:\n",
    "- Run the cassandra docker image with optional settings, opening 9042 port and setting a name.\n",
    "- Later, simply run the container with the name you chose."
   ]
  },
  {
   "cell_type": "markdown",
   "metadata": {
    "slideshow": {
     "slide_type": "slide"
    }
   },
   "source": [
    "<img src=\"../../images/Docker_images.png\" width=\"600px\">  "
   ]
  },
  {
   "cell_type": "markdown",
   "metadata": {
    "slideshow": {
     "slide_type": "slide"
    }
   },
   "source": [
    "\n",
    "<img src=\"../../images/Docker_containers.png\" width=\"800px\">  "
   ]
  },
  {
   "cell_type": "markdown",
   "metadata": {
    "slideshow": {
     "slide_type": "slide"
    }
   },
   "source": [
    "### Connect to the Cassandra cluster from Python."
   ]
  },
  {
   "cell_type": "code",
   "execution_count": 1,
   "metadata": {
    "slideshow": {
     "slide_type": "-"
    }
   },
   "outputs": [],
   "source": [
    "# Connecting to Cassandra\n",
    "from cassandra.cluster import Cluster\n",
    "cluster = Cluster(['localhost'], port=9042)\n",
    "session = cluster.connect()"
   ]
  },
  {
   "cell_type": "markdown",
   "metadata": {
    "slideshow": {
     "slide_type": "slide"
    }
   },
   "source": [
    "### Keyspace\n",
    "- In Cassandra database tables are stored in keyspaces (basically a distributed database).\n",
    "- These have parameters controlling their distribution on nodes/servers and redundancy.\n",
    "- We will use the simplest form locally."
   ]
  },
  {
   "cell_type": "code",
   "execution_count": 2,
   "metadata": {
    "slideshow": {
     "slide_type": "fragment"
    }
   },
   "outputs": [
    {
     "data": {
      "text/plain": [
       "<cassandra.cluster.ResultSet at 0x106e132e0>"
      ]
     },
     "execution_count": 2,
     "metadata": {},
     "output_type": "execute_result"
    }
   ],
   "source": [
    "# Set up new keyspace (first time only)\n",
    "#                                              name of keyspace                        replication strategy           replication factor\n",
    "session.execute(\"CREATE KEYSPACE IF NOT EXISTS my_first_keyspace WITH REPLICATION = { 'class' : 'SimpleStrategy', 'replication_factor' : 1 };\")"
   ]
  },
  {
   "cell_type": "markdown",
   "metadata": {
    "slideshow": {
     "slide_type": "slide"
    }
   },
   "source": [
    "### Create a table\n",
    "- IF NOT EXISTS makes sure we do not overwrite existing tables"
   ]
  },
  {
   "cell_type": "code",
   "execution_count": 3,
   "metadata": {
    "slideshow": {
     "slide_type": "fragment"
    }
   },
   "outputs": [
    {
     "data": {
      "text/plain": [
       "<cassandra.cluster.ResultSet at 0x106dcb400>"
      ]
     },
     "execution_count": 3,
     "metadata": {},
     "output_type": "execute_result"
    }
   ],
   "source": [
    "# Create a new table (first time only)\n",
    "session.set_keyspace('my_first_keyspace')\n",
    "session.execute(\"DROP TABLE IF EXISTS my_first_keyspace.my_first_table;\") # Starting from scratch every time\n",
    "session.execute(\"CREATE TABLE IF NOT EXISTS my_first_table (ind int PRIMARY KEY, company text, model text);\")"
   ]
  },
  {
   "cell_type": "markdown",
   "metadata": {
    "slideshow": {
     "slide_type": "slide"
    }
   },
   "source": [
    "### Inserting and reading data"
   ]
  },
  {
   "cell_type": "code",
   "execution_count": 4,
   "metadata": {
    "slideshow": {
     "slide_type": "-"
    }
   },
   "outputs": [
    {
     "data": {
      "text/plain": [
       "<cassandra.cluster.ResultSet at 0x106dc06a0>"
      ]
     },
     "execution_count": 4,
     "metadata": {},
     "output_type": "execute_result"
    }
   ],
   "source": [
    "# Insert some data (ind is the primary key, must be unique)\n",
    "session.execute(\"INSERT INTO my_first_table (ind, company, model) VALUES (1, 'Tesla', 'Model S');\")\n",
    "session.execute(\"INSERT INTO my_first_table (ind, company, model) VALUES (2, 'Tesla', 'Model 3');\")\n",
    "session.execute(\"INSERT INTO my_first_table (ind, company, model) VALUES (3, 'Polestar', '3');\")"
   ]
  },
  {
   "cell_type": "markdown",
   "metadata": {
    "slideshow": {
     "slide_type": "slide"
    }
   },
   "source": [
    "### Asyncronous writing\n",
    "- If your application is very data intensive, waiting for a response is not productive.\n",
    "- Writing asyncronously sends the data but does not pause for reply."
   ]
  },
  {
   "cell_type": "code",
   "execution_count": 5,
   "metadata": {
    "slideshow": {
     "slide_type": "-"
    }
   },
   "outputs": [
    {
     "data": {
      "text/plain": [
       "<ResponseFuture: query='<SimpleStatement query=\"INSERT INTO my_first_table (ind, company, model) VALUES (4, 'Volkswagen', 'ID.4');\", consistency=Not Set>' request_id=24 result=(no result yet) exception=None coordinator_host=None>"
      ]
     },
     "execution_count": 5,
     "metadata": {},
     "output_type": "execute_result"
    }
   ],
   "source": [
    "session.execute_async(\"INSERT INTO my_first_table (ind, company, model) VALUES (4, 'Volkswagen', 'ID.4');\")"
   ]
  },
  {
   "cell_type": "code",
   "execution_count": 6,
   "metadata": {
    "slideshow": {
     "slide_type": "slide"
    }
   },
   "outputs": [
    {
     "name": "stdout",
     "output_type": "stream",
     "text": [
      "Row(ind=1, company='Tesla', model='Model S')\n",
      "Row(ind=2, company='Tesla', model='Model 3')\n",
      "Row(ind=4, company='Volkswagen', model='ID.4')\n",
      "Row(ind=3, company='Polestar', model='3')\n"
     ]
    }
   ],
   "source": [
    "# Query the data\n",
    "rows = session.execute(\"SELECT * FROM my_first_table;\")\n",
    "for i in rows:\n",
    "    print(i)"
   ]
  },
  {
   "cell_type": "code",
   "execution_count": 7,
   "metadata": {
    "slideshow": {
     "slide_type": "slide"
    },
    "tags": [
     "raises-exception"
    ]
   },
   "outputs": [
    {
     "ename": "InvalidRequest",
     "evalue": "Error from server: code=2200 [Invalid query] message=\"Cannot execute this query as it might involve data filtering and thus may have unpredictable performance. If you want to execute this query despite the performance unpredictability, use ALLOW FILTERING\"",
     "output_type": "error",
     "traceback": [
      "\u001b[0;31m---------------------------------------------------------------------------\u001b[0m",
      "\u001b[0;31mInvalidRequest\u001b[0m                            Traceback (most recent call last)",
      "Cell \u001b[0;32mIn [7], line 2\u001b[0m\n\u001b[1;32m      1\u001b[0m \u001b[38;5;66;03m# More specific query\u001b[39;00m\n\u001b[0;32m----> 2\u001b[0m prepared_statement \u001b[38;5;241m=\u001b[39m \u001b[43msession\u001b[49m\u001b[38;5;241;43m.\u001b[39;49m\u001b[43mprepare\u001b[49m\u001b[43m(\u001b[49m\u001b[38;5;124;43m\"\u001b[39;49m\u001b[38;5;124;43mSELECT * FROM my_first_table WHERE company=?;\u001b[39;49m\u001b[38;5;124;43m\"\u001b[39;49m\u001b[43m)\u001b[49m \u001b[38;5;66;03m# <- will fail as company is not a key\u001b[39;00m\n\u001b[1;32m      3\u001b[0m teslas \u001b[38;5;241m=\u001b[39m session\u001b[38;5;241m.\u001b[39mexecute(prepared_statement, [\u001b[38;5;124m'\u001b[39m\u001b[38;5;124mTesla\u001b[39m\u001b[38;5;124m'\u001b[39m])\n\u001b[1;32m      4\u001b[0m \u001b[38;5;28;01mfor\u001b[39;00m i \u001b[38;5;129;01min\u001b[39;00m teslas:\n",
      "File \u001b[0;32m~/miniforge3/envs/tf_M1/lib/python3.10/site-packages/cassandra/cluster.py:3088\u001b[0m, in \u001b[0;36mSession.prepare\u001b[0;34m(self, query, custom_payload, keyspace)\u001b[0m\n\u001b[1;32m   3086\u001b[0m \u001b[38;5;28;01mtry\u001b[39;00m:\n\u001b[1;32m   3087\u001b[0m     future\u001b[38;5;241m.\u001b[39msend_request()\n\u001b[0;32m-> 3088\u001b[0m     response \u001b[38;5;241m=\u001b[39m \u001b[43mfuture\u001b[49m\u001b[38;5;241;43m.\u001b[39;49m\u001b[43mresult\u001b[49m\u001b[43m(\u001b[49m\u001b[43m)\u001b[49m\u001b[38;5;241m.\u001b[39mone()\n\u001b[1;32m   3089\u001b[0m \u001b[38;5;28;01mexcept\u001b[39;00m \u001b[38;5;167;01mException\u001b[39;00m:\n\u001b[1;32m   3090\u001b[0m     log\u001b[38;5;241m.\u001b[39mexception(\u001b[38;5;124m\"\u001b[39m\u001b[38;5;124mError preparing query:\u001b[39m\u001b[38;5;124m\"\u001b[39m)\n",
      "File \u001b[0;32m~/miniforge3/envs/tf_M1/lib/python3.10/site-packages/cassandra/cluster.py:4920\u001b[0m, in \u001b[0;36mResponseFuture.result\u001b[0;34m(self)\u001b[0m\n\u001b[1;32m   4918\u001b[0m     \u001b[38;5;28;01mreturn\u001b[39;00m ResultSet(\u001b[38;5;28mself\u001b[39m, \u001b[38;5;28mself\u001b[39m\u001b[38;5;241m.\u001b[39m_final_result)\n\u001b[1;32m   4919\u001b[0m \u001b[38;5;28;01melse\u001b[39;00m:\n\u001b[0;32m-> 4920\u001b[0m     \u001b[38;5;28;01mraise\u001b[39;00m \u001b[38;5;28mself\u001b[39m\u001b[38;5;241m.\u001b[39m_final_exception\n",
      "\u001b[0;31mInvalidRequest\u001b[0m: Error from server: code=2200 [Invalid query] message=\"Cannot execute this query as it might involve data filtering and thus may have unpredictable performance. If you want to execute this query despite the performance unpredictability, use ALLOW FILTERING\""
     ]
    }
   ],
   "source": [
    "# More specific query\n",
    "prepared_statement = session.prepare(\"SELECT * FROM my_first_table WHERE company=?;\") # <- will fail as company is not a key\n",
    "teslas = session.execute(prepared_statement, ['Tesla'])\n",
    "for i in teslas:\n",
    "    print(i)"
   ]
  },
  {
   "cell_type": "markdown",
   "metadata": {
    "slideshow": {
     "slide_type": "slide"
    }
   },
   "source": [
    "## Cassandra filtering\n",
    "Cassandra is inherently a distributed production database. Selecting as above may require downloading all data from a node, then filtering based on the WHERE part (only PRIMARY KEYs are centrally known). Solutions:  \n",
    "- If the table is small or most of the data will satisfy the query, add ```ALLOW FILTERING``` at the end of the query (not recommended if not known). \n",
    "- Or make sure the WHERE clause points to one of the keys (see below)."
   ]
  },
  {
   "cell_type": "code",
   "execution_count": 8,
   "metadata": {
    "slideshow": {
     "slide_type": "slide"
    }
   },
   "outputs": [
    {
     "data": {
      "text/plain": [
       "<cassandra.cluster.ResultSet at 0x106de2590>"
      ]
     },
     "execution_count": 8,
     "metadata": {},
     "output_type": "execute_result"
    }
   ],
   "source": [
    "# Create a new table (observe keys)\n",
    "session.execute(\"DROP TABLE IF EXISTS my_first_keyspace.car_table;\")\n",
    "session.execute(\"CREATE TABLE IF NOT EXISTS car_table (company text, model text, PRIMARY KEY(company, model));\")"
   ]
  },
  {
   "cell_type": "code",
   "execution_count": 9,
   "metadata": {
    "slideshow": {
     "slide_type": "fragment"
    }
   },
   "outputs": [
    {
     "data": {
      "text/plain": [
       "<cassandra.cluster.ResultSet at 0x10798df60>"
      ]
     },
     "execution_count": 9,
     "metadata": {},
     "output_type": "execute_result"
    }
   ],
   "source": [
    "# Insert some data (combination of company and model must be unique)\n",
    "session.execute(\"INSERT INTO car_table (company, model) VALUES ('Tesla', 'Model S');\")\n",
    "session.execute(\"INSERT INTO car_table (company, model) VALUES ('Tesla', 'Model 3');\")\n",
    "session.execute(\"INSERT INTO car_table (company, model) VALUES ('Polestar', '3');\")\n",
    "session.execute(\"INSERT INTO car_table (company, model) VALUES ('Volkswagen', 'ID.4');\")"
   ]
  },
  {
   "cell_type": "code",
   "execution_count": 10,
   "metadata": {
    "slideshow": {
     "slide_type": "slide"
    }
   },
   "outputs": [
    {
     "name": "stdout",
     "output_type": "stream",
     "text": [
      "Row(company='Tesla', model='Model 3')\n",
      "Row(company='Tesla', model='Model S')\n"
     ]
    }
   ],
   "source": [
    "# More specific query now works\n",
    "prepared_statement = session.prepare(\"SELECT * FROM car_table WHERE company=?;\")\n",
    "teslas = session.execute(prepared_statement, ['Tesla'])\n",
    "for i in teslas:\n",
    "    print(i)"
   ]
  },
  {
   "cell_type": "markdown",
   "metadata": {
    "slideshow": {
     "slide_type": "slide"
    }
   },
   "source": [
    "### Partitions\n",
    "- Cassandra databases are usually replicated over different nodes.\n",
    "- Data is stored in partitions (subsets) which have local copys.\n",
    "- The primary key, e.g., PRIMARY KEY(company, model), is used in partitioning.\n",
    "    - The first part, e.g., company, is most important.\n",
    "    - All cars from a company will be located together, aiming for quicker queries."
   ]
  },
  {
   "cell_type": "markdown",
   "metadata": {
    "slideshow": {
     "slide_type": "slide"
    }
   },
   "source": [
    "### Unique IDs \n",
    "- In MySQL one could use the attribute AUTO_INCREMENT on integer IDs to automatically make a new unique index when inserting data.\n",
    "- This would cause unreasonable overhead in a distributed database.\n",
    "- [UUID](https://en.wikipedia.org/wiki/Universally_unique_identifier)s are used instead.\n",
    "    - Universally Unique Identifiers are typically 128-bit random bit sequences with extremely low probability of duplication.\n",
    "    - Cassandra uses a [timeuuid](https://docs.datastax.com/en/cql-oss/3.3/cql/cql_reference/timeuuid_functions_r.html) type to combine a timestamp and uuid in one."
   ]
  },
  {
   "cell_type": "code",
   "execution_count": 11,
   "metadata": {
    "slideshow": {
     "slide_type": "fragment"
    }
   },
   "outputs": [
    {
     "data": {
      "text/plain": [
       "<cassandra.cluster.ResultSet at 0x10798f7f0>"
      ]
     },
     "execution_count": 11,
     "metadata": {},
     "output_type": "execute_result"
    }
   ],
   "source": [
    "# Create a new table (first time only)\n",
    "session.set_keyspace('my_first_keyspace')\n",
    "session.execute(\"DROP TABLE IF EXISTS my_first_keyspace.table_with_uuid;\")\n",
    "session.execute(\"CREATE TABLE IF NOT EXISTS table_with_uuid (id timeuuid PRIMARY KEY, company text, model text, price float);\")"
   ]
  },
  {
   "cell_type": "code",
   "execution_count": 12,
   "metadata": {
    "slideshow": {
     "slide_type": "slide"
    }
   },
   "outputs": [
    {
     "data": {
      "text/plain": [
       "<cassandra.cluster.ResultSet at 0x10798fe50>"
      ]
     },
     "execution_count": 12,
     "metadata": {},
     "output_type": "execute_result"
    }
   ],
   "source": [
    "session.execute(\"INSERT INTO table_with_uuid (id, company, model, price) VALUES (now(), 'Tesla', 'Model S', 20000.0);\")\n",
    "session.execute(\"INSERT INTO table_with_uuid (id, company, model, price) VALUES (now(), 'Tesla', 'Model S', 21000.0);\")\n",
    "session.execute(\"INSERT INTO table_with_uuid (id, company, model, price) VALUES (now(), 'Oldsmobile', 'Model 6C', 135000.0);\")"
   ]
  },
  {
   "cell_type": "code",
   "execution_count": 13,
   "metadata": {
    "slideshow": {
     "slide_type": "slide"
    }
   },
   "outputs": [
    {
     "name": "stdout",
     "output_type": "stream",
     "text": [
      "Row(id=UUID('10567b00-526d-11ee-9429-ad37399ff905'), company='Tesla', model='Model S', price=20000.0)\n",
      "Datetime: 2023-09-13 19:38:07.408000\n",
      "Row(id=UUID('1056f030-526d-11ee-9429-ad37399ff905'), company='Oldsmobile', model='Model 6C', price=135000.0)\n",
      "Datetime: 2023-09-13 19:38:07.411000\n",
      "Row(id=UUID('1056c920-526d-11ee-9429-ad37399ff905'), company='Tesla', model='Model S', price=21000.0)\n",
      "Datetime: 2023-09-13 19:38:07.410000\n"
     ]
    }
   ],
   "source": [
    "from cassandra.util import datetime_from_uuid1\n",
    "\n",
    "# Query the data\n",
    "rows = session.execute(\"SELECT * FROM table_with_uuid;\")\n",
    "for i in rows:\n",
    "    print(i)\n",
    "    # Extract the timestamp from Cassandra's timeuuid\n",
    "    print(\"Datetime:\", datetime_from_uuid1(i.id))"
   ]
  },
  {
   "cell_type": "markdown",
   "metadata": {
    "slideshow": {
     "slide_type": "slide"
    }
   },
   "source": [
    "## JSON in Cassandra\n",
    "### Read previously saved JSON file forecast.json to memory"
   ]
  },
  {
   "cell_type": "code",
   "execution_count": 14,
   "metadata": {
    "slideshow": {
     "slide_type": "-"
    }
   },
   "outputs": [],
   "source": [
    "import json\n",
    "with open('../APIs/downloads/forecast.json', 'r') as f:\n",
    "    forecast = json.load(f)"
   ]
  },
  {
   "cell_type": "code",
   "execution_count": 15,
   "metadata": {
    "slideshow": {
     "slide_type": "slide"
    }
   },
   "outputs": [
    {
     "data": {
      "text/plain": [
       "\"{'cod': '200', 'message': 0, 'cnt': 40, 'list': [{'dt': 1694638800, 'main': {'temp': 282.84, 'feels_like': 281.85, 'temp_min': 280.99, 'temp_max': 282.84, 'pressure': 1020, 'sea_level': 1020, 'grnd_level': 1003, 'humidity': 70, 'temp_kf': 1.85}, 'weather': [{'id': 802, 'main': 'Clouds', 'description': 'scattered clouds', 'icon': '03n'}], 'clouds': {'all': 45}, 'wind': {'speed': 2.16, 'deg': 25, 'gust': 5.36}, 'visibility': 10000, 'pop': 0, 'sys': {'pod': 'n'}, 'dt_txt': '2023-09-13 21:00:00'}, {'dt': 1694649600, 'main': {'temp': 281.62, 'feels_like': 280.66, 'temp_min': 279.19, 'temp_max': 281.62, 'pressure': 1020, 'sea_level': 1020, 'grnd_level': 1004, 'humidity': 71, 'temp_kf': 2.43}, 'weather': [{'id': 802, 'main': 'Clouds', 'description': 'scattered clouds', 'icon': '03n'}], 'clouds': {'all': 44}, 'wind': {'speed': 1.89, 'deg': 10, 'gust': 2.78}, 'visibility': 10000, 'pop': 0, 'sys': {'pod': 'n'}, 'dt_txt': '2023-09-14 00:00:00'}, {'dt': 1694660400, 'main': {'temp': 279.55, 'feels_like': 278.48, 'temp_min': 277.91, 'temp_max': 279.55, 'pressure': 1021, 'sea_level': 1021, 'grnd_level': 1004, 'humidity': 76, 'temp_kf': 1.64}, 'weather': [{'id': 802, 'main': 'Clouds', 'description': 'scattered clouds', 'icon': '03n'}], 'clouds': {'all': 46}, 'wind': {'speed': 1.68, 'deg': 25, 'gust': 1.72}, 'visibility': 10000, 'pop': 0, 'sys': {'pod': 'n'}, 'dt_txt': '2023-09-14 03:00:00'}, {'dt': 1694671200, 'main': {'temp': 279.73, 'feels_like': 279.73, 'temp_min': 279.73, 'temp_max': 279.73, 'pressure': 1022, 'sea_level': 1022, 'grnd_level': 1005, 'humidity': 71, 'temp_kf': 0}, 'weather': [{'id': 803, 'main': 'Clouds', 'description': 'broken clouds', 'icon': '04d'}], 'clouds': {'all': 73}, 'wind': {'speed': 1.1, 'deg': 31, 'gust': 1.83}, 'visibility': 10000, 'pop': 0, 'sys': {'pod': 'd'}, 'dt_txt': '2023-09-14 06:00:00'}, {'dt': 1694682000, 'main': {'temp': 285.1, 'feels_like': 283.71, 'temp_min': 285.1, 'temp_max': 285.1, 'pressure': 1021, 'sea_level': 1021, 'grnd_level': 1004, 'humidity': 52, 'temp_kf': 0}, 'weather': [{'id': 804, 'main': 'Clouds', 'description': 'overcast clouds', 'icon': '04d'}], 'clouds': {'all': 95}, 'wind': {'speed': 1.31, 'deg': 115, 'gust': 2.37}, 'visibility': 10000, 'pop': 0, 'sys': {'pod': 'd'}, 'dt_txt': '2023-09-14 09:00:00'}, {'dt': 1694692800, 'main': {'temp': 287.92, 'feels_like': 286.6, 'temp_min': 287.92, 'temp_max': 287.92, 'pressure': 1020, 'sea_level': 1020, 'grnd_level': 1003, 'humidity': 44, 'temp_kf': 0}, 'weather': [{'id': 804, 'main': 'Clouds', 'description': 'overcast clouds', 'icon': '04d'}], 'clouds': {'all': 96}, 'wind': {'speed': 2.57, 'deg': 186, 'gust': 4.48}, 'visibility': 10000, 'pop': 0, 'sys': {'pod': 'd'}, 'dt_txt': '2023-09-14 12:00:00'}, {'dt': 1694703600, 'main': {'temp': 287.64, 'feels_like': 286.61, 'temp_min': 287.64, 'temp_max': 287.64, 'pressure': 1019, 'sea_level': 1019, 'grnd_level': 1002, 'humidity': 56, 'temp_kf': 0}, 'weather': [{'id': 803, 'main': 'Clouds', 'description': 'broken clouds', 'icon': '04d'}], 'clouds': {'all': 70}, 'wind': {'speed': 2.63, 'deg': 205, 'gust': 4.8}, 'visibility': 10000, 'pop': 0, 'sys': {'pod': 'd'}, 'dt_txt': '2023-09-14 15:00:00'}, {'dt': 1694714400, 'main': {'temp': 283.77, 'feels_like': 283.05, 'temp_min': 283.77, 'temp_max': 283.77, 'pressure': 1019, 'sea_level': 1019, 'grnd_level': 1002, 'humidity': 83, 'temp_kf': 0}, 'weather': [{'id': 803, 'main': 'Clouds', 'description': 'broken clouds', 'icon': '04n'}], 'clouds': {'all': 73}, 'wind': {'speed': 2.31, 'deg': 179, 'gust': 7.34}, 'visibility': 10000, 'pop': 0, 'sys': {'pod': 'n'}, 'dt_txt': '2023-09-14 18:00:00'}, {'dt': 1694725200, 'main': {'temp': 283.69, 'feels_like': 283.07, 'temp_min': 283.69, 'temp_max': 283.69, 'pressure': 1019, 'sea_level': 1019, 'grnd_level': 1002, 'humidity': 87, 'temp_kf': 0}, 'weather': [{'id': 500, 'main': 'Rain', 'description': 'light rain', 'icon': '10n'}], 'clouds': {'all': 98}, 'wind': {'speed': 2.97, 'deg': 201, 'gust': 7.72}, 'visibility': 10000, 'pop': 0.21, 'rain': {'3h': 0.22}, 'sys': {'pod': 'n'}, 'dt_txt': '2023-09-14 21:00:00'}, {'dt': 1694736000, 'main': {'temp': 283.79, 'feels_like': 283.31, 'temp_min': 283.79, 'temp_max': 283.79, 'pressure': 1019, 'sea_level': 1019, 'grnd_level': 1002, 'humidity': 92, 'temp_kf': 0}, 'weather': [{'id': 500, 'main': 'Rain', 'description': 'light rain', 'icon': '10n'}], 'clouds': {'all': 99}, 'wind': {'speed': 1.77, 'deg': 148, 'gust': 6.89}, 'visibility': 10000, 'pop': 0.24, 'rain': {'3h': 0.22}, 'sys': {'pod': 'n'}, 'dt_txt': '2023-09-15 00:00:00'}, {'dt': 1694746800, 'main': {'temp': 283.36, 'feels_like': 283, 'temp_min': 283.36, 'temp_max': 283.36, 'pressure': 1018, 'sea_level': 1018, 'grnd_level': 1001, 'humidity': 98, 'temp_kf': 0}, 'weather': [{'id': 500, 'main': 'Rain', 'description': 'light rain', 'icon': '10n'}], 'clouds': {'all': 98}, 'wind': {'speed': 1.08, 'deg': 207, 'gust': 1.84}, 'visibility': 10000, 'pop': 0.33, 'rain': {'3h': 0.22}, 'sys': {'pod': 'n'}, 'dt_txt': '2023-09-15 03:00:00'}, {'dt': 1694757600, 'main': {'temp': 283.18, 'feels_like': 282.72, 'temp_min': 283.18, 'temp_max': 283.18, 'pressure': 1019, 'sea_level': 1019, 'grnd_level': 1002, 'humidity': 95, 'temp_kf': 0}, 'weather': [{'id': 804, 'main': 'Clouds', 'description': 'overcast clouds', 'icon': '04d'}], 'clouds': {'all': 99}, 'wind': {'speed': 1.72, 'deg': 188, 'gust': 5.12}, 'visibility': 10000, 'pop': 0.11, 'sys': {'pod': 'd'}, 'dt_txt': '2023-09-15 06:00:00'}, {'dt': 1694768400, 'main': {'temp': 286.86, 'feels_like': 286.27, 'temp_min': 286.86, 'temp_max': 286.86, 'pressure': 1019, 'sea_level': 1019, 'grnd_level': 1002, 'humidity': 76, 'temp_kf': 0}, 'weather': [{'id': 804, 'main': 'Clouds', 'description': 'overcast clouds', 'icon': '04d'}], 'clouds': {'all': 100}, 'wind': {'speed': 3.66, 'deg': 200, 'gust': 7.84}, 'visibility': 10000, 'pop': 0, 'sys': {'pod': 'd'}, 'dt_txt': '2023-09-15 09:00:00'}, {'dt': 1694779200, 'main': {'temp': 286.76, 'feels_like': 286.27, 'temp_min': 286.76, 'temp_max': 286.76, 'pressure': 1020, 'sea_level': 1020, 'grnd_level': 1003, 'humidity': 80, 'temp_kf': 0}, 'weather': [{'id': 804, 'main': 'Clouds', 'description': 'overcast clouds', 'icon': '04d'}], 'clouds': {'all': 100}, 'wind': {'speed': 4.31, 'deg': 196, 'gust': 8.48}, 'visibility': 10000, 'pop': 0, 'sys': {'pod': 'd'}, 'dt_txt': '2023-09-15 12:00:00'}, {'dt': 1694790000, 'main': {'temp': 284.47, 'feels_like': 284.11, 'temp_min': 284.47, 'temp_max': 284.47, 'pressure': 1020, 'sea_level': 1020, 'grnd_level': 1003, 'humidity': 94, 'temp_kf': 0}, 'weather': [{'id': 500, 'main': 'Rain', 'description': 'light rain', 'icon': '10d'}], 'clouds': {'all': 100}, 'wind': {'speed': 1.98, 'deg': 179, 'gust': 5.6}, 'visibility': 10000, 'pop': 0.94, 'rain': {'3h': 0.88}, 'sys': {'pod': 'd'}, 'dt_txt': '2023-09-15 15:00:00'}, {'dt': 1694800800, 'main': {'temp': 284.08, 'feels_like': 283.76, 'temp_min': 284.08, 'temp_max': 284.08, 'pressure': 1020, 'sea_level': 1020, 'grnd_level': 1003, 'humidity': 97, 'temp_kf': 0}, 'weather': [{'id': 500, 'main': 'Rain', 'description': 'light rain', 'icon': '10n'}], 'clouds': {'all': 100}, 'wind': {'speed': 1.22, 'deg': 155, 'gust': 3.37}, 'visibility': 10000, 'pop': 1, 'rain': {'3h': 1.42}, 'sys': {'pod': 'n'}, 'dt_txt': '2023-09-15 18:00:00'}, {'dt': 1694811600, 'main': {'temp': 285.94, 'feels_like': 285.81, 'temp_min': 285.94, 'temp_max': 285.94, 'pressure': 1019, 'sea_level': 1019, 'grnd_level': 1003, 'humidity': 97, 'temp_kf': 0}, 'weather': [{'id': 804, 'main': 'Clouds', 'description': 'overcast clouds', 'icon': '04n'}], 'clouds': {'all': 100}, 'wind': {'speed': 3.31, 'deg': 192, 'gust': 11.11}, 'visibility': 6819, 'pop': 0.06, 'sys': {'pod': 'n'}, 'dt_txt': '2023-09-15 21:00:00'}, {'dt': 1694822400, 'main': {'temp': 286.24, 'feels_like': 286.09, 'temp_min': 286.24, 'temp_max': 286.24, 'pressure': 1019, 'sea_level': 1019, 'grnd_level': 1002, 'humidity': 95, 'temp_kf': 0}, 'weather': [{'id': 804, 'main': 'Clouds', 'description': 'overcast clouds', 'icon': '04n'}], 'clouds': {'all': 98}, 'wind': {'speed': 3.73, 'deg': 194, 'gust': 11.2}, 'visibility': 10000, 'pop': 0.01, 'sys': {'pod': 'n'}, 'dt_txt': '2023-09-16 00:00:00'}, {'dt': 1694833200, 'main': {'temp': 285.23, 'feels_like': 285.03, 'temp_min': 285.23, 'temp_max': 285.23, 'pressure': 1018, 'sea_level': 1018, 'grnd_level': 1001, 'humidity': 97, 'temp_kf': 0}, 'weather': [{'id': 803, 'main': 'Clouds', 'description': 'broken clouds', 'icon': '04n'}], 'clouds': {'all': 69}, 'wind': {'speed': 3.14, 'deg': 186, 'gust': 10.6}, 'visibility': 10000, 'pop': 0, 'sys': {'pod': 'n'}, 'dt_txt': '2023-09-16 03:00:00'}, {'dt': 1694844000, 'main': {'temp': 285.62, 'feels_like': 285.43, 'temp_min': 285.62, 'temp_max': 285.62, 'pressure': 1018, 'sea_level': 1018, 'grnd_level': 1001, 'humidity': 96, 'temp_kf': 0}, 'weather': [{'id': 803, 'main': 'Clouds', 'description': 'broken clouds', 'icon': '04d'}], 'clouds': {'all': 81}, 'wind': {'speed': 3.21, 'deg': 184, 'gust': 9.91}, 'visibility': 10000, 'pop': 0, 'sys': {'pod': 'd'}, 'dt_txt': '2023-09-16 06:00:00'}, {'dt': 1694854800, 'main': {'temp': 288.66, 'feels_like': 288.41, 'temp_min': 288.66, 'temp_max': 288.66, 'pressure': 1017, 'sea_level': 1017, 'grnd_level': 1000, 'humidity': 82, 'temp_kf': 0}, 'weather': [{'id': 804, 'main': 'Clouds', 'description': 'overcast clouds', 'icon': '04d'}], 'clouds': {'all': 99}, 'wind': {'speed': 4.21, 'deg': 192, 'gust': 9.36}, 'visibility': 10000, 'pop': 0, 'sys': {'pod': 'd'}, 'dt_txt': '2023-09-16 09:00:00'}, {'dt': 1694865600, 'main': {'temp': 290.71, 'feels_like': 290.22, 'temp_min': 290.71, 'temp_max': 290.71, 'pressure': 1016, 'sea_level': 1016, 'grnd_level': 1000, 'humidity': 65, 'temp_kf': 0}, 'weather': [{'id': 804, 'main': 'Clouds', 'description': 'overcast clouds', 'icon': '04d'}], 'clouds': {'all': 100}, 'wind': {'speed': 4.59, 'deg': 198, 'gust': 7.61}, 'visibility': 10000, 'pop': 0.04, 'sys': {'pod': 'd'}, 'dt_txt': '2023-09-16 12:00:00'}, {'dt': 1694876400, 'main': {'temp': 289.51, 'feels_like': 289.16, 'temp_min': 289.51, 'temp_max': 289.51, 'pressure': 1015, 'sea_level': 1015, 'grnd_level': 998, 'humidity': 75, 'temp_kf': 0}, 'weather': [{'id': 804, 'main': 'Clouds', 'description': 'overcast clouds', 'icon': '04d'}], 'clouds': {'all': 100}, 'wind': {'speed': 3.71, 'deg': 190, 'gust': 7.73}, 'visibility': 10000, 'pop': 0, 'sys': {'pod': 'd'}, 'dt_txt': '2023-09-16 15:00:00'}, {'dt': 1694887200, 'main': {'temp': 285.77, 'feels_like': 285.62, 'temp_min': 285.77, 'temp_max': 285.77, 'pressure': 1015, 'sea_level': 1015, 'grnd_level': 998, 'humidity': 97, 'temp_kf': 0}, 'weather': [{'id': 804, 'main': 'Clouds', 'description': 'overcast clouds', 'icon': '04n'}], 'clouds': {'all': 99}, 'wind': {'speed': 2.18, 'deg': 177, 'gust': 6.62}, 'visibility': 10000, 'pop': 0.04, 'sys': {'pod': 'n'}, 'dt_txt': '2023-09-16 18:00:00'}, {'dt': 1694898000, 'main': {'temp': 285.35, 'feels_like': 285.05, 'temp_min': 285.35, 'temp_max': 285.35, 'pressure': 1016, 'sea_level': 1016, 'grnd_level': 999, 'humidity': 93, 'temp_kf': 0}, 'weather': [{'id': 500, 'main': 'Rain', 'description': 'light rain', 'icon': '10n'}], 'clouds': {'all': 100}, 'wind': {'speed': 2.93, 'deg': 340, 'gust': 6.96}, 'visibility': 10000, 'pop': 0.5, 'rain': {'3h': 0.34}, 'sys': {'pod': 'n'}, 'dt_txt': '2023-09-16 21:00:00'}, {'dt': 1694908800, 'main': {'temp': 283.41, 'feels_like': 282.84, 'temp_min': 283.41, 'temp_max': 283.41, 'pressure': 1017, 'sea_level': 1017, 'grnd_level': 1000, 'humidity': 90, 'temp_kf': 0}, 'weather': [{'id': 500, 'main': 'Rain', 'description': 'light rain', 'icon': '10n'}], 'clouds': {'all': 100}, 'wind': {'speed': 3.32, 'deg': 7, 'gust': 9.99}, 'visibility': 10000, 'pop': 0.59, 'rain': {'3h': 0.33}, 'sys': {'pod': 'n'}, 'dt_txt': '2023-09-17 00:00:00'}, {'dt': 1694919600, 'main': {'temp': 280.89, 'feels_like': 278.4, 'temp_min': 280.89, 'temp_max': 280.89, 'pressure': 1019, 'sea_level': 1019, 'grnd_level': 1002, 'humidity': 88, 'temp_kf': 0}, 'weather': [{'id': 802, 'main': 'Clouds', 'description': 'scattered clouds', 'icon': '03n'}], 'clouds': {'all': 38}, 'wind': {'speed': 3.96, 'deg': 17, 'gust': 11.31}, 'visibility': 10000, 'pop': 0, 'sys': {'pod': 'n'}, 'dt_txt': '2023-09-17 03:00:00'}, {'dt': 1694930400, 'main': {'temp': 280.64, 'feels_like': 279.41, 'temp_min': 280.64, 'temp_max': 280.64, 'pressure': 1021, 'sea_level': 1021, 'grnd_level': 1004, 'humidity': 87, 'temp_kf': 0}, 'weather': [{'id': 802, 'main': 'Clouds', 'description': 'scattered clouds', 'icon': '03d'}], 'clouds': {'all': 45}, 'wind': {'speed': 2.01, 'deg': 14, 'gust': 8.4}, 'visibility': 10000, 'pop': 0, 'sys': {'pod': 'd'}, 'dt_txt': '2023-09-17 06:00:00'}, {'dt': 1694941200, 'main': {'temp': 285.38, 'feels_like': 284.25, 'temp_min': 285.38, 'temp_max': 285.38, 'pressure': 1022, 'sea_level': 1022, 'grnd_level': 1006, 'humidity': 61, 'temp_kf': 0}, 'weather': [{'id': 803, 'main': 'Clouds', 'description': 'broken clouds', 'icon': '04d'}], 'clouds': {'all': 75}, 'wind': {'speed': 2.75, 'deg': 30, 'gust': 4.34}, 'visibility': 10000, 'pop': 0, 'sys': {'pod': 'd'}, 'dt_txt': '2023-09-17 09:00:00'}, {'dt': 1694952000, 'main': {'temp': 287.96, 'feels_like': 286.72, 'temp_min': 287.96, 'temp_max': 287.96, 'pressure': 1022, 'sea_level': 1022, 'grnd_level': 1005, 'humidity': 47, 'temp_kf': 0}, 'weather': [{'id': 802, 'main': 'Clouds', 'description': 'scattered clouds', 'icon': '03d'}], 'clouds': {'all': 46}, 'wind': {'speed': 2.19, 'deg': 39, 'gust': 2.86}, 'visibility': 10000, 'pop': 0, 'sys': {'pod': 'd'}, 'dt_txt': '2023-09-17 12:00:00'}, {'dt': 1694962800, 'main': {'temp': 288.25, 'feels_like': 286.94, 'temp_min': 288.25, 'temp_max': 288.25, 'pressure': 1022, 'sea_level': 1022, 'grnd_level': 1005, 'humidity': 43, 'temp_kf': 0}, 'weather': [{'id': 803, 'main': 'Clouds', 'description': 'broken clouds', 'icon': '04d'}], 'clouds': {'all': 75}, 'wind': {'speed': 1.63, 'deg': 51, 'gust': 2.07}, 'visibility': 10000, 'pop': 0, 'sys': {'pod': 'd'}, 'dt_txt': '2023-09-17 15:00:00'}, {'dt': 1694973600, 'main': {'temp': 282.75, 'feels_like': 282.75, 'temp_min': 282.75, 'temp_max': 282.75, 'pressure': 1022, 'sea_level': 1022, 'grnd_level': 1005, 'humidity': 65, 'temp_kf': 0}, 'weather': [{'id': 802, 'main': 'Clouds', 'description': 'scattered clouds', 'icon': '03n'}], 'clouds': {'all': 45}, 'wind': {'speed': 1.3, 'deg': 57, 'gust': 1.28}, 'visibility': 10000, 'pop': 0, 'sys': {'pod': 'n'}, 'dt_txt': '2023-09-17 18:00:00'}, {'dt': 1694984400, 'main': {'temp': 280.8, 'feels_like': 280.8, 'temp_min': 280.8, 'temp_max': 280.8, 'pressure': 1023, 'sea_level': 1023, 'grnd_level': 1005, 'humidity': 70, 'temp_kf': 0}, 'weather': [{'id': 801, 'main': 'Clouds', 'description': 'few clouds', 'icon': '02n'}], 'clouds': {'all': 14}, 'wind': {'speed': 1.15, 'deg': 65, 'gust': 1.15}, 'visibility': 10000, 'pop': 0, 'sys': {'pod': 'n'}, 'dt_txt': '2023-09-17 21:00:00'}, {'dt': 1694995200, 'main': {'temp': 279.37, 'feels_like': 279.37, 'temp_min': 279.37, 'temp_max': 279.37, 'pressure': 1022, 'sea_level': 1022, 'grnd_level': 1005, 'humidity': 71, 'temp_kf': 0}, 'weather': [{'id': 801, 'main': 'Clouds', 'description': 'few clouds', 'icon': '02n'}], 'clouds': {'all': 22}, 'wind': {'speed': 1.1, 'deg': 45, 'gust': 1.11}, 'visibility': 10000, 'pop': 0, 'sys': {'pod': 'n'}, 'dt_txt': '2023-09-18 00:00:00'}, {'dt': 1695006000, 'main': {'temp': 278.46, 'feels_like': 277.39, 'temp_min': 278.46, 'temp_max': 278.46, 'pressure': 1021, 'sea_level': 1021, 'grnd_level': 1004, 'humidity': 75, 'temp_kf': 0}, 'weather': [{'id': 802, 'main': 'Clouds', 'description': 'scattered clouds', 'icon': '03n'}], 'clouds': {'all': 25}, 'wind': {'speed': 1.55, 'deg': 32, 'gust': 1.76}, 'visibility': 10000, 'pop': 0, 'sys': {'pod': 'n'}, 'dt_txt': '2023-09-18 03:00:00'}, {'dt': 1695016800, 'main': {'temp': 279.16, 'feels_like': 277.68, 'temp_min': 279.16, 'temp_max': 279.16, 'pressure': 1019, 'sea_level': 1019, 'grnd_level': 1002, 'humidity': 77, 'temp_kf': 0}, 'weather': [{'id': 803, 'main': 'Clouds', 'description': 'broken clouds', 'icon': '04d'}], 'clouds': {'all': 57}, 'wind': {'speed': 2.01, 'deg': 40, 'gust': 5.19}, 'visibility': 10000, 'pop': 0, 'sys': {'pod': 'd'}, 'dt_txt': '2023-09-18 06:00:00'}, {'dt': 1695027600, 'main': {'temp': 284.21, 'feels_like': 282.99, 'temp_min': 284.21, 'temp_max': 284.21, 'pressure': 1017, 'sea_level': 1017, 'grnd_level': 1000, 'humidity': 62, 'temp_kf': 0}, 'weather': [{'id': 804, 'main': 'Clouds', 'description': 'overcast clouds', 'icon': '04d'}], 'clouds': {'all': 100}, 'wind': {'speed': 3.22, 'deg': 91, 'gust': 6.96}, 'visibility': 10000, 'pop': 0, 'sys': {'pod': 'd'}, 'dt_txt': '2023-09-18 09:00:00'}, {'dt': 1695038400, 'main': {'temp': 286.68, 'feels_like': 285.55, 'temp_min': 286.68, 'temp_max': 286.68, 'pressure': 1013, 'sea_level': 1013, 'grnd_level': 996, 'humidity': 56, 'temp_kf': 0}, 'weather': [{'id': 804, 'main': 'Clouds', 'description': 'overcast clouds', 'icon': '04d'}], 'clouds': {'all': 100}, 'wind': {'speed': 3.72, 'deg': 98, 'gust': 7.19}, 'visibility': 10000, 'pop': 0, 'sys': {'pod': 'd'}, 'dt_txt': '2023-09-18 12:00:00'}, {'dt': 1695049200, 'main': {'temp': 283.06, 'feels_like': 281.46, 'temp_min': 283.06, 'temp_max': 283.06, 'pressure': 1010, 'sea_level': 1010, 'grnd_level': 993, 'humidity': 85, 'temp_kf': 0}, 'weather': [{'id': 500, 'main': 'Rain', 'description': 'light rain', 'icon': '10d'}], 'clouds': {'all': 100}, 'wind': {'speed': 3.17, 'deg': 89, 'gust': 9.85}, 'visibility': 10000, 'pop': 0.88, 'rain': {'3h': 1.08}, 'sys': {'pod': 'd'}, 'dt_txt': '2023-09-18 15:00:00'}, {'dt': 1695060000, 'main': {'temp': 282.85, 'feels_like': 281.47, 'temp_min': 282.85, 'temp_max': 282.85, 'pressure': 1006, 'sea_level': 1006, 'grnd_level': 989, 'humidity': 94, 'temp_kf': 0}, 'weather': [{'id': 500, 'main': 'Rain', 'description': 'light rain', 'icon': '10n'}], 'clouds': {'all': 100}, 'wind': {'speed': 2.73, 'deg': 76, 'gust': 8.89}, 'visibility': 6764, 'pop': 1, 'rain': {'3h': 2.24}, 'sys': {'pod': 'n'}, 'dt_txt': '2023-09-18 18:00:00'}], 'city': {'id': 3139081, 'name': 'Ski', 'coord': {'lat': 59.7195, 'lon': 10.8358}, 'country': 'NO', 'population': 12513, 'timezone': 7200, 'sunrise': 1694579954, 'sunset': 1694627194}}\""
      ]
     },
     "execution_count": 15,
     "metadata": {},
     "output_type": "execute_result"
    }
   ],
   "source": [
    "# Inspect JSON file\n",
    "forecast.__str__()"
   ]
  },
  {
   "cell_type": "markdown",
   "metadata": {
    "slideshow": {
     "slide_type": "slide"
    }
   },
   "source": [
    "## Raw JSON\n",
    "- A simple, but not very efficient way of storing JSON data is to treat it as a text and save it directly to the database.  \n",
    "- More efficient, with regard to transfer, is to compress the JSON data to a blob first.\n",
    "    - Compression is automatic."
   ]
  },
  {
   "cell_type": "code",
   "execution_count": 16,
   "metadata": {
    "slideshow": {
     "slide_type": "-"
    }
   },
   "outputs": [
    {
     "data": {
      "text/plain": [
       "<cassandra.cluster.ResultSet at 0x10798ecb0>"
      ]
     },
     "execution_count": 16,
     "metadata": {},
     "output_type": "execute_result"
    }
   ],
   "source": [
    "# Create a new table which treats the whole JSON as a blob, using the city id and the first dt as keys\n",
    "session.set_keyspace('my_first_keyspace')\n",
    "session.execute(\"DROP TABLE IF EXISTS my_first_keyspace.forecast_table;\")\n",
    "session.execute(\"CREATE TABLE IF NOT EXISTS forecast_table (city_id int, dt int, forecast blob, PRIMARY KEY(city_id, dt));\")"
   ]
  },
  {
   "cell_type": "markdown",
   "metadata": {
    "slideshow": {
     "slide_type": "slide"
    }
   },
   "source": [
    "### Insert the forecast data into the table as text blob"
   ]
  },
  {
   "cell_type": "code",
   "execution_count": 17,
   "metadata": {
    "slideshow": {
     "slide_type": "-"
    }
   },
   "outputs": [
    {
     "data": {
      "text/plain": [
       "<cassandra.cluster.ResultSet at 0x10798e620>"
      ]
     },
     "execution_count": 17,
     "metadata": {},
     "output_type": "execute_result"
    }
   ],
   "source": [
    "session.execute(\"INSERT INTO forecast_table (city_id, dt, forecast) VALUES (%s, %s, textAsBlob(%s));\", (forecast['city']['id'], forecast['list'][0]['dt'], forecast.__str__()))"
   ]
  },
  {
   "cell_type": "code",
   "execution_count": 18,
   "metadata": {
    "slideshow": {
     "slide_type": "slide"
    }
   },
   "outputs": [
    {
     "name": "stdout",
     "output_type": "stream",
     "text": [
      "Row(city_id=3139081, dt=1694638800, forecast=b\"{'cod': '200', 'message': 0, 'cnt': 40, 'list': [{'dt': 1694638800, 'main': {'temp': 282.84, 'feels_like': 281.85, 'temp_min': 280.99, 'temp_max': 282.84, 'pressure': 1020, 'sea_level': 1020, 'grnd_level': 1003, 'humidity': 70, 'temp_kf': 1.85}, 'weather': [{'id': 802, 'main': 'Clouds', 'description': 'scattered clouds', 'icon': '03n'}], 'clouds': {'all': 45}, 'wind': {'speed': 2.16, 'deg': 25, 'gust': 5.36}, 'visibility': 10000, 'pop': 0, 'sys': {'pod': 'n'}, 'dt_txt': '2023-09-13 21:00:00'}, {'dt': 1694649600, 'main': {'temp': 281.62, 'feels_like': 280.66, 'temp_min': 279.19, 'temp_max': 281.62, 'pressure': 1020, 'sea_level': 1020, 'grnd_level': 1004, 'humidity': 71, 'temp_kf': 2.43}, 'weather': [{'id': 802, 'main': 'Clouds', 'description': 'scattered clouds', 'icon': '03n'}], 'clouds': {'all': 44}, 'wind': {'speed': 1.89, 'deg': 10, 'gust': 2.78}, 'visibility': 10000, 'pop': 0, 'sys': {'pod': 'n'}, 'dt_txt': '2023-09-14 00:00:00'}, {'dt': 1694660400, 'main': {'temp': 279.55, 'feels_like': 278.48, 'temp_min': 277.91, 'temp_max': 279.55, 'pressure': 1021, 'sea_level': 1021, 'grnd_level': 1004, 'humidity': 76, 'temp_kf': 1.64}, 'weather': [{'id': 802, 'main': 'Clouds', 'description': 'scattered clouds', 'icon': '03n'}], 'clouds': {'all': 46}, 'wind': {'speed': 1.68, 'deg': 25, 'gust': 1.72}, 'visibility': 10000, 'pop': 0, 'sys': {'pod': 'n'}, 'dt_txt': '2023-09-14 03:00:00'}, {'dt': 1694671200, 'main': {'temp': 279.73, 'feels_like': 279.73, 'temp_min': 279.73, 'temp_max': 279.73, 'pressure': 1022, 'sea_level': 1022, 'grnd_level': 1005, 'humidity': 71, 'temp_kf': 0}, 'weather': [{'id': 803, 'main': 'Clouds', 'description': 'broken clouds', 'icon': '04d'}], 'clouds': {'all': 73}, 'wind': {'speed': 1.1, 'deg': 31, 'gust': 1.83}, 'visibility': 10000, 'pop': 0, 'sys': {'pod': 'd'}, 'dt_txt': '2023-09-14 06:00:00'}, {'dt': 1694682000, 'main': {'temp': 285.1, 'feels_like': 283.71, 'temp_min': 285.1, 'temp_max': 285.1, 'pressure': 1021, 'sea_level': 1021, 'grnd_level': 1004, 'humidity': 52, 'temp_kf': 0}, 'weather': [{'id': 804, 'main': 'Clouds', 'description': 'overcast clouds', 'icon': '04d'}], 'clouds': {'all': 95}, 'wind': {'speed': 1.31, 'deg': 115, 'gust': 2.37}, 'visibility': 10000, 'pop': 0, 'sys': {'pod': 'd'}, 'dt_txt': '2023-09-14 09:00:00'}, {'dt': 1694692800, 'main': {'temp': 287.92, 'feels_like': 286.6, 'temp_min': 287.92, 'temp_max': 287.92, 'pressure': 1020, 'sea_level': 1020, 'grnd_level': 1003, 'humidity': 44, 'temp_kf': 0}, 'weather': [{'id': 804, 'main': 'Clouds', 'description': 'overcast clouds', 'icon': '04d'}], 'clouds': {'all': 96}, 'wind': {'speed': 2.57, 'deg': 186, 'gust': 4.48}, 'visibility': 10000, 'pop': 0, 'sys': {'pod': 'd'}, 'dt_txt': '2023-09-14 12:00:00'}, {'dt': 1694703600, 'main': {'temp': 287.64, 'feels_like': 286.61, 'temp_min': 287.64, 'temp_max': 287.64, 'pressure': 1019, 'sea_level': 1019, 'grnd_level': 1002, 'humidity': 56, 'temp_kf': 0}, 'weather': [{'id': 803, 'main': 'Clouds', 'description': 'broken clouds', 'icon': '04d'}], 'clouds': {'all': 70}, 'wind': {'speed': 2.63, 'deg': 205, 'gust': 4.8}, 'visibility': 10000, 'pop': 0, 'sys': {'pod': 'd'}, 'dt_txt': '2023-09-14 15:00:00'}, {'dt': 1694714400, 'main': {'temp': 283.77, 'feels_like': 283.05, 'temp_min': 283.77, 'temp_max': 283.77, 'pressure': 1019, 'sea_level': 1019, 'grnd_level': 1002, 'humidity': 83, 'temp_kf': 0}, 'weather': [{'id': 803, 'main': 'Clouds', 'description': 'broken clouds', 'icon': '04n'}], 'clouds': {'all': 73}, 'wind': {'speed': 2.31, 'deg': 179, 'gust': 7.34}, 'visibility': 10000, 'pop': 0, 'sys': {'pod': 'n'}, 'dt_txt': '2023-09-14 18:00:00'}, {'dt': 1694725200, 'main': {'temp': 283.69, 'feels_like': 283.07, 'temp_min': 283.69, 'temp_max': 283.69, 'pressure': 1019, 'sea_level': 1019, 'grnd_level': 1002, 'humidity': 87, 'temp_kf': 0}, 'weather': [{'id': 500, 'main': 'Rain', 'description': 'light rain', 'icon': '10n'}], 'clouds': {'all': 98}, 'wind': {'speed': 2.97, 'deg': 201, 'gust': 7.72}, 'visibility': 10000, 'pop': 0.21, 'rain': {'3h': 0.22}, 'sys': {'pod': 'n'}, 'dt_txt': '2023-09-14 21:00:00'}, {'dt': 1694736000, 'main': {'temp': 283.79, 'feels_like': 283.31, 'temp_min': 283.79, 'temp_max': 283.79, 'pressure': 1019, 'sea_level': 1019, 'grnd_level': 1002, 'humidity': 92, 'temp_kf': 0}, 'weather': [{'id': 500, 'main': 'Rain', 'description': 'light rain', 'icon': '10n'}], 'clouds': {'all': 99}, 'wind': {'speed': 1.77, 'deg': 148, 'gust': 6.89}, 'visibility': 10000, 'pop': 0.24, 'rain': {'3h': 0.22}, 'sys': {'pod': 'n'}, 'dt_txt': '2023-09-15 00:00:00'}, {'dt': 1694746800, 'main': {'temp': 283.36, 'feels_like': 283, 'temp_min': 283.36, 'temp_max': 283.36, 'pressure': 1018, 'sea_level': 1018, 'grnd_level': 1001, 'humidity': 98, 'temp_kf': 0}, 'weather': [{'id': 500, 'main': 'Rain', 'description': 'light rain', 'icon': '10n'}], 'clouds': {'all': 98}, 'wind': {'speed': 1.08, 'deg': 207, 'gust': 1.84}, 'visibility': 10000, 'pop': 0.33, 'rain': {'3h': 0.22}, 'sys': {'pod': 'n'}, 'dt_txt': '2023-09-15 03:00:00'}, {'dt': 1694757600, 'main': {'temp': 283.18, 'feels_like': 282.72, 'temp_min': 283.18, 'temp_max': 283.18, 'pressure': 1019, 'sea_level': 1019, 'grnd_level': 1002, 'humidity': 95, 'temp_kf': 0}, 'weather': [{'id': 804, 'main': 'Clouds', 'description': 'overcast clouds', 'icon': '04d'}], 'clouds': {'all': 99}, 'wind': {'speed': 1.72, 'deg': 188, 'gust': 5.12}, 'visibility': 10000, 'pop': 0.11, 'sys': {'pod': 'd'}, 'dt_txt': '2023-09-15 06:00:00'}, {'dt': 1694768400, 'main': {'temp': 286.86, 'feels_like': 286.27, 'temp_min': 286.86, 'temp_max': 286.86, 'pressure': 1019, 'sea_level': 1019, 'grnd_level': 1002, 'humidity': 76, 'temp_kf': 0}, 'weather': [{'id': 804, 'main': 'Clouds', 'description': 'overcast clouds', 'icon': '04d'}], 'clouds': {'all': 100}, 'wind': {'speed': 3.66, 'deg': 200, 'gust': 7.84}, 'visibility': 10000, 'pop': 0, 'sys': {'pod': 'd'}, 'dt_txt': '2023-09-15 09:00:00'}, {'dt': 1694779200, 'main': {'temp': 286.76, 'feels_like': 286.27, 'temp_min': 286.76, 'temp_max': 286.76, 'pressure': 1020, 'sea_level': 1020, 'grnd_level': 1003, 'humidity': 80, 'temp_kf': 0}, 'weather': [{'id': 804, 'main': 'Clouds', 'description': 'overcast clouds', 'icon': '04d'}], 'clouds': {'all': 100}, 'wind': {'speed': 4.31, 'deg': 196, 'gust': 8.48}, 'visibility': 10000, 'pop': 0, 'sys': {'pod': 'd'}, 'dt_txt': '2023-09-15 12:00:00'}, {'dt': 1694790000, 'main': {'temp': 284.47, 'feels_like': 284.11, 'temp_min': 284.47, 'temp_max': 284.47, 'pressure': 1020, 'sea_level': 1020, 'grnd_level': 1003, 'humidity': 94, 'temp_kf': 0}, 'weather': [{'id': 500, 'main': 'Rain', 'description': 'light rain', 'icon': '10d'}], 'clouds': {'all': 100}, 'wind': {'speed': 1.98, 'deg': 179, 'gust': 5.6}, 'visibility': 10000, 'pop': 0.94, 'rain': {'3h': 0.88}, 'sys': {'pod': 'd'}, 'dt_txt': '2023-09-15 15:00:00'}, {'dt': 1694800800, 'main': {'temp': 284.08, 'feels_like': 283.76, 'temp_min': 284.08, 'temp_max': 284.08, 'pressure': 1020, 'sea_level': 1020, 'grnd_level': 1003, 'humidity': 97, 'temp_kf': 0}, 'weather': [{'id': 500, 'main': 'Rain', 'description': 'light rain', 'icon': '10n'}], 'clouds': {'all': 100}, 'wind': {'speed': 1.22, 'deg': 155, 'gust': 3.37}, 'visibility': 10000, 'pop': 1, 'rain': {'3h': 1.42}, 'sys': {'pod': 'n'}, 'dt_txt': '2023-09-15 18:00:00'}, {'dt': 1694811600, 'main': {'temp': 285.94, 'feels_like': 285.81, 'temp_min': 285.94, 'temp_max': 285.94, 'pressure': 1019, 'sea_level': 1019, 'grnd_level': 1003, 'humidity': 97, 'temp_kf': 0}, 'weather': [{'id': 804, 'main': 'Clouds', 'description': 'overcast clouds', 'icon': '04n'}], 'clouds': {'all': 100}, 'wind': {'speed': 3.31, 'deg': 192, 'gust': 11.11}, 'visibility': 6819, 'pop': 0.06, 'sys': {'pod': 'n'}, 'dt_txt': '2023-09-15 21:00:00'}, {'dt': 1694822400, 'main': {'temp': 286.24, 'feels_like': 286.09, 'temp_min': 286.24, 'temp_max': 286.24, 'pressure': 1019, 'sea_level': 1019, 'grnd_level': 1002, 'humidity': 95, 'temp_kf': 0}, 'weather': [{'id': 804, 'main': 'Clouds', 'description': 'overcast clouds', 'icon': '04n'}], 'clouds': {'all': 98}, 'wind': {'speed': 3.73, 'deg': 194, 'gust': 11.2}, 'visibility': 10000, 'pop': 0.01, 'sys': {'pod': 'n'}, 'dt_txt': '2023-09-16 00:00:00'}, {'dt': 1694833200, 'main': {'temp': 285.23, 'feels_like': 285.03, 'temp_min': 285.23, 'temp_max': 285.23, 'pressure': 1018, 'sea_level': 1018, 'grnd_level': 1001, 'humidity': 97, 'temp_kf': 0}, 'weather': [{'id': 803, 'main': 'Clouds', 'description': 'broken clouds', 'icon': '04n'}], 'clouds': {'all': 69}, 'wind': {'speed': 3.14, 'deg': 186, 'gust': 10.6}, 'visibility': 10000, 'pop': 0, 'sys': {'pod': 'n'}, 'dt_txt': '2023-09-16 03:00:00'}, {'dt': 1694844000, 'main': {'temp': 285.62, 'feels_like': 285.43, 'temp_min': 285.62, 'temp_max': 285.62, 'pressure': 1018, 'sea_level': 1018, 'grnd_level': 1001, 'humidity': 96, 'temp_kf': 0}, 'weather': [{'id': 803, 'main': 'Clouds', 'description': 'broken clouds', 'icon': '04d'}], 'clouds': {'all': 81}, 'wind': {'speed': 3.21, 'deg': 184, 'gust': 9.91}, 'visibility': 10000, 'pop': 0, 'sys': {'pod': 'd'}, 'dt_txt': '2023-09-16 06:00:00'}, {'dt': 1694854800, 'main': {'temp': 288.66, 'feels_like': 288.41, 'temp_min': 288.66, 'temp_max': 288.66, 'pressure': 1017, 'sea_level': 1017, 'grnd_level': 1000, 'humidity': 82, 'temp_kf': 0}, 'weather': [{'id': 804, 'main': 'Clouds', 'description': 'overcast clouds', 'icon': '04d'}], 'clouds': {'all': 99}, 'wind': {'speed': 4.21, 'deg': 192, 'gust': 9.36}, 'visibility': 10000, 'pop': 0, 'sys': {'pod': 'd'}, 'dt_txt': '2023-09-16 09:00:00'}, {'dt': 1694865600, 'main': {'temp': 290.71, 'feels_like': 290.22, 'temp_min': 290.71, 'temp_max': 290.71, 'pressure': 1016, 'sea_level': 1016, 'grnd_level': 1000, 'humidity': 65, 'temp_kf': 0}, 'weather': [{'id': 804, 'main': 'Clouds', 'description': 'overcast clouds', 'icon': '04d'}], 'clouds': {'all': 100}, 'wind': {'speed': 4.59, 'deg': 198, 'gust': 7.61}, 'visibility': 10000, 'pop': 0.04, 'sys': {'pod': 'd'}, 'dt_txt': '2023-09-16 12:00:00'}, {'dt': 1694876400, 'main': {'temp': 289.51, 'feels_like': 289.16, 'temp_min': 289.51, 'temp_max': 289.51, 'pressure': 1015, 'sea_level': 1015, 'grnd_level': 998, 'humidity': 75, 'temp_kf': 0}, 'weather': [{'id': 804, 'main': 'Clouds', 'description': 'overcast clouds', 'icon': '04d'}], 'clouds': {'all': 100}, 'wind': {'speed': 3.71, 'deg': 190, 'gust': 7.73}, 'visibility': 10000, 'pop': 0, 'sys': {'pod': 'd'}, 'dt_txt': '2023-09-16 15:00:00'}, {'dt': 1694887200, 'main': {'temp': 285.77, 'feels_like': 285.62, 'temp_min': 285.77, 'temp_max': 285.77, 'pressure': 1015, 'sea_level': 1015, 'grnd_level': 998, 'humidity': 97, 'temp_kf': 0}, 'weather': [{'id': 804, 'main': 'Clouds', 'description': 'overcast clouds', 'icon': '04n'}], 'clouds': {'all': 99}, 'wind': {'speed': 2.18, 'deg': 177, 'gust': 6.62}, 'visibility': 10000, 'pop': 0.04, 'sys': {'pod': 'n'}, 'dt_txt': '2023-09-16 18:00:00'}, {'dt': 1694898000, 'main': {'temp': 285.35, 'feels_like': 285.05, 'temp_min': 285.35, 'temp_max': 285.35, 'pressure': 1016, 'sea_level': 1016, 'grnd_level': 999, 'humidity': 93, 'temp_kf': 0}, 'weather': [{'id': 500, 'main': 'Rain', 'description': 'light rain', 'icon': '10n'}], 'clouds': {'all': 100}, 'wind': {'speed': 2.93, 'deg': 340, 'gust': 6.96}, 'visibility': 10000, 'pop': 0.5, 'rain': {'3h': 0.34}, 'sys': {'pod': 'n'}, 'dt_txt': '2023-09-16 21:00:00'}, {'dt': 1694908800, 'main': {'temp': 283.41, 'feels_like': 282.84, 'temp_min': 283.41, 'temp_max': 283.41, 'pressure': 1017, 'sea_level': 1017, 'grnd_level': 1000, 'humidity': 90, 'temp_kf': 0}, 'weather': [{'id': 500, 'main': 'Rain', 'description': 'light rain', 'icon': '10n'}], 'clouds': {'all': 100}, 'wind': {'speed': 3.32, 'deg': 7, 'gust': 9.99}, 'visibility': 10000, 'pop': 0.59, 'rain': {'3h': 0.33}, 'sys': {'pod': 'n'}, 'dt_txt': '2023-09-17 00:00:00'}, {'dt': 1694919600, 'main': {'temp': 280.89, 'feels_like': 278.4, 'temp_min': 280.89, 'temp_max': 280.89, 'pressure': 1019, 'sea_level': 1019, 'grnd_level': 1002, 'humidity': 88, 'temp_kf': 0}, 'weather': [{'id': 802, 'main': 'Clouds', 'description': 'scattered clouds', 'icon': '03n'}], 'clouds': {'all': 38}, 'wind': {'speed': 3.96, 'deg': 17, 'gust': 11.31}, 'visibility': 10000, 'pop': 0, 'sys': {'pod': 'n'}, 'dt_txt': '2023-09-17 03:00:00'}, {'dt': 1694930400, 'main': {'temp': 280.64, 'feels_like': 279.41, 'temp_min': 280.64, 'temp_max': 280.64, 'pressure': 1021, 'sea_level': 1021, 'grnd_level': 1004, 'humidity': 87, 'temp_kf': 0}, 'weather': [{'id': 802, 'main': 'Clouds', 'description': 'scattered clouds', 'icon': '03d'}], 'clouds': {'all': 45}, 'wind': {'speed': 2.01, 'deg': 14, 'gust': 8.4}, 'visibility': 10000, 'pop': 0, 'sys': {'pod': 'd'}, 'dt_txt': '2023-09-17 06:00:00'}, {'dt': 1694941200, 'main': {'temp': 285.38, 'feels_like': 284.25, 'temp_min': 285.38, 'temp_max': 285.38, 'pressure': 1022, 'sea_level': 1022, 'grnd_level': 1006, 'humidity': 61, 'temp_kf': 0}, 'weather': [{'id': 803, 'main': 'Clouds', 'description': 'broken clouds', 'icon': '04d'}], 'clouds': {'all': 75}, 'wind': {'speed': 2.75, 'deg': 30, 'gust': 4.34}, 'visibility': 10000, 'pop': 0, 'sys': {'pod': 'd'}, 'dt_txt': '2023-09-17 09:00:00'}, {'dt': 1694952000, 'main': {'temp': 287.96, 'feels_like': 286.72, 'temp_min': 287.96, 'temp_max': 287.96, 'pressure': 1022, 'sea_level': 1022, 'grnd_level': 1005, 'humidity': 47, 'temp_kf': 0}, 'weather': [{'id': 802, 'main': 'Clouds', 'description': 'scattered clouds', 'icon': '03d'}], 'clouds': {'all': 46}, 'wind': {'speed': 2.19, 'deg': 39, 'gust': 2.86}, 'visibility': 10000, 'pop': 0, 'sys': {'pod': 'd'}, 'dt_txt': '2023-09-17 12:00:00'}, {'dt': 1694962800, 'main': {'temp': 288.25, 'feels_like': 286.94, 'temp_min': 288.25, 'temp_max': 288.25, 'pressure': 1022, 'sea_level': 1022, 'grnd_level': 1005, 'humidity': 43, 'temp_kf': 0}, 'weather': [{'id': 803, 'main': 'Clouds', 'description': 'broken clouds', 'icon': '04d'}], 'clouds': {'all': 75}, 'wind': {'speed': 1.63, 'deg': 51, 'gust': 2.07}, 'visibility': 10000, 'pop': 0, 'sys': {'pod': 'd'}, 'dt_txt': '2023-09-17 15:00:00'}, {'dt': 1694973600, 'main': {'temp': 282.75, 'feels_like': 282.75, 'temp_min': 282.75, 'temp_max': 282.75, 'pressure': 1022, 'sea_level': 1022, 'grnd_level': 1005, 'humidity': 65, 'temp_kf': 0}, 'weather': [{'id': 802, 'main': 'Clouds', 'description': 'scattered clouds', 'icon': '03n'}], 'clouds': {'all': 45}, 'wind': {'speed': 1.3, 'deg': 57, 'gust': 1.28}, 'visibility': 10000, 'pop': 0, 'sys': {'pod': 'n'}, 'dt_txt': '2023-09-17 18:00:00'}, {'dt': 1694984400, 'main': {'temp': 280.8, 'feels_like': 280.8, 'temp_min': 280.8, 'temp_max': 280.8, 'pressure': 1023, 'sea_level': 1023, 'grnd_level': 1005, 'humidity': 70, 'temp_kf': 0}, 'weather': [{'id': 801, 'main': 'Clouds', 'description': 'few clouds', 'icon': '02n'}], 'clouds': {'all': 14}, 'wind': {'speed': 1.15, 'deg': 65, 'gust': 1.15}, 'visibility': 10000, 'pop': 0, 'sys': {'pod': 'n'}, 'dt_txt': '2023-09-17 21:00:00'}, {'dt': 1694995200, 'main': {'temp': 279.37, 'feels_like': 279.37, 'temp_min': 279.37, 'temp_max': 279.37, 'pressure': 1022, 'sea_level': 1022, 'grnd_level': 1005, 'humidity': 71, 'temp_kf': 0}, 'weather': [{'id': 801, 'main': 'Clouds', 'description': 'few clouds', 'icon': '02n'}], 'clouds': {'all': 22}, 'wind': {'speed': 1.1, 'deg': 45, 'gust': 1.11}, 'visibility': 10000, 'pop': 0, 'sys': {'pod': 'n'}, 'dt_txt': '2023-09-18 00:00:00'}, {'dt': 1695006000, 'main': {'temp': 278.46, 'feels_like': 277.39, 'temp_min': 278.46, 'temp_max': 278.46, 'pressure': 1021, 'sea_level': 1021, 'grnd_level': 1004, 'humidity': 75, 'temp_kf': 0}, 'weather': [{'id': 802, 'main': 'Clouds', 'description': 'scattered clouds', 'icon': '03n'}], 'clouds': {'all': 25}, 'wind': {'speed': 1.55, 'deg': 32, 'gust': 1.76}, 'visibility': 10000, 'pop': 0, 'sys': {'pod': 'n'}, 'dt_txt': '2023-09-18 03:00:00'}, {'dt': 1695016800, 'main': {'temp': 279.16, 'feels_like': 277.68, 'temp_min': 279.16, 'temp_max': 279.16, 'pressure': 1019, 'sea_level': 1019, 'grnd_level': 1002, 'humidity': 77, 'temp_kf': 0}, 'weather': [{'id': 803, 'main': 'Clouds', 'description': 'broken clouds', 'icon': '04d'}], 'clouds': {'all': 57}, 'wind': {'speed': 2.01, 'deg': 40, 'gust': 5.19}, 'visibility': 10000, 'pop': 0, 'sys': {'pod': 'd'}, 'dt_txt': '2023-09-18 06:00:00'}, {'dt': 1695027600, 'main': {'temp': 284.21, 'feels_like': 282.99, 'temp_min': 284.21, 'temp_max': 284.21, 'pressure': 1017, 'sea_level': 1017, 'grnd_level': 1000, 'humidity': 62, 'temp_kf': 0}, 'weather': [{'id': 804, 'main': 'Clouds', 'description': 'overcast clouds', 'icon': '04d'}], 'clouds': {'all': 100}, 'wind': {'speed': 3.22, 'deg': 91, 'gust': 6.96}, 'visibility': 10000, 'pop': 0, 'sys': {'pod': 'd'}, 'dt_txt': '2023-09-18 09:00:00'}, {'dt': 1695038400, 'main': {'temp': 286.68, 'feels_like': 285.55, 'temp_min': 286.68, 'temp_max': 286.68, 'pressure': 1013, 'sea_level': 1013, 'grnd_level': 996, 'humidity': 56, 'temp_kf': 0}, 'weather': [{'id': 804, 'main': 'Clouds', 'description': 'overcast clouds', 'icon': '04d'}], 'clouds': {'all': 100}, 'wind': {'speed': 3.72, 'deg': 98, 'gust': 7.19}, 'visibility': 10000, 'pop': 0, 'sys': {'pod': 'd'}, 'dt_txt': '2023-09-18 12:00:00'}, {'dt': 1695049200, 'main': {'temp': 283.06, 'feels_like': 281.46, 'temp_min': 283.06, 'temp_max': 283.06, 'pressure': 1010, 'sea_level': 1010, 'grnd_level': 993, 'humidity': 85, 'temp_kf': 0}, 'weather': [{'id': 500, 'main': 'Rain', 'description': 'light rain', 'icon': '10d'}], 'clouds': {'all': 100}, 'wind': {'speed': 3.17, 'deg': 89, 'gust': 9.85}, 'visibility': 10000, 'pop': 0.88, 'rain': {'3h': 1.08}, 'sys': {'pod': 'd'}, 'dt_txt': '2023-09-18 15:00:00'}, {'dt': 1695060000, 'main': {'temp': 282.85, 'feels_like': 281.47, 'temp_min': 282.85, 'temp_max': 282.85, 'pressure': 1006, 'sea_level': 1006, 'grnd_level': 989, 'humidity': 94, 'temp_kf': 0}, 'weather': [{'id': 500, 'main': 'Rain', 'description': 'light rain', 'icon': '10n'}], 'clouds': {'all': 100}, 'wind': {'speed': 2.73, 'deg': 76, 'gust': 8.89}, 'visibility': 6764, 'pop': 1, 'rain': {'3h': 2.24}, 'sys': {'pod': 'n'}, 'dt_txt': '2023-09-18 18:00:00'}], 'city': {'id': 3139081, 'name': 'Ski', 'coord': {'lat': 59.7195, 'lon': 10.8358}, 'country': 'NO', 'population': 12513, 'timezone': 7200, 'sunrise': 1694579954, 'sunset': 1694627194}}\")\n"
     ]
    }
   ],
   "source": [
    "# Query the data\n",
    "forecast_rows = session.execute(\"SELECT * FROM forecast_table;\")\n",
    "print(forecast_rows.one()) # <- only one row"
   ]
  },
  {
   "cell_type": "markdown",
   "metadata": {
    "slideshow": {
     "slide_type": "slide"
    }
   },
   "source": [
    "## Resources\n",
    "- [Cassandra webpage](https://cassandra.apache.org/)\n",
    "- [Cassandra Docker file](https://hub.docker.com/_/cassandra)\n",
    "- [UUID functions](https://docs.datastax.com/en/cql-oss/3.3/cql/cql_reference/timeuuid_functions_r.html)\n",
    "- [YouTube: Cassandra in 100 seconds](https://youtu.be/ziq7FUKpCS8?si=WQUdkHFvaBmT0DBo) (2m:26s)\n",
    "- [YouTube: How to use Appache Cassandra in Python](https://youtu.be/qMauZqJH3ZM?si=yKGZ-5cld2BK396Y) (14m:50s)\n",
    "- [YouTube: Cassandra Database Crash Course](https://youtu.be/KZsVSfQVU4I?si=FBCi8qOfCirfVmZk) (19m:47s)"
   ]
  }
 ],
 "metadata": {
  "celltoolbar": "Slideshow",
  "kernelspec": {
   "display_name": "Python 3 (ipykernel)",
   "language": "python",
   "name": "python3"
  },
  "language_info": {
   "codemirror_mode": {
    "name": "ipython",
    "version": 3
   },
   "file_extension": ".py",
   "mimetype": "text/x-python",
   "name": "python",
   "nbconvert_exporter": "python",
   "pygments_lexer": "ipython3",
   "version": "3.10.6"
  }
 },
 "nbformat": 4,
 "nbformat_minor": 2
}