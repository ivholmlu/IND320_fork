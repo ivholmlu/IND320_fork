{
 "cells": [
  {
   "attachments": {},
   "cell_type": "markdown",
   "metadata": {},
   "source": [
    "# Cassandra\n",
    "Assumptions:\n",
    "- Docker installed on system\n",
    "- \"cassandra:latest\" image installed in docker\n",
    "- Python/Conda environment with python 3.8 (or newer*)  \n",
    "  \n",
    "*As of 9 August 2023, the officially built cassandra-driver package was at version 3.25 and did not work well with Python 3.10 on Mac.  \n",
    "To install a newer version from the terminal you can:  \n",
    "```\n",
    "pip install git+https://github.com/datastax/python-driver.git\n",
    "pip install cql\n",
    "```\n",
    "  \n",
    "Or use older Python:  \n",
    "```\n",
    "conda create --name cassy38 python=3.8 jupyter scikit-learn\n",
    "conda activate cassy38  \n",
    "pip install cassandra-driver cql\n",
    "```"
   ]
  },
  {
   "attachments": {},
   "cell_type": "markdown",
   "metadata": {},
   "source": [
    "## Spinning up a local cassandra instance in a terminal\n",
    "```docker run --name my_cassandra cassandra:latest -p 9042:9042```  \n",
    "  \n",
    "If this works for you, hourra! Otherwise, try the following:  \n",
    "- Open Docker Desktop\n",
    "- Run the cassandra container with optional settings, opening 9042 port (left-hand side)."
   ]
  },
  {
   "cell_type": "code",
   "execution_count": 1,
   "metadata": {},
   "outputs": [],
   "source": [
    "# Connecting to Cassandra\n",
    "from cassandra.cluster import Cluster\n",
    "cluster = Cluster(['localhost'], port=9042)\n",
    "session = cluster.connect()"
   ]
  },
  {
   "cell_type": "code",
   "execution_count": 2,
   "metadata": {},
   "outputs": [
    {
     "data": {
      "text/plain": [
       "<cassandra.cluster.ResultSet at 0x10423ad70>"
      ]
     },
     "execution_count": 2,
     "metadata": {},
     "output_type": "execute_result"
    }
   ],
   "source": [
    "# Set up new keyspace (first time only)\n",
    "#                                              name of keyspace                        replication strategy           replication factor\n",
    "session.execute(\"CREATE KEYSPACE IF NOT EXISTS my_first_keyspace WITH REPLICATION = { 'class' : 'SimpleStrategy', 'replication_factor' : 1 };\")"
   ]
  },
  {
   "cell_type": "code",
   "execution_count": 3,
   "metadata": {},
   "outputs": [
    {
     "data": {
      "text/plain": [
       "<cassandra.cluster.ResultSet at 0x1077219c0>"
      ]
     },
     "execution_count": 3,
     "metadata": {},
     "output_type": "execute_result"
    }
   ],
   "source": [
    "# Create a new table (first time only)\n",
    "session.set_keyspace('my_first_keyspace')\n",
    "session.execute(\"CREATE TABLE IF NOT EXISTS my_first_table (ind int PRIMARY KEY, company text, model text);\")"
   ]
  },
  {
   "cell_type": "code",
   "execution_count": 4,
   "metadata": {},
   "outputs": [
    {
     "data": {
      "text/plain": [
       "<cassandra.cluster.ResultSet at 0x107720070>"
      ]
     },
     "execution_count": 4,
     "metadata": {},
     "output_type": "execute_result"
    }
   ],
   "source": [
    "# Insert some data (ind is the primary key, must be unique)\n",
    "session.execute(\"INSERT INTO my_first_table (ind, company, model) VALUES (1, 'Tesla', 'Model S');\")\n",
    "session.execute(\"INSERT INTO my_first_table (ind, company, model) VALUES (2, 'Tesla', 'Model 3');\")\n",
    "session.execute(\"INSERT INTO my_first_table (ind, company, model) VALUES (3, 'Polestar', '3');\")"
   ]
  },
  {
   "cell_type": "code",
   "execution_count": 5,
   "metadata": {},
   "outputs": [
    {
     "name": "stdout",
     "output_type": "stream",
     "text": [
      "Row(ind=1, company='Tesla', model='Model S')\n",
      "Row(ind=2, company='Tesla', model='Model 3')\n",
      "Row(ind=3, company='Polestar', model='3')\n"
     ]
    }
   ],
   "source": [
    "# Query the data\n",
    "rows = session.execute(\"SELECT * FROM my_first_table;\")\n",
    "for i in rows:\n",
    "    print(i)"
   ]
  },
  {
   "cell_type": "code",
   "execution_count": 6,
   "metadata": {
    "tags": [
     "raises-exception"
    ]
   },
   "outputs": [
    {
     "ename": "InvalidRequest",
     "evalue": "Error from server: code=2200 [Invalid query] message=\"Cannot execute this query as it might involve data filtering and thus may have unpredictable performance. If you want to execute this query despite the performance unpredictability, use ALLOW FILTERING\"",
     "output_type": "error",
     "traceback": [
      "\u001b[0;31m---------------------------------------------------------------------------\u001b[0m",
      "\u001b[0;31mInvalidRequest\u001b[0m                            Traceback (most recent call last)",
      "Cell \u001b[0;32mIn [6], line 2\u001b[0m\n\u001b[1;32m      1\u001b[0m \u001b[38;5;66;03m# More specific query\u001b[39;00m\n\u001b[0;32m----> 2\u001b[0m prepared_statement \u001b[38;5;241m=\u001b[39m \u001b[43msession\u001b[49m\u001b[38;5;241;43m.\u001b[39;49m\u001b[43mprepare\u001b[49m\u001b[43m(\u001b[49m\u001b[38;5;124;43m\"\u001b[39;49m\u001b[38;5;124;43mSELECT * FROM my_first_table WHERE company=?;\u001b[39;49m\u001b[38;5;124;43m\"\u001b[39;49m\u001b[43m)\u001b[49m \u001b[38;5;66;03m# <- will fail as company is not a key\u001b[39;00m\n\u001b[1;32m      3\u001b[0m teslas \u001b[38;5;241m=\u001b[39m session\u001b[38;5;241m.\u001b[39mexecute(prepared_statement, [\u001b[38;5;124m'\u001b[39m\u001b[38;5;124mTesla\u001b[39m\u001b[38;5;124m'\u001b[39m])\n\u001b[1;32m      4\u001b[0m \u001b[38;5;28;01mfor\u001b[39;00m i \u001b[38;5;129;01min\u001b[39;00m teslas:\n",
      "File \u001b[0;32m~/miniforge3/envs/tf_M1/lib/python3.10/site-packages/cassandra/cluster.py:3088\u001b[0m, in \u001b[0;36mSession.prepare\u001b[0;34m(self, query, custom_payload, keyspace)\u001b[0m\n\u001b[1;32m   3086\u001b[0m \u001b[38;5;28;01mtry\u001b[39;00m:\n\u001b[1;32m   3087\u001b[0m     future\u001b[38;5;241m.\u001b[39msend_request()\n\u001b[0;32m-> 3088\u001b[0m     response \u001b[38;5;241m=\u001b[39m \u001b[43mfuture\u001b[49m\u001b[38;5;241;43m.\u001b[39;49m\u001b[43mresult\u001b[49m\u001b[43m(\u001b[49m\u001b[43m)\u001b[49m\u001b[38;5;241m.\u001b[39mone()\n\u001b[1;32m   3089\u001b[0m \u001b[38;5;28;01mexcept\u001b[39;00m \u001b[38;5;167;01mException\u001b[39;00m:\n\u001b[1;32m   3090\u001b[0m     log\u001b[38;5;241m.\u001b[39mexception(\u001b[38;5;124m\"\u001b[39m\u001b[38;5;124mError preparing query:\u001b[39m\u001b[38;5;124m\"\u001b[39m)\n",
      "File \u001b[0;32m~/miniforge3/envs/tf_M1/lib/python3.10/site-packages/cassandra/cluster.py:4920\u001b[0m, in \u001b[0;36mResponseFuture.result\u001b[0;34m(self)\u001b[0m\n\u001b[1;32m   4918\u001b[0m     \u001b[38;5;28;01mreturn\u001b[39;00m ResultSet(\u001b[38;5;28mself\u001b[39m, \u001b[38;5;28mself\u001b[39m\u001b[38;5;241m.\u001b[39m_final_result)\n\u001b[1;32m   4919\u001b[0m \u001b[38;5;28;01melse\u001b[39;00m:\n\u001b[0;32m-> 4920\u001b[0m     \u001b[38;5;28;01mraise\u001b[39;00m \u001b[38;5;28mself\u001b[39m\u001b[38;5;241m.\u001b[39m_final_exception\n",
      "\u001b[0;31mInvalidRequest\u001b[0m: Error from server: code=2200 [Invalid query] message=\"Cannot execute this query as it might involve data filtering and thus may have unpredictable performance. If you want to execute this query despite the performance unpredictability, use ALLOW FILTERING\""
     ]
    }
   ],
   "source": [
    "# More specific query\n",
    "prepared_statement = session.prepare(\"SELECT * FROM my_first_table WHERE company=?;\") # <- will fail as company is not a key\n",
    "teslas = session.execute(prepared_statement, ['Tesla'])\n",
    "for i in teslas:\n",
    "    print(i)"
   ]
  },
  {
   "attachments": {},
   "cell_type": "markdown",
   "metadata": {},
   "source": [
    "## Cassandra filtering\n",
    "Cassandra is inherently a distributed production database. Selecting as above may require downloading all data from a node, then filtering based on the WHERE part (only PRIMARY KEYs are centrally known). Solutions:  \n",
    "- If the table is small or most of the data will satisfy the query, add ```ALLOW FILTERING``` at the end of the query (not recommended if not known). \n",
    "- Or make sure the WHERE clause points to one of the keys (see below)."
   ]
  },
  {
   "cell_type": "code",
   "execution_count": 7,
   "metadata": {},
   "outputs": [
    {
     "data": {
      "text/plain": [
       "<cassandra.cluster.ResultSet at 0x107720370>"
      ]
     },
     "execution_count": 7,
     "metadata": {},
     "output_type": "execute_result"
    }
   ],
   "source": [
    "# Create a new table (observe keys)\n",
    "session.execute(\"CREATE TABLE IF NOT EXISTS car_table (company text, model text, PRIMARY KEY(company, model));\")"
   ]
  },
  {
   "cell_type": "code",
   "execution_count": 8,
   "metadata": {},
   "outputs": [
    {
     "data": {
      "text/plain": [
       "<cassandra.cluster.ResultSet at 0x126c986a0>"
      ]
     },
     "execution_count": 8,
     "metadata": {},
     "output_type": "execute_result"
    }
   ],
   "source": [
    "# Insert some data (combination of company and model must be unique)\n",
    "session.execute(\"INSERT INTO car_table (company, model) VALUES ('Tesla', 'Model S');\")\n",
    "session.execute(\"INSERT INTO car_table (company, model) VALUES ('Tesla', 'Model 3');\")\n",
    "session.execute(\"INSERT INTO car_table (company, model) VALUES ('Polestar', '3');\")"
   ]
  },
  {
   "cell_type": "code",
   "execution_count": 9,
   "metadata": {},
   "outputs": [
    {
     "name": "stdout",
     "output_type": "stream",
     "text": [
      "Row(company='Tesla', model='Model 3')\n",
      "Row(company='Tesla', model='Model S')\n"
     ]
    }
   ],
   "source": [
    "# More specific query now works\n",
    "prepared_statement = session.prepare(\"SELECT * FROM car_table WHERE company=?;\")\n",
    "teslas = session.execute(prepared_statement, ['Tesla'])\n",
    "for i in teslas:\n",
    "    print(i)"
   ]
  },
  {
   "attachments": {},
   "cell_type": "markdown",
   "metadata": {},
   "source": [
    "## JSON in Cassandra\n"
   ]
  },
  {
   "cell_type": "code",
   "execution_count": 10,
   "metadata": {},
   "outputs": [],
   "source": [
    "# Imports\n",
    "import datetime as dt\n",
    "import requests\n",
    "import json"
   ]
  },
  {
   "attachments": {},
   "cell_type": "markdown",
   "metadata": {},
   "source": [
    "### Read previously saved JSON file forecast.json to memory"
   ]
  },
  {
   "cell_type": "code",
   "execution_count": 11,
   "metadata": {},
   "outputs": [],
   "source": [
    "with open('../APIs/downloads/forecast.json', 'r') as f:\n",
    "    forecast = json.load(f)"
   ]
  },
  {
   "cell_type": "code",
   "execution_count": 12,
   "metadata": {},
   "outputs": [
    {
     "data": {
      "text/plain": [
       "\"{'cod': '200', 'message': 0, 'cnt': 40, 'list': [{'dt': 1693213200, 'main': {'temp': 287.71, 'feels_like': 287.52, 'temp_min': 287.71, 'temp_max': 289.83, 'pressure': 1004, 'sea_level': 1004, 'grnd_level': 988, 'humidity': 88, 'temp_kf': -2.12}, 'weather': [{'id': 802, 'main': 'Clouds', 'description': 'scattered clouds', 'icon': '03d'}], 'clouds': {'all': 29}, 'wind': {'speed': 1.28, 'deg': 197, 'gust': 1.96}, 'visibility': 10000, 'pop': 0, 'sys': {'pod': 'd'}, 'dt_txt': '2023-08-28 09:00:00'}, {'dt': 1693224000, 'main': {'temp': 290.15, 'feels_like': 289.68, 'temp_min': 290.15, 'temp_max': 291.9, 'pressure': 1004, 'sea_level': 1004, 'grnd_level': 987, 'humidity': 68, 'temp_kf': -1.75}, 'weather': [{'id': 802, 'main': 'Clouds', 'description': 'scattered clouds', 'icon': '03d'}], 'clouds': {'all': 32}, 'wind': {'speed': 2.32, 'deg': 216, 'gust': 2.38}, 'visibility': 10000, 'pop': 0.02, 'sys': {'pod': 'd'}, 'dt_txt': '2023-08-28 12:00:00'}, {'dt': 1693234800, 'main': {'temp': 291.08, 'feels_like': 290.5, 'temp_min': 291.08, 'temp_max': 291.08, 'pressure': 1004, 'sea_level': 1004, 'grnd_level': 987, 'humidity': 60, 'temp_kf': 0}, 'weather': [{'id': 803, 'main': 'Clouds', 'description': 'broken clouds', 'icon': '04d'}], 'clouds': {'all': 79}, 'wind': {'speed': 3.13, 'deg': 200, 'gust': 3.31}, 'visibility': 10000, 'pop': 0.17, 'sys': {'pod': 'd'}, 'dt_txt': '2023-08-28 15:00:00'}, {'dt': 1693245600, 'main': {'temp': 286.71, 'feels_like': 286.26, 'temp_min': 286.71, 'temp_max': 286.71, 'pressure': 1004, 'sea_level': 1004, 'grnd_level': 988, 'humidity': 82, 'temp_kf': 0}, 'weather': [{'id': 803, 'main': 'Clouds', 'description': 'broken clouds', 'icon': '04d'}], 'clouds': {'all': 58}, 'wind': {'speed': 2.29, 'deg': 184, 'gust': 6.06}, 'visibility': 10000, 'pop': 0.32, 'sys': {'pod': 'd'}, 'dt_txt': '2023-08-28 18:00:00'}, {'dt': 1693256400, 'main': {'temp': 284.2, 'feels_like': 283.82, 'temp_min': 284.2, 'temp_max': 284.2, 'pressure': 1005, 'sea_level': 1005, 'grnd_level': 988, 'humidity': 94, 'temp_kf': 0}, 'weather': [{'id': 802, 'main': 'Clouds', 'description': 'scattered clouds', 'icon': '03n'}], 'clouds': {'all': 29}, 'wind': {'speed': 1.76, 'deg': 164, 'gust': 2.83}, 'visibility': 10000, 'pop': 0, 'sys': {'pod': 'n'}, 'dt_txt': '2023-08-28 21:00:00'}, {'dt': 1693267200, 'main': {'temp': 283.43, 'feels_like': 282.99, 'temp_min': 283.43, 'temp_max': 283.43, 'pressure': 1005, 'sea_level': 1005, 'grnd_level': 988, 'humidity': 95, 'temp_kf': 0}, 'weather': [{'id': 801, 'main': 'Clouds', 'description': 'few clouds', 'icon': '02n'}], 'clouds': {'all': 17}, 'wind': {'speed': 0.46, 'deg': 99, 'gust': 0.56}, 'visibility': 10000, 'pop': 0, 'sys': {'pod': 'n'}, 'dt_txt': '2023-08-29 00:00:00'}, {'dt': 1693278000, 'main': {'temp': 282.69, 'feels_like': 282.69, 'temp_min': 282.69, 'temp_max': 282.69, 'pressure': 1005, 'sea_level': 1005, 'grnd_level': 988, 'humidity': 96, 'temp_kf': 0}, 'weather': [{'id': 800, 'main': 'Clear', 'description': 'clear sky', 'icon': '01n'}], 'clouds': {'all': 7}, 'wind': {'speed': 0.9, 'deg': 61, 'gust': 0.9}, 'visibility': 10000, 'pop': 0, 'sys': {'pod': 'n'}, 'dt_txt': '2023-08-29 03:00:00'}, {'dt': 1693288800, 'main': {'temp': 284.86, 'feels_like': 284.38, 'temp_min': 284.86, 'temp_max': 284.86, 'pressure': 1006, 'sea_level': 1006, 'grnd_level': 989, 'humidity': 88, 'temp_kf': 0}, 'weather': [{'id': 800, 'main': 'Clear', 'description': 'clear sky', 'icon': '01d'}], 'clouds': {'all': 4}, 'wind': {'speed': 1.25, 'deg': 44, 'gust': 1.98}, 'visibility': 10000, 'pop': 0, 'sys': {'pod': 'd'}, 'dt_txt': '2023-08-29 06:00:00'}, {'dt': 1693299600, 'main': {'temp': 289.91, 'feels_like': 289.39, 'temp_min': 289.91, 'temp_max': 289.91, 'pressure': 1006, 'sea_level': 1006, 'grnd_level': 990, 'humidity': 67, 'temp_kf': 0}, 'weather': [{'id': 801, 'main': 'Clouds', 'description': 'few clouds', 'icon': '02d'}], 'clouds': {'all': 15}, 'wind': {'speed': 1.66, 'deg': 128, 'gust': 2.58}, 'visibility': 10000, 'pop': 0, 'sys': {'pod': 'd'}, 'dt_txt': '2023-08-29 09:00:00'}, {'dt': 1693310400, 'main': {'temp': 290.21, 'feels_like': 289.56, 'temp_min': 290.21, 'temp_max': 290.21, 'pressure': 1006, 'sea_level': 1006, 'grnd_level': 990, 'humidity': 61, 'temp_kf': 0}, 'weather': [{'id': 803, 'main': 'Clouds', 'description': 'broken clouds', 'icon': '04d'}], 'clouds': {'all': 55}, 'wind': {'speed': 3.04, 'deg': 161, 'gust': 3.19}, 'visibility': 10000, 'pop': 0, 'sys': {'pod': 'd'}, 'dt_txt': '2023-08-29 12:00:00'}, {'dt': 1693321200, 'main': {'temp': 289.13, 'feels_like': 288.56, 'temp_min': 289.13, 'temp_max': 289.13, 'pressure': 1006, 'sea_level': 1006, 'grnd_level': 990, 'humidity': 68, 'temp_kf': 0}, 'weather': [{'id': 804, 'main': 'Clouds', 'description': 'overcast clouds', 'icon': '04d'}], 'clouds': {'all': 100}, 'wind': {'speed': 3.46, 'deg': 183, 'gust': 3.96}, 'visibility': 10000, 'pop': 0, 'sys': {'pod': 'd'}, 'dt_txt': '2023-08-29 15:00:00'}, {'dt': 1693332000, 'main': {'temp': 286.09, 'feels_like': 285.63, 'temp_min': 286.09, 'temp_max': 286.09, 'pressure': 1006, 'sea_level': 1006, 'grnd_level': 990, 'humidity': 84, 'temp_kf': 0}, 'weather': [{'id': 804, 'main': 'Clouds', 'description': 'overcast clouds', 'icon': '04d'}], 'clouds': {'all': 100}, 'wind': {'speed': 2.02, 'deg': 166, 'gust': 4.72}, 'visibility': 10000, 'pop': 0, 'sys': {'pod': 'd'}, 'dt_txt': '2023-08-29 18:00:00'}, {'dt': 1693342800, 'main': {'temp': 284.35, 'feels_like': 284.01, 'temp_min': 284.35, 'temp_max': 284.35, 'pressure': 1006, 'sea_level': 1006, 'grnd_level': 990, 'humidity': 95, 'temp_kf': 0}, 'weather': [{'id': 804, 'main': 'Clouds', 'description': 'overcast clouds', 'icon': '04n'}], 'clouds': {'all': 100}, 'wind': {'speed': 1.64, 'deg': 134, 'gust': 3.56}, 'visibility': 10000, 'pop': 0, 'sys': {'pod': 'n'}, 'dt_txt': '2023-08-29 21:00:00'}, {'dt': 1693353600, 'main': {'temp': 283.45, 'feels_like': 283.04, 'temp_min': 283.45, 'temp_max': 283.45, 'pressure': 1006, 'sea_level': 1006, 'grnd_level': 989, 'humidity': 96, 'temp_kf': 0}, 'weather': [{'id': 804, 'main': 'Clouds', 'description': 'overcast clouds', 'icon': '04n'}], 'clouds': {'all': 100}, 'wind': {'speed': 1.23, 'deg': 107, 'gust': 1.48}, 'visibility': 10000, 'pop': 0, 'sys': {'pod': 'n'}, 'dt_txt': '2023-08-30 00:00:00'}, {'dt': 1693364400, 'main': {'temp': 283.13, 'feels_like': 283.13, 'temp_min': 283.13, 'temp_max': 283.13, 'pressure': 1005, 'sea_level': 1005, 'grnd_level': 989, 'humidity': 96, 'temp_kf': 0}, 'weather': [{'id': 804, 'main': 'Clouds', 'description': 'overcast clouds', 'icon': '04n'}], 'clouds': {'all': 100}, 'wind': {'speed': 0.99, 'deg': 88, 'gust': 1.01}, 'visibility': 10000, 'pop': 0, 'sys': {'pod': 'n'}, 'dt_txt': '2023-08-30 03:00:00'}, {'dt': 1693375200, 'main': {'temp': 284.77, 'feels_like': 284.31, 'temp_min': 284.77, 'temp_max': 284.77, 'pressure': 1005, 'sea_level': 1005, 'grnd_level': 989, 'humidity': 89, 'temp_kf': 0}, 'weather': [{'id': 804, 'main': 'Clouds', 'description': 'overcast clouds', 'icon': '04d'}], 'clouds': {'all': 100}, 'wind': {'speed': 0.56, 'deg': 77, 'gust': 1.05}, 'visibility': 10000, 'pop': 0.01, 'sys': {'pod': 'd'}, 'dt_txt': '2023-08-30 06:00:00'}, {'dt': 1693386000, 'main': {'temp': 288.55, 'feels_like': 287.97, 'temp_min': 288.55, 'temp_max': 288.55, 'pressure': 1005, 'sea_level': 1005, 'grnd_level': 988, 'humidity': 70, 'temp_kf': 0}, 'weather': [{'id': 500, 'main': 'Rain', 'description': 'light rain', 'icon': '10d'}], 'clouds': {'all': 100}, 'wind': {'speed': 1.09, 'deg': 139, 'gust': 1.85}, 'visibility': 10000, 'pop': 0.27, 'rain': {'3h': 0.15}, 'sys': {'pod': 'd'}, 'dt_txt': '2023-08-30 09:00:00'}, {'dt': 1693396800, 'main': {'temp': 289.85, 'feels_like': 289.19, 'temp_min': 289.85, 'temp_max': 289.85, 'pressure': 1004, 'sea_level': 1004, 'grnd_level': 988, 'humidity': 62, 'temp_kf': 0}, 'weather': [{'id': 500, 'main': 'Rain', 'description': 'light rain', 'icon': '10d'}], 'clouds': {'all': 99}, 'wind': {'speed': 1.09, 'deg': 217, 'gust': 1.54}, 'visibility': 10000, 'pop': 0.31, 'rain': {'3h': 0.21}, 'sys': {'pod': 'd'}, 'dt_txt': '2023-08-30 12:00:00'}, {'dt': 1693407600, 'main': {'temp': 289.76, 'feels_like': 289.25, 'temp_min': 289.76, 'temp_max': 289.76, 'pressure': 1004, 'sea_level': 1004, 'grnd_level': 987, 'humidity': 68, 'temp_kf': 0}, 'weather': [{'id': 500, 'main': 'Rain', 'description': 'light rain', 'icon': '10d'}], 'clouds': {'all': 90}, 'wind': {'speed': 0.44, 'deg': 138, 'gust': 1.25}, 'visibility': 10000, 'pop': 0.42, 'rain': {'3h': 0.61}, 'sys': {'pod': 'd'}, 'dt_txt': '2023-08-30 15:00:00'}, {'dt': 1693418400, 'main': {'temp': 286.19, 'feels_like': 285.77, 'temp_min': 286.19, 'temp_max': 286.19, 'pressure': 1004, 'sea_level': 1004, 'grnd_level': 987, 'humidity': 85, 'temp_kf': 0}, 'weather': [{'id': 500, 'main': 'Rain', 'description': 'light rain', 'icon': '10d'}], 'clouds': {'all': 65}, 'wind': {'speed': 1.32, 'deg': 147, 'gust': 1.37}, 'visibility': 10000, 'pop': 0.71, 'rain': {'3h': 0.97}, 'sys': {'pod': 'd'}, 'dt_txt': '2023-08-30 18:00:00'}, {'dt': 1693429200, 'main': {'temp': 284.46, 'feels_like': 284.07, 'temp_min': 284.46, 'temp_max': 284.46, 'pressure': 1004, 'sea_level': 1004, 'grnd_level': 987, 'humidity': 93, 'temp_kf': 0}, 'weather': [{'id': 500, 'main': 'Rain', 'description': 'light rain', 'icon': '10n'}], 'clouds': {'all': 64}, 'wind': {'speed': 1.04, 'deg': 102, 'gust': 1.07}, 'visibility': 10000, 'pop': 0.51, 'rain': {'3h': 0.41}, 'sys': {'pod': 'n'}, 'dt_txt': '2023-08-30 21:00:00'}, {'dt': 1693440000, 'main': {'temp': 284.13, 'feels_like': 283.76, 'temp_min': 284.13, 'temp_max': 284.13, 'pressure': 1004, 'sea_level': 1004, 'grnd_level': 987, 'humidity': 95, 'temp_kf': 0}, 'weather': [{'id': 500, 'main': 'Rain', 'description': 'light rain', 'icon': '10n'}], 'clouds': {'all': 72}, 'wind': {'speed': 0.67, 'deg': 66, 'gust': 0.78}, 'visibility': 10000, 'pop': 0.62, 'rain': {'3h': 0.45}, 'sys': {'pod': 'n'}, 'dt_txt': '2023-08-31 00:00:00'}, {'dt': 1693450800, 'main': {'temp': 283.82, 'feels_like': 283.4, 'temp_min': 283.82, 'temp_max': 283.82, 'pressure': 1003, 'sea_level': 1003, 'grnd_level': 987, 'humidity': 94, 'temp_kf': 0}, 'weather': [{'id': 500, 'main': 'Rain', 'description': 'light rain', 'icon': '10n'}], 'clouds': {'all': 98}, 'wind': {'speed': 1.13, 'deg': 50, 'gust': 1.49}, 'visibility': 10000, 'pop': 0.27, 'rain': {'3h': 0.14}, 'sys': {'pod': 'n'}, 'dt_txt': '2023-08-31 03:00:00'}, {'dt': 1693461600, 'main': {'temp': 284.8, 'feels_like': 284.48, 'temp_min': 284.8, 'temp_max': 284.8, 'pressure': 1003, 'sea_level': 1003, 'grnd_level': 987, 'humidity': 94, 'temp_kf': 0}, 'weather': [{'id': 500, 'main': 'Rain', 'description': 'light rain', 'icon': '10d'}], 'clouds': {'all': 99}, 'wind': {'speed': 1.27, 'deg': 35, 'gust': 2.71}, 'visibility': 10000, 'pop': 0.62, 'rain': {'3h': 0.34}, 'sys': {'pod': 'd'}, 'dt_txt': '2023-08-31 06:00:00'}, {'dt': 1693472400, 'main': {'temp': 285.06, 'feels_like': 284.81, 'temp_min': 285.06, 'temp_max': 285.06, 'pressure': 1003, 'sea_level': 1003, 'grnd_level': 987, 'humidity': 96, 'temp_kf': 0}, 'weather': [{'id': 501, 'main': 'Rain', 'description': 'moderate rain', 'icon': '10d'}], 'clouds': {'all': 100}, 'wind': {'speed': 1.32, 'deg': 44, 'gust': 3.22}, 'visibility': 9722, 'pop': 1, 'rain': {'3h': 3.07}, 'sys': {'pod': 'd'}, 'dt_txt': '2023-08-31 09:00:00'}, {'dt': 1693483200, 'main': {'temp': 285.09, 'feels_like': 284.85, 'temp_min': 285.09, 'temp_max': 285.09, 'pressure': 1003, 'sea_level': 1003, 'grnd_level': 987, 'humidity': 96, 'temp_kf': 0}, 'weather': [{'id': 501, 'main': 'Rain', 'description': 'moderate rain', 'icon': '10d'}], 'clouds': {'all': 100}, 'wind': {'speed': 0.73, 'deg': 24, 'gust': 1.23}, 'visibility': 10000, 'pop': 1, 'rain': {'3h': 8.99}, 'sys': {'pod': 'd'}, 'dt_txt': '2023-08-31 12:00:00'}, {'dt': 1693494000, 'main': {'temp': 284.85, 'feels_like': 284.56, 'temp_min': 284.85, 'temp_max': 284.85, 'pressure': 1004, 'sea_level': 1004, 'grnd_level': 987, 'humidity': 95, 'temp_kf': 0}, 'weather': [{'id': 501, 'main': 'Rain', 'description': 'moderate rain', 'icon': '10d'}], 'clouds': {'all': 100}, 'wind': {'speed': 0.79, 'deg': 273, 'gust': 1.44}, 'visibility': 10000, 'pop': 0.99, 'rain': {'3h': 3.06}, 'sys': {'pod': 'd'}, 'dt_txt': '2023-08-31 15:00:00'}, {'dt': 1693504800, 'main': {'temp': 284.28, 'feels_like': 283.96, 'temp_min': 284.28, 'temp_max': 284.28, 'pressure': 1004, 'sea_level': 1004, 'grnd_level': 987, 'humidity': 96, 'temp_kf': 0}, 'weather': [{'id': 500, 'main': 'Rain', 'description': 'light rain', 'icon': '10d'}], 'clouds': {'all': 100}, 'wind': {'speed': 1.11, 'deg': 260, 'gust': 1.47}, 'visibility': 10000, 'pop': 0.99, 'rain': {'3h': 0.38}, 'sys': {'pod': 'd'}, 'dt_txt': '2023-08-31 18:00:00'}, {'dt': 1693515600, 'main': {'temp': 283.14, 'feels_like': 283.14, 'temp_min': 283.14, 'temp_max': 283.14, 'pressure': 1004, 'sea_level': 1004, 'grnd_level': 987, 'humidity': 97, 'temp_kf': 0}, 'weather': [{'id': 804, 'main': 'Clouds', 'description': 'overcast clouds', 'icon': '04n'}], 'clouds': {'all': 100}, 'wind': {'speed': 1.22, 'deg': 208, 'gust': 1.46}, 'visibility': 10000, 'pop': 0.09, 'sys': {'pod': 'n'}, 'dt_txt': '2023-08-31 21:00:00'}, {'dt': 1693526400, 'main': {'temp': 282.15, 'feels_like': 282.15, 'temp_min': 282.15, 'temp_max': 282.15, 'pressure': 1004, 'sea_level': 1004, 'grnd_level': 987, 'humidity': 97, 'temp_kf': 0}, 'weather': [{'id': 804, 'main': 'Clouds', 'description': 'overcast clouds', 'icon': '04n'}], 'clouds': {'all': 100}, 'wind': {'speed': 0.61, 'deg': 197, 'gust': 0.7}, 'visibility': 10000, 'pop': 0.02, 'sys': {'pod': 'n'}, 'dt_txt': '2023-09-01 00:00:00'}, {'dt': 1693537200, 'main': {'temp': 281.44, 'feels_like': 281.44, 'temp_min': 281.44, 'temp_max': 281.44, 'pressure': 1004, 'sea_level': 1004, 'grnd_level': 987, 'humidity': 97, 'temp_kf': 0}, 'weather': [{'id': 801, 'main': 'Clouds', 'description': 'few clouds', 'icon': '02n'}], 'clouds': {'all': 20}, 'wind': {'speed': 0.17, 'deg': 230, 'gust': 0.5}, 'visibility': 10000, 'pop': 0, 'sys': {'pod': 'n'}, 'dt_txt': '2023-09-01 03:00:00'}, {'dt': 1693548000, 'main': {'temp': 283.23, 'feels_like': 282.75, 'temp_min': 283.23, 'temp_max': 283.23, 'pressure': 1004, 'sea_level': 1004, 'grnd_level': 988, 'humidity': 94, 'temp_kf': 0}, 'weather': [{'id': 801, 'main': 'Clouds', 'description': 'few clouds', 'icon': '02d'}], 'clouds': {'all': 15}, 'wind': {'speed': 0.46, 'deg': 228, 'gust': 1.01}, 'visibility': 10000, 'pop': 0, 'sys': {'pod': 'd'}, 'dt_txt': '2023-09-01 06:00:00'}, {'dt': 1693558800, 'main': {'temp': 288.04, 'feels_like': 287.54, 'temp_min': 288.04, 'temp_max': 288.04, 'pressure': 1005, 'sea_level': 1005, 'grnd_level': 989, 'humidity': 75, 'temp_kf': 0}, 'weather': [{'id': 800, 'main': 'Clear', 'description': 'clear sky', 'icon': '01d'}], 'clouds': {'all': 6}, 'wind': {'speed': 1.53, 'deg': 216, 'gust': 2.37}, 'visibility': 10000, 'pop': 0, 'sys': {'pod': 'd'}, 'dt_txt': '2023-09-01 09:00:00'}, {'dt': 1693569600, 'main': {'temp': 291.61, 'feels_like': 290.92, 'temp_min': 291.61, 'temp_max': 291.61, 'pressure': 1006, 'sea_level': 1006, 'grnd_level': 990, 'humidity': 54, 'temp_kf': 0}, 'weather': [{'id': 800, 'main': 'Clear', 'description': 'clear sky', 'icon': '01d'}], 'clouds': {'all': 6}, 'wind': {'speed': 2.05, 'deg': 224, 'gust': 2.69}, 'visibility': 10000, 'pop': 0, 'sys': {'pod': 'd'}, 'dt_txt': '2023-09-01 12:00:00'}, {'dt': 1693580400, 'main': {'temp': 291.14, 'feels_like': 290.56, 'temp_min': 291.14, 'temp_max': 291.14, 'pressure': 1007, 'sea_level': 1007, 'grnd_level': 991, 'humidity': 60, 'temp_kf': 0}, 'weather': [{'id': 800, 'main': 'Clear', 'description': 'clear sky', 'icon': '01d'}], 'clouds': {'all': 8}, 'wind': {'speed': 3.04, 'deg': 189, 'gust': 3.01}, 'visibility': 10000, 'pop': 0.07, 'sys': {'pod': 'd'}, 'dt_txt': '2023-09-01 15:00:00'}, {'dt': 1693591200, 'main': {'temp': 286, 'feels_like': 285.61, 'temp_min': 286, 'temp_max': 286, 'pressure': 1009, 'sea_level': 1009, 'grnd_level': 992, 'humidity': 87, 'temp_kf': 0}, 'weather': [{'id': 801, 'main': 'Clouds', 'description': 'few clouds', 'icon': '02d'}], 'clouds': {'all': 15}, 'wind': {'speed': 1.45, 'deg': 155, 'gust': 1.51}, 'visibility': 10000, 'pop': 0.26, 'sys': {'pod': 'd'}, 'dt_txt': '2023-09-01 18:00:00'}, {'dt': 1693602000, 'main': {'temp': 285, 'feels_like': 284.62, 'temp_min': 285, 'temp_max': 285, 'pressure': 1011, 'sea_level': 1011, 'grnd_level': 994, 'humidity': 91, 'temp_kf': 0}, 'weather': [{'id': 802, 'main': 'Clouds', 'description': 'scattered clouds', 'icon': '03n'}], 'clouds': {'all': 34}, 'wind': {'speed': 1.47, 'deg': 45, 'gust': 1.5}, 'visibility': 10000, 'pop': 0.08, 'sys': {'pod': 'n'}, 'dt_txt': '2023-09-01 21:00:00'}, {'dt': 1693612800, 'main': {'temp': 285.28, 'feels_like': 284.9, 'temp_min': 285.28, 'temp_max': 285.28, 'pressure': 1013, 'sea_level': 1013, 'grnd_level': 996, 'humidity': 90, 'temp_kf': 0}, 'weather': [{'id': 803, 'main': 'Clouds', 'description': 'broken clouds', 'icon': '04n'}], 'clouds': {'all': 66}, 'wind': {'speed': 1.88, 'deg': 37, 'gust': 5.36}, 'visibility': 10000, 'pop': 0.28, 'sys': {'pod': 'n'}, 'dt_txt': '2023-09-02 00:00:00'}, {'dt': 1693623600, 'main': {'temp': 284.08, 'feels_like': 283.53, 'temp_min': 284.08, 'temp_max': 284.08, 'pressure': 1014, 'sea_level': 1014, 'grnd_level': 997, 'humidity': 88, 'temp_kf': 0}, 'weather': [{'id': 804, 'main': 'Clouds', 'description': 'overcast clouds', 'icon': '04n'}], 'clouds': {'all': 90}, 'wind': {'speed': 1.88, 'deg': 28, 'gust': 4.48}, 'visibility': 10000, 'pop': 0.13, 'sys': {'pod': 'n'}, 'dt_txt': '2023-09-02 03:00:00'}, {'dt': 1693634400, 'main': {'temp': 284.77, 'feels_like': 284.1, 'temp_min': 284.77, 'temp_max': 284.77, 'pressure': 1014, 'sea_level': 1014, 'grnd_level': 998, 'humidity': 81, 'temp_kf': 0}, 'weather': [{'id': 804, 'main': 'Clouds', 'description': 'overcast clouds', 'icon': '04d'}], 'clouds': {'all': 95}, 'wind': {'speed': 1.8, 'deg': 40, 'gust': 5}, 'visibility': 10000, 'pop': 0.13, 'sys': {'pod': 'd'}, 'dt_txt': '2023-09-02 06:00:00'}], 'city': {'id': 3139081, 'name': 'Ski', 'coord': {'lat': 59.7195, 'lon': 10.8358}, 'country': 'NO', 'population': 12513, 'timezone': 7200, 'sunrise': 1693195329, 'sunset': 1693247661}}\""
      ]
     },
     "execution_count": 12,
     "metadata": {},
     "output_type": "execute_result"
    }
   ],
   "source": [
    "# Inspect JSON file\n",
    "forecast.__str__()"
   ]
  },
  {
   "attachments": {},
   "cell_type": "markdown",
   "metadata": {},
   "source": [
    "## Raw JSON\n",
    "A simple, but not very efficient way of storing JSON data is to treat it as a text and save it directly to the database.  \n",
    "More efficient, with regard to transfer, is to compress the JSON data to a blob first."
   ]
  },
  {
   "cell_type": "code",
   "execution_count": 13,
   "metadata": {},
   "outputs": [
    {
     "data": {
      "text/plain": [
       "<cassandra.cluster.ResultSet at 0x107718070>"
      ]
     },
     "execution_count": 13,
     "metadata": {},
     "output_type": "execute_result"
    }
   ],
   "source": [
    "session.execute(\"DROP TABLE IF EXISTS my_first_keyspace.forecast_table;\")"
   ]
  },
  {
   "attachments": {},
   "cell_type": "markdown",
   "metadata": {},
   "source": [
    "### Create a new table which treats the whole JSON as a blob, using the city id and the first dt as keys"
   ]
  },
  {
   "cell_type": "code",
   "execution_count": 14,
   "metadata": {},
   "outputs": [
    {
     "data": {
      "text/plain": [
       "<cassandra.cluster.ResultSet at 0x126f9a200>"
      ]
     },
     "execution_count": 14,
     "metadata": {},
     "output_type": "execute_result"
    }
   ],
   "source": [
    "session.set_keyspace('my_first_keyspace')\n",
    "session.execute(\"CREATE TABLE IF NOT EXISTS forecast_table (city_id int, dt int, forecast blob, PRIMARY KEY(city_id, dt));\")"
   ]
  },
  {
   "attachments": {},
   "cell_type": "markdown",
   "metadata": {},
   "source": [
    "### Insert the forecast data into the table as text"
   ]
  },
  {
   "cell_type": "code",
   "execution_count": 15,
   "metadata": {},
   "outputs": [
    {
     "data": {
      "text/plain": [
       "<cassandra.cluster.ResultSet at 0x126f9a1d0>"
      ]
     },
     "execution_count": 15,
     "metadata": {},
     "output_type": "execute_result"
    }
   ],
   "source": [
    "session.execute(\"INSERT INTO forecast_table (city_id, dt, forecast) VALUES (%s, %s, textAsBlob(%s));\", (forecast['city']['id'], forecast['list'][0]['dt'], forecast.__str__()))"
   ]
  },
  {
   "cell_type": "code",
   "execution_count": 16,
   "metadata": {},
   "outputs": [
    {
     "name": "stdout",
     "output_type": "stream",
     "text": [
      "Row(city_id=3139081, dt=1693213200, forecast=b\"{'cod': '200', 'message': 0, 'cnt': 40, 'list': [{'dt': 1693213200, 'main': {'temp': 287.71, 'feels_like': 287.52, 'temp_min': 287.71, 'temp_max': 289.83, 'pressure': 1004, 'sea_level': 1004, 'grnd_level': 988, 'humidity': 88, 'temp_kf': -2.12}, 'weather': [{'id': 802, 'main': 'Clouds', 'description': 'scattered clouds', 'icon': '03d'}], 'clouds': {'all': 29}, 'wind': {'speed': 1.28, 'deg': 197, 'gust': 1.96}, 'visibility': 10000, 'pop': 0, 'sys': {'pod': 'd'}, 'dt_txt': '2023-08-28 09:00:00'}, {'dt': 1693224000, 'main': {'temp': 290.15, 'feels_like': 289.68, 'temp_min': 290.15, 'temp_max': 291.9, 'pressure': 1004, 'sea_level': 1004, 'grnd_level': 987, 'humidity': 68, 'temp_kf': -1.75}, 'weather': [{'id': 802, 'main': 'Clouds', 'description': 'scattered clouds', 'icon': '03d'}], 'clouds': {'all': 32}, 'wind': {'speed': 2.32, 'deg': 216, 'gust': 2.38}, 'visibility': 10000, 'pop': 0.02, 'sys': {'pod': 'd'}, 'dt_txt': '2023-08-28 12:00:00'}, {'dt': 1693234800, 'main': {'temp': 291.08, 'feels_like': 290.5, 'temp_min': 291.08, 'temp_max': 291.08, 'pressure': 1004, 'sea_level': 1004, 'grnd_level': 987, 'humidity': 60, 'temp_kf': 0}, 'weather': [{'id': 803, 'main': 'Clouds', 'description': 'broken clouds', 'icon': '04d'}], 'clouds': {'all': 79}, 'wind': {'speed': 3.13, 'deg': 200, 'gust': 3.31}, 'visibility': 10000, 'pop': 0.17, 'sys': {'pod': 'd'}, 'dt_txt': '2023-08-28 15:00:00'}, {'dt': 1693245600, 'main': {'temp': 286.71, 'feels_like': 286.26, 'temp_min': 286.71, 'temp_max': 286.71, 'pressure': 1004, 'sea_level': 1004, 'grnd_level': 988, 'humidity': 82, 'temp_kf': 0}, 'weather': [{'id': 803, 'main': 'Clouds', 'description': 'broken clouds', 'icon': '04d'}], 'clouds': {'all': 58}, 'wind': {'speed': 2.29, 'deg': 184, 'gust': 6.06}, 'visibility': 10000, 'pop': 0.32, 'sys': {'pod': 'd'}, 'dt_txt': '2023-08-28 18:00:00'}, {'dt': 1693256400, 'main': {'temp': 284.2, 'feels_like': 283.82, 'temp_min': 284.2, 'temp_max': 284.2, 'pressure': 1005, 'sea_level': 1005, 'grnd_level': 988, 'humidity': 94, 'temp_kf': 0}, 'weather': [{'id': 802, 'main': 'Clouds', 'description': 'scattered clouds', 'icon': '03n'}], 'clouds': {'all': 29}, 'wind': {'speed': 1.76, 'deg': 164, 'gust': 2.83}, 'visibility': 10000, 'pop': 0, 'sys': {'pod': 'n'}, 'dt_txt': '2023-08-28 21:00:00'}, {'dt': 1693267200, 'main': {'temp': 283.43, 'feels_like': 282.99, 'temp_min': 283.43, 'temp_max': 283.43, 'pressure': 1005, 'sea_level': 1005, 'grnd_level': 988, 'humidity': 95, 'temp_kf': 0}, 'weather': [{'id': 801, 'main': 'Clouds', 'description': 'few clouds', 'icon': '02n'}], 'clouds': {'all': 17}, 'wind': {'speed': 0.46, 'deg': 99, 'gust': 0.56}, 'visibility': 10000, 'pop': 0, 'sys': {'pod': 'n'}, 'dt_txt': '2023-08-29 00:00:00'}, {'dt': 1693278000, 'main': {'temp': 282.69, 'feels_like': 282.69, 'temp_min': 282.69, 'temp_max': 282.69, 'pressure': 1005, 'sea_level': 1005, 'grnd_level': 988, 'humidity': 96, 'temp_kf': 0}, 'weather': [{'id': 800, 'main': 'Clear', 'description': 'clear sky', 'icon': '01n'}], 'clouds': {'all': 7}, 'wind': {'speed': 0.9, 'deg': 61, 'gust': 0.9}, 'visibility': 10000, 'pop': 0, 'sys': {'pod': 'n'}, 'dt_txt': '2023-08-29 03:00:00'}, {'dt': 1693288800, 'main': {'temp': 284.86, 'feels_like': 284.38, 'temp_min': 284.86, 'temp_max': 284.86, 'pressure': 1006, 'sea_level': 1006, 'grnd_level': 989, 'humidity': 88, 'temp_kf': 0}, 'weather': [{'id': 800, 'main': 'Clear', 'description': 'clear sky', 'icon': '01d'}], 'clouds': {'all': 4}, 'wind': {'speed': 1.25, 'deg': 44, 'gust': 1.98}, 'visibility': 10000, 'pop': 0, 'sys': {'pod': 'd'}, 'dt_txt': '2023-08-29 06:00:00'}, {'dt': 1693299600, 'main': {'temp': 289.91, 'feels_like': 289.39, 'temp_min': 289.91, 'temp_max': 289.91, 'pressure': 1006, 'sea_level': 1006, 'grnd_level': 990, 'humidity': 67, 'temp_kf': 0}, 'weather': [{'id': 801, 'main': 'Clouds', 'description': 'few clouds', 'icon': '02d'}], 'clouds': {'all': 15}, 'wind': {'speed': 1.66, 'deg': 128, 'gust': 2.58}, 'visibility': 10000, 'pop': 0, 'sys': {'pod': 'd'}, 'dt_txt': '2023-08-29 09:00:00'}, {'dt': 1693310400, 'main': {'temp': 290.21, 'feels_like': 289.56, 'temp_min': 290.21, 'temp_max': 290.21, 'pressure': 1006, 'sea_level': 1006, 'grnd_level': 990, 'humidity': 61, 'temp_kf': 0}, 'weather': [{'id': 803, 'main': 'Clouds', 'description': 'broken clouds', 'icon': '04d'}], 'clouds': {'all': 55}, 'wind': {'speed': 3.04, 'deg': 161, 'gust': 3.19}, 'visibility': 10000, 'pop': 0, 'sys': {'pod': 'd'}, 'dt_txt': '2023-08-29 12:00:00'}, {'dt': 1693321200, 'main': {'temp': 289.13, 'feels_like': 288.56, 'temp_min': 289.13, 'temp_max': 289.13, 'pressure': 1006, 'sea_level': 1006, 'grnd_level': 990, 'humidity': 68, 'temp_kf': 0}, 'weather': [{'id': 804, 'main': 'Clouds', 'description': 'overcast clouds', 'icon': '04d'}], 'clouds': {'all': 100}, 'wind': {'speed': 3.46, 'deg': 183, 'gust': 3.96}, 'visibility': 10000, 'pop': 0, 'sys': {'pod': 'd'}, 'dt_txt': '2023-08-29 15:00:00'}, {'dt': 1693332000, 'main': {'temp': 286.09, 'feels_like': 285.63, 'temp_min': 286.09, 'temp_max': 286.09, 'pressure': 1006, 'sea_level': 1006, 'grnd_level': 990, 'humidity': 84, 'temp_kf': 0}, 'weather': [{'id': 804, 'main': 'Clouds', 'description': 'overcast clouds', 'icon': '04d'}], 'clouds': {'all': 100}, 'wind': {'speed': 2.02, 'deg': 166, 'gust': 4.72}, 'visibility': 10000, 'pop': 0, 'sys': {'pod': 'd'}, 'dt_txt': '2023-08-29 18:00:00'}, {'dt': 1693342800, 'main': {'temp': 284.35, 'feels_like': 284.01, 'temp_min': 284.35, 'temp_max': 284.35, 'pressure': 1006, 'sea_level': 1006, 'grnd_level': 990, 'humidity': 95, 'temp_kf': 0}, 'weather': [{'id': 804, 'main': 'Clouds', 'description': 'overcast clouds', 'icon': '04n'}], 'clouds': {'all': 100}, 'wind': {'speed': 1.64, 'deg': 134, 'gust': 3.56}, 'visibility': 10000, 'pop': 0, 'sys': {'pod': 'n'}, 'dt_txt': '2023-08-29 21:00:00'}, {'dt': 1693353600, 'main': {'temp': 283.45, 'feels_like': 283.04, 'temp_min': 283.45, 'temp_max': 283.45, 'pressure': 1006, 'sea_level': 1006, 'grnd_level': 989, 'humidity': 96, 'temp_kf': 0}, 'weather': [{'id': 804, 'main': 'Clouds', 'description': 'overcast clouds', 'icon': '04n'}], 'clouds': {'all': 100}, 'wind': {'speed': 1.23, 'deg': 107, 'gust': 1.48}, 'visibility': 10000, 'pop': 0, 'sys': {'pod': 'n'}, 'dt_txt': '2023-08-30 00:00:00'}, {'dt': 1693364400, 'main': {'temp': 283.13, 'feels_like': 283.13, 'temp_min': 283.13, 'temp_max': 283.13, 'pressure': 1005, 'sea_level': 1005, 'grnd_level': 989, 'humidity': 96, 'temp_kf': 0}, 'weather': [{'id': 804, 'main': 'Clouds', 'description': 'overcast clouds', 'icon': '04n'}], 'clouds': {'all': 100}, 'wind': {'speed': 0.99, 'deg': 88, 'gust': 1.01}, 'visibility': 10000, 'pop': 0, 'sys': {'pod': 'n'}, 'dt_txt': '2023-08-30 03:00:00'}, {'dt': 1693375200, 'main': {'temp': 284.77, 'feels_like': 284.31, 'temp_min': 284.77, 'temp_max': 284.77, 'pressure': 1005, 'sea_level': 1005, 'grnd_level': 989, 'humidity': 89, 'temp_kf': 0}, 'weather': [{'id': 804, 'main': 'Clouds', 'description': 'overcast clouds', 'icon': '04d'}], 'clouds': {'all': 100}, 'wind': {'speed': 0.56, 'deg': 77, 'gust': 1.05}, 'visibility': 10000, 'pop': 0.01, 'sys': {'pod': 'd'}, 'dt_txt': '2023-08-30 06:00:00'}, {'dt': 1693386000, 'main': {'temp': 288.55, 'feels_like': 287.97, 'temp_min': 288.55, 'temp_max': 288.55, 'pressure': 1005, 'sea_level': 1005, 'grnd_level': 988, 'humidity': 70, 'temp_kf': 0}, 'weather': [{'id': 500, 'main': 'Rain', 'description': 'light rain', 'icon': '10d'}], 'clouds': {'all': 100}, 'wind': {'speed': 1.09, 'deg': 139, 'gust': 1.85}, 'visibility': 10000, 'pop': 0.27, 'rain': {'3h': 0.15}, 'sys': {'pod': 'd'}, 'dt_txt': '2023-08-30 09:00:00'}, {'dt': 1693396800, 'main': {'temp': 289.85, 'feels_like': 289.19, 'temp_min': 289.85, 'temp_max': 289.85, 'pressure': 1004, 'sea_level': 1004, 'grnd_level': 988, 'humidity': 62, 'temp_kf': 0}, 'weather': [{'id': 500, 'main': 'Rain', 'description': 'light rain', 'icon': '10d'}], 'clouds': {'all': 99}, 'wind': {'speed': 1.09, 'deg': 217, 'gust': 1.54}, 'visibility': 10000, 'pop': 0.31, 'rain': {'3h': 0.21}, 'sys': {'pod': 'd'}, 'dt_txt': '2023-08-30 12:00:00'}, {'dt': 1693407600, 'main': {'temp': 289.76, 'feels_like': 289.25, 'temp_min': 289.76, 'temp_max': 289.76, 'pressure': 1004, 'sea_level': 1004, 'grnd_level': 987, 'humidity': 68, 'temp_kf': 0}, 'weather': [{'id': 500, 'main': 'Rain', 'description': 'light rain', 'icon': '10d'}], 'clouds': {'all': 90}, 'wind': {'speed': 0.44, 'deg': 138, 'gust': 1.25}, 'visibility': 10000, 'pop': 0.42, 'rain': {'3h': 0.61}, 'sys': {'pod': 'd'}, 'dt_txt': '2023-08-30 15:00:00'}, {'dt': 1693418400, 'main': {'temp': 286.19, 'feels_like': 285.77, 'temp_min': 286.19, 'temp_max': 286.19, 'pressure': 1004, 'sea_level': 1004, 'grnd_level': 987, 'humidity': 85, 'temp_kf': 0}, 'weather': [{'id': 500, 'main': 'Rain', 'description': 'light rain', 'icon': '10d'}], 'clouds': {'all': 65}, 'wind': {'speed': 1.32, 'deg': 147, 'gust': 1.37}, 'visibility': 10000, 'pop': 0.71, 'rain': {'3h': 0.97}, 'sys': {'pod': 'd'}, 'dt_txt': '2023-08-30 18:00:00'}, {'dt': 1693429200, 'main': {'temp': 284.46, 'feels_like': 284.07, 'temp_min': 284.46, 'temp_max': 284.46, 'pressure': 1004, 'sea_level': 1004, 'grnd_level': 987, 'humidity': 93, 'temp_kf': 0}, 'weather': [{'id': 500, 'main': 'Rain', 'description': 'light rain', 'icon': '10n'}], 'clouds': {'all': 64}, 'wind': {'speed': 1.04, 'deg': 102, 'gust': 1.07}, 'visibility': 10000, 'pop': 0.51, 'rain': {'3h': 0.41}, 'sys': {'pod': 'n'}, 'dt_txt': '2023-08-30 21:00:00'}, {'dt': 1693440000, 'main': {'temp': 284.13, 'feels_like': 283.76, 'temp_min': 284.13, 'temp_max': 284.13, 'pressure': 1004, 'sea_level': 1004, 'grnd_level': 987, 'humidity': 95, 'temp_kf': 0}, 'weather': [{'id': 500, 'main': 'Rain', 'description': 'light rain', 'icon': '10n'}], 'clouds': {'all': 72}, 'wind': {'speed': 0.67, 'deg': 66, 'gust': 0.78}, 'visibility': 10000, 'pop': 0.62, 'rain': {'3h': 0.45}, 'sys': {'pod': 'n'}, 'dt_txt': '2023-08-31 00:00:00'}, {'dt': 1693450800, 'main': {'temp': 283.82, 'feels_like': 283.4, 'temp_min': 283.82, 'temp_max': 283.82, 'pressure': 1003, 'sea_level': 1003, 'grnd_level': 987, 'humidity': 94, 'temp_kf': 0}, 'weather': [{'id': 500, 'main': 'Rain', 'description': 'light rain', 'icon': '10n'}], 'clouds': {'all': 98}, 'wind': {'speed': 1.13, 'deg': 50, 'gust': 1.49}, 'visibility': 10000, 'pop': 0.27, 'rain': {'3h': 0.14}, 'sys': {'pod': 'n'}, 'dt_txt': '2023-08-31 03:00:00'}, {'dt': 1693461600, 'main': {'temp': 284.8, 'feels_like': 284.48, 'temp_min': 284.8, 'temp_max': 284.8, 'pressure': 1003, 'sea_level': 1003, 'grnd_level': 987, 'humidity': 94, 'temp_kf': 0}, 'weather': [{'id': 500, 'main': 'Rain', 'description': 'light rain', 'icon': '10d'}], 'clouds': {'all': 99}, 'wind': {'speed': 1.27, 'deg': 35, 'gust': 2.71}, 'visibility': 10000, 'pop': 0.62, 'rain': {'3h': 0.34}, 'sys': {'pod': 'd'}, 'dt_txt': '2023-08-31 06:00:00'}, {'dt': 1693472400, 'main': {'temp': 285.06, 'feels_like': 284.81, 'temp_min': 285.06, 'temp_max': 285.06, 'pressure': 1003, 'sea_level': 1003, 'grnd_level': 987, 'humidity': 96, 'temp_kf': 0}, 'weather': [{'id': 501, 'main': 'Rain', 'description': 'moderate rain', 'icon': '10d'}], 'clouds': {'all': 100}, 'wind': {'speed': 1.32, 'deg': 44, 'gust': 3.22}, 'visibility': 9722, 'pop': 1, 'rain': {'3h': 3.07}, 'sys': {'pod': 'd'}, 'dt_txt': '2023-08-31 09:00:00'}, {'dt': 1693483200, 'main': {'temp': 285.09, 'feels_like': 284.85, 'temp_min': 285.09, 'temp_max': 285.09, 'pressure': 1003, 'sea_level': 1003, 'grnd_level': 987, 'humidity': 96, 'temp_kf': 0}, 'weather': [{'id': 501, 'main': 'Rain', 'description': 'moderate rain', 'icon': '10d'}], 'clouds': {'all': 100}, 'wind': {'speed': 0.73, 'deg': 24, 'gust': 1.23}, 'visibility': 10000, 'pop': 1, 'rain': {'3h': 8.99}, 'sys': {'pod': 'd'}, 'dt_txt': '2023-08-31 12:00:00'}, {'dt': 1693494000, 'main': {'temp': 284.85, 'feels_like': 284.56, 'temp_min': 284.85, 'temp_max': 284.85, 'pressure': 1004, 'sea_level': 1004, 'grnd_level': 987, 'humidity': 95, 'temp_kf': 0}, 'weather': [{'id': 501, 'main': 'Rain', 'description': 'moderate rain', 'icon': '10d'}], 'clouds': {'all': 100}, 'wind': {'speed': 0.79, 'deg': 273, 'gust': 1.44}, 'visibility': 10000, 'pop': 0.99, 'rain': {'3h': 3.06}, 'sys': {'pod': 'd'}, 'dt_txt': '2023-08-31 15:00:00'}, {'dt': 1693504800, 'main': {'temp': 284.28, 'feels_like': 283.96, 'temp_min': 284.28, 'temp_max': 284.28, 'pressure': 1004, 'sea_level': 1004, 'grnd_level': 987, 'humidity': 96, 'temp_kf': 0}, 'weather': [{'id': 500, 'main': 'Rain', 'description': 'light rain', 'icon': '10d'}], 'clouds': {'all': 100}, 'wind': {'speed': 1.11, 'deg': 260, 'gust': 1.47}, 'visibility': 10000, 'pop': 0.99, 'rain': {'3h': 0.38}, 'sys': {'pod': 'd'}, 'dt_txt': '2023-08-31 18:00:00'}, {'dt': 1693515600, 'main': {'temp': 283.14, 'feels_like': 283.14, 'temp_min': 283.14, 'temp_max': 283.14, 'pressure': 1004, 'sea_level': 1004, 'grnd_level': 987, 'humidity': 97, 'temp_kf': 0}, 'weather': [{'id': 804, 'main': 'Clouds', 'description': 'overcast clouds', 'icon': '04n'}], 'clouds': {'all': 100}, 'wind': {'speed': 1.22, 'deg': 208, 'gust': 1.46}, 'visibility': 10000, 'pop': 0.09, 'sys': {'pod': 'n'}, 'dt_txt': '2023-08-31 21:00:00'}, {'dt': 1693526400, 'main': {'temp': 282.15, 'feels_like': 282.15, 'temp_min': 282.15, 'temp_max': 282.15, 'pressure': 1004, 'sea_level': 1004, 'grnd_level': 987, 'humidity': 97, 'temp_kf': 0}, 'weather': [{'id': 804, 'main': 'Clouds', 'description': 'overcast clouds', 'icon': '04n'}], 'clouds': {'all': 100}, 'wind': {'speed': 0.61, 'deg': 197, 'gust': 0.7}, 'visibility': 10000, 'pop': 0.02, 'sys': {'pod': 'n'}, 'dt_txt': '2023-09-01 00:00:00'}, {'dt': 1693537200, 'main': {'temp': 281.44, 'feels_like': 281.44, 'temp_min': 281.44, 'temp_max': 281.44, 'pressure': 1004, 'sea_level': 1004, 'grnd_level': 987, 'humidity': 97, 'temp_kf': 0}, 'weather': [{'id': 801, 'main': 'Clouds', 'description': 'few clouds', 'icon': '02n'}], 'clouds': {'all': 20}, 'wind': {'speed': 0.17, 'deg': 230, 'gust': 0.5}, 'visibility': 10000, 'pop': 0, 'sys': {'pod': 'n'}, 'dt_txt': '2023-09-01 03:00:00'}, {'dt': 1693548000, 'main': {'temp': 283.23, 'feels_like': 282.75, 'temp_min': 283.23, 'temp_max': 283.23, 'pressure': 1004, 'sea_level': 1004, 'grnd_level': 988, 'humidity': 94, 'temp_kf': 0}, 'weather': [{'id': 801, 'main': 'Clouds', 'description': 'few clouds', 'icon': '02d'}], 'clouds': {'all': 15}, 'wind': {'speed': 0.46, 'deg': 228, 'gust': 1.01}, 'visibility': 10000, 'pop': 0, 'sys': {'pod': 'd'}, 'dt_txt': '2023-09-01 06:00:00'}, {'dt': 1693558800, 'main': {'temp': 288.04, 'feels_like': 287.54, 'temp_min': 288.04, 'temp_max': 288.04, 'pressure': 1005, 'sea_level': 1005, 'grnd_level': 989, 'humidity': 75, 'temp_kf': 0}, 'weather': [{'id': 800, 'main': 'Clear', 'description': 'clear sky', 'icon': '01d'}], 'clouds': {'all': 6}, 'wind': {'speed': 1.53, 'deg': 216, 'gust': 2.37}, 'visibility': 10000, 'pop': 0, 'sys': {'pod': 'd'}, 'dt_txt': '2023-09-01 09:00:00'}, {'dt': 1693569600, 'main': {'temp': 291.61, 'feels_like': 290.92, 'temp_min': 291.61, 'temp_max': 291.61, 'pressure': 1006, 'sea_level': 1006, 'grnd_level': 990, 'humidity': 54, 'temp_kf': 0}, 'weather': [{'id': 800, 'main': 'Clear', 'description': 'clear sky', 'icon': '01d'}], 'clouds': {'all': 6}, 'wind': {'speed': 2.05, 'deg': 224, 'gust': 2.69}, 'visibility': 10000, 'pop': 0, 'sys': {'pod': 'd'}, 'dt_txt': '2023-09-01 12:00:00'}, {'dt': 1693580400, 'main': {'temp': 291.14, 'feels_like': 290.56, 'temp_min': 291.14, 'temp_max': 291.14, 'pressure': 1007, 'sea_level': 1007, 'grnd_level': 991, 'humidity': 60, 'temp_kf': 0}, 'weather': [{'id': 800, 'main': 'Clear', 'description': 'clear sky', 'icon': '01d'}], 'clouds': {'all': 8}, 'wind': {'speed': 3.04, 'deg': 189, 'gust': 3.01}, 'visibility': 10000, 'pop': 0.07, 'sys': {'pod': 'd'}, 'dt_txt': '2023-09-01 15:00:00'}, {'dt': 1693591200, 'main': {'temp': 286, 'feels_like': 285.61, 'temp_min': 286, 'temp_max': 286, 'pressure': 1009, 'sea_level': 1009, 'grnd_level': 992, 'humidity': 87, 'temp_kf': 0}, 'weather': [{'id': 801, 'main': 'Clouds', 'description': 'few clouds', 'icon': '02d'}], 'clouds': {'all': 15}, 'wind': {'speed': 1.45, 'deg': 155, 'gust': 1.51}, 'visibility': 10000, 'pop': 0.26, 'sys': {'pod': 'd'}, 'dt_txt': '2023-09-01 18:00:00'}, {'dt': 1693602000, 'main': {'temp': 285, 'feels_like': 284.62, 'temp_min': 285, 'temp_max': 285, 'pressure': 1011, 'sea_level': 1011, 'grnd_level': 994, 'humidity': 91, 'temp_kf': 0}, 'weather': [{'id': 802, 'main': 'Clouds', 'description': 'scattered clouds', 'icon': '03n'}], 'clouds': {'all': 34}, 'wind': {'speed': 1.47, 'deg': 45, 'gust': 1.5}, 'visibility': 10000, 'pop': 0.08, 'sys': {'pod': 'n'}, 'dt_txt': '2023-09-01 21:00:00'}, {'dt': 1693612800, 'main': {'temp': 285.28, 'feels_like': 284.9, 'temp_min': 285.28, 'temp_max': 285.28, 'pressure': 1013, 'sea_level': 1013, 'grnd_level': 996, 'humidity': 90, 'temp_kf': 0}, 'weather': [{'id': 803, 'main': 'Clouds', 'description': 'broken clouds', 'icon': '04n'}], 'clouds': {'all': 66}, 'wind': {'speed': 1.88, 'deg': 37, 'gust': 5.36}, 'visibility': 10000, 'pop': 0.28, 'sys': {'pod': 'n'}, 'dt_txt': '2023-09-02 00:00:00'}, {'dt': 1693623600, 'main': {'temp': 284.08, 'feels_like': 283.53, 'temp_min': 284.08, 'temp_max': 284.08, 'pressure': 1014, 'sea_level': 1014, 'grnd_level': 997, 'humidity': 88, 'temp_kf': 0}, 'weather': [{'id': 804, 'main': 'Clouds', 'description': 'overcast clouds', 'icon': '04n'}], 'clouds': {'all': 90}, 'wind': {'speed': 1.88, 'deg': 28, 'gust': 4.48}, 'visibility': 10000, 'pop': 0.13, 'sys': {'pod': 'n'}, 'dt_txt': '2023-09-02 03:00:00'}, {'dt': 1693634400, 'main': {'temp': 284.77, 'feels_like': 284.1, 'temp_min': 284.77, 'temp_max': 284.77, 'pressure': 1014, 'sea_level': 1014, 'grnd_level': 998, 'humidity': 81, 'temp_kf': 0}, 'weather': [{'id': 804, 'main': 'Clouds', 'description': 'overcast clouds', 'icon': '04d'}], 'clouds': {'all': 95}, 'wind': {'speed': 1.8, 'deg': 40, 'gust': 5}, 'visibility': 10000, 'pop': 0.13, 'sys': {'pod': 'd'}, 'dt_txt': '2023-09-02 06:00:00'}], 'city': {'id': 3139081, 'name': 'Ski', 'coord': {'lat': 59.7195, 'lon': 10.8358}, 'country': 'NO', 'population': 12513, 'timezone': 7200, 'sunrise': 1693195329, 'sunset': 1693247661}}\")\n"
     ]
    }
   ],
   "source": [
    "# Query the data\n",
    "forecast_rows = session.execute(\"SELECT * FROM forecast_table;\")\n",
    "print(forecast_rows.one()) # <- only one row"
   ]
  }
 ],
 "metadata": {
  "kernelspec": {
   "display_name": "tf_M1",
   "language": "python",
   "name": "python3"
  },
  "language_info": {
   "codemirror_mode": {
    "name": "ipython",
    "version": 3
   },
   "file_extension": ".py",
   "mimetype": "text/x-python",
   "name": "python",
   "nbconvert_exporter": "python",
   "pygments_lexer": "ipython3",
   "version": "3.10.6"
  }
 },
 "nbformat": 4,
 "nbformat_minor": 2
}