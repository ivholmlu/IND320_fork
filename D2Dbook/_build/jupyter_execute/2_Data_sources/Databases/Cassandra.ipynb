{
 "cells": [
  {
   "cell_type": "markdown",
   "metadata": {},
   "source": [
    "# Cassandra\n",
    "- A production grade NoSQL database.\n",
    "- Can be distributed across servers, nodes, etc.\n",
    "- Replication of database is supported for high degree of redundancy and speed.\n",
    "- Uses CQL, a subset of SQL for querying.\n",
    "- Works seamlesly together with Spark and its corresponding distributed structure.\n",
    "- Installation of Cassandra is explained in the [Installation chapter](../../6_Appendix/Installation.ipynb)."
   ]
  },
  {
   "cell_type": "markdown",
   "metadata": {
    "slideshow": {
     "slide_type": "slide"
    }
   },
   "source": [
    "## Spinning up a local Cassandra instance\n",
    "In a terminal, first time:  \n",
    "```docker run --name my_cassandra -p 9042:9042 cassandra:latest```  \n",
    "... and later:  \n",
    "```docker start my_cassandra```  \n",
    "  \n",
    ".. or in Docker Desktop:\n",
    "- Run the cassandra docker image with optional settings, opening 9042 port and setting a name.\n",
    "- Later, simply run the container with the name you chose."
   ]
  },
  {
   "cell_type": "markdown",
   "metadata": {
    "slideshow": {
     "slide_type": "slide"
    }
   },
   "source": [
    "<img src=\"../../images/Docker_images.png\" width=\"600px\">  "
   ]
  },
  {
   "cell_type": "markdown",
   "metadata": {
    "slideshow": {
     "slide_type": "slide"
    }
   },
   "source": [
    "\n",
    "<img src=\"../../images/Docker_containers.png\" width=\"800px\">  "
   ]
  },
  {
   "cell_type": "markdown",
   "metadata": {
    "slideshow": {
     "slide_type": "slide"
    }
   },
   "source": [
    "### Connect to the Cassandra cluster from Python."
   ]
  },
  {
   "cell_type": "code",
   "execution_count": 1,
   "metadata": {
    "slideshow": {
     "slide_type": "-"
    }
   },
   "outputs": [],
   "source": [
    "# Connecting to Cassandra\n",
    "from cassandra.cluster import Cluster\n",
    "cluster = Cluster(['localhost'], port=9042)\n",
    "session = cluster.connect()"
   ]
  },
  {
   "cell_type": "markdown",
   "metadata": {
    "slideshow": {
     "slide_type": "slide"
    }
   },
   "source": [
    "### Keyspace\n",
    "- In Cassandra database tables are stored in keyspaces (basically a distributed database).\n",
    "- These have parameters controlling their distribution on nodes/servers and redundancy.\n",
    "- We will use the simplest form locally."
   ]
  },
  {
   "cell_type": "code",
   "execution_count": 2,
   "metadata": {
    "slideshow": {
     "slide_type": "fragment"
    }
   },
   "outputs": [
    {
     "data": {
      "text/plain": [
       "<cassandra.cluster.ResultSet at 0x107256140>"
      ]
     },
     "execution_count": 2,
     "metadata": {},
     "output_type": "execute_result"
    }
   ],
   "source": [
    "# Set up new keyspace (first time only)\n",
    "#                                              name of keyspace                        replication strategy           replication factor\n",
    "session.execute(\"CREATE KEYSPACE IF NOT EXISTS my_first_keyspace WITH REPLICATION = { 'class' : 'SimpleStrategy', 'replication_factor' : 1 };\")"
   ]
  },
  {
   "cell_type": "markdown",
   "metadata": {
    "slideshow": {
     "slide_type": "slide"
    }
   },
   "source": [
    "### Create a table\n",
    "- IF NOT EXISTS makes sure we do not overwrite existing tables"
   ]
  },
  {
   "cell_type": "code",
   "execution_count": 3,
   "metadata": {
    "slideshow": {
     "slide_type": "fragment"
    }
   },
   "outputs": [
    {
     "data": {
      "text/plain": [
       "<cassandra.cluster.ResultSet at 0x1071e0dc0>"
      ]
     },
     "execution_count": 3,
     "metadata": {},
     "output_type": "execute_result"
    }
   ],
   "source": [
    "# Create a new table (first time only)\n",
    "session.set_keyspace('my_first_keyspace')\n",
    "session.execute(\"DROP TABLE IF EXISTS my_first_keyspace.my_first_table;\") # Starting from scratch every time\n",
    "session.execute(\"CREATE TABLE IF NOT EXISTS my_first_table (ind int PRIMARY KEY, company text, model text);\")"
   ]
  },
  {
   "cell_type": "markdown",
   "metadata": {
    "slideshow": {
     "slide_type": "slide"
    }
   },
   "source": [
    "### Inserting and reading data"
   ]
  },
  {
   "cell_type": "code",
   "execution_count": 4,
   "metadata": {
    "slideshow": {
     "slide_type": "-"
    }
   },
   "outputs": [
    {
     "data": {
      "text/plain": [
       "<cassandra.cluster.ResultSet at 0x1071df2e0>"
      ]
     },
     "execution_count": 4,
     "metadata": {},
     "output_type": "execute_result"
    }
   ],
   "source": [
    "# Insert some data (ind is the primary key, must be unique)\n",
    "session.execute(\"INSERT INTO my_first_table (ind, company, model) VALUES (1, 'Tesla', 'Model S');\")\n",
    "session.execute(\"INSERT INTO my_first_table (ind, company, model) VALUES (2, 'Tesla', 'Model 3');\")\n",
    "session.execute(\"INSERT INTO my_first_table (ind, company, model) VALUES (3, 'Polestar', '3');\")"
   ]
  },
  {
   "cell_type": "markdown",
   "metadata": {
    "slideshow": {
     "slide_type": "slide"
    }
   },
   "source": [
    "### Asyncronous writing\n",
    "- If your application is very data intensive, waiting for a response is not productive.\n",
    "- Writing asyncronously sends the data but does not pause for reply."
   ]
  },
  {
   "cell_type": "code",
   "execution_count": 5,
   "metadata": {
    "slideshow": {
     "slide_type": "-"
    }
   },
   "outputs": [
    {
     "data": {
      "text/plain": [
       "<ResponseFuture: query='<SimpleStatement query=\"INSERT INTO my_first_table (ind, company, model) VALUES (4, 'Volkswagen', 'ID.4');\", consistency=Not Set>' request_id=24 result=(no result yet) exception=None coordinator_host=None>"
      ]
     },
     "execution_count": 5,
     "metadata": {},
     "output_type": "execute_result"
    }
   ],
   "source": [
    "session.execute_async(\"INSERT INTO my_first_table (ind, company, model) VALUES (4, 'Volkswagen', 'ID.4');\")"
   ]
  },
  {
   "cell_type": "code",
   "execution_count": 6,
   "metadata": {
    "slideshow": {
     "slide_type": "slide"
    }
   },
   "outputs": [
    {
     "name": "stdout",
     "output_type": "stream",
     "text": [
      "Row(ind=1, company='Tesla', model='Model S')\n",
      "Row(ind=2, company='Tesla', model='Model 3')\n",
      "Row(ind=4, company='Volkswagen', model='ID.4')\n",
      "Row(ind=3, company='Polestar', model='3')\n"
     ]
    }
   ],
   "source": [
    "# Query the data\n",
    "rows = session.execute(\"SELECT * FROM my_first_table;\")\n",
    "for i in rows:\n",
    "    print(i)"
   ]
  },
  {
   "cell_type": "code",
   "execution_count": 7,
   "metadata": {
    "slideshow": {
     "slide_type": "slide"
    },
    "tags": [
     "raises-exception"
    ]
   },
   "outputs": [
    {
     "ename": "InvalidRequest",
     "evalue": "Error from server: code=2200 [Invalid query] message=\"Cannot execute this query as it might involve data filtering and thus may have unpredictable performance. If you want to execute this query despite the performance unpredictability, use ALLOW FILTERING\"",
     "output_type": "error",
     "traceback": [
      "\u001b[0;31m---------------------------------------------------------------------------\u001b[0m",
      "\u001b[0;31mInvalidRequest\u001b[0m                            Traceback (most recent call last)",
      "Cell \u001b[0;32mIn [7], line 2\u001b[0m\n\u001b[1;32m      1\u001b[0m \u001b[38;5;66;03m# More specific query\u001b[39;00m\n\u001b[0;32m----> 2\u001b[0m prepared_statement \u001b[38;5;241m=\u001b[39m \u001b[43msession\u001b[49m\u001b[38;5;241;43m.\u001b[39;49m\u001b[43mprepare\u001b[49m\u001b[43m(\u001b[49m\u001b[38;5;124;43m\"\u001b[39;49m\u001b[38;5;124;43mSELECT * FROM my_first_table WHERE company=?;\u001b[39;49m\u001b[38;5;124;43m\"\u001b[39;49m\u001b[43m)\u001b[49m \u001b[38;5;66;03m# <- will fail as company is not a key\u001b[39;00m\n\u001b[1;32m      3\u001b[0m teslas \u001b[38;5;241m=\u001b[39m session\u001b[38;5;241m.\u001b[39mexecute(prepared_statement, [\u001b[38;5;124m'\u001b[39m\u001b[38;5;124mTesla\u001b[39m\u001b[38;5;124m'\u001b[39m])\n\u001b[1;32m      4\u001b[0m \u001b[38;5;28;01mfor\u001b[39;00m i \u001b[38;5;129;01min\u001b[39;00m teslas:\n",
      "File \u001b[0;32m~/miniforge3/envs/tf_M1/lib/python3.10/site-packages/cassandra/cluster.py:3088\u001b[0m, in \u001b[0;36mSession.prepare\u001b[0;34m(self, query, custom_payload, keyspace)\u001b[0m\n\u001b[1;32m   3086\u001b[0m \u001b[38;5;28;01mtry\u001b[39;00m:\n\u001b[1;32m   3087\u001b[0m     future\u001b[38;5;241m.\u001b[39msend_request()\n\u001b[0;32m-> 3088\u001b[0m     response \u001b[38;5;241m=\u001b[39m \u001b[43mfuture\u001b[49m\u001b[38;5;241;43m.\u001b[39;49m\u001b[43mresult\u001b[49m\u001b[43m(\u001b[49m\u001b[43m)\u001b[49m\u001b[38;5;241m.\u001b[39mone()\n\u001b[1;32m   3089\u001b[0m \u001b[38;5;28;01mexcept\u001b[39;00m \u001b[38;5;167;01mException\u001b[39;00m:\n\u001b[1;32m   3090\u001b[0m     log\u001b[38;5;241m.\u001b[39mexception(\u001b[38;5;124m\"\u001b[39m\u001b[38;5;124mError preparing query:\u001b[39m\u001b[38;5;124m\"\u001b[39m)\n",
      "File \u001b[0;32m~/miniforge3/envs/tf_M1/lib/python3.10/site-packages/cassandra/cluster.py:4920\u001b[0m, in \u001b[0;36mResponseFuture.result\u001b[0;34m(self)\u001b[0m\n\u001b[1;32m   4918\u001b[0m     \u001b[38;5;28;01mreturn\u001b[39;00m ResultSet(\u001b[38;5;28mself\u001b[39m, \u001b[38;5;28mself\u001b[39m\u001b[38;5;241m.\u001b[39m_final_result)\n\u001b[1;32m   4919\u001b[0m \u001b[38;5;28;01melse\u001b[39;00m:\n\u001b[0;32m-> 4920\u001b[0m     \u001b[38;5;28;01mraise\u001b[39;00m \u001b[38;5;28mself\u001b[39m\u001b[38;5;241m.\u001b[39m_final_exception\n",
      "\u001b[0;31mInvalidRequest\u001b[0m: Error from server: code=2200 [Invalid query] message=\"Cannot execute this query as it might involve data filtering and thus may have unpredictable performance. If you want to execute this query despite the performance unpredictability, use ALLOW FILTERING\""
     ]
    }
   ],
   "source": [
    "# More specific query\n",
    "prepared_statement = session.prepare(\"SELECT * FROM my_first_table WHERE company=?;\") # <- will fail as company is not a key\n",
    "teslas = session.execute(prepared_statement, ['Tesla'])\n",
    "for i in teslas:\n",
    "    print(i)"
   ]
  },
  {
   "cell_type": "markdown",
   "metadata": {
    "slideshow": {
     "slide_type": "slide"
    }
   },
   "source": [
    "## Cassandra filtering\n",
    "Cassandra is inherently a distributed production database. Selecting as above may require downloading all data from a node, then filtering based on the WHERE part (only PRIMARY KEYs are centrally known). Solutions:  \n",
    "- If the table is small or most of the data will satisfy the query, add ```ALLOW FILTERING``` at the end of the query (not recommended if not known). \n",
    "- Or make sure the WHERE clause points to one of the keys (see below)."
   ]
  },
  {
   "cell_type": "code",
   "execution_count": 8,
   "metadata": {
    "slideshow": {
     "slide_type": "slide"
    }
   },
   "outputs": [
    {
     "data": {
      "text/plain": [
       "<cassandra.cluster.ResultSet at 0x107d9d7e0>"
      ]
     },
     "execution_count": 8,
     "metadata": {},
     "output_type": "execute_result"
    }
   ],
   "source": [
    "# Create a new table (observe keys)\n",
    "session.execute(\"DROP TABLE IF EXISTS my_first_keyspace.car_table;\")\n",
    "session.execute(\"CREATE TABLE IF NOT EXISTS car_table (company text, model text, PRIMARY KEY(company, model));\")"
   ]
  },
  {
   "cell_type": "code",
   "execution_count": 9,
   "metadata": {
    "slideshow": {
     "slide_type": "fragment"
    }
   },
   "outputs": [
    {
     "data": {
      "text/plain": [
       "<cassandra.cluster.ResultSet at 0x107d9eda0>"
      ]
     },
     "execution_count": 9,
     "metadata": {},
     "output_type": "execute_result"
    }
   ],
   "source": [
    "# Insert some data (combination of company and model must be unique)\n",
    "session.execute(\"INSERT INTO car_table (company, model) VALUES ('Tesla', 'Model S');\")\n",
    "session.execute(\"INSERT INTO car_table (company, model) VALUES ('Tesla', 'Model 3');\")\n",
    "session.execute(\"INSERT INTO car_table (company, model) VALUES ('Polestar', '3');\")\n",
    "session.execute(\"INSERT INTO car_table (company, model) VALUES ('Volkswagen', 'ID.4');\")"
   ]
  },
  {
   "cell_type": "code",
   "execution_count": 10,
   "metadata": {
    "slideshow": {
     "slide_type": "slide"
    }
   },
   "outputs": [
    {
     "name": "stdout",
     "output_type": "stream",
     "text": [
      "Row(company='Tesla', model='Model 3')\n",
      "Row(company='Tesla', model='Model S')\n"
     ]
    }
   ],
   "source": [
    "# More specific query now works\n",
    "prepared_statement = session.prepare(\"SELECT * FROM car_table WHERE company=?;\")\n",
    "teslas = session.execute(prepared_statement, ['Tesla'])\n",
    "for i in teslas:\n",
    "    print(i)"
   ]
  },
  {
   "cell_type": "markdown",
   "metadata": {
    "slideshow": {
     "slide_type": "slide"
    }
   },
   "source": [
    "### Partitions\n",
    "- Cassandra databases are usually replicated over different nodes.\n",
    "- Data is stored in partitions (subsets) which have local copys.\n",
    "- The primary key, e.g., PRIMARY KEY(company, model), is used in partitioning.\n",
    "    - The first part, e.g., company, is most important.\n",
    "    - All cars from a company will be located together, aiming for quicker queries."
   ]
  },
  {
   "cell_type": "markdown",
   "metadata": {
    "slideshow": {
     "slide_type": "slide"
    }
   },
   "source": [
    "### Unique IDs \n",
    "- In MySQL one could use the attribute AUTO_INCREMENT on integer IDs to automatically make a new unique index when inserting data.\n",
    "- This would cause unreasonable overhead in a distributed database.\n",
    "- [UUID](https://en.wikipedia.org/wiki/Universally_unique_identifier)s are used instead.\n",
    "    - Universally Unique Identifiers are typically 128-bit random bit sequences with extremely low probability of duplication.\n",
    "    - Cassandra uses a [timeuuid](https://docs.datastax.com/en/cql-oss/3.3/cql/cql_reference/timeuuid_functions_r.html) type to combine a timestamp and uuid in one."
   ]
  },
  {
   "cell_type": "code",
   "execution_count": 11,
   "metadata": {
    "slideshow": {
     "slide_type": "fragment"
    }
   },
   "outputs": [
    {
     "data": {
      "text/plain": [
       "<cassandra.cluster.ResultSet at 0x107d9fc40>"
      ]
     },
     "execution_count": 11,
     "metadata": {},
     "output_type": "execute_result"
    }
   ],
   "source": [
    "# Create a new table (first time only)\n",
    "session.set_keyspace('my_first_keyspace')\n",
    "session.execute(\"DROP TABLE IF EXISTS my_first_keyspace.table_with_uuid;\")\n",
    "session.execute(\"CREATE TABLE IF NOT EXISTS table_with_uuid (id timeuuid PRIMARY KEY, company text, model text, price float);\")"
   ]
  },
  {
   "cell_type": "code",
   "execution_count": 12,
   "metadata": {
    "slideshow": {
     "slide_type": "slide"
    }
   },
   "outputs": [
    {
     "data": {
      "text/plain": [
       "<cassandra.cluster.ResultSet at 0x107d9f220>"
      ]
     },
     "execution_count": 12,
     "metadata": {},
     "output_type": "execute_result"
    }
   ],
   "source": [
    "session.execute(\"INSERT INTO table_with_uuid (id, company, model, price) VALUES (now(), 'Tesla', 'Model S', 20000.0);\")\n",
    "session.execute(\"INSERT INTO table_with_uuid (id, company, model, price) VALUES (now(), 'Tesla', 'Model S', 21000.0);\")\n",
    "session.execute(\"INSERT INTO table_with_uuid (id, company, model, price) VALUES (now(), 'Oldsmobile', 'Model 6C', 135000.0);\")"
   ]
  },
  {
   "cell_type": "code",
   "execution_count": 13,
   "metadata": {
    "slideshow": {
     "slide_type": "slide"
    }
   },
   "outputs": [
    {
     "name": "stdout",
     "output_type": "stream",
     "text": [
      "Row(id=UUID('9bd402b0-5b78-11ee-9584-e764fe77f234'), company='Tesla', model='Model S', price=21000.0)\n",
      "Datetime: 2023-09-25 07:53:26.363000\n",
      "Row(id=UUID('9bd3b490-5b78-11ee-9584-e764fe77f234'), company='Tesla', model='Model S', price=20000.0)\n",
      "Datetime: 2023-09-25 07:53:26.361000\n",
      "Row(id=UUID('9bd429c0-5b78-11ee-9584-e764fe77f234'), company='Oldsmobile', model='Model 6C', price=135000.0)\n",
      "Datetime: 2023-09-25 07:53:26.364000\n"
     ]
    }
   ],
   "source": [
    "from cassandra.util import datetime_from_uuid1\n",
    "\n",
    "# Query the data\n",
    "rows = session.execute(\"SELECT * FROM table_with_uuid;\")\n",
    "for i in rows:\n",
    "    print(i)\n",
    "    # Extract the timestamp from Cassandra's timeuuid\n",
    "    print(\"Datetime:\", datetime_from_uuid1(i.id))"
   ]
  },
  {
   "cell_type": "markdown",
   "metadata": {
    "slideshow": {
     "slide_type": "slide"
    }
   },
   "source": [
    "## JSON in Cassandra\n",
    "### Read previously saved JSON file forecast.json to memory"
   ]
  },
  {
   "cell_type": "code",
   "execution_count": 14,
   "metadata": {
    "slideshow": {
     "slide_type": "-"
    }
   },
   "outputs": [],
   "source": [
    "import json\n",
    "with open('../APIs/downloads/forecast.json', 'r') as f:\n",
    "    forecast = json.load(f)"
   ]
  },
  {
   "cell_type": "code",
   "execution_count": 15,
   "metadata": {
    "slideshow": {
     "slide_type": "slide"
    }
   },
   "outputs": [
    {
     "data": {
      "text/plain": [
       "\"{'cod': '200', 'message': 0, 'cnt': 40, 'list': [{'dt': 1695632400, 'main': {'temp': 287.55, 'feels_like': 287.47, 'temp_min': 286.61, 'temp_max': 287.55, 'pressure': 1016, 'sea_level': 1016, 'grnd_level': 1000, 'humidity': 93, 'temp_kf': 0.94}, 'weather': [{'id': 500, 'main': 'Rain', 'description': 'light rain', 'icon': '10d'}], 'clouds': {'all': 100}, 'wind': {'speed': 6.51, 'deg': 189, 'gust': 13.92}, 'visibility': 10000, 'pop': 0.72, 'rain': {'3h': 0.83}, 'sys': {'pod': 'd'}, 'dt_txt': '2023-09-25 09:00:00'}, {'dt': 1695643200, 'main': {'temp': 287.63, 'feels_like': 287.46, 'temp_min': 287.63, 'temp_max': 287.78, 'pressure': 1016, 'sea_level': 1016, 'grnd_level': 1000, 'humidity': 89, 'temp_kf': -0.15}, 'weather': [{'id': 500, 'main': 'Rain', 'description': 'light rain', 'icon': '10d'}], 'clouds': {'all': 100}, 'wind': {'speed': 6.88, 'deg': 191, 'gust': 13.62}, 'visibility': 10000, 'pop': 0.59, 'rain': {'3h': 0.11}, 'sys': {'pod': 'd'}, 'dt_txt': '2023-09-25 12:00:00'}, {'dt': 1695654000, 'main': {'temp': 286.86, 'feels_like': 286.71, 'temp_min': 286.51, 'temp_max': 286.86, 'pressure': 1016, 'sea_level': 1016, 'grnd_level': 999, 'humidity': 93, 'temp_kf': 0.35}, 'weather': [{'id': 500, 'main': 'Rain', 'description': 'light rain', 'icon': '10d'}], 'clouds': {'all': 100}, 'wind': {'speed': 6.22, 'deg': 186, 'gust': 13.43}, 'visibility': 10000, 'pop': 0.38, 'rain': {'3h': 0.12}, 'sys': {'pod': 'd'}, 'dt_txt': '2023-09-25 15:00:00'}, {'dt': 1695664800, 'main': {'temp': 287.25, 'feels_like': 287.14, 'temp_min': 287.25, 'temp_max': 287.25, 'pressure': 1017, 'sea_level': 1017, 'grnd_level': 1000, 'humidity': 93, 'temp_kf': 0}, 'weather': [{'id': 500, 'main': 'Rain', 'description': 'light rain', 'icon': '10n'}], 'clouds': {'all': 100}, 'wind': {'speed': 5.39, 'deg': 203, 'gust': 11.28}, 'visibility': 10000, 'pop': 0.72, 'rain': {'3h': 0.54}, 'sys': {'pod': 'n'}, 'dt_txt': '2023-09-25 18:00:00'}, {'dt': 1695675600, 'main': {'temp': 286.36, 'feels_like': 286.22, 'temp_min': 286.36, 'temp_max': 286.36, 'pressure': 1017, 'sea_level': 1017, 'grnd_level': 1001, 'humidity': 95, 'temp_kf': 0}, 'weather': [{'id': 803, 'main': 'Clouds', 'description': 'broken clouds', 'icon': '04n'}], 'clouds': {'all': 83}, 'wind': {'speed': 4.55, 'deg': 197, 'gust': 11.76}, 'visibility': 10000, 'pop': 0.25, 'sys': {'pod': 'n'}, 'dt_txt': '2023-09-25 21:00:00'}, {'dt': 1695686400, 'main': {'temp': 285.15, 'feels_like': 284.86, 'temp_min': 285.15, 'temp_max': 285.15, 'pressure': 1018, 'sea_level': 1018, 'grnd_level': 1002, 'humidity': 94, 'temp_kf': 0}, 'weather': [{'id': 803, 'main': 'Clouds', 'description': 'broken clouds', 'icon': '04n'}], 'clouds': {'all': 75}, 'wind': {'speed': 4.09, 'deg': 200, 'gust': 10.88}, 'visibility': 10000, 'pop': 0.15, 'sys': {'pod': 'n'}, 'dt_txt': '2023-09-26 00:00:00'}, {'dt': 1695697200, 'main': {'temp': 284.02, 'feels_like': 283.62, 'temp_min': 284.02, 'temp_max': 284.02, 'pressure': 1019, 'sea_level': 1019, 'grnd_level': 1002, 'humidity': 94, 'temp_kf': 0}, 'weather': [{'id': 804, 'main': 'Clouds', 'description': 'overcast clouds', 'icon': '04n'}], 'clouds': {'all': 99}, 'wind': {'speed': 3, 'deg': 187, 'gust': 9.52}, 'visibility': 10000, 'pop': 0, 'sys': {'pod': 'n'}, 'dt_txt': '2023-09-26 03:00:00'}, {'dt': 1695708000, 'main': {'temp': 284.02, 'feels_like': 283.67, 'temp_min': 284.02, 'temp_max': 284.02, 'pressure': 1020, 'sea_level': 1020, 'grnd_level': 1003, 'humidity': 96, 'temp_kf': 0}, 'weather': [{'id': 804, 'main': 'Clouds', 'description': 'overcast clouds', 'icon': '04d'}], 'clouds': {'all': 95}, 'wind': {'speed': 2.84, 'deg': 193, 'gust': 8.51}, 'visibility': 10000, 'pop': 0, 'sys': {'pod': 'd'}, 'dt_txt': '2023-09-26 06:00:00'}, {'dt': 1695718800, 'main': {'temp': 287.55, 'feels_like': 287.16, 'temp_min': 287.55, 'temp_max': 287.55, 'pressure': 1020, 'sea_level': 1020, 'grnd_level': 1003, 'humidity': 81, 'temp_kf': 0}, 'weather': [{'id': 804, 'main': 'Clouds', 'description': 'overcast clouds', 'icon': '04d'}], 'clouds': {'all': 99}, 'wind': {'speed': 3.86, 'deg': 199, 'gust': 8.94}, 'visibility': 10000, 'pop': 0, 'sys': {'pod': 'd'}, 'dt_txt': '2023-09-26 09:00:00'}, {'dt': 1695729600, 'main': {'temp': 289.86, 'feels_like': 289.26, 'temp_min': 289.86, 'temp_max': 289.86, 'pressure': 1020, 'sea_level': 1020, 'grnd_level': 1003, 'humidity': 64, 'temp_kf': 0}, 'weather': [{'id': 803, 'main': 'Clouds', 'description': 'broken clouds', 'icon': '04d'}], 'clouds': {'all': 61}, 'wind': {'speed': 4.76, 'deg': 198, 'gust': 7.52}, 'visibility': 10000, 'pop': 0, 'sys': {'pod': 'd'}, 'dt_txt': '2023-09-26 12:00:00'}, {'dt': 1695740400, 'main': {'temp': 288.41, 'feels_like': 288.05, 'temp_min': 288.41, 'temp_max': 288.41, 'pressure': 1020, 'sea_level': 1020, 'grnd_level': 1003, 'humidity': 79, 'temp_kf': 0}, 'weather': [{'id': 802, 'main': 'Clouds', 'description': 'scattered clouds', 'icon': '03d'}], 'clouds': {'all': 32}, 'wind': {'speed': 4.02, 'deg': 182, 'gust': 7.84}, 'visibility': 10000, 'pop': 0, 'sys': {'pod': 'd'}, 'dt_txt': '2023-09-26 15:00:00'}, {'dt': 1695751200, 'main': {'temp': 285.28, 'feels_like': 285.11, 'temp_min': 285.28, 'temp_max': 285.28, 'pressure': 1020, 'sea_level': 1020, 'grnd_level': 1003, 'humidity': 98, 'temp_kf': 0}, 'weather': [{'id': 803, 'main': 'Clouds', 'description': 'broken clouds', 'icon': '04n'}], 'clouds': {'all': 66}, 'wind': {'speed': 2.9, 'deg': 173, 'gust': 8.99}, 'visibility': 10000, 'pop': 0, 'sys': {'pod': 'n'}, 'dt_txt': '2023-09-26 18:00:00'}, {'dt': 1695762000, 'main': {'temp': 284.36, 'feels_like': 284.12, 'temp_min': 284.36, 'temp_max': 284.36, 'pressure': 1019, 'sea_level': 1019, 'grnd_level': 1002, 'humidity': 99, 'temp_kf': 0}, 'weather': [{'id': 804, 'main': 'Clouds', 'description': 'overcast clouds', 'icon': '04n'}], 'clouds': {'all': 96}, 'wind': {'speed': 1.69, 'deg': 147, 'gust': 5.1}, 'visibility': 10000, 'pop': 0.05, 'sys': {'pod': 'n'}, 'dt_txt': '2023-09-26 21:00:00'}, {'dt': 1695772800, 'main': {'temp': 286.24, 'feels_like': 286.11, 'temp_min': 286.24, 'temp_max': 286.24, 'pressure': 1018, 'sea_level': 1018, 'grnd_level': 1001, 'humidity': 96, 'temp_kf': 0}, 'weather': [{'id': 500, 'main': 'Rain', 'description': 'light rain', 'icon': '10n'}], 'clouds': {'all': 98}, 'wind': {'speed': 2.16, 'deg': 163, 'gust': 7.44}, 'visibility': 10000, 'pop': 0.31, 'rain': {'3h': 0.12}, 'sys': {'pod': 'n'}, 'dt_txt': '2023-09-27 00:00:00'}, {'dt': 1695783600, 'main': {'temp': 285.7, 'feels_like': 285.47, 'temp_min': 285.7, 'temp_max': 285.7, 'pressure': 1017, 'sea_level': 1017, 'grnd_level': 1000, 'humidity': 94, 'temp_kf': 0}, 'weather': [{'id': 804, 'main': 'Clouds', 'description': 'overcast clouds', 'icon': '04n'}], 'clouds': {'all': 100}, 'wind': {'speed': 1.78, 'deg': 154, 'gust': 6.5}, 'visibility': 10000, 'pop': 0.05, 'sys': {'pod': 'n'}, 'dt_txt': '2023-09-27 03:00:00'}, {'dt': 1695794400, 'main': {'temp': 285.65, 'feels_like': 285.46, 'temp_min': 285.65, 'temp_max': 285.65, 'pressure': 1015, 'sea_level': 1015, 'grnd_level': 999, 'humidity': 96, 'temp_kf': 0}, 'weather': [{'id': 500, 'main': 'Rain', 'description': 'light rain', 'icon': '10d'}], 'clouds': {'all': 100}, 'wind': {'speed': 3.06, 'deg': 164, 'gust': 9.54}, 'visibility': 10000, 'pop': 0.65, 'rain': {'3h': 1.21}, 'sys': {'pod': 'd'}, 'dt_txt': '2023-09-27 06:00:00'}, {'dt': 1695805200, 'main': {'temp': 286.34, 'feels_like': 286.2, 'temp_min': 286.34, 'temp_max': 286.34, 'pressure': 1015, 'sea_level': 1015, 'grnd_level': 998, 'humidity': 95, 'temp_kf': 0}, 'weather': [{'id': 500, 'main': 'Rain', 'description': 'light rain', 'icon': '10d'}], 'clouds': {'all': 99}, 'wind': {'speed': 4.05, 'deg': 184, 'gust': 10.09}, 'visibility': 10000, 'pop': 1, 'rain': {'3h': 1.33}, 'sys': {'pod': 'd'}, 'dt_txt': '2023-09-27 09:00:00'}, {'dt': 1695816000, 'main': {'temp': 288.86, 'feels_like': 288.71, 'temp_min': 288.86, 'temp_max': 288.86, 'pressure': 1015, 'sea_level': 1015, 'grnd_level': 998, 'humidity': 85, 'temp_kf': 0}, 'weather': [{'id': 500, 'main': 'Rain', 'description': 'light rain', 'icon': '10d'}], 'clouds': {'all': 95}, 'wind': {'speed': 4.22, 'deg': 206, 'gust': 8.01}, 'visibility': 10000, 'pop': 1, 'rain': {'3h': 0.23}, 'sys': {'pod': 'd'}, 'dt_txt': '2023-09-27 12:00:00'}, {'dt': 1695826800, 'main': {'temp': 289.6, 'feels_like': 289.29, 'temp_min': 289.6, 'temp_max': 289.6, 'pressure': 1015, 'sea_level': 1015, 'grnd_level': 998, 'humidity': 76, 'temp_kf': 0}, 'weather': [{'id': 802, 'main': 'Clouds', 'description': 'scattered clouds', 'icon': '03d'}], 'clouds': {'all': 30}, 'wind': {'speed': 2.74, 'deg': 191, 'gust': 5.82}, 'visibility': 10000, 'pop': 0, 'sys': {'pod': 'd'}, 'dt_txt': '2023-09-27 15:00:00'}, {'dt': 1695837600, 'main': {'temp': 284.98, 'feels_like': 284.65, 'temp_min': 284.98, 'temp_max': 284.98, 'pressure': 1015, 'sea_level': 1015, 'grnd_level': 998, 'humidity': 93, 'temp_kf': 0}, 'weather': [{'id': 803, 'main': 'Clouds', 'description': 'broken clouds', 'icon': '04n'}], 'clouds': {'all': 52}, 'wind': {'speed': 2.65, 'deg': 169, 'gust': 8.18}, 'visibility': 10000, 'pop': 0, 'sys': {'pod': 'n'}, 'dt_txt': '2023-09-27 18:00:00'}, {'dt': 1695848400, 'main': {'temp': 284.86, 'feels_like': 284.54, 'temp_min': 284.86, 'temp_max': 284.86, 'pressure': 1015, 'sea_level': 1015, 'grnd_level': 998, 'humidity': 94, 'temp_kf': 0}, 'weather': [{'id': 804, 'main': 'Clouds', 'description': 'overcast clouds', 'icon': '04n'}], 'clouds': {'all': 99}, 'wind': {'speed': 2.38, 'deg': 169, 'gust': 7.28}, 'visibility': 10000, 'pop': 0, 'sys': {'pod': 'n'}, 'dt_txt': '2023-09-27 21:00:00'}, {'dt': 1695859200, 'main': {'temp': 284.6, 'feels_like': 284.23, 'temp_min': 284.6, 'temp_max': 284.6, 'pressure': 1014, 'sea_level': 1014, 'grnd_level': 997, 'humidity': 93, 'temp_kf': 0}, 'weather': [{'id': 804, 'main': 'Clouds', 'description': 'overcast clouds', 'icon': '04n'}], 'clouds': {'all': 100}, 'wind': {'speed': 1.72, 'deg': 139, 'gust': 4.26}, 'visibility': 10000, 'pop': 0, 'sys': {'pod': 'n'}, 'dt_txt': '2023-09-28 00:00:00'}, {'dt': 1695870000, 'main': {'temp': 284.55, 'feels_like': 284.07, 'temp_min': 284.55, 'temp_max': 284.55, 'pressure': 1013, 'sea_level': 1013, 'grnd_level': 996, 'humidity': 89, 'temp_kf': 0}, 'weather': [{'id': 500, 'main': 'Rain', 'description': 'light rain', 'icon': '10n'}], 'clouds': {'all': 100}, 'wind': {'speed': 1.38, 'deg': 85, 'gust': 2.15}, 'visibility': 10000, 'pop': 0.33, 'rain': {'3h': 0.1}, 'sys': {'pod': 'n'}, 'dt_txt': '2023-09-28 03:00:00'}, {'dt': 1695880800, 'main': {'temp': 286.18, 'feels_like': 286.05, 'temp_min': 286.18, 'temp_max': 286.18, 'pressure': 1010, 'sea_level': 1010, 'grnd_level': 993, 'humidity': 96, 'temp_kf': 0}, 'weather': [{'id': 500, 'main': 'Rain', 'description': 'light rain', 'icon': '10d'}], 'clouds': {'all': 100}, 'wind': {'speed': 3.51, 'deg': 124, 'gust': 10.62}, 'visibility': 10000, 'pop': 0.51, 'rain': {'3h': 0.32}, 'sys': {'pod': 'd'}, 'dt_txt': '2023-09-28 06:00:00'}, {'dt': 1695891600, 'main': {'temp': 288.24, 'feels_like': 288.1, 'temp_min': 288.24, 'temp_max': 288.24, 'pressure': 1007, 'sea_level': 1007, 'grnd_level': 991, 'humidity': 88, 'temp_kf': 0}, 'weather': [{'id': 500, 'main': 'Rain', 'description': 'light rain', 'icon': '10d'}], 'clouds': {'all': 96}, 'wind': {'speed': 5.27, 'deg': 157, 'gust': 11.96}, 'visibility': 10000, 'pop': 0.66, 'rain': {'3h': 0.37}, 'sys': {'pod': 'd'}, 'dt_txt': '2023-09-28 09:00:00'}, {'dt': 1695902400, 'main': {'temp': 288.41, 'feels_like': 288.26, 'temp_min': 288.41, 'temp_max': 288.41, 'pressure': 1006, 'sea_level': 1006, 'grnd_level': 990, 'humidity': 87, 'temp_kf': 0}, 'weather': [{'id': 500, 'main': 'Rain', 'description': 'light rain', 'icon': '10d'}], 'clouds': {'all': 95}, 'wind': {'speed': 5.87, 'deg': 189, 'gust': 11.71}, 'visibility': 10000, 'pop': 1, 'rain': {'3h': 0.47}, 'sys': {'pod': 'd'}, 'dt_txt': '2023-09-28 12:00:00'}, {'dt': 1695913200, 'main': {'temp': 288.39, 'feels_like': 288.22, 'temp_min': 288.39, 'temp_max': 288.39, 'pressure': 1006, 'sea_level': 1006, 'grnd_level': 990, 'humidity': 86, 'temp_kf': 0}, 'weather': [{'id': 500, 'main': 'Rain', 'description': 'light rain', 'icon': '10d'}], 'clouds': {'all': 84}, 'wind': {'speed': 5.38, 'deg': 198, 'gust': 10.86}, 'visibility': 10000, 'pop': 0.23, 'rain': {'3h': 0.27}, 'sys': {'pod': 'd'}, 'dt_txt': '2023-09-28 15:00:00'}, {'dt': 1695924000, 'main': {'temp': 286.69, 'feels_like': 286.48, 'temp_min': 286.69, 'temp_max': 286.69, 'pressure': 1007, 'sea_level': 1007, 'grnd_level': 990, 'humidity': 91, 'temp_kf': 0}, 'weather': [{'id': 804, 'main': 'Clouds', 'description': 'overcast clouds', 'icon': '04n'}], 'clouds': {'all': 92}, 'wind': {'speed': 5.42, 'deg': 201, 'gust': 12.22}, 'visibility': 10000, 'pop': 0, 'sys': {'pod': 'n'}, 'dt_txt': '2023-09-28 18:00:00'}, {'dt': 1695934800, 'main': {'temp': 286.08, 'feels_like': 285.78, 'temp_min': 286.08, 'temp_max': 286.08, 'pressure': 1007, 'sea_level': 1007, 'grnd_level': 991, 'humidity': 90, 'temp_kf': 0}, 'weather': [{'id': 804, 'main': 'Clouds', 'description': 'overcast clouds', 'icon': '04n'}], 'clouds': {'all': 100}, 'wind': {'speed': 5.43, 'deg': 206, 'gust': 12.39}, 'visibility': 10000, 'pop': 0, 'sys': {'pod': 'n'}, 'dt_txt': '2023-09-28 21:00:00'}, {'dt': 1695945600, 'main': {'temp': 285.57, 'feels_like': 284.96, 'temp_min': 285.57, 'temp_max': 285.57, 'pressure': 1007, 'sea_level': 1007, 'grnd_level': 990, 'humidity': 80, 'temp_kf': 0}, 'weather': [{'id': 804, 'main': 'Clouds', 'description': 'overcast clouds', 'icon': '04n'}], 'clouds': {'all': 100}, 'wind': {'speed': 5.41, 'deg': 207, 'gust': 12.76}, 'visibility': 10000, 'pop': 0, 'sys': {'pod': 'n'}, 'dt_txt': '2023-09-29 00:00:00'}, {'dt': 1695956400, 'main': {'temp': 285.15, 'feels_like': 284.57, 'temp_min': 285.15, 'temp_max': 285.15, 'pressure': 1006, 'sea_level': 1006, 'grnd_level': 990, 'humidity': 83, 'temp_kf': 0}, 'weather': [{'id': 804, 'main': 'Clouds', 'description': 'overcast clouds', 'icon': '04n'}], 'clouds': {'all': 100}, 'wind': {'speed': 5.43, 'deg': 206, 'gust': 11.66}, 'visibility': 10000, 'pop': 0.02, 'sys': {'pod': 'n'}, 'dt_txt': '2023-09-29 03:00:00'}, {'dt': 1695967200, 'main': {'temp': 284.19, 'feels_like': 283.49, 'temp_min': 284.19, 'temp_max': 284.19, 'pressure': 1005, 'sea_level': 1005, 'grnd_level': 988, 'humidity': 82, 'temp_kf': 0}, 'weather': [{'id': 500, 'main': 'Rain', 'description': 'light rain', 'icon': '10d'}], 'clouds': {'all': 100}, 'wind': {'speed': 4.5, 'deg': 200, 'gust': 10.14}, 'visibility': 10000, 'pop': 0.27, 'rain': {'3h': 0.19}, 'sys': {'pod': 'd'}, 'dt_txt': '2023-09-29 06:00:00'}, {'dt': 1695978000, 'main': {'temp': 283.57, 'feels_like': 283.17, 'temp_min': 283.57, 'temp_max': 283.57, 'pressure': 1003, 'sea_level': 1003, 'grnd_level': 987, 'humidity': 96, 'temp_kf': 0}, 'weather': [{'id': 500, 'main': 'Rain', 'description': 'light rain', 'icon': '10d'}], 'clouds': {'all': 96}, 'wind': {'speed': 0.65, 'deg': 73, 'gust': 1.2}, 'visibility': 10000, 'pop': 1, 'rain': {'3h': 2.42}, 'sys': {'pod': 'd'}, 'dt_txt': '2023-09-29 09:00:00'}, {'dt': 1695988800, 'main': {'temp': 283.34, 'feels_like': 282.87, 'temp_min': 283.34, 'temp_max': 283.34, 'pressure': 1002, 'sea_level': 1002, 'grnd_level': 985, 'humidity': 94, 'temp_kf': 0}, 'weather': [{'id': 501, 'main': 'Rain', 'description': 'moderate rain', 'icon': '10d'}], 'clouds': {'all': 98}, 'wind': {'speed': 0.84, 'deg': 9, 'gust': 2.17}, 'visibility': 10000, 'pop': 1, 'rain': {'3h': 3.73}, 'sys': {'pod': 'd'}, 'dt_txt': '2023-09-29 12:00:00'}, {'dt': 1695999600, 'main': {'temp': 286.38, 'feels_like': 285.82, 'temp_min': 286.38, 'temp_max': 286.38, 'pressure': 1005, 'sea_level': 1005, 'grnd_level': 988, 'humidity': 79, 'temp_kf': 0}, 'weather': [{'id': 802, 'main': 'Clouds', 'description': 'scattered clouds', 'icon': '03d'}], 'clouds': {'all': 35}, 'wind': {'speed': 2.95, 'deg': 243, 'gust': 8.48}, 'visibility': 10000, 'pop': 0, 'sys': {'pod': 'd'}, 'dt_txt': '2023-09-29 15:00:00'}, {'dt': 1696010400, 'main': {'temp': 283.28, 'feels_like': 282.46, 'temp_min': 283.28, 'temp_max': 283.28, 'pressure': 1007, 'sea_level': 1007, 'grnd_level': 990, 'humidity': 81, 'temp_kf': 0}, 'weather': [{'id': 801, 'main': 'Clouds', 'description': 'few clouds', 'icon': '02n'}], 'clouds': {'all': 18}, 'wind': {'speed': 3.17, 'deg': 233, 'gust': 9.89}, 'visibility': 10000, 'pop': 0, 'sys': {'pod': 'n'}, 'dt_txt': '2023-09-29 18:00:00'}, {'dt': 1696021200, 'main': {'temp': 282.14, 'feels_like': 280.34, 'temp_min': 282.14, 'temp_max': 282.14, 'pressure': 1009, 'sea_level': 1009, 'grnd_level': 993, 'humidity': 82, 'temp_kf': 0}, 'weather': [{'id': 802, 'main': 'Clouds', 'description': 'scattered clouds', 'icon': '03n'}], 'clouds': {'all': 39}, 'wind': {'speed': 3.18, 'deg': 220, 'gust': 9.84}, 'visibility': 10000, 'pop': 0, 'sys': {'pod': 'n'}, 'dt_txt': '2023-09-29 21:00:00'}, {'dt': 1696032000, 'main': {'temp': 282.27, 'feels_like': 280.09, 'temp_min': 282.27, 'temp_max': 282.27, 'pressure': 1010, 'sea_level': 1010, 'grnd_level': 994, 'humidity': 80, 'temp_kf': 0}, 'weather': [{'id': 801, 'main': 'Clouds', 'description': 'few clouds', 'icon': '02n'}], 'clouds': {'all': 24}, 'wind': {'speed': 3.96, 'deg': 206, 'gust': 10.72}, 'visibility': 10000, 'pop': 0, 'sys': {'pod': 'n'}, 'dt_txt': '2023-09-30 00:00:00'}, {'dt': 1696042800, 'main': {'temp': 282.66, 'feels_like': 280.55, 'temp_min': 282.66, 'temp_max': 282.66, 'pressure': 1010, 'sea_level': 1010, 'grnd_level': 993, 'humidity': 77, 'temp_kf': 0}, 'weather': [{'id': 800, 'main': 'Clear', 'description': 'clear sky', 'icon': '01n'}], 'clouds': {'all': 5}, 'wind': {'speed': 4, 'deg': 203, 'gust': 10.19}, 'visibility': 10000, 'pop': 0, 'sys': {'pod': 'n'}, 'dt_txt': '2023-09-30 03:00:00'}, {'dt': 1696053600, 'main': {'temp': 281.83, 'feels_like': 279.83, 'temp_min': 281.83, 'temp_max': 281.83, 'pressure': 1011, 'sea_level': 1011, 'grnd_level': 994, 'humidity': 77, 'temp_kf': 0}, 'weather': [{'id': 800, 'main': 'Clear', 'description': 'clear sky', 'icon': '01d'}], 'clouds': {'all': 5}, 'wind': {'speed': 3.43, 'deg': 215, 'gust': 10.62}, 'visibility': 10000, 'pop': 0, 'sys': {'pod': 'd'}, 'dt_txt': '2023-09-30 06:00:00'}], 'city': {'id': 3139081, 'name': 'Ski', 'coord': {'lat': 59.7195, 'lon': 10.8358}, 'country': 'NO', 'population': 12513, 'timezone': 7200, 'sunrise': 1695618409, 'sunset': 1695661810}}\""
      ]
     },
     "execution_count": 15,
     "metadata": {},
     "output_type": "execute_result"
    }
   ],
   "source": [
    "# Inspect JSON file\n",
    "forecast.__str__()"
   ]
  },
  {
   "cell_type": "markdown",
   "metadata": {
    "slideshow": {
     "slide_type": "slide"
    }
   },
   "source": [
    "## Raw JSON\n",
    "- A simple, but not very efficient way of storing JSON data is to treat it as a text and save it directly to the database.  \n",
    "- More efficient, with regard to transfer, is to compress the JSON data to a blob first.\n",
    "    - Compression is automatic."
   ]
  },
  {
   "cell_type": "code",
   "execution_count": 16,
   "metadata": {
    "slideshow": {
     "slide_type": "-"
    }
   },
   "outputs": [
    {
     "data": {
      "text/plain": [
       "<cassandra.cluster.ResultSet at 0x1071e2f80>"
      ]
     },
     "execution_count": 16,
     "metadata": {},
     "output_type": "execute_result"
    }
   ],
   "source": [
    "# Create a new table which treats the whole JSON as a blob, using the city id and the first dt as keys\n",
    "session.set_keyspace('my_first_keyspace')\n",
    "session.execute(\"DROP TABLE IF EXISTS my_first_keyspace.forecast_table;\")\n",
    "session.execute(\"CREATE TABLE IF NOT EXISTS forecast_table (city_id int, dt int, forecast blob, PRIMARY KEY(city_id, dt));\")"
   ]
  },
  {
   "cell_type": "markdown",
   "metadata": {
    "slideshow": {
     "slide_type": "slide"
    }
   },
   "source": [
    "### Insert the forecast data into the table as text blob"
   ]
  },
  {
   "cell_type": "code",
   "execution_count": 17,
   "metadata": {
    "slideshow": {
     "slide_type": "-"
    }
   },
   "outputs": [
    {
     "data": {
      "text/plain": [
       "<cassandra.cluster.ResultSet at 0x1071dc7f0>"
      ]
     },
     "execution_count": 17,
     "metadata": {},
     "output_type": "execute_result"
    }
   ],
   "source": [
    "session.execute(\"INSERT INTO forecast_table (city_id, dt, forecast) VALUES (%s, %s, textAsBlob(%s));\", (forecast['city']['id'], forecast['list'][0]['dt'], forecast.__str__()))"
   ]
  },
  {
   "cell_type": "code",
   "execution_count": 18,
   "metadata": {
    "slideshow": {
     "slide_type": "slide"
    }
   },
   "outputs": [
    {
     "name": "stdout",
     "output_type": "stream",
     "text": [
      "Row(city_id=3139081, dt=1695632400, forecast=b\"{'cod': '200', 'message': 0, 'cnt': 40, 'list': [{'dt': 1695632400, 'main': {'temp': 287.55, 'feels_like': 287.47, 'temp_min': 286.61, 'temp_max': 287.55, 'pressure': 1016, 'sea_level': 1016, 'grnd_level': 1000, 'humidity': 93, 'temp_kf': 0.94}, 'weather': [{'id': 500, 'main': 'Rain', 'description': 'light rain', 'icon': '10d'}], 'clouds': {'all': 100}, 'wind': {'speed': 6.51, 'deg': 189, 'gust': 13.92}, 'visibility': 10000, 'pop': 0.72, 'rain': {'3h': 0.83}, 'sys': {'pod': 'd'}, 'dt_txt': '2023-09-25 09:00:00'}, {'dt': 1695643200, 'main': {'temp': 287.63, 'feels_like': 287.46, 'temp_min': 287.63, 'temp_max': 287.78, 'pressure': 1016, 'sea_level': 1016, 'grnd_level': 1000, 'humidity': 89, 'temp_kf': -0.15}, 'weather': [{'id': 500, 'main': 'Rain', 'description': 'light rain', 'icon': '10d'}], 'clouds': {'all': 100}, 'wind': {'speed': 6.88, 'deg': 191, 'gust': 13.62}, 'visibility': 10000, 'pop': 0.59, 'rain': {'3h': 0.11}, 'sys': {'pod': 'd'}, 'dt_txt': '2023-09-25 12:00:00'}, {'dt': 1695654000, 'main': {'temp': 286.86, 'feels_like': 286.71, 'temp_min': 286.51, 'temp_max': 286.86, 'pressure': 1016, 'sea_level': 1016, 'grnd_level': 999, 'humidity': 93, 'temp_kf': 0.35}, 'weather': [{'id': 500, 'main': 'Rain', 'description': 'light rain', 'icon': '10d'}], 'clouds': {'all': 100}, 'wind': {'speed': 6.22, 'deg': 186, 'gust': 13.43}, 'visibility': 10000, 'pop': 0.38, 'rain': {'3h': 0.12}, 'sys': {'pod': 'd'}, 'dt_txt': '2023-09-25 15:00:00'}, {'dt': 1695664800, 'main': {'temp': 287.25, 'feels_like': 287.14, 'temp_min': 287.25, 'temp_max': 287.25, 'pressure': 1017, 'sea_level': 1017, 'grnd_level': 1000, 'humidity': 93, 'temp_kf': 0}, 'weather': [{'id': 500, 'main': 'Rain', 'description': 'light rain', 'icon': '10n'}], 'clouds': {'all': 100}, 'wind': {'speed': 5.39, 'deg': 203, 'gust': 11.28}, 'visibility': 10000, 'pop': 0.72, 'rain': {'3h': 0.54}, 'sys': {'pod': 'n'}, 'dt_txt': '2023-09-25 18:00:00'}, {'dt': 1695675600, 'main': {'temp': 286.36, 'feels_like': 286.22, 'temp_min': 286.36, 'temp_max': 286.36, 'pressure': 1017, 'sea_level': 1017, 'grnd_level': 1001, 'humidity': 95, 'temp_kf': 0}, 'weather': [{'id': 803, 'main': 'Clouds', 'description': 'broken clouds', 'icon': '04n'}], 'clouds': {'all': 83}, 'wind': {'speed': 4.55, 'deg': 197, 'gust': 11.76}, 'visibility': 10000, 'pop': 0.25, 'sys': {'pod': 'n'}, 'dt_txt': '2023-09-25 21:00:00'}, {'dt': 1695686400, 'main': {'temp': 285.15, 'feels_like': 284.86, 'temp_min': 285.15, 'temp_max': 285.15, 'pressure': 1018, 'sea_level': 1018, 'grnd_level': 1002, 'humidity': 94, 'temp_kf': 0}, 'weather': [{'id': 803, 'main': 'Clouds', 'description': 'broken clouds', 'icon': '04n'}], 'clouds': {'all': 75}, 'wind': {'speed': 4.09, 'deg': 200, 'gust': 10.88}, 'visibility': 10000, 'pop': 0.15, 'sys': {'pod': 'n'}, 'dt_txt': '2023-09-26 00:00:00'}, {'dt': 1695697200, 'main': {'temp': 284.02, 'feels_like': 283.62, 'temp_min': 284.02, 'temp_max': 284.02, 'pressure': 1019, 'sea_level': 1019, 'grnd_level': 1002, 'humidity': 94, 'temp_kf': 0}, 'weather': [{'id': 804, 'main': 'Clouds', 'description': 'overcast clouds', 'icon': '04n'}], 'clouds': {'all': 99}, 'wind': {'speed': 3, 'deg': 187, 'gust': 9.52}, 'visibility': 10000, 'pop': 0, 'sys': {'pod': 'n'}, 'dt_txt': '2023-09-26 03:00:00'}, {'dt': 1695708000, 'main': {'temp': 284.02, 'feels_like': 283.67, 'temp_min': 284.02, 'temp_max': 284.02, 'pressure': 1020, 'sea_level': 1020, 'grnd_level': 1003, 'humidity': 96, 'temp_kf': 0}, 'weather': [{'id': 804, 'main': 'Clouds', 'description': 'overcast clouds', 'icon': '04d'}], 'clouds': {'all': 95}, 'wind': {'speed': 2.84, 'deg': 193, 'gust': 8.51}, 'visibility': 10000, 'pop': 0, 'sys': {'pod': 'd'}, 'dt_txt': '2023-09-26 06:00:00'}, {'dt': 1695718800, 'main': {'temp': 287.55, 'feels_like': 287.16, 'temp_min': 287.55, 'temp_max': 287.55, 'pressure': 1020, 'sea_level': 1020, 'grnd_level': 1003, 'humidity': 81, 'temp_kf': 0}, 'weather': [{'id': 804, 'main': 'Clouds', 'description': 'overcast clouds', 'icon': '04d'}], 'clouds': {'all': 99}, 'wind': {'speed': 3.86, 'deg': 199, 'gust': 8.94}, 'visibility': 10000, 'pop': 0, 'sys': {'pod': 'd'}, 'dt_txt': '2023-09-26 09:00:00'}, {'dt': 1695729600, 'main': {'temp': 289.86, 'feels_like': 289.26, 'temp_min': 289.86, 'temp_max': 289.86, 'pressure': 1020, 'sea_level': 1020, 'grnd_level': 1003, 'humidity': 64, 'temp_kf': 0}, 'weather': [{'id': 803, 'main': 'Clouds', 'description': 'broken clouds', 'icon': '04d'}], 'clouds': {'all': 61}, 'wind': {'speed': 4.76, 'deg': 198, 'gust': 7.52}, 'visibility': 10000, 'pop': 0, 'sys': {'pod': 'd'}, 'dt_txt': '2023-09-26 12:00:00'}, {'dt': 1695740400, 'main': {'temp': 288.41, 'feels_like': 288.05, 'temp_min': 288.41, 'temp_max': 288.41, 'pressure': 1020, 'sea_level': 1020, 'grnd_level': 1003, 'humidity': 79, 'temp_kf': 0}, 'weather': [{'id': 802, 'main': 'Clouds', 'description': 'scattered clouds', 'icon': '03d'}], 'clouds': {'all': 32}, 'wind': {'speed': 4.02, 'deg': 182, 'gust': 7.84}, 'visibility': 10000, 'pop': 0, 'sys': {'pod': 'd'}, 'dt_txt': '2023-09-26 15:00:00'}, {'dt': 1695751200, 'main': {'temp': 285.28, 'feels_like': 285.11, 'temp_min': 285.28, 'temp_max': 285.28, 'pressure': 1020, 'sea_level': 1020, 'grnd_level': 1003, 'humidity': 98, 'temp_kf': 0}, 'weather': [{'id': 803, 'main': 'Clouds', 'description': 'broken clouds', 'icon': '04n'}], 'clouds': {'all': 66}, 'wind': {'speed': 2.9, 'deg': 173, 'gust': 8.99}, 'visibility': 10000, 'pop': 0, 'sys': {'pod': 'n'}, 'dt_txt': '2023-09-26 18:00:00'}, {'dt': 1695762000, 'main': {'temp': 284.36, 'feels_like': 284.12, 'temp_min': 284.36, 'temp_max': 284.36, 'pressure': 1019, 'sea_level': 1019, 'grnd_level': 1002, 'humidity': 99, 'temp_kf': 0}, 'weather': [{'id': 804, 'main': 'Clouds', 'description': 'overcast clouds', 'icon': '04n'}], 'clouds': {'all': 96}, 'wind': {'speed': 1.69, 'deg': 147, 'gust': 5.1}, 'visibility': 10000, 'pop': 0.05, 'sys': {'pod': 'n'}, 'dt_txt': '2023-09-26 21:00:00'}, {'dt': 1695772800, 'main': {'temp': 286.24, 'feels_like': 286.11, 'temp_min': 286.24, 'temp_max': 286.24, 'pressure': 1018, 'sea_level': 1018, 'grnd_level': 1001, 'humidity': 96, 'temp_kf': 0}, 'weather': [{'id': 500, 'main': 'Rain', 'description': 'light rain', 'icon': '10n'}], 'clouds': {'all': 98}, 'wind': {'speed': 2.16, 'deg': 163, 'gust': 7.44}, 'visibility': 10000, 'pop': 0.31, 'rain': {'3h': 0.12}, 'sys': {'pod': 'n'}, 'dt_txt': '2023-09-27 00:00:00'}, {'dt': 1695783600, 'main': {'temp': 285.7, 'feels_like': 285.47, 'temp_min': 285.7, 'temp_max': 285.7, 'pressure': 1017, 'sea_level': 1017, 'grnd_level': 1000, 'humidity': 94, 'temp_kf': 0}, 'weather': [{'id': 804, 'main': 'Clouds', 'description': 'overcast clouds', 'icon': '04n'}], 'clouds': {'all': 100}, 'wind': {'speed': 1.78, 'deg': 154, 'gust': 6.5}, 'visibility': 10000, 'pop': 0.05, 'sys': {'pod': 'n'}, 'dt_txt': '2023-09-27 03:00:00'}, {'dt': 1695794400, 'main': {'temp': 285.65, 'feels_like': 285.46, 'temp_min': 285.65, 'temp_max': 285.65, 'pressure': 1015, 'sea_level': 1015, 'grnd_level': 999, 'humidity': 96, 'temp_kf': 0}, 'weather': [{'id': 500, 'main': 'Rain', 'description': 'light rain', 'icon': '10d'}], 'clouds': {'all': 100}, 'wind': {'speed': 3.06, 'deg': 164, 'gust': 9.54}, 'visibility': 10000, 'pop': 0.65, 'rain': {'3h': 1.21}, 'sys': {'pod': 'd'}, 'dt_txt': '2023-09-27 06:00:00'}, {'dt': 1695805200, 'main': {'temp': 286.34, 'feels_like': 286.2, 'temp_min': 286.34, 'temp_max': 286.34, 'pressure': 1015, 'sea_level': 1015, 'grnd_level': 998, 'humidity': 95, 'temp_kf': 0}, 'weather': [{'id': 500, 'main': 'Rain', 'description': 'light rain', 'icon': '10d'}], 'clouds': {'all': 99}, 'wind': {'speed': 4.05, 'deg': 184, 'gust': 10.09}, 'visibility': 10000, 'pop': 1, 'rain': {'3h': 1.33}, 'sys': {'pod': 'd'}, 'dt_txt': '2023-09-27 09:00:00'}, {'dt': 1695816000, 'main': {'temp': 288.86, 'feels_like': 288.71, 'temp_min': 288.86, 'temp_max': 288.86, 'pressure': 1015, 'sea_level': 1015, 'grnd_level': 998, 'humidity': 85, 'temp_kf': 0}, 'weather': [{'id': 500, 'main': 'Rain', 'description': 'light rain', 'icon': '10d'}], 'clouds': {'all': 95}, 'wind': {'speed': 4.22, 'deg': 206, 'gust': 8.01}, 'visibility': 10000, 'pop': 1, 'rain': {'3h': 0.23}, 'sys': {'pod': 'd'}, 'dt_txt': '2023-09-27 12:00:00'}, {'dt': 1695826800, 'main': {'temp': 289.6, 'feels_like': 289.29, 'temp_min': 289.6, 'temp_max': 289.6, 'pressure': 1015, 'sea_level': 1015, 'grnd_level': 998, 'humidity': 76, 'temp_kf': 0}, 'weather': [{'id': 802, 'main': 'Clouds', 'description': 'scattered clouds', 'icon': '03d'}], 'clouds': {'all': 30}, 'wind': {'speed': 2.74, 'deg': 191, 'gust': 5.82}, 'visibility': 10000, 'pop': 0, 'sys': {'pod': 'd'}, 'dt_txt': '2023-09-27 15:00:00'}, {'dt': 1695837600, 'main': {'temp': 284.98, 'feels_like': 284.65, 'temp_min': 284.98, 'temp_max': 284.98, 'pressure': 1015, 'sea_level': 1015, 'grnd_level': 998, 'humidity': 93, 'temp_kf': 0}, 'weather': [{'id': 803, 'main': 'Clouds', 'description': 'broken clouds', 'icon': '04n'}], 'clouds': {'all': 52}, 'wind': {'speed': 2.65, 'deg': 169, 'gust': 8.18}, 'visibility': 10000, 'pop': 0, 'sys': {'pod': 'n'}, 'dt_txt': '2023-09-27 18:00:00'}, {'dt': 1695848400, 'main': {'temp': 284.86, 'feels_like': 284.54, 'temp_min': 284.86, 'temp_max': 284.86, 'pressure': 1015, 'sea_level': 1015, 'grnd_level': 998, 'humidity': 94, 'temp_kf': 0}, 'weather': [{'id': 804, 'main': 'Clouds', 'description': 'overcast clouds', 'icon': '04n'}], 'clouds': {'all': 99}, 'wind': {'speed': 2.38, 'deg': 169, 'gust': 7.28}, 'visibility': 10000, 'pop': 0, 'sys': {'pod': 'n'}, 'dt_txt': '2023-09-27 21:00:00'}, {'dt': 1695859200, 'main': {'temp': 284.6, 'feels_like': 284.23, 'temp_min': 284.6, 'temp_max': 284.6, 'pressure': 1014, 'sea_level': 1014, 'grnd_level': 997, 'humidity': 93, 'temp_kf': 0}, 'weather': [{'id': 804, 'main': 'Clouds', 'description': 'overcast clouds', 'icon': '04n'}], 'clouds': {'all': 100}, 'wind': {'speed': 1.72, 'deg': 139, 'gust': 4.26}, 'visibility': 10000, 'pop': 0, 'sys': {'pod': 'n'}, 'dt_txt': '2023-09-28 00:00:00'}, {'dt': 1695870000, 'main': {'temp': 284.55, 'feels_like': 284.07, 'temp_min': 284.55, 'temp_max': 284.55, 'pressure': 1013, 'sea_level': 1013, 'grnd_level': 996, 'humidity': 89, 'temp_kf': 0}, 'weather': [{'id': 500, 'main': 'Rain', 'description': 'light rain', 'icon': '10n'}], 'clouds': {'all': 100}, 'wind': {'speed': 1.38, 'deg': 85, 'gust': 2.15}, 'visibility': 10000, 'pop': 0.33, 'rain': {'3h': 0.1}, 'sys': {'pod': 'n'}, 'dt_txt': '2023-09-28 03:00:00'}, {'dt': 1695880800, 'main': {'temp': 286.18, 'feels_like': 286.05, 'temp_min': 286.18, 'temp_max': 286.18, 'pressure': 1010, 'sea_level': 1010, 'grnd_level': 993, 'humidity': 96, 'temp_kf': 0}, 'weather': [{'id': 500, 'main': 'Rain', 'description': 'light rain', 'icon': '10d'}], 'clouds': {'all': 100}, 'wind': {'speed': 3.51, 'deg': 124, 'gust': 10.62}, 'visibility': 10000, 'pop': 0.51, 'rain': {'3h': 0.32}, 'sys': {'pod': 'd'}, 'dt_txt': '2023-09-28 06:00:00'}, {'dt': 1695891600, 'main': {'temp': 288.24, 'feels_like': 288.1, 'temp_min': 288.24, 'temp_max': 288.24, 'pressure': 1007, 'sea_level': 1007, 'grnd_level': 991, 'humidity': 88, 'temp_kf': 0}, 'weather': [{'id': 500, 'main': 'Rain', 'description': 'light rain', 'icon': '10d'}], 'clouds': {'all': 96}, 'wind': {'speed': 5.27, 'deg': 157, 'gust': 11.96}, 'visibility': 10000, 'pop': 0.66, 'rain': {'3h': 0.37}, 'sys': {'pod': 'd'}, 'dt_txt': '2023-09-28 09:00:00'}, {'dt': 1695902400, 'main': {'temp': 288.41, 'feels_like': 288.26, 'temp_min': 288.41, 'temp_max': 288.41, 'pressure': 1006, 'sea_level': 1006, 'grnd_level': 990, 'humidity': 87, 'temp_kf': 0}, 'weather': [{'id': 500, 'main': 'Rain', 'description': 'light rain', 'icon': '10d'}], 'clouds': {'all': 95}, 'wind': {'speed': 5.87, 'deg': 189, 'gust': 11.71}, 'visibility': 10000, 'pop': 1, 'rain': {'3h': 0.47}, 'sys': {'pod': 'd'}, 'dt_txt': '2023-09-28 12:00:00'}, {'dt': 1695913200, 'main': {'temp': 288.39, 'feels_like': 288.22, 'temp_min': 288.39, 'temp_max': 288.39, 'pressure': 1006, 'sea_level': 1006, 'grnd_level': 990, 'humidity': 86, 'temp_kf': 0}, 'weather': [{'id': 500, 'main': 'Rain', 'description': 'light rain', 'icon': '10d'}], 'clouds': {'all': 84}, 'wind': {'speed': 5.38, 'deg': 198, 'gust': 10.86}, 'visibility': 10000, 'pop': 0.23, 'rain': {'3h': 0.27}, 'sys': {'pod': 'd'}, 'dt_txt': '2023-09-28 15:00:00'}, {'dt': 1695924000, 'main': {'temp': 286.69, 'feels_like': 286.48, 'temp_min': 286.69, 'temp_max': 286.69, 'pressure': 1007, 'sea_level': 1007, 'grnd_level': 990, 'humidity': 91, 'temp_kf': 0}, 'weather': [{'id': 804, 'main': 'Clouds', 'description': 'overcast clouds', 'icon': '04n'}], 'clouds': {'all': 92}, 'wind': {'speed': 5.42, 'deg': 201, 'gust': 12.22}, 'visibility': 10000, 'pop': 0, 'sys': {'pod': 'n'}, 'dt_txt': '2023-09-28 18:00:00'}, {'dt': 1695934800, 'main': {'temp': 286.08, 'feels_like': 285.78, 'temp_min': 286.08, 'temp_max': 286.08, 'pressure': 1007, 'sea_level': 1007, 'grnd_level': 991, 'humidity': 90, 'temp_kf': 0}, 'weather': [{'id': 804, 'main': 'Clouds', 'description': 'overcast clouds', 'icon': '04n'}], 'clouds': {'all': 100}, 'wind': {'speed': 5.43, 'deg': 206, 'gust': 12.39}, 'visibility': 10000, 'pop': 0, 'sys': {'pod': 'n'}, 'dt_txt': '2023-09-28 21:00:00'}, {'dt': 1695945600, 'main': {'temp': 285.57, 'feels_like': 284.96, 'temp_min': 285.57, 'temp_max': 285.57, 'pressure': 1007, 'sea_level': 1007, 'grnd_level': 990, 'humidity': 80, 'temp_kf': 0}, 'weather': [{'id': 804, 'main': 'Clouds', 'description': 'overcast clouds', 'icon': '04n'}], 'clouds': {'all': 100}, 'wind': {'speed': 5.41, 'deg': 207, 'gust': 12.76}, 'visibility': 10000, 'pop': 0, 'sys': {'pod': 'n'}, 'dt_txt': '2023-09-29 00:00:00'}, {'dt': 1695956400, 'main': {'temp': 285.15, 'feels_like': 284.57, 'temp_min': 285.15, 'temp_max': 285.15, 'pressure': 1006, 'sea_level': 1006, 'grnd_level': 990, 'humidity': 83, 'temp_kf': 0}, 'weather': [{'id': 804, 'main': 'Clouds', 'description': 'overcast clouds', 'icon': '04n'}], 'clouds': {'all': 100}, 'wind': {'speed': 5.43, 'deg': 206, 'gust': 11.66}, 'visibility': 10000, 'pop': 0.02, 'sys': {'pod': 'n'}, 'dt_txt': '2023-09-29 03:00:00'}, {'dt': 1695967200, 'main': {'temp': 284.19, 'feels_like': 283.49, 'temp_min': 284.19, 'temp_max': 284.19, 'pressure': 1005, 'sea_level': 1005, 'grnd_level': 988, 'humidity': 82, 'temp_kf': 0}, 'weather': [{'id': 500, 'main': 'Rain', 'description': 'light rain', 'icon': '10d'}], 'clouds': {'all': 100}, 'wind': {'speed': 4.5, 'deg': 200, 'gust': 10.14}, 'visibility': 10000, 'pop': 0.27, 'rain': {'3h': 0.19}, 'sys': {'pod': 'd'}, 'dt_txt': '2023-09-29 06:00:00'}, {'dt': 1695978000, 'main': {'temp': 283.57, 'feels_like': 283.17, 'temp_min': 283.57, 'temp_max': 283.57, 'pressure': 1003, 'sea_level': 1003, 'grnd_level': 987, 'humidity': 96, 'temp_kf': 0}, 'weather': [{'id': 500, 'main': 'Rain', 'description': 'light rain', 'icon': '10d'}], 'clouds': {'all': 96}, 'wind': {'speed': 0.65, 'deg': 73, 'gust': 1.2}, 'visibility': 10000, 'pop': 1, 'rain': {'3h': 2.42}, 'sys': {'pod': 'd'}, 'dt_txt': '2023-09-29 09:00:00'}, {'dt': 1695988800, 'main': {'temp': 283.34, 'feels_like': 282.87, 'temp_min': 283.34, 'temp_max': 283.34, 'pressure': 1002, 'sea_level': 1002, 'grnd_level': 985, 'humidity': 94, 'temp_kf': 0}, 'weather': [{'id': 501, 'main': 'Rain', 'description': 'moderate rain', 'icon': '10d'}], 'clouds': {'all': 98}, 'wind': {'speed': 0.84, 'deg': 9, 'gust': 2.17}, 'visibility': 10000, 'pop': 1, 'rain': {'3h': 3.73}, 'sys': {'pod': 'd'}, 'dt_txt': '2023-09-29 12:00:00'}, {'dt': 1695999600, 'main': {'temp': 286.38, 'feels_like': 285.82, 'temp_min': 286.38, 'temp_max': 286.38, 'pressure': 1005, 'sea_level': 1005, 'grnd_level': 988, 'humidity': 79, 'temp_kf': 0}, 'weather': [{'id': 802, 'main': 'Clouds', 'description': 'scattered clouds', 'icon': '03d'}], 'clouds': {'all': 35}, 'wind': {'speed': 2.95, 'deg': 243, 'gust': 8.48}, 'visibility': 10000, 'pop': 0, 'sys': {'pod': 'd'}, 'dt_txt': '2023-09-29 15:00:00'}, {'dt': 1696010400, 'main': {'temp': 283.28, 'feels_like': 282.46, 'temp_min': 283.28, 'temp_max': 283.28, 'pressure': 1007, 'sea_level': 1007, 'grnd_level': 990, 'humidity': 81, 'temp_kf': 0}, 'weather': [{'id': 801, 'main': 'Clouds', 'description': 'few clouds', 'icon': '02n'}], 'clouds': {'all': 18}, 'wind': {'speed': 3.17, 'deg': 233, 'gust': 9.89}, 'visibility': 10000, 'pop': 0, 'sys': {'pod': 'n'}, 'dt_txt': '2023-09-29 18:00:00'}, {'dt': 1696021200, 'main': {'temp': 282.14, 'feels_like': 280.34, 'temp_min': 282.14, 'temp_max': 282.14, 'pressure': 1009, 'sea_level': 1009, 'grnd_level': 993, 'humidity': 82, 'temp_kf': 0}, 'weather': [{'id': 802, 'main': 'Clouds', 'description': 'scattered clouds', 'icon': '03n'}], 'clouds': {'all': 39}, 'wind': {'speed': 3.18, 'deg': 220, 'gust': 9.84}, 'visibility': 10000, 'pop': 0, 'sys': {'pod': 'n'}, 'dt_txt': '2023-09-29 21:00:00'}, {'dt': 1696032000, 'main': {'temp': 282.27, 'feels_like': 280.09, 'temp_min': 282.27, 'temp_max': 282.27, 'pressure': 1010, 'sea_level': 1010, 'grnd_level': 994, 'humidity': 80, 'temp_kf': 0}, 'weather': [{'id': 801, 'main': 'Clouds', 'description': 'few clouds', 'icon': '02n'}], 'clouds': {'all': 24}, 'wind': {'speed': 3.96, 'deg': 206, 'gust': 10.72}, 'visibility': 10000, 'pop': 0, 'sys': {'pod': 'n'}, 'dt_txt': '2023-09-30 00:00:00'}, {'dt': 1696042800, 'main': {'temp': 282.66, 'feels_like': 280.55, 'temp_min': 282.66, 'temp_max': 282.66, 'pressure': 1010, 'sea_level': 1010, 'grnd_level': 993, 'humidity': 77, 'temp_kf': 0}, 'weather': [{'id': 800, 'main': 'Clear', 'description': 'clear sky', 'icon': '01n'}], 'clouds': {'all': 5}, 'wind': {'speed': 4, 'deg': 203, 'gust': 10.19}, 'visibility': 10000, 'pop': 0, 'sys': {'pod': 'n'}, 'dt_txt': '2023-09-30 03:00:00'}, {'dt': 1696053600, 'main': {'temp': 281.83, 'feels_like': 279.83, 'temp_min': 281.83, 'temp_max': 281.83, 'pressure': 1011, 'sea_level': 1011, 'grnd_level': 994, 'humidity': 77, 'temp_kf': 0}, 'weather': [{'id': 800, 'main': 'Clear', 'description': 'clear sky', 'icon': '01d'}], 'clouds': {'all': 5}, 'wind': {'speed': 3.43, 'deg': 215, 'gust': 10.62}, 'visibility': 10000, 'pop': 0, 'sys': {'pod': 'd'}, 'dt_txt': '2023-09-30 06:00:00'}], 'city': {'id': 3139081, 'name': 'Ski', 'coord': {'lat': 59.7195, 'lon': 10.8358}, 'country': 'NO', 'population': 12513, 'timezone': 7200, 'sunrise': 1695618409, 'sunset': 1695661810}}\")\n"
     ]
    }
   ],
   "source": [
    "# Query the data\n",
    "forecast_rows = session.execute(\"SELECT * FROM forecast_table;\")\n",
    "print(forecast_rows.one()) # <- only one row"
   ]
  },
  {
   "cell_type": "markdown",
   "metadata": {
    "slideshow": {
     "slide_type": "slide"
    }
   },
   "source": [
    "## Resources\n",
    "- [Cassandra webpage](https://cassandra.apache.org/)\n",
    "- [Cassandra Docker file](https://hub.docker.com/_/cassandra)\n",
    "- [UUID functions](https://docs.datastax.com/en/cql-oss/3.3/cql/cql_reference/timeuuid_functions_r.html)\n",
    "- [YouTube: Cassandra in 100 seconds](https://youtu.be/ziq7FUKpCS8?si=WQUdkHFvaBmT0DBo) (2m:26s)\n",
    "- [YouTube: How to use Apache Cassandra in Python](https://youtu.be/qMauZqJH3ZM?si=yKGZ-5cld2BK396Y) (14m:50s)\n",
    "- [YouTube: Cassandra Database Crash Course](https://youtu.be/KZsVSfQVU4I?si=FBCi8qOfCirfVmZk) (19m:47s)"
   ]
  }
 ],
 "metadata": {
  "celltoolbar": "Slideshow",
  "kernelspec": {
   "display_name": "Python 3 (ipykernel)",
   "language": "python",
   "name": "python3"
  },
  "language_info": {
   "codemirror_mode": {
    "name": "ipython",
    "version": 3
   },
   "file_extension": ".py",
   "mimetype": "text/x-python",
   "name": "python",
   "nbconvert_exporter": "python",
   "pygments_lexer": "ipython3",
   "version": "3.10.6"
  }
 },
 "nbformat": 4,
 "nbformat_minor": 2
}