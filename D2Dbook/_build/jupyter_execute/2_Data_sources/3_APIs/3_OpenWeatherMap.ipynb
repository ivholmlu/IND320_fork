{
 "cells": [
  {
   "cell_type": "markdown",
   "metadata": {
    "slideshow": {
     "slide_type": "slide"
    }
   },
   "source": [
    "# Demonstration of API using OpenWeatherMap.org\n",
    "This demonstration is heavily inspired by [NeuralNine's video](https://www.youtube.com/watch?v=9P5MY_2i7K8).  \n",
    "You need a free account [from here](https://openweathermap.org/api).  \n",
    "The VS Code extension _JSON viewer_ is recommended for viewing downloaded JSON content.  \n",
    "  - Set your maximum API calls to 1000 per day to make sure you are under the limit for billing. \n",
    "  - To run the examples, download your API key, save it in the right folder (see below) in a file called _api\\_key\\_OpenWeather_, containing only the key (no spaces or \"enters\")."
   ]
  },
  {
   "cell_type": "code",
   "execution_count": 1,
   "metadata": {
    "slideshow": {
     "slide_type": "fragment"
    }
   },
   "outputs": [],
   "source": [
    "# Imports\n",
    "import datetime as dt\n",
    "import requests\n",
    "import json"
   ]
  },
  {
   "cell_type": "markdown",
   "metadata": {
    "slideshow": {
     "slide_type": "slide"
    }
   },
   "source": [
    "## Current weather\n",
    "### Common definitions to use for all requests"
   ]
  },
  {
   "cell_type": "code",
   "execution_count": 2,
   "metadata": {
    "slideshow": {
     "slide_type": "-"
    }
   },
   "outputs": [],
   "source": [
    "BASE_URL = \"http://api.openweathermap.org/data/2.5/weather?\"\n",
    "API_KEY = open('../../../No_sync/api_key_OpenWeather','r').read()\n",
    "CITY = \"Ski\"\n",
    "\n",
    "url = BASE_URL + \"q=\" + CITY + \"&appid=\" + API_KEY"
   ]
  },
  {
   "cell_type": "markdown",
   "metadata": {
    "slideshow": {
     "slide_type": "slide"
    }
   },
   "source": [
    "## Request current weather in chosen city"
   ]
  },
  {
   "cell_type": "code",
   "execution_count": 3,
   "metadata": {
    "slideshow": {
     "slide_type": "fragment"
    }
   },
   "outputs": [
    {
     "name": "stdout",
     "output_type": "stream",
     "text": [
      "{'coord': {'lon': 10.8358, 'lat': 59.7195}, 'weather': [{'id': 600, 'main': 'Snow', 'description': 'light snow', 'icon': '13d'}], 'base': 'stations', 'main': {'temp': 272.58, 'feels_like': 267.35, 'temp_min': 270.62, 'temp_max': 273.2, 'pressure': 1001, 'humidity': 96, 'sea_level': 1001, 'grnd_level': 983}, 'visibility': 238, 'wind': {'speed': 5.29, 'deg': 19, 'gust': 12.63}, 'snow': {'1h': 0.49}, 'clouds': {'all': 100}, 'dt': 1698655393, 'sys': {'type': 2, 'id': 2006772, 'country': 'NO', 'sunrise': 1698647477, 'sunset': 1698679753}, 'timezone': 3600, 'id': 3139081, 'name': 'Ski', 'cod': 200}\n"
     ]
    }
   ],
   "source": [
    "response = requests.get(url).json()\n",
    "print(response)"
   ]
  },
  {
   "cell_type": "code",
   "execution_count": 4,
   "metadata": {
    "slideshow": {
     "slide_type": "fragment"
    }
   },
   "outputs": [],
   "source": [
    "# Write JSON to file for viewing\n",
    "with open('downloads/weather.json', 'w') as f:\n",
    "    json.dump(response, f, indent=4)"
   ]
  },
  {
   "cell_type": "markdown",
   "metadata": {
    "slideshow": {
     "slide_type": "slide"
    }
   },
   "source": [
    "## Conversion functions\n",
    "Changing scales can make results more interpretable"
   ]
  },
  {
   "cell_type": "code",
   "execution_count": 5,
   "metadata": {
    "slideshow": {
     "slide_type": "-"
    }
   },
   "outputs": [],
   "source": [
    "# Kelvin to Celsius\n",
    "def kelvin_to_celsius(temp):\n",
    "    return temp - 273.15\n",
    "\n",
    "# Meters per second to knots\n",
    "def mps_to_knots(speed):\n",
    "    return speed * 1.943844"
   ]
  },
  {
   "cell_type": "markdown",
   "metadata": {
    "slideshow": {
     "slide_type": "slide"
    }
   },
   "source": [
    "## Print some weather properties"
   ]
  },
  {
   "cell_type": "code",
   "execution_count": 6,
   "metadata": {
    "slideshow": {
     "slide_type": "-"
    }
   },
   "outputs": [
    {
     "name": "stdout",
     "output_type": "stream",
     "text": [
      "The current temperature in Ski is -0.6°C\n"
     ]
    }
   ],
   "source": [
    "# Current temperature\n",
    "temp_kelvin = response['main']['temp']\n",
    "temp_celsius = kelvin_to_celsius(temp_kelvin)\n",
    "print(f\"The current temperature in {CITY} is {temp_celsius:.1f}°C\")"
   ]
  },
  {
   "cell_type": "code",
   "execution_count": 7,
   "metadata": {
    "slideshow": {
     "slide_type": "slide"
    }
   },
   "outputs": [
    {
     "name": "stdout",
     "output_type": "stream",
     "text": [
      "Sunrise today is at 07:31 and sunset is at 16:29\n"
     ]
    }
   ],
   "source": [
    "# Sunrise and sunset today in local time\n",
    "sunrise = dt.datetime.fromtimestamp(response['sys']['sunrise'])\n",
    "sunset = dt.datetime.fromtimestamp(response['sys']['sunset'])\n",
    "print(f\"Sunrise today is at {sunrise:%H:%M} and sunset is at {sunset:%H:%M}\")"
   ]
  },
  {
   "cell_type": "code",
   "execution_count": 8,
   "metadata": {
    "slideshow": {
     "slide_type": "fragment"
    }
   },
   "outputs": [
    {
     "name": "stdout",
     "output_type": "stream",
     "text": [
      "Wind today is from 19° at 10.3 knots\n"
     ]
    }
   ],
   "source": [
    "# Wind direction and speed\n",
    "wind_knots = mps_to_knots(response['wind']['speed'])\n",
    "print(f\"Wind today is from {response['wind']['deg']}° at {round(wind_knots,1)} knots\")"
   ]
  },
  {
   "cell_type": "markdown",
   "metadata": {
    "slideshow": {
     "slide_type": "slide"
    }
   },
   "source": [
    "## Forecasted weather\n",
    "### Common definitions to use for all requests"
   ]
  },
  {
   "cell_type": "code",
   "execution_count": 9,
   "metadata": {
    "slideshow": {
     "slide_type": "-"
    }
   },
   "outputs": [],
   "source": [
    "BASE_URL = \"http://api.openweathermap.org/data/2.5/forecast?\"\n",
    "CITY = \"Noresund\"\n",
    "\n",
    "urlF = BASE_URL + \"q=\" + CITY + \"&appid=\" + API_KEY"
   ]
  },
  {
   "cell_type": "markdown",
   "metadata": {
    "slideshow": {
     "slide_type": "slide"
    }
   },
   "source": [
    "## Request forecasted weather in chosen city"
   ]
  },
  {
   "cell_type": "code",
   "execution_count": 10,
   "metadata": {
    "slideshow": {
     "slide_type": "-"
    }
   },
   "outputs": [
    {
     "name": "stdout",
     "output_type": "stream",
     "text": [
      "{'cod': '200', 'message': 0, 'cnt': 40, 'list': [{'dt': 1698656400, 'main': {'temp': 270.43, 'feels_like': 267.2, 'temp_min': 270.43, 'temp_max': 272.92, 'pressure': 1003, 'sea_level': 1003, 'grnd_level': 984, 'humidity': 94, 'temp_kf': -2.49}, 'weather': [{'id': 804, 'main': 'Clouds', 'description': 'overcast clouds', 'icon': '04d'}], 'clouds': {'all': 99}, 'wind': {'speed': 2.25, 'deg': 31, 'gust': 5.35}, 'visibility': 10000, 'pop': 0.36, 'sys': {'pod': 'd'}, 'dt_txt': '2023-10-30 09:00:00'}, {'dt': 1698667200, 'main': {'temp': 271.49, 'feels_like': 267.98, 'temp_min': 271.49, 'temp_max': 273.62, 'pressure': 1003, 'sea_level': 1003, 'grnd_level': 984, 'humidity': 79, 'temp_kf': -2.13}, 'weather': [{'id': 600, 'main': 'Snow', 'description': 'light snow', 'icon': '13d'}], 'clouds': {'all': 99}, 'wind': {'speed': 2.67, 'deg': 28, 'gust': 5.24}, 'visibility': 10000, 'pop': 0.36, 'snow': {'3h': 0.14}, 'sys': {'pod': 'd'}, 'dt_txt': '2023-10-30 12:00:00'}, {'dt': 1698678000, 'main': {'temp': 272.12, 'feels_like': 268.96, 'temp_min': 272.12, 'temp_max': 272.97, 'pressure': 1002, 'sea_level': 1002, 'grnd_level': 983, 'humidity': 71, 'temp_kf': -0.85}, 'weather': [{'id': 600, 'main': 'Snow', 'description': 'light snow', 'icon': '13d'}], 'clouds': {'all': 100}, 'wind': {'speed': 2.45, 'deg': 22, 'gust': 6.29}, 'visibility': 10000, 'pop': 0.4, 'snow': {'3h': 0.17}, 'sys': {'pod': 'd'}, 'dt_txt': '2023-10-30 15:00:00'}, {'dt': 1698688800, 'main': {'temp': 272.17, 'feels_like': 268.63, 'temp_min': 272.17, 'temp_max': 272.17, 'pressure': 1003, 'sea_level': 1003, 'grnd_level': 984, 'humidity': 64, 'temp_kf': 0}, 'weather': [{'id': 804, 'main': 'Clouds', 'description': 'overcast clouds', 'icon': '04n'}], 'clouds': {'all': 100}, 'wind': {'speed': 2.83, 'deg': 7, 'gust': 6.53}, 'visibility': 10000, 'pop': 0.34, 'sys': {'pod': 'n'}, 'dt_txt': '2023-10-30 18:00:00'}, {'dt': 1698699600, 'main': {'temp': 271.84, 'feels_like': 268.09, 'temp_min': 271.84, 'temp_max': 271.84, 'pressure': 1004, 'sea_level': 1004, 'grnd_level': 985, 'humidity': 73, 'temp_kf': 0}, 'weather': [{'id': 804, 'main': 'Clouds', 'description': 'overcast clouds', 'icon': '04n'}], 'clouds': {'all': 100}, 'wind': {'speed': 2.98, 'deg': 359, 'gust': 6.88}, 'visibility': 10000, 'pop': 0.1, 'sys': {'pod': 'n'}, 'dt_txt': '2023-10-30 21:00:00'}, {'dt': 1698710400, 'main': {'temp': 271.82, 'feels_like': 268.48, 'temp_min': 271.82, 'temp_max': 271.82, 'pressure': 1005, 'sea_level': 1005, 'grnd_level': 986, 'humidity': 73, 'temp_kf': 0}, 'weather': [{'id': 804, 'main': 'Clouds', 'description': 'overcast clouds', 'icon': '04n'}], 'clouds': {'all': 98}, 'wind': {'speed': 2.57, 'deg': 347, 'gust': 6.06}, 'visibility': 10000, 'pop': 0.05, 'sys': {'pod': 'n'}, 'dt_txt': '2023-10-31 00:00:00'}, {'dt': 1698721200, 'main': {'temp': 271.72, 'feels_like': 268.52, 'temp_min': 271.72, 'temp_max': 271.72, 'pressure': 1005, 'sea_level': 1005, 'grnd_level': 986, 'humidity': 73, 'temp_kf': 0}, 'weather': [{'id': 804, 'main': 'Clouds', 'description': 'overcast clouds', 'icon': '04n'}], 'clouds': {'all': 93}, 'wind': {'speed': 2.42, 'deg': 355, 'gust': 5.64}, 'visibility': 10000, 'pop': 0, 'sys': {'pod': 'n'}, 'dt_txt': '2023-10-31 03:00:00'}, {'dt': 1698732000, 'main': {'temp': 271.77, 'feels_like': 268.58, 'temp_min': 271.77, 'temp_max': 271.77, 'pressure': 1006, 'sea_level': 1006, 'grnd_level': 987, 'humidity': 76, 'temp_kf': 0}, 'weather': [{'id': 804, 'main': 'Clouds', 'description': 'overcast clouds', 'icon': '04n'}], 'clouds': {'all': 96}, 'wind': {'speed': 2.42, 'deg': 1, 'gust': 5.54}, 'visibility': 10000, 'pop': 0, 'sys': {'pod': 'n'}, 'dt_txt': '2023-10-31 06:00:00'}, {'dt': 1698742800, 'main': {'temp': 272.64, 'feels_like': 269.18, 'temp_min': 272.64, 'temp_max': 272.64, 'pressure': 1007, 'sea_level': 1007, 'grnd_level': 988, 'humidity': 79, 'temp_kf': 0}, 'weather': [{'id': 600, 'main': 'Snow', 'description': 'light snow', 'icon': '13d'}], 'clouds': {'all': 100}, 'wind': {'speed': 2.85, 'deg': 5, 'gust': 6.22}, 'visibility': 10000, 'pop': 0.24, 'snow': {'3h': 0.12}, 'sys': {'pod': 'd'}, 'dt_txt': '2023-10-31 09:00:00'}, {'dt': 1698753600, 'main': {'temp': 273.78, 'feels_like': 270.42, 'temp_min': 273.78, 'temp_max': 273.78, 'pressure': 1006, 'sea_level': 1006, 'grnd_level': 987, 'humidity': 65, 'temp_kf': 0}, 'weather': [{'id': 804, 'main': 'Clouds', 'description': 'overcast clouds', 'icon': '04d'}], 'clouds': {'all': 99}, 'wind': {'speed': 2.98, 'deg': 17, 'gust': 5.65}, 'visibility': 10000, 'pop': 0.21, 'sys': {'pod': 'd'}, 'dt_txt': '2023-10-31 12:00:00'}, {'dt': 1698764400, 'main': {'temp': 272.7, 'feels_like': 269.39, 'temp_min': 272.7, 'temp_max': 272.7, 'pressure': 1006, 'sea_level': 1006, 'grnd_level': 988, 'humidity': 70, 'temp_kf': 0}, 'weather': [{'id': 804, 'main': 'Clouds', 'description': 'overcast clouds', 'icon': '04d'}], 'clouds': {'all': 92}, 'wind': {'speed': 2.7, 'deg': 15, 'gust': 6.31}, 'visibility': 10000, 'pop': 0, 'sys': {'pod': 'd'}, 'dt_txt': '2023-10-31 15:00:00'}, {'dt': 1698775200, 'main': {'temp': 271.66, 'feels_like': 268.54, 'temp_min': 271.66, 'temp_max': 271.66, 'pressure': 1008, 'sea_level': 1008, 'grnd_level': 989, 'humidity': 78, 'temp_kf': 0}, 'weather': [{'id': 804, 'main': 'Clouds', 'description': 'overcast clouds', 'icon': '04n'}], 'clouds': {'all': 95}, 'wind': {'speed': 2.34, 'deg': 0, 'gust': 5.48}, 'visibility': 10000, 'pop': 0, 'sys': {'pod': 'n'}, 'dt_txt': '2023-10-31 18:00:00'}, {'dt': 1698786000, 'main': {'temp': 271.02, 'feels_like': 268.07, 'temp_min': 271.02, 'temp_max': 271.02, 'pressure': 1008, 'sea_level': 1008, 'grnd_level': 989, 'humidity': 74, 'temp_kf': 0}, 'weather': [{'id': 804, 'main': 'Clouds', 'description': 'overcast clouds', 'icon': '04n'}], 'clouds': {'all': 93}, 'wind': {'speed': 2.11, 'deg': 353, 'gust': 4.41}, 'visibility': 10000, 'pop': 0, 'sys': {'pod': 'n'}, 'dt_txt': '2023-10-31 21:00:00'}, {'dt': 1698796800, 'main': {'temp': 270.11, 'feels_like': 267.46, 'temp_min': 270.11, 'temp_max': 270.11, 'pressure': 1008, 'sea_level': 1008, 'grnd_level': 989, 'humidity': 72, 'temp_kf': 0}, 'weather': [{'id': 803, 'main': 'Clouds', 'description': 'broken clouds', 'icon': '04n'}], 'clouds': {'all': 72}, 'wind': {'speed': 1.79, 'deg': 340, 'gust': 2.85}, 'visibility': 10000, 'pop': 0, 'sys': {'pod': 'n'}, 'dt_txt': '2023-11-01 00:00:00'}, {'dt': 1698807600, 'main': {'temp': 269.54, 'feels_like': 267.33, 'temp_min': 269.54, 'temp_max': 269.54, 'pressure': 1008, 'sea_level': 1008, 'grnd_level': 989, 'humidity': 72, 'temp_kf': 0}, 'weather': [{'id': 801, 'main': 'Clouds', 'description': 'few clouds', 'icon': '02n'}], 'clouds': {'all': 15}, 'wind': {'speed': 1.47, 'deg': 346, 'gust': 1.76}, 'visibility': 10000, 'pop': 0, 'sys': {'pod': 'n'}, 'dt_txt': '2023-11-01 03:00:00'}, {'dt': 1698818400, 'main': {'temp': 269.1, 'feels_like': 266.79, 'temp_min': 269.1, 'temp_max': 269.1, 'pressure': 1009, 'sea_level': 1009, 'grnd_level': 990, 'humidity': 72, 'temp_kf': 0}, 'weather': [{'id': 801, 'main': 'Clouds', 'description': 'few clouds', 'icon': '02n'}], 'clouds': {'all': 12}, 'wind': {'speed': 1.49, 'deg': 349, 'gust': 1.57}, 'visibility': 10000, 'pop': 0, 'sys': {'pod': 'n'}, 'dt_txt': '2023-11-01 06:00:00'}, {'dt': 1698829200, 'main': {'temp': 271.38, 'feels_like': 271.38, 'temp_min': 271.38, 'temp_max': 271.38, 'pressure': 1009, 'sea_level': 1009, 'grnd_level': 990, 'humidity': 61, 'temp_kf': 0}, 'weather': [{'id': 800, 'main': 'Clear', 'description': 'clear sky', 'icon': '01d'}], 'clouds': {'all': 9}, 'wind': {'speed': 0.55, 'deg': 22, 'gust': 0.96}, 'visibility': 10000, 'pop': 0, 'sys': {'pod': 'd'}, 'dt_txt': '2023-11-01 09:00:00'}, {'dt': 1698840000, 'main': {'temp': 273.22, 'feels_like': 273.22, 'temp_min': 273.22, 'temp_max': 273.22, 'pressure': 1008, 'sea_level': 1008, 'grnd_level': 989, 'humidity': 55, 'temp_kf': 0}, 'weather': [{'id': 800, 'main': 'Clear', 'description': 'clear sky', 'icon': '01d'}], 'clouds': {'all': 9}, 'wind': {'speed': 0.7, 'deg': 55, 'gust': 1.16}, 'visibility': 10000, 'pop': 0, 'sys': {'pod': 'd'}, 'dt_txt': '2023-11-01 12:00:00'}, {'dt': 1698850800, 'main': {'temp': 271.84, 'feels_like': 271.84, 'temp_min': 271.84, 'temp_max': 271.84, 'pressure': 1007, 'sea_level': 1007, 'grnd_level': 988, 'humidity': 65, 'temp_kf': 0}, 'weather': [{'id': 803, 'main': 'Clouds', 'description': 'broken clouds', 'icon': '04d'}], 'clouds': {'all': 64}, 'wind': {'speed': 0.85, 'deg': 116, 'gust': 0.91}, 'visibility': 10000, 'pop': 0, 'sys': {'pod': 'd'}, 'dt_txt': '2023-11-01 15:00:00'}, {'dt': 1698861600, 'main': {'temp': 271.42, 'feels_like': 271.42, 'temp_min': 271.42, 'temp_max': 271.42, 'pressure': 1007, 'sea_level': 1007, 'grnd_level': 988, 'humidity': 70, 'temp_kf': 0}, 'weather': [{'id': 803, 'main': 'Clouds', 'description': 'broken clouds', 'icon': '04n'}], 'clouds': {'all': 82}, 'wind': {'speed': 0.55, 'deg': 79, 'gust': 0.8}, 'visibility': 10000, 'pop': 0, 'sys': {'pod': 'n'}, 'dt_txt': '2023-11-01 18:00:00'}, {'dt': 1698872400, 'main': {'temp': 271.56, 'feels_like': 271.56, 'temp_min': 271.56, 'temp_max': 271.56, 'pressure': 1005, 'sea_level': 1005, 'grnd_level': 987, 'humidity': 73, 'temp_kf': 0}, 'weather': [{'id': 804, 'main': 'Clouds', 'description': 'overcast clouds', 'icon': '04n'}], 'clouds': {'all': 100}, 'wind': {'speed': 0.81, 'deg': 99, 'gust': 1.4}, 'visibility': 10000, 'pop': 0.22, 'sys': {'pod': 'n'}, 'dt_txt': '2023-11-01 21:00:00'}, {'dt': 1698883200, 'main': {'temp': 270.84, 'feels_like': 270.84, 'temp_min': 270.84, 'temp_max': 270.84, 'pressure': 1004, 'sea_level': 1004, 'grnd_level': 985, 'humidity': 93, 'temp_kf': 0}, 'weather': [{'id': 600, 'main': 'Snow', 'description': 'light snow', 'icon': '13n'}], 'clouds': {'all': 100}, 'wind': {'speed': 0.98, 'deg': 58, 'gust': 1.83}, 'visibility': 187, 'pop': 0.92, 'snow': {'3h': 1.31}, 'sys': {'pod': 'n'}, 'dt_txt': '2023-11-02 00:00:00'}, {'dt': 1698894000, 'main': {'temp': 270.97, 'feels_like': 270.97, 'temp_min': 270.97, 'temp_max': 270.97, 'pressure': 1002, 'sea_level': 1002, 'grnd_level': 983, 'humidity': 94, 'temp_kf': 0}, 'weather': [{'id': 600, 'main': 'Snow', 'description': 'light snow', 'icon': '13n'}], 'clouds': {'all': 100}, 'wind': {'speed': 1.17, 'deg': 30, 'gust': 2.4}, 'visibility': 168, 'pop': 0.94, 'snow': {'3h': 0.72}, 'sys': {'pod': 'n'}, 'dt_txt': '2023-11-02 03:00:00'}, {'dt': 1698904800, 'main': {'temp': 271.2, 'feels_like': 269.31, 'temp_min': 271.2, 'temp_max': 271.2, 'pressure': 1001, 'sea_level': 1001, 'grnd_level': 982, 'humidity': 95, 'temp_kf': 0}, 'weather': [{'id': 601, 'main': 'Snow', 'description': 'snow', 'icon': '13n'}], 'clouds': {'all': 100}, 'wind': {'speed': 1.42, 'deg': 21, 'gust': 3.11}, 'visibility': 157, 'pop': 0.94, 'snow': {'3h': 1.86}, 'sys': {'pod': 'n'}, 'dt_txt': '2023-11-02 06:00:00'}, {'dt': 1698915600, 'main': {'temp': 271.74, 'feels_like': 269.49, 'temp_min': 271.74, 'temp_max': 271.74, 'pressure': 1001, 'sea_level': 1001, 'grnd_level': 982, 'humidity': 94, 'temp_kf': 0}, 'weather': [{'id': 601, 'main': 'Snow', 'description': 'snow', 'icon': '13d'}], 'clouds': {'all': 100}, 'wind': {'speed': 1.69, 'deg': 25, 'gust': 3.56}, 'visibility': 175, 'pop': 0.96, 'snow': {'3h': 2.47}, 'sys': {'pod': 'd'}, 'dt_txt': '2023-11-02 09:00:00'}, {'dt': 1698926400, 'main': {'temp': 272.25, 'feels_like': 272.25, 'temp_min': 272.25, 'temp_max': 272.25, 'pressure': 1001, 'sea_level': 1001, 'grnd_level': 982, 'humidity': 91, 'temp_kf': 0}, 'weather': [{'id': 601, 'main': 'Snow', 'description': 'snow', 'icon': '13d'}], 'clouds': {'all': 100}, 'wind': {'speed': 1.25, 'deg': 41, 'gust': 2.61}, 'visibility': 484, 'pop': 1, 'snow': {'3h': 1.73}, 'sys': {'pod': 'd'}, 'dt_txt': '2023-11-02 12:00:00'}, {'dt': 1698937200, 'main': {'temp': 271.87, 'feels_like': 271.87, 'temp_min': 271.87, 'temp_max': 271.87, 'pressure': 1000, 'sea_level': 1000, 'grnd_level': 982, 'humidity': 96, 'temp_kf': 0}, 'weather': [{'id': 600, 'main': 'Snow', 'description': 'light snow', 'icon': '13d'}], 'clouds': {'all': 100}, 'wind': {'speed': 1.25, 'deg': 36, 'gust': 2.59}, 'visibility': 228, 'pop': 0.56, 'snow': {'3h': 0.42}, 'sys': {'pod': 'd'}, 'dt_txt': '2023-11-02 15:00:00'}, {'dt': 1698948000, 'main': {'temp': 271.72, 'feels_like': 270.01, 'temp_min': 271.72, 'temp_max': 271.72, 'pressure': 1000, 'sea_level': 1000, 'grnd_level': 981, 'humidity': 95, 'temp_kf': 0}, 'weather': [{'id': 600, 'main': 'Snow', 'description': 'light snow', 'icon': '13n'}], 'clouds': {'all': 100}, 'wind': {'speed': 1.36, 'deg': 24, 'gust': 3.01}, 'visibility': 449, 'pop': 0.78, 'snow': {'3h': 0.52}, 'sys': {'pod': 'n'}, 'dt_txt': '2023-11-02 18:00:00'}, {'dt': 1698958800, 'main': {'temp': 271.78, 'feels_like': 269.19, 'temp_min': 271.78, 'temp_max': 271.78, 'pressure': 999, 'sea_level': 999, 'grnd_level': 981, 'humidity': 96, 'temp_kf': 0}, 'weather': [{'id': 601, 'main': 'Snow', 'description': 'snow', 'icon': '13n'}], 'clouds': {'all': 100}, 'wind': {'speed': 1.93, 'deg': 17, 'gust': 4.6}, 'visibility': 121, 'pop': 1, 'snow': {'3h': 1.59}, 'sys': {'pod': 'n'}, 'dt_txt': '2023-11-02 21:00:00'}, {'dt': 1698969600, 'main': {'temp': 271.94, 'feels_like': 268.21, 'temp_min': 271.94, 'temp_max': 271.94, 'pressure': 998, 'sea_level': 998, 'grnd_level': 980, 'humidity': 96, 'temp_kf': 0}, 'weather': [{'id': 601, 'main': 'Snow', 'description': 'snow', 'icon': '13n'}], 'clouds': {'all': 100}, 'wind': {'speed': 2.98, 'deg': 6, 'gust': 6.31}, 'visibility': 123, 'pop': 1, 'snow': {'3h': 4.77}, 'sys': {'pod': 'n'}, 'dt_txt': '2023-11-03 00:00:00'}, {'dt': 1698980400, 'main': {'temp': 272.2, 'feels_like': 268.14, 'temp_min': 272.2, 'temp_max': 272.2, 'pressure': 997, 'sea_level': 997, 'grnd_level': 978, 'humidity': 97, 'temp_kf': 0}, 'weather': [{'id': 601, 'main': 'Snow', 'description': 'snow', 'icon': '13n'}], 'clouds': {'all': 100}, 'wind': {'speed': 3.42, 'deg': 6, 'gust': 7.41}, 'visibility': 137, 'pop': 1, 'snow': {'3h': 5.58}, 'sys': {'pod': 'n'}, 'dt_txt': '2023-11-03 03:00:00'}, {'dt': 1698991200, 'main': {'temp': 272.56, 'feels_like': 268.53, 'temp_min': 272.56, 'temp_max': 272.56, 'pressure': 995, 'sea_level': 995, 'grnd_level': 976, 'humidity': 97, 'temp_kf': 0}, 'weather': [{'id': 601, 'main': 'Snow', 'description': 'snow', 'icon': '13n'}], 'clouds': {'all': 100}, 'wind': {'speed': 3.48, 'deg': 5, 'gust': 7.66}, 'visibility': 130, 'pop': 1, 'snow': {'3h': 8.39}, 'sys': {'pod': 'n'}, 'dt_txt': '2023-11-03 06:00:00'}, {'dt': 1699002000, 'main': {'temp': 273.46, 'feels_like': 269.7, 'temp_min': 273.46, 'temp_max': 273.46, 'pressure': 994, 'sea_level': 994, 'grnd_level': 975, 'humidity': 98, 'temp_kf': 0}, 'weather': [{'id': 601, 'main': 'Snow', 'description': 'snow', 'icon': '13d'}], 'clouds': {'all': 100}, 'wind': {'speed': 3.39, 'deg': 1, 'gust': 7.67}, 'visibility': 131, 'pop': 1, 'snow': {'3h': 9.21}, 'sys': {'pod': 'd'}, 'dt_txt': '2023-11-03 09:00:00'}, {'dt': 1699012800, 'main': {'temp': 274.45, 'feels_like': 271.11, 'temp_min': 274.45, 'temp_max': 274.45, 'pressure': 993, 'sea_level': 993, 'grnd_level': 975, 'humidity': 98, 'temp_kf': 0}, 'weather': [{'id': 601, 'main': 'Snow', 'description': 'snow', 'icon': '13d'}], 'clouds': {'all': 100}, 'wind': {'speed': 3.12, 'deg': 0, 'gust': 6.79}, 'visibility': 132, 'pop': 1, 'snow': {'3h': 8.21}, 'sys': {'pod': 'd'}, 'dt_txt': '2023-11-03 12:00:00'}, {'dt': 1699023600, 'main': {'temp': 274.78, 'feels_like': 271.75, 'temp_min': 274.78, 'temp_max': 274.78, 'pressure': 992, 'sea_level': 992, 'grnd_level': 974, 'humidity': 98, 'temp_kf': 0}, 'weather': [{'id': 601, 'main': 'Snow', 'description': 'snow', 'icon': '13d'}], 'clouds': {'all': 100}, 'wind': {'speed': 2.83, 'deg': 4, 'gust': 6.21}, 'visibility': 158, 'pop': 1, 'snow': {'3h': 3.23}, 'sys': {'pod': 'd'}, 'dt_txt': '2023-11-03 15:00:00'}, {'dt': 1699034400, 'main': {'temp': 274.79, 'feels_like': 271.6, 'temp_min': 274.79, 'temp_max': 274.79, 'pressure': 991, 'sea_level': 991, 'grnd_level': 973, 'humidity': 99, 'temp_kf': 0}, 'weather': [{'id': 601, 'main': 'Snow', 'description': 'snow', 'icon': '13n'}], 'clouds': {'all': 100}, 'wind': {'speed': 3.02, 'deg': 360, 'gust': 6.8}, 'visibility': 112, 'pop': 1, 'snow': {'3h': 3.76}, 'sys': {'pod': 'n'}, 'dt_txt': '2023-11-03 18:00:00'}, {'dt': 1699045200, 'main': {'temp': 274.91, 'feels_like': 271.66, 'temp_min': 274.91, 'temp_max': 274.91, 'pressure': 989, 'sea_level': 989, 'grnd_level': 971, 'humidity': 98, 'temp_kf': 0}, 'weather': [{'id': 601, 'main': 'Snow', 'description': 'snow', 'icon': '13n'}], 'clouds': {'all': 100}, 'wind': {'speed': 3.13, 'deg': 1, 'gust': 7.25}, 'visibility': 137, 'pop': 1, 'snow': {'3h': 2.99}, 'sys': {'pod': 'n'}, 'dt_txt': '2023-11-03 21:00:00'}, {'dt': 1699056000, 'main': {'temp': 274.88, 'feels_like': 271.54, 'temp_min': 274.88, 'temp_max': 274.88, 'pressure': 986, 'sea_level': 986, 'grnd_level': 968, 'humidity': 98, 'temp_kf': 0}, 'weather': [{'id': 601, 'main': 'Snow', 'description': 'snow', 'icon': '13n'}], 'clouds': {'all': 100}, 'wind': {'speed': 3.23, 'deg': 357, 'gust': 7.78}, 'visibility': 130, 'pop': 1, 'snow': {'3h': 4.24}, 'sys': {'pod': 'n'}, 'dt_txt': '2023-11-04 00:00:00'}, {'dt': 1699066800, 'main': {'temp': 274.88, 'feels_like': 271.53, 'temp_min': 274.88, 'temp_max': 274.88, 'pressure': 982, 'sea_level': 982, 'grnd_level': 964, 'humidity': 99, 'temp_kf': 0}, 'weather': [{'id': 601, 'main': 'Snow', 'description': 'snow', 'icon': '13n'}], 'clouds': {'all': 100}, 'wind': {'speed': 3.25, 'deg': 348, 'gust': 7.66}, 'visibility': 128, 'pop': 1, 'snow': {'3h': 5.41}, 'sys': {'pod': 'n'}, 'dt_txt': '2023-11-04 03:00:00'}, {'dt': 1699077600, 'main': {'temp': 274.89, 'feels_like': 271.65, 'temp_min': 274.89, 'temp_max': 274.89, 'pressure': 979, 'sea_level': 979, 'grnd_level': 960, 'humidity': 98, 'temp_kf': 0}, 'weather': [{'id': 601, 'main': 'Snow', 'description': 'snow', 'icon': '13n'}], 'clouds': {'all': 100}, 'wind': {'speed': 3.11, 'deg': 333, 'gust': 7.42}, 'visibility': 136, 'pop': 1, 'snow': {'3h': 5.73}, 'sys': {'pod': 'n'}, 'dt_txt': '2023-11-04 06:00:00'}], 'city': {'id': 3144113, 'name': 'Noresund', 'coord': {'lat': 60.1803, 'lon': 9.6231}, 'country': 'NO', 'population': 1000, 'timezone': 3600, 'sunrise': 1698647879, 'sunset': 1698679933}}"
     ]
    },
    {
     "name": "stdout",
     "output_type": "stream",
     "text": [
      "\n"
     ]
    }
   ],
   "source": [
    "responseF = requests.get(urlF).json()\n",
    "print(responseF)"
   ]
  },
  {
   "cell_type": "code",
   "execution_count": 11,
   "metadata": {
    "slideshow": {
     "slide_type": "slide"
    }
   },
   "outputs": [],
   "source": [
    "# Write JSON to file for viewing\n",
    "with open('downloads/forecast.json', 'w') as f:\n",
    "    json.dump(responseF, f, indent=4)"
   ]
  },
  {
   "cell_type": "markdown",
   "metadata": {
    "slideshow": {
     "slide_type": "slide"
    }
   },
   "source": [
    "### When and what?\n",
    "Check contents and time stamps"
   ]
  },
  {
   "cell_type": "code",
   "execution_count": 12,
   "metadata": {
    "slideshow": {
     "slide_type": "-"
    }
   },
   "outputs": [
    {
     "data": {
      "text/plain": [
       "dict_keys(['cod', 'message', 'cnt', 'list', 'city'])"
      ]
     },
     "execution_count": 12,
     "metadata": {},
     "output_type": "execute_result"
    }
   ],
   "source": [
    "# Content of responseF\n",
    "responseF.keys()"
   ]
  },
  {
   "cell_type": "code",
   "execution_count": 13,
   "metadata": {
    "slideshow": {
     "slide_type": "fragment"
    }
   },
   "outputs": [
    {
     "name": "stdout",
     "output_type": "stream",
     "text": [
      "40\n"
     ]
    }
   ],
   "source": [
    "# Number of forecasts\n",
    "print(len(responseF[\"list\"]))"
   ]
  },
  {
   "cell_type": "code",
   "execution_count": 14,
   "metadata": {
    "scrolled": true,
    "slideshow": {
     "slide_type": "slide"
    }
   },
   "outputs": [
    {
     "name": "stdout",
     "output_type": "stream",
     "text": [
      "2023-10-30 09:00:00\n",
      "2023-10-30 12:00:00\n",
      "2023-10-30 15:00:00\n",
      "2023-10-30 18:00:00\n",
      "2023-10-30 21:00:00\n",
      "2023-10-31 00:00:00\n",
      "2023-10-31 03:00:00\n",
      "2023-10-31 06:00:00\n",
      "2023-10-31 09:00:00\n",
      "2023-10-31 12:00:00\n",
      "2023-10-31 15:00:00\n",
      "2023-10-31 18:00:00\n",
      "2023-10-31 21:00:00\n",
      "2023-11-01 00:00:00\n",
      "2023-11-01 03:00:00\n",
      "2023-11-01 06:00:00\n",
      "2023-11-01 09:00:00\n",
      "2023-11-01 12:00:00\n",
      "2023-11-01 15:00:00\n",
      "2023-11-01 18:00:00\n",
      "2023-11-01 21:00:00\n",
      "2023-11-02 00:00:00\n",
      "2023-11-02 03:00:00\n",
      "2023-11-02 06:00:00\n",
      "2023-11-02 09:00:00\n",
      "2023-11-02 12:00:00\n",
      "2023-11-02 15:00:00\n",
      "2023-11-02 18:00:00\n",
      "2023-11-02 21:00:00\n",
      "2023-11-03 00:00:00\n",
      "2023-11-03 03:00:00\n",
      "2023-11-03 06:00:00\n",
      "2023-11-03 09:00:00\n",
      "2023-11-03 12:00:00\n",
      "2023-11-03 15:00:00\n",
      "2023-11-03 18:00:00\n",
      "2023-11-03 21:00:00\n",
      "2023-11-04 00:00:00\n",
      "2023-11-04 03:00:00\n",
      "2023-11-04 06:00:00\n"
     ]
    }
   ],
   "source": [
    "# Print forecast times\n",
    "for forecast in responseF[\"list\"]:\n",
    "    print(forecast[\"dt_txt\"])"
   ]
  },
  {
   "cell_type": "markdown",
   "metadata": {
    "slideshow": {
     "slide_type": "slide"
    }
   },
   "source": [
    "## Make plots of omnipresent measurements and events\n",
    "We will later look at missing data, data only sporadically appearing and so on."
   ]
  },
  {
   "cell_type": "code",
   "execution_count": 15,
   "metadata": {
    "slideshow": {
     "slide_type": "-"
    }
   },
   "outputs": [],
   "source": [
    "# Air pressure per period\n",
    "pressures = []\n",
    "timestamps = []\n",
    "for forecast in responseF[\"list\"]:\n",
    "    pressures.append(forecast[\"main\"][\"pressure\"])\n",
    "    timestamps.append(dt.datetime.fromtimestamp(forecast[\"dt\"]))"
   ]
  },
  {
   "cell_type": "code",
   "execution_count": 16,
   "metadata": {
    "slideshow": {
     "slide_type": "slide"
    }
   },
   "outputs": [
    {
     "data": {
      "image/png": "[encoded data removed]",
      "text/plain": [
       "<Figure size 640x480 with 1 Axes>"
      ]
     },
     "metadata": {},
     "output_type": "display_data"
    }
   ],
   "source": [
    "import matplotlib.pyplot as plt\n",
    "plt.bar(timestamps, pressures)\n",
    "plt.xticks(rotation=45)\n",
    "plt.ylim(950, 1050)\n",
    "plt.grid()\n",
    "plt.ylabel(\"Air pressure (hPa)\")\n",
    "plt.title(f\"Forecasted air pressure in {CITY}\")\n",
    "plt.show()"
   ]
  },
  {
   "cell_type": "markdown",
   "metadata": {
    "slideshow": {
     "slide_type": "slide"
    }
   },
   "source": [
    "## Exercise\n",
    "- Make a new forecast request for your own hometown. Call your response something else than responseF.\n",
    "- If available, plot the humidity like we did with air pressure."
   ]
  },
  {
   "cell_type": "markdown",
   "metadata": {
    "slideshow": {
     "slide_type": "slide"
    }
   },
   "source": [
    "### Precipitation\n",
    "- ... comes in two main flavours: rain and snow.\n",
    "- We need to check which is present and set to zero if it is abscent."
   ]
  },
  {
   "cell_type": "code",
   "execution_count": 17,
   "metadata": {
    "slideshow": {
     "slide_type": "-"
    }
   },
   "outputs": [],
   "source": [
    "rain = []\n",
    "snow = []\n",
    "for forecast in responseF[\"list\"]:\n",
    "    try: # Check if rain is present in forecast\n",
    "        rain.append(forecast[\"rain\"][\"3h\"])\n",
    "    except KeyError:\n",
    "        rain.append(0)\n",
    "    try: # Check if snow is present in forecast\n",
    "        snow.append(forecast[\"snow\"][\"3h\"])\n",
    "    except KeyError:\n",
    "        snow.append(0)"
   ]
  },
  {
   "cell_type": "code",
   "execution_count": 18,
   "metadata": {
    "slideshow": {
     "slide_type": "slide"
    }
   },
   "outputs": [
    {
     "data": {
      "image/png": "[encoded data removed]",
      "text/plain": [
       "<Figure size 640x480 with 1 Axes>"
      ]
     },
     "metadata": {},
     "output_type": "display_data"
    }
   ],
   "source": [
    "# Stacked bar chart with rain and snow\n",
    "plt.bar(timestamps, rain, label=\"Rain\")\n",
    "plt.bar(timestamps, snow, label=\"Snow\")\n",
    "plt.xticks(rotation=45)\n",
    "plt.grid()\n",
    "plt.ylabel(\"Precipitation (mm)\")\n",
    "plt.title(f\"Forecasted precipitation in {CITY}\")\n",
    "plt.legend()\n",
    "plt.show()\n"
   ]
  },
  {
   "cell_type": "markdown",
   "metadata": {
    "slideshow": {
     "slide_type": "slide"
    }
   },
   "source": [
    "## Resources\n",
    "- [YouTube: NeuralNine's video (15m:32s)](https://www.youtube.com/watch?v=9P5MY_2i7K8)"
   ]
  }
 ],
 "metadata": {
  "celltoolbar": "Slideshow",
  "kernelspec": {
   "display_name": "Python 3 (ipykernel)",
   "language": "python",
   "name": "python3"
  },
  "language_info": {
   "codemirror_mode": {
    "name": "ipython",
    "version": 3
   },
   "file_extension": ".py",
   "mimetype": "text/x-python",
   "name": "python",
   "nbconvert_exporter": "python",
   "pygments_lexer": "ipython3",
   "version": "3.11.6"
  }
 },
 "nbformat": 4,
 "nbformat_minor": 2
}