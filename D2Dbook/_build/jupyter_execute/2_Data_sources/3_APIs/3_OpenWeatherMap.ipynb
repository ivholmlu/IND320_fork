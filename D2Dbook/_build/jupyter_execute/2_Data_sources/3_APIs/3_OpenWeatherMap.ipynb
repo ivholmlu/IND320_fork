{
 "cells": [
  {
   "cell_type": "markdown",
   "metadata": {
    "slideshow": {
     "slide_type": "slide"
    }
   },
   "source": [
    "# Demonstration of API using OpenWeatherMap.org\n",
    "This demonstration is heavily inspired by [NeuralNine's video](https://www.youtube.com/watch?v=9P5MY_2i7K8).  \n",
    "You need a free account [from here](https://openweathermap.org/api).  \n",
    "The VS Code extension _JSON viewer_ is recommended for viewing downloaded JSON content.  \n",
    "  - Set your maximum API calls to 1000 per day to make sure you are under the limit for billing. \n",
    "  - To run the examples, download your API key, save it in the right folder (see below) in a file called _api\\_key\\_OpenWeather_, containing only the key (no spaces or \"enters\")."
   ]
  },
  {
   "cell_type": "code",
   "execution_count": 1,
   "metadata": {
    "slideshow": {
     "slide_type": "fragment"
    }
   },
   "outputs": [],
   "source": [
    "# Imports\n",
    "import datetime as dt\n",
    "import requests\n",
    "import json"
   ]
  },
  {
   "cell_type": "markdown",
   "metadata": {
    "slideshow": {
     "slide_type": "slide"
    }
   },
   "source": [
    "## Current weather\n",
    "### Common definitions to use for all requests"
   ]
  },
  {
   "cell_type": "code",
   "execution_count": 2,
   "metadata": {
    "slideshow": {
     "slide_type": "-"
    }
   },
   "outputs": [],
   "source": [
    "BASE_URL = \"http://api.openweathermap.org/data/2.5/weather?\"\n",
    "API_KEY = open('../../../No_sync/api_key_OpenWeather','r').read()\n",
    "CITY = \"Ski\"\n",
    "\n",
    "url = BASE_URL + \"q=\" + CITY + \"&appid=\" + API_KEY"
   ]
  },
  {
   "cell_type": "markdown",
   "metadata": {
    "slideshow": {
     "slide_type": "slide"
    }
   },
   "source": [
    "## Request current weather in chosen city"
   ]
  },
  {
   "cell_type": "code",
   "execution_count": 3,
   "metadata": {
    "slideshow": {
     "slide_type": "fragment"
    }
   },
   "outputs": [
    {
     "name": "stdout",
     "output_type": "stream",
     "text": [
      "{'coord': {'lon': 10.8358, 'lat': 59.7195}, 'weather': [{'id': 804, 'main': 'Clouds', 'description': 'overcast clouds', 'icon': '04n'}], 'base': 'stations', 'main': {'temp': 280.94, 'feels_like': 280.94, 'temp_min': 279.7, 'temp_max': 283.53, 'pressure': 1005, 'humidity': 89, 'sea_level': 1005, 'grnd_level': 988}, 'visibility': 10000, 'wind': {'speed': 0.91, 'deg': 185, 'gust': 1.12}, 'clouds': {'all': 100}, 'dt': 1696448612, 'sys': {'type': 2, 'id': 2006772, 'country': 'NO', 'sunrise': 1696397266, 'sunset': 1696437784}, 'timezone': 7200, 'id': 3139081, 'name': 'Ski', 'cod': 200}\n"
     ]
    }
   ],
   "source": [
    "response = requests.get(url).json()\n",
    "print(response)"
   ]
  },
  {
   "cell_type": "code",
   "execution_count": 4,
   "metadata": {
    "slideshow": {
     "slide_type": "fragment"
    }
   },
   "outputs": [],
   "source": [
    "# Write JSON to file for viewing\n",
    "with open('downloads/weather.json', 'w') as f:\n",
    "    json.dump(response, f, indent=4)"
   ]
  },
  {
   "cell_type": "markdown",
   "metadata": {
    "slideshow": {
     "slide_type": "slide"
    }
   },
   "source": [
    "## Conversion functions\n",
    "Changing scales can make results more interpretable"
   ]
  },
  {
   "cell_type": "code",
   "execution_count": 5,
   "metadata": {
    "slideshow": {
     "slide_type": "-"
    }
   },
   "outputs": [],
   "source": [
    "# Kelvin to Celsius\n",
    "def kelvin_to_celsius(temp):\n",
    "    return temp - 273.15\n",
    "\n",
    "# Meters per second to knots\n",
    "def mps_to_knots(speed):\n",
    "    return speed * 1.943844"
   ]
  },
  {
   "cell_type": "markdown",
   "metadata": {
    "slideshow": {
     "slide_type": "slide"
    }
   },
   "source": [
    "## Print some weather properties"
   ]
  },
  {
   "cell_type": "code",
   "execution_count": 6,
   "metadata": {
    "slideshow": {
     "slide_type": "-"
    }
   },
   "outputs": [
    {
     "name": "stdout",
     "output_type": "stream",
     "text": [
      "The current temperature in Ski is 7.8°C\n"
     ]
    }
   ],
   "source": [
    "# Current temperature\n",
    "temp_kelvin = response['main']['temp']\n",
    "temp_celsius = kelvin_to_celsius(temp_kelvin)\n",
    "print(f\"The current temperature in {CITY} is {temp_celsius:.1f}°C\")"
   ]
  },
  {
   "cell_type": "code",
   "execution_count": 7,
   "metadata": {
    "slideshow": {
     "slide_type": "slide"
    }
   },
   "outputs": [
    {
     "name": "stdout",
     "output_type": "stream",
     "text": [
      "Sunrise today is at 07:27 and sunset is at 18:43\n"
     ]
    }
   ],
   "source": [
    "# Sunrise and sunset today in local time\n",
    "sunrise = dt.datetime.fromtimestamp(response['sys']['sunrise'])\n",
    "sunset = dt.datetime.fromtimestamp(response['sys']['sunset'])\n",
    "print(f\"Sunrise today is at {sunrise:%H:%M} and sunset is at {sunset:%H:%M}\")"
   ]
  },
  {
   "cell_type": "code",
   "execution_count": 8,
   "metadata": {
    "slideshow": {
     "slide_type": "fragment"
    }
   },
   "outputs": [
    {
     "name": "stdout",
     "output_type": "stream",
     "text": [
      "Wind today is from 185° at 1.8 knots\n"
     ]
    }
   ],
   "source": [
    "# Wind direction and speed\n",
    "wind_knots = mps_to_knots(response['wind']['speed'])\n",
    "print(f\"Wind today is from {response['wind']['deg']}° at {round(wind_knots,1)} knots\")"
   ]
  },
  {
   "cell_type": "markdown",
   "metadata": {
    "slideshow": {
     "slide_type": "slide"
    }
   },
   "source": [
    "## Forecasted weather\n",
    "### Common definitions to use for all requests"
   ]
  },
  {
   "cell_type": "code",
   "execution_count": 9,
   "metadata": {
    "slideshow": {
     "slide_type": "-"
    }
   },
   "outputs": [],
   "source": [
    "BASE_URL = \"http://api.openweathermap.org/data/2.5/forecast?\"\n",
    "CITY = \"Noresund\"\n",
    "\n",
    "urlF = BASE_URL + \"q=\" + CITY + \"&appid=\" + API_KEY"
   ]
  },
  {
   "cell_type": "markdown",
   "metadata": {
    "slideshow": {
     "slide_type": "slide"
    }
   },
   "source": [
    "## Request forecasted weather in chosen city"
   ]
  },
  {
   "cell_type": "code",
   "execution_count": 10,
   "metadata": {
    "slideshow": {
     "slide_type": "-"
    }
   },
   "outputs": [
    {
     "name": "stdout",
     "output_type": "stream",
     "text": [
      "{'cod': '200', 'message': 0, 'cnt': 40, 'list': [{'dt': 1696453200, 'main': {'temp': 282.65, 'feels_like': 281.89, 'temp_min': 281.65, 'temp_max': 282.65, 'pressure': 1006, 'sea_level': 1006, 'grnd_level': 988, 'humidity': 73, 'temp_kf': 1}, 'weather': [{'id': 804, 'main': 'Clouds', 'description': 'overcast clouds', 'icon': '04n'}], 'clouds': {'all': 100}, 'wind': {'speed': 1.85, 'deg': 288, 'gust': 2.17}, 'visibility': 10000, 'pop': 0.09, 'sys': {'pod': 'n'}, 'dt_txt': '2023-10-04 21:00:00'}, {'dt': 1696464000, 'main': {'temp': 282.13, 'feels_like': 281.44, 'temp_min': 281.1, 'temp_max': 282.13, 'pressure': 1006, 'sea_level': 1006, 'grnd_level': 987, 'humidity': 76, 'temp_kf': 1.03}, 'weather': [{'id': 804, 'main': 'Clouds', 'description': 'overcast clouds', 'icon': '04n'}], 'clouds': {'all': 100}, 'wind': {'speed': 1.69, 'deg': 304, 'gust': 2.45}, 'visibility': 10000, 'pop': 0.05, 'sys': {'pod': 'n'}, 'dt_txt': '2023-10-05 00:00:00'}, {'dt': 1696474800, 'main': {'temp': 280.39, 'feels_like': 279.06, 'temp_min': 279.26, 'temp_max': 280.39, 'pressure': 1007, 'sea_level': 1007, 'grnd_level': 989, 'humidity': 81, 'temp_kf': 1.13}, 'weather': [{'id': 804, 'main': 'Clouds', 'description': 'overcast clouds', 'icon': '04n'}], 'clouds': {'all': 96}, 'wind': {'speed': 2.07, 'deg': 312, 'gust': 3.29}, 'visibility': 10000, 'pop': 0, 'sys': {'pod': 'n'}, 'dt_txt': '2023-10-05 03:00:00'}, {'dt': 1696485600, 'main': {'temp': 278.14, 'feels_like': 276.7, 'temp_min': 278.14, 'temp_max': 278.14, 'pressure': 1010, 'sea_level': 1010, 'grnd_level': 991, 'humidity': 85, 'temp_kf': 0}, 'weather': [{'id': 803, 'main': 'Clouds', 'description': 'broken clouds', 'icon': '04d'}], 'clouds': {'all': 65}, 'wind': {'speed': 1.82, 'deg': 321, 'gust': 2.42}, 'visibility': 10000, 'pop': 0, 'sys': {'pod': 'd'}, 'dt_txt': '2023-10-05 06:00:00'}, {'dt': 1696496400, 'main': {'temp': 283.72, 'feels_like': 282.43, 'temp_min': 283.72, 'temp_max': 283.72, 'pressure': 1012, 'sea_level': 1012, 'grnd_level': 994, 'humidity': 61, 'temp_kf': 0}, 'weather': [{'id': 801, 'main': 'Clouds', 'description': 'few clouds', 'icon': '02d'}], 'clouds': {'all': 14}, 'wind': {'speed': 0.06, 'deg': 64, 'gust': 0.81}, 'visibility': 10000, 'pop': 0, 'sys': {'pod': 'd'}, 'dt_txt': '2023-10-05 09:00:00'}, {'dt': 1696507200, 'main': {'temp': 286.36, 'feels_like': 285.07, 'temp_min': 286.36, 'temp_max': 286.36, 'pressure': 1012, 'sea_level': 1012, 'grnd_level': 994, 'humidity': 51, 'temp_kf': 0}, 'weather': [{'id': 801, 'main': 'Clouds', 'description': 'few clouds', 'icon': '02d'}], 'clouds': {'all': 14}, 'wind': {'speed': 1.16, 'deg': 192, 'gust': 2.29}, 'visibility': 10000, 'pop': 0, 'sys': {'pod': 'd'}, 'dt_txt': '2023-10-05 12:00:00'}, {'dt': 1696518000, 'main': {'temp': 286.04, 'feels_like': 284.82, 'temp_min': 286.04, 'temp_max': 286.04, 'pressure': 1012, 'sea_level': 1012, 'grnd_level': 994, 'humidity': 55, 'temp_kf': 0}, 'weather': [{'id': 803, 'main': 'Clouds', 'description': 'broken clouds', 'icon': '04d'}], 'clouds': {'all': 52}, 'wind': {'speed': 1.44, 'deg': 182, 'gust': 2.82}, 'visibility': 10000, 'pop': 0, 'sys': {'pod': 'd'}, 'dt_txt': '2023-10-05 15:00:00'}, {'dt': 1696528800, 'main': {'temp': 280.41, 'feels_like': 279.64, 'temp_min': 280.41, 'temp_max': 280.41, 'pressure': 1014, 'sea_level': 1014, 'grnd_level': 996, 'humidity': 75, 'temp_kf': 0}, 'weather': [{'id': 802, 'main': 'Clouds', 'description': 'scattered clouds', 'icon': '03n'}], 'clouds': {'all': 41}, 'wind': {'speed': 1.53, 'deg': 280, 'gust': 1.42}, 'visibility': 10000, 'pop': 0, 'sys': {'pod': 'n'}, 'dt_txt': '2023-10-05 18:00:00'}, {'dt': 1696539600, 'main': {'temp': 279.7, 'feels_like': 278.95, 'temp_min': 279.7, 'temp_max': 279.7, 'pressure': 1014, 'sea_level': 1014, 'grnd_level': 996, 'humidity': 76, 'temp_kf': 0}, 'weather': [{'id': 804, 'main': 'Clouds', 'description': 'overcast clouds', 'icon': '04n'}], 'clouds': {'all': 97}, 'wind': {'speed': 1.43, 'deg': 288, 'gust': 1.25}, 'visibility': 10000, 'pop': 0, 'sys': {'pod': 'n'}, 'dt_txt': '2023-10-05 21:00:00'}, {'dt': 1696550400, 'main': {'temp': 279.97, 'feels_like': 279.97, 'temp_min': 279.97, 'temp_max': 279.97, 'pressure': 1013, 'sea_level': 1013, 'grnd_level': 995, 'humidity': 75, 'temp_kf': 0}, 'weather': [{'id': 804, 'main': 'Clouds', 'description': 'overcast clouds', 'icon': '04n'}], 'clouds': {'all': 99}, 'wind': {'speed': 0.57, 'deg': 269, 'gust': 0.55}, 'visibility': 10000, 'pop': 0, 'sys': {'pod': 'n'}, 'dt_txt': '2023-10-06 00:00:00'}, {'dt': 1696561200, 'main': {'temp': 280.14, 'feels_like': 280.14, 'temp_min': 280.14, 'temp_max': 280.14, 'pressure': 1011, 'sea_level': 1011, 'grnd_level': 992, 'humidity': 77, 'temp_kf': 0}, 'weather': [{'id': 804, 'main': 'Clouds', 'description': 'overcast clouds', 'icon': '04n'}], 'clouds': {'all': 100}, 'wind': {'speed': 0.9, 'deg': 202, 'gust': 0.86}, 'visibility': 10000, 'pop': 0.12, 'sys': {'pod': 'n'}, 'dt_txt': '2023-10-06 03:00:00'}, {'dt': 1696572000, 'main': {'temp': 279.38, 'feels_like': 279.38, 'temp_min': 279.38, 'temp_max': 279.38, 'pressure': 1007, 'sea_level': 1007, 'grnd_level': 989, 'humidity': 95, 'temp_kf': 0}, 'weather': [{'id': 500, 'main': 'Rain', 'description': 'light rain', 'icon': '10d'}], 'clouds': {'all': 100}, 'wind': {'speed': 0.05, 'deg': 89, 'gust': 0.88}, 'visibility': 10000, 'pop': 1, 'rain': {'3h': 1.39}, 'sys': {'pod': 'd'}, 'dt_txt': '2023-10-06 06:00:00'}, {'dt': 1696582800, 'main': {'temp': 279.66, 'feels_like': 279.66, 'temp_min': 279.66, 'temp_max': 279.66, 'pressure': 1003, 'sea_level': 1003, 'grnd_level': 985, 'humidity': 95, 'temp_kf': 0}, 'weather': [{'id': 500, 'main': 'Rain', 'description': 'light rain', 'icon': '10d'}], 'clouds': {'all': 100}, 'wind': {'speed': 0.7, 'deg': 269, 'gust': 1.22}, 'visibility': 10000, 'pop': 0.47, 'rain': {'3h': 0.23}, 'sys': {'pod': 'd'}, 'dt_txt': '2023-10-06 09:00:00'}, {'dt': 1696593600, 'main': {'temp': 281.7, 'feels_like': 281.05, 'temp_min': 281.7, 'temp_max': 281.7, 'pressure': 999, 'sea_level': 999, 'grnd_level': 981, 'humidity': 90, 'temp_kf': 0}, 'weather': [{'id': 804, 'main': 'Clouds', 'description': 'overcast clouds', 'icon': '04d'}], 'clouds': {'all': 100}, 'wind': {'speed': 1.59, 'deg': 193, 'gust': 5}, 'visibility': 10000, 'pop': 0.09, 'sys': {'pod': 'd'}, 'dt_txt': '2023-10-06 12:00:00'}, {'dt': 1696604400, 'main': {'temp': 285.45, 'feels_like': 284.75, 'temp_min': 285.45, 'temp_max': 285.45, 'pressure': 996, 'sea_level': 996, 'grnd_level': 978, 'humidity': 77, 'temp_kf': 0}, 'weather': [{'id': 804, 'main': 'Clouds', 'description': 'overcast clouds', 'icon': '04d'}], 'clouds': {'all': 100}, 'wind': {'speed': 2.61, 'deg': 246, 'gust': 9.3}, 'visibility': 10000, 'pop': 0, 'sys': {'pod': 'd'}, 'dt_txt': '2023-10-06 15:00:00'}, {'dt': 1696615200, 'main': {'temp': 281.98, 'feels_like': 281.98, 'temp_min': 281.98, 'temp_max': 281.98, 'pressure': 996, 'sea_level': 996, 'grnd_level': 978, 'humidity': 86, 'temp_kf': 0}, 'weather': [{'id': 804, 'main': 'Clouds', 'description': 'overcast clouds', 'icon': '04n'}], 'clouds': {'all': 94}, 'wind': {'speed': 1.24, 'deg': 296, 'gust': 1.9}, 'visibility': 10000, 'pop': 0, 'sys': {'pod': 'n'}, 'dt_txt': '2023-10-06 18:00:00'}, {'dt': 1696626000, 'main': {'temp': 282.2, 'feels_like': 282.2, 'temp_min': 282.2, 'temp_max': 282.2, 'pressure': 997, 'sea_level': 997, 'grnd_level': 979, 'humidity': 89, 'temp_kf': 0}, 'weather': [{'id': 804, 'main': 'Clouds', 'description': 'overcast clouds', 'icon': '04n'}], 'clouds': {'all': 100}, 'wind': {'speed': 0.41, 'deg': 47, 'gust': 0.98}, 'visibility': 10000, 'pop': 0.07, 'sys': {'pod': 'n'}, 'dt_txt': '2023-10-06 21:00:00'}, {'dt': 1696636800, 'main': {'temp': 279.54, 'feels_like': 277.56, 'temp_min': 279.54, 'temp_max': 279.54, 'pressure': 1001, 'sea_level': 1001, 'grnd_level': 982, 'humidity': 96, 'temp_kf': 0}, 'weather': [{'id': 500, 'main': 'Rain', 'description': 'light rain', 'icon': '10n'}], 'clouds': {'all': 100}, 'wind': {'speed': 2.67, 'deg': 47, 'gust': 6.51}, 'visibility': 6894, 'pop': 0.56, 'rain': {'3h': 1.4}, 'sys': {'pod': 'n'}, 'dt_txt': '2023-10-07 00:00:00'}, {'dt': 1696647600, 'main': {'temp': 278.47, 'feels_like': 276.77, 'temp_min': 278.47, 'temp_max': 278.47, 'pressure': 1004, 'sea_level': 1004, 'grnd_level': 986, 'humidity': 96, 'temp_kf': 0}, 'weather': [{'id': 500, 'main': 'Rain', 'description': 'light rain', 'icon': '10n'}], 'clouds': {'all': 100}, 'wind': {'speed': 2.12, 'deg': 9, 'gust': 5.59}, 'visibility': 2178, 'pop': 0.95, 'rain': {'3h': 0.92}, 'sys': {'pod': 'n'}, 'dt_txt': '2023-10-07 03:00:00'}, {'dt': 1696658400, 'main': {'temp': 277.96, 'feels_like': 276.88, 'temp_min': 277.96, 'temp_max': 277.96, 'pressure': 1007, 'sea_level': 1007, 'grnd_level': 989, 'humidity': 92, 'temp_kf': 0}, 'weather': [{'id': 500, 'main': 'Rain', 'description': 'light rain', 'icon': '10d'}], 'clouds': {'all': 100}, 'wind': {'speed': 1.5, 'deg': 316, 'gust': 2.65}, 'visibility': 10000, 'pop': 0.89, 'rain': {'3h': 0.1}, 'sys': {'pod': 'd'}, 'dt_txt': '2023-10-07 06:00:00'}, {'dt': 1696669200, 'main': {'temp': 280.58, 'feels_like': 280.01, 'temp_min': 280.58, 'temp_max': 280.58, 'pressure': 1010, 'sea_level': 1010, 'grnd_level': 991, 'humidity': 65, 'temp_kf': 0}, 'weather': [{'id': 804, 'main': 'Clouds', 'description': 'overcast clouds', 'icon': '04d'}], 'clouds': {'all': 100}, 'wind': {'speed': 1.38, 'deg': 22, 'gust': 3.66}, 'visibility': 10000, 'pop': 0, 'sys': {'pod': 'd'}, 'dt_txt': '2023-10-07 09:00:00'}, {'dt': 1696680000, 'main': {'temp': 282.15, 'feels_like': 281.09, 'temp_min': 282.15, 'temp_max': 282.15, 'pressure': 1011, 'sea_level': 1011, 'grnd_level': 993, 'humidity': 48, 'temp_kf': 0}, 'weather': [{'id': 803, 'main': 'Clouds', 'description': 'broken clouds', 'icon': '04d'}], 'clouds': {'all': 81}, 'wind': {'speed': 2.11, 'deg': 22, 'gust': 3.78}, 'visibility': 10000, 'pop': 0, 'sys': {'pod': 'd'}, 'dt_txt': '2023-10-07 12:00:00'}, {'dt': 1696690800, 'main': {'temp': 280.86, 'feels_like': 280.06, 'temp_min': 280.86, 'temp_max': 280.86, 'pressure': 1014, 'sea_level': 1014, 'grnd_level': 995, 'humidity': 59, 'temp_kf': 0}, 'weather': [{'id': 804, 'main': 'Clouds', 'description': 'overcast clouds', 'icon': '04d'}], 'clouds': {'all': 100}, 'wind': {'speed': 1.61, 'deg': 26, 'gust': 2.6}, 'visibility': 10000, 'pop': 0, 'sys': {'pod': 'd'}, 'dt_txt': '2023-10-07 15:00:00'}, {'dt': 1696701600, 'main': {'temp': 276.68, 'feels_like': 275.11, 'temp_min': 276.68, 'temp_max': 276.68, 'pressure': 1018, 'sea_level': 1018, 'grnd_level': 999, 'humidity': 81, 'temp_kf': 0}, 'weather': [{'id': 803, 'main': 'Clouds', 'description': 'broken clouds', 'icon': '04n'}], 'clouds': {'all': 65}, 'wind': {'speed': 1.74, 'deg': 298, 'gust': 1.8}, 'visibility': 10000, 'pop': 0, 'sys': {'pod': 'n'}, 'dt_txt': '2023-10-07 18:00:00'}, {'dt': 1696712400, 'main': {'temp': 275.16, 'feels_like': 272.89, 'temp_min': 275.16, 'temp_max': 275.16, 'pressure': 1021, 'sea_level': 1021, 'grnd_level': 1002, 'humidity': 83, 'temp_kf': 0}, 'weather': [{'id': 800, 'main': 'Clear', 'description': 'clear sky', 'icon': '01n'}], 'clouds': {'all': 5}, 'wind': {'speed': 2.13, 'deg': 295, 'gust': 2.06}, 'visibility': 10000, 'pop': 0, 'sys': {'pod': 'n'}, 'dt_txt': '2023-10-07 21:00:00'}, {'dt': 1696723200, 'main': {'temp': 274.3, 'feels_like': 271.79, 'temp_min': 274.3, 'temp_max': 274.3, 'pressure': 1023, 'sea_level': 1023, 'grnd_level': 1004, 'humidity': 78, 'temp_kf': 0}, 'weather': [{'id': 800, 'main': 'Clear', 'description': 'clear sky', 'icon': '01n'}], 'clouds': {'all': 4}, 'wind': {'speed': 2.21, 'deg': 293, 'gust': 2.29}, 'visibility': 10000, 'pop': 0, 'sys': {'pod': 'n'}, 'dt_txt': '2023-10-08 00:00:00'}, {'dt': 1696734000, 'main': {'temp': 273.93, 'feels_like': 271.27, 'temp_min': 273.93, 'temp_max': 273.93, 'pressure': 1024, 'sea_level': 1024, 'grnd_level': 1005, 'humidity': 73, 'temp_kf': 0}, 'weather': [{'id': 800, 'main': 'Clear', 'description': 'clear sky', 'icon': '01n'}], 'clouds': {'all': 1}, 'wind': {'speed': 2.29, 'deg': 298, 'gust': 2.65}, 'visibility': 10000, 'pop': 0, 'sys': {'pod': 'n'}, 'dt_txt': '2023-10-08 03:00:00'}, {'dt': 1696744800, 'main': {'temp': 274.12, 'feels_like': 271.65, 'temp_min': 274.12, 'temp_max': 274.12, 'pressure': 1026, 'sea_level': 1026, 'grnd_level': 1007, 'humidity': 68, 'temp_kf': 0}, 'weather': [{'id': 800, 'main': 'Clear', 'description': 'clear sky', 'icon': '01d'}], 'clouds': {'all': 1}, 'wind': {'speed': 2.15, 'deg': 295, 'gust': 2.49}, 'visibility': 10000, 'pop': 0, 'sys': {'pod': 'd'}, 'dt_txt': '2023-10-08 06:00:00'}, {'dt': 1696755600, 'main': {'temp': 280.63, 'feels_like': 280.63, 'temp_min': 280.63, 'temp_max': 280.63, 'pressure': 1026, 'sea_level': 1026, 'grnd_level': 1008, 'humidity': 41, 'temp_kf': 0}, 'weather': [{'id': 800, 'main': 'Clear', 'description': 'clear sky', 'icon': '01d'}], 'clouds': {'all': 0}, 'wind': {'speed': 1.17, 'deg': 287, 'gust': 2.19}, 'visibility': 10000, 'pop': 0, 'sys': {'pod': 'd'}, 'dt_txt': '2023-10-08 09:00:00'}, {'dt': 1696766400, 'main': {'temp': 283.82, 'feels_like': 281.73, 'temp_min': 283.82, 'temp_max': 283.82, 'pressure': 1026, 'sea_level': 1026, 'grnd_level': 1007, 'humidity': 30, 'temp_kf': 0}, 'weather': [{'id': 800, 'main': 'Clear', 'description': 'clear sky', 'icon': '01d'}], 'clouds': {'all': 0}, 'wind': {'speed': 0.78, 'deg': 264, 'gust': 2.26}, 'visibility': 10000, 'pop': 0, 'sys': {'pod': 'd'}, 'dt_txt': '2023-10-08 12:00:00'}, {'dt': 1696777200, 'main': {'temp': 282.39, 'feels_like': 282.39, 'temp_min': 282.39, 'temp_max': 282.39, 'pressure': 1025, 'sea_level': 1025, 'grnd_level': 1006, 'humidity': 43, 'temp_kf': 0}, 'weather': [{'id': 801, 'main': 'Clouds', 'description': 'few clouds', 'icon': '02d'}], 'clouds': {'all': 12}, 'wind': {'speed': 0.77, 'deg': 171, 'gust': 1.33}, 'visibility': 10000, 'pop': 0, 'sys': {'pod': 'd'}, 'dt_txt': '2023-10-08 15:00:00'}, {'dt': 1696788000, 'main': {'temp': 277.43, 'feels_like': 277.43, 'temp_min': 277.43, 'temp_max': 277.43, 'pressure': 1025, 'sea_level': 1025, 'grnd_level': 1006, 'humidity': 58, 'temp_kf': 0}, 'weather': [{'id': 803, 'main': 'Clouds', 'description': 'broken clouds', 'icon': '04n'}], 'clouds': {'all': 56}, 'wind': {'speed': 1.32, 'deg': 321, 'gust': 1.35}, 'visibility': 10000, 'pop': 0, 'sys': {'pod': 'n'}, 'dt_txt': '2023-10-08 18:00:00'}, {'dt': 1696798800, 'main': {'temp': 276.26, 'feels_like': 274.86, 'temp_min': 276.26, 'temp_max': 276.26, 'pressure': 1024, 'sea_level': 1024, 'grnd_level': 1006, 'humidity': 65, 'temp_kf': 0}, 'weather': [{'id': 804, 'main': 'Clouds', 'description': 'overcast clouds', 'icon': '04n'}], 'clouds': {'all': 100}, 'wind': {'speed': 1.56, 'deg': 330, 'gust': 1.68}, 'visibility': 10000, 'pop': 0, 'sys': {'pod': 'n'}, 'dt_txt': '2023-10-08 21:00:00'}, {'dt': 1696809600, 'main': {'temp': 274.42, 'feels_like': 272.22, 'temp_min': 274.42, 'temp_max': 274.42, 'pressure': 1024, 'sea_level': 1024, 'grnd_level': 1005, 'humidity': 74, 'temp_kf': 0}, 'weather': [{'id': 803, 'main': 'Clouds', 'description': 'broken clouds', 'icon': '04n'}], 'clouds': {'all': 51}, 'wind': {'speed': 1.96, 'deg': 330, 'gust': 2.02}, 'visibility': 10000, 'pop': 0, 'sys': {'pod': 'n'}, 'dt_txt': '2023-10-09 00:00:00'}, {'dt': 1696820400, 'main': {'temp': 274.51, 'feels_like': 272.96, 'temp_min': 274.51, 'temp_max': 274.51, 'pressure': 1021, 'sea_level': 1021, 'grnd_level': 1002, 'humidity': 73, 'temp_kf': 0}, 'weather': [{'id': 803, 'main': 'Clouds', 'description': 'broken clouds', 'icon': '04n'}], 'clouds': {'all': 67}, 'wind': {'speed': 1.49, 'deg': 333, 'gust': 1.56}, 'visibility': 10000, 'pop': 0, 'sys': {'pod': 'n'}, 'dt_txt': '2023-10-09 03:00:00'}, {'dt': 1696831200, 'main': {'temp': 274.39, 'feels_like': 274.39, 'temp_min': 274.39, 'temp_max': 274.39, 'pressure': 1019, 'sea_level': 1019, 'grnd_level': 1000, 'humidity': 72, 'temp_kf': 0}, 'weather': [{'id': 803, 'main': 'Clouds', 'description': 'broken clouds', 'icon': '04d'}], 'clouds': {'all': 81}, 'wind': {'speed': 0.99, 'deg': 340, 'gust': 0.97}, 'visibility': 10000, 'pop': 0, 'sys': {'pod': 'd'}, 'dt_txt': '2023-10-09 06:00:00'}, {'dt': 1696842000, 'main': {'temp': 277.92, 'feels_like': 277.92, 'temp_min': 277.92, 'temp_max': 277.92, 'pressure': 1017, 'sea_level': 1017, 'grnd_level': 998, 'humidity': 56, 'temp_kf': 0}, 'weather': [{'id': 804, 'main': 'Clouds', 'description': 'overcast clouds', 'icon': '04d'}], 'clouds': {'all': 98}, 'wind': {'speed': 0.66, 'deg': 56, 'gust': 0.89}, 'visibility': 10000, 'pop': 0, 'sys': {'pod': 'd'}, 'dt_txt': '2023-10-09 09:00:00'}, {'dt': 1696852800, 'main': {'temp': 280.75, 'feels_like': 280.75, 'temp_min': 280.75, 'temp_max': 280.75, 'pressure': 1014, 'sea_level': 1014, 'grnd_level': 996, 'humidity': 46, 'temp_kf': 0}, 'weather': [{'id': 804, 'main': 'Clouds', 'description': 'overcast clouds', 'icon': '04d'}], 'clouds': {'all': 99}, 'wind': {'speed': 0.45, 'deg': 58, 'gust': 1.62}, 'visibility': 10000, 'pop': 0, 'sys': {'pod': 'd'}, 'dt_txt': '2023-10-09 12:00:00'}, {'dt': 1696863600, 'main': {'temp': 279.93, 'feels_like': 279.93, 'temp_min': 279.93, 'temp_max': 279.93, 'pressure': 1012, 'sea_level': 1012, 'grnd_level': 994, 'humidity': 55, 'temp_kf': 0}, 'weather': [{'id': 804, 'main': 'Clouds', 'description': 'overcast clouds', 'icon': '04d'}], 'clouds': {'all': 100}, 'wind': {'speed': 0.91, 'deg': 96, 'gust': 1.02}, 'visibility': 10000, 'pop': 0, 'sys': {'pod': 'd'}, 'dt_txt': '2023-10-09 15:00:00'}, {'dt': 1696874400, 'main': {'temp': 275.56, 'feels_like': 274.19, 'temp_min': 275.56, 'temp_max': 275.56, 'pressure': 1013, 'sea_level': 1013, 'grnd_level': 995, 'humidity': 70, 'temp_kf': 0}, 'weather': [{'id': 804, 'main': 'Clouds', 'description': 'overcast clouds', 'icon': '04n'}], 'clouds': {'all': 97}, 'wind': {'speed': 1.47, 'deg': 344, 'gust': 1.32}, 'visibility': 10000, 'pop': 0, 'sys': {'pod': 'n'}, 'dt_txt': '2023-10-09 18:00:00'}], 'city': {'id': 3144113, 'name': 'Noresund', 'coord': {'lat': 60.1803, 'lon': 9.6231}, 'country': 'NO', 'population': 1000, 'timezone': 7200, 'sunrise': 1696397584, 'sunset': 1696438047}}\n"
     ]
    }
   ],
   "source": [
    "responseF = requests.get(urlF).json()\n",
    "print(responseF)"
   ]
  },
  {
   "cell_type": "code",
   "execution_count": 11,
   "metadata": {
    "slideshow": {
     "slide_type": "slide"
    }
   },
   "outputs": [],
   "source": [
    "# Write JSON to file for viewing\n",
    "with open('downloads/forecast.json', 'w') as f:\n",
    "    json.dump(responseF, f, indent=4)"
   ]
  },
  {
   "cell_type": "markdown",
   "metadata": {
    "slideshow": {
     "slide_type": "slide"
    }
   },
   "source": [
    "### When and what?\n",
    "Check contents and time stamps"
   ]
  },
  {
   "cell_type": "code",
   "execution_count": 12,
   "metadata": {
    "slideshow": {
     "slide_type": "-"
    }
   },
   "outputs": [
    {
     "data": {
      "text/plain": [
       "dict_keys(['cod', 'message', 'cnt', 'list', 'city'])"
      ]
     },
     "execution_count": 12,
     "metadata": {},
     "output_type": "execute_result"
    }
   ],
   "source": [
    "# Content of responseF\n",
    "responseF.keys()"
   ]
  },
  {
   "cell_type": "code",
   "execution_count": 13,
   "metadata": {
    "slideshow": {
     "slide_type": "fragment"
    }
   },
   "outputs": [
    {
     "name": "stdout",
     "output_type": "stream",
     "text": [
      "40\n"
     ]
    }
   ],
   "source": [
    "# Number of forecasts\n",
    "print(len(responseF[\"list\"]))"
   ]
  },
  {
   "cell_type": "code",
   "execution_count": 14,
   "metadata": {
    "scrolled": true,
    "slideshow": {
     "slide_type": "slide"
    }
   },
   "outputs": [
    {
     "name": "stdout",
     "output_type": "stream",
     "text": [
      "2023-10-04 21:00:00\n",
      "2023-10-05 00:00:00\n",
      "2023-10-05 03:00:00\n",
      "2023-10-05 06:00:00\n",
      "2023-10-05 09:00:00\n",
      "2023-10-05 12:00:00\n",
      "2023-10-05 15:00:00\n",
      "2023-10-05 18:00:00\n",
      "2023-10-05 21:00:00\n",
      "2023-10-06 00:00:00\n",
      "2023-10-06 03:00:00\n",
      "2023-10-06 06:00:00\n",
      "2023-10-06 09:00:00\n",
      "2023-10-06 12:00:00\n",
      "2023-10-06 15:00:00\n",
      "2023-10-06 18:00:00\n",
      "2023-10-06 21:00:00\n",
      "2023-10-07 00:00:00\n",
      "2023-10-07 03:00:00\n",
      "2023-10-07 06:00:00\n",
      "2023-10-07 09:00:00\n",
      "2023-10-07 12:00:00\n",
      "2023-10-07 15:00:00\n",
      "2023-10-07 18:00:00\n",
      "2023-10-07 21:00:00\n",
      "2023-10-08 00:00:00\n",
      "2023-10-08 03:00:00\n",
      "2023-10-08 06:00:00\n",
      "2023-10-08 09:00:00\n",
      "2023-10-08 12:00:00\n",
      "2023-10-08 15:00:00\n",
      "2023-10-08 18:00:00\n",
      "2023-10-08 21:00:00\n",
      "2023-10-09 00:00:00\n",
      "2023-10-09 03:00:00\n",
      "2023-10-09 06:00:00\n",
      "2023-10-09 09:00:00\n",
      "2023-10-09 12:00:00\n",
      "2023-10-09 15:00:00\n",
      "2023-10-09 18:00:00\n"
     ]
    }
   ],
   "source": [
    "# Print forecast times\n",
    "for forecast in responseF[\"list\"]:\n",
    "    print(forecast[\"dt_txt\"])"
   ]
  },
  {
   "cell_type": "markdown",
   "metadata": {
    "slideshow": {
     "slide_type": "slide"
    }
   },
   "source": [
    "## Make plots of omnipresent measurements and events\n",
    "We will later look at missing data, data only sporadically appearing and so on."
   ]
  },
  {
   "cell_type": "code",
   "execution_count": 15,
   "metadata": {
    "slideshow": {
     "slide_type": "-"
    }
   },
   "outputs": [],
   "source": [
    "# Air pressure per period\n",
    "pressures = []\n",
    "timestamps = []\n",
    "for forecast in responseF[\"list\"]:\n",
    "    pressures.append(forecast[\"main\"][\"pressure\"])\n",
    "    timestamps.append(dt.datetime.fromtimestamp(forecast[\"dt\"]))"
   ]
  },
  {
   "cell_type": "code",
   "execution_count": 16,
   "metadata": {
    "slideshow": {
     "slide_type": "slide"
    }
   },
   "outputs": [
    {
     "data": {
      "image/png": "[encoded data removed]",
      "text/plain": [
       "<Figure size 640x480 with 1 Axes>"
      ]
     },
     "metadata": {},
     "output_type": "display_data"
    }
   ],
   "source": [
    "import matplotlib.pyplot as plt\n",
    "plt.bar(timestamps, pressures)\n",
    "plt.xticks(rotation=45)\n",
    "plt.ylim(950, 1050)\n",
    "plt.grid()\n",
    "plt.ylabel(\"Air pressure (hPa)\")\n",
    "plt.title(f\"Forecasted air pressure in {CITY}\")\n",
    "plt.show()"
   ]
  },
  {
   "cell_type": "markdown",
   "metadata": {
    "slideshow": {
     "slide_type": "slide"
    }
   },
   "source": [
    "## Exercise\n",
    "- Make a new forecast request for your own hometown. Call your response something else than responseF.\n",
    "- If available, plot the humidity like we did with air pressure."
   ]
  },
  {
   "cell_type": "markdown",
   "metadata": {
    "slideshow": {
     "slide_type": "slide"
    }
   },
   "source": [
    "### Precipitation\n",
    "- ... comes in two main flavours: rain and snow.\n",
    "- We need to check which is present and set to zero if it is abscent."
   ]
  },
  {
   "cell_type": "code",
   "execution_count": 17,
   "metadata": {
    "slideshow": {
     "slide_type": "-"
    }
   },
   "outputs": [],
   "source": [
    "rain = []\n",
    "snow = []\n",
    "for forecast in responseF[\"list\"]:\n",
    "    try: # Check if rain is present in forecast\n",
    "        rain.append(forecast[\"rain\"][\"3h\"])\n",
    "    except KeyError:\n",
    "        rain.append(0)\n",
    "    try: # Check if snow is present in forecast\n",
    "        snow.append(forecast[\"snow\"][\"3h\"])\n",
    "    except KeyError:\n",
    "        snow.append(0)"
   ]
  },
  {
   "cell_type": "code",
   "execution_count": 18,
   "metadata": {
    "slideshow": {
     "slide_type": "slide"
    }
   },
   "outputs": [
    {
     "data": {
      "image/png": "[encoded data removed]",
      "text/plain": [
       "<Figure size 640x480 with 1 Axes>"
      ]
     },
     "metadata": {},
     "output_type": "display_data"
    }
   ],
   "source": [
    "# Stacked bar chart with rain and snow\n",
    "plt.bar(timestamps, rain, label=\"Rain\")\n",
    "plt.bar(timestamps, snow, label=\"Snow\")\n",
    "plt.xticks(rotation=45)\n",
    "plt.grid()\n",
    "plt.ylabel(\"Precipitation (mm)\")\n",
    "plt.title(f\"Forecasted precipitation in {CITY}\")\n",
    "plt.legend()\n",
    "plt.show()\n"
   ]
  },
  {
   "cell_type": "markdown",
   "metadata": {
    "slideshow": {
     "slide_type": "slide"
    }
   },
   "source": [
    "## Resources\n",
    "- [YouTube: NeuralNine's video (15m:32s)](https://www.youtube.com/watch?v=9P5MY_2i7K8)"
   ]
  }
 ],
 "metadata": {
  "celltoolbar": "Slideshow",
  "kernelspec": {
   "display_name": "Python 3 (ipykernel)",
   "language": "python",
   "name": "python3"
  },
  "language_info": {
   "codemirror_mode": {
    "name": "ipython",
    "version": 3
   },
   "file_extension": ".py",
   "mimetype": "text/x-python",
   "name": "python",
   "nbconvert_exporter": "python",
   "pygments_lexer": "ipython3",
   "version": "3.10.6"
  }
 },
 "nbformat": 4,
 "nbformat_minor": 2
}