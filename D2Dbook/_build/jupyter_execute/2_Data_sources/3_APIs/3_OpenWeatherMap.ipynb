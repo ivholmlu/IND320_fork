{
 "cells": [
  {
   "cell_type": "markdown",
   "metadata": {
    "slideshow": {
     "slide_type": "slide"
    }
   },
   "source": [
    "# Demonstration of API using OpenWeatherMap.org\n",
    "This demonstration is heavily inspired by [NeuralNine's video](https://www.youtube.com/watch?v=9P5MY_2i7K8).  \n",
    "You need a free account [from here](https://openweathermap.org/api).  \n",
    "The VS Code extension _JSON viewer_ is recommended for viewing downloaded JSON content.  \n",
    "  - Set your maximum API calls to 1000 per day to make sure you are under the limit for billing. \n",
    "  - To run the examples, download your API key, save it in the right folder (see below) in a file called _api\\_key\\_OpenWeather_, containing only the key (no spaces or \"enters\")."
   ]
  },
  {
   "cell_type": "code",
   "execution_count": 1,
   "metadata": {
    "slideshow": {
     "slide_type": "fragment"
    }
   },
   "outputs": [],
   "source": [
    "# Imports\n",
    "import datetime as dt\n",
    "import requests\n",
    "import json"
   ]
  },
  {
   "cell_type": "markdown",
   "metadata": {
    "slideshow": {
     "slide_type": "slide"
    }
   },
   "source": [
    "## Current weather\n",
    "### Common definitions to use for all requests"
   ]
  },
  {
   "cell_type": "code",
   "execution_count": 2,
   "metadata": {
    "slideshow": {
     "slide_type": "-"
    }
   },
   "outputs": [],
   "source": [
    "BASE_URL = \"http://api.openweathermap.org/data/2.5/weather?\"\n",
    "API_KEY = open('../../../No_sync/api_key_OpenWeather','r').read()\n",
    "CITY = \"Ski\"\n",
    "\n",
    "url = BASE_URL + \"q=\" + CITY + \"&appid=\" + API_KEY"
   ]
  },
  {
   "cell_type": "markdown",
   "metadata": {
    "slideshow": {
     "slide_type": "slide"
    }
   },
   "source": [
    "## Request current weather in chosen city"
   ]
  },
  {
   "cell_type": "code",
   "execution_count": 3,
   "metadata": {
    "slideshow": {
     "slide_type": "fragment"
    }
   },
   "outputs": [
    {
     "name": "stdout",
     "output_type": "stream",
     "text": [
      "{'coord': {'lon': 10.8358, 'lat': 59.7195}, 'weather': [{'id': 800, 'main': 'Clear', 'description': 'clear sky', 'icon': '01n'}], 'base': 'stations', 'main': {'temp': 273.25, 'feels_like': 268.49, 'temp_min': 273.03, 'temp_max': 273.96, 'pressure': 1019, 'humidity': 75, 'sea_level': 1019, 'grnd_level': 1002}, 'visibility': 10000, 'wind': {'speed': 4.77, 'deg': 49, 'gust': 11.88}, 'clouds': {'all': 8}, 'dt': 1697744527, 'sys': {'type': 2, 'id': 2006772, 'country': 'NO', 'sunrise': 1697695427, 'sunset': 1697731157}, 'timezone': 7200, 'id': 3139081, 'name': 'Ski', 'cod': 200}\n"
     ]
    }
   ],
   "source": [
    "response = requests.get(url).json()\n",
    "print(response)"
   ]
  },
  {
   "cell_type": "code",
   "execution_count": 4,
   "metadata": {
    "slideshow": {
     "slide_type": "fragment"
    }
   },
   "outputs": [],
   "source": [
    "# Write JSON to file for viewing\n",
    "with open('downloads/weather.json', 'w') as f:\n",
    "    json.dump(response, f, indent=4)"
   ]
  },
  {
   "cell_type": "markdown",
   "metadata": {
    "slideshow": {
     "slide_type": "slide"
    }
   },
   "source": [
    "## Conversion functions\n",
    "Changing scales can make results more interpretable"
   ]
  },
  {
   "cell_type": "code",
   "execution_count": 5,
   "metadata": {
    "slideshow": {
     "slide_type": "-"
    }
   },
   "outputs": [],
   "source": [
    "# Kelvin to Celsius\n",
    "def kelvin_to_celsius(temp):\n",
    "    return temp - 273.15\n",
    "\n",
    "# Meters per second to knots\n",
    "def mps_to_knots(speed):\n",
    "    return speed * 1.943844"
   ]
  },
  {
   "cell_type": "markdown",
   "metadata": {
    "slideshow": {
     "slide_type": "slide"
    }
   },
   "source": [
    "## Print some weather properties"
   ]
  },
  {
   "cell_type": "code",
   "execution_count": 6,
   "metadata": {
    "slideshow": {
     "slide_type": "-"
    }
   },
   "outputs": [
    {
     "name": "stdout",
     "output_type": "stream",
     "text": [
      "The current temperature in Ski is 0.1°C\n"
     ]
    }
   ],
   "source": [
    "# Current temperature\n",
    "temp_kelvin = response['main']['temp']\n",
    "temp_celsius = kelvin_to_celsius(temp_kelvin)\n",
    "print(f\"The current temperature in {CITY} is {temp_celsius:.1f}°C\")"
   ]
  },
  {
   "cell_type": "code",
   "execution_count": 7,
   "metadata": {
    "slideshow": {
     "slide_type": "slide"
    }
   },
   "outputs": [
    {
     "name": "stdout",
     "output_type": "stream",
     "text": [
      "Sunrise today is at 08:03 and sunset is at 17:59\n"
     ]
    }
   ],
   "source": [
    "# Sunrise and sunset today in local time\n",
    "sunrise = dt.datetime.fromtimestamp(response['sys']['sunrise'])\n",
    "sunset = dt.datetime.fromtimestamp(response['sys']['sunset'])\n",
    "print(f\"Sunrise today is at {sunrise:%H:%M} and sunset is at {sunset:%H:%M}\")"
   ]
  },
  {
   "cell_type": "code",
   "execution_count": 8,
   "metadata": {
    "slideshow": {
     "slide_type": "fragment"
    }
   },
   "outputs": [
    {
     "name": "stdout",
     "output_type": "stream",
     "text": [
      "Wind today is from 49° at 9.3 knots\n"
     ]
    }
   ],
   "source": [
    "# Wind direction and speed\n",
    "wind_knots = mps_to_knots(response['wind']['speed'])\n",
    "print(f\"Wind today is from {response['wind']['deg']}° at {round(wind_knots,1)} knots\")"
   ]
  },
  {
   "cell_type": "markdown",
   "metadata": {
    "slideshow": {
     "slide_type": "slide"
    }
   },
   "source": [
    "## Forecasted weather\n",
    "### Common definitions to use for all requests"
   ]
  },
  {
   "cell_type": "code",
   "execution_count": 9,
   "metadata": {
    "slideshow": {
     "slide_type": "-"
    }
   },
   "outputs": [],
   "source": [
    "BASE_URL = \"http://api.openweathermap.org/data/2.5/forecast?\"\n",
    "CITY = \"Noresund\"\n",
    "\n",
    "urlF = BASE_URL + \"q=\" + CITY + \"&appid=\" + API_KEY"
   ]
  },
  {
   "cell_type": "markdown",
   "metadata": {
    "slideshow": {
     "slide_type": "slide"
    }
   },
   "source": [
    "## Request forecasted weather in chosen city"
   ]
  },
  {
   "cell_type": "code",
   "execution_count": 10,
   "metadata": {
    "slideshow": {
     "slide_type": "-"
    }
   },
   "outputs": [
    {
     "name": "stdout",
     "output_type": "stream",
     "text": [
      "{'cod': '200', 'message': 0, 'cnt': 40, 'list': [{'dt': 1697749200, 'main': {'temp': 273.21, 'feels_like': 269.74, 'temp_min': 272.8, 'temp_max': 273.21, 'pressure': 1021, 'sea_level': 1021, 'grnd_level': 1002, 'humidity': 83, 'temp_kf': 0.41}, 'weather': [{'id': 803, 'main': 'Clouds', 'description': 'broken clouds', 'icon': '04n'}], 'clouds': {'all': 60}, 'wind': {'speed': 2.98, 'deg': 42, 'gust': 9.13}, 'visibility': 10000, 'pop': 0, 'sys': {'pod': 'n'}, 'dt_txt': '2023-10-19 21:00:00'}, {'dt': 1697760000, 'main': {'temp': 273.03, 'feels_like': 269.46, 'temp_min': 272.66, 'temp_max': 273.03, 'pressure': 1021, 'sea_level': 1021, 'grnd_level': 1002, 'humidity': 81, 'temp_kf': 0.37}, 'weather': [{'id': 803, 'main': 'Clouds', 'description': 'broken clouds', 'icon': '04n'}], 'clouds': {'all': 66}, 'wind': {'speed': 3.05, 'deg': 36, 'gust': 8.4}, 'visibility': 10000, 'pop': 0.02, 'sys': {'pod': 'n'}, 'dt_txt': '2023-10-20 00:00:00'}, {'dt': 1697770800, 'main': {'temp': 272.93, 'feels_like': 268.84, 'temp_min': 272.79, 'temp_max': 272.93, 'pressure': 1021, 'sea_level': 1021, 'grnd_level': 1002, 'humidity': 79, 'temp_kf': 0.14}, 'weather': [{'id': 600, 'main': 'Snow', 'description': 'light snow', 'icon': '13n'}], 'clouds': {'all': 87}, 'wind': {'speed': 3.67, 'deg': 36, 'gust': 9.3}, 'visibility': 10000, 'pop': 0.44, 'snow': {'3h': 0.11}, 'sys': {'pod': 'n'}, 'dt_txt': '2023-10-20 03:00:00'}, {'dt': 1697781600, 'main': {'temp': 272.35, 'feels_like': 268.04, 'temp_min': 272.35, 'temp_max': 272.35, 'pressure': 1021, 'sea_level': 1021, 'grnd_level': 1002, 'humidity': 78, 'temp_kf': 0}, 'weather': [{'id': 804, 'main': 'Clouds', 'description': 'overcast clouds', 'icon': '04n'}], 'clouds': {'all': 100}, 'wind': {'speed': 3.78, 'deg': 34, 'gust': 9.18}, 'visibility': 10000, 'pop': 0.4, 'sys': {'pod': 'n'}, 'dt_txt': '2023-10-20 06:00:00'}, {'dt': 1697792400, 'main': {'temp': 273.43, 'feels_like': 269.22, 'temp_min': 273.43, 'temp_max': 273.43, 'pressure': 1022, 'sea_level': 1022, 'grnd_level': 1003, 'humidity': 72, 'temp_kf': 0}, 'weather': [{'id': 600, 'main': 'Snow', 'description': 'light snow', 'icon': '13d'}], 'clouds': {'all': 100}, 'wind': {'speed': 3.99, 'deg': 38, 'gust': 8.83}, 'visibility': 10000, 'pop': 0.44, 'snow': {'3h': 0.13}, 'sys': {'pod': 'd'}, 'dt_txt': '2023-10-20 09:00:00'}, {'dt': 1697803200, 'main': {'temp': 274.33, 'feels_like': 270.19, 'temp_min': 274.33, 'temp_max': 274.33, 'pressure': 1021, 'sea_level': 1021, 'grnd_level': 1002, 'humidity': 72, 'temp_kf': 0}, 'weather': [{'id': 600, 'main': 'Snow', 'description': 'light snow', 'icon': '13d'}], 'clouds': {'all': 100}, 'wind': {'speed': 4.2, 'deg': 39, 'gust': 9.23}, 'visibility': 10000, 'pop': 0.36, 'snow': {'3h': 0.2}, 'sys': {'pod': 'd'}, 'dt_txt': '2023-10-20 12:00:00'}, {'dt': 1697814000, 'main': {'temp': 274.17, 'feels_like': 269.97, 'temp_min': 274.17, 'temp_max': 274.17, 'pressure': 1020, 'sea_level': 1020, 'grnd_level': 1001, 'humidity': 77, 'temp_kf': 0}, 'weather': [{'id': 600, 'main': 'Snow', 'description': 'light snow', 'icon': '13d'}], 'clouds': {'all': 100}, 'wind': {'speed': 4.23, 'deg': 38, 'gust': 10.37}, 'visibility': 10000, 'pop': 0.37, 'snow': {'3h': 0.14}, 'sys': {'pod': 'd'}, 'dt_txt': '2023-10-20 15:00:00'}, {'dt': 1697824800, 'main': {'temp': 273.71, 'feels_like': 269, 'temp_min': 273.71, 'temp_max': 273.71, 'pressure': 1020, 'sea_level': 1020, 'grnd_level': 1001, 'humidity': 69, 'temp_kf': 0}, 'weather': [{'id': 804, 'main': 'Clouds', 'description': 'overcast clouds', 'icon': '04n'}], 'clouds': {'all': 100}, 'wind': {'speed': 4.88, 'deg': 45, 'gust': 11.42}, 'visibility': 10000, 'pop': 0.34, 'sys': {'pod': 'n'}, 'dt_txt': '2023-10-20 18:00:00'}, {'dt': 1697835600, 'main': {'temp': 272.83, 'feels_like': 268.03, 'temp_min': 272.83, 'temp_max': 272.83, 'pressure': 1021, 'sea_level': 1021, 'grnd_level': 1002, 'humidity': 75, 'temp_kf': 0}, 'weather': [{'id': 804, 'main': 'Clouds', 'description': 'overcast clouds', 'icon': '04n'}], 'clouds': {'all': 99}, 'wind': {'speed': 4.67, 'deg': 45, 'gust': 10.72}, 'visibility': 10000, 'pop': 0.14, 'sys': {'pod': 'n'}, 'dt_txt': '2023-10-20 21:00:00'}, {'dt': 1697846400, 'main': {'temp': 272.65, 'feels_like': 267.95, 'temp_min': 272.65, 'temp_max': 272.65, 'pressure': 1020, 'sea_level': 1020, 'grnd_level': 1001, 'humidity': 78, 'temp_kf': 0}, 'weather': [{'id': 600, 'main': 'Snow', 'description': 'light snow', 'icon': '13n'}], 'clouds': {'all': 99}, 'wind': {'speed': 4.45, 'deg': 39, 'gust': 9.95}, 'visibility': 10000, 'pop': 0.24, 'snow': {'3h': 0.14}, 'sys': {'pod': 'n'}, 'dt_txt': '2023-10-21 00:00:00'}, {'dt': 1697857200, 'main': {'temp': 272.44, 'feels_like': 268.02, 'temp_min': 272.44, 'temp_max': 272.44, 'pressure': 1019, 'sea_level': 1019, 'grnd_level': 1000, 'humidity': 79, 'temp_kf': 0}, 'weather': [{'id': 600, 'main': 'Snow', 'description': 'light snow', 'icon': '13n'}], 'clouds': {'all': 100}, 'wind': {'speed': 3.97, 'deg': 35, 'gust': 9.64}, 'visibility': 10000, 'pop': 0.37, 'snow': {'3h': 0.12}, 'sys': {'pod': 'n'}, 'dt_txt': '2023-10-21 03:00:00'}, {'dt': 1697868000, 'main': {'temp': 272.38, 'feels_like': 268.38, 'temp_min': 272.38, 'temp_max': 272.38, 'pressure': 1019, 'sea_level': 1019, 'grnd_level': 1000, 'humidity': 86, 'temp_kf': 0}, 'weather': [{'id': 600, 'main': 'Snow', 'description': 'light snow', 'icon': '13n'}], 'clouds': {'all': 100}, 'wind': {'speed': 3.4, 'deg': 31, 'gust': 8.89}, 'visibility': 3401, 'pop': 0.53, 'snow': {'3h': 0.31}, 'sys': {'pod': 'n'}, 'dt_txt': '2023-10-21 06:00:00'}, {'dt': 1697878800, 'main': {'temp': 273.12, 'feels_like': 268.89, 'temp_min': 273.12, 'temp_max': 273.12, 'pressure': 1019, 'sea_level': 1019, 'grnd_level': 1000, 'humidity': 80, 'temp_kf': 0}, 'weather': [{'id': 600, 'main': 'Snow', 'description': 'light snow', 'icon': '13d'}], 'clouds': {'all': 100}, 'wind': {'speed': 3.91, 'deg': 34, 'gust': 8.84}, 'visibility': 10000, 'pop': 0.73, 'snow': {'3h': 0.34}, 'sys': {'pod': 'd'}, 'dt_txt': '2023-10-21 09:00:00'}, {'dt': 1697889600, 'main': {'temp': 274.17, 'feels_like': 269.99, 'temp_min': 274.17, 'temp_max': 274.17, 'pressure': 1016, 'sea_level': 1016, 'grnd_level': 998, 'humidity': 76, 'temp_kf': 0}, 'weather': [{'id': 600, 'main': 'Snow', 'description': 'light snow', 'icon': '13d'}], 'clouds': {'all': 100}, 'wind': {'speed': 4.19, 'deg': 27, 'gust': 8.79}, 'visibility': 10000, 'pop': 0.68, 'snow': {'3h': 0.22}, 'sys': {'pod': 'd'}, 'dt_txt': '2023-10-21 12:00:00'}, {'dt': 1697900400, 'main': {'temp': 274.05, 'feels_like': 270.1, 'temp_min': 274.05, 'temp_max': 274.05, 'pressure': 1015, 'sea_level': 1015, 'grnd_level': 996, 'humidity': 84, 'temp_kf': 0}, 'weather': [{'id': 500, 'main': 'Rain', 'description': 'light rain', 'icon': '10d'}], 'clouds': {'all': 100}, 'wind': {'speed': 3.82, 'deg': 21, 'gust': 8.91}, 'visibility': 10000, 'pop': 0.58, 'rain': {'3h': 0.14}, 'sys': {'pod': 'd'}, 'dt_txt': '2023-10-21 15:00:00'}, {'dt': 1697911200, 'main': {'temp': 273.79, 'feels_like': 270.01, 'temp_min': 273.79, 'temp_max': 273.79, 'pressure': 1014, 'sea_level': 1014, 'grnd_level': 995, 'humidity': 90, 'temp_kf': 0}, 'weather': [{'id': 600, 'main': 'Snow', 'description': 'light snow', 'icon': '13n'}], 'clouds': {'all': 100}, 'wind': {'speed': 3.5, 'deg': 23, 'gust': 9.13}, 'visibility': 1272, 'pop': 0.65, 'snow': {'3h': 0.34}, 'sys': {'pod': 'n'}, 'dt_txt': '2023-10-21 18:00:00'}, {'dt': 1697922000, 'main': {'temp': 273.7, 'feels_like': 270.21, 'temp_min': 273.7, 'temp_max': 273.7, 'pressure': 1012, 'sea_level': 1012, 'grnd_level': 993, 'humidity': 95, 'temp_kf': 0}, 'weather': [{'id': 600, 'main': 'Snow', 'description': 'light snow', 'icon': '13n'}], 'clouds': {'all': 100}, 'wind': {'speed': 3.12, 'deg': 19, 'gust': 8.26}, 'visibility': 252, 'pop': 0.99, 'snow': {'3h': 1.18}, 'sys': {'pod': 'n'}, 'dt_txt': '2023-10-21 21:00:00'}, {'dt': 1697932800, 'main': {'temp': 273.57, 'feels_like': 270.07, 'temp_min': 273.57, 'temp_max': 273.57, 'pressure': 1010, 'sea_level': 1010, 'grnd_level': 992, 'humidity': 95, 'temp_kf': 0}, 'weather': [{'id': 601, 'main': 'Snow', 'description': 'snow', 'icon': '13n'}], 'clouds': {'all': 100}, 'wind': {'speed': 3.1, 'deg': 9, 'gust': 7.7}, 'visibility': 264, 'pop': 1, 'snow': {'3h': 1.72}, 'sys': {'pod': 'n'}, 'dt_txt': '2023-10-22 00:00:00'}, {'dt': 1697943600, 'main': {'temp': 273.42, 'feels_like': 270.33, 'temp_min': 273.42, 'temp_max': 273.42, 'pressure': 1009, 'sea_level': 1009, 'grnd_level': 990, 'humidity': 96, 'temp_kf': 0}, 'weather': [{'id': 601, 'main': 'Snow', 'description': 'snow', 'icon': '13n'}], 'clouds': {'all': 100}, 'wind': {'speed': 2.62, 'deg': 358, 'gust': 6}, 'visibility': 190, 'pop': 1, 'snow': {'3h': 1.64}, 'sys': {'pod': 'n'}, 'dt_txt': '2023-10-22 03:00:00'}, {'dt': 1697954400, 'main': {'temp': 273.46, 'feels_like': 270.71, 'temp_min': 273.46, 'temp_max': 273.46, 'pressure': 1008, 'sea_level': 1008, 'grnd_level': 989, 'humidity': 96, 'temp_kf': 0}, 'weather': [{'id': 600, 'main': 'Snow', 'description': 'light snow', 'icon': '13n'}], 'clouds': {'all': 100}, 'wind': {'speed': 2.3, 'deg': 354, 'gust': 5.24}, 'visibility': 287, 'pop': 1, 'snow': {'3h': 1.05}, 'sys': {'pod': 'n'}, 'dt_txt': '2023-10-22 06:00:00'}, {'dt': 1697965200, 'main': {'temp': 274.89, 'feels_like': 272.56, 'temp_min': 274.89, 'temp_max': 274.89, 'pressure': 1008, 'sea_level': 1008, 'grnd_level': 989, 'humidity': 91, 'temp_kf': 0}, 'weather': [{'id': 600, 'main': 'Snow', 'description': 'light snow', 'icon': '13d'}], 'clouds': {'all': 100}, 'wind': {'speed': 2.14, 'deg': 1, 'gust': 3.71}, 'visibility': 761, 'pop': 0.97, 'snow': {'3h': 0.57}, 'sys': {'pod': 'd'}, 'dt_txt': '2023-10-22 09:00:00'}, {'dt': 1697976000, 'main': {'temp': 276.15, 'feels_like': 274.53, 'temp_min': 276.15, 'temp_max': 276.15, 'pressure': 1006, 'sea_level': 1006, 'grnd_level': 988, 'humidity': 87, 'temp_kf': 0}, 'weather': [{'id': 600, 'main': 'Snow', 'description': 'light snow', 'icon': '13d'}], 'clouds': {'all': 100}, 'wind': {'speed': 1.71, 'deg': 12, 'gust': 2.89}, 'visibility': 10000, 'pop': 0.99, 'snow': {'3h': 0.37}, 'sys': {'pod': 'd'}, 'dt_txt': '2023-10-22 12:00:00'}, {'dt': 1697986800, 'main': {'temp': 275.34, 'feels_like': 275.34, 'temp_min': 275.34, 'temp_max': 275.34, 'pressure': 1006, 'sea_level': 1006, 'grnd_level': 987, 'humidity': 96, 'temp_kf': 0}, 'weather': [{'id': 600, 'main': 'Snow', 'description': 'light snow', 'icon': '13d'}], 'clouds': {'all': 100}, 'wind': {'speed': 1.12, 'deg': 14, 'gust': 2.29}, 'visibility': 959, 'pop': 0.38, 'snow': {'3h': 0.1}, 'sys': {'pod': 'd'}, 'dt_txt': '2023-10-22 15:00:00'}, {'dt': 1697997600, 'main': {'temp': 275.11, 'feels_like': 273.71, 'temp_min': 275.11, 'temp_max': 275.11, 'pressure': 1006, 'sea_level': 1006, 'grnd_level': 987, 'humidity': 97, 'temp_kf': 0}, 'weather': [{'id': 600, 'main': 'Snow', 'description': 'light snow', 'icon': '13n'}], 'clouds': {'all': 100}, 'wind': {'speed': 1.45, 'deg': 355, 'gust': 3.08}, 'visibility': 1554, 'pop': 0.56, 'snow': {'3h': 0.28}, 'sys': {'pod': 'n'}, 'dt_txt': '2023-10-22 18:00:00'}, {'dt': 1698008400, 'main': {'temp': 275.51, 'feels_like': 273.93, 'temp_min': 275.51, 'temp_max': 275.51, 'pressure': 1005, 'sea_level': 1005, 'grnd_level': 987, 'humidity': 95, 'temp_kf': 0}, 'weather': [{'id': 600, 'main': 'Snow', 'description': 'light snow', 'icon': '13n'}], 'clouds': {'all': 100}, 'wind': {'speed': 1.61, 'deg': 346, 'gust': 3.67}, 'visibility': 10000, 'pop': 0.57, 'snow': {'3h': 0.16}, 'sys': {'pod': 'n'}, 'dt_txt': '2023-10-22 21:00:00'}, {'dt': 1698019200, 'main': {'temp': 275.92, 'feels_like': 274.33, 'temp_min': 275.92, 'temp_max': 275.92, 'pressure': 1005, 'sea_level': 1005, 'grnd_level': 987, 'humidity': 94, 'temp_kf': 0}, 'weather': [{'id': 804, 'main': 'Clouds', 'description': 'overcast clouds', 'icon': '04n'}], 'clouds': {'all': 100}, 'wind': {'speed': 1.66, 'deg': 343, 'gust': 3.35}, 'visibility': 10000, 'pop': 0.27, 'sys': {'pod': 'n'}, 'dt_txt': '2023-10-23 00:00:00'}, {'dt': 1698030000, 'main': {'temp': 275.57, 'feels_like': 274.35, 'temp_min': 275.57, 'temp_max': 275.57, 'pressure': 1006, 'sea_level': 1006, 'grnd_level': 987, 'humidity': 94, 'temp_kf': 0}, 'weather': [{'id': 804, 'main': 'Clouds', 'description': 'overcast clouds', 'icon': '04n'}], 'clouds': {'all': 100}, 'wind': {'speed': 1.37, 'deg': 333, 'gust': 2.44}, 'visibility': 10000, 'pop': 0.1, 'sys': {'pod': 'n'}, 'dt_txt': '2023-10-23 03:00:00'}, {'dt': 1698040800, 'main': {'temp': 274.95, 'feels_like': 273.3, 'temp_min': 274.95, 'temp_max': 274.95, 'pressure': 1007, 'sea_level': 1007, 'grnd_level': 988, 'humidity': 95, 'temp_kf': 0}, 'weather': [{'id': 804, 'main': 'Clouds', 'description': 'overcast clouds', 'icon': '04n'}], 'clouds': {'all': 100}, 'wind': {'speed': 1.6, 'deg': 338, 'gust': 2.72}, 'visibility': 10000, 'pop': 0.07, 'sys': {'pod': 'n'}, 'dt_txt': '2023-10-23 06:00:00'}, {'dt': 1698051600, 'main': {'temp': 277.61, 'feels_like': 276.66, 'temp_min': 277.61, 'temp_max': 277.61, 'pressure': 1009, 'sea_level': 1009, 'grnd_level': 990, 'humidity': 86, 'temp_kf': 0}, 'weather': [{'id': 804, 'main': 'Clouds', 'description': 'overcast clouds', 'icon': '04d'}], 'clouds': {'all': 99}, 'wind': {'speed': 1.37, 'deg': 350, 'gust': 2.74}, 'visibility': 10000, 'pop': 0, 'sys': {'pod': 'd'}, 'dt_txt': '2023-10-23 09:00:00'}, {'dt': 1698062400, 'main': {'temp': 279.85, 'feels_like': 279.85, 'temp_min': 279.85, 'temp_max': 279.85, 'pressure': 1009, 'sea_level': 1009, 'grnd_level': 991, 'humidity': 84, 'temp_kf': 0}, 'weather': [{'id': 804, 'main': 'Clouds', 'description': 'overcast clouds', 'icon': '04d'}], 'clouds': {'all': 96}, 'wind': {'speed': 0.66, 'deg': 28, 'gust': 1.38}, 'visibility': 10000, 'pop': 0, 'sys': {'pod': 'd'}, 'dt_txt': '2023-10-23 12:00:00'}, {'dt': 1698073200, 'main': {'temp': 277.08, 'feels_like': 277.08, 'temp_min': 277.08, 'temp_max': 277.08, 'pressure': 1011, 'sea_level': 1011, 'grnd_level': 993, 'humidity': 98, 'temp_kf': 0}, 'weather': [{'id': 804, 'main': 'Clouds', 'description': 'overcast clouds', 'icon': '04d'}], 'clouds': {'all': 99}, 'wind': {'speed': 0.58, 'deg': 7, 'gust': 0.56}, 'visibility': 10000, 'pop': 0, 'sys': {'pod': 'd'}, 'dt_txt': '2023-10-23 15:00:00'}, {'dt': 1698084000, 'main': {'temp': 274.25, 'feels_like': 272.35, 'temp_min': 274.25, 'temp_max': 274.25, 'pressure': 1014, 'sea_level': 1014, 'grnd_level': 995, 'humidity': 98, 'temp_kf': 0}, 'weather': [{'id': 804, 'main': 'Clouds', 'description': 'overcast clouds', 'icon': '04n'}], 'clouds': {'all': 86}, 'wind': {'speed': 1.71, 'deg': 321, 'gust': 1.44}, 'visibility': 10000, 'pop': 0, 'sys': {'pod': 'n'}, 'dt_txt': '2023-10-23 18:00:00'}, {'dt': 1698094800, 'main': {'temp': 274.32, 'feels_like': 272.37, 'temp_min': 274.32, 'temp_max': 274.32, 'pressure': 1015, 'sea_level': 1015, 'grnd_level': 997, 'humidity': 97, 'temp_kf': 0}, 'weather': [{'id': 803, 'main': 'Clouds', 'description': 'broken clouds', 'icon': '04n'}], 'clouds': {'all': 64}, 'wind': {'speed': 1.75, 'deg': 341, 'gust': 1.93}, 'visibility': 10000, 'pop': 0, 'sys': {'pod': 'n'}, 'dt_txt': '2023-10-23 21:00:00'}, {'dt': 1698105600, 'main': {'temp': 273.67, 'feels_like': 272.1, 'temp_min': 273.67, 'temp_max': 273.67, 'pressure': 1017, 'sea_level': 1017, 'grnd_level': 998, 'humidity': 96, 'temp_kf': 0}, 'weather': [{'id': 803, 'main': 'Clouds', 'description': 'broken clouds', 'icon': '04n'}], 'clouds': {'all': 60}, 'wind': {'speed': 1.43, 'deg': 351, 'gust': 1.27}, 'visibility': 10000, 'pop': 0, 'sys': {'pod': 'n'}, 'dt_txt': '2023-10-24 00:00:00'}, {'dt': 1698116400, 'main': {'temp': 273.84, 'feels_like': 272.44, 'temp_min': 273.84, 'temp_max': 273.84, 'pressure': 1017, 'sea_level': 1017, 'grnd_level': 998, 'humidity': 96, 'temp_kf': 0}, 'weather': [{'id': 803, 'main': 'Clouds', 'description': 'broken clouds', 'icon': '04n'}], 'clouds': {'all': 63}, 'wind': {'speed': 1.34, 'deg': 1, 'gust': 1.23}, 'visibility': 10000, 'pop': 0, 'sys': {'pod': 'n'}, 'dt_txt': '2023-10-24 03:00:00'}, {'dt': 1698127200, 'main': {'temp': 275.5, 'feels_like': 275.5, 'temp_min': 275.5, 'temp_max': 275.5, 'pressure': 1018, 'sea_level': 1018, 'grnd_level': 999, 'humidity': 94, 'temp_kf': 0}, 'weather': [{'id': 803, 'main': 'Clouds', 'description': 'broken clouds', 'icon': '04n'}], 'clouds': {'all': 74}, 'wind': {'speed': 0.88, 'deg': 360, 'gust': 1.11}, 'visibility': 10000, 'pop': 0, 'sys': {'pod': 'n'}, 'dt_txt': '2023-10-24 06:00:00'}, {'dt': 1698138000, 'main': {'temp': 276.51, 'feels_like': 276.51, 'temp_min': 276.51, 'temp_max': 276.51, 'pressure': 1018, 'sea_level': 1018, 'grnd_level': 999, 'humidity': 95, 'temp_kf': 0}, 'weather': [{'id': 804, 'main': 'Clouds', 'description': 'overcast clouds', 'icon': '04d'}], 'clouds': {'all': 100}, 'wind': {'speed': 0.59, 'deg': 31, 'gust': 0.8}, 'visibility': 10000, 'pop': 0, 'sys': {'pod': 'd'}, 'dt_txt': '2023-10-24 09:00:00'}, {'dt': 1698148800, 'main': {'temp': 277.1, 'feels_like': 277.1, 'temp_min': 277.1, 'temp_max': 277.1, 'pressure': 1018, 'sea_level': 1018, 'grnd_level': 999, 'humidity': 96, 'temp_kf': 0}, 'weather': [{'id': 804, 'main': 'Clouds', 'description': 'overcast clouds', 'icon': '04d'}], 'clouds': {'all': 100}, 'wind': {'speed': 0.54, 'deg': 67, 'gust': 0.79}, 'visibility': 10000, 'pop': 0, 'sys': {'pod': 'd'}, 'dt_txt': '2023-10-24 12:00:00'}, {'dt': 1698159600, 'main': {'temp': 276.38, 'feels_like': 276.38, 'temp_min': 276.38, 'temp_max': 276.38, 'pressure': 1017, 'sea_level': 1017, 'grnd_level': 998, 'humidity': 99, 'temp_kf': 0}, 'weather': [{'id': 804, 'main': 'Clouds', 'description': 'overcast clouds', 'icon': '04d'}], 'clouds': {'all': 100}, 'wind': {'speed': 0.52, 'deg': 61, 'gust': 0.6}, 'visibility': 9782, 'pop': 0, 'sys': {'pod': 'd'}, 'dt_txt': '2023-10-24 15:00:00'}, {'dt': 1698170400, 'main': {'temp': 276.05, 'feels_like': 276.05, 'temp_min': 276.05, 'temp_max': 276.05, 'pressure': 1017, 'sea_level': 1017, 'grnd_level': 998, 'humidity': 100, 'temp_kf': 0}, 'weather': [{'id': 804, 'main': 'Clouds', 'description': 'overcast clouds', 'icon': '04n'}], 'clouds': {'all': 100}, 'wind': {'speed': 0.63, 'deg': 60, 'gust': 0.79}, 'visibility': 1970, 'pop': 0, 'sys': {'pod': 'n'}, 'dt_txt': '2023-10-24 18:00:00'}], 'city': {'id': 3144113, 'name': 'Noresund', 'coord': {'lat': 60.1803, 'lon': 9.6231}, 'country': 'NO', 'population': 1000, 'timezone': 7200, 'sunrise': 1697695792, 'sunset': 1697731374}}\n"
     ]
    }
   ],
   "source": [
    "responseF = requests.get(urlF).json()\n",
    "print(responseF)"
   ]
  },
  {
   "cell_type": "code",
   "execution_count": 11,
   "metadata": {
    "slideshow": {
     "slide_type": "slide"
    }
   },
   "outputs": [],
   "source": [
    "# Write JSON to file for viewing\n",
    "with open('downloads/forecast.json', 'w') as f:\n",
    "    json.dump(responseF, f, indent=4)"
   ]
  },
  {
   "cell_type": "markdown",
   "metadata": {
    "slideshow": {
     "slide_type": "slide"
    }
   },
   "source": [
    "### When and what?\n",
    "Check contents and time stamps"
   ]
  },
  {
   "cell_type": "code",
   "execution_count": 12,
   "metadata": {
    "slideshow": {
     "slide_type": "-"
    }
   },
   "outputs": [
    {
     "data": {
      "text/plain": [
       "dict_keys(['cod', 'message', 'cnt', 'list', 'city'])"
      ]
     },
     "execution_count": 12,
     "metadata": {},
     "output_type": "execute_result"
    }
   ],
   "source": [
    "# Content of responseF\n",
    "responseF.keys()"
   ]
  },
  {
   "cell_type": "code",
   "execution_count": 13,
   "metadata": {
    "slideshow": {
     "slide_type": "fragment"
    }
   },
   "outputs": [
    {
     "name": "stdout",
     "output_type": "stream",
     "text": [
      "40\n"
     ]
    }
   ],
   "source": [
    "# Number of forecasts\n",
    "print(len(responseF[\"list\"]))"
   ]
  },
  {
   "cell_type": "code",
   "execution_count": 14,
   "metadata": {
    "scrolled": true,
    "slideshow": {
     "slide_type": "slide"
    }
   },
   "outputs": [
    {
     "name": "stdout",
     "output_type": "stream",
     "text": [
      "2023-10-19 21:00:00\n",
      "2023-10-20 00:00:00\n",
      "2023-10-20 03:00:00\n",
      "2023-10-20 06:00:00\n",
      "2023-10-20 09:00:00\n",
      "2023-10-20 12:00:00\n",
      "2023-10-20 15:00:00\n",
      "2023-10-20 18:00:00\n",
      "2023-10-20 21:00:00\n",
      "2023-10-21 00:00:00\n",
      "2023-10-21 03:00:00\n",
      "2023-10-21 06:00:00\n",
      "2023-10-21 09:00:00\n",
      "2023-10-21 12:00:00\n",
      "2023-10-21 15:00:00\n",
      "2023-10-21 18:00:00\n",
      "2023-10-21 21:00:00\n",
      "2023-10-22 00:00:00\n",
      "2023-10-22 03:00:00\n",
      "2023-10-22 06:00:00\n",
      "2023-10-22 09:00:00\n",
      "2023-10-22 12:00:00\n",
      "2023-10-22 15:00:00\n",
      "2023-10-22 18:00:00\n",
      "2023-10-22 21:00:00\n",
      "2023-10-23 00:00:00\n",
      "2023-10-23 03:00:00\n",
      "2023-10-23 06:00:00\n",
      "2023-10-23 09:00:00\n",
      "2023-10-23 12:00:00\n",
      "2023-10-23 15:00:00\n",
      "2023-10-23 18:00:00\n",
      "2023-10-23 21:00:00\n",
      "2023-10-24 00:00:00\n",
      "2023-10-24 03:00:00\n",
      "2023-10-24 06:00:00\n",
      "2023-10-24 09:00:00\n",
      "2023-10-24 12:00:00\n",
      "2023-10-24 15:00:00\n",
      "2023-10-24 18:00:00\n"
     ]
    }
   ],
   "source": [
    "# Print forecast times\n",
    "for forecast in responseF[\"list\"]:\n",
    "    print(forecast[\"dt_txt\"])"
   ]
  },
  {
   "cell_type": "markdown",
   "metadata": {
    "slideshow": {
     "slide_type": "slide"
    }
   },
   "source": [
    "## Make plots of omnipresent measurements and events\n",
    "We will later look at missing data, data only sporadically appearing and so on."
   ]
  },
  {
   "cell_type": "code",
   "execution_count": 15,
   "metadata": {
    "slideshow": {
     "slide_type": "-"
    }
   },
   "outputs": [],
   "source": [
    "# Air pressure per period\n",
    "pressures = []\n",
    "timestamps = []\n",
    "for forecast in responseF[\"list\"]:\n",
    "    pressures.append(forecast[\"main\"][\"pressure\"])\n",
    "    timestamps.append(dt.datetime.fromtimestamp(forecast[\"dt\"]))"
   ]
  },
  {
   "cell_type": "code",
   "execution_count": 16,
   "metadata": {
    "slideshow": {
     "slide_type": "slide"
    }
   },
   "outputs": [
    {
     "data": {
      "image/png": "[encoded data removed]",
      "text/plain": [
       "<Figure size 640x480 with 1 Axes>"
      ]
     },
     "metadata": {},
     "output_type": "display_data"
    }
   ],
   "source": [
    "import matplotlib.pyplot as plt\n",
    "plt.bar(timestamps, pressures)\n",
    "plt.xticks(rotation=45)\n",
    "plt.ylim(950, 1050)\n",
    "plt.grid()\n",
    "plt.ylabel(\"Air pressure (hPa)\")\n",
    "plt.title(f\"Forecasted air pressure in {CITY}\")\n",
    "plt.show()"
   ]
  },
  {
   "cell_type": "markdown",
   "metadata": {
    "slideshow": {
     "slide_type": "slide"
    }
   },
   "source": [
    "## Exercise\n",
    "- Make a new forecast request for your own hometown. Call your response something else than responseF.\n",
    "- If available, plot the humidity like we did with air pressure."
   ]
  },
  {
   "cell_type": "markdown",
   "metadata": {
    "slideshow": {
     "slide_type": "slide"
    }
   },
   "source": [
    "### Precipitation\n",
    "- ... comes in two main flavours: rain and snow.\n",
    "- We need to check which is present and set to zero if it is abscent."
   ]
  },
  {
   "cell_type": "code",
   "execution_count": 17,
   "metadata": {
    "slideshow": {
     "slide_type": "-"
    }
   },
   "outputs": [],
   "source": [
    "rain = []\n",
    "snow = []\n",
    "for forecast in responseF[\"list\"]:\n",
    "    try: # Check if rain is present in forecast\n",
    "        rain.append(forecast[\"rain\"][\"3h\"])\n",
    "    except KeyError:\n",
    "        rain.append(0)\n",
    "    try: # Check if snow is present in forecast\n",
    "        snow.append(forecast[\"snow\"][\"3h\"])\n",
    "    except KeyError:\n",
    "        snow.append(0)"
   ]
  },
  {
   "cell_type": "code",
   "execution_count": 18,
   "metadata": {
    "slideshow": {
     "slide_type": "slide"
    }
   },
   "outputs": [
    {
     "data": {
      "image/png": "[encoded data removed]",
      "text/plain": [
       "<Figure size 640x480 with 1 Axes>"
      ]
     },
     "metadata": {},
     "output_type": "display_data"
    }
   ],
   "source": [
    "# Stacked bar chart with rain and snow\n",
    "plt.bar(timestamps, rain, label=\"Rain\")\n",
    "plt.bar(timestamps, snow, label=\"Snow\")\n",
    "plt.xticks(rotation=45)\n",
    "plt.grid()\n",
    "plt.ylabel(\"Precipitation (mm)\")\n",
    "plt.title(f\"Forecasted precipitation in {CITY}\")\n",
    "plt.legend()\n",
    "plt.show()\n"
   ]
  },
  {
   "cell_type": "markdown",
   "metadata": {
    "slideshow": {
     "slide_type": "slide"
    }
   },
   "source": [
    "## Resources\n",
    "- [YouTube: NeuralNine's video (15m:32s)](https://www.youtube.com/watch?v=9P5MY_2i7K8)"
   ]
  }
 ],
 "metadata": {
  "celltoolbar": "Slideshow",
  "kernelspec": {
   "display_name": "Python 3 (ipykernel)",
   "language": "python",
   "name": "python3"
  },
  "language_info": {
   "codemirror_mode": {
    "name": "ipython",
    "version": 3
   },
   "file_extension": ".py",
   "mimetype": "text/x-python",
   "name": "python",
   "nbconvert_exporter": "python",
   "pygments_lexer": "ipython3",
   "version": "3.10.6"
  }
 },
 "nbformat": 4,
 "nbformat_minor": 2
}