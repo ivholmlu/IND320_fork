{
 "cells": [
  {
   "cell_type": "markdown",
   "metadata": {
    "slideshow": {
     "slide_type": "slide"
    }
   },
   "source": [
    "# Demonstration of API using OpenWeatherMap.org\n",
    "This demonstration is heavily inspired by [NeuralNine's video](https://www.youtube.com/watch?v=9P5MY_2i7K8).  \n",
    "You need a free account [from here](https://openweathermap.org/api).  \n",
    "The VS Code extension _JSON viewer_ is recommended for viewing downloaded JSON content.  \n",
    "  - Set your maximum API calls to 1000 per day to make sure you are under the limit for billing. \n",
    "  - To run the examples, download your API key, save it in the right folder (see below) in a file called _api\\_key\\_OpenWeather_, containing only the key (no spaces or \"enters\")."
   ]
  },
  {
   "cell_type": "code",
   "execution_count": 1,
   "metadata": {
    "slideshow": {
     "slide_type": "fragment"
    }
   },
   "outputs": [],
   "source": [
    "# Imports\n",
    "import datetime as dt\n",
    "import requests\n",
    "import json"
   ]
  },
  {
   "cell_type": "markdown",
   "metadata": {
    "slideshow": {
     "slide_type": "slide"
    }
   },
   "source": [
    "## Current weather\n",
    "### Common definitions to use for all requests"
   ]
  },
  {
   "cell_type": "code",
   "execution_count": 2,
   "metadata": {
    "slideshow": {
     "slide_type": "-"
    }
   },
   "outputs": [],
   "source": [
    "BASE_URL = \"http://api.openweathermap.org/data/2.5/weather?\"\n",
    "API_KEY = open('../../../No_sync/api_key_OpenWeather','r').read()\n",
    "CITY = \"Ski\"\n",
    "\n",
    "url = BASE_URL + \"q=\" + CITY + \"&appid=\" + API_KEY"
   ]
  },
  {
   "cell_type": "markdown",
   "metadata": {
    "slideshow": {
     "slide_type": "slide"
    }
   },
   "source": [
    "## Request current weather in chosen city"
   ]
  },
  {
   "cell_type": "code",
   "execution_count": 3,
   "metadata": {
    "slideshow": {
     "slide_type": "fragment"
    }
   },
   "outputs": [
    {
     "name": "stdout",
     "output_type": "stream",
     "text": [
      "{'coord': {'lon': 10.8358, 'lat': 59.7195}, 'weather': [{'id': 804, 'main': 'Clouds', 'description': 'overcast clouds', 'icon': '04n'}], 'base': 'stations', 'main': {'temp': 268.84, 'feels_like': 264.41, 'temp_min': 267.29, 'temp_max': 270.97, 'pressure': 1011, 'humidity': 94, 'sea_level': 1011, 'grnd_level': 993}, 'visibility': 10000, 'wind': {'speed': 3.06, 'deg': 18, 'gust': 5.73}, 'clouds': {'all': 100}, 'dt': 1700407042, 'sys': {'type': 2, 'id': 2006772, 'country': 'NO', 'sunrise': 1700378498, 'sunset': 1700404954}, 'timezone': 3600, 'id': 3139081, 'name': 'Ski', 'cod': 200}\n"
     ]
    }
   ],
   "source": [
    "response = requests.get(url).json()\n",
    "print(response)"
   ]
  },
  {
   "cell_type": "code",
   "execution_count": 4,
   "metadata": {
    "slideshow": {
     "slide_type": "fragment"
    }
   },
   "outputs": [],
   "source": [
    "# Write JSON to file for viewing\n",
    "with open('downloads/weather.json', 'w') as f:\n",
    "    json.dump(response, f, indent=4)"
   ]
  },
  {
   "cell_type": "markdown",
   "metadata": {
    "slideshow": {
     "slide_type": "slide"
    }
   },
   "source": [
    "## Conversion functions\n",
    "Changing scales can make results more interpretable"
   ]
  },
  {
   "cell_type": "code",
   "execution_count": 5,
   "metadata": {
    "slideshow": {
     "slide_type": "-"
    }
   },
   "outputs": [],
   "source": [
    "# Kelvin to Celsius\n",
    "def kelvin_to_celsius(temp):\n",
    "    return temp - 273.15\n",
    "\n",
    "# Meters per second to knots\n",
    "def mps_to_knots(speed):\n",
    "    return speed * 1.943844"
   ]
  },
  {
   "cell_type": "markdown",
   "metadata": {
    "slideshow": {
     "slide_type": "slide"
    }
   },
   "source": [
    "## Print some weather properties"
   ]
  },
  {
   "cell_type": "code",
   "execution_count": 6,
   "metadata": {
    "slideshow": {
     "slide_type": "-"
    }
   },
   "outputs": [
    {
     "name": "stdout",
     "output_type": "stream",
     "text": [
      "The current temperature in Ski is -4.3°C\n"
     ]
    }
   ],
   "source": [
    "# Current temperature\n",
    "temp_kelvin = response['main']['temp']\n",
    "temp_celsius = kelvin_to_celsius(temp_kelvin)\n",
    "print(f\"The current temperature in {CITY} is {temp_celsius:.1f}°C\")"
   ]
  },
  {
   "cell_type": "code",
   "execution_count": 7,
   "metadata": {
    "slideshow": {
     "slide_type": "slide"
    }
   },
   "outputs": [
    {
     "name": "stdout",
     "output_type": "stream",
     "text": [
      "Sunrise today is at 08:21 and sunset is at 15:42\n"
     ]
    }
   ],
   "source": [
    "# Sunrise and sunset today in local time\n",
    "sunrise = dt.datetime.fromtimestamp(response['sys']['sunrise'])\n",
    "sunset = dt.datetime.fromtimestamp(response['sys']['sunset'])\n",
    "print(f\"Sunrise today is at {sunrise:%H:%M} and sunset is at {sunset:%H:%M}\")"
   ]
  },
  {
   "cell_type": "code",
   "execution_count": 8,
   "metadata": {
    "slideshow": {
     "slide_type": "fragment"
    }
   },
   "outputs": [
    {
     "name": "stdout",
     "output_type": "stream",
     "text": [
      "Wind today is from 18° at 5.9 knots\n"
     ]
    }
   ],
   "source": [
    "# Wind direction and speed\n",
    "wind_knots = mps_to_knots(response['wind']['speed'])\n",
    "print(f\"Wind today is from {response['wind']['deg']}° at {round(wind_knots,1)} knots\")"
   ]
  },
  {
   "cell_type": "markdown",
   "metadata": {
    "slideshow": {
     "slide_type": "slide"
    }
   },
   "source": [
    "## Forecasted weather\n",
    "### Common definitions to use for all requests"
   ]
  },
  {
   "cell_type": "code",
   "execution_count": 9,
   "metadata": {
    "slideshow": {
     "slide_type": "-"
    }
   },
   "outputs": [],
   "source": [
    "BASE_URL = \"http://api.openweathermap.org/data/2.5/forecast?\"\n",
    "CITY = \"Noresund\"\n",
    "\n",
    "urlF = BASE_URL + \"q=\" + CITY + \"&appid=\" + API_KEY"
   ]
  },
  {
   "cell_type": "markdown",
   "metadata": {
    "slideshow": {
     "slide_type": "slide"
    }
   },
   "source": [
    "## Request forecasted weather in chosen city"
   ]
  },
  {
   "cell_type": "code",
   "execution_count": 10,
   "metadata": {
    "slideshow": {
     "slide_type": "-"
    }
   },
   "outputs": [
    {
     "name": "stdout",
     "output_type": "stream",
     "text": [
      "{'cod': '200', 'message': 0, 'cnt': 40, 'list': [{'dt': 1700416800, 'main': {'temp': 266.02, 'feels_like': 263.34, 'temp_min': 266.02, 'temp_max': 266.13, 'pressure': 1012, 'sea_level': 1012, 'grnd_level': 993, 'humidity': 91, 'temp_kf': -0.11}, 'weather': [{'id': 804, 'main': 'Clouds', 'description': 'overcast clouds', 'icon': '04n'}], 'clouds': {'all': 97}, 'wind': {'speed': 1.46, 'deg': 332, 'gust': 1.68}, 'visibility': 10000, 'pop': 0, 'sys': {'pod': 'n'}, 'dt_txt': '2023-11-19 18:00:00'}, {'dt': 1700427600, 'main': {'temp': 265.97, 'feels_like': 265.97, 'temp_min': 265.97, 'temp_max': 265.98, 'pressure': 1013, 'sea_level': 1013, 'grnd_level': 994, 'humidity': 89, 'temp_kf': -0.01}, 'weather': [{'id': 804, 'main': 'Clouds', 'description': 'overcast clouds', 'icon': '04n'}], 'clouds': {'all': 99}, 'wind': {'speed': 1.12, 'deg': 340, 'gust': 1.2}, 'visibility': 10000, 'pop': 0.01, 'sys': {'pod': 'n'}, 'dt_txt': '2023-11-19 21:00:00'}, {'dt': 1700438400, 'main': {'temp': 266.4, 'feels_like': 266.4, 'temp_min': 266.4, 'temp_max': 266.4, 'pressure': 1013, 'sea_level': 1013, 'grnd_level': 994, 'humidity': 88, 'temp_kf': 0}, 'weather': [{'id': 804, 'main': 'Clouds', 'description': 'overcast clouds', 'icon': '04n'}], 'clouds': {'all': 100}, 'wind': {'speed': 1.03, 'deg': 342, 'gust': 1.1}, 'visibility': 10000, 'pop': 0.01, 'sys': {'pod': 'n'}, 'dt_txt': '2023-11-20 00:00:00'}, {'dt': 1700449200, 'main': {'temp': 266.07, 'feels_like': 266.07, 'temp_min': 266.07, 'temp_max': 266.07, 'pressure': 1014, 'sea_level': 1014, 'grnd_level': 994, 'humidity': 91, 'temp_kf': 0}, 'weather': [{'id': 804, 'main': 'Clouds', 'description': 'overcast clouds', 'icon': '04n'}], 'clouds': {'all': 100}, 'wind': {'speed': 1.01, 'deg': 343, 'gust': 1.15}, 'visibility': 10000, 'pop': 0.03, 'sys': {'pod': 'n'}, 'dt_txt': '2023-11-20 03:00:00'}, {'dt': 1700460000, 'main': {'temp': 266.58, 'feels_like': 266.58, 'temp_min': 266.58, 'temp_max': 266.58, 'pressure': 1014, 'sea_level': 1014, 'grnd_level': 995, 'humidity': 91, 'temp_kf': 0}, 'weather': [{'id': 804, 'main': 'Clouds', 'description': 'overcast clouds', 'icon': '04n'}], 'clouds': {'all': 100}, 'wind': {'speed': 0.93, 'deg': 354, 'gust': 1.11}, 'visibility': 4124, 'pop': 0, 'sys': {'pod': 'n'}, 'dt_txt': '2023-11-20 06:00:00'}, {'dt': 1700470800, 'main': {'temp': 267.09, 'feels_like': 267.09, 'temp_min': 267.09, 'temp_max': 267.09, 'pressure': 1016, 'sea_level': 1016, 'grnd_level': 996, 'humidity': 90, 'temp_kf': 0}, 'weather': [{'id': 804, 'main': 'Clouds', 'description': 'overcast clouds', 'icon': '04d'}], 'clouds': {'all': 100}, 'wind': {'speed': 1, 'deg': 2, 'gust': 1.35}, 'visibility': 5932, 'pop': 0, 'sys': {'pod': 'd'}, 'dt_txt': '2023-11-20 09:00:00'}, {'dt': 1700481600, 'main': {'temp': 269.14, 'feels_like': 269.14, 'temp_min': 269.14, 'temp_max': 269.14, 'pressure': 1016, 'sea_level': 1016, 'grnd_level': 997, 'humidity': 87, 'temp_kf': 0}, 'weather': [{'id': 804, 'main': 'Clouds', 'description': 'overcast clouds', 'icon': '04d'}], 'clouds': {'all': 100}, 'wind': {'speed': 0.7, 'deg': 45, 'gust': 0.92}, 'visibility': 10000, 'pop': 0, 'sys': {'pod': 'd'}, 'dt_txt': '2023-11-20 12:00:00'}, {'dt': 1700492400, 'main': {'temp': 266.17, 'feels_like': 266.17, 'temp_min': 266.17, 'temp_max': 266.17, 'pressure': 1018, 'sea_level': 1018, 'grnd_level': 998, 'humidity': 93, 'temp_kf': 0}, 'weather': [{'id': 804, 'main': 'Clouds', 'description': 'overcast clouds', 'icon': '04n'}], 'clouds': {'all': 98}, 'wind': {'speed': 1.23, 'deg': 356, 'gust': 1.3}, 'visibility': 5464, 'pop': 0, 'sys': {'pod': 'n'}, 'dt_txt': '2023-11-20 15:00:00'}, {'dt': 1700503200, 'main': {'temp': 265.05, 'feels_like': 262.18, 'temp_min': 265.05, 'temp_max': 265.05, 'pressure': 1020, 'sea_level': 1020, 'grnd_level': 1001, 'humidity': 91, 'temp_kf': 0}, 'weather': [{'id': 804, 'main': 'Clouds', 'description': 'overcast clouds', 'icon': '04n'}], 'clouds': {'all': 93}, 'wind': {'speed': 1.49, 'deg': 338, 'gust': 1.63}, 'visibility': 9354, 'pop': 0, 'sys': {'pod': 'n'}, 'dt_txt': '2023-11-20 18:00:00'}, {'dt': 1700514000, 'main': {'temp': 265.78, 'feels_like': 265.78, 'temp_min': 265.78, 'temp_max': 265.78, 'pressure': 1022, 'sea_level': 1022, 'grnd_level': 1003, 'humidity': 90, 'temp_kf': 0}, 'weather': [{'id': 804, 'main': 'Clouds', 'description': 'overcast clouds', 'icon': '04n'}], 'clouds': {'all': 98}, 'wind': {'speed': 1.27, 'deg': 347, 'gust': 1.91}, 'visibility': 8275, 'pop': 0, 'sys': {'pod': 'n'}, 'dt_txt': '2023-11-20 21:00:00'}, {'dt': 1700524800, 'main': {'temp': 265.39, 'feels_like': 265.39, 'temp_min': 265.39, 'temp_max': 265.39, 'pressure': 1024, 'sea_level': 1024, 'grnd_level': 1004, 'humidity': 90, 'temp_kf': 0}, 'weather': [{'id': 804, 'main': 'Clouds', 'description': 'overcast clouds', 'icon': '04n'}], 'clouds': {'all': 96}, 'wind': {'speed': 1.27, 'deg': 345, 'gust': 1.81}, 'visibility': 7372, 'pop': 0, 'sys': {'pod': 'n'}, 'dt_txt': '2023-11-21 00:00:00'}, {'dt': 1700535600, 'main': {'temp': 265, 'feels_like': 262.44, 'temp_min': 265, 'temp_max': 265, 'pressure': 1025, 'sea_level': 1025, 'grnd_level': 1005, 'humidity': 90, 'temp_kf': 0}, 'weather': [{'id': 804, 'main': 'Clouds', 'description': 'overcast clouds', 'icon': '04n'}], 'clouds': {'all': 93}, 'wind': {'speed': 1.34, 'deg': 342, 'gust': 1.95}, 'visibility': 9828, 'pop': 0, 'sys': {'pod': 'n'}, 'dt_txt': '2023-11-21 03:00:00'}, {'dt': 1700546400, 'main': {'temp': 263.93, 'feels_like': 260.94, 'temp_min': 263.93, 'temp_max': 263.93, 'pressure': 1027, 'sea_level': 1027, 'grnd_level': 1007, 'humidity': 89, 'temp_kf': 0}, 'weather': [{'id': 804, 'main': 'Clouds', 'description': 'overcast clouds', 'icon': '04n'}], 'clouds': {'all': 89}, 'wind': {'speed': 1.47, 'deg': 336, 'gust': 2.03}, 'visibility': 10000, 'pop': 0, 'sys': {'pod': 'n'}, 'dt_txt': '2023-11-21 06:00:00'}, {'dt': 1700557200, 'main': {'temp': 264.48, 'feels_like': 264.48, 'temp_min': 264.48, 'temp_max': 264.48, 'pressure': 1029, 'sea_level': 1029, 'grnd_level': 1009, 'humidity': 87, 'temp_kf': 0}, 'weather': [{'id': 804, 'main': 'Clouds', 'description': 'overcast clouds', 'icon': '04d'}], 'clouds': {'all': 85}, 'wind': {'speed': 1.09, 'deg': 334, 'gust': 1.45}, 'visibility': 10000, 'pop': 0, 'sys': {'pod': 'd'}, 'dt_txt': '2023-11-21 09:00:00'}, {'dt': 1700568000, 'main': {'temp': 267.19, 'feels_like': 267.19, 'temp_min': 267.19, 'temp_max': 267.19, 'pressure': 1029, 'sea_level': 1029, 'grnd_level': 1009, 'humidity': 85, 'temp_kf': 0}, 'weather': [{'id': 803, 'main': 'Clouds', 'description': 'broken clouds', 'icon': '04d'}], 'clouds': {'all': 81}, 'wind': {'speed': 0.09, 'deg': 79, 'gust': 0.47}, 'visibility': 10000, 'pop': 0, 'sys': {'pod': 'd'}, 'dt_txt': '2023-11-21 12:00:00'}, {'dt': 1700578800, 'main': {'temp': 263.53, 'feels_like': 263.53, 'temp_min': 263.53, 'temp_max': 263.53, 'pressure': 1030, 'sea_level': 1030, 'grnd_level': 1010, 'humidity': 92, 'temp_kf': 0}, 'weather': [{'id': 803, 'main': 'Clouds', 'description': 'broken clouds', 'icon': '04n'}], 'clouds': {'all': 69}, 'wind': {'speed': 0.82, 'deg': 310, 'gust': 0.69}, 'visibility': 10000, 'pop': 0, 'sys': {'pod': 'n'}, 'dt_txt': '2023-11-21 15:00:00'}, {'dt': 1700589600, 'main': {'temp': 262.38, 'feels_like': 262.38, 'temp_min': 262.38, 'temp_max': 262.38, 'pressure': 1031, 'sea_level': 1031, 'grnd_level': 1011, 'humidity': 93, 'temp_kf': 0}, 'weather': [{'id': 803, 'main': 'Clouds', 'description': 'broken clouds', 'icon': '04n'}], 'clouds': {'all': 75}, 'wind': {'speed': 1.13, 'deg': 301, 'gust': 0.9}, 'visibility': 9613, 'pop': 0, 'sys': {'pod': 'n'}, 'dt_txt': '2023-11-21 18:00:00'}, {'dt': 1700600400, 'main': {'temp': 262.8, 'feels_like': 262.8, 'temp_min': 262.8, 'temp_max': 262.8, 'pressure': 1030, 'sea_level': 1030, 'grnd_level': 1010, 'humidity': 94, 'temp_kf': 0}, 'weather': [{'id': 804, 'main': 'Clouds', 'description': 'overcast clouds', 'icon': '04n'}], 'clouds': {'all': 96}, 'wind': {'speed': 1, 'deg': 282, 'gust': 1.07}, 'visibility': 1962, 'pop': 0, 'sys': {'pod': 'n'}, 'dt_txt': '2023-11-21 21:00:00'}, {'dt': 1700611200, 'main': {'temp': 263.45, 'feels_like': 263.45, 'temp_min': 263.45, 'temp_max': 263.45, 'pressure': 1028, 'sea_level': 1028, 'grnd_level': 1009, 'humidity': 93, 'temp_kf': 0}, 'weather': [{'id': 804, 'main': 'Clouds', 'description': 'overcast clouds', 'icon': '04n'}], 'clouds': {'all': 98}, 'wind': {'speed': 0.8, 'deg': 279, 'gust': 0.87}, 'visibility': 3952, 'pop': 0, 'sys': {'pod': 'n'}, 'dt_txt': '2023-11-22 00:00:00'}, {'dt': 1700622000, 'main': {'temp': 265.14, 'feels_like': 265.14, 'temp_min': 265.14, 'temp_max': 265.14, 'pressure': 1025, 'sea_level': 1025, 'grnd_level': 1005, 'humidity': 91, 'temp_kf': 0}, 'weather': [{'id': 804, 'main': 'Clouds', 'description': 'overcast clouds', 'icon': '04n'}], 'clouds': {'all': 100}, 'wind': {'speed': 0.85, 'deg': 199, 'gust': 1.22}, 'visibility': 10000, 'pop': 0, 'sys': {'pod': 'n'}, 'dt_txt': '2023-11-22 03:00:00'}, {'dt': 1700632800, 'main': {'temp': 267.49, 'feels_like': 267.49, 'temp_min': 267.49, 'temp_max': 267.49, 'pressure': 1021, 'sea_level': 1021, 'grnd_level': 1002, 'humidity': 88, 'temp_kf': 0}, 'weather': [{'id': 804, 'main': 'Clouds', 'description': 'overcast clouds', 'icon': '04n'}], 'clouds': {'all': 100}, 'wind': {'speed': 0.84, 'deg': 223, 'gust': 1.21}, 'visibility': 10000, 'pop': 0, 'sys': {'pod': 'n'}, 'dt_txt': '2023-11-22 06:00:00'}, {'dt': 1700643600, 'main': {'temp': 268.96, 'feels_like': 266.37, 'temp_min': 268.96, 'temp_max': 268.96, 'pressure': 1016, 'sea_level': 1016, 'grnd_level': 997, 'humidity': 89, 'temp_kf': 0}, 'weather': [{'id': 804, 'main': 'Clouds', 'description': 'overcast clouds', 'icon': '04d'}], 'clouds': {'all': 100}, 'wind': {'speed': 1.64, 'deg': 192, 'gust': 2.85}, 'visibility': 10000, 'pop': 0, 'sys': {'pod': 'd'}, 'dt_txt': '2023-11-22 09:00:00'}, {'dt': 1700654400, 'main': {'temp': 270.98, 'feels_like': 267.9, 'temp_min': 270.98, 'temp_max': 270.98, 'pressure': 1009, 'sea_level': 1009, 'grnd_level': 990, 'humidity': 92, 'temp_kf': 0}, 'weather': [{'id': 804, 'main': 'Clouds', 'description': 'overcast clouds', 'icon': '04d'}], 'clouds': {'all': 100}, 'wind': {'speed': 2.21, 'deg': 191, 'gust': 4.3}, 'visibility': 10000, 'pop': 0, 'sys': {'pod': 'd'}, 'dt_txt': '2023-11-22 12:00:00'}, {'dt': 1700665200, 'main': {'temp': 270.74, 'feels_like': 270.74, 'temp_min': 270.74, 'temp_max': 270.74, 'pressure': 1004, 'sea_level': 1004, 'grnd_level': 985, 'humidity': 99, 'temp_kf': 0}, 'weather': [{'id': 804, 'main': 'Clouds', 'description': 'overcast clouds', 'icon': '04n'}], 'clouds': {'all': 100}, 'wind': {'speed': 1.07, 'deg': 225, 'gust': 1.69}, 'visibility': 10000, 'pop': 0, 'sys': {'pod': 'n'}, 'dt_txt': '2023-11-22 15:00:00'}, {'dt': 1700676000, 'main': {'temp': 275.6, 'feels_like': 273.63, 'temp_min': 275.6, 'temp_max': 275.6, 'pressure': 1000, 'sea_level': 1000, 'grnd_level': 982, 'humidity': 90, 'temp_kf': 0}, 'weather': [{'id': 804, 'main': 'Clouds', 'description': 'overcast clouds', 'icon': '04n'}], 'clouds': {'all': 100}, 'wind': {'speed': 1.93, 'deg': 265, 'gust': 3.04}, 'visibility': 10000, 'pop': 0, 'sys': {'pod': 'n'}, 'dt_txt': '2023-11-22 18:00:00'}, {'dt': 1700686800, 'main': {'temp': 275.05, 'feels_like': 272.68, 'temp_min': 275.05, 'temp_max': 275.05, 'pressure': 999, 'sea_level': 999, 'grnd_level': 981, 'humidity': 85, 'temp_kf': 0}, 'weather': [{'id': 804, 'main': 'Clouds', 'description': 'overcast clouds', 'icon': '04n'}], 'clouds': {'all': 100}, 'wind': {'speed': 2.2, 'deg': 280, 'gust': 3.69}, 'visibility': 10000, 'pop': 0, 'sys': {'pod': 'n'}, 'dt_txt': '2023-11-22 21:00:00'}, {'dt': 1700697600, 'main': {'temp': 274.12, 'feels_like': 270.97, 'temp_min': 274.12, 'temp_max': 274.12, 'pressure': 998, 'sea_level': 998, 'grnd_level': 980, 'humidity': 82, 'temp_kf': 0}, 'weather': [{'id': 803, 'main': 'Clouds', 'description': 'broken clouds', 'icon': '04n'}], 'clouds': {'all': 66}, 'wind': {'speed': 2.82, 'deg': 294, 'gust': 5.95}, 'visibility': 10000, 'pop': 0.01, 'sys': {'pod': 'n'}, 'dt_txt': '2023-11-23 00:00:00'}, {'dt': 1700708400, 'main': {'temp': 272.86, 'feels_like': 270.36, 'temp_min': 272.86, 'temp_max': 272.86, 'pressure': 996, 'sea_level': 996, 'grnd_level': 978, 'humidity': 87, 'temp_kf': 0}, 'weather': [{'id': 803, 'main': 'Clouds', 'description': 'broken clouds', 'icon': '04n'}], 'clouds': {'all': 53}, 'wind': {'speed': 2, 'deg': 258, 'gust': 3.31}, 'visibility': 10000, 'pop': 0, 'sys': {'pod': 'n'}, 'dt_txt': '2023-11-23 03:00:00'}, {'dt': 1700719200, 'main': {'temp': 272.29, 'feels_like': 269.97, 'temp_min': 272.29, 'temp_max': 272.29, 'pressure': 993, 'sea_level': 993, 'grnd_level': 975, 'humidity': 88, 'temp_kf': 0}, 'weather': [{'id': 802, 'main': 'Clouds', 'description': 'scattered clouds', 'icon': '03n'}], 'clouds': {'all': 37}, 'wind': {'speed': 1.79, 'deg': 256, 'gust': 2.38}, 'visibility': 10000, 'pop': 0, 'sys': {'pod': 'n'}, 'dt_txt': '2023-11-23 06:00:00'}, {'dt': 1700730000, 'main': {'temp': 271.94, 'feels_like': 269.64, 'temp_min': 271.94, 'temp_max': 271.94, 'pressure': 990, 'sea_level': 990, 'grnd_level': 972, 'humidity': 89, 'temp_kf': 0}, 'weather': [{'id': 801, 'main': 'Clouds', 'description': 'few clouds', 'icon': '02d'}], 'clouds': {'all': 21}, 'wind': {'speed': 1.74, 'deg': 251, 'gust': 2.16}, 'visibility': 10000, 'pop': 0, 'sys': {'pod': 'd'}, 'dt_txt': '2023-11-23 09:00:00'}, {'dt': 1700740800, 'main': {'temp': 275.57, 'feels_like': 273.01, 'temp_min': 275.57, 'temp_max': 275.57, 'pressure': 986, 'sea_level': 986, 'grnd_level': 967, 'humidity': 87, 'temp_kf': 0}, 'weather': [{'id': 802, 'main': 'Clouds', 'description': 'scattered clouds', 'icon': '03d'}], 'clouds': {'all': 44}, 'wind': {'speed': 2.48, 'deg': 238, 'gust': 8.29}, 'visibility': 10000, 'pop': 0.06, 'sys': {'pod': 'd'}, 'dt_txt': '2023-11-23 12:00:00'}, {'dt': 1700751600, 'main': {'temp': 275.99, 'feels_like': 271.68, 'temp_min': 275.99, 'temp_max': 275.99, 'pressure': 984, 'sea_level': 984, 'grnd_level': 966, 'humidity': 65, 'temp_kf': 0}, 'weather': [{'id': 803, 'main': 'Clouds', 'description': 'broken clouds', 'icon': '04n'}], 'clouds': {'all': 56}, 'wind': {'speed': 5.21, 'deg': 287, 'gust': 14.58}, 'visibility': 10000, 'pop': 0.11, 'sys': {'pod': 'n'}, 'dt_txt': '2023-11-23 15:00:00'}, {'dt': 1700762400, 'main': {'temp': 273.32, 'feels_like': 268.56, 'temp_min': 273.32, 'temp_max': 273.32, 'pressure': 985, 'sea_level': 985, 'grnd_level': 967, 'humidity': 61, 'temp_kf': 0}, 'weather': [{'id': 802, 'main': 'Clouds', 'description': 'scattered clouds', 'icon': '03n'}], 'clouds': {'all': 28}, 'wind': {'speed': 4.8, 'deg': 293, 'gust': 12.68}, 'visibility': 10000, 'pop': 0.01, 'sys': {'pod': 'n'}, 'dt_txt': '2023-11-23 18:00:00'}, {'dt': 1700773200, 'main': {'temp': 270.92, 'feels_like': 265.8, 'temp_min': 270.92, 'temp_max': 270.92, 'pressure': 988, 'sea_level': 988, 'grnd_level': 969, 'humidity': 61, 'temp_kf': 0}, 'weather': [{'id': 800, 'main': 'Clear', 'description': 'clear sky', 'icon': '01n'}], 'clouds': {'all': 0}, 'wind': {'speed': 4.46, 'deg': 297, 'gust': 12.72}, 'visibility': 10000, 'pop': 0, 'sys': {'pod': 'n'}, 'dt_txt': '2023-11-23 21:00:00'}, {'dt': 1700784000, 'main': {'temp': 267.82, 'feels_like': 263.75, 'temp_min': 267.82, 'temp_max': 267.82, 'pressure': 989, 'sea_level': 989, 'grnd_level': 971, 'humidity': 72, 'temp_kf': 0}, 'weather': [{'id': 800, 'main': 'Clear', 'description': 'clear sky', 'icon': '01n'}], 'clouds': {'all': 6}, 'wind': {'speed': 2.55, 'deg': 296, 'gust': 4.15}, 'visibility': 10000, 'pop': 0, 'sys': {'pod': 'n'}, 'dt_txt': '2023-11-24 00:00:00'}, {'dt': 1700794800, 'main': {'temp': 267.25, 'feels_like': 263.37, 'temp_min': 267.25, 'temp_max': 267.25, 'pressure': 990, 'sea_level': 990, 'grnd_level': 971, 'humidity': 77, 'temp_kf': 0}, 'weather': [{'id': 803, 'main': 'Clouds', 'description': 'broken clouds', 'icon': '04n'}], 'clouds': {'all': 73}, 'wind': {'speed': 2.32, 'deg': 292, 'gust': 3.07}, 'visibility': 10000, 'pop': 0, 'sys': {'pod': 'n'}, 'dt_txt': '2023-11-24 03:00:00'}, {'dt': 1700805600, 'main': {'temp': 268.27, 'feels_like': 265.3, 'temp_min': 268.27, 'temp_max': 268.27, 'pressure': 989, 'sea_level': 989, 'grnd_level': 971, 'humidity': 77, 'temp_kf': 0}, 'weather': [{'id': 804, 'main': 'Clouds', 'description': 'overcast clouds', 'icon': '04n'}], 'clouds': {'all': 85}, 'wind': {'speed': 1.81, 'deg': 288, 'gust': 1.5}, 'visibility': 10000, 'pop': 0, 'sys': {'pod': 'n'}, 'dt_txt': '2023-11-24 06:00:00'}, {'dt': 1700816400, 'main': {'temp': 268.32, 'feels_like': 265.22, 'temp_min': 268.32, 'temp_max': 268.32, 'pressure': 990, 'sea_level': 990, 'grnd_level': 972, 'humidity': 80, 'temp_kf': 0}, 'weather': [{'id': 804, 'main': 'Clouds', 'description': 'overcast clouds', 'icon': '04d'}], 'clouds': {'all': 100}, 'wind': {'speed': 1.9, 'deg': 319, 'gust': 3.31}, 'visibility': 10000, 'pop': 0, 'sys': {'pod': 'd'}, 'dt_txt': '2023-11-24 09:00:00'}, {'dt': 1700827200, 'main': {'temp': 269.48, 'feels_like': 266.06, 'temp_min': 269.48, 'temp_max': 269.48, 'pressure': 992, 'sea_level': 992, 'grnd_level': 973, 'humidity': 75, 'temp_kf': 0}, 'weather': [{'id': 804, 'main': 'Clouds', 'description': 'overcast clouds', 'icon': '04d'}], 'clouds': {'all': 97}, 'wind': {'speed': 2.27, 'deg': 322, 'gust': 5.17}, 'visibility': 10000, 'pop': 0, 'sys': {'pod': 'd'}, 'dt_txt': '2023-11-24 12:00:00'}, {'dt': 1700838000, 'main': {'temp': 266.21, 'feels_like': 262.09, 'temp_min': 266.21, 'temp_max': 266.21, 'pressure': 993, 'sea_level': 993, 'grnd_level': 974, 'humidity': 80, 'temp_kf': 0}, 'weather': [{'id': 803, 'main': 'Clouds', 'description': 'broken clouds', 'icon': '04n'}], 'clouds': {'all': 54}, 'wind': {'speed': 2.36, 'deg': 311, 'gust': 3.54}, 'visibility': 10000, 'pop': 0, 'sys': {'pod': 'n'}, 'dt_txt': '2023-11-24 15:00:00'}], 'city': {'id': 3144113, 'name': 'Noresund', 'coord': {'lat': 60.1803, 'lon': 9.6231}, 'country': 'NO', 'population': 1000, 'timezone': 3600, 'sunrise': 1700378972, 'sunset': 1700405062}}\n"
     ]
    }
   ],
   "source": [
    "responseF = requests.get(urlF).json()\n",
    "print(responseF)"
   ]
  },
  {
   "cell_type": "code",
   "execution_count": 11,
   "metadata": {
    "slideshow": {
     "slide_type": "slide"
    }
   },
   "outputs": [],
   "source": [
    "# Write JSON to file for viewing\n",
    "with open('downloads/forecast.json', 'w') as f:\n",
    "    json.dump(responseF, f, indent=4)"
   ]
  },
  {
   "cell_type": "markdown",
   "metadata": {
    "slideshow": {
     "slide_type": "slide"
    }
   },
   "source": [
    "### When and what?\n",
    "Check contents and time stamps"
   ]
  },
  {
   "cell_type": "code",
   "execution_count": 12,
   "metadata": {
    "slideshow": {
     "slide_type": "-"
    }
   },
   "outputs": [
    {
     "data": {
      "text/plain": [
       "dict_keys(['cod', 'message', 'cnt', 'list', 'city'])"
      ]
     },
     "execution_count": 12,
     "metadata": {},
     "output_type": "execute_result"
    }
   ],
   "source": [
    "# Content of responseF\n",
    "responseF.keys()"
   ]
  },
  {
   "cell_type": "code",
   "execution_count": 13,
   "metadata": {
    "slideshow": {
     "slide_type": "fragment"
    }
   },
   "outputs": [
    {
     "name": "stdout",
     "output_type": "stream",
     "text": [
      "40\n"
     ]
    }
   ],
   "source": [
    "# Number of forecasts\n",
    "print(len(responseF[\"list\"]))"
   ]
  },
  {
   "cell_type": "code",
   "execution_count": 14,
   "metadata": {
    "scrolled": true,
    "slideshow": {
     "slide_type": "slide"
    }
   },
   "outputs": [
    {
     "name": "stdout",
     "output_type": "stream",
     "text": [
      "2023-11-19 18:00:00\n",
      "2023-11-19 21:00:00\n",
      "2023-11-20 00:00:00\n",
      "2023-11-20 03:00:00\n",
      "2023-11-20 06:00:00\n",
      "2023-11-20 09:00:00\n",
      "2023-11-20 12:00:00\n",
      "2023-11-20 15:00:00\n",
      "2023-11-20 18:00:00\n",
      "2023-11-20 21:00:00\n",
      "2023-11-21 00:00:00\n",
      "2023-11-21 03:00:00\n",
      "2023-11-21 06:00:00\n",
      "2023-11-21 09:00:00\n",
      "2023-11-21 12:00:00\n",
      "2023-11-21 15:00:00\n",
      "2023-11-21 18:00:00\n",
      "2023-11-21 21:00:00\n",
      "2023-11-22 00:00:00\n",
      "2023-11-22 03:00:00\n",
      "2023-11-22 06:00:00\n",
      "2023-11-22 09:00:00\n",
      "2023-11-22 12:00:00\n",
      "2023-11-22 15:00:00\n",
      "2023-11-22 18:00:00\n",
      "2023-11-22 21:00:00\n",
      "2023-11-23 00:00:00\n",
      "2023-11-23 03:00:00\n",
      "2023-11-23 06:00:00\n",
      "2023-11-23 09:00:00\n",
      "2023-11-23 12:00:00\n",
      "2023-11-23 15:00:00\n",
      "2023-11-23 18:00:00\n",
      "2023-11-23 21:00:00\n",
      "2023-11-24 00:00:00\n",
      "2023-11-24 03:00:00\n",
      "2023-11-24 06:00:00\n",
      "2023-11-24 09:00:00\n",
      "2023-11-24 12:00:00\n",
      "2023-11-24 15:00:00\n"
     ]
    }
   ],
   "source": [
    "# Print forecast times\n",
    "for forecast in responseF[\"list\"]:\n",
    "    print(forecast[\"dt_txt\"])"
   ]
  },
  {
   "cell_type": "markdown",
   "metadata": {
    "slideshow": {
     "slide_type": "slide"
    }
   },
   "source": [
    "## Make plots of omnipresent measurements and events\n",
    "We will later look at missing data, data only sporadically appearing and so on."
   ]
  },
  {
   "cell_type": "code",
   "execution_count": 15,
   "metadata": {
    "slideshow": {
     "slide_type": "-"
    }
   },
   "outputs": [],
   "source": [
    "# Air pressure per period\n",
    "pressures = []\n",
    "timestamps = []\n",
    "for forecast in responseF[\"list\"]:\n",
    "    pressures.append(forecast[\"main\"][\"pressure\"])\n",
    "    timestamps.append(dt.datetime.fromtimestamp(forecast[\"dt\"]))"
   ]
  },
  {
   "cell_type": "code",
   "execution_count": 16,
   "metadata": {
    "slideshow": {
     "slide_type": "slide"
    }
   },
   "outputs": [
    {
     "data": {
      "image/png": "[encoded data removed]",
      "text/plain": [
       "<Figure size 640x480 with 1 Axes>"
      ]
     },
     "metadata": {},
     "output_type": "display_data"
    }
   ],
   "source": [
    "import matplotlib.pyplot as plt\n",
    "plt.bar(timestamps, pressures)\n",
    "plt.xticks(rotation=45)\n",
    "plt.ylim(950, 1050)\n",
    "plt.grid()\n",
    "plt.ylabel(\"Air pressure (hPa)\")\n",
    "plt.title(f\"Forecasted air pressure in {CITY}\")\n",
    "plt.show()"
   ]
  },
  {
   "cell_type": "markdown",
   "metadata": {
    "slideshow": {
     "slide_type": "slide"
    }
   },
   "source": [
    "## Exercise\n",
    "- Make a new forecast request for your own hometown. Call your response something else than responseF.\n",
    "- If available, plot the humidity like we did with air pressure."
   ]
  },
  {
   "cell_type": "markdown",
   "metadata": {
    "slideshow": {
     "slide_type": "slide"
    }
   },
   "source": [
    "### Precipitation\n",
    "- ... comes in two main flavours: rain and snow.\n",
    "- We need to check which is present and set to zero if it is abscent."
   ]
  },
  {
   "cell_type": "code",
   "execution_count": 17,
   "metadata": {
    "slideshow": {
     "slide_type": "-"
    }
   },
   "outputs": [],
   "source": [
    "rain = []\n",
    "snow = []\n",
    "for forecast in responseF[\"list\"]:\n",
    "    try: # Check if rain is present in forecast\n",
    "        rain.append(forecast[\"rain\"][\"3h\"])\n",
    "    except KeyError:\n",
    "        rain.append(0)\n",
    "    try: # Check if snow is present in forecast\n",
    "        snow.append(forecast[\"snow\"][\"3h\"])\n",
    "    except KeyError:\n",
    "        snow.append(0)"
   ]
  },
  {
   "cell_type": "code",
   "execution_count": 18,
   "metadata": {
    "slideshow": {
     "slide_type": "slide"
    }
   },
   "outputs": [
    {
     "data": {
      "image/png": "[encoded data removed]",
      "text/plain": [
       "<Figure size 640x480 with 1 Axes>"
      ]
     },
     "metadata": {},
     "output_type": "display_data"
    }
   ],
   "source": [
    "# Stacked bar chart with rain and snow\n",
    "plt.bar(timestamps, rain, label=\"Rain\")\n",
    "plt.bar(timestamps, snow, label=\"Snow\")\n",
    "plt.xticks(rotation=45)\n",
    "plt.grid()\n",
    "plt.ylabel(\"Precipitation (mm)\")\n",
    "plt.title(f\"Forecasted precipitation in {CITY}\")\n",
    "plt.legend()\n",
    "plt.show()\n"
   ]
  },
  {
   "cell_type": "markdown",
   "metadata": {
    "slideshow": {
     "slide_type": "slide"
    }
   },
   "source": [
    "```{seealso} Resources\n",
    ":class: tip\n",
    "- [YouTube: NeuralNine's video (15m:32s)](https://www.youtube.com/watch?v=9P5MY_2i7K8)\n",
    "```"
   ]
  }
 ],
 "metadata": {
  "celltoolbar": "Slideshow",
  "kernelspec": {
   "display_name": "Python 3 (ipykernel)",
   "language": "python",
   "name": "python3"
  },
  "language_info": {
   "codemirror_mode": {
    "name": "ipython",
    "version": 3
   },
   "file_extension": ".py",
   "mimetype": "text/x-python",
   "name": "python",
   "nbconvert_exporter": "python",
   "pygments_lexer": "ipython3",
   "version": "3.11.6"
  }
 },
 "nbformat": 4,
 "nbformat_minor": 2
}