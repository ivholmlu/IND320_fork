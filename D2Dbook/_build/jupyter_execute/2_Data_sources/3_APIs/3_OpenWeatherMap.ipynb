{
 "cells": [
  {
   "cell_type": "markdown",
   "metadata": {
    "slideshow": {
     "slide_type": "slide"
    }
   },
   "source": [
    "# Demonstration of API using OpenWeatherMap.org\n",
    "This demonstration is heavily inspired by [NeuralNine's video](https://www.youtube.com/watch?v=9P5MY_2i7K8).  \n",
    "You need a free account [from here](https://openweathermap.org/api).  \n",
    "The VS Code extension _JSON viewer_ is recommended for viewing downloaded JSON content.  \n",
    "  - Set your maximum API calls to 1000 per day to make sure you are under the limit for billing. \n",
    "  - To run the examples, download your API key, save it in the right folder (see below) in a file called _api\\_key\\_OpenWeather_, containing only the key (no spaces or \"enters\")."
   ]
  },
  {
   "cell_type": "code",
   "execution_count": 1,
   "metadata": {
    "slideshow": {
     "slide_type": "fragment"
    }
   },
   "outputs": [],
   "source": [
    "# Imports\n",
    "import datetime as dt\n",
    "import requests\n",
    "import json"
   ]
  },
  {
   "cell_type": "markdown",
   "metadata": {
    "slideshow": {
     "slide_type": "slide"
    }
   },
   "source": [
    "## Current weather\n",
    "### Common definitions to use for all requests"
   ]
  },
  {
   "cell_type": "code",
   "execution_count": 2,
   "metadata": {
    "slideshow": {
     "slide_type": "-"
    }
   },
   "outputs": [],
   "source": [
    "BASE_URL = \"http://api.openweathermap.org/data/2.5/weather?\"\n",
    "API_KEY = open('../../../No_sync/api_key_OpenWeather','r').read()\n",
    "CITY = \"Ski\"\n",
    "\n",
    "url = BASE_URL + \"q=\" + CITY + \"&appid=\" + API_KEY"
   ]
  },
  {
   "cell_type": "markdown",
   "metadata": {
    "slideshow": {
     "slide_type": "slide"
    }
   },
   "source": [
    "## Request current weather in chosen city"
   ]
  },
  {
   "cell_type": "code",
   "execution_count": 3,
   "metadata": {
    "slideshow": {
     "slide_type": "fragment"
    }
   },
   "outputs": [
    {
     "name": "stdout",
     "output_type": "stream",
     "text": [
      "{'coord': {'lon': 10.8358, 'lat': 59.7195}, 'weather': [{'id': 800, 'main': 'Clear', 'description': 'clear sky', 'icon': '01d'}], 'base': 'stations', 'main': {'temp': 276.99, 'feels_like': 276.99, 'temp_min': 276.99, 'temp_max': 277.53, 'pressure': 1013, 'humidity': 63, 'sea_level': 1013, 'grnd_level': 996}, 'visibility': 10000, 'wind': {'speed': 1.01, 'deg': 300, 'gust': 2.28}, 'clouds': {'all': 7}, 'dt': 1697442976, 'sys': {'type': 2, 'id': 237284, 'country': 'NO', 'sunrise': 1697435787, 'sunset': 1697472470}, 'timezone': 7200, 'id': 3139081, 'name': 'Ski', 'cod': 200}\n"
     ]
    }
   ],
   "source": [
    "response = requests.get(url).json()\n",
    "print(response)"
   ]
  },
  {
   "cell_type": "code",
   "execution_count": 4,
   "metadata": {
    "slideshow": {
     "slide_type": "fragment"
    }
   },
   "outputs": [],
   "source": [
    "# Write JSON to file for viewing\n",
    "with open('downloads/weather.json', 'w') as f:\n",
    "    json.dump(response, f, indent=4)"
   ]
  },
  {
   "cell_type": "markdown",
   "metadata": {
    "slideshow": {
     "slide_type": "slide"
    }
   },
   "source": [
    "## Conversion functions\n",
    "Changing scales can make results more interpretable"
   ]
  },
  {
   "cell_type": "code",
   "execution_count": 5,
   "metadata": {
    "slideshow": {
     "slide_type": "-"
    }
   },
   "outputs": [],
   "source": [
    "# Kelvin to Celsius\n",
    "def kelvin_to_celsius(temp):\n",
    "    return temp - 273.15\n",
    "\n",
    "# Meters per second to knots\n",
    "def mps_to_knots(speed):\n",
    "    return speed * 1.943844"
   ]
  },
  {
   "cell_type": "markdown",
   "metadata": {
    "slideshow": {
     "slide_type": "slide"
    }
   },
   "source": [
    "## Print some weather properties"
   ]
  },
  {
   "cell_type": "code",
   "execution_count": 6,
   "metadata": {
    "slideshow": {
     "slide_type": "-"
    }
   },
   "outputs": [
    {
     "name": "stdout",
     "output_type": "stream",
     "text": [
      "The current temperature in Ski is 3.8°C\n"
     ]
    }
   ],
   "source": [
    "# Current temperature\n",
    "temp_kelvin = response['main']['temp']\n",
    "temp_celsius = kelvin_to_celsius(temp_kelvin)\n",
    "print(f\"The current temperature in {CITY} is {temp_celsius:.1f}°C\")"
   ]
  },
  {
   "cell_type": "code",
   "execution_count": 7,
   "metadata": {
    "slideshow": {
     "slide_type": "slide"
    }
   },
   "outputs": [
    {
     "name": "stdout",
     "output_type": "stream",
     "text": [
      "Sunrise today is at 07:56 and sunset is at 18:07\n"
     ]
    }
   ],
   "source": [
    "# Sunrise and sunset today in local time\n",
    "sunrise = dt.datetime.fromtimestamp(response['sys']['sunrise'])\n",
    "sunset = dt.datetime.fromtimestamp(response['sys']['sunset'])\n",
    "print(f\"Sunrise today is at {sunrise:%H:%M} and sunset is at {sunset:%H:%M}\")"
   ]
  },
  {
   "cell_type": "code",
   "execution_count": 8,
   "metadata": {
    "slideshow": {
     "slide_type": "fragment"
    }
   },
   "outputs": [
    {
     "name": "stdout",
     "output_type": "stream",
     "text": [
      "Wind today is from 300° at 2.0 knots\n"
     ]
    }
   ],
   "source": [
    "# Wind direction and speed\n",
    "wind_knots = mps_to_knots(response['wind']['speed'])\n",
    "print(f\"Wind today is from {response['wind']['deg']}° at {round(wind_knots,1)} knots\")"
   ]
  },
  {
   "cell_type": "markdown",
   "metadata": {
    "slideshow": {
     "slide_type": "slide"
    }
   },
   "source": [
    "## Forecasted weather\n",
    "### Common definitions to use for all requests"
   ]
  },
  {
   "cell_type": "code",
   "execution_count": 9,
   "metadata": {
    "slideshow": {
     "slide_type": "-"
    }
   },
   "outputs": [],
   "source": [
    "BASE_URL = \"http://api.openweathermap.org/data/2.5/forecast?\"\n",
    "CITY = \"Noresund\"\n",
    "\n",
    "urlF = BASE_URL + \"q=\" + CITY + \"&appid=\" + API_KEY"
   ]
  },
  {
   "cell_type": "markdown",
   "metadata": {
    "slideshow": {
     "slide_type": "slide"
    }
   },
   "source": [
    "## Request forecasted weather in chosen city"
   ]
  },
  {
   "cell_type": "code",
   "execution_count": 10,
   "metadata": {
    "slideshow": {
     "slide_type": "-"
    }
   },
   "outputs": [
    {
     "name": "stdout",
     "output_type": "stream",
     "text": [
      "{'cod': '200', 'message': 0, 'cnt': 40, 'list': [{'dt': 1697446800, 'main': {'temp': 277.09, 'feels_like': 275.79, 'temp_min': 277.09, 'temp_max': 278.1, 'pressure': 1014, 'sea_level': 1014, 'grnd_level': 996, 'humidity': 69, 'temp_kf': -1.01}, 'weather': [{'id': 802, 'main': 'Clouds', 'description': 'scattered clouds', 'icon': '03d'}], 'clouds': {'all': 49}, 'wind': {'speed': 1.57, 'deg': 277, 'gust': 2.73}, 'visibility': 10000, 'pop': 0, 'sys': {'pod': 'd'}, 'dt_txt': '2023-10-16 09:00:00'}, {'dt': 1697457600, 'main': {'temp': 278.32, 'feels_like': 277.45, 'temp_min': 278.32, 'temp_max': 280.78, 'pressure': 1014, 'sea_level': 1014, 'grnd_level': 995, 'humidity': 60, 'temp_kf': -2.46}, 'weather': [{'id': 803, 'main': 'Clouds', 'description': 'broken clouds', 'icon': '04d'}], 'clouds': {'all': 57}, 'wind': {'speed': 1.38, 'deg': 258, 'gust': 3.18}, 'visibility': 10000, 'pop': 0, 'sys': {'pod': 'd'}, 'dt_txt': '2023-10-16 12:00:00'}, {'dt': 1697468400, 'main': {'temp': 278.88, 'feels_like': 278.05, 'temp_min': 278.88, 'temp_max': 279.77, 'pressure': 1013, 'sea_level': 1013, 'grnd_level': 994, 'humidity': 61, 'temp_kf': -0.89}, 'weather': [{'id': 803, 'main': 'Clouds', 'description': 'broken clouds', 'icon': '04d'}], 'clouds': {'all': 83}, 'wind': {'speed': 1.41, 'deg': 257, 'gust': 1.58}, 'visibility': 10000, 'pop': 0, 'sys': {'pod': 'd'}, 'dt_txt': '2023-10-16 15:00:00'}, {'dt': 1697479200, 'main': {'temp': 277.78, 'feels_like': 276.31, 'temp_min': 277.78, 'temp_max': 277.78, 'pressure': 1013, 'sea_level': 1013, 'grnd_level': 994, 'humidity': 68, 'temp_kf': 0}, 'weather': [{'id': 804, 'main': 'Clouds', 'description': 'overcast clouds', 'icon': '04n'}], 'clouds': {'all': 100}, 'wind': {'speed': 1.8, 'deg': 277, 'gust': 1.94}, 'visibility': 10000, 'pop': 0, 'sys': {'pod': 'n'}, 'dt_txt': '2023-10-16 18:00:00'}, {'dt': 1697490000, 'main': {'temp': 277.78, 'feels_like': 276.11, 'temp_min': 277.78, 'temp_max': 277.78, 'pressure': 1013, 'sea_level': 1013, 'grnd_level': 994, 'humidity': 71, 'temp_kf': 0}, 'weather': [{'id': 804, 'main': 'Clouds', 'description': 'overcast clouds', 'icon': '04n'}], 'clouds': {'all': 100}, 'wind': {'speed': 1.98, 'deg': 276, 'gust': 2.2}, 'visibility': 10000, 'pop': 0, 'sys': {'pod': 'n'}, 'dt_txt': '2023-10-16 21:00:00'}, {'dt': 1697500800, 'main': {'temp': 278.21, 'feels_like': 276.61, 'temp_min': 278.21, 'temp_max': 278.21, 'pressure': 1012, 'sea_level': 1012, 'grnd_level': 994, 'humidity': 75, 'temp_kf': 0}, 'weather': [{'id': 804, 'main': 'Clouds', 'description': 'overcast clouds', 'icon': '04n'}], 'clouds': {'all': 100}, 'wind': {'speed': 1.98, 'deg': 276, 'gust': 2.31}, 'visibility': 10000, 'pop': 0, 'sys': {'pod': 'n'}, 'dt_txt': '2023-10-17 00:00:00'}, {'dt': 1697511600, 'main': {'temp': 278.71, 'feels_like': 277.27, 'temp_min': 278.71, 'temp_max': 278.71, 'pressure': 1011, 'sea_level': 1011, 'grnd_level': 993, 'humidity': 79, 'temp_kf': 0}, 'weather': [{'id': 804, 'main': 'Clouds', 'description': 'overcast clouds', 'icon': '04n'}], 'clouds': {'all': 100}, 'wind': {'speed': 1.9, 'deg': 268, 'gust': 1.93}, 'visibility': 10000, 'pop': 0, 'sys': {'pod': 'n'}, 'dt_txt': '2023-10-17 03:00:00'}, {'dt': 1697522400, 'main': {'temp': 277.83, 'feels_like': 276.19, 'temp_min': 277.83, 'temp_max': 277.83, 'pressure': 1011, 'sea_level': 1011, 'grnd_level': 992, 'humidity': 85, 'temp_kf': 0}, 'weather': [{'id': 804, 'main': 'Clouds', 'description': 'overcast clouds', 'icon': '04n'}], 'clouds': {'all': 100}, 'wind': {'speed': 1.96, 'deg': 274, 'gust': 1.99}, 'visibility': 10000, 'pop': 0, 'sys': {'pod': 'n'}, 'dt_txt': '2023-10-17 06:00:00'}, {'dt': 1697533200, 'main': {'temp': 281.96, 'feels_like': 281.13, 'temp_min': 281.96, 'temp_max': 281.96, 'pressure': 1010, 'sea_level': 1010, 'grnd_level': 992, 'humidity': 70, 'temp_kf': 0}, 'weather': [{'id': 804, 'main': 'Clouds', 'description': 'overcast clouds', 'icon': '04d'}], 'clouds': {'all': 100}, 'wind': {'speed': 1.81, 'deg': 270, 'gust': 4.65}, 'visibility': 10000, 'pop': 0, 'sys': {'pod': 'd'}, 'dt_txt': '2023-10-17 09:00:00'}, {'dt': 1697544000, 'main': {'temp': 286.15, 'feels_like': 284.97, 'temp_min': 286.15, 'temp_max': 286.15, 'pressure': 1009, 'sea_level': 1009, 'grnd_level': 991, 'humidity': 56, 'temp_kf': 0}, 'weather': [{'id': 804, 'main': 'Clouds', 'description': 'overcast clouds', 'icon': '04d'}], 'clouds': {'all': 98}, 'wind': {'speed': 3.04, 'deg': 282, 'gust': 10.22}, 'visibility': 10000, 'pop': 0, 'sys': {'pod': 'd'}, 'dt_txt': '2023-10-17 12:00:00'}, {'dt': 1697554800, 'main': {'temp': 282.92, 'feels_like': 281.54, 'temp_min': 282.92, 'temp_max': 282.92, 'pressure': 1011, 'sea_level': 1011, 'grnd_level': 993, 'humidity': 70, 'temp_kf': 0}, 'weather': [{'id': 802, 'main': 'Clouds', 'description': 'scattered clouds', 'icon': '03d'}], 'clouds': {'all': 29}, 'wind': {'speed': 2.74, 'deg': 275, 'gust': 5.34}, 'visibility': 10000, 'pop': 0, 'sys': {'pod': 'd'}, 'dt_txt': '2023-10-17 15:00:00'}, {'dt': 1697565600, 'main': {'temp': 278.7, 'feels_like': 276.71, 'temp_min': 278.7, 'temp_max': 278.7, 'pressure': 1013, 'sea_level': 1013, 'grnd_level': 994, 'humidity': 86, 'temp_kf': 0}, 'weather': [{'id': 802, 'main': 'Clouds', 'description': 'scattered clouds', 'icon': '03n'}], 'clouds': {'all': 50}, 'wind': {'speed': 2.49, 'deg': 289, 'gust': 2.82}, 'visibility': 10000, 'pop': 0, 'sys': {'pod': 'n'}, 'dt_txt': '2023-10-17 18:00:00'}, {'dt': 1697576400, 'main': {'temp': 277.5, 'feels_like': 275.42, 'temp_min': 277.5, 'temp_max': 277.5, 'pressure': 1015, 'sea_level': 1015, 'grnd_level': 997, 'humidity': 88, 'temp_kf': 0}, 'weather': [{'id': 803, 'main': 'Clouds', 'description': 'broken clouds', 'icon': '04n'}], 'clouds': {'all': 70}, 'wind': {'speed': 2.34, 'deg': 303, 'gust': 2.37}, 'visibility': 10000, 'pop': 0, 'sys': {'pod': 'n'}, 'dt_txt': '2023-10-17 21:00:00'}, {'dt': 1697587200, 'main': {'temp': 276.51, 'feels_like': 274.52, 'temp_min': 276.51, 'temp_max': 276.51, 'pressure': 1017, 'sea_level': 1017, 'grnd_level': 999, 'humidity': 91, 'temp_kf': 0}, 'weather': [{'id': 802, 'main': 'Clouds', 'description': 'scattered clouds', 'icon': '03n'}], 'clouds': {'all': 40}, 'wind': {'speed': 2.08, 'deg': 316, 'gust': 2.1}, 'visibility': 10000, 'pop': 0, 'sys': {'pod': 'n'}, 'dt_txt': '2023-10-18 00:00:00'}, {'dt': 1697598000, 'main': {'temp': 275.8, 'feels_like': 273.9, 'temp_min': 275.8, 'temp_max': 275.8, 'pressure': 1018, 'sea_level': 1018, 'grnd_level': 1000, 'humidity': 91, 'temp_kf': 0}, 'weather': [{'id': 802, 'main': 'Clouds', 'description': 'scattered clouds', 'icon': '03n'}], 'clouds': {'all': 45}, 'wind': {'speed': 1.9, 'deg': 325, 'gust': 2.6}, 'visibility': 10000, 'pop': 0, 'sys': {'pod': 'n'}, 'dt_txt': '2023-10-18 03:00:00'}, {'dt': 1697608800, 'main': {'temp': 275.87, 'feels_like': 274.44, 'temp_min': 275.87, 'temp_max': 275.87, 'pressure': 1019, 'sea_level': 1019, 'grnd_level': 1000, 'humidity': 87, 'temp_kf': 0}, 'weather': [{'id': 803, 'main': 'Clouds', 'description': 'broken clouds', 'icon': '04n'}], 'clouds': {'all': 72}, 'wind': {'speed': 1.54, 'deg': 325, 'gust': 1.43}, 'visibility': 10000, 'pop': 0, 'sys': {'pod': 'n'}, 'dt_txt': '2023-10-18 06:00:00'}, {'dt': 1697619600, 'main': {'temp': 279.49, 'feels_like': 279.49, 'temp_min': 279.49, 'temp_max': 279.49, 'pressure': 1020, 'sea_level': 1020, 'grnd_level': 1001, 'humidity': 71, 'temp_kf': 0}, 'weather': [{'id': 804, 'main': 'Clouds', 'description': 'overcast clouds', 'icon': '04d'}], 'clouds': {'all': 100}, 'wind': {'speed': 0.59, 'deg': 12, 'gust': 0.93}, 'visibility': 10000, 'pop': 0, 'sys': {'pod': 'd'}, 'dt_txt': '2023-10-18 09:00:00'}, {'dt': 1697630400, 'main': {'temp': 281.19, 'feels_like': 281.19, 'temp_min': 281.19, 'temp_max': 281.19, 'pressure': 1019, 'sea_level': 1019, 'grnd_level': 1001, 'humidity': 66, 'temp_kf': 0}, 'weather': [{'id': 804, 'main': 'Clouds', 'description': 'overcast clouds', 'icon': '04d'}], 'clouds': {'all': 100}, 'wind': {'speed': 0.99, 'deg': 120, 'gust': 1.01}, 'visibility': 10000, 'pop': 0, 'sys': {'pod': 'd'}, 'dt_txt': '2023-10-18 12:00:00'}, {'dt': 1697641200, 'main': {'temp': 279.34, 'feels_like': 279.34, 'temp_min': 279.34, 'temp_max': 279.34, 'pressure': 1019, 'sea_level': 1019, 'grnd_level': 1000, 'humidity': 79, 'temp_kf': 0}, 'weather': [{'id': 804, 'main': 'Clouds', 'description': 'overcast clouds', 'icon': '04d'}], 'clouds': {'all': 100}, 'wind': {'speed': 0.79, 'deg': 119, 'gust': 0.78}, 'visibility': 10000, 'pop': 0, 'sys': {'pod': 'd'}, 'dt_txt': '2023-10-18 15:00:00'}, {'dt': 1697652000, 'main': {'temp': 277.25, 'feels_like': 277.25, 'temp_min': 277.25, 'temp_max': 277.25, 'pressure': 1019, 'sea_level': 1019, 'grnd_level': 1001, 'humidity': 88, 'temp_kf': 0}, 'weather': [{'id': 804, 'main': 'Clouds', 'description': 'overcast clouds', 'icon': '04n'}], 'clouds': {'all': 100}, 'wind': {'speed': 0.57, 'deg': 8, 'gust': 0.53}, 'visibility': 10000, 'pop': 0, 'sys': {'pod': 'n'}, 'dt_txt': '2023-10-18 18:00:00'}, {'dt': 1697662800, 'main': {'temp': 276.71, 'feels_like': 276.71, 'temp_min': 276.71, 'temp_max': 276.71, 'pressure': 1020, 'sea_level': 1020, 'grnd_level': 1001, 'humidity': 89, 'temp_kf': 0}, 'weather': [{'id': 804, 'main': 'Clouds', 'description': 'overcast clouds', 'icon': '04n'}], 'clouds': {'all': 100}, 'wind': {'speed': 0.56, 'deg': 25, 'gust': 0.53}, 'visibility': 10000, 'pop': 0, 'sys': {'pod': 'n'}, 'dt_txt': '2023-10-18 21:00:00'}, {'dt': 1697673600, 'main': {'temp': 276.41, 'feels_like': 276.41, 'temp_min': 276.41, 'temp_max': 276.41, 'pressure': 1021, 'sea_level': 1021, 'grnd_level': 1002, 'humidity': 91, 'temp_kf': 0}, 'weather': [{'id': 804, 'main': 'Clouds', 'description': 'overcast clouds', 'icon': '04n'}], 'clouds': {'all': 100}, 'wind': {'speed': 0.71, 'deg': 50, 'gust': 0.82}, 'visibility': 10000, 'pop': 0, 'sys': {'pod': 'n'}, 'dt_txt': '2023-10-19 00:00:00'}, {'dt': 1697684400, 'main': {'temp': 276.75, 'feels_like': 275.67, 'temp_min': 276.75, 'temp_max': 276.75, 'pressure': 1021, 'sea_level': 1021, 'grnd_level': 1002, 'humidity': 99, 'temp_kf': 0}, 'weather': [{'id': 600, 'main': 'Snow', 'description': 'light snow', 'icon': '13n'}], 'clouds': {'all': 100}, 'wind': {'speed': 1.38, 'deg': 89, 'gust': 1.97}, 'visibility': 48, 'pop': 0.35, 'snow': {'3h': 0.18}, 'sys': {'pod': 'n'}, 'dt_txt': '2023-10-19 03:00:00'}, {'dt': 1697695200, 'main': {'temp': 275.29, 'feels_like': 274.03, 'temp_min': 275.29, 'temp_max': 275.29, 'pressure': 1023, 'sea_level': 1023, 'grnd_level': 1004, 'humidity': 99, 'temp_kf': 0}, 'weather': [{'id': 600, 'main': 'Snow', 'description': 'light snow', 'icon': '13n'}], 'clouds': {'all': 100}, 'wind': {'speed': 1.37, 'deg': 93, 'gust': 2.16}, 'visibility': 37, 'pop': 0.58, 'snow': {'3h': 0.88}, 'sys': {'pod': 'n'}, 'dt_txt': '2023-10-19 06:00:00'}, {'dt': 1697706000, 'main': {'temp': 275.19, 'feels_like': 275.19, 'temp_min': 275.19, 'temp_max': 275.19, 'pressure': 1024, 'sea_level': 1024, 'grnd_level': 1005, 'humidity': 92, 'temp_kf': 0}, 'weather': [{'id': 600, 'main': 'Snow', 'description': 'light snow', 'icon': '13d'}], 'clouds': {'all': 100}, 'wind': {'speed': 1.33, 'deg': 87, 'gust': 2.63}, 'visibility': 301, 'pop': 0.82, 'snow': {'3h': 0.82}, 'sys': {'pod': 'd'}, 'dt_txt': '2023-10-19 09:00:00'}, {'dt': 1697716800, 'main': {'temp': 275.65, 'feels_like': 274.33, 'temp_min': 275.65, 'temp_max': 275.65, 'pressure': 1024, 'sea_level': 1024, 'grnd_level': 1005, 'humidity': 79, 'temp_kf': 0}, 'weather': [{'id': 600, 'main': 'Snow', 'description': 'light snow', 'icon': '13d'}], 'clouds': {'all': 100}, 'wind': {'speed': 1.44, 'deg': 91, 'gust': 2.91}, 'visibility': 10000, 'pop': 0.67, 'snow': {'3h': 0.36}, 'sys': {'pod': 'd'}, 'dt_txt': '2023-10-19 12:00:00'}, {'dt': 1697727600, 'main': {'temp': 275.62, 'feels_like': 275.62, 'temp_min': 275.62, 'temp_max': 275.62, 'pressure': 1023, 'sea_level': 1023, 'grnd_level': 1004, 'humidity': 73, 'temp_kf': 0}, 'weather': [{'id': 804, 'main': 'Clouds', 'description': 'overcast clouds', 'icon': '04d'}], 'clouds': {'all': 100}, 'wind': {'speed': 1.02, 'deg': 69, 'gust': 2.97}, 'visibility': 10000, 'pop': 0, 'sys': {'pod': 'd'}, 'dt_txt': '2023-10-19 15:00:00'}, {'dt': 1697738400, 'main': {'temp': 274.4, 'feels_like': 274.4, 'temp_min': 274.4, 'temp_max': 274.4, 'pressure': 1024, 'sea_level': 1024, 'grnd_level': 1005, 'humidity': 76, 'temp_kf': 0}, 'weather': [{'id': 804, 'main': 'Clouds', 'description': 'overcast clouds', 'icon': '04n'}], 'clouds': {'all': 100}, 'wind': {'speed': 1.05, 'deg': 70, 'gust': 1.93}, 'visibility': 10000, 'pop': 0, 'sys': {'pod': 'n'}, 'dt_txt': '2023-10-19 18:00:00'}, {'dt': 1697749200, 'main': {'temp': 274, 'feels_like': 274, 'temp_min': 274, 'temp_max': 274, 'pressure': 1025, 'sea_level': 1025, 'grnd_level': 1006, 'humidity': 81, 'temp_kf': 0}, 'weather': [{'id': 804, 'main': 'Clouds', 'description': 'overcast clouds', 'icon': '04n'}], 'clouds': {'all': 100}, 'wind': {'speed': 0.64, 'deg': 37, 'gust': 0.78}, 'visibility': 10000, 'pop': 0, 'sys': {'pod': 'n'}, 'dt_txt': '2023-10-19 21:00:00'}, {'dt': 1697760000, 'main': {'temp': 273.28, 'feels_like': 273.28, 'temp_min': 273.28, 'temp_max': 273.28, 'pressure': 1026, 'sea_level': 1026, 'grnd_level': 1006, 'humidity': 84, 'temp_kf': 0}, 'weather': [{'id': 804, 'main': 'Clouds', 'description': 'overcast clouds', 'icon': '04n'}], 'clouds': {'all': 100}, 'wind': {'speed': 0.82, 'deg': 44, 'gust': 0.85}, 'visibility': 10000, 'pop': 0, 'sys': {'pod': 'n'}, 'dt_txt': '2023-10-20 00:00:00'}, {'dt': 1697770800, 'main': {'temp': 272.58, 'feels_like': 272.58, 'temp_min': 272.58, 'temp_max': 272.58, 'pressure': 1026, 'sea_level': 1026, 'grnd_level': 1006, 'humidity': 88, 'temp_kf': 0}, 'weather': [{'id': 804, 'main': 'Clouds', 'description': 'overcast clouds', 'icon': '04n'}], 'clouds': {'all': 100}, 'wind': {'speed': 0.87, 'deg': 44, 'gust': 1.05}, 'visibility': 10000, 'pop': 0, 'sys': {'pod': 'n'}, 'dt_txt': '2023-10-20 03:00:00'}, {'dt': 1697781600, 'main': {'temp': 272.5, 'feels_like': 272.5, 'temp_min': 272.5, 'temp_max': 272.5, 'pressure': 1026, 'sea_level': 1026, 'grnd_level': 1007, 'humidity': 90, 'temp_kf': 0}, 'weather': [{'id': 804, 'main': 'Clouds', 'description': 'overcast clouds', 'icon': '04n'}], 'clouds': {'all': 100}, 'wind': {'speed': 0.8, 'deg': 53, 'gust': 1.34}, 'visibility': 9452, 'pop': 0, 'sys': {'pod': 'n'}, 'dt_txt': '2023-10-20 06:00:00'}, {'dt': 1697792400, 'main': {'temp': 274.32, 'feels_like': 274.32, 'temp_min': 274.32, 'temp_max': 274.32, 'pressure': 1027, 'sea_level': 1027, 'grnd_level': 1008, 'humidity': 73, 'temp_kf': 0}, 'weather': [{'id': 500, 'main': 'Rain', 'description': 'light rain', 'icon': '10d'}], 'clouds': {'all': 99}, 'wind': {'speed': 1.23, 'deg': 67, 'gust': 2.83}, 'visibility': 10000, 'pop': 0.24, 'rain': {'3h': 0.11}, 'sys': {'pod': 'd'}, 'dt_txt': '2023-10-20 09:00:00'}, {'dt': 1697803200, 'main': {'temp': 275.39, 'feels_like': 272.62, 'temp_min': 275.39, 'temp_max': 275.39, 'pressure': 1027, 'sea_level': 1027, 'grnd_level': 1008, 'humidity': 58, 'temp_kf': 0}, 'weather': [{'id': 804, 'main': 'Clouds', 'description': 'overcast clouds', 'icon': '04d'}], 'clouds': {'all': 99}, 'wind': {'speed': 2.67, 'deg': 58, 'gust': 4.28}, 'visibility': 10000, 'pop': 0.04, 'sys': {'pod': 'd'}, 'dt_txt': '2023-10-20 12:00:00'}, {'dt': 1697814000, 'main': {'temp': 274.71, 'feels_like': 272.01, 'temp_min': 274.71, 'temp_max': 274.71, 'pressure': 1027, 'sea_level': 1027, 'grnd_level': 1008, 'humidity': 61, 'temp_kf': 0}, 'weather': [{'id': 804, 'main': 'Clouds', 'description': 'overcast clouds', 'icon': '04d'}], 'clouds': {'all': 100}, 'wind': {'speed': 2.47, 'deg': 43, 'gust': 5.05}, 'visibility': 10000, 'pop': 0, 'sys': {'pod': 'd'}, 'dt_txt': '2023-10-20 15:00:00'}, {'dt': 1697824800, 'main': {'temp': 272.28, 'feels_like': 269.51, 'temp_min': 272.28, 'temp_max': 272.28, 'pressure': 1028, 'sea_level': 1028, 'grnd_level': 1009, 'humidity': 70, 'temp_kf': 0}, 'weather': [{'id': 804, 'main': 'Clouds', 'description': 'overcast clouds', 'icon': '04n'}], 'clouds': {'all': 99}, 'wind': {'speed': 2.14, 'deg': 30, 'gust': 5.53}, 'visibility': 10000, 'pop': 0, 'sys': {'pod': 'n'}, 'dt_txt': '2023-10-20 18:00:00'}, {'dt': 1697835600, 'main': {'temp': 271.24, 'feels_like': 268.43, 'temp_min': 271.24, 'temp_max': 271.24, 'pressure': 1030, 'sea_level': 1030, 'grnd_level': 1011, 'humidity': 79, 'temp_kf': 0}, 'weather': [{'id': 803, 'main': 'Clouds', 'description': 'broken clouds', 'icon': '04n'}], 'clouds': {'all': 55}, 'wind': {'speed': 2.03, 'deg': 21, 'gust': 4.66}, 'visibility': 10000, 'pop': 0, 'sys': {'pod': 'n'}, 'dt_txt': '2023-10-20 21:00:00'}, {'dt': 1697846400, 'main': {'temp': 270.7, 'feels_like': 267.42, 'temp_min': 270.7, 'temp_max': 270.7, 'pressure': 1030, 'sea_level': 1030, 'grnd_level': 1011, 'humidity': 84, 'temp_kf': 0}, 'weather': [{'id': 802, 'main': 'Clouds', 'description': 'scattered clouds', 'icon': '03n'}], 'clouds': {'all': 45}, 'wind': {'speed': 2.33, 'deg': 16, 'gust': 5.32}, 'visibility': 10000, 'pop': 0, 'sys': {'pod': 'n'}, 'dt_txt': '2023-10-21 00:00:00'}, {'dt': 1697857200, 'main': {'temp': 270.62, 'feels_like': 266.91, 'temp_min': 270.62, 'temp_max': 270.62, 'pressure': 1029, 'sea_level': 1029, 'grnd_level': 1010, 'humidity': 85, 'temp_kf': 0}, 'weather': [{'id': 802, 'main': 'Clouds', 'description': 'scattered clouds', 'icon': '03n'}], 'clouds': {'all': 28}, 'wind': {'speed': 2.7, 'deg': 3, 'gust': 6.19}, 'visibility': 10000, 'pop': 0, 'sys': {'pod': 'n'}, 'dt_txt': '2023-10-21 03:00:00'}, {'dt': 1697868000, 'main': {'temp': 271.6, 'feels_like': 267.92, 'temp_min': 271.6, 'temp_max': 271.6, 'pressure': 1029, 'sea_level': 1029, 'grnd_level': 1010, 'humidity': 80, 'temp_kf': 0}, 'weather': [{'id': 803, 'main': 'Clouds', 'description': 'broken clouds', 'icon': '04n'}], 'clouds': {'all': 51}, 'wind': {'speed': 2.86, 'deg': 9, 'gust': 6.92}, 'visibility': 10000, 'pop': 0, 'sys': {'pod': 'n'}, 'dt_txt': '2023-10-21 06:00:00'}], 'city': {'id': 3144113, 'name': 'Noresund', 'coord': {'lat': 60.1803, 'lon': 9.6231}, 'country': 'NO', 'population': 1000, 'timezone': 7200, 'sunrise': 1697436142, 'sunset': 1697472697}}\n"
     ]
    }
   ],
   "source": [
    "responseF = requests.get(urlF).json()\n",
    "print(responseF)"
   ]
  },
  {
   "cell_type": "code",
   "execution_count": 11,
   "metadata": {
    "slideshow": {
     "slide_type": "slide"
    }
   },
   "outputs": [],
   "source": [
    "# Write JSON to file for viewing\n",
    "with open('downloads/forecast.json', 'w') as f:\n",
    "    json.dump(responseF, f, indent=4)"
   ]
  },
  {
   "cell_type": "markdown",
   "metadata": {
    "slideshow": {
     "slide_type": "slide"
    }
   },
   "source": [
    "### When and what?\n",
    "Check contents and time stamps"
   ]
  },
  {
   "cell_type": "code",
   "execution_count": 12,
   "metadata": {
    "slideshow": {
     "slide_type": "-"
    }
   },
   "outputs": [
    {
     "data": {
      "text/plain": [
       "dict_keys(['cod', 'message', 'cnt', 'list', 'city'])"
      ]
     },
     "execution_count": 12,
     "metadata": {},
     "output_type": "execute_result"
    }
   ],
   "source": [
    "# Content of responseF\n",
    "responseF.keys()"
   ]
  },
  {
   "cell_type": "code",
   "execution_count": 13,
   "metadata": {
    "slideshow": {
     "slide_type": "fragment"
    }
   },
   "outputs": [
    {
     "name": "stdout",
     "output_type": "stream",
     "text": [
      "40\n"
     ]
    }
   ],
   "source": [
    "# Number of forecasts\n",
    "print(len(responseF[\"list\"]))"
   ]
  },
  {
   "cell_type": "code",
   "execution_count": 14,
   "metadata": {
    "scrolled": true,
    "slideshow": {
     "slide_type": "slide"
    }
   },
   "outputs": [
    {
     "name": "stdout",
     "output_type": "stream",
     "text": [
      "2023-10-16 09:00:00\n",
      "2023-10-16 12:00:00\n",
      "2023-10-16 15:00:00\n",
      "2023-10-16 18:00:00\n",
      "2023-10-16 21:00:00\n",
      "2023-10-17 00:00:00\n",
      "2023-10-17 03:00:00\n",
      "2023-10-17 06:00:00\n",
      "2023-10-17 09:00:00\n",
      "2023-10-17 12:00:00\n",
      "2023-10-17 15:00:00\n",
      "2023-10-17 18:00:00\n",
      "2023-10-17 21:00:00\n",
      "2023-10-18 00:00:00\n",
      "2023-10-18 03:00:00\n",
      "2023-10-18 06:00:00\n",
      "2023-10-18 09:00:00\n",
      "2023-10-18 12:00:00\n",
      "2023-10-18 15:00:00\n",
      "2023-10-18 18:00:00\n",
      "2023-10-18 21:00:00\n",
      "2023-10-19 00:00:00\n",
      "2023-10-19 03:00:00\n",
      "2023-10-19 06:00:00\n",
      "2023-10-19 09:00:00\n",
      "2023-10-19 12:00:00\n",
      "2023-10-19 15:00:00\n",
      "2023-10-19 18:00:00\n",
      "2023-10-19 21:00:00\n",
      "2023-10-20 00:00:00\n",
      "2023-10-20 03:00:00\n",
      "2023-10-20 06:00:00\n",
      "2023-10-20 09:00:00\n",
      "2023-10-20 12:00:00\n",
      "2023-10-20 15:00:00\n",
      "2023-10-20 18:00:00\n",
      "2023-10-20 21:00:00\n",
      "2023-10-21 00:00:00\n",
      "2023-10-21 03:00:00\n",
      "2023-10-21 06:00:00\n"
     ]
    }
   ],
   "source": [
    "# Print forecast times\n",
    "for forecast in responseF[\"list\"]:\n",
    "    print(forecast[\"dt_txt\"])"
   ]
  },
  {
   "cell_type": "markdown",
   "metadata": {
    "slideshow": {
     "slide_type": "slide"
    }
   },
   "source": [
    "## Make plots of omnipresent measurements and events\n",
    "We will later look at missing data, data only sporadically appearing and so on."
   ]
  },
  {
   "cell_type": "code",
   "execution_count": 15,
   "metadata": {
    "slideshow": {
     "slide_type": "-"
    }
   },
   "outputs": [],
   "source": [
    "# Air pressure per period\n",
    "pressures = []\n",
    "timestamps = []\n",
    "for forecast in responseF[\"list\"]:\n",
    "    pressures.append(forecast[\"main\"][\"pressure\"])\n",
    "    timestamps.append(dt.datetime.fromtimestamp(forecast[\"dt\"]))"
   ]
  },
  {
   "cell_type": "code",
   "execution_count": 16,
   "metadata": {
    "slideshow": {
     "slide_type": "slide"
    }
   },
   "outputs": [
    {
     "data": {
      "image/png": "[encoded data removed]",
      "text/plain": [
       "<Figure size 640x480 with 1 Axes>"
      ]
     },
     "metadata": {},
     "output_type": "display_data"
    }
   ],
   "source": [
    "import matplotlib.pyplot as plt\n",
    "plt.bar(timestamps, pressures)\n",
    "plt.xticks(rotation=45)\n",
    "plt.ylim(950, 1050)\n",
    "plt.grid()\n",
    "plt.ylabel(\"Air pressure (hPa)\")\n",
    "plt.title(f\"Forecasted air pressure in {CITY}\")\n",
    "plt.show()"
   ]
  },
  {
   "cell_type": "markdown",
   "metadata": {
    "slideshow": {
     "slide_type": "slide"
    }
   },
   "source": [
    "## Exercise\n",
    "- Make a new forecast request for your own hometown. Call your response something else than responseF.\n",
    "- If available, plot the humidity like we did with air pressure."
   ]
  },
  {
   "cell_type": "markdown",
   "metadata": {
    "slideshow": {
     "slide_type": "slide"
    }
   },
   "source": [
    "### Precipitation\n",
    "- ... comes in two main flavours: rain and snow.\n",
    "- We need to check which is present and set to zero if it is abscent."
   ]
  },
  {
   "cell_type": "code",
   "execution_count": 17,
   "metadata": {
    "slideshow": {
     "slide_type": "-"
    }
   },
   "outputs": [],
   "source": [
    "rain = []\n",
    "snow = []\n",
    "for forecast in responseF[\"list\"]:\n",
    "    try: # Check if rain is present in forecast\n",
    "        rain.append(forecast[\"rain\"][\"3h\"])\n",
    "    except KeyError:\n",
    "        rain.append(0)\n",
    "    try: # Check if snow is present in forecast\n",
    "        snow.append(forecast[\"snow\"][\"3h\"])\n",
    "    except KeyError:\n",
    "        snow.append(0)"
   ]
  },
  {
   "cell_type": "code",
   "execution_count": 18,
   "metadata": {
    "slideshow": {
     "slide_type": "slide"
    }
   },
   "outputs": [
    {
     "data": {
      "image/png": "[encoded data removed]",
      "text/plain": [
       "<Figure size 640x480 with 1 Axes>"
      ]
     },
     "metadata": {},
     "output_type": "display_data"
    }
   ],
   "source": [
    "# Stacked bar chart with rain and snow\n",
    "plt.bar(timestamps, rain, label=\"Rain\")\n",
    "plt.bar(timestamps, snow, label=\"Snow\")\n",
    "plt.xticks(rotation=45)\n",
    "plt.grid()\n",
    "plt.ylabel(\"Precipitation (mm)\")\n",
    "plt.title(f\"Forecasted precipitation in {CITY}\")\n",
    "plt.legend()\n",
    "plt.show()\n"
   ]
  },
  {
   "cell_type": "markdown",
   "metadata": {
    "slideshow": {
     "slide_type": "slide"
    }
   },
   "source": [
    "## Resources\n",
    "- [YouTube: NeuralNine's video (15m:32s)](https://www.youtube.com/watch?v=9P5MY_2i7K8)"
   ]
  }
 ],
 "metadata": {
  "celltoolbar": "Slideshow",
  "kernelspec": {
   "display_name": "Python 3 (ipykernel)",
   "language": "python",
   "name": "python3"
  },
  "language_info": {
   "codemirror_mode": {
    "name": "ipython",
    "version": 3
   },
   "file_extension": ".py",
   "mimetype": "text/x-python",
   "name": "python",
   "nbconvert_exporter": "python",
   "pygments_lexer": "ipython3",
   "version": "3.10.6"
  }
 },
 "nbformat": 4,
 "nbformat_minor": 2
}