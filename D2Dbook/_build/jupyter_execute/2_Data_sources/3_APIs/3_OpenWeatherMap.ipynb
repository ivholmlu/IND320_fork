{
 "cells": [
  {
   "cell_type": "markdown",
   "metadata": {
    "slideshow": {
     "slide_type": "slide"
    }
   },
   "source": [
    "# Demonstration of API using OpenWeatherMap.org\n",
    "This demonstration is heavily inspired by [NeuralNine's video](https://www.youtube.com/watch?v=9P5MY_2i7K8).  \n",
    "You need a free account [from here](https://openweathermap.org/api).  \n",
    "The VS Code extension _JSON viewer_ is recommended for viewing downloaded JSON content.  \n",
    "  - Set your maximum API calls to 1000 per day to make sure you are under the limit for billing. \n",
    "  - To run the examples, download your API key, save it in the right folder (see below) in a file called _api\\_key\\_OpenWeather_, containing only the key (no spaces or \"enters\")."
   ]
  },
  {
   "cell_type": "code",
   "execution_count": 1,
   "metadata": {
    "slideshow": {
     "slide_type": "fragment"
    }
   },
   "outputs": [],
   "source": [
    "# Imports\n",
    "import datetime as dt\n",
    "import requests\n",
    "import json"
   ]
  },
  {
   "cell_type": "markdown",
   "metadata": {
    "slideshow": {
     "slide_type": "slide"
    }
   },
   "source": [
    "## Current weather\n",
    "### Common definitions to use for all requests"
   ]
  },
  {
   "cell_type": "code",
   "execution_count": 2,
   "metadata": {
    "slideshow": {
     "slide_type": "-"
    }
   },
   "outputs": [],
   "source": [
    "BASE_URL = \"http://api.openweathermap.org/data/2.5/weather?\"\n",
    "API_KEY = open('../../../No_sync/api_key_OpenWeather','r').read()\n",
    "CITY = \"Ski\"\n",
    "\n",
    "url = BASE_URL + \"q=\" + CITY + \"&appid=\" + API_KEY"
   ]
  },
  {
   "cell_type": "markdown",
   "metadata": {
    "slideshow": {
     "slide_type": "slide"
    }
   },
   "source": [
    "## Request current weather in chosen city"
   ]
  },
  {
   "cell_type": "code",
   "execution_count": 3,
   "metadata": {
    "slideshow": {
     "slide_type": "fragment"
    }
   },
   "outputs": [
    {
     "name": "stdout",
     "output_type": "stream",
     "text": [
      "{'coord': {'lon': 10.8358, 'lat': 59.7195}, 'weather': [{'id': 803, 'main': 'Clouds', 'description': 'broken clouds', 'icon': '04n'}], 'base': 'stations', 'main': {'temp': 268.46, 'feels_like': 265.33, 'temp_min': 267.29, 'temp_max': 269.46, 'pressure': 1018, 'humidity': 91, 'sea_level': 1018, 'grnd_level': 1000}, 'visibility': 10000, 'wind': {'speed': 1.93, 'deg': 8, 'gust': 3.79}, 'clouds': {'all': 60}, 'dt': 1700081377, 'sys': {'type': 2, 'id': 2006772, 'country': 'NO', 'sunrise': 1700032308, 'sunset': 1700059846}, 'timezone': 3600, 'id': 3139081, 'name': 'Ski', 'cod': 200}\n"
     ]
    }
   ],
   "source": [
    "response = requests.get(url).json()\n",
    "print(response)"
   ]
  },
  {
   "cell_type": "code",
   "execution_count": 4,
   "metadata": {
    "slideshow": {
     "slide_type": "fragment"
    }
   },
   "outputs": [],
   "source": [
    "# Write JSON to file for viewing\n",
    "with open('downloads/weather.json', 'w') as f:\n",
    "    json.dump(response, f, indent=4)"
   ]
  },
  {
   "cell_type": "markdown",
   "metadata": {
    "slideshow": {
     "slide_type": "slide"
    }
   },
   "source": [
    "## Conversion functions\n",
    "Changing scales can make results more interpretable"
   ]
  },
  {
   "cell_type": "code",
   "execution_count": 5,
   "metadata": {
    "slideshow": {
     "slide_type": "-"
    }
   },
   "outputs": [],
   "source": [
    "# Kelvin to Celsius\n",
    "def kelvin_to_celsius(temp):\n",
    "    return temp - 273.15\n",
    "\n",
    "# Meters per second to knots\n",
    "def mps_to_knots(speed):\n",
    "    return speed * 1.943844"
   ]
  },
  {
   "cell_type": "markdown",
   "metadata": {
    "slideshow": {
     "slide_type": "slide"
    }
   },
   "source": [
    "## Print some weather properties"
   ]
  },
  {
   "cell_type": "code",
   "execution_count": 6,
   "metadata": {
    "slideshow": {
     "slide_type": "-"
    }
   },
   "outputs": [
    {
     "name": "stdout",
     "output_type": "stream",
     "text": [
      "The current temperature in Ski is -4.7°C\n"
     ]
    }
   ],
   "source": [
    "# Current temperature\n",
    "temp_kelvin = response['main']['temp']\n",
    "temp_celsius = kelvin_to_celsius(temp_kelvin)\n",
    "print(f\"The current temperature in {CITY} is {temp_celsius:.1f}°C\")"
   ]
  },
  {
   "cell_type": "code",
   "execution_count": 7,
   "metadata": {
    "slideshow": {
     "slide_type": "slide"
    }
   },
   "outputs": [
    {
     "name": "stdout",
     "output_type": "stream",
     "text": [
      "Sunrise today is at 08:11 and sunset is at 15:50\n"
     ]
    }
   ],
   "source": [
    "# Sunrise and sunset today in local time\n",
    "sunrise = dt.datetime.fromtimestamp(response['sys']['sunrise'])\n",
    "sunset = dt.datetime.fromtimestamp(response['sys']['sunset'])\n",
    "print(f\"Sunrise today is at {sunrise:%H:%M} and sunset is at {sunset:%H:%M}\")"
   ]
  },
  {
   "cell_type": "code",
   "execution_count": 8,
   "metadata": {
    "slideshow": {
     "slide_type": "fragment"
    }
   },
   "outputs": [
    {
     "name": "stdout",
     "output_type": "stream",
     "text": [
      "Wind today is from 8° at 3.8 knots\n"
     ]
    }
   ],
   "source": [
    "# Wind direction and speed\n",
    "wind_knots = mps_to_knots(response['wind']['speed'])\n",
    "print(f\"Wind today is from {response['wind']['deg']}° at {round(wind_knots,1)} knots\")"
   ]
  },
  {
   "cell_type": "markdown",
   "metadata": {
    "slideshow": {
     "slide_type": "slide"
    }
   },
   "source": [
    "## Forecasted weather\n",
    "### Common definitions to use for all requests"
   ]
  },
  {
   "cell_type": "code",
   "execution_count": 9,
   "metadata": {
    "slideshow": {
     "slide_type": "-"
    }
   },
   "outputs": [],
   "source": [
    "BASE_URL = \"http://api.openweathermap.org/data/2.5/forecast?\"\n",
    "CITY = \"Noresund\"\n",
    "\n",
    "urlF = BASE_URL + \"q=\" + CITY + \"&appid=\" + API_KEY"
   ]
  },
  {
   "cell_type": "markdown",
   "metadata": {
    "slideshow": {
     "slide_type": "slide"
    }
   },
   "source": [
    "## Request forecasted weather in chosen city"
   ]
  },
  {
   "cell_type": "code",
   "execution_count": 10,
   "metadata": {
    "slideshow": {
     "slide_type": "-"
    }
   },
   "outputs": [
    {
     "name": "stdout",
     "output_type": "stream",
     "text": [
      "{'cod': '200', 'message': 0, 'cnt': 40, 'list': [{'dt': 1700082000, 'main': {'temp': 261.9, 'feels_like': 257.95, 'temp_min': 261.9, 'temp_max': 261.9, 'pressure': 1020, 'sea_level': 1020, 'grnd_level': 1000, 'humidity': 96, 'temp_kf': 0}, 'weather': [{'id': 803, 'main': 'Clouds', 'description': 'broken clouds', 'icon': '04n'}], 'clouds': {'all': 52}, 'wind': {'speed': 1.8, 'deg': 324, 'gust': 1.46}, 'visibility': 10000, 'pop': 0, 'sys': {'pod': 'n'}, 'dt_txt': '2023-11-15 21:00:00'}, {'dt': 1700092800, 'main': {'temp': 261.77, 'feels_like': 257.84, 'temp_min': 261.5, 'temp_max': 261.77, 'pressure': 1020, 'sea_level': 1020, 'grnd_level': 1001, 'humidity': 96, 'temp_kf': 0.27}, 'weather': [{'id': 803, 'main': 'Clouds', 'description': 'broken clouds', 'icon': '04n'}], 'clouds': {'all': 53}, 'wind': {'speed': 1.78, 'deg': 324, 'gust': 1.47}, 'visibility': 10000, 'pop': 0, 'sys': {'pod': 'n'}, 'dt_txt': '2023-11-16 00:00:00'}, {'dt': 1700103600, 'main': {'temp': 261.29, 'feels_like': 257.27, 'temp_min': 260.98, 'temp_max': 261.29, 'pressure': 1021, 'sea_level': 1021, 'grnd_level': 1001, 'humidity': 96, 'temp_kf': 0.31}, 'weather': [{'id': 803, 'main': 'Clouds', 'description': 'broken clouds', 'icon': '04n'}], 'clouds': {'all': 60}, 'wind': {'speed': 1.79, 'deg': 326, 'gust': 1.89}, 'visibility': 10000, 'pop': 0, 'sys': {'pod': 'n'}, 'dt_txt': '2023-11-16 03:00:00'}, {'dt': 1700114400, 'main': {'temp': 260.75, 'feels_like': 256.84, 'temp_min': 260.75, 'temp_max': 260.75, 'pressure': 1021, 'sea_level': 1021, 'grnd_level': 1001, 'humidity': 96, 'temp_kf': 0}, 'weather': [{'id': 803, 'main': 'Clouds', 'description': 'broken clouds', 'icon': '04n'}], 'clouds': {'all': 63}, 'wind': {'speed': 1.69, 'deg': 326, 'gust': 1.39}, 'visibility': 10000, 'pop': 0, 'sys': {'pod': 'n'}, 'dt_txt': '2023-11-16 06:00:00'}, {'dt': 1700125200, 'main': {'temp': 263.18, 'feels_like': 263.18, 'temp_min': 263.18, 'temp_max': 263.18, 'pressure': 1022, 'sea_level': 1022, 'grnd_level': 1002, 'humidity': 91, 'temp_kf': 0}, 'weather': [{'id': 802, 'main': 'Clouds', 'description': 'scattered clouds', 'icon': '03d'}], 'clouds': {'all': 49}, 'wind': {'speed': 1.25, 'deg': 344, 'gust': 1.73}, 'visibility': 10000, 'pop': 0, 'sys': {'pod': 'd'}, 'dt_txt': '2023-11-16 09:00:00'}, {'dt': 1700136000, 'main': {'temp': 266.83, 'feels_like': 266.83, 'temp_min': 266.83, 'temp_max': 266.83, 'pressure': 1021, 'sea_level': 1021, 'grnd_level': 1001, 'humidity': 86, 'temp_kf': 0}, 'weather': [{'id': 802, 'main': 'Clouds', 'description': 'scattered clouds', 'icon': '03d'}], 'clouds': {'all': 38}, 'wind': {'speed': 0.66, 'deg': 34, 'gust': 1.02}, 'visibility': 10000, 'pop': 0, 'sys': {'pod': 'd'}, 'dt_txt': '2023-11-16 12:00:00'}, {'dt': 1700146800, 'main': {'temp': 262.46, 'feels_like': 259.01, 'temp_min': 262.46, 'temp_max': 262.46, 'pressure': 1022, 'sea_level': 1022, 'grnd_level': 1002, 'humidity': 96, 'temp_kf': 0}, 'weather': [{'id': 801, 'main': 'Clouds', 'description': 'few clouds', 'icon': '02n'}], 'clouds': {'all': 16}, 'wind': {'speed': 1.59, 'deg': 331, 'gust': 1.29}, 'visibility': 10000, 'pop': 0, 'sys': {'pod': 'n'}, 'dt_txt': '2023-11-16 15:00:00'}, {'dt': 1700157600, 'main': {'temp': 261.26, 'feels_like': 256.9, 'temp_min': 261.26, 'temp_max': 261.26, 'pressure': 1023, 'sea_level': 1023, 'grnd_level': 1003, 'humidity': 94, 'temp_kf': 0}, 'weather': [{'id': 801, 'main': 'Clouds', 'description': 'few clouds', 'icon': '02n'}], 'clouds': {'all': 21}, 'wind': {'speed': 1.97, 'deg': 320, 'gust': 1.59}, 'visibility': 10000, 'pop': 0, 'sys': {'pod': 'n'}, 'dt_txt': '2023-11-16 18:00:00'}, {'dt': 1700168400, 'main': {'temp': 260.77, 'feels_like': 256.57, 'temp_min': 260.77, 'temp_max': 260.77, 'pressure': 1023, 'sea_level': 1023, 'grnd_level': 1003, 'humidity': 94, 'temp_kf': 0}, 'weather': [{'id': 801, 'main': 'Clouds', 'description': 'few clouds', 'icon': '02n'}], 'clouds': {'all': 23}, 'wind': {'speed': 1.84, 'deg': 315, 'gust': 1.46}, 'visibility': 10000, 'pop': 0, 'sys': {'pod': 'n'}, 'dt_txt': '2023-11-16 21:00:00'}, {'dt': 1700179200, 'main': {'temp': 260.66, 'feels_like': 256.4, 'temp_min': 260.66, 'temp_max': 260.66, 'pressure': 1023, 'sea_level': 1023, 'grnd_level': 1003, 'humidity': 94, 'temp_kf': 0}, 'weather': [{'id': 801, 'main': 'Clouds', 'description': 'few clouds', 'icon': '02n'}], 'clouds': {'all': 21}, 'wind': {'speed': 1.86, 'deg': 323, 'gust': 1.53}, 'visibility': 10000, 'pop': 0, 'sys': {'pod': 'n'}, 'dt_txt': '2023-11-17 00:00:00'}, {'dt': 1700190000, 'main': {'temp': 260.57, 'feels_like': 256.44, 'temp_min': 260.57, 'temp_max': 260.57, 'pressure': 1024, 'sea_level': 1024, 'grnd_level': 1004, 'humidity': 94, 'temp_kf': 0}, 'weather': [{'id': 801, 'main': 'Clouds', 'description': 'few clouds', 'icon': '02n'}], 'clouds': {'all': 19}, 'wind': {'speed': 1.79, 'deg': 320, 'gust': 1.45}, 'visibility': 10000, 'pop': 0, 'sys': {'pod': 'n'}, 'dt_txt': '2023-11-17 03:00:00'}, {'dt': 1700200800, 'main': {'temp': 260.52, 'feels_like': 256.58, 'temp_min': 260.52, 'temp_max': 260.52, 'pressure': 1024, 'sea_level': 1024, 'grnd_level': 1004, 'humidity': 95, 'temp_kf': 0}, 'weather': [{'id': 801, 'main': 'Clouds', 'description': 'few clouds', 'icon': '02n'}], 'clouds': {'all': 18}, 'wind': {'speed': 1.69, 'deg': 314, 'gust': 1.38}, 'visibility': 10000, 'pop': 0, 'sys': {'pod': 'n'}, 'dt_txt': '2023-11-17 06:00:00'}, {'dt': 1700211600, 'main': {'temp': 263.45, 'feels_like': 263.45, 'temp_min': 263.45, 'temp_max': 263.45, 'pressure': 1025, 'sea_level': 1025, 'grnd_level': 1005, 'humidity': 90, 'temp_kf': 0}, 'weather': [{'id': 801, 'main': 'Clouds', 'description': 'few clouds', 'icon': '02d'}], 'clouds': {'all': 16}, 'wind': {'speed': 1.24, 'deg': 330, 'gust': 1.29}, 'visibility': 10000, 'pop': 0, 'sys': {'pod': 'd'}, 'dt_txt': '2023-11-17 09:00:00'}, {'dt': 1700222400, 'main': {'temp': 267.76, 'feels_like': 267.76, 'temp_min': 267.76, 'temp_max': 267.76, 'pressure': 1024, 'sea_level': 1024, 'grnd_level': 1004, 'humidity': 86, 'temp_kf': 0}, 'weather': [{'id': 802, 'main': 'Clouds', 'description': 'scattered clouds', 'icon': '03d'}], 'clouds': {'all': 27}, 'wind': {'speed': 0.41, 'deg': 22, 'gust': 0.91}, 'visibility': 10000, 'pop': 0, 'sys': {'pod': 'd'}, 'dt_txt': '2023-11-17 12:00:00'}, {'dt': 1700233200, 'main': {'temp': 263.32, 'feels_like': 260.16, 'temp_min': 263.32, 'temp_max': 263.32, 'pressure': 1025, 'sea_level': 1025, 'grnd_level': 1005, 'humidity': 96, 'temp_kf': 0}, 'weather': [{'id': 804, 'main': 'Clouds', 'description': 'overcast clouds', 'icon': '04n'}], 'clouds': {'all': 88}, 'wind': {'speed': 1.51, 'deg': 314, 'gust': 1.24}, 'visibility': 10000, 'pop': 0, 'sys': {'pod': 'n'}, 'dt_txt': '2023-11-17 15:00:00'}, {'dt': 1700244000, 'main': {'temp': 263.13, 'feels_like': 259.7, 'temp_min': 263.13, 'temp_max': 263.13, 'pressure': 1026, 'sea_level': 1026, 'grnd_level': 1006, 'humidity': 94, 'temp_kf': 0}, 'weather': [{'id': 804, 'main': 'Clouds', 'description': 'overcast clouds', 'icon': '04n'}], 'clouds': {'all': 93}, 'wind': {'speed': 1.63, 'deg': 310, 'gust': 1.32}, 'visibility': 10000, 'pop': 0, 'sys': {'pod': 'n'}, 'dt_txt': '2023-11-17 18:00:00'}, {'dt': 1700254800, 'main': {'temp': 262.43, 'feels_like': 258.78, 'temp_min': 262.43, 'temp_max': 262.43, 'pressure': 1027, 'sea_level': 1027, 'grnd_level': 1007, 'humidity': 94, 'temp_kf': 0}, 'weather': [{'id': 804, 'main': 'Clouds', 'description': 'overcast clouds', 'icon': '04n'}], 'clouds': {'all': 98}, 'wind': {'speed': 1.69, 'deg': 309, 'gust': 1.34}, 'visibility': 10000, 'pop': 0, 'sys': {'pod': 'n'}, 'dt_txt': '2023-11-17 21:00:00'}, {'dt': 1700265600, 'main': {'temp': 262.73, 'feels_like': 259.36, 'temp_min': 262.73, 'temp_max': 262.73, 'pressure': 1027, 'sea_level': 1027, 'grnd_level': 1007, 'humidity': 93, 'temp_kf': 0}, 'weather': [{'id': 804, 'main': 'Clouds', 'description': 'overcast clouds', 'icon': '04n'}], 'clouds': {'all': 98}, 'wind': {'speed': 1.57, 'deg': 311, 'gust': 1.22}, 'visibility': 10000, 'pop': 0, 'sys': {'pod': 'n'}, 'dt_txt': '2023-11-18 00:00:00'}, {'dt': 1700276400, 'main': {'temp': 263.26, 'feels_like': 260.34, 'temp_min': 263.26, 'temp_max': 263.26, 'pressure': 1027, 'sea_level': 1027, 'grnd_level': 1007, 'humidity': 93, 'temp_kf': 0}, 'weather': [{'id': 804, 'main': 'Clouds', 'description': 'overcast clouds', 'icon': '04n'}], 'clouds': {'all': 99}, 'wind': {'speed': 1.4, 'deg': 309, 'gust': 1.13}, 'visibility': 10000, 'pop': 0, 'sys': {'pod': 'n'}, 'dt_txt': '2023-11-18 03:00:00'}, {'dt': 1700287200, 'main': {'temp': 262.78, 'feels_like': 259.59, 'temp_min': 262.78, 'temp_max': 262.78, 'pressure': 1026, 'sea_level': 1026, 'grnd_level': 1006, 'humidity': 93, 'temp_kf': 0}, 'weather': [{'id': 804, 'main': 'Clouds', 'description': 'overcast clouds', 'icon': '04n'}], 'clouds': {'all': 97}, 'wind': {'speed': 1.49, 'deg': 311, 'gust': 1.28}, 'visibility': 10000, 'pop': 0, 'sys': {'pod': 'n'}, 'dt_txt': '2023-11-18 06:00:00'}, {'dt': 1700298000, 'main': {'temp': 264.28, 'feels_like': 264.28, 'temp_min': 264.28, 'temp_max': 264.28, 'pressure': 1026, 'sea_level': 1026, 'grnd_level': 1006, 'humidity': 88, 'temp_kf': 0}, 'weather': [{'id': 802, 'main': 'Clouds', 'description': 'scattered clouds', 'icon': '03d'}], 'clouds': {'all': 45}, 'wind': {'speed': 1.32, 'deg': 324, 'gust': 1.2}, 'visibility': 10000, 'pop': 0, 'sys': {'pod': 'd'}, 'dt_txt': '2023-11-18 09:00:00'}, {'dt': 1700308800, 'main': {'temp': 268.14, 'feels_like': 268.14, 'temp_min': 268.14, 'temp_max': 268.14, 'pressure': 1024, 'sea_level': 1024, 'grnd_level': 1005, 'humidity': 86, 'temp_kf': 0}, 'weather': [{'id': 802, 'main': 'Clouds', 'description': 'scattered clouds', 'icon': '03d'}], 'clouds': {'all': 33}, 'wind': {'speed': 0.07, 'deg': 252, 'gust': 0.54}, 'visibility': 10000, 'pop': 0, 'sys': {'pod': 'd'}, 'dt_txt': '2023-11-18 12:00:00'}, {'dt': 1700319600, 'main': {'temp': 264.13, 'feels_like': 264.13, 'temp_min': 264.13, 'temp_max': 264.13, 'pressure': 1024, 'sea_level': 1024, 'grnd_level': 1004, 'humidity': 96, 'temp_kf': 0}, 'weather': [{'id': 804, 'main': 'Clouds', 'description': 'overcast clouds', 'icon': '04n'}], 'clouds': {'all': 100}, 'wind': {'speed': 1.28, 'deg': 316, 'gust': 1.04}, 'visibility': 10000, 'pop': 0, 'sys': {'pod': 'n'}, 'dt_txt': '2023-11-18 15:00:00'}, {'dt': 1700330400, 'main': {'temp': 262.88, 'feels_like': 259.71, 'temp_min': 262.88, 'temp_max': 262.88, 'pressure': 1023, 'sea_level': 1023, 'grnd_level': 1003, 'humidity': 95, 'temp_kf': 0}, 'weather': [{'id': 804, 'main': 'Clouds', 'description': 'overcast clouds', 'icon': '04n'}], 'clouds': {'all': 99}, 'wind': {'speed': 1.49, 'deg': 308, 'gust': 1.24}, 'visibility': 10000, 'pop': 0, 'sys': {'pod': 'n'}, 'dt_txt': '2023-11-18 18:00:00'}, {'dt': 1700341200, 'main': {'temp': 263.44, 'feels_like': 263.44, 'temp_min': 263.44, 'temp_max': 263.44, 'pressure': 1022, 'sea_level': 1022, 'grnd_level': 1002, 'humidity': 94, 'temp_kf': 0}, 'weather': [{'id': 804, 'main': 'Clouds', 'description': 'overcast clouds', 'icon': '04n'}], 'clouds': {'all': 100}, 'wind': {'speed': 1.27, 'deg': 321, 'gust': 1.1}, 'visibility': 10000, 'pop': 0, 'sys': {'pod': 'n'}, 'dt_txt': '2023-11-18 21:00:00'}, {'dt': 1700352000, 'main': {'temp': 264.13, 'feels_like': 264.13, 'temp_min': 264.13, 'temp_max': 264.13, 'pressure': 1020, 'sea_level': 1020, 'grnd_level': 1000, 'humidity': 93, 'temp_kf': 0}, 'weather': [{'id': 804, 'main': 'Clouds', 'description': 'overcast clouds', 'icon': '04n'}], 'clouds': {'all': 100}, 'wind': {'speed': 1.25, 'deg': 329, 'gust': 1.12}, 'visibility': 10000, 'pop': 0, 'sys': {'pod': 'n'}, 'dt_txt': '2023-11-19 00:00:00'}, {'dt': 1700362800, 'main': {'temp': 264.62, 'feels_like': 264.62, 'temp_min': 264.62, 'temp_max': 264.62, 'pressure': 1017, 'sea_level': 1017, 'grnd_level': 997, 'humidity': 93, 'temp_kf': 0}, 'weather': [{'id': 804, 'main': 'Clouds', 'description': 'overcast clouds', 'icon': '04n'}], 'clouds': {'all': 100}, 'wind': {'speed': 1.05, 'deg': 344, 'gust': 0.99}, 'visibility': 10000, 'pop': 0, 'sys': {'pod': 'n'}, 'dt_txt': '2023-11-19 03:00:00'}, {'dt': 1700373600, 'main': {'temp': 264.12, 'feels_like': 261.36, 'temp_min': 264.12, 'temp_max': 264.12, 'pressure': 1015, 'sea_level': 1015, 'grnd_level': 996, 'humidity': 93, 'temp_kf': 0}, 'weather': [{'id': 804, 'main': 'Clouds', 'description': 'overcast clouds', 'icon': '04n'}], 'clouds': {'all': 100}, 'wind': {'speed': 1.38, 'deg': 346, 'gust': 1.26}, 'visibility': 10000, 'pop': 0, 'sys': {'pod': 'n'}, 'dt_txt': '2023-11-19 06:00:00'}, {'dt': 1700384400, 'main': {'temp': 265.77, 'feels_like': 265.77, 'temp_min': 265.77, 'temp_max': 265.77, 'pressure': 1015, 'sea_level': 1015, 'grnd_level': 995, 'humidity': 89, 'temp_kf': 0}, 'weather': [{'id': 804, 'main': 'Clouds', 'description': 'overcast clouds', 'icon': '04d'}], 'clouds': {'all': 100}, 'wind': {'speed': 1.14, 'deg': 351, 'gust': 1.66}, 'visibility': 10000, 'pop': 0, 'sys': {'pod': 'd'}, 'dt_txt': '2023-11-19 09:00:00'}, {'dt': 1700395200, 'main': {'temp': 267.93, 'feels_like': 267.93, 'temp_min': 267.93, 'temp_max': 267.93, 'pressure': 1014, 'sea_level': 1014, 'grnd_level': 994, 'humidity': 88, 'temp_kf': 0}, 'weather': [{'id': 804, 'main': 'Clouds', 'description': 'overcast clouds', 'icon': '04d'}], 'clouds': {'all': 100}, 'wind': {'speed': 0.88, 'deg': 6, 'gust': 1.57}, 'visibility': 10000, 'pop': 0, 'sys': {'pod': 'd'}, 'dt_txt': '2023-11-19 12:00:00'}, {'dt': 1700406000, 'main': {'temp': 264.88, 'feels_like': 261.77, 'temp_min': 264.88, 'temp_max': 264.88, 'pressure': 1014, 'sea_level': 1014, 'grnd_level': 995, 'humidity': 96, 'temp_kf': 0}, 'weather': [{'id': 804, 'main': 'Clouds', 'description': 'overcast clouds', 'icon': '04n'}], 'clouds': {'all': 92}, 'wind': {'speed': 1.6, 'deg': 327, 'gust': 1.71}, 'visibility': 10000, 'pop': 0, 'sys': {'pod': 'n'}, 'dt_txt': '2023-11-19 15:00:00'}, {'dt': 1700416800, 'main': {'temp': 264.85, 'feels_like': 261.6, 'temp_min': 264.85, 'temp_max': 264.85, 'pressure': 1015, 'sea_level': 1015, 'grnd_level': 996, 'humidity': 94, 'temp_kf': 0}, 'weather': [{'id': 804, 'main': 'Clouds', 'description': 'overcast clouds', 'icon': '04n'}], 'clouds': {'all': 96}, 'wind': {'speed': 1.67, 'deg': 331, 'gust': 1.84}, 'visibility': 10000, 'pop': 0, 'sys': {'pod': 'n'}, 'dt_txt': '2023-11-19 18:00:00'}, {'dt': 1700427600, 'main': {'temp': 264.17, 'feels_like': 260.72, 'temp_min': 264.17, 'temp_max': 264.17, 'pressure': 1017, 'sea_level': 1017, 'grnd_level': 997, 'humidity': 94, 'temp_kf': 0}, 'weather': [{'id': 804, 'main': 'Clouds', 'description': 'overcast clouds', 'icon': '04n'}], 'clouds': {'all': 100}, 'wind': {'speed': 1.72, 'deg': 330, 'gust': 1.41}, 'visibility': 10000, 'pop': 0, 'sys': {'pod': 'n'}, 'dt_txt': '2023-11-19 21:00:00'}, {'dt': 1700438400, 'main': {'temp': 262.11, 'feels_like': 258.25, 'temp_min': 262.11, 'temp_max': 262.11, 'pressure': 1018, 'sea_level': 1018, 'grnd_level': 999, 'humidity': 95, 'temp_kf': 0}, 'weather': [{'id': 803, 'main': 'Clouds', 'description': 'broken clouds', 'icon': '04n'}], 'clouds': {'all': 76}, 'wind': {'speed': 1.77, 'deg': 322, 'gust': 1.44}, 'visibility': 10000, 'pop': 0, 'sys': {'pod': 'n'}, 'dt_txt': '2023-11-20 00:00:00'}, {'dt': 1700449200, 'main': {'temp': 261.24, 'feels_like': 257.33, 'temp_min': 261.24, 'temp_max': 261.24, 'pressure': 1020, 'sea_level': 1020, 'grnd_level': 1000, 'humidity': 95, 'temp_kf': 0}, 'weather': [{'id': 801, 'main': 'Clouds', 'description': 'few clouds', 'icon': '02n'}], 'clouds': {'all': 21}, 'wind': {'speed': 1.73, 'deg': 324, 'gust': 1.36}, 'visibility': 10000, 'pop': 0, 'sys': {'pod': 'n'}, 'dt_txt': '2023-11-20 03:00:00'}, {'dt': 1700460000, 'main': {'temp': 260.68, 'feels_like': 256.91, 'temp_min': 260.68, 'temp_max': 260.68, 'pressure': 1021, 'sea_level': 1021, 'grnd_level': 1001, 'humidity': 96, 'temp_kf': 0}, 'weather': [{'id': 801, 'main': 'Clouds', 'description': 'few clouds', 'icon': '02n'}], 'clouds': {'all': 22}, 'wind': {'speed': 1.62, 'deg': 319, 'gust': 1.32}, 'visibility': 10000, 'pop': 0, 'sys': {'pod': 'n'}, 'dt_txt': '2023-11-20 06:00:00'}, {'dt': 1700470800, 'main': {'temp': 262.9, 'feels_like': 262.9, 'temp_min': 262.9, 'temp_max': 262.9, 'pressure': 1023, 'sea_level': 1023, 'grnd_level': 1003, 'humidity': 92, 'temp_kf': 0}, 'weather': [{'id': 802, 'main': 'Clouds', 'description': 'scattered clouds', 'icon': '03d'}], 'clouds': {'all': 28}, 'wind': {'speed': 1.09, 'deg': 324, 'gust': 0.99}, 'visibility': 10000, 'pop': 0, 'sys': {'pod': 'd'}, 'dt_txt': '2023-11-20 09:00:00'}, {'dt': 1700481600, 'main': {'temp': 266.53, 'feels_like': 266.53, 'temp_min': 266.53, 'temp_max': 266.53, 'pressure': 1022, 'sea_level': 1022, 'grnd_level': 1003, 'humidity': 89, 'temp_kf': 0}, 'weather': [{'id': 803, 'main': 'Clouds', 'description': 'broken clouds', 'icon': '04d'}], 'clouds': {'all': 55}, 'wind': {'speed': 0.2, 'deg': 98, 'gust': 0.37}, 'visibility': 10000, 'pop': 0, 'sys': {'pod': 'd'}, 'dt_txt': '2023-11-20 12:00:00'}, {'dt': 1700492400, 'main': {'temp': 264.01, 'feels_like': 264.01, 'temp_min': 264.01, 'temp_max': 264.01, 'pressure': 1024, 'sea_level': 1024, 'grnd_level': 1004, 'humidity': 97, 'temp_kf': 0}, 'weather': [{'id': 804, 'main': 'Clouds', 'description': 'overcast clouds', 'icon': '04n'}], 'clouds': {'all': 100}, 'wind': {'speed': 0.83, 'deg': 334, 'gust': 0.76}, 'visibility': 7079, 'pop': 0, 'sys': {'pod': 'n'}, 'dt_txt': '2023-11-20 15:00:00'}, {'dt': 1700503200, 'main': {'temp': 263.02, 'feels_like': 260.04, 'temp_min': 263.02, 'temp_max': 263.02, 'pressure': 1025, 'sea_level': 1025, 'grnd_level': 1005, 'humidity': 96, 'temp_kf': 0}, 'weather': [{'id': 804, 'main': 'Clouds', 'description': 'overcast clouds', 'icon': '04n'}], 'clouds': {'all': 100}, 'wind': {'speed': 1.41, 'deg': 332, 'gust': 1.23}, 'visibility': 10000, 'pop': 0, 'sys': {'pod': 'n'}, 'dt_txt': '2023-11-20 18:00:00'}], 'city': {'id': 3144113, 'name': 'Noresund', 'coord': {'lat': 60.1803, 'lon': 9.6231}, 'country': 'NO', 'population': 1000, 'timezone': 3600, 'sunrise': 1700032768, 'sunset': 1700059969}}\n"
     ]
    }
   ],
   "source": [
    "responseF = requests.get(urlF).json()\n",
    "print(responseF)"
   ]
  },
  {
   "cell_type": "code",
   "execution_count": 11,
   "metadata": {
    "slideshow": {
     "slide_type": "slide"
    }
   },
   "outputs": [],
   "source": [
    "# Write JSON to file for viewing\n",
    "with open('downloads/forecast.json', 'w') as f:\n",
    "    json.dump(responseF, f, indent=4)"
   ]
  },
  {
   "cell_type": "markdown",
   "metadata": {
    "slideshow": {
     "slide_type": "slide"
    }
   },
   "source": [
    "### When and what?\n",
    "Check contents and time stamps"
   ]
  },
  {
   "cell_type": "code",
   "execution_count": 12,
   "metadata": {
    "slideshow": {
     "slide_type": "-"
    }
   },
   "outputs": [
    {
     "data": {
      "text/plain": [
       "dict_keys(['cod', 'message', 'cnt', 'list', 'city'])"
      ]
     },
     "execution_count": 12,
     "metadata": {},
     "output_type": "execute_result"
    }
   ],
   "source": [
    "# Content of responseF\n",
    "responseF.keys()"
   ]
  },
  {
   "cell_type": "code",
   "execution_count": 13,
   "metadata": {
    "slideshow": {
     "slide_type": "fragment"
    }
   },
   "outputs": [
    {
     "name": "stdout",
     "output_type": "stream",
     "text": [
      "40\n"
     ]
    }
   ],
   "source": [
    "# Number of forecasts\n",
    "print(len(responseF[\"list\"]))"
   ]
  },
  {
   "cell_type": "code",
   "execution_count": 14,
   "metadata": {
    "scrolled": true,
    "slideshow": {
     "slide_type": "slide"
    }
   },
   "outputs": [
    {
     "name": "stdout",
     "output_type": "stream",
     "text": [
      "2023-11-15 21:00:00\n",
      "2023-11-16 00:00:00\n",
      "2023-11-16 03:00:00\n",
      "2023-11-16 06:00:00\n",
      "2023-11-16 09:00:00\n",
      "2023-11-16 12:00:00\n",
      "2023-11-16 15:00:00\n",
      "2023-11-16 18:00:00\n",
      "2023-11-16 21:00:00\n",
      "2023-11-17 00:00:00\n",
      "2023-11-17 03:00:00\n",
      "2023-11-17 06:00:00\n",
      "2023-11-17 09:00:00\n",
      "2023-11-17 12:00:00\n",
      "2023-11-17 15:00:00\n",
      "2023-11-17 18:00:00\n",
      "2023-11-17 21:00:00\n",
      "2023-11-18 00:00:00\n",
      "2023-11-18 03:00:00\n",
      "2023-11-18 06:00:00\n",
      "2023-11-18 09:00:00\n",
      "2023-11-18 12:00:00\n",
      "2023-11-18 15:00:00\n",
      "2023-11-18 18:00:00\n",
      "2023-11-18 21:00:00\n",
      "2023-11-19 00:00:00\n",
      "2023-11-19 03:00:00\n",
      "2023-11-19 06:00:00\n",
      "2023-11-19 09:00:00\n",
      "2023-11-19 12:00:00\n",
      "2023-11-19 15:00:00\n",
      "2023-11-19 18:00:00\n",
      "2023-11-19 21:00:00\n",
      "2023-11-20 00:00:00\n",
      "2023-11-20 03:00:00\n",
      "2023-11-20 06:00:00\n",
      "2023-11-20 09:00:00\n",
      "2023-11-20 12:00:00\n",
      "2023-11-20 15:00:00\n",
      "2023-11-20 18:00:00\n"
     ]
    }
   ],
   "source": [
    "# Print forecast times\n",
    "for forecast in responseF[\"list\"]:\n",
    "    print(forecast[\"dt_txt\"])"
   ]
  },
  {
   "cell_type": "markdown",
   "metadata": {
    "slideshow": {
     "slide_type": "slide"
    }
   },
   "source": [
    "## Make plots of omnipresent measurements and events\n",
    "We will later look at missing data, data only sporadically appearing and so on."
   ]
  },
  {
   "cell_type": "code",
   "execution_count": 15,
   "metadata": {
    "slideshow": {
     "slide_type": "-"
    }
   },
   "outputs": [],
   "source": [
    "# Air pressure per period\n",
    "pressures = []\n",
    "timestamps = []\n",
    "for forecast in responseF[\"list\"]:\n",
    "    pressures.append(forecast[\"main\"][\"pressure\"])\n",
    "    timestamps.append(dt.datetime.fromtimestamp(forecast[\"dt\"]))"
   ]
  },
  {
   "cell_type": "code",
   "execution_count": 16,
   "metadata": {
    "slideshow": {
     "slide_type": "slide"
    }
   },
   "outputs": [
    {
     "data": {
      "image/png": "[encoded data removed]",
      "text/plain": [
       "<Figure size 640x480 with 1 Axes>"
      ]
     },
     "metadata": {},
     "output_type": "display_data"
    }
   ],
   "source": [
    "import matplotlib.pyplot as plt\n",
    "plt.bar(timestamps, pressures)\n",
    "plt.xticks(rotation=45)\n",
    "plt.ylim(950, 1050)\n",
    "plt.grid()\n",
    "plt.ylabel(\"Air pressure (hPa)\")\n",
    "plt.title(f\"Forecasted air pressure in {CITY}\")\n",
    "plt.show()"
   ]
  },
  {
   "cell_type": "markdown",
   "metadata": {
    "slideshow": {
     "slide_type": "slide"
    }
   },
   "source": [
    "## Exercise\n",
    "- Make a new forecast request for your own hometown. Call your response something else than responseF.\n",
    "- If available, plot the humidity like we did with air pressure."
   ]
  },
  {
   "cell_type": "markdown",
   "metadata": {
    "slideshow": {
     "slide_type": "slide"
    }
   },
   "source": [
    "### Precipitation\n",
    "- ... comes in two main flavours: rain and snow.\n",
    "- We need to check which is present and set to zero if it is abscent."
   ]
  },
  {
   "cell_type": "code",
   "execution_count": 17,
   "metadata": {
    "slideshow": {
     "slide_type": "-"
    }
   },
   "outputs": [],
   "source": [
    "rain = []\n",
    "snow = []\n",
    "for forecast in responseF[\"list\"]:\n",
    "    try: # Check if rain is present in forecast\n",
    "        rain.append(forecast[\"rain\"][\"3h\"])\n",
    "    except KeyError:\n",
    "        rain.append(0)\n",
    "    try: # Check if snow is present in forecast\n",
    "        snow.append(forecast[\"snow\"][\"3h\"])\n",
    "    except KeyError:\n",
    "        snow.append(0)"
   ]
  },
  {
   "cell_type": "code",
   "execution_count": 18,
   "metadata": {
    "slideshow": {
     "slide_type": "slide"
    }
   },
   "outputs": [
    {
     "data": {
      "image/png": "[encoded data removed]",
      "text/plain": [
       "<Figure size 640x480 with 1 Axes>"
      ]
     },
     "metadata": {},
     "output_type": "display_data"
    }
   ],
   "source": [
    "# Stacked bar chart with rain and snow\n",
    "plt.bar(timestamps, rain, label=\"Rain\")\n",
    "plt.bar(timestamps, snow, label=\"Snow\")\n",
    "plt.xticks(rotation=45)\n",
    "plt.grid()\n",
    "plt.ylabel(\"Precipitation (mm)\")\n",
    "plt.title(f\"Forecasted precipitation in {CITY}\")\n",
    "plt.legend()\n",
    "plt.show()\n"
   ]
  },
  {
   "cell_type": "markdown",
   "metadata": {
    "slideshow": {
     "slide_type": "slide"
    }
   },
   "source": [
    "```{seealso} Resources\n",
    ":class: tip\n",
    "- [YouTube: NeuralNine's video (15m:32s)](https://www.youtube.com/watch?v=9P5MY_2i7K8)\n",
    "```"
   ]
  }
 ],
 "metadata": {
  "celltoolbar": "Slideshow",
  "kernelspec": {
   "display_name": "Python 3 (ipykernel)",
   "language": "python",
   "name": "python3"
  },
  "language_info": {
   "codemirror_mode": {
    "name": "ipython",
    "version": 3
   },
   "file_extension": ".py",
   "mimetype": "text/x-python",
   "name": "python",
   "nbconvert_exporter": "python",
   "pygments_lexer": "ipython3",
   "version": "3.11.6"
  }
 },
 "nbformat": 4,
 "nbformat_minor": 2
}