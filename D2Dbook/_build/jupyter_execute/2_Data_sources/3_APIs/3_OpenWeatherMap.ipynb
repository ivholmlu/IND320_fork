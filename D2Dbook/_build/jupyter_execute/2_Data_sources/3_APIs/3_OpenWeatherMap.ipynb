{
 "cells": [
  {
   "cell_type": "markdown",
   "metadata": {
    "slideshow": {
     "slide_type": "slide"
    }
   },
   "source": [
    "# Demonstration of API using OpenWeatherMap.org\n",
    "This demonstration is heavily inspired by [NeuralNine's video](https://www.youtube.com/watch?v=9P5MY_2i7K8).  \n",
    "You need a free account [from here](https://openweathermap.org/api).  \n",
    "The VS Code extension _JSON viewer_ is recommended for viewing downloaded JSON content.  \n",
    "  - Set your maximum API calls to 1000 per day to make sure you are under the limit for billing. \n",
    "  - To run the examples, download your API key, save it in the right folder (see below) in a file called _api\\_key\\_OpenWeather_, containing only the key (no spaces or \"enters\")."
   ]
  },
  {
   "cell_type": "code",
   "execution_count": 1,
   "metadata": {
    "slideshow": {
     "slide_type": "fragment"
    }
   },
   "outputs": [],
   "source": [
    "# Imports\n",
    "import datetime as dt\n",
    "import requests\n",
    "import json"
   ]
  },
  {
   "cell_type": "markdown",
   "metadata": {
    "slideshow": {
     "slide_type": "slide"
    }
   },
   "source": [
    "## Current weather\n",
    "### Common definitions to use for all requests"
   ]
  },
  {
   "cell_type": "code",
   "execution_count": 2,
   "metadata": {
    "slideshow": {
     "slide_type": "-"
    }
   },
   "outputs": [],
   "source": [
    "BASE_URL = \"http://api.openweathermap.org/data/2.5/weather?\"\n",
    "API_KEY = open('../../../No_sync/api_key_OpenWeather','r').read()\n",
    "CITY = \"Ski\"\n",
    "\n",
    "url = BASE_URL + \"q=\" + CITY + \"&appid=\" + API_KEY"
   ]
  },
  {
   "cell_type": "markdown",
   "metadata": {
    "slideshow": {
     "slide_type": "slide"
    }
   },
   "source": [
    "## Request current weather in chosen city"
   ]
  },
  {
   "cell_type": "code",
   "execution_count": 3,
   "metadata": {
    "slideshow": {
     "slide_type": "fragment"
    }
   },
   "outputs": [
    {
     "name": "stdout",
     "output_type": "stream",
     "text": [
      "{'coord': {'lon': 10.8358, 'lat': 59.7195}, 'weather': [{'id': 500, 'main': 'Rain', 'description': 'light rain', 'icon': '10d'}], 'base': 'stations', 'main': {'temp': 281.77, 'feels_like': 280.67, 'temp_min': 280.33, 'temp_max': 282.64, 'pressure': 1005, 'humidity': 99, 'sea_level': 1005, 'grnd_level': 989}, 'visibility': 10000, 'wind': {'speed': 2.07, 'deg': 135, 'gust': 6.78}, 'rain': {'1h': 0.37}, 'clouds': {'all': 100}, 'dt': 1696575036, 'sys': {'type': 2, 'id': 2006772, 'country': 'NO', 'sunrise': 1696570348, 'sunset': 1696610226}, 'timezone': 7200, 'id': 3139081, 'name': 'Ski', 'cod': 200}\n"
     ]
    }
   ],
   "source": [
    "response = requests.get(url).json()\n",
    "print(response)"
   ]
  },
  {
   "cell_type": "code",
   "execution_count": 4,
   "metadata": {
    "slideshow": {
     "slide_type": "fragment"
    }
   },
   "outputs": [],
   "source": [
    "# Write JSON to file for viewing\n",
    "with open('downloads/weather.json', 'w') as f:\n",
    "    json.dump(response, f, indent=4)"
   ]
  },
  {
   "cell_type": "markdown",
   "metadata": {
    "slideshow": {
     "slide_type": "slide"
    }
   },
   "source": [
    "## Conversion functions\n",
    "Changing scales can make results more interpretable"
   ]
  },
  {
   "cell_type": "code",
   "execution_count": 5,
   "metadata": {
    "slideshow": {
     "slide_type": "-"
    }
   },
   "outputs": [],
   "source": [
    "# Kelvin to Celsius\n",
    "def kelvin_to_celsius(temp):\n",
    "    return temp - 273.15\n",
    "\n",
    "# Meters per second to knots\n",
    "def mps_to_knots(speed):\n",
    "    return speed * 1.943844"
   ]
  },
  {
   "cell_type": "markdown",
   "metadata": {
    "slideshow": {
     "slide_type": "slide"
    }
   },
   "source": [
    "## Print some weather properties"
   ]
  },
  {
   "cell_type": "code",
   "execution_count": 6,
   "metadata": {
    "slideshow": {
     "slide_type": "-"
    }
   },
   "outputs": [
    {
     "name": "stdout",
     "output_type": "stream",
     "text": [
      "The current temperature in Ski is 8.6°C\n"
     ]
    }
   ],
   "source": [
    "# Current temperature\n",
    "temp_kelvin = response['main']['temp']\n",
    "temp_celsius = kelvin_to_celsius(temp_kelvin)\n",
    "print(f\"The current temperature in {CITY} is {temp_celsius:.1f}°C\")"
   ]
  },
  {
   "cell_type": "code",
   "execution_count": 7,
   "metadata": {
    "slideshow": {
     "slide_type": "slide"
    }
   },
   "outputs": [
    {
     "name": "stdout",
     "output_type": "stream",
     "text": [
      "Sunrise today is at 07:32 and sunset is at 18:37\n"
     ]
    }
   ],
   "source": [
    "# Sunrise and sunset today in local time\n",
    "sunrise = dt.datetime.fromtimestamp(response['sys']['sunrise'])\n",
    "sunset = dt.datetime.fromtimestamp(response['sys']['sunset'])\n",
    "print(f\"Sunrise today is at {sunrise:%H:%M} and sunset is at {sunset:%H:%M}\")"
   ]
  },
  {
   "cell_type": "code",
   "execution_count": 8,
   "metadata": {
    "slideshow": {
     "slide_type": "fragment"
    }
   },
   "outputs": [
    {
     "name": "stdout",
     "output_type": "stream",
     "text": [
      "Wind today is from 135° at 4.0 knots\n"
     ]
    }
   ],
   "source": [
    "# Wind direction and speed\n",
    "wind_knots = mps_to_knots(response['wind']['speed'])\n",
    "print(f\"Wind today is from {response['wind']['deg']}° at {round(wind_knots,1)} knots\")"
   ]
  },
  {
   "cell_type": "markdown",
   "metadata": {
    "slideshow": {
     "slide_type": "slide"
    }
   },
   "source": [
    "## Forecasted weather\n",
    "### Common definitions to use for all requests"
   ]
  },
  {
   "cell_type": "code",
   "execution_count": 9,
   "metadata": {
    "slideshow": {
     "slide_type": "-"
    }
   },
   "outputs": [],
   "source": [
    "BASE_URL = \"http://api.openweathermap.org/data/2.5/forecast?\"\n",
    "CITY = \"Noresund\"\n",
    "\n",
    "urlF = BASE_URL + \"q=\" + CITY + \"&appid=\" + API_KEY"
   ]
  },
  {
   "cell_type": "markdown",
   "metadata": {
    "slideshow": {
     "slide_type": "slide"
    }
   },
   "source": [
    "## Request forecasted weather in chosen city"
   ]
  },
  {
   "cell_type": "code",
   "execution_count": 10,
   "metadata": {
    "slideshow": {
     "slide_type": "-"
    }
   },
   "outputs": [
    {
     "name": "stdout",
     "output_type": "stream",
     "text": [
      "{'cod': '200', 'message': 0, 'cnt': 40, 'list': [{'dt': 1696582800, 'main': {'temp': 280.43, 'feels_like': 280.43, 'temp_min': 279.34, 'temp_max': 280.43, 'pressure': 1005, 'sea_level': 1005, 'grnd_level': 984, 'humidity': 95, 'temp_kf': 1.09}, 'weather': [{'id': 500, 'main': 'Rain', 'description': 'light rain', 'icon': '10d'}], 'clouds': {'all': 100}, 'wind': {'speed': 0.57, 'deg': 13, 'gust': 0.75}, 'visibility': 9465, 'pop': 1, 'rain': {'3h': 2.61}, 'sys': {'pod': 'd'}, 'dt_txt': '2023-10-06 09:00:00'}, {'dt': 1696593600, 'main': {'temp': 280.33, 'feels_like': 280.33, 'temp_min': 280, 'temp_max': 280.33, 'pressure': 1001, 'sea_level': 1001, 'grnd_level': 980, 'humidity': 95, 'temp_kf': 0.33}, 'weather': [{'id': 500, 'main': 'Rain', 'description': 'light rain', 'icon': '10d'}], 'clouds': {'all': 100}, 'wind': {'speed': 0.67, 'deg': 244, 'gust': 1.29}, 'visibility': 10000, 'pop': 1, 'rain': {'3h': 0.15}, 'sys': {'pod': 'd'}, 'dt_txt': '2023-10-06 12:00:00'}, {'dt': 1696604400, 'main': {'temp': 283.84, 'feels_like': 283.21, 'temp_min': 283.84, 'temp_max': 283.84, 'pressure': 992, 'sea_level': 992, 'grnd_level': 974, 'humidity': 86, 'temp_kf': 0}, 'weather': [{'id': 804, 'main': 'Clouds', 'description': 'overcast clouds', 'icon': '04d'}], 'clouds': {'all': 92}, 'wind': {'speed': 1.72, 'deg': 206, 'gust': 7.07}, 'visibility': 10000, 'pop': 0, 'sys': {'pod': 'd'}, 'dt_txt': '2023-10-06 15:00:00'}, {'dt': 1696615200, 'main': {'temp': 281.62, 'feels_like': 281.62, 'temp_min': 281.62, 'temp_max': 281.62, 'pressure': 992, 'sea_level': 992, 'grnd_level': 974, 'humidity': 89, 'temp_kf': 0}, 'weather': [{'id': 803, 'main': 'Clouds', 'description': 'broken clouds', 'icon': '04n'}], 'clouds': {'all': 66}, 'wind': {'speed': 1.27, 'deg': 266, 'gust': 4.46}, 'visibility': 10000, 'pop': 0, 'sys': {'pod': 'n'}, 'dt_txt': '2023-10-06 18:00:00'}, {'dt': 1696626000, 'main': {'temp': 279.94, 'feels_like': 277.9, 'temp_min': 279.94, 'temp_max': 279.94, 'pressure': 997, 'sea_level': 997, 'grnd_level': 979, 'humidity': 92, 'temp_kf': 0}, 'weather': [{'id': 500, 'main': 'Rain', 'description': 'light rain', 'icon': '10n'}], 'clouds': {'all': 93}, 'wind': {'speed': 2.87, 'deg': 330, 'gust': 6.56}, 'visibility': 10000, 'pop': 0.66, 'rain': {'3h': 0.36}, 'sys': {'pod': 'n'}, 'dt_txt': '2023-10-06 21:00:00'}, {'dt': 1696636800, 'main': {'temp': 277.56, 'feels_like': 275.42, 'temp_min': 277.56, 'temp_max': 277.56, 'pressure': 1002, 'sea_level': 1002, 'grnd_level': 984, 'humidity': 95, 'temp_kf': 0}, 'weather': [{'id': 803, 'main': 'Clouds', 'description': 'broken clouds', 'icon': '04n'}], 'clouds': {'all': 70}, 'wind': {'speed': 2.42, 'deg': 334, 'gust': 4.52}, 'visibility': 10000, 'pop': 0.03, 'sys': {'pod': 'n'}, 'dt_txt': '2023-10-07 00:00:00'}, {'dt': 1696647600, 'main': {'temp': 278.57, 'feels_like': 277.11, 'temp_min': 278.57, 'temp_max': 278.57, 'pressure': 1004, 'sea_level': 1004, 'grnd_level': 986, 'humidity': 89, 'temp_kf': 0}, 'weather': [{'id': 500, 'main': 'Rain', 'description': 'light rain', 'icon': '10n'}], 'clouds': {'all': 71}, 'wind': {'speed': 1.9, 'deg': 349, 'gust': 5.04}, 'visibility': 10000, 'pop': 0.28, 'rain': {'3h': 0.25}, 'sys': {'pod': 'n'}, 'dt_txt': '2023-10-07 03:00:00'}, {'dt': 1696658400, 'main': {'temp': 277.15, 'feels_like': 275.69, 'temp_min': 277.15, 'temp_max': 277.15, 'pressure': 1008, 'sea_level': 1008, 'grnd_level': 989, 'humidity': 95, 'temp_kf': 0}, 'weather': [{'id': 500, 'main': 'Rain', 'description': 'light rain', 'icon': '10d'}], 'clouds': {'all': 83}, 'wind': {'speed': 1.71, 'deg': 295, 'gust': 2.01}, 'visibility': 10000, 'pop': 0.32, 'rain': {'3h': 0.49}, 'sys': {'pod': 'd'}, 'dt_txt': '2023-10-07 06:00:00'}, {'dt': 1696669200, 'main': {'temp': 281.36, 'feels_like': 281.36, 'temp_min': 281.36, 'temp_max': 281.36, 'pressure': 1009, 'sea_level': 1009, 'grnd_level': 991, 'humidity': 66, 'temp_kf': 0}, 'weather': [{'id': 803, 'main': 'Clouds', 'description': 'broken clouds', 'icon': '04d'}], 'clouds': {'all': 54}, 'wind': {'speed': 1.25, 'deg': 347, 'gust': 3.3}, 'visibility': 10000, 'pop': 0, 'sys': {'pod': 'd'}, 'dt_txt': '2023-10-07 09:00:00'}, {'dt': 1696680000, 'main': {'temp': 282.76, 'feels_like': 281.26, 'temp_min': 282.76, 'temp_max': 282.76, 'pressure': 1011, 'sea_level': 1011, 'grnd_level': 992, 'humidity': 45, 'temp_kf': 0}, 'weather': [{'id': 802, 'main': 'Clouds', 'description': 'scattered clouds', 'icon': '03d'}], 'clouds': {'all': 34}, 'wind': {'speed': 2.89, 'deg': 340, 'gust': 5.26}, 'visibility': 10000, 'pop': 0, 'sys': {'pod': 'd'}, 'dt_txt': '2023-10-07 12:00:00'}, {'dt': 1696690800, 'main': {'temp': 281.46, 'feels_like': 279.89, 'temp_min': 281.46, 'temp_max': 281.46, 'pressure': 1013, 'sea_level': 1013, 'grnd_level': 995, 'humidity': 47, 'temp_kf': 0}, 'weather': [{'id': 801, 'main': 'Clouds', 'description': 'few clouds', 'icon': '02d'}], 'clouds': {'all': 22}, 'wind': {'speed': 2.61, 'deg': 357, 'gust': 5.99}, 'visibility': 10000, 'pop': 0.14, 'sys': {'pod': 'd'}, 'dt_txt': '2023-10-07 15:00:00'}, {'dt': 1696701600, 'main': {'temp': 276.07, 'feels_like': 273.69, 'temp_min': 276.07, 'temp_max': 276.07, 'pressure': 1017, 'sea_level': 1017, 'grnd_level': 998, 'humidity': 72, 'temp_kf': 0}, 'weather': [{'id': 801, 'main': 'Clouds', 'description': 'few clouds', 'icon': '02n'}], 'clouds': {'all': 13}, 'wind': {'speed': 2.39, 'deg': 305, 'gust': 3.85}, 'visibility': 10000, 'pop': 0.06, 'sys': {'pod': 'n'}, 'dt_txt': '2023-10-07 18:00:00'}, {'dt': 1696712400, 'main': {'temp': 274.85, 'feels_like': 272.21, 'temp_min': 274.85, 'temp_max': 274.85, 'pressure': 1020, 'sea_level': 1020, 'grnd_level': 1001, 'humidity': 72, 'temp_kf': 0}, 'weather': [{'id': 800, 'main': 'Clear', 'description': 'clear sky', 'icon': '01n'}], 'clouds': {'all': 0}, 'wind': {'speed': 2.43, 'deg': 292, 'gust': 3.03}, 'visibility': 10000, 'pop': 0, 'sys': {'pod': 'n'}, 'dt_txt': '2023-10-07 21:00:00'}, {'dt': 1696723200, 'main': {'temp': 274.49, 'feels_like': 271.86, 'temp_min': 274.49, 'temp_max': 274.49, 'pressure': 1022, 'sea_level': 1022, 'grnd_level': 1003, 'humidity': 70, 'temp_kf': 0}, 'weather': [{'id': 800, 'main': 'Clear', 'description': 'clear sky', 'icon': '01n'}], 'clouds': {'all': 0}, 'wind': {'speed': 2.36, 'deg': 291, 'gust': 2.74}, 'visibility': 10000, 'pop': 0, 'sys': {'pod': 'n'}, 'dt_txt': '2023-10-08 00:00:00'}, {'dt': 1696734000, 'main': {'temp': 274.22, 'feels_like': 271.68, 'temp_min': 274.22, 'temp_max': 274.22, 'pressure': 1024, 'sea_level': 1024, 'grnd_level': 1005, 'humidity': 71, 'temp_kf': 0}, 'weather': [{'id': 800, 'main': 'Clear', 'description': 'clear sky', 'icon': '01n'}], 'clouds': {'all': 1}, 'wind': {'speed': 2.23, 'deg': 291, 'gust': 2.53}, 'visibility': 10000, 'pop': 0, 'sys': {'pod': 'n'}, 'dt_txt': '2023-10-08 03:00:00'}, {'dt': 1696744800, 'main': {'temp': 274.18, 'feels_like': 271.81, 'temp_min': 274.18, 'temp_max': 274.18, 'pressure': 1025, 'sea_level': 1025, 'grnd_level': 1006, 'humidity': 70, 'temp_kf': 0}, 'weather': [{'id': 800, 'main': 'Clear', 'description': 'clear sky', 'icon': '01d'}], 'clouds': {'all': 4}, 'wind': {'speed': 2.07, 'deg': 286, 'gust': 2.08}, 'visibility': 10000, 'pop': 0, 'sys': {'pod': 'd'}, 'dt_txt': '2023-10-08 06:00:00'}, {'dt': 1696755600, 'main': {'temp': 279.31, 'feels_like': 279.31, 'temp_min': 279.31, 'temp_max': 279.31, 'pressure': 1025, 'sea_level': 1025, 'grnd_level': 1006, 'humidity': 47, 'temp_kf': 0}, 'weather': [{'id': 803, 'main': 'Clouds', 'description': 'broken clouds', 'icon': '04d'}], 'clouds': {'all': 55}, 'wind': {'speed': 1.24, 'deg': 274, 'gust': 2.05}, 'visibility': 10000, 'pop': 0, 'sys': {'pod': 'd'}, 'dt_txt': '2023-10-08 09:00:00'}, {'dt': 1696766400, 'main': {'temp': 281.23, 'feels_like': 281.23, 'temp_min': 281.23, 'temp_max': 281.23, 'pressure': 1024, 'sea_level': 1024, 'grnd_level': 1006, 'humidity': 42, 'temp_kf': 0}, 'weather': [{'id': 803, 'main': 'Clouds', 'description': 'broken clouds', 'icon': '04d'}], 'clouds': {'all': 77}, 'wind': {'speed': 1.25, 'deg': 280, 'gust': 2.76}, 'visibility': 10000, 'pop': 0, 'sys': {'pod': 'd'}, 'dt_txt': '2023-10-08 12:00:00'}, {'dt': 1696777200, 'main': {'temp': 280.36, 'feels_like': 280.36, 'temp_min': 280.36, 'temp_max': 280.36, 'pressure': 1023, 'sea_level': 1023, 'grnd_level': 1004, 'humidity': 52, 'temp_kf': 0}, 'weather': [{'id': 804, 'main': 'Clouds', 'description': 'overcast clouds', 'icon': '04d'}], 'clouds': {'all': 100}, 'wind': {'speed': 1.33, 'deg': 333, 'gust': 2.31}, 'visibility': 10000, 'pop': 0, 'sys': {'pod': 'd'}, 'dt_txt': '2023-10-08 15:00:00'}, {'dt': 1696788000, 'main': {'temp': 276.38, 'feels_like': 274.56, 'temp_min': 276.38, 'temp_max': 276.38, 'pressure': 1024, 'sea_level': 1024, 'grnd_level': 1005, 'humidity': 68, 'temp_kf': 0}, 'weather': [{'id': 804, 'main': 'Clouds', 'description': 'overcast clouds', 'icon': '04n'}], 'clouds': {'all': 100}, 'wind': {'speed': 1.91, 'deg': 317, 'gust': 1.96}, 'visibility': 10000, 'pop': 0, 'sys': {'pod': 'n'}, 'dt_txt': '2023-10-08 18:00:00'}, {'dt': 1696798800, 'main': {'temp': 274.66, 'feels_like': 272.61, 'temp_min': 274.66, 'temp_max': 274.66, 'pressure': 1025, 'sea_level': 1025, 'grnd_level': 1006, 'humidity': 74, 'temp_kf': 0}, 'weather': [{'id': 802, 'main': 'Clouds', 'description': 'scattered clouds', 'icon': '03n'}], 'clouds': {'all': 36}, 'wind': {'speed': 1.87, 'deg': 301, 'gust': 1.79}, 'visibility': 10000, 'pop': 0, 'sys': {'pod': 'n'}, 'dt_txt': '2023-10-08 21:00:00'}, {'dt': 1696809600, 'main': {'temp': 274.24, 'feels_like': 272.35, 'temp_min': 274.24, 'temp_max': 274.24, 'pressure': 1024, 'sea_level': 1024, 'grnd_level': 1005, 'humidity': 74, 'temp_kf': 0}, 'weather': [{'id': 801, 'main': 'Clouds', 'description': 'few clouds', 'icon': '02n'}], 'clouds': {'all': 18}, 'wind': {'speed': 1.7, 'deg': 292, 'gust': 1.59}, 'visibility': 10000, 'pop': 0, 'sys': {'pod': 'n'}, 'dt_txt': '2023-10-09 00:00:00'}, {'dt': 1696820400, 'main': {'temp': 274.34, 'feels_like': 272.58, 'temp_min': 274.34, 'temp_max': 274.34, 'pressure': 1023, 'sea_level': 1023, 'grnd_level': 1004, 'humidity': 74, 'temp_kf': 0}, 'weather': [{'id': 802, 'main': 'Clouds', 'description': 'scattered clouds', 'icon': '03n'}], 'clouds': {'all': 38}, 'wind': {'speed': 1.62, 'deg': 296, 'gust': 1.57}, 'visibility': 10000, 'pop': 0, 'sys': {'pod': 'n'}, 'dt_txt': '2023-10-09 03:00:00'}, {'dt': 1696831200, 'main': {'temp': 274.62, 'feels_like': 274.62, 'temp_min': 274.62, 'temp_max': 274.62, 'pressure': 1021, 'sea_level': 1021, 'grnd_level': 1002, 'humidity': 74, 'temp_kf': 0}, 'weather': [{'id': 803, 'main': 'Clouds', 'description': 'broken clouds', 'icon': '04d'}], 'clouds': {'all': 68}, 'wind': {'speed': 1.17, 'deg': 304, 'gust': 1.24}, 'visibility': 10000, 'pop': 0, 'sys': {'pod': 'd'}, 'dt_txt': '2023-10-09 06:00:00'}, {'dt': 1696842000, 'main': {'temp': 278.23, 'feels_like': 278.23, 'temp_min': 278.23, 'temp_max': 278.23, 'pressure': 1018, 'sea_level': 1018, 'grnd_level': 999, 'humidity': 57, 'temp_kf': 0}, 'weather': [{'id': 804, 'main': 'Clouds', 'description': 'overcast clouds', 'icon': '04d'}], 'clouds': {'all': 100}, 'wind': {'speed': 1.11, 'deg': 151, 'gust': 1.28}, 'visibility': 10000, 'pop': 0, 'sys': {'pod': 'd'}, 'dt_txt': '2023-10-09 09:00:00'}, {'dt': 1696852800, 'main': {'temp': 279.08, 'feels_like': 277.25, 'temp_min': 279.08, 'temp_max': 279.08, 'pressure': 1013, 'sea_level': 1013, 'grnd_level': 995, 'humidity': 54, 'temp_kf': 0}, 'weather': [{'id': 804, 'main': 'Clouds', 'description': 'overcast clouds', 'icon': '04d'}], 'clouds': {'all': 100}, 'wind': {'speed': 2.38, 'deg': 160, 'gust': 3.5}, 'visibility': 10000, 'pop': 0, 'sys': {'pod': 'd'}, 'dt_txt': '2023-10-09 12:00:00'}, {'dt': 1696863600, 'main': {'temp': 275.63, 'feels_like': 275.63, 'temp_min': 275.63, 'temp_max': 275.63, 'pressure': 1011, 'sea_level': 1011, 'grnd_level': 992, 'humidity': 94, 'temp_kf': 0}, 'weather': [{'id': 601, 'main': 'Snow', 'description': 'snow', 'icon': '13d'}], 'clouds': {'all': 100}, 'wind': {'speed': 0.14, 'deg': 126, 'gust': 0.49}, 'visibility': 9837, 'pop': 1, 'snow': {'3h': 2.03}, 'sys': {'pod': 'd'}, 'dt_txt': '2023-10-09 15:00:00'}, {'dt': 1696874400, 'main': {'temp': 275.93, 'feels_like': 275.93, 'temp_min': 275.93, 'temp_max': 275.93, 'pressure': 1008, 'sea_level': 1008, 'grnd_level': 989, 'humidity': 91, 'temp_kf': 0}, 'weather': [{'id': 500, 'main': 'Rain', 'description': 'light rain', 'icon': '10n'}, {'id': 511, 'main': 'Rain', 'description': 'freezing rain', 'icon': '13n'}], 'clouds': {'all': 100}, 'wind': {'speed': 0.46, 'deg': 244, 'gust': 0.89}, 'visibility': 10000, 'pop': 1, 'rain': {'3h': 0.18}, 'sys': {'pod': 'n'}, 'dt_txt': '2023-10-09 18:00:00'}, {'dt': 1696885200, 'main': {'temp': 276.72, 'feels_like': 276.72, 'temp_min': 276.72, 'temp_max': 276.72, 'pressure': 1006, 'sea_level': 1006, 'grnd_level': 987, 'humidity': 88, 'temp_kf': 0}, 'weather': [{'id': 804, 'main': 'Clouds', 'description': 'overcast clouds', 'icon': '04n'}], 'clouds': {'all': 100}, 'wind': {'speed': 0.91, 'deg': 340, 'gust': 1.53}, 'visibility': 10000, 'pop': 0, 'sys': {'pod': 'n'}, 'dt_txt': '2023-10-09 21:00:00'}, {'dt': 1696896000, 'main': {'temp': 274.93, 'feels_like': 274.93, 'temp_min': 274.93, 'temp_max': 274.93, 'pressure': 1006, 'sea_level': 1006, 'grnd_level': 987, 'humidity': 93, 'temp_kf': 0}, 'weather': [{'id': 804, 'main': 'Clouds', 'description': 'overcast clouds', 'icon': '04n'}], 'clouds': {'all': 100}, 'wind': {'speed': 1.09, 'deg': 295, 'gust': 0.95}, 'visibility': 10000, 'pop': 0, 'sys': {'pod': 'n'}, 'dt_txt': '2023-10-10 00:00:00'}, {'dt': 1696906800, 'main': {'temp': 275.32, 'feels_like': 275.32, 'temp_min': 275.32, 'temp_max': 275.32, 'pressure': 1005, 'sea_level': 1005, 'grnd_level': 986, 'humidity': 93, 'temp_kf': 0}, 'weather': [{'id': 804, 'main': 'Clouds', 'description': 'overcast clouds', 'icon': '04n'}], 'clouds': {'all': 100}, 'wind': {'speed': 1.04, 'deg': 274, 'gust': 0.92}, 'visibility': 10000, 'pop': 0, 'sys': {'pod': 'n'}, 'dt_txt': '2023-10-10 03:00:00'}, {'dt': 1696917600, 'main': {'temp': 276.94, 'feels_like': 275.19, 'temp_min': 276.94, 'temp_max': 276.94, 'pressure': 1004, 'sea_level': 1004, 'grnd_level': 986, 'humidity': 93, 'temp_kf': 0}, 'weather': [{'id': 804, 'main': 'Clouds', 'description': 'overcast clouds', 'icon': '04d'}], 'clouds': {'all': 100}, 'wind': {'speed': 1.93, 'deg': 286, 'gust': 1.57}, 'visibility': 10000, 'pop': 0, 'sys': {'pod': 'd'}, 'dt_txt': '2023-10-10 06:00:00'}, {'dt': 1696928400, 'main': {'temp': 282.12, 'feels_like': 282.12, 'temp_min': 282.12, 'temp_max': 282.12, 'pressure': 1003, 'sea_level': 1003, 'grnd_level': 985, 'humidity': 79, 'temp_kf': 0}, 'weather': [{'id': 804, 'main': 'Clouds', 'description': 'overcast clouds', 'icon': '04d'}], 'clouds': {'all': 100}, 'wind': {'speed': 1.32, 'deg': 252, 'gust': 2.25}, 'visibility': 10000, 'pop': 0, 'sys': {'pod': 'd'}, 'dt_txt': '2023-10-10 09:00:00'}, {'dt': 1696939200, 'main': {'temp': 283.87, 'feels_like': 282.88, 'temp_min': 283.87, 'temp_max': 283.87, 'pressure': 1001, 'sea_level': 1001, 'grnd_level': 983, 'humidity': 72, 'temp_kf': 0}, 'weather': [{'id': 804, 'main': 'Clouds', 'description': 'overcast clouds', 'icon': '04d'}], 'clouds': {'all': 100}, 'wind': {'speed': 1.42, 'deg': 221, 'gust': 2.46}, 'visibility': 10000, 'pop': 0, 'sys': {'pod': 'd'}, 'dt_txt': '2023-10-10 12:00:00'}, {'dt': 1696950000, 'main': {'temp': 281.72, 'feels_like': 281.1, 'temp_min': 281.72, 'temp_max': 281.72, 'pressure': 998, 'sea_level': 998, 'grnd_level': 980, 'humidity': 89, 'temp_kf': 0}, 'weather': [{'id': 804, 'main': 'Clouds', 'description': 'overcast clouds', 'icon': '04d'}], 'clouds': {'all': 100}, 'wind': {'speed': 1.56, 'deg': 217, 'gust': 1.43}, 'visibility': 10000, 'pop': 0, 'sys': {'pod': 'd'}, 'dt_txt': '2023-10-10 15:00:00'}, {'dt': 1696960800, 'main': {'temp': 279.83, 'feels_like': 279.83, 'temp_min': 279.83, 'temp_max': 279.83, 'pressure': 995, 'sea_level': 995, 'grnd_level': 977, 'humidity': 96, 'temp_kf': 0}, 'weather': [{'id': 804, 'main': 'Clouds', 'description': 'overcast clouds', 'icon': '04n'}], 'clouds': {'all': 100}, 'wind': {'speed': 1.24, 'deg': 205, 'gust': 1.23}, 'visibility': 10000, 'pop': 0, 'sys': {'pod': 'n'}, 'dt_txt': '2023-10-10 18:00:00'}, {'dt': 1696971600, 'main': {'temp': 280, 'feels_like': 280, 'temp_min': 280, 'temp_max': 280, 'pressure': 991, 'sea_level': 991, 'grnd_level': 973, 'humidity': 95, 'temp_kf': 0}, 'weather': [{'id': 804, 'main': 'Clouds', 'description': 'overcast clouds', 'icon': '04n'}], 'clouds': {'all': 100}, 'wind': {'speed': 1.11, 'deg': 244, 'gust': 1.01}, 'visibility': 10000, 'pop': 0, 'sys': {'pod': 'n'}, 'dt_txt': '2023-10-10 21:00:00'}, {'dt': 1696982400, 'main': {'temp': 278.25, 'feels_like': 277.24, 'temp_min': 278.25, 'temp_max': 278.25, 'pressure': 989, 'sea_level': 989, 'grnd_level': 971, 'humidity': 96, 'temp_kf': 0}, 'weather': [{'id': 803, 'main': 'Clouds', 'description': 'broken clouds', 'icon': '04n'}], 'clouds': {'all': 81}, 'wind': {'speed': 1.48, 'deg': 242, 'gust': 1.28}, 'visibility': 10000, 'pop': 0, 'sys': {'pod': 'n'}, 'dt_txt': '2023-10-11 00:00:00'}, {'dt': 1696993200, 'main': {'temp': 280.04, 'feels_like': 278.97, 'temp_min': 280.04, 'temp_max': 280.04, 'pressure': 987, 'sea_level': 987, 'grnd_level': 969, 'humidity': 95, 'temp_kf': 0}, 'weather': [{'id': 803, 'main': 'Clouds', 'description': 'broken clouds', 'icon': '04n'}], 'clouds': {'all': 82}, 'wind': {'speed': 1.75, 'deg': 233, 'gust': 2.28}, 'visibility': 10000, 'pop': 0, 'sys': {'pod': 'n'}, 'dt_txt': '2023-10-11 03:00:00'}, {'dt': 1697004000, 'main': {'temp': 277.98, 'feels_like': 276.1, 'temp_min': 277.98, 'temp_max': 277.98, 'pressure': 986, 'sea_level': 986, 'grnd_level': 968, 'humidity': 85, 'temp_kf': 0}, 'weather': [{'id': 802, 'main': 'Clouds', 'description': 'scattered clouds', 'icon': '03d'}], 'clouds': {'all': 50}, 'wind': {'speed': 2.22, 'deg': 239, 'gust': 5.56}, 'visibility': 10000, 'pop': 0, 'sys': {'pod': 'd'}, 'dt_txt': '2023-10-11 06:00:00'}], 'city': {'id': 3144113, 'name': 'Noresund', 'coord': {'lat': 60.1803, 'lon': 9.6231}, 'country': 'NO', 'population': 1000, 'timezone': 7200, 'sunrise': 1696570673, 'sunset': 1696610483}}\n"
     ]
    }
   ],
   "source": [
    "responseF = requests.get(urlF).json()\n",
    "print(responseF)"
   ]
  },
  {
   "cell_type": "code",
   "execution_count": 11,
   "metadata": {
    "slideshow": {
     "slide_type": "slide"
    }
   },
   "outputs": [],
   "source": [
    "# Write JSON to file for viewing\n",
    "with open('downloads/forecast.json', 'w') as f:\n",
    "    json.dump(responseF, f, indent=4)"
   ]
  },
  {
   "cell_type": "markdown",
   "metadata": {
    "slideshow": {
     "slide_type": "slide"
    }
   },
   "source": [
    "### When and what?\n",
    "Check contents and time stamps"
   ]
  },
  {
   "cell_type": "code",
   "execution_count": 12,
   "metadata": {
    "slideshow": {
     "slide_type": "-"
    }
   },
   "outputs": [
    {
     "data": {
      "text/plain": [
       "dict_keys(['cod', 'message', 'cnt', 'list', 'city'])"
      ]
     },
     "execution_count": 12,
     "metadata": {},
     "output_type": "execute_result"
    }
   ],
   "source": [
    "# Content of responseF\n",
    "responseF.keys()"
   ]
  },
  {
   "cell_type": "code",
   "execution_count": 13,
   "metadata": {
    "slideshow": {
     "slide_type": "fragment"
    }
   },
   "outputs": [
    {
     "name": "stdout",
     "output_type": "stream",
     "text": [
      "40\n"
     ]
    }
   ],
   "source": [
    "# Number of forecasts\n",
    "print(len(responseF[\"list\"]))"
   ]
  },
  {
   "cell_type": "code",
   "execution_count": 14,
   "metadata": {
    "scrolled": true,
    "slideshow": {
     "slide_type": "slide"
    }
   },
   "outputs": [
    {
     "name": "stdout",
     "output_type": "stream",
     "text": [
      "2023-10-06 09:00:00\n",
      "2023-10-06 12:00:00\n",
      "2023-10-06 15:00:00\n",
      "2023-10-06 18:00:00\n",
      "2023-10-06 21:00:00\n",
      "2023-10-07 00:00:00\n",
      "2023-10-07 03:00:00\n",
      "2023-10-07 06:00:00\n",
      "2023-10-07 09:00:00\n",
      "2023-10-07 12:00:00\n",
      "2023-10-07 15:00:00\n",
      "2023-10-07 18:00:00\n",
      "2023-10-07 21:00:00\n",
      "2023-10-08 00:00:00\n",
      "2023-10-08 03:00:00\n",
      "2023-10-08 06:00:00\n",
      "2023-10-08 09:00:00\n",
      "2023-10-08 12:00:00\n",
      "2023-10-08 15:00:00\n",
      "2023-10-08 18:00:00\n",
      "2023-10-08 21:00:00\n",
      "2023-10-09 00:00:00\n",
      "2023-10-09 03:00:00\n",
      "2023-10-09 06:00:00\n",
      "2023-10-09 09:00:00\n",
      "2023-10-09 12:00:00\n",
      "2023-10-09 15:00:00\n",
      "2023-10-09 18:00:00\n",
      "2023-10-09 21:00:00\n",
      "2023-10-10 00:00:00\n",
      "2023-10-10 03:00:00\n",
      "2023-10-10 06:00:00\n",
      "2023-10-10 09:00:00\n",
      "2023-10-10 12:00:00\n",
      "2023-10-10 15:00:00\n",
      "2023-10-10 18:00:00\n",
      "2023-10-10 21:00:00\n",
      "2023-10-11 00:00:00\n",
      "2023-10-11 03:00:00\n",
      "2023-10-11 06:00:00\n"
     ]
    }
   ],
   "source": [
    "# Print forecast times\n",
    "for forecast in responseF[\"list\"]:\n",
    "    print(forecast[\"dt_txt\"])"
   ]
  },
  {
   "cell_type": "markdown",
   "metadata": {
    "slideshow": {
     "slide_type": "slide"
    }
   },
   "source": [
    "## Make plots of omnipresent measurements and events\n",
    "We will later look at missing data, data only sporadically appearing and so on."
   ]
  },
  {
   "cell_type": "code",
   "execution_count": 15,
   "metadata": {
    "slideshow": {
     "slide_type": "-"
    }
   },
   "outputs": [],
   "source": [
    "# Air pressure per period\n",
    "pressures = []\n",
    "timestamps = []\n",
    "for forecast in responseF[\"list\"]:\n",
    "    pressures.append(forecast[\"main\"][\"pressure\"])\n",
    "    timestamps.append(dt.datetime.fromtimestamp(forecast[\"dt\"]))"
   ]
  },
  {
   "cell_type": "code",
   "execution_count": 16,
   "metadata": {
    "slideshow": {
     "slide_type": "slide"
    }
   },
   "outputs": [
    {
     "data": {
      "image/png": "[encoded data removed]",
      "text/plain": [
       "<Figure size 640x480 with 1 Axes>"
      ]
     },
     "metadata": {},
     "output_type": "display_data"
    }
   ],
   "source": [
    "import matplotlib.pyplot as plt\n",
    "plt.bar(timestamps, pressures)\n",
    "plt.xticks(rotation=45)\n",
    "plt.ylim(950, 1050)\n",
    "plt.grid()\n",
    "plt.ylabel(\"Air pressure (hPa)\")\n",
    "plt.title(f\"Forecasted air pressure in {CITY}\")\n",
    "plt.show()"
   ]
  },
  {
   "cell_type": "markdown",
   "metadata": {
    "slideshow": {
     "slide_type": "slide"
    }
   },
   "source": [
    "## Exercise\n",
    "- Make a new forecast request for your own hometown. Call your response something else than responseF.\n",
    "- If available, plot the humidity like we did with air pressure."
   ]
  },
  {
   "cell_type": "markdown",
   "metadata": {
    "slideshow": {
     "slide_type": "slide"
    }
   },
   "source": [
    "### Precipitation\n",
    "- ... comes in two main flavours: rain and snow.\n",
    "- We need to check which is present and set to zero if it is abscent."
   ]
  },
  {
   "cell_type": "code",
   "execution_count": 17,
   "metadata": {
    "slideshow": {
     "slide_type": "-"
    }
   },
   "outputs": [],
   "source": [
    "rain = []\n",
    "snow = []\n",
    "for forecast in responseF[\"list\"]:\n",
    "    try: # Check if rain is present in forecast\n",
    "        rain.append(forecast[\"rain\"][\"3h\"])\n",
    "    except KeyError:\n",
    "        rain.append(0)\n",
    "    try: # Check if snow is present in forecast\n",
    "        snow.append(forecast[\"snow\"][\"3h\"])\n",
    "    except KeyError:\n",
    "        snow.append(0)"
   ]
  },
  {
   "cell_type": "code",
   "execution_count": 18,
   "metadata": {
    "slideshow": {
     "slide_type": "slide"
    }
   },
   "outputs": [
    {
     "data": {
      "image/png": "[encoded data removed]",
      "text/plain": [
       "<Figure size 640x480 with 1 Axes>"
      ]
     },
     "metadata": {},
     "output_type": "display_data"
    }
   ],
   "source": [
    "# Stacked bar chart with rain and snow\n",
    "plt.bar(timestamps, rain, label=\"Rain\")\n",
    "plt.bar(timestamps, snow, label=\"Snow\")\n",
    "plt.xticks(rotation=45)\n",
    "plt.grid()\n",
    "plt.ylabel(\"Precipitation (mm)\")\n",
    "plt.title(f\"Forecasted precipitation in {CITY}\")\n",
    "plt.legend()\n",
    "plt.show()\n"
   ]
  },
  {
   "cell_type": "markdown",
   "metadata": {
    "slideshow": {
     "slide_type": "slide"
    }
   },
   "source": [
    "## Resources\n",
    "- [YouTube: NeuralNine's video (15m:32s)](https://www.youtube.com/watch?v=9P5MY_2i7K8)"
   ]
  }
 ],
 "metadata": {
  "celltoolbar": "Slideshow",
  "kernelspec": {
   "display_name": "Python 3 (ipykernel)",
   "language": "python",
   "name": "python3"
  },
  "language_info": {
   "codemirror_mode": {
    "name": "ipython",
    "version": 3
   },
   "file_extension": ".py",
   "mimetype": "text/x-python",
   "name": "python",
   "nbconvert_exporter": "python",
   "pygments_lexer": "ipython3",
   "version": "3.10.6"
  }
 },
 "nbformat": 4,
 "nbformat_minor": 2
}