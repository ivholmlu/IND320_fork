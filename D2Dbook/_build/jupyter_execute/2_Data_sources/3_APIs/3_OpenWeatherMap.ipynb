{
 "cells": [
  {
   "cell_type": "markdown",
   "metadata": {
    "slideshow": {
     "slide_type": "slide"
    }
   },
   "source": [
    "# Demonstration of API using OpenWeatherMap.org\n",
    "This demonstration is heavily inspired by [NeuralNine's video](https://www.youtube.com/watch?v=9P5MY_2i7K8).  \n",
    "You need a free account [from here](https://openweathermap.org/api).  \n",
    "The VS Code extension _JSON viewer_ is recommended for viewing downloaded JSON content.  \n",
    "  - Set your maximum API calls to 1000 per day to make sure you are under the limit for billing. \n",
    "  - To run the examples, download your API key, save it in the right folder (see below) in a file called _api\\_key\\_OpenWeather_, containing only the key (no spaces or \"enters\")."
   ]
  },
  {
   "cell_type": "code",
   "execution_count": 1,
   "metadata": {
    "slideshow": {
     "slide_type": "fragment"
    }
   },
   "outputs": [],
   "source": [
    "# Imports\n",
    "import datetime as dt\n",
    "import requests\n",
    "import json"
   ]
  },
  {
   "cell_type": "markdown",
   "metadata": {
    "slideshow": {
     "slide_type": "slide"
    }
   },
   "source": [
    "## Current weather\n",
    "### Common definitions to use for all requests"
   ]
  },
  {
   "cell_type": "code",
   "execution_count": 2,
   "metadata": {
    "slideshow": {
     "slide_type": "-"
    }
   },
   "outputs": [],
   "source": [
    "BASE_URL = \"http://api.openweathermap.org/data/2.5/weather?\"\n",
    "API_KEY = open('../../../No_sync/api_key_OpenWeather','r').read()\n",
    "CITY = \"Ski\"\n",
    "\n",
    "url = BASE_URL + \"q=\" + CITY + \"&appid=\" + API_KEY"
   ]
  },
  {
   "cell_type": "markdown",
   "metadata": {
    "slideshow": {
     "slide_type": "slide"
    }
   },
   "source": [
    "## Request current weather in chosen city"
   ]
  },
  {
   "cell_type": "code",
   "execution_count": 3,
   "metadata": {
    "slideshow": {
     "slide_type": "fragment"
    }
   },
   "outputs": [
    {
     "name": "stdout",
     "output_type": "stream",
     "text": [
      "{'coord': {'lon': 10.8358, 'lat': 59.7195}, 'weather': [{'id': 804, 'main': 'Clouds', 'description': 'overcast clouds', 'icon': '04d'}], 'base': 'stations', 'main': {'temp': 278.43, 'feels_like': 277.24, 'temp_min': 278.03, 'temp_max': 279.31, 'pressure': 1012, 'humidity': 95, 'sea_level': 1012, 'grnd_level': 995}, 'visibility': 10000, 'wind': {'speed': 1.64, 'deg': 9, 'gust': 3.3}, 'clouds': {'all': 100}, 'dt': 1698053742, 'sys': {'type': 2, 'id': 2006772, 'country': 'NO', 'sunrise': 1698041621, 'sunset': 1698076086}, 'timezone': 7200, 'id': 3139081, 'name': 'Ski', 'cod': 200}\n"
     ]
    }
   ],
   "source": [
    "response = requests.get(url).json()\n",
    "print(response)"
   ]
  },
  {
   "cell_type": "code",
   "execution_count": 4,
   "metadata": {
    "slideshow": {
     "slide_type": "fragment"
    }
   },
   "outputs": [],
   "source": [
    "# Write JSON to file for viewing\n",
    "with open('downloads/weather.json', 'w') as f:\n",
    "    json.dump(response, f, indent=4)"
   ]
  },
  {
   "cell_type": "markdown",
   "metadata": {
    "slideshow": {
     "slide_type": "slide"
    }
   },
   "source": [
    "## Conversion functions\n",
    "Changing scales can make results more interpretable"
   ]
  },
  {
   "cell_type": "code",
   "execution_count": 5,
   "metadata": {
    "slideshow": {
     "slide_type": "-"
    }
   },
   "outputs": [],
   "source": [
    "# Kelvin to Celsius\n",
    "def kelvin_to_celsius(temp):\n",
    "    return temp - 273.15\n",
    "\n",
    "# Meters per second to knots\n",
    "def mps_to_knots(speed):\n",
    "    return speed * 1.943844"
   ]
  },
  {
   "cell_type": "markdown",
   "metadata": {
    "slideshow": {
     "slide_type": "slide"
    }
   },
   "source": [
    "## Print some weather properties"
   ]
  },
  {
   "cell_type": "code",
   "execution_count": 6,
   "metadata": {
    "slideshow": {
     "slide_type": "-"
    }
   },
   "outputs": [
    {
     "name": "stdout",
     "output_type": "stream",
     "text": [
      "The current temperature in Ski is 5.3°C\n"
     ]
    }
   ],
   "source": [
    "# Current temperature\n",
    "temp_kelvin = response['main']['temp']\n",
    "temp_celsius = kelvin_to_celsius(temp_kelvin)\n",
    "print(f\"The current temperature in {CITY} is {temp_celsius:.1f}°C\")"
   ]
  },
  {
   "cell_type": "code",
   "execution_count": 7,
   "metadata": {
    "slideshow": {
     "slide_type": "slide"
    }
   },
   "outputs": [
    {
     "name": "stdout",
     "output_type": "stream",
     "text": [
      "Sunrise today is at 08:13 and sunset is at 17:48\n"
     ]
    }
   ],
   "source": [
    "# Sunrise and sunset today in local time\n",
    "sunrise = dt.datetime.fromtimestamp(response['sys']['sunrise'])\n",
    "sunset = dt.datetime.fromtimestamp(response['sys']['sunset'])\n",
    "print(f\"Sunrise today is at {sunrise:%H:%M} and sunset is at {sunset:%H:%M}\")"
   ]
  },
  {
   "cell_type": "code",
   "execution_count": 8,
   "metadata": {
    "slideshow": {
     "slide_type": "fragment"
    }
   },
   "outputs": [
    {
     "name": "stdout",
     "output_type": "stream",
     "text": [
      "Wind today is from 9° at 3.2 knots\n"
     ]
    }
   ],
   "source": [
    "# Wind direction and speed\n",
    "wind_knots = mps_to_knots(response['wind']['speed'])\n",
    "print(f\"Wind today is from {response['wind']['deg']}° at {round(wind_knots,1)} knots\")"
   ]
  },
  {
   "cell_type": "markdown",
   "metadata": {
    "slideshow": {
     "slide_type": "slide"
    }
   },
   "source": [
    "## Forecasted weather\n",
    "### Common definitions to use for all requests"
   ]
  },
  {
   "cell_type": "code",
   "execution_count": 9,
   "metadata": {
    "slideshow": {
     "slide_type": "-"
    }
   },
   "outputs": [],
   "source": [
    "BASE_URL = \"http://api.openweathermap.org/data/2.5/forecast?\"\n",
    "CITY = \"Noresund\"\n",
    "\n",
    "urlF = BASE_URL + \"q=\" + CITY + \"&appid=\" + API_KEY"
   ]
  },
  {
   "cell_type": "markdown",
   "metadata": {
    "slideshow": {
     "slide_type": "slide"
    }
   },
   "source": [
    "## Request forecasted weather in chosen city"
   ]
  },
  {
   "cell_type": "code",
   "execution_count": 10,
   "metadata": {
    "slideshow": {
     "slide_type": "-"
    }
   },
   "outputs": [
    {
     "name": "stdout",
     "output_type": "stream",
     "text": [
      "{'cod': '200', 'message': 0, 'cnt': 40, 'list': [{'dt': 1698062400, 'main': {'temp': 278.55, 'feels_like': 278.55, 'temp_min': 278.55, 'temp_max': 280.34, 'pressure': 1012, 'sea_level': 1012, 'grnd_level': 994, 'humidity': 89, 'temp_kf': -1.79}, 'weather': [{'id': 804, 'main': 'Clouds', 'description': 'overcast clouds', 'icon': '04d'}], 'clouds': {'all': 99}, 'wind': {'speed': 0.48, 'deg': 83, 'gust': 0.74}, 'visibility': 10000, 'pop': 0, 'sys': {'pod': 'd'}, 'dt_txt': '2023-10-23 12:00:00'}, {'dt': 1698073200, 'main': {'temp': 277.83, 'feels_like': 277.83, 'temp_min': 277.83, 'temp_max': 277.92, 'pressure': 1013, 'sea_level': 1013, 'grnd_level': 995, 'humidity': 93, 'temp_kf': -0.09}, 'weather': [{'id': 803, 'main': 'Clouds', 'description': 'broken clouds', 'icon': '04d'}], 'clouds': {'all': 61}, 'wind': {'speed': 0.34, 'deg': 117, 'gust': 0.41}, 'visibility': 10000, 'pop': 0, 'sys': {'pod': 'd'}, 'dt_txt': '2023-10-23 15:00:00'}, {'dt': 1698084000, 'main': {'temp': 276.05, 'feels_like': 274.83, 'temp_min': 276.05, 'temp_max': 276.05, 'pressure': 1015, 'sea_level': 1015, 'grnd_level': 996, 'humidity': 94, 'temp_kf': 0}, 'weather': [{'id': 802, 'main': 'Clouds', 'description': 'scattered clouds', 'icon': '03n'}], 'clouds': {'all': 45}, 'wind': {'speed': 1.41, 'deg': 330, 'gust': 1.28}, 'visibility': 10000, 'pop': 0, 'sys': {'pod': 'n'}, 'dt_txt': '2023-10-23 18:00:00'}, {'dt': 1698094800, 'main': {'temp': 275.33, 'feels_like': 275.33, 'temp_min': 275.33, 'temp_max': 275.33, 'pressure': 1016, 'sea_level': 1016, 'grnd_level': 997, 'humidity': 94, 'temp_kf': 0}, 'weather': [{'id': 802, 'main': 'Clouds', 'description': 'scattered clouds', 'icon': '03n'}], 'clouds': {'all': 47}, 'wind': {'speed': 1.27, 'deg': 351, 'gust': 1.2}, 'visibility': 10000, 'pop': 0, 'sys': {'pod': 'n'}, 'dt_txt': '2023-10-23 21:00:00'}, {'dt': 1698105600, 'main': {'temp': 274.99, 'feels_like': 274.99, 'temp_min': 274.99, 'temp_max': 274.99, 'pressure': 1017, 'sea_level': 1017, 'grnd_level': 998, 'humidity': 93, 'temp_kf': 0}, 'weather': [{'id': 802, 'main': 'Clouds', 'description': 'scattered clouds', 'icon': '03n'}], 'clouds': {'all': 33}, 'wind': {'speed': 1.25, 'deg': 349, 'gust': 1.16}, 'visibility': 10000, 'pop': 0, 'sys': {'pod': 'n'}, 'dt_txt': '2023-10-24 00:00:00'}, {'dt': 1698116400, 'main': {'temp': 274.44, 'feels_like': 274.44, 'temp_min': 274.44, 'temp_max': 274.44, 'pressure': 1018, 'sea_level': 1018, 'grnd_level': 999, 'humidity': 94, 'temp_kf': 0}, 'weather': [{'id': 802, 'main': 'Clouds', 'description': 'scattered clouds', 'icon': '03n'}], 'clouds': {'all': 32}, 'wind': {'speed': 0.88, 'deg': 16, 'gust': 0.81}, 'visibility': 10000, 'pop': 0, 'sys': {'pod': 'n'}, 'dt_txt': '2023-10-24 03:00:00'}, {'dt': 1698127200, 'main': {'temp': 274.39, 'feels_like': 274.39, 'temp_min': 274.39, 'temp_max': 274.39, 'pressure': 1019, 'sea_level': 1019, 'grnd_level': 1000, 'humidity': 95, 'temp_kf': 0}, 'weather': [{'id': 802, 'main': 'Clouds', 'description': 'scattered clouds', 'icon': '03n'}], 'clouds': {'all': 44}, 'wind': {'speed': 1.14, 'deg': 9, 'gust': 1.08}, 'visibility': 10000, 'pop': 0, 'sys': {'pod': 'n'}, 'dt_txt': '2023-10-24 06:00:00'}, {'dt': 1698138000, 'main': {'temp': 276.47, 'feels_like': 276.47, 'temp_min': 276.47, 'temp_max': 276.47, 'pressure': 1019, 'sea_level': 1019, 'grnd_level': 1000, 'humidity': 90, 'temp_kf': 0}, 'weather': [{'id': 804, 'main': 'Clouds', 'description': 'overcast clouds', 'icon': '04d'}], 'clouds': {'all': 99}, 'wind': {'speed': 0.55, 'deg': 47, 'gust': 0.83}, 'visibility': 10000, 'pop': 0, 'sys': {'pod': 'd'}, 'dt_txt': '2023-10-24 09:00:00'}, {'dt': 1698148800, 'main': {'temp': 276.57, 'feels_like': 276.57, 'temp_min': 276.57, 'temp_max': 276.57, 'pressure': 1019, 'sea_level': 1019, 'grnd_level': 1000, 'humidity': 95, 'temp_kf': 0}, 'weather': [{'id': 804, 'main': 'Clouds', 'description': 'overcast clouds', 'icon': '04d'}], 'clouds': {'all': 99}, 'wind': {'speed': 0.68, 'deg': 44, 'gust': 1.03}, 'visibility': 10000, 'pop': 0, 'sys': {'pod': 'd'}, 'dt_txt': '2023-10-24 12:00:00'}, {'dt': 1698159600, 'main': {'temp': 276.36, 'feels_like': 276.36, 'temp_min': 276.36, 'temp_max': 276.36, 'pressure': 1018, 'sea_level': 1018, 'grnd_level': 999, 'humidity': 98, 'temp_kf': 0}, 'weather': [{'id': 804, 'main': 'Clouds', 'description': 'overcast clouds', 'icon': '04d'}], 'clouds': {'all': 100}, 'wind': {'speed': 0.81, 'deg': 39, 'gust': 1.15}, 'visibility': 3486, 'pop': 0.02, 'sys': {'pod': 'd'}, 'dt_txt': '2023-10-24 15:00:00'}, {'dt': 1698170400, 'main': {'temp': 276.34, 'feels_like': 276.34, 'temp_min': 276.34, 'temp_max': 276.34, 'pressure': 1018, 'sea_level': 1018, 'grnd_level': 999, 'humidity': 99, 'temp_kf': 0}, 'weather': [{'id': 804, 'main': 'Clouds', 'description': 'overcast clouds', 'icon': '04n'}], 'clouds': {'all': 100}, 'wind': {'speed': 0.8, 'deg': 47, 'gust': 1.44}, 'visibility': 925, 'pop': 0.06, 'sys': {'pod': 'n'}, 'dt_txt': '2023-10-24 18:00:00'}, {'dt': 1698181200, 'main': {'temp': 276.35, 'feels_like': 276.35, 'temp_min': 276.35, 'temp_max': 276.35, 'pressure': 1018, 'sea_level': 1018, 'grnd_level': 999, 'humidity': 99, 'temp_kf': 0}, 'weather': [{'id': 804, 'main': 'Clouds', 'description': 'overcast clouds', 'icon': '04n'}], 'clouds': {'all': 100}, 'wind': {'speed': 1.01, 'deg': 45, 'gust': 1.86}, 'visibility': 568, 'pop': 0.09, 'sys': {'pod': 'n'}, 'dt_txt': '2023-10-24 21:00:00'}, {'dt': 1698192000, 'main': {'temp': 276.14, 'feels_like': 276.14, 'temp_min': 276.14, 'temp_max': 276.14, 'pressure': 1018, 'sea_level': 1018, 'grnd_level': 999, 'humidity': 99, 'temp_kf': 0}, 'weather': [{'id': 600, 'main': 'Snow', 'description': 'light snow', 'icon': '13n'}], 'clouds': {'all': 100}, 'wind': {'speed': 0.85, 'deg': 74, 'gust': 1.96}, 'visibility': 517, 'pop': 0.23, 'snow': {'3h': 0.31}, 'sys': {'pod': 'n'}, 'dt_txt': '2023-10-25 00:00:00'}, {'dt': 1698202800, 'main': {'temp': 275.87, 'feels_like': 275.87, 'temp_min': 275.87, 'temp_max': 275.87, 'pressure': 1017, 'sea_level': 1017, 'grnd_level': 998, 'humidity': 99, 'temp_kf': 0}, 'weather': [{'id': 600, 'main': 'Snow', 'description': 'light snow', 'icon': '13n'}], 'clouds': {'all': 100}, 'wind': {'speed': 0.91, 'deg': 70, 'gust': 1.96}, 'visibility': 524, 'pop': 0.22, 'snow': {'3h': 0.14}, 'sys': {'pod': 'n'}, 'dt_txt': '2023-10-25 03:00:00'}, {'dt': 1698213600, 'main': {'temp': 275.53, 'feels_like': 275.53, 'temp_min': 275.53, 'temp_max': 275.53, 'pressure': 1016, 'sea_level': 1016, 'grnd_level': 998, 'humidity': 98, 'temp_kf': 0}, 'weather': [{'id': 600, 'main': 'Snow', 'description': 'light snow', 'icon': '13n'}], 'clouds': {'all': 100}, 'wind': {'speed': 1.06, 'deg': 51, 'gust': 2.48}, 'visibility': 361, 'pop': 0.22, 'snow': {'3h': 0.2}, 'sys': {'pod': 'n'}, 'dt_txt': '2023-10-25 06:00:00'}, {'dt': 1698224400, 'main': {'temp': 275.86, 'feels_like': 275.86, 'temp_min': 275.86, 'temp_max': 275.86, 'pressure': 1016, 'sea_level': 1016, 'grnd_level': 997, 'humidity': 92, 'temp_kf': 0}, 'weather': [{'id': 600, 'main': 'Snow', 'description': 'light snow', 'icon': '13d'}], 'clouds': {'all': 100}, 'wind': {'speed': 1.27, 'deg': 52, 'gust': 3.46}, 'visibility': 7843, 'pop': 0.24, 'snow': {'3h': 0.17}, 'sys': {'pod': 'd'}, 'dt_txt': '2023-10-25 09:00:00'}, {'dt': 1698235200, 'main': {'temp': 276.65, 'feels_like': 275.41, 'temp_min': 276.65, 'temp_max': 276.65, 'pressure': 1015, 'sea_level': 1015, 'grnd_level': 996, 'humidity': 82, 'temp_kf': 0}, 'weather': [{'id': 600, 'main': 'Snow', 'description': 'light snow', 'icon': '13d'}], 'clouds': {'all': 100}, 'wind': {'speed': 1.48, 'deg': 46, 'gust': 3.15}, 'visibility': 10000, 'pop': 0.34, 'snow': {'3h': 0.15}, 'sys': {'pod': 'd'}, 'dt_txt': '2023-10-25 12:00:00'}, {'dt': 1698246000, 'main': {'temp': 275.62, 'feels_like': 275.62, 'temp_min': 275.62, 'temp_max': 275.62, 'pressure': 1014, 'sea_level': 1014, 'grnd_level': 995, 'humidity': 98, 'temp_kf': 0}, 'weather': [{'id': 600, 'main': 'Snow', 'description': 'light snow', 'icon': '13d'}], 'clouds': {'all': 100}, 'wind': {'speed': 0.86, 'deg': 51, 'gust': 1.51}, 'visibility': 121, 'pop': 0.42, 'snow': {'3h': 0.22}, 'sys': {'pod': 'd'}, 'dt_txt': '2023-10-25 15:00:00'}, {'dt': 1698256800, 'main': {'temp': 275.39, 'feels_like': 275.39, 'temp_min': 275.39, 'temp_max': 275.39, 'pressure': 1014, 'sea_level': 1014, 'grnd_level': 995, 'humidity': 99, 'temp_kf': 0}, 'weather': [{'id': 600, 'main': 'Snow', 'description': 'light snow', 'icon': '13n'}], 'clouds': {'all': 100}, 'wind': {'speed': 1.16, 'deg': 31, 'gust': 1.87}, 'visibility': 67, 'pop': 0.82, 'snow': {'3h': 0.92}, 'sys': {'pod': 'n'}, 'dt_txt': '2023-10-25 18:00:00'}, {'dt': 1698267600, 'main': {'temp': 275.08, 'feels_like': 275.08, 'temp_min': 275.08, 'temp_max': 275.08, 'pressure': 1012, 'sea_level': 1012, 'grnd_level': 994, 'humidity': 99, 'temp_kf': 0}, 'weather': [{'id': 600, 'main': 'Snow', 'description': 'light snow', 'icon': '13n'}], 'clouds': {'all': 100}, 'wind': {'speed': 1.24, 'deg': 20, 'gust': 1.96}, 'visibility': 109, 'pop': 0.89, 'snow': {'3h': 0.8}, 'sys': {'pod': 'n'}, 'dt_txt': '2023-10-25 21:00:00'}, {'dt': 1698278400, 'main': {'temp': 274.85, 'feels_like': 274.85, 'temp_min': 274.85, 'temp_max': 274.85, 'pressure': 1011, 'sea_level': 1011, 'grnd_level': 992, 'humidity': 98, 'temp_kf': 0}, 'weather': [{'id': 600, 'main': 'Snow', 'description': 'light snow', 'icon': '13n'}], 'clouds': {'all': 100}, 'wind': {'speed': 1.07, 'deg': 23, 'gust': 1.53}, 'visibility': 164, 'pop': 0.78, 'snow': {'3h': 0.49}, 'sys': {'pod': 'n'}, 'dt_txt': '2023-10-26 00:00:00'}, {'dt': 1698289200, 'main': {'temp': 274.1, 'feels_like': 274.1, 'temp_min': 274.1, 'temp_max': 274.1, 'pressure': 1010, 'sea_level': 1010, 'grnd_level': 991, 'humidity': 99, 'temp_kf': 0}, 'weather': [{'id': 600, 'main': 'Snow', 'description': 'light snow', 'icon': '13n'}], 'clouds': {'all': 100}, 'wind': {'speed': 1.17, 'deg': 14, 'gust': 1.53}, 'visibility': 433, 'pop': 0.39, 'snow': {'3h': 0.36}, 'sys': {'pod': 'n'}, 'dt_txt': '2023-10-26 03:00:00'}, {'dt': 1698300000, 'main': {'temp': 274.28, 'feels_like': 274.28, 'temp_min': 274.28, 'temp_max': 274.28, 'pressure': 1008, 'sea_level': 1008, 'grnd_level': 989, 'humidity': 97, 'temp_kf': 0}, 'weather': [{'id': 600, 'main': 'Snow', 'description': 'light snow', 'icon': '13n'}], 'clouds': {'all': 100}, 'wind': {'speed': 1.01, 'deg': 18, 'gust': 1.59}, 'visibility': 1200, 'pop': 0.41, 'snow': {'3h': 0.22}, 'sys': {'pod': 'n'}, 'dt_txt': '2023-10-26 06:00:00'}, {'dt': 1698310800, 'main': {'temp': 275.39, 'feels_like': 275.39, 'temp_min': 275.39, 'temp_max': 275.39, 'pressure': 1007, 'sea_level': 1007, 'grnd_level': 988, 'humidity': 91, 'temp_kf': 0}, 'weather': [{'id': 600, 'main': 'Snow', 'description': 'light snow', 'icon': '13d'}], 'clouds': {'all': 99}, 'wind': {'speed': 0.84, 'deg': 39, 'gust': 1.25}, 'visibility': 5817, 'pop': 0.28, 'snow': {'3h': 0.14}, 'sys': {'pod': 'd'}, 'dt_txt': '2023-10-26 09:00:00'}, {'dt': 1698321600, 'main': {'temp': 276.07, 'feels_like': 276.07, 'temp_min': 276.07, 'temp_max': 276.07, 'pressure': 1005, 'sea_level': 1005, 'grnd_level': 987, 'humidity': 91, 'temp_kf': 0}, 'weather': [{'id': 600, 'main': 'Snow', 'description': 'light snow', 'icon': '13d'}], 'clouds': {'all': 99}, 'wind': {'speed': 0.71, 'deg': 70, 'gust': 0.97}, 'visibility': 10000, 'pop': 0.28, 'snow': {'3h': 0.1}, 'sys': {'pod': 'd'}, 'dt_txt': '2023-10-26 12:00:00'}, {'dt': 1698332400, 'main': {'temp': 275.65, 'feels_like': 275.65, 'temp_min': 275.65, 'temp_max': 275.65, 'pressure': 1004, 'sea_level': 1004, 'grnd_level': 985, 'humidity': 97, 'temp_kf': 0}, 'weather': [{'id': 804, 'main': 'Clouds', 'description': 'overcast clouds', 'icon': '04d'}], 'clouds': {'all': 99}, 'wind': {'speed': 0.58, 'deg': 94, 'gust': 0.8}, 'visibility': 1136, 'pop': 0, 'sys': {'pod': 'd'}, 'dt_txt': '2023-10-26 15:00:00'}, {'dt': 1698343200, 'main': {'temp': 275.48, 'feels_like': 275.48, 'temp_min': 275.48, 'temp_max': 275.48, 'pressure': 1003, 'sea_level': 1003, 'grnd_level': 984, 'humidity': 99, 'temp_kf': 0}, 'weather': [{'id': 600, 'main': 'Snow', 'description': 'light snow', 'icon': '13n'}], 'clouds': {'all': 99}, 'wind': {'speed': 0.52, 'deg': 46, 'gust': 0.76}, 'visibility': 225, 'pop': 0.21, 'snow': {'3h': 0.14}, 'sys': {'pod': 'n'}, 'dt_txt': '2023-10-26 18:00:00'}, {'dt': 1698354000, 'main': {'temp': 275.41, 'feels_like': 275.41, 'temp_min': 275.41, 'temp_max': 275.41, 'pressure': 1002, 'sea_level': 1002, 'grnd_level': 984, 'humidity': 99, 'temp_kf': 0}, 'weather': [{'id': 600, 'main': 'Snow', 'description': 'light snow', 'icon': '13n'}], 'clouds': {'all': 100}, 'wind': {'speed': 0.71, 'deg': 28, 'gust': 0.92}, 'visibility': 137, 'pop': 0.29, 'snow': {'3h': 0.2}, 'sys': {'pod': 'n'}, 'dt_txt': '2023-10-26 21:00:00'}, {'dt': 1698364800, 'main': {'temp': 274.86, 'feels_like': 274.86, 'temp_min': 274.86, 'temp_max': 274.86, 'pressure': 1001, 'sea_level': 1001, 'grnd_level': 983, 'humidity': 99, 'temp_kf': 0}, 'weather': [{'id': 600, 'main': 'Snow', 'description': 'light snow', 'icon': '13n'}], 'clouds': {'all': 100}, 'wind': {'speed': 1.16, 'deg': 6, 'gust': 1.45}, 'visibility': 411, 'pop': 0.29, 'snow': {'3h': 0.11}, 'sys': {'pod': 'n'}, 'dt_txt': '2023-10-27 00:00:00'}, {'dt': 1698375600, 'main': {'temp': 274.3, 'feels_like': 274.3, 'temp_min': 274.3, 'temp_max': 274.3, 'pressure': 1000, 'sea_level': 1000, 'grnd_level': 982, 'humidity': 99, 'temp_kf': 0}, 'weather': [{'id': 500, 'main': 'Rain', 'description': 'light rain', 'icon': '10n'}], 'clouds': {'all': 99}, 'wind': {'speed': 1.33, 'deg': 355, 'gust': 1.48}, 'visibility': 630, 'pop': 0.23, 'rain': {'3h': 0.11}, 'sys': {'pod': 'n'}, 'dt_txt': '2023-10-27 03:00:00'}, {'dt': 1698386400, 'main': {'temp': 274.14, 'feels_like': 272.67, 'temp_min': 274.14, 'temp_max': 274.14, 'pressure': 1000, 'sea_level': 1000, 'grnd_level': 981, 'humidity': 99, 'temp_kf': 0}, 'weather': [{'id': 600, 'main': 'Snow', 'description': 'light snow', 'icon': '13n'}], 'clouds': {'all': 99}, 'wind': {'speed': 1.41, 'deg': 0, 'gust': 1.84}, 'visibility': 386, 'pop': 0.39, 'snow': {'3h': 0.34}, 'sys': {'pod': 'n'}, 'dt_txt': '2023-10-27 06:00:00'}, {'dt': 1698397200, 'main': {'temp': 275.86, 'feels_like': 275.86, 'temp_min': 275.86, 'temp_max': 275.86, 'pressure': 999, 'sea_level': 999, 'grnd_level': 981, 'humidity': 95, 'temp_kf': 0}, 'weather': [{'id': 600, 'main': 'Snow', 'description': 'light snow', 'icon': '13d'}], 'clouds': {'all': 100}, 'wind': {'speed': 1.01, 'deg': 36, 'gust': 1.53}, 'visibility': 243, 'pop': 0.68, 'snow': {'3h': 0.4}, 'sys': {'pod': 'd'}, 'dt_txt': '2023-10-27 09:00:00'}, {'dt': 1698408000, 'main': {'temp': 276.7, 'feels_like': 276.7, 'temp_min': 276.7, 'temp_max': 276.7, 'pressure': 998, 'sea_level': 998, 'grnd_level': 980, 'humidity': 91, 'temp_kf': 0}, 'weather': [{'id': 600, 'main': 'Snow', 'description': 'light snow', 'icon': '13d'}], 'clouds': {'all': 100}, 'wind': {'speed': 1.21, 'deg': 38, 'gust': 2.29}, 'visibility': 6788, 'pop': 0.62, 'snow': {'3h': 0.3}, 'sys': {'pod': 'd'}, 'dt_txt': '2023-10-27 12:00:00'}, {'dt': 1698418800, 'main': {'temp': 275.91, 'feels_like': 275.91, 'temp_min': 275.91, 'temp_max': 275.91, 'pressure': 998, 'sea_level': 998, 'grnd_level': 979, 'humidity': 98, 'temp_kf': 0}, 'weather': [{'id': 600, 'main': 'Snow', 'description': 'light snow', 'icon': '13d'}], 'clouds': {'all': 100}, 'wind': {'speed': 1.24, 'deg': 31, 'gust': 2.24}, 'visibility': 152, 'pop': 0.55, 'snow': {'3h': 0.29}, 'sys': {'pod': 'd'}, 'dt_txt': '2023-10-27 15:00:00'}, {'dt': 1698429600, 'main': {'temp': 275.13, 'feels_like': 272.89, 'temp_min': 275.13, 'temp_max': 275.13, 'pressure': 998, 'sea_level': 998, 'grnd_level': 979, 'humidity': 97, 'temp_kf': 0}, 'weather': [{'id': 600, 'main': 'Snow', 'description': 'light snow', 'icon': '13n'}], 'clouds': {'all': 100}, 'wind': {'speed': 2.1, 'deg': 358, 'gust': 4.3}, 'visibility': 1028, 'pop': 0.69, 'snow': {'3h': 0.32}, 'sys': {'pod': 'n'}, 'dt_txt': '2023-10-27 18:00:00'}, {'dt': 1698440400, 'main': {'temp': 275.05, 'feels_like': 272.52, 'temp_min': 275.05, 'temp_max': 275.05, 'pressure': 997, 'sea_level': 997, 'grnd_level': 978, 'humidity': 97, 'temp_kf': 0}, 'weather': [{'id': 600, 'main': 'Snow', 'description': 'light snow', 'icon': '13n'}], 'clouds': {'all': 100}, 'wind': {'speed': 2.36, 'deg': 357, 'gust': 5.08}, 'visibility': 220, 'pop': 0.86, 'snow': {'3h': 0.78}, 'sys': {'pod': 'n'}, 'dt_txt': '2023-10-27 21:00:00'}, {'dt': 1698451200, 'main': {'temp': 275.09, 'feels_like': 272.86, 'temp_min': 275.09, 'temp_max': 275.09, 'pressure': 996, 'sea_level': 996, 'grnd_level': 978, 'humidity': 98, 'temp_kf': 0}, 'weather': [{'id': 600, 'main': 'Snow', 'description': 'light snow', 'icon': '13n'}], 'clouds': {'all': 100}, 'wind': {'speed': 2.08, 'deg': 5, 'gust': 4.55}, 'visibility': 181, 'pop': 1, 'snow': {'3h': 1.27}, 'sys': {'pod': 'n'}, 'dt_txt': '2023-10-28 00:00:00'}, {'dt': 1698462000, 'main': {'temp': 274.96, 'feels_like': 272.71, 'temp_min': 274.96, 'temp_max': 274.96, 'pressure': 995, 'sea_level': 995, 'grnd_level': 977, 'humidity': 98, 'temp_kf': 0}, 'weather': [{'id': 601, 'main': 'Snow', 'description': 'snow', 'icon': '13n'}], 'clouds': {'all': 100}, 'wind': {'speed': 2.08, 'deg': 3, 'gust': 4.56}, 'visibility': 107, 'pop': 1, 'snow': {'3h': 2.04}, 'sys': {'pod': 'n'}, 'dt_txt': '2023-10-28 03:00:00'}, {'dt': 1698472800, 'main': {'temp': 274.85, 'feels_like': 272.82, 'temp_min': 274.85, 'temp_max': 274.85, 'pressure': 995, 'sea_level': 995, 'grnd_level': 976, 'humidity': 98, 'temp_kf': 0}, 'weather': [{'id': 601, 'main': 'Snow', 'description': 'snow', 'icon': '13n'}], 'clouds': {'all': 100}, 'wind': {'speed': 1.88, 'deg': 7, 'gust': 3.97}, 'visibility': 118, 'pop': 1, 'snow': {'3h': 2.18}, 'sys': {'pod': 'n'}, 'dt_txt': '2023-10-28 06:00:00'}, {'dt': 1698483600, 'main': {'temp': 275.44, 'feels_like': 273.65, 'temp_min': 275.44, 'temp_max': 275.44, 'pressure': 995, 'sea_level': 995, 'grnd_level': 976, 'humidity': 97, 'temp_kf': 0}, 'weather': [{'id': 601, 'main': 'Snow', 'description': 'snow', 'icon': '13d'}], 'clouds': {'all': 100}, 'wind': {'speed': 1.76, 'deg': 16, 'gust': 3.42}, 'visibility': 121, 'pop': 1, 'snow': {'3h': 1.8}, 'sys': {'pod': 'd'}, 'dt_txt': '2023-10-28 09:00:00'}], 'city': {'id': 3144113, 'name': 'Noresund', 'coord': {'lat': 60.1803, 'lon': 9.6231}, 'country': 'NO', 'population': 1000, 'timezone': 7200, 'sunrise': 1698041999, 'sunset': 1698076290}}\n"
     ]
    }
   ],
   "source": [
    "responseF = requests.get(urlF).json()\n",
    "print(responseF)"
   ]
  },
  {
   "cell_type": "code",
   "execution_count": 11,
   "metadata": {
    "slideshow": {
     "slide_type": "slide"
    }
   },
   "outputs": [],
   "source": [
    "# Write JSON to file for viewing\n",
    "with open('downloads/forecast.json', 'w') as f:\n",
    "    json.dump(responseF, f, indent=4)"
   ]
  },
  {
   "cell_type": "markdown",
   "metadata": {
    "slideshow": {
     "slide_type": "slide"
    }
   },
   "source": [
    "### When and what?\n",
    "Check contents and time stamps"
   ]
  },
  {
   "cell_type": "code",
   "execution_count": 12,
   "metadata": {
    "slideshow": {
     "slide_type": "-"
    }
   },
   "outputs": [
    {
     "data": {
      "text/plain": [
       "dict_keys(['cod', 'message', 'cnt', 'list', 'city'])"
      ]
     },
     "execution_count": 12,
     "metadata": {},
     "output_type": "execute_result"
    }
   ],
   "source": [
    "# Content of responseF\n",
    "responseF.keys()"
   ]
  },
  {
   "cell_type": "code",
   "execution_count": 13,
   "metadata": {
    "slideshow": {
     "slide_type": "fragment"
    }
   },
   "outputs": [
    {
     "name": "stdout",
     "output_type": "stream",
     "text": [
      "40\n"
     ]
    }
   ],
   "source": [
    "# Number of forecasts\n",
    "print(len(responseF[\"list\"]))"
   ]
  },
  {
   "cell_type": "code",
   "execution_count": 14,
   "metadata": {
    "scrolled": true,
    "slideshow": {
     "slide_type": "slide"
    }
   },
   "outputs": [
    {
     "name": "stdout",
     "output_type": "stream",
     "text": [
      "2023-10-23 12:00:00\n",
      "2023-10-23 15:00:00\n",
      "2023-10-23 18:00:00\n",
      "2023-10-23 21:00:00\n",
      "2023-10-24 00:00:00\n",
      "2023-10-24 03:00:00\n",
      "2023-10-24 06:00:00\n",
      "2023-10-24 09:00:00\n",
      "2023-10-24 12:00:00\n",
      "2023-10-24 15:00:00\n",
      "2023-10-24 18:00:00\n",
      "2023-10-24 21:00:00\n",
      "2023-10-25 00:00:00\n",
      "2023-10-25 03:00:00\n",
      "2023-10-25 06:00:00\n",
      "2023-10-25 09:00:00\n",
      "2023-10-25 12:00:00\n",
      "2023-10-25 15:00:00\n",
      "2023-10-25 18:00:00\n",
      "2023-10-25 21:00:00\n",
      "2023-10-26 00:00:00\n",
      "2023-10-26 03:00:00\n",
      "2023-10-26 06:00:00\n",
      "2023-10-26 09:00:00\n",
      "2023-10-26 12:00:00\n",
      "2023-10-26 15:00:00\n",
      "2023-10-26 18:00:00\n",
      "2023-10-26 21:00:00\n",
      "2023-10-27 00:00:00\n",
      "2023-10-27 03:00:00\n",
      "2023-10-27 06:00:00\n",
      "2023-10-27 09:00:00\n",
      "2023-10-27 12:00:00\n",
      "2023-10-27 15:00:00\n",
      "2023-10-27 18:00:00\n",
      "2023-10-27 21:00:00\n",
      "2023-10-28 00:00:00\n",
      "2023-10-28 03:00:00\n",
      "2023-10-28 06:00:00\n",
      "2023-10-28 09:00:00\n"
     ]
    }
   ],
   "source": [
    "# Print forecast times\n",
    "for forecast in responseF[\"list\"]:\n",
    "    print(forecast[\"dt_txt\"])"
   ]
  },
  {
   "cell_type": "markdown",
   "metadata": {
    "slideshow": {
     "slide_type": "slide"
    }
   },
   "source": [
    "## Make plots of omnipresent measurements and events\n",
    "We will later look at missing data, data only sporadically appearing and so on."
   ]
  },
  {
   "cell_type": "code",
   "execution_count": 15,
   "metadata": {
    "slideshow": {
     "slide_type": "-"
    }
   },
   "outputs": [],
   "source": [
    "# Air pressure per period\n",
    "pressures = []\n",
    "timestamps = []\n",
    "for forecast in responseF[\"list\"]:\n",
    "    pressures.append(forecast[\"main\"][\"pressure\"])\n",
    "    timestamps.append(dt.datetime.fromtimestamp(forecast[\"dt\"]))"
   ]
  },
  {
   "cell_type": "code",
   "execution_count": 16,
   "metadata": {
    "slideshow": {
     "slide_type": "slide"
    }
   },
   "outputs": [
    {
     "data": {
      "image/png": "[encoded data removed]",
      "text/plain": [
       "<Figure size 640x480 with 1 Axes>"
      ]
     },
     "metadata": {},
     "output_type": "display_data"
    }
   ],
   "source": [
    "import matplotlib.pyplot as plt\n",
    "plt.bar(timestamps, pressures)\n",
    "plt.xticks(rotation=45)\n",
    "plt.ylim(950, 1050)\n",
    "plt.grid()\n",
    "plt.ylabel(\"Air pressure (hPa)\")\n",
    "plt.title(f\"Forecasted air pressure in {CITY}\")\n",
    "plt.show()"
   ]
  },
  {
   "cell_type": "markdown",
   "metadata": {
    "slideshow": {
     "slide_type": "slide"
    }
   },
   "source": [
    "## Exercise\n",
    "- Make a new forecast request for your own hometown. Call your response something else than responseF.\n",
    "- If available, plot the humidity like we did with air pressure."
   ]
  },
  {
   "cell_type": "markdown",
   "metadata": {
    "slideshow": {
     "slide_type": "slide"
    }
   },
   "source": [
    "### Precipitation\n",
    "- ... comes in two main flavours: rain and snow.\n",
    "- We need to check which is present and set to zero if it is abscent."
   ]
  },
  {
   "cell_type": "code",
   "execution_count": 17,
   "metadata": {
    "slideshow": {
     "slide_type": "-"
    }
   },
   "outputs": [],
   "source": [
    "rain = []\n",
    "snow = []\n",
    "for forecast in responseF[\"list\"]:\n",
    "    try: # Check if rain is present in forecast\n",
    "        rain.append(forecast[\"rain\"][\"3h\"])\n",
    "    except KeyError:\n",
    "        rain.append(0)\n",
    "    try: # Check if snow is present in forecast\n",
    "        snow.append(forecast[\"snow\"][\"3h\"])\n",
    "    except KeyError:\n",
    "        snow.append(0)"
   ]
  },
  {
   "cell_type": "code",
   "execution_count": 18,
   "metadata": {
    "slideshow": {
     "slide_type": "slide"
    }
   },
   "outputs": [
    {
     "data": {
      "image/png": "[encoded data removed]",
      "text/plain": [
       "<Figure size 640x480 with 1 Axes>"
      ]
     },
     "metadata": {},
     "output_type": "display_data"
    }
   ],
   "source": [
    "# Stacked bar chart with rain and snow\n",
    "plt.bar(timestamps, rain, label=\"Rain\")\n",
    "plt.bar(timestamps, snow, label=\"Snow\")\n",
    "plt.xticks(rotation=45)\n",
    "plt.grid()\n",
    "plt.ylabel(\"Precipitation (mm)\")\n",
    "plt.title(f\"Forecasted precipitation in {CITY}\")\n",
    "plt.legend()\n",
    "plt.show()\n"
   ]
  },
  {
   "cell_type": "markdown",
   "metadata": {
    "slideshow": {
     "slide_type": "slide"
    }
   },
   "source": [
    "## Resources\n",
    "- [YouTube: NeuralNine's video (15m:32s)](https://www.youtube.com/watch?v=9P5MY_2i7K8)"
   ]
  }
 ],
 "metadata": {
  "celltoolbar": "Slideshow",
  "kernelspec": {
   "display_name": "Python 3 (ipykernel)",
   "language": "python",
   "name": "python3"
  },
  "language_info": {
   "codemirror_mode": {
    "name": "ipython",
    "version": 3
   },
   "file_extension": ".py",
   "mimetype": "text/x-python",
   "name": "python",
   "nbconvert_exporter": "python",
   "pygments_lexer": "ipython3",
   "version": "3.11.6"
  }
 },
 "nbformat": 4,
 "nbformat_minor": 2
}