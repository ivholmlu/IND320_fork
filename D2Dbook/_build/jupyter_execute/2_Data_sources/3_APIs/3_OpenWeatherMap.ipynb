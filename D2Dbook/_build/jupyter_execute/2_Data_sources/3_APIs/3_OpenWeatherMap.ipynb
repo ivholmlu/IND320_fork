{
 "cells": [
  {
   "cell_type": "markdown",
   "metadata": {
    "slideshow": {
     "slide_type": "slide"
    }
   },
   "source": [
    "# Demonstration of API using OpenWeatherMap.org\n",
    "This demonstration is heavily inspired by [NeuralNine's video](https://www.youtube.com/watch?v=9P5MY_2i7K8).  \n",
    "You need a free account [from here](https://openweathermap.org/api).  \n",
    "The VS Code extension _JSON viewer_ is recommended for viewing downloaded JSON content.  \n",
    "  - Set your maximum API calls to 1000 per day to make sure you are under the limit for billing. \n",
    "  - To run the examples, download your API key, save it in the right folder (see below) in a file called _api\\_key\\_OpenWeather_, containing only the key (no spaces or \"enters\")."
   ]
  },
  {
   "cell_type": "code",
   "execution_count": 1,
   "metadata": {
    "slideshow": {
     "slide_type": "fragment"
    }
   },
   "outputs": [],
   "source": [
    "# Imports\n",
    "import datetime as dt\n",
    "import requests\n",
    "import json"
   ]
  },
  {
   "cell_type": "markdown",
   "metadata": {
    "slideshow": {
     "slide_type": "slide"
    }
   },
   "source": [
    "## Current weather\n",
    "### Common definitions to use for all requests"
   ]
  },
  {
   "cell_type": "code",
   "execution_count": 2,
   "metadata": {
    "slideshow": {
     "slide_type": "-"
    }
   },
   "outputs": [],
   "source": [
    "BASE_URL = \"http://api.openweathermap.org/data/2.5/weather?\"\n",
    "API_KEY = open('../../../No_sync/api_key_OpenWeather','r').read()\n",
    "CITY = \"Ski\"\n",
    "\n",
    "url = BASE_URL + \"q=\" + CITY + \"&appid=\" + API_KEY"
   ]
  },
  {
   "cell_type": "markdown",
   "metadata": {
    "slideshow": {
     "slide_type": "slide"
    }
   },
   "source": [
    "## Request current weather in chosen city"
   ]
  },
  {
   "cell_type": "code",
   "execution_count": 3,
   "metadata": {
    "slideshow": {
     "slide_type": "fragment"
    }
   },
   "outputs": [
    {
     "name": "stdout",
     "output_type": "stream",
     "text": [
      "{'coord': {'lon': 10.8358, 'lat': 59.7195}, 'weather': [{'id': 804, 'main': 'Clouds', 'description': 'overcast clouds', 'icon': '04d'}], 'base': 'stations', 'main': {'temp': 269.51, 'feels_like': 266.22, 'temp_min': 268.4, 'temp_max': 271.53, 'pressure': 1013, 'humidity': 95, 'sea_level': 1013, 'grnd_level': 996}, 'visibility': 3448, 'wind': {'speed': 2.17, 'deg': 15, 'gust': 4}, 'clouds': {'all': 100}, 'dt': 1700466731, 'sys': {'type': 2, 'id': 2006772, 'country': 'NO', 'sunrise': 1700465042, 'sunset': 1700491238}, 'timezone': 3600, 'id': 3139081, 'name': 'Ski', 'cod': 200}\n"
     ]
    }
   ],
   "source": [
    "response = requests.get(url).json()\n",
    "print(response)"
   ]
  },
  {
   "cell_type": "code",
   "execution_count": 4,
   "metadata": {
    "slideshow": {
     "slide_type": "fragment"
    }
   },
   "outputs": [],
   "source": [
    "# Write JSON to file for viewing\n",
    "with open('downloads/weather.json', 'w') as f:\n",
    "    json.dump(response, f, indent=4)"
   ]
  },
  {
   "cell_type": "markdown",
   "metadata": {
    "slideshow": {
     "slide_type": "slide"
    }
   },
   "source": [
    "## Conversion functions\n",
    "Changing scales can make results more interpretable"
   ]
  },
  {
   "cell_type": "code",
   "execution_count": 5,
   "metadata": {
    "slideshow": {
     "slide_type": "-"
    }
   },
   "outputs": [],
   "source": [
    "# Kelvin to Celsius\n",
    "def kelvin_to_celsius(temp):\n",
    "    return temp - 273.15\n",
    "\n",
    "# Meters per second to knots\n",
    "def mps_to_knots(speed):\n",
    "    return speed * 1.943844"
   ]
  },
  {
   "cell_type": "markdown",
   "metadata": {
    "slideshow": {
     "slide_type": "slide"
    }
   },
   "source": [
    "## Print some weather properties"
   ]
  },
  {
   "cell_type": "code",
   "execution_count": 6,
   "metadata": {
    "slideshow": {
     "slide_type": "-"
    }
   },
   "outputs": [
    {
     "name": "stdout",
     "output_type": "stream",
     "text": [
      "The current temperature in Ski is -3.6°C\n"
     ]
    }
   ],
   "source": [
    "# Current temperature\n",
    "temp_kelvin = response['main']['temp']\n",
    "temp_celsius = kelvin_to_celsius(temp_kelvin)\n",
    "print(f\"The current temperature in {CITY} is {temp_celsius:.1f}°C\")"
   ]
  },
  {
   "cell_type": "code",
   "execution_count": 7,
   "metadata": {
    "slideshow": {
     "slide_type": "slide"
    }
   },
   "outputs": [
    {
     "name": "stdout",
     "output_type": "stream",
     "text": [
      "Sunrise today is at 08:24 and sunset is at 15:40\n"
     ]
    }
   ],
   "source": [
    "# Sunrise and sunset today in local time\n",
    "sunrise = dt.datetime.fromtimestamp(response['sys']['sunrise'])\n",
    "sunset = dt.datetime.fromtimestamp(response['sys']['sunset'])\n",
    "print(f\"Sunrise today is at {sunrise:%H:%M} and sunset is at {sunset:%H:%M}\")"
   ]
  },
  {
   "cell_type": "code",
   "execution_count": 8,
   "metadata": {
    "slideshow": {
     "slide_type": "fragment"
    }
   },
   "outputs": [
    {
     "name": "stdout",
     "output_type": "stream",
     "text": [
      "Wind today is from 15° at 4.2 knots\n"
     ]
    }
   ],
   "source": [
    "# Wind direction and speed\n",
    "wind_knots = mps_to_knots(response['wind']['speed'])\n",
    "print(f\"Wind today is from {response['wind']['deg']}° at {round(wind_knots,1)} knots\")"
   ]
  },
  {
   "cell_type": "markdown",
   "metadata": {
    "slideshow": {
     "slide_type": "slide"
    }
   },
   "source": [
    "## Forecasted weather\n",
    "### Common definitions to use for all requests"
   ]
  },
  {
   "cell_type": "code",
   "execution_count": 9,
   "metadata": {
    "slideshow": {
     "slide_type": "-"
    }
   },
   "outputs": [],
   "source": [
    "BASE_URL = \"http://api.openweathermap.org/data/2.5/forecast?\"\n",
    "CITY = \"Noresund\"\n",
    "\n",
    "urlF = BASE_URL + \"q=\" + CITY + \"&appid=\" + API_KEY"
   ]
  },
  {
   "cell_type": "markdown",
   "metadata": {
    "slideshow": {
     "slide_type": "slide"
    }
   },
   "source": [
    "## Request forecasted weather in chosen city"
   ]
  },
  {
   "cell_type": "code",
   "execution_count": 10,
   "metadata": {
    "slideshow": {
     "slide_type": "-"
    }
   },
   "outputs": [
    {
     "name": "stdout",
     "output_type": "stream",
     "text": [
      "{'cod': '200', 'message': 0, 'cnt': 40, 'list': [{'dt': 1700470800, 'main': {'temp': 268.15, 'feels_like': 268.15, 'temp_min': 268.15, 'temp_max': 268.15, 'pressure': 1015, 'sea_level': 1015, 'grnd_level': 996, 'humidity': 92, 'temp_kf': 0}, 'weather': [{'id': 600, 'main': 'Snow', 'description': 'light snow', 'icon': '13d'}], 'clouds': {'all': 99}, 'wind': {'speed': 0.95, 'deg': 13, 'gust': 1.28}, 'visibility': 830, 'pop': 0.2, 'snow': {'3h': 0.15}, 'sys': {'pod': 'd'}, 'dt_txt': '2023-11-20 09:00:00'}, {'dt': 1700481600, 'main': {'temp': 268.76, 'feels_like': 268.76, 'temp_min': 268.76, 'temp_max': 269.98, 'pressure': 1015, 'sea_level': 1015, 'grnd_level': 996, 'humidity': 91, 'temp_kf': -1.22}, 'weather': [{'id': 600, 'main': 'Snow', 'description': 'light snow', 'icon': '13d'}], 'clouds': {'all': 99}, 'wind': {'speed': 0.57, 'deg': 50, 'gust': 0.74}, 'visibility': 1914, 'pop': 0.2, 'snow': {'3h': 0.13}, 'sys': {'pod': 'd'}, 'dt_txt': '2023-11-20 12:00:00'}, {'dt': 1700492400, 'main': {'temp': 267.84, 'feels_like': 267.84, 'temp_min': 267.69, 'temp_max': 267.84, 'pressure': 1016, 'sea_level': 1016, 'grnd_level': 997, 'humidity': 94, 'temp_kf': 0.15}, 'weather': [{'id': 804, 'main': 'Clouds', 'description': 'overcast clouds', 'icon': '04n'}], 'clouds': {'all': 97}, 'wind': {'speed': 0.91, 'deg': 12, 'gust': 0.95}, 'visibility': 1565, 'pop': 0, 'sys': {'pod': 'n'}, 'dt_txt': '2023-11-20 15:00:00'}, {'dt': 1700503200, 'main': {'temp': 267, 'feels_like': 267, 'temp_min': 267, 'temp_max': 267, 'pressure': 1019, 'sea_level': 1019, 'grnd_level': 1000, 'humidity': 93, 'temp_kf': 0}, 'weather': [{'id': 600, 'main': 'Snow', 'description': 'light snow', 'icon': '13n'}], 'clouds': {'all': 97}, 'wind': {'speed': 1.28, 'deg': 346, 'gust': 1.41}, 'visibility': 2364, 'pop': 0.2, 'snow': {'3h': 0.1}, 'sys': {'pod': 'n'}, 'dt_txt': '2023-11-20 18:00:00'}, {'dt': 1700514000, 'main': {'temp': 267.08, 'feels_like': 267.08, 'temp_min': 267.08, 'temp_max': 267.08, 'pressure': 1021, 'sea_level': 1021, 'grnd_level': 1001, 'humidity': 93, 'temp_kf': 0}, 'weather': [{'id': 600, 'main': 'Snow', 'description': 'light snow', 'icon': '13n'}], 'clouds': {'all': 98}, 'wind': {'speed': 1.1, 'deg': 353, 'gust': 1.5}, 'visibility': 1557, 'pop': 0.2, 'snow': {'3h': 0.11}, 'sys': {'pod': 'n'}, 'dt_txt': '2023-11-20 21:00:00'}, {'dt': 1700524800, 'main': {'temp': 266.47, 'feels_like': 266.47, 'temp_min': 266.47, 'temp_max': 266.47, 'pressure': 1023, 'sea_level': 1023, 'grnd_level': 1003, 'humidity': 92, 'temp_kf': 0}, 'weather': [{'id': 804, 'main': 'Clouds', 'description': 'overcast clouds', 'icon': '04n'}], 'clouds': {'all': 99}, 'wind': {'speed': 1.28, 'deg': 345, 'gust': 1.76}, 'visibility': 2931, 'pop': 0, 'sys': {'pod': 'n'}, 'dt_txt': '2023-11-21 00:00:00'}, {'dt': 1700535600, 'main': {'temp': 266.16, 'feels_like': 263.52, 'temp_min': 266.16, 'temp_max': 266.16, 'pressure': 1024, 'sea_level': 1024, 'grnd_level': 1004, 'humidity': 91, 'temp_kf': 0}, 'weather': [{'id': 804, 'main': 'Clouds', 'description': 'overcast clouds', 'icon': '04n'}], 'clouds': {'all': 91}, 'wind': {'speed': 1.45, 'deg': 344, 'gust': 2.01}, 'visibility': 5748, 'pop': 0, 'sys': {'pod': 'n'}, 'dt_txt': '2023-11-21 03:00:00'}, {'dt': 1700546400, 'main': {'temp': 265.58, 'feels_like': 262.78, 'temp_min': 265.58, 'temp_max': 265.58, 'pressure': 1026, 'sea_level': 1026, 'grnd_level': 1006, 'humidity': 90, 'temp_kf': 0}, 'weather': [{'id': 804, 'main': 'Clouds', 'description': 'overcast clouds', 'icon': '04n'}], 'clouds': {'all': 90}, 'wind': {'speed': 1.49, 'deg': 333, 'gust': 2.04}, 'visibility': 9212, 'pop': 0, 'sys': {'pod': 'n'}, 'dt_txt': '2023-11-21 06:00:00'}, {'dt': 1700557200, 'main': {'temp': 266.17, 'feels_like': 266.17, 'temp_min': 266.17, 'temp_max': 266.17, 'pressure': 1028, 'sea_level': 1028, 'grnd_level': 1008, 'humidity': 88, 'temp_kf': 0}, 'weather': [{'id': 804, 'main': 'Clouds', 'description': 'overcast clouds', 'icon': '04d'}], 'clouds': {'all': 85}, 'wind': {'speed': 1.17, 'deg': 337, 'gust': 1.61}, 'visibility': 10000, 'pop': 0, 'sys': {'pod': 'd'}, 'dt_txt': '2023-11-21 09:00:00'}, {'dt': 1700568000, 'main': {'temp': 268.67, 'feels_like': 268.67, 'temp_min': 268.67, 'temp_max': 268.67, 'pressure': 1028, 'sea_level': 1028, 'grnd_level': 1008, 'humidity': 87, 'temp_kf': 0}, 'weather': [{'id': 803, 'main': 'Clouds', 'description': 'broken clouds', 'icon': '04d'}], 'clouds': {'all': 81}, 'wind': {'speed': 0.11, 'deg': 332, 'gust': 0.54}, 'visibility': 10000, 'pop': 0, 'sys': {'pod': 'd'}, 'dt_txt': '2023-11-21 12:00:00'}, {'dt': 1700578800, 'main': {'temp': 264.31, 'feels_like': 264.31, 'temp_min': 264.31, 'temp_max': 264.31, 'pressure': 1029, 'sea_level': 1029, 'grnd_level': 1009, 'humidity': 95, 'temp_kf': 0}, 'weather': [{'id': 803, 'main': 'Clouds', 'description': 'broken clouds', 'icon': '04n'}], 'clouds': {'all': 59}, 'wind': {'speed': 1.15, 'deg': 307, 'gust': 0.93}, 'visibility': 10000, 'pop': 0, 'sys': {'pod': 'n'}, 'dt_txt': '2023-11-21 15:00:00'}, {'dt': 1700589600, 'main': {'temp': 263.19, 'feels_like': 263.19, 'temp_min': 263.19, 'temp_max': 263.19, 'pressure': 1030, 'sea_level': 1030, 'grnd_level': 1010, 'humidity': 95, 'temp_kf': 0}, 'weather': [{'id': 803, 'main': 'Clouds', 'description': 'broken clouds', 'icon': '04n'}], 'clouds': {'all': 69}, 'wind': {'speed': 1.22, 'deg': 293, 'gust': 0.93}, 'visibility': 6715, 'pop': 0, 'sys': {'pod': 'n'}, 'dt_txt': '2023-11-21 18:00:00'}, {'dt': 1700600400, 'main': {'temp': 263.77, 'feels_like': 263.77, 'temp_min': 263.77, 'temp_max': 263.77, 'pressure': 1029, 'sea_level': 1029, 'grnd_level': 1009, 'humidity': 94, 'temp_kf': 0}, 'weather': [{'id': 804, 'main': 'Clouds', 'description': 'overcast clouds', 'icon': '04n'}], 'clouds': {'all': 97}, 'wind': {'speed': 1.2, 'deg': 281, 'gust': 1.18}, 'visibility': 1371, 'pop': 0, 'sys': {'pod': 'n'}, 'dt_txt': '2023-11-21 21:00:00'}, {'dt': 1700611200, 'main': {'temp': 265.15, 'feels_like': 265.15, 'temp_min': 265.15, 'temp_max': 265.15, 'pressure': 1026, 'sea_level': 1026, 'grnd_level': 1006, 'humidity': 93, 'temp_kf': 0}, 'weather': [{'id': 804, 'main': 'Clouds', 'description': 'overcast clouds', 'icon': '04n'}], 'clouds': {'all': 98}, 'wind': {'speed': 0.91, 'deg': 264, 'gust': 1.09}, 'visibility': 5674, 'pop': 0, 'sys': {'pod': 'n'}, 'dt_txt': '2023-11-22 00:00:00'}, {'dt': 1700622000, 'main': {'temp': 267.49, 'feels_like': 267.49, 'temp_min': 267.49, 'temp_max': 267.49, 'pressure': 1022, 'sea_level': 1022, 'grnd_level': 1002, 'humidity': 90, 'temp_kf': 0}, 'weather': [{'id': 804, 'main': 'Clouds', 'description': 'overcast clouds', 'icon': '04n'}], 'clouds': {'all': 100}, 'wind': {'speed': 1.14, 'deg': 201, 'gust': 1.7}, 'visibility': 10000, 'pop': 0, 'sys': {'pod': 'n'}, 'dt_txt': '2023-11-22 03:00:00'}, {'dt': 1700632800, 'main': {'temp': 268.97, 'feels_like': 265.99, 'temp_min': 268.97, 'temp_max': 268.97, 'pressure': 1017, 'sea_level': 1017, 'grnd_level': 998, 'humidity': 91, 'temp_kf': 0}, 'weather': [{'id': 804, 'main': 'Clouds', 'description': 'overcast clouds', 'icon': '04n'}], 'clouds': {'all': 100}, 'wind': {'speed': 1.89, 'deg': 188, 'gust': 3}, 'visibility': 10000, 'pop': 0, 'sys': {'pod': 'n'}, 'dt_txt': '2023-11-22 06:00:00'}, {'dt': 1700643600, 'main': {'temp': 269.74, 'feels_like': 266.98, 'temp_min': 269.74, 'temp_max': 269.74, 'pressure': 1012, 'sea_level': 1012, 'grnd_level': 993, 'humidity': 95, 'temp_kf': 0}, 'weather': [{'id': 804, 'main': 'Clouds', 'description': 'overcast clouds', 'icon': '04d'}], 'clouds': {'all': 100}, 'wind': {'speed': 1.82, 'deg': 196, 'gust': 3.57}, 'visibility': 10000, 'pop': 0, 'sys': {'pod': 'd'}, 'dt_txt': '2023-11-22 09:00:00'}, {'dt': 1700654400, 'main': {'temp': 272.23, 'feels_like': 270.28, 'temp_min': 272.23, 'temp_max': 272.23, 'pressure': 1004, 'sea_level': 1004, 'grnd_level': 986, 'humidity': 94, 'temp_kf': 0}, 'weather': [{'id': 804, 'main': 'Clouds', 'description': 'overcast clouds', 'icon': '04d'}], 'clouds': {'all': 100}, 'wind': {'speed': 1.54, 'deg': 183, 'gust': 2.93}, 'visibility': 10000, 'pop': 0, 'sys': {'pod': 'd'}, 'dt_txt': '2023-11-22 12:00:00'}, {'dt': 1700665200, 'main': {'temp': 274.11, 'feels_like': 271.29, 'temp_min': 274.11, 'temp_max': 274.11, 'pressure': 1001, 'sea_level': 1001, 'grnd_level': 983, 'humidity': 92, 'temp_kf': 0}, 'weather': [{'id': 804, 'main': 'Clouds', 'description': 'overcast clouds', 'icon': '04n'}], 'clouds': {'all': 100}, 'wind': {'speed': 2.47, 'deg': 269, 'gust': 4.74}, 'visibility': 10000, 'pop': 0, 'sys': {'pod': 'n'}, 'dt_txt': '2023-11-22 15:00:00'}, {'dt': 1700676000, 'main': {'temp': 273.57, 'feels_like': 271.16, 'temp_min': 273.57, 'temp_max': 273.57, 'pressure': 1000, 'sea_level': 1000, 'grnd_level': 981, 'humidity': 88, 'temp_kf': 0}, 'weather': [{'id': 804, 'main': 'Clouds', 'description': 'overcast clouds', 'icon': '04n'}], 'clouds': {'all': 99}, 'wind': {'speed': 2.02, 'deg': 276, 'gust': 3.1}, 'visibility': 10000, 'pop': 0, 'sys': {'pod': 'n'}, 'dt_txt': '2023-11-22 18:00:00'}, {'dt': 1700686800, 'main': {'temp': 271.95, 'feels_like': 269.39, 'temp_min': 271.95, 'temp_max': 271.95, 'pressure': 1000, 'sea_level': 1000, 'grnd_level': 981, 'humidity': 91, 'temp_kf': 0}, 'weather': [{'id': 803, 'main': 'Clouds', 'description': 'broken clouds', 'icon': '04n'}], 'clouds': {'all': 70}, 'wind': {'speed': 1.93, 'deg': 282, 'gust': 1.81}, 'visibility': 10000, 'pop': 0, 'sys': {'pod': 'n'}, 'dt_txt': '2023-11-22 21:00:00'}, {'dt': 1700697600, 'main': {'temp': 270.18, 'feels_like': 267.69, 'temp_min': 270.18, 'temp_max': 270.18, 'pressure': 998, 'sea_level': 998, 'grnd_level': 979, 'humidity': 94, 'temp_kf': 0}, 'weather': [{'id': 803, 'main': 'Clouds', 'description': 'broken clouds', 'icon': '04n'}], 'clouds': {'all': 75}, 'wind': {'speed': 1.69, 'deg': 261, 'gust': 1.41}, 'visibility': 10000, 'pop': 0, 'sys': {'pod': 'n'}, 'dt_txt': '2023-11-23 00:00:00'}, {'dt': 1700708400, 'main': {'temp': 269.29, 'feels_like': 266.46, 'temp_min': 269.29, 'temp_max': 269.29, 'pressure': 993, 'sea_level': 993, 'grnd_level': 975, 'humidity': 94, 'temp_kf': 0}, 'weather': [{'id': 802, 'main': 'Clouds', 'description': 'scattered clouds', 'icon': '03n'}], 'clouds': {'all': 40}, 'wind': {'speed': 1.82, 'deg': 266, 'gust': 1.45}, 'visibility': 10000, 'pop': 0, 'sys': {'pod': 'n'}, 'dt_txt': '2023-11-23 03:00:00'}, {'dt': 1700719200, 'main': {'temp': 273.25, 'feels_like': 270.17, 'temp_min': 273.25, 'temp_max': 273.25, 'pressure': 989, 'sea_level': 989, 'grnd_level': 971, 'humidity': 90, 'temp_kf': 0}, 'weather': [{'id': 600, 'main': 'Snow', 'description': 'light snow', 'icon': '13n'}], 'clouds': {'all': 41}, 'wind': {'speed': 2.57, 'deg': 260, 'gust': 6.22}, 'visibility': 10000, 'pop': 0.2, 'snow': {'3h': 0.11}, 'sys': {'pod': 'n'}, 'dt_txt': '2023-11-23 06:00:00'}, {'dt': 1700730000, 'main': {'temp': 274.86, 'feels_like': 271.19, 'temp_min': 274.86, 'temp_max': 274.86, 'pressure': 989, 'sea_level': 989, 'grnd_level': 970, 'humidity': 81, 'temp_kf': 0}, 'weather': [{'id': 801, 'main': 'Clouds', 'description': 'few clouds', 'icon': '02d'}], 'clouds': {'all': 17}, 'wind': {'speed': 3.67, 'deg': 276, 'gust': 7.31}, 'visibility': 10000, 'pop': 0, 'sys': {'pod': 'd'}, 'dt_txt': '2023-11-23 09:00:00'}, {'dt': 1700740800, 'main': {'temp': 274.88, 'feels_like': 272.32, 'temp_min': 274.88, 'temp_max': 274.88, 'pressure': 987, 'sea_level': 987, 'grnd_level': 969, 'humidity': 78, 'temp_kf': 0}, 'weather': [{'id': 801, 'main': 'Clouds', 'description': 'few clouds', 'icon': '02d'}], 'clouds': {'all': 11}, 'wind': {'speed': 2.36, 'deg': 239, 'gust': 4.12}, 'visibility': 10000, 'pop': 0.01, 'sys': {'pod': 'd'}, 'dt_txt': '2023-11-23 12:00:00'}, {'dt': 1700751600, 'main': {'temp': 272.81, 'feels_like': 268.71, 'temp_min': 272.81, 'temp_max': 272.81, 'pressure': 986, 'sea_level': 986, 'grnd_level': 968, 'humidity': 83, 'temp_kf': 0}, 'weather': [{'id': 600, 'main': 'Snow', 'description': 'light snow', 'icon': '13n'}], 'clouds': {'all': 55}, 'wind': {'speed': 3.64, 'deg': 279, 'gust': 6.77}, 'visibility': 10000, 'pop': 0.35, 'snow': {'3h': 0.16}, 'sys': {'pod': 'n'}, 'dt_txt': '2023-11-23 15:00:00'}, {'dt': 1700762400, 'main': {'temp': 272.86, 'feels_like': 268.7, 'temp_min': 272.86, 'temp_max': 272.86, 'pressure': 987, 'sea_level': 987, 'grnd_level': 969, 'humidity': 65, 'temp_kf': 0}, 'weather': [{'id': 802, 'main': 'Clouds', 'description': 'scattered clouds', 'icon': '03n'}], 'clouds': {'all': 29}, 'wind': {'speed': 3.74, 'deg': 291, 'gust': 9.1}, 'visibility': 10000, 'pop': 0.17, 'sys': {'pod': 'n'}, 'dt_txt': '2023-11-23 18:00:00'}, {'dt': 1700773200, 'main': {'temp': 270.53, 'feels_like': 265.85, 'temp_min': 270.53, 'temp_max': 270.53, 'pressure': 989, 'sea_level': 989, 'grnd_level': 970, 'humidity': 76, 'temp_kf': 0}, 'weather': [{'id': 800, 'main': 'Clear', 'description': 'clear sky', 'icon': '01n'}], 'clouds': {'all': 2}, 'wind': {'speed': 3.74, 'deg': 287, 'gust': 8.74}, 'visibility': 10000, 'pop': 0, 'sys': {'pod': 'n'}, 'dt_txt': '2023-11-23 21:00:00'}, {'dt': 1700784000, 'main': {'temp': 270.44, 'feels_like': 265.66, 'temp_min': 270.44, 'temp_max': 270.44, 'pressure': 991, 'sea_level': 991, 'grnd_level': 972, 'humidity': 62, 'temp_kf': 0}, 'weather': [{'id': 800, 'main': 'Clear', 'description': 'clear sky', 'icon': '01n'}], 'clouds': {'all': 10}, 'wind': {'speed': 3.84, 'deg': 302, 'gust': 11.67}, 'visibility': 10000, 'pop': 0, 'sys': {'pod': 'n'}, 'dt_txt': '2023-11-24 00:00:00'}, {'dt': 1700794800, 'main': {'temp': 267.42, 'feels_like': 263.22, 'temp_min': 267.42, 'temp_max': 267.42, 'pressure': 991, 'sea_level': 991, 'grnd_level': 972, 'humidity': 77, 'temp_kf': 0}, 'weather': [{'id': 804, 'main': 'Clouds', 'description': 'overcast clouds', 'icon': '04n'}], 'clouds': {'all': 92}, 'wind': {'speed': 2.6, 'deg': 280, 'gust': 4.75}, 'visibility': 10000, 'pop': 0, 'sys': {'pod': 'n'}, 'dt_txt': '2023-11-24 03:00:00'}, {'dt': 1700805600, 'main': {'temp': 266.89, 'feels_like': 262.99, 'temp_min': 266.89, 'temp_max': 266.89, 'pressure': 990, 'sea_level': 990, 'grnd_level': 971, 'humidity': 80, 'temp_kf': 0}, 'weather': [{'id': 804, 'main': 'Clouds', 'description': 'overcast clouds', 'icon': '04n'}], 'clouds': {'all': 96}, 'wind': {'speed': 2.29, 'deg': 291, 'gust': 3.02}, 'visibility': 10000, 'pop': 0, 'sys': {'pod': 'n'}, 'dt_txt': '2023-11-24 06:00:00'}, {'dt': 1700816400, 'main': {'temp': 267.35, 'feels_like': 263.46, 'temp_min': 267.35, 'temp_max': 267.35, 'pressure': 992, 'sea_level': 992, 'grnd_level': 973, 'humidity': 81, 'temp_kf': 0}, 'weather': [{'id': 804, 'main': 'Clouds', 'description': 'overcast clouds', 'icon': '04d'}], 'clouds': {'all': 100}, 'wind': {'speed': 2.34, 'deg': 308, 'gust': 3.65}, 'visibility': 10000, 'pop': 0, 'sys': {'pod': 'd'}, 'dt_txt': '2023-11-24 09:00:00'}, {'dt': 1700827200, 'main': {'temp': 269.48, 'feels_like': 266.11, 'temp_min': 269.48, 'temp_max': 269.48, 'pressure': 992, 'sea_level': 992, 'grnd_level': 974, 'humidity': 77, 'temp_kf': 0}, 'weather': [{'id': 804, 'main': 'Clouds', 'description': 'overcast clouds', 'icon': '04d'}], 'clouds': {'all': 95}, 'wind': {'speed': 2.23, 'deg': 312, 'gust': 4.48}, 'visibility': 10000, 'pop': 0, 'sys': {'pod': 'd'}, 'dt_txt': '2023-11-24 12:00:00'}, {'dt': 1700838000, 'main': {'temp': 268.46, 'feels_like': 264.89, 'temp_min': 268.46, 'temp_max': 268.46, 'pressure': 994, 'sea_level': 994, 'grnd_level': 975, 'humidity': 83, 'temp_kf': 0}, 'weather': [{'id': 804, 'main': 'Clouds', 'description': 'overcast clouds', 'icon': '04n'}], 'clouds': {'all': 92}, 'wind': {'speed': 2.25, 'deg': 303, 'gust': 3.7}, 'visibility': 10000, 'pop': 0, 'sys': {'pod': 'n'}, 'dt_txt': '2023-11-24 15:00:00'}, {'dt': 1700848800, 'main': {'temp': 268.03, 'feels_like': 265.22, 'temp_min': 268.03, 'temp_max': 268.03, 'pressure': 994, 'sea_level': 994, 'grnd_level': 975, 'humidity': 83, 'temp_kf': 0}, 'weather': [{'id': 804, 'main': 'Clouds', 'description': 'overcast clouds', 'icon': '04n'}], 'clouds': {'all': 89}, 'wind': {'speed': 1.69, 'deg': 294, 'gust': 1.99}, 'visibility': 10000, 'pop': 0, 'sys': {'pod': 'n'}, 'dt_txt': '2023-11-24 18:00:00'}, {'dt': 1700859600, 'main': {'temp': 268.24, 'feels_like': 265.91, 'temp_min': 268.24, 'temp_max': 268.24, 'pressure': 995, 'sea_level': 995, 'grnd_level': 976, 'humidity': 86, 'temp_kf': 0}, 'weather': [{'id': 804, 'main': 'Clouds', 'description': 'overcast clouds', 'icon': '04n'}], 'clouds': {'all': 100}, 'wind': {'speed': 1.44, 'deg': 347, 'gust': 2.91}, 'visibility': 10000, 'pop': 0.09, 'sys': {'pod': 'n'}, 'dt_txt': '2023-11-24 21:00:00'}, {'dt': 1700870400, 'main': {'temp': 266.86, 'feels_like': 263.65, 'temp_min': 266.86, 'temp_max': 266.86, 'pressure': 998, 'sea_level': 998, 'grnd_level': 979, 'humidity': 90, 'temp_kf': 0}, 'weather': [{'id': 600, 'main': 'Snow', 'description': 'light snow', 'icon': '13n'}], 'clouds': {'all': 97}, 'wind': {'speed': 1.82, 'deg': 337, 'gust': 3.15}, 'visibility': 10000, 'pop': 0.23, 'snow': {'3h': 0.11}, 'sys': {'pod': 'n'}, 'dt_txt': '2023-11-25 00:00:00'}, {'dt': 1700881200, 'main': {'temp': 265.81, 'feels_like': 262.3, 'temp_min': 265.81, 'temp_max': 265.81, 'pressure': 1000, 'sea_level': 1000, 'grnd_level': 981, 'humidity': 90, 'temp_kf': 0}, 'weather': [{'id': 804, 'main': 'Clouds', 'description': 'overcast clouds', 'icon': '04n'}], 'clouds': {'all': 91}, 'wind': {'speed': 1.9, 'deg': 323, 'gust': 3.33}, 'visibility': 10000, 'pop': 0, 'sys': {'pod': 'n'}, 'dt_txt': '2023-11-25 03:00:00'}, {'dt': 1700892000, 'main': {'temp': 265.74, 'feels_like': 261.76, 'temp_min': 265.74, 'temp_max': 265.74, 'pressure': 1002, 'sea_level': 1002, 'grnd_level': 982, 'humidity': 90, 'temp_kf': 0}, 'weather': [{'id': 804, 'main': 'Clouds', 'description': 'overcast clouds', 'icon': '04n'}], 'clouds': {'all': 88}, 'wind': {'speed': 2.2, 'deg': 319, 'gust': 3.77}, 'visibility': 10000, 'pop': 0, 'sys': {'pod': 'n'}, 'dt_txt': '2023-11-25 06:00:00'}], 'city': {'id': 3144113, 'name': 'Noresund', 'coord': {'lat': 60.1803, 'lon': 9.6231}, 'country': 'NO', 'population': 1000, 'timezone': 3600, 'sunrise': 1700465520, 'sunset': 1700491342}}\n"
     ]
    }
   ],
   "source": [
    "responseF = requests.get(urlF).json()\n",
    "print(responseF)"
   ]
  },
  {
   "cell_type": "code",
   "execution_count": 11,
   "metadata": {
    "slideshow": {
     "slide_type": "slide"
    }
   },
   "outputs": [],
   "source": [
    "# Write JSON to file for viewing\n",
    "with open('downloads/forecast.json', 'w') as f:\n",
    "    json.dump(responseF, f, indent=4)"
   ]
  },
  {
   "cell_type": "markdown",
   "metadata": {
    "slideshow": {
     "slide_type": "slide"
    }
   },
   "source": [
    "### When and what?\n",
    "Check contents and time stamps"
   ]
  },
  {
   "cell_type": "code",
   "execution_count": 12,
   "metadata": {
    "slideshow": {
     "slide_type": "-"
    }
   },
   "outputs": [
    {
     "data": {
      "text/plain": [
       "dict_keys(['cod', 'message', 'cnt', 'list', 'city'])"
      ]
     },
     "execution_count": 12,
     "metadata": {},
     "output_type": "execute_result"
    }
   ],
   "source": [
    "# Content of responseF\n",
    "responseF.keys()"
   ]
  },
  {
   "cell_type": "code",
   "execution_count": 13,
   "metadata": {
    "slideshow": {
     "slide_type": "fragment"
    }
   },
   "outputs": [
    {
     "name": "stdout",
     "output_type": "stream",
     "text": [
      "40\n"
     ]
    }
   ],
   "source": [
    "# Number of forecasts\n",
    "print(len(responseF[\"list\"]))"
   ]
  },
  {
   "cell_type": "code",
   "execution_count": 14,
   "metadata": {
    "scrolled": true,
    "slideshow": {
     "slide_type": "slide"
    }
   },
   "outputs": [
    {
     "name": "stdout",
     "output_type": "stream",
     "text": [
      "2023-11-20 09:00:00\n",
      "2023-11-20 12:00:00\n",
      "2023-11-20 15:00:00\n",
      "2023-11-20 18:00:00\n",
      "2023-11-20 21:00:00\n",
      "2023-11-21 00:00:00\n",
      "2023-11-21 03:00:00\n",
      "2023-11-21 06:00:00\n",
      "2023-11-21 09:00:00\n",
      "2023-11-21 12:00:00\n",
      "2023-11-21 15:00:00\n",
      "2023-11-21 18:00:00\n",
      "2023-11-21 21:00:00\n",
      "2023-11-22 00:00:00\n",
      "2023-11-22 03:00:00\n",
      "2023-11-22 06:00:00\n",
      "2023-11-22 09:00:00\n",
      "2023-11-22 12:00:00\n",
      "2023-11-22 15:00:00\n",
      "2023-11-22 18:00:00\n",
      "2023-11-22 21:00:00\n",
      "2023-11-23 00:00:00\n",
      "2023-11-23 03:00:00\n",
      "2023-11-23 06:00:00\n",
      "2023-11-23 09:00:00\n",
      "2023-11-23 12:00:00\n",
      "2023-11-23 15:00:00\n",
      "2023-11-23 18:00:00\n",
      "2023-11-23 21:00:00\n",
      "2023-11-24 00:00:00\n",
      "2023-11-24 03:00:00\n",
      "2023-11-24 06:00:00\n",
      "2023-11-24 09:00:00\n",
      "2023-11-24 12:00:00\n",
      "2023-11-24 15:00:00\n",
      "2023-11-24 18:00:00\n",
      "2023-11-24 21:00:00\n",
      "2023-11-25 00:00:00\n",
      "2023-11-25 03:00:00\n",
      "2023-11-25 06:00:00\n"
     ]
    }
   ],
   "source": [
    "# Print forecast times\n",
    "for forecast in responseF[\"list\"]:\n",
    "    print(forecast[\"dt_txt\"])"
   ]
  },
  {
   "cell_type": "markdown",
   "metadata": {
    "slideshow": {
     "slide_type": "slide"
    }
   },
   "source": [
    "## Make plots of omnipresent measurements and events\n",
    "We will later look at missing data, data only sporadically appearing and so on."
   ]
  },
  {
   "cell_type": "code",
   "execution_count": 15,
   "metadata": {
    "slideshow": {
     "slide_type": "-"
    }
   },
   "outputs": [],
   "source": [
    "# Air pressure per period\n",
    "pressures = []\n",
    "timestamps = []\n",
    "for forecast in responseF[\"list\"]:\n",
    "    pressures.append(forecast[\"main\"][\"pressure\"])\n",
    "    timestamps.append(dt.datetime.fromtimestamp(forecast[\"dt\"]))"
   ]
  },
  {
   "cell_type": "code",
   "execution_count": 16,
   "metadata": {
    "slideshow": {
     "slide_type": "slide"
    }
   },
   "outputs": [
    {
     "data": {
      "image/png": "[encoded data removed]",
      "text/plain": [
       "<Figure size 640x480 with 1 Axes>"
      ]
     },
     "metadata": {},
     "output_type": "display_data"
    }
   ],
   "source": [
    "import matplotlib.pyplot as plt\n",
    "plt.bar(timestamps, pressures)\n",
    "plt.xticks(rotation=45)\n",
    "plt.ylim(950, 1050)\n",
    "plt.grid()\n",
    "plt.ylabel(\"Air pressure (hPa)\")\n",
    "plt.title(f\"Forecasted air pressure in {CITY}\")\n",
    "plt.show()"
   ]
  },
  {
   "cell_type": "markdown",
   "metadata": {
    "slideshow": {
     "slide_type": "slide"
    }
   },
   "source": [
    "## Exercise\n",
    "- Make a new forecast request for your own hometown. Call your response something else than responseF.\n",
    "- If available, plot the humidity like we did with air pressure."
   ]
  },
  {
   "cell_type": "markdown",
   "metadata": {
    "slideshow": {
     "slide_type": "slide"
    }
   },
   "source": [
    "### Precipitation\n",
    "- ... comes in two main flavours: rain and snow.\n",
    "- We need to check which is present and set to zero if it is abscent."
   ]
  },
  {
   "cell_type": "code",
   "execution_count": 17,
   "metadata": {
    "slideshow": {
     "slide_type": "-"
    }
   },
   "outputs": [],
   "source": [
    "rain = []\n",
    "snow = []\n",
    "for forecast in responseF[\"list\"]:\n",
    "    try: # Check if rain is present in forecast\n",
    "        rain.append(forecast[\"rain\"][\"3h\"])\n",
    "    except KeyError:\n",
    "        rain.append(0)\n",
    "    try: # Check if snow is present in forecast\n",
    "        snow.append(forecast[\"snow\"][\"3h\"])\n",
    "    except KeyError:\n",
    "        snow.append(0)"
   ]
  },
  {
   "cell_type": "code",
   "execution_count": 18,
   "metadata": {
    "slideshow": {
     "slide_type": "slide"
    }
   },
   "outputs": [
    {
     "data": {
      "image/png": "[encoded data removed]",
      "text/plain": [
       "<Figure size 640x480 with 1 Axes>"
      ]
     },
     "metadata": {},
     "output_type": "display_data"
    }
   ],
   "source": [
    "# Stacked bar chart with rain and snow\n",
    "plt.bar(timestamps, rain, label=\"Rain\")\n",
    "plt.bar(timestamps, snow, label=\"Snow\")\n",
    "plt.xticks(rotation=45)\n",
    "plt.grid()\n",
    "plt.ylabel(\"Precipitation (mm)\")\n",
    "plt.title(f\"Forecasted precipitation in {CITY}\")\n",
    "plt.legend()\n",
    "plt.show()\n"
   ]
  },
  {
   "cell_type": "markdown",
   "metadata": {
    "slideshow": {
     "slide_type": "slide"
    }
   },
   "source": [
    "```{seealso} Resources\n",
    ":class: tip\n",
    "- [YouTube: NeuralNine's video (15m:32s)](https://www.youtube.com/watch?v=9P5MY_2i7K8)\n",
    "```"
   ]
  }
 ],
 "metadata": {
  "celltoolbar": "Slideshow",
  "kernelspec": {
   "display_name": "Python 3 (ipykernel)",
   "language": "python",
   "name": "python3"
  },
  "language_info": {
   "codemirror_mode": {
    "name": "ipython",
    "version": 3
   },
   "file_extension": ".py",
   "mimetype": "text/x-python",
   "name": "python",
   "nbconvert_exporter": "python",
   "pygments_lexer": "ipython3",
   "version": "3.11.6"
  }
 },
 "nbformat": 4,
 "nbformat_minor": 2
}