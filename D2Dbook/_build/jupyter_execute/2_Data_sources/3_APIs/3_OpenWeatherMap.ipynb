{
 "cells": [
  {
   "cell_type": "markdown",
   "metadata": {
    "slideshow": {
     "slide_type": "slide"
    }
   },
   "source": [
    "# Demonstration of API using OpenWeatherMap.org\n",
    "This demonstration is heavily inspired by [NeuralNine's video](https://www.youtube.com/watch?v=9P5MY_2i7K8).  \n",
    "You need a free account [from here](https://openweathermap.org/api).  \n",
    "The VS Code extension _JSON viewer_ is recommended for viewing downloaded JSON content.  \n",
    "  - Set your maximum API calls to 1000 per day to make sure you are under the limit for billing. \n",
    "  - To run the examples, download your API key, save it in the right folder (see below) in a file called _api\\_key\\_OpenWeather_, containing only the key (no spaces or \"enters\")."
   ]
  },
  {
   "cell_type": "code",
   "execution_count": 1,
   "metadata": {
    "slideshow": {
     "slide_type": "fragment"
    }
   },
   "outputs": [],
   "source": [
    "# Imports\n",
    "import datetime as dt\n",
    "import requests\n",
    "import json"
   ]
  },
  {
   "cell_type": "markdown",
   "metadata": {
    "slideshow": {
     "slide_type": "slide"
    }
   },
   "source": [
    "## Current weather\n",
    "### Common definitions to use for all requests"
   ]
  },
  {
   "cell_type": "code",
   "execution_count": 2,
   "metadata": {
    "slideshow": {
     "slide_type": "-"
    }
   },
   "outputs": [],
   "source": [
    "BASE_URL = \"http://api.openweathermap.org/data/2.5/weather?\"\n",
    "API_KEY = open('../../../No_sync/api_key_OpenWeather','r').read()\n",
    "CITY = \"Ski\"\n",
    "\n",
    "url = BASE_URL + \"q=\" + CITY + \"&appid=\" + API_KEY"
   ]
  },
  {
   "cell_type": "markdown",
   "metadata": {
    "slideshow": {
     "slide_type": "slide"
    }
   },
   "source": [
    "## Request current weather in chosen city"
   ]
  },
  {
   "cell_type": "code",
   "execution_count": 3,
   "metadata": {
    "slideshow": {
     "slide_type": "fragment"
    }
   },
   "outputs": [
    {
     "name": "stdout",
     "output_type": "stream",
     "text": [
      "{'coord': {'lon': 10.8358, 'lat': 59.7195}, 'weather': [{'id': 804, 'main': 'Clouds', 'description': 'overcast clouds', 'icon': '04n'}], 'base': 'stations', 'main': {'temp': 278.4, 'feels_like': 275.82, 'temp_min': 276.18, 'temp_max': 279.86, 'pressure': 996, 'humidity': 96, 'sea_level': 996, 'grnd_level': 979}, 'visibility': 10000, 'wind': {'speed': 3.19, 'deg': 226, 'gust': 10.34}, 'clouds': {'all': 100}, 'dt': 1700679524, 'sys': {'type': 2, 'id': 2006772, 'country': 'NO', 'sunrise': 1700638127, 'sunset': 1700663814}, 'timezone': 3600, 'id': 3139081, 'name': 'Ski', 'cod': 200}\n"
     ]
    }
   ],
   "source": [
    "response = requests.get(url).json()\n",
    "print(response)"
   ]
  },
  {
   "cell_type": "code",
   "execution_count": 4,
   "metadata": {
    "slideshow": {
     "slide_type": "fragment"
    }
   },
   "outputs": [],
   "source": [
    "# Write JSON to file for viewing\n",
    "with open('downloads/weather.json', 'w') as f:\n",
    "    json.dump(response, f, indent=4)"
   ]
  },
  {
   "cell_type": "markdown",
   "metadata": {
    "slideshow": {
     "slide_type": "slide"
    }
   },
   "source": [
    "## Conversion functions\n",
    "Changing scales can make results more interpretable"
   ]
  },
  {
   "cell_type": "code",
   "execution_count": 5,
   "metadata": {
    "slideshow": {
     "slide_type": "-"
    }
   },
   "outputs": [],
   "source": [
    "# Kelvin to Celsius\n",
    "def kelvin_to_celsius(temp):\n",
    "    return temp - 273.15\n",
    "\n",
    "# Meters per second to knots\n",
    "def mps_to_knots(speed):\n",
    "    return speed * 1.943844"
   ]
  },
  {
   "cell_type": "markdown",
   "metadata": {
    "slideshow": {
     "slide_type": "slide"
    }
   },
   "source": [
    "## Print some weather properties"
   ]
  },
  {
   "cell_type": "code",
   "execution_count": 6,
   "metadata": {
    "slideshow": {
     "slide_type": "-"
    }
   },
   "outputs": [
    {
     "name": "stdout",
     "output_type": "stream",
     "text": [
      "The current temperature in Ski is 5.2°C\n"
     ]
    }
   ],
   "source": [
    "# Current temperature\n",
    "temp_kelvin = response['main']['temp']\n",
    "temp_celsius = kelvin_to_celsius(temp_kelvin)\n",
    "print(f\"The current temperature in {CITY} is {temp_celsius:.1f}°C\")"
   ]
  },
  {
   "cell_type": "code",
   "execution_count": 7,
   "metadata": {
    "slideshow": {
     "slide_type": "slide"
    }
   },
   "outputs": [
    {
     "name": "stdout",
     "output_type": "stream",
     "text": [
      "Sunrise today is at 08:28 and sunset is at 15:36\n"
     ]
    }
   ],
   "source": [
    "# Sunrise and sunset today in local time\n",
    "sunrise = dt.datetime.fromtimestamp(response['sys']['sunrise'])\n",
    "sunset = dt.datetime.fromtimestamp(response['sys']['sunset'])\n",
    "print(f\"Sunrise today is at {sunrise:%H:%M} and sunset is at {sunset:%H:%M}\")"
   ]
  },
  {
   "cell_type": "code",
   "execution_count": 8,
   "metadata": {
    "slideshow": {
     "slide_type": "fragment"
    }
   },
   "outputs": [
    {
     "name": "stdout",
     "output_type": "stream",
     "text": [
      "Wind today is from 226° at 6.2 knots\n"
     ]
    }
   ],
   "source": [
    "# Wind direction and speed\n",
    "wind_knots = mps_to_knots(response['wind']['speed'])\n",
    "print(f\"Wind today is from {response['wind']['deg']}° at {round(wind_knots,1)} knots\")"
   ]
  },
  {
   "cell_type": "markdown",
   "metadata": {
    "slideshow": {
     "slide_type": "slide"
    }
   },
   "source": [
    "## Forecasted weather\n",
    "### Common definitions to use for all requests"
   ]
  },
  {
   "cell_type": "code",
   "execution_count": 9,
   "metadata": {
    "slideshow": {
     "slide_type": "-"
    }
   },
   "outputs": [],
   "source": [
    "BASE_URL = \"http://api.openweathermap.org/data/2.5/forecast?\"\n",
    "CITY = \"Noresund\"\n",
    "\n",
    "urlF = BASE_URL + \"q=\" + CITY + \"&appid=\" + API_KEY"
   ]
  },
  {
   "cell_type": "markdown",
   "metadata": {
    "slideshow": {
     "slide_type": "slide"
    }
   },
   "source": [
    "## Request forecasted weather in chosen city"
   ]
  },
  {
   "cell_type": "code",
   "execution_count": 10,
   "metadata": {
    "slideshow": {
     "slide_type": "-"
    }
   },
   "outputs": [
    {
     "name": "stdout",
     "output_type": "stream",
     "text": [
      "{'cod': '200', 'message': 0, 'cnt': 40, 'list': [{'dt': 1700686800, 'main': {'temp': 275.19, 'feels_like': 272.9, 'temp_min': 273.98, 'temp_max': 275.19, 'pressure': 996, 'sea_level': 996, 'grnd_level': 977, 'humidity': 88, 'temp_kf': 1.21}, 'weather': [{'id': 803, 'main': 'Clouds', 'description': 'broken clouds', 'icon': '04n'}], 'clouds': {'all': 78}, 'wind': {'speed': 2.15, 'deg': 261, 'gust': 2.4}, 'visibility': 10000, 'pop': 0, 'sys': {'pod': 'n'}, 'dt_txt': '2023-11-22 21:00:00'}, {'dt': 1700697600, 'main': {'temp': 274.72, 'feels_like': 271.85, 'temp_min': 274.18, 'temp_max': 274.72, 'pressure': 993, 'sea_level': 993, 'grnd_level': 974, 'humidity': 86, 'temp_kf': 0.54}, 'weather': [{'id': 803, 'main': 'Clouds', 'description': 'broken clouds', 'icon': '04n'}], 'clouds': {'all': 54}, 'wind': {'speed': 2.64, 'deg': 252, 'gust': 5.21}, 'visibility': 10000, 'pop': 0, 'sys': {'pod': 'n'}, 'dt_txt': '2023-11-23 00:00:00'}, {'dt': 1700708400, 'main': {'temp': 275.2, 'feels_like': 272.37, 'temp_min': 275.2, 'temp_max': 275.2, 'pressure': 990, 'sea_level': 990, 'grnd_level': 972, 'humidity': 78, 'temp_kf': 0}, 'weather': [{'id': 801, 'main': 'Clouds', 'description': 'few clouds', 'icon': '02n'}], 'clouds': {'all': 19}, 'wind': {'speed': 2.7, 'deg': 265, 'gust': 6.02}, 'visibility': 10000, 'pop': 0.04, 'sys': {'pod': 'n'}, 'dt_txt': '2023-11-23 03:00:00'}, {'dt': 1700719200, 'main': {'temp': 274.8, 'feels_like': 272.1, 'temp_min': 274.8, 'temp_max': 274.8, 'pressure': 988, 'sea_level': 988, 'grnd_level': 969, 'humidity': 87, 'temp_kf': 0}, 'weather': [{'id': 600, 'main': 'Snow', 'description': 'light snow', 'icon': '13n'}], 'clouds': {'all': 38}, 'wind': {'speed': 2.48, 'deg': 260, 'gust': 5.51}, 'visibility': 10000, 'pop': 0.35, 'snow': {'3h': 0.16}, 'sys': {'pod': 'n'}, 'dt_txt': '2023-11-23 06:00:00'}, {'dt': 1700730000, 'main': {'temp': 276.05, 'feels_like': 272.68, 'temp_min': 276.05, 'temp_max': 276.05, 'pressure': 986, 'sea_level': 986, 'grnd_level': 967, 'humidity': 67, 'temp_kf': 0}, 'weather': [{'id': 802, 'main': 'Clouds', 'description': 'scattered clouds', 'icon': '03d'}], 'clouds': {'all': 40}, 'wind': {'speed': 3.61, 'deg': 283, 'gust': 8.2}, 'visibility': 10000, 'pop': 0.24, 'sys': {'pod': 'd'}, 'dt_txt': '2023-11-23 09:00:00'}, {'dt': 1700740800, 'main': {'temp': 274.99, 'feels_like': 272.47, 'temp_min': 274.99, 'temp_max': 274.99, 'pressure': 985, 'sea_level': 985, 'grnd_level': 966, 'humidity': 80, 'temp_kf': 0}, 'weather': [{'id': 600, 'main': 'Snow', 'description': 'light snow', 'icon': '13d'}], 'clouds': {'all': 42}, 'wind': {'speed': 2.34, 'deg': 263, 'gust': 7.28}, 'visibility': 10000, 'pop': 0.35, 'snow': {'3h': 0.35}, 'sys': {'pod': 'd'}, 'dt_txt': '2023-11-23 12:00:00'}, {'dt': 1700751600, 'main': {'temp': 274.64, 'feels_like': 270.15, 'temp_min': 274.64, 'temp_max': 274.64, 'pressure': 985, 'sea_level': 985, 'grnd_level': 966, 'humidity': 62, 'temp_kf': 0}, 'weather': [{'id': 802, 'main': 'Clouds', 'description': 'scattered clouds', 'icon': '03n'}], 'clouds': {'all': 35}, 'wind': {'speed': 4.9, 'deg': 289, 'gust': 13.34}, 'visibility': 10000, 'pop': 0, 'sys': {'pod': 'n'}, 'dt_txt': '2023-11-23 15:00:00'}, {'dt': 1700762400, 'main': {'temp': 272.9, 'feels_like': 268.38, 'temp_min': 272.9, 'temp_max': 272.9, 'pressure': 987, 'sea_level': 987, 'grnd_level': 969, 'humidity': 66, 'temp_kf': 0}, 'weather': [{'id': 801, 'main': 'Clouds', 'description': 'few clouds', 'icon': '02n'}], 'clouds': {'all': 18}, 'wind': {'speed': 4.26, 'deg': 292, 'gust': 10.7}, 'visibility': 10000, 'pop': 0, 'sys': {'pod': 'n'}, 'dt_txt': '2023-11-23 18:00:00'}, {'dt': 1700773200, 'main': {'temp': 271.03, 'feels_like': 266.05, 'temp_min': 271.03, 'temp_max': 271.03, 'pressure': 991, 'sea_level': 991, 'grnd_level': 972, 'humidity': 59, 'temp_kf': 0}, 'weather': [{'id': 800, 'main': 'Clear', 'description': 'clear sky', 'icon': '01n'}], 'clouds': {'all': 1}, 'wind': {'speed': 4.29, 'deg': 295, 'gust': 11.77}, 'visibility': 10000, 'pop': 0, 'sys': {'pod': 'n'}, 'dt_txt': '2023-11-23 21:00:00'}, {'dt': 1700784000, 'main': {'temp': 270.32, 'feels_like': 265.39, 'temp_min': 270.32, 'temp_max': 270.32, 'pressure': 990, 'sea_level': 990, 'grnd_level': 972, 'humidity': 65, 'temp_kf': 0}, 'weather': [{'id': 800, 'main': 'Clear', 'description': 'clear sky', 'icon': '01n'}], 'clouds': {'all': 2}, 'wind': {'speed': 4, 'deg': 291, 'gust': 12.1}, 'visibility': 10000, 'pop': 0, 'sys': {'pod': 'n'}, 'dt_txt': '2023-11-24 00:00:00'}, {'dt': 1700794800, 'main': {'temp': 269.95, 'feels_like': 266.59, 'temp_min': 269.95, 'temp_max': 269.95, 'pressure': 989, 'sea_level': 989, 'grnd_level': 971, 'humidity': 75, 'temp_kf': 0}, 'weather': [{'id': 803, 'main': 'Clouds', 'description': 'broken clouds', 'icon': '04n'}], 'clouds': {'all': 77}, 'wind': {'speed': 2.29, 'deg': 281, 'gust': 4}, 'visibility': 10000, 'pop': 0, 'sys': {'pod': 'n'}, 'dt_txt': '2023-11-24 03:00:00'}, {'dt': 1700805600, 'main': {'temp': 267.48, 'feels_like': 263.45, 'temp_min': 267.48, 'temp_max': 267.48, 'pressure': 990, 'sea_level': 990, 'grnd_level': 971, 'humidity': 80, 'temp_kf': 0}, 'weather': [{'id': 804, 'main': 'Clouds', 'description': 'overcast clouds', 'icon': '04n'}], 'clouds': {'all': 85}, 'wind': {'speed': 2.47, 'deg': 306, 'gust': 2.88}, 'visibility': 10000, 'pop': 0, 'sys': {'pod': 'n'}, 'dt_txt': '2023-11-24 06:00:00'}, {'dt': 1700816400, 'main': {'temp': 269.92, 'feels_like': 264.88, 'temp_min': 269.92, 'temp_max': 269.92, 'pressure': 995, 'sea_level': 995, 'grnd_level': 976, 'humidity': 70, 'temp_kf': 0}, 'weather': [{'id': 804, 'main': 'Clouds', 'description': 'overcast clouds', 'icon': '04d'}], 'clouds': {'all': 99}, 'wind': {'speed': 4.02, 'deg': 329, 'gust': 12.16}, 'visibility': 10000, 'pop': 0, 'sys': {'pod': 'd'}, 'dt_txt': '2023-11-24 09:00:00'}, {'dt': 1700827200, 'main': {'temp': 272.67, 'feels_like': 268.48, 'temp_min': 272.67, 'temp_max': 272.67, 'pressure': 997, 'sea_level': 997, 'grnd_level': 979, 'humidity': 63, 'temp_kf': 0}, 'weather': [{'id': 803, 'main': 'Clouds', 'description': 'broken clouds', 'icon': '04d'}], 'clouds': {'all': 79}, 'wind': {'speed': 3.72, 'deg': 333, 'gust': 11.75}, 'visibility': 10000, 'pop': 0, 'sys': {'pod': 'd'}, 'dt_txt': '2023-11-24 12:00:00'}, {'dt': 1700838000, 'main': {'temp': 267.84, 'feels_like': 263.61, 'temp_min': 267.84, 'temp_max': 267.84, 'pressure': 1000, 'sea_level': 1000, 'grnd_level': 981, 'humidity': 79, 'temp_kf': 0}, 'weather': [{'id': 801, 'main': 'Clouds', 'description': 'few clouds', 'icon': '02n'}], 'clouds': {'all': 18}, 'wind': {'speed': 2.69, 'deg': 295, 'gust': 3.18}, 'visibility': 10000, 'pop': 0, 'sys': {'pod': 'n'}, 'dt_txt': '2023-11-24 15:00:00'}, {'dt': 1700848800, 'main': {'temp': 268.06, 'feels_like': 263.94, 'temp_min': 268.06, 'temp_max': 268.06, 'pressure': 1000, 'sea_level': 1000, 'grnd_level': 981, 'humidity': 78, 'temp_kf': 0}, 'weather': [{'id': 803, 'main': 'Clouds', 'description': 'broken clouds', 'icon': '04n'}], 'clouds': {'all': 58}, 'wind': {'speed': 2.63, 'deg': 293, 'gust': 3.51}, 'visibility': 10000, 'pop': 0, 'sys': {'pod': 'n'}, 'dt_txt': '2023-11-24 18:00:00'}, {'dt': 1700859600, 'main': {'temp': 267.98, 'feels_like': 263.93, 'temp_min': 267.98, 'temp_max': 267.98, 'pressure': 1001, 'sea_level': 1001, 'grnd_level': 982, 'humidity': 78, 'temp_kf': 0}, 'weather': [{'id': 804, 'main': 'Clouds', 'description': 'overcast clouds', 'icon': '04n'}], 'clouds': {'all': 100}, 'wind': {'speed': 2.56, 'deg': 303, 'gust': 3.92}, 'visibility': 10000, 'pop': 0, 'sys': {'pod': 'n'}, 'dt_txt': '2023-11-24 21:00:00'}, {'dt': 1700870400, 'main': {'temp': 267.52, 'feels_like': 263.13, 'temp_min': 267.52, 'temp_max': 267.52, 'pressure': 1003, 'sea_level': 1003, 'grnd_level': 984, 'humidity': 81, 'temp_kf': 0}, 'weather': [{'id': 803, 'main': 'Clouds', 'description': 'broken clouds', 'icon': '04n'}], 'clouds': {'all': 83}, 'wind': {'speed': 2.78, 'deg': 304, 'gust': 4.4}, 'visibility': 10000, 'pop': 0, 'sys': {'pod': 'n'}, 'dt_txt': '2023-11-25 00:00:00'}, {'dt': 1700881200, 'main': {'temp': 267.74, 'feels_like': 264.51, 'temp_min': 267.74, 'temp_max': 267.74, 'pressure': 1005, 'sea_level': 1005, 'grnd_level': 986, 'humidity': 81, 'temp_kf': 0}, 'weather': [{'id': 803, 'main': 'Clouds', 'description': 'broken clouds', 'icon': '04n'}], 'clouds': {'all': 73}, 'wind': {'speed': 1.92, 'deg': 309, 'gust': 2.93}, 'visibility': 10000, 'pop': 0, 'sys': {'pod': 'n'}, 'dt_txt': '2023-11-25 03:00:00'}, {'dt': 1700892000, 'main': {'temp': 266.91, 'feels_like': 263.56, 'temp_min': 266.91, 'temp_max': 266.91, 'pressure': 1006, 'sea_level': 1006, 'grnd_level': 987, 'humidity': 82, 'temp_kf': 0}, 'weather': [{'id': 803, 'main': 'Clouds', 'description': 'broken clouds', 'icon': '04n'}], 'clouds': {'all': 77}, 'wind': {'speed': 1.91, 'deg': 317, 'gust': 2.46}, 'visibility': 10000, 'pop': 0, 'sys': {'pod': 'n'}, 'dt_txt': '2023-11-25 06:00:00'}, {'dt': 1700902800, 'main': {'temp': 268.65, 'feels_like': 266.45, 'temp_min': 268.65, 'temp_max': 268.65, 'pressure': 1008, 'sea_level': 1008, 'grnd_level': 989, 'humidity': 82, 'temp_kf': 0}, 'weather': [{'id': 804, 'main': 'Clouds', 'description': 'overcast clouds', 'icon': '04d'}], 'clouds': {'all': 99}, 'wind': {'speed': 1.4, 'deg': 332, 'gust': 2.55}, 'visibility': 10000, 'pop': 0.22, 'sys': {'pod': 'd'}, 'dt_txt': '2023-11-25 09:00:00'}, {'dt': 1700913600, 'main': {'temp': 270.84, 'feels_like': 268.23, 'temp_min': 270.84, 'temp_max': 270.84, 'pressure': 1010, 'sea_level': 1010, 'grnd_level': 991, 'humidity': 81, 'temp_kf': 0}, 'weather': [{'id': 804, 'main': 'Clouds', 'description': 'overcast clouds', 'icon': '04d'}], 'clouds': {'all': 98}, 'wind': {'speed': 1.84, 'deg': 328, 'gust': 3.71}, 'visibility': 10000, 'pop': 0.23, 'sys': {'pod': 'd'}, 'dt_txt': '2023-11-25 12:00:00'}, {'dt': 1700924400, 'main': {'temp': 268.72, 'feels_like': 265.27, 'temp_min': 268.72, 'temp_max': 268.72, 'pressure': 1011, 'sea_level': 1011, 'grnd_level': 992, 'humidity': 88, 'temp_kf': 0}, 'weather': [{'id': 804, 'main': 'Clouds', 'description': 'overcast clouds', 'icon': '04n'}], 'clouds': {'all': 91}, 'wind': {'speed': 2.19, 'deg': 315, 'gust': 3.25}, 'visibility': 10000, 'pop': 0, 'sys': {'pod': 'n'}, 'dt_txt': '2023-11-25 15:00:00'}, {'dt': 1700935200, 'main': {'temp': 266.85, 'feels_like': 262.73, 'temp_min': 266.85, 'temp_max': 266.85, 'pressure': 1013, 'sea_level': 1013, 'grnd_level': 994, 'humidity': 85, 'temp_kf': 0}, 'weather': [{'id': 803, 'main': 'Clouds', 'description': 'broken clouds', 'icon': '04n'}], 'clouds': {'all': 60}, 'wind': {'speed': 2.45, 'deg': 311, 'gust': 3.79}, 'visibility': 10000, 'pop': 0, 'sys': {'pod': 'n'}, 'dt_txt': '2023-11-25 18:00:00'}, {'dt': 1700946000, 'main': {'temp': 266.22, 'feels_like': 262.34, 'temp_min': 266.22, 'temp_max': 266.22, 'pressure': 1014, 'sea_level': 1014, 'grnd_level': 995, 'humidity': 83, 'temp_kf': 0}, 'weather': [{'id': 800, 'main': 'Clear', 'description': 'clear sky', 'icon': '01n'}], 'clouds': {'all': 9}, 'wind': {'speed': 2.19, 'deg': 309, 'gust': 2.81}, 'visibility': 10000, 'pop': 0, 'sys': {'pod': 'n'}, 'dt_txt': '2023-11-25 21:00:00'}, {'dt': 1700956800, 'main': {'temp': 265.67, 'feels_like': 261.92, 'temp_min': 265.67, 'temp_max': 265.67, 'pressure': 1014, 'sea_level': 1014, 'grnd_level': 995, 'humidity': 83, 'temp_kf': 0}, 'weather': [{'id': 800, 'main': 'Clear', 'description': 'clear sky', 'icon': '01n'}], 'clouds': {'all': 9}, 'wind': {'speed': 2.04, 'deg': 307, 'gust': 2.29}, 'visibility': 10000, 'pop': 0, 'sys': {'pod': 'n'}, 'dt_txt': '2023-11-26 00:00:00'}, {'dt': 1700967600, 'main': {'temp': 265.4, 'feels_like': 261.45, 'temp_min': 265.4, 'temp_max': 265.4, 'pressure': 1015, 'sea_level': 1015, 'grnd_level': 995, 'humidity': 83, 'temp_kf': 0}, 'weather': [{'id': 801, 'main': 'Clouds', 'description': 'few clouds', 'icon': '02n'}], 'clouds': {'all': 15}, 'wind': {'speed': 2.14, 'deg': 309, 'gust': 2.72}, 'visibility': 10000, 'pop': 0, 'sys': {'pod': 'n'}, 'dt_txt': '2023-11-26 03:00:00'}, {'dt': 1700978400, 'main': {'temp': 265.34, 'feels_like': 261.73, 'temp_min': 265.34, 'temp_max': 265.34, 'pressure': 1015, 'sea_level': 1015, 'grnd_level': 996, 'humidity': 82, 'temp_kf': 0}, 'weather': [{'id': 802, 'main': 'Clouds', 'description': 'scattered clouds', 'icon': '03n'}], 'clouds': {'all': 26}, 'wind': {'speed': 1.92, 'deg': 312, 'gust': 2.06}, 'visibility': 10000, 'pop': 0, 'sys': {'pod': 'n'}, 'dt_txt': '2023-11-26 06:00:00'}, {'dt': 1700989200, 'main': {'temp': 266.76, 'feels_like': 263.64, 'temp_min': 266.76, 'temp_max': 266.76, 'pressure': 1016, 'sea_level': 1016, 'grnd_level': 997, 'humidity': 79, 'temp_kf': 0}, 'weather': [{'id': 804, 'main': 'Clouds', 'description': 'overcast clouds', 'icon': '04d'}], 'clouds': {'all': 87}, 'wind': {'speed': 1.76, 'deg': 326, 'gust': 2.61}, 'visibility': 10000, 'pop': 0, 'sys': {'pod': 'd'}, 'dt_txt': '2023-11-26 09:00:00'}, {'dt': 1701000000, 'main': {'temp': 269.46, 'feels_like': 269.46, 'temp_min': 269.46, 'temp_max': 269.46, 'pressure': 1017, 'sea_level': 1017, 'grnd_level': 998, 'humidity': 79, 'temp_kf': 0}, 'weather': [{'id': 804, 'main': 'Clouds', 'description': 'overcast clouds', 'icon': '04d'}], 'clouds': {'all': 86}, 'wind': {'speed': 0.92, 'deg': 351, 'gust': 1.39}, 'visibility': 10000, 'pop': 0, 'sys': {'pod': 'd'}, 'dt_txt': '2023-11-26 12:00:00'}, {'dt': 1701010800, 'main': {'temp': 266.33, 'feels_like': 263.37, 'temp_min': 266.33, 'temp_max': 266.33, 'pressure': 1019, 'sea_level': 1019, 'grnd_level': 999, 'humidity': 87, 'temp_kf': 0}, 'weather': [{'id': 803, 'main': 'Clouds', 'description': 'broken clouds', 'icon': '04n'}], 'clouds': {'all': 60}, 'wind': {'speed': 1.63, 'deg': 325, 'gust': 1.38}, 'visibility': 10000, 'pop': 0, 'sys': {'pod': 'n'}, 'dt_txt': '2023-11-26 15:00:00'}, {'dt': 1701021600, 'main': {'temp': 266.04, 'feels_like': 262.86, 'temp_min': 266.04, 'temp_max': 266.04, 'pressure': 1021, 'sea_level': 1021, 'grnd_level': 1001, 'humidity': 86, 'temp_kf': 0}, 'weather': [{'id': 803, 'main': 'Clouds', 'description': 'broken clouds', 'icon': '04n'}], 'clouds': {'all': 71}, 'wind': {'speed': 1.73, 'deg': 325, 'gust': 1.54}, 'visibility': 10000, 'pop': 0, 'sys': {'pod': 'n'}, 'dt_txt': '2023-11-26 18:00:00'}, {'dt': 1701032400, 'main': {'temp': 264.69, 'feels_like': 260.97, 'temp_min': 264.69, 'temp_max': 264.69, 'pressure': 1022, 'sea_level': 1022, 'grnd_level': 1003, 'humidity': 86, 'temp_kf': 0}, 'weather': [{'id': 802, 'main': 'Clouds', 'description': 'scattered clouds', 'icon': '03n'}], 'clouds': {'all': 34}, 'wind': {'speed': 1.92, 'deg': 321, 'gust': 2.25}, 'visibility': 10000, 'pop': 0, 'sys': {'pod': 'n'}, 'dt_txt': '2023-11-26 21:00:00'}, {'dt': 1701043200, 'main': {'temp': 263.95, 'feels_like': 260.01, 'temp_min': 263.95, 'temp_max': 263.95, 'pressure': 1024, 'sea_level': 1024, 'grnd_level': 1004, 'humidity': 86, 'temp_kf': 0}, 'weather': [{'id': 802, 'main': 'Clouds', 'description': 'scattered clouds', 'icon': '03n'}], 'clouds': {'all': 26}, 'wind': {'speed': 1.98, 'deg': 322, 'gust': 2.37}, 'visibility': 10000, 'pop': 0, 'sys': {'pod': 'n'}, 'dt_txt': '2023-11-27 00:00:00'}, {'dt': 1701054000, 'main': {'temp': 263.53, 'feels_like': 259.61, 'temp_min': 263.53, 'temp_max': 263.53, 'pressure': 1025, 'sea_level': 1025, 'grnd_level': 1005, 'humidity': 87, 'temp_kf': 0}, 'weather': [{'id': 801, 'main': 'Clouds', 'description': 'few clouds', 'icon': '02n'}], 'clouds': {'all': 16}, 'wind': {'speed': 1.93, 'deg': 322, 'gust': 2.31}, 'visibility': 10000, 'pop': 0, 'sys': {'pod': 'n'}, 'dt_txt': '2023-11-27 03:00:00'}, {'dt': 1701064800, 'main': {'temp': 263.09, 'feels_like': 259.1, 'temp_min': 263.09, 'temp_max': 263.09, 'pressure': 1026, 'sea_level': 1026, 'grnd_level': 1006, 'humidity': 87, 'temp_kf': 0}, 'weather': [{'id': 801, 'main': 'Clouds', 'description': 'few clouds', 'icon': '02n'}], 'clouds': {'all': 19}, 'wind': {'speed': 1.93, 'deg': 326, 'gust': 2.34}, 'visibility': 10000, 'pop': 0, 'sys': {'pod': 'n'}, 'dt_txt': '2023-11-27 06:00:00'}, {'dt': 1701075600, 'main': {'temp': 263.84, 'feels_like': 260.05, 'temp_min': 263.84, 'temp_max': 263.84, 'pressure': 1027, 'sea_level': 1027, 'grnd_level': 1007, 'humidity': 85, 'temp_kf': 0}, 'weather': [{'id': 801, 'main': 'Clouds', 'description': 'few clouds', 'icon': '02d'}], 'clouds': {'all': 19}, 'wind': {'speed': 1.88, 'deg': 333, 'gust': 2.99}, 'visibility': 10000, 'pop': 0, 'sys': {'pod': 'd'}, 'dt_txt': '2023-11-27 09:00:00'}, {'dt': 1701086400, 'main': {'temp': 266.87, 'feels_like': 264.05, 'temp_min': 266.87, 'temp_max': 266.87, 'pressure': 1027, 'sea_level': 1027, 'grnd_level': 1007, 'humidity': 83, 'temp_kf': 0}, 'weather': [{'id': 801, 'main': 'Clouds', 'description': 'few clouds', 'icon': '02d'}], 'clouds': {'all': 15}, 'wind': {'speed': 1.6, 'deg': 352, 'gust': 2.9}, 'visibility': 10000, 'pop': 0, 'sys': {'pod': 'd'}, 'dt_txt': '2023-11-27 12:00:00'}, {'dt': 1701097200, 'main': {'temp': 263.96, 'feels_like': 259.86, 'temp_min': 263.96, 'temp_max': 263.96, 'pressure': 1028, 'sea_level': 1028, 'grnd_level': 1009, 'humidity': 88, 'temp_kf': 0}, 'weather': [{'id': 802, 'main': 'Clouds', 'description': 'scattered clouds', 'icon': '03n'}], 'clouds': {'all': 25}, 'wind': {'speed': 2.08, 'deg': 330, 'gust': 3.04}, 'visibility': 10000, 'pop': 0, 'sys': {'pod': 'n'}, 'dt_txt': '2023-11-27 15:00:00'}, {'dt': 1701108000, 'main': {'temp': 264.89, 'feels_like': 260.78, 'temp_min': 264.89, 'temp_max': 264.89, 'pressure': 1029, 'sea_level': 1029, 'grnd_level': 1009, 'humidity': 88, 'temp_kf': 0}, 'weather': [{'id': 803, 'main': 'Clouds', 'description': 'broken clouds', 'icon': '04n'}], 'clouds': {'all': 56}, 'wind': {'speed': 2.19, 'deg': 331, 'gust': 3.82}, 'visibility': 10000, 'pop': 0, 'sys': {'pod': 'n'}, 'dt_txt': '2023-11-27 18:00:00'}], 'city': {'id': 3144113, 'name': 'Noresund', 'coord': {'lat': 60.1803, 'lon': 9.6231}, 'country': 'NO', 'population': 1000, 'timezone': 3600, 'sunrise': 1700638612, 'sunset': 1700663911}}\n"
     ]
    }
   ],
   "source": [
    "responseF = requests.get(urlF).json()\n",
    "print(responseF)"
   ]
  },
  {
   "cell_type": "code",
   "execution_count": 11,
   "metadata": {
    "slideshow": {
     "slide_type": "slide"
    }
   },
   "outputs": [],
   "source": [
    "# Write JSON to file for viewing\n",
    "with open('downloads/forecast.json', 'w') as f:\n",
    "    json.dump(responseF, f, indent=4)"
   ]
  },
  {
   "cell_type": "markdown",
   "metadata": {
    "slideshow": {
     "slide_type": "slide"
    }
   },
   "source": [
    "### When and what?\n",
    "Check contents and time stamps"
   ]
  },
  {
   "cell_type": "code",
   "execution_count": 12,
   "metadata": {
    "slideshow": {
     "slide_type": "-"
    }
   },
   "outputs": [
    {
     "data": {
      "text/plain": [
       "dict_keys(['cod', 'message', 'cnt', 'list', 'city'])"
      ]
     },
     "execution_count": 12,
     "metadata": {},
     "output_type": "execute_result"
    }
   ],
   "source": [
    "# Content of responseF\n",
    "responseF.keys()"
   ]
  },
  {
   "cell_type": "code",
   "execution_count": 13,
   "metadata": {
    "slideshow": {
     "slide_type": "fragment"
    }
   },
   "outputs": [
    {
     "name": "stdout",
     "output_type": "stream",
     "text": [
      "40\n"
     ]
    }
   ],
   "source": [
    "# Number of forecasts\n",
    "print(len(responseF[\"list\"]))"
   ]
  },
  {
   "cell_type": "code",
   "execution_count": 14,
   "metadata": {
    "scrolled": true,
    "slideshow": {
     "slide_type": "slide"
    }
   },
   "outputs": [
    {
     "name": "stdout",
     "output_type": "stream",
     "text": [
      "2023-11-22 21:00:00\n",
      "2023-11-23 00:00:00\n",
      "2023-11-23 03:00:00\n",
      "2023-11-23 06:00:00\n",
      "2023-11-23 09:00:00\n",
      "2023-11-23 12:00:00\n",
      "2023-11-23 15:00:00\n",
      "2023-11-23 18:00:00\n",
      "2023-11-23 21:00:00\n",
      "2023-11-24 00:00:00\n",
      "2023-11-24 03:00:00\n",
      "2023-11-24 06:00:00\n",
      "2023-11-24 09:00:00\n",
      "2023-11-24 12:00:00\n",
      "2023-11-24 15:00:00\n",
      "2023-11-24 18:00:00\n",
      "2023-11-24 21:00:00\n",
      "2023-11-25 00:00:00\n",
      "2023-11-25 03:00:00\n",
      "2023-11-25 06:00:00\n",
      "2023-11-25 09:00:00\n",
      "2023-11-25 12:00:00\n",
      "2023-11-25 15:00:00\n",
      "2023-11-25 18:00:00\n",
      "2023-11-25 21:00:00\n",
      "2023-11-26 00:00:00\n",
      "2023-11-26 03:00:00\n",
      "2023-11-26 06:00:00\n",
      "2023-11-26 09:00:00\n",
      "2023-11-26 12:00:00\n",
      "2023-11-26 15:00:00\n",
      "2023-11-26 18:00:00\n",
      "2023-11-26 21:00:00\n",
      "2023-11-27 00:00:00\n",
      "2023-11-27 03:00:00\n",
      "2023-11-27 06:00:00\n",
      "2023-11-27 09:00:00\n",
      "2023-11-27 12:00:00\n",
      "2023-11-27 15:00:00\n",
      "2023-11-27 18:00:00\n"
     ]
    }
   ],
   "source": [
    "# Print forecast times\n",
    "for forecast in responseF[\"list\"]:\n",
    "    print(forecast[\"dt_txt\"])"
   ]
  },
  {
   "cell_type": "markdown",
   "metadata": {
    "slideshow": {
     "slide_type": "slide"
    }
   },
   "source": [
    "## Make plots of omnipresent measurements and events\n",
    "We will later look at missing data, data only sporadically appearing and so on."
   ]
  },
  {
   "cell_type": "code",
   "execution_count": 15,
   "metadata": {
    "slideshow": {
     "slide_type": "-"
    }
   },
   "outputs": [],
   "source": [
    "# Air pressure per period\n",
    "pressures = []\n",
    "timestamps = []\n",
    "for forecast in responseF[\"list\"]:\n",
    "    pressures.append(forecast[\"main\"][\"pressure\"])\n",
    "    timestamps.append(dt.datetime.fromtimestamp(forecast[\"dt\"]))"
   ]
  },
  {
   "cell_type": "code",
   "execution_count": 16,
   "metadata": {
    "slideshow": {
     "slide_type": "slide"
    }
   },
   "outputs": [
    {
     "data": {
      "image/png": "[encoded data removed]",
      "text/plain": [
       "<Figure size 640x480 with 1 Axes>"
      ]
     },
     "metadata": {},
     "output_type": "display_data"
    }
   ],
   "source": [
    "import matplotlib.pyplot as plt\n",
    "plt.bar(timestamps, pressures)\n",
    "plt.xticks(rotation=45)\n",
    "plt.ylim(950, 1050)\n",
    "plt.grid()\n",
    "plt.ylabel(\"Air pressure (hPa)\")\n",
    "plt.title(f\"Forecasted air pressure in {CITY}\")\n",
    "plt.show()"
   ]
  },
  {
   "cell_type": "markdown",
   "metadata": {
    "slideshow": {
     "slide_type": "slide"
    }
   },
   "source": [
    "## Exercise\n",
    "- Make a new forecast request for your own hometown. Call your response something else than responseF.\n",
    "- If available, plot the humidity like we did with air pressure."
   ]
  },
  {
   "cell_type": "markdown",
   "metadata": {
    "slideshow": {
     "slide_type": "slide"
    }
   },
   "source": [
    "### Precipitation\n",
    "- ... comes in two main flavours: rain and snow.\n",
    "- We need to check which is present and set to zero if it is abscent."
   ]
  },
  {
   "cell_type": "code",
   "execution_count": 17,
   "metadata": {
    "slideshow": {
     "slide_type": "-"
    }
   },
   "outputs": [],
   "source": [
    "rain = []\n",
    "snow = []\n",
    "for forecast in responseF[\"list\"]:\n",
    "    try: # Check if rain is present in forecast\n",
    "        rain.append(forecast[\"rain\"][\"3h\"])\n",
    "    except KeyError:\n",
    "        rain.append(0)\n",
    "    try: # Check if snow is present in forecast\n",
    "        snow.append(forecast[\"snow\"][\"3h\"])\n",
    "    except KeyError:\n",
    "        snow.append(0)"
   ]
  },
  {
   "cell_type": "code",
   "execution_count": 18,
   "metadata": {
    "slideshow": {
     "slide_type": "slide"
    }
   },
   "outputs": [
    {
     "data": {
      "image/png": "[encoded data removed]",
      "text/plain": [
       "<Figure size 640x480 with 1 Axes>"
      ]
     },
     "metadata": {},
     "output_type": "display_data"
    }
   ],
   "source": [
    "# Stacked bar chart with rain and snow\n",
    "plt.bar(timestamps, rain, label=\"Rain\")\n",
    "plt.bar(timestamps, snow, label=\"Snow\")\n",
    "plt.xticks(rotation=45)\n",
    "plt.grid()\n",
    "plt.ylabel(\"Precipitation (mm)\")\n",
    "plt.title(f\"Forecasted precipitation in {CITY}\")\n",
    "plt.legend()\n",
    "plt.show()\n"
   ]
  },
  {
   "cell_type": "markdown",
   "metadata": {
    "slideshow": {
     "slide_type": "slide"
    }
   },
   "source": [
    "```{seealso} Resources\n",
    ":class: tip\n",
    "- [YouTube: NeuralNine's video (15m:32s)](https://www.youtube.com/watch?v=9P5MY_2i7K8)\n",
    "```"
   ]
  }
 ],
 "metadata": {
  "celltoolbar": "Slideshow",
  "kernelspec": {
   "display_name": "Python 3 (ipykernel)",
   "language": "python",
   "name": "python3"
  },
  "language_info": {
   "codemirror_mode": {
    "name": "ipython",
    "version": 3
   },
   "file_extension": ".py",
   "mimetype": "text/x-python",
   "name": "python",
   "nbconvert_exporter": "python",
   "pygments_lexer": "ipython3",
   "version": "3.11.6"
  }
 },
 "nbformat": 4,
 "nbformat_minor": 2
}