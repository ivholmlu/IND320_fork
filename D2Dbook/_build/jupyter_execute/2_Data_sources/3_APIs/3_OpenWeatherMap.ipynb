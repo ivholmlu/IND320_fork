{
 "cells": [
  {
   "cell_type": "markdown",
   "metadata": {
    "slideshow": {
     "slide_type": "slide"
    }
   },
   "source": [
    "# Demonstration of API using OpenWeatherMap.org\n",
    "This demonstration is heavily inspired by [NeuralNine's video](https://www.youtube.com/watch?v=9P5MY_2i7K8).  \n",
    "You need a free account [from here](https://openweathermap.org/api).  \n",
    "The VS Code extension _JSON viewer_ is recommended for viewing downloaded JSON content.  \n",
    "  - Set your maximum API calls to 1000 per day to make sure you are under the limit for billing. \n",
    "  - To run the examples, download your API key, save it in the right folder (see below) in a file called _api\\_key\\_OpenWeather_, containing only the key (no spaces or \"enters\")."
   ]
  },
  {
   "cell_type": "code",
   "execution_count": 1,
   "metadata": {
    "slideshow": {
     "slide_type": "fragment"
    }
   },
   "outputs": [],
   "source": [
    "# Imports\n",
    "import datetime as dt\n",
    "import requests\n",
    "import json"
   ]
  },
  {
   "cell_type": "markdown",
   "metadata": {
    "slideshow": {
     "slide_type": "slide"
    }
   },
   "source": [
    "## Current weather\n",
    "### Common definitions to use for all requests"
   ]
  },
  {
   "cell_type": "code",
   "execution_count": 2,
   "metadata": {
    "slideshow": {
     "slide_type": "-"
    }
   },
   "outputs": [],
   "source": [
    "BASE_URL = \"http://api.openweathermap.org/data/2.5/weather?\"\n",
    "API_KEY = open('../../../No_sync/api_key_OpenWeather','r').read()\n",
    "CITY = \"Ski\"\n",
    "\n",
    "url = BASE_URL + \"q=\" + CITY + \"&appid=\" + API_KEY"
   ]
  },
  {
   "cell_type": "markdown",
   "metadata": {
    "slideshow": {
     "slide_type": "slide"
    }
   },
   "source": [
    "## Request current weather in chosen city"
   ]
  },
  {
   "cell_type": "code",
   "execution_count": 3,
   "metadata": {
    "slideshow": {
     "slide_type": "fragment"
    }
   },
   "outputs": [
    {
     "name": "stdout",
     "output_type": "stream",
     "text": [
      "{'coord': {'lon': 10.8358, 'lat': 59.7195}, 'weather': [{'id': 801, 'main': 'Clouds', 'description': 'few clouds', 'icon': '02d'}], 'base': 'stations', 'main': {'temp': 271.16, 'feels_like': 268.36, 'temp_min': 270.81, 'temp_max': 272.64, 'pressure': 1010, 'humidity': 95, 'sea_level': 1010, 'grnd_level': 993}, 'visibility': 10000, 'wind': {'speed': 2.01, 'deg': 16, 'gust': 3.42}, 'clouds': {'all': 13}, 'dt': 1699865720, 'sys': {'type': 2, 'id': 2006772, 'country': 'NO', 'sunrise': 1699859208, 'sunset': 1699887307}, 'timezone': 3600, 'id': 3139081, 'name': 'Ski', 'cod': 200}\n"
     ]
    }
   ],
   "source": [
    "response = requests.get(url).json()\n",
    "print(response)"
   ]
  },
  {
   "cell_type": "code",
   "execution_count": 4,
   "metadata": {
    "slideshow": {
     "slide_type": "fragment"
    }
   },
   "outputs": [],
   "source": [
    "# Write JSON to file for viewing\n",
    "with open('downloads/weather.json', 'w') as f:\n",
    "    json.dump(response, f, indent=4)"
   ]
  },
  {
   "cell_type": "markdown",
   "metadata": {
    "slideshow": {
     "slide_type": "slide"
    }
   },
   "source": [
    "## Conversion functions\n",
    "Changing scales can make results more interpretable"
   ]
  },
  {
   "cell_type": "code",
   "execution_count": 5,
   "metadata": {
    "slideshow": {
     "slide_type": "-"
    }
   },
   "outputs": [],
   "source": [
    "# Kelvin to Celsius\n",
    "def kelvin_to_celsius(temp):\n",
    "    return temp - 273.15\n",
    "\n",
    "# Meters per second to knots\n",
    "def mps_to_knots(speed):\n",
    "    return speed * 1.943844"
   ]
  },
  {
   "cell_type": "markdown",
   "metadata": {
    "slideshow": {
     "slide_type": "slide"
    }
   },
   "source": [
    "## Print some weather properties"
   ]
  },
  {
   "cell_type": "code",
   "execution_count": 6,
   "metadata": {
    "slideshow": {
     "slide_type": "-"
    }
   },
   "outputs": [
    {
     "name": "stdout",
     "output_type": "stream",
     "text": [
      "The current temperature in Ski is -2.0°C\n"
     ]
    }
   ],
   "source": [
    "# Current temperature\n",
    "temp_kelvin = response['main']['temp']\n",
    "temp_celsius = kelvin_to_celsius(temp_kelvin)\n",
    "print(f\"The current temperature in {CITY} is {temp_celsius:.1f}°C\")"
   ]
  },
  {
   "cell_type": "code",
   "execution_count": 7,
   "metadata": {
    "slideshow": {
     "slide_type": "slide"
    }
   },
   "outputs": [
    {
     "name": "stdout",
     "output_type": "stream",
     "text": [
      "Sunrise today is at 08:06 and sunset is at 15:55\n"
     ]
    }
   ],
   "source": [
    "# Sunrise and sunset today in local time\n",
    "sunrise = dt.datetime.fromtimestamp(response['sys']['sunrise'])\n",
    "sunset = dt.datetime.fromtimestamp(response['sys']['sunset'])\n",
    "print(f\"Sunrise today is at {sunrise:%H:%M} and sunset is at {sunset:%H:%M}\")"
   ]
  },
  {
   "cell_type": "code",
   "execution_count": 8,
   "metadata": {
    "slideshow": {
     "slide_type": "fragment"
    }
   },
   "outputs": [
    {
     "name": "stdout",
     "output_type": "stream",
     "text": [
      "Wind today is from 16° at 3.9 knots\n"
     ]
    }
   ],
   "source": [
    "# Wind direction and speed\n",
    "wind_knots = mps_to_knots(response['wind']['speed'])\n",
    "print(f\"Wind today is from {response['wind']['deg']}° at {round(wind_knots,1)} knots\")"
   ]
  },
  {
   "cell_type": "markdown",
   "metadata": {
    "slideshow": {
     "slide_type": "slide"
    }
   },
   "source": [
    "## Forecasted weather\n",
    "### Common definitions to use for all requests"
   ]
  },
  {
   "cell_type": "code",
   "execution_count": 9,
   "metadata": {
    "slideshow": {
     "slide_type": "-"
    }
   },
   "outputs": [],
   "source": [
    "BASE_URL = \"http://api.openweathermap.org/data/2.5/forecast?\"\n",
    "CITY = \"Noresund\"\n",
    "\n",
    "urlF = BASE_URL + \"q=\" + CITY + \"&appid=\" + API_KEY"
   ]
  },
  {
   "cell_type": "markdown",
   "metadata": {
    "slideshow": {
     "slide_type": "slide"
    }
   },
   "source": [
    "## Request forecasted weather in chosen city"
   ]
  },
  {
   "cell_type": "code",
   "execution_count": 10,
   "metadata": {
    "slideshow": {
     "slide_type": "-"
    }
   },
   "outputs": [
    {
     "name": "stdout",
     "output_type": "stream",
     "text": [
      "{'cod': '200', 'message': 0, 'cnt': 40, 'list': [{'dt': 1699866000, 'main': {'temp': 269.32, 'feels_like': 269.32, 'temp_min': 267.39, 'temp_max': 269.32, 'pressure': 1011, 'sea_level': 1011, 'grnd_level': 992, 'humidity': 94, 'temp_kf': 1.93}, 'weather': [{'id': 802, 'main': 'Clouds', 'description': 'scattered clouds', 'icon': '03d'}], 'clouds': {'all': 46}, 'wind': {'speed': 1.26, 'deg': 345, 'gust': 1.76}, 'visibility': 10000, 'pop': 0, 'sys': {'pod': 'd'}, 'dt_txt': '2023-11-13 09:00:00'}, {'dt': 1699876800, 'main': {'temp': 269.79, 'feels_like': 269.79, 'temp_min': 269.79, 'temp_max': 270.74, 'pressure': 1011, 'sea_level': 1011, 'grnd_level': 991, 'humidity': 93, 'temp_kf': -0.95}, 'weather': [{'id': 802, 'main': 'Clouds', 'description': 'scattered clouds', 'icon': '03d'}], 'clouds': {'all': 42}, 'wind': {'speed': 0.49, 'deg': 65, 'gust': 0.66}, 'visibility': 10000, 'pop': 0, 'sys': {'pod': 'd'}, 'dt_txt': '2023-11-13 12:00:00'}, {'dt': 1699887600, 'main': {'temp': 267.09, 'feels_like': 264.37, 'temp_min': 265.97, 'temp_max': 267.09, 'pressure': 1010, 'sea_level': 1010, 'grnd_level': 990, 'humidity': 97, 'temp_kf': 1.12}, 'weather': [{'id': 802, 'main': 'Clouds', 'description': 'scattered clouds', 'icon': '03n'}], 'clouds': {'all': 42}, 'wind': {'speed': 1.56, 'deg': 345, 'gust': 1.31}, 'visibility': 7053, 'pop': 0, 'sys': {'pod': 'n'}, 'dt_txt': '2023-11-13 15:00:00'}, {'dt': 1699898400, 'main': {'temp': 264.76, 'feels_like': 261.29, 'temp_min': 264.76, 'temp_max': 264.76, 'pressure': 1009, 'sea_level': 1009, 'grnd_level': 989, 'humidity': 97, 'temp_kf': 0}, 'weather': [{'id': 803, 'main': 'Clouds', 'description': 'broken clouds', 'icon': '04n'}], 'clouds': {'all': 57}, 'wind': {'speed': 1.78, 'deg': 327, 'gust': 1.5}, 'visibility': 6573, 'pop': 0, 'sys': {'pod': 'n'}, 'dt_txt': '2023-11-13 18:00:00'}, {'dt': 1699909200, 'main': {'temp': 266.24, 'feels_like': 263.2, 'temp_min': 266.24, 'temp_max': 266.24, 'pressure': 1007, 'sea_level': 1007, 'grnd_level': 988, 'humidity': 97, 'temp_kf': 0}, 'weather': [{'id': 804, 'main': 'Clouds', 'description': 'overcast clouds', 'icon': '04n'}], 'clouds': {'all': 95}, 'wind': {'speed': 1.67, 'deg': 359, 'gust': 2.09}, 'visibility': 899, 'pop': 0, 'sys': {'pod': 'n'}, 'dt_txt': '2023-11-13 21:00:00'}, {'dt': 1699920000, 'main': {'temp': 266.73, 'feels_like': 263.52, 'temp_min': 266.73, 'temp_max': 266.73, 'pressure': 1007, 'sea_level': 1007, 'grnd_level': 988, 'humidity': 97, 'temp_kf': 0}, 'weather': [{'id': 600, 'main': 'Snow', 'description': 'light snow', 'icon': '13n'}], 'clouds': {'all': 98}, 'wind': {'speed': 1.81, 'deg': 4, 'gust': 2.85}, 'visibility': 1255, 'pop': 0.2, 'snow': {'3h': 0.14}, 'sys': {'pod': 'n'}, 'dt_txt': '2023-11-14 00:00:00'}, {'dt': 1699930800, 'main': {'temp': 266.64, 'feels_like': 263.02, 'temp_min': 266.64, 'temp_max': 266.64, 'pressure': 1006, 'sea_level': 1006, 'grnd_level': 987, 'humidity': 96, 'temp_kf': 0}, 'weather': [{'id': 600, 'main': 'Snow', 'description': 'light snow', 'icon': '13n'}], 'clouds': {'all': 100}, 'wind': {'speed': 2.06, 'deg': 352, 'gust': 3.4}, 'visibility': 3826, 'pop': 0.32, 'snow': {'3h': 0.12}, 'sys': {'pod': 'n'}, 'dt_txt': '2023-11-14 03:00:00'}, {'dt': 1699941600, 'main': {'temp': 266.73, 'feels_like': 263.13, 'temp_min': 266.73, 'temp_max': 266.73, 'pressure': 1006, 'sea_level': 1006, 'grnd_level': 987, 'humidity': 96, 'temp_kf': 0}, 'weather': [{'id': 600, 'main': 'Snow', 'description': 'light snow', 'icon': '13n'}], 'clouds': {'all': 100}, 'wind': {'speed': 2.06, 'deg': 346, 'gust': 3.34}, 'visibility': 3128, 'pop': 0.2, 'snow': {'3h': 0.11}, 'sys': {'pod': 'n'}, 'dt_txt': '2023-11-14 06:00:00'}, {'dt': 1699952400, 'main': {'temp': 269.26, 'feels_like': 265.98, 'temp_min': 269.26, 'temp_max': 269.26, 'pressure': 1007, 'sea_level': 1007, 'grnd_level': 987, 'humidity': 94, 'temp_kf': 0}, 'weather': [{'id': 600, 'main': 'Snow', 'description': 'light snow', 'icon': '13d'}], 'clouds': {'all': 100}, 'wind': {'speed': 2.13, 'deg': 357, 'gust': 3.93}, 'visibility': 1016, 'pop': 0.61, 'snow': {'3h': 0.18}, 'sys': {'pod': 'd'}, 'dt_txt': '2023-11-14 09:00:00'}, {'dt': 1699963200, 'main': {'temp': 271.16, 'feels_like': 268.26, 'temp_min': 271.16, 'temp_max': 271.16, 'pressure': 1007, 'sea_level': 1007, 'grnd_level': 988, 'humidity': 91, 'temp_kf': 0}, 'weather': [{'id': 600, 'main': 'Snow', 'description': 'light snow', 'icon': '13d'}], 'clouds': {'all': 100}, 'wind': {'speed': 2.09, 'deg': 11, 'gust': 4.1}, 'visibility': 1895, 'pop': 0.53, 'snow': {'3h': 0.32}, 'sys': {'pod': 'd'}, 'dt_txt': '2023-11-14 12:00:00'}, {'dt': 1699974000, 'main': {'temp': 269.76, 'feels_like': 266.98, 'temp_min': 269.76, 'temp_max': 269.76, 'pressure': 1007, 'sea_level': 1007, 'grnd_level': 988, 'humidity': 96, 'temp_kf': 0}, 'weather': [{'id': 600, 'main': 'Snow', 'description': 'light snow', 'icon': '13n'}], 'clouds': {'all': 100}, 'wind': {'speed': 1.84, 'deg': 2, 'gust': 3.4}, 'visibility': 1886, 'pop': 0.36, 'snow': {'3h': 0.16}, 'sys': {'pod': 'n'}, 'dt_txt': '2023-11-14 15:00:00'}, {'dt': 1699984800, 'main': {'temp': 268.94, 'feels_like': 266.03, 'temp_min': 268.94, 'temp_max': 268.94, 'pressure': 1009, 'sea_level': 1009, 'grnd_level': 990, 'humidity': 96, 'temp_kf': 0}, 'weather': [{'id': 600, 'main': 'Snow', 'description': 'light snow', 'icon': '13n'}], 'clouds': {'all': 100}, 'wind': {'speed': 1.84, 'deg': 342, 'gust': 3.32}, 'visibility': 3764, 'pop': 0.32, 'snow': {'3h': 0.14}, 'sys': {'pod': 'n'}, 'dt_txt': '2023-11-14 18:00:00'}, {'dt': 1699995600, 'main': {'temp': 267.54, 'feels_like': 264.25, 'temp_min': 267.54, 'temp_max': 267.54, 'pressure': 1010, 'sea_level': 1010, 'grnd_level': 991, 'humidity': 95, 'temp_kf': 0}, 'weather': [{'id': 804, 'main': 'Clouds', 'description': 'overcast clouds', 'icon': '04n'}], 'clouds': {'all': 100}, 'wind': {'speed': 1.94, 'deg': 335, 'gust': 3.24}, 'visibility': 10000, 'pop': 0, 'sys': {'pod': 'n'}, 'dt_txt': '2023-11-14 21:00:00'}, {'dt': 1700006400, 'main': {'temp': 265.44, 'feels_like': 261.44, 'temp_min': 265.44, 'temp_max': 265.44, 'pressure': 1012, 'sea_level': 1012, 'grnd_level': 992, 'humidity': 94, 'temp_kf': 0}, 'weather': [{'id': 804, 'main': 'Clouds', 'description': 'overcast clouds', 'icon': '04n'}], 'clouds': {'all': 100}, 'wind': {'speed': 2.18, 'deg': 327, 'gust': 3.46}, 'visibility': 10000, 'pop': 0, 'sys': {'pod': 'n'}, 'dt_txt': '2023-11-15 00:00:00'}, {'dt': 1700017200, 'main': {'temp': 264.34, 'feels_like': 260.35, 'temp_min': 264.34, 'temp_max': 264.34, 'pressure': 1013, 'sea_level': 1013, 'grnd_level': 993, 'humidity': 94, 'temp_kf': 0}, 'weather': [{'id': 804, 'main': 'Clouds', 'description': 'overcast clouds', 'icon': '04n'}], 'clouds': {'all': 100}, 'wind': {'speed': 2.05, 'deg': 324, 'gust': 3.03}, 'visibility': 10000, 'pop': 0, 'sys': {'pod': 'n'}, 'dt_txt': '2023-11-15 03:00:00'}, {'dt': 1700028000, 'main': {'temp': 264.08, 'feels_like': 260.38, 'temp_min': 264.08, 'temp_max': 264.08, 'pressure': 1014, 'sea_level': 1014, 'grnd_level': 994, 'humidity': 93, 'temp_kf': 0}, 'weather': [{'id': 804, 'main': 'Clouds', 'description': 'overcast clouds', 'icon': '04n'}], 'clouds': {'all': 100}, 'wind': {'speed': 1.85, 'deg': 324, 'gust': 2.28}, 'visibility': 10000, 'pop': 0, 'sys': {'pod': 'n'}, 'dt_txt': '2023-11-15 06:00:00'}, {'dt': 1700038800, 'main': {'temp': 265.77, 'feels_like': 263.27, 'temp_min': 265.77, 'temp_max': 265.77, 'pressure': 1015, 'sea_level': 1015, 'grnd_level': 996, 'humidity': 89, 'temp_kf': 0}, 'weather': [{'id': 804, 'main': 'Clouds', 'description': 'overcast clouds', 'icon': '04d'}], 'clouds': {'all': 100}, 'wind': {'speed': 1.36, 'deg': 337, 'gust': 1.89}, 'visibility': 10000, 'pop': 0, 'sys': {'pod': 'd'}, 'dt_txt': '2023-11-15 09:00:00'}, {'dt': 1700049600, 'main': {'temp': 268.67, 'feels_like': 268.67, 'temp_min': 268.67, 'temp_max': 268.67, 'pressure': 1015, 'sea_level': 1015, 'grnd_level': 996, 'humidity': 85, 'temp_kf': 0}, 'weather': [{'id': 804, 'main': 'Clouds', 'description': 'overcast clouds', 'icon': '04d'}], 'clouds': {'all': 100}, 'wind': {'speed': 0.63, 'deg': 7, 'gust': 1.15}, 'visibility': 10000, 'pop': 0, 'sys': {'pod': 'd'}, 'dt_txt': '2023-11-15 12:00:00'}, {'dt': 1700060400, 'main': {'temp': 264.64, 'feels_like': 261.88, 'temp_min': 264.64, 'temp_max': 264.64, 'pressure': 1017, 'sea_level': 1017, 'grnd_level': 997, 'humidity': 96, 'temp_kf': 0}, 'weather': [{'id': 804, 'main': 'Clouds', 'description': 'overcast clouds', 'icon': '04n'}], 'clouds': {'all': 100}, 'wind': {'speed': 1.41, 'deg': 323, 'gust': 1.17}, 'visibility': 10000, 'pop': 0, 'sys': {'pod': 'n'}, 'dt_txt': '2023-11-15 15:00:00'}, {'dt': 1700071200, 'main': {'temp': 262.81, 'feels_like': 259.06, 'temp_min': 262.81, 'temp_max': 262.81, 'pressure': 1018, 'sea_level': 1018, 'grnd_level': 998, 'humidity': 95, 'temp_kf': 0}, 'weather': [{'id': 804, 'main': 'Clouds', 'description': 'overcast clouds', 'icon': '04n'}], 'clouds': {'all': 97}, 'wind': {'speed': 1.77, 'deg': 312, 'gust': 1.44}, 'visibility': 10000, 'pop': 0, 'sys': {'pod': 'n'}, 'dt_txt': '2023-11-15 18:00:00'}, {'dt': 1700082000, 'main': {'temp': 262.19, 'feels_like': 258.4, 'temp_min': 262.19, 'temp_max': 262.19, 'pressure': 1019, 'sea_level': 1019, 'grnd_level': 999, 'humidity': 95, 'temp_kf': 0}, 'weather': [{'id': 803, 'main': 'Clouds', 'description': 'broken clouds', 'icon': '04n'}], 'clouds': {'all': 74}, 'wind': {'speed': 1.74, 'deg': 315, 'gust': 1.39}, 'visibility': 10000, 'pop': 0, 'sys': {'pod': 'n'}, 'dt_txt': '2023-11-15 21:00:00'}, {'dt': 1700092800, 'main': {'temp': 261.8, 'feels_like': 258.05, 'temp_min': 261.8, 'temp_max': 261.8, 'pressure': 1020, 'sea_level': 1020, 'grnd_level': 1000, 'humidity': 95, 'temp_kf': 0}, 'weather': [{'id': 803, 'main': 'Clouds', 'description': 'broken clouds', 'icon': '04n'}], 'clouds': {'all': 67}, 'wind': {'speed': 1.69, 'deg': 311, 'gust': 1.37}, 'visibility': 10000, 'pop': 0, 'sys': {'pod': 'n'}, 'dt_txt': '2023-11-16 00:00:00'}, {'dt': 1700103600, 'main': {'temp': 261.91, 'feels_like': 258.3, 'temp_min': 261.91, 'temp_max': 261.91, 'pressure': 1020, 'sea_level': 1020, 'grnd_level': 1000, 'humidity': 94, 'temp_kf': 0}, 'weather': [{'id': 803, 'main': 'Clouds', 'description': 'broken clouds', 'icon': '04n'}], 'clouds': {'all': 74}, 'wind': {'speed': 1.63, 'deg': 310, 'gust': 1.28}, 'visibility': 10000, 'pop': 0, 'sys': {'pod': 'n'}, 'dt_txt': '2023-11-16 03:00:00'}, {'dt': 1700114400, 'main': {'temp': 263.78, 'feels_like': 263.78, 'temp_min': 263.78, 'temp_max': 263.78, 'pressure': 1020, 'sea_level': 1020, 'grnd_level': 1001, 'humidity': 93, 'temp_kf': 0}, 'weather': [{'id': 803, 'main': 'Clouds', 'description': 'broken clouds', 'icon': '04n'}], 'clouds': {'all': 82}, 'wind': {'speed': 1.16, 'deg': 318, 'gust': 1.03}, 'visibility': 10000, 'pop': 0, 'sys': {'pod': 'n'}, 'dt_txt': '2023-11-16 06:00:00'}, {'dt': 1700125200, 'main': {'temp': 266.06, 'feels_like': 266.06, 'temp_min': 266.06, 'temp_max': 266.06, 'pressure': 1021, 'sea_level': 1021, 'grnd_level': 1001, 'humidity': 89, 'temp_kf': 0}, 'weather': [{'id': 804, 'main': 'Clouds', 'description': 'overcast clouds', 'icon': '04d'}], 'clouds': {'all': 100}, 'wind': {'speed': 0.44, 'deg': 316, 'gust': 0.47}, 'visibility': 10000, 'pop': 0, 'sys': {'pod': 'd'}, 'dt_txt': '2023-11-16 09:00:00'}, {'dt': 1700136000, 'main': {'temp': 268.56, 'feels_like': 268.56, 'temp_min': 268.56, 'temp_max': 268.56, 'pressure': 1020, 'sea_level': 1020, 'grnd_level': 1001, 'humidity': 87, 'temp_kf': 0}, 'weather': [{'id': 804, 'main': 'Clouds', 'description': 'overcast clouds', 'icon': '04d'}], 'clouds': {'all': 100}, 'wind': {'speed': 0.72, 'deg': 121, 'gust': 0.61}, 'visibility': 10000, 'pop': 0, 'sys': {'pod': 'd'}, 'dt_txt': '2023-11-16 12:00:00'}, {'dt': 1700146800, 'main': {'temp': 266.73, 'feels_like': 266.73, 'temp_min': 266.73, 'temp_max': 266.73, 'pressure': 1021, 'sea_level': 1021, 'grnd_level': 1001, 'humidity': 98, 'temp_kf': 0}, 'weather': [{'id': 804, 'main': 'Clouds', 'description': 'overcast clouds', 'icon': '04n'}], 'clouds': {'all': 100}, 'wind': {'speed': 0.1, 'deg': 115, 'gust': 0.36}, 'visibility': 7995, 'pop': 0, 'sys': {'pod': 'n'}, 'dt_txt': '2023-11-16 15:00:00'}, {'dt': 1700157600, 'main': {'temp': 267.52, 'feels_like': 267.52, 'temp_min': 267.52, 'temp_max': 267.52, 'pressure': 1021, 'sea_level': 1021, 'grnd_level': 1001, 'humidity': 95, 'temp_kf': 0}, 'weather': [{'id': 804, 'main': 'Clouds', 'description': 'overcast clouds', 'icon': '04n'}], 'clouds': {'all': 100}, 'wind': {'speed': 0.59, 'deg': 166, 'gust': 0.87}, 'visibility': 10000, 'pop': 0.02, 'sys': {'pod': 'n'}, 'dt_txt': '2023-11-16 18:00:00'}, {'dt': 1700168400, 'main': {'temp': 265.16, 'feels_like': 265.16, 'temp_min': 265.16, 'temp_max': 265.16, 'pressure': 1022, 'sea_level': 1022, 'grnd_level': 1002, 'humidity': 98, 'temp_kf': 0}, 'weather': [{'id': 804, 'main': 'Clouds', 'description': 'overcast clouds', 'icon': '04n'}], 'clouds': {'all': 100}, 'wind': {'speed': 0.59, 'deg': 298, 'gust': 0.52}, 'visibility': 5893, 'pop': 0, 'sys': {'pod': 'n'}, 'dt_txt': '2023-11-16 21:00:00'}, {'dt': 1700179200, 'main': {'temp': 264.16, 'feels_like': 264.16, 'temp_min': 264.16, 'temp_max': 264.16, 'pressure': 1022, 'sea_level': 1022, 'grnd_level': 1002, 'humidity': 98, 'temp_kf': 0}, 'weather': [{'id': 804, 'main': 'Clouds', 'description': 'overcast clouds', 'icon': '04n'}], 'clouds': {'all': 100}, 'wind': {'speed': 0.44, 'deg': 280, 'gust': 0.55}, 'visibility': 7707, 'pop': 0, 'sys': {'pod': 'n'}, 'dt_txt': '2023-11-17 00:00:00'}, {'dt': 1700190000, 'main': {'temp': 262.07, 'feels_like': 259.08, 'temp_min': 262.07, 'temp_max': 262.07, 'pressure': 1022, 'sea_level': 1022, 'grnd_level': 1002, 'humidity': 98, 'temp_kf': 0}, 'weather': [{'id': 804, 'main': 'Clouds', 'description': 'overcast clouds', 'icon': '04n'}], 'clouds': {'all': 89}, 'wind': {'speed': 1.36, 'deg': 306, 'gust': 1.1}, 'visibility': 2649, 'pop': 0, 'sys': {'pod': 'n'}, 'dt_txt': '2023-11-17 03:00:00'}, {'dt': 1700200800, 'main': {'temp': 263.14, 'feels_like': 263.14, 'temp_min': 263.14, 'temp_max': 263.14, 'pressure': 1022, 'sea_level': 1022, 'grnd_level': 1002, 'humidity': 97, 'temp_kf': 0}, 'weather': [{'id': 804, 'main': 'Clouds', 'description': 'overcast clouds', 'icon': '04n'}], 'clouds': {'all': 94}, 'wind': {'speed': 1.12, 'deg': 305, 'gust': 0.92}, 'visibility': 1045, 'pop': 0, 'sys': {'pod': 'n'}, 'dt_txt': '2023-11-17 06:00:00'}, {'dt': 1700211600, 'main': {'temp': 265.89, 'feels_like': 265.89, 'temp_min': 265.89, 'temp_max': 265.89, 'pressure': 1021, 'sea_level': 1021, 'grnd_level': 1002, 'humidity': 94, 'temp_kf': 0}, 'weather': [{'id': 804, 'main': 'Clouds', 'description': 'overcast clouds', 'icon': '04d'}], 'clouds': {'all': 100}, 'wind': {'speed': 0.24, 'deg': 297, 'gust': 0.47}, 'visibility': 2115, 'pop': 0, 'sys': {'pod': 'd'}, 'dt_txt': '2023-11-17 09:00:00'}, {'dt': 1700222400, 'main': {'temp': 268.05, 'feels_like': 268.05, 'temp_min': 268.05, 'temp_max': 268.05, 'pressure': 1020, 'sea_level': 1020, 'grnd_level': 1001, 'humidity': 92, 'temp_kf': 0}, 'weather': [{'id': 804, 'main': 'Clouds', 'description': 'overcast clouds', 'icon': '04d'}], 'clouds': {'all': 100}, 'wind': {'speed': 0.61, 'deg': 172, 'gust': 0.87}, 'visibility': 4340, 'pop': 0, 'sys': {'pod': 'd'}, 'dt_txt': '2023-11-17 12:00:00'}, {'dt': 1700233200, 'main': {'temp': 267.87, 'feels_like': 267.87, 'temp_min': 267.87, 'temp_max': 267.87, 'pressure': 1020, 'sea_level': 1020, 'grnd_level': 1000, 'humidity': 97, 'temp_kf': 0}, 'weather': [{'id': 804, 'main': 'Clouds', 'description': 'overcast clouds', 'icon': '04n'}], 'clouds': {'all': 100}, 'wind': {'speed': 0.44, 'deg': 178, 'gust': 0.62}, 'visibility': 8395, 'pop': 0, 'sys': {'pod': 'n'}, 'dt_txt': '2023-11-17 15:00:00'}, {'dt': 1700244000, 'main': {'temp': 266.33, 'feels_like': 266.33, 'temp_min': 266.33, 'temp_max': 266.33, 'pressure': 1019, 'sea_level': 1019, 'grnd_level': 1000, 'humidity': 98, 'temp_kf': 0}, 'weather': [{'id': 804, 'main': 'Clouds', 'description': 'overcast clouds', 'icon': '04n'}], 'clouds': {'all': 100}, 'wind': {'speed': 0.87, 'deg': 273, 'gust': 0.77}, 'visibility': 5684, 'pop': 0, 'sys': {'pod': 'n'}, 'dt_txt': '2023-11-17 18:00:00'}, {'dt': 1700254800, 'main': {'temp': 266.91, 'feels_like': 266.91, 'temp_min': 266.91, 'temp_max': 266.91, 'pressure': 1018, 'sea_level': 1018, 'grnd_level': 999, 'humidity': 96, 'temp_kf': 0}, 'weather': [{'id': 804, 'main': 'Clouds', 'description': 'overcast clouds', 'icon': '04n'}], 'clouds': {'all': 99}, 'wind': {'speed': 0.88, 'deg': 266, 'gust': 0.84}, 'visibility': 10000, 'pop': 0.06, 'sys': {'pod': 'n'}, 'dt_txt': '2023-11-17 21:00:00'}, {'dt': 1700265600, 'main': {'temp': 266.17, 'feels_like': 263.74, 'temp_min': 266.17, 'temp_max': 266.17, 'pressure': 1016, 'sea_level': 1016, 'grnd_level': 997, 'humidity': 97, 'temp_kf': 0}, 'weather': [{'id': 804, 'main': 'Clouds', 'description': 'overcast clouds', 'icon': '04n'}], 'clouds': {'all': 97}, 'wind': {'speed': 1.35, 'deg': 310, 'gust': 1.15}, 'visibility': 4287, 'pop': 0.08, 'sys': {'pod': 'n'}, 'dt_txt': '2023-11-18 00:00:00'}, {'dt': 1700276400, 'main': {'temp': 269.9, 'feels_like': 269.9, 'temp_min': 269.9, 'temp_max': 269.9, 'pressure': 1013, 'sea_level': 1013, 'grnd_level': 994, 'humidity': 96, 'temp_kf': 0}, 'weather': [{'id': 600, 'main': 'Snow', 'description': 'light snow', 'icon': '13n'}], 'clouds': {'all': 100}, 'wind': {'speed': 0.36, 'deg': 63, 'gust': 0.68}, 'visibility': 861, 'pop': 0.42, 'snow': {'3h': 0.43}, 'sys': {'pod': 'n'}, 'dt_txt': '2023-11-18 03:00:00'}, {'dt': 1700287200, 'main': {'temp': 270.39, 'feels_like': 270.39, 'temp_min': 270.39, 'temp_max': 270.39, 'pressure': 1011, 'sea_level': 1011, 'grnd_level': 992, 'humidity': 96, 'temp_kf': 0}, 'weather': [{'id': 600, 'main': 'Snow', 'description': 'light snow', 'icon': '13n'}], 'clouds': {'all': 100}, 'wind': {'speed': 0.64, 'deg': 81, 'gust': 0.99}, 'visibility': 719, 'pop': 0.32, 'snow': {'3h': 0.18}, 'sys': {'pod': 'n'}, 'dt_txt': '2023-11-18 06:00:00'}], 'city': {'id': 3144113, 'name': 'Noresund', 'coord': {'lat': 60.1803, 'lon': 9.6231}, 'country': 'NO', 'population': 1000, 'timezone': 3600, 'sunrise': 1699859661, 'sunset': 1699887437}}\n"
     ]
    }
   ],
   "source": [
    "responseF = requests.get(urlF).json()\n",
    "print(responseF)"
   ]
  },
  {
   "cell_type": "code",
   "execution_count": 11,
   "metadata": {
    "slideshow": {
     "slide_type": "slide"
    }
   },
   "outputs": [],
   "source": [
    "# Write JSON to file for viewing\n",
    "with open('downloads/forecast.json', 'w') as f:\n",
    "    json.dump(responseF, f, indent=4)"
   ]
  },
  {
   "cell_type": "markdown",
   "metadata": {
    "slideshow": {
     "slide_type": "slide"
    }
   },
   "source": [
    "### When and what?\n",
    "Check contents and time stamps"
   ]
  },
  {
   "cell_type": "code",
   "execution_count": 12,
   "metadata": {
    "slideshow": {
     "slide_type": "-"
    }
   },
   "outputs": [
    {
     "data": {
      "text/plain": [
       "dict_keys(['cod', 'message', 'cnt', 'list', 'city'])"
      ]
     },
     "execution_count": 12,
     "metadata": {},
     "output_type": "execute_result"
    }
   ],
   "source": [
    "# Content of responseF\n",
    "responseF.keys()"
   ]
  },
  {
   "cell_type": "code",
   "execution_count": 13,
   "metadata": {
    "slideshow": {
     "slide_type": "fragment"
    }
   },
   "outputs": [
    {
     "name": "stdout",
     "output_type": "stream",
     "text": [
      "40\n"
     ]
    }
   ],
   "source": [
    "# Number of forecasts\n",
    "print(len(responseF[\"list\"]))"
   ]
  },
  {
   "cell_type": "code",
   "execution_count": 14,
   "metadata": {
    "scrolled": true,
    "slideshow": {
     "slide_type": "slide"
    }
   },
   "outputs": [
    {
     "name": "stdout",
     "output_type": "stream",
     "text": [
      "2023-11-13 09:00:00\n",
      "2023-11-13 12:00:00\n",
      "2023-11-13 15:00:00\n",
      "2023-11-13 18:00:00\n",
      "2023-11-13 21:00:00\n",
      "2023-11-14 00:00:00\n",
      "2023-11-14 03:00:00\n",
      "2023-11-14 06:00:00\n",
      "2023-11-14 09:00:00\n",
      "2023-11-14 12:00:00\n",
      "2023-11-14 15:00:00\n",
      "2023-11-14 18:00:00\n",
      "2023-11-14 21:00:00\n",
      "2023-11-15 00:00:00\n",
      "2023-11-15 03:00:00\n",
      "2023-11-15 06:00:00\n",
      "2023-11-15 09:00:00\n",
      "2023-11-15 12:00:00\n",
      "2023-11-15 15:00:00\n",
      "2023-11-15 18:00:00\n",
      "2023-11-15 21:00:00\n",
      "2023-11-16 00:00:00\n",
      "2023-11-16 03:00:00\n",
      "2023-11-16 06:00:00\n",
      "2023-11-16 09:00:00\n",
      "2023-11-16 12:00:00\n",
      "2023-11-16 15:00:00\n",
      "2023-11-16 18:00:00\n",
      "2023-11-16 21:00:00\n",
      "2023-11-17 00:00:00\n",
      "2023-11-17 03:00:00\n",
      "2023-11-17 06:00:00\n",
      "2023-11-17 09:00:00\n",
      "2023-11-17 12:00:00\n",
      "2023-11-17 15:00:00\n",
      "2023-11-17 18:00:00\n",
      "2023-11-17 21:00:00\n",
      "2023-11-18 00:00:00\n",
      "2023-11-18 03:00:00\n",
      "2023-11-18 06:00:00\n"
     ]
    }
   ],
   "source": [
    "# Print forecast times\n",
    "for forecast in responseF[\"list\"]:\n",
    "    print(forecast[\"dt_txt\"])"
   ]
  },
  {
   "cell_type": "markdown",
   "metadata": {
    "slideshow": {
     "slide_type": "slide"
    }
   },
   "source": [
    "## Make plots of omnipresent measurements and events\n",
    "We will later look at missing data, data only sporadically appearing and so on."
   ]
  },
  {
   "cell_type": "code",
   "execution_count": 15,
   "metadata": {
    "slideshow": {
     "slide_type": "-"
    }
   },
   "outputs": [],
   "source": [
    "# Air pressure per period\n",
    "pressures = []\n",
    "timestamps = []\n",
    "for forecast in responseF[\"list\"]:\n",
    "    pressures.append(forecast[\"main\"][\"pressure\"])\n",
    "    timestamps.append(dt.datetime.fromtimestamp(forecast[\"dt\"]))"
   ]
  },
  {
   "cell_type": "code",
   "execution_count": 16,
   "metadata": {
    "slideshow": {
     "slide_type": "slide"
    }
   },
   "outputs": [
    {
     "data": {
      "image/png": "[encoded data removed]",
      "text/plain": [
       "<Figure size 640x480 with 1 Axes>"
      ]
     },
     "metadata": {},
     "output_type": "display_data"
    }
   ],
   "source": [
    "import matplotlib.pyplot as plt\n",
    "plt.bar(timestamps, pressures)\n",
    "plt.xticks(rotation=45)\n",
    "plt.ylim(950, 1050)\n",
    "plt.grid()\n",
    "plt.ylabel(\"Air pressure (hPa)\")\n",
    "plt.title(f\"Forecasted air pressure in {CITY}\")\n",
    "plt.show()"
   ]
  },
  {
   "cell_type": "markdown",
   "metadata": {
    "slideshow": {
     "slide_type": "slide"
    }
   },
   "source": [
    "## Exercise\n",
    "- Make a new forecast request for your own hometown. Call your response something else than responseF.\n",
    "- If available, plot the humidity like we did with air pressure."
   ]
  },
  {
   "cell_type": "markdown",
   "metadata": {
    "slideshow": {
     "slide_type": "slide"
    }
   },
   "source": [
    "### Precipitation\n",
    "- ... comes in two main flavours: rain and snow.\n",
    "- We need to check which is present and set to zero if it is abscent."
   ]
  },
  {
   "cell_type": "code",
   "execution_count": 17,
   "metadata": {
    "slideshow": {
     "slide_type": "-"
    }
   },
   "outputs": [],
   "source": [
    "rain = []\n",
    "snow = []\n",
    "for forecast in responseF[\"list\"]:\n",
    "    try: # Check if rain is present in forecast\n",
    "        rain.append(forecast[\"rain\"][\"3h\"])\n",
    "    except KeyError:\n",
    "        rain.append(0)\n",
    "    try: # Check if snow is present in forecast\n",
    "        snow.append(forecast[\"snow\"][\"3h\"])\n",
    "    except KeyError:\n",
    "        snow.append(0)"
   ]
  },
  {
   "cell_type": "code",
   "execution_count": 18,
   "metadata": {
    "slideshow": {
     "slide_type": "slide"
    }
   },
   "outputs": [
    {
     "data": {
      "image/png": "[encoded data removed]",
      "text/plain": [
       "<Figure size 640x480 with 1 Axes>"
      ]
     },
     "metadata": {},
     "output_type": "display_data"
    }
   ],
   "source": [
    "# Stacked bar chart with rain and snow\n",
    "plt.bar(timestamps, rain, label=\"Rain\")\n",
    "plt.bar(timestamps, snow, label=\"Snow\")\n",
    "plt.xticks(rotation=45)\n",
    "plt.grid()\n",
    "plt.ylabel(\"Precipitation (mm)\")\n",
    "plt.title(f\"Forecasted precipitation in {CITY}\")\n",
    "plt.legend()\n",
    "plt.show()\n"
   ]
  },
  {
   "cell_type": "markdown",
   "metadata": {
    "slideshow": {
     "slide_type": "slide"
    }
   },
   "source": [
    "```{seealso} Resources\n",
    ":class: tip\n",
    "- [YouTube: NeuralNine's video (15m:32s)](https://www.youtube.com/watch?v=9P5MY_2i7K8)\n",
    "```"
   ]
  }
 ],
 "metadata": {
  "celltoolbar": "Slideshow",
  "kernelspec": {
   "display_name": "Python 3 (ipykernel)",
   "language": "python",
   "name": "python3"
  },
  "language_info": {
   "codemirror_mode": {
    "name": "ipython",
    "version": 3
   },
   "file_extension": ".py",
   "mimetype": "text/x-python",
   "name": "python",
   "nbconvert_exporter": "python",
   "pygments_lexer": "ipython3",
   "version": "3.11.6"
  }
 },
 "nbformat": 4,
 "nbformat_minor": 2
}