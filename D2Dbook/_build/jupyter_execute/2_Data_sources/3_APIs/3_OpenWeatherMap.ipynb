{
 "cells": [
  {
   "cell_type": "markdown",
   "metadata": {
    "slideshow": {
     "slide_type": "slide"
    }
   },
   "source": [
    "# Demonstration of API using OpenWeatherMap.org\n",
    "This demonstration is heavily inspired by [NeuralNine's video](https://www.youtube.com/watch?v=9P5MY_2i7K8).  \n",
    "You need a free account [from here](https://openweathermap.org/api).  \n",
    "The VS Code extension _JSON viewer_ is recommended for viewing downloaded JSON content.  \n",
    "  - Set your maximum API calls to 1000 per day to make sure you are under the limit for billing. \n",
    "  - To run the examples, download your API key, save it in the right folder (see below) in a file called _api\\_key\\_OpenWeather_, containing only the key (no spaces or \"enters\")."
   ]
  },
  {
   "cell_type": "code",
   "execution_count": 1,
   "metadata": {
    "slideshow": {
     "slide_type": "fragment"
    }
   },
   "outputs": [],
   "source": [
    "# Imports\n",
    "import datetime as dt\n",
    "import requests\n",
    "import json"
   ]
  },
  {
   "cell_type": "markdown",
   "metadata": {
    "slideshow": {
     "slide_type": "slide"
    }
   },
   "source": [
    "## Current weather\n",
    "### Common definitions to use for all requests"
   ]
  },
  {
   "cell_type": "code",
   "execution_count": 2,
   "metadata": {
    "slideshow": {
     "slide_type": "-"
    }
   },
   "outputs": [],
   "source": [
    "BASE_URL = \"http://api.openweathermap.org/data/2.5/weather?\"\n",
    "API_KEY = open('../../../No_sync/api_key_OpenWeather','r').read()\n",
    "CITY = \"Ski\"\n",
    "\n",
    "url = BASE_URL + \"q=\" + CITY + \"&appid=\" + API_KEY"
   ]
  },
  {
   "cell_type": "markdown",
   "metadata": {
    "slideshow": {
     "slide_type": "slide"
    }
   },
   "source": [
    "## Request current weather in chosen city"
   ]
  },
  {
   "cell_type": "code",
   "execution_count": 3,
   "metadata": {
    "slideshow": {
     "slide_type": "fragment"
    }
   },
   "outputs": [
    {
     "name": "stdout",
     "output_type": "stream",
     "text": [
      "{'coord': {'lon': 10.8358, 'lat': 59.7195}, 'weather': [{'id': 804, 'main': 'Clouds', 'description': 'overcast clouds', 'icon': '04n'}], 'base': 'stations', 'main': {'temp': 267.15, 'feels_like': 261.66, 'temp_min': 266.92, 'temp_max': 270.07, 'pressure': 1011, 'humidity': 92, 'sea_level': 1011, 'grnd_level': 994}, 'visibility': 10000, 'wind': {'speed': 3.81, 'deg': 22, 'gust': 9.77}, 'clouds': {'all': 98}, 'dt': 1701294316, 'sys': {'type': 2, 'id': 2006772, 'country': 'NO', 'sunrise': 1701243866, 'sunset': 1701267934}, 'timezone': 3600, 'id': 3139081, 'name': 'Ski', 'cod': 200}\n"
     ]
    }
   ],
   "source": [
    "response = requests.get(url).json()\n",
    "print(response)"
   ]
  },
  {
   "cell_type": "code",
   "execution_count": 4,
   "metadata": {
    "slideshow": {
     "slide_type": "fragment"
    }
   },
   "outputs": [],
   "source": [
    "# Write JSON to file for viewing\n",
    "with open('downloads/weather.json', 'w') as f:\n",
    "    json.dump(response, f, indent=4)"
   ]
  },
  {
   "cell_type": "markdown",
   "metadata": {
    "slideshow": {
     "slide_type": "slide"
    }
   },
   "source": [
    "## Conversion functions\n",
    "Changing scales can make results more interpretable"
   ]
  },
  {
   "cell_type": "code",
   "execution_count": 5,
   "metadata": {
    "slideshow": {
     "slide_type": "-"
    }
   },
   "outputs": [],
   "source": [
    "# Kelvin to Celsius\n",
    "def kelvin_to_celsius(temp):\n",
    "    return temp - 273.15\n",
    "\n",
    "# Meters per second to knots\n",
    "def mps_to_knots(speed):\n",
    "    return speed * 1.943844"
   ]
  },
  {
   "cell_type": "markdown",
   "metadata": {
    "slideshow": {
     "slide_type": "slide"
    }
   },
   "source": [
    "## Print some weather properties"
   ]
  },
  {
   "cell_type": "code",
   "execution_count": 6,
   "metadata": {
    "slideshow": {
     "slide_type": "-"
    }
   },
   "outputs": [
    {
     "name": "stdout",
     "output_type": "stream",
     "text": [
      "The current temperature in Ski is -6.0°C\n"
     ]
    }
   ],
   "source": [
    "# Current temperature\n",
    "temp_kelvin = response['main']['temp']\n",
    "temp_celsius = kelvin_to_celsius(temp_kelvin)\n",
    "print(f\"The current temperature in {CITY} is {temp_celsius:.1f}°C\")"
   ]
  },
  {
   "cell_type": "code",
   "execution_count": 7,
   "metadata": {
    "slideshow": {
     "slide_type": "slide"
    }
   },
   "outputs": [
    {
     "name": "stdout",
     "output_type": "stream",
     "text": [
      "Sunrise today is at 08:44 and sunset is at 15:25\n"
     ]
    }
   ],
   "source": [
    "# Sunrise and sunset today in local time\n",
    "sunrise = dt.datetime.fromtimestamp(response['sys']['sunrise'])\n",
    "sunset = dt.datetime.fromtimestamp(response['sys']['sunset'])\n",
    "print(f\"Sunrise today is at {sunrise:%H:%M} and sunset is at {sunset:%H:%M}\")"
   ]
  },
  {
   "cell_type": "code",
   "execution_count": 8,
   "metadata": {
    "slideshow": {
     "slide_type": "fragment"
    }
   },
   "outputs": [
    {
     "name": "stdout",
     "output_type": "stream",
     "text": [
      "Wind today is from 22° at 7.4 knots\n"
     ]
    }
   ],
   "source": [
    "# Wind direction and speed\n",
    "wind_knots = mps_to_knots(response['wind']['speed'])\n",
    "print(f\"Wind today is from {response['wind']['deg']}° at {round(wind_knots,1)} knots\")"
   ]
  },
  {
   "cell_type": "markdown",
   "metadata": {
    "slideshow": {
     "slide_type": "slide"
    }
   },
   "source": [
    "## Forecasted weather\n",
    "### Common definitions to use for all requests"
   ]
  },
  {
   "cell_type": "code",
   "execution_count": 9,
   "metadata": {
    "slideshow": {
     "slide_type": "-"
    }
   },
   "outputs": [],
   "source": [
    "BASE_URL = \"http://api.openweathermap.org/data/2.5/forecast?\"\n",
    "CITY = \"Noresund\"\n",
    "\n",
    "urlF = BASE_URL + \"q=\" + CITY + \"&appid=\" + API_KEY"
   ]
  },
  {
   "cell_type": "markdown",
   "metadata": {
    "slideshow": {
     "slide_type": "slide"
    }
   },
   "source": [
    "## Request forecasted weather in chosen city"
   ]
  },
  {
   "cell_type": "code",
   "execution_count": 10,
   "metadata": {
    "slideshow": {
     "slide_type": "-"
    }
   },
   "outputs": [
    {
     "name": "stdout",
     "output_type": "stream",
     "text": [
      "{'cod': '200', 'message': 0, 'cnt': 40, 'list': [{'dt': 1701302400, 'main': {'temp': 268.8, 'feels_like': 265.33, 'temp_min': 266.65, 'temp_max': 268.8, 'pressure': 1013, 'sea_level': 1013, 'grnd_level': 994, 'humidity': 93, 'temp_kf': 2.15}, 'weather': [{'id': 600, 'main': 'Snow', 'description': 'light snow', 'icon': '13n'}], 'clouds': {'all': 100}, 'wind': {'speed': 2.22, 'deg': 346, 'gust': 4.34}, 'visibility': 1797, 'pop': 0.71, 'snow': {'3h': 0.12}, 'sys': {'pod': 'n'}, 'dt_txt': '2023-11-30 00:00:00'}, {'dt': 1701313200, 'main': {'temp': 267.64, 'feels_like': 263.92, 'temp_min': 266.52, 'temp_max': 267.64, 'pressure': 1014, 'sea_level': 1014, 'grnd_level': 994, 'humidity': 94, 'temp_kf': 1.12}, 'weather': [{'id': 600, 'main': 'Snow', 'description': 'light snow', 'icon': '13n'}], 'clouds': {'all': 100}, 'wind': {'speed': 2.25, 'deg': 341, 'gust': 4.66}, 'visibility': 649, 'pop': 0.4, 'snow': {'3h': 0.18}, 'sys': {'pod': 'n'}, 'dt_txt': '2023-11-30 03:00:00'}, {'dt': 1701324000, 'main': {'temp': 265.85, 'feels_like': 261.69, 'temp_min': 265.85, 'temp_max': 265.85, 'pressure': 1014, 'sea_level': 1014, 'grnd_level': 995, 'humidity': 94, 'temp_kf': 0}, 'weather': [{'id': 600, 'main': 'Snow', 'description': 'light snow', 'icon': '13n'}], 'clouds': {'all': 100}, 'wind': {'speed': 2.34, 'deg': 334, 'gust': 4.81}, 'visibility': 1254, 'pop': 0.24, 'snow': {'3h': 0.26}, 'sys': {'pod': 'n'}, 'dt_txt': '2023-11-30 06:00:00'}, {'dt': 1701334800, 'main': {'temp': 265.22, 'feels_like': 261.06, 'temp_min': 265.22, 'temp_max': 265.22, 'pressure': 1015, 'sea_level': 1015, 'grnd_level': 996, 'humidity': 94, 'temp_kf': 0}, 'weather': [{'id': 600, 'main': 'Snow', 'description': 'light snow', 'icon': '13d'}], 'clouds': {'all': 100}, 'wind': {'speed': 2.26, 'deg': 333, 'gust': 4.44}, 'visibility': 968, 'pop': 0.21, 'snow': {'3h': 0.13}, 'sys': {'pod': 'd'}, 'dt_txt': '2023-11-30 09:00:00'}, {'dt': 1701345600, 'main': {'temp': 266.93, 'feels_like': 263.42, 'temp_min': 266.93, 'temp_max': 266.93, 'pressure': 1015, 'sea_level': 1015, 'grnd_level': 996, 'humidity': 92, 'temp_kf': 0}, 'weather': [{'id': 600, 'main': 'Snow', 'description': 'light snow', 'icon': '13d'}], 'clouds': {'all': 100}, 'wind': {'speed': 2.02, 'deg': 346, 'gust': 3.8}, 'visibility': 2113, 'pop': 0.21, 'snow': {'3h': 0.17}, 'sys': {'pod': 'd'}, 'dt_txt': '2023-11-30 12:00:00'}, {'dt': 1701356400, 'main': {'temp': 264.12, 'feels_like': 259.89, 'temp_min': 264.12, 'temp_max': 264.12, 'pressure': 1016, 'sea_level': 1016, 'grnd_level': 996, 'humidity': 95, 'temp_kf': 0}, 'weather': [{'id': 804, 'main': 'Clouds', 'description': 'overcast clouds', 'icon': '04n'}], 'clouds': {'all': 100}, 'wind': {'speed': 2.18, 'deg': 333, 'gust': 3.9}, 'visibility': 10000, 'pop': 0, 'sys': {'pod': 'n'}, 'dt_txt': '2023-11-30 15:00:00'}, {'dt': 1701367200, 'main': {'temp': 262.2, 'feels_like': 257.29, 'temp_min': 262.2, 'temp_max': 262.2, 'pressure': 1016, 'sea_level': 1016, 'grnd_level': 996, 'humidity': 93, 'temp_kf': 0}, 'weather': [{'id': 804, 'main': 'Clouds', 'description': 'overcast clouds', 'icon': '04n'}], 'clouds': {'all': 97}, 'wind': {'speed': 2.41, 'deg': 322, 'gust': 4.04}, 'visibility': 10000, 'pop': 0, 'sys': {'pod': 'n'}, 'dt_txt': '2023-11-30 18:00:00'}, {'dt': 1701378000, 'main': {'temp': 262.29, 'feels_like': 257.53, 'temp_min': 262.29, 'temp_max': 262.29, 'pressure': 1016, 'sea_level': 1016, 'grnd_level': 996, 'humidity': 93, 'temp_kf': 0}, 'weather': [{'id': 804, 'main': 'Clouds', 'description': 'overcast clouds', 'icon': '04n'}], 'clouds': {'all': 100}, 'wind': {'speed': 2.32, 'deg': 325, 'gust': 3.91}, 'visibility': 10000, 'pop': 0, 'sys': {'pod': 'n'}, 'dt_txt': '2023-11-30 21:00:00'}, {'dt': 1701388800, 'main': {'temp': 260.91, 'feels_like': 255.79, 'temp_min': 260.91, 'temp_max': 260.91, 'pressure': 1016, 'sea_level': 1016, 'grnd_level': 996, 'humidity': 93, 'temp_kf': 0}, 'weather': [{'id': 804, 'main': 'Clouds', 'description': 'overcast clouds', 'icon': '04n'}], 'clouds': {'all': 90}, 'wind': {'speed': 2.39, 'deg': 321, 'gust': 3.59}, 'visibility': 10000, 'pop': 0, 'sys': {'pod': 'n'}, 'dt_txt': '2023-12-01 00:00:00'}, {'dt': 1701399600, 'main': {'temp': 260.3, 'feels_like': 255.15, 'temp_min': 260.3, 'temp_max': 260.3, 'pressure': 1016, 'sea_level': 1016, 'grnd_level': 996, 'humidity': 93, 'temp_kf': 0}, 'weather': [{'id': 802, 'main': 'Clouds', 'description': 'scattered clouds', 'icon': '03n'}], 'clouds': {'all': 44}, 'wind': {'speed': 2.34, 'deg': 319, 'gust': 3.42}, 'visibility': 10000, 'pop': 0, 'sys': {'pod': 'n'}, 'dt_txt': '2023-12-01 03:00:00'}, {'dt': 1701410400, 'main': {'temp': 260.03, 'feels_like': 255.16, 'temp_min': 260.03, 'temp_max': 260.03, 'pressure': 1016, 'sea_level': 1016, 'grnd_level': 996, 'humidity': 93, 'temp_kf': 0}, 'weather': [{'id': 802, 'main': 'Clouds', 'description': 'scattered clouds', 'icon': '03n'}], 'clouds': {'all': 44}, 'wind': {'speed': 2.14, 'deg': 317, 'gust': 2.83}, 'visibility': 10000, 'pop': 0, 'sys': {'pod': 'n'}, 'dt_txt': '2023-12-01 06:00:00'}, {'dt': 1701421200, 'main': {'temp': 260.82, 'feels_like': 256.44, 'temp_min': 260.82, 'temp_max': 260.82, 'pressure': 1015, 'sea_level': 1015, 'grnd_level': 996, 'humidity': 91, 'temp_kf': 0}, 'weather': [{'id': 802, 'main': 'Clouds', 'description': 'scattered clouds', 'icon': '03d'}], 'clouds': {'all': 42}, 'wind': {'speed': 1.94, 'deg': 319, 'gust': 2.72}, 'visibility': 10000, 'pop': 0, 'sys': {'pod': 'd'}, 'dt_txt': '2023-12-01 09:00:00'}, {'dt': 1701432000, 'main': {'temp': 264.86, 'feels_like': 264.86, 'temp_min': 264.86, 'temp_max': 264.86, 'pressure': 1013, 'sea_level': 1013, 'grnd_level': 994, 'humidity': 87, 'temp_kf': 0}, 'weather': [{'id': 802, 'main': 'Clouds', 'description': 'scattered clouds', 'icon': '03d'}], 'clouds': {'all': 36}, 'wind': {'speed': 1.03, 'deg': 319, 'gust': 1.87}, 'visibility': 10000, 'pop': 0, 'sys': {'pod': 'd'}, 'dt_txt': '2023-12-01 12:00:00'}, {'dt': 1701442800, 'main': {'temp': 260.47, 'feels_like': 256.16, 'temp_min': 260.47, 'temp_max': 260.47, 'pressure': 1014, 'sea_level': 1014, 'grnd_level': 994, 'humidity': 92, 'temp_kf': 0}, 'weather': [{'id': 802, 'main': 'Clouds', 'description': 'scattered clouds', 'icon': '03n'}], 'clouds': {'all': 44}, 'wind': {'speed': 1.87, 'deg': 315, 'gust': 1.49}, 'visibility': 10000, 'pop': 0, 'sys': {'pod': 'n'}, 'dt_txt': '2023-12-01 15:00:00'}, {'dt': 1701453600, 'main': {'temp': 260.08, 'feels_like': 255.6, 'temp_min': 260.08, 'temp_max': 260.08, 'pressure': 1014, 'sea_level': 1014, 'grnd_level': 994, 'humidity': 89, 'temp_kf': 0}, 'weather': [{'id': 803, 'main': 'Clouds', 'description': 'broken clouds', 'icon': '04n'}], 'clouds': {'all': 56}, 'wind': {'speed': 1.93, 'deg': 312, 'gust': 1.53}, 'visibility': 10000, 'pop': 0, 'sys': {'pod': 'n'}, 'dt_txt': '2023-12-01 18:00:00'}, {'dt': 1701464400, 'main': {'temp': 259.74, 'feels_like': 255.19, 'temp_min': 259.74, 'temp_max': 259.74, 'pressure': 1014, 'sea_level': 1014, 'grnd_level': 994, 'humidity': 89, 'temp_kf': 0}, 'weather': [{'id': 803, 'main': 'Clouds', 'description': 'broken clouds', 'icon': '04n'}], 'clouds': {'all': 51}, 'wind': {'speed': 1.94, 'deg': 313, 'gust': 1.54}, 'visibility': 10000, 'pop': 0, 'sys': {'pod': 'n'}, 'dt_txt': '2023-12-01 21:00:00'}, {'dt': 1701475200, 'main': {'temp': 259.33, 'feels_like': 254.79, 'temp_min': 259.33, 'temp_max': 259.33, 'pressure': 1015, 'sea_level': 1015, 'grnd_level': 995, 'humidity': 90, 'temp_kf': 0}, 'weather': [{'id': 802, 'main': 'Clouds', 'description': 'scattered clouds', 'icon': '03n'}], 'clouds': {'all': 43}, 'wind': {'speed': 1.9, 'deg': 316, 'gust': 1.96}, 'visibility': 10000, 'pop': 0, 'sys': {'pod': 'n'}, 'dt_txt': '2023-12-02 00:00:00'}, {'dt': 1701486000, 'main': {'temp': 259.46, 'feels_like': 254.8, 'temp_min': 259.46, 'temp_max': 259.46, 'pressure': 1014, 'sea_level': 1014, 'grnd_level': 994, 'humidity': 90, 'temp_kf': 0}, 'weather': [{'id': 803, 'main': 'Clouds', 'description': 'broken clouds', 'icon': '04n'}], 'clouds': {'all': 71}, 'wind': {'speed': 1.97, 'deg': 318, 'gust': 2.14}, 'visibility': 10000, 'pop': 0, 'sys': {'pod': 'n'}, 'dt_txt': '2023-12-02 03:00:00'}, {'dt': 1701496800, 'main': {'temp': 261.23, 'feels_like': 257.5, 'temp_min': 261.23, 'temp_max': 261.23, 'pressure': 1014, 'sea_level': 1014, 'grnd_level': 995, 'humidity': 89, 'temp_kf': 0}, 'weather': [{'id': 803, 'main': 'Clouds', 'description': 'broken clouds', 'icon': '04n'}], 'clouds': {'all': 84}, 'wind': {'speed': 1.64, 'deg': 311, 'gust': 1.79}, 'visibility': 10000, 'pop': 0, 'sys': {'pod': 'n'}, 'dt_txt': '2023-12-02 06:00:00'}, {'dt': 1701507600, 'main': {'temp': 261.91, 'feels_like': 258.26, 'temp_min': 261.91, 'temp_max': 261.91, 'pressure': 1015, 'sea_level': 1015, 'grnd_level': 995, 'humidity': 89, 'temp_kf': 0}, 'weather': [{'id': 804, 'main': 'Clouds', 'description': 'overcast clouds', 'icon': '04d'}], 'clouds': {'all': 91}, 'wind': {'speed': 1.65, 'deg': 313, 'gust': 1.95}, 'visibility': 10000, 'pop': 0, 'sys': {'pod': 'd'}, 'dt_txt': '2023-12-02 09:00:00'}, {'dt': 1701518400, 'main': {'temp': 265.31, 'feels_like': 265.31, 'temp_min': 265.31, 'temp_max': 265.31, 'pressure': 1014, 'sea_level': 1014, 'grnd_level': 995, 'humidity': 89, 'temp_kf': 0}, 'weather': [{'id': 804, 'main': 'Clouds', 'description': 'overcast clouds', 'icon': '04d'}], 'clouds': {'all': 87}, 'wind': {'speed': 0.71, 'deg': 342, 'gust': 1.01}, 'visibility': 10000, 'pop': 0, 'sys': {'pod': 'd'}, 'dt_txt': '2023-12-02 12:00:00'}, {'dt': 1701529200, 'main': {'temp': 261.24, 'feels_like': 257.35, 'temp_min': 261.24, 'temp_max': 261.24, 'pressure': 1016, 'sea_level': 1016, 'grnd_level': 996, 'humidity': 94, 'temp_kf': 0}, 'weather': [{'id': 802, 'main': 'Clouds', 'description': 'scattered clouds', 'icon': '03n'}], 'clouds': {'all': 35}, 'wind': {'speed': 1.72, 'deg': 314, 'gust': 1.39}, 'visibility': 10000, 'pop': 0, 'sys': {'pod': 'n'}, 'dt_txt': '2023-12-02 15:00:00'}, {'dt': 1701540000, 'main': {'temp': 260.83, 'feels_like': 257.19, 'temp_min': 260.83, 'temp_max': 260.83, 'pressure': 1016, 'sea_level': 1016, 'grnd_level': 997, 'humidity': 94, 'temp_kf': 0}, 'weather': [{'id': 803, 'main': 'Clouds', 'description': 'broken clouds', 'icon': '04n'}], 'clouds': {'all': 55}, 'wind': {'speed': 1.57, 'deg': 326, 'gust': 1.3}, 'visibility': 10000, 'pop': 0, 'sys': {'pod': 'n'}, 'dt_txt': '2023-12-02 18:00:00'}, {'dt': 1701550800, 'main': {'temp': 260.8, 'feels_like': 257.38, 'temp_min': 260.8, 'temp_max': 260.8, 'pressure': 1018, 'sea_level': 1018, 'grnd_level': 998, 'humidity': 95, 'temp_kf': 0}, 'weather': [{'id': 803, 'main': 'Clouds', 'description': 'broken clouds', 'icon': '04n'}], 'clouds': {'all': 80}, 'wind': {'speed': 1.47, 'deg': 323, 'gust': 1.22}, 'visibility': 10000, 'pop': 0, 'sys': {'pod': 'n'}, 'dt_txt': '2023-12-02 21:00:00'}, {'dt': 1701561600, 'main': {'temp': 259.45, 'feels_like': 255.37, 'temp_min': 259.45, 'temp_max': 259.45, 'pressure': 1018, 'sea_level': 1018, 'grnd_level': 998, 'humidity': 95, 'temp_kf': 0}, 'weather': [{'id': 803, 'main': 'Clouds', 'description': 'broken clouds', 'icon': '04n'}], 'clouds': {'all': 64}, 'wind': {'speed': 1.68, 'deg': 320, 'gust': 1.36}, 'visibility': 10000, 'pop': 0, 'sys': {'pod': 'n'}, 'dt_txt': '2023-12-03 00:00:00'}, {'dt': 1701572400, 'main': {'temp': 258.92, 'feels_like': 254.87, 'temp_min': 258.92, 'temp_max': 258.92, 'pressure': 1019, 'sea_level': 1019, 'grnd_level': 999, 'humidity': 95, 'temp_kf': 0}, 'weather': [{'id': 802, 'main': 'Clouds', 'description': 'scattered clouds', 'icon': '03n'}], 'clouds': {'all': 32}, 'wind': {'speed': 1.63, 'deg': 321, 'gust': 1.32}, 'visibility': 10000, 'pop': 0, 'sys': {'pod': 'n'}, 'dt_txt': '2023-12-03 03:00:00'}, {'dt': 1701583200, 'main': {'temp': 258.81, 'feels_like': 254.59, 'temp_min': 258.81, 'temp_max': 258.81, 'pressure': 1019, 'sea_level': 1019, 'grnd_level': 999, 'humidity': 95, 'temp_kf': 0}, 'weather': [{'id': 802, 'main': 'Clouds', 'description': 'scattered clouds', 'icon': '03n'}], 'clouds': {'all': 30}, 'wind': {'speed': 1.7, 'deg': 321, 'gust': 1.38}, 'visibility': 10000, 'pop': 0, 'sys': {'pod': 'n'}, 'dt_txt': '2023-12-03 06:00:00'}, {'dt': 1701594000, 'main': {'temp': 259.47, 'feels_like': 255.75, 'temp_min': 259.47, 'temp_max': 259.47, 'pressure': 1021, 'sea_level': 1021, 'grnd_level': 1001, 'humidity': 95, 'temp_kf': 0}, 'weather': [{'id': 801, 'main': 'Clouds', 'description': 'few clouds', 'icon': '02d'}], 'clouds': {'all': 21}, 'wind': {'speed': 1.52, 'deg': 321, 'gust': 1.29}, 'visibility': 10000, 'pop': 0, 'sys': {'pod': 'd'}, 'dt_txt': '2023-12-03 09:00:00'}, {'dt': 1701604800, 'main': {'temp': 263.75, 'feels_like': 263.75, 'temp_min': 263.75, 'temp_max': 263.75, 'pressure': 1020, 'sea_level': 1020, 'grnd_level': 1000, 'humidity': 91, 'temp_kf': 0}, 'weather': [{'id': 802, 'main': 'Clouds', 'description': 'scattered clouds', 'icon': '03d'}], 'clouds': {'all': 38}, 'wind': {'speed': 0.72, 'deg': 358, 'gust': 1.19}, 'visibility': 10000, 'pop': 0, 'sys': {'pod': 'd'}, 'dt_txt': '2023-12-03 12:00:00'}, {'dt': 1701615600, 'main': {'temp': 262.17, 'feels_like': 262.17, 'temp_min': 262.17, 'temp_max': 262.17, 'pressure': 1020, 'sea_level': 1020, 'grnd_level': 1001, 'humidity': 95, 'temp_kf': 0}, 'weather': [{'id': 804, 'main': 'Clouds', 'description': 'overcast clouds', 'icon': '04n'}], 'clouds': {'all': 91}, 'wind': {'speed': 1.3, 'deg': 334, 'gust': 1.46}, 'visibility': 10000, 'pop': 0, 'sys': {'pod': 'n'}, 'dt_txt': '2023-12-03 15:00:00'}, {'dt': 1701626400, 'main': {'temp': 263.31, 'feels_like': 263.31, 'temp_min': 263.31, 'temp_max': 263.31, 'pressure': 1021, 'sea_level': 1021, 'grnd_level': 1001, 'humidity': 94, 'temp_kf': 0}, 'weather': [{'id': 804, 'main': 'Clouds', 'description': 'overcast clouds', 'icon': '04n'}], 'clouds': {'all': 95}, 'wind': {'speed': 1.14, 'deg': 333, 'gust': 1.35}, 'visibility': 10000, 'pop': 0, 'sys': {'pod': 'n'}, 'dt_txt': '2023-12-03 18:00:00'}, {'dt': 1701637200, 'main': {'temp': 263.67, 'feels_like': 263.67, 'temp_min': 263.67, 'temp_max': 263.67, 'pressure': 1021, 'sea_level': 1021, 'grnd_level': 1001, 'humidity': 94, 'temp_kf': 0}, 'weather': [{'id': 804, 'main': 'Clouds', 'description': 'overcast clouds', 'icon': '04n'}], 'clouds': {'all': 100}, 'wind': {'speed': 1.26, 'deg': 336, 'gust': 1.43}, 'visibility': 10000, 'pop': 0, 'sys': {'pod': 'n'}, 'dt_txt': '2023-12-03 21:00:00'}, {'dt': 1701648000, 'main': {'temp': 264.66, 'feels_like': 264.66, 'temp_min': 264.66, 'temp_max': 264.66, 'pressure': 1021, 'sea_level': 1021, 'grnd_level': 1001, 'humidity': 93, 'temp_kf': 0}, 'weather': [{'id': 804, 'main': 'Clouds', 'description': 'overcast clouds', 'icon': '04n'}], 'clouds': {'all': 100}, 'wind': {'speed': 1.21, 'deg': 333, 'gust': 1.6}, 'visibility': 10000, 'pop': 0, 'sys': {'pod': 'n'}, 'dt_txt': '2023-12-04 00:00:00'}, {'dt': 1701658800, 'main': {'temp': 265.66, 'feels_like': 265.66, 'temp_min': 265.66, 'temp_max': 265.66, 'pressure': 1021, 'sea_level': 1021, 'grnd_level': 1002, 'humidity': 94, 'temp_kf': 0}, 'weather': [{'id': 804, 'main': 'Clouds', 'description': 'overcast clouds', 'icon': '04n'}], 'clouds': {'all': 100}, 'wind': {'speed': 1.22, 'deg': 324, 'gust': 1.99}, 'visibility': 4079, 'pop': 0, 'sys': {'pod': 'n'}, 'dt_txt': '2023-12-04 03:00:00'}, {'dt': 1701669600, 'main': {'temp': 265.56, 'feels_like': 265.56, 'temp_min': 265.56, 'temp_max': 265.56, 'pressure': 1021, 'sea_level': 1021, 'grnd_level': 1002, 'humidity': 94, 'temp_kf': 0}, 'weather': [{'id': 804, 'main': 'Clouds', 'description': 'overcast clouds', 'icon': '04n'}], 'clouds': {'all': 100}, 'wind': {'speed': 1.33, 'deg': 321, 'gust': 1.67}, 'visibility': 10000, 'pop': 0, 'sys': {'pod': 'n'}, 'dt_txt': '2023-12-04 06:00:00'}, {'dt': 1701680400, 'main': {'temp': 264.77, 'feels_like': 261.56, 'temp_min': 264.77, 'temp_max': 264.77, 'pressure': 1023, 'sea_level': 1023, 'grnd_level': 1003, 'humidity': 93, 'temp_kf': 0}, 'weather': [{'id': 804, 'main': 'Clouds', 'description': 'overcast clouds', 'icon': '04d'}], 'clouds': {'all': 98}, 'wind': {'speed': 1.64, 'deg': 326, 'gust': 1.77}, 'visibility': 10000, 'pop': 0, 'sys': {'pod': 'd'}, 'dt_txt': '2023-12-04 09:00:00'}, {'dt': 1701691200, 'main': {'temp': 266.41, 'feels_like': 266.41, 'temp_min': 266.41, 'temp_max': 266.41, 'pressure': 1022, 'sea_level': 1022, 'grnd_level': 1003, 'humidity': 90, 'temp_kf': 0}, 'weather': [{'id': 803, 'main': 'Clouds', 'description': 'broken clouds', 'icon': '04d'}], 'clouds': {'all': 77}, 'wind': {'speed': 1.14, 'deg': 326, 'gust': 1.43}, 'visibility': 10000, 'pop': 0, 'sys': {'pod': 'd'}, 'dt_txt': '2023-12-04 12:00:00'}, {'dt': 1701702000, 'main': {'temp': 262.14, 'feels_like': 258.12, 'temp_min': 262.14, 'temp_max': 262.14, 'pressure': 1023, 'sea_level': 1023, 'grnd_level': 1003, 'humidity': 93, 'temp_kf': 0}, 'weather': [{'id': 802, 'main': 'Clouds', 'description': 'scattered clouds', 'icon': '03n'}], 'clouds': {'all': 28}, 'wind': {'speed': 1.86, 'deg': 312, 'gust': 1.46}, 'visibility': 10000, 'pop': 0, 'sys': {'pod': 'n'}, 'dt_txt': '2023-12-04 15:00:00'}, {'dt': 1701712800, 'main': {'temp': 261.3, 'feels_like': 257.18, 'temp_min': 261.3, 'temp_max': 261.3, 'pressure': 1023, 'sea_level': 1023, 'grnd_level': 1003, 'humidity': 93, 'temp_kf': 0}, 'weather': [{'id': 802, 'main': 'Clouds', 'description': 'scattered clouds', 'icon': '03n'}], 'clouds': {'all': 37}, 'wind': {'speed': 1.84, 'deg': 312, 'gust': 1.47}, 'visibility': 10000, 'pop': 0, 'sys': {'pod': 'n'}, 'dt_txt': '2023-12-04 18:00:00'}, {'dt': 1701723600, 'main': {'temp': 261.01, 'feels_like': 257, 'temp_min': 261.01, 'temp_max': 261.01, 'pressure': 1023, 'sea_level': 1023, 'grnd_level': 1003, 'humidity': 94, 'temp_kf': 0}, 'weather': [{'id': 802, 'main': 'Clouds', 'description': 'scattered clouds', 'icon': '03n'}], 'clouds': {'all': 48}, 'wind': {'speed': 1.76, 'deg': 312, 'gust': 1.39}, 'visibility': 10000, 'pop': 0, 'sys': {'pod': 'n'}, 'dt_txt': '2023-12-04 21:00:00'}], 'city': {'id': 3144113, 'name': 'Noresund', 'coord': {'lat': 60.1803, 'lon': 9.6231}, 'country': 'NO', 'population': 1000, 'timezone': 3600, 'sunrise': 1701244377, 'sunset': 1701268006}}\n"
     ]
    }
   ],
   "source": [
    "responseF = requests.get(urlF).json()\n",
    "print(responseF)"
   ]
  },
  {
   "cell_type": "code",
   "execution_count": 11,
   "metadata": {
    "slideshow": {
     "slide_type": "slide"
    }
   },
   "outputs": [],
   "source": [
    "# Write JSON to file for viewing\n",
    "with open('downloads/forecast.json', 'w') as f:\n",
    "    json.dump(responseF, f, indent=4)"
   ]
  },
  {
   "cell_type": "markdown",
   "metadata": {
    "slideshow": {
     "slide_type": "slide"
    }
   },
   "source": [
    "### When and what?\n",
    "Check contents and time stamps"
   ]
  },
  {
   "cell_type": "code",
   "execution_count": 12,
   "metadata": {
    "slideshow": {
     "slide_type": "-"
    }
   },
   "outputs": [
    {
     "data": {
      "text/plain": [
       "dict_keys(['cod', 'message', 'cnt', 'list', 'city'])"
      ]
     },
     "execution_count": 12,
     "metadata": {},
     "output_type": "execute_result"
    }
   ],
   "source": [
    "# Content of responseF\n",
    "responseF.keys()"
   ]
  },
  {
   "cell_type": "code",
   "execution_count": 13,
   "metadata": {
    "slideshow": {
     "slide_type": "fragment"
    }
   },
   "outputs": [
    {
     "name": "stdout",
     "output_type": "stream",
     "text": [
      "40\n"
     ]
    }
   ],
   "source": [
    "# Number of forecasts\n",
    "print(len(responseF[\"list\"]))"
   ]
  },
  {
   "cell_type": "code",
   "execution_count": 14,
   "metadata": {
    "scrolled": true,
    "slideshow": {
     "slide_type": "slide"
    }
   },
   "outputs": [
    {
     "name": "stdout",
     "output_type": "stream",
     "text": [
      "2023-11-30 00:00:00\n",
      "2023-11-30 03:00:00\n",
      "2023-11-30 06:00:00\n",
      "2023-11-30 09:00:00\n",
      "2023-11-30 12:00:00\n",
      "2023-11-30 15:00:00\n",
      "2023-11-30 18:00:00\n",
      "2023-11-30 21:00:00\n",
      "2023-12-01 00:00:00\n",
      "2023-12-01 03:00:00\n",
      "2023-12-01 06:00:00\n",
      "2023-12-01 09:00:00\n",
      "2023-12-01 12:00:00\n",
      "2023-12-01 15:00:00\n",
      "2023-12-01 18:00:00\n",
      "2023-12-01 21:00:00\n",
      "2023-12-02 00:00:00\n",
      "2023-12-02 03:00:00\n",
      "2023-12-02 06:00:00\n",
      "2023-12-02 09:00:00\n",
      "2023-12-02 12:00:00\n",
      "2023-12-02 15:00:00\n",
      "2023-12-02 18:00:00\n",
      "2023-12-02 21:00:00\n",
      "2023-12-03 00:00:00\n",
      "2023-12-03 03:00:00\n",
      "2023-12-03 06:00:00\n",
      "2023-12-03 09:00:00\n",
      "2023-12-03 12:00:00\n",
      "2023-12-03 15:00:00\n",
      "2023-12-03 18:00:00\n",
      "2023-12-03 21:00:00\n",
      "2023-12-04 00:00:00\n",
      "2023-12-04 03:00:00\n",
      "2023-12-04 06:00:00\n",
      "2023-12-04 09:00:00\n",
      "2023-12-04 12:00:00\n",
      "2023-12-04 15:00:00\n",
      "2023-12-04 18:00:00\n",
      "2023-12-04 21:00:00\n"
     ]
    }
   ],
   "source": [
    "# Print forecast times\n",
    "for forecast in responseF[\"list\"]:\n",
    "    print(forecast[\"dt_txt\"])"
   ]
  },
  {
   "cell_type": "markdown",
   "metadata": {
    "slideshow": {
     "slide_type": "slide"
    }
   },
   "source": [
    "## Make plots of omnipresent measurements and events\n",
    "We will later look at missing data, data only sporadically appearing and so on."
   ]
  },
  {
   "cell_type": "code",
   "execution_count": 15,
   "metadata": {
    "slideshow": {
     "slide_type": "-"
    }
   },
   "outputs": [],
   "source": [
    "# Air pressure per period\n",
    "pressures = []\n",
    "timestamps = []\n",
    "for forecast in responseF[\"list\"]:\n",
    "    pressures.append(forecast[\"main\"][\"pressure\"])\n",
    "    timestamps.append(dt.datetime.fromtimestamp(forecast[\"dt\"]))"
   ]
  },
  {
   "cell_type": "code",
   "execution_count": 16,
   "metadata": {
    "slideshow": {
     "slide_type": "slide"
    }
   },
   "outputs": [
    {
     "data": {
      "image/png": "[encoded data removed]",
      "text/plain": [
       "<Figure size 640x480 with 1 Axes>"
      ]
     },
     "metadata": {},
     "output_type": "display_data"
    }
   ],
   "source": [
    "import matplotlib.pyplot as plt\n",
    "plt.bar(timestamps, pressures)\n",
    "plt.xticks(rotation=45)\n",
    "plt.ylim(950, 1050)\n",
    "plt.grid()\n",
    "plt.ylabel(\"Air pressure (hPa)\")\n",
    "plt.title(f\"Forecasted air pressure in {CITY}\")\n",
    "plt.show()"
   ]
  },
  {
   "cell_type": "markdown",
   "metadata": {
    "slideshow": {
     "slide_type": "slide"
    }
   },
   "source": [
    "## Exercise\n",
    "- Make a new forecast request for your own hometown. Call your response something else than responseF.\n",
    "- If available, plot the humidity like we did with air pressure."
   ]
  },
  {
   "cell_type": "markdown",
   "metadata": {
    "slideshow": {
     "slide_type": "slide"
    }
   },
   "source": [
    "### Precipitation\n",
    "- ... comes in two main flavours: rain and snow.\n",
    "- We need to check which is present and set to zero if it is abscent."
   ]
  },
  {
   "cell_type": "code",
   "execution_count": 17,
   "metadata": {
    "slideshow": {
     "slide_type": "-"
    }
   },
   "outputs": [],
   "source": [
    "rain = []\n",
    "snow = []\n",
    "for forecast in responseF[\"list\"]:\n",
    "    try: # Check if rain is present in forecast\n",
    "        rain.append(forecast[\"rain\"][\"3h\"])\n",
    "    except KeyError:\n",
    "        rain.append(0)\n",
    "    try: # Check if snow is present in forecast\n",
    "        snow.append(forecast[\"snow\"][\"3h\"])\n",
    "    except KeyError:\n",
    "        snow.append(0)"
   ]
  },
  {
   "cell_type": "code",
   "execution_count": 18,
   "metadata": {
    "slideshow": {
     "slide_type": "slide"
    }
   },
   "outputs": [
    {
     "data": {
      "image/png": "[encoded data removed]",
      "text/plain": [
       "<Figure size 640x480 with 1 Axes>"
      ]
     },
     "metadata": {},
     "output_type": "display_data"
    }
   ],
   "source": [
    "# Stacked bar chart with rain and snow\n",
    "plt.bar(timestamps, rain, label=\"Rain\")\n",
    "plt.bar(timestamps, snow, label=\"Snow\")\n",
    "plt.xticks(rotation=45)\n",
    "plt.grid()\n",
    "plt.ylabel(\"Precipitation (mm)\")\n",
    "plt.title(f\"Forecasted precipitation in {CITY}\")\n",
    "plt.legend()\n",
    "plt.show()\n"
   ]
  },
  {
   "cell_type": "markdown",
   "metadata": {
    "slideshow": {
     "slide_type": "slide"
    }
   },
   "source": [
    "```{seealso} Resources\n",
    ":class: tip\n",
    "- [YouTube: NeuralNine's video (15m:32s)](https://www.youtube.com/watch?v=9P5MY_2i7K8)\n",
    "```"
   ]
  }
 ],
 "metadata": {
  "celltoolbar": "Slideshow",
  "kernelspec": {
   "display_name": "Python 3 (ipykernel)",
   "language": "python",
   "name": "python3"
  },
  "language_info": {
   "codemirror_mode": {
    "name": "ipython",
    "version": 3
   },
   "file_extension": ".py",
   "mimetype": "text/x-python",
   "name": "python",
   "nbconvert_exporter": "python",
   "pygments_lexer": "ipython3",
   "version": "3.11.6"
  }
 },
 "nbformat": 4,
 "nbformat_minor": 2
}