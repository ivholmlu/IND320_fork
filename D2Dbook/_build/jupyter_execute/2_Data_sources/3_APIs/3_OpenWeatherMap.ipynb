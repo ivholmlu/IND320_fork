{
 "cells": [
  {
   "cell_type": "markdown",
   "metadata": {
    "slideshow": {
     "slide_type": "slide"
    }
   },
   "source": [
    "# Demonstration of API using OpenWeatherMap.org\n",
    "This demonstration is heavily inspired by [NeuralNine's video](https://www.youtube.com/watch?v=9P5MY_2i7K8).  \n",
    "You need a free account [from here](https://openweathermap.org/api).  \n",
    "The VS Code extension _JSON viewer_ is recommended for viewing downloaded JSON content.  \n",
    "  - Set your maximum API calls to 1000 per day to make sure you are under the limit for billing. \n",
    "  - To run the examples, download your API key, save it in the right folder (see below) in a file called _api\\_key\\_OpenWeather_, containing only the key (no spaces or \"enters\")."
   ]
  },
  {
   "cell_type": "code",
   "execution_count": 1,
   "metadata": {
    "slideshow": {
     "slide_type": "fragment"
    }
   },
   "outputs": [],
   "source": [
    "# Imports\n",
    "import datetime as dt\n",
    "import requests\n",
    "import json"
   ]
  },
  {
   "cell_type": "markdown",
   "metadata": {
    "slideshow": {
     "slide_type": "slide"
    }
   },
   "source": [
    "## Current weather\n",
    "### Common definitions to use for all requests"
   ]
  },
  {
   "cell_type": "code",
   "execution_count": 2,
   "metadata": {
    "slideshow": {
     "slide_type": "-"
    }
   },
   "outputs": [],
   "source": [
    "BASE_URL = \"http://api.openweathermap.org/data/2.5/weather?\"\n",
    "API_KEY = open('../../../No_sync/api_key_OpenWeather','r').read()\n",
    "CITY = \"Ski\"\n",
    "\n",
    "url = BASE_URL + \"q=\" + CITY + \"&appid=\" + API_KEY"
   ]
  },
  {
   "cell_type": "markdown",
   "metadata": {
    "slideshow": {
     "slide_type": "slide"
    }
   },
   "source": [
    "## Request current weather in chosen city"
   ]
  },
  {
   "cell_type": "code",
   "execution_count": 3,
   "metadata": {
    "slideshow": {
     "slide_type": "fragment"
    }
   },
   "outputs": [
    {
     "name": "stdout",
     "output_type": "stream",
     "text": [
      "{'coord': {'lon': 10.8358, 'lat': 59.7195}, 'weather': [{'id': 804, 'main': 'Clouds', 'description': 'overcast clouds', 'icon': '04d'}], 'base': 'stations', 'main': {'temp': 270.78, 'feels_like': 266.1, 'temp_min': 268.96, 'temp_max': 272.53, 'pressure': 991, 'humidity': 57, 'sea_level': 991, 'grnd_level': 974}, 'visibility': 10000, 'wind': {'speed': 3.81, 'deg': 0, 'gust': 12.68}, 'clouds': {'all': 100}, 'dt': 1700815502, 'sys': {'type': 2, 'id': 2012246, 'country': 'NO', 'sunrise': 1700811205, 'sunset': 1700836403}, 'timezone': 3600, 'id': 3139081, 'name': 'Ski', 'cod': 200}\n"
     ]
    }
   ],
   "source": [
    "response = requests.get(url).json()\n",
    "print(response)"
   ]
  },
  {
   "cell_type": "code",
   "execution_count": 4,
   "metadata": {
    "slideshow": {
     "slide_type": "fragment"
    }
   },
   "outputs": [],
   "source": [
    "# Write JSON to file for viewing\n",
    "with open('downloads/weather.json', 'w') as f:\n",
    "    json.dump(response, f, indent=4)"
   ]
  },
  {
   "cell_type": "markdown",
   "metadata": {
    "slideshow": {
     "slide_type": "slide"
    }
   },
   "source": [
    "## Conversion functions\n",
    "Changing scales can make results more interpretable"
   ]
  },
  {
   "cell_type": "code",
   "execution_count": 5,
   "metadata": {
    "slideshow": {
     "slide_type": "-"
    }
   },
   "outputs": [],
   "source": [
    "# Kelvin to Celsius\n",
    "def kelvin_to_celsius(temp):\n",
    "    return temp - 273.15\n",
    "\n",
    "# Meters per second to knots\n",
    "def mps_to_knots(speed):\n",
    "    return speed * 1.943844"
   ]
  },
  {
   "cell_type": "markdown",
   "metadata": {
    "slideshow": {
     "slide_type": "slide"
    }
   },
   "source": [
    "## Print some weather properties"
   ]
  },
  {
   "cell_type": "code",
   "execution_count": 6,
   "metadata": {
    "slideshow": {
     "slide_type": "-"
    }
   },
   "outputs": [
    {
     "name": "stdout",
     "output_type": "stream",
     "text": [
      "The current temperature in Ski is -2.4°C\n"
     ]
    }
   ],
   "source": [
    "# Current temperature\n",
    "temp_kelvin = response['main']['temp']\n",
    "temp_celsius = kelvin_to_celsius(temp_kelvin)\n",
    "print(f\"The current temperature in {CITY} is {temp_celsius:.1f}°C\")"
   ]
  },
  {
   "cell_type": "code",
   "execution_count": 7,
   "metadata": {
    "slideshow": {
     "slide_type": "slide"
    }
   },
   "outputs": [
    {
     "name": "stdout",
     "output_type": "stream",
     "text": [
      "Sunrise today is at 08:33 and sunset is at 15:33\n"
     ]
    }
   ],
   "source": [
    "# Sunrise and sunset today in local time\n",
    "sunrise = dt.datetime.fromtimestamp(response['sys']['sunrise'])\n",
    "sunset = dt.datetime.fromtimestamp(response['sys']['sunset'])\n",
    "print(f\"Sunrise today is at {sunrise:%H:%M} and sunset is at {sunset:%H:%M}\")"
   ]
  },
  {
   "cell_type": "code",
   "execution_count": 8,
   "metadata": {
    "slideshow": {
     "slide_type": "fragment"
    }
   },
   "outputs": [
    {
     "name": "stdout",
     "output_type": "stream",
     "text": [
      "Wind today is from 0° at 7.4 knots\n"
     ]
    }
   ],
   "source": [
    "# Wind direction and speed\n",
    "wind_knots = mps_to_knots(response['wind']['speed'])\n",
    "print(f\"Wind today is from {response['wind']['deg']}° at {round(wind_knots,1)} knots\")"
   ]
  },
  {
   "cell_type": "markdown",
   "metadata": {
    "slideshow": {
     "slide_type": "slide"
    }
   },
   "source": [
    "## Forecasted weather\n",
    "### Common definitions to use for all requests"
   ]
  },
  {
   "cell_type": "code",
   "execution_count": 9,
   "metadata": {
    "slideshow": {
     "slide_type": "-"
    }
   },
   "outputs": [],
   "source": [
    "BASE_URL = \"http://api.openweathermap.org/data/2.5/forecast?\"\n",
    "CITY = \"Noresund\"\n",
    "\n",
    "urlF = BASE_URL + \"q=\" + CITY + \"&appid=\" + API_KEY"
   ]
  },
  {
   "cell_type": "markdown",
   "metadata": {
    "slideshow": {
     "slide_type": "slide"
    }
   },
   "source": [
    "## Request forecasted weather in chosen city"
   ]
  },
  {
   "cell_type": "code",
   "execution_count": 10,
   "metadata": {
    "slideshow": {
     "slide_type": "-"
    }
   },
   "outputs": [
    {
     "name": "stdout",
     "output_type": "stream",
     "text": [
      "{'cod': '200', 'message': 0, 'cnt': 40, 'list': [{'dt': 1700816400, 'main': {'temp': 272.09, 'feels_like': 267.79, 'temp_min': 269.96, 'temp_max': 272.09, 'pressure': 994, 'sea_level': 994, 'grnd_level': 975, 'humidity': 82, 'temp_kf': 2.13}, 'weather': [{'id': 804, 'main': 'Clouds', 'description': 'overcast clouds', 'icon': '04d'}], 'clouds': {'all': 100}, 'wind': {'speed': 3.7, 'deg': 337, 'gust': 10}, 'visibility': 10000, 'pop': 0, 'sys': {'pod': 'd'}, 'dt_txt': '2023-11-24 09:00:00'}, {'dt': 1700827200, 'main': {'temp': 272.47, 'feels_like': 267.67, 'temp_min': 272.47, 'temp_max': 273.24, 'pressure': 995, 'sea_level': 995, 'grnd_level': 979, 'humidity': 75, 'temp_kf': -0.77}, 'weather': [{'id': 804, 'main': 'Clouds', 'description': 'overcast clouds', 'icon': '04d'}], 'clouds': {'all': 92}, 'wind': {'speed': 4.53, 'deg': 335, 'gust': 13.47}, 'visibility': 10000, 'pop': 0, 'sys': {'pod': 'd'}, 'dt_txt': '2023-11-24 12:00:00'}, {'dt': 1700838000, 'main': {'temp': 270.67, 'feels_like': 266.75, 'temp_min': 269.96, 'temp_max': 270.67, 'pressure': 998, 'sea_level': 998, 'grnd_level': 981, 'humidity': 75, 'temp_kf': 0.71}, 'weather': [{'id': 802, 'main': 'Clouds', 'description': 'scattered clouds', 'icon': '03n'}], 'clouds': {'all': 44}, 'wind': {'speed': 2.92, 'deg': 302, 'gust': 5.51}, 'visibility': 10000, 'pop': 0, 'sys': {'pod': 'n'}, 'dt_txt': '2023-11-24 15:00:00'}, {'dt': 1700848800, 'main': {'temp': 268.9, 'feels_like': 264.76, 'temp_min': 268.9, 'temp_max': 268.9, 'pressure': 1000, 'sea_level': 1000, 'grnd_level': 981, 'humidity': 77, 'temp_kf': 0}, 'weather': [{'id': 803, 'main': 'Clouds', 'description': 'broken clouds', 'icon': '04n'}], 'clouds': {'all': 54}, 'wind': {'speed': 2.79, 'deg': 295, 'gust': 3.71}, 'visibility': 10000, 'pop': 0, 'sys': {'pod': 'n'}, 'dt_txt': '2023-11-24 18:00:00'}, {'dt': 1700859600, 'main': {'temp': 268.35, 'feels_like': 263.97, 'temp_min': 268.35, 'temp_max': 268.35, 'pressure': 1002, 'sea_level': 1002, 'grnd_level': 983, 'humidity': 80, 'temp_kf': 0}, 'weather': [{'id': 804, 'main': 'Clouds', 'description': 'overcast clouds', 'icon': '04n'}], 'clouds': {'all': 100}, 'wind': {'speed': 2.92, 'deg': 316, 'gust': 4.9}, 'visibility': 10000, 'pop': 0, 'sys': {'pod': 'n'}, 'dt_txt': '2023-11-24 21:00:00'}, {'dt': 1700870400, 'main': {'temp': 269.42, 'feels_like': 265.07, 'temp_min': 269.42, 'temp_max': 269.42, 'pressure': 1004, 'sea_level': 1004, 'grnd_level': 985, 'humidity': 77, 'temp_kf': 0}, 'weather': [{'id': 804, 'main': 'Clouds', 'description': 'overcast clouds', 'icon': '04n'}], 'clouds': {'all': 98}, 'wind': {'speed': 3.1, 'deg': 314, 'gust': 7.33}, 'visibility': 10000, 'pop': 0, 'sys': {'pod': 'n'}, 'dt_txt': '2023-11-25 00:00:00'}, {'dt': 1700881200, 'main': {'temp': 267.61, 'feels_like': 263.87, 'temp_min': 267.61, 'temp_max': 267.61, 'pressure': 1007, 'sea_level': 1007, 'grnd_level': 988, 'humidity': 83, 'temp_kf': 0}, 'weather': [{'id': 803, 'main': 'Clouds', 'description': 'broken clouds', 'icon': '04n'}], 'clouds': {'all': 61}, 'wind': {'speed': 2.26, 'deg': 313, 'gust': 3.8}, 'visibility': 10000, 'pop': 0, 'sys': {'pod': 'n'}, 'dt_txt': '2023-11-25 03:00:00'}, {'dt': 1700892000, 'main': {'temp': 267.01, 'feels_like': 263.32, 'temp_min': 267.01, 'temp_max': 267.01, 'pressure': 1008, 'sea_level': 1008, 'grnd_level': 988, 'humidity': 81, 'temp_kf': 0}, 'weather': [{'id': 802, 'main': 'Clouds', 'description': 'scattered clouds', 'icon': '03n'}], 'clouds': {'all': 40}, 'wind': {'speed': 2.15, 'deg': 310, 'gust': 3.11}, 'visibility': 10000, 'pop': 0, 'sys': {'pod': 'n'}, 'dt_txt': '2023-11-25 06:00:00'}, {'dt': 1700902800, 'main': {'temp': 267.93, 'feels_like': 265.6, 'temp_min': 267.93, 'temp_max': 267.93, 'pressure': 1009, 'sea_level': 1009, 'grnd_level': 990, 'humidity': 80, 'temp_kf': 0}, 'weather': [{'id': 802, 'main': 'Clouds', 'description': 'scattered clouds', 'icon': '03d'}], 'clouds': {'all': 39}, 'wind': {'speed': 1.42, 'deg': 319, 'gust': 2.21}, 'visibility': 10000, 'pop': 0, 'sys': {'pod': 'd'}, 'dt_txt': '2023-11-25 09:00:00'}, {'dt': 1700913600, 'main': {'temp': 270.61, 'feels_like': 270.61, 'temp_min': 270.61, 'temp_max': 270.61, 'pressure': 1010, 'sea_level': 1010, 'grnd_level': 991, 'humidity': 80, 'temp_kf': 0}, 'weather': [{'id': 803, 'main': 'Clouds', 'description': 'broken clouds', 'icon': '04d'}], 'clouds': {'all': 60}, 'wind': {'speed': 0.58, 'deg': 3, 'gust': 1.71}, 'visibility': 10000, 'pop': 0, 'sys': {'pod': 'd'}, 'dt_txt': '2023-11-25 12:00:00'}, {'dt': 1700924400, 'main': {'temp': 267.47, 'feels_like': 264.94, 'temp_min': 267.47, 'temp_max': 267.47, 'pressure': 1012, 'sea_level': 1012, 'grnd_level': 992, 'humidity': 86, 'temp_kf': 0}, 'weather': [{'id': 803, 'main': 'Clouds', 'description': 'broken clouds', 'icon': '04n'}], 'clouds': {'all': 75}, 'wind': {'speed': 1.49, 'deg': 306, 'gust': 1.67}, 'visibility': 10000, 'pop': 0, 'sys': {'pod': 'n'}, 'dt_txt': '2023-11-25 15:00:00'}, {'dt': 1700935200, 'main': {'temp': 266.31, 'feels_like': 262.85, 'temp_min': 266.31, 'temp_max': 266.31, 'pressure': 1012, 'sea_level': 1012, 'grnd_level': 993, 'humidity': 84, 'temp_kf': 0}, 'weather': [{'id': 803, 'main': 'Clouds', 'description': 'broken clouds', 'icon': '04n'}], 'clouds': {'all': 56}, 'wind': {'speed': 1.92, 'deg': 306, 'gust': 2.09}, 'visibility': 10000, 'pop': 0, 'sys': {'pod': 'n'}, 'dt_txt': '2023-11-25 18:00:00'}, {'dt': 1700946000, 'main': {'temp': 265.92, 'feels_like': 262.13, 'temp_min': 265.92, 'temp_max': 265.92, 'pressure': 1012, 'sea_level': 1012, 'grnd_level': 993, 'humidity': 84, 'temp_kf': 0}, 'weather': [{'id': 802, 'main': 'Clouds', 'description': 'scattered clouds', 'icon': '03n'}], 'clouds': {'all': 30}, 'wind': {'speed': 2.09, 'deg': 303, 'gust': 2.14}, 'visibility': 10000, 'pop': 0, 'sys': {'pod': 'n'}, 'dt_txt': '2023-11-25 21:00:00'}, {'dt': 1700956800, 'main': {'temp': 265.84, 'feels_like': 262.24, 'temp_min': 265.84, 'temp_max': 265.84, 'pressure': 1012, 'sea_level': 1012, 'grnd_level': 993, 'humidity': 84, 'temp_kf': 0}, 'weather': [{'id': 803, 'main': 'Clouds', 'description': 'broken clouds', 'icon': '04n'}], 'clouds': {'all': 62}, 'wind': {'speed': 1.96, 'deg': 305, 'gust': 1.99}, 'visibility': 10000, 'pop': 0, 'sys': {'pod': 'n'}, 'dt_txt': '2023-11-26 00:00:00'}, {'dt': 1700967600, 'main': {'temp': 265.11, 'feels_like': 261.68, 'temp_min': 265.11, 'temp_max': 265.11, 'pressure': 1012, 'sea_level': 1012, 'grnd_level': 993, 'humidity': 84, 'temp_kf': 0}, 'weather': [{'id': 803, 'main': 'Clouds', 'description': 'broken clouds', 'icon': '04n'}], 'clouds': {'all': 81}, 'wind': {'speed': 1.79, 'deg': 310, 'gust': 1.92}, 'visibility': 10000, 'pop': 0, 'sys': {'pod': 'n'}, 'dt_txt': '2023-11-26 03:00:00'}, {'dt': 1700978400, 'main': {'temp': 264.53, 'feels_like': 260.75, 'temp_min': 264.53, 'temp_max': 264.53, 'pressure': 1013, 'sea_level': 1013, 'grnd_level': 993, 'humidity': 85, 'temp_kf': 0}, 'weather': [{'id': 803, 'main': 'Clouds', 'description': 'broken clouds', 'icon': '04n'}], 'clouds': {'all': 77}, 'wind': {'speed': 1.94, 'deg': 325, 'gust': 2.31}, 'visibility': 10000, 'pop': 0, 'sys': {'pod': 'n'}, 'dt_txt': '2023-11-26 06:00:00'}, {'dt': 1700989200, 'main': {'temp': 265.2, 'feels_like': 261.98, 'temp_min': 265.2, 'temp_max': 265.2, 'pressure': 1013, 'sea_level': 1013, 'grnd_level': 994, 'humidity': 83, 'temp_kf': 0}, 'weather': [{'id': 802, 'main': 'Clouds', 'description': 'scattered clouds', 'icon': '03d'}], 'clouds': {'all': 47}, 'wind': {'speed': 1.68, 'deg': 331, 'gust': 2.21}, 'visibility': 10000, 'pop': 0, 'sys': {'pod': 'd'}, 'dt_txt': '2023-11-26 09:00:00'}, {'dt': 1701000000, 'main': {'temp': 268.24, 'feels_like': 268.24, 'temp_min': 268.24, 'temp_max': 268.24, 'pressure': 1013, 'sea_level': 1013, 'grnd_level': 994, 'humidity': 80, 'temp_kf': 0}, 'weather': [{'id': 803, 'main': 'Clouds', 'description': 'broken clouds', 'icon': '04d'}], 'clouds': {'all': 58}, 'wind': {'speed': 0.94, 'deg': 343, 'gust': 1.51}, 'visibility': 10000, 'pop': 0, 'sys': {'pod': 'd'}, 'dt_txt': '2023-11-26 12:00:00'}, {'dt': 1701010800, 'main': {'temp': 264.71, 'feels_like': 261.33, 'temp_min': 264.71, 'temp_max': 264.71, 'pressure': 1014, 'sea_level': 1014, 'grnd_level': 995, 'humidity': 86, 'temp_kf': 0}, 'weather': [{'id': 801, 'main': 'Clouds', 'description': 'few clouds', 'icon': '02n'}], 'clouds': {'all': 18}, 'wind': {'speed': 1.73, 'deg': 328, 'gust': 1.59}, 'visibility': 10000, 'pop': 0, 'sys': {'pod': 'n'}, 'dt_txt': '2023-11-26 15:00:00'}, {'dt': 1701021600, 'main': {'temp': 263.81, 'feels_like': 260.04, 'temp_min': 263.81, 'temp_max': 263.81, 'pressure': 1016, 'sea_level': 1016, 'grnd_level': 996, 'humidity': 85, 'temp_kf': 0}, 'weather': [{'id': 801, 'main': 'Clouds', 'description': 'few clouds', 'icon': '02n'}], 'clouds': {'all': 18}, 'wind': {'speed': 1.87, 'deg': 320, 'gust': 2.18}, 'visibility': 10000, 'pop': 0, 'sys': {'pod': 'n'}, 'dt_txt': '2023-11-26 18:00:00'}, {'dt': 1701032400, 'main': {'temp': 263.34, 'feels_like': 259.49, 'temp_min': 263.34, 'temp_max': 263.34, 'pressure': 1017, 'sea_level': 1017, 'grnd_level': 997, 'humidity': 85, 'temp_kf': 0}, 'weather': [{'id': 803, 'main': 'Clouds', 'description': 'broken clouds', 'icon': '04n'}], 'clouds': {'all': 60}, 'wind': {'speed': 1.87, 'deg': 323, 'gust': 2.44}, 'visibility': 10000, 'pop': 0, 'sys': {'pod': 'n'}, 'dt_txt': '2023-11-26 21:00:00'}, {'dt': 1701043200, 'main': {'temp': 262.67, 'feels_like': 258.68, 'temp_min': 262.67, 'temp_max': 262.67, 'pressure': 1018, 'sea_level': 1018, 'grnd_level': 998, 'humidity': 85, 'temp_kf': 0}, 'weather': [{'id': 803, 'main': 'Clouds', 'description': 'broken clouds', 'icon': '04n'}], 'clouds': {'all': 57}, 'wind': {'speed': 1.89, 'deg': 324, 'gust': 2.37}, 'visibility': 10000, 'pop': 0, 'sys': {'pod': 'n'}, 'dt_txt': '2023-11-27 00:00:00'}, {'dt': 1701054000, 'main': {'temp': 262.31, 'feels_like': 258.12, 'temp_min': 262.31, 'temp_max': 262.31, 'pressure': 1018, 'sea_level': 1018, 'grnd_level': 999, 'humidity': 85, 'temp_kf': 0}, 'weather': [{'id': 801, 'main': 'Clouds', 'description': 'few clouds', 'icon': '02n'}], 'clouds': {'all': 22}, 'wind': {'speed': 1.97, 'deg': 322, 'gust': 2.6}, 'visibility': 10000, 'pop': 0, 'sys': {'pod': 'n'}, 'dt_txt': '2023-11-27 03:00:00'}, {'dt': 1701064800, 'main': {'temp': 262.16, 'feels_like': 257.77, 'temp_min': 262.16, 'temp_max': 262.16, 'pressure': 1019, 'sea_level': 1019, 'grnd_level': 999, 'humidity': 85, 'temp_kf': 0}, 'weather': [{'id': 801, 'main': 'Clouds', 'description': 'few clouds', 'icon': '02n'}], 'clouds': {'all': 22}, 'wind': {'speed': 2.07, 'deg': 326, 'gust': 2.73}, 'visibility': 10000, 'pop': 0, 'sys': {'pod': 'n'}, 'dt_txt': '2023-11-27 06:00:00'}, {'dt': 1701075600, 'main': {'temp': 262.87, 'feels_like': 258.84, 'temp_min': 262.87, 'temp_max': 262.87, 'pressure': 1020, 'sea_level': 1020, 'grnd_level': 1000, 'humidity': 84, 'temp_kf': 0}, 'weather': [{'id': 802, 'main': 'Clouds', 'description': 'scattered clouds', 'icon': '03d'}], 'clouds': {'all': 27}, 'wind': {'speed': 1.93, 'deg': 332, 'gust': 3.01}, 'visibility': 10000, 'pop': 0, 'sys': {'pod': 'd'}, 'dt_txt': '2023-11-27 09:00:00'}, {'dt': 1701086400, 'main': {'temp': 266.31, 'feels_like': 266.31, 'temp_min': 266.31, 'temp_max': 266.31, 'pressure': 1019, 'sea_level': 1019, 'grnd_level': 999, 'humidity': 84, 'temp_kf': 0}, 'weather': [{'id': 803, 'main': 'Clouds', 'description': 'broken clouds', 'icon': '04d'}], 'clouds': {'all': 52}, 'wind': {'speed': 1.18, 'deg': 6, 'gust': 2}, 'visibility': 10000, 'pop': 0, 'sys': {'pod': 'd'}, 'dt_txt': '2023-11-27 12:00:00'}, {'dt': 1701097200, 'main': {'temp': 265.09, 'feels_like': 265.09, 'temp_min': 265.09, 'temp_max': 265.09, 'pressure': 1020, 'sea_level': 1020, 'grnd_level': 1000, 'humidity': 94, 'temp_kf': 0}, 'weather': [{'id': 600, 'main': 'Snow', 'description': 'light snow', 'icon': '13n'}], 'clouds': {'all': 100}, 'wind': {'speed': 1.13, 'deg': 6, 'gust': 1.43}, 'visibility': 739, 'pop': 0.31, 'snow': {'3h': 0.11}, 'sys': {'pod': 'n'}, 'dt_txt': '2023-11-27 15:00:00'}, {'dt': 1701108000, 'main': {'temp': 265.88, 'feels_like': 265.88, 'temp_min': 265.88, 'temp_max': 265.88, 'pressure': 1020, 'sea_level': 1020, 'grnd_level': 1000, 'humidity': 93, 'temp_kf': 0}, 'weather': [{'id': 600, 'main': 'Snow', 'description': 'light snow', 'icon': '13n'}], 'clouds': {'all': 100}, 'wind': {'speed': 1, 'deg': 37, 'gust': 1.56}, 'visibility': 784, 'pop': 0.22, 'snow': {'3h': 0.32}, 'sys': {'pod': 'n'}, 'dt_txt': '2023-11-27 18:00:00'}, {'dt': 1701118800, 'main': {'temp': 265.57, 'feels_like': 265.57, 'temp_min': 265.57, 'temp_max': 265.57, 'pressure': 1020, 'sea_level': 1020, 'grnd_level': 1001, 'humidity': 92, 'temp_kf': 0}, 'weather': [{'id': 600, 'main': 'Snow', 'description': 'light snow', 'icon': '13n'}], 'clouds': {'all': 100}, 'wind': {'speed': 1.04, 'deg': 46, 'gust': 1.82}, 'visibility': 1130, 'pop': 0.52, 'snow': {'3h': 0.21}, 'sys': {'pod': 'n'}, 'dt_txt': '2023-11-27 21:00:00'}, {'dt': 1701129600, 'main': {'temp': 263.93, 'feels_like': 263.93, 'temp_min': 263.93, 'temp_max': 263.93, 'pressure': 1020, 'sea_level': 1020, 'grnd_level': 1001, 'humidity': 91, 'temp_kf': 0}, 'weather': [{'id': 600, 'main': 'Snow', 'description': 'light snow', 'icon': '13n'}], 'clouds': {'all': 99}, 'wind': {'speed': 0.96, 'deg': 25, 'gust': 1.39}, 'visibility': 7954, 'pop': 0.2, 'snow': {'3h': 0.17}, 'sys': {'pod': 'n'}, 'dt_txt': '2023-11-28 00:00:00'}, {'dt': 1701140400, 'main': {'temp': 261.95, 'feels_like': 258.58, 'temp_min': 261.95, 'temp_max': 261.95, 'pressure': 1020, 'sea_level': 1020, 'grnd_level': 1000, 'humidity': 90, 'temp_kf': 0}, 'weather': [{'id': 803, 'main': 'Clouds', 'description': 'broken clouds', 'icon': '04n'}], 'clouds': {'all': 81}, 'wind': {'speed': 1.52, 'deg': 336, 'gust': 1.76}, 'visibility': 10000, 'pop': 0, 'sys': {'pod': 'n'}, 'dt_txt': '2023-11-28 03:00:00'}, {'dt': 1701151200, 'main': {'temp': 260.18, 'feels_like': 256.06, 'temp_min': 260.18, 'temp_max': 260.18, 'pressure': 1020, 'sea_level': 1020, 'grnd_level': 1000, 'humidity': 88, 'temp_kf': 0}, 'weather': [{'id': 803, 'main': 'Clouds', 'description': 'broken clouds', 'icon': '04n'}], 'clouds': {'all': 75}, 'wind': {'speed': 1.75, 'deg': 328, 'gust': 1.93}, 'visibility': 10000, 'pop': 0, 'sys': {'pod': 'n'}, 'dt_txt': '2023-11-28 06:00:00'}, {'dt': 1701162000, 'main': {'temp': 260.04, 'feels_like': 255.69, 'temp_min': 260.04, 'temp_max': 260.04, 'pressure': 1019, 'sea_level': 1019, 'grnd_level': 999, 'humidity': 84, 'temp_kf': 0}, 'weather': [{'id': 802, 'main': 'Clouds', 'description': 'scattered clouds', 'icon': '03d'}], 'clouds': {'all': 25}, 'wind': {'speed': 1.86, 'deg': 316, 'gust': 2.81}, 'visibility': 10000, 'pop': 0, 'sys': {'pod': 'd'}, 'dt_txt': '2023-11-28 09:00:00'}, {'dt': 1701172800, 'main': {'temp': 262.78, 'feels_like': 258.91, 'temp_min': 262.78, 'temp_max': 262.78, 'pressure': 1017, 'sea_level': 1017, 'grnd_level': 997, 'humidity': 78, 'temp_kf': 0}, 'weather': [{'id': 801, 'main': 'Clouds', 'description': 'few clouds', 'icon': '02d'}], 'clouds': {'all': 16}, 'wind': {'speed': 1.83, 'deg': 320, 'gust': 3.56}, 'visibility': 10000, 'pop': 0, 'sys': {'pod': 'd'}, 'dt_txt': '2023-11-28 12:00:00'}, {'dt': 1701183600, 'main': {'temp': 259.48, 'feels_like': 254.49, 'temp_min': 259.48, 'temp_max': 259.48, 'pressure': 1017, 'sea_level': 1017, 'grnd_level': 997, 'humidity': 83, 'temp_kf': 0}, 'weather': [{'id': 801, 'main': 'Clouds', 'description': 'few clouds', 'icon': '02n'}], 'clouds': {'all': 14}, 'wind': {'speed': 2.16, 'deg': 312, 'gust': 3.52}, 'visibility': 10000, 'pop': 0, 'sys': {'pod': 'n'}, 'dt_txt': '2023-11-28 15:00:00'}, {'dt': 1701194400, 'main': {'temp': 259.2, 'feels_like': 253.68, 'temp_min': 259.2, 'temp_max': 259.2, 'pressure': 1016, 'sea_level': 1016, 'grnd_level': 996, 'humidity': 81, 'temp_kf': 0}, 'weather': [{'id': 802, 'main': 'Clouds', 'description': 'scattered clouds', 'icon': '03n'}], 'clouds': {'all': 32}, 'wind': {'speed': 2.45, 'deg': 315, 'gust': 4.3}, 'visibility': 10000, 'pop': 0, 'sys': {'pod': 'n'}, 'dt_txt': '2023-11-28 18:00:00'}, {'dt': 1701205200, 'main': {'temp': 261.81, 'feels_like': 256.78, 'temp_min': 261.81, 'temp_max': 261.81, 'pressure': 1015, 'sea_level': 1015, 'grnd_level': 995, 'humidity': 76, 'temp_kf': 0}, 'weather': [{'id': 804, 'main': 'Clouds', 'description': 'overcast clouds', 'icon': '04n'}], 'clouds': {'all': 100}, 'wind': {'speed': 2.44, 'deg': 322, 'gust': 4.8}, 'visibility': 10000, 'pop': 0, 'sys': {'pod': 'n'}, 'dt_txt': '2023-11-28 21:00:00'}, {'dt': 1701216000, 'main': {'temp': 263.96, 'feels_like': 258.95, 'temp_min': 263.96, 'temp_max': 263.96, 'pressure': 1014, 'sea_level': 1014, 'grnd_level': 994, 'humidity': 74, 'temp_kf': 0}, 'weather': [{'id': 804, 'main': 'Clouds', 'description': 'overcast clouds', 'icon': '04n'}], 'clouds': {'all': 100}, 'wind': {'speed': 2.72, 'deg': 319, 'gust': 5.42}, 'visibility': 10000, 'pop': 0, 'sys': {'pod': 'n'}, 'dt_txt': '2023-11-29 00:00:00'}, {'dt': 1701226800, 'main': {'temp': 265.1, 'feels_like': 260.06, 'temp_min': 265.1, 'temp_max': 265.1, 'pressure': 1013, 'sea_level': 1013, 'grnd_level': 994, 'humidity': 80, 'temp_kf': 0}, 'weather': [{'id': 804, 'main': 'Clouds', 'description': 'overcast clouds', 'icon': '04n'}], 'clouds': {'all': 100}, 'wind': {'speed': 2.93, 'deg': 325, 'gust': 6.39}, 'visibility': 10000, 'pop': 0, 'sys': {'pod': 'n'}, 'dt_txt': '2023-11-29 03:00:00'}, {'dt': 1701237600, 'main': {'temp': 265.68, 'feels_like': 261.11, 'temp_min': 265.68, 'temp_max': 265.68, 'pressure': 1013, 'sea_level': 1013, 'grnd_level': 994, 'humidity': 90, 'temp_kf': 0}, 'weather': [{'id': 804, 'main': 'Clouds', 'description': 'overcast clouds', 'icon': '04n'}], 'clouds': {'all': 100}, 'wind': {'speed': 2.63, 'deg': 332, 'gust': 5.71}, 'visibility': 2463, 'pop': 0, 'sys': {'pod': 'n'}, 'dt_txt': '2023-11-29 06:00:00'}], 'city': {'id': 3144113, 'name': 'Noresund', 'coord': {'lat': 60.1803, 'lon': 9.6231}, 'country': 'NO', 'population': 1000, 'timezone': 3600, 'sunrise': 1700811698, 'sunset': 1700836492}}\n"
     ]
    }
   ],
   "source": [
    "responseF = requests.get(urlF).json()\n",
    "print(responseF)"
   ]
  },
  {
   "cell_type": "code",
   "execution_count": 11,
   "metadata": {
    "slideshow": {
     "slide_type": "slide"
    }
   },
   "outputs": [],
   "source": [
    "# Write JSON to file for viewing\n",
    "with open('downloads/forecast.json', 'w') as f:\n",
    "    json.dump(responseF, f, indent=4)"
   ]
  },
  {
   "cell_type": "markdown",
   "metadata": {
    "slideshow": {
     "slide_type": "slide"
    }
   },
   "source": [
    "### When and what?\n",
    "Check contents and time stamps"
   ]
  },
  {
   "cell_type": "code",
   "execution_count": 12,
   "metadata": {
    "slideshow": {
     "slide_type": "-"
    }
   },
   "outputs": [
    {
     "data": {
      "text/plain": [
       "dict_keys(['cod', 'message', 'cnt', 'list', 'city'])"
      ]
     },
     "execution_count": 12,
     "metadata": {},
     "output_type": "execute_result"
    }
   ],
   "source": [
    "# Content of responseF\n",
    "responseF.keys()"
   ]
  },
  {
   "cell_type": "code",
   "execution_count": 13,
   "metadata": {
    "slideshow": {
     "slide_type": "fragment"
    }
   },
   "outputs": [
    {
     "name": "stdout",
     "output_type": "stream",
     "text": [
      "40\n"
     ]
    }
   ],
   "source": [
    "# Number of forecasts\n",
    "print(len(responseF[\"list\"]))"
   ]
  },
  {
   "cell_type": "code",
   "execution_count": 14,
   "metadata": {
    "scrolled": true,
    "slideshow": {
     "slide_type": "slide"
    }
   },
   "outputs": [
    {
     "name": "stdout",
     "output_type": "stream",
     "text": [
      "2023-11-24 09:00:00\n",
      "2023-11-24 12:00:00\n",
      "2023-11-24 15:00:00\n",
      "2023-11-24 18:00:00\n",
      "2023-11-24 21:00:00\n",
      "2023-11-25 00:00:00\n",
      "2023-11-25 03:00:00\n",
      "2023-11-25 06:00:00\n",
      "2023-11-25 09:00:00\n",
      "2023-11-25 12:00:00\n",
      "2023-11-25 15:00:00\n",
      "2023-11-25 18:00:00\n",
      "2023-11-25 21:00:00\n",
      "2023-11-26 00:00:00\n",
      "2023-11-26 03:00:00\n",
      "2023-11-26 06:00:00\n",
      "2023-11-26 09:00:00\n",
      "2023-11-26 12:00:00\n",
      "2023-11-26 15:00:00\n",
      "2023-11-26 18:00:00\n",
      "2023-11-26 21:00:00\n",
      "2023-11-27 00:00:00\n",
      "2023-11-27 03:00:00\n",
      "2023-11-27 06:00:00\n",
      "2023-11-27 09:00:00\n",
      "2023-11-27 12:00:00\n",
      "2023-11-27 15:00:00\n",
      "2023-11-27 18:00:00\n",
      "2023-11-27 21:00:00\n",
      "2023-11-28 00:00:00\n",
      "2023-11-28 03:00:00\n",
      "2023-11-28 06:00:00\n",
      "2023-11-28 09:00:00\n",
      "2023-11-28 12:00:00\n",
      "2023-11-28 15:00:00\n",
      "2023-11-28 18:00:00\n",
      "2023-11-28 21:00:00\n",
      "2023-11-29 00:00:00\n",
      "2023-11-29 03:00:00\n",
      "2023-11-29 06:00:00\n"
     ]
    }
   ],
   "source": [
    "# Print forecast times\n",
    "for forecast in responseF[\"list\"]:\n",
    "    print(forecast[\"dt_txt\"])"
   ]
  },
  {
   "cell_type": "markdown",
   "metadata": {
    "slideshow": {
     "slide_type": "slide"
    }
   },
   "source": [
    "## Make plots of omnipresent measurements and events\n",
    "We will later look at missing data, data only sporadically appearing and so on."
   ]
  },
  {
   "cell_type": "code",
   "execution_count": 15,
   "metadata": {
    "slideshow": {
     "slide_type": "-"
    }
   },
   "outputs": [],
   "source": [
    "# Air pressure per period\n",
    "pressures = []\n",
    "timestamps = []\n",
    "for forecast in responseF[\"list\"]:\n",
    "    pressures.append(forecast[\"main\"][\"pressure\"])\n",
    "    timestamps.append(dt.datetime.fromtimestamp(forecast[\"dt\"]))"
   ]
  },
  {
   "cell_type": "code",
   "execution_count": 16,
   "metadata": {
    "slideshow": {
     "slide_type": "slide"
    }
   },
   "outputs": [
    {
     "data": {
      "image/png": "[encoded data removed]",
      "text/plain": [
       "<Figure size 640x480 with 1 Axes>"
      ]
     },
     "metadata": {},
     "output_type": "display_data"
    }
   ],
   "source": [
    "import matplotlib.pyplot as plt\n",
    "plt.bar(timestamps, pressures)\n",
    "plt.xticks(rotation=45)\n",
    "plt.ylim(950, 1050)\n",
    "plt.grid()\n",
    "plt.ylabel(\"Air pressure (hPa)\")\n",
    "plt.title(f\"Forecasted air pressure in {CITY}\")\n",
    "plt.show()"
   ]
  },
  {
   "cell_type": "markdown",
   "metadata": {
    "slideshow": {
     "slide_type": "slide"
    }
   },
   "source": [
    "## Exercise\n",
    "- Make a new forecast request for your own hometown. Call your response something else than responseF.\n",
    "- If available, plot the humidity like we did with air pressure."
   ]
  },
  {
   "cell_type": "markdown",
   "metadata": {
    "slideshow": {
     "slide_type": "slide"
    }
   },
   "source": [
    "### Precipitation\n",
    "- ... comes in two main flavours: rain and snow.\n",
    "- We need to check which is present and set to zero if it is abscent."
   ]
  },
  {
   "cell_type": "code",
   "execution_count": 17,
   "metadata": {
    "slideshow": {
     "slide_type": "-"
    }
   },
   "outputs": [],
   "source": [
    "rain = []\n",
    "snow = []\n",
    "for forecast in responseF[\"list\"]:\n",
    "    try: # Check if rain is present in forecast\n",
    "        rain.append(forecast[\"rain\"][\"3h\"])\n",
    "    except KeyError:\n",
    "        rain.append(0)\n",
    "    try: # Check if snow is present in forecast\n",
    "        snow.append(forecast[\"snow\"][\"3h\"])\n",
    "    except KeyError:\n",
    "        snow.append(0)"
   ]
  },
  {
   "cell_type": "code",
   "execution_count": 18,
   "metadata": {
    "slideshow": {
     "slide_type": "slide"
    }
   },
   "outputs": [
    {
     "data": {
      "image/png": "[encoded data removed]",
      "text/plain": [
       "<Figure size 640x480 with 1 Axes>"
      ]
     },
     "metadata": {},
     "output_type": "display_data"
    }
   ],
   "source": [
    "# Stacked bar chart with rain and snow\n",
    "plt.bar(timestamps, rain, label=\"Rain\")\n",
    "plt.bar(timestamps, snow, label=\"Snow\")\n",
    "plt.xticks(rotation=45)\n",
    "plt.grid()\n",
    "plt.ylabel(\"Precipitation (mm)\")\n",
    "plt.title(f\"Forecasted precipitation in {CITY}\")\n",
    "plt.legend()\n",
    "plt.show()\n"
   ]
  },
  {
   "cell_type": "markdown",
   "metadata": {
    "slideshow": {
     "slide_type": "slide"
    }
   },
   "source": [
    "```{seealso} Resources\n",
    ":class: tip\n",
    "- [YouTube: NeuralNine's video (15m:32s)](https://www.youtube.com/watch?v=9P5MY_2i7K8)\n",
    "```"
   ]
  }
 ],
 "metadata": {
  "celltoolbar": "Slideshow",
  "kernelspec": {
   "display_name": "Python 3 (ipykernel)",
   "language": "python",
   "name": "python3"
  },
  "language_info": {
   "codemirror_mode": {
    "name": "ipython",
    "version": 3
   },
   "file_extension": ".py",
   "mimetype": "text/x-python",
   "name": "python",
   "nbconvert_exporter": "python",
   "pygments_lexer": "ipython3",
   "version": "3.11.6"
  }
 },
 "nbformat": 4,
 "nbformat_minor": 2
}