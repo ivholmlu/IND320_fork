{
 "cells": [
  {
   "cell_type": "markdown",
   "metadata": {
    "slideshow": {
     "slide_type": "slide"
    }
   },
   "source": [
    "# Demonstration of API using OpenWeatherMap.org\n",
    "This demonstration is heavily inspired by [NeuralNine's video](https://www.youtube.com/watch?v=9P5MY_2i7K8).  \n",
    "You need a free account [from here](https://openweathermap.org/api).  \n",
    "The VS Code extension _JSON viewer_ is recommended for viewing downloaded JSON content.  \n",
    "  - Set your maximum API calls to 1000 per day to make sure you are under the limit for billing. \n",
    "  - To run the examples, download your API key, save it in the right folder (see below) in a file called _api\\_key\\_OpenWeather_, containing only the key (no spaces or \"enters\")."
   ]
  },
  {
   "cell_type": "code",
   "execution_count": 1,
   "metadata": {
    "slideshow": {
     "slide_type": "fragment"
    }
   },
   "outputs": [],
   "source": [
    "# Imports\n",
    "import datetime as dt\n",
    "import requests\n",
    "import json"
   ]
  },
  {
   "cell_type": "markdown",
   "metadata": {
    "slideshow": {
     "slide_type": "slide"
    }
   },
   "source": [
    "## Current weather\n",
    "### Common definitions to use for all requests"
   ]
  },
  {
   "cell_type": "code",
   "execution_count": 2,
   "metadata": {
    "slideshow": {
     "slide_type": "-"
    }
   },
   "outputs": [],
   "source": [
    "BASE_URL = \"http://api.openweathermap.org/data/2.5/weather?\"\n",
    "API_KEY = open('../../../No_sync/api_key_OpenWeather','r').read()\n",
    "CITY = \"Ski\"\n",
    "\n",
    "url = BASE_URL + \"q=\" + CITY + \"&appid=\" + API_KEY"
   ]
  },
  {
   "cell_type": "markdown",
   "metadata": {
    "slideshow": {
     "slide_type": "slide"
    }
   },
   "source": [
    "## Request current weather in chosen city"
   ]
  },
  {
   "cell_type": "code",
   "execution_count": 3,
   "metadata": {
    "slideshow": {
     "slide_type": "fragment"
    }
   },
   "outputs": [
    {
     "name": "stdout",
     "output_type": "stream",
     "text": [
      "{'coord': {'lon': 10.8358, 'lat': 59.7195}, 'weather': [{'id': 600, 'main': 'Snow', 'description': 'light snow', 'icon': '13n'}], 'base': 'stations', 'main': {'temp': 271.49, 'feels_like': 268.15, 'temp_min': 270.07, 'temp_max': 272.24, 'pressure': 1004, 'humidity': 86, 'sea_level': 1004, 'grnd_level': 986}, 'visibility': 185, 'wind': {'speed': 2.51, 'deg': 48, 'gust': 7.4}, 'snow': {'1h': 0.13}, 'clouds': {'all': 100}, 'dt': 1698870644, 'sys': {'type': 2, 'id': 2006772, 'country': 'NO', 'sunrise': 1698820581, 'sunset': 1698852241}, 'timezone': 3600, 'id': 3139081, 'name': 'Ski', 'cod': 200}\n"
     ]
    }
   ],
   "source": [
    "response = requests.get(url).json()\n",
    "print(response)"
   ]
  },
  {
   "cell_type": "code",
   "execution_count": 4,
   "metadata": {
    "slideshow": {
     "slide_type": "fragment"
    }
   },
   "outputs": [],
   "source": [
    "# Write JSON to file for viewing\n",
    "with open('downloads/weather.json', 'w') as f:\n",
    "    json.dump(response, f, indent=4)"
   ]
  },
  {
   "cell_type": "markdown",
   "metadata": {
    "slideshow": {
     "slide_type": "slide"
    }
   },
   "source": [
    "## Conversion functions\n",
    "Changing scales can make results more interpretable"
   ]
  },
  {
   "cell_type": "code",
   "execution_count": 5,
   "metadata": {
    "slideshow": {
     "slide_type": "-"
    }
   },
   "outputs": [],
   "source": [
    "# Kelvin to Celsius\n",
    "def kelvin_to_celsius(temp):\n",
    "    return temp - 273.15\n",
    "\n",
    "# Meters per second to knots\n",
    "def mps_to_knots(speed):\n",
    "    return speed * 1.943844"
   ]
  },
  {
   "cell_type": "markdown",
   "metadata": {
    "slideshow": {
     "slide_type": "slide"
    }
   },
   "source": [
    "## Print some weather properties"
   ]
  },
  {
   "cell_type": "code",
   "execution_count": 6,
   "metadata": {
    "slideshow": {
     "slide_type": "-"
    }
   },
   "outputs": [
    {
     "name": "stdout",
     "output_type": "stream",
     "text": [
      "The current temperature in Ski is -1.7°C\n"
     ]
    }
   ],
   "source": [
    "# Current temperature\n",
    "temp_kelvin = response['main']['temp']\n",
    "temp_celsius = kelvin_to_celsius(temp_kelvin)\n",
    "print(f\"The current temperature in {CITY} is {temp_celsius:.1f}°C\")"
   ]
  },
  {
   "cell_type": "code",
   "execution_count": 7,
   "metadata": {
    "slideshow": {
     "slide_type": "slide"
    }
   },
   "outputs": [
    {
     "name": "stdout",
     "output_type": "stream",
     "text": [
      "Sunrise today is at 07:36 and sunset is at 16:24\n"
     ]
    }
   ],
   "source": [
    "# Sunrise and sunset today in local time\n",
    "sunrise = dt.datetime.fromtimestamp(response['sys']['sunrise'])\n",
    "sunset = dt.datetime.fromtimestamp(response['sys']['sunset'])\n",
    "print(f\"Sunrise today is at {sunrise:%H:%M} and sunset is at {sunset:%H:%M}\")"
   ]
  },
  {
   "cell_type": "code",
   "execution_count": 8,
   "metadata": {
    "slideshow": {
     "slide_type": "fragment"
    }
   },
   "outputs": [
    {
     "name": "stdout",
     "output_type": "stream",
     "text": [
      "Wind today is from 48° at 4.9 knots\n"
     ]
    }
   ],
   "source": [
    "# Wind direction and speed\n",
    "wind_knots = mps_to_knots(response['wind']['speed'])\n",
    "print(f\"Wind today is from {response['wind']['deg']}° at {round(wind_knots,1)} knots\")"
   ]
  },
  {
   "cell_type": "markdown",
   "metadata": {
    "slideshow": {
     "slide_type": "slide"
    }
   },
   "source": [
    "## Forecasted weather\n",
    "### Common definitions to use for all requests"
   ]
  },
  {
   "cell_type": "code",
   "execution_count": 9,
   "metadata": {
    "slideshow": {
     "slide_type": "-"
    }
   },
   "outputs": [],
   "source": [
    "BASE_URL = \"http://api.openweathermap.org/data/2.5/forecast?\"\n",
    "CITY = \"Noresund\"\n",
    "\n",
    "urlF = BASE_URL + \"q=\" + CITY + \"&appid=\" + API_KEY"
   ]
  },
  {
   "cell_type": "markdown",
   "metadata": {
    "slideshow": {
     "slide_type": "slide"
    }
   },
   "source": [
    "## Request forecasted weather in chosen city"
   ]
  },
  {
   "cell_type": "code",
   "execution_count": 10,
   "metadata": {
    "slideshow": {
     "slide_type": "-"
    }
   },
   "outputs": [
    {
     "name": "stdout",
     "output_type": "stream",
     "text": [
      "{'cod': '200', 'message': 0, 'cnt': 40, 'list': [{'dt': 1698872400, 'main': {'temp': 269.32, 'feels_like': 269.32, 'temp_min': 269.32, 'temp_max': 271.07, 'pressure': 1004, 'sea_level': 1004, 'grnd_level': 985, 'humidity': 94, 'temp_kf': -1.75}, 'weather': [{'id': 600, 'main': 'Snow', 'description': 'light snow', 'icon': '13n'}], 'clouds': {'all': 100}, 'wind': {'speed': 0.98, 'deg': 69, 'gust': 1.63}, 'visibility': 138, 'pop': 0.96, 'snow': {'3h': 1.41}, 'sys': {'pod': 'n'}, 'dt_txt': '2023-11-01 21:00:00'}, {'dt': 1698883200, 'main': {'temp': 269.88, 'feels_like': 269.88, 'temp_min': 269.88, 'temp_max': 270.99, 'pressure': 1004, 'sea_level': 1004, 'grnd_level': 984, 'humidity': 95, 'temp_kf': -1.11}, 'weather': [{'id': 601, 'main': 'Snow', 'description': 'snow', 'icon': '13n'}], 'clouds': {'all': 100}, 'wind': {'speed': 0.99, 'deg': 55, 'gust': 1.87}, 'visibility': 135, 'pop': 1, 'snow': {'3h': 1.73}, 'sys': {'pod': 'n'}, 'dt_txt': '2023-11-02 00:00:00'}, {'dt': 1698894000, 'main': {'temp': 270.39, 'feels_like': 268.54, 'temp_min': 270.39, 'temp_max': 270.92, 'pressure': 1002, 'sea_level': 1002, 'grnd_level': 983, 'humidity': 96, 'temp_kf': -0.53}, 'weather': [{'id': 600, 'main': 'Snow', 'description': 'light snow', 'icon': '13n'}], 'clouds': {'all': 100}, 'wind': {'speed': 1.34, 'deg': 23, 'gust': 2.76}, 'visibility': 141, 'pop': 1, 'snow': {'3h': 1.39}, 'sys': {'pod': 'n'}, 'dt_txt': '2023-11-02 03:00:00'}, {'dt': 1698904800, 'main': {'temp': 270.92, 'feels_like': 268.41, 'temp_min': 270.92, 'temp_max': 270.92, 'pressure': 1000, 'sea_level': 1000, 'grnd_level': 981, 'humidity': 96, 'temp_kf': 0}, 'weather': [{'id': 601, 'main': 'Snow', 'description': 'snow', 'icon': '13n'}], 'clouds': {'all': 100}, 'wind': {'speed': 1.78, 'deg': 19, 'gust': 3.94}, 'visibility': 131, 'pop': 1, 'snow': {'3h': 2.66}, 'sys': {'pod': 'n'}, 'dt_txt': '2023-11-02 06:00:00'}, {'dt': 1698915600, 'main': {'temp': 271.15, 'feels_like': 268.75, 'temp_min': 271.15, 'temp_max': 271.15, 'pressure': 1000, 'sea_level': 1000, 'grnd_level': 981, 'humidity': 96, 'temp_kf': 0}, 'weather': [{'id': 601, 'main': 'Snow', 'description': 'snow', 'icon': '13d'}], 'clouds': {'all': 100}, 'wind': {'speed': 1.73, 'deg': 23, 'gust': 3.88}, 'visibility': 147, 'pop': 1, 'snow': {'3h': 3.46}, 'sys': {'pod': 'd'}, 'dt_txt': '2023-11-02 09:00:00'}, {'dt': 1698926400, 'main': {'temp': 271.46, 'feels_like': 268.85, 'temp_min': 271.46, 'temp_max': 271.46, 'pressure': 1000, 'sea_level': 1000, 'grnd_level': 981, 'humidity': 95, 'temp_kf': 0}, 'weather': [{'id': 601, 'main': 'Snow', 'description': 'snow', 'icon': '13d'}], 'clouds': {'all': 100}, 'wind': {'speed': 1.91, 'deg': 16, 'gust': 4.27}, 'visibility': 156, 'pop': 1, 'snow': {'3h': 2.14}, 'sys': {'pod': 'd'}, 'dt_txt': '2023-11-02 12:00:00'}, {'dt': 1698937200, 'main': {'temp': 271.13, 'feels_like': 268.21, 'temp_min': 271.13, 'temp_max': 271.13, 'pressure': 999, 'sea_level': 999, 'grnd_level': 980, 'humidity': 97, 'temp_kf': 0}, 'weather': [{'id': 601, 'main': 'Snow', 'description': 'snow', 'icon': '13d'}], 'clouds': {'all': 100}, 'wind': {'speed': 2.1, 'deg': 17, 'gust': 5.04}, 'visibility': 141, 'pop': 1, 'snow': {'3h': 2.2}, 'sys': {'pod': 'd'}, 'dt_txt': '2023-11-02 15:00:00'}, {'dt': 1698948000, 'main': {'temp': 271.45, 'feels_like': 268.12, 'temp_min': 271.45, 'temp_max': 271.45, 'pressure': 998, 'sea_level': 998, 'grnd_level': 979, 'humidity': 96, 'temp_kf': 0}, 'weather': [{'id': 601, 'main': 'Snow', 'description': 'snow', 'icon': '13n'}], 'clouds': {'all': 100}, 'wind': {'speed': 2.49, 'deg': 18, 'gust': 5.82}, 'visibility': 891, 'pop': 1, 'snow': {'3h': 2.16}, 'sys': {'pod': 'n'}, 'dt_txt': '2023-11-02 18:00:00'}, {'dt': 1698958800, 'main': {'temp': 271.76, 'feels_like': 268.03, 'temp_min': 271.76, 'temp_max': 271.76, 'pressure': 997, 'sea_level': 997, 'grnd_level': 979, 'humidity': 97, 'temp_kf': 0}, 'weather': [{'id': 601, 'main': 'Snow', 'description': 'snow', 'icon': '13n'}], 'clouds': {'all': 100}, 'wind': {'speed': 2.95, 'deg': 6, 'gust': 6.53}, 'visibility': 129, 'pop': 1, 'snow': {'3h': 3.81}, 'sys': {'pod': 'n'}, 'dt_txt': '2023-11-02 21:00:00'}, {'dt': 1698969600, 'main': {'temp': 272.24, 'feels_like': 268.19, 'temp_min': 272.24, 'temp_max': 272.24, 'pressure': 996, 'sea_level': 996, 'grnd_level': 977, 'humidity': 97, 'temp_kf': 0}, 'weather': [{'id': 601, 'main': 'Snow', 'description': 'snow', 'icon': '13n'}], 'clouds': {'all': 100}, 'wind': {'speed': 3.42, 'deg': 3, 'gust': 7.28}, 'visibility': 146, 'pop': 1, 'snow': {'3h': 5.43}, 'sys': {'pod': 'n'}, 'dt_txt': '2023-11-03 00:00:00'}, {'dt': 1698980400, 'main': {'temp': 273.01, 'feels_like': 269.2, 'temp_min': 273.01, 'temp_max': 273.01, 'pressure': 994, 'sea_level': 994, 'grnd_level': 975, 'humidity': 97, 'temp_kf': 0}, 'weather': [{'id': 601, 'main': 'Snow', 'description': 'snow', 'icon': '13n'}], 'clouds': {'all': 100}, 'wind': {'speed': 3.33, 'deg': 2, 'gust': 7.36}, 'visibility': 137, 'pop': 1, 'snow': {'3h': 7.38}, 'sys': {'pod': 'n'}, 'dt_txt': '2023-11-03 03:00:00'}, {'dt': 1698991200, 'main': {'temp': 273.89, 'feels_like': 270.34, 'temp_min': 273.89, 'temp_max': 273.89, 'pressure': 992, 'sea_level': 992, 'grnd_level': 974, 'humidity': 98, 'temp_kf': 0}, 'weather': [{'id': 601, 'main': 'Snow', 'description': 'snow', 'icon': '13n'}], 'clouds': {'all': 100}, 'wind': {'speed': 3.24, 'deg': 359, 'gust': 6.74}, 'visibility': 126, 'pop': 1, 'snow': {'3h': 6.75}, 'sys': {'pod': 'n'}, 'dt_txt': '2023-11-03 06:00:00'}, {'dt': 1699002000, 'main': {'temp': 274.51, 'feels_like': 271.07, 'temp_min': 274.51, 'temp_max': 274.51, 'pressure': 991, 'sea_level': 991, 'grnd_level': 973, 'humidity': 98, 'temp_kf': 0}, 'weather': [{'id': 601, 'main': 'Snow', 'description': 'snow', 'icon': '13d'}], 'clouds': {'all': 100}, 'wind': {'speed': 3.26, 'deg': 359, 'gust': 6.86}, 'visibility': 143, 'pop': 1, 'snow': {'3h': 5.58}, 'sys': {'pod': 'd'}, 'dt_txt': '2023-11-03 09:00:00'}, {'dt': 1699012800, 'main': {'temp': 274.95, 'feels_like': 272.14, 'temp_min': 274.95, 'temp_max': 274.95, 'pressure': 990, 'sea_level': 990, 'grnd_level': 972, 'humidity': 99, 'temp_kf': 0}, 'weather': [{'id': 601, 'main': 'Snow', 'description': 'snow', 'icon': '13d'}], 'clouds': {'all': 100}, 'wind': {'speed': 2.63, 'deg': 3, 'gust': 5.53}, 'visibility': 91, 'pop': 1, 'snow': {'3h': 4.28}, 'sys': {'pod': 'd'}, 'dt_txt': '2023-11-03 12:00:00'}, {'dt': 1699023600, 'main': {'temp': 275.14, 'feels_like': 272.39, 'temp_min': 275.14, 'temp_max': 275.14, 'pressure': 988, 'sea_level': 988, 'grnd_level': 970, 'humidity': 99, 'temp_kf': 0}, 'weather': [{'id': 601, 'main': 'Snow', 'description': 'snow', 'icon': '13d'}], 'clouds': {'all': 100}, 'wind': {'speed': 2.6, 'deg': 359, 'gust': 6.1}, 'visibility': 96, 'pop': 1, 'snow': {'3h': 5.15}, 'sys': {'pod': 'd'}, 'dt_txt': '2023-11-03 15:00:00'}, {'dt': 1699034400, 'main': {'temp': 275.23, 'feels_like': 272.51, 'temp_min': 275.23, 'temp_max': 275.23, 'pressure': 988, 'sea_level': 988, 'grnd_level': 970, 'humidity': 99, 'temp_kf': 0}, 'weather': [{'id': 601, 'main': 'Snow', 'description': 'snow', 'icon': '13n'}], 'clouds': {'all': 100}, 'wind': {'speed': 2.59, 'deg': 351, 'gust': 5.98}, 'visibility': 96, 'pop': 1, 'snow': {'3h': 5.1}, 'sys': {'pod': 'n'}, 'dt_txt': '2023-11-03 18:00:00'}, {'dt': 1699045200, 'main': {'temp': 275.07, 'feels_like': 273.29, 'temp_min': 275.07, 'temp_max': 275.07, 'pressure': 987, 'sea_level': 987, 'grnd_level': 969, 'humidity': 99, 'temp_kf': 0}, 'weather': [{'id': 601, 'main': 'Snow', 'description': 'snow', 'icon': '13n'}], 'clouds': {'all': 100}, 'wind': {'speed': 1.71, 'deg': 352, 'gust': 3.61}, 'visibility': 91, 'pop': 0.92, 'snow': {'3h': 2.33}, 'sys': {'pod': 'n'}, 'dt_txt': '2023-11-03 21:00:00'}, {'dt': 1699056000, 'main': {'temp': 274.74, 'feels_like': 273.02, 'temp_min': 274.74, 'temp_max': 274.74, 'pressure': 987, 'sea_level': 987, 'grnd_level': 968, 'humidity': 98, 'temp_kf': 0}, 'weather': [{'id': 600, 'main': 'Snow', 'description': 'light snow', 'icon': '13n'}], 'clouds': {'all': 100}, 'wind': {'speed': 1.63, 'deg': 331, 'gust': 3.01}, 'visibility': 10000, 'pop': 0.92, 'snow': {'3h': 0.27}, 'sys': {'pod': 'n'}, 'dt_txt': '2023-11-04 00:00:00'}, {'dt': 1699066800, 'main': {'temp': 274.63, 'feels_like': 272.88, 'temp_min': 274.63, 'temp_max': 274.63, 'pressure': 985, 'sea_level': 985, 'grnd_level': 967, 'humidity': 97, 'temp_kf': 0}, 'weather': [{'id': 804, 'main': 'Clouds', 'description': 'overcast clouds', 'icon': '04n'}], 'clouds': {'all': 100}, 'wind': {'speed': 1.64, 'deg': 335, 'gust': 2.59}, 'visibility': 10000, 'pop': 0, 'sys': {'pod': 'n'}, 'dt_txt': '2023-11-04 03:00:00'}, {'dt': 1699077600, 'main': {'temp': 274.71, 'feels_like': 272.92, 'temp_min': 274.71, 'temp_max': 274.71, 'pressure': 984, 'sea_level': 984, 'grnd_level': 965, 'humidity': 96, 'temp_kf': 0}, 'weather': [{'id': 804, 'main': 'Clouds', 'description': 'overcast clouds', 'icon': '04n'}], 'clouds': {'all': 100}, 'wind': {'speed': 1.68, 'deg': 339, 'gust': 2.92}, 'visibility': 10000, 'pop': 0, 'sys': {'pod': 'n'}, 'dt_txt': '2023-11-04 06:00:00'}, {'dt': 1699088400, 'main': {'temp': 275.45, 'feels_like': 275.45, 'temp_min': 275.45, 'temp_max': 275.45, 'pressure': 983, 'sea_level': 983, 'grnd_level': 965, 'humidity': 98, 'temp_kf': 0}, 'weather': [{'id': 804, 'main': 'Clouds', 'description': 'overcast clouds', 'icon': '04d'}], 'clouds': {'all': 100}, 'wind': {'speed': 0.8, 'deg': 316, 'gust': 1.03}, 'visibility': 10000, 'pop': 0, 'sys': {'pod': 'd'}, 'dt_txt': '2023-11-04 09:00:00'}, {'dt': 1699099200, 'main': {'temp': 275.79, 'feels_like': 275.79, 'temp_min': 275.79, 'temp_max': 275.79, 'pressure': 983, 'sea_level': 983, 'grnd_level': 964, 'humidity': 100, 'temp_kf': 0}, 'weather': [{'id': 804, 'main': 'Clouds', 'description': 'overcast clouds', 'icon': '04d'}], 'clouds': {'all': 100}, 'wind': {'speed': 0.4, 'deg': 78, 'gust': 0.55}, 'visibility': 51, 'pop': 0, 'sys': {'pod': 'd'}, 'dt_txt': '2023-11-04 12:00:00'}, {'dt': 1699110000, 'main': {'temp': 275.31, 'feels_like': 275.31, 'temp_min': 275.31, 'temp_max': 275.31, 'pressure': 983, 'sea_level': 983, 'grnd_level': 965, 'humidity': 100, 'temp_kf': 0}, 'weather': [{'id': 804, 'main': 'Clouds', 'description': 'overcast clouds', 'icon': '04d'}], 'clouds': {'all': 100}, 'wind': {'speed': 0.55, 'deg': 64, 'gust': 0.89}, 'visibility': 54, 'pop': 0.09, 'sys': {'pod': 'd'}, 'dt_txt': '2023-11-04 15:00:00'}, {'dt': 1699120800, 'main': {'temp': 275.3, 'feels_like': 275.3, 'temp_min': 275.3, 'temp_max': 275.3, 'pressure': 983, 'sea_level': 983, 'grnd_level': 965, 'humidity': 100, 'temp_kf': 0}, 'weather': [{'id': 500, 'main': 'Rain', 'description': 'light rain', 'icon': '10n'}], 'clouds': {'all': 100}, 'wind': {'speed': 0.8, 'deg': 35, 'gust': 1.27}, 'visibility': 46, 'pop': 0.52, 'rain': {'3h': 0.85}, 'sys': {'pod': 'n'}, 'dt_txt': '2023-11-04 18:00:00'}, {'dt': 1699131600, 'main': {'temp': 275.52, 'feels_like': 275.52, 'temp_min': 275.52, 'temp_max': 275.52, 'pressure': 983, 'sea_level': 983, 'grnd_level': 965, 'humidity': 100, 'temp_kf': 0}, 'weather': [{'id': 500, 'main': 'Rain', 'description': 'light rain', 'icon': '10n'}], 'clouds': {'all': 100}, 'wind': {'speed': 0.96, 'deg': 27, 'gust': 1.44}, 'visibility': 89, 'pop': 1, 'rain': {'3h': 0.77}, 'sys': {'pod': 'n'}, 'dt_txt': '2023-11-04 21:00:00'}, {'dt': 1699142400, 'main': {'temp': 275.66, 'feels_like': 274.41, 'temp_min': 275.66, 'temp_max': 275.66, 'pressure': 983, 'sea_level': 983, 'grnd_level': 965, 'humidity': 100, 'temp_kf': 0}, 'weather': [{'id': 500, 'main': 'Rain', 'description': 'light rain', 'icon': '10n'}], 'clouds': {'all': 100}, 'wind': {'speed': 1.4, 'deg': 25, 'gust': 2.13}, 'visibility': 92, 'pop': 1, 'rain': {'3h': 2.09}, 'sys': {'pod': 'n'}, 'dt_txt': '2023-11-05 00:00:00'}, {'dt': 1699153200, 'main': {'temp': 275.67, 'feels_like': 274.3, 'temp_min': 275.67, 'temp_max': 275.67, 'pressure': 983, 'sea_level': 983, 'grnd_level': 964, 'humidity': 100, 'temp_kf': 0}, 'weather': [{'id': 500, 'main': 'Rain', 'description': 'light rain', 'icon': '10n'}], 'clouds': {'all': 100}, 'wind': {'speed': 1.48, 'deg': 35, 'gust': 2.19}, 'visibility': 95, 'pop': 1, 'rain': {'3h': 1.43}, 'sys': {'pod': 'n'}, 'dt_txt': '2023-11-05 03:00:00'}, {'dt': 1699164000, 'main': {'temp': 275.74, 'feels_like': 274, 'temp_min': 275.74, 'temp_max': 275.74, 'pressure': 982, 'sea_level': 982, 'grnd_level': 964, 'humidity': 100, 'temp_kf': 0}, 'weather': [{'id': 501, 'main': 'Rain', 'description': 'moderate rain', 'icon': '10n'}], 'clouds': {'all': 100}, 'wind': {'speed': 1.76, 'deg': 21, 'gust': 2.81}, 'visibility': 99, 'pop': 1, 'rain': {'3h': 3.62}, 'sys': {'pod': 'n'}, 'dt_txt': '2023-11-05 06:00:00'}, {'dt': 1699174800, 'main': {'temp': 275.73, 'feels_like': 274.17, 'temp_min': 275.73, 'temp_max': 275.73, 'pressure': 983, 'sea_level': 983, 'grnd_level': 965, 'humidity': 100, 'temp_kf': 0}, 'weather': [{'id': 500, 'main': 'Rain', 'description': 'light rain', 'icon': '10d'}], 'clouds': {'all': 100}, 'wind': {'speed': 1.62, 'deg': 23, 'gust': 2.68}, 'visibility': 83, 'pop': 1, 'rain': {'3h': 0.55}, 'sys': {'pod': 'd'}, 'dt_txt': '2023-11-05 09:00:00'}, {'dt': 1699185600, 'main': {'temp': 275.72, 'feels_like': 273.88, 'temp_min': 275.72, 'temp_max': 275.72, 'pressure': 983, 'sea_level': 983, 'grnd_level': 965, 'humidity': 100, 'temp_kf': 0}, 'weather': [{'id': 501, 'main': 'Rain', 'description': 'moderate rain', 'icon': '10d'}], 'clouds': {'all': 100}, 'wind': {'speed': 1.84, 'deg': 18, 'gust': 3.1}, 'visibility': 57, 'pop': 1, 'rain': {'3h': 3.1}, 'sys': {'pod': 'd'}, 'dt_txt': '2023-11-05 12:00:00'}, {'dt': 1699196400, 'main': {'temp': 275.79, 'feels_like': 273.87, 'temp_min': 275.79, 'temp_max': 275.79, 'pressure': 983, 'sea_level': 983, 'grnd_level': 965, 'humidity': 100, 'temp_kf': 0}, 'weather': [{'id': 500, 'main': 'Rain', 'description': 'light rain', 'icon': '10d'}], 'clouds': {'all': 100}, 'wind': {'speed': 1.91, 'deg': 7, 'gust': 3.35}, 'visibility': 64, 'pop': 1, 'rain': {'3h': 0.94}, 'sys': {'pod': 'd'}, 'dt_txt': '2023-11-05 15:00:00'}, {'dt': 1699207200, 'main': {'temp': 275.66, 'feels_like': 274.21, 'temp_min': 275.66, 'temp_max': 275.66, 'pressure': 984, 'sea_level': 984, 'grnd_level': 966, 'humidity': 100, 'temp_kf': 0}, 'weather': [{'id': 601, 'main': 'Snow', 'description': 'snow', 'icon': '13n'}], 'clouds': {'all': 100}, 'wind': {'speed': 1.53, 'deg': 6, 'gust': 2.75}, 'visibility': 68, 'pop': 1, 'snow': {'3h': 4.59}, 'sys': {'pod': 'n'}, 'dt_txt': '2023-11-05 18:00:00'}, {'dt': 1699218000, 'main': {'temp': 275.68, 'feels_like': 275.68, 'temp_min': 275.68, 'temp_max': 275.68, 'pressure': 985, 'sea_level': 985, 'grnd_level': 967, 'humidity': 100, 'temp_kf': 0}, 'weather': [{'id': 500, 'main': 'Rain', 'description': 'light rain', 'icon': '10n'}], 'clouds': {'all': 100}, 'wind': {'speed': 1.21, 'deg': 359, 'gust': 2.11}, 'visibility': 86, 'pop': 1, 'rain': {'3h': 1.23}, 'sys': {'pod': 'n'}, 'dt_txt': '2023-11-05 21:00:00'}, {'dt': 1699228800, 'main': {'temp': 275.82, 'feels_like': 274.43, 'temp_min': 275.82, 'temp_max': 275.82, 'pressure': 986, 'sea_level': 986, 'grnd_level': 967, 'humidity': 100, 'temp_kf': 0}, 'weather': [{'id': 500, 'main': 'Rain', 'description': 'light rain', 'icon': '10n'}], 'clouds': {'all': 100}, 'wind': {'speed': 1.51, 'deg': 5, 'gust': 2.25}, 'visibility': 123, 'pop': 1, 'rain': {'3h': 0.72}, 'sys': {'pod': 'n'}, 'dt_txt': '2023-11-06 00:00:00'}, {'dt': 1699239600, 'main': {'temp': 275.98, 'feels_like': 275.98, 'temp_min': 275.98, 'temp_max': 275.98, 'pressure': 986, 'sea_level': 986, 'grnd_level': 968, 'humidity': 100, 'temp_kf': 0}, 'weather': [{'id': 500, 'main': 'Rain', 'description': 'light rain', 'icon': '10n'}], 'clouds': {'all': 100}, 'wind': {'speed': 1.26, 'deg': 13, 'gust': 1.62}, 'visibility': 76, 'pop': 0.8, 'rain': {'3h': 0.77}, 'sys': {'pod': 'n'}, 'dt_txt': '2023-11-06 03:00:00'}, {'dt': 1699250400, 'main': {'temp': 275.98, 'feels_like': 274.86, 'temp_min': 275.98, 'temp_max': 275.98, 'pressure': 987, 'sea_level': 987, 'grnd_level': 969, 'humidity': 100, 'temp_kf': 0}, 'weather': [{'id': 500, 'main': 'Rain', 'description': 'light rain', 'icon': '10n'}], 'clouds': {'all': 100}, 'wind': {'speed': 1.34, 'deg': 4, 'gust': 1.83}, 'visibility': 81, 'pop': 0.88, 'rain': {'3h': 1.13}, 'sys': {'pod': 'n'}, 'dt_txt': '2023-11-06 06:00:00'}, {'dt': 1699261200, 'main': {'temp': 276.19, 'feels_like': 274.92, 'temp_min': 276.19, 'temp_max': 276.19, 'pressure': 988, 'sea_level': 988, 'grnd_level': 970, 'humidity': 100, 'temp_kf': 0}, 'weather': [{'id': 500, 'main': 'Rain', 'description': 'light rain', 'icon': '10d'}], 'clouds': {'all': 100}, 'wind': {'speed': 1.46, 'deg': 3, 'gust': 2.04}, 'visibility': 53, 'pop': 0.9, 'rain': {'3h': 1.83}, 'sys': {'pod': 'd'}, 'dt_txt': '2023-11-06 09:00:00'}, {'dt': 1699272000, 'main': {'temp': 276.16, 'feels_like': 276.16, 'temp_min': 276.16, 'temp_max': 276.16, 'pressure': 989, 'sea_level': 989, 'grnd_level': 970, 'humidity': 100, 'temp_kf': 0}, 'weather': [{'id': 500, 'main': 'Rain', 'description': 'light rain', 'icon': '10d'}], 'clouds': {'all': 100}, 'wind': {'speed': 1.13, 'deg': 348, 'gust': 1.12}, 'visibility': 48, 'pop': 0.87, 'rain': {'3h': 1.06}, 'sys': {'pod': 'd'}, 'dt_txt': '2023-11-06 12:00:00'}, {'dt': 1699282800, 'main': {'temp': 276.07, 'feels_like': 276.07, 'temp_min': 276.07, 'temp_max': 276.07, 'pressure': 990, 'sea_level': 990, 'grnd_level': 972, 'humidity': 100, 'temp_kf': 0}, 'weather': [{'id': 500, 'main': 'Rain', 'description': 'light rain', 'icon': '10d'}], 'clouds': {'all': 100}, 'wind': {'speed': 1.16, 'deg': 321, 'gust': 1.11}, 'visibility': 43, 'pop': 0.86, 'rain': {'3h': 2.16}, 'sys': {'pod': 'd'}, 'dt_txt': '2023-11-06 15:00:00'}, {'dt': 1699293600, 'main': {'temp': 275.99, 'feels_like': 275.99, 'temp_min': 275.99, 'temp_max': 275.99, 'pressure': 991, 'sea_level': 991, 'grnd_level': 973, 'humidity': 100, 'temp_kf': 0}, 'weather': [{'id': 804, 'main': 'Clouds', 'description': 'overcast clouds', 'icon': '04n'}], 'clouds': {'all': 100}, 'wind': {'speed': 1.07, 'deg': 287, 'gust': 0.95}, 'visibility': 39, 'pop': 0.8, 'sys': {'pod': 'n'}, 'dt_txt': '2023-11-06 18:00:00'}], 'city': {'id': 3144113, 'name': 'Noresund', 'coord': {'lat': 60.1803, 'lon': 9.6231}, 'country': 'NO', 'population': 1000, 'timezone': 3600, 'sunrise': 1698820990, 'sunset': 1698852414}}\n"
     ]
    }
   ],
   "source": [
    "responseF = requests.get(urlF).json()\n",
    "print(responseF)"
   ]
  },
  {
   "cell_type": "code",
   "execution_count": 11,
   "metadata": {
    "slideshow": {
     "slide_type": "slide"
    }
   },
   "outputs": [],
   "source": [
    "# Write JSON to file for viewing\n",
    "with open('downloads/forecast.json', 'w') as f:\n",
    "    json.dump(responseF, f, indent=4)"
   ]
  },
  {
   "cell_type": "markdown",
   "metadata": {
    "slideshow": {
     "slide_type": "slide"
    }
   },
   "source": [
    "### When and what?\n",
    "Check contents and time stamps"
   ]
  },
  {
   "cell_type": "code",
   "execution_count": 12,
   "metadata": {
    "slideshow": {
     "slide_type": "-"
    }
   },
   "outputs": [
    {
     "data": {
      "text/plain": [
       "dict_keys(['cod', 'message', 'cnt', 'list', 'city'])"
      ]
     },
     "execution_count": 12,
     "metadata": {},
     "output_type": "execute_result"
    }
   ],
   "source": [
    "# Content of responseF\n",
    "responseF.keys()"
   ]
  },
  {
   "cell_type": "code",
   "execution_count": 13,
   "metadata": {
    "slideshow": {
     "slide_type": "fragment"
    }
   },
   "outputs": [
    {
     "name": "stdout",
     "output_type": "stream",
     "text": [
      "40\n"
     ]
    }
   ],
   "source": [
    "# Number of forecasts\n",
    "print(len(responseF[\"list\"]))"
   ]
  },
  {
   "cell_type": "code",
   "execution_count": 14,
   "metadata": {
    "scrolled": true,
    "slideshow": {
     "slide_type": "slide"
    }
   },
   "outputs": [
    {
     "name": "stdout",
     "output_type": "stream",
     "text": [
      "2023-11-01 21:00:00\n",
      "2023-11-02 00:00:00\n",
      "2023-11-02 03:00:00\n",
      "2023-11-02 06:00:00\n",
      "2023-11-02 09:00:00\n",
      "2023-11-02 12:00:00\n",
      "2023-11-02 15:00:00\n",
      "2023-11-02 18:00:00\n",
      "2023-11-02 21:00:00\n",
      "2023-11-03 00:00:00\n",
      "2023-11-03 03:00:00\n",
      "2023-11-03 06:00:00\n",
      "2023-11-03 09:00:00\n",
      "2023-11-03 12:00:00\n",
      "2023-11-03 15:00:00\n",
      "2023-11-03 18:00:00\n",
      "2023-11-03 21:00:00\n",
      "2023-11-04 00:00:00\n",
      "2023-11-04 03:00:00\n",
      "2023-11-04 06:00:00\n",
      "2023-11-04 09:00:00\n",
      "2023-11-04 12:00:00\n",
      "2023-11-04 15:00:00\n",
      "2023-11-04 18:00:00\n",
      "2023-11-04 21:00:00\n",
      "2023-11-05 00:00:00\n",
      "2023-11-05 03:00:00\n",
      "2023-11-05 06:00:00\n",
      "2023-11-05 09:00:00\n",
      "2023-11-05 12:00:00\n",
      "2023-11-05 15:00:00\n",
      "2023-11-05 18:00:00\n",
      "2023-11-05 21:00:00\n",
      "2023-11-06 00:00:00\n",
      "2023-11-06 03:00:00\n",
      "2023-11-06 06:00:00\n",
      "2023-11-06 09:00:00\n",
      "2023-11-06 12:00:00\n",
      "2023-11-06 15:00:00\n",
      "2023-11-06 18:00:00\n"
     ]
    }
   ],
   "source": [
    "# Print forecast times\n",
    "for forecast in responseF[\"list\"]:\n",
    "    print(forecast[\"dt_txt\"])"
   ]
  },
  {
   "cell_type": "markdown",
   "metadata": {
    "slideshow": {
     "slide_type": "slide"
    }
   },
   "source": [
    "## Make plots of omnipresent measurements and events\n",
    "We will later look at missing data, data only sporadically appearing and so on."
   ]
  },
  {
   "cell_type": "code",
   "execution_count": 15,
   "metadata": {
    "slideshow": {
     "slide_type": "-"
    }
   },
   "outputs": [],
   "source": [
    "# Air pressure per period\n",
    "pressures = []\n",
    "timestamps = []\n",
    "for forecast in responseF[\"list\"]:\n",
    "    pressures.append(forecast[\"main\"][\"pressure\"])\n",
    "    timestamps.append(dt.datetime.fromtimestamp(forecast[\"dt\"]))"
   ]
  },
  {
   "cell_type": "code",
   "execution_count": 16,
   "metadata": {
    "slideshow": {
     "slide_type": "slide"
    }
   },
   "outputs": [
    {
     "data": {
      "image/png": "[encoded data removed]",
      "text/plain": [
       "<Figure size 640x480 with 1 Axes>"
      ]
     },
     "metadata": {},
     "output_type": "display_data"
    }
   ],
   "source": [
    "import matplotlib.pyplot as plt\n",
    "plt.bar(timestamps, pressures)\n",
    "plt.xticks(rotation=45)\n",
    "plt.ylim(950, 1050)\n",
    "plt.grid()\n",
    "plt.ylabel(\"Air pressure (hPa)\")\n",
    "plt.title(f\"Forecasted air pressure in {CITY}\")\n",
    "plt.show()"
   ]
  },
  {
   "cell_type": "markdown",
   "metadata": {
    "slideshow": {
     "slide_type": "slide"
    }
   },
   "source": [
    "## Exercise\n",
    "- Make a new forecast request for your own hometown. Call your response something else than responseF.\n",
    "- If available, plot the humidity like we did with air pressure."
   ]
  },
  {
   "cell_type": "markdown",
   "metadata": {
    "slideshow": {
     "slide_type": "slide"
    }
   },
   "source": [
    "### Precipitation\n",
    "- ... comes in two main flavours: rain and snow.\n",
    "- We need to check which is present and set to zero if it is abscent."
   ]
  },
  {
   "cell_type": "code",
   "execution_count": 17,
   "metadata": {
    "slideshow": {
     "slide_type": "-"
    }
   },
   "outputs": [],
   "source": [
    "rain = []\n",
    "snow = []\n",
    "for forecast in responseF[\"list\"]:\n",
    "    try: # Check if rain is present in forecast\n",
    "        rain.append(forecast[\"rain\"][\"3h\"])\n",
    "    except KeyError:\n",
    "        rain.append(0)\n",
    "    try: # Check if snow is present in forecast\n",
    "        snow.append(forecast[\"snow\"][\"3h\"])\n",
    "    except KeyError:\n",
    "        snow.append(0)"
   ]
  },
  {
   "cell_type": "code",
   "execution_count": 18,
   "metadata": {
    "slideshow": {
     "slide_type": "slide"
    }
   },
   "outputs": [
    {
     "data": {
      "image/png": "[encoded data removed]",
      "text/plain": [
       "<Figure size 640x480 with 1 Axes>"
      ]
     },
     "metadata": {},
     "output_type": "display_data"
    }
   ],
   "source": [
    "# Stacked bar chart with rain and snow\n",
    "plt.bar(timestamps, rain, label=\"Rain\")\n",
    "plt.bar(timestamps, snow, label=\"Snow\")\n",
    "plt.xticks(rotation=45)\n",
    "plt.grid()\n",
    "plt.ylabel(\"Precipitation (mm)\")\n",
    "plt.title(f\"Forecasted precipitation in {CITY}\")\n",
    "plt.legend()\n",
    "plt.show()\n"
   ]
  },
  {
   "cell_type": "markdown",
   "metadata": {
    "slideshow": {
     "slide_type": "slide"
    }
   },
   "source": [
    "## Resources\n",
    "- [YouTube: NeuralNine's video (15m:32s)](https://www.youtube.com/watch?v=9P5MY_2i7K8)"
   ]
  }
 ],
 "metadata": {
  "celltoolbar": "Slideshow",
  "kernelspec": {
   "display_name": "Python 3 (ipykernel)",
   "language": "python",
   "name": "python3"
  },
  "language_info": {
   "codemirror_mode": {
    "name": "ipython",
    "version": 3
   },
   "file_extension": ".py",
   "mimetype": "text/x-python",
   "name": "python",
   "nbconvert_exporter": "python",
   "pygments_lexer": "ipython3",
   "version": "3.11.6"
  }
 },
 "nbformat": 4,
 "nbformat_minor": 2
}