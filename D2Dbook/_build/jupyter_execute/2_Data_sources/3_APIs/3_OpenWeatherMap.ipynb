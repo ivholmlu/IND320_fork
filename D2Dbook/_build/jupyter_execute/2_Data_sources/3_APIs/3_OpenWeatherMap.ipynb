{
 "cells": [
  {
   "cell_type": "markdown",
   "metadata": {
    "slideshow": {
     "slide_type": "slide"
    }
   },
   "source": [
    "# Demonstration of API using OpenWeatherMap.org\n",
    "This demonstration is heavily inspired by [NeuralNine's video](https://www.youtube.com/watch?v=9P5MY_2i7K8).  \n",
    "You need a free account [from here](https://openweathermap.org/api).  \n",
    "The VS Code extension _JSON viewer_ is recommended for viewing downloaded JSON content.  \n",
    "  - Set your maximum API calls to 1000 per day to make sure you are under the limit for billing. \n",
    "  - To run the examples, download your API key, save it in the right folder (see below) in a file called _api\\_key\\_OpenWeather_, containing only the key (no spaces or \"enters\")."
   ]
  },
  {
   "cell_type": "code",
   "execution_count": 1,
   "metadata": {
    "slideshow": {
     "slide_type": "fragment"
    }
   },
   "outputs": [],
   "source": [
    "# Imports\n",
    "import datetime as dt\n",
    "import requests\n",
    "import json"
   ]
  },
  {
   "cell_type": "markdown",
   "metadata": {
    "slideshow": {
     "slide_type": "slide"
    }
   },
   "source": [
    "## Current weather\n",
    "### Common definitions to use for all requests"
   ]
  },
  {
   "cell_type": "code",
   "execution_count": 2,
   "metadata": {
    "slideshow": {
     "slide_type": "-"
    }
   },
   "outputs": [],
   "source": [
    "BASE_URL = \"http://api.openweathermap.org/data/2.5/weather?\"\n",
    "API_KEY = open('../../../No_sync/api_key_OpenWeather','r').read()\n",
    "CITY = \"Ski\"\n",
    "\n",
    "url = BASE_URL + \"q=\" + CITY + \"&appid=\" + API_KEY"
   ]
  },
  {
   "cell_type": "markdown",
   "metadata": {
    "slideshow": {
     "slide_type": "slide"
    }
   },
   "source": [
    "## Request current weather in chosen city"
   ]
  },
  {
   "cell_type": "code",
   "execution_count": 3,
   "metadata": {
    "slideshow": {
     "slide_type": "fragment"
    }
   },
   "outputs": [
    {
     "name": "stderr",
     "output_type": "stream",
     "text": [
      "\n",
      "KeyboardInterrupt\n",
      "\n"
     ]
    }
   ],
   "source": [
    "response = requests.get(url).json()\n",
    "print(response)"
   ]
  },
  {
   "cell_type": "code",
   "execution_count": 4,
   "metadata": {
    "slideshow": {
     "slide_type": "fragment"
    }
   },
   "outputs": [],
   "source": [
    "# Write JSON to file for viewing\n",
    "with open('downloads/weather.json', 'w') as f:\n",
    "    json.dump(response, f, indent=4)"
   ]
  },
  {
   "cell_type": "markdown",
   "metadata": {
    "slideshow": {
     "slide_type": "slide"
    }
   },
   "source": [
    "## Conversion functions\n",
    "Changing scales can make results more interpretable"
   ]
  },
  {
   "cell_type": "code",
   "execution_count": 5,
   "metadata": {
    "slideshow": {
     "slide_type": "-"
    }
   },
   "outputs": [],
   "source": [
    "# Kelvin to Celsius\n",
    "def kelvin_to_celsius(temp):\n",
    "    return temp - 273.15\n",
    "\n",
    "# Meters per second to knots\n",
    "def mps_to_knots(speed):\n",
    "    return speed * 1.943844"
   ]
  },
  {
   "cell_type": "markdown",
   "metadata": {
    "slideshow": {
     "slide_type": "slide"
    }
   },
   "source": [
    "## Print some weather properties"
   ]
  },
  {
   "cell_type": "code",
   "execution_count": 6,
   "metadata": {
    "slideshow": {
     "slide_type": "-"
    }
   },
   "outputs": [
    {
     "name": "stdout",
     "output_type": "stream",
     "text": [
      "The current temperature in Ski is 16.5°C\n"
     ]
    }
   ],
   "source": [
    "# Current temperature\n",
    "temp_kelvin = response['main']['temp']\n",
    "temp_celsius = kelvin_to_celsius(temp_kelvin)\n",
    "print(f\"The current temperature in {CITY} is {temp_celsius:.1f}°C\")"
   ]
  },
  {
   "cell_type": "code",
   "execution_count": 7,
   "metadata": {
    "slideshow": {
     "slide_type": "slide"
    }
   },
   "outputs": [
    {
     "name": "stdout",
     "output_type": "stream",
     "text": [
      "Sunrise today is at 07:13 and sunset is at 19:01\n"
     ]
    }
   ],
   "source": [
    "# Sunrise and sunset today in local time\n",
    "sunrise = dt.datetime.fromtimestamp(response['sys']['sunrise'])\n",
    "sunset = dt.datetime.fromtimestamp(response['sys']['sunset'])\n",
    "print(f\"Sunrise today is at {sunrise:%H:%M} and sunset is at {sunset:%H:%M}\")"
   ]
  },
  {
   "cell_type": "code",
   "execution_count": 8,
   "metadata": {
    "slideshow": {
     "slide_type": "fragment"
    }
   },
   "outputs": [
    {
     "name": "stdout",
     "output_type": "stream",
     "text": [
      "Wind today is from 144° at 8.1 knots\n"
     ]
    }
   ],
   "source": [
    "# Wind direction and speed\n",
    "wind_knots = mps_to_knots(response['wind']['speed'])\n",
    "print(f\"Wind today is from {response['wind']['deg']}° at {round(wind_knots,1)} knots\")"
   ]
  },
  {
   "cell_type": "markdown",
   "metadata": {
    "slideshow": {
     "slide_type": "slide"
    }
   },
   "source": [
    "## Forecasted weather\n",
    "### Common definitions to use for all requests"
   ]
  },
  {
   "cell_type": "code",
   "execution_count": 9,
   "metadata": {
    "slideshow": {
     "slide_type": "-"
    }
   },
   "outputs": [],
   "source": [
    "BASE_URL = \"http://api.openweathermap.org/data/2.5/forecast?\"\n",
    "CITY = \"Noresund\"\n",
    "\n",
    "urlF = BASE_URL + \"q=\" + CITY + \"&appid=\" + API_KEY"
   ]
  },
  {
   "cell_type": "markdown",
   "metadata": {
    "slideshow": {
     "slide_type": "slide"
    }
   },
   "source": [
    "## Request forecasted weather in chosen city"
   ]
  },
  {
   "cell_type": "code",
   "execution_count": 10,
   "metadata": {
    "slideshow": {
     "slide_type": "-"
    }
   },
   "outputs": [
    {
     "name": "stdout",
     "output_type": "stream",
     "text": [
      "{'cod': '200', 'message': 0, 'cnt': 40, 'list': [{'dt': 1695902400, 'main': {'temp': 286.54, 'feels_like': 286.49, 'temp_min': 284.42, 'temp_max': 286.54, 'pressure': 1010, 'sea_level': 1010, 'grnd_level': 992, 'humidity': 98, 'temp_kf': 2.12}, 'weather': [{'id': 500, 'main': 'Rain', 'description': 'light rain', 'icon': '10d'}], 'clouds': {'all': 100}, 'wind': {'speed': 1.02, 'deg': 113, 'gust': 3.2}, 'visibility': 1897, 'pop': 0.98, 'rain': {'3h': 1.14}, 'sys': {'pod': 'd'}, 'dt_txt': '2023-09-28 12:00:00'}, {'dt': 1695913200, 'main': {'temp': 285.91, 'feels_like': 285.83, 'temp_min': 284.65, 'temp_max': 285.91, 'pressure': 1010, 'sea_level': 1010, 'grnd_level': 990, 'humidity': 99, 'temp_kf': 1.26}, 'weather': [{'id': 500, 'main': 'Rain', 'description': 'light rain', 'icon': '10d'}], 'clouds': {'all': 100}, 'wind': {'speed': 0.57, 'deg': 135, 'gust': 1.38}, 'visibility': 4066, 'pop': 0.58, 'rain': {'3h': 0.51}, 'sys': {'pod': 'd'}, 'dt_txt': '2023-09-28 15:00:00'}, {'dt': 1695924000, 'main': {'temp': 285.46, 'feels_like': 285.33, 'temp_min': 284.92, 'temp_max': 285.46, 'pressure': 1009, 'sea_level': 1009, 'grnd_level': 991, 'humidity': 99, 'temp_kf': 0.54}, 'weather': [{'id': 804, 'main': 'Clouds', 'description': 'overcast clouds', 'icon': '04n'}], 'clouds': {'all': 100}, 'wind': {'speed': 0.95, 'deg': 239, 'gust': 1.47}, 'visibility': 7777, 'pop': 0.2, 'sys': {'pod': 'n'}, 'dt_txt': '2023-09-28 18:00:00'}, {'dt': 1695934800, 'main': {'temp': 285.13, 'feels_like': 284.92, 'temp_min': 285.13, 'temp_max': 285.13, 'pressure': 1009, 'sea_level': 1009, 'grnd_level': 991, 'humidity': 97, 'temp_kf': 0}, 'weather': [{'id': 804, 'main': 'Clouds', 'description': 'overcast clouds', 'icon': '04n'}], 'clouds': {'all': 98}, 'wind': {'speed': 0.16, 'deg': 235, 'gust': 0.55}, 'visibility': 10000, 'pop': 0, 'sys': {'pod': 'n'}, 'dt_txt': '2023-09-28 21:00:00'}, {'dt': 1695945600, 'main': {'temp': 284.74, 'feels_like': 284.54, 'temp_min': 284.74, 'temp_max': 284.74, 'pressure': 1009, 'sea_level': 1009, 'grnd_level': 991, 'humidity': 99, 'temp_kf': 0}, 'weather': [{'id': 804, 'main': 'Clouds', 'description': 'overcast clouds', 'icon': '04n'}], 'clouds': {'all': 99}, 'wind': {'speed': 0.49, 'deg': 251, 'gust': 0.57}, 'visibility': 10000, 'pop': 0, 'sys': {'pod': 'n'}, 'dt_txt': '2023-09-29 00:00:00'}, {'dt': 1695956400, 'main': {'temp': 284.2, 'feels_like': 283.92, 'temp_min': 284.2, 'temp_max': 284.2, 'pressure': 1008, 'sea_level': 1008, 'grnd_level': 990, 'humidity': 98, 'temp_kf': 0}, 'weather': [{'id': 804, 'main': 'Clouds', 'description': 'overcast clouds', 'icon': '04n'}], 'clouds': {'all': 100}, 'wind': {'speed': 1.06, 'deg': 212, 'gust': 1.18}, 'visibility': 10000, 'pop': 0, 'sys': {'pod': 'n'}, 'dt_txt': '2023-09-29 03:00:00'}, {'dt': 1695967200, 'main': {'temp': 283.86, 'feels_like': 283.52, 'temp_min': 283.86, 'temp_max': 283.86, 'pressure': 1008, 'sea_level': 1008, 'grnd_level': 990, 'humidity': 97, 'temp_kf': 0}, 'weather': [{'id': 804, 'main': 'Clouds', 'description': 'overcast clouds', 'icon': '04d'}], 'clouds': {'all': 100}, 'wind': {'speed': 1.45, 'deg': 188, 'gust': 2.44}, 'visibility': 10000, 'pop': 0, 'sys': {'pod': 'd'}, 'dt_txt': '2023-09-29 06:00:00'}, {'dt': 1695978000, 'main': {'temp': 285.67, 'feels_like': 285.25, 'temp_min': 285.67, 'temp_max': 285.67, 'pressure': 1007, 'sea_level': 1007, 'grnd_level': 990, 'humidity': 87, 'temp_kf': 0}, 'weather': [{'id': 804, 'main': 'Clouds', 'description': 'overcast clouds', 'icon': '04d'}], 'clouds': {'all': 100}, 'wind': {'speed': 1.74, 'deg': 192, 'gust': 2.81}, 'visibility': 10000, 'pop': 0, 'sys': {'pod': 'd'}, 'dt_txt': '2023-09-29 09:00:00'}, {'dt': 1695988800, 'main': {'temp': 288.43, 'feels_like': 287.82, 'temp_min': 288.43, 'temp_max': 288.43, 'pressure': 1006, 'sea_level': 1006, 'grnd_level': 989, 'humidity': 69, 'temp_kf': 0}, 'weather': [{'id': 804, 'main': 'Clouds', 'description': 'overcast clouds', 'icon': '04d'}], 'clouds': {'all': 90}, 'wind': {'speed': 2.37, 'deg': 187, 'gust': 4.34}, 'visibility': 10000, 'pop': 0, 'sys': {'pod': 'd'}, 'dt_txt': '2023-09-29 12:00:00'}, {'dt': 1695999600, 'main': {'temp': 287.5, 'feels_like': 287, 'temp_min': 287.5, 'temp_max': 287.5, 'pressure': 1005, 'sea_level': 1005, 'grnd_level': 988, 'humidity': 77, 'temp_kf': 0}, 'weather': [{'id': 804, 'main': 'Clouds', 'description': 'overcast clouds', 'icon': '04d'}], 'clouds': {'all': 87}, 'wind': {'speed': 2.4, 'deg': 196, 'gust': 4.9}, 'visibility': 10000, 'pop': 0, 'sys': {'pod': 'd'}, 'dt_txt': '2023-09-29 15:00:00'}, {'dt': 1696010400, 'main': {'temp': 283.22, 'feels_like': 282.82, 'temp_min': 283.22, 'temp_max': 283.22, 'pressure': 1006, 'sea_level': 1006, 'grnd_level': 988, 'humidity': 97, 'temp_kf': 0}, 'weather': [{'id': 804, 'main': 'Clouds', 'description': 'overcast clouds', 'icon': '04n'}], 'clouds': {'all': 93}, 'wind': {'speed': 1.18, 'deg': 233, 'gust': 1.24}, 'visibility': 10000, 'pop': 0, 'sys': {'pod': 'n'}, 'dt_txt': '2023-09-29 18:00:00'}, {'dt': 1696021200, 'main': {'temp': 282.1, 'feels_like': 281.62, 'temp_min': 282.1, 'temp_max': 282.1, 'pressure': 1005, 'sea_level': 1005, 'grnd_level': 987, 'humidity': 97, 'temp_kf': 0}, 'weather': [{'id': 801, 'main': 'Clouds', 'description': 'few clouds', 'icon': '02n'}], 'clouds': {'all': 15}, 'wind': {'speed': 1.48, 'deg': 264, 'gust': 1.29}, 'visibility': 10000, 'pop': 0.02, 'sys': {'pod': 'n'}, 'dt_txt': '2023-09-29 21:00:00'}, {'dt': 1696032000, 'main': {'temp': 281.94, 'feels_like': 281.23, 'temp_min': 281.94, 'temp_max': 281.94, 'pressure': 1005, 'sea_level': 1005, 'grnd_level': 986, 'humidity': 92, 'temp_kf': 0}, 'weather': [{'id': 802, 'main': 'Clouds', 'description': 'scattered clouds', 'icon': '03n'}], 'clouds': {'all': 36}, 'wind': {'speed': 1.68, 'deg': 234, 'gust': 2.47}, 'visibility': 10000, 'pop': 0, 'sys': {'pod': 'n'}, 'dt_txt': '2023-09-30 00:00:00'}, {'dt': 1696042800, 'main': {'temp': 280.9, 'feels_like': 279.98, 'temp_min': 280.9, 'temp_max': 280.9, 'pressure': 1005, 'sea_level': 1005, 'grnd_level': 986, 'humidity': 91, 'temp_kf': 0}, 'weather': [{'id': 802, 'main': 'Clouds', 'description': 'scattered clouds', 'icon': '03n'}], 'clouds': {'all': 44}, 'wind': {'speed': 1.73, 'deg': 259, 'gust': 1.83}, 'visibility': 10000, 'pop': 0, 'sys': {'pod': 'n'}, 'dt_txt': '2023-09-30 03:00:00'}, {'dt': 1696053600, 'main': {'temp': 280.28, 'feels_like': 278.95, 'temp_min': 280.28, 'temp_max': 280.28, 'pressure': 1007, 'sea_level': 1007, 'grnd_level': 988, 'humidity': 88, 'temp_kf': 0}, 'weather': [{'id': 802, 'main': 'Clouds', 'description': 'scattered clouds', 'icon': '03d'}], 'clouds': {'all': 48}, 'wind': {'speed': 2.05, 'deg': 273, 'gust': 2.7}, 'visibility': 10000, 'pop': 0, 'sys': {'pod': 'd'}, 'dt_txt': '2023-09-30 06:00:00'}, {'dt': 1696064400, 'main': {'temp': 286.02, 'feels_like': 284.93, 'temp_min': 286.02, 'temp_max': 286.02, 'pressure': 1007, 'sea_level': 1007, 'grnd_level': 990, 'humidity': 60, 'temp_kf': 0}, 'weather': [{'id': 803, 'main': 'Clouds', 'description': 'broken clouds', 'icon': '04d'}], 'clouds': {'all': 83}, 'wind': {'speed': 2.29, 'deg': 266, 'gust': 6.63}, 'visibility': 10000, 'pop': 0, 'sys': {'pod': 'd'}, 'dt_txt': '2023-09-30 09:00:00'}, {'dt': 1696075200, 'main': {'temp': 288.77, 'feels_like': 287.64, 'temp_min': 288.77, 'temp_max': 288.77, 'pressure': 1008, 'sea_level': 1008, 'grnd_level': 991, 'humidity': 48, 'temp_kf': 0}, 'weather': [{'id': 802, 'main': 'Clouds', 'description': 'scattered clouds', 'icon': '03d'}], 'clouds': {'all': 49}, 'wind': {'speed': 3.3, 'deg': 286, 'gust': 7.56}, 'visibility': 10000, 'pop': 0, 'sys': {'pod': 'd'}, 'dt_txt': '2023-09-30 12:00:00'}, {'dt': 1696086000, 'main': {'temp': 287.66, 'feels_like': 286.63, 'temp_min': 287.66, 'temp_max': 287.66, 'pressure': 1010, 'sea_level': 1010, 'grnd_level': 992, 'humidity': 56, 'temp_kf': 0}, 'weather': [{'id': 800, 'main': 'Clear', 'description': 'clear sky', 'icon': '01d'}], 'clouds': {'all': 6}, 'wind': {'speed': 3.33, 'deg': 282, 'gust': 7.28}, 'visibility': 10000, 'pop': 0, 'sys': {'pod': 'd'}, 'dt_txt': '2023-09-30 15:00:00'}, {'dt': 1696096800, 'main': {'temp': 282.45, 'feels_like': 281.18, 'temp_min': 282.45, 'temp_max': 282.45, 'pressure': 1012, 'sea_level': 1012, 'grnd_level': 994, 'humidity': 75, 'temp_kf': 0}, 'weather': [{'id': 800, 'main': 'Clear', 'description': 'clear sky', 'icon': '01n'}], 'clouds': {'all': 5}, 'wind': {'speed': 2.45, 'deg': 282, 'gust': 3.28}, 'visibility': 10000, 'pop': 0, 'sys': {'pod': 'n'}, 'dt_txt': '2023-09-30 18:00:00'}, {'dt': 1696107600, 'main': {'temp': 281.2, 'feels_like': 279.94, 'temp_min': 281.2, 'temp_max': 281.2, 'pressure': 1013, 'sea_level': 1013, 'grnd_level': 994, 'humidity': 83, 'temp_kf': 0}, 'weather': [{'id': 803, 'main': 'Clouds', 'description': 'broken clouds', 'icon': '04n'}], 'clouds': {'all': 75}, 'wind': {'speed': 2.15, 'deg': 284, 'gust': 2.08}, 'visibility': 10000, 'pop': 0, 'sys': {'pod': 'n'}, 'dt_txt': '2023-09-30 21:00:00'}, {'dt': 1696118400, 'main': {'temp': 280.19, 'feels_like': 278.9, 'temp_min': 280.19, 'temp_max': 280.19, 'pressure': 1013, 'sea_level': 1013, 'grnd_level': 995, 'humidity': 88, 'temp_kf': 0}, 'weather': [{'id': 803, 'main': 'Clouds', 'description': 'broken clouds', 'icon': '04n'}], 'clouds': {'all': 58}, 'wind': {'speed': 1.99, 'deg': 289, 'gust': 1.91}, 'visibility': 10000, 'pop': 0, 'sys': {'pod': 'n'}, 'dt_txt': '2023-10-01 00:00:00'}, {'dt': 1696129200, 'main': {'temp': 279.5, 'feels_like': 278.14, 'temp_min': 279.5, 'temp_max': 279.5, 'pressure': 1013, 'sea_level': 1013, 'grnd_level': 995, 'humidity': 89, 'temp_kf': 0}, 'weather': [{'id': 802, 'main': 'Clouds', 'description': 'scattered clouds', 'icon': '03n'}], 'clouds': {'all': 29}, 'wind': {'speed': 1.95, 'deg': 292, 'gust': 1.84}, 'visibility': 10000, 'pop': 0, 'sys': {'pod': 'n'}, 'dt_txt': '2023-10-01 03:00:00'}, {'dt': 1696140000, 'main': {'temp': 279.08, 'feels_like': 277.71, 'temp_min': 279.08, 'temp_max': 279.08, 'pressure': 1014, 'sea_level': 1014, 'grnd_level': 995, 'humidity': 88, 'temp_kf': 0}, 'weather': [{'id': 801, 'main': 'Clouds', 'description': 'few clouds', 'icon': '02d'}], 'clouds': {'all': 19}, 'wind': {'speed': 1.89, 'deg': 296, 'gust': 1.86}, 'visibility': 10000, 'pop': 0, 'sys': {'pod': 'd'}, 'dt_txt': '2023-10-01 06:00:00'}, {'dt': 1696150800, 'main': {'temp': 285.11, 'feels_like': 283.98, 'temp_min': 285.11, 'temp_max': 285.11, 'pressure': 1013, 'sea_level': 1013, 'grnd_level': 995, 'humidity': 62, 'temp_kf': 0}, 'weather': [{'id': 802, 'main': 'Clouds', 'description': 'scattered clouds', 'icon': '03d'}], 'clouds': {'all': 37}, 'wind': {'speed': 0.77, 'deg': 283, 'gust': 1.46}, 'visibility': 10000, 'pop': 0, 'sys': {'pod': 'd'}, 'dt_txt': '2023-10-01 09:00:00'}, {'dt': 1696161600, 'main': {'temp': 287.82, 'feels_like': 286.7, 'temp_min': 287.82, 'temp_max': 287.82, 'pressure': 1013, 'sea_level': 1013, 'grnd_level': 995, 'humidity': 52, 'temp_kf': 0}, 'weather': [{'id': 803, 'main': 'Clouds', 'description': 'broken clouds', 'icon': '04d'}], 'clouds': {'all': 58}, 'wind': {'speed': 1, 'deg': 169, 'gust': 1.38}, 'visibility': 10000, 'pop': 0, 'sys': {'pod': 'd'}, 'dt_txt': '2023-10-01 12:00:00'}, {'dt': 1696172400, 'main': {'temp': 287.25, 'feels_like': 286.23, 'temp_min': 287.25, 'temp_max': 287.25, 'pressure': 1011, 'sea_level': 1011, 'grnd_level': 994, 'humidity': 58, 'temp_kf': 0}, 'weather': [{'id': 803, 'main': 'Clouds', 'description': 'broken clouds', 'icon': '04d'}], 'clouds': {'all': 80}, 'wind': {'speed': 1.58, 'deg': 152, 'gust': 2.27}, 'visibility': 10000, 'pop': 0, 'sys': {'pod': 'd'}, 'dt_txt': '2023-10-01 15:00:00'}, {'dt': 1696183200, 'main': {'temp': 281.92, 'feels_like': 281.92, 'temp_min': 281.92, 'temp_max': 281.92, 'pressure': 1012, 'sea_level': 1012, 'grnd_level': 994, 'humidity': 81, 'temp_kf': 0}, 'weather': [{'id': 803, 'main': 'Clouds', 'description': 'broken clouds', 'icon': '04n'}], 'clouds': {'all': 75}, 'wind': {'speed': 0.72, 'deg': 272, 'gust': 0.83}, 'visibility': 10000, 'pop': 0, 'sys': {'pod': 'n'}, 'dt_txt': '2023-10-01 18:00:00'}, {'dt': 1696194000, 'main': {'temp': 281.17, 'feels_like': 281.17, 'temp_min': 281.17, 'temp_max': 281.17, 'pressure': 1012, 'sea_level': 1012, 'grnd_level': 994, 'humidity': 83, 'temp_kf': 0}, 'weather': [{'id': 803, 'main': 'Clouds', 'description': 'broken clouds', 'icon': '04n'}], 'clouds': {'all': 62}, 'wind': {'speed': 0.97, 'deg': 276, 'gust': 0.9}, 'visibility': 10000, 'pop': 0, 'sys': {'pod': 'n'}, 'dt_txt': '2023-10-01 21:00:00'}, {'dt': 1696204800, 'main': {'temp': 281.05, 'feels_like': 280.55, 'temp_min': 281.05, 'temp_max': 281.05, 'pressure': 1012, 'sea_level': 1012, 'grnd_level': 994, 'humidity': 79, 'temp_kf': 0}, 'weather': [{'id': 803, 'main': 'Clouds', 'description': 'broken clouds', 'icon': '04n'}], 'clouds': {'all': 80}, 'wind': {'speed': 1.38, 'deg': 281, 'gust': 1.2}, 'visibility': 10000, 'pop': 0, 'sys': {'pod': 'n'}, 'dt_txt': '2023-10-02 00:00:00'}, {'dt': 1696215600, 'main': {'temp': 280.95, 'feels_like': 280.06, 'temp_min': 280.95, 'temp_max': 280.95, 'pressure': 1012, 'sea_level': 1012, 'grnd_level': 994, 'humidity': 81, 'temp_kf': 0}, 'weather': [{'id': 804, 'main': 'Clouds', 'description': 'overcast clouds', 'icon': '04n'}], 'clouds': {'all': 100}, 'wind': {'speed': 1.71, 'deg': 292, 'gust': 1.73}, 'visibility': 10000, 'pop': 0, 'sys': {'pod': 'n'}, 'dt_txt': '2023-10-02 03:00:00'}, {'dt': 1696226400, 'main': {'temp': 280.76, 'feels_like': 279.43, 'temp_min': 280.76, 'temp_max': 280.76, 'pressure': 1013, 'sea_level': 1013, 'grnd_level': 994, 'humidity': 88, 'temp_kf': 0}, 'weather': [{'id': 803, 'main': 'Clouds', 'description': 'broken clouds', 'icon': '04d'}], 'clouds': {'all': 84}, 'wind': {'speed': 2.14, 'deg': 280, 'gust': 2.01}, 'visibility': 10000, 'pop': 0, 'sys': {'pod': 'd'}, 'dt_txt': '2023-10-02 06:00:00'}, {'dt': 1696237200, 'main': {'temp': 286.36, 'feels_like': 285.3, 'temp_min': 286.36, 'temp_max': 286.36, 'pressure': 1012, 'sea_level': 1012, 'grnd_level': 994, 'humidity': 60, 'temp_kf': 0}, 'weather': [{'id': 803, 'main': 'Clouds', 'description': 'broken clouds', 'icon': '04d'}], 'clouds': {'all': 62}, 'wind': {'speed': 1.18, 'deg': 257, 'gust': 2.53}, 'visibility': 10000, 'pop': 0, 'sys': {'pod': 'd'}, 'dt_txt': '2023-10-02 09:00:00'}, {'dt': 1696248000, 'main': {'temp': 288.54, 'feels_like': 287.39, 'temp_min': 288.54, 'temp_max': 288.54, 'pressure': 1011, 'sea_level': 1011, 'grnd_level': 994, 'humidity': 48, 'temp_kf': 0}, 'weather': [{'id': 803, 'main': 'Clouds', 'description': 'broken clouds', 'icon': '04d'}], 'clouds': {'all': 81}, 'wind': {'speed': 0.84, 'deg': 222, 'gust': 1.93}, 'visibility': 10000, 'pop': 0, 'sys': {'pod': 'd'}, 'dt_txt': '2023-10-02 12:00:00'}, {'dt': 1696258800, 'main': {'temp': 287.23, 'feels_like': 286.29, 'temp_min': 287.23, 'temp_max': 287.23, 'pressure': 1010, 'sea_level': 1010, 'grnd_level': 992, 'humidity': 61, 'temp_kf': 0}, 'weather': [{'id': 804, 'main': 'Clouds', 'description': 'overcast clouds', 'icon': '04d'}], 'clouds': {'all': 100}, 'wind': {'speed': 1.26, 'deg': 167, 'gust': 1.57}, 'visibility': 10000, 'pop': 0, 'sys': {'pod': 'd'}, 'dt_txt': '2023-10-02 15:00:00'}, {'dt': 1696269600, 'main': {'temp': 283.41, 'feels_like': 282.45, 'temp_min': 283.41, 'temp_max': 283.41, 'pressure': 1010, 'sea_level': 1010, 'grnd_level': 992, 'humidity': 75, 'temp_kf': 0}, 'weather': [{'id': 804, 'main': 'Clouds', 'description': 'overcast clouds', 'icon': '04n'}], 'clouds': {'all': 100}, 'wind': {'speed': 0.63, 'deg': 236, 'gust': 0.71}, 'visibility': 10000, 'pop': 0, 'sys': {'pod': 'n'}, 'dt_txt': '2023-10-02 18:00:00'}, {'dt': 1696280400, 'main': {'temp': 282.82, 'feels_like': 282.82, 'temp_min': 282.82, 'temp_max': 282.82, 'pressure': 1009, 'sea_level': 1009, 'grnd_level': 991, 'humidity': 77, 'temp_kf': 0}, 'weather': [{'id': 804, 'main': 'Clouds', 'description': 'overcast clouds', 'icon': '04n'}], 'clouds': {'all': 100}, 'wind': {'speed': 0.68, 'deg': 295, 'gust': 0.64}, 'visibility': 10000, 'pop': 0, 'sys': {'pod': 'n'}, 'dt_txt': '2023-10-02 21:00:00'}, {'dt': 1696291200, 'main': {'temp': 281.55, 'feels_like': 281.55, 'temp_min': 281.55, 'temp_max': 281.55, 'pressure': 1007, 'sea_level': 1007, 'grnd_level': 989, 'humidity': 80, 'temp_kf': 0}, 'weather': [{'id': 804, 'main': 'Clouds', 'description': 'overcast clouds', 'icon': '04n'}], 'clouds': {'all': 100}, 'wind': {'speed': 0.91, 'deg': 292, 'gust': 0.84}, 'visibility': 10000, 'pop': 0, 'sys': {'pod': 'n'}, 'dt_txt': '2023-10-03 00:00:00'}, {'dt': 1696302000, 'main': {'temp': 281.32, 'feels_like': 281.32, 'temp_min': 281.32, 'temp_max': 281.32, 'pressure': 1005, 'sea_level': 1005, 'grnd_level': 987, 'humidity': 79, 'temp_kf': 0}, 'weather': [{'id': 804, 'main': 'Clouds', 'description': 'overcast clouds', 'icon': '04n'}], 'clouds': {'all': 100}, 'wind': {'speed': 0.82, 'deg': 264, 'gust': 0.76}, 'visibility': 10000, 'pop': 0, 'sys': {'pod': 'n'}, 'dt_txt': '2023-10-03 03:00:00'}, {'dt': 1696312800, 'main': {'temp': 281.14, 'feels_like': 280.67, 'temp_min': 281.14, 'temp_max': 281.14, 'pressure': 1004, 'sea_level': 1004, 'grnd_level': 985, 'humidity': 80, 'temp_kf': 0}, 'weather': [{'id': 804, 'main': 'Clouds', 'description': 'overcast clouds', 'icon': '04d'}], 'clouds': {'all': 100}, 'wind': {'speed': 1.36, 'deg': 301, 'gust': 1.23}, 'visibility': 10000, 'pop': 0, 'sys': {'pod': 'd'}, 'dt_txt': '2023-10-03 06:00:00'}, {'dt': 1696323600, 'main': {'temp': 286.39, 'feels_like': 285.39, 'temp_min': 286.39, 'temp_max': 286.39, 'pressure': 1002, 'sea_level': 1002, 'grnd_level': 984, 'humidity': 62, 'temp_kf': 0}, 'weather': [{'id': 801, 'main': 'Clouds', 'description': 'few clouds', 'icon': '02d'}], 'clouds': {'all': 14}, 'wind': {'speed': 1, 'deg': 238, 'gust': 2.22}, 'visibility': 10000, 'pop': 0, 'sys': {'pod': 'd'}, 'dt_txt': '2023-10-03 09:00:00'}], 'city': {'id': 3144113, 'name': 'Noresund', 'coord': {'lat': 60.1803, 'lon': 9.6231}, 'country': 'NO', 'population': 1000, 'timezone': 7200, 'sunrise': 1695878326, 'sunset': 1695920747}}\n"
     ]
    }
   ],
   "source": [
    "responseF = requests.get(urlF).json()\n",
    "print(responseF)"
   ]
  },
  {
   "cell_type": "code",
   "execution_count": 11,
   "metadata": {
    "slideshow": {
     "slide_type": "slide"
    }
   },
   "outputs": [],
   "source": [
    "# Write JSON to file for viewing\n",
    "with open('downloads/forecast.json', 'w') as f:\n",
    "    json.dump(responseF, f, indent=4)"
   ]
  },
  {
   "cell_type": "markdown",
   "metadata": {
    "slideshow": {
     "slide_type": "slide"
    }
   },
   "source": [
    "### When and what?\n",
    "Check contents and time stamps"
   ]
  },
  {
   "cell_type": "code",
   "execution_count": 12,
   "metadata": {
    "slideshow": {
     "slide_type": "-"
    }
   },
   "outputs": [
    {
     "data": {
      "text/plain": [
       "dict_keys(['cod', 'message', 'cnt', 'list', 'city'])"
      ]
     },
     "execution_count": 12,
     "metadata": {},
     "output_type": "execute_result"
    }
   ],
   "source": [
    "# Content of responseF\n",
    "responseF.keys()"
   ]
  },
  {
   "cell_type": "code",
   "execution_count": 13,
   "metadata": {
    "slideshow": {
     "slide_type": "fragment"
    }
   },
   "outputs": [
    {
     "name": "stdout",
     "output_type": "stream",
     "text": [
      "40\n"
     ]
    }
   ],
   "source": [
    "# Number of forecasts\n",
    "print(len(responseF[\"list\"]))"
   ]
  },
  {
   "cell_type": "code",
   "execution_count": 14,
   "metadata": {
    "scrolled": true,
    "slideshow": {
     "slide_type": "slide"
    }
   },
   "outputs": [
    {
     "name": "stdout",
     "output_type": "stream",
     "text": [
      "2023-09-28 12:00:00\n",
      "2023-09-28 15:00:00\n",
      "2023-09-28 18:00:00\n",
      "2023-09-28 21:00:00\n",
      "2023-09-29 00:00:00\n",
      "2023-09-29 03:00:00\n",
      "2023-09-29 06:00:00\n",
      "2023-09-29 09:00:00\n",
      "2023-09-29 12:00:00\n",
      "2023-09-29 15:00:00\n",
      "2023-09-29 18:00:00\n",
      "2023-09-29 21:00:00\n",
      "2023-09-30 00:00:00\n",
      "2023-09-30 03:00:00\n",
      "2023-09-30 06:00:00\n",
      "2023-09-30 09:00:00\n",
      "2023-09-30 12:00:00\n",
      "2023-09-30 15:00:00\n",
      "2023-09-30 18:00:00\n",
      "2023-09-30 21:00:00\n",
      "2023-10-01 00:00:00\n",
      "2023-10-01 03:00:00\n",
      "2023-10-01 06:00:00\n",
      "2023-10-01 09:00:00\n",
      "2023-10-01 12:00:00\n",
      "2023-10-01 15:00:00\n",
      "2023-10-01 18:00:00\n",
      "2023-10-01 21:00:00\n",
      "2023-10-02 00:00:00\n",
      "2023-10-02 03:00:00\n",
      "2023-10-02 06:00:00\n",
      "2023-10-02 09:00:00\n",
      "2023-10-02 12:00:00\n",
      "2023-10-02 15:00:00\n",
      "2023-10-02 18:00:00\n",
      "2023-10-02 21:00:00\n",
      "2023-10-03 00:00:00\n",
      "2023-10-03 03:00:00\n",
      "2023-10-03 06:00:00\n",
      "2023-10-03 09:00:00\n"
     ]
    }
   ],
   "source": [
    "# Print forecast times\n",
    "for forecast in responseF[\"list\"]:\n",
    "    print(forecast[\"dt_txt\"])"
   ]
  },
  {
   "cell_type": "markdown",
   "metadata": {
    "slideshow": {
     "slide_type": "slide"
    }
   },
   "source": [
    "## Make plots of omnipresent measurements and events\n",
    "We will later look at missing data, data only sporadically appearing and so on."
   ]
  },
  {
   "cell_type": "code",
   "execution_count": 15,
   "metadata": {
    "slideshow": {
     "slide_type": "-"
    }
   },
   "outputs": [],
   "source": [
    "# Air pressure per period\n",
    "pressures = []\n",
    "timestamps = []\n",
    "for forecast in responseF[\"list\"]:\n",
    "    pressures.append(forecast[\"main\"][\"pressure\"])\n",
    "    timestamps.append(dt.datetime.fromtimestamp(forecast[\"dt\"]))"
   ]
  },
  {
   "cell_type": "code",
   "execution_count": 16,
   "metadata": {
    "slideshow": {
     "slide_type": "slide"
    }
   },
   "outputs": [
    {
     "data": {
      "image/png": "[encoded data removed]",
      "text/plain": [
       "<Figure size 640x480 with 1 Axes>"
      ]
     },
     "metadata": {},
     "output_type": "display_data"
    }
   ],
   "source": [
    "import matplotlib.pyplot as plt\n",
    "plt.bar(timestamps, pressures)\n",
    "plt.xticks(rotation=45)\n",
    "plt.ylim(950, 1050)\n",
    "plt.grid()\n",
    "plt.ylabel(\"Air pressure (hPa)\")\n",
    "plt.title(f\"Forecasted air pressure in {CITY}\")\n",
    "plt.show()"
   ]
  },
  {
   "cell_type": "markdown",
   "metadata": {
    "slideshow": {
     "slide_type": "slide"
    }
   },
   "source": [
    "## Exercise\n",
    "- Make a new forecast request for your own hometown. Call your response something else than responseF.\n",
    "- If available, plot the humidity like we did with air pressure."
   ]
  },
  {
   "cell_type": "markdown",
   "metadata": {
    "slideshow": {
     "slide_type": "slide"
    }
   },
   "source": [
    "### Precipitation\n",
    "- ... comes in two main flavours: rain and snow.\n",
    "- We need to check which is present and set to zero if it is abscent."
   ]
  },
  {
   "cell_type": "code",
   "execution_count": 17,
   "metadata": {
    "slideshow": {
     "slide_type": "-"
    }
   },
   "outputs": [],
   "source": [
    "rain = []\n",
    "snow = []\n",
    "for forecast in responseF[\"list\"]:\n",
    "    try: # Check if rain is present in forecast\n",
    "        rain.append(forecast[\"rain\"][\"3h\"])\n",
    "    except KeyError:\n",
    "        rain.append(0)\n",
    "    try: # Check if snow is present in forecast\n",
    "        snow.append(forecast[\"snow\"][\"3h\"])\n",
    "    except KeyError:\n",
    "        snow.append(0)"
   ]
  },
  {
   "cell_type": "code",
   "execution_count": 18,
   "metadata": {
    "slideshow": {
     "slide_type": "slide"
    }
   },
   "outputs": [
    {
     "data": {
      "image/png": "[encoded data removed]",
      "text/plain": [
       "<Figure size 640x480 with 1 Axes>"
      ]
     },
     "metadata": {},
     "output_type": "display_data"
    }
   ],
   "source": [
    "# Stacked bar chart with rain and snow\n",
    "plt.bar(timestamps, rain, label=\"Rain\")\n",
    "plt.bar(timestamps, snow, label=\"Snow\")\n",
    "plt.xticks(rotation=45)\n",
    "plt.grid()\n",
    "plt.ylabel(\"Precipitation (mm)\")\n",
    "plt.title(f\"Forecasted precipitation in {CITY}\")\n",
    "plt.legend()\n",
    "plt.show()\n"
   ]
  },
  {
   "cell_type": "markdown",
   "metadata": {
    "slideshow": {
     "slide_type": "slide"
    }
   },
   "source": [
    "## Resources\n",
    "- [YouTube: NeuralNine's video (15m:32s)](https://www.youtube.com/watch?v=9P5MY_2i7K8)"
   ]
  }
 ],
 "metadata": {
  "celltoolbar": "Slideshow",
  "kernelspec": {
   "display_name": "Python 3 (ipykernel)",
   "language": "python",
   "name": "python3"
  },
  "language_info": {
   "codemirror_mode": {
    "name": "ipython",
    "version": 3
   },
   "file_extension": ".py",
   "mimetype": "text/x-python",
   "name": "python",
   "nbconvert_exporter": "python",
   "pygments_lexer": "ipython3",
   "version": "3.10.6"
  }
 },
 "nbformat": 4,
 "nbformat_minor": 2
}