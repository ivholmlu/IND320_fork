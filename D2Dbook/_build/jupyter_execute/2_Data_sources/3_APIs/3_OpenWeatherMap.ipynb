{
 "cells": [
  {
   "cell_type": "markdown",
   "metadata": {
    "slideshow": {
     "slide_type": "slide"
    }
   },
   "source": [
    "# Demonstration of API using OpenWeatherMap.org\n",
    "This demonstration is heavily inspired by [NeuralNine's video](https://www.youtube.com/watch?v=9P5MY_2i7K8).  \n",
    "You need a free account [from here](https://openweathermap.org/api).  \n",
    "The VS Code extension _JSON viewer_ is recommended for viewing downloaded JSON content.  \n",
    "  - Set your maximum API calls to 1000 per day to make sure you are under the limit for billing. \n",
    "  - To run the examples, download your API key, save it in the right folder (see below) in a file called _api\\_key\\_OpenWeather_, containing only the key (no spaces or \"enters\")."
   ]
  },
  {
   "cell_type": "code",
   "execution_count": 1,
   "metadata": {
    "slideshow": {
     "slide_type": "fragment"
    }
   },
   "outputs": [],
   "source": [
    "# Imports\n",
    "import datetime as dt\n",
    "import requests\n",
    "import json"
   ]
  },
  {
   "cell_type": "markdown",
   "metadata": {
    "slideshow": {
     "slide_type": "slide"
    }
   },
   "source": [
    "## Current weather\n",
    "### Common definitions to use for all requests"
   ]
  },
  {
   "cell_type": "code",
   "execution_count": 2,
   "metadata": {
    "slideshow": {
     "slide_type": "-"
    }
   },
   "outputs": [],
   "source": [
    "BASE_URL = \"http://api.openweathermap.org/data/2.5/weather?\"\n",
    "API_KEY = open('../../../No_sync/api_key_OpenWeather','r').read()\n",
    "CITY = \"Ski\"\n",
    "\n",
    "url = BASE_URL + \"q=\" + CITY + \"&appid=\" + API_KEY"
   ]
  },
  {
   "cell_type": "markdown",
   "metadata": {
    "slideshow": {
     "slide_type": "slide"
    }
   },
   "source": [
    "## Request current weather in chosen city"
   ]
  },
  {
   "cell_type": "code",
   "execution_count": 3,
   "metadata": {
    "slideshow": {
     "slide_type": "fragment"
    }
   },
   "outputs": [
    {
     "name": "stdout",
     "output_type": "stream",
     "text": [
      "{'coord': {'lon': 10.8358, 'lat': 59.7195}, 'weather': [{'id': 804, 'main': 'Clouds', 'description': 'overcast clouds', 'icon': '04d'}], 'base': 'stations', 'main': {'temp': 277.4, 'feels_like': 275.33, 'temp_min': 276.92, 'temp_max': 278.2, 'pressure': 990, 'humidity': 98, 'sea_level': 990, 'grnd_level': 973}, 'visibility': 10000, 'wind': {'speed': 2.31, 'deg': 359, 'gust': 6.12}, 'clouds': {'all': 100}, 'dt': 1699259318, 'sys': {'type': 2, 'id': 2006772, 'country': 'NO', 'sunrise': 1699253345, 'sunset': 1699283487}, 'timezone': 3600, 'id': 3139081, 'name': 'Ski', 'cod': 200}\n"
     ]
    }
   ],
   "source": [
    "response = requests.get(url).json()\n",
    "print(response)"
   ]
  },
  {
   "cell_type": "code",
   "execution_count": 4,
   "metadata": {
    "slideshow": {
     "slide_type": "fragment"
    }
   },
   "outputs": [],
   "source": [
    "# Write JSON to file for viewing\n",
    "with open('downloads/weather.json', 'w') as f:\n",
    "    json.dump(response, f, indent=4)"
   ]
  },
  {
   "cell_type": "markdown",
   "metadata": {
    "slideshow": {
     "slide_type": "slide"
    }
   },
   "source": [
    "## Conversion functions\n",
    "Changing scales can make results more interpretable"
   ]
  },
  {
   "cell_type": "code",
   "execution_count": 5,
   "metadata": {
    "slideshow": {
     "slide_type": "-"
    }
   },
   "outputs": [],
   "source": [
    "# Kelvin to Celsius\n",
    "def kelvin_to_celsius(temp):\n",
    "    return temp - 273.15\n",
    "\n",
    "# Meters per second to knots\n",
    "def mps_to_knots(speed):\n",
    "    return speed * 1.943844"
   ]
  },
  {
   "cell_type": "markdown",
   "metadata": {
    "slideshow": {
     "slide_type": "slide"
    }
   },
   "source": [
    "## Print some weather properties"
   ]
  },
  {
   "cell_type": "code",
   "execution_count": 6,
   "metadata": {
    "slideshow": {
     "slide_type": "-"
    }
   },
   "outputs": [
    {
     "name": "stdout",
     "output_type": "stream",
     "text": [
      "The current temperature in Ski is 4.2°C\n"
     ]
    }
   ],
   "source": [
    "# Current temperature\n",
    "temp_kelvin = response['main']['temp']\n",
    "temp_celsius = kelvin_to_celsius(temp_kelvin)\n",
    "print(f\"The current temperature in {CITY} is {temp_celsius:.1f}°C\")"
   ]
  },
  {
   "cell_type": "code",
   "execution_count": 7,
   "metadata": {
    "slideshow": {
     "slide_type": "slide"
    }
   },
   "outputs": [
    {
     "name": "stdout",
     "output_type": "stream",
     "text": [
      "Sunrise today is at 07:49 and sunset is at 16:11\n"
     ]
    }
   ],
   "source": [
    "# Sunrise and sunset today in local time\n",
    "sunrise = dt.datetime.fromtimestamp(response['sys']['sunrise'])\n",
    "sunset = dt.datetime.fromtimestamp(response['sys']['sunset'])\n",
    "print(f\"Sunrise today is at {sunrise:%H:%M} and sunset is at {sunset:%H:%M}\")"
   ]
  },
  {
   "cell_type": "code",
   "execution_count": 8,
   "metadata": {
    "slideshow": {
     "slide_type": "fragment"
    }
   },
   "outputs": [
    {
     "name": "stdout",
     "output_type": "stream",
     "text": [
      "Wind today is from 359° at 4.5 knots\n"
     ]
    }
   ],
   "source": [
    "# Wind direction and speed\n",
    "wind_knots = mps_to_knots(response['wind']['speed'])\n",
    "print(f\"Wind today is from {response['wind']['deg']}° at {round(wind_knots,1)} knots\")"
   ]
  },
  {
   "cell_type": "markdown",
   "metadata": {
    "slideshow": {
     "slide_type": "slide"
    }
   },
   "source": [
    "## Forecasted weather\n",
    "### Common definitions to use for all requests"
   ]
  },
  {
   "cell_type": "code",
   "execution_count": 9,
   "metadata": {
    "slideshow": {
     "slide_type": "-"
    }
   },
   "outputs": [],
   "source": [
    "BASE_URL = \"http://api.openweathermap.org/data/2.5/forecast?\"\n",
    "CITY = \"Noresund\"\n",
    "\n",
    "urlF = BASE_URL + \"q=\" + CITY + \"&appid=\" + API_KEY"
   ]
  },
  {
   "cell_type": "markdown",
   "metadata": {
    "slideshow": {
     "slide_type": "slide"
    }
   },
   "source": [
    "## Request forecasted weather in chosen city"
   ]
  },
  {
   "cell_type": "code",
   "execution_count": 10,
   "metadata": {
    "slideshow": {
     "slide_type": "-"
    }
   },
   "outputs": [
    {
     "name": "stdout",
     "output_type": "stream",
     "text": [
      "{'cod': '200', 'message': 0, 'cnt': 40, 'list': [{'dt': 1699261200, 'main': {'temp': 277.09, 'feels_like': 275.89, 'temp_min': 275.92, 'temp_max': 277.09, 'pressure': 992, 'sea_level': 992, 'grnd_level': 973, 'humidity': 98, 'temp_kf': 1.17}, 'weather': [{'id': 804, 'main': 'Clouds', 'description': 'overcast clouds', 'icon': '04d'}], 'clouds': {'all': 100}, 'wind': {'speed': 1.5, 'deg': 346, 'gust': 2.69}, 'visibility': 4626, 'pop': 0.02, 'sys': {'pod': 'd'}, 'dt_txt': '2023-11-06 09:00:00'}, {'dt': 1699272000, 'main': {'temp': 276.94, 'feels_like': 276.94, 'temp_min': 276.63, 'temp_max': 276.94, 'pressure': 992, 'sea_level': 992, 'grnd_level': 974, 'humidity': 99, 'temp_kf': 0.31}, 'weather': [{'id': 804, 'main': 'Clouds', 'description': 'overcast clouds', 'icon': '04d'}], 'clouds': {'all': 100}, 'wind': {'speed': 1.28, 'deg': 344, 'gust': 2.55}, 'visibility': 2477, 'pop': 0, 'sys': {'pod': 'd'}, 'dt_txt': '2023-11-06 12:00:00'}, {'dt': 1699282800, 'main': {'temp': 276.42, 'feels_like': 275.28, 'temp_min': 276.08, 'temp_max': 276.42, 'pressure': 993, 'sea_level': 993, 'grnd_level': 975, 'humidity': 97, 'temp_kf': 0.34}, 'weather': [{'id': 804, 'main': 'Clouds', 'description': 'overcast clouds', 'icon': '04d'}], 'clouds': {'all': 100}, 'wind': {'speed': 1.39, 'deg': 341, 'gust': 2.15}, 'visibility': 296, 'pop': 0, 'sys': {'pod': 'd'}, 'dt_txt': '2023-11-06 15:00:00'}, {'dt': 1699293600, 'main': {'temp': 273.89, 'feels_like': 272.06, 'temp_min': 273.89, 'temp_max': 273.89, 'pressure': 995, 'sea_level': 995, 'grnd_level': 977, 'humidity': 95, 'temp_kf': 0}, 'weather': [{'id': 804, 'main': 'Clouds', 'description': 'overcast clouds', 'icon': '04n'}], 'clouds': {'all': 100}, 'wind': {'speed': 1.62, 'deg': 326, 'gust': 1.58}, 'visibility': 10000, 'pop': 0.01, 'sys': {'pod': 'n'}, 'dt_txt': '2023-11-06 18:00:00'}, {'dt': 1699304400, 'main': {'temp': 272.7, 'feels_like': 270.2, 'temp_min': 272.7, 'temp_max': 272.7, 'pressure': 997, 'sea_level': 997, 'grnd_level': 978, 'humidity': 94, 'temp_kf': 0}, 'weather': [{'id': 804, 'main': 'Clouds', 'description': 'overcast clouds', 'icon': '04n'}], 'clouds': {'all': 100}, 'wind': {'speed': 1.98, 'deg': 315, 'gust': 2.28}, 'visibility': 10000, 'pop': 0, 'sys': {'pod': 'n'}, 'dt_txt': '2023-11-06 21:00:00'}, {'dt': 1699315200, 'main': {'temp': 271.46, 'feels_like': 268.38, 'temp_min': 271.46, 'temp_max': 271.46, 'pressure': 998, 'sea_level': 998, 'grnd_level': 980, 'humidity': 93, 'temp_kf': 0}, 'weather': [{'id': 804, 'main': 'Clouds', 'description': 'overcast clouds', 'icon': '04n'}], 'clouds': {'all': 99}, 'wind': {'speed': 2.28, 'deg': 316, 'gust': 3.35}, 'visibility': 10000, 'pop': 0.01, 'sys': {'pod': 'n'}, 'dt_txt': '2023-11-07 00:00:00'}, {'dt': 1699326000, 'main': {'temp': 269.97, 'feels_like': 266.62, 'temp_min': 269.97, 'temp_max': 269.97, 'pressure': 1000, 'sea_level': 1000, 'grnd_level': 981, 'humidity': 94, 'temp_kf': 0}, 'weather': [{'id': 803, 'main': 'Clouds', 'description': 'broken clouds', 'icon': '04n'}], 'clouds': {'all': 84}, 'wind': {'speed': 2.28, 'deg': 315, 'gust': 3.11}, 'visibility': 10000, 'pop': 0, 'sys': {'pod': 'n'}, 'dt_txt': '2023-11-07 03:00:00'}, {'dt': 1699336800, 'main': {'temp': 270.14, 'feels_like': 267.22, 'temp_min': 270.14, 'temp_max': 270.14, 'pressure': 1001, 'sea_level': 1001, 'grnd_level': 982, 'humidity': 94, 'temp_kf': 0}, 'weather': [{'id': 804, 'main': 'Clouds', 'description': 'overcast clouds', 'icon': '04n'}], 'clouds': {'all': 90}, 'wind': {'speed': 1.98, 'deg': 317, 'gust': 2.52}, 'visibility': 10000, 'pop': 0, 'sys': {'pod': 'n'}, 'dt_txt': '2023-11-07 06:00:00'}, {'dt': 1699347600, 'main': {'temp': 272.39, 'feels_like': 270.51, 'temp_min': 272.39, 'temp_max': 272.39, 'pressure': 1001, 'sea_level': 1001, 'grnd_level': 983, 'humidity': 91, 'temp_kf': 0}, 'weather': [{'id': 804, 'main': 'Clouds', 'description': 'overcast clouds', 'icon': '04d'}], 'clouds': {'all': 99}, 'wind': {'speed': 1.51, 'deg': 326, 'gust': 2.1}, 'visibility': 10000, 'pop': 0, 'sys': {'pod': 'd'}, 'dt_txt': '2023-11-07 09:00:00'}, {'dt': 1699358400, 'main': {'temp': 275.35, 'feels_like': 275.35, 'temp_min': 275.35, 'temp_max': 275.35, 'pressure': 1002, 'sea_level': 1002, 'grnd_level': 983, 'humidity': 91, 'temp_kf': 0}, 'weather': [{'id': 804, 'main': 'Clouds', 'description': 'overcast clouds', 'icon': '04d'}], 'clouds': {'all': 99}, 'wind': {'speed': 0.5, 'deg': 9, 'gust': 1.05}, 'visibility': 10000, 'pop': 0, 'sys': {'pod': 'd'}, 'dt_txt': '2023-11-07 12:00:00'}, {'dt': 1699369200, 'main': {'temp': 273.02, 'feels_like': 273.02, 'temp_min': 273.02, 'temp_max': 273.02, 'pressure': 1002, 'sea_level': 1002, 'grnd_level': 984, 'humidity': 97, 'temp_kf': 0}, 'weather': [{'id': 804, 'main': 'Clouds', 'description': 'overcast clouds', 'icon': '04d'}], 'clouds': {'all': 100}, 'wind': {'speed': 0.87, 'deg': 317, 'gust': 0.78}, 'visibility': 10000, 'pop': 0, 'sys': {'pod': 'd'}, 'dt_txt': '2023-11-07 15:00:00'}, {'dt': 1699380000, 'main': {'temp': 271.36, 'feels_like': 269.44, 'temp_min': 271.36, 'temp_max': 271.36, 'pressure': 1003, 'sea_level': 1003, 'grnd_level': 985, 'humidity': 96, 'temp_kf': 0}, 'weather': [{'id': 804, 'main': 'Clouds', 'description': 'overcast clouds', 'icon': '04n'}], 'clouds': {'all': 100}, 'wind': {'speed': 1.45, 'deg': 313, 'gust': 1.21}, 'visibility': 10000, 'pop': 0, 'sys': {'pod': 'n'}, 'dt_txt': '2023-11-07 18:00:00'}, {'dt': 1699390800, 'main': {'temp': 270.2, 'feels_like': 267.68, 'temp_min': 270.2, 'temp_max': 270.2, 'pressure': 1004, 'sea_level': 1004, 'grnd_level': 985, 'humidity': 95, 'temp_kf': 0}, 'weather': [{'id': 804, 'main': 'Clouds', 'description': 'overcast clouds', 'icon': '04n'}], 'clouds': {'all': 100}, 'wind': {'speed': 1.71, 'deg': 313, 'gust': 1.43}, 'visibility': 10000, 'pop': 0, 'sys': {'pod': 'n'}, 'dt_txt': '2023-11-07 21:00:00'}, {'dt': 1699401600, 'main': {'temp': 269.2, 'feels_like': 266.31, 'temp_min': 269.2, 'temp_max': 269.2, 'pressure': 1005, 'sea_level': 1005, 'grnd_level': 986, 'humidity': 95, 'temp_kf': 0}, 'weather': [{'id': 804, 'main': 'Clouds', 'description': 'overcast clouds', 'icon': '04n'}], 'clouds': {'all': 100}, 'wind': {'speed': 1.85, 'deg': 317, 'gust': 1.53}, 'visibility': 10000, 'pop': 0, 'sys': {'pod': 'n'}, 'dt_txt': '2023-11-08 00:00:00'}, {'dt': 1699412400, 'main': {'temp': 268.42, 'feels_like': 265.35, 'temp_min': 268.42, 'temp_max': 268.42, 'pressure': 1005, 'sea_level': 1005, 'grnd_level': 986, 'humidity': 95, 'temp_kf': 0}, 'weather': [{'id': 804, 'main': 'Clouds', 'description': 'overcast clouds', 'icon': '04n'}], 'clouds': {'all': 96}, 'wind': {'speed': 1.89, 'deg': 321, 'gust': 1.54}, 'visibility': 10000, 'pop': 0, 'sys': {'pod': 'n'}, 'dt_txt': '2023-11-08 03:00:00'}, {'dt': 1699423200, 'main': {'temp': 267.68, 'feels_like': 264.44, 'temp_min': 267.68, 'temp_max': 267.68, 'pressure': 1006, 'sea_level': 1006, 'grnd_level': 987, 'humidity': 95, 'temp_kf': 0}, 'weather': [{'id': 804, 'main': 'Clouds', 'description': 'overcast clouds', 'icon': '04n'}], 'clouds': {'all': 88}, 'wind': {'speed': 1.92, 'deg': 325, 'gust': 1.6}, 'visibility': 10000, 'pop': 0, 'sys': {'pod': 'n'}, 'dt_txt': '2023-11-08 06:00:00'}, {'dt': 1699434000, 'main': {'temp': 270.27, 'feels_like': 270.27, 'temp_min': 270.27, 'temp_max': 270.27, 'pressure': 1006, 'sea_level': 1006, 'grnd_level': 987, 'humidity': 92, 'temp_kf': 0}, 'weather': [{'id': 802, 'main': 'Clouds', 'description': 'scattered clouds', 'icon': '03d'}], 'clouds': {'all': 40}, 'wind': {'speed': 1.3, 'deg': 344, 'gust': 1.82}, 'visibility': 10000, 'pop': 0, 'sys': {'pod': 'd'}, 'dt_txt': '2023-11-08 09:00:00'}, {'dt': 1699444800, 'main': {'temp': 273.25, 'feels_like': 273.25, 'temp_min': 273.25, 'temp_max': 273.25, 'pressure': 1006, 'sea_level': 1006, 'grnd_level': 987, 'humidity': 90, 'temp_kf': 0}, 'weather': [{'id': 802, 'main': 'Clouds', 'description': 'scattered clouds', 'icon': '03d'}], 'clouds': {'all': 34}, 'wind': {'speed': 0.77, 'deg': 41, 'gust': 1.05}, 'visibility': 10000, 'pop': 0, 'sys': {'pod': 'd'}, 'dt_txt': '2023-11-08 12:00:00'}, {'dt': 1699455600, 'main': {'temp': 270.06, 'feels_like': 270.06, 'temp_min': 270.06, 'temp_max': 270.06, 'pressure': 1007, 'sea_level': 1007, 'grnd_level': 988, 'humidity': 98, 'temp_kf': 0}, 'weather': [{'id': 802, 'main': 'Clouds', 'description': 'scattered clouds', 'icon': '03d'}], 'clouds': {'all': 45}, 'wind': {'speed': 1.07, 'deg': 335, 'gust': 0.98}, 'visibility': 8923, 'pop': 0, 'sys': {'pod': 'd'}, 'dt_txt': '2023-11-08 15:00:00'}, {'dt': 1699466400, 'main': {'temp': 272.63, 'feels_like': 272.63, 'temp_min': 272.63, 'temp_max': 272.63, 'pressure': 1006, 'sea_level': 1006, 'grnd_level': 987, 'humidity': 96, 'temp_kf': 0}, 'weather': [{'id': 803, 'main': 'Clouds', 'description': 'broken clouds', 'icon': '04n'}], 'clouds': {'all': 72}, 'wind': {'speed': 0.87, 'deg': 347, 'gust': 1.08}, 'visibility': 8368, 'pop': 0, 'sys': {'pod': 'n'}, 'dt_txt': '2023-11-08 18:00:00'}, {'dt': 1699477200, 'main': {'temp': 273.16, 'feels_like': 273.16, 'temp_min': 273.16, 'temp_max': 273.16, 'pressure': 1005, 'sea_level': 1005, 'grnd_level': 987, 'humidity': 98, 'temp_kf': 0}, 'weather': [{'id': 600, 'main': 'Snow', 'description': 'light snow', 'icon': '13n'}], 'clouds': {'all': 100}, 'wind': {'speed': 0.23, 'deg': 28, 'gust': 0.49}, 'visibility': 406, 'pop': 0.23, 'snow': {'3h': 0.12}, 'sys': {'pod': 'n'}, 'dt_txt': '2023-11-08 21:00:00'}, {'dt': 1699488000, 'main': {'temp': 273.44, 'feels_like': 273.44, 'temp_min': 273.44, 'temp_max': 273.44, 'pressure': 1003, 'sea_level': 1003, 'grnd_level': 985, 'humidity': 98, 'temp_kf': 0}, 'weather': [{'id': 600, 'main': 'Snow', 'description': 'light snow', 'icon': '13n'}], 'clouds': {'all': 100}, 'wind': {'speed': 1.03, 'deg': 52, 'gust': 1.54}, 'visibility': 120, 'pop': 0.85, 'snow': {'3h': 1.1}, 'sys': {'pod': 'n'}, 'dt_txt': '2023-11-09 00:00:00'}, {'dt': 1699498800, 'main': {'temp': 273.89, 'feels_like': 273.89, 'temp_min': 273.89, 'temp_max': 273.89, 'pressure': 1001, 'sea_level': 1001, 'grnd_level': 982, 'humidity': 99, 'temp_kf': 0}, 'weather': [{'id': 601, 'main': 'Snow', 'description': 'snow', 'icon': '13n'}], 'clouds': {'all': 100}, 'wind': {'speed': 1.06, 'deg': 41, 'gust': 1.83}, 'visibility': 88, 'pop': 1, 'snow': {'3h': 3.9}, 'sys': {'pod': 'n'}, 'dt_txt': '2023-11-09 03:00:00'}, {'dt': 1699509600, 'main': {'temp': 274.6, 'feels_like': 272.82, 'temp_min': 274.6, 'temp_max': 274.6, 'pressure': 999, 'sea_level': 999, 'grnd_level': 981, 'humidity': 99, 'temp_kf': 0}, 'weather': [{'id': 601, 'main': 'Snow', 'description': 'snow', 'icon': '13n'}], 'clouds': {'all': 100}, 'wind': {'speed': 1.66, 'deg': 29, 'gust': 2.83}, 'visibility': 83, 'pop': 1, 'snow': {'3h': 5.13}, 'sys': {'pod': 'n'}, 'dt_txt': '2023-11-09 06:00:00'}, {'dt': 1699520400, 'main': {'temp': 274.92, 'feels_like': 272.81, 'temp_min': 274.92, 'temp_max': 274.92, 'pressure': 999, 'sea_level': 999, 'grnd_level': 980, 'humidity': 99, 'temp_kf': 0}, 'weather': [{'id': 601, 'main': 'Snow', 'description': 'snow', 'icon': '13d'}], 'clouds': {'all': 100}, 'wind': {'speed': 1.95, 'deg': 23, 'gust': 3.07}, 'visibility': 75, 'pop': 1, 'snow': {'3h': 5.57}, 'sys': {'pod': 'd'}, 'dt_txt': '2023-11-09 09:00:00'}, {'dt': 1699531200, 'main': {'temp': 275.31, 'feels_like': 273.79, 'temp_min': 275.31, 'temp_max': 275.31, 'pressure': 998, 'sea_level': 998, 'grnd_level': 980, 'humidity': 100, 'temp_kf': 0}, 'weather': [{'id': 601, 'main': 'Snow', 'description': 'snow', 'icon': '13d'}], 'clouds': {'all': 100}, 'wind': {'speed': 1.55, 'deg': 21, 'gust': 2.58}, 'visibility': 68, 'pop': 1, 'snow': {'3h': 6.22}, 'sys': {'pod': 'd'}, 'dt_txt': '2023-11-09 12:00:00'}, {'dt': 1699542000, 'main': {'temp': 275.32, 'feels_like': 275.32, 'temp_min': 275.32, 'temp_max': 275.32, 'pressure': 999, 'sea_level': 999, 'grnd_level': 980, 'humidity': 99, 'temp_kf': 0}, 'weather': [{'id': 500, 'main': 'Rain', 'description': 'light rain', 'icon': '10d'}], 'clouds': {'all': 100}, 'wind': {'speed': 1.33, 'deg': 345, 'gust': 2.64}, 'visibility': 79, 'pop': 0.72, 'rain': {'3h': 0.11}, 'sys': {'pod': 'd'}, 'dt_txt': '2023-11-09 15:00:00'}, {'dt': 1699552800, 'main': {'temp': 275.37, 'feels_like': 275.37, 'temp_min': 275.37, 'temp_max': 275.37, 'pressure': 1000, 'sea_level': 1000, 'grnd_level': 982, 'humidity': 99, 'temp_kf': 0}, 'weather': [{'id': 600, 'main': 'Snow', 'description': 'light snow', 'icon': '13n'}], 'clouds': {'all': 100}, 'wind': {'speed': 0.82, 'deg': 2, 'gust': 0.93}, 'visibility': 3395, 'pop': 0.68, 'snow': {'3h': 0.11}, 'sys': {'pod': 'n'}, 'dt_txt': '2023-11-09 18:00:00'}, {'dt': 1699563600, 'main': {'temp': 275.37, 'feels_like': 275.37, 'temp_min': 275.37, 'temp_max': 275.37, 'pressure': 1001, 'sea_level': 1001, 'grnd_level': 982, 'humidity': 100, 'temp_kf': 0}, 'weather': [{'id': 804, 'main': 'Clouds', 'description': 'overcast clouds', 'icon': '04n'}], 'clouds': {'all': 100}, 'wind': {'speed': 0.93, 'deg': 33, 'gust': 1.01}, 'visibility': 6928, 'pop': 0.04, 'sys': {'pod': 'n'}, 'dt_txt': '2023-11-09 21:00:00'}, {'dt': 1699574400, 'main': {'temp': 275.49, 'feels_like': 275.49, 'temp_min': 275.49, 'temp_max': 275.49, 'pressure': 1001, 'sea_level': 1001, 'grnd_level': 982, 'humidity': 100, 'temp_kf': 0}, 'weather': [{'id': 804, 'main': 'Clouds', 'description': 'overcast clouds', 'icon': '04n'}], 'clouds': {'all': 100}, 'wind': {'speed': 1.29, 'deg': 23, 'gust': 1.78}, 'visibility': 6513, 'pop': 0.04, 'sys': {'pod': 'n'}, 'dt_txt': '2023-11-10 00:00:00'}, {'dt': 1699585200, 'main': {'temp': 275.56, 'feels_like': 274.07, 'temp_min': 275.56, 'temp_max': 275.56, 'pressure': 1000, 'sea_level': 1000, 'grnd_level': 981, 'humidity': 100, 'temp_kf': 0}, 'weather': [{'id': 601, 'main': 'Snow', 'description': 'snow', 'icon': '13n'}], 'clouds': {'all': 100}, 'wind': {'speed': 1.55, 'deg': 31, 'gust': 3.06}, 'visibility': 93, 'pop': 1, 'snow': {'3h': 2.63}, 'sys': {'pod': 'n'}, 'dt_txt': '2023-11-10 03:00:00'}, {'dt': 1699596000, 'main': {'temp': 275.52, 'feels_like': 275.52, 'temp_min': 275.52, 'temp_max': 275.52, 'pressure': 1000, 'sea_level': 1000, 'grnd_level': 982, 'humidity': 100, 'temp_kf': 0}, 'weather': [{'id': 501, 'main': 'Rain', 'description': 'moderate rain', 'icon': '10n'}], 'clouds': {'all': 100}, 'wind': {'speed': 1.06, 'deg': 26, 'gust': 2.21}, 'visibility': 46, 'pop': 1, 'rain': {'3h': 4.51}, 'sys': {'pod': 'n'}, 'dt_txt': '2023-11-10 06:00:00'}, {'dt': 1699606800, 'main': {'temp': 275.68, 'feels_like': 275.68, 'temp_min': 275.68, 'temp_max': 275.68, 'pressure': 1002, 'sea_level': 1002, 'grnd_level': 984, 'humidity': 100, 'temp_kf': 0}, 'weather': [{'id': 600, 'main': 'Snow', 'description': 'light snow', 'icon': '13d'}], 'clouds': {'all': 100}, 'wind': {'speed': 1.22, 'deg': 21, 'gust': 1.85}, 'visibility': 74, 'pop': 0.68, 'snow': {'3h': 0.85}, 'sys': {'pod': 'd'}, 'dt_txt': '2023-11-10 09:00:00'}, {'dt': 1699617600, 'main': {'temp': 275.77, 'feels_like': 275.77, 'temp_min': 275.77, 'temp_max': 275.77, 'pressure': 1004, 'sea_level': 1004, 'grnd_level': 985, 'humidity': 100, 'temp_kf': 0}, 'weather': [{'id': 500, 'main': 'Rain', 'description': 'light rain', 'icon': '10d'}], 'clouds': {'all': 100}, 'wind': {'speed': 1.19, 'deg': 29, 'gust': 1.87}, 'visibility': 50, 'pop': 0.6, 'rain': {'3h': 0.12}, 'sys': {'pod': 'd'}, 'dt_txt': '2023-11-10 12:00:00'}, {'dt': 1699628400, 'main': {'temp': 275.72, 'feels_like': 274.43, 'temp_min': 275.72, 'temp_max': 275.72, 'pressure': 1005, 'sea_level': 1005, 'grnd_level': 986, 'humidity': 100, 'temp_kf': 0}, 'weather': [{'id': 804, 'main': 'Clouds', 'description': 'overcast clouds', 'icon': '04d'}], 'clouds': {'all': 100}, 'wind': {'speed': 1.43, 'deg': 15, 'gust': 2.42}, 'visibility': 71, 'pop': 0.03, 'sys': {'pod': 'd'}, 'dt_txt': '2023-11-10 15:00:00'}, {'dt': 1699639200, 'main': {'temp': 275.33, 'feels_like': 273.87, 'temp_min': 275.33, 'temp_max': 275.33, 'pressure': 1006, 'sea_level': 1006, 'grnd_level': 987, 'humidity': 100, 'temp_kf': 0}, 'weather': [{'id': 601, 'main': 'Snow', 'description': 'snow', 'icon': '13n'}], 'clouds': {'all': 100}, 'wind': {'speed': 1.51, 'deg': 27, 'gust': 2.82}, 'visibility': 37, 'pop': 0.64, 'snow': {'3h': 1.61}, 'sys': {'pod': 'n'}, 'dt_txt': '2023-11-10 18:00:00'}, {'dt': 1699650000, 'main': {'temp': 275.4, 'feels_like': 273.75, 'temp_min': 275.4, 'temp_max': 275.4, 'pressure': 1007, 'sea_level': 1007, 'grnd_level': 988, 'humidity': 100, 'temp_kf': 0}, 'weather': [{'id': 601, 'main': 'Snow', 'description': 'snow', 'icon': '13n'}], 'clouds': {'all': 100}, 'wind': {'speed': 1.65, 'deg': 19, 'gust': 3.68}, 'visibility': 35, 'pop': 0.97, 'snow': {'3h': 3.06}, 'sys': {'pod': 'n'}, 'dt_txt': '2023-11-10 21:00:00'}, {'dt': 1699660800, 'main': {'temp': 275.44, 'feels_like': 273.89, 'temp_min': 275.44, 'temp_max': 275.44, 'pressure': 1008, 'sea_level': 1008, 'grnd_level': 989, 'humidity': 100, 'temp_kf': 0}, 'weather': [{'id': 601, 'main': 'Snow', 'description': 'snow', 'icon': '13n'}], 'clouds': {'all': 100}, 'wind': {'speed': 1.58, 'deg': 21, 'gust': 4.28}, 'visibility': 27, 'pop': 1, 'snow': {'3h': 2.2}, 'sys': {'pod': 'n'}, 'dt_txt': '2023-11-11 00:00:00'}, {'dt': 1699671600, 'main': {'temp': 275.48, 'feels_like': 274.04, 'temp_min': 275.48, 'temp_max': 275.48, 'pressure': 1009, 'sea_level': 1009, 'grnd_level': 990, 'humidity': 100, 'temp_kf': 0}, 'weather': [{'id': 600, 'main': 'Snow', 'description': 'light snow', 'icon': '13n'}], 'clouds': {'all': 100}, 'wind': {'speed': 1.51, 'deg': 22, 'gust': 4.5}, 'visibility': 26, 'pop': 0.98, 'snow': {'3h': 1.49}, 'sys': {'pod': 'n'}, 'dt_txt': '2023-11-11 03:00:00'}, {'dt': 1699682400, 'main': {'temp': 275.23, 'feels_like': 275.23, 'temp_min': 275.23, 'temp_max': 275.23, 'pressure': 1009, 'sea_level': 1009, 'grnd_level': 991, 'humidity': 99, 'temp_kf': 0}, 'weather': [{'id': 600, 'main': 'Snow', 'description': 'light snow', 'icon': '13n'}], 'clouds': {'all': 100}, 'wind': {'speed': 1.29, 'deg': 12, 'gust': 3.71}, 'visibility': 45, 'pop': 0.95, 'snow': {'3h': 0.4}, 'sys': {'pod': 'n'}, 'dt_txt': '2023-11-11 06:00:00'}], 'city': {'id': 3144113, 'name': 'Noresund', 'coord': {'lat': 60.1803, 'lon': 9.6231}, 'country': 'NO', 'population': 1000, 'timezone': 3600, 'sunrise': 1699253771, 'sunset': 1699283642}}\n"
     ]
    }
   ],
   "source": [
    "responseF = requests.get(urlF).json()\n",
    "print(responseF)"
   ]
  },
  {
   "cell_type": "code",
   "execution_count": 11,
   "metadata": {
    "slideshow": {
     "slide_type": "slide"
    }
   },
   "outputs": [],
   "source": [
    "# Write JSON to file for viewing\n",
    "with open('downloads/forecast.json', 'w') as f:\n",
    "    json.dump(responseF, f, indent=4)"
   ]
  },
  {
   "cell_type": "markdown",
   "metadata": {
    "slideshow": {
     "slide_type": "slide"
    }
   },
   "source": [
    "### When and what?\n",
    "Check contents and time stamps"
   ]
  },
  {
   "cell_type": "code",
   "execution_count": 12,
   "metadata": {
    "slideshow": {
     "slide_type": "-"
    }
   },
   "outputs": [
    {
     "data": {
      "text/plain": [
       "dict_keys(['cod', 'message', 'cnt', 'list', 'city'])"
      ]
     },
     "execution_count": 12,
     "metadata": {},
     "output_type": "execute_result"
    }
   ],
   "source": [
    "# Content of responseF\n",
    "responseF.keys()"
   ]
  },
  {
   "cell_type": "code",
   "execution_count": 13,
   "metadata": {
    "slideshow": {
     "slide_type": "fragment"
    }
   },
   "outputs": [
    {
     "name": "stdout",
     "output_type": "stream",
     "text": [
      "40\n"
     ]
    }
   ],
   "source": [
    "# Number of forecasts\n",
    "print(len(responseF[\"list\"]))"
   ]
  },
  {
   "cell_type": "code",
   "execution_count": 14,
   "metadata": {
    "scrolled": true,
    "slideshow": {
     "slide_type": "slide"
    }
   },
   "outputs": [
    {
     "name": "stdout",
     "output_type": "stream",
     "text": [
      "2023-11-06 09:00:00\n",
      "2023-11-06 12:00:00\n",
      "2023-11-06 15:00:00\n",
      "2023-11-06 18:00:00\n",
      "2023-11-06 21:00:00\n",
      "2023-11-07 00:00:00\n",
      "2023-11-07 03:00:00\n",
      "2023-11-07 06:00:00\n",
      "2023-11-07 09:00:00\n",
      "2023-11-07 12:00:00\n",
      "2023-11-07 15:00:00\n",
      "2023-11-07 18:00:00\n",
      "2023-11-07 21:00:00\n",
      "2023-11-08 00:00:00\n",
      "2023-11-08 03:00:00\n",
      "2023-11-08 06:00:00\n",
      "2023-11-08 09:00:00\n",
      "2023-11-08 12:00:00\n",
      "2023-11-08 15:00:00\n",
      "2023-11-08 18:00:00\n",
      "2023-11-08 21:00:00\n",
      "2023-11-09 00:00:00\n",
      "2023-11-09 03:00:00\n",
      "2023-11-09 06:00:00\n",
      "2023-11-09 09:00:00\n",
      "2023-11-09 12:00:00\n",
      "2023-11-09 15:00:00\n",
      "2023-11-09 18:00:00\n",
      "2023-11-09 21:00:00\n",
      "2023-11-10 00:00:00\n",
      "2023-11-10 03:00:00\n",
      "2023-11-10 06:00:00\n",
      "2023-11-10 09:00:00\n",
      "2023-11-10 12:00:00\n",
      "2023-11-10 15:00:00\n",
      "2023-11-10 18:00:00\n",
      "2023-11-10 21:00:00\n",
      "2023-11-11 00:00:00\n",
      "2023-11-11 03:00:00\n",
      "2023-11-11 06:00:00\n"
     ]
    }
   ],
   "source": [
    "# Print forecast times\n",
    "for forecast in responseF[\"list\"]:\n",
    "    print(forecast[\"dt_txt\"])"
   ]
  },
  {
   "cell_type": "markdown",
   "metadata": {
    "slideshow": {
     "slide_type": "slide"
    }
   },
   "source": [
    "## Make plots of omnipresent measurements and events\n",
    "We will later look at missing data, data only sporadically appearing and so on."
   ]
  },
  {
   "cell_type": "code",
   "execution_count": 15,
   "metadata": {
    "slideshow": {
     "slide_type": "-"
    }
   },
   "outputs": [],
   "source": [
    "# Air pressure per period\n",
    "pressures = []\n",
    "timestamps = []\n",
    "for forecast in responseF[\"list\"]:\n",
    "    pressures.append(forecast[\"main\"][\"pressure\"])\n",
    "    timestamps.append(dt.datetime.fromtimestamp(forecast[\"dt\"]))"
   ]
  },
  {
   "cell_type": "code",
   "execution_count": 16,
   "metadata": {
    "slideshow": {
     "slide_type": "slide"
    }
   },
   "outputs": [
    {
     "data": {
      "image/png": "[encoded data removed]",
      "text/plain": [
       "<Figure size 640x480 with 1 Axes>"
      ]
     },
     "metadata": {},
     "output_type": "display_data"
    }
   ],
   "source": [
    "import matplotlib.pyplot as plt\n",
    "plt.bar(timestamps, pressures)\n",
    "plt.xticks(rotation=45)\n",
    "plt.ylim(950, 1050)\n",
    "plt.grid()\n",
    "plt.ylabel(\"Air pressure (hPa)\")\n",
    "plt.title(f\"Forecasted air pressure in {CITY}\")\n",
    "plt.show()"
   ]
  },
  {
   "cell_type": "markdown",
   "metadata": {
    "slideshow": {
     "slide_type": "slide"
    }
   },
   "source": [
    "## Exercise\n",
    "- Make a new forecast request for your own hometown. Call your response something else than responseF.\n",
    "- If available, plot the humidity like we did with air pressure."
   ]
  },
  {
   "cell_type": "markdown",
   "metadata": {
    "slideshow": {
     "slide_type": "slide"
    }
   },
   "source": [
    "### Precipitation\n",
    "- ... comes in two main flavours: rain and snow.\n",
    "- We need to check which is present and set to zero if it is abscent."
   ]
  },
  {
   "cell_type": "code",
   "execution_count": 17,
   "metadata": {
    "slideshow": {
     "slide_type": "-"
    }
   },
   "outputs": [],
   "source": [
    "rain = []\n",
    "snow = []\n",
    "for forecast in responseF[\"list\"]:\n",
    "    try: # Check if rain is present in forecast\n",
    "        rain.append(forecast[\"rain\"][\"3h\"])\n",
    "    except KeyError:\n",
    "        rain.append(0)\n",
    "    try: # Check if snow is present in forecast\n",
    "        snow.append(forecast[\"snow\"][\"3h\"])\n",
    "    except KeyError:\n",
    "        snow.append(0)"
   ]
  },
  {
   "cell_type": "code",
   "execution_count": 18,
   "metadata": {
    "slideshow": {
     "slide_type": "slide"
    }
   },
   "outputs": [
    {
     "data": {
      "image/png": "[encoded data removed]",
      "text/plain": [
       "<Figure size 640x480 with 1 Axes>"
      ]
     },
     "metadata": {},
     "output_type": "display_data"
    }
   ],
   "source": [
    "# Stacked bar chart with rain and snow\n",
    "plt.bar(timestamps, rain, label=\"Rain\")\n",
    "plt.bar(timestamps, snow, label=\"Snow\")\n",
    "plt.xticks(rotation=45)\n",
    "plt.grid()\n",
    "plt.ylabel(\"Precipitation (mm)\")\n",
    "plt.title(f\"Forecasted precipitation in {CITY}\")\n",
    "plt.legend()\n",
    "plt.show()\n"
   ]
  },
  {
   "cell_type": "markdown",
   "metadata": {
    "slideshow": {
     "slide_type": "slide"
    }
   },
   "source": [
    "## Resources\n",
    "- [YouTube: NeuralNine's video (15m:32s)](https://www.youtube.com/watch?v=9P5MY_2i7K8)"
   ]
  }
 ],
 "metadata": {
  "celltoolbar": "Slideshow",
  "kernelspec": {
   "display_name": "Python 3 (ipykernel)",
   "language": "python",
   "name": "python3"
  },
  "language_info": {
   "codemirror_mode": {
    "name": "ipython",
    "version": 3
   },
   "file_extension": ".py",
   "mimetype": "text/x-python",
   "name": "python",
   "nbconvert_exporter": "python",
   "pygments_lexer": "ipython3",
   "version": "3.11.6"
  }
 },
 "nbformat": 4,
 "nbformat_minor": 2
}