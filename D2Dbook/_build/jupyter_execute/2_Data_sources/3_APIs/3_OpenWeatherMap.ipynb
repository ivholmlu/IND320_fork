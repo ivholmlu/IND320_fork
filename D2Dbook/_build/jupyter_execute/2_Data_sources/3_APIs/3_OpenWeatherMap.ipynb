{
 "cells": [
  {
   "cell_type": "markdown",
   "metadata": {
    "slideshow": {
     "slide_type": "slide"
    }
   },
   "source": [
    "# Demonstration of API using OpenWeatherMap.org\n",
    "This demonstration is heavily inspired by [NeuralNine's video](https://www.youtube.com/watch?v=9P5MY_2i7K8).  \n",
    "You need a free account [from here](https://openweathermap.org/api).  \n",
    "The VS Code extension _JSON viewer_ is recommended for viewing downloaded JSON content.  \n",
    "  - Set your maximum API calls to 1000 per day to make sure you are under the limit for billing. \n",
    "  - To run the examples, download your API key, save it in the right folder (see below) in a file called _api\\_key\\_OpenWeather_, containing only the key (no spaces or \"enters\")."
   ]
  },
  {
   "cell_type": "code",
   "execution_count": 1,
   "metadata": {
    "slideshow": {
     "slide_type": "fragment"
    }
   },
   "outputs": [],
   "source": [
    "# Imports\n",
    "import datetime as dt\n",
    "import requests\n",
    "import json"
   ]
  },
  {
   "cell_type": "markdown",
   "metadata": {
    "slideshow": {
     "slide_type": "slide"
    }
   },
   "source": [
    "## Current weather\n",
    "### Common definitions to use for all requests"
   ]
  },
  {
   "cell_type": "code",
   "execution_count": 2,
   "metadata": {
    "slideshow": {
     "slide_type": "-"
    }
   },
   "outputs": [],
   "source": [
    "BASE_URL = \"http://api.openweathermap.org/data/2.5/weather?\"\n",
    "API_KEY = open('../../../No_sync/api_key_OpenWeather','r').read()\n",
    "CITY = \"Ski\"\n",
    "\n",
    "url = BASE_URL + \"q=\" + CITY + \"&appid=\" + API_KEY"
   ]
  },
  {
   "cell_type": "markdown",
   "metadata": {
    "slideshow": {
     "slide_type": "slide"
    }
   },
   "source": [
    "## Request current weather in chosen city"
   ]
  },
  {
   "cell_type": "code",
   "execution_count": 3,
   "metadata": {
    "slideshow": {
     "slide_type": "fragment"
    }
   },
   "outputs": [
    {
     "name": "stdout",
     "output_type": "stream",
     "text": [
      "{'coord': {'lon': 10.8358, 'lat': 59.7195}, 'weather': [{'id': 801, 'main': 'Clouds', 'description': 'few clouds', 'icon': '02d'}], 'base': 'stations', 'main': {'temp': 259.09, 'feels_like': 259.09, 'temp_min': 258.53, 'temp_max': 260.33, 'pressure': 1020, 'humidity': 81, 'sea_level': 1020, 'grnd_level': 1001}, 'visibility': 10000, 'wind': {'speed': 1.2, 'deg': 13, 'gust': 1.99}, 'clouds': {'all': 23}, 'dt': 1701679774, 'sys': {'type': 2, 'id': 2003947, 'country': 'NO', 'sunrise': 1701676462, 'sunset': 1701699562}, 'timezone': 3600, 'id': 3139081, 'name': 'Ski', 'cod': 200}\n"
     ]
    }
   ],
   "source": [
    "response = requests.get(url).json()\n",
    "print(response)"
   ]
  },
  {
   "cell_type": "code",
   "execution_count": 4,
   "metadata": {
    "slideshow": {
     "slide_type": "fragment"
    }
   },
   "outputs": [],
   "source": [
    "# Write JSON to file for viewing\n",
    "with open('downloads/weather.json', 'w') as f:\n",
    "    json.dump(response, f, indent=4)"
   ]
  },
  {
   "cell_type": "markdown",
   "metadata": {
    "slideshow": {
     "slide_type": "slide"
    }
   },
   "source": [
    "## Conversion functions\n",
    "Changing scales can make results more interpretable"
   ]
  },
  {
   "cell_type": "code",
   "execution_count": 5,
   "metadata": {
    "slideshow": {
     "slide_type": "-"
    }
   },
   "outputs": [],
   "source": [
    "# Kelvin to Celsius\n",
    "def kelvin_to_celsius(temp):\n",
    "    return temp - 273.15\n",
    "\n",
    "# Meters per second to knots\n",
    "def mps_to_knots(speed):\n",
    "    return speed * 1.943844"
   ]
  },
  {
   "cell_type": "markdown",
   "metadata": {
    "slideshow": {
     "slide_type": "slide"
    }
   },
   "source": [
    "## Print some weather properties"
   ]
  },
  {
   "cell_type": "code",
   "execution_count": 6,
   "metadata": {
    "slideshow": {
     "slide_type": "-"
    }
   },
   "outputs": [
    {
     "name": "stdout",
     "output_type": "stream",
     "text": [
      "The current temperature in Ski is -14.1°C\n"
     ]
    }
   ],
   "source": [
    "# Current temperature\n",
    "temp_kelvin = response['main']['temp']\n",
    "temp_celsius = kelvin_to_celsius(temp_kelvin)\n",
    "print(f\"The current temperature in {CITY} is {temp_celsius:.1f}°C\")"
   ]
  },
  {
   "cell_type": "code",
   "execution_count": 7,
   "metadata": {
    "slideshow": {
     "slide_type": "slide"
    }
   },
   "outputs": [
    {
     "name": "stdout",
     "output_type": "stream",
     "text": [
      "Sunrise today is at 08:54 and sunset is at 15:19\n"
     ]
    }
   ],
   "source": [
    "# Sunrise and sunset today in local time\n",
    "sunrise = dt.datetime.fromtimestamp(response['sys']['sunrise'])\n",
    "sunset = dt.datetime.fromtimestamp(response['sys']['sunset'])\n",
    "print(f\"Sunrise today is at {sunrise:%H:%M} and sunset is at {sunset:%H:%M}\")"
   ]
  },
  {
   "cell_type": "code",
   "execution_count": 8,
   "metadata": {
    "slideshow": {
     "slide_type": "fragment"
    }
   },
   "outputs": [
    {
     "name": "stdout",
     "output_type": "stream",
     "text": [
      "Wind today is from 13° at 2.3 knots\n"
     ]
    }
   ],
   "source": [
    "# Wind direction and speed\n",
    "wind_knots = mps_to_knots(response['wind']['speed'])\n",
    "print(f\"Wind today is from {response['wind']['deg']}° at {round(wind_knots,1)} knots\")"
   ]
  },
  {
   "cell_type": "markdown",
   "metadata": {
    "slideshow": {
     "slide_type": "slide"
    }
   },
   "source": [
    "## Forecasted weather\n",
    "### Common definitions to use for all requests"
   ]
  },
  {
   "cell_type": "code",
   "execution_count": 9,
   "metadata": {
    "slideshow": {
     "slide_type": "-"
    }
   },
   "outputs": [],
   "source": [
    "BASE_URL = \"http://api.openweathermap.org/data/2.5/forecast?\"\n",
    "CITY = \"Noresund\"\n",
    "\n",
    "urlF = BASE_URL + \"q=\" + CITY + \"&appid=\" + API_KEY"
   ]
  },
  {
   "cell_type": "markdown",
   "metadata": {
    "slideshow": {
     "slide_type": "slide"
    }
   },
   "source": [
    "## Request forecasted weather in chosen city"
   ]
  },
  {
   "cell_type": "code",
   "execution_count": 10,
   "metadata": {
    "slideshow": {
     "slide_type": "-"
    }
   },
   "outputs": [
    {
     "name": "stdout",
     "output_type": "stream",
     "text": [
      "{'cod': '200', 'message': 0, 'cnt': 40, 'list': [{'dt': 1701680400, 'main': {'temp': 260.46, 'feels_like': 257.14, 'temp_min': 260.46, 'temp_max': 260.46, 'pressure': 1021, 'sea_level': 1021, 'grnd_level': 1001, 'humidity': 94, 'temp_kf': 0}, 'weather': [{'id': 801, 'main': 'Clouds', 'description': 'few clouds', 'icon': '02d'}], 'clouds': {'all': 23}, 'wind': {'speed': 1.41, 'deg': 315, 'gust': 1.19}, 'visibility': 10000, 'pop': 0, 'sys': {'pod': 'd'}, 'dt_txt': '2023-12-04 09:00:00'}, {'dt': 1701691200, 'main': {'temp': 261.86, 'feels_like': 261.86, 'temp_min': 261.86, 'temp_max': 264.67, 'pressure': 1020, 'sea_level': 1020, 'grnd_level': 1000, 'humidity': 92, 'temp_kf': -2.81}, 'weather': [{'id': 801, 'main': 'Clouds', 'description': 'few clouds', 'icon': '02d'}], 'clouds': {'all': 21}, 'wind': {'speed': 0.34, 'deg': 323, 'gust': 0.46}, 'visibility': 10000, 'pop': 0, 'sys': {'pod': 'd'}, 'dt_txt': '2023-12-04 12:00:00'}, {'dt': 1701702000, 'main': {'temp': 260.65, 'feels_like': 257.05, 'temp_min': 260.65, 'temp_max': 260.74, 'pressure': 1020, 'sea_level': 1020, 'grnd_level': 999, 'humidity': 95, 'temp_kf': -0.09}, 'weather': [{'id': 801, 'main': 'Clouds', 'description': 'few clouds', 'icon': '02n'}], 'clouds': {'all': 13}, 'wind': {'speed': 1.54, 'deg': 314, 'gust': 1.28}, 'visibility': 10000, 'pop': 0, 'sys': {'pod': 'n'}, 'dt_txt': '2023-12-04 15:00:00'}, {'dt': 1701712800, 'main': {'temp': 260.11, 'feels_like': 256.11, 'temp_min': 260.11, 'temp_max': 260.11, 'pressure': 1019, 'sea_level': 1019, 'grnd_level': 999, 'humidity': 94, 'temp_kf': 0}, 'weather': [{'id': 801, 'main': 'Clouds', 'description': 'few clouds', 'icon': '02n'}], 'clouds': {'all': 11}, 'wind': {'speed': 1.69, 'deg': 317, 'gust': 1.38}, 'visibility': 10000, 'pop': 0, 'sys': {'pod': 'n'}, 'dt_txt': '2023-12-04 18:00:00'}, {'dt': 1701723600, 'main': {'temp': 259.87, 'feels_like': 255.92, 'temp_min': 259.87, 'temp_max': 259.87, 'pressure': 1020, 'sea_level': 1020, 'grnd_level': 1000, 'humidity': 93, 'temp_kf': 0}, 'weather': [{'id': 801, 'main': 'Clouds', 'description': 'few clouds', 'icon': '02n'}], 'clouds': {'all': 12}, 'wind': {'speed': 1.65, 'deg': 314, 'gust': 1.33}, 'visibility': 10000, 'pop': 0, 'sys': {'pod': 'n'}, 'dt_txt': '2023-12-04 21:00:00'}, {'dt': 1701734400, 'main': {'temp': 259.69, 'feels_like': 255.6, 'temp_min': 259.69, 'temp_max': 259.69, 'pressure': 1020, 'sea_level': 1020, 'grnd_level': 1000, 'humidity': 93, 'temp_kf': 0}, 'weather': [{'id': 801, 'main': 'Clouds', 'description': 'few clouds', 'icon': '02n'}], 'clouds': {'all': 11}, 'wind': {'speed': 1.7, 'deg': 317, 'gust': 1.42}, 'visibility': 10000, 'pop': 0, 'sys': {'pod': 'n'}, 'dt_txt': '2023-12-05 00:00:00'}, {'dt': 1701745200, 'main': {'temp': 259.47, 'feels_like': 255.39, 'temp_min': 259.47, 'temp_max': 259.47, 'pressure': 1020, 'sea_level': 1020, 'grnd_level': 1000, 'humidity': 93, 'temp_kf': 0}, 'weather': [{'id': 800, 'main': 'Clear', 'description': 'clear sky', 'icon': '01n'}], 'clouds': {'all': 8}, 'wind': {'speed': 1.68, 'deg': 317, 'gust': 1.33}, 'visibility': 10000, 'pop': 0, 'sys': {'pod': 'n'}, 'dt_txt': '2023-12-05 03:00:00'}, {'dt': 1701756000, 'main': {'temp': 259.35, 'feels_like': 255.28, 'temp_min': 259.35, 'temp_max': 259.35, 'pressure': 1020, 'sea_level': 1020, 'grnd_level': 1000, 'humidity': 92, 'temp_kf': 0}, 'weather': [{'id': 800, 'main': 'Clear', 'description': 'clear sky', 'icon': '01n'}], 'clouds': {'all': 7}, 'wind': {'speed': 1.67, 'deg': 318, 'gust': 1.79}, 'visibility': 10000, 'pop': 0, 'sys': {'pod': 'n'}, 'dt_txt': '2023-12-05 06:00:00'}, {'dt': 1701766800, 'main': {'temp': 259.94, 'feels_like': 256.08, 'temp_min': 259.94, 'temp_max': 259.94, 'pressure': 1021, 'sea_level': 1021, 'grnd_level': 1001, 'humidity': 91, 'temp_kf': 0}, 'weather': [{'id': 800, 'main': 'Clear', 'description': 'clear sky', 'icon': '01d'}], 'clouds': {'all': 8}, 'wind': {'speed': 1.61, 'deg': 318, 'gust': 1.71}, 'visibility': 10000, 'pop': 0, 'sys': {'pod': 'd'}, 'dt_txt': '2023-12-05 09:00:00'}, {'dt': 1701777600, 'main': {'temp': 263.91, 'feels_like': 263.91, 'temp_min': 263.91, 'temp_max': 263.91, 'pressure': 1020, 'sea_level': 1020, 'grnd_level': 1000, 'humidity': 87, 'temp_kf': 0}, 'weather': [{'id': 800, 'main': 'Clear', 'description': 'clear sky', 'icon': '01d'}], 'clouds': {'all': 8}, 'wind': {'speed': 0.62, 'deg': 346, 'gust': 0.69}, 'visibility': 10000, 'pop': 0, 'sys': {'pod': 'd'}, 'dt_txt': '2023-12-05 12:00:00'}, {'dt': 1701788400, 'main': {'temp': 260.02, 'feels_like': 256.05, 'temp_min': 260.02, 'temp_max': 260.02, 'pressure': 1021, 'sea_level': 1021, 'grnd_level': 1001, 'humidity': 93, 'temp_kf': 0}, 'weather': [{'id': 800, 'main': 'Clear', 'description': 'clear sky', 'icon': '01n'}], 'clouds': {'all': 10}, 'wind': {'speed': 1.67, 'deg': 319, 'gust': 1.32}, 'visibility': 10000, 'pop': 0, 'sys': {'pod': 'n'}, 'dt_txt': '2023-12-05 15:00:00'}, {'dt': 1701799200, 'main': {'temp': 259.45, 'feels_like': 255.2, 'temp_min': 259.45, 'temp_max': 259.45, 'pressure': 1022, 'sea_level': 1022, 'grnd_level': 1002, 'humidity': 92, 'temp_kf': 0}, 'weather': [{'id': 801, 'main': 'Clouds', 'description': 'few clouds', 'icon': '02n'}], 'clouds': {'all': 15}, 'wind': {'speed': 1.76, 'deg': 316, 'gust': 1.4}, 'visibility': 10000, 'pop': 0, 'sys': {'pod': 'n'}, 'dt_txt': '2023-12-05 18:00:00'}, {'dt': 1701810000, 'main': {'temp': 259.1, 'feels_like': 254.95, 'temp_min': 259.1, 'temp_max': 259.1, 'pressure': 1023, 'sea_level': 1023, 'grnd_level': 1003, 'humidity': 93, 'temp_kf': 0}, 'weather': [{'id': 803, 'main': 'Clouds', 'description': 'broken clouds', 'icon': '04n'}], 'clouds': {'all': 51}, 'wind': {'speed': 1.69, 'deg': 320, 'gust': 1.38}, 'visibility': 10000, 'pop': 0, 'sys': {'pod': 'n'}, 'dt_txt': '2023-12-05 21:00:00'}, {'dt': 1701820800, 'main': {'temp': 259.51, 'feels_like': 255.57, 'temp_min': 259.51, 'temp_max': 259.51, 'pressure': 1023, 'sea_level': 1023, 'grnd_level': 1003, 'humidity': 92, 'temp_kf': 0}, 'weather': [{'id': 803, 'main': 'Clouds', 'description': 'broken clouds', 'icon': '04n'}], 'clouds': {'all': 62}, 'wind': {'speed': 1.62, 'deg': 322, 'gust': 1.33}, 'visibility': 10000, 'pop': 0, 'sys': {'pod': 'n'}, 'dt_txt': '2023-12-06 00:00:00'}, {'dt': 1701831600, 'main': {'temp': 260.94, 'feels_like': 257.75, 'temp_min': 260.94, 'temp_max': 260.94, 'pressure': 1022, 'sea_level': 1022, 'grnd_level': 1002, 'humidity': 93, 'temp_kf': 0}, 'weather': [{'id': 804, 'main': 'Clouds', 'description': 'overcast clouds', 'icon': '04n'}], 'clouds': {'all': 96}, 'wind': {'speed': 1.38, 'deg': 331, 'gust': 1.23}, 'visibility': 10000, 'pop': 0, 'sys': {'pod': 'n'}, 'dt_txt': '2023-12-06 03:00:00'}, {'dt': 1701842400, 'main': {'temp': 262.86, 'feels_like': 262.86, 'temp_min': 262.86, 'temp_max': 262.86, 'pressure': 1022, 'sea_level': 1022, 'grnd_level': 1002, 'humidity': 94, 'temp_kf': 0}, 'weather': [{'id': 804, 'main': 'Clouds', 'description': 'overcast clouds', 'icon': '04n'}], 'clouds': {'all': 98}, 'wind': {'speed': 0.94, 'deg': 357, 'gust': 1}, 'visibility': 10000, 'pop': 0, 'sys': {'pod': 'n'}, 'dt_txt': '2023-12-06 06:00:00'}, {'dt': 1701853200, 'main': {'temp': 264.48, 'feels_like': 264.48, 'temp_min': 264.48, 'temp_max': 264.48, 'pressure': 1023, 'sea_level': 1023, 'grnd_level': 1003, 'humidity': 94, 'temp_kf': 0}, 'weather': [{'id': 804, 'main': 'Clouds', 'description': 'overcast clouds', 'icon': '04d'}], 'clouds': {'all': 100}, 'wind': {'speed': 0.65, 'deg': 35, 'gust': 0.92}, 'visibility': 908, 'pop': 0.06, 'sys': {'pod': 'd'}, 'dt_txt': '2023-12-06 09:00:00'}, {'dt': 1701864000, 'main': {'temp': 266.21, 'feels_like': 266.21, 'temp_min': 266.21, 'temp_max': 266.21, 'pressure': 1022, 'sea_level': 1022, 'grnd_level': 1002, 'humidity': 94, 'temp_kf': 0}, 'weather': [{'id': 600, 'main': 'Snow', 'description': 'light snow', 'icon': '13d'}], 'clouds': {'all': 100}, 'wind': {'speed': 0.65, 'deg': 71, 'gust': 0.84}, 'visibility': 235, 'pop': 0.26, 'snow': {'3h': 0.36}, 'sys': {'pod': 'd'}, 'dt_txt': '2023-12-06 12:00:00'}, {'dt': 1701874800, 'main': {'temp': 266.24, 'feels_like': 266.24, 'temp_min': 266.24, 'temp_max': 266.24, 'pressure': 1022, 'sea_level': 1022, 'grnd_level': 1003, 'humidity': 96, 'temp_kf': 0}, 'weather': [{'id': 600, 'main': 'Snow', 'description': 'light snow', 'icon': '13n'}], 'clouds': {'all': 100}, 'wind': {'speed': 0.67, 'deg': 47, 'gust': 0.93}, 'visibility': 316, 'pop': 0.56, 'snow': {'3h': 0.41}, 'sys': {'pod': 'n'}, 'dt_txt': '2023-12-06 15:00:00'}, {'dt': 1701885600, 'main': {'temp': 265.78, 'feels_like': 265.78, 'temp_min': 265.78, 'temp_max': 265.78, 'pressure': 1023, 'sea_level': 1023, 'grnd_level': 1003, 'humidity': 97, 'temp_kf': 0}, 'weather': [{'id': 600, 'main': 'Snow', 'description': 'light snow', 'icon': '13n'}], 'clouds': {'all': 100}, 'wind': {'speed': 0.89, 'deg': 14, 'gust': 1.22}, 'visibility': 325, 'pop': 0.45, 'snow': {'3h': 0.26}, 'sys': {'pod': 'n'}, 'dt_txt': '2023-12-06 18:00:00'}, {'dt': 1701896400, 'main': {'temp': 265.02, 'feels_like': 265.02, 'temp_min': 265.02, 'temp_max': 265.02, 'pressure': 1024, 'sea_level': 1024, 'grnd_level': 1004, 'humidity': 96, 'temp_kf': 0}, 'weather': [{'id': 600, 'main': 'Snow', 'description': 'light snow', 'icon': '13n'}], 'clouds': {'all': 98}, 'wind': {'speed': 1.3, 'deg': 354, 'gust': 1.84}, 'visibility': 1068, 'pop': 0.25, 'snow': {'3h': 0.26}, 'sys': {'pod': 'n'}, 'dt_txt': '2023-12-06 21:00:00'}, {'dt': 1701907200, 'main': {'temp': 263.48, 'feels_like': 259.91, 'temp_min': 263.48, 'temp_max': 263.48, 'pressure': 1024, 'sea_level': 1024, 'grnd_level': 1004, 'humidity': 96, 'temp_kf': 0}, 'weather': [{'id': 804, 'main': 'Clouds', 'description': 'overcast clouds', 'icon': '04n'}], 'clouds': {'all': 94}, 'wind': {'speed': 1.73, 'deg': 338, 'gust': 2.26}, 'visibility': 3019, 'pop': 0.04, 'sys': {'pod': 'n'}, 'dt_txt': '2023-12-07 00:00:00'}, {'dt': 1701918000, 'main': {'temp': 263.5, 'feels_like': 260.07, 'temp_min': 263.5, 'temp_max': 263.5, 'pressure': 1024, 'sea_level': 1024, 'grnd_level': 1005, 'humidity': 95, 'temp_kf': 0}, 'weather': [{'id': 804, 'main': 'Clouds', 'description': 'overcast clouds', 'icon': '04n'}], 'clouds': {'all': 94}, 'wind': {'speed': 1.66, 'deg': 332, 'gust': 2.25}, 'visibility': 2626, 'pop': 0, 'sys': {'pod': 'n'}, 'dt_txt': '2023-12-07 03:00:00'}, {'dt': 1701928800, 'main': {'temp': 261.44, 'feels_like': 257.16, 'temp_min': 261.44, 'temp_max': 261.44, 'pressure': 1025, 'sea_level': 1025, 'grnd_level': 1005, 'humidity': 96, 'temp_kf': 0}, 'weather': [{'id': 804, 'main': 'Clouds', 'description': 'overcast clouds', 'icon': '04n'}], 'clouds': {'all': 89}, 'wind': {'speed': 1.94, 'deg': 335, 'gust': 2.34}, 'visibility': 10000, 'pop': 0, 'sys': {'pod': 'n'}, 'dt_txt': '2023-12-07 06:00:00'}, {'dt': 1701939600, 'main': {'temp': 262.05, 'feels_like': 258.24, 'temp_min': 262.05, 'temp_max': 262.05, 'pressure': 1025, 'sea_level': 1025, 'grnd_level': 1005, 'humidity': 95, 'temp_kf': 0}, 'weather': [{'id': 804, 'main': 'Clouds', 'description': 'overcast clouds', 'icon': '04d'}], 'clouds': {'all': 87}, 'wind': {'speed': 1.74, 'deg': 327, 'gust': 2.16}, 'visibility': 2402, 'pop': 0, 'sys': {'pod': 'd'}, 'dt_txt': '2023-12-07 09:00:00'}, {'dt': 1701950400, 'main': {'temp': 266.16, 'feels_like': 266.16, 'temp_min': 266.16, 'temp_max': 266.16, 'pressure': 1024, 'sea_level': 1024, 'grnd_level': 1004, 'humidity': 93, 'temp_kf': 0}, 'weather': [{'id': 804, 'main': 'Clouds', 'description': 'overcast clouds', 'icon': '04d'}], 'clouds': {'all': 93}, 'wind': {'speed': 0.93, 'deg': 15, 'gust': 1.45}, 'visibility': 1200, 'pop': 0, 'sys': {'pod': 'd'}, 'dt_txt': '2023-12-07 12:00:00'}, {'dt': 1701961200, 'main': {'temp': 265.05, 'feels_like': 265.05, 'temp_min': 265.05, 'temp_max': 265.05, 'pressure': 1024, 'sea_level': 1024, 'grnd_level': 1004, 'humidity': 97, 'temp_kf': 0}, 'weather': [{'id': 600, 'main': 'Snow', 'description': 'light snow', 'icon': '13n'}], 'clouds': {'all': 100}, 'wind': {'speed': 0.98, 'deg': 359, 'gust': 0.91}, 'visibility': 462, 'pop': 0.23, 'snow': {'3h': 0.14}, 'sys': {'pod': 'n'}, 'dt_txt': '2023-12-07 15:00:00'}, {'dt': 1701972000, 'main': {'temp': 265.04, 'feels_like': 265.04, 'temp_min': 265.04, 'temp_max': 265.04, 'pressure': 1023, 'sea_level': 1023, 'grnd_level': 1003, 'humidity': 97, 'temp_kf': 0}, 'weather': [{'id': 600, 'main': 'Snow', 'description': 'light snow', 'icon': '13n'}], 'clouds': {'all': 100}, 'wind': {'speed': 1.06, 'deg': 9, 'gust': 1.02}, 'visibility': 249, 'pop': 0.31, 'snow': {'3h': 0.34}, 'sys': {'pod': 'n'}, 'dt_txt': '2023-12-07 18:00:00'}, {'dt': 1701982800, 'main': {'temp': 266.11, 'feels_like': 266.11, 'temp_min': 266.11, 'temp_max': 266.11, 'pressure': 1021, 'sea_level': 1021, 'grnd_level': 1002, 'humidity': 96, 'temp_kf': 0}, 'weather': [{'id': 600, 'main': 'Snow', 'description': 'light snow', 'icon': '13n'}], 'clouds': {'all': 100}, 'wind': {'speed': 0.77, 'deg': 48, 'gust': 1.04}, 'visibility': 203, 'pop': 0.91, 'snow': {'3h': 0.53}, 'sys': {'pod': 'n'}, 'dt_txt': '2023-12-07 21:00:00'}, {'dt': 1701993600, 'main': {'temp': 266.63, 'feels_like': 266.63, 'temp_min': 266.63, 'temp_max': 266.63, 'pressure': 1020, 'sea_level': 1020, 'grnd_level': 1001, 'humidity': 96, 'temp_kf': 0}, 'weather': [{'id': 600, 'main': 'Snow', 'description': 'light snow', 'icon': '13n'}], 'clouds': {'all': 100}, 'wind': {'speed': 0.94, 'deg': 48, 'gust': 1.3}, 'visibility': 133, 'pop': 0.96, 'snow': {'3h': 0.76}, 'sys': {'pod': 'n'}, 'dt_txt': '2023-12-08 00:00:00'}, {'dt': 1702004400, 'main': {'temp': 267.06, 'feels_like': 267.06, 'temp_min': 267.06, 'temp_max': 267.06, 'pressure': 1018, 'sea_level': 1018, 'grnd_level': 998, 'humidity': 96, 'temp_kf': 0}, 'weather': [{'id': 600, 'main': 'Snow', 'description': 'light snow', 'icon': '13n'}], 'clouds': {'all': 100}, 'wind': {'speed': 1.15, 'deg': 46, 'gust': 1.7}, 'visibility': 122, 'pop': 1, 'snow': {'3h': 0.95}, 'sys': {'pod': 'n'}, 'dt_txt': '2023-12-08 03:00:00'}, {'dt': 1702015200, 'main': {'temp': 267.86, 'feels_like': 267.86, 'temp_min': 267.86, 'temp_max': 267.86, 'pressure': 1016, 'sea_level': 1016, 'grnd_level': 996, 'humidity': 96, 'temp_kf': 0}, 'weather': [{'id': 600, 'main': 'Snow', 'description': 'light snow', 'icon': '13n'}], 'clouds': {'all': 100}, 'wind': {'speed': 1.1, 'deg': 35, 'gust': 1.76}, 'visibility': 112, 'pop': 1, 'snow': {'3h': 1.23}, 'sys': {'pod': 'n'}, 'dt_txt': '2023-12-08 06:00:00'}, {'dt': 1702026000, 'main': {'temp': 269.04, 'feels_like': 269.04, 'temp_min': 269.04, 'temp_max': 269.04, 'pressure': 1015, 'sea_level': 1015, 'grnd_level': 996, 'humidity': 96, 'temp_kf': 0}, 'weather': [{'id': 600, 'main': 'Snow', 'description': 'light snow', 'icon': '13d'}], 'clouds': {'all': 100}, 'wind': {'speed': 0.9, 'deg': 28, 'gust': 1.44}, 'visibility': 105, 'pop': 1, 'snow': {'3h': 1.39}, 'sys': {'pod': 'd'}, 'dt_txt': '2023-12-08 09:00:00'}, {'dt': 1702036800, 'main': {'temp': 271.16, 'feels_like': 271.16, 'temp_min': 271.16, 'temp_max': 271.16, 'pressure': 1013, 'sea_level': 1013, 'grnd_level': 994, 'humidity': 97, 'temp_kf': 0}, 'weather': [{'id': 601, 'main': 'Snow', 'description': 'snow', 'icon': '13d'}], 'clouds': {'all': 100}, 'wind': {'speed': 0.96, 'deg': 67, 'gust': 1.74}, 'visibility': 139, 'pop': 1, 'snow': {'3h': 1.87}, 'sys': {'pod': 'd'}, 'dt_txt': '2023-12-08 12:00:00'}, {'dt': 1702047600, 'main': {'temp': 271.37, 'feels_like': 271.37, 'temp_min': 271.37, 'temp_max': 271.37, 'pressure': 1013, 'sea_level': 1013, 'grnd_level': 994, 'humidity': 98, 'temp_kf': 0}, 'weather': [{'id': 600, 'main': 'Snow', 'description': 'light snow', 'icon': '13n'}], 'clouds': {'all': 100}, 'wind': {'speed': 0.89, 'deg': 66, 'gust': 1.83}, 'visibility': 160, 'pop': 0.99, 'snow': {'3h': 1.01}, 'sys': {'pod': 'n'}, 'dt_txt': '2023-12-08 15:00:00'}, {'dt': 1702058400, 'main': {'temp': 272.45, 'feels_like': 272.45, 'temp_min': 272.45, 'temp_max': 272.45, 'pressure': 1013, 'sea_level': 1013, 'grnd_level': 994, 'humidity': 98, 'temp_kf': 0}, 'weather': [{'id': 600, 'main': 'Snow', 'description': 'light snow', 'icon': '13n'}], 'clouds': {'all': 100}, 'wind': {'speed': 1.29, 'deg': 100, 'gust': 3.45}, 'visibility': 173, 'pop': 0.99, 'snow': {'3h': 0.82}, 'sys': {'pod': 'n'}, 'dt_txt': '2023-12-08 18:00:00'}, {'dt': 1702069200, 'main': {'temp': 272.85, 'feels_like': 272.85, 'temp_min': 272.85, 'temp_max': 272.85, 'pressure': 1014, 'sea_level': 1014, 'grnd_level': 995, 'humidity': 99, 'temp_kf': 0}, 'weather': [{'id': 600, 'main': 'Snow', 'description': 'light snow', 'icon': '13n'}], 'clouds': {'all': 100}, 'wind': {'speed': 1.28, 'deg': 102, 'gust': 2.92}, 'visibility': 111, 'pop': 1, 'snow': {'3h': 1.19}, 'sys': {'pod': 'n'}, 'dt_txt': '2023-12-08 21:00:00'}, {'dt': 1702080000, 'main': {'temp': 272.99, 'feels_like': 272.99, 'temp_min': 272.99, 'temp_max': 272.99, 'pressure': 1014, 'sea_level': 1014, 'grnd_level': 995, 'humidity': 99, 'temp_kf': 0}, 'weather': [{'id': 600, 'main': 'Snow', 'description': 'light snow', 'icon': '13n'}], 'clouds': {'all': 100}, 'wind': {'speed': 1.17, 'deg': 94, 'gust': 3.01}, 'visibility': 126, 'pop': 1, 'snow': {'3h': 0.92}, 'sys': {'pod': 'n'}, 'dt_txt': '2023-12-09 00:00:00'}, {'dt': 1702090800, 'main': {'temp': 273.33, 'feels_like': 273.33, 'temp_min': 273.33, 'temp_max': 273.33, 'pressure': 1014, 'sea_level': 1014, 'grnd_level': 995, 'humidity': 99, 'temp_kf': 0}, 'weather': [{'id': 600, 'main': 'Snow', 'description': 'light snow', 'icon': '13n'}], 'clouds': {'all': 100}, 'wind': {'speed': 1.13, 'deg': 110, 'gust': 5.48}, 'visibility': 55, 'pop': 0.98, 'snow': {'3h': 1.22}, 'sys': {'pod': 'n'}, 'dt_txt': '2023-12-09 03:00:00'}, {'dt': 1702101600, 'main': {'temp': 273.56, 'feels_like': 273.56, 'temp_min': 273.56, 'temp_max': 273.56, 'pressure': 1014, 'sea_level': 1014, 'grnd_level': 995, 'humidity': 99, 'temp_kf': 0}, 'weather': [{'id': 601, 'main': 'Snow', 'description': 'snow', 'icon': '13n'}], 'clouds': {'all': 100}, 'wind': {'speed': 1, 'deg': 101, 'gust': 3.02}, 'visibility': 69, 'pop': 1, 'snow': {'3h': 2.33}, 'sys': {'pod': 'n'}, 'dt_txt': '2023-12-09 06:00:00'}], 'city': {'id': 3144113, 'name': 'Noresund', 'coord': {'lat': 60.1803, 'lon': 9.6231}, 'country': 'NO', 'population': 1000, 'timezone': 3600, 'sunrise': 1701676989, 'sunset': 1701699618}}\n"
     ]
    }
   ],
   "source": [
    "responseF = requests.get(urlF).json()\n",
    "print(responseF)"
   ]
  },
  {
   "cell_type": "code",
   "execution_count": 11,
   "metadata": {
    "slideshow": {
     "slide_type": "slide"
    }
   },
   "outputs": [],
   "source": [
    "# Write JSON to file for viewing\n",
    "with open('downloads/forecast.json', 'w') as f:\n",
    "    json.dump(responseF, f, indent=4)"
   ]
  },
  {
   "cell_type": "markdown",
   "metadata": {
    "slideshow": {
     "slide_type": "slide"
    }
   },
   "source": [
    "### When and what?\n",
    "Check contents and time stamps"
   ]
  },
  {
   "cell_type": "code",
   "execution_count": 12,
   "metadata": {
    "slideshow": {
     "slide_type": "-"
    }
   },
   "outputs": [
    {
     "data": {
      "text/plain": [
       "dict_keys(['cod', 'message', 'cnt', 'list', 'city'])"
      ]
     },
     "execution_count": 12,
     "metadata": {},
     "output_type": "execute_result"
    }
   ],
   "source": [
    "# Content of responseF\n",
    "responseF.keys()"
   ]
  },
  {
   "cell_type": "code",
   "execution_count": 13,
   "metadata": {
    "slideshow": {
     "slide_type": "fragment"
    }
   },
   "outputs": [
    {
     "name": "stdout",
     "output_type": "stream",
     "text": [
      "40\n"
     ]
    }
   ],
   "source": [
    "# Number of forecasts\n",
    "print(len(responseF[\"list\"]))"
   ]
  },
  {
   "cell_type": "code",
   "execution_count": 14,
   "metadata": {
    "scrolled": true,
    "slideshow": {
     "slide_type": "slide"
    }
   },
   "outputs": [
    {
     "name": "stdout",
     "output_type": "stream",
     "text": [
      "2023-12-04 09:00:00\n",
      "2023-12-04 12:00:00\n",
      "2023-12-04 15:00:00\n",
      "2023-12-04 18:00:00\n",
      "2023-12-04 21:00:00\n",
      "2023-12-05 00:00:00\n",
      "2023-12-05 03:00:00\n",
      "2023-12-05 06:00:00\n",
      "2023-12-05 09:00:00\n",
      "2023-12-05 12:00:00\n",
      "2023-12-05 15:00:00\n",
      "2023-12-05 18:00:00\n",
      "2023-12-05 21:00:00\n",
      "2023-12-06 00:00:00\n",
      "2023-12-06 03:00:00\n",
      "2023-12-06 06:00:00\n",
      "2023-12-06 09:00:00\n",
      "2023-12-06 12:00:00\n",
      "2023-12-06 15:00:00\n",
      "2023-12-06 18:00:00\n",
      "2023-12-06 21:00:00\n",
      "2023-12-07 00:00:00\n",
      "2023-12-07 03:00:00\n",
      "2023-12-07 06:00:00\n",
      "2023-12-07 09:00:00\n",
      "2023-12-07 12:00:00\n",
      "2023-12-07 15:00:00\n",
      "2023-12-07 18:00:00\n",
      "2023-12-07 21:00:00\n",
      "2023-12-08 00:00:00\n",
      "2023-12-08 03:00:00\n",
      "2023-12-08 06:00:00\n",
      "2023-12-08 09:00:00\n",
      "2023-12-08 12:00:00\n",
      "2023-12-08 15:00:00\n",
      "2023-12-08 18:00:00\n",
      "2023-12-08 21:00:00\n",
      "2023-12-09 00:00:00\n",
      "2023-12-09 03:00:00\n",
      "2023-12-09 06:00:00\n"
     ]
    }
   ],
   "source": [
    "# Print forecast times\n",
    "for forecast in responseF[\"list\"]:\n",
    "    print(forecast[\"dt_txt\"])"
   ]
  },
  {
   "cell_type": "markdown",
   "metadata": {
    "slideshow": {
     "slide_type": "slide"
    }
   },
   "source": [
    "## Make plots of omnipresent measurements and events\n",
    "We will later look at missing data, data only sporadically appearing and so on."
   ]
  },
  {
   "cell_type": "code",
   "execution_count": 15,
   "metadata": {
    "slideshow": {
     "slide_type": "-"
    }
   },
   "outputs": [],
   "source": [
    "# Air pressure per period\n",
    "pressures = []\n",
    "timestamps = []\n",
    "for forecast in responseF[\"list\"]:\n",
    "    pressures.append(forecast[\"main\"][\"pressure\"])\n",
    "    timestamps.append(dt.datetime.fromtimestamp(forecast[\"dt\"]))"
   ]
  },
  {
   "cell_type": "code",
   "execution_count": 16,
   "metadata": {
    "slideshow": {
     "slide_type": "slide"
    }
   },
   "outputs": [
    {
     "data": {
      "image/png": "[encoded data removed]",
      "text/plain": [
       "<Figure size 640x480 with 1 Axes>"
      ]
     },
     "metadata": {},
     "output_type": "display_data"
    }
   ],
   "source": [
    "import matplotlib.pyplot as plt\n",
    "plt.bar(timestamps, pressures)\n",
    "plt.xticks(rotation=45)\n",
    "plt.ylim(950, 1050)\n",
    "plt.grid()\n",
    "plt.ylabel(\"Air pressure (hPa)\")\n",
    "plt.title(f\"Forecasted air pressure in {CITY}\")\n",
    "plt.show()"
   ]
  },
  {
   "cell_type": "markdown",
   "metadata": {
    "slideshow": {
     "slide_type": "slide"
    }
   },
   "source": [
    "## Exercise\n",
    "- Make a new forecast request for your own hometown. Call your response something else than responseF.\n",
    "- If available, plot the humidity like we did with air pressure."
   ]
  },
  {
   "cell_type": "markdown",
   "metadata": {
    "slideshow": {
     "slide_type": "slide"
    }
   },
   "source": [
    "### Precipitation\n",
    "- ... comes in two main flavours: rain and snow.\n",
    "- We need to check which is present and set to zero if it is abscent."
   ]
  },
  {
   "cell_type": "code",
   "execution_count": 17,
   "metadata": {
    "slideshow": {
     "slide_type": "-"
    }
   },
   "outputs": [],
   "source": [
    "rain = []\n",
    "snow = []\n",
    "for forecast in responseF[\"list\"]:\n",
    "    try: # Check if rain is present in forecast\n",
    "        rain.append(forecast[\"rain\"][\"3h\"])\n",
    "    except KeyError:\n",
    "        rain.append(0)\n",
    "    try: # Check if snow is present in forecast\n",
    "        snow.append(forecast[\"snow\"][\"3h\"])\n",
    "    except KeyError:\n",
    "        snow.append(0)"
   ]
  },
  {
   "cell_type": "code",
   "execution_count": 18,
   "metadata": {
    "slideshow": {
     "slide_type": "slide"
    }
   },
   "outputs": [
    {
     "data": {
      "image/png": "[encoded data removed]",
      "text/plain": [
       "<Figure size 640x480 with 1 Axes>"
      ]
     },
     "metadata": {},
     "output_type": "display_data"
    }
   ],
   "source": [
    "# Stacked bar chart with rain and snow\n",
    "plt.bar(timestamps, rain, label=\"Rain\")\n",
    "plt.bar(timestamps, snow, label=\"Snow\")\n",
    "plt.xticks(rotation=45)\n",
    "plt.grid()\n",
    "plt.ylabel(\"Precipitation (mm)\")\n",
    "plt.title(f\"Forecasted precipitation in {CITY}\")\n",
    "plt.legend()\n",
    "plt.show()\n"
   ]
  },
  {
   "cell_type": "markdown",
   "metadata": {
    "slideshow": {
     "slide_type": "slide"
    }
   },
   "source": [
    "```{seealso} Resources\n",
    ":class: tip\n",
    "- [YouTube: NeuralNine's video (15m:32s)](https://www.youtube.com/watch?v=9P5MY_2i7K8)\n",
    "```"
   ]
  }
 ],
 "metadata": {
  "celltoolbar": "Slideshow",
  "kernelspec": {
   "display_name": "Python 3 (ipykernel)",
   "language": "python",
   "name": "python3"
  },
  "language_info": {
   "codemirror_mode": {
    "name": "ipython",
    "version": 3
   },
   "file_extension": ".py",
   "mimetype": "text/x-python",
   "name": "python",
   "nbconvert_exporter": "python",
   "pygments_lexer": "ipython3",
   "version": "3.11.6"
  }
 },
 "nbformat": 4,
 "nbformat_minor": 2
}