{
 "cells": [
  {
   "cell_type": "markdown",
   "metadata": {
    "slideshow": {
     "slide_type": "slide"
    }
   },
   "source": [
    "# Demonstration of API using OpenWeatherMap.org\n",
    "This demonstration is heavily inspired by [NeuralNine's video](https://www.youtube.com/watch?v=9P5MY_2i7K8).  \n",
    "You need a free account [from here](https://openweathermap.org/api).  \n",
    "The VS Code extension _JSON viewer_ is recommended for viewing downloaded JSON content.  \n",
    "  - Set your maximum API calls to 1000 per day to make sure you are under the limit for billing. \n",
    "  - To run the examples, download your API key, save it in the right folder (see below) in a file called _api\\_key\\_OpenWeather_, containing only the key (no spaces or \"enters\")."
   ]
  },
  {
   "cell_type": "code",
   "execution_count": 1,
   "metadata": {
    "slideshow": {
     "slide_type": "fragment"
    }
   },
   "outputs": [],
   "source": [
    "# Imports\n",
    "import datetime as dt\n",
    "import requests\n",
    "import json"
   ]
  },
  {
   "cell_type": "markdown",
   "metadata": {
    "slideshow": {
     "slide_type": "slide"
    }
   },
   "source": [
    "## Current weather\n",
    "### Common definitions to use for all requests"
   ]
  },
  {
   "cell_type": "code",
   "execution_count": 2,
   "metadata": {
    "slideshow": {
     "slide_type": "-"
    }
   },
   "outputs": [],
   "source": [
    "BASE_URL = \"http://api.openweathermap.org/data/2.5/weather?\"\n",
    "API_KEY = open('../../../No_sync/api_key_OpenWeather','r').read()\n",
    "CITY = \"Ski\"\n",
    "\n",
    "url = BASE_URL + \"q=\" + CITY + \"&appid=\" + API_KEY"
   ]
  },
  {
   "cell_type": "markdown",
   "metadata": {
    "slideshow": {
     "slide_type": "slide"
    }
   },
   "source": [
    "## Request current weather in chosen city"
   ]
  },
  {
   "cell_type": "code",
   "execution_count": 3,
   "metadata": {
    "slideshow": {
     "slide_type": "fragment"
    }
   },
   "outputs": [
    {
     "name": "stdout",
     "output_type": "stream",
     "text": [
      "{'coord': {'lon': 10.8358, 'lat': 59.7195}, 'weather': [{'id': 803, 'main': 'Clouds', 'description': 'broken clouds', 'icon': '04d'}], 'base': 'stations', 'main': {'temp': 268.97, 'feels_like': 264.02, 'temp_min': 267.77, 'temp_max': 270.57, 'pressure': 1017, 'humidity': 85, 'sea_level': 1017, 'grnd_level': 999}, 'visibility': 10000, 'wind': {'speed': 3.65, 'deg': 23, 'gust': 9}, 'clouds': {'all': 79}, 'dt': 1701074156, 'sys': {'type': 2, 'id': 2006772, 'country': 'NO', 'sunrise': 1701070809, 'sunset': 1701095311}, 'timezone': 3600, 'id': 3139081, 'name': 'Ski', 'cod': 200}\n"
     ]
    }
   ],
   "source": [
    "response = requests.get(url).json()\n",
    "print(response)"
   ]
  },
  {
   "cell_type": "code",
   "execution_count": 4,
   "metadata": {
    "slideshow": {
     "slide_type": "fragment"
    }
   },
   "outputs": [],
   "source": [
    "# Write JSON to file for viewing\n",
    "with open('downloads/weather.json', 'w') as f:\n",
    "    json.dump(response, f, indent=4)"
   ]
  },
  {
   "cell_type": "markdown",
   "metadata": {
    "slideshow": {
     "slide_type": "slide"
    }
   },
   "source": [
    "## Conversion functions\n",
    "Changing scales can make results more interpretable"
   ]
  },
  {
   "cell_type": "code",
   "execution_count": 5,
   "metadata": {
    "slideshow": {
     "slide_type": "-"
    }
   },
   "outputs": [],
   "source": [
    "# Kelvin to Celsius\n",
    "def kelvin_to_celsius(temp):\n",
    "    return temp - 273.15\n",
    "\n",
    "# Meters per second to knots\n",
    "def mps_to_knots(speed):\n",
    "    return speed * 1.943844"
   ]
  },
  {
   "cell_type": "markdown",
   "metadata": {
    "slideshow": {
     "slide_type": "slide"
    }
   },
   "source": [
    "## Print some weather properties"
   ]
  },
  {
   "cell_type": "code",
   "execution_count": 6,
   "metadata": {
    "slideshow": {
     "slide_type": "-"
    }
   },
   "outputs": [
    {
     "name": "stdout",
     "output_type": "stream",
     "text": [
      "The current temperature in Ski is -4.2°C\n"
     ]
    }
   ],
   "source": [
    "# Current temperature\n",
    "temp_kelvin = response['main']['temp']\n",
    "temp_celsius = kelvin_to_celsius(temp_kelvin)\n",
    "print(f\"The current temperature in {CITY} is {temp_celsius:.1f}°C\")"
   ]
  },
  {
   "cell_type": "code",
   "execution_count": 7,
   "metadata": {
    "slideshow": {
     "slide_type": "slide"
    }
   },
   "outputs": [
    {
     "name": "stdout",
     "output_type": "stream",
     "text": [
      "Sunrise today is at 08:40 and sunset is at 15:28\n"
     ]
    }
   ],
   "source": [
    "# Sunrise and sunset today in local time\n",
    "sunrise = dt.datetime.fromtimestamp(response['sys']['sunrise'])\n",
    "sunset = dt.datetime.fromtimestamp(response['sys']['sunset'])\n",
    "print(f\"Sunrise today is at {sunrise:%H:%M} and sunset is at {sunset:%H:%M}\")"
   ]
  },
  {
   "cell_type": "code",
   "execution_count": 8,
   "metadata": {
    "slideshow": {
     "slide_type": "fragment"
    }
   },
   "outputs": [
    {
     "name": "stdout",
     "output_type": "stream",
     "text": [
      "Wind today is from 23° at 7.1 knots\n"
     ]
    }
   ],
   "source": [
    "# Wind direction and speed\n",
    "wind_knots = mps_to_knots(response['wind']['speed'])\n",
    "print(f\"Wind today is from {response['wind']['deg']}° at {round(wind_knots,1)} knots\")"
   ]
  },
  {
   "cell_type": "markdown",
   "metadata": {
    "slideshow": {
     "slide_type": "slide"
    }
   },
   "source": [
    "## Forecasted weather\n",
    "### Common definitions to use for all requests"
   ]
  },
  {
   "cell_type": "code",
   "execution_count": 9,
   "metadata": {
    "slideshow": {
     "slide_type": "-"
    }
   },
   "outputs": [],
   "source": [
    "BASE_URL = \"http://api.openweathermap.org/data/2.5/forecast?\"\n",
    "CITY = \"Noresund\"\n",
    "\n",
    "urlF = BASE_URL + \"q=\" + CITY + \"&appid=\" + API_KEY"
   ]
  },
  {
   "cell_type": "markdown",
   "metadata": {
    "slideshow": {
     "slide_type": "slide"
    }
   },
   "source": [
    "## Request forecasted weather in chosen city"
   ]
  },
  {
   "cell_type": "code",
   "execution_count": 10,
   "metadata": {
    "slideshow": {
     "slide_type": "-"
    }
   },
   "outputs": [
    {
     "name": "stdout",
     "output_type": "stream",
     "text": [
      "{'cod': '200', 'message': 0, 'cnt': 40, 'list': [{'dt': 1701075600, 'main': {'temp': 268.21, 'feels_like': 265.36, 'temp_min': 266.5, 'temp_max': 268.21, 'pressure': 1019, 'sea_level': 1019, 'grnd_level': 999, 'humidity': 92, 'temp_kf': 1.71}, 'weather': [{'id': 600, 'main': 'Snow', 'description': 'light snow', 'icon': '13d'}], 'clouds': {'all': 99}, 'wind': {'speed': 1.73, 'deg': 351, 'gust': 3}, 'visibility': 889, 'pop': 0.24, 'snow': {'3h': 0.14}, 'sys': {'pod': 'd'}, 'dt_txt': '2023-11-27 09:00:00'}, {'dt': 1701086400, 'main': {'temp': 268.27, 'feels_like': 268.27, 'temp_min': 268.27, 'temp_max': 268.39, 'pressure': 1019, 'sea_level': 1019, 'grnd_level': 999, 'humidity': 91, 'temp_kf': -0.12}, 'weather': [{'id': 600, 'main': 'Snow', 'description': 'light snow', 'icon': '13d'}], 'clouds': {'all': 99}, 'wind': {'speed': 1.07, 'deg': 19, 'gust': 2.51}, 'visibility': 3992, 'pop': 0.28, 'snow': {'3h': 0.19}, 'sys': {'pod': 'd'}, 'dt_txt': '2023-11-27 12:00:00'}, {'dt': 1701097200, 'main': {'temp': 266.99, 'feels_like': 266.99, 'temp_min': 266.38, 'temp_max': 266.99, 'pressure': 1018, 'sea_level': 1018, 'grnd_level': 999, 'humidity': 93, 'temp_kf': 0.61}, 'weather': [{'id': 600, 'main': 'Snow', 'description': 'light snow', 'icon': '13n'}], 'clouds': {'all': 100}, 'wind': {'speed': 0.94, 'deg': 11, 'gust': 1.49}, 'visibility': 2607, 'pop': 0.2, 'snow': {'3h': 0.12}, 'sys': {'pod': 'n'}, 'dt_txt': '2023-11-27 15:00:00'}, {'dt': 1701108000, 'main': {'temp': 265.11, 'feels_like': 265.11, 'temp_min': 265.11, 'temp_max': 265.11, 'pressure': 1018, 'sea_level': 1018, 'grnd_level': 999, 'humidity': 91, 'temp_kf': 0}, 'weather': [{'id': 600, 'main': 'Snow', 'description': 'light snow', 'icon': '13n'}], 'clouds': {'all': 99}, 'wind': {'speed': 0.96, 'deg': 9, 'gust': 1.53}, 'visibility': 4856, 'pop': 0.2, 'snow': {'3h': 0.13}, 'sys': {'pod': 'n'}, 'dt_txt': '2023-11-27 18:00:00'}, {'dt': 1701118800, 'main': {'temp': 264.5, 'feels_like': 264.5, 'temp_min': 264.5, 'temp_max': 264.5, 'pressure': 1018, 'sea_level': 1018, 'grnd_level': 998, 'humidity': 93, 'temp_kf': 0}, 'weather': [{'id': 600, 'main': 'Snow', 'description': 'light snow', 'icon': '13n'}], 'clouds': {'all': 100}, 'wind': {'speed': 0.74, 'deg': 52, 'gust': 1.83}, 'visibility': 1620, 'pop': 0.32, 'snow': {'3h': 0.24}, 'sys': {'pod': 'n'}, 'dt_txt': '2023-11-27 21:00:00'}, {'dt': 1701129600, 'main': {'temp': 262.9, 'feels_like': 262.9, 'temp_min': 262.9, 'temp_max': 262.9, 'pressure': 1018, 'sea_level': 1018, 'grnd_level': 998, 'humidity': 87, 'temp_kf': 0}, 'weather': [{'id': 600, 'main': 'Snow', 'description': 'light snow', 'icon': '13n'}], 'clouds': {'all': 96}, 'wind': {'speed': 1.3, 'deg': 38, 'gust': 3.05}, 'visibility': 10000, 'pop': 0.22, 'snow': {'3h': 0.25}, 'sys': {'pod': 'n'}, 'dt_txt': '2023-11-28 00:00:00'}, {'dt': 1701140400, 'main': {'temp': 261.92, 'feels_like': 257.79, 'temp_min': 261.92, 'temp_max': 261.92, 'pressure': 1018, 'sea_level': 1018, 'grnd_level': 998, 'humidity': 86, 'temp_kf': 0}, 'weather': [{'id': 804, 'main': 'Clouds', 'description': 'overcast clouds', 'icon': '04n'}], 'clouds': {'all': 100}, 'wind': {'speed': 1.9, 'deg': 358, 'gust': 3.39}, 'visibility': 10000, 'pop': 0, 'sys': {'pod': 'n'}, 'dt_txt': '2023-11-28 03:00:00'}, {'dt': 1701151200, 'main': {'temp': 259.83, 'feels_like': 254.35, 'temp_min': 259.83, 'temp_max': 259.83, 'pressure': 1017, 'sea_level': 1017, 'grnd_level': 998, 'humidity': 84, 'temp_kf': 0}, 'weather': [{'id': 803, 'main': 'Clouds', 'description': 'broken clouds', 'icon': '04n'}], 'clouds': {'all': 73}, 'wind': {'speed': 2.5, 'deg': 325, 'gust': 4.4}, 'visibility': 10000, 'pop': 0, 'sys': {'pod': 'n'}, 'dt_txt': '2023-11-28 06:00:00'}, {'dt': 1701162000, 'main': {'temp': 260.18, 'feels_like': 254.28, 'temp_min': 260.18, 'temp_max': 260.18, 'pressure': 1016, 'sea_level': 1016, 'grnd_level': 996, 'humidity': 79, 'temp_kf': 0}, 'weather': [{'id': 803, 'main': 'Clouds', 'description': 'broken clouds', 'icon': '04d'}], 'clouds': {'all': 65}, 'wind': {'speed': 2.84, 'deg': 321, 'gust': 5.82}, 'visibility': 10000, 'pop': 0, 'sys': {'pod': 'd'}, 'dt_txt': '2023-11-28 09:00:00'}, {'dt': 1701172800, 'main': {'temp': 262.8, 'feels_like': 257.63, 'temp_min': 262.8, 'temp_max': 262.8, 'pressure': 1014, 'sea_level': 1014, 'grnd_level': 994, 'humidity': 71, 'temp_kf': 0}, 'weather': [{'id': 803, 'main': 'Clouds', 'description': 'broken clouds', 'icon': '04d'}], 'clouds': {'all': 81}, 'wind': {'speed': 2.67, 'deg': 316, 'gust': 5.68}, 'visibility': 10000, 'pop': 0, 'sys': {'pod': 'd'}, 'dt_txt': '2023-11-28 12:00:00'}, {'dt': 1701183600, 'main': {'temp': 262.21, 'feels_like': 257.07, 'temp_min': 262.21, 'temp_max': 262.21, 'pressure': 1012, 'sea_level': 1012, 'grnd_level': 993, 'humidity': 75, 'temp_kf': 0}, 'weather': [{'id': 804, 'main': 'Clouds', 'description': 'overcast clouds', 'icon': '04n'}], 'clouds': {'all': 97}, 'wind': {'speed': 2.57, 'deg': 323, 'gust': 5.49}, 'visibility': 10000, 'pop': 0, 'sys': {'pod': 'n'}, 'dt_txt': '2023-11-28 15:00:00'}, {'dt': 1701194400, 'main': {'temp': 263.61, 'feels_like': 258.59, 'temp_min': 263.61, 'temp_max': 263.61, 'pressure': 1011, 'sea_level': 1011, 'grnd_level': 992, 'humidity': 78, 'temp_kf': 0}, 'weather': [{'id': 804, 'main': 'Clouds', 'description': 'overcast clouds', 'icon': '04n'}], 'clouds': {'all': 98}, 'wind': {'speed': 2.68, 'deg': 328, 'gust': 5.87}, 'visibility': 10000, 'pop': 0, 'sys': {'pod': 'n'}, 'dt_txt': '2023-11-28 18:00:00'}, {'dt': 1701205200, 'main': {'temp': 264.82, 'feels_like': 259.78, 'temp_min': 264.82, 'temp_max': 264.82, 'pressure': 1011, 'sea_level': 1011, 'grnd_level': 991, 'humidity': 86, 'temp_kf': 0}, 'weather': [{'id': 804, 'main': 'Clouds', 'description': 'overcast clouds', 'icon': '04n'}], 'clouds': {'all': 100}, 'wind': {'speed': 2.88, 'deg': 326, 'gust': 6.42}, 'visibility': 5310, 'pop': 0, 'sys': {'pod': 'n'}, 'dt_txt': '2023-11-28 21:00:00'}, {'dt': 1701216000, 'main': {'temp': 265.78, 'feels_like': 260.71, 'temp_min': 265.78, 'temp_max': 265.78, 'pressure': 1010, 'sea_level': 1010, 'grnd_level': 990, 'humidity': 86, 'temp_kf': 0}, 'weather': [{'id': 804, 'main': 'Clouds', 'description': 'overcast clouds', 'icon': '04n'}], 'clouds': {'all': 100}, 'wind': {'speed': 3.08, 'deg': 333, 'gust': 7.67}, 'visibility': 8741, 'pop': 0.01, 'sys': {'pod': 'n'}, 'dt_txt': '2023-11-29 00:00:00'}, {'dt': 1701226800, 'main': {'temp': 266.22, 'feels_like': 261.3, 'temp_min': 266.22, 'temp_max': 266.22, 'pressure': 1009, 'sea_level': 1009, 'grnd_level': 990, 'humidity': 86, 'temp_kf': 0}, 'weather': [{'id': 600, 'main': 'Snow', 'description': 'light snow', 'icon': '13n'}], 'clouds': {'all': 100}, 'wind': {'speed': 3.02, 'deg': 336, 'gust': 7.5}, 'visibility': 9701, 'pop': 0.41, 'snow': {'3h': 0.11}, 'sys': {'pod': 'n'}, 'dt_txt': '2023-11-29 03:00:00'}, {'dt': 1701237600, 'main': {'temp': 266.96, 'feels_like': 262.12, 'temp_min': 266.96, 'temp_max': 266.96, 'pressure': 1009, 'sea_level': 1009, 'grnd_level': 990, 'humidity': 88, 'temp_kf': 0}, 'weather': [{'id': 600, 'main': 'Snow', 'description': 'light snow', 'icon': '13n'}], 'clouds': {'all': 100}, 'wind': {'speed': 3.09, 'deg': 342, 'gust': 7.41}, 'visibility': 2452, 'pop': 0.49, 'snow': {'3h': 0.16}, 'sys': {'pod': 'n'}, 'dt_txt': '2023-11-29 06:00:00'}, {'dt': 1701248400, 'main': {'temp': 267.67, 'feels_like': 262.94, 'temp_min': 267.67, 'temp_max': 267.67, 'pressure': 1010, 'sea_level': 1010, 'grnd_level': 991, 'humidity': 90, 'temp_kf': 0}, 'weather': [{'id': 600, 'main': 'Snow', 'description': 'light snow', 'icon': '13d'}], 'clouds': {'all': 100}, 'wind': {'speed': 3.12, 'deg': 341, 'gust': 7.49}, 'visibility': 823, 'pop': 0.51, 'snow': {'3h': 0.29}, 'sys': {'pod': 'd'}, 'dt_txt': '2023-11-29 09:00:00'}, {'dt': 1701259200, 'main': {'temp': 268.9, 'feels_like': 264.38, 'temp_min': 268.9, 'temp_max': 268.9, 'pressure': 1010, 'sea_level': 1010, 'grnd_level': 991, 'humidity': 89, 'temp_kf': 0}, 'weather': [{'id': 600, 'main': 'Snow', 'description': 'light snow', 'icon': '13d'}], 'clouds': {'all': 100}, 'wind': {'speed': 3.17, 'deg': 348, 'gust': 7.35}, 'visibility': 1174, 'pop': 0.59, 'snow': {'3h': 0.5}, 'sys': {'pod': 'd'}, 'dt_txt': '2023-11-29 12:00:00'}, {'dt': 1701270000, 'main': {'temp': 268.5, 'feels_like': 263.89, 'temp_min': 268.5, 'temp_max': 268.5, 'pressure': 1011, 'sea_level': 1011, 'grnd_level': 991, 'humidity': 91, 'temp_kf': 0}, 'weather': [{'id': 600, 'main': 'Snow', 'description': 'light snow', 'icon': '13n'}], 'clouds': {'all': 100}, 'wind': {'speed': 3.17, 'deg': 350, 'gust': 7.62}, 'visibility': 993, 'pop': 0.6, 'snow': {'3h': 0.38}, 'sys': {'pod': 'n'}, 'dt_txt': '2023-11-29 15:00:00'}, {'dt': 1701280800, 'main': {'temp': 268.48, 'feels_like': 263.77, 'temp_min': 268.48, 'temp_max': 268.48, 'pressure': 1012, 'sea_level': 1012, 'grnd_level': 992, 'humidity': 90, 'temp_kf': 0}, 'weather': [{'id': 600, 'main': 'Snow', 'description': 'light snow', 'icon': '13n'}], 'clouds': {'all': 100}, 'wind': {'speed': 3.27, 'deg': 352, 'gust': 7.64}, 'visibility': 1832, 'pop': 0.64, 'snow': {'3h': 0.34}, 'sys': {'pod': 'n'}, 'dt_txt': '2023-11-29 18:00:00'}, {'dt': 1701291600, 'main': {'temp': 268.16, 'feels_like': 263.26, 'temp_min': 268.16, 'temp_max': 268.16, 'pressure': 1012, 'sea_level': 1012, 'grnd_level': 993, 'humidity': 88, 'temp_kf': 0}, 'weather': [{'id': 600, 'main': 'Snow', 'description': 'light snow', 'icon': '13n'}], 'clouds': {'all': 99}, 'wind': {'speed': 3.4, 'deg': 351, 'gust': 8.43}, 'visibility': 1623, 'pop': 0.61, 'snow': {'3h': 0.12}, 'sys': {'pod': 'n'}, 'dt_txt': '2023-11-29 21:00:00'}, {'dt': 1701302400, 'main': {'temp': 268.47, 'feels_like': 264.01, 'temp_min': 268.47, 'temp_max': 268.47, 'pressure': 1014, 'sea_level': 1014, 'grnd_level': 994, 'humidity': 88, 'temp_kf': 0}, 'weather': [{'id': 600, 'main': 'Snow', 'description': 'light snow', 'icon': '13n'}], 'clouds': {'all': 100}, 'wind': {'speed': 3.02, 'deg': 16, 'gust': 7.86}, 'visibility': 4628, 'pop': 0.74, 'snow': {'3h': 0.61}, 'sys': {'pod': 'n'}, 'dt_txt': '2023-11-30 00:00:00'}, {'dt': 1701313200, 'main': {'temp': 267.39, 'feels_like': 263.51, 'temp_min': 267.39, 'temp_max': 267.39, 'pressure': 1015, 'sea_level': 1015, 'grnd_level': 996, 'humidity': 93, 'temp_kf': 0}, 'weather': [{'id': 600, 'main': 'Snow', 'description': 'light snow', 'icon': '13n'}], 'clouds': {'all': 100}, 'wind': {'speed': 2.34, 'deg': 3, 'gust': 5.22}, 'visibility': 1249, 'pop': 0.72, 'snow': {'3h': 0.18}, 'sys': {'pod': 'n'}, 'dt_txt': '2023-11-30 03:00:00'}, {'dt': 1701324000, 'main': {'temp': 267.05, 'feels_like': 263.31, 'temp_min': 267.05, 'temp_max': 267.05, 'pressure': 1016, 'sea_level': 1016, 'grnd_level': 996, 'humidity': 94, 'temp_kf': 0}, 'weather': [{'id': 600, 'main': 'Snow', 'description': 'light snow', 'icon': '13n'}], 'clouds': {'all': 100}, 'wind': {'speed': 2.19, 'deg': 351, 'gust': 4.45}, 'visibility': 928, 'pop': 0.65, 'snow': {'3h': 0.28}, 'sys': {'pod': 'n'}, 'dt_txt': '2023-11-30 06:00:00'}, {'dt': 1701334800, 'main': {'temp': 267.11, 'feels_like': 263.09, 'temp_min': 267.11, 'temp_max': 267.11, 'pressure': 1017, 'sea_level': 1017, 'grnd_level': 997, 'humidity': 91, 'temp_kf': 0}, 'weather': [{'id': 600, 'main': 'Snow', 'description': 'light snow', 'icon': '13d'}], 'clouds': {'all': 100}, 'wind': {'speed': 2.41, 'deg': 347, 'gust': 5.55}, 'visibility': 6155, 'pop': 0.36, 'snow': {'3h': 0.3}, 'sys': {'pod': 'd'}, 'dt_txt': '2023-11-30 09:00:00'}, {'dt': 1701345600, 'main': {'temp': 267.93, 'feels_like': 264.7, 'temp_min': 267.93, 'temp_max': 267.93, 'pressure': 1016, 'sea_level': 1016, 'grnd_level': 997, 'humidity': 87, 'temp_kf': 0}, 'weather': [{'id': 804, 'main': 'Clouds', 'description': 'overcast clouds', 'icon': '04d'}], 'clouds': {'all': 100}, 'wind': {'speed': 1.94, 'deg': 352, 'gust': 4.65}, 'visibility': 10000, 'pop': 0.12, 'sys': {'pod': 'd'}, 'dt_txt': '2023-11-30 12:00:00'}, {'dt': 1701356400, 'main': {'temp': 265.35, 'feels_like': 261.58, 'temp_min': 265.35, 'temp_max': 265.35, 'pressure': 1016, 'sea_level': 1016, 'grnd_level': 996, 'humidity': 90, 'temp_kf': 0}, 'weather': [{'id': 804, 'main': 'Clouds', 'description': 'overcast clouds', 'icon': '04n'}], 'clouds': {'all': 97}, 'wind': {'speed': 2.02, 'deg': 326, 'gust': 3.32}, 'visibility': 10000, 'pop': 0, 'sys': {'pod': 'n'}, 'dt_txt': '2023-11-30 15:00:00'}, {'dt': 1701367200, 'main': {'temp': 264.07, 'feels_like': 259.73, 'temp_min': 264.07, 'temp_max': 264.07, 'pressure': 1016, 'sea_level': 1016, 'grnd_level': 996, 'humidity': 88, 'temp_kf': 0}, 'weather': [{'id': 804, 'main': 'Clouds', 'description': 'overcast clouds', 'icon': '04n'}], 'clouds': {'all': 96}, 'wind': {'speed': 2.25, 'deg': 337, 'gust': 3.95}, 'visibility': 10000, 'pop': 0, 'sys': {'pod': 'n'}, 'dt_txt': '2023-11-30 18:00:00'}, {'dt': 1701378000, 'main': {'temp': 262.12, 'feels_like': 257.05, 'temp_min': 262.12, 'temp_max': 262.12, 'pressure': 1016, 'sea_level': 1016, 'grnd_level': 996, 'humidity': 87, 'temp_kf': 0}, 'weather': [{'id': 803, 'main': 'Clouds', 'description': 'broken clouds', 'icon': '04n'}], 'clouds': {'all': 67}, 'wind': {'speed': 2.51, 'deg': 326, 'gust': 4.14}, 'visibility': 10000, 'pop': 0, 'sys': {'pod': 'n'}, 'dt_txt': '2023-11-30 21:00:00'}, {'dt': 1701388800, 'main': {'temp': 261.81, 'feels_like': 256.69, 'temp_min': 261.81, 'temp_max': 261.81, 'pressure': 1015, 'sea_level': 1015, 'grnd_level': 995, 'humidity': 85, 'temp_kf': 0}, 'weather': [{'id': 803, 'main': 'Clouds', 'description': 'broken clouds', 'icon': '04n'}], 'clouds': {'all': 63}, 'wind': {'speed': 2.5, 'deg': 325, 'gust': 4.32}, 'visibility': 10000, 'pop': 0, 'sys': {'pod': 'n'}, 'dt_txt': '2023-12-01 00:00:00'}, {'dt': 1701399600, 'main': {'temp': 261.59, 'feels_like': 256.46, 'temp_min': 261.59, 'temp_max': 261.59, 'pressure': 1014, 'sea_level': 1014, 'grnd_level': 994, 'humidity': 85, 'temp_kf': 0}, 'weather': [{'id': 802, 'main': 'Clouds', 'description': 'scattered clouds', 'icon': '03n'}], 'clouds': {'all': 33}, 'wind': {'speed': 2.48, 'deg': 323, 'gust': 4.21}, 'visibility': 10000, 'pop': 0, 'sys': {'pod': 'n'}, 'dt_txt': '2023-12-01 03:00:00'}, {'dt': 1701410400, 'main': {'temp': 261.56, 'feels_like': 256.53, 'temp_min': 261.56, 'temp_max': 261.56, 'pressure': 1013, 'sea_level': 1013, 'grnd_level': 994, 'humidity': 84, 'temp_kf': 0}, 'weather': [{'id': 802, 'main': 'Clouds', 'description': 'scattered clouds', 'icon': '03n'}], 'clouds': {'all': 29}, 'wind': {'speed': 2.41, 'deg': 327, 'gust': 4.05}, 'visibility': 10000, 'pop': 0, 'sys': {'pod': 'n'}, 'dt_txt': '2023-12-01 06:00:00'}, {'dt': 1701421200, 'main': {'temp': 263.03, 'feels_like': 258.71, 'temp_min': 263.03, 'temp_max': 263.03, 'pressure': 1013, 'sea_level': 1013, 'grnd_level': 994, 'humidity': 81, 'temp_kf': 0}, 'weather': [{'id': 803, 'main': 'Clouds', 'description': 'broken clouds', 'icon': '04d'}], 'clouds': {'all': 60}, 'wind': {'speed': 2.12, 'deg': 333, 'gust': 3.72}, 'visibility': 10000, 'pop': 0, 'sys': {'pod': 'd'}, 'dt_txt': '2023-12-01 09:00:00'}, {'dt': 1701432000, 'main': {'temp': 265.86, 'feels_like': 262.19, 'temp_min': 265.86, 'temp_max': 265.86, 'pressure': 1012, 'sea_level': 1012, 'grnd_level': 992, 'humidity': 78, 'temp_kf': 0}, 'weather': [{'id': 803, 'main': 'Clouds', 'description': 'broken clouds', 'icon': '04d'}], 'clouds': {'all': 76}, 'wind': {'speed': 2.01, 'deg': 349, 'gust': 3.81}, 'visibility': 10000, 'pop': 0, 'sys': {'pod': 'd'}, 'dt_txt': '2023-12-01 12:00:00'}, {'dt': 1701442800, 'main': {'temp': 262.82, 'feels_like': 258.63, 'temp_min': 262.82, 'temp_max': 262.82, 'pressure': 1012, 'sea_level': 1012, 'grnd_level': 993, 'humidity': 86, 'temp_kf': 0}, 'weather': [{'id': 802, 'main': 'Clouds', 'description': 'scattered clouds', 'icon': '03n'}], 'clouds': {'all': 47}, 'wind': {'speed': 2.02, 'deg': 328, 'gust': 2.89}, 'visibility': 10000, 'pop': 0, 'sys': {'pod': 'n'}, 'dt_txt': '2023-12-01 15:00:00'}, {'dt': 1701453600, 'main': {'temp': 262.14, 'feels_like': 257.96, 'temp_min': 262.14, 'temp_max': 262.14, 'pressure': 1012, 'sea_level': 1012, 'grnd_level': 992, 'humidity': 85, 'temp_kf': 0}, 'weather': [{'id': 802, 'main': 'Clouds', 'description': 'scattered clouds', 'icon': '03n'}], 'clouds': {'all': 42}, 'wind': {'speed': 1.95, 'deg': 320, 'gust': 2.36}, 'visibility': 10000, 'pop': 0, 'sys': {'pod': 'n'}, 'dt_txt': '2023-12-01 18:00:00'}, {'dt': 1701464400, 'main': {'temp': 261.72, 'feels_like': 257.88, 'temp_min': 261.72, 'temp_max': 261.72, 'pressure': 1012, 'sea_level': 1012, 'grnd_level': 992, 'humidity': 87, 'temp_kf': 0}, 'weather': [{'id': 802, 'main': 'Clouds', 'description': 'scattered clouds', 'icon': '03n'}], 'clouds': {'all': 26}, 'wind': {'speed': 1.73, 'deg': 316, 'gust': 1.45}, 'visibility': 10000, 'pop': 0, 'sys': {'pod': 'n'}, 'dt_txt': '2023-12-01 21:00:00'}, {'dt': 1701475200, 'main': {'temp': 261.34, 'feels_like': 257.84, 'temp_min': 261.34, 'temp_max': 261.34, 'pressure': 1011, 'sea_level': 1011, 'grnd_level': 992, 'humidity': 88, 'temp_kf': 0}, 'weather': [{'id': 802, 'main': 'Clouds', 'description': 'scattered clouds', 'icon': '03n'}], 'clouds': {'all': 38}, 'wind': {'speed': 1.54, 'deg': 313, 'gust': 1.26}, 'visibility': 10000, 'pop': 0, 'sys': {'pod': 'n'}, 'dt_txt': '2023-12-02 00:00:00'}, {'dt': 1701486000, 'main': {'temp': 261.02, 'feels_like': 257.47, 'temp_min': 261.02, 'temp_max': 261.02, 'pressure': 1011, 'sea_level': 1011, 'grnd_level': 991, 'humidity': 88, 'temp_kf': 0}, 'weather': [{'id': 802, 'main': 'Clouds', 'description': 'scattered clouds', 'icon': '03n'}], 'clouds': {'all': 43}, 'wind': {'speed': 1.54, 'deg': 316, 'gust': 1.26}, 'visibility': 10000, 'pop': 0, 'sys': {'pod': 'n'}, 'dt_txt': '2023-12-02 03:00:00'}, {'dt': 1701496800, 'main': {'temp': 260.74, 'feels_like': 256.96, 'temp_min': 260.74, 'temp_max': 260.74, 'pressure': 1011, 'sea_level': 1011, 'grnd_level': 991, 'humidity': 88, 'temp_kf': 0}, 'weather': [{'id': 803, 'main': 'Clouds', 'description': 'broken clouds', 'icon': '04n'}], 'clouds': {'all': 53}, 'wind': {'speed': 1.63, 'deg': 317, 'gust': 1.37}, 'visibility': 10000, 'pop': 0, 'sys': {'pod': 'n'}, 'dt_txt': '2023-12-02 06:00:00'}], 'city': {'id': 3144113, 'name': 'Noresund', 'coord': {'lat': 60.1803, 'lon': 9.6231}, 'country': 'NO', 'population': 1000, 'timezone': 3600, 'sunrise': 1701071312, 'sunset': 1701095390}}\n"
     ]
    }
   ],
   "source": [
    "responseF = requests.get(urlF).json()\n",
    "print(responseF)"
   ]
  },
  {
   "cell_type": "code",
   "execution_count": 11,
   "metadata": {
    "slideshow": {
     "slide_type": "slide"
    }
   },
   "outputs": [],
   "source": [
    "# Write JSON to file for viewing\n",
    "with open('downloads/forecast.json', 'w') as f:\n",
    "    json.dump(responseF, f, indent=4)"
   ]
  },
  {
   "cell_type": "markdown",
   "metadata": {
    "slideshow": {
     "slide_type": "slide"
    }
   },
   "source": [
    "### When and what?\n",
    "Check contents and time stamps"
   ]
  },
  {
   "cell_type": "code",
   "execution_count": 12,
   "metadata": {
    "slideshow": {
     "slide_type": "-"
    }
   },
   "outputs": [
    {
     "data": {
      "text/plain": [
       "dict_keys(['cod', 'message', 'cnt', 'list', 'city'])"
      ]
     },
     "execution_count": 12,
     "metadata": {},
     "output_type": "execute_result"
    }
   ],
   "source": [
    "# Content of responseF\n",
    "responseF.keys()"
   ]
  },
  {
   "cell_type": "code",
   "execution_count": 13,
   "metadata": {
    "slideshow": {
     "slide_type": "fragment"
    }
   },
   "outputs": [
    {
     "name": "stdout",
     "output_type": "stream",
     "text": [
      "40\n"
     ]
    }
   ],
   "source": [
    "# Number of forecasts\n",
    "print(len(responseF[\"list\"]))"
   ]
  },
  {
   "cell_type": "code",
   "execution_count": 14,
   "metadata": {
    "scrolled": true,
    "slideshow": {
     "slide_type": "slide"
    }
   },
   "outputs": [
    {
     "name": "stdout",
     "output_type": "stream",
     "text": [
      "2023-11-27 09:00:00\n",
      "2023-11-27 12:00:00\n",
      "2023-11-27 15:00:00\n",
      "2023-11-27 18:00:00\n",
      "2023-11-27 21:00:00\n",
      "2023-11-28 00:00:00\n",
      "2023-11-28 03:00:00\n",
      "2023-11-28 06:00:00\n",
      "2023-11-28 09:00:00\n",
      "2023-11-28 12:00:00\n",
      "2023-11-28 15:00:00\n",
      "2023-11-28 18:00:00\n",
      "2023-11-28 21:00:00\n",
      "2023-11-29 00:00:00\n",
      "2023-11-29 03:00:00\n",
      "2023-11-29 06:00:00\n",
      "2023-11-29 09:00:00\n",
      "2023-11-29 12:00:00\n",
      "2023-11-29 15:00:00\n",
      "2023-11-29 18:00:00\n",
      "2023-11-29 21:00:00\n",
      "2023-11-30 00:00:00\n",
      "2023-11-30 03:00:00\n",
      "2023-11-30 06:00:00\n",
      "2023-11-30 09:00:00\n",
      "2023-11-30 12:00:00\n",
      "2023-11-30 15:00:00\n",
      "2023-11-30 18:00:00\n",
      "2023-11-30 21:00:00\n",
      "2023-12-01 00:00:00\n",
      "2023-12-01 03:00:00\n",
      "2023-12-01 06:00:00\n",
      "2023-12-01 09:00:00\n",
      "2023-12-01 12:00:00\n",
      "2023-12-01 15:00:00\n",
      "2023-12-01 18:00:00\n",
      "2023-12-01 21:00:00\n",
      "2023-12-02 00:00:00\n",
      "2023-12-02 03:00:00\n",
      "2023-12-02 06:00:00\n"
     ]
    }
   ],
   "source": [
    "# Print forecast times\n",
    "for forecast in responseF[\"list\"]:\n",
    "    print(forecast[\"dt_txt\"])"
   ]
  },
  {
   "cell_type": "markdown",
   "metadata": {
    "slideshow": {
     "slide_type": "slide"
    }
   },
   "source": [
    "## Make plots of omnipresent measurements and events\n",
    "We will later look at missing data, data only sporadically appearing and so on."
   ]
  },
  {
   "cell_type": "code",
   "execution_count": 15,
   "metadata": {
    "slideshow": {
     "slide_type": "-"
    }
   },
   "outputs": [],
   "source": [
    "# Air pressure per period\n",
    "pressures = []\n",
    "timestamps = []\n",
    "for forecast in responseF[\"list\"]:\n",
    "    pressures.append(forecast[\"main\"][\"pressure\"])\n",
    "    timestamps.append(dt.datetime.fromtimestamp(forecast[\"dt\"]))"
   ]
  },
  {
   "cell_type": "code",
   "execution_count": 16,
   "metadata": {
    "slideshow": {
     "slide_type": "slide"
    }
   },
   "outputs": [
    {
     "data": {
      "image/png": "[encoded data removed]",
      "text/plain": [
       "<Figure size 640x480 with 1 Axes>"
      ]
     },
     "metadata": {},
     "output_type": "display_data"
    }
   ],
   "source": [
    "import matplotlib.pyplot as plt\n",
    "plt.bar(timestamps, pressures)\n",
    "plt.xticks(rotation=45)\n",
    "plt.ylim(950, 1050)\n",
    "plt.grid()\n",
    "plt.ylabel(\"Air pressure (hPa)\")\n",
    "plt.title(f\"Forecasted air pressure in {CITY}\")\n",
    "plt.show()"
   ]
  },
  {
   "cell_type": "markdown",
   "metadata": {
    "slideshow": {
     "slide_type": "slide"
    }
   },
   "source": [
    "## Exercise\n",
    "- Make a new forecast request for your own hometown. Call your response something else than responseF.\n",
    "- If available, plot the humidity like we did with air pressure."
   ]
  },
  {
   "cell_type": "markdown",
   "metadata": {
    "slideshow": {
     "slide_type": "slide"
    }
   },
   "source": [
    "### Precipitation\n",
    "- ... comes in two main flavours: rain and snow.\n",
    "- We need to check which is present and set to zero if it is abscent."
   ]
  },
  {
   "cell_type": "code",
   "execution_count": 17,
   "metadata": {
    "slideshow": {
     "slide_type": "-"
    }
   },
   "outputs": [],
   "source": [
    "rain = []\n",
    "snow = []\n",
    "for forecast in responseF[\"list\"]:\n",
    "    try: # Check if rain is present in forecast\n",
    "        rain.append(forecast[\"rain\"][\"3h\"])\n",
    "    except KeyError:\n",
    "        rain.append(0)\n",
    "    try: # Check if snow is present in forecast\n",
    "        snow.append(forecast[\"snow\"][\"3h\"])\n",
    "    except KeyError:\n",
    "        snow.append(0)"
   ]
  },
  {
   "cell_type": "code",
   "execution_count": 18,
   "metadata": {
    "slideshow": {
     "slide_type": "slide"
    }
   },
   "outputs": [
    {
     "data": {
      "image/png": "[encoded data removed]",
      "text/plain": [
       "<Figure size 640x480 with 1 Axes>"
      ]
     },
     "metadata": {},
     "output_type": "display_data"
    }
   ],
   "source": [
    "# Stacked bar chart with rain and snow\n",
    "plt.bar(timestamps, rain, label=\"Rain\")\n",
    "plt.bar(timestamps, snow, label=\"Snow\")\n",
    "plt.xticks(rotation=45)\n",
    "plt.grid()\n",
    "plt.ylabel(\"Precipitation (mm)\")\n",
    "plt.title(f\"Forecasted precipitation in {CITY}\")\n",
    "plt.legend()\n",
    "plt.show()\n"
   ]
  },
  {
   "cell_type": "markdown",
   "metadata": {
    "slideshow": {
     "slide_type": "slide"
    }
   },
   "source": [
    "```{seealso} Resources\n",
    ":class: tip\n",
    "- [YouTube: NeuralNine's video (15m:32s)](https://www.youtube.com/watch?v=9P5MY_2i7K8)\n",
    "```"
   ]
  }
 ],
 "metadata": {
  "celltoolbar": "Slideshow",
  "kernelspec": {
   "display_name": "Python 3 (ipykernel)",
   "language": "python",
   "name": "python3"
  },
  "language_info": {
   "codemirror_mode": {
    "name": "ipython",
    "version": 3
   },
   "file_extension": ".py",
   "mimetype": "text/x-python",
   "name": "python",
   "nbconvert_exporter": "python",
   "pygments_lexer": "ipython3",
   "version": "3.11.6"
  }
 },
 "nbformat": 4,
 "nbformat_minor": 2
}