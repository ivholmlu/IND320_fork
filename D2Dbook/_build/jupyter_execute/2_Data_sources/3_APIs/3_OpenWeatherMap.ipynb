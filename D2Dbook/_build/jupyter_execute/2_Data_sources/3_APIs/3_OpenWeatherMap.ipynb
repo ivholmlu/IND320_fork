{
 "cells": [
  {
   "cell_type": "markdown",
   "metadata": {
    "slideshow": {
     "slide_type": "slide"
    }
   },
   "source": [
    "# Demonstration of API using OpenWeatherMap.org\n",
    "This demonstration is heavily inspired by [NeuralNine's video](https://www.youtube.com/watch?v=9P5MY_2i7K8).  \n",
    "You need a free account [from here](https://openweathermap.org/api).  \n",
    "The VS Code extension _JSON viewer_ is recommended for viewing downloaded JSON content.  \n",
    "  - Set your maximum API calls to 1000 per day to make sure you are under the limit for billing. \n",
    "  - To run the examples, download your API key, save it in the right folder (see below) in a file called _api\\_key\\_OpenWeather_, containing only the key (no spaces or \"enters\")."
   ]
  },
  {
   "cell_type": "code",
   "execution_count": 1,
   "metadata": {
    "slideshow": {
     "slide_type": "fragment"
    }
   },
   "outputs": [],
   "source": [
    "# Imports\n",
    "import datetime as dt\n",
    "import requests\n",
    "import json"
   ]
  },
  {
   "cell_type": "markdown",
   "metadata": {
    "slideshow": {
     "slide_type": "slide"
    }
   },
   "source": [
    "## Current weather\n",
    "### Common definitions to use for all requests"
   ]
  },
  {
   "cell_type": "code",
   "execution_count": 2,
   "metadata": {
    "slideshow": {
     "slide_type": "-"
    }
   },
   "outputs": [],
   "source": [
    "BASE_URL = \"http://api.openweathermap.org/data/2.5/weather?\"\n",
    "API_KEY = open('../../../No_sync/api_key_OpenWeather','r').read()\n",
    "CITY = \"Ski\"\n",
    "\n",
    "url = BASE_URL + \"q=\" + CITY + \"&appid=\" + API_KEY"
   ]
  },
  {
   "cell_type": "markdown",
   "metadata": {
    "slideshow": {
     "slide_type": "slide"
    }
   },
   "source": [
    "## Request current weather in chosen city"
   ]
  },
  {
   "cell_type": "code",
   "execution_count": 3,
   "metadata": {
    "slideshow": {
     "slide_type": "fragment"
    }
   },
   "outputs": [
    {
     "name": "stdout",
     "output_type": "stream",
     "text": [
      "{'coord': {'lon': 10.8358, 'lat': 59.7195}, 'weather': [{'id': 804, 'main': 'Clouds', 'description': 'overcast clouds', 'icon': '04n'}], 'base': 'stations', 'main': {'temp': 275.39, 'feels_like': 275.39, 'temp_min': 274.7, 'temp_max': 276.13, 'pressure': 1004, 'humidity': 93, 'sea_level': 1004, 'grnd_level': 987}, 'visibility': 10000, 'wind': {'speed': 0.88, 'deg': 63, 'gust': 1.01}, 'clouds': {'all': 100}, 'dt': 1699469275, 'sys': {'type': 2, 'id': 2006772, 'country': 'NO', 'sunrise': 1699426450, 'sunset': 1699455997}, 'timezone': 3600, 'id': 3139081, 'name': 'Ski', 'cod': 200}\n"
     ]
    }
   ],
   "source": [
    "response = requests.get(url).json()\n",
    "print(response)"
   ]
  },
  {
   "cell_type": "code",
   "execution_count": 4,
   "metadata": {
    "slideshow": {
     "slide_type": "fragment"
    }
   },
   "outputs": [],
   "source": [
    "# Write JSON to file for viewing\n",
    "with open('downloads/weather.json', 'w') as f:\n",
    "    json.dump(response, f, indent=4)"
   ]
  },
  {
   "cell_type": "markdown",
   "metadata": {
    "slideshow": {
     "slide_type": "slide"
    }
   },
   "source": [
    "## Conversion functions\n",
    "Changing scales can make results more interpretable"
   ]
  },
  {
   "cell_type": "code",
   "execution_count": 5,
   "metadata": {
    "slideshow": {
     "slide_type": "-"
    }
   },
   "outputs": [],
   "source": [
    "# Kelvin to Celsius\n",
    "def kelvin_to_celsius(temp):\n",
    "    return temp - 273.15\n",
    "\n",
    "# Meters per second to knots\n",
    "def mps_to_knots(speed):\n",
    "    return speed * 1.943844"
   ]
  },
  {
   "cell_type": "markdown",
   "metadata": {
    "slideshow": {
     "slide_type": "slide"
    }
   },
   "source": [
    "## Print some weather properties"
   ]
  },
  {
   "cell_type": "code",
   "execution_count": 6,
   "metadata": {
    "slideshow": {
     "slide_type": "-"
    }
   },
   "outputs": [
    {
     "name": "stdout",
     "output_type": "stream",
     "text": [
      "The current temperature in Ski is 2.2°C\n"
     ]
    }
   ],
   "source": [
    "# Current temperature\n",
    "temp_kelvin = response['main']['temp']\n",
    "temp_celsius = kelvin_to_celsius(temp_kelvin)\n",
    "print(f\"The current temperature in {CITY} is {temp_celsius:.1f}°C\")"
   ]
  },
  {
   "cell_type": "code",
   "execution_count": 7,
   "metadata": {
    "slideshow": {
     "slide_type": "slide"
    }
   },
   "outputs": [
    {
     "name": "stdout",
     "output_type": "stream",
     "text": [
      "Sunrise today is at 07:54 and sunset is at 16:06\n"
     ]
    }
   ],
   "source": [
    "# Sunrise and sunset today in local time\n",
    "sunrise = dt.datetime.fromtimestamp(response['sys']['sunrise'])\n",
    "sunset = dt.datetime.fromtimestamp(response['sys']['sunset'])\n",
    "print(f\"Sunrise today is at {sunrise:%H:%M} and sunset is at {sunset:%H:%M}\")"
   ]
  },
  {
   "cell_type": "code",
   "execution_count": 8,
   "metadata": {
    "slideshow": {
     "slide_type": "fragment"
    }
   },
   "outputs": [
    {
     "name": "stdout",
     "output_type": "stream",
     "text": [
      "Wind today is from 63° at 1.7 knots\n"
     ]
    }
   ],
   "source": [
    "# Wind direction and speed\n",
    "wind_knots = mps_to_knots(response['wind']['speed'])\n",
    "print(f\"Wind today is from {response['wind']['deg']}° at {round(wind_knots,1)} knots\")"
   ]
  },
  {
   "cell_type": "markdown",
   "metadata": {
    "slideshow": {
     "slide_type": "slide"
    }
   },
   "source": [
    "## Forecasted weather\n",
    "### Common definitions to use for all requests"
   ]
  },
  {
   "cell_type": "code",
   "execution_count": 9,
   "metadata": {
    "slideshow": {
     "slide_type": "-"
    }
   },
   "outputs": [],
   "source": [
    "BASE_URL = \"http://api.openweathermap.org/data/2.5/forecast?\"\n",
    "CITY = \"Noresund\"\n",
    "\n",
    "urlF = BASE_URL + \"q=\" + CITY + \"&appid=\" + API_KEY"
   ]
  },
  {
   "cell_type": "markdown",
   "metadata": {
    "slideshow": {
     "slide_type": "slide"
    }
   },
   "source": [
    "## Request forecasted weather in chosen city"
   ]
  },
  {
   "cell_type": "code",
   "execution_count": 10,
   "metadata": {
    "slideshow": {
     "slide_type": "-"
    }
   },
   "outputs": [
    {
     "name": "stdout",
     "output_type": "stream",
     "text": [
      "{'cod': '200', 'message': 0, 'cnt': 40, 'list': [{'dt': 1699477200, 'main': {'temp': 274.94, 'feels_like': 274.94, 'temp_min': 274.83, 'temp_max': 274.94, 'pressure': 1004, 'sea_level': 1004, 'grnd_level': 985, 'humidity': 93, 'temp_kf': 0.11}, 'weather': [{'id': 804, 'main': 'Clouds', 'description': 'overcast clouds', 'icon': '04n'}], 'clouds': {'all': 100}, 'wind': {'speed': 0.74, 'deg': 88, 'gust': 0.71}, 'visibility': 10000, 'pop': 0, 'sys': {'pod': 'n'}, 'dt_txt': '2023-11-08 21:00:00'}, {'dt': 1699488000, 'main': {'temp': 274.71, 'feels_like': 274.71, 'temp_min': 274.57, 'temp_max': 274.71, 'pressure': 1003, 'sea_level': 1003, 'grnd_level': 984, 'humidity': 97, 'temp_kf': 0.14}, 'weather': [{'id': 600, 'main': 'Snow', 'description': 'light snow', 'icon': '13n'}], 'clouds': {'all': 100}, 'wind': {'speed': 1.11, 'deg': 70, 'gust': 1.62}, 'visibility': 268, 'pop': 0.25, 'snow': {'3h': 0.26}, 'sys': {'pod': 'n'}, 'dt_txt': '2023-11-09 00:00:00'}, {'dt': 1699498800, 'main': {'temp': 274.59, 'feels_like': 274.59, 'temp_min': 274.59, 'temp_max': 274.59, 'pressure': 1000, 'sea_level': 1000, 'grnd_level': 981, 'humidity': 99, 'temp_kf': 0}, 'weather': [{'id': 601, 'main': 'Snow', 'description': 'snow', 'icon': '13n'}], 'clouds': {'all': 100}, 'wind': {'speed': 1.29, 'deg': 37, 'gust': 2.25}, 'visibility': 92, 'pop': 1, 'snow': {'3h': 3.16}, 'sys': {'pod': 'n'}, 'dt_txt': '2023-11-09 03:00:00'}, {'dt': 1699509600, 'main': {'temp': 274.54, 'feels_like': 272.43, 'temp_min': 274.54, 'temp_max': 274.54, 'pressure': 998, 'sea_level': 998, 'grnd_level': 979, 'humidity': 99, 'temp_kf': 0}, 'weather': [{'id': 601, 'main': 'Snow', 'description': 'snow', 'icon': '13n'}], 'clouds': {'all': 100}, 'wind': {'speed': 1.9, 'deg': 6, 'gust': 4.28}, 'visibility': 94, 'pop': 1, 'snow': {'3h': 5.84}, 'sys': {'pod': 'n'}, 'dt_txt': '2023-11-09 06:00:00'}, {'dt': 1699520400, 'main': {'temp': 274.68, 'feels_like': 272.32, 'temp_min': 274.68, 'temp_max': 274.68, 'pressure': 998, 'sea_level': 998, 'grnd_level': 979, 'humidity': 98, 'temp_kf': 0}, 'weather': [{'id': 601, 'main': 'Snow', 'description': 'snow', 'icon': '13d'}], 'clouds': {'all': 100}, 'wind': {'speed': 2.14, 'deg': 356, 'gust': 4.36}, 'visibility': 131, 'pop': 1, 'snow': {'3h': 3.81}, 'sys': {'pod': 'd'}, 'dt_txt': '2023-11-09 09:00:00'}, {'dt': 1699531200, 'main': {'temp': 275.26, 'feels_like': 273.69, 'temp_min': 275.26, 'temp_max': 275.26, 'pressure': 998, 'sea_level': 998, 'grnd_level': 980, 'humidity': 97, 'temp_kf': 0}, 'weather': [{'id': 600, 'main': 'Snow', 'description': 'light snow', 'icon': '13d'}], 'clouds': {'all': 100}, 'wind': {'speed': 1.58, 'deg': 350, 'gust': 3.81}, 'visibility': 7953, 'pop': 0.98, 'snow': {'3h': 1.01}, 'sys': {'pod': 'd'}, 'dt_txt': '2023-11-09 12:00:00'}, {'dt': 1699542000, 'main': {'temp': 273.29, 'feels_like': 271.33, 'temp_min': 273.29, 'temp_max': 273.29, 'pressure': 998, 'sea_level': 998, 'grnd_level': 980, 'humidity': 97, 'temp_kf': 0}, 'weather': [{'id': 804, 'main': 'Clouds', 'description': 'overcast clouds', 'icon': '04d'}], 'clouds': {'all': 100}, 'wind': {'speed': 1.65, 'deg': 331, 'gust': 2.24}, 'visibility': 10000, 'pop': 0.09, 'sys': {'pod': 'd'}, 'dt_txt': '2023-11-09 15:00:00'}, {'dt': 1699552800, 'main': {'temp': 271.89, 'feels_like': 269.12, 'temp_min': 271.89, 'temp_max': 271.89, 'pressure': 999, 'sea_level': 999, 'grnd_level': 980, 'humidity': 95, 'temp_kf': 0}, 'weather': [{'id': 804, 'main': 'Clouds', 'description': 'overcast clouds', 'icon': '04n'}], 'clouds': {'all': 100}, 'wind': {'speed': 2.08, 'deg': 327, 'gust': 3.06}, 'visibility': 10000, 'pop': 0.06, 'sys': {'pod': 'n'}, 'dt_txt': '2023-11-09 18:00:00'}, {'dt': 1699563600, 'main': {'temp': 271.95, 'feels_like': 269.02, 'temp_min': 271.95, 'temp_max': 271.95, 'pressure': 999, 'sea_level': 999, 'grnd_level': 980, 'humidity': 94, 'temp_kf': 0}, 'weather': [{'id': 804, 'main': 'Clouds', 'description': 'overcast clouds', 'icon': '04n'}], 'clouds': {'all': 100}, 'wind': {'speed': 2.22, 'deg': 328, 'gust': 3.92}, 'visibility': 10000, 'pop': 0, 'sys': {'pod': 'n'}, 'dt_txt': '2023-11-09 21:00:00'}, {'dt': 1699574400, 'main': {'temp': 272.65, 'feels_like': 269.81, 'temp_min': 272.65, 'temp_max': 272.65, 'pressure': 999, 'sea_level': 999, 'grnd_level': 980, 'humidity': 93, 'temp_kf': 0}, 'weather': [{'id': 804, 'main': 'Clouds', 'description': 'overcast clouds', 'icon': '04n'}], 'clouds': {'all': 100}, 'wind': {'speed': 2.25, 'deg': 330, 'gust': 4.16}, 'visibility': 10000, 'pop': 0, 'sys': {'pod': 'n'}, 'dt_txt': '2023-11-10 00:00:00'}, {'dt': 1699585200, 'main': {'temp': 274.28, 'feels_like': 272.29, 'temp_min': 274.28, 'temp_max': 274.28, 'pressure': 998, 'sea_level': 998, 'grnd_level': 979, 'humidity': 94, 'temp_kf': 0}, 'weather': [{'id': 804, 'main': 'Clouds', 'description': 'overcast clouds', 'icon': '04n'}], 'clouds': {'all': 100}, 'wind': {'speed': 1.78, 'deg': 339, 'gust': 3.42}, 'visibility': 10000, 'pop': 0, 'sys': {'pod': 'n'}, 'dt_txt': '2023-11-10 03:00:00'}, {'dt': 1699596000, 'main': {'temp': 274.76, 'feels_like': 273.04, 'temp_min': 274.76, 'temp_max': 274.76, 'pressure': 998, 'sea_level': 998, 'grnd_level': 979, 'humidity': 99, 'temp_kf': 0}, 'weather': [{'id': 600, 'main': 'Snow', 'description': 'light snow', 'icon': '13n'}], 'clouds': {'all': 100}, 'wind': {'speed': 1.63, 'deg': 354, 'gust': 2.95}, 'visibility': 113, 'pop': 0.33, 'snow': {'3h': 0.69}, 'sys': {'pod': 'n'}, 'dt_txt': '2023-11-10 06:00:00'}, {'dt': 1699606800, 'main': {'temp': 275.53, 'feels_like': 275.53, 'temp_min': 275.53, 'temp_max': 275.53, 'pressure': 998, 'sea_level': 998, 'grnd_level': 979, 'humidity': 99, 'temp_kf': 0}, 'weather': [{'id': 600, 'main': 'Snow', 'description': 'light snow', 'icon': '13d'}], 'clouds': {'all': 100}, 'wind': {'speed': 1.33, 'deg': 20, 'gust': 2.49}, 'visibility': 72, 'pop': 0.53, 'snow': {'3h': 0.62}, 'sys': {'pod': 'd'}, 'dt_txt': '2023-11-10 09:00:00'}, {'dt': 1699617600, 'main': {'temp': 276.09, 'feels_like': 276.09, 'temp_min': 276.09, 'temp_max': 276.09, 'pressure': 998, 'sea_level': 998, 'grnd_level': 979, 'humidity': 99, 'temp_kf': 0}, 'weather': [{'id': 600, 'main': 'Snow', 'description': 'light snow', 'icon': '13d'}], 'clouds': {'all': 100}, 'wind': {'speed': 1.13, 'deg': 38, 'gust': 3.09}, 'visibility': 148, 'pop': 0.76, 'snow': {'3h': 0.23}, 'sys': {'pod': 'd'}, 'dt_txt': '2023-11-10 12:00:00'}, {'dt': 1699628400, 'main': {'temp': 275.29, 'feels_like': 273.39, 'temp_min': 275.29, 'temp_max': 275.29, 'pressure': 998, 'sea_level': 998, 'grnd_level': 980, 'humidity': 99, 'temp_kf': 0}, 'weather': [{'id': 600, 'main': 'Snow', 'description': 'light snow', 'icon': '13d'}], 'clouds': {'all': 100}, 'wind': {'speed': 1.83, 'deg': 7, 'gust': 4.54}, 'visibility': 173, 'pop': 0.93, 'snow': {'3h': 0.75}, 'sys': {'pod': 'd'}, 'dt_txt': '2023-11-10 15:00:00'}, {'dt': 1699639200, 'main': {'temp': 274.91, 'feels_like': 273.01, 'temp_min': 274.91, 'temp_max': 274.91, 'pressure': 1000, 'sea_level': 1000, 'grnd_level': 981, 'humidity': 98, 'temp_kf': 0}, 'weather': [{'id': 600, 'main': 'Snow', 'description': 'light snow', 'icon': '13n'}], 'clouds': {'all': 100}, 'wind': {'speed': 1.78, 'deg': 352, 'gust': 3.96}, 'visibility': 418, 'pop': 0.97, 'snow': {'3h': 1.15}, 'sys': {'pod': 'n'}, 'dt_txt': '2023-11-10 18:00:00'}, {'dt': 1699650000, 'main': {'temp': 274.33, 'feels_like': 272.71, 'temp_min': 274.33, 'temp_max': 274.33, 'pressure': 1002, 'sea_level': 1002, 'grnd_level': 983, 'humidity': 98, 'temp_kf': 0}, 'weather': [{'id': 600, 'main': 'Snow', 'description': 'light snow', 'icon': '13n'}], 'clouds': {'all': 100}, 'wind': {'speed': 1.52, 'deg': 350, 'gust': 3.35}, 'visibility': 3505, 'pop': 0.99, 'snow': {'3h': 0.69}, 'sys': {'pod': 'n'}, 'dt_txt': '2023-11-10 21:00:00'}, {'dt': 1699660800, 'main': {'temp': 273.63, 'feels_like': 272.12, 'temp_min': 273.63, 'temp_max': 273.63, 'pressure': 1003, 'sea_level': 1003, 'grnd_level': 985, 'humidity': 98, 'temp_kf': 0}, 'weather': [{'id': 600, 'main': 'Snow', 'description': 'light snow', 'icon': '13n'}], 'clouds': {'all': 100}, 'wind': {'speed': 1.39, 'deg': 344, 'gust': 1.9}, 'visibility': 417, 'pop': 0.92, 'snow': {'3h': 0.21}, 'sys': {'pod': 'n'}, 'dt_txt': '2023-11-11 00:00:00'}, {'dt': 1699671600, 'main': {'temp': 272.31, 'feels_like': 269.97, 'temp_min': 272.31, 'temp_max': 272.31, 'pressure': 1005, 'sea_level': 1005, 'grnd_level': 986, 'humidity': 97, 'temp_kf': 0}, 'weather': [{'id': 600, 'main': 'Snow', 'description': 'light snow', 'icon': '13n'}], 'clouds': {'all': 100}, 'wind': {'speed': 1.81, 'deg': 342, 'gust': 2.64}, 'visibility': 10000, 'pop': 0.7, 'snow': {'3h': 0.2}, 'sys': {'pod': 'n'}, 'dt_txt': '2023-11-11 03:00:00'}, {'dt': 1699682400, 'main': {'temp': 273.59, 'feels_like': 271.36, 'temp_min': 273.59, 'temp_max': 273.59, 'pressure': 1007, 'sea_level': 1007, 'grnd_level': 988, 'humidity': 98, 'temp_kf': 0}, 'weather': [{'id': 600, 'main': 'Snow', 'description': 'light snow', 'icon': '13n'}], 'clouds': {'all': 100}, 'wind': {'speed': 1.88, 'deg': 351, 'gust': 3.6}, 'visibility': 190, 'pop': 0.76, 'snow': {'3h': 0.46}, 'sys': {'pod': 'n'}, 'dt_txt': '2023-11-11 06:00:00'}, {'dt': 1699693200, 'main': {'temp': 274.46, 'feels_like': 272.57, 'temp_min': 274.46, 'temp_max': 274.46, 'pressure': 1008, 'sea_level': 1008, 'grnd_level': 990, 'humidity': 98, 'temp_kf': 0}, 'weather': [{'id': 601, 'main': 'Snow', 'description': 'snow', 'icon': '13d'}], 'clouds': {'all': 100}, 'wind': {'speed': 1.72, 'deg': 359, 'gust': 3.33}, 'visibility': 123, 'pop': 0.99, 'snow': {'3h': 3.34}, 'sys': {'pod': 'd'}, 'dt_txt': '2023-11-11 09:00:00'}, {'dt': 1699704000, 'main': {'temp': 275.11, 'feels_like': 275.11, 'temp_min': 275.11, 'temp_max': 275.11, 'pressure': 1010, 'sea_level': 1010, 'grnd_level': 991, 'humidity': 99, 'temp_kf': 0}, 'weather': [{'id': 601, 'main': 'Snow', 'description': 'snow', 'icon': '13d'}], 'clouds': {'all': 100}, 'wind': {'speed': 1.2, 'deg': 22, 'gust': 2.26}, 'visibility': 109, 'pop': 0.98, 'snow': {'3h': 2.17}, 'sys': {'pod': 'd'}, 'dt_txt': '2023-11-11 12:00:00'}, {'dt': 1699714800, 'main': {'temp': 275.01, 'feels_like': 275.01, 'temp_min': 275.01, 'temp_max': 275.01, 'pressure': 1011, 'sea_level': 1011, 'grnd_level': 992, 'humidity': 99, 'temp_kf': 0}, 'weather': [{'id': 600, 'main': 'Snow', 'description': 'light snow', 'icon': '13d'}], 'clouds': {'all': 100}, 'wind': {'speed': 1.11, 'deg': 21, 'gust': 1.86}, 'visibility': 177, 'pop': 0.62, 'snow': {'3h': 0.61}, 'sys': {'pod': 'd'}, 'dt_txt': '2023-11-11 15:00:00'}, {'dt': 1699725600, 'main': {'temp': 274.61, 'feels_like': 274.61, 'temp_min': 274.61, 'temp_max': 274.61, 'pressure': 1012, 'sea_level': 1012, 'grnd_level': 994, 'humidity': 98, 'temp_kf': 0}, 'weather': [{'id': 600, 'main': 'Snow', 'description': 'light snow', 'icon': '13n'}], 'clouds': {'all': 100}, 'wind': {'speed': 1.28, 'deg': 359, 'gust': 1.91}, 'visibility': 5810, 'pop': 0.32, 'snow': {'3h': 0.17}, 'sys': {'pod': 'n'}, 'dt_txt': '2023-11-11 18:00:00'}, {'dt': 1699736400, 'main': {'temp': 274.31, 'feels_like': 272.92, 'temp_min': 274.31, 'temp_max': 274.31, 'pressure': 1013, 'sea_level': 1013, 'grnd_level': 994, 'humidity': 98, 'temp_kf': 0}, 'weather': [{'id': 804, 'main': 'Clouds', 'description': 'overcast clouds', 'icon': '04n'}], 'clouds': {'all': 100}, 'wind': {'speed': 1.37, 'deg': 13, 'gust': 2.06}, 'visibility': 8666, 'pop': 0.04, 'sys': {'pod': 'n'}, 'dt_txt': '2023-11-11 21:00:00'}, {'dt': 1699747200, 'main': {'temp': 273.35, 'feels_like': 271.5, 'temp_min': 273.35, 'temp_max': 273.35, 'pressure': 1013, 'sea_level': 1013, 'grnd_level': 994, 'humidity': 97, 'temp_kf': 0}, 'weather': [{'id': 804, 'main': 'Clouds', 'description': 'overcast clouds', 'icon': '04n'}], 'clouds': {'all': 99}, 'wind': {'speed': 1.58, 'deg': 352, 'gust': 2.47}, 'visibility': 10000, 'pop': 0, 'sys': {'pod': 'n'}, 'dt_txt': '2023-11-12 00:00:00'}, {'dt': 1699758000, 'main': {'temp': 272.68, 'feels_like': 270.11, 'temp_min': 272.68, 'temp_max': 272.68, 'pressure': 1013, 'sea_level': 1013, 'grnd_level': 994, 'humidity': 96, 'temp_kf': 0}, 'weather': [{'id': 804, 'main': 'Clouds', 'description': 'overcast clouds', 'icon': '04n'}], 'clouds': {'all': 93}, 'wind': {'speed': 2.03, 'deg': 348, 'gust': 3.5}, 'visibility': 10000, 'pop': 0, 'sys': {'pod': 'n'}, 'dt_txt': '2023-11-12 03:00:00'}, {'dt': 1699768800, 'main': {'temp': 272.37, 'feels_like': 269.53, 'temp_min': 272.37, 'temp_max': 272.37, 'pressure': 1013, 'sea_level': 1013, 'grnd_level': 994, 'humidity': 94, 'temp_kf': 0}, 'weather': [{'id': 804, 'main': 'Clouds', 'description': 'overcast clouds', 'icon': '04n'}], 'clouds': {'all': 95}, 'wind': {'speed': 2.21, 'deg': 339, 'gust': 4.45}, 'visibility': 10000, 'pop': 0, 'sys': {'pod': 'n'}, 'dt_txt': '2023-11-12 06:00:00'}, {'dt': 1699779600, 'main': {'temp': 273.47, 'feels_like': 270.36, 'temp_min': 273.47, 'temp_max': 273.47, 'pressure': 1013, 'sea_level': 1013, 'grnd_level': 994, 'humidity': 91, 'temp_kf': 0}, 'weather': [{'id': 804, 'main': 'Clouds', 'description': 'overcast clouds', 'icon': '04d'}], 'clouds': {'all': 94}, 'wind': {'speed': 2.65, 'deg': 335, 'gust': 6.14}, 'visibility': 10000, 'pop': 0, 'sys': {'pod': 'd'}, 'dt_txt': '2023-11-12 09:00:00'}, {'dt': 1699790400, 'main': {'temp': 275.43, 'feels_like': 273.28, 'temp_min': 275.43, 'temp_max': 275.43, 'pressure': 1012, 'sea_level': 1012, 'grnd_level': 993, 'humidity': 92, 'temp_kf': 0}, 'weather': [{'id': 804, 'main': 'Clouds', 'description': 'overcast clouds', 'icon': '04d'}], 'clouds': {'all': 97}, 'wind': {'speed': 2.06, 'deg': 347, 'gust': 5.21}, 'visibility': 10000, 'pop': 0, 'sys': {'pod': 'd'}, 'dt_txt': '2023-11-12 12:00:00'}, {'dt': 1699801200, 'main': {'temp': 273, 'feels_like': 270.3, 'temp_min': 273, 'temp_max': 273, 'pressure': 1013, 'sea_level': 1013, 'grnd_level': 994, 'humidity': 94, 'temp_kf': 0}, 'weather': [{'id': 804, 'main': 'Clouds', 'description': 'overcast clouds', 'icon': '04n'}], 'clouds': {'all': 100}, 'wind': {'speed': 2.18, 'deg': 331, 'gust': 4.09}, 'visibility': 10000, 'pop': 0, 'sys': {'pod': 'n'}, 'dt_txt': '2023-11-12 15:00:00'}, {'dt': 1699812000, 'main': {'temp': 269.47, 'feels_like': 265.52, 'temp_min': 269.47, 'temp_max': 269.47, 'pressure': 1014, 'sea_level': 1014, 'grnd_level': 995, 'humidity': 92, 'temp_kf': 0}, 'weather': [{'id': 804, 'main': 'Clouds', 'description': 'overcast clouds', 'icon': '04n'}], 'clouds': {'all': 98}, 'wind': {'speed': 2.72, 'deg': 323, 'gust': 4.74}, 'visibility': 10000, 'pop': 0, 'sys': {'pod': 'n'}, 'dt_txt': '2023-11-12 18:00:00'}, {'dt': 1699822800, 'main': {'temp': 268.51, 'feels_like': 264.6, 'temp_min': 268.51, 'temp_max': 268.51, 'pressure': 1015, 'sea_level': 1015, 'grnd_level': 996, 'humidity': 92, 'temp_kf': 0}, 'weather': [{'id': 803, 'main': 'Clouds', 'description': 'broken clouds', 'icon': '04n'}], 'clouds': {'all': 81}, 'wind': {'speed': 2.53, 'deg': 319, 'gust': 4.12}, 'visibility': 10000, 'pop': 0, 'sys': {'pod': 'n'}, 'dt_txt': '2023-11-12 21:00:00'}, {'dt': 1699833600, 'main': {'temp': 267.25, 'feels_like': 263.33, 'temp_min': 267.25, 'temp_max': 267.25, 'pressure': 1016, 'sea_level': 1016, 'grnd_level': 996, 'humidity': 93, 'temp_kf': 0}, 'weather': [{'id': 803, 'main': 'Clouds', 'description': 'broken clouds', 'icon': '04n'}], 'clouds': {'all': 55}, 'wind': {'speed': 2.35, 'deg': 319, 'gust': 3.4}, 'visibility': 10000, 'pop': 0, 'sys': {'pod': 'n'}, 'dt_txt': '2023-11-13 00:00:00'}, {'dt': 1699844400, 'main': {'temp': 266.73, 'feels_like': 262.85, 'temp_min': 266.73, 'temp_max': 266.73, 'pressure': 1016, 'sea_level': 1016, 'grnd_level': 996, 'humidity': 93, 'temp_kf': 0}, 'weather': [{'id': 801, 'main': 'Clouds', 'description': 'few clouds', 'icon': '02n'}], 'clouds': {'all': 17}, 'wind': {'speed': 2.25, 'deg': 320, 'gust': 3.17}, 'visibility': 10000, 'pop': 0, 'sys': {'pod': 'n'}, 'dt_txt': '2023-11-13 03:00:00'}, {'dt': 1699855200, 'main': {'temp': 266.3, 'feels_like': 262.52, 'temp_min': 266.3, 'temp_max': 266.3, 'pressure': 1016, 'sea_level': 1016, 'grnd_level': 997, 'humidity': 92, 'temp_kf': 0}, 'weather': [{'id': 801, 'main': 'Clouds', 'description': 'few clouds', 'icon': '02n'}], 'clouds': {'all': 14}, 'wind': {'speed': 2.13, 'deg': 318, 'gust': 2.68}, 'visibility': 10000, 'pop': 0, 'sys': {'pod': 'n'}, 'dt_txt': '2023-11-13 06:00:00'}, {'dt': 1699866000, 'main': {'temp': 268.76, 'feels_like': 266.04, 'temp_min': 268.76, 'temp_max': 268.76, 'pressure': 1016, 'sea_level': 1016, 'grnd_level': 997, 'humidity': 88, 'temp_kf': 0}, 'weather': [{'id': 800, 'main': 'Clear', 'description': 'clear sky', 'icon': '01d'}], 'clouds': {'all': 9}, 'wind': {'speed': 1.7, 'deg': 325, 'gust': 2.9}, 'visibility': 10000, 'pop': 0, 'sys': {'pod': 'd'}, 'dt_txt': '2023-11-13 09:00:00'}, {'dt': 1699876800, 'main': {'temp': 272.43, 'feels_like': 272.43, 'temp_min': 272.43, 'temp_max': 272.43, 'pressure': 1015, 'sea_level': 1015, 'grnd_level': 996, 'humidity': 86, 'temp_kf': 0}, 'weather': [{'id': 800, 'main': 'Clear', 'description': 'clear sky', 'icon': '01d'}], 'clouds': {'all': 7}, 'wind': {'speed': 1.02, 'deg': 328, 'gust': 1.9}, 'visibility': 10000, 'pop': 0, 'sys': {'pod': 'd'}, 'dt_txt': '2023-11-13 12:00:00'}, {'dt': 1699887600, 'main': {'temp': 267.82, 'feels_like': 264.81, 'temp_min': 267.82, 'temp_max': 267.82, 'pressure': 1016, 'sea_level': 1016, 'grnd_level': 997, 'humidity': 93, 'temp_kf': 0}, 'weather': [{'id': 800, 'main': 'Clear', 'description': 'clear sky', 'icon': '01n'}], 'clouds': {'all': 5}, 'wind': {'speed': 1.79, 'deg': 314, 'gust': 1.42}, 'visibility': 10000, 'pop': 0, 'sys': {'pod': 'n'}, 'dt_txt': '2023-11-13 15:00:00'}, {'dt': 1699898400, 'main': {'temp': 266.34, 'feels_like': 262.72, 'temp_min': 266.34, 'temp_max': 266.34, 'pressure': 1017, 'sea_level': 1017, 'grnd_level': 998, 'humidity': 91, 'temp_kf': 0}, 'weather': [{'id': 800, 'main': 'Clear', 'description': 'clear sky', 'icon': '01n'}], 'clouds': {'all': 8}, 'wind': {'speed': 2.03, 'deg': 310, 'gust': 1.58}, 'visibility': 10000, 'pop': 0, 'sys': {'pod': 'n'}, 'dt_txt': '2023-11-13 18:00:00'}], 'city': {'id': 3144113, 'name': 'Noresund', 'coord': {'lat': 60.1803, 'lon': 9.6231}, 'country': 'NO', 'population': 1000, 'timezone': 3600, 'sunrise': 1699426884, 'sunset': 1699456145}}\n"
     ]
    }
   ],
   "source": [
    "responseF = requests.get(urlF).json()\n",
    "print(responseF)"
   ]
  },
  {
   "cell_type": "code",
   "execution_count": 11,
   "metadata": {
    "slideshow": {
     "slide_type": "slide"
    }
   },
   "outputs": [],
   "source": [
    "# Write JSON to file for viewing\n",
    "with open('downloads/forecast.json', 'w') as f:\n",
    "    json.dump(responseF, f, indent=4)"
   ]
  },
  {
   "cell_type": "markdown",
   "metadata": {
    "slideshow": {
     "slide_type": "slide"
    }
   },
   "source": [
    "### When and what?\n",
    "Check contents and time stamps"
   ]
  },
  {
   "cell_type": "code",
   "execution_count": 12,
   "metadata": {
    "slideshow": {
     "slide_type": "-"
    }
   },
   "outputs": [
    {
     "data": {
      "text/plain": [
       "dict_keys(['cod', 'message', 'cnt', 'list', 'city'])"
      ]
     },
     "execution_count": 12,
     "metadata": {},
     "output_type": "execute_result"
    }
   ],
   "source": [
    "# Content of responseF\n",
    "responseF.keys()"
   ]
  },
  {
   "cell_type": "code",
   "execution_count": 13,
   "metadata": {
    "slideshow": {
     "slide_type": "fragment"
    }
   },
   "outputs": [
    {
     "name": "stdout",
     "output_type": "stream",
     "text": [
      "40\n"
     ]
    }
   ],
   "source": [
    "# Number of forecasts\n",
    "print(len(responseF[\"list\"]))"
   ]
  },
  {
   "cell_type": "code",
   "execution_count": 14,
   "metadata": {
    "scrolled": true,
    "slideshow": {
     "slide_type": "slide"
    }
   },
   "outputs": [
    {
     "name": "stdout",
     "output_type": "stream",
     "text": [
      "2023-11-08 21:00:00\n",
      "2023-11-09 00:00:00\n",
      "2023-11-09 03:00:00\n",
      "2023-11-09 06:00:00\n",
      "2023-11-09 09:00:00\n",
      "2023-11-09 12:00:00\n",
      "2023-11-09 15:00:00\n",
      "2023-11-09 18:00:00\n",
      "2023-11-09 21:00:00\n",
      "2023-11-10 00:00:00\n",
      "2023-11-10 03:00:00\n",
      "2023-11-10 06:00:00\n",
      "2023-11-10 09:00:00\n",
      "2023-11-10 12:00:00\n",
      "2023-11-10 15:00:00\n",
      "2023-11-10 18:00:00\n",
      "2023-11-10 21:00:00\n",
      "2023-11-11 00:00:00\n",
      "2023-11-11 03:00:00\n",
      "2023-11-11 06:00:00\n",
      "2023-11-11 09:00:00\n",
      "2023-11-11 12:00:00\n",
      "2023-11-11 15:00:00\n",
      "2023-11-11 18:00:00\n",
      "2023-11-11 21:00:00\n",
      "2023-11-12 00:00:00\n",
      "2023-11-12 03:00:00\n",
      "2023-11-12 06:00:00\n",
      "2023-11-12 09:00:00\n",
      "2023-11-12 12:00:00\n",
      "2023-11-12 15:00:00\n",
      "2023-11-12 18:00:00\n",
      "2023-11-12 21:00:00\n",
      "2023-11-13 00:00:00\n",
      "2023-11-13 03:00:00\n",
      "2023-11-13 06:00:00\n",
      "2023-11-13 09:00:00\n",
      "2023-11-13 12:00:00\n",
      "2023-11-13 15:00:00\n",
      "2023-11-13 18:00:00\n"
     ]
    }
   ],
   "source": [
    "# Print forecast times\n",
    "for forecast in responseF[\"list\"]:\n",
    "    print(forecast[\"dt_txt\"])"
   ]
  },
  {
   "cell_type": "markdown",
   "metadata": {
    "slideshow": {
     "slide_type": "slide"
    }
   },
   "source": [
    "## Make plots of omnipresent measurements and events\n",
    "We will later look at missing data, data only sporadically appearing and so on."
   ]
  },
  {
   "cell_type": "code",
   "execution_count": 15,
   "metadata": {
    "slideshow": {
     "slide_type": "-"
    }
   },
   "outputs": [],
   "source": [
    "# Air pressure per period\n",
    "pressures = []\n",
    "timestamps = []\n",
    "for forecast in responseF[\"list\"]:\n",
    "    pressures.append(forecast[\"main\"][\"pressure\"])\n",
    "    timestamps.append(dt.datetime.fromtimestamp(forecast[\"dt\"]))"
   ]
  },
  {
   "cell_type": "code",
   "execution_count": 16,
   "metadata": {
    "slideshow": {
     "slide_type": "slide"
    }
   },
   "outputs": [
    {
     "data": {
      "image/png": "[encoded data removed]",
      "text/plain": [
       "<Figure size 640x480 with 1 Axes>"
      ]
     },
     "metadata": {},
     "output_type": "display_data"
    }
   ],
   "source": [
    "import matplotlib.pyplot as plt\n",
    "plt.bar(timestamps, pressures)\n",
    "plt.xticks(rotation=45)\n",
    "plt.ylim(950, 1050)\n",
    "plt.grid()\n",
    "plt.ylabel(\"Air pressure (hPa)\")\n",
    "plt.title(f\"Forecasted air pressure in {CITY}\")\n",
    "plt.show()"
   ]
  },
  {
   "cell_type": "markdown",
   "metadata": {
    "slideshow": {
     "slide_type": "slide"
    }
   },
   "source": [
    "## Exercise\n",
    "- Make a new forecast request for your own hometown. Call your response something else than responseF.\n",
    "- If available, plot the humidity like we did with air pressure."
   ]
  },
  {
   "cell_type": "markdown",
   "metadata": {
    "slideshow": {
     "slide_type": "slide"
    }
   },
   "source": [
    "### Precipitation\n",
    "- ... comes in two main flavours: rain and snow.\n",
    "- We need to check which is present and set to zero if it is abscent."
   ]
  },
  {
   "cell_type": "code",
   "execution_count": 17,
   "metadata": {
    "slideshow": {
     "slide_type": "-"
    }
   },
   "outputs": [],
   "source": [
    "rain = []\n",
    "snow = []\n",
    "for forecast in responseF[\"list\"]:\n",
    "    try: # Check if rain is present in forecast\n",
    "        rain.append(forecast[\"rain\"][\"3h\"])\n",
    "    except KeyError:\n",
    "        rain.append(0)\n",
    "    try: # Check if snow is present in forecast\n",
    "        snow.append(forecast[\"snow\"][\"3h\"])\n",
    "    except KeyError:\n",
    "        snow.append(0)"
   ]
  },
  {
   "cell_type": "code",
   "execution_count": 18,
   "metadata": {
    "slideshow": {
     "slide_type": "slide"
    }
   },
   "outputs": [
    {
     "data": {
      "image/png": "[encoded data removed]",
      "text/plain": [
       "<Figure size 640x480 with 1 Axes>"
      ]
     },
     "metadata": {},
     "output_type": "display_data"
    }
   ],
   "source": [
    "# Stacked bar chart with rain and snow\n",
    "plt.bar(timestamps, rain, label=\"Rain\")\n",
    "plt.bar(timestamps, snow, label=\"Snow\")\n",
    "plt.xticks(rotation=45)\n",
    "plt.grid()\n",
    "plt.ylabel(\"Precipitation (mm)\")\n",
    "plt.title(f\"Forecasted precipitation in {CITY}\")\n",
    "plt.legend()\n",
    "plt.show()\n"
   ]
  },
  {
   "cell_type": "markdown",
   "metadata": {
    "slideshow": {
     "slide_type": "slide"
    }
   },
   "source": [
    "```{seealso} Resources\n",
    ":class: tip\n",
    "- [YouTube: NeuralNine's video (15m:32s)](https://www.youtube.com/watch?v=9P5MY_2i7K8)\n",
    "```"
   ]
  }
 ],
 "metadata": {
  "celltoolbar": "Slideshow",
  "kernelspec": {
   "display_name": "Python 3 (ipykernel)",
   "language": "python",
   "name": "python3"
  },
  "language_info": {
   "codemirror_mode": {
    "name": "ipython",
    "version": 3
   },
   "file_extension": ".py",
   "mimetype": "text/x-python",
   "name": "python",
   "nbconvert_exporter": "python",
   "pygments_lexer": "ipython3",
   "version": "3.11.6"
  }
 },
 "nbformat": 4,
 "nbformat_minor": 2
}