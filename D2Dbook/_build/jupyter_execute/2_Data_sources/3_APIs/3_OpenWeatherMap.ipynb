{
 "cells": [
  {
   "cell_type": "markdown",
   "metadata": {
    "slideshow": {
     "slide_type": "slide"
    }
   },
   "source": [
    "# Demonstration of API using OpenWeatherMap.org\n",
    "This demonstration is heavily inspired by [NeuralNine's video](https://www.youtube.com/watch?v=9P5MY_2i7K8).  \n",
    "You need a free account [from here](https://openweathermap.org/api).  \n",
    "The VS Code extension _JSON viewer_ is recommended for viewing downloaded JSON content.  \n",
    "  - Set your maximum API calls to 1000 per day to make sure you are under the limit for billing. \n",
    "  - To run the examples, download your API key, save it in the right folder (see below) in a file called _api\\_key\\_OpenWeather_, containing only the key (no spaces or \"enters\")."
   ]
  },
  {
   "cell_type": "code",
   "execution_count": 1,
   "metadata": {
    "slideshow": {
     "slide_type": "fragment"
    }
   },
   "outputs": [],
   "source": [
    "# Imports\n",
    "import datetime as dt\n",
    "import requests\n",
    "import json"
   ]
  },
  {
   "cell_type": "markdown",
   "metadata": {
    "slideshow": {
     "slide_type": "slide"
    }
   },
   "source": [
    "## Current weather\n",
    "### Common definitions to use for all requests"
   ]
  },
  {
   "cell_type": "code",
   "execution_count": 2,
   "metadata": {
    "slideshow": {
     "slide_type": "-"
    }
   },
   "outputs": [],
   "source": [
    "BASE_URL = \"http://api.openweathermap.org/data/2.5/weather?\"\n",
    "API_KEY = open('../../../No_sync/api_key_OpenWeather','r').read()\n",
    "CITY = \"Ski\"\n",
    "\n",
    "url = BASE_URL + \"q=\" + CITY + \"&appid=\" + API_KEY"
   ]
  },
  {
   "cell_type": "markdown",
   "metadata": {
    "slideshow": {
     "slide_type": "slide"
    }
   },
   "source": [
    "## Request current weather in chosen city"
   ]
  },
  {
   "cell_type": "code",
   "execution_count": 3,
   "metadata": {
    "slideshow": {
     "slide_type": "fragment"
    }
   },
   "outputs": [
    {
     "name": "stdout",
     "output_type": "stream",
     "text": [
      "{'coord': {'lon': 10.8358, 'lat': 59.7195}, 'weather': [{'id': 804, 'main': 'Clouds', 'description': 'overcast clouds', 'icon': '04d'}], 'base': 'stations', 'main': {'temp': 280.37, 'feels_like': 279.64, 'temp_min': 280.25, 'temp_max': 280.97, 'pressure': 1017, 'humidity': 68, 'sea_level': 1017, 'grnd_level': 1000}, 'visibility': 10000, 'wind': {'speed': 1.49, 'deg': 36, 'gust': 2.3}, 'clouds': {'all': 100}, 'dt': 1697640037, 'sys': {'type': 2, 'id': 2006772, 'country': 'NO', 'sunrise': 1697608880, 'sunset': 1697644928}, 'timezone': 7200, 'id': 3139081, 'name': 'Ski', 'cod': 200}\n"
     ]
    }
   ],
   "source": [
    "response = requests.get(url).json()\n",
    "print(response)"
   ]
  },
  {
   "cell_type": "code",
   "execution_count": 4,
   "metadata": {
    "slideshow": {
     "slide_type": "fragment"
    }
   },
   "outputs": [],
   "source": [
    "# Write JSON to file for viewing\n",
    "with open('downloads/weather.json', 'w') as f:\n",
    "    json.dump(response, f, indent=4)"
   ]
  },
  {
   "cell_type": "markdown",
   "metadata": {
    "slideshow": {
     "slide_type": "slide"
    }
   },
   "source": [
    "## Conversion functions\n",
    "Changing scales can make results more interpretable"
   ]
  },
  {
   "cell_type": "code",
   "execution_count": 5,
   "metadata": {
    "slideshow": {
     "slide_type": "-"
    }
   },
   "outputs": [],
   "source": [
    "# Kelvin to Celsius\n",
    "def kelvin_to_celsius(temp):\n",
    "    return temp - 273.15\n",
    "\n",
    "# Meters per second to knots\n",
    "def mps_to_knots(speed):\n",
    "    return speed * 1.943844"
   ]
  },
  {
   "cell_type": "markdown",
   "metadata": {
    "slideshow": {
     "slide_type": "slide"
    }
   },
   "source": [
    "## Print some weather properties"
   ]
  },
  {
   "cell_type": "code",
   "execution_count": 6,
   "metadata": {
    "slideshow": {
     "slide_type": "-"
    }
   },
   "outputs": [
    {
     "name": "stdout",
     "output_type": "stream",
     "text": [
      "The current temperature in Ski is 7.2°C\n"
     ]
    }
   ],
   "source": [
    "# Current temperature\n",
    "temp_kelvin = response['main']['temp']\n",
    "temp_celsius = kelvin_to_celsius(temp_kelvin)\n",
    "print(f\"The current temperature in {CITY} is {temp_celsius:.1f}°C\")"
   ]
  },
  {
   "cell_type": "code",
   "execution_count": 7,
   "metadata": {
    "slideshow": {
     "slide_type": "slide"
    }
   },
   "outputs": [
    {
     "name": "stdout",
     "output_type": "stream",
     "text": [
      "Sunrise today is at 08:01 and sunset is at 18:02\n"
     ]
    }
   ],
   "source": [
    "# Sunrise and sunset today in local time\n",
    "sunrise = dt.datetime.fromtimestamp(response['sys']['sunrise'])\n",
    "sunset = dt.datetime.fromtimestamp(response['sys']['sunset'])\n",
    "print(f\"Sunrise today is at {sunrise:%H:%M} and sunset is at {sunset:%H:%M}\")"
   ]
  },
  {
   "cell_type": "code",
   "execution_count": 8,
   "metadata": {
    "slideshow": {
     "slide_type": "fragment"
    }
   },
   "outputs": [
    {
     "name": "stdout",
     "output_type": "stream",
     "text": [
      "Wind today is from 36° at 2.9 knots\n"
     ]
    }
   ],
   "source": [
    "# Wind direction and speed\n",
    "wind_knots = mps_to_knots(response['wind']['speed'])\n",
    "print(f\"Wind today is from {response['wind']['deg']}° at {round(wind_knots,1)} knots\")"
   ]
  },
  {
   "cell_type": "markdown",
   "metadata": {
    "slideshow": {
     "slide_type": "slide"
    }
   },
   "source": [
    "## Forecasted weather\n",
    "### Common definitions to use for all requests"
   ]
  },
  {
   "cell_type": "code",
   "execution_count": 9,
   "metadata": {
    "slideshow": {
     "slide_type": "-"
    }
   },
   "outputs": [],
   "source": [
    "BASE_URL = \"http://api.openweathermap.org/data/2.5/forecast?\"\n",
    "CITY = \"Noresund\"\n",
    "\n",
    "urlF = BASE_URL + \"q=\" + CITY + \"&appid=\" + API_KEY"
   ]
  },
  {
   "cell_type": "markdown",
   "metadata": {
    "slideshow": {
     "slide_type": "slide"
    }
   },
   "source": [
    "## Request forecasted weather in chosen city"
   ]
  },
  {
   "cell_type": "code",
   "execution_count": 10,
   "metadata": {
    "slideshow": {
     "slide_type": "-"
    }
   },
   "outputs": [
    {
     "name": "stdout",
     "output_type": "stream",
     "text": [
      "{'cod': '200', 'message': 0, 'cnt': 40, 'list': [{'dt': 1697641200, 'main': {'temp': 279.32, 'feels_like': 279.32, 'temp_min': 279.02, 'temp_max': 279.32, 'pressure': 1018, 'sea_level': 1018, 'grnd_level': 999, 'humidity': 70, 'temp_kf': 0.3}, 'weather': [{'id': 804, 'main': 'Clouds', 'description': 'overcast clouds', 'icon': '04d'}], 'clouds': {'all': 100}, 'wind': {'speed': 0.65, 'deg': 134, 'gust': 0.75}, 'visibility': 10000, 'pop': 0, 'sys': {'pod': 'd'}, 'dt_txt': '2023-10-18 15:00:00'}, {'dt': 1697652000, 'main': {'temp': 278.48, 'feels_like': 278.48, 'temp_min': 276.79, 'temp_max': 278.48, 'pressure': 1018, 'sea_level': 1018, 'grnd_level': 1000, 'humidity': 74, 'temp_kf': 1.69}, 'weather': [{'id': 804, 'main': 'Clouds', 'description': 'overcast clouds', 'icon': '04n'}], 'clouds': {'all': 100}, 'wind': {'speed': 0.9, 'deg': 360, 'gust': 0.84}, 'visibility': 10000, 'pop': 0, 'sys': {'pod': 'n'}, 'dt_txt': '2023-10-18 18:00:00'}, {'dt': 1697662800, 'main': {'temp': 277.19, 'feels_like': 277.19, 'temp_min': 276.13, 'temp_max': 277.19, 'pressure': 1019, 'sea_level': 1019, 'grnd_level': 1000, 'humidity': 80, 'temp_kf': 1.06}, 'weather': [{'id': 804, 'main': 'Clouds', 'description': 'overcast clouds', 'icon': '04n'}], 'clouds': {'all': 100}, 'wind': {'speed': 1.11, 'deg': 3, 'gust': 1.01}, 'visibility': 10000, 'pop': 0, 'sys': {'pod': 'n'}, 'dt_txt': '2023-10-18 21:00:00'}, {'dt': 1697673600, 'main': {'temp': 275.07, 'feels_like': 275.07, 'temp_min': 275.07, 'temp_max': 275.07, 'pressure': 1019, 'sea_level': 1019, 'grnd_level': 1000, 'humidity': 87, 'temp_kf': 0}, 'weather': [{'id': 804, 'main': 'Clouds', 'description': 'overcast clouds', 'icon': '04n'}], 'clouds': {'all': 100}, 'wind': {'speed': 1.12, 'deg': 54, 'gust': 0.99}, 'visibility': 10000, 'pop': 0, 'sys': {'pod': 'n'}, 'dt_txt': '2023-10-19 00:00:00'}, {'dt': 1697684400, 'main': {'temp': 275.15, 'feels_like': 275.15, 'temp_min': 275.15, 'temp_max': 275.15, 'pressure': 1019, 'sea_level': 1019, 'grnd_level': 1000, 'humidity': 95, 'temp_kf': 0}, 'weather': [{'id': 600, 'main': 'Snow', 'description': 'light snow', 'icon': '13n'}], 'clouds': {'all': 100}, 'wind': {'speed': 1.26, 'deg': 71, 'gust': 3.15}, 'visibility': 1758, 'pop': 0.49, 'snow': {'3h': 0.47}, 'sys': {'pod': 'n'}, 'dt_txt': '2023-10-19 03:00:00'}, {'dt': 1697695200, 'main': {'temp': 273.9, 'feels_like': 272.39, 'temp_min': 273.9, 'temp_max': 273.9, 'pressure': 1020, 'sea_level': 1020, 'grnd_level': 1001, 'humidity': 94, 'temp_kf': 0}, 'weather': [{'id': 600, 'main': 'Snow', 'description': 'light snow', 'icon': '13n'}], 'clouds': {'all': 99}, 'wind': {'speed': 1.41, 'deg': 61, 'gust': 3.91}, 'visibility': 6619, 'pop': 0.58, 'snow': {'3h': 0.48}, 'sys': {'pod': 'n'}, 'dt_txt': '2023-10-19 06:00:00'}, {'dt': 1697706000, 'main': {'temp': 275.01, 'feels_like': 271.97, 'temp_min': 275.01, 'temp_max': 275.01, 'pressure': 1020, 'sea_level': 1020, 'grnd_level': 1001, 'humidity': 65, 'temp_kf': 0}, 'weather': [{'id': 600, 'main': 'Snow', 'description': 'light snow', 'icon': '13d'}], 'clouds': {'all': 69}, 'wind': {'speed': 2.9, 'deg': 59, 'gust': 5.14}, 'visibility': 10000, 'pop': 0.28, 'snow': {'3h': 0.12}, 'sys': {'pod': 'd'}, 'dt_txt': '2023-10-19 09:00:00'}, {'dt': 1697716800, 'main': {'temp': 275.54, 'feels_like': 272.23, 'temp_min': 275.54, 'temp_max': 275.54, 'pressure': 1020, 'sea_level': 1020, 'grnd_level': 1001, 'humidity': 57, 'temp_kf': 0}, 'weather': [{'id': 803, 'main': 'Clouds', 'description': 'broken clouds', 'icon': '04d'}], 'clouds': {'all': 64}, 'wind': {'speed': 3.37, 'deg': 56, 'gust': 5.68}, 'visibility': 10000, 'pop': 0.02, 'sys': {'pod': 'd'}, 'dt_txt': '2023-10-19 12:00:00'}, {'dt': 1697727600, 'main': {'temp': 274.86, 'feels_like': 271.71, 'temp_min': 274.86, 'temp_max': 274.86, 'pressure': 1019, 'sea_level': 1019, 'grnd_level': 1001, 'humidity': 55, 'temp_kf': 0}, 'weather': [{'id': 804, 'main': 'Clouds', 'description': 'overcast clouds', 'icon': '04d'}], 'clouds': {'all': 100}, 'wind': {'speed': 2.99, 'deg': 49, 'gust': 5.8}, 'visibility': 10000, 'pop': 0, 'sys': {'pod': 'd'}, 'dt_txt': '2023-10-19 15:00:00'}, {'dt': 1697738400, 'main': {'temp': 271.68, 'feels_like': 268.5, 'temp_min': 271.68, 'temp_max': 271.68, 'pressure': 1021, 'sea_level': 1021, 'grnd_level': 1002, 'humidity': 71, 'temp_kf': 0}, 'weather': [{'id': 803, 'main': 'Clouds', 'description': 'broken clouds', 'icon': '04n'}], 'clouds': {'all': 78}, 'wind': {'speed': 2.4, 'deg': 13, 'gust': 5.45}, 'visibility': 10000, 'pop': 0, 'sys': {'pod': 'n'}, 'dt_txt': '2023-10-19 18:00:00'}, {'dt': 1697749200, 'main': {'temp': 271.92, 'feels_like': 268.96, 'temp_min': 271.92, 'temp_max': 271.92, 'pressure': 1022, 'sea_level': 1022, 'grnd_level': 1003, 'humidity': 81, 'temp_kf': 0}, 'weather': [{'id': 803, 'main': 'Clouds', 'description': 'broken clouds', 'icon': '04n'}], 'clouds': {'all': 76}, 'wind': {'speed': 2.24, 'deg': 25, 'gust': 5.64}, 'visibility': 10000, 'pop': 0, 'sys': {'pod': 'n'}, 'dt_txt': '2023-10-19 21:00:00'}, {'dt': 1697760000, 'main': {'temp': 271.7, 'feels_like': 268.37, 'temp_min': 271.7, 'temp_max': 271.7, 'pressure': 1022, 'sea_level': 1022, 'grnd_level': 1003, 'humidity': 84, 'temp_kf': 0}, 'weather': [{'id': 803, 'main': 'Clouds', 'description': 'broken clouds', 'icon': '04n'}], 'clouds': {'all': 80}, 'wind': {'speed': 2.54, 'deg': 24, 'gust': 6.23}, 'visibility': 10000, 'pop': 0, 'sys': {'pod': 'n'}, 'dt_txt': '2023-10-20 00:00:00'}, {'dt': 1697770800, 'main': {'temp': 272.15, 'feels_like': 268.56, 'temp_min': 272.15, 'temp_max': 272.15, 'pressure': 1021, 'sea_level': 1021, 'grnd_level': 1002, 'humidity': 83, 'temp_kf': 0}, 'weather': [{'id': 803, 'main': 'Clouds', 'description': 'broken clouds', 'icon': '04n'}], 'clouds': {'all': 78}, 'wind': {'speed': 2.88, 'deg': 31, 'gust': 7.61}, 'visibility': 10000, 'pop': 0.14, 'sys': {'pod': 'n'}, 'dt_txt': '2023-10-20 03:00:00'}, {'dt': 1697781600, 'main': {'temp': 272.42, 'feels_like': 268.6, 'temp_min': 272.42, 'temp_max': 272.42, 'pressure': 1021, 'sea_level': 1021, 'grnd_level': 1002, 'humidity': 81, 'temp_kf': 0}, 'weather': [{'id': 600, 'main': 'Snow', 'description': 'light snow', 'icon': '13n'}], 'clouds': {'all': 89}, 'wind': {'speed': 3.19, 'deg': 40, 'gust': 7.46}, 'visibility': 10000, 'pop': 0.25, 'snow': {'3h': 0.19}, 'sys': {'pod': 'n'}, 'dt_txt': '2023-10-20 06:00:00'}, {'dt': 1697792400, 'main': {'temp': 273.11, 'feels_like': 269.11, 'temp_min': 273.11, 'temp_max': 273.11, 'pressure': 1022, 'sea_level': 1022, 'grnd_level': 1003, 'humidity': 73, 'temp_kf': 0}, 'weather': [{'id': 600, 'main': 'Snow', 'description': 'light snow', 'icon': '13d'}], 'clouds': {'all': 100}, 'wind': {'speed': 3.6, 'deg': 38, 'gust': 7.85}, 'visibility': 10000, 'pop': 0.35, 'snow': {'3h': 0.16}, 'sys': {'pod': 'd'}, 'dt_txt': '2023-10-20 09:00:00'}, {'dt': 1697803200, 'main': {'temp': 274.61, 'feels_like': 270.58, 'temp_min': 274.61, 'temp_max': 274.61, 'pressure': 1021, 'sea_level': 1021, 'grnd_level': 1002, 'humidity': 63, 'temp_kf': 0}, 'weather': [{'id': 804, 'main': 'Clouds', 'description': 'overcast clouds', 'icon': '04d'}], 'clouds': {'all': 100}, 'wind': {'speed': 4.13, 'deg': 34, 'gust': 7.73}, 'visibility': 10000, 'pop': 0.33, 'sys': {'pod': 'd'}, 'dt_txt': '2023-10-20 12:00:00'}, {'dt': 1697814000, 'main': {'temp': 274.57, 'feels_like': 270.67, 'temp_min': 274.57, 'temp_max': 274.57, 'pressure': 1020, 'sea_level': 1020, 'grnd_level': 1001, 'humidity': 61, 'temp_kf': 0}, 'weather': [{'id': 804, 'main': 'Clouds', 'description': 'overcast clouds', 'icon': '04d'}], 'clouds': {'all': 99}, 'wind': {'speed': 3.91, 'deg': 34, 'gust': 8.2}, 'visibility': 10000, 'pop': 0, 'sys': {'pod': 'd'}, 'dt_txt': '2023-10-20 15:00:00'}, {'dt': 1697824800, 'main': {'temp': 273.19, 'feels_like': 268.85, 'temp_min': 273.19, 'temp_max': 273.19, 'pressure': 1020, 'sea_level': 1020, 'grnd_level': 1001, 'humidity': 68, 'temp_kf': 0}, 'weather': [{'id': 804, 'main': 'Clouds', 'description': 'overcast clouds', 'icon': '04n'}], 'clouds': {'all': 95}, 'wind': {'speed': 4.09, 'deg': 38, 'gust': 9.61}, 'visibility': 10000, 'pop': 0, 'sys': {'pod': 'n'}, 'dt_txt': '2023-10-20 18:00:00'}, {'dt': 1697835600, 'main': {'temp': 272.61, 'feels_like': 268.17, 'temp_min': 272.61, 'temp_max': 272.61, 'pressure': 1021, 'sea_level': 1021, 'grnd_level': 1002, 'humidity': 76, 'temp_kf': 0}, 'weather': [{'id': 804, 'main': 'Clouds', 'description': 'overcast clouds', 'icon': '04n'}], 'clouds': {'all': 97}, 'wind': {'speed': 4.04, 'deg': 36, 'gust': 8.44}, 'visibility': 10000, 'pop': 0.12, 'sys': {'pod': 'n'}, 'dt_txt': '2023-10-20 21:00:00'}, {'dt': 1697846400, 'main': {'temp': 272.33, 'feels_like': 267.89, 'temp_min': 272.33, 'temp_max': 272.33, 'pressure': 1020, 'sea_level': 1020, 'grnd_level': 1001, 'humidity': 80, 'temp_kf': 0}, 'weather': [{'id': 600, 'main': 'Snow', 'description': 'light snow', 'icon': '13n'}], 'clouds': {'all': 99}, 'wind': {'speed': 3.96, 'deg': 28, 'gust': 8.63}, 'visibility': 10000, 'pop': 0.41, 'snow': {'3h': 0.16}, 'sys': {'pod': 'n'}, 'dt_txt': '2023-10-21 00:00:00'}, {'dt': 1697857200, 'main': {'temp': 272.2, 'feels_like': 267.87, 'temp_min': 272.2, 'temp_max': 272.2, 'pressure': 1019, 'sea_level': 1019, 'grnd_level': 1000, 'humidity': 79, 'temp_kf': 0}, 'weather': [{'id': 804, 'main': 'Clouds', 'description': 'overcast clouds', 'icon': '04n'}], 'clouds': {'all': 100}, 'wind': {'speed': 3.77, 'deg': 29, 'gust': 8.73}, 'visibility': 10000, 'pop': 0.36, 'sys': {'pod': 'n'}, 'dt_txt': '2023-10-21 03:00:00'}, {'dt': 1697868000, 'main': {'temp': 271.98, 'feels_like': 267.68, 'temp_min': 271.98, 'temp_max': 271.98, 'pressure': 1018, 'sea_level': 1018, 'grnd_level': 999, 'humidity': 83, 'temp_kf': 0}, 'weather': [{'id': 600, 'main': 'Snow', 'description': 'light snow', 'icon': '13n'}], 'clouds': {'all': 100}, 'wind': {'speed': 3.67, 'deg': 26, 'gust': 8.74}, 'visibility': 5682, 'pop': 0.41, 'snow': {'3h': 0.12}, 'sys': {'pod': 'n'}, 'dt_txt': '2023-10-21 06:00:00'}, {'dt': 1697878800, 'main': {'temp': 273.08, 'feels_like': 268.79, 'temp_min': 273.08, 'temp_max': 273.08, 'pressure': 1017, 'sea_level': 1017, 'grnd_level': 998, 'humidity': 79, 'temp_kf': 0}, 'weather': [{'id': 600, 'main': 'Snow', 'description': 'light snow', 'icon': '13d'}], 'clouds': {'all': 100}, 'wind': {'speed': 3.99, 'deg': 26, 'gust': 9.14}, 'visibility': 10000, 'pop': 0.74, 'snow': {'3h': 0.33}, 'sys': {'pod': 'd'}, 'dt_txt': '2023-10-21 09:00:00'}, {'dt': 1697889600, 'main': {'temp': 273.88, 'feels_like': 269.55, 'temp_min': 273.88, 'temp_max': 273.88, 'pressure': 1015, 'sea_level': 1015, 'grnd_level': 996, 'humidity': 78, 'temp_kf': 0}, 'weather': [{'id': 600, 'main': 'Snow', 'description': 'light snow', 'icon': '13d'}], 'clouds': {'all': 100}, 'wind': {'speed': 4.32, 'deg': 26, 'gust': 9.47}, 'visibility': 10000, 'pop': 0.66, 'snow': {'3h': 0.18}, 'sys': {'pod': 'd'}, 'dt_txt': '2023-10-21 12:00:00'}, {'dt': 1697900400, 'main': {'temp': 274.02, 'feels_like': 269.99, 'temp_min': 274.02, 'temp_max': 274.02, 'pressure': 1014, 'sea_level': 1014, 'grnd_level': 995, 'humidity': 84, 'temp_kf': 0}, 'weather': [{'id': 600, 'main': 'Snow', 'description': 'light snow', 'icon': '13d'}], 'clouds': {'all': 100}, 'wind': {'speed': 3.92, 'deg': 22, 'gust': 9.27}, 'visibility': 9270, 'pop': 0.62, 'snow': {'3h': 0.14}, 'sys': {'pod': 'd'}, 'dt_txt': '2023-10-21 15:00:00'}, {'dt': 1697911200, 'main': {'temp': 273.88, 'feels_like': 269.97, 'temp_min': 273.88, 'temp_max': 273.88, 'pressure': 1012, 'sea_level': 1012, 'grnd_level': 993, 'humidity': 90, 'temp_kf': 0}, 'weather': [{'id': 600, 'main': 'Snow', 'description': 'light snow', 'icon': '13n'}], 'clouds': {'all': 100}, 'wind': {'speed': 3.71, 'deg': 20, 'gust': 9.26}, 'visibility': 2916, 'pop': 0.84, 'snow': {'3h': 0.38}, 'sys': {'pod': 'n'}, 'dt_txt': '2023-10-21 18:00:00'}, {'dt': 1697922000, 'main': {'temp': 273.63, 'feels_like': 270.43, 'temp_min': 273.63, 'temp_max': 273.63, 'pressure': 1011, 'sea_level': 1011, 'grnd_level': 992, 'humidity': 95, 'temp_kf': 0}, 'weather': [{'id': 601, 'main': 'Snow', 'description': 'snow', 'icon': '13n'}], 'clouds': {'all': 100}, 'wind': {'speed': 2.77, 'deg': 16, 'gust': 7.04}, 'visibility': 229, 'pop': 1, 'snow': {'3h': 1.65}, 'sys': {'pod': 'n'}, 'dt_txt': '2023-10-21 21:00:00'}, {'dt': 1697932800, 'main': {'temp': 273.64, 'feels_like': 270.79, 'temp_min': 273.64, 'temp_max': 273.64, 'pressure': 1009, 'sea_level': 1009, 'grnd_level': 991, 'humidity': 96, 'temp_kf': 0}, 'weather': [{'id': 601, 'main': 'Snow', 'description': 'snow', 'icon': '13n'}], 'clouds': {'all': 100}, 'wind': {'speed': 2.42, 'deg': 9, 'gust': 5.73}, 'visibility': 199, 'pop': 1, 'snow': {'3h': 1.56}, 'sys': {'pod': 'n'}, 'dt_txt': '2023-10-22 00:00:00'}, {'dt': 1697943600, 'main': {'temp': 273.5, 'feels_like': 270.88, 'temp_min': 273.5, 'temp_max': 273.5, 'pressure': 1008, 'sea_level': 1008, 'grnd_level': 989, 'humidity': 96, 'temp_kf': 0}, 'weather': [{'id': 600, 'main': 'Snow', 'description': 'light snow', 'icon': '13n'}], 'clouds': {'all': 100}, 'wind': {'speed': 2.19, 'deg': 359, 'gust': 4.62}, 'visibility': 452, 'pop': 0.95, 'snow': {'3h': 1.07}, 'sys': {'pod': 'n'}, 'dt_txt': '2023-10-22 03:00:00'}, {'dt': 1697954400, 'main': {'temp': 273.44, 'feels_like': 271.51, 'temp_min': 273.44, 'temp_max': 273.44, 'pressure': 1007, 'sea_level': 1007, 'grnd_level': 989, 'humidity': 96, 'temp_kf': 0}, 'weather': [{'id': 600, 'main': 'Snow', 'description': 'light snow', 'icon': '13n'}], 'clouds': {'all': 100}, 'wind': {'speed': 1.64, 'deg': 353, 'gust': 3.05}, 'visibility': 416, 'pop': 0.97, 'snow': {'3h': 0.37}, 'sys': {'pod': 'n'}, 'dt_txt': '2023-10-22 06:00:00'}, {'dt': 1697965200, 'main': {'temp': 274.85, 'feels_like': 274.85, 'temp_min': 274.85, 'temp_max': 274.85, 'pressure': 1007, 'sea_level': 1007, 'grnd_level': 988, 'humidity': 88, 'temp_kf': 0}, 'weather': [{'id': 600, 'main': 'Snow', 'description': 'light snow', 'icon': '13d'}], 'clouds': {'all': 100}, 'wind': {'speed': 1.33, 'deg': 15, 'gust': 2.1}, 'visibility': 10000, 'pop': 0.23, 'snow': {'3h': 0.19}, 'sys': {'pod': 'd'}, 'dt_txt': '2023-10-22 09:00:00'}, {'dt': 1697976000, 'main': {'temp': 276.34, 'feels_like': 276.34, 'temp_min': 276.34, 'temp_max': 276.34, 'pressure': 1006, 'sea_level': 1006, 'grnd_level': 987, 'humidity': 84, 'temp_kf': 0}, 'weather': [{'id': 804, 'main': 'Clouds', 'description': 'overcast clouds', 'icon': '04d'}], 'clouds': {'all': 98}, 'wind': {'speed': 0.75, 'deg': 59, 'gust': 1.27}, 'visibility': 10000, 'pop': 0.27, 'sys': {'pod': 'd'}, 'dt_txt': '2023-10-22 12:00:00'}, {'dt': 1697986800, 'main': {'temp': 275.44, 'feels_like': 275.44, 'temp_min': 275.44, 'temp_max': 275.44, 'pressure': 1005, 'sea_level': 1005, 'grnd_level': 987, 'humidity': 95, 'temp_kf': 0}, 'weather': [{'id': 500, 'main': 'Rain', 'description': 'light rain', 'icon': '10d'}], 'clouds': {'all': 97}, 'wind': {'speed': 0.61, 'deg': 82, 'gust': 0.91}, 'visibility': 9756, 'pop': 0.24, 'rain': {'3h': 0.11}, 'sys': {'pod': 'd'}, 'dt_txt': '2023-10-22 15:00:00'}, {'dt': 1697997600, 'main': {'temp': 274.71, 'feels_like': 274.71, 'temp_min': 274.71, 'temp_max': 274.71, 'pressure': 1005, 'sea_level': 1005, 'grnd_level': 987, 'humidity': 99, 'temp_kf': 0}, 'weather': [{'id': 600, 'main': 'Snow', 'description': 'light snow', 'icon': '13n'}], 'clouds': {'all': 97}, 'wind': {'speed': 0.35, 'deg': 52, 'gust': 0.53}, 'visibility': 186, 'pop': 0.32, 'snow': {'3h': 0.19}, 'sys': {'pod': 'n'}, 'dt_txt': '2023-10-22 18:00:00'}, {'dt': 1698008400, 'main': {'temp': 275.04, 'feels_like': 275.04, 'temp_min': 275.04, 'temp_max': 275.04, 'pressure': 1005, 'sea_level': 1005, 'grnd_level': 987, 'humidity': 98, 'temp_kf': 0}, 'weather': [{'id': 600, 'main': 'Snow', 'description': 'light snow', 'icon': '13n'}], 'clouds': {'all': 100}, 'wind': {'speed': 0.57, 'deg': 27, 'gust': 0.77}, 'visibility': 5534, 'pop': 0.27, 'snow': {'3h': 0.24}, 'sys': {'pod': 'n'}, 'dt_txt': '2023-10-22 21:00:00'}, {'dt': 1698019200, 'main': {'temp': 275.13, 'feels_like': 275.13, 'temp_min': 275.13, 'temp_max': 275.13, 'pressure': 1005, 'sea_level': 1005, 'grnd_level': 987, 'humidity': 98, 'temp_kf': 0}, 'weather': [{'id': 600, 'main': 'Snow', 'description': 'light snow', 'icon': '13n'}], 'clouds': {'all': 100}, 'wind': {'speed': 0.3, 'deg': 23, 'gust': 0.44}, 'visibility': 9328, 'pop': 0.22, 'snow': {'3h': 0.13}, 'sys': {'pod': 'n'}, 'dt_txt': '2023-10-23 00:00:00'}, {'dt': 1698030000, 'main': {'temp': 275.22, 'feels_like': 275.22, 'temp_min': 275.22, 'temp_max': 275.22, 'pressure': 1005, 'sea_level': 1005, 'grnd_level': 987, 'humidity': 97, 'temp_kf': 0}, 'weather': [{'id': 804, 'main': 'Clouds', 'description': 'overcast clouds', 'icon': '04n'}], 'clouds': {'all': 100}, 'wind': {'speed': 0.17, 'deg': 260, 'gust': 0.26}, 'visibility': 10000, 'pop': 0, 'sys': {'pod': 'n'}, 'dt_txt': '2023-10-23 03:00:00'}, {'dt': 1698040800, 'main': {'temp': 275.2, 'feels_like': 275.2, 'temp_min': 275.2, 'temp_max': 275.2, 'pressure': 1005, 'sea_level': 1005, 'grnd_level': 987, 'humidity': 98, 'temp_kf': 0}, 'weather': [{'id': 804, 'main': 'Clouds', 'description': 'overcast clouds', 'icon': '04n'}], 'clouds': {'all': 100}, 'wind': {'speed': 0.14, 'deg': 280, 'gust': 0.15}, 'visibility': 10000, 'pop': 0, 'sys': {'pod': 'n'}, 'dt_txt': '2023-10-23 06:00:00'}, {'dt': 1698051600, 'main': {'temp': 276.89, 'feels_like': 276.89, 'temp_min': 276.89, 'temp_max': 276.89, 'pressure': 1006, 'sea_level': 1006, 'grnd_level': 988, 'humidity': 91, 'temp_kf': 0}, 'weather': [{'id': 804, 'main': 'Clouds', 'description': 'overcast clouds', 'icon': '04d'}], 'clouds': {'all': 99}, 'wind': {'speed': 0.29, 'deg': 90, 'gust': 0.27}, 'visibility': 10000, 'pop': 0.06, 'sys': {'pod': 'd'}, 'dt_txt': '2023-10-23 09:00:00'}, {'dt': 1698062400, 'main': {'temp': 278.55, 'feels_like': 278.55, 'temp_min': 278.55, 'temp_max': 278.55, 'pressure': 1006, 'sea_level': 1006, 'grnd_level': 988, 'humidity': 88, 'temp_kf': 0}, 'weather': [{'id': 804, 'main': 'Clouds', 'description': 'overcast clouds', 'icon': '04d'}], 'clouds': {'all': 95}, 'wind': {'speed': 0.28, 'deg': 77, 'gust': 0.66}, 'visibility': 10000, 'pop': 0.04, 'sys': {'pod': 'd'}, 'dt_txt': '2023-10-23 12:00:00'}], 'city': {'id': 3144113, 'name': 'Noresund', 'coord': {'lat': 60.1803, 'lon': 9.6231}, 'country': 'NO', 'population': 1000, 'timezone': 7200, 'sunrise': 1697609242, 'sunset': 1697645147}}\n"
     ]
    }
   ],
   "source": [
    "responseF = requests.get(urlF).json()\n",
    "print(responseF)"
   ]
  },
  {
   "cell_type": "code",
   "execution_count": 11,
   "metadata": {
    "slideshow": {
     "slide_type": "slide"
    }
   },
   "outputs": [],
   "source": [
    "# Write JSON to file for viewing\n",
    "with open('downloads/forecast.json', 'w') as f:\n",
    "    json.dump(responseF, f, indent=4)"
   ]
  },
  {
   "cell_type": "markdown",
   "metadata": {
    "slideshow": {
     "slide_type": "slide"
    }
   },
   "source": [
    "### When and what?\n",
    "Check contents and time stamps"
   ]
  },
  {
   "cell_type": "code",
   "execution_count": 12,
   "metadata": {
    "slideshow": {
     "slide_type": "-"
    }
   },
   "outputs": [
    {
     "data": {
      "text/plain": [
       "dict_keys(['cod', 'message', 'cnt', 'list', 'city'])"
      ]
     },
     "execution_count": 12,
     "metadata": {},
     "output_type": "execute_result"
    }
   ],
   "source": [
    "# Content of responseF\n",
    "responseF.keys()"
   ]
  },
  {
   "cell_type": "code",
   "execution_count": 13,
   "metadata": {
    "slideshow": {
     "slide_type": "fragment"
    }
   },
   "outputs": [
    {
     "name": "stdout",
     "output_type": "stream",
     "text": [
      "40\n"
     ]
    }
   ],
   "source": [
    "# Number of forecasts\n",
    "print(len(responseF[\"list\"]))"
   ]
  },
  {
   "cell_type": "code",
   "execution_count": 14,
   "metadata": {
    "scrolled": true,
    "slideshow": {
     "slide_type": "slide"
    }
   },
   "outputs": [
    {
     "name": "stdout",
     "output_type": "stream",
     "text": [
      "2023-10-18 15:00:00\n",
      "2023-10-18 18:00:00\n",
      "2023-10-18 21:00:00\n",
      "2023-10-19 00:00:00\n",
      "2023-10-19 03:00:00\n",
      "2023-10-19 06:00:00\n",
      "2023-10-19 09:00:00\n",
      "2023-10-19 12:00:00\n",
      "2023-10-19 15:00:00\n",
      "2023-10-19 18:00:00\n",
      "2023-10-19 21:00:00\n",
      "2023-10-20 00:00:00\n",
      "2023-10-20 03:00:00\n",
      "2023-10-20 06:00:00\n",
      "2023-10-20 09:00:00\n",
      "2023-10-20 12:00:00\n",
      "2023-10-20 15:00:00\n",
      "2023-10-20 18:00:00\n",
      "2023-10-20 21:00:00\n",
      "2023-10-21 00:00:00\n",
      "2023-10-21 03:00:00\n",
      "2023-10-21 06:00:00\n",
      "2023-10-21 09:00:00\n",
      "2023-10-21 12:00:00\n",
      "2023-10-21 15:00:00\n",
      "2023-10-21 18:00:00\n",
      "2023-10-21 21:00:00\n",
      "2023-10-22 00:00:00\n",
      "2023-10-22 03:00:00\n",
      "2023-10-22 06:00:00\n",
      "2023-10-22 09:00:00\n",
      "2023-10-22 12:00:00\n",
      "2023-10-22 15:00:00\n",
      "2023-10-22 18:00:00\n",
      "2023-10-22 21:00:00\n",
      "2023-10-23 00:00:00\n",
      "2023-10-23 03:00:00\n",
      "2023-10-23 06:00:00\n",
      "2023-10-23 09:00:00\n",
      "2023-10-23 12:00:00\n"
     ]
    }
   ],
   "source": [
    "# Print forecast times\n",
    "for forecast in responseF[\"list\"]:\n",
    "    print(forecast[\"dt_txt\"])"
   ]
  },
  {
   "cell_type": "markdown",
   "metadata": {
    "slideshow": {
     "slide_type": "slide"
    }
   },
   "source": [
    "## Make plots of omnipresent measurements and events\n",
    "We will later look at missing data, data only sporadically appearing and so on."
   ]
  },
  {
   "cell_type": "code",
   "execution_count": 15,
   "metadata": {
    "slideshow": {
     "slide_type": "-"
    }
   },
   "outputs": [],
   "source": [
    "# Air pressure per period\n",
    "pressures = []\n",
    "timestamps = []\n",
    "for forecast in responseF[\"list\"]:\n",
    "    pressures.append(forecast[\"main\"][\"pressure\"])\n",
    "    timestamps.append(dt.datetime.fromtimestamp(forecast[\"dt\"]))"
   ]
  },
  {
   "cell_type": "code",
   "execution_count": 16,
   "metadata": {
    "slideshow": {
     "slide_type": "slide"
    }
   },
   "outputs": [
    {
     "data": {
      "image/png": "[encoded data removed]",
      "text/plain": [
       "<Figure size 640x480 with 1 Axes>"
      ]
     },
     "metadata": {},
     "output_type": "display_data"
    }
   ],
   "source": [
    "import matplotlib.pyplot as plt\n",
    "plt.bar(timestamps, pressures)\n",
    "plt.xticks(rotation=45)\n",
    "plt.ylim(950, 1050)\n",
    "plt.grid()\n",
    "plt.ylabel(\"Air pressure (hPa)\")\n",
    "plt.title(f\"Forecasted air pressure in {CITY}\")\n",
    "plt.show()"
   ]
  },
  {
   "cell_type": "markdown",
   "metadata": {
    "slideshow": {
     "slide_type": "slide"
    }
   },
   "source": [
    "## Exercise\n",
    "- Make a new forecast request for your own hometown. Call your response something else than responseF.\n",
    "- If available, plot the humidity like we did with air pressure."
   ]
  },
  {
   "cell_type": "markdown",
   "metadata": {
    "slideshow": {
     "slide_type": "slide"
    }
   },
   "source": [
    "### Precipitation\n",
    "- ... comes in two main flavours: rain and snow.\n",
    "- We need to check which is present and set to zero if it is abscent."
   ]
  },
  {
   "cell_type": "code",
   "execution_count": 17,
   "metadata": {
    "slideshow": {
     "slide_type": "-"
    }
   },
   "outputs": [],
   "source": [
    "rain = []\n",
    "snow = []\n",
    "for forecast in responseF[\"list\"]:\n",
    "    try: # Check if rain is present in forecast\n",
    "        rain.append(forecast[\"rain\"][\"3h\"])\n",
    "    except KeyError:\n",
    "        rain.append(0)\n",
    "    try: # Check if snow is present in forecast\n",
    "        snow.append(forecast[\"snow\"][\"3h\"])\n",
    "    except KeyError:\n",
    "        snow.append(0)"
   ]
  },
  {
   "cell_type": "code",
   "execution_count": 18,
   "metadata": {
    "slideshow": {
     "slide_type": "slide"
    }
   },
   "outputs": [
    {
     "data": {
      "image/png": "[encoded data removed]",
      "text/plain": [
       "<Figure size 640x480 with 1 Axes>"
      ]
     },
     "metadata": {},
     "output_type": "display_data"
    }
   ],
   "source": [
    "# Stacked bar chart with rain and snow\n",
    "plt.bar(timestamps, rain, label=\"Rain\")\n",
    "plt.bar(timestamps, snow, label=\"Snow\")\n",
    "plt.xticks(rotation=45)\n",
    "plt.grid()\n",
    "plt.ylabel(\"Precipitation (mm)\")\n",
    "plt.title(f\"Forecasted precipitation in {CITY}\")\n",
    "plt.legend()\n",
    "plt.show()\n"
   ]
  },
  {
   "cell_type": "markdown",
   "metadata": {
    "slideshow": {
     "slide_type": "slide"
    }
   },
   "source": [
    "## Resources\n",
    "- [YouTube: NeuralNine's video (15m:32s)](https://www.youtube.com/watch?v=9P5MY_2i7K8)"
   ]
  }
 ],
 "metadata": {
  "celltoolbar": "Slideshow",
  "kernelspec": {
   "display_name": "Python 3 (ipykernel)",
   "language": "python",
   "name": "python3"
  },
  "language_info": {
   "codemirror_mode": {
    "name": "ipython",
    "version": 3
   },
   "file_extension": ".py",
   "mimetype": "text/x-python",
   "name": "python",
   "nbconvert_exporter": "python",
   "pygments_lexer": "ipython3",
   "version": "3.10.6"
  }
 },
 "nbformat": 4,
 "nbformat_minor": 2
}