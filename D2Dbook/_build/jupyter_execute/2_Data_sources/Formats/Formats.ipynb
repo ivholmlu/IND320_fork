{
 "cells": [
  {
   "cell_type": "markdown",
   "metadata": {},
   "source": [
    "# Static and streaming data\n",
    "The main topics here are:\n",
    "- [Data formats](./Data_formats.ipynb)\n",
    "- [Streaming data](./Streaming_data.ipynb)"
   ]
  }
 ],
 "metadata": {
  "language_info": {
   "codemirror_mode": {
    "name": "ipython",
    "version": 3
   },
   "file_extension": ".py",
   "mimetype": "text/x-python",
   "name": "python",
   "nbconvert_exporter": "python",
   "pygments_lexer": "ipython3",
   "version": "3.10.6"
  }
 },
 "nbformat": 4,
 "nbformat_minor": 2
}