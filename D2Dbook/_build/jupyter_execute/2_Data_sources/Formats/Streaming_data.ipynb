{
 "cells": [
  {
   "cell_type": "markdown",
   "metadata": {
    "slideshow": {
     "slide_type": "slide"
    }
   },
   "source": [
    "# Streaming data\n",
    "- Data that can be loaded chunk-wise (single or a few at the time).\n",
    "- Data flowing through a socket/pipe/streaming API/...\n",
    "- Typically requires:\n",
    "    - Checking if stream is active.\n",
    "    - A reactive reading mechanism or time delayed loop to check for updates.\n",
    "    - Error/exception checking/handling.\n",
    "    - A receiving enitity that can use the incomming data, e.g., printing to screen, updating graphics, updating a model, predicting some outcome/state/quantity, ..."
   ]
  },
  {
   "cell_type": "markdown",
   "metadata": {
    "slideshow": {
     "slide_type": "slide"
    }
   },
   "source": [
    "## Live reading of Twitch chat\n",
    "- Requires a free account on [Twitch](https://twitch.tv) and obtaining an [oauth autentication token](https://twitchapps.com/tmi/).\n",
    "- We will use River's [TwitchChatStream](https://riverml.xyz/0.18.0/api/stream/TwitchChatStream/) to handle the live streamed data."
   ]
  },
  {
   "cell_type": "code",
   "execution_count": 1,
   "metadata": {
    "slideshow": {
     "slide_type": "slide"
    }
   },
   "outputs": [
    {
     "name": "stdout",
     "output_type": "stream",
     "text": [
      "True\n"
     ]
    }
   ],
   "source": [
    "# Check if user is logged in (\"==\" active chat)\n",
    "import requests\n",
    "user = \"zackrawrr\" # Change this to the user you want to check\n",
    "response = requests.get(\"https://decapi.me/twitch/uptime/\"+user).text\n",
    "is_online = response != user+\" is offline\"\n",
    "print(is_online)"
   ]
  },
  {
   "cell_type": "code",
   "execution_count": 2,
   "metadata": {
    "slideshow": {
     "slide_type": "slide"
    }
   },
   "outputs": [],
   "source": [
    "# Connect to the Twitch chat using River\n",
    "from river import stream\n",
    "\n",
    "oauth = open('../../../No_sync/twitch_oauth','r').read()\n",
    "twitch_chat = stream.TwitchChatStream(\n",
    "    nickname=\"khliland\", # Exchange with your Twitch username\n",
    "    token=oauth,\n",
    "    channels=[user]\n",
    ")"
   ]
  },
  {
   "cell_type": "code",
   "execution_count": 3,
   "metadata": {
    "slideshow": {
     "slide_type": "slide"
    }
   },
   "outputs": [
    {
     "name": "stdout",
     "output_type": "stream",
     "text": [
      "{'dt': datetime.datetime(2023, 9, 6, 10, 36, 56, 383944), 'channel': 'zackrawrr', 'username': 'arm65e', 'msg': 'HOLY CRAP I LOVE THIS GAME!!!!! its SO FUN'}\n"
     ]
    },
    {
     "name": "stdout",
     "output_type": "stream",
     "text": [
      "{'dt': datetime.datetime(2023, 9, 6, 10, 36, 57, 518634), 'channel': 'zackrawrr', 'username': 'sakurabursts', 'msg': 'You dont wanna collectathon. U want the best.'}\n"
     ]
    },
    {
     "name": "stdout",
     "output_type": "stream",
     "text": [
      "{'dt': datetime.datetime(2023, 9, 6, 10, 36, 59, 663386), 'channel': 'zackrawrr', 'username': 'zometthecomet', 'msg': \"@zackrawrr KKona Space truck or Space semi brother! It's the best there is \\U000e0000\"}\n"
     ]
    },
    {
     "name": "stdout",
     "output_type": "stream",
     "text": [
      "{'dt': datetime.datetime(2023, 9, 6, 10, 37, 0, 40168), 'channel': 'zackrawrr', 'username': 'firewingr', 'msg': 'You can build your own ship @zackrawrr'}\n"
     ]
    },
    {
     "name": "stdout",
     "output_type": "stream",
     "text": [
      "{'dt': datetime.datetime(2023, 9, 6, 10, 37, 0, 853966), 'channel': 'zackrawrr', 'username': 'xfonzoo', 'msg': 'ng+'}\n"
     ]
    },
    {
     "name": "stdout",
     "output_type": "stream",
     "text": [
      "Puh, that's enough!\n"
     ]
    }
   ],
   "source": [
    "# If the user is online, print the first 5 messages\n",
    "if is_online:\n",
    "    messages = 5\n",
    "    for item in twitch_chat:\n",
    "        if messages > 0:\n",
    "            print(item)\n",
    "        else:\n",
    "            print(\"Puh, that's enough!\")\n",
    "            break\n",
    "        messages -= 1"
   ]
  },
  {
   "cell_type": "markdown",
   "metadata": {
    "slideshow": {
     "slide_type": "slide"
    }
   },
   "source": [
    "### Comments\n",
    "- Here, River has formated everything nicely for us as dictionaries.\n",
    "    - River's streaming format is based on dictionaries to minimize overhead.\n",
    "- See escpecially the _datetime_ formatting.\n",
    "- We will return to River and streaming Machine Learning later in the book."
   ]
  },
  {
   "cell_type": "markdown",
   "metadata": {
    "slideshow": {
     "slide_type": "slide"
    }
   },
   "source": [
    "## Exercise\n",
    "Make a clock  using [World Time API](http://worldtimeapi.org/)\n",
    "- Pull the current time from _http://worldtimeapi.org/api/timezone/Europe/Oslo_ every second.\n",
    "- Print only the _hours:minutes:seconds.decimals_\n",
    "- Print an error message if this fails.\n",
    "- Stop after 10 seconds"
   ]
  },
  {
   "cell_type": "markdown",
   "metadata": {
    "slideshow": {
     "slide_type": "slide"
    }
   },
   "source": [
    "## Resources\n",
    "- [River](https://riverml.xyz/)\n",
    "    - [TwitchChatSream](https://riverml.xyz/0.18.0/api/stream/TwitchChatStream/)\n",
    "- [Twitch](https://twitch.tv) \n",
    "    - [oauth autentication token](https://twitchapps.com/tmi/).\n",
    "- [World Time API](http://worldtimeapi.org/)\n"
   ]
  }
 ],
 "metadata": {
  "celltoolbar": "Slideshow",
  "kernelspec": {
   "display_name": "Python 3 (ipykernel)",
   "language": "python",
   "name": "python3"
  },
  "language_info": {
   "codemirror_mode": {
    "name": "ipython",
    "version": 3
   },
   "file_extension": ".py",
   "mimetype": "text/x-python",
   "name": "python",
   "nbconvert_exporter": "python",
   "pygments_lexer": "ipython3",
   "version": "3.10.6"
  }
 },
 "nbformat": 4,
 "nbformat_minor": 2
}