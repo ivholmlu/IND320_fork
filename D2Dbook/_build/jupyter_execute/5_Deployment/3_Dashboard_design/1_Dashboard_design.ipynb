{
 "cells": [
  {
   "cell_type": "markdown",
   "metadata": {
    "slideshow": {
     "slide_type": "slide"
    },
    "tags": []
   },
   "source": [
    "# Dashboard design\n",
    "A well-organised and well-functioning dashboard is easiest to achieve with a bit of planning.\n",
    "- What is the intended usecase?:\n",
    "    - Exploratory tool, insight, understanding\n",
    "    - Monitoring, control, alert\n",
    "- Which elements are needed for the current project?:\n",
    "    - Graphical elements\n",
    "    - Control widgets\n",
    "    - Information elements (text, symbols, ...)\n",
    "- How should these be organised to enable overview, focus and the right amount of user interaction?\n",
    "- How should the information flow when interacting with elements?\n",
    "- Which colours should be used in plots, backgrounds, labels, etc. (company colours, themed, standard)?"
   ]
  },
  {
   "cell_type": "markdown",
   "metadata": {
    "slideshow": {
     "slide_type": "slide"
    },
    "tags": []
   },
   "source": [
    "## Sketching layouts\n",
    "- Sketching layouts using pencil and paper or a tool like [draw.io](https://draw.io), PowerPoint or similar is valuable.\n",
    "- Finding a good organisation is much quicker without using code.  \n",
    "  \n",
    "<img src=\"../../images/Dashboard_layout.png\" width=\"500px\">  \n",
    "<img src=\"https://github.com/khliland/IND320/blob/main/D2Dbook/images/Dashboard_layout.png?raw=TRUE\" width=\"500px\">  "
   ]
  },
  {
   "cell_type": "markdown",
   "metadata": {
    "slideshow": {
     "slide_type": "slide"
    },
    "tags": []
   },
   "source": [
    "## Information flow\n",
    "- How different parts of the userinterface and backend connect, communicate and react can become a mess if programmed ad hoc.\n",
    "- Again, a good sketch is valuable for finding the right flow and for turning it into practice.\n",
    "- The following flow is made for the restaurant selection app.\n",
    "  \n",
    "<img src=\"../../images/Dashboard_flow.drawio.png\" width=\"721px\">  \n",
    "<img src=\"https://github.com/khliland/IND320/blob/main/D2Dbook/images/Dashboard_flow.drawio.png?raw=TRUE\" width=\"721px\">  "
   ]
  }
 ],
 "metadata": {
  "kernelspec": {
   "display_name": "Python 3 (ipykernel)",
   "language": "python",
   "name": "python3"
  },
  "language_info": {
   "codemirror_mode": {
    "name": "ipython",
    "version": 3
   },
   "file_extension": ".py",
   "mimetype": "text/x-python",
   "name": "python",
   "nbconvert_exporter": "python",
   "pygments_lexer": "ipython3",
   "version": "3.11.6"
  }
 },
 "nbformat": 4,
 "nbformat_minor": 4
}