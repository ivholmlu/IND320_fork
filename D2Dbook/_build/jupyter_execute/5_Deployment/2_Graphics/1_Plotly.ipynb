{
 "cells": [
  {
   "cell_type": "markdown",
   "metadata": {},
   "source": [
    "# Plotly graphics\n",
    "- One of the major players in interactive graphs is Plotly.\n",
    "- Some alternatives are Bokeh and Altair.\n",
    "- Interfacing it comes in two main flavours:\n",
    "    - _graph_objects_: low-level graphics handling\n",
    "    - _plotly.express_: high-level graphics handling\n",
    "- In addition _plotly_ is integrated in the _dash_ environment with its dialect."
   ]
  },
  {
   "cell_type": "markdown",
   "metadata": {},
   "source": [
    "## Plotly callbacks\n",
    "- The following code generates a random scatter.\n",
    "- The callback _update\\_point_ changes markers based on clicking and selection."
   ]
  },
  {
   "cell_type": "code",
   "execution_count": 1,
   "metadata": {},
   "outputs": [
    {
     "data": {
      "application/vnd.jupyter.widget-view+json": {
       "model_id": "11ebaf701bfb4469a50d2d160d53c710",
       "version_major": 2,
       "version_minor": 0
      },
      "text/plain": [
       "FigureWidget({\n",
       "    'data': [{'marker': {'color': [#a3a7e4, #a3a7e4, #a3a7e4, #a3a7e4, #a3a7e4,\n",
       "                                   #a3a7e4, #a3a7e4, #a3a7e4, #a3a7e4, #a3a7e4,\n",
       "                                   #a3a7e4, #a3a7e4, #a3a7e4, #a3a7e4, #a3a7e4,\n",
       "                                   #a3a7e4, #a3a7e4, #a3a7e4, #a3a7e4, #a3a7e4,\n",
       "                                   #a3a7e4, #a3a7e4, #a3a7e4, #a3a7e4, #a3a7e4,\n",
       "                                   #a3a7e4, #a3a7e4, #a3a7e4, #a3a7e4, #a3a7e4,\n",
       "                                   #a3a7e4, #a3a7e4, #a3a7e4, #a3a7e4, #a3a7e4,\n",
       "                                   #a3a7e4, #a3a7e4, #a3a7e4, #a3a7e4, #a3a7e4,\n",
       "                                   #a3a7e4, #a3a7e4, #a3a7e4, #a3a7e4, #a3a7e4,\n",
       "                                   #a3a7e4, #a3a7e4, #a3a7e4, #a3a7e4, #a3a7e4,\n",
       "                                   #a3a7e4, #a3a7e4, #a3a7e4, #a3a7e4, #a3a7e4,\n",
       "                                   #a3a7e4, #a3a7e4, #a3a7e4, #a3a7e4, #a3a7e4,\n",
       "                                   #a3a7e4, #a3a7e4, #a3a7e4, #a3a7e4, #a3a7e4,\n",
       "                                   #a3a7e4, #a3a7e4, #a3a7e4, #a3a7e4, #a3a7e4,\n",
       "                                   #a3a7e4, #a3a7e4, #a3a7e4, #a3a7e4, #a3a7e4,\n",
       "                                   #a3a7e4, #a3a7e4, #a3a7e4, #a3a7e4, #a3a7e4,\n",
       "                                   #a3a7e4, #a3a7e4, #a3a7e4, #a3a7e4, #a3a7e4,\n",
       "                                   #a3a7e4, #a3a7e4, #a3a7e4, #a3a7e4, #a3a7e4,\n",
       "                                   #a3a7e4, #a3a7e4, #a3a7e4, #a3a7e4, #a3a7e4,\n",
       "                                   #a3a7e4, #a3a7e4, #a3a7e4, #a3a7e4, #a3a7e4],\n",
       "                         'size': [10, 10, 10, 10, 10, 10, 10, 10, 10, 10, 10, 10,\n",
       "                                  10, 10, 10, 10, 10, 10, 10, 10, 10, 10, 10, 10,\n",
       "                                  10, 10, 10, 10, 10, 10, 10, 10, 10, 10, 10, 10,\n",
       "                                  10, 10, 10, 10, 10, 10, 10, 10, 10, 10, 10, 10,\n",
       "                                  10, 10, 10, 10, 10, 10, 10, 10, 10, 10, 10, 10,\n",
       "                                  10, 10, 10, 10, 10, 10, 10, 10, 10, 10, 10, 10,\n",
       "                                  10, 10, 10, 10, 10, 10, 10, 10, 10, 10, 10, 10,\n",
       "                                  10, 10, 10, 10, 10, 10, 10, 10, 10, 10, 10, 10,\n",
       "                                  10, 10, 10, 10]},\n",
       "              'mode': 'markers',\n",
       "              'type': 'scatter',\n",
       "              'uid': '9c606301-169d-414e-b9cf-79da8e07892b',\n",
       "              'x': array([4.17022005e-01, 7.20324493e-01, 1.14374817e-04, 3.02332573e-01,\n",
       "                          1.46755891e-01, 9.23385948e-02, 1.86260211e-01, 3.45560727e-01,\n",
       "                          3.96767474e-01, 5.38816734e-01, 4.19194514e-01, 6.85219500e-01,\n",
       "                          2.04452250e-01, 8.78117436e-01, 2.73875932e-02, 6.70467510e-01,\n",
       "                          4.17304802e-01, 5.58689828e-01, 1.40386939e-01, 1.98101489e-01,\n",
       "                          8.00744569e-01, 9.68261576e-01, 3.13424178e-01, 6.92322616e-01,\n",
       "                          8.76389152e-01, 8.94606664e-01, 8.50442114e-02, 3.90547832e-02,\n",
       "                          1.69830420e-01, 8.78142503e-01, 9.83468338e-02, 4.21107625e-01,\n",
       "                          9.57889530e-01, 5.33165285e-01, 6.91877114e-01, 3.15515631e-01,\n",
       "                          6.86500928e-01, 8.34625672e-01, 1.82882773e-02, 7.50144315e-01,\n",
       "                          9.88861089e-01, 7.48165654e-01, 2.80443992e-01, 7.89279328e-01,\n",
       "                          1.03226007e-01, 4.47893526e-01, 9.08595503e-01, 2.93614148e-01,\n",
       "                          2.87775339e-01, 1.30028572e-01, 1.93669579e-02, 6.78835533e-01,\n",
       "                          2.11628116e-01, 2.65546659e-01, 4.91573159e-01, 5.33625451e-02,\n",
       "                          5.74117605e-01, 1.46728575e-01, 5.89305537e-01, 6.99758360e-01,\n",
       "                          1.02334429e-01, 4.14055988e-01, 6.94400158e-01, 4.14179270e-01,\n",
       "                          4.99534589e-02, 5.35896406e-01, 6.63794645e-01, 5.14889112e-01,\n",
       "                          9.44594756e-01, 5.86555041e-01, 9.03401915e-01, 1.37474704e-01,\n",
       "                          1.39276347e-01, 8.07391289e-01, 3.97676837e-01, 1.65354197e-01,\n",
       "                          9.27508580e-01, 3.47765860e-01, 7.50812103e-01, 7.25997985e-01,\n",
       "                          8.83306091e-01, 6.23672207e-01, 7.50942434e-01, 3.48898342e-01,\n",
       "                          2.69927892e-01, 8.95886218e-01, 4.28091190e-01, 9.64840047e-01,\n",
       "                          6.63441498e-01, 6.21695720e-01, 1.14745973e-01, 9.49489259e-01,\n",
       "                          4.49912133e-01, 5.78389614e-01, 4.08136803e-01, 2.37026980e-01,\n",
       "                          9.03379521e-01, 5.73679487e-01, 2.87032703e-03, 6.17144914e-01]),\n",
       "              'y': array([0.3266449 , 0.5270581 , 0.8859421 , 0.35726976, 0.90853515, 0.62336012,\n",
       "                          0.01582124, 0.92943723, 0.69089692, 0.99732285, 0.17234051, 0.13713575,\n",
       "                          0.93259546, 0.69681816, 0.06600017, 0.75546305, 0.75387619, 0.92302454,\n",
       "                          0.71152476, 0.12427096, 0.01988013, 0.02621099, 0.02830649, 0.24621107,\n",
       "                          0.86002795, 0.53883106, 0.55282198, 0.84203089, 0.12417332, 0.27918368,\n",
       "                          0.58575927, 0.96959575, 0.56103022, 0.01864729, 0.80063267, 0.23297427,\n",
       "                          0.8071052 , 0.38786064, 0.86354185, 0.74712164, 0.55624023, 0.13645523,\n",
       "                          0.05991769, 0.12134346, 0.04455188, 0.10749413, 0.22570934, 0.71298898,\n",
       "                          0.55971698, 0.01255598, 0.07197428, 0.96727633, 0.56810046, 0.20329323,\n",
       "                          0.25232574, 0.74382585, 0.19542948, 0.58135893, 0.97001999, 0.8468288 ,\n",
       "                          0.23984776, 0.49376971, 0.61995572, 0.8289809 , 0.15679139, 0.0185762 ,\n",
       "                          0.07002214, 0.48634511, 0.60632946, 0.56885144, 0.31736241, 0.98861615,\n",
       "                          0.57974522, 0.38014117, 0.55094822, 0.74533443, 0.66923289, 0.26491956,\n",
       "                          0.06633483, 0.3700842 , 0.62971751, 0.21017401, 0.75275555, 0.06653648,\n",
       "                          0.2603151 , 0.80475456, 0.19343428, 0.63946088, 0.52467031, 0.92480797,\n",
       "                          0.26329677, 0.06596109, 0.73506596, 0.77217803, 0.90781585, 0.93197207,\n",
       "                          0.01395157, 0.23436209, 0.61677836, 0.94901632])}],\n",
       "    'layout': {'hovermode': 'closest', 'template': '...'}\n",
       "})"
      ]
     },
     "execution_count": 1,
     "metadata": {},
     "output_type": "execute_result"
    }
   ],
   "source": [
    "import plotly.graph_objects as go\n",
    "\n",
    "import numpy as np\n",
    "np.random.seed(1)\n",
    "\n",
    "x = np.random.rand(100)\n",
    "y = np.random.rand(100)\n",
    "\n",
    "# Main plot\n",
    "f = go.FigureWidget([go.Scatter(x=x, y=y, mode='markers')])\n",
    "\n",
    "# Attributes of the scatter object\n",
    "scatter = f.data[0]\n",
    "colors = ['#a3a7e4'] * 100\n",
    "scatter.marker.color = colors\n",
    "scatter.marker.size = [10] * 100\n",
    "f.layout.hovermode = 'closest'\n",
    "\n",
    "# Create our callback function\n",
    "def update_point(trace, points, selector):\n",
    "    c = list(scatter.marker.color)\n",
    "    s = list(scatter.marker.size)\n",
    "    for i in points.point_inds:\n",
    "        c[i] = '#bae2be'\n",
    "        s[i] = 20\n",
    "    with f.batch_update():\n",
    "        scatter.marker.color = c\n",
    "        scatter.marker.size = s\n",
    "\n",
    "# Assign the callback function to the scatter object\n",
    "scatter.on_click(update_point)\n",
    "scatter.on_selection(update_point)\n",
    "\n",
    "f"
   ]
  },
  {
   "cell_type": "markdown",
   "metadata": {},
   "source": [
    "### Selection behaviour\n",
    "- The selection in one graph affects a second graph."
   ]
  },
  {
   "cell_type": "code",
   "execution_count": 2,
   "metadata": {},
   "outputs": [
    {
     "data": {
      "application/vnd.jupyter.widget-view+json": {
       "model_id": "3d003f3d72b9439cab1a60062a52c5e2",
       "version_major": 2,
       "version_minor": 0
      },
      "text/plain": [
       "FigureWidget({\n",
       "    'data': [{'mode': 'markers',\n",
       "              'type': 'scatter',\n",
       "              'uid': 'a1840e92-20b8-42b5-8c45-05f673008b49',\n",
       "              'x': array([ 1.62434536, -0.61175641, -0.52817175, -1.07296862,  0.86540763,\n",
       "                          -2.3015387 ,  1.74481176, -0.7612069 ,  0.3190391 , -0.24937038,\n",
       "                           1.46210794, -2.06014071, -0.3224172 , -0.38405435,  1.13376944,\n",
       "                          -1.09989127, -0.17242821, -0.87785842,  0.04221375,  0.58281521,\n",
       "                          -1.10061918,  1.14472371,  0.90159072,  0.50249434,  0.90085595,\n",
       "                          -0.68372786, -0.12289023, -0.93576943, -0.26788808,  0.53035547,\n",
       "                          -0.69166075, -0.39675353, -0.6871727 , -0.84520564, -0.67124613,\n",
       "                          -0.0126646 , -1.11731035,  0.2344157 ,  1.65980218,  0.74204416,\n",
       "                          -0.19183555, -0.88762896, -0.74715829,  1.6924546 ,  0.05080775,\n",
       "                          -0.63699565,  0.19091548,  2.10025514,  0.12015895,  0.61720311,\n",
       "                           0.30017032, -0.35224985, -1.1425182 , -0.34934272, -0.20889423,\n",
       "                           0.58662319,  0.83898341,  0.93110208,  0.28558733,  0.88514116,\n",
       "                          -0.75439794,  1.25286816,  0.51292982, -0.29809284,  0.48851815,\n",
       "                          -0.07557171,  1.13162939,  1.51981682,  2.18557541, -1.39649634,\n",
       "                          -1.44411381, -0.50446586,  0.16003707,  0.87616892,  0.31563495,\n",
       "                          -2.02220122, -0.30620401,  0.82797464,  0.23009474,  0.76201118,\n",
       "                          -0.22232814, -0.20075807,  0.18656139,  0.41005165,  0.19829972,\n",
       "                           0.11900865, -0.67066229,  0.37756379,  0.12182127,  1.12948391,\n",
       "                           1.19891788,  0.18515642, -0.37528495, -0.63873041,  0.42349435,\n",
       "                           0.07734007, -0.34385368,  0.04359686, -0.62000084,  0.69803203]),\n",
       "              'xaxis': 'x',\n",
       "              'y': array([-0.44712856,  1.2245077 ,  0.40349164,  0.59357852, -1.09491185,\n",
       "                           0.16938243,  0.74055645, -0.9537006 , -0.26621851,  0.03261455,\n",
       "                          -1.37311732,  0.31515939,  0.84616065, -0.85951594,  0.35054598,\n",
       "                          -1.31228341, -0.03869551, -1.61577235,  1.12141771,  0.40890054,\n",
       "                          -0.02461696, -0.77516162,  1.27375593,  1.96710175, -1.85798186,\n",
       "                           1.23616403,  1.62765075,  0.3380117 , -1.19926803,  0.86334532,\n",
       "                          -0.1809203 , -0.60392063, -1.23005814,  0.5505375 ,  0.79280687,\n",
       "                          -0.62353073,  0.52057634, -1.14434139,  0.80186103,  0.0465673 ,\n",
       "                          -0.18656977, -0.10174587,  0.86888616,  0.75041164,  0.52946532,\n",
       "                           0.13770121,  0.07782113,  0.61838026,  0.23249456,  0.68255141,\n",
       "                          -0.31011677, -2.43483776,  1.0388246 ,  2.18697965,  0.44136444,\n",
       "                          -0.10015523, -0.13644474, -0.11905419,  0.01740941, -1.12201873,\n",
       "                          -0.51709446, -0.99702683,  0.24879916, -0.29664115,  0.49521132,\n",
       "                          -0.17470316,  0.98633519,  0.2135339 ,  2.19069973, -1.89636092,\n",
       "                          -0.64691669,  0.90148689,  2.52832571, -0.24863478,  0.04366899,\n",
       "                          -0.22631424,  1.33145711, -0.28730786,  0.68006984, -0.3198016 ,\n",
       "                          -1.27255876,  0.31354772,  0.50318481,  1.29322588, -0.11044703,\n",
       "                          -0.61736206,  0.5627611 ,  0.24073709,  0.28066508, -0.0731127 ,\n",
       "                           1.16033857,  0.36949272,  1.90465871,  1.1110567 ,  0.6590498 ,\n",
       "                          -1.62743834,  0.60231928,  0.4202822 ,  0.81095167,  1.04444209]),\n",
       "              'yaxis': 'y'},\n",
       "             {'domain': {'x': [0.55, 1.0], 'y': [0.0, 1.0]},\n",
       "              'labels': [negative x, positive x],\n",
       "              'marker': {'colors': ['#FF5050', '#5050FF']},\n",
       "              'sort': False,\n",
       "              'type': 'pie',\n",
       "              'uid': '3db3b304-b94f-4305-90f1-888d3c2fc25a',\n",
       "              'values': array([47, 53])}],\n",
       "    'layout': {'height': 500,\n",
       "               'template': '...',\n",
       "               'title': {'text': 'Side By Side Subplots'},\n",
       "               'width': 800,\n",
       "               'xaxis': {'anchor': 'y', 'domain': [0.0, 0.45]},\n",
       "               'yaxis': {'anchor': 'x', 'domain': [0.0, 1.0]}}\n",
       "})"
      ]
     },
     "execution_count": 2,
     "metadata": {},
     "output_type": "execute_result"
    }
   ],
   "source": [
    "from plotly.subplots import make_subplots\n",
    "import plotly.graph_objects as go\n",
    "import pandas as pd\n",
    "import numpy as np\n",
    "from plotly.graph_objs import FigureWidget\n",
    "import plotly.express as px\n",
    "\n",
    "# Random data and counting of positive and negative x values\n",
    "np.random.seed(1)\n",
    "x = np.random.randn(100)\n",
    "y = np.random.randn(100)\n",
    "df = pd.DataFrame({'x': x, 'y': y})\n",
    "allU = np.unique(df['x'].values>=0, return_counts=True)\n",
    "# Switch the order of counts if most positive samples are selected\n",
    "if allU[0][0]:\n",
    "    allU[1][0], allU[1][1] = allU[1][1], allU[1][0]\n",
    "\n",
    "# Create figure with subplots\n",
    "fig = make_subplots(rows=1, cols=2, \n",
    "                    specs=[[{\"type\": \"xy\"}, {\"type\": \"domain\"}]])\n",
    "fig.add_trace(\n",
    "    go.Scatter(x=x, y=y, mode='markers'),\n",
    "    row=1, col=1\n",
    ")\n",
    "fig.add_trace(\n",
    "    go.Pie(labels=['negative x', 'positive x'], values = allU[1], \n",
    "           marker_colors=(\"#FF5050\",\"#5050FF\"), sort=False),\n",
    "    row=1, col=2\n",
    ")\n",
    "fig.update_layout(height=500, width=800, title_text=\"Side By Side Subplots\")\n",
    "\n",
    "# Convert Figure to FigureWidget\n",
    "fig_widget = FigureWidget(fig)\n",
    "\n",
    "# Get scatter and pie from FigureWidget\n",
    "scatter2 = fig_widget.data[0]\n",
    "pie = fig_widget.data[1]\n",
    "\n",
    "# Create our callback function\n",
    "def selection_handler(trace, points, selector):\n",
    "    df_selected = pd.DataFrame({'x': points.xs, 'y': points.ys})\n",
    "    sel_log, sel_num = np.unique(df_selected['x'].values>=0, return_counts=True)\n",
    "    # If only positive selections, add a zero count for negative x\n",
    "    if sel_log.shape[0] == 1 and sel_log[0]:\n",
    "        sel_log = np.concatenate([np.array([False]), sel_log])\n",
    "        sel_num = np.concatenate([np.array([0]), sel_num])\n",
    "    # Switch the order of counts if most positive samples are selected\n",
    "    if sel_log[0]:\n",
    "        sel_num[0], sel_num[1] = sel_num[1], sel_num[0]\n",
    "    with fig_widget.batch_update():\n",
    "        pie.values = sel_num\n",
    "    fig_widget.update_traces()\n",
    "\n",
    "scatter2.on_selection(selection_handler)\n",
    "\n",
    "fig_widget"
   ]
  },
  {
   "cell_type": "markdown",
   "metadata": {},
   "source": [
    "- [Plotly overview](https://plotly.com/python/)\n",
    "- [Plotly API reference](https://plotly.com/python-api-reference/index.html)"
   ]
  }
 ],
 "metadata": {
  "kernelspec": {
   "display_name": "IND320",
   "language": "python",
   "name": "python3"
  },
  "language_info": {
   "codemirror_mode": {
    "name": "ipython",
    "version": 3
   },
   "file_extension": ".py",
   "mimetype": "text/x-python",
   "name": "python",
   "nbconvert_exporter": "python",
   "pygments_lexer": "ipython3",
   "version": "3.11.6"
  },
  "widgets": {
   "application/vnd.jupyter.widget-state+json": {
    "state": {
     "11ebaf701bfb4469a50d2d160d53c710": {
      "buffers": [
       {
        "data": "Bjz6D32w2j9R8Lrz5QznPwDAYWaQ+x0/9Aj+t2pZ0z88Bcej5cjCPxDKsIyAo7c/5OE05l/Xxz/Oo1u9qh3WP+j7e2ejZNk/VJ9il/w94T+KlYE6FdTaPycjGXJR7eU/DGIYx30ryj9KFuu8iRnsP8CsZ0R+C5w/qeWnR3h05T/+WqgzH7XaPwsJuX3J4OE/3KoG/zL4wT9ESHS8Y1vJP18n3RKzn+k/EAY2s//77j9YDr5IJA/UP5SWEsKBJ+Y/3sd1Q2EL7D/jC1EnnqDsP1gcjBp1xbU/kKZ5Ef3+oz/8qPLQAL3FP+eerk6+Gew/iGT6EkItuT8ujF9lbfPaP7irpfEHp+4/yErKpLAP4T+slCh52yPmP+API3loMdQ/MB0iy9D35T+VcKblQLXqP6C5X4QpupI/twF/pi4B6D+xfaQCwKTvP8CoMRn58Oc/9q6RW8vy0T+edOO4xkHpP9D/WAIFbbo/IADBm0mq3D/7emLgNhPtPyIaOv+SytI/arf0QOlq0j8IlGW4xqTAP4AotIru1JM/st2qSwW55T9QMpFOoRbLP3g1ZGq3/tA/NNSsRO913z8Q5zfkVVKrPz+sdOIrX+I/VPhNfwDIwj8SPgtJl9viP06P7KRrZOY/kAIS0ZYyuj8qeZmv5H/aP53k+K2GOOY/XCZTxOmB2j8wtf3wf5OpPxxvLjgQJuE/R1OPRM495T/Yayu7+HngPz+EHsgeOu4/C1KIEw/F4j9hxCkiq+jsP0TtKmfFmME/QDBGrs7TwT94pYJBJtbpP5qxToyJc9k/8NBvilMqxT9o7nF5Jq7tP+5skbzLQdY/ASWNGqcG6D+wWIEgYDvnP/3EwiILROw/nkuXah/14z8Cb2ptuAfoP+4ZG7ZZVNY/TC3aon9G0T/z2gKTGavsP/D8DJfYZds/AvMLPPjf7j9NEP6p6TrlPyKQS2zu5OM/2LQu+f1fvT/dmkFMN2LuP/Ss10Jcy9w/53DE7yqC4j9O1gnT6R7aP6zrNGzmVs4//xwWK3zo7D/YlzQVlVviPwDuSBeDg2c/opmcsKa/4z8=",
        "encoding": "base64",
        "path": [
         "_data",
         0,
         "x",
         "buffer"
        ]
       },
       {
        "data": "0gqhBMDn1D9kOQn0qN3gPz4P1j6jWew/Ut/D+4Hd1j9a8Q5PuBLtPzCc3umQ8uM/QKBuonEzkD84p1Mn873tP4aONNrTG+Y/ccNHnBHq7z/8QY/3QA/GP1xd4guqjcE/IpDEcNLX7T95dNuZVUzmP9AhXydj5bA/CnII2sAs6D/uktX0wB/oP898MsBqie0/h1ATks/E5j/gTYPFONC/P8BkujJ1W5Q/YCW+jQ3Xmj+AdkFBYPycP4xYoiHYg88/paUnVVmF6z8XUu2kGj7hP1fk3re3sOE/nf8cxerx6j/w1XmH0sm/P/CBuzgl3tE/jb9HOoq+4j/v9Kup7QbvP+areKX18+E/ADgQaEYYkz/YtihpyJ7pP5xvetsZ0s0/qqhzRs7T6T+yT2pztdLYP/zqAYcious/gxS2pWvo5z/gqbZRuMzhP1BcymVdd8E/MEzQCYitrj+Qdv1dXRC/P5B1pvqAz6Y/wM0FObyEuz+8e9wpC+TMPwndJETO0OY/DQeeljPp4T/AlDgh87aJP4hkawnobLI/bHlxfe3z7j+UPBkF4S3iPxz6LkGDBco/rpM34Rom0D9Tf6Xga83nP4z2BE/VA8k/hgp8CX6a4j/wNzNcZwrvPw299rY4Ges/7GTH1FSzzj+ChqJJ7JnfP5xR7V+t1uM/J3SS8wKH6j/sSiaMvRHEPyDrV9OjBZM/UBZFofjssT+c0YI+RyDfP/jfDAsNZ+M/kTXS7Qc04j84LkFsqk/UP8v1b1i+ou8/m4mV2EWN4j/U/xGkO1TYP23T3CheoeE/N3Cql8fZ5z+CPtkZW2rlPyTiDilx9NA/0Kp02FH7sD+4rbOhda/XP2cKTFSlJuQ/VNaGYfvmyj8zGabQkhboP4AmaOuICLE/vDDDqACp0D+Js5KkjMDpP9Bt5V50wsg/F2xOqnZ25D/0y1tjGcrgP0lAfuIGmO0/oJyYstrZ0D8Q30t30+KwP0VIFw6phec/tH7ysq616D84YKnU0wztPzWMvxa30u0/gHlDbaSSjD/MK6irk//NP8h8BvelvOM/aSeXeVde7j8=",
        "encoding": "base64",
        "path": [
         "_data",
         0,
         "y",
         "buffer"
        ]
       }
      ],
      "model_module": "jupyterlab-plotly",
      "model_module_version": "^5.17.0",
      "model_name": "FigureModel",
      "state": {
       "_config": {
        "plotlyServerURL": "https://plot.ly"
       },
       "_data": [
        {
         "mode": "markers",
         "type": "scatter",
         "uid": "9c606301-169d-414e-b9cf-79da8e07892b",
         "x": {
          "dtype": "float64",
          "shape": [
           100
          ]
         },
         "y": {
          "dtype": "float64",
          "shape": [
           100
          ]
         }
        }
       ],
       "_dom_classes": [],
       "_js2py_layoutDelta": {},
       "_js2py_pointsCallback": {},
       "_js2py_relayout": {},
       "_js2py_restyle": {},
       "_js2py_traceDeltas": {},
       "_js2py_update": {},
       "_last_layout_edit_id": 3,
       "_last_trace_edit_id": 2,
       "_layout": {},
       "_model_module": "jupyterlab-plotly",
       "_model_module_version": "^5.17.0",
       "_model_name": "FigureModel",
       "_py2js_addTraces": {},
       "_py2js_animate": {},
       "_py2js_deleteTraces": {},
       "_py2js_moveTraces": {},
       "_py2js_relayout": null,
       "_py2js_removeLayoutProps": {},
       "_py2js_removeTraceProps": {},
       "_py2js_restyle": null,
       "_py2js_update": {},
       "_view_count": 0,
       "_view_module": "jupyterlab-plotly",
       "_view_module_version": "^5.17.0",
       "_view_name": "FigureView",
       "tabbable": null,
       "tooltip": null
      }
     },
     "3d003f3d72b9439cab1a60062a52c5e2": {
      "buffers": [
       {
        "data": "UHxlkFH9+T+t2bcvgpPjv9KPVHLI5uC/DLhcJeEq8b99ETVXa7HrP1mizB6NaQLABcaPvb/q+z/2rxqTzlvovyR77fQia9Q/xiOiU17rz792SM1Ky2T3P/SaYw0rewDANvi5xHui1L+U+0u3WJTYv8uOQG3rI/I/7FDklSeZ8b+IIyukIBLGv+6yb4lqF+y/DJIrSwqdpT+iqVAXbKbiP8att9oinPG/kngLz8lQ8j8WV2rI1NnsP/tGAAJvFOA/B+0P28/T7D9DklA/GeHlv8LEmdu7db+/5KaXvdLx7b/M2D4LFCXRv4CmHAes+OA/hsiSuhUi5r830prnaGTZv1v3NppR/eW/5TaUs+wL679zV3Aq2Xrlv3qcY7Hl74m/HO/t0IDg8b8Yj+VlVQHOP49DSLqMjvo/+sE7ZdO+5z+yNs0/EY7Iv2BBd9t0Z+y/UAqTgrjo57/5D5ZGSxT7P/PeSlp5A6o/QLa2sURi5L9NL3kp62/IPw52o5BSzQBAY+86s7zCvj8J2mW8IMDjPy0r3JL9NdM/1Hut8EKL1r9pcHkpwUfyv3f49pOhW9a/AXZV1gu9yr95fKb/ncXiPx5Hj77z2Oo/RPaNl5bL7T9CoIcPEEfSP0RbHJATU+w/9gKYJgck6L9E1I56vwv0PwDVeszraeA/lAl8+PMT07+0Y7id4UPfPwqa7fOqWLO/Bb6kaicb8j9cGydwK1H4P8EDcPUOfAFAgHyeigxY9r/oWuATFxv3v6u16ZeVJOC/3Iq2PRh8xD/A575nkwnsP/4m+OtcM9Q/DCq/1HctAMAYJAm32JjTvwtLfa3Efuo/MJevib5zzT9VDFRFZWLoPyT3vqI/dcy/pzE7vnCyyb91135gPuHHP4WLm0NJPto/Dw5gnuJhyT8uLa/BWXe+Pwa0SMEQduW/+b6ZTAEq2D85id3GrS+/P4Vw3bddEvI/HETMg8Qu8z/MeN6aNLPHP6Za1CqrBNi/okBfwHpw5L+fvi8QiBrbP047OgiPzLM/fvrL2LIB1r/sep/EU1KmP9j8hwIM1+O/NdG8RkdW5j8=",
        "encoding": "base64",
        "path": [
         "_data",
         0,
         "x",
         "buffer"
        ]
       },
       {
        "data": "+T+3IMGd3L8qbx1klZfzP3LabJvO0tk/YCgdY5j+4j9SX5dIwoTxv21/QNVSrsU/QJxJcaOy5z9gGd4ft4Tuv8oIOFi5CdG/aPvXltqyoD/ffgDeSfj1vyVUdkySK9Q/3EaRfr8T6z8ecwiTJ4Hrv2/ThmZYb9Y/xZHl4xz/9L9seZnV5c+jv3u00xw02vm/bHDgsVPx8T/UWXApbSvaP9Z3p/EvNZm/M0VuvR/O6L9a4/HlTWH0P3JBD68/ef8/LMIFMUu6/b8klTTvU8fzP2JZIYTbCvo/efucz/uh1T9MSSCtMzDzv6wzAFyGoOs/INZNfmUox7/7DjhaUVPjv7DkjXBRrvO/AxGOzwCe4T8SXyWBrF7pP7bSgLf28+O/tabZtI+o4D/dP77qOE/yvytgenfYqOk/Ee2WP6vXpz+z0mGuhOHHv4YCBHsEDLq/wjGJV+rN6z8LQXhFXwPoP9i/jkNh8eA/s3nHeDGgwT/hqVLfFeyzP4HROGfFyeM/vdYVuGHCzT/OS0oMdtflP+7eDAb02NO/VT+/OIx6A8AxQ7SLBp/wPy8tZi/vfgFAkqKvplA/3D9r03n7xaO5v6lNX3gFd8G/rtTx0lV6vr9iOCqdxdORP2R6F+nJ8/G/Lro2rQmM4L+gwj/OpOfvv7lit6Km2M8/sCgFLCv80r9iB0bWirHfPzwLzVKsXMa/k8LSzw6Q7z9/WGkxFFXLP6E/WpSNhgFAhqwTjX5X/r+eU2mgirPkv9PsrAn72Ow/3vQC1AI6BEAg03evQ9PPv73RGUPIW6Y/Y4Mbd933zL/bcSn5pU31PzDXYIVAY9K/obco0yHD5T+CnB4goXfUv/pRwJFmXPS/9gxIdSoR1D8GjrEJFxrgP58RfZ8NsfQ/UR9nnkFGvL/q8C0WbsHjv/USLo8jAuI/XS8MGXnQzj9Tv9enavbRPxpGhJ+Dt7K/A5ImLb+Q8j93aTzHxKXXP53b5Wh7ef4/BhuFY+PG8T+o8hWZ7xblP9tAE8n8Cfq/6NZTFTNG4z/RUPBT5+XaPwx9KuxQ8+k/p1X16Qi28D8=",
        "encoding": "base64",
        "path": [
         "_data",
         0,
         "y",
         "buffer"
        ]
       }
      ],
      "model_module": "jupyterlab-plotly",
      "model_module_version": "^5.17.0",
      "model_name": "FigureModel",
      "state": {
       "_config": {
        "plotlyServerURL": "https://plot.ly"
       },
       "_data": [
        {
         "mode": "markers",
         "type": "scatter",
         "uid": "a1840e92-20b8-42b5-8c45-05f673008b49",
         "x": {
          "dtype": "float64",
          "shape": [
           100
          ]
         },
         "xaxis": "x",
         "y": {
          "dtype": "float64",
          "shape": [
           100
          ]
         },
         "yaxis": "y"
        },
        {
         "domain": {
          "x": [
           0.55,
           1.0
          ],
          "y": [
           0.0,
           1.0
          ]
         },
         "labels": [
          "negative x",
          "positive x"
         ],
         "marker": {
          "colors": [
           "#FF5050",
           "#5050FF"
          ]
         },
         "sort": false,
         "type": "pie",
         "uid": "3db3b304-b94f-4305-90f1-888d3c2fc25a",
         "values": [
          47,
          53
         ]
        }
       ],
       "_dom_classes": [],
       "_js2py_layoutDelta": {},
       "_js2py_pointsCallback": {},
       "_js2py_relayout": {},
       "_js2py_restyle": {},
       "_js2py_traceDeltas": {},
       "_js2py_update": {},
       "_last_layout_edit_id": 0,
       "_last_trace_edit_id": 0,
       "_layout": {
        "height": 500,
        "template": {
         "data": {
          "bar": [
           {
            "error_x": {
             "color": "#2a3f5f"
            },
            "error_y": {
             "color": "#2a3f5f"
            },
            "marker": {
             "line": {
              "color": "#E5ECF6",
              "width": 0.5
             },
             "pattern": {
              "fillmode": "overlay",
              "size": 10,
              "solidity": 0.2
             }
            },
            "type": "bar"
           }
          ],
          "barpolar": [
           {
            "marker": {
             "line": {
              "color": "#E5ECF6",
              "width": 0.5
             },
             "pattern": {
              "fillmode": "overlay",
              "size": 10,
              "solidity": 0.2
             }
            },
            "type": "barpolar"
           }
          ],
          "carpet": [
           {
            "aaxis": {
             "endlinecolor": "#2a3f5f",
             "gridcolor": "white",
             "linecolor": "white",
             "minorgridcolor": "white",
             "startlinecolor": "#2a3f5f"
            },
            "baxis": {
             "endlinecolor": "#2a3f5f",
             "gridcolor": "white",
             "linecolor": "white",
             "minorgridcolor": "white",
             "startlinecolor": "#2a3f5f"
            },
            "type": "carpet"
           }
          ],
          "choropleth": [
           {
            "colorbar": {
             "outlinewidth": 0,
             "ticks": ""
            },
            "type": "choropleth"
           }
          ],
          "contour": [
           {
            "colorbar": {
             "outlinewidth": 0,
             "ticks": ""
            },
            "colorscale": [
             [
              0.0,
              "#0d0887"
             ],
             [
              0.1111111111111111,
              "#46039f"
             ],
             [
              0.2222222222222222,
              "#7201a8"
             ],
             [
              0.3333333333333333,
              "#9c179e"
             ],
             [
              0.4444444444444444,
              "#bd3786"
             ],
             [
              0.5555555555555556,
              "#d8576b"
             ],
             [
              0.6666666666666666,
              "#ed7953"
             ],
             [
              0.7777777777777778,
              "#fb9f3a"
             ],
             [
              0.8888888888888888,
              "#fdca26"
             ],
             [
              1.0,
              "#f0f921"
             ]
            ],
            "type": "contour"
           }
          ],
          "contourcarpet": [
           {
            "colorbar": {
             "outlinewidth": 0,
             "ticks": ""
            },
            "type": "contourcarpet"
           }
          ],
          "heatmap": [
           {
            "colorbar": {
             "outlinewidth": 0,
             "ticks": ""
            },
            "colorscale": [
             [
              0.0,
              "#0d0887"
             ],
             [
              0.1111111111111111,
              "#46039f"
             ],
             [
              0.2222222222222222,
              "#7201a8"
             ],
             [
              0.3333333333333333,
              "#9c179e"
             ],
             [
              0.4444444444444444,
              "#bd3786"
             ],
             [
              0.5555555555555556,
              "#d8576b"
             ],
             [
              0.6666666666666666,
              "#ed7953"
             ],
             [
              0.7777777777777778,
              "#fb9f3a"
             ],
             [
              0.8888888888888888,
              "#fdca26"
             ],
             [
              1.0,
              "#f0f921"
             ]
            ],
            "type": "heatmap"
           }
          ],
          "heatmapgl": [
           {
            "colorbar": {
             "outlinewidth": 0,
             "ticks": ""
            },
            "colorscale": [
             [
              0.0,
              "#0d0887"
             ],
             [
              0.1111111111111111,
              "#46039f"
             ],
             [
              0.2222222222222222,
              "#7201a8"
             ],
             [
              0.3333333333333333,
              "#9c179e"
             ],
             [
              0.4444444444444444,
              "#bd3786"
             ],
             [
              0.5555555555555556,
              "#d8576b"
             ],
             [
              0.6666666666666666,
              "#ed7953"
             ],
             [
              0.7777777777777778,
              "#fb9f3a"
             ],
             [
              0.8888888888888888,
              "#fdca26"
             ],
             [
              1.0,
              "#f0f921"
             ]
            ],
            "type": "heatmapgl"
           }
          ],
          "histogram": [
           {
            "marker": {
             "pattern": {
              "fillmode": "overlay",
              "size": 10,
              "solidity": 0.2
             }
            },
            "type": "histogram"
           }
          ],
          "histogram2d": [
           {
            "colorbar": {
             "outlinewidth": 0,
             "ticks": ""
            },
            "colorscale": [
             [
              0.0,
              "#0d0887"
             ],
             [
              0.1111111111111111,
              "#46039f"
             ],
             [
              0.2222222222222222,
              "#7201a8"
             ],
             [
              0.3333333333333333,
              "#9c179e"
             ],
             [
              0.4444444444444444,
              "#bd3786"
             ],
             [
              0.5555555555555556,
              "#d8576b"
             ],
             [
              0.6666666666666666,
              "#ed7953"
             ],
             [
              0.7777777777777778,
              "#fb9f3a"
             ],
             [
              0.8888888888888888,
              "#fdca26"
             ],
             [
              1.0,
              "#f0f921"
             ]
            ],
            "type": "histogram2d"
           }
          ],
          "histogram2dcontour": [
           {
            "colorbar": {
             "outlinewidth": 0,
             "ticks": ""
            },
            "colorscale": [
             [
              0.0,
              "#0d0887"
             ],
             [
              0.1111111111111111,
              "#46039f"
             ],
             [
              0.2222222222222222,
              "#7201a8"
             ],
             [
              0.3333333333333333,
              "#9c179e"
             ],
             [
              0.4444444444444444,
              "#bd3786"
             ],
             [
              0.5555555555555556,
              "#d8576b"
             ],
             [
              0.6666666666666666,
              "#ed7953"
             ],
             [
              0.7777777777777778,
              "#fb9f3a"
             ],
             [
              0.8888888888888888,
              "#fdca26"
             ],
             [
              1.0,
              "#f0f921"
             ]
            ],
            "type": "histogram2dcontour"
           }
          ],
          "mesh3d": [
           {
            "colorbar": {
             "outlinewidth": 0,
             "ticks": ""
            },
            "type": "mesh3d"
           }
          ],
          "parcoords": [
           {
            "line": {
             "colorbar": {
              "outlinewidth": 0,
              "ticks": ""
             }
            },
            "type": "parcoords"
           }
          ],
          "pie": [
           {
            "automargin": true,
            "type": "pie"
           }
          ],
          "scatter": [
           {
            "fillpattern": {
             "fillmode": "overlay",
             "size": 10,
             "solidity": 0.2
            },
            "type": "scatter"
           }
          ],
          "scatter3d": [
           {
            "line": {
             "colorbar": {
              "outlinewidth": 0,
              "ticks": ""
             }
            },
            "marker": {
             "colorbar": {
              "outlinewidth": 0,
              "ticks": ""
             }
            },
            "type": "scatter3d"
           }
          ],
          "scattercarpet": [
           {
            "marker": {
             "colorbar": {
              "outlinewidth": 0,
              "ticks": ""
             }
            },
            "type": "scattercarpet"
           }
          ],
          "scattergeo": [
           {
            "marker": {
             "colorbar": {
              "outlinewidth": 0,
              "ticks": ""
             }
            },
            "type": "scattergeo"
           }
          ],
          "scattergl": [
           {
            "marker": {
             "colorbar": {
              "outlinewidth": 0,
              "ticks": ""
             }
            },
            "type": "scattergl"
           }
          ],
          "scattermapbox": [
           {
            "marker": {
             "colorbar": {
              "outlinewidth": 0,
              "ticks": ""
             }
            },
            "type": "scattermapbox"
           }
          ],
          "scatterpolar": [
           {
            "marker": {
             "colorbar": {
              "outlinewidth": 0,
              "ticks": ""
             }
            },
            "type": "scatterpolar"
           }
          ],
          "scatterpolargl": [
           {
            "marker": {
             "colorbar": {
              "outlinewidth": 0,
              "ticks": ""
             }
            },
            "type": "scatterpolargl"
           }
          ],
          "scatterternary": [
           {
            "marker": {
             "colorbar": {
              "outlinewidth": 0,
              "ticks": ""
             }
            },
            "type": "scatterternary"
           }
          ],
          "surface": [
           {
            "colorbar": {
             "outlinewidth": 0,
             "ticks": ""
            },
            "colorscale": [
             [
              0.0,
              "#0d0887"
             ],
             [
              0.1111111111111111,
              "#46039f"
             ],
             [
              0.2222222222222222,
              "#7201a8"
             ],
             [
              0.3333333333333333,
              "#9c179e"
             ],
             [
              0.4444444444444444,
              "#bd3786"
             ],
             [
              0.5555555555555556,
              "#d8576b"
             ],
             [
              0.6666666666666666,
              "#ed7953"
             ],
             [
              0.7777777777777778,
              "#fb9f3a"
             ],
             [
              0.8888888888888888,
              "#fdca26"
             ],
             [
              1.0,
              "#f0f921"
             ]
            ],
            "type": "surface"
           }
          ],
          "table": [
           {
            "cells": {
             "fill": {
              "color": "#EBF0F8"
             },
             "line": {
              "color": "white"
             }
            },
            "header": {
             "fill": {
              "color": "#C8D4E3"
             },
             "line": {
              "color": "white"
             }
            },
            "type": "table"
           }
          ]
         },
         "layout": {
          "annotationdefaults": {
           "arrowcolor": "#2a3f5f",
           "arrowhead": 0,
           "arrowwidth": 1
          },
          "autotypenumbers": "strict",
          "coloraxis": {
           "colorbar": {
            "outlinewidth": 0,
            "ticks": ""
           }
          },
          "colorscale": {
           "diverging": [
            [
             0,
             "#8e0152"
            ],
            [
             0.1,
             "#c51b7d"
            ],
            [
             0.2,
             "#de77ae"
            ],
            [
             0.3,
             "#f1b6da"
            ],
            [
             0.4,
             "#fde0ef"
            ],
            [
             0.5,
             "#f7f7f7"
            ],
            [
             0.6,
             "#e6f5d0"
            ],
            [
             0.7,
             "#b8e186"
            ],
            [
             0.8,
             "#7fbc41"
            ],
            [
             0.9,
             "#4d9221"
            ],
            [
             1,
             "#276419"
            ]
           ],
           "sequential": [
            [
             0.0,
             "#0d0887"
            ],
            [
             0.1111111111111111,
             "#46039f"
            ],
            [
             0.2222222222222222,
             "#7201a8"
            ],
            [
             0.3333333333333333,
             "#9c179e"
            ],
            [
             0.4444444444444444,
             "#bd3786"
            ],
            [
             0.5555555555555556,
             "#d8576b"
            ],
            [
             0.6666666666666666,
             "#ed7953"
            ],
            [
             0.7777777777777778,
             "#fb9f3a"
            ],
            [
             0.8888888888888888,
             "#fdca26"
            ],
            [
             1.0,
             "#f0f921"
            ]
           ],
           "sequentialminus": [
            [
             0.0,
             "#0d0887"
            ],
            [
             0.1111111111111111,
             "#46039f"
            ],
            [
             0.2222222222222222,
             "#7201a8"
            ],
            [
             0.3333333333333333,
             "#9c179e"
            ],
            [
             0.4444444444444444,
             "#bd3786"
            ],
            [
             0.5555555555555556,
             "#d8576b"
            ],
            [
             0.6666666666666666,
             "#ed7953"
            ],
            [
             0.7777777777777778,
             "#fb9f3a"
            ],
            [
             0.8888888888888888,
             "#fdca26"
            ],
            [
             1.0,
             "#f0f921"
            ]
           ]
          },
          "colorway": [
           "#636efa",
           "#EF553B",
           "#00cc96",
           "#ab63fa",
           "#FFA15A",
           "#19d3f3",
           "#FF6692",
           "#B6E880",
           "#FF97FF",
           "#FECB52"
          ],
          "font": {
           "color": "#2a3f5f"
          },
          "geo": {
           "bgcolor": "white",
           "lakecolor": "white",
           "landcolor": "#E5ECF6",
           "showlakes": true,
           "showland": true,
           "subunitcolor": "white"
          },
          "hoverlabel": {
           "align": "left"
          },
          "hovermode": "closest",
          "mapbox": {
           "style": "light"
          },
          "paper_bgcolor": "white",
          "plot_bgcolor": "#E5ECF6",
          "polar": {
           "angularaxis": {
            "gridcolor": "white",
            "linecolor": "white",
            "ticks": ""
           },
           "bgcolor": "#E5ECF6",
           "radialaxis": {
            "gridcolor": "white",
            "linecolor": "white",
            "ticks": ""
           }
          },
          "scene": {
           "xaxis": {
            "backgroundcolor": "#E5ECF6",
            "gridcolor": "white",
            "gridwidth": 2,
            "linecolor": "white",
            "showbackground": true,
            "ticks": "",
            "zerolinecolor": "white"
           },
           "yaxis": {
            "backgroundcolor": "#E5ECF6",
            "gridcolor": "white",
            "gridwidth": 2,
            "linecolor": "white",
            "showbackground": true,
            "ticks": "",
            "zerolinecolor": "white"
           },
           "zaxis": {
            "backgroundcolor": "#E5ECF6",
            "gridcolor": "white",
            "gridwidth": 2,
            "linecolor": "white",
            "showbackground": true,
            "ticks": "",
            "zerolinecolor": "white"
           }
          },
          "shapedefaults": {
           "line": {
            "color": "#2a3f5f"
           }
          },
          "ternary": {
           "aaxis": {
            "gridcolor": "white",
            "linecolor": "white",
            "ticks": ""
           },
           "baxis": {
            "gridcolor": "white",
            "linecolor": "white",
            "ticks": ""
           },
           "bgcolor": "#E5ECF6",
           "caxis": {
            "gridcolor": "white",
            "linecolor": "white",
            "ticks": ""
           }
          },
          "title": {
           "x": 0.05
          },
          "xaxis": {
           "automargin": true,
           "gridcolor": "white",
           "linecolor": "white",
           "ticks": "",
           "title": {
            "standoff": 15
           },
           "zerolinecolor": "white",
           "zerolinewidth": 2
          },
          "yaxis": {
           "automargin": true,
           "gridcolor": "white",
           "linecolor": "white",
           "ticks": "",
           "title": {
            "standoff": 15
           },
           "zerolinecolor": "white",
           "zerolinewidth": 2
          }
         }
        },
        "title": {
         "text": "Side By Side Subplots"
        },
        "width": 800,
        "xaxis": {
         "anchor": "y",
         "domain": [
          0.0,
          0.45
         ]
        },
        "yaxis": {
         "anchor": "x",
         "domain": [
          0.0,
          1.0
         ]
        }
       },
       "_model_module": "jupyterlab-plotly",
       "_model_module_version": "^5.17.0",
       "_model_name": "FigureModel",
       "_py2js_addTraces": {},
       "_py2js_animate": {},
       "_py2js_deleteTraces": {},
       "_py2js_moveTraces": {},
       "_py2js_relayout": {},
       "_py2js_removeLayoutProps": {},
       "_py2js_removeTraceProps": {},
       "_py2js_restyle": {},
       "_py2js_update": {},
       "_view_count": 0,
       "_view_module": "jupyterlab-plotly",
       "_view_module_version": "^5.17.0",
       "_view_name": "FigureView",
       "tabbable": null,
       "tooltip": null
      }
     }
    },
    "version_major": 2,
    "version_minor": 0
   }
  }
 },
 "nbformat": 4,
 "nbformat_minor": 2
}