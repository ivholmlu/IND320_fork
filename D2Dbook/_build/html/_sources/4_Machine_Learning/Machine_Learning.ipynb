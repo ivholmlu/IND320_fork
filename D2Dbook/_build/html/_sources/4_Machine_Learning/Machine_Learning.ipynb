{
 "cells": [
  {
   "cell_type": "markdown",
   "metadata": {},
   "source": [
    "# TBA"
   ]
  },
  {
   "cell_type": "markdown",
   "metadata": {},
   "source": [
    "## Resources\n",
    "- [An Introduction to Statistical Learning - with Applications in Python](https://www.statlearning.com/)  \n",
    "  [[Gareth et al. 2023](https://doi.org/10.1007/978-3-031-38747-0)]"
   ]
  }
 ],
 "metadata": {
  "language_info": {
   "name": "python"
  },
  "orig_nbformat": 4
 },
 "nbformat": 4,
 "nbformat_minor": 2
}
