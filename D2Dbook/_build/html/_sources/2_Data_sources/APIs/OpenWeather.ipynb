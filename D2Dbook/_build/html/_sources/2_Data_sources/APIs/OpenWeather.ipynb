{
 "cells": [
  {
   "attachments": {},
   "cell_type": "markdown",
   "metadata": {},
   "source": [
    "# Demonstration of API using OpenWeather.org\n",
    "This demonstration is heavily inspired by [NeuralNine's video](https://www.youtube.com/watch?v=9P5MY_2i7K8).  \n",
    "The VS Code extensino _JSON viewer_ is recommended for viewing downloaded JSON content."
   ]
  },
  {
   "cell_type": "code",
   "execution_count": 1,
   "metadata": {},
   "outputs": [],
   "source": [
    "# Imports\n",
    "import datetime as dt\n",
    "import requests\n",
    "import json"
   ]
  },
  {
   "attachments": {},
   "cell_type": "markdown",
   "metadata": {},
   "source": [
    "## Common definitions to use for all requests\n",
    "### Current weather"
   ]
  },
  {
   "cell_type": "code",
   "execution_count": 2,
   "metadata": {},
   "outputs": [],
   "source": [
    "BASE_URL = \"http://api.openweathermap.org/data/2.5/weather?\"\n",
    "API_KEY = open('../../../No_sync/api_key_OpenWeather','r').read()\n",
    "CITY = \"Ski\"\n",
    "\n",
    "url = BASE_URL + \"q=\" + CITY + \"&appid=\" + API_KEY"
   ]
  },
  {
   "attachments": {},
   "cell_type": "markdown",
   "metadata": {},
   "source": [
    "## Request current weather in chosen city"
   ]
  },
  {
   "cell_type": "code",
   "execution_count": 3,
   "metadata": {},
   "outputs": [],
   "source": [
    "response = requests.get(url).json()\n",
    "# print(response)"
   ]
  },
  {
   "cell_type": "code",
   "execution_count": 4,
   "metadata": {},
   "outputs": [],
   "source": [
    "# Write JSON to file for viewing\n",
    "with open('downloads/weather.json', 'w') as f:\n",
    "    json.dump(response, f, indent=4)"
   ]
  },
  {
   "attachments": {},
   "cell_type": "markdown",
   "metadata": {},
   "source": [
    "## Conversion functions"
   ]
  },
  {
   "cell_type": "code",
   "execution_count": 5,
   "metadata": {},
   "outputs": [],
   "source": [
    "# Kelvin to Celsius\n",
    "def kelvin_to_celsius(temp):\n",
    "    return temp - 273.15\n",
    "\n",
    "# Meters per second to knots\n",
    "def mps_to_knots(speed):\n",
    "    return speed * 1.943844"
   ]
  },
  {
   "attachments": {},
   "cell_type": "markdown",
   "metadata": {},
   "source": [
    "## Print some weather properties"
   ]
  },
  {
   "cell_type": "code",
   "execution_count": 6,
   "metadata": {},
   "outputs": [
    {
     "name": "stdout",
     "output_type": "stream",
     "text": [
      "The current temperature in Ski is 23.33°C\n"
     ]
    }
   ],
   "source": [
    "# Current temperature\n",
    "temp_kelvin = response['main']['temp']\n",
    "temp_celsius = kelvin_to_celsius(temp_kelvin)\n",
    "print(f\"The current temperature in {CITY} is {temp_celsius:.2f}°C\")"
   ]
  },
  {
   "cell_type": "code",
   "execution_count": 7,
   "metadata": {},
   "outputs": [
    {
     "name": "stdout",
     "output_type": "stream",
     "text": [
      "Sunrise today is at 06:18 and sunset is at 20:13\n"
     ]
    }
   ],
   "source": [
    "# Sunrise and sunset today in local time\n",
    "sunrise = dt.datetime.fromtimestamp(response['sys']['sunrise'])\n",
    "sunset = dt.datetime.fromtimestamp(response['sys']['sunset'])\n",
    "print(f\"Sunrise today is at {sunrise:%H:%M} and sunset is at {sunset:%H:%M}\")"
   ]
  },
  {
   "attachments": {},
   "cell_type": "markdown",
   "metadata": {},
   "source": [
    "## Common definitions to use for all requests\n",
    "### Forecasted weather"
   ]
  },
  {
   "cell_type": "code",
   "execution_count": 8,
   "metadata": {},
   "outputs": [],
   "source": [
    "BASE_URL = \"http://api.openweathermap.org/data/2.5/forecast?\"\n",
    "CITY = \"Ski\"\n",
    "\n",
    "urlF = BASE_URL + \"q=\" + CITY + \"&appid=\" + API_KEY"
   ]
  },
  {
   "attachments": {},
   "cell_type": "markdown",
   "metadata": {},
   "source": [
    "## Request current weather in chosen city"
   ]
  },
  {
   "cell_type": "code",
   "execution_count": 9,
   "metadata": {},
   "outputs": [
    {
     "name": "stdout",
     "output_type": "stream",
     "text": [
      "{'cod': '200', 'message': 0, 'cnt': 40, 'list': [{'dt': 1693828800, 'main': {'temp': 296.77, 'feels_like': 296.75, 'temp_min': 296.03, 'temp_max': 296.77, 'pressure': 1018, 'sea_level': 1018, 'grnd_level': 1002, 'humidity': 60, 'temp_kf': 0.74}, 'weather': [{'id': 801, 'main': 'Clouds', 'description': 'few clouds', 'icon': '02d'}], 'clouds': {'all': 19}, 'wind': {'speed': 3.57, 'deg': 210, 'gust': 5.11}, 'visibility': 10000, 'pop': 0, 'sys': {'pod': 'd'}, 'dt_txt': '2023-09-04 12:00:00'}, {'dt': 1693839600, 'main': {'temp': 296.29, 'feels_like': 296.25, 'temp_min': 295.34, 'temp_max': 296.29, 'pressure': 1017, 'sea_level': 1017, 'grnd_level': 1000, 'humidity': 61, 'temp_kf': 0.95}, 'weather': [{'id': 801, 'main': 'Clouds', 'description': 'few clouds', 'icon': '02d'}], 'clouds': {'all': 13}, 'wind': {'speed': 4.24, 'deg': 183, 'gust': 7.36}, 'visibility': 10000, 'pop': 0, 'sys': {'pod': 'd'}, 'dt_txt': '2023-09-04 15:00:00'}, {'dt': 1693850400, 'main': {'temp': 292.14, 'feels_like': 292.16, 'temp_min': 289.83, 'temp_max': 292.14, 'pressure': 1017, 'sea_level': 1017, 'grnd_level': 1000, 'humidity': 79, 'temp_kf': 2.31}, 'weather': [{'id': 800, 'main': 'Clear', 'description': 'clear sky', 'icon': '01d'}], 'clouds': {'all': 8}, 'wind': {'speed': 2.4, 'deg': 165, 'gust': 5.39}, 'visibility': 10000, 'pop': 0, 'sys': {'pod': 'd'}, 'dt_txt': '2023-09-04 18:00:00'}, {'dt': 1693861200, 'main': {'temp': 288.33, 'feels_like': 288.23, 'temp_min': 288.33, 'temp_max': 288.33, 'pressure': 1016, 'sea_level': 1016, 'grnd_level': 1000, 'humidity': 89, 'temp_kf': 0}, 'weather': [{'id': 800, 'main': 'Clear', 'description': 'clear sky', 'icon': '01n'}], 'clouds': {'all': 10}, 'wind': {'speed': 2.38, 'deg': 175, 'gust': 5.2}, 'visibility': 10000, 'pop': 0, 'sys': {'pod': 'n'}, 'dt_txt': '2023-09-04 21:00:00'}, {'dt': 1693872000, 'main': {'temp': 286.64, 'feels_like': 286.53, 'temp_min': 286.64, 'temp_max': 286.64, 'pressure': 1016, 'sea_level': 1016, 'grnd_level': 999, 'humidity': 95, 'temp_kf': 0}, 'weather': [{'id': 801, 'main': 'Clouds', 'description': 'few clouds', 'icon': '02n'}], 'clouds': {'all': 16}, 'wind': {'speed': 1.49, 'deg': 169, 'gust': 1.88}, 'visibility': 10000, 'pop': 0, 'sys': {'pod': 'n'}, 'dt_txt': '2023-09-05 00:00:00'}, {'dt': 1693882800, 'main': {'temp': 286.03, 'feels_like': 285.8, 'temp_min': 286.03, 'temp_max': 286.03, 'pressure': 1015, 'sea_level': 1015, 'grnd_level': 998, 'humidity': 93, 'temp_kf': 0}, 'weather': [{'id': 804, 'main': 'Clouds', 'description': 'overcast clouds', 'icon': '04n'}], 'clouds': {'all': 98}, 'wind': {'speed': 0.74, 'deg': 175, 'gust': 0.81}, 'visibility': 10000, 'pop': 0, 'sys': {'pod': 'n'}, 'dt_txt': '2023-09-05 03:00:00'}, {'dt': 1693893600, 'main': {'temp': 287.95, 'feels_like': 287.63, 'temp_min': 287.95, 'temp_max': 287.95, 'pressure': 1015, 'sea_level': 1015, 'grnd_level': 998, 'humidity': 82, 'temp_kf': 0}, 'weather': [{'id': 804, 'main': 'Clouds', 'description': 'overcast clouds', 'icon': '04d'}], 'clouds': {'all': 85}, 'wind': {'speed': 1.48, 'deg': 180, 'gust': 2.54}, 'visibility': 10000, 'pop': 0, 'sys': {'pod': 'd'}, 'dt_txt': '2023-09-05 06:00:00'}, {'dt': 1693904400, 'main': {'temp': 294.31, 'feels_like': 293.94, 'temp_min': 294.31, 'temp_max': 294.31, 'pressure': 1015, 'sea_level': 1015, 'grnd_level': 999, 'humidity': 56, 'temp_kf': 0}, 'weather': [{'id': 800, 'main': 'Clear', 'description': 'clear sky', 'icon': '01d'}], 'clouds': {'all': 2}, 'wind': {'speed': 2.08, 'deg': 249, 'gust': 4.18}, 'visibility': 10000, 'pop': 0, 'sys': {'pod': 'd'}, 'dt_txt': '2023-09-05 09:00:00'}, {'dt': 1693915200, 'main': {'temp': 297.39, 'feels_like': 297.07, 'temp_min': 297.39, 'temp_max': 297.39, 'pressure': 1014, 'sea_level': 1014, 'grnd_level': 998, 'humidity': 46, 'temp_kf': 0}, 'weather': [{'id': 800, 'main': 'Clear', 'description': 'clear sky', 'icon': '01d'}], 'clouds': {'all': 1}, 'wind': {'speed': 3.46, 'deg': 254, 'gust': 7.41}, 'visibility': 10000, 'pop': 0, 'sys': {'pod': 'd'}, 'dt_txt': '2023-09-05 12:00:00'}, {'dt': 1693926000, 'main': {'temp': 296.53, 'feels_like': 296.07, 'temp_min': 296.53, 'temp_max': 296.53, 'pressure': 1014, 'sea_level': 1014, 'grnd_level': 998, 'humidity': 44, 'temp_kf': 0}, 'weather': [{'id': 800, 'main': 'Clear', 'description': 'clear sky', 'icon': '01d'}], 'clouds': {'all': 0}, 'wind': {'speed': 3.76, 'deg': 302, 'gust': 6.46}, 'visibility': 10000, 'pop': 0, 'sys': {'pod': 'd'}, 'dt_txt': '2023-09-05 15:00:00'}, {'dt': 1693936800, 'main': {'temp': 290, 'feels_like': 289.31, 'temp_min': 290, 'temp_max': 290, 'pressure': 1016, 'sea_level': 1016, 'grnd_level': 1000, 'humidity': 60, 'temp_kf': 0}, 'weather': [{'id': 800, 'main': 'Clear', 'description': 'clear sky', 'icon': '01d'}], 'clouds': {'all': 0}, 'wind': {'speed': 1.36, 'deg': 325, 'gust': 1.4}, 'visibility': 10000, 'pop': 0, 'sys': {'pod': 'd'}, 'dt_txt': '2023-09-05 18:00:00'}, {'dt': 1693947600, 'main': {'temp': 287.71, 'feels_like': 287.31, 'temp_min': 287.71, 'temp_max': 287.71, 'pressure': 1020, 'sea_level': 1020, 'grnd_level': 1003, 'humidity': 80, 'temp_kf': 0}, 'weather': [{'id': 800, 'main': 'Clear', 'description': 'clear sky', 'icon': '01n'}], 'clouds': {'all': 0}, 'wind': {'speed': 4.09, 'deg': 56, 'gust': 10.83}, 'visibility': 10000, 'pop': 0, 'sys': {'pod': 'n'}, 'dt_txt': '2023-09-05 21:00:00'}, {'dt': 1693958400, 'main': {'temp': 285.75, 'feels_like': 285.26, 'temp_min': 285.75, 'temp_max': 285.75, 'pressure': 1023, 'sea_level': 1023, 'grnd_level': 1006, 'humidity': 84, 'temp_kf': 0}, 'weather': [{'id': 800, 'main': 'Clear', 'description': 'clear sky', 'icon': '01n'}], 'clouds': {'all': 2}, 'wind': {'speed': 3.45, 'deg': 39, 'gust': 9.02}, 'visibility': 10000, 'pop': 0, 'sys': {'pod': 'n'}, 'dt_txt': '2023-09-06 00:00:00'}, {'dt': 1693969200, 'main': {'temp': 283, 'feels_like': 281.87, 'temp_min': 283, 'temp_max': 283, 'pressure': 1024, 'sea_level': 1024, 'grnd_level': 1007, 'humidity': 82, 'temp_kf': 0}, 'weather': [{'id': 800, 'main': 'Clear', 'description': 'clear sky', 'icon': '01n'}], 'clouds': {'all': 2}, 'wind': {'speed': 2.39, 'deg': 22, 'gust': 6.6}, 'visibility': 10000, 'pop': 0, 'sys': {'pod': 'n'}, 'dt_txt': '2023-09-06 03:00:00'}, {'dt': 1693980000, 'main': {'temp': 284.05, 'feels_like': 283.13, 'temp_min': 284.05, 'temp_max': 284.05, 'pressure': 1026, 'sea_level': 1026, 'grnd_level': 1009, 'humidity': 74, 'temp_kf': 0}, 'weather': [{'id': 801, 'main': 'Clouds', 'description': 'few clouds', 'icon': '02d'}], 'clouds': {'all': 14}, 'wind': {'speed': 1.75, 'deg': 31, 'gust': 3.47}, 'visibility': 10000, 'pop': 0, 'sys': {'pod': 'd'}, 'dt_txt': '2023-09-06 06:00:00'}, {'dt': 1693990800, 'main': {'temp': 286.95, 'feels_like': 286.11, 'temp_min': 286.95, 'temp_max': 286.95, 'pressure': 1026, 'sea_level': 1026, 'grnd_level': 1009, 'humidity': 66, 'temp_kf': 0}, 'weather': [{'id': 804, 'main': 'Clouds', 'description': 'overcast clouds', 'icon': '04d'}], 'clouds': {'all': 97}, 'wind': {'speed': 1.38, 'deg': 65, 'gust': 2.56}, 'visibility': 10000, 'pop': 0, 'sys': {'pod': 'd'}, 'dt_txt': '2023-09-06 09:00:00'}, {'dt': 1694001600, 'main': {'temp': 290.18, 'feels_like': 289.53, 'temp_min': 290.18, 'temp_max': 290.18, 'pressure': 1026, 'sea_level': 1026, 'grnd_level': 1010, 'humidity': 61, 'temp_kf': 0}, 'weather': [{'id': 804, 'main': 'Clouds', 'description': 'overcast clouds', 'icon': '04d'}], 'clouds': {'all': 98}, 'wind': {'speed': 0.28, 'deg': 157, 'gust': 1.45}, 'visibility': 10000, 'pop': 0, 'sys': {'pod': 'd'}, 'dt_txt': '2023-09-06 12:00:00'}, {'dt': 1694012400, 'main': {'temp': 291.73, 'feels_like': 291.24, 'temp_min': 291.73, 'temp_max': 291.73, 'pressure': 1025, 'sea_level': 1025, 'grnd_level': 1008, 'humidity': 61, 'temp_kf': 0}, 'weather': [{'id': 803, 'main': 'Clouds', 'description': 'broken clouds', 'icon': '04d'}], 'clouds': {'all': 82}, 'wind': {'speed': 1.01, 'deg': 189, 'gust': 1.73}, 'visibility': 10000, 'pop': 0, 'sys': {'pod': 'd'}, 'dt_txt': '2023-09-06 15:00:00'}, {'dt': 1694023200, 'main': {'temp': 287.22, 'feels_like': 286.9, 'temp_min': 287.22, 'temp_max': 287.22, 'pressure': 1025, 'sea_level': 1025, 'grnd_level': 1009, 'humidity': 85, 'temp_kf': 0}, 'weather': [{'id': 803, 'main': 'Clouds', 'description': 'broken clouds', 'icon': '04d'}], 'clouds': {'all': 78}, 'wind': {'speed': 0.32, 'deg': 202, 'gust': 0.51}, 'visibility': 10000, 'pop': 0, 'sys': {'pod': 'd'}, 'dt_txt': '2023-09-06 18:00:00'}, {'dt': 1694034000, 'main': {'temp': 285.57, 'feels_like': 285.32, 'temp_min': 285.57, 'temp_max': 285.57, 'pressure': 1026, 'sea_level': 1026, 'grnd_level': 1009, 'humidity': 94, 'temp_kf': 0}, 'weather': [{'id': 804, 'main': 'Clouds', 'description': 'overcast clouds', 'icon': '04n'}], 'clouds': {'all': 95}, 'wind': {'speed': 0.59, 'deg': 85, 'gust': 0.63}, 'visibility': 10000, 'pop': 0, 'sys': {'pod': 'n'}, 'dt_txt': '2023-09-06 21:00:00'}, {'dt': 1694044800, 'main': {'temp': 284.83, 'feels_like': 284.56, 'temp_min': 284.83, 'temp_max': 284.83, 'pressure': 1026, 'sea_level': 1026, 'grnd_level': 1009, 'humidity': 96, 'temp_kf': 0}, 'weather': [{'id': 803, 'main': 'Clouds', 'description': 'broken clouds', 'icon': '04n'}], 'clouds': {'all': 82}, 'wind': {'speed': 0.55, 'deg': 102, 'gust': 0.57}, 'visibility': 10000, 'pop': 0, 'sys': {'pod': 'n'}, 'dt_txt': '2023-09-07 00:00:00'}, {'dt': 1694055600, 'main': {'temp': 284.09, 'feels_like': 283.77, 'temp_min': 284.09, 'temp_max': 284.09, 'pressure': 1026, 'sea_level': 1026, 'grnd_level': 1008, 'humidity': 97, 'temp_kf': 0}, 'weather': [{'id': 803, 'main': 'Clouds', 'description': 'broken clouds', 'icon': '04n'}], 'clouds': {'all': 51}, 'wind': {'speed': 0.65, 'deg': 157, 'gust': 0.7}, 'visibility': 10000, 'pop': 0, 'sys': {'pod': 'n'}, 'dt_txt': '2023-09-07 03:00:00'}, {'dt': 1694066400, 'main': {'temp': 285.55, 'feels_like': 285.33, 'temp_min': 285.55, 'temp_max': 285.55, 'pressure': 1026, 'sea_level': 1026, 'grnd_level': 1009, 'humidity': 95, 'temp_kf': 0}, 'weather': [{'id': 803, 'main': 'Clouds', 'description': 'broken clouds', 'icon': '04d'}], 'clouds': {'all': 71}, 'wind': {'speed': 0.88, 'deg': 160, 'gust': 2.01}, 'visibility': 10000, 'pop': 0, 'sys': {'pod': 'd'}, 'dt_txt': '2023-09-07 06:00:00'}, {'dt': 1694077200, 'main': {'temp': 289.19, 'feels_like': 289.02, 'temp_min': 289.19, 'temp_max': 289.19, 'pressure': 1025, 'sea_level': 1025, 'grnd_level': 1008, 'humidity': 83, 'temp_kf': 0}, 'weather': [{'id': 804, 'main': 'Clouds', 'description': 'overcast clouds', 'icon': '04d'}], 'clouds': {'all': 100}, 'wind': {'speed': 2.95, 'deg': 193, 'gust': 5.97}, 'visibility': 10000, 'pop': 0, 'sys': {'pod': 'd'}, 'dt_txt': '2023-09-07 09:00:00'}, {'dt': 1694088000, 'main': {'temp': 292.14, 'feels_like': 291.84, 'temp_min': 292.14, 'temp_max': 292.14, 'pressure': 1024, 'sea_level': 1024, 'grnd_level': 1008, 'humidity': 67, 'temp_kf': 0}, 'weather': [{'id': 804, 'main': 'Clouds', 'description': 'overcast clouds', 'icon': '04d'}], 'clouds': {'all': 100}, 'wind': {'speed': 4.15, 'deg': 193, 'gust': 6.71}, 'visibility': 10000, 'pop': 0, 'sys': {'pod': 'd'}, 'dt_txt': '2023-09-07 12:00:00'}, {'dt': 1694098800, 'main': {'temp': 291.62, 'feels_like': 291.45, 'temp_min': 291.62, 'temp_max': 291.62, 'pressure': 1023, 'sea_level': 1023, 'grnd_level': 1006, 'humidity': 74, 'temp_kf': 0}, 'weather': [{'id': 804, 'main': 'Clouds', 'description': 'overcast clouds', 'icon': '04d'}], 'clouds': {'all': 93}, 'wind': {'speed': 4.34, 'deg': 189, 'gust': 7.96}, 'visibility': 10000, 'pop': 0, 'sys': {'pod': 'd'}, 'dt_txt': '2023-09-07 15:00:00'}, {'dt': 1694109600, 'main': {'temp': 287.93, 'feels_like': 287.92, 'temp_min': 287.93, 'temp_max': 287.93, 'pressure': 1022, 'sea_level': 1022, 'grnd_level': 1005, 'humidity': 94, 'temp_kf': 0}, 'weather': [{'id': 803, 'main': 'Clouds', 'description': 'broken clouds', 'icon': '04d'}], 'clouds': {'all': 72}, 'wind': {'speed': 3.32, 'deg': 178, 'gust': 9.77}, 'visibility': 10000, 'pop': 0, 'sys': {'pod': 'd'}, 'dt_txt': '2023-09-07 18:00:00'}, {'dt': 1694120400, 'main': {'temp': 287.04, 'feels_like': 287.04, 'temp_min': 287.04, 'temp_max': 287.04, 'pressure': 1022, 'sea_level': 1022, 'grnd_level': 1005, 'humidity': 98, 'temp_kf': 0}, 'weather': [{'id': 804, 'main': 'Clouds', 'description': 'overcast clouds', 'icon': '04n'}], 'clouds': {'all': 93}, 'wind': {'speed': 2.64, 'deg': 178, 'gust': 8.78}, 'visibility': 10000, 'pop': 0, 'sys': {'pod': 'n'}, 'dt_txt': '2023-09-07 21:00:00'}, {'dt': 1694131200, 'main': {'temp': 286.99, 'feels_like': 287.01, 'temp_min': 286.99, 'temp_max': 286.99, 'pressure': 1020, 'sea_level': 1020, 'grnd_level': 1004, 'humidity': 99, 'temp_kf': 0}, 'weather': [{'id': 804, 'main': 'Clouds', 'description': 'overcast clouds', 'icon': '04n'}], 'clouds': {'all': 97}, 'wind': {'speed': 2.09, 'deg': 186, 'gust': 6.3}, 'visibility': 10000, 'pop': 0, 'sys': {'pod': 'n'}, 'dt_txt': '2023-09-08 00:00:00'}, {'dt': 1694142000, 'main': {'temp': 286.9, 'feels_like': 286.89, 'temp_min': 286.9, 'temp_max': 286.9, 'pressure': 1019, 'sea_level': 1019, 'grnd_level': 1002, 'humidity': 98, 'temp_kf': 0}, 'weather': [{'id': 804, 'main': 'Clouds', 'description': 'overcast clouds', 'icon': '04n'}], 'clouds': {'all': 100}, 'wind': {'speed': 1.92, 'deg': 192, 'gust': 5.88}, 'visibility': 10000, 'pop': 0, 'sys': {'pod': 'n'}, 'dt_txt': '2023-09-08 03:00:00'}, {'dt': 1694152800, 'main': {'temp': 288.17, 'feels_like': 288.23, 'temp_min': 288.17, 'temp_max': 288.17, 'pressure': 1018, 'sea_level': 1018, 'grnd_level': 1002, 'humidity': 96, 'temp_kf': 0}, 'weather': [{'id': 804, 'main': 'Clouds', 'description': 'overcast clouds', 'icon': '04d'}], 'clouds': {'all': 100}, 'wind': {'speed': 1.95, 'deg': 196, 'gust': 6.49}, 'visibility': 10000, 'pop': 0, 'sys': {'pod': 'd'}, 'dt_txt': '2023-09-08 06:00:00'}, {'dt': 1694163600, 'main': {'temp': 291.54, 'feels_like': 291.52, 'temp_min': 291.54, 'temp_max': 291.54, 'pressure': 1018, 'sea_level': 1018, 'grnd_level': 1001, 'humidity': 80, 'temp_kf': 0}, 'weather': [{'id': 804, 'main': 'Clouds', 'description': 'overcast clouds', 'icon': '04d'}], 'clouds': {'all': 100}, 'wind': {'speed': 3.11, 'deg': 197, 'gust': 7.04}, 'visibility': 10000, 'pop': 0, 'sys': {'pod': 'd'}, 'dt_txt': '2023-09-08 09:00:00'}, {'dt': 1694174400, 'main': {'temp': 293.79, 'feels_like': 293.71, 'temp_min': 293.79, 'temp_max': 293.79, 'pressure': 1017, 'sea_level': 1017, 'grnd_level': 1001, 'humidity': 69, 'temp_kf': 0}, 'weather': [{'id': 804, 'main': 'Clouds', 'description': 'overcast clouds', 'icon': '04d'}], 'clouds': {'all': 100}, 'wind': {'speed': 4.84, 'deg': 186, 'gust': 8.91}, 'visibility': 10000, 'pop': 0, 'sys': {'pod': 'd'}, 'dt_txt': '2023-09-08 12:00:00'}, {'dt': 1694185200, 'main': {'temp': 293, 'feels_like': 292.89, 'temp_min': 293, 'temp_max': 293, 'pressure': 1016, 'sea_level': 1016, 'grnd_level': 1000, 'humidity': 71, 'temp_kf': 0}, 'weather': [{'id': 800, 'main': 'Clear', 'description': 'clear sky', 'icon': '01d'}], 'clouds': {'all': 6}, 'wind': {'speed': 4.64, 'deg': 183, 'gust': 8.8}, 'visibility': 10000, 'pop': 0, 'sys': {'pod': 'd'}, 'dt_txt': '2023-09-08 15:00:00'}, {'dt': 1694196000, 'main': {'temp': 288.65, 'feels_like': 288.63, 'temp_min': 288.65, 'temp_max': 288.65, 'pressure': 1017, 'sea_level': 1017, 'grnd_level': 1000, 'humidity': 91, 'temp_kf': 0}, 'weather': [{'id': 800, 'main': 'Clear', 'description': 'clear sky', 'icon': '01d'}], 'clouds': {'all': 9}, 'wind': {'speed': 3.3, 'deg': 178, 'gust': 9.81}, 'visibility': 10000, 'pop': 0, 'sys': {'pod': 'd'}, 'dt_txt': '2023-09-08 18:00:00'}, {'dt': 1694206800, 'main': {'temp': 287.33, 'feels_like': 287.34, 'temp_min': 287.33, 'temp_max': 287.33, 'pressure': 1016, 'sea_level': 1016, 'grnd_level': 1000, 'humidity': 97, 'temp_kf': 0}, 'weather': [{'id': 801, 'main': 'Clouds', 'description': 'few clouds', 'icon': '02n'}], 'clouds': {'all': 22}, 'wind': {'speed': 2.09, 'deg': 175, 'gust': 6.08}, 'visibility': 10000, 'pop': 0, 'sys': {'pod': 'n'}, 'dt_txt': '2023-09-08 21:00:00'}, {'dt': 1694217600, 'main': {'temp': 286.41, 'feels_like': 286.35, 'temp_min': 286.41, 'temp_max': 286.41, 'pressure': 1016, 'sea_level': 1016, 'grnd_level': 1000, 'humidity': 98, 'temp_kf': 0}, 'weather': [{'id': 801, 'main': 'Clouds', 'description': 'few clouds', 'icon': '02n'}], 'clouds': {'all': 24}, 'wind': {'speed': 0.85, 'deg': 174, 'gust': 0.99}, 'visibility': 10000, 'pop': 0, 'sys': {'pod': 'n'}, 'dt_txt': '2023-09-09 00:00:00'}, {'dt': 1694228400, 'main': {'temp': 285.84, 'feels_like': 285.72, 'temp_min': 285.84, 'temp_max': 285.84, 'pressure': 1016, 'sea_level': 1016, 'grnd_level': 999, 'humidity': 98, 'temp_kf': 0}, 'weather': [{'id': 801, 'main': 'Clouds', 'description': 'few clouds', 'icon': '02n'}], 'clouds': {'all': 22}, 'wind': {'speed': 0.29, 'deg': 62, 'gust': 0.45}, 'visibility': 10000, 'pop': 0, 'sys': {'pod': 'n'}, 'dt_txt': '2023-09-09 03:00:00'}, {'dt': 1694239200, 'main': {'temp': 287.4, 'feels_like': 287.28, 'temp_min': 287.4, 'temp_max': 287.4, 'pressure': 1017, 'sea_level': 1017, 'grnd_level': 1000, 'humidity': 92, 'temp_kf': 0}, 'weather': [{'id': 801, 'main': 'Clouds', 'description': 'few clouds', 'icon': '02d'}], 'clouds': {'all': 13}, 'wind': {'speed': 0.73, 'deg': 20, 'gust': 0.91}, 'visibility': 10000, 'pop': 0, 'sys': {'pod': 'd'}, 'dt_txt': '2023-09-09 06:00:00'}, {'dt': 1694250000, 'main': {'temp': 293.63, 'feels_like': 293.43, 'temp_min': 293.63, 'temp_max': 293.63, 'pressure': 1017, 'sea_level': 1017, 'grnd_level': 1001, 'humidity': 65, 'temp_kf': 0}, 'weather': [{'id': 800, 'main': 'Clear', 'description': 'clear sky', 'icon': '01d'}], 'clouds': {'all': 0}, 'wind': {'speed': 0.57, 'deg': 7, 'gust': 0.82}, 'visibility': 10000, 'pop': 0, 'sys': {'pod': 'd'}, 'dt_txt': '2023-09-09 09:00:00'}], 'city': {'id': 3139081, 'name': 'Ski', 'coord': {'lat': 59.7195, 'lon': 10.8358}, 'country': 'NO', 'population': 12513, 'timezone': 7200, 'sunrise': 1693801109, 'sunset': 1693851219}}\n"
     ]
    }
   ],
   "source": [
    "responseF = requests.get(urlF).json()\n",
    "print(responseF)"
   ]
  },
  {
   "cell_type": "code",
   "execution_count": 10,
   "metadata": {},
   "outputs": [],
   "source": [
    "# Write JSON to file for viewing\n",
    "with open('downloads/forecast.json', 'w') as f:\n",
    "    json.dump(responseF, f, indent=4)"
   ]
  },
  {
   "attachments": {},
   "cell_type": "markdown",
   "metadata": {},
   "source": [
    "### When and what?\n",
    "Check contents and time stamps"
   ]
  },
  {
   "cell_type": "code",
   "execution_count": 11,
   "metadata": {},
   "outputs": [
    {
     "data": {
      "text/plain": [
       "dict_keys(['cod', 'message', 'cnt', 'list', 'city'])"
      ]
     },
     "execution_count": 11,
     "metadata": {},
     "output_type": "execute_result"
    }
   ],
   "source": [
    "# Content of responseF\n",
    "responseF.keys()"
   ]
  },
  {
   "cell_type": "code",
   "execution_count": 12,
   "metadata": {},
   "outputs": [
    {
     "name": "stdout",
     "output_type": "stream",
     "text": [
      "40\n"
     ]
    }
   ],
   "source": [
    "# Number of forecasts\n",
    "print(len(responseF[\"list\"]))"
   ]
  },
  {
   "cell_type": "code",
   "execution_count": 13,
   "metadata": {},
   "outputs": [
    {
     "name": "stdout",
     "output_type": "stream",
     "text": [
      "2023-09-04 12:00:00\n",
      "2023-09-04 15:00:00\n",
      "2023-09-04 18:00:00\n",
      "2023-09-04 21:00:00\n",
      "2023-09-05 00:00:00\n",
      "2023-09-05 03:00:00\n",
      "2023-09-05 06:00:00\n",
      "2023-09-05 09:00:00\n",
      "2023-09-05 12:00:00\n",
      "2023-09-05 15:00:00\n",
      "2023-09-05 18:00:00\n",
      "2023-09-05 21:00:00\n",
      "2023-09-06 00:00:00\n",
      "2023-09-06 03:00:00\n",
      "2023-09-06 06:00:00\n",
      "2023-09-06 09:00:00\n",
      "2023-09-06 12:00:00\n",
      "2023-09-06 15:00:00\n",
      "2023-09-06 18:00:00\n",
      "2023-09-06 21:00:00\n",
      "2023-09-07 00:00:00\n",
      "2023-09-07 03:00:00\n",
      "2023-09-07 06:00:00\n",
      "2023-09-07 09:00:00\n",
      "2023-09-07 12:00:00\n",
      "2023-09-07 15:00:00\n",
      "2023-09-07 18:00:00\n",
      "2023-09-07 21:00:00\n",
      "2023-09-08 00:00:00\n",
      "2023-09-08 03:00:00\n",
      "2023-09-08 06:00:00\n",
      "2023-09-08 09:00:00\n",
      "2023-09-08 12:00:00\n",
      "2023-09-08 15:00:00\n",
      "2023-09-08 18:00:00\n",
      "2023-09-08 21:00:00\n",
      "2023-09-09 00:00:00\n",
      "2023-09-09 03:00:00\n",
      "2023-09-09 06:00:00\n",
      "2023-09-09 09:00:00\n"
     ]
    }
   ],
   "source": [
    "# Print forecast times\n",
    "for forecast in responseF[\"list\"]:\n",
    "    print(forecast[\"dt_txt\"])"
   ]
  },
  {
   "attachments": {},
   "cell_type": "markdown",
   "metadata": {},
   "source": [
    "## Make plots of omnipresent measurements and events"
   ]
  },
  {
   "cell_type": "code",
   "execution_count": 14,
   "metadata": {},
   "outputs": [],
   "source": [
    "# Air pressure per period\n",
    "pressures = []\n",
    "timestamps = []\n",
    "for forecast in responseF[\"list\"]:\n",
    "    pressures.append(forecast[\"main\"][\"pressure\"])\n",
    "    timestamps.append(dt.datetime.fromtimestamp(forecast[\"dt\"]))"
   ]
  },
  {
   "cell_type": "code",
   "execution_count": 15,
   "metadata": {},
   "outputs": [
    {
     "data": {
      "image/png": "[encoded data removed]",
      "text/plain": [
       "<Figure size 640x480 with 1 Axes>"
      ]
     },
     "metadata": {},
     "output_type": "display_data"
    }
   ],
   "source": [
    "import matplotlib.pyplot as plt\n",
    "plt.bar(timestamps, pressures)\n",
    "plt.xticks(rotation=45)\n",
    "plt.ylim(950, 1050)\n",
    "plt.grid()\n",
    "plt.ylabel(\"Air pressure (hPa)\")\n",
    "plt.title(f\"Forecasted air pressure in {CITY}\")\n",
    "plt.show()"
   ]
  },
  {
   "cell_type": "code",
   "execution_count": 16,
   "metadata": {},
   "outputs": [],
   "source": [
    "rain = []\n",
    "snow = []\n",
    "for forecast in responseF[\"list\"]:\n",
    "    try: # Check if rain is present in forecast\n",
    "        rain.append(forecast[\"rain\"][\"3h\"])\n",
    "    except KeyError:\n",
    "        rain.append(0)\n",
    "    try: # Check if snow is present in forecast\n",
    "        snow.append(forecast[\"snow\"][\"3h\"])\n",
    "    except KeyError:\n",
    "        snow.append(0)"
   ]
  },
  {
   "cell_type": "code",
   "execution_count": 17,
   "metadata": {},
   "outputs": [
    {
     "data": {
      "image/png": "[encoded data removed]",
      "text/plain": [
       "<Figure size 640x480 with 1 Axes>"
      ]
     },
     "metadata": {},
     "output_type": "display_data"
    }
   ],
   "source": [
    "# Stacked bar chart with rain and snow\n",
    "plt.bar(timestamps, rain, label=\"Rain\")\n",
    "plt.bar(timestamps, snow, label=\"Snow\")\n",
    "plt.xticks(rotation=45)\n",
    "plt.grid()\n",
    "plt.ylabel(\"Precipitation (mm)\")\n",
    "plt.title(f\"Forecasted precipitation in {CITY}\")\n",
    "plt.legend()\n",
    "plt.show()\n"
   ]
  },
  {
   "cell_type": "markdown",
   "metadata": {},
   "source": [
    "## Resources\n",
    "- [NeuralNine's video](https://www.youtube.com/watch?v=9P5MY_2i7K8)"
   ]
  }
 ],
 "metadata": {
  "kernelspec": {
   "display_name": "tf_M1",
   "language": "python",
   "name": "python3"
  },
  "language_info": {
   "codemirror_mode": {
    "name": "ipython",
    "version": 3
   },
   "file_extension": ".py",
   "mimetype": "text/x-python",
   "name": "python",
   "nbconvert_exporter": "python",
   "pygments_lexer": "ipython3",
   "version": "3.10.6"
  },
  "orig_nbformat": 4
 },
 "nbformat": 4,
 "nbformat_minor": 2
}
