{
 "cells": [
  {
   "cell_type": "markdown",
   "metadata": {
    "slideshow": {
     "slide_type": "slide"
    }
   },
   "source": [
    "# Streaming data\n",
    "- Data that can be loaded chunk-wise (single or a few at the time).\n",
    "- Data flowing through a socket/pipe/streaming API/...\n",
    "- Typically requires:\n",
    "    - Checking if stream is active.\n",
    "    - A reactive reading mechanism or time delayed loop to check for updates.\n",
    "    - Error/exception checking/handling.\n",
    "    - A receiving enitity that can use the incomming data, e.g., printing to screen, updating graphics, updating a model, predicting some outcome/state/quantity, ..."
   ]
  },
  {
   "cell_type": "markdown",
   "metadata": {
    "slideshow": {
     "slide_type": "slide"
    }
   },
   "source": [
    "## Live reading of Twitch chat\n",
    "- Requires a free account on [Twitch](https://twitch.tv) and obtaining an [oauth autentication token](https://twitchapps.com/tmi/).\n",
    "- We will use River's [TwitchChatStream](https://riverml.xyz/0.18.0/api/stream/TwitchChatStream/) to handle the live streamed data."
   ]
  },
  {
   "cell_type": "code",
   "execution_count": 2,
   "metadata": {
    "slideshow": {
     "slide_type": "slide"
    }
   },
   "outputs": [
    {
     "name": "stdout",
     "output_type": "stream",
     "text": [
      "False\n"
     ]
    }
   ],
   "source": [
    "# Check if user is logged in (\"==\" active chat)\n",
    "import requests\n",
    "user = \"zackrawrr\" # Change this to the user you want to check\n",
    "response = requests.get(\"https://decapi.me/twitch/uptime/\"+user).text\n",
    "is_online = response != user+\" is offline\"\n",
    "print(is_online)"
   ]
  },
  {
   "cell_type": "code",
   "execution_count": 2,
   "metadata": {
    "slideshow": {
     "slide_type": "slide"
    }
   },
   "outputs": [],
   "source": [
    "# Connect to the Twitch chat using River\n",
    "from river import stream\n",
    "\n",
    "oauth = open('../../../No_sync/twitch_oauth','r').read()\n",
    "twitch_chat = stream.TwitchChatStream(\n",
    "    nickname=\"khliland\", # Exchange with your Twitch username\n",
    "    token=oauth,\n",
    "    channels=[user]\n",
    ")"
   ]
  },
  {
   "cell_type": "code",
   "execution_count": 5,
   "metadata": {
    "slideshow": {
     "slide_type": "slide"
    }
   },
   "outputs": [
    {
     "name": "stdout",
     "output_type": "stream",
     "text": [
      "{'dt': datetime.datetime(2023, 9, 14, 9, 31, 27, 987143), 'channel': 'zackrawrr', 'username': 'eggbread__', 'msg': 'gonna get more copycats'}\n",
      "{'dt': datetime.datetime(2023, 9, 14, 9, 31, 28, 982594), 'channel': 'zackrawrr', 'username': 'whalhard', 'msg': 'Like china?'}\n",
      "{'dt': datetime.datetime(2023, 9, 14, 9, 31, 32, 284304), 'channel': 'zackrawrr', 'username': 'itisacar', 'msg': \"there's always some asshole\"}\n",
      "{'dt': datetime.datetime(2023, 9, 14, 9, 31, 32, 475176), 'channel': 'zackrawrr', 'username': 'i3ioz609', 'msg': 'The Yakuza definitely will find him again'}\n",
      "{'dt': datetime.datetime(2023, 9, 14, 9, 31, 32, 659358), 'channel': 'zackrawrr', 'username': 'bbbbbbdddddd', 'msg': 'Quin?'}\n",
      "{'dt': datetime.datetime(2023, 9, 14, 9, 31, 32, 659358), 'channel': 'zackrawrr', 'username': 'ykikooo', 'msg': 'put him jail, give him a  bullshit reason only talk to him in japanese and keep him there xdd'}\n",
      "{'dt': datetime.datetime(2023, 9, 14, 9, 31, 33, 704868), 'channel': 'zackrawrr', 'username': 'bremsen22', 'msg': 'Logan Paul started this'}\n",
      "{'dt': datetime.datetime(2023, 9, 14, 9, 31, 34, 20619), 'channel': 'zackrawrr', 'username': 'oldseawave', 'msg': 'Thailand and Nepal huge Ws arresting these IRL streamers'}\n",
      "{'dt': datetime.datetime(2023, 9, 14, 9, 31, 34, 801756), 'channel': 'zackrawrr', 'username': 'wkmirai', 'msg': 'Copy cat gonna happen'}\n",
      "{'dt': datetime.datetime(2023, 9, 14, 9, 31, 36, 952902), 'channel': 'zackrawrr', 'username': 'fanceypants', 'msg': 'nah biden would just given them some X billion of dollars to free him'}\n",
      "{'dt': datetime.datetime(2023, 9, 14, 9, 31, 37, 498586), 'channel': 'zackrawrr', 'username': 'cpint', 'msg': \"this has been going on for ages, it's nothing new\"}\n",
      "{'dt': datetime.datetime(2023, 9, 14, 9, 31, 37, 690682), 'channel': 'zackrawrr', 'username': 'gussyrmb', 'msg': '@zackrawrr  people like that is why japan dislikes foreigners'}\n",
      "{'dt': datetime.datetime(2023, 9, 14, 9, 31, 38, 505712), 'channel': 'zackrawrr', 'username': 'cookiedropz', 'msg': 'Yakuza 100% will eventually get involved if they continue to disrespect the country'}\n",
      "{'dt': datetime.datetime(2023, 9, 14, 9, 31, 38, 689466), 'channel': 'zackrawrr', 'username': 'red_collective', 'msg': 'This shit creates copy cats'}\n",
      "{'dt': datetime.datetime(2023, 9, 14, 9, 31, 38, 689466), 'channel': 'zackrawrr', 'username': 'saithis', 'msg': 'Japan won’t waste time with jail. They’ll just ban his ass'}\n",
      "{'dt': datetime.datetime(2023, 9, 14, 9, 31, 38, 689466), 'channel': 'zackrawrr', 'username': 'oct_head', 'msg': 'Public execution'}\n",
      "{'dt': datetime.datetime(2023, 9, 14, 9, 31, 38, 689466), 'channel': 'zackrawrr', 'username': 'tubesday', 'msg': '@jamesaler u dont know shit'}\n",
      "{'dt': datetime.datetime(2023, 9, 14, 9, 31, 38, 689466), 'channel': 'zackrawrr', 'username': 'chomskysgaming', 'msg': '@Anethmuh self report ICANT'}\n",
      "{'dt': datetime.datetime(2023, 9, 14, 9, 31, 39, 822080), 'channel': 'zackrawrr', 'username': 'darksatelite', 'msg': 'social media/tiktok age is producting tons of these kinds of idiots'}\n",
      "{'dt': datetime.datetime(2023, 9, 14, 9, 31, 41, 654592), 'channel': 'zackrawrr', 'username': 'wayleran', 'msg': 'Not at all. They probably just unaware. This is a VERY niche/small issue for normal people to know or care about in Japan.'}\n",
      "{'dt': datetime.datetime(2023, 9, 14, 9, 31, 41, 838038), 'channel': 'zackrawrr', 'username': 'janman88', 'msg': '@navigational its a possibility at this point, this might end really bad'}\n",
      "{'dt': datetime.datetime(2023, 9, 14, 9, 31, 42, 816876), 'channel': 'zackrawrr', 'username': 'multiversalcopium', 'msg': '@afromatic480 Giga incel u mad bro BloodTrail'}\n",
      "{'dt': datetime.datetime(2023, 9, 14, 9, 31, 43, 199033), 'channel': 'zackrawrr', 'username': 'leather_demon', 'msg': 'Aussies KEK'}\n",
      "{'dt': datetime.datetime(2023, 9, 14, 9, 31, 44, 120444), 'channel': 'zackrawrr', 'username': 'general_tsuki', 'msg': 'japan is way to tolerant of a country and now people are using that to harass their culture and people to gain an audience on kick'}\n",
      "{'dt': datetime.datetime(2023, 9, 14, 9, 31, 44, 304380), 'channel': 'zackrawrr', 'username': 'narnar357', 'msg': 'Go back to your county lol wow'}\n",
      "{'dt': datetime.datetime(2023, 9, 14, 9, 31, 44, 488287), 'channel': 'zackrawrr', 'username': 'c9petajensen', 'msg': 'tiktok is full of ppl like this'}\n",
      "{'dt': datetime.datetime(2023, 9, 14, 9, 31, 44, 671589), 'channel': 'zackrawrr', 'username': 'shoujo_o', 'msg': \"He's like the dude on Piers Morgan\"}\n",
      "{'dt': datetime.datetime(2023, 9, 14, 9, 31, 45, 451958), 'channel': 'zackrawrr', 'username': 'dreamszer', 'msg': 'need laws against it'}\n",
      "{'dt': datetime.datetime(2023, 9, 14, 9, 31, 46, 168462), 'channel': 'zackrawrr', 'username': 'sosorollout', 'msg': 'they still eat rats in australia'}\n",
      "{'dt': datetime.datetime(2023, 9, 14, 9, 31, 46, 352894), 'channel': 'zackrawrr', 'username': 'saboitik', 'msg': 'if he did this in some other place he would be place in a black plactic bag'}\n",
      "{'dt': datetime.datetime(2023, 9, 14, 9, 31, 47, 640207), 'channel': 'zackrawrr', 'username': 'whitemilk89', 'msg': 'NODDERS'}\n",
      "{'dt': datetime.datetime(2023, 9, 14, 9, 31, 48, 407094), 'channel': 'zackrawrr', 'username': 'berksgore', 'msg': '@FlobbitCreates that clown probably  going to be in jail before thinking about that'}\n",
      "{'dt': datetime.datetime(2023, 9, 14, 9, 31, 48, 631016), 'channel': 'zackrawrr', 'username': 'deuce_biggal0', 'msg': 'i think japan is very cautious with the US nowadays LuL'}\n",
      "{'dt': datetime.datetime(2023, 9, 14, 9, 31, 49, 547979), 'channel': 'zackrawrr', 'username': 'inbathroomatwork', 'msg': 'Rage bait is real'}\n",
      "{'dt': datetime.datetime(2023, 9, 14, 9, 31, 51, 811121), 'channel': 'zackrawrr', 'username': 'whinetaster', 'msg': 'Japan knows to be humble, but that don\\'t mean they\\'ll cater and care about accepting \"diversity\", especially when they are praised for Xenophobia like Poland'}\n",
      "{'dt': datetime.datetime(2023, 9, 14, 9, 31, 52, 415039), 'channel': 'zackrawrr', 'username': 'felinestep', 'msg': \"there are laws against this, i'm surprised he wasn't busted till now\"}\n",
      "{'dt': datetime.datetime(2023, 9, 14, 9, 31, 53, 132060), 'channel': 'zackrawrr', 'username': 'moarpyions', 'msg': 'people like this might take visa free entry off the list'}\n",
      "{'dt': datetime.datetime(2023, 9, 14, 9, 31, 55, 398590), 'channel': 'zackrawrr', 'username': 'superjumpymon', 'msg': 'lol the way the internet is... lol the internet is designed. its the way it is for a reason not because thats tjust the way it is'}\n",
      "{'dt': datetime.datetime(2023, 9, 14, 9, 31, 56, 204011), 'channel': 'zackrawrr', 'username': 'spaceboundrhino', 'msg': 'Australian guy went into a woman’s in train car'}\n",
      "{'dt': datetime.datetime(2023, 9, 14, 9, 31, 58, 385105), 'channel': 'zackrawrr', 'username': 'zackrawrr', 'msg': 'https://www.youtube.com/watch?v=Pn16KLBRJuU'}\n",
      "{'dt': datetime.datetime(2023, 9, 14, 9, 31, 58, 696667), 'channel': 'zackrawrr', 'username': 'zackrawrr', 'msg': 'https://www.youtube.com/watch?v=Pn16KLBRJuU'}\n",
      "{'dt': datetime.datetime(2023, 9, 14, 9, 31, 58, 979884), 'channel': 'zackrawrr', 'username': 'zackrawrr', 'msg': 'https://www.youtube.com/watch?v=Pn16KLBRJuU'}\n",
      "{'dt': datetime.datetime(2023, 9, 14, 9, 31, 59, 213947), 'channel': 'zackrawrr', 'username': 'zackrawrr', 'msg': 'https://www.youtube.com/watch?v=Pn16KLBRJuU'}\n",
      "{'dt': datetime.datetime(2023, 9, 14, 9, 31, 59, 582942), 'channel': 'zackrawrr', 'username': 'zackrawrr', 'msg': 'https://www.youtube.com/watch?v=Pn16KLBRJuU'}\n",
      "{'dt': datetime.datetime(2023, 9, 14, 9, 31, 59, 766633), 'channel': 'zackrawrr', 'username': 'bruvundus', 'msg': 'IRL ban'}\n",
      "{'dt': datetime.datetime(2023, 9, 14, 9, 31, 59, 766633), 'channel': 'zackrawrr', 'username': 'zackrawrr', 'msg': 'https://www.youtube.com/watch?v=Pn16KLBRJuU'}\n",
      "{'dt': datetime.datetime(2023, 9, 14, 9, 31, 59, 950035), 'channel': 'zackrawrr', 'username': 'shikiryougi2214', 'msg': '@i3ioz609 the yakuza is on his ass for sure. He’s gonna be sleeping with one eye open'}\n",
      "{'dt': datetime.datetime(2023, 9, 14, 9, 32, 0, 133480), 'channel': 'zackrawrr', 'username': 'zackrawrr', 'msg': 'https://www.youtube.com/watch?v=Pn16KLBRJuU'}\n",
      "{'dt': datetime.datetime(2023, 9, 14, 9, 32, 0, 316758), 'channel': 'zackrawrr', 'username': 'zackrawrr', 'msg': 'https://www.youtube.com/watch?v=Pn16KLBRJuU'}\n"
     ]
    },
    {
     "name": "stdout",
     "output_type": "stream",
     "text": [
      "{'dt': datetime.datetime(2023, 9, 14, 9, 32, 0, 607254), 'channel': 'zackrawrr', 'username': 'zackrawrr', 'msg': 'https://www.youtube.com/watch?v=Pn16KLBRJuU'}\n",
      "Puh, that's enough!\n"
     ]
    }
   ],
   "source": [
    "# If the user is online, print the first 5 messages\n",
    "if is_online:\n",
    "    messages = 5\n",
    "    for item in twitch_chat:\n",
    "        if messages > 0:\n",
    "            print(item)\n",
    "        else:\n",
    "            print(\"Puh, that's enough!\")\n",
    "            break\n",
    "        messages -= 1"
   ]
  },
  {
   "cell_type": "markdown",
   "metadata": {
    "slideshow": {
     "slide_type": "slide"
    }
   },
   "source": [
    "### Comments\n",
    "- Here, River has formated everything nicely for us as dictionaries.\n",
    "    - River's streaming format is based on dictionaries to minimize overhead.\n",
    "- See escpecially the _datetime_ formatting.\n",
    "- We will return to River and streaming Machine Learning later in the book."
   ]
  },
  {
   "cell_type": "markdown",
   "metadata": {
    "slideshow": {
     "slide_type": "slide"
    }
   },
   "source": [
    "## Exercise\n",
    "Make a clock  using [World Time API](http://worldtimeapi.org/)\n",
    "- Pull the current time from _http://worldtimeapi.org/api/timezone/Europe/Oslo_ every second using _requests.get()_.\n",
    "- Print only the _hours:minutes:seconds.decimals_\n",
    "- Print an error message if this fails.\n",
    "- Stop after 10 seconds"
   ]
  },
  {
   "cell_type": "markdown",
   "metadata": {
    "slideshow": {
     "slide_type": "slide"
    }
   },
   "source": [
    "## Resources\n",
    "- [River](https://riverml.xyz/)\n",
    "    - [TwitchChatSream](https://riverml.xyz/0.18.0/api/stream/TwitchChatStream/)\n",
    "- [Twitch](https://twitch.tv) \n",
    "    - [oauth autentication token](https://twitchapps.com/tmi/).\n",
    "- [World Time API](http://worldtimeapi.org/)\n"
   ]
  }
 ],
 "metadata": {
  "celltoolbar": "Slideshow",
  "kernelspec": {
   "display_name": "Python 3 (ipykernel)",
   "language": "python",
   "name": "python3"
  },
  "language_info": {
   "codemirror_mode": {
    "name": "ipython",
    "version": 3
   },
   "file_extension": ".py",
   "mimetype": "text/x-python",
   "name": "python",
   "nbconvert_exporter": "python",
   "pygments_lexer": "ipython3",
   "version": "3.10.6"
  }
 },
 "nbformat": 4,
 "nbformat_minor": 2
}
