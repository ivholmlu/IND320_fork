{
 "cells": [
  {
   "cell_type": "markdown",
   "metadata": {},
   "source": [
    "# Dashboards vs Reports\n",
    "- Dashboards are often updated live\n",
    "    - Mostly graphs, plots, etc.\n",
    "    - Key performance indicators (KPIs)\n",
    "    - Current trends, accumulation in minutes, hours, days, weeks, ...\n",
    "- Reports can be:\n",
    "    - Summaries of activities, economy, etc. up to a point\n",
    "    - Investigations into a subject\n",
    "    - Suggestive of future path or action\n",
    "    - Often printable, but digital reports can contain interactive graphics"
   ]
  }
 ],
 "metadata": {
  "language_info": {
   "name": "python"
  },
  "orig_nbformat": 4
 },
 "nbformat": 4,
 "nbformat_minor": 2
}
