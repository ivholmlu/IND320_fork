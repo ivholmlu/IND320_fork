{
 "cells": [
  {
   "cell_type": "markdown",
   "metadata": {
    "slideshow": {
     "slide_type": "slide"
    },
    "tags": []
   },
   "source": [
    "# Plotly interaction\n",
    "- Here we show some basic ways of brining Plotly graphs to life."
   ]
  },
  {
   "cell_type": "markdown",
   "metadata": {
    "slideshow": {
     "slide_type": "fragment"
    },
    "tags": []
   },
   "source": [
    "## Animation\n",
    "- Many plot types can easily be animated.\n",
    "- Parameters _animation\\_frame_ and _animation\\_group_ control what is animated"
   ]
  },
  {
   "cell_type": "code",
   "execution_count": null,
   "metadata": {
    "slideshow": {
     "slide_type": "fragment"
    },
    "tags": []
   },
   "outputs": [],
   "source": [
    "# Gapminder dataset of health and wealth stats for different countries\n",
    "import plotly.express as px\n",
    "df = px.data.gapminder()\n",
    "df.head()"
   ]
  },
  {
   "cell_type": "code",
   "execution_count": null,
   "metadata": {
    "slideshow": {
     "slide_type": "slide"
    },
    "tags": []
   },
   "outputs": [],
   "source": [
    "# Select a single year\n",
    "df_year = px.data.gapminder().query(\"year == 1952\")\n",
    "px.scatter(df_year, x=\"gdpPercap\", y=\"lifeExp\",\n",
    "           size=\"pop\", color=\"continent\", hover_name=\"country\",\n",
    "           log_x=True, size_max=55, range_x=[100,100000], range_y=[25,90])"
   ]
  },
  {
   "cell_type": "code",
   "execution_count": null,
   "metadata": {
    "slideshow": {
     "slide_type": "slide"
    },
    "tags": []
   },
   "outputs": [],
   "source": [
    "# Animate all years\n",
    "px.scatter(df, x=\"gdpPercap\", y=\"lifeExp\", animation_frame=\"year\", animation_group=\"country\",\n",
    "           size=\"pop\", color=\"continent\", hover_name=\"country\",\n",
    "           log_x=True, size_max=55, range_x=[100,100000], range_y=[25,90])"
   ]
  },
  {
   "cell_type": "markdown",
   "metadata": {
    "slideshow": {
     "slide_type": "slide"
    },
    "tags": []
   },
   "source": [
    "## Plotly templates\n",
    "- Themes can easily be changed to one in the default set or be tuned specifically."
   ]
  },
  {
   "cell_type": "code",
   "execution_count": null,
   "metadata": {
    "slideshow": {
     "slide_type": "fragment"
    },
    "tags": []
   },
   "outputs": [],
   "source": [
    "import plotly.io as pio\n",
    "pio.templates"
   ]
  },
  {
   "cell_type": "code",
   "execution_count": null,
   "metadata": {
    "slideshow": {
     "slide_type": "slide"
    },
    "tags": []
   },
   "outputs": [],
   "source": [
    "# https://plotly.com/python/templates/\n",
    "# Animate all years\n",
    "px.scatter(df, x=\"gdpPercap\", y=\"lifeExp\", animation_frame=\"year\", animation_group=\"country\",\n",
    "           size=\"pop\", color=\"continent\", hover_name=\"country\",\n",
    "           log_x=True, size_max=55, range_x=[100,100000], range_y=[25,90], template='plotly_dark')\n",
    "# Play with me!"
   ]
  },
  {
   "cell_type": "markdown",
   "metadata": {
    "slideshow": {
     "slide_type": "slide"
    },
    "tags": []
   },
   "source": [
    "## Plotly callbacks\n",
    "- The following code generates a random scatter.\n",
    "- The callback _update\\_point_ changes markers based on clicking and selection."
   ]
  },
  {
   "cell_type": "code",
   "execution_count": null,
   "metadata": {},
   "outputs": [],
   "source": [
    "import plotly.graph_objects as go\n",
    "\n",
    "import numpy as np\n",
    "np.random.seed(1)\n",
    "\n",
    "x = np.random.rand(100)\n",
    "y = np.random.rand(100)\n",
    "\n",
    "# Main plot\n",
    "f = go.FigureWidget([go.Scatter(x=x, y=y, mode='markers')])\n",
    "\n",
    "# Attributes of the scatter object\n",
    "scatter = f.data[0]\n",
    "colors = ['#a3a7e4'] * 100\n",
    "scatter.marker.color = colors\n",
    "scatter.marker.size = [10] * 100\n",
    "f.layout.hovermode = 'closest'\n",
    "\n",
    "# Create our callback function\n",
    "def update_point(trace, points, selector):\n",
    "    c = list(scatter.marker.color)\n",
    "    s = list(scatter.marker.size)\n",
    "    for i in points.point_inds:\n",
    "        c[i] = '#bae2be'\n",
    "        s[i] = 20\n",
    "    with f.batch_update():\n",
    "        scatter.marker.color = c\n",
    "        scatter.marker.size = s\n",
    "\n",
    "# Assign the callback function to the scatter object\n",
    "scatter.on_click(update_point)\n",
    "scatter.on_selection(update_point)\n",
    "\n",
    "f.show()"
   ]
  },
  {
   "cell_type": "markdown",
   "metadata": {
    "slideshow": {
     "slide_type": "slide"
    },
    "tags": []
   },
   "source": [
    "### Selection behaviour\n",
    "- The selection in one graph affects a second graph."
   ]
  },
  {
   "cell_type": "code",
   "execution_count": null,
   "metadata": {},
   "outputs": [],
   "source": [
    "from plotly.subplots import make_subplots\n",
    "import plotly.graph_objects as go\n",
    "import pandas as pd\n",
    "import numpy as np\n",
    "from plotly.graph_objs import FigureWidget\n",
    "\n",
    "# Random data and counting of positive and negative x values\n",
    "np.random.seed(1)\n",
    "x = np.random.randn(100)\n",
    "y = np.random.randn(100)\n",
    "df = pd.DataFrame({'x': x, 'y': y})\n",
    "allU = np.unique(df['x'].values>=0, return_counts=True)\n",
    "# Switch the order of counts if most positive samples are selected\n",
    "if allU[0][0]:\n",
    "    allU[1][0], allU[1][1] = allU[1][1], allU[1][0]\n",
    "\n",
    "# Create figure with subplots\n",
    "fig = make_subplots(rows=1, cols=2, \n",
    "                    specs=[[{\"type\": \"xy\"}, {\"type\": \"domain\"}]])\n",
    "fig.add_trace(\n",
    "    go.Scatter(x=x, y=y, mode='markers'),\n",
    "    row=1, col=1\n",
    ")\n",
    "fig.add_trace(\n",
    "    go.Pie(labels=['negative x', 'positive x'], values = allU[1], \n",
    "           marker_colors=(\"#FF5050\",\"#5050FF\"), sort=False),\n",
    "    row=1, col=2\n",
    ")\n",
    "fig.update_layout(height=500, width=800, title_text=\"Side By Side Subplots\")\n",
    "\n",
    "# Convert Figure to FigureWidget\n",
    "fig_widget = FigureWidget(fig)\n",
    "\n",
    "# Get scatter and pie from FigureWidget\n",
    "scatter2 = fig_widget.data[0]\n",
    "pie = fig_widget.data[1]\n",
    "\n",
    "# Create our callback function\n",
    "def selection_handler(trace, points, selector):\n",
    "    df_selected = pd.DataFrame({'x': points.xs, 'y': points.ys})\n",
    "    sel_log, sel_num = np.unique(df_selected['x'].values>=0, return_counts=True)\n",
    "    # If only positive selections, add a zero count for negative x\n",
    "    if sel_log.shape[0] == 1 and sel_log[0]:\n",
    "        sel_log = np.concatenate([np.array([False]), sel_log])\n",
    "        sel_num = np.concatenate([np.array([0]), sel_num])\n",
    "    # Switch the order of counts if most positive samples are selected\n",
    "    if sel_log[0]:\n",
    "        sel_num[0], sel_num[1] = sel_num[1], sel_num[0]\n",
    "    with fig_widget.batch_update():\n",
    "        pie.values = sel_num\n",
    "    fig_widget.update_traces()\n",
    "\n",
    "scatter2.on_selection(selection_handler)\n",
    "\n",
    "fig_widget.show()"
   ]
  },
  {
   "cell_type": "markdown",
   "metadata": {
    "slideshow": {
     "slide_type": "slide"
    },
    "tags": []
   },
   "source": [
    "## Adding widgets to a Plotly graph\n",
    "- As with the above interactivity, accessing the object to minpulate is important.\n",
    "- Using the _interactive_ function from ipywidgets in combination with a function that sets the properties is convenient."
   ]
  },
  {
   "cell_type": "code",
   "execution_count": null,
   "metadata": {},
   "outputs": [],
   "source": [
    "import plotly.graph_objects as go\n",
    "from ipywidgets import interactive\n",
    "import numpy as np\n",
    "\n",
    "np.random.seed(1)\n",
    "\n",
    "x = np.random.rand(100)\n",
    "y = np.random.rand(100)\n",
    "\n",
    "# Main plot\n",
    "f = go.FigureWidget([go.Scatter(x=x, y=y, mode='markers')])\n",
    "\n",
    "# Attributes of the scatter object\n",
    "scatter = f.data[0]\n",
    "scatter.marker.size = 10\n",
    "\n",
    "# Add ipywidget slider to control the marker size\n",
    "def set_marker_size(size):\n",
    "    scatter.marker.size = size\n",
    "\n",
    "marker_slider = interactive(set_marker_size, size=(1, 20, 1))\n",
    "marker_slider.children[0].layout.width = '400px'\n",
    "display(f, marker_slider)\n"
   ]
  },
  {
   "cell_type": "markdown",
   "metadata": {
    "slideshow": {
     "slide_type": "slide"
    },
    "tags": []
   },
   "source": [
    "```{seealso} Resources\n",
    ":class: tip\n",
    "- TBA\n",
    "```"
   ]
  }
 ],
 "metadata": {
  "kernelspec": {
   "display_name": "Python 3 (ipykernel)",
   "language": "python",
   "name": "python3"
  },
  "language_info": {
   "codemirror_mode": {
    "name": "ipython",
    "version": 3
   },
   "file_extension": ".py",
   "mimetype": "text/x-python",
   "name": "python",
   "nbconvert_exporter": "python",
   "pygments_lexer": "ipython3",
   "version": "3.11.6"
  }
 },
 "nbformat": 4,
 "nbformat_minor": 4
}
