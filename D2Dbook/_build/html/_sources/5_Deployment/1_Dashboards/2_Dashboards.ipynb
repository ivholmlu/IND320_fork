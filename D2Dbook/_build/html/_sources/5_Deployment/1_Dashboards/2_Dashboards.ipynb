{
 "cells": [
  {
   "cell_type": "markdown",
   "metadata": {
    "slideshow": {
     "slide_type": "slide"
    },
    "tags": []
   },
   "source": [
    "# Dashboards\n",
    "- Dashboards come in many flavours.\n",
    "- Chosing the right (combination of) frameworks has an impact on possibilites and limitations.\n",
    "- Free vs paid framework:\n",
    "    - Free is usually only free in the development phase.\n",
    "    - Some paid services also include deployment on a server, easy scaling to meet demands, etc.\n",
    "    - For companies with custom built projects, infrastructure may already be available in-house or through a contract with Amazon Web Services, Microsoft Azure, Google Cloud Platform or other agreements.\n",
    "- No code vs only code vs hybrid"
   ]
  },
  {
   "cell_type": "markdown",
   "metadata": {
    "slideshow": {
     "slide_type": "slide"
    },
    "tags": []
   },
   "source": [
    "- Static vs streaming data:\n",
    "    - Is the data collected in advance or will more data arrive after deployment?\n",
    "- Static vs interactive interface:\n",
    "    - Hovering or clicking to reveal labels; zooming, paning, etc.\n",
    "    - Selection of subsets, possibly affecting other plots.\n",
    "    - Graphical user interface elements (widgets like buttons, sliders, etc.) to manipulate plots.\n",
    "    - Possiblity of selecting input data.\n",
    "- Single or multiple views:\n",
    "    - Static set of plots.\n",
    "    - Card layout with \"layers\" of dashboards.\n",
    "    - Connected pages with different focus, e.g.,\n",
    "        - (1) data selection and filtering, (2) plots, (3) key performance indexes."
   ]
  },
  {
   "cell_type": "markdown",
   "metadata": {
    "slideshow": {
     "slide_type": "slide"
    },
    "tags": []
   },
   "source": [
    "## Dashboard frameworks\n",
    "- There are dozens of different frameworks available, both open and proprietary.\n",
    "- [Power BI](https://powerbi.microsoft.com):\n",
    "    - Microsoft's industry standard for dashboard building.\n",
    "    - Visual app building with possibility of integrating code.\n",
    "    - Various tiers from limited free to full blown enterprise.\n",
    "- [Grafana](https://grafana.com/grafana/):\n",
    "    - Open source ecosystem with additional paid services.\n",
    "    - Strong on profiling, metrics, sensor integration, etc.\n",
    "- [Tableau](https://www.tableau.com/)\n",
    "    - Subscription full stack of data handling to visualisation.\n",
    "- [Dash](https://plotly.com/)\n",
    "    - Dashboards of all kinds based on open source [Plotly](https://plotly.com/python/)."
   ]
  },
  {
   "cell_type": "markdown",
   "metadata": {
    "slideshow": {
     "slide_type": "slide"
    },
    "tags": []
   },
   "source": [
    "- Excel:\n",
    "    - For static data and static plots, Excel has lots of options.\n",
    "- [Jupyter](https://jupyter.org/):\n",
    "    - Many of the elements of a dashboard can be integrated into a Jupyter Notebook.\n",
    "    - Services exist that can turn Python Notebooks into web apps (e.g., [Mercury](https://runmercury.com/)).\n",
    "- [Streamlit](https://streamlit.io/):\n",
    "    - Pages of Python based widget and graphics.\n",
    "    - Extension modules.\n",
    "    - Deployment webpage with single free (limited) app, then payment subscription.\n",
    "        - Connected to GitHub, so every _git push_ updates the app.\n",
    "- [Streamsync](https://www.streamsync.cloud/):\n",
    "    - Drag-and-drop visual editor with Python backend and event handling.\n",
    "    - Extension modules.\n",
    "    - Various widgets, metrics, interactive Plotly graphics, multiple pages and card layout.\n",
    "    - Asynchronus (non-blocking), threaded, minimal latency.\n",
    "    - Can be deployed via Docker, though free services are few and far appart.\n"
   ]
  },
  {
   "cell_type": "markdown",
   "metadata": {
    "slideshow": {
     "slide_type": "slide"
    },
    "tags": []
   },
   "source": [
    "## Streamsync\n",
    "- The combination of low threshold to obtain something visual and the flexibilty in Python makes this our first choice.\n",
    "- First release in April 2023, but more than 900 GitHub stars as of November same year.\n",
    "- [Introduction video](https://www.youtube.com/watch?v=XBAPBy_zf8s)\n",
    "\n",
    "<img src=\"../../images/streamsync_hello.png\" width=\"600px\">  \n",
    "<img src=\"https://github.com/khliland/IND320/blob/main/D2Dbook/images/streamsync_hello.png?raw=TRUE\" width=\"600px\">  "
   ]
  },
  {
   "cell_type": "markdown",
   "metadata": {
    "slideshow": {
     "slide_type": "slide"
    },
    "tags": []
   },
   "source": [
    "__Prepare Python__\n",
    "```\n",
    "cd /your/favourite/directory\n",
    "conda activate your_favourite_environment\n",
    "```\n",
    "  \n",
    "__Installation__\n",
    "```\n",
    "# Install via pip (requires Python >= 3.9.2)\n",
    "pip install \"streamsync[ds]\"\n",
    "```\n",
    "  \n",
    "__Create demo and run in local server__\n",
    "```\n",
    "streamsync hello\n",
    "```\n",
    "  \n",
    "__Edit an existing project__\n",
    "```\n",
    "streamsync edit hello\n",
    "```\n",
    "  \n",
    "__Run an existing project__\n",
    "```\n",
    "streamsync run hello\n",
    "```"
   ]
  },
  {
   "cell_type": "markdown",
   "metadata": {},
   "source": [
    "```{note}\n",
    "You may need to copy the server URL to a web browser after running the selected _streamsync_ command.\n",
    "```"
   ]
  },
  {
   "cell_type": "markdown",
   "metadata": {
    "slideshow": {
     "slide_type": "slide"
    },
    "tags": []
   },
   "source": [
    "## Exercise (together)\n",
    "- Install _streamsync_.\n",
    "- Create (and open) _hello_ project.\n",
    "- Play with the project in \"Preview\" mode, testing functionality.\n",
    "- Focus on \"User Interface\" mode:\n",
    "    - Left bar: Layout, Content, Input, Other.\n",
    "    - Left bar: Component Tree.\n",
    "    - UI elements, click and edit properties.\n",
    "        - Double-click on Cards to reveal contents.\n",
    "    - Move elements and add new ones.\n",
    "    - Value binding between elements (see [documentation](https://www.streamsync.cloud/builder-basics.html)).\n",
    "- Inspect and tweak \"<> Code\" focusing on:\n",
    "    - _initial\\_state_ (bottom of Python code, [documentation](https://www.streamsync.cloud/application-state.html)).\n",
    "    - Use of leading _underscore in states and functions to be private to the backend (not connected to UI).\n",
    "    - Application state notation, @{...}, in UI element properties and corresponding Python code.\n",
    "        - Nested states, e.g., @{building.height}, or for dynamic access: @{building[dynamic_prop]}\n",
    "    - Event handling ([documentation](https://www.streamsync.cloud/event-handlers.html)).\n",
    "        - From Python, assignment of states trigger detection/action, e.g., state[\"counter\"] = something + something_else.\n",
    "- Open the project in your favourite editor (IDE).\n",
    "    - F.ex. in VS Code: File -> New Window, File -> Open Folder..., choose _hello_.\n",
    "    - Changes in code and JSON files should be directly detected by streamsync."
   ]
  },
  {
   "cell_type": "markdown",
   "metadata": {
    "slideshow": {
     "slide_type": "slide"
    },
    "tags": []
   },
   "source": [
    "```{seealso} Resources\n",
    ":class: tip\n",
    "- [Power BI](https://powerbi.microsoft.com)\n",
    "- [Grafana](https://grafana.com/grafana/)\n",
    "- [Tableau](https://www.tableau.com/)\n",
    "- [Dash](https://plotly.com/)\n",
    "- [Jupyter](https://jupyter.org/)\n",
    "- [Streamlit](https://streamlit.io/)\n",
    "- [Streamsync](https://www.streamsync.cloud/)\n",
    "- [Plotly](https://plotly.com/python/)\n",
    "- [Mercury](https://runmercury.com/)\n",
    "- [YouTube: Streamsync](https://www.youtube.com/watch?v=XBAPBy_zf8s) (1m:15s)\n",
    "- [Streamsync doc basics](https://www.streamsync.cloud/builder-basics.html)\n",
    "- [Streamsync doc app state](https://www.streamsync.cloud/application-state.html)\n",
    "- [Streamsync doc event handling](https://www.streamsync.cloud/event-handlers.html)\n",
    "```"
   ]
  }
 ],
 "metadata": {
  "kernelspec": {
   "display_name": "Python 3 (ipykernel)",
   "language": "python",
   "name": "python3"
  },
  "language_info": {
   "codemirror_mode": {
    "name": "ipython",
    "version": 3
   },
   "file_extension": ".py",
   "mimetype": "text/x-python",
   "name": "python",
   "nbconvert_exporter": "python",
   "pygments_lexer": "ipython3",
   "version": "3.11.6"
  }
 },
 "nbformat": 4,
 "nbformat_minor": 4
}
