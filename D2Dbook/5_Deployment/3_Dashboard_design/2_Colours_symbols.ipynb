{
 "cells": [
  {
   "cell_type": "markdown",
   "metadata": {
    "slideshow": {
     "slide_type": "slide"
    },
    "tags": []
   },
   "source": [
    "# Colours and symbolics\n",
    "- Colours, symbols, and flags are powerful elements in dashboards and reports for guiding the user's attention and conveying messages.\n",
    "- These elements are relevant both inside plots and throughout the dashboards as a whole."
   ]
  },
  {
   "cell_type": "markdown",
   "metadata": {
    "slideshow": {
     "slide_type": "slide"
    },
    "tags": []
   },
   "source": [
    "## Plots\n",
    "### Groups\n",
    "- Colours, linestyles and plot symbols are typically used to identify or emphasize groups or classes.\n",
    "- Most plotting libraries have contrasting colour series specially made for categories.\n",
    "- Scatterplots with group-wise symbols or symbol selection based on a DataFrame column."
   ]
  },
  {
   "cell_type": "code",
   "execution_count": 1,
   "metadata": {
    "slideshow": {
     "slide_type": "slide"
    },
    "tags": []
   },
   "outputs": [
    {
     "data": {
      "application/vnd.plotly.v1+json": {
       "config": {
        "plotlyServerURL": "https://plot.ly"
       },
       "data": [
        {
         "hovertemplate": "species=setosa<br>petal_width=%{x}<br>petal_length=%{y}<extra></extra>",
         "legendgroup": "setosa",
         "marker": {
          "color": "#636efa",
          "symbol": "circle"
         },
         "mode": "markers",
         "name": "setosa",
         "orientation": "v",
         "showlegend": true,
         "type": "scatter",
         "x": [
          0.2,
          0.2,
          0.2,
          0.2,
          0.2,
          0.4,
          0.3,
          0.2,
          0.2,
          0.1,
          0.2,
          0.2,
          0.1,
          0.1,
          0.2,
          0.4,
          0.4,
          0.3,
          0.3,
          0.3,
          0.2,
          0.4,
          0.2,
          0.5,
          0.2,
          0.2,
          0.4,
          0.2,
          0.2,
          0.2,
          0.2,
          0.4,
          0.1,
          0.2,
          0.1,
          0.2,
          0.2,
          0.1,
          0.2,
          0.2,
          0.3,
          0.3,
          0.2,
          0.6,
          0.4,
          0.3,
          0.2,
          0.2,
          0.2,
          0.2
         ],
         "xaxis": "x",
         "y": [
          1.4,
          1.4,
          1.3,
          1.5,
          1.4,
          1.7,
          1.4,
          1.5,
          1.4,
          1.5,
          1.5,
          1.6,
          1.4,
          1.1,
          1.2,
          1.5,
          1.3,
          1.4,
          1.7,
          1.5,
          1.7,
          1.5,
          1,
          1.7,
          1.9,
          1.6,
          1.6,
          1.5,
          1.4,
          1.6,
          1.6,
          1.5,
          1.5,
          1.4,
          1.5,
          1.2,
          1.3,
          1.5,
          1.3,
          1.5,
          1.3,
          1.3,
          1.3,
          1.6,
          1.9,
          1.4,
          1.6,
          1.4,
          1.5,
          1.4
         ],
         "yaxis": "y"
        },
        {
         "hovertemplate": "species=versicolor<br>petal_width=%{x}<br>petal_length=%{y}<extra></extra>",
         "legendgroup": "versicolor",
         "marker": {
          "color": "#EF553B",
          "symbol": "diamond"
         },
         "mode": "markers",
         "name": "versicolor",
         "orientation": "v",
         "showlegend": true,
         "type": "scatter",
         "x": [
          1.4,
          1.5,
          1.5,
          1.3,
          1.5,
          1.3,
          1.6,
          1,
          1.3,
          1.4,
          1,
          1.5,
          1,
          1.4,
          1.3,
          1.4,
          1.5,
          1,
          1.5,
          1.1,
          1.8,
          1.3,
          1.5,
          1.2,
          1.3,
          1.4,
          1.4,
          1.7,
          1.5,
          1,
          1.1,
          1,
          1.2,
          1.6,
          1.5,
          1.6,
          1.5,
          1.3,
          1.3,
          1.3,
          1.2,
          1.4,
          1.2,
          1,
          1.3,
          1.2,
          1.3,
          1.3,
          1.1,
          1.3
         ],
         "xaxis": "x",
         "y": [
          4.7,
          4.5,
          4.9,
          4,
          4.6,
          4.5,
          4.7,
          3.3,
          4.6,
          3.9,
          3.5,
          4.2,
          4,
          4.7,
          3.6,
          4.4,
          4.5,
          4.1,
          4.5,
          3.9,
          4.8,
          4,
          4.9,
          4.7,
          4.3,
          4.4,
          4.8,
          5,
          4.5,
          3.5,
          3.8,
          3.7,
          3.9,
          5.1,
          4.5,
          4.5,
          4.7,
          4.4,
          4.1,
          4,
          4.4,
          4.6,
          4,
          3.3,
          4.2,
          4.2,
          4.2,
          4.3,
          3,
          4.1
         ],
         "yaxis": "y"
        },
        {
         "hovertemplate": "species=virginica<br>petal_width=%{x}<br>petal_length=%{y}<extra></extra>",
         "legendgroup": "virginica",
         "marker": {
          "color": "#00cc96",
          "symbol": "square"
         },
         "mode": "markers",
         "name": "virginica",
         "orientation": "v",
         "showlegend": true,
         "type": "scatter",
         "x": [
          2.5,
          1.9,
          2.1,
          1.8,
          2.2,
          2.1,
          1.7,
          1.8,
          1.8,
          2.5,
          2,
          1.9,
          2.1,
          2,
          2.4,
          2.3,
          1.8,
          2.2,
          2.3,
          1.5,
          2.3,
          2,
          2,
          1.8,
          2.1,
          1.8,
          1.8,
          1.8,
          2.1,
          1.6,
          1.9,
          2,
          2.2,
          1.5,
          1.4,
          2.3,
          2.4,
          1.8,
          1.8,
          2.1,
          2.4,
          2.3,
          1.9,
          2.3,
          2.5,
          2.3,
          1.9,
          2,
          2.3,
          1.8
         ],
         "xaxis": "x",
         "y": [
          6,
          5.1,
          5.9,
          5.6,
          5.8,
          6.6,
          4.5,
          6.3,
          5.8,
          6.1,
          5.1,
          5.3,
          5.5,
          5,
          5.1,
          5.3,
          5.5,
          6.7,
          6.9,
          5,
          5.7,
          4.9,
          6.7,
          4.9,
          5.7,
          6,
          4.8,
          4.9,
          5.6,
          5.8,
          6.1,
          6.4,
          5.6,
          5.1,
          5.6,
          6.1,
          5.6,
          5.5,
          4.8,
          5.4,
          5.6,
          5.1,
          5.1,
          5.9,
          5.7,
          5.2,
          5,
          5.2,
          5.4,
          5.1
         ],
         "yaxis": "y"
        }
       ],
       "layout": {
        "legend": {
         "title": {
          "text": "species"
         },
         "tracegroupgap": 0
        },
        "margin": {
         "t": 60
        },
        "template": {
         "data": {
          "bar": [
           {
            "error_x": {
             "color": "#2a3f5f"
            },
            "error_y": {
             "color": "#2a3f5f"
            },
            "marker": {
             "line": {
              "color": "#E5ECF6",
              "width": 0.5
             },
             "pattern": {
              "fillmode": "overlay",
              "size": 10,
              "solidity": 0.2
             }
            },
            "type": "bar"
           }
          ],
          "barpolar": [
           {
            "marker": {
             "line": {
              "color": "#E5ECF6",
              "width": 0.5
             },
             "pattern": {
              "fillmode": "overlay",
              "size": 10,
              "solidity": 0.2
             }
            },
            "type": "barpolar"
           }
          ],
          "carpet": [
           {
            "aaxis": {
             "endlinecolor": "#2a3f5f",
             "gridcolor": "white",
             "linecolor": "white",
             "minorgridcolor": "white",
             "startlinecolor": "#2a3f5f"
            },
            "baxis": {
             "endlinecolor": "#2a3f5f",
             "gridcolor": "white",
             "linecolor": "white",
             "minorgridcolor": "white",
             "startlinecolor": "#2a3f5f"
            },
            "type": "carpet"
           }
          ],
          "choropleth": [
           {
            "colorbar": {
             "outlinewidth": 0,
             "ticks": ""
            },
            "type": "choropleth"
           }
          ],
          "contour": [
           {
            "colorbar": {
             "outlinewidth": 0,
             "ticks": ""
            },
            "colorscale": [
             [
              0,
              "#0d0887"
             ],
             [
              0.1111111111111111,
              "#46039f"
             ],
             [
              0.2222222222222222,
              "#7201a8"
             ],
             [
              0.3333333333333333,
              "#9c179e"
             ],
             [
              0.4444444444444444,
              "#bd3786"
             ],
             [
              0.5555555555555556,
              "#d8576b"
             ],
             [
              0.6666666666666666,
              "#ed7953"
             ],
             [
              0.7777777777777778,
              "#fb9f3a"
             ],
             [
              0.8888888888888888,
              "#fdca26"
             ],
             [
              1,
              "#f0f921"
             ]
            ],
            "type": "contour"
           }
          ],
          "contourcarpet": [
           {
            "colorbar": {
             "outlinewidth": 0,
             "ticks": ""
            },
            "type": "contourcarpet"
           }
          ],
          "heatmap": [
           {
            "colorbar": {
             "outlinewidth": 0,
             "ticks": ""
            },
            "colorscale": [
             [
              0,
              "#0d0887"
             ],
             [
              0.1111111111111111,
              "#46039f"
             ],
             [
              0.2222222222222222,
              "#7201a8"
             ],
             [
              0.3333333333333333,
              "#9c179e"
             ],
             [
              0.4444444444444444,
              "#bd3786"
             ],
             [
              0.5555555555555556,
              "#d8576b"
             ],
             [
              0.6666666666666666,
              "#ed7953"
             ],
             [
              0.7777777777777778,
              "#fb9f3a"
             ],
             [
              0.8888888888888888,
              "#fdca26"
             ],
             [
              1,
              "#f0f921"
             ]
            ],
            "type": "heatmap"
           }
          ],
          "heatmapgl": [
           {
            "colorbar": {
             "outlinewidth": 0,
             "ticks": ""
            },
            "colorscale": [
             [
              0,
              "#0d0887"
             ],
             [
              0.1111111111111111,
              "#46039f"
             ],
             [
              0.2222222222222222,
              "#7201a8"
             ],
             [
              0.3333333333333333,
              "#9c179e"
             ],
             [
              0.4444444444444444,
              "#bd3786"
             ],
             [
              0.5555555555555556,
              "#d8576b"
             ],
             [
              0.6666666666666666,
              "#ed7953"
             ],
             [
              0.7777777777777778,
              "#fb9f3a"
             ],
             [
              0.8888888888888888,
              "#fdca26"
             ],
             [
              1,
              "#f0f921"
             ]
            ],
            "type": "heatmapgl"
           }
          ],
          "histogram": [
           {
            "marker": {
             "pattern": {
              "fillmode": "overlay",
              "size": 10,
              "solidity": 0.2
             }
            },
            "type": "histogram"
           }
          ],
          "histogram2d": [
           {
            "colorbar": {
             "outlinewidth": 0,
             "ticks": ""
            },
            "colorscale": [
             [
              0,
              "#0d0887"
             ],
             [
              0.1111111111111111,
              "#46039f"
             ],
             [
              0.2222222222222222,
              "#7201a8"
             ],
             [
              0.3333333333333333,
              "#9c179e"
             ],
             [
              0.4444444444444444,
              "#bd3786"
             ],
             [
              0.5555555555555556,
              "#d8576b"
             ],
             [
              0.6666666666666666,
              "#ed7953"
             ],
             [
              0.7777777777777778,
              "#fb9f3a"
             ],
             [
              0.8888888888888888,
              "#fdca26"
             ],
             [
              1,
              "#f0f921"
             ]
            ],
            "type": "histogram2d"
           }
          ],
          "histogram2dcontour": [
           {
            "colorbar": {
             "outlinewidth": 0,
             "ticks": ""
            },
            "colorscale": [
             [
              0,
              "#0d0887"
             ],
             [
              0.1111111111111111,
              "#46039f"
             ],
             [
              0.2222222222222222,
              "#7201a8"
             ],
             [
              0.3333333333333333,
              "#9c179e"
             ],
             [
              0.4444444444444444,
              "#bd3786"
             ],
             [
              0.5555555555555556,
              "#d8576b"
             ],
             [
              0.6666666666666666,
              "#ed7953"
             ],
             [
              0.7777777777777778,
              "#fb9f3a"
             ],
             [
              0.8888888888888888,
              "#fdca26"
             ],
             [
              1,
              "#f0f921"
             ]
            ],
            "type": "histogram2dcontour"
           }
          ],
          "mesh3d": [
           {
            "colorbar": {
             "outlinewidth": 0,
             "ticks": ""
            },
            "type": "mesh3d"
           }
          ],
          "parcoords": [
           {
            "line": {
             "colorbar": {
              "outlinewidth": 0,
              "ticks": ""
             }
            },
            "type": "parcoords"
           }
          ],
          "pie": [
           {
            "automargin": true,
            "type": "pie"
           }
          ],
          "scatter": [
           {
            "fillpattern": {
             "fillmode": "overlay",
             "size": 10,
             "solidity": 0.2
            },
            "type": "scatter"
           }
          ],
          "scatter3d": [
           {
            "line": {
             "colorbar": {
              "outlinewidth": 0,
              "ticks": ""
             }
            },
            "marker": {
             "colorbar": {
              "outlinewidth": 0,
              "ticks": ""
             }
            },
            "type": "scatter3d"
           }
          ],
          "scattercarpet": [
           {
            "marker": {
             "colorbar": {
              "outlinewidth": 0,
              "ticks": ""
             }
            },
            "type": "scattercarpet"
           }
          ],
          "scattergeo": [
           {
            "marker": {
             "colorbar": {
              "outlinewidth": 0,
              "ticks": ""
             }
            },
            "type": "scattergeo"
           }
          ],
          "scattergl": [
           {
            "marker": {
             "colorbar": {
              "outlinewidth": 0,
              "ticks": ""
             }
            },
            "type": "scattergl"
           }
          ],
          "scattermapbox": [
           {
            "marker": {
             "colorbar": {
              "outlinewidth": 0,
              "ticks": ""
             }
            },
            "type": "scattermapbox"
           }
          ],
          "scatterpolar": [
           {
            "marker": {
             "colorbar": {
              "outlinewidth": 0,
              "ticks": ""
             }
            },
            "type": "scatterpolar"
           }
          ],
          "scatterpolargl": [
           {
            "marker": {
             "colorbar": {
              "outlinewidth": 0,
              "ticks": ""
             }
            },
            "type": "scatterpolargl"
           }
          ],
          "scatterternary": [
           {
            "marker": {
             "colorbar": {
              "outlinewidth": 0,
              "ticks": ""
             }
            },
            "type": "scatterternary"
           }
          ],
          "surface": [
           {
            "colorbar": {
             "outlinewidth": 0,
             "ticks": ""
            },
            "colorscale": [
             [
              0,
              "#0d0887"
             ],
             [
              0.1111111111111111,
              "#46039f"
             ],
             [
              0.2222222222222222,
              "#7201a8"
             ],
             [
              0.3333333333333333,
              "#9c179e"
             ],
             [
              0.4444444444444444,
              "#bd3786"
             ],
             [
              0.5555555555555556,
              "#d8576b"
             ],
             [
              0.6666666666666666,
              "#ed7953"
             ],
             [
              0.7777777777777778,
              "#fb9f3a"
             ],
             [
              0.8888888888888888,
              "#fdca26"
             ],
             [
              1,
              "#f0f921"
             ]
            ],
            "type": "surface"
           }
          ],
          "table": [
           {
            "cells": {
             "fill": {
              "color": "#EBF0F8"
             },
             "line": {
              "color": "white"
             }
            },
            "header": {
             "fill": {
              "color": "#C8D4E3"
             },
             "line": {
              "color": "white"
             }
            },
            "type": "table"
           }
          ]
         },
         "layout": {
          "annotationdefaults": {
           "arrowcolor": "#2a3f5f",
           "arrowhead": 0,
           "arrowwidth": 1
          },
          "autotypenumbers": "strict",
          "coloraxis": {
           "colorbar": {
            "outlinewidth": 0,
            "ticks": ""
           }
          },
          "colorscale": {
           "diverging": [
            [
             0,
             "#8e0152"
            ],
            [
             0.1,
             "#c51b7d"
            ],
            [
             0.2,
             "#de77ae"
            ],
            [
             0.3,
             "#f1b6da"
            ],
            [
             0.4,
             "#fde0ef"
            ],
            [
             0.5,
             "#f7f7f7"
            ],
            [
             0.6,
             "#e6f5d0"
            ],
            [
             0.7,
             "#b8e186"
            ],
            [
             0.8,
             "#7fbc41"
            ],
            [
             0.9,
             "#4d9221"
            ],
            [
             1,
             "#276419"
            ]
           ],
           "sequential": [
            [
             0,
             "#0d0887"
            ],
            [
             0.1111111111111111,
             "#46039f"
            ],
            [
             0.2222222222222222,
             "#7201a8"
            ],
            [
             0.3333333333333333,
             "#9c179e"
            ],
            [
             0.4444444444444444,
             "#bd3786"
            ],
            [
             0.5555555555555556,
             "#d8576b"
            ],
            [
             0.6666666666666666,
             "#ed7953"
            ],
            [
             0.7777777777777778,
             "#fb9f3a"
            ],
            [
             0.8888888888888888,
             "#fdca26"
            ],
            [
             1,
             "#f0f921"
            ]
           ],
           "sequentialminus": [
            [
             0,
             "#0d0887"
            ],
            [
             0.1111111111111111,
             "#46039f"
            ],
            [
             0.2222222222222222,
             "#7201a8"
            ],
            [
             0.3333333333333333,
             "#9c179e"
            ],
            [
             0.4444444444444444,
             "#bd3786"
            ],
            [
             0.5555555555555556,
             "#d8576b"
            ],
            [
             0.6666666666666666,
             "#ed7953"
            ],
            [
             0.7777777777777778,
             "#fb9f3a"
            ],
            [
             0.8888888888888888,
             "#fdca26"
            ],
            [
             1,
             "#f0f921"
            ]
           ]
          },
          "colorway": [
           "#636efa",
           "#EF553B",
           "#00cc96",
           "#ab63fa",
           "#FFA15A",
           "#19d3f3",
           "#FF6692",
           "#B6E880",
           "#FF97FF",
           "#FECB52"
          ],
          "font": {
           "color": "#2a3f5f"
          },
          "geo": {
           "bgcolor": "white",
           "lakecolor": "white",
           "landcolor": "#E5ECF6",
           "showlakes": true,
           "showland": true,
           "subunitcolor": "white"
          },
          "hoverlabel": {
           "align": "left"
          },
          "hovermode": "closest",
          "mapbox": {
           "style": "light"
          },
          "paper_bgcolor": "white",
          "plot_bgcolor": "#E5ECF6",
          "polar": {
           "angularaxis": {
            "gridcolor": "white",
            "linecolor": "white",
            "ticks": ""
           },
           "bgcolor": "#E5ECF6",
           "radialaxis": {
            "gridcolor": "white",
            "linecolor": "white",
            "ticks": ""
           }
          },
          "scene": {
           "xaxis": {
            "backgroundcolor": "#E5ECF6",
            "gridcolor": "white",
            "gridwidth": 2,
            "linecolor": "white",
            "showbackground": true,
            "ticks": "",
            "zerolinecolor": "white"
           },
           "yaxis": {
            "backgroundcolor": "#E5ECF6",
            "gridcolor": "white",
            "gridwidth": 2,
            "linecolor": "white",
            "showbackground": true,
            "ticks": "",
            "zerolinecolor": "white"
           },
           "zaxis": {
            "backgroundcolor": "#E5ECF6",
            "gridcolor": "white",
            "gridwidth": 2,
            "linecolor": "white",
            "showbackground": true,
            "ticks": "",
            "zerolinecolor": "white"
           }
          },
          "shapedefaults": {
           "line": {
            "color": "#2a3f5f"
           }
          },
          "ternary": {
           "aaxis": {
            "gridcolor": "white",
            "linecolor": "white",
            "ticks": ""
           },
           "baxis": {
            "gridcolor": "white",
            "linecolor": "white",
            "ticks": ""
           },
           "bgcolor": "#E5ECF6",
           "caxis": {
            "gridcolor": "white",
            "linecolor": "white",
            "ticks": ""
           }
          },
          "title": {
           "x": 0.05
          },
          "xaxis": {
           "automargin": true,
           "gridcolor": "white",
           "linecolor": "white",
           "ticks": "",
           "title": {
            "standoff": 15
           },
           "zerolinecolor": "white",
           "zerolinewidth": 2
          },
          "yaxis": {
           "automargin": true,
           "gridcolor": "white",
           "linecolor": "white",
           "ticks": "",
           "title": {
            "standoff": 15
           },
           "zerolinecolor": "white",
           "zerolinewidth": 2
          }
         }
        },
        "xaxis": {
         "anchor": "y",
         "domain": [
          0,
          1
         ],
         "title": {
          "text": "petal_width"
         }
        },
        "yaxis": {
         "anchor": "x",
         "domain": [
          0,
          1
         ],
         "title": {
          "text": "petal_length"
         }
        }
       }
      }
     },
     "metadata": {},
     "output_type": "display_data"
    }
   ],
   "source": [
    "# Use plotly express to plot petal widths and lengths of the iris data set (imported from plotly). \n",
    "# Colour and symbol by species.\n",
    "import plotly.express as px\n",
    "df = px.data.iris()\n",
    "fig = px.scatter(df, x=\"petal_width\", y=\"petal_length\", color=\"species\", symbol=\"species\")\n",
    "fig.show()"
   ]
  },
  {
   "cell_type": "markdown",
   "metadata": {
    "slideshow": {
     "slide_type": "slide"
    },
    "tags": []
   },
   "source": [
    "### Focused element\n",
    "- Clicking or hovering over an element can be used to invoke a change.\n",
    "    - Colour or size change on the selected element.\n",
    "    - \"Defocus\" on the remaining elements, e.g., by changing opacity or hue."
   ]
  },
  {
   "cell_type": "code",
   "execution_count": 2,
   "metadata": {
    "slideshow": {
     "slide_type": "slide"
    },
    "tags": []
   },
   "outputs": [
    {
     "data": {
      "application/vnd.jupyter.widget-view+json": {
       "model_id": "a5946042b8f4465a8d7ca3b2aff5ebbc",
       "version_major": 2,
       "version_minor": 0
      },
      "text/plain": [
       "FigureWidget({\n",
       "    'data': [{'marker': {'color': [rgb(93, 105, 177), rgb(93, 105, 177), rgb(93,\n",
       "                                   105, 177), rgb(93, 105, 177), rgb(93, 105, 177),\n",
       "                                   rgb(93, 105, 177), rgb(93, 105, 177), rgb(93,\n",
       "                                   105, 177), rgb(93, 105, 177), rgb(93, 105, 177),\n",
       "                                   rgb(93, 105, 177), rgb(93, 105, 177), rgb(93,\n",
       "                                   105, 177), rgb(93, 105, 177), rgb(93, 105, 177),\n",
       "                                   rgb(93, 105, 177), rgb(93, 105, 177), rgb(93,\n",
       "                                   105, 177), rgb(93, 105, 177), rgb(93, 105, 177),\n",
       "                                   rgb(93, 105, 177), rgb(93, 105, 177), rgb(93,\n",
       "                                   105, 177), rgb(93, 105, 177), rgb(93, 105, 177),\n",
       "                                   rgb(93, 105, 177), rgb(93, 105, 177), rgb(93,\n",
       "                                   105, 177), rgb(93, 105, 177), rgb(93, 105, 177),\n",
       "                                   rgb(93, 105, 177), rgb(93, 105, 177), rgb(93,\n",
       "                                   105, 177), rgb(93, 105, 177), rgb(93, 105, 177),\n",
       "                                   rgb(93, 105, 177), rgb(93, 105, 177), rgb(93,\n",
       "                                   105, 177), rgb(93, 105, 177), rgb(93, 105, 177),\n",
       "                                   rgb(93, 105, 177), rgb(93, 105, 177), rgb(93,\n",
       "                                   105, 177), rgb(93, 105, 177), rgb(93, 105, 177),\n",
       "                                   rgb(93, 105, 177), rgb(93, 105, 177), rgb(93,\n",
       "                                   105, 177), rgb(93, 105, 177), rgb(93, 105, 177),\n",
       "                                   rgb(82, 188, 163), rgb(82, 188, 163), rgb(82,\n",
       "                                   188, 163), rgb(82, 188, 163), rgb(82, 188, 163),\n",
       "                                   rgb(82, 188, 163), rgb(82, 188, 163), rgb(82,\n",
       "                                   188, 163), rgb(82, 188, 163), rgb(82, 188, 163),\n",
       "                                   rgb(82, 188, 163), rgb(82, 188, 163), rgb(82,\n",
       "                                   188, 163), rgb(82, 188, 163), rgb(82, 188, 163),\n",
       "                                   rgb(82, 188, 163), rgb(82, 188, 163), rgb(82,\n",
       "                                   188, 163), rgb(82, 188, 163), rgb(82, 188, 163),\n",
       "                                   rgb(82, 188, 163), rgb(82, 188, 163), rgb(82,\n",
       "                                   188, 163), rgb(82, 188, 163), rgb(82, 188, 163),\n",
       "                                   rgb(82, 188, 163), rgb(82, 188, 163), rgb(82,\n",
       "                                   188, 163), rgb(82, 188, 163), rgb(82, 188, 163),\n",
       "                                   rgb(82, 188, 163), rgb(82, 188, 163), rgb(82,\n",
       "                                   188, 163), rgb(82, 188, 163), rgb(82, 188, 163),\n",
       "                                   rgb(82, 188, 163), rgb(82, 188, 163), rgb(82,\n",
       "                                   188, 163), rgb(82, 188, 163), rgb(82, 188, 163),\n",
       "                                   rgb(82, 188, 163), rgb(82, 188, 163), rgb(82,\n",
       "                                   188, 163), rgb(82, 188, 163), rgb(82, 188, 163),\n",
       "                                   rgb(82, 188, 163), rgb(82, 188, 163), rgb(82,\n",
       "                                   188, 163), rgb(82, 188, 163), rgb(82, 188, 163),\n",
       "                                   rgb(153, 201, 69), rgb(153, 201, 69), rgb(153,\n",
       "                                   201, 69), rgb(153, 201, 69), rgb(153, 201, 69),\n",
       "                                   rgb(153, 201, 69), rgb(153, 201, 69), rgb(153,\n",
       "                                   201, 69), rgb(153, 201, 69), rgb(153, 201, 69),\n",
       "                                   rgb(153, 201, 69), rgb(153, 201, 69), rgb(153,\n",
       "                                   201, 69), rgb(153, 201, 69), rgb(153, 201, 69),\n",
       "                                   rgb(153, 201, 69), rgb(153, 201, 69), rgb(153,\n",
       "                                   201, 69), rgb(153, 201, 69), rgb(153, 201, 69),\n",
       "                                   rgb(153, 201, 69), rgb(153, 201, 69), rgb(153,\n",
       "                                   201, 69), rgb(153, 201, 69), rgb(153, 201, 69),\n",
       "                                   rgb(153, 201, 69), rgb(153, 201, 69), rgb(153,\n",
       "                                   201, 69), rgb(153, 201, 69), rgb(153, 201, 69),\n",
       "                                   rgb(153, 201, 69), rgb(153, 201, 69), rgb(153,\n",
       "                                   201, 69), rgb(153, 201, 69), rgb(153, 201, 69),\n",
       "                                   rgb(153, 201, 69), rgb(153, 201, 69), rgb(153,\n",
       "                                   201, 69), rgb(153, 201, 69), rgb(153, 201, 69),\n",
       "                                   rgb(153, 201, 69), rgb(153, 201, 69), rgb(153,\n",
       "                                   201, 69), rgb(153, 201, 69), rgb(153, 201, 69),\n",
       "                                   rgb(153, 201, 69), rgb(153, 201, 69), rgb(153,\n",
       "                                   201, 69), rgb(153, 201, 69), rgb(153, 201, 69)],\n",
       "                         'size': [10, 10, 10, 10, 10, 10, 10, 10, 10, 10, 10, 10,\n",
       "                                  10, 10, 10, 10, 10, 10, 10, 10, 10, 10, 10, 10,\n",
       "                                  10, 10, 10, 10, 10, 10, 10, 10, 10, 10, 10, 10,\n",
       "                                  10, 10, 10, 10, 10, 10, 10, 10, 10, 10, 10, 10,\n",
       "                                  10, 10, 10, 10, 10, 10, 10, 10, 10, 10, 10, 10,\n",
       "                                  10, 10, 10, 10, 10, 10, 10, 10, 10, 10, 10, 10,\n",
       "                                  10, 10, 10, 10, 10, 10, 10, 10, 10, 10, 10, 10,\n",
       "                                  10, 10, 10, 10, 10, 10, 10, 10, 10, 10, 10, 10,\n",
       "                                  10, 10, 10, 10, 10, 10, 10, 10, 10, 10, 10, 10,\n",
       "                                  10, 10, 10, 10, 10, 10, 10, 10, 10, 10, 10, 10,\n",
       "                                  10, 10, 10, 10, 10, 10, 10, 10, 10, 10, 10, 10,\n",
       "                                  10, 10, 10, 10, 10, 10, 10, 10, 10, 10, 10, 10,\n",
       "                                  10, 10, 10, 10, 10, 10]},\n",
       "              'mode': 'markers',\n",
       "              'type': 'scatter',\n",
       "              'uid': '7cbd0a55-7352-453d-bf48-093f6f10e4e6',\n",
       "              'x': array([3.5, 3. , 3.2, 3.1, 3.6, 3.9, 3.4, 3.4, 2.9, 3.1, 3.7, 3.4, 3. , 3. ,\n",
       "                          4. , 4.4, 3.9, 3.5, 3.8, 3.8, 3.4, 3.7, 3.6, 3.3, 3.4, 3. , 3.4, 3.5,\n",
       "                          3.4, 3.2, 3.1, 3.4, 4.1, 4.2, 3.1, 3.2, 3.5, 3.1, 3. , 3.4, 3.5, 2.3,\n",
       "                          3.2, 3.5, 3.8, 3. , 3.8, 3.2, 3.7, 3.3, 3.2, 3.2, 3.1, 2.3, 2.8, 2.8,\n",
       "                          3.3, 2.4, 2.9, 2.7, 2. , 3. , 2.2, 2.9, 2.9, 3.1, 3. , 2.7, 2.2, 2.5,\n",
       "                          3.2, 2.8, 2.5, 2.8, 2.9, 3. , 2.8, 3. , 2.9, 2.6, 2.4, 2.4, 2.7, 2.7,\n",
       "                          3. , 3.4, 3.1, 2.3, 3. , 2.5, 2.6, 3. , 2.6, 2.3, 2.7, 3. , 2.9, 2.9,\n",
       "                          2.5, 2.8, 3.3, 2.7, 3. , 2.9, 3. , 3. , 2.5, 2.9, 2.5, 3.6, 3.2, 2.7,\n",
       "                          3. , 2.5, 2.8, 3.2, 3. , 3.8, 2.6, 2.2, 3.2, 2.8, 2.8, 2.7, 3.3, 3.2,\n",
       "                          2.8, 3. , 2.8, 3. , 2.8, 3.8, 2.8, 2.8, 2.6, 3. , 3.4, 3.1, 3. , 3.1,\n",
       "                          3.1, 3.1, 2.7, 3.2, 3.3, 3. , 2.5, 3. , 3.4, 3. ]),\n",
       "              'y': array([5.1, 4.9, 4.7, 4.6, 5. , 5.4, 4.6, 5. , 4.4, 4.9, 5.4, 4.8, 4.8, 4.3,\n",
       "                          5.8, 5.7, 5.4, 5.1, 5.7, 5.1, 5.4, 5.1, 4.6, 5.1, 4.8, 5. , 5. , 5.2,\n",
       "                          5.2, 4.7, 4.8, 5.4, 5.2, 5.5, 4.9, 5. , 5.5, 4.9, 4.4, 5.1, 5. , 4.5,\n",
       "                          4.4, 5. , 5.1, 4.8, 5.1, 4.6, 5.3, 5. , 7. , 6.4, 6.9, 5.5, 6.5, 5.7,\n",
       "                          6.3, 4.9, 6.6, 5.2, 5. , 5.9, 6. , 6.1, 5.6, 6.7, 5.6, 5.8, 6.2, 5.6,\n",
       "                          5.9, 6.1, 6.3, 6.1, 6.4, 6.6, 6.8, 6.7, 6. , 5.7, 5.5, 5.5, 5.8, 6. ,\n",
       "                          5.4, 6. , 6.7, 6.3, 5.6, 5.5, 5.5, 6.1, 5.8, 5. , 5.6, 5.7, 5.7, 6.2,\n",
       "                          5.1, 5.7, 6.3, 5.8, 7.1, 6.3, 6.5, 7.6, 4.9, 7.3, 6.7, 7.2, 6.5, 6.4,\n",
       "                          6.8, 5.7, 5.8, 6.4, 6.5, 7.7, 7.7, 6. , 6.9, 5.6, 7.7, 6.3, 6.7, 7.2,\n",
       "                          6.2, 6.1, 6.4, 7.2, 7.4, 7.9, 6.4, 6.3, 6.1, 7.7, 6.3, 6.4, 6. , 6.9,\n",
       "                          6.7, 6.9, 5.8, 6.8, 6.7, 6.7, 6.3, 6.5, 6.2, 5.9])}],\n",
       "    'layout': {'hovermode': 'closest',\n",
       "               'template': '...',\n",
       "               'xaxis': {'range': [1.8, 4.5], 'title': {'text': 'Sepal width'}},\n",
       "               'yaxis': {'range': [4, 8.1], 'title': {'text': 'Sepal length'}}}\n",
       "})"
      ]
     },
     "execution_count": 2,
     "metadata": {},
     "output_type": "execute_result"
    }
   ],
   "source": [
    "import plotly.graph_objects as go\n",
    "\n",
    "df = px.data.iris()\n",
    "x = df[\"sepal_width\"]\n",
    "y = df[\"sepal_length\"]\n",
    "\n",
    "# Main plot\n",
    "f = go.FigureWidget([go.Scatter(x=x, y=y, mode='markers')])\n",
    "f.update_layout(xaxis_title=\"Sepal width\", yaxis_title=\"Sepal length\")\n",
    "# Set xlimits and ylimits\n",
    "f.update_yaxes(range=[4, 8.1])\n",
    "f.update_xaxes(range=[1.8, 4.5])\n",
    "\n",
    "# Create a color list based on px.colors.qualitative.Vivid which has three colors.\n",
    "colors = [px.colors.qualitative.Vivid[i] for i in df[\"species_id\"]]\n",
    "sizes = [10] * len(x)\n",
    "\n",
    "# Attributes of the scatter object\n",
    "scatter = f.data[0]\n",
    "scatter.marker.color = colors\n",
    "scatter.marker.size = [10] * len(x)\n",
    "f.layout.hovermode = 'closest'\n",
    "\n",
    "# Create our callback function\n",
    "def update_point(trace, points, selector):\n",
    "    species = df[\"species_id\"][points.point_inds[0]]\n",
    "    # Change all ellements in cols that have df.species != species gray\n",
    "    # to '#bae2be'. Keep in mind that df.species is a series and that cols is a list.\n",
    "    cols = ['#888888' if s != species else px.colors.qualitative.Vivid[s] for s in df.species_id]\n",
    "    size = [12 if s == species else 10 for s in df.species_id]\n",
    "    \n",
    "    with f.batch_update():\n",
    "        scatter.marker.color = cols\n",
    "        scatter.marker.size = size\n",
    "\n",
    "def reset_point(trace, points, selector):\n",
    "    with f.batch_update():\n",
    "        scatter.marker.color = colors\n",
    "        scatter.marker.size = sizes\n",
    "\n",
    "# Assign the callback function to the scatter object\n",
    "scatter.on_hover(update_point)\n",
    "scatter.on_unhover(reset_point)\n",
    "\n",
    "f # Do not use .show() or the figure will not be interactive"
   ]
  },
  {
   "cell_type": "markdown",
   "metadata": {
    "slideshow": {
     "slide_type": "slide"
    },
    "tags": []
   },
   "source": [
    "### Outliers/alerts\n",
    "- The same basic techniques can be used as with focused elements, but the message should be stronger.\n",
    "- Where a focused element may obtain a more intense colour or grow slightly, a proper contrast colour, typically bright red, is needed for outliers that warrant an alert.\n",
    "- For outliers that are seen as part of the background noise, the symbolics should not be as strong."
   ]
  },
  {
   "cell_type": "code",
   "execution_count": 3,
   "metadata": {
    "slideshow": {
     "slide_type": "slide"
    },
    "tags": []
   },
   "outputs": [
    {
     "data": {
      "application/vnd.plotly.v1+json": {
       "config": {
        "plotlyServerURL": "https://plot.ly"
       },
       "data": [
        {
         "marker": {
          "color": "black",
          "size": 12,
          "symbol": "cross"
         },
         "mode": "markers",
         "showlegend": false,
         "type": "scatter",
         "x": [
          4.4,
          2
         ],
         "y": [
          5.7,
          5
         ]
        },
        {
         "marker": {
          "color": "red",
          "size": 12,
          "symbol": "cross-open"
         },
         "mode": "markers",
         "showlegend": false,
         "type": "scatter",
         "x": [
          4.4,
          2
         ],
         "y": [
          5.7,
          5
         ]
        },
        {
         "hovertemplate": "species=setosa<br>sepal_width=%{x}<br>sepal_length=%{y}<extra></extra>",
         "legendgroup": "setosa",
         "marker": {
          "color": "#636efa",
          "symbol": "circle"
         },
         "mode": "markers",
         "name": "setosa",
         "orientation": "v",
         "showlegend": true,
         "type": "scatter",
         "x": [
          3.5,
          3,
          3.2,
          3.1,
          3.6,
          3.9,
          3.4,
          3.4,
          2.9,
          3.1,
          3.7,
          3.4,
          3,
          3,
          4,
          4.4,
          3.9,
          3.5,
          3.8,
          3.8,
          3.4,
          3.7,
          3.6,
          3.3,
          3.4,
          3,
          3.4,
          3.5,
          3.4,
          3.2,
          3.1,
          3.4,
          4.1,
          4.2,
          3.1,
          3.2,
          3.5,
          3.1,
          3,
          3.4,
          3.5,
          2.3,
          3.2,
          3.5,
          3.8,
          3,
          3.8,
          3.2,
          3.7,
          3.3
         ],
         "xaxis": "x",
         "y": [
          5.1,
          4.9,
          4.7,
          4.6,
          5,
          5.4,
          4.6,
          5,
          4.4,
          4.9,
          5.4,
          4.8,
          4.8,
          4.3,
          5.8,
          5.7,
          5.4,
          5.1,
          5.7,
          5.1,
          5.4,
          5.1,
          4.6,
          5.1,
          4.8,
          5,
          5,
          5.2,
          5.2,
          4.7,
          4.8,
          5.4,
          5.2,
          5.5,
          4.9,
          5,
          5.5,
          4.9,
          4.4,
          5.1,
          5,
          4.5,
          4.4,
          5,
          5.1,
          4.8,
          5.1,
          4.6,
          5.3,
          5
         ],
         "yaxis": "y"
        },
        {
         "hovertemplate": "species=versicolor<br>sepal_width=%{x}<br>sepal_length=%{y}<extra></extra>",
         "legendgroup": "versicolor",
         "marker": {
          "color": "#EF553B",
          "symbol": "circle"
         },
         "mode": "markers",
         "name": "versicolor",
         "orientation": "v",
         "showlegend": true,
         "type": "scatter",
         "x": [
          3.2,
          3.2,
          3.1,
          2.3,
          2.8,
          2.8,
          3.3,
          2.4,
          2.9,
          2.7,
          2,
          3,
          2.2,
          2.9,
          2.9,
          3.1,
          3,
          2.7,
          2.2,
          2.5,
          3.2,
          2.8,
          2.5,
          2.8,
          2.9,
          3,
          2.8,
          3,
          2.9,
          2.6,
          2.4,
          2.4,
          2.7,
          2.7,
          3,
          3.4,
          3.1,
          2.3,
          3,
          2.5,
          2.6,
          3,
          2.6,
          2.3,
          2.7,
          3,
          2.9,
          2.9,
          2.5,
          2.8
         ],
         "xaxis": "x",
         "y": [
          7,
          6.4,
          6.9,
          5.5,
          6.5,
          5.7,
          6.3,
          4.9,
          6.6,
          5.2,
          5,
          5.9,
          6,
          6.1,
          5.6,
          6.7,
          5.6,
          5.8,
          6.2,
          5.6,
          5.9,
          6.1,
          6.3,
          6.1,
          6.4,
          6.6,
          6.8,
          6.7,
          6,
          5.7,
          5.5,
          5.5,
          5.8,
          6,
          5.4,
          6,
          6.7,
          6.3,
          5.6,
          5.5,
          5.5,
          6.1,
          5.8,
          5,
          5.6,
          5.7,
          5.7,
          6.2,
          5.1,
          5.7
         ],
         "yaxis": "y"
        },
        {
         "hovertemplate": "species=virginica<br>sepal_width=%{x}<br>sepal_length=%{y}<extra></extra>",
         "legendgroup": "virginica",
         "marker": {
          "color": "#00cc96",
          "symbol": "circle"
         },
         "mode": "markers",
         "name": "virginica",
         "orientation": "v",
         "showlegend": true,
         "type": "scatter",
         "x": [
          3.3,
          2.7,
          3,
          2.9,
          3,
          3,
          2.5,
          2.9,
          2.5,
          3.6,
          3.2,
          2.7,
          3,
          2.5,
          2.8,
          3.2,
          3,
          3.8,
          2.6,
          2.2,
          3.2,
          2.8,
          2.8,
          2.7,
          3.3,
          3.2,
          2.8,
          3,
          2.8,
          3,
          2.8,
          3.8,
          2.8,
          2.8,
          2.6,
          3,
          3.4,
          3.1,
          3,
          3.1,
          3.1,
          3.1,
          2.7,
          3.2,
          3.3,
          3,
          2.5,
          3,
          3.4,
          3
         ],
         "xaxis": "x",
         "y": [
          6.3,
          5.8,
          7.1,
          6.3,
          6.5,
          7.6,
          4.9,
          7.3,
          6.7,
          7.2,
          6.5,
          6.4,
          6.8,
          5.7,
          5.8,
          6.4,
          6.5,
          7.7,
          7.7,
          6,
          6.9,
          5.6,
          7.7,
          6.3,
          6.7,
          7.2,
          6.2,
          6.1,
          6.4,
          7.2,
          7.4,
          7.9,
          6.4,
          6.3,
          6.1,
          7.7,
          6.3,
          6.4,
          6,
          6.9,
          6.7,
          6.9,
          5.8,
          6.8,
          6.7,
          6.7,
          6.3,
          6.5,
          6.2,
          5.9
         ],
         "yaxis": "y"
        }
       ],
       "layout": {
        "legend": {
         "title": {
          "text": "species"
         },
         "tracegroupgap": 0
        },
        "margin": {
         "t": 60
        },
        "template": {
         "data": {
          "bar": [
           {
            "error_x": {
             "color": "#2a3f5f"
            },
            "error_y": {
             "color": "#2a3f5f"
            },
            "marker": {
             "line": {
              "color": "#E5ECF6",
              "width": 0.5
             },
             "pattern": {
              "fillmode": "overlay",
              "size": 10,
              "solidity": 0.2
             }
            },
            "type": "bar"
           }
          ],
          "barpolar": [
           {
            "marker": {
             "line": {
              "color": "#E5ECF6",
              "width": 0.5
             },
             "pattern": {
              "fillmode": "overlay",
              "size": 10,
              "solidity": 0.2
             }
            },
            "type": "barpolar"
           }
          ],
          "carpet": [
           {
            "aaxis": {
             "endlinecolor": "#2a3f5f",
             "gridcolor": "white",
             "linecolor": "white",
             "minorgridcolor": "white",
             "startlinecolor": "#2a3f5f"
            },
            "baxis": {
             "endlinecolor": "#2a3f5f",
             "gridcolor": "white",
             "linecolor": "white",
             "minorgridcolor": "white",
             "startlinecolor": "#2a3f5f"
            },
            "type": "carpet"
           }
          ],
          "choropleth": [
           {
            "colorbar": {
             "outlinewidth": 0,
             "ticks": ""
            },
            "type": "choropleth"
           }
          ],
          "contour": [
           {
            "colorbar": {
             "outlinewidth": 0,
             "ticks": ""
            },
            "colorscale": [
             [
              0,
              "#0d0887"
             ],
             [
              0.1111111111111111,
              "#46039f"
             ],
             [
              0.2222222222222222,
              "#7201a8"
             ],
             [
              0.3333333333333333,
              "#9c179e"
             ],
             [
              0.4444444444444444,
              "#bd3786"
             ],
             [
              0.5555555555555556,
              "#d8576b"
             ],
             [
              0.6666666666666666,
              "#ed7953"
             ],
             [
              0.7777777777777778,
              "#fb9f3a"
             ],
             [
              0.8888888888888888,
              "#fdca26"
             ],
             [
              1,
              "#f0f921"
             ]
            ],
            "type": "contour"
           }
          ],
          "contourcarpet": [
           {
            "colorbar": {
             "outlinewidth": 0,
             "ticks": ""
            },
            "type": "contourcarpet"
           }
          ],
          "heatmap": [
           {
            "colorbar": {
             "outlinewidth": 0,
             "ticks": ""
            },
            "colorscale": [
             [
              0,
              "#0d0887"
             ],
             [
              0.1111111111111111,
              "#46039f"
             ],
             [
              0.2222222222222222,
              "#7201a8"
             ],
             [
              0.3333333333333333,
              "#9c179e"
             ],
             [
              0.4444444444444444,
              "#bd3786"
             ],
             [
              0.5555555555555556,
              "#d8576b"
             ],
             [
              0.6666666666666666,
              "#ed7953"
             ],
             [
              0.7777777777777778,
              "#fb9f3a"
             ],
             [
              0.8888888888888888,
              "#fdca26"
             ],
             [
              1,
              "#f0f921"
             ]
            ],
            "type": "heatmap"
           }
          ],
          "heatmapgl": [
           {
            "colorbar": {
             "outlinewidth": 0,
             "ticks": ""
            },
            "colorscale": [
             [
              0,
              "#0d0887"
             ],
             [
              0.1111111111111111,
              "#46039f"
             ],
             [
              0.2222222222222222,
              "#7201a8"
             ],
             [
              0.3333333333333333,
              "#9c179e"
             ],
             [
              0.4444444444444444,
              "#bd3786"
             ],
             [
              0.5555555555555556,
              "#d8576b"
             ],
             [
              0.6666666666666666,
              "#ed7953"
             ],
             [
              0.7777777777777778,
              "#fb9f3a"
             ],
             [
              0.8888888888888888,
              "#fdca26"
             ],
             [
              1,
              "#f0f921"
             ]
            ],
            "type": "heatmapgl"
           }
          ],
          "histogram": [
           {
            "marker": {
             "pattern": {
              "fillmode": "overlay",
              "size": 10,
              "solidity": 0.2
             }
            },
            "type": "histogram"
           }
          ],
          "histogram2d": [
           {
            "colorbar": {
             "outlinewidth": 0,
             "ticks": ""
            },
            "colorscale": [
             [
              0,
              "#0d0887"
             ],
             [
              0.1111111111111111,
              "#46039f"
             ],
             [
              0.2222222222222222,
              "#7201a8"
             ],
             [
              0.3333333333333333,
              "#9c179e"
             ],
             [
              0.4444444444444444,
              "#bd3786"
             ],
             [
              0.5555555555555556,
              "#d8576b"
             ],
             [
              0.6666666666666666,
              "#ed7953"
             ],
             [
              0.7777777777777778,
              "#fb9f3a"
             ],
             [
              0.8888888888888888,
              "#fdca26"
             ],
             [
              1,
              "#f0f921"
             ]
            ],
            "type": "histogram2d"
           }
          ],
          "histogram2dcontour": [
           {
            "colorbar": {
             "outlinewidth": 0,
             "ticks": ""
            },
            "colorscale": [
             [
              0,
              "#0d0887"
             ],
             [
              0.1111111111111111,
              "#46039f"
             ],
             [
              0.2222222222222222,
              "#7201a8"
             ],
             [
              0.3333333333333333,
              "#9c179e"
             ],
             [
              0.4444444444444444,
              "#bd3786"
             ],
             [
              0.5555555555555556,
              "#d8576b"
             ],
             [
              0.6666666666666666,
              "#ed7953"
             ],
             [
              0.7777777777777778,
              "#fb9f3a"
             ],
             [
              0.8888888888888888,
              "#fdca26"
             ],
             [
              1,
              "#f0f921"
             ]
            ],
            "type": "histogram2dcontour"
           }
          ],
          "mesh3d": [
           {
            "colorbar": {
             "outlinewidth": 0,
             "ticks": ""
            },
            "type": "mesh3d"
           }
          ],
          "parcoords": [
           {
            "line": {
             "colorbar": {
              "outlinewidth": 0,
              "ticks": ""
             }
            },
            "type": "parcoords"
           }
          ],
          "pie": [
           {
            "automargin": true,
            "type": "pie"
           }
          ],
          "scatter": [
           {
            "fillpattern": {
             "fillmode": "overlay",
             "size": 10,
             "solidity": 0.2
            },
            "type": "scatter"
           }
          ],
          "scatter3d": [
           {
            "line": {
             "colorbar": {
              "outlinewidth": 0,
              "ticks": ""
             }
            },
            "marker": {
             "colorbar": {
              "outlinewidth": 0,
              "ticks": ""
             }
            },
            "type": "scatter3d"
           }
          ],
          "scattercarpet": [
           {
            "marker": {
             "colorbar": {
              "outlinewidth": 0,
              "ticks": ""
             }
            },
            "type": "scattercarpet"
           }
          ],
          "scattergeo": [
           {
            "marker": {
             "colorbar": {
              "outlinewidth": 0,
              "ticks": ""
             }
            },
            "type": "scattergeo"
           }
          ],
          "scattergl": [
           {
            "marker": {
             "colorbar": {
              "outlinewidth": 0,
              "ticks": ""
             }
            },
            "type": "scattergl"
           }
          ],
          "scattermapbox": [
           {
            "marker": {
             "colorbar": {
              "outlinewidth": 0,
              "ticks": ""
             }
            },
            "type": "scattermapbox"
           }
          ],
          "scatterpolar": [
           {
            "marker": {
             "colorbar": {
              "outlinewidth": 0,
              "ticks": ""
             }
            },
            "type": "scatterpolar"
           }
          ],
          "scatterpolargl": [
           {
            "marker": {
             "colorbar": {
              "outlinewidth": 0,
              "ticks": ""
             }
            },
            "type": "scatterpolargl"
           }
          ],
          "scatterternary": [
           {
            "marker": {
             "colorbar": {
              "outlinewidth": 0,
              "ticks": ""
             }
            },
            "type": "scatterternary"
           }
          ],
          "surface": [
           {
            "colorbar": {
             "outlinewidth": 0,
             "ticks": ""
            },
            "colorscale": [
             [
              0,
              "#0d0887"
             ],
             [
              0.1111111111111111,
              "#46039f"
             ],
             [
              0.2222222222222222,
              "#7201a8"
             ],
             [
              0.3333333333333333,
              "#9c179e"
             ],
             [
              0.4444444444444444,
              "#bd3786"
             ],
             [
              0.5555555555555556,
              "#d8576b"
             ],
             [
              0.6666666666666666,
              "#ed7953"
             ],
             [
              0.7777777777777778,
              "#fb9f3a"
             ],
             [
              0.8888888888888888,
              "#fdca26"
             ],
             [
              1,
              "#f0f921"
             ]
            ],
            "type": "surface"
           }
          ],
          "table": [
           {
            "cells": {
             "fill": {
              "color": "#EBF0F8"
             },
             "line": {
              "color": "white"
             }
            },
            "header": {
             "fill": {
              "color": "#C8D4E3"
             },
             "line": {
              "color": "white"
             }
            },
            "type": "table"
           }
          ]
         },
         "layout": {
          "annotationdefaults": {
           "arrowcolor": "#2a3f5f",
           "arrowhead": 0,
           "arrowwidth": 1
          },
          "autotypenumbers": "strict",
          "coloraxis": {
           "colorbar": {
            "outlinewidth": 0,
            "ticks": ""
           }
          },
          "colorscale": {
           "diverging": [
            [
             0,
             "#8e0152"
            ],
            [
             0.1,
             "#c51b7d"
            ],
            [
             0.2,
             "#de77ae"
            ],
            [
             0.3,
             "#f1b6da"
            ],
            [
             0.4,
             "#fde0ef"
            ],
            [
             0.5,
             "#f7f7f7"
            ],
            [
             0.6,
             "#e6f5d0"
            ],
            [
             0.7,
             "#b8e186"
            ],
            [
             0.8,
             "#7fbc41"
            ],
            [
             0.9,
             "#4d9221"
            ],
            [
             1,
             "#276419"
            ]
           ],
           "sequential": [
            [
             0,
             "#0d0887"
            ],
            [
             0.1111111111111111,
             "#46039f"
            ],
            [
             0.2222222222222222,
             "#7201a8"
            ],
            [
             0.3333333333333333,
             "#9c179e"
            ],
            [
             0.4444444444444444,
             "#bd3786"
            ],
            [
             0.5555555555555556,
             "#d8576b"
            ],
            [
             0.6666666666666666,
             "#ed7953"
            ],
            [
             0.7777777777777778,
             "#fb9f3a"
            ],
            [
             0.8888888888888888,
             "#fdca26"
            ],
            [
             1,
             "#f0f921"
            ]
           ],
           "sequentialminus": [
            [
             0,
             "#0d0887"
            ],
            [
             0.1111111111111111,
             "#46039f"
            ],
            [
             0.2222222222222222,
             "#7201a8"
            ],
            [
             0.3333333333333333,
             "#9c179e"
            ],
            [
             0.4444444444444444,
             "#bd3786"
            ],
            [
             0.5555555555555556,
             "#d8576b"
            ],
            [
             0.6666666666666666,
             "#ed7953"
            ],
            [
             0.7777777777777778,
             "#fb9f3a"
            ],
            [
             0.8888888888888888,
             "#fdca26"
            ],
            [
             1,
             "#f0f921"
            ]
           ]
          },
          "colorway": [
           "#636efa",
           "#EF553B",
           "#00cc96",
           "#ab63fa",
           "#FFA15A",
           "#19d3f3",
           "#FF6692",
           "#B6E880",
           "#FF97FF",
           "#FECB52"
          ],
          "font": {
           "color": "#2a3f5f"
          },
          "geo": {
           "bgcolor": "white",
           "lakecolor": "white",
           "landcolor": "#E5ECF6",
           "showlakes": true,
           "showland": true,
           "subunitcolor": "white"
          },
          "hoverlabel": {
           "align": "left"
          },
          "hovermode": "closest",
          "mapbox": {
           "style": "light"
          },
          "paper_bgcolor": "white",
          "plot_bgcolor": "#E5ECF6",
          "polar": {
           "angularaxis": {
            "gridcolor": "white",
            "linecolor": "white",
            "ticks": ""
           },
           "bgcolor": "#E5ECF6",
           "radialaxis": {
            "gridcolor": "white",
            "linecolor": "white",
            "ticks": ""
           }
          },
          "scene": {
           "xaxis": {
            "backgroundcolor": "#E5ECF6",
            "gridcolor": "white",
            "gridwidth": 2,
            "linecolor": "white",
            "showbackground": true,
            "ticks": "",
            "zerolinecolor": "white"
           },
           "yaxis": {
            "backgroundcolor": "#E5ECF6",
            "gridcolor": "white",
            "gridwidth": 2,
            "linecolor": "white",
            "showbackground": true,
            "ticks": "",
            "zerolinecolor": "white"
           },
           "zaxis": {
            "backgroundcolor": "#E5ECF6",
            "gridcolor": "white",
            "gridwidth": 2,
            "linecolor": "white",
            "showbackground": true,
            "ticks": "",
            "zerolinecolor": "white"
           }
          },
          "shapedefaults": {
           "line": {
            "color": "#2a3f5f"
           }
          },
          "ternary": {
           "aaxis": {
            "gridcolor": "white",
            "linecolor": "white",
            "ticks": ""
           },
           "baxis": {
            "gridcolor": "white",
            "linecolor": "white",
            "ticks": ""
           },
           "bgcolor": "#E5ECF6",
           "caxis": {
            "gridcolor": "white",
            "linecolor": "white",
            "ticks": ""
           }
          },
          "title": {
           "x": 0.05
          },
          "xaxis": {
           "automargin": true,
           "gridcolor": "white",
           "linecolor": "white",
           "ticks": "",
           "title": {
            "standoff": 15
           },
           "zerolinecolor": "white",
           "zerolinewidth": 2
          },
          "yaxis": {
           "automargin": true,
           "gridcolor": "white",
           "linecolor": "white",
           "ticks": "",
           "title": {
            "standoff": 15
           },
           "zerolinecolor": "white",
           "zerolinewidth": 2
          }
         }
        },
        "title": {
         "text": "Can you spot the outliers?"
        },
        "xaxis": {
         "anchor": "y",
         "domain": [
          0,
          1
         ],
         "title": {
          "text": "Sepal width"
         }
        },
        "yaxis": {
         "anchor": "x",
         "domain": [
          0,
          1
         ],
         "title": {
          "text": "Sepal length"
         }
        }
       }
      }
     },
     "metadata": {},
     "output_type": "display_data"
    }
   ],
   "source": [
    "df = px.data.iris()\n",
    "fig = px.scatter(df, x=\"sepal_width\", y=\"sepal_length\", color=\"species\")\n",
    "# Add a red cross behind the samples with lowest and highets sepal width\n",
    "df_extreme = df[(df.sepal_width == df.sepal_width.min()) | (df.sepal_width == df.sepal_width.max())]\n",
    "fig.add_trace(go.Scatter(x=df_extreme.sepal_width, y=df_extreme.sepal_length, mode=\"markers\", marker=dict(color=\"black\", size=12, symbol=\"cross\"), showlegend=False))\n",
    "fig.add_trace(go.Scatter(x=df_extreme.sepal_width, y=df_extreme.sepal_length, mode=\"markers\", marker=dict(color=\"red\", size=12, symbol=\"cross-open\"), showlegend=False))\n",
    "# Traces are plotted in the order they are added. To plot the crosses behind the original data, we need to change the order of the traces.\n",
    "fig.data = (fig.data[3], fig.data[4], fig.data[0], fig.data[1], fig.data[2])\n",
    "# Add title and axis labels\n",
    "fig.update_layout(title=\"Can you spot the outliers?\", xaxis_title=\"Sepal width\", yaxis_title=\"Sepal length\")\n",
    "fig.show()"
   ]
  },
  {
   "cell_type": "code",
   "execution_count": 4,
   "metadata": {
    "slideshow": {
     "slide_type": "slide"
    },
    "tags": []
   },
   "outputs": [
    {
     "data": {
      "application/vnd.plotly.v1+json": {
       "config": {
        "plotlyServerURL": "https://plot.ly"
       },
       "data": [
        {
         "hovertemplate": "x=%{x}<br>y=%{y}<extra></extra>",
         "legendgroup": "",
         "marker": {
          "color": "blue",
          "opacity": 0.2,
          "symbol": "circle"
         },
         "mode": "markers",
         "name": "",
         "orientation": "v",
         "showlegend": false,
         "type": "scatter",
         "x": [
          -0.6117564136500754,
          -2.3015386968802827,
          -2.060140709497654,
          -0.9357694342590688,
          -1.1173103486352778,
          -0.19183555236161492,
          2.100255136478842,
          -1.1425181980221402,
          1.5198168164221988,
          2.1855754065331614,
          -1.4441138054295894,
          0.8761689211162249,
          -2.022201215824003,
          0.2300947353643834,
          1.1294839079119197,
          1.2245077048054989,
          -0.038695509266051115,
          1.2737559301587766,
          1.9671017492547347,
          -1.2300581356669618,
          -2.434837764107139,
          2.1869796469742577,
          2.1906997289697334,
          -1.8963609228910925,
          0.901486891648711,
          2.528325706806398,
          -1.7606885603987834,
          -1.6507212658241002,
          1.956078903703642,
          2.4493686490613973,
          -0.20339444896455844,
          -0.861316360776042,
          -2.79308500014654,
          1.9375288136160798,
          2.0511734428574444,
          -1.44087602429184,
          1.3998439424809859,
          0.9214500686595114,
          0.5859104311026156,
          2.0657833202188343,
          -1.471156925832625,
          3.0308571123720305,
          -2.037201225680795,
          -2.506440652676061,
          -2.114163921916826,
          0.3235273536014321,
          -0.19505734087590118,
          -2.7825344676529227,
          1.8347176266496867,
          2.1378280674394823,
          -1.5387932457446432,
          1.7679599483110264,
          0.47761018181755727,
          -1.0218859446413093,
          -1.8731609776353015,
          2.1106050536007097,
          -2.1424667290773685,
          2.0563555231982935,
          -2.4135030011737877,
          1.1158411079241686,
          0.3102722877837673,
          -2.094247816222812,
          2.054624102518116,
          -0.4791570987860799,
          1.7897546832062712,
          0.4512840160401709,
          0.3865391451330911,
          0.6085146984848496,
          0.45015551276717897,
          -0.5084571342754007,
          1.8664713751521251,
          -1.9521052872452325,
          1.7045941713724069,
          -0.918440038300026,
          0.630195670684911,
          -2.2370865111124707,
          -1.1077125022845524,
          -1.719394474619523,
          -0.8088471964721285,
          1.6209122856217475,
          -0.8061848173822241,
          -0.2516742076314244,
          -1.7879128911997157,
          -2.2271126318500145,
          3.9586027040379634,
          -0.45994283084068716,
          -0.62944160405378,
          -0.06741002494685439,
          -2.516303860965749,
          1.4539175816088175,
          -1.9450469586120391,
          -0.9154243682317061,
          1.2251558492732308,
          -1.8239198526251938,
          0.18986164938309566,
          -0.22875417122021255,
          -1.039182322034903,
          -1.8988120593192948,
          1.5754679085723808,
          -2.7909964066938464,
          1.3471054646704976,
          -0.8986831933186461,
          0.31815419967868935,
          -1.1958615103244818,
          2.505980285318673,
          1.9197922864280879,
          -0.49112513779081807,
          -1.3486964467972422,
          -0.36261208757725877,
          -1.4851564513254543,
          -2.304907937770138,
          0.11248774241419583,
          -2.076802021923554,
          3.3210787561703645,
          -2.698361741666047,
          -1.2133381258287046,
          0.3212659144838316,
          -1.8814108671660597,
          -2.1444440467284505,
          -1.9581690855990108,
          -1.9406809643648932,
          -2.0863905654565262,
          1.108616757989675,
          -0.7029204029101687,
          1.8514378945735097,
          1.5550159943330888,
          2.3901459623335115,
          2.293717612357178,
          2.428876969522979,
          1.0056866803112163,
          1.4176740129993604,
          -3.053764380426305,
          -1.5526987831768355,
          1.923815425970925,
          1.8035889814864974,
          -0.28638491539517374,
          1.6316915136307972,
          1.0689859716189178,
          0.9351477795910749,
          1.8125278151175406,
          1.2198743790306215,
          0.3923349111243075,
          -0.3145638619172873,
          -2.298205880537852,
          1.456527386472777,
          -2.664125939262139,
          -0.9732675852492401,
          -2.2772979966603657
         ],
         "xaxis": "x",
         "y": [
          -2.432508512647113,
          -0.8714220655949576,
          -1.3516493853176743,
          2.029997487440461,
          2.5654527807167797,
          -2.1810279670819495,
          1.175178687557355,
          -1.9757301418738367,
          -1.479580034616112,
          -0.24070050175198632,
          -2.048200458740775,
          2.369730189064904,
          -0.8708015526080608,
          -1.9878295313946217,
          -1.7632498009912314,
          1.9865651109424,
          -2.3080385136282993,
          -2.514924624405778,
          0.8146250149842883,
          2.2347217376258857,
          -0.47458986707940803,
          1.7626089014166477,
          -1.749405421729222,
          1.3259226834884819,
          1.9007793197238256,
          -1.4243336751810016,
          1.1459273541343218,
          2.230274147801679,
          1.9288003053541174,
          0.5732654485250398,
          2.917308762873108,
          1.8723032622753264,
          1.5045218666646716,
          -0.5784269725316454,
          1.496405311360214,
          1.6234621032930863,
          1.824818786589987,
          -1.8792869914501684,
          -2.0325397888215875,
          1.0810929930210922,
          1.724391719951887,
          0.14936995811488732,
          0.7573281242970629,
          0.1273146355720885,
          -0.07094967490085848,
          2.82729979405965,
          -2.4982127142596626,
          0.2693974528048613,
          1.6389616031539602,
          0.9037094332179562,
          -2.1606280042996677,
          1.5230967139279845,
          -2.6006418091130947,
          2.7119498738951555,
          1.308932334281501,
          -0.23148483037082923,
          -0.4249831950984578,
          -1.005597221955974,
          -2.17071105907707,
          2.424306619264515,
          2.1503538075928947,
          0.9418661752421255,
          -0.561876346268859,
          2.167937070050156,
          0.9139508148791163,
          2.1138237591194438,
          2.1532334692629522,
          -3.1533574501910486,
          2.0387771395785603,
          -2.6210116358079985,
          1.32041791273182,
          1.5292478634014344,
          1.115489374094808,
          -3.0160319852092985,
          2.0051405255465915,
          -0.20984694852691854,
          1.8971606873858808,
          1.3012248377291613,
          -2.0328934519997985,
          1.18901075705839,
          -2.318428477687406,
          -2.617290094387935,
          1.5373798077309975,
          -0.5007103655935266,
          0.20722994601150022,
          -2.1510431552039577,
          -2.453891930331267,
          2.0181218523403635,
          0.5405331612446118,
          -1.8117537147191385,
          -1.168961344799233,
          -1.8994630996214505,
          -2.539955403305674,
          -1.0713798803867007,
          2.047654837143558,
          3.432663431795559,
          1.829906238047157,
          0.7153334491047734,
          -1.389550238470516,
          -0.34257094231237883,
          1.6309062540803745,
          2.1345515589126642,
          2.384405138467877,
          1.6485510899956075,
          1.4587732107662719,
          -2.0262064158338595,
          2.1722705158214577,
          1.521865766667497,
          -2.7914440379218326,
          2.005561575887981,
          1.5535652215621067,
          -2.2626153263456037,
          0.053782404427079926,
          1.5697555099121938,
          -0.6985706620498542,
          -2.3290411224270056,
          2.2158433358479184,
          0.9639045974419587,
          -1.3768830410058717,
          0.9513818124799459,
          0.6370253187948584,
          0.9301982055403866,
          2.160455726859277,
          1.9989920138971085,
          1.9371315806243106,
          -1.2751138646701632,
          -0.4449950027159164,
          1.469487707806396,
          -0.6074641019327619,
          2.0396722657066246,
          -1.552705874771751,
          -0.16023811578968905,
          -1.9987639441733347,
          0.8959214811709535,
          -0.9626625643799945,
          2.054474761985308,
          1.7012349653430763,
          1.7642850588125585,
          -2.1990579909687993,
          0.9301569973916998,
          1.912068746537096,
          -1.9630750679485995,
          -2.03590243500699,
          0.2854914361618232,
          2.1087484299986263,
          -1.2633809410664474,
          2.1723327962554255,
          0.5609180584133466
         ],
         "yaxis": "y"
        },
        {
         "marker": {
          "color": "blue",
          "opacity": 0.7
         },
         "mode": "markers",
         "showlegend": false,
         "type": "scatter",
         "x": [
          1.6243453636632417,
          -0.5281717522634557,
          -1.0729686221561705,
          0.8654076293246785,
          1.74481176421648,
          -0.7612069008951028,
          0.31903909605709857,
          -0.2493703754774101,
          1.462107937044974,
          -0.3224172040135075,
          -0.38405435466841564,
          1.1337694423354374,
          -1.0998912673140309,
          -0.17242820755043575,
          -0.8778584179213718,
          0.04221374671559283,
          0.5828152137158222,
          -1.1006191772129212,
          1.1447237098396141,
          0.9015907205927955,
          0.5024943389018682,
          0.9008559492644118,
          -0.6837278591743331,
          -0.12289022551864817,
          -0.2678880796260159,
          0.530355466738186,
          -0.691660751725309,
          -0.39675352685597737,
          -0.6871727001195994,
          -0.8452056414987196,
          -0.671246130836819,
          -0.01266459891890136,
          0.23441569781709215,
          1.6598021771098705,
          0.7420441605773356,
          -0.8876289640848363,
          -0.7471582937508376,
          1.6924546010277466,
          0.05080775477602897,
          -0.6369956465693534,
          0.19091548466746602,
          0.12015895248162915,
          0.6172031097074192,
          0.3001703199558275,
          -0.35224984649351865,
          -0.3493427224128775,
          -0.2088942333747781,
          0.5866231911821976,
          0.8389834138745049,
          0.9311020813035573,
          0.2855873252542588,
          0.8851411642707281,
          -0.7543979409966528,
          1.2528681552332879,
          0.5129298204180088,
          -0.29809283510271567,
          0.48851814653749703,
          -0.07557171302105573,
          1.131629387451427,
          -1.3964963354881377,
          -0.5044658629464512,
          0.16003706944783047,
          0.31563494724160523,
          -0.3062040126283718,
          0.8279746426072462,
          0.7620111803120247,
          -0.22232814261035927,
          -0.20075806892999745,
          0.1865613909882843,
          0.4100516472082563,
          0.19829972012676975,
          0.11900864580745882,
          -0.6706622862890306,
          0.3775637863209194,
          0.12182127099143693,
          1.198917879901507,
          0.18515641748394385,
          -0.3752849500901142,
          -0.6387304074542224,
          0.4234943540641129,
          0.07734006834855942,
          -0.3438536755710756,
          0.04359685683424694,
          -0.6200008439481293,
          0.6980320340722189,
          -0.4471285647859982,
          0.4034916417908,
          0.593578523237067,
          -1.0949118457410418,
          0.1693824330586681,
          0.7405564510962748,
          -0.9537006018079346,
          -0.26621850600362207,
          0.03261454669335856,
          -1.3731173202467557,
          0.31515939204229176,
          0.8461606475850334,
          -0.8595159408319863,
          0.35054597866410736,
          -1.3122834112374318,
          -1.6157723547032947,
          1.121417708235664,
          0.4089005379368278,
          -0.024616955875778355,
          -0.7751616191691596,
          -1.857981864446752,
          1.2361640304528203,
          1.6276507531489064,
          0.3380116965744758,
          -1.199268032335186,
          0.8633453175440216,
          -0.18092030207815046,
          -0.6039206277932573,
          0.5505374959762154,
          0.7928068659193477,
          -0.6235307296797916,
          0.5205763370733708,
          -1.1443413896231427,
          0.8018610318713447,
          0.04656729842414554,
          -0.18656977190734877,
          -0.10174587252914521,
          0.8688861570058679,
          0.7504116398650081,
          0.5294653243527092,
          0.13770120999738608,
          0.07782112791270591,
          0.6183802619985245,
          0.23249455917873788,
          0.6825514068644851,
          -0.31011677351806,
          1.038824601859414,
          0.44136444356858207,
          -0.10015523328349978,
          -0.13644474389603303,
          -0.11905418777480989,
          0.0174094083000046,
          -1.1220187287468883,
          -0.5170944579202279,
          -0.997026827650263,
          0.2487991613877705,
          -0.29664115237086275,
          0.4952113239779604,
          -0.17470315974250095,
          0.986335187821242,
          0.21353390133544178,
          -0.646916688254908,
          -0.24863477771546005,
          0.043668993178389105,
          -0.22631424251360518,
          1.3314571125875918,
          -0.2873078634760189,
          0.6800698398781045,
          -0.3198015988986712,
          -1.2725587552459943,
          0.31354772046343216,
          0.5031848134353261,
          1.2932258825322618,
          -0.11044702641731631,
          -0.6173620637123609,
          0.5627610966190263,
          0.24073709223773224,
          0.28066507712263905,
          -0.07311270374727777,
          1.1603385699937696,
          0.36949271637572373,
          1.9046587083409812,
          1.1110566985605046,
          0.6590497961002102,
          -1.6274383406162574,
          0.602319280295629,
          0.42028220364705954,
          0.8109516728035557,
          1.0444420947072588,
          -0.40087819178892664,
          0.8240056184504077,
          -0.5623054310190898,
          1.9548780750090344,
          -1.3319516665172482,
          -0.8905555841630485,
          -1.119115398559728,
          -0.32649949807818424,
          -1.342675789377436,
          1.114382976779792,
          -0.5865239388215925,
          -1.2368533765413974,
          0.8758389276492995,
          0.6233621765780327,
          -0.4349566829552277,
          1.4075400002412286,
          0.12910157971072544,
          1.6169495988573002,
          0.5027408819999043,
          1.5588055406198593,
          0.10940269642542817,
          -1.2197443969790327,
          -0.5457741679825677,
          -0.19883786288889674,
          -0.7003985049212547,
          0.24266944108179458,
          0.20183017887400403,
          0.6610202875986929,
          1.792158208975567,
          -0.12046457178850745,
          -1.2331207354464266,
          -1.1823181265096336,
          -0.6657545181991266,
          -1.674195807618932,
          0.8250298244389859,
          -0.4982135636310781,
          -0.3109849783028509,
          -0.0018914828380037015,
          -1.396620424595432,
          0.6747115256879723,
          0.6185391307862932,
          -0.44317193070063776,
          1.8105349141254563,
          -1.3057269225577375,
          -0.34498721015497946,
          -0.23083974313546946,
          0.36633201454005826,
          -1.0445893819077916,
          0.5856620001723825,
          0.4295261400219645,
          -0.6069983982000461,
          0.1062227240352178,
          -1.5256803162293577,
          0.7950260944248447,
          -0.37443831884322065,
          0.13404819655462313,
          1.2020548621997058,
          0.28474811084905793,
          0.2624674454632686,
          0.27649930482218366,
          -0.7332716038953129,
          0.8360047194342688,
          1.5433591108044837,
          0.7588056600979309,
          0.8849088144648833,
          -0.8772815189181883,
          -0.8677872228729256,
          1.232253070828436,
          -0.2541798676073683,
          -0.7819116826868007,
          -0.437508982828581,
          0.0954250871912577,
          0.060750195799506745,
          0.21112475500771674,
          0.01652756730561561,
          0.17718772027596041,
          -1.1164700178847444,
          0.0809271009732786,
          -0.18657899351146628,
          -0.0568244808858473,
          0.4923365559366488,
          -0.6806781410088858,
          -0.0845080274046298,
          -0.2973618827735036,
          0.41730200497486253,
          0.7847706510155895,
          -0.9554252623736892,
          -0.8301718953151139,
          -0.8805775998441709,
          -0.27909772154329027,
          1.622849085954001,
          0.013352676347176594,
          -0.6946935952872263,
          0.6218035043055724,
          -0.5998045310708474,
          1.1234121620219353,
          0.30526704024401075,
          1.3887793963702684,
          -0.6613442431530187,
          0.8245846250334574,
          0.6545801525867004,
          -0.05118844760766421,
          -0.7255971191344275,
          -0.8677686776235903,
          -0.13597732610058932,
          -0.7972697854931297,
          0.28267571224842025,
          -0.8260974318473202,
          0.6210827008390084,
          0.9561217041246964,
          -0.7058405074022839,
          1.1926860677546935,
          -0.23794193575218264,
          1.1552878860882252,
          0.4381663472912375,
          1.1223283216570923,
          -0.9970197955296825,
          -0.10679398677922511,
          1.4514292605909354,
          -0.6180368476815788,
          -1.9425891814764555,
          -0.41163916318848254,
          1.2785280828417218,
          -0.4422292795131728,
          -0.10999149016360682,
          0.008548945436024693,
          -0.16819883974471597,
          -0.1741803443079907,
          0.46116409997701746,
          -1.1759826714413153,
          1.0101271773347245,
          0.9200179332477632,
          0.8053934242321815,
          -0.7013444262571769,
          -0.5372230238753384,
          0.15626385027008327,
          -0.1902210250848615,
          -0.44873803267162277,
          -0.6724480387865963,
          -0.5574947217860433,
          0.9391687441964878,
          -1.9433234056683528,
          0.352494364369333,
          -0.2364369518129867,
          0.7278134999996488,
          0.5150736136393657,
          0.5846466104774262,
          0.32427424344842104,
          0.02186283662655242,
          -0.46867381627789134,
          0.8532812219556223,
          -0.4130293097110322,
          0.5643828554943137,
          -0.7855339969202355,
          -1.7559256402328518,
          0.7147895974858154,
          0.8527040617252863,
          0.03536009705475734,
          -0.4478951847161186,
          0.6179855339203347,
          -0.18417632565374534,
          -0.11598518547239624,
          -0.1754589686617526,
          -0.9339146556265013,
          -0.5330203260835993,
          -1.426555420520532,
          -0.4753728751379821,
          0.7945282396010823,
          0.9206151180549562,
          -0.03536792487871091,
          -1.3065340728440185,
          0.076380480159592,
          0.3672318138838647,
          1.2328991923762371,
          -0.4228569613907754,
          0.08646440652428741,
          -0.830168864022708,
          0.45161595055524156,
          1.1041743263032135,
          -0.28173626906561283,
          1.7602492264490932,
          -0.06065249177480989,
          -1.7775663758059874,
          -0.7778588266274128,
          -0.22876582887016242,
          1.6133613745631155,
          -0.3748046873026527,
          -0.7499696172756662,
          0.05340953679834792,
          0.3501671588282789,
          0.017164726374088564,
          -0.42914227823509377,
          1.208456328551963,
          1.1157018027844863,
          0.8408615581411037,
          -0.1028872175735376,
          1.146900376399483,
          -0.04970257915867584,
          0.46664326722884075,
          1.033686867939501,
          0.8088443602656821,
          -1.6840599858682372,
          -1.1601701049822761,
          1.350106818681726,
          -0.3312831699326283,
          -0.8514556565308268,
          1.000881423680301,
          -0.38483224883279044,
          1.4581082386095199,
          -0.5322340208981775,
          1.1181333967176956,
          0.6743961048208689,
          -0.7223919054141509,
          1.0989963327471792,
          -0.901634490475998,
          -0.8224671889042517,
          0.7217112921126926,
          -0.625342001465988,
          -0.5938430672545096,
          -0.3439007092103924,
          -1.0001691898725158,
          1.0449944096738975,
          -0.06932869669048287,
          -0.10839206717353982,
          1.7653351005190716,
          0.8709698025322423,
          0.7774192052488628,
          -0.11877117210308928,
          -0.19899818380372442,
          -0.41893789767812306,
          -0.47918491512740585,
          -1.4023291454531368,
          0.4511229387345986,
          -0.6949209011852391,
          0.515413801783241,
          -1.1148710523659369,
          -0.7673098263317347,
          0.6745707069560037,
          1.460892380463078,
          0.5924728014240198,
          1.197830841721251,
          1.0400891531540952,
          -0.10534471250754213,
          -0.4148469012882354,
          0.45194603732122307,
          -1.5791562853944654,
          -0.8286279788564058,
          0.528879745585174,
          -0.01771831791014226,
          0.057120996082092076,
          -0.7995474906917599,
          -0.2915945955008327,
          -0.25898285340053234,
          0.1892931975586576,
          -0.5637887345823027,
          0.08968640732259017,
          -0.6011568006493835,
          0.5560735100773853,
          1.693809113288081,
          0.19686977925029145,
          0.1698692553475717,
          -1.1640079711612021,
          0.6933662256603845,
          -0.7580673285562323,
          0.5574394528580334,
          0.18103874435787085,
          1.1071754509490623,
          1.4428769284963092,
          -0.5396815622024924,
          0.12837699015594436,
          1.7604151835753223,
          0.9665392502290573,
          0.7130490503032691,
          1.3062060651354486,
          -0.604602969164376,
          0.6365834094146309,
          1.4092533893640082,
          0.3827151737243639,
          -0.2889973430098159,
          -0.3918162398080484,
          0.684001328181953,
          -0.35340998286701436,
          0.36184731583956825,
          -0.4244927905709274,
          -0.7315309817303334,
          -1.5657381506559054,
          1.0138224669717055,
          -1.6993336047222958,
          -0.27584606256114336,
          1.2289555856506973,
          1.3097059056826534,
          -1.1549826349293644,
          -0.17763219598355098,
          -1.5104563750875688,
          1.0112070637749084,
          -1.4765626605201803,
          -0.14319574500723764,
          1.0329837789497511,
          -0.22241402852990858,
          1.4701603438257402,
          -0.870008223190852,
          0.36919046954687373,
          0.8532821858237332,
          -0.13971173044107246,
          1.3863142642463189,
          0.5481295846881931,
          -1.6374495930083417,
          0.6486436440906672,
          0.10734329382358966,
          -1.3988128186664763,
          0.08176781880561644,
          0.6443536660303223,
          0.37167029121186534,
          1.853009485069379,
          0.14225137252631778,
          0.5135054799885475,
          0.3724568515114425,
          -0.14848980305939366,
          -0.1834001973200239,
          1.1010002026684818,
          0.7800271353386294,
          -1.1134361029729902,
          1.1614399816743937,
          -0.027529386267978004,
          1.7464350892279725,
          -0.7750702870734348,
          0.14164053766580517,
          -0.5956678809102903,
          -0.30912131864186215,
          0.5109377744920892,
          1.7106618386711354,
          0.03494358936374005,
          0.6616810764659825,
          0.9863521802120643,
          -0.466154856825928,
          1.3849913436486387,
          -1.072964278711645,
          0.49515861120031657,
          -0.952062100706259,
          -0.5181455523987548,
          -1.4614036047221062,
          -0.5163479086460222,
          0.35111689651096534,
          -0.06877046307863847,
          -1.3477649412536636,
          1.470739856691369,
          0.33722093830845856,
          1.0080654330757632,
          0.7852269196346882,
          -0.6648677669672133,
          -1.053546073700315,
          0.8160436843240609,
          -0.6124069731288238,
          0.3931092448539835,
          1.167075165999964,
          -0.03966870009048212,
          0.8858257989659072,
          0.7980637952989431,
          -0.10193203926360005,
          0.7433565435138623,
          -1.5095726842240433,
          -1.0807106924455065,
          0.7254740044815357,
          -0.039178256209496685,
          -0.17961229465135792,
          0.5017251093451655,
          -0.593343754242419,
          0.5103075967452559,
          -0.9157918490686792,
          -0.40725204301996576,
          0.9849516717192109,
          1.0712524278458908,
          -1.0971543602553622,
          0.8386347472283774,
          0.7330232317190783,
          -1.1171106924391125,
          -0.5089722778228615,
          -0.16648595488595935,
          1.4236144293489872,
          0.9039991740035269,
          1.2066078980355681,
          -0.2828635516348445,
          -0.2663268843187201,
          1.0689716222012626,
          0.040371431022839264,
          -0.15699367249331792,
          -1.3352027230151915,
          -0.10646012155553987,
          -0.45611755514868535,
          -0.9798902516618007,
          0.6925743475393558,
          -0.4786723564156615,
          -0.3290515493410809,
          -1.0490677451686161,
          0.31665889515665435,
          -1.895266947476466,
          0.08972911744465112,
          0.41026574539684446,
          0.8598709717969121,
          0.3196569419445935,
          -0.01923163409763723,
          0.15001627872780374,
          0.4635343217316655,
          0.39788042488185116,
          -0.9960108890883996,
          -1.3916938760540336,
          0.4502177420378455,
          0.6274370827531105,
          0.7513372351604846,
          0.14039543644735017,
          -0.9268719392086243,
          -0.18242040636309756,
          0.1343731160397544,
          -0.26837130412057664,
          -0.13167562628701832,
          1.018552474767882,
          1.2305581999547246,
          -1.181103172771823,
          -0.45993010443458127,
          -0.7907999537751678,
          1.2237222119601092,
          -0.05936790254849916,
          1.4489894041582356,
          -0.4775808546567209,
          0.025999994185658175,
          1.3025355364861801,
          -0.5924612851532695,
          -0.03181717269879145,
          0.28807816700515054,
          1.498108183577034,
          -0.30097615395533844,
          0.8074559170052702,
          0.3122386890129999,
          -0.1933216404740039,
          0.9475011673456759,
          -0.5039739491423175,
          0.017955891650826426,
          -1.2704607763854796,
          0.2829955338110016,
          0.10803081731234535,
          0.02941761897076564,
          -0.13479312929572362,
          1.0492182907525678,
          0.9662208625783415,
          0.7259168525208212,
          -0.6002253303773148,
          -0.37951751553387963,
          -1.014803690858671,
          0.43598619629640983,
          -0.6874873930601744,
          0.07225189915588459,
          1.0097873349475586,
          -1.5569415578650314,
          -0.6124421282843443,
          -0.13935180545092124,
          -0.7285374894247015,
          0.5311637934562251,
          0.004000841975375483,
          -0.7252149257453662,
          1.5365363280210986,
          -0.00037500875835609604,
          1.2935496206633084,
          -0.43899766366627757,
          0.5900394641608302,
          -0.6793837829972343,
          -0.9509092510507696,
          -0.7043503315234588,
          -0.04586668606976747,
          -0.21873345896770915,
          1.5392070096550627,
          -1.1487042296369459,
          -1.0903383324548148,
          1.700188146645526,
          0.6087836589081088,
          0.4972690986459772,
          0.23733269933959658,
          -0.3695624253374333,
          -0.017454951836177974,
          0.7314025171250657,
          0.9544956665476875,
          0.09574677111013467,
          1.0334508032642373,
          -0.1462732746113538,
          -0.857496824739772,
          -0.934181843147949,
          0.542645294566316,
          0.6778075711198115,
          -1.1065730673918852,
          -0.3592240957107388,
          0.5053819027529176,
          1.2179409008013473,
          -0.806178211953457,
          0.04906169237310281,
          -0.596086334587662,
          0.8616231013412039,
          0.3618016405710469,
          0.425920176502816,
          0.049080397141630476,
          1.1022367325853422,
          -1.229574253546429,
          0.7255505180787332,
          -0.32420421948521105,
          0.8143431291489254,
          0.7804699297583744,
          -1.4640535735805917,
          -0.1544911938105286,
          -0.09243231854158614,
          -0.2378752654568325,
          -0.7556627651019651,
          0.20909667657552103,
          -0.5691486535119704,
          -1.061796761310848,
          0.13224777891978462,
          -0.5632366041174566,
          0.24542284918911964,
          1.1525991350106037,
          -0.22423577212349852,
          -0.32606130576013626,
          -0.030911417604135967,
          0.35571726157601685,
          0.8495868450948219,
          -0.1221540151116833,
          -0.6808515740173174,
          -1.0678765764865552,
          -0.07667936270573186,
          0.5729627259567562,
          0.45794707630974174,
          -0.017817549053938987,
          -0.600138799235613,
          0.14676526338688947,
          0.5718048788649898,
          -0.03681765651702741,
          0.11236848879221897,
          -0.1505043256504516,
          0.9154992680625726,
          -0.4382002673386686,
          0.1855356209665554,
          0.3944280300121126,
          0.7255225582535588,
          1.4958847658844756,
          0.6754538092042119,
          0.5992132354592584,
          -1.4702370890213132,
          0.6064039443038369,
          -0.8300109855676734,
          -1.0195198494057163,
          -0.2146538422260227,
          1.0212481260989013,
          0.5247504922968238,
          -0.47712420646933207,
          -0.03599018172719132,
          1.0370389817739079,
          0.672619748121479,
          0.3535672160026291,
          0.6147262758274484,
          -0.34898419091555255,
          -0.977773001532967,
          0.17195713216759081,
          0.4905610438096389,
          -1.395283025065327,
          -0.5223564651356952,
          -0.36925590182896817,
          0.2656424025142851,
          -0.2604660588653798,
          0.445096710344572,
          0.09811224622199123,
          1.0603275091568074,
          -1.7111676596244927,
          1.6571246380429256,
          0.05031708614713537,
          0.6503232142523461,
          0.6065484004132948,
          -0.7372896277599319,
          0.16466506584920662,
          0.7781741790995664,
          0.30981675860748836,
          1.0513207678487513,
          0.09499611006916124,
          0.08075098862302005,
          -0.7678037460245601,
          -0.3645380497066375,
          -0.45971768103806804,
          1.7054835177554424,
          0.24050555214736213,
          -0.9994265013581795,
          0.3985983881614373,
          -0.1920036966310444,
          0.4798523711538174,
          0.578464420256242,
          -0.96126359903051,
          -1.458324460393154,
          0.49434165098237876,
          -1.4941937652746844,
          -0.44669920347712,
          0.20437739492116297,
          0.612232523128053,
          0.7448845364406519,
          -0.036281288553702225,
          -0.8323953476886892,
          -0.6059813205385978,
          -0.4525249732840256,
          1.1612856933418074,
          1.069965538950133,
          -1.0455342473768945,
          0.35528450700622954,
          0.7553920291908554,
          0.7009821215232441,
          -0.198937450283896,
          0.3019600454061449,
          -0.3946896809955576,
          -1.1718133792211223,
          0.9840122369402405,
          -0.5596814219185569,
          1.3797581916062172,
          0.6024509012396099,
          -0.8926466735128841,
          -0.16119831954123737,
          -0.8708876496519611,
          0.5014295898933301,
          -0.47861407386118443,
          0.8608912410184296,
          -0.8801890645415797,
          -0.01900052154731654,
          -0.22676019216958399,
          -1.5645078538111965,
          0.9312556787681191,
          0.9498088152113293,
          0.9255012147023857,
          -0.4569878575935375,
          -0.20975293542255413,
          0.14010988130475283,
          -1.4191487771444868,
          -0.31690119652834625,
          0.6409858663835063,
          -1.133792035393578,
          -0.19054829766145195,
          0.23333912626012182,
          0.43499832426284113,
          0.9104236030030839,
          -0.9484396564537968,
          -0.4234782972255359,
          1.0079664776005783,
          0.44838065078168743,
          1.1253234986642537,
          0.10405338970908944,
          0.5280034220718364,
          -1.3450100202683752,
          -1.2952578852810872,
          0.07432055368263171,
          -0.1995607179962165,
          -0.654603168524978,
          0.31801429641916884,
          -0.8902715521082489,
          0.11133726638297002,
          -0.019522558320273307,
          -0.8399889146122471,
          0.3166372357039576,
          -0.42642861763352236,
          0.39378773124931865,
          -0.22814069070045617,
          0.5803301126032293,
          0.1751677292180687,
          -0.053483692735156345,
          -0.1830619869619735,
          -0.22102890178833562,
          0.19975955519262756,
          0.9327214136880919,
          -0.5301198002000516,
          -0.4072400240119308,
          0.16056499174251157,
          -0.12014997562874898,
          0.38560229234432525,
          0.7182907357543429,
          1.2911889028508758,
          -0.11644414827166405,
          -0.06962453945512911,
          0.35387042688284037,
          -0.18695501653274957
         ],
         "y": [
          -0.15323616176709168,
          0.5079843366153792,
          -0.3240323290200066,
          -1.5110766079102027,
          -0.8648299414655872,
          0.6087490823417022,
          0.5616380965234054,
          1.514750382482251,
          0.6479248123129182,
          -1.4092092764721913,
          1.130725354529131,
          1.5666862010961442,
          -0.23774809814536352,
          0.5588029881851114,
          -1.5048912837795123,
          -1.9439217583317874,
          -1.1740236765428438,
          -0.3571875256030163,
          -0.521376385408038,
          -0.2301140634512672,
          -0.4910144326991102,
          0.6793011449496629,
          1.4275469513273447,
          0.036197462760435326,
          -0.6344047103008461,
          -0.5251033939389392,
          0.3877346627429501,
          -0.35479876201067406,
          1.1770522557766416,
          -0.6411078151978892,
          1.32269398510864,
          0.19417501629377704,
          -0.4641149056482057,
          -0.20269390770746232,
          0.14565181728648766,
          0.6022651275385377,
          0.48084611326516874,
          0.10931836390543528,
          -1.5443957813866982,
          -1.5465610399686571,
          0.5866185186008445,
          1.5944646318222213,
          -0.8954415239499194,
          -1.0307980277587836,
          -0.2719387996845504,
          -0.5889311760437443,
          0.851789637515316,
          1.634602501369415,
          0.2791554536346638,
          1.640553648555269,
          0.410872937999071,
          0.19136391513892,
          -0.17144118747753334,
          0.18693704577199538,
          -0.25485294724388907,
          -0.1409107523901582,
          -0.6618918349396725,
          0.2590319017920037,
          0.014448415017786457,
          -0.8556713923944985,
          0.4838836493413234,
          1.5586882545223812,
          1.5624195294929633,
          1.175244992708054,
          1.1198990035561387,
          0.8612885153914502,
          0.6271770353915255,
          0.1628082503067918,
          0.2886167156768053,
          0.05830738274408399,
          1.6319358486550282,
          -0.40178883383188707,
          -0.19993939322127943,
          0.007388983706183854,
          0.2756640751500719,
          1.3879738095489653,
          0.22619975684315669,
          0.5691245958247787,
          0.19731599174779044,
          -0.18644127128388416,
          -0.35524151349696165,
          0.09611414233952063,
          0.15205234093342904,
          1.1552617554181506,
          0.34605774628467395,
          -0.13348866936606069,
          -1.279426156313522,
          -1.3402091759035006,
          0.3546020521128279,
          -0.21237328549062034,
          -1.7745959882248337,
          -0.3122296613778122,
          -0.7106557706807829,
          1.1311286004249619,
          -0.6212517704302448,
          1.0506146488672723,
          0.45978170021018383,
          -0.20633091204487983,
          0.02117182858814892,
          0.4286587396338861,
          0.3270684075693673,
          -0.37911961080083867,
          1.7979193663881117,
          -0.6912689567621623,
          1.1425639200052216,
          0.2761027539232751,
          -0.24701649088573535,
          -0.1208893104863365,
          -0.2605605906223512,
          0.42300320958327586,
          -0.1342485646303186,
          -1.787737708417842,
          -0.1858108567803287,
          0.046846204858301294,
          0.29078794646870554,
          -0.4380545074876235,
          0.17405446616172857,
          0.17794555796161068,
          -0.2612019194565117,
          0.8632633989374148,
          -0.9230779570843294,
          -0.1301952082016756,
          0.5050537522920976,
          -0.26700417934191467,
          -1.2238796505752447,
          0.5582642185676373,
          -0.982160958028669,
          -0.44730816175337745,
          -0.8281475891882739,
          -0.11072841404109841,
          -0.4293859732130132,
          0.6809789273140514,
          -0.357514214019013,
          0.5226551740981221,
          -0.35541349049214155,
          0.09894224603249625,
          1.1277513449502294,
          0.05029323902704858,
          -0.8155473512047462,
          -0.7299266122876394,
          -0.6167464250611666,
          -0.013304221307496948,
          0.858011452091081,
          -1.3587968411019296,
          -1.0372891693549846,
          -0.9245412115760476,
          -0.03637864376409459,
          1.2941823132591743,
          -0.7016485321639636,
          -0.40736968517438427,
          -0.9889644570915376,
          -0.9498638594876591,
          -1.323745411228554,
          0.21633295762047405,
          -1.314201032526822,
          -0.2418018653228728,
          -0.009201544243399692,
          0.6666106854061105,
          0.10039172239954759,
          0.32132583346258753,
          0.5144115605663222,
          -0.017250865259717214,
          0.36334791857426507,
          -0.9797201914449796,
          -0.7754704347039222,
          1.8975108071393503,
          -0.011734214376557668,
          -0.710500674666955,
          1.3798799010709466,
          -0.15684261051476847,
          -0.646491026783994,
          -1.448991548522045,
          0.7794918660522115,
          -1.0863009072108918,
          -0.5390325800200371,
          0.6440999879429353,
          0.1836335742581206,
          -0.08642687384180807,
          -0.21398778156152834,
          -0.5487608291523853,
          0.568904090502716,
          1.0790570549507297,
          -0.6868316257783892,
          -0.43068062707394905,
          -0.5979685425002383,
          -0.9134434096547731,
          -0.6239051526686622,
          0.26187547894034024,
          -0.5870290051548038,
          0.876199862650358,
          0.12325546357279293,
          -0.3971256828561419,
          0.8860899202069914,
          0.3189718257204604,
          0.2648676257857707,
          1.04003845453448,
          -0.10889846683804266,
          0.9375548428677463,
          0.3093178022046615,
          1.09868850104712,
          1.1532126213747222,
          1.290993371628489,
          0.07983961125628633,
          1.3128954115297282,
          0.023357027569657567,
          -0.8311734031854027,
          -0.5639864584101567,
          0.5279505543325392,
          -1.561119890658687,
          0.20835292145425172,
          -0.7283500854473723,
          0.7182163825618534,
          -0.7461737106573472,
          0.7678181289908628,
          -1.2688589591737998,
          1.758759350083834,
          -0.2272525093603447,
          -0.727476109719801,
          -1.0237993163261987,
          0.5677647396556529,
          -0.9976208418380527,
          -1.1397000880327837,
          1.6707292217109244,
          -0.34847114011929786,
          0.5377050874408872,
          -0.002905450275541419,
          -0.06063030227924242,
          0.9640226322174184,
          0.4409560006804435,
          0.3294899667614772,
          -0.2925789353599082,
          0.815600359710878,
          -0.2820059024109606,
          0.04992248806785643,
          0.2194774937754363,
          -1.20115565525345,
          -0.2990949667611442,
          -0.3126030136650717,
          0.10120308649831945,
          -1.1118180907755213,
          -1.1865517009450086,
          1.1564436063936467,
          0.8890393567021025,
          0.41959523754955963,
          -0.09107873492717967,
          0.4821757484334599,
          -1.0980831454210314,
          0.7586370630214484,
          0.03261548315667647,
          -1.2776363350812348,
          0.6585368715597955,
          0.9989016489932808,
          0.6678795613643351,
          -0.030296779438812003,
          -0.8360494800523847,
          0.10759493816851504,
          0.4269243288256842,
          -0.35858879766530466,
          0.6030359101266989,
          0.3144319337524709,
          0.33311455047149896,
          -0.4024676245696163,
          -1.476898981185481,
          0.6389293194198086,
          -0.4656597324338331,
          -0.9670123710082098,
          1.217716255875353,
          -1.383379352486164,
          0.7174286220370574,
          -1.2477341209058204,
          1.4622679827754739,
          0.5165524660423712,
          -0.25739499650682995,
          0.5820873874833424,
          0.8298943774311116,
          0.8277914282922316,
          0.546730265916426,
          -0.47738166223266104,
          0.6640795475273731,
          -1.3113243820094933,
          1.004093104601491,
          0.8730058373155313,
          1.39408104250043,
          -0.5887796071685205,
          0.18621169846960364,
          0.8582860008822079,
          0.317857879102256,
          -0.42666728403845283,
          0.30733106704705815,
          0.06803203466841243,
          0.9957039414105046,
          -0.6284625527547907,
          0.33948780556898744,
          0.2929311256805711,
          -0.072892245211876,
          0.0340658625538518,
          0.008359162757482943,
          -0.32674455138175723,
          -0.843911487937803,
          -1.1734099063320942,
          -0.7956266127891249,
          -0.7100525489930525,
          0.011436571155416278,
          1.430932797842637,
          1.6883837829950057,
          0.23732436396319365,
          0.3843593530746588,
          -1.3106545656253938,
          -0.5007015751875076,
          -1.149722788141142,
          0.42562257961103717,
          -0.626607444597052,
          0.7721196774406992,
          0.47730239639188415,
          -0.24006956675279084,
          0.0805603706020881,
          0.9174197664022404,
          -0.37213191587612243,
          0.9156188854932334,
          -0.019316006687580132,
          0.79924087113552,
          1.3315325235789282,
          0.5208121988777386,
          0.058371883962996744,
          0.720685934762169,
          -1.5454476374197936,
          -1.325491265694986,
          -0.5641639305453827,
          0.5072515845393727,
          -0.11656742405674565,
          0.3035897590687767,
          -0.8007870395667669,
          0.40665564934853815,
          -0.6005043386242819,
          -0.6486357676015769,
          -0.7253231367820491,
          1.9844112488851215,
          -0.5821924381263328,
          0.3268129791190551,
          -1.160443193869437,
          -0.5562679686162673,
          -1.0981486325572187,
          0.7330725605424461,
          0.6521796358150284,
          0.18919875182509854,
          1.2239360089168974,
          -0.3009307161993995,
          0.25130963208627743,
          0.9282902149250671,
          0.08338883723590933,
          1.4516789083179342,
          0.3416885988728869,
          -0.12517266458702858,
          -0.7758948239718666,
          0.893784105381041,
          0.949268086233381,
          -0.615491639425755,
          0.9648881368696258,
          1.373332455126111,
          -0.5274194569670009,
          0.7745345235289796,
          -1.2371647009313789,
          0.3209710832687655,
          0.7479633293378322,
          0.2738270906665688,
          -0.17008356268584848,
          -1.3224429713422496,
          0.6028630022873442,
          -0.34909369658323175,
          0.2390447056304451,
          -0.8893309139745152,
          0.12125495370357839,
          -1.537028866939562,
          0.5039062191897026,
          1.3197259119719253,
          0.3245535159290734,
          0.5053634415125542,
          0.514864837855844,
          -0.8797298016122248,
          0.988578084408599,
          -0.24282642147418337,
          -0.9028317425037818,
          0.5815092832414559,
          0.8575475535903946,
          0.1378848679098275,
          0.18607451711335346,
          -0.1881168334309667,
          -0.002747395727973415,
          1.3351413277186313,
          1.40061788580469,
          -1.500176883494792,
          0.13887887453617104,
          -1.2041013496697026,
          -1.3356954516986081,
          0.5859527865195064,
          -0.841569337976489,
          0.6451526531285782,
          1.2821418300893201,
          -0.396293291842643,
          1.4454453080128968,
          -1.0433996069036862,
          0.5189693714083458,
          0.4715342680872849,
          0.9566894896320624,
          -0.08157001965169976,
          0.6864826401316457,
          1.7170887330563231,
          -0.8042769927232138,
          0.3002536763201884,
          -0.42959567390032527,
          0.8059133073385901,
          -0.21955216709416556,
          -0.2518521972500833,
          -1.3264896477767878,
          0.30820413383639916,
          1.0081956109102623,
          -1.6196456938206558,
          -0.18762634911122614,
          -0.14894122914447525,
          1.1653354411392074,
          0.19664529496690467,
          -0.6325901423895697,
          -1.3813911531218699,
          -0.3123921151914365,
          -0.2712287151202614,
          1.8629130897734716,
          -0.642873594919632,
          0.8350583653611483,
          -0.363053450794692,
          -1.4320670261489077,
          -0.1660198696946643,
          1.1689263743278715,
          -0.18589217762224536,
          0.5494218269801783,
          0.18855331528016264,
          0.04683135799744122,
          -0.41749782273416436,
          0.13178230051752346,
          -0.44832165562495413,
          -1.8039436253159022,
          0.2696988468097705,
          0.3546604863959199,
          -0.7960652494953289,
          0.8013076084574321,
          0.39583055113614785,
          0.29357208724825684,
          -0.3614038605351397,
          0.47279300368474003,
          1.0542070356357671,
          -0.6604431907601538,
          -0.8168444258601902,
          -1.814727087567263,
          0.1817410298295303,
          0.15237420731890447,
          0.4965050383582789,
          0.07597729042272197,
          1.575783445862164,
          1.1590106388629562,
          -1.1558002714875353,
          0.36357788599044405,
          -0.8662026807009421,
          -1.0233622014868475,
          0.010712426627731694,
          0.5441240835875532,
          0.0786920498406861,
          -1.1933686903629275,
          -1.5260351879826028,
          -0.7620848052451318,
          -0.7776383573759467,
          0.7842731671070845,
          -0.3192808587483191,
          -0.18866633890511852,
          -0.15693506698282467,
          1.0968481478561416,
          1.6361151221599526,
          0.42705853717417924,
          -0.2483058331869234,
          1.4025015262856404,
          0.43824139301753284,
          -0.4210968850658138,
          1.0105737112975397,
          -1.4340307289520844,
          0.6269063059702962,
          0.29982520177529054,
          -1.8566414222240666,
          0.13630100537027234,
          0.6833562545792692,
          0.6085800501276962,
          -1.360979773904556,
          -0.34700994911158545,
          0.6665899190285886,
          -1.5357522087918913,
          0.08528298217914626,
          0.21332926939765448,
          0.9237559690639651,
          0.14498732700110628,
          -0.6212073387910747,
          -0.3162393276322203,
          0.953992230218348,
          -0.7631426010826766,
          1.156954884598025,
          -1.5740734251337336,
          0.10059341767972574,
          -1.458981958986978,
          0.9525478184314949,
          -1.6806744727713117,
          -1.1373044112741126,
          -0.8030726661534776,
          1.3149407875180261,
          -0.018257535174047008,
          0.29100454237039114,
          1.0748997485451033,
          -0.6978099001267304,
          -0.5783257170197853,
          -0.847452537849712,
          0.784904647387373,
          1.6332762095790374,
          0.2587424943122645,
          -0.6232799937115168,
          -0.5203610271366949,
          -1.112314290206408,
          0.7311453695585632,
          -1.062928762372351,
          -0.2546330654656022,
          -0.8899615103210368,
          0.21807849778616917,
          -0.3178155663147815,
          -0.22357488745522028,
          -0.9316815621596365,
          -1.0677023428943548,
          0.2112336611600396,
          -0.13637250975649887,
          -1.3692804052133245,
          1.2726233312944941,
          -0.9985664147892049,
          0.557532641377321,
          -0.4426554096701531,
          0.08108320579792591,
          -0.7475262685796005,
          -0.586680439697456,
          0.375235451102576,
          -0.02194676383127246,
          -0.4060709011954884,
          -0.6884075431685927,
          0.5904938662003054,
          1.0773765676263816,
          -0.9520840716488203,
          -1.1364331013176956,
          -1.4251561722623798,
          0.43912737321880185,
          -1.1029695489243718,
          0.7594935929950941,
          -1.1032163462730862,
          -1.0895510984630417,
          0.8342832052517575,
          -0.44934584755239315,
          1.0852513203699437,
          -0.810140030643709,
          0.6146625861253558,
          1.4074105946578879,
          -0.08601351309313744,
          -1.1254527462501986,
          1.2567374708813324,
          0.7390938362426234,
          -0.3859880935287451,
          -1.7443723745538922,
          0.7155367850567184,
          1.6485940770510845,
          0.4327901996345385,
          -0.19102917139960773,
          -0.7861212702401676,
          -0.5726018173106335,
          -1.6497503040146722,
          -0.02696438928302991,
          -0.07449741537318715,
          -1.6183179316099756,
          1.8615651022774895,
          -0.8598270238675055,
          -0.4379082110154881,
          0.0010547699418268317,
          -1.0895350051014767,
          0.5391382220705605,
          1.8121770915950168,
          -0.517489822461975,
          1.4932228006540538,
          -0.9286442753793525,
          -0.8256538909305323,
          -0.4633379678363312,
          0.2969573677573097,
          -1.4005944466686508,
          1.5496088532112626,
          -1.0700169041291103,
          0.613951564079822,
          -1.2891300394749206,
          0.10978294611235115,
          -0.010526175421014809,
          -0.38824090698920655,
          0.4892191937564925,
          -1.1168322572362501,
          0.2024473569139789,
          0.4527136222363632,
          -0.1769365572253719,
          -0.4197178699128385,
          -1.2260699612397163,
          -0.03848246228477962,
          -0.48272686236554857,
          0.20901228007003622,
          -1.7644080806307176,
          -0.45958183317236806,
          0.6335088707785933,
          -1.6923025488503851,
          -0.4250709757555864,
          1.6583993398079262,
          -1.1810628977377973,
          0.7380536853593032,
          1.3305061151948567,
          -0.010089768356528127,
          0.9885106422191401,
          1.0414396343771428,
          -0.3678322013658868,
          -0.11229908338733986,
          0.8041228510204734,
          -0.745644049670234,
          0.04805070666646386,
          0.33491514376705933,
          1.7024300469079419,
          -0.3720646810099599,
          0.08429739091029076,
          -0.45310495137793355,
          -0.7409633426063588,
          0.13610446388547395,
          1.0729310979967936,
          0.8264765570684348,
          -0.9613638025614542,
          -1.427015628711627,
          1.306830585767448,
          0.31671499153867405,
          -0.6104632434424175,
          -1.0561721364058085,
          -0.8077223666950638,
          1.2334249092992629,
          -0.022359372022848555,
          -1.4004699771244002,
          0.8725789897317252,
          0.3101025961317004,
          -0.29113217079433823,
          0.6077152484722893,
          -0.8276839572730029,
          -1.4248609016543665,
          -0.903442726359496,
          -0.41655905987390124,
          -0.7574510334031589,
          -0.3626459187674246,
          0.0047678317763124615,
          0.5542525399087611,
          0.1465320727650737,
          0.2518597032535034,
          1.604323943116341,
          -0.2664905609060913,
          -1.4583359393639643,
          1.8358695455399285,
          0.18728869413965668,
          0.8395342227862145,
          -0.6556166871463461,
          0.18567535375888505,
          0.37857557679582865,
          -0.5396976528131852,
          1.6306297921390362,
          0.1728160841036588,
          0.40577898662854966,
          0.8736742226670051,
          0.9332532965859972,
          -0.21615514939953132,
          0.8336788128625253,
          0.7640414200481108,
          1.687255223155202,
          -1.307971343663687,
          1.4723963067285686,
          0.07487609788866709,
          -1.7869354037797818,
          0.16521058652925405,
          0.9762962980812675,
          -0.6960276712961552,
          1.3492276782627104,
          1.0090902626721503,
          0.11197268749652817,
          -0.5516802438110113,
          -0.31663164258546,
          -1.2162710225821391,
          -0.44832310672258224,
          0.6926889116345142,
          1.4259420274975507,
          1.4583383367524927,
          -0.573360729257128,
          -0.11724767712955894,
          -0.8593713169178759,
          1.0300024885667107,
          -1.648152918607603,
          -1.3632765570451368,
          -0.6358466985837091,
          0.25147344447120185,
          -0.3211479800532944,
          0.03306390572946029,
          0.04753462216510061,
          0.23327972705604186,
          -1.0344629811999486,
          -0.33935977058127165,
          0.5776123357717127,
          0.28022915571566703,
          1.0933066330173304,
          -0.7462242754132891,
          0.906261413418604,
          1.4666247402727144,
          -0.14259029182964555,
          0.2659301443682517,
          0.2251894342996509,
          0.5356705893698189,
          0.3879211149003179,
          0.513364935613181,
          0.8645017035225613,
          0.33152673050070786,
          -1.0417702820212884,
          0.4333603521044893,
          -0.22995602264588777,
          -0.6350874191471966,
          -0.8943706438088923,
          -0.0703970805746775,
          1.596771898021652,
          -0.2669302956497443,
          0.7091571718730512,
          1.156962497058231,
          -0.17283937189547308,
          1.8482333679679015,
          0.9221103681405612,
          -0.10170911376114855,
          -1.7992991295513863,
          -0.9659552082324909,
          0.31869254278046505,
          -0.43826394902083166,
          -0.020753261598423552,
          -0.7873135419683122,
          0.24692273113875693,
          -0.45830203800475466,
          -0.34164325129870976,
          -0.5720258872130943,
          -1.551657639191818,
          1.4231771863257672,
          -0.07605096615502983,
          -0.32686607871554535,
          0.750374811492497,
          -0.08259523896167562,
          0.767293626487417,
          -1.4806546192802672,
          -1.0366558675618027,
          0.545227590984845,
          1.4918973608952575,
          0.030011526171675736,
          0.21643426434926666,
          -0.823443904193359,
          -0.029935876835249856,
          -0.7089367136405759,
          0.722280123634716,
          0.21302572639485617,
          -0.8045415853534423,
          -0.6465822153813857,
          1.1381727692810775,
          0.29543966465863936,
          0.9336296282088858,
          -1.7637747157512904,
          -0.410216819271666,
          -0.45366712472299964,
          -0.5894296712511073,
          0.44023450438022393,
          -1.1067788698814538,
          -1.2519574324073268,
          1.1476066746067717,
          -0.5147349220683212,
          -0.10138078120071552,
          -0.3322106794104193,
          -0.9636565849010378,
          0.3732609736504448,
          0.3830268697572058,
          0.9413255845495389,
          -0.2254200823580782,
          -0.2970874212238873,
          -0.585521746777713,
          1.4881415667730762,
          1.007566985398126,
          -0.04038520788361578,
          0.6489736060200502,
          -0.5858437473736149,
          -0.5915662502667263,
          -0.37968895545024683,
          -0.3710315178948072,
          0.1476024359868073,
          1.0844185634328798,
          -0.11009695831866166,
          -1.2129749711766358,
          0.7754801738720201,
          -0.6264565463300497,
          -1.3185225114045476,
          -0.41607554416018283,
          0.6316571009908744,
          -1.3874779344949346,
          0.30005125894933793,
          -0.5634729105734868,
          0.41836191663359856,
          0.7294430737809866,
          -0.13034193228200616,
          1.2798001716306422,
          -0.4517559415950883,
          -0.5096687406137471,
          0.42377343019450475,
          -1.114967504195502,
          -1.301959026015963,
          0.963193097140422,
          0.1133482551732908,
          -0.3247422640409677,
          -0.3730201923150563,
          -1.3323052935164283,
          -0.6609084760600732,
          -1.1652180020300364,
          -0.4254190248049608,
          0.08803609612487993,
          -0.7417602315025392,
          -1.0725253019909582,
          0.2900413643555045,
          -0.7618346905784482,
          -0.9595318228949353,
          -0.2991532708608496,
          1.6135615510922865,
          -1.3242492171803182,
          0.06471737218755258,
          0.5569989401724988,
          -0.13170556257429109,
          1.1770702202202439,
          1.640057367649072,
          -0.417870617781906,
          -0.8968795864161179,
          -1.0702882915960799,
          -0.11378156431374926,
          -1.2583499172829835,
          -0.6337920536966861,
          -0.4307697393922684,
          0.944284729199289,
          -0.4728755590295527,
          -1.4070641104975221,
          -0.44747327272963666,
          0.18858291237770644,
          -0.9216590545137943,
          0.6473751158514062,
          1.386825593941044
         ]
        }
       ],
       "layout": {
        "legend": {
         "tracegroupgap": 0
        },
        "margin": {
         "t": 60
        },
        "shapes": [
         {
          "line": {
           "color": "LightSeaGreen"
          },
          "type": "circle",
          "x0": -2,
          "x1": 2,
          "xref": "x",
          "y0": -2,
          "y1": 2,
          "yref": "y"
         }
        ],
        "template": {
         "data": {
          "bar": [
           {
            "error_x": {
             "color": "#2a3f5f"
            },
            "error_y": {
             "color": "#2a3f5f"
            },
            "marker": {
             "line": {
              "color": "#E5ECF6",
              "width": 0.5
             },
             "pattern": {
              "fillmode": "overlay",
              "size": 10,
              "solidity": 0.2
             }
            },
            "type": "bar"
           }
          ],
          "barpolar": [
           {
            "marker": {
             "line": {
              "color": "#E5ECF6",
              "width": 0.5
             },
             "pattern": {
              "fillmode": "overlay",
              "size": 10,
              "solidity": 0.2
             }
            },
            "type": "barpolar"
           }
          ],
          "carpet": [
           {
            "aaxis": {
             "endlinecolor": "#2a3f5f",
             "gridcolor": "white",
             "linecolor": "white",
             "minorgridcolor": "white",
             "startlinecolor": "#2a3f5f"
            },
            "baxis": {
             "endlinecolor": "#2a3f5f",
             "gridcolor": "white",
             "linecolor": "white",
             "minorgridcolor": "white",
             "startlinecolor": "#2a3f5f"
            },
            "type": "carpet"
           }
          ],
          "choropleth": [
           {
            "colorbar": {
             "outlinewidth": 0,
             "ticks": ""
            },
            "type": "choropleth"
           }
          ],
          "contour": [
           {
            "colorbar": {
             "outlinewidth": 0,
             "ticks": ""
            },
            "colorscale": [
             [
              0,
              "#0d0887"
             ],
             [
              0.1111111111111111,
              "#46039f"
             ],
             [
              0.2222222222222222,
              "#7201a8"
             ],
             [
              0.3333333333333333,
              "#9c179e"
             ],
             [
              0.4444444444444444,
              "#bd3786"
             ],
             [
              0.5555555555555556,
              "#d8576b"
             ],
             [
              0.6666666666666666,
              "#ed7953"
             ],
             [
              0.7777777777777778,
              "#fb9f3a"
             ],
             [
              0.8888888888888888,
              "#fdca26"
             ],
             [
              1,
              "#f0f921"
             ]
            ],
            "type": "contour"
           }
          ],
          "contourcarpet": [
           {
            "colorbar": {
             "outlinewidth": 0,
             "ticks": ""
            },
            "type": "contourcarpet"
           }
          ],
          "heatmap": [
           {
            "colorbar": {
             "outlinewidth": 0,
             "ticks": ""
            },
            "colorscale": [
             [
              0,
              "#0d0887"
             ],
             [
              0.1111111111111111,
              "#46039f"
             ],
             [
              0.2222222222222222,
              "#7201a8"
             ],
             [
              0.3333333333333333,
              "#9c179e"
             ],
             [
              0.4444444444444444,
              "#bd3786"
             ],
             [
              0.5555555555555556,
              "#d8576b"
             ],
             [
              0.6666666666666666,
              "#ed7953"
             ],
             [
              0.7777777777777778,
              "#fb9f3a"
             ],
             [
              0.8888888888888888,
              "#fdca26"
             ],
             [
              1,
              "#f0f921"
             ]
            ],
            "type": "heatmap"
           }
          ],
          "heatmapgl": [
           {
            "colorbar": {
             "outlinewidth": 0,
             "ticks": ""
            },
            "colorscale": [
             [
              0,
              "#0d0887"
             ],
             [
              0.1111111111111111,
              "#46039f"
             ],
             [
              0.2222222222222222,
              "#7201a8"
             ],
             [
              0.3333333333333333,
              "#9c179e"
             ],
             [
              0.4444444444444444,
              "#bd3786"
             ],
             [
              0.5555555555555556,
              "#d8576b"
             ],
             [
              0.6666666666666666,
              "#ed7953"
             ],
             [
              0.7777777777777778,
              "#fb9f3a"
             ],
             [
              0.8888888888888888,
              "#fdca26"
             ],
             [
              1,
              "#f0f921"
             ]
            ],
            "type": "heatmapgl"
           }
          ],
          "histogram": [
           {
            "marker": {
             "pattern": {
              "fillmode": "overlay",
              "size": 10,
              "solidity": 0.2
             }
            },
            "type": "histogram"
           }
          ],
          "histogram2d": [
           {
            "colorbar": {
             "outlinewidth": 0,
             "ticks": ""
            },
            "colorscale": [
             [
              0,
              "#0d0887"
             ],
             [
              0.1111111111111111,
              "#46039f"
             ],
             [
              0.2222222222222222,
              "#7201a8"
             ],
             [
              0.3333333333333333,
              "#9c179e"
             ],
             [
              0.4444444444444444,
              "#bd3786"
             ],
             [
              0.5555555555555556,
              "#d8576b"
             ],
             [
              0.6666666666666666,
              "#ed7953"
             ],
             [
              0.7777777777777778,
              "#fb9f3a"
             ],
             [
              0.8888888888888888,
              "#fdca26"
             ],
             [
              1,
              "#f0f921"
             ]
            ],
            "type": "histogram2d"
           }
          ],
          "histogram2dcontour": [
           {
            "colorbar": {
             "outlinewidth": 0,
             "ticks": ""
            },
            "colorscale": [
             [
              0,
              "#0d0887"
             ],
             [
              0.1111111111111111,
              "#46039f"
             ],
             [
              0.2222222222222222,
              "#7201a8"
             ],
             [
              0.3333333333333333,
              "#9c179e"
             ],
             [
              0.4444444444444444,
              "#bd3786"
             ],
             [
              0.5555555555555556,
              "#d8576b"
             ],
             [
              0.6666666666666666,
              "#ed7953"
             ],
             [
              0.7777777777777778,
              "#fb9f3a"
             ],
             [
              0.8888888888888888,
              "#fdca26"
             ],
             [
              1,
              "#f0f921"
             ]
            ],
            "type": "histogram2dcontour"
           }
          ],
          "mesh3d": [
           {
            "colorbar": {
             "outlinewidth": 0,
             "ticks": ""
            },
            "type": "mesh3d"
           }
          ],
          "parcoords": [
           {
            "line": {
             "colorbar": {
              "outlinewidth": 0,
              "ticks": ""
             }
            },
            "type": "parcoords"
           }
          ],
          "pie": [
           {
            "automargin": true,
            "type": "pie"
           }
          ],
          "scatter": [
           {
            "fillpattern": {
             "fillmode": "overlay",
             "size": 10,
             "solidity": 0.2
            },
            "type": "scatter"
           }
          ],
          "scatter3d": [
           {
            "line": {
             "colorbar": {
              "outlinewidth": 0,
              "ticks": ""
             }
            },
            "marker": {
             "colorbar": {
              "outlinewidth": 0,
              "ticks": ""
             }
            },
            "type": "scatter3d"
           }
          ],
          "scattercarpet": [
           {
            "marker": {
             "colorbar": {
              "outlinewidth": 0,
              "ticks": ""
             }
            },
            "type": "scattercarpet"
           }
          ],
          "scattergeo": [
           {
            "marker": {
             "colorbar": {
              "outlinewidth": 0,
              "ticks": ""
             }
            },
            "type": "scattergeo"
           }
          ],
          "scattergl": [
           {
            "marker": {
             "colorbar": {
              "outlinewidth": 0,
              "ticks": ""
             }
            },
            "type": "scattergl"
           }
          ],
          "scattermapbox": [
           {
            "marker": {
             "colorbar": {
              "outlinewidth": 0,
              "ticks": ""
             }
            },
            "type": "scattermapbox"
           }
          ],
          "scatterpolar": [
           {
            "marker": {
             "colorbar": {
              "outlinewidth": 0,
              "ticks": ""
             }
            },
            "type": "scatterpolar"
           }
          ],
          "scatterpolargl": [
           {
            "marker": {
             "colorbar": {
              "outlinewidth": 0,
              "ticks": ""
             }
            },
            "type": "scatterpolargl"
           }
          ],
          "scatterternary": [
           {
            "marker": {
             "colorbar": {
              "outlinewidth": 0,
              "ticks": ""
             }
            },
            "type": "scatterternary"
           }
          ],
          "surface": [
           {
            "colorbar": {
             "outlinewidth": 0,
             "ticks": ""
            },
            "colorscale": [
             [
              0,
              "#0d0887"
             ],
             [
              0.1111111111111111,
              "#46039f"
             ],
             [
              0.2222222222222222,
              "#7201a8"
             ],
             [
              0.3333333333333333,
              "#9c179e"
             ],
             [
              0.4444444444444444,
              "#bd3786"
             ],
             [
              0.5555555555555556,
              "#d8576b"
             ],
             [
              0.6666666666666666,
              "#ed7953"
             ],
             [
              0.7777777777777778,
              "#fb9f3a"
             ],
             [
              0.8888888888888888,
              "#fdca26"
             ],
             [
              1,
              "#f0f921"
             ]
            ],
            "type": "surface"
           }
          ],
          "table": [
           {
            "cells": {
             "fill": {
              "color": "#EBF0F8"
             },
             "line": {
              "color": "white"
             }
            },
            "header": {
             "fill": {
              "color": "#C8D4E3"
             },
             "line": {
              "color": "white"
             }
            },
            "type": "table"
           }
          ]
         },
         "layout": {
          "annotationdefaults": {
           "arrowcolor": "#2a3f5f",
           "arrowhead": 0,
           "arrowwidth": 1
          },
          "autotypenumbers": "strict",
          "coloraxis": {
           "colorbar": {
            "outlinewidth": 0,
            "ticks": ""
           }
          },
          "colorscale": {
           "diverging": [
            [
             0,
             "#8e0152"
            ],
            [
             0.1,
             "#c51b7d"
            ],
            [
             0.2,
             "#de77ae"
            ],
            [
             0.3,
             "#f1b6da"
            ],
            [
             0.4,
             "#fde0ef"
            ],
            [
             0.5,
             "#f7f7f7"
            ],
            [
             0.6,
             "#e6f5d0"
            ],
            [
             0.7,
             "#b8e186"
            ],
            [
             0.8,
             "#7fbc41"
            ],
            [
             0.9,
             "#4d9221"
            ],
            [
             1,
             "#276419"
            ]
           ],
           "sequential": [
            [
             0,
             "#0d0887"
            ],
            [
             0.1111111111111111,
             "#46039f"
            ],
            [
             0.2222222222222222,
             "#7201a8"
            ],
            [
             0.3333333333333333,
             "#9c179e"
            ],
            [
             0.4444444444444444,
             "#bd3786"
            ],
            [
             0.5555555555555556,
             "#d8576b"
            ],
            [
             0.6666666666666666,
             "#ed7953"
            ],
            [
             0.7777777777777778,
             "#fb9f3a"
            ],
            [
             0.8888888888888888,
             "#fdca26"
            ],
            [
             1,
             "#f0f921"
            ]
           ],
           "sequentialminus": [
            [
             0,
             "#0d0887"
            ],
            [
             0.1111111111111111,
             "#46039f"
            ],
            [
             0.2222222222222222,
             "#7201a8"
            ],
            [
             0.3333333333333333,
             "#9c179e"
            ],
            [
             0.4444444444444444,
             "#bd3786"
            ],
            [
             0.5555555555555556,
             "#d8576b"
            ],
            [
             0.6666666666666666,
             "#ed7953"
            ],
            [
             0.7777777777777778,
             "#fb9f3a"
            ],
            [
             0.8888888888888888,
             "#fdca26"
            ],
            [
             1,
             "#f0f921"
            ]
           ]
          },
          "colorway": [
           "#636efa",
           "#EF553B",
           "#00cc96",
           "#ab63fa",
           "#FFA15A",
           "#19d3f3",
           "#FF6692",
           "#B6E880",
           "#FF97FF",
           "#FECB52"
          ],
          "font": {
           "color": "#2a3f5f"
          },
          "geo": {
           "bgcolor": "white",
           "lakecolor": "white",
           "landcolor": "#E5ECF6",
           "showlakes": true,
           "showland": true,
           "subunitcolor": "white"
          },
          "hoverlabel": {
           "align": "left"
          },
          "hovermode": "closest",
          "mapbox": {
           "style": "light"
          },
          "paper_bgcolor": "white",
          "plot_bgcolor": "#E5ECF6",
          "polar": {
           "angularaxis": {
            "gridcolor": "white",
            "linecolor": "white",
            "ticks": ""
           },
           "bgcolor": "#E5ECF6",
           "radialaxis": {
            "gridcolor": "white",
            "linecolor": "white",
            "ticks": ""
           }
          },
          "scene": {
           "xaxis": {
            "backgroundcolor": "#E5ECF6",
            "gridcolor": "white",
            "gridwidth": 2,
            "linecolor": "white",
            "showbackground": true,
            "ticks": "",
            "zerolinecolor": "white"
           },
           "yaxis": {
            "backgroundcolor": "#E5ECF6",
            "gridcolor": "white",
            "gridwidth": 2,
            "linecolor": "white",
            "showbackground": true,
            "ticks": "",
            "zerolinecolor": "white"
           },
           "zaxis": {
            "backgroundcolor": "#E5ECF6",
            "gridcolor": "white",
            "gridwidth": 2,
            "linecolor": "white",
            "showbackground": true,
            "ticks": "",
            "zerolinecolor": "white"
           }
          },
          "shapedefaults": {
           "line": {
            "color": "#2a3f5f"
           }
          },
          "ternary": {
           "aaxis": {
            "gridcolor": "white",
            "linecolor": "white",
            "ticks": ""
           },
           "baxis": {
            "gridcolor": "white",
            "linecolor": "white",
            "ticks": ""
           },
           "bgcolor": "#E5ECF6",
           "caxis": {
            "gridcolor": "white",
            "linecolor": "white",
            "ticks": ""
           }
          },
          "title": {
           "x": 0.05
          },
          "xaxis": {
           "automargin": true,
           "gridcolor": "white",
           "linecolor": "white",
           "ticks": "",
           "title": {
            "standoff": 15
           },
           "zerolinecolor": "white",
           "zerolinewidth": 2
          },
          "yaxis": {
           "automargin": true,
           "gridcolor": "white",
           "linecolor": "white",
           "ticks": "",
           "title": {
            "standoff": 15
           },
           "zerolinecolor": "white",
           "zerolinewidth": 2
          }
         }
        },
        "title": {
         "text": "Softening outliers using opacity"
        },
        "xaxis": {
         "anchor": "y",
         "domain": [
          0,
          1
         ],
         "title": {
          "text": "x"
         }
        },
        "yaxis": {
         "anchor": "x",
         "domain": [
          0,
          1
         ],
         "title": {
          "text": "y"
         }
        }
       }
      }
     },
     "metadata": {},
     "output_type": "display_data"
    }
   ],
   "source": [
    "# Plot a random sample of 1000 normal distributed points as a 2D scatter plot.\n",
    "import numpy as np\n",
    "np.random.seed(1)\n",
    "N = 1000\n",
    "random_x = np.random.randn(N)\n",
    "random_y = np.random.randn(N)\n",
    "dist_origin = np.sqrt(random_x ** 2 + random_y ** 2)\n",
    "\n",
    "# Let the colour be blue and the opacity 0.7 for points closer than 2 from the origin. Use opacity = 0.2 for all other points.\n",
    "fig = px.scatter(x=random_x[dist_origin > 2], y=random_y[dist_origin > 2], opacity=0.2, color_discrete_sequence=['blue'])\n",
    "fig.add_trace(go.Scatter(x=random_x[dist_origin <= 2], y=random_y[dist_origin <= 2], mode=\"markers\", marker=dict(color=\"blue\", opacity=0.7), showlegend=False))\n",
    "# Add a circle with radius 2 around the origin\n",
    "fig.add_shape(type=\"circle\", xref=\"x\", yref=\"y\", x0=-2, y0=-2, x1=2, y1=2, line_color=\"LightSeaGreen\")\n",
    "fig.update_layout(title=\"Softening outliers using opacity\")\n",
    "fig.show()"
   ]
  },
  {
   "cell_type": "markdown",
   "metadata": {
    "slideshow": {
     "slide_type": "slide"
    },
    "tags": []
   },
   "source": [
    "## Colours blindness\n",
    "- [Colour blindness](https://en.wikipedia.org/wiki/Color_blindness) affects up to 8% of men and 0.5% of women.\n",
    "- Red-green is the most common problem, followed by blue-yellow, but there are many variants.\n",
    "    - Each version comes with several confusions, e.g., red-green colourblindness may cause problems in distingushing:\n",
    "        - cyan and grey,\n",
    "        - rose-pink and grey,\n",
    "        - blue and purple,\n",
    "        - yellow and neon green,\n",
    "        - red, green, orange, brown.\n",
    "- Some sequential colourmaps are designed to be convey the differences regardless of vision type by superimposing a light-to-dark scale and yellow-to-blue scale, e.g., Cividis, Viridis, and Parula.\n",
    "  \n",
    "A simplified depiction of colour perception for various conditions (public domain figure from [Wikimedia Commons](https://commons.wikimedia.org/wiki/File:Color_blindness.svg))\n",
    "<img src=\"https://github.com/khliland/IND320/blob/main/D2Dbook/images/Color_blindness.png?raw=TRUE\" width=\"460px\">  "
   ]
  },
  {
   "cell_type": "code",
   "execution_count": 5,
   "metadata": {
    "slideshow": {
     "slide_type": "slide"
    },
    "tags": []
   },
   "outputs": [
    {
     "data": {
      "application/vnd.plotly.v1+json": {
       "config": {
        "plotlyServerURL": "https://plot.ly"
       },
       "data": [
        {
         "hovertemplate": "species=setosa<br>petal_width=%{x}<br>petal_length=%{y}<extra></extra>",
         "legendgroup": "setosa",
         "marker": {
          "color": "rgb(229, 134, 6)",
          "symbol": "circle"
         },
         "mode": "markers",
         "name": "setosa",
         "orientation": "v",
         "showlegend": true,
         "type": "scatter",
         "x": [
          0.2,
          0.2,
          0.2,
          0.2,
          0.2,
          0.4,
          0.3,
          0.2,
          0.2,
          0.1,
          0.2,
          0.2,
          0.1,
          0.1,
          0.2,
          0.4,
          0.4,
          0.3,
          0.3,
          0.3,
          0.2,
          0.4,
          0.2,
          0.5,
          0.2,
          0.2,
          0.4,
          0.2,
          0.2,
          0.2,
          0.2,
          0.4,
          0.1,
          0.2,
          0.1,
          0.2,
          0.2,
          0.1,
          0.2,
          0.2,
          0.3,
          0.3,
          0.2,
          0.6,
          0.4,
          0.3,
          0.2,
          0.2,
          0.2,
          0.2
         ],
         "xaxis": "x",
         "y": [
          1.4,
          1.4,
          1.3,
          1.5,
          1.4,
          1.7,
          1.4,
          1.5,
          1.4,
          1.5,
          1.5,
          1.6,
          1.4,
          1.1,
          1.2,
          1.5,
          1.3,
          1.4,
          1.7,
          1.5,
          1.7,
          1.5,
          1,
          1.7,
          1.9,
          1.6,
          1.6,
          1.5,
          1.4,
          1.6,
          1.6,
          1.5,
          1.5,
          1.4,
          1.5,
          1.2,
          1.3,
          1.5,
          1.3,
          1.5,
          1.3,
          1.3,
          1.3,
          1.6,
          1.9,
          1.4,
          1.6,
          1.4,
          1.5,
          1.4
         ],
         "yaxis": "y"
        },
        {
         "hovertemplate": "species=versicolor<br>petal_width=%{x}<br>petal_length=%{y}<extra></extra>",
         "legendgroup": "versicolor",
         "marker": {
          "color": "rgb(93, 105, 177)",
          "symbol": "circle"
         },
         "mode": "markers",
         "name": "versicolor",
         "orientation": "v",
         "showlegend": true,
         "type": "scatter",
         "x": [
          1.4,
          1.5,
          1.5,
          1.3,
          1.5,
          1.3,
          1.6,
          1,
          1.3,
          1.4,
          1,
          1.5,
          1,
          1.4,
          1.3,
          1.4,
          1.5,
          1,
          1.5,
          1.1,
          1.8,
          1.3,
          1.5,
          1.2,
          1.3,
          1.4,
          1.4,
          1.7,
          1.5,
          1,
          1.1,
          1,
          1.2,
          1.6,
          1.5,
          1.6,
          1.5,
          1.3,
          1.3,
          1.3,
          1.2,
          1.4,
          1.2,
          1,
          1.3,
          1.2,
          1.3,
          1.3,
          1.1,
          1.3
         ],
         "xaxis": "x",
         "y": [
          4.7,
          4.5,
          4.9,
          4,
          4.6,
          4.5,
          4.7,
          3.3,
          4.6,
          3.9,
          3.5,
          4.2,
          4,
          4.7,
          3.6,
          4.4,
          4.5,
          4.1,
          4.5,
          3.9,
          4.8,
          4,
          4.9,
          4.7,
          4.3,
          4.4,
          4.8,
          5,
          4.5,
          3.5,
          3.8,
          3.7,
          3.9,
          5.1,
          4.5,
          4.5,
          4.7,
          4.4,
          4.1,
          4,
          4.4,
          4.6,
          4,
          3.3,
          4.2,
          4.2,
          4.2,
          4.3,
          3,
          4.1
         ],
         "yaxis": "y"
        },
        {
         "hovertemplate": "species=virginica<br>petal_width=%{x}<br>petal_length=%{y}<extra></extra>",
         "legendgroup": "virginica",
         "marker": {
          "color": "rgb(82, 188, 163)",
          "symbol": "circle"
         },
         "mode": "markers",
         "name": "virginica",
         "orientation": "v",
         "showlegend": true,
         "type": "scatter",
         "x": [
          2.5,
          1.9,
          2.1,
          1.8,
          2.2,
          2.1,
          1.7,
          1.8,
          1.8,
          2.5,
          2,
          1.9,
          2.1,
          2,
          2.4,
          2.3,
          1.8,
          2.2,
          2.3,
          1.5,
          2.3,
          2,
          2,
          1.8,
          2.1,
          1.8,
          1.8,
          1.8,
          2.1,
          1.6,
          1.9,
          2,
          2.2,
          1.5,
          1.4,
          2.3,
          2.4,
          1.8,
          1.8,
          2.1,
          2.4,
          2.3,
          1.9,
          2.3,
          2.5,
          2.3,
          1.9,
          2,
          2.3,
          1.8
         ],
         "xaxis": "x",
         "y": [
          6,
          5.1,
          5.9,
          5.6,
          5.8,
          6.6,
          4.5,
          6.3,
          5.8,
          6.1,
          5.1,
          5.3,
          5.5,
          5,
          5.1,
          5.3,
          5.5,
          6.7,
          6.9,
          5,
          5.7,
          4.9,
          6.7,
          4.9,
          5.7,
          6,
          4.8,
          4.9,
          5.6,
          5.8,
          6.1,
          6.4,
          5.6,
          5.1,
          5.6,
          6.1,
          5.6,
          5.5,
          4.8,
          5.4,
          5.6,
          5.1,
          5.1,
          5.9,
          5.7,
          5.2,
          5,
          5.2,
          5.4,
          5.1
         ],
         "yaxis": "y"
        }
       ],
       "layout": {
        "legend": {
         "title": {
          "text": "species"
         },
         "tracegroupgap": 0
        },
        "margin": {
         "t": 60
        },
        "template": {
         "data": {
          "bar": [
           {
            "error_x": {
             "color": "#2a3f5f"
            },
            "error_y": {
             "color": "#2a3f5f"
            },
            "marker": {
             "line": {
              "color": "#E5ECF6",
              "width": 0.5
             },
             "pattern": {
              "fillmode": "overlay",
              "size": 10,
              "solidity": 0.2
             }
            },
            "type": "bar"
           }
          ],
          "barpolar": [
           {
            "marker": {
             "line": {
              "color": "#E5ECF6",
              "width": 0.5
             },
             "pattern": {
              "fillmode": "overlay",
              "size": 10,
              "solidity": 0.2
             }
            },
            "type": "barpolar"
           }
          ],
          "carpet": [
           {
            "aaxis": {
             "endlinecolor": "#2a3f5f",
             "gridcolor": "white",
             "linecolor": "white",
             "minorgridcolor": "white",
             "startlinecolor": "#2a3f5f"
            },
            "baxis": {
             "endlinecolor": "#2a3f5f",
             "gridcolor": "white",
             "linecolor": "white",
             "minorgridcolor": "white",
             "startlinecolor": "#2a3f5f"
            },
            "type": "carpet"
           }
          ],
          "choropleth": [
           {
            "colorbar": {
             "outlinewidth": 0,
             "ticks": ""
            },
            "type": "choropleth"
           }
          ],
          "contour": [
           {
            "colorbar": {
             "outlinewidth": 0,
             "ticks": ""
            },
            "colorscale": [
             [
              0,
              "#0d0887"
             ],
             [
              0.1111111111111111,
              "#46039f"
             ],
             [
              0.2222222222222222,
              "#7201a8"
             ],
             [
              0.3333333333333333,
              "#9c179e"
             ],
             [
              0.4444444444444444,
              "#bd3786"
             ],
             [
              0.5555555555555556,
              "#d8576b"
             ],
             [
              0.6666666666666666,
              "#ed7953"
             ],
             [
              0.7777777777777778,
              "#fb9f3a"
             ],
             [
              0.8888888888888888,
              "#fdca26"
             ],
             [
              1,
              "#f0f921"
             ]
            ],
            "type": "contour"
           }
          ],
          "contourcarpet": [
           {
            "colorbar": {
             "outlinewidth": 0,
             "ticks": ""
            },
            "type": "contourcarpet"
           }
          ],
          "heatmap": [
           {
            "colorbar": {
             "outlinewidth": 0,
             "ticks": ""
            },
            "colorscale": [
             [
              0,
              "#0d0887"
             ],
             [
              0.1111111111111111,
              "#46039f"
             ],
             [
              0.2222222222222222,
              "#7201a8"
             ],
             [
              0.3333333333333333,
              "#9c179e"
             ],
             [
              0.4444444444444444,
              "#bd3786"
             ],
             [
              0.5555555555555556,
              "#d8576b"
             ],
             [
              0.6666666666666666,
              "#ed7953"
             ],
             [
              0.7777777777777778,
              "#fb9f3a"
             ],
             [
              0.8888888888888888,
              "#fdca26"
             ],
             [
              1,
              "#f0f921"
             ]
            ],
            "type": "heatmap"
           }
          ],
          "heatmapgl": [
           {
            "colorbar": {
             "outlinewidth": 0,
             "ticks": ""
            },
            "colorscale": [
             [
              0,
              "#0d0887"
             ],
             [
              0.1111111111111111,
              "#46039f"
             ],
             [
              0.2222222222222222,
              "#7201a8"
             ],
             [
              0.3333333333333333,
              "#9c179e"
             ],
             [
              0.4444444444444444,
              "#bd3786"
             ],
             [
              0.5555555555555556,
              "#d8576b"
             ],
             [
              0.6666666666666666,
              "#ed7953"
             ],
             [
              0.7777777777777778,
              "#fb9f3a"
             ],
             [
              0.8888888888888888,
              "#fdca26"
             ],
             [
              1,
              "#f0f921"
             ]
            ],
            "type": "heatmapgl"
           }
          ],
          "histogram": [
           {
            "marker": {
             "pattern": {
              "fillmode": "overlay",
              "size": 10,
              "solidity": 0.2
             }
            },
            "type": "histogram"
           }
          ],
          "histogram2d": [
           {
            "colorbar": {
             "outlinewidth": 0,
             "ticks": ""
            },
            "colorscale": [
             [
              0,
              "#0d0887"
             ],
             [
              0.1111111111111111,
              "#46039f"
             ],
             [
              0.2222222222222222,
              "#7201a8"
             ],
             [
              0.3333333333333333,
              "#9c179e"
             ],
             [
              0.4444444444444444,
              "#bd3786"
             ],
             [
              0.5555555555555556,
              "#d8576b"
             ],
             [
              0.6666666666666666,
              "#ed7953"
             ],
             [
              0.7777777777777778,
              "#fb9f3a"
             ],
             [
              0.8888888888888888,
              "#fdca26"
             ],
             [
              1,
              "#f0f921"
             ]
            ],
            "type": "histogram2d"
           }
          ],
          "histogram2dcontour": [
           {
            "colorbar": {
             "outlinewidth": 0,
             "ticks": ""
            },
            "colorscale": [
             [
              0,
              "#0d0887"
             ],
             [
              0.1111111111111111,
              "#46039f"
             ],
             [
              0.2222222222222222,
              "#7201a8"
             ],
             [
              0.3333333333333333,
              "#9c179e"
             ],
             [
              0.4444444444444444,
              "#bd3786"
             ],
             [
              0.5555555555555556,
              "#d8576b"
             ],
             [
              0.6666666666666666,
              "#ed7953"
             ],
             [
              0.7777777777777778,
              "#fb9f3a"
             ],
             [
              0.8888888888888888,
              "#fdca26"
             ],
             [
              1,
              "#f0f921"
             ]
            ],
            "type": "histogram2dcontour"
           }
          ],
          "mesh3d": [
           {
            "colorbar": {
             "outlinewidth": 0,
             "ticks": ""
            },
            "type": "mesh3d"
           }
          ],
          "parcoords": [
           {
            "line": {
             "colorbar": {
              "outlinewidth": 0,
              "ticks": ""
             }
            },
            "type": "parcoords"
           }
          ],
          "pie": [
           {
            "automargin": true,
            "type": "pie"
           }
          ],
          "scatter": [
           {
            "fillpattern": {
             "fillmode": "overlay",
             "size": 10,
             "solidity": 0.2
            },
            "type": "scatter"
           }
          ],
          "scatter3d": [
           {
            "line": {
             "colorbar": {
              "outlinewidth": 0,
              "ticks": ""
             }
            },
            "marker": {
             "colorbar": {
              "outlinewidth": 0,
              "ticks": ""
             }
            },
            "type": "scatter3d"
           }
          ],
          "scattercarpet": [
           {
            "marker": {
             "colorbar": {
              "outlinewidth": 0,
              "ticks": ""
             }
            },
            "type": "scattercarpet"
           }
          ],
          "scattergeo": [
           {
            "marker": {
             "colorbar": {
              "outlinewidth": 0,
              "ticks": ""
             }
            },
            "type": "scattergeo"
           }
          ],
          "scattergl": [
           {
            "marker": {
             "colorbar": {
              "outlinewidth": 0,
              "ticks": ""
             }
            },
            "type": "scattergl"
           }
          ],
          "scattermapbox": [
           {
            "marker": {
             "colorbar": {
              "outlinewidth": 0,
              "ticks": ""
             }
            },
            "type": "scattermapbox"
           }
          ],
          "scatterpolar": [
           {
            "marker": {
             "colorbar": {
              "outlinewidth": 0,
              "ticks": ""
             }
            },
            "type": "scatterpolar"
           }
          ],
          "scatterpolargl": [
           {
            "marker": {
             "colorbar": {
              "outlinewidth": 0,
              "ticks": ""
             }
            },
            "type": "scatterpolargl"
           }
          ],
          "scatterternary": [
           {
            "marker": {
             "colorbar": {
              "outlinewidth": 0,
              "ticks": ""
             }
            },
            "type": "scatterternary"
           }
          ],
          "surface": [
           {
            "colorbar": {
             "outlinewidth": 0,
             "ticks": ""
            },
            "colorscale": [
             [
              0,
              "#0d0887"
             ],
             [
              0.1111111111111111,
              "#46039f"
             ],
             [
              0.2222222222222222,
              "#7201a8"
             ],
             [
              0.3333333333333333,
              "#9c179e"
             ],
             [
              0.4444444444444444,
              "#bd3786"
             ],
             [
              0.5555555555555556,
              "#d8576b"
             ],
             [
              0.6666666666666666,
              "#ed7953"
             ],
             [
              0.7777777777777778,
              "#fb9f3a"
             ],
             [
              0.8888888888888888,
              "#fdca26"
             ],
             [
              1,
              "#f0f921"
             ]
            ],
            "type": "surface"
           }
          ],
          "table": [
           {
            "cells": {
             "fill": {
              "color": "#EBF0F8"
             },
             "line": {
              "color": "white"
             }
            },
            "header": {
             "fill": {
              "color": "#C8D4E3"
             },
             "line": {
              "color": "white"
             }
            },
            "type": "table"
           }
          ]
         },
         "layout": {
          "annotationdefaults": {
           "arrowcolor": "#2a3f5f",
           "arrowhead": 0,
           "arrowwidth": 1
          },
          "autotypenumbers": "strict",
          "coloraxis": {
           "colorbar": {
            "outlinewidth": 0,
            "ticks": ""
           }
          },
          "colorscale": {
           "diverging": [
            [
             0,
             "#8e0152"
            ],
            [
             0.1,
             "#c51b7d"
            ],
            [
             0.2,
             "#de77ae"
            ],
            [
             0.3,
             "#f1b6da"
            ],
            [
             0.4,
             "#fde0ef"
            ],
            [
             0.5,
             "#f7f7f7"
            ],
            [
             0.6,
             "#e6f5d0"
            ],
            [
             0.7,
             "#b8e186"
            ],
            [
             0.8,
             "#7fbc41"
            ],
            [
             0.9,
             "#4d9221"
            ],
            [
             1,
             "#276419"
            ]
           ],
           "sequential": [
            [
             0,
             "#0d0887"
            ],
            [
             0.1111111111111111,
             "#46039f"
            ],
            [
             0.2222222222222222,
             "#7201a8"
            ],
            [
             0.3333333333333333,
             "#9c179e"
            ],
            [
             0.4444444444444444,
             "#bd3786"
            ],
            [
             0.5555555555555556,
             "#d8576b"
            ],
            [
             0.6666666666666666,
             "#ed7953"
            ],
            [
             0.7777777777777778,
             "#fb9f3a"
            ],
            [
             0.8888888888888888,
             "#fdca26"
            ],
            [
             1,
             "#f0f921"
            ]
           ],
           "sequentialminus": [
            [
             0,
             "#0d0887"
            ],
            [
             0.1111111111111111,
             "#46039f"
            ],
            [
             0.2222222222222222,
             "#7201a8"
            ],
            [
             0.3333333333333333,
             "#9c179e"
            ],
            [
             0.4444444444444444,
             "#bd3786"
            ],
            [
             0.5555555555555556,
             "#d8576b"
            ],
            [
             0.6666666666666666,
             "#ed7953"
            ],
            [
             0.7777777777777778,
             "#fb9f3a"
            ],
            [
             0.8888888888888888,
             "#fdca26"
            ],
            [
             1,
             "#f0f921"
            ]
           ]
          },
          "colorway": [
           "#636efa",
           "#EF553B",
           "#00cc96",
           "#ab63fa",
           "#FFA15A",
           "#19d3f3",
           "#FF6692",
           "#B6E880",
           "#FF97FF",
           "#FECB52"
          ],
          "font": {
           "color": "#2a3f5f"
          },
          "geo": {
           "bgcolor": "white",
           "lakecolor": "white",
           "landcolor": "#E5ECF6",
           "showlakes": true,
           "showland": true,
           "subunitcolor": "white"
          },
          "hoverlabel": {
           "align": "left"
          },
          "hovermode": "closest",
          "mapbox": {
           "style": "light"
          },
          "paper_bgcolor": "white",
          "plot_bgcolor": "#E5ECF6",
          "polar": {
           "angularaxis": {
            "gridcolor": "white",
            "linecolor": "white",
            "ticks": ""
           },
           "bgcolor": "#E5ECF6",
           "radialaxis": {
            "gridcolor": "white",
            "linecolor": "white",
            "ticks": ""
           }
          },
          "scene": {
           "xaxis": {
            "backgroundcolor": "#E5ECF6",
            "gridcolor": "white",
            "gridwidth": 2,
            "linecolor": "white",
            "showbackground": true,
            "ticks": "",
            "zerolinecolor": "white"
           },
           "yaxis": {
            "backgroundcolor": "#E5ECF6",
            "gridcolor": "white",
            "gridwidth": 2,
            "linecolor": "white",
            "showbackground": true,
            "ticks": "",
            "zerolinecolor": "white"
           },
           "zaxis": {
            "backgroundcolor": "#E5ECF6",
            "gridcolor": "white",
            "gridwidth": 2,
            "linecolor": "white",
            "showbackground": true,
            "ticks": "",
            "zerolinecolor": "white"
           }
          },
          "shapedefaults": {
           "line": {
            "color": "#2a3f5f"
           }
          },
          "ternary": {
           "aaxis": {
            "gridcolor": "white",
            "linecolor": "white",
            "ticks": ""
           },
           "baxis": {
            "gridcolor": "white",
            "linecolor": "white",
            "ticks": ""
           },
           "bgcolor": "#E5ECF6",
           "caxis": {
            "gridcolor": "white",
            "linecolor": "white",
            "ticks": ""
           }
          },
          "title": {
           "x": 0.05
          },
          "xaxis": {
           "automargin": true,
           "gridcolor": "white",
           "linecolor": "white",
           "ticks": "",
           "title": {
            "standoff": 15
           },
           "zerolinecolor": "white",
           "zerolinewidth": 2
          },
          "yaxis": {
           "automargin": true,
           "gridcolor": "white",
           "linecolor": "white",
           "ticks": "",
           "title": {
            "standoff": 15
           },
           "zerolinecolor": "white",
           "zerolinewidth": 2
          }
         }
        },
        "xaxis": {
         "anchor": "y",
         "domain": [
          0,
          1
         ],
         "title": {
          "text": "petal_width"
         }
        },
        "yaxis": {
         "anchor": "x",
         "domain": [
          0,
          1
         ],
         "title": {
          "text": "petal_length"
         }
        }
       }
      }
     },
     "metadata": {},
     "output_type": "display_data"
    }
   ],
   "source": [
    "# Use plotly express to plot petal widths and lengths of the iris data set (imported from plotly). Colour by species. \n",
    "# Use a colour scale friendly to colour blind people.\n",
    "import plotly.express as px\n",
    "df = px.data.iris()\n",
    "fig = px.scatter(df, x=\"petal_width\", y=\"petal_length\", color=\"species\", color_discrete_sequence=px.colors.qualitative.Vivid)\n",
    "fig.show()"
   ]
  },
  {
   "cell_type": "markdown",
   "metadata": {
    "slideshow": {
     "slide_type": "slide"
    },
    "tags": []
   },
   "source": [
    "## Colour perception\n",
    "- Colour perception is not linear with RGB values.\n",
    "- Thus, resolving colours of different intensities is not equal for all colours.\n",
    "- Some colour gradients are specially made to appear linear.\n",
    "    - [matplotlib colormaps](https://matplotlib.org/stable/users/explain/colors/colormaps.html) has a comprehensive overview of colour choices."
   ]
  },
  {
   "cell_type": "code",
   "execution_count": 6,
   "metadata": {
    "slideshow": {
     "slide_type": "slide"
    },
    "tags": []
   },
   "outputs": [
    {
     "data": {
      "application/vnd.jupyter.widget-view+json": {
       "model_id": "1b3ca91f2f634cd59b977c1570234361",
       "version_major": 2,
       "version_minor": 0
      },
      "text/plain": [
       "interactive(children=(IntSlider(value=20, description='n', min=20), Output()), _dom_classes=('widget-interact'…"
      ]
     },
     "metadata": {},
     "output_type": "display_data"
    },
    {
     "data": {
      "text/plain": [
       "<function __main__.plot_rectangles(n)>"
      ]
     },
     "execution_count": 6,
     "metadata": {},
     "output_type": "execute_result"
    }
   ],
   "source": [
    "# Add ipywidgets slider to control the number of rectangles.\n",
    "import matplotlib.pyplot as plt\n",
    "import matplotlib.patches as patches\n",
    "import ipywidgets as widgets\n",
    "def plot_rectangles(n):\n",
    "    # Set figure size to 10 x 4\n",
    "    _, ax = plt.subplots(figsize=(10, 4))\n",
    "    for i in range(n):\n",
    "        rectR = patches.Rectangle((i / n, 5), 1 / n, 1, facecolor=(i / (n-1), 0, 0))\n",
    "        ax.add_patch(rectR)\n",
    "        rectG = patches.Rectangle((i / n, 4), 1 / n, 1, facecolor=(0, i / (n-1), 0))\n",
    "        ax.add_patch(rectG)\n",
    "        rectB = patches.Rectangle((i / n, 3), 1 / n, 1, facecolor=(0, 0, i / (n-1)))\n",
    "        ax.add_patch(rectB)\n",
    "        rectY = patches.Rectangle((i / n, 2), 1 / n, 1, facecolor=(i / (n-1), i / (n-1), 0))\n",
    "        ax.add_patch(rectY)\n",
    "        rectC = patches.Rectangle((i / n, 1), 1 / n, 1, facecolor=(0, i / (n-1), i / (n-1)))\n",
    "        ax.add_patch(rectC)\n",
    "        rectM = patches.Rectangle((i / n, 0), 1 / n, 1, facecolor=(i / (n-1), 0, i / (n-1)))\n",
    "        ax.add_patch(rectM)\n",
    "    # Set y limits\n",
    "    ax.set_ylim(0, 6)\n",
    "    plt.show()\n",
    "widgets.interact(plot_rectangles, n=widgets.IntSlider(min=20, max=100, step=1, value=20))"
   ]
  },
  {
   "cell_type": "code",
   "execution_count": 7,
   "metadata": {
    "slideshow": {
     "slide_type": "slide"
    },
    "tags": []
   },
   "outputs": [
    {
     "data": {
      "text/plain": [
       "['magma',\n",
       " 'inferno',\n",
       " 'plasma',\n",
       " 'viridis',\n",
       " 'cividis',\n",
       " 'twilight',\n",
       " 'twilight_shifted',\n",
       " 'turbo',\n",
       " 'Blues',\n",
       " 'BrBG',\n",
       " 'BuGn',\n",
       " 'BuPu',\n",
       " 'CMRmap',\n",
       " 'GnBu',\n",
       " 'Greens',\n",
       " 'Greys',\n",
       " 'OrRd',\n",
       " 'Oranges',\n",
       " 'PRGn',\n",
       " 'PiYG',\n",
       " 'PuBu',\n",
       " 'PuBuGn',\n",
       " 'PuOr',\n",
       " 'PuRd',\n",
       " 'Purples',\n",
       " 'RdBu',\n",
       " 'RdGy',\n",
       " 'RdPu',\n",
       " 'RdYlBu',\n",
       " 'RdYlGn',\n",
       " 'Reds',\n",
       " 'Spectral',\n",
       " 'Wistia',\n",
       " 'YlGn',\n",
       " 'YlGnBu',\n",
       " 'YlOrBr',\n",
       " 'YlOrRd',\n",
       " 'afmhot',\n",
       " 'autumn',\n",
       " 'binary',\n",
       " 'bone',\n",
       " 'brg',\n",
       " 'bwr',\n",
       " 'cool',\n",
       " 'coolwarm',\n",
       " 'copper',\n",
       " 'cubehelix',\n",
       " 'flag',\n",
       " 'gist_earth',\n",
       " 'gist_gray',\n",
       " 'gist_heat',\n",
       " 'gist_ncar',\n",
       " 'gist_rainbow',\n",
       " 'gist_stern',\n",
       " 'gist_yarg',\n",
       " 'gnuplot',\n",
       " 'gnuplot2',\n",
       " 'gray',\n",
       " 'hot',\n",
       " 'hsv',\n",
       " 'jet',\n",
       " 'nipy_spectral',\n",
       " 'ocean',\n",
       " 'pink',\n",
       " 'prism',\n",
       " 'rainbow',\n",
       " 'seismic',\n",
       " 'spring',\n",
       " 'summer',\n",
       " 'terrain',\n",
       " 'winter',\n",
       " 'Accent',\n",
       " 'Dark2',\n",
       " 'Paired',\n",
       " 'Pastel1',\n",
       " 'Pastel2',\n",
       " 'Set1',\n",
       " 'Set2',\n",
       " 'Set3',\n",
       " 'tab10',\n",
       " 'tab20',\n",
       " 'tab20b',\n",
       " 'tab20c',\n",
       " 'grey',\n",
       " 'gist_grey',\n",
       " 'gist_yerg',\n",
       " 'Grays',\n",
       " 'magma_r',\n",
       " 'inferno_r',\n",
       " 'plasma_r',\n",
       " 'viridis_r',\n",
       " 'cividis_r',\n",
       " 'twilight_r',\n",
       " 'twilight_shifted_r',\n",
       " 'turbo_r',\n",
       " 'Blues_r',\n",
       " 'BrBG_r',\n",
       " 'BuGn_r',\n",
       " 'BuPu_r',\n",
       " 'CMRmap_r',\n",
       " 'GnBu_r',\n",
       " 'Greens_r',\n",
       " 'Greys_r',\n",
       " 'OrRd_r',\n",
       " 'Oranges_r',\n",
       " 'PRGn_r',\n",
       " 'PiYG_r',\n",
       " 'PuBu_r',\n",
       " 'PuBuGn_r',\n",
       " 'PuOr_r',\n",
       " 'PuRd_r',\n",
       " 'Purples_r',\n",
       " 'RdBu_r',\n",
       " 'RdGy_r',\n",
       " 'RdPu_r',\n",
       " 'RdYlBu_r',\n",
       " 'RdYlGn_r',\n",
       " 'Reds_r',\n",
       " 'Spectral_r',\n",
       " 'Wistia_r',\n",
       " 'YlGn_r',\n",
       " 'YlGnBu_r',\n",
       " 'YlOrBr_r',\n",
       " 'YlOrRd_r',\n",
       " 'afmhot_r',\n",
       " 'autumn_r',\n",
       " 'binary_r',\n",
       " 'bone_r',\n",
       " 'brg_r',\n",
       " 'bwr_r',\n",
       " 'cool_r',\n",
       " 'coolwarm_r',\n",
       " 'copper_r',\n",
       " 'cubehelix_r',\n",
       " 'flag_r',\n",
       " 'gist_earth_r',\n",
       " 'gist_gray_r',\n",
       " 'gist_heat_r',\n",
       " 'gist_ncar_r',\n",
       " 'gist_rainbow_r',\n",
       " 'gist_stern_r',\n",
       " 'gist_yarg_r',\n",
       " 'gnuplot_r',\n",
       " 'gnuplot2_r',\n",
       " 'gray_r',\n",
       " 'hot_r',\n",
       " 'hsv_r',\n",
       " 'jet_r',\n",
       " 'nipy_spectral_r',\n",
       " 'ocean_r',\n",
       " 'pink_r',\n",
       " 'prism_r',\n",
       " 'rainbow_r',\n",
       " 'seismic_r',\n",
       " 'spring_r',\n",
       " 'summer_r',\n",
       " 'terrain_r',\n",
       " 'winter_r',\n",
       " 'Accent_r',\n",
       " 'Dark2_r',\n",
       " 'Paired_r',\n",
       " 'Pastel1_r',\n",
       " 'Pastel2_r',\n",
       " 'Set1_r',\n",
       " 'Set2_r',\n",
       " 'Set3_r',\n",
       " 'tab10_r',\n",
       " 'tab20_r',\n",
       " 'tab20b_r',\n",
       " 'tab20c_r']"
      ]
     },
     "execution_count": 7,
     "metadata": {},
     "output_type": "execute_result"
    }
   ],
   "source": [
    "# There are many colourmaps in matplotlib.\n",
    "from matplotlib import colormaps\n",
    "list(colormaps)"
   ]
  },
  {
   "cell_type": "markdown",
   "metadata": {
    "slideshow": {
     "slide_type": "slide"
    },
    "tags": []
   },
   "source": [
    "## Dashboards and reports\n",
    "### Colours\n",
    "- Colours and symbols are also useful outside plots.\n",
    "- Visual cues:\n",
    "    - Grouping elements with separate background colour or border.\n",
    "    - Making some plot stand out from the crowd by using a contrast around it.\n",
    "    - Changing background, text colour, or text background colour based on user actions or events in the data.\n",
    "- Colour themes can be complimentary to plots or crash harshly. Both are effects that are useful.\n",
    "    - Streamsync's colour-picker is useful for syncing colours or finding different versions.\n",
    "    - Changing between HEX (#000000), RGB (0,0,0), and HSL (0,0,0) can be used when exploring colours:\n",
    "        - For instance, choose a colour using the colour picker (streamsync can pick anything visible on the screen), swithc to HSL and cycle through hues.\n",
    "        - This results in limiting a colour search to colours with matching saturation (colour intensity from gray to pure) and lightness (from black to full colour/white).\n",
    "    - [Color wheels](https://www.canva.com/colors/color-wheel/) are also useful tools for selecting matching colours.\n",
    "- Colours for KPIs (key performance metrics) emphasises ranges, e.g., positive vs negative, within the normal vs extreme, etc.\n",
    "- Colours for alterts is powerful, not only in symbols/signs, but also for backgrounds."
   ]
  },
  {
   "cell_type": "markdown",
   "metadata": {
    "slideshow": {
     "slide_type": "slide"
    },
    "tags": []
   },
   "source": [
    "### Symbols\n",
    "- Emojis, cliparts, animated GIFs and similar are effective in catching attention.\n",
    "- Therefore they must be used sparingly.\n",
    "    - A spinning company logo might be cool at first sight, but quickly becomes anoying.\n",
    "    - Static, graphical elements that blend in to the theme may be used as long as they have a function, e.g., conveying identity, showing a state, or making it easy to detect which app/environment is active.\n",
    "- Symbols used as alerts must be immediately visible using sharp contrasts.\n",
    "    - In streamsync, an alert sign can be loaded on startup, but set to invisible or it can be a plot that changes."
   ]
  },
  {
   "cell_type": "markdown",
   "metadata": {
    "slideshow": {
     "slide_type": "slide"
    },
    "tags": []
   },
   "source": [
    "## Exercise\n",
    "- Test the use of colors and conditional symbols/flags in streamsync."
   ]
  },
  {
   "cell_type": "markdown",
   "metadata": {
    "slideshow": {
     "slide_type": "slide"
    },
    "tags": []
   },
   "source": [
    "```{seealso} Resources\n",
    ":class: tip\n",
    "- [Colour blindness](https://en.wikipedia.org/wiki/Color_blindness)\n",
    "- [matplotlib colormaps](https://matplotlib.org/stable/users/explain/colors/colormaps.html)\n",
    "```"
   ]
  }
 ],
 "metadata": {
  "kernelspec": {
   "display_name": "Python 3 (ipykernel)",
   "language": "python",
   "name": "python3"
  },
  "language_info": {
   "codemirror_mode": {
    "name": "ipython",
    "version": 3
   },
   "file_extension": ".py",
   "mimetype": "text/x-python",
   "name": "python",
   "nbconvert_exporter": "python",
   "pygments_lexer": "ipython3",
   "version": "3.11.6"
  }
 },
 "nbformat": 4,
 "nbformat_minor": 4
}
