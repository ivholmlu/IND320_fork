{
 "cells": [
  {
   "cell_type": "markdown",
   "metadata": {
    "slideshow": {
     "slide_type": "slide"
    }
   },
   "source": [
    "# Noise reduction\n",
    "NOTE: As of 4. October 2023, we are hoping for a fix of the HTML-ipywidget problems showing up in the compiled JupyterBook.  \n",
    "- Noise reduction is typically the process of estimating and removing/reducing noise in a time series or spectrum.\n",
    "    - Measured wind speed: Average wind (over a suitably small time interval) may be more interesting than every little whirl and change.\n",
    "    - Master thesis on nuclear reactor cracks: 15 second resoultion gives uninteresting variations in the micrometer scale signal.\n",
    "    - Instruments have a limit to their certified sensitivity: Smoothing sub-sensitivity can make sense.\n",
    "- [scipy.signal](https://docs.scipy.org/doc/scipy/reference/signal.html) and [scipy.ndimage](https://docs.scipy.org/doc/scipy/reference/ndimage.html) have wide ranges of possibilites.\n",
    "- At this stage the general assumption is that noise is uninformative, thus can be removed without harming the signal."
   ]
  },
  {
   "cell_type": "code",
   "execution_count": null,
   "metadata": {
    "slideshow": {
     "slide_type": "fragment"
    }
   },
   "outputs": [],
   "source": [
    "import numpy as np\n",
    "def SNR(signal, noise):\n",
    "    return 10*np.log10(np.sum(signal**2)/np.sum(noise**2))"
   ]
  },
  {
   "cell_type": "code",
   "execution_count": null,
   "metadata": {
    "slideshow": {
     "slide_type": "slide"
    }
   },
   "outputs": [],
   "source": [
    "# Plot a cosine curve from 0 to 3pi\n",
    "import matplotlib.pyplot as plt\n",
    "x = np.linspace(0, 4*np.pi, 500)\n",
    "y_cos = np.cos(x)\n",
    "\n",
    "# Add noise to the curve\n",
    "noise = 0.2*np.random.normal(size=(len(x)))\n",
    "plt.plot(x, y_cos+noise, label='Noisy cosine curve')\n",
    "plt.plot(x, y_cos, label='Cosine curve')\n",
    "plt.xlabel('radians')\n",
    "plt.ylabel('amplitude')\n",
    "plt.legend()\n",
    "plt.show()"
   ]
  },
  {
   "cell_type": "markdown",
   "metadata": {
    "slideshow": {
     "slide_type": "slide"
    }
   },
   "source": [
    "## Moving average\n",
    "- A window of length _n_ slides along the measured values.\n",
    "    - Compute the average value of the window\n",
    "    - Replace the central value.\n",
    "- One of the simplest approaches available.\n",
    "- Useable on streaming data:\n",
    "    - No learning, lag equal to window width.\n",
    "- Can be tuned:\n",
    "    - Width of the window.\n",
    "    - Weighted average, e.g., more weight on the central values.\n",
    "    - Median instead of mean.\n",
    "    - Replace the last value instead of the middle value (maybe using different weights)."
   ]
  },
  {
   "cell_type": "markdown",
   "metadata": {
    "slideshow": {
     "slide_type": "slide"
    }
   },
   "source": [
    "### Simple moving average\n",
    "An efficient alterantive can be found in the [Uniform 1D filter from SciPy](https://docs.scipy.org/doc/scipy/reference/generated/scipy.ndimage.uniform_filter1d.html).\n",
    "- Handles edge effects - which values to where the window doesn't fit?\n",
    "- Can set which value to replace."
   ]
  },
  {
   "cell_type": "code",
   "execution_count": null,
   "metadata": {
    "slideshow": {
     "slide_type": "slide"
    }
   },
   "outputs": [],
   "source": [
    "# Apply a simple moving average filter using uniform_filter1d\n",
    "from scipy.ndimage import uniform_filter1d\n",
    "y_sma = uniform_filter1d(y_cos+noise, size=20) # Note that 'size' refers to number of values, not x-axis units\n",
    "plt.plot(x, y_sma, label='Moving average')\n",
    "plt.plot(x, y_cos, label='Cosine curve')\n",
    "plt.xlabel('radians')\n",
    "plt.ylabel('amplitude')\n",
    "plt.legend()\n",
    "plt.show()\n",
    "print('SNR: {:.2f} dB'.format(SNR(y_cos, y_cos-y_sma)))"
   ]
  },
  {
   "cell_type": "code",
   "execution_count": null,
   "metadata": {
    "slideshow": {
     "slide_type": "slide"
    }
   },
   "outputs": [],
   "source": [
    "# The filter affects only locally\n",
    "x = np.linspace(0, 4*np.pi, 500)\n",
    "z = np.zeros(len(x))\n",
    "z[200:220] = 1/20 # Filter of width 20 at position 210\n",
    "plt.plot(x, z)\n",
    "plt.xlabel('radians')\n",
    "plt.ylabel('effect of filter')\n",
    "plt.rcParams['figure.figsize'] = [5, 4]\n",
    "plt.show()"
   ]
  },
  {
   "cell_type": "markdown",
   "metadata": {
    "slideshow": {
     "slide_type": "slide"
    }
   },
   "source": [
    "### Adding GUI controls\n",
    "- [_ipywidgets_](https://ipywidgets.readthedocs.io/en/latest/examples/Using%20Interact.html) is one way of adding controls to a plot.\n",
    "- Wrap your plot in a function, give the function as input to interact together with tuples, Booleans, strings, etc. to automatically generate GUI elements."
   ]
  },
  {
   "cell_type": "code",
   "execution_count": null,
   "metadata": {
    "slideshow": {
     "slide_type": "fragment"
    }
   },
   "outputs": [],
   "source": [
    "# Use ipywidgets to interactively change the size of the filter\n",
    "from ipywidgets import interact\n",
    "def plot_sma(size):\n",
    "    y_sma = uniform_filter1d(y_cos+noise, size=size)\n",
    "    plt.plot(x, y_sma, label='Moving average')\n",
    "    plt.plot(x, y_cos, label='Cosine curve')\n",
    "    plt.xlabel('radians')\n",
    "    plt.ylabel('amplitude')\n",
    "    plt.legend()\n",
    "    plt.title('SNR: {:.2f} dB'.format(SNR(y_cos, y_cos-y_sma)))\n",
    "    plt.show()\n",
    "interact(plot_sma, size=(1, 100, 1))\n"
   ]
  },
  {
   "cell_type": "markdown",
   "metadata": {
    "slideshow": {
     "slide_type": "slide"
    }
   },
   "source": [
    "### Exercise\n",
    "1. Modify the interactive code to include choice of edge effect handling.\n",
    "2. Modify further to choose between first, middle and last point in the window for origin (replaced value)."
   ]
  },
  {
   "cell_type": "markdown",
   "metadata": {
    "slideshow": {
     "slide_type": "slide"
    }
   },
   "source": [
    "## Robustifying\n",
    "- Instead of a simple average, one can use robust statistics.\n",
    "- Median filter - less affected by outliers, but results in a more jagged curve (medians typically change less frequently along a curve). ([medfilt](https://docs.scipy.org/doc/scipy/reference/generated/scipy.signal.medfilt.html) and [median_filter](https://docs.scipy.org/doc/scipy/reference/generated/scipy.ndimage.median_filter.html))\n",
    "- Robust mean filter - remove outer 5/10/20\\% of samples in the window."
   ]
  },
  {
   "cell_type": "code",
   "execution_count": null,
   "metadata": {
    "slideshow": {
     "slide_type": "fragment"
    }
   },
   "outputs": [],
   "source": [
    "# Robust mean, play with last value in the array\n",
    "m = np.array([0, 1, 2, 3, 4, 5, 6, 7, 8, 9, 20])\n",
    "np.mean(m[(m > np.percentile(m, 5)) & (m < np.percentile(m, 95))])"
   ]
  },
  {
   "cell_type": "code",
   "execution_count": null,
   "metadata": {
    "slideshow": {
     "slide_type": "slide"
    }
   },
   "outputs": [],
   "source": [
    "# Create a function that calculates the robust mean in local windows (no optimisation of speed here)\n",
    "def robust_mean(x, percentile=5):\n",
    "    return np.mean(x[(x > np.percentile(x, percentile)) & (x < np.percentile(x, 100-percentile))])\n",
    "def robust_mean_filter1d(x, filter_size, percentile):\n",
    "    tmp = np.array([robust_mean(x[i:i+filter_size], percentile=percentile) for i in range(len(x)-filter_size+1)])\n",
    "    return np.concatenate((np.repeat(tmp[1], np.floor(filter_size/2)), tmp, np.repeat(tmp[-1], np.ceil(filter_size/2)-1)))\n",
    "\n",
    "# Add five consecutive extreme values to the cosine curve\n",
    "# Example could be ice cream sales in the differente seasons with a new ice cream flavour coming out\n",
    "noise2 = noise.copy()\n",
    "noise2[100:104] = 2.5\n",
    "\n",
    "# Play with percentile and filter_size\n",
    "y_rmean = robust_mean_filter1d(y_cos+noise2, filter_size=20, percentile=20)\n",
    "plt.plot(x, y_cos+noise2, label='Cosine curve')\n",
    "plt.plot(x, y_rmean, label='Robust mean')\n",
    "plt.xlabel('radians')\n",
    "plt.ylabel('amplitude')\n",
    "plt.legend()\n",
    "plt.show()\n",
    "print('SNR: {:.2f} dB'.format(SNR(y_cos, y_cos-y_rmean)))"
   ]
  },
  {
   "cell_type": "markdown",
   "metadata": {
    "slideshow": {
     "slide_type": "slide"
    }
   },
   "source": [
    "### Gaussian weighting\n",
    "- Use a normal distribution to weight the interval.\n",
    "- [SciPy's Gaussian 1D filter](https://docs.scipy.org/doc/scipy/reference/generated/scipy.ndimage.gaussian_filter1d.html#scipy.ndimage.gaussian_filter1d) has several parameters (in addition to edge mode), but most important is:\n",
    "    - _sigma_: the standard deviation of the kernel.\n",
    "- SciPy's default is to cut the filter at +/- 4\\*sigma"
   ]
  },
  {
   "cell_type": "code",
   "execution_count": null,
   "metadata": {
    "slideshow": {
     "slide_type": "slide"
    }
   },
   "outputs": [],
   "source": [
    "import numpy as np\n",
    "import matplotlib.pyplot as plt\n",
    "\n",
    "sigma1 = 1\n",
    "sigma2 = 5\n",
    "\n",
    "def gaussian(size,sigma):\n",
    "    filter_range = np.linspace(-int(size/2),int(size/2),size)\n",
    "    # The normal distribution in 1D\n",
    "    gaussian_filter = [1 / (sigma * np.sqrt(2*np.pi)) * np.exp(-x**2/(2*sigma**2)) for x in filter_range]\n",
    "    return gaussian_filter\n",
    "\n",
    "# Plot the filters\n",
    "fig,ax = plt.subplots(1,2)\n",
    "fig.set_size_inches(8, 1)\n",
    "ax[0].plot(gaussian(size=301,sigma=sigma1))\n",
    "ax[0].axvline(x=150-4*sigma1, color='r', linestyle='--')\n",
    "ax[0].axvline(x=150+4*sigma1, color='r', linestyle='--')\n",
    "ax[0].set_title(f'sigma= {sigma1}')\n",
    "ax[1].plot(gaussian(size=301,sigma=sigma2))\n",
    "ax[1].axvline(x=150-4*sigma2, color='r', linestyle='--')\n",
    "ax[1].axvline(x=150+4*sigma2, color='r', linestyle='--')\n",
    "ax[1].set_title(f'sigma= {sigma2}')\n",
    "plt.show()"
   ]
  },
  {
   "cell_type": "code",
   "execution_count": null,
   "metadata": {
    "slideshow": {
     "slide_type": "slide"
    }
   },
   "outputs": [],
   "source": [
    "from scipy.ndimage import gaussian_filter1d\n",
    "# New data for a change.\n",
    "# Here, we do not know the true underlying signal, so SNR is not calculated\n",
    "rng = np.random.default_rng(0)\n",
    "y = rng.standard_normal(301).cumsum()\n",
    "\n",
    "def plot_gauss(sigma, show_window, position):\n",
    "    y_gauss = gaussian_filter1d(y, sigma=sigma)\n",
    "    plt.plot(y, label='Random curve')\n",
    "    plt.plot(y_gauss, label='Gaussian filtered curve')\n",
    "    if show_window:\n",
    "        plt.axvspan(position-round(4*sigma), position+round(4*sigma), color='red', alpha=0.2, label='Filter window')\n",
    "    plt.xlabel('arbitrary units')\n",
    "    plt.ylabel('amplitude')\n",
    "    plt.legend()\n",
    "    plt.show()\n",
    "interact(plot_gauss, sigma=(0.1, 10, 0.1), show_window=True, position=(30, 270, 1))"
   ]
  },
  {
   "cell_type": "markdown",
   "metadata": {
    "slideshow": {
     "slide_type": "slide"
    }
   },
   "source": [
    "## Savitzky-Golay filters\n",
    "- [Savitzky and Golay in 1964](https://en.wikipedia.org/wiki/Savitzky%E2%80%93Golay_filter) made a sliding window smoothing filter using local polynomial fitting.\n",
    "    - Smoothing parameters: \n",
    "        - Window length/size/width: typically an odd number from 3 up to length of spectrum.\n",
    "        - Polynomial order: less than window length, typically 2 or 3.\n",
    "- Combined with discrete derivatives it produces smoothed derivative curves.\n",
    "    - Popular in spectroscopy, enhances certain characteristics of chemical variation.\n",
    "    - Second derivative popular for its baseline removal effect.\n",
    "    - Derivative parameter: Degree of derivative, non-negative integer.\n",
    "- Edge effects have different defaults from software to software."
   ]
  },
  {
   "cell_type": "code",
   "execution_count": null,
   "metadata": {
    "slideshow": {
     "slide_type": "slide"
    }
   },
   "outputs": [],
   "source": [
    "# Savitsky-Golay filter\n",
    "from scipy.signal import savgol_filter # savgol_choeffs shows the coefficients used\n",
    "y_sg = savgol_filter(y, 81, 3) # window size 81, polynomial order 3\n",
    "\n",
    "# Plot the results\n",
    "plt.plot(y, label='Random curve')\n",
    "plt.plot(y_sg, label='Savitsky-Golay filtered curve')\n",
    "plt.xlabel('arbitrary units')\n",
    "plt.ylabel('amplitude')\n",
    "plt.legend()\n",
    "plt.show()"
   ]
  },
  {
   "cell_type": "markdown",
   "metadata": {
    "slideshow": {
     "slide_type": "slide"
    }
   },
   "source": [
    "### Smoothed signal or residual\n",
    "- Some times we may use a smoother to remove a trend.\n",
    "- This can be thought of as a high-pass filter (allowing only high frequencies)."
   ]
  },
  {
   "cell_type": "code",
   "execution_count": null,
   "metadata": {
    "slideshow": {
     "slide_type": "fragment"
    }
   },
   "outputs": [],
   "source": [
    "# Plot the difference between the two curves\n",
    "plt.plot(y_sg-y)\n",
    "plt.xlabel('arbitrary units')\n",
    "plt.ylabel('amplitude')\n",
    "plt.show()"
   ]
  },
  {
   "cell_type": "markdown",
   "metadata": {
    "slideshow": {
     "slide_type": "slide"
    }
   },
   "source": [
    "### Derivatives\n",
    "- A smoothed derivative shows the trend of the data series rather than the absolute value."
   ]
  },
  {
   "cell_type": "code",
   "execution_count": null,
   "metadata": {
    "slideshow": {
     "slide_type": "slide"
    }
   },
   "outputs": [],
   "source": [
    "y_sg = savgol_filter(y, 15, 3) # window size 15, polynomial order 3\n",
    "yderiv = savgol_filter(y, 15, 3, 1) # window size 15, polynomial order 3, 1st derivative\n",
    "\n",
    "# Make a side by side plot with y and y_sg on the left and np.diff(y) and yderiv on the right\n",
    "fig,ax = plt.subplots(1,2)\n",
    "fig.set_size_inches(10, 4)\n",
    "ax[0].plot(y, label='Random curve')\n",
    "ax[0].plot(y_sg, label='Savitsky-Golay filtered curve')\n",
    "ax[0].set_xlabel('arbitrary units')\n",
    "ax[0].set_ylabel('amplitude')\n",
    "ax[0].legend()\n",
    "ax[1].plot(np.diff(y), label='Discrete derivative')\n",
    "ax[1].plot(yderiv, label='Savitsky-Golay filtered derivative')\n",
    "ax[1].set_xlabel('arbitrary units')\n",
    "ax[1].set_ylabel('amplitude')\n",
    "ax[1].legend()\n",
    "# Add a horizontal black line at y=0\n",
    "ax[1].axhline(y=0, color='k', linestyle='-')\n",
    "plt.show()"
   ]
  },
  {
   "cell_type": "markdown",
   "metadata": {
    "slideshow": {
     "slide_type": "slide"
    }
   },
   "source": [
    "## Whittaker smoother\n",
    "- Whittaker in 1923 proposed to replace noisy data by a curve built from a penalized regression.\n",
    "    - Minimise difference between the curve and data while enforcing smoothing, typically in the form of a second derivative penalty.  \n",
    "      $F(\\hat{y}) = \\|y-\\hat{y}\\| + sP(\\hat{y})$\n",
    "    - $s$ controls the amount of smoothing.\n",
    "    - Closely related to Tikhonov Regression and its special case Ridge Regression (L2 penalisation).\n",
    "    - Python library [pybaselines.whittaker](https://pybaselines.readthedocs.io/en/latest/api/pybaselines/whittaker/index.html)."
   ]
  },
  {
   "cell_type": "code",
   "execution_count": null,
   "metadata": {
    "slideshow": {
     "slide_type": "slide"
    }
   },
   "outputs": [],
   "source": [
    "from pybaselines.whittaker import asls\n",
    "# p=0.5 centres the \"baseline\" inside the data.\n",
    "y_whit, params = asls(y, 10**1, p=0.5)\n",
    "\n",
    "# Plot the results\n",
    "plt.plot(y, label='Random curve')\n",
    "plt.plot(y_whit, label='Whittaker filtered curve')\n",
    "plt.xlabel('arbitrary units')\n",
    "plt.ylabel('amplitude')\n",
    "plt.legend()\n",
    "plt.show()"
   ]
  },
  {
   "cell_type": "markdown",
   "metadata": {
    "slideshow": {
     "slide_type": "slide"
    }
   },
   "source": [
    "### Baseline estimation\n",
    "- Used for baseline estimation/correction, the Whittaker smoother comes in many flavours.\n",
    "- Basic version: Asymmetric Least Squares (PHM Eilers 2003) iteratively weights each point along the curve by:\n",
    "    - $1-p$ if the curve is below the data,\n",
    "    - $p$ if the curve is above the data."
   ]
  },
  {
   "cell_type": "code",
   "execution_count": null,
   "metadata": {
    "slideshow": {
     "slide_type": "slide"
    }
   },
   "outputs": [],
   "source": [
    "# p<>0.5 moves the \"baseline\" towards outer regions of the data.\n",
    "\n",
    "# Plot the results\n",
    "def plot_asls(max_iter):\n",
    "    y_whit_u, _ = asls(y, 10**4, p=0.98, max_iter=max_iter)\n",
    "    y_whit_l, _ = asls(y, 10**4, p=0.02, max_iter=max_iter)\n",
    "    plt.plot(y, label='Random curve')\n",
    "    plt.plot(y_whit_u, label='Whittaker upper curve (p=0.99))')\n",
    "    plt.plot(y_whit_l, label='Whittaker lower curve (p=0.01))')\n",
    "    plt.xlabel('arbitrary units')\n",
    "    plt.ylabel('amplitude')\n",
    "    plt.legend()\n",
    "    plt.show()\n",
    "interact(plot_asls, max_iter=(0, 10, 1))"
   ]
  },
  {
   "cell_type": "markdown",
   "metadata": {
    "slideshow": {
     "slide_type": "slide"
    }
   },
   "source": [
    "### Exponential decay in weights\n",
    "- Example of flavours: \"Peaked Signal's Asymmetric Least Squares Algorithm\"\n",
    "- Documentation:  \n",
    "  \"Similar to the asymmetric least squares algorithm, but applies an exponential decay weighting to values greater than the baseline to allow using a higher p value to better fit noisy data.\"\n",
    "- This version is not symmetric to up and down in the plot as we now in practice have $p\\cdot e^{-(y_i-\\hat{y}_i)/m}$ and $1-p$, so the code must be adapted to find \"topline\". ($m$ is a parameter controlling the exponential decay.)"
   ]
  },
  {
   "cell_type": "code",
   "execution_count": null,
   "metadata": {
    "slideshow": {
     "slide_type": "slide"
    }
   },
   "outputs": [],
   "source": [
    "from pybaselines.whittaker import psalsa\n",
    "\n",
    "y_whit_u, _ = psalsa(-y, 10**2, p=0.1)\n",
    "y_whit_l, _ = psalsa(y, 10**2, p=0.1)\n",
    "plt.plot(y, label='Random curve')\n",
    "plt.plot(-y_whit_u, label='Whittaker upper curve \"(p=0.9)\")')\n",
    "plt.plot(y_whit_l, label='Whittaker lower curve (p=0.1))')\n",
    "plt.xlabel('arbitrary units')\n",
    "plt.ylabel('amplitude')\n",
    "plt.legend()\n",
    "plt.show()"
   ]
  },
  {
   "cell_type": "markdown",
   "metadata": {
    "slideshow": {
     "slide_type": "slide"
    }
   },
   "source": [
    "## Exercise\n",
    "- Fix the $p$ value at 0.01 and 0.99, respectively, for the upper (U) and lower curve (L).\n",
    "- Let max_iter take it's default value, and assign the power of the smoother ($10^k$) to the slider ($k \\in [0,10]$ with increments of 0.1).\n",
    "- Make a side-by-side plot where the left one shows the same as the above, while the right one shows the data (D) after subtracting the lower curve (D-L) and dividing by the difference between the upper and lower curve (D-L)/(U-L)."
   ]
  },
  {
   "cell_type": "markdown",
   "metadata": {
    "slideshow": {
     "slide_type": "slide"
    }
   },
   "source": [
    "## Resources\n",
    "- [Signal-to-Noise Ratio in Python](https://saturncloud.io/blog/calculating-signaltonoise-ratio-in-python-with-scipy-v11/)\n",
    "- [Wikipedia: Decibels (dB)](https://en.wikipedia.org/wiki/Decibel)\n",
    "- [scipy.signal](https://docs.scipy.org/doc/scipy/reference/signal.html)\n",
    "- [medfilt](https://docs.scipy.org/doc/scipy/reference/generated/scipy.signal.medfilt.html) and [median_filter](https://docs.scipy.org/doc/scipy/reference/generated/scipy.ndimage.median_filter.html)\n",
    "- [ipywidgets](https://ipywidgets.readthedocs.io/en/latest/examples/Using%20Interact.html)\n",
    "- [pybaselines.whittaker](https://pybaselines.readthedocs.io/en/latest/api/pybaselines/whittaker/index.html)\n",
    "- [Wikipedia: Savitzky-Golay filter](https://en.wikipedia.org/wiki/Savitzky%E2%80%93Golay_filter)"
   ]
  }
 ],
 "metadata": {
  "celltoolbar": "Slideshow",
  "kernelspec": {
   "display_name": "Python 3 (ipykernel)",
   "language": "python",
   "name": "python3"
  },
  "language_info": {
   "codemirror_mode": {
    "name": "ipython",
    "version": 3
   },
   "file_extension": ".py",
   "mimetype": "text/x-python",
   "name": "python",
   "nbconvert_exporter": "python",
   "pygments_lexer": "ipython3",
   "version": "3.10.6"
  }
 },
 "nbformat": 4,
 "nbformat_minor": 2
}
