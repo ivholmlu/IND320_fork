{
 "cells": [
  {
   "cell_type": "markdown",
   "metadata": {},
   "source": [
    "# Static and streaming data\n",
    "The main topics here are:\n",
    "- [Data formats](./Data_formats.ipynb)\n",
    "- [Streaming data](./Streaming_data.ipynb)"
   ]
  }
 ],
 "metadata": {
  "language_info": {
   "name": "python"
  },
  "orig_nbformat": 4
 },
 "nbformat": 4,
 "nbformat_minor": 2
}
