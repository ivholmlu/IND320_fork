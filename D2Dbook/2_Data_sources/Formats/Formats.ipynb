{
 "cells": [
  {
   "cell_type": "markdown",
   "metadata": {},
   "source": [
    "# Static and streaming data\n",
    "Before introducing databases and APIs it is usefull to have some basic knowledge about data formats. We will introduce:\n",
    "- [Data formats](./Data_formats.ipynb) - some important formats for data storage and handling.\n",
    "    - Open and proprietary file formats, data exchange formats and encoding.\n",
    "- [Streaming data](./Streaming_data.ipynb) - a brief intro to streaming data.\n",
    "    - This theme will be revisited in later chapters."
   ]
  }
 ],
 "metadata": {
  "language_info": {
   "name": "python"
  },
  "orig_nbformat": 4
 },
 "nbformat": 4,
 "nbformat_minor": 2
}
