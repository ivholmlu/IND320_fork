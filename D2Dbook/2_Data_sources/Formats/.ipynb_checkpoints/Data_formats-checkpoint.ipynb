{
 "cells": [
  {
   "cell_type": "markdown",
   "metadata": {
    "slideshow": {
     "slide_type": "slide"
    }
   },
   "source": [
    "# Data formats\n",
    "Data come in many forms and formats, depending on source and function."
   ]
  },
  {
   "cell_type": "markdown",
   "metadata": {
    "slideshow": {
     "slide_type": "slide"
    }
   },
   "source": [
    "## \"Flat\" text files\n",
    "- .txt, .dat, .csv, .fasta, ...\n",
    "- Often with a fixed format\n",
    "    - Comma separated columns\n",
    "    - Tabulator separated columns\n",
    "    - Fixed width columns\n",
    "    - Headers, subheaders\n",
    "    - Sections with keywords"
   ]
  },
  {
   "cell_type": "code",
   "execution_count": 1,
   "metadata": {
    "slideshow": {
     "slide_type": "slide"
    }
   },
   "outputs": [
    {
     "data": {
      "text/html": [
       "<div>\n",
       "<style scoped>\n",
       "    .dataframe tbody tr th:only-of-type {\n",
       "        vertical-align: middle;\n",
       "    }\n",
       "\n",
       "    .dataframe tbody tr th {\n",
       "        vertical-align: top;\n",
       "    }\n",
       "\n",
       "    .dataframe thead th {\n",
       "        text-align: right;\n",
       "    }\n",
       "</style>\n",
       "<table border=\"1\" class=\"dataframe\">\n",
       "  <thead>\n",
       "    <tr style=\"text-align: right;\">\n",
       "      <th></th>\n",
       "      <th>planet</th>\n",
       "      <th>distance</th>\n",
       "    </tr>\n",
       "  </thead>\n",
       "  <tbody>\n",
       "    <tr>\n",
       "      <th>0</th>\n",
       "      <td>Mercury</td>\n",
       "      <td>0.387 AU</td>\n",
       "    </tr>\n",
       "    <tr>\n",
       "      <th>1</th>\n",
       "      <td>Venus</td>\n",
       "      <td>0.723 AU</td>\n",
       "    </tr>\n",
       "    <tr>\n",
       "      <th>2</th>\n",
       "      <td>Earth</td>\n",
       "      <td>1.000 AU</td>\n",
       "    </tr>\n",
       "    <tr>\n",
       "      <th>3</th>\n",
       "      <td>Mars</td>\n",
       "      <td>1.524 AU</td>\n",
       "    </tr>\n",
       "    <tr>\n",
       "      <th>4</th>\n",
       "      <td>Jupiter</td>\n",
       "      <td>5.203 AU</td>\n",
       "    </tr>\n",
       "  </tbody>\n",
       "</table>\n",
       "</div>"
      ],
      "text/plain": [
       "    planet  distance\n",
       "0  Mercury  0.387 AU\n",
       "1    Venus  0.723 AU\n",
       "2    Earth  1.000 AU\n",
       "3     Mars  1.524 AU\n",
       "4  Jupiter  5.203 AU"
      ]
     },
     "execution_count": 1,
     "metadata": {},
     "output_type": "execute_result"
    }
   ],
   "source": [
    "import pandas as pd\n",
    "planets_DF = pd.read_csv('../../data/planets.csv')\n",
    "planets_DF.head()"
   ]
  },
  {
   "cell_type": "code",
   "execution_count": 2,
   "metadata": {
    "slideshow": {
     "slide_type": "slide"
    }
   },
   "outputs": [
    {
     "data": {
      "text/html": [
       "<div>\n",
       "<style scoped>\n",
       "    .dataframe tbody tr th:only-of-type {\n",
       "        vertical-align: middle;\n",
       "    }\n",
       "\n",
       "    .dataframe tbody tr th {\n",
       "        vertical-align: top;\n",
       "    }\n",
       "\n",
       "    .dataframe thead th {\n",
       "        text-align: right;\n",
       "    }\n",
       "</style>\n",
       "<table border=\"1\" class=\"dataframe\">\n",
       "  <thead>\n",
       "    <tr style=\"text-align: right;\">\n",
       "      <th></th>\n",
       "      <th>planet</th>\n",
       "      <th>distance</th>\n",
       "    </tr>\n",
       "  </thead>\n",
       "  <tbody>\n",
       "    <tr>\n",
       "      <th>0</th>\n",
       "      <td>Mercury</td>\n",
       "      <td>0.387</td>\n",
       "    </tr>\n",
       "    <tr>\n",
       "      <th>1</th>\n",
       "      <td>Venus</td>\n",
       "      <td>0.723</td>\n",
       "    </tr>\n",
       "    <tr>\n",
       "      <th>2</th>\n",
       "      <td>Earth</td>\n",
       "      <td>1.000</td>\n",
       "    </tr>\n",
       "    <tr>\n",
       "      <th>3</th>\n",
       "      <td>Mars</td>\n",
       "      <td>1.524</td>\n",
       "    </tr>\n",
       "    <tr>\n",
       "      <th>4</th>\n",
       "      <td>Jupiter</td>\n",
       "      <td>5.203</td>\n",
       "    </tr>\n",
       "  </tbody>\n",
       "</table>\n",
       "</div>"
      ],
      "text/plain": [
       "    planet  distance\n",
       "0  Mercury     0.387\n",
       "1    Venus     0.723\n",
       "2    Earth     1.000\n",
       "3     Mars     1.524\n",
       "4  Jupiter     5.203"
      ]
     },
     "execution_count": 2,
     "metadata": {},
     "output_type": "execute_result"
    }
   ],
   "source": [
    "# Using planets_DF as input, remove \" AU\" from the \"distance\" column and convert it to a float\n",
    "planets_DF['distance'] = planets_DF['distance'].str.replace(' AU', '').astype(float)\n",
    "planets_DF.head()"
   ]
  },
  {
   "cell_type": "markdown",
   "metadata": {
    "slideshow": {
     "slide_type": "slide"
    }
   },
   "source": [
    "### Plotting directly with Pandas\n",
    "Instead of converting data to NumPy arrays and plotting, it is possible to plot directly from Pandas with [special plot commands](https://pandas.pydata.org/docs/reference/plotting.html) and [.plot.xxx()](https://pandas.pydata.org/docs/reference/api/pandas.DataFrame.plot.html)."
   ]
  },
  {
   "cell_type": "code",
   "execution_count": 3,
   "metadata": {
    "slideshow": {
     "slide_type": "slide"
    }
   },
   "outputs": [
    {
     "data": {
      "image/png": "[encoded data removed]",
      "text/plain": [
       "<Figure size 640x480 with 1 Axes>"
      ]
     },
     "metadata": {},
     "output_type": "display_data"
    }
   ],
   "source": [
    "# Bar plot\n",
    "import matplotlib.pyplot as plt\n",
    "planets_DF.plot.bar(x='planet', y='distance', rot=0)\n",
    "plt.show()"
   ]
  },
  {
   "cell_type": "code",
   "execution_count": 4,
   "metadata": {
    "slideshow": {
     "slide_type": "slide"
    }
   },
   "outputs": [
    {
     "data": {
      "image/png": "[encoded data removed]",
      "text/plain": [
       "<Figure size 1000x1000 with 1 Axes>"
      ]
     },
     "metadata": {},
     "output_type": "display_data"
    }
   ],
   "source": [
    "# Plot concentric ellipses for each planet where the size of the ellipse is proportional to \n",
    "# the planet's distance. Add planet names to the plot. Let the xlim and ylim extend from -31 to 31.\n",
    "import matplotlib.pyplot as plt\n",
    "import numpy as np\n",
    "fig, ax = plt.subplots(figsize=(10,10))\n",
    "ax.set_xlim(-31, 31)\n",
    "ax.set_ylim(-31, 31)\n",
    "ax.set_aspect('equal')\n",
    "ax.set_facecolor('black')\n",
    "for i in range(len(planets_DF)):\n",
    "    ax.add_artist(plt.Circle((0,0), planets_DF['distance'][i], color='white', fill=False))\n",
    "    ax.text(planets_DF['distance'][i], 0, planets_DF['planet'][i], color='white', ha='center', va='center')\n",
    "plt.show()"
   ]
  },
  {
   "cell_type": "markdown",
   "metadata": {
    "slideshow": {
     "slide_type": "slide"
    }
   },
   "source": [
    "## Excel files\n",
    "Look at the Budget.xlsx file in the _data_ folder to justify the choice of import below.  \n",
    "Should this be adjusted?  \n",
    "  \n",
    "[pd.read_excel()](https://pandas.pydata.org/docs/reference/api/pandas.read_excel.html)"
   ]
  },
  {
   "cell_type": "code",
   "execution_count": 5,
   "metadata": {
    "slideshow": {
     "slide_type": "slide"
    }
   },
   "outputs": [
    {
     "data": {
      "text/html": [
       "<div>\n",
       "<style scoped>\n",
       "    .dataframe tbody tr th:only-of-type {\n",
       "        vertical-align: middle;\n",
       "    }\n",
       "\n",
       "    .dataframe tbody tr th {\n",
       "        vertical-align: top;\n",
       "    }\n",
       "\n",
       "    .dataframe thead th {\n",
       "        text-align: right;\n",
       "    }\n",
       "</style>\n",
       "<table border=\"1\" class=\"dataframe\">\n",
       "  <thead>\n",
       "    <tr style=\"text-align: right;\">\n",
       "      <th></th>\n",
       "      <th>1</th>\n",
       "      <th>2</th>\n",
       "      <th>3</th>\n",
       "      <th>4</th>\n",
       "      <th>5</th>\n",
       "      <th>6</th>\n",
       "      <th>7</th>\n",
       "      <th>8</th>\n",
       "      <th>9</th>\n",
       "      <th>10</th>\n",
       "      <th>11</th>\n",
       "      <th>12</th>\n",
       "      <th>Unnamed: 13</th>\n",
       "    </tr>\n",
       "    <tr>\n",
       "      <th>SalespersonID</th>\n",
       "      <th></th>\n",
       "      <th></th>\n",
       "      <th></th>\n",
       "      <th></th>\n",
       "      <th></th>\n",
       "      <th></th>\n",
       "      <th></th>\n",
       "      <th></th>\n",
       "      <th></th>\n",
       "      <th></th>\n",
       "      <th></th>\n",
       "      <th></th>\n",
       "      <th></th>\n",
       "    </tr>\n",
       "  </thead>\n",
       "  <tbody>\n",
       "    <tr>\n",
       "      <th>102</th>\n",
       "      <td>NaN</td>\n",
       "      <td>NaN</td>\n",
       "      <td>54.728491</td>\n",
       "      <td>8.053198e+02</td>\n",
       "      <td>1010.005526</td>\n",
       "      <td>NaN</td>\n",
       "      <td>1572.864176</td>\n",
       "      <td>196.077202</td>\n",
       "      <td>1896.777586</td>\n",
       "      <td>1430.463445</td>\n",
       "      <td>347.092894</td>\n",
       "      <td>723.918675</td>\n",
       "      <td>8.037248e+03</td>\n",
       "    </tr>\n",
       "    <tr>\n",
       "      <th>125</th>\n",
       "      <td>9016.031000</td>\n",
       "      <td>12635.710568</td>\n",
       "      <td>3975.959267</td>\n",
       "      <td>3.541869e+04</td>\n",
       "      <td>67254.905958</td>\n",
       "      <td>108270.212920</td>\n",
       "      <td>129885.185350</td>\n",
       "      <td>51801.187615</td>\n",
       "      <td>80833.313215</td>\n",
       "      <td>14351.065997</td>\n",
       "      <td>99034.421805</td>\n",
       "      <td>5946.076427</td>\n",
       "      <td>6.184228e+05</td>\n",
       "    </tr>\n",
       "    <tr>\n",
       "      <th>144</th>\n",
       "      <td>9870.923721</td>\n",
       "      <td>8537.674024</td>\n",
       "      <td>34467.719310</td>\n",
       "      <td>1.314835e+05</td>\n",
       "      <td>63478.807310</td>\n",
       "      <td>80332.088219</td>\n",
       "      <td>8950.845553</td>\n",
       "      <td>51091.397573</td>\n",
       "      <td>28463.939431</td>\n",
       "      <td>136104.694978</td>\n",
       "      <td>29076.741297</td>\n",
       "      <td>35033.416700</td>\n",
       "      <td>6.168917e+05</td>\n",
       "    </tr>\n",
       "    <tr>\n",
       "      <th>183</th>\n",
       "      <td>1394.216707</td>\n",
       "      <td>6598.171435</td>\n",
       "      <td>15397.847623</td>\n",
       "      <td>2.877323e+04</td>\n",
       "      <td>6530.927321</td>\n",
       "      <td>158828.572729</td>\n",
       "      <td>66426.139653</td>\n",
       "      <td>29403.035538</td>\n",
       "      <td>139983.518128</td>\n",
       "      <td>231592.365267</td>\n",
       "      <td>20132.676098</td>\n",
       "      <td>17248.364886</td>\n",
       "      <td>7.223091e+05</td>\n",
       "    </tr>\n",
       "    <tr>\n",
       "      <th>194</th>\n",
       "      <td>NaN</td>\n",
       "      <td>NaN</td>\n",
       "      <td>NaN</td>\n",
       "      <td>NaN</td>\n",
       "      <td>NaN</td>\n",
       "      <td>NaN</td>\n",
       "      <td>NaN</td>\n",
       "      <td>NaN</td>\n",
       "      <td>NaN</td>\n",
       "      <td>NaN</td>\n",
       "      <td>NaN</td>\n",
       "      <td>NaN</td>\n",
       "      <td>NaN</td>\n",
       "    </tr>\n",
       "    <tr>\n",
       "      <th>196</th>\n",
       "      <td>2270.020511</td>\n",
       "      <td>12633.225198</td>\n",
       "      <td>7889.580041</td>\n",
       "      <td>2.465794e+03</td>\n",
       "      <td>199521.467124</td>\n",
       "      <td>6375.290655</td>\n",
       "      <td>24857.201539</td>\n",
       "      <td>193086.944649</td>\n",
       "      <td>66161.225155</td>\n",
       "      <td>225389.414595</td>\n",
       "      <td>53963.213693</td>\n",
       "      <td>37316.866234</td>\n",
       "      <td>8.319302e+05</td>\n",
       "    </tr>\n",
       "    <tr>\n",
       "      <th>215</th>\n",
       "      <td>5347.775816</td>\n",
       "      <td>98045.092946</td>\n",
       "      <td>14818.451817</td>\n",
       "      <td>5.493729e+05</td>\n",
       "      <td>323788.746583</td>\n",
       "      <td>122600.920552</td>\n",
       "      <td>79347.415036</td>\n",
       "      <td>353588.777730</td>\n",
       "      <td>37104.061797</td>\n",
       "      <td>41614.097652</td>\n",
       "      <td>233643.059453</td>\n",
       "      <td>583835.349542</td>\n",
       "      <td>2.443107e+06</td>\n",
       "    </tr>\n",
       "    <tr>\n",
       "      <th>265</th>\n",
       "      <td>1995.803045</td>\n",
       "      <td>2903.113376</td>\n",
       "      <td>16911.287170</td>\n",
       "      <td>2.858913e+05</td>\n",
       "      <td>143236.464661</td>\n",
       "      <td>14227.073545</td>\n",
       "      <td>403624.400847</td>\n",
       "      <td>76606.898096</td>\n",
       "      <td>11670.773263</td>\n",
       "      <td>153295.074262</td>\n",
       "      <td>202455.468961</td>\n",
       "      <td>41727.065582</td>\n",
       "      <td>1.354545e+06</td>\n",
       "    </tr>\n",
       "    <tr>\n",
       "      <th>285</th>\n",
       "      <td>NaN</td>\n",
       "      <td>NaN</td>\n",
       "      <td>NaN</td>\n",
       "      <td>NaN</td>\n",
       "      <td>NaN</td>\n",
       "      <td>NaN</td>\n",
       "      <td>NaN</td>\n",
       "      <td>NaN</td>\n",
       "      <td>NaN</td>\n",
       "      <td>NaN</td>\n",
       "      <td>NaN</td>\n",
       "      <td>NaN</td>\n",
       "      <td>NaN</td>\n",
       "    </tr>\n",
       "    <tr>\n",
       "      <th>326</th>\n",
       "      <td>NaN</td>\n",
       "      <td>NaN</td>\n",
       "      <td>NaN</td>\n",
       "      <td>NaN</td>\n",
       "      <td>NaN</td>\n",
       "      <td>NaN</td>\n",
       "      <td>NaN</td>\n",
       "      <td>NaN</td>\n",
       "      <td>NaN</td>\n",
       "      <td>NaN</td>\n",
       "      <td>NaN</td>\n",
       "      <td>NaN</td>\n",
       "      <td>NaN</td>\n",
       "    </tr>\n",
       "    <tr>\n",
       "      <th>660</th>\n",
       "      <td>NaN</td>\n",
       "      <td>NaN</td>\n",
       "      <td>NaN</td>\n",
       "      <td>NaN</td>\n",
       "      <td>NaN</td>\n",
       "      <td>NaN</td>\n",
       "      <td>NaN</td>\n",
       "      <td>NaN</td>\n",
       "      <td>NaN</td>\n",
       "      <td>NaN</td>\n",
       "      <td>NaN</td>\n",
       "      <td>NaN</td>\n",
       "      <td>NaN</td>\n",
       "    </tr>\n",
       "    <tr>\n",
       "      <th>669</th>\n",
       "      <td>NaN</td>\n",
       "      <td>NaN</td>\n",
       "      <td>NaN</td>\n",
       "      <td>NaN</td>\n",
       "      <td>NaN</td>\n",
       "      <td>4962.708683</td>\n",
       "      <td>4752.446948</td>\n",
       "      <td>11980.303433</td>\n",
       "      <td>36185.827317</td>\n",
       "      <td>28779.246362</td>\n",
       "      <td>52581.712055</td>\n",
       "      <td>29698.142511</td>\n",
       "      <td>1.689404e+05</td>\n",
       "    </tr>\n",
       "    <tr>\n",
       "      <th>Grand Total</th>\n",
       "      <td>29894.770800</td>\n",
       "      <td>141352.987547</td>\n",
       "      <td>93515.573718</td>\n",
       "      <td>1.034211e+06</td>\n",
       "      <td>804821.324483</td>\n",
       "      <td>495596.867303</td>\n",
       "      <td>719416.499101</td>\n",
       "      <td>767754.621836</td>\n",
       "      <td>402299.435893</td>\n",
       "      <td>832556.422558</td>\n",
       "      <td>691234.386255</td>\n",
       "      <td>751529.200557</td>\n",
       "      <td>6.764183e+06</td>\n",
       "    </tr>\n",
       "  </tbody>\n",
       "</table>\n",
       "</div>"
      ],
      "text/plain": [
       "                          1              2             3             4  \\\n",
       "SalespersonID                                                            \n",
       "102                     NaN            NaN     54.728491  8.053198e+02   \n",
       "125             9016.031000   12635.710568   3975.959267  3.541869e+04   \n",
       "144             9870.923721    8537.674024  34467.719310  1.314835e+05   \n",
       "183             1394.216707    6598.171435  15397.847623  2.877323e+04   \n",
       "194                     NaN            NaN           NaN           NaN   \n",
       "196             2270.020511   12633.225198   7889.580041  2.465794e+03   \n",
       "215             5347.775816   98045.092946  14818.451817  5.493729e+05   \n",
       "265             1995.803045    2903.113376  16911.287170  2.858913e+05   \n",
       "285                     NaN            NaN           NaN           NaN   \n",
       "326                     NaN            NaN           NaN           NaN   \n",
       "660                     NaN            NaN           NaN           NaN   \n",
       "669                     NaN            NaN           NaN           NaN   \n",
       "Grand Total    29894.770800  141352.987547  93515.573718  1.034211e+06   \n",
       "\n",
       "                           5              6              7              8  \\\n",
       "SalespersonID                                                               \n",
       "102              1010.005526            NaN    1572.864176     196.077202   \n",
       "125             67254.905958  108270.212920  129885.185350   51801.187615   \n",
       "144             63478.807310   80332.088219    8950.845553   51091.397573   \n",
       "183              6530.927321  158828.572729   66426.139653   29403.035538   \n",
       "194                      NaN            NaN            NaN            NaN   \n",
       "196            199521.467124    6375.290655   24857.201539  193086.944649   \n",
       "215            323788.746583  122600.920552   79347.415036  353588.777730   \n",
       "265            143236.464661   14227.073545  403624.400847   76606.898096   \n",
       "285                      NaN            NaN            NaN            NaN   \n",
       "326                      NaN            NaN            NaN            NaN   \n",
       "660                      NaN            NaN            NaN            NaN   \n",
       "669                      NaN    4962.708683    4752.446948   11980.303433   \n",
       "Grand Total    804821.324483  495596.867303  719416.499101  767754.621836   \n",
       "\n",
       "                           9             10             11             12  \\\n",
       "SalespersonID                                                               \n",
       "102              1896.777586    1430.463445     347.092894     723.918675   \n",
       "125             80833.313215   14351.065997   99034.421805    5946.076427   \n",
       "144             28463.939431  136104.694978   29076.741297   35033.416700   \n",
       "183            139983.518128  231592.365267   20132.676098   17248.364886   \n",
       "194                      NaN            NaN            NaN            NaN   \n",
       "196             66161.225155  225389.414595   53963.213693   37316.866234   \n",
       "215             37104.061797   41614.097652  233643.059453  583835.349542   \n",
       "265             11670.773263  153295.074262  202455.468961   41727.065582   \n",
       "285                      NaN            NaN            NaN            NaN   \n",
       "326                      NaN            NaN            NaN            NaN   \n",
       "660                      NaN            NaN            NaN            NaN   \n",
       "669             36185.827317   28779.246362   52581.712055   29698.142511   \n",
       "Grand Total    402299.435893  832556.422558  691234.386255  751529.200557   \n",
       "\n",
       "                Unnamed: 13  \n",
       "SalespersonID                \n",
       "102            8.037248e+03  \n",
       "125            6.184228e+05  \n",
       "144            6.168917e+05  \n",
       "183            7.223091e+05  \n",
       "194                     NaN  \n",
       "196            8.319302e+05  \n",
       "215            2.443107e+06  \n",
       "265            1.354545e+06  \n",
       "285                     NaN  \n",
       "326                     NaN  \n",
       "660                     NaN  \n",
       "669            1.689404e+05  \n",
       "Grand Total    6.764183e+06  "
      ]
     },
     "execution_count": 5,
     "metadata": {},
     "output_type": "execute_result"
    }
   ],
   "source": [
    "Budget = pd.read_excel('../../data/Budget.xlsx', sheet_name='2019', skiprows=2, index_col=0)\n",
    "Budget"
   ]
  },
  {
   "cell_type": "code",
   "execution_count": 6,
   "metadata": {
    "slideshow": {
     "slide_type": "slide"
    }
   },
   "outputs": [],
   "source": [
    "# Remove redundant row and column (sums)\n",
    "Budget = Budget.iloc[:12, :12]\n",
    "# Exchange NaN values with 0\n",
    "Budget.replace(np.NAN, 0, inplace=True)"
   ]
  },
  {
   "cell_type": "code",
   "execution_count": 7,
   "metadata": {
    "slideshow": {
     "slide_type": "slide"
    }
   },
   "outputs": [
    {
     "data": {
      "text/html": [
       "<div>\n",
       "<style scoped>\n",
       "    .dataframe tbody tr th:only-of-type {\n",
       "        vertical-align: middle;\n",
       "    }\n",
       "\n",
       "    .dataframe tbody tr th {\n",
       "        vertical-align: top;\n",
       "    }\n",
       "\n",
       "    .dataframe thead th {\n",
       "        text-align: right;\n",
       "    }\n",
       "</style>\n",
       "<table border=\"1\" class=\"dataframe\">\n",
       "  <thead>\n",
       "    <tr style=\"text-align: right;\">\n",
       "      <th></th>\n",
       "      <th>1</th>\n",
       "      <th>2</th>\n",
       "      <th>3</th>\n",
       "      <th>4</th>\n",
       "      <th>5</th>\n",
       "      <th>6</th>\n",
       "      <th>7</th>\n",
       "      <th>8</th>\n",
       "      <th>9</th>\n",
       "      <th>10</th>\n",
       "      <th>11</th>\n",
       "      <th>12</th>\n",
       "    </tr>\n",
       "    <tr>\n",
       "      <th>SalespersonID</th>\n",
       "      <th></th>\n",
       "      <th></th>\n",
       "      <th></th>\n",
       "      <th></th>\n",
       "      <th></th>\n",
       "      <th></th>\n",
       "      <th></th>\n",
       "      <th></th>\n",
       "      <th></th>\n",
       "      <th></th>\n",
       "      <th></th>\n",
       "      <th></th>\n",
       "    </tr>\n",
       "  </thead>\n",
       "  <tbody>\n",
       "    <tr>\n",
       "      <th>102</th>\n",
       "      <td>0.000000</td>\n",
       "      <td>0.000000</td>\n",
       "      <td>54.728491</td>\n",
       "      <td>805.319842</td>\n",
       "      <td>1010.005526</td>\n",
       "      <td>0.000000</td>\n",
       "      <td>1572.864176</td>\n",
       "      <td>196.077202</td>\n",
       "      <td>1896.777586</td>\n",
       "      <td>1430.463445</td>\n",
       "      <td>347.092894</td>\n",
       "      <td>723.918675</td>\n",
       "    </tr>\n",
       "    <tr>\n",
       "      <th>125</th>\n",
       "      <td>9016.031000</td>\n",
       "      <td>12635.710568</td>\n",
       "      <td>3975.959267</td>\n",
       "      <td>35418.687607</td>\n",
       "      <td>67254.905958</td>\n",
       "      <td>108270.212920</td>\n",
       "      <td>129885.185350</td>\n",
       "      <td>51801.187615</td>\n",
       "      <td>80833.313215</td>\n",
       "      <td>14351.065997</td>\n",
       "      <td>99034.421805</td>\n",
       "      <td>5946.076427</td>\n",
       "    </tr>\n",
       "    <tr>\n",
       "      <th>144</th>\n",
       "      <td>9870.923721</td>\n",
       "      <td>8537.674024</td>\n",
       "      <td>34467.719310</td>\n",
       "      <td>131483.460122</td>\n",
       "      <td>63478.807310</td>\n",
       "      <td>80332.088219</td>\n",
       "      <td>8950.845553</td>\n",
       "      <td>51091.397573</td>\n",
       "      <td>28463.939431</td>\n",
       "      <td>136104.694978</td>\n",
       "      <td>29076.741297</td>\n",
       "      <td>35033.416700</td>\n",
       "    </tr>\n",
       "    <tr>\n",
       "      <th>183</th>\n",
       "      <td>1394.216707</td>\n",
       "      <td>6598.171435</td>\n",
       "      <td>15397.847623</td>\n",
       "      <td>28773.228192</td>\n",
       "      <td>6530.927321</td>\n",
       "      <td>158828.572729</td>\n",
       "      <td>66426.139653</td>\n",
       "      <td>29403.035538</td>\n",
       "      <td>139983.518128</td>\n",
       "      <td>231592.365267</td>\n",
       "      <td>20132.676098</td>\n",
       "      <td>17248.364886</td>\n",
       "    </tr>\n",
       "    <tr>\n",
       "      <th>194</th>\n",
       "      <td>0.000000</td>\n",
       "      <td>0.000000</td>\n",
       "      <td>0.000000</td>\n",
       "      <td>0.000000</td>\n",
       "      <td>0.000000</td>\n",
       "      <td>0.000000</td>\n",
       "      <td>0.000000</td>\n",
       "      <td>0.000000</td>\n",
       "      <td>0.000000</td>\n",
       "      <td>0.000000</td>\n",
       "      <td>0.000000</td>\n",
       "      <td>0.000000</td>\n",
       "    </tr>\n",
       "    <tr>\n",
       "      <th>196</th>\n",
       "      <td>2270.020511</td>\n",
       "      <td>12633.225198</td>\n",
       "      <td>7889.580041</td>\n",
       "      <td>2465.793773</td>\n",
       "      <td>199521.467124</td>\n",
       "      <td>6375.290655</td>\n",
       "      <td>24857.201539</td>\n",
       "      <td>193086.944649</td>\n",
       "      <td>66161.225155</td>\n",
       "      <td>225389.414595</td>\n",
       "      <td>53963.213693</td>\n",
       "      <td>37316.866234</td>\n",
       "    </tr>\n",
       "    <tr>\n",
       "      <th>215</th>\n",
       "      <td>5347.775816</td>\n",
       "      <td>98045.092946</td>\n",
       "      <td>14818.451817</td>\n",
       "      <td>549372.866029</td>\n",
       "      <td>323788.746583</td>\n",
       "      <td>122600.920552</td>\n",
       "      <td>79347.415036</td>\n",
       "      <td>353588.777730</td>\n",
       "      <td>37104.061797</td>\n",
       "      <td>41614.097652</td>\n",
       "      <td>233643.059453</td>\n",
       "      <td>583835.349542</td>\n",
       "    </tr>\n",
       "    <tr>\n",
       "      <th>265</th>\n",
       "      <td>1995.803045</td>\n",
       "      <td>2903.113376</td>\n",
       "      <td>16911.287170</td>\n",
       "      <td>285891.263738</td>\n",
       "      <td>143236.464661</td>\n",
       "      <td>14227.073545</td>\n",
       "      <td>403624.400847</td>\n",
       "      <td>76606.898096</td>\n",
       "      <td>11670.773263</td>\n",
       "      <td>153295.074262</td>\n",
       "      <td>202455.468961</td>\n",
       "      <td>41727.065582</td>\n",
       "    </tr>\n",
       "    <tr>\n",
       "      <th>285</th>\n",
       "      <td>0.000000</td>\n",
       "      <td>0.000000</td>\n",
       "      <td>0.000000</td>\n",
       "      <td>0.000000</td>\n",
       "      <td>0.000000</td>\n",
       "      <td>0.000000</td>\n",
       "      <td>0.000000</td>\n",
       "      <td>0.000000</td>\n",
       "      <td>0.000000</td>\n",
       "      <td>0.000000</td>\n",
       "      <td>0.000000</td>\n",
       "      <td>0.000000</td>\n",
       "    </tr>\n",
       "    <tr>\n",
       "      <th>326</th>\n",
       "      <td>0.000000</td>\n",
       "      <td>0.000000</td>\n",
       "      <td>0.000000</td>\n",
       "      <td>0.000000</td>\n",
       "      <td>0.000000</td>\n",
       "      <td>0.000000</td>\n",
       "      <td>0.000000</td>\n",
       "      <td>0.000000</td>\n",
       "      <td>0.000000</td>\n",
       "      <td>0.000000</td>\n",
       "      <td>0.000000</td>\n",
       "      <td>0.000000</td>\n",
       "    </tr>\n",
       "    <tr>\n",
       "      <th>660</th>\n",
       "      <td>0.000000</td>\n",
       "      <td>0.000000</td>\n",
       "      <td>0.000000</td>\n",
       "      <td>0.000000</td>\n",
       "      <td>0.000000</td>\n",
       "      <td>0.000000</td>\n",
       "      <td>0.000000</td>\n",
       "      <td>0.000000</td>\n",
       "      <td>0.000000</td>\n",
       "      <td>0.000000</td>\n",
       "      <td>0.000000</td>\n",
       "      <td>0.000000</td>\n",
       "    </tr>\n",
       "    <tr>\n",
       "      <th>669</th>\n",
       "      <td>0.000000</td>\n",
       "      <td>0.000000</td>\n",
       "      <td>0.000000</td>\n",
       "      <td>0.000000</td>\n",
       "      <td>0.000000</td>\n",
       "      <td>4962.708683</td>\n",
       "      <td>4752.446948</td>\n",
       "      <td>11980.303433</td>\n",
       "      <td>36185.827317</td>\n",
       "      <td>28779.246362</td>\n",
       "      <td>52581.712055</td>\n",
       "      <td>29698.142511</td>\n",
       "    </tr>\n",
       "  </tbody>\n",
       "</table>\n",
       "</div>"
      ],
      "text/plain": [
       "                         1             2             3              4  \\\n",
       "SalespersonID                                                           \n",
       "102               0.000000      0.000000     54.728491     805.319842   \n",
       "125            9016.031000  12635.710568   3975.959267   35418.687607   \n",
       "144            9870.923721   8537.674024  34467.719310  131483.460122   \n",
       "183            1394.216707   6598.171435  15397.847623   28773.228192   \n",
       "194               0.000000      0.000000      0.000000       0.000000   \n",
       "196            2270.020511  12633.225198   7889.580041    2465.793773   \n",
       "215            5347.775816  98045.092946  14818.451817  549372.866029   \n",
       "265            1995.803045   2903.113376  16911.287170  285891.263738   \n",
       "285               0.000000      0.000000      0.000000       0.000000   \n",
       "326               0.000000      0.000000      0.000000       0.000000   \n",
       "660               0.000000      0.000000      0.000000       0.000000   \n",
       "669               0.000000      0.000000      0.000000       0.000000   \n",
       "\n",
       "                           5              6              7              8  \\\n",
       "SalespersonID                                                               \n",
       "102              1010.005526       0.000000    1572.864176     196.077202   \n",
       "125             67254.905958  108270.212920  129885.185350   51801.187615   \n",
       "144             63478.807310   80332.088219    8950.845553   51091.397573   \n",
       "183              6530.927321  158828.572729   66426.139653   29403.035538   \n",
       "194                 0.000000       0.000000       0.000000       0.000000   \n",
       "196            199521.467124    6375.290655   24857.201539  193086.944649   \n",
       "215            323788.746583  122600.920552   79347.415036  353588.777730   \n",
       "265            143236.464661   14227.073545  403624.400847   76606.898096   \n",
       "285                 0.000000       0.000000       0.000000       0.000000   \n",
       "326                 0.000000       0.000000       0.000000       0.000000   \n",
       "660                 0.000000       0.000000       0.000000       0.000000   \n",
       "669                 0.000000    4962.708683    4752.446948   11980.303433   \n",
       "\n",
       "                           9             10             11             12  \n",
       "SalespersonID                                                              \n",
       "102              1896.777586    1430.463445     347.092894     723.918675  \n",
       "125             80833.313215   14351.065997   99034.421805    5946.076427  \n",
       "144             28463.939431  136104.694978   29076.741297   35033.416700  \n",
       "183            139983.518128  231592.365267   20132.676098   17248.364886  \n",
       "194                 0.000000       0.000000       0.000000       0.000000  \n",
       "196             66161.225155  225389.414595   53963.213693   37316.866234  \n",
       "215             37104.061797   41614.097652  233643.059453  583835.349542  \n",
       "265             11670.773263  153295.074262  202455.468961   41727.065582  \n",
       "285                 0.000000       0.000000       0.000000       0.000000  \n",
       "326                 0.000000       0.000000       0.000000       0.000000  \n",
       "660                 0.000000       0.000000       0.000000       0.000000  \n",
       "669             36185.827317   28779.246362   52581.712055   29698.142511  "
      ]
     },
     "execution_count": 7,
     "metadata": {},
     "output_type": "execute_result"
    }
   ],
   "source": [
    "Budget"
   ]
  },
  {
   "cell_type": "code",
   "execution_count": 8,
   "metadata": {
    "slideshow": {
     "slide_type": "slide"
    }
   },
   "outputs": [
    {
     "data": {
      "image/png": "[encoded data removed]",
      "text/plain": [
       "<Figure size 640x480 with 1 Axes>"
      ]
     },
     "metadata": {},
     "output_type": "display_data"
    }
   ],
   "source": [
    "# Plot monthly budget as boxplot\n",
    "Budget.boxplot()\n",
    "plt.show()"
   ]
  },
  {
   "cell_type": "markdown",
   "metadata": {
    "slideshow": {
     "slide_type": "slide"
    }
   },
   "source": [
    "### Pandas plotting with different backend\n",
    "It is possible to exchange the _matplotlib_ backend in _Pandas_ with something else, e.g., the more interactive [_Plotly_](https://plotly.com/python/pandas-backend/). This may not be a full replacement."
   ]
  },
  {
   "cell_type": "code",
   "execution_count": 9,
   "metadata": {
    "slideshow": {
     "slide_type": "slide"
    }
   },
   "outputs": [
    {
     "data": {
      "application/vnd.plotly.v1+json": {
       "config": {
        "plotlyServerURL": "https://plot.ly"
       },
       "data": [
        {
         "alignmentgroup": "True",
         "hovertemplate": "variable=%{x}<br>value=%{y}<extra></extra>",
         "legendgroup": "",
         "marker": {
          "color": "#636efa"
         },
         "name": "",
         "notched": false,
         "offsetgroup": "",
         "orientation": "v",
         "showlegend": false,
         "type": "box",
         "x": [
          "1",
          "1",
          "1",
          "1",
          "1",
          "1",
          "1",
          "1",
          "1",
          "1",
          "1",
          "1",
          "2",
          "2",
          "2",
          "2",
          "2",
          "2",
          "2",
          "2",
          "2",
          "2",
          "2",
          "2",
          "3",
          "3",
          "3",
          "3",
          "3",
          "3",
          "3",
          "3",
          "3",
          "3",
          "3",
          "3",
          "4",
          "4",
          "4",
          "4",
          "4",
          "4",
          "4",
          "4",
          "4",
          "4",
          "4",
          "4",
          "5",
          "5",
          "5",
          "5",
          "5",
          "5",
          "5",
          "5",
          "5",
          "5",
          "5",
          "5",
          "6",
          "6",
          "6",
          "6",
          "6",
          "6",
          "6",
          "6",
          "6",
          "6",
          "6",
          "6",
          "7",
          "7",
          "7",
          "7",
          "7",
          "7",
          "7",
          "7",
          "7",
          "7",
          "7",
          "7",
          "8",
          "8",
          "8",
          "8",
          "8",
          "8",
          "8",
          "8",
          "8",
          "8",
          "8",
          "8",
          "9",
          "9",
          "9",
          "9",
          "9",
          "9",
          "9",
          "9",
          "9",
          "9",
          "9",
          "9",
          "10",
          "10",
          "10",
          "10",
          "10",
          "10",
          "10",
          "10",
          "10",
          "10",
          "10",
          "10",
          "11",
          "11",
          "11",
          "11",
          "11",
          "11",
          "11",
          "11",
          "11",
          "11",
          "11",
          "11",
          "12",
          "12",
          "12",
          "12",
          "12",
          "12",
          "12",
          "12",
          "12",
          "12",
          "12",
          "12"
         ],
         "x0": " ",
         "xaxis": "x",
         "y": [
          0,
          9016.03099990308,
          9870.923720683664,
          1394.2167066900333,
          0,
          2270.020511269208,
          5347.775816373356,
          1995.8030452161202,
          0,
          0,
          0,
          0,
          0,
          12635.710567699402,
          8537.67402396189,
          6598.171435314519,
          0,
          12633.225198127047,
          98045.09294595414,
          2903.113376418872,
          0,
          0,
          0,
          0,
          54.728490672433225,
          3975.9592666350836,
          34467.71930974363,
          15397.847623393727,
          0,
          7889.5800406359995,
          14818.45181713448,
          16911.287169613293,
          0,
          0,
          0,
          0,
          805.3198422391133,
          35418.687606531865,
          131483.46012165668,
          28773.22819199148,
          0,
          2465.79377323419,
          549372.8660285259,
          285891.2637375411,
          0,
          0,
          0,
          0,
          1010.0055261643748,
          67254.90595834033,
          63478.807309512384,
          6530.927321144277,
          0,
          199521.46712372947,
          323788.7465828819,
          143236.46466105047,
          0,
          0,
          0,
          0,
          0,
          108270.21292040861,
          80332.08821878904,
          158828.57272883639,
          0,
          6375.290655384282,
          122600.9205515458,
          14227.073544820025,
          0,
          0,
          0,
          4962.70868285415,
          1572.864175556268,
          129885.18534995646,
          8950.845553203664,
          66426.13965348789,
          0,
          24857.20153867354,
          79347.4150357808,
          403624.4008467927,
          0,
          0,
          0,
          4752.446947891746,
          196.07720177261524,
          51801.18761480219,
          51091.39757306274,
          29403.035538408323,
          0,
          193086.94464892868,
          353588.77773026086,
          76606.89809607923,
          0,
          0,
          0,
          11980.303432541214,
          1896.7775857392471,
          80833.31321526133,
          28463.93943114209,
          139983.51812848548,
          0,
          66161.22515547466,
          37104.06179686136,
          11670.773263365092,
          0,
          0,
          0,
          36185.82731664765,
          1430.4634449651835,
          14351.065997388097,
          136104.69497783683,
          231592.36526727324,
          0,
          225389.41459482835,
          41614.09765168026,
          153295.0742620329,
          0,
          0,
          0,
          28779.246361812664,
          347.09289449324626,
          99034.4218051732,
          29076.741296848286,
          20132.67609765061,
          0,
          53963.21369250992,
          233643.0594533441,
          202455.46896062282,
          0,
          0,
          0,
          52581.712054753276,
          723.9186753513999,
          5946.076426647522,
          35033.416699644054,
          17248.364886040607,
          0,
          37316.86623416254,
          583835.3495419848,
          41727.06558198975,
          0,
          0,
          0,
          29698.1425114419
         ],
         "y0": " ",
         "yaxis": "y"
        }
       ],
       "layout": {
        "boxmode": "group",
        "legend": {
         "tracegroupgap": 0
        },
        "margin": {
         "t": 60
        },
        "template": {
         "data": {
          "bar": [
           {
            "error_x": {
             "color": "#2a3f5f"
            },
            "error_y": {
             "color": "#2a3f5f"
            },
            "marker": {
             "line": {
              "color": "#E5ECF6",
              "width": 0.5
             },
             "pattern": {
              "fillmode": "overlay",
              "size": 10,
              "solidity": 0.2
             }
            },
            "type": "bar"
           }
          ],
          "barpolar": [
           {
            "marker": {
             "line": {
              "color": "#E5ECF6",
              "width": 0.5
             },
             "pattern": {
              "fillmode": "overlay",
              "size": 10,
              "solidity": 0.2
             }
            },
            "type": "barpolar"
           }
          ],
          "carpet": [
           {
            "aaxis": {
             "endlinecolor": "#2a3f5f",
             "gridcolor": "white",
             "linecolor": "white",
             "minorgridcolor": "white",
             "startlinecolor": "#2a3f5f"
            },
            "baxis": {
             "endlinecolor": "#2a3f5f",
             "gridcolor": "white",
             "linecolor": "white",
             "minorgridcolor": "white",
             "startlinecolor": "#2a3f5f"
            },
            "type": "carpet"
           }
          ],
          "choropleth": [
           {
            "colorbar": {
             "outlinewidth": 0,
             "ticks": ""
            },
            "type": "choropleth"
           }
          ],
          "contour": [
           {
            "colorbar": {
             "outlinewidth": 0,
             "ticks": ""
            },
            "colorscale": [
             [
              0,
              "#0d0887"
             ],
             [
              0.1111111111111111,
              "#46039f"
             ],
             [
              0.2222222222222222,
              "#7201a8"
             ],
             [
              0.3333333333333333,
              "#9c179e"
             ],
             [
              0.4444444444444444,
              "#bd3786"
             ],
             [
              0.5555555555555556,
              "#d8576b"
             ],
             [
              0.6666666666666666,
              "#ed7953"
             ],
             [
              0.7777777777777778,
              "#fb9f3a"
             ],
             [
              0.8888888888888888,
              "#fdca26"
             ],
             [
              1,
              "#f0f921"
             ]
            ],
            "type": "contour"
           }
          ],
          "contourcarpet": [
           {
            "colorbar": {
             "outlinewidth": 0,
             "ticks": ""
            },
            "type": "contourcarpet"
           }
          ],
          "heatmap": [
           {
            "colorbar": {
             "outlinewidth": 0,
             "ticks": ""
            },
            "colorscale": [
             [
              0,
              "#0d0887"
             ],
             [
              0.1111111111111111,
              "#46039f"
             ],
             [
              0.2222222222222222,
              "#7201a8"
             ],
             [
              0.3333333333333333,
              "#9c179e"
             ],
             [
              0.4444444444444444,
              "#bd3786"
             ],
             [
              0.5555555555555556,
              "#d8576b"
             ],
             [
              0.6666666666666666,
              "#ed7953"
             ],
             [
              0.7777777777777778,
              "#fb9f3a"
             ],
             [
              0.8888888888888888,
              "#fdca26"
             ],
             [
              1,
              "#f0f921"
             ]
            ],
            "type": "heatmap"
           }
          ],
          "heatmapgl": [
           {
            "colorbar": {
             "outlinewidth": 0,
             "ticks": ""
            },
            "colorscale": [
             [
              0,
              "#0d0887"
             ],
             [
              0.1111111111111111,
              "#46039f"
             ],
             [
              0.2222222222222222,
              "#7201a8"
             ],
             [
              0.3333333333333333,
              "#9c179e"
             ],
             [
              0.4444444444444444,
              "#bd3786"
             ],
             [
              0.5555555555555556,
              "#d8576b"
             ],
             [
              0.6666666666666666,
              "#ed7953"
             ],
             [
              0.7777777777777778,
              "#fb9f3a"
             ],
             [
              0.8888888888888888,
              "#fdca26"
             ],
             [
              1,
              "#f0f921"
             ]
            ],
            "type": "heatmapgl"
           }
          ],
          "histogram": [
           {
            "marker": {
             "pattern": {
              "fillmode": "overlay",
              "size": 10,
              "solidity": 0.2
             }
            },
            "type": "histogram"
           }
          ],
          "histogram2d": [
           {
            "colorbar": {
             "outlinewidth": 0,
             "ticks": ""
            },
            "colorscale": [
             [
              0,
              "#0d0887"
             ],
             [
              0.1111111111111111,
              "#46039f"
             ],
             [
              0.2222222222222222,
              "#7201a8"
             ],
             [
              0.3333333333333333,
              "#9c179e"
             ],
             [
              0.4444444444444444,
              "#bd3786"
             ],
             [
              0.5555555555555556,
              "#d8576b"
             ],
             [
              0.6666666666666666,
              "#ed7953"
             ],
             [
              0.7777777777777778,
              "#fb9f3a"
             ],
             [
              0.8888888888888888,
              "#fdca26"
             ],
             [
              1,
              "#f0f921"
             ]
            ],
            "type": "histogram2d"
           }
          ],
          "histogram2dcontour": [
           {
            "colorbar": {
             "outlinewidth": 0,
             "ticks": ""
            },
            "colorscale": [
             [
              0,
              "#0d0887"
             ],
             [
              0.1111111111111111,
              "#46039f"
             ],
             [
              0.2222222222222222,
              "#7201a8"
             ],
             [
              0.3333333333333333,
              "#9c179e"
             ],
             [
              0.4444444444444444,
              "#bd3786"
             ],
             [
              0.5555555555555556,
              "#d8576b"
             ],
             [
              0.6666666666666666,
              "#ed7953"
             ],
             [
              0.7777777777777778,
              "#fb9f3a"
             ],
             [
              0.8888888888888888,
              "#fdca26"
             ],
             [
              1,
              "#f0f921"
             ]
            ],
            "type": "histogram2dcontour"
           }
          ],
          "mesh3d": [
           {
            "colorbar": {
             "outlinewidth": 0,
             "ticks": ""
            },
            "type": "mesh3d"
           }
          ],
          "parcoords": [
           {
            "line": {
             "colorbar": {
              "outlinewidth": 0,
              "ticks": ""
             }
            },
            "type": "parcoords"
           }
          ],
          "pie": [
           {
            "automargin": true,
            "type": "pie"
           }
          ],
          "scatter": [
           {
            "fillpattern": {
             "fillmode": "overlay",
             "size": 10,
             "solidity": 0.2
            },
            "type": "scatter"
           }
          ],
          "scatter3d": [
           {
            "line": {
             "colorbar": {
              "outlinewidth": 0,
              "ticks": ""
             }
            },
            "marker": {
             "colorbar": {
              "outlinewidth": 0,
              "ticks": ""
             }
            },
            "type": "scatter3d"
           }
          ],
          "scattercarpet": [
           {
            "marker": {
             "colorbar": {
              "outlinewidth": 0,
              "ticks": ""
             }
            },
            "type": "scattercarpet"
           }
          ],
          "scattergeo": [
           {
            "marker": {
             "colorbar": {
              "outlinewidth": 0,
              "ticks": ""
             }
            },
            "type": "scattergeo"
           }
          ],
          "scattergl": [
           {
            "marker": {
             "colorbar": {
              "outlinewidth": 0,
              "ticks": ""
             }
            },
            "type": "scattergl"
           }
          ],
          "scattermapbox": [
           {
            "marker": {
             "colorbar": {
              "outlinewidth": 0,
              "ticks": ""
             }
            },
            "type": "scattermapbox"
           }
          ],
          "scatterpolar": [
           {
            "marker": {
             "colorbar": {
              "outlinewidth": 0,
              "ticks": ""
             }
            },
            "type": "scatterpolar"
           }
          ],
          "scatterpolargl": [
           {
            "marker": {
             "colorbar": {
              "outlinewidth": 0,
              "ticks": ""
             }
            },
            "type": "scatterpolargl"
           }
          ],
          "scatterternary": [
           {
            "marker": {
             "colorbar": {
              "outlinewidth": 0,
              "ticks": ""
             }
            },
            "type": "scatterternary"
           }
          ],
          "surface": [
           {
            "colorbar": {
             "outlinewidth": 0,
             "ticks": ""
            },
            "colorscale": [
             [
              0,
              "#0d0887"
             ],
             [
              0.1111111111111111,
              "#46039f"
             ],
             [
              0.2222222222222222,
              "#7201a8"
             ],
             [
              0.3333333333333333,
              "#9c179e"
             ],
             [
              0.4444444444444444,
              "#bd3786"
             ],
             [
              0.5555555555555556,
              "#d8576b"
             ],
             [
              0.6666666666666666,
              "#ed7953"
             ],
             [
              0.7777777777777778,
              "#fb9f3a"
             ],
             [
              0.8888888888888888,
              "#fdca26"
             ],
             [
              1,
              "#f0f921"
             ]
            ],
            "type": "surface"
           }
          ],
          "table": [
           {
            "cells": {
             "fill": {
              "color": "#EBF0F8"
             },
             "line": {
              "color": "white"
             }
            },
            "header": {
             "fill": {
              "color": "#C8D4E3"
             },
             "line": {
              "color": "white"
             }
            },
            "type": "table"
           }
          ]
         },
         "layout": {
          "annotationdefaults": {
           "arrowcolor": "#2a3f5f",
           "arrowhead": 0,
           "arrowwidth": 1
          },
          "autotypenumbers": "strict",
          "coloraxis": {
           "colorbar": {
            "outlinewidth": 0,
            "ticks": ""
           }
          },
          "colorscale": {
           "diverging": [
            [
             0,
             "#8e0152"
            ],
            [
             0.1,
             "#c51b7d"
            ],
            [
             0.2,
             "#de77ae"
            ],
            [
             0.3,
             "#f1b6da"
            ],
            [
             0.4,
             "#fde0ef"
            ],
            [
             0.5,
             "#f7f7f7"
            ],
            [
             0.6,
             "#e6f5d0"
            ],
            [
             0.7,
             "#b8e186"
            ],
            [
             0.8,
             "#7fbc41"
            ],
            [
             0.9,
             "#4d9221"
            ],
            [
             1,
             "#276419"
            ]
           ],
           "sequential": [
            [
             0,
             "#0d0887"
            ],
            [
             0.1111111111111111,
             "#46039f"
            ],
            [
             0.2222222222222222,
             "#7201a8"
            ],
            [
             0.3333333333333333,
             "#9c179e"
            ],
            [
             0.4444444444444444,
             "#bd3786"
            ],
            [
             0.5555555555555556,
             "#d8576b"
            ],
            [
             0.6666666666666666,
             "#ed7953"
            ],
            [
             0.7777777777777778,
             "#fb9f3a"
            ],
            [
             0.8888888888888888,
             "#fdca26"
            ],
            [
             1,
             "#f0f921"
            ]
           ],
           "sequentialminus": [
            [
             0,
             "#0d0887"
            ],
            [
             0.1111111111111111,
             "#46039f"
            ],
            [
             0.2222222222222222,
             "#7201a8"
            ],
            [
             0.3333333333333333,
             "#9c179e"
            ],
            [
             0.4444444444444444,
             "#bd3786"
            ],
            [
             0.5555555555555556,
             "#d8576b"
            ],
            [
             0.6666666666666666,
             "#ed7953"
            ],
            [
             0.7777777777777778,
             "#fb9f3a"
            ],
            [
             0.8888888888888888,
             "#fdca26"
            ],
            [
             1,
             "#f0f921"
            ]
           ]
          },
          "colorway": [
           "#636efa",
           "#EF553B",
           "#00cc96",
           "#ab63fa",
           "#FFA15A",
           "#19d3f3",
           "#FF6692",
           "#B6E880",
           "#FF97FF",
           "#FECB52"
          ],
          "font": {
           "color": "#2a3f5f"
          },
          "geo": {
           "bgcolor": "white",
           "lakecolor": "white",
           "landcolor": "#E5ECF6",
           "showlakes": true,
           "showland": true,
           "subunitcolor": "white"
          },
          "hoverlabel": {
           "align": "left"
          },
          "hovermode": "closest",
          "mapbox": {
           "style": "light"
          },
          "paper_bgcolor": "white",
          "plot_bgcolor": "#E5ECF6",
          "polar": {
           "angularaxis": {
            "gridcolor": "white",
            "linecolor": "white",
            "ticks": ""
           },
           "bgcolor": "#E5ECF6",
           "radialaxis": {
            "gridcolor": "white",
            "linecolor": "white",
            "ticks": ""
           }
          },
          "scene": {
           "xaxis": {
            "backgroundcolor": "#E5ECF6",
            "gridcolor": "white",
            "gridwidth": 2,
            "linecolor": "white",
            "showbackground": true,
            "ticks": "",
            "zerolinecolor": "white"
           },
           "yaxis": {
            "backgroundcolor": "#E5ECF6",
            "gridcolor": "white",
            "gridwidth": 2,
            "linecolor": "white",
            "showbackground": true,
            "ticks": "",
            "zerolinecolor": "white"
           },
           "zaxis": {
            "backgroundcolor": "#E5ECF6",
            "gridcolor": "white",
            "gridwidth": 2,
            "linecolor": "white",
            "showbackground": true,
            "ticks": "",
            "zerolinecolor": "white"
           }
          },
          "shapedefaults": {
           "line": {
            "color": "#2a3f5f"
           }
          },
          "ternary": {
           "aaxis": {
            "gridcolor": "white",
            "linecolor": "white",
            "ticks": ""
           },
           "baxis": {
            "gridcolor": "white",
            "linecolor": "white",
            "ticks": ""
           },
           "bgcolor": "#E5ECF6",
           "caxis": {
            "gridcolor": "white",
            "linecolor": "white",
            "ticks": ""
           }
          },
          "title": {
           "x": 0.05
          },
          "xaxis": {
           "automargin": true,
           "gridcolor": "white",
           "linecolor": "white",
           "ticks": "",
           "title": {
            "standoff": 15
           },
           "zerolinecolor": "white",
           "zerolinewidth": 2
          },
          "yaxis": {
           "automargin": true,
           "gridcolor": "white",
           "linecolor": "white",
           "ticks": "",
           "title": {
            "standoff": 15
           },
           "zerolinecolor": "white",
           "zerolinewidth": 2
          }
         }
        },
        "xaxis": {
         "anchor": "y",
         "domain": [
          0,
          1
         ],
         "title": {
          "text": "variable"
         }
        },
        "yaxis": {
         "anchor": "x",
         "domain": [
          0,
          1
         ],
         "title": {
          "text": "value"
         }
        }
       }
      }
     },
     "metadata": {},
     "output_type": "display_data"
    }
   ],
   "source": [
    "pd.options.plotting.backend = \"plotly\"\n",
    "fig = Budget.boxplot()\n",
    "fig.show() # Exchanged plt.show() with fig.show() to avoid mixing matplotlib and plotly"
   ]
  },
  {
   "cell_type": "markdown",
   "metadata": {
    "slideshow": {
     "slide_type": "slide"
    }
   },
   "source": [
    "## Other proprietary formats\n",
    "- Many formats are vendor specific and only accessible because of backward engineering or similar. These are just a handful of such examples:\n",
    "    - [MATLAB, NetCDF, Harwell-Boeing](https://docs.scipy.org/doc/scipy/reference/io.html) (SciPy.io)\n",
    "    - Some chemical analytical instruments, e.g., [Bruker Opus format](https://github.com/qedsoftware/brukeropusreader), [Perkin Elmer IR](https://specio.readthedocs.io/en/stable/auto_examples/reader/plot_read_sp.html)\n",
    "    - [GNSS](https://github.com/GNSSpy-Project/gnsspy)"
   ]
  },
  {
   "cell_type": "markdown",
   "metadata": {
    "slideshow": {
     "slide_type": "slide"
    }
   },
   "source": [
    "## Media files\n",
    "- Most image formats and many video formats are more or less directly readable using the [Pillow](https://pillow.readthedocs.io/en/stable/handbook/image-file-formats.html) or or PIL libraries.\n",
    "- Medical imaging formats have some Python support, e.g., the [DICOM format](https://pydicom.github.io/)\n",
    "- Sound files can be opened using [pySoundFile](https://pysoundfile.readthedocs.io/en/latest/), [librosa](https://github.com/librosa/librosa) or similar."
   ]
  },
  {
   "cell_type": "markdown",
   "metadata": {
    "slideshow": {
     "slide_type": "slide"
    }
   },
   "source": [
    "## JSON - JavaScript Object Notation\n",
    "- Originally part of the 1999 JavaScript standard.\n",
    "- Popular format for data storage and transfer, supported by a large range of programming languages.\n",
    "- Text-based with fixed formatting but highly flexible structure and contents.\n",
    "- [Basics](https://www.json.org/):\n",
    "    - a _string_ has limitations/functionality with regard to backslashes \\, otherwise plain text.\n",
    "    - a _number_ is limited to integers, decimal numbers and scientific (float) numbers.\n",
    "    - a _value_ can be a string, number, object, array, true, false, or null.\n",
    "    - an _object_ is enclosed by curly brackets {} and contains (comma separated) _string : value_ pairs.\n",
    "    - an _array_ is enclosed by brackets [] and contains (comma separated) _values_.\n",
    "    - The JSON object is an unordered set.\n",
    "    - Nesting is frequently used."
   ]
  },
  {
   "cell_type": "code",
   "execution_count": 10,
   "metadata": {
    "slideshow": {
     "slide_type": "slide"
    }
   },
   "outputs": [
    {
     "data": {
      "text/plain": [
       "'\"banana\"'"
      ]
     },
     "execution_count": 10,
     "metadata": {},
     "output_type": "execute_result"
    }
   ],
   "source": [
    "# Simplest? JSON object\n",
    "import json\n",
    "my_string = \"banana\"\n",
    "my_string_as_json = json.dumps(my_string)\n",
    "my_string_as_json"
   ]
  },
  {
   "cell_type": "code",
   "execution_count": 11,
   "metadata": {
    "slideshow": {
     "slide_type": "slide"
    }
   },
   "outputs": [
    {
     "data": {
      "text/plain": [
       "'banana'"
      ]
     },
     "execution_count": 11,
     "metadata": {},
     "output_type": "execute_result"
    }
   ],
   "source": [
    "# Check validity of JSON object (exception thrown if not valid)\n",
    "json.loads(my_string_as_json)"
   ]
  },
  {
   "cell_type": "code",
   "execution_count": 12,
   "metadata": {
    "slideshow": {
     "slide_type": "slide"
    }
   },
   "outputs": [
    {
     "data": {
      "text/plain": [
       "'{\"fruit\": \"banana\", \"color\": \"yellow\"}'"
      ]
     },
     "execution_count": 12,
     "metadata": {},
     "output_type": "execute_result"
    }
   ],
   "source": [
    "# An object, quite similar to a Python dictionary\n",
    "my_object = {\"fruit\" : \"banana\", \"color\" : \"yellow\" }\n",
    "my_object_as_json = json.dumps(my_object)\n",
    "my_object_as_json"
   ]
  },
  {
   "cell_type": "code",
   "execution_count": 13,
   "metadata": {
    "slideshow": {
     "slide_type": "slide"
    }
   },
   "outputs": [
    {
     "data": {
      "text/plain": [
       "{'fruit': 'banana', 'color': 'yellow'}"
      ]
     },
     "execution_count": 13,
     "metadata": {},
     "output_type": "execute_result"
    }
   ],
   "source": [
    "# Check validity of JSON object (exception thrown if not valid)\n",
    "json.loads(my_object_as_json)"
   ]
  },
  {
   "cell_type": "code",
   "execution_count": 14,
   "metadata": {
    "slideshow": {
     "slide_type": "slide"
    }
   },
   "outputs": [
    {
     "data": {
      "text/plain": [
       "dict_keys(['fruit', 'color'])"
      ]
     },
     "execution_count": 14,
     "metadata": {},
     "output_type": "execute_result"
    }
   ],
   "source": [
    "my_object_as_dict = json.loads(my_object_as_json)\n",
    "my_object_as_dict.keys()"
   ]
  },
  {
   "cell_type": "markdown",
   "metadata": {
    "slideshow": {
     "slide_type": "slide"
    }
   },
   "source": [
    "### JSON variants\n",
    "- Though JSON itself is highly flexible, standardisation can ease implementation and transferability.\n",
    "- [JSON-stat](https://jsonstat.com/) is a format adoptet by, e.g., [Statistics Norway](https://ssb.no) and [Eurostat](https://ec.europa.eu/eurostat).\n",
    "    - [Standard libraries](https://json-stat.org/tools/) for handling data.\n",
    "    - Especially useful for tabular data.\n",
    "    - _json-stat2_ is the newest standard as of 2023."
   ]
  },
  {
   "cell_type": "code",
   "execution_count": 15,
   "metadata": {
    "slideshow": {
     "slide_type": "slide"
    }
   },
   "outputs": [
    {
     "data": {
      "text/plain": [
       "{'class': 'dataset',\n",
       " 'label': '06794: Persons killed or injured in road traffic accidents, by degree of damage, sex, group of road user, contents and month',\n",
       " 'source': 'Statistics Norway',\n",
       " 'updated': '2023-08-18T06:00:00Z',\n",
       " 'id': ['Skadegrad', 'Kjonn', 'Trafikkantgruppe', 'ContentsCode', 'Tid'],\n",
       " 'size': [6, 2, 8, 1, 295],\n",
       " 'dimension': {'Skadegrad': {'extension': {'show': 'value'},\n",
       "   'label': 'degree of damage',\n",
       "   'category': {'index': {'01': 0,\n",
       "     '20': 1,\n",
       "     '02': 2,\n",
       "     '03': 3,\n",
       "     '04': 4,\n",
       "     '05': 5},\n",
       "    'label': {'01': 'Killed',\n",
       "     '20': 'All injured',\n",
       "     '02': 'Dangerously injured',\n",
       "     '03': 'Seriously injured',\n",
       "     '04': 'Slightly injured',\n",
       "     '05': 'Degree of injury unspecified'}}},\n",
       "  'Kjonn': {'extension': {'show': 'value'},\n",
       "   'label': 'sex',\n",
       "   'category': {'index': {'1': 0, '2': 1},\n",
       "    'label': {'1': 'Males', '2': 'Females'}},\n",
       "   'link': {'describedby': [{'extension': {'Kjonn': 'urn:ssb:classification:klass:2'}}]}},\n",
       "  'Trafikkantgruppe': {'extension': {'show': 'value'},\n",
       "   'label': 'group of road user',\n",
       "   'category': {'index': {'1': 0,\n",
       "     '2': 1,\n",
       "     '3': 2,\n",
       "     '4': 3,\n",
       "     '5': 4,\n",
       "     '6': 5,\n",
       "     '7': 6,\n",
       "     '8': 7},\n",
       "    'label': {'1': 'Drivers of car',\n",
       "     '2': 'Passengers of car',\n",
       "     '3': 'Drivers and passengers on motorcycle',\n",
       "     '4': 'Drivers and passengers on moped',\n",
       "     '5': 'Drivers and passengers on cycle',\n",
       "     '6': 'Pedestrians',\n",
       "     '7': 'Persons sledging',\n",
       "     '8': 'Others'}}},\n",
       "  'ContentsCode': {'extension': {'show': 'value'},\n",
       "   'label': 'contents',\n",
       "   'category': {'index': {'SkaddDrept': 0},\n",
       "    'label': {'SkaddDrept': 'Persons killed or injured'},\n",
       "    'unit': {'SkaddDrept': {'base': 'persons', 'decimals': 0}}}},\n",
       "  'Tid': {'extension': {'show': 'code'},\n",
       "   'label': 'month',\n",
       "   'category': {'index': {'1999M01': 0,\n",
       "     '1999M02': 1,\n",
       "     '1999M03': 2,\n",
       "     '1999M04': 3,\n",
       "     '1999M05': 4,\n",
       "     '1999M06': 5,\n",
       "     '1999M07': 6,\n",
       "     '1999M08': 7,\n",
       "     '1999M09': 8,\n",
       "     '1999M10': 9,\n",
       "     '1999M11': 10,\n",
       "     '1999M12': 11,\n",
       "     '2000M01': 12,\n",
       "     '2000M02': 13,\n",
       "     '2000M03': 14,\n",
       "     '2000M04': 15,\n",
       "     '2000M05': 16,\n",
       "     '2000M06': 17,\n",
       "     '2000M07': 18,\n",
       "     '2000M08': 19,\n",
       "     '2000M09': 20,\n",
       "     '2000M10': 21,\n",
       "     '2000M11': 22,\n",
       "     '2000M12': 23,\n",
       "     '2001M01': 24,\n",
       "     '2001M02': 25,\n",
       "     '2001M03': 26,\n",
       "     '2001M04': 27,\n",
       "     '2001M05': 28,\n",
       "     '2001M06': 29,\n",
       "     '2001M07': 30,\n",
       "     '2001M08': 31,\n",
       "     '2001M09': 32,\n",
       "     '2001M10': 33,\n",
       "     '2001M11': 34,\n",
       "     '2001M12': 35,\n",
       "     '2002M01': 36,\n",
       "     '2002M02': 37,\n",
       "     '2002M03': 38,\n",
       "     '2002M04': 39,\n",
       "     '2002M05': 40,\n",
       "     '2002M06': 41,\n",
       "     '2002M07': 42,\n",
       "     '2002M08': 43,\n",
       "     '2002M09': 44,\n",
       "     '2002M10': 45,\n",
       "     '2002M11': 46,\n",
       "     '2002M12': 47,\n",
       "     '2003M01': 48,\n",
       "     '2003M02': 49,\n",
       "     '2003M03': 50,\n",
       "     '2003M04': 51,\n",
       "     '2003M05': 52,\n",
       "     '2003M06': 53,\n",
       "     '2003M07': 54,\n",
       "     '2003M08': 55,\n",
       "     '2003M09': 56,\n",
       "     '2003M10': 57,\n",
       "     '2003M11': 58,\n",
       "     '2003M12': 59,\n",
       "     '2004M01': 60,\n",
       "     '2004M02': 61,\n",
       "     '2004M03': 62,\n",
       "     '2004M04': 63,\n",
       "     '2004M05': 64,\n",
       "     '2004M06': 65,\n",
       "     '2004M07': 66,\n",
       "     '2004M08': 67,\n",
       "     '2004M09': 68,\n",
       "     '2004M10': 69,\n",
       "     '2004M11': 70,\n",
       "     '2004M12': 71,\n",
       "     '2005M01': 72,\n",
       "     '2005M02': 73,\n",
       "     '2005M03': 74,\n",
       "     '2005M04': 75,\n",
       "     '2005M05': 76,\n",
       "     '2005M06': 77,\n",
       "     '2005M07': 78,\n",
       "     '2005M08': 79,\n",
       "     '2005M09': 80,\n",
       "     '2005M10': 81,\n",
       "     '2005M11': 82,\n",
       "     '2005M12': 83,\n",
       "     '2006M01': 84,\n",
       "     '2006M02': 85,\n",
       "     '2006M03': 86,\n",
       "     '2006M04': 87,\n",
       "     '2006M05': 88,\n",
       "     '2006M06': 89,\n",
       "     '2006M07': 90,\n",
       "     '2006M08': 91,\n",
       "     '2006M09': 92,\n",
       "     '2006M10': 93,\n",
       "     '2006M11': 94,\n",
       "     '2006M12': 95,\n",
       "     '2007M01': 96,\n",
       "     '2007M02': 97,\n",
       "     '2007M03': 98,\n",
       "     '2007M04': 99,\n",
       "     '2007M05': 100,\n",
       "     '2007M06': 101,\n",
       "     '2007M07': 102,\n",
       "     '2007M08': 103,\n",
       "     '2007M09': 104,\n",
       "     '2007M10': 105,\n",
       "     '2007M11': 106,\n",
       "     '2007M12': 107,\n",
       "     '2008M01': 108,\n",
       "     '2008M02': 109,\n",
       "     '2008M03': 110,\n",
       "     '2008M04': 111,\n",
       "     '2008M05': 112,\n",
       "     '2008M06': 113,\n",
       "     '2008M07': 114,\n",
       "     '2008M08': 115,\n",
       "     '2008M09': 116,\n",
       "     '2008M10': 117,\n",
       "     '2008M11': 118,\n",
       "     '2008M12': 119,\n",
       "     '2009M01': 120,\n",
       "     '2009M02': 121,\n",
       "     '2009M03': 122,\n",
       "     '2009M04': 123,\n",
       "     '2009M05': 124,\n",
       "     '2009M06': 125,\n",
       "     '2009M07': 126,\n",
       "     '2009M08': 127,\n",
       "     '2009M09': 128,\n",
       "     '2009M10': 129,\n",
       "     '2009M11': 130,\n",
       "     '2009M12': 131,\n",
       "     '2010M01': 132,\n",
       "     '2010M02': 133,\n",
       "     '2010M03': 134,\n",
       "     '2010M04': 135,\n",
       "     '2010M05': 136,\n",
       "     '2010M06': 137,\n",
       "     '2010M07': 138,\n",
       "     '2010M08': 139,\n",
       "     '2010M09': 140,\n",
       "     '2010M10': 141,\n",
       "     '2010M11': 142,\n",
       "     '2010M12': 143,\n",
       "     '2011M01': 144,\n",
       "     '2011M02': 145,\n",
       "     '2011M03': 146,\n",
       "     '2011M04': 147,\n",
       "     '2011M05': 148,\n",
       "     '2011M06': 149,\n",
       "     '2011M07': 150,\n",
       "     '2011M08': 151,\n",
       "     '2011M09': 152,\n",
       "     '2011M10': 153,\n",
       "     '2011M11': 154,\n",
       "     '2011M12': 155,\n",
       "     '2012M01': 156,\n",
       "     '2012M02': 157,\n",
       "     '2012M03': 158,\n",
       "     '2012M04': 159,\n",
       "     '2012M05': 160,\n",
       "     '2012M06': 161,\n",
       "     '2012M07': 162,\n",
       "     '2012M08': 163,\n",
       "     '2012M09': 164,\n",
       "     '2012M10': 165,\n",
       "     '2012M11': 166,\n",
       "     '2012M12': 167,\n",
       "     '2013M01': 168,\n",
       "     '2013M02': 169,\n",
       "     '2013M03': 170,\n",
       "     '2013M04': 171,\n",
       "     '2013M05': 172,\n",
       "     '2013M06': 173,\n",
       "     '2013M07': 174,\n",
       "     '2013M08': 175,\n",
       "     '2013M09': 176,\n",
       "     '2013M10': 177,\n",
       "     '2013M11': 178,\n",
       "     '2013M12': 179,\n",
       "     '2014M01': 180,\n",
       "     '2014M02': 181,\n",
       "     '2014M03': 182,\n",
       "     '2014M04': 183,\n",
       "     '2014M05': 184,\n",
       "     '2014M06': 185,\n",
       "     '2014M07': 186,\n",
       "     '2014M08': 187,\n",
       "     '2014M09': 188,\n",
       "     '2014M10': 189,\n",
       "     '2014M11': 190,\n",
       "     '2014M12': 191,\n",
       "     '2015M01': 192,\n",
       "     '2015M02': 193,\n",
       "     '2015M03': 194,\n",
       "     '2015M04': 195,\n",
       "     '2015M05': 196,\n",
       "     '2015M06': 197,\n",
       "     '2015M07': 198,\n",
       "     '2015M08': 199,\n",
       "     '2015M09': 200,\n",
       "     '2015M10': 201,\n",
       "     '2015M11': 202,\n",
       "     '2015M12': 203,\n",
       "     '2016M01': 204,\n",
       "     '2016M02': 205,\n",
       "     '2016M03': 206,\n",
       "     '2016M04': 207,\n",
       "     '2016M05': 208,\n",
       "     '2016M06': 209,\n",
       "     '2016M07': 210,\n",
       "     '2016M08': 211,\n",
       "     '2016M09': 212,\n",
       "     '2016M10': 213,\n",
       "     '2016M11': 214,\n",
       "     '2016M12': 215,\n",
       "     '2017M01': 216,\n",
       "     '2017M02': 217,\n",
       "     '2017M03': 218,\n",
       "     '2017M04': 219,\n",
       "     '2017M05': 220,\n",
       "     '2017M06': 221,\n",
       "     '2017M07': 222,\n",
       "     '2017M08': 223,\n",
       "     '2017M09': 224,\n",
       "     '2017M10': 225,\n",
       "     '2017M11': 226,\n",
       "     '2017M12': 227,\n",
       "     '2018M01': 228,\n",
       "     '2018M02': 229,\n",
       "     '2018M03': 230,\n",
       "     '2018M04': 231,\n",
       "     '2018M05': 232,\n",
       "     '2018M06': 233,\n",
       "     '2018M07': 234,\n",
       "     '2018M08': 235,\n",
       "     '2018M09': 236,\n",
       "     '2018M10': 237,\n",
       "     '2018M11': 238,\n",
       "     '2018M12': 239,\n",
       "     '2019M01': 240,\n",
       "     '2019M02': 241,\n",
       "     '2019M03': 242,\n",
       "     '2019M04': 243,\n",
       "     '2019M05': 244,\n",
       "     '2019M06': 245,\n",
       "     '2019M07': 246,\n",
       "     '2019M08': 247,\n",
       "     '2019M09': 248,\n",
       "     '2019M10': 249,\n",
       "     '2019M11': 250,\n",
       "     '2019M12': 251,\n",
       "     '2020M01': 252,\n",
       "     '2020M02': 253,\n",
       "     '2020M03': 254,\n",
       "     '2020M04': 255,\n",
       "     '2020M05': 256,\n",
       "     '2020M06': 257,\n",
       "     '2020M07': 258,\n",
       "     '2020M08': 259,\n",
       "     '2020M09': 260,\n",
       "     '2020M10': 261,\n",
       "     '2020M11': 262,\n",
       "     '2020M12': 263,\n",
       "     '2021M01': 264,\n",
       "     '2021M02': 265,\n",
       "     '2021M03': 266,\n",
       "     '2021M04': 267,\n",
       "     '2021M05': 268,\n",
       "     '2021M06': 269,\n",
       "     '2021M07': 270,\n",
       "     '2021M08': 271,\n",
       "     '2021M09': 272,\n",
       "     '2021M10': 273,\n",
       "     '2021M11': 274,\n",
       "     '2021M12': 275,\n",
       "     '2022M01': 276,\n",
       "     '2022M02': 277,\n",
       "     '2022M03': 278,\n",
       "     '2022M04': 279,\n",
       "     '2022M05': 280,\n",
       "     '2022M06': 281,\n",
       "     '2022M07': 282,\n",
       "     '2022M08': 283,\n",
       "     '2022M09': 284,\n",
       "     '2022M10': 285,\n",
       "     '2022M11': 286,\n",
       "     '2022M12': 287,\n",
       "     '2023M01': 288,\n",
       "     '2023M02': 289,\n",
       "     '2023M03': 290,\n",
       "     '2023M04': 291,\n",
       "     '2023M05': 292,\n",
       "     '2023M06': 293,\n",
       "     '2023M07': 294},\n",
       "    'label': {'1999M01': '1999M01',\n",
       "     '1999M02': '1999M02',\n",
       "     '1999M03': '1999M03',\n",
       "     '1999M04': '1999M04',\n",
       "     '1999M05': '1999M05',\n",
       "     '1999M06': '1999M06',\n",
       "     '1999M07': '1999M07',\n",
       "     '1999M08': '1999M08',\n",
       "     '1999M09': '1999M09',\n",
       "     '1999M10': '1999M10',\n",
       "     '1999M11': '1999M11',\n",
       "     '1999M12': '1999M12',\n",
       "     '2000M01': '2000M01',\n",
       "     '2000M02': '2000M02',\n",
       "     '2000M03': '2000M03',\n",
       "     '2000M04': '2000M04',\n",
       "     '2000M05': '2000M05',\n",
       "     '2000M06': '2000M06',\n",
       "     '2000M07': '2000M07',\n",
       "     '2000M08': '2000M08',\n",
       "     '2000M09': '2000M09',\n",
       "     '2000M10': '2000M10',\n",
       "     '2000M11': '2000M11',\n",
       "     '2000M12': '2000M12',\n",
       "     '2001M01': '2001M01',\n",
       "     '2001M02': '2001M02',\n",
       "     '2001M03': '2001M03',\n",
       "     '2001M04': '2001M04',\n",
       "     '2001M05': '2001M05',\n",
       "     '2001M06': '2001M06',\n",
       "     '2001M07': '2001M07',\n",
       "     '2001M08': '2001M08',\n",
       "     '2001M09': '2001M09',\n",
       "     '2001M10': '2001M10',\n",
       "     '2001M11': '2001M11',\n",
       "     '2001M12': '2001M12',\n",
       "     '2002M01': '2002M01',\n",
       "     '2002M02': '2002M02',\n",
       "     '2002M03': '2002M03',\n",
       "     '2002M04': '2002M04',\n",
       "     '2002M05': '2002M05',\n",
       "     '2002M06': '2002M06',\n",
       "     '2002M07': '2002M07',\n",
       "     '2002M08': '2002M08',\n",
       "     '2002M09': '2002M09',\n",
       "     '2002M10': '2002M10',\n",
       "     '2002M11': '2002M11',\n",
       "     '2002M12': '2002M12',\n",
       "     '2003M01': '2003M01',\n",
       "     '2003M02': '2003M02',\n",
       "     '2003M03': '2003M03',\n",
       "     '2003M04': '2003M04',\n",
       "     '2003M05': '2003M05',\n",
       "     '2003M06': '2003M06',\n",
       "     '2003M07': '2003M07',\n",
       "     '2003M08': '2003M08',\n",
       "     '2003M09': '2003M09',\n",
       "     '2003M10': '2003M10',\n",
       "     '2003M11': '2003M11',\n",
       "     '2003M12': '2003M12',\n",
       "     '2004M01': '2004M01',\n",
       "     '2004M02': '2004M02',\n",
       "     '2004M03': '2004M03',\n",
       "     '2004M04': '2004M04',\n",
       "     '2004M05': '2004M05',\n",
       "     '2004M06': '2004M06',\n",
       "     '2004M07': '2004M07',\n",
       "     '2004M08': '2004M08',\n",
       "     '2004M09': '2004M09',\n",
       "     '2004M10': '2004M10',\n",
       "     '2004M11': '2004M11',\n",
       "     '2004M12': '2004M12',\n",
       "     '2005M01': '2005M01',\n",
       "     '2005M02': '2005M02',\n",
       "     '2005M03': '2005M03',\n",
       "     '2005M04': '2005M04',\n",
       "     '2005M05': '2005M05',\n",
       "     '2005M06': '2005M06',\n",
       "     '2005M07': '2005M07',\n",
       "     '2005M08': '2005M08',\n",
       "     '2005M09': '2005M09',\n",
       "     '2005M10': '2005M10',\n",
       "     '2005M11': '2005M11',\n",
       "     '2005M12': '2005M12',\n",
       "     '2006M01': '2006M01',\n",
       "     '2006M02': '2006M02',\n",
       "     '2006M03': '2006M03',\n",
       "     '2006M04': '2006M04',\n",
       "     '2006M05': '2006M05',\n",
       "     '2006M06': '2006M06',\n",
       "     '2006M07': '2006M07',\n",
       "     '2006M08': '2006M08',\n",
       "     '2006M09': '2006M09',\n",
       "     '2006M10': '2006M10',\n",
       "     '2006M11': '2006M11',\n",
       "     '2006M12': '2006M12',\n",
       "     '2007M01': '2007M01',\n",
       "     '2007M02': '2007M02',\n",
       "     '2007M03': '2007M03',\n",
       "     '2007M04': '2007M04',\n",
       "     '2007M05': '2007M05',\n",
       "     '2007M06': '2007M06',\n",
       "     '2007M07': '2007M07',\n",
       "     '2007M08': '2007M08',\n",
       "     '2007M09': '2007M09',\n",
       "     '2007M10': '2007M10',\n",
       "     '2007M11': '2007M11',\n",
       "     '2007M12': '2007M12',\n",
       "     '2008M01': '2008M01',\n",
       "     '2008M02': '2008M02',\n",
       "     '2008M03': '2008M03',\n",
       "     '2008M04': '2008M04',\n",
       "     '2008M05': '2008M05',\n",
       "     '2008M06': '2008M06',\n",
       "     '2008M07': '2008M07',\n",
       "     '2008M08': '2008M08',\n",
       "     '2008M09': '2008M09',\n",
       "     '2008M10': '2008M10',\n",
       "     '2008M11': '2008M11',\n",
       "     '2008M12': '2008M12',\n",
       "     '2009M01': '2009M01',\n",
       "     '2009M02': '2009M02',\n",
       "     '2009M03': '2009M03',\n",
       "     '2009M04': '2009M04',\n",
       "     '2009M05': '2009M05',\n",
       "     '2009M06': '2009M06',\n",
       "     '2009M07': '2009M07',\n",
       "     '2009M08': '2009M08',\n",
       "     '2009M09': '2009M09',\n",
       "     '2009M10': '2009M10',\n",
       "     '2009M11': '2009M11',\n",
       "     '2009M12': '2009M12',\n",
       "     '2010M01': '2010M01',\n",
       "     '2010M02': '2010M02',\n",
       "     '2010M03': '2010M03',\n",
       "     '2010M04': '2010M04',\n",
       "     '2010M05': '2010M05',\n",
       "     '2010M06': '2010M06',\n",
       "     '2010M07': '2010M07',\n",
       "     '2010M08': '2010M08',\n",
       "     '2010M09': '2010M09',\n",
       "     '2010M10': '2010M10',\n",
       "     '2010M11': '2010M11',\n",
       "     '2010M12': '2010M12',\n",
       "     '2011M01': '2011M01',\n",
       "     '2011M02': '2011M02',\n",
       "     '2011M03': '2011M03',\n",
       "     '2011M04': '2011M04',\n",
       "     '2011M05': '2011M05',\n",
       "     '2011M06': '2011M06',\n",
       "     '2011M07': '2011M07',\n",
       "     '2011M08': '2011M08',\n",
       "     '2011M09': '2011M09',\n",
       "     '2011M10': '2011M10',\n",
       "     '2011M11': '2011M11',\n",
       "     '2011M12': '2011M12',\n",
       "     '2012M01': '2012M01',\n",
       "     '2012M02': '2012M02',\n",
       "     '2012M03': '2012M03',\n",
       "     '2012M04': '2012M04',\n",
       "     '2012M05': '2012M05',\n",
       "     '2012M06': '2012M06',\n",
       "     '2012M07': '2012M07',\n",
       "     '2012M08': '2012M08',\n",
       "     '2012M09': '2012M09',\n",
       "     '2012M10': '2012M10',\n",
       "     '2012M11': '2012M11',\n",
       "     '2012M12': '2012M12',\n",
       "     '2013M01': '2013M01',\n",
       "     '2013M02': '2013M02',\n",
       "     '2013M03': '2013M03',\n",
       "     '2013M04': '2013M04',\n",
       "     '2013M05': '2013M05',\n",
       "     '2013M06': '2013M06',\n",
       "     '2013M07': '2013M07',\n",
       "     '2013M08': '2013M08',\n",
       "     '2013M09': '2013M09',\n",
       "     '2013M10': '2013M10',\n",
       "     '2013M11': '2013M11',\n",
       "     '2013M12': '2013M12',\n",
       "     '2014M01': '2014M01',\n",
       "     '2014M02': '2014M02',\n",
       "     '2014M03': '2014M03',\n",
       "     '2014M04': '2014M04',\n",
       "     '2014M05': '2014M05',\n",
       "     '2014M06': '2014M06',\n",
       "     '2014M07': '2014M07',\n",
       "     '2014M08': '2014M08',\n",
       "     '2014M09': '2014M09',\n",
       "     '2014M10': '2014M10',\n",
       "     '2014M11': '2014M11',\n",
       "     '2014M12': '2014M12',\n",
       "     '2015M01': '2015M01',\n",
       "     '2015M02': '2015M02',\n",
       "     '2015M03': '2015M03',\n",
       "     '2015M04': '2015M04',\n",
       "     '2015M05': '2015M05',\n",
       "     '2015M06': '2015M06',\n",
       "     '2015M07': '2015M07',\n",
       "     '2015M08': '2015M08',\n",
       "     '2015M09': '2015M09',\n",
       "     '2015M10': '2015M10',\n",
       "     '2015M11': '2015M11',\n",
       "     '2015M12': '2015M12',\n",
       "     '2016M01': '2016M01',\n",
       "     '2016M02': '2016M02',\n",
       "     '2016M03': '2016M03',\n",
       "     '2016M04': '2016M04',\n",
       "     '2016M05': '2016M05',\n",
       "     '2016M06': '2016M06',\n",
       "     '2016M07': '2016M07',\n",
       "     '2016M08': '2016M08',\n",
       "     '2016M09': '2016M09',\n",
       "     '2016M10': '2016M10',\n",
       "     '2016M11': '2016M11',\n",
       "     '2016M12': '2016M12',\n",
       "     '2017M01': '2017M01',\n",
       "     '2017M02': '2017M02',\n",
       "     '2017M03': '2017M03',\n",
       "     '2017M04': '2017M04',\n",
       "     '2017M05': '2017M05',\n",
       "     '2017M06': '2017M06',\n",
       "     '2017M07': '2017M07',\n",
       "     '2017M08': '2017M08',\n",
       "     '2017M09': '2017M09',\n",
       "     '2017M10': '2017M10',\n",
       "     '2017M11': '2017M11',\n",
       "     '2017M12': '2017M12',\n",
       "     '2018M01': '2018M01',\n",
       "     '2018M02': '2018M02',\n",
       "     '2018M03': '2018M03',\n",
       "     '2018M04': '2018M04',\n",
       "     '2018M05': '2018M05',\n",
       "     '2018M06': '2018M06',\n",
       "     '2018M07': '2018M07',\n",
       "     '2018M08': '2018M08',\n",
       "     '2018M09': '2018M09',\n",
       "     '2018M10': '2018M10',\n",
       "     '2018M11': '2018M11',\n",
       "     '2018M12': '2018M12',\n",
       "     '2019M01': '2019M01',\n",
       "     '2019M02': '2019M02',\n",
       "     '2019M03': '2019M03',\n",
       "     '2019M04': '2019M04',\n",
       "     '2019M05': '2019M05',\n",
       "     '2019M06': '2019M06',\n",
       "     '2019M07': '2019M07',\n",
       "     '2019M08': '2019M08',\n",
       "     '2019M09': '2019M09',\n",
       "     '2019M10': '2019M10',\n",
       "     '2019M11': '2019M11',\n",
       "     '2019M12': '2019M12',\n",
       "     '2020M01': '2020M01',\n",
       "     '2020M02': '2020M02',\n",
       "     '2020M03': '2020M03',\n",
       "     '2020M04': '2020M04',\n",
       "     '2020M05': '2020M05',\n",
       "     '2020M06': '2020M06',\n",
       "     '2020M07': '2020M07',\n",
       "     '2020M08': '2020M08',\n",
       "     '2020M09': '2020M09',\n",
       "     '2020M10': '2020M10',\n",
       "     '2020M11': '2020M11',\n",
       "     '2020M12': '2020M12',\n",
       "     '2021M01': '2021M01',\n",
       "     '2021M02': '2021M02',\n",
       "     '2021M03': '2021M03',\n",
       "     '2021M04': '2021M04',\n",
       "     '2021M05': '2021M05',\n",
       "     '2021M06': '2021M06',\n",
       "     '2021M07': '2021M07',\n",
       "     '2021M08': '2021M08',\n",
       "     '2021M09': '2021M09',\n",
       "     '2021M10': '2021M10',\n",
       "     '2021M11': '2021M11',\n",
       "     '2021M12': '2021M12',\n",
       "     '2022M01': '2022M01',\n",
       "     '2022M02': '2022M02',\n",
       "     '2022M03': '2022M03',\n",
       "     '2022M04': '2022M04',\n",
       "     '2022M05': '2022M05',\n",
       "     '2022M06': '2022M06',\n",
       "     '2022M07': '2022M07',\n",
       "     '2022M08': '2022M08',\n",
       "     '2022M09': '2022M09',\n",
       "     '2022M10': '2022M10',\n",
       "     '2022M11': '2022M11',\n",
       "     '2022M12': '2022M12',\n",
       "     '2023M01': '2023M01',\n",
       "     '2023M02': '2023M02',\n",
       "     '2023M03': '2023M03',\n",
       "     '2023M04': '2023M04',\n",
       "     '2023M05': '2023M05',\n",
       "     '2023M06': '2023M06',\n",
       "     '2023M07': '2023M07'}}}},\n",
       " 'value': [8,\n",
       "  6,\n",
       "  5,\n",
       "  9,\n",
       "  12,\n",
       "  12,\n",
       "  7,\n",
       "  11,\n",
       "  9,\n",
       "  7,\n",
       "  13,\n",
       "  16,\n",
       "  9,\n",
       "  5,\n",
       "  9,\n",
       "  7,\n",
       "  13,\n",
       "  10,\n",
       "  11,\n",
       "  12,\n",
       "  16,\n",
       "  8,\n",
       "  11,\n",
       "  8,\n",
       "  16,\n",
       "  7,\n",
       "  7,\n",
       "  10,\n",
       "  10,\n",
       "  9,\n",
       "  11,\n",
       "  6,\n",
       "  11,\n",
       "  5,\n",
       "  8,\n",
       "  7,\n",
       "  13,\n",
       "  9,\n",
       "  7,\n",
       "  8,\n",
       "  15,\n",
       "  12,\n",
       "  5,\n",
       "  11,\n",
       "  6,\n",
       "  15,\n",
       "  7,\n",
       "  12,\n",
       "  7,\n",
       "  4,\n",
       "  10,\n",
       "  10,\n",
       "  12,\n",
       "  5,\n",
       "  15,\n",
       "  10,\n",
       "  9,\n",
       "  9,\n",
       "  14,\n",
       "  8,\n",
       "  6,\n",
       "  11,\n",
       "  7,\n",
       "  5,\n",
       "  6,\n",
       "  9,\n",
       "  7,\n",
       "  4,\n",
       "  9,\n",
       "  13,\n",
       "  8,\n",
       "  13,\n",
       "  8,\n",
       "  7,\n",
       "  7,\n",
       "  3,\n",
       "  5,\n",
       "  7,\n",
       "  13,\n",
       "  5,\n",
       "  5,\n",
       "  5,\n",
       "  11,\n",
       "  6,\n",
       "  7,\n",
       "  8,\n",
       "  7,\n",
       "  4,\n",
       "  11,\n",
       "  5,\n",
       "  10,\n",
       "  3,\n",
       "  11,\n",
       "  6,\n",
       "  17,\n",
       "  11,\n",
       "  10,\n",
       "  3,\n",
       "  2,\n",
       "  5,\n",
       "  6,\n",
       "  7,\n",
       "  2,\n",
       "  10,\n",
       "  8,\n",
       "  14,\n",
       "  7,\n",
       "  7,\n",
       "  10,\n",
       "  9,\n",
       "  10,\n",
       "  7,\n",
       "  12,\n",
       "  8,\n",
       "  6,\n",
       "  14,\n",
       "  4,\n",
       "  12,\n",
       "  3,\n",
       "  8,\n",
       "  7,\n",
       "  4,\n",
       "  4,\n",
       "  7,\n",
       "  6,\n",
       "  6,\n",
       "  8,\n",
       "  10,\n",
       "  10,\n",
       "  4,\n",
       "  7,\n",
       "  10,\n",
       "  9,\n",
       "  6,\n",
       "  5,\n",
       "  6,\n",
       "  5,\n",
       "  14,\n",
       "  10,\n",
       "  10,\n",
       "  11,\n",
       "  7,\n",
       "  5,\n",
       "  5,\n",
       "  5,\n",
       "  4,\n",
       "  6,\n",
       "  4,\n",
       "  5,\n",
       "  7,\n",
       "  7,\n",
       "  5,\n",
       "  8,\n",
       "  4,\n",
       "  6,\n",
       "  6,\n",
       "  4,\n",
       "  7,\n",
       "  5,\n",
       "  4,\n",
       "  3,\n",
       "  1,\n",
       "  4,\n",
       "  6,\n",
       "  4,\n",
       "  4,\n",
       "  3,\n",
       "  0,\n",
       "  6,\n",
       "  3,\n",
       "  7,\n",
       "  6,\n",
       "  3,\n",
       "  8,\n",
       "  7,\n",
       "  9,\n",
       "  5,\n",
       "  8,\n",
       "  3,\n",
       "  9,\n",
       "  2,\n",
       "  6,\n",
       "  3,\n",
       "  0,\n",
       "  10,\n",
       "  7,\n",
       "  6,\n",
       "  2,\n",
       "  5,\n",
       "  2,\n",
       "  4,\n",
       "  3,\n",
       "  4,\n",
       "  3,\n",
       "  8,\n",
       "  2,\n",
       "  2,\n",
       "  0,\n",
       "  2,\n",
       "  3,\n",
       "  7,\n",
       "  4,\n",
       "  5,\n",
       "  6,\n",
       "  5,\n",
       "  7,\n",
       "  4,\n",
       "  1,\n",
       "  1,\n",
       "  5,\n",
       "  8,\n",
       "  2,\n",
       "  3,\n",
       "  3,\n",
       "  4,\n",
       "  2,\n",
       "  3,\n",
       "  1,\n",
       "  3,\n",
       "  3,\n",
       "  5,\n",
       "  1,\n",
       "  2,\n",
       "  4,\n",
       "  2,\n",
       "  2,\n",
       "  7,\n",
       "  6,\n",
       "  4,\n",
       "  5,\n",
       "  1,\n",
       "  5,\n",
       "  5,\n",
       "  4,\n",
       "  4,\n",
       "  2,\n",
       "  3,\n",
       "  7,\n",
       "  10,\n",
       "  3,\n",
       "  3,\n",
       "  1,\n",
       "  6,\n",
       "  4,\n",
       "  4,\n",
       "  5,\n",
       "  1,\n",
       "  3,\n",
       "  4,\n",
       "  5,\n",
       "  4,\n",
       "  4,\n",
       "  5,\n",
       "  6,\n",
       "  4,\n",
       "  2,\n",
       "  2,\n",
       "  2,\n",
       "  2,\n",
       "  4,\n",
       "  1,\n",
       "  2,\n",
       "  3,\n",
       "  4,\n",
       "  2,\n",
       "  1,\n",
       "  1,\n",
       "  0,\n",
       "  4,\n",
       "  3,\n",
       "  3,\n",
       "  4,\n",
       "  4,\n",
       "  2,\n",
       "  2,\n",
       "  3,\n",
       "  0,\n",
       "  1,\n",
       "  3,\n",
       "  5,\n",
       "  3,\n",
       "  3,\n",
       "  5,\n",
       "  5,\n",
       "  0,\n",
       "  3,\n",
       "  5,\n",
       "  3,\n",
       "  4,\n",
       "  3,\n",
       "  3,\n",
       "  4,\n",
       "  5,\n",
       "  3,\n",
       "  7,\n",
       "  2,\n",
       "  1,\n",
       "  0,\n",
       "  2,\n",
       "  4,\n",
       "  7,\n",
       "  6,\n",
       "  1,\n",
       "  1,\n",
       "  8,\n",
       "  2,\n",
       "  2,\n",
       "  4,\n",
       "  2,\n",
       "  2,\n",
       "  3,\n",
       "  3,\n",
       "  5,\n",
       "  8,\n",
       "  6,\n",
       "  9,\n",
       "  2,\n",
       "  2,\n",
       "  3,\n",
       "  1,\n",
       "  2,\n",
       "  3,\n",
       "  4,\n",
       "  2,\n",
       "  1,\n",
       "  2,\n",
       "  2,\n",
       "  2,\n",
       "  0,\n",
       "  4,\n",
       "  1,\n",
       "  5,\n",
       "  2,\n",
       "  1,\n",
       "  2,\n",
       "  6,\n",
       "  2,\n",
       "  6,\n",
       "  5,\n",
       "  3,\n",
       "  4,\n",
       "  1,\n",
       "  3,\n",
       "  0,\n",
       "  4,\n",
       "  2,\n",
       "  2,\n",
       "  3,\n",
       "  2,\n",
       "  1,\n",
       "  5,\n",
       "  4,\n",
       "  2,\n",
       "  5,\n",
       "  2,\n",
       "  2,\n",
       "  3,\n",
       "  1,\n",
       "  4,\n",
       "  2,\n",
       "  5,\n",
       "  3,\n",
       "  1,\n",
       "  0,\n",
       "  3,\n",
       "  0,\n",
       "  3,\n",
       "  3,\n",
       "  1,\n",
       "  1,\n",
       "  2,\n",
       "  0,\n",
       "  3,\n",
       "  1,\n",
       "  4,\n",
       "  2,\n",
       "  0,\n",
       "  2,\n",
       "  2,\n",
       "  1,\n",
       "  5,\n",
       "  0,\n",
       "  0,\n",
       "  1,\n",
       "  1,\n",
       "  3,\n",
       "  0,\n",
       "  1,\n",
       "  3,\n",
       "  1,\n",
       "  1,\n",
       "  4,\n",
       "  4,\n",
       "  2,\n",
       "  1,\n",
       "  1,\n",
       "  1,\n",
       "  2,\n",
       "  3,\n",
       "  3,\n",
       "  1,\n",
       "  3,\n",
       "  1,\n",
       "  4,\n",
       "  2,\n",
       "  3,\n",
       "  2,\n",
       "  4,\n",
       "  1,\n",
       "  2,\n",
       "  1,\n",
       "  0,\n",
       "  2,\n",
       "  1,\n",
       "  5,\n",
       "  5,\n",
       "  0,\n",
       "  1,\n",
       "  2,\n",
       "  2,\n",
       "  4,\n",
       "  2,\n",
       "  1,\n",
       "  6,\n",
       "  2,\n",
       "  1,\n",
       "  3,\n",
       "  1,\n",
       "  1,\n",
       "  2,\n",
       "  4,\n",
       "  2,\n",
       "  3,\n",
       "  1,\n",
       "  4,\n",
       "  1,\n",
       "  2,\n",
       "  0,\n",
       "  0,\n",
       "  3,\n",
       "  1,\n",
       "  1,\n",
       "  0,\n",
       "  0,\n",
       "  3,\n",
       "  1,\n",
       "  1,\n",
       "  0,\n",
       "  2,\n",
       "  1,\n",
       "  3,\n",
       "  3,\n",
       "  2,\n",
       "  0,\n",
       "  0,\n",
       "  2,\n",
       "  0,\n",
       "  2,\n",
       "  1,\n",
       "  1,\n",
       "  0,\n",
       "  0,\n",
       "  1,\n",
       "  1,\n",
       "  1,\n",
       "  0,\n",
       "  0,\n",
       "  0,\n",
       "  2,\n",
       "  1,\n",
       "  2,\n",
       "  1,\n",
       "  1,\n",
       "  2,\n",
       "  3,\n",
       "  2,\n",
       "  2,\n",
       "  0,\n",
       "  0,\n",
       "  1,\n",
       "  1,\n",
       "  3,\n",
       "  3,\n",
       "  3,\n",
       "  0,\n",
       "  0,\n",
       "  0,\n",
       "  0,\n",
       "  0,\n",
       "  0,\n",
       "  0,\n",
       "  0,\n",
       "  0,\n",
       "  1,\n",
       "  1,\n",
       "  0,\n",
       "  1,\n",
       "  2,\n",
       "  0,\n",
       "  2,\n",
       "  2,\n",
       "  0,\n",
       "  2,\n",
       "  1,\n",
       "  0,\n",
       "  3,\n",
       "  0,\n",
       "  0,\n",
       "  1,\n",
       "  1,\n",
       "  0,\n",
       "  0,\n",
       "  0,\n",
       "  0,\n",
       "  0,\n",
       "  0,\n",
       "  1,\n",
       "  0,\n",
       "  0,\n",
       "  0,\n",
       "  0,\n",
       "  0,\n",
       "  1,\n",
       "  0,\n",
       "  0,\n",
       "  0,\n",
       "  0,\n",
       "  0,\n",
       "  0,\n",
       "  0,\n",
       "  0,\n",
       "  3,\n",
       "  0,\n",
       "  0,\n",
       "  0,\n",
       "  1,\n",
       "  1,\n",
       "  0,\n",
       "  1,\n",
       "  0,\n",
       "  0,\n",
       "  2,\n",
       "  1,\n",
       "  0,\n",
       "  2,\n",
       "  1,\n",
       "  0,\n",
       "  1,\n",
       "  0,\n",
       "  1,\n",
       "  0,\n",
       "  1,\n",
       "  0,\n",
       "  0,\n",
       "  2,\n",
       "  0,\n",
       "  1,\n",
       "  0,\n",
       "  0,\n",
       "  1,\n",
       "  0,\n",
       "  0,\n",
       "  1,\n",
       "  3,\n",
       "  1,\n",
       "  0,\n",
       "  2,\n",
       "  0,\n",
       "  1,\n",
       "  0,\n",
       "  0,\n",
       "  0,\n",
       "  0,\n",
       "  0,\n",
       "  0,\n",
       "  5,\n",
       "  1,\n",
       "  1,\n",
       "  0,\n",
       "  0,\n",
       "  0,\n",
       "  0,\n",
       "  0,\n",
       "  0,\n",
       "  0,\n",
       "  1,\n",
       "  2,\n",
       "  1,\n",
       "  1,\n",
       "  1,\n",
       "  0,\n",
       "  0,\n",
       "  1,\n",
       "  1,\n",
       "  5,\n",
       "  6,\n",
       "  5,\n",
       "  4,\n",
       "  5,\n",
       "  1,\n",
       "  1,\n",
       "  0,\n",
       "  0,\n",
       "  0,\n",
       "  1,\n",
       "  3,\n",
       "  4,\n",
       "  11,\n",
       "  7,\n",
       "  4,\n",
       "  4,\n",
       "  1,\n",
       "  3,\n",
       "  0,\n",
       "  0,\n",
       "  0,\n",
       "  0,\n",
       "  1,\n",
       "  3,\n",
       "  8,\n",
       "  7,\n",
       "  7,\n",
       "  1,\n",
       "  0,\n",
       "  0,\n",
       "  0,\n",
       "  1,\n",
       "  0,\n",
       "  2,\n",
       "  0,\n",
       "  6,\n",
       "  4,\n",
       "  6,\n",
       "  0,\n",
       "  11,\n",
       "  3,\n",
       "  0,\n",
       "  0,\n",
       "  0,\n",
       "  1,\n",
       "  0,\n",
       "  2,\n",
       "  5,\n",
       "  5,\n",
       "  6,\n",
       "  4,\n",
       "  2,\n",
       "  1,\n",
       "  0,\n",
       "  0,\n",
       "  0,\n",
       "  0,\n",
       "  1,\n",
       "  5,\n",
       "  2,\n",
       "  6,\n",
       "  7,\n",
       "  7,\n",
       "  4,\n",
       "  0,\n",
       "  0,\n",
       "  0,\n",
       "  1,\n",
       "  1,\n",
       "  3,\n",
       "  2,\n",
       "  3,\n",
       "  2,\n",
       "  3,\n",
       "  5,\n",
       "  3,\n",
       "  2,\n",
       "  2,\n",
       "  0,\n",
       "  0,\n",
       "  0,\n",
       "  0,\n",
       "  0,\n",
       "  4,\n",
       "  7,\n",
       "  5,\n",
       "  6,\n",
       "  3,\n",
       "  2,\n",
       "  0,\n",
       "  0,\n",
       "  0,\n",
       "  0,\n",
       "  0,\n",
       "  2,\n",
       "  2,\n",
       "  3,\n",
       "  6,\n",
       "  6,\n",
       "  6,\n",
       "  1,\n",
       "  0,\n",
       "  1,\n",
       "  0,\n",
       "  0,\n",
       "  0,\n",
       "  2,\n",
       "  1,\n",
       "  9,\n",
       "  6,\n",
       "  6,\n",
       "  3,\n",
       "  1,\n",
       "  0,\n",
       "  0,\n",
       "  0,\n",
       "  0,\n",
       "  1,\n",
       "  3,\n",
       "  5,\n",
       "  5,\n",
       "  4,\n",
       "  5,\n",
       "  4,\n",
       "  0,\n",
       "  0,\n",
       "  0,\n",
       "  0,\n",
       "  0,\n",
       "  0,\n",
       "  1,\n",
       "  1,\n",
       "  3,\n",
       "  10,\n",
       "  5,\n",
       "  1,\n",
       "  2,\n",
       "  0,\n",
       "  0,\n",
       "  0,\n",
       "  1,\n",
       "  1,\n",
       "  1,\n",
       "  1,\n",
       "  4,\n",
       "  2,\n",
       "  2,\n",
       "  0,\n",
       "  1,\n",
       "  0,\n",
       "  0,\n",
       "  0,\n",
       "  0,\n",
       "  0,\n",
       "  0,\n",
       "  3,\n",
       "  3,\n",
       "  3,\n",
       "  4,\n",
       "  0,\n",
       "  3,\n",
       "  0,\n",
       "  0,\n",
       "  0,\n",
       "  1,\n",
       "  0,\n",
       "  0,\n",
       "  3,\n",
       "  0,\n",
       "  3,\n",
       "  6,\n",
       "  5,\n",
       "  1,\n",
       "  0,\n",
       "  0,\n",
       "  0,\n",
       "  0,\n",
       "  0,\n",
       "  3,\n",
       "  3,\n",
       "  2,\n",
       "  5,\n",
       "  3,\n",
       "  1,\n",
       "  0,\n",
       "  0,\n",
       "  0,\n",
       "  0,\n",
       "  0,\n",
       "  0,\n",
       "  2,\n",
       "  4,\n",
       "  5,\n",
       "  3,\n",
       "  2,\n",
       "  1,\n",
       "  0,\n",
       "  0,\n",
       "  0,\n",
       "  0,\n",
       "  0,\n",
       "  0,\n",
       "  3,\n",
       "  1,\n",
       "  6,\n",
       "  3,\n",
       "  3,\n",
       "  1,\n",
       "  5,\n",
       "  0,\n",
       "  0,\n",
       "  0,\n",
       "  0,\n",
       "  0,\n",
       "  0,\n",
       "  4,\n",
       "  4,\n",
       "  2,\n",
       "  3,\n",
       "  0,\n",
       "  2,\n",
       "  0,\n",
       "  0,\n",
       "  0,\n",
       "  0,\n",
       "  1,\n",
       "  0,\n",
       "  1,\n",
       "  2,\n",
       "  2,\n",
       "  3,\n",
       "  3,\n",
       "  0,\n",
       "  0,\n",
       "  0,\n",
       "  0,\n",
       "  0,\n",
       "  0,\n",
       "  3,\n",
       "  1,\n",
       "  5,\n",
       "  1,\n",
       "  1,\n",
       "  3,\n",
       "  1,\n",
       "  0,\n",
       "  0,\n",
       "  0,\n",
       "  0,\n",
       "  0,\n",
       "  1,\n",
       "  3,\n",
       "  6,\n",
       "  2,\n",
       "  3,\n",
       "  0,\n",
       "  0,\n",
       "  0,\n",
       "  0,\n",
       "  0,\n",
       "  0,\n",
       "  0,\n",
       "  1,\n",
       "  1,\n",
       "  1,\n",
       "  2,\n",
       "  3,\n",
       "  5,\n",
       "  1,\n",
       "  1,\n",
       "  0,\n",
       "  0,\n",
       "  1,\n",
       "  0,\n",
       "  1,\n",
       "  5,\n",
       "  6,\n",
       "  3,\n",
       "  2,\n",
       "  2,\n",
       "  0,\n",
       "  0,\n",
       "  0,\n",
       "  0,\n",
       "  0,\n",
       "  0,\n",
       "  2,\n",
       "  3,\n",
       "  1,\n",
       "  1,\n",
       "  0,\n",
       "  0,\n",
       "  1,\n",
       "  2,\n",
       "  2,\n",
       "  0,\n",
       "  0,\n",
       "  0,\n",
       "  0,\n",
       "  0,\n",
       "  0,\n",
       "  0,\n",
       "  0,\n",
       "  0,\n",
       "  0,\n",
       "  1,\n",
       "  0,\n",
       "  1,\n",
       "  1,\n",
       "  0,\n",
       "  0,\n",
       "  0,\n",
       "  1,\n",
       "  1,\n",
       "  0,\n",
       "  0,\n",
       "  0,\n",
       "  0,\n",
       "  0,\n",
       "  1,\n",
       "  0,\n",
       "  2,\n",
       "  2,\n",
       "  0,\n",
       "  0,\n",
       "  0,\n",
       "  0,\n",
       "  0,\n",
       "  0,\n",
       "  1,\n",
       "  1,\n",
       "  1,\n",
       "  1,\n",
       "  1,\n",
       "  0,\n",
       "  0,\n",
       "  1,\n",
       "  0,\n",
       "  0,\n",
       "  0,\n",
       "  1,\n",
       "  1,\n",
       "  1,\n",
       "  0,\n",
       "  0,\n",
       "  0,\n",
       "  2,\n",
       "  0,\n",
       "  0,\n",
       "  2,\n",
       "  0,\n",
       "  1,\n",
       "  0,\n",
       "  0,\n",
       "  1,\n",
       "  2,\n",
       "  2,\n",
       "  1,\n",
       "  0,\n",
       "  0,\n",
       "  0,\n",
       "  0,\n",
       "  1,\n",
       "  0,\n",
       "  0,\n",
       "  0,\n",
       "  0,\n",
       "  1,\n",
       "  0,\n",
       "  1,\n",
       "  0,\n",
       "  0,\n",
       "  0,\n",
       "  0,\n",
       "  0,\n",
       "  0,\n",
       "  0,\n",
       "  0,\n",
       "  0,\n",
       "  0,\n",
       "  0,\n",
       "  2,\n",
       "  0,\n",
       "  1,\n",
       "  0,\n",
       "  0,\n",
       "  0,\n",
       "  0,\n",
       "  0,\n",
       "  0,\n",
       "  2,\n",
       "  0,\n",
       "  1,\n",
       "  0,\n",
       "  0,\n",
       "  2,\n",
       "  1,\n",
       "  1,\n",
       "  0,\n",
       "  0,\n",
       "  1,\n",
       "  0,\n",
       "  0,\n",
       "  1,\n",
       "  2,\n",
       "  ...],\n",
       " 'role': {'time': ['Tid'], 'metric': ['ContentsCode']},\n",
       " 'version': '2.0',\n",
       " 'extension': {'px': {'infofile': 'None', 'tableid': '06794', 'decimals': 0}}}"
      ]
     },
     "execution_count": 15,
     "metadata": {},
     "output_type": "execute_result"
    }
   ],
   "source": [
    "# Read text file containing JSON object\n",
    "import json\n",
    "with open('../../data/traffic_accidents.txt') as f:\n",
    "    json_string = f.read()\n",
    "json_object = json.loads(json_string)\n",
    "json_object"
   ]
  },
  {
   "cell_type": "code",
   "execution_count": 16,
   "metadata": {
    "slideshow": {
     "slide_type": "slide"
    }
   },
   "outputs": [
    {
     "name": "stdout",
     "output_type": "stream",
     "text": [
      "(28320, 6)\n"
     ]
    },
    {
     "data": {
      "text/html": [
       "<div>\n",
       "<style scoped>\n",
       "    .dataframe tbody tr th:only-of-type {\n",
       "        vertical-align: middle;\n",
       "    }\n",
       "\n",
       "    .dataframe tbody tr th {\n",
       "        vertical-align: top;\n",
       "    }\n",
       "\n",
       "    .dataframe thead th {\n",
       "        text-align: right;\n",
       "    }\n",
       "</style>\n",
       "<table border=\"1\" class=\"dataframe\">\n",
       "  <thead>\n",
       "    <tr style=\"text-align: right;\">\n",
       "      <th></th>\n",
       "      <th>degree of damage</th>\n",
       "      <th>sex</th>\n",
       "      <th>group of road user</th>\n",
       "      <th>contents</th>\n",
       "      <th>month</th>\n",
       "      <th>value</th>\n",
       "    </tr>\n",
       "  </thead>\n",
       "  <tbody>\n",
       "    <tr>\n",
       "      <th>0</th>\n",
       "      <td>Killed</td>\n",
       "      <td>Males</td>\n",
       "      <td>Drivers of car</td>\n",
       "      <td>Persons killed or injured</td>\n",
       "      <td>1999M01</td>\n",
       "      <td>8</td>\n",
       "    </tr>\n",
       "    <tr>\n",
       "      <th>1</th>\n",
       "      <td>Killed</td>\n",
       "      <td>Males</td>\n",
       "      <td>Drivers of car</td>\n",
       "      <td>Persons killed or injured</td>\n",
       "      <td>1999M02</td>\n",
       "      <td>6</td>\n",
       "    </tr>\n",
       "    <tr>\n",
       "      <th>2</th>\n",
       "      <td>Killed</td>\n",
       "      <td>Males</td>\n",
       "      <td>Drivers of car</td>\n",
       "      <td>Persons killed or injured</td>\n",
       "      <td>1999M03</td>\n",
       "      <td>5</td>\n",
       "    </tr>\n",
       "    <tr>\n",
       "      <th>3</th>\n",
       "      <td>Killed</td>\n",
       "      <td>Males</td>\n",
       "      <td>Drivers of car</td>\n",
       "      <td>Persons killed or injured</td>\n",
       "      <td>1999M04</td>\n",
       "      <td>9</td>\n",
       "    </tr>\n",
       "    <tr>\n",
       "      <th>4</th>\n",
       "      <td>Killed</td>\n",
       "      <td>Males</td>\n",
       "      <td>Drivers of car</td>\n",
       "      <td>Persons killed or injured</td>\n",
       "      <td>1999M05</td>\n",
       "      <td>12</td>\n",
       "    </tr>\n",
       "  </tbody>\n",
       "</table>\n",
       "</div>"
      ],
      "text/plain": [
       "  degree of damage    sex group of road user                   contents  \\\n",
       "0           Killed  Males     Drivers of car  Persons killed or injured   \n",
       "1           Killed  Males     Drivers of car  Persons killed or injured   \n",
       "2           Killed  Males     Drivers of car  Persons killed or injured   \n",
       "3           Killed  Males     Drivers of car  Persons killed or injured   \n",
       "4           Killed  Males     Drivers of car  Persons killed or injured   \n",
       "\n",
       "     month  value  \n",
       "0  1999M01      8  \n",
       "1  1999M02      6  \n",
       "2  1999M03      5  \n",
       "3  1999M04      9  \n",
       "4  1999M05     12  "
      ]
     },
     "execution_count": 16,
     "metadata": {},
     "output_type": "execute_result"
    }
   ],
   "source": [
    "# Convert json_string to a JSON-stat object and then to a Pandas dataframe\n",
    "from pyjstat import pyjstat\n",
    "dataset = pyjstat.Dataset.read(json_string)\n",
    "df = dataset.write('dataframe')\n",
    "print(df.shape)\n",
    "df.head()"
   ]
  },
  {
   "cell_type": "markdown",
   "metadata": {
    "slideshow": {
     "slide_type": "slide"
    }
   },
   "source": [
    "## Exercise\n",
    "We want to make a family tree consisting of child-parent JSON objects.  \n",
    "Create a JSON list which contains two objects of equal structure (i.e., same nesting and _names_).  \n",
    "Each object should contain a _name : value_ pair with the child name and a list of parents (_name : value_ pairs).\n",
    "  \n",
    "__Think__: \n",
    "- Are there alternative ways to code this? (hint: unique dictionary keys)\n",
    "- If this JSON object was to be parsed for printing, inclusion in a database or other, are there exceptions one would have to consider?"
   ]
  },
  {
   "cell_type": "markdown",
   "metadata": {
    "slideshow": {
     "slide_type": "slide"
    }
   },
   "source": [
    "## Extensible Markup Language (XML)\n",
    "- Defined by the World Wide Web Consortium in 1998 (v1.0); current version from 2006 (v1.1, 2nd edition).\n",
    "- Uses tags like HTML code, but much more flexible.\n",
    "- Hundreds of document formats, several industry data standards and communication protocols, web page formats etc. are based on XML.\n",
    "- As with JSON, there are many standardised formats defined using the base rules of XML.\n",
    "    - More overhead in the file format, less readable, needs parser, more standardised, overlapping use in data transfer.\n",
    "- Accepts most of the UTF-8 encoding (see below) including Chinese, Armenian, Cyrillic."
   ]
  },
  {
   "cell_type": "code",
   "execution_count": 17,
   "metadata": {
    "slideshow": {
     "slide_type": "slide"
    }
   },
   "outputs": [
    {
     "data": {
      "text/plain": [
       "' A valid XML file\\n<?xml version=\"1.0\" encoding=\"UTF-8\"?>\\n<俄语 լեզու=\"ռուսերեն\">данные</俄语>\\n'"
      ]
     },
     "execution_count": 17,
     "metadata": {},
     "output_type": "execute_result"
    }
   ],
   "source": [
    "''' A valid XML file\n",
    "<?xml version=\"1.0\" encoding=\"UTF-8\"?>\n",
    "<俄语 լեզու=\"ռուսերեն\">данные</俄语>\n",
    "'''"
   ]
  },
  {
   "cell_type": "code",
   "execution_count": 18,
   "metadata": {
    "slideshow": {
     "slide_type": "slide"
    }
   },
   "outputs": [
    {
     "data": {
      "text/plain": [
       "' \\n{\"guests\":[\\n  { \"firstName\":\"John\", \"lastName\":\"Doe\" },\\n  { \"firstName\":\"María\", \"lastName\":\"García\" },\\n  { \"firstName\":\"Nikki\", \"lastName\":\"Wolf\" }\\n]}\\n\\n<guests>\\n  <guest>\\n    <firstName>John</firstName> <lastName>Doe</lastName>\\n  </guest>\\n  <guest>\\n    <firstName>María</firstName> <lastName>García</lastName>\\n  </guest>\\n  <guest>\\n    <firstName>Nikki</firstName> <lastName>Wolf</lastName>\\n  </guest>\\n</guests>\\n'"
      ]
     },
     "execution_count": 18,
     "metadata": {},
     "output_type": "execute_result"
    }
   ],
   "source": [
    "# Equivalent JSON and XML documents\n",
    "''' \n",
    "{\"guests\":[\n",
    "  { \"firstName\":\"John\", \"lastName\":\"Doe\" },\n",
    "  { \"firstName\":\"María\", \"lastName\":\"García\" },\n",
    "  { \"firstName\":\"Nikki\", \"lastName\":\"Wolf\" }\n",
    "]}\n",
    "\n",
    "<guests>\n",
    "  <guest>\n",
    "    <firstName>John</firstName> <lastName>Doe</lastName>\n",
    "  </guest>\n",
    "  <guest>\n",
    "    <firstName>María</firstName> <lastName>García</lastName>\n",
    "  </guest>\n",
    "  <guest>\n",
    "    <firstName>Nikki</firstName> <lastName>Wolf</lastName>\n",
    "  </guest>\n",
    "</guests>\n",
    "'''"
   ]
  },
  {
   "cell_type": "markdown",
   "metadata": {
    "slideshow": {
     "slide_type": "slide"
    }
   },
   "source": [
    "## Large data\n",
    "- Real data can be exeedingly large; gigabytes, terabytes, ...\n",
    "- Pandas takes you only part of the way.\n",
    "- [Modin](modin.readthedocs.io) is an example of a simple Pandas replacement that scales much further (>1TB).\n",
    "    - Choose backend: Ray, Dask, Unidist, and use _import modin.pandas as pd_\n",
    "- [PySpark](https://spark.apache.org/docs/latest/api/python/index.html) with [Apache Spark](https://spark.apache.org/) takes this to a distributed level but also demands more installation and configuration.\n",
    "    - We will test [Spark in conjunction with a database](../Databases/Spark.ipynb) later."
   ]
  },
  {
   "cell_type": "markdown",
   "metadata": {
    "slideshow": {
     "slide_type": "slide"
    }
   },
   "source": [
    "### HDF5\n",
    "- Data container for large and/or heterogeneous data.\n",
    "- Appears as a single file on a computer.\n",
    "- Can be accessed and browsed without loading/unpacking its contents.\n",
    "- Can group objects together, e.g., measurements and metadata.\n",
    "- Data can be access through different views that require different relations or hierachies.\n",
    "- Often used quite simply with data, models, and results in a single file.\n",
    "- Resembles a flexible NumPy array."
   ]
  },
  {
   "cell_type": "markdown",
   "metadata": {
    "slideshow": {
     "slide_type": "slide"
    }
   },
   "source": [
    "## Encoding\n",
    "- Most modern data storage use [UTF-8](https://en.wikipedia.org/wiki/UTF-8) encoding\n",
    "    - Universal Coded Character Set Transformation Format - 8-bit, or just Unicode Transformation Format.\n",
    "    - One to four 8-bit code units enabling 1 112 064 character codes.\n",
    "    - JSON are among formats one assumes are UTF-8 encoded.\n",
    "- However, there are many standards, so no guarantees are given.\n",
    "    - ASCII, WINDOWS-1252 (Nordic), ISO-88xx-y, etc. may need special treatment or translation, especially if different connected apps or services have their own basic assumptions.\n",
    "    - Old data files and vendor specific file version are most likely to be problematic."
   ]
  },
  {
   "cell_type": "markdown",
   "metadata": {
    "slideshow": {
     "slide_type": "slide"
    }
   },
   "source": [
    "## Resources\n",
    "- [json.org](https://www.json.org/)\n",
    "- [YouTube: Learn JSON in 10 minutes](https://youtu.be/iiADhChRriM) (12m:00s)\n",
    "- [Pandas documentation: special plot commands](https://pandas.pydata.org/docs/reference/plotting.html)\n",
    "- [Pandas documentation: .plot.xxx()](https://pandas.pydata.org/docs/reference/api/pandas.DataFrame.plot.html)\n",
    "- [YouTube: An Introduction to HDF5](https://youtu.be/S74Kc8QYDac) (10m:23s) (full course available)\n",
    "- [The difference between JSON and XML](https://aws.amazon.com/compare/the-difference-between-json-xml/)"
   ]
  }
 ],
 "metadata": {
  "celltoolbar": "Slideshow",
  "kernelspec": {
   "display_name": "Python 3 (ipykernel)",
   "language": "python",
   "name": "python3"
  },
  "language_info": {
   "codemirror_mode": {
    "name": "ipython",
    "version": 3
   },
   "file_extension": ".py",
   "mimetype": "text/x-python",
   "name": "python",
   "nbconvert_exporter": "python",
   "pygments_lexer": "ipython3",
   "version": "3.10.6"
  }
 },
 "nbformat": 4,
 "nbformat_minor": 2
}
