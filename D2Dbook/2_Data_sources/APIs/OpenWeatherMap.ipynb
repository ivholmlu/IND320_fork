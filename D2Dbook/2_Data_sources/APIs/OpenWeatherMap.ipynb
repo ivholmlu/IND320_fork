{
 "cells": [
  {
   "cell_type": "markdown",
   "metadata": {
    "slideshow": {
     "slide_type": "slide"
    }
   },
   "source": [
    "# Demonstration of API using OpenWeatherMap.org\n",
    "This demonstration is heavily inspired by [NeuralNine's video](https://www.youtube.com/watch?v=9P5MY_2i7K8).  \n",
    "You need a free account [from here](https://openweathermap.org/api).  \n",
    "The VS Code extension _JSON viewer_ is recommended for viewing downloaded JSON content.  \n",
    "  - Set your maximum API calls to 1000 per day to make sure you are under the limit for billing. \n",
    "  - To run the examples, download your API key, save it in the right folder (see below) in a file called _api\\_key\\_OpenWeather_, containing only the key (no spaces or \"enters\")."
   ]
  },
  {
   "cell_type": "code",
   "execution_count": 1,
   "metadata": {
    "slideshow": {
     "slide_type": "fragment"
    }
   },
   "outputs": [],
   "source": [
    "# Imports\n",
    "import datetime as dt\n",
    "import requests\n",
    "import json"
   ]
  },
  {
   "cell_type": "markdown",
   "metadata": {
    "slideshow": {
     "slide_type": "slide"
    }
   },
   "source": [
    "## Current weather\n",
    "### Common definitions to use for all requests"
   ]
  },
  {
   "cell_type": "code",
   "execution_count": 7,
   "metadata": {
    "slideshow": {
     "slide_type": "-"
    }
   },
   "outputs": [],
   "source": [
    "BASE_URL = \"http://api.openweathermap.org/data/2.5/weather?\"\n",
    "API_KEY = open('../../../No_sync/api_key_OpenWeather','r').read()\n",
    "CITY = \"Ski\"\n",
    "\n",
    "url = BASE_URL + \"q=\" + CITY + \"&appid=\" + API_KEY"
   ]
  },
  {
   "cell_type": "markdown",
   "metadata": {
    "slideshow": {
     "slide_type": "slide"
    }
   },
   "source": [
    "## Request current weather in chosen city"
   ]
  },
  {
   "cell_type": "code",
   "execution_count": 8,
   "metadata": {
    "slideshow": {
     "slide_type": "fragment"
    }
   },
   "outputs": [
    {
     "name": "stdout",
     "output_type": "stream",
     "text": [
      "{'coord': {'lon': 10.8358, 'lat': 59.7195}, 'weather': [{'id': 500, 'main': 'Rain', 'description': 'light rain', 'icon': '10d'}], 'base': 'stations', 'main': {'temp': 285.04, 'feels_like': 284.84, 'temp_min': 284.7, 'temp_max': 285.57, 'pressure': 1014, 'humidity': 98, 'sea_level': 1014, 'grnd_level': 997}, 'visibility': 10000, 'wind': {'speed': 3.07, 'deg': 103, 'gust': 11.48}, 'rain': {'1h': 0.13}, 'clouds': {'all': 100}, 'dt': 1695883069, 'sys': {'type': 2, 'id': 2006772, 'country': 'NO', 'sunrise': 1695878026, 'sunset': 1695920465}, 'timezone': 7200, 'id': 3139081, 'name': 'Ski', 'cod': 200}\n"
     ]
    }
   ],
   "source": [
    "response = requests.get(url).json()\n",
    "print(response)"
   ]
  },
  {
   "cell_type": "code",
   "execution_count": 9,
   "metadata": {
    "slideshow": {
     "slide_type": "fragment"
    }
   },
   "outputs": [],
   "source": [
    "# Write JSON to file for viewing\n",
    "with open('downloads/weather.json', 'w') as f:\n",
    "    json.dump(response, f, indent=4)"
   ]
  },
  {
   "cell_type": "markdown",
   "metadata": {
    "slideshow": {
     "slide_type": "slide"
    }
   },
   "source": [
    "## Conversion functions\n",
    "Changing scales can make results more interpretable"
   ]
  },
  {
   "cell_type": "code",
   "execution_count": 10,
   "metadata": {
    "slideshow": {
     "slide_type": "-"
    }
   },
   "outputs": [],
   "source": [
    "# Kelvin to Celsius\n",
    "def kelvin_to_celsius(temp):\n",
    "    return temp - 273.15\n",
    "\n",
    "# Meters per second to knots\n",
    "def mps_to_knots(speed):\n",
    "    return speed * 1.943844"
   ]
  },
  {
   "cell_type": "markdown",
   "metadata": {
    "slideshow": {
     "slide_type": "slide"
    }
   },
   "source": [
    "## Print some weather properties"
   ]
  },
  {
   "cell_type": "code",
   "execution_count": 12,
   "metadata": {
    "slideshow": {
     "slide_type": "-"
    }
   },
   "outputs": [
    {
     "name": "stdout",
     "output_type": "stream",
     "text": [
      "The current temperature in Ski is 11.9°C\n"
     ]
    }
   ],
   "source": [
    "# Current temperature\n",
    "temp_kelvin = response['main']['temp']\n",
    "temp_celsius = kelvin_to_celsius(temp_kelvin)\n",
    "print(f\"The current temperature in {CITY} is {temp_celsius:.1f}°C\")"
   ]
  },
  {
   "cell_type": "code",
   "execution_count": 17,
   "metadata": {
    "slideshow": {
     "slide_type": "slide"
    }
   },
   "outputs": [
    {
     "name": "stdout",
     "output_type": "stream",
     "text": [
      "Sunrise today is at 07:13 and sunset is at 19:01\n"
     ]
    }
   ],
   "source": [
    "# Sunrise and sunset today in local time\n",
    "sunrise = dt.datetime.fromtimestamp(response['sys']['sunrise'])\n",
    "sunset = dt.datetime.fromtimestamp(response['sys']['sunset'])\n",
    "print(f\"Sunrise today is at {sunrise:%H:%M} and sunset is at {sunset:%H:%M}\")"
   ]
  },
  {
   "cell_type": "code",
   "execution_count": 18,
   "metadata": {
    "slideshow": {
     "slide_type": "fragment"
    }
   },
   "outputs": [
    {
     "name": "stdout",
     "output_type": "stream",
     "text": [
      "Wind today is from 103° at 6.0 knots\n"
     ]
    }
   ],
   "source": [
    "# Wind direction and speed\n",
    "wind_knots = mps_to_knots(response['wind']['speed'])\n",
    "print(f\"Wind today is from {response['wind']['deg']}° at {round(wind_knots,1)} knots\")"
   ]
  },
  {
   "cell_type": "markdown",
   "metadata": {
    "slideshow": {
     "slide_type": "slide"
    }
   },
   "source": [
    "## Forecasted weather\n",
    "### Common definitions to use for all requests"
   ]
  },
  {
   "cell_type": "code",
   "execution_count": 19,
   "metadata": {
    "slideshow": {
     "slide_type": "-"
    }
   },
   "outputs": [],
   "source": [
    "BASE_URL = \"http://api.openweathermap.org/data/2.5/forecast?\"\n",
    "CITY = \"Ski\"\n",
    "\n",
    "urlF = BASE_URL + \"q=\" + CITY + \"&appid=\" + API_KEY"
   ]
  },
  {
   "cell_type": "markdown",
   "metadata": {
    "slideshow": {
     "slide_type": "slide"
    }
   },
   "source": [
    "## Request forecasted weather in chosen city"
   ]
  },
  {
   "cell_type": "code",
   "execution_count": 20,
   "metadata": {
    "slideshow": {
     "slide_type": "-"
    }
   },
   "outputs": [
    {
     "name": "stdout",
     "output_type": "stream",
     "text": [
      "{'cod': '200', 'message': 0, 'cnt': 40, 'list': [{'dt': 1695891600, 'main': {'temp': 285.72, 'feels_like': 285.51, 'temp_min': 285.72, 'temp_max': 287.09, 'pressure': 1014, 'sea_level': 1014, 'grnd_level': 996, 'humidity': 95, 'temp_kf': -1.37}, 'weather': [{'id': 500, 'main': 'Rain', 'description': 'light rain', 'icon': '10d'}], 'clouds': {'all': 100}, 'wind': {'speed': 3.29, 'deg': 112, 'gust': 9.81}, 'visibility': 10000, 'pop': 0.4, 'rain': {'3h': 0.21}, 'sys': {'pod': 'd'}, 'dt_txt': '2023-09-28 09:00:00'}, {'dt': 1695902400, 'main': {'temp': 287.3, 'feels_like': 287.23, 'temp_min': 287.3, 'temp_max': 288.43, 'pressure': 1012, 'sea_level': 1012, 'grnd_level': 993, 'humidity': 94, 'temp_kf': -1.13}, 'weather': [{'id': 500, 'main': 'Rain', 'description': 'light rain', 'icon': '10d'}], 'clouds': {'all': 99}, 'wind': {'speed': 3.75, 'deg': 157, 'gust': 10.05}, 'visibility': 10000, 'pop': 0.7, 'rain': {'3h': 0.74}, 'sys': {'pod': 'd'}, 'dt_txt': '2023-09-28 12:00:00'}, {'dt': 1695913200, 'main': {'temp': 288.23, 'feels_like': 288.33, 'temp_min': 288.23, 'temp_max': 288.23, 'pressure': 1009, 'sea_level': 1009, 'grnd_level': 992, 'humidity': 97, 'temp_kf': 0}, 'weather': [{'id': 500, 'main': 'Rain', 'description': 'light rain', 'icon': '10d'}], 'clouds': {'all': 100}, 'wind': {'speed': 3.95, 'deg': 180, 'gust': 10.32}, 'visibility': 7598, 'pop': 0.47, 'rain': {'3h': 0.23}, 'sys': {'pod': 'd'}, 'dt_txt': '2023-09-28 15:00:00'}, {'dt': 1695924000, 'main': {'temp': 286.84, 'feels_like': 286.75, 'temp_min': 286.84, 'temp_max': 286.84, 'pressure': 1009, 'sea_level': 1009, 'grnd_level': 993, 'humidity': 95, 'temp_kf': 0}, 'weather': [{'id': 500, 'main': 'Rain', 'description': 'light rain', 'icon': '10n'}], 'clouds': {'all': 97}, 'wind': {'speed': 3.82, 'deg': 183, 'gust': 11.06}, 'visibility': 10000, 'pop': 0.34, 'rain': {'3h': 0.15}, 'sys': {'pod': 'n'}, 'dt_txt': '2023-09-28 18:00:00'}, {'dt': 1695934800, 'main': {'temp': 286.35, 'feels_like': 286.1, 'temp_min': 286.35, 'temp_max': 286.35, 'pressure': 1010, 'sea_level': 1010, 'grnd_level': 994, 'humidity': 91, 'temp_kf': 0}, 'weather': [{'id': 803, 'main': 'Clouds', 'description': 'broken clouds', 'icon': '04n'}], 'clouds': {'all': 77}, 'wind': {'speed': 4.06, 'deg': 190, 'gust': 11.44}, 'visibility': 10000, 'pop': 0, 'sys': {'pod': 'n'}, 'dt_txt': '2023-09-28 21:00:00'}, {'dt': 1695945600, 'main': {'temp': 285.75, 'feels_like': 285.52, 'temp_min': 285.75, 'temp_max': 285.75, 'pressure': 1010, 'sea_level': 1010, 'grnd_level': 993, 'humidity': 94, 'temp_kf': 0}, 'weather': [{'id': 804, 'main': 'Clouds', 'description': 'overcast clouds', 'icon': '04n'}], 'clouds': {'all': 88}, 'wind': {'speed': 4.81, 'deg': 195, 'gust': 12.12}, 'visibility': 10000, 'pop': 0, 'sys': {'pod': 'n'}, 'dt_txt': '2023-09-29 00:00:00'}, {'dt': 1695956400, 'main': {'temp': 285.24, 'feels_like': 284.93, 'temp_min': 285.24, 'temp_max': 285.24, 'pressure': 1009, 'sea_level': 1009, 'grnd_level': 993, 'humidity': 93, 'temp_kf': 0}, 'weather': [{'id': 804, 'main': 'Clouds', 'description': 'overcast clouds', 'icon': '04n'}], 'clouds': {'all': 96}, 'wind': {'speed': 4.85, 'deg': 195, 'gust': 12.68}, 'visibility': 10000, 'pop': 0, 'sys': {'pod': 'n'}, 'dt_txt': '2023-09-29 03:00:00'}, {'dt': 1695967200, 'main': {'temp': 285.3, 'feels_like': 284.89, 'temp_min': 285.3, 'temp_max': 285.3, 'pressure': 1009, 'sea_level': 1009, 'grnd_level': 992, 'humidity': 89, 'temp_kf': 0}, 'weather': [{'id': 804, 'main': 'Clouds', 'description': 'overcast clouds', 'icon': '04d'}], 'clouds': {'all': 98}, 'wind': {'speed': 4.39, 'deg': 197, 'gust': 11.59}, 'visibility': 10000, 'pop': 0, 'sys': {'pod': 'd'}, 'dt_txt': '2023-09-29 06:00:00'}, {'dt': 1695978000, 'main': {'temp': 286.91, 'feels_like': 286.51, 'temp_min': 286.91, 'temp_max': 286.91, 'pressure': 1008, 'sea_level': 1008, 'grnd_level': 992, 'humidity': 83, 'temp_kf': 0}, 'weather': [{'id': 804, 'main': 'Clouds', 'description': 'overcast clouds', 'icon': '04d'}], 'clouds': {'all': 100}, 'wind': {'speed': 3.94, 'deg': 201, 'gust': 10.45}, 'visibility': 10000, 'pop': 0.01, 'sys': {'pod': 'd'}, 'dt_txt': '2023-09-29 09:00:00'}, {'dt': 1695988800, 'main': {'temp': 287.76, 'feels_like': 287.16, 'temp_min': 287.76, 'temp_max': 287.76, 'pressure': 1008, 'sea_level': 1008, 'grnd_level': 992, 'humidity': 72, 'temp_kf': 0}, 'weather': [{'id': 804, 'main': 'Clouds', 'description': 'overcast clouds', 'icon': '04d'}], 'clouds': {'all': 90}, 'wind': {'speed': 5.09, 'deg': 200, 'gust': 9.39}, 'visibility': 10000, 'pop': 0, 'sys': {'pod': 'd'}, 'dt_txt': '2023-09-29 12:00:00'}, {'dt': 1695999600, 'main': {'temp': 287.73, 'feels_like': 287.23, 'temp_min': 287.73, 'temp_max': 287.73, 'pressure': 1007, 'sea_level': 1007, 'grnd_level': 990, 'humidity': 76, 'temp_kf': 0}, 'weather': [{'id': 802, 'main': 'Clouds', 'description': 'scattered clouds', 'icon': '03d'}], 'clouds': {'all': 43}, 'wind': {'speed': 4, 'deg': 197, 'gust': 8.28}, 'visibility': 10000, 'pop': 0.01, 'sys': {'pod': 'd'}, 'dt_txt': '2023-09-29 15:00:00'}, {'dt': 1696010400, 'main': {'temp': 285.01, 'feels_like': 284.76, 'temp_min': 285.01, 'temp_max': 285.01, 'pressure': 1006, 'sea_level': 1006, 'grnd_level': 990, 'humidity': 96, 'temp_kf': 0}, 'weather': [{'id': 802, 'main': 'Clouds', 'description': 'scattered clouds', 'icon': '03n'}], 'clouds': {'all': 42}, 'wind': {'speed': 3.56, 'deg': 185, 'gust': 9.79}, 'visibility': 10000, 'pop': 0.01, 'sys': {'pod': 'n'}, 'dt_txt': '2023-09-29 18:00:00'}, {'dt': 1696021200, 'main': {'temp': 284.4, 'feels_like': 283.93, 'temp_min': 284.4, 'temp_max': 284.4, 'pressure': 1005, 'sea_level': 1005, 'grnd_level': 989, 'humidity': 90, 'temp_kf': 0}, 'weather': [{'id': 802, 'main': 'Clouds', 'description': 'scattered clouds', 'icon': '03n'}], 'clouds': {'all': 39}, 'wind': {'speed': 4.01, 'deg': 205, 'gust': 11.08}, 'visibility': 10000, 'pop': 0.19, 'sys': {'pod': 'n'}, 'dt_txt': '2023-09-29 21:00:00'}, {'dt': 1696032000, 'main': {'temp': 283.2, 'feels_like': 282.38, 'temp_min': 283.2, 'temp_max': 283.2, 'pressure': 1006, 'sea_level': 1006, 'grnd_level': 989, 'humidity': 81, 'temp_kf': 0}, 'weather': [{'id': 801, 'main': 'Clouds', 'description': 'few clouds', 'icon': '02n'}], 'clouds': {'all': 20}, 'wind': {'speed': 4.22, 'deg': 210, 'gust': 11.42}, 'visibility': 10000, 'pop': 0.04, 'sys': {'pod': 'n'}, 'dt_txt': '2023-09-30 00:00:00'}, {'dt': 1696042800, 'main': {'temp': 283.39, 'feels_like': 282.45, 'temp_min': 283.39, 'temp_max': 283.39, 'pressure': 1005, 'sea_level': 1005, 'grnd_level': 988, 'humidity': 76, 'temp_kf': 0}, 'weather': [{'id': 802, 'main': 'Clouds', 'description': 'scattered clouds', 'icon': '03n'}], 'clouds': {'all': 31}, 'wind': {'speed': 4.54, 'deg': 219, 'gust': 12.1}, 'visibility': 10000, 'pop': 0, 'sys': {'pod': 'n'}, 'dt_txt': '2023-09-30 03:00:00'}, {'dt': 1696053600, 'main': {'temp': 282.46, 'feels_like': 280.54, 'temp_min': 282.46, 'temp_max': 282.46, 'pressure': 1006, 'sea_level': 1006, 'grnd_level': 989, 'humidity': 78, 'temp_kf': 0}, 'weather': [{'id': 802, 'main': 'Clouds', 'description': 'scattered clouds', 'icon': '03d'}], 'clouds': {'all': 47}, 'wind': {'speed': 3.52, 'deg': 235, 'gust': 10.77}, 'visibility': 10000, 'pop': 0, 'sys': {'pod': 'd'}, 'dt_txt': '2023-09-30 06:00:00'}, {'dt': 1696064400, 'main': {'temp': 285.59, 'feels_like': 284.51, 'temp_min': 285.59, 'temp_max': 285.59, 'pressure': 1008, 'sea_level': 1008, 'grnd_level': 991, 'humidity': 62, 'temp_kf': 0}, 'weather': [{'id': 804, 'main': 'Clouds', 'description': 'overcast clouds', 'icon': '04d'}], 'clouds': {'all': 100}, 'wind': {'speed': 4.94, 'deg': 244, 'gust': 9.92}, 'visibility': 10000, 'pop': 0, 'sys': {'pod': 'd'}, 'dt_txt': '2023-09-30 09:00:00'}, {'dt': 1696075200, 'main': {'temp': 288.95, 'feels_like': 287.87, 'temp_min': 288.95, 'temp_max': 288.95, 'pressure': 1009, 'sea_level': 1009, 'grnd_level': 992, 'humidity': 49, 'temp_kf': 0}, 'weather': [{'id': 803, 'main': 'Clouds', 'description': 'broken clouds', 'icon': '04d'}], 'clouds': {'all': 51}, 'wind': {'speed': 4.56, 'deg': 261, 'gust': 7.56}, 'visibility': 10000, 'pop': 0, 'sys': {'pod': 'd'}, 'dt_txt': '2023-09-30 12:00:00'}, {'dt': 1696086000, 'main': {'temp': 288.56, 'feels_like': 287.57, 'temp_min': 288.56, 'temp_max': 288.56, 'pressure': 1009, 'sea_level': 1009, 'grnd_level': 993, 'humidity': 54, 'temp_kf': 0}, 'weather': [{'id': 800, 'main': 'Clear', 'description': 'clear sky', 'icon': '01d'}], 'clouds': {'all': 1}, 'wind': {'speed': 3.09, 'deg': 267, 'gust': 6.54}, 'visibility': 10000, 'pop': 0, 'sys': {'pod': 'd'}, 'dt_txt': '2023-09-30 15:00:00'}, {'dt': 1696096800, 'main': {'temp': 283.22, 'feels_like': 282.14, 'temp_min': 283.22, 'temp_max': 283.22, 'pressure': 1011, 'sea_level': 1011, 'grnd_level': 994, 'humidity': 71, 'temp_kf': 0}, 'weather': [{'id': 800, 'main': 'Clear', 'description': 'clear sky', 'icon': '01n'}], 'clouds': {'all': 2}, 'wind': {'speed': 1.31, 'deg': 235, 'gust': 1.28}, 'visibility': 10000, 'pop': 0, 'sys': {'pod': 'n'}, 'dt_txt': '2023-09-30 18:00:00'}, {'dt': 1696107600, 'main': {'temp': 281.73, 'feels_like': 281.73, 'temp_min': 281.73, 'temp_max': 281.73, 'pressure': 1012, 'sea_level': 1012, 'grnd_level': 995, 'humidity': 76, 'temp_kf': 0}, 'weather': [{'id': 803, 'main': 'Clouds', 'description': 'broken clouds', 'icon': '04n'}], 'clouds': {'all': 55}, 'wind': {'speed': 1.03, 'deg': 236, 'gust': 1.03}, 'visibility': 10000, 'pop': 0, 'sys': {'pod': 'n'}, 'dt_txt': '2023-09-30 21:00:00'}, {'dt': 1696118400, 'main': {'temp': 280.65, 'feels_like': 280.65, 'temp_min': 280.65, 'temp_max': 280.65, 'pressure': 1012, 'sea_level': 1012, 'grnd_level': 995, 'humidity': 79, 'temp_kf': 0}, 'weather': [{'id': 803, 'main': 'Clouds', 'description': 'broken clouds', 'icon': '04n'}], 'clouds': {'all': 56}, 'wind': {'speed': 0.59, 'deg': 287, 'gust': 0.64}, 'visibility': 10000, 'pop': 0, 'sys': {'pod': 'n'}, 'dt_txt': '2023-10-01 00:00:00'}, {'dt': 1696129200, 'main': {'temp': 279.98, 'feels_like': 279.98, 'temp_min': 279.98, 'temp_max': 279.98, 'pressure': 1012, 'sea_level': 1012, 'grnd_level': 995, 'humidity': 82, 'temp_kf': 0}, 'weather': [{'id': 804, 'main': 'Clouds', 'description': 'overcast clouds', 'icon': '04n'}], 'clouds': {'all': 91}, 'wind': {'speed': 0.97, 'deg': 325, 'gust': 1}, 'visibility': 10000, 'pop': 0, 'sys': {'pod': 'n'}, 'dt_txt': '2023-10-01 03:00:00'}, {'dt': 1696140000, 'main': {'temp': 279.35, 'feels_like': 279.35, 'temp_min': 279.35, 'temp_max': 279.35, 'pressure': 1013, 'sea_level': 1013, 'grnd_level': 996, 'humidity': 85, 'temp_kf': 0}, 'weather': [{'id': 803, 'main': 'Clouds', 'description': 'broken clouds', 'icon': '04d'}], 'clouds': {'all': 65}, 'wind': {'speed': 1.31, 'deg': 355, 'gust': 1.34}, 'visibility': 10000, 'pop': 0, 'sys': {'pod': 'd'}, 'dt_txt': '2023-10-01 06:00:00'}, {'dt': 1696150800, 'main': {'temp': 284.86, 'feels_like': 283.73, 'temp_min': 284.86, 'temp_max': 284.86, 'pressure': 1013, 'sea_level': 1013, 'grnd_level': 996, 'humidity': 63, 'temp_kf': 0}, 'weather': [{'id': 800, 'main': 'Clear', 'description': 'clear sky', 'icon': '01d'}], 'clouds': {'all': 10}, 'wind': {'speed': 1, 'deg': 324, 'gust': 1.44}, 'visibility': 10000, 'pop': 0, 'sys': {'pod': 'd'}, 'dt_txt': '2023-10-01 09:00:00'}, {'dt': 1696161600, 'main': {'temp': 287.68, 'feels_like': 286.55, 'temp_min': 287.68, 'temp_max': 287.68, 'pressure': 1013, 'sea_level': 1013, 'grnd_level': 996, 'humidity': 52, 'temp_kf': 0}, 'weather': [{'id': 801, 'main': 'Clouds', 'description': 'few clouds', 'icon': '02d'}], 'clouds': {'all': 12}, 'wind': {'speed': 1.37, 'deg': 226, 'gust': 1.94}, 'visibility': 10000, 'pop': 0, 'sys': {'pod': 'd'}, 'dt_txt': '2023-10-01 12:00:00'}, {'dt': 1696172400, 'main': {'temp': 286.21, 'feels_like': 285.22, 'temp_min': 286.21, 'temp_max': 286.21, 'pressure': 1012, 'sea_level': 1012, 'grnd_level': 996, 'humidity': 63, 'temp_kf': 0}, 'weather': [{'id': 801, 'main': 'Clouds', 'description': 'few clouds', 'icon': '02d'}], 'clouds': {'all': 18}, 'wind': {'speed': 2.41, 'deg': 196, 'gust': 3.73}, 'visibility': 10000, 'pop': 0, 'sys': {'pod': 'd'}, 'dt_txt': '2023-10-01 15:00:00'}, {'dt': 1696183200, 'main': {'temp': 281.47, 'feels_like': 280.58, 'temp_min': 281.47, 'temp_max': 281.47, 'pressure': 1013, 'sea_level': 1013, 'grnd_level': 996, 'humidity': 88, 'temp_kf': 0}, 'weather': [{'id': 801, 'main': 'Clouds', 'description': 'few clouds', 'icon': '02n'}], 'clouds': {'all': 22}, 'wind': {'speed': 1.79, 'deg': 155, 'gust': 2.62}, 'visibility': 10000, 'pop': 0, 'sys': {'pod': 'n'}, 'dt_txt': '2023-10-01 18:00:00'}, {'dt': 1696194000, 'main': {'temp': 280.77, 'feels_like': 280.77, 'temp_min': 280.77, 'temp_max': 280.77, 'pressure': 1012, 'sea_level': 1012, 'grnd_level': 995, 'humidity': 91, 'temp_kf': 0}, 'weather': [{'id': 801, 'main': 'Clouds', 'description': 'few clouds', 'icon': '02n'}], 'clouds': {'all': 13}, 'wind': {'speed': 0.64, 'deg': 161, 'gust': 0.95}, 'visibility': 10000, 'pop': 0, 'sys': {'pod': 'n'}, 'dt_txt': '2023-10-01 21:00:00'}, {'dt': 1696204800, 'main': {'temp': 280.47, 'feels_like': 280.47, 'temp_min': 280.47, 'temp_max': 280.47, 'pressure': 1012, 'sea_level': 1012, 'grnd_level': 995, 'humidity': 93, 'temp_kf': 0}, 'weather': [{'id': 802, 'main': 'Clouds', 'description': 'scattered clouds', 'icon': '03n'}], 'clouds': {'all': 47}, 'wind': {'speed': 0.55, 'deg': 358, 'gust': 0.62}, 'visibility': 10000, 'pop': 0, 'sys': {'pod': 'n'}, 'dt_txt': '2023-10-02 00:00:00'}, {'dt': 1696215600, 'main': {'temp': 279.93, 'feels_like': 279.93, 'temp_min': 279.93, 'temp_max': 279.93, 'pressure': 1011, 'sea_level': 1011, 'grnd_level': 994, 'humidity': 91, 'temp_kf': 0}, 'weather': [{'id': 804, 'main': 'Clouds', 'description': 'overcast clouds', 'icon': '04n'}], 'clouds': {'all': 100}, 'wind': {'speed': 0.64, 'deg': 308, 'gust': 0.66}, 'visibility': 10000, 'pop': 0, 'sys': {'pod': 'n'}, 'dt_txt': '2023-10-02 03:00:00'}, {'dt': 1696226400, 'main': {'temp': 279.59, 'feels_like': 279.59, 'temp_min': 279.59, 'temp_max': 279.59, 'pressure': 1012, 'sea_level': 1012, 'grnd_level': 995, 'humidity': 88, 'temp_kf': 0}, 'weather': [{'id': 803, 'main': 'Clouds', 'description': 'broken clouds', 'icon': '04d'}], 'clouds': {'all': 78}, 'wind': {'speed': 0.57, 'deg': 293, 'gust': 0.58}, 'visibility': 10000, 'pop': 0, 'sys': {'pod': 'd'}, 'dt_txt': '2023-10-02 06:00:00'}, {'dt': 1696237200, 'main': {'temp': 284.56, 'feels_like': 283.48, 'temp_min': 284.56, 'temp_max': 284.56, 'pressure': 1013, 'sea_level': 1013, 'grnd_level': 996, 'humidity': 66, 'temp_kf': 0}, 'weather': [{'id': 803, 'main': 'Clouds', 'description': 'broken clouds', 'icon': '04d'}], 'clouds': {'all': 80}, 'wind': {'speed': 0.32, 'deg': 262, 'gust': 0.77}, 'visibility': 10000, 'pop': 0, 'sys': {'pod': 'd'}, 'dt_txt': '2023-10-02 09:00:00'}, {'dt': 1696248000, 'main': {'temp': 287.82, 'feels_like': 286.8, 'temp_min': 287.82, 'temp_max': 287.82, 'pressure': 1012, 'sea_level': 1012, 'grnd_level': 996, 'humidity': 56, 'temp_kf': 0}, 'weather': [{'id': 804, 'main': 'Clouds', 'description': 'overcast clouds', 'icon': '04d'}], 'clouds': {'all': 90}, 'wind': {'speed': 1.12, 'deg': 219, 'gust': 1.89}, 'visibility': 10000, 'pop': 0, 'sys': {'pod': 'd'}, 'dt_txt': '2023-10-02 12:00:00'}, {'dt': 1696258800, 'main': {'temp': 286.49, 'feels_like': 285.68, 'temp_min': 286.49, 'temp_max': 286.49, 'pressure': 1011, 'sea_level': 1011, 'grnd_level': 995, 'humidity': 69, 'temp_kf': 0}, 'weather': [{'id': 804, 'main': 'Clouds', 'description': 'overcast clouds', 'icon': '04d'}], 'clouds': {'all': 99}, 'wind': {'speed': 1.5, 'deg': 179, 'gust': 2.88}, 'visibility': 10000, 'pop': 0, 'sys': {'pod': 'd'}, 'dt_txt': '2023-10-02 15:00:00'}, {'dt': 1696269600, 'main': {'temp': 282.86, 'feels_like': 282.43, 'temp_min': 282.86, 'temp_max': 282.86, 'pressure': 1011, 'sea_level': 1011, 'grnd_level': 994, 'humidity': 86, 'temp_kf': 0}, 'weather': [{'id': 804, 'main': 'Clouds', 'description': 'overcast clouds', 'icon': '04n'}], 'clouds': {'all': 100}, 'wind': {'speed': 1.54, 'deg': 148, 'gust': 1.92}, 'visibility': 10000, 'pop': 0, 'sys': {'pod': 'n'}, 'dt_txt': '2023-10-02 18:00:00'}, {'dt': 1696280400, 'main': {'temp': 283.03, 'feels_like': 282.7, 'temp_min': 283.03, 'temp_max': 283.03, 'pressure': 1009, 'sea_level': 1009, 'grnd_level': 992, 'humidity': 94, 'temp_kf': 0}, 'weather': [{'id': 804, 'main': 'Clouds', 'description': 'overcast clouds', 'icon': '04n'}], 'clouds': {'all': 100}, 'wind': {'speed': 1.46, 'deg': 146, 'gust': 3.56}, 'visibility': 10000, 'pop': 0.02, 'sys': {'pod': 'n'}, 'dt_txt': '2023-10-02 21:00:00'}, {'dt': 1696291200, 'main': {'temp': 283.25, 'feels_like': 282.87, 'temp_min': 283.25, 'temp_max': 283.25, 'pressure': 1007, 'sea_level': 1007, 'grnd_level': 990, 'humidity': 98, 'temp_kf': 0}, 'weather': [{'id': 804, 'main': 'Clouds', 'description': 'overcast clouds', 'icon': '04n'}], 'clouds': {'all': 100}, 'wind': {'speed': 1.45, 'deg': 169, 'gust': 4.01}, 'visibility': 10000, 'pop': 0.01, 'sys': {'pod': 'n'}, 'dt_txt': '2023-10-03 00:00:00'}, {'dt': 1696302000, 'main': {'temp': 282.85, 'feels_like': 282.85, 'temp_min': 282.85, 'temp_max': 282.85, 'pressure': 1005, 'sea_level': 1005, 'grnd_level': 988, 'humidity': 97, 'temp_kf': 0}, 'weather': [{'id': 804, 'main': 'Clouds', 'description': 'overcast clouds', 'icon': '04n'}], 'clouds': {'all': 100}, 'wind': {'speed': 1.03, 'deg': 226, 'gust': 2.38}, 'visibility': 10000, 'pop': 0, 'sys': {'pod': 'n'}, 'dt_txt': '2023-10-03 03:00:00'}, {'dt': 1696312800, 'main': {'temp': 281.94, 'feels_like': 281.94, 'temp_min': 281.94, 'temp_max': 281.94, 'pressure': 1003, 'sea_level': 1003, 'grnd_level': 986, 'humidity': 95, 'temp_kf': 0}, 'weather': [{'id': 804, 'main': 'Clouds', 'description': 'overcast clouds', 'icon': '04d'}], 'clouds': {'all': 100}, 'wind': {'speed': 0.48, 'deg': 288, 'gust': 1.09}, 'visibility': 10000, 'pop': 0, 'sys': {'pod': 'd'}, 'dt_txt': '2023-10-03 06:00:00'}], 'city': {'id': 3139081, 'name': 'Ski', 'coord': {'lat': 59.7195, 'lon': 10.8358}, 'country': 'NO', 'population': 12513, 'timezone': 7200, 'sunrise': 1695878026, 'sunset': 1695920465}}\n"
     ]
    }
   ],
   "source": [
    "responseF = requests.get(urlF).json()\n",
    "print(responseF)"
   ]
  },
  {
   "cell_type": "code",
   "execution_count": 21,
   "metadata": {
    "slideshow": {
     "slide_type": "slide"
    }
   },
   "outputs": [],
   "source": [
    "# Write JSON to file for viewing\n",
    "with open('downloads/forecast.json', 'w') as f:\n",
    "    json.dump(responseF, f, indent=4)"
   ]
  },
  {
   "cell_type": "markdown",
   "metadata": {
    "slideshow": {
     "slide_type": "slide"
    }
   },
   "source": [
    "### When and what?\n",
    "Check contents and time stamps"
   ]
  },
  {
   "cell_type": "code",
   "execution_count": 22,
   "metadata": {
    "slideshow": {
     "slide_type": "-"
    }
   },
   "outputs": [
    {
     "data": {
      "text/plain": [
       "dict_keys(['cod', 'message', 'cnt', 'list', 'city'])"
      ]
     },
     "execution_count": 22,
     "metadata": {},
     "output_type": "execute_result"
    }
   ],
   "source": [
    "# Content of responseF\n",
    "responseF.keys()"
   ]
  },
  {
   "cell_type": "code",
   "execution_count": 23,
   "metadata": {
    "slideshow": {
     "slide_type": "fragment"
    }
   },
   "outputs": [
    {
     "name": "stdout",
     "output_type": "stream",
     "text": [
      "40\n"
     ]
    }
   ],
   "source": [
    "# Number of forecasts\n",
    "print(len(responseF[\"list\"]))"
   ]
  },
  {
   "cell_type": "code",
   "execution_count": 24,
   "metadata": {
    "scrolled": true,
    "slideshow": {
     "slide_type": "slide"
    }
   },
   "outputs": [
    {
     "name": "stdout",
     "output_type": "stream",
     "text": [
      "2023-09-28 09:00:00\n",
      "2023-09-28 12:00:00\n",
      "2023-09-28 15:00:00\n",
      "2023-09-28 18:00:00\n",
      "2023-09-28 21:00:00\n",
      "2023-09-29 00:00:00\n",
      "2023-09-29 03:00:00\n",
      "2023-09-29 06:00:00\n",
      "2023-09-29 09:00:00\n",
      "2023-09-29 12:00:00\n",
      "2023-09-29 15:00:00\n",
      "2023-09-29 18:00:00\n",
      "2023-09-29 21:00:00\n",
      "2023-09-30 00:00:00\n",
      "2023-09-30 03:00:00\n",
      "2023-09-30 06:00:00\n",
      "2023-09-30 09:00:00\n",
      "2023-09-30 12:00:00\n",
      "2023-09-30 15:00:00\n",
      "2023-09-30 18:00:00\n",
      "2023-09-30 21:00:00\n",
      "2023-10-01 00:00:00\n",
      "2023-10-01 03:00:00\n",
      "2023-10-01 06:00:00\n",
      "2023-10-01 09:00:00\n",
      "2023-10-01 12:00:00\n",
      "2023-10-01 15:00:00\n",
      "2023-10-01 18:00:00\n",
      "2023-10-01 21:00:00\n",
      "2023-10-02 00:00:00\n",
      "2023-10-02 03:00:00\n",
      "2023-10-02 06:00:00\n",
      "2023-10-02 09:00:00\n",
      "2023-10-02 12:00:00\n",
      "2023-10-02 15:00:00\n",
      "2023-10-02 18:00:00\n",
      "2023-10-02 21:00:00\n",
      "2023-10-03 00:00:00\n",
      "2023-10-03 03:00:00\n",
      "2023-10-03 06:00:00\n"
     ]
    }
   ],
   "source": [
    "# Print forecast times\n",
    "for forecast in responseF[\"list\"]:\n",
    "    print(forecast[\"dt_txt\"])"
   ]
  },
  {
   "cell_type": "markdown",
   "metadata": {
    "slideshow": {
     "slide_type": "slide"
    }
   },
   "source": [
    "## Make plots of omnipresent measurements and events\n",
    "We will later look at missing data, data only sporadically appearing and so on."
   ]
  },
  {
   "cell_type": "code",
   "execution_count": 25,
   "metadata": {
    "slideshow": {
     "slide_type": "-"
    }
   },
   "outputs": [],
   "source": [
    "# Air pressure per period\n",
    "pressures = []\n",
    "timestamps = []\n",
    "for forecast in responseF[\"list\"]:\n",
    "    pressures.append(forecast[\"main\"][\"pressure\"])\n",
    "    timestamps.append(dt.datetime.fromtimestamp(forecast[\"dt\"]))"
   ]
  },
  {
   "cell_type": "code",
   "execution_count": 26,
   "metadata": {
    "slideshow": {
     "slide_type": "slide"
    }
   },
   "outputs": [
    {
     "data": {
      "image/png": "[encoded data removed]",
      "text/plain": [
       "<Figure size 640x480 with 1 Axes>"
      ]
     },
     "metadata": {},
     "output_type": "display_data"
    }
   ],
   "source": [
    "import matplotlib.pyplot as plt\n",
    "plt.bar(timestamps, pressures)\n",
    "plt.xticks(rotation=45)\n",
    "plt.ylim(950, 1050)\n",
    "plt.grid()\n",
    "plt.ylabel(\"Air pressure (hPa)\")\n",
    "plt.title(f\"Forecasted air pressure in {CITY}\")\n",
    "plt.show()"
   ]
  },
  {
   "cell_type": "markdown",
   "metadata": {
    "slideshow": {
     "slide_type": "slide"
    }
   },
   "source": [
    "## Exercise\n",
    "- Make a new forecast request for your own hometown. Call your response something else than responseF.\n",
    "- If available, plot the humidity like we did with air pressure."
   ]
  },
  {
   "cell_type": "markdown",
   "metadata": {
    "slideshow": {
     "slide_type": "slide"
    }
   },
   "source": [
    "### Precipitation\n",
    "- ... comes in two main flavours: rain and snow.\n",
    "- We need to check which is present and set to zero if it is abscent."
   ]
  },
  {
   "cell_type": "code",
   "execution_count": null,
   "metadata": {
    "slideshow": {
     "slide_type": "-"
    }
   },
   "outputs": [],
   "source": [
    "rain = []\n",
    "snow = []\n",
    "for forecast in responseF[\"list\"]:\n",
    "    try: # Check if rain is present in forecast\n",
    "        rain.append(forecast[\"rain\"][\"3h\"])\n",
    "    except KeyError:\n",
    "        rain.append(0)\n",
    "    try: # Check if snow is present in forecast\n",
    "        snow.append(forecast[\"snow\"][\"3h\"])\n",
    "    except KeyError:\n",
    "        snow.append(0)"
   ]
  },
  {
   "cell_type": "code",
   "execution_count": null,
   "metadata": {
    "slideshow": {
     "slide_type": "slide"
    }
   },
   "outputs": [],
   "source": [
    "# Stacked bar chart with rain and snow\n",
    "plt.bar(timestamps, rain, label=\"Rain\")\n",
    "plt.bar(timestamps, snow, label=\"Snow\")\n",
    "plt.xticks(rotation=45)\n",
    "plt.grid()\n",
    "plt.ylabel(\"Precipitation (mm)\")\n",
    "plt.title(f\"Forecasted precipitation in {CITY}\")\n",
    "plt.legend()\n",
    "plt.show()\n"
   ]
  },
  {
   "cell_type": "markdown",
   "metadata": {},
   "source": [
    "## Resources\n",
    "- [NeuralNine's video](https://www.youtube.com/watch?v=9P5MY_2i7K8)"
   ]
  }
 ],
 "metadata": {
  "celltoolbar": "Slideshow",
  "kernelspec": {
   "display_name": "Python 3 (ipykernel)",
   "language": "python",
   "name": "python3"
  },
  "language_info": {
   "codemirror_mode": {
    "name": "ipython",
    "version": 3
   },
   "file_extension": ".py",
   "mimetype": "text/x-python",
   "name": "python",
   "nbconvert_exporter": "python",
   "pygments_lexer": "ipython3",
   "version": "3.10.6"
  }
 },
 "nbformat": 4,
 "nbformat_minor": 2
}
