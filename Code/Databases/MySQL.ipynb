{
 "cells": [
  {
   "cell_type": "code",
   "execution_count": 20,
   "metadata": {},
   "outputs": [],
   "source": [
    "# Make a connection object 'conn' for the MySQL database 'u492297623_student1' on port 3306 at server 145.14.151.151 with username 'u492297623_stud1'\n",
    "# and password 'Student1'.\n",
    "import mysql.connector\n",
    "\n",
    "# Establishing a connection to the MySQL database\n",
    "connection = mysql.connector.connect(\n",
    "    host='145.14.151.151',\n",
    "    port=3306,\n",
    "    user='u492297623_stud1',\n",
    "    password='Student1',\n",
    "    database='u492297623_student1'\n",
    ")\n",
    "\n",
    "# Creating a cursor object to execute SQL queries\n",
    "cursor = connection.cursor()"
   ]
  },
  {
   "cell_type": "code",
   "execution_count": 28,
   "metadata": {},
   "outputs": [
    {
     "name": "stdout",
     "output_type": "stream",
     "text": [
      "(1, 'John', 'Industrial Economics')\n",
      "(2, 'Sandra', 'Building Physics')\n",
      "(3, 'Anita', 'Paramedic')\n",
      "(4, 'Anita', 'Paramedic')\n",
      "(5, 'Anita', 'Paramedic')\n"
     ]
    }
   ],
   "source": [
    "# Executing the SQL query to select all data from the 'students' table\n",
    "query = \"SELECT * FROM students;\"\n",
    "cursor.execute(query)\n",
    "\n",
    "# Fetching all the rows from the result set\n",
    "result = cursor.fetchall()\n",
    "\n",
    "# Printing the retrieved data\n",
    "for row in result:\n",
    "    print(row)"
   ]
  },
  {
   "cell_type": "code",
   "execution_count": null,
   "metadata": {},
   "outputs": [],
   "source": [
    "# Insert a new row into the first_test table with the values 3, 'Pete', 'Data Science'\n",
    "query = \"INSERT INTO students VALUES (3, 'Pete', 'Data Science');\"\n",
    "cursor.execute(query)"
   ]
  },
  {
   "cell_type": "code",
   "execution_count": 27,
   "metadata": {},
   "outputs": [],
   "source": [
    "# Increment the main_key and insert new data\n",
    "query = \"INSERT INTO students SELECT COALESCE(MAX(main_key) + 1, 1), 'Anita', 'Paramedic' FROM students;\"\n",
    "cursor.execute(query)"
   ]
  },
  {
   "cell_type": "code",
   "execution_count": null,
   "metadata": {},
   "outputs": [],
   "source": [
    "# Closing the cursor and the database connection\n",
    "cursor.close()\n",
    "connection.close()"
   ]
  },
  {
   "cell_type": "markdown",
   "metadata": {},
   "source": [
    "### Exercise\n",
    "Make a Python function that takes an SQL statement as input, opens a connection, executes the statement and closes the connection."
   ]
  }
 ],
 "metadata": {
  "kernelspec": {
   "display_name": "Python 3",
   "language": "python",
   "name": "python3"
  },
  "language_info": {
   "codemirror_mode": {
    "name": "ipython",
    "version": 3
   },
   "file_extension": ".py",
   "mimetype": "text/x-python",
   "name": "python",
   "nbconvert_exporter": "python",
   "pygments_lexer": "ipython3",
   "version": "3.10.6"
  },
  "orig_nbformat": 4
 },
 "nbformat": 4,
 "nbformat_minor": 2
}
