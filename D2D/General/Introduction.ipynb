{
 "cells": [
  {
   "cell_type": "markdown",
   "metadata": {},
   "source": [
    "<img src=\"../images/D2D_large.png\" width=\"500px\">  \n",
    "  \n",
    "  \n",
    "\n",
    "# IND320 - Data to decision\n",
    "The contents of this [Jupyter Book](https://jupyterbook.org/en/stable/intro.html) is the basis for the course \"Data to decision\" codenamed [IND320](https://gammel.nmbu.no/course/IND320) given at the Norwegian University of Life Sciences for the first time in the autumn of 2023.\n",
    "\n",
    "## Status\n",
    "This book is under construction and will be filled and updated during the autumn semester of 2023.  \n",
    "<img src=\"../images/Under_construction.png\" width=\"100px\">"
   ]
  },
  {
   "cell_type": "markdown",
   "metadata": {},
   "source": [
    "## Audience\n",
    "- The main audience will be those who follow DAT320 as regular students.\n",
    "- Oters are free to use the book.\n",
    "\n",
    "## Contents\n",
    "The structure and organisation of this book means it can be used in several ways:\n",
    "- A compiled static book with text, graphics and Python examples.\n",
    "- A collection of interactive Jupyter Notebooks.\n",
    "- A collection of presentations (through support for the [RISE extension](https://rise.readthedocs.io/en/stable/))."
   ]
  },
  {
   "cell_type": "markdown",
   "metadata": {},
   "source": [
    "## Nice to know\n",
    "Code in the book sometimes refer to the folder \"No_sync\" which is on the same folder level as D2D (the book). This folder is excluded from the GitHub sync due to containing API keys and passwords. If you want to run examples referring to the folder, please create one on your computer and fill with appropriate keys and passwords for your own licenses."
   ]
  }
 ],
 "metadata": {
  "language_info": {
   "name": "python"
  },
  "orig_nbformat": 4
 },
 "nbformat": 4,
 "nbformat_minor": 2
}
