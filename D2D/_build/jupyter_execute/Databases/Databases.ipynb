{
 "cells": [
  {
   "cell_type": "markdown",
   "metadata": {},
   "source": [
    "# Databases\n",
    "This chapter will give a brief introduction to databases on a level sufficient for usage in the course. As many databases use SQL (Structured Query Language / \"sequel\") or a variation of this, we will also show SQL examples."
   ]
  },
  {
   "cell_type": "markdown",
   "metadata": {},
   "source": [
    "## Main categories\n",
    "- Relational databases/SQL, e.g., MySQL, Microsoft SQL, Oracle DB\n",
    "- NoSQL, e.g., Cassandra, Spark\n",
    "- Graph databases\n",
    "  \n",
    "This list is non-exhaustive both with regard to categories and examples."
   ]
  },
  {
   "cell_type": "markdown",
   "metadata": {},
   "source": [
    "### Relational databases\n",
    "- Tables with fixed attributes\n",
    "    - Each column has a name and a storage type.\n",
    "    - One column is defined as a key, only accepting unique values.\n",
    "- Tables are connected (relations) in one of three ways:\n",
    "    - __One-to-many__, one-to-one, and many-to-many\n",
    "  \n",
    "<img src=\"./SQL_relation.png\" alt=\"SQL\" style=\"width: 500px;\"/>"
   ]
  }
 ],
 "metadata": {
  "language_info": {
   "codemirror_mode": {
    "name": "ipython",
    "version": 3
   },
   "file_extension": ".py",
   "mimetype": "text/x-python",
   "name": "python",
   "nbconvert_exporter": "python",
   "pygments_lexer": "ipython3",
   "version": "3.10.6"
  }
 },
 "nbformat": 4,
 "nbformat_minor": 2
}