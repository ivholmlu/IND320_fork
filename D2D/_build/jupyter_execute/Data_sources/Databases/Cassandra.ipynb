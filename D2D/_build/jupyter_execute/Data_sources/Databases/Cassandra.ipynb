{
 "cells": [
  {
   "attachments": {},
   "cell_type": "markdown",
   "metadata": {},
   "source": [
    "# Cassandra\n",
    "Assumptions:\n",
    "- Docker installed on system\n",
    "- \"cassandra:latest\" image installed in docker\n",
    "- Python/Conda environment with python 3.8 (or newer*)  \n",
    "  \n",
    "*As of 9 August 2023, the officially built cassandra-driver package was at version 3.25 and did not work well with Python 3.10 on Mac.  \n",
    "To install a newer version from the terminal you can:  \n",
    "```\n",
    "pip install git+https://github.com/datastax/python-driver.git\n",
    "pip install cql\n",
    "```\n",
    "  \n",
    "Or use older Python:  \n",
    "```\n",
    "conda create --name cassy38 python=3.8 jupyter scikit-learn\n",
    "conda activate cassy38  \n",
    "pip install cassandra-driver cql\n",
    "```"
   ]
  },
  {
   "attachments": {},
   "cell_type": "markdown",
   "metadata": {},
   "source": [
    "## Spinning up a local cassandra instance in a terminal\n",
    "```docker run --name my_cassandra cassandra:latest -p 9042:9042```  \n",
    "  \n",
    "If this works for you, hourra! Otherwise, try the following:  \n",
    "- Open Docker Desktop\n",
    "- Run the cassandra image with optional settings, opening 9042 port (left-hand side)."
   ]
  },
  {
   "cell_type": "code",
   "execution_count": 1,
   "metadata": {},
   "outputs": [],
   "source": [
    "# Connecting to Cassandra\n",
    "from cassandra.cluster import Cluster\n",
    "cluster = Cluster(['localhost'], port=9042)\n",
    "session = cluster.connect()"
   ]
  },
  {
   "cell_type": "code",
   "execution_count": 2,
   "metadata": {},
   "outputs": [
    {
     "data": {
      "text/plain": [
       "<cassandra.cluster.ResultSet at 0x11b4f60e0>"
      ]
     },
     "execution_count": 2,
     "metadata": {},
     "output_type": "execute_result"
    }
   ],
   "source": [
    "# Set up new keyspace (first time only)\n",
    "#                                              name of keyspace                        replication strategy           replication factor\n",
    "session.execute(\"CREATE KEYSPACE IF NOT EXISTS my_first_keyspace WITH REPLICATION = { 'class' : 'SimpleStrategy', 'replication_factor' : 1 };\")"
   ]
  },
  {
   "cell_type": "code",
   "execution_count": 3,
   "metadata": {},
   "outputs": [
    {
     "data": {
      "text/plain": [
       "<cassandra.cluster.ResultSet at 0x11b4ee470>"
      ]
     },
     "execution_count": 3,
     "metadata": {},
     "output_type": "execute_result"
    }
   ],
   "source": [
    "# Create a new table (first time only)\n",
    "session.set_keyspace('my_first_keyspace')\n",
    "session.execute(\"CREATE TABLE IF NOT EXISTS my_first_table (ind int PRIMARY KEY, company text, model text);\")"
   ]
  },
  {
   "cell_type": "code",
   "execution_count": 4,
   "metadata": {},
   "outputs": [
    {
     "data": {
      "text/plain": [
       "<cassandra.cluster.ResultSet at 0x11b4e8070>"
      ]
     },
     "execution_count": 4,
     "metadata": {},
     "output_type": "execute_result"
    }
   ],
   "source": [
    "# Insert some data (ind is the primary key, must be unique)\n",
    "session.execute(\"INSERT INTO my_first_table (ind, company, model) VALUES (1, 'Tesla', 'Model S');\")\n",
    "session.execute(\"INSERT INTO my_first_table (ind, company, model) VALUES (2, 'Tesla', 'Model 3');\")\n",
    "session.execute(\"INSERT INTO my_first_table (ind, company, model) VALUES (3, 'Polestar', '3');\")"
   ]
  },
  {
   "cell_type": "code",
   "execution_count": 5,
   "metadata": {},
   "outputs": [
    {
     "name": "stdout",
     "output_type": "stream",
     "text": [
      "Row(ind=1, company='Tesla', model='Model S')\n",
      "Row(ind=2, company='Tesla', model='Model 3')\n",
      "Row(ind=3, company='Polestar', model='3')\n"
     ]
    }
   ],
   "source": [
    "# Query the data\n",
    "rows = session.execute(\"SELECT * FROM my_first_table;\")\n",
    "for i in rows:\n",
    "    print(i)"
   ]
  },
  {
   "cell_type": "code",
   "execution_count": 6,
   "metadata": {
    "tags": [
     "raises-exception"
    ]
   },
   "outputs": [
    {
     "ename": "InvalidRequest",
     "evalue": "Error from server: code=2200 [Invalid query] message=\"Cannot execute this query as it might involve data filtering and thus may have unpredictable performance. If you want to execute this query despite the performance unpredictability, use ALLOW FILTERING\"",
     "output_type": "error",
     "traceback": [
      "\u001b[0;31m---------------------------------------------------------------------------\u001b[0m",
      "\u001b[0;31mInvalidRequest\u001b[0m                            Traceback (most recent call last)",
      "Cell \u001b[0;32mIn [6], line 2\u001b[0m\n\u001b[1;32m      1\u001b[0m \u001b[38;5;66;03m# More specific query\u001b[39;00m\n\u001b[0;32m----> 2\u001b[0m prepared_statement \u001b[38;5;241m=\u001b[39m \u001b[43msession\u001b[49m\u001b[38;5;241;43m.\u001b[39;49m\u001b[43mprepare\u001b[49m\u001b[43m(\u001b[49m\u001b[38;5;124;43m\"\u001b[39;49m\u001b[38;5;124;43mSELECT * FROM my_first_table WHERE company=?;\u001b[39;49m\u001b[38;5;124;43m\"\u001b[39;49m\u001b[43m)\u001b[49m \u001b[38;5;66;03m# <- will fail as company is not a key\u001b[39;00m\n\u001b[1;32m      3\u001b[0m teslas \u001b[38;5;241m=\u001b[39m session\u001b[38;5;241m.\u001b[39mexecute(prepared_statement, [\u001b[38;5;124m'\u001b[39m\u001b[38;5;124mTesla\u001b[39m\u001b[38;5;124m'\u001b[39m])\n\u001b[1;32m      4\u001b[0m \u001b[38;5;28;01mfor\u001b[39;00m i \u001b[38;5;129;01min\u001b[39;00m teslas:\n",
      "File \u001b[0;32m~/miniforge3/envs/tf_M1/lib/python3.10/site-packages/cassandra/cluster.py:3088\u001b[0m, in \u001b[0;36mSession.prepare\u001b[0;34m(self, query, custom_payload, keyspace)\u001b[0m\n\u001b[1;32m   3086\u001b[0m \u001b[38;5;28;01mtry\u001b[39;00m:\n\u001b[1;32m   3087\u001b[0m     future\u001b[38;5;241m.\u001b[39msend_request()\n\u001b[0;32m-> 3088\u001b[0m     response \u001b[38;5;241m=\u001b[39m \u001b[43mfuture\u001b[49m\u001b[38;5;241;43m.\u001b[39;49m\u001b[43mresult\u001b[49m\u001b[43m(\u001b[49m\u001b[43m)\u001b[49m\u001b[38;5;241m.\u001b[39mone()\n\u001b[1;32m   3089\u001b[0m \u001b[38;5;28;01mexcept\u001b[39;00m \u001b[38;5;167;01mException\u001b[39;00m:\n\u001b[1;32m   3090\u001b[0m     log\u001b[38;5;241m.\u001b[39mexception(\u001b[38;5;124m\"\u001b[39m\u001b[38;5;124mError preparing query:\u001b[39m\u001b[38;5;124m\"\u001b[39m)\n",
      "File \u001b[0;32m~/miniforge3/envs/tf_M1/lib/python3.10/site-packages/cassandra/cluster.py:4920\u001b[0m, in \u001b[0;36mResponseFuture.result\u001b[0;34m(self)\u001b[0m\n\u001b[1;32m   4918\u001b[0m     \u001b[38;5;28;01mreturn\u001b[39;00m ResultSet(\u001b[38;5;28mself\u001b[39m, \u001b[38;5;28mself\u001b[39m\u001b[38;5;241m.\u001b[39m_final_result)\n\u001b[1;32m   4919\u001b[0m \u001b[38;5;28;01melse\u001b[39;00m:\n\u001b[0;32m-> 4920\u001b[0m     \u001b[38;5;28;01mraise\u001b[39;00m \u001b[38;5;28mself\u001b[39m\u001b[38;5;241m.\u001b[39m_final_exception\n",
      "\u001b[0;31mInvalidRequest\u001b[0m: Error from server: code=2200 [Invalid query] message=\"Cannot execute this query as it might involve data filtering and thus may have unpredictable performance. If you want to execute this query despite the performance unpredictability, use ALLOW FILTERING\""
     ]
    }
   ],
   "source": [
    "# More specific query\n",
    "prepared_statement = session.prepare(\"SELECT * FROM my_first_table WHERE company=?;\") # <- will fail as company is not a key\n",
    "teslas = session.execute(prepared_statement, ['Tesla'])\n",
    "for i in teslas:\n",
    "    print(i)"
   ]
  },
  {
   "attachments": {},
   "cell_type": "markdown",
   "metadata": {},
   "source": [
    "## Cassandra filtering\n",
    "Cassandra is inherently a distributed production database. Selecting as above may require downloading all data from a node, then filtering based on the WHERE part (only PRIMARY KEYs are centrally known). Solutions:  \n",
    "- If the table is small or most of the data will satisfy the query, add ```ALLOW FILTERING``` at the end of the query (not recommended if not known). \n",
    "- Or make sure the WHERE clause points to one of the keys (see below)."
   ]
  },
  {
   "cell_type": "code",
   "execution_count": 7,
   "metadata": {},
   "outputs": [
    {
     "data": {
      "text/plain": [
       "<cassandra.cluster.ResultSet at 0x11b4f5900>"
      ]
     },
     "execution_count": 7,
     "metadata": {},
     "output_type": "execute_result"
    }
   ],
   "source": [
    "# Create a new table (observe keys)\n",
    "session.execute(\"CREATE TABLE IF NOT EXISTS car_table (company text, model text, PRIMARY KEY(company, model));\")"
   ]
  },
  {
   "cell_type": "code",
   "execution_count": 8,
   "metadata": {},
   "outputs": [
    {
     "data": {
      "text/plain": [
       "<cassandra.cluster.ResultSet at 0x11f978310>"
      ]
     },
     "execution_count": 8,
     "metadata": {},
     "output_type": "execute_result"
    }
   ],
   "source": [
    "# Insert some data (combination of company and model must be unique)\n",
    "session.execute(\"INSERT INTO car_table (company, model) VALUES ('Tesla', 'Model S');\")\n",
    "session.execute(\"INSERT INTO car_table (company, model) VALUES ('Tesla', 'Model 3');\")\n",
    "session.execute(\"INSERT INTO car_table (company, model) VALUES ('Polestar', '3');\")"
   ]
  },
  {
   "cell_type": "code",
   "execution_count": 9,
   "metadata": {},
   "outputs": [
    {
     "name": "stdout",
     "output_type": "stream",
     "text": [
      "Row(company='Tesla', model='Model 3')\n",
      "Row(company='Tesla', model='Model S')\n"
     ]
    }
   ],
   "source": [
    "# More specific query now works\n",
    "prepared_statement = session.prepare(\"SELECT * FROM car_table WHERE company=?;\")\n",
    "teslas = session.execute(prepared_statement, ['Tesla'])\n",
    "for i in teslas:\n",
    "    print(i)"
   ]
  },
  {
   "attachments": {},
   "cell_type": "markdown",
   "metadata": {},
   "source": [
    "## JSON in Cassandra\n"
   ]
  },
  {
   "cell_type": "code",
   "execution_count": 10,
   "metadata": {},
   "outputs": [],
   "source": [
    "# Imports\n",
    "import datetime as dt\n",
    "import requests\n",
    "import json"
   ]
  },
  {
   "attachments": {},
   "cell_type": "markdown",
   "metadata": {},
   "source": [
    "### Read previously saved JSON file forecast.json to memory"
   ]
  },
  {
   "cell_type": "code",
   "execution_count": 11,
   "metadata": {},
   "outputs": [],
   "source": [
    "with open('../APIs/downloads/forecast.json', 'r') as f:\n",
    "    forecast = json.load(f)"
   ]
  },
  {
   "cell_type": "code",
   "execution_count": 12,
   "metadata": {},
   "outputs": [
    {
     "data": {
      "text/plain": [
       "\"{'cod': '200', 'message': 0, 'cnt': 40, 'list': [{'dt': 1691766000, 'main': {'temp': 291.78, 'feels_like': 291.37, 'temp_min': 291.63, 'temp_max': 291.78, 'pressure': 1015, 'sea_level': 1015, 'grnd_level': 999, 'humidity': 64, 'temp_kf': 0.15}, 'weather': [{'id': 803, 'main': 'Clouds', 'description': 'broken clouds', 'icon': '04d'}], 'clouds': {'all': 57}, 'wind': {'speed': 4.19, 'deg': 194, 'gust': 4.9}, 'visibility': 10000, 'pop': 0.01, 'sys': {'pod': 'd'}, 'dt_txt': '2023-08-11 15:00:00'}, {'dt': 1691776800, 'main': {'temp': 289.42, 'feels_like': 289.06, 'temp_min': 288.21, 'temp_max': 289.42, 'pressure': 1015, 'sea_level': 1015, 'grnd_level': 998, 'humidity': 75, 'temp_kf': 1.21}, 'weather': [{'id': 802, 'main': 'Clouds', 'description': 'scattered clouds', 'icon': '03d'}], 'clouds': {'all': 36}, 'wind': {'speed': 3.7, 'deg': 184, 'gust': 8.37}, 'visibility': 10000, 'pop': 0, 'sys': {'pod': 'd'}, 'dt_txt': '2023-08-11 18:00:00'}, {'dt': 1691787600, 'main': {'temp': 285.01, 'feels_like': 284.76, 'temp_min': 285.01, 'temp_max': 285.01, 'pressure': 1015, 'sea_level': 1015, 'grnd_level': 998, 'humidity': 96, 'temp_kf': 0}, 'weather': [{'id': 802, 'main': 'Clouds', 'description': 'scattered clouds', 'icon': '03n'}], 'clouds': {'all': 37}, 'wind': {'speed': 2.23, 'deg': 164, 'gust': 8.04}, 'visibility': 10000, 'pop': 0, 'sys': {'pod': 'n'}, 'dt_txt': '2023-08-11 21:00:00'}, {'dt': 1691798400, 'main': {'temp': 286.84, 'feels_like': 286.8, 'temp_min': 286.84, 'temp_max': 286.84, 'pressure': 1014, 'sea_level': 1014, 'grnd_level': 998, 'humidity': 97, 'temp_kf': 0}, 'weather': [{'id': 500, 'main': 'Rain', 'description': 'light rain', 'icon': '10n'}], 'clouds': {'all': 66}, 'wind': {'speed': 2.9, 'deg': 167, 'gust': 9.15}, 'visibility': 10000, 'pop': 0.2, 'rain': {'3h': 0.23}, 'sys': {'pod': 'n'}, 'dt_txt': '2023-08-12 00:00:00'}, {'dt': 1691809200, 'main': {'temp': 287.3, 'feels_like': 287.33, 'temp_min': 287.3, 'temp_max': 287.3, 'pressure': 1013, 'sea_level': 1013, 'grnd_level': 996, 'humidity': 98, 'temp_kf': 0}, 'weather': [{'id': 804, 'main': 'Clouds', 'description': 'overcast clouds', 'icon': '04n'}], 'clouds': {'all': 100}, 'wind': {'speed': 1.93, 'deg': 142, 'gust': 7.53}, 'visibility': 1323, 'pop': 0, 'sys': {'pod': 'n'}, 'dt_txt': '2023-08-12 03:00:00'}, {'dt': 1691820000, 'main': {'temp': 288.7, 'feels_like': 288.87, 'temp_min': 288.7, 'temp_max': 288.7, 'pressure': 1012, 'sea_level': 1012, 'grnd_level': 996, 'humidity': 98, 'temp_kf': 0}, 'weather': [{'id': 500, 'main': 'Rain', 'description': 'light rain', 'icon': '10d'}], 'clouds': {'all': 100}, 'wind': {'speed': 2.53, 'deg': 168, 'gust': 7.48}, 'visibility': 1191, 'pop': 0.31, 'rain': {'3h': 0.13}, 'sys': {'pod': 'd'}, 'dt_txt': '2023-08-12 06:00:00'}, {'dt': 1691830800, 'main': {'temp': 290.7, 'feels_like': 290.76, 'temp_min': 290.7, 'temp_max': 290.7, 'pressure': 1012, 'sea_level': 1012, 'grnd_level': 996, 'humidity': 86, 'temp_kf': 0}, 'weather': [{'id': 500, 'main': 'Rain', 'description': 'light rain', 'icon': '10d'}], 'clouds': {'all': 94}, 'wind': {'speed': 3.66, 'deg': 189, 'gust': 6.69}, 'visibility': 10000, 'pop': 0.54, 'rain': {'3h': 0.43}, 'sys': {'pod': 'd'}, 'dt_txt': '2023-08-12 09:00:00'}, {'dt': 1691841600, 'main': {'temp': 293.43, 'feels_like': 293.05, 'temp_min': 293.43, 'temp_max': 293.43, 'pressure': 1012, 'sea_level': 1012, 'grnd_level': 996, 'humidity': 59, 'temp_kf': 0}, 'weather': [{'id': 500, 'main': 'Rain', 'description': 'light rain', 'icon': '10d'}], 'clouds': {'all': 87}, 'wind': {'speed': 4.4, 'deg': 184, 'gust': 5.7}, 'visibility': 10000, 'pop': 0.29, 'rain': {'3h': 0.11}, 'sys': {'pod': 'd'}, 'dt_txt': '2023-08-12 12:00:00'}, {'dt': 1691852400, 'main': {'temp': 292.32, 'feels_like': 291.94, 'temp_min': 292.32, 'temp_max': 292.32, 'pressure': 1012, 'sea_level': 1012, 'grnd_level': 996, 'humidity': 63, 'temp_kf': 0}, 'weather': [{'id': 804, 'main': 'Clouds', 'description': 'overcast clouds', 'icon': '04d'}], 'clouds': {'all': 100}, 'wind': {'speed': 3.95, 'deg': 183, 'gust': 6.78}, 'visibility': 10000, 'pop': 0, 'sys': {'pod': 'd'}, 'dt_txt': '2023-08-12 15:00:00'}, {'dt': 1691863200, 'main': {'temp': 288.98, 'feels_like': 288.73, 'temp_min': 288.98, 'temp_max': 288.98, 'pressure': 1012, 'sea_level': 1012, 'grnd_level': 995, 'humidity': 81, 'temp_kf': 0}, 'weather': [{'id': 804, 'main': 'Clouds', 'description': 'overcast clouds', 'icon': '04d'}], 'clouds': {'all': 100}, 'wind': {'speed': 1.54, 'deg': 159, 'gust': 3.37}, 'visibility': 10000, 'pop': 0, 'sys': {'pod': 'd'}, 'dt_txt': '2023-08-12 18:00:00'}, {'dt': 1691874000, 'main': {'temp': 287.45, 'feels_like': 287.18, 'temp_min': 287.45, 'temp_max': 287.45, 'pressure': 1011, 'sea_level': 1011, 'grnd_level': 995, 'humidity': 86, 'temp_kf': 0}, 'weather': [{'id': 804, 'main': 'Clouds', 'description': 'overcast clouds', 'icon': '04n'}], 'clouds': {'all': 100}, 'wind': {'speed': 1.34, 'deg': 131, 'gust': 1.64}, 'visibility': 10000, 'pop': 0.11, 'sys': {'pod': 'n'}, 'dt_txt': '2023-08-12 21:00:00'}, {'dt': 1691884800, 'main': {'temp': 286.25, 'feels_like': 285.99, 'temp_min': 286.25, 'temp_max': 286.25, 'pressure': 1010, 'sea_level': 1010, 'grnd_level': 994, 'humidity': 91, 'temp_kf': 0}, 'weather': [{'id': 500, 'main': 'Rain', 'description': 'light rain', 'icon': '10n'}], 'clouds': {'all': 100}, 'wind': {'speed': 0.89, 'deg': 25, 'gust': 0.89}, 'visibility': 10000, 'pop': 0.33, 'rain': {'3h': 0.15}, 'sys': {'pod': 'n'}, 'dt_txt': '2023-08-13 00:00:00'}, {'dt': 1691895600, 'main': {'temp': 285.43, 'feels_like': 285.17, 'temp_min': 285.43, 'temp_max': 285.43, 'pressure': 1009, 'sea_level': 1009, 'grnd_level': 993, 'humidity': 94, 'temp_kf': 0}, 'weather': [{'id': 804, 'main': 'Clouds', 'description': 'overcast clouds', 'icon': '04n'}], 'clouds': {'all': 90}, 'wind': {'speed': 0.83, 'deg': 73, 'gust': 0.79}, 'visibility': 10000, 'pop': 0.15, 'sys': {'pod': 'n'}, 'dt_txt': '2023-08-13 03:00:00'}, {'dt': 1691906400, 'main': {'temp': 287.63, 'feels_like': 287.51, 'temp_min': 287.63, 'temp_max': 287.63, 'pressure': 1009, 'sea_level': 1009, 'grnd_level': 993, 'humidity': 91, 'temp_kf': 0}, 'weather': [{'id': 500, 'main': 'Rain', 'description': 'light rain', 'icon': '10d'}], 'clouds': {'all': 76}, 'wind': {'speed': 0.79, 'deg': 121, 'gust': 1.91}, 'visibility': 10000, 'pop': 0.25, 'rain': {'3h': 0.23}, 'sys': {'pod': 'd'}, 'dt_txt': '2023-08-13 06:00:00'}, {'dt': 1691917200, 'main': {'temp': 289.1, 'feels_like': 289.1, 'temp_min': 289.1, 'temp_max': 289.1, 'pressure': 1010, 'sea_level': 1010, 'grnd_level': 993, 'humidity': 90, 'temp_kf': 0}, 'weather': [{'id': 500, 'main': 'Rain', 'description': 'light rain', 'icon': '10d'}], 'clouds': {'all': 99}, 'wind': {'speed': 0.96, 'deg': 181, 'gust': 2.15}, 'visibility': 10000, 'pop': 0.46, 'rain': {'3h': 0.3}, 'sys': {'pod': 'd'}, 'dt_txt': '2023-08-13 09:00:00'}, {'dt': 1691928000, 'main': {'temp': 293.18, 'feels_like': 292.91, 'temp_min': 293.18, 'temp_max': 293.18, 'pressure': 1009, 'sea_level': 1009, 'grnd_level': 993, 'humidity': 64, 'temp_kf': 0}, 'weather': [{'id': 500, 'main': 'Rain', 'description': 'light rain', 'icon': '10d'}], 'clouds': {'all': 81}, 'wind': {'speed': 4.53, 'deg': 199, 'gust': 5.98}, 'visibility': 10000, 'pop': 0.59, 'rain': {'3h': 0.42}, 'sys': {'pod': 'd'}, 'dt_txt': '2023-08-13 12:00:00'}, {'dt': 1691938800, 'main': {'temp': 292.19, 'feels_like': 291.95, 'temp_min': 292.19, 'temp_max': 292.19, 'pressure': 1009, 'sea_level': 1009, 'grnd_level': 993, 'humidity': 69, 'temp_kf': 0}, 'weather': [{'id': 500, 'main': 'Rain', 'description': 'light rain', 'icon': '10d'}], 'clouds': {'all': 43}, 'wind': {'speed': 5.58, 'deg': 190, 'gust': 8.61}, 'visibility': 10000, 'pop': 0.53, 'rain': {'3h': 0.29}, 'sys': {'pod': 'd'}, 'dt_txt': '2023-08-13 15:00:00'}, {'dt': 1691949600, 'main': {'temp': 289.32, 'feels_like': 289.26, 'temp_min': 289.32, 'temp_max': 289.32, 'pressure': 1009, 'sea_level': 1009, 'grnd_level': 993, 'humidity': 87, 'temp_kf': 0}, 'weather': [{'id': 500, 'main': 'Rain', 'description': 'light rain', 'icon': '10d'}], 'clouds': {'all': 39}, 'wind': {'speed': 4.63, 'deg': 184, 'gust': 10.5}, 'visibility': 10000, 'pop': 0.45, 'rain': {'3h': 0.14}, 'sys': {'pod': 'd'}, 'dt_txt': '2023-08-13 18:00:00'}, {'dt': 1691960400, 'main': {'temp': 287.76, 'feels_like': 287.7, 'temp_min': 287.76, 'temp_max': 287.76, 'pressure': 1010, 'sea_level': 1010, 'grnd_level': 993, 'humidity': 93, 'temp_kf': 0}, 'weather': [{'id': 803, 'main': 'Clouds', 'description': 'broken clouds', 'icon': '04n'}], 'clouds': {'all': 69}, 'wind': {'speed': 4.43, 'deg': 187, 'gust': 10.36}, 'visibility': 10000, 'pop': 0, 'sys': {'pod': 'n'}, 'dt_txt': '2023-08-13 21:00:00'}, {'dt': 1691971200, 'main': {'temp': 287.34, 'feels_like': 287.24, 'temp_min': 287.34, 'temp_max': 287.34, 'pressure': 1009, 'sea_level': 1009, 'grnd_level': 993, 'humidity': 93, 'temp_kf': 0}, 'weather': [{'id': 803, 'main': 'Clouds', 'description': 'broken clouds', 'icon': '04n'}], 'clouds': {'all': 83}, 'wind': {'speed': 4.52, 'deg': 186, 'gust': 11.11}, 'visibility': 10000, 'pop': 0, 'sys': {'pod': 'n'}, 'dt_txt': '2023-08-14 00:00:00'}, {'dt': 1691982000, 'main': {'temp': 286.78, 'feels_like': 286.6, 'temp_min': 286.78, 'temp_max': 286.78, 'pressure': 1010, 'sea_level': 1010, 'grnd_level': 993, 'humidity': 92, 'temp_kf': 0}, 'weather': [{'id': 804, 'main': 'Clouds', 'description': 'overcast clouds', 'icon': '04n'}], 'clouds': {'all': 99}, 'wind': {'speed': 4.28, 'deg': 190, 'gust': 11.15}, 'visibility': 10000, 'pop': 0.02, 'sys': {'pod': 'n'}, 'dt_txt': '2023-08-14 03:00:00'}, {'dt': 1691992800, 'main': {'temp': 288.51, 'feels_like': 288.27, 'temp_min': 288.51, 'temp_max': 288.51, 'pressure': 1011, 'sea_level': 1011, 'grnd_level': 994, 'humidity': 83, 'temp_kf': 0}, 'weather': [{'id': 803, 'main': 'Clouds', 'description': 'broken clouds', 'icon': '04d'}], 'clouds': {'all': 75}, 'wind': {'speed': 4.12, 'deg': 191, 'gust': 9.84}, 'visibility': 10000, 'pop': 0.1, 'sys': {'pod': 'd'}, 'dt_txt': '2023-08-14 06:00:00'}, {'dt': 1692003600, 'main': {'temp': 291.51, 'feels_like': 290.99, 'temp_min': 291.51, 'temp_max': 291.51, 'pressure': 1011, 'sea_level': 1011, 'grnd_level': 995, 'humidity': 61, 'temp_kf': 0}, 'weather': [{'id': 803, 'main': 'Clouds', 'description': 'broken clouds', 'icon': '04d'}], 'clouds': {'all': 66}, 'wind': {'speed': 5.33, 'deg': 199, 'gust': 8.1}, 'visibility': 10000, 'pop': 0.06, 'sys': {'pod': 'd'}, 'dt_txt': '2023-08-14 09:00:00'}, {'dt': 1692014400, 'main': {'temp': 292.76, 'feels_like': 292.32, 'temp_min': 292.76, 'temp_max': 292.76, 'pressure': 1012, 'sea_level': 1012, 'grnd_level': 996, 'humidity': 59, 'temp_kf': 0}, 'weather': [{'id': 803, 'main': 'Clouds', 'description': 'broken clouds', 'icon': '04d'}], 'clouds': {'all': 83}, 'wind': {'speed': 5.79, 'deg': 194, 'gust': 8.1}, 'visibility': 10000, 'pop': 0.04, 'sys': {'pod': 'd'}, 'dt_txt': '2023-08-14 12:00:00'}, {'dt': 1692025200, 'main': {'temp': 291.4, 'feels_like': 291.13, 'temp_min': 291.4, 'temp_max': 291.4, 'pressure': 1013, 'sea_level': 1013, 'grnd_level': 996, 'humidity': 71, 'temp_kf': 0}, 'weather': [{'id': 500, 'main': 'Rain', 'description': 'light rain', 'icon': '10d'}], 'clouds': {'all': 100}, 'wind': {'speed': 5.49, 'deg': 196, 'gust': 9.37}, 'visibility': 10000, 'pop': 0.44, 'rain': {'3h': 0.47}, 'sys': {'pod': 'd'}, 'dt_txt': '2023-08-14 15:00:00'}, {'dt': 1692036000, 'main': {'temp': 289.07, 'feels_like': 288.83, 'temp_min': 289.07, 'temp_max': 289.07, 'pressure': 1013, 'sea_level': 1013, 'grnd_level': 997, 'humidity': 81, 'temp_kf': 0}, 'weather': [{'id': 804, 'main': 'Clouds', 'description': 'overcast clouds', 'icon': '04d'}], 'clouds': {'all': 100}, 'wind': {'speed': 4.62, 'deg': 187, 'gust': 10.09}, 'visibility': 10000, 'pop': 0.44, 'sys': {'pod': 'd'}, 'dt_txt': '2023-08-14 18:00:00'}, {'dt': 1692046800, 'main': {'temp': 286.85, 'feels_like': 286.7, 'temp_min': 286.85, 'temp_max': 286.85, 'pressure': 1014, 'sea_level': 1014, 'grnd_level': 997, 'humidity': 93, 'temp_kf': 0}, 'weather': [{'id': 802, 'main': 'Clouds', 'description': 'scattered clouds', 'icon': '03n'}], 'clouds': {'all': 31}, 'wind': {'speed': 3.44, 'deg': 177, 'gust': 10.3}, 'visibility': 10000, 'pop': 0.14, 'sys': {'pod': 'n'}, 'dt_txt': '2023-08-14 21:00:00'}, {'dt': 1692057600, 'main': {'temp': 286.68, 'feels_like': 286.6, 'temp_min': 286.68, 'temp_max': 286.68, 'pressure': 1014, 'sea_level': 1014, 'grnd_level': 997, 'humidity': 96, 'temp_kf': 0}, 'weather': [{'id': 801, 'main': 'Clouds', 'description': 'few clouds', 'icon': '02n'}], 'clouds': {'all': 23}, 'wind': {'speed': 3.9, 'deg': 186, 'gust': 10.08}, 'visibility': 10000, 'pop': 0.09, 'sys': {'pod': 'n'}, 'dt_txt': '2023-08-15 00:00:00'}, {'dt': 1692068400, 'main': {'temp': 286.15, 'feels_like': 285.99, 'temp_min': 286.15, 'temp_max': 286.15, 'pressure': 1015, 'sea_level': 1015, 'grnd_level': 998, 'humidity': 95, 'temp_kf': 0}, 'weather': [{'id': 802, 'main': 'Clouds', 'description': 'scattered clouds', 'icon': '03n'}], 'clouds': {'all': 39}, 'wind': {'speed': 3.41, 'deg': 193, 'gust': 9.45}, 'visibility': 10000, 'pop': 0, 'sys': {'pod': 'n'}, 'dt_txt': '2023-08-15 03:00:00'}, {'dt': 1692079200, 'main': {'temp': 287.87, 'feels_like': 287.56, 'temp_min': 287.87, 'temp_max': 287.87, 'pressure': 1015, 'sea_level': 1015, 'grnd_level': 999, 'humidity': 83, 'temp_kf': 0}, 'weather': [{'id': 802, 'main': 'Clouds', 'description': 'scattered clouds', 'icon': '03d'}], 'clouds': {'all': 32}, 'wind': {'speed': 3.03, 'deg': 208, 'gust': 7.21}, 'visibility': 10000, 'pop': 0, 'sys': {'pod': 'd'}, 'dt_txt': '2023-08-15 06:00:00'}, {'dt': 1692090000, 'main': {'temp': 291.3, 'feels_like': 290.82, 'temp_min': 291.3, 'temp_max': 291.3, 'pressure': 1016, 'sea_level': 1016, 'grnd_level': 1000, 'humidity': 63, 'temp_kf': 0}, 'weather': [{'id': 804, 'main': 'Clouds', 'description': 'overcast clouds', 'icon': '04d'}], 'clouds': {'all': 85}, 'wind': {'speed': 3.01, 'deg': 206, 'gust': 4.43}, 'visibility': 10000, 'pop': 0, 'sys': {'pod': 'd'}, 'dt_txt': '2023-08-15 09:00:00'}, {'dt': 1692100800, 'main': {'temp': 293.57, 'feels_like': 293.16, 'temp_min': 293.57, 'temp_max': 293.57, 'pressure': 1016, 'sea_level': 1016, 'grnd_level': 1000, 'humidity': 57, 'temp_kf': 0}, 'weather': [{'id': 803, 'main': 'Clouds', 'description': 'broken clouds', 'icon': '04d'}], 'clouds': {'all': 73}, 'wind': {'speed': 3.55, 'deg': 189, 'gust': 4.34}, 'visibility': 10000, 'pop': 0, 'sys': {'pod': 'd'}, 'dt_txt': '2023-08-15 12:00:00'}, {'dt': 1692111600, 'main': {'temp': 291.6, 'feels_like': 291.33, 'temp_min': 291.6, 'temp_max': 291.6, 'pressure': 1017, 'sea_level': 1017, 'grnd_level': 1000, 'humidity': 70, 'temp_kf': 0}, 'weather': [{'id': 804, 'main': 'Clouds', 'description': 'overcast clouds', 'icon': '04d'}], 'clouds': {'all': 100}, 'wind': {'speed': 3.43, 'deg': 191, 'gust': 4.76}, 'visibility': 10000, 'pop': 0.25, 'sys': {'pod': 'd'}, 'dt_txt': '2023-08-15 15:00:00'}, {'dt': 1692122400, 'main': {'temp': 288.13, 'feels_like': 288.22, 'temp_min': 288.13, 'temp_max': 288.13, 'pressure': 1017, 'sea_level': 1017, 'grnd_level': 1001, 'humidity': 97, 'temp_kf': 0}, 'weather': [{'id': 500, 'main': 'Rain', 'description': 'light rain', 'icon': '10d'}], 'clouds': {'all': 100}, 'wind': {'speed': 1.75, 'deg': 160, 'gust': 4.55}, 'visibility': 10000, 'pop': 0.6, 'rain': {'3h': 0.55}, 'sys': {'pod': 'd'}, 'dt_txt': '2023-08-15 18:00:00'}, {'dt': 1692133200, 'main': {'temp': 287.44, 'feels_like': 287.48, 'temp_min': 287.44, 'temp_max': 287.44, 'pressure': 1018, 'sea_level': 1018, 'grnd_level': 1001, 'humidity': 98, 'temp_kf': 0}, 'weather': [{'id': 500, 'main': 'Rain', 'description': 'light rain', 'icon': '10n'}], 'clouds': {'all': 100}, 'wind': {'speed': 1.21, 'deg': 28, 'gust': 1.7}, 'visibility': 10000, 'pop': 0.86, 'rain': {'3h': 2.11}, 'sys': {'pod': 'n'}, 'dt_txt': '2023-08-15 21:00:00'}, {'dt': 1692144000, 'main': {'temp': 287.44, 'feels_like': 287.46, 'temp_min': 287.44, 'temp_max': 287.44, 'pressure': 1017, 'sea_level': 1017, 'grnd_level': 1000, 'humidity': 97, 'temp_kf': 0}, 'weather': [{'id': 500, 'main': 'Rain', 'description': 'light rain', 'icon': '10n'}], 'clouds': {'all': 100}, 'wind': {'speed': 2.07, 'deg': 42, 'gust': 6.36}, 'visibility': 10000, 'pop': 0.94, 'rain': {'3h': 1.05}, 'sys': {'pod': 'n'}, 'dt_txt': '2023-08-16 00:00:00'}, {'dt': 1692154800, 'main': {'temp': 287.38, 'feels_like': 287.42, 'temp_min': 287.38, 'temp_max': 287.38, 'pressure': 1017, 'sea_level': 1017, 'grnd_level': 1000, 'humidity': 98, 'temp_kf': 0}, 'weather': [{'id': 501, 'main': 'Rain', 'description': 'moderate rain', 'icon': '10n'}], 'clouds': {'all': 100}, 'wind': {'speed': 2.45, 'deg': 34, 'gust': 6.73}, 'visibility': 10000, 'pop': 1, 'rain': {'3h': 11.2}, 'sys': {'pod': 'n'}, 'dt_txt': '2023-08-16 03:00:00'}, {'dt': 1692165600, 'main': {'temp': 287.68, 'feels_like': 287.7, 'temp_min': 287.68, 'temp_max': 287.68, 'pressure': 1017, 'sea_level': 1017, 'grnd_level': 1000, 'humidity': 96, 'temp_kf': 0}, 'weather': [{'id': 500, 'main': 'Rain', 'description': 'light rain', 'icon': '10d'}], 'clouds': {'all': 100}, 'wind': {'speed': 2.31, 'deg': 22, 'gust': 5.8}, 'visibility': 10000, 'pop': 1, 'rain': {'3h': 0.29}, 'sys': {'pod': 'd'}, 'dt_txt': '2023-08-16 06:00:00'}, {'dt': 1692176400, 'main': {'temp': 289.1, 'feels_like': 289.13, 'temp_min': 289.1, 'temp_max': 289.1, 'pressure': 1018, 'sea_level': 1018, 'grnd_level': 1001, 'humidity': 91, 'temp_kf': 0}, 'weather': [{'id': 804, 'main': 'Clouds', 'description': 'overcast clouds', 'icon': '04d'}], 'clouds': {'all': 100}, 'wind': {'speed': 2.11, 'deg': 34, 'gust': 3.72}, 'visibility': 10000, 'pop': 0.07, 'sys': {'pod': 'd'}, 'dt_txt': '2023-08-16 09:00:00'}, {'dt': 1692187200, 'main': {'temp': 290.44, 'feels_like': 290.47, 'temp_min': 290.44, 'temp_max': 290.44, 'pressure': 1018, 'sea_level': 1018, 'grnd_level': 1001, 'humidity': 86, 'temp_kf': 0}, 'weather': [{'id': 500, 'main': 'Rain', 'description': 'light rain', 'icon': '10d'}], 'clouds': {'all': 100}, 'wind': {'speed': 1.96, 'deg': 17, 'gust': 2.7}, 'visibility': 10000, 'pop': 0.25, 'rain': {'3h': 0.17}, 'sys': {'pod': 'd'}, 'dt_txt': '2023-08-16 12:00:00'}], 'city': {'id': 3139081, 'name': 'Ski', 'coord': {'lat': 59.7195, 'lon': 10.8358}, 'country': 'NO', 'population': 12513, 'timezone': 7200, 'sunrise': 1691724111, 'sunset': 1691781729}}\""
      ]
     },
     "execution_count": 12,
     "metadata": {},
     "output_type": "execute_result"
    }
   ],
   "source": [
    "# Inspect JSON file\n",
    "forecast.__str__()"
   ]
  },
  {
   "attachments": {},
   "cell_type": "markdown",
   "metadata": {},
   "source": [
    "## Raw JSON\n",
    "A simple, but not very efficient way of storing JSON data is to treat it as a text and save it directly to the database.  \n",
    "More efficient, with regard to transfer, is to compress the JSON data to a blob first."
   ]
  },
  {
   "cell_type": "code",
   "execution_count": 13,
   "metadata": {},
   "outputs": [
    {
     "data": {
      "text/plain": [
       "<cassandra.cluster.ResultSet at 0x11b4e8d30>"
      ]
     },
     "execution_count": 13,
     "metadata": {},
     "output_type": "execute_result"
    }
   ],
   "source": [
    "session.execute(\"DROP TABLE IF EXISTS my_first_keyspace.forecast_table;\")"
   ]
  },
  {
   "attachments": {},
   "cell_type": "markdown",
   "metadata": {},
   "source": [
    "### Create a new table which treats the whole JSON as a blob, using the city id and the first dt as keys"
   ]
  },
  {
   "cell_type": "code",
   "execution_count": 14,
   "metadata": {},
   "outputs": [
    {
     "data": {
      "text/plain": [
       "<cassandra.cluster.ResultSet at 0x11b4e9060>"
      ]
     },
     "execution_count": 14,
     "metadata": {},
     "output_type": "execute_result"
    }
   ],
   "source": [
    "session.set_keyspace('my_first_keyspace')\n",
    "session.execute(\"CREATE TABLE IF NOT EXISTS forecast_table (city_id int, dt int, forecast blob, PRIMARY KEY(city_id, dt));\")"
   ]
  },
  {
   "attachments": {},
   "cell_type": "markdown",
   "metadata": {},
   "source": [
    "### Insert the forecast data into the table as text"
   ]
  },
  {
   "cell_type": "code",
   "execution_count": 15,
   "metadata": {},
   "outputs": [
    {
     "data": {
      "text/plain": [
       "<cassandra.cluster.ResultSet at 0x11f978fd0>"
      ]
     },
     "execution_count": 15,
     "metadata": {},
     "output_type": "execute_result"
    }
   ],
   "source": [
    "session.execute(\"INSERT INTO forecast_table (city_id, dt, forecast) VALUES (%s, %s, textAsBlob(%s));\", (forecast['city']['id'], forecast['list'][0]['dt'], forecast.__str__()))"
   ]
  },
  {
   "cell_type": "code",
   "execution_count": 16,
   "metadata": {},
   "outputs": [
    {
     "name": "stdout",
     "output_type": "stream",
     "text": [
      "Row(city_id=3139081, dt=1691766000, forecast=b\"{'cod': '200', 'message': 0, 'cnt': 40, 'list': [{'dt': 1691766000, 'main': {'temp': 291.78, 'feels_like': 291.37, 'temp_min': 291.63, 'temp_max': 291.78, 'pressure': 1015, 'sea_level': 1015, 'grnd_level': 999, 'humidity': 64, 'temp_kf': 0.15}, 'weather': [{'id': 803, 'main': 'Clouds', 'description': 'broken clouds', 'icon': '04d'}], 'clouds': {'all': 57}, 'wind': {'speed': 4.19, 'deg': 194, 'gust': 4.9}, 'visibility': 10000, 'pop': 0.01, 'sys': {'pod': 'd'}, 'dt_txt': '2023-08-11 15:00:00'}, {'dt': 1691776800, 'main': {'temp': 289.42, 'feels_like': 289.06, 'temp_min': 288.21, 'temp_max': 289.42, 'pressure': 1015, 'sea_level': 1015, 'grnd_level': 998, 'humidity': 75, 'temp_kf': 1.21}, 'weather': [{'id': 802, 'main': 'Clouds', 'description': 'scattered clouds', 'icon': '03d'}], 'clouds': {'all': 36}, 'wind': {'speed': 3.7, 'deg': 184, 'gust': 8.37}, 'visibility': 10000, 'pop': 0, 'sys': {'pod': 'd'}, 'dt_txt': '2023-08-11 18:00:00'}, {'dt': 1691787600, 'main': {'temp': 285.01, 'feels_like': 284.76, 'temp_min': 285.01, 'temp_max': 285.01, 'pressure': 1015, 'sea_level': 1015, 'grnd_level': 998, 'humidity': 96, 'temp_kf': 0}, 'weather': [{'id': 802, 'main': 'Clouds', 'description': 'scattered clouds', 'icon': '03n'}], 'clouds': {'all': 37}, 'wind': {'speed': 2.23, 'deg': 164, 'gust': 8.04}, 'visibility': 10000, 'pop': 0, 'sys': {'pod': 'n'}, 'dt_txt': '2023-08-11 21:00:00'}, {'dt': 1691798400, 'main': {'temp': 286.84, 'feels_like': 286.8, 'temp_min': 286.84, 'temp_max': 286.84, 'pressure': 1014, 'sea_level': 1014, 'grnd_level': 998, 'humidity': 97, 'temp_kf': 0}, 'weather': [{'id': 500, 'main': 'Rain', 'description': 'light rain', 'icon': '10n'}], 'clouds': {'all': 66}, 'wind': {'speed': 2.9, 'deg': 167, 'gust': 9.15}, 'visibility': 10000, 'pop': 0.2, 'rain': {'3h': 0.23}, 'sys': {'pod': 'n'}, 'dt_txt': '2023-08-12 00:00:00'}, {'dt': 1691809200, 'main': {'temp': 287.3, 'feels_like': 287.33, 'temp_min': 287.3, 'temp_max': 287.3, 'pressure': 1013, 'sea_level': 1013, 'grnd_level': 996, 'humidity': 98, 'temp_kf': 0}, 'weather': [{'id': 804, 'main': 'Clouds', 'description': 'overcast clouds', 'icon': '04n'}], 'clouds': {'all': 100}, 'wind': {'speed': 1.93, 'deg': 142, 'gust': 7.53}, 'visibility': 1323, 'pop': 0, 'sys': {'pod': 'n'}, 'dt_txt': '2023-08-12 03:00:00'}, {'dt': 1691820000, 'main': {'temp': 288.7, 'feels_like': 288.87, 'temp_min': 288.7, 'temp_max': 288.7, 'pressure': 1012, 'sea_level': 1012, 'grnd_level': 996, 'humidity': 98, 'temp_kf': 0}, 'weather': [{'id': 500, 'main': 'Rain', 'description': 'light rain', 'icon': '10d'}], 'clouds': {'all': 100}, 'wind': {'speed': 2.53, 'deg': 168, 'gust': 7.48}, 'visibility': 1191, 'pop': 0.31, 'rain': {'3h': 0.13}, 'sys': {'pod': 'd'}, 'dt_txt': '2023-08-12 06:00:00'}, {'dt': 1691830800, 'main': {'temp': 290.7, 'feels_like': 290.76, 'temp_min': 290.7, 'temp_max': 290.7, 'pressure': 1012, 'sea_level': 1012, 'grnd_level': 996, 'humidity': 86, 'temp_kf': 0}, 'weather': [{'id': 500, 'main': 'Rain', 'description': 'light rain', 'icon': '10d'}], 'clouds': {'all': 94}, 'wind': {'speed': 3.66, 'deg': 189, 'gust': 6.69}, 'visibility': 10000, 'pop': 0.54, 'rain': {'3h': 0.43}, 'sys': {'pod': 'd'}, 'dt_txt': '2023-08-12 09:00:00'}, {'dt': 1691841600, 'main': {'temp': 293.43, 'feels_like': 293.05, 'temp_min': 293.43, 'temp_max': 293.43, 'pressure': 1012, 'sea_level': 1012, 'grnd_level': 996, 'humidity': 59, 'temp_kf': 0}, 'weather': [{'id': 500, 'main': 'Rain', 'description': 'light rain', 'icon': '10d'}], 'clouds': {'all': 87}, 'wind': {'speed': 4.4, 'deg': 184, 'gust': 5.7}, 'visibility': 10000, 'pop': 0.29, 'rain': {'3h': 0.11}, 'sys': {'pod': 'd'}, 'dt_txt': '2023-08-12 12:00:00'}, {'dt': 1691852400, 'main': {'temp': 292.32, 'feels_like': 291.94, 'temp_min': 292.32, 'temp_max': 292.32, 'pressure': 1012, 'sea_level': 1012, 'grnd_level': 996, 'humidity': 63, 'temp_kf': 0}, 'weather': [{'id': 804, 'main': 'Clouds', 'description': 'overcast clouds', 'icon': '04d'}], 'clouds': {'all': 100}, 'wind': {'speed': 3.95, 'deg': 183, 'gust': 6.78}, 'visibility': 10000, 'pop': 0, 'sys': {'pod': 'd'}, 'dt_txt': '2023-08-12 15:00:00'}, {'dt': 1691863200, 'main': {'temp': 288.98, 'feels_like': 288.73, 'temp_min': 288.98, 'temp_max': 288.98, 'pressure': 1012, 'sea_level': 1012, 'grnd_level': 995, 'humidity': 81, 'temp_kf': 0}, 'weather': [{'id': 804, 'main': 'Clouds', 'description': 'overcast clouds', 'icon': '04d'}], 'clouds': {'all': 100}, 'wind': {'speed': 1.54, 'deg': 159, 'gust': 3.37}, 'visibility': 10000, 'pop': 0, 'sys': {'pod': 'd'}, 'dt_txt': '2023-08-12 18:00:00'}, {'dt': 1691874000, 'main': {'temp': 287.45, 'feels_like': 287.18, 'temp_min': 287.45, 'temp_max': 287.45, 'pressure': 1011, 'sea_level': 1011, 'grnd_level': 995, 'humidity': 86, 'temp_kf': 0}, 'weather': [{'id': 804, 'main': 'Clouds', 'description': 'overcast clouds', 'icon': '04n'}], 'clouds': {'all': 100}, 'wind': {'speed': 1.34, 'deg': 131, 'gust': 1.64}, 'visibility': 10000, 'pop': 0.11, 'sys': {'pod': 'n'}, 'dt_txt': '2023-08-12 21:00:00'}, {'dt': 1691884800, 'main': {'temp': 286.25, 'feels_like': 285.99, 'temp_min': 286.25, 'temp_max': 286.25, 'pressure': 1010, 'sea_level': 1010, 'grnd_level': 994, 'humidity': 91, 'temp_kf': 0}, 'weather': [{'id': 500, 'main': 'Rain', 'description': 'light rain', 'icon': '10n'}], 'clouds': {'all': 100}, 'wind': {'speed': 0.89, 'deg': 25, 'gust': 0.89}, 'visibility': 10000, 'pop': 0.33, 'rain': {'3h': 0.15}, 'sys': {'pod': 'n'}, 'dt_txt': '2023-08-13 00:00:00'}, {'dt': 1691895600, 'main': {'temp': 285.43, 'feels_like': 285.17, 'temp_min': 285.43, 'temp_max': 285.43, 'pressure': 1009, 'sea_level': 1009, 'grnd_level': 993, 'humidity': 94, 'temp_kf': 0}, 'weather': [{'id': 804, 'main': 'Clouds', 'description': 'overcast clouds', 'icon': '04n'}], 'clouds': {'all': 90}, 'wind': {'speed': 0.83, 'deg': 73, 'gust': 0.79}, 'visibility': 10000, 'pop': 0.15, 'sys': {'pod': 'n'}, 'dt_txt': '2023-08-13 03:00:00'}, {'dt': 1691906400, 'main': {'temp': 287.63, 'feels_like': 287.51, 'temp_min': 287.63, 'temp_max': 287.63, 'pressure': 1009, 'sea_level': 1009, 'grnd_level': 993, 'humidity': 91, 'temp_kf': 0}, 'weather': [{'id': 500, 'main': 'Rain', 'description': 'light rain', 'icon': '10d'}], 'clouds': {'all': 76}, 'wind': {'speed': 0.79, 'deg': 121, 'gust': 1.91}, 'visibility': 10000, 'pop': 0.25, 'rain': {'3h': 0.23}, 'sys': {'pod': 'd'}, 'dt_txt': '2023-08-13 06:00:00'}, {'dt': 1691917200, 'main': {'temp': 289.1, 'feels_like': 289.1, 'temp_min': 289.1, 'temp_max': 289.1, 'pressure': 1010, 'sea_level': 1010, 'grnd_level': 993, 'humidity': 90, 'temp_kf': 0}, 'weather': [{'id': 500, 'main': 'Rain', 'description': 'light rain', 'icon': '10d'}], 'clouds': {'all': 99}, 'wind': {'speed': 0.96, 'deg': 181, 'gust': 2.15}, 'visibility': 10000, 'pop': 0.46, 'rain': {'3h': 0.3}, 'sys': {'pod': 'd'}, 'dt_txt': '2023-08-13 09:00:00'}, {'dt': 1691928000, 'main': {'temp': 293.18, 'feels_like': 292.91, 'temp_min': 293.18, 'temp_max': 293.18, 'pressure': 1009, 'sea_level': 1009, 'grnd_level': 993, 'humidity': 64, 'temp_kf': 0}, 'weather': [{'id': 500, 'main': 'Rain', 'description': 'light rain', 'icon': '10d'}], 'clouds': {'all': 81}, 'wind': {'speed': 4.53, 'deg': 199, 'gust': 5.98}, 'visibility': 10000, 'pop': 0.59, 'rain': {'3h': 0.42}, 'sys': {'pod': 'd'}, 'dt_txt': '2023-08-13 12:00:00'}, {'dt': 1691938800, 'main': {'temp': 292.19, 'feels_like': 291.95, 'temp_min': 292.19, 'temp_max': 292.19, 'pressure': 1009, 'sea_level': 1009, 'grnd_level': 993, 'humidity': 69, 'temp_kf': 0}, 'weather': [{'id': 500, 'main': 'Rain', 'description': 'light rain', 'icon': '10d'}], 'clouds': {'all': 43}, 'wind': {'speed': 5.58, 'deg': 190, 'gust': 8.61}, 'visibility': 10000, 'pop': 0.53, 'rain': {'3h': 0.29}, 'sys': {'pod': 'd'}, 'dt_txt': '2023-08-13 15:00:00'}, {'dt': 1691949600, 'main': {'temp': 289.32, 'feels_like': 289.26, 'temp_min': 289.32, 'temp_max': 289.32, 'pressure': 1009, 'sea_level': 1009, 'grnd_level': 993, 'humidity': 87, 'temp_kf': 0}, 'weather': [{'id': 500, 'main': 'Rain', 'description': 'light rain', 'icon': '10d'}], 'clouds': {'all': 39}, 'wind': {'speed': 4.63, 'deg': 184, 'gust': 10.5}, 'visibility': 10000, 'pop': 0.45, 'rain': {'3h': 0.14}, 'sys': {'pod': 'd'}, 'dt_txt': '2023-08-13 18:00:00'}, {'dt': 1691960400, 'main': {'temp': 287.76, 'feels_like': 287.7, 'temp_min': 287.76, 'temp_max': 287.76, 'pressure': 1010, 'sea_level': 1010, 'grnd_level': 993, 'humidity': 93, 'temp_kf': 0}, 'weather': [{'id': 803, 'main': 'Clouds', 'description': 'broken clouds', 'icon': '04n'}], 'clouds': {'all': 69}, 'wind': {'speed': 4.43, 'deg': 187, 'gust': 10.36}, 'visibility': 10000, 'pop': 0, 'sys': {'pod': 'n'}, 'dt_txt': '2023-08-13 21:00:00'}, {'dt': 1691971200, 'main': {'temp': 287.34, 'feels_like': 287.24, 'temp_min': 287.34, 'temp_max': 287.34, 'pressure': 1009, 'sea_level': 1009, 'grnd_level': 993, 'humidity': 93, 'temp_kf': 0}, 'weather': [{'id': 803, 'main': 'Clouds', 'description': 'broken clouds', 'icon': '04n'}], 'clouds': {'all': 83}, 'wind': {'speed': 4.52, 'deg': 186, 'gust': 11.11}, 'visibility': 10000, 'pop': 0, 'sys': {'pod': 'n'}, 'dt_txt': '2023-08-14 00:00:00'}, {'dt': 1691982000, 'main': {'temp': 286.78, 'feels_like': 286.6, 'temp_min': 286.78, 'temp_max': 286.78, 'pressure': 1010, 'sea_level': 1010, 'grnd_level': 993, 'humidity': 92, 'temp_kf': 0}, 'weather': [{'id': 804, 'main': 'Clouds', 'description': 'overcast clouds', 'icon': '04n'}], 'clouds': {'all': 99}, 'wind': {'speed': 4.28, 'deg': 190, 'gust': 11.15}, 'visibility': 10000, 'pop': 0.02, 'sys': {'pod': 'n'}, 'dt_txt': '2023-08-14 03:00:00'}, {'dt': 1691992800, 'main': {'temp': 288.51, 'feels_like': 288.27, 'temp_min': 288.51, 'temp_max': 288.51, 'pressure': 1011, 'sea_level': 1011, 'grnd_level': 994, 'humidity': 83, 'temp_kf': 0}, 'weather': [{'id': 803, 'main': 'Clouds', 'description': 'broken clouds', 'icon': '04d'}], 'clouds': {'all': 75}, 'wind': {'speed': 4.12, 'deg': 191, 'gust': 9.84}, 'visibility': 10000, 'pop': 0.1, 'sys': {'pod': 'd'}, 'dt_txt': '2023-08-14 06:00:00'}, {'dt': 1692003600, 'main': {'temp': 291.51, 'feels_like': 290.99, 'temp_min': 291.51, 'temp_max': 291.51, 'pressure': 1011, 'sea_level': 1011, 'grnd_level': 995, 'humidity': 61, 'temp_kf': 0}, 'weather': [{'id': 803, 'main': 'Clouds', 'description': 'broken clouds', 'icon': '04d'}], 'clouds': {'all': 66}, 'wind': {'speed': 5.33, 'deg': 199, 'gust': 8.1}, 'visibility': 10000, 'pop': 0.06, 'sys': {'pod': 'd'}, 'dt_txt': '2023-08-14 09:00:00'}, {'dt': 1692014400, 'main': {'temp': 292.76, 'feels_like': 292.32, 'temp_min': 292.76, 'temp_max': 292.76, 'pressure': 1012, 'sea_level': 1012, 'grnd_level': 996, 'humidity': 59, 'temp_kf': 0}, 'weather': [{'id': 803, 'main': 'Clouds', 'description': 'broken clouds', 'icon': '04d'}], 'clouds': {'all': 83}, 'wind': {'speed': 5.79, 'deg': 194, 'gust': 8.1}, 'visibility': 10000, 'pop': 0.04, 'sys': {'pod': 'd'}, 'dt_txt': '2023-08-14 12:00:00'}, {'dt': 1692025200, 'main': {'temp': 291.4, 'feels_like': 291.13, 'temp_min': 291.4, 'temp_max': 291.4, 'pressure': 1013, 'sea_level': 1013, 'grnd_level': 996, 'humidity': 71, 'temp_kf': 0}, 'weather': [{'id': 500, 'main': 'Rain', 'description': 'light rain', 'icon': '10d'}], 'clouds': {'all': 100}, 'wind': {'speed': 5.49, 'deg': 196, 'gust': 9.37}, 'visibility': 10000, 'pop': 0.44, 'rain': {'3h': 0.47}, 'sys': {'pod': 'd'}, 'dt_txt': '2023-08-14 15:00:00'}, {'dt': 1692036000, 'main': {'temp': 289.07, 'feels_like': 288.83, 'temp_min': 289.07, 'temp_max': 289.07, 'pressure': 1013, 'sea_level': 1013, 'grnd_level': 997, 'humidity': 81, 'temp_kf': 0}, 'weather': [{'id': 804, 'main': 'Clouds', 'description': 'overcast clouds', 'icon': '04d'}], 'clouds': {'all': 100}, 'wind': {'speed': 4.62, 'deg': 187, 'gust': 10.09}, 'visibility': 10000, 'pop': 0.44, 'sys': {'pod': 'd'}, 'dt_txt': '2023-08-14 18:00:00'}, {'dt': 1692046800, 'main': {'temp': 286.85, 'feels_like': 286.7, 'temp_min': 286.85, 'temp_max': 286.85, 'pressure': 1014, 'sea_level': 1014, 'grnd_level': 997, 'humidity': 93, 'temp_kf': 0}, 'weather': [{'id': 802, 'main': 'Clouds', 'description': 'scattered clouds', 'icon': '03n'}], 'clouds': {'all': 31}, 'wind': {'speed': 3.44, 'deg': 177, 'gust': 10.3}, 'visibility': 10000, 'pop': 0.14, 'sys': {'pod': 'n'}, 'dt_txt': '2023-08-14 21:00:00'}, {'dt': 1692057600, 'main': {'temp': 286.68, 'feels_like': 286.6, 'temp_min': 286.68, 'temp_max': 286.68, 'pressure': 1014, 'sea_level': 1014, 'grnd_level': 997, 'humidity': 96, 'temp_kf': 0}, 'weather': [{'id': 801, 'main': 'Clouds', 'description': 'few clouds', 'icon': '02n'}], 'clouds': {'all': 23}, 'wind': {'speed': 3.9, 'deg': 186, 'gust': 10.08}, 'visibility': 10000, 'pop': 0.09, 'sys': {'pod': 'n'}, 'dt_txt': '2023-08-15 00:00:00'}, {'dt': 1692068400, 'main': {'temp': 286.15, 'feels_like': 285.99, 'temp_min': 286.15, 'temp_max': 286.15, 'pressure': 1015, 'sea_level': 1015, 'grnd_level': 998, 'humidity': 95, 'temp_kf': 0}, 'weather': [{'id': 802, 'main': 'Clouds', 'description': 'scattered clouds', 'icon': '03n'}], 'clouds': {'all': 39}, 'wind': {'speed': 3.41, 'deg': 193, 'gust': 9.45}, 'visibility': 10000, 'pop': 0, 'sys': {'pod': 'n'}, 'dt_txt': '2023-08-15 03:00:00'}, {'dt': 1692079200, 'main': {'temp': 287.87, 'feels_like': 287.56, 'temp_min': 287.87, 'temp_max': 287.87, 'pressure': 1015, 'sea_level': 1015, 'grnd_level': 999, 'humidity': 83, 'temp_kf': 0}, 'weather': [{'id': 802, 'main': 'Clouds', 'description': 'scattered clouds', 'icon': '03d'}], 'clouds': {'all': 32}, 'wind': {'speed': 3.03, 'deg': 208, 'gust': 7.21}, 'visibility': 10000, 'pop': 0, 'sys': {'pod': 'd'}, 'dt_txt': '2023-08-15 06:00:00'}, {'dt': 1692090000, 'main': {'temp': 291.3, 'feels_like': 290.82, 'temp_min': 291.3, 'temp_max': 291.3, 'pressure': 1016, 'sea_level': 1016, 'grnd_level': 1000, 'humidity': 63, 'temp_kf': 0}, 'weather': [{'id': 804, 'main': 'Clouds', 'description': 'overcast clouds', 'icon': '04d'}], 'clouds': {'all': 85}, 'wind': {'speed': 3.01, 'deg': 206, 'gust': 4.43}, 'visibility': 10000, 'pop': 0, 'sys': {'pod': 'd'}, 'dt_txt': '2023-08-15 09:00:00'}, {'dt': 1692100800, 'main': {'temp': 293.57, 'feels_like': 293.16, 'temp_min': 293.57, 'temp_max': 293.57, 'pressure': 1016, 'sea_level': 1016, 'grnd_level': 1000, 'humidity': 57, 'temp_kf': 0}, 'weather': [{'id': 803, 'main': 'Clouds', 'description': 'broken clouds', 'icon': '04d'}], 'clouds': {'all': 73}, 'wind': {'speed': 3.55, 'deg': 189, 'gust': 4.34}, 'visibility': 10000, 'pop': 0, 'sys': {'pod': 'd'}, 'dt_txt': '2023-08-15 12:00:00'}, {'dt': 1692111600, 'main': {'temp': 291.6, 'feels_like': 291.33, 'temp_min': 291.6, 'temp_max': 291.6, 'pressure': 1017, 'sea_level': 1017, 'grnd_level': 1000, 'humidity': 70, 'temp_kf': 0}, 'weather': [{'id': 804, 'main': 'Clouds', 'description': 'overcast clouds', 'icon': '04d'}], 'clouds': {'all': 100}, 'wind': {'speed': 3.43, 'deg': 191, 'gust': 4.76}, 'visibility': 10000, 'pop': 0.25, 'sys': {'pod': 'd'}, 'dt_txt': '2023-08-15 15:00:00'}, {'dt': 1692122400, 'main': {'temp': 288.13, 'feels_like': 288.22, 'temp_min': 288.13, 'temp_max': 288.13, 'pressure': 1017, 'sea_level': 1017, 'grnd_level': 1001, 'humidity': 97, 'temp_kf': 0}, 'weather': [{'id': 500, 'main': 'Rain', 'description': 'light rain', 'icon': '10d'}], 'clouds': {'all': 100}, 'wind': {'speed': 1.75, 'deg': 160, 'gust': 4.55}, 'visibility': 10000, 'pop': 0.6, 'rain': {'3h': 0.55}, 'sys': {'pod': 'd'}, 'dt_txt': '2023-08-15 18:00:00'}, {'dt': 1692133200, 'main': {'temp': 287.44, 'feels_like': 287.48, 'temp_min': 287.44, 'temp_max': 287.44, 'pressure': 1018, 'sea_level': 1018, 'grnd_level': 1001, 'humidity': 98, 'temp_kf': 0}, 'weather': [{'id': 500, 'main': 'Rain', 'description': 'light rain', 'icon': '10n'}], 'clouds': {'all': 100}, 'wind': {'speed': 1.21, 'deg': 28, 'gust': 1.7}, 'visibility': 10000, 'pop': 0.86, 'rain': {'3h': 2.11}, 'sys': {'pod': 'n'}, 'dt_txt': '2023-08-15 21:00:00'}, {'dt': 1692144000, 'main': {'temp': 287.44, 'feels_like': 287.46, 'temp_min': 287.44, 'temp_max': 287.44, 'pressure': 1017, 'sea_level': 1017, 'grnd_level': 1000, 'humidity': 97, 'temp_kf': 0}, 'weather': [{'id': 500, 'main': 'Rain', 'description': 'light rain', 'icon': '10n'}], 'clouds': {'all': 100}, 'wind': {'speed': 2.07, 'deg': 42, 'gust': 6.36}, 'visibility': 10000, 'pop': 0.94, 'rain': {'3h': 1.05}, 'sys': {'pod': 'n'}, 'dt_txt': '2023-08-16 00:00:00'}, {'dt': 1692154800, 'main': {'temp': 287.38, 'feels_like': 287.42, 'temp_min': 287.38, 'temp_max': 287.38, 'pressure': 1017, 'sea_level': 1017, 'grnd_level': 1000, 'humidity': 98, 'temp_kf': 0}, 'weather': [{'id': 501, 'main': 'Rain', 'description': 'moderate rain', 'icon': '10n'}], 'clouds': {'all': 100}, 'wind': {'speed': 2.45, 'deg': 34, 'gust': 6.73}, 'visibility': 10000, 'pop': 1, 'rain': {'3h': 11.2}, 'sys': {'pod': 'n'}, 'dt_txt': '2023-08-16 03:00:00'}, {'dt': 1692165600, 'main': {'temp': 287.68, 'feels_like': 287.7, 'temp_min': 287.68, 'temp_max': 287.68, 'pressure': 1017, 'sea_level': 1017, 'grnd_level': 1000, 'humidity': 96, 'temp_kf': 0}, 'weather': [{'id': 500, 'main': 'Rain', 'description': 'light rain', 'icon': '10d'}], 'clouds': {'all': 100}, 'wind': {'speed': 2.31, 'deg': 22, 'gust': 5.8}, 'visibility': 10000, 'pop': 1, 'rain': {'3h': 0.29}, 'sys': {'pod': 'd'}, 'dt_txt': '2023-08-16 06:00:00'}, {'dt': 1692176400, 'main': {'temp': 289.1, 'feels_like': 289.13, 'temp_min': 289.1, 'temp_max': 289.1, 'pressure': 1018, 'sea_level': 1018, 'grnd_level': 1001, 'humidity': 91, 'temp_kf': 0}, 'weather': [{'id': 804, 'main': 'Clouds', 'description': 'overcast clouds', 'icon': '04d'}], 'clouds': {'all': 100}, 'wind': {'speed': 2.11, 'deg': 34, 'gust': 3.72}, 'visibility': 10000, 'pop': 0.07, 'sys': {'pod': 'd'}, 'dt_txt': '2023-08-16 09:00:00'}, {'dt': 1692187200, 'main': {'temp': 290.44, 'feels_like': 290.47, 'temp_min': 290.44, 'temp_max': 290.44, 'pressure': 1018, 'sea_level': 1018, 'grnd_level': 1001, 'humidity': 86, 'temp_kf': 0}, 'weather': [{'id': 500, 'main': 'Rain', 'description': 'light rain', 'icon': '10d'}], 'clouds': {'all': 100}, 'wind': {'speed': 1.96, 'deg': 17, 'gust': 2.7}, 'visibility': 10000, 'pop': 0.25, 'rain': {'3h': 0.17}, 'sys': {'pod': 'd'}, 'dt_txt': '2023-08-16 12:00:00'}], 'city': {'id': 3139081, 'name': 'Ski', 'coord': {'lat': 59.7195, 'lon': 10.8358}, 'country': 'NO', 'population': 12513, 'timezone': 7200, 'sunrise': 1691724111, 'sunset': 1691781729}}\")\n"
     ]
    }
   ],
   "source": [
    "# Query the data\n",
    "forecast_rows = session.execute(\"SELECT * FROM forecast_table;\")\n",
    "print(forecast_rows.one()) # <- only one row"
   ]
  }
 ],
 "metadata": {
  "kernelspec": {
   "display_name": "tf_M1",
   "language": "python",
   "name": "python3"
  },
  "language_info": {
   "codemirror_mode": {
    "name": "ipython",
    "version": 3
   },
   "file_extension": ".py",
   "mimetype": "text/x-python",
   "name": "python",
   "nbconvert_exporter": "python",
   "pygments_lexer": "ipython3",
   "version": "3.10.6"
  }
 },
 "nbformat": 4,
 "nbformat_minor": 2
}