{
 "cells": [
  {
   "attachments": {},
   "cell_type": "markdown",
   "metadata": {},
   "source": [
    "# Cassandra\n",
    "Assumptions:\n",
    "- Docker installed on system\n",
    "- \"cassandra:latest\" image installed in docker\n",
    "- Python/Conda environment with python 3.8 (or newer*)  \n",
    "  \n",
    "*As of 9 August 2023, the officially built cassandra-driver package was at version 3.25 and did not work well with Python 3.10 on Mac.  \n",
    "To install a newer version from the terminal you can:  \n",
    "```\n",
    "pip install git+https://github.com/datastax/python-driver.git\n",
    "pip install cql\n",
    "```\n",
    "  \n",
    "Or use older Python:  \n",
    "```\n",
    "conda create --name cassy38 python=3.8 jupyter scikit-learn\n",
    "conda activate cassy38  \n",
    "pip install cassandra-driver cql\n",
    "```"
   ]
  },
  {
   "attachments": {},
   "cell_type": "markdown",
   "metadata": {},
   "source": [
    "## Spinning up a local cassandra instance in a terminal\n",
    "```docker run --name my_cassandra cassandra:latest -p 9042:9042```  \n",
    "  \n",
    "If this works for you, hourra! Otherwise, try the following:  \n",
    "- Open Docker Desktop\n",
    "- Run the cassandra image with optional settings, opening 9042 port (left-hand side)."
   ]
  },
  {
   "cell_type": "code",
   "execution_count": 1,
   "metadata": {},
   "outputs": [],
   "source": [
    "# Connecting to Cassandra\n",
    "from cassandra.cluster import Cluster\n",
    "cluster = Cluster(['localhost'], port=9042)\n",
    "session = cluster.connect()"
   ]
  },
  {
   "cell_type": "code",
   "execution_count": 2,
   "metadata": {},
   "outputs": [
    {
     "data": {
      "text/plain": [
       "<cassandra.cluster.ResultSet at 0x103d7b490>"
      ]
     },
     "execution_count": 2,
     "metadata": {},
     "output_type": "execute_result"
    }
   ],
   "source": [
    "# Set up new keyspace (first time only)\n",
    "#                                              name of keyspace                        replication strategy           replication factor\n",
    "session.execute(\"CREATE KEYSPACE IF NOT EXISTS my_first_keyspace WITH REPLICATION = { 'class' : 'SimpleStrategy', 'replication_factor' : 1 };\")"
   ]
  },
  {
   "cell_type": "code",
   "execution_count": 3,
   "metadata": {},
   "outputs": [
    {
     "data": {
      "text/plain": [
       "<cassandra.cluster.ResultSet at 0x11bbca4d0>"
      ]
     },
     "execution_count": 3,
     "metadata": {},
     "output_type": "execute_result"
    }
   ],
   "source": [
    "# Create a new table (first time only)\n",
    "session.set_keyspace('my_first_keyspace')\n",
    "session.execute(\"CREATE TABLE IF NOT EXISTS my_first_table (ind int PRIMARY KEY, company text, model text);\")"
   ]
  },
  {
   "cell_type": "code",
   "execution_count": 4,
   "metadata": {},
   "outputs": [
    {
     "data": {
      "text/plain": [
       "<cassandra.cluster.ResultSet at 0x11bbc4d00>"
      ]
     },
     "execution_count": 4,
     "metadata": {},
     "output_type": "execute_result"
    }
   ],
   "source": [
    "# Insert some data (ind is the primary key, must be unique)\n",
    "session.execute(\"INSERT INTO my_first_table (ind, company, model) VALUES (1, 'Tesla', 'Model S');\")\n",
    "session.execute(\"INSERT INTO my_first_table (ind, company, model) VALUES (2, 'Tesla', 'Model 3');\")\n",
    "session.execute(\"INSERT INTO my_first_table (ind, company, model) VALUES (3, 'Polestar', '3');\")"
   ]
  },
  {
   "cell_type": "code",
   "execution_count": 5,
   "metadata": {},
   "outputs": [
    {
     "name": "stdout",
     "output_type": "stream",
     "text": [
      "Row(ind=1, company='Tesla', model='Model S')\n",
      "Row(ind=2, company='Tesla', model='Model 3')\n",
      "Row(ind=3, company='Polestar', model='3')\n"
     ]
    }
   ],
   "source": [
    "# Query the data\n",
    "rows = session.execute(\"SELECT * FROM my_first_table;\")\n",
    "for i in rows:\n",
    "    print(i)"
   ]
  },
  {
   "cell_type": "code",
   "execution_count": 6,
   "metadata": {
    "tags": [
     "raises-exception"
    ]
   },
   "outputs": [
    {
     "ename": "InvalidRequest",
     "evalue": "Error from server: code=2200 [Invalid query] message=\"Cannot execute this query as it might involve data filtering and thus may have unpredictable performance. If you want to execute this query despite the performance unpredictability, use ALLOW FILTERING\"",
     "output_type": "error",
     "traceback": [
      "\u001b[0;31m---------------------------------------------------------------------------\u001b[0m",
      "\u001b[0;31mInvalidRequest\u001b[0m                            Traceback (most recent call last)",
      "Cell \u001b[0;32mIn [6], line 2\u001b[0m\n\u001b[1;32m      1\u001b[0m \u001b[38;5;66;03m# More specific query\u001b[39;00m\n\u001b[0;32m----> 2\u001b[0m prepared_statement \u001b[38;5;241m=\u001b[39m \u001b[43msession\u001b[49m\u001b[38;5;241;43m.\u001b[39;49m\u001b[43mprepare\u001b[49m\u001b[43m(\u001b[49m\u001b[38;5;124;43m\"\u001b[39;49m\u001b[38;5;124;43mSELECT * FROM my_first_table WHERE company=?;\u001b[39;49m\u001b[38;5;124;43m\"\u001b[39;49m\u001b[43m)\u001b[49m \u001b[38;5;66;03m# <- will fail as company is not a key\u001b[39;00m\n\u001b[1;32m      3\u001b[0m teslas \u001b[38;5;241m=\u001b[39m session\u001b[38;5;241m.\u001b[39mexecute(prepared_statement, [\u001b[38;5;124m'\u001b[39m\u001b[38;5;124mTesla\u001b[39m\u001b[38;5;124m'\u001b[39m])\n\u001b[1;32m      4\u001b[0m \u001b[38;5;28;01mfor\u001b[39;00m i \u001b[38;5;129;01min\u001b[39;00m teslas:\n",
      "File \u001b[0;32m~/miniforge3/envs/tf_M1/lib/python3.10/site-packages/cassandra/cluster.py:3088\u001b[0m, in \u001b[0;36mSession.prepare\u001b[0;34m(self, query, custom_payload, keyspace)\u001b[0m\n\u001b[1;32m   3086\u001b[0m \u001b[38;5;28;01mtry\u001b[39;00m:\n\u001b[1;32m   3087\u001b[0m     future\u001b[38;5;241m.\u001b[39msend_request()\n\u001b[0;32m-> 3088\u001b[0m     response \u001b[38;5;241m=\u001b[39m \u001b[43mfuture\u001b[49m\u001b[38;5;241;43m.\u001b[39;49m\u001b[43mresult\u001b[49m\u001b[43m(\u001b[49m\u001b[43m)\u001b[49m\u001b[38;5;241m.\u001b[39mone()\n\u001b[1;32m   3089\u001b[0m \u001b[38;5;28;01mexcept\u001b[39;00m \u001b[38;5;167;01mException\u001b[39;00m:\n\u001b[1;32m   3090\u001b[0m     log\u001b[38;5;241m.\u001b[39mexception(\u001b[38;5;124m\"\u001b[39m\u001b[38;5;124mError preparing query:\u001b[39m\u001b[38;5;124m\"\u001b[39m)\n",
      "File \u001b[0;32m~/miniforge3/envs/tf_M1/lib/python3.10/site-packages/cassandra/cluster.py:4920\u001b[0m, in \u001b[0;36mResponseFuture.result\u001b[0;34m(self)\u001b[0m\n\u001b[1;32m   4918\u001b[0m     \u001b[38;5;28;01mreturn\u001b[39;00m ResultSet(\u001b[38;5;28mself\u001b[39m, \u001b[38;5;28mself\u001b[39m\u001b[38;5;241m.\u001b[39m_final_result)\n\u001b[1;32m   4919\u001b[0m \u001b[38;5;28;01melse\u001b[39;00m:\n\u001b[0;32m-> 4920\u001b[0m     \u001b[38;5;28;01mraise\u001b[39;00m \u001b[38;5;28mself\u001b[39m\u001b[38;5;241m.\u001b[39m_final_exception\n",
      "\u001b[0;31mInvalidRequest\u001b[0m: Error from server: code=2200 [Invalid query] message=\"Cannot execute this query as it might involve data filtering and thus may have unpredictable performance. If you want to execute this query despite the performance unpredictability, use ALLOW FILTERING\""
     ]
    }
   ],
   "source": [
    "# More specific query\n",
    "prepared_statement = session.prepare(\"SELECT * FROM my_first_table WHERE company=?;\") # <- will fail as company is not a key\n",
    "teslas = session.execute(prepared_statement, ['Tesla'])\n",
    "for i in teslas:\n",
    "    print(i)"
   ]
  },
  {
   "attachments": {},
   "cell_type": "markdown",
   "metadata": {},
   "source": [
    "## Cassandra filtering\n",
    "Cassandra is inherently a distributed production database. Selecting as above may require downloading all data from a node, then filtering based on the WHERE part (only PRIMARY KEYs are centrally known). Solutions:  \n",
    "- If the table is small or most of the data will satisfy the query, add ```ALLOW FILTERING``` at the end of the query (not recommended if not known). \n",
    "- Or make sure the WHERE clause points to one of the keys (see below)."
   ]
  },
  {
   "cell_type": "code",
   "execution_count": 7,
   "metadata": {},
   "outputs": [
    {
     "data": {
      "text/plain": [
       "<cassandra.cluster.ResultSet at 0x103d7b250>"
      ]
     },
     "execution_count": 7,
     "metadata": {},
     "output_type": "execute_result"
    }
   ],
   "source": [
    "# Create a new table (observe keys)\n",
    "session.execute(\"CREATE TABLE IF NOT EXISTS car_table (company text, model text, PRIMARY KEY(company, model));\")"
   ]
  },
  {
   "cell_type": "code",
   "execution_count": 8,
   "metadata": {},
   "outputs": [
    {
     "data": {
      "text/plain": [
       "<cassandra.cluster.ResultSet at 0x11c74c190>"
      ]
     },
     "execution_count": 8,
     "metadata": {},
     "output_type": "execute_result"
    }
   ],
   "source": [
    "# Insert some data (combination of company and model must be unique)\n",
    "session.execute(\"INSERT INTO car_table (company, model) VALUES ('Tesla', 'Model S');\")\n",
    "session.execute(\"INSERT INTO car_table (company, model) VALUES ('Tesla', 'Model 3');\")\n",
    "session.execute(\"INSERT INTO car_table (company, model) VALUES ('Polestar', '3');\")"
   ]
  },
  {
   "cell_type": "code",
   "execution_count": 9,
   "metadata": {},
   "outputs": [
    {
     "name": "stdout",
     "output_type": "stream",
     "text": [
      "Row(company='Tesla', model='Model 3')\n",
      "Row(company='Tesla', model='Model S')\n"
     ]
    }
   ],
   "source": [
    "# More specific query now works\n",
    "prepared_statement = session.prepare(\"SELECT * FROM car_table WHERE company=?;\")\n",
    "teslas = session.execute(prepared_statement, ['Tesla'])\n",
    "for i in teslas:\n",
    "    print(i)"
   ]
  },
  {
   "attachments": {},
   "cell_type": "markdown",
   "metadata": {},
   "source": [
    "## JSON in Cassandra\n"
   ]
  },
  {
   "cell_type": "code",
   "execution_count": 10,
   "metadata": {},
   "outputs": [],
   "source": [
    "# Imports\n",
    "import datetime as dt\n",
    "import requests\n",
    "import json"
   ]
  },
  {
   "attachments": {},
   "cell_type": "markdown",
   "metadata": {},
   "source": [
    "### Read previously saved JSON file forecast.json to memory"
   ]
  },
  {
   "cell_type": "code",
   "execution_count": 11,
   "metadata": {},
   "outputs": [],
   "source": [
    "with open('../APIs/downloads/forecast.json', 'r') as f:\n",
    "    forecast = json.load(f)"
   ]
  },
  {
   "cell_type": "code",
   "execution_count": 12,
   "metadata": {},
   "outputs": [
    {
     "data": {
      "text/plain": [
       "\"{'cod': '200', 'message': 0, 'cnt': 40, 'list': [{'dt': 1692111600, 'main': {'temp': 290.98, 'feels_like': 291.35, 'temp_min': 289.61, 'temp_max': 290.98, 'pressure': 1012, 'sea_level': 1012, 'grnd_level': 996, 'humidity': 97, 'temp_kf': 1.37}, 'weather': [{'id': 501, 'main': 'Rain', 'description': 'moderate rain', 'icon': '10d'}], 'clouds': {'all': 94}, 'wind': {'speed': 1.21, 'deg': 13, 'gust': 1.83}, 'visibility': 10000, 'pop': 1, 'rain': {'3h': 9.5}, 'sys': {'pod': 'd'}, 'dt_txt': '2023-08-15 15:00:00'}, {'dt': 1692122400, 'main': {'temp': 290.1, 'feels_like': 290.41, 'temp_min': 288.34, 'temp_max': 290.1, 'pressure': 1012, 'sea_level': 1012, 'grnd_level': 995, 'humidity': 98, 'temp_kf': 1.76}, 'weather': [{'id': 500, 'main': 'Rain', 'description': 'light rain', 'icon': '10d'}], 'clouds': {'all': 95}, 'wind': {'speed': 1.32, 'deg': 347, 'gust': 2.02}, 'visibility': 10000, 'pop': 1, 'rain': {'3h': 2.31}, 'sys': {'pod': 'd'}, 'dt_txt': '2023-08-15 18:00:00'}, {'dt': 1692133200, 'main': {'temp': 288.95, 'feels_like': 289.14, 'temp_min': 287.93, 'temp_max': 288.95, 'pressure': 1012, 'sea_level': 1012, 'grnd_level': 995, 'humidity': 98, 'temp_kf': 1.02}, 'weather': [{'id': 500, 'main': 'Rain', 'description': 'light rain', 'icon': '10n'}], 'clouds': {'all': 98}, 'wind': {'speed': 0.68, 'deg': 331, 'gust': 0.71}, 'visibility': 10000, 'pop': 0.68, 'rain': {'3h': 0.25}, 'sys': {'pod': 'n'}, 'dt_txt': '2023-08-15 21:00:00'}, {'dt': 1692144000, 'main': {'temp': 287.1, 'feels_like': 287.14, 'temp_min': 287.1, 'temp_max': 287.1, 'pressure': 1012, 'sea_level': 1012, 'grnd_level': 996, 'humidity': 99, 'temp_kf': 0}, 'weather': [{'id': 500, 'main': 'Rain', 'description': 'light rain', 'icon': '10n'}], 'clouds': {'all': 96}, 'wind': {'speed': 1.27, 'deg': 185, 'gust': 2.4}, 'visibility': 10000, 'pop': 0.52, 'rain': {'3h': 0.13}, 'sys': {'pod': 'n'}, 'dt_txt': '2023-08-16 00:00:00'}, {'dt': 1692154800, 'main': {'temp': 285.94, 'feels_like': 285.83, 'temp_min': 285.94, 'temp_max': 285.94, 'pressure': 1013, 'sea_level': 1013, 'grnd_level': 996, 'humidity': 98, 'temp_kf': 0}, 'weather': [{'id': 802, 'main': 'Clouds', 'description': 'scattered clouds', 'icon': '03n'}], 'clouds': {'all': 30}, 'wind': {'speed': 1.88, 'deg': 174, 'gust': 4}, 'visibility': 10000, 'pop': 0.04, 'sys': {'pod': 'n'}, 'dt_txt': '2023-08-16 03:00:00'}, {'dt': 1692165600, 'main': {'temp': 287.9, 'feels_like': 287.89, 'temp_min': 287.9, 'temp_max': 287.9, 'pressure': 1013, 'sea_level': 1013, 'grnd_level': 997, 'humidity': 94, 'temp_kf': 0}, 'weather': [{'id': 802, 'main': 'Clouds', 'description': 'scattered clouds', 'icon': '03d'}], 'clouds': {'all': 29}, 'wind': {'speed': 1.94, 'deg': 181, 'gust': 4.5}, 'visibility': 10000, 'pop': 0.12, 'sys': {'pod': 'd'}, 'dt_txt': '2023-08-16 06:00:00'}, {'dt': 1692176400, 'main': {'temp': 291.53, 'feels_like': 291.38, 'temp_min': 291.53, 'temp_max': 291.53, 'pressure': 1014, 'sea_level': 1014, 'grnd_level': 998, 'humidity': 75, 'temp_kf': 0}, 'weather': [{'id': 500, 'main': 'Rain', 'description': 'light rain', 'icon': '10d'}], 'clouds': {'all': 55}, 'wind': {'speed': 0.98, 'deg': 222, 'gust': 1.6}, 'visibility': 10000, 'pop': 0.36, 'rain': {'3h': 0.13}, 'sys': {'pod': 'd'}, 'dt_txt': '2023-08-16 09:00:00'}, {'dt': 1692187200, 'main': {'temp': 293.8, 'feels_like': 293.51, 'temp_min': 293.8, 'temp_max': 293.8, 'pressure': 1015, 'sea_level': 1015, 'grnd_level': 999, 'humidity': 61, 'temp_kf': 0}, 'weather': [{'id': 500, 'main': 'Rain', 'description': 'light rain', 'icon': '10d'}], 'clouds': {'all': 65}, 'wind': {'speed': 1.15, 'deg': 97, 'gust': 1}, 'visibility': 10000, 'pop': 0.44, 'rain': {'3h': 0.31}, 'sys': {'pod': 'd'}, 'dt_txt': '2023-08-16 12:00:00'}, {'dt': 1692198000, 'main': {'temp': 293.5, 'feels_like': 293.31, 'temp_min': 293.5, 'temp_max': 293.5, 'pressure': 1016, 'sea_level': 1016, 'grnd_level': 1000, 'humidity': 66, 'temp_kf': 0}, 'weather': [{'id': 500, 'main': 'Rain', 'description': 'light rain', 'icon': '10d'}], 'clouds': {'all': 67}, 'wind': {'speed': 0.89, 'deg': 179, 'gust': 0.71}, 'visibility': 10000, 'pop': 0.56, 'rain': {'3h': 0.81}, 'sys': {'pod': 'd'}, 'dt_txt': '2023-08-16 15:00:00'}, {'dt': 1692208800, 'main': {'temp': 290.34, 'feels_like': 290.33, 'temp_min': 290.34, 'temp_max': 290.34, 'pressure': 1018, 'sea_level': 1018, 'grnd_level': 1001, 'humidity': 85, 'temp_kf': 0}, 'weather': [{'id': 500, 'main': 'Rain', 'description': 'light rain', 'icon': '10d'}], 'clouds': {'all': 69}, 'wind': {'speed': 0.7, 'deg': 300, 'gust': 0.91}, 'visibility': 10000, 'pop': 0.56, 'rain': {'3h': 1.63}, 'sys': {'pod': 'd'}, 'dt_txt': '2023-08-16 18:00:00'}, {'dt': 1692219600, 'main': {'temp': 286.89, 'feels_like': 286.77, 'temp_min': 286.89, 'temp_max': 286.89, 'pressure': 1020, 'sea_level': 1020, 'grnd_level': 1003, 'humidity': 94, 'temp_kf': 0}, 'weather': [{'id': 802, 'main': 'Clouds', 'description': 'scattered clouds', 'icon': '03n'}], 'clouds': {'all': 32}, 'wind': {'speed': 1.45, 'deg': 360, 'gust': 1.42}, 'visibility': 10000, 'pop': 0, 'sys': {'pod': 'n'}, 'dt_txt': '2023-08-16 21:00:00'}, {'dt': 1692230400, 'main': {'temp': 285.32, 'feels_like': 285.05, 'temp_min': 285.32, 'temp_max': 285.32, 'pressure': 1021, 'sea_level': 1021, 'grnd_level': 1004, 'humidity': 94, 'temp_kf': 0}, 'weather': [{'id': 801, 'main': 'Clouds', 'description': 'few clouds', 'icon': '02n'}], 'clouds': {'all': 16}, 'wind': {'speed': 1.66, 'deg': 5, 'gust': 1.63}, 'visibility': 10000, 'pop': 0, 'sys': {'pod': 'n'}, 'dt_txt': '2023-08-17 00:00:00'}, {'dt': 1692241200, 'main': {'temp': 284.12, 'feels_like': 283.73, 'temp_min': 284.12, 'temp_max': 284.12, 'pressure': 1022, 'sea_level': 1022, 'grnd_level': 1005, 'humidity': 94, 'temp_kf': 0}, 'weather': [{'id': 800, 'main': 'Clear', 'description': 'clear sky', 'icon': '01n'}], 'clouds': {'all': 0}, 'wind': {'speed': 1.84, 'deg': 356, 'gust': 2.91}, 'visibility': 10000, 'pop': 0, 'sys': {'pod': 'n'}, 'dt_txt': '2023-08-17 03:00:00'}, {'dt': 1692252000, 'main': {'temp': 286.58, 'feels_like': 286.22, 'temp_min': 286.58, 'temp_max': 286.58, 'pressure': 1024, 'sea_level': 1024, 'grnd_level': 1007, 'humidity': 86, 'temp_kf': 0}, 'weather': [{'id': 800, 'main': 'Clear', 'description': 'clear sky', 'icon': '01d'}], 'clouds': {'all': 0}, 'wind': {'speed': 1.92, 'deg': 13, 'gust': 4.82}, 'visibility': 10000, 'pop': 0, 'sys': {'pod': 'd'}, 'dt_txt': '2023-08-17 06:00:00'}, {'dt': 1692262800, 'main': {'temp': 291.96, 'feels_like': 291.44, 'temp_min': 291.96, 'temp_max': 291.96, 'pressure': 1024, 'sea_level': 1024, 'grnd_level': 1008, 'humidity': 59, 'temp_kf': 0}, 'weather': [{'id': 800, 'main': 'Clear', 'description': 'clear sky', 'icon': '01d'}], 'clouds': {'all': 0}, 'wind': {'speed': 2.31, 'deg': 41, 'gust': 3.72}, 'visibility': 10000, 'pop': 0, 'sys': {'pod': 'd'}, 'dt_txt': '2023-08-17 09:00:00'}, {'dt': 1692273600, 'main': {'temp': 295.59, 'feels_like': 295.12, 'temp_min': 295.59, 'temp_max': 295.59, 'pressure': 1024, 'sea_level': 1024, 'grnd_level': 1008, 'humidity': 47, 'temp_kf': 0}, 'weather': [{'id': 800, 'main': 'Clear', 'description': 'clear sky', 'icon': '01d'}], 'clouds': {'all': 1}, 'wind': {'speed': 2.1, 'deg': 54, 'gust': 3.11}, 'visibility': 10000, 'pop': 0, 'sys': {'pod': 'd'}, 'dt_txt': '2023-08-17 12:00:00'}, {'dt': 1692284400, 'main': {'temp': 296.31, 'feels_like': 295.8, 'temp_min': 296.31, 'temp_max': 296.31, 'pressure': 1024, 'sea_level': 1024, 'grnd_level': 1007, 'humidity': 43, 'temp_kf': 0}, 'weather': [{'id': 801, 'main': 'Clouds', 'description': 'few clouds', 'icon': '02d'}], 'clouds': {'all': 13}, 'wind': {'speed': 1.87, 'deg': 69, 'gust': 2.7}, 'visibility': 10000, 'pop': 0, 'sys': {'pod': 'd'}, 'dt_txt': '2023-08-17 15:00:00'}, {'dt': 1692295200, 'main': {'temp': 292.09, 'feels_like': 291.87, 'temp_min': 292.09, 'temp_max': 292.09, 'pressure': 1025, 'sea_level': 1025, 'grnd_level': 1008, 'humidity': 70, 'temp_kf': 0}, 'weather': [{'id': 802, 'main': 'Clouds', 'description': 'scattered clouds', 'icon': '03d'}], 'clouds': {'all': 40}, 'wind': {'speed': 0.74, 'deg': 159, 'gust': 0.9}, 'visibility': 10000, 'pop': 0, 'sys': {'pod': 'd'}, 'dt_txt': '2023-08-17 18:00:00'}, {'dt': 1692306000, 'main': {'temp': 290.49, 'feels_like': 290.19, 'temp_min': 290.49, 'temp_max': 290.49, 'pressure': 1026, 'sea_level': 1026, 'grnd_level': 1009, 'humidity': 73, 'temp_kf': 0}, 'weather': [{'id': 804, 'main': 'Clouds', 'description': 'overcast clouds', 'icon': '04n'}], 'clouds': {'all': 100}, 'wind': {'speed': 0.87, 'deg': 15, 'gust': 0.83}, 'visibility': 10000, 'pop': 0, 'sys': {'pod': 'n'}, 'dt_txt': '2023-08-17 21:00:00'}, {'dt': 1692316800, 'main': {'temp': 289.21, 'feels_like': 288.78, 'temp_min': 289.21, 'temp_max': 289.21, 'pressure': 1026, 'sea_level': 1026, 'grnd_level': 1009, 'humidity': 73, 'temp_kf': 0}, 'weather': [{'id': 804, 'main': 'Clouds', 'description': 'overcast clouds', 'icon': '04n'}], 'clouds': {'all': 100}, 'wind': {'speed': 1.63, 'deg': 23, 'gust': 1.91}, 'visibility': 10000, 'pop': 0, 'sys': {'pod': 'n'}, 'dt_txt': '2023-08-18 00:00:00'}, {'dt': 1692327600, 'main': {'temp': 288.21, 'feels_like': 287.73, 'temp_min': 288.21, 'temp_max': 288.21, 'pressure': 1027, 'sea_level': 1027, 'grnd_level': 1010, 'humidity': 75, 'temp_kf': 0}, 'weather': [{'id': 804, 'main': 'Clouds', 'description': 'overcast clouds', 'icon': '04n'}], 'clouds': {'all': 100}, 'wind': {'speed': 1.59, 'deg': 27, 'gust': 1.81}, 'visibility': 10000, 'pop': 0, 'sys': {'pod': 'n'}, 'dt_txt': '2023-08-18 03:00:00'}, {'dt': 1692338400, 'main': {'temp': 288.21, 'feels_like': 287.81, 'temp_min': 288.21, 'temp_max': 288.21, 'pressure': 1027, 'sea_level': 1027, 'grnd_level': 1011, 'humidity': 78, 'temp_kf': 0}, 'weather': [{'id': 804, 'main': 'Clouds', 'description': 'overcast clouds', 'icon': '04d'}], 'clouds': {'all': 100}, 'wind': {'speed': 1.51, 'deg': 20, 'gust': 2.6}, 'visibility': 10000, 'pop': 0, 'sys': {'pod': 'd'}, 'dt_txt': '2023-08-18 06:00:00'}, {'dt': 1692349200, 'main': {'temp': 292.16, 'feels_like': 291.74, 'temp_min': 292.16, 'temp_max': 292.16, 'pressure': 1027, 'sea_level': 1027, 'grnd_level': 1011, 'humidity': 62, 'temp_kf': 0}, 'weather': [{'id': 804, 'main': 'Clouds', 'description': 'overcast clouds', 'icon': '04d'}], 'clouds': {'all': 100}, 'wind': {'speed': 2.24, 'deg': 43, 'gust': 3.9}, 'visibility': 10000, 'pop': 0, 'sys': {'pod': 'd'}, 'dt_txt': '2023-08-18 09:00:00'}, {'dt': 1692360000, 'main': {'temp': 295.28, 'feels_like': 294.8, 'temp_min': 295.28, 'temp_max': 295.28, 'pressure': 1026, 'sea_level': 1026, 'grnd_level': 1010, 'humidity': 48, 'temp_kf': 0}, 'weather': [{'id': 804, 'main': 'Clouds', 'description': 'overcast clouds', 'icon': '04d'}], 'clouds': {'all': 100}, 'wind': {'speed': 3.07, 'deg': 55, 'gust': 4.63}, 'visibility': 10000, 'pop': 0, 'sys': {'pod': 'd'}, 'dt_txt': '2023-08-18 12:00:00'}, {'dt': 1692370800, 'main': {'temp': 293.3, 'feels_like': 292.86, 'temp_min': 293.3, 'temp_max': 293.3, 'pressure': 1026, 'sea_level': 1026, 'grnd_level': 1009, 'humidity': 57, 'temp_kf': 0}, 'weather': [{'id': 804, 'main': 'Clouds', 'description': 'overcast clouds', 'icon': '04d'}], 'clouds': {'all': 100}, 'wind': {'speed': 2.86, 'deg': 66, 'gust': 6.11}, 'visibility': 10000, 'pop': 0, 'sys': {'pod': 'd'}, 'dt_txt': '2023-08-18 15:00:00'}, {'dt': 1692381600, 'main': {'temp': 290.98, 'feels_like': 290.65, 'temp_min': 290.98, 'temp_max': 290.98, 'pressure': 1025, 'sea_level': 1025, 'grnd_level': 1008, 'humidity': 70, 'temp_kf': 0}, 'weather': [{'id': 804, 'main': 'Clouds', 'description': 'overcast clouds', 'icon': '04d'}], 'clouds': {'all': 100}, 'wind': {'speed': 2.02, 'deg': 39, 'gust': 6.01}, 'visibility': 10000, 'pop': 0, 'sys': {'pod': 'd'}, 'dt_txt': '2023-08-18 18:00:00'}, {'dt': 1692392400, 'main': {'temp': 288.72, 'feels_like': 288.76, 'temp_min': 288.72, 'temp_max': 288.72, 'pressure': 1025, 'sea_level': 1025, 'grnd_level': 1009, 'humidity': 93, 'temp_kf': 0}, 'weather': [{'id': 500, 'main': 'Rain', 'description': 'light rain', 'icon': '10n'}], 'clouds': {'all': 100}, 'wind': {'speed': 1.64, 'deg': 50, 'gust': 6.11}, 'visibility': 10000, 'pop': 0.8, 'rain': {'3h': 0.63}, 'sys': {'pod': 'n'}, 'dt_txt': '2023-08-18 21:00:00'}, {'dt': 1692403200, 'main': {'temp': 287.97, 'feels_like': 288.01, 'temp_min': 287.97, 'temp_max': 287.97, 'pressure': 1025, 'sea_level': 1025, 'grnd_level': 1008, 'humidity': 96, 'temp_kf': 0}, 'weather': [{'id': 500, 'main': 'Rain', 'description': 'light rain', 'icon': '10n'}], 'clouds': {'all': 100}, 'wind': {'speed': 3.66, 'deg': 43, 'gust': 9.11}, 'visibility': 10000, 'pop': 0.88, 'rain': {'3h': 1.69}, 'sys': {'pod': 'n'}, 'dt_txt': '2023-08-19 00:00:00'}, {'dt': 1692414000, 'main': {'temp': 286.74, 'feels_like': 286.66, 'temp_min': 286.74, 'temp_max': 286.74, 'pressure': 1024, 'sea_level': 1024, 'grnd_level': 1007, 'humidity': 96, 'temp_kf': 0}, 'weather': [{'id': 500, 'main': 'Rain', 'description': 'light rain', 'icon': '10n'}], 'clouds': {'all': 100}, 'wind': {'speed': 3.68, 'deg': 29, 'gust': 9.43}, 'visibility': 10000, 'pop': 0.8, 'rain': {'3h': 0.5}, 'sys': {'pod': 'n'}, 'dt_txt': '2023-08-19 03:00:00'}, {'dt': 1692424800, 'main': {'temp': 286.61, 'feels_like': 286.44, 'temp_min': 286.61, 'temp_max': 286.61, 'pressure': 1023, 'sea_level': 1023, 'grnd_level': 1006, 'humidity': 93, 'temp_kf': 0}, 'weather': [{'id': 500, 'main': 'Rain', 'description': 'light rain', 'icon': '10d'}], 'clouds': {'all': 100}, 'wind': {'speed': 4.03, 'deg': 22, 'gust': 10.41}, 'visibility': 10000, 'pop': 0.96, 'rain': {'3h': 0.63}, 'sys': {'pod': 'd'}, 'dt_txt': '2023-08-19 06:00:00'}, {'dt': 1692435600, 'main': {'temp': 287.17, 'feels_like': 287.03, 'temp_min': 287.17, 'temp_max': 287.17, 'pressure': 1022, 'sea_level': 1022, 'grnd_level': 1005, 'humidity': 92, 'temp_kf': 0}, 'weather': [{'id': 500, 'main': 'Rain', 'description': 'light rain', 'icon': '10d'}], 'clouds': {'all': 100}, 'wind': {'speed': 3.77, 'deg': 29, 'gust': 9.6}, 'visibility': 10000, 'pop': 0.28, 'rain': {'3h': 0.13}, 'sys': {'pod': 'd'}, 'dt_txt': '2023-08-19 09:00:00'}, {'dt': 1692446400, 'main': {'temp': 289.13, 'feels_like': 289.19, 'temp_min': 289.13, 'temp_max': 289.13, 'pressure': 1021, 'sea_level': 1021, 'grnd_level': 1004, 'humidity': 92, 'temp_kf': 0}, 'weather': [{'id': 500, 'main': 'Rain', 'description': 'light rain', 'icon': '10d'}], 'clouds': {'all': 100}, 'wind': {'speed': 3.32, 'deg': 26, 'gust': 7.82}, 'visibility': 10000, 'pop': 0.88, 'rain': {'3h': 1}, 'sys': {'pod': 'd'}, 'dt_txt': '2023-08-19 12:00:00'}, {'dt': 1692457200, 'main': {'temp': 289.5, 'feels_like': 289.59, 'temp_min': 289.5, 'temp_max': 289.5, 'pressure': 1019, 'sea_level': 1019, 'grnd_level': 1003, 'humidity': 92, 'temp_kf': 0}, 'weather': [{'id': 804, 'main': 'Clouds', 'description': 'overcast clouds', 'icon': '04d'}], 'clouds': {'all': 100}, 'wind': {'speed': 2.79, 'deg': 346, 'gust': 6.94}, 'visibility': 10000, 'pop': 0.4, 'sys': {'pod': 'd'}, 'dt_txt': '2023-08-19 15:00:00'}, {'dt': 1692468000, 'main': {'temp': 288.79, 'feels_like': 288.94, 'temp_min': 288.79, 'temp_max': 288.79, 'pressure': 1018, 'sea_level': 1018, 'grnd_level': 1001, 'humidity': 97, 'temp_kf': 0}, 'weather': [{'id': 500, 'main': 'Rain', 'description': 'light rain', 'icon': '10d'}], 'clouds': {'all': 100}, 'wind': {'speed': 1.68, 'deg': 357, 'gust': 5.21}, 'visibility': 10000, 'pop': 0.68, 'rain': {'3h': 0.69}, 'sys': {'pod': 'd'}, 'dt_txt': '2023-08-19 18:00:00'}, {'dt': 1692478800, 'main': {'temp': 289.63, 'feels_like': 289.92, 'temp_min': 289.63, 'temp_max': 289.63, 'pressure': 1017, 'sea_level': 1017, 'grnd_level': 1000, 'humidity': 99, 'temp_kf': 0}, 'weather': [{'id': 500, 'main': 'Rain', 'description': 'light rain', 'icon': '10n'}], 'clouds': {'all': 100}, 'wind': {'speed': 1.3, 'deg': 63, 'gust': 4}, 'visibility': 10000, 'pop': 1, 'rain': {'3h': 0.81}, 'sys': {'pod': 'n'}, 'dt_txt': '2023-08-19 21:00:00'}, {'dt': 1692489600, 'main': {'temp': 290.67, 'feels_like': 291.04, 'temp_min': 290.67, 'temp_max': 290.67, 'pressure': 1014, 'sea_level': 1014, 'grnd_level': 998, 'humidity': 98, 'temp_kf': 0}, 'weather': [{'id': 501, 'main': 'Rain', 'description': 'moderate rain', 'icon': '10n'}], 'clouds': {'all': 100}, 'wind': {'speed': 2.83, 'deg': 105, 'gust': 9.7}, 'visibility': 3039, 'pop': 1, 'rain': {'3h': 3.69}, 'sys': {'pod': 'n'}, 'dt_txt': '2023-08-20 00:00:00'}, {'dt': 1692500400, 'main': {'temp': 290.12, 'feels_like': 290.46, 'temp_min': 290.12, 'temp_max': 290.12, 'pressure': 1014, 'sea_level': 1014, 'grnd_level': 997, 'humidity': 99, 'temp_kf': 0}, 'weather': [{'id': 501, 'main': 'Rain', 'description': 'moderate rain', 'icon': '10n'}], 'clouds': {'all': 100}, 'wind': {'speed': 2.98, 'deg': 174, 'gust': 7.42}, 'visibility': 114, 'pop': 0.96, 'rain': {'3h': 7.25}, 'sys': {'pod': 'n'}, 'dt_txt': '2023-08-20 03:00:00'}, {'dt': 1692511200, 'main': {'temp': 289.7, 'feels_like': 290, 'temp_min': 289.7, 'temp_max': 289.7, 'pressure': 1014, 'sea_level': 1014, 'grnd_level': 998, 'humidity': 99, 'temp_kf': 0}, 'weather': [{'id': 804, 'main': 'Clouds', 'description': 'overcast clouds', 'icon': '04d'}], 'clouds': {'all': 100}, 'wind': {'speed': 1.21, 'deg': 183, 'gust': 4.13}, 'visibility': 69, 'pop': 0.72, 'sys': {'pod': 'd'}, 'dt_txt': '2023-08-20 06:00:00'}, {'dt': 1692522000, 'main': {'temp': 290.27, 'feels_like': 290.52, 'temp_min': 290.27, 'temp_max': 290.27, 'pressure': 1015, 'sea_level': 1015, 'grnd_level': 998, 'humidity': 95, 'temp_kf': 0}, 'weather': [{'id': 804, 'main': 'Clouds', 'description': 'overcast clouds', 'icon': '04d'}], 'clouds': {'all': 100}, 'wind': {'speed': 0.99, 'deg': 241, 'gust': 1.9}, 'visibility': 10000, 'pop': 0.12, 'sys': {'pod': 'd'}, 'dt_txt': '2023-08-20 09:00:00'}, {'dt': 1692532800, 'main': {'temp': 293.22, 'feels_like': 293.37, 'temp_min': 293.22, 'temp_max': 293.22, 'pressure': 1015, 'sea_level': 1015, 'grnd_level': 999, 'humidity': 80, 'temp_kf': 0}, 'weather': [{'id': 500, 'main': 'Rain', 'description': 'light rain', 'icon': '10d'}], 'clouds': {'all': 100}, 'wind': {'speed': 1.14, 'deg': 236, 'gust': 2.3}, 'visibility': 10000, 'pop': 0.24, 'rain': {'3h': 0.13}, 'sys': {'pod': 'd'}, 'dt_txt': '2023-08-20 12:00:00'}], 'city': {'id': 3139081, 'name': 'Ski', 'coord': {'lat': 59.7195, 'lon': 10.8358}, 'country': 'NO', 'population': 12513, 'timezone': 7200, 'sunrise': 1692070283, 'sunset': 1692126679}}\""
      ]
     },
     "execution_count": 12,
     "metadata": {},
     "output_type": "execute_result"
    }
   ],
   "source": [
    "# Inspect JSON file\n",
    "forecast.__str__()"
   ]
  },
  {
   "attachments": {},
   "cell_type": "markdown",
   "metadata": {},
   "source": [
    "## Raw JSON\n",
    "A simple, but not very efficient way of storing JSON data is to treat it as a text and save it directly to the database.  \n",
    "More efficient, with regard to transfer, is to compress the JSON data to a blob first."
   ]
  },
  {
   "cell_type": "code",
   "execution_count": 13,
   "metadata": {},
   "outputs": [
    {
     "data": {
      "text/plain": [
       "<cassandra.cluster.ResultSet at 0x11c960d00>"
      ]
     },
     "execution_count": 13,
     "metadata": {},
     "output_type": "execute_result"
    }
   ],
   "source": [
    "session.execute(\"DROP TABLE IF EXISTS my_first_keyspace.forecast_table;\")"
   ]
  },
  {
   "attachments": {},
   "cell_type": "markdown",
   "metadata": {},
   "source": [
    "### Create a new table which treats the whole JSON as a blob, using the city id and the first dt as keys"
   ]
  },
  {
   "cell_type": "code",
   "execution_count": 14,
   "metadata": {},
   "outputs": [
    {
     "data": {
      "text/plain": [
       "<cassandra.cluster.ResultSet at 0x11c961600>"
      ]
     },
     "execution_count": 14,
     "metadata": {},
     "output_type": "execute_result"
    }
   ],
   "source": [
    "session.set_keyspace('my_first_keyspace')\n",
    "session.execute(\"CREATE TABLE IF NOT EXISTS forecast_table (city_id int, dt int, forecast blob, PRIMARY KEY(city_id, dt));\")"
   ]
  },
  {
   "attachments": {},
   "cell_type": "markdown",
   "metadata": {},
   "source": [
    "### Insert the forecast data into the table as text"
   ]
  },
  {
   "cell_type": "code",
   "execution_count": 15,
   "metadata": {},
   "outputs": [
    {
     "data": {
      "text/plain": [
       "<cassandra.cluster.ResultSet at 0x11bbbeb60>"
      ]
     },
     "execution_count": 15,
     "metadata": {},
     "output_type": "execute_result"
    }
   ],
   "source": [
    "session.execute(\"INSERT INTO forecast_table (city_id, dt, forecast) VALUES (%s, %s, textAsBlob(%s));\", (forecast['city']['id'], forecast['list'][0]['dt'], forecast.__str__()))"
   ]
  },
  {
   "cell_type": "code",
   "execution_count": 16,
   "metadata": {},
   "outputs": [
    {
     "name": "stdout",
     "output_type": "stream",
     "text": [
      "Row(city_id=3139081, dt=1692111600, forecast=b\"{'cod': '200', 'message': 0, 'cnt': 40, 'list': [{'dt': 1692111600, 'main': {'temp': 290.98, 'feels_like': 291.35, 'temp_min': 289.61, 'temp_max': 290.98, 'pressure': 1012, 'sea_level': 1012, 'grnd_level': 996, 'humidity': 97, 'temp_kf': 1.37}, 'weather': [{'id': 501, 'main': 'Rain', 'description': 'moderate rain', 'icon': '10d'}], 'clouds': {'all': 94}, 'wind': {'speed': 1.21, 'deg': 13, 'gust': 1.83}, 'visibility': 10000, 'pop': 1, 'rain': {'3h': 9.5}, 'sys': {'pod': 'd'}, 'dt_txt': '2023-08-15 15:00:00'}, {'dt': 1692122400, 'main': {'temp': 290.1, 'feels_like': 290.41, 'temp_min': 288.34, 'temp_max': 290.1, 'pressure': 1012, 'sea_level': 1012, 'grnd_level': 995, 'humidity': 98, 'temp_kf': 1.76}, 'weather': [{'id': 500, 'main': 'Rain', 'description': 'light rain', 'icon': '10d'}], 'clouds': {'all': 95}, 'wind': {'speed': 1.32, 'deg': 347, 'gust': 2.02}, 'visibility': 10000, 'pop': 1, 'rain': {'3h': 2.31}, 'sys': {'pod': 'd'}, 'dt_txt': '2023-08-15 18:00:00'}, {'dt': 1692133200, 'main': {'temp': 288.95, 'feels_like': 289.14, 'temp_min': 287.93, 'temp_max': 288.95, 'pressure': 1012, 'sea_level': 1012, 'grnd_level': 995, 'humidity': 98, 'temp_kf': 1.02}, 'weather': [{'id': 500, 'main': 'Rain', 'description': 'light rain', 'icon': '10n'}], 'clouds': {'all': 98}, 'wind': {'speed': 0.68, 'deg': 331, 'gust': 0.71}, 'visibility': 10000, 'pop': 0.68, 'rain': {'3h': 0.25}, 'sys': {'pod': 'n'}, 'dt_txt': '2023-08-15 21:00:00'}, {'dt': 1692144000, 'main': {'temp': 287.1, 'feels_like': 287.14, 'temp_min': 287.1, 'temp_max': 287.1, 'pressure': 1012, 'sea_level': 1012, 'grnd_level': 996, 'humidity': 99, 'temp_kf': 0}, 'weather': [{'id': 500, 'main': 'Rain', 'description': 'light rain', 'icon': '10n'}], 'clouds': {'all': 96}, 'wind': {'speed': 1.27, 'deg': 185, 'gust': 2.4}, 'visibility': 10000, 'pop': 0.52, 'rain': {'3h': 0.13}, 'sys': {'pod': 'n'}, 'dt_txt': '2023-08-16 00:00:00'}, {'dt': 1692154800, 'main': {'temp': 285.94, 'feels_like': 285.83, 'temp_min': 285.94, 'temp_max': 285.94, 'pressure': 1013, 'sea_level': 1013, 'grnd_level': 996, 'humidity': 98, 'temp_kf': 0}, 'weather': [{'id': 802, 'main': 'Clouds', 'description': 'scattered clouds', 'icon': '03n'}], 'clouds': {'all': 30}, 'wind': {'speed': 1.88, 'deg': 174, 'gust': 4}, 'visibility': 10000, 'pop': 0.04, 'sys': {'pod': 'n'}, 'dt_txt': '2023-08-16 03:00:00'}, {'dt': 1692165600, 'main': {'temp': 287.9, 'feels_like': 287.89, 'temp_min': 287.9, 'temp_max': 287.9, 'pressure': 1013, 'sea_level': 1013, 'grnd_level': 997, 'humidity': 94, 'temp_kf': 0}, 'weather': [{'id': 802, 'main': 'Clouds', 'description': 'scattered clouds', 'icon': '03d'}], 'clouds': {'all': 29}, 'wind': {'speed': 1.94, 'deg': 181, 'gust': 4.5}, 'visibility': 10000, 'pop': 0.12, 'sys': {'pod': 'd'}, 'dt_txt': '2023-08-16 06:00:00'}, {'dt': 1692176400, 'main': {'temp': 291.53, 'feels_like': 291.38, 'temp_min': 291.53, 'temp_max': 291.53, 'pressure': 1014, 'sea_level': 1014, 'grnd_level': 998, 'humidity': 75, 'temp_kf': 0}, 'weather': [{'id': 500, 'main': 'Rain', 'description': 'light rain', 'icon': '10d'}], 'clouds': {'all': 55}, 'wind': {'speed': 0.98, 'deg': 222, 'gust': 1.6}, 'visibility': 10000, 'pop': 0.36, 'rain': {'3h': 0.13}, 'sys': {'pod': 'd'}, 'dt_txt': '2023-08-16 09:00:00'}, {'dt': 1692187200, 'main': {'temp': 293.8, 'feels_like': 293.51, 'temp_min': 293.8, 'temp_max': 293.8, 'pressure': 1015, 'sea_level': 1015, 'grnd_level': 999, 'humidity': 61, 'temp_kf': 0}, 'weather': [{'id': 500, 'main': 'Rain', 'description': 'light rain', 'icon': '10d'}], 'clouds': {'all': 65}, 'wind': {'speed': 1.15, 'deg': 97, 'gust': 1}, 'visibility': 10000, 'pop': 0.44, 'rain': {'3h': 0.31}, 'sys': {'pod': 'd'}, 'dt_txt': '2023-08-16 12:00:00'}, {'dt': 1692198000, 'main': {'temp': 293.5, 'feels_like': 293.31, 'temp_min': 293.5, 'temp_max': 293.5, 'pressure': 1016, 'sea_level': 1016, 'grnd_level': 1000, 'humidity': 66, 'temp_kf': 0}, 'weather': [{'id': 500, 'main': 'Rain', 'description': 'light rain', 'icon': '10d'}], 'clouds': {'all': 67}, 'wind': {'speed': 0.89, 'deg': 179, 'gust': 0.71}, 'visibility': 10000, 'pop': 0.56, 'rain': {'3h': 0.81}, 'sys': {'pod': 'd'}, 'dt_txt': '2023-08-16 15:00:00'}, {'dt': 1692208800, 'main': {'temp': 290.34, 'feels_like': 290.33, 'temp_min': 290.34, 'temp_max': 290.34, 'pressure': 1018, 'sea_level': 1018, 'grnd_level': 1001, 'humidity': 85, 'temp_kf': 0}, 'weather': [{'id': 500, 'main': 'Rain', 'description': 'light rain', 'icon': '10d'}], 'clouds': {'all': 69}, 'wind': {'speed': 0.7, 'deg': 300, 'gust': 0.91}, 'visibility': 10000, 'pop': 0.56, 'rain': {'3h': 1.63}, 'sys': {'pod': 'd'}, 'dt_txt': '2023-08-16 18:00:00'}, {'dt': 1692219600, 'main': {'temp': 286.89, 'feels_like': 286.77, 'temp_min': 286.89, 'temp_max': 286.89, 'pressure': 1020, 'sea_level': 1020, 'grnd_level': 1003, 'humidity': 94, 'temp_kf': 0}, 'weather': [{'id': 802, 'main': 'Clouds', 'description': 'scattered clouds', 'icon': '03n'}], 'clouds': {'all': 32}, 'wind': {'speed': 1.45, 'deg': 360, 'gust': 1.42}, 'visibility': 10000, 'pop': 0, 'sys': {'pod': 'n'}, 'dt_txt': '2023-08-16 21:00:00'}, {'dt': 1692230400, 'main': {'temp': 285.32, 'feels_like': 285.05, 'temp_min': 285.32, 'temp_max': 285.32, 'pressure': 1021, 'sea_level': 1021, 'grnd_level': 1004, 'humidity': 94, 'temp_kf': 0}, 'weather': [{'id': 801, 'main': 'Clouds', 'description': 'few clouds', 'icon': '02n'}], 'clouds': {'all': 16}, 'wind': {'speed': 1.66, 'deg': 5, 'gust': 1.63}, 'visibility': 10000, 'pop': 0, 'sys': {'pod': 'n'}, 'dt_txt': '2023-08-17 00:00:00'}, {'dt': 1692241200, 'main': {'temp': 284.12, 'feels_like': 283.73, 'temp_min': 284.12, 'temp_max': 284.12, 'pressure': 1022, 'sea_level': 1022, 'grnd_level': 1005, 'humidity': 94, 'temp_kf': 0}, 'weather': [{'id': 800, 'main': 'Clear', 'description': 'clear sky', 'icon': '01n'}], 'clouds': {'all': 0}, 'wind': {'speed': 1.84, 'deg': 356, 'gust': 2.91}, 'visibility': 10000, 'pop': 0, 'sys': {'pod': 'n'}, 'dt_txt': '2023-08-17 03:00:00'}, {'dt': 1692252000, 'main': {'temp': 286.58, 'feels_like': 286.22, 'temp_min': 286.58, 'temp_max': 286.58, 'pressure': 1024, 'sea_level': 1024, 'grnd_level': 1007, 'humidity': 86, 'temp_kf': 0}, 'weather': [{'id': 800, 'main': 'Clear', 'description': 'clear sky', 'icon': '01d'}], 'clouds': {'all': 0}, 'wind': {'speed': 1.92, 'deg': 13, 'gust': 4.82}, 'visibility': 10000, 'pop': 0, 'sys': {'pod': 'd'}, 'dt_txt': '2023-08-17 06:00:00'}, {'dt': 1692262800, 'main': {'temp': 291.96, 'feels_like': 291.44, 'temp_min': 291.96, 'temp_max': 291.96, 'pressure': 1024, 'sea_level': 1024, 'grnd_level': 1008, 'humidity': 59, 'temp_kf': 0}, 'weather': [{'id': 800, 'main': 'Clear', 'description': 'clear sky', 'icon': '01d'}], 'clouds': {'all': 0}, 'wind': {'speed': 2.31, 'deg': 41, 'gust': 3.72}, 'visibility': 10000, 'pop': 0, 'sys': {'pod': 'd'}, 'dt_txt': '2023-08-17 09:00:00'}, {'dt': 1692273600, 'main': {'temp': 295.59, 'feels_like': 295.12, 'temp_min': 295.59, 'temp_max': 295.59, 'pressure': 1024, 'sea_level': 1024, 'grnd_level': 1008, 'humidity': 47, 'temp_kf': 0}, 'weather': [{'id': 800, 'main': 'Clear', 'description': 'clear sky', 'icon': '01d'}], 'clouds': {'all': 1}, 'wind': {'speed': 2.1, 'deg': 54, 'gust': 3.11}, 'visibility': 10000, 'pop': 0, 'sys': {'pod': 'd'}, 'dt_txt': '2023-08-17 12:00:00'}, {'dt': 1692284400, 'main': {'temp': 296.31, 'feels_like': 295.8, 'temp_min': 296.31, 'temp_max': 296.31, 'pressure': 1024, 'sea_level': 1024, 'grnd_level': 1007, 'humidity': 43, 'temp_kf': 0}, 'weather': [{'id': 801, 'main': 'Clouds', 'description': 'few clouds', 'icon': '02d'}], 'clouds': {'all': 13}, 'wind': {'speed': 1.87, 'deg': 69, 'gust': 2.7}, 'visibility': 10000, 'pop': 0, 'sys': {'pod': 'd'}, 'dt_txt': '2023-08-17 15:00:00'}, {'dt': 1692295200, 'main': {'temp': 292.09, 'feels_like': 291.87, 'temp_min': 292.09, 'temp_max': 292.09, 'pressure': 1025, 'sea_level': 1025, 'grnd_level': 1008, 'humidity': 70, 'temp_kf': 0}, 'weather': [{'id': 802, 'main': 'Clouds', 'description': 'scattered clouds', 'icon': '03d'}], 'clouds': {'all': 40}, 'wind': {'speed': 0.74, 'deg': 159, 'gust': 0.9}, 'visibility': 10000, 'pop': 0, 'sys': {'pod': 'd'}, 'dt_txt': '2023-08-17 18:00:00'}, {'dt': 1692306000, 'main': {'temp': 290.49, 'feels_like': 290.19, 'temp_min': 290.49, 'temp_max': 290.49, 'pressure': 1026, 'sea_level': 1026, 'grnd_level': 1009, 'humidity': 73, 'temp_kf': 0}, 'weather': [{'id': 804, 'main': 'Clouds', 'description': 'overcast clouds', 'icon': '04n'}], 'clouds': {'all': 100}, 'wind': {'speed': 0.87, 'deg': 15, 'gust': 0.83}, 'visibility': 10000, 'pop': 0, 'sys': {'pod': 'n'}, 'dt_txt': '2023-08-17 21:00:00'}, {'dt': 1692316800, 'main': {'temp': 289.21, 'feels_like': 288.78, 'temp_min': 289.21, 'temp_max': 289.21, 'pressure': 1026, 'sea_level': 1026, 'grnd_level': 1009, 'humidity': 73, 'temp_kf': 0}, 'weather': [{'id': 804, 'main': 'Clouds', 'description': 'overcast clouds', 'icon': '04n'}], 'clouds': {'all': 100}, 'wind': {'speed': 1.63, 'deg': 23, 'gust': 1.91}, 'visibility': 10000, 'pop': 0, 'sys': {'pod': 'n'}, 'dt_txt': '2023-08-18 00:00:00'}, {'dt': 1692327600, 'main': {'temp': 288.21, 'feels_like': 287.73, 'temp_min': 288.21, 'temp_max': 288.21, 'pressure': 1027, 'sea_level': 1027, 'grnd_level': 1010, 'humidity': 75, 'temp_kf': 0}, 'weather': [{'id': 804, 'main': 'Clouds', 'description': 'overcast clouds', 'icon': '04n'}], 'clouds': {'all': 100}, 'wind': {'speed': 1.59, 'deg': 27, 'gust': 1.81}, 'visibility': 10000, 'pop': 0, 'sys': {'pod': 'n'}, 'dt_txt': '2023-08-18 03:00:00'}, {'dt': 1692338400, 'main': {'temp': 288.21, 'feels_like': 287.81, 'temp_min': 288.21, 'temp_max': 288.21, 'pressure': 1027, 'sea_level': 1027, 'grnd_level': 1011, 'humidity': 78, 'temp_kf': 0}, 'weather': [{'id': 804, 'main': 'Clouds', 'description': 'overcast clouds', 'icon': '04d'}], 'clouds': {'all': 100}, 'wind': {'speed': 1.51, 'deg': 20, 'gust': 2.6}, 'visibility': 10000, 'pop': 0, 'sys': {'pod': 'd'}, 'dt_txt': '2023-08-18 06:00:00'}, {'dt': 1692349200, 'main': {'temp': 292.16, 'feels_like': 291.74, 'temp_min': 292.16, 'temp_max': 292.16, 'pressure': 1027, 'sea_level': 1027, 'grnd_level': 1011, 'humidity': 62, 'temp_kf': 0}, 'weather': [{'id': 804, 'main': 'Clouds', 'description': 'overcast clouds', 'icon': '04d'}], 'clouds': {'all': 100}, 'wind': {'speed': 2.24, 'deg': 43, 'gust': 3.9}, 'visibility': 10000, 'pop': 0, 'sys': {'pod': 'd'}, 'dt_txt': '2023-08-18 09:00:00'}, {'dt': 1692360000, 'main': {'temp': 295.28, 'feels_like': 294.8, 'temp_min': 295.28, 'temp_max': 295.28, 'pressure': 1026, 'sea_level': 1026, 'grnd_level': 1010, 'humidity': 48, 'temp_kf': 0}, 'weather': [{'id': 804, 'main': 'Clouds', 'description': 'overcast clouds', 'icon': '04d'}], 'clouds': {'all': 100}, 'wind': {'speed': 3.07, 'deg': 55, 'gust': 4.63}, 'visibility': 10000, 'pop': 0, 'sys': {'pod': 'd'}, 'dt_txt': '2023-08-18 12:00:00'}, {'dt': 1692370800, 'main': {'temp': 293.3, 'feels_like': 292.86, 'temp_min': 293.3, 'temp_max': 293.3, 'pressure': 1026, 'sea_level': 1026, 'grnd_level': 1009, 'humidity': 57, 'temp_kf': 0}, 'weather': [{'id': 804, 'main': 'Clouds', 'description': 'overcast clouds', 'icon': '04d'}], 'clouds': {'all': 100}, 'wind': {'speed': 2.86, 'deg': 66, 'gust': 6.11}, 'visibility': 10000, 'pop': 0, 'sys': {'pod': 'd'}, 'dt_txt': '2023-08-18 15:00:00'}, {'dt': 1692381600, 'main': {'temp': 290.98, 'feels_like': 290.65, 'temp_min': 290.98, 'temp_max': 290.98, 'pressure': 1025, 'sea_level': 1025, 'grnd_level': 1008, 'humidity': 70, 'temp_kf': 0}, 'weather': [{'id': 804, 'main': 'Clouds', 'description': 'overcast clouds', 'icon': '04d'}], 'clouds': {'all': 100}, 'wind': {'speed': 2.02, 'deg': 39, 'gust': 6.01}, 'visibility': 10000, 'pop': 0, 'sys': {'pod': 'd'}, 'dt_txt': '2023-08-18 18:00:00'}, {'dt': 1692392400, 'main': {'temp': 288.72, 'feels_like': 288.76, 'temp_min': 288.72, 'temp_max': 288.72, 'pressure': 1025, 'sea_level': 1025, 'grnd_level': 1009, 'humidity': 93, 'temp_kf': 0}, 'weather': [{'id': 500, 'main': 'Rain', 'description': 'light rain', 'icon': '10n'}], 'clouds': {'all': 100}, 'wind': {'speed': 1.64, 'deg': 50, 'gust': 6.11}, 'visibility': 10000, 'pop': 0.8, 'rain': {'3h': 0.63}, 'sys': {'pod': 'n'}, 'dt_txt': '2023-08-18 21:00:00'}, {'dt': 1692403200, 'main': {'temp': 287.97, 'feels_like': 288.01, 'temp_min': 287.97, 'temp_max': 287.97, 'pressure': 1025, 'sea_level': 1025, 'grnd_level': 1008, 'humidity': 96, 'temp_kf': 0}, 'weather': [{'id': 500, 'main': 'Rain', 'description': 'light rain', 'icon': '10n'}], 'clouds': {'all': 100}, 'wind': {'speed': 3.66, 'deg': 43, 'gust': 9.11}, 'visibility': 10000, 'pop': 0.88, 'rain': {'3h': 1.69}, 'sys': {'pod': 'n'}, 'dt_txt': '2023-08-19 00:00:00'}, {'dt': 1692414000, 'main': {'temp': 286.74, 'feels_like': 286.66, 'temp_min': 286.74, 'temp_max': 286.74, 'pressure': 1024, 'sea_level': 1024, 'grnd_level': 1007, 'humidity': 96, 'temp_kf': 0}, 'weather': [{'id': 500, 'main': 'Rain', 'description': 'light rain', 'icon': '10n'}], 'clouds': {'all': 100}, 'wind': {'speed': 3.68, 'deg': 29, 'gust': 9.43}, 'visibility': 10000, 'pop': 0.8, 'rain': {'3h': 0.5}, 'sys': {'pod': 'n'}, 'dt_txt': '2023-08-19 03:00:00'}, {'dt': 1692424800, 'main': {'temp': 286.61, 'feels_like': 286.44, 'temp_min': 286.61, 'temp_max': 286.61, 'pressure': 1023, 'sea_level': 1023, 'grnd_level': 1006, 'humidity': 93, 'temp_kf': 0}, 'weather': [{'id': 500, 'main': 'Rain', 'description': 'light rain', 'icon': '10d'}], 'clouds': {'all': 100}, 'wind': {'speed': 4.03, 'deg': 22, 'gust': 10.41}, 'visibility': 10000, 'pop': 0.96, 'rain': {'3h': 0.63}, 'sys': {'pod': 'd'}, 'dt_txt': '2023-08-19 06:00:00'}, {'dt': 1692435600, 'main': {'temp': 287.17, 'feels_like': 287.03, 'temp_min': 287.17, 'temp_max': 287.17, 'pressure': 1022, 'sea_level': 1022, 'grnd_level': 1005, 'humidity': 92, 'temp_kf': 0}, 'weather': [{'id': 500, 'main': 'Rain', 'description': 'light rain', 'icon': '10d'}], 'clouds': {'all': 100}, 'wind': {'speed': 3.77, 'deg': 29, 'gust': 9.6}, 'visibility': 10000, 'pop': 0.28, 'rain': {'3h': 0.13}, 'sys': {'pod': 'd'}, 'dt_txt': '2023-08-19 09:00:00'}, {'dt': 1692446400, 'main': {'temp': 289.13, 'feels_like': 289.19, 'temp_min': 289.13, 'temp_max': 289.13, 'pressure': 1021, 'sea_level': 1021, 'grnd_level': 1004, 'humidity': 92, 'temp_kf': 0}, 'weather': [{'id': 500, 'main': 'Rain', 'description': 'light rain', 'icon': '10d'}], 'clouds': {'all': 100}, 'wind': {'speed': 3.32, 'deg': 26, 'gust': 7.82}, 'visibility': 10000, 'pop': 0.88, 'rain': {'3h': 1}, 'sys': {'pod': 'd'}, 'dt_txt': '2023-08-19 12:00:00'}, {'dt': 1692457200, 'main': {'temp': 289.5, 'feels_like': 289.59, 'temp_min': 289.5, 'temp_max': 289.5, 'pressure': 1019, 'sea_level': 1019, 'grnd_level': 1003, 'humidity': 92, 'temp_kf': 0}, 'weather': [{'id': 804, 'main': 'Clouds', 'description': 'overcast clouds', 'icon': '04d'}], 'clouds': {'all': 100}, 'wind': {'speed': 2.79, 'deg': 346, 'gust': 6.94}, 'visibility': 10000, 'pop': 0.4, 'sys': {'pod': 'd'}, 'dt_txt': '2023-08-19 15:00:00'}, {'dt': 1692468000, 'main': {'temp': 288.79, 'feels_like': 288.94, 'temp_min': 288.79, 'temp_max': 288.79, 'pressure': 1018, 'sea_level': 1018, 'grnd_level': 1001, 'humidity': 97, 'temp_kf': 0}, 'weather': [{'id': 500, 'main': 'Rain', 'description': 'light rain', 'icon': '10d'}], 'clouds': {'all': 100}, 'wind': {'speed': 1.68, 'deg': 357, 'gust': 5.21}, 'visibility': 10000, 'pop': 0.68, 'rain': {'3h': 0.69}, 'sys': {'pod': 'd'}, 'dt_txt': '2023-08-19 18:00:00'}, {'dt': 1692478800, 'main': {'temp': 289.63, 'feels_like': 289.92, 'temp_min': 289.63, 'temp_max': 289.63, 'pressure': 1017, 'sea_level': 1017, 'grnd_level': 1000, 'humidity': 99, 'temp_kf': 0}, 'weather': [{'id': 500, 'main': 'Rain', 'description': 'light rain', 'icon': '10n'}], 'clouds': {'all': 100}, 'wind': {'speed': 1.3, 'deg': 63, 'gust': 4}, 'visibility': 10000, 'pop': 1, 'rain': {'3h': 0.81}, 'sys': {'pod': 'n'}, 'dt_txt': '2023-08-19 21:00:00'}, {'dt': 1692489600, 'main': {'temp': 290.67, 'feels_like': 291.04, 'temp_min': 290.67, 'temp_max': 290.67, 'pressure': 1014, 'sea_level': 1014, 'grnd_level': 998, 'humidity': 98, 'temp_kf': 0}, 'weather': [{'id': 501, 'main': 'Rain', 'description': 'moderate rain', 'icon': '10n'}], 'clouds': {'all': 100}, 'wind': {'speed': 2.83, 'deg': 105, 'gust': 9.7}, 'visibility': 3039, 'pop': 1, 'rain': {'3h': 3.69}, 'sys': {'pod': 'n'}, 'dt_txt': '2023-08-20 00:00:00'}, {'dt': 1692500400, 'main': {'temp': 290.12, 'feels_like': 290.46, 'temp_min': 290.12, 'temp_max': 290.12, 'pressure': 1014, 'sea_level': 1014, 'grnd_level': 997, 'humidity': 99, 'temp_kf': 0}, 'weather': [{'id': 501, 'main': 'Rain', 'description': 'moderate rain', 'icon': '10n'}], 'clouds': {'all': 100}, 'wind': {'speed': 2.98, 'deg': 174, 'gust': 7.42}, 'visibility': 114, 'pop': 0.96, 'rain': {'3h': 7.25}, 'sys': {'pod': 'n'}, 'dt_txt': '2023-08-20 03:00:00'}, {'dt': 1692511200, 'main': {'temp': 289.7, 'feels_like': 290, 'temp_min': 289.7, 'temp_max': 289.7, 'pressure': 1014, 'sea_level': 1014, 'grnd_level': 998, 'humidity': 99, 'temp_kf': 0}, 'weather': [{'id': 804, 'main': 'Clouds', 'description': 'overcast clouds', 'icon': '04d'}], 'clouds': {'all': 100}, 'wind': {'speed': 1.21, 'deg': 183, 'gust': 4.13}, 'visibility': 69, 'pop': 0.72, 'sys': {'pod': 'd'}, 'dt_txt': '2023-08-20 06:00:00'}, {'dt': 1692522000, 'main': {'temp': 290.27, 'feels_like': 290.52, 'temp_min': 290.27, 'temp_max': 290.27, 'pressure': 1015, 'sea_level': 1015, 'grnd_level': 998, 'humidity': 95, 'temp_kf': 0}, 'weather': [{'id': 804, 'main': 'Clouds', 'description': 'overcast clouds', 'icon': '04d'}], 'clouds': {'all': 100}, 'wind': {'speed': 0.99, 'deg': 241, 'gust': 1.9}, 'visibility': 10000, 'pop': 0.12, 'sys': {'pod': 'd'}, 'dt_txt': '2023-08-20 09:00:00'}, {'dt': 1692532800, 'main': {'temp': 293.22, 'feels_like': 293.37, 'temp_min': 293.22, 'temp_max': 293.22, 'pressure': 1015, 'sea_level': 1015, 'grnd_level': 999, 'humidity': 80, 'temp_kf': 0}, 'weather': [{'id': 500, 'main': 'Rain', 'description': 'light rain', 'icon': '10d'}], 'clouds': {'all': 100}, 'wind': {'speed': 1.14, 'deg': 236, 'gust': 2.3}, 'visibility': 10000, 'pop': 0.24, 'rain': {'3h': 0.13}, 'sys': {'pod': 'd'}, 'dt_txt': '2023-08-20 12:00:00'}], 'city': {'id': 3139081, 'name': 'Ski', 'coord': {'lat': 59.7195, 'lon': 10.8358}, 'country': 'NO', 'population': 12513, 'timezone': 7200, 'sunrise': 1692070283, 'sunset': 1692126679}}\")\n"
     ]
    }
   ],
   "source": [
    "# Query the data\n",
    "forecast_rows = session.execute(\"SELECT * FROM forecast_table;\")\n",
    "print(forecast_rows.one()) # <- only one row"
   ]
  }
 ],
 "metadata": {
  "kernelspec": {
   "display_name": "tf_M1",
   "language": "python",
   "name": "python3"
  },
  "language_info": {
   "codemirror_mode": {
    "name": "ipython",
    "version": 3
   },
   "file_extension": ".py",
   "mimetype": "text/x-python",
   "name": "python",
   "nbconvert_exporter": "python",
   "pygments_lexer": "ipython3",
   "version": "3.10.6"
  }
 },
 "nbformat": 4,
 "nbformat_minor": 2
}